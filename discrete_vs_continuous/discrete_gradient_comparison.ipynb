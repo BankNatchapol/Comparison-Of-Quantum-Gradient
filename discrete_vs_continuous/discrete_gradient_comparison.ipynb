{
  "nbformat": 4,
  "nbformat_minor": 0,
  "metadata": {
    "colab": {
      "name": "discrete_gradient_comparison.ipynb",
      "provenance": [],
      "collapsed_sections": [],
      "toc_visible": true,
      "authorship_tag": "ABX9TyNULEnZlQ+XhgAq8669AGtZ",
      "include_colab_link": true
    },
    "kernelspec": {
      "name": "python3",
      "display_name": "Python 3"
    },
    "language_info": {
      "name": "python"
    }
  },
  "cells": [
    {
      "cell_type": "markdown",
      "metadata": {
        "id": "view-in-github",
        "colab_type": "text"
      },
      "source": [
        "<a href=\"https://colab.research.google.com/github/BankNatchapol/Comparison-Of-Quantum-Gradient/blob/main/discrete_vs_continuous/discrete_gradient_comparison.ipynb\" target=\"_parent\"><img src=\"https://colab.research.google.com/assets/colab-badge.svg\" alt=\"Open In Colab\"/></a>"
      ]
    },
    {
      "cell_type": "code",
      "metadata": {
        "id": "SBqFCoePuw6c"
      },
      "source": [
        "!pip install pennylane-sf"
      ],
      "execution_count": null,
      "outputs": []
    },
    {
      "cell_type": "code",
      "metadata": {
        "id": "F5tj-C8xu5W_"
      },
      "source": [
        "import pennylane as qml\n",
        "from pennylane import numpy as np\n",
        "from pennylane.optimize import GradientDescentOptimizer\n",
        "\n",
        "import pandas as pd\n",
        "\n",
        "import networkx as nx\n",
        "import matplotlib.pyplot as plt\n",
        "import plotly.graph_objects as go\n",
        "import plotly.express as px"
      ],
      "execution_count": 2,
      "outputs": []
    },
    {
      "cell_type": "markdown",
      "metadata": {
        "id": "cmviO3033yq1"
      },
      "source": [
        "# **Gradient methods**"
      ]
    },
    {
      "cell_type": "code",
      "metadata": {
        "cellView": "form",
        "id": "OymV5r-5ILlA"
      },
      "source": [
        "#@title Auxilary function\n",
        "import warnings\n",
        "warnings.filterwarnings(\"ignore\")\n",
        "\n",
        "param_gates = ['RX', 'RY', 'RZ']\n",
        "\n",
        "def padding(params):\n",
        "    j = 0\n",
        "    padded = []\n",
        "    for i in range(len(ansatz_lcu)):\n",
        "      if ansatz_lcu[i] in param_gates:\n",
        "        padded.append(params[j])\n",
        "        j+=1\n",
        "      else:\n",
        "        padded.append(None)\n",
        "    return np.array(padded)\n",
        "\n",
        "def projector1(wires):\n",
        "  projector = np.zeros((2, 2))\n",
        "  projector[1,1] = 1\n",
        "  qml.QubitUnitary(projector, wires=wires)\n",
        "\n",
        "def str2gate(gate):\n",
        "  if gate == 'H':\n",
        "    return qml.Hadamard\n",
        "  elif gate == 'X':\n",
        "    return qml.PauliX\n",
        "  elif gate == 'Y':\n",
        "    return qml.PauliY\n",
        "  elif gate == 'Z':\n",
        "    return qml.PauliZ\n",
        "  elif gate == 'RX':\n",
        "    return qml.RX\n",
        "  elif gate == 'RY':\n",
        "    return qml.RY\n",
        "  elif gate == 'RZ':\n",
        "    return qml.RZ\n",
        "  elif gate == 'Projector1':\n",
        "    return projector1\n",
        "  else:\n",
        "    assert 0, \"Gate not support.\"\n",
        "\n",
        "def controlStr(gate):\n",
        "  if gate == 'RX':\n",
        "    return qml.CNOT\n",
        "  elif gate == 'RY':\n",
        "    return qml.CY\n",
        "  elif gate == 'RZ':\n",
        "    return qml.CZ\n",
        "  else:\n",
        "    assert 0, \"Gate not support.\"\n",
        "    \n",
        "def print_ansatz(ansatz, coeffs, wires):\n",
        "  coeffs = padding(coeffs)\n",
        "  @qml.qnode(dev1)\n",
        "  def ansatz_construct(ansatz, coeffs, wires):\n",
        "    ansatz = [a.numpy() for a in ansatz]\n",
        "    coeffs = [c.numpy() for c in coeffs]\n",
        "    wires = [w.numpy() for w in wires]\n",
        "\n",
        "    for i, coeff in enumerate(coeffs):\n",
        "      if not coeff:\n",
        "        if ansatz[i] ==  'Problem':\n",
        "          problem(wires[i])\n",
        "        else:\n",
        "          str2gate(ansatz[i])(wires=wires[i])\n",
        "      else:\n",
        "        str2gate(ansatz[i])(coeff, wires=wires[i])\n",
        "\n",
        "    return qml.state()\n",
        "  print(qml.draw(ansatz_construct)(ansatz, coeffs, wires))"
      ],
      "execution_count": 53,
      "outputs": []
    },
    {
      "cell_type": "markdown",
      "metadata": {
        "id": "MkUA_AeHFcch"
      },
      "source": [
        "## Parameter shift"
      ]
    },
    {
      "cell_type": "code",
      "metadata": {
        "id": "uE0xRpQ0utWz"
      },
      "source": [
        "num_wires = 1\n",
        "dev1 = qml.device(\"default.qubit\", wires=num_wires)\n",
        "\n",
        "num_wires = 2\n",
        "dev2 = qml.device(\"default.qubit\", wires=num_wires)"
      ],
      "execution_count": 27,
      "outputs": []
    },
    {
      "cell_type": "code",
      "metadata": {
        "id": "10x49co1u-fB"
      },
      "source": [
        "def parameter_shift_term(qnode, params, i, j):\n",
        "    \n",
        "    shifted = params.copy()\n",
        "    \n",
        "    shifted[i, j] += np.pi/2\n",
        "    forward = qnode(shifted)  # forward evaluation\n",
        "\n",
        "    shifted[i, j] -= np.pi\n",
        "    backward = qnode(shifted) # backward evaluation\n",
        "\n",
        "    return 0.5 * (forward - backward)\n",
        "\n",
        "def parameter_shift(qnode, params):\n",
        "    gradients = np.zeros_like((params))\n",
        "    for i in range(len(gradients)):\n",
        "        for j in range(len(gradients[0])):\n",
        "            gradients[i, j] += parameter_shift_term(qnode, params, i, j)\n",
        "\n",
        "    return gradients\n",
        "  \n",
        "gate_list = ['R', 'S1', 'D1'] "
      ],
      "execution_count": 5,
      "outputs": []
    },
    {
      "cell_type": "markdown",
      "metadata": {
        "id": "9Xjz6nrvFgo5"
      },
      "source": [
        "## Finite difference"
      ]
    },
    {
      "cell_type": "code",
      "metadata": {
        "id": "8AIs9cEARFdc"
      },
      "source": [
        "def finite_term(qnode, params, i, j):\n",
        "    \n",
        "    eps = 0.01\n",
        "\n",
        "    shifted = params.copy()\n",
        "    \n",
        "    shifted[i, j] += eps\n",
        "    forward = qnode(shifted)  # forward evaluation\n",
        "\n",
        "    shifted[i, j] -= 2*eps\n",
        "    backward = qnode(shifted) # backward evaluation\n",
        "\n",
        "    return (1/(2*eps)) * (forward - backward)\n",
        "\n",
        "def finite_difference(qnode, params):\n",
        "    gradients = np.zeros_like((params))\n",
        "    for i in range(len(gradients)):\n",
        "        for j in range(len(gradients[0])):\n",
        "            gradients[i, j] += finite_term(qnode, params, i, j)\n",
        "\n",
        "    return gradients"
      ],
      "execution_count": 6,
      "outputs": []
    },
    {
      "cell_type": "markdown",
      "metadata": {
        "id": "CZZLktz8FjsV"
      },
      "source": [
        "## Linear Combination of Unitaries(LCU)"
      ]
    },
    {
      "cell_type": "code",
      "metadata": {
        "id": "kpDaASDEF0RB"
      },
      "source": [
        "def lcu_term(ansatz, params, wires, diff_index):\n",
        "  qml.Hadamard(wires=1)\n",
        "  qml.adjoint(qml.S)(wires=1)\n",
        "\n",
        "  for i, gate in enumerate(ansatz):\n",
        "    if gate in param_gates:\n",
        "      if i == diff_index:\n",
        "        controlStr(gate)(wires=[1, 0])\n",
        "      str2gate(gate)(params[i], wires=wires[i])\n",
        "    else:\n",
        "      if gate == 'Problem':\n",
        "        problem()\n",
        "      else:\n",
        "        str2gate(gate)(wires=wires[i])\n",
        "    \n",
        "  qml.Hadamard(wires=1)\n",
        "\n",
        "\n",
        "def lcu_term_adjointed(ansatz, params, wires, diff_index):\n",
        "  ansatz = [a for a in reversed(ansatz)]\n",
        "  params = params[::-1]\n",
        "\n",
        "  qml.Hadamard(wires=1)\n",
        "  for i, gate in enumerate(ansatz):\n",
        "    if gate in param_gates:\n",
        "      str2gate(gate)(-params[i], wires=wires[i])\n",
        "      if i == len(ansatz)-diff_index-1:\n",
        "        controlStr(gate)(wires=[1, 0])\n",
        "    else:\n",
        "      if gate == 'Problem':\n",
        "         qml.adjoint(problem)()\n",
        "      else:\n",
        "        str2gate(gate)(wires=wires[i])\n",
        "\n",
        "  qml.S(wires=1)\n",
        "  qml.Hadamard(wires=1)\n",
        "\n",
        "\n",
        "@qml.qnode(dev2)\n",
        "def lcu(ansatz, H, ham_wires, params, wires, diff_index):\n",
        "  ansatz = [a.numpy() for a in ansatz]\n",
        "  wires = [w.numpy() for w in wires]\n",
        "  ham_wires = ham_wires.numpy()\n",
        "\n",
        "  lcu_term(ansatz, params, wires, diff_index)\n",
        "  str2gate(H)(wires=ham_wires)\n",
        "  str2gate('Z')(wires=1)\n",
        "  lcu_term_adjointed(ansatz, params, wires, diff_index)\n",
        "\n",
        "  return qml.state()\n",
        "\n",
        "def lcu_gradients(ansatz, H, ham_wires, ham_coeffs, params, wires):\n",
        "\n",
        "  params = padding(params)\n",
        "\n",
        "  gradients = []\n",
        "  for i in range(len(ansatz)):\n",
        "    if ansatz[i] in param_gates:\n",
        "      gradients.append(sum([lcu(ansatz, H[h], ham_wires[h], params, wires, i)[0].numpy()*ham_coeffs[h] for h in range(len(H))]).real)\n",
        "\n",
        "  return gradients"
      ],
      "execution_count": 7,
      "outputs": []
    },
    {
      "cell_type": "markdown",
      "metadata": {
        "id": "7oOYIsk033zu"
      },
      "source": [
        "# **Problem** : Quantum gate estimation"
      ]
    },
    {
      "cell_type": "markdown",
      "metadata": {
        "id": "kqRA7CVVRbzD"
      },
      "source": [
        "\n",
        "Using $U3(1.1, 0.5, 2.3)$ as target gate"
      ]
    },
    {
      "cell_type": "code",
      "metadata": {
        "id": "ptd1RUJU5UE9"
      },
      "source": [
        "# problem gate \n",
        "def problem():\n",
        "    qml.U3(1.44, 0.8, 2.1, wires=0)"
      ],
      "execution_count": 8,
      "outputs": []
    },
    {
      "cell_type": "markdown",
      "metadata": {
        "id": "TXRoSVgr5VYd"
      },
      "source": [
        "Ansatz for estimating target gate"
      ]
    },
    {
      "cell_type": "code",
      "metadata": {
        "id": "cmWZibCLr1-6"
      },
      "source": [
        "# guesting ansatz state\n",
        "def ansatz(var):\n",
        "    for wire in range(num_wires):\n",
        "      qml.Hadamard(wires=wire)\n",
        "      qml.RX(var[0+wire], wires=wire)\n",
        "      qml.RY(var[1+wire], wires=wire)\n",
        "      qml.RZ(var[2+wire], wires=wire)"
      ],
      "execution_count": 9,
      "outputs": []
    },
    {
      "cell_type": "markdown",
      "metadata": {
        "id": "QsuSJSbk5gnL"
      },
      "source": [
        "Objective function <br> \n",
        "1. initial state is  $|0⟩$\n",
        "2. apply target gate $U(\\theta)|0⟩$ <br> \n",
        "the state will be $|\\psi⟩ = a|0⟩+b|1⟩$ \n",
        "3. apply ansatz $A(\\alpha)$  <br> \n",
        "the state will be $A(\\alpha)|\\psi⟩ = |\\psi'⟩$\n",
        "4. if $A(\\alpha) = U(\\theta)$ then  $|\\psi'⟩= 1|0⟩ + 0|1⟩ = |0⟩$\n",
        "5. so, we will minimize $b|1⟩$ to target $0|1⟩$ to make $A(\\alpha) = U(\\theta)$\n"
      ]
    },
    {
      "cell_type": "code",
      "metadata": {
        "id": "jz3X0YaN5f65"
      },
      "source": [
        "# objective function\n",
        "@qml.qnode(dev1)\n",
        "def cost_function(var):\n",
        "    for v in var: \n",
        "      ansatz(v)\n",
        "\n",
        "    problem() # problem gate \n",
        "\n",
        "    return qml.expval(qml.Projector([1],wires=0)) # get amplitude of of |1>"
      ],
      "execution_count": 28,
      "outputs": []
    },
    {
      "cell_type": "markdown",
      "metadata": {
        "id": "6zoLalj09Swx"
      },
      "source": [
        "Probability distribution of target gate "
      ]
    },
    {
      "cell_type": "code",
      "metadata": {
        "id": "UHyPHh769CFn"
      },
      "source": [
        "# target result of problem gate\n",
        "@qml.qnode(dev1)\n",
        "def target():\n",
        "    problem()\n",
        "    return qml.probs(wires=[0])  # get target probability"
      ],
      "execution_count": 29,
      "outputs": []
    },
    {
      "cell_type": "markdown",
      "metadata": {
        "id": "U-Uy87BL98bh"
      },
      "source": [
        "Probability distribution of estimated gate "
      ]
    },
    {
      "cell_type": "code",
      "metadata": {
        "id": "1tV5rVji9kZv"
      },
      "source": [
        "# prediction circuit\n",
        "@qml.qnode(dev1)\n",
        "def prediction(var):\n",
        "    for v in var:\n",
        "      ansatz(v)\n",
        "    return qml.probs(wires=[0])  # get prediction probability"
      ],
      "execution_count": 30,
      "outputs": []
    },
    {
      "cell_type": "code",
      "metadata": {
        "colab": {
          "base_uri": "https://localhost:8080/"
        },
        "id": "GF9IHpv-vMYl",
        "outputId": "ff0706a8-6d5c-4851-f246-4e997a693322"
      },
      "source": [
        "print(\"Target state: \", target())"
      ],
      "execution_count": 31,
      "outputs": [
        {
          "output_type": "stream",
          "text": [
            "Target state:  [0.56521185 0.43478815]\n"
          ],
          "name": "stdout"
        }
      ]
    },
    {
      "cell_type": "code",
      "metadata": {
        "id": "d6tRbcsMvM0F"
      },
      "source": [
        "np.random.seed(1)\n",
        "num_wires = 1\n",
        "num_layers = 2\n",
        "var_init = 0.05*np.random.randn(num_layers, 3*num_wires)"
      ],
      "execution_count": 37,
      "outputs": []
    },
    {
      "cell_type": "code",
      "metadata": {
        "colab": {
          "base_uri": "https://localhost:8080/"
        },
        "id": "29C6GDYBvUYp",
        "outputId": "34f0c357-c0fb-45a3-f12c-69f59acb6089"
      },
      "source": [
        "print(\"Initial cost: \", cost_function(var_init))"
      ],
      "execution_count": 38,
      "outputs": [
        {
          "output_type": "stream",
          "text": [
            "Initial cost:  0.38420647954293236\n"
          ],
          "name": "stdout"
        }
      ]
    },
    {
      "cell_type": "markdown",
      "metadata": {
        "id": "C9k03eA5-l06"
      },
      "source": [
        "Training with parameter shift rule and gradient descent optimizer"
      ]
    },
    {
      "cell_type": "code",
      "metadata": {
        "colab": {
          "base_uri": "https://localhost:8080/"
        },
        "id": "0t_JHnhVvfzR",
        "outputId": "98c35976-9908-49d2-aca1-b88ca140f519"
      },
      "source": [
        "opt = GradientDescentOptimizer(0.01)\n",
        "\n",
        "var = var_init.copy()\n",
        "loss_plot = []\n",
        "\n",
        "for it in range(1201):# while True:\n",
        "    var, _cost = opt.step_and_cost(lambda v: cost_function(v), var, \n",
        "                                   grad_fn=lambda var: parameter_shift(cost_function, var)) \n",
        "    loss_plot.append(_cost)\n",
        "\n",
        "    if it%100==0:\n",
        "      print(\"Iter: {:5d} | Cost: {:0.11f} \".format(it, _cost))"
      ],
      "execution_count": 39,
      "outputs": [
        {
          "output_type": "stream",
          "text": [
            "Iter:     0 | Cost: 0.38420647954 \n",
            "Iter:   100 | Cost: 0.07905926083 \n",
            "Iter:   200 | Cost: 0.01260131677 \n",
            "Iter:   300 | Cost: 0.00204853691 \n",
            "Iter:   400 | Cost: 0.00034842518 \n",
            "Iter:   500 | Cost: 0.00006112723 \n",
            "Iter:   600 | Cost: 0.00001091990 \n",
            "Iter:   700 | Cost: 0.00000197059 \n",
            "Iter:   800 | Cost: 0.00000035761 \n",
            "Iter:   900 | Cost: 0.00000006510 \n",
            "Iter:  1000 | Cost: 0.00000001187 \n",
            "Iter:  1100 | Cost: 0.00000000217 \n",
            "Iter:  1200 | Cost: 0.00000000040 \n"
          ],
          "name": "stdout"
        }
      ]
    },
    {
      "cell_type": "code",
      "metadata": {
        "colab": {
          "base_uri": "https://localhost:8080/"
        },
        "id": "BR87ifUYRp4l",
        "outputId": "26eafb92-a25a-4797-ab00-93b9cf6af4f3"
      },
      "source": [
        "opt = GradientDescentOptimizer(0.01)\n",
        "\n",
        "var_fd = var_init.copy()\n",
        "loss_plot_fd = []\n",
        "\n",
        "for it in range(1201):# while True:\n",
        "    var_fd, _cost = opt.step_and_cost(lambda v: cost_function(v), var_fd, \n",
        "                                   grad_fn=lambda var_fd: finite_difference(cost_function, var_fd)) \n",
        "    loss_plot_fd.append(_cost)\n",
        "\n",
        "    if it%100==0:\n",
        "      print(\"Iter: {:5d} | Cost: {:0.11f} \".format(it, _cost))"
      ],
      "execution_count": 40,
      "outputs": [
        {
          "output_type": "stream",
          "text": [
            "Iter:     0 | Cost: 0.38420647954 \n",
            "Iter:   100 | Cost: 0.07906163434 \n",
            "Iter:   200 | Cost: 0.01260209243 \n",
            "Iter:   300 | Cost: 0.00204872124 \n",
            "Iter:   400 | Cost: 0.00034846608 \n",
            "Iter:   500 | Cost: 0.00006113608 \n",
            "Iter:   600 | Cost: 0.00001092178 \n",
            "Iter:   700 | Cost: 0.00000197099 \n",
            "Iter:   800 | Cost: 0.00000035769 \n",
            "Iter:   900 | Cost: 0.00000006511 \n",
            "Iter:  1000 | Cost: 0.00000001187 \n",
            "Iter:  1100 | Cost: 0.00000000217 \n",
            "Iter:  1200 | Cost: 0.00000000040 \n"
          ],
          "name": "stdout"
        }
      ]
    },
    {
      "cell_type": "code",
      "metadata": {
        "id": "mwyjhS-tH-AB"
      },
      "source": [
        "def ansatz_circuit_lcu(ansatz, var, wires):\n",
        "  var = padding(var)\n",
        "  for i, gate in enumerate(ansatz):\n",
        "    if var[i]:\n",
        "      str2gate(gate)(var[i], wires=wires[i])  \n",
        "    else:\n",
        "      str2gate(gate)(wires=wires[i])  \n",
        "\n",
        "\n",
        "@qml.qnode(dev1)\n",
        "def cost_function_lcu(ansatz, params, wires):\n",
        "  ansatz = [a.numpy() for a in ansatz]\n",
        "  wires = [w.numpy() for w in wires]\n",
        "\n",
        "  ansatz_circuit_lcu(ansatz[:-1], params, wires[:-1])\n",
        "\n",
        "  problem()\n",
        "\n",
        "  return qml.expval(qml.Projector([1], wires=0))\n",
        "\n",
        "@qml.qnode(dev1)\n",
        "def prediction_lcu(ansatz, params, wires):\n",
        "  ansatz = [a.numpy() for a in ansatz]\n",
        "  wires = [w.numpy() for w in wires]\n",
        "\n",
        "  ansatz_circuit_lcu(ansatz[:-1], params, wires[:-1])\n",
        "  \n",
        "  return qml.probs(wires=[0])\n",
        "\n",
        "@qml.qnode(dev1)\n",
        "def target_lcu(wires):\n",
        "  problem()\n",
        "  return qml.probs(wires=[0])"
      ],
      "execution_count": 57,
      "outputs": []
    },
    {
      "cell_type": "code",
      "metadata": {
        "colab": {
          "base_uri": "https://localhost:8080/"
        },
        "id": "uyHiLLSKIXPf",
        "outputId": "f577ddb1-3ced-4dca-cd02-0d9726e74e9f"
      },
      "source": [
        "np.random.seed(1)\n",
        "\n",
        "num_layers = 2\n",
        "num_wires = 1\n",
        "\n",
        "ansatz_lcu = ['H', 'RX', 'RY', 'RZ']*num_layers + ['Problem']\n",
        "wires_lcu = [0, 0, 0, 0]*num_layers + [0]\n",
        "\n",
        "H = ['Projector1']\n",
        "ham_wires = [0]\n",
        "ham_coeffs = [1.0]\n",
        "\n",
        "params_init= 0.05*np.random.randn(1, 3*num_wires*num_layers)[0]\n",
        "\n",
        "opt = GradientDescentOptimizer(0.01)\n",
        "\n",
        "var_lcu = params_init.copy()\n",
        "loss_plot_lcu  = []\n",
        "\n",
        "for it in range(1201):# while True:\n",
        "    var_lcu, _cost = opt.step_and_cost(lambda v: cost_function_lcu(ansatz_lcu, v, wires_lcu), var_lcu, \n",
        "                                   grad_fn=lambda var_lcu: lcu_gradients(ansatz_lcu, H, ham_wires, ham_coeffs, var_lcu, wires_lcu)) \n",
        "    loss_plot_lcu.append(_cost)\n",
        "\n",
        "    if it%100==0:\n",
        "      print(\"Iter: {:5d} | Cost: {:0.11f} \".format(it, _cost))"
      ],
      "execution_count": 58,
      "outputs": [
        {
          "output_type": "stream",
          "text": [
            "Iter:     0 | Cost: 0.38420647954 \n",
            "Iter:   100 | Cost: 0.07905926083 \n",
            "Iter:   200 | Cost: 0.01260131677 \n",
            "Iter:   300 | Cost: 0.00204853691 \n",
            "Iter:   400 | Cost: 0.00034842518 \n",
            "Iter:   500 | Cost: 0.00006112723 \n",
            "Iter:   600 | Cost: 0.00001091990 \n",
            "Iter:   700 | Cost: 0.00000197059 \n",
            "Iter:   800 | Cost: 0.00000035761 \n",
            "Iter:   900 | Cost: 0.00000006510 \n",
            "Iter:  1000 | Cost: 0.00000001187 \n",
            "Iter:  1100 | Cost: 0.00000000217 \n",
            "Iter:  1200 | Cost: 0.00000000040 \n"
          ],
          "name": "stdout"
        }
      ]
    },
    {
      "cell_type": "markdown",
      "metadata": {
        "id": "HYtWFM94L1Ij"
      },
      "source": [
        "# **Loss comparison**"
      ]
    },
    {
      "cell_type": "code",
      "metadata": {
        "colab": {
          "base_uri": "https://localhost:8080/",
          "height": 542
        },
        "id": "hxZiljFSGWWG",
        "cellView": "form",
        "outputId": "48b2fb05-4c11-4b53-e846-4ade94ef247c"
      },
      "source": [
        "#@title \n",
        "dv = pd.DataFrame({\"Iteration\":range(len(loss_plot)), \"Loss\":loss_plot})\n",
        "dv_fd = pd.DataFrame({\"Iteration\":range(len(loss_plot_fd)), \"Loss\":loss_plot_fd})\n",
        "dv_lcu = pd.DataFrame({\"Iteration\":range(len(loss_plot_lcu)), \"Loss\":loss_plot_lcu})\n",
        "\n",
        "fig = go.Figure()\n",
        "fig.add_trace(go.Scatter(x=dv[\"Iteration\"], y=dv[\"Loss\"], name=\"Discrete parameter shift\"))\n",
        "fig.add_trace(go.Scatter(x=dv_fd[\"Iteration\"], y=dv_fd[\"Loss\"], mode=\"lines\", name=\"Discrete finite difference\", line = dict(width=2, dash='dash')))\n",
        "fig.add_trace(go.Scatter(x=dv_lcu[\"Iteration\"], y=dv_lcu[\"Loss\"], mode=\"lines\", name=\"Discrete LCU\", line = dict(width=2, dash='dash')))\n",
        "fig.update_layout(title_text='Loss comparison')\n",
        "fig.show()"
      ],
      "execution_count": 60,
      "outputs": [
        {
          "output_type": "display_data",
          "data": {
            "text/html": [
              "<html>\n",
              "<head><meta charset=\"utf-8\" /></head>\n",
              "<body>\n",
              "    <div>\n",
              "            <script src=\"https://cdnjs.cloudflare.com/ajax/libs/mathjax/2.7.5/MathJax.js?config=TeX-AMS-MML_SVG\"></script><script type=\"text/javascript\">if (window.MathJax) {MathJax.Hub.Config({SVG: {font: \"STIX-Web\"}});}</script>\n",
              "                <script type=\"text/javascript\">window.PlotlyConfig = {MathJaxConfig: 'local'};</script>\n",
              "        <script src=\"https://cdn.plot.ly/plotly-latest.min.js\"></script>    \n",
              "            <div id=\"454b5489-6035-475b-913c-463eeeb5dd69\" class=\"plotly-graph-div\" style=\"height:525px; width:100%;\"></div>\n",
              "            <script type=\"text/javascript\">\n",
              "                \n",
              "                    window.PLOTLYENV=window.PLOTLYENV || {};\n",
              "                    \n",
              "                if (document.getElementById(\"454b5489-6035-475b-913c-463eeeb5dd69\")) {\n",
              "                    Plotly.newPlot(\n",
              "                        '454b5489-6035-475b-913c-463eeeb5dd69',\n",
              "                        [{\"name\": \"Discrete parameter shift\", \"type\": \"scatter\", \"x\": [0, 1, 2, 3, 4, 5, 6, 7, 8, 9, 10, 11, 12, 13, 14, 15, 16, 17, 18, 19, 20, 21, 22, 23, 24, 25, 26, 27, 28, 29, 30, 31, 32, 33, 34, 35, 36, 37, 38, 39, 40, 41, 42, 43, 44, 45, 46, 47, 48, 49, 50, 51, 52, 53, 54, 55, 56, 57, 58, 59, 60, 61, 62, 63, 64, 65, 66, 67, 68, 69, 70, 71, 72, 73, 74, 75, 76, 77, 78, 79, 80, 81, 82, 83, 84, 85, 86, 87, 88, 89, 90, 91, 92, 93, 94, 95, 96, 97, 98, 99, 100, 101, 102, 103, 104, 105, 106, 107, 108, 109, 110, 111, 112, 113, 114, 115, 116, 117, 118, 119, 120, 121, 122, 123, 124, 125, 126, 127, 128, 129, 130, 131, 132, 133, 134, 135, 136, 137, 138, 139, 140, 141, 142, 143, 144, 145, 146, 147, 148, 149, 150, 151, 152, 153, 154, 155, 156, 157, 158, 159, 160, 161, 162, 163, 164, 165, 166, 167, 168, 169, 170, 171, 172, 173, 174, 175, 176, 177, 178, 179, 180, 181, 182, 183, 184, 185, 186, 187, 188, 189, 190, 191, 192, 193, 194, 195, 196, 197, 198, 199, 200, 201, 202, 203, 204, 205, 206, 207, 208, 209, 210, 211, 212, 213, 214, 215, 216, 217, 218, 219, 220, 221, 222, 223, 224, 225, 226, 227, 228, 229, 230, 231, 232, 233, 234, 235, 236, 237, 238, 239, 240, 241, 242, 243, 244, 245, 246, 247, 248, 249, 250, 251, 252, 253, 254, 255, 256, 257, 258, 259, 260, 261, 262, 263, 264, 265, 266, 267, 268, 269, 270, 271, 272, 273, 274, 275, 276, 277, 278, 279, 280, 281, 282, 283, 284, 285, 286, 287, 288, 289, 290, 291, 292, 293, 294, 295, 296, 297, 298, 299, 300, 301, 302, 303, 304, 305, 306, 307, 308, 309, 310, 311, 312, 313, 314, 315, 316, 317, 318, 319, 320, 321, 322, 323, 324, 325, 326, 327, 328, 329, 330, 331, 332, 333, 334, 335, 336, 337, 338, 339, 340, 341, 342, 343, 344, 345, 346, 347, 348, 349, 350, 351, 352, 353, 354, 355, 356, 357, 358, 359, 360, 361, 362, 363, 364, 365, 366, 367, 368, 369, 370, 371, 372, 373, 374, 375, 376, 377, 378, 379, 380, 381, 382, 383, 384, 385, 386, 387, 388, 389, 390, 391, 392, 393, 394, 395, 396, 397, 398, 399, 400, 401, 402, 403, 404, 405, 406, 407, 408, 409, 410, 411, 412, 413, 414, 415, 416, 417, 418, 419, 420, 421, 422, 423, 424, 425, 426, 427, 428, 429, 430, 431, 432, 433, 434, 435, 436, 437, 438, 439, 440, 441, 442, 443, 444, 445, 446, 447, 448, 449, 450, 451, 452, 453, 454, 455, 456, 457, 458, 459, 460, 461, 462, 463, 464, 465, 466, 467, 468, 469, 470, 471, 472, 473, 474, 475, 476, 477, 478, 479, 480, 481, 482, 483, 484, 485, 486, 487, 488, 489, 490, 491, 492, 493, 494, 495, 496, 497, 498, 499, 500, 501, 502, 503, 504, 505, 506, 507, 508, 509, 510, 511, 512, 513, 514, 515, 516, 517, 518, 519, 520, 521, 522, 523, 524, 525, 526, 527, 528, 529, 530, 531, 532, 533, 534, 535, 536, 537, 538, 539, 540, 541, 542, 543, 544, 545, 546, 547, 548, 549, 550, 551, 552, 553, 554, 555, 556, 557, 558, 559, 560, 561, 562, 563, 564, 565, 566, 567, 568, 569, 570, 571, 572, 573, 574, 575, 576, 577, 578, 579, 580, 581, 582, 583, 584, 585, 586, 587, 588, 589, 590, 591, 592, 593, 594, 595, 596, 597, 598, 599, 600, 601, 602, 603, 604, 605, 606, 607, 608, 609, 610, 611, 612, 613, 614, 615, 616, 617, 618, 619, 620, 621, 622, 623, 624, 625, 626, 627, 628, 629, 630, 631, 632, 633, 634, 635, 636, 637, 638, 639, 640, 641, 642, 643, 644, 645, 646, 647, 648, 649, 650, 651, 652, 653, 654, 655, 656, 657, 658, 659, 660, 661, 662, 663, 664, 665, 666, 667, 668, 669, 670, 671, 672, 673, 674, 675, 676, 677, 678, 679, 680, 681, 682, 683, 684, 685, 686, 687, 688, 689, 690, 691, 692, 693, 694, 695, 696, 697, 698, 699, 700, 701, 702, 703, 704, 705, 706, 707, 708, 709, 710, 711, 712, 713, 714, 715, 716, 717, 718, 719, 720, 721, 722, 723, 724, 725, 726, 727, 728, 729, 730, 731, 732, 733, 734, 735, 736, 737, 738, 739, 740, 741, 742, 743, 744, 745, 746, 747, 748, 749, 750, 751, 752, 753, 754, 755, 756, 757, 758, 759, 760, 761, 762, 763, 764, 765, 766, 767, 768, 769, 770, 771, 772, 773, 774, 775, 776, 777, 778, 779, 780, 781, 782, 783, 784, 785, 786, 787, 788, 789, 790, 791, 792, 793, 794, 795, 796, 797, 798, 799, 800, 801, 802, 803, 804, 805, 806, 807, 808, 809, 810, 811, 812, 813, 814, 815, 816, 817, 818, 819, 820, 821, 822, 823, 824, 825, 826, 827, 828, 829, 830, 831, 832, 833, 834, 835, 836, 837, 838, 839, 840, 841, 842, 843, 844, 845, 846, 847, 848, 849, 850, 851, 852, 853, 854, 855, 856, 857, 858, 859, 860, 861, 862, 863, 864, 865, 866, 867, 868, 869, 870, 871, 872, 873, 874, 875, 876, 877, 878, 879, 880, 881, 882, 883, 884, 885, 886, 887, 888, 889, 890, 891, 892, 893, 894, 895, 896, 897, 898, 899, 900, 901, 902, 903, 904, 905, 906, 907, 908, 909, 910, 911, 912, 913, 914, 915, 916, 917, 918, 919, 920, 921, 922, 923, 924, 925, 926, 927, 928, 929, 930, 931, 932, 933, 934, 935, 936, 937, 938, 939, 940, 941, 942, 943, 944, 945, 946, 947, 948, 949, 950, 951, 952, 953, 954, 955, 956, 957, 958, 959, 960, 961, 962, 963, 964, 965, 966, 967, 968, 969, 970, 971, 972, 973, 974, 975, 976, 977, 978, 979, 980, 981, 982, 983, 984, 985, 986, 987, 988, 989, 990, 991, 992, 993, 994, 995, 996, 997, 998, 999, 1000, 1001, 1002, 1003, 1004, 1005, 1006, 1007, 1008, 1009, 1010, 1011, 1012, 1013, 1014, 1015, 1016, 1017, 1018, 1019, 1020, 1021, 1022, 1023, 1024, 1025, 1026, 1027, 1028, 1029, 1030, 1031, 1032, 1033, 1034, 1035, 1036, 1037, 1038, 1039, 1040, 1041, 1042, 1043, 1044, 1045, 1046, 1047, 1048, 1049, 1050, 1051, 1052, 1053, 1054, 1055, 1056, 1057, 1058, 1059, 1060, 1061, 1062, 1063, 1064, 1065, 1066, 1067, 1068, 1069, 1070, 1071, 1072, 1073, 1074, 1075, 1076, 1077, 1078, 1079, 1080, 1081, 1082, 1083, 1084, 1085, 1086, 1087, 1088, 1089, 1090, 1091, 1092, 1093, 1094, 1095, 1096, 1097, 1098, 1099, 1100, 1101, 1102, 1103, 1104, 1105, 1106, 1107, 1108, 1109, 1110, 1111, 1112, 1113, 1114, 1115, 1116, 1117, 1118, 1119, 1120, 1121, 1122, 1123, 1124, 1125, 1126, 1127, 1128, 1129, 1130, 1131, 1132, 1133, 1134, 1135, 1136, 1137, 1138, 1139, 1140, 1141, 1142, 1143, 1144, 1145, 1146, 1147, 1148, 1149, 1150, 1151, 1152, 1153, 1154, 1155, 1156, 1157, 1158, 1159, 1160, 1161, 1162, 1163, 1164, 1165, 1166, 1167, 1168, 1169, 1170, 1171, 1172, 1173, 1174, 1175, 1176, 1177, 1178, 1179, 1180, 1181, 1182, 1183, 1184, 1185, 1186, 1187, 1188, 1189, 1190, 1191, 1192, 1193, 1194, 1195, 1196, 1197, 1198, 1199, 1200], \"y\": [0.38420647954293236, 0.37947911086194586, 0.3747745770899185, 0.3700936802444943, 0.36543720443572447, 0.360805915407123, 0.35620056010542656, 0.3516218662793845, 0.347070542107848, 0.34254727585732897, 0.3380527355691508, 0.3335875687762263, 0.32915240224943565, 0.3247478417735113, 0.32037447195225865, 0.31603285604289666, 0.31172353581921974, 0.30744703146324065, 0.3032038414849069, 0.2989944426694278, 0.29481929005171004, 0.2906788169173361, 0.28657343482948466, 0.2825035336811461, 0.27846948177194564, 0.27447162590885404, 0.2705102915300314, 0.2665857828510164, 0.26269838303245185, 0.25884835436851306, 0.2550359384951803, 0.2512613566174882, 0.24752480975485894, 0.24382647900362953, 0.24016652581585943, 0.23654509229351342, 0.23296230149709987, 0.22941825776785538, 0.22591304706255558, 0.222446737300054, 0.21901937871863772, 0.21563100424331927, 0.2122816298621707, 0.20897125501084488, 0.2056998629644227, 0.20246742123575143, 0.1992738819794568, 0.1961191824008284, 0.19300324516879813, 0.18992597883225565, 0.1868872782389676, 0.18388702495638592, 0.18092508769366003, 0.17800132272419392, 0.17511557430810668, 0.17226767511398988, 0.169457446639377, 0.16668469962936727, 0.1639492344928721, 0.1612508417159826, 0.15858930227197698, 0.15596438802752255, 0.1533758621446416, 0.15082347947804822, 0.14830698696748124, 0.14582612402468614, 0.14338062291472478, 0.1409702091313172, 0.13859460176593727, 0.1362535138704188, 0.13394665281283877, 0.13167372062647917, 0.1294344143516765, 0.12722842637040527, 0.12505544473344518, 0.12291515348001446, 0.12080723294976241, 0.1187313600870371, 0.11668720873735587, 0.11467444993603063, 0.1126927521889054, 0.11074178174519099, 0.10882120286238199, 0.10693067806326678, 0.10506986838504716, 0.1032384336205969, 0.10143603255190353, 0.09966232317574332, 0.0979169629216516, 0.0961996088622624, 0.09450991791609374, 0.09284754704286854, 0.09121215343146741, 0.08960339468061235, 0.08802092897239143, 0.08646441523873881, 0.08493351332098618, 0.08342788412261277, 0.08194718975531812, 0.08049109367854959, 0.07905926083262006, 0.07765135776555125, 0.07626705275378186, 0.07490601591688288, 0.07356791932642087, 0.07225243710911443, 0.07095924554442891, 0.06968802315675227, 0.06843845080229936, 0.06721021175089079, 0.0660029917627489, 0.06481647916045846, 0.06365036489623233, 0.0625043426146299, 0.06137810871086421, 0.06027136238484451, 0.05918380569108583, 0.0581151435846303, 0.057065083963110864, 0.05603333770509101, 0.05501961870481565, 0.05402364390349796, 0.0530451333172724, 0.05208381006193831, 0.05113940037461543, 0.050211633632431946, 0.04930024236836359, 0.04840496228433719, 0.04752553226171235, 0.04666169436925097, 0.0458131938686806, 0.04497977921795851, 0.044161202072336515, 0.04335721728332658, 0.04256758289566394, 0.04179206014236185, 0.04103041343794894, 0.04028241036997844, 0.03954782168889562, 0.03882642129634612, 0.03811798623200726, 0.037422296659021054, 0.03673913584810341, 0.036068290160405546, 0.03540954902919669, 0.03476270494043814, 0.03412755341231501, 0.0335038929737899, 0.03289152514223961, 0.03229025440023609, 0.031699888171528585, 0.031120236796281994, 0.030551113505625435, 0.029992334395562502, 0.029443718400291922, 0.02890508726498772, 0.028376265518081454, 0.027857080443094404, 0.02734736205005818, 0.02684694304656554, 0.02635565880849081, 0.02587334735041455, 0.025399849295789995, 0.02493500784688439, 0.024478668754526676, 0.02403068028769341, 0.023590893202962246, 0.023159160713860115, 0.022735338460134175, 0.022319284476969757, 0.02191085916418064, 0.02150992525539329, 0.021116347787248337, 0.020729994068639523, 0.02035073365000889, 0.019978438292718288, 0.01961298193851375, 0.019254240679100035, 0.0189020927258403, 0.01855641837959648, 0.01821710000072364, 0.01788402197923236, 0.01755707070512998, 0.01723613453895383, 0.01692110378250591, 0.016611870649800343, 0.01630832923823157, 0.016010375499973473, 0.0157179072136167, 0.015430823956051498, 0.015149027074604141, 0.014872419659431962, 0.014600906516183574, 0.014334394138930012, 0.014072790683370622, 0.013816005940318893, 0.013563951309472386, 0.013316539773469093, 0.013073685872235005, 0.012835305677624576, 0.012601316768356416, 0.012371638205247195, 0.01214619050674461, 0.011924895624761017, 0.011707676920809111, 0.011494459142440334, 0.011285168399986459, 0.011079732143604658, 0.010878079140626449, 0.010680139453210051, 0.010485844416295374, 0.010295126615862498, 0.010107919867490725, 0.009924159195219271, 0.009743780810707113, 0.009566722092691457, 0.009392921566742828, 0.009222318885315692, 0.009054854808092733, 0.008890471182620487, 0.0087291109252353, 0.008570718002276484, 0.00841523741158557, 0.008262615164288261, 0.008112798266857908, 0.007965734703457055, 0.007821373418555171, 0.007679664299819961, 0.007540558161279135, 0.007404006726750799, 0.0072699626135385, 0.007138379316389575, 0.0070092111917129645, 0.006882413442053669, 0.006757942100821625, 0.0066357540172714375, 0.006515806841729994, 0.006398059011069649, 0.006282469734423249, 0.006168998979138235, 0.006057607456966926, 0.005948256610490132, 0.0058409085997702575, 0.005735526289231763, 0.005632073234765687, 0.005530513671054643, 0.005430812499116158, 0.0053329352740606175, 0.005236848193060999, 0.005142518083531759, 0.005049912391513164, 0.004958999170258562, 0.004869747069021976, 0.004782125322041712, 0.004696103737718977, 0.004611652687986817, 0.004528743097867533, 0.0044473464352155455, 0.004367434700642356, 0.004288980417621387, 0.0042119566227695904, 0.00413633685630301, 0.004062095152663781, 0.003989206031315592, 0.003917644487704975, 0.0038473859843857535, 0.0037784064423042963, 0.003710682232242249, 0.0036441901664150483, 0.0035789074902229045, 0.0035148118741520564, 0.0034518814058240553, 0.0033900945821899015, 0.0033294303018674143, 0.003269867857618741, 0.0032113869289660726, 0.003153967574943041, 0.0030975902269795436, 0.003042235681917472, 0.0029878850951555996, 0.002934519973920861, 0.002882122170664175, 0.002830673876578394, 0.0027801576152367033, 0.0027305562363486363, 0.0026818529096323874, 0.0026340311188009285, 0.0025870746556599295, 0.0025409676143159383, 0.0024956943854920685, 0.002451239650950203, 0.002407588378017011, 0.0023647258142125644, 0.0023226374819791695, 0.0022813091735090414, 0.0022407269456687657, 0.0022008771150189396, 0.002161746252927233, 0.0021233211807731357, 0.002085588965242835, 0.0020485369137124908, 0.0020121525697181088, 0.001976423708511147, 0.0019413383326971094, 0.0019068846679569176, 0.0018730511588483417, 0.001839826464687045, 0.0018071994555050206, 0.0017751592080852438, 0.001743695002071451, 0.00171279631615104, 0.001682452824310329, 0.0016526543921603657, 0.0016233910733323043, 0.0015946531059409304, 0.0015664309091150054, 0.001538715079593241, 0.001511496388384845, 0.001484765777492926, 0.0014585143567004222, 0.0014327334004164036, 0.0014074143445823603, 0.0013825487836370465, 0.0013581284675389, 0.0013341452988446878, 0.0013105913298436759, 0.0012874587597460807, 0.001264739931924751, 0.0012424273312092444, 0.0012205135812312052, 0.0011989914418198571, 0.0011778538064471885, 0.0011570936997214298, 0.0011367042749280331, 0.0011166788116173357, 0.0010970107132380166, 0.0010776935048153753, 0.0010587208306735766, 0.0010400864522012718, 0.001021784245659504, 0.001003808200031041, 0.0009861524149107426, 0.0009688110984357881, 0.0009517785652552093, 0.0009350492345377513, 0.0009186176280177946, 0.0009024783680781446, 0.0008866261758690855, 0.0008710558694632448, 0.000855762362045405, 0.0008407406601365091, 0.000825985861851442, 0.000811493155189709, 0.000797257816358596, 0.0007832752081279766, 0.0007695407782164227, 0.0007560500577077283, 0.0007427986594974617, 0.0007297822767689484, 0.000716996681498044, 0.0007044377229863402, 0.0006921013264218115, 0.0006799834914670662, 0.0006680802908740255, 0.0006563878691248332, 0.0006449024410986306, 0.0006336202907632625, 0.0006225377698919491, 0.000611651296803981, 0.0006009573551293897, 0.0005904524925968217, 0.0005801333198443448, 0.0005699965092526682, 0.0005600387938003826, 0.0005502569659408367, 0.0005406478765001392, 0.0005312084335959615, 0.0005219356015766905, 0.0005128263999806609, 0.0005038779025148679, 0.0004950872360529907, 0.00048645157965229355, 0.000477968163588994, 0.00046963426841174533, 0.0004614472240130385, 0.000453404408717999, 0.0004455032483902466, 0.0004377412155547159, 0.000430115828536835, 0.0004226246506179242, 0.00041526528920641614, 0.00040803539502472664, 0.0004009326613112747, 0.0003939548230374997, 0.00038709965613968, 0.0003803649767649234, 0.0003737486405315538, 0.0003672485418031517, 0.00036086261297626934, 0.00035458882378154154, 0.000348425180597739, 0.00034236972577881164, 0.0003364205369933978, 0.00033057572657675487, 0.0003248334408947759, 0.00031919185971991145, 0.00031364919561873474, 0.00030820369335091857, 0.0003028536292794935, 0.00029759731079208784, 0.00029243307573291217, 0.00028735929184541486, 0.00028237435622528213, 0.00027747669478363077, 0.0002726647617202669, 0.0002679370390066152, 0.0002632920358784353, 0.0002587282883378586, 0.00025424435866476676, 0.0002498388349371918, 0.00024551033056070245, 0.00024125748380643178, 0.0002370789573578474, 0.00023297343786575145, 0.00022893963551170232, 0.0002249762835794182, 0.00022108213803420694, 0.00021725597711019226, 0.00021349660090509714, 0.00020980283098269792, 0.00020617350998247994, 0.00020260750123662024, 0.00019910368839404083, 0.00019566097505138298, 0.00019227828439087873, 0.0001889545588248018, 0.0001856887596466329, 0.0001824798666885571, 0.00017932687798534496, 0.00017622880944440184, 0.00017318469452195267, 0.00017019358390515084, 0.00016725454520009311, 0.00016436666262555321, 0.00016152903671239063, 0.00015874078400845347, 0.00015600103678894977, 0.00015330894277216755, 0.00015066366484036694, 0.0001480643807658475, 0.00014551028294206077, 0.0001430005781196435, 0.00014053448714728344, 0.0001381112447174038, 0.00013573009911646848, 0.00013339031197986972, 0.0001310911580513548, 0.00012883192494681143, 0.00012661191292242873, 0.00012443043464708124, 0.0001222868149788896, 0.00012018039074588861, 0.00011811051053065606, 0.00011607653445899161, 0.00011407783399233144, 0.0001121137917240435, 0.00011018380117943977, 0.0001082872666194112, 0.00010642360284766474, 0.0001045922350215128, 0.00010279259846602346, 0.00010102413849171277, 9.928631021539841e-05, 9.757857838443832e-05, 9.59004172041294e-05, 9.425131016824115e-05, 9.263074989265128e-05, 9.103823795202163e-05, 8.94732847194331e-05, 8.793540920891997e-05, 8.64241389209094e-05, 8.493900969045254e-05, 8.347956553819187e-05, 8.204535852408612e-05, 8.063594860373662e-05, 7.925090348736725e-05, 7.78897985013355e-05, 7.655221645218091e-05, 7.523774749311612e-05, 7.394598899295421e-05, 7.267654540739995e-05, 7.142902815268767e-05, 7.020305548150244e-05, 6.899825236113631e-05, 6.781425035387957e-05, 6.665068749952688e-05, 6.550720820008137e-05, 6.43834631064548e-05, 6.327910900730542e-05, 6.219380871981504e-05, 6.112723098247143e-05, 6.007905034980028e-05, 5.90489470889494e-05, 5.8036607078197755e-05, 5.704172170724599e-05, 5.606398777934541e-05, 5.5103107415155164e-05, 5.415878795835672e-05, 5.3230741882972905e-05, 5.231868670233753e-05, 5.1422344879688017e-05, 5.054144374044372e-05, 4.967571538596086e-05, 4.882489660892056e-05, 4.798872881018781e-05, 4.716695791719584e-05, 4.635933430378026e-05, 4.5565612711454695e-05, 4.4785552172111256e-05, 4.4018915932096455e-05, 4.326547137765944e-05, 4.252498996172856e-05, 4.179724713201042e-05, 4.108202226037073e-05, 4.037909857348726e-05, 3.968826308474139e-05, 3.9009306527334824e-05, 3.8342023288590586e-05, 3.768621134545478e-05, 3.7041672201126006e-05, 3.640821082283231e-05, 3.57856355807343e-05, 3.517375818788589e-05, 3.45723936412978e-05, 3.398136016405307e-05, 3.3400479148436455e-05, 3.282957510009411e-05, 3.226847558320155e-05, 3.1717011166575444e-05, 3.117501537079242e-05, 3.0642324616208916e-05, 3.011877817193549e-05, 2.960421810571363e-05, 2.909848923467907e-05, 2.8601439077012263e-05, 2.811291780444198e-05, 2.7632778195603225e-05, 2.716087559022464e-05, 2.669706784410751e-05, 2.6241215284955144e-05, 2.5793180668936112e-05, 2.5352829138055906e-05, 2.4920028178265546e-05, 2.44946475783284e-05, 2.4076559389400287e-05, 2.366563788536281e-05, 2.3261759523809047e-05, 2.28648029077731e-05, 2.247464874810058e-05, 2.2091179826518154e-05, 2.1714280959328183e-05, 2.1343838961768355e-05, 2.0979742612999787e-05, 2.062188262169992e-05, 2.0270151592298505e-05, 1.9924443991766645e-05, 1.958465611703795e-05, 1.9250686062977066e-05, 1.892243369092783e-05, 1.859980059781524e-05, 1.828269008579368e-05, 1.7971007132433368e-05, 1.7664658361432325e-05, 1.736355201384693e-05, 1.706759791983467e-05, 1.6776707470881903e-05, 1.6490793592547975e-05, 1.620977071766236e-05, 1.5933554760019106e-05, 1.5662063088514946e-05, 1.539521450176056e-05, 1.5132929203127084e-05, 1.4875128776250474e-05, 1.4621736160941093e-05, 1.437267562954026e-05, 1.412787276368637e-05, 1.3887254431491962e-05, 1.3650748765115543e-05, 1.3418285138738029e-05, 1.3189794146925622e-05, 1.2965207583364528e-05, 1.2744458419981122e-05, 1.2527480786426488e-05, 1.231420994991212e-05, 1.2104582295418834e-05, 1.189853530623876e-05, 1.169600754486298e-05, 1.1496938634208254e-05, 1.130126923916561e-05, 1.110894104849415e-05, 1.0919896756998889e-05, 1.0734080048052384e-05, 1.0551435576409986e-05, 1.037190895132076e-05, 1.0195446719957817e-05, 1.0021996351100885e-05, 9.851506219151615e-06, 9.683925588385161e-06, 9.519204597516892e-06, 9.357294244501416e-06, 9.198146371633798e-06, 9.041713650887985e-06, 8.88794956951968e-06, 8.736808415924005e-06, 8.58824526573718e-06, 8.442215968179004e-06, 8.298677132646245e-06, 8.157586115518558e-06, 8.018901007228166e-06, 7.882580619516875e-06, 7.748584472951412e-06, 7.616872784627897e-06, 7.4874064561184205e-06, 7.360147061599036e-06, 7.235056836217197e-06, 7.112098664631884e-06, 6.991236069778925e-06, 6.872433201810363e-06, 6.75565482724944e-06, 6.6408663183140885e-06, 6.528033642447484e-06, 6.4171233520043156e-06, 6.308102574148255e-06, 6.200939000902097e-06, 6.095600879380297e-06, 5.9920570021921895e-06, 5.890276698012502e-06, 5.790229822312986e-06, 5.691886748256812e-06, 5.595218357757639e-06, 5.500196032683513e-06, 5.406791646222015e-06, 5.3149775543957105e-06, 5.224726587717789e-06, 5.1360120430082656e-06, 5.0488076753282285e-06, 4.963087690081324e-06, 4.878826735236502e-06, 4.795999893686526e-06, 4.714582675747782e-06, 4.634551011780326e-06, 4.555881244946459e-06, 4.478550124086137e-06, 4.402534796721587e-06, 4.327812802181362e-06, 4.254362064846685e-06, 4.182160887509694e-06, 4.1111879448523735e-06, 4.041422277038026e-06, 3.9728432834065215e-06, 3.905430716293992e-06, 3.839164674942861e-06, 3.7740255995314518e-06, 3.7099942652972665e-06, 3.647051776767914e-06, 3.585179562092986e-06, 3.5243593674649387e-06, 3.4645732516514296e-06, 3.4058035806102016e-06, 3.348033022200541e-06, 3.2912445409917245e-06, 3.2354213931523846e-06, 3.1805471214380368e-06, 3.1266055502545587e-06, 3.0735807808207375e-06, 3.021457186401386e-06, 2.970219407629768e-06, 2.9198523479122124e-06, 2.8703411689080457e-06, 2.8216712860881662e-06, 2.773828364378566e-06, 2.7267983138623422e-06, 2.680567285576842e-06, 2.6351216673656285e-06, 2.5904480798128342e-06, 2.546533372246459e-06, 2.5033646188033585e-06, 2.4609291145728958e-06, 2.41921437179783e-06, 2.378208116152723e-06, 2.3378982830691665e-06, 2.298273014141454e-06, 2.2593206535847928e-06, 2.2210297447574235e-06, 2.1833890267429008e-06, 2.146387430993208e-06, 2.110014078022116e-06, 2.0742582741652483e-06, 2.0391095083945127e-06, 2.0045574491778756e-06, 1.970591941408689e-06, 1.9372030033710917e-06, 1.9043808237757711e-06, 1.8721157588298537e-06, 1.840398329368566e-06, 1.8092192180315192e-06, 1.7785692664931209e-06, 1.7484394727290943e-06, 1.7188209883428064e-06, 1.689705115932748e-06, 1.6610833065029322e-06, 1.6329471569199257e-06, 1.6052884074155708e-06, 1.5780989391299783e-06, 1.5513707716988914e-06, 1.5250960608792299e-06, 1.4992670962204046e-06, 1.4738762987724648e-06, 1.4489162188326848e-06, 1.4243795337356516e-06, 1.4002590456760906e-06, 1.3765476795726482e-06, 1.3532384809668429e-06, 1.3303246139577383e-06, 1.3077993591755068e-06, 1.2856561117840389e-06, 1.2638883795244616e-06, 1.2424897807862504e-06, 1.221454042716207e-06, 1.20077499935678e-06, 1.1804465898192592e-06, 1.1604628564839608e-06, 1.1408179432378783e-06, 1.1215060937360491e-06, 1.1025216496963143e-06, 1.0838590492239633e-06, 1.0655128251608878e-06, 1.0474776034700384e-06, 1.029748101641087e-06, 1.012319127125981e-06, 9.951855758039644e-07, 9.783424304670349e-07, 9.617847593373446e-07, 9.45507714606387e-07, 9.295065310005117e-07, 9.137765243716798e-07, 8.983130903103544e-07, 8.831117027856558e-07, 8.681679128020808e-07, 8.534773470912262e-07, 8.39035706811864e-07, 8.248387662825891e-07, 8.108823717309986e-07, 7.971624400683602e-07, 7.836749576790057e-07, 7.704159792388879e-07, 7.573816265460874e-07, 7.445680873780622e-07, 7.319716143633516e-07, 7.195885238772594e-07, 7.074151949512368e-07, 6.954480682061979e-07, 6.836836448004446e-07, 6.721184853979084e-07, 6.607492091509922e-07, 6.495724927049458e-07, 6.385850692173816e-07, 6.277837273914946e-07, 6.171653105330657e-07, 6.067267156153164e-07, 5.964648923665825e-07, 5.863768423692692e-07, 5.764596181764063e-07, 5.667103224423442e-07, 5.571261070684669e-07, 5.477041723647476e-07, 5.38441766223207e-07, 5.293361833085078e-07, 5.203847642586888e-07, 5.115848949040265e-07, 5.029340054951093e-07, 4.944295699472282e-07, 4.860691050954046e-07, 4.778501699635012e-07, 4.6977036504661583e-07, 4.6182733160142797e-07, 4.5401875095619686e-07, 4.463423438243879e-07, 4.387958696359356e-07, 4.3137712587804546e-07, 4.2408394744525864e-07, 4.16914206004757e-07, 4.0986580936798456e-07, 4.029367008768488e-07, 3.961248587982039e-07, 3.8942829572927453e-07, 3.828450580127647e-07, 3.7637322516368454e-07, 3.7001090930280356e-07, 3.6375625460366025e-07, 3.5760743674563966e-07, 3.5156266237836287e-07, 3.4562016859453726e-07, 3.397782224116467e-07, 3.3403512026322187e-07, 3.283891874976352e-07, 3.2283877788763506e-07, 3.1738227314442636e-07, 3.1201808244467836e-07, 3.0674464196151565e-07, 3.0156041440646965e-07, 2.9646388857758855e-07, 2.914535789155078e-07, 2.8652802506831897e-07, 2.8168579146153164e-07, 2.7692546687765625e-07, 2.7224566404173423e-07, 2.676450192139232e-07, 2.6312219178993504e-07, 2.586758639074868e-07, 2.54304740058721e-07, 2.500075467121149e-07, 2.457830319366452e-07, 2.416299650363842e-07, 2.3754713618865602e-07, 2.335333560893256e-07, 2.295874556044663e-07, 2.2570828542709347e-07, 2.2189471574010188e-07, 2.1814563588604567e-07, 2.1445995404004088e-07, 2.1083659689130044e-07, 2.0727450932740095e-07, 2.0377265412585578e-07, 2.003300116495571e-07, 1.9694557954800946e-07, 1.936183724645216e-07, 1.9034742174672264e-07, 1.8713177516290134e-07, 1.8397049662339835e-07, 1.8086266590631056e-07, 1.7780737838767522e-07, 1.7480374477689357e-07, 1.718508908562365e-07, 1.6894795722534582e-07, 1.6609409904869579e-07, 1.6328848580857086e-07, 1.6053030106268221e-07, 1.578187422042118e-07, 1.5515302022742361e-07, 1.5253235949694365e-07, 1.4995599752004566e-07, 1.4742318472434138e-07, 1.4493318423777917e-07, 1.4248527167358045e-07, 1.4007873491803973e-07, 1.3771287392245567e-07, 1.3538700049768542e-07, 1.3310043811384816e-07, 1.3085252170178988e-07, 1.2864259745888978e-07, 1.2647002265757626e-07, 1.2433416545765814e-07, 1.2223440472154532e-07, 1.2017012983234655e-07, 1.1814074051559337e-07, 1.1614564666447936e-07, 1.1418426816577573e-07, 1.1225603473171338e-07, 1.1036038573252101e-07, 1.0849677003305392e-07, 1.0666464583138718e-07, 1.0486348050045715e-07, 1.0309275043284187e-07, 1.0135194088745794e-07, 9.964054583940351e-08, 9.795806783194139e-08, 9.630401783094084e-08, 9.467791508281806e-08, 9.307928697330886e-08, 9.15076688900979e-08, 8.996260408620599e-08, 8.844364354817244e-08, 8.695034586309195e-08, 8.548227709103052e-08, 8.403901063793325e-08, 8.262012713104271e-08, 8.12252142967022e-08, 7.985386683955007e-08, 7.850568632451901e-08, 7.718028106074045e-08, 7.587726598666452e-08, 7.459626255845013e-08, 7.333689863869898e-08, 7.209880838854093e-08, 7.088163216035075e-08, 6.968501639308011e-08, 6.850861350915395e-08, 6.735208181329872e-08, 6.62150853917042e-08, 6.509729401566651e-08, 6.399838304432351e-08, 6.29180333298562e-08, 6.185593112498901e-08, 6.081176799100211e-08, 5.978524070817694e-08, 5.877605118669976e-08, 5.778390638077771e-08, 5.6808518202270185e-08, 5.5849603437108106e-08, 5.490688366273894e-08, 5.398008516677293e-08, 5.3068938867504844e-08, 5.217318023500968e-08, 5.1292549214442114e-08, 5.042679015026065e-08, 4.957565171101573e-08, 4.873888681737771e-08, 4.79162525689597e-08, 4.710751017381195e-08, 4.631242487952594e-08, 4.553076590395926e-08, 4.476230636834679e-08, 4.400682323130354e-08, 4.3264097223704224e-08, 4.253391278484872e-08, 4.181605799966843e-08, 4.1110324536758287e-08, 4.041650758840681e-08, 3.973440581003972e-08, 3.906382126221373e-08, 3.840455935255612e-08, 3.775642877965541e-08, 3.7119241476582125e-08, 3.649281255677783e-08, 3.587696025996113e-08, 3.52715058991757e-08, 3.467627380876866e-08, 3.409109129342832e-08, 3.351578857750317e-08, 3.2950198756180006e-08, 3.2394157746259425e-08, 3.184750423902479e-08, 3.131007965245351e-08, 3.078172808614333e-08, 3.026229627495712e-08, 2.9751633544988853e-08, 2.9249591769459846e-08, 2.8756025325741966e-08, 2.8270791052845325e-08, 2.7793748210146204e-08, 2.7324758435673627e-08, 2.6863685706633792e-08, 2.6410396299503594e-08, 2.5964758750836392e-08, 2.5526643819909172e-08, 2.5095924449854123e-08, 2.4672475731698853e-08, 2.4256174867837315e-08, 2.3846901135895345e-08, 2.3444535854150797e-08, 2.3048962346547e-08, 2.266006590909398e-08, 2.2277733776297345e-08, 2.1901855088614734e-08, 2.1532320859880353e-08, 2.116902394590533e-08, 2.0811859013134294e-08, 2.0460722508122913e-08, 2.0115512627338342e-08, 1.9776129287581787e-08, 1.944247409712194e-08, 1.911445032667216e-08, 1.879196288150904e-08, 1.8474918273941842e-08, 1.816322459574184e-08, 1.7856791491975895e-08, 1.7555530134171297e-08, 1.725935319497757e-08, 1.6968174822383805e-08, 1.668191061517362e-08, 1.640047759802281e-08, 1.6123794197346646e-08, 1.585178021835145e-08, 1.558435682060785e-08, 1.5321446495996903e-08, 1.5062973045690187e-08, 1.4808861558284164e-08, 1.4559038388027312e-08, 1.4313431133275802e-08, 1.4071968615470018e-08, 1.3834580858632934e-08, 1.3601199068724363e-08, 1.3371755614046849e-08, 1.3146184005402508e-08, 1.2924418876479273e-08, 1.270639596553253e-08, 1.2492052096062955e-08, 1.228132515895682e-08, 1.207415409397945e-08, 1.1870478872571909e-08, 1.1670240479975891e-08, 1.1473380898183967e-08, 1.1279843089272788e-08, 1.1089570978823572e-08, 1.0902509439275493e-08, 1.0718604274399133e-08, 1.053780220328756e-08, 1.0360050844794829e-08, 1.0185298702633651e-08, 1.0013495150235546e-08, 9.844590415937884e-09, 9.678535568835106e-09, 9.515282504337995e-09, 9.354783930165931e-09, 9.19699335285289e-09, 9.041865064091528e-09, 8.889354127445323e-09, 8.73941636538477e-09, 8.592008346462577e-09, 8.447087372537012e-09, 8.304611466649035e-09, 8.164539360691912e-09, 8.02683048330528e-09, 7.891444948336305e-09, 7.75834354323689e-09, 7.62748771741121e-09, 7.498839571377408e-09, 7.372361845567696e-09, 7.248017909564084e-09, 7.125771751393841e-09, 7.005587967289913e-09, 6.88743175115569e-09, 6.7712688846470435e-09, 6.65706572713778e-09, 6.544789206048185e-09, 6.434406807184895e-09, 6.325886565343502e-09, 6.219197054978789e-09, 6.114307381061101e-09, 6.011187170376194e-09, 5.9098065623168624e-09, 5.810136200497902e-09, 5.7121472241459835e-09, 5.615811259742806e-09, 5.521100412794402e-09, 5.4279872596641016e-09, 5.3364448398096636e-09, 5.246446647765812e-09, 5.157966625464749e-09, 5.070979154964422e-09, 4.9854590504783225e-09, 4.901381551667923e-09, 4.8187223160473634e-09, 4.7374574120900535e-09, 4.657563312232404e-09, 4.579016886104366e-09, 4.5017953937960326e-09, 4.425876479178433e-09, 4.351238163607623e-09, 4.27785883939752e-09, 4.205717263577039e-09, 4.134792551798822e-09, 4.065064172118992e-09, 3.996511939359484e-09, 3.929116008865521e-09, 3.862856871079611e-09, 3.797715345656617e-09, 3.733672576053469e-09, 3.6707100239444866e-09, 3.608809463975379e-09, 3.5479529783162887e-09, 3.488122951666219e-09, 3.429302065959177e-09, 3.371473295429177e-09, 3.3146199017331484e-09, 3.258725428917961e-09, 3.203773698881118e-09, 3.149748806558491e-09, 3.0966351151478643e-09, 3.0444172520023843e-09, 2.9930801037774474e-09, 2.9426088121603194e-09, 2.892988769685074e-09, 2.844205615436941e-09, 2.796245230710499e-09, 2.749093735202599e-09, 2.70273748282227e-09, 2.657163057757286e-09, 2.612357270605019e-09, 2.568307154561407e-09, 2.5249999616144437e-09, 2.482423158918654e-09, 2.440564425095683e-09, 2.399411646671973e-09, 2.358952914640353e-09, 2.319176520949584e-09, 2.2800709550677293e-09, 2.2416249007796044e-09, 2.2038272327762813e-09, 2.1666670134759826e-09, 2.1301334898911703e-09, 2.0942160904520898e-09, 2.058904421999915e-09, 2.0241882667596794e-09, 1.9900575793212185e-09, 1.9565024838239707e-09, 1.9235132710137843e-09, 1.8910803955181247e-09, 1.8591944729410263e-09, 1.8278462773276551e-09, 1.7970267383355973e-09, 1.766726938672816e-09, 1.7369381115206037e-09, 1.7076516379766189e-09, 1.6788590445511328e-09, 1.6505520007429834e-09, 1.6227223166029321e-09, 1.5953619403421963e-09, 1.5684629560600911e-09, 1.5420175813734885e-09, 1.5160181652216204e-09, 1.4904571856656695e-09, 1.4653272476033868e-09, 1.4406210807854165e-09, 1.4163315375469765e-09, 1.3924515908362733e-09, 1.3689743321824626e-09, 1.3458929696528823e-09, 1.3232008259193612e-09, 1.3008913362361723e-09, 1.2789580467081434e-09, 1.2573946122733078e-09, 1.2361947949128578e-09, 1.2153524618719062e-09, 1.19486158381622e-09, 1.1747162331661568e-09, 1.154910582315307e-09, 1.1354389019784994e-09, 1.1162955595730224e-09, 1.097475017453752e-09, 1.0789718314479928e-09, 1.0607806492204444e-09, 1.04289620869735e-09, 1.025313336614824e-09, 1.0080269469506615e-09, 9.910320395050834e-10, 9.74323698410713e-10, 9.578970907228932e-10, 9.417474650308588e-10, 9.258701500774209e-10, 9.102605534141501e-10, 8.949141600315346e-10, 8.798265311111278e-10, 8.649933027253076e-10, 8.50410184498927e-10, 8.360729584885562e-10, 8.219774778726043e-10, 8.081196657916643e-10, 7.944955141340253e-10, 7.811010824217551e-10, 7.679324966467541e-10, 7.549859481235466e-10, 7.422576924253904e-10, 7.297440482627339e-10, 7.174413964890148e-10, 7.053461789900807e-10, 6.934548976079752e-10, 6.81764113268573e-10, 6.702704448738647e-10, 6.589705683450496e-10, 6.478612156778881e-10, 6.369391740153337e-10, 6.262012846247548e-10, 6.156444421461049e-10, 6.052655935203428e-10, 5.9506173719929e-10, 5.850299223033819e-10, 5.751672476713294e-10, 5.65470861099567e-10, 5.559379584865848e-10, 5.465657830331636e-10, 5.373516244240326e-10, 5.282928180485233e-10, 5.193867442841676e-10, 5.106308276312029e-10, 5.02022536066042e-10, 4.935593802512735e-10, 4.852389128570741e-10, 4.770587278068674e-10, 4.690164596017312e-10, 4.611097826681341e-10, 4.533364106127124e-10, 4.4569409564739e-10, 4.3818062786365867e-10, 4.307938346136696e-10, 4.235315799491615e-10, 4.1639176387224356e-10, 4.093723218482991e-10, 4.0247122414375064e-10, 3.9568647525410117e-10]}, {\"line\": {\"dash\": \"dash\", \"width\": 2}, \"mode\": \"lines\", \"name\": \"Discrete finite difference\", \"type\": \"scatter\", \"x\": [0, 1, 2, 3, 4, 5, 6, 7, 8, 9, 10, 11, 12, 13, 14, 15, 16, 17, 18, 19, 20, 21, 22, 23, 24, 25, 26, 27, 28, 29, 30, 31, 32, 33, 34, 35, 36, 37, 38, 39, 40, 41, 42, 43, 44, 45, 46, 47, 48, 49, 50, 51, 52, 53, 54, 55, 56, 57, 58, 59, 60, 61, 62, 63, 64, 65, 66, 67, 68, 69, 70, 71, 72, 73, 74, 75, 76, 77, 78, 79, 80, 81, 82, 83, 84, 85, 86, 87, 88, 89, 90, 91, 92, 93, 94, 95, 96, 97, 98, 99, 100, 101, 102, 103, 104, 105, 106, 107, 108, 109, 110, 111, 112, 113, 114, 115, 116, 117, 118, 119, 120, 121, 122, 123, 124, 125, 126, 127, 128, 129, 130, 131, 132, 133, 134, 135, 136, 137, 138, 139, 140, 141, 142, 143, 144, 145, 146, 147, 148, 149, 150, 151, 152, 153, 154, 155, 156, 157, 158, 159, 160, 161, 162, 163, 164, 165, 166, 167, 168, 169, 170, 171, 172, 173, 174, 175, 176, 177, 178, 179, 180, 181, 182, 183, 184, 185, 186, 187, 188, 189, 190, 191, 192, 193, 194, 195, 196, 197, 198, 199, 200, 201, 202, 203, 204, 205, 206, 207, 208, 209, 210, 211, 212, 213, 214, 215, 216, 217, 218, 219, 220, 221, 222, 223, 224, 225, 226, 227, 228, 229, 230, 231, 232, 233, 234, 235, 236, 237, 238, 239, 240, 241, 242, 243, 244, 245, 246, 247, 248, 249, 250, 251, 252, 253, 254, 255, 256, 257, 258, 259, 260, 261, 262, 263, 264, 265, 266, 267, 268, 269, 270, 271, 272, 273, 274, 275, 276, 277, 278, 279, 280, 281, 282, 283, 284, 285, 286, 287, 288, 289, 290, 291, 292, 293, 294, 295, 296, 297, 298, 299, 300, 301, 302, 303, 304, 305, 306, 307, 308, 309, 310, 311, 312, 313, 314, 315, 316, 317, 318, 319, 320, 321, 322, 323, 324, 325, 326, 327, 328, 329, 330, 331, 332, 333, 334, 335, 336, 337, 338, 339, 340, 341, 342, 343, 344, 345, 346, 347, 348, 349, 350, 351, 352, 353, 354, 355, 356, 357, 358, 359, 360, 361, 362, 363, 364, 365, 366, 367, 368, 369, 370, 371, 372, 373, 374, 375, 376, 377, 378, 379, 380, 381, 382, 383, 384, 385, 386, 387, 388, 389, 390, 391, 392, 393, 394, 395, 396, 397, 398, 399, 400, 401, 402, 403, 404, 405, 406, 407, 408, 409, 410, 411, 412, 413, 414, 415, 416, 417, 418, 419, 420, 421, 422, 423, 424, 425, 426, 427, 428, 429, 430, 431, 432, 433, 434, 435, 436, 437, 438, 439, 440, 441, 442, 443, 444, 445, 446, 447, 448, 449, 450, 451, 452, 453, 454, 455, 456, 457, 458, 459, 460, 461, 462, 463, 464, 465, 466, 467, 468, 469, 470, 471, 472, 473, 474, 475, 476, 477, 478, 479, 480, 481, 482, 483, 484, 485, 486, 487, 488, 489, 490, 491, 492, 493, 494, 495, 496, 497, 498, 499, 500, 501, 502, 503, 504, 505, 506, 507, 508, 509, 510, 511, 512, 513, 514, 515, 516, 517, 518, 519, 520, 521, 522, 523, 524, 525, 526, 527, 528, 529, 530, 531, 532, 533, 534, 535, 536, 537, 538, 539, 540, 541, 542, 543, 544, 545, 546, 547, 548, 549, 550, 551, 552, 553, 554, 555, 556, 557, 558, 559, 560, 561, 562, 563, 564, 565, 566, 567, 568, 569, 570, 571, 572, 573, 574, 575, 576, 577, 578, 579, 580, 581, 582, 583, 584, 585, 586, 587, 588, 589, 590, 591, 592, 593, 594, 595, 596, 597, 598, 599, 600, 601, 602, 603, 604, 605, 606, 607, 608, 609, 610, 611, 612, 613, 614, 615, 616, 617, 618, 619, 620, 621, 622, 623, 624, 625, 626, 627, 628, 629, 630, 631, 632, 633, 634, 635, 636, 637, 638, 639, 640, 641, 642, 643, 644, 645, 646, 647, 648, 649, 650, 651, 652, 653, 654, 655, 656, 657, 658, 659, 660, 661, 662, 663, 664, 665, 666, 667, 668, 669, 670, 671, 672, 673, 674, 675, 676, 677, 678, 679, 680, 681, 682, 683, 684, 685, 686, 687, 688, 689, 690, 691, 692, 693, 694, 695, 696, 697, 698, 699, 700, 701, 702, 703, 704, 705, 706, 707, 708, 709, 710, 711, 712, 713, 714, 715, 716, 717, 718, 719, 720, 721, 722, 723, 724, 725, 726, 727, 728, 729, 730, 731, 732, 733, 734, 735, 736, 737, 738, 739, 740, 741, 742, 743, 744, 745, 746, 747, 748, 749, 750, 751, 752, 753, 754, 755, 756, 757, 758, 759, 760, 761, 762, 763, 764, 765, 766, 767, 768, 769, 770, 771, 772, 773, 774, 775, 776, 777, 778, 779, 780, 781, 782, 783, 784, 785, 786, 787, 788, 789, 790, 791, 792, 793, 794, 795, 796, 797, 798, 799, 800, 801, 802, 803, 804, 805, 806, 807, 808, 809, 810, 811, 812, 813, 814, 815, 816, 817, 818, 819, 820, 821, 822, 823, 824, 825, 826, 827, 828, 829, 830, 831, 832, 833, 834, 835, 836, 837, 838, 839, 840, 841, 842, 843, 844, 845, 846, 847, 848, 849, 850, 851, 852, 853, 854, 855, 856, 857, 858, 859, 860, 861, 862, 863, 864, 865, 866, 867, 868, 869, 870, 871, 872, 873, 874, 875, 876, 877, 878, 879, 880, 881, 882, 883, 884, 885, 886, 887, 888, 889, 890, 891, 892, 893, 894, 895, 896, 897, 898, 899, 900, 901, 902, 903, 904, 905, 906, 907, 908, 909, 910, 911, 912, 913, 914, 915, 916, 917, 918, 919, 920, 921, 922, 923, 924, 925, 926, 927, 928, 929, 930, 931, 932, 933, 934, 935, 936, 937, 938, 939, 940, 941, 942, 943, 944, 945, 946, 947, 948, 949, 950, 951, 952, 953, 954, 955, 956, 957, 958, 959, 960, 961, 962, 963, 964, 965, 966, 967, 968, 969, 970, 971, 972, 973, 974, 975, 976, 977, 978, 979, 980, 981, 982, 983, 984, 985, 986, 987, 988, 989, 990, 991, 992, 993, 994, 995, 996, 997, 998, 999, 1000, 1001, 1002, 1003, 1004, 1005, 1006, 1007, 1008, 1009, 1010, 1011, 1012, 1013, 1014, 1015, 1016, 1017, 1018, 1019, 1020, 1021, 1022, 1023, 1024, 1025, 1026, 1027, 1028, 1029, 1030, 1031, 1032, 1033, 1034, 1035, 1036, 1037, 1038, 1039, 1040, 1041, 1042, 1043, 1044, 1045, 1046, 1047, 1048, 1049, 1050, 1051, 1052, 1053, 1054, 1055, 1056, 1057, 1058, 1059, 1060, 1061, 1062, 1063, 1064, 1065, 1066, 1067, 1068, 1069, 1070, 1071, 1072, 1073, 1074, 1075, 1076, 1077, 1078, 1079, 1080, 1081, 1082, 1083, 1084, 1085, 1086, 1087, 1088, 1089, 1090, 1091, 1092, 1093, 1094, 1095, 1096, 1097, 1098, 1099, 1100, 1101, 1102, 1103, 1104, 1105, 1106, 1107, 1108, 1109, 1110, 1111, 1112, 1113, 1114, 1115, 1116, 1117, 1118, 1119, 1120, 1121, 1122, 1123, 1124, 1125, 1126, 1127, 1128, 1129, 1130, 1131, 1132, 1133, 1134, 1135, 1136, 1137, 1138, 1139, 1140, 1141, 1142, 1143, 1144, 1145, 1146, 1147, 1148, 1149, 1150, 1151, 1152, 1153, 1154, 1155, 1156, 1157, 1158, 1159, 1160, 1161, 1162, 1163, 1164, 1165, 1166, 1167, 1168, 1169, 1170, 1171, 1172, 1173, 1174, 1175, 1176, 1177, 1178, 1179, 1180, 1181, 1182, 1183, 1184, 1185, 1186, 1187, 1188, 1189, 1190, 1191, 1192, 1193, 1194, 1195, 1196, 1197, 1198, 1199, 1200], \"y\": [0.38420647954293236, 0.37947918955597504, 0.37477473370626957, 0.37009391397167724, 0.3654375144236765, 0.36080630076845066, 0.3562010199166846, 0.35162239958238534, 0.3470711479110021, 0.3425479531370073, 0.3380534832710722, 0.3335883858168633, 0.3291532875174385, 0.32474879413114444, 0.32037549023684914, 0.3160339390682887, 0.31172468237723666, 0.30744824032514884, 0.30320511140287776, 0.29899577237799885, 0.2948206782692392, 0.290680262347449, 0.2865749361625112, 0.2825050895955432, 0.2784710909357072, 0.27447328698090256, 0.2705120031615901, 0.26658754368696214, 0.2627001917126432, 0.2588502095290943, 0.2550378387698618, 0.251263300638795, 0.24752679615535353, 0.2438285064171029, 0.24016859287849207, 0.23654719764500098, 0.23296444378174894, 0.22942043563564204, 0.22591525917015073, 0.2224489823118117, 0.2190216553075492, 0.2156333110919269, 0.21228396566344912, 0.2089736184690424, 0.20570225279586432, 0.20246983616960765, 0.19927632075847138, 0.1961216437820115, 0.19300572792407994, 0.1899284817491054, 0.18688980012097367, 0.18388956462380038, 0.18092764398390837, 0.1780038944923471, 0.17511816042731956, 0.17227027447590648, 0.16946005815449952, 0.16668732222739366, 0.16395186712300153, 0.16125348334718828, 0.15859195189324896, 0.15596704464808028, 0.15337852479411743, 0.15082614720664209, 0.14830965884608877, 0.1458287991449989, 0.14338330038930697, 0.14097288809365413, 0.13859728137046376, 0.13625619329252198, 0.1339493312488399, 0.13167639729359357, 0.12943708848795465, 0.127231097234653, 0.12505811160512575, 0.12291781565913382, 0.12080988975673786, 0.11873401086254864, 0.11668985284218433, 0.11467708675088024, 0.11269538111421515, 0.11074440220093063, 0.10882381428783926, 0.10693327991682157, 0.10507246014393645, 0.10324101478067074, 0.10143860262737163, 0.09966488169891331, 0.09791950944266162, 0.09620214294880489, 0.09451243915313473, 0.0928500550323615, 0.09121464779206138, 0.0896058750473562, 0.08802339499643552, 0.08646686658703118, 0.08493594967596911, 0.08343030518191447, 0.08194959523144368, 0.08049348329857126, 0.07906163433786648, 0.07765371491129543, 0.07626939330893003, 0.07490833966366293, 0.07357022606007232, 0.0722547266375791, 0.07096151768804215, 0.0696902777479366, 0.0684406876852598, 0.06721243078131228, 0.0660051928074963, 0.06481866209727806, 0.06365252961345835, 0.0625064890108914, 0.061380236694797544, 0.06027347187480687, 0.059185896614874424, 0.05811721587920412, 0.05706713757431561, 0.056035372587389616, 0.055021634821021015, 0.0540256412245107, 0.053047111821823124, 0.052085769736333394, 0.05114134121248704, 0.05021355563449337, 0.049302145542168004, 0.048406846644041414, 0.04752739782784497, 0.04666354116848496, 0.04581502193361053, 0.04498158858688224, 0.04416299278904152, 0.043358989396880515, 0.04256933646021027, 0.04179379521691954, 0.04103213008621695, 0.0402841086601446, 0.03954950169344982, 0.03882808309189814, 0.03811962989910907, 0.03742392228199305, 0.03674074351486553, 0.03606987996231222, 0.035411121060876134, 0.03476425929963597, 0.03412909019974196, 0.033505412292973255, 0.03289302709937919, 0.03229173910406385, 0.031701355733172204, 0.03112168732913248, 0.030552547125207996, 0.02999375121941183, 0.029445118547830815, 0.028906470857408672, 0.028377632678233383, 0.02785843129537102, 0.027348696720290742, 0.02684826166191927, 0.02635696149736348, 0.02587463424233914, 0.025401120521340203, 0.02493626353758335, 0.024479909042758322, 0.024031905306617356, 0.02359210308643085, 0.023160355596339034, 0.022736518476625132, 0.022320449762936564, 0.021912009855477012, 0.02151106148819395, 0.021117469697982606, 0.020731101793926572, 0.020351827326596388, 0.01997951805742264, 0.019614047928163136, 0.019255293030478838, 0.01890313157563669, 0.01855744386435116, 0.01821811225678158, 0.01788502114269551, 0.0175580569118126, 0.017237107924339364, 0.016922064481705877, 0.016612818797514816, 0.016309264968711535, 0.016011298946984814, 0.01571881851040559, 0.015431723235311697, 0.015149914468445675, 0.014873295299351129, 0.014601770533034719, 0.014335246662898482, 0.014073631843947002, 0.013816835866274758, 0.013564770128837183, 0.013317347613508342, 0.013074482859429627, 0.01283609193765124, 0.01260209242606938, 0.012372403384660976, 0.012146945331017593, 0.01192564021618036, 0.01170841140077636, 0.011495183631458199, 0.011285883017646221, 0.011080437008574969, 0.010878774370642382, 0.01068082516506336, 0.010486520725825491, 0.010295793637948051, 0.010108577716042214, 0.00992480798317203, 0.009744420650015373, 0.009567353094322611, 0.009393543840672714, 0.009222932540524384, 0.009055459952560761, 0.008891067923325996, 0.008729699368151099, 0.008571298252368485, 0.008415809572810911, 0.008263179339594556, 0.008113354558182484, 0.007966283211726948, 0.007821914243687417, 0.00768019754072227, 0.0075410839158511715, 0.007404525091885347, 0.007270473685123668, 0.007138883189310799, 0.007009707959855511, 0.0068829031983056515, 0.006758424937076935, 0.006636230024433314, 0.006516276109714604, 0.006398521628810226, 0.006282925789874067, 0.006169448559279212, 0.006058050647808385, 0.005948693497077341, 0.005841339266188829, 0.00573595081861289, 0.005632491709291434, 0.00553092617196365, 0.0054312191067094244, 0.005333336067707523, 0.005237243251205269, 0.005142907483697736, 0.005050296210312104, 0.004959377483395238, 0.004870119951300967, 0.00478249284737439, 0.0046964659791300396, 0.004612009717621295, 0.004529094986997637, 0.004447693254247775, 0.0043677765191244755, 0.004289317304249651, 0.004212288645395872, 0.004136664081942252, 0.004062417647501055, 0.003989523860713619, 0.0039179577162113104, 0.0038476946757405243, 0.0037787106594473585, 0.0037109820373208164, 0.0036444856207910703, 0.0035791986544806468, 0.003515098808105589, 0.003452164168524778, 0.003390373231934053, 0.0033297048962036275, 0.003270138453355517, 0.0032116535821793343, 0.00315423034098364, 0.0030978491604807252, 0.0030424908368023827, 0.002988136524644769, 0.0029347677305396223, 0.0028823663062500365, 0.0028309144422885794, 0.0027803946615553316, 0.0027307898130942425, 0.0026820830659651657, 0.0026342579032299835, 0.0025872981160505962, 0.002541187797896888, 0.002495911338862549, 0.0024514534200872004, 0.002407799008282337, 0.002364933350359861, 0.0023228419681609516, 0.002281510653283645, 0.002240925462007367, 0.0022010727103122857, 0.002161938968992559, 0.00212351105886097, 0.002085776046043639, 0.00204872123736341, 0.002012334175809645, 0.00197660263609361, 0.001941514620287309, 0.0019070583535444417, 0.0018732222799022573, 0.0018399950581620367, 0.001807365557847788, 0.0017753228552407428, 0.0017438562294891597, 0.001712955158791068, 0.0016826093166495434, 0.0016528085681983815, 0.0016235429665975769, 0.001594802749496563, 0.001566578335564729, 0.0015388603210871902, 0.0015116394766252629, 0.0014849067437400327, 0.0014586532317779257, 0.0014328702147171, 0.0014075491280737516, 0.0013826815658668145, 0.0013582592776402516, 0.0013342741655417937, 0.0013107182814569545, 0.0012875838241974775, 0.0012648631367429746, 0.001242548703534869, 0.001220633147821705, 0.0011991092290547537, 0.0011779698403330064, 0.0011572080058965652, 0.0011368168786676772, 0.0011167897378383008, 0.0010971199865034585, 0.001077801149339525, 0.001058826870326421, 0.001040190910513145, 0.0010218871458255753, 0.0010039095649158891, 0.0009862522670528377, 0.0009689094600517931, 0.0009518754582443167, 0.0009351446804860884, 0.0009187116482025645, 0.00090257098347183, 0.0008867174071436392, 0.000871145736994148, 0.0008558508859157042, 0.0008408278601408208, 0.0008260717574998746, 0.0008115777657118083, 0.000797341160707108, 0.0007833573049827835, 0.0007696216459881773, 0.0007561297145415837, 0.0007428771232767775, 0.0007298595651188726, 0.0007170728117891282, 0.0007045127123379557, 0.000692175191705782, 0.0006800562493109977, 0.0006681519576647245, 0.0006564584610116957, 0.0006449719739969022, 0.0006336887803573273, 0.0006226052316385455, 0.0006117177459354073, 0.0006010228066566178, 0.0005905169613126195, 0.0005801968203263103, 0.000570059055866265, 0.0005601004007019487, 0.000550317647080479, 0.0005407076456246777, 0.0005312673042517606, 0.0005219935871125317, 0.0005128835135504967, 0.0005039341570805796, 0.0004951426443871377, 0.00048650615434076195, 0.0004780219170336324, 0.0004696872128330427, 0.0004614993714526328, 0.00045345577104122616, 0.00044555383728869113, 0.00043779104254865377, 0.00043016490497766504, 0.0004226729876905894, 0.00041531289793179287, 0.0004080822862619491, 0.0004009788457600445, 0.00039400031124039076, 0.00038714445848434556, 0.00038040910348637605, 0.00037379210171428203, 0.0003672913473833322, 0.00036090477274387903, 0.00035463034738245785, 0.0003484660775358096, 0.0003424100054178881, 0.0003364602085593745, 0.0003306147991595163, 0.0003248719234502177, 0.000319229761071814, 0.0003136865244606835, 0.0003082404582482212, 0.00030288983867097786, 0.00029763297299196644, 0.000292468198932568, 0.00028739388411517874, 0.00028240842551620354, 0.00027751024892919666, 0.00027269780843808934, 0.0002679695859001135, 0.0002633240904385163, 0.00025875985794455314, 0.00025427545058879977, 0.00024986945634161494, 0.00024554048850240447, 0.0002412871852377511, 0.00023710820912805163, 0.00023300224672254366, 0.00022896800810269876, 0.0002250042264536133, 0.00022110965764342232, 0.00021728307981045382, 0.00021352329295808782, 0.0002098291185570901, 0.0002061993991552995, 0.0002026329979946281, 0.00019912879863499887, 0.00019568570458538498, 0.00019230263894161345, 0.00018897854403084817, 0.00018571238106267706, 0.000182503129786642, 0.00017934978815604784, 0.00017625137199807033, 0.00017320691468985367, 0.00017021546684064902, 0.00016727609597977697, 0.00016438788625037368, 0.0001615499381087587, 0.00015876136802934506, 0.0001560213082149987, 0.0001533289063127005, 0.00015068332513446352, 0.00014808374238338092, 0.00014552935038471826, 0.00014301935582190355, 0.00014055297947744897, 0.00013812945597852422, 0.0001357480335473554, 0.00013340797375600272, 0.00013110855128583898, 0.0001288490536912837, 0.000126628781167971, 0.00012444704632511288, 0.0001223031739620508, 0.00012019650084888951, 0.00011812637551117093, 0.00011609215801846143, 0.00011409321977681724, 0.00011212894332504367, 0.00011019872213468925, 0.0001083019604136823, 0.00010643807291354978, 0.00010460648474018496, 0.00010280663116802344, 0.0001010379574576775, 9.929991867680637e-05, 9.759197952433954e-05, 9.591361415785705e-05, 9.426430602411722e-05, 9.264354769269962e-05, 9.105084069264442e-05, 8.948569535207705e-05, 8.794763064075888e-05, 8.643617401549673e-05, 8.495086126836399e-05, 8.349123637767028e-05, 8.205685136166984e-05, 8.064726613487019e-05, 7.926204836701416e-05, 7.790077334459292e-05, 7.656302383485757e-05, 7.524838995232332e-05, 7.395646902767717e-05, 7.268686547906845e-05, 7.143919068573213e-05, 7.021306286390873e-05, 6.900810694498259e-05, 6.782395445587408e-05, 6.666024340153981e-05, 6.55166181496439e-05, 6.439272931730153e-05, 6.328823365984222e-05, 6.220279396164916e-05, 6.113607892888305e-05, 6.0087763084218924e-05, 5.905752666344543e-05, 5.804505551393289e-05, 5.7050040994952615e-05, 5.607217987976195e-05, 5.511117425948801e-05, 5.4166731448716174e-05, 5.323856389280683e-05, 5.23263890768416e-05, 5.142992943627292e-05, 5.054891226910443e-05, 4.968306964970862e-05, 4.883213834418419e-05, 4.799585972720714e-05, 4.717397970041068e-05, 4.6366248612222114e-05, 4.5572421179123794e-05, 4.479225640835588e-05, 4.402551752196889e-05, 4.327197188229416e-05, 4.253139091869081e-05, 4.1803550055651214e-05, 4.108822864217547e-05, 4.0385209882419875e-05, 3.969428076757576e-05, 3.901523200898656e-05, 3.8347857972454825e-05, 3.7691956613719034e-05, 3.704732941508963e-05, 3.6413781323227456e-05, 3.579112068801857e-05, 3.517915920255676e-05, 3.457771184419205e-05, 3.3986596816637556e-05, 3.340563549309916e-05, 3.2834652360439713e-05, 3.2273474964315525e-05, 3.17219338553177e-05, 3.117986253606107e-05, 3.06470974092161e-05, 3.0123477726468172e-05, 2.9608845538395913e-05, 2.91030456452349e-05, 2.8605925548512572e-05, 2.8117335403558102e-05, 2.763712797285276e-05, 2.716515858020871e-05, 2.670128506576994e-05, 2.6245367741790517e-05, 2.5797269349239622e-05, 2.5356855015144334e-05, 2.492399221070491e-05, 2.449855071015653e-05, 2.4080402550348676e-05, 2.3669421991057796e-05, 2.3265485476005494e-05, 2.2868471594543227e-05, 2.24782610440535e-05, 2.2094736592990987e-05, 2.171778304459653e-05, 2.1347287201241245e-05, 2.0983137829398762e-05, 2.0625225625276685e-05, 2.0273443180993383e-05, 1.9927684951416102e-05, 1.95878472215491e-05, 1.9253828074506873e-05, 1.8925527360061387e-05, 1.860284666373913e-05, 1.8285689276467658e-05, 1.797396016475968e-05, 1.7667565941422942e-05, 1.736641483679033e-05, 1.7070416670449535e-05, 1.677948282348637e-05, 1.649352621121116e-05, 1.6212461256358934e-05, 1.593620386278179e-05, 1.5664671389585855e-05, 1.539778262573953e-05, 1.5135457765116693e-05, 1.4877618381996295e-05, 1.462418740697392e-05, 1.4375089103320192e-05, 1.413024904373502e-05, 1.3889594087527252e-05, 1.3653052358189471e-05, 1.3420553221362187e-05, 1.31920272632018e-05, 1.2967406269112114e-05, 1.2746623202862802e-05, 1.2529612186071525e-05, 1.2316308478038815e-05, 1.2106648455952072e-05, 1.1900569595425388e-05, 1.1698010451395234e-05, 1.1498910639329701e-05, 1.1303210816794147e-05, 1.1110852665320154e-05, 1.0921778872602742e-05, 1.0735933115012058e-05, 1.0553260040402796e-05, 1.0373705251236473e-05, 1.0197215287985428e-05, 1.002373761284603e-05, 9.853220593728992e-06, 9.685613488518532e-06, 9.520866429632534e-06, 9.35893040882924e-06, 9.199757262295879e-06, 9.043299655995068e-06, 8.88951107125977e-06, 8.738345790654065e-06, 8.589758884066021e-06, 8.44370619506342e-06, 8.300144327467963e-06, 8.159030632179196e-06, 8.020323194218793e-06, 7.883980820009555e-06, 7.749963024879439e-06, 7.61823002076219e-06, 7.488742704143265e-06, 7.3614626441995425e-06, 7.236352071141933e-06, 7.113373864779169e-06, 6.9924915432609665e-06, 6.8736692520346765e-06, 6.756871752985215e-06, 6.642064413763889e-06, 6.5292131973118636e-06, 6.418284651560203e-06, 6.309245899308839e-06, 6.2020646282817286e-06, 6.096709081365067e-06, 5.993148047003807e-06, 5.891350849765927e-06, 5.791287341084169e-06, 5.692927890142614e-06, 5.596243374935784e-06, 5.501205173471941e-06, 5.40778515513965e-06, 5.31595567221676e-06, 5.225689551533284e-06, 5.136960086275417e-06, 5.04974102793301e-06, 4.964006578388832e-06, 4.879731382142969e-06, 4.796890518676497e-06, 4.715459494942073e-06, 4.635414237990969e-06, 4.5567310877228195e-06, 4.479386789768752e-06, 4.403358488487877e-06, 4.328623720094646e-06, 4.255160405903601e-06, 4.182946845689495e-06, 4.111961711157571e-06, 4.042184039542968e-06, 3.973593227303933e-06, 3.9061690239346525e-06, 3.839891525882978e-06, 3.7747411705705543e-06, 3.7106987305245617e-06, 3.6477453076015035e-06, 3.58586232731937e-06, 3.525031533284102e-06, 3.4652349817097887e-06, 3.406455036043544e-06, 3.3486743616718253e-06, 3.2918759207271753e-06, 3.2360429669809864e-06, 3.1811590408262186e-06, 3.127207964344037e-06, 3.0741738364623132e-06, 3.0220410281898758e-06, 2.9707941779398186e-06, 2.920418186931811e-06, 2.87089821466951e-06, 2.8222196745061592e-06, 2.774368229274752e-06, 2.727329787006609e-06, 2.6810904967112602e-06, 2.6356367442389163e-06, 2.590955148209924e-06, 2.547032556018082e-06, 2.503856039896008e-06, 2.4614128930579425e-06, 2.4196906259015375e-06, 2.3786769622822926e-06, 2.338359835839622e-06, 2.298727386407658e-06, 2.2597679564629448e-06, 2.2214700876558316e-06, 2.1838225173865316e-06, 2.1468141754470485e-06, 2.1104341807202648e-06, 2.0746718379353794e-06, 2.039516634479419e-06, 2.0049582372642157e-06, 1.9709864896456838e-06, 1.9375914083984647e-06, 1.9047631807442188e-06, 1.8724921614250919e-06, 1.8407688698329793e-06, 1.8095839871885354e-06, 1.778928353764001e-06, 1.748792966158972e-06, 1.7191689746213254e-06, 1.6900476804117146e-06, 1.6614205332195051e-06, 1.6332791286160653e-06, 1.6056152055580504e-06, 1.5784206439303113e-06, 1.5516874621299458e-06, 1.52540781469886e-06, 1.4995739899851677e-06, 1.4741784078594652e-06, 1.4492136174566505e-06, 1.4246722949664137e-06, 1.4005472414561524e-06, 1.3768313807347039e-06, 1.3535177572505777e-06, 1.3305995340270723e-06, 1.3080699906343629e-06, 1.285922521193987e-06, 1.264150632418574e-06, 1.2427479416863975e-06, 1.2217081751484404e-06, 1.2010251658661017e-06, 1.1806928519840647e-06, 1.1607052749342393e-06, 1.1410565776656403e-06, 1.1217410029117559e-06, 1.102752891481109e-06, 1.0840866805872434e-06, 1.0657369021919318e-06, 1.0476981813898778e-06, 1.0299652348190988e-06, 1.012532869090622e-06, 9.95395979256371e-07, 9.785495472943358e-07, 9.619886406232637e-07, 9.457084106468651e-07, 9.297040913122408e-07, 9.13970997706339e-07, 8.985045246662551e-07, 8.833001454174143e-07, 8.683534102356986e-07, 8.536599451312966e-07, 8.392154505545103e-07, 8.250157001270789e-07, 8.110565393897841e-07, 7.97333884575591e-07, 7.838437214054596e-07, 7.705821038979711e-07, 7.575451532063213e-07, 7.447290564714784e-07, 7.32130065697627e-07, 7.19744496642065e-07, 7.075687277305377e-07, 6.955991989864179e-07, 6.838324109788595e-07, 6.722649237932212e-07, 6.608933560116726e-07, 6.497143837180985e-07, 6.387247395165551e-07, 6.279212115673592e-07, 6.173006426386451e-07, 6.068599291772266e-07, 5.965960203912584e-07, 5.865059173515366e-07, 5.765866721073815e-07, 5.668353868173414e-07, 5.572492128948009e-07, 5.478253501690055e-07, 5.385610460587295e-07, 5.294535947620419e-07, 5.2050033645838e-07, 5.116986565265119e-07, 5.030459847721189e-07, 4.945397946722279e-07, 4.861776026312107e-07, 4.779569672482814e-07, 4.698754885995737e-07, 4.619308075314319e-07, 4.541206049666549e-07, 4.464426012195001e-07, 4.388945553273377e-07, 4.3147426439039843e-07, 4.2417956292306154e-07, 4.1700832221721477e-07, 4.0995844971537193e-07, 4.030278883956126e-07, 3.9621461616773723e-07, 3.8951664527597616e-07, 3.829320217172683e-07, 3.764588246640198e-07, 3.7009516590167954e-07, 3.638391892723359e-07, 3.576890701297952e-07, 3.5164301480282303e-07, 3.4569926006792844e-07, 3.3985607263179856e-07, 3.341117486220385e-07, 3.2846461308550165e-07, 3.2291301949787614e-07, 3.174553492786035e-07, 3.120900113163836e-07, 3.0681544150074414e-07, 3.0163010226502516e-07, 2.9653248213256174e-07, 2.915210952736405e-07, 2.8659448107007025e-07, 2.8175120368554687e-07, 2.7698985164494474e-07, 2.723090374185631e-07, 2.6770739701732176e-07, 2.6318358959073714e-07, 2.587362970335469e-07, 2.5436422360008883e-07, 2.500660955235045e-07, 2.4584066064145725e-07, 2.416866880304569e-07, 2.376029676441015e-07, 2.3358830995686604e-07, 2.296415456179804e-07, 2.2576152510638867e-07, 2.219471183946319e-07, 2.1819721461782502e-07, 2.1451072174702062e-07, 2.1088656627048966e-07, 2.0732369287780518e-07, 2.0382106415194308e-07, 2.003776602638381e-07, 1.9699247867447636e-07, 1.9366453384140712e-07, 1.9039285692890094e-07, 1.871764955253421e-07, 1.840145133639219e-07, 1.8090599004761575e-07, 1.7785002078113057e-07, 1.7484571610458396e-07, 1.7189220163349917e-07, 1.6898861780356363e-07, 1.661341196175973e-07, 1.6332787639922224e-07, 1.6056907154987585e-07, 1.5785690230816898e-07, 1.551905795170209e-07, 1.525693273915927e-07, 1.49992383292265e-07, 1.4745899750199547e-07, 1.4496843300624744e-07, 1.4251996527774318e-07, 1.4011288206505054e-07, 1.3774648318325248e-07, 1.35420080309769e-07, 1.3313299678251772e-07, 1.3088456740318352e-07, 1.286741382409184e-07, 1.2650106644279481e-07, 1.2436472004493717e-07, 1.2226447778720243e-07, 1.2019972893400766e-07, 1.1816987309215653e-07, 1.1617432003838117e-07, 1.1421248954545693e-07, 1.1228381121286711e-07, 1.1038772429995073e-07, 1.0852367756224151e-07, 1.066911290903033e-07, 1.0488954615182972e-07, 1.0311840503478731e-07, 1.0137719089575011e-07, 9.966539760854751e-08, 9.798252761734804e-08, 9.632809179041672e-08, 9.470160927740794e-08, 9.310260736953861e-08, 9.153062136119073e-08, 8.998519441343024e-08, 8.846587742216801e-08, 8.697222888589928e-08, 8.5503814776643e-08, 8.40602084144797e-08, 8.26409903413214e-08, 8.12457481999917e-08, 7.98740766130276e-08, 7.852557706405272e-08, 7.719985778263408e-08, 7.589653362868777e-08, 7.461522598091629e-08, 7.335556262606772e-08, 7.211717764996618e-08, 7.089971133153555e-08, 6.970281003711725e-08, 6.852612611778858e-08, 6.73693178074108e-08, 6.623204912358139e-08, 6.511398976910119e-08, 6.40148150358552e-08, 6.293420571026266e-08, 6.187184797982602e-08, 6.08274333419127e-08, 5.980065851358866e-08, 5.879122534332669e-08, 5.779884072380961e-08, 5.6823216507258453e-08, 5.586406942014076e-08, 5.492112098164319e-08, 5.399409742229247e-08, 5.308272960356445e-08, 5.2186752940179675e-08, 5.130590732252865e-08, 5.043993704109463e-08, 4.958859071180293e-08, 4.875162120286443e-08, 4.792878556238499e-08, 4.711984494806977e-08, 4.632456455772643e-08, 4.554271356008742e-08, 4.477406502828354e-08, 4.401839587348728e-08, 4.327548677965601e-08, 4.254512213999813e-08, 4.182708999444389e-08, 4.1121181967013744e-08, 4.0427193205843155e-08, 3.974492232333036e-08, 3.90741713373931e-08, 3.8414745614055786e-08, 3.7766453810345394e-08, 3.7129107819092704e-08, 3.650252271358651e-08, 3.588651669430377e-08, 3.528091103561398e-08, 3.468553003380108e-08, 3.410020095597628e-08, 3.3524753989717045e-08, 3.2959022193782104e-08, 3.24028414493075e-08, 3.185605041222791e-08, 3.131849046605414e-08, 3.0790005676167785e-08, 3.027044274384573e-08, 2.975965096226003e-08, 2.9257482171882e-08, 2.876379071829919e-08, 2.8278433409014945e-08, 2.7801269471965195e-08, 2.7332160515110376e-08, 2.6870970485428487e-08, 2.6417565629729833e-08, 2.5971814455613986e-08, 2.5533587693377683e-08, 2.510275825823626e-08, 2.46792012134541e-08, 2.426279373388458e-08, 2.3853415070304577e-08, 2.34509465144526e-08, 2.3055271364268283e-08, 2.266627489010087e-08, 2.228384430109997e-08, 2.1907868712910883e-08, 2.1538239114842964e-08, 2.117484833862234e-08, 2.0817591026981904e-08, 2.0466363603107972e-08, 2.012106424039286e-08, 1.9781592833289017e-08, 1.944785096756101e-08, 1.9119741892030456e-08, 1.879717049045128e-08, 1.848004325379888e-08, 1.816826825312829e-08, 1.7861755112648175e-08, 1.756041498395545e-08, 1.7264160519447703e-08, 1.6972905847784535e-08, 1.6686566548156415e-08, 1.6405059626382667e-08, 1.6128303490301946e-08, 1.5856217926273597e-08, 1.5588724076183754e-08, 1.5325744413742076e-08, 1.5067202722687002e-08, 1.4813024074396528e-08, 1.4563134805980166e-08, 1.4317462499052177e-08, 1.4075935958640993e-08, 1.383848519242842e-08, 1.360504139054534e-08, 1.3375536905459347e-08, 1.3149905232372464e-08, 1.2928080990036455e-08, 1.270999990142009e-08, 1.2495598775531562e-08, 1.2284815488471967e-08, 1.2077588965921636e-08, 1.1873859165041032e-08, 1.1673567057348098e-08, 1.1476654611197339e-08, 1.1283064775235835e-08, 1.1092741461752183e-08, 1.090562953028499e-08, 1.0721674771730797e-08, 1.0540823892595617e-08, 1.0363024499325693e-08, 1.0188225083495072e-08, 1.0016375006435744e-08, 9.847424484788504e-09, 9.681324575839394e-09, 9.518027163575783e-09, 9.357484944589885e-09, 9.199651414169714e-09, 9.04448085313721e-09, 8.891928314322915e-09, 8.741949609573693e-09, 8.594501296955719e-09, 8.449540668288324e-09, 8.307025736326893e-09, 8.166915223028396e-09, 8.02916854741688e-09, 7.893745813589331e-09, 7.760607799491277e-09, 7.629715945377327e-09, 7.501032342422849e-09, 7.374519722093624e-09, 7.250141445087661e-09, 7.127861490683043e-09, 7.0076444464407764e-09, 6.889455497912735e-09, 6.773260418286448e-09, 6.659025558811543e-09, 6.546717838811355e-09, 6.436304736109979e-09, 6.327754277653685e-09, 6.221035030199884e-09, 6.116116091280361e-09, 6.012967080002111e-09, 5.911558128501392e-09, 5.811859873194477e-09, 5.713843446138165e-09, 5.617480466867767e-09, 5.522743033927203e-09, 5.429603716922942e-09, 5.338035548649867e-09, 5.248012017021585e-09, 5.1595070575909236e-09, 5.072495045912191e-09, 4.9869507900865384e-09, 4.902849523444978e-09, 4.820166897566854e-09, 4.7388789748814304e-09, 4.658962221980248e-09, 4.580393502679054e-09, 4.503150071328233e-09, 4.427209566264854e-09, 4.352550003318122e-09, 4.2791497693088965e-09, 4.206987615959086e-09, 4.1360426536557455e-09, 4.066294345295961e-09, 3.997722500588193e-09, 3.930307269867892e-09, 3.864029138618531e-09, 3.798868921646515e-09, 3.734807757618267e-09, 3.6718271035312407e-09, 3.609908729355277e-09, 3.5490347127526604e-09, 3.4891874338661073e-09, 3.4303495702518622e-09, 3.372504091809288e-09, 3.3156342558721326e-09, 3.2597236023460835e-09, 3.204755948921418e-09, 3.150715386403654e-09, 3.0975862741720723e-09, 3.04535323543411e-09, 2.9940011529993637e-09, 2.9435151647854732e-09, 2.8938806595410727e-09, 2.845083272579818e-09, 2.7971088816134423e-09, 2.7499436027570306e-09, 2.7035737863432055e-09, 2.6579860131006394e-09, 2.613167090205167e-09, 2.5691040474482903e-09, 2.5257841335444387e-09, 2.4831948123501596e-09, 2.441323759290227e-09, 2.40015885776008e-09, 2.359688195596679e-09, 2.3199000617052954e-09, 2.280782942544521e-09, 2.242325518892353e-09, 2.204516662596494e-09, 2.1673454331297992e-09, 2.1308010747110386e-09, 2.094873012990638e-09, 2.0595508520471747e-09, 2.024824371444615e-09, 1.9906835230709163e-09, 1.957118428491154e-09, 1.9241193758905066e-09, 1.891676817334097e-09, 1.8597813659825422e-09, 1.8284237933772607e-09, 1.7975950267872934e-09, 1.7672861465365512e-09, 1.7374883834978083e-09, 1.708193116475651e-09, 1.6793918696808274e-09, 1.6510763104121543e-09, 1.6232382465170375e-09, 1.595869624055053e-09, 1.5689625249993566e-09, 1.5425091648991307e-09, 1.5165018906215074e-09, 1.4909331781795509e-09, 1.4657956305535764e-09, 1.4410819754286208e-09, 1.4167850633108495e-09, 1.3928978652033743e-09, 1.3694134707902779e-09, 1.3463250862490867e-09, 1.3236260325026e-09, 1.3013097429983372e-09, 1.2793697621105452e-09, 1.2577997430120725e-09, 1.236593446029896e-09, 1.2157447366805567e-09, 1.1952475840482717e-09, 1.1750960589088233e-09, 1.1552843320715016e-09, 1.1358066727079282e-09, 1.116657446624752e-09, 1.097831114722959e-09, 1.07932223130852e-09, 1.0611254425670603e-09, 1.0432354850091782e-09, 1.0256471839465163e-09, 1.0083554519330713e-09, 9.913552873869434e-10, 9.746417731025372e-10, 9.582100747917823e-10, 9.420554397401541e-10, 9.261731953848535e-10, 9.105587480079096e-10, 8.95207581362629e-10, 8.801152553832637e-10, 8.65277404902267e-10, 8.506897384067607e-10, 8.363480367385368e-10, 8.22248151923235e-10, 8.083860059837821e-10, 7.947575896751385e-10, 7.813589614198361e-10, 7.681862461060727e-10, 7.552356340217378e-10, 7.425033796539053e-10, 7.29985800707533e-10, 7.176792770014058e-10, 7.055802493851689e-10, 6.936852187977703e-10, 6.819907451475709e-10, 6.704934463592233e-10, 6.591899974510267e-10, 6.4807712949574e-10, 6.371516286890342e-10, 6.264103354701336e-10, 6.158501435303062e-10, 6.054679989783422e-10, 5.952608994067131e-10, 5.852258930989082e-10, 5.753600780554257e-10, 5.656606012843214e-10, 5.56124657855916e-10, 5.467494901885849e-10, 5.375323872070941e-10, 5.284706835435845e-10, 5.19561758797784e-10, 5.108030367435529e-10, 5.021919846436779e-10, 4.937261124264694e-10, 4.854029720714218e-10, 4.772201567973704e-10, 4.691753004329577e-10, 4.6126607673642017e-10, 4.534901986518679e-10, 4.4584541772982885e-10, 4.38329523436879e-10, 4.3094034250125715e-10, 4.2367573832819527e-10, 4.1653361033128383e-10, 4.0951189336920115e-10, 4.0260855713719507e-10, 3.9582160552322736e-10]}, {\"line\": {\"dash\": \"dash\", \"width\": 2}, \"mode\": \"lines\", \"name\": \"Discrete LCU\", \"type\": \"scatter\", \"x\": [0, 1, 2, 3, 4, 5, 6, 7, 8, 9, 10, 11, 12, 13, 14, 15, 16, 17, 18, 19, 20, 21, 22, 23, 24, 25, 26, 27, 28, 29, 30, 31, 32, 33, 34, 35, 36, 37, 38, 39, 40, 41, 42, 43, 44, 45, 46, 47, 48, 49, 50, 51, 52, 53, 54, 55, 56, 57, 58, 59, 60, 61, 62, 63, 64, 65, 66, 67, 68, 69, 70, 71, 72, 73, 74, 75, 76, 77, 78, 79, 80, 81, 82, 83, 84, 85, 86, 87, 88, 89, 90, 91, 92, 93, 94, 95, 96, 97, 98, 99, 100, 101, 102, 103, 104, 105, 106, 107, 108, 109, 110, 111, 112, 113, 114, 115, 116, 117, 118, 119, 120, 121, 122, 123, 124, 125, 126, 127, 128, 129, 130, 131, 132, 133, 134, 135, 136, 137, 138, 139, 140, 141, 142, 143, 144, 145, 146, 147, 148, 149, 150, 151, 152, 153, 154, 155, 156, 157, 158, 159, 160, 161, 162, 163, 164, 165, 166, 167, 168, 169, 170, 171, 172, 173, 174, 175, 176, 177, 178, 179, 180, 181, 182, 183, 184, 185, 186, 187, 188, 189, 190, 191, 192, 193, 194, 195, 196, 197, 198, 199, 200, 201, 202, 203, 204, 205, 206, 207, 208, 209, 210, 211, 212, 213, 214, 215, 216, 217, 218, 219, 220, 221, 222, 223, 224, 225, 226, 227, 228, 229, 230, 231, 232, 233, 234, 235, 236, 237, 238, 239, 240, 241, 242, 243, 244, 245, 246, 247, 248, 249, 250, 251, 252, 253, 254, 255, 256, 257, 258, 259, 260, 261, 262, 263, 264, 265, 266, 267, 268, 269, 270, 271, 272, 273, 274, 275, 276, 277, 278, 279, 280, 281, 282, 283, 284, 285, 286, 287, 288, 289, 290, 291, 292, 293, 294, 295, 296, 297, 298, 299, 300, 301, 302, 303, 304, 305, 306, 307, 308, 309, 310, 311, 312, 313, 314, 315, 316, 317, 318, 319, 320, 321, 322, 323, 324, 325, 326, 327, 328, 329, 330, 331, 332, 333, 334, 335, 336, 337, 338, 339, 340, 341, 342, 343, 344, 345, 346, 347, 348, 349, 350, 351, 352, 353, 354, 355, 356, 357, 358, 359, 360, 361, 362, 363, 364, 365, 366, 367, 368, 369, 370, 371, 372, 373, 374, 375, 376, 377, 378, 379, 380, 381, 382, 383, 384, 385, 386, 387, 388, 389, 390, 391, 392, 393, 394, 395, 396, 397, 398, 399, 400, 401, 402, 403, 404, 405, 406, 407, 408, 409, 410, 411, 412, 413, 414, 415, 416, 417, 418, 419, 420, 421, 422, 423, 424, 425, 426, 427, 428, 429, 430, 431, 432, 433, 434, 435, 436, 437, 438, 439, 440, 441, 442, 443, 444, 445, 446, 447, 448, 449, 450, 451, 452, 453, 454, 455, 456, 457, 458, 459, 460, 461, 462, 463, 464, 465, 466, 467, 468, 469, 470, 471, 472, 473, 474, 475, 476, 477, 478, 479, 480, 481, 482, 483, 484, 485, 486, 487, 488, 489, 490, 491, 492, 493, 494, 495, 496, 497, 498, 499, 500, 501, 502, 503, 504, 505, 506, 507, 508, 509, 510, 511, 512, 513, 514, 515, 516, 517, 518, 519, 520, 521, 522, 523, 524, 525, 526, 527, 528, 529, 530, 531, 532, 533, 534, 535, 536, 537, 538, 539, 540, 541, 542, 543, 544, 545, 546, 547, 548, 549, 550, 551, 552, 553, 554, 555, 556, 557, 558, 559, 560, 561, 562, 563, 564, 565, 566, 567, 568, 569, 570, 571, 572, 573, 574, 575, 576, 577, 578, 579, 580, 581, 582, 583, 584, 585, 586, 587, 588, 589, 590, 591, 592, 593, 594, 595, 596, 597, 598, 599, 600, 601, 602, 603, 604, 605, 606, 607, 608, 609, 610, 611, 612, 613, 614, 615, 616, 617, 618, 619, 620, 621, 622, 623, 624, 625, 626, 627, 628, 629, 630, 631, 632, 633, 634, 635, 636, 637, 638, 639, 640, 641, 642, 643, 644, 645, 646, 647, 648, 649, 650, 651, 652, 653, 654, 655, 656, 657, 658, 659, 660, 661, 662, 663, 664, 665, 666, 667, 668, 669, 670, 671, 672, 673, 674, 675, 676, 677, 678, 679, 680, 681, 682, 683, 684, 685, 686, 687, 688, 689, 690, 691, 692, 693, 694, 695, 696, 697, 698, 699, 700, 701, 702, 703, 704, 705, 706, 707, 708, 709, 710, 711, 712, 713, 714, 715, 716, 717, 718, 719, 720, 721, 722, 723, 724, 725, 726, 727, 728, 729, 730, 731, 732, 733, 734, 735, 736, 737, 738, 739, 740, 741, 742, 743, 744, 745, 746, 747, 748, 749, 750, 751, 752, 753, 754, 755, 756, 757, 758, 759, 760, 761, 762, 763, 764, 765, 766, 767, 768, 769, 770, 771, 772, 773, 774, 775, 776, 777, 778, 779, 780, 781, 782, 783, 784, 785, 786, 787, 788, 789, 790, 791, 792, 793, 794, 795, 796, 797, 798, 799, 800, 801, 802, 803, 804, 805, 806, 807, 808, 809, 810, 811, 812, 813, 814, 815, 816, 817, 818, 819, 820, 821, 822, 823, 824, 825, 826, 827, 828, 829, 830, 831, 832, 833, 834, 835, 836, 837, 838, 839, 840, 841, 842, 843, 844, 845, 846, 847, 848, 849, 850, 851, 852, 853, 854, 855, 856, 857, 858, 859, 860, 861, 862, 863, 864, 865, 866, 867, 868, 869, 870, 871, 872, 873, 874, 875, 876, 877, 878, 879, 880, 881, 882, 883, 884, 885, 886, 887, 888, 889, 890, 891, 892, 893, 894, 895, 896, 897, 898, 899, 900, 901, 902, 903, 904, 905, 906, 907, 908, 909, 910, 911, 912, 913, 914, 915, 916, 917, 918, 919, 920, 921, 922, 923, 924, 925, 926, 927, 928, 929, 930, 931, 932, 933, 934, 935, 936, 937, 938, 939, 940, 941, 942, 943, 944, 945, 946, 947, 948, 949, 950, 951, 952, 953, 954, 955, 956, 957, 958, 959, 960, 961, 962, 963, 964, 965, 966, 967, 968, 969, 970, 971, 972, 973, 974, 975, 976, 977, 978, 979, 980, 981, 982, 983, 984, 985, 986, 987, 988, 989, 990, 991, 992, 993, 994, 995, 996, 997, 998, 999, 1000, 1001, 1002, 1003, 1004, 1005, 1006, 1007, 1008, 1009, 1010, 1011, 1012, 1013, 1014, 1015, 1016, 1017, 1018, 1019, 1020, 1021, 1022, 1023, 1024, 1025, 1026, 1027, 1028, 1029, 1030, 1031, 1032, 1033, 1034, 1035, 1036, 1037, 1038, 1039, 1040, 1041, 1042, 1043, 1044, 1045, 1046, 1047, 1048, 1049, 1050, 1051, 1052, 1053, 1054, 1055, 1056, 1057, 1058, 1059, 1060, 1061, 1062, 1063, 1064, 1065, 1066, 1067, 1068, 1069, 1070, 1071, 1072, 1073, 1074, 1075, 1076, 1077, 1078, 1079, 1080, 1081, 1082, 1083, 1084, 1085, 1086, 1087, 1088, 1089, 1090, 1091, 1092, 1093, 1094, 1095, 1096, 1097, 1098, 1099, 1100, 1101, 1102, 1103, 1104, 1105, 1106, 1107, 1108, 1109, 1110, 1111, 1112, 1113, 1114, 1115, 1116, 1117, 1118, 1119, 1120, 1121, 1122, 1123, 1124, 1125, 1126, 1127, 1128, 1129, 1130, 1131, 1132, 1133, 1134, 1135, 1136, 1137, 1138, 1139, 1140, 1141, 1142, 1143, 1144, 1145, 1146, 1147, 1148, 1149, 1150, 1151, 1152, 1153, 1154, 1155, 1156, 1157, 1158, 1159, 1160, 1161, 1162, 1163, 1164, 1165, 1166, 1167, 1168, 1169, 1170, 1171, 1172, 1173, 1174, 1175, 1176, 1177, 1178, 1179, 1180, 1181, 1182, 1183, 1184, 1185, 1186, 1187, 1188, 1189, 1190, 1191, 1192, 1193, 1194, 1195, 1196, 1197, 1198, 1199, 1200], \"y\": [0.38420647954293236, 0.37947911086194586, 0.3747745770899185, 0.3700936802444943, 0.36543720443572447, 0.360805915407123, 0.35620056010542656, 0.3516218662793845, 0.347070542107848, 0.3425472758573291, 0.3380527355691508, 0.3335875687762263, 0.32915240224943565, 0.3247478417735113, 0.3203744719522588, 0.31603285604289666, 0.31172353581921974, 0.30744703146324065, 0.3032038414849069, 0.29899444266942793, 0.29481929005171015, 0.2906788169173361, 0.28657343482948466, 0.282503533681146, 0.27846948177194564, 0.27447162590885416, 0.2705102915300314, 0.2665857828510164, 0.26269838303245185, 0.25884835436851306, 0.2550359384951804, 0.25126135661748844, 0.24752480975485894, 0.24382647900362953, 0.24016652581585943, 0.23654509229351342, 0.23296230149709996, 0.22941825776785538, 0.22591304706255563, 0.222446737300054, 0.21901937871863777, 0.21563100424331927, 0.2122816298621707, 0.20897125501084488, 0.2056998629644227, 0.20246742123575143, 0.199273881979457, 0.19611918240082865, 0.19300324516879827, 0.18992597883225565, 0.1868872782389677, 0.18388702495638598, 0.18092508769366017, 0.17800132272419392, 0.1751155743081067, 0.17226767511398997, 0.16945744663937715, 0.1666846996293673, 0.16394923449287224, 0.16125084171598272, 0.15858930227197707, 0.1559643880275227, 0.1533758621446418, 0.1508234794780483, 0.14830698696748137, 0.14582612402468614, 0.1433806229147248, 0.1409702091313172, 0.13859460176593727, 0.1362535138704189, 0.133946652812839, 0.13167372062647925, 0.12943441435167655, 0.12722842637040532, 0.12505544473344526, 0.12291515348001449, 0.12080723294976264, 0.11873136008703716, 0.11668720873735598, 0.1146744499360307, 0.11269275218890547, 0.11074178174519118, 0.10882120286238206, 0.10693067806326687, 0.10506986838504723, 0.10323843362059697, 0.10143603255190371, 0.09966232317574346, 0.09791696292165178, 0.0961996088622625, 0.09450991791609377, 0.09284754704286861, 0.09121215343146759, 0.08960339468061247, 0.08802092897239153, 0.0864644152387389, 0.08493351332098618, 0.0834278841226129, 0.08194718975531819, 0.08049109367854966, 0.07905926083262013, 0.07765135776555131, 0.07626705275378205, 0.07490601591688294, 0.07356791932642083, 0.0722524371091145, 0.070959245544429, 0.06968802315675231, 0.06843845080229939, 0.06721021175089079, 0.06600299176274899, 0.06481647916045852, 0.06365036489623238, 0.06250434261462982, 0.06137810871086429, 0.06027136238484451, 0.059183805691085875, 0.058115143584630324, 0.05706508396311085, 0.05603333770509109, 0.05501961870481572, 0.054023643903498, 0.05304513331727241, 0.052083810061938386, 0.05113940037461546, 0.05021163363243194, 0.049300242368363605, 0.048404962284337195, 0.04752553226171239, 0.04666169436925099, 0.04581319386868065, 0.04497977921795858, 0.04416120207233656, 0.04335721728332663, 0.04256758289566401, 0.04179206014236189, 0.04103041343794902, 0.04028241036997848, 0.039547821688895674, 0.038826421296346135, 0.03811798623200728, 0.03742229665902108, 0.03673913584810344, 0.036068290160405594, 0.03540954902919671, 0.03476270494043818, 0.03412755341231513, 0.033503892973789993, 0.03289152514223968, 0.032290254400236106, 0.0316998881715287, 0.031120236796282032, 0.030551113505625505, 0.02999233439556255, 0.02944371840029195, 0.02890508726498775, 0.02837626551808147, 0.02785708044309448, 0.027347362050058225, 0.026846943046565652, 0.026355658808490844, 0.025873347350414567, 0.025399849295790037, 0.02493500784688441, 0.024478668754526704, 0.02403068028769345, 0.02359089320296227, 0.02315916071386015, 0.022735338460134223, 0.02231928447696979, 0.02191085916418068, 0.021509925255393313, 0.021116347787248375, 0.020729994068639606, 0.020350733650008904, 0.019978438292718302, 0.01961298193851382, 0.01925424067910008, 0.018902092725840355, 0.01855641837959652, 0.01821710000072367, 0.017884021979232397, 0.01755707070513002, 0.017236134538953896, 0.016921103782505997, 0.01661187064980037, 0.01630832923823159, 0.01601037549997352, 0.015717907213616756, 0.01543082395605154, 0.015149027074604169, 0.014872419659431986, 0.01460090651618363, 0.014334394138930047, 0.014072790683370643, 0.01381600594031893, 0.013563951309472438, 0.013316539773469128, 0.013073685872235048, 0.01283530567762459, 0.012601316768356435, 0.012371638205247242, 0.012146190506744649, 0.01192489562476105, 0.01170767692080916, 0.011494459142440346, 0.011285168399986492, 0.011079732143604666, 0.010878079140626483, 0.010680139453210068, 0.010485844416295404, 0.010295126615862526, 0.01010791986749074, 0.009924159195219318, 0.009743780810707139, 0.009566722092691484, 0.009392921566742879, 0.009222318885315741, 0.00905485480809275, 0.008890471182620546, 0.008729110925235324, 0.008570718002276502, 0.008415237411585591, 0.008262615164288271, 0.008112798266857926, 0.007965734703457055, 0.007821373418555185, 0.00767966429981997, 0.007540558161279147, 0.007404006726750827, 0.007269962613538508, 0.0071383793163896075, 0.007009211191712985, 0.006882413442053686, 0.006757942100821664, 0.00663575401727146, 0.006515806841729998, 0.006398059011069666, 0.006282469734423254, 0.006168998979138248, 0.006057607456966926, 0.005948256610490134, 0.005840908599770268, 0.005735526289231782, 0.0056320732347657, 0.005530513671054654, 0.005430812499116166, 0.005332935274060627, 0.005236848193060999, 0.005142518083531779, 0.005049912391513172, 0.004958999170258572, 0.00486974706902198, 0.004782125322041718, 0.004696103737718996, 0.004611652687986811, 0.004528743097867557, 0.004447346435215557, 0.004367434700642385, 0.004288980417621403, 0.004211956622769602, 0.0041363368563030285, 0.004062095152663786, 0.003989206031315595, 0.003917644487704977, 0.0038473859843857535, 0.0037784064423043062, 0.003710682232242267, 0.003644190166415064, 0.0035789074902229227, 0.003514811874152051, 0.003451881405824053, 0.003390094582189926, 0.0033294303018674117, 0.0032698678576187448, 0.003211386928966082, 0.003153967574943041, 0.0030975902269795436, 0.0030422356819174673, 0.0029878850951556095, 0.0029345199739208598, 0.002882122170664177, 0.002830673876578394, 0.0027801576152367146, 0.002730556236348658, 0.002681852909632392, 0.0026340311188009285, 0.00258707465565996, 0.0025409676143159344, 0.002495694385492078, 0.0024512396509502096, 0.0024075883780170196, 0.00236472581421258, 0.00232263748197919, 0.0022813091735090457, 0.0022407269456687622, 0.0022008771150189483, 0.0021617462529272265, 0.0021233211807731357, 0.0020855889652428385, 0.002048536913712499, 0.0020121525697181296, 0.0019764237085111505, 0.0019413383326971204, 0.0019068846679569304, 0.0018730511588483454, 0.001839826464687045, 0.0018071994555050306, 0.0017751592080852655, 0.001743695002071451, 0.0017127963161510647, 0.001682452824310336, 0.0016526543921603757, 0.0016233910733323043, 0.0015946531059409304, 0.0015664309091150026, 0.0015387150795932443, 0.0015114963883848392, 0.001484765777492926, 0.0014585143567004222, 0.0014327334004164036, 0.0014074143445823603, 0.0013825487836370432, 0.001358128467538916, 0.0013341452988446818, 0.0013105913298436713, 0.0012874587597460731, 0.001264739931924751, 0.0012424273312092455, 0.001220513581231196, 0.001198991441819854, 0.0011778538064471775, 0.0011570936997214287, 0.001136704274928026, 0.0011166788116173292, 0.0010970107132380138, 0.0010776935048153686, 0.0010587208306735766, 0.0010400864522012655, 0.0010217842456595036, 0.0010038082000310379, 0.000986152414910737, 0.0009688110984357881, 0.0009517785652552054, 0.0009350492345377425, 0.0009186176280177935, 0.0009024783680781446, 0.0008866261758690828, 0.0008710558694632393, 0.0008557623620454003, 0.0008407406601365082, 0.0008259858618514409, 0.0008114931551896999, 0.0007972578163585914, 0.0007832752081279705, 0.000769540778216422, 0.0007560500577077237, 0.0007427986594974515, 0.000729782276768945, 0.0007169966814980461, 0.0007044377229863365, 0.0006921013264218081, 0.0006799834914670662, 0.0006680802908740211, 0.0006563878691248324, 0.0006449024410986286, 0.0006336202907632556, 0.0006225377698919476, 0.00061165129680398, 0.0006009573551293847, 0.000590452492596816, 0.000580133319844343, 0.0005699965092526634, 0.0005600387938003805, 0.0005502569659408332, 0.0005406478765001372, 0.00053120843359596, 0.0005219356015766898, 0.0005128263999806553, 0.0005038779025148643, 0.0004950872360529884, 0.00048645157965229263, 0.00047796816358899023, 0.00046963426841173915, 0.0004614472240130385, 0.0004534044087179975, 0.0004455032483902459, 0.00043774121555471184, 0.0004301158285368317, 0.0004226246506179195, 0.00041526528920641717, 0.00040803539502472523, 0.0004009326613112723, 0.0003939548230374979, 0.00038709965613967467, 0.0003803649767649204, 0.0003737486405315514, 0.0003672485418031509, 0.0003608626129762641, 0.0003545888237815426, 0.00034842518059773314, 0.0003423697257788096, 0.0003364205369933964, 0.0003305757265767505, 0.00032483344089477236, 0.0003191918597199073, 0.0003136491956187325, 0.00030820369335091786, 0.00030285362927949213, 0.00029759731079208595, 0.00029243307573290886, 0.00028735929184541215, 0.0002823743562252808, 0.00027747669478363077, 0.0002726647617202663, 0.00026793703900661455, 0.00026329203587842944, 0.0002587282883378586, 0.00025424435866476357, 0.00024983883493719, 0.0002455103305607008, 0.00024125748380643123, 0.00023707895735784442, 0.0002329734378657521, 0.00022893963551169936, 0.00022497628357941407, 0.00022108213803420637, 0.00021725597711018697, 0.00021349660090509313, 0.0002098028309826973, 0.0002061735099824771, 0.00020260750123662078, 0.00019910368839403915, 0.00019566097505138187, 0.00019227828439087767, 0.00018895455882480023, 0.0001856887596466312, 0.00018247986668855717, 0.00017932687798534594, 0.00017622880944440233, 0.00017318469452194912, 0.0001701935839051503, 0.00016725454520009517, 0.00016436666262555321, 0.00016152903671238966, 0.00015874078400845052, 0.00015600103678894983, 0.00015330894277216657, 0.00015066366484036645, 0.0001480643807658471, 0.00014551028294206223, 0.00014300057811964076, 0.0001405344871472839, 0.00013811124471740246, 0.0001357300991164671, 0.00013339031197986972, 0.00013109115805135348, 0.00012883192494681013, 0.00012661191292242613, 0.0001244304346470808, 0.00012228681497889003, 0.00012018039074588728, 0.00011811051053065523, 0.0001160765344589912, 0.00011407783399232855, 0.00011211379172404266, 0.00011018380117943937, 0.00010828726661940914, 0.00010642360284766435, 0.00010459223502151, 0.00010279259846602346, 0.00010102413849170926, 9.928631021539683e-05, 9.757857838443718e-05, 9.590041720412899e-05, 9.425131016823809e-05, 9.263074989264902e-05, 9.10382379520213e-05, 8.947328471942939e-05, 8.793540920891697e-05, 8.642413892091012e-05, 8.493900969045072e-05, 8.347956553819149e-05, 8.204535852408687e-05, 8.063594860373276e-05, 7.925090348736694e-05, 7.788979850133375e-05, 7.655221645217958e-05, 7.523774749311546e-05, 7.394598899295391e-05, 7.26765454073969e-05, 7.142902815268641e-05, 7.020305548150178e-05, 6.899825236113669e-05, 6.781425035387887e-05, 6.665068749952818e-05, 6.550720820007915e-05, 6.43834631064548e-05, 6.32791090073042e-05, 6.21938087198141e-05, 6.112723098247054e-05, 6.0079050349799944e-05, 5.904894708895187e-05, 5.8036607078196535e-05, 5.704172170724812e-05, 5.6063987779344235e-05, 5.510310741515286e-05, 5.4158787958357036e-05, 5.323074188297232e-05, 5.231868670233722e-05, 5.1422344879687454e-05, 5.0541443740443495e-05, 4.967571538596053e-05, 4.882489660891861e-05, 4.798872881018698e-05, 4.71669579171961e-05, 4.635933430377913e-05, 4.5565612711453366e-05, 4.478555217211074e-05, 4.4018915932096665e-05, 4.326547137766096e-05, 4.252498996172801e-05, 4.179724713200944e-05, 4.108202226037047e-05, 4.037909857348703e-05, 3.968826308474199e-05, 3.900930652733606e-05, 3.8342023288591135e-05, 3.7686211345454326e-05, 3.7041672201126454e-05, 3.6408210822834926e-05, 3.578563558073715e-05, 3.517375818788754e-05, 3.457239364129778e-05, 3.3981360164053474e-05, 3.3400479148436455e-05, 3.282957510009568e-05, 3.226847558320043e-05, 3.17170111665758e-05, 3.1175015370792196e-05, 3.064232461620763e-05, 3.0118778171934997e-05, 2.960421810571363e-05, 2.9098489234679686e-05, 2.8601439077012263e-05, 2.811291780444198e-05, 2.7632778195603618e-05, 2.7160875590223997e-05, 2.6697067844106884e-05, 2.624121528495354e-05, 2.579318066893608e-05, 2.535282913805531e-05, 2.4920028178264967e-05, 2.4494647578327987e-05, 2.4076559389400254e-05, 2.3665637885361646e-05, 2.3261759523808847e-05, 2.2864802907772505e-05, 2.2474648748100385e-05, 2.2091179826517215e-05, 2.1714280959328345e-05, 2.1343838961767298e-05, 2.0979742612999594e-05, 2.0621882621700083e-05, 2.0270151592297974e-05, 1.9924443991766127e-05, 1.95846561170369e-05, 1.92506860629767e-05, 1.8922433690926975e-05, 1.8599800597814707e-05, 1.8282690085793507e-05, 1.7971007132433405e-05, 1.766465836143118e-05, 1.736355201384597e-05, 1.706759791983487e-05, 1.6776707470881733e-05, 1.6490793592547403e-05, 1.6209770717662793e-05, 1.5933554760018178e-05, 1.5662063088514617e-05, 1.5395214501759654e-05, 1.5132929203126605e-05, 1.4875128776250022e-05, 1.4621736160940491e-05, 1.4372675629540383e-05, 1.4127872763685663e-05, 1.3887254431491071e-05, 1.365074876511511e-05, 1.341828513873788e-05, 1.3189794146924636e-05, 1.2965207583364e-05, 1.274445841997948e-05, 1.2527480786425678e-05, 1.2314209949912084e-05, 1.2104582295417633e-05, 1.1898535306238328e-05, 1.1696007544862051e-05, 1.1496938634207436e-05, 1.1301269239165963e-05, 1.1108941048493981e-05, 1.0919896756998857e-05, 1.0734080048052348e-05, 1.055143557640947e-05, 1.0371908951320623e-05, 1.0195446719957414e-05, 1.0021996351100985e-05, 9.851506219151222e-06, 9.683925588385449e-06, 9.519204597516705e-06, 9.357294244501034e-06, 9.198146371633292e-06, 9.041713650887734e-06, 8.887949569519217e-06, 8.73680841592385e-06, 8.588245265737214e-06, 8.44221596817885e-06, 8.298677132645464e-06, 8.15758611551799e-06, 8.018901007228013e-06, 7.882580619516643e-06, 7.748584472951146e-06, 7.616872784628613e-06, 7.487406456118387e-06, 7.360147061598692e-06, 7.235056836217244e-06, 7.112098664631741e-06, 6.9912360697785905e-06, 6.872433201810332e-06, 6.755654827249706e-06, 6.64086631831387e-06, 6.528033642447451e-06, 6.417123352003995e-06, 6.308102574147935e-06, 6.200939000901994e-06, 6.095600879379882e-06, 5.992057002191881e-06, 5.89027669801278e-06, 5.790229822312855e-06, 5.69188674825651e-06, 5.5952183577574395e-06, 5.500196032683482e-06, 5.406791646222053e-06, 5.3149775543955166e-06, 5.224726587717856e-06, 5.136012043007978e-06, 5.048807675327942e-06, 4.963087690081482e-06, 4.878826735236538e-06, 4.795999893686775e-06, 4.714582675747505e-06, 4.634551011780296e-06, 4.555881244946339e-06, 4.478550124086198e-06, 4.4025347967216486e-06, 4.327812802181097e-06, 4.254362064846129e-06, 4.182160887509345e-06, 4.111187944852287e-06, 4.041422277037141e-06, 3.972843283406465e-06, 3.905430716293824e-06, 3.839164674942247e-06, 3.774025599530871e-06, 3.709994265296746e-06, 3.647051776767425e-06, 3.585179562092179e-06, 3.5243593674645114e-06, 3.4645732516510336e-06, 3.405803580609783e-06, 3.3480330222003323e-06, 3.2912445409916208e-06, 3.2354213931525116e-06, 3.180547121437353e-06, 3.1266055502544583e-06, 3.0735807808204406e-06, 3.0214571864012375e-06, 2.970219407629107e-06, 2.9198523479118973e-06, 2.8703411689076133e-06, 2.8216712860882852e-06, 2.7738283643782603e-06, 2.726798313861665e-06, 2.680567285576541e-06, 2.635121667364982e-06, 2.590448079812513e-06, 2.546533372245917e-06, 2.503364618802913e-06, 2.460929114572473e-06, 2.4192143717978057e-06, 2.378208116152265e-06, 2.337898283068516e-06, 2.2982730141410456e-06, 2.259320653584558e-06, 2.2210297447571262e-06, 2.1833890267429414e-06, 2.1463874309929554e-06, 2.110014078022013e-06, 2.0742582741651628e-06, 2.03910950839439e-06, 2.004557449177456e-06, 1.9705919414084085e-06, 1.9372030033710685e-06, 1.9043808237756155e-06, 1.8721157588296038e-06, 1.8403983293681647e-06, 1.8092192180311797e-06, 1.778569266493028e-06, 1.7484394727288529e-06, 1.7188209883427507e-06, 1.6897051159324885e-06, 1.6610833065028422e-06, 1.6329471569198492e-06, 1.605288407415284e-06, 1.578098939129836e-06, 1.5513707716987834e-06, 1.5250960608791767e-06, 1.4992670962202672e-06, 1.4738762987724123e-06, 1.4489162188328212e-06, 1.4243795337354133e-06, 1.4002590456760394e-06, 1.3765476795724858e-06, 1.353238480966762e-06, 1.3303246139574287e-06, 1.3077993591752688e-06, 1.2856561117841176e-06, 1.2638883795242568e-06, 1.2424897807862022e-06, 1.2214540427159957e-06, 1.2007749993566287e-06, 1.1804465898192122e-06, 1.160462856483895e-06, 1.1408179432377392e-06, 1.1215060937358378e-06, 1.102521649696242e-06, 1.0838590492237742e-06, 1.0655128251608165e-06, 1.0474776034698266e-06, 1.029748101640885e-06, 1.0123191271259185e-06, 9.951855758037903e-07, 9.783424304670597e-07, 9.617847593371919e-07, 9.45507714606169e-07, 9.295065310005117e-07, 9.137765243717395e-07, 8.983130903101479e-07, 8.831117027854685e-07, 8.681679128018545e-07, 8.534773470911862e-07, 8.390357068118241e-07, 8.248387662825668e-07, 8.108823717310437e-07, 7.97162440068321e-07, 7.83674957678989e-07, 7.704159792385209e-07, 7.573816265458378e-07, 7.445680873780456e-07, 7.319716143633891e-07, 7.195885238769528e-07, 7.074151949512e-07, 6.954480682061614e-07, 6.836836448003362e-07, 6.72118485397613e-07, 6.60749209150901e-07, 6.495724927048553e-07, 6.38585069217257e-07, 6.277837273914753e-07, 6.17165310532909e-07, 6.067267156153728e-07, 5.964648923666198e-07, 5.863768423694254e-07, 5.764596181763731e-07, 5.667103224423624e-07, 5.571261070683689e-07, 5.477041723647151e-07, 5.384417662231924e-07, 5.29336183308444e-07, 5.20384764258657e-07, 5.115848949039949e-07, 5.029340054950949e-07, 4.944295699472591e-07, 4.860691050954826e-07, 4.778501699639153e-07, 4.6977036504657183e-07, 4.61827331601667e-07, 4.5401875095616695e-07, 4.463423438243586e-07, 4.387958696359064e-07, 4.313771258780899e-07, 4.2408394744528717e-07, 4.169142060046698e-07, 4.0986580936805603e-07, 4.029367008771005e-07, 3.961248587981762e-07, 3.89428295729302e-07, 3.8284505801284815e-07, 3.763732251636989e-07, 3.700109093027896e-07, 3.637562546037683e-07, 3.5760743674563966e-07, 3.5156266237833677e-07, 3.456201685945114e-07, 3.3977822241171164e-07, 3.340351202631963e-07, 3.283891874976978e-07, 3.2283877788764824e-07, 3.1738227314448904e-07, 3.120180824446538e-07, 3.0674464196154e-07, 3.015604144064455e-07, 2.9646388857749146e-07, 2.914535789155202e-07, 2.865280250683428e-07, 2.8168579146169734e-07, 2.769254668776907e-07, 2.7224566404173423e-07, 2.6764501921394605e-07, 2.6312219178994663e-07, 2.5867586390754335e-07, 2.5430474005877713e-07, 2.5000754671204845e-07, 2.457830319367881e-07, 2.4162996503643894e-07, 2.375471361886454e-07, 2.3353335608930422e-07, 2.2958745560453005e-07, 2.257082854270724e-07, 2.218947157400916e-07, 2.181456358860354e-07, 2.144599540400308e-07, 2.1083659689131063e-07, 2.0727450932747173e-07, 2.0377265412581586e-07, 2.0033001164949762e-07, 1.9694557954805867e-07, 1.9361837246457045e-07, 1.903474217467032e-07, 1.8713177516292056e-07, 1.8397049662335063e-07, 1.8086266590631056e-07, 1.7780737838763774e-07, 1.7480374477681927e-07, 1.7185089085619966e-07, 1.6894795722530927e-07, 1.6609409904867763e-07, 1.6328848580856173e-07, 1.6053030106242442e-07, 1.5781874220414977e-07, 1.5515302022743227e-07, 1.5253235949686565e-07, 1.499559975199514e-07, 1.474231847243326e-07, 1.4493318423772043e-07, 1.4248527167347177e-07, 1.4007873491801447e-07, 1.3771287392236496e-07, 1.3538700049766107e-07, 1.3310043811379937e-07, 1.3085252170182156e-07, 1.286425974589052e-07, 1.264700226575921e-07, 1.2433416545761908e-07, 1.2223440472152163e-07, 1.2017012983226174e-07, 1.1814074051556269e-07, 1.1614564666443373e-07, 1.1418426816570034e-07, 1.1225603473168345e-07, 1.103603857325571e-07, 1.084967700330462e-07, 1.066646458313219e-07, 1.0486348050042133e-07, 1.0309275043282001e-07, 1.0135194088744373e-07, 9.96405458393968e-08, 9.79580678319554e-08, 9.630401783094736e-08, 9.467791508275e-08, 9.307928697331534e-08, 9.150766889007724e-08, 8.996260408618543e-08, 8.844364354819821e-08, 8.695034586305151e-08, 8.548227709099121e-08, 8.403901063793932e-08, 8.262012713103588e-08, 8.122521429668855e-08, 7.985386683950028e-08, 7.850568632447557e-08, 7.718028106072798e-08, 7.587726598661512e-08, 7.459626255836449e-08, 7.333689863866912e-08, 7.209880838851778e-08, 7.088163216029749e-08, 6.968501639304557e-08, 6.850861350912506e-08, 6.735208181322353e-08, 6.62150853916128e-08, 6.50972940156436e-08, 6.399838304421717e-08, 6.291803332983465e-08, 6.185593112499408e-08, 6.081176799093161e-08, 5.978524070811207e-08, 5.8776051186635454e-08, 5.7783906380676664e-08, 5.680851820223809e-08, 5.58496034370098e-08, 5.490688366262519e-08, 5.398008516673792e-08, 5.3068938867449436e-08, 5.217318023495372e-08, 5.1292549214367303e-08, 5.0426790150201115e-08, 4.957565171097671e-08, 4.8738886817383195e-08, 4.791625256887757e-08, 4.7107510173758794e-08, 4.631242487953994e-08, 4.5530765903935774e-08, 4.4762306368281196e-08, 4.400682323124795e-08, 4.326409722368655e-08, 4.253391278484356e-08, 4.181605799960094e-08, 4.111032453667523e-08, 4.0416507588349524e-08, 3.9734405809907166e-08, 3.906382126214854e-08, 3.8404559352525756e-08, 3.775642877958749e-08, 3.7119241476630386e-08, 3.6492812556774073e-08, 3.5876960259919516e-08, 3.5271505899110105e-08, 3.467627380873981e-08, 3.4091091293324786e-08, 3.351578857745217e-08, 3.29501987560839e-08, 3.239415774624318e-08, 3.1847504238970536e-08, 3.13100796524889e-08, 3.07817280861523e-08, 3.0262296274925704e-08, 2.9751633544928684e-08, 2.924959176941564e-08, 2.8756025325674114e-08, 2.8270791052842053e-08, 2.7793748210079497e-08, 2.7324758435641612e-08, 2.6863685706584062e-08, 2.641039629941131e-08, 2.596475875080104e-08, 2.552664381985968e-08, 2.5095924449788737e-08, 2.46724757315955e-08, 2.425617486778008e-08, 2.3846901135908263e-08, 2.3444535854135044e-08, 2.3048962346523496e-08, 2.2660065909031904e-08, 2.227773377628385e-08, 2.190185508857174e-08, 2.1532320859832115e-08, 2.1169023945873443e-08, 2.0811859013073817e-08, 2.0460722508092585e-08, 2.0115512627263353e-08, 1.9776129287561034e-08, 1.9442474097069806e-08, 1.911445032664188e-08, 1.879196288148783e-08, 1.8474918273906925e-08, 1.8163224595702665e-08, 1.7856791491952694e-08, 1.755553013414829e-08, 1.7259353194954767e-08, 1.6968174822383805e-08, 1.668191061518289e-08, 1.6400477597950317e-08, 1.612379419733851e-08, 1.5851780218296337e-08, 1.5584356820589512e-08, 1.5321446495975433e-08, 1.5062973045644338e-08, 1.4808861558254297e-08, 1.4559038387997698e-08, 1.4313431133222507e-08, 1.4071968615461468e-08, 1.3834580858564523e-08, 1.3601199068698863e-08, 1.3371755614035161e-08, 1.3146184005357573e-08, 1.292441887643894e-08, 1.2706395965480218e-08, 1.2492052096006953e-08, 1.2281325158900364e-08, 1.2074154093913493e-08, 1.1870478872547173e-08, 1.1670240479922853e-08, 1.14733808981148e-08, 1.1279843089267049e-08, 1.1089570978818789e-08, 1.0902509439255515e-08, 1.0718604274396331e-08, 1.0537802203229698e-08, 1.0360050844765213e-08, 1.0185298702609764e-08, 1.001349515019822e-08, 9.844590415918029e-09, 9.678535568818103e-09, 9.515282504284774e-09, 9.354783930111392e-09, 9.19699335283021e-09, 9.041865064070776e-09, 8.88935412743417e-09, 8.73941636536776e-09, 8.592008346414507e-09, 8.447087372522801e-09, 8.304611466646535e-09, 8.164539360659867e-09, 8.026830483262115e-09, 7.891444948318528e-09, 7.75834354323046e-09, 7.627487717403259e-09, 7.498839571375021e-09, 7.372361845561419e-09, 7.248017909525311e-09, 7.1257717513769485e-09, 7.005587967264726e-09, 6.887431751101282e-09, 6.771268884630576e-09, 6.657065727131803e-09, 6.544789206043701e-09, 6.434406807176155e-09, 6.325886565307257e-09, 6.219197054952227e-09, 6.114307381030411e-09, 6.011187170359302e-09, 5.90980656227617e-09, 5.810136200495782e-09, 5.7121472241438775e-09, 5.615811259735971e-09, 5.52110041278631e-09, 5.4279872596667055e-09, 5.336444839807622e-09, 5.246446647757924e-09, 5.157966625465267e-09, 5.0709791549319316e-09, 4.985459050471142e-09, 4.901381551673578e-09, 4.8187223160656425e-09, 4.737457412075071e-09, 4.657563312236716e-09, 4.579016886098189e-09, 4.501795393789904e-09, 4.42587647918496e-09, 4.351238163603459e-09, 4.2778588393979574e-09, 4.205717263578169e-09, 4.134792551791827e-09, 4.065064172108452e-09, 3.996511939348344e-09, 3.929116008863746e-09, 3.862856871066095e-09, 3.79771534564603e-09, 3.73367257604124e-09, 3.6707100239212854e-09, 3.608809463954453e-09, 3.547952978311873e-09, 3.4881229516597998e-09, 3.4293020659538213e-09, 3.371473295427525e-09, 3.31461990171701e-09, 3.2587254289065364e-09, 3.2037736988646126e-09, 3.1497488065100316e-09, 3.0966351151462745e-09, 3.0444172519711504e-09, 2.9930801037571145e-09, 2.9426088121553567e-09, 2.8929887696752303e-09, 2.8442056154262677e-09, 2.7962452307032394e-09, 2.749093735188203e-09, 2.702737482809487e-09, 2.6571630577510857e-09, 2.6123572706026796e-09, 2.568307154559949e-09, 2.524999961598078e-09, 2.482423158919499e-09, 2.440564425074233e-09, 2.3994116466478806e-09, 2.3589529146275858e-09, 2.3191765209184646e-09, 2.2800709550653057e-09, 2.2416249007519786e-09, 2.2038272327408506e-09, 2.166667013460269e-09, 2.130133489876926e-09, 2.094216090427481e-09, 2.0589044219760652e-09, 2.0241882667347283e-09, 1.9900575793079964e-09, 1.9565024837920746e-09, 1.923513270998778e-09, 1.891080395501983e-09, 1.8591944729316742e-09, 1.8278462773125022e-09, 1.7970267383218078e-09, 1.7667269386651058e-09, 1.7369381115096555e-09, 1.7076516379657632e-09, 1.678859044538491e-09, 1.6505520007346847e-09, 1.6227223165911748e-09, 1.5953619403342016e-09, 1.5684629560235928e-09, 1.5420175813443507e-09, 1.5160181651953165e-09, 1.4904571856389458e-09, 1.4653272475874304e-09, 1.4406210807619988e-09, 1.416331537516848e-09, 1.3924515908110602e-09, 1.3689743321692157e-09, 1.3458929696495138e-09, 1.3232008259042004e-09, 1.3008913362300148e-09, 1.27895804670427e-09, 1.2573946122728464e-09, 1.23619479490305e-09, 1.215352461865502e-09, 1.1948615838065795e-09, 1.174716233138156e-09, 1.1549105823090627e-09, 1.135438901969655e-09, 1.116295559564254e-09, 1.0974750174527715e-09, 1.0789718314389369e-09, 1.0607806491973634e-09, 1.04289620867753e-09, 1.025313336607893e-09, 1.008026946942941e-09, 9.910320395012546e-10, 9.743236984015958e-10, 9.578970907228932e-10, 9.41747465009197e-10, 9.25870150076516e-10, 9.102605534044394e-10, 8.94914160025062e-10, 8.798265311129727e-10, 8.649933027181443e-10, 8.504101844962447e-10, 8.360729584880889e-10, 8.219774778624469e-10, 8.081196657877414e-10, 7.944955141336378e-10, 7.811010824222057e-10, 7.679324966394868e-10, 7.549859481142542e-10, 7.422576924148621e-10, 7.2974404825565e-10, 7.1744139648698e-10, 7.053461789831164e-10, 6.934548976022823e-10, 6.817641132633473e-10, 6.702704448646928e-10, 6.589705683442785e-10, 6.478612156750876e-10, 6.36939174010686e-10, 6.262012846228033e-10, 6.156444421407426e-10, 6.052655935142858e-10, 5.950617372034377e-10, 5.850299222992694e-10, 5.751672476683567e-10, 5.654708610988497e-10, 5.559379584825771e-10, 5.465657830299329e-10, 5.373516244229646e-10, 5.282928180442875e-10, 5.193867442778341e-10, 5.106308276259968e-10, 5.020225360587834e-10, 4.935593802485536e-10, 4.852389128468926e-10, 4.770587277940696e-10, 4.690164595954004e-10, 4.6110978266084045e-10, 4.5333641060351826e-10, 4.456940956486958e-10, 4.3818062786205823e-10, 4.3079383461208237e-10, 4.2353157994154867e-10, 4.163917638675389e-10, 4.09372321843634e-10, 4.024712241409752e-10, 3.9568647524645047e-10]}],\n",
              "                        {\"template\": {\"data\": {\"bar\": [{\"error_x\": {\"color\": \"#2a3f5f\"}, \"error_y\": {\"color\": \"#2a3f5f\"}, \"marker\": {\"line\": {\"color\": \"#E5ECF6\", \"width\": 0.5}}, \"type\": \"bar\"}], \"barpolar\": [{\"marker\": {\"line\": {\"color\": \"#E5ECF6\", \"width\": 0.5}}, \"type\": \"barpolar\"}], \"carpet\": [{\"aaxis\": {\"endlinecolor\": \"#2a3f5f\", \"gridcolor\": \"white\", \"linecolor\": \"white\", \"minorgridcolor\": \"white\", \"startlinecolor\": \"#2a3f5f\"}, \"baxis\": {\"endlinecolor\": \"#2a3f5f\", \"gridcolor\": \"white\", \"linecolor\": \"white\", \"minorgridcolor\": \"white\", \"startlinecolor\": \"#2a3f5f\"}, \"type\": \"carpet\"}], \"choropleth\": [{\"colorbar\": {\"outlinewidth\": 0, \"ticks\": \"\"}, \"type\": \"choropleth\"}], \"contour\": [{\"colorbar\": {\"outlinewidth\": 0, \"ticks\": \"\"}, \"colorscale\": [[0.0, \"#0d0887\"], [0.1111111111111111, \"#46039f\"], [0.2222222222222222, \"#7201a8\"], [0.3333333333333333, \"#9c179e\"], [0.4444444444444444, \"#bd3786\"], [0.5555555555555556, \"#d8576b\"], [0.6666666666666666, \"#ed7953\"], [0.7777777777777778, \"#fb9f3a\"], [0.8888888888888888, \"#fdca26\"], [1.0, \"#f0f921\"]], \"type\": \"contour\"}], \"contourcarpet\": [{\"colorbar\": {\"outlinewidth\": 0, \"ticks\": \"\"}, \"type\": \"contourcarpet\"}], \"heatmap\": [{\"colorbar\": {\"outlinewidth\": 0, \"ticks\": \"\"}, \"colorscale\": [[0.0, \"#0d0887\"], [0.1111111111111111, \"#46039f\"], [0.2222222222222222, \"#7201a8\"], [0.3333333333333333, \"#9c179e\"], [0.4444444444444444, \"#bd3786\"], [0.5555555555555556, \"#d8576b\"], [0.6666666666666666, \"#ed7953\"], [0.7777777777777778, \"#fb9f3a\"], [0.8888888888888888, \"#fdca26\"], [1.0, \"#f0f921\"]], \"type\": \"heatmap\"}], \"heatmapgl\": [{\"colorbar\": {\"outlinewidth\": 0, \"ticks\": \"\"}, \"colorscale\": [[0.0, \"#0d0887\"], [0.1111111111111111, \"#46039f\"], [0.2222222222222222, \"#7201a8\"], [0.3333333333333333, \"#9c179e\"], [0.4444444444444444, \"#bd3786\"], [0.5555555555555556, \"#d8576b\"], [0.6666666666666666, \"#ed7953\"], [0.7777777777777778, \"#fb9f3a\"], [0.8888888888888888, \"#fdca26\"], [1.0, \"#f0f921\"]], \"type\": \"heatmapgl\"}], \"histogram\": [{\"marker\": {\"colorbar\": {\"outlinewidth\": 0, \"ticks\": \"\"}}, \"type\": \"histogram\"}], \"histogram2d\": [{\"colorbar\": {\"outlinewidth\": 0, \"ticks\": \"\"}, \"colorscale\": [[0.0, \"#0d0887\"], [0.1111111111111111, \"#46039f\"], [0.2222222222222222, \"#7201a8\"], [0.3333333333333333, \"#9c179e\"], [0.4444444444444444, \"#bd3786\"], [0.5555555555555556, \"#d8576b\"], [0.6666666666666666, \"#ed7953\"], [0.7777777777777778, \"#fb9f3a\"], [0.8888888888888888, \"#fdca26\"], [1.0, \"#f0f921\"]], \"type\": \"histogram2d\"}], \"histogram2dcontour\": [{\"colorbar\": {\"outlinewidth\": 0, \"ticks\": \"\"}, \"colorscale\": [[0.0, \"#0d0887\"], [0.1111111111111111, \"#46039f\"], [0.2222222222222222, \"#7201a8\"], [0.3333333333333333, \"#9c179e\"], [0.4444444444444444, \"#bd3786\"], [0.5555555555555556, \"#d8576b\"], [0.6666666666666666, \"#ed7953\"], [0.7777777777777778, \"#fb9f3a\"], [0.8888888888888888, \"#fdca26\"], [1.0, \"#f0f921\"]], \"type\": \"histogram2dcontour\"}], \"mesh3d\": [{\"colorbar\": {\"outlinewidth\": 0, \"ticks\": \"\"}, \"type\": \"mesh3d\"}], \"parcoords\": [{\"line\": {\"colorbar\": {\"outlinewidth\": 0, \"ticks\": \"\"}}, \"type\": \"parcoords\"}], \"pie\": [{\"automargin\": true, \"type\": \"pie\"}], \"scatter\": [{\"marker\": {\"colorbar\": {\"outlinewidth\": 0, \"ticks\": \"\"}}, \"type\": \"scatter\"}], \"scatter3d\": [{\"line\": {\"colorbar\": {\"outlinewidth\": 0, \"ticks\": \"\"}}, \"marker\": {\"colorbar\": {\"outlinewidth\": 0, \"ticks\": \"\"}}, \"type\": \"scatter3d\"}], \"scattercarpet\": [{\"marker\": {\"colorbar\": {\"outlinewidth\": 0, \"ticks\": \"\"}}, \"type\": \"scattercarpet\"}], \"scattergeo\": [{\"marker\": {\"colorbar\": {\"outlinewidth\": 0, \"ticks\": \"\"}}, \"type\": \"scattergeo\"}], \"scattergl\": [{\"marker\": {\"colorbar\": {\"outlinewidth\": 0, \"ticks\": \"\"}}, \"type\": \"scattergl\"}], \"scattermapbox\": [{\"marker\": {\"colorbar\": {\"outlinewidth\": 0, \"ticks\": \"\"}}, \"type\": \"scattermapbox\"}], \"scatterpolar\": [{\"marker\": {\"colorbar\": {\"outlinewidth\": 0, \"ticks\": \"\"}}, \"type\": \"scatterpolar\"}], \"scatterpolargl\": [{\"marker\": {\"colorbar\": {\"outlinewidth\": 0, \"ticks\": \"\"}}, \"type\": \"scatterpolargl\"}], \"scatterternary\": [{\"marker\": {\"colorbar\": {\"outlinewidth\": 0, \"ticks\": \"\"}}, \"type\": \"scatterternary\"}], \"surface\": [{\"colorbar\": {\"outlinewidth\": 0, \"ticks\": \"\"}, \"colorscale\": [[0.0, \"#0d0887\"], [0.1111111111111111, \"#46039f\"], [0.2222222222222222, \"#7201a8\"], [0.3333333333333333, \"#9c179e\"], [0.4444444444444444, \"#bd3786\"], [0.5555555555555556, \"#d8576b\"], [0.6666666666666666, \"#ed7953\"], [0.7777777777777778, \"#fb9f3a\"], [0.8888888888888888, \"#fdca26\"], [1.0, \"#f0f921\"]], \"type\": \"surface\"}], \"table\": [{\"cells\": {\"fill\": {\"color\": \"#EBF0F8\"}, \"line\": {\"color\": \"white\"}}, \"header\": {\"fill\": {\"color\": \"#C8D4E3\"}, \"line\": {\"color\": \"white\"}}, \"type\": \"table\"}]}, \"layout\": {\"annotationdefaults\": {\"arrowcolor\": \"#2a3f5f\", \"arrowhead\": 0, \"arrowwidth\": 1}, \"coloraxis\": {\"colorbar\": {\"outlinewidth\": 0, \"ticks\": \"\"}}, \"colorscale\": {\"diverging\": [[0, \"#8e0152\"], [0.1, \"#c51b7d\"], [0.2, \"#de77ae\"], [0.3, \"#f1b6da\"], [0.4, \"#fde0ef\"], [0.5, \"#f7f7f7\"], [0.6, \"#e6f5d0\"], [0.7, \"#b8e186\"], [0.8, \"#7fbc41\"], [0.9, \"#4d9221\"], [1, \"#276419\"]], \"sequential\": [[0.0, \"#0d0887\"], [0.1111111111111111, \"#46039f\"], [0.2222222222222222, \"#7201a8\"], [0.3333333333333333, \"#9c179e\"], [0.4444444444444444, \"#bd3786\"], [0.5555555555555556, \"#d8576b\"], [0.6666666666666666, \"#ed7953\"], [0.7777777777777778, \"#fb9f3a\"], [0.8888888888888888, \"#fdca26\"], [1.0, \"#f0f921\"]], \"sequentialminus\": [[0.0, \"#0d0887\"], [0.1111111111111111, \"#46039f\"], [0.2222222222222222, \"#7201a8\"], [0.3333333333333333, \"#9c179e\"], [0.4444444444444444, \"#bd3786\"], [0.5555555555555556, \"#d8576b\"], [0.6666666666666666, \"#ed7953\"], [0.7777777777777778, \"#fb9f3a\"], [0.8888888888888888, \"#fdca26\"], [1.0, \"#f0f921\"]]}, \"colorway\": [\"#636efa\", \"#EF553B\", \"#00cc96\", \"#ab63fa\", \"#FFA15A\", \"#19d3f3\", \"#FF6692\", \"#B6E880\", \"#FF97FF\", \"#FECB52\"], \"font\": {\"color\": \"#2a3f5f\"}, \"geo\": {\"bgcolor\": \"white\", \"lakecolor\": \"white\", \"landcolor\": \"#E5ECF6\", \"showlakes\": true, \"showland\": true, \"subunitcolor\": \"white\"}, \"hoverlabel\": {\"align\": \"left\"}, \"hovermode\": \"closest\", \"mapbox\": {\"style\": \"light\"}, \"paper_bgcolor\": \"white\", \"plot_bgcolor\": \"#E5ECF6\", \"polar\": {\"angularaxis\": {\"gridcolor\": \"white\", \"linecolor\": \"white\", \"ticks\": \"\"}, \"bgcolor\": \"#E5ECF6\", \"radialaxis\": {\"gridcolor\": \"white\", \"linecolor\": \"white\", \"ticks\": \"\"}}, \"scene\": {\"xaxis\": {\"backgroundcolor\": \"#E5ECF6\", \"gridcolor\": \"white\", \"gridwidth\": 2, \"linecolor\": \"white\", \"showbackground\": true, \"ticks\": \"\", \"zerolinecolor\": \"white\"}, \"yaxis\": {\"backgroundcolor\": \"#E5ECF6\", \"gridcolor\": \"white\", \"gridwidth\": 2, \"linecolor\": \"white\", \"showbackground\": true, \"ticks\": \"\", \"zerolinecolor\": \"white\"}, \"zaxis\": {\"backgroundcolor\": \"#E5ECF6\", \"gridcolor\": \"white\", \"gridwidth\": 2, \"linecolor\": \"white\", \"showbackground\": true, \"ticks\": \"\", \"zerolinecolor\": \"white\"}}, \"shapedefaults\": {\"line\": {\"color\": \"#2a3f5f\"}}, \"ternary\": {\"aaxis\": {\"gridcolor\": \"white\", \"linecolor\": \"white\", \"ticks\": \"\"}, \"baxis\": {\"gridcolor\": \"white\", \"linecolor\": \"white\", \"ticks\": \"\"}, \"bgcolor\": \"#E5ECF6\", \"caxis\": {\"gridcolor\": \"white\", \"linecolor\": \"white\", \"ticks\": \"\"}}, \"title\": {\"x\": 0.05}, \"xaxis\": {\"automargin\": true, \"gridcolor\": \"white\", \"linecolor\": \"white\", \"ticks\": \"\", \"title\": {\"standoff\": 15}, \"zerolinecolor\": \"white\", \"zerolinewidth\": 2}, \"yaxis\": {\"automargin\": true, \"gridcolor\": \"white\", \"linecolor\": \"white\", \"ticks\": \"\", \"title\": {\"standoff\": 15}, \"zerolinecolor\": \"white\", \"zerolinewidth\": 2}}}, \"title\": {\"text\": \"Loss comparison\"}},\n",
              "                        {\"responsive\": true}\n",
              "                    ).then(function(){\n",
              "                            \n",
              "var gd = document.getElementById('454b5489-6035-475b-913c-463eeeb5dd69');\n",
              "var x = new MutationObserver(function (mutations, observer) {{\n",
              "        var display = window.getComputedStyle(gd).display;\n",
              "        if (!display || display === 'none') {{\n",
              "            console.log([gd, 'removed!']);\n",
              "            Plotly.purge(gd);\n",
              "            observer.disconnect();\n",
              "        }}\n",
              "}});\n",
              "\n",
              "// Listen for the removal of the full notebook cells\n",
              "var notebookContainer = gd.closest('#notebook-container');\n",
              "if (notebookContainer) {{\n",
              "    x.observe(notebookContainer, {childList: true});\n",
              "}}\n",
              "\n",
              "// Listen for the clearing of the current output cell\n",
              "var outputEl = gd.closest('.output');\n",
              "if (outputEl) {{\n",
              "    x.observe(outputEl, {childList: true});\n",
              "}}\n",
              "\n",
              "                        })\n",
              "                };\n",
              "                \n",
              "            </script>\n",
              "        </div>\n",
              "</body>\n",
              "</html>"
            ]
          },
          "metadata": {}
        }
      ]
    },
    {
      "cell_type": "code",
      "metadata": {
        "colab": {
          "base_uri": "https://localhost:8080/",
          "height": 446
        },
        "id": "GGgAZbYuNMaN",
        "outputId": "a6848873-cca8-4ca7-a30e-4b234fd1e281"
      },
      "source": [
        "pd.DataFrame({\"Params-shift Loss\":dv['Loss'], \"Finite difference\":dv_fd['Loss'], \"LCU\":dv_lcu['Loss']}, index=dv['Iteration'])"
      ],
      "execution_count": 64,
      "outputs": [
        {
          "output_type": "execute_result",
          "data": {
            "text/html": [
              "<div>\n",
              "<style scoped>\n",
              "    .dataframe tbody tr th:only-of-type {\n",
              "        vertical-align: middle;\n",
              "    }\n",
              "\n",
              "    .dataframe tbody tr th {\n",
              "        vertical-align: top;\n",
              "    }\n",
              "\n",
              "    .dataframe thead th {\n",
              "        text-align: right;\n",
              "    }\n",
              "</style>\n",
              "<table border=\"1\" class=\"dataframe\">\n",
              "  <thead>\n",
              "    <tr style=\"text-align: right;\">\n",
              "      <th></th>\n",
              "      <th>Params-shift Loss</th>\n",
              "      <th>Finite difference</th>\n",
              "      <th>LCU</th>\n",
              "    </tr>\n",
              "    <tr>\n",
              "      <th>Iteration</th>\n",
              "      <th></th>\n",
              "      <th></th>\n",
              "      <th></th>\n",
              "    </tr>\n",
              "  </thead>\n",
              "  <tbody>\n",
              "    <tr>\n",
              "      <th>0</th>\n",
              "      <td>0.38420647954293236</td>\n",
              "      <td>0.38420647954293236</td>\n",
              "      <td>0.38420647954293236</td>\n",
              "    </tr>\n",
              "    <tr>\n",
              "      <th>1</th>\n",
              "      <td>0.37947911086194586</td>\n",
              "      <td>0.37947918955597504</td>\n",
              "      <td>0.37947911086194586</td>\n",
              "    </tr>\n",
              "    <tr>\n",
              "      <th>2</th>\n",
              "      <td>0.3747745770899185</td>\n",
              "      <td>0.37477473370626957</td>\n",
              "      <td>0.3747745770899185</td>\n",
              "    </tr>\n",
              "    <tr>\n",
              "      <th>3</th>\n",
              "      <td>0.3700936802444943</td>\n",
              "      <td>0.37009391397167724</td>\n",
              "      <td>0.3700936802444943</td>\n",
              "    </tr>\n",
              "    <tr>\n",
              "      <th>4</th>\n",
              "      <td>0.36543720443572447</td>\n",
              "      <td>0.3654375144236765</td>\n",
              "      <td>0.36543720443572447</td>\n",
              "    </tr>\n",
              "    <tr>\n",
              "      <th>...</th>\n",
              "      <td>...</td>\n",
              "      <td>...</td>\n",
              "      <td>...</td>\n",
              "    </tr>\n",
              "    <tr>\n",
              "      <th>1196</th>\n",
              "      <td>4.235315799491615e-10</td>\n",
              "      <td>4.2367573832819527e-10</td>\n",
              "      <td>4.2353157994154867e-10</td>\n",
              "    </tr>\n",
              "    <tr>\n",
              "      <th>1197</th>\n",
              "      <td>4.1639176387224356e-10</td>\n",
              "      <td>4.1653361033128383e-10</td>\n",
              "      <td>4.163917638675389e-10</td>\n",
              "    </tr>\n",
              "    <tr>\n",
              "      <th>1198</th>\n",
              "      <td>4.093723218482991e-10</td>\n",
              "      <td>4.0951189336920115e-10</td>\n",
              "      <td>4.09372321843634e-10</td>\n",
              "    </tr>\n",
              "    <tr>\n",
              "      <th>1199</th>\n",
              "      <td>4.0247122414375064e-10</td>\n",
              "      <td>4.0260855713719507e-10</td>\n",
              "      <td>4.024712241409752e-10</td>\n",
              "    </tr>\n",
              "    <tr>\n",
              "      <th>1200</th>\n",
              "      <td>3.9568647525410117e-10</td>\n",
              "      <td>3.9582160552322736e-10</td>\n",
              "      <td>3.9568647524645047e-10</td>\n",
              "    </tr>\n",
              "  </tbody>\n",
              "</table>\n",
              "<p>1201 rows × 3 columns</p>\n",
              "</div>"
            ],
            "text/plain": [
              "                Params-shift Loss  ...                     LCU\n",
              "Iteration                          ...                        \n",
              "0             0.38420647954293236  ...     0.38420647954293236\n",
              "1             0.37947911086194586  ...     0.37947911086194586\n",
              "2              0.3747745770899185  ...      0.3747745770899185\n",
              "3              0.3700936802444943  ...      0.3700936802444943\n",
              "4             0.36543720443572447  ...     0.36543720443572447\n",
              "...                           ...  ...                     ...\n",
              "1196        4.235315799491615e-10  ...  4.2353157994154867e-10\n",
              "1197       4.1639176387224356e-10  ...   4.163917638675389e-10\n",
              "1198        4.093723218482991e-10  ...    4.09372321843634e-10\n",
              "1199       4.0247122414375064e-10  ...   4.024712241409752e-10\n",
              "1200       3.9568647525410117e-10  ...  3.9568647524645047e-10\n",
              "\n",
              "[1201 rows x 3 columns]"
            ]
          },
          "metadata": {},
          "execution_count": 64
        }
      ]
    }
  ]
}