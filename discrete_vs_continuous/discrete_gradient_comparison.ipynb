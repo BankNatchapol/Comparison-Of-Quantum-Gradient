{
  "cells": [
    {
      "cell_type": "markdown",
      "metadata": {
        "id": "view-in-github",
        "colab_type": "text"
      },
      "source": [
        "<a href=\"https://colab.research.google.com/github/BankNatchapol/Comparison-of-Quantum-Gradient/blob/main/discrete_vs_continuous/discrete_gradient_comparison.ipynb\" target=\"_parent\"><img src=\"https://colab.research.google.com/assets/colab-badge.svg\" alt=\"Open In Colab\"/></a>"
      ]
    },
    {
      "cell_type": "code",
      "execution_count": null,
      "metadata": {
        "id": "SBqFCoePuw6c"
      },
      "outputs": [],
      "source": [
        "!pip install pennylane-sf\n",
        "!pip install qiskit\n",
        "!pip install qiskit_optimization\n",
        "!pip install -U kaleido"
      ]
    },
    {
      "cell_type": "code",
      "execution_count": null,
      "metadata": {
        "id": "F5tj-C8xu5W_"
      },
      "outputs": [],
      "source": [
        "import pennylane as qml\n",
        "from pennylane import numpy as np\n",
        "\n",
        "from pandas.plotting import table \n",
        "import pandas as pd\n",
        "import time \n",
        "\n",
        "import networkx as nx\n",
        "import matplotlib.pyplot as plt\n",
        "\n",
        "import plotly\n",
        "import plotly.graph_objects as go\n",
        "import plotly.express as px\n",
        "\n",
        "from docplex.mp.model import Model\n",
        "from qiskit.opflow import Z, X, Y, I\n",
        "from qiskit_optimization.translators import from_docplex_mp\n",
        "from qiskit_optimization.applications import Maxcut, Clique, Knapsack\n",
        "from qiskit_optimization.converters import QuadraticProgramToQubo"
      ]
    },
    {
      "cell_type": "code",
      "execution_count": null,
      "metadata": {
        "cellView": "form",
        "id": "kVHFu8tDuDm2"
      },
      "outputs": [],
      "source": [
        "#@title Auxilary Function\n",
        "def Had(wires):\n",
        "  qml.RY(np.pi/2, wires=wires)\n",
        "  qml.RX(np.pi, wires=wires)\n",
        "\n",
        "\n",
        "def fully_connected_layer(num_wires):\n",
        "  if num_wires>1:\n",
        "    for wire in range(num_wires-1):\n",
        "      qml.CNOT(wires=[wire, wire+1])\n",
        "    qml.CNOT(wires=[wire+1, 0])\n",
        "\n",
        "def str2gate(gate):\n",
        "  if gate == 'H':\n",
        "    return Had\n",
        "  elif gate == 'X':\n",
        "    return qml.PauliX\n",
        "  elif gate == 'Y':\n",
        "    return qml.PauliY\n",
        "  elif gate == 'Z':\n",
        "    return qml.PauliZ\n",
        "  elif gate == 'RX':\n",
        "    return qml.RX\n",
        "  elif gate == 'RY':\n",
        "    return qml.RY\n",
        "  elif gate == 'RZ':\n",
        "    return qml.RZ\n",
        "  else:\n",
        "    assert 0, \"Gate not support.\"\n",
        "\n",
        "def controlStr(gate):\n",
        "  if gate == 'RX':\n",
        "    return qml.CNOT\n",
        "  elif gate == 'RY':\n",
        "    return qml.CY\n",
        "  elif gate == 'RZ':\n",
        "    return qml.CZ\n",
        "  else:\n",
        "    assert 0, \"Gate not support.\"\n",
        "    \n",
        "def hamiltonian_from_qiskit(sum_op):\n",
        "\n",
        "\t'''\n",
        "\tThis function takes a qiskit.PauliSumOp as input and\n",
        "\tgives back a Pennylane Hamiltonian as output\n",
        "\n",
        "\tsum_op  = qiskit.PauliSumOp\n",
        "\n",
        "\t'''\n",
        "\top      = sum_op.primitive.to_list()\n",
        "\tn_terms = len(op)\n",
        "\tcoeffs  = []\n",
        "\tpaulis  = []\n",
        "\n",
        "\tfor i in range(n_terms):\n",
        "\t\tpaulis.append(qml.grouping.string_to_pauli_word(\"\".join(list(reversed(op[i][0])))))\n",
        "\t\tcoeffs.append(op[i][1].real)\n",
        "\n",
        "\tp_op = qml.Hamiltonian(coeffs,paulis)\n",
        "\n",
        "\treturn p_op\n",
        "\n",
        "def hamiltonian_from_qiskit_lcu(sum_op):\n",
        "\n",
        "  '''\n",
        "  This function takes a qiskit.PauliSumOp as input and\n",
        "  gives back a Pennylane Hamiltonian as output\n",
        "\n",
        "  sum_op  = qiskit.PauliSumOp\n",
        "\n",
        "  '''\n",
        "  op      = sum_op.primitive.to_list()\n",
        "  n_terms = len(op)\n",
        "  coeffs  = []\n",
        "  paulis  = []\n",
        "\n",
        "  for i in range(n_terms):\n",
        "    if op[i][0]==\"I\":\n",
        "      paulis.append(qml.grouping.string_to_pauli_word(\"\".join(list(reversed(op[i][0])))))\n",
        "    else:\n",
        "      paulis.append(qml.grouping.string_to_pauli_word(\"\".join(list(reversed(op[i][0])))+\"Z\"))\n",
        "    coeffs.append(op[i][1].real)\n",
        "\n",
        "  p_op = qml.Hamiltonian(coeffs,paulis)\n",
        "\n",
        "  return p_op\n",
        "\n",
        "def get_adjacency_matrix(elist):\n",
        "  adjacency_matrix = np.zeros([num_wires, num_wires])\n",
        "\n",
        "  for i,j in elist:\n",
        "    adjacency_matrix[i, j] = 1.0\n",
        "    adjacency_matrix[j, i] = 1.0\n",
        "\n",
        "  return adjacency_matrix\n",
        "\n",
        "def draw_graph(elist, colors):\n",
        "  G = nx.Graph()\n",
        "  #G.add_nodes_from(np.arange(0, n, 1))\n",
        "  # tuple is (i,j,weight) where (i,j) is the edge\n",
        "  G.add_edges_from(elist)\n",
        "  pos = nx.spring_layout(G)\n",
        "  default_axes = plt.axes(frameon=True)\n",
        "  nx.draw_networkx(G, node_color=colors, node_size=600, alpha=0.8, ax=default_axes, pos=pos)\n",
        "\n",
        "def int_to_binary(value, size):\n",
        "  \"\"\"Function that converts an integer to a binary string.\"\"\"\n",
        "\n",
        "  bi = \"{0:b}\".format(value)\n",
        "  if len(bi)<size:\n",
        "    bi = \"0\"*(size-len(bi)) + bi\n",
        "  return bi"
      ]
    },
    {
      "cell_type": "markdown",
      "metadata": {
        "id": "cmviO3033yq1"
      },
      "source": [
        "# **Gradient methods**"
      ]
    },
    {
      "cell_type": "markdown",
      "metadata": {
        "id": "Omm4_hajoZQU"
      },
      "source": [
        "## Discrete-variable"
      ]
    },
    {
      "cell_type": "markdown",
      "metadata": {
        "id": "Ed08lXjuorX0"
      },
      "source": [
        "### Parameter shift rule"
      ]
    },
    {
      "cell_type": "code",
      "execution_count": null,
      "metadata": {
        "id": "10x49co1u-fB"
      },
      "outputs": [],
      "source": [
        "def parameter_shift_term(qnode, params, i, j):\n",
        "\n",
        "    shifted = params.copy()\n",
        "    \n",
        "    shifted[i, j] += np.pi/2\n",
        "    forward = qnode(shifted)  # forward evaluation\n",
        "\n",
        "    shifted[i, j] -= np.pi\n",
        "    backward = qnode(shifted) # backward evaluation\n",
        "\n",
        "    return 0.5 * (forward - backward)\n",
        "\n",
        "def parameter_shift(qnode, params):\n",
        "    gradients = np.zeros_like((params))\n",
        "    for i in range(len(gradients)):\n",
        "        for j in range(len(gradients[0])):\n",
        "            gradients[i, j] += parameter_shift_term(qnode, params, i, j)\n",
        "\n",
        "    return gradients"
      ]
    },
    {
      "cell_type": "markdown",
      "metadata": {
        "id": "N7TtarxRot62"
      },
      "source": [
        "### Finite difference"
      ]
    },
    {
      "cell_type": "code",
      "execution_count": null,
      "metadata": {
        "id": "8AIs9cEARFdc"
      },
      "outputs": [],
      "source": [
        "def finite_term(qnode, params, i, j):\n",
        "    \n",
        "    eps = 0.01\n",
        "\n",
        "    shifted = params.copy()\n",
        "    \n",
        "    shifted[i, j] += eps\n",
        "    forward = qnode(shifted)  # forward evaluation\n",
        "\n",
        "    shifted[i, j] -= 2*eps\n",
        "    backward = qnode(shifted) # backward evaluation\n",
        "\n",
        "    return (1/(2*eps)) * (forward - backward)\n",
        "\n",
        "def finite_difference(qnode, params):\n",
        "    gradients = np.zeros_like((params))\n",
        "    for i in range(len(gradients)):\n",
        "        for j in range(len(gradients[0])):\n",
        "            gradients[i, j] += finite_term(qnode, params, i, j)\n",
        "\n",
        "    return gradients"
      ]
    },
    {
      "cell_type": "markdown",
      "metadata": {
        "id": "DW_LwXFpo4Is"
      },
      "source": [
        "### Linear combination of unitaries (LCU)"
      ]
    },
    {
      "cell_type": "code",
      "execution_count": null,
      "metadata": {
        "id": "BMdOyFCWGjJR"
      },
      "outputs": [],
      "source": [
        "param_gates = ['RX', 'RY', 'RZ']\n",
        "\n",
        "def lcu_term(ansatz, params, wires, diff_index, num_wires, num_layers):\n",
        "  qml.Hadamard(wires=num_wires)\n",
        "  break_point = len(ansatz)//num_layers\n",
        "  qml.adjoint(qml.S)(wires=num_wires)\n",
        "\n",
        "  counting = 0\n",
        "  for i, gate in enumerate(ansatz):\n",
        "    \n",
        "    if gate in param_gates:\n",
        "      if i == diff_index:\n",
        "        controlStr(gate)(wires=[num_wires, (diff_index//4)%4])\n",
        "      str2gate(gate)(params[counting], wires=wires[i])\n",
        "      counting += 1\n",
        "    else:\n",
        "      str2gate(gate)(wires=wires[i])\n",
        "    if i!=0 and (i+1)%break_point==0:\n",
        "      fully_connected_layer(num_wires)\n",
        "  qml.Hadamard(wires=num_wires)\n",
        "\n",
        "def lcu_gradients(ansatz_label, H, params):\n",
        "  num_layers = len(params)\n",
        "  num_wires = len(H.wires)-1\n",
        "  num_param_gates = len(params[0])//num_wires\n",
        "\n",
        "  ansatz = ansatz_label * num_layers * num_wires\n",
        "  \n",
        "  wires = []\n",
        "  for i in range(num_layers):\n",
        "    for j in range(num_wires):\n",
        "      for k in range(4):\n",
        "        wires.append(j)\n",
        "  params = params.flatten()\n",
        "\n",
        "  dev = qml.device(\"default.qubit\", wires=num_wires+1)\n",
        "  @qml.qnode(dev)\n",
        "  def lcu(ansatz, H, params, wires, diff_index):\n",
        "    \n",
        "    lcu_term(ansatz, params, wires, diff_index, num_wires, num_layers)\n",
        "    \n",
        "    return qml.expval(H)\n",
        "\n",
        "  gradients = []\n",
        "  for i in range(len(ansatz)):\n",
        "    if ansatz[i] in param_gates:\n",
        "      gradients.append(lcu(ansatz, H, params, wires, i))\n",
        "      \n",
        "  return np.array(gradients).reshape(num_layers, -1)"
      ]
    },
    {
      "cell_type": "markdown",
      "metadata": {
        "id": "m5QkBIxFo_20"
      },
      "source": [
        "### Quantum natural gradient (QNG)"
      ]
    },
    {
      "cell_type": "code",
      "execution_count": null,
      "metadata": {
        "id": "dehyg9AOjj79"
      },
      "outputs": [],
      "source": [
        "def quantum_natural_gradient(var, H, cost_function):\n",
        "  num_wires = len(H.wires)\n",
        "  dev = qml.device('default.qubit', wires=num_wires)\n",
        "\n",
        "  @qml.qnode(dev)\n",
        "  def metric_tensor_circuit(var):\n",
        "    for v in var: \n",
        "      ansatz(v, num_wires)\n",
        "    return qml.expval(H)\n",
        "\n",
        "  metric_fn = qml.metric_tensor(metric_tensor_circuit, approx=\"block-diag\", hybrid=False)\n",
        "  grad = parameter_shift(cost_function, var)\n",
        "  grad_flatten = grad.flatten()\n",
        "  metric_tensor = metric_fn(var)\n",
        "  reg = 1e-7\n",
        "  iden = np.identity(len(metric_tensor))*reg\n",
        "  metric_tensor += iden\n",
        "  qng_grad = np.linalg.solve(metric_tensor, grad_flatten)\n",
        "\n",
        "  return qng_grad\n"
      ]
    },
    {
      "cell_type": "markdown",
      "metadata": {
        "id": "dzfWXUeMpEmK"
      },
      "source": [
        "### Quantum newton gradient"
      ]
    },
    {
      "cell_type": "code",
      "execution_count": null,
      "metadata": {
        "id": "9hBnbTl2lnPH"
      },
      "outputs": [],
      "source": [
        "def newton_gradient(cost_function, H, params, reg=2):\n",
        "  num_layers = len(params)\n",
        "  params_ori = params.copy()\n",
        "  params = params.reshape(1,-1)[0]\n",
        "  num_wires = len(H.wires)\n",
        "  dev = qml.device('default.qubit', wires=num_wires)\n",
        "\n",
        "  def ansatz_newton(var, num_wires):\n",
        "    for l in range(num_layers):\n",
        "      for wire in range(num_wires):\n",
        "        qml.Hadamard(wires=wire)\n",
        "        qml.RX(var[0+3*wire + l*3*num_wires], wires=wire)\n",
        "        qml.RY(var[1+3*wire+ l*3*num_wires], wires=wire)\n",
        "        qml.RZ(var[2+3*wire+ l*3*num_wires], wires=wire)\n",
        "      fully_connected_layer(num_wires)\n",
        "\n",
        "  @qml.qnode(dev)\n",
        "  def circuit(var, H):\n",
        "    ansatz_newton(var, num_wires)\n",
        "    return qml.expval(H)\n",
        "    \n",
        "  grad_fn = qml.grad(circuit)\n",
        "  hes_fn = qml.jacobian(grad_fn)\n",
        "  grad = parameter_shift(lambda x: cost_function(x, H), params_ori).flatten()\n",
        "  hessian_matrix = hes_fn(params, H)\n",
        "  iden = np.identity(len(hessian_matrix))*reg\n",
        "  hessian_matrix += iden\n",
        "  \n",
        "  newton_grad = np.linalg.solve(hessian_matrix, grad)\n",
        "\n",
        "  return newton_grad.reshape(num_layers,-1)\n",
        "  "
      ]
    },
    {
      "cell_type": "markdown",
      "metadata": {
        "id": "__wEBgF9oflu"
      },
      "source": [
        "## Continuous-variable"
      ]
    },
    {
      "cell_type": "markdown",
      "metadata": {
        "id": "paYNRIsEoze7"
      },
      "source": [
        "### Parameter shift rule"
      ]
    },
    {
      "cell_type": "code",
      "execution_count": null,
      "metadata": {
        "id": "TWtFpF_iRDdd"
      },
      "outputs": [],
      "source": [
        "# gate_list = ['R', 'S1', 'D1']\n",
        "\n",
        "# def parameter_shift_cv_term(qnode, params, i, j):\n",
        "    \n",
        "#     gate = gate_list[j%len(gate_list)]\n",
        "\n",
        "#     shifted = params.copy()\n",
        "\n",
        "#     if gate == 'R' or gate == 'S2' or gate == 'D2':\n",
        "#       shifted[i, j] += alpha\n",
        "#       forward = qnode(shifted)  # forward evaluation\n",
        "\n",
        "#       shifted[i, j] -= 2*alpha\n",
        "#       backward = qnode(shifted) # backward evaluation\n",
        "\n",
        "#       return (1/2) * (forward - backward)\n",
        "\n",
        "#     elif gate == 'S1':\n",
        "#       shifted[i, j] += s\n",
        "#       forward = qnode(shifted)  # forward evaluation\n",
        "\n",
        "#       shifted[i, j] -= 2*s\n",
        "#       backward = qnode(shifted) # backward evaluation\n",
        "\n",
        "#       return (1/(2*np.sinh(s))) * (forward - backward)\n",
        "    \n",
        "#     elif gate == 'D1':\n",
        "#       shifted[i, j] += s\n",
        "#       forward = qnode(shifted)  # forward evaluation\n",
        "\n",
        "#       shifted[i, j] -= 2*s\n",
        "#       backward = qnode(shifted) # backward evaluation\n",
        "\n",
        "#       return (1/(2*s)) * (forward - backward)\n",
        "\n",
        "# def parameter_shift_cv(qnode, params):\n",
        "#     gradients = np.zeros_like((params))\n",
        "#     for i in range(len(gradients)):\n",
        "#         for j in range(len(gradients[0])):\n",
        "#             gradients[i, j] += parameter_shift_cv_term(qnode, params, i, j)\n",
        "\n",
        "#     return gradients"
      ]
    },
    {
      "cell_type": "markdown",
      "metadata": {
        "id": "BDa9pqIbo1HZ"
      },
      "source": [
        "### Finite difference"
      ]
    },
    {
      "cell_type": "code",
      "execution_count": null,
      "metadata": {
        "id": "0BeJhEzKRFJQ"
      },
      "outputs": [],
      "source": [
        "# def finite_cv_term(qnode, params, i, j):\n",
        "    \n",
        "#     eps = 0.01\n",
        "\n",
        "#     shifted = params.copy()\n",
        "    \n",
        "#     shifted[i, j] += eps\n",
        "#     forward = qnode(shifted)  # forward evaluation\n",
        "\n",
        "#     shifted[i, j] -= 2*eps\n",
        "#     backward = qnode(shifted) # backward evaluation\n",
        "\n",
        "#     return (1/(2*eps)) * (forward - backward)\n",
        "\n",
        "# def finite_difference_cv(qnode, params):\n",
        "#     gradients = np.zeros_like((params))\n",
        "#     for i in range(len(gradients)):\n",
        "#         for j in range(len(gradients[0])):\n",
        "#             gradients[i, j] += finite_cv_term(qnode, params, i, j)\n",
        "\n",
        "#     return gradients"
      ]
    },
    {
      "cell_type": "markdown",
      "metadata": {
        "id": "NWTYpAxymxP5"
      },
      "source": [
        "# **Problem Fomulation** "
      ]
    },
    {
      "cell_type": "markdown",
      "metadata": {
        "id": "0ycfqqLcwi9Y"
      },
      "source": [
        "## Max-Cut"
      ]
    },
    {
      "cell_type": "code",
      "execution_count": null,
      "metadata": {
        "colab": {
          "base_uri": "https://localhost:8080/",
          "height": 248
        },
        "id": "h_A2OYHEnAxJ",
        "outputId": "08b1b274-1e0f-4011-8252-775da81fbb54"
      },
      "outputs": [
        {
          "output_type": "display_data",
          "data": {
            "text/plain": [
              "<Figure size 432x288 with 1 Axes>"
            ],
            "image/png": "[encoded data removed]"
          },
          "metadata": {}
        }
      ],
      "source": [
        "num_wires = 4  # Number of nodes in graph\n",
        "\n",
        "elist_maxcut = [(0, 1), (0, 2), (0, 3), (1, 2), (2, 3)]\n",
        "colors_maxcut = [\"r\" for node in range(num_wires)]\n",
        "\n",
        "draw_graph(elist_maxcut, colors_maxcut)"
      ]
    },
    {
      "cell_type": "code",
      "execution_count": null,
      "metadata": {
        "colab": {
          "base_uri": "https://localhost:8080/"
        },
        "id": "s8nIxhQgr90x",
        "outputId": "159f64e6-b5a9-437e-d058-e90354557027"
      },
      "outputs": [
        {
          "output_type": "stream",
          "name": "stdout",
          "text": [
            "\\ This file has been generated by DOcplex\n",
            "\\ ENCODING=ISO-8859-1\n",
            "\\Problem name: Max-cut\n",
            "\n",
            "Maximize\n",
            " obj: 3 x_0 + 2 x_1 + 3 x_2 + 2 x_3 + [ - 4 x_0*x_1 - 4 x_0*x_2 - 4 x_0*x_3\n",
            "      - 4 x_1*x_2 - 4 x_2*x_3 ]/2\n",
            "Subject To\n",
            "\n",
            "Bounds\n",
            " 0 <= x_0 <= 1\n",
            " 0 <= x_1 <= 1\n",
            " 0 <= x_2 <= 1\n",
            " 0 <= x_3 <= 1\n",
            "\n",
            "Binaries\n",
            " x_0 x_1 x_2 x_3\n",
            "End\n",
            "\n"
          ]
        }
      ],
      "source": [
        "adjacency_matrix_maxcut = get_adjacency_matrix(elist_maxcut)\n",
        "max_cut = Maxcut(adjacency_matrix_maxcut)\n",
        "qp_maxcut = max_cut.to_quadratic_program()\n",
        "print(qp_maxcut.export_as_lp_string())"
      ]
    },
    {
      "cell_type": "code",
      "execution_count": null,
      "metadata": {
        "colab": {
          "base_uri": "https://localhost:8080/"
        },
        "id": "bJh8meYXu42W",
        "outputId": "ebb91349-c29c-49a1-ad44-fdd17e319e0d"
      },
      "outputs": [
        {
          "output_type": "stream",
          "name": "stdout",
          "text": [
            "Offset: -2.5 \n",
            "\n",
            "Ising Hamiltonian:\n",
            "\n",
            "  (0.5) [Z2 Z3]\n",
            "+ (0.5) [Z1 Z2]\n",
            "+ (0.5) [Z0 Z3]\n",
            "+ (0.5) [Z0 Z2]\n",
            "+ (0.5) [Z0 Z1]\n"
          ]
        }
      ],
      "source": [
        "qubitOp_maxcut, offset_maxcut = qp_maxcut.to_ising()\n",
        "H_maxcut = hamiltonian_from_qiskit(qubitOp_maxcut)\n",
        "H_maxcut_lcu = hamiltonian_from_qiskit_lcu(qubitOp_maxcut)\n",
        "print(\"Offset:\", offset_maxcut,\"\\n\")\n",
        "print(\"Ising Hamiltonian:\\n\")\n",
        "\n",
        "print(H_maxcut)"
      ]
    },
    {
      "cell_type": "markdown",
      "metadata": {
        "id": "JP7twTOrwsE5"
      },
      "source": [
        "## Clique"
      ]
    },
    {
      "cell_type": "code",
      "execution_count": null,
      "metadata": {
        "colab": {
          "base_uri": "https://localhost:8080/",
          "height": 248
        },
        "id": "wi9JRqMzwrfJ",
        "outputId": "4b6c9067-bbcb-4149-c58d-fd2dc7231218"
      },
      "outputs": [
        {
          "output_type": "display_data",
          "data": {
            "text/plain": [
              "<Figure size 432x288 with 1 Axes>"
            ],
            "image/png": "[encoded data removed]"
          },
          "metadata": {}
        }
      ],
      "source": [
        "num_wires = 4  # Number of nodes in graph\n",
        "\n",
        "elist_clique = [(0, 1), (0, 2), (0, 3), (2, 3)]\n",
        "colors_clique = [\"r\" for node in range(num_wires)]\n",
        "\n",
        "draw_graph(elist_clique, colors_clique)"
      ]
    },
    {
      "cell_type": "code",
      "execution_count": null,
      "metadata": {
        "colab": {
          "base_uri": "https://localhost:8080/"
        },
        "id": "UKC7ThKa0axi",
        "outputId": "9b523067-a784-472e-ba82-c3c87b04900c"
      },
      "outputs": [
        {
          "output_type": "stream",
          "name": "stdout",
          "text": [
            "\\ This file has been generated by DOcplex\n",
            "\\ ENCODING=ISO-8859-1\n",
            "\\Problem name: Clique\n",
            "\n",
            "Maximize\n",
            " obj: x_0 + x_1 + x_2 + x_3\n",
            "Subject To\n",
            " c0: x_1 + x_2 <= 1\n",
            " c1: x_1 + x_3 <= 1\n",
            "\n",
            "Bounds\n",
            " 0 <= x_0 <= 1\n",
            " 0 <= x_1 <= 1\n",
            " 0 <= x_2 <= 1\n",
            " 0 <= x_3 <= 1\n",
            "\n",
            "Binaries\n",
            " x_0 x_1 x_2 x_3\n",
            "End\n",
            "\n"
          ]
        }
      ],
      "source": [
        "adjacency_matrix_clique = get_adjacency_matrix(elist_clique)\n",
        "clique = Clique(adjacency_matrix_clique)\n",
        "qp_clique = clique.to_quadratic_program()\n",
        "print(qp_clique.export_as_lp_string())"
      ]
    },
    {
      "cell_type": "code",
      "execution_count": null,
      "metadata": {
        "colab": {
          "base_uri": "https://localhost:8080/"
        },
        "id": "T1G00BHZ0jkY",
        "outputId": "b0aec1bc-e010-4171-b64e-5b5ee894d98a"
      },
      "outputs": [
        {
          "output_type": "stream",
          "name": "stdout",
          "text": [
            "Offset: 0.5 \n",
            "\n",
            "Ising Hamiltonian:\n",
            "\n",
            "  (-2.0) [Z1]\n",
            "+ (-0.75) [Z3]\n",
            "+ (-0.75) [Z2]\n",
            "+ (0.5) [Z0]\n",
            "+ (1.25) [Z1 Z3]\n",
            "+ (1.25) [Z1 Z2]\n"
          ]
        }
      ],
      "source": [
        "qp2qubo = QuadraticProgramToQubo()\n",
        "qubo_clique = qp2qubo.convert(qp_clique)\n",
        "\n",
        "qubitOp_clique, offset_clique = qubo_clique.to_ising()\n",
        "H_clique = hamiltonian_from_qiskit(qubitOp_clique)\n",
        "H_clique_lcu = hamiltonian_from_qiskit_lcu(qubitOp_clique)\n",
        "\n",
        "print(\"Offset:\", offset_clique,\"\\n\")\n",
        "print(\"Ising Hamiltonian:\\n\")\n",
        "\n",
        "print(H_clique)"
      ]
    },
    {
      "cell_type": "markdown",
      "metadata": {
        "id": "eUxr-XqQ11hl"
      },
      "source": [
        "## Binary Linear Programming"
      ]
    },
    {
      "cell_type": "code",
      "execution_count": null,
      "metadata": {
        "colab": {
          "base_uri": "https://localhost:8080/"
        },
        "id": "7PpGA_sn1By9",
        "outputId": "3e6f87a8-af8c-4fca-97e9-81ecab8b2b3e"
      },
      "outputs": [
        {
          "output_type": "stream",
          "name": "stdout",
          "text": [
            "\\ This file has been generated by DOcplex\n",
            "\\ ENCODING=ISO-8859-1\n",
            "\\Problem name: docplex model\n",
            "\n",
            "Minimize\n",
            " obj: 195000 x1 + 96000 x2 + 87000 x3 + 120000 x4\n",
            "Subject To\n",
            " c0: x1 + x3 >= 1\n",
            " c1: x2 + x4 >= 1\n",
            "\n",
            "Bounds\n",
            " 0 <= x1 <= 1\n",
            " 0 <= x2 <= 1\n",
            " 0 <= x3 <= 1\n",
            " 0 <= x4 <= 1\n",
            "\n",
            "Binaries\n",
            " x1 x2 x3 x4\n",
            "End\n",
            "\n"
          ]
        }
      ],
      "source": [
        "blp = Model(\"docplex model\")\n",
        "x1 = blp.binary_var(\"x1\")\n",
        "x2 = blp.binary_var(\"x2\")\n",
        "x3 = blp.binary_var(\"x3\")\n",
        "x4 = blp.binary_var(\"x4\")\n",
        "\n",
        "blp.minimize(195000*x1 + 96000*x2 + 87000*x3 + 120000*x4)\n",
        "blp.add_constraint(x1  + x3 >= 1)\n",
        "blp.add_constraint(x2 + x4 >= 1)\n",
        "\n",
        "# load from a Docplex model\n",
        "qp_blp = from_docplex_mp(blp)\n",
        "print(qp_blp.export_as_lp_string())"
      ]
    },
    {
      "cell_type": "code",
      "execution_count": null,
      "metadata": {
        "colab": {
          "base_uri": "https://localhost:8080/"
        },
        "id": "WVT7SBFc2N2c",
        "outputId": "a2126984-2d14-42f9-8c8f-9f18a6c46e11"
      },
      "outputs": [
        {
          "output_type": "stream",
          "name": "stdout",
          "text": [
            "Offset: 498000.5 \n",
            "\n",
            "Ising Hamiltonian:\n",
            "\n",
            "  (27000.25) [Z0]\n",
            "+ (64500.25) [Z3]\n",
            "+ (76500.25) [Z1]\n",
            "+ (81000.25) [Z2]\n",
            "+ (124500.25) [Z1 Z3]\n",
            "+ (124500.25) [Z0 Z2]\n"
          ]
        }
      ],
      "source": [
        "qubo_blp = qp2qubo.convert(qp_blp)\n",
        "\n",
        "qubitOp_blp, offset_blp = qubo_blp.to_ising()\n",
        "H_blp = hamiltonian_from_qiskit(qubitOp_blp)\n",
        "H_blp_lcu = hamiltonian_from_qiskit_lcu(qubitOp_blp)\n",
        "\n",
        "print(\"Offset:\", offset_blp,\"\\n\")\n",
        "print(\"Ising Hamiltonian:\\n\")\n",
        "\n",
        "print(H_blp)"
      ]
    },
    {
      "cell_type": "markdown",
      "metadata": {
        "id": "TagenFKd8Gxu"
      },
      "source": [
        "## Knapsack"
      ]
    },
    {
      "cell_type": "code",
      "execution_count": null,
      "metadata": {
        "colab": {
          "base_uri": "https://localhost:8080/"
        },
        "id": "M5wvhAnO2vAW",
        "outputId": "391a6187-fe87-4841-eb74-c8a1773fbc5f"
      },
      "outputs": [
        {
          "output_type": "stream",
          "name": "stdout",
          "text": [
            "\\ This file has been generated by DOcplex\n",
            "\\ ENCODING=ISO-8859-1\n",
            "\\Problem name: Knapsack\n",
            "\n",
            "Maximize\n",
            " obj: 2 x_0 + x_1\n",
            "Subject To\n",
            " c0: x_0 + 2 x_1 <= 3\n",
            "\n",
            "Bounds\n",
            " 0 <= x_0 <= 1\n",
            " 0 <= x_1 <= 1\n",
            "\n",
            "Binaries\n",
            " x_0 x_1\n",
            "End\n",
            "\n"
          ]
        }
      ],
      "source": [
        "weights = [1, 2]\n",
        "profits = [2, 1]\n",
        "max_weight = 3\n",
        "knapsack = Knapsack(profits, weights, max_weight)\n",
        "qp_ks = knapsack.to_quadratic_program()\n",
        "print(qp_ks.export_as_lp_string())"
      ]
    },
    {
      "cell_type": "code",
      "execution_count": null,
      "metadata": {
        "colab": {
          "base_uri": "https://localhost:8080/"
        },
        "id": "8-CP0Veo8Qfq",
        "outputId": "c6679498-3a58-449b-fc7e-b720ff3ad8fb"
      },
      "outputs": [
        {
          "output_type": "stream",
          "name": "stdout",
          "text": [
            "Offset: 8.5 \n",
            "\n",
            "Ising Hamiltonian:\n",
            "\n",
            "  (0.5) [Z1]\n",
            "+ (1.0) [Z0]\n",
            "+ (2.0) [Z0 Z2]\n",
            "+ (4.0) [Z2 Z3]\n",
            "+ (4.0) [Z1 Z2]\n",
            "+ (4.0) [Z0 Z3]\n",
            "+ (4.0) [Z0 Z1]\n",
            "+ (8.0) [Z1 Z3]\n"
          ]
        }
      ],
      "source": [
        "qubo_ks = qp2qubo.convert(qp_ks)\n",
        "\n",
        "qubitOp_ks, offset_ks = qubo_ks.to_ising()\n",
        "H_ks = hamiltonian_from_qiskit(qubitOp_ks)\n",
        "H_ks_lcu = hamiltonian_from_qiskit_lcu(qubitOp_ks)\n",
        "\n",
        "print(\"Offset:\", offset_ks,\"\\n\")\n",
        "print(\"Ising Hamiltonian:\\n\")\n",
        "\n",
        "print(H_ks)"
      ]
    },
    {
      "cell_type": "markdown",
      "metadata": {
        "id": "7oOYIsk033zu"
      },
      "source": [
        "# **Optimization**"
      ]
    },
    {
      "cell_type": "markdown",
      "metadata": {
        "id": "kqRA7CVVRbzD"
      },
      "source": [
        "## Discrete-variable"
      ]
    },
    {
      "cell_type": "code",
      "execution_count": null,
      "metadata": {
        "id": "cmWZibCLr1-6"
      },
      "outputs": [],
      "source": [
        "# guesting ansatz state\n",
        "\n",
        "ansatz_label = ['H', 'RX', 'RY', 'RZ'] \n",
        "\n",
        "def ansatz(var, num_wires):\n",
        "    for wire in range(num_wires):\n",
        "      qml.Hadamard(wires=wire)\n",
        "      qml.RX(var[0+3*wire], wires=wire)\n",
        "      qml.RY(var[1+3*wire], wires=wire)\n",
        "      qml.RZ(var[2+3*wire], wires=wire)\n",
        "    fully_connected_layer(num_wires)"
      ]
    },
    {
      "cell_type": "code",
      "execution_count": null,
      "metadata": {
        "id": "jz3X0YaN5f65"
      },
      "outputs": [],
      "source": [
        "def cost_function(var, H):\n",
        "  num_wires = len(H.wires)\n",
        "  dev = qml.device('default.qubit', wires=num_wires)\n",
        "\n",
        "  @qml.qnode(dev)\n",
        "  def circuit(var, H):\n",
        "    for v in var: \n",
        "      ansatz(v, num_wires)\n",
        "    return qml.expval(H)\n",
        "\n",
        "  return circuit(var, H)"
      ]
    },
    {
      "cell_type": "markdown",
      "metadata": {
        "id": "U-Uy87BL98bh"
      },
      "source": [
        "Probability distribution of estimated gate "
      ]
    },
    {
      "cell_type": "code",
      "execution_count": null,
      "metadata": {
        "id": "1tV5rVji9kZv"
      },
      "outputs": [],
      "source": [
        "# prediction circuit\n",
        "def prediction(var, num_param_gates):\n",
        "  num_wires = len(var[0])//num_param_gates\n",
        "  dev = qml.device('default.qubit', wires=num_wires)\n",
        "  @qml.qnode(dev)\n",
        "  def circuit(var):\n",
        "    for v in var: \n",
        "      ansatz(v, num_wires)\n",
        "    return qml.probs(wires=range(num_wires))  # get prediction probability\n",
        "  \n",
        "  state = circuit(var)\n",
        "  result = np.argmax(state)\n",
        "  return int_to_binary(result, num_wires)[::-1]"
      ]
    },
    {
      "cell_type": "code",
      "execution_count": null,
      "metadata": {
        "id": "d6tRbcsMvM0F"
      },
      "outputs": [],
      "source": [
        "np.random.seed(1)\n",
        "num_layers = 2\n",
        "num_param_gates = 3\n",
        "\n",
        "var_init_maxcut = 0.5*np.random.randn(num_layers, num_param_gates*len(H_maxcut.wires))\n",
        "var_init_clique = 0.5*np.random.randn(num_layers, num_param_gates*len(H_clique.wires))\n",
        "var_init_blp = 0.5*np.random.randn(num_layers, num_param_gates*len(H_blp.wires))\n",
        "var_init_ks = 0.5*np.random.randn(num_layers, num_param_gates*len(H_ks.wires))\n",
        "\n",
        "steps = [2, 4, 6, 8, 10]"
      ]
    },
    {
      "cell_type": "code",
      "execution_count": null,
      "metadata": {
        "colab": {
          "base_uri": "https://localhost:8080/"
        },
        "id": "29C6GDYBvUYp",
        "outputId": "461e8ade-caf5-4f4f-b8d4-ff5d737f9903"
      },
      "outputs": [
        {
          "output_type": "stream",
          "name": "stdout",
          "text": [
            "Initial cost:  -1.7157690662825986\n"
          ]
        }
      ],
      "source": [
        "print(\"Initial cost: \", cost_function(var_init_maxcut, H_maxcut)+offset_maxcut)"
      ]
    },
    {
      "cell_type": "code",
      "execution_count": null,
      "metadata": {
        "colab": {
          "base_uri": "https://localhost:8080/"
        },
        "id": "q0a18ZmFIPGh",
        "outputId": "15ef5be4-0992-49ae-a756-a69af3ea92e5"
      },
      "outputs": [
        {
          "output_type": "stream",
          "name": "stdout",
          "text": [
            "Prediction:  0000\n"
          ]
        }
      ],
      "source": [
        "print(\"Prediction: \", prediction(var_init_maxcut, num_param_gates))"
      ]
    },
    {
      "cell_type": "markdown",
      "metadata": {
        "id": "7OYcgWKJj3qJ"
      },
      "source": [
        "Function for training optimizer"
      ]
    },
    {
      "cell_type": "code",
      "execution_count": null,
      "metadata": {
        "id": "xwTUGtTVN2dE"
      },
      "outputs": [],
      "source": [
        "def train(cost_fn, grad_fn, epochs, var_init, lr):\n",
        "  lost_list = []\n",
        "  time_list = []\n",
        "\n",
        "  var = var_init.copy()\n",
        "\n",
        "  opt = qml.RMSPropOptimizer(lr)\n",
        "\n",
        "  start = time.time()\n",
        "\n",
        "  for it in range(epochs):# while True:\n",
        "      var, _cost = opt.step_and_cost(cost_fn, var, grad_fn=grad_fn) \n",
        "      lost_list.append(_cost.numpy())\n",
        "\n",
        "      if it%10==0:\n",
        "        print(\"Iter: {:5d} | Cost: {:0.11f} \".format(it, _cost))\n",
        "\n",
        "      end = time.time()\n",
        "      t = end - start\n",
        "      time_list.append(t)\n",
        "\n",
        "  return lost_list, time_list, var"
      ]
    },
    {
      "cell_type": "markdown",
      "metadata": {
        "id": "GQ_q_OtUo69M"
      },
      "source": [
        "Varaible List"
      ]
    },
    {
      "cell_type": "code",
      "execution_count": null,
      "metadata": {
        "id": "wFNkMofzoveu"
      },
      "outputs": [],
      "source": [
        "# lost list\n",
        "psl = []\n",
        "fdl = []\n",
        "lcul = []\n",
        "qngl = []\n",
        "qnwl = []\n",
        "\n",
        "# time list\n",
        "pst = []\n",
        "fdt = []\n",
        "lcut = []\n",
        "qngt = []\n",
        "qnwt = []\n",
        "\n",
        "\n",
        "# lost list change num layer\n",
        "pslc = []\n",
        "fdlc = []\n",
        "lculc = []\n",
        "qnglc = []\n",
        "qnwlc = []\n",
        "\n",
        "# time list change num layer\n",
        "pstc = []\n",
        "fdtc = []\n",
        "lcutc = []\n",
        "qngtc = []\n",
        "qnwtc = []"
      ]
    },
    {
      "cell_type": "markdown",
      "metadata": {
        "id": "C9k03eA5-l06"
      },
      "source": [
        "### Parameter Shift Rule"
      ]
    },
    {
      "cell_type": "markdown",
      "metadata": {
        "id": "84GFiSYSLbKU"
      },
      "source": [
        "#### Max-Cut"
      ]
    },
    {
      "cell_type": "code",
      "execution_count": null,
      "metadata": {
        "colab": {
          "base_uri": "https://localhost:8080/"
        },
        "id": "0t_JHnhVvfzR",
        "outputId": "969e0d4a-c65b-4b90-e75a-c5b86adb3b62"
      },
      "outputs": [
        {
          "output_type": "stream",
          "name": "stdout",
          "text": [
            "Iter:     0 | Cost: -1.71576906628 \n",
            "Iter:    10 | Cost: -2.92916432842 \n",
            "Iter:    20 | Cost: -3.11048527652 \n",
            "Iter:    30 | Cost: -3.34736042978 \n",
            "Iter:    40 | Cost: -3.48595961977 \n",
            "Iter:    50 | Cost: -3.49983208406 \n",
            "Iter:    60 | Cost: -3.49999990501 \n",
            "Iter:    70 | Cost: -3.49999947768 \n",
            "Iter:    80 | Cost: -3.49423438483 \n",
            "Iter:    90 | Cost: -3.49956678195 \n",
            "Iter:   100 | Cost: -3.49925734176 \n"
          ]
        }
      ],
      "source": [
        "lr = 0.03\n",
        "epochs = 101\n",
        "\n",
        "cost_fn = lambda v: cost_function(v, H_maxcut)+offset_maxcut\n",
        "grad_fn = lambda var: parameter_shift(lambda x: cost_function(x, H_maxcut), var)\n",
        "lost_list, time_list, var = train(cost_fn, grad_fn, epochs, var_init_maxcut, lr)\n",
        "psl.append(lost_list)\n",
        "pst.append(time_list)"
      ]
    },
    {
      "cell_type": "code",
      "execution_count": null,
      "metadata": {
        "colab": {
          "base_uri": "https://localhost:8080/"
        },
        "id": "JkGGtPV0C68a",
        "outputId": "f79849a8-14da-46aa-8fa4-3ed813916a47"
      },
      "outputs": [
        {
          "output_type": "stream",
          "name": "stdout",
          "text": [
            "Iter:     0 | Cost: -1.71576906628 \n",
            "Iter:    10 | Cost: -2.92916432842 \n",
            "Iter:     0 | Cost: -1.89311957074 \n",
            "Iter:    10 | Cost: -3.53930104842 \n",
            "Iter:     0 | Cost: -2.03814866340 \n",
            "Iter:    10 | Cost: -3.82823170950 \n",
            "Iter:     0 | Cost: -2.44119325891 \n",
            "Iter:    10 | Cost: -3.78783720610 \n",
            "Iter:     0 | Cost: -2.72776845307 \n",
            "Iter:    10 | Cost: -3.93299095537 \n"
          ]
        }
      ],
      "source": [
        "lr = 0.03\n",
        "epochs = 11\n",
        "\n",
        "np.random.seed(1)\n",
        "num_param_gates = 3\n",
        "\n",
        "temp1 = []\n",
        "temp2 = []\n",
        "for num_layers in steps:\n",
        "  var_init_maxcutc = 0.5*np.random.randn(num_layers, num_param_gates*len(H_maxcut.wires))\n",
        "\n",
        "  cost_fn = lambda v: cost_function(v, H_maxcut)+offset_maxcut\n",
        "  grad_fn = lambda var: parameter_shift(lambda x: cost_function(x, H_maxcut), var)\n",
        "  lost_list, time_list, _ = train(cost_fn, grad_fn, epochs, var_init_maxcutc, lr)\n",
        "  temp1.append(lost_list[-1])\n",
        "  temp2.append(time_list[-1])\n",
        "\n",
        "pslc.append(temp1)\n",
        "pstc.append(temp2)"
      ]
    },
    {
      "cell_type": "markdown",
      "metadata": {
        "id": "avIv6907onIA"
      },
      "source": [
        "#### Clique"
      ]
    },
    {
      "cell_type": "code",
      "execution_count": null,
      "metadata": {
        "colab": {
          "base_uri": "https://localhost:8080/"
        },
        "id": "VeV657Avomoc",
        "outputId": "4024d606-fe88-41ae-d1e4-320c9177f674"
      },
      "outputs": [
        {
          "output_type": "stream",
          "name": "stdout",
          "text": [
            "Iter:     0 | Cost: 0.12889348726 \n",
            "Iter:    10 | Cost: -1.94362101683 \n",
            "Iter:    20 | Cost: -2.34559567383 \n",
            "Iter:    30 | Cost: -2.45196028842 \n",
            "Iter:    40 | Cost: -2.48354286450 \n",
            "Iter:    50 | Cost: -2.49451567238 \n",
            "Iter:    60 | Cost: -2.49839653114 \n",
            "Iter:    70 | Cost: -2.49478568494 \n",
            "Iter:    80 | Cost: -2.49799505377 \n",
            "Iter:    90 | Cost: -2.49835671272 \n",
            "Iter:   100 | Cost: -2.49815187014 \n"
          ]
        }
      ],
      "source": [
        "lr = 0.03\n",
        "epochs = 101\n",
        "\n",
        "cost_fn = lambda v: cost_function(v, H_clique)+offset_clique\n",
        "grad_fn = lambda var: parameter_shift(lambda x: cost_function(x, H_clique), var)\n",
        "lost_list, time_list, _ = train(cost_fn, grad_fn, epochs, var_init_clique, lr)\n",
        "psl.append(lost_list)\n",
        "pst.append(time_list)"
      ]
    },
    {
      "cell_type": "code",
      "execution_count": null,
      "metadata": {
        "colab": {
          "base_uri": "https://localhost:8080/"
        },
        "id": "1tizbT_CPjbC",
        "outputId": "cf10c5ce-8d66-4196-cafc-fb3e7bb10e75"
      },
      "outputs": [
        {
          "output_type": "stream",
          "name": "stdout",
          "text": [
            "Iter:     0 | Cost: -0.32878854620 \n",
            "Iter:    10 | Cost: -1.87686385822 \n",
            "Iter:     0 | Cost: -0.62011189961 \n",
            "Iter:    10 | Cost: -2.40720219177 \n",
            "Iter:     0 | Cost: 1.03736341873 \n",
            "Iter:    10 | Cost: -2.63585339362 \n",
            "Iter:     0 | Cost: 0.69824350827 \n",
            "Iter:    10 | Cost: -2.78925391167 \n",
            "Iter:     0 | Cost: 1.96240124826 \n",
            "Iter:    10 | Cost: -2.65025204862 \n"
          ]
        }
      ],
      "source": [
        "lr = 0.03\n",
        "epochs = 11\n",
        "\n",
        "np.random.seed(1)\n",
        "num_param_gates = 3\n",
        "\n",
        "temp1 = []\n",
        "temp2 = []\n",
        "for num_layers in steps:\n",
        "  var_init_cliquec = 0.5*np.random.randn(num_layers, num_param_gates*len(H_clique.wires))\n",
        "\n",
        "  cost_fn = lambda v: cost_function(v, H_clique)+offset_clique\n",
        "  grad_fn = lambda var: parameter_shift(lambda x: cost_function(x, H_clique), var)\n",
        "  lost_list, time_list, _ = train(cost_fn, grad_fn, epochs, var_init_cliquec, lr)\n",
        "  temp1.append(lost_list[-1])\n",
        "  temp2.append(time_list[-1])\n",
        "\n",
        "pslc.append(temp1)\n",
        "pstc.append(temp2)"
      ]
    },
    {
      "cell_type": "markdown",
      "metadata": {
        "id": "hU-zm57fpZqa"
      },
      "source": [
        "#### Binary Linear Programming"
      ]
    },
    {
      "cell_type": "code",
      "execution_count": null,
      "metadata": {
        "colab": {
          "base_uri": "https://localhost:8080/"
        },
        "id": "W8Hast63pcdJ",
        "outputId": "495ed977-9733-4ceb-d8d1-99f3ff003718"
      },
      "outputs": [
        {
          "output_type": "stream",
          "name": "stdout",
          "text": [
            "Iter:     0 | Cost: 667294.31366741285 \n",
            "Iter:    10 | Cost: 380039.14750654984 \n",
            "Iter:    20 | Cost: 306427.84090514830 \n",
            "Iter:    30 | Cost: 257869.31339366946 \n",
            "Iter:    40 | Cost: 213104.50375085504 \n",
            "Iter:    50 | Cost: 189464.36864009284 \n",
            "Iter:    60 | Cost: 183724.44258928957 \n",
            "Iter:    70 | Cost: 183028.39590268570 \n",
            "Iter:    80 | Cost: 183000.09582436603 \n",
            "Iter:    90 | Cost: 183000.45272810874 \n",
            "Iter:   100 | Cost: 183011.13886463881 \n"
          ]
        }
      ],
      "source": [
        "lr = 0.03\n",
        "epochs = 101\n",
        "\n",
        "cost_fn = lambda v: cost_function(v, H_blp)+offset_blp\n",
        "grad_fn = lambda var: parameter_shift(lambda x: cost_function(x, H_blp), var)\n",
        "lost_list, time_list, _ = train(cost_fn, grad_fn, epochs, var_init_blp, lr)\n",
        "psl.append(lost_list)\n",
        "pst.append(time_list)"
      ]
    },
    {
      "cell_type": "code",
      "execution_count": null,
      "metadata": {
        "colab": {
          "base_uri": "https://localhost:8080/"
        },
        "id": "qs-Bfd4tQGE9",
        "outputId": "4627d88b-5899-462b-931a-2b9bf292489f"
      },
      "outputs": [
        {
          "output_type": "stream",
          "name": "stdout",
          "text": [
            "Iter:     0 | Cost: 631720.31831967935 \n",
            "Iter:    10 | Cost: 314801.59237132076 \n",
            "Iter:     0 | Cost: 659107.38464029436 \n",
            "Iter:    10 | Cost: 285518.82152659062 \n",
            "Iter:     0 | Cost: 601268.39232154237 \n",
            "Iter:    10 | Cost: 233156.36877137632 \n",
            "Iter:     0 | Cost: 416790.04523771151 \n",
            "Iter:    10 | Cost: 194202.64663859428 \n",
            "Iter:     0 | Cost: 445969.56532474287 \n",
            "Iter:    10 | Cost: 217817.13097259385 \n"
          ]
        }
      ],
      "source": [
        "lr = 0.03\n",
        "epochs = 11\n",
        "\n",
        "np.random.seed(1)\n",
        "num_param_gates = 3\n",
        "\n",
        "temp1 = []\n",
        "temp2 = []\n",
        "for num_layers in steps:\n",
        "  var_init_blpc = 0.5*np.random.randn(num_layers, num_param_gates*len(H_blp.wires))\n",
        "\n",
        "  cost_fn = lambda v: cost_function(v, H_blp)+offset_blp\n",
        "  grad_fn = lambda var: parameter_shift(lambda x: cost_function(x, H_blp), var)\n",
        "  lost_list, time_list, _ = train(cost_fn, grad_fn, epochs, var_init_blpc, lr)\n",
        "  temp1.append(lost_list[-1])\n",
        "  temp2.append(time_list[-1])\n",
        "\n",
        "pslc.append(temp1)\n",
        "pstc.append(temp2)"
      ]
    },
    {
      "cell_type": "markdown",
      "metadata": {
        "id": "jNYQSrLapiIV"
      },
      "source": [
        "#### Knapsack"
      ]
    },
    {
      "cell_type": "code",
      "execution_count": null,
      "metadata": {
        "colab": {
          "base_uri": "https://localhost:8080/"
        },
        "id": "RpFPvkz-pkzz",
        "outputId": "c59e3cc5-c196-426f-e971-2d8decd6cd35"
      },
      "outputs": [
        {
          "output_type": "stream",
          "name": "stdout",
          "text": [
            "Iter:     0 | Cost: 27.69312856107 \n",
            "Iter:    10 | Cost: 5.54870502942 \n",
            "Iter:    20 | Cost: 3.09184860769 \n",
            "Iter:    30 | Cost: 0.91336450593 \n",
            "Iter:    40 | Cost: -1.70638927527 \n",
            "Iter:    50 | Cost: -2.75645495037 \n",
            "Iter:    60 | Cost: -2.96160359888 \n",
            "Iter:    70 | Cost: -2.99657026131 \n",
            "Iter:    80 | Cost: -2.99991661554 \n",
            "Iter:    90 | Cost: -2.99999933457 \n",
            "Iter:   100 | Cost: -2.99999999960 \n"
          ]
        }
      ],
      "source": [
        "lr = 0.03\n",
        "epochs = 101\n",
        "\n",
        "cost_fn = lambda v: cost_function(v, H_ks)+offset_ks\n",
        "grad_fn = lambda var: parameter_shift(lambda x: cost_function(x, H_ks), var)\n",
        "lost_list, time_list, _ = train(cost_fn, grad_fn, epochs, var_init_ks, lr)\n",
        "psl.append(lost_list)\n",
        "pst.append(time_list)"
      ]
    },
    {
      "cell_type": "code",
      "execution_count": null,
      "metadata": {
        "colab": {
          "base_uri": "https://localhost:8080/"
        },
        "id": "cqwnUTnVQWHV",
        "outputId": "dac73367-84e7-4f19-c857-08004ec3e76d"
      },
      "outputs": [
        {
          "output_type": "stream",
          "name": "stdout",
          "text": [
            "Iter:     0 | Cost: 16.08365820085 \n",
            "Iter:    10 | Cost: 2.24360521907 \n",
            "Iter:     0 | Cost: 15.75963494829 \n",
            "Iter:    10 | Cost: -0.20698997864 \n",
            "Iter:     0 | Cost: 14.88568424087 \n",
            "Iter:    10 | Cost: 0.18794862926 \n",
            "Iter:     0 | Cost: 7.31937591142 \n",
            "Iter:    10 | Cost: -0.99668318014 \n",
            "Iter:     0 | Cost: 7.32230064599 \n",
            "Iter:    10 | Cost: -1.77927028829 \n"
          ]
        }
      ],
      "source": [
        "lr = 0.03\n",
        "epochs = 11\n",
        "\n",
        "np.random.seed(1)\n",
        "num_param_gates = 3\n",
        "\n",
        "temp1 = []\n",
        "temp2 = []\n",
        "for num_layers in steps:\n",
        "  var_init_ksc = 0.5*np.random.randn(num_layers, num_param_gates*len(H_ks.wires))\n",
        "\n",
        "  cost_fn = lambda v: cost_function(v, H_ks)+offset_ks\n",
        "  grad_fn = lambda var: parameter_shift(lambda x: cost_function(x, H_ks), var)\n",
        "  lost_list, time_list, _ = train(cost_fn, grad_fn, epochs, var_init_ksc, lr)\n",
        "  temp1.append(lost_list[-1])\n",
        "  temp2.append(time_list[-1])\n",
        "\n",
        "pslc.append(temp1)\n",
        "pstc.append(temp2)"
      ]
    },
    {
      "cell_type": "markdown",
      "metadata": {
        "id": "WTA8kfPKptwn"
      },
      "source": [
        "### Finite Difference"
      ]
    },
    {
      "cell_type": "markdown",
      "metadata": {
        "id": "wF1J0w4OkjWc"
      },
      "source": [
        "#### Max-Cut"
      ]
    },
    {
      "cell_type": "code",
      "execution_count": null,
      "metadata": {
        "colab": {
          "base_uri": "https://localhost:8080/"
        },
        "id": "BR87ifUYRp4l",
        "outputId": "3f037853-d135-4fff-d8f2-9b5cee96739d"
      },
      "outputs": [
        {
          "output_type": "stream",
          "name": "stdout",
          "text": [
            "Iter:     0 | Cost: -1.71576906628 \n",
            "Iter:    10 | Cost: -2.92916432842 \n",
            "Iter:    20 | Cost: -3.11048527652 \n",
            "Iter:    30 | Cost: -3.34736042977 \n",
            "Iter:    40 | Cost: -3.48595961977 \n",
            "Iter:    50 | Cost: -3.49983208406 \n",
            "Iter:    60 | Cost: -3.49999990480 \n",
            "Iter:    70 | Cost: -3.49999947244 \n",
            "Iter:    80 | Cost: -3.49423034186 \n",
            "Iter:    90 | Cost: -3.49956528291 \n",
            "Iter:   100 | Cost: -3.49925844678 \n"
          ]
        }
      ],
      "source": [
        "lr = 0.03\n",
        "epochs = 101\n",
        "\n",
        "cost_fn = lambda v: cost_function(v, H_maxcut)+offset_maxcut\n",
        "grad_fn = lambda var: finite_difference(lambda x: cost_function(x, H_maxcut), var)\n",
        "lost_list, time_list, _ = train(cost_fn, grad_fn, epochs, var_init_maxcut, lr)\n",
        "fdl.append(lost_list)\n",
        "fdt.append(time_list)"
      ]
    },
    {
      "cell_type": "code",
      "execution_count": null,
      "metadata": {
        "colab": {
          "base_uri": "https://localhost:8080/"
        },
        "id": "8mTRZkyoQi6b",
        "outputId": "deff5185-1b63-40a9-f9a8-459aee203740"
      },
      "outputs": [
        {
          "output_type": "stream",
          "name": "stdout",
          "text": [
            "Iter:     0 | Cost: -1.71576906628 \n",
            "Iter:    10 | Cost: -2.92916432842 \n",
            "Iter:     0 | Cost: -1.89311957074 \n",
            "Iter:    10 | Cost: -3.53930104627 \n",
            "Iter:     0 | Cost: -2.03814866340 \n",
            "Iter:    10 | Cost: -3.82823171135 \n",
            "Iter:     0 | Cost: -2.44119325891 \n",
            "Iter:    10 | Cost: -3.78783736751 \n",
            "Iter:     0 | Cost: -2.72776845307 \n",
            "Iter:    10 | Cost: -3.93299095587 \n"
          ]
        }
      ],
      "source": [
        "lr = 0.03\n",
        "epochs = 11\n",
        "\n",
        "np.random.seed(1)\n",
        "num_param_gates = 3\n",
        "\n",
        "temp1 = []\n",
        "temp2 = []\n",
        "for num_layers in steps:\n",
        "  var_init_maxcutc = 0.5*np.random.randn(num_layers, num_param_gates*len(H_maxcut.wires))\n",
        "\n",
        "  cost_fn = lambda v: cost_function(v, H_maxcut)+offset_maxcut\n",
        "  grad_fn = lambda var: finite_difference(lambda x: cost_function(x, H_maxcut), var)\n",
        "  lost_list, time_list, _ = train(cost_fn, grad_fn, epochs, var_init_maxcutc, lr)\n",
        "  temp1.append(lost_list[-1])\n",
        "  temp2.append(time_list[-1])\n",
        "\n",
        "fdlc.append(temp1)\n",
        "fdtc.append(temp2)"
      ]
    },
    {
      "cell_type": "markdown",
      "metadata": {
        "id": "gpzvRU81ksvP"
      },
      "source": [
        "#### Clique"
      ]
    },
    {
      "cell_type": "code",
      "execution_count": null,
      "metadata": {
        "colab": {
          "base_uri": "https://localhost:8080/"
        },
        "id": "hmcZlYu-kusq",
        "outputId": "9d70a2db-293a-4eb0-d337-9c85aa8de2fc"
      },
      "outputs": [
        {
          "output_type": "stream",
          "name": "stdout",
          "text": [
            "Iter:     0 | Cost: 0.12889348726 \n",
            "Iter:    10 | Cost: -1.94362101686 \n",
            "Iter:    20 | Cost: -2.34559567384 \n",
            "Iter:    30 | Cost: -2.45196028842 \n",
            "Iter:    40 | Cost: -2.48354286474 \n",
            "Iter:    50 | Cost: -2.49451567217 \n",
            "Iter:    60 | Cost: -2.49839653132 \n",
            "Iter:    70 | Cost: -2.49478568717 \n",
            "Iter:    80 | Cost: -2.49799505336 \n",
            "Iter:    90 | Cost: -2.49835671269 \n",
            "Iter:   100 | Cost: -2.49815187030 \n"
          ]
        }
      ],
      "source": [
        "lr = 0.03\n",
        "epochs = 101\n",
        "\n",
        "cost_fn = lambda v: cost_function(v, H_clique)+offset_clique\n",
        "grad_fn = lambda var: finite_difference(lambda x: cost_function(x, H_clique), var)\n",
        "lost_list, time_list, _ = train(cost_fn, grad_fn, epochs, var_init_clique, lr)\n",
        "fdl.append(lost_list)\n",
        "fdt.append(time_list)"
      ]
    },
    {
      "cell_type": "code",
      "execution_count": null,
      "metadata": {
        "colab": {
          "base_uri": "https://localhost:8080/"
        },
        "id": "A_H9uW-gQut-",
        "outputId": "118a59f4-e96d-44fa-f632-ef9ac8123494"
      },
      "outputs": [
        {
          "output_type": "stream",
          "name": "stdout",
          "text": [
            "Iter:     0 | Cost: -0.32878854620 \n",
            "Iter:    10 | Cost: -1.87686383554 \n",
            "Iter:     0 | Cost: -0.62011189961 \n",
            "Iter:    10 | Cost: -2.40720219150 \n",
            "Iter:     0 | Cost: 1.03736341873 \n",
            "Iter:    10 | Cost: -2.63585339360 \n",
            "Iter:     0 | Cost: 0.69824350827 \n",
            "Iter:    10 | Cost: -2.78925386359 \n",
            "Iter:     0 | Cost: 1.96240124826 \n",
            "Iter:    10 | Cost: -2.65025204880 \n"
          ]
        }
      ],
      "source": [
        "lr = 0.03\n",
        "epochs = 11\n",
        "\n",
        "np.random.seed(1)\n",
        "num_param_gates = 3\n",
        "\n",
        "temp1 = []\n",
        "temp2 = []\n",
        "for num_layers in steps:\n",
        "  var_init_cliquec = 0.5*np.random.randn(num_layers, num_param_gates*len(H_clique.wires))\n",
        "\n",
        "  cost_fn = lambda v: cost_function(v, H_clique)+offset_clique\n",
        "  grad_fn = lambda var: finite_difference(lambda x: cost_function(x, H_clique), var)\n",
        "  lost_list, time_list, _ = train(cost_fn, grad_fn, epochs, var_init_cliquec, lr)\n",
        "  temp1.append(lost_list[-1])\n",
        "  temp2.append(time_list[-1])\n",
        "\n",
        "fdlc.append(temp1)\n",
        "fdtc.append(temp2)"
      ]
    },
    {
      "cell_type": "markdown",
      "metadata": {
        "id": "JUW4-obPk4JG"
      },
      "source": [
        "#### Binary Linear Programming"
      ]
    },
    {
      "cell_type": "code",
      "execution_count": null,
      "metadata": {
        "colab": {
          "base_uri": "https://localhost:8080/"
        },
        "id": "ulpG-fsHk7EB",
        "outputId": "bdd86777-b2a1-4bd0-f937-2e2742554677"
      },
      "outputs": [
        {
          "output_type": "stream",
          "name": "stdout",
          "text": [
            "Iter:     0 | Cost: 667294.31366741285 \n",
            "Iter:    10 | Cost: 380039.14750654961 \n",
            "Iter:    20 | Cost: 306427.84090514854 \n",
            "Iter:    30 | Cost: 257869.31339367171 \n",
            "Iter:    40 | Cost: 213104.50375085883 \n",
            "Iter:    50 | Cost: 189464.36864009482 \n",
            "Iter:    60 | Cost: 183724.44258929009 \n",
            "Iter:    70 | Cost: 183028.39590268576 \n",
            "Iter:    80 | Cost: 183000.09588815260 \n",
            "Iter:    90 | Cost: 183000.39324232360 \n",
            "Iter:   100 | Cost: 183252.49390157545 \n"
          ]
        }
      ],
      "source": [
        "lr = 0.03\n",
        "epochs = 101\n",
        "\n",
        "cost_fn = lambda v: cost_function(v, H_blp)+offset_blp\n",
        "grad_fn = lambda var: finite_difference(lambda x: cost_function(x, H_blp), var)\n",
        "lost_list, time_list, _ = train(cost_fn, grad_fn, epochs, var_init_blp, lr)\n",
        "fdl.append(lost_list)\n",
        "fdt.append(time_list)"
      ]
    },
    {
      "cell_type": "code",
      "execution_count": null,
      "metadata": {
        "colab": {
          "base_uri": "https://localhost:8080/"
        },
        "id": "8I6I0lyxQySF",
        "outputId": "2569bdaa-793b-4f51-a17f-de66301f5db8"
      },
      "outputs": [
        {
          "output_type": "stream",
          "name": "stdout",
          "text": [
            "Iter:     0 | Cost: 631720.31831967935 \n",
            "Iter:    10 | Cost: 314801.59237132064 \n",
            "Iter:     0 | Cost: 659107.38464029436 \n",
            "Iter:    10 | Cost: 285518.82152658893 \n",
            "Iter:     0 | Cost: 601268.39232154237 \n",
            "Iter:    10 | Cost: 233156.36877137795 \n",
            "Iter:     0 | Cost: 416790.04523771151 \n",
            "Iter:    10 | Cost: 194202.64663859486 \n",
            "Iter:     0 | Cost: 445969.56532474287 \n",
            "Iter:    10 | Cost: 217817.13097259722 \n"
          ]
        }
      ],
      "source": [
        "lr = 0.03\n",
        "epochs = 11\n",
        "\n",
        "np.random.seed(1)\n",
        "num_param_gates = 3\n",
        "\n",
        "temp1 = []\n",
        "temp2 = []\n",
        "for num_layers in steps:\n",
        "  var_init_blpc = 0.5*np.random.randn(num_layers, num_param_gates*len(H_blp.wires))\n",
        "\n",
        "  cost_fn = lambda v: cost_function(v, H_blp)+offset_blp\n",
        "  grad_fn = lambda var: finite_difference(lambda x: cost_function(x, H_blp), var)\n",
        "  lost_list, time_list, _ = train(cost_fn, grad_fn, epochs, var_init_blpc, lr)\n",
        "  temp1.append(lost_list[-1])\n",
        "  temp2.append(time_list[-1])\n",
        "\n",
        "fdlc.append(temp1)\n",
        "fdtc.append(temp2)"
      ]
    },
    {
      "cell_type": "markdown",
      "metadata": {
        "id": "Z5p2xwXnlFnF"
      },
      "source": [
        "#### Knapsack"
      ]
    },
    {
      "cell_type": "code",
      "execution_count": null,
      "metadata": {
        "colab": {
          "base_uri": "https://localhost:8080/"
        },
        "id": "-N9wwo1ulH_T",
        "outputId": "3d864a2e-6859-407c-b3f5-52dba56452df"
      },
      "outputs": [
        {
          "output_type": "stream",
          "name": "stdout",
          "text": [
            "Iter:     0 | Cost: 27.69312856107 \n",
            "Iter:    10 | Cost: 5.54870502943 \n",
            "Iter:    20 | Cost: 3.09184860769 \n",
            "Iter:    30 | Cost: 0.91336450595 \n",
            "Iter:    40 | Cost: -1.70638927526 \n",
            "Iter:    50 | Cost: -2.75645495037 \n",
            "Iter:    60 | Cost: -2.96160359888 \n",
            "Iter:    70 | Cost: -2.99657026131 \n",
            "Iter:    80 | Cost: -2.99991661554 \n",
            "Iter:    90 | Cost: -2.99999933457 \n",
            "Iter:   100 | Cost: -2.99999999835 \n"
          ]
        }
      ],
      "source": [
        "lr = 0.03\n",
        "epochs = 101\n",
        "\n",
        "cost_fn = lambda v: cost_function(v, H_ks)+offset_ks\n",
        "grad_fn = lambda var: finite_difference(lambda x: cost_function(x, H_ks), var)\n",
        "lost_list, time_list, _ = train(cost_fn, grad_fn, epochs, var_init_ks, lr)\n",
        "fdl.append(lost_list)\n",
        "fdt.append(time_list)"
      ]
    },
    {
      "cell_type": "code",
      "execution_count": null,
      "metadata": {
        "colab": {
          "base_uri": "https://localhost:8080/"
        },
        "id": "UMY1jsEIQ2bN",
        "outputId": "ee34d571-2064-4272-b33b-068ed4e48666"
      },
      "outputs": [
        {
          "output_type": "stream",
          "name": "stdout",
          "text": [
            "Iter:     0 | Cost: 16.08365820085 \n",
            "Iter:    10 | Cost: 2.24360521907 \n",
            "Iter:     0 | Cost: 15.75963494829 \n",
            "Iter:    10 | Cost: -0.20698997864 \n",
            "Iter:     0 | Cost: 14.88568424087 \n",
            "Iter:    10 | Cost: 0.18794863023 \n",
            "Iter:     0 | Cost: 7.31937591142 \n",
            "Iter:    10 | Cost: -0.99668319856 \n",
            "Iter:     0 | Cost: 7.32230064599 \n",
            "Iter:    10 | Cost: -1.77927028886 \n"
          ]
        }
      ],
      "source": [
        "lr = 0.03\n",
        "epochs = 11\n",
        "\n",
        "np.random.seed(1)\n",
        "num_param_gates = 3\n",
        "\n",
        "temp1 = []\n",
        "temp2 = []\n",
        "for num_layers in steps:\n",
        "  var_init_ksc = 0.5*np.random.randn(num_layers, num_param_gates*len(H_ks.wires))\n",
        "\n",
        "  cost_fn = lambda v: cost_function(v, H_ks)+offset_ks\n",
        "  grad_fn = lambda var: finite_difference(lambda x: cost_function(x, H_ks), var)\n",
        "  lost_list, time_list, _ = train(cost_fn, grad_fn, epochs, var_init_ksc, lr)\n",
        "  temp1.append(lost_list[-1])\n",
        "  temp2.append(time_list[-1])\n",
        "\n",
        "fdlc.append(temp1)\n",
        "fdtc.append(temp2)"
      ]
    },
    {
      "cell_type": "markdown",
      "metadata": {
        "id": "tt55-uJCpxOI"
      },
      "source": [
        "### Linear combination of unitaries (LCU)"
      ]
    },
    {
      "cell_type": "markdown",
      "metadata": {
        "id": "7B1M8jDulYLC"
      },
      "source": [
        "#### Max-Cut"
      ]
    },
    {
      "cell_type": "code",
      "execution_count": null,
      "metadata": {
        "colab": {
          "base_uri": "https://localhost:8080/"
        },
        "id": "PMOs2ipQlVj9",
        "outputId": "459b0144-05a9-4651-b3ca-d9f09d78a610"
      },
      "outputs": [
        {
          "output_type": "stream",
          "name": "stdout",
          "text": [
            "Iter:     0 | Cost: -1.71576906628 \n",
            "Iter:    10 | Cost: -2.92916432842 \n",
            "Iter:    20 | Cost: -3.11048527652 \n",
            "Iter:    30 | Cost: -3.34736042978 \n",
            "Iter:    40 | Cost: -3.48595961977 \n",
            "Iter:    50 | Cost: -3.49983208406 \n",
            "Iter:    60 | Cost: -3.49999990501 \n",
            "Iter:    70 | Cost: -3.49999947778 \n",
            "Iter:    80 | Cost: -3.49423442491 \n",
            "Iter:    90 | Cost: -3.49956681741 \n",
            "Iter:   100 | Cost: -3.49925731642 \n"
          ]
        }
      ],
      "source": [
        "lr = 0.03\n",
        "epochs = 101\n",
        "\n",
        "cost_fn = lambda v: cost_function(v, H_maxcut)+offset_maxcut\n",
        "grad_fn = lambda var: lcu_gradients(ansatz_label, H_maxcut_lcu, var)\n",
        "lost_list, time_list, _ = train(cost_fn, grad_fn, epochs, var_init_maxcut, lr)\n",
        "lcul.append(lost_list)\n",
        "lcut.append(time_list)"
      ]
    },
    {
      "cell_type": "code",
      "execution_count": null,
      "metadata": {
        "colab": {
          "base_uri": "https://localhost:8080/"
        },
        "id": "_QESdtgSRMZD",
        "outputId": "c53bb656-9030-423a-d17e-f1e030677bd4"
      },
      "outputs": [
        {
          "output_type": "stream",
          "name": "stdout",
          "text": [
            "Iter:     0 | Cost: -1.71576906628 \n",
            "Iter:    10 | Cost: -2.92916432842 \n",
            "Iter:     0 | Cost: -1.89311957074 \n",
            "Iter:    10 | Cost: -3.53930104842 \n",
            "Iter:     0 | Cost: -2.03814866340 \n",
            "Iter:    10 | Cost: -3.82823170950 \n",
            "Iter:     0 | Cost: -2.44119325891 \n",
            "Iter:    10 | Cost: -3.78783720610 \n",
            "Iter:     0 | Cost: -2.72776845307 \n",
            "Iter:    10 | Cost: -3.93299095537 \n"
          ]
        }
      ],
      "source": [
        "lr = 0.03\n",
        "epochs = 11\n",
        "\n",
        "np.random.seed(1)\n",
        "num_param_gates = 3\n",
        "\n",
        "temp1 = []\n",
        "temp2 = []\n",
        "for num_layers in steps:\n",
        "  var_init_maxcutc = 0.5*np.random.randn(num_layers, num_param_gates*len(H_maxcut.wires))\n",
        "  cost_fn = lambda v: cost_function(v, H_maxcut)+offset_maxcut\n",
        "  grad_fn = lambda var: lcu_gradients(ansatz_label, H_maxcut_lcu, var)\n",
        "  lost_list, time_list, _ = train(cost_fn, grad_fn, epochs, var_init_maxcutc, lr)\n",
        "  temp1.append(lost_list[-1])\n",
        "  temp2.append(time_list[-1])\n",
        "\n",
        "lculc.append(temp1)\n",
        "lcutc.append(temp2)"
      ]
    },
    {
      "cell_type": "markdown",
      "metadata": {
        "id": "hhjUeup7qtTd"
      },
      "source": [
        "#### Clique"
      ]
    },
    {
      "cell_type": "code",
      "execution_count": null,
      "metadata": {
        "colab": {
          "base_uri": "https://localhost:8080/"
        },
        "id": "W_25lqQEqsvF",
        "outputId": "9136d8ea-9ca8-4470-eee8-5722b4a1d122"
      },
      "outputs": [
        {
          "output_type": "stream",
          "name": "stdout",
          "text": [
            "Iter:     0 | Cost: 0.12889348726 \n",
            "Iter:    10 | Cost: -1.94362101683 \n",
            "Iter:    20 | Cost: -2.34559567383 \n",
            "Iter:    30 | Cost: -2.45196028842 \n",
            "Iter:    40 | Cost: -2.48354286450 \n",
            "Iter:    50 | Cost: -2.49451567238 \n",
            "Iter:    60 | Cost: -2.49839653114 \n",
            "Iter:    70 | Cost: -2.49478568495 \n",
            "Iter:    80 | Cost: -2.49799505377 \n",
            "Iter:    90 | Cost: -2.49835671272 \n",
            "Iter:   100 | Cost: -2.49815187014 \n"
          ]
        }
      ],
      "source": [
        "lr = 0.03\n",
        "epochs = 101\n",
        "\n",
        "cost_fn = lambda v: cost_function(v, H_clique)+offset_clique\n",
        "grad_fn = lambda var: lcu_gradients(ansatz_label, H_clique_lcu, var)\n",
        "lost_list, time_list, _ = train(cost_fn, grad_fn, epochs, var_init_clique, lr)\n",
        "lcul.append(lost_list)\n",
        "lcut.append(time_list)"
      ]
    },
    {
      "cell_type": "code",
      "execution_count": null,
      "metadata": {
        "colab": {
          "base_uri": "https://localhost:8080/"
        },
        "id": "5Jq5YIi0Rasa",
        "outputId": "7fe8357e-405d-438f-cdf4-71831a979a1f"
      },
      "outputs": [
        {
          "output_type": "stream",
          "name": "stdout",
          "text": [
            "Iter:     0 | Cost: -0.32878854620 \n",
            "Iter:    10 | Cost: -1.87686385822 \n",
            "Iter:     0 | Cost: -0.62011189961 \n",
            "Iter:    10 | Cost: -2.40720219177 \n",
            "Iter:     0 | Cost: 1.03736341873 \n",
            "Iter:    10 | Cost: -2.63585339362 \n",
            "Iter:     0 | Cost: 0.69824350827 \n",
            "Iter:    10 | Cost: -2.78925391167 \n",
            "Iter:     0 | Cost: 1.96240124826 \n",
            "Iter:    10 | Cost: -2.65025204862 \n"
          ]
        }
      ],
      "source": [
        "lr = 0.03\n",
        "epochs = 11\n",
        "\n",
        "np.random.seed(1)\n",
        "num_param_gates = 3\n",
        "\n",
        "temp1 = []\n",
        "temp2 = []\n",
        "for num_layers in steps:\n",
        "  var_init_cliquec = 0.5*np.random.randn(num_layers, num_param_gates*len(H_clique.wires))\n",
        "\n",
        "  cost_fn = lambda v: cost_function(v, H_clique)+offset_clique\n",
        "  grad_fn = lambda var: lcu_gradients(ansatz_label, H_clique_lcu, var)\n",
        "  lost_list, time_list, _ = train(cost_fn, grad_fn, epochs, var_init_cliquec, lr)\n",
        "  temp1.append(lost_list[-1])\n",
        "  temp2.append(time_list[-1])\n",
        "\n",
        "lculc.append(temp1)\n",
        "lcutc.append(temp2)"
      ]
    },
    {
      "cell_type": "markdown",
      "metadata": {
        "id": "2oG0Eh7hq6oL"
      },
      "source": [
        "#### Binary Linear Programming"
      ]
    },
    {
      "cell_type": "code",
      "execution_count": null,
      "metadata": {
        "colab": {
          "base_uri": "https://localhost:8080/"
        },
        "id": "Q071KedTq6NV",
        "outputId": "d94be8f0-241b-49d0-f58c-0313fff63231"
      },
      "outputs": [
        {
          "output_type": "stream",
          "name": "stdout",
          "text": [
            "Iter:     0 | Cost: 667294.31366741285 \n",
            "Iter:    10 | Cost: 380039.14750654978 \n",
            "Iter:    20 | Cost: 306427.84090514819 \n",
            "Iter:    30 | Cost: 257869.31339366932 \n",
            "Iter:    40 | Cost: 213104.50375085528 \n",
            "Iter:    50 | Cost: 189464.36864009302 \n",
            "Iter:    60 | Cost: 183724.44258928933 \n",
            "Iter:    70 | Cost: 183028.39590268594 \n",
            "Iter:    80 | Cost: 183000.09582122671 \n",
            "Iter:    90 | Cost: 183001.76578554459 \n",
            "Iter:   100 | Cost: 183005.17231672612 \n"
          ]
        }
      ],
      "source": [
        "lr = 0.03\n",
        "epochs = 101\n",
        "\n",
        "cost_fn = lambda v: cost_function(v, H_blp)+offset_blp\n",
        "grad_fn = lambda var: lcu_gradients(ansatz_label, H_blp_lcu, var)\n",
        "lost_list, time_list, _ = train(cost_fn, grad_fn, epochs, var_init_blp, lr)\n",
        "lcul.append(lost_list)\n",
        "lcut.append(time_list)"
      ]
    },
    {
      "cell_type": "code",
      "execution_count": null,
      "metadata": {
        "colab": {
          "base_uri": "https://localhost:8080/"
        },
        "id": "AL6VYvCHReKe",
        "outputId": "bdd14fd1-162e-4953-e395-30d5b7df012b"
      },
      "outputs": [
        {
          "output_type": "stream",
          "name": "stdout",
          "text": [
            "Iter:     0 | Cost: 631720.31831967935 \n",
            "Iter:    10 | Cost: 314801.59237132064 \n",
            "Iter:     0 | Cost: 659107.38464029436 \n",
            "Iter:    10 | Cost: 285518.82152659062 \n",
            "Iter:     0 | Cost: 601268.39232154237 \n",
            "Iter:    10 | Cost: 233156.36877137632 \n",
            "Iter:     0 | Cost: 416790.04523771151 \n",
            "Iter:    10 | Cost: 194202.64663859439 \n",
            "Iter:     0 | Cost: 445969.56532474287 \n",
            "Iter:    10 | Cost: 217817.13097259443 \n"
          ]
        }
      ],
      "source": [
        "lr = 0.03\n",
        "epochs = 11\n",
        "\n",
        "np.random.seed(1)\n",
        "num_param_gates = 3\n",
        "\n",
        "temp1 = []\n",
        "temp2 = []\n",
        "for num_layers in steps:\n",
        "  var_init_blpc = 0.5*np.random.randn(num_layers, num_param_gates*len(H_blp.wires))\n",
        "\n",
        "  cost_fn = lambda v: cost_function(v, H_blp)+offset_blp\n",
        "  grad_fn = lambda var: lcu_gradients(ansatz_label, H_blp_lcu, var)\n",
        "  lost_list, time_list, _ = train(cost_fn, grad_fn, epochs, var_init_blpc, lr)\n",
        "  temp1.append(lost_list[-1])\n",
        "  temp2.append(time_list[-1])\n",
        "\n",
        "lculc.append(temp1)\n",
        "lcutc.append(temp2)"
      ]
    },
    {
      "cell_type": "markdown",
      "metadata": {
        "id": "aAA1jwFFrJb-"
      },
      "source": [
        "#### Knapsack"
      ]
    },
    {
      "cell_type": "code",
      "execution_count": null,
      "metadata": {
        "colab": {
          "base_uri": "https://localhost:8080/"
        },
        "id": "uXPpC2UErIsg",
        "outputId": "a3ab7657-0343-4cb8-93c1-cc60e60f8c34"
      },
      "outputs": [
        {
          "output_type": "stream",
          "name": "stdout",
          "text": [
            "Iter:     0 | Cost: 27.69312856107 \n",
            "Iter:    10 | Cost: 5.54870502942 \n",
            "Iter:    20 | Cost: 3.09184860769 \n",
            "Iter:    30 | Cost: 0.91336450593 \n",
            "Iter:    40 | Cost: -1.70638927527 \n",
            "Iter:    50 | Cost: -2.75645495037 \n",
            "Iter:    60 | Cost: -2.96160359888 \n",
            "Iter:    70 | Cost: -2.99657026131 \n",
            "Iter:    80 | Cost: -2.99991661554 \n",
            "Iter:    90 | Cost: -2.99999933457 \n",
            "Iter:   100 | Cost: -2.99999999960 \n"
          ]
        }
      ],
      "source": [
        "lr = 0.03\n",
        "epochs = 101\n",
        "\n",
        "cost_fn = lambda v: cost_function(v, H_ks)+offset_ks\n",
        "grad_fn = lambda var: lcu_gradients(ansatz_label, H_ks_lcu, var)\n",
        "lost_list, time_list, _ = train(cost_fn, grad_fn, epochs, var_init_ks, lr)\n",
        "lcul.append(lost_list)\n",
        "lcut.append(time_list)"
      ]
    },
    {
      "cell_type": "code",
      "execution_count": null,
      "metadata": {
        "colab": {
          "base_uri": "https://localhost:8080/"
        },
        "id": "NyXMxu1IRhGc",
        "outputId": "b7127c1a-3de4-4417-d4c6-8de96f44a25d"
      },
      "outputs": [
        {
          "output_type": "stream",
          "name": "stdout",
          "text": [
            "Iter:     0 | Cost: 16.08365820085 \n",
            "Iter:    10 | Cost: 2.24360521907 \n",
            "Iter:     0 | Cost: 15.75963494829 \n",
            "Iter:    10 | Cost: -0.20698997864 \n",
            "Iter:     0 | Cost: 14.88568424087 \n",
            "Iter:    10 | Cost: 0.18794862926 \n",
            "Iter:     0 | Cost: 7.31937591142 \n",
            "Iter:    10 | Cost: -0.99668318014 \n",
            "Iter:     0 | Cost: 7.32230064599 \n",
            "Iter:    10 | Cost: -1.77927028829 \n"
          ]
        }
      ],
      "source": [
        "lr = 0.03\n",
        "epochs = 11\n",
        "\n",
        "np.random.seed(1)\n",
        "num_param_gates = 3\n",
        "\n",
        "temp1 = []\n",
        "temp2 = []\n",
        "for num_layers in steps:\n",
        "  var_init_ksc = 0.5*np.random.randn(num_layers, num_param_gates*len(H_ks.wires))\n",
        "\n",
        "  cost_fn = lambda v: cost_function(v, H_ks)+offset_ks\n",
        "  grad_fn = lambda var: lcu_gradients(ansatz_label, H_ks_lcu, var)\n",
        "  lost_list, time_list, _ = train(cost_fn, grad_fn, epochs, var_init_ksc, lr)\n",
        "  temp1.append(lost_list[-1])\n",
        "  temp2.append(time_list[-1])\n",
        "\n",
        "lculc.append(temp1)\n",
        "lcutc.append(temp2)"
      ]
    },
    {
      "cell_type": "markdown",
      "metadata": {
        "id": "momMWW-lp3Y6"
      },
      "source": [
        "### Quantum natural gradient (QNG)"
      ]
    },
    {
      "cell_type": "markdown",
      "metadata": {
        "id": "p-cJoN4rrfLO"
      },
      "source": [
        "#### Max-Cut"
      ]
    },
    {
      "cell_type": "code",
      "execution_count": null,
      "metadata": {
        "colab": {
          "base_uri": "https://localhost:8080/"
        },
        "id": "HFPVe3SIrhKz",
        "outputId": "5f445ef5-6dda-403e-8d47-bf8a9d37becd"
      },
      "outputs": [
        {
          "output_type": "stream",
          "name": "stdout",
          "text": [
            "Iter:     0 | Cost: -1.71576906628 \n",
            "Iter:    10 | Cost: -2.94158928907 \n",
            "Iter:    20 | Cost: -3.13068319439 \n",
            "Iter:    30 | Cost: -3.36294601610 \n",
            "Iter:    40 | Cost: -3.48846869402 \n",
            "Iter:    50 | Cost: -3.49989231938 \n",
            "Iter:    60 | Cost: -3.49999996582 \n",
            "Iter:    70 | Cost: -3.49999800734 \n",
            "Iter:    80 | Cost: -3.49821005695 \n",
            "Iter:    90 | Cost: -3.49992934320 \n",
            "Iter:   100 | Cost: -3.49762853222 \n"
          ]
        }
      ],
      "source": [
        "lr = 0.03\n",
        "epochs = 101\n",
        "\n",
        "cost_fn = lambda v: cost_function(v, H_maxcut)+offset_maxcut\n",
        "grad_fn = lambda var: quantum_natural_gradient(var, H_maxcut, lambda x: cost_function(x, H_maxcut))\n",
        "lost_list, time_list, var = train(cost_fn, grad_fn, epochs, var_init_maxcut, lr)\n",
        "qngl.append(lost_list)\n",
        "qngt.append(time_list)"
      ]
    },
    {
      "cell_type": "code",
      "execution_count": null,
      "metadata": {
        "colab": {
          "base_uri": "https://localhost:8080/"
        },
        "id": "tezfK0oIRxuc",
        "outputId": "f62614b3-2ebd-42b4-8518-1b2d329ce1fa"
      },
      "outputs": [
        {
          "output_type": "stream",
          "name": "stdout",
          "text": [
            "Iter:     0 | Cost: -1.71576906628 \n",
            "Iter:    10 | Cost: -2.94158928907 \n",
            "Iter:     0 | Cost: -1.89311957074 \n",
            "Iter:    10 | Cost: -3.52430019577 \n",
            "Iter:     0 | Cost: -2.03814866340 \n",
            "Iter:    10 | Cost: -3.80382538188 \n",
            "Iter:     0 | Cost: -2.44119325891 \n",
            "Iter:    10 | Cost: -3.75066335131 \n",
            "Iter:     0 | Cost: -2.72776845307 \n",
            "Iter:    10 | Cost: -3.94299215238 \n"
          ]
        }
      ],
      "source": [
        "lr = 0.03\n",
        "epochs = 11\n",
        "\n",
        "np.random.seed(1)\n",
        "num_param_gates = 3\n",
        "\n",
        "temp1 = []\n",
        "temp2 = []\n",
        "for num_layers in steps:\n",
        "  var_init_maxcutc = 0.5*np.random.randn(num_layers, num_param_gates*len(H_maxcut.wires))\n",
        "\n",
        "  cost_fn = lambda v: cost_function(v, H_maxcut)+offset_maxcut\n",
        "  grad_fn = lambda var: quantum_natural_gradient(var, H_maxcut, lambda x: cost_function(x, H_maxcut))\n",
        "  lost_list, time_list, _ = train(cost_fn, grad_fn, epochs, var_init_maxcutc, lr)\n",
        "  temp1.append(lost_list[-1])\n",
        "  temp2.append(time_list[-1])\n",
        "\n",
        "qnglc.append(temp1)\n",
        "qngtc.append(temp2)"
      ]
    },
    {
      "cell_type": "markdown",
      "metadata": {
        "id": "1KUbQst24ohL"
      },
      "source": [
        "#### Clique"
      ]
    },
    {
      "cell_type": "code",
      "execution_count": null,
      "metadata": {
        "colab": {
          "base_uri": "https://localhost:8080/"
        },
        "id": "VUvvdu-f4oIY",
        "outputId": "8b3ea39e-54cd-4898-9487-805cac396c26"
      },
      "outputs": [
        {
          "output_type": "stream",
          "name": "stdout",
          "text": [
            "Iter:     0 | Cost: 0.12889348726 \n",
            "Iter:    10 | Cost: -1.98051674126 \n",
            "Iter:    20 | Cost: -2.38448984848 \n",
            "Iter:    30 | Cost: -2.47336960466 \n",
            "Iter:    40 | Cost: -2.49448072678 \n",
            "Iter:    50 | Cost: -2.49915735598 \n",
            "Iter:    60 | Cost: -2.49835263137 \n",
            "Iter:    70 | Cost: -2.49654216605 \n",
            "Iter:    80 | Cost: -2.49596293596 \n",
            "Iter:    90 | Cost: -2.49708932223 \n",
            "Iter:   100 | Cost: -2.49710555169 \n"
          ]
        }
      ],
      "source": [
        "lr = 0.03\n",
        "epochs = 101\n",
        "\n",
        "cost_fn = lambda v: cost_function(v, H_clique)+offset_clique\n",
        "grad_fn = lambda var: quantum_natural_gradient(var, H_clique, lambda x: cost_function(x, H_clique))\n",
        "lost_list, time_list, var = train(cost_fn, grad_fn, epochs, var_init_clique, lr)\n",
        "qngl.append(lost_list)\n",
        "qngt.append(time_list)"
      ]
    },
    {
      "cell_type": "code",
      "execution_count": null,
      "metadata": {
        "colab": {
          "base_uri": "https://localhost:8080/"
        },
        "id": "Rg_AzVkRSY5v",
        "outputId": "4aa79a2b-a1cb-44cd-e17f-02ba3cdb266f"
      },
      "outputs": [
        {
          "output_type": "stream",
          "name": "stdout",
          "text": [
            "Iter:     0 | Cost: -0.32878854620 \n",
            "Iter:    10 | Cost: -1.89797531893 \n",
            "Iter:     0 | Cost: -0.62011189961 \n",
            "Iter:    10 | Cost: -2.40719879887 \n",
            "Iter:     0 | Cost: 1.03736341873 \n",
            "Iter:    10 | Cost: -2.64420624402 \n",
            "Iter:     0 | Cost: 0.69824350827 \n",
            "Iter:    10 | Cost: -2.88019646028 \n",
            "Iter:     0 | Cost: 1.96240124826 \n",
            "Iter:    10 | Cost: -2.65269429558 \n"
          ]
        }
      ],
      "source": [
        "lr = 0.03\n",
        "epochs = 11\n",
        "\n",
        "np.random.seed(1)\n",
        "num_param_gates = 3\n",
        "\n",
        "temp1 = []\n",
        "temp2 = []\n",
        "for num_layers in steps:\n",
        "  var_init_cliquec = 0.5*np.random.randn(num_layers, num_param_gates*len(H_clique.wires))\n",
        "\n",
        "  cost_fn = lambda v: cost_function(v, H_clique)+offset_clique\n",
        "  grad_fn = lambda var: quantum_natural_gradient(var, H_clique, lambda x: cost_function(x, H_clique))\n",
        "  lost_list, time_list, _ = train(cost_fn, grad_fn, epochs, var_init_cliquec, lr)\n",
        "  temp1.append(lost_list[-1])\n",
        "  temp2.append(time_list[-1])\n",
        "\n",
        "qnglc.append(temp1)\n",
        "qngtc.append(temp2)"
      ]
    },
    {
      "cell_type": "markdown",
      "metadata": {
        "id": "qGLNd_8X4ufi"
      },
      "source": [
        "#### Binary Linear Programming"
      ]
    },
    {
      "cell_type": "code",
      "execution_count": null,
      "metadata": {
        "colab": {
          "base_uri": "https://localhost:8080/"
        },
        "id": "iM2b3HOh4xGJ",
        "outputId": "a2817f21-b2b9-4fcd-ce1c-72e4240b8233"
      },
      "outputs": [
        {
          "output_type": "stream",
          "name": "stdout",
          "text": [
            "Iter:     0 | Cost: 667294.31366741285 \n",
            "Iter:    10 | Cost: 379384.93581207283 \n",
            "Iter:    20 | Cost: 305970.33102145430 \n",
            "Iter:    30 | Cost: 259515.64193312312 \n",
            "Iter:    40 | Cost: 215924.21253344981 \n",
            "Iter:    50 | Cost: 190548.59340991767 \n",
            "Iter:    60 | Cost: 183798.14294688002 \n",
            "Iter:    70 | Cost: 183029.36085238756 \n",
            "Iter:    80 | Cost: 183000.08997042844 \n",
            "Iter:    90 | Cost: 183000.26444214763 \n",
            "Iter:   100 | Cost: 183036.45141302131 \n"
          ]
        }
      ],
      "source": [
        "lr = 0.03\n",
        "epochs = 101\n",
        "\n",
        "cost_fn = lambda v: cost_function(v, H_blp)+offset_blp\n",
        "grad_fn = lambda var: quantum_natural_gradient(var, H_blp, lambda x: cost_function(x, H_blp))\n",
        "lost_list, time_list, var = train(cost_fn, grad_fn, epochs, var_init_blp, lr)\n",
        "qngl.append(lost_list)\n",
        "qngt.append(time_list)"
      ]
    },
    {
      "cell_type": "code",
      "execution_count": null,
      "metadata": {
        "colab": {
          "base_uri": "https://localhost:8080/"
        },
        "id": "iWyVFZVgScEz",
        "outputId": "b60da56c-c087-4c98-e82a-479b393b19c9"
      },
      "outputs": [
        {
          "output_type": "stream",
          "name": "stdout",
          "text": [
            "Iter:     0 | Cost: 631720.31831967935 \n",
            "Iter:    10 | Cost: 310609.15374196280 \n",
            "Iter:     0 | Cost: 659107.38464029436 \n",
            "Iter:    10 | Cost: 286893.91481415957 \n",
            "Iter:     0 | Cost: 601268.39232154237 \n",
            "Iter:    10 | Cost: 241174.27341195743 \n",
            "Iter:     0 | Cost: 416790.04523771151 \n",
            "Iter:    10 | Cost: 190318.39357267530 \n",
            "Iter:     0 | Cost: 445969.56532474287 \n",
            "Iter:    10 | Cost: 218464.63960607367 \n"
          ]
        }
      ],
      "source": [
        "lr = 0.03\n",
        "epochs = 11\n",
        "\n",
        "np.random.seed(1)\n",
        "num_param_gates = 3\n",
        "\n",
        "temp1 = []\n",
        "temp2 = []\n",
        "for num_layers in steps:\n",
        "  var_init_blpc = 0.5*np.random.randn(num_layers, num_param_gates*len(H_blp.wires))\n",
        "\n",
        "  cost_fn = lambda v: cost_function(v, H_blp)+offset_blp\n",
        "  grad_fn = lambda var: quantum_natural_gradient(var, H_blp, lambda x: cost_function(x, H_blp))\n",
        "  lost_list, time_list, _ = train(cost_fn, grad_fn, epochs, var_init_blpc, lr)\n",
        "  temp1.append(lost_list[-1])\n",
        "  temp2.append(time_list[-1])\n",
        "\n",
        "qnglc.append(temp1)\n",
        "qngtc.append(temp2)"
      ]
    },
    {
      "cell_type": "markdown",
      "metadata": {
        "id": "r-78PRRn462g"
      },
      "source": [
        "#### Knapsack"
      ]
    },
    {
      "cell_type": "code",
      "execution_count": null,
      "metadata": {
        "colab": {
          "base_uri": "https://localhost:8080/"
        },
        "id": "8LoQtYT45CsU",
        "outputId": "6105348d-7dc7-4ed3-ad0a-8d7bf86d4638"
      },
      "outputs": [
        {
          "output_type": "stream",
          "name": "stdout",
          "text": [
            "Iter:     0 | Cost: 27.69312856107 \n",
            "Iter:    10 | Cost: 5.43039164352 \n",
            "Iter:    20 | Cost: 3.26492679845 \n",
            "Iter:    30 | Cost: 1.49779945607 \n",
            "Iter:    40 | Cost: -1.28076844504 \n",
            "Iter:    50 | Cost: -2.63550300237 \n",
            "Iter:    60 | Cost: -2.93420439816 \n",
            "Iter:    70 | Cost: -2.99196568876 \n",
            "Iter:    80 | Cost: -2.99971705188 \n",
            "Iter:    90 | Cost: -2.99999862964 \n",
            "Iter:   100 | Cost: -2.99999999736 \n"
          ]
        }
      ],
      "source": [
        "lr = 0.03\n",
        "epochs = 101\n",
        "\n",
        "cost_fn = lambda v: cost_function(v, H_ks)+offset_ks\n",
        "grad_fn = lambda var: quantum_natural_gradient(var, H_ks, lambda x: cost_function(x, H_ks))\n",
        "lost_list, time_list, var = train(cost_fn, grad_fn, epochs, var_init_ks, lr)\n",
        "qngl.append(lost_list)\n",
        "qngt.append(time_list)"
      ]
    },
    {
      "cell_type": "code",
      "execution_count": null,
      "metadata": {
        "colab": {
          "base_uri": "https://localhost:8080/"
        },
        "id": "W5-iCTCUSfd5",
        "outputId": "c979b868-033f-4a05-9d33-bd12f61831da"
      },
      "outputs": [
        {
          "output_type": "stream",
          "name": "stdout",
          "text": [
            "Iter:     0 | Cost: 16.08365820085 \n",
            "Iter:    10 | Cost: 2.07597060295 \n",
            "Iter:     0 | Cost: 15.75963494829 \n",
            "Iter:    10 | Cost: -0.11421887804 \n",
            "Iter:     0 | Cost: 14.88568424087 \n",
            "Iter:    10 | Cost: -0.43520495266 \n",
            "Iter:     0 | Cost: 7.31937591142 \n",
            "Iter:    10 | Cost: -0.93943241033 \n",
            "Iter:     0 | Cost: 7.32230064599 \n",
            "Iter:    10 | Cost: -1.76263330758 \n"
          ]
        }
      ],
      "source": [
        "lr = 0.03\n",
        "epochs = 11\n",
        "\n",
        "np.random.seed(1)\n",
        "num_param_gates = 3\n",
        "\n",
        "temp1 = []\n",
        "temp2 = []\n",
        "for num_layers in steps:\n",
        "  var_init_ksc = 0.5*np.random.randn(num_layers, num_param_gates*len(H_ks.wires))\n",
        "\n",
        "  cost_fn = lambda v: cost_function(v, H_ks)+offset_ks\n",
        "  grad_fn = lambda var: quantum_natural_gradient(var, H_ks, lambda x: cost_function(x, H_ks))\n",
        "  lost_list, time_list, _ = train(cost_fn, grad_fn, epochs, var_init_ksc, lr)\n",
        "  temp1.append(lost_list[-1])\n",
        "  temp2.append(time_list[-1])\n",
        "\n",
        "qnglc.append(temp1)\n",
        "qngtc.append(temp2)"
      ]
    },
    {
      "cell_type": "markdown",
      "metadata": {
        "id": "e73gqvIqp-1J"
      },
      "source": [
        "### Quantum newton gradient"
      ]
    },
    {
      "cell_type": "markdown",
      "metadata": {
        "id": "pcvKyZjX6UTt"
      },
      "source": [
        "#### Max-Cut"
      ]
    },
    {
      "cell_type": "code",
      "execution_count": null,
      "metadata": {
        "colab": {
          "base_uri": "https://localhost:8080/"
        },
        "id": "5nsuAop45vd4",
        "outputId": "5a69d763-c230-41a0-c493-d82607772402"
      },
      "outputs": [
        {
          "output_type": "stream",
          "name": "stdout",
          "text": [
            "Iter:     0 | Cost: -1.71576906628 \n",
            "Iter:    10 | Cost: -2.95798481199 \n",
            "Iter:    20 | Cost: -3.31256553703 \n",
            "Iter:    30 | Cost: -3.45361325153 \n",
            "Iter:    40 | Cost: -3.49241122047 \n",
            "Iter:    50 | Cost: -3.49929796990 \n",
            "Iter:    60 | Cost: -3.49960066503 \n",
            "Iter:    70 | Cost: -3.49951859032 \n",
            "Iter:    80 | Cost: -3.49942910177 \n",
            "Iter:    90 | Cost: -3.49430642768 \n",
            "Iter:   100 | Cost: -3.49937363476 \n"
          ]
        }
      ],
      "source": [
        "lr = 0.03\n",
        "epochs = 101\n",
        "\n",
        "cost_fn = lambda v: cost_function(v, H_maxcut)+offset_maxcut\n",
        "grad_fn = lambda var: newton_gradient(cost_function, H_maxcut, var)\n",
        "lost_list, time_list, var = train(cost_fn, grad_fn, epochs, var_init_maxcut, lr)\n",
        "qnwl.append(lost_list)\n",
        "qnwt.append(time_list)"
      ]
    },
    {
      "cell_type": "code",
      "execution_count": null,
      "metadata": {
        "colab": {
          "base_uri": "https://localhost:8080/"
        },
        "id": "cFmG4iZXS0YE",
        "outputId": "af4967c9-5ad9-4a8f-99c0-fbc8af369e63"
      },
      "outputs": [
        {
          "output_type": "stream",
          "name": "stdout",
          "text": [
            "Iter:     0 | Cost: -1.71576906628 \n",
            "Iter:    10 | Cost: -2.95798481199 \n",
            "Iter:     0 | Cost: -1.89311957074 \n",
            "Iter:    10 | Cost: -3.32384767979 \n",
            "Iter:     0 | Cost: -2.03814866340 \n",
            "Iter:    10 | Cost: -3.55690448528 \n",
            "Iter:     0 | Cost: -2.44119325891 \n",
            "Iter:    10 | Cost: -3.90999054564 \n",
            "Iter:     0 | Cost: -2.72776845307 \n",
            "Iter:    10 | Cost: -3.73672436747 \n"
          ]
        }
      ],
      "source": [
        "lr = 0.03\n",
        "epochs = 11\n",
        "\n",
        "np.random.seed(1)\n",
        "num_param_gates = 3\n",
        "\n",
        "temp1 = []\n",
        "temp2 = []\n",
        "for num_layers in steps:\n",
        "  var_init_maxcutc = 0.5*np.random.randn(num_layers, num_param_gates*len(H_maxcut.wires))\n",
        "\n",
        "  cost_fn = lambda v: cost_function(v, H_maxcut)+offset_maxcut\n",
        "  grad_fn = lambda var: newton_gradient(cost_function, H_maxcut, var)\n",
        "  lost_list, time_list, _ = train(cost_fn, grad_fn, epochs, var_init_maxcutc, lr)\n",
        "  temp1.append(lost_list[-1])\n",
        "  temp2.append(time_list[-1])\n",
        "\n",
        "qnwlc.append(temp1)\n",
        "qnwtc.append(temp2)"
      ]
    },
    {
      "cell_type": "markdown",
      "metadata": {
        "id": "_DutEPjw6V4p"
      },
      "source": [
        "#### Clique"
      ]
    },
    {
      "cell_type": "code",
      "execution_count": null,
      "metadata": {
        "colab": {
          "base_uri": "https://localhost:8080/"
        },
        "id": "gRB1HHjY6WU2",
        "outputId": "f8062572-75d3-4490-a7ce-fadbb85bc683"
      },
      "outputs": [
        {
          "output_type": "stream",
          "name": "stdout",
          "text": [
            "Iter:     0 | Cost: 0.12889348726 \n",
            "Iter:    10 | Cost: -1.60818224721 \n",
            "Iter:    20 | Cost: -2.14883115155 \n",
            "Iter:    30 | Cost: -2.39054688150 \n",
            "Iter:    40 | Cost: -2.47823470119 \n",
            "Iter:    50 | Cost: -2.50347705971 \n",
            "Iter:    60 | Cost: -2.51515291323 \n",
            "Iter:    70 | Cost: -2.54698725033 \n",
            "Iter:    80 | Cost: -2.71555288992 \n",
            "Iter:    90 | Cost: -2.92995255479 \n",
            "Iter:   100 | Cost: -2.99006428254 \n"
          ]
        }
      ],
      "source": [
        "lr = 0.03\n",
        "epochs = 101\n",
        "\n",
        "cost_fn = lambda v: cost_function(v, H_clique)+offset_clique\n",
        "grad_fn = lambda var: newton_gradient(cost_function,H_clique, var)\n",
        "lost_list, time_list, var = train(cost_fn, grad_fn, epochs, var_init_clique, lr)\n",
        "qnwl.append(lost_list)\n",
        "qnwt.append(time_list)"
      ]
    },
    {
      "cell_type": "code",
      "execution_count": null,
      "metadata": {
        "colab": {
          "base_uri": "https://localhost:8080/"
        },
        "id": "KPuE4dtyTBcT",
        "outputId": "04311f10-7e05-4a4e-ba92-306e1589c4f9"
      },
      "outputs": [
        {
          "output_type": "stream",
          "name": "stdout",
          "text": [
            "Iter:     0 | Cost: -0.32878854620 \n",
            "Iter:    10 | Cost: -1.97375431083 \n",
            "Iter:     0 | Cost: -0.62011189961 \n",
            "Iter:    10 | Cost: -1.55111462318 \n",
            "Iter:     0 | Cost: 1.03736341873 \n",
            "Iter:    10 | Cost: 0.38176398434 \n",
            "Iter:     0 | Cost: 0.69824350827 \n",
            "Iter:    10 | Cost: 0.39475929962 \n",
            "Iter:     0 | Cost: 1.96240124826 \n",
            "Iter:    10 | Cost: -1.58936946404 \n"
          ]
        }
      ],
      "source": [
        "lr = 0.03\n",
        "epochs = 11\n",
        "\n",
        "np.random.seed(1)\n",
        "num_param_gates = 3\n",
        "\n",
        "temp1 = []\n",
        "temp2 = []\n",
        "for num_layers in steps:\n",
        "  var_init_cliquec = 0.5*np.random.randn(num_layers, num_param_gates*len(H_clique.wires))\n",
        "\n",
        "  cost_fn = lambda v: cost_function(v, H_clique)+offset_clique\n",
        "  grad_fn = lambda var: newton_gradient(cost_function, H_clique, var)\n",
        "  lost_list, time_list, _ = train(cost_fn, grad_fn, epochs, var_init_cliquec, lr)\n",
        "  temp1.append(lost_list[-1])\n",
        "  temp2.append(time_list[-1])\n",
        "\n",
        "qnwlc.append(temp1)\n",
        "qnwtc.append(temp2)"
      ]
    },
    {
      "cell_type": "markdown",
      "metadata": {
        "id": "Dn2S2eNJ7yaM"
      },
      "source": [
        "#### Binary Linear Programming"
      ]
    },
    {
      "cell_type": "code",
      "execution_count": null,
      "metadata": {
        "colab": {
          "base_uri": "https://localhost:8080/"
        },
        "id": "c2IPkKez72CA",
        "outputId": "521e3e3b-48fd-4332-9c5e-9e4e3dd53548"
      },
      "outputs": [
        {
          "output_type": "stream",
          "name": "stdout",
          "text": [
            "Iter:     0 | Cost: 667294.31366741285 \n",
            "Iter:    10 | Cost: 313093.67524989817 \n",
            "Iter:    20 | Cost: 319749.41470499325 \n",
            "Iter:    30 | Cost: 316712.11947422265 \n",
            "Iter:    40 | Cost: 317363.51094097371 \n",
            "Iter:    50 | Cost: 468755.13538819319 \n",
            "Iter:    60 | Cost: 532735.67076553672 \n",
            "Iter:    70 | Cost: 534973.22974837734 \n",
            "Iter:    80 | Cost: 534906.92375133315 \n",
            "Iter:    90 | Cost: 534906.92046439648 \n",
            "Iter:   100 | Cost: 534906.92046439648 \n"
          ]
        }
      ],
      "source": [
        "lr = 1\n",
        "epochs = 101\n",
        "reg = 3.0\n",
        "cost_fn = lambda v: cost_function(v, H_blp)+offset_blp\n",
        "grad_fn = lambda var: newton_gradient(cost_function,H_blp, var, reg)\n",
        "lost_list, time_list, var = train(cost_fn, grad_fn, epochs, var_init_blp, lr)\n",
        "qnwl.append(lost_list)\n",
        "qnwt.append(time_list)"
      ]
    },
    {
      "cell_type": "code",
      "execution_count": null,
      "metadata": {
        "colab": {
          "base_uri": "https://localhost:8080/"
        },
        "id": "jJeMqaqwTGMw",
        "outputId": "d0ab9412-69ec-4730-92d2-5c6db58ebd68"
      },
      "outputs": [
        {
          "output_type": "stream",
          "name": "stdout",
          "text": [
            "Iter:     0 | Cost: 631720.31831967935 \n",
            "Iter:    10 | Cost: 543469.01130241947 \n",
            "Iter:     0 | Cost: 659107.38464029436 \n",
            "Iter:    10 | Cost: 507610.55456485046 \n",
            "Iter:     0 | Cost: 601268.39232154237 \n",
            "Iter:    10 | Cost: 419066.54729574651 \n",
            "Iter:     0 | Cost: 416790.04523771151 \n",
            "Iter:    10 | Cost: 445287.78408814187 \n",
            "Iter:     0 | Cost: 445969.56532474287 \n",
            "Iter:    10 | Cost: 458102.36093729548 \n"
          ]
        }
      ],
      "source": [
        "lr = 1\n",
        "epochs = 11\n",
        "reg = 3.0\n",
        "np.random.seed(1)\n",
        "num_param_gates = 3\n",
        "\n",
        "temp1 = []\n",
        "temp2 = []\n",
        "for num_layers in steps:\n",
        "  var_init_blpc = 0.5*np.random.randn(num_layers, num_param_gates*len(H_blp.wires))\n",
        "\n",
        "  cost_fn = lambda v: cost_function(v, H_blp)+offset_blp\n",
        "  grad_fn = lambda var: newton_gradient(cost_function, H_blp, var, reg)\n",
        "  lost_list, time_list, _ = train(cost_fn, grad_fn, epochs, var_init_blpc, lr)\n",
        "  temp1.append(min(lost_list))\n",
        "  temp2.append(time_list[-1])\n",
        "\n",
        "qnwlc.append(temp1)\n",
        "qnwtc.append(temp2)"
      ]
    },
    {
      "cell_type": "markdown",
      "metadata": {
        "id": "F4FnnJbM8Xvu"
      },
      "source": [
        "#### Knapsack"
      ]
    },
    {
      "cell_type": "code",
      "execution_count": null,
      "metadata": {
        "colab": {
          "base_uri": "https://localhost:8080/"
        },
        "id": "AYEr8HSH8Wny",
        "outputId": "88393e25-f4ce-4339-b210-20197fb00414"
      },
      "outputs": [
        {
          "output_type": "stream",
          "name": "stdout",
          "text": [
            "Iter:     0 | Cost: 27.69312856107 \n",
            "Iter:    10 | Cost: 11.99430554828 \n",
            "Iter:    20 | Cost: 2.61864508191 \n",
            "Iter:    30 | Cost: -2.87234569733 \n",
            "Iter:    40 | Cost: -2.99998421392 \n",
            "Iter:    50 | Cost: -2.98543555793 \n",
            "Iter:    60 | Cost: -2.98527457768 \n",
            "Iter:    70 | Cost: -2.70709550537 \n",
            "Iter:    80 | Cost: -2.76467334078 \n",
            "Iter:    90 | Cost: 4.27283603099 \n",
            "Iter:   100 | Cost: -2.35232568798 \n"
          ]
        }
      ],
      "source": [
        "lr = 1\n",
        "epochs = 101\n",
        "reg = 3.2\n",
        "cost_fn = lambda v: cost_function(v, H_ks)+offset_ks\n",
        "grad_fn = lambda var: newton_gradient(cost_function,H_ks, var, reg)\n",
        "lost_list, time_list, var = train(cost_fn, grad_fn, epochs, var_init_ks, lr)\n",
        "qnwl.append(lost_list)\n",
        "qnwt.append(time_list)"
      ]
    },
    {
      "cell_type": "code",
      "execution_count": null,
      "metadata": {
        "colab": {
          "base_uri": "https://localhost:8080/"
        },
        "id": "u-gME3g0TMuP",
        "outputId": "49ec920e-cc9e-4e9d-eb54-61a49f18c107"
      },
      "outputs": [
        {
          "output_type": "stream",
          "name": "stdout",
          "text": [
            "Iter:     0 | Cost: 16.08365820085 \n",
            "Iter:    10 | Cost: 12.82354490414 \n",
            "Iter:     0 | Cost: 15.75963494829 \n",
            "Iter:    10 | Cost: 9.50259090662 \n",
            "Iter:     0 | Cost: 14.88568424087 \n",
            "Iter:    10 | Cost: 5.73829383845 \n",
            "Iter:     0 | Cost: 7.31937591142 \n",
            "Iter:    10 | Cost: 1.24917421977 \n",
            "Iter:     0 | Cost: 7.32230064599 \n",
            "Iter:    10 | Cost: 4.23089022506 \n"
          ]
        }
      ],
      "source": [
        "lr = 1\n",
        "epochs = 11\n",
        "reg = 3.2\n",
        "np.random.seed(1)\n",
        "num_param_gates = 3\n",
        "\n",
        "temp1 = []\n",
        "temp2 = []\n",
        "for num_layers in steps:\n",
        "  var_init_ksc = 0.5*np.random.randn(num_layers, num_param_gates*len(H_ks.wires))\n",
        "\n",
        "  cost_fn = lambda v: cost_function(v, H_ks)+offset_ks\n",
        "  grad_fn = lambda var: newton_gradient(cost_function, H_ks, var, reg)\n",
        "  lost_list, time_list, _ = train(cost_fn, grad_fn, epochs, var_init_ksc, lr)\n",
        "  temp1.append(lost_list[-1])\n",
        "  temp2.append(time_list[-1])\n",
        "\n",
        "qnwlc.append(temp1)\n",
        "qnwtc.append(temp2)"
      ]
    },
    {
      "cell_type": "markdown",
      "metadata": {
        "id": "Dy0xupPD9K8O"
      },
      "source": [
        "#**Benchmarking** "
      ]
    },
    {
      "cell_type": "markdown",
      "metadata": {
        "id": "CLdbB84Men8d"
      },
      "source": [
        "### Contour Plot"
      ]
    },
    {
      "cell_type": "code",
      "execution_count": null,
      "metadata": {
        "cellView": "form",
        "id": "T5J8IafWnQNb"
      },
      "outputs": [],
      "source": [
        "#@title Train Contour\n",
        "def train_contour(cost_fn, grad_fn, epochs, var_init, lr):\n",
        "  lost_list = []\n",
        "  var_list = []\n",
        "  var = var_init.copy()\n",
        "  var_list.append(var)\n",
        "  opt = qml.RMSPropOptimizer(lr)\n",
        "\n",
        "  start = time.time()\n",
        "\n",
        "  for it in range(epochs):# while True:\n",
        "      \n",
        "      var, _cost = opt.step_and_cost(cost_fn, var, grad_fn=grad_fn) \n",
        "      lost_list.append(_cost.numpy())\n",
        "      var_list.append(var)\n",
        "      # if it%10==0:\n",
        "      #   print(\"Iter: {:5d} | Cost: {:0.11f} \".format(it, _cost))\n",
        "\n",
        "      end = time.time()\n",
        "      t = end - start\n",
        "  return lost_list, var_list\n",
        "\n",
        "\n",
        "def quantum_natural_gradient_contour(var, H, cost_function):\n",
        "  num_wires = len(H.wires)\n",
        "  dev = qml.device('default.qubit', wires=num_wires)\n",
        "\n",
        "  @qml.qnode(dev)\n",
        "  def metric_tensor_circuit(var):\n",
        "    for v in var: \n",
        "      ansatz_contour(v)\n",
        "    return qml.expval(H)\n",
        "\n",
        "  metric_fn = qml.metric_tensor(metric_tensor_circuit, approx=\"block-diag\", hybrid=False)\n",
        "  grad = parameter_shift(cost_function, var)\n",
        "  grad_flatten = grad.flatten()\n",
        "  metric_tensor = metric_fn(var)\n",
        "  try:\n",
        "    qng_grad = np.linalg.solve(metric_tensor, grad_flatten)\n",
        "  except: \n",
        "    qng_grad = np.linalg.lstsq(metric_tensor, grad_flatten, rcond=None)[0]\n",
        "  return qng_grad\n",
        "\n",
        "\n",
        "param_gates = ['RX', 'RY', 'RZ']\n",
        "\n",
        "def lcu_term(ansatz, params, wires, diff_index, num_wires, num_layers):\n",
        "  qml.Hadamard(wires=num_wires)\n",
        "  break_point = len(ansatz)//num_layers\n",
        "  qml.adjoint(qml.S)(wires=num_wires)\n",
        "\n",
        "  counting = 0\n",
        "  for i, gate in enumerate(ansatz):\n",
        "    \n",
        "    if gate in param_gates:\n",
        "      if i == diff_index:\n",
        "        controlStr(gate)(wires=[num_wires, diff_index//2])\n",
        "      str2gate(gate)(params[counting], wires=wires[i])\n",
        "      counting += 1\n",
        "    else:\n",
        "      str2gate(gate)(wires=wires[i])\n",
        "    if i!=0 and (i+1)%break_point==0:\n",
        "      fully_connected_layer(num_wires)\n",
        "  qml.Hadamard(wires=num_wires)\n",
        "\n",
        "def lcu_gradients_contour(ansatz_label, H, params):\n",
        "  num_layers = len(params)\n",
        "  num_wires = len(H.wires)-1\n",
        "  num_param_gates = len(params[0])//num_wires\n",
        "\n",
        "  ansatz = ansatz_label * num_layers * num_wires\n",
        "  \n",
        "  wires = []\n",
        "  for i in range(num_layers):\n",
        "    for j in range(num_wires):\n",
        "      for k in range(2):\n",
        "        wires.append(j)\n",
        "  params = params.flatten()\n",
        "\n",
        "  dev = qml.device(\"default.qubit\", wires=num_wires+1)\n",
        "  @qml.qnode(dev)\n",
        "  def lcu(ansatz, H, params, wires, diff_index):\n",
        "    \n",
        "    lcu_term(ansatz, params, wires, diff_index, num_wires, num_layers)\n",
        "    \n",
        "    return qml.expval(H)\n",
        "\n",
        "  gradients = []\n",
        "  for i in range(len(ansatz)):\n",
        "    if ansatz[i] in param_gates:\n",
        "      gradients.append(lcu(ansatz, H, params, wires, i))\n",
        "      \n",
        "  return np.array(gradients).reshape(num_layers, -1)\n",
        "\n",
        "def newton_gradient_contour(H, params, reg):\n",
        "  num_layers = len(params)\n",
        "  params = params.reshape(1,-1)[0]\n",
        "  num_wires = len(H.wires)\n",
        "  dev = qml.device('default.qubit', wires=num_wires)\n",
        "\n",
        "  @qml.qnode(dev)\n",
        "  def circuit(var,H):\n",
        "    qml.RX(var[0], wires=0)\n",
        "    qml.RZ(var[1], wires=0)\n",
        "    return qml.expval(H)\n",
        "\n",
        "  grad_fn = qml.grad(circuit)\n",
        "  hes_fn = qml.jacobian(grad_fn)\n",
        "  grad = grad_fn(params, H)\n",
        "  hessian_matrix = hes_fn(params, H)\n",
        "  iden = np.identity(len(hessian_matrix))*reg\n",
        "  hessian_matrix += iden\n",
        "  \n",
        "  try:\n",
        "    #x = np.linalg.inv(hessian_matrix)\n",
        "    newton_grad = np.linalg.solve(hessian_matrix, grad)\n",
        "  except: \n",
        "    #x = np.linalg.pinv(hessian_matrix)\n",
        "    newton_grad = np.linalg.lstsq(hessian_matrix, grad, rcond=None)[0] \n",
        "  \n",
        "  return newton_grad.reshape(num_layers,-1)"
      ]
    },
    {
      "cell_type": "code",
      "execution_count": null,
      "metadata": {
        "cellView": "form",
        "id": "RmDWARV9qOhL",
        "colab": {
          "base_uri": "https://localhost:8080/",
          "height": 1000,
          "referenced_widgets": [
            "bd7294df57e8446bb4f83f32524cf208",
            "7c2041ed1b8a4a4ba81d6f0d7bb8fc48",
            "9be98a0b97db4cfba815dc27a24a0970",
            "532451a564014a0da7507b37c21f5e7e",
            "b2e9e875ee64485aba84112550577687",
            "adf9c7461f2d4225a7a385fe8a03623b",
            "878183b5db344a03af8089491342b7bf",
            "97760a5b7701434bba5ba498cc4651b4",
            "9c8ae9c108fe4aa0963bfde1a625b22c",
            "4aef5492ca2e40289dbfa967780abc09",
            "a0204cbfa2544525be55ba6d4353108f"
          ]
        },
        "outputId": "103eee29-216e-44ab-e239-d00f72f81ca6"
      },
      "outputs": [
        {
          "output_type": "stream",
          "name": "stdout",
          "text": [
            "\\ This file has been generated by DOcplex\n",
            "\\ ENCODING=ISO-8859-1\n",
            "\\Problem name: docplex model\n",
            "\n",
            "Minimize\n",
            " obj: 95000 x1\n",
            "Subject To\n",
            " c0: x1 >= 1\n",
            "\n",
            "Bounds\n",
            " 0 <= x1 <= 1\n",
            "\n",
            "Binaries\n",
            " x1\n",
            "End\n",
            "\n"
          ]
        },
        {
          "output_type": "display_data",
          "data": {
            "text/plain": [
              "  0%|          | 0/50 [00:00<?, ?it/s]"
            ],
            "application/vnd.jupyter.widget-view+json": {
              "version_major": 2,
              "version_minor": 0,
              "model_id": "bd7294df57e8446bb4f83f32524cf208"
            }
          },
          "metadata": {}
        },
        {
          "output_type": "display_data",
          "data": {
            "text/html": [
              "<html>\n",
              "<head><meta charset=\"utf-8\" /></head>\n",
              "<body>\n",
              "    <div>            <script src=\"https://cdnjs.cloudflare.com/ajax/libs/mathjax/2.7.5/MathJax.js?config=TeX-AMS-MML_SVG\"></script><script type=\"text/javascript\">if (window.MathJax) {MathJax.Hub.Config({SVG: {font: \"STIX-Web\"}});}</script>                <script type=\"text/javascript\">window.PlotlyConfig = {MathJaxConfig: 'local'};</script>\n",
              "        <script src=\"https://cdn.plot.ly/plotly-2.8.3.min.js\"></script>                <div id=\"82651f12-cf20-4771-b40b-363f4660e8f2\" class=\"plotly-graph-div\" style=\"height:1000px; width:1000px;\"></div>            <script type=\"text/javascript\">                                    window.PLOTLYENV=window.PLOTLYENV || {};                                    if (document.getElementById(\"82651f12-cf20-4771-b40b-363f4660e8f2\")) {                    Plotly.newPlot(                        \"82651f12-cf20-4771-b40b-363f4660e8f2\",                        [{\"showscale\":false,\"x\":[-8.0,-7.673469387755102,-7.346938775510204,-7.020408163265306,-6.6938775510204085,-6.36734693877551,-6.040816326530612,-5.714285714285714,-5.387755102040817,-5.061224489795919,-4.73469387755102,-4.408163265306123,-4.081632653061225,-3.755102040816327,-3.428571428571429,-3.1020408163265314,-2.775510204081633,-2.4489795918367347,-2.1224489795918373,-1.795918367346939,-1.4693877551020416,-1.1428571428571432,-0.8163265306122458,-0.4897959183673475,-0.16326530612244916,0.16326530612244916,0.4897959183673457,0.816326530612244,1.1428571428571423,1.4693877551020407,1.7959183673469372,2.1224489795918355,2.448979591836734,2.775510204081632,3.1020408163265305,3.428571428571427,3.7551020408163254,4.081632653061224,4.408163265306122,4.734693877551019,5.061224489795917,5.387755102040815,5.7142857142857135,6.040816326530612,6.367346938775508,6.693877551020407,7.020408163265305,7.346938775510203,7.673469387755102,8.0],\"y\":[-8.0,-7.673469387755102,-7.346938775510204,-7.020408163265306,-6.6938775510204085,-6.36734693877551,-6.040816326530612,-5.714285714285714,-5.387755102040817,-5.061224489795919,-4.73469387755102,-4.408163265306123,-4.081632653061225,-3.755102040816327,-3.428571428571429,-3.1020408163265314,-2.775510204081633,-2.4489795918367347,-2.1224489795918373,-1.795918367346939,-1.4693877551020416,-1.1428571428571432,-0.8163265306122458,-0.4897959183673475,-0.16326530612244916,0.16326530612244916,0.4897959183673457,0.816326530612244,1.1428571428571423,1.4693877551020407,1.7959183673469372,2.1224489795918355,2.448979591836734,2.775510204081632,3.1020408163265305,3.428571428571427,3.7551020408163254,4.081632653061224,4.408163265306122,4.734693877551019,5.061224489795917,5.387755102040815,5.7142857142857135,6.040816326530612,6.367346938775508,6.693877551020407,7.020408163265305,7.346938775510203,7.673469387755102,8.0],\"z\":[[0.4272499830956933,0.5897667600637693,0.7427971435669347,0.8701691515823801,0.9584223341218036,0.9982302499334017,0.9853860684248854,0.9212471401282114,0.8125915542805058,0.6709018422639796,0.5111515238666231,0.35022273202255966,0.2051221386689387,0.09118371953983663,0.02044828655561958,0.0003910359773804837,0.03313158280152002,0.11520996357152648,0.23795227923619283,0.3883873375595285,0.550617425923208,0.7074983536605337,0.8424512200002258,0.9412144431674014,0.9933508992850146,0.9933508992850146,0.9412144431674017,0.8424512200002263,0.7074983536605342,0.5506174259232084,0.3883873375595293,0.23795227923619358,0.11520996357152674,0.033131582801520176,0.00039103597738050127,0.02044828655561934,0.09118371953983612,0.20512213866893836,0.35022273202255916,0.5111515238666224,0.6709018422639788,0.8125915542805051,0.9212471401282114,0.9853860684248854,0.9982302499334017,0.9584223341218039,0.8701691515823805,0.7427971435669349,0.5897667600637693,0.4272499830956933],[0.42724998309569323,0.5897667600637694,0.7427971435669347,0.8701691515823802,0.9584223341218037,0.9982302499334016,0.9853860684248854,0.9212471401282114,0.8125915542805058,0.6709018422639796,0.5111515238666232,0.3502227320225597,0.2051221386689387,0.09118371953983662,0.020448286555619585,0.0003910359773804837,0.033131582801520024,0.11520996357152646,0.23795227923619283,0.3883873375595285,0.550617425923208,0.7074983536605337,0.8424512200002257,0.9412144431674014,0.9933508992850146,0.9933508992850146,0.9412144431674018,0.8424512200002263,0.707498353660534,0.5506174259232084,0.38838733755952937,0.2379522792361936,0.11520996357152671,0.033131582801520176,0.00039103597738050127,0.02044828655561934,0.09118371953983612,0.20512213866893833,0.3502227320225591,0.5111515238666224,0.6709018422639788,0.8125915542805051,0.9212471401282112,0.9853860684248854,0.9982302499334016,0.958422334121804,0.8701691515823806,0.7427971435669352,0.5897667600637694,0.42724998309569323],[0.4272499830956933,0.5897667600637694,0.7427971435669347,0.8701691515823802,0.9584223341218038,0.9982302499334018,0.9853860684248854,0.9212471401282114,0.812591554280506,0.6709018422639796,0.5111515238666232,0.3502227320225597,0.2051221386689387,0.09118371953983662,0.020448286555619585,0.0003910359773804837,0.03313158280152002,0.11520996357152646,0.23795227923619286,0.3883873375595286,0.550617425923208,0.7074983536605337,0.8424512200002258,0.9412144431674015,0.9933508992850149,0.9933508992850149,0.941214443167402,0.8424512200002265,0.707498353660534,0.5506174259232085,0.3883873375595294,0.2379522792361936,0.11520996357152673,0.03313158280152018,0.0003910359773805012,0.02044828655561934,0.09118371953983613,0.20512213866893833,0.3502227320225591,0.5111515238666224,0.6709018422639788,0.8125915542805052,0.9212471401282112,0.9853860684248854,0.9982302499334018,0.9584223341218042,0.8701691515823806,0.7427971435669352,0.5897667600637694,0.4272499830956933],[0.42724998309569323,0.5897667600637693,0.7427971435669347,0.8701691515823801,0.9584223341218037,0.9982302499334017,0.9853860684248854,0.9212471401282115,0.8125915542805059,0.6709018422639796,0.5111515238666231,0.3502227320225596,0.2051221386689387,0.09118371953983663,0.02044828655561958,0.00039103597738048365,0.03313158280152002,0.11520996357152645,0.23795227923619283,0.38838733755952853,0.550617425923208,0.7074983536605337,0.8424512200002258,0.9412144431674013,0.9933508992850146,0.9933508992850146,0.9412144431674018,0.8424512200002263,0.707498353660534,0.5506174259232085,0.3883873375595293,0.2379522792361936,0.11520996357152674,0.033131582801520176,0.0003910359773805013,0.020448286555619335,0.09118371953983612,0.2051221386689383,0.35022273202255916,0.5111515238666223,0.6709018422639786,0.8125915542805052,0.9212471401282113,0.9853860684248854,0.9982302499334017,0.9584223341218041,0.8701691515823806,0.742797143566935,0.5897667600637693,0.42724998309569323],[0.4272499830956932,0.5897667600637695,0.7427971435669347,0.8701691515823803,0.9584223341218037,0.9982302499334017,0.9853860684248853,0.9212471401282114,0.8125915542805058,0.6709018422639796,0.5111515238666231,0.3502227320225596,0.2051221386689387,0.09118371953983663,0.020448286555619585,0.0003910359773804837,0.03313158280152002,0.11520996357152646,0.23795227923619283,0.3883873375595286,0.550617425923208,0.7074983536605336,0.8424512200002258,0.9412144431674013,0.9933508992850147,0.9933508992850147,0.9412144431674018,0.8424512200002264,0.7074983536605339,0.5506174259232085,0.38838733755952926,0.2379522792361936,0.11520996357152673,0.03313158280152018,0.0003910359773805012,0.02044828655561933,0.09118371953983612,0.20512213866893833,0.35022273202255905,0.5111515238666224,0.6709018422639788,0.8125915542805051,0.9212471401282112,0.9853860684248853,0.9982302499334017,0.958422334121804,0.8701691515823806,0.742797143566935,0.5897667600637695,0.4272499830956932],[0.42724998309569334,0.5897667600637695,0.7427971435669349,0.8701691515823804,0.9584223341218038,0.9982302499334016,0.9853860684248855,0.9212471401282116,0.8125915542805059,0.6709018422639796,0.5111515238666232,0.35022273202255977,0.2051221386689387,0.09118371953983664,0.020448286555619585,0.00039103597738048365,0.033131582801520024,0.11520996357152648,0.23795227923619283,0.3883873375595286,0.5506174259232082,0.7074983536605337,0.8424512200002258,0.9412144431674015,0.9933508992850149,0.9933508992850149,0.941214443167402,0.8424512200002264,0.707498353660534,0.5506174259232086,0.3883873375595294,0.2379522792361936,0.11520996357152674,0.03313158280152018,0.00039103597738050127,0.02044828655561934,0.09118371953983614,0.20512213866893836,0.3502227320225592,0.5111515238666224,0.6709018422639788,0.8125915542805053,0.9212471401282114,0.9853860684248855,0.9982302499334016,0.9584223341218042,0.8701691515823807,0.7427971435669353,0.5897667600637695,0.42724998309569334],[0.42724998309569323,0.5897667600637695,0.7427971435669347,0.8701691515823802,0.9584223341218036,0.9982302499334016,0.9853860684248853,0.9212471401282115,0.8125915542805058,0.6709018422639796,0.5111515238666231,0.35022273202255966,0.2051221386689387,0.09118371953983663,0.020448286555619585,0.00039103597738048376,0.03313158280152002,0.11520996357152649,0.23795227923619283,0.38838733755952853,0.5506174259232081,0.7074983536605337,0.8424512200002257,0.9412144431674013,0.9933508992850146,0.9933508992850146,0.9412144431674018,0.8424512200002263,0.707498353660534,0.5506174259232085,0.3883873375595293,0.2379522792361936,0.11520996357152676,0.03313158280152019,0.0003910359773805013,0.02044828655561934,0.09118371953983612,0.20512213866893833,0.35022273202255916,0.5111515238666223,0.6709018422639788,0.8125915542805052,0.9212471401282113,0.9853860684248853,0.9982302499334016,0.958422334121804,0.8701691515823805,0.7427971435669352,0.5897667600637695,0.42724998309569323],[0.42724998309569323,0.5897667600637694,0.7427971435669347,0.8701691515823803,0.9584223341218037,0.9982302499334017,0.9853860684248855,0.9212471401282115,0.812591554280506,0.6709018422639798,0.5111515238666232,0.35022273202255977,0.2051221386689387,0.09118371953983663,0.020448286555619585,0.0003910359773804837,0.033131582801520024,0.11520996357152646,0.23795227923619286,0.3883873375595285,0.5506174259232081,0.7074983536605337,0.8424512200002258,0.9412144431674014,0.9933508992850147,0.9933508992850147,0.9412144431674019,0.8424512200002264,0.7074983536605343,0.5506174259232086,0.38838733755952937,0.23795227923619364,0.11520996357152674,0.03313158280152018,0.00039103597738050127,0.020448286555619342,0.09118371953983613,0.20512213866893833,0.35022273202255916,0.5111515238666224,0.6709018422639788,0.8125915542805053,0.9212471401282114,0.9853860684248855,0.9982302499334017,0.958422334121804,0.8701691515823805,0.742797143566935,0.5897667600637694,0.42724998309569323],[0.4272499830956933,0.5897667600637694,0.7427971435669348,0.8701691515823802,0.9584223341218037,0.9982302499334016,0.9853860684248854,0.9212471401282116,0.8125915542805059,0.6709018422639796,0.5111515238666232,0.35022273202255966,0.2051221386689387,0.09118371953983663,0.020448286555619588,0.0003910359773804837,0.033131582801520024,0.11520996357152648,0.23795227923619286,0.3883873375595286,0.550617425923208,0.7074983536605337,0.8424512200002257,0.9412144431674014,0.9933508992850146,0.9933508992850146,0.9412144431674019,0.8424512200002264,0.7074983536605342,0.5506174259232085,0.38838733755952937,0.2379522792361936,0.11520996357152674,0.03313158280152018,0.00039103597738050127,0.020448286555619342,0.09118371953983612,0.20512213866893836,0.3502227320225592,0.5111515238666223,0.6709018422639788,0.8125915542805052,0.9212471401282114,0.9853860684248854,0.9982302499334016,0.9584223341218041,0.8701691515823806,0.742797143566935,0.5897667600637694,0.4272499830956933],[0.4272499830956933,0.5897667600637694,0.7427971435669347,0.8701691515823803,0.9584223341218037,0.9982302499334015,0.9853860684248854,0.9212471401282115,0.8125915542805058,0.6709018422639796,0.5111515238666231,0.35022273202255966,0.2051221386689387,0.09118371953983663,0.020448286555619585,0.0003910359773804837,0.03313158280152002,0.11520996357152646,0.23795227923619283,0.3883873375595285,0.550617425923208,0.7074983536605337,0.8424512200002257,0.9412144431674013,0.9933508992850146,0.9933508992850146,0.9412144431674019,0.8424512200002265,0.707498353660534,0.5506174259232085,0.38838733755952937,0.2379522792361936,0.11520996357152674,0.033131582801520176,0.00039103597738050127,0.020448286555619335,0.09118371953983613,0.20512213866893833,0.35022273202255916,0.5111515238666224,0.6709018422639788,0.8125915542805053,0.9212471401282113,0.9853860684248854,0.9982302499334015,0.9584223341218039,0.8701691515823805,0.7427971435669352,0.5897667600637694,0.4272499830956933],[0.42724998309569323,0.5897667600637695,0.7427971435669347,0.8701691515823802,0.9584223341218034,0.9982302499334015,0.9853860684248852,0.9212471401282115,0.8125915542805058,0.6709018422639796,0.5111515238666232,0.3502227320225596,0.2051221386689387,0.09118371953983662,0.02044828655561958,0.0003910359773804837,0.03313158280152002,0.11520996357152646,0.23795227923619283,0.3883873375595285,0.550617425923208,0.7074983536605336,0.8424512200002257,0.9412144431674014,0.9933508992850146,0.9933508992850146,0.9412144431674017,0.8424512200002263,0.7074983536605339,0.5506174259232084,0.38838733755952937,0.23795227923619355,0.11520996357152673,0.03313158280152018,0.00039103597738050127,0.02044828655561934,0.09118371953983612,0.2051221386689383,0.3502227320225591,0.5111515238666223,0.6709018422639788,0.8125915542805052,0.9212471401282112,0.9853860684248852,0.9982302499334015,0.958422334121804,0.8701691515823804,0.7427971435669349,0.5897667600637695,0.42724998309569323],[0.4272499830956933,0.5897667600637694,0.7427971435669347,0.8701691515823801,0.9584223341218034,0.9982302499334016,0.9853860684248854,0.9212471401282115,0.8125915542805058,0.6709018422639796,0.5111515238666231,0.35022273202255966,0.20512213866893864,0.09118371953983663,0.02044828655561958,0.0003910359773804837,0.033131582801520024,0.11520996357152648,0.2379522792361928,0.38838733755952853,0.550617425923208,0.7074983536605337,0.8424512200002257,0.9412144431674014,0.9933508992850146,0.9933508992850146,0.9412144431674019,0.8424512200002263,0.707498353660534,0.5506174259232085,0.38838733755952937,0.2379522792361936,0.11520996357152674,0.033131582801520176,0.0003910359773805012,0.020448286555619335,0.09118371953983612,0.20512213866893836,0.35022273202255916,0.5111515238666223,0.6709018422639788,0.8125915542805052,0.9212471401282112,0.9853860684248854,0.9982302499334016,0.9584223341218041,0.8701691515823805,0.7427971435669352,0.5897667600637694,0.4272499830956933],[0.4272499830956933,0.5897667600637694,0.7427971435669347,0.8701691515823801,0.9584223341218036,0.9982302499334014,0.9853860684248854,0.9212471401282114,0.8125915542805058,0.6709018422639796,0.5111515238666231,0.3502227320225596,0.2051221386689387,0.09118371953983663,0.020448286555619588,0.0003910359773804837,0.033131582801520024,0.11520996357152646,0.2379522792361928,0.3883873375595285,0.550617425923208,0.7074983536605336,0.8424512200002257,0.9412144431674013,0.9933508992850144,0.9933508992850144,0.9412144431674019,0.8424512200002263,0.707498353660534,0.5506174259232086,0.38838733755952937,0.2379522792361936,0.11520996357152671,0.03313158280152018,0.00039103597738050127,0.02044828655561934,0.09118371953983612,0.2051221386689383,0.35022273202255916,0.5111515238666223,0.6709018422639788,0.8125915542805052,0.9212471401282112,0.9853860684248854,0.9982302499334014,0.9584223341218039,0.8701691515823805,0.7427971435669349,0.5897667600637694,0.4272499830956933],[0.4272499830956933,0.5897667600637693,0.7427971435669346,0.8701691515823802,0.9584223341218034,0.9982302499334017,0.9853860684248854,0.9212471401282114,0.8125915542805058,0.6709018422639796,0.5111515238666232,0.3502227320225596,0.2051221386689387,0.09118371953983662,0.020448286555619585,0.0003910359773804837,0.03313158280152002,0.11520996357152646,0.23795227923619286,0.3883873375595286,0.550617425923208,0.7074983536605337,0.8424512200002259,0.9412144431674013,0.9933508992850145,0.9933508992850145,0.9412144431674018,0.8424512200002264,0.707498353660534,0.5506174259232084,0.38838733755952926,0.23795227923619358,0.11520996357152674,0.03313158280152018,0.00039103597738050127,0.020448286555619335,0.09118371953983612,0.20512213866893833,0.3502227320225592,0.5111515238666223,0.6709018422639786,0.8125915542805052,0.9212471401282112,0.9853860684248854,0.9982302499334017,0.958422334121804,0.8701691515823806,0.742797143566935,0.5897667600637693,0.4272499830956933],[0.42724998309569334,0.5897667600637695,0.7427971435669348,0.8701691515823803,0.9584223341218037,0.9982302499334016,0.9853860684248855,0.9212471401282116,0.8125915542805058,0.6709018422639796,0.5111515238666232,0.35022273202255966,0.20512213866893872,0.09118371953983663,0.020448286555619588,0.0003910359773804838,0.033131582801520024,0.11520996357152646,0.23795227923619286,0.38838733755952853,0.5506174259232081,0.7074983536605337,0.8424512200002258,0.9412144431674014,0.9933508992850149,0.9933508992850149,0.9412144431674019,0.8424512200002264,0.7074983536605342,0.5506174259232086,0.38838733755952937,0.23795227923619364,0.11520996357152674,0.03313158280152018,0.00039103597738050127,0.02044828655561934,0.09118371953983613,0.20512213866893836,0.35022273202255916,0.5111515238666224,0.670901842263979,0.8125915542805052,0.9212471401282114,0.9853860684248855,0.9982302499334016,0.9584223341218041,0.8701691515823806,0.7427971435669352,0.5897667600637695,0.42724998309569334],[0.42724998309569323,0.5897667600637694,0.7427971435669349,0.8701691515823804,0.9584223341218038,0.9982302499334017,0.9853860684248856,0.9212471401282117,0.812591554280506,0.6709018422639796,0.5111515238666231,0.35022273202255966,0.20512213866893872,0.09118371953983666,0.020448286555619585,0.0003910359773804837,0.033131582801520024,0.11520996357152648,0.23795227923619286,0.3883873375595286,0.5506174259232081,0.7074983536605338,0.8424512200002259,0.9412144431674017,0.9933508992850147,0.9933508992850147,0.9412144431674021,0.8424512200002264,0.7074983536605342,0.5506174259232086,0.3883873375595294,0.2379522792361936,0.11520996357152676,0.03313158280152018,0.00039103597738050127,0.02044828655561934,0.09118371953983616,0.2051221386689384,0.35022273202255916,0.5111515238666223,0.6709018422639788,0.8125915542805053,0.9212471401282115,0.9853860684248856,0.9982302499334017,0.9584223341218042,0.8701691515823807,0.7427971435669353,0.5897667600637694,0.42724998309569323],[0.42724998309569334,0.5897667600637695,0.7427971435669347,0.8701691515823802,0.9584223341218037,0.9982302499334016,0.9853860684248855,0.9212471401282115,0.812591554280506,0.6709018422639799,0.5111515238666232,0.3502227320225597,0.2051221386689387,0.09118371953983664,0.020448286555619588,0.0003910359773804838,0.033131582801520024,0.11520996357152648,0.23795227923619283,0.3883873375595285,0.5506174259232082,0.7074983536605337,0.8424512200002259,0.9412144431674014,0.9933508992850149,0.9933508992850149,0.9412144431674019,0.8424512200002264,0.707498353660534,0.5506174259232085,0.38838733755952937,0.2379522792361936,0.11520996357152674,0.03313158280152018,0.00039103597738050127,0.02044828655561934,0.09118371953983613,0.20512213866893836,0.3502227320225592,0.5111515238666224,0.6709018422639788,0.8125915542805053,0.9212471401282113,0.9853860684248855,0.9982302499334016,0.9584223341218042,0.8701691515823806,0.7427971435669353,0.5897667600637695,0.42724998309569334],[0.4272499830956933,0.5897667600637696,0.7427971435669347,0.8701691515823804,0.9584223341218037,0.9982302499334017,0.9853860684248855,0.9212471401282115,0.812591554280506,0.6709018422639798,0.5111515238666232,0.35022273202255977,0.2051221386689387,0.09118371953983663,0.020448286555619588,0.0003910359773804838,0.033131582801520024,0.11520996357152646,0.2379522792361929,0.3883873375595286,0.550617425923208,0.7074983536605338,0.8424512200002258,0.9412144431674015,0.9933508992850149,0.9933508992850149,0.941214443167402,0.8424512200002264,0.7074983536605342,0.5506174259232085,0.3883873375595295,0.23795227923619364,0.11520996357152674,0.03313158280152018,0.00039103597738050127,0.020448286555619342,0.09118371953983613,0.20512213866893836,0.3502227320225592,0.5111515238666224,0.6709018422639789,0.8125915542805052,0.9212471401282113,0.9853860684248855,0.9982302499334017,0.9584223341218041,0.8701691515823805,0.7427971435669352,0.5897667600637696,0.4272499830956933],[0.42724998309569323,0.5897667600637694,0.7427971435669347,0.8701691515823802,0.9584223341218037,0.9982302499334015,0.9853860684248854,0.9212471401282114,0.8125915542805058,0.6709018422639796,0.5111515238666231,0.3502227320225596,0.20512213866893864,0.09118371953983663,0.02044828655561958,0.0003910359773804837,0.033131582801520024,0.11520996357152646,0.23795227923619283,0.3883873375595285,0.550617425923208,0.7074983536605337,0.8424512200002258,0.9412144431674014,0.9933508992850149,0.9933508992850149,0.9412144431674018,0.8424512200002263,0.707498353660534,0.5506174259232085,0.3883873375595294,0.2379522792361936,0.11520996357152671,0.03313158280152018,0.00039103597738050127,0.020448286555619335,0.09118371953983612,0.2051221386689383,0.35022273202255916,0.5111515238666224,0.6709018422639786,0.8125915542805053,0.9212471401282114,0.9853860684248854,0.9982302499334015,0.958422334121804,0.8701691515823806,0.742797143566935,0.5897667600637694,0.42724998309569323],[0.4272499830956932,0.5897667600637694,0.7427971435669348,0.8701691515823802,0.9584223341218039,0.9982302499334016,0.9853860684248856,0.9212471401282116,0.812591554280506,0.6709018422639796,0.5111515238666232,0.3502227320225597,0.2051221386689387,0.09118371953983663,0.02044828655561958,0.0003910359773804837,0.033131582801520024,0.11520996357152648,0.23795227923619283,0.3883873375595285,0.5506174259232081,0.7074983536605337,0.8424512200002259,0.9412144431674014,0.9933508992850149,0.9933508992850149,0.9412144431674019,0.8424512200002263,0.7074983536605342,0.5506174259232085,0.38838733755952937,0.2379522792361936,0.11520996357152674,0.033131582801520176,0.00039103597738050127,0.02044828655561934,0.09118371953983612,0.20512213866893836,0.35022273202255916,0.5111515238666224,0.6709018422639788,0.8125915542805053,0.9212471401282114,0.9853860684248856,0.9982302499334016,0.9584223341218041,0.8701691515823806,0.7427971435669352,0.5897667600637694,0.4272499830956932],[0.42724998309569323,0.5897667600637694,0.7427971435669347,0.87016915158238,0.9584223341218037,0.9982302499334017,0.9853860684248854,0.9212471401282114,0.8125915542805058,0.6709018422639795,0.5111515238666231,0.35022273202255966,0.20512213866893866,0.09118371953983663,0.02044828655561958,0.0003910359773804837,0.033131582801520024,0.11520996357152648,0.23795227923619283,0.38838733755952853,0.5506174259232081,0.7074983536605336,0.8424512200002258,0.9412144431674014,0.9933508992850146,0.9933508992850146,0.9412144431674018,0.8424512200002263,0.7074983536605342,0.5506174259232085,0.3883873375595293,0.2379522792361936,0.11520996357152674,0.033131582801520176,0.00039103597738050127,0.02044828655561934,0.09118371953983612,0.20512213866893836,0.35022273202255916,0.5111515238666223,0.6709018422639788,0.8125915542805051,0.9212471401282114,0.9853860684248854,0.9982302499334017,0.958422334121804,0.8701691515823806,0.742797143566935,0.5897667600637694,0.42724998309569323],[0.42724998309569334,0.5897667600637694,0.7427971435669347,0.8701691515823802,0.9584223341218036,0.9982302499334015,0.9853860684248854,0.9212471401282115,0.8125915542805058,0.6709018422639796,0.5111515238666232,0.3502227320225597,0.2051221386689387,0.09118371953983664,0.02044828655561958,0.0003910359773804837,0.033131582801520024,0.11520996357152648,0.23795227923619283,0.3883873375595286,0.550617425923208,0.7074983536605337,0.8424512200002257,0.9412144431674014,0.9933508992850147,0.9933508992850147,0.9412144431674019,0.8424512200002264,0.707498353660534,0.5506174259232085,0.3883873375595294,0.23795227923619355,0.11520996357152674,0.033131582801520176,0.0003910359773805012,0.02044828655561934,0.09118371953983612,0.2051221386689383,0.35022273202255916,0.5111515238666224,0.6709018422639786,0.8125915542805052,0.9212471401282113,0.9853860684248854,0.9982302499334015,0.958422334121804,0.8701691515823805,0.7427971435669352,0.5897667600637694,0.42724998309569334],[0.4272499830956933,0.5897667600637694,0.7427971435669347,0.8701691515823802,0.9584223341218037,0.9982302499334016,0.9853860684248854,0.9212471401282116,0.8125915542805058,0.6709018422639796,0.5111515238666231,0.35022273202255966,0.20512213866893872,0.09118371953983663,0.020448286555619585,0.0003910359773804837,0.033131582801520024,0.11520996357152648,0.23795227923619283,0.3883873375595286,0.5506174259232081,0.7074983536605337,0.8424512200002259,0.9412144431674014,0.9933508992850147,0.9933508992850147,0.9412144431674019,0.8424512200002265,0.7074983536605342,0.5506174259232086,0.3883873375595293,0.23795227923619364,0.11520996357152676,0.03313158280152018,0.0003910359773805013,0.020448286555619345,0.09118371953983613,0.20512213866893833,0.3502227320225592,0.5111515238666224,0.6709018422639788,0.8125915542805054,0.9212471401282113,0.9853860684248854,0.9982302499334016,0.9584223341218042,0.8701691515823806,0.7427971435669353,0.5897667600637694,0.4272499830956933],[0.4272499830956933,0.5897667600637695,0.7427971435669348,0.8701691515823802,0.9584223341218037,0.9982302499334017,0.9853860684248854,0.9212471401282116,0.8125915542805059,0.6709018422639796,0.5111515238666232,0.3502227320225597,0.2051221386689387,0.09118371953983664,0.020448286555619585,0.00039103597738048376,0.033131582801520024,0.11520996357152648,0.23795227923619286,0.3883873375595286,0.5506174259232081,0.7074983536605338,0.8424512200002258,0.9412144431674015,0.9933508992850147,0.9933508992850147,0.9412144431674019,0.8424512200002264,0.7074983536605342,0.5506174259232086,0.38838733755952937,0.23795227923619364,0.11520996357152676,0.03313158280152018,0.0003910359773805013,0.02044828655561934,0.09118371953983613,0.20512213866893836,0.35022273202255916,0.5111515238666224,0.6709018422639788,0.8125915542805052,0.9212471401282114,0.9853860684248854,0.9982302499334017,0.9584223341218041,0.8701691515823806,0.7427971435669352,0.5897667600637695,0.4272499830956933],[0.42724998309569323,0.5897667600637694,0.7427971435669348,0.8701691515823802,0.9584223341218038,0.9982302499334017,0.9853860684248853,0.9212471401282115,0.8125915542805057,0.6709018422639796,0.5111515238666231,0.35022273202255966,0.20512213866893866,0.09118371953983662,0.020448286555619585,0.00039103597738048365,0.033131582801520024,0.11520996357152648,0.23795227923619286,0.38838733755952853,0.5506174259232081,0.7074983536605337,0.8424512200002257,0.9412144431674014,0.9933508992850147,0.9933508992850147,0.9412144431674019,0.8424512200002262,0.707498353660534,0.5506174259232084,0.38838733755952937,0.2379522792361936,0.11520996357152674,0.033131582801520176,0.0003910359773805013,0.02044828655561934,0.09118371953983612,0.20512213866893833,0.35022273202255916,0.5111515238666223,0.6709018422639788,0.8125915542805051,0.9212471401282113,0.9853860684248853,0.9982302499334017,0.9584223341218041,0.8701691515823806,0.7427971435669352,0.5897667600637694,0.42724998309569323],[0.42724998309569323,0.5897667600637694,0.7427971435669348,0.8701691515823802,0.9584223341218038,0.9982302499334017,0.9853860684248853,0.9212471401282115,0.8125915542805057,0.6709018422639796,0.5111515238666231,0.35022273202255966,0.20512213866893866,0.09118371953983662,0.020448286555619585,0.00039103597738048365,0.033131582801520024,0.11520996357152648,0.23795227923619286,0.38838733755952853,0.5506174259232081,0.7074983536605337,0.8424512200002257,0.9412144431674014,0.9933508992850147,0.9933508992850147,0.9412144431674019,0.8424512200002262,0.707498353660534,0.5506174259232084,0.38838733755952937,0.2379522792361936,0.11520996357152674,0.033131582801520176,0.0003910359773805013,0.02044828655561934,0.09118371953983612,0.20512213866893833,0.35022273202255916,0.5111515238666223,0.6709018422639788,0.8125915542805051,0.9212471401282113,0.9853860684248853,0.9982302499334017,0.9584223341218041,0.8701691515823806,0.7427971435669352,0.5897667600637694,0.42724998309569323],[0.42724998309569323,0.5897667600637694,0.7427971435669348,0.8701691515823802,0.9584223341218037,0.9982302499334017,0.9853860684248854,0.9212471401282115,0.812591554280506,0.6709018422639798,0.5111515238666232,0.35022273202255966,0.2051221386689387,0.09118371953983664,0.02044828655561958,0.00039103597738048376,0.03313158280152002,0.11520996357152646,0.23795227923619286,0.3883873375595286,0.5506174259232081,0.7074983536605339,0.8424512200002259,0.9412144431674014,0.9933508992850149,0.9933508992850149,0.9412144431674019,0.8424512200002264,0.707498353660534,0.5506174259232085,0.3883873375595294,0.23795227923619366,0.11520996357152674,0.03313158280152018,0.00039103597738050127,0.02044828655561934,0.09118371953983613,0.20512213866893833,0.35022273202255916,0.5111515238666223,0.6709018422639788,0.8125915542805053,0.9212471401282114,0.9853860684248854,0.9982302499334017,0.9584223341218041,0.8701691515823806,0.7427971435669353,0.5897667600637694,0.42724998309569323],[0.4272499830956933,0.5897667600637694,0.7427971435669348,0.8701691515823802,0.9584223341218037,0.9982302499334016,0.9853860684248854,0.9212471401282115,0.8125915542805059,0.6709018422639798,0.5111515238666233,0.3502227320225597,0.20512213866893866,0.09118371953983663,0.020448286555619588,0.0003910359773804837,0.03313158280152002,0.11520996357152646,0.23795227923619286,0.38838733755952853,0.550617425923208,0.7074983536605338,0.8424512200002259,0.9412144431674014,0.9933508992850146,0.9933508992850146,0.9412144431674019,0.8424512200002265,0.7074983536605339,0.5506174259232086,0.3883873375595293,0.2379522792361936,0.11520996357152674,0.03313158280152018,0.0003910359773805013,0.02044828655561934,0.09118371953983612,0.20512213866893833,0.3502227320225592,0.5111515238666224,0.6709018422639788,0.8125915542805052,0.9212471401282114,0.9853860684248854,0.9982302499334016,0.9584223341218041,0.8701691515823806,0.742797143566935,0.5897667600637694,0.4272499830956933],[0.4272499830956933,0.5897667600637695,0.7427971435669347,0.8701691515823802,0.9584223341218034,0.9982302499334015,0.9853860684248853,0.9212471401282116,0.8125915542805058,0.6709018422639796,0.5111515238666231,0.35022273202255966,0.2051221386689387,0.09118371953983664,0.02044828655561958,0.0003910359773804837,0.03313158280152002,0.11520996357152646,0.23795227923619283,0.38838733755952853,0.5506174259232081,0.7074983536605337,0.8424512200002258,0.9412144431674014,0.9933508992850146,0.9933508992850146,0.9412144431674017,0.8424512200002263,0.707498353660534,0.5506174259232085,0.38838733755952937,0.2379522792361936,0.11520996357152674,0.03313158280152018,0.0003910359773805013,0.02044828655561934,0.09118371953983612,0.20512213866893833,0.35022273202255916,0.5111515238666223,0.6709018422639788,0.8125915542805053,0.9212471401282113,0.9853860684248853,0.9982302499334015,0.9584223341218041,0.8701691515823805,0.7427971435669352,0.5897667600637695,0.4272499830956933],[0.4272499830956933,0.5897667600637694,0.7427971435669347,0.8701691515823802,0.9584223341218037,0.9982302499334017,0.9853860684248854,0.9212471401282115,0.8125915542805059,0.6709018422639796,0.5111515238666231,0.35022273202255966,0.2051221386689387,0.09118371953983663,0.02044828655561958,0.0003910359773804837,0.033131582801520024,0.11520996357152649,0.23795227923619283,0.3883873375595285,0.5506174259232081,0.7074983536605337,0.8424512200002259,0.9412144431674014,0.9933508992850146,0.9933508992850146,0.9412144431674018,0.8424512200002264,0.707498353660534,0.5506174259232085,0.38838733755952937,0.2379522792361936,0.11520996357152674,0.03313158280152019,0.00039103597738050127,0.02044828655561934,0.09118371953983612,0.2051221386689383,0.35022273202255916,0.5111515238666224,0.6709018422639788,0.8125915542805053,0.9212471401282114,0.9853860684248854,0.9982302499334017,0.958422334121804,0.8701691515823805,0.7427971435669352,0.5897667600637694,0.4272499830956933],[0.42724998309569323,0.5897667600637694,0.7427971435669348,0.8701691515823802,0.9584223341218037,0.9982302499334017,0.9853860684248854,0.9212471401282115,0.8125915542805059,0.6709018422639796,0.5111515238666231,0.3502227320225597,0.2051221386689387,0.09118371953983663,0.020448286555619585,0.0003910359773804837,0.033131582801520024,0.11520996357152646,0.23795227923619283,0.3883873375595285,0.550617425923208,0.7074983536605337,0.8424512200002257,0.9412144431674014,0.9933508992850149,0.9933508992850149,0.9412144431674019,0.8424512200002264,0.7074983536605342,0.5506174259232086,0.38838733755952937,0.2379522792361936,0.11520996357152674,0.03313158280152018,0.00039103597738050127,0.02044828655561934,0.09118371953983613,0.20512213866893833,0.35022273202255916,0.5111515238666222,0.6709018422639788,0.8125915542805053,0.9212471401282112,0.9853860684248854,0.9982302499334017,0.9584223341218041,0.8701691515823806,0.742797143566935,0.5897667600637694,0.42724998309569323],[0.4272499830956932,0.5897667600637694,0.7427971435669347,0.8701691515823802,0.9584223341218037,0.9982302499334015,0.9853860684248854,0.9212471401282116,0.8125915542805059,0.6709018422639796,0.5111515238666232,0.35022273202255966,0.2051221386689387,0.09118371953983662,0.020448286555619585,0.00039103597738048365,0.033131582801520024,0.11520996357152648,0.23795227923619286,0.38838733755952853,0.550617425923208,0.7074983536605336,0.8424512200002258,0.9412144431674014,0.9933508992850147,0.9933508992850147,0.9412144431674018,0.8424512200002263,0.707498353660534,0.5506174259232085,0.3883873375595293,0.2379522792361936,0.11520996357152674,0.03313158280152018,0.0003910359773805012,0.02044828655561934,0.09118371953983612,0.20512213866893833,0.35022273202255916,0.5111515238666223,0.6709018422639788,0.8125915542805052,0.9212471401282113,0.9853860684248854,0.9982302499334015,0.9584223341218041,0.8701691515823805,0.7427971435669352,0.5897667600637694,0.4272499830956932],[0.42724998309569323,0.5897667600637694,0.7427971435669348,0.8701691515823802,0.9584223341218036,0.9982302499334016,0.9853860684248853,0.9212471401282114,0.8125915542805058,0.6709018422639795,0.5111515238666231,0.3502227320225596,0.2051221386689387,0.09118371953983663,0.02044828655561958,0.0003910359773804837,0.03313158280152002,0.11520996357152646,0.23795227923619283,0.38838733755952853,0.550617425923208,0.7074983536605336,0.8424512200002258,0.9412144431674014,0.9933508992850147,0.9933508992850147,0.9412144431674019,0.8424512200002263,0.707498353660534,0.5506174259232085,0.3883873375595293,0.23795227923619358,0.11520996357152676,0.033131582801520176,0.00039103597738050127,0.02044828655561934,0.09118371953983613,0.20512213866893833,0.35022273202255916,0.5111515238666224,0.6709018422639785,0.8125915542805051,0.9212471401282112,0.9853860684248853,0.9982302499334016,0.958422334121804,0.8701691515823806,0.7427971435669352,0.5897667600637694,0.42724998309569323],[0.4272499830956933,0.5897667600637695,0.7427971435669347,0.8701691515823801,0.9584223341218037,0.9982302499334015,0.9853860684248856,0.9212471401282114,0.8125915542805059,0.6709018422639798,0.5111515238666232,0.35022273202255966,0.2051221386689387,0.09118371953983663,0.020448286555619585,0.0003910359773804837,0.03313158280152002,0.11520996357152646,0.2379522792361928,0.38838733755952853,0.550617425923208,0.7074983536605338,0.8424512200002258,0.9412144431674014,0.9933508992850147,0.9933508992850147,0.9412144431674018,0.8424512200002263,0.7074983536605342,0.5506174259232086,0.3883873375595294,0.23795227923619358,0.11520996357152673,0.03313158280152018,0.0003910359773805013,0.020448286555619342,0.09118371953983612,0.20512213866893833,0.35022273202255916,0.5111515238666223,0.6709018422639788,0.8125915542805053,0.9212471401282112,0.9853860684248856,0.9982302499334015,0.9584223341218041,0.8701691515823805,0.7427971435669352,0.5897667600637695,0.4272499830956933],[0.42724998309569323,0.5897667600637694,0.7427971435669349,0.8701691515823804,0.9584223341218038,0.9982302499334017,0.9853860684248856,0.9212471401282117,0.812591554280506,0.6709018422639796,0.5111515238666231,0.35022273202255966,0.20512213866893872,0.09118371953983666,0.020448286555619585,0.0003910359773804837,0.033131582801520024,0.11520996357152648,0.23795227923619286,0.3883873375595286,0.5506174259232081,0.7074983536605338,0.842451220000226,0.9412144431674017,0.9933508992850149,0.9933508992850149,0.9412144431674021,0.8424512200002265,0.7074983536605342,0.5506174259232086,0.3883873375595294,0.2379522792361936,0.11520996357152676,0.03313158280152018,0.0003910359773805013,0.02044828655561934,0.09118371953983616,0.2051221386689384,0.35022273202255916,0.5111515238666223,0.6709018422639788,0.8125915542805053,0.9212471401282115,0.9853860684248856,0.9982302499334017,0.9584223341218042,0.8701691515823807,0.7427971435669353,0.5897667600637694,0.42724998309569323],[0.42724998309569323,0.5897667600637694,0.7427971435669347,0.8701691515823803,0.9584223341218037,0.9982302499334016,0.9853860684248855,0.9212471401282116,0.8125915542805058,0.6709018422639796,0.5111515238666231,0.3502227320225597,0.2051221386689387,0.09118371953983664,0.02044828655561958,0.0003910359773804837,0.03313158280152002,0.11520996357152648,0.23795227923619286,0.3883873375595286,0.550617425923208,0.7074983536605338,0.8424512200002258,0.9412144431674014,0.9933508992850149,0.9933508992850149,0.9412144431674019,0.8424512200002264,0.7074983536605342,0.5506174259232085,0.3883873375595294,0.2379522792361936,0.11520996357152676,0.03313158280152018,0.0003910359773805013,0.020448286555619342,0.09118371953983613,0.20512213866893836,0.35022273202255916,0.5111515238666224,0.6709018422639788,0.8125915542805052,0.9212471401282114,0.9853860684248855,0.9982302499334016,0.9584223341218041,0.8701691515823806,0.7427971435669352,0.5897667600637694,0.42724998309569323],[0.42724998309569334,0.5897667600637695,0.7427971435669348,0.8701691515823803,0.9584223341218037,0.9982302499334018,0.9853860684248856,0.9212471401282115,0.8125915542805059,0.6709018422639799,0.5111515238666232,0.3502227320225597,0.20512213866893872,0.09118371953983664,0.020448286555619585,0.00039103597738048376,0.03313158280152002,0.11520996357152648,0.23795227923619286,0.38838733755952853,0.5506174259232081,0.7074983536605337,0.8424512200002258,0.9412144431674014,0.9933508992850147,0.9933508992850147,0.9412144431674019,0.8424512200002263,0.7074983536605342,0.5506174259232085,0.38838733755952937,0.2379522792361936,0.11520996357152676,0.03313158280152019,0.0003910359773805014,0.02044828655561934,0.09118371953983613,0.20512213866893836,0.35022273202255916,0.5111515238666224,0.6709018422639789,0.8125915542805053,0.9212471401282113,0.9853860684248856,0.9982302499334018,0.9584223341218041,0.8701691515823806,0.7427971435669352,0.5897667600637695,0.42724998309569334],[0.4272499830956933,0.5897667600637693,0.7427971435669346,0.8701691515823801,0.9584223341218036,0.9982302499334015,0.9853860684248854,0.9212471401282115,0.812591554280506,0.6709018422639795,0.5111515238666231,0.3502227320225596,0.2051221386689387,0.09118371953983662,0.020448286555619588,0.0003910359773804837,0.033131582801520024,0.11520996357152645,0.23795227923619283,0.3883873375595286,0.550617425923208,0.7074983536605337,0.8424512200002257,0.9412144431674014,0.9933508992850146,0.9933508992850146,0.9412144431674019,0.8424512200002263,0.707498353660534,0.5506174259232084,0.38838733755952937,0.2379522792361936,0.11520996357152674,0.033131582801520176,0.0003910359773805012,0.02044828655561934,0.09118371953983613,0.2051221386689383,0.35022273202255916,0.5111515238666224,0.6709018422639788,0.8125915542805052,0.9212471401282112,0.9853860684248854,0.9982302499334015,0.958422334121804,0.8701691515823806,0.742797143566935,0.5897667600637693,0.4272499830956933],[0.4272499830956933,0.5897667600637693,0.7427971435669347,0.8701691515823802,0.9584223341218034,0.9982302499334016,0.9853860684248854,0.9212471401282115,0.8125915542805059,0.6709018422639798,0.5111515238666232,0.35022273202255966,0.2051221386689387,0.09118371953983662,0.020448286555619588,0.0003910359773804837,0.033131582801520024,0.11520996357152646,0.23795227923619283,0.3883873375595286,0.550617425923208,0.7074983536605337,0.8424512200002257,0.9412144431674014,0.9933508992850147,0.9933508992850147,0.9412144431674018,0.8424512200002265,0.7074983536605342,0.5506174259232085,0.38838733755952926,0.2379522792361936,0.11520996357152674,0.03313158280152018,0.0003910359773805012,0.02044828655561934,0.09118371953983612,0.2051221386689383,0.35022273202255916,0.5111515238666224,0.6709018422639788,0.8125915542805053,0.9212471401282112,0.9853860684248854,0.9982302499334016,0.9584223341218041,0.8701691515823806,0.7427971435669352,0.5897667600637693,0.4272499830956933],[0.42724998309569334,0.5897667600637695,0.7427971435669349,0.8701691515823802,0.9584223341218038,0.9982302499334017,0.9853860684248854,0.9212471401282116,0.8125915542805059,0.6709018422639796,0.5111515238666231,0.35022273202255966,0.2051221386689387,0.09118371953983664,0.020448286555619588,0.0003910359773804837,0.033131582801520024,0.11520996357152649,0.23795227923619283,0.3883873375595286,0.550617425923208,0.7074983536605338,0.8424512200002258,0.9412144431674014,0.9933508992850147,0.9933508992850147,0.9412144431674019,0.8424512200002263,0.7074983536605342,0.5506174259232086,0.38838733755952937,0.2379522792361936,0.11520996357152674,0.03313158280152018,0.00039103597738050127,0.02044828655561934,0.09118371953983613,0.20512213866893836,0.35022273202255916,0.5111515238666224,0.6709018422639788,0.8125915542805052,0.9212471401282114,0.9853860684248854,0.9982302499334017,0.9584223341218041,0.8701691515823807,0.7427971435669352,0.5897667600637695,0.42724998309569334],[0.4272499830956932,0.5897667600637694,0.7427971435669347,0.8701691515823802,0.9584223341218037,0.9982302499334015,0.9853860684248854,0.9212471401282115,0.8125915542805058,0.6709018422639796,0.5111515238666232,0.3502227320225597,0.2051221386689387,0.09118371953983662,0.020448286555619585,0.0003910359773804837,0.033131582801520024,0.11520996357152646,0.23795227923619283,0.3883873375595285,0.5506174259232081,0.7074983536605336,0.8424512200002258,0.9412144431674013,0.9933508992850146,0.9933508992850146,0.9412144431674018,0.8424512200002263,0.707498353660534,0.5506174259232085,0.38838733755952937,0.2379522792361936,0.11520996357152674,0.03313158280152019,0.00039103597738050127,0.020448286555619335,0.09118371953983612,0.20512213866893836,0.35022273202255916,0.5111515238666224,0.6709018422639788,0.8125915542805053,0.9212471401282112,0.9853860684248854,0.9982302499334015,0.9584223341218041,0.8701691515823806,0.7427971435669352,0.5897667600637694,0.4272499830956932],[0.42724998309569334,0.5897667600637694,0.7427971435669347,0.8701691515823803,0.9584223341218037,0.9982302499334017,0.9853860684248855,0.9212471401282116,0.8125915542805059,0.6709018422639798,0.5111515238666233,0.3502227320225596,0.2051221386689387,0.09118371953983663,0.020448286555619588,0.00039103597738048376,0.03313158280152002,0.11520996357152648,0.2379522792361929,0.3883873375595286,0.550617425923208,0.7074983536605337,0.842451220000226,0.9412144431674014,0.9933508992850146,0.9933508992850146,0.941214443167402,0.8424512200002264,0.7074983536605343,0.5506174259232085,0.38838733755952937,0.2379522792361936,0.11520996357152674,0.03313158280152019,0.00039103597738050127,0.020448286555619342,0.09118371953983614,0.20512213866893836,0.3502227320225592,0.5111515238666224,0.6709018422639788,0.8125915542805052,0.9212471401282114,0.9853860684248855,0.9982302499334017,0.9584223341218041,0.8701691515823806,0.7427971435669352,0.5897667600637694,0.42724998309569334],[0.42724998309569334,0.5897667600637695,0.7427971435669347,0.8701691515823803,0.9584223341218037,0.9982302499334017,0.9853860684248855,0.9212471401282116,0.812591554280506,0.6709018422639796,0.5111515238666232,0.35022273202255966,0.20512213866893872,0.09118371953983664,0.020448286555619588,0.00039103597738048376,0.033131582801520024,0.11520996357152649,0.23795227923619286,0.3883873375595286,0.5506174259232082,0.7074983536605338,0.8424512200002258,0.9412144431674015,0.9933508992850147,0.9933508992850147,0.941214443167402,0.8424512200002265,0.7074983536605342,0.5506174259232086,0.3883873375595293,0.23795227923619364,0.11520996357152674,0.03313158280152019,0.00039103597738050127,0.02044828655561934,0.09118371953983612,0.20512213866893833,0.35022273202255916,0.5111515238666224,0.6709018422639788,0.8125915542805053,0.9212471401282114,0.9853860684248855,0.9982302499334017,0.9584223341218041,0.8701691515823807,0.7427971435669352,0.5897667600637695,0.42724998309569334],[0.42724998309569323,0.5897667600637695,0.7427971435669347,0.8701691515823802,0.9584223341218036,0.9982302499334016,0.9853860684248853,0.9212471401282115,0.8125915542805058,0.6709018422639796,0.5111515238666231,0.35022273202255966,0.2051221386689387,0.09118371953983663,0.020448286555619585,0.00039103597738048376,0.03313158280152002,0.11520996357152649,0.23795227923619283,0.38838733755952853,0.5506174259232081,0.7074983536605337,0.8424512200002257,0.9412144431674013,0.9933508992850146,0.9933508992850146,0.9412144431674018,0.8424512200002263,0.707498353660534,0.5506174259232085,0.3883873375595293,0.2379522792361936,0.11520996357152676,0.03313158280152019,0.0003910359773805013,0.02044828655561934,0.09118371953983612,0.20512213866893833,0.35022273202255916,0.5111515238666223,0.6709018422639788,0.8125915542805052,0.9212471401282113,0.9853860684248853,0.9982302499334016,0.958422334121804,0.8701691515823805,0.7427971435669352,0.5897667600637695,0.42724998309569323],[0.42724998309569334,0.5897667600637695,0.7427971435669348,0.8701691515823803,0.9584223341218038,0.9982302499334016,0.9853860684248854,0.9212471401282115,0.8125915542805058,0.6709018422639796,0.5111515238666232,0.3502227320225597,0.2051221386689387,0.09118371953983663,0.02044828655561958,0.00039103597738048365,0.03313158280152002,0.11520996357152646,0.23795227923619283,0.38838733755952853,0.5506174259232081,0.7074983536605337,0.8424512200002257,0.9412144431674014,0.9933508992850147,0.9933508992850147,0.9412144431674019,0.8424512200002263,0.707498353660534,0.5506174259232085,0.38838733755952937,0.2379522792361936,0.11520996357152673,0.033131582801520176,0.0003910359773805012,0.020448286555619335,0.09118371953983613,0.20512213866893836,0.35022273202255916,0.5111515238666224,0.6709018422639788,0.8125915542805052,0.9212471401282113,0.9853860684248854,0.9982302499334016,0.9584223341218042,0.8701691515823806,0.7427971435669352,0.5897667600637695,0.42724998309569334],[0.42724998309569323,0.5897667600637694,0.7427971435669348,0.8701691515823803,0.9584223341218037,0.9982302499334017,0.9853860684248854,0.9212471401282114,0.8125915542805059,0.6709018422639796,0.5111515238666232,0.3502227320225597,0.2051221386689387,0.09118371953983664,0.020448286555619585,0.0003910359773804837,0.033131582801520024,0.11520996357152648,0.23795227923619286,0.38838733755952853,0.550617425923208,0.7074983536605337,0.8424512200002259,0.9412144431674014,0.9933508992850147,0.9933508992850147,0.9412144431674019,0.8424512200002264,0.7074983536605342,0.5506174259232085,0.3883873375595294,0.2379522792361936,0.11520996357152673,0.03313158280152018,0.0003910359773805013,0.020448286555619342,0.09118371953983612,0.2051221386689383,0.3502227320225592,0.5111515238666224,0.6709018422639789,0.8125915542805052,0.9212471401282113,0.9853860684248854,0.9982302499334017,0.9584223341218041,0.8701691515823805,0.742797143566935,0.5897667600637694,0.42724998309569323],[0.42724998309569323,0.5897667600637695,0.7427971435669348,0.8701691515823803,0.9584223341218038,0.9982302499334017,0.9853860684248854,0.9212471401282115,0.812591554280506,0.6709018422639796,0.5111515238666231,0.35022273202255966,0.20512213866893872,0.09118371953983663,0.020448286555619585,0.0003910359773804837,0.033131582801520024,0.11520996357152649,0.2379522792361929,0.3883873375595286,0.5506174259232081,0.7074983536605337,0.8424512200002258,0.9412144431674014,0.9933508992850147,0.9933508992850147,0.9412144431674019,0.8424512200002264,0.707498353660534,0.5506174259232084,0.3883873375595295,0.2379522792361936,0.11520996357152673,0.03313158280152019,0.0003910359773805013,0.020448286555619335,0.09118371953983614,0.20512213866893833,0.35022273202255916,0.5111515238666224,0.6709018422639789,0.8125915542805053,0.9212471401282114,0.9853860684248854,0.9982302499334017,0.958422334121804,0.8701691515823806,0.7427971435669352,0.5897667600637695,0.42724998309569323],[0.4272499830956933,0.5897667600637695,0.7427971435669347,0.8701691515823802,0.9584223341218038,0.9982302499334018,0.9853860684248855,0.9212471401282115,0.8125915542805058,0.6709018422639798,0.5111515238666232,0.3502227320225597,0.2051221386689387,0.09118371953983666,0.020448286555619585,0.00039103597738048376,0.033131582801520024,0.11520996357152649,0.23795227923619286,0.3883873375595286,0.550617425923208,0.7074983536605337,0.8424512200002259,0.9412144431674015,0.9933508992850149,0.9933508992850149,0.941214443167402,0.8424512200002264,0.7074983536605342,0.5506174259232086,0.38838733755952937,0.23795227923619364,0.11520996357152677,0.03313158280152019,0.0003910359773805014,0.02044828655561934,0.09118371953983614,0.20512213866893836,0.35022273202255927,0.5111515238666224,0.6709018422639789,0.8125915542805053,0.9212471401282114,0.9853860684248855,0.9982302499334018,0.9584223341218041,0.8701691515823806,0.7427971435669352,0.5897667600637695,0.4272499830956933],[0.42724998309569323,0.5897667600637694,0.7427971435669347,0.8701691515823802,0.9584223341218037,0.9982302499334016,0.9853860684248854,0.9212471401282114,0.8125915542805058,0.6709018422639796,0.5111515238666232,0.3502227320225597,0.2051221386689387,0.09118371953983662,0.020448286555619585,0.0003910359773804837,0.033131582801520024,0.11520996357152646,0.23795227923619283,0.3883873375595285,0.550617425923208,0.7074983536605337,0.8424512200002257,0.9412144431674014,0.9933508992850146,0.9933508992850146,0.9412144431674018,0.8424512200002263,0.707498353660534,0.5506174259232084,0.38838733755952937,0.2379522792361936,0.11520996357152671,0.033131582801520176,0.00039103597738050127,0.02044828655561934,0.09118371953983612,0.20512213866893833,0.3502227320225591,0.5111515238666224,0.6709018422639788,0.8125915542805051,0.9212471401282112,0.9853860684248854,0.9982302499334016,0.958422334121804,0.8701691515823806,0.7427971435669352,0.5897667600637694,0.42724998309569323],[0.4272499830956933,0.5897667600637693,0.7427971435669347,0.8701691515823801,0.9584223341218036,0.9982302499334017,0.9853860684248854,0.9212471401282114,0.8125915542805058,0.6709018422639796,0.5111515238666231,0.35022273202255966,0.2051221386689387,0.09118371953983663,0.02044828655561958,0.0003910359773804837,0.03313158280152002,0.11520996357152648,0.23795227923619283,0.3883873375595285,0.550617425923208,0.7074983536605337,0.8424512200002258,0.9412144431674014,0.9933508992850146,0.9933508992850146,0.9412144431674017,0.8424512200002263,0.7074983536605342,0.5506174259232084,0.3883873375595293,0.23795227923619358,0.11520996357152674,0.033131582801520176,0.00039103597738050127,0.02044828655561934,0.09118371953983612,0.20512213866893836,0.35022273202255916,0.5111515238666224,0.6709018422639788,0.8125915542805051,0.9212471401282114,0.9853860684248854,0.9982302499334017,0.9584223341218039,0.8701691515823805,0.7427971435669349,0.5897667600637693,0.4272499830956933]],\"type\":\"surface\",\"showlegend\":false},{\"line\":{\"color\":\"yellow\",\"width\":10},\"mode\":\"lines\",\"x\":[0.9163264999999999,1.0111947940669703,1.0826000253016157,1.1434161852555067,1.197917403556452,1.248132803263779,1.2952096533874602,1.339868864863767,1.3825967965755876,1.423738774865259,1.4635496097744642,1.5022230386141242,1.5399099280266406,1.5767300680963288,1.6127801137625768,1.6481391059712232,1.6828724154660306,1.7170346258807612,1.7506716840556071,1.7838225320790875,1.8165203651078468,1.84879361397685,1.8806667220721496,1.9121607661181346,1.94329395695867,1.9740820469448492,2.004538663828083,2.03467558622258,2.064502972171074,2.0940295497367827,2.1232627765906815,2.1522089740848966,2.180873440173161,2.2092605446675804,2.237373809642481,2.265215977263733,2.2927890669010345,2.3200944230455383,2.3471327552867765,2.3739041713865783,2.400408204312709,2.4266438339528724,2.452609504114163,2.478303135319131,2.5037221338335423,2.528863397299917,2.553723317302767,2.5782977791547,2.6025821591660243,2.626571319643619,2.6502596018572646,2.6736408172134207,2.696708236887934,2.7194545801909866,2.741872001970693,2.763952079407291,2.7856857986094,2.8070635414989584,2.8280750735642792,2.8487095331731553,2.8689554232723853,2.8888006064584886,2.908232304588526,2.9272371043109904,2.945800970134703,2.9639092669169402,2.981546793936487,2.998697833015337,3.0153462134519997,3.0314753968111985,3.047068584852792,3.0621088540410573,3.0765793201072924,3.0904633359853895,3.1037447260316817,3.116408058697726,3.1284389586643684,3.1398244577885053,3.1505533819991887,3.16061676848155,3.1700083041375855,3.1787247725259347,3.1867664924755275,3.1941377276742773,3.2008470432019416,3.206907582742188,3.2123372396428462,3.217158696616458,3.2213993130556706,3.2250908457944325,3.2282689984530317,3.2309728056660254,3.233243870566058,3.2351254856968,3.2366616777751647,3.2378962242230003,3.2388716932027504,3.2396285584642115,3.240204435537026,3.240633477044518,3.240945952948009,3.241168027478122,3.2413217297273387,3.2414251008276898,3.2414924887327174,3.2415349530619992,3.241560738066758,3.241575771837464,3.2415841541140358,3.2415886026292653,3.2415908375360045,3.2415918936444608,3.2415923594885045,3.241592549523448,3.241592620403681,3.2415926442295886,3.241592651313231,3.241592653129286,3.2415926535165114,3.2415926535814648,3.241592653589246,3.241592653589785,3.2415926535897936,3.2415926535897936,3.2415926535897936,3.2415926535897936,3.2415926535897936,3.2415926535897936,3.2415926535897936,3.2415926535897936,3.2415926535897936,3.2415926535897936,3.2415926535897936,3.2415926535897936,3.2415926535897936,3.241592653589794,3.2415926535897923,3.241592653589795,3.241592653589791,3.241592653589796,3.2415926535897888,3.2415926535898016,3.241592653589775,3.241592653589831,3.2415926535897075,3.2415926535900055,3.241592653589226,3.2415926535914217,3.241592653584772,3.241592653606382,3.2415926535311357,3.241592653811572,3.241592652693976,3.2415926574521152,3.2415926358291682,3.2415927406312264,3.2415921992801424,3.2415951774002445,3.241577740084056,3.2416863401106784,3.240967327159991,3.246018189789884,3.211004752713652,3.2999197673822147,3.216133061066809,3.251861722225507,3.2368609369705705,3.2441254599172855,3.240030376608691,3.2426918617634923,3.2407184046168,3.242372620436283,3.240817193131975,3.242447028032234,3.2405545982291457,3.2429774331663532,3.239572748133166,3.2447995890139594,3.2360893256025207,3.2516320650666355,3.2231265908773437,3.270879465905716,3.2098007063399283,3.2660683240076382,3.2249221659099,3.2531283545984486,3.2330214182759702,3.248556820240435,3.2353804616706006,3.2476654436726498,3.2351178539827927,3.2490663202614645,3.2323605525051136,3.2535626252407925,3.2258503612580456,3.2614577520299117,3.219083357322203,3.2637369195806314,3.2221239917065634,3.2578494149736703,3.228000888278269,3.253349880908767],\"y\":[1.8163265,1.8163265,1.8163265,1.8163265,1.8163265,1.8163265,1.8163265,1.8163265,1.8163265,1.8163265,1.8163265000000166,1.8163265000000166,1.8163265000000166,1.8163265000000166,1.8163265000000166,1.8163265000000166,1.8163265000000166,1.8163265000000166,1.8163265000000166,1.8163265000000166,1.8163265000000166,1.8163265000000166,1.8163265000000166,1.8163265000000166,1.8163265000000166,1.8163265000000166,1.8163265000000166,1.8163265000000166,1.8163265000000166,1.8163265000000166,1.8163265000000166,1.8163265000000166,1.8163265000000166,1.8163265000000166,1.8163265000000166,1.8163265000000166,1.8163265000000208,1.8163265000000208,1.8163265000000208,1.8163265000000208,1.8163265000000208,1.8163265000000208,1.8163265000000208,1.8163265000000208,1.8163265000000208,1.8163265000000208,1.8163265000000208,1.8163265000000208,1.8163265000000208,1.8163265000000208,1.8163265000000208,1.8163265000000208,1.8163265000000208,1.8163265000000208,1.8163265000000208,1.8163265000000208,1.8163265000000208,1.8163265000000208,1.8163265000000208,1.8163265000000208,1.816326500000022,1.816326500000022,1.816326500000022,1.8163265000000224,1.8163265000000224,1.8163265000000224,1.8163265000000228,1.8163265000000228,1.8163265000000228,1.8163265000000228,1.8163265000000228,1.8163265000000228,1.8163265000000228,1.8163265000000228,1.816326500000023,1.816326500000023,1.816326500000023,1.816326500000023,1.816326500000023,1.816326500000023,1.816326500000023,1.816326500000023,1.816326500000023,1.816326500000023,1.816326500000023,1.816326500000023,1.816326500000023,1.816326500000023,1.816326500000023,1.816326500000023,1.816326500000023,1.816326500000023,1.816326500000023,1.816326500000023,1.816326500000023,1.816326500000023,1.816326500000023,1.816326500000023,1.816326500000023,1.816326500000023,1.816326500000023,1.816326500000023,1.816326500000023,1.816326500000023,1.816326500000023,1.816326500000023,1.816326500000023,1.816326500000023,1.816326500000023,1.816326500000023,1.816326500000023,1.816326500000023,1.816326500000023,1.816326500000023,1.816326500000023,1.816326500000023,1.816326500000023,1.816326500000023,1.816326500000023,1.816326500000023,1.816326500000023,1.816326500000023,1.816326500000023,1.816326500000023,1.816326500000023,1.816326500000023,1.816326500000023,1.816326500000023,1.816326500000023,1.816326500000023,1.816326500000023,1.816326500000023,1.816326500000023,1.816326500000023,1.816326500000023,1.816326500000023,1.816326500000023,1.816326500000023,1.816326500000023,1.816326500000023,1.816326500000023,1.816326500000023,1.816326500000023,1.816326500000023,1.816326500000023,1.816326500000023,1.816326500000023,1.816326500000023,1.816326500000023,1.816326500000023,1.816326500000023,1.816326500000023,1.816326500000023,1.816326500000023,1.816326500000023,1.816326500000023,1.816326500000023,1.816326500000023,1.816326500000023,1.816326500000023,1.816326500000023,1.816326500000023,1.816326500000023,1.816326500000023,1.816326500000023,1.816326500000023,1.816326500000023,1.816326500000023,1.816326500000023,1.816326500000023,1.816326500000023,1.816326500000023,1.816326500000023,1.816326500000023,1.816326500000023,1.816326500000023,1.816326500000023,1.816326500000023,1.816326500000023,1.816326500000023,1.816326500000023,1.816326500000023,1.816326500000023,1.816326500000023,1.816326500000023,1.816326500000023,1.816326500000023,1.816326500000023,1.816326500000023,1.816326500000023,1.816326500000023,1.816326500000023,1.816326500000023,1.816326500000023,1.816326500000023,1.816326500000023,1.816326500000023,1.816326500000023,1.816326500000023,1.816326500000023,1.816326500000023,1.816326500000023],\"z\":[0.842451231146697,0.8064010086236522,0.7774306761275511,0.7516355882398784,0.7277255808439804,0.7050955188315129,0.6834091850469122,0.6624601535731927,0.6421132367104292,0.6222759589290945,0.602883158629993,0.5838880159572,0.5652565054042498,0.5469637982314453,0.5289918362832395,0.5113276411866536,0.49396210242412053,0.4768890876293881,0.46010477536765393,0.44360714561480563,0.4273955840180861,0.41147057032503653,0.3958334296621615,0.3804861317621544,0.36543112725485116,0.3506712129164953,0.33620941985282116,0.3220489199447911,0.308192947297357,0.2946447316353442,0.28140744179836474,0.2684841373265954,0.25587772714789025,0.2435909339110367,0.2316262633394217,0.21998597773199435,0.20867207297123969,0.19768625874712598,0.18702994131308515,0.17670420854119584,0.16670981707284227,0.15704718108463567,0.14771636262594257,0.13871706328063738,0.13004861696390435,0.12170998383953702,0.1136997449939372,0.10601609802688472,0.09865685334079899,0.09161943104118109,0.08490085850644391,0.07849776837974787,0.07240639723022468,0.06662258463620674,0.06114177280687727,0.05595900671323761,0.051068934859358706,0.04646581059205346,0.042143494210904464,0.038095455849543214,0.034314779317355715,0.03079416710534133,0.02752594670164399,0.024502078551449813,0.021714165719458833,0.019153465967974626,0.01681090625061188,0.014677100261906162,0.012742369406623766,0.01099676766898483,0.009430111007532105,0.008032011581235565,0.006791917403461412,0.005699157831259072,0.004742995093693025,0.003912681990186684,0.0031975257879821584,0.002586957547464408,0.002070606526103802,0.0016383779438911006,0.0012805328151443973,0.0009877672127913684,0.0007512887677876279,0.0005628868530038744,0.0004149937740294263,0.0003007333871209994,0.00021395455405581743,0.00014924713468644768,0.00010193928028456867,6.807586760260165e-05,4.437929601408541e-05,2.8195034246891737e-05,1.742543827276677e-05,1.0456031304784119e-05,6.078611477278173e-06,3.415887476876378e-06,1.850901753641665e-06,9.644136298447847e-07,4.817848093807697e-07,2.3000757209956646e-07,1.0455551091581583e-07,4.508183337748051e-08,1.83499651029706e-08,7.0140231400728226e-09,2.5029294192790985e-09,8.294591680169106e-10,2.473825588822365e-10,7.275957614183426e-11,1.4551915228366852e-11,0.0,0.0,0.0,0.0,0.0,0.0,0.0,0.0,0.0,0.0,0.0,0.0,0.0,0.0,0.0,0.0,0.0,0.0,0.0,0.0,0.0,0.0,0.0,0.0,0.0,0.0,0.0,0.0,0.0,0.0,0.0,0.0,0.0,0.0,0.0,0.0,0.0,0.0,0.0,0.0,0.0,0.0,0.0,0.0,0.0,0.0,0.0,0.0,0.0,5.820766091346741e-11,2.1973391994833946e-09,9.775976650416851e-08,4.896341124549508e-06,0.0002338866761419922,0.0008502719574607909,0.0001620389666641131,2.636321005411446e-05,5.597277777269483e-06,1.603781129233539e-06,6.101763574406505e-07,3.020686563104391e-07,1.9108119886368513e-07,1.5208206605166197e-07,1.5033583622425795e-07,1.824955688789487e-07,2.6938505470752716e-07,4.793982952833176e-07,1.0200019460171461e-06,2.571105142123997e-06,7.571637979708612e-06,2.5197237846441567e-05,8.52464436320588e-05,0.00021441401622723788,0.00025266069860663265,0.00014975713565945625,6.947468500584364e-05,3.326773003209382e-05,1.8366408767178655e-05,1.2124859495088458e-05,9.647803381085396e-06,9.219671483151615e-06,1.0480725904926658e-05,1.3963857782073319e-05,2.1307772840373218e-05,3.5819626646116376e-05,6.195365858729929e-05,9.865229367278516e-05,0.00012666176189668477,0.00012258712376933545,9.475419938098639e-05,6.606911483686417e-05,4.618331149686128e-05],\"type\":\"scatter3d\",\"showlegend\":false},{\"marker\":{\"color\":\"yellow\",\"size\":7},\"name\":\"Parameter Shift Rule\",\"x\":[0.9163264999999999],\"y\":[1.8163265],\"z\":[0.842451231146697],\"type\":\"scatter3d\"},{\"line\":{\"color\":\"blue\",\"width\":10},\"mode\":\"lines\",\"x\":[0.9163264999999999,1.0111947940657788,1.0826000252999624,1.1434161852535918,1.1979174035543638,1.248132803261566,1.2952096533851514,1.339868864861384,1.3825967965731443,1.423738774862766,1.4635496097719296,1.5022230386115547,1.539909928024042,1.5767300680937046,1.6127801137599307,1.6481391059685586,1.6828724154633494,1.7170346258780655,1.7506716840528993,1.7838225320763685,1.8165203651051183,1.8487936139741135,1.8806667220694058,1.9121607661153852,1.9432939569559158,1.9740820469420908,2.004538663825321,2.034675586219815,2.064502972168307,2.094029549734014,2.1232627765879117,2.152208974082126,2.18087344017039,2.2092605446648097,2.237373809639711,2.2652159772609646,2.2927890668982673,2.320094423042773,2.3471327552840133,2.3739041713838183,2.400408204309952,2.426643833950119,2.4526095041114138,2.4783031353163856,2.5037221338308013,2.528863397297181,2.5537233173000367,2.5782977791519754,2.602582159163306,2.6265713196409077,2.650259601854561,2.673640817210725,2.6967082368852466,2.7194545801883088,2.7418720019680247,2.7639520794046337,2.785685798606754,2.8070635414963245,2.8280750735616587,2.848709533170549,2.868955423269794,2.8888006064559133,2.908232304585968,2.927237104308451,2.9458009701321837,2.963909266914443,2.9815467939340135,2.998697833012889,3.0153462134495785,3.031475396808807,3.0470685848504324,3.062108854038732,3.0765793201050045,3.090463335983142,3.1037447260294777,3.1164080586955687,3.128438958662261,3.139824457786452,3.150553381997193,3.160616768479616,3.170008304135718,3.178724772524138,3.1867664924738053,3.194137727672634,3.2008470432003815,3.206907582740715,3.212337239641464,3.2171586966151686,3.2213993130544774,3.225090845793337,3.2282689984520347,3.2309728056651266,3.2332438705652566,3.2351254856960936,3.2366616777745496,3.2378962242224714,3.238871693202303,3.239628558463839,3.240204435536721,3.2406334770442737,3.2409459529478175,3.2411680274779755,3.241321729727229,3.24142510082761,3.241492488732661,3.241534953061961,3.2415607380667333,3.2415757718374483,3.2415841541140265,3.24158860262926,3.241590837536002,3.2415918936444594,3.241592359488504,3.2415925495234474,3.241592620403681,3.241592644229589,3.241592651313231,3.241592653129286,3.241592653516512,3.241592653581465,3.2415926535892465,3.241592653589785,3.2415926535897936,3.2415926535897936,3.2415926535897936,3.2415926535897936,3.2415926535897936,3.2415926535897936,3.2415926535897936,3.2415926535897936,3.2415926535897936,3.2415926535897936,3.2415926535897936,3.2415926535897936,3.2415926535897936,3.2415926535897936,3.2415926535897936,3.241592653589793,3.241592653589794,3.2415926535897928,3.241592653589795,3.241592653589791,3.2415926535897985,3.241592653589783,3.241592653589818,3.2415926535897324,3.241592653589957,3.241592653589324,3.2415926535912414,3.241592653585011,3.2415926536067046,3.241592653525854,3.2415926538480613,3.2415926524762697,3.2415926587102573,3.241592628495379,3.241592784569188,3.24159192596459,3.2415969532163347,3.2415656433530002,3.2417729435330696,3.240314777194218,3.2511363130143303,3.1877578273995444,3.279752673134999,3.224082368709681,3.2499905526169024,3.2370155472761755,3.2444469552829447,3.2395685053812677,3.243212515446696,3.2401402215609267,3.243042587584187,3.2399900984184753,3.2435438570127335,3.238988215436675,3.2453832772435947,3.2356243288251822,3.251589599557853,3.224569505465519,3.267751436356159,3.2114565444970355,3.266917344584707,3.223291240452742,3.2546564568545953,3.231754022860745,3.2496104589119073,3.2344682442337906,3.2484950533204406,3.234330931130719,3.2498273177549124,3.231647679024372,3.2541310734623043,3.2256318956902015,3.2610983778218827,3.2199360760518942,3.2628879931628774,3.2225853731519667,3.2577954439566783,3.227781829996665,3.2537209684722708,3.2304437273145568],\"y\":[1.3163265,1.3163265000033306,1.3163265000016653,1.3163265000016653,1.3163265000016653,1.316326500004996,1.316326500004996,1.3163265000033306,1.316326500004996,1.3163265000083266,1.3163265000083266,1.3163265000083266,1.3163265000083266,1.3163265000083266,1.3163265000083266,1.3163265000083266,1.316326500009992,1.3163265000083266,1.3163265000091593,1.316326500007494,1.316326500007494,1.3163265000083266,1.3163265000083266,1.3163265000083266,1.3163265000083266,1.316326500007494,1.316326500007494,1.316326500007494,1.3163265000083266,1.3163265000083266,1.3163265000083266,1.3163265000083266,1.316326500007494,1.316326500007494,1.316326500007494,1.316326500007494,1.316326500007494,1.316326500007494,1.316326500007494,1.3163265000079103,1.316326500007494,1.3163265000070776,1.3163265000066613,1.3163265000066613,1.3163265000066613,1.3163265000066613,1.3163265000066613,1.3163265000068693,1.316326500007702,1.316326500007702,1.3163265000074937,1.316326500007702,1.316326500007702,1.316326500007702,1.3163265000079103,1.3163265000079103,1.3163265000081186,1.3163265000082227,1.3163265000084308,1.3163265000083266,1.3163265000083266,1.3163265000083266,1.3163265000082747,1.3163265000083266,1.3163265000083266,1.3163265000083786,1.3163265000083786,1.3163265000083266,1.3163265000083266,1.3163265000083266,1.3163265000083266,1.3163265000083006,1.3163265000082747,1.3163265000082747,1.3163265000082878,1.3163265000082878,1.3163265000082747,1.3163265000082747,1.3163265000082747,1.3163265000082682,1.3163265000082716,1.3163265000082716,1.316326500008275,1.3163265000082764,1.3163265000082764,1.3163265000082773,1.3163265000082773,1.3163265000082773,1.316326500008277,1.3163265000082771,1.3163265000082771,1.3163265000082771,1.3163265000082773,1.3163265000082773,1.3163265000082773,1.3163265000082773,1.3163265000082773,1.3163265000082773,1.3163265000082773,1.3163265000082773,1.3163265000082773,1.3163265000082773,1.3163265000082773,1.3163265000082773,1.3163265000082773,1.3163265000082773,1.3163265000082773,1.3163265000082773,1.3163265000082773,1.3163265000082773,1.3163265000082773,1.3163265000082773,1.3163265000082773,1.3163265000082773,1.3163265000082773,1.3163265000082773,1.3163265000082773,1.3163265000082773,1.3163265000082773,1.3163265000082773,1.3163265000082773,1.3163265000082773,1.3163265000082773,1.3163265000082773,1.3163265000082773,1.3163265000082773,1.3163265000082773,1.3163265000082773,1.3163265000082773,1.3163265000082773,1.3163265000082773,1.3163265000082773,1.3163265000082773,1.3163265000082773,1.3163265000082773,1.3163265000082773,1.3163265000082773,1.3163265000082773,1.3163265000082773,1.3163265000082773,1.3163265000082773,1.3163265000082773,1.3163265000082773,1.3163265000082773,1.3163265000082773,1.3163265000082773,1.3163265000082773,1.3163265000082773,1.3163265000082773,1.3163265000082773,1.3163265000082773,1.3163265000082773,1.3163265000082773,1.3163265000082773,1.3163265000082773,1.3163265000082773,1.3163265000082773,1.3163265000082773,1.3163265000082773,1.3163265000082773,1.3163265000082773,1.3163265000082773,1.3163265000082773,1.3163265000082773,1.3163265000082758,1.3163265000082758,1.3163265000082758,1.3163265000082758,1.3163265000082758,1.3163265000082758,1.3163265000082758,1.3163265000082758,1.3163265000082758,1.3163265000082758,1.3163265000082758,1.3163265000082758,1.3163265000082758,1.3163265000082758,1.3163265000082758,1.3163265000082758,1.3163265000082756,1.3163265000082747,1.3163265000082738,1.3163265000082738,1.3163265000082736,1.3163265000082736,1.3163265000082736,1.3163265000082736,1.3163265000082736,1.3163265000082736,1.3163265000082736,1.3163265000082736,1.3163265000082736,1.3163265000082733,1.3163265000082733,1.3163265000082733,1.3163265000082736,1.3163265000082736,1.3163265000082736,1.3163265000082738,1.3163265000082738,1.3163265000082738],\"z\":[0.842451231146697,0.8064010086236522,0.7774306761275511,0.7516355882398784,0.7277255808439804,0.7050955188315129,0.6834091850469122,0.6624601535877446,0.6421132367104292,0.6222759589436464,0.602883158629993,0.5838880159572,0.5652565054042498,0.5469637982314453,0.5289918362832395,0.5113276411866536,0.49396210242412053,0.4768890876293881,0.46010477536765393,0.44360714561480563,0.4273955840180861,0.41147057033958845,0.3958334296621615,0.3804861317621544,0.36543112725485116,0.3506712129164953,0.33620941985282116,0.3220489199447911,0.308192947297357,0.2946447316353442,0.28140744179836474,0.2684841373265954,0.25587772714789025,0.2435909339110367,0.2316262633394217,0.21998597773199435,0.20867207297123969,0.19768625874712598,0.18702994131308515,0.17670420854119584,0.16670981707284227,0.15704718108463567,0.14771636262594257,0.13871706328063738,0.13004861696390435,0.12170998383953702,0.1136997449939372,0.10601609802688472,0.09865685334079899,0.09161943104118109,0.08490085850644391,0.07849776837974787,0.07240639723022468,0.06662258463620674,0.06114177280687727,0.05595900671323761,0.051068934859358706,0.04646581059205346,0.042143494210904464,0.038095455849543214,0.034314779317355715,0.03079416710534133,0.02752594670164399,0.024502078551449813,0.021714165719458833,0.019153465967974626,0.01681090625061188,0.014677100261906162,0.012742369406623766,0.01099676766898483,0.009430111007532105,0.008032011581235565,0.006791917403461412,0.005699157831259072,0.004742995093693025,0.003912681990186684,0.0031975257879821584,0.002586957547464408,0.002070606526103802,0.0016383779438911006,0.0012805328151443973,0.0009877672127913684,0.0007512887677876279,0.0005628868530038744,0.0004149937740294263,0.0003007333871209994,0.00021395455405581743,0.00014924713468644768,0.00010193928028456867,6.807586760260165e-05,4.437929601408541e-05,2.8195034246891737e-05,1.742543827276677e-05,1.0456031304784119e-05,6.078611477278173e-06,3.415887476876378e-06,1.850901753641665e-06,9.644136298447847e-07,4.817848093807697e-07,2.3000757209956646e-07,1.0455551091581583e-07,4.508183337748051e-08,1.83499651029706e-08,7.0140231400728226e-09,2.5029294192790985e-09,8.294591680169106e-10,2.473825588822365e-10,7.275957614183426e-11,1.4551915228366852e-11,0.0,0.0,0.0,0.0,0.0,0.0,0.0,0.0,0.0,0.0,0.0,0.0,0.0,0.0,0.0,0.0,0.0,0.0,0.0,0.0,0.0,0.0,0.0,0.0,0.0,0.0,0.0,0.0,0.0,0.0,0.0,0.0,0.0,0.0,0.0,0.0,0.0,0.0,0.0,0.0,0.0,0.0,0.0,0.0,0.0,0.0,0.0,0.0,0.0,0.0,1.8917489796876907e-10,8.119968697428703e-09,4.0823942981660366e-07,2.2770182113163173e-05,0.0007243721483973786,0.00036400259705260396,7.665055454708636e-05,1.763107138685882e-05,5.237467121332884e-06,2.0367588149383664e-06,1.0242947610095143e-06,6.559857865795493e-07,5.273905117064714e-07,5.255715223029256e-07,6.420450517907739e-07,9.517971193417907e-07,1.6957783373072743e-06,3.592198481783271e-06,8.905204595066607e-06,2.49845179496333e-05,7.244513835757971e-05,0.0001710607175482437,0.00022702908609062433,0.00016032642452046275,8.373308810405433e-05,4.266513860784471e-05,2.4199471226893365e-05,1.6071207937784493e-05,1.2689255527220666e-05,1.191072806250304e-05,1.3183089322410524e-05,1.6952326404862106e-05,2.472542109899223e-05,3.93024820368737e-05,6.368508911691606e-05,9.511530515737832e-05,0.00011724725482054055,0.00011336858733557165,9.031646186485887e-05,6.563117494806647e-05,4.7683948650956154e-05,3.677354834508151e-05],\"type\":\"scatter3d\",\"showlegend\":false},{\"marker\":{\"color\":\"blue\",\"size\":7},\"name\":\"Finite Difference\",\"x\":[0.9163264999999999],\"y\":[1.3163265],\"z\":[0.842451231146697],\"type\":\"scatter3d\"},{\"line\":{\"color\":\"red\",\"width\":10},\"mode\":\"lines\",\"x\":[0.9163264999999999,1.0111947940669703,1.0826000253016157,1.1434161852555067,1.197917403556452,1.2481328032637788,1.29520965338746,1.3398688648637669,1.3825967965755874,1.4237387748652588,1.463549609774464,1.502223038614124,1.5399099280266404,1.5767300680963288,1.6127801137625768,1.6481391059712232,1.6828724154660306,1.7170346258807612,1.7506716840556074,1.7838225320790877,1.816520365107847,1.8487936139768502,1.8806667220721498,1.9121607661181348,1.9432939569586702,1.9740820469448495,2.0045386638280833,2.0346755862225803,2.0645029721710744,2.0940295497367827,2.123262776590682,2.152208974084897,2.1808734401731615,2.209260544667581,2.2373738096424813,2.2652159772637335,2.292789066901035,2.3200944230455387,2.347132755286777,2.3739041713865787,2.4004082043127095,2.426643833952873,2.4526095041141636,2.4783031353191314,2.5037221338335427,2.5288633972999173,2.5537233173027674,2.5782977791547004,2.6025821591660243,2.626571319643619,2.6502596018572646,2.6736408172134207,2.696708236887934,2.7194545801909866,2.741872001970693,2.763952079407291,2.7856857986094,2.8070635414989584,2.8280750735642792,2.8487095331731553,2.8689554232723853,2.8888006064584886,2.908232304588526,2.9272371043109904,2.945800970134703,2.9639092669169402,2.981546793936487,2.998697833015337,3.0153462134519997,3.0314753968111985,3.047068584852792,3.0621088540410573,3.0765793201072924,3.0904633359853895,3.1037447260316817,3.116408058697726,3.1284389586643684,3.1398244577885053,3.1505533819991887,3.16061676848155,3.1700083041375855,3.178724772525935,3.186766492475528,3.1941377276742777,3.200847043201942,3.2069075827421885,3.2123372396428467,3.2171586966164583,3.221399313055671,3.225090845794433,3.228268998453032,3.230972805666026,3.2332438705660587,3.2351254856968006,3.236661677775165,3.2378962242230003,3.238871693202751,3.2396285584642115,3.240204435537026,3.240633477044518,3.240945952948009,3.241168027478122,3.2413217297273382,3.2414251008276893,3.2414924887327174,3.2415349530619992,3.241560738066758,3.241575771837464,3.2415841541140358,3.2415886026292653,3.2415908375360045,3.2415918936444608,3.2415923594885045,3.2415925495234474,3.241592620403681,3.241592644229589,3.241592651313231,3.241592653129286,3.2415926535165114,3.2415926535814648,3.241592653589246,3.241592653589785,3.2415926535897936,3.241592653589793,3.2415926535897936,3.241592653589793,3.2415926535897936,3.241592653589793,3.2415926535897936,3.241592653589793,3.2415926535897936,3.241592653589793,3.2415926535897936,3.241592653589793,3.2415926535897936,3.241592653589793,3.2415926535897936,3.241592653589793,3.2415926535897936,3.2415926535897928,3.241592653589794,3.241592653589792,3.2415926535897963,3.2415926535897874,3.2415926535898065,3.2415926535897603,3.241592653589881,3.241592653589541,3.2415926535905712,3.2415926535872237,3.2415926535988793,3.24159265355544,3.2415926537285564,3.241592652991515,3.241592656340936,3.2415926401069677,3.241592723962919,3.241592262648438,3.241594963710294,3.2415781414206863,3.2416895206970753,3.240906002352448,3.246748418424409,3.205188291760551,3.2958839222151988,3.2169093044691865,3.252074452168425,3.236544906145874,3.2444010389948597,3.2397991750268726,3.242895296952409,3.2405256288127986,3.242571181923743,3.2405942570643376,3.242719874688901,3.2401910966437923,3.2435033289470394,3.2387497174230937,3.2461822821282715,3.233645276319484,3.255890053428746,3.21734684079732,3.273091271691685,3.2136205119555576,3.2616347414506475,3.2277601950380124,3.2516130396263203,3.233725647372318,3.24835167838152,3.2352331594880703,3.2481231363646774,3.234319222859348,3.250293588956347,3.2305899230440773,3.255901318991344,3.223316035340346,3.263135777753018,3.2192687280663876,3.262038195960958,3.2241788078732285,3.256177133794529,3.229102821777113],\"y\":[0.8163265,0.8163265,0.8163265,0.8163265,0.8163265,0.8163265,0.8163265,0.8163265,0.8163265,0.8163265,0.8163265,0.8163265,0.8163265,0.8163265,0.8163265,0.8163265,0.8163265,0.8163265,0.8163265,0.8163265,0.8163265,0.8163265,0.8163265,0.8163265,0.8163265,0.8163265,0.8163265,0.8163265,0.8163265,0.8163265,0.8163265,0.8163265,0.8163265,0.8163265,0.8163265,0.8163265,0.8163265,0.8163265,0.8163265,0.8163265,0.8163265,0.8163265,0.8163265,0.8163265,0.8163265,0.8163265,0.8163265,0.8163265,0.8163265,0.8163265,0.8163265,0.8163265,0.8163265,0.8163265,0.8163265,0.8163265,0.8163265,0.8163265,0.8163265,0.8163265,0.8163265,0.8163265,0.8163265,0.8163265,0.8163265,0.8163265,0.8163265,0.8163265,0.8163265,0.8163265,0.8163265,0.8163265,0.8163265,0.8163265,0.8163265,0.8163265,0.8163265,0.8163265,0.8163265,0.8163265,0.8163265,0.8163265,0.8163265,0.8163265,0.8163265,0.8163265,0.8163265,0.8163265,0.8163265,0.8163265,0.8163265,0.8163265,0.8163265,0.8163265,0.8163265,0.8163265,0.8163265,0.8163265,0.8163265,0.8163265,0.8163265,0.8163265,0.8163265,0.8163265,0.8163265,0.8163265,0.8163265,0.8163265,0.8163265,0.8163265,0.8163265,0.8163265,0.8163265,0.8163265,0.8163265,0.8163265,0.8163265,0.8163265,0.8163265,0.8163265,0.8163265,0.8163265,0.8163265,0.8163265,0.8163265,0.8163265,0.8163265,0.8163265,0.8163265,0.8163265,0.8163265,0.8163265,0.8163265,0.8163265,0.8163265,0.8163265,0.8163265,0.8163265,0.8163265,0.8163265,0.8163265,0.8163265,0.8163265,0.8163265,0.8163265,0.8163265,0.8163265,0.8163265,0.8163265,0.8163265,0.8163265,0.8163265,0.8163265,0.8163265,0.8163265,0.8163265,0.8163265,0.8163265,0.8163265,0.8163265,0.8163265,0.8163265,0.8163265,0.8163265,0.8163265,0.8163265,0.8163265,0.8163265,0.8163265,0.8163265,0.8163265,0.8163265,0.8163265,0.8163265,0.8163265,0.8163265,0.8163265,0.8163265,0.8163265,0.8163265,0.8163265,0.8163265,0.8163265,0.8163265,0.8163265,0.8163265,0.8163265,0.8163265,0.8163265,0.8163265,0.8163265,0.8163265,0.8163265,0.8163265,0.8163265,0.8163265,0.8163265,0.8163265,0.8163265,0.8163265,0.8163265,0.8163265],\"z\":[0.842451231146697,0.8064010086236522,0.7774306761275511,0.7516355882398784,0.7277255808439804,0.7050955188315129,0.6834091850469122,0.6624601535731927,0.6421132367104292,0.6222759589290945,0.602883158629993,0.5838880159572,0.5652565054042498,0.5469637982314453,0.5289918362832395,0.5113276411866536,0.49396210242412053,0.4768890876293881,0.46010477536765393,0.44360714561480563,0.4273955840180861,0.41147057032503653,0.3958334296621615,0.3804861317621544,0.36543112725485116,0.3506712129164953,0.33620941985282116,0.3220489199447911,0.308192947297357,0.2946447316353442,0.28140744179836474,0.2684841373265954,0.25587772714789025,0.2435909339110367,0.2316262633394217,0.21998597773199435,0.20867207297123969,0.19768625874712598,0.18702994131308515,0.17670420854119584,0.16670981707284227,0.15704718108463567,0.14771636262594257,0.13871706328063738,0.13004861696390435,0.12170998383953702,0.1136997449939372,0.10601609802688472,0.09865685334079899,0.09161943104118109,0.08490085850644391,0.07849776837974787,0.07240639723022468,0.06662258463620674,0.06114177280687727,0.05595900671323761,0.051068934859358706,0.04646581059205346,0.042143494210904464,0.038095455849543214,0.034314779317355715,0.03079416710534133,0.02752594670164399,0.024502078551449813,0.021714165719458833,0.019153465967974626,0.01681090625061188,0.014677100261906162,0.012742369406623766,0.01099676766898483,0.009430111007532105,0.008032011581235565,0.006791917403461412,0.005699157831259072,0.004742995093693025,0.003912681990186684,0.0031975257879821584,0.002586957547464408,0.002070606526103802,0.0016383779438911006,0.0012805328151443973,0.0009877672127913684,0.0007512887677876279,0.0005628868530038744,0.0004149937740294263,0.0003007333871209994,0.00021395455405581743,0.00014924713468644768,0.00010193928028456867,6.807586760260165e-05,4.437929601408541e-05,2.8195034246891737e-05,1.742543827276677e-05,1.0456031304784119e-05,6.078611477278173e-06,3.415887476876378e-06,1.850901753641665e-06,9.644136298447847e-07,4.817848093807697e-07,2.3000757209956646e-07,1.0455551091581583e-07,4.508183337748051e-08,1.83499651029706e-08,7.0140231400728226e-09,2.5029294192790985e-09,8.294591680169106e-10,2.473825588822365e-10,7.275957614183426e-11,1.4551915228366852e-11,0.0,0.0,0.0,0.0,0.0,0.0,0.0,0.0,0.0,0.0,0.0,0.0,0.0,0.0,0.0,0.0,0.0,0.0,0.0,0.0,0.0,0.0,0.0,0.0,0.0,0.0,0.0,0.0,0.0,0.0,0.0,0.0,0.0,0.0,0.0,0.0,0.0,0.0,0.0,0.0,0.0,0.0,0.0,0.0,0.0,0.0,0.0,0.0,0.0,0.0,5.820766091346741e-11,2.342858351767063e-09,1.178705133497715e-07,6.645466783083975e-06,0.00033128280483651906,0.0007367044745478779,0.00015230919234454632,2.746676909737289e-05,6.369926268234849e-06,1.9717554096132517e-06,8.041388355195522e-07,4.2421743273735046e-07,2.846354618668556e-07,2.393790055066347e-07,2.4920154828578234e-07,3.1765375752002e-07,4.910834832116961e-07,9.126670192927122e-07,2.0205770852044225e-06,5.266163498163223e-06,1.579012314323336e-05,5.110303754918277e-05,0.0001469576673116535,0.0002480202238075435,0.00019559742941055447,0.00010041796485893428,4.783346957992762e-05,2.5101820938289165e-05,1.547236752230674e-05,1.1421056115068495e-05,1.0110758012160659e-05,1.066176628228277e-05,1.3225639122538269e-05,1.892645377665758e-05,3.026470949407667e-05,5.118359695188701e-05,8.350636926479638e-05,0.0001160220563178882,0.00012458424316719174,0.00010450140689499676,7.580859528388828e-05,5.3175826906226575e-05],\"type\":\"scatter3d\",\"showlegend\":false},{\"marker\":{\"color\":\"red\",\"size\":7},\"name\":\"Linear Combination of Unitaries\",\"x\":[0.9163264999999999],\"y\":[0.8163265],\"z\":[0.842451231146697],\"type\":\"scatter3d\"},{\"line\":{\"color\":\"purple\",\"width\":10},\"mode\":\"lines\",\"x\":[0.9163264999999999,1.0111948275714202,1.082600071756304,1.1434162390634395,1.1979174622438449,1.2481328654726709,1.2952097182735798,1.3398689318579682,1.3825968652717908,1.4237388449613335,1.463549681038278,1.502223110862741,1.5399100011129039,1.5767301418998405,1.61278018818342,1.6481391809254649,1.6828724908824186,1.717034701698246,1.7506717602214472,1.7838226085473767,1.816520441838353,1.8487936909340865,1.8806667992246247,1.9121608434377368,1.9432940344201617,1.9740821245254436,2.0045387415070888,2.0346756639811003,2.064503049991748,2.0940296276035637,2.1232628544886447,2.15220905200007,2.180873518092376,2.20926062257834,2.2373738875328395,2.26521605512219,2.2927891447164344,2.3200945008069795,2.3471328329835255,2.3739042490079894,2.4004082818481463,2.426643911391634,2.4526095814454085,2.4783032125318063,2.5037222109163078,2.5288634742410707,2.5537233940901696,2.5782978557756935,2.602582235607349,2.626571395891326,2.650259677896622,2.6736408930288142,2.6967083124627598,2.7194546555075387,2.741872077010037,2.763952154149132,2.785685873031936,2.807063615578725,2.8280751472759786,2.848709606489471,2.868955496163783,2.888800678893001,2.908232376531521,2.9272371757249216,2.945801040978846,2.9639093371471117,2.98154686350475,2.998697901869698,3.015346281536094,3.0314754640639805,3.0470686512082286,3.062108919427842,3.076579384448591,3.090463399198634,3.1037447880284383,3.116408119383659,3.1284390179393324,3.1398245155468034,3.15055343813003,3.1606168228697524,3.170008356664567,3.1787248230710285,3.1867665409176604,3.1941377738940306,3.2008470870840044,3.206907624178188,3.212337278534512,3.2171587328790414,3.2213993466215154,3.225090876616537,3.2282690265084297,3.230972830958767,3.2332438931295644,3.235125505595358,3.2366616951043543,3.237896239108875,3.2388717057996637,3.2396285689512583,3.2402044441131914,3.240633483922717,3.2409459583483384,3.241168031620733,3.2413217328254142,3.241425103081031,3.241492490322409,3.241534954146536,3.241560738779858,3.241575772287618,3.24158415438566,3.2415886027851366,3.2415908376205684,3.241591893687531,3.241592359508927,3.2415925495323705,3.2415926204072276,3.241592644230851,3.241592651313624,3.2415926531293895,3.2415926535165336,3.2415926535814683,3.2415926535892465,3.2415926535897857,3.241592653589793,3.2415926535897936,3.241592653589794,3.241592653589793,3.2415926535897936,3.241592653589794,3.241592653589793,3.2415926535897936,3.241592653589794,3.2415926535897928,3.241592653589793,3.2415926535897936,3.241592653589794,3.2415926535897923,3.2415926535897945,3.2415926535897905,3.241592653589797,3.2415926535897883,3.241592653589803,3.241592653589776,3.2415926535898296,3.2415926535897155,3.241592653589975,3.241592653589344,3.241592653590996,3.241592653586337,3.2415926536004545,3.241592653554557,3.241592653714449,3.2415926531181953,3.2415926554959564,3.2415926453653956,3.241592691439232,3.2415924679346757,3.241593623541956,3.2415872595473005,3.241624564773733,3.241391931159458,3.2429341402035123,3.232140226714706,3.2933730901415466,3.201748271270011,3.2602586751863387,3.232613681345536,3.2464812121667865,3.238550482160981,3.2437449809401526,3.2398743176429905,3.243129744534032,3.240061776956296,3.243280767680001,3.239542053866826,3.2443231492956337,3.2376292012920262,3.2478122033241825,3.231227861609435,3.2590765864628217,3.2151799726858377,3.2714523008487446,3.2166947407243947,3.2596172236608085,3.228655156512411,3.2513983898222003,3.2335523267494928,3.248777100511524,3.2345981436642517,3.248980752310804,3.2331904507855613,3.2517535618768107,3.228794183332022,3.257815915545294,3.221921605876673,3.263222004915401,3.2204862137285084,3.2603710443635197,3.225572736062762,3.25529062316085,3.229513031328946,3.2527453024687647,3.2307515190201306],\"y\":[0.31632649999999995,0.31632649999999995,0.31632649999999995,0.31632649999999995,0.31632649999999995,0.31632649999999995,0.31632649999999995,0.31632649999999995,0.31632649999999995,0.31632649999999995,0.31632649999999995,0.31632649999999995,0.31632649999999995,0.31632649999999995,0.31632649999999995,0.31632649999999995,0.31632649999999995,0.31632649999999995,0.31632649999999995,0.31632649999999995,0.31632649999999995,0.31632649999999995,0.31632649999999995,0.31632649999999995,0.31632649999999995,0.31632649999999995,0.31632649999999995,0.31632649999999995,0.31632649999999995,0.31632649999999995,0.31632649999999995,0.31632649999999995,0.31632649999999995,0.31632649999999995,0.31632649999999995,0.31632649999999995,0.31632649999999995,0.31632649999999995,0.31632649999999995,0.31632649999999995,0.31632649999999995,0.31632649999999995,0.31632649999999995,0.31632649999999995,0.31632649999999995,0.31632649999999995,0.31632649999999995,0.31632649999999995,0.31632649999999995,0.31632649999999995,0.31632649999999995,0.31632649999999995,0.31632649999999995,0.31632649999999995,0.31632649999999995,0.31632649999999995,0.31632649999999995,0.31632649999999995,0.31632649999999995,0.31632649999999995,0.31632649999999995,0.31632649999999995,0.31632649999999995,0.31632649999999995,0.31632649999999995,0.31632649999999995,0.31632649999999995,0.31632649999999995,0.31632649999999995,0.31632649999999995,0.31632649999999995,0.31632649999999995,0.31632649999999995,0.31632649999999995,0.31632649999999995,0.31632649999999995,0.31632649999999995,0.31632649999999995,0.31632649999999995,0.31632649999999995,0.31632649999999995,0.31632649999999995,0.31632649999999995,0.31632649999999995,0.31632649999999995,0.31632649999999995,0.31632649999999995,0.31632649999999995,0.31632649999999995,0.31632649999999995,0.31632649999999995,0.31632649999999995,0.31632649999999995,0.31632649999999995,0.31632649999999995,0.31632649999999995,0.31632649999999995,0.31632649999999995,0.31632649999999995,0.31632649999999995,0.31632649999999995,0.31632649999999995,0.31632649999999995,0.31632649999999995,0.31632649999999995,0.31632649999999995,0.31632649999999995,0.31632649999999995,0.31632649999999995,0.31632649999999995,0.31632649999999995,0.31632649999999995,0.31632649999999995,0.31632649999999995,0.31632649999999995,0.31632649999999995,0.31632649999999995,0.31632649999999995,0.31632649999999995,0.31632649999999995,0.31632649999999995,0.31632649999999995,0.31632649999999995,0.31632649999999995,0.31632649999999995,0.31632649999999995,0.31632649999999995,0.31632649999999995,0.31632649999999995,0.31632649999999995,0.31632649999999995,0.31632649999999995,0.31632649999999995,0.31632649999999995,0.31632649999999995,0.31632649999999995,0.31632649999999995,0.31632649999999995,0.31632649999999995,0.31632649999999995,0.31632649999999995,0.31632649999999995,0.31632649999999995,0.31632649999999995,0.31632649999999995,0.31632649999999995,0.31632649999999995,0.31632649999999995,0.31632649999999995,0.31632649999999995,0.31632649999999995,0.31632649999999995,0.31632649999999995,0.31632649999999995,0.31632649999999995,0.31632649999999995,0.31632649999999995,0.31632649999999995,0.31632649999999995,0.31632649999999995,0.31632649999999995,0.31632649999999995,0.31632649999999995,0.31632649999999995,0.31632649999999995,0.31632649999999995,0.31632649999999995,0.31632649999999995,0.31632649999999995,0.31632649999999995,0.31632649999999995,0.31632649999999995,0.31632649999999995,0.31632649999999995,0.31632649999999995,0.31632649999999995,0.31632649999999995,0.31632649999999995,0.31632649999999995,0.31632649999999995,0.31632649999999995,0.31632649999999995,0.31632649999999995,0.31632649999999995,0.31632649999999995,0.31632649999999995,0.31632649999999995,0.31632649999999995,0.31632649999999995,0.31632649999999995,0.31632649999999995,0.31632649999999995,0.31632649999999995,0.31632649999999995,0.31632649999999995,0.31632649999999995,0.31632649999999995,0.31632649999999995,0.31632649999999995,0.31632649999999995,0.31632649999999995,0.31632649999999995],\"z\":[0.842451231146697,0.8064009953959612,0.7774306568026077,0.7516355650004698,0.7277255547232926,0.7050954904698301,0.68340915486624,0.6624601218936732,0.642113203779445,0.6222759249503724,0.6028831237636041,0.5838879803486634,0.5652564691845328,0.5469637614878593,0.5289917991322,0.5113276037154719,0.4939620647201082,0.47688904975075275,0.460104737416259,0.44360710761975497,0.42739554606669117,0.4114705324609531,0.3958333919290453,0.3804860942182131,0.36543108995829243,0.35067117589642294,0.33620938315289095,0.3220488836086588,0.3081929113541264,0.294644696143223,0.2814074067719048,0.26848410279490054,0.25587769314006437,0.2435909004707355,0.23162623048119713,0.2199859454703983,0.2086720413499279,0.19768622778065037,0.18702991101599764,0.17670417892804835,0.16670978817273863,0.15704715291212779,0.14771633519558236,0.13871703659242485,0.13004859103239141,0.12170995867927559,0.11369972060492728,0.10601607443823013,0.09865683053794783,0.09161940905323718,0.08490083730430342,0.07849774799251463,0.07240637764334679,0.06662256584968418,0.06114175482071005,0.05595898952742573,0.05106891847390216,0.04646579500695225,0.04214347941160668,0.038095441821496934,0.034314766046009026,0.030794154590694234,0.02752593492914457,0.024502067506546155,0.02171415538759902,0.019153456334606744,0.01681089731573593,0.014677091981866397,0.012742361766868271,0.01099676065496169,0.00943010459013749,0.008032005731365643,0.006791912121116184,0.005699153072782792,0.0047429908299818635,0.0039126782066887245,0.003197522441041656,0.002586954622529447,0.002070603979518637,0.001638375746551901,0.0012805309379473329,0.0009877656266326085,0.0007512874435633421,0.0005628857616102323,0.0004149928718106821,0.000300732659525238,0.00021395398653112352,0.00014924669812899083,0.00010193894559051841,6.807562022004277e-05,4.437910683918744e-05,2.8194888727739453e-05,1.74253509612754e-05,1.0455958545207977e-05,6.078582373447716e-06,3.4158729249611497e-06,1.8508872017264366e-06,9.644136298447847e-07,4.817848093807697e-07,2.3000757209956646e-07,1.0455551091581583e-07,4.508183337748051e-08,1.83499651029706e-08,7.0140231400728226e-09,2.5029294192790985e-09,8.294591680169106e-10,2.473825588822365e-10,7.275957614183426e-11,1.4551915228366852e-11,0.0,0.0,0.0,0.0,0.0,0.0,0.0,0.0,0.0,0.0,0.0,0.0,0.0,0.0,0.0,0.0,0.0,0.0,0.0,0.0,0.0,0.0,0.0,0.0,0.0,0.0,0.0,0.0,0.0,0.0,0.0,0.0,0.0,0.0,0.0,0.0,0.0,0.0,0.0,0.0,0.0,0.0,0.0,0.0,0.0,0.0,0.0,0.0,0.0,2.473825588822365e-10,1.0069925338029861e-08,4.4990156311541796e-07,2.2336927941069007e-05,0.0006701536476612091,0.00039684119110461324,8.710255497135222e-05,2.0155348465777934e-05,5.974492523819208e-06,2.313696313649416e-06,1.1581287253648043e-06,7.381750037893653e-07,5.906622391194105e-07,5.858892109245062e-07,7.124326657503843e-07,1.0512449080124497e-06,1.8638966139405966e-06,3.927227226085961e-06,9.67066443990916e-06,2.6856985641643405e-05,7.64200376579538e-05,0.00017439728253521025,0.00022288307081907988,0.00015496851119678468,8.121908467728645e-05,4.184411955066025e-05,2.4037930415943265e-05,1.6161633539013565e-05,1.2904012692160904e-05,1.2230739230290055e-05,1.3645942090079188e-05,1.7649144865572453e-05,2.58107902482152e-05,4.094965697731823e-05,6.579711043741554e-05,9.673440945334733e-05,0.00011695265129674226,0.00011136631655972451,8.815439650788903e-05,6.415807001758367e-05,4.690786590799689e-05,3.647887206170708e-05,3.109507088083774e-05],\"type\":\"scatter3d\",\"showlegend\":false},{\"marker\":{\"color\":\"purple\",\"size\":7},\"name\":\"Quantum Natural Gradient\",\"x\":[0.9163264999999999],\"y\":[0.31632649999999995],\"z\":[0.842451231146697],\"type\":\"scatter3d\"},{\"line\":{\"color\":\"black\",\"width\":10},\"mode\":\"lines\",\"x\":[0.9163264999999999,4.078603645098619,2.599400847610675,3.7202458126241997,2.871374506235725,3.5475791825028273,2.968394708894152,3.505575339176903,2.966445131358029,3.5486454381078745,2.8793188688413633,3.6842771468005786,2.699156106083441,3.8792975331578257,2.552425476325632,3.915760781003637,2.6310493776845054,3.774874948243481,2.7753945746066084,3.659826523470303,2.851197844433019,3.622814114523435,2.8524874891419705,3.654190418717684,2.792073054915739,3.736860220471017,2.7003464554284906,3.8172384434273496,2.653189089865859,3.8189890614200404,2.6922066983744553,3.7565159590233153,2.75861635082734,3.7005374190224973,2.79640011490586,3.683768360725519,2.792404067467887,3.7061576963585976,2.75606138196213,3.749685602226996,2.7141438829129574,3.7808080005211004,2.7005545656196346,3.7750996634648737,2.721929032250678,3.7451404835140507,2.7527736228322497,3.7196360128742447,2.7690144230946814,3.714319621594293,2.7636732431105027,3.7284383510406713,2.743992943457039,3.749532718937402,2.725863669142879,3.7610603060324626,2.722888419614185,3.75568987203298,2.734486519022972,3.741083501500473,2.748740410715181,3.7299373380173404,2.755029398005851,3.7291397608029038,2.7507469906803084,3.7372197250294983,2.7407598531576376,3.7469732296039937,2.733202187912455,3.7509685742100105,2.733258836811116,3.7472935668341516,2.7393924775965384,3.740233193339384,2.7458571870650355,3.735571516415658,2.7480061396211215,3.73608645338352,2.745195600650146,3.740421196772804,2.7403370429700176,3.7447824323263315,2.737307897964247,3.7459924784163228,2.7379802815582126,3.743771449555527,2.741133514875386,3.740422000232529,2.7439891117810395,3.7385732317925755,2.74457256317115,3.7392394437540593,2.742914350205223,3.7414625511407853,2.740624977866451,3.7433528177121556,2.7394747827966985,3.7436052971043305,2.740079038014495,3.7423553071525277,2.7416555052381444,3.740802664277885,2.7428769595198284,3.740120762472647,2.7429397853546806,3.740626028002571,2.742024567212433,3.7417274547469064,2.7409757846885197,3.742518747137362,2.740574767356519,3.7424887199660275,2.740985485707369,3.7418191549135416,2.7417528126805277,3.7411177262438864,2.742255121585427,3.740894117397747,2.7421841429595855,3.741215372069037,2.7417022246703486,3.741745347924122,2.741235083078854,3.7420625048680547,2.741116159213282,3.741979668160738,2.74136340594969,3.741634489394818,2.741727321458245,3.7413265384638583,2.7419235514519227,3.741269718125537,2.741843929391344,3.741455905841713,2.741599273408559,3.7417041433713654,2.741397480740905,3.7418238517840927,2.741375415801962,3.741753874476733,2.7415139673765467,3.7415815308197184,2.7416821502230087,3.7414507087394275,2.7417533041838125,3.7414473138143802,2.7416952134852406,3.7415489775321906,2.741574764754685,3.741662199616342,2.7414906785457056,3.7417033112215887,2.7414963608985023,3.741656774953826,2.7415702439235567,3.7415731350066403,2.7416459099869592,3.741519754009116,2.7416686217947466,3.7415291040456133,2.741632368394646,3.7415822533052006,2.7415746838635786,3.7416324710718736,2.741541212309756,3.7416442180864684,2.741551310873211,3.741616536362683,2.741589233245957,3.7415770099025836,2.7416222940239248,3.741556362376958,2.7416276736550906,3.7415657595999736,2.741606894731479,3.7415925974020774,2.7415799868477237,3.7416141864333734,2.7415674892455724,3.741616025535666,2.7415755827845567,3.741600637639239,2.741594438539715,3.7415824412091356,2.7416084041447424,3.741575065125922,2.7416083918651784,3.7415817051771163,2.7415971319774473,3.7415948590472436,2.7415849091890134,3.741603801658227,2.741580698816074,3.7416029232395163,2.7415859681310875,3.7415947675543193,2.741595082784612,3.7415866152820842,2.7416007410234666,3.7415843267371907,2.7415995479740247,3.7415884055289697],\"y\":[-0.18367350000000005,-0.18367350000000005,-0.1836735000000174,-0.18367350000000005,-0.18367350000000005,-0.18367350000000005,-0.18367350000000005,-0.18367350000000005,-0.18367350000000005,-0.18367350000000005,-0.18367350000000005,-0.18367350000000005,-0.18367350000000005,-0.1836735000000087,-0.18367349999999136,-0.18367349999999136,-0.18367349999999136,-0.183673499999974,-0.183673499999974,-0.183673499999974,-0.183673499999974,-0.18367349999996968,-0.18367349999996535,-0.18367349999996968,-0.183673499999974,-0.183673499999974,-0.183673499999974,-0.183673499999974,-0.18367349999998267,-0.183673499999974,-0.18367349999996535,-0.1836734999999567,-0.1836734999999567,-0.1836734999999567,-0.18367349999993934,-0.18367349999993934,-0.18367349999993066,-0.18367349999993066,-0.18367349999993066,-0.183673499999922,-0.183673499999922,-0.183673499999922,-0.18367349999993066,-0.18367349999993066,-0.18367349999993066,-0.18367349999993066,-0.18367349999993066,-0.18367349999993066,-0.183673499999922,-0.18367349999991334,-0.183673499999922,-0.18367349999993066,-0.18367349999993932,-0.18367349999993066,-0.18367349999993066,-0.18367349999993066,-0.18367349999993932,-0.18367349999994798,-0.18367349999994798,-0.18367349999993932,-0.18367349999992197,-0.18367349999991328,-0.18367349999990462,-0.18367349999991328,-0.18367349999990462,-0.18367349999990462,-0.18367349999989596,-0.18367349999990462,-0.18367349999991328,-0.18367349999992194,-0.18367349999992194,-0.1836734999999306,-0.1836734999999306,-0.1836734999999306,-0.1836734999999306,-0.1836734999999306,-0.1836734999999306,-0.1836734999999306,-0.18367349999992194,-0.18367349999992194,-0.18367349999991328,-0.18367349999991328,-0.18367349999991328,-0.18367349999990462,-0.18367349999990462,-0.18367349999990462,-0.18367349999989596,-0.18367349999989596,-0.1836734999998873,-0.18367349999987864,-0.1836734999998873,-0.18367349999987864,-0.18367349999987864,-0.18367349999987864,-0.18367349999987864,-0.18367349999986998,-0.18367349999986998,-0.18367349999986998,-0.18367349999987864,-0.18367349999987864,-0.18367349999987864,-0.18367349999987864,-0.18367349999987864,-0.18367349999987864,-0.18367349999987864,-0.18367349999987864,-0.18367349999987864,-0.18367349999987864,-0.18367349999987864,-0.18367349999986998,-0.18367349999987864,-0.1836734999998873,-0.18367349999987864,-0.1836734999998873,-0.18367349999987864,-0.1836734999998873,-0.1836734999998873,-0.18367349999987864,-0.18367349999987864,-0.1836734999998873,-0.1836734999998873,-0.18367349999989596,-0.18367349999989596,-0.18367349999989596,-0.18367349999989596,-0.18367349999989596,-0.18367349999989596,-0.18367349999989596,-0.18367349999989596,-0.1836734999998873,-0.1836734999998873,-0.1836734999998873,-0.1836734999998873,-0.18367349999989596,-0.18367349999989596,-0.1836734999998873,-0.1836734999998873,-0.1836734999998873,-0.18367349999989596,-0.18367349999989596,-0.18367349999989596,-0.1836734999998873,-0.18367349999989596,-0.18367349999989596,-0.18367349999990462,-0.18367349999989596,-0.18367349999989596,-0.18367349999990462,-0.18367349999990462,-0.18367349999990462,-0.18367349999991328,-0.18367349999992194,-0.18367349999992194,-0.18367349999992194,-0.18367349999992194,-0.18367349999991328,-0.18367349999991328,-0.18367349999991328,-0.18367349999991328,-0.18367349999990462,-0.18367349999991328,-0.18367349999992194,-0.1836734999999306,-0.18367349999992194,-0.18367349999992194,-0.1836734999999306,-0.1836734999999306,-0.18367349999993926,-0.1836734999999306,-0.18367349999991325,-0.18367349999990457,-0.1836734999998959,-0.18367349999990457,-0.18367349999991323,-0.18367349999991323,-0.18367349999991323,-0.18367349999992189,-0.18367349999992189,-0.18367349999992189,-0.18367349999992189,-0.18367349999992189,-0.18367349999992189,-0.18367349999993055,-0.1836734999999392,-0.18367349999993055,-0.18367349999992189,-0.18367349999991323,-0.18367349999991323,-0.18367349999992189,-0.18367349999991323,-0.18367349999991323,-0.18367349999991323,-0.18367349999990457,-0.1836734999998959,-0.1836734999998959,-0.1836734999998959,-0.18367349999990457,-0.18367349999990457,-0.18367349999990457,-0.18367349999990457,-0.18367349999991323,-0.18367349999992189],\"z\":[0.842451231146697,0.16515720724419225,0.09960755212523509,0.056191969400970265,0.033875781009555794,0.023224879725603387,0.01854351136717014,0.017320777245913632,0.01880743603396695,0.02338574694294948,0.032453295367304236,0.048197513533523306,0.0717732900811825,0.09826786020130385,0.11411206494085491,0.10938674205681309,0.09033166409062687,0.0694284417986637,0.05335816084698308,0.043096163048176095,0.03762055705010425,0.03589456097688526,0.03737555218685884,0.04195888197864406,0.04967202176339924,0.060079212198616005,0.07146634990931489,0.08057953776733484,0.0840860926109599,0.0810566779691726,0.07357734265679028,0.06483475276036188,0.057191699248505756,0.05173976602964103,0.04873611556831747,0.048088598501635715,0.049600128520978615,0.05299173710227478,0.05778642950463109,0.06316305042128079,0.06795300365774892,0.07094408216653392,0.07141274953028187,0.06948557107534725,0.06600686477031559,0.06206193895195611,0.05855598105699755,0.05605161988933105,0.0548011594946729,0.05483501584967598,0.05602311241091229,0.05809351842617616,0.0606346035056049,0.06312586575222667,0.0650332795776194,0.06595821518567391,0.06576885431422852,0.06463149051705841,0.06292321471846662,0.06108672567643225,0.05950653395848349,0.05844465810514521,0.05802746719564311,0.058257701035472564,0.05903272384603042,0.06016467096924316,0.06140850408701226,0.06250485722557642,0.0632354425615631,0.06347550048667472,0.06322165571327787,0.06258242377953138,0.06173719096113928,0.06088324464508332,0.0601904490031302,0.05977333827468101,0.0596803594235098,0.05989547089848202,0.060347896520397626,0.06092820703634061,0.061510050771175884,0.06197558072744869,0.06223985445103608,0.06226765700557735,0.06207751181500498,0.06173204536025878,0.0613188267161604,0.06092839922348503,0.060635517962509766,0.06048692640615627,0.06049634593364317,0.06064584005798679,0.0608922748506302,0.06117753555008676,0.061440888690412976,0.06163133238442242,0.06171738341799937,0.06169206379854586,0.06157205454655923,0.06139166445063893,0.06119365358608775,0.061019485467113554,0.060901216493221,0.060856363401398994,0.06088619261572603,0.060977211585850455,0.06110522476956248,0.06124103660113178,0.06135667389025912,0.06143090363184456,0.06145294665475376,0.06142369373992551,0.06135434581665322,0.06126302556367591,0.06117033249756787,0.061094922391930595,0.061050013318890706,0.061041378081426956,0.06106700826785527,0.061118311088648625,0.06118245610559825,0.06124532695685048,0.061294461323996074,0.06132139683177229,0.06132299064483959,0.061301524241571315,0.06126368416880723,0.0612187480146531,0.06117644142068457,0.06114494339271914,0.0611294226400787,0.06113133017788641,0.06114849889127072,0.06117594297393225,0.06120713221025653,0.06123544731235597,0.061255512831849046,0.06126415194012225,0.06126080408284906,0.061247371457284316,0.06122758249694016,0.06120605280739255,0.06118726733257063,0.061174697475507855,0.06117021471436601,0.06117388389247935,0.0611841364443535,0.06119824976485688,0.06121300731319934,0.06122539118223358,0.06123316605226137,0.06123524779104628,0.06123180367285386,0.061224090663017705,0.06121409105253406,0.06120404027751647,0.061195953443530016,0.06119124525866937,0.0611905097757699,0.06119348629727028,0.0611991992482217,0.0612062260042876,0.061213026696350425,0.06121826416347176,0.0612210507679265,0.06122108030831441,0.0612186298094457,0.061214444183860905,0.06120953895151615,0.06120496911171358,0.06120161405124236,0.061200019874377176,0.06120032456237823,0.06120227237988729,0.06120530531916302,0.06120870559243485,0.061211755470139906,0.061213880850118585,0.06121475140389521,0.06121432172949426,0.061212811211589724,0.061210632949951105,0.06120829118299298,0.06120627104246523,0.06120494350034278,0.06120450294110924,0.061204946439829655,0.06120609460049309,0.06120764552906621,0.0612092477385886,0.06121057549898978,0.06121139141032472,0.06121158480527811,0.06121118084411137,0.06121032165538054,0.06120922579430044,0.06120813674351666,0.061207271603052504,0.06120678040315397,0.06120672301040031,0.061207066391943954],\"type\":\"scatter3d\",\"showlegend\":false},{\"marker\":{\"color\":\"black\",\"size\":7},\"name\":\"Quantum Newton Gradient\",\"x\":[0.9163264999999999],\"y\":[-0.18367350000000005],\"z\":[0.842451231146697],\"type\":\"scatter3d\"}],                        {\"template\":{\"data\":{\"bar\":[{\"error_x\":{\"color\":\"#2a3f5f\"},\"error_y\":{\"color\":\"#2a3f5f\"},\"marker\":{\"line\":{\"color\":\"#E5ECF6\",\"width\":0.5},\"pattern\":{\"fillmode\":\"overlay\",\"size\":10,\"solidity\":0.2}},\"type\":\"bar\"}],\"barpolar\":[{\"marker\":{\"line\":{\"color\":\"#E5ECF6\",\"width\":0.5},\"pattern\":{\"fillmode\":\"overlay\",\"size\":10,\"solidity\":0.2}},\"type\":\"barpolar\"}],\"carpet\":[{\"aaxis\":{\"endlinecolor\":\"#2a3f5f\",\"gridcolor\":\"white\",\"linecolor\":\"white\",\"minorgridcolor\":\"white\",\"startlinecolor\":\"#2a3f5f\"},\"baxis\":{\"endlinecolor\":\"#2a3f5f\",\"gridcolor\":\"white\",\"linecolor\":\"white\",\"minorgridcolor\":\"white\",\"startlinecolor\":\"#2a3f5f\"},\"type\":\"carpet\"}],\"choropleth\":[{\"colorbar\":{\"outlinewidth\":0,\"ticks\":\"\"},\"type\":\"choropleth\"}],\"contour\":[{\"colorbar\":{\"outlinewidth\":0,\"ticks\":\"\"},\"colorscale\":[[0.0,\"#0d0887\"],[0.1111111111111111,\"#46039f\"],[0.2222222222222222,\"#7201a8\"],[0.3333333333333333,\"#9c179e\"],[0.4444444444444444,\"#bd3786\"],[0.5555555555555556,\"#d8576b\"],[0.6666666666666666,\"#ed7953\"],[0.7777777777777778,\"#fb9f3a\"],[0.8888888888888888,\"#fdca26\"],[1.0,\"#f0f921\"]],\"type\":\"contour\"}],\"contourcarpet\":[{\"colorbar\":{\"outlinewidth\":0,\"ticks\":\"\"},\"type\":\"contourcarpet\"}],\"heatmap\":[{\"colorbar\":{\"outlinewidth\":0,\"ticks\":\"\"},\"colorscale\":[[0.0,\"#0d0887\"],[0.1111111111111111,\"#46039f\"],[0.2222222222222222,\"#7201a8\"],[0.3333333333333333,\"#9c179e\"],[0.4444444444444444,\"#bd3786\"],[0.5555555555555556,\"#d8576b\"],[0.6666666666666666,\"#ed7953\"],[0.7777777777777778,\"#fb9f3a\"],[0.8888888888888888,\"#fdca26\"],[1.0,\"#f0f921\"]],\"type\":\"heatmap\"}],\"heatmapgl\":[{\"colorbar\":{\"outlinewidth\":0,\"ticks\":\"\"},\"colorscale\":[[0.0,\"#0d0887\"],[0.1111111111111111,\"#46039f\"],[0.2222222222222222,\"#7201a8\"],[0.3333333333333333,\"#9c179e\"],[0.4444444444444444,\"#bd3786\"],[0.5555555555555556,\"#d8576b\"],[0.6666666666666666,\"#ed7953\"],[0.7777777777777778,\"#fb9f3a\"],[0.8888888888888888,\"#fdca26\"],[1.0,\"#f0f921\"]],\"type\":\"heatmapgl\"}],\"histogram\":[{\"marker\":{\"pattern\":{\"fillmode\":\"overlay\",\"size\":10,\"solidity\":0.2}},\"type\":\"histogram\"}],\"histogram2d\":[{\"colorbar\":{\"outlinewidth\":0,\"ticks\":\"\"},\"colorscale\":[[0.0,\"#0d0887\"],[0.1111111111111111,\"#46039f\"],[0.2222222222222222,\"#7201a8\"],[0.3333333333333333,\"#9c179e\"],[0.4444444444444444,\"#bd3786\"],[0.5555555555555556,\"#d8576b\"],[0.6666666666666666,\"#ed7953\"],[0.7777777777777778,\"#fb9f3a\"],[0.8888888888888888,\"#fdca26\"],[1.0,\"#f0f921\"]],\"type\":\"histogram2d\"}],\"histogram2dcontour\":[{\"colorbar\":{\"outlinewidth\":0,\"ticks\":\"\"},\"colorscale\":[[0.0,\"#0d0887\"],[0.1111111111111111,\"#46039f\"],[0.2222222222222222,\"#7201a8\"],[0.3333333333333333,\"#9c179e\"],[0.4444444444444444,\"#bd3786\"],[0.5555555555555556,\"#d8576b\"],[0.6666666666666666,\"#ed7953\"],[0.7777777777777778,\"#fb9f3a\"],[0.8888888888888888,\"#fdca26\"],[1.0,\"#f0f921\"]],\"type\":\"histogram2dcontour\"}],\"mesh3d\":[{\"colorbar\":{\"outlinewidth\":0,\"ticks\":\"\"},\"type\":\"mesh3d\"}],\"parcoords\":[{\"line\":{\"colorbar\":{\"outlinewidth\":0,\"ticks\":\"\"}},\"type\":\"parcoords\"}],\"pie\":[{\"automargin\":true,\"type\":\"pie\"}],\"scatter\":[{\"marker\":{\"colorbar\":{\"outlinewidth\":0,\"ticks\":\"\"}},\"type\":\"scatter\"}],\"scatter3d\":[{\"line\":{\"colorbar\":{\"outlinewidth\":0,\"ticks\":\"\"}},\"marker\":{\"colorbar\":{\"outlinewidth\":0,\"ticks\":\"\"}},\"type\":\"scatter3d\"}],\"scattercarpet\":[{\"marker\":{\"colorbar\":{\"outlinewidth\":0,\"ticks\":\"\"}},\"type\":\"scattercarpet\"}],\"scattergeo\":[{\"marker\":{\"colorbar\":{\"outlinewidth\":0,\"ticks\":\"\"}},\"type\":\"scattergeo\"}],\"scattergl\":[{\"marker\":{\"colorbar\":{\"outlinewidth\":0,\"ticks\":\"\"}},\"type\":\"scattergl\"}],\"scattermapbox\":[{\"marker\":{\"colorbar\":{\"outlinewidth\":0,\"ticks\":\"\"}},\"type\":\"scattermapbox\"}],\"scatterpolar\":[{\"marker\":{\"colorbar\":{\"outlinewidth\":0,\"ticks\":\"\"}},\"type\":\"scatterpolar\"}],\"scatterpolargl\":[{\"marker\":{\"colorbar\":{\"outlinewidth\":0,\"ticks\":\"\"}},\"type\":\"scatterpolargl\"}],\"scatterternary\":[{\"marker\":{\"colorbar\":{\"outlinewidth\":0,\"ticks\":\"\"}},\"type\":\"scatterternary\"}],\"surface\":[{\"colorbar\":{\"outlinewidth\":0,\"ticks\":\"\"},\"colorscale\":[[0.0,\"#0d0887\"],[0.1111111111111111,\"#46039f\"],[0.2222222222222222,\"#7201a8\"],[0.3333333333333333,\"#9c179e\"],[0.4444444444444444,\"#bd3786\"],[0.5555555555555556,\"#d8576b\"],[0.6666666666666666,\"#ed7953\"],[0.7777777777777778,\"#fb9f3a\"],[0.8888888888888888,\"#fdca26\"],[1.0,\"#f0f921\"]],\"type\":\"surface\"}],\"table\":[{\"cells\":{\"fill\":{\"color\":\"#EBF0F8\"},\"line\":{\"color\":\"white\"}},\"header\":{\"fill\":{\"color\":\"#C8D4E3\"},\"line\":{\"color\":\"white\"}},\"type\":\"table\"}]},\"layout\":{\"annotationdefaults\":{\"arrowcolor\":\"#2a3f5f\",\"arrowhead\":0,\"arrowwidth\":1},\"autotypenumbers\":\"strict\",\"coloraxis\":{\"colorbar\":{\"outlinewidth\":0,\"ticks\":\"\"}},\"colorscale\":{\"diverging\":[[0,\"#8e0152\"],[0.1,\"#c51b7d\"],[0.2,\"#de77ae\"],[0.3,\"#f1b6da\"],[0.4,\"#fde0ef\"],[0.5,\"#f7f7f7\"],[0.6,\"#e6f5d0\"],[0.7,\"#b8e186\"],[0.8,\"#7fbc41\"],[0.9,\"#4d9221\"],[1,\"#276419\"]],\"sequential\":[[0.0,\"#0d0887\"],[0.1111111111111111,\"#46039f\"],[0.2222222222222222,\"#7201a8\"],[0.3333333333333333,\"#9c179e\"],[0.4444444444444444,\"#bd3786\"],[0.5555555555555556,\"#d8576b\"],[0.6666666666666666,\"#ed7953\"],[0.7777777777777778,\"#fb9f3a\"],[0.8888888888888888,\"#fdca26\"],[1.0,\"#f0f921\"]],\"sequentialminus\":[[0.0,\"#0d0887\"],[0.1111111111111111,\"#46039f\"],[0.2222222222222222,\"#7201a8\"],[0.3333333333333333,\"#9c179e\"],[0.4444444444444444,\"#bd3786\"],[0.5555555555555556,\"#d8576b\"],[0.6666666666666666,\"#ed7953\"],[0.7777777777777778,\"#fb9f3a\"],[0.8888888888888888,\"#fdca26\"],[1.0,\"#f0f921\"]]},\"colorway\":[\"#636efa\",\"#EF553B\",\"#00cc96\",\"#ab63fa\",\"#FFA15A\",\"#19d3f3\",\"#FF6692\",\"#B6E880\",\"#FF97FF\",\"#FECB52\"],\"font\":{\"color\":\"#2a3f5f\"},\"geo\":{\"bgcolor\":\"white\",\"lakecolor\":\"white\",\"landcolor\":\"#E5ECF6\",\"showlakes\":true,\"showland\":true,\"subunitcolor\":\"white\"},\"hoverlabel\":{\"align\":\"left\"},\"hovermode\":\"closest\",\"mapbox\":{\"style\":\"light\"},\"paper_bgcolor\":\"white\",\"plot_bgcolor\":\"#E5ECF6\",\"polar\":{\"angularaxis\":{\"gridcolor\":\"white\",\"linecolor\":\"white\",\"ticks\":\"\"},\"bgcolor\":\"#E5ECF6\",\"radialaxis\":{\"gridcolor\":\"white\",\"linecolor\":\"white\",\"ticks\":\"\"}},\"scene\":{\"xaxis\":{\"backgroundcolor\":\"#E5ECF6\",\"gridcolor\":\"white\",\"gridwidth\":2,\"linecolor\":\"white\",\"showbackground\":true,\"ticks\":\"\",\"zerolinecolor\":\"white\"},\"yaxis\":{\"backgroundcolor\":\"#E5ECF6\",\"gridcolor\":\"white\",\"gridwidth\":2,\"linecolor\":\"white\",\"showbackground\":true,\"ticks\":\"\",\"zerolinecolor\":\"white\"},\"zaxis\":{\"backgroundcolor\":\"#E5ECF6\",\"gridcolor\":\"white\",\"gridwidth\":2,\"linecolor\":\"white\",\"showbackground\":true,\"ticks\":\"\",\"zerolinecolor\":\"white\"}},\"shapedefaults\":{\"line\":{\"color\":\"#2a3f5f\"}},\"ternary\":{\"aaxis\":{\"gridcolor\":\"white\",\"linecolor\":\"white\",\"ticks\":\"\"},\"baxis\":{\"gridcolor\":\"white\",\"linecolor\":\"white\",\"ticks\":\"\"},\"bgcolor\":\"#E5ECF6\",\"caxis\":{\"gridcolor\":\"white\",\"linecolor\":\"white\",\"ticks\":\"\"}},\"title\":{\"x\":0.05},\"xaxis\":{\"automargin\":true,\"gridcolor\":\"white\",\"linecolor\":\"white\",\"ticks\":\"\",\"title\":{\"standoff\":15},\"zerolinecolor\":\"white\",\"zerolinewidth\":2},\"yaxis\":{\"automargin\":true,\"gridcolor\":\"white\",\"linecolor\":\"white\",\"ticks\":\"\",\"title\":{\"standoff\":15},\"zerolinecolor\":\"white\",\"zerolinewidth\":2}}},\"title\":{\"text\":\"Max-Cut Cost Funtion\"},\"autosize\":false,\"width\":1000,\"height\":1000},                        {\"responsive\": true}                    ).then(function(){\n",
              "                            \n",
              "var gd = document.getElementById('82651f12-cf20-4771-b40b-363f4660e8f2');\n",
              "var x = new MutationObserver(function (mutations, observer) {{\n",
              "        var display = window.getComputedStyle(gd).display;\n",
              "        if (!display || display === 'none') {{\n",
              "            console.log([gd, 'removed!']);\n",
              "            Plotly.purge(gd);\n",
              "            observer.disconnect();\n",
              "        }}\n",
              "}});\n",
              "\n",
              "// Listen for the removal of the full notebook cells\n",
              "var notebookContainer = gd.closest('#notebook-container');\n",
              "if (notebookContainer) {{\n",
              "    x.observe(notebookContainer, {childList: true});\n",
              "}}\n",
              "\n",
              "// Listen for the clearing of the current output cell\n",
              "var outputEl = gd.closest('.output');\n",
              "if (outputEl) {{\n",
              "    x.observe(outputEl, {childList: true});\n",
              "}}\n",
              "\n",
              "                        })                };                            </script>        </div>\n",
              "</body>\n",
              "</html>"
            ]
          },
          "metadata": {}
        }
      ],
      "source": [
        "#@title Gradient Plot\n",
        "blp = Model(\"docplex model\")\n",
        "x1 = blp.binary_var(\"x1\")\n",
        "\n",
        "blp.minimize(95000*x1)\n",
        "blp.add_constraint(x1 >= 1)\n",
        "# load from a Docplex model\n",
        "qp_blp = from_docplex_mp(blp)\n",
        "print(qp_blp.export_as_lp_string())\n",
        "qubo_blp = qp2qubo.convert(qp_blp) \n",
        "qubitOp_blp, offset_contour = qubo_blp.to_ising()\n",
        "\n",
        "qubitOp_blp += 0.5*I\n",
        "H_contour_lcu = qml.Hamiltonian([0.5, 0.0], [qml.PauliZ(0)@qml.PauliZ(1), qml.Identity(0)])\n",
        "H_contour = hamiltonian_from_qiskit(qubitOp_blp)\n",
        "\n",
        "from tqdm.notebook import tqdm\n",
        "# objective function\n",
        "def ansatz_contour(var):\n",
        "    qml.RX(var[0], wires=0)\n",
        "    qml.RZ(var[1], wires=0)\n",
        "    \n",
        "def cost_function_contour(var, H):\n",
        "  num_wires = len(H.wires)\n",
        "  dev = qml.device('default.qubit', wires=num_wires)\n",
        "\n",
        "  @qml.qnode(dev)\n",
        "  def circuit(var, H):\n",
        "    ansatz_contour(var[0])\n",
        "    return qml.expval(H)\n",
        "\n",
        "  return circuit(var, H)\n",
        "\n",
        "X = np.linspace(-8, 8, 50)\n",
        "Y = np.linspace(-8, 8, 50)\n",
        "X_m, Y_m = np.meshgrid(X, Y)\n",
        "Z = np.zeros((50, 50))\n",
        "for i in tqdm(range(50)):\n",
        "  for j in range(50):\n",
        "    var = np.array([[X_m[i, j], Y_m[i, j]]])\n",
        "    Z[i, j] = cost_function_contour(var, H_contour)\n",
        "\n",
        "lr = 0.03\n",
        "epochs = 201\n",
        "var_contour = np.array([[0.8163265, 0.8163265+1]])\n",
        "cost_fn = lambda v: cost_function_contour(v, H_contour)+offset_contour\n",
        "grad_fn = lambda var: parameter_shift(lambda x: cost_function_contour(x, H_contour), var)\n",
        "lost_list_ps, var_list_ps = train_contour(cost_fn, grad_fn, epochs, var_contour, lr)\n",
        "\n",
        "var_contour = np.array([[0.8163265, 0.8163265+0.5]])\n",
        "cost_fn = lambda v: cost_function_contour(v, H_contour)+offset_contour\n",
        "grad_fn = lambda var: finite_difference(lambda x: cost_function_contour(x, H_contour), var)\n",
        "lost_list_fd, var_list_fd = train_contour(cost_fn, grad_fn, epochs, var_contour, lr)\n",
        "\n",
        "var_contour = np.array([[0.8163265, 0.8163265]])\n",
        "ansatz_label = [\"RX\", \"RZ\"]\n",
        "cost_fn = lambda v: cost_function_contour(v, H_contour)+offset_contour\n",
        "grad_fn = lambda var: lcu_gradients_contour(ansatz_label, H_contour_lcu, var)\n",
        "lost_list_lcu, var_list_lcu = train_contour(cost_fn, grad_fn, epochs, var_contour, lr)\n",
        "\n",
        "var_contour = np.array([[0.8163265, 0.8163265-0.5]])\n",
        "cost_fn = lambda v: cost_function_contour(v, H_contour)+offset_contour\n",
        "grad_fn = lambda var: quantum_natural_gradient_contour(var, H_contour, lambda x: cost_function_contour(x, H_contour))\n",
        "lost_list_qng, var_list_qng = train_contour(cost_fn, grad_fn, epochs, var_contour, lr)\n",
        "\n",
        "lr = 1\n",
        "reg = 1.0\n",
        "var_contour = np.array([[0.8163265, 0.8163265-1.0]])\n",
        "cost_fn = lambda v: cost_function_contour(v, H_contour)+offset_contour\n",
        "grad_fn = lambda var: newton_gradient_contour(H_contour, var, reg)\n",
        "lost_list_qnw, var_list_qnw = train_contour(cost_fn, grad_fn, epochs, var_contour, lr)\n",
        "\n",
        "\n",
        "a_ps = []\n",
        "b_ps = []\n",
        "for var in var_list_ps:\n",
        "  a_ps.append(var[0][0]+0.1)\n",
        "  b_ps.append(var[0][1])\n",
        "c_ps = [v-offset_contour for v in lost_list_ps]\n",
        "\n",
        "fig = go.Figure(data=[go.Surface(x=X, y=Y, z=Z, showscale=False)])\n",
        "fig.add_trace(go.Scatter3d(x=a_ps, y=b_ps,z=c_ps, mode='lines',\n",
        "                           line=dict(\n",
        "                              color='yellow',\n",
        "                              width=10\n",
        "                          )))\n",
        "fig.add_trace(go.Scatter3d(x=[a_ps[0]], y=[b_ps[0]],z=[c_ps[0]], marker=dict(\n",
        "        size=7,\n",
        "        color=\"yellow\"\n",
        "    ), name=\"Parameter Shift Rule\" ))\n",
        "\n",
        "\n",
        "a_fd = []\n",
        "b_fd = []\n",
        "for var in var_list_fd:\n",
        "  a_fd.append(var[0][0]+0.1)\n",
        "  b_fd.append(var[0][1])\n",
        "c_fd = [v-offset_contour for v in lost_list_fd]\n",
        "fig.add_trace(go.Scatter3d(x=a_fd, y=b_fd,z=c_fd, mode='lines',\n",
        "                           line=dict(\n",
        "                              color='blue',\n",
        "                              width=10\n",
        "                          )))\n",
        "fig.add_trace(go.Scatter3d(x=[a_fd[0]], y=[b_fd[0]],z=[c_fd[0]], marker=dict(\n",
        "        size=7,\n",
        "        color=\"blue\"\n",
        "    ), name=\"Finite Difference\" ))\n",
        "\n",
        "a_lcu = []\n",
        "b_lcu = []\n",
        "for var in var_list_lcu:\n",
        "  a_lcu.append(var[0][0]+0.1)\n",
        "  b_lcu.append(var[0][1])\n",
        "c_lcu = [v-offset_contour for v in lost_list_lcu]\n",
        "fig.add_trace(go.Scatter3d(x=a_lcu, y=b_lcu,z=c_lcu, mode='lines',\n",
        "                           line=dict(\n",
        "                              color='red',\n",
        "                              width=10\n",
        "                          )))\n",
        "fig.add_trace(go.Scatter3d(x=[a_lcu[0]], y=[b_lcu[0]],z=[c_lcu[0]], marker=dict(\n",
        "        size=7,\n",
        "        color=\"red\"\n",
        "    ), name=\"Linear Combination of Unitaries\" ))\n",
        "\n",
        "\n",
        "a_qng = []\n",
        "b_qng = []\n",
        "for var in var_list_qng:\n",
        "  a_qng.append(var[0][0]+0.1)\n",
        "  b_qng.append(var[0][1])\n",
        "c_qng = [v-offset_contour for v in lost_list_qng]\n",
        "fig.add_trace(go.Scatter3d(x=a_qng, y=b_qng,z=c_qng, mode='lines',\n",
        "                           line=dict(\n",
        "                              color='purple',\n",
        "                              width=10\n",
        "                          )))\n",
        "fig.add_trace(go.Scatter3d(x=[a_qng[0]], y=[b_qng[0]],z=[c_qng[0]], marker=dict(\n",
        "        size=7,\n",
        "        color=\"purple\"\n",
        "    ), name=\"Quantum Natural Gradient\" ))\n",
        "\n",
        "a_qnw = []\n",
        "b_qnw = []\n",
        "for var in var_list_qnw:\n",
        "  a_qnw.append(var[0][0]+0.1)\n",
        "  b_qnw.append(var[0][1])\n",
        "c_qnw = [v-offset_contour for v in lost_list_qnw]\n",
        "fig.add_trace(go.Scatter3d(x=a_qnw, y=b_qnw,z=c_qnw, mode='lines',\n",
        "                           line=dict(\n",
        "                              color='black',\n",
        "                              width=10\n",
        "                          )))\n",
        "fig.add_trace(go.Scatter3d(x=[a_qnw[0]], y=[b_qnw[0]],z=[c_qnw[0]], marker=dict(\n",
        "        size=7,\n",
        "        color=\"black\"\n",
        "    ), name=\"Quantum Newton Gradient\" ))\n",
        "\n",
        "for trace in fig['data']: \n",
        "    if(trace['name'] is None): trace['showlegend'] = False\n",
        "\n",
        "\n",
        "fig.update_layout(title='Max-Cut Cost Funtion', autosize=False,\n",
        "    width=1000,\n",
        "    height=1000)\n",
        "\n",
        "fig.show()\n"
      ]
    },
    {
      "cell_type": "markdown",
      "metadata": {
        "id": "JLMwDDYwA9-X"
      },
      "source": [
        "## Fixed the number of gate"
      ]
    },
    {
      "cell_type": "code",
      "execution_count": null,
      "metadata": {
        "cellView": "form",
        "id": "yd5M_Ov69PD0",
        "colab": {
          "base_uri": "https://localhost:8080/",
          "height": 717
        },
        "outputId": "ef460239-ad73-42ea-9da3-f51e6819fd89"
      },
      "outputs": [
        {
          "output_type": "display_data",
          "data": {
            "text/html": [
              "<html>\n",
              "<head><meta charset=\"utf-8\" /></head>\n",
              "<body>\n",
              "    <div>            <script src=\"https://cdnjs.cloudflare.com/ajax/libs/mathjax/2.7.5/MathJax.js?config=TeX-AMS-MML_SVG\"></script><script type=\"text/javascript\">if (window.MathJax) {MathJax.Hub.Config({SVG: {font: \"STIX-Web\"}});}</script>                <script type=\"text/javascript\">window.PlotlyConfig = {MathJaxConfig: 'local'};</script>\n",
              "        <script src=\"https://cdn.plot.ly/plotly-2.8.3.min.js\"></script>                <div id=\"5da3377a-8b02-4fcd-860e-da49d11c1051\" class=\"plotly-graph-div\" style=\"height:700px; width:1000px;\"></div>            <script type=\"text/javascript\">                                    window.PLOTLYENV=window.PLOTLYENV || {};                                    if (document.getElementById(\"5da3377a-8b02-4fcd-860e-da49d11c1051\")) {                    Plotly.newPlot(                        \"5da3377a-8b02-4fcd-860e-da49d11c1051\",                        [{\"line\":{\"color\":\"red\",\"width\":2},\"name\":\"Discrete Parameter Shift\",\"showlegend\":true,\"x\":[0,1,2,3,4,5,6,7,8,9,10,11,12,13,14,15,16,17,18,19,20,21,22,23,24,25,26,27,28,29,30,31,32,33,34,35,36,37,38,39,40,41,42,43,44,45,46,47,48,49,50,51,52,53,54,55,56,57,58,59,60,61,62,63,64,65,66,67,68,69,70,71,72,73,74,75,76,77,78,79,80,81,82,83,84,85,86,87,88,89,90,91,92,93,94,95,96,97,98,99,100],\"y\":[-1.7157690662825986,-2.051119799084176,-2.290644077504114,-2.4661013305281636,-2.5948855638591035,-2.6906772023390944,-2.763360802011182,-2.819657269676334,-2.8641078165286906,-2.899858098005793,-2.9291643284227327,-2.9537000995367784,-2.974746431797242,-2.9933169608647505,-3.0102435532035132,-3.0262327767827206,-3.04189756454776,-3.0577674236322605,-3.074282563847091,-3.0917805068513635,-3.110485276521761,-3.130506681080059,-3.151851031302419,-3.1744383593495176,-3.1981182213954114,-3.2226781509767575,-3.2478452385982406,-3.273288023706489,-3.298626713863334,-3.3234537390151604,-3.347360429775007,-3.3699643048933994,-3.390933339242668,-3.410005307961579,-3.427001035853091,-3.44183074501619,-3.454493168273907,-3.465067767833469,-3.4737011677958654,-3.4805896033222323,-3.4859596197738307,-3.4900492950843263,-3.493091905994267,-3.4953033297691354,-3.4968737386312156,-3.4979634638831096,-3.498702392458203,-3.4991919653323884,-3.499508775774827,-3.4997088721445837,-3.4998320840558645,-3.4999059373849413,-3.4999489443675014,-3.499973218293912,-3.4999864619526067,-3.4999934258228076,-3.499996943531163,-3.4999986445528033,-3.499999428948514,-3.49999977208024,-3.4999999050087087,-3.499999710699787,-3.499992175075939,-3.4997768720373164,-3.499221338430715,-3.4998194730510077,-3.4999668391872,-3.4999923137279634,-3.499997630879002,-3.4999990363031457,-3.499999477677015,-3.49999952742857,-3.4999985405514145,-3.4999879960550855,-3.499868212929818,-3.498600972549048,-3.495071832049791,-3.4975951745623126,-3.4992612159079113,-3.498883454064203,-3.494234384832931,-3.495504933719925,-3.4983555461143587,-3.499352794102528,-3.499724442585001,-3.4998610251052136,-3.499910045336482,-3.4999182550939683,-3.4998927263855384,-3.4998056004016824,-3.4995667819486367,-3.4990062767622607,-3.4982238867857984,-3.49800933560122,-3.4982656296177765,-3.498133044085393,-3.497632963586462,-3.4974968001187703,-3.4981564498111437,-3.498834982183323,-3.4992573417649266],\"type\":\"scatter\",\"xaxis\":\"x\",\"yaxis\":\"y\"},{\"line\":{\"color\":\"green\",\"width\":2},\"mode\":\"lines\",\"name\":\"Discrete Finite Difference\",\"showlegend\":true,\"x\":[0,1,2,3,4,5,6,7,8,9,10,11,12,13,14,15,16,17,18,19,20,21,22,23,24,25,26,27,28,29,30,31,32,33,34,35,36,37,38,39,40,41,42,43,44,45,46,47,48,49,50,51,52,53,54,55,56,57,58,59,60,61,62,63,64,65,66,67,68,69,70,71,72,73,74,75,76,77,78,79,80,81,82,83,84,85,86,87,88,89,90,91,92,93,94,95,96,97,98,99,100],\"y\":[-1.7157690662825986,-2.0511197990655163,-2.2906440774790457,-2.4661013305035846,-2.5948855638377553,-2.6906772023214716,-2.763360801996983,-2.8196572696651305,-2.864107816520092,-2.8998580979994566,-2.929164328418348,-2.9537000995340623,-2.974746431795929,-2.9933169608645764,-3.010243553204207,-3.026232776783993,-3.0418975645493136,-3.057767423633802,-3.074282563848372,-3.0917805068522055,-3.110485276522078,-3.1305066810798614,-3.151851031301779,-3.1744383593485193,-3.1981182213941084,-3.222678150975156,-3.2478452385963124,-3.273288023704199,-3.298626713860676,-3.3234537390121606,-3.3473604297717254,-3.369964304889916,-3.3909333392390777,-3.4100053079579795,-3.42700103584958,-3.441830745012858,-3.454493168270827,-3.465067767830698,-3.473701167793435,-3.4805896033201575,-3.4859596197721077,-3.490049295082931,-3.4930919059931687,-3.4953033297682965,-3.496873738630592,-3.4979634638826598,-3.498702392457888,-3.4991919653321744,-3.499508775774687,-3.499708872144493,-3.49983208405581,-3.4999059373849075,-3.4999489443674814,-3.4999732182939,-3.4999864619526013,-3.4999934258228054,-3.499996943531161,-3.499998644552779,-3.4999994289480956,-3.499999772071556,-3.499999904803955,-3.499999705224555,-3.499992011107205,-3.499773006169307,-3.4992254233849485,-3.499820166808896,-3.4999668553580343,-3.4999922940082047,-3.499997618389516,-3.49999902885863,-3.499999472443152,-3.4999995217653463,-3.4999985226496886,-3.499987852826218,-3.4998666801307388,-3.498587828339576,-3.4950704387060596,-3.4976061994638235,-3.4992642594111683,-3.4988835449875393,-3.494230341863282,-3.4955050363374527,-3.4983585894237725,-3.499355635107881,-3.4997259474055697,-3.4998616025494287,-3.4999102146679637,-3.4999182263728312,-3.4998925125275155,-3.4998050172075628,-3.499565282911668,-3.49900314074881,-3.49822080831855,-3.498009054640211,-3.4982651205406117,-3.49813050635327,-3.497631779805959,-3.497499878702194,-3.498160565840464,-3.498837593193588,-3.4992584467771146],\"type\":\"scatter\",\"xaxis\":\"x\",\"yaxis\":\"y\"},{\"line\":{\"color\":\"yellow\",\"width\":2},\"mode\":\"lines\",\"name\":\"Discrete LCU\",\"showlegend\":true,\"x\":[0,1,2,3,4,5,6,7,8,9,10,11,12,13,14,15,16,17,18,19,20,21,22,23,24,25,26,27,28,29,30,31,32,33,34,35,36,37,38,39,40,41,42,43,44,45,46,47,48,49,50,51,52,53,54,55,56,57,58,59,60,61,62,63,64,65,66,67,68,69,70,71,72,73,74,75,76,77,78,79,80,81,82,83,84,85,86,87,88,89,90,91,92,93,94,95,96,97,98,99,100],\"y\":[-1.7157690662825986,-2.0511197990841765,-2.290644077504114,-2.466101330528163,-2.5948855638591035,-2.690677202339095,-2.7633608020111824,-2.819657269676335,-2.8641078165286906,-2.8998580980057933,-2.929164328422733,-2.9537000995367784,-2.974746431797242,-2.9933169608647505,-3.0102435532035132,-3.0262327767827206,-3.0418975645477597,-3.0577674236322605,-3.074282563847091,-3.0917805068513644,-3.110485276521761,-3.1305066810800595,-3.15185103130242,-3.174438359349518,-3.198118221395412,-3.2226781509767575,-3.2478452385982406,-3.273288023706489,-3.298626713863334,-3.323453739015161,-3.3473604297750073,-3.3699643048934,-3.390933339242668,-3.410005307961579,-3.427001035853092,-3.4418307450161914,-3.454493168273906,-3.465067767833469,-3.4737011677958645,-3.4805896033222337,-3.485959619773831,-3.4900492950843267,-3.493091905994266,-3.495303329769136,-3.4968737386312148,-3.49796346388311,-3.4987023924582035,-3.499191965332389,-3.4995087757748276,-3.4997088721445833,-3.499832084055865,-3.4999059373849417,-3.4999489443675014,-3.4999732182939116,-3.4999864619526067,-3.4999934258228085,-3.4999969435311655,-3.4999986445528037,-3.499999428948523,-3.499999772080421,-3.499999905012979,-3.4999997108139964,-3.4999921784966532,-3.4997769529904694,-3.4992212531821223,-3.4998194584629583,-3.499966838823484,-3.4999923141311484,-3.4999976311361056,-3.4999990364565954,-3.4999994777849737,-3.4999995275458335,-3.4999985409251586,-3.4999879990550795,-3.4998682450580616,-3.4986012487065055,-3.4950718639187284,-3.497594941398123,-3.4992611496843877,-3.4988834151915387,-3.4942344249078294,-3.4955049825719247,-3.498355497357801,-3.4993527392694164,-3.4997244126315796,-3.4998610137825743,-3.499910042331245,-3.4999182562712163,-3.4998927317561117,-3.499805614428932,-3.4995668174103725,-3.499006349922033,-3.4982239567488085,-3.4980093390252187,-3.4982656384239386,-3.498133101802169,-3.497632994843941,-3.4974967302440265,-3.498156351345207,-3.498834920339288,-3.499257316421824],\"type\":\"scatter\",\"xaxis\":\"x\",\"yaxis\":\"y\"},{\"line\":{\"color\":\"blue\",\"width\":2},\"mode\":\"lines\",\"name\":\"Discrete QNG\",\"showlegend\":true,\"x\":[0,1,2,3,4,5,6,7,8,9,10,11,12,13,14,15,16,17,18,19,20,21,22,23,24,25,26,27,28,29,30,31,32,33,34,35,36,37,38,39,40,41,42,43,44,45,46,47,48,49,50,51,52,53,54,55,56,57,58,59,60,61,62,63,64,65,66,67,68,69,70,71,72,73,74,75,76,77,78,79,80,81,82,83,84,85,86,87,88,89,90,91,92,93,94,95,96,97,98,99,100],\"y\":[-1.7157690662825986,-2.051120326605837,-2.295633957018798,-2.4760417807991257,-2.6084708805520433,-2.706357044936421,-2.7797413570818827,-2.8356874371064476,-2.8791322469359915,-2.91358339845476,-2.941589289072147,-2.965045947374966,-2.985400339043073,-3.003782852902307,-3.021087135602931,-3.0380137901866804,-3.0550949708377115,-3.0727117832961026,-3.0911102465028137,-3.1104205808179564,-3.1306831943918425,-3.1518782228428908,-3.173949665869127,-3.1968157549582212,-3.2203633081863647,-3.244431912783819,-3.268799576682063,-3.293180652479959,-3.317239340747518,-3.3406141548847734,-3.3629460160970703,-3.383904514502693,-3.4032096548998467,-3.4206480762125313,-3.436083322172964,-3.4494599092977603,-3.4608011644047565,-3.4702012451000916,-3.477812340913041,-3.483828603043696,-3.4884686940167144,-3.4919588873994325,-3.494518381253854,-3.496347992345412,-3.497622785440976,-3.4984885840163216,-3.499061810692656,-3.4994317909069412,-3.4996645490158613,-3.499807209011387,-3.4998923193778393,-3.499941675034855,-3.4999694415464955,-3.4999845583592792,-3.499992499187921,-3.49999651026776,-3.4999984511554345,-3.4999993470897643,-3.499999739839802,-3.4999999025291935,-3.4999999658162944,-3.49999998760292,-3.499999959633924,-3.4999988034089484,-3.499957642143945,-3.4992645064687933,-3.499674658479657,-3.4999311216199462,-3.4999837056923986,-3.4999950154531416,-3.499998007338596,-3.499998971821837,-3.4999993255322366,-3.4999994452479024,-3.4999994340905163,-3.499999285123236,-3.4999988336085472,-3.4999969875820236,-3.4999828407596585,-3.4998170148862555,-3.4982100569540497,-3.4960134685482975,-3.497542908004718,-3.4957289892229664,-3.4957116947701414,-3.496856349681999,-3.4977093694685064,-3.4993110742047664,-3.4997811575773636,-3.4998994773508416,-3.4999293432034158,-3.499928236487403,-3.4999020854310903,-3.4998332720178693,-3.499666579096801,-3.4992905281286584,-3.4986428768365556,-3.4981159864748648,-3.497987538660953,-3.4977847388931473,-3.497628532224952],\"type\":\"scatter\",\"xaxis\":\"x\",\"yaxis\":\"y\"},{\"line\":{\"color\":\"brown\",\"width\":2},\"mode\":\"lines\",\"name\":\"Discrete Newton Gradient\",\"showlegend\":true,\"x\":[0,1,2,3,4,5,6,7,8,9,10,11,12,13,14,15,16,17,18,19,20,21,22,23,24,25,26,27,28,29,30,31,32,33,34,35,36,37,38,39,40,41,42,43,44,45,46,47,48,49,50,51,52,53,54,55,56,57,58,59,60,61,62,63,64,65,66,67,68,69,70,71,72,73,74,75,76,77,78,79,80,81,82,83,84,85,86,87,88,89,90,91,92,93,94,95,96,97,98,99,100],\"y\":[-1.7157690662825986,-2.0084183344208353,-2.2152955081025114,-2.3743404733916273,-2.500766365487327,-2.6051063364170877,-2.694057849131726,-2.7716315693791787,-2.840418416894606,-2.9021447887884104,-2.9579848119884398,-3.008755258773607,-3.055068158504265,-3.0974236097734216,-3.1362581106418506,-3.1719485601975594,-3.204821645363577,-3.235128427187127,-3.263096531723908,-3.2888176794707813,-3.312565537033714,-3.3339264727917373,-3.353975106019545,-3.3706513989931226,-3.3881216450095484,-3.401638725795967,-3.415427751472305,-3.4263516825528555,-3.436919964112218,-3.445545094120772,-3.453613251526142,-3.460275594269467,-3.466415585040944,-3.471463407601603,-3.4760965526747603,-3.479835495217861,-3.483276259942185,-3.485996463546639,-3.4885318413928257,-3.490549069149661,-3.4924112204675284,-3.493883682593741,-3.4951777768404444,-3.4961859042600607,-3.4970384323098624,-3.497691844638186,-3.4982256934869693,-3.4986209206137504,-3.498928484930263,-3.499141745011851,-3.499297969900341,-3.499401945407441,-3.4994818003310204,-3.4995421437118055,-3.4995923546071666,-3.499628748030021,-3.4996515587280292,-3.4996588469685723,-3.499651721698177,-3.499631323109172,-3.499600665028997,-3.4995640884497377,-3.4995276926412275,-3.499497869871688,-3.4994793969028795,-3.4994736994752422,-3.499478733882299,-3.4994901961334617,-3.4995031974981528,-3.499513579286866,-3.4995185903242203,-3.4995170208002127,-3.499509065186449,-3.4994961179523116,-3.499480527753035,-3.499465207673807,-3.4994530217761515,-3.4994460082687184,-3.499444490326208,-3.4994450128398964,-3.49942910176722,-3.499315466103524,-3.4991064727908237,-3.49923860434919,-3.4993957027419365,-3.499453992709955,-3.499467696071591,-3.499432651453098,-3.4987782795160434,-3.4940876674815566,-3.4943064276796165,-3.496953581566499,-3.4987216540223907,-3.4992306659060017,-3.49936148996772,-3.4993858871568078,-3.4993606535033983,-3.4993195972256217,-3.4993152637037563,-3.4993481808452254,-3.499373634762126],\"type\":\"scatter\",\"xaxis\":\"x\",\"yaxis\":\"y\"},{\"line\":{\"color\":\"red\",\"width\":2},\"name\":\"Discrete Parameter Shift\",\"showlegend\":false,\"x\":[0,1,2,3,4,5,6,7,8,9,10,11,12,13,14,15,16,17,18,19,20,21,22,23,24,25,26,27,28,29,30,31,32,33,34,35,36,37,38,39,40,41,42,43,44,45,46,47,48,49,50,51,52,53,54,55,56,57,58,59,60,61,62,63,64,65,66,67,68,69,70,71,72,73,74,75,76,77,78,79,80,81,82,83,84,85,86,87,88,89,90,91,92,93,94,95,96,97,98,99,100],\"y\":[0.12889348725706018,-0.4168687926735446,-0.7771455274134362,-1.0369850095030708,-1.2431085080247322,-1.4119642834044772,-1.5524527594786655,-1.6717035858125135,-1.774800777346583,-1.8648125146115881,-1.9436210168287227,-2.012615927031013,-2.0729576754591927,-2.125647257587977,-2.1715687039329037,-2.211525557955814,-2.2462593611768784,-2.2764515324131094,-2.3027184192767938,-2.3256072181514473,-2.3455956738324684,-2.3630953704474233,-2.3784573886680573,-2.391979154404402,-2.403911641552928,-2.414466375120289,-2.42382187588641,-2.4321293339759107,-2.4395174269415625,-2.446096269593373,-2.451960288421571,-2.457186897534336,-2.4617922114232837,-2.465221058820094,-2.4657354547384216,-2.4696417620373996,-2.4748755965797695,-2.4783498212807715,-2.4807576253745487,-2.481954685214023,-2.4835428645022444,-2.4847686330099665,-2.4856388215156415,-2.488149206479562,-2.490391025916701,-2.4919008305026,-2.4930008106586006,-2.4938289995476888,-2.494356416055896,-2.4944965477683323,-2.4945156723843653,-2.4950687346077727,-2.49579820326309,-2.4952178986134124,-2.493556380681452,-2.4949387813111032,-2.4961800907475133,-2.496642503696591,-2.497205429150391,-2.4978799636380735,-2.4983965311382663,-2.498665919375898,-2.4987177508751683,-2.498613979919882,-2.4984848709313314,-2.4983948803004266,-2.498175356221064,-2.496830828758197,-2.4936375329152902,-2.4925415050512982,-2.4947856849372423,-2.496396633008798,-2.4974571454437178,-2.498011513591089,-2.498387507633924,-2.4984651090145915,-2.4983465046557045,-2.4981643292228273,-2.498365941854529,-2.498202347501224,-2.497995053770575,-2.497329600792821,-2.4965815228391324,-2.4956522792910136,-2.4956652942454216,-2.496178386970217,-2.4970404077679866,-2.4975943628938864,-2.4980505073217785,-2.4982115335809034,-2.4983567127178126,-2.4982525660172783,-2.498286718327181,-2.4980937311104006,-2.4980832050993658,-2.4977511912597916,-2.4976274122664903,-2.4973712792075586,-2.4975079343826216,-2.497699474959757,-2.4981518701378995],\"type\":\"scatter\",\"xaxis\":\"x2\",\"yaxis\":\"y2\"},{\"line\":{\"color\":\"green\",\"width\":2},\"mode\":\"lines\",\"name\":\"Discrete Finite Difference\",\"showlegend\":false,\"x\":[0,1,2,3,4,5,6,7,8,9,10,11,12,13,14,15,16,17,18,19,20,21,22,23,24,25,26,27,28,29,30,31,32,33,34,35,36,37,38,39,40,41,42,43,44,45,46,47,48,49,50,51,52,53,54,55,56,57,58,59,60,61,62,63,64,65,66,67,68,69,70,71,72,73,74,75,76,77,78,79,80,81,82,83,84,85,86,87,88,89,90,91,92,93,94,95,96,97,98,99,100],\"y\":[0.12889348725706018,-0.41686879260949605,-0.777145527342658,-1.0369850094610598,-1.2431085080083624,-1.4119642834062505,-1.552452759493466,-1.67170358583658,-1.77480077737658,-1.8648125146446737,-1.9436210168628136,-2.012615927064562,-2.0729576754909345,-2.125647257616863,-2.1715687039581515,-2.211525557976998,-2.246259361193912,-2.2764515324262087,-2.3027184192863888,-2.3256072181580745,-2.345595673836723,-2.363095370449874,-2.378457388669202,-2.3919791544046514,-2.4039116415525994,-2.4144663751196167,-2.4238218758855528,-2.432129333974983,-2.4395174269406263,-2.4460962695923874,-2.4519602884197713,-2.457186897523724,-2.4617922113137856,-2.465221057767891,-2.465735453299682,-2.469641763656167,-2.4748755973778547,-2.4783498214591875,-2.4807576250905865,-2.481954684441206,-2.4835428647427995,-2.484768632392617,-2.485638821916443,-2.4881492073178544,-2.490391026282576,-2.49190083060798,-2.4930008106495594,-2.49382899943869,-2.4943564157836664,-2.4944965473276723,-2.4945156721723647,-2.495068734894935,-2.495798203801731,-2.4952178996776557,-2.4935563805250736,-2.494938780097757,-2.496180090055664,-2.49664250363603,-2.497205429485586,-2.4978799639807954,-2.4983965313232877,-2.4986659194069567,-2.49871775079022,-2.4986139797904197,-2.4984848708588396,-2.498394880343333,-2.498175356081264,-2.496830826460716,-2.4936375298383986,-2.4925415077028745,-2.4947856871708844,-2.496396633742201,-2.4974571457312194,-2.498011513743708,-2.498387507711399,-2.4984651090917653,-2.4983465047029734,-2.4981643289648097,-2.4983659416105763,-2.498202347242165,-2.4979950533552584,-2.497329600053197,-2.496581521740004,-2.4956522786026443,-2.4956652946271483,-2.496178387813444,-2.4970404084939695,-2.4975943633016606,-2.498050507520672,-2.498211533644507,-2.4983567126904234,-2.4982525659337327,-2.4982867181075985,-2.4980937307801447,-2.498083204666368,-2.497751190745434,-2.497627411728071,-2.497371278820399,-2.497507934264767,-2.4976994750361547,-2.4981518702962044],\"type\":\"scatter\",\"xaxis\":\"x2\",\"yaxis\":\"y2\"},{\"line\":{\"color\":\"yellow\",\"width\":2},\"mode\":\"lines\",\"name\":\"Discrete LCU\",\"showlegend\":false,\"x\":[0,1,2,3,4,5,6,7,8,9,10,11,12,13,14,15,16,17,18,19,20,21,22,23,24,25,26,27,28,29,30,31,32,33,34,35,36,37,38,39,40,41,42,43,44,45,46,47,48,49,50,51,52,53,54,55,56,57,58,59,60,61,62,63,64,65,66,67,68,69,70,71,72,73,74,75,76,77,78,79,80,81,82,83,84,85,86,87,88,89,90,91,92,93,94,95,96,97,98,99,100],\"y\":[0.12889348725706018,-0.4168687926735457,-0.7771455274134369,-1.0369850095030713,-1.2431085080247315,-1.4119642834044799,-1.552452759478665,-1.6717035858125118,-1.7748007773465857,-1.8648125146115864,-1.943621016828725,-2.0126159270310113,-2.072957675459192,-2.1256472575879757,-2.1715687039329037,-2.211525557955814,-2.2462593611768766,-2.2764515324131116,-2.3027184192767955,-2.325607218151446,-2.345595673832467,-2.363095370447422,-2.3784573886680573,-2.3919791544044027,-2.4039116415529307,-2.41446637512029,-2.423821875886408,-2.4321293339759107,-2.439517426941563,-2.4460962695933715,-2.451960288421564,-2.4571868975342794,-2.461792211422654,-2.465221058813982,-2.465735454730042,-2.4696417620468107,-2.4748755965844134,-2.4783498212818142,-2.4807576253729287,-2.481954685209585,-2.48354286450355,-2.4847686330062384,-2.485638821517953,-2.4881492064844917,-2.4903910259188553,-2.4919008305032193,-2.4930008106585464,-2.4938289995470466,-2.494356416054307,-2.4944965477657552,-2.4945156723831174,-2.495068734609433,-2.4957982032661907,-2.495217898619476,-2.4935563806805234,-2.494938781304135,-2.4961800907435054,-2.4966425036962216,-2.497205429152333,-2.4978799636400706,-2.498396531139348,-2.4986659193760805,-2.4987177508746674,-2.4986139799191225,-2.4984848709308904,-2.498394880300625,-2.498175356220068,-2.496830828744339,-2.493637532896898,-2.492541505067203,-2.494785684950646,-2.496396633013254,-2.497457145445449,-2.4980115135919925,-2.4983875076343582,-2.4984651090149153,-2.4983465046557662,-2.498164329221434,-2.4983659418531703,-2.4982023474996877,-2.497995053768041,-2.49732960078832,-2.496581522832534,-2.4956522792869142,-2.4956652942477255,-2.496178386975301,-2.497040407772337,-2.497594362896324,-2.4980505073229478,-2.498211533581231,-2.4983567127175776,-2.498252566016667,-2.498286718325844,-2.4980937311084435,-2.498083205096781,-2.4977511912567096,-2.4976274122632605,-2.497371279205248,-2.497507934381917,-2.4976994749602253,-2.498151870138848],\"type\":\"scatter\",\"xaxis\":\"x2\",\"yaxis\":\"y2\"},{\"line\":{\"color\":\"blue\",\"width\":2},\"mode\":\"lines\",\"name\":\"Discrete QNG\",\"showlegend\":false,\"x\":[0,1,2,3,4,5,6,7,8,9,10,11,12,13,14,15,16,17,18,19,20,21,22,23,24,25,26,27,28,29,30,31,32,33,34,35,36,37,38,39,40,41,42,43,44,45,46,47,48,49,50,51,52,53,54,55,56,57,58,59,60,61,62,63,64,65,66,67,68,69,70,71,72,73,74,75,76,77,78,79,80,81,82,83,84,85,86,87,88,89,90,91,92,93,94,95,96,97,98,99,100],\"y\":[0.12889348725706018,-0.4168705962235115,-0.7792375527797077,-1.0435819708996115,-1.253746662995231,-1.4264841992378523,-1.5711946483681145,-1.6952431825727983,-1.8033401409431922,-1.897936511581861,-1.9805167412601246,-2.052361305783033,-2.114688976147509,-2.168620430221154,-2.2151640450049843,-2.2552286528631367,-2.28963722241486,-2.3191340162634857,-2.3443882575864086,-2.365997276268209,-2.384489848476878,-2.4003295812538847,-2.4139184383936745,-2.4256008108543825,-2.4356684503441297,-2.4443662350175837,-2.451898412744108,-2.458434840064932,-2.4641167989038437,-2.4690621326958277,-2.4733696046625666,-2.4771224947870305,-2.480391505745593,-2.4832369753774937,-2.485709001478596,-2.487821342408301,-2.489114972097003,-2.487241924034303,-2.4889089018240282,-2.4926064030312953,-2.494480726782326,-2.494946268684986,-2.4939416853615755,-2.4960024546585364,-2.4972390589075832,-2.496911235278816,-2.4946498747388848,-2.496175145605247,-2.4981449580006965,-2.498910255019454,-2.4991573559754654,-2.4991010271542384,-2.498671819713855,-2.4979092713317534,-2.4968346089904028,-2.4947867151562053,-2.496121474816086,-2.497966596103739,-2.498379026329601,-2.4983575741628066,-2.498352631368925,-2.4981112756855315,-2.497799601835342,-2.497702902701815,-2.496569441514546,-2.4948666476294874,-2.4955242568515015,-2.496749440617116,-2.497301070152955,-2.497132261635456,-2.496542166052045,-2.4967774635494497,-2.4969671802007,-2.4974626354642386,-2.497586973525719,-2.4975794928757895,-2.497392944224769,-2.4970620653993048,-2.496504731614355,-2.495757075264767,-2.4959629359646924,-2.496222180423437,-2.4966672734378967,-2.496823219759389,-2.4968218491490135,-2.4969071930888638,-2.4969092898787566,-2.4971870679959816,-2.4971914509857234,-2.4972162274506644,-2.497089322229474,-2.4969002307484045,-2.4967324792302197,-2.496494883132551,-2.4965166965981465,-2.496496296360927,-2.4967444793194122,-2.496829768295808,-2.4969524924294033,-2.497053744278139,-2.497105551685903],\"type\":\"scatter\",\"xaxis\":\"x2\",\"yaxis\":\"y2\"},{\"line\":{\"color\":\"brown\",\"width\":2},\"mode\":\"lines\",\"name\":\"Discrete Newton Gradient\",\"showlegend\":false,\"x\":[0,1,2,3,4,5,6,7,8,9,10,11,12,13,14,15,16,17,18,19,20,21,22,23,24,25,26,27,28,29,30,31,32,33,34,35,36,37,38,39,40,41,42,43,44,45,46,47,48,49,50,51,52,53,54,55,56,57,58,59,60,61,62,63,64,65,66,67,68,69,70,71,72,73,74,75,76,77,78,79,80,81,82,83,84,85,86,87,88,89,90,91,92,93,94,95,96,97,98,99,100],\"y\":[0.12889348725706018,-0.3175900050170857,-0.5534436276305394,-0.7611589259625058,-0.9344704324097357,-1.084261257461397,-1.2146319543503823,-1.3299118732942543,-1.4324725549199733,-1.5247848117313332,-1.6081822472143674,-1.6842664845650077,-1.7537263571774506,-1.817746817709744,-1.8765246110223184,-1.9311042717293976,-1.9813341292751776,-2.028196972475561,-2.071471301066365,-2.111683471828785,-2.148831151554088,-2.1831378011561684,-2.2144058045113386,-2.2429574371748005,-2.270045588456862,-2.2947802457579334,-2.3176797078214335,-2.3388847564923694,-2.3579350534402748,-2.37509332259051,-2.390546881498643,-2.4044510231828795,-2.41677665964901,-2.427296625216533,-2.436669210719896,-2.446126995415444,-2.454425589694995,-2.4614443364614953,-2.467622271942531,-2.4732173464737626,-2.478234701193026,-2.4826519357092445,-2.48650130177427,-2.489849235802725,-2.4927583394466066,-2.495277229917175,-2.497428865422634,-2.499226194435049,-2.5007290781234413,-2.5021057594422684,-2.503477059711519,-2.5048091356628075,-2.5060557988286916,-2.507238197681125,-2.508370068882473,-2.5094824572183856,-2.510573491129369,-2.511681963980595,-2.5128077032622964,-2.5139981506016302,-2.5151529132339703,-2.516310183868681,-2.5180803220810337,-2.5201775389570393,-2.5223624277774124,-2.5246891890492447,-2.5271080292783124,-2.5306690601525212,-2.5352617218787232,-2.5407072002790803,-2.54698725033299,-2.5544133373531768,-2.5631830966470903,-2.5737030064933313,-2.5862305838099755,-2.601198222307928,-2.6187657911704276,-2.639230745792102,-2.6624306775430813,-2.688205979322725,-2.7155528899185213,-2.744011069872541,-2.7706828106357895,-2.7979766920200757,-2.8229740079156693,-2.8470719689922013,-2.8677793944035614,-2.886536583989429,-2.9029378358125144,-2.917409570225722,-2.929952554786625,-2.940852070751974,-2.9501985940123507,-2.9583629952047925,-2.9655331352047023,-2.9718485254954374,-2.977183736255758,-2.9815499231377784,-2.984963265867364,-2.987682234497993,-2.990064282539325],\"type\":\"scatter\",\"xaxis\":\"x2\",\"yaxis\":\"y2\"},{\"line\":{\"color\":\"red\",\"width\":2},\"name\":\"Discrete Parameter Shift\",\"showlegend\":false,\"x\":[0,1,2,3,4,5,6,7,8,9,10,11,12,13,14,15,16,17,18,19,20,21,22,23,24,25,26,27,28,29,30,31,32,33,34,35,36,37,38,39,40,41,42,43,44,45,46,47,48,49,50,51,52,53,54,55,56,57,58,59,60,61,62,63,64,65,66,67,68,69,70,71,72,73,74,75,76,77,78,79,80,81,82,83,84,85,86,87,88,89,90,91,92,93,94,95,96,97,98,99,100],\"y\":[667294.3136674128,590816.9320464747,536385.8770831653,495208.6977756712,464486.69945522666,441487.53268793324,423935.0302180716,410094.42027389666,398714.6665824953,388907.62986581156,380039.14750654984,371660.0046987962,363476.8778309077,355347.36338611896,347272.3252545492,339362.08026915503,331774.9942548792,324650.5993301689,318063.6694612547,312011.3470275407,306427.8409051483,301212.05578300514,296254.31282593537,291454.6121267537,286731.4477722348,282023.99260837724,277291.1540428143,272509.78437778924,267672.75801138,262786.7282979205,257869.31339366946,252945.81442200052,248045.8830081764,243200.62673606985,238440.49612600257,233794.05365577724,229287.4971713259,224944.66545338806,220787.215130225,216834.71322876384,213104.50375085504,209611.33489977353,206366.8349342359,203378.97470943746,200651.65165401978,198184.4891653342,195972.8905293899,194008.33736689325,192278.8895037576,190769.82672189403,189464.36864009284,188344.4124956912,187391.23738700664,186586.136111548,185910.94984057784,185348.49353219778,184882.86918597744,184499.66990693286,184186.0819345332,183930.89586394624,183724.44258928957,183558.47322430683,183426.0042248636,183321.14837083966,183238.9491518024,183175.23114956002,183126.4733400612,183089.7069892923,183062.4358390101,183042.57395678904,183028.3959026857,183018.4943705122,183011.74169006565,183007.25304339005,183004.35058668547,183002.52866457182,183001.4208795093,183000.76996474463,183000.4012946062,183000.20056700206,183000.09582436603,183000.04371978441,183000.0235420607,183000.22585810116,183011.1260504541,183260.96553984995,183091.399316739,183017.49603533238,183003.93565341685,183001.16365613352,183000.45272810874,183000.22820724687,183000.14661406563,183000.1183035259,183000.11837291514,183000.14524665114,183000.2163997845,183000.38791188417,183000.8305600079,183002.185546441,183011.1388646388],\"type\":\"scatter\",\"xaxis\":\"x3\",\"yaxis\":\"y3\"},{\"line\":{\"color\":\"green\",\"width\":2},\"mode\":\"lines\",\"name\":\"Discrete Finite Difference\",\"showlegend\":false,\"x\":[0,1,2,3,4,5,6,7,8,9,10,11,12,13,14,15,16,17,18,19,20,21,22,23,24,25,26,27,28,29,30,31,32,33,34,35,36,37,38,39,40,41,42,43,44,45,46,47,48,49,50,51,52,53,54,55,56,57,58,59,60,61,62,63,64,65,66,67,68,69,70,71,72,73,74,75,76,77,78,79,80,81,82,83,84,85,86,87,88,89,90,91,92,93,94,95,96,97,98,99,100],\"y\":[667294.3136674128,590816.9320464747,536385.8770831669,495208.6977756733,464486.6994552281,441487.53268793493,423935.0302180724,410094.4202738976,398714.66658249596,388907.62986581185,380039.1475065496,371660.00469879544,363476.8778309062,355347.3633861171,347272.325254547,339362.0802691529,331774.9942548778,324650.59933016746,318063.6694612538,312011.34702754056,306427.84090514854,301212.0557830051,296254.31282593514,291454.61212675384,286731.4477722351,282023.9926083782,277291.15404281556,272509.78437779075,267672.7580113824,262786.7282979231,257869.3133936717,252945.8144220035,248045.88300817963,243200.62673607215,238440.49612600481,233794.05365578015,229287.4971713284,224944.66545339092,220787.2151302278,216834.71322876733,213104.50375085883,209611.33489977743,206366.83493423992,203378.97470944066,200651.65165402408,198184.48916533834,195972.89052939403,194008.3373668965,192278.88950375962,190769.82672189584,189464.36864009482,188344.41249569284,187391.23738700774,186586.13611154887,185910.94984057854,185348.49353219877,184882.8691859785,184499.6699069332,184186.08193453302,183930.89586394618,183724.4425892901,183558.47322430706,183426.004224864,183321.14837083966,183238.94915180234,183175.23114955984,183126.47334006103,183089.706989293,183062.43583900994,183042.57395678945,183028.39590268576,183018.49437051232,183011.7416900659,183007.25304339005,183004.35058668547,183002.52866457182,183001.4208795097,183000.76996474754,183000.40129467688,183000.2005689912,183000.0958881526,183000.04603424418,183000.11842642154,183004.57276922092,183155.8944527632,183170.10208563425,183039.51245253667,183008.5782633174,183002.3506556293,183000.84363379824,183000.3932423236,183000.23449729953,183000.17627045605,183000.16484510188,183000.18958859355,183000.26550095546,183000.45141763584,183001.02335922798,183006.6905877015,183138.4325095312,183252.49390157545],\"type\":\"scatter\",\"xaxis\":\"x3\",\"yaxis\":\"y3\"},{\"line\":{\"color\":\"yellow\",\"width\":2},\"mode\":\"lines\",\"name\":\"Discrete LCU\",\"showlegend\":false,\"x\":[0,1,2,3,4,5,6,7,8,9,10,11,12,13,14,15,16,17,18,19,20,21,22,23,24,25,26,27,28,29,30,31,32,33,34,35,36,37,38,39,40,41,42,43,44,45,46,47,48,49,50,51,52,53,54,55,56,57,58,59,60,61,62,63,64,65,66,67,68,69,70,71,72,73,74,75,76,77,78,79,80,81,82,83,84,85,86,87,88,89,90,91,92,93,94,95,96,97,98,99,100],\"y\":[667294.3136674128,590816.9320464747,536385.8770831655,495208.6977756712,464486.6994552268,441487.5326879333,423935.0302180715,410094.42027389666,398714.66658249556,388907.62986581156,380039.1475065498,371660.0046987962,363476.8778309077,355347.36338611896,347272.3252545493,339362.080269155,331774.9942548792,324650.5993301688,318063.6694612548,312011.34702754073,306427.8409051482,301212.05578300543,296254.3128259354,291454.61212675355,286731.4477722349,282023.9926083775,277291.15404281416,272509.78437778924,267672.75801138,262786.72829792043,257869.31339366932,252945.81442200075,248045.8830081766,243200.62673606985,238440.4961260024,233794.05365577742,229287.4971713263,224944.66545338806,220787.21513022511,216834.71322876384,213104.50375085528,209611.33489977365,206366.83493423642,203378.97470943735,200651.65165401995,198184.4891653345,195972.89052939008,194008.3373668932,192278.88950375764,190769.82672189397,189464.36864009302,188344.41249569127,187391.2373870067,186586.13611154794,185910.94984057755,185348.49353219796,184882.86918597802,184499.66990693344,184186.08193453285,183930.89586394653,183724.44258928933,183558.4732243066,183426.00422486372,183321.14837084006,183238.94915180258,183175.23114956048,183126.47334006114,183089.7069892923,183062.43583901023,183042.5739567895,183028.39590268594,183018.49437051202,183011.7416900657,183007.2530433897,183004.35058668564,183002.52866457158,183001.4208795093,183000.76996474463,183000.4012946029,183000.20056690444,183000.0958212267,183000.04360589536,183000.01887199568,183000.00975987606,183000.11155726202,183006.30882394372,183219.44648369623,183121.62161741505,183026.06561265595,183005.9811965922,183001.7657855446,183000.6820648188,183000.34075704613,183000.21685978438,183000.17330497527,183000.1717255382,183000.2086374521,183000.3076988794,183000.54647579067,183001.19748168474,183005.17231672612],\"type\":\"scatter\",\"xaxis\":\"x3\",\"yaxis\":\"y3\"},{\"line\":{\"color\":\"blue\",\"width\":2},\"mode\":\"lines\",\"name\":\"Discrete QNG\",\"showlegend\":false,\"x\":[0,1,2,3,4,5,6,7,8,9,10,11,12,13,14,15,16,17,18,19,20,21,22,23,24,25,26,27,28,29,30,31,32,33,34,35,36,37,38,39,40,41,42,43,44,45,46,47,48,49,50,51,52,53,54,55,56,57,58,59,60,61,62,63,64,65,66,67,68,69,70,71,72,73,74,75,76,77,78,79,80,81,82,83,84,85,86,87,88,89,90,91,92,93,94,95,96,97,98,99,100],\"y\":[667294.3136674128,590816.9320464748,536159.3454613853,494693.8971060587,463780.0211995082,440698.29234462196,423138.6286967356,409330.8493990171,397997.80794408266,388232.4780706798,379384.9358120728,370993.92724910675,362763.77877544775,354564.96721186425,346423.83927738754,338477.3824080888,330899.9585925425,323832.3893585724,317340.59279167384,311410.7826805592,305970.3310214543,300917.073000291,296143.67781515664,291551.86772656336,287058.03163515433,282594.40401291545,278109.2363730357,273567.4479861775,268951.5835884903,264262.0531339132,259515.64193312312,254741.94042773568,249978.20837806913,245263.7902750947,240635.29026555215,236123.3568269337,231751.36980258062,227535.81461546273,223487.8085437409,219615.13605980022,215924.2125334498,212421.56261122262,209114.6047657348,206011.7214514917,203121.73039410845,200452.94762190885,198012.0581375279,195803.00417772814,193826.07682532538,192077.35694492445,190548.59340991767,189227.532243299,188098.6317201794,187144.0350596484,186344.64141616365,185681.1238650743,185134.78247431357,184688.17425503768,184325.5115841542,184032.85500639578,183798.14294688002,183611.10428938642,183463.09619948815,183346.90332357533,183256.52732775372,183186.98800419184,183134.14914460928,183094.57479756023,183065.41534973437,183044.31880703778,183029.36085238756,183018.98734603595,183011.96423092682,183007.3315948904,183004.36035979126,183002.51137837698,183001.3974998435,183000.74944834923,183000.38626631087,183000.19075794652,183000.08997042844,183000.04038000345,183000.0171769932,183000.00689476362,183000.00259862572,183000.0009145977,183000.0002987833,183000.00009176251,183000.00011003722,183000.00448094372,183000.26444214763,183016.99730816798,183320.24014318833,183061.46016473015,183009.10099277564,183001.7644043155,183000.46893734665,183000.28980906046,183005.782049803,183110.89304718206,183036.4514130213],\"type\":\"scatter\",\"xaxis\":\"x3\",\"yaxis\":\"y3\"},{\"line\":{\"color\":\"brown\",\"width\":2},\"mode\":\"lines\",\"name\":\"Discrete Newton Gradient\",\"showlegend\":false,\"x\":[0,1,2,3,4,5,6,7,8,9,10,11,12,13,14,15,16,17,18,19,20,21,22,23,24,25,26,27,28,29,30,31,32,33,34,35,36,37,38,39,40,41,42,43,44,45,46,47,48,49,50,51,52,53,54,55,56,57,58,59,60,61,62,63,64,65,66,67,68,69,70,71,72,73,74,75,76,77,78,79,80,81,82,83,84,85,86,87,88,89,90,91,92,93,94,95,96,97,98,99,100],\"y\":[667294.3136674128,680541.6922435877,538007.0215789574,461911.9010087213,486669.7657400316,482936.01023571234,448719.19221948803,445553.9783863909,451305.88118282513,328648.84958837274,313093.67524989817,319530.3320355585,322268.874459603,313779.74081038166,315146.27219245356,311498.1353927363,318017.76904541947,320236.5783640129,322772.6010765749,317158.43424532644,319749.41470499325,315665.708777147,316149.9329961504,314798.77174432046,324186.3880317355,317728.06937988213,312309.3881787264,312037.2032581775,320957.42585460306,323048.14711487317,316712.11947422265,314342.0806815126,314265.48498788266,314136.11069401226,314084.9738253336,314070.07048452937,314065.1716854075,314065.68699322664,314269.994529965,315348.2345506553,317363.5109409737,323873.1725990976,339885.61854769115,359155.84355251736,389019.8517078621,508444.09974210605,405819.2766245841,414169.8422151532,447620.9300527356,436698.7089244016,468755.1353881932,477299.5804282621,503163.2070538473,477687.60225153784,544521.9240274949,538359.1641030997,543677.1208077753,544490.488099805,534133.515906156,533821.7155974361,532735.6707655367,536315.1508257171,533857.6041801696,537347.2657443162,536347.6459002915,536194.3326217256,534042.1042163239,535674.093300698,535163.0970054467,535037.2644437269,534973.2297483773,534939.2281714347,534921.9242484168,534913.5359075508,534909.6781968238,534908.0023935502,534907.3178934988,534907.0563525219,534906.9634230819,534906.9329248462,534906.9237513331,534906.9212448909,534906.9206292314,534906.9204949203,534906.9204692682,534906.9204650527,534906.9204644691,534906.9204644029,534906.920464397,534906.9204643965,534906.9204643965,534906.9204643965,534906.9204643965,534906.9204643965,534906.9204643965,534906.9204643965,534906.9204643965,534906.9204643965,534906.9204643965,534906.9204643965,534906.9204643965],\"type\":\"scatter\",\"xaxis\":\"x3\",\"yaxis\":\"y3\"},{\"line\":{\"color\":\"red\",\"width\":2},\"name\":\"Discrete Parameter Shift\",\"showlegend\":false,\"x\":[0,1,2,3,4,5,6,7,8,9,10,11,12,13,14,15,16,17,18,19,20,21,22,23,24,25,26,27,28,29,30,31,32,33,34,35,36,37,38,39,40,41,42,43,44,45,46,47,48,49,50,51,52,53,54,55,56,57,58,59,60,61,62,63,64,65,66,67,68,69,70,71,72,73,74,75,76,77,78,79,80,81,82,83,84,85,86,87,88,89,90,91,92,93,94,95,96,97,98,99,100],\"y\":[27.693128561071465,23.17348803822857,19.277677557126488,16.065656901243493,13.47268116187304,11.369105352777442,9.646552258237751,8.244199033271345,7.121504042489926,6.237299762471455,5.5487050294239335,5.015425844287815,4.602492470421189,4.280913829162474,4.027187538794984,3.8224149952523607,3.651403199487987,3.501894639194525,3.363950032021145,3.2294707754681093,3.091848607688611,2.945737979564279,2.786942140576235,2.6123844072330167,2.420115142874635,2.209299938208929,1.9801522550647555,1.7338061312981043,1.4721541153320041,1.1976873357535798,0.9133645059301987,0.6225129494861541,0.3287420688437006,0.03584072254376913,-0.25236119704858595,-0.532166197249218,-0.8001965879095607,-1.0535648760394878,-1.2899993811099577,-1.507909487033503,-1.7063892752696717,-1.8851694396437644,-2.0445332157013816,-2.185212972080599,-2.308281713892738,-2.4150497859632765,-2.5069729232514,-2.5855743630749597,-2.6523814042028384,-2.7088755530919926,-2.756454950372694,-2.796407749259469,-2.8298952176289607,-2.8579433880822034,-2.8814420402116916,-2.90114969707413,-2.9177032131630174,-2.9316304818058594,-2.9433648349074346,-2.9532598595551907,-2.9616035988768346,-2.9686314021794082,-2.974536995843433,-2.979481619427281,-2.983601282344747,-2.987012334408968,-2.9898156134317997,-2.9920994500591878,-2.993941792825039,-2.995411681982919,-2.9965702613094134,-2.997471479743142,-2.998162602093979,-2.998684620142571,-2.999072631192888,-2.9993562295310188,-2.9995599368375867,-2.999703680593795,-2.9998033155196335,-2.9998711727779597,-2.999916615537197,-2.999946577546506,-2.9999660631780465,-2.9999785920294144,-2.9999865774827317,-2.9999916353457987,-2.9999948247752073,-2.9999968283308363,-2.9999980808624844,-2.999998857994976,-2.9999993345683453,-2.9999996219863476,-2.999999791543148,-2.999999888868608,-2.999999942951927,-2.9999999719111,-2.9999999867866336,-2.9999999940855826,-2.9999999974917912,-2.999999998995998,-2.9999999995961133],\"type\":\"scatter\",\"xaxis\":\"x4\",\"yaxis\":\"y4\"},{\"line\":{\"color\":\"green\",\"width\":2},\"mode\":\"lines\",\"name\":\"Discrete Finite Difference\",\"showlegend\":false,\"x\":[0,1,2,3,4,5,6,7,8,9,10,11,12,13,14,15,16,17,18,19,20,21,22,23,24,25,26,27,28,29,30,31,32,33,34,35,36,37,38,39,40,41,42,43,44,45,46,47,48,49,50,51,52,53,54,55,56,57,58,59,60,61,62,63,64,65,66,67,68,69,70,71,72,73,74,75,76,77,78,79,80,81,82,83,84,85,86,87,88,89,90,91,92,93,94,95,96,97,98,99,100],\"y\":[27.693128561071465,23.173488038239505,19.277677557143207,16.06565690126103,13.472681161889382,11.369105352792403,9.64655225825139,8.244199033283483,7.121504042500332,6.237299762480035,5.54870502943064,5.015425844292672,4.602492470424252,4.280913829163873,4.027187538794947,3.822414995251169,3.6514031994859915,3.5018946391921206,3.3639500320187192,3.2294707754660648,3.0918486076873446,2.9457379795641954,2.78694214057772,2.6123844072363784,2.4201151428801477,2.209299938216729,1.9801522550749127,1.7338061313105717,1.4721541153465854,1.1976873357700306,0.9133645059481807,0.6225129495052295,0.32874206886340396,0.035840722563534655,-0.25236119702917215,-0.5321661972306302,-0.8001965878921311,-1.0535648760235166,-1.2899993810955408,-1.5079094870207275,-1.7063892752584966,-1.885169439634078,-2.044533215693077,-2.1852129720735274,-2.308281713886748,-2.415049785958189,-2.506972923247151,-2.585574363071398,-2.652381404199886,-2.7088755530895394,-2.756454950370623,-2.7964077492577513,-2.829895217627538,-2.8579433880810345,-2.8814420402107235,-2.901149697073315,-2.9177032131623353,-2.931630481805282,-2.943364834906964,-2.9532598595548087,-2.961603598876499,-2.9686314021791294,-2.9745369958431773,-2.979481619427082,-2.98360128234458,-2.9870123344088384,-2.9898156134316984,-2.992099450059092,-2.993941792824966,-2.9954116819828602,-2.9965702613093796,-2.99747147974311,-2.9981626020939682,-2.9986846201425497,-2.9990726311928775,-2.9993562295310117,-2.9995599368375903,-2.9997036805938038,-2.9998033155196264,-2.999871172777965,-2.9999166155371846,-2.999946577546506,-2.999966063178057,-2.9999785920294233,-2.9999865774827406,-2.999991635345797,-2.999994824775225,-2.9999968283308363,-2.999998080862465,-2.999998857994978,-2.9999993345683578,-2.9999996219863405,-2.999999791543157,-2.999999888868615,-2.999999942951913,-2.9999999719111035,-2.9999999867866425,-2.9999999940855044,-2.999999997490102,-2.9999999989530064,-2.999999998346082],\"type\":\"scatter\",\"xaxis\":\"x4\",\"yaxis\":\"y4\"},{\"line\":{\"color\":\"yellow\",\"width\":2},\"mode\":\"lines\",\"name\":\"Discrete LCU\",\"showlegend\":false,\"x\":[0,1,2,3,4,5,6,7,8,9,10,11,12,13,14,15,16,17,18,19,20,21,22,23,24,25,26,27,28,29,30,31,32,33,34,35,36,37,38,39,40,41,42,43,44,45,46,47,48,49,50,51,52,53,54,55,56,57,58,59,60,61,62,63,64,65,66,67,68,69,70,71,72,73,74,75,76,77,78,79,80,81,82,83,84,85,86,87,88,89,90,91,92,93,94,95,96,97,98,99,100],\"y\":[27.693128561071465,23.173488038228577,19.277677557126484,16.0656569012435,13.472681161873048,11.369105352777447,9.646552258237753,8.244199033271338,7.121504042489929,6.237299762471459,5.548705029423932,5.015425844287815,4.602492470421189,4.280913829162473,4.027187538794983,3.822414995252357,3.651403199487982,3.501894639194526,3.363950032021143,3.2294707754681093,3.0918486076886085,2.9457379795642753,2.7869421405762465,2.6123844072330185,2.4201151428746295,2.20929993820893,1.9801522550647617,1.733806131298108,1.4721541153320032,1.1976873357535949,0.9133645059301987,0.6225129494861594,0.3287420688437077,0.03584072254376558,-0.25236119704858595,-0.5321661972492073,-0.8001965879095536,-1.0535648760394967,-1.2899993811099595,-1.5079094870335101,-1.7063892752696699,-1.8851694396437733,-2.044533215701371,-2.185212972080601,-2.3082817138927574,-2.4150497859632747,-2.5069729232514,-2.5855743630749615,-2.6523814042028473,-2.7088755530920086,-2.756454950372687,-2.7964077492594726,-2.829895217628966,-2.8579433880822247,-2.881442040211688,-2.9011496970741266,-2.9177032131630174,-2.931630481805861,-2.943364834907454,-2.953259859555205,-2.961603598876847,-2.968631402179412,-2.9745369958434402,-2.979481619427281,-2.983601282344736,-2.9870123344089787,-2.989815613431798,-2.9920994500591913,-2.9939417928250425,-2.9954116819829135,-2.996570261309424,-2.997471479743149,-2.998162602093993,-2.9986846201425745,-2.999072631192906,-2.9993562295310277,-2.999559936837608,-2.9997036805938073,-2.9998033155196353,-2.9998711727779668,-2.999916615537197,-2.999946577546522,-2.9999660631780607,-2.9999785920294304,-2.999986577482744,-2.999991635345806,-2.999994824775216,-2.9999968283308416,-2.9999980808624773,-2.9999988579949672,-2.9999993345683436,-2.99999962198636,-2.9999997915431518,-2.9999998888686115,-2.99999994295192,-2.9999999719111123,-2.9999999867866656,-2.999999994085581,-2.9999999974917895,-2.9999999989960937,-2.999999999598451],\"type\":\"scatter\",\"xaxis\":\"x4\",\"yaxis\":\"y4\"},{\"line\":{\"color\":\"blue\",\"width\":2},\"mode\":\"lines\",\"name\":\"Discrete QNG\",\"showlegend\":false,\"x\":[0,1,2,3,4,5,6,7,8,9,10,11,12,13,14,15,16,17,18,19,20,21,22,23,24,25,26,27,28,29,30,31,32,33,34,35,36,37,38,39,40,41,42,43,44,45,46,47,48,49,50,51,52,53,54,55,56,57,58,59,60,61,62,63,64,65,66,67,68,69,70,71,72,73,74,75,76,77,78,79,80,81,82,83,84,85,86,87,88,89,90,91,92,93,94,95,96,97,98,99,100],\"y\":[27.693128561071465,23.173487730624963,19.252631210444378,16.004596657402097,13.376908730090673,11.244272339988989,9.501835802160226,8.091899099169598,6.9731431927413885,6.101283979514227,5.430391643519544,4.918067724663744,4.5281484668284,4.231096065203111,4.003273989346479,3.8258981472224916,3.6840300778772086,3.5657351415069023,3.461414058480349,3.3632765553656663,3.264926798452567,3.161046712939939,3.04717829391599,2.9196096588717326,2.775358619564247,2.6122265829727613,2.428876226269777,2.224881879266678,2.000718403165293,1.7576861846698,1.4977994560684778,1.2236752272816354,0.938445316465927,0.6456849625906003,0.3493281186105648,0.053537439350980875,-0.2374828136176088,-0.51971371862121,-0.7895506560822501,-1.0439933815098872,-1.2807684450385004,-1.4983738397027633,-1.6960526336527373,-1.8737130429014819,-2.0318162953821357,-2.1712522300091184,-2.2932180353360874,-2.3991098790195995,-2.4904319542960742,-2.5687236082999227,-2.6355030023728414,-2.69222492678562,-2.7402504215563077,-2.7808262348912027,-2.8150725581483016,-2.8439777728854683,-2.8683991054193534,-2.8890681304218067,-2.9066000412242268,-2.921505564916359,-2.934204398159576,-2.945039111366423,-2.954288623042663,-2.962180563345731,-2.9689020899846987,-2.974608952036114,-2.9794327892764674,-2.983486792159585,-2.9868699301743824,-2.989669992654534,-2.9919656887596027,-2.9938280348066506,-2.9953212276555696,-2.99650316967314,-2.997425778362283,-2.9981351842372153,-2.9986718943790187,-2.9990709762293974,-2.99936229626263,-2.9995708308529547,-2.9997170518762744,-2.9998173776003885,-2.9998846705994744,-2.9999287590944643,-2.9999569563560264,-2.9999745543533862,-2.999985272066768,-2.9999916448818293,-2.999995348180173,-2.9999974545993915,-2.999998629636993,-2.999999273827042,-2.999999621501603,-2.9999998063584243,-2.9999999031021893,-2.999999952799378,-2.9999999777434034,-2.9999999899029053,-2.999999995618049,-2.9999999981279863,-2.9999999973633873],\"type\":\"scatter\",\"xaxis\":\"x4\",\"yaxis\":\"y4\"},{\"line\":{\"color\":\"brown\",\"width\":2},\"mode\":\"lines\",\"name\":\"Discrete Newton Gradient\",\"showlegend\":false,\"x\":[0,1,2,3,4,5,6,7,8,9,10,11,12,13,14,15,16,17,18,19,20,21,22,23,24,25,26,27,28,29,30,31,32,33,34,35,36,37,38,39,40,41,42,43,44,45,46,47,48,49,50,51,52,53,54,55,56,57,58,59,60,61,62,63,64,65,66,67,68,69,70,71,72,73,74,75,76,77,78,79,80,81,82,83,84,85,86,87,88,89,90,91,92,93,94,95,96,97,98,99,100],\"y\":[27.693128561071465,27.345484751953137,9.381728910844384,8.513612996545739,8.073554243085736,8.678364477143765,5.346505926254938,7.718490559471915,7.7352925701063935,5.217953869290357,11.994305548275698,7.537967663923655,6.255072654052458,4.684498247644445,4.63972666526095,3.73516739062626,3.2784997573640293,2.9963810211688626,2.8199538481401856,2.700193991076877,2.61864508191145,2.555108132559594,2.4905593777525272,2.4004671814508356,2.229786685551362,1.72725913259357,-0.645737956591022,-2.0077103162079357,-2.509005559422114,-2.7493564001462065,-2.8723456973344437,-2.9361346415981355,-2.968926634245827,-2.9854123633274696,-2.9934371706676597,-2.9971882006629134,-2.99885960148527,-2.9995647721879504,-2.9998446514441515,-2.9999484697272365,-2.9999842139169086,-2.9999955427980787,-2.999998790733308,-2.999999525595676,-2.999999286875825,-2.999997609116935,-2.999989919574581,-2.999950193212669,-2.999713778648333,-2.9980949359860904,-2.9854355579256406,-2.8780944081729825,-2.2178809026838326,-1.7252707389566098,-2.4440485778407908,-2.7981395587574287,-2.9199195299483023,-2.961746847075503,-2.9774323775666343,-2.983544068076135,-2.98527457768029,-2.983991643358408,-2.9791118461312696,-2.9677943720028885,-2.942714999073541,-2.8874844539368034,-2.776311940338811,-2.614387618988385,-2.516574700506453,-2.5776967136163282,-2.7070955053670698,-2.810525137529364,-2.872584196544665,-2.9056175566948497,-2.92098564272902,-2.924736996818913,-2.918889214002501,-2.9026719810921637,-2.873512347428699,-2.829148573713308,-2.7646733407818775,-2.164551358640429,9.409969712994473,3.9455545784775774,8.731161713726543,3.320241747104908,1.8891643147026445,4.1208095579666715,6.642119486446578,5.483533419945768,4.272836030987467,6.773394975457547,2.21718476290906,2.708230058507537,9.650481590954058,5.0535552245976145,-0.8745879732726571,-1.5927847870353826,-1.9793314000369087,-2.2152907469612817,-2.3523256879796755],\"type\":\"scatter\",\"xaxis\":\"x4\",\"yaxis\":\"y4\"}],                        {\"template\":{\"data\":{\"bar\":[{\"error_x\":{\"color\":\"#2a3f5f\"},\"error_y\":{\"color\":\"#2a3f5f\"},\"marker\":{\"line\":{\"color\":\"#E5ECF6\",\"width\":0.5},\"pattern\":{\"fillmode\":\"overlay\",\"size\":10,\"solidity\":0.2}},\"type\":\"bar\"}],\"barpolar\":[{\"marker\":{\"line\":{\"color\":\"#E5ECF6\",\"width\":0.5},\"pattern\":{\"fillmode\":\"overlay\",\"size\":10,\"solidity\":0.2}},\"type\":\"barpolar\"}],\"carpet\":[{\"aaxis\":{\"endlinecolor\":\"#2a3f5f\",\"gridcolor\":\"white\",\"linecolor\":\"white\",\"minorgridcolor\":\"white\",\"startlinecolor\":\"#2a3f5f\"},\"baxis\":{\"endlinecolor\":\"#2a3f5f\",\"gridcolor\":\"white\",\"linecolor\":\"white\",\"minorgridcolor\":\"white\",\"startlinecolor\":\"#2a3f5f\"},\"type\":\"carpet\"}],\"choropleth\":[{\"colorbar\":{\"outlinewidth\":0,\"ticks\":\"\"},\"type\":\"choropleth\"}],\"contour\":[{\"colorbar\":{\"outlinewidth\":0,\"ticks\":\"\"},\"colorscale\":[[0.0,\"#0d0887\"],[0.1111111111111111,\"#46039f\"],[0.2222222222222222,\"#7201a8\"],[0.3333333333333333,\"#9c179e\"],[0.4444444444444444,\"#bd3786\"],[0.5555555555555556,\"#d8576b\"],[0.6666666666666666,\"#ed7953\"],[0.7777777777777778,\"#fb9f3a\"],[0.8888888888888888,\"#fdca26\"],[1.0,\"#f0f921\"]],\"type\":\"contour\"}],\"contourcarpet\":[{\"colorbar\":{\"outlinewidth\":0,\"ticks\":\"\"},\"type\":\"contourcarpet\"}],\"heatmap\":[{\"colorbar\":{\"outlinewidth\":0,\"ticks\":\"\"},\"colorscale\":[[0.0,\"#0d0887\"],[0.1111111111111111,\"#46039f\"],[0.2222222222222222,\"#7201a8\"],[0.3333333333333333,\"#9c179e\"],[0.4444444444444444,\"#bd3786\"],[0.5555555555555556,\"#d8576b\"],[0.6666666666666666,\"#ed7953\"],[0.7777777777777778,\"#fb9f3a\"],[0.8888888888888888,\"#fdca26\"],[1.0,\"#f0f921\"]],\"type\":\"heatmap\"}],\"heatmapgl\":[{\"colorbar\":{\"outlinewidth\":0,\"ticks\":\"\"},\"colorscale\":[[0.0,\"#0d0887\"],[0.1111111111111111,\"#46039f\"],[0.2222222222222222,\"#7201a8\"],[0.3333333333333333,\"#9c179e\"],[0.4444444444444444,\"#bd3786\"],[0.5555555555555556,\"#d8576b\"],[0.6666666666666666,\"#ed7953\"],[0.7777777777777778,\"#fb9f3a\"],[0.8888888888888888,\"#fdca26\"],[1.0,\"#f0f921\"]],\"type\":\"heatmapgl\"}],\"histogram\":[{\"marker\":{\"pattern\":{\"fillmode\":\"overlay\",\"size\":10,\"solidity\":0.2}},\"type\":\"histogram\"}],\"histogram2d\":[{\"colorbar\":{\"outlinewidth\":0,\"ticks\":\"\"},\"colorscale\":[[0.0,\"#0d0887\"],[0.1111111111111111,\"#46039f\"],[0.2222222222222222,\"#7201a8\"],[0.3333333333333333,\"#9c179e\"],[0.4444444444444444,\"#bd3786\"],[0.5555555555555556,\"#d8576b\"],[0.6666666666666666,\"#ed7953\"],[0.7777777777777778,\"#fb9f3a\"],[0.8888888888888888,\"#fdca26\"],[1.0,\"#f0f921\"]],\"type\":\"histogram2d\"}],\"histogram2dcontour\":[{\"colorbar\":{\"outlinewidth\":0,\"ticks\":\"\"},\"colorscale\":[[0.0,\"#0d0887\"],[0.1111111111111111,\"#46039f\"],[0.2222222222222222,\"#7201a8\"],[0.3333333333333333,\"#9c179e\"],[0.4444444444444444,\"#bd3786\"],[0.5555555555555556,\"#d8576b\"],[0.6666666666666666,\"#ed7953\"],[0.7777777777777778,\"#fb9f3a\"],[0.8888888888888888,\"#fdca26\"],[1.0,\"#f0f921\"]],\"type\":\"histogram2dcontour\"}],\"mesh3d\":[{\"colorbar\":{\"outlinewidth\":0,\"ticks\":\"\"},\"type\":\"mesh3d\"}],\"parcoords\":[{\"line\":{\"colorbar\":{\"outlinewidth\":0,\"ticks\":\"\"}},\"type\":\"parcoords\"}],\"pie\":[{\"automargin\":true,\"type\":\"pie\"}],\"scatter\":[{\"marker\":{\"colorbar\":{\"outlinewidth\":0,\"ticks\":\"\"}},\"type\":\"scatter\"}],\"scatter3d\":[{\"line\":{\"colorbar\":{\"outlinewidth\":0,\"ticks\":\"\"}},\"marker\":{\"colorbar\":{\"outlinewidth\":0,\"ticks\":\"\"}},\"type\":\"scatter3d\"}],\"scattercarpet\":[{\"marker\":{\"colorbar\":{\"outlinewidth\":0,\"ticks\":\"\"}},\"type\":\"scattercarpet\"}],\"scattergeo\":[{\"marker\":{\"colorbar\":{\"outlinewidth\":0,\"ticks\":\"\"}},\"type\":\"scattergeo\"}],\"scattergl\":[{\"marker\":{\"colorbar\":{\"outlinewidth\":0,\"ticks\":\"\"}},\"type\":\"scattergl\"}],\"scattermapbox\":[{\"marker\":{\"colorbar\":{\"outlinewidth\":0,\"ticks\":\"\"}},\"type\":\"scattermapbox\"}],\"scatterpolar\":[{\"marker\":{\"colorbar\":{\"outlinewidth\":0,\"ticks\":\"\"}},\"type\":\"scatterpolar\"}],\"scatterpolargl\":[{\"marker\":{\"colorbar\":{\"outlinewidth\":0,\"ticks\":\"\"}},\"type\":\"scatterpolargl\"}],\"scatterternary\":[{\"marker\":{\"colorbar\":{\"outlinewidth\":0,\"ticks\":\"\"}},\"type\":\"scatterternary\"}],\"surface\":[{\"colorbar\":{\"outlinewidth\":0,\"ticks\":\"\"},\"colorscale\":[[0.0,\"#0d0887\"],[0.1111111111111111,\"#46039f\"],[0.2222222222222222,\"#7201a8\"],[0.3333333333333333,\"#9c179e\"],[0.4444444444444444,\"#bd3786\"],[0.5555555555555556,\"#d8576b\"],[0.6666666666666666,\"#ed7953\"],[0.7777777777777778,\"#fb9f3a\"],[0.8888888888888888,\"#fdca26\"],[1.0,\"#f0f921\"]],\"type\":\"surface\"}],\"table\":[{\"cells\":{\"fill\":{\"color\":\"#EBF0F8\"},\"line\":{\"color\":\"white\"}},\"header\":{\"fill\":{\"color\":\"#C8D4E3\"},\"line\":{\"color\":\"white\"}},\"type\":\"table\"}]},\"layout\":{\"annotationdefaults\":{\"arrowcolor\":\"#2a3f5f\",\"arrowhead\":0,\"arrowwidth\":1},\"autotypenumbers\":\"strict\",\"coloraxis\":{\"colorbar\":{\"outlinewidth\":0,\"ticks\":\"\"}},\"colorscale\":{\"diverging\":[[0,\"#8e0152\"],[0.1,\"#c51b7d\"],[0.2,\"#de77ae\"],[0.3,\"#f1b6da\"],[0.4,\"#fde0ef\"],[0.5,\"#f7f7f7\"],[0.6,\"#e6f5d0\"],[0.7,\"#b8e186\"],[0.8,\"#7fbc41\"],[0.9,\"#4d9221\"],[1,\"#276419\"]],\"sequential\":[[0.0,\"#0d0887\"],[0.1111111111111111,\"#46039f\"],[0.2222222222222222,\"#7201a8\"],[0.3333333333333333,\"#9c179e\"],[0.4444444444444444,\"#bd3786\"],[0.5555555555555556,\"#d8576b\"],[0.6666666666666666,\"#ed7953\"],[0.7777777777777778,\"#fb9f3a\"],[0.8888888888888888,\"#fdca26\"],[1.0,\"#f0f921\"]],\"sequentialminus\":[[0.0,\"#0d0887\"],[0.1111111111111111,\"#46039f\"],[0.2222222222222222,\"#7201a8\"],[0.3333333333333333,\"#9c179e\"],[0.4444444444444444,\"#bd3786\"],[0.5555555555555556,\"#d8576b\"],[0.6666666666666666,\"#ed7953\"],[0.7777777777777778,\"#fb9f3a\"],[0.8888888888888888,\"#fdca26\"],[1.0,\"#f0f921\"]]},\"colorway\":[\"#636efa\",\"#EF553B\",\"#00cc96\",\"#ab63fa\",\"#FFA15A\",\"#19d3f3\",\"#FF6692\",\"#B6E880\",\"#FF97FF\",\"#FECB52\"],\"font\":{\"color\":\"#2a3f5f\"},\"geo\":{\"bgcolor\":\"white\",\"lakecolor\":\"white\",\"landcolor\":\"#E5ECF6\",\"showlakes\":true,\"showland\":true,\"subunitcolor\":\"white\"},\"hoverlabel\":{\"align\":\"left\"},\"hovermode\":\"closest\",\"mapbox\":{\"style\":\"light\"},\"paper_bgcolor\":\"white\",\"plot_bgcolor\":\"#E5ECF6\",\"polar\":{\"angularaxis\":{\"gridcolor\":\"white\",\"linecolor\":\"white\",\"ticks\":\"\"},\"bgcolor\":\"#E5ECF6\",\"radialaxis\":{\"gridcolor\":\"white\",\"linecolor\":\"white\",\"ticks\":\"\"}},\"scene\":{\"xaxis\":{\"backgroundcolor\":\"#E5ECF6\",\"gridcolor\":\"white\",\"gridwidth\":2,\"linecolor\":\"white\",\"showbackground\":true,\"ticks\":\"\",\"zerolinecolor\":\"white\"},\"yaxis\":{\"backgroundcolor\":\"#E5ECF6\",\"gridcolor\":\"white\",\"gridwidth\":2,\"linecolor\":\"white\",\"showbackground\":true,\"ticks\":\"\",\"zerolinecolor\":\"white\"},\"zaxis\":{\"backgroundcolor\":\"#E5ECF6\",\"gridcolor\":\"white\",\"gridwidth\":2,\"linecolor\":\"white\",\"showbackground\":true,\"ticks\":\"\",\"zerolinecolor\":\"white\"}},\"shapedefaults\":{\"line\":{\"color\":\"#2a3f5f\"}},\"ternary\":{\"aaxis\":{\"gridcolor\":\"white\",\"linecolor\":\"white\",\"ticks\":\"\"},\"baxis\":{\"gridcolor\":\"white\",\"linecolor\":\"white\",\"ticks\":\"\"},\"bgcolor\":\"#E5ECF6\",\"caxis\":{\"gridcolor\":\"white\",\"linecolor\":\"white\",\"ticks\":\"\"}},\"title\":{\"x\":0.05},\"xaxis\":{\"automargin\":true,\"gridcolor\":\"white\",\"linecolor\":\"white\",\"ticks\":\"\",\"title\":{\"standoff\":15},\"zerolinecolor\":\"white\",\"zerolinewidth\":2},\"yaxis\":{\"automargin\":true,\"gridcolor\":\"white\",\"linecolor\":\"white\",\"ticks\":\"\",\"title\":{\"standoff\":15},\"zerolinecolor\":\"white\",\"zerolinewidth\":2}}},\"xaxis\":{\"anchor\":\"y\",\"domain\":[0.0,0.45],\"title\":{\"text\":\"Iteration\"}},\"yaxis\":{\"anchor\":\"x\",\"domain\":[0.625,1.0],\"title\":{\"text\":\"Loss\"}},\"xaxis2\":{\"anchor\":\"y2\",\"domain\":[0.55,1.0]},\"yaxis2\":{\"anchor\":\"x2\",\"domain\":[0.625,1.0]},\"xaxis3\":{\"anchor\":\"y3\",\"domain\":[0.0,0.45]},\"yaxis3\":{\"anchor\":\"x3\",\"domain\":[0.0,0.375]},\"xaxis4\":{\"anchor\":\"y4\",\"domain\":[0.55,1.0]},\"yaxis4\":{\"anchor\":\"x4\",\"domain\":[0.0,0.375]},\"annotations\":[{\"font\":{\"size\":16},\"showarrow\":false,\"text\":\"Max-Cut\",\"x\":0.225,\"xanchor\":\"center\",\"xref\":\"paper\",\"y\":1.0,\"yanchor\":\"bottom\",\"yref\":\"paper\"},{\"font\":{\"size\":16},\"showarrow\":false,\"text\":\"Clique\",\"x\":0.775,\"xanchor\":\"center\",\"xref\":\"paper\",\"y\":1.0,\"yanchor\":\"bottom\",\"yref\":\"paper\"},{\"font\":{\"size\":16},\"showarrow\":false,\"text\":\"Binary Linear Programming\",\"x\":0.225,\"xanchor\":\"center\",\"xref\":\"paper\",\"y\":0.375,\"yanchor\":\"bottom\",\"yref\":\"paper\"},{\"font\":{\"size\":16},\"showarrow\":false,\"text\":\"Knapsack\",\"x\":0.775,\"xanchor\":\"center\",\"xref\":\"paper\",\"y\":0.375,\"yanchor\":\"bottom\",\"yref\":\"paper\"}],\"title\":{\"text\":\"Loss Comparison  <br><sup>Fixed the number of parameterized gate (6 gate).</sup>\"},\"autosize\":false,\"width\":1000,\"height\":700},                        {\"responsive\": true}                    ).then(function(){\n",
              "                            \n",
              "var gd = document.getElementById('5da3377a-8b02-4fcd-860e-da49d11c1051');\n",
              "var x = new MutationObserver(function (mutations, observer) {{\n",
              "        var display = window.getComputedStyle(gd).display;\n",
              "        if (!display || display === 'none') {{\n",
              "            console.log([gd, 'removed!']);\n",
              "            Plotly.purge(gd);\n",
              "            observer.disconnect();\n",
              "        }}\n",
              "}});\n",
              "\n",
              "// Listen for the removal of the full notebook cells\n",
              "var notebookContainer = gd.closest('#notebook-container');\n",
              "if (notebookContainer) {{\n",
              "    x.observe(notebookContainer, {childList: true});\n",
              "}}\n",
              "\n",
              "// Listen for the clearing of the current output cell\n",
              "var outputEl = gd.closest('.output');\n",
              "if (outputEl) {{\n",
              "    x.observe(outputEl, {childList: true});\n",
              "}}\n",
              "\n",
              "                        })                };                            </script>        </div>\n",
              "</body>\n",
              "</html>"
            ]
          },
          "metadata": {}
        }
      ],
      "source": [
        "#@title Loss Comparison \n",
        "#@markdown Fixed the number of parameterized gate (6 gate).\n",
        "from plotly.subplots import make_subplots\n",
        "\n",
        "row = 2\n",
        "col = 2\n",
        "fig = make_subplots(rows=row, cols=col, subplot_titles=(\"Max-Cut\",\"Clique\",\"Binary Linear Programming\", \"Knapsack\"))\n",
        "show = True\n",
        "for i in range(row):\n",
        "  for j in range(col):\n",
        "    problemn = i*col+j\n",
        "    if problemn>0:\n",
        "      show = False\n",
        "    dv = pd.DataFrame({\"Iteration\":range(len(psl[problemn])), \"Loss\":psl[problemn]})\n",
        "    dv_fd = pd.DataFrame({\"Iteration\":range(len(fdl[problemn])), \"Loss\":fdl[problemn]})\n",
        "    dv_lcu = pd.DataFrame({\"Iteration\":range(len(lcul[problemn])), \"Loss\":lcul[problemn]})\n",
        "    dv_qng = pd.DataFrame({\"Iteration\":range(len(qngl[problemn])), \"Loss\":qngl[problemn]})\n",
        "    dv_newton = pd.DataFrame({\"Iteration\":range(len(qnwl[problemn])), \"Loss\":qnwl[problemn]})\n",
        "\n",
        "    # dv_cls = pd.DataFrame({\"Iteration\":range(len(loss_plot_classical)), \"Loss\":loss_plot_classical})\n",
        "\n",
        "    fig.add_trace(go.Scatter(x=dv[\"Iteration\"], y=dv[\"Loss\"], name=\"Discrete Parameter Shift\", line = dict(width=2), line_color='red', showlegend = show), row=i+1, col=j+1)\n",
        "    fig.add_trace(go.Scatter(x=dv_fd[\"Iteration\"], y=dv_fd[\"Loss\"], mode=\"lines\", name=\"Discrete Finite Difference\", line = dict(width=2), line_color='green', showlegend = show), row=i+1, col=j+1)\n",
        "    fig.add_trace(go.Scatter(x=dv_lcu[\"Iteration\"], y=dv_lcu[\"Loss\"], mode=\"lines\", name=\"Discrete LCU\", line = dict(width=2), line_color='yellow', showlegend = show), row=i+1, col=j+1)\n",
        "    fig.add_trace(go.Scatter(x=dv_qng[\"Iteration\"], y=dv_qng[\"Loss\"], mode=\"lines\", name=\"Discrete QNG\", line = dict(width=2), line_color='blue', showlegend = show), row=i+1, col=j+1)\n",
        "    fig.add_trace(go.Scatter(x=dv_newton[\"Iteration\"], y=dv_newton[\"Loss\"], mode=\"lines\", name=\"Discrete Newton Gradient\", line = dict(width=2), line_color='brown', showlegend = show), row=i+1, col=j+1)\n",
        "\n",
        "    # fig.add_trace(go.Scatter(x=dv_cls[\"Iteration\"], y=dv_cls[\"Loss\"], mode=\"lines\", name=\"Classical\"))\n",
        "\n",
        "\n",
        "fig.update_layout(title=\"Loss Comparison  <br><sup>Fixed the number of parameterized gate (6 gate).</sup>\",\n",
        "                  xaxis_title=\"Iteration\",\n",
        "                  yaxis_title=\"Loss\", autosize=False,\n",
        "                  width=1000,\n",
        "                  height=700)\n",
        "\n",
        "plotly.offline.plot(fig, filename='loss_fixgate.html')\n",
        "fig.show()"
      ]
    },
    {
      "cell_type": "code",
      "execution_count": null,
      "metadata": {
        "id": "0TCHMfHh9_EG",
        "colab": {
          "base_uri": "https://localhost:8080/",
          "height": 717
        },
        "outputId": "99a21992-9fa7-421f-c0a7-c9a9c9df800e"
      },
      "outputs": [
        {
          "output_type": "display_data",
          "data": {
            "text/html": [
              "<html>\n",
              "<head><meta charset=\"utf-8\" /></head>\n",
              "<body>\n",
              "    <div>            <script src=\"https://cdnjs.cloudflare.com/ajax/libs/mathjax/2.7.5/MathJax.js?config=TeX-AMS-MML_SVG\"></script><script type=\"text/javascript\">if (window.MathJax) {MathJax.Hub.Config({SVG: {font: \"STIX-Web\"}});}</script>                <script type=\"text/javascript\">window.PlotlyConfig = {MathJaxConfig: 'local'};</script>\n",
              "        <script src=\"https://cdn.plot.ly/plotly-2.8.3.min.js\"></script>                <div id=\"cd668c17-e93e-416e-8a0c-b02886d7fcc6\" class=\"plotly-graph-div\" style=\"height:700px; width:1000px;\"></div>            <script type=\"text/javascript\">                                    window.PLOTLYENV=window.PLOTLYENV || {};                                    if (document.getElementById(\"cd668c17-e93e-416e-8a0c-b02886d7fcc6\")) {                    Plotly.newPlot(                        \"cd668c17-e93e-416e-8a0c-b02886d7fcc6\",                        [{\"line\":{\"color\":\"red\",\"width\":2},\"name\":\"Discrete Parameter Shift\",\"showlegend\":true,\"x\":[0,1,2,3,4,5,6,7,8,9,10,11,12,13,14,15,16,17,18,19,20,21,22,23,24,25,26,27,28,29,30,31,32,33,34,35,36,37,38,39,40,41,42,43,44,45,46,47,48,49,50,51,52,53,54,55,56,57,58,59,60,61,62,63,64,65,66,67,68,69,70,71,72,73,74,75,76,77,78,79,80,81,82,83,84,85,86,87,88,89,90,91,92,93,94,95,96,97,98,99,100],\"y\":[1.505469799041748,3.08955979347229,4.755484104156494,7.454545259475708,10.513299226760864,13.350911140441895,16.01971459388733,19.244593858718872,22.55852699279785,26.156708478927612,29.161291122436523,32.175583362579346,34.56478476524353,37.048423290252686,40.130818605422974,43.38205361366272,46.50946497917175,48.57705640792847,50.009833335876465,51.42778015136719,52.79224705696106,54.211780309677124,55.63701772689819,57.07926607131958,58.50316786766052,59.90062999725342,61.42874312400818,62.81457734107971,64.16191840171814,65.62782335281372,66.98852014541626,68.39693188667297,69.84946155548096,71.21075129508972,72.6654839515686,74.01261758804321,75.39578986167908,76.79229426383972,78.14825296401978,79.58117866516113,80.9429292678833,82.37205815315247,83.73984670639038,85.15489315986633,86.58081126213074,87.97419333457947,89.4117865562439,90.77780604362488,92.1447639465332,93.55752658843994,95.01724576950073,96.463387966156,97.89522814750671,99.2739188671112,100.7466049194336,102.07392883300781,103.49940609931946,104.92540335655212,106.3397605419159,107.7253806591034,109.14239621162415,110.55101251602173,111.99962496757507,113.396817445755,114.78435826301575,116.23666453361511,117.88985204696655,119.26918482780457,120.68175506591797,122.08900165557861,123.52527785301208,124.99988460540771,126.40765285491943,127.8089690208435,129.80045366287231,131.53569912910461,132.89062356948853,134.27222657203674,135.70140314102173,137.08323097229004,138.5024950504303,139.9030122756958,141.3323745727539,142.75454378128052,144.15874409675598,145.60848903656006,146.98198294639587,148.46196961402893,149.9402220249176,151.32564544677734,152.71204495429993,154.1097526550293,155.5204906463623,156.93331837654114,158.2838773727417,159.72746443748474,161.1747441291809,162.546204328537,163.9483630657196,165.3550670146942,166.71279096603394],\"type\":\"scatter\",\"xaxis\":\"x\",\"yaxis\":\"y\"},{\"line\":{\"color\":\"green\",\"width\":2},\"mode\":\"lines\",\"name\":\"Discrete Finite Difference\",\"showlegend\":true,\"x\":[0,1,2,3,4,5,6,7,8,9,10,11,12,13,14,15,16,17,18,19,20,21,22,23,24,25,26,27,28,29,30,31,32,33,34,35,36,37,38,39,40,41,42,43,44,45,46,47,48,49,50,51,52,53,54,55,56,57,58,59,60,61,62,63,64,65,66,67,68,69,70,71,72,73,74,75,76,77,78,79,80,81,82,83,84,85,86,87,88,89,90,91,92,93,94,95,96,97,98,99,100],\"y\":[1.4277498722076416,2.8347482681274414,4.254598617553711,5.662577390670776,7.171365976333618,8.550518989562988,9.903980016708374,11.322056770324707,12.759226322174072,14.209049463272095,15.592430591583252,16.944542169570923,18.335359573364258,19.690780878067017,21.086864709854126,22.463242053985596,23.847203254699707,25.227684259414673,26.61374568939209,28.00975799560547,29.415457487106323,30.831323862075806,32.27074217796326,33.62620496749878,35.02052545547485,36.436960220336914,37.8066132068634,39.17301821708679,40.57147693634033,41.967286109924316,43.387789726257324,44.76184058189392,46.13586616516113,47.56958055496216,48.92085409164429,50.35903263092041,51.758575201034546,53.184338092803955,54.54598641395569,55.95403075218201,57.35242986679077,58.72249388694763,60.10087704658508,61.67981743812561,63.083606243133545,64.51678919792175,65.92088961601257,67.30415368080139,68.67157220840454,70.07289028167725,71.49646782875061,72.89502382278442,74.30938673019409,75.70347309112549,77.08373045921326,78.48811960220337,79.85033822059631,81.25583124160767,82.68798756599426,84.09859895706177,85.55213809013367,86.91920399665833,88.31395268440247,89.68249082565308,91.04260420799255,92.43222045898438,93.81806993484497,95.20292258262634,96.6291856765747,98.03984642028809,99.42572975158691,100.85876727104187,102.27711534500122,103.65515947341919,105.08380222320557,106.49555039405823,107.87987756729126,109.30269861221313,110.74939155578613,112.11147451400757,113.54410195350647,114.99140071868896,116.54191255569458,117.93749642372131,119.32693243026733,120.67414164543152,122.05779385566711,123.53005385398865,124.91128158569336,126.3248221874237,127.6789927482605,129.10476636886597,130.47395658493042,131.87151837348938,133.27415251731873,134.64784836769104,136.04129552841187,137.4493818283081,138.84740710258484,140.23638367652893,141.63448357582092],\"type\":\"scatter\",\"xaxis\":\"x\",\"yaxis\":\"y\"},{\"line\":{\"color\":\"yellow\",\"width\":2},\"mode\":\"lines\",\"name\":\"Discrete LCU\",\"showlegend\":true,\"x\":[0,1,2,3,4,5,6,7,8,9,10,11,12,13,14,15,16,17,18,19,20,21,22,23,24,25,26,27,28,29,30,31,32,33,34,35,36,37,38,39,40,41,42,43,44,45,46,47,48,49,50,51,52,53,54,55,56,57,58,59,60,61,62,63,64,65,66,67,68,69,70,71,72,73,74,75,76,77,78,79,80,81,82,83,84,85,86,87,88,89,90,91,92,93,94,95,96,97,98,99,100],\"y\":[0.808732271194458,1.612203598022461,2.4286577701568604,3.259544610977173,4.026260137557983,4.822819471359253,5.639827489852905,6.4230263233184814,7.205365419387817,7.96669864654541,8.71001386642456,9.480832815170288,10.272790670394897,11.068974494934082,11.833268404006958,12.64505648612976,13.403769254684448,14.215268850326538,15.057468891143799,15.881397008895874,16.64693522453308,17.449180841445923,18.23358964920044,19.015607118606567,19.77287268638611,20.539860486984253,21.315788745880127,22.112191677093506,22.89660406112671,23.645921230316162,24.435555696487427,25.2549729347229,26.07317304611206,26.924145936965942,27.69353437423706,28.54189109802246,29.382533073425293,30.225132703781128,30.98194432258606,31.77502465248108,32.595603227615356,33.368403673172,34.18342614173889,34.978342056274414,35.78136587142944,36.587775230407715,37.37387752532959,38.16107940673828,38.94348931312561,39.77401685714722,40.52996516227722,41.29661417007446,42.05507802963257,42.82818412780762,43.62116765975952,44.400458097457886,45.17023944854736,45.96130990982056,46.7531099319458,47.50404357910156,48.309171199798584,49.14399480819702,49.93806290626526,50.709856033325195,51.5008499622345,52.27285408973694,53.03593111038208,53.82737994194031,54.60409498214722,55.42656588554382,56.19032621383667,56.95724558830261,57.68902945518494,58.45701837539673,59.21104693412781,59.99679756164551,60.77238893508911,61.547014474868774,62.36547541618347,63.16609787940979,63.95816135406494,64.76708149909973,65.52674746513367,66.2703275680542,67.0992476940155,67.93322682380676,68.70049619674683,69.53775358200073,70.3187780380249,71.10817170143127,71.88711357116699,72.65629625320435,73.41450357437134,74.18134570121765,74.96669411659241,75.75969648361206,76.51109457015991,77.27686476707458,78.0693793296814,78.99161648750305,79.7608916759491],\"type\":\"scatter\",\"xaxis\":\"x\",\"yaxis\":\"y\"},{\"line\":{\"color\":\"blue\",\"width\":2},\"mode\":\"lines\",\"name\":\"Discrete QNG\",\"showlegend\":true,\"x\":[0,1,2,3,4,5,6,7,8,9,10,11,12,13,14,15,16,17,18,19,20,21,22,23,24,25,26,27,28,29,30,31,32,33,34,35,36,37,38,39,40,41,42,43,44,45,46,47,48,49,50,51,52,53,54,55,56,57,58,59,60,61,62,63,64,65,66,67,68,69,70,71,72,73,74,75,76,77,78,79,80,81,82,83,84,85,86,87,88,89,90,91,92,93,94,95,96,97,98,99,100],\"y\":[1.6019058227539062,3.1993446350097656,4.83767294883728,6.416836261749268,8.037338256835938,9.620020627975464,11.232033014297485,13.374228477478027,15.525397539138794,17.107897758483887,18.87971806526184,20.45352530479431,22.018864631652832,23.629884958267212,25.199995279312134,26.778443336486816,28.35929226875305,29.98215937614441,31.59196949005127,33.18521475791931,34.82875943183899,36.373822927474976,37.959598541259766,39.59160614013672,41.169861793518066,42.74902868270874,44.31483006477356,45.88740253448486,47.47191095352173,49.1074755191803,50.7767276763916,52.354008197784424,53.956586837768555,55.53372049331665,57.101929664611816,58.69753575325012,60.29381537437439,61.84065341949463,63.38656187057495,65.00631952285767,66.79250526428223,68.34143471717834,69.94428181648254,71.51697754859924,73.1078290939331,74.71217775344849,76.288419008255,77.8774778842926,79.46136903762817,81.00319337844849,82.55120515823364,84.14446496963501,85.70702838897705,87.27712416648865,88.93165135383606,90.55580639839172,92.17781496047974,93.75059604644775,95.32630014419556,96.91575312614441,98.57335138320923,100.17188930511475,101.80788278579712,103.37583088874817,104.97883677482605,106.56255054473877,108.11792707443237,109.73283886909485,111.48497700691223,113.037428855896,114.61284899711609,116.20253157615662,117.82726073265076,119.34222292900085,120.94606876373291,122.50149083137512,124.10680508613586,125.70112895965576,127.28046917915344,128.9170355796814,130.48823046684265,132.07705235481262,133.6107485294342,135.16875410079956,136.75463199615479,138.35665822029114,139.96388244628906,141.52802872657776,143.1200304031372,144.7131814956665,146.27799654006958,147.8605124950409,149.4816393852234,151.04308676719666,152.5709104537964,154.13019394874573,155.718608379364,157.41452503204346,158.96213483810425,160.5791666507721,162.16414427757263],\"type\":\"scatter\",\"xaxis\":\"x\",\"yaxis\":\"y\"},{\"line\":{\"color\":\"brown\",\"width\":2},\"mode\":\"lines\",\"name\":\"Discrete Newton Method\",\"showlegend\":true,\"x\":[0,1,2,3,4,5,6,7,8,9,10,11,12,13,14,15,16,17,18,19,20,21,22,23,24,25,26,27,28,29,30,31,32,33,34,35,36,37,38,39,40,41,42,43,44,45,46,47,48,49,50,51,52,53,54,55,56,57,58,59,60,61,62,63,64,65,66,67,68,69,70,71,72,73,74,75,76,77,78,79,80,81,82,83,84,85,86,87,88,89,90,91,92,93,94,95,96,97,98,99,100],\"y\":[2.138619899749756,4.306919097900391,6.415273666381836,8.5112886428833,10.802492141723633,12.91412878036499,15.068615913391113,17.18956184387207,19.43228816986084,21.610812425613403,23.746931314468384,25.958539962768555,28.234626293182373,30.408578157424927,32.53723073005676,34.65923309326172,37.00264644622803,39.10670781135559,41.28515553474426,43.440723180770874,45.73046088218689,47.895735025405884,50.01685667037964,52.109740257263184,54.22386145591736,56.50943875312805,58.659523487091064,60.846957206726074,63.11978840827942,65.24676847457886,67.3746771812439,69.56201028823853,71.75955986976624,74.10066390037537,76.25819706916809,78.4812843799591,80.58500909805298,82.8740463256836,85.00782537460327,87.13344526290894,89.25038862228394,91.55602240562439,93.71724319458008,95.79145884513855,97.93962955474854,100.1951653957367,102.39264059066772,104.58438730239868,106.79222559928894,108.9671401977539,111.27526521682739,113.4709882736206,115.63936686515808,117.79273653030396,120.12065362930298,122.20057201385498,124.28561902046204,126.37918138504028,128.71940922737122,130.86135029792786,132.97019696235657,135.10556197166443,137.21427011489868,139.53209948539734,141.71958780288696,143.85269141197205,145.99653100967407,148.39120507240295,150.54251289367676,152.64799976348877,154.98672699928284,157.14137196540833,159.23278188705444,161.40640330314636,163.53183698654175,165.90705275535583,168.11187362670898,170.23877358436584,172.4115936756134,174.6923041343689,176.84536623954773,178.9823820590973,181.29219722747803,183.39613890647888,185.51998901367188,187.64932703971863,189.92553520202637,192.06436967849731,194.19073009490967,196.36222767829895,198.5704095363617,200.89557600021362,203.03182697296143,205.15199995040894,207.24686098098755,209.49771308898926,211.6232180595398,213.7525155544281,215.93317937850952,218.2527813911438,220.3816921710968],\"type\":\"scatter\",\"xaxis\":\"x\",\"yaxis\":\"y\"},{\"line\":{\"color\":\"red\",\"width\":2},\"name\":\"Discrete Parameter Shift\",\"showlegend\":false,\"x\":[0,1,2,3,4,5,6,7,8,9,10,11,12,13,14,15,16,17,18,19,20,21,22,23,24,25,26,27,28,29,30,31,32,33,34,35,36,37,38,39,40,41,42,43,44,45,46,47,48,49,50,51,52,53,54,55,56,57,58,59,60,61,62,63,64,65,66,67,68,69,70,71,72,73,74,75,76,77,78,79,80,81,82,83,84,85,86,87,88,89,90,91,92,93,94,95,96,97,98,99,100],\"y\":[1.4901938438415527,2.9814364910125732,4.386878728866577,5.783874034881592,7.173703908920288,8.579699754714966,10.064518451690674,11.499590873718262,12.941551923751831,14.353657722473145,15.736039876937866,17.15936827659607,18.5844464302063,20.05392551422119,21.50219988822937,22.899309158325195,24.287525177001953,25.739014625549316,27.20573091506958,28.656526565551758,30.07707715034485,31.58344554901123,33.02017021179199,34.48145389556885,35.86679935455322,37.300750732421875,38.75398063659668,40.19831609725952,41.64379382133484,43.06719422340393,44.525155544281006,45.939175605773926,47.397727966308594,48.82747960090637,50.22624230384827,51.65780782699585,53.09488034248352,54.51796627044678,55.93886137008667,57.539839029312134,58.949445486068726,60.43397641181946,61.88455510139465,63.335209369659424,64.72400188446045,66.16441011428833,67.62230062484741,69.06837916374207,70.55612206459045,71.97992658615112,73.39006876945496,74.7844614982605,76.2404613494873,77.70592403411865,79.13406252861023,80.61211109161377,82.03493523597717,83.52914619445801,84.91281533241272,86.34561777114868,87.76864576339722,89.17766690254211,90.67728304862976,92.07275342941284,93.5315523147583,94.92698931694031,96.35583639144897,97.84164047241211,99.26460576057434,100.7293438911438,102.17490196228027,103.66103887557983,105.06725883483887,106.53360390663147,108.05562400817871,109.4741747379303,110.95193219184875,112.36755895614624,113.81746411323547,115.19725251197815,116.61493849754333,118.23185515403748,119.69179081916809,121.14470386505127,122.56768679618835,123.9707510471344,125.40286207199097,126.818434715271,128.31437015533447,129.76043963432312,131.183687210083,132.611510515213,134.00670194625854,135.44173216819763,136.8801281452179,138.35222506523132,139.79687404632568,141.21605587005615,142.68202805519104,144.1044373512268,145.53120303153992],\"type\":\"scatter\",\"xaxis\":\"x2\",\"yaxis\":\"y2\"},{\"line\":{\"color\":\"green\",\"width\":2},\"mode\":\"lines\",\"name\":\"Discrete Finite Difference\",\"showlegend\":false,\"x\":[0,1,2,3,4,5,6,7,8,9,10,11,12,13,14,15,16,17,18,19,20,21,22,23,24,25,26,27,28,29,30,31,32,33,34,35,36,37,38,39,40,41,42,43,44,45,46,47,48,49,50,51,52,53,54,55,56,57,58,59,60,61,62,63,64,65,66,67,68,69,70,71,72,73,74,75,76,77,78,79,80,81,82,83,84,85,86,87,88,89,90,91,92,93,94,95,96,97,98,99,100],\"y\":[1.4647183418273926,2.897374153137207,4.339692115783691,5.808679580688477,7.243473768234253,8.685572147369385,10.117133855819702,11.520317316055298,12.948786735534668,14.450489282608032,15.904255867004395,17.347601652145386,18.82593536376953,20.218961238861084,21.615321397781372,23.036568641662598,24.43303942680359,25.835813760757446,27.265883684158325,28.742175102233887,30.15361785888672,31.587813138961792,33.00158762931824,34.38348317146301,35.80067420005798,37.21564030647278,38.63085746765137,40.06757164001465,41.60226106643677,42.997971296310425,44.409292221069336,45.854711294174194,47.313093185424805,48.74398398399353,50.16276431083679,51.595844745635986,53.04347038269043,54.451807498931885,55.92129039764404,57.38877773284912,58.790326833724976,60.21312165260315,61.64859580993652,63.061413288116455,64.53412342071533,65.94959163665771,67.41325330734253,68.8619978427887,70.25855231285095,71.67990517616272,73.0756504535675,74.56918621063232,75.98154377937317,77.38951253890991,78.86625027656555,80.29716086387634,81.72442412376404,83.16915440559387,84.62706542015076,86.0974326133728,87.53311014175415,89.00837922096252,90.4559714794159,91.89766049385071,93.30447316169739,94.74332189559937,96.16984558105469,97.61206912994385,99.04844045639038,100.45216512680054,102.05248165130615,103.51083111763,104.94189357757568,106.38568687438965,107.79357600212097,109.25630569458008,110.71574521064758,112.09682869911194,113.51923513412476,114.95089626312256,116.37184619903564,117.79619216918945,119.1655056476593,120.59916186332703,122.06312847137451,123.49882769584656,124.94855618476868,126.38070631027222,127.85991477966309,129.2662570476532,130.709290266037,132.1446714401245,133.58706736564636,135.06242084503174,136.4612181186676,137.9342200756073,139.37946772575378,140.84547567367554,142.28916811943054,143.71825289726257,145.13299798965454],\"type\":\"scatter\",\"xaxis\":\"x2\",\"yaxis\":\"y2\"},{\"line\":{\"color\":\"yellow\",\"width\":2},\"mode\":\"lines\",\"name\":\"Discrete LCU\",\"showlegend\":false,\"x\":[0,1,2,3,4,5,6,7,8,9,10,11,12,13,14,15,16,17,18,19,20,21,22,23,24,25,26,27,28,29,30,31,32,33,34,35,36,37,38,39,40,41,42,43,44,45,46,47,48,49,50,51,52,53,54,55,56,57,58,59,60,61,62,63,64,65,66,67,68,69,70,71,72,73,74,75,76,77,78,79,80,81,82,83,84,85,86,87,88,89,90,91,92,93,94,95,96,97,98,99,100],\"y\":[0.8575353622436523,1.6723785400390625,2.469285011291504,3.299363613128662,4.111473321914673,4.9552247524261475,5.746427774429321,6.534735441207886,7.369472980499268,8.143059253692627,8.997750997543335,9.816219329833984,10.636606454849243,11.43471074104309,12.237907886505127,13.070278406143188,13.872501373291016,14.662169694900513,15.44805121421814,16.228201150894165,17.022650957107544,17.808162212371826,18.60559892654419,19.421013832092285,20.194456100463867,20.997400522232056,21.80801033973694,22.639384508132935,23.41707181930542,24.240012407302856,25.034652709960938,25.912328481674194,26.713367223739624,27.508258819580078,28.30836057662964,29.10920810699463,29.911600351333618,30.724750518798828,31.507221460342407,32.29348659515381,33.167070388793945,34.009867668151855,34.81797504425049,35.61982703208923,36.40170645713806,37.22437524795532,38.01867175102234,38.829679012298584,39.66264057159424,40.46785306930542,41.29335284233093,42.112863302230835,42.97490334510803,43.824432611465454,44.61918759346008,45.41240477561951,46.20779824256897,46.999242067337036,47.807310819625854,48.618056535720825,49.43938899040222,50.254056453704834,51.03576421737671,51.814255237579346,52.65825796127319,53.48393750190735,54.36304688453674,55.189287185668945,56.06913733482361,56.87055683135986,57.69917559623718,58.549118518829346,59.3719596862793,60.174784421920776,60.94408917427063,61.790069341659546,62.59125256538391,63.36783218383789,64.16048049926758,64.92822051048279,65.71196627616882,66.49765658378601,67.32297825813293,68.12573838233948,68.90927863121033,69.74892663955688,70.56557083129883,71.36490273475647,72.1538302898407,72.93746018409729,73.75199866294861,74.57259154319763,75.32810878753662,76.143723487854,76.94487142562866,77.72861289978027,78.52632141113281,79.2797462940216,80.0776309967041,80.86087727546692,81.69383454322815],\"type\":\"scatter\",\"xaxis\":\"x2\",\"yaxis\":\"y2\"},{\"line\":{\"color\":\"blue\",\"width\":2},\"mode\":\"lines\",\"name\":\"Discrete QNG\",\"showlegend\":false,\"x\":[0,1,2,3,4,5,6,7,8,9,10,11,12,13,14,15,16,17,18,19,20,21,22,23,24,25,26,27,28,29,30,31,32,33,34,35,36,37,38,39,40,41,42,43,44,45,46,47,48,49,50,51,52,53,54,55,56,57,58,59,60,61,62,63,64,65,66,67,68,69,70,71,72,73,74,75,76,77,78,79,80,81,82,83,84,85,86,87,88,89,90,91,92,93,94,95,96,97,98,99,100],\"y\":[1.5834879875183105,3.227311611175537,4.851003885269165,6.478359222412109,8.063135862350464,9.730525493621826,11.349801301956177,12.939554691314697,14.54321575164795,16.14656138420105,17.735552310943604,19.31753706932068,20.947423458099365,22.685251235961914,24.32778549194336,25.945982694625854,27.583202123641968,29.188926935195923,30.82920002937317,32.48275709152222,34.09602117538452,35.668108224868774,37.26942014694214,38.901830196380615,40.60350704193115,42.237425327301025,43.83868741989136,45.41671943664551,47.08665585517883,48.6611692905426,50.252368450164795,51.93047022819519,53.58900237083435,55.160054445266724,56.80456066131592,58.40535044670105,60.009321212768555,61.69461178779602,63.30397582054138,64.91560196876526,66.55711936950684,68.21458673477173,69.97887802124023,71.64710402488708,73.26076412200928,74.87577962875366,76.46830797195435,78.09931254386902,79.76403594017029,81.34659385681152,83.02041387557983,84.64612936973572,86.29793763160706,87.9340238571167,89.5602343082428,91.15370750427246,92.79666829109192,94.42163825035095,96.05841660499573,97.68526363372803,99.27047514915466,100.88916611671448,102.45481848716736,104.10506629943848,105.76969265937805,107.37239074707031,108.98310875892639,110.60196924209595,112.21212720870972,113.85258841514587,115.44389200210571,117.06428623199463,118.84685158729553,120.42369890213013,122.09605693817139,123.74293971061707,125.3769736289978,126.9761917591095,128.5956084728241,130.2196798324585,131.86734771728516,133.48977303504944,135.10107612609863,136.69218182563782,138.30766224861145,139.9600899219513,141.59846568107605,143.1690330505371,144.82395696640015,146.44076657295227,148.05423593521118,149.63468313217163,151.21985507011414,152.7737238407135,154.3323953151703,155.89750289916992,157.55901837348938,159.168297290802,160.81451153755188,162.35063195228577,163.9859848022461],\"type\":\"scatter\",\"xaxis\":\"x2\",\"yaxis\":\"y2\"},{\"line\":{\"color\":\"brown\",\"width\":2},\"mode\":\"lines\",\"name\":\"Discrete Newton Method\",\"showlegend\":false,\"x\":[0,1,2,3,4,5,6,7,8,9,10,11,12,13,14,15,16,17,18,19,20,21,22,23,24,25,26,27,28,29,30,31,32,33,34,35,36,37,38,39,40,41,42,43,44,45,46,47,48,49,50,51,52,53,54,55,56,57,58,59,60,61,62,63,64,65,66,67,68,69,70,71,72,73,74,75,76,77,78,79,80,81,82,83,84,85,86,87,88,89,90,91,92,93,94,95,96,97,98,99,100],\"y\":[2.1913886070251465,4.521566390991211,6.767069101333618,8.978520631790161,11.347568273544312,13.585582733154297,15.765881538391113,17.96633744239807,20.279343366622925,22.430866241455078,24.64220428466797,26.872793436050415,29.099947690963745,31.42937731742859,33.59489130973816,35.777151584625244,37.963154792785645,40.29843592643738,42.52709150314331,44.792569160461426,46.979185581207275,49.332762479782104,51.54085850715637,53.70984721183777,55.880630016326904,58.237200021743774,60.38685965538025,62.5755934715271,64.76519417762756,67.1444799900055,69.3191328048706,71.56618022918701,73.6846296787262,75.97583985328674,78.19629836082458,80.42953133583069,82.63789200782776,84.81113171577454,87.12305474281311,89.34133791923523,91.52621746063232,93.70357370376587,96.07985782623291,98.24022579193115,100.42275142669678,102.57158875465393,104.8516857624054,106.98423099517822,109.16348528862,111.30139207839966,113.65344047546387,115.85883069038391,117.99998736381531,120.36502051353455,122.58198666572571,124.76319169998169,126.96942830085754,129.27241563796997,131.41104316711426,133.62828731536865,135.7790060043335,137.95635294914246,140.29295754432678,142.4994513988495,144.64207983016968,146.86125946044922,149.19399762153625,151.39292001724243,153.58156299591064,155.82622027397156,158.17983436584473,160.3622646331787,162.60146188735962,164.81821990013123,167.14561438560486,169.32592153549194,171.54226922988892,173.72519445419312,176.07758736610413,178.2674241065979,180.44825053215027,182.61643505096436,184.9367172718048,187.14091682434082,189.29074835777283,191.5166323184967,193.74023032188416,196.06820487976074,198.2160964012146,200.36715626716614,202.7478621006012,204.89893221855164,207.03078699111938,209.2246766090393,211.38035249710083,213.6889727115631,215.83163046836853,218.01533269882202,220.18092155456543,222.5066556930542,224.72722053527832],\"type\":\"scatter\",\"xaxis\":\"x2\",\"yaxis\":\"y2\"},{\"line\":{\"color\":\"red\",\"width\":2},\"name\":\"Discrete Parameter Shift\",\"showlegend\":false,\"x\":[0,1,2,3,4,5,6,7,8,9,10,11,12,13,14,15,16,17,18,19,20,21,22,23,24,25,26,27,28,29,30,31,32,33,34,35,36,37,38,39,40,41,42,43,44,45,46,47,48,49,50,51,52,53,54,55,56,57,58,59,60,61,62,63,64,65,66,67,68,69,70,71,72,73,74,75,76,77,78,79,80,81,82,83,84,85,86,87,88,89,90,91,92,93,94,95,96,97,98,99,100],\"y\":[1.4509682655334473,2.9316728115081787,4.339731693267822,5.797229528427124,7.239684581756592,8.661789655685425,10.132393598556519,11.516053915023804,12.934489488601685,14.330342054367065,15.789670467376709,17.257463455200195,18.687782764434814,20.124236583709717,21.680145025253296,23.16445779800415,24.59249258041382,26.054782390594482,27.497132062911987,28.937195301055908,30.310495376586914,31.78226089477539,33.26363730430603,34.68696188926697,36.140265226364136,37.51397466659546,38.93969130516052,40.371501207351685,41.792779207229614,43.28737115859985,44.70220708847046,46.157190799713135,47.53911876678467,48.95177936553955,50.35094738006592,51.78456997871399,53.26372790336609,54.725024938583374,56.200448989868164,57.600523471832275,59.04266428947449,60.541977405548096,61.98486614227295,63.38743710517883,64.84896755218506,66.35542583465576,67.82068634033203,69.22167038917542,70.62254667282104,72.05722784996033,73.47543096542358,74.9152979850769,76.35487580299377,77.82454442977905,79.39942789077759,80.7671332359314,82.21422052383423,83.63663578033447,85.0632586479187,86.44984698295593,87.85815238952637,89.29237055778503,90.6979558467865,92.09085059165955,93.50806188583374,94.9617121219635,96.34465718269348,97.76676964759827,99.11868071556091,100.48542976379395,101.9032473564148,103.32293772697449,104.72918319702148,106.17859864234924,107.60216879844666,109.03322076797485,110.50034403800964,111.95265507698059,113.41436529159546,114.89552855491638,116.37894606590271,117.79974913597107,119.2874083518982,120.73396325111389,122.21007823944092,123.62617945671082,125.11292147636414,126.59517025947571,128.14196372032166,129.5665442943573,130.97758054733276,132.4634313583374,133.86597061157227,135.28809547424316,136.68573355674744,138.26875686645508,139.7052562236786,141.15028142929077,142.55974769592285,143.98695492744446,145.3695945739746],\"type\":\"scatter\",\"xaxis\":\"x3\",\"yaxis\":\"y3\"},{\"line\":{\"color\":\"green\",\"width\":2},\"mode\":\"lines\",\"name\":\"Discrete Finite Difference\",\"showlegend\":false,\"x\":[0,1,2,3,4,5,6,7,8,9,10,11,12,13,14,15,16,17,18,19,20,21,22,23,24,25,26,27,28,29,30,31,32,33,34,35,36,37,38,39,40,41,42,43,44,45,46,47,48,49,50,51,52,53,54,55,56,57,58,59,60,61,62,63,64,65,66,67,68,69,70,71,72,73,74,75,76,77,78,79,80,81,82,83,84,85,86,87,88,89,90,91,92,93,94,95,96,97,98,99,100],\"y\":[1.4512462615966797,2.882713794708252,4.335803985595703,5.765000820159912,7.186110019683838,8.60059642791748,10.164142847061157,11.556190252304077,12.95682668685913,14.363553524017334,15.77811050415039,17.22750949859619,18.67020583152771,20.124168634414673,21.492214679718018,22.8990740776062,24.380524158477783,25.793657302856445,27.192208766937256,28.60667896270752,30.043248176574707,31.524810314178467,32.935391902923584,34.36758899688721,35.73330879211426,37.11150670051575,38.50576901435852,39.956799268722534,41.387531042099,42.753368854522705,44.17097783088684,45.63737154006958,47.07671594619751,48.56848192214966,49.984540700912476,51.43047595024109,52.861531019210815,54.28574585914612,55.73889112472534,57.154844760894775,58.57238149642944,59.99328684806824,61.444313287734985,62.87718152999878,64.31997466087341,65.71846842765808,67.10572814941406,68.6977608203888,70.0595805644989,71.4721531867981,72.87853336334229,74.30856728553772,75.71462845802307,77.14072680473328,78.57109999656677,79.96907782554626,81.39644360542297,82.81418561935425,84.23761320114136,85.67241215705872,87.20431399345398,88.65646505355835,90.06014800071716,91.48491382598877,92.91311860084534,94.36837029457092,95.7720992565155,97.19921278953552,98.6513397693634,100.07994151115417,101.48642778396606,102.9436445236206,104.44395589828491,105.84240961074829,107.29030966758728,108.70805811882019,110.14101839065552,111.54737782478333,112.99042129516602,114.42103433609009,115.88074517250061,117.32077097892761,118.75086688995361,120.15857338905334,121.59708309173584,122.96991348266602,124.3739173412323,125.79399514198303,127.48852062225342,128.91656279563904,130.357430934906,131.78615427017212,133.2497203350067,134.66082334518433,136.0779778957367,137.55956268310547,139.00389909744263,140.4443998336792,141.82105326652527,143.2490599155426,144.71033692359924],\"type\":\"scatter\",\"xaxis\":\"x3\",\"yaxis\":\"y3\"},{\"line\":{\"color\":\"yellow\",\"width\":2},\"mode\":\"lines\",\"name\":\"Discrete LCU\",\"showlegend\":false,\"x\":[0,1,2,3,4,5,6,7,8,9,10,11,12,13,14,15,16,17,18,19,20,21,22,23,24,25,26,27,28,29,30,31,32,33,34,35,36,37,38,39,40,41,42,43,44,45,46,47,48,49,50,51,52,53,54,55,56,57,58,59,60,61,62,63,64,65,66,67,68,69,70,71,72,73,74,75,76,77,78,79,80,81,82,83,84,85,86,87,88,89,90,91,92,93,94,95,96,97,98,99,100],\"y\":[0.827843427658081,1.6645255088806152,2.448516607284546,3.2339816093444824,4.041667222976685,4.8211610317230225,5.60697078704834,6.425189971923828,7.236608266830444,8.035637378692627,8.860236883163452,9.665245771408081,10.526813268661499,11.386430740356445,12.163492202758789,12.97085690498352,13.780665874481201,14.574054479598999,15.348270893096924,16.121816873550415,16.925342798233032,17.71598219871521,18.514440774917603,19.303053617477417,20.089634656906128,20.881710052490234,21.674046277999878,22.434102296829224,23.2069354057312,24.024682998657227,24.844392776489258,25.65162491798401,26.466987371444702,27.302051782608032,28.085753917694092,28.92122530937195,29.759012699127197,30.582448720932007,31.356418132781982,32.14012408256531,32.95102000236511,33.81373047828674,34.58102083206177,35.43362474441528,36.26671767234802,37.13988280296326,37.92762851715088,38.719383239746094,39.5533447265625,40.37213397026062,41.152671813964844,41.944366693496704,42.76846671104431,43.5683798789978,44.36152672767639,45.15007138252258,45.92493271827698,46.707892417907715,47.50229811668396,48.30755066871643,49.09217691421509,49.87471151351929,50.64444541931152,51.45549297332764,52.3008291721344,53.111096143722534,53.94252109527588,54.772156953811646,55.59528088569641,56.40741682052612,57.243648529052734,58.016937494277954,58.809587717056274,59.638129472732544,60.4328396320343,61.26223349571228,62.07212829589844,62.86824035644531,63.66618466377258,64.48591375350952,65.26482510566711,66.04604315757751,66.84235143661499,67.67378520965576,68.5214204788208,69.34102153778076,70.14777207374573,70.96672415733337,71.73610591888428,72.53668189048767,73.3503794670105,74.19750142097473,74.95829963684082,75.79355955123901,76.59121823310852,77.43266940116882,78.2476737499237,79.03212213516235,79.81456279754639,80.64848470687866,81.49015831947327],\"type\":\"scatter\",\"xaxis\":\"x3\",\"yaxis\":\"y3\"},{\"line\":{\"color\":\"blue\",\"width\":2},\"mode\":\"lines\",\"name\":\"Discrete QNG\",\"showlegend\":false,\"x\":[0,1,2,3,4,5,6,7,8,9,10,11,12,13,14,15,16,17,18,19,20,21,22,23,24,25,26,27,28,29,30,31,32,33,34,35,36,37,38,39,40,41,42,43,44,45,46,47,48,49,50,51,52,53,54,55,56,57,58,59,60,61,62,63,64,65,66,67,68,69,70,71,72,73,74,75,76,77,78,79,80,81,82,83,84,85,86,87,88,89,90,91,92,93,94,95,96,97,98,99,100],\"y\":[1.6047101020812988,3.2298710346221924,4.925398349761963,6.50005578994751,8.097209453582764,9.698707103729248,11.313281774520874,12.924667119979858,14.524847030639648,16.16011881828308,17.75216269493103,19.44206142425537,21.113452672958374,22.731868505477905,24.38180184364319,25.994201183319092,27.734501123428345,29.348196983337402,30.99952220916748,32.647454500198364,34.3262414932251,35.986769676208496,37.60769963264465,39.27552556991577,40.936705350875854,42.51184582710266,44.11759066581726,45.72425651550293,47.36213254928589,48.993313789367676,50.620691776275635,52.231990337371826,53.77086782455444,55.34363794326782,56.9873366355896,58.58438420295715,60.17923092842102,61.813061237335205,63.431060552597046,65.09285187721252,66.74784016609192,68.38454389572144,70.02438640594482,71.67697310447693,73.42681550979614,75.09814715385437,76.7418839931488,78.3804657459259,80.03619170188904,81.61149454116821,83.2612612247467,84.8847644329071,86.47680807113647,88.08876919746399,89.6643488407135,91.27843713760376,92.86229038238525,94.45694208145142,96.09561777114868,97.71798515319824,99.33838510513306,100.98863697052002,102.61243796348572,104.19195699691772,105.77684140205383,107.3733639717102,109.03575897216797,110.63508605957031,112.20542621612549,113.88859391212463,115.45684170722961,117.08132529258728,118.66709446907043,120.30878210067749,122.12159585952759,123.72204041481018,125.39470648765564,127.08253693580627,128.6659288406372,130.29496216773987,131.88682341575623,133.48039507865906,135.12511253356934,136.71058344841003,138.29308891296387,139.9372889995575,141.5717396736145,143.2385482788086,144.90498399734497,146.51469111442566,148.13826632499695,149.87590551376343,151.53318810462952,153.16460347175598,154.85954093933105,156.5193064212799,158.16944074630737,159.77453994750977,161.4260332584381,163.0646014213562,164.75269103050232],\"type\":\"scatter\",\"xaxis\":\"x3\",\"yaxis\":\"y3\"},{\"line\":{\"color\":\"brown\",\"width\":2},\"mode\":\"lines\",\"name\":\"Discrete Newton Method\",\"showlegend\":false,\"x\":[0,1,2,3,4,5,6,7,8,9,10,11,12,13,14,15,16,17,18,19,20,21,22,23,24,25,26,27,28,29,30,31,32,33,34,35,36,37,38,39,40,41,42,43,44,45,46,47,48,49,50,51,52,53,54,55,56,57,58,59,60,61,62,63,64,65,66,67,68,69,70,71,72,73,74,75,76,77,78,79,80,81,82,83,84,85,86,87,88,89,90,91,92,93,94,95,96,97,98,99,100],\"y\":[2.176262855529785,4.358776807785034,6.544643402099609,8.714398384094238,10.828917503356934,13.254976034164429,15.426959991455078,17.668639183044434,19.915984392166138,22.198768615722656,24.434664011001587,26.600111484527588,28.96830677986145,31.14124846458435,33.33795094490051,35.529704093933105,37.77100419998169,40.14038443565369,42.32597589492798,44.45853900909424,46.72772455215454,48.8384006023407,51.0034863948822,53.184853076934814,55.49531316757202,57.637537717819214,59.80008029937744,61.96069550514221,64.13281917572021,66.47621035575867,68.66590595245361,70.84653115272522,72.98770117759705,75.2884783744812,77.4583113193512,79.61441612243652,81.80751180648804,84.18821358680725,86.35093832015991,88.56476616859436,90.67648816108704,92.83068704605103,95.19622731208801,97.3724901676178,99.52951407432556,101.74666833877563,103.89819264411926,106.25174808502197,108.4624445438385,110.66739344596863,112.85429859161377,115.25441193580627,117.39339971542358,119.57343626022339,121.73488140106201,124.07371211051941,126.2126476764679,128.3731997013092,130.5163059234619,132.8178505897522,135.0390543937683,137.25641703605652,139.4662470817566,141.8674600124359,144.05235719680786,146.21331524848938,148.46323561668396,150.70600152015686,153.02688074111938,155.23868227005005,157.43426489830017,159.71812796592712,162.00495409965515,164.16594171524048,166.34774947166443,168.54873490333557,170.9347562789917,173.0983762741089,175.23566436767578,177.39158940315247,179.71324276924133,181.9220325946808,184.13403606414795,186.30164122581482,188.66137218475342,190.8019027709961,192.99353981018066,195.17351841926575,197.53571772575378,199.71975135803223,201.85102915763855,204.0823769569397,206.22032570838928,208.61554384231567,210.77759766578674,212.9483060836792,215.13937759399414,217.4650959968567,219.65475225448608,221.82020235061646,224.02326560020447],\"type\":\"scatter\",\"xaxis\":\"x3\",\"yaxis\":\"y3\"},{\"line\":{\"color\":\"red\",\"width\":2},\"name\":\"Discrete Parameter Shift\",\"showlegend\":false,\"x\":[0,1,2,3,4,5,6,7,8,9,10,11,12,13,14,15,16,17,18,19,20,21,22,23,24,25,26,27,28,29,30,31,32,33,34,35,36,37,38,39,40,41,42,43,44,45,46,47,48,49,50,51,52,53,54,55,56,57,58,59,60,61,62,63,64,65,66,67,68,69,70,71,72,73,74,75,76,77,78,79,80,81,82,83,84,85,86,87,88,89,90,91,92,93,94,95,96,97,98,99,100],\"y\":[1.5422015190124512,3.058521270751953,4.594118356704712,6.08561110496521,7.63135838508606,9.226363897323608,10.807734251022339,12.325939178466797,13.854370832443237,15.36321234703064,16.89354634284973,18.506017446517944,20.065903902053833,21.612969398498535,23.12129282951355,24.797813415527344,26.33264923095703,27.9227876663208,29.432019472122192,30.97016143798828,32.58467364311218,34.12071442604065,35.73396420478821,37.28588032722473,38.81891679763794,40.385735750198364,41.97224831581116,43.531583070755005,45.06191444396973,46.64121699333191,48.217793464660645,49.74102473258972,51.31047439575195,52.841005086898804,54.363147258758545,55.89761137962341,57.48930764198303,59.02912640571594,60.59115552902222,62.1104257106781,63.67422008514404,65.23229742050171,66.77193808555603,68.2789831161499,69.81321835517883,71.35178089141846,72.87729573249817,74.40970802307129,75.98214197158813,77.4917151927948,79.03838419914246,80.5737361907959,82.16252636909485,83.6956832408905,85.36990475654602,86.97476530075073,88.52366876602173,90.0548677444458,91.59976363182068,93.13030552864075,94.69651675224304,96.2139241695404,97.72446084022522,99.2829692363739,100.79964804649353,102.30141258239746,103.8489682674408,105.37149381637573,106.90032362937927,108.4538106918335,110.02202916145325,111.62204194068909,113.14964246749878,114.73290133476257,116.21173810958862,117.79951906204224,119.33437180519104,120.90384197235107,122.46872186660767,124.02634787559509,125.55837655067444,127.14868474006653,128.75097918510437,130.32938194274902,131.8926978111267,133.40687012672424,134.95404195785522,136.43214201927185,137.97371768951416,139.4922547340393,141.08071660995483,142.64445614814758,144.36101460456848,145.8904731273651,147.46691703796387,149.02039980888367,150.6391716003418,152.1460247039795,153.66116380691528,155.2332911491394,156.83454203605652],\"type\":\"scatter\",\"xaxis\":\"x4\",\"yaxis\":\"y4\"},{\"line\":{\"color\":\"green\",\"width\":2},\"mode\":\"lines\",\"name\":\"Discrete Finite Difference\",\"showlegend\":false,\"x\":[0,1,2,3,4,5,6,7,8,9,10,11,12,13,14,15,16,17,18,19,20,21,22,23,24,25,26,27,28,29,30,31,32,33,34,35,36,37,38,39,40,41,42,43,44,45,46,47,48,49,50,51,52,53,54,55,56,57,58,59,60,61,62,63,64,65,66,67,68,69,70,71,72,73,74,75,76,77,78,79,80,81,82,83,84,85,86,87,88,89,90,91,92,93,94,95,96,97,98,99,100],\"y\":[1.5219898223876953,3.141383171081543,4.723131895065308,6.257785797119141,7.780102014541626,9.307622194290161,10.881715297698975,12.481181144714355,14.016492128372192,15.522902488708496,17.078725576400757,18.635149717330933,20.190194606781006,21.749016761779785,23.28965139389038,24.837129831314087,26.54133629798889,28.091758251190186,29.646710872650146,31.227698802947998,32.80316495895386,34.33983778953552,35.87105321884155,37.430591106414795,39.03032040596008,40.55973172187805,42.11624598503113,43.65101909637451,45.20418071746826,46.79749870300293,48.36373567581177,49.90873312950134,51.468611001968384,52.984838247299194,54.51085567474365,56.075321197509766,57.62457084655762,59.17720580101013,60.70626521110535,62.232465744018555,63.75246238708496,65.30277729034424,66.78062605857849,68.32505989074707,69.80769658088684,71.3571081161499,72.88513469696045,74.44818663597107,76.00634264945984,77.56751298904419,79.08279013633728,80.63980913162231,82.20945811271667,83.70882248878479,85.29600048065186,87.03183364868164,88.56026697158813,90.13776636123657,91.63638639450073,93.16262626647949,94.72618889808655,96.32072973251343,97.8911395072937,99.47236847877502,101.06319737434387,102.65526938438416,104.24419450759888,105.8002576828003,107.34058046340942,108.91451835632324,110.51244354248047,112.06064653396606,113.60160112380981,115.13725209236145,116.63027453422546,118.18507122993469,119.69935822486877,121.28659749031067,122.80762457847595,124.35700964927673,125.96191906929016,127.51128053665161,129.0491077899933,130.63783812522888,132.16998505592346,133.73433470726013,135.2834017276764,136.83010601997375,138.3520646095276,139.9033362865448,141.43097853660583,142.99330830574036,144.5043363571167,146.17172026634216,147.71750450134277,149.27581691741943,150.76439309120178,152.31458020210266,153.86691761016846,155.4040195941925,156.93118500709534],\"type\":\"scatter\",\"xaxis\":\"x4\",\"yaxis\":\"y4\"},{\"line\":{\"color\":\"yellow\",\"width\":2},\"mode\":\"lines\",\"name\":\"Discrete LCU\",\"showlegend\":false,\"x\":[0,1,2,3,4,5,6,7,8,9,10,11,12,13,14,15,16,17,18,19,20,21,22,23,24,25,26,27,28,29,30,31,32,33,34,35,36,37,38,39,40,41,42,43,44,45,46,47,48,49,50,51,52,53,54,55,56,57,58,59,60,61,62,63,64,65,66,67,68,69,70,71,72,73,74,75,76,77,78,79,80,81,82,83,84,85,86,87,88,89,90,91,92,93,94,95,96,97,98,99,100],\"y\":[0.8799855709075928,1.768989086151123,2.673771381378174,3.542099952697754,4.449968576431274,5.368750333786011,6.2184507846832275,7.112703323364258,7.984305143356323,8.84563660621643,9.747143983840942,10.617153406143188,11.453009605407715,12.341859340667725,13.224408149719238,14.110841512680054,15.013676404953003,15.885644912719727,16.754290342330933,17.600962162017822,18.47971534729004,19.371846914291382,20.297696352005005,21.15136957168579,21.96481704711914,22.81802248954773,23.711456060409546,24.591484546661377,25.473825454711914,26.30446696281433,27.17057466506958,28.078046083450317,28.95880126953125,29.808250427246094,30.662699222564697,31.534995555877686,32.39992952346802,33.23376131057739,34.078181982040405,34.91334867477417,35.76229810714722,36.62748861312866,37.47068452835083,38.32842659950256,39.1728675365448,40.04119610786438,40.90337538719177,41.7524573802948,42.681209325790405,43.530385971069336,44.43072748184204,45.30686807632446,46.192614793777466,47.058377504348755,47.944406032562256,48.771037578582764,49.671520471572876,50.52261137962341,51.420153856277466,52.307260036468506,53.219972372055054,54.121442556381226,54.97844171524048,55.91794753074646,56.787702798843384,57.64953422546387,58.55220437049866,59.42319583892822,60.295315742492676,61.152923822402954,61.9692223072052,62.80112075805664,63.622395038604736,64.51887941360474,65.42723870277405,66.28557014465332,67.11311936378479,67.97263312339783,68.88408517837524,69.75715565681458,70.6348044872284,71.5059061050415,72.42461681365967,73.26137638092041,74.12197208404541,75.00325727462769,75.92800378799438,76.77185773849487,77.62813878059387,78.49869585037231,79.37051916122437,80.27624940872192,81.13602638244629,81.98990392684937,82.85494256019592,83.72013592720032,84.57996559143066,85.48760509490967,86.35768795013428,87.22032046318054,88.05045890808105],\"type\":\"scatter\",\"xaxis\":\"x4\",\"yaxis\":\"y4\"},{\"line\":{\"color\":\"blue\",\"width\":2},\"mode\":\"lines\",\"name\":\"Discrete QNG\",\"showlegend\":false,\"x\":[0,1,2,3,4,5,6,7,8,9,10,11,12,13,14,15,16,17,18,19,20,21,22,23,24,25,26,27,28,29,30,31,32,33,34,35,36,37,38,39,40,41,42,43,44,45,46,47,48,49,50,51,52,53,54,55,56,57,58,59,60,61,62,63,64,65,66,67,68,69,70,71,72,73,74,75,76,77,78,79,80,81,82,83,84,85,86,87,88,89,90,91,92,93,94,95,96,97,98,99,100],\"y\":[1.818253755569458,3.5842602252960205,5.304090976715088,7.076386451721191,8.820212125778198,10.577767610549927,12.332719087600708,14.10659384727478,15.83425498008728,17.56818389892578,19.38052725791931,21.253169059753418,22.978789806365967,24.761648654937744,26.47809886932373,28.268836736679077,30.00680661201477,31.786465644836426,33.57428526878357,35.37287998199463,37.03475093841553,38.737550258636475,40.48016166687012,42.232730865478516,43.982656717300415,45.68760275840759,47.438770055770874,49.27818584442139,51.04982948303223,52.770752906799316,54.463501930236816,56.227827310562134,57.951000452041626,59.67657518386841,61.411922454833984,63.156858921051025,64.93707609176636,66.68313455581665,68.40908885002136,70.32742190361023,72.06752419471741,73.80509376525879,75.62847447395325,77.3720018863678,79.10577654838562,80.80470991134644,82.55887174606323,84.33300948143005,86.04551434516907,87.7883894443512,89.6640977859497,91.41461539268494,93.19663953781128,94.94309496879578,96.70685529708862,98.43777084350586,100.19125366210938,102.00637102127075,103.69749045372009,105.54060959815979,107.33875584602356,109.15982389450073,110.89297986030579,112.61916947364807,114.36626768112183,116.1208918094635,117.91870641708374,119.79021453857422,121.49273419380188,123.30989575386047,125.02676033973694,126.76787066459656,128.49624943733215,130.25243592262268,131.90897750854492,133.62040948867798,135.3399465084076,137.1101152896881,138.88243460655212,140.6933717727661,142.46865940093994,144.20331811904907,145.92235279083252,147.67756628990173,149.4060287475586,151.1989562511444,152.92818212509155,154.72872853279114,156.49658060073853,158.25477647781372,160.06118488311768,161.80065083503723,163.54534029960632,165.3174750804901,167.274915933609,169.01526927947998,170.76407861709595,172.4814727306366,174.18542289733887,175.95793056488037,177.69923543930054],\"type\":\"scatter\",\"xaxis\":\"x4\",\"yaxis\":\"y4\"},{\"line\":{\"color\":\"brown\",\"width\":2},\"mode\":\"lines\",\"name\":\"Discrete Newton Method\",\"showlegend\":false,\"x\":[0,1,2,3,4,5,6,7,8,9,10,11,12,13,14,15,16,17,18,19,20,21,22,23,24,25,26,27,28,29,30,31,32,33,34,35,36,37,38,39,40,41,42,43,44,45,46,47,48,49,50,51,52,53,54,55,56,57,58,59,60,61,62,63,64,65,66,67,68,69,70,71,72,73,74,75,76,77,78,79,80,81,82,83,84,85,86,87,88,89,90,91,92,93,94,95,96,97,98,99,100],\"y\":[2.319371461868286,4.659692287445068,7.109791994094849,9.404680252075195,11.661823272705078,13.955569505691528,16.451080560684204,18.784593105316162,21.053630113601685,23.467511653900146,25.935710191726685,28.31014633178711,30.653216123580933,33.056230306625366,35.52392244338989,37.871989250183105,40.172706842422485,42.49447512626648,45.007617473602295,47.33840823173523,49.62364935874939,51.94571232795715,54.425021171569824,56.75887179374695,59.059250831604004,61.39107799530029,63.853074073791504,66.20155572891235,68.52309942245483,70.85566592216492,73.32370495796204,75.73134875297546,78.04459834098816,80.31836652755737,82.8937680721283,85.21050190925598,87.49910306930542,89.84030246734619,92.34376001358032,94.66042351722717,96.94434952735901,99.2912347316742,101.80018782615662,104.1328957080841,106.42989587783813,108.79087471961975,111.2462170124054,113.62039136886597,115.9540376663208,118.25618767738342,120.69842720031738,122.99889731407166,125.33840537071228,127.64648079872131,130.12982392311096,132.4185733795166,134.67470264434814,136.97368168830872,139.45559883117676,141.76215624809265,144.0599341392517,146.34616708755493,148.8259494304657,151.12486100196838,153.44722294807434,155.73486304283142,158.20324397087097,160.50377655029297,162.80078148841858,165.0679051876068,167.5782961845398,169.88184022903442,172.20434141159058,174.51074361801147,176.995103597641,179.26269578933716,181.69300293922424,184.13441944122314,186.46940755844116,188.80634760856628,191.22920441627502,193.5566143989563,195.99055790901184,198.25559210777283,200.57853531837463,202.8809676170349,205.30053400993347,207.65197443962097,209.95348238945007,212.47271537780762,214.8176393508911,217.1261031627655,219.4638900756836,221.9543581008911,224.25032925605774,226.5711042881012,228.88348650932312,231.34842205047607,233.6506223678589,235.9361526966095,238.27021288871765],\"type\":\"scatter\",\"xaxis\":\"x4\",\"yaxis\":\"y4\"}],                        {\"template\":{\"data\":{\"bar\":[{\"error_x\":{\"color\":\"#2a3f5f\"},\"error_y\":{\"color\":\"#2a3f5f\"},\"marker\":{\"line\":{\"color\":\"#E5ECF6\",\"width\":0.5},\"pattern\":{\"fillmode\":\"overlay\",\"size\":10,\"solidity\":0.2}},\"type\":\"bar\"}],\"barpolar\":[{\"marker\":{\"line\":{\"color\":\"#E5ECF6\",\"width\":0.5},\"pattern\":{\"fillmode\":\"overlay\",\"size\":10,\"solidity\":0.2}},\"type\":\"barpolar\"}],\"carpet\":[{\"aaxis\":{\"endlinecolor\":\"#2a3f5f\",\"gridcolor\":\"white\",\"linecolor\":\"white\",\"minorgridcolor\":\"white\",\"startlinecolor\":\"#2a3f5f\"},\"baxis\":{\"endlinecolor\":\"#2a3f5f\",\"gridcolor\":\"white\",\"linecolor\":\"white\",\"minorgridcolor\":\"white\",\"startlinecolor\":\"#2a3f5f\"},\"type\":\"carpet\"}],\"choropleth\":[{\"colorbar\":{\"outlinewidth\":0,\"ticks\":\"\"},\"type\":\"choropleth\"}],\"contour\":[{\"colorbar\":{\"outlinewidth\":0,\"ticks\":\"\"},\"colorscale\":[[0.0,\"#0d0887\"],[0.1111111111111111,\"#46039f\"],[0.2222222222222222,\"#7201a8\"],[0.3333333333333333,\"#9c179e\"],[0.4444444444444444,\"#bd3786\"],[0.5555555555555556,\"#d8576b\"],[0.6666666666666666,\"#ed7953\"],[0.7777777777777778,\"#fb9f3a\"],[0.8888888888888888,\"#fdca26\"],[1.0,\"#f0f921\"]],\"type\":\"contour\"}],\"contourcarpet\":[{\"colorbar\":{\"outlinewidth\":0,\"ticks\":\"\"},\"type\":\"contourcarpet\"}],\"heatmap\":[{\"colorbar\":{\"outlinewidth\":0,\"ticks\":\"\"},\"colorscale\":[[0.0,\"#0d0887\"],[0.1111111111111111,\"#46039f\"],[0.2222222222222222,\"#7201a8\"],[0.3333333333333333,\"#9c179e\"],[0.4444444444444444,\"#bd3786\"],[0.5555555555555556,\"#d8576b\"],[0.6666666666666666,\"#ed7953\"],[0.7777777777777778,\"#fb9f3a\"],[0.8888888888888888,\"#fdca26\"],[1.0,\"#f0f921\"]],\"type\":\"heatmap\"}],\"heatmapgl\":[{\"colorbar\":{\"outlinewidth\":0,\"ticks\":\"\"},\"colorscale\":[[0.0,\"#0d0887\"],[0.1111111111111111,\"#46039f\"],[0.2222222222222222,\"#7201a8\"],[0.3333333333333333,\"#9c179e\"],[0.4444444444444444,\"#bd3786\"],[0.5555555555555556,\"#d8576b\"],[0.6666666666666666,\"#ed7953\"],[0.7777777777777778,\"#fb9f3a\"],[0.8888888888888888,\"#fdca26\"],[1.0,\"#f0f921\"]],\"type\":\"heatmapgl\"}],\"histogram\":[{\"marker\":{\"pattern\":{\"fillmode\":\"overlay\",\"size\":10,\"solidity\":0.2}},\"type\":\"histogram\"}],\"histogram2d\":[{\"colorbar\":{\"outlinewidth\":0,\"ticks\":\"\"},\"colorscale\":[[0.0,\"#0d0887\"],[0.1111111111111111,\"#46039f\"],[0.2222222222222222,\"#7201a8\"],[0.3333333333333333,\"#9c179e\"],[0.4444444444444444,\"#bd3786\"],[0.5555555555555556,\"#d8576b\"],[0.6666666666666666,\"#ed7953\"],[0.7777777777777778,\"#fb9f3a\"],[0.8888888888888888,\"#fdca26\"],[1.0,\"#f0f921\"]],\"type\":\"histogram2d\"}],\"histogram2dcontour\":[{\"colorbar\":{\"outlinewidth\":0,\"ticks\":\"\"},\"colorscale\":[[0.0,\"#0d0887\"],[0.1111111111111111,\"#46039f\"],[0.2222222222222222,\"#7201a8\"],[0.3333333333333333,\"#9c179e\"],[0.4444444444444444,\"#bd3786\"],[0.5555555555555556,\"#d8576b\"],[0.6666666666666666,\"#ed7953\"],[0.7777777777777778,\"#fb9f3a\"],[0.8888888888888888,\"#fdca26\"],[1.0,\"#f0f921\"]],\"type\":\"histogram2dcontour\"}],\"mesh3d\":[{\"colorbar\":{\"outlinewidth\":0,\"ticks\":\"\"},\"type\":\"mesh3d\"}],\"parcoords\":[{\"line\":{\"colorbar\":{\"outlinewidth\":0,\"ticks\":\"\"}},\"type\":\"parcoords\"}],\"pie\":[{\"automargin\":true,\"type\":\"pie\"}],\"scatter\":[{\"marker\":{\"colorbar\":{\"outlinewidth\":0,\"ticks\":\"\"}},\"type\":\"scatter\"}],\"scatter3d\":[{\"line\":{\"colorbar\":{\"outlinewidth\":0,\"ticks\":\"\"}},\"marker\":{\"colorbar\":{\"outlinewidth\":0,\"ticks\":\"\"}},\"type\":\"scatter3d\"}],\"scattercarpet\":[{\"marker\":{\"colorbar\":{\"outlinewidth\":0,\"ticks\":\"\"}},\"type\":\"scattercarpet\"}],\"scattergeo\":[{\"marker\":{\"colorbar\":{\"outlinewidth\":0,\"ticks\":\"\"}},\"type\":\"scattergeo\"}],\"scattergl\":[{\"marker\":{\"colorbar\":{\"outlinewidth\":0,\"ticks\":\"\"}},\"type\":\"scattergl\"}],\"scattermapbox\":[{\"marker\":{\"colorbar\":{\"outlinewidth\":0,\"ticks\":\"\"}},\"type\":\"scattermapbox\"}],\"scatterpolar\":[{\"marker\":{\"colorbar\":{\"outlinewidth\":0,\"ticks\":\"\"}},\"type\":\"scatterpolar\"}],\"scatterpolargl\":[{\"marker\":{\"colorbar\":{\"outlinewidth\":0,\"ticks\":\"\"}},\"type\":\"scatterpolargl\"}],\"scatterternary\":[{\"marker\":{\"colorbar\":{\"outlinewidth\":0,\"ticks\":\"\"}},\"type\":\"scatterternary\"}],\"surface\":[{\"colorbar\":{\"outlinewidth\":0,\"ticks\":\"\"},\"colorscale\":[[0.0,\"#0d0887\"],[0.1111111111111111,\"#46039f\"],[0.2222222222222222,\"#7201a8\"],[0.3333333333333333,\"#9c179e\"],[0.4444444444444444,\"#bd3786\"],[0.5555555555555556,\"#d8576b\"],[0.6666666666666666,\"#ed7953\"],[0.7777777777777778,\"#fb9f3a\"],[0.8888888888888888,\"#fdca26\"],[1.0,\"#f0f921\"]],\"type\":\"surface\"}],\"table\":[{\"cells\":{\"fill\":{\"color\":\"#EBF0F8\"},\"line\":{\"color\":\"white\"}},\"header\":{\"fill\":{\"color\":\"#C8D4E3\"},\"line\":{\"color\":\"white\"}},\"type\":\"table\"}]},\"layout\":{\"annotationdefaults\":{\"arrowcolor\":\"#2a3f5f\",\"arrowhead\":0,\"arrowwidth\":1},\"autotypenumbers\":\"strict\",\"coloraxis\":{\"colorbar\":{\"outlinewidth\":0,\"ticks\":\"\"}},\"colorscale\":{\"diverging\":[[0,\"#8e0152\"],[0.1,\"#c51b7d\"],[0.2,\"#de77ae\"],[0.3,\"#f1b6da\"],[0.4,\"#fde0ef\"],[0.5,\"#f7f7f7\"],[0.6,\"#e6f5d0\"],[0.7,\"#b8e186\"],[0.8,\"#7fbc41\"],[0.9,\"#4d9221\"],[1,\"#276419\"]],\"sequential\":[[0.0,\"#0d0887\"],[0.1111111111111111,\"#46039f\"],[0.2222222222222222,\"#7201a8\"],[0.3333333333333333,\"#9c179e\"],[0.4444444444444444,\"#bd3786\"],[0.5555555555555556,\"#d8576b\"],[0.6666666666666666,\"#ed7953\"],[0.7777777777777778,\"#fb9f3a\"],[0.8888888888888888,\"#fdca26\"],[1.0,\"#f0f921\"]],\"sequentialminus\":[[0.0,\"#0d0887\"],[0.1111111111111111,\"#46039f\"],[0.2222222222222222,\"#7201a8\"],[0.3333333333333333,\"#9c179e\"],[0.4444444444444444,\"#bd3786\"],[0.5555555555555556,\"#d8576b\"],[0.6666666666666666,\"#ed7953\"],[0.7777777777777778,\"#fb9f3a\"],[0.8888888888888888,\"#fdca26\"],[1.0,\"#f0f921\"]]},\"colorway\":[\"#636efa\",\"#EF553B\",\"#00cc96\",\"#ab63fa\",\"#FFA15A\",\"#19d3f3\",\"#FF6692\",\"#B6E880\",\"#FF97FF\",\"#FECB52\"],\"font\":{\"color\":\"#2a3f5f\"},\"geo\":{\"bgcolor\":\"white\",\"lakecolor\":\"white\",\"landcolor\":\"#E5ECF6\",\"showlakes\":true,\"showland\":true,\"subunitcolor\":\"white\"},\"hoverlabel\":{\"align\":\"left\"},\"hovermode\":\"closest\",\"mapbox\":{\"style\":\"light\"},\"paper_bgcolor\":\"white\",\"plot_bgcolor\":\"#E5ECF6\",\"polar\":{\"angularaxis\":{\"gridcolor\":\"white\",\"linecolor\":\"white\",\"ticks\":\"\"},\"bgcolor\":\"#E5ECF6\",\"radialaxis\":{\"gridcolor\":\"white\",\"linecolor\":\"white\",\"ticks\":\"\"}},\"scene\":{\"xaxis\":{\"backgroundcolor\":\"#E5ECF6\",\"gridcolor\":\"white\",\"gridwidth\":2,\"linecolor\":\"white\",\"showbackground\":true,\"ticks\":\"\",\"zerolinecolor\":\"white\"},\"yaxis\":{\"backgroundcolor\":\"#E5ECF6\",\"gridcolor\":\"white\",\"gridwidth\":2,\"linecolor\":\"white\",\"showbackground\":true,\"ticks\":\"\",\"zerolinecolor\":\"white\"},\"zaxis\":{\"backgroundcolor\":\"#E5ECF6\",\"gridcolor\":\"white\",\"gridwidth\":2,\"linecolor\":\"white\",\"showbackground\":true,\"ticks\":\"\",\"zerolinecolor\":\"white\"}},\"shapedefaults\":{\"line\":{\"color\":\"#2a3f5f\"}},\"ternary\":{\"aaxis\":{\"gridcolor\":\"white\",\"linecolor\":\"white\",\"ticks\":\"\"},\"baxis\":{\"gridcolor\":\"white\",\"linecolor\":\"white\",\"ticks\":\"\"},\"bgcolor\":\"#E5ECF6\",\"caxis\":{\"gridcolor\":\"white\",\"linecolor\":\"white\",\"ticks\":\"\"}},\"title\":{\"x\":0.05},\"xaxis\":{\"automargin\":true,\"gridcolor\":\"white\",\"linecolor\":\"white\",\"ticks\":\"\",\"title\":{\"standoff\":15},\"zerolinecolor\":\"white\",\"zerolinewidth\":2},\"yaxis\":{\"automargin\":true,\"gridcolor\":\"white\",\"linecolor\":\"white\",\"ticks\":\"\",\"title\":{\"standoff\":15},\"zerolinecolor\":\"white\",\"zerolinewidth\":2}}},\"xaxis\":{\"anchor\":\"y\",\"domain\":[0.0,0.45],\"title\":{\"text\":\"Iteration\"}},\"yaxis\":{\"anchor\":\"x\",\"domain\":[0.625,1.0],\"title\":{\"text\":\"Time (Sec)\"}},\"xaxis2\":{\"anchor\":\"y2\",\"domain\":[0.55,1.0]},\"yaxis2\":{\"anchor\":\"x2\",\"domain\":[0.625,1.0]},\"xaxis3\":{\"anchor\":\"y3\",\"domain\":[0.0,0.45]},\"yaxis3\":{\"anchor\":\"x3\",\"domain\":[0.0,0.375]},\"xaxis4\":{\"anchor\":\"y4\",\"domain\":[0.55,1.0]},\"yaxis4\":{\"anchor\":\"x4\",\"domain\":[0.0,0.375]},\"annotations\":[{\"font\":{\"size\":16},\"showarrow\":false,\"text\":\"Max-Cut\",\"x\":0.225,\"xanchor\":\"center\",\"xref\":\"paper\",\"y\":1.0,\"yanchor\":\"bottom\",\"yref\":\"paper\"},{\"font\":{\"size\":16},\"showarrow\":false,\"text\":\"Clique\",\"x\":0.775,\"xanchor\":\"center\",\"xref\":\"paper\",\"y\":1.0,\"yanchor\":\"bottom\",\"yref\":\"paper\"},{\"font\":{\"size\":16},\"showarrow\":false,\"text\":\"Binary Linear Programming\",\"x\":0.225,\"xanchor\":\"center\",\"xref\":\"paper\",\"y\":0.375,\"yanchor\":\"bottom\",\"yref\":\"paper\"},{\"font\":{\"size\":16},\"showarrow\":false,\"text\":\"Knapsack\",\"x\":0.775,\"xanchor\":\"center\",\"xref\":\"paper\",\"y\":0.375,\"yanchor\":\"bottom\",\"yref\":\"paper\"}],\"title\":{\"text\":\"Time Comparison  <br><sup>Fixed the number of parameterized gate (6 gate).</sup>\"},\"autosize\":false,\"width\":1000,\"height\":700},                        {\"responsive\": true}                    ).then(function(){\n",
              "                            \n",
              "var gd = document.getElementById('cd668c17-e93e-416e-8a0c-b02886d7fcc6');\n",
              "var x = new MutationObserver(function (mutations, observer) {{\n",
              "        var display = window.getComputedStyle(gd).display;\n",
              "        if (!display || display === 'none') {{\n",
              "            console.log([gd, 'removed!']);\n",
              "            Plotly.purge(gd);\n",
              "            observer.disconnect();\n",
              "        }}\n",
              "}});\n",
              "\n",
              "// Listen for the removal of the full notebook cells\n",
              "var notebookContainer = gd.closest('#notebook-container');\n",
              "if (notebookContainer) {{\n",
              "    x.observe(notebookContainer, {childList: true});\n",
              "}}\n",
              "\n",
              "// Listen for the clearing of the current output cell\n",
              "var outputEl = gd.closest('.output');\n",
              "if (outputEl) {{\n",
              "    x.observe(outputEl, {childList: true});\n",
              "}}\n",
              "\n",
              "                        })                };                            </script>        </div>\n",
              "</body>\n",
              "</html>"
            ]
          },
          "metadata": {}
        }
      ],
      "source": [
        "#@title Time Comparison\n",
        "#@markdown Fixed the number of parameterized gate (6 gate).\n",
        "\n",
        "from plotly.subplots import make_subplots\n",
        "\n",
        "row = 2\n",
        "col = 2\n",
        "fig = make_subplots(rows=row, cols=col, subplot_titles=(\"Max-Cut\",\"Clique\",\"Binary Linear Programming\", \"Knapsack\"))\n",
        "show = True\n",
        "for i in range(row):\n",
        "  for j in range(col):\n",
        "    problemn = i*col+j\n",
        "    if problemn>0:\n",
        "      show = False\n",
        "    dv = pd.DataFrame({\"Iteration\":range(len(pst[problemn])), \"Time\":pst[problemn]})\n",
        "    dv_fd = pd.DataFrame({\"Iteration\":range(len(fdt[problemn])), \"Time\":fdt[problemn]})\n",
        "    dv_lcu = pd.DataFrame({\"Iteration\":range(len(lcut[problemn])), \"Time\":lcut[problemn]})\n",
        "    dv_qng = pd.DataFrame({\"Iteration\":range(len(qngt[problemn])), \"Time\":qngt[problemn]})\n",
        "    dv_newton = pd.DataFrame({\"Iteration\":range(len(qnwt[problemn])), \"Time\":qnwt[problemn]})\n",
        "\n",
        "    # dv_cls = pd.DataFrame({\"Iteration\":range(len(loss_plot_classical)), \"Loss\":loss_plot_classical})\n",
        "\n",
        "    fig.add_trace(go.Scatter(x=dv[\"Iteration\"], y=dv[\"Time\"], name=\"Discrete Parameter Shift\", line = dict(width=2), line_color='red', showlegend = show), row=i+1, col=j+1)\n",
        "    fig.add_trace(go.Scatter(x=dv_fd[\"Iteration\"], y=dv_fd[\"Time\"], mode=\"lines\", name=\"Discrete Finite Difference\", line = dict(width=2), line_color='green', showlegend = show), row=i+1, col=j+1)\n",
        "    fig.add_trace(go.Scatter(x=dv_lcu[\"Iteration\"], y=dv_lcu[\"Time\"], mode=\"lines\", name=\"Discrete LCU\", line = dict(width=2), line_color='yellow', showlegend = show), row=i+1, col=j+1)\n",
        "    fig.add_trace(go.Scatter(x=dv_qng[\"Iteration\"], y=dv_qng[\"Time\"], mode=\"lines\", name=\"Discrete QNG\", line = dict(width=2), line_color='blue', showlegend = show), row=i+1, col=j+1)\n",
        "    fig.add_trace(go.Scatter(x=dv_newton[\"Iteration\"], y=dv_newton[\"Time\"], mode=\"lines\", name=\"Discrete Newton Method\", line = dict(width=2), line_color='brown', showlegend = show), row=i+1, col=j+1)\n",
        "\n",
        "    # fig.add_trace(go.Scatter(x=dv_cls[\"Iteration\"], y=dv_cls[\"Loss\"], mode=\"lines\", name=\"Classical\"))\n",
        "\n",
        "\n",
        "fig.update_layout(title=\"Time Comparison  <br><sup>Fixed the number of parameterized gate (6 gate).</sup>\",\n",
        "                  xaxis_title=\"Iteration\",\n",
        "                  yaxis_title=\"Time (Sec)\", autosize=False,\n",
        "                  width=1000,\n",
        "                  height=700)\n",
        "plotly.offline.plot(fig, filename='time_fixgate.html')\n",
        "fig.show()"
      ]
    },
    {
      "cell_type": "code",
      "execution_count": null,
      "metadata": {
        "id": "VbTqgBW9-e0e",
        "colab": {
          "base_uri": "https://localhost:8080/",
          "height": 1000
        },
        "outputId": "4c351978-b44c-4e7f-dff7-371421cb4563"
      },
      "outputs": [
        {
          "output_type": "stream",
          "name": "stdout",
          "text": [
            "\u001b[1mMax-Cut\u001b[0m\n"
          ]
        },
        {
          "output_type": "display_data",
          "data": {
            "text/plain": [
              "                           Iteration 25              Iteration 50  \\\n",
              "                                   Loss Time(second)         Loss   \n",
              "Discrete Parameter Shift      -3.22e+00        59.90    -3.50e+00   \n",
              "Discrete Finite Difference    -3.22e+00        36.44    -3.50e+00   \n",
              "Discrete LCU                  -3.22e+00        20.54    -3.50e+00   \n",
              "Discrete QNG                  -3.24e+00        42.75    -3.50e+00   \n",
              "Discrete Newton Gradient      -3.40e+00        56.51    -3.50e+00   \n",
              "\n",
              "                                        Iteration 75               \\\n",
              "                           Time(second)         Loss Time(second)   \n",
              "Discrete Parameter Shift          95.02    -3.50e+00       131.54   \n",
              "Discrete Finite Difference        71.50    -3.50e+00       106.50   \n",
              "Discrete LCU                      40.53    -3.50e+00        60.00   \n",
              "Discrete QNG                      82.55    -3.50e+00       122.50   \n",
              "Discrete Newton Gradient         111.28    -3.50e+00       165.91   \n",
              "\n",
              "                           Iteration 100               \n",
              "                                    Loss Time(second)  \n",
              "Discrete Parameter Shift       -3.50e+00       166.71  \n",
              "Discrete Finite Difference     -3.50e+00       141.63  \n",
              "Discrete LCU                   -3.50e+00        79.76  \n",
              "Discrete QNG                   -3.50e+00       162.16  \n",
              "Discrete Newton Gradient       -3.50e+00       220.38  "
            ],
            "text/html": [
              "\n",
              "  <div id=\"df-19275d1a-6dce-4db0-a012-98cad2e65bfd\">\n",
              "    <div class=\"colab-df-container\">\n",
              "      <div>\n",
              "<style scoped>\n",
              "    .dataframe tbody tr th:only-of-type {\n",
              "        vertical-align: middle;\n",
              "    }\n",
              "\n",
              "    .dataframe tbody tr th {\n",
              "        vertical-align: top;\n",
              "    }\n",
              "\n",
              "    .dataframe thead tr th {\n",
              "        text-align: left;\n",
              "    }\n",
              "</style>\n",
              "<table border=\"1\" class=\"dataframe\">\n",
              "  <thead>\n",
              "    <tr>\n",
              "      <th></th>\n",
              "      <th colspan=\"2\" halign=\"left\">Iteration 25</th>\n",
              "      <th colspan=\"2\" halign=\"left\">Iteration 50</th>\n",
              "      <th colspan=\"2\" halign=\"left\">Iteration 75</th>\n",
              "      <th colspan=\"2\" halign=\"left\">Iteration 100</th>\n",
              "    </tr>\n",
              "    <tr>\n",
              "      <th></th>\n",
              "      <th>Loss</th>\n",
              "      <th>Time(second)</th>\n",
              "      <th>Loss</th>\n",
              "      <th>Time(second)</th>\n",
              "      <th>Loss</th>\n",
              "      <th>Time(second)</th>\n",
              "      <th>Loss</th>\n",
              "      <th>Time(second)</th>\n",
              "    </tr>\n",
              "  </thead>\n",
              "  <tbody>\n",
              "    <tr>\n",
              "      <th>Discrete Parameter Shift</th>\n",
              "      <td>-3.22e+00</td>\n",
              "      <td>59.90</td>\n",
              "      <td>-3.50e+00</td>\n",
              "      <td>95.02</td>\n",
              "      <td>-3.50e+00</td>\n",
              "      <td>131.54</td>\n",
              "      <td>-3.50e+00</td>\n",
              "      <td>166.71</td>\n",
              "    </tr>\n",
              "    <tr>\n",
              "      <th>Discrete Finite Difference</th>\n",
              "      <td>-3.22e+00</td>\n",
              "      <td>36.44</td>\n",
              "      <td>-3.50e+00</td>\n",
              "      <td>71.50</td>\n",
              "      <td>-3.50e+00</td>\n",
              "      <td>106.50</td>\n",
              "      <td>-3.50e+00</td>\n",
              "      <td>141.63</td>\n",
              "    </tr>\n",
              "    <tr>\n",
              "      <th>Discrete LCU</th>\n",
              "      <td>-3.22e+00</td>\n",
              "      <td>20.54</td>\n",
              "      <td>-3.50e+00</td>\n",
              "      <td>40.53</td>\n",
              "      <td>-3.50e+00</td>\n",
              "      <td>60.00</td>\n",
              "      <td>-3.50e+00</td>\n",
              "      <td>79.76</td>\n",
              "    </tr>\n",
              "    <tr>\n",
              "      <th>Discrete QNG</th>\n",
              "      <td>-3.24e+00</td>\n",
              "      <td>42.75</td>\n",
              "      <td>-3.50e+00</td>\n",
              "      <td>82.55</td>\n",
              "      <td>-3.50e+00</td>\n",
              "      <td>122.50</td>\n",
              "      <td>-3.50e+00</td>\n",
              "      <td>162.16</td>\n",
              "    </tr>\n",
              "    <tr>\n",
              "      <th>Discrete Newton Gradient</th>\n",
              "      <td>-3.40e+00</td>\n",
              "      <td>56.51</td>\n",
              "      <td>-3.50e+00</td>\n",
              "      <td>111.28</td>\n",
              "      <td>-3.50e+00</td>\n",
              "      <td>165.91</td>\n",
              "      <td>-3.50e+00</td>\n",
              "      <td>220.38</td>\n",
              "    </tr>\n",
              "  </tbody>\n",
              "</table>\n",
              "</div>\n",
              "      <button class=\"colab-df-convert\" onclick=\"convertToInteractive('df-19275d1a-6dce-4db0-a012-98cad2e65bfd')\"\n",
              "              title=\"Convert this dataframe to an interactive table.\"\n",
              "              style=\"display:none;\">\n",
              "        \n",
              "  <svg xmlns=\"http://www.w3.org/2000/svg\" height=\"24px\"viewBox=\"0 0 24 24\"\n",
              "       width=\"24px\">\n",
              "    <path d=\"M0 0h24v24H0V0z\" fill=\"none\"/>\n",
              "    <path d=\"M18.56 5.44l.94 2.06.94-2.06 2.06-.94-2.06-.94-.94-2.06-.94 2.06-2.06.94zm-11 1L8.5 8.5l.94-2.06 2.06-.94-2.06-.94L8.5 2.5l-.94 2.06-2.06.94zm10 10l.94 2.06.94-2.06 2.06-.94-2.06-.94-.94-2.06-.94 2.06-2.06.94z\"/><path d=\"M17.41 7.96l-1.37-1.37c-.4-.4-.92-.59-1.43-.59-.52 0-1.04.2-1.43.59L10.3 9.45l-7.72 7.72c-.78.78-.78 2.05 0 2.83L4 21.41c.39.39.9.59 1.41.59.51 0 1.02-.2 1.41-.59l7.78-7.78 2.81-2.81c.8-.78.8-2.07 0-2.86zM5.41 20L4 18.59l7.72-7.72 1.47 1.35L5.41 20z\"/>\n",
              "  </svg>\n",
              "      </button>\n",
              "      \n",
              "  <style>\n",
              "    .colab-df-container {\n",
              "      display:flex;\n",
              "      flex-wrap:wrap;\n",
              "      gap: 12px;\n",
              "    }\n",
              "\n",
              "    .colab-df-convert {\n",
              "      background-color: #E8F0FE;\n",
              "      border: none;\n",
              "      border-radius: 50%;\n",
              "      cursor: pointer;\n",
              "      display: none;\n",
              "      fill: #1967D2;\n",
              "      height: 32px;\n",
              "      padding: 0 0 0 0;\n",
              "      width: 32px;\n",
              "    }\n",
              "\n",
              "    .colab-df-convert:hover {\n",
              "      background-color: #E2EBFA;\n",
              "      box-shadow: 0px 1px 2px rgba(60, 64, 67, 0.3), 0px 1px 3px 1px rgba(60, 64, 67, 0.15);\n",
              "      fill: #174EA6;\n",
              "    }\n",
              "\n",
              "    [theme=dark] .colab-df-convert {\n",
              "      background-color: #3B4455;\n",
              "      fill: #D2E3FC;\n",
              "    }\n",
              "\n",
              "    [theme=dark] .colab-df-convert:hover {\n",
              "      background-color: #434B5C;\n",
              "      box-shadow: 0px 1px 3px 1px rgba(0, 0, 0, 0.15);\n",
              "      filter: drop-shadow(0px 1px 2px rgba(0, 0, 0, 0.3));\n",
              "      fill: #FFFFFF;\n",
              "    }\n",
              "  </style>\n",
              "\n",
              "      <script>\n",
              "        const buttonEl =\n",
              "          document.querySelector('#df-19275d1a-6dce-4db0-a012-98cad2e65bfd button.colab-df-convert');\n",
              "        buttonEl.style.display =\n",
              "          google.colab.kernel.accessAllowed ? 'block' : 'none';\n",
              "\n",
              "        async function convertToInteractive(key) {\n",
              "          const element = document.querySelector('#df-19275d1a-6dce-4db0-a012-98cad2e65bfd');\n",
              "          const dataTable =\n",
              "            await google.colab.kernel.invokeFunction('convertToInteractive',\n",
              "                                                     [key], {});\n",
              "          if (!dataTable) return;\n",
              "\n",
              "          const docLinkHtml = 'Like what you see? Visit the ' +\n",
              "            '<a target=\"_blank\" href=https://colab.research.google.com/notebooks/data_table.ipynb>data table notebook</a>'\n",
              "            + ' to learn more about interactive tables.';\n",
              "          element.innerHTML = '';\n",
              "          dataTable['output_type'] = 'display_data';\n",
              "          await google.colab.output.renderOutput(dataTable, element);\n",
              "          const docLink = document.createElement('div');\n",
              "          docLink.innerHTML = docLinkHtml;\n",
              "          element.appendChild(docLink);\n",
              "        }\n",
              "      </script>\n",
              "    </div>\n",
              "  </div>\n",
              "  "
            ]
          },
          "metadata": {}
        },
        {
          "output_type": "stream",
          "name": "stdout",
          "text": [
            "\n",
            "\n",
            "\n",
            "\n",
            "\u001b[1mClique\u001b[0m\n"
          ]
        },
        {
          "output_type": "display_data",
          "data": {
            "text/plain": [
              "                           Iteration 25              Iteration 50  \\\n",
              "                                   Loss Time(second)         Loss   \n",
              "Discrete Parameter Shift      -2.41e+00        37.30    -2.49e+00   \n",
              "Discrete Finite Difference    -2.41e+00        37.22    -2.49e+00   \n",
              "Discrete LCU                  -2.41e+00        21.00    -2.49e+00   \n",
              "Discrete QNG                  -2.44e+00        42.24    -2.50e+00   \n",
              "Discrete Newton Gradient      -2.29e+00        58.24    -2.50e+00   \n",
              "\n",
              "                                        Iteration 75               \\\n",
              "                           Time(second)         Loss Time(second)   \n",
              "Discrete Parameter Shift          73.39    -2.50e+00       109.47   \n",
              "Discrete Finite Difference        73.08    -2.50e+00       109.26   \n",
              "Discrete LCU                      41.29    -2.50e+00        61.79   \n",
              "Discrete QNG                      83.02    -2.50e+00       123.74   \n",
              "Discrete Newton Gradient         113.65    -2.60e+00       169.33   \n",
              "\n",
              "                           Iteration 100               \n",
              "                                    Loss Time(second)  \n",
              "Discrete Parameter Shift       -2.50e+00       145.53  \n",
              "Discrete Finite Difference     -2.50e+00       145.13  \n",
              "Discrete LCU                   -2.50e+00        81.69  \n",
              "Discrete QNG                   -2.50e+00       163.99  \n",
              "Discrete Newton Gradient       -2.99e+00       224.73  "
            ],
            "text/html": [
              "\n",
              "  <div id=\"df-f13c0a4a-eb23-4d69-9828-2fa15a30ac47\">\n",
              "    <div class=\"colab-df-container\">\n",
              "      <div>\n",
              "<style scoped>\n",
              "    .dataframe tbody tr th:only-of-type {\n",
              "        vertical-align: middle;\n",
              "    }\n",
              "\n",
              "    .dataframe tbody tr th {\n",
              "        vertical-align: top;\n",
              "    }\n",
              "\n",
              "    .dataframe thead tr th {\n",
              "        text-align: left;\n",
              "    }\n",
              "</style>\n",
              "<table border=\"1\" class=\"dataframe\">\n",
              "  <thead>\n",
              "    <tr>\n",
              "      <th></th>\n",
              "      <th colspan=\"2\" halign=\"left\">Iteration 25</th>\n",
              "      <th colspan=\"2\" halign=\"left\">Iteration 50</th>\n",
              "      <th colspan=\"2\" halign=\"left\">Iteration 75</th>\n",
              "      <th colspan=\"2\" halign=\"left\">Iteration 100</th>\n",
              "    </tr>\n",
              "    <tr>\n",
              "      <th></th>\n",
              "      <th>Loss</th>\n",
              "      <th>Time(second)</th>\n",
              "      <th>Loss</th>\n",
              "      <th>Time(second)</th>\n",
              "      <th>Loss</th>\n",
              "      <th>Time(second)</th>\n",
              "      <th>Loss</th>\n",
              "      <th>Time(second)</th>\n",
              "    </tr>\n",
              "  </thead>\n",
              "  <tbody>\n",
              "    <tr>\n",
              "      <th>Discrete Parameter Shift</th>\n",
              "      <td>-2.41e+00</td>\n",
              "      <td>37.30</td>\n",
              "      <td>-2.49e+00</td>\n",
              "      <td>73.39</td>\n",
              "      <td>-2.50e+00</td>\n",
              "      <td>109.47</td>\n",
              "      <td>-2.50e+00</td>\n",
              "      <td>145.53</td>\n",
              "    </tr>\n",
              "    <tr>\n",
              "      <th>Discrete Finite Difference</th>\n",
              "      <td>-2.41e+00</td>\n",
              "      <td>37.22</td>\n",
              "      <td>-2.49e+00</td>\n",
              "      <td>73.08</td>\n",
              "      <td>-2.50e+00</td>\n",
              "      <td>109.26</td>\n",
              "      <td>-2.50e+00</td>\n",
              "      <td>145.13</td>\n",
              "    </tr>\n",
              "    <tr>\n",
              "      <th>Discrete LCU</th>\n",
              "      <td>-2.41e+00</td>\n",
              "      <td>21.00</td>\n",
              "      <td>-2.49e+00</td>\n",
              "      <td>41.29</td>\n",
              "      <td>-2.50e+00</td>\n",
              "      <td>61.79</td>\n",
              "      <td>-2.50e+00</td>\n",
              "      <td>81.69</td>\n",
              "    </tr>\n",
              "    <tr>\n",
              "      <th>Discrete QNG</th>\n",
              "      <td>-2.44e+00</td>\n",
              "      <td>42.24</td>\n",
              "      <td>-2.50e+00</td>\n",
              "      <td>83.02</td>\n",
              "      <td>-2.50e+00</td>\n",
              "      <td>123.74</td>\n",
              "      <td>-2.50e+00</td>\n",
              "      <td>163.99</td>\n",
              "    </tr>\n",
              "    <tr>\n",
              "      <th>Discrete Newton Gradient</th>\n",
              "      <td>-2.29e+00</td>\n",
              "      <td>58.24</td>\n",
              "      <td>-2.50e+00</td>\n",
              "      <td>113.65</td>\n",
              "      <td>-2.60e+00</td>\n",
              "      <td>169.33</td>\n",
              "      <td>-2.99e+00</td>\n",
              "      <td>224.73</td>\n",
              "    </tr>\n",
              "  </tbody>\n",
              "</table>\n",
              "</div>\n",
              "      <button class=\"colab-df-convert\" onclick=\"convertToInteractive('df-f13c0a4a-eb23-4d69-9828-2fa15a30ac47')\"\n",
              "              title=\"Convert this dataframe to an interactive table.\"\n",
              "              style=\"display:none;\">\n",
              "        \n",
              "  <svg xmlns=\"http://www.w3.org/2000/svg\" height=\"24px\"viewBox=\"0 0 24 24\"\n",
              "       width=\"24px\">\n",
              "    <path d=\"M0 0h24v24H0V0z\" fill=\"none\"/>\n",
              "    <path d=\"M18.56 5.44l.94 2.06.94-2.06 2.06-.94-2.06-.94-.94-2.06-.94 2.06-2.06.94zm-11 1L8.5 8.5l.94-2.06 2.06-.94-2.06-.94L8.5 2.5l-.94 2.06-2.06.94zm10 10l.94 2.06.94-2.06 2.06-.94-2.06-.94-.94-2.06-.94 2.06-2.06.94z\"/><path d=\"M17.41 7.96l-1.37-1.37c-.4-.4-.92-.59-1.43-.59-.52 0-1.04.2-1.43.59L10.3 9.45l-7.72 7.72c-.78.78-.78 2.05 0 2.83L4 21.41c.39.39.9.59 1.41.59.51 0 1.02-.2 1.41-.59l7.78-7.78 2.81-2.81c.8-.78.8-2.07 0-2.86zM5.41 20L4 18.59l7.72-7.72 1.47 1.35L5.41 20z\"/>\n",
              "  </svg>\n",
              "      </button>\n",
              "      \n",
              "  <style>\n",
              "    .colab-df-container {\n",
              "      display:flex;\n",
              "      flex-wrap:wrap;\n",
              "      gap: 12px;\n",
              "    }\n",
              "\n",
              "    .colab-df-convert {\n",
              "      background-color: #E8F0FE;\n",
              "      border: none;\n",
              "      border-radius: 50%;\n",
              "      cursor: pointer;\n",
              "      display: none;\n",
              "      fill: #1967D2;\n",
              "      height: 32px;\n",
              "      padding: 0 0 0 0;\n",
              "      width: 32px;\n",
              "    }\n",
              "\n",
              "    .colab-df-convert:hover {\n",
              "      background-color: #E2EBFA;\n",
              "      box-shadow: 0px 1px 2px rgba(60, 64, 67, 0.3), 0px 1px 3px 1px rgba(60, 64, 67, 0.15);\n",
              "      fill: #174EA6;\n",
              "    }\n",
              "\n",
              "    [theme=dark] .colab-df-convert {\n",
              "      background-color: #3B4455;\n",
              "      fill: #D2E3FC;\n",
              "    }\n",
              "\n",
              "    [theme=dark] .colab-df-convert:hover {\n",
              "      background-color: #434B5C;\n",
              "      box-shadow: 0px 1px 3px 1px rgba(0, 0, 0, 0.15);\n",
              "      filter: drop-shadow(0px 1px 2px rgba(0, 0, 0, 0.3));\n",
              "      fill: #FFFFFF;\n",
              "    }\n",
              "  </style>\n",
              "\n",
              "      <script>\n",
              "        const buttonEl =\n",
              "          document.querySelector('#df-f13c0a4a-eb23-4d69-9828-2fa15a30ac47 button.colab-df-convert');\n",
              "        buttonEl.style.display =\n",
              "          google.colab.kernel.accessAllowed ? 'block' : 'none';\n",
              "\n",
              "        async function convertToInteractive(key) {\n",
              "          const element = document.querySelector('#df-f13c0a4a-eb23-4d69-9828-2fa15a30ac47');\n",
              "          const dataTable =\n",
              "            await google.colab.kernel.invokeFunction('convertToInteractive',\n",
              "                                                     [key], {});\n",
              "          if (!dataTable) return;\n",
              "\n",
              "          const docLinkHtml = 'Like what you see? Visit the ' +\n",
              "            '<a target=\"_blank\" href=https://colab.research.google.com/notebooks/data_table.ipynb>data table notebook</a>'\n",
              "            + ' to learn more about interactive tables.';\n",
              "          element.innerHTML = '';\n",
              "          dataTable['output_type'] = 'display_data';\n",
              "          await google.colab.output.renderOutput(dataTable, element);\n",
              "          const docLink = document.createElement('div');\n",
              "          docLink.innerHTML = docLinkHtml;\n",
              "          element.appendChild(docLink);\n",
              "        }\n",
              "      </script>\n",
              "    </div>\n",
              "  </div>\n",
              "  "
            ]
          },
          "metadata": {}
        },
        {
          "output_type": "stream",
          "name": "stdout",
          "text": [
            "\n",
            "\n",
            "\n",
            "\n",
            "\u001b[1mBinary Linear Programming\u001b[0m\n"
          ]
        },
        {
          "output_type": "display_data",
          "data": {
            "text/plain": [
              "                           Iteration 25              Iteration 50  \\\n",
              "                                   Loss Time(second)         Loss   \n",
              "Discrete Parameter Shift       2.82e+05        37.51     1.89e+05   \n",
              "Discrete Finite Difference     2.82e+05        37.11     1.89e+05   \n",
              "Discrete LCU                   2.82e+05        20.88     1.89e+05   \n",
              "Discrete QNG                   2.83e+05        42.51     1.91e+05   \n",
              "Discrete Newton Gradient       3.18e+05        57.64     4.69e+05   \n",
              "\n",
              "                                        Iteration 75               \\\n",
              "                           Time(second)         Loss Time(second)   \n",
              "Discrete Parameter Shift          73.48     1.83e+05       109.03   \n",
              "Discrete Finite Difference        72.88     1.83e+05       108.71   \n",
              "Discrete LCU                      41.15     1.83e+05        61.26   \n",
              "Discrete QNG                      83.26     1.83e+05       123.72   \n",
              "Discrete Newton Gradient         112.85     5.35e+05       168.55   \n",
              "\n",
              "                           Iteration 100               \n",
              "                                    Loss Time(second)  \n",
              "Discrete Parameter Shift        1.83e+05       145.37  \n",
              "Discrete Finite Difference      1.83e+05       144.71  \n",
              "Discrete LCU                    1.83e+05        81.49  \n",
              "Discrete QNG                    1.83e+05       164.75  \n",
              "Discrete Newton Gradient        5.35e+05       224.02  "
            ],
            "text/html": [
              "\n",
              "  <div id=\"df-7c6437f4-854a-4ef2-a578-8fc61ab65ee1\">\n",
              "    <div class=\"colab-df-container\">\n",
              "      <div>\n",
              "<style scoped>\n",
              "    .dataframe tbody tr th:only-of-type {\n",
              "        vertical-align: middle;\n",
              "    }\n",
              "\n",
              "    .dataframe tbody tr th {\n",
              "        vertical-align: top;\n",
              "    }\n",
              "\n",
              "    .dataframe thead tr th {\n",
              "        text-align: left;\n",
              "    }\n",
              "</style>\n",
              "<table border=\"1\" class=\"dataframe\">\n",
              "  <thead>\n",
              "    <tr>\n",
              "      <th></th>\n",
              "      <th colspan=\"2\" halign=\"left\">Iteration 25</th>\n",
              "      <th colspan=\"2\" halign=\"left\">Iteration 50</th>\n",
              "      <th colspan=\"2\" halign=\"left\">Iteration 75</th>\n",
              "      <th colspan=\"2\" halign=\"left\">Iteration 100</th>\n",
              "    </tr>\n",
              "    <tr>\n",
              "      <th></th>\n",
              "      <th>Loss</th>\n",
              "      <th>Time(second)</th>\n",
              "      <th>Loss</th>\n",
              "      <th>Time(second)</th>\n",
              "      <th>Loss</th>\n",
              "      <th>Time(second)</th>\n",
              "      <th>Loss</th>\n",
              "      <th>Time(second)</th>\n",
              "    </tr>\n",
              "  </thead>\n",
              "  <tbody>\n",
              "    <tr>\n",
              "      <th>Discrete Parameter Shift</th>\n",
              "      <td>2.82e+05</td>\n",
              "      <td>37.51</td>\n",
              "      <td>1.89e+05</td>\n",
              "      <td>73.48</td>\n",
              "      <td>1.83e+05</td>\n",
              "      <td>109.03</td>\n",
              "      <td>1.83e+05</td>\n",
              "      <td>145.37</td>\n",
              "    </tr>\n",
              "    <tr>\n",
              "      <th>Discrete Finite Difference</th>\n",
              "      <td>2.82e+05</td>\n",
              "      <td>37.11</td>\n",
              "      <td>1.89e+05</td>\n",
              "      <td>72.88</td>\n",
              "      <td>1.83e+05</td>\n",
              "      <td>108.71</td>\n",
              "      <td>1.83e+05</td>\n",
              "      <td>144.71</td>\n",
              "    </tr>\n",
              "    <tr>\n",
              "      <th>Discrete LCU</th>\n",
              "      <td>2.82e+05</td>\n",
              "      <td>20.88</td>\n",
              "      <td>1.89e+05</td>\n",
              "      <td>41.15</td>\n",
              "      <td>1.83e+05</td>\n",
              "      <td>61.26</td>\n",
              "      <td>1.83e+05</td>\n",
              "      <td>81.49</td>\n",
              "    </tr>\n",
              "    <tr>\n",
              "      <th>Discrete QNG</th>\n",
              "      <td>2.83e+05</td>\n",
              "      <td>42.51</td>\n",
              "      <td>1.91e+05</td>\n",
              "      <td>83.26</td>\n",
              "      <td>1.83e+05</td>\n",
              "      <td>123.72</td>\n",
              "      <td>1.83e+05</td>\n",
              "      <td>164.75</td>\n",
              "    </tr>\n",
              "    <tr>\n",
              "      <th>Discrete Newton Gradient</th>\n",
              "      <td>3.18e+05</td>\n",
              "      <td>57.64</td>\n",
              "      <td>4.69e+05</td>\n",
              "      <td>112.85</td>\n",
              "      <td>5.35e+05</td>\n",
              "      <td>168.55</td>\n",
              "      <td>5.35e+05</td>\n",
              "      <td>224.02</td>\n",
              "    </tr>\n",
              "  </tbody>\n",
              "</table>\n",
              "</div>\n",
              "      <button class=\"colab-df-convert\" onclick=\"convertToInteractive('df-7c6437f4-854a-4ef2-a578-8fc61ab65ee1')\"\n",
              "              title=\"Convert this dataframe to an interactive table.\"\n",
              "              style=\"display:none;\">\n",
              "        \n",
              "  <svg xmlns=\"http://www.w3.org/2000/svg\" height=\"24px\"viewBox=\"0 0 24 24\"\n",
              "       width=\"24px\">\n",
              "    <path d=\"M0 0h24v24H0V0z\" fill=\"none\"/>\n",
              "    <path d=\"M18.56 5.44l.94 2.06.94-2.06 2.06-.94-2.06-.94-.94-2.06-.94 2.06-2.06.94zm-11 1L8.5 8.5l.94-2.06 2.06-.94-2.06-.94L8.5 2.5l-.94 2.06-2.06.94zm10 10l.94 2.06.94-2.06 2.06-.94-2.06-.94-.94-2.06-.94 2.06-2.06.94z\"/><path d=\"M17.41 7.96l-1.37-1.37c-.4-.4-.92-.59-1.43-.59-.52 0-1.04.2-1.43.59L10.3 9.45l-7.72 7.72c-.78.78-.78 2.05 0 2.83L4 21.41c.39.39.9.59 1.41.59.51 0 1.02-.2 1.41-.59l7.78-7.78 2.81-2.81c.8-.78.8-2.07 0-2.86zM5.41 20L4 18.59l7.72-7.72 1.47 1.35L5.41 20z\"/>\n",
              "  </svg>\n",
              "      </button>\n",
              "      \n",
              "  <style>\n",
              "    .colab-df-container {\n",
              "      display:flex;\n",
              "      flex-wrap:wrap;\n",
              "      gap: 12px;\n",
              "    }\n",
              "\n",
              "    .colab-df-convert {\n",
              "      background-color: #E8F0FE;\n",
              "      border: none;\n",
              "      border-radius: 50%;\n",
              "      cursor: pointer;\n",
              "      display: none;\n",
              "      fill: #1967D2;\n",
              "      height: 32px;\n",
              "      padding: 0 0 0 0;\n",
              "      width: 32px;\n",
              "    }\n",
              "\n",
              "    .colab-df-convert:hover {\n",
              "      background-color: #E2EBFA;\n",
              "      box-shadow: 0px 1px 2px rgba(60, 64, 67, 0.3), 0px 1px 3px 1px rgba(60, 64, 67, 0.15);\n",
              "      fill: #174EA6;\n",
              "    }\n",
              "\n",
              "    [theme=dark] .colab-df-convert {\n",
              "      background-color: #3B4455;\n",
              "      fill: #D2E3FC;\n",
              "    }\n",
              "\n",
              "    [theme=dark] .colab-df-convert:hover {\n",
              "      background-color: #434B5C;\n",
              "      box-shadow: 0px 1px 3px 1px rgba(0, 0, 0, 0.15);\n",
              "      filter: drop-shadow(0px 1px 2px rgba(0, 0, 0, 0.3));\n",
              "      fill: #FFFFFF;\n",
              "    }\n",
              "  </style>\n",
              "\n",
              "      <script>\n",
              "        const buttonEl =\n",
              "          document.querySelector('#df-7c6437f4-854a-4ef2-a578-8fc61ab65ee1 button.colab-df-convert');\n",
              "        buttonEl.style.display =\n",
              "          google.colab.kernel.accessAllowed ? 'block' : 'none';\n",
              "\n",
              "        async function convertToInteractive(key) {\n",
              "          const element = document.querySelector('#df-7c6437f4-854a-4ef2-a578-8fc61ab65ee1');\n",
              "          const dataTable =\n",
              "            await google.colab.kernel.invokeFunction('convertToInteractive',\n",
              "                                                     [key], {});\n",
              "          if (!dataTable) return;\n",
              "\n",
              "          const docLinkHtml = 'Like what you see? Visit the ' +\n",
              "            '<a target=\"_blank\" href=https://colab.research.google.com/notebooks/data_table.ipynb>data table notebook</a>'\n",
              "            + ' to learn more about interactive tables.';\n",
              "          element.innerHTML = '';\n",
              "          dataTable['output_type'] = 'display_data';\n",
              "          await google.colab.output.renderOutput(dataTable, element);\n",
              "          const docLink = document.createElement('div');\n",
              "          docLink.innerHTML = docLinkHtml;\n",
              "          element.appendChild(docLink);\n",
              "        }\n",
              "      </script>\n",
              "    </div>\n",
              "  </div>\n",
              "  "
            ]
          },
          "metadata": {}
        },
        {
          "output_type": "stream",
          "name": "stdout",
          "text": [
            "\n",
            "\n",
            "\n",
            "\n",
            "\u001b[1mKnapsack\u001b[0m\n"
          ]
        },
        {
          "output_type": "display_data",
          "data": {
            "text/plain": [
              "                           Iteration 25              Iteration 50  \\\n",
              "                                   Loss Time(second)         Loss   \n",
              "Discrete Parameter Shift       2.21e+00        40.39    -2.76e+00   \n",
              "Discrete Finite Difference     2.21e+00        40.56    -2.76e+00   \n",
              "Discrete LCU                   2.21e+00        22.82    -2.76e+00   \n",
              "Discrete QNG                   2.61e+00        45.69    -2.64e+00   \n",
              "Discrete Newton Gradient       1.73e+00        61.39    -2.99e+00   \n",
              "\n",
              "                                        Iteration 75               \\\n",
              "                           Time(second)         Loss Time(second)   \n",
              "Discrete Parameter Shift          79.04    -3.00e+00       117.80   \n",
              "Discrete Finite Difference        79.08    -3.00e+00       118.19   \n",
              "Discrete LCU                      44.43    -3.00e+00        66.29   \n",
              "Discrete QNG                      89.66    -3.00e+00       133.62   \n",
              "Discrete Newton Gradient         120.70    -2.92e+00       179.26   \n",
              "\n",
              "                           Iteration 100               \n",
              "                                    Loss Time(second)  \n",
              "Discrete Parameter Shift       -3.00e+00       156.83  \n",
              "Discrete Finite Difference     -3.00e+00       156.93  \n",
              "Discrete LCU                   -3.00e+00        88.05  \n",
              "Discrete QNG                   -3.00e+00       177.70  \n",
              "Discrete Newton Gradient       -2.35e+00       238.27  "
            ],
            "text/html": [
              "\n",
              "  <div id=\"df-0557d6aa-e4d1-4db8-80b4-61ecb4a9414e\">\n",
              "    <div class=\"colab-df-container\">\n",
              "      <div>\n",
              "<style scoped>\n",
              "    .dataframe tbody tr th:only-of-type {\n",
              "        vertical-align: middle;\n",
              "    }\n",
              "\n",
              "    .dataframe tbody tr th {\n",
              "        vertical-align: top;\n",
              "    }\n",
              "\n",
              "    .dataframe thead tr th {\n",
              "        text-align: left;\n",
              "    }\n",
              "</style>\n",
              "<table border=\"1\" class=\"dataframe\">\n",
              "  <thead>\n",
              "    <tr>\n",
              "      <th></th>\n",
              "      <th colspan=\"2\" halign=\"left\">Iteration 25</th>\n",
              "      <th colspan=\"2\" halign=\"left\">Iteration 50</th>\n",
              "      <th colspan=\"2\" halign=\"left\">Iteration 75</th>\n",
              "      <th colspan=\"2\" halign=\"left\">Iteration 100</th>\n",
              "    </tr>\n",
              "    <tr>\n",
              "      <th></th>\n",
              "      <th>Loss</th>\n",
              "      <th>Time(second)</th>\n",
              "      <th>Loss</th>\n",
              "      <th>Time(second)</th>\n",
              "      <th>Loss</th>\n",
              "      <th>Time(second)</th>\n",
              "      <th>Loss</th>\n",
              "      <th>Time(second)</th>\n",
              "    </tr>\n",
              "  </thead>\n",
              "  <tbody>\n",
              "    <tr>\n",
              "      <th>Discrete Parameter Shift</th>\n",
              "      <td>2.21e+00</td>\n",
              "      <td>40.39</td>\n",
              "      <td>-2.76e+00</td>\n",
              "      <td>79.04</td>\n",
              "      <td>-3.00e+00</td>\n",
              "      <td>117.80</td>\n",
              "      <td>-3.00e+00</td>\n",
              "      <td>156.83</td>\n",
              "    </tr>\n",
              "    <tr>\n",
              "      <th>Discrete Finite Difference</th>\n",
              "      <td>2.21e+00</td>\n",
              "      <td>40.56</td>\n",
              "      <td>-2.76e+00</td>\n",
              "      <td>79.08</td>\n",
              "      <td>-3.00e+00</td>\n",
              "      <td>118.19</td>\n",
              "      <td>-3.00e+00</td>\n",
              "      <td>156.93</td>\n",
              "    </tr>\n",
              "    <tr>\n",
              "      <th>Discrete LCU</th>\n",
              "      <td>2.21e+00</td>\n",
              "      <td>22.82</td>\n",
              "      <td>-2.76e+00</td>\n",
              "      <td>44.43</td>\n",
              "      <td>-3.00e+00</td>\n",
              "      <td>66.29</td>\n",
              "      <td>-3.00e+00</td>\n",
              "      <td>88.05</td>\n",
              "    </tr>\n",
              "    <tr>\n",
              "      <th>Discrete QNG</th>\n",
              "      <td>2.61e+00</td>\n",
              "      <td>45.69</td>\n",
              "      <td>-2.64e+00</td>\n",
              "      <td>89.66</td>\n",
              "      <td>-3.00e+00</td>\n",
              "      <td>133.62</td>\n",
              "      <td>-3.00e+00</td>\n",
              "      <td>177.70</td>\n",
              "    </tr>\n",
              "    <tr>\n",
              "      <th>Discrete Newton Gradient</th>\n",
              "      <td>1.73e+00</td>\n",
              "      <td>61.39</td>\n",
              "      <td>-2.99e+00</td>\n",
              "      <td>120.70</td>\n",
              "      <td>-2.92e+00</td>\n",
              "      <td>179.26</td>\n",
              "      <td>-2.35e+00</td>\n",
              "      <td>238.27</td>\n",
              "    </tr>\n",
              "  </tbody>\n",
              "</table>\n",
              "</div>\n",
              "      <button class=\"colab-df-convert\" onclick=\"convertToInteractive('df-0557d6aa-e4d1-4db8-80b4-61ecb4a9414e')\"\n",
              "              title=\"Convert this dataframe to an interactive table.\"\n",
              "              style=\"display:none;\">\n",
              "        \n",
              "  <svg xmlns=\"http://www.w3.org/2000/svg\" height=\"24px\"viewBox=\"0 0 24 24\"\n",
              "       width=\"24px\">\n",
              "    <path d=\"M0 0h24v24H0V0z\" fill=\"none\"/>\n",
              "    <path d=\"M18.56 5.44l.94 2.06.94-2.06 2.06-.94-2.06-.94-.94-2.06-.94 2.06-2.06.94zm-11 1L8.5 8.5l.94-2.06 2.06-.94-2.06-.94L8.5 2.5l-.94 2.06-2.06.94zm10 10l.94 2.06.94-2.06 2.06-.94-2.06-.94-.94-2.06-.94 2.06-2.06.94z\"/><path d=\"M17.41 7.96l-1.37-1.37c-.4-.4-.92-.59-1.43-.59-.52 0-1.04.2-1.43.59L10.3 9.45l-7.72 7.72c-.78.78-.78 2.05 0 2.83L4 21.41c.39.39.9.59 1.41.59.51 0 1.02-.2 1.41-.59l7.78-7.78 2.81-2.81c.8-.78.8-2.07 0-2.86zM5.41 20L4 18.59l7.72-7.72 1.47 1.35L5.41 20z\"/>\n",
              "  </svg>\n",
              "      </button>\n",
              "      \n",
              "  <style>\n",
              "    .colab-df-container {\n",
              "      display:flex;\n",
              "      flex-wrap:wrap;\n",
              "      gap: 12px;\n",
              "    }\n",
              "\n",
              "    .colab-df-convert {\n",
              "      background-color: #E8F0FE;\n",
              "      border: none;\n",
              "      border-radius: 50%;\n",
              "      cursor: pointer;\n",
              "      display: none;\n",
              "      fill: #1967D2;\n",
              "      height: 32px;\n",
              "      padding: 0 0 0 0;\n",
              "      width: 32px;\n",
              "    }\n",
              "\n",
              "    .colab-df-convert:hover {\n",
              "      background-color: #E2EBFA;\n",
              "      box-shadow: 0px 1px 2px rgba(60, 64, 67, 0.3), 0px 1px 3px 1px rgba(60, 64, 67, 0.15);\n",
              "      fill: #174EA6;\n",
              "    }\n",
              "\n",
              "    [theme=dark] .colab-df-convert {\n",
              "      background-color: #3B4455;\n",
              "      fill: #D2E3FC;\n",
              "    }\n",
              "\n",
              "    [theme=dark] .colab-df-convert:hover {\n",
              "      background-color: #434B5C;\n",
              "      box-shadow: 0px 1px 3px 1px rgba(0, 0, 0, 0.15);\n",
              "      filter: drop-shadow(0px 1px 2px rgba(0, 0, 0, 0.3));\n",
              "      fill: #FFFFFF;\n",
              "    }\n",
              "  </style>\n",
              "\n",
              "      <script>\n",
              "        const buttonEl =\n",
              "          document.querySelector('#df-0557d6aa-e4d1-4db8-80b4-61ecb4a9414e button.colab-df-convert');\n",
              "        buttonEl.style.display =\n",
              "          google.colab.kernel.accessAllowed ? 'block' : 'none';\n",
              "\n",
              "        async function convertToInteractive(key) {\n",
              "          const element = document.querySelector('#df-0557d6aa-e4d1-4db8-80b4-61ecb4a9414e');\n",
              "          const dataTable =\n",
              "            await google.colab.kernel.invokeFunction('convertToInteractive',\n",
              "                                                     [key], {});\n",
              "          if (!dataTable) return;\n",
              "\n",
              "          const docLinkHtml = 'Like what you see? Visit the ' +\n",
              "            '<a target=\"_blank\" href=https://colab.research.google.com/notebooks/data_table.ipynb>data table notebook</a>'\n",
              "            + ' to learn more about interactive tables.';\n",
              "          element.innerHTML = '';\n",
              "          dataTable['output_type'] = 'display_data';\n",
              "          await google.colab.output.renderOutput(dataTable, element);\n",
              "          const docLink = document.createElement('div');\n",
              "          docLink.innerHTML = docLinkHtml;\n",
              "          element.appendChild(docLink);\n",
              "        }\n",
              "      </script>\n",
              "    </div>\n",
              "  </div>\n",
              "  "
            ]
          },
          "metadata": {}
        },
        {
          "output_type": "stream",
          "name": "stdout",
          "text": [
            "\n",
            "\n",
            "\n",
            "\n"
          ]
        }
      ],
      "source": [
        "#@title Comparison Table\n",
        "rows = ['Discrete Parameter Shift',\n",
        "          'Discrete Finite Difference',\n",
        "          'Discrete LCU', \n",
        "          'Discrete QNG',\n",
        "          'Discrete Newton Gradient',\n",
        "          #'Classical'\n",
        "          ]\n",
        "columns_g = [\"Iteration 25\", \"Iteration 50\", \"Iteration 75\", \"Iteration 100\"]\n",
        "iters = [25, 50, 75, 100]\n",
        "columns_s = [\"Loss\", \"Time(second)\"]\n",
        "problems = [\"Max-Cut\", \"Clique\", \"Binary Linear Programming\", \"Knapsack\"]\n",
        "for problemn in range(len(problems)):\n",
        "  df = pd.DataFrame([[psl[problemn][iters[0]], pst[problemn][iters[0]], psl[problemn][iters[1]],pst[problemn][iters[1]],psl[problemn][iters[2]],pst[problemn][iters[2]],psl[problemn][iters[3]],pst[problemn][iters[3]]],\n",
        "                    [fdl[problemn][iters[0]], fdt[problemn][iters[0]], fdl[problemn][iters[1]], fdt[problemn][iters[1]], fdl[problemn][iters[2]], fdt[problemn][iters[2]], fdl[problemn][iters[3]], fdt[problemn][iters[3]]],\n",
        "                    [lcul[problemn][iters[0]], lcut[problemn][iters[0]], lcul[problemn][iters[1]], lcut[problemn][iters[1]], lcul[problemn][iters[2]], lcut[problemn][iters[2]], lcul[problemn][iters[3]], lcut[problemn][iters[3]]],\n",
        "                    [qngl[problemn][iters[0]],qngt[problemn][iters[0]],qngl[problemn][iters[1]],qngt[problemn][iters[1]],qngl[problemn][iters[2]],qngt[problemn][iters[2]], qngl[problemn][iters[3]],qngt[problemn][iters[3]]],\n",
        "                    [qnwl[problemn][iters[0]],qnwt[problemn][iters[0]],qnwl[problemn][iters[1]],qnwt[problemn][iters[1]],qnwl[problemn][iters[2]],qnwt[problemn][iters[2]],qnwl[problemn][iters[3]],qnwt[problemn][iters[3]]],\n",
        "                    #[loss_plot_classical[5],classical_time_i[100],loss_plot_classical[200],classical_time_i[200],loss_plot_classical[300],classical_time_i[300], loss_plot_classical[400],classical_time_i[400], loss_plot_classical[500],classical_time_i[500]]\n",
        "                    ])\n",
        "\n",
        "  col_ix = pd.MultiIndex.from_product([columns_g, columns_s]) \n",
        "  row_ix = pd.MultiIndex.from_product([rows])\n",
        "  df = df.set_index(row_ix)\n",
        "  df.columns = col_ix\n",
        "  df[( 'Iteration 25','Loss')] = df[( 'Iteration 25','Loss')].map('{:.2e}'.format)\n",
        "  df[( 'Iteration 50','Loss')] = df[( 'Iteration 50','Loss')].map('{:.2e}'.format)\n",
        "  df[( 'Iteration 75','Loss')] = df[( 'Iteration 75','Loss')].map('{:.2e}'.format)\n",
        "  df[( 'Iteration 100','Loss')] = df[( 'Iteration 100','Loss')].map('{:.2e}'.format)\n",
        "  # df[( 'Iteration 500','Loss')] = df[( 'Iteration 500','Loss')].map('{:.2e}'.format)\n",
        "  print(f\"\\033[1m{problems[problemn]}\\033[0m\")\n",
        "  df_styled = df.round(2)\n",
        "  display(df_styled)\n",
        "  print(\"\\n\\n\\n\")"
      ]
    },
    {
      "cell_type": "markdown",
      "metadata": {
        "id": "yvG-o_OUTYm3"
      },
      "source": [
        "## Fixed epochs"
      ]
    },
    {
      "cell_type": "code",
      "execution_count": null,
      "metadata": {
        "id": "j4ETsKqKq4Yf",
        "colab": {
          "base_uri": "https://localhost:8080/",
          "height": 717
        },
        "outputId": "66d3ccac-93d0-4d8e-d130-913b4537aad5"
      },
      "outputs": [
        {
          "output_type": "display_data",
          "data": {
            "text/html": [
              "<html>\n",
              "<head><meta charset=\"utf-8\" /></head>\n",
              "<body>\n",
              "    <div>            <script src=\"https://cdnjs.cloudflare.com/ajax/libs/mathjax/2.7.5/MathJax.js?config=TeX-AMS-MML_SVG\"></script><script type=\"text/javascript\">if (window.MathJax) {MathJax.Hub.Config({SVG: {font: \"STIX-Web\"}});}</script>                <script type=\"text/javascript\">window.PlotlyConfig = {MathJaxConfig: 'local'};</script>\n",
              "        <script src=\"https://cdn.plot.ly/plotly-2.8.3.min.js\"></script>                <div id=\"d0751dc0-e8fd-46a2-9f92-cc4e9a7f6376\" class=\"plotly-graph-div\" style=\"height:700px; width:1000px;\"></div>            <script type=\"text/javascript\">                                    window.PLOTLYENV=window.PLOTLYENV || {};                                    if (document.getElementById(\"d0751dc0-e8fd-46a2-9f92-cc4e9a7f6376\")) {                    Plotly.newPlot(                        \"d0751dc0-e8fd-46a2-9f92-cc4e9a7f6376\",                        [{\"line\":{\"color\":\"red\",\"width\":2},\"name\":\"Discrete Parameter Shift\",\"showlegend\":true,\"x\":[6,12,18,24,30],\"y\":[-2.9291643284227327,-3.539301048416827,-3.828231709496044,-3.7878372060953778,-3.932990955370388],\"type\":\"scatter\",\"xaxis\":\"x\",\"yaxis\":\"y\"},{\"line\":{\"color\":\"green\",\"width\":2},\"mode\":\"lines\",\"name\":\"Discrete Finite Difference\",\"showlegend\":true,\"x\":[6,12,18,24,30],\"y\":[-2.929164328418348,-3.5393010462703387,-3.8282317113531947,-3.7878373675114476,-3.9329909558659777],\"type\":\"scatter\",\"xaxis\":\"x\",\"yaxis\":\"y\"},{\"line\":{\"color\":\"yellow\",\"width\":2},\"mode\":\"lines\",\"name\":\"Discrete LCU\",\"showlegend\":true,\"x\":[6,12,18,24,30],\"y\":[-2.929164328422733,-3.539301048416826,-3.8282317094960447,-3.7878372060953804,-3.932990955370387],\"type\":\"scatter\",\"xaxis\":\"x\",\"yaxis\":\"y\"},{\"line\":{\"color\":\"blue\",\"width\":2},\"mode\":\"lines\",\"name\":\"Discrete QNG\",\"showlegend\":true,\"x\":[6,12,18,24,30],\"y\":[-2.941589289072147,-3.5243001957745834,-3.803825381882615,-3.7506633513053558,-3.942992152383213],\"type\":\"scatter\",\"xaxis\":\"x\",\"yaxis\":\"y\"},{\"line\":{\"color\":\"brown\",\"width\":2},\"mode\":\"lines\",\"name\":\"Discrete Newton Gradient\",\"showlegend\":true,\"x\":[6,12,18,24,30],\"y\":[-2.9579848119884398,-3.3238476797868346,-3.5569044852788445,-3.9099905456365747,-3.7367243674741877],\"type\":\"scatter\",\"xaxis\":\"x\",\"yaxis\":\"y\"},{\"line\":{\"color\":\"red\",\"width\":2},\"name\":\"Discrete Parameter Shift\",\"showlegend\":false,\"x\":[6,12,18,24,30],\"y\":[-1.876863858222546,-2.407202191774318,-2.635853393624218,-2.7892539116655244,-2.6502520486206276],\"type\":\"scatter\",\"xaxis\":\"x2\",\"yaxis\":\"y2\"},{\"line\":{\"color\":\"green\",\"width\":2},\"mode\":\"lines\",\"name\":\"Discrete Finite Difference\",\"showlegend\":false,\"x\":[6,12,18,24,30],\"y\":[-1.876863835539945,-2.4072021915045503,-2.635853393601198,-2.789253863591263,-2.6502520488040204],\"type\":\"scatter\",\"xaxis\":\"x2\",\"yaxis\":\"y2\"},{\"line\":{\"color\":\"yellow\",\"width\":2},\"mode\":\"lines\",\"name\":\"Discrete LCU\",\"showlegend\":false,\"x\":[6,12,18,24,30],\"y\":[-1.8768638582225465,-2.4072021917743216,-2.6358533936242265,-2.7892539116655186,-2.650252048620624],\"type\":\"scatter\",\"xaxis\":\"x2\",\"yaxis\":\"y2\"},{\"line\":{\"color\":\"blue\",\"width\":2},\"mode\":\"lines\",\"name\":\"Discrete QNG\",\"showlegend\":false,\"x\":[6,12,18,24,30],\"y\":[-1.897975318928554,-2.4071987988668684,-2.644206244015259,-2.880196460276043,-2.6526942955793196],\"type\":\"scatter\",\"xaxis\":\"x2\",\"yaxis\":\"y2\"},{\"line\":{\"color\":\"brown\",\"width\":2},\"mode\":\"lines\",\"name\":\"Discrete Newton Gradient\",\"showlegend\":false,\"x\":[6,12,18,24,30],\"y\":[-1.973754310834769,-1.551114623179663,0.3817639843403245,0.3947592996186045,-1.5893694640355402],\"type\":\"scatter\",\"xaxis\":\"x2\",\"yaxis\":\"y2\"},{\"line\":{\"color\":\"red\",\"width\":2},\"name\":\"Discrete Parameter Shift\",\"showlegend\":false,\"x\":[6,12,18,24,30],\"y\":[314801.59237132076,285518.8215265906,233156.36877137632,194202.64663859428,217817.13097259385],\"type\":\"scatter\",\"xaxis\":\"x3\",\"yaxis\":\"y3\"},{\"line\":{\"color\":\"green\",\"width\":2},\"mode\":\"lines\",\"name\":\"Discrete Finite Difference\",\"showlegend\":false,\"x\":[6,12,18,24,30],\"y\":[314801.59237132064,285518.82152658893,233156.36877137795,194202.64663859486,217817.13097259722],\"type\":\"scatter\",\"xaxis\":\"x3\",\"yaxis\":\"y3\"},{\"line\":{\"color\":\"yellow\",\"width\":2},\"mode\":\"lines\",\"name\":\"Discrete LCU\",\"showlegend\":false,\"x\":[6,12,18,24,30],\"y\":[314801.59237132064,285518.8215265906,233156.36877137632,194202.6466385944,217817.13097259443],\"type\":\"scatter\",\"xaxis\":\"x3\",\"yaxis\":\"y3\"},{\"line\":{\"color\":\"blue\",\"width\":2},\"mode\":\"lines\",\"name\":\"Discrete QNG\",\"showlegend\":false,\"x\":[6,12,18,24,30],\"y\":[310609.1537419628,286893.91481415957,241174.27341195743,190318.3935726753,218464.63960607367],\"type\":\"scatter\",\"xaxis\":\"x3\",\"yaxis\":\"y3\"},{\"line\":{\"color\":\"brown\",\"width\":2},\"mode\":\"lines\",\"name\":\"Discrete Newton Gradient\",\"showlegend\":false,\"x\":[6,12,18,24,30],\"y\":[421976.3918746569,387725.42407439055,373437.4417136734,416790.0452377115,430773.1486934845],\"type\":\"scatter\",\"xaxis\":\"x3\",\"yaxis\":\"y3\"},{\"line\":{\"color\":\"red\",\"width\":2},\"name\":\"Discrete Parameter Shift\",\"showlegend\":false,\"x\":[6,12,18,24,30],\"y\":[2.24360521907084,-0.2069899786378535,0.1879486292593775,-0.9966831801412717,-1.7792702882944589],\"type\":\"scatter\",\"xaxis\":\"x4\",\"yaxis\":\"y4\"},{\"line\":{\"color\":\"green\",\"width\":2},\"mode\":\"lines\",\"name\":\"Discrete Finite Difference\",\"showlegend\":false,\"x\":[6,12,18,24,30],\"y\":[2.243605219069817,-0.20698997864233526,0.18794863023108377,-0.9966831985632361,-1.7792702888604843],\"type\":\"scatter\",\"xaxis\":\"x4\",\"yaxis\":\"y4\"},{\"line\":{\"color\":\"yellow\",\"width\":2},\"mode\":\"lines\",\"name\":\"Discrete LCU\",\"showlegend\":false,\"x\":[6,12,18,24,30],\"y\":[2.2436052190708384,-0.20698997863784818,0.18794862925939704,-0.9966831801412752,-1.7792702882944447],\"type\":\"scatter\",\"xaxis\":\"x4\",\"yaxis\":\"y4\"},{\"line\":{\"color\":\"blue\",\"width\":2},\"mode\":\"lines\",\"name\":\"Discrete QNG\",\"showlegend\":false,\"x\":[6,12,18,24,30],\"y\":[2.0759706029469314,-0.11421887803508746,-0.43520495265521575,-0.9394324103253435,-1.7626333075849043],\"type\":\"scatter\",\"xaxis\":\"x4\",\"yaxis\":\"y4\"},{\"line\":{\"color\":\"brown\",\"width\":2},\"mode\":\"lines\",\"name\":\"Discrete Newton Gradient\",\"showlegend\":false,\"x\":[6,12,18,24,30],\"y\":[12.823544904137746,9.5025909066238,5.738293838450506,1.2491742197728835,4.2308902250550044],\"type\":\"scatter\",\"xaxis\":\"x4\",\"yaxis\":\"y4\"}],                        {\"template\":{\"data\":{\"bar\":[{\"error_x\":{\"color\":\"#2a3f5f\"},\"error_y\":{\"color\":\"#2a3f5f\"},\"marker\":{\"line\":{\"color\":\"#E5ECF6\",\"width\":0.5},\"pattern\":{\"fillmode\":\"overlay\",\"size\":10,\"solidity\":0.2}},\"type\":\"bar\"}],\"barpolar\":[{\"marker\":{\"line\":{\"color\":\"#E5ECF6\",\"width\":0.5},\"pattern\":{\"fillmode\":\"overlay\",\"size\":10,\"solidity\":0.2}},\"type\":\"barpolar\"}],\"carpet\":[{\"aaxis\":{\"endlinecolor\":\"#2a3f5f\",\"gridcolor\":\"white\",\"linecolor\":\"white\",\"minorgridcolor\":\"white\",\"startlinecolor\":\"#2a3f5f\"},\"baxis\":{\"endlinecolor\":\"#2a3f5f\",\"gridcolor\":\"white\",\"linecolor\":\"white\",\"minorgridcolor\":\"white\",\"startlinecolor\":\"#2a3f5f\"},\"type\":\"carpet\"}],\"choropleth\":[{\"colorbar\":{\"outlinewidth\":0,\"ticks\":\"\"},\"type\":\"choropleth\"}],\"contour\":[{\"colorbar\":{\"outlinewidth\":0,\"ticks\":\"\"},\"colorscale\":[[0.0,\"#0d0887\"],[0.1111111111111111,\"#46039f\"],[0.2222222222222222,\"#7201a8\"],[0.3333333333333333,\"#9c179e\"],[0.4444444444444444,\"#bd3786\"],[0.5555555555555556,\"#d8576b\"],[0.6666666666666666,\"#ed7953\"],[0.7777777777777778,\"#fb9f3a\"],[0.8888888888888888,\"#fdca26\"],[1.0,\"#f0f921\"]],\"type\":\"contour\"}],\"contourcarpet\":[{\"colorbar\":{\"outlinewidth\":0,\"ticks\":\"\"},\"type\":\"contourcarpet\"}],\"heatmap\":[{\"colorbar\":{\"outlinewidth\":0,\"ticks\":\"\"},\"colorscale\":[[0.0,\"#0d0887\"],[0.1111111111111111,\"#46039f\"],[0.2222222222222222,\"#7201a8\"],[0.3333333333333333,\"#9c179e\"],[0.4444444444444444,\"#bd3786\"],[0.5555555555555556,\"#d8576b\"],[0.6666666666666666,\"#ed7953\"],[0.7777777777777778,\"#fb9f3a\"],[0.8888888888888888,\"#fdca26\"],[1.0,\"#f0f921\"]],\"type\":\"heatmap\"}],\"heatmapgl\":[{\"colorbar\":{\"outlinewidth\":0,\"ticks\":\"\"},\"colorscale\":[[0.0,\"#0d0887\"],[0.1111111111111111,\"#46039f\"],[0.2222222222222222,\"#7201a8\"],[0.3333333333333333,\"#9c179e\"],[0.4444444444444444,\"#bd3786\"],[0.5555555555555556,\"#d8576b\"],[0.6666666666666666,\"#ed7953\"],[0.7777777777777778,\"#fb9f3a\"],[0.8888888888888888,\"#fdca26\"],[1.0,\"#f0f921\"]],\"type\":\"heatmapgl\"}],\"histogram\":[{\"marker\":{\"pattern\":{\"fillmode\":\"overlay\",\"size\":10,\"solidity\":0.2}},\"type\":\"histogram\"}],\"histogram2d\":[{\"colorbar\":{\"outlinewidth\":0,\"ticks\":\"\"},\"colorscale\":[[0.0,\"#0d0887\"],[0.1111111111111111,\"#46039f\"],[0.2222222222222222,\"#7201a8\"],[0.3333333333333333,\"#9c179e\"],[0.4444444444444444,\"#bd3786\"],[0.5555555555555556,\"#d8576b\"],[0.6666666666666666,\"#ed7953\"],[0.7777777777777778,\"#fb9f3a\"],[0.8888888888888888,\"#fdca26\"],[1.0,\"#f0f921\"]],\"type\":\"histogram2d\"}],\"histogram2dcontour\":[{\"colorbar\":{\"outlinewidth\":0,\"ticks\":\"\"},\"colorscale\":[[0.0,\"#0d0887\"],[0.1111111111111111,\"#46039f\"],[0.2222222222222222,\"#7201a8\"],[0.3333333333333333,\"#9c179e\"],[0.4444444444444444,\"#bd3786\"],[0.5555555555555556,\"#d8576b\"],[0.6666666666666666,\"#ed7953\"],[0.7777777777777778,\"#fb9f3a\"],[0.8888888888888888,\"#fdca26\"],[1.0,\"#f0f921\"]],\"type\":\"histogram2dcontour\"}],\"mesh3d\":[{\"colorbar\":{\"outlinewidth\":0,\"ticks\":\"\"},\"type\":\"mesh3d\"}],\"parcoords\":[{\"line\":{\"colorbar\":{\"outlinewidth\":0,\"ticks\":\"\"}},\"type\":\"parcoords\"}],\"pie\":[{\"automargin\":true,\"type\":\"pie\"}],\"scatter\":[{\"marker\":{\"colorbar\":{\"outlinewidth\":0,\"ticks\":\"\"}},\"type\":\"scatter\"}],\"scatter3d\":[{\"line\":{\"colorbar\":{\"outlinewidth\":0,\"ticks\":\"\"}},\"marker\":{\"colorbar\":{\"outlinewidth\":0,\"ticks\":\"\"}},\"type\":\"scatter3d\"}],\"scattercarpet\":[{\"marker\":{\"colorbar\":{\"outlinewidth\":0,\"ticks\":\"\"}},\"type\":\"scattercarpet\"}],\"scattergeo\":[{\"marker\":{\"colorbar\":{\"outlinewidth\":0,\"ticks\":\"\"}},\"type\":\"scattergeo\"}],\"scattergl\":[{\"marker\":{\"colorbar\":{\"outlinewidth\":0,\"ticks\":\"\"}},\"type\":\"scattergl\"}],\"scattermapbox\":[{\"marker\":{\"colorbar\":{\"outlinewidth\":0,\"ticks\":\"\"}},\"type\":\"scattermapbox\"}],\"scatterpolar\":[{\"marker\":{\"colorbar\":{\"outlinewidth\":0,\"ticks\":\"\"}},\"type\":\"scatterpolar\"}],\"scatterpolargl\":[{\"marker\":{\"colorbar\":{\"outlinewidth\":0,\"ticks\":\"\"}},\"type\":\"scatterpolargl\"}],\"scatterternary\":[{\"marker\":{\"colorbar\":{\"outlinewidth\":0,\"ticks\":\"\"}},\"type\":\"scatterternary\"}],\"surface\":[{\"colorbar\":{\"outlinewidth\":0,\"ticks\":\"\"},\"colorscale\":[[0.0,\"#0d0887\"],[0.1111111111111111,\"#46039f\"],[0.2222222222222222,\"#7201a8\"],[0.3333333333333333,\"#9c179e\"],[0.4444444444444444,\"#bd3786\"],[0.5555555555555556,\"#d8576b\"],[0.6666666666666666,\"#ed7953\"],[0.7777777777777778,\"#fb9f3a\"],[0.8888888888888888,\"#fdca26\"],[1.0,\"#f0f921\"]],\"type\":\"surface\"}],\"table\":[{\"cells\":{\"fill\":{\"color\":\"#EBF0F8\"},\"line\":{\"color\":\"white\"}},\"header\":{\"fill\":{\"color\":\"#C8D4E3\"},\"line\":{\"color\":\"white\"}},\"type\":\"table\"}]},\"layout\":{\"annotationdefaults\":{\"arrowcolor\":\"#2a3f5f\",\"arrowhead\":0,\"arrowwidth\":1},\"autotypenumbers\":\"strict\",\"coloraxis\":{\"colorbar\":{\"outlinewidth\":0,\"ticks\":\"\"}},\"colorscale\":{\"diverging\":[[0,\"#8e0152\"],[0.1,\"#c51b7d\"],[0.2,\"#de77ae\"],[0.3,\"#f1b6da\"],[0.4,\"#fde0ef\"],[0.5,\"#f7f7f7\"],[0.6,\"#e6f5d0\"],[0.7,\"#b8e186\"],[0.8,\"#7fbc41\"],[0.9,\"#4d9221\"],[1,\"#276419\"]],\"sequential\":[[0.0,\"#0d0887\"],[0.1111111111111111,\"#46039f\"],[0.2222222222222222,\"#7201a8\"],[0.3333333333333333,\"#9c179e\"],[0.4444444444444444,\"#bd3786\"],[0.5555555555555556,\"#d8576b\"],[0.6666666666666666,\"#ed7953\"],[0.7777777777777778,\"#fb9f3a\"],[0.8888888888888888,\"#fdca26\"],[1.0,\"#f0f921\"]],\"sequentialminus\":[[0.0,\"#0d0887\"],[0.1111111111111111,\"#46039f\"],[0.2222222222222222,\"#7201a8\"],[0.3333333333333333,\"#9c179e\"],[0.4444444444444444,\"#bd3786\"],[0.5555555555555556,\"#d8576b\"],[0.6666666666666666,\"#ed7953\"],[0.7777777777777778,\"#fb9f3a\"],[0.8888888888888888,\"#fdca26\"],[1.0,\"#f0f921\"]]},\"colorway\":[\"#636efa\",\"#EF553B\",\"#00cc96\",\"#ab63fa\",\"#FFA15A\",\"#19d3f3\",\"#FF6692\",\"#B6E880\",\"#FF97FF\",\"#FECB52\"],\"font\":{\"color\":\"#2a3f5f\"},\"geo\":{\"bgcolor\":\"white\",\"lakecolor\":\"white\",\"landcolor\":\"#E5ECF6\",\"showlakes\":true,\"showland\":true,\"subunitcolor\":\"white\"},\"hoverlabel\":{\"align\":\"left\"},\"hovermode\":\"closest\",\"mapbox\":{\"style\":\"light\"},\"paper_bgcolor\":\"white\",\"plot_bgcolor\":\"#E5ECF6\",\"polar\":{\"angularaxis\":{\"gridcolor\":\"white\",\"linecolor\":\"white\",\"ticks\":\"\"},\"bgcolor\":\"#E5ECF6\",\"radialaxis\":{\"gridcolor\":\"white\",\"linecolor\":\"white\",\"ticks\":\"\"}},\"scene\":{\"xaxis\":{\"backgroundcolor\":\"#E5ECF6\",\"gridcolor\":\"white\",\"gridwidth\":2,\"linecolor\":\"white\",\"showbackground\":true,\"ticks\":\"\",\"zerolinecolor\":\"white\"},\"yaxis\":{\"backgroundcolor\":\"#E5ECF6\",\"gridcolor\":\"white\",\"gridwidth\":2,\"linecolor\":\"white\",\"showbackground\":true,\"ticks\":\"\",\"zerolinecolor\":\"white\"},\"zaxis\":{\"backgroundcolor\":\"#E5ECF6\",\"gridcolor\":\"white\",\"gridwidth\":2,\"linecolor\":\"white\",\"showbackground\":true,\"ticks\":\"\",\"zerolinecolor\":\"white\"}},\"shapedefaults\":{\"line\":{\"color\":\"#2a3f5f\"}},\"ternary\":{\"aaxis\":{\"gridcolor\":\"white\",\"linecolor\":\"white\",\"ticks\":\"\"},\"baxis\":{\"gridcolor\":\"white\",\"linecolor\":\"white\",\"ticks\":\"\"},\"bgcolor\":\"#E5ECF6\",\"caxis\":{\"gridcolor\":\"white\",\"linecolor\":\"white\",\"ticks\":\"\"}},\"title\":{\"x\":0.05},\"xaxis\":{\"automargin\":true,\"gridcolor\":\"white\",\"linecolor\":\"white\",\"ticks\":\"\",\"title\":{\"standoff\":15},\"zerolinecolor\":\"white\",\"zerolinewidth\":2},\"yaxis\":{\"automargin\":true,\"gridcolor\":\"white\",\"linecolor\":\"white\",\"ticks\":\"\",\"title\":{\"standoff\":15},\"zerolinecolor\":\"white\",\"zerolinewidth\":2}}},\"xaxis\":{\"anchor\":\"y\",\"domain\":[0.0,0.45],\"title\":{\"text\":\"The Number of parameterized gate\"}},\"yaxis\":{\"anchor\":\"x\",\"domain\":[0.625,1.0],\"title\":{\"text\":\"Loss\"}},\"xaxis2\":{\"anchor\":\"y2\",\"domain\":[0.55,1.0]},\"yaxis2\":{\"anchor\":\"x2\",\"domain\":[0.625,1.0]},\"xaxis3\":{\"anchor\":\"y3\",\"domain\":[0.0,0.45]},\"yaxis3\":{\"anchor\":\"x3\",\"domain\":[0.0,0.375]},\"xaxis4\":{\"anchor\":\"y4\",\"domain\":[0.55,1.0]},\"yaxis4\":{\"anchor\":\"x4\",\"domain\":[0.0,0.375]},\"annotations\":[{\"font\":{\"size\":16},\"showarrow\":false,\"text\":\"Max-Cut\",\"x\":0.225,\"xanchor\":\"center\",\"xref\":\"paper\",\"y\":1.0,\"yanchor\":\"bottom\",\"yref\":\"paper\"},{\"font\":{\"size\":16},\"showarrow\":false,\"text\":\"Clique\",\"x\":0.775,\"xanchor\":\"center\",\"xref\":\"paper\",\"y\":1.0,\"yanchor\":\"bottom\",\"yref\":\"paper\"},{\"font\":{\"size\":16},\"showarrow\":false,\"text\":\"Binary Linear Programming\",\"x\":0.225,\"xanchor\":\"center\",\"xref\":\"paper\",\"y\":0.375,\"yanchor\":\"bottom\",\"yref\":\"paper\"},{\"font\":{\"size\":16},\"showarrow\":false,\"text\":\"Knapsack\",\"x\":0.775,\"xanchor\":\"center\",\"xref\":\"paper\",\"y\":0.375,\"yanchor\":\"bottom\",\"yref\":\"paper\"}],\"title\":{\"text\":\"Loss Comparison  <br><sup>Fixed epochs (10 epochs).</sup>\"},\"autosize\":false,\"width\":1000,\"height\":700},                        {\"responsive\": true}                    ).then(function(){\n",
              "                            \n",
              "var gd = document.getElementById('d0751dc0-e8fd-46a2-9f92-cc4e9a7f6376');\n",
              "var x = new MutationObserver(function (mutations, observer) {{\n",
              "        var display = window.getComputedStyle(gd).display;\n",
              "        if (!display || display === 'none') {{\n",
              "            console.log([gd, 'removed!']);\n",
              "            Plotly.purge(gd);\n",
              "            observer.disconnect();\n",
              "        }}\n",
              "}});\n",
              "\n",
              "// Listen for the removal of the full notebook cells\n",
              "var notebookContainer = gd.closest('#notebook-container');\n",
              "if (notebookContainer) {{\n",
              "    x.observe(notebookContainer, {childList: true});\n",
              "}}\n",
              "\n",
              "// Listen for the clearing of the current output cell\n",
              "var outputEl = gd.closest('.output');\n",
              "if (outputEl) {{\n",
              "    x.observe(outputEl, {childList: true});\n",
              "}}\n",
              "\n",
              "                        })                };                            </script>        </div>\n",
              "</body>\n",
              "</html>"
            ]
          },
          "metadata": {}
        }
      ],
      "source": [
        "#@title Loss Comparison \n",
        "#@markdown Fixed epochs (10 epochs).\n",
        "from plotly.subplots import make_subplots\n",
        "\n",
        "x = [step*3 for step in steps]\n",
        "row = 2\n",
        "col = 2\n",
        "fig = make_subplots(rows=row, cols=col, subplot_titles=(\"Max-Cut\",\"Clique\",\"Binary Linear Programming\", \"Knapsack\"))\n",
        "show = True\n",
        "for i in range(row):\n",
        "  for j in range(col):\n",
        "    problemn = i*col+j\n",
        "    if problemn>0:\n",
        "      show = False\n",
        "    dv = pd.DataFrame({\"#Param Gates\":x, \"Loss\":pslc[problemn]})\n",
        "    dv_fd = pd.DataFrame({\"#Param Gates\":x, \"Loss\":fdlc[problemn]})\n",
        "    dv_lcu = pd.DataFrame({\"#Param Gates\":x, \"Loss\":lculc[problemn]})\n",
        "    dv_qng = pd.DataFrame({\"#Param Gates\":x, \"Loss\":qnglc[problemn]})\n",
        "    dv_newton = pd.DataFrame({\"#Param Gates\":x, \"Loss\":qnwlc[problemn]})\n",
        "\n",
        "    # dv_cls = pd.DataFrame({\"#Param Gates\":range(len(loss_plot_classical)), \"Loss\":loss_plot_classical})\n",
        "\n",
        "    fig.add_trace(go.Scatter(x=dv[\"#Param Gates\"], y=dv[\"Loss\"], name=\"Discrete Parameter Shift\", line = dict(width=2), line_color='red', showlegend = show), row=i+1, col=j+1)\n",
        "    fig.add_trace(go.Scatter(x=dv_fd[\"#Param Gates\"], y=dv_fd[\"Loss\"], mode=\"lines\", name=\"Discrete Finite Difference\", line = dict(width=2), line_color='green', showlegend = show), row=i+1, col=j+1)\n",
        "    fig.add_trace(go.Scatter(x=dv_lcu[\"#Param Gates\"], y=dv_lcu[\"Loss\"], mode=\"lines\", name=\"Discrete LCU\", line = dict(width=2), line_color='yellow', showlegend = show), row=i+1, col=j+1)\n",
        "    fig.add_trace(go.Scatter(x=dv_qng[\"#Param Gates\"], y=dv_qng[\"Loss\"], mode=\"lines\", name=\"Discrete QNG\", line = dict(width=2), line_color='blue', showlegend = show), row=i+1, col=j+1)\n",
        "    fig.add_trace(go.Scatter(x=dv_newton[\"#Param Gates\"], y=dv_newton[\"Loss\"], mode=\"lines\", name=\"Discrete Newton Gradient\", line = dict(width=2), line_color='brown', showlegend = show), row=i+1, col=j+1)\n",
        "\n",
        "    # fig.add_trace(go.Scatter(x=dv_cls[\"#Param Gates\"], y=dv_cls[\"Loss\"], mode=\"lines\", name=\"Classical\"))\n",
        "\n",
        "\n",
        "fig.update_layout(title=\"Loss Comparison  <br><sup>Fixed epochs (10 epochs).</sup>\",\n",
        "                  xaxis_title=\"The Number of parameterized gate\",\n",
        "                  yaxis_title=\"Loss\", autosize=False,\n",
        "                  width=1000,\n",
        "                  height=700)\n",
        "plotly.offline.plot(fig, filename='loss_fixepoch.html')\n",
        "fig.show()"
      ]
    },
    {
      "cell_type": "code",
      "execution_count": null,
      "metadata": {
        "id": "S-MBnDy8ta7l",
        "colab": {
          "base_uri": "https://localhost:8080/",
          "height": 717
        },
        "outputId": "0eed1d28-69ef-44a9-a3ab-04813c888a70"
      },
      "outputs": [
        {
          "output_type": "display_data",
          "data": {
            "text/html": [
              "<html>\n",
              "<head><meta charset=\"utf-8\" /></head>\n",
              "<body>\n",
              "    <div>            <script src=\"https://cdnjs.cloudflare.com/ajax/libs/mathjax/2.7.5/MathJax.js?config=TeX-AMS-MML_SVG\"></script><script type=\"text/javascript\">if (window.MathJax) {MathJax.Hub.Config({SVG: {font: \"STIX-Web\"}});}</script>                <script type=\"text/javascript\">window.PlotlyConfig = {MathJaxConfig: 'local'};</script>\n",
              "        <script src=\"https://cdn.plot.ly/plotly-2.8.3.min.js\"></script>                <div id=\"f2f878c5-315d-425c-ba32-7c7507f25d5a\" class=\"plotly-graph-div\" style=\"height:700px; width:1000px;\"></div>            <script type=\"text/javascript\">                                    window.PLOTLYENV=window.PLOTLYENV || {};                                    if (document.getElementById(\"f2f878c5-315d-425c-ba32-7c7507f25d5a\")) {                    Plotly.newPlot(                        \"f2f878c5-315d-425c-ba32-7c7507f25d5a\",                        [{\"line\":{\"color\":\"red\",\"width\":2},\"name\":\"Discrete Parameter Shift\",\"showlegend\":true,\"x\":[6,12,18,24,30],\"y\":[15.644959211349487,49.82092332839966,105.3903477191925,194.6794843673706,269.6316599845886],\"type\":\"scatter\",\"xaxis\":\"x\",\"yaxis\":\"y\"},{\"line\":{\"color\":\"green\",\"width\":2},\"mode\":\"lines\",\"name\":\"Discrete Finite Difference\",\"showlegend\":true,\"x\":[6,12,18,24,30],\"y\":[15.410544872283936,49.988425970077515,103.91867876052856,177.87395858764648,268.7762677669525],\"type\":\"scatter\",\"xaxis\":\"x\",\"yaxis\":\"y\"},{\"line\":{\"color\":\"yellow\",\"width\":2},\"mode\":\"lines\",\"name\":\"Discrete LCU\",\"showlegend\":true,\"x\":[6,12,18,24,30],\"y\":[8.931689977645874,28.985533237457275,61.115331172943115,105.83100581169128,161.75122332572937],\"type\":\"scatter\",\"xaxis\":\"x\",\"yaxis\":\"y\"},{\"line\":{\"color\":\"blue\",\"width\":2},\"mode\":\"lines\",\"name\":\"Discrete QNG\",\"showlegend\":true,\"x\":[6,12,18,24,30],\"y\":[17.400473833084106,57.299967527389526,120.71206045150757,207.27177667617798,316.091579914093],\"type\":\"scatter\",\"xaxis\":\"x\",\"yaxis\":\"y\"},{\"line\":{\"color\":\"brown\",\"width\":2},\"mode\":\"lines\",\"name\":\"Discrete Newton Gradient\",\"showlegend\":true,\"x\":[6,12,18,24,30],\"y\":[24.07765793800354,79.85720825195312,168.79295873641968,289.4530098438263,443.71425127983093],\"type\":\"scatter\",\"xaxis\":\"x\",\"yaxis\":\"y\"},{\"line\":{\"color\":\"red\",\"width\":2},\"name\":\"Discrete Parameter Shift\",\"showlegend\":false,\"x\":[6,12,18,24,30],\"y\":[15.751179695129395,50.67758226394653,106.66563725471497,178.2323853969574,270.6256380081177],\"type\":\"scatter\",\"xaxis\":\"x2\",\"yaxis\":\"y2\"},{\"line\":{\"color\":\"green\",\"width\":2},\"mode\":\"lines\",\"name\":\"Discrete Finite Difference\",\"showlegend\":false,\"x\":[6,12,18,24,30],\"y\":[16.0708749294281,50.32833456993103,104.76248455047607,177.86918759346008,271.1738021373749],\"type\":\"scatter\",\"xaxis\":\"x2\",\"yaxis\":\"y2\"},{\"line\":{\"color\":\"yellow\",\"width\":2},\"mode\":\"lines\",\"name\":\"Discrete LCU\",\"showlegend\":false,\"x\":[6,12,18,24,30],\"y\":[8.796635866165161,29.389427423477173,62.07464623451233,107.13757133483887,162.94685077667236],\"type\":\"scatter\",\"xaxis\":\"x2\",\"yaxis\":\"y2\"},{\"line\":{\"color\":\"blue\",\"width\":2},\"mode\":\"lines\",\"name\":\"Discrete QNG\",\"showlegend\":false,\"x\":[6,12,18,24,30],\"y\":[17.995111227035522,58.00802731513977,122.06760287284851,209.5523247718811,319.1486122608185],\"type\":\"scatter\",\"xaxis\":\"x2\",\"yaxis\":\"y2\"},{\"line\":{\"color\":\"brown\",\"width\":2},\"mode\":\"lines\",\"name\":\"Discrete Newton Gradient\",\"showlegend\":false,\"x\":[6,12,18,24,30],\"y\":[24.529286861419678,80.57080841064453,170.60402250289917,292.2884614467621,444.2778081893921],\"type\":\"scatter\",\"xaxis\":\"x2\",\"yaxis\":\"y2\"},{\"line\":{\"color\":\"red\",\"width\":2},\"name\":\"Discrete Parameter Shift\",\"showlegend\":false,\"x\":[6,12,18,24,30],\"y\":[15.712199687957764,50.86720561981201,104.59781241416931,179.42934465408325,269.3503348827362],\"type\":\"scatter\",\"xaxis\":\"x3\",\"yaxis\":\"y3\"},{\"line\":{\"color\":\"green\",\"width\":2},\"mode\":\"lines\",\"name\":\"Discrete Finite Difference\",\"showlegend\":false,\"x\":[6,12,18,24,30],\"y\":[15.861216306686401,50.5686821937561,105.57242798805237,178.66170048713684,269.82420587539673],\"type\":\"scatter\",\"xaxis\":\"x3\",\"yaxis\":\"y3\"},{\"line\":{\"color\":\"yellow\",\"width\":2},\"mode\":\"lines\",\"name\":\"Discrete LCU\",\"showlegend\":false,\"x\":[6,12,18,24,30],\"y\":[9.046346426010132,29.138696670532227,62.39527750015259,106.23676681518555,164.01394319534302],\"type\":\"scatter\",\"xaxis\":\"x3\",\"yaxis\":\"y3\"},{\"line\":{\"color\":\"blue\",\"width\":2},\"mode\":\"lines\",\"name\":\"Discrete QNG\",\"showlegend\":false,\"x\":[6,12,18,24,30],\"y\":[18.08150029182434,58.293269634246826,122.97192525863647,210.64574193954468,318.86905169487],\"type\":\"scatter\",\"xaxis\":\"x3\",\"yaxis\":\"y3\"},{\"line\":{\"color\":\"brown\",\"width\":2},\"mode\":\"lines\",\"name\":\"Discrete Newton Gradient\",\"showlegend\":false,\"x\":[6,12,18,24,30],\"y\":[25.216973304748535,80.33175110816956,169.92891597747803,291.77856945991516,445.90702509880066],\"type\":\"scatter\",\"xaxis\":\"x3\",\"yaxis\":\"y3\"},{\"line\":{\"color\":\"red\",\"width\":2},\"name\":\"Discrete Parameter Shift\",\"showlegend\":false,\"x\":[6,12,18,24,30],\"y\":[17.362300395965576,54.9211368560791,109.37747359275818,184.04971957206726,274.7071285247803],\"type\":\"scatter\",\"xaxis\":\"x4\",\"yaxis\":\"y4\"},{\"line\":{\"color\":\"green\",\"width\":2},\"mode\":\"lines\",\"name\":\"Discrete Finite Difference\",\"showlegend\":false,\"x\":[6,12,18,24,30],\"y\":[17.06734538078308,53.21268272399902,109.49353551864624,184.80938625335693,275.73324704170227],\"type\":\"scatter\",\"xaxis\":\"x4\",\"yaxis\":\"y4\"},{\"line\":{\"color\":\"yellow\",\"width\":2},\"mode\":\"lines\",\"name\":\"Discrete LCU\",\"showlegend\":false,\"x\":[6,12,18,24,30],\"y\":[9.68779444694519,31.18748164176941,64.78715181350708,108.78925275802612,166.74741291999817],\"type\":\"scatter\",\"xaxis\":\"x4\",\"yaxis\":\"y4\"},{\"line\":{\"color\":\"blue\",\"width\":2},\"mode\":\"lines\",\"name\":\"Discrete QNG\",\"showlegend\":false,\"x\":[6,12,18,24,30],\"y\":[19.298198461532593,61.046324491500854,126.91191911697388,214.1900429725647,323.78884530067444],\"type\":\"scatter\",\"xaxis\":\"x4\",\"yaxis\":\"y4\"},{\"line\":{\"color\":\"brown\",\"width\":2},\"mode\":\"lines\",\"name\":\"Discrete Newton Gradient\",\"showlegend\":false,\"x\":[6,12,18,24,30],\"y\":[26.2831928730011,83.28943300247192,173.9037790298462,296.2556173801422,450.38498973846436],\"type\":\"scatter\",\"xaxis\":\"x4\",\"yaxis\":\"y4\"}],                        {\"template\":{\"data\":{\"bar\":[{\"error_x\":{\"color\":\"#2a3f5f\"},\"error_y\":{\"color\":\"#2a3f5f\"},\"marker\":{\"line\":{\"color\":\"#E5ECF6\",\"width\":0.5},\"pattern\":{\"fillmode\":\"overlay\",\"size\":10,\"solidity\":0.2}},\"type\":\"bar\"}],\"barpolar\":[{\"marker\":{\"line\":{\"color\":\"#E5ECF6\",\"width\":0.5},\"pattern\":{\"fillmode\":\"overlay\",\"size\":10,\"solidity\":0.2}},\"type\":\"barpolar\"}],\"carpet\":[{\"aaxis\":{\"endlinecolor\":\"#2a3f5f\",\"gridcolor\":\"white\",\"linecolor\":\"white\",\"minorgridcolor\":\"white\",\"startlinecolor\":\"#2a3f5f\"},\"baxis\":{\"endlinecolor\":\"#2a3f5f\",\"gridcolor\":\"white\",\"linecolor\":\"white\",\"minorgridcolor\":\"white\",\"startlinecolor\":\"#2a3f5f\"},\"type\":\"carpet\"}],\"choropleth\":[{\"colorbar\":{\"outlinewidth\":0,\"ticks\":\"\"},\"type\":\"choropleth\"}],\"contour\":[{\"colorbar\":{\"outlinewidth\":0,\"ticks\":\"\"},\"colorscale\":[[0.0,\"#0d0887\"],[0.1111111111111111,\"#46039f\"],[0.2222222222222222,\"#7201a8\"],[0.3333333333333333,\"#9c179e\"],[0.4444444444444444,\"#bd3786\"],[0.5555555555555556,\"#d8576b\"],[0.6666666666666666,\"#ed7953\"],[0.7777777777777778,\"#fb9f3a\"],[0.8888888888888888,\"#fdca26\"],[1.0,\"#f0f921\"]],\"type\":\"contour\"}],\"contourcarpet\":[{\"colorbar\":{\"outlinewidth\":0,\"ticks\":\"\"},\"type\":\"contourcarpet\"}],\"heatmap\":[{\"colorbar\":{\"outlinewidth\":0,\"ticks\":\"\"},\"colorscale\":[[0.0,\"#0d0887\"],[0.1111111111111111,\"#46039f\"],[0.2222222222222222,\"#7201a8\"],[0.3333333333333333,\"#9c179e\"],[0.4444444444444444,\"#bd3786\"],[0.5555555555555556,\"#d8576b\"],[0.6666666666666666,\"#ed7953\"],[0.7777777777777778,\"#fb9f3a\"],[0.8888888888888888,\"#fdca26\"],[1.0,\"#f0f921\"]],\"type\":\"heatmap\"}],\"heatmapgl\":[{\"colorbar\":{\"outlinewidth\":0,\"ticks\":\"\"},\"colorscale\":[[0.0,\"#0d0887\"],[0.1111111111111111,\"#46039f\"],[0.2222222222222222,\"#7201a8\"],[0.3333333333333333,\"#9c179e\"],[0.4444444444444444,\"#bd3786\"],[0.5555555555555556,\"#d8576b\"],[0.6666666666666666,\"#ed7953\"],[0.7777777777777778,\"#fb9f3a\"],[0.8888888888888888,\"#fdca26\"],[1.0,\"#f0f921\"]],\"type\":\"heatmapgl\"}],\"histogram\":[{\"marker\":{\"pattern\":{\"fillmode\":\"overlay\",\"size\":10,\"solidity\":0.2}},\"type\":\"histogram\"}],\"histogram2d\":[{\"colorbar\":{\"outlinewidth\":0,\"ticks\":\"\"},\"colorscale\":[[0.0,\"#0d0887\"],[0.1111111111111111,\"#46039f\"],[0.2222222222222222,\"#7201a8\"],[0.3333333333333333,\"#9c179e\"],[0.4444444444444444,\"#bd3786\"],[0.5555555555555556,\"#d8576b\"],[0.6666666666666666,\"#ed7953\"],[0.7777777777777778,\"#fb9f3a\"],[0.8888888888888888,\"#fdca26\"],[1.0,\"#f0f921\"]],\"type\":\"histogram2d\"}],\"histogram2dcontour\":[{\"colorbar\":{\"outlinewidth\":0,\"ticks\":\"\"},\"colorscale\":[[0.0,\"#0d0887\"],[0.1111111111111111,\"#46039f\"],[0.2222222222222222,\"#7201a8\"],[0.3333333333333333,\"#9c179e\"],[0.4444444444444444,\"#bd3786\"],[0.5555555555555556,\"#d8576b\"],[0.6666666666666666,\"#ed7953\"],[0.7777777777777778,\"#fb9f3a\"],[0.8888888888888888,\"#fdca26\"],[1.0,\"#f0f921\"]],\"type\":\"histogram2dcontour\"}],\"mesh3d\":[{\"colorbar\":{\"outlinewidth\":0,\"ticks\":\"\"},\"type\":\"mesh3d\"}],\"parcoords\":[{\"line\":{\"colorbar\":{\"outlinewidth\":0,\"ticks\":\"\"}},\"type\":\"parcoords\"}],\"pie\":[{\"automargin\":true,\"type\":\"pie\"}],\"scatter\":[{\"marker\":{\"colorbar\":{\"outlinewidth\":0,\"ticks\":\"\"}},\"type\":\"scatter\"}],\"scatter3d\":[{\"line\":{\"colorbar\":{\"outlinewidth\":0,\"ticks\":\"\"}},\"marker\":{\"colorbar\":{\"outlinewidth\":0,\"ticks\":\"\"}},\"type\":\"scatter3d\"}],\"scattercarpet\":[{\"marker\":{\"colorbar\":{\"outlinewidth\":0,\"ticks\":\"\"}},\"type\":\"scattercarpet\"}],\"scattergeo\":[{\"marker\":{\"colorbar\":{\"outlinewidth\":0,\"ticks\":\"\"}},\"type\":\"scattergeo\"}],\"scattergl\":[{\"marker\":{\"colorbar\":{\"outlinewidth\":0,\"ticks\":\"\"}},\"type\":\"scattergl\"}],\"scattermapbox\":[{\"marker\":{\"colorbar\":{\"outlinewidth\":0,\"ticks\":\"\"}},\"type\":\"scattermapbox\"}],\"scatterpolar\":[{\"marker\":{\"colorbar\":{\"outlinewidth\":0,\"ticks\":\"\"}},\"type\":\"scatterpolar\"}],\"scatterpolargl\":[{\"marker\":{\"colorbar\":{\"outlinewidth\":0,\"ticks\":\"\"}},\"type\":\"scatterpolargl\"}],\"scatterternary\":[{\"marker\":{\"colorbar\":{\"outlinewidth\":0,\"ticks\":\"\"}},\"type\":\"scatterternary\"}],\"surface\":[{\"colorbar\":{\"outlinewidth\":0,\"ticks\":\"\"},\"colorscale\":[[0.0,\"#0d0887\"],[0.1111111111111111,\"#46039f\"],[0.2222222222222222,\"#7201a8\"],[0.3333333333333333,\"#9c179e\"],[0.4444444444444444,\"#bd3786\"],[0.5555555555555556,\"#d8576b\"],[0.6666666666666666,\"#ed7953\"],[0.7777777777777778,\"#fb9f3a\"],[0.8888888888888888,\"#fdca26\"],[1.0,\"#f0f921\"]],\"type\":\"surface\"}],\"table\":[{\"cells\":{\"fill\":{\"color\":\"#EBF0F8\"},\"line\":{\"color\":\"white\"}},\"header\":{\"fill\":{\"color\":\"#C8D4E3\"},\"line\":{\"color\":\"white\"}},\"type\":\"table\"}]},\"layout\":{\"annotationdefaults\":{\"arrowcolor\":\"#2a3f5f\",\"arrowhead\":0,\"arrowwidth\":1},\"autotypenumbers\":\"strict\",\"coloraxis\":{\"colorbar\":{\"outlinewidth\":0,\"ticks\":\"\"}},\"colorscale\":{\"diverging\":[[0,\"#8e0152\"],[0.1,\"#c51b7d\"],[0.2,\"#de77ae\"],[0.3,\"#f1b6da\"],[0.4,\"#fde0ef\"],[0.5,\"#f7f7f7\"],[0.6,\"#e6f5d0\"],[0.7,\"#b8e186\"],[0.8,\"#7fbc41\"],[0.9,\"#4d9221\"],[1,\"#276419\"]],\"sequential\":[[0.0,\"#0d0887\"],[0.1111111111111111,\"#46039f\"],[0.2222222222222222,\"#7201a8\"],[0.3333333333333333,\"#9c179e\"],[0.4444444444444444,\"#bd3786\"],[0.5555555555555556,\"#d8576b\"],[0.6666666666666666,\"#ed7953\"],[0.7777777777777778,\"#fb9f3a\"],[0.8888888888888888,\"#fdca26\"],[1.0,\"#f0f921\"]],\"sequentialminus\":[[0.0,\"#0d0887\"],[0.1111111111111111,\"#46039f\"],[0.2222222222222222,\"#7201a8\"],[0.3333333333333333,\"#9c179e\"],[0.4444444444444444,\"#bd3786\"],[0.5555555555555556,\"#d8576b\"],[0.6666666666666666,\"#ed7953\"],[0.7777777777777778,\"#fb9f3a\"],[0.8888888888888888,\"#fdca26\"],[1.0,\"#f0f921\"]]},\"colorway\":[\"#636efa\",\"#EF553B\",\"#00cc96\",\"#ab63fa\",\"#FFA15A\",\"#19d3f3\",\"#FF6692\",\"#B6E880\",\"#FF97FF\",\"#FECB52\"],\"font\":{\"color\":\"#2a3f5f\"},\"geo\":{\"bgcolor\":\"white\",\"lakecolor\":\"white\",\"landcolor\":\"#E5ECF6\",\"showlakes\":true,\"showland\":true,\"subunitcolor\":\"white\"},\"hoverlabel\":{\"align\":\"left\"},\"hovermode\":\"closest\",\"mapbox\":{\"style\":\"light\"},\"paper_bgcolor\":\"white\",\"plot_bgcolor\":\"#E5ECF6\",\"polar\":{\"angularaxis\":{\"gridcolor\":\"white\",\"linecolor\":\"white\",\"ticks\":\"\"},\"bgcolor\":\"#E5ECF6\",\"radialaxis\":{\"gridcolor\":\"white\",\"linecolor\":\"white\",\"ticks\":\"\"}},\"scene\":{\"xaxis\":{\"backgroundcolor\":\"#E5ECF6\",\"gridcolor\":\"white\",\"gridwidth\":2,\"linecolor\":\"white\",\"showbackground\":true,\"ticks\":\"\",\"zerolinecolor\":\"white\"},\"yaxis\":{\"backgroundcolor\":\"#E5ECF6\",\"gridcolor\":\"white\",\"gridwidth\":2,\"linecolor\":\"white\",\"showbackground\":true,\"ticks\":\"\",\"zerolinecolor\":\"white\"},\"zaxis\":{\"backgroundcolor\":\"#E5ECF6\",\"gridcolor\":\"white\",\"gridwidth\":2,\"linecolor\":\"white\",\"showbackground\":true,\"ticks\":\"\",\"zerolinecolor\":\"white\"}},\"shapedefaults\":{\"line\":{\"color\":\"#2a3f5f\"}},\"ternary\":{\"aaxis\":{\"gridcolor\":\"white\",\"linecolor\":\"white\",\"ticks\":\"\"},\"baxis\":{\"gridcolor\":\"white\",\"linecolor\":\"white\",\"ticks\":\"\"},\"bgcolor\":\"#E5ECF6\",\"caxis\":{\"gridcolor\":\"white\",\"linecolor\":\"white\",\"ticks\":\"\"}},\"title\":{\"x\":0.05},\"xaxis\":{\"automargin\":true,\"gridcolor\":\"white\",\"linecolor\":\"white\",\"ticks\":\"\",\"title\":{\"standoff\":15},\"zerolinecolor\":\"white\",\"zerolinewidth\":2},\"yaxis\":{\"automargin\":true,\"gridcolor\":\"white\",\"linecolor\":\"white\",\"ticks\":\"\",\"title\":{\"standoff\":15},\"zerolinecolor\":\"white\",\"zerolinewidth\":2}}},\"xaxis\":{\"anchor\":\"y\",\"domain\":[0.0,0.45],\"title\":{\"text\":\"The Number of parameterized gate\"}},\"yaxis\":{\"anchor\":\"x\",\"domain\":[0.625,1.0],\"title\":{\"text\":\"Time (Sec)\"}},\"xaxis2\":{\"anchor\":\"y2\",\"domain\":[0.55,1.0]},\"yaxis2\":{\"anchor\":\"x2\",\"domain\":[0.625,1.0]},\"xaxis3\":{\"anchor\":\"y3\",\"domain\":[0.0,0.45]},\"yaxis3\":{\"anchor\":\"x3\",\"domain\":[0.0,0.375]},\"xaxis4\":{\"anchor\":\"y4\",\"domain\":[0.55,1.0]},\"yaxis4\":{\"anchor\":\"x4\",\"domain\":[0.0,0.375]},\"annotations\":[{\"font\":{\"size\":16},\"showarrow\":false,\"text\":\"Max-Cut\",\"x\":0.225,\"xanchor\":\"center\",\"xref\":\"paper\",\"y\":1.0,\"yanchor\":\"bottom\",\"yref\":\"paper\"},{\"font\":{\"size\":16},\"showarrow\":false,\"text\":\"Clique\",\"x\":0.775,\"xanchor\":\"center\",\"xref\":\"paper\",\"y\":1.0,\"yanchor\":\"bottom\",\"yref\":\"paper\"},{\"font\":{\"size\":16},\"showarrow\":false,\"text\":\"Binary Linear Programming\",\"x\":0.225,\"xanchor\":\"center\",\"xref\":\"paper\",\"y\":0.375,\"yanchor\":\"bottom\",\"yref\":\"paper\"},{\"font\":{\"size\":16},\"showarrow\":false,\"text\":\"Knapsack\",\"x\":0.775,\"xanchor\":\"center\",\"xref\":\"paper\",\"y\":0.375,\"yanchor\":\"bottom\",\"yref\":\"paper\"}],\"title\":{\"text\":\"Time Comparison  <br><sup>Fixed epochs (10 epochs).</sup>\"},\"autosize\":false,\"width\":1000,\"height\":700},                        {\"responsive\": true}                    ).then(function(){\n",
              "                            \n",
              "var gd = document.getElementById('f2f878c5-315d-425c-ba32-7c7507f25d5a');\n",
              "var x = new MutationObserver(function (mutations, observer) {{\n",
              "        var display = window.getComputedStyle(gd).display;\n",
              "        if (!display || display === 'none') {{\n",
              "            console.log([gd, 'removed!']);\n",
              "            Plotly.purge(gd);\n",
              "            observer.disconnect();\n",
              "        }}\n",
              "}});\n",
              "\n",
              "// Listen for the removal of the full notebook cells\n",
              "var notebookContainer = gd.closest('#notebook-container');\n",
              "if (notebookContainer) {{\n",
              "    x.observe(notebookContainer, {childList: true});\n",
              "}}\n",
              "\n",
              "// Listen for the clearing of the current output cell\n",
              "var outputEl = gd.closest('.output');\n",
              "if (outputEl) {{\n",
              "    x.observe(outputEl, {childList: true});\n",
              "}}\n",
              "\n",
              "                        })                };                            </script>        </div>\n",
              "</body>\n",
              "</html>"
            ]
          },
          "metadata": {}
        }
      ],
      "source": [
        "#@title Time Comparison\n",
        "#@markdown Fixed epochs (10 epochs).\n",
        "\n",
        "from plotly.subplots import make_subplots\n",
        "\n",
        "x = [step*3 for step in steps]\n",
        "row = 2\n",
        "col = 2\n",
        "fig = make_subplots(rows=row, cols=col, subplot_titles=(\"Max-Cut\",\"Clique\",\"Binary Linear Programming\", \"Knapsack\"))\n",
        "show = True\n",
        "for i in range(row):\n",
        "  for j in range(col):\n",
        "    problemn = i*col+j\n",
        "    if problemn>0:\n",
        "      show = False\n",
        "    dv = pd.DataFrame({\"#Param Gates\":x, \"Time\":pstc[problemn]})\n",
        "    dv_fd = pd.DataFrame({\"#Param Gates\":x, \"Time\":fdtc[problemn]})\n",
        "    dv_lcu = pd.DataFrame({\"#Param Gates\":x, \"Loss\":lcutc[problemn]})\n",
        "    dv_qng = pd.DataFrame({\"#Param Gates\":x, \"Time\":qngtc[problemn]})\n",
        "    dv_newton = pd.DataFrame({\"#Param Gates\":x, \"Time\":qnwtc[problemn]})\n",
        "\n",
        "    # dv_cls = pd.DataFrame({\"#Param Gates\":range(len(loss_plot_classical)), \"Loss\":loss_plot_classical})\n",
        "\n",
        "    fig.add_trace(go.Scatter(x=dv[\"#Param Gates\"], y=dv[\"Time\"], name=\"Discrete Parameter Shift\", line = dict(width=2), line_color='red', showlegend = show), row=i+1, col=j+1)\n",
        "    fig.add_trace(go.Scatter(x=dv_fd[\"#Param Gates\"], y=dv_fd[\"Time\"], mode=\"lines\", name=\"Discrete Finite Difference\", line = dict(width=2), line_color='green', showlegend = show), row=i+1, col=j+1)\n",
        "    fig.add_trace(go.Scatter(x=dv_lcu[\"#Param Gates\"], y=dv_lcu[\"Loss\"], mode=\"lines\", name=\"Discrete LCU\", line = dict(width=2), line_color='yellow', showlegend = show), row=i+1, col=j+1)\n",
        "    fig.add_trace(go.Scatter(x=dv_qng[\"#Param Gates\"], y=dv_qng[\"Time\"], mode=\"lines\", name=\"Discrete QNG\", line = dict(width=2), line_color='blue', showlegend = show), row=i+1, col=j+1)\n",
        "    fig.add_trace(go.Scatter(x=dv_newton[\"#Param Gates\"], y=dv_newton[\"Time\"], mode=\"lines\", name=\"Discrete Newton Gradient\", line = dict(width=2), line_color='brown', showlegend = show), row=i+1, col=j+1)\n",
        "\n",
        "    # fig.add_trace(go.Scatter(x=dv_cls[\"Iteration\"], y=dv_cls[\"Loss\"], mode=\"lines\", name=\"Classical\"))\n",
        "\n",
        "\n",
        "fig.update_layout(title=\"Time Comparison  <br><sup>Fixed epochs (10 epochs).</sup>\",\n",
        "                  xaxis_title=\"The Number of parameterized gate\",\n",
        "                  yaxis_title=\"Time (Sec)\", autosize=False,\n",
        "                  width=1000,\n",
        "                  height=700)\n",
        "plotly.offline.plot(fig, filename='time_fixepoch.html')\n",
        "fig.show()"
      ]
    },
    {
      "cell_type": "code",
      "execution_count": null,
      "metadata": {
        "cellView": "form",
        "id": "jNpZ5_r9uG5r",
        "colab": {
          "base_uri": "https://localhost:8080/",
          "height": 1000
        },
        "outputId": "f0475189-c5f8-4f71-ebd7-dbb554fe1d5e"
      },
      "outputs": [
        {
          "output_type": "stream",
          "name": "stdout",
          "text": [
            "\u001b[1mMax-Cut\u001b[0m\n"
          ]
        },
        {
          "output_type": "display_data",
          "data": {
            "text/plain": [
              "                           #Param Gates 6              #Param Gates 12  \\\n",
              "                                     Loss Time(second)            Loss   \n",
              "Discrete Parameter Shift        -2.93e+00        15.64       -3.54e+00   \n",
              "Discrete Finite Difference      -2.93e+00        15.41       -3.54e+00   \n",
              "Discrete LCU                    -2.93e+00         8.93       -3.54e+00   \n",
              "Discrete QNG                    -2.94e+00        17.40       -3.52e+00   \n",
              "Discrete Newton Gradient        -2.96e+00        24.08       -3.32e+00   \n",
              "\n",
              "                                        #Param Gates 18               \\\n",
              "                           Time(second)            Loss Time(second)   \n",
              "Discrete Parameter Shift          49.82       -3.83e+00       105.39   \n",
              "Discrete Finite Difference        49.99       -3.83e+00       103.92   \n",
              "Discrete LCU                      28.99       -3.83e+00        61.12   \n",
              "Discrete QNG                      57.30       -3.80e+00       120.71   \n",
              "Discrete Newton Gradient          79.86       -3.56e+00       168.79   \n",
              "\n",
              "                           #Param Gates 24              #Param Gates 30  \\\n",
              "                                      Loss Time(second)            Loss   \n",
              "Discrete Parameter Shift         -3.79e+00       194.68       -3.93e+00   \n",
              "Discrete Finite Difference       -3.79e+00       177.87       -3.93e+00   \n",
              "Discrete LCU                     -3.79e+00       105.83       -3.93e+00   \n",
              "Discrete QNG                     -3.75e+00       207.27       -3.94e+00   \n",
              "Discrete Newton Gradient         -3.91e+00       289.45       -3.74e+00   \n",
              "\n",
              "                                         \n",
              "                           Time(second)  \n",
              "Discrete Parameter Shift         269.63  \n",
              "Discrete Finite Difference       268.78  \n",
              "Discrete LCU                     161.75  \n",
              "Discrete QNG                     316.09  \n",
              "Discrete Newton Gradient         443.71  "
            ],
            "text/html": [
              "\n",
              "  <div id=\"df-dd7e1942-7c10-498c-b5ce-7368e215b35d\">\n",
              "    <div class=\"colab-df-container\">\n",
              "      <div>\n",
              "<style scoped>\n",
              "    .dataframe tbody tr th:only-of-type {\n",
              "        vertical-align: middle;\n",
              "    }\n",
              "\n",
              "    .dataframe tbody tr th {\n",
              "        vertical-align: top;\n",
              "    }\n",
              "\n",
              "    .dataframe thead tr th {\n",
              "        text-align: left;\n",
              "    }\n",
              "</style>\n",
              "<table border=\"1\" class=\"dataframe\">\n",
              "  <thead>\n",
              "    <tr>\n",
              "      <th></th>\n",
              "      <th colspan=\"2\" halign=\"left\">#Param Gates 6</th>\n",
              "      <th colspan=\"2\" halign=\"left\">#Param Gates 12</th>\n",
              "      <th colspan=\"2\" halign=\"left\">#Param Gates 18</th>\n",
              "      <th colspan=\"2\" halign=\"left\">#Param Gates 24</th>\n",
              "      <th colspan=\"2\" halign=\"left\">#Param Gates 30</th>\n",
              "    </tr>\n",
              "    <tr>\n",
              "      <th></th>\n",
              "      <th>Loss</th>\n",
              "      <th>Time(second)</th>\n",
              "      <th>Loss</th>\n",
              "      <th>Time(second)</th>\n",
              "      <th>Loss</th>\n",
              "      <th>Time(second)</th>\n",
              "      <th>Loss</th>\n",
              "      <th>Time(second)</th>\n",
              "      <th>Loss</th>\n",
              "      <th>Time(second)</th>\n",
              "    </tr>\n",
              "  </thead>\n",
              "  <tbody>\n",
              "    <tr>\n",
              "      <th>Discrete Parameter Shift</th>\n",
              "      <td>-2.93e+00</td>\n",
              "      <td>15.64</td>\n",
              "      <td>-3.54e+00</td>\n",
              "      <td>49.82</td>\n",
              "      <td>-3.83e+00</td>\n",
              "      <td>105.39</td>\n",
              "      <td>-3.79e+00</td>\n",
              "      <td>194.68</td>\n",
              "      <td>-3.93e+00</td>\n",
              "      <td>269.63</td>\n",
              "    </tr>\n",
              "    <tr>\n",
              "      <th>Discrete Finite Difference</th>\n",
              "      <td>-2.93e+00</td>\n",
              "      <td>15.41</td>\n",
              "      <td>-3.54e+00</td>\n",
              "      <td>49.99</td>\n",
              "      <td>-3.83e+00</td>\n",
              "      <td>103.92</td>\n",
              "      <td>-3.79e+00</td>\n",
              "      <td>177.87</td>\n",
              "      <td>-3.93e+00</td>\n",
              "      <td>268.78</td>\n",
              "    </tr>\n",
              "    <tr>\n",
              "      <th>Discrete LCU</th>\n",
              "      <td>-2.93e+00</td>\n",
              "      <td>8.93</td>\n",
              "      <td>-3.54e+00</td>\n",
              "      <td>28.99</td>\n",
              "      <td>-3.83e+00</td>\n",
              "      <td>61.12</td>\n",
              "      <td>-3.79e+00</td>\n",
              "      <td>105.83</td>\n",
              "      <td>-3.93e+00</td>\n",
              "      <td>161.75</td>\n",
              "    </tr>\n",
              "    <tr>\n",
              "      <th>Discrete QNG</th>\n",
              "      <td>-2.94e+00</td>\n",
              "      <td>17.40</td>\n",
              "      <td>-3.52e+00</td>\n",
              "      <td>57.30</td>\n",
              "      <td>-3.80e+00</td>\n",
              "      <td>120.71</td>\n",
              "      <td>-3.75e+00</td>\n",
              "      <td>207.27</td>\n",
              "      <td>-3.94e+00</td>\n",
              "      <td>316.09</td>\n",
              "    </tr>\n",
              "    <tr>\n",
              "      <th>Discrete Newton Gradient</th>\n",
              "      <td>-2.96e+00</td>\n",
              "      <td>24.08</td>\n",
              "      <td>-3.32e+00</td>\n",
              "      <td>79.86</td>\n",
              "      <td>-3.56e+00</td>\n",
              "      <td>168.79</td>\n",
              "      <td>-3.91e+00</td>\n",
              "      <td>289.45</td>\n",
              "      <td>-3.74e+00</td>\n",
              "      <td>443.71</td>\n",
              "    </tr>\n",
              "  </tbody>\n",
              "</table>\n",
              "</div>\n",
              "      <button class=\"colab-df-convert\" onclick=\"convertToInteractive('df-dd7e1942-7c10-498c-b5ce-7368e215b35d')\"\n",
              "              title=\"Convert this dataframe to an interactive table.\"\n",
              "              style=\"display:none;\">\n",
              "        \n",
              "  <svg xmlns=\"http://www.w3.org/2000/svg\" height=\"24px\"viewBox=\"0 0 24 24\"\n",
              "       width=\"24px\">\n",
              "    <path d=\"M0 0h24v24H0V0z\" fill=\"none\"/>\n",
              "    <path d=\"M18.56 5.44l.94 2.06.94-2.06 2.06-.94-2.06-.94-.94-2.06-.94 2.06-2.06.94zm-11 1L8.5 8.5l.94-2.06 2.06-.94-2.06-.94L8.5 2.5l-.94 2.06-2.06.94zm10 10l.94 2.06.94-2.06 2.06-.94-2.06-.94-.94-2.06-.94 2.06-2.06.94z\"/><path d=\"M17.41 7.96l-1.37-1.37c-.4-.4-.92-.59-1.43-.59-.52 0-1.04.2-1.43.59L10.3 9.45l-7.72 7.72c-.78.78-.78 2.05 0 2.83L4 21.41c.39.39.9.59 1.41.59.51 0 1.02-.2 1.41-.59l7.78-7.78 2.81-2.81c.8-.78.8-2.07 0-2.86zM5.41 20L4 18.59l7.72-7.72 1.47 1.35L5.41 20z\"/>\n",
              "  </svg>\n",
              "      </button>\n",
              "      \n",
              "  <style>\n",
              "    .colab-df-container {\n",
              "      display:flex;\n",
              "      flex-wrap:wrap;\n",
              "      gap: 12px;\n",
              "    }\n",
              "\n",
              "    .colab-df-convert {\n",
              "      background-color: #E8F0FE;\n",
              "      border: none;\n",
              "      border-radius: 50%;\n",
              "      cursor: pointer;\n",
              "      display: none;\n",
              "      fill: #1967D2;\n",
              "      height: 32px;\n",
              "      padding: 0 0 0 0;\n",
              "      width: 32px;\n",
              "    }\n",
              "\n",
              "    .colab-df-convert:hover {\n",
              "      background-color: #E2EBFA;\n",
              "      box-shadow: 0px 1px 2px rgba(60, 64, 67, 0.3), 0px 1px 3px 1px rgba(60, 64, 67, 0.15);\n",
              "      fill: #174EA6;\n",
              "    }\n",
              "\n",
              "    [theme=dark] .colab-df-convert {\n",
              "      background-color: #3B4455;\n",
              "      fill: #D2E3FC;\n",
              "    }\n",
              "\n",
              "    [theme=dark] .colab-df-convert:hover {\n",
              "      background-color: #434B5C;\n",
              "      box-shadow: 0px 1px 3px 1px rgba(0, 0, 0, 0.15);\n",
              "      filter: drop-shadow(0px 1px 2px rgba(0, 0, 0, 0.3));\n",
              "      fill: #FFFFFF;\n",
              "    }\n",
              "  </style>\n",
              "\n",
              "      <script>\n",
              "        const buttonEl =\n",
              "          document.querySelector('#df-dd7e1942-7c10-498c-b5ce-7368e215b35d button.colab-df-convert');\n",
              "        buttonEl.style.display =\n",
              "          google.colab.kernel.accessAllowed ? 'block' : 'none';\n",
              "\n",
              "        async function convertToInteractive(key) {\n",
              "          const element = document.querySelector('#df-dd7e1942-7c10-498c-b5ce-7368e215b35d');\n",
              "          const dataTable =\n",
              "            await google.colab.kernel.invokeFunction('convertToInteractive',\n",
              "                                                     [key], {});\n",
              "          if (!dataTable) return;\n",
              "\n",
              "          const docLinkHtml = 'Like what you see? Visit the ' +\n",
              "            '<a target=\"_blank\" href=https://colab.research.google.com/notebooks/data_table.ipynb>data table notebook</a>'\n",
              "            + ' to learn more about interactive tables.';\n",
              "          element.innerHTML = '';\n",
              "          dataTable['output_type'] = 'display_data';\n",
              "          await google.colab.output.renderOutput(dataTable, element);\n",
              "          const docLink = document.createElement('div');\n",
              "          docLink.innerHTML = docLinkHtml;\n",
              "          element.appendChild(docLink);\n",
              "        }\n",
              "      </script>\n",
              "    </div>\n",
              "  </div>\n",
              "  "
            ]
          },
          "metadata": {}
        },
        {
          "output_type": "stream",
          "name": "stdout",
          "text": [
            "\n",
            "\n",
            "\n",
            "\n",
            "\u001b[1mClique\u001b[0m\n"
          ]
        },
        {
          "output_type": "display_data",
          "data": {
            "text/plain": [
              "                           #Param Gates 6              #Param Gates 12  \\\n",
              "                                     Loss Time(second)            Loss   \n",
              "Discrete Parameter Shift        -1.88e+00        15.75       -2.41e+00   \n",
              "Discrete Finite Difference      -1.88e+00        16.07       -2.41e+00   \n",
              "Discrete LCU                    -1.88e+00         8.80       -2.41e+00   \n",
              "Discrete QNG                    -1.90e+00        18.00       -2.41e+00   \n",
              "Discrete Newton Gradient        -1.97e+00        24.53       -1.55e+00   \n",
              "\n",
              "                                        #Param Gates 18               \\\n",
              "                           Time(second)            Loss Time(second)   \n",
              "Discrete Parameter Shift          50.68       -2.64e+00       106.67   \n",
              "Discrete Finite Difference        50.33       -2.64e+00       104.76   \n",
              "Discrete LCU                      29.39       -2.64e+00        62.07   \n",
              "Discrete QNG                      58.01       -2.64e+00       122.07   \n",
              "Discrete Newton Gradient          80.57        3.82e-01       170.60   \n",
              "\n",
              "                           #Param Gates 24              #Param Gates 30  \\\n",
              "                                      Loss Time(second)            Loss   \n",
              "Discrete Parameter Shift         -2.79e+00       178.23       -2.65e+00   \n",
              "Discrete Finite Difference       -2.79e+00       177.87       -2.65e+00   \n",
              "Discrete LCU                     -2.79e+00       107.14       -2.65e+00   \n",
              "Discrete QNG                     -2.88e+00       209.55       -2.65e+00   \n",
              "Discrete Newton Gradient          3.95e-01       292.29       -1.59e+00   \n",
              "\n",
              "                                         \n",
              "                           Time(second)  \n",
              "Discrete Parameter Shift         270.63  \n",
              "Discrete Finite Difference       271.17  \n",
              "Discrete LCU                     162.95  \n",
              "Discrete QNG                     319.15  \n",
              "Discrete Newton Gradient         444.28  "
            ],
            "text/html": [
              "\n",
              "  <div id=\"df-32f9f0d1-bdc5-43e7-b004-379718c04fbd\">\n",
              "    <div class=\"colab-df-container\">\n",
              "      <div>\n",
              "<style scoped>\n",
              "    .dataframe tbody tr th:only-of-type {\n",
              "        vertical-align: middle;\n",
              "    }\n",
              "\n",
              "    .dataframe tbody tr th {\n",
              "        vertical-align: top;\n",
              "    }\n",
              "\n",
              "    .dataframe thead tr th {\n",
              "        text-align: left;\n",
              "    }\n",
              "</style>\n",
              "<table border=\"1\" class=\"dataframe\">\n",
              "  <thead>\n",
              "    <tr>\n",
              "      <th></th>\n",
              "      <th colspan=\"2\" halign=\"left\">#Param Gates 6</th>\n",
              "      <th colspan=\"2\" halign=\"left\">#Param Gates 12</th>\n",
              "      <th colspan=\"2\" halign=\"left\">#Param Gates 18</th>\n",
              "      <th colspan=\"2\" halign=\"left\">#Param Gates 24</th>\n",
              "      <th colspan=\"2\" halign=\"left\">#Param Gates 30</th>\n",
              "    </tr>\n",
              "    <tr>\n",
              "      <th></th>\n",
              "      <th>Loss</th>\n",
              "      <th>Time(second)</th>\n",
              "      <th>Loss</th>\n",
              "      <th>Time(second)</th>\n",
              "      <th>Loss</th>\n",
              "      <th>Time(second)</th>\n",
              "      <th>Loss</th>\n",
              "      <th>Time(second)</th>\n",
              "      <th>Loss</th>\n",
              "      <th>Time(second)</th>\n",
              "    </tr>\n",
              "  </thead>\n",
              "  <tbody>\n",
              "    <tr>\n",
              "      <th>Discrete Parameter Shift</th>\n",
              "      <td>-1.88e+00</td>\n",
              "      <td>15.75</td>\n",
              "      <td>-2.41e+00</td>\n",
              "      <td>50.68</td>\n",
              "      <td>-2.64e+00</td>\n",
              "      <td>106.67</td>\n",
              "      <td>-2.79e+00</td>\n",
              "      <td>178.23</td>\n",
              "      <td>-2.65e+00</td>\n",
              "      <td>270.63</td>\n",
              "    </tr>\n",
              "    <tr>\n",
              "      <th>Discrete Finite Difference</th>\n",
              "      <td>-1.88e+00</td>\n",
              "      <td>16.07</td>\n",
              "      <td>-2.41e+00</td>\n",
              "      <td>50.33</td>\n",
              "      <td>-2.64e+00</td>\n",
              "      <td>104.76</td>\n",
              "      <td>-2.79e+00</td>\n",
              "      <td>177.87</td>\n",
              "      <td>-2.65e+00</td>\n",
              "      <td>271.17</td>\n",
              "    </tr>\n",
              "    <tr>\n",
              "      <th>Discrete LCU</th>\n",
              "      <td>-1.88e+00</td>\n",
              "      <td>8.80</td>\n",
              "      <td>-2.41e+00</td>\n",
              "      <td>29.39</td>\n",
              "      <td>-2.64e+00</td>\n",
              "      <td>62.07</td>\n",
              "      <td>-2.79e+00</td>\n",
              "      <td>107.14</td>\n",
              "      <td>-2.65e+00</td>\n",
              "      <td>162.95</td>\n",
              "    </tr>\n",
              "    <tr>\n",
              "      <th>Discrete QNG</th>\n",
              "      <td>-1.90e+00</td>\n",
              "      <td>18.00</td>\n",
              "      <td>-2.41e+00</td>\n",
              "      <td>58.01</td>\n",
              "      <td>-2.64e+00</td>\n",
              "      <td>122.07</td>\n",
              "      <td>-2.88e+00</td>\n",
              "      <td>209.55</td>\n",
              "      <td>-2.65e+00</td>\n",
              "      <td>319.15</td>\n",
              "    </tr>\n",
              "    <tr>\n",
              "      <th>Discrete Newton Gradient</th>\n",
              "      <td>-1.97e+00</td>\n",
              "      <td>24.53</td>\n",
              "      <td>-1.55e+00</td>\n",
              "      <td>80.57</td>\n",
              "      <td>3.82e-01</td>\n",
              "      <td>170.60</td>\n",
              "      <td>3.95e-01</td>\n",
              "      <td>292.29</td>\n",
              "      <td>-1.59e+00</td>\n",
              "      <td>444.28</td>\n",
              "    </tr>\n",
              "  </tbody>\n",
              "</table>\n",
              "</div>\n",
              "      <button class=\"colab-df-convert\" onclick=\"convertToInteractive('df-32f9f0d1-bdc5-43e7-b004-379718c04fbd')\"\n",
              "              title=\"Convert this dataframe to an interactive table.\"\n",
              "              style=\"display:none;\">\n",
              "        \n",
              "  <svg xmlns=\"http://www.w3.org/2000/svg\" height=\"24px\"viewBox=\"0 0 24 24\"\n",
              "       width=\"24px\">\n",
              "    <path d=\"M0 0h24v24H0V0z\" fill=\"none\"/>\n",
              "    <path d=\"M18.56 5.44l.94 2.06.94-2.06 2.06-.94-2.06-.94-.94-2.06-.94 2.06-2.06.94zm-11 1L8.5 8.5l.94-2.06 2.06-.94-2.06-.94L8.5 2.5l-.94 2.06-2.06.94zm10 10l.94 2.06.94-2.06 2.06-.94-2.06-.94-.94-2.06-.94 2.06-2.06.94z\"/><path d=\"M17.41 7.96l-1.37-1.37c-.4-.4-.92-.59-1.43-.59-.52 0-1.04.2-1.43.59L10.3 9.45l-7.72 7.72c-.78.78-.78 2.05 0 2.83L4 21.41c.39.39.9.59 1.41.59.51 0 1.02-.2 1.41-.59l7.78-7.78 2.81-2.81c.8-.78.8-2.07 0-2.86zM5.41 20L4 18.59l7.72-7.72 1.47 1.35L5.41 20z\"/>\n",
              "  </svg>\n",
              "      </button>\n",
              "      \n",
              "  <style>\n",
              "    .colab-df-container {\n",
              "      display:flex;\n",
              "      flex-wrap:wrap;\n",
              "      gap: 12px;\n",
              "    }\n",
              "\n",
              "    .colab-df-convert {\n",
              "      background-color: #E8F0FE;\n",
              "      border: none;\n",
              "      border-radius: 50%;\n",
              "      cursor: pointer;\n",
              "      display: none;\n",
              "      fill: #1967D2;\n",
              "      height: 32px;\n",
              "      padding: 0 0 0 0;\n",
              "      width: 32px;\n",
              "    }\n",
              "\n",
              "    .colab-df-convert:hover {\n",
              "      background-color: #E2EBFA;\n",
              "      box-shadow: 0px 1px 2px rgba(60, 64, 67, 0.3), 0px 1px 3px 1px rgba(60, 64, 67, 0.15);\n",
              "      fill: #174EA6;\n",
              "    }\n",
              "\n",
              "    [theme=dark] .colab-df-convert {\n",
              "      background-color: #3B4455;\n",
              "      fill: #D2E3FC;\n",
              "    }\n",
              "\n",
              "    [theme=dark] .colab-df-convert:hover {\n",
              "      background-color: #434B5C;\n",
              "      box-shadow: 0px 1px 3px 1px rgba(0, 0, 0, 0.15);\n",
              "      filter: drop-shadow(0px 1px 2px rgba(0, 0, 0, 0.3));\n",
              "      fill: #FFFFFF;\n",
              "    }\n",
              "  </style>\n",
              "\n",
              "      <script>\n",
              "        const buttonEl =\n",
              "          document.querySelector('#df-32f9f0d1-bdc5-43e7-b004-379718c04fbd button.colab-df-convert');\n",
              "        buttonEl.style.display =\n",
              "          google.colab.kernel.accessAllowed ? 'block' : 'none';\n",
              "\n",
              "        async function convertToInteractive(key) {\n",
              "          const element = document.querySelector('#df-32f9f0d1-bdc5-43e7-b004-379718c04fbd');\n",
              "          const dataTable =\n",
              "            await google.colab.kernel.invokeFunction('convertToInteractive',\n",
              "                                                     [key], {});\n",
              "          if (!dataTable) return;\n",
              "\n",
              "          const docLinkHtml = 'Like what you see? Visit the ' +\n",
              "            '<a target=\"_blank\" href=https://colab.research.google.com/notebooks/data_table.ipynb>data table notebook</a>'\n",
              "            + ' to learn more about interactive tables.';\n",
              "          element.innerHTML = '';\n",
              "          dataTable['output_type'] = 'display_data';\n",
              "          await google.colab.output.renderOutput(dataTable, element);\n",
              "          const docLink = document.createElement('div');\n",
              "          docLink.innerHTML = docLinkHtml;\n",
              "          element.appendChild(docLink);\n",
              "        }\n",
              "      </script>\n",
              "    </div>\n",
              "  </div>\n",
              "  "
            ]
          },
          "metadata": {}
        },
        {
          "output_type": "stream",
          "name": "stdout",
          "text": [
            "\n",
            "\n",
            "\n",
            "\n",
            "\u001b[1mBinary Linear Programming\u001b[0m\n"
          ]
        },
        {
          "output_type": "display_data",
          "data": {
            "text/plain": [
              "                           #Param Gates 6              #Param Gates 12  \\\n",
              "                                     Loss Time(second)            Loss   \n",
              "Discrete Parameter Shift         3.15e+05        15.71        2.86e+05   \n",
              "Discrete Finite Difference       3.15e+05        15.86        2.86e+05   \n",
              "Discrete LCU                     3.15e+05         9.05        2.86e+05   \n",
              "Discrete QNG                     3.11e+05        18.08        2.87e+05   \n",
              "Discrete Newton Gradient         4.22e+05        25.22        3.88e+05   \n",
              "\n",
              "                                        #Param Gates 18               \\\n",
              "                           Time(second)            Loss Time(second)   \n",
              "Discrete Parameter Shift          50.87        2.33e+05       104.60   \n",
              "Discrete Finite Difference        50.57        2.33e+05       105.57   \n",
              "Discrete LCU                      29.14        2.33e+05        62.40   \n",
              "Discrete QNG                      58.29        2.41e+05       122.97   \n",
              "Discrete Newton Gradient          80.33        3.73e+05       169.93   \n",
              "\n",
              "                           #Param Gates 24              #Param Gates 30  \\\n",
              "                                      Loss Time(second)            Loss   \n",
              "Discrete Parameter Shift          1.94e+05       179.43        2.18e+05   \n",
              "Discrete Finite Difference        1.94e+05       178.66        2.18e+05   \n",
              "Discrete LCU                      1.94e+05       106.24        2.18e+05   \n",
              "Discrete QNG                      1.90e+05       210.65        2.18e+05   \n",
              "Discrete Newton Gradient          4.17e+05       291.78        4.31e+05   \n",
              "\n",
              "                                         \n",
              "                           Time(second)  \n",
              "Discrete Parameter Shift         269.35  \n",
              "Discrete Finite Difference       269.82  \n",
              "Discrete LCU                     164.01  \n",
              "Discrete QNG                     318.87  \n",
              "Discrete Newton Gradient         445.91  "
            ],
            "text/html": [
              "\n",
              "  <div id=\"df-49941d63-6d41-44e6-81e6-81a2e13c3589\">\n",
              "    <div class=\"colab-df-container\">\n",
              "      <div>\n",
              "<style scoped>\n",
              "    .dataframe tbody tr th:only-of-type {\n",
              "        vertical-align: middle;\n",
              "    }\n",
              "\n",
              "    .dataframe tbody tr th {\n",
              "        vertical-align: top;\n",
              "    }\n",
              "\n",
              "    .dataframe thead tr th {\n",
              "        text-align: left;\n",
              "    }\n",
              "</style>\n",
              "<table border=\"1\" class=\"dataframe\">\n",
              "  <thead>\n",
              "    <tr>\n",
              "      <th></th>\n",
              "      <th colspan=\"2\" halign=\"left\">#Param Gates 6</th>\n",
              "      <th colspan=\"2\" halign=\"left\">#Param Gates 12</th>\n",
              "      <th colspan=\"2\" halign=\"left\">#Param Gates 18</th>\n",
              "      <th colspan=\"2\" halign=\"left\">#Param Gates 24</th>\n",
              "      <th colspan=\"2\" halign=\"left\">#Param Gates 30</th>\n",
              "    </tr>\n",
              "    <tr>\n",
              "      <th></th>\n",
              "      <th>Loss</th>\n",
              "      <th>Time(second)</th>\n",
              "      <th>Loss</th>\n",
              "      <th>Time(second)</th>\n",
              "      <th>Loss</th>\n",
              "      <th>Time(second)</th>\n",
              "      <th>Loss</th>\n",
              "      <th>Time(second)</th>\n",
              "      <th>Loss</th>\n",
              "      <th>Time(second)</th>\n",
              "    </tr>\n",
              "  </thead>\n",
              "  <tbody>\n",
              "    <tr>\n",
              "      <th>Discrete Parameter Shift</th>\n",
              "      <td>3.15e+05</td>\n",
              "      <td>15.71</td>\n",
              "      <td>2.86e+05</td>\n",
              "      <td>50.87</td>\n",
              "      <td>2.33e+05</td>\n",
              "      <td>104.60</td>\n",
              "      <td>1.94e+05</td>\n",
              "      <td>179.43</td>\n",
              "      <td>2.18e+05</td>\n",
              "      <td>269.35</td>\n",
              "    </tr>\n",
              "    <tr>\n",
              "      <th>Discrete Finite Difference</th>\n",
              "      <td>3.15e+05</td>\n",
              "      <td>15.86</td>\n",
              "      <td>2.86e+05</td>\n",
              "      <td>50.57</td>\n",
              "      <td>2.33e+05</td>\n",
              "      <td>105.57</td>\n",
              "      <td>1.94e+05</td>\n",
              "      <td>178.66</td>\n",
              "      <td>2.18e+05</td>\n",
              "      <td>269.82</td>\n",
              "    </tr>\n",
              "    <tr>\n",
              "      <th>Discrete LCU</th>\n",
              "      <td>3.15e+05</td>\n",
              "      <td>9.05</td>\n",
              "      <td>2.86e+05</td>\n",
              "      <td>29.14</td>\n",
              "      <td>2.33e+05</td>\n",
              "      <td>62.40</td>\n",
              "      <td>1.94e+05</td>\n",
              "      <td>106.24</td>\n",
              "      <td>2.18e+05</td>\n",
              "      <td>164.01</td>\n",
              "    </tr>\n",
              "    <tr>\n",
              "      <th>Discrete QNG</th>\n",
              "      <td>3.11e+05</td>\n",
              "      <td>18.08</td>\n",
              "      <td>2.87e+05</td>\n",
              "      <td>58.29</td>\n",
              "      <td>2.41e+05</td>\n",
              "      <td>122.97</td>\n",
              "      <td>1.90e+05</td>\n",
              "      <td>210.65</td>\n",
              "      <td>2.18e+05</td>\n",
              "      <td>318.87</td>\n",
              "    </tr>\n",
              "    <tr>\n",
              "      <th>Discrete Newton Gradient</th>\n",
              "      <td>4.22e+05</td>\n",
              "      <td>25.22</td>\n",
              "      <td>3.88e+05</td>\n",
              "      <td>80.33</td>\n",
              "      <td>3.73e+05</td>\n",
              "      <td>169.93</td>\n",
              "      <td>4.17e+05</td>\n",
              "      <td>291.78</td>\n",
              "      <td>4.31e+05</td>\n",
              "      <td>445.91</td>\n",
              "    </tr>\n",
              "  </tbody>\n",
              "</table>\n",
              "</div>\n",
              "      <button class=\"colab-df-convert\" onclick=\"convertToInteractive('df-49941d63-6d41-44e6-81e6-81a2e13c3589')\"\n",
              "              title=\"Convert this dataframe to an interactive table.\"\n",
              "              style=\"display:none;\">\n",
              "        \n",
              "  <svg xmlns=\"http://www.w3.org/2000/svg\" height=\"24px\"viewBox=\"0 0 24 24\"\n",
              "       width=\"24px\">\n",
              "    <path d=\"M0 0h24v24H0V0z\" fill=\"none\"/>\n",
              "    <path d=\"M18.56 5.44l.94 2.06.94-2.06 2.06-.94-2.06-.94-.94-2.06-.94 2.06-2.06.94zm-11 1L8.5 8.5l.94-2.06 2.06-.94-2.06-.94L8.5 2.5l-.94 2.06-2.06.94zm10 10l.94 2.06.94-2.06 2.06-.94-2.06-.94-.94-2.06-.94 2.06-2.06.94z\"/><path d=\"M17.41 7.96l-1.37-1.37c-.4-.4-.92-.59-1.43-.59-.52 0-1.04.2-1.43.59L10.3 9.45l-7.72 7.72c-.78.78-.78 2.05 0 2.83L4 21.41c.39.39.9.59 1.41.59.51 0 1.02-.2 1.41-.59l7.78-7.78 2.81-2.81c.8-.78.8-2.07 0-2.86zM5.41 20L4 18.59l7.72-7.72 1.47 1.35L5.41 20z\"/>\n",
              "  </svg>\n",
              "      </button>\n",
              "      \n",
              "  <style>\n",
              "    .colab-df-container {\n",
              "      display:flex;\n",
              "      flex-wrap:wrap;\n",
              "      gap: 12px;\n",
              "    }\n",
              "\n",
              "    .colab-df-convert {\n",
              "      background-color: #E8F0FE;\n",
              "      border: none;\n",
              "      border-radius: 50%;\n",
              "      cursor: pointer;\n",
              "      display: none;\n",
              "      fill: #1967D2;\n",
              "      height: 32px;\n",
              "      padding: 0 0 0 0;\n",
              "      width: 32px;\n",
              "    }\n",
              "\n",
              "    .colab-df-convert:hover {\n",
              "      background-color: #E2EBFA;\n",
              "      box-shadow: 0px 1px 2px rgba(60, 64, 67, 0.3), 0px 1px 3px 1px rgba(60, 64, 67, 0.15);\n",
              "      fill: #174EA6;\n",
              "    }\n",
              "\n",
              "    [theme=dark] .colab-df-convert {\n",
              "      background-color: #3B4455;\n",
              "      fill: #D2E3FC;\n",
              "    }\n",
              "\n",
              "    [theme=dark] .colab-df-convert:hover {\n",
              "      background-color: #434B5C;\n",
              "      box-shadow: 0px 1px 3px 1px rgba(0, 0, 0, 0.15);\n",
              "      filter: drop-shadow(0px 1px 2px rgba(0, 0, 0, 0.3));\n",
              "      fill: #FFFFFF;\n",
              "    }\n",
              "  </style>\n",
              "\n",
              "      <script>\n",
              "        const buttonEl =\n",
              "          document.querySelector('#df-49941d63-6d41-44e6-81e6-81a2e13c3589 button.colab-df-convert');\n",
              "        buttonEl.style.display =\n",
              "          google.colab.kernel.accessAllowed ? 'block' : 'none';\n",
              "\n",
              "        async function convertToInteractive(key) {\n",
              "          const element = document.querySelector('#df-49941d63-6d41-44e6-81e6-81a2e13c3589');\n",
              "          const dataTable =\n",
              "            await google.colab.kernel.invokeFunction('convertToInteractive',\n",
              "                                                     [key], {});\n",
              "          if (!dataTable) return;\n",
              "\n",
              "          const docLinkHtml = 'Like what you see? Visit the ' +\n",
              "            '<a target=\"_blank\" href=https://colab.research.google.com/notebooks/data_table.ipynb>data table notebook</a>'\n",
              "            + ' to learn more about interactive tables.';\n",
              "          element.innerHTML = '';\n",
              "          dataTable['output_type'] = 'display_data';\n",
              "          await google.colab.output.renderOutput(dataTable, element);\n",
              "          const docLink = document.createElement('div');\n",
              "          docLink.innerHTML = docLinkHtml;\n",
              "          element.appendChild(docLink);\n",
              "        }\n",
              "      </script>\n",
              "    </div>\n",
              "  </div>\n",
              "  "
            ]
          },
          "metadata": {}
        },
        {
          "output_type": "stream",
          "name": "stdout",
          "text": [
            "\n",
            "\n",
            "\n",
            "\n",
            "\u001b[1mKnapsack\u001b[0m\n"
          ]
        },
        {
          "output_type": "display_data",
          "data": {
            "text/plain": [
              "                           #Param Gates 6              #Param Gates 12  \\\n",
              "                                     Loss Time(second)            Loss   \n",
              "Discrete Parameter Shift         2.24e+00        17.36       -2.07e-01   \n",
              "Discrete Finite Difference       2.24e+00        17.07       -2.07e-01   \n",
              "Discrete LCU                     2.24e+00         9.69       -2.07e-01   \n",
              "Discrete QNG                     2.08e+00        19.30       -1.14e-01   \n",
              "Discrete Newton Gradient         1.28e+01        26.28        9.50e+00   \n",
              "\n",
              "                                        #Param Gates 18               \\\n",
              "                           Time(second)            Loss Time(second)   \n",
              "Discrete Parameter Shift          54.92        1.88e-01       109.38   \n",
              "Discrete Finite Difference        53.21        1.88e-01       109.49   \n",
              "Discrete LCU                      31.19        1.88e-01        64.79   \n",
              "Discrete QNG                      61.05       -4.35e-01       126.91   \n",
              "Discrete Newton Gradient          83.29        5.74e+00       173.90   \n",
              "\n",
              "                           #Param Gates 24              #Param Gates 30  \\\n",
              "                                      Loss Time(second)            Loss   \n",
              "Discrete Parameter Shift         -9.97e-01       184.05       -1.78e+00   \n",
              "Discrete Finite Difference       -9.97e-01       184.81       -1.78e+00   \n",
              "Discrete LCU                     -9.97e-01       108.79       -1.78e+00   \n",
              "Discrete QNG                     -9.39e-01       214.19       -1.76e+00   \n",
              "Discrete Newton Gradient          1.25e+00       296.26        4.23e+00   \n",
              "\n",
              "                                         \n",
              "                           Time(second)  \n",
              "Discrete Parameter Shift         274.71  \n",
              "Discrete Finite Difference       275.73  \n",
              "Discrete LCU                     166.75  \n",
              "Discrete QNG                     323.79  \n",
              "Discrete Newton Gradient         450.38  "
            ],
            "text/html": [
              "\n",
              "  <div id=\"df-404db0fb-b7b4-45b0-bc38-50fd6c3029ba\">\n",
              "    <div class=\"colab-df-container\">\n",
              "      <div>\n",
              "<style scoped>\n",
              "    .dataframe tbody tr th:only-of-type {\n",
              "        vertical-align: middle;\n",
              "    }\n",
              "\n",
              "    .dataframe tbody tr th {\n",
              "        vertical-align: top;\n",
              "    }\n",
              "\n",
              "    .dataframe thead tr th {\n",
              "        text-align: left;\n",
              "    }\n",
              "</style>\n",
              "<table border=\"1\" class=\"dataframe\">\n",
              "  <thead>\n",
              "    <tr>\n",
              "      <th></th>\n",
              "      <th colspan=\"2\" halign=\"left\">#Param Gates 6</th>\n",
              "      <th colspan=\"2\" halign=\"left\">#Param Gates 12</th>\n",
              "      <th colspan=\"2\" halign=\"left\">#Param Gates 18</th>\n",
              "      <th colspan=\"2\" halign=\"left\">#Param Gates 24</th>\n",
              "      <th colspan=\"2\" halign=\"left\">#Param Gates 30</th>\n",
              "    </tr>\n",
              "    <tr>\n",
              "      <th></th>\n",
              "      <th>Loss</th>\n",
              "      <th>Time(second)</th>\n",
              "      <th>Loss</th>\n",
              "      <th>Time(second)</th>\n",
              "      <th>Loss</th>\n",
              "      <th>Time(second)</th>\n",
              "      <th>Loss</th>\n",
              "      <th>Time(second)</th>\n",
              "      <th>Loss</th>\n",
              "      <th>Time(second)</th>\n",
              "    </tr>\n",
              "  </thead>\n",
              "  <tbody>\n",
              "    <tr>\n",
              "      <th>Discrete Parameter Shift</th>\n",
              "      <td>2.24e+00</td>\n",
              "      <td>17.36</td>\n",
              "      <td>-2.07e-01</td>\n",
              "      <td>54.92</td>\n",
              "      <td>1.88e-01</td>\n",
              "      <td>109.38</td>\n",
              "      <td>-9.97e-01</td>\n",
              "      <td>184.05</td>\n",
              "      <td>-1.78e+00</td>\n",
              "      <td>274.71</td>\n",
              "    </tr>\n",
              "    <tr>\n",
              "      <th>Discrete Finite Difference</th>\n",
              "      <td>2.24e+00</td>\n",
              "      <td>17.07</td>\n",
              "      <td>-2.07e-01</td>\n",
              "      <td>53.21</td>\n",
              "      <td>1.88e-01</td>\n",
              "      <td>109.49</td>\n",
              "      <td>-9.97e-01</td>\n",
              "      <td>184.81</td>\n",
              "      <td>-1.78e+00</td>\n",
              "      <td>275.73</td>\n",
              "    </tr>\n",
              "    <tr>\n",
              "      <th>Discrete LCU</th>\n",
              "      <td>2.24e+00</td>\n",
              "      <td>9.69</td>\n",
              "      <td>-2.07e-01</td>\n",
              "      <td>31.19</td>\n",
              "      <td>1.88e-01</td>\n",
              "      <td>64.79</td>\n",
              "      <td>-9.97e-01</td>\n",
              "      <td>108.79</td>\n",
              "      <td>-1.78e+00</td>\n",
              "      <td>166.75</td>\n",
              "    </tr>\n",
              "    <tr>\n",
              "      <th>Discrete QNG</th>\n",
              "      <td>2.08e+00</td>\n",
              "      <td>19.30</td>\n",
              "      <td>-1.14e-01</td>\n",
              "      <td>61.05</td>\n",
              "      <td>-4.35e-01</td>\n",
              "      <td>126.91</td>\n",
              "      <td>-9.39e-01</td>\n",
              "      <td>214.19</td>\n",
              "      <td>-1.76e+00</td>\n",
              "      <td>323.79</td>\n",
              "    </tr>\n",
              "    <tr>\n",
              "      <th>Discrete Newton Gradient</th>\n",
              "      <td>1.28e+01</td>\n",
              "      <td>26.28</td>\n",
              "      <td>9.50e+00</td>\n",
              "      <td>83.29</td>\n",
              "      <td>5.74e+00</td>\n",
              "      <td>173.90</td>\n",
              "      <td>1.25e+00</td>\n",
              "      <td>296.26</td>\n",
              "      <td>4.23e+00</td>\n",
              "      <td>450.38</td>\n",
              "    </tr>\n",
              "  </tbody>\n",
              "</table>\n",
              "</div>\n",
              "      <button class=\"colab-df-convert\" onclick=\"convertToInteractive('df-404db0fb-b7b4-45b0-bc38-50fd6c3029ba')\"\n",
              "              title=\"Convert this dataframe to an interactive table.\"\n",
              "              style=\"display:none;\">\n",
              "        \n",
              "  <svg xmlns=\"http://www.w3.org/2000/svg\" height=\"24px\"viewBox=\"0 0 24 24\"\n",
              "       width=\"24px\">\n",
              "    <path d=\"M0 0h24v24H0V0z\" fill=\"none\"/>\n",
              "    <path d=\"M18.56 5.44l.94 2.06.94-2.06 2.06-.94-2.06-.94-.94-2.06-.94 2.06-2.06.94zm-11 1L8.5 8.5l.94-2.06 2.06-.94-2.06-.94L8.5 2.5l-.94 2.06-2.06.94zm10 10l.94 2.06.94-2.06 2.06-.94-2.06-.94-.94-2.06-.94 2.06-2.06.94z\"/><path d=\"M17.41 7.96l-1.37-1.37c-.4-.4-.92-.59-1.43-.59-.52 0-1.04.2-1.43.59L10.3 9.45l-7.72 7.72c-.78.78-.78 2.05 0 2.83L4 21.41c.39.39.9.59 1.41.59.51 0 1.02-.2 1.41-.59l7.78-7.78 2.81-2.81c.8-.78.8-2.07 0-2.86zM5.41 20L4 18.59l7.72-7.72 1.47 1.35L5.41 20z\"/>\n",
              "  </svg>\n",
              "      </button>\n",
              "      \n",
              "  <style>\n",
              "    .colab-df-container {\n",
              "      display:flex;\n",
              "      flex-wrap:wrap;\n",
              "      gap: 12px;\n",
              "    }\n",
              "\n",
              "    .colab-df-convert {\n",
              "      background-color: #E8F0FE;\n",
              "      border: none;\n",
              "      border-radius: 50%;\n",
              "      cursor: pointer;\n",
              "      display: none;\n",
              "      fill: #1967D2;\n",
              "      height: 32px;\n",
              "      padding: 0 0 0 0;\n",
              "      width: 32px;\n",
              "    }\n",
              "\n",
              "    .colab-df-convert:hover {\n",
              "      background-color: #E2EBFA;\n",
              "      box-shadow: 0px 1px 2px rgba(60, 64, 67, 0.3), 0px 1px 3px 1px rgba(60, 64, 67, 0.15);\n",
              "      fill: #174EA6;\n",
              "    }\n",
              "\n",
              "    [theme=dark] .colab-df-convert {\n",
              "      background-color: #3B4455;\n",
              "      fill: #D2E3FC;\n",
              "    }\n",
              "\n",
              "    [theme=dark] .colab-df-convert:hover {\n",
              "      background-color: #434B5C;\n",
              "      box-shadow: 0px 1px 3px 1px rgba(0, 0, 0, 0.15);\n",
              "      filter: drop-shadow(0px 1px 2px rgba(0, 0, 0, 0.3));\n",
              "      fill: #FFFFFF;\n",
              "    }\n",
              "  </style>\n",
              "\n",
              "      <script>\n",
              "        const buttonEl =\n",
              "          document.querySelector('#df-404db0fb-b7b4-45b0-bc38-50fd6c3029ba button.colab-df-convert');\n",
              "        buttonEl.style.display =\n",
              "          google.colab.kernel.accessAllowed ? 'block' : 'none';\n",
              "\n",
              "        async function convertToInteractive(key) {\n",
              "          const element = document.querySelector('#df-404db0fb-b7b4-45b0-bc38-50fd6c3029ba');\n",
              "          const dataTable =\n",
              "            await google.colab.kernel.invokeFunction('convertToInteractive',\n",
              "                                                     [key], {});\n",
              "          if (!dataTable) return;\n",
              "\n",
              "          const docLinkHtml = 'Like what you see? Visit the ' +\n",
              "            '<a target=\"_blank\" href=https://colab.research.google.com/notebooks/data_table.ipynb>data table notebook</a>'\n",
              "            + ' to learn more about interactive tables.';\n",
              "          element.innerHTML = '';\n",
              "          dataTable['output_type'] = 'display_data';\n",
              "          await google.colab.output.renderOutput(dataTable, element);\n",
              "          const docLink = document.createElement('div');\n",
              "          docLink.innerHTML = docLinkHtml;\n",
              "          element.appendChild(docLink);\n",
              "        }\n",
              "      </script>\n",
              "    </div>\n",
              "  </div>\n",
              "  "
            ]
          },
          "metadata": {}
        },
        {
          "output_type": "stream",
          "name": "stdout",
          "text": [
            "\n",
            "\n",
            "\n",
            "\n"
          ]
        }
      ],
      "source": [
        "#@title Comparison Table\n",
        "rows = ['Discrete Parameter Shift',\n",
        "          'Discrete Finite Difference',\n",
        "          'Discrete LCU', \n",
        "          'Discrete QNG',\n",
        "          'Discrete Newton Gradient',\n",
        "          #'Classical'\n",
        "          ]\n",
        "columns_g = [\"#Param Gates 6\", \"#Param Gates 12\", \"#Param Gates 18\", \"#Param Gates 24\", \"#Param Gates 30\"]\n",
        "iters = [0, 1, 2, 3, 4]\n",
        "columns_s = [\"Loss\", \"Time(second)\"]\n",
        "problems = [\"Max-Cut\", \"Clique\", \"Binary Linear Programming\", \"Knapsack\"]\n",
        "for problemn in range(len(problems)):\n",
        "  df = pd.DataFrame([[pslc[problemn][iters[0]], pstc[problemn][iters[0]], pslc[problemn][iters[1]],pstc[problemn][iters[1]],pslc[problemn][iters[2]],pstc[problemn][iters[2]],pslc[problemn][iters[3]],pstc[problemn][iters[3]],pslc[problemn][iters[4]],pstc[problemn][iters[4]]],\n",
        "                    [fdlc[problemn][iters[0]], fdtc[problemn][iters[0]], fdlc[problemn][iters[1]], fdtc[problemn][iters[1]], fdlc[problemn][iters[2]], fdtc[problemn][iters[2]], fdlc[problemn][iters[3]], fdtc[problemn][iters[3]], fdlc[problemn][iters[4]], fdtc[problemn][iters[4]]],\n",
        "                    [lculc[problemn][iters[0]], lcutc[problemn][iters[0]], lculc[problemn][iters[1]], lcutc[problemn][iters[1]], lculc[problemn][iters[2]], lcutc[problemn][iters[2]], lculc[problemn][iters[3]], lcutc[problemn][iters[3]], lculc[problemn][iters[4]], lcutc[problemn][iters[4]]],\n",
        "                    [qnglc[problemn][iters[0]],qngtc[problemn][iters[0]],qnglc[problemn][iters[1]],qngtc[problemn][iters[1]],qnglc[problemn][iters[2]],qngtc[problemn][iters[2]], qnglc[problemn][iters[3]],qngtc[problemn][iters[3]], qnglc[problemn][iters[4]],qngtc[problemn][iters[4]]],\n",
        "                    [qnwlc[problemn][iters[0]],qnwtc[problemn][iters[0]],qnwlc[problemn][iters[1]],qnwtc[problemn][iters[1]],qnwlc[problemn][iters[2]],qnwtc[problemn][iters[2]],qnwlc[problemn][iters[3]],qnwtc[problemn][iters[3]],qnwlc[problemn][iters[4]],qnwtc[problemn][iters[4]]],\n",
        "                    #[loss_plot_classical[5],classical_time_i[100],loss_plot_classical[200],classical_time_i[200],loss_plot_classical[300],classical_time_i[300], loss_plot_classical[400],classical_time_i[400], loss_plot_classical[500],classical_time_i[500]]\n",
        "                    ])\n",
        "\n",
        "  col_ix = pd.MultiIndex.from_product([columns_g, columns_s]) \n",
        "  row_ix = pd.MultiIndex.from_product([rows])\n",
        "  df = df.set_index(row_ix)\n",
        "  df.columns = col_ix\n",
        "  df[( '#Param Gates 6','Loss')] = df[( '#Param Gates 6','Loss')].map('{:.2e}'.format)\n",
        "  df[( '#Param Gates 12','Loss')] = df[( '#Param Gates 12','Loss')].map('{:.2e}'.format)\n",
        "  df[( '#Param Gates 18','Loss')] = df[( '#Param Gates 18','Loss')].map('{:.2e}'.format)\n",
        "  df[( '#Param Gates 24','Loss')] = df[( '#Param Gates 24','Loss')].map('{:.2e}'.format)\n",
        "  df[( '#Param Gates 30','Loss')] = df[( '#Param Gates 30','Loss')].map('{:.2e}'.format)\n",
        "  # df[( '#Param Gates 500','Loss')] = df[( '#Param Gates 500','Loss')].map('{:.2e}'.format)\n",
        "  print(f\"\\033[1m{problems[problemn]}\\033[0m\")\n",
        "  display(df.round(2))\n",
        "  print(\"\\n\\n\\n\")"
      ]
    },
    {
      "cell_type": "markdown",
      "metadata": {
        "id": "Qd3EUUWU4RZH"
      },
      "source": [
        "## **Continuous-variable**\n",
        "Using $S(0.49, 0.2)D(0.395, 0.5)$ as target gate"
      ]
    },
    {
      "cell_type": "code",
      "execution_count": null,
      "metadata": {
        "id": "rhUwygIHyCXw"
      },
      "outputs": [],
      "source": [
        "# num_wires_cv = 1\n",
        "# dev_cv = qml.device(\"strawberryfields.fock\", wires=num_wires_cv, cutoff_dim=20)"
      ]
    },
    {
      "cell_type": "code",
      "execution_count": null,
      "metadata": {
        "id": "rE2AI_k9Nc6t"
      },
      "outputs": [],
      "source": [
        "# def problem_cv():\n",
        "#     qml.Squeezing(0.49, 0.2, wires=0)\n",
        "#     qml.Displacement(0.395, 0.5, wires=0)"
      ]
    },
    {
      "cell_type": "markdown",
      "metadata": {
        "id": "OJ26U7JkNe9u"
      },
      "source": [
        "Ansatz for estimating target gate"
      ]
    },
    {
      "cell_type": "code",
      "execution_count": null,
      "metadata": {
        "id": "G0VyNO2M0XlK"
      },
      "outputs": [],
      "source": [
        "# def ansatz_cv(var):\n",
        "#     for wire in range(num_wires_cv):\n",
        "#       qml.Rotation(var[0+wire], wires=wire)\n",
        "#       qml.Squeezing(var[1+wire], 0.0, wires=wire)\n",
        "#       qml.Displacement(var[2+wire], 0.0, wires=wire)"
      ]
    },
    {
      "cell_type": "markdown",
      "metadata": {
        "id": "m8jwLps9NkOn"
      },
      "source": [
        "Objective function <br> \n",
        "1. initial state is  $|0⟩$\n",
        "2. apply target gate $U(r, \\theta)|0⟩$ <br> \n",
        "photon number expectation value $⟨n⟩$\n",
        "3. apply ansatz $A(s, \\alpha)$  and $U(r, \\theta)$<br> \n",
        "photon number expectation value $A(s, \\alpha)U(r, \\theta)|0⟩ = ⟨n'⟩$\n",
        "4. if $⟨n'⟩ = 0$ then  $A(s, \\alpha) = U^\\dagger(r, \\theta)$\n",
        "5. so, we will minimize $⟨n'⟩$ to target $0$ to make $A(s, \\alpha) = U^\\dagger(r, \\theta)$\n"
      ]
    },
    {
      "cell_type": "code",
      "execution_count": null,
      "metadata": {
        "id": "-sht3m-iNgiA"
      },
      "outputs": [],
      "source": [
        "# @qml.qnode(dev_cv)\n",
        "# def cost_function_cv(var):\n",
        "#     for v in var:\n",
        "#       ansatz_cv(v)\n",
        "\n",
        "#     problem_cv()\n",
        "\n",
        "#     return qml.expval(qml.NumberOperator(wires=0))"
      ]
    },
    {
      "cell_type": "markdown",
      "metadata": {
        "id": "UgKEPf-KP5X_"
      },
      "source": [
        "Probability distribution of target gate"
      ]
    },
    {
      "cell_type": "code",
      "execution_count": null,
      "metadata": {
        "id": "4qg3hmWyP4f5"
      },
      "outputs": [],
      "source": [
        "# @qml.qnode(dev_cv)\n",
        "# def target_cv():\n",
        "#     problem_cv()\n",
        "\n",
        "#     return qml.probs(wires=0) #qml.NumberOperator(wires=0)"
      ]
    },
    {
      "cell_type": "markdown",
      "metadata": {
        "id": "dobPY6LFQB1z"
      },
      "source": [
        "Probability distribution of estimated gate"
      ]
    },
    {
      "cell_type": "code",
      "execution_count": null,
      "metadata": {
        "id": "hcbCfAx_P3cB"
      },
      "outputs": [],
      "source": [
        "# @qml.qnode(dev_cv)\n",
        "# def prediction_cv(var):\n",
        "#     for v in var:\n",
        "#       ansatz_cv(v)\n",
        "    \n",
        "#     return qml.probs(wires=0)"
      ]
    },
    {
      "cell_type": "code",
      "execution_count": null,
      "metadata": {
        "id": "WQ-9whXm02OC"
      },
      "outputs": [],
      "source": [
        "# # def MAE_cv(var):\n",
        "# #   pred = prediction_cv(var)\n",
        "# #   y = target_cv()\n",
        "# #   return sum(abs(pred-y))/len(y)\n",
        "\n",
        "# def similarity(var):\n",
        "#   pred = prediction_cv(var)\n",
        "#   y = target_cv()\n",
        "#   cos_sim = np.dot(pred, y)/(np.linalg.norm(pred)*np.linalg.norm(y))\n",
        "#   return 1-cos_sim"
      ]
    },
    {
      "cell_type": "code",
      "execution_count": null,
      "metadata": {
        "id": "zSniviDXDHiT"
      },
      "outputs": [],
      "source": [
        "# np.random.seed(1)\n",
        "# num_layers_cv = 1\n",
        "# var_init_cv = 0.05*np.random.randn(num_layers_cv, 3*num_wires_cv)"
      ]
    },
    {
      "cell_type": "code",
      "execution_count": null,
      "metadata": {
        "id": "coZur5gPFLYW"
      },
      "outputs": [],
      "source": [
        "# print(\"Initial cost: \", cost_function_cv(var_init_cv))"
      ]
    },
    {
      "cell_type": "markdown",
      "metadata": {
        "id": "9RBeog4WQJM2"
      },
      "source": [
        "### Parameter shift rule"
      ]
    },
    {
      "cell_type": "code",
      "execution_count": null,
      "metadata": {
        "id": "eYEiS55mCNhU"
      },
      "outputs": [],
      "source": [
        "# parameter_shift_cv_time_i = []\n",
        "# start = time.time()\n",
        "\n",
        "# opt_cv = GradientDescentOptimizer(0.01)\n",
        "\n",
        "# s = 0.1\n",
        "# alpha = np.pi/2\n",
        "\n",
        "# var_cv = var_init_cv.copy()\n",
        "# loss_plot_cv = []\n",
        "# break_count = 0\n",
        "\n",
        "\n",
        "# for it in range(1201):# while True:\n",
        "#     var_cv, _cost = opt.step_and_cost(lambda v: similarity(v), var_cv, \n",
        "#                                    grad_fn=lambda var_cv: parameter_shift_cv(cost_function_cv, var_cv)) \n",
        "    \n",
        "#     loss_plot_cv.append(_cost)\n",
        "\n",
        "#     if it%100==0:\n",
        "#       print(\"Iter: {:5d} | Cost: {:0.11f} \".format(it, _cost))\n",
        "    \n",
        "#     end = time.time()\n",
        "#     t = end - start\n",
        "#     parameter_shift_cv_time_i.append(t)"
      ]
    },
    {
      "cell_type": "markdown",
      "metadata": {
        "id": "lWfinCpHqJYm"
      },
      "source": [
        "### Finite difference"
      ]
    },
    {
      "cell_type": "code",
      "execution_count": null,
      "metadata": {
        "id": "PY3y3KcISHWd"
      },
      "outputs": [],
      "source": [
        "# finite_cv_time_i = []\n",
        "# start = time.time()\n",
        "\n",
        "# opt_cv = GradientDescentOptimizer(0.01)\n",
        "\n",
        "# s = 0.1\n",
        "# alpha = np.pi/2\n",
        "\n",
        "# var_cv_fd = var_init_cv.copy()\n",
        "# loss_plot_cv_fd = []\n",
        "# break_count = 0\n",
        "\n",
        "\n",
        "# for it in range(1201):# while True:\n",
        "#     var_cv_fd, _cost = opt.step_and_cost(lambda v: similarity(v), var_cv_fd, \n",
        "#                                    grad_fn=lambda var_cv_fd: finite_difference_cv(cost_function_cv, var_cv_fd)) \n",
        "    \n",
        "#     loss_plot_cv_fd.append(_cost)\n",
        "\n",
        "#     if it%100==0:\n",
        "#       print(\"Iter: {:5d} | Cost: {:0.11f} \".format(it, _cost))\n",
        "    \n",
        "#     end = time.time()\n",
        "#     t = end - start\n",
        "#     finite_cv_time_i.append(t)"
      ]
    }
  ],
  "metadata": {
    "colab": {
      "collapsed_sections": [
        "__wEBgF9oflu",
        "Qd3EUUWU4RZH"
      ],
      "name": "discrete_gradient_comparison.ipynb",
      "provenance": [],
      "include_colab_link": true
    },
    "kernelspec": {
      "display_name": "Python 3",
      "name": "python3"
    },
    "language_info": {
      "name": "python"
    },
    "widgets": {
      "application/vnd.jupyter.widget-state+json": {
        "bd7294df57e8446bb4f83f32524cf208": {
          "model_module": "@jupyter-widgets/controls",
          "model_name": "HBoxModel",
          "model_module_version": "1.5.0",
          "state": {
            "_dom_classes": [],
            "_model_module": "@jupyter-widgets/controls",
            "_model_module_version": "1.5.0",
            "_model_name": "HBoxModel",
            "_view_count": null,
            "_view_module": "@jupyter-widgets/controls",
            "_view_module_version": "1.5.0",
            "_view_name": "HBoxView",
            "box_style": "",
            "children": [
              "IPY_MODEL_7c2041ed1b8a4a4ba81d6f0d7bb8fc48",
              "IPY_MODEL_9be98a0b97db4cfba815dc27a24a0970",
              "IPY_MODEL_532451a564014a0da7507b37c21f5e7e"
            ],
            "layout": "IPY_MODEL_b2e9e875ee64485aba84112550577687"
          }
        },
        "7c2041ed1b8a4a4ba81d6f0d7bb8fc48": {
          "model_module": "@jupyter-widgets/controls",
          "model_name": "HTMLModel",
          "model_module_version": "1.5.0",
          "state": {
            "_dom_classes": [],
            "_model_module": "@jupyter-widgets/controls",
            "_model_module_version": "1.5.0",
            "_model_name": "HTMLModel",
            "_view_count": null,
            "_view_module": "@jupyter-widgets/controls",
            "_view_module_version": "1.5.0",
            "_view_name": "HTMLView",
            "description": "",
            "description_tooltip": null,
            "layout": "IPY_MODEL_adf9c7461f2d4225a7a385fe8a03623b",
            "placeholder": "​",
            "style": "IPY_MODEL_878183b5db344a03af8089491342b7bf",
            "value": "100%"
          }
        },
        "9be98a0b97db4cfba815dc27a24a0970": {
          "model_module": "@jupyter-widgets/controls",
          "model_name": "FloatProgressModel",
          "model_module_version": "1.5.0",
          "state": {
            "_dom_classes": [],
            "_model_module": "@jupyter-widgets/controls",
            "_model_module_version": "1.5.0",
            "_model_name": "FloatProgressModel",
            "_view_count": null,
            "_view_module": "@jupyter-widgets/controls",
            "_view_module_version": "1.5.0",
            "_view_name": "ProgressView",
            "bar_style": "success",
            "description": "",
            "description_tooltip": null,
            "layout": "IPY_MODEL_97760a5b7701434bba5ba498cc4651b4",
            "max": 50,
            "min": 0,
            "orientation": "horizontal",
            "style": "IPY_MODEL_9c8ae9c108fe4aa0963bfde1a625b22c",
            "value": 50
          }
        },
        "532451a564014a0da7507b37c21f5e7e": {
          "model_module": "@jupyter-widgets/controls",
          "model_name": "HTMLModel",
          "model_module_version": "1.5.0",
          "state": {
            "_dom_classes": [],
            "_model_module": "@jupyter-widgets/controls",
            "_model_module_version": "1.5.0",
            "_model_name": "HTMLModel",
            "_view_count": null,
            "_view_module": "@jupyter-widgets/controls",
            "_view_module_version": "1.5.0",
            "_view_name": "HTMLView",
            "description": "",
            "description_tooltip": null,
            "layout": "IPY_MODEL_4aef5492ca2e40289dbfa967780abc09",
            "placeholder": "​",
            "style": "IPY_MODEL_a0204cbfa2544525be55ba6d4353108f",
            "value": " 50/50 [00:21&lt;00:00,  2.71it/s]"
          }
        },
        "b2e9e875ee64485aba84112550577687": {
          "model_module": "@jupyter-widgets/base",
          "model_name": "LayoutModel",
          "model_module_version": "1.2.0",
          "state": {
            "_model_module": "@jupyter-widgets/base",
            "_model_module_version": "1.2.0",
            "_model_name": "LayoutModel",
            "_view_count": null,
            "_view_module": "@jupyter-widgets/base",
            "_view_module_version": "1.2.0",
            "_view_name": "LayoutView",
            "align_content": null,
            "align_items": null,
            "align_self": null,
            "border": null,
            "bottom": null,
            "display": null,
            "flex": null,
            "flex_flow": null,
            "grid_area": null,
            "grid_auto_columns": null,
            "grid_auto_flow": null,
            "grid_auto_rows": null,
            "grid_column": null,
            "grid_gap": null,
            "grid_row": null,
            "grid_template_areas": null,
            "grid_template_columns": null,
            "grid_template_rows": null,
            "height": null,
            "justify_content": null,
            "justify_items": null,
            "left": null,
            "margin": null,
            "max_height": null,
            "max_width": null,
            "min_height": null,
            "min_width": null,
            "object_fit": null,
            "object_position": null,
            "order": null,
            "overflow": null,
            "overflow_x": null,
            "overflow_y": null,
            "padding": null,
            "right": null,
            "top": null,
            "visibility": null,
            "width": null
          }
        },
        "adf9c7461f2d4225a7a385fe8a03623b": {
          "model_module": "@jupyter-widgets/base",
          "model_name": "LayoutModel",
          "model_module_version": "1.2.0",
          "state": {
            "_model_module": "@jupyter-widgets/base",
            "_model_module_version": "1.2.0",
            "_model_name": "LayoutModel",
            "_view_count": null,
            "_view_module": "@jupyter-widgets/base",
            "_view_module_version": "1.2.0",
            "_view_name": "LayoutView",
            "align_content": null,
            "align_items": null,
            "align_self": null,
            "border": null,
            "bottom": null,
            "display": null,
            "flex": null,
            "flex_flow": null,
            "grid_area": null,
            "grid_auto_columns": null,
            "grid_auto_flow": null,
            "grid_auto_rows": null,
            "grid_column": null,
            "grid_gap": null,
            "grid_row": null,
            "grid_template_areas": null,
            "grid_template_columns": null,
            "grid_template_rows": null,
            "height": null,
            "justify_content": null,
            "justify_items": null,
            "left": null,
            "margin": null,
            "max_height": null,
            "max_width": null,
            "min_height": null,
            "min_width": null,
            "object_fit": null,
            "object_position": null,
            "order": null,
            "overflow": null,
            "overflow_x": null,
            "overflow_y": null,
            "padding": null,
            "right": null,
            "top": null,
            "visibility": null,
            "width": null
          }
        },
        "878183b5db344a03af8089491342b7bf": {
          "model_module": "@jupyter-widgets/controls",
          "model_name": "DescriptionStyleModel",
          "model_module_version": "1.5.0",
          "state": {
            "_model_module": "@jupyter-widgets/controls",
            "_model_module_version": "1.5.0",
            "_model_name": "DescriptionStyleModel",
            "_view_count": null,
            "_view_module": "@jupyter-widgets/base",
            "_view_module_version": "1.2.0",
            "_view_name": "StyleView",
            "description_width": ""
          }
        },
        "97760a5b7701434bba5ba498cc4651b4": {
          "model_module": "@jupyter-widgets/base",
          "model_name": "LayoutModel",
          "model_module_version": "1.2.0",
          "state": {
            "_model_module": "@jupyter-widgets/base",
            "_model_module_version": "1.2.0",
            "_model_name": "LayoutModel",
            "_view_count": null,
            "_view_module": "@jupyter-widgets/base",
            "_view_module_version": "1.2.0",
            "_view_name": "LayoutView",
            "align_content": null,
            "align_items": null,
            "align_self": null,
            "border": null,
            "bottom": null,
            "display": null,
            "flex": null,
            "flex_flow": null,
            "grid_area": null,
            "grid_auto_columns": null,
            "grid_auto_flow": null,
            "grid_auto_rows": null,
            "grid_column": null,
            "grid_gap": null,
            "grid_row": null,
            "grid_template_areas": null,
            "grid_template_columns": null,
            "grid_template_rows": null,
            "height": null,
            "justify_content": null,
            "justify_items": null,
            "left": null,
            "margin": null,
            "max_height": null,
            "max_width": null,
            "min_height": null,
            "min_width": null,
            "object_fit": null,
            "object_position": null,
            "order": null,
            "overflow": null,
            "overflow_x": null,
            "overflow_y": null,
            "padding": null,
            "right": null,
            "top": null,
            "visibility": null,
            "width": null
          }
        },
        "9c8ae9c108fe4aa0963bfde1a625b22c": {
          "model_module": "@jupyter-widgets/controls",
          "model_name": "ProgressStyleModel",
          "model_module_version": "1.5.0",
          "state": {
            "_model_module": "@jupyter-widgets/controls",
            "_model_module_version": "1.5.0",
            "_model_name": "ProgressStyleModel",
            "_view_count": null,
            "_view_module": "@jupyter-widgets/base",
            "_view_module_version": "1.2.0",
            "_view_name": "StyleView",
            "bar_color": null,
            "description_width": ""
          }
        },
        "4aef5492ca2e40289dbfa967780abc09": {
          "model_module": "@jupyter-widgets/base",
          "model_name": "LayoutModel",
          "model_module_version": "1.2.0",
          "state": {
            "_model_module": "@jupyter-widgets/base",
            "_model_module_version": "1.2.0",
            "_model_name": "LayoutModel",
            "_view_count": null,
            "_view_module": "@jupyter-widgets/base",
            "_view_module_version": "1.2.0",
            "_view_name": "LayoutView",
            "align_content": null,
            "align_items": null,
            "align_self": null,
            "border": null,
            "bottom": null,
            "display": null,
            "flex": null,
            "flex_flow": null,
            "grid_area": null,
            "grid_auto_columns": null,
            "grid_auto_flow": null,
            "grid_auto_rows": null,
            "grid_column": null,
            "grid_gap": null,
            "grid_row": null,
            "grid_template_areas": null,
            "grid_template_columns": null,
            "grid_template_rows": null,
            "height": null,
            "justify_content": null,
            "justify_items": null,
            "left": null,
            "margin": null,
            "max_height": null,
            "max_width": null,
            "min_height": null,
            "min_width": null,
            "object_fit": null,
            "object_position": null,
            "order": null,
            "overflow": null,
            "overflow_x": null,
            "overflow_y": null,
            "padding": null,
            "right": null,
            "top": null,
            "visibility": null,
            "width": null
          }
        },
        "a0204cbfa2544525be55ba6d4353108f": {
          "model_module": "@jupyter-widgets/controls",
          "model_name": "DescriptionStyleModel",
          "model_module_version": "1.5.0",
          "state": {
            "_model_module": "@jupyter-widgets/controls",
            "_model_module_version": "1.5.0",
            "_model_name": "DescriptionStyleModel",
            "_view_count": null,
            "_view_module": "@jupyter-widgets/base",
            "_view_module_version": "1.2.0",
            "_view_name": "StyleView",
            "description_width": ""
          }
        }
      }
    }
  },
  "nbformat": 4,
  "nbformat_minor": 0
}