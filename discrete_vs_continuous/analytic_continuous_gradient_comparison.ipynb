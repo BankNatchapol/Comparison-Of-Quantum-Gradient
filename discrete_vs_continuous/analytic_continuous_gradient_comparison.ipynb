{
  "cells": [
    {
      "cell_type": "markdown",
      "metadata": {
        "id": "view-in-github",
        "colab_type": "text"
      },
      "source": [
        "<a href=\"https://colab.research.google.com/github/BankNatchapol/Comparison-of-Quantum-Gradient/blob/main/discrete_vs_continuous/analytic_continuous_gradient_comparison.ipynb\" target=\"_parent\"><img src=\"https://colab.research.google.com/assets/colab-badge.svg\" alt=\"Open In Colab\"/></a>"
      ]
    },
    {
      "cell_type": "code",
      "execution_count": 1,
      "metadata": {
        "id": "SBqFCoePuw6c",
        "colab": {
          "base_uri": "https://localhost:8080/"
        },
        "outputId": "5ec34bf0-c552-4c5d-be33-1b2d09a81f59"
      },
      "outputs": [
        {
          "output_type": "stream",
          "name": "stdout",
          "text": [
            "Collecting pennylane-sf\n",
            "  Downloading PennyLane_SF-0.20.0-py3-none-any.whl (29 kB)\n",
            "Collecting strawberryfields>=0.20\n",
            "  Downloading StrawberryFields-0.22.0-py3-none-any.whl (4.9 MB)\n",
            "\u001b[K     |████████████████████████████████| 4.9 MB 29.6 MB/s \n",
            "\u001b[?25hCollecting pennylane>=0.19\n",
            "  Downloading PennyLane-0.22.1-py3-none-any.whl (881 kB)\n",
            "\u001b[K     |████████████████████████████████| 881 kB 49.7 MB/s \n",
            "\u001b[?25hRequirement already satisfied: cachetools in /usr/local/lib/python3.7/dist-packages (from pennylane>=0.19->pennylane-sf) (4.2.4)\n",
            "Collecting autoray\n",
            "  Downloading autoray-0.2.5-py3-none-any.whl (16 kB)\n",
            "Collecting toml\n",
            "  Downloading toml-0.10.2-py2.py3-none-any.whl (16 kB)\n",
            "Collecting semantic-version==2.6\n",
            "  Downloading semantic_version-2.6.0-py3-none-any.whl (14 kB)\n",
            "Requirement already satisfied: autograd in /usr/local/lib/python3.7/dist-packages (from pennylane>=0.19->pennylane-sf) (1.3)\n",
            "Collecting pennylane-lightning>=0.22\n",
            "  Downloading PennyLane_Lightning-0.22.0-cp37-cp37m-manylinux_2_17_x86_64.manylinux2014_x86_64.whl (8.2 MB)\n",
            "\u001b[K     |████████████████████████████████| 8.2 MB 37.2 MB/s \n",
            "\u001b[?25hCollecting retworkx\n",
            "  Downloading retworkx-0.11.0-cp37-cp37m-manylinux_2_5_x86_64.manylinux1_x86_64.manylinux_2_12_x86_64.manylinux2010_x86_64.whl (1.6 MB)\n",
            "\u001b[K     |████████████████████████████████| 1.6 MB 45.2 MB/s \n",
            "\u001b[?25hRequirement already satisfied: networkx in /usr/local/lib/python3.7/dist-packages (from pennylane>=0.19->pennylane-sf) (2.6.3)\n",
            "Requirement already satisfied: scipy in /usr/local/lib/python3.7/dist-packages (from pennylane>=0.19->pennylane-sf) (1.4.1)\n",
            "Requirement already satisfied: appdirs in /usr/local/lib/python3.7/dist-packages (from pennylane>=0.19->pennylane-sf) (1.4.4)\n",
            "Requirement already satisfied: numpy in /usr/local/lib/python3.7/dist-packages (from pennylane>=0.19->pennylane-sf) (1.21.5)\n",
            "Collecting ninja\n",
            "  Downloading ninja-1.10.2.3-py2.py3-none-manylinux_2_5_x86_64.manylinux1_x86_64.whl (108 kB)\n",
            "\u001b[K     |████████████████████████████████| 108 kB 55.7 MB/s \n",
            "\u001b[?25hCollecting thewalrus>=0.18.0\n",
            "  Downloading thewalrus-0.19.0-py3-none-any.whl (83 kB)\n",
            "\u001b[K     |████████████████████████████████| 83 kB 2.8 MB/s \n",
            "\u001b[?25hCollecting urllib3>=1.25.3\n",
            "  Downloading urllib3-1.26.9-py2.py3-none-any.whl (138 kB)\n",
            "\u001b[K     |████████████████████████████████| 138 kB 74.3 MB/s \n",
            "\u001b[?25hCollecting quantum-xir>=0.1.1\n",
            "  Downloading quantum_xir-0.2.1-py3-none-any.whl (27 kB)\n",
            "Collecting xanadu-cloud-client>=0.1.1\n",
            "  Downloading xanadu_cloud_client-0.1.2-py3-none-any.whl (23 kB)\n",
            "Requirement already satisfied: python-dateutil>=2.8.0 in /usr/local/lib/python3.7/dist-packages (from strawberryfields>=0.20->pennylane-sf) (2.8.2)\n",
            "Requirement already satisfied: sympy>=1.5 in /usr/local/lib/python3.7/dist-packages (from strawberryfields>=0.20->pennylane-sf) (1.7.1)\n",
            "Requirement already satisfied: numba in /usr/local/lib/python3.7/dist-packages (from strawberryfields>=0.20->pennylane-sf) (0.51.2)\n",
            "Requirement already satisfied: requests>=2.22.0 in /usr/local/lib/python3.7/dist-packages (from strawberryfields>=0.20->pennylane-sf) (2.23.0)\n",
            "Collecting quantum-blackbird>=0.3.0\n",
            "  Downloading quantum_blackbird-0.4.0-py3-none-any.whl (47 kB)\n",
            "\u001b[K     |████████████████████████████████| 47 kB 6.2 MB/s \n",
            "\u001b[?25hRequirement already satisfied: six>=1.5 in /usr/local/lib/python3.7/dist-packages (from python-dateutil>=2.8.0->strawberryfields>=0.20->pennylane-sf) (1.15.0)\n",
            "Collecting antlr4-python3-runtime==4.8\n",
            "  Downloading antlr4-python3-runtime-4.8.tar.gz (112 kB)\n",
            "\u001b[K     |████████████████████████████████| 112 kB 72.7 MB/s \n",
            "\u001b[?25hCollecting lark-parser>=0.11.0\n",
            "  Downloading lark_parser-0.12.0-py2.py3-none-any.whl (103 kB)\n",
            "\u001b[K     |████████████████████████████████| 103 kB 54.2 MB/s \n",
            "\u001b[?25hCollecting urllib3>=1.25.3\n",
            "  Downloading urllib3-1.25.11-py2.py3-none-any.whl (127 kB)\n",
            "\u001b[K     |████████████████████████████████| 127 kB 79.3 MB/s \n",
            "\u001b[?25hRequirement already satisfied: idna<3,>=2.5 in /usr/local/lib/python3.7/dist-packages (from requests>=2.22.0->strawberryfields>=0.20->pennylane-sf) (2.10)\n",
            "Requirement already satisfied: certifi>=2017.4.17 in /usr/local/lib/python3.7/dist-packages (from requests>=2.22.0->strawberryfields>=0.20->pennylane-sf) (2021.10.8)\n",
            "Requirement already satisfied: chardet<4,>=3.0.2 in /usr/local/lib/python3.7/dist-packages (from requests>=2.22.0->strawberryfields>=0.20->pennylane-sf) (3.0.4)\n",
            "Requirement already satisfied: mpmath>=0.19 in /usr/local/lib/python3.7/dist-packages (from sympy>=1.5->strawberryfields>=0.20->pennylane-sf) (1.2.1)\n",
            "Requirement already satisfied: dask[delayed] in /usr/local/lib/python3.7/dist-packages (from thewalrus>=0.18.0->strawberryfields>=0.20->pennylane-sf) (2.12.0)\n",
            "Requirement already satisfied: setuptools in /usr/local/lib/python3.7/dist-packages (from numba->strawberryfields>=0.20->pennylane-sf) (57.4.0)\n",
            "Requirement already satisfied: llvmlite<0.35,>=0.34.0.dev0 in /usr/local/lib/python3.7/dist-packages (from numba->strawberryfields>=0.20->pennylane-sf) (0.34.0)\n",
            "Collecting pydantic[dotenv]\n",
            "  Downloading pydantic-1.9.0-cp37-cp37m-manylinux_2_17_x86_64.manylinux2014_x86_64.whl (10.9 MB)\n",
            "\u001b[K     |████████████████████████████████| 10.9 MB 54.3 MB/s \n",
            "\u001b[?25hCollecting fire\n",
            "  Downloading fire-0.4.0.tar.gz (87 kB)\n",
            "\u001b[K     |████████████████████████████████| 87 kB 6.4 MB/s \n",
            "\u001b[?25hRequirement already satisfied: future>=0.15.2 in /usr/local/lib/python3.7/dist-packages (from autograd->pennylane>=0.19->pennylane-sf) (0.16.0)\n",
            "Requirement already satisfied: toolz>=0.7.3 in /usr/local/lib/python3.7/dist-packages (from dask[delayed]->thewalrus>=0.18.0->strawberryfields>=0.20->pennylane-sf) (0.11.2)\n",
            "Requirement already satisfied: cloudpickle>=0.2.1 in /usr/local/lib/python3.7/dist-packages (from dask[delayed]->thewalrus>=0.18.0->strawberryfields>=0.20->pennylane-sf) (1.3.0)\n",
            "Requirement already satisfied: termcolor in /usr/local/lib/python3.7/dist-packages (from fire->xanadu-cloud-client>=0.1.1->strawberryfields>=0.20->pennylane-sf) (1.1.0)\n",
            "Requirement already satisfied: typing-extensions>=3.7.4.3 in /usr/local/lib/python3.7/dist-packages (from pydantic[dotenv]->xanadu-cloud-client>=0.1.1->strawberryfields>=0.20->pennylane-sf) (3.10.0.2)\n",
            "Collecting python-dotenv>=0.10.4\n",
            "  Downloading python_dotenv-0.20.0-py3-none-any.whl (17 kB)\n",
            "Building wheels for collected packages: antlr4-python3-runtime, fire\n",
            "  Building wheel for antlr4-python3-runtime (setup.py) ... \u001b[?25l\u001b[?25hdone\n",
            "  Created wheel for antlr4-python3-runtime: filename=antlr4_python3_runtime-4.8-py3-none-any.whl size=141230 sha256=f3c22dcbe79ec0903dd5eb775a817c85a5b609b8873309e4ab2f8b568ef403f1\n",
            "  Stored in directory: /root/.cache/pip/wheels/ca/33/b7/336836125fc9bb4ceaa4376d8abca10ca8bc84ddc824baea6c\n",
            "  Building wheel for fire (setup.py) ... \u001b[?25l\u001b[?25hdone\n",
            "  Created wheel for fire: filename=fire-0.4.0-py2.py3-none-any.whl size=115942 sha256=0bec66878b0fac0bf48dcc2ab714ad9035da31e6d114cbc9fc58be67f13cdd1e\n",
            "  Stored in directory: /root/.cache/pip/wheels/8a/67/fb/2e8a12fa16661b9d5af1f654bd199366799740a85c64981226\n",
            "Successfully built antlr4-python3-runtime fire\n",
            "Installing collected packages: urllib3, python-dotenv, pydantic, ninja, lark-parser, fire, antlr4-python3-runtime, xanadu-cloud-client, toml, thewalrus, semantic-version, retworkx, quantum-xir, quantum-blackbird, pennylane-lightning, autoray, strawberryfields, pennylane, pennylane-sf\n",
            "  Attempting uninstall: urllib3\n",
            "    Found existing installation: urllib3 1.24.3\n",
            "    Uninstalling urllib3-1.24.3:\n",
            "      Successfully uninstalled urllib3-1.24.3\n",
            "\u001b[31mERROR: pip's dependency resolver does not currently take into account all the packages that are installed. This behaviour is the source of the following dependency conflicts.\n",
            "datascience 0.10.6 requires folium==0.2.1, but you have folium 0.8.3 which is incompatible.\u001b[0m\n",
            "Successfully installed antlr4-python3-runtime-4.8 autoray-0.2.5 fire-0.4.0 lark-parser-0.12.0 ninja-1.10.2.3 pennylane-0.22.1 pennylane-lightning-0.22.0 pennylane-sf-0.20.0 pydantic-1.9.0 python-dotenv-0.20.0 quantum-blackbird-0.4.0 quantum-xir-0.2.1 retworkx-0.11.0 semantic-version-2.6.0 strawberryfields-0.22.0 thewalrus-0.19.0 toml-0.10.2 urllib3-1.25.11 xanadu-cloud-client-0.1.2\n",
            "Collecting qiskit\n",
            "  Downloading qiskit-0.34.2.tar.gz (13 kB)\n",
            "Collecting qiskit-terra==0.19.2\n",
            "  Downloading qiskit_terra-0.19.2-cp37-cp37m-manylinux_2_12_x86_64.manylinux2010_x86_64.whl (6.5 MB)\n",
            "\u001b[K     |████████████████████████████████| 6.5 MB 24.6 MB/s \n",
            "\u001b[?25hCollecting qiskit-aer==0.10.3\n",
            "  Downloading qiskit_aer-0.10.3-cp37-cp37m-manylinux_2_12_x86_64.manylinux2010_x86_64.whl (18.0 MB)\n",
            "\u001b[K     |████████████████████████████████| 18.0 MB 9.6 MB/s \n",
            "\u001b[?25hCollecting qiskit-ibmq-provider==0.18.3\n",
            "  Downloading qiskit_ibmq_provider-0.18.3-py3-none-any.whl (238 kB)\n",
            "\u001b[K     |████████████████████████████████| 238 kB 44.1 MB/s \n",
            "\u001b[?25hCollecting qiskit-ignis==0.7.0\n",
            "  Downloading qiskit_ignis-0.7.0-py3-none-any.whl (200 kB)\n",
            "\u001b[K     |████████████████████████████████| 200 kB 41.4 MB/s \n",
            "\u001b[?25hRequirement already satisfied: scipy>=1.0 in /usr/local/lib/python3.7/dist-packages (from qiskit-aer==0.10.3->qiskit) (1.4.1)\n",
            "Requirement already satisfied: numpy>=1.16.3 in /usr/local/lib/python3.7/dist-packages (from qiskit-aer==0.10.3->qiskit) (1.21.5)\n",
            "Requirement already satisfied: urllib3>=1.21.1 in /usr/local/lib/python3.7/dist-packages (from qiskit-ibmq-provider==0.18.3->qiskit) (1.25.11)\n",
            "Collecting requests-ntlm>=1.1.0\n",
            "  Downloading requests_ntlm-1.1.0-py2.py3-none-any.whl (5.7 kB)\n",
            "Collecting websocket-client>=1.0.1\n",
            "  Downloading websocket_client-1.3.1-py3-none-any.whl (54 kB)\n",
            "\u001b[K     |████████████████████████████████| 54 kB 1.2 MB/s \n",
            "\u001b[?25hRequirement already satisfied: python-dateutil>=2.8.0 in /usr/local/lib/python3.7/dist-packages (from qiskit-ibmq-provider==0.18.3->qiskit) (2.8.2)\n",
            "Requirement already satisfied: requests>=2.19 in /usr/local/lib/python3.7/dist-packages (from qiskit-ibmq-provider==0.18.3->qiskit) (2.23.0)\n",
            "Requirement already satisfied: retworkx>=0.8.0 in /usr/local/lib/python3.7/dist-packages (from qiskit-ignis==0.7.0->qiskit) (0.11.0)\n",
            "Requirement already satisfied: setuptools>=40.1.0 in /usr/local/lib/python3.7/dist-packages (from qiskit-ignis==0.7.0->qiskit) (57.4.0)\n",
            "Collecting tweedledum<2.0,>=1.1\n",
            "  Downloading tweedledum-1.1.1-cp37-cp37m-manylinux_2_12_x86_64.manylinux2010_x86_64.whl (943 kB)\n",
            "\u001b[K     |████████████████████████████████| 943 kB 37.0 MB/s \n",
            "\u001b[?25hCollecting symengine>=0.8\n",
            "  Downloading symengine-0.9.2-cp37-cp37m-manylinux2010_x86_64.whl (37.5 MB)\n",
            "\u001b[K     |████████████████████████████████| 37.5 MB 2.5 MB/s \n",
            "\u001b[?25hRequirement already satisfied: sympy>=1.3 in /usr/local/lib/python3.7/dist-packages (from qiskit-terra==0.19.2->qiskit) (1.7.1)\n",
            "Requirement already satisfied: dill>=0.3 in /usr/local/lib/python3.7/dist-packages (from qiskit-terra==0.19.2->qiskit) (0.3.4)\n",
            "Collecting python-constraint>=1.4\n",
            "  Downloading python-constraint-1.4.0.tar.bz2 (18 kB)\n",
            "Collecting stevedore>=3.0.0\n",
            "  Downloading stevedore-3.5.0-py3-none-any.whl (49 kB)\n",
            "\u001b[K     |████████████████████████████████| 49 kB 6.9 MB/s \n",
            "\u001b[?25hRequirement already satisfied: psutil>=5 in /usr/local/lib/python3.7/dist-packages (from qiskit-terra==0.19.2->qiskit) (5.4.8)\n",
            "Collecting scipy>=1.0\n",
            "  Downloading scipy-1.7.3-cp37-cp37m-manylinux_2_12_x86_64.manylinux2010_x86_64.whl (38.1 MB)\n",
            "\u001b[K     |████████████████████████████████| 38.1 MB 1.3 MB/s \n",
            "\u001b[?25hCollecting ply>=3.10\n",
            "  Downloading ply-3.11-py2.py3-none-any.whl (49 kB)\n",
            "\u001b[K     |████████████████████████████████| 49 kB 6.7 MB/s \n",
            "\u001b[?25hRequirement already satisfied: six>=1.5 in /usr/local/lib/python3.7/dist-packages (from python-dateutil>=2.8.0->qiskit-ibmq-provider==0.18.3->qiskit) (1.15.0)\n",
            "Requirement already satisfied: chardet<4,>=3.0.2 in /usr/local/lib/python3.7/dist-packages (from requests>=2.19->qiskit-ibmq-provider==0.18.3->qiskit) (3.0.4)\n",
            "Requirement already satisfied: idna<3,>=2.5 in /usr/local/lib/python3.7/dist-packages (from requests>=2.19->qiskit-ibmq-provider==0.18.3->qiskit) (2.10)\n",
            "Requirement already satisfied: certifi>=2017.4.17 in /usr/local/lib/python3.7/dist-packages (from requests>=2.19->qiskit-ibmq-provider==0.18.3->qiskit) (2021.10.8)\n",
            "Collecting cryptography>=1.3\n",
            "  Downloading cryptography-36.0.2-cp36-abi3-manylinux_2_24_x86_64.whl (3.6 MB)\n",
            "\u001b[K     |████████████████████████████████| 3.6 MB 46.1 MB/s \n",
            "\u001b[?25hCollecting ntlm-auth>=1.0.2\n",
            "  Downloading ntlm_auth-1.5.0-py2.py3-none-any.whl (29 kB)\n",
            "Requirement already satisfied: cffi>=1.12 in /usr/local/lib/python3.7/dist-packages (from cryptography>=1.3->requests-ntlm>=1.1.0->qiskit-ibmq-provider==0.18.3->qiskit) (1.15.0)\n",
            "Requirement already satisfied: pycparser in /usr/local/lib/python3.7/dist-packages (from cffi>=1.12->cryptography>=1.3->requests-ntlm>=1.1.0->qiskit-ibmq-provider==0.18.3->qiskit) (2.21)\n",
            "Requirement already satisfied: importlib-metadata>=1.7.0 in /usr/local/lib/python3.7/dist-packages (from stevedore>=3.0.0->qiskit-terra==0.19.2->qiskit) (4.11.3)\n",
            "Collecting pbr!=2.1.0,>=2.0.0\n",
            "  Downloading pbr-5.8.1-py2.py3-none-any.whl (113 kB)\n",
            "\u001b[K     |████████████████████████████████| 113 kB 53.3 MB/s \n",
            "\u001b[?25hRequirement already satisfied: zipp>=0.5 in /usr/local/lib/python3.7/dist-packages (from importlib-metadata>=1.7.0->stevedore>=3.0.0->qiskit-terra==0.19.2->qiskit) (3.7.0)\n",
            "Requirement already satisfied: typing-extensions>=3.6.4 in /usr/local/lib/python3.7/dist-packages (from importlib-metadata>=1.7.0->stevedore>=3.0.0->qiskit-terra==0.19.2->qiskit) (3.10.0.2)\n",
            "Requirement already satisfied: mpmath>=0.19 in /usr/local/lib/python3.7/dist-packages (from sympy>=1.3->qiskit-terra==0.19.2->qiskit) (1.2.1)\n",
            "Building wheels for collected packages: qiskit, python-constraint\n",
            "  Building wheel for qiskit (setup.py) ... \u001b[?25l\u001b[?25hdone\n",
            "  Created wheel for qiskit: filename=qiskit-0.34.2-py3-none-any.whl size=11805 sha256=7cfd44bd7390c612e7ee0beaf51fe72824403aea59502e31bd48d8bfee42beeb\n",
            "  Stored in directory: /root/.cache/pip/wheels/62/77/65/cda6eedfdd2a525bd3f479a4386930ae3088a1eb01f8c944ed\n",
            "  Building wheel for python-constraint (setup.py) ... \u001b[?25l\u001b[?25hdone\n",
            "  Created wheel for python-constraint: filename=python_constraint-1.4.0-py2.py3-none-any.whl size=24081 sha256=bb85557f4e028b5dd9bef37780ba84224392d08eb59727a556ca5bbe724cd87e\n",
            "  Stored in directory: /root/.cache/pip/wheels/07/27/db/1222c80eb1e431f3d2199c12569cb1cac60f562a451fe30479\n",
            "Successfully built qiskit python-constraint\n",
            "Installing collected packages: pbr, tweedledum, symengine, stevedore, scipy, python-constraint, ply, ntlm-auth, cryptography, websocket-client, requests-ntlm, qiskit-terra, qiskit-ignis, qiskit-ibmq-provider, qiskit-aer, qiskit\n",
            "  Attempting uninstall: scipy\n",
            "    Found existing installation: scipy 1.4.1\n",
            "    Uninstalling scipy-1.4.1:\n",
            "      Successfully uninstalled scipy-1.4.1\n",
            "\u001b[31mERROR: pip's dependency resolver does not currently take into account all the packages that are installed. This behaviour is the source of the following dependency conflicts.\n",
            "albumentations 0.1.12 requires imgaug<0.2.7,>=0.2.5, but you have imgaug 0.2.9 which is incompatible.\u001b[0m\n",
            "Successfully installed cryptography-36.0.2 ntlm-auth-1.5.0 pbr-5.8.1 ply-3.11 python-constraint-1.4.0 qiskit-0.34.2 qiskit-aer-0.10.3 qiskit-ibmq-provider-0.18.3 qiskit-ignis-0.7.0 qiskit-terra-0.19.2 requests-ntlm-1.1.0 scipy-1.7.3 stevedore-3.5.0 symengine-0.9.2 tweedledum-1.1.1 websocket-client-1.3.1\n",
            "Collecting qiskit_optimization\n",
            "  Downloading qiskit_optimization-0.3.1-py3-none-any.whl (154 kB)\n",
            "\u001b[K     |████████████████████████████████| 154 kB 23.7 MB/s \n",
            "\u001b[?25hCollecting docplex>=2.21.207\n",
            "  Downloading docplex-2.23.222.tar.gz (610 kB)\n",
            "\u001b[K     |████████████████████████████████| 610 kB 40.1 MB/s \n",
            "\u001b[?25hRequirement already satisfied: numpy>=1.17 in /usr/local/lib/python3.7/dist-packages (from qiskit_optimization) (1.21.5)\n",
            "Requirement already satisfied: scipy>=1.4 in /usr/local/lib/python3.7/dist-packages (from qiskit_optimization) (1.7.3)\n",
            "Requirement already satisfied: setuptools>=40.1.0 in /usr/local/lib/python3.7/dist-packages (from qiskit_optimization) (57.4.0)\n",
            "Collecting networkx<2.6,>=2.2\n",
            "  Downloading networkx-2.5.1-py3-none-any.whl (1.6 MB)\n",
            "\u001b[K     |████████████████████████████████| 1.6 MB 51.4 MB/s \n",
            "\u001b[?25hRequirement already satisfied: qiskit-terra>=0.19.1 in /usr/local/lib/python3.7/dist-packages (from qiskit_optimization) (0.19.2)\n",
            "Requirement already satisfied: six in /usr/local/lib/python3.7/dist-packages (from docplex>=2.21.207->qiskit_optimization) (1.15.0)\n",
            "Requirement already satisfied: decorator<5,>=4.3 in /usr/local/lib/python3.7/dist-packages (from networkx<2.6,>=2.2->qiskit_optimization) (4.4.2)\n",
            "Requirement already satisfied: psutil>=5 in /usr/local/lib/python3.7/dist-packages (from qiskit-terra>=0.19.1->qiskit_optimization) (5.4.8)\n",
            "Requirement already satisfied: retworkx>=0.10.1 in /usr/local/lib/python3.7/dist-packages (from qiskit-terra>=0.19.1->qiskit_optimization) (0.11.0)\n",
            "Requirement already satisfied: ply>=3.10 in /usr/local/lib/python3.7/dist-packages (from qiskit-terra>=0.19.1->qiskit_optimization) (3.11)\n",
            "Requirement already satisfied: python-constraint>=1.4 in /usr/local/lib/python3.7/dist-packages (from qiskit-terra>=0.19.1->qiskit_optimization) (1.4.0)\n",
            "Requirement already satisfied: sympy>=1.3 in /usr/local/lib/python3.7/dist-packages (from qiskit-terra>=0.19.1->qiskit_optimization) (1.7.1)\n",
            "Requirement already satisfied: stevedore>=3.0.0 in /usr/local/lib/python3.7/dist-packages (from qiskit-terra>=0.19.1->qiskit_optimization) (3.5.0)\n",
            "Requirement already satisfied: python-dateutil>=2.8.0 in /usr/local/lib/python3.7/dist-packages (from qiskit-terra>=0.19.1->qiskit_optimization) (2.8.2)\n",
            "Requirement already satisfied: dill>=0.3 in /usr/local/lib/python3.7/dist-packages (from qiskit-terra>=0.19.1->qiskit_optimization) (0.3.4)\n",
            "Requirement already satisfied: symengine>=0.8 in /usr/local/lib/python3.7/dist-packages (from qiskit-terra>=0.19.1->qiskit_optimization) (0.9.2)\n",
            "Requirement already satisfied: tweedledum<2.0,>=1.1 in /usr/local/lib/python3.7/dist-packages (from qiskit-terra>=0.19.1->qiskit_optimization) (1.1.1)\n",
            "Requirement already satisfied: pbr!=2.1.0,>=2.0.0 in /usr/local/lib/python3.7/dist-packages (from stevedore>=3.0.0->qiskit-terra>=0.19.1->qiskit_optimization) (5.8.1)\n",
            "Requirement already satisfied: importlib-metadata>=1.7.0 in /usr/local/lib/python3.7/dist-packages (from stevedore>=3.0.0->qiskit-terra>=0.19.1->qiskit_optimization) (4.11.3)\n",
            "Requirement already satisfied: zipp>=0.5 in /usr/local/lib/python3.7/dist-packages (from importlib-metadata>=1.7.0->stevedore>=3.0.0->qiskit-terra>=0.19.1->qiskit_optimization) (3.7.0)\n",
            "Requirement already satisfied: typing-extensions>=3.6.4 in /usr/local/lib/python3.7/dist-packages (from importlib-metadata>=1.7.0->stevedore>=3.0.0->qiskit-terra>=0.19.1->qiskit_optimization) (3.10.0.2)\n",
            "Requirement already satisfied: mpmath>=0.19 in /usr/local/lib/python3.7/dist-packages (from sympy>=1.3->qiskit-terra>=0.19.1->qiskit_optimization) (1.2.1)\n",
            "Building wheels for collected packages: docplex\n",
            "  Building wheel for docplex (setup.py) ... \u001b[?25l\u001b[?25hdone\n",
            "  Created wheel for docplex: filename=docplex-2.23.222-py3-none-any.whl size=662847 sha256=9f92eb199ff7bbdf9d6ff70f1e7d3197ac08555bad59f832cc16e6a96d6e1b62\n",
            "  Stored in directory: /root/.cache/pip/wheels/a7/c9/fb/cee5a89f304e77a39c466e625ac2830434b76eb8384999d116\n",
            "Successfully built docplex\n",
            "Installing collected packages: networkx, docplex, qiskit-optimization\n",
            "  Attempting uninstall: networkx\n",
            "    Found existing installation: networkx 2.6.3\n",
            "    Uninstalling networkx-2.6.3:\n",
            "      Successfully uninstalled networkx-2.6.3\n",
            "\u001b[31mERROR: pip's dependency resolver does not currently take into account all the packages that are installed. This behaviour is the source of the following dependency conflicts.\n",
            "albumentations 0.1.12 requires imgaug<0.2.7,>=0.2.5, but you have imgaug 0.2.9 which is incompatible.\u001b[0m\n",
            "Successfully installed docplex-2.23.222 networkx-2.5.1 qiskit-optimization-0.3.1\n"
          ]
        }
      ],
      "source": [
        "!pip install pennylane-sf\n",
        "!pip install qiskit\n",
        "!pip install qiskit_optimization"
      ]
    },
    {
      "cell_type": "code",
      "execution_count": 2,
      "metadata": {
        "id": "F5tj-C8xu5W_"
      },
      "outputs": [],
      "source": [
        "import pennylane as qml\n",
        "from pennylane import numpy as np\n",
        "\n",
        "from pandas.plotting import table \n",
        "import pandas as pd\n",
        "import time \n",
        "\n",
        "import networkx as nx\n",
        "import matplotlib.pyplot as plt\n",
        "\n",
        "import plotly\n",
        "import plotly.graph_objects as go\n",
        "import plotly.express as px\n",
        "\n",
        "from docplex.mp.model import Model\n",
        "from qiskit.opflow import Z, X, Y, I\n",
        "from qiskit_optimization.translators import from_docplex_mp\n",
        "from qiskit_optimization.applications import Maxcut, Clique, Knapsack\n",
        "from qiskit_optimization.converters import QuadraticProgramToQubo"
      ]
    },
    {
      "cell_type": "code",
      "execution_count": 3,
      "metadata": {
        "cellView": "form",
        "id": "kVHFu8tDuDm2"
      },
      "outputs": [],
      "source": [
        "#@title Auxilary Function\n",
        "def Had(wires):\n",
        "  qml.RY(np.pi/2, wires=wires)\n",
        "  qml.RX(np.pi, wires=wires)\n",
        "\n",
        "\n",
        "def fully_connected_layer(num_wires):\n",
        "  if num_wires>1:\n",
        "    for wire in range(num_wires-1):\n",
        "      qml.CNOT(wires=[wire, wire+1])\n",
        "    qml.CNOT(wires=[wire+1, 0])\n",
        "\n",
        "def fully_connected_layer_cv(num_wires, var):\n",
        "  if num_wires>1:\n",
        "    for wire in range(num_wires-1):\n",
        "      qml.Beamsplitter(var[wire], np.pi/2, wires=[wire, wire+1])\n",
        "    qml.Beamsplitter(var[-1], np.pi/2, wires=[wire+1, 0])\n",
        "\n",
        "def str2gate(gate):\n",
        "  if gate == 'H':\n",
        "    return Had\n",
        "  elif gate == 'X':\n",
        "    return qml.PauliX\n",
        "  elif gate == 'Y':\n",
        "    return qml.PauliY\n",
        "  elif gate == 'Z':\n",
        "    return qml.PauliZ\n",
        "  elif gate == 'RX':\n",
        "    return qml.RX\n",
        "  elif gate == 'RY':\n",
        "    return qml.RY\n",
        "  elif gate == 'RZ':\n",
        "    return qml.RZ\n",
        "  else:\n",
        "    assert 0, \"Gate not support.\"\n",
        "\n",
        "def controlStr(gate):\n",
        "  if gate == 'RX':\n",
        "    return qml.CNOT\n",
        "  elif gate == 'RY':\n",
        "    return qml.CY\n",
        "  elif gate == 'RZ':\n",
        "    return qml.CZ\n",
        "  else:\n",
        "    assert 0, \"Gate not support.\"\n",
        "    \n",
        "def hamiltonian_from_qiskit(sum_op):\n",
        "\n",
        "\t'''\n",
        "\tThis function takes a qiskit.PauliSumOp as input and\n",
        "\tgives back a Pennylane Hamiltonian as output\n",
        "\n",
        "\tsum_op  = qiskit.PauliSumOp\n",
        "\n",
        "\t'''\n",
        "\top      = sum_op.primitive.to_list()\n",
        "\tn_terms = len(op)\n",
        "\tcoeffs  = []\n",
        "\tpaulis  = []\n",
        "\n",
        "\tfor i in range(n_terms):\n",
        "\t\tpaulis.append(qml.grouping.string_to_pauli_word(\"\".join(list(reversed(op[i][0])))))\n",
        "\t\tcoeffs.append(op[i][1].real)\n",
        "\n",
        "\tp_op = qml.Hamiltonian(coeffs,paulis)\n",
        "\n",
        "\treturn p_op\n",
        "\n",
        "def hamiltonian_from_qiskit_lcu(sum_op):\n",
        "\n",
        "  '''\n",
        "  This function takes a qiskit.PauliSumOp as input and\n",
        "  gives back a Pennylane Hamiltonian as output\n",
        "\n",
        "  sum_op  = qiskit.PauliSumOp\n",
        "\n",
        "  '''\n",
        "  op      = sum_op.primitive.to_list()\n",
        "  n_terms = len(op)\n",
        "  coeffs  = []\n",
        "  paulis  = []\n",
        "\n",
        "  for i in range(n_terms):\n",
        "    if op[i][0]==\"I\":\n",
        "      paulis.append(qml.grouping.string_to_pauli_word(\"\".join(list(reversed(op[i][0])))))\n",
        "    else:\n",
        "      paulis.append(qml.grouping.string_to_pauli_word(\"\".join(list(reversed(op[i][0])))+\"Z\"))\n",
        "    coeffs.append(op[i][1].real)\n",
        "\n",
        "  p_op = qml.Hamiltonian(coeffs,paulis)\n",
        "\n",
        "  return p_op\n",
        "\n",
        "def get_adjacency_matrix(elist):\n",
        "  adjacency_matrix = np.zeros([num_wires, num_wires])\n",
        "\n",
        "  for i,j in elist:\n",
        "    adjacency_matrix[i, j] = 1.0\n",
        "    adjacency_matrix[j, i] = 1.0\n",
        "\n",
        "  return adjacency_matrix\n",
        "\n",
        "def draw_graph(elist, colors):\n",
        "  G = nx.Graph()\n",
        "  #G.add_nodes_from(np.arange(0, n, 1))\n",
        "  # tuple is (i,j,weight) where (i,j) is the edge\n",
        "  G.add_edges_from(elist)\n",
        "  pos = nx.spring_layout(G)\n",
        "  default_axes = plt.axes(frameon=True)\n",
        "  nx.draw_networkx(G, node_color=colors, node_size=600, alpha=0.8, ax=default_axes, pos=pos)\n",
        "\n",
        "def int_to_binary(value, size):\n",
        "  \"\"\"Function that converts an integer to a binary string.\"\"\"\n",
        "\n",
        "  bi = \"{0:b}\".format(value)\n",
        "  if len(bi)<size:\n",
        "    bi = \"0\"*(size-len(bi)) + bi\n",
        "  return bi"
      ]
    },
    {
      "cell_type": "markdown",
      "metadata": {
        "id": "cmviO3033yq1"
      },
      "source": [
        "# **Gradient methods**"
      ]
    },
    {
      "cell_type": "markdown",
      "metadata": {
        "id": "__wEBgF9oflu"
      },
      "source": [
        "## Continuous-variable"
      ]
    },
    {
      "cell_type": "markdown",
      "metadata": {
        "id": "paYNRIsEoze7"
      },
      "source": [
        "### Parameter shift rule"
      ]
    },
    {
      "cell_type": "code",
      "execution_count": 4,
      "metadata": {
        "id": "TWtFpF_iRDdd"
      },
      "outputs": [],
      "source": [
        "def parameter_shift_cv_term(qnode, params, i, j, gate):\n",
        "    s = 0.1\n",
        "    alpha = np.pi/2\n",
        "    \n",
        "\n",
        "    shifted = params.copy()\n",
        "\n",
        "    if gate == 'R' or gate == 'S2' or gate == 'D2' or gate == 'BS1':\n",
        "      shifted[i, j] += alpha\n",
        "      forward = qnode(shifted)  # forward evaluation\n",
        "\n",
        "      shifted[i, j] -= 2*alpha\n",
        "      backward = qnode(shifted) # backward evaluation\n",
        "\n",
        "      return (1/2) * (forward - backward)\n",
        "\n",
        "    elif gate == 'S1':\n",
        "      shifted[i, j] += s\n",
        "      forward = qnode(shifted)  # forward evaluation\n",
        "\n",
        "      shifted[i, j] -= 2*s\n",
        "      backward = qnode(shifted) # backward evaluation\n",
        "\n",
        "      return (1/(2*np.sinh(s))) * (forward - backward)\n",
        "    \n",
        "    elif gate == 'D1' or gate == 'QP':\n",
        "      shifted[i, j] += s\n",
        "      forward = qnode(shifted)  # forward evaluation\n",
        "\n",
        "      shifted[i, j] -= 2*s\n",
        "      backward = qnode(shifted) # backward evaluation\n",
        "\n",
        "      return (1/(2*s)) * (forward - backward)\n",
        "\n",
        "def parameter_shift_cv(qnode, params, ansatz_label_cv):\n",
        "\n",
        "    gradients = np.zeros_like((params))\n",
        "    for i in range(len(gradients)):\n",
        "        for j in range(len(gradients[0])):\n",
        "            gate = ansatz_label_cv[i*len(gradients[0]) + j]\n",
        "            gradients[i, j] += parameter_shift_cv_term(qnode, params, i, j, gate)\n",
        "\n",
        "    return gradients"
      ]
    },
    {
      "cell_type": "markdown",
      "metadata": {
        "id": "BDa9pqIbo1HZ"
      },
      "source": [
        "### Finite difference"
      ]
    },
    {
      "cell_type": "code",
      "execution_count": 5,
      "metadata": {
        "id": "0BeJhEzKRFJQ"
      },
      "outputs": [],
      "source": [
        "def finite_cv_term(qnode, params, i, j):\n",
        "    \n",
        "    eps = 0.01\n",
        "\n",
        "    shifted = params.copy()\n",
        "    \n",
        "    shifted[i, j] += eps\n",
        "    forward = qnode(shifted)  # forward evaluation\n",
        "\n",
        "    shifted[i, j] -= 2*eps\n",
        "    backward = qnode(shifted) # backward evaluation\n",
        "\n",
        "    return (1/(2*eps)) * (forward - backward)\n",
        "\n",
        "def finite_difference_cv(qnode, params):\n",
        "    gradients = np.zeros_like((params))\n",
        "    for i in range(len(gradients)):\n",
        "        for j in range(len(gradients[0])):\n",
        "            gradients[i, j] += finite_cv_term(qnode, params, i, j)\n",
        "\n",
        "    return gradients"
      ]
    },
    {
      "cell_type": "markdown",
      "metadata": {
        "id": "NWTYpAxymxP5"
      },
      "source": [
        "# **Problem Fomulation** "
      ]
    },
    {
      "cell_type": "markdown",
      "metadata": {
        "id": "0ycfqqLcwi9Y"
      },
      "source": [
        "## Max-Cut"
      ]
    },
    {
      "cell_type": "code",
      "execution_count": 6,
      "metadata": {
        "colab": {
          "base_uri": "https://localhost:8080/",
          "height": 248
        },
        "id": "h_A2OYHEnAxJ",
        "outputId": "51955686-90c9-4815-daf8-19f0b9f7c613"
      },
      "outputs": [
        {
          "output_type": "display_data",
          "data": {
            "text/plain": [
              "<Figure size 432x288 with 1 Axes>"
            ],
            "image/png": "[encoded data removed]"
          },
          "metadata": {}
        }
      ],
      "source": [
        "num_wires = 4  # Number of nodes in graph\n",
        "\n",
        "elist_maxcut = [(0, 1), (0, 2), (0, 3), (1, 2), (2, 3)]\n",
        "colors_maxcut = [\"r\" for node in range(num_wires)]\n",
        "\n",
        "draw_graph(elist_maxcut, colors_maxcut)"
      ]
    },
    {
      "cell_type": "code",
      "execution_count": 7,
      "metadata": {
        "colab": {
          "base_uri": "https://localhost:8080/"
        },
        "id": "s8nIxhQgr90x",
        "outputId": "5aa9ad88-337a-44e5-b50e-fc3b2fde9761"
      },
      "outputs": [
        {
          "output_type": "stream",
          "name": "stdout",
          "text": [
            "\\ This file has been generated by DOcplex\n",
            "\\ ENCODING=ISO-8859-1\n",
            "\\Problem name: Max-cut\n",
            "\n",
            "Maximize\n",
            " obj: 3 x_0 + 2 x_1 + 3 x_2 + 2 x_3 + [ - 4 x_0*x_1 - 4 x_0*x_2 - 4 x_0*x_3\n",
            "      - 4 x_1*x_2 - 4 x_2*x_3 ]/2\n",
            "Subject To\n",
            "\n",
            "Bounds\n",
            " 0 <= x_0 <= 1\n",
            " 0 <= x_1 <= 1\n",
            " 0 <= x_2 <= 1\n",
            " 0 <= x_3 <= 1\n",
            "\n",
            "Binaries\n",
            " x_0 x_1 x_2 x_3\n",
            "End\n",
            "\n"
          ]
        }
      ],
      "source": [
        "adjacency_matrix_maxcut = get_adjacency_matrix(elist_maxcut)\n",
        "max_cut = Maxcut(adjacency_matrix_maxcut)\n",
        "qp_maxcut = max_cut.to_quadratic_program()\n",
        "print(qp_maxcut.export_as_lp_string())"
      ]
    },
    {
      "cell_type": "code",
      "execution_count": 8,
      "metadata": {
        "colab": {
          "base_uri": "https://localhost:8080/"
        },
        "id": "bJh8meYXu42W",
        "outputId": "b71c9b5b-455a-414f-8f01-b5ea87b62106"
      },
      "outputs": [
        {
          "output_type": "stream",
          "name": "stdout",
          "text": [
            "Offset: -2.5 \n",
            "\n",
            "Ising Hamiltonian:\n",
            "\n",
            "  (0.5) [Z2 Z3]\n",
            "+ (0.5) [Z1 Z2]\n",
            "+ (0.5) [Z0 Z3]\n",
            "+ (0.5) [Z0 Z2]\n",
            "+ (0.5) [Z0 Z1]\n"
          ]
        }
      ],
      "source": [
        "qubitOp_maxcut, offset_maxcut = qp_maxcut.to_ising()\n",
        "H_maxcut = hamiltonian_from_qiskit(qubitOp_maxcut)\n",
        "H_maxcut_lcu = hamiltonian_from_qiskit_lcu(qubitOp_maxcut)\n",
        "print(\"Offset:\", offset_maxcut,\"\\n\")\n",
        "print(\"Ising Hamiltonian:\\n\")\n",
        "\n",
        "print(H_maxcut)"
      ]
    },
    {
      "cell_type": "markdown",
      "metadata": {
        "id": "JP7twTOrwsE5"
      },
      "source": [
        "## Clique"
      ]
    },
    {
      "cell_type": "code",
      "execution_count": 9,
      "metadata": {
        "colab": {
          "base_uri": "https://localhost:8080/",
          "height": 248
        },
        "id": "wi9JRqMzwrfJ",
        "outputId": "85e5203a-57b7-485a-c764-4be6b5f25bcb"
      },
      "outputs": [
        {
          "output_type": "display_data",
          "data": {
            "text/plain": [
              "<Figure size 432x288 with 1 Axes>"
            ],
            "image/png": "[encoded data removed]"
          },
          "metadata": {}
        }
      ],
      "source": [
        "num_wires = 4  # Number of nodes in graph\n",
        "\n",
        "elist_clique = [(0, 1), (0, 2), (0, 3), (2, 3)]\n",
        "colors_clique = [\"r\" for node in range(num_wires)]\n",
        "\n",
        "draw_graph(elist_clique, colors_clique)"
      ]
    },
    {
      "cell_type": "code",
      "execution_count": 10,
      "metadata": {
        "colab": {
          "base_uri": "https://localhost:8080/"
        },
        "id": "UKC7ThKa0axi",
        "outputId": "ec700d6d-6c25-4116-94af-607bab8cc67b"
      },
      "outputs": [
        {
          "output_type": "stream",
          "name": "stdout",
          "text": [
            "\\ This file has been generated by DOcplex\n",
            "\\ ENCODING=ISO-8859-1\n",
            "\\Problem name: Clique\n",
            "\n",
            "Maximize\n",
            " obj: x_0 + x_1 + x_2 + x_3\n",
            "Subject To\n",
            " c0: x_1 + x_2 <= 1\n",
            " c1: x_1 + x_3 <= 1\n",
            "\n",
            "Bounds\n",
            " 0 <= x_0 <= 1\n",
            " 0 <= x_1 <= 1\n",
            " 0 <= x_2 <= 1\n",
            " 0 <= x_3 <= 1\n",
            "\n",
            "Binaries\n",
            " x_0 x_1 x_2 x_3\n",
            "End\n",
            "\n"
          ]
        }
      ],
      "source": [
        "adjacency_matrix_clique = get_adjacency_matrix(elist_clique)\n",
        "clique = Clique(adjacency_matrix_clique)\n",
        "qp_clique = clique.to_quadratic_program()\n",
        "print(qp_clique.export_as_lp_string())"
      ]
    },
    {
      "cell_type": "code",
      "execution_count": 11,
      "metadata": {
        "colab": {
          "base_uri": "https://localhost:8080/"
        },
        "id": "T1G00BHZ0jkY",
        "outputId": "1df122a3-6102-45fe-f08d-35dac3203bf7"
      },
      "outputs": [
        {
          "output_type": "stream",
          "name": "stdout",
          "text": [
            "Offset: 0.5 \n",
            "\n",
            "Ising Hamiltonian:\n",
            "\n",
            "  (-2.0) [Z1]\n",
            "+ (-0.75) [Z3]\n",
            "+ (-0.75) [Z2]\n",
            "+ (0.5) [Z0]\n",
            "+ (1.25) [Z1 Z3]\n",
            "+ (1.25) [Z1 Z2]\n"
          ]
        }
      ],
      "source": [
        "qp2qubo = QuadraticProgramToQubo()\n",
        "qubo_clique = qp2qubo.convert(qp_clique)\n",
        "\n",
        "qubitOp_clique, offset_clique = qubo_clique.to_ising()\n",
        "H_clique = hamiltonian_from_qiskit(qubitOp_clique)\n",
        "H_clique_lcu = hamiltonian_from_qiskit_lcu(qubitOp_clique)\n",
        "\n",
        "print(\"Offset:\", offset_clique,\"\\n\")\n",
        "print(\"Ising Hamiltonian:\\n\")\n",
        "\n",
        "print(H_clique)"
      ]
    },
    {
      "cell_type": "markdown",
      "metadata": {
        "id": "eUxr-XqQ11hl"
      },
      "source": [
        "## Binary Linear Programming"
      ]
    },
    {
      "cell_type": "code",
      "execution_count": 12,
      "metadata": {
        "colab": {
          "base_uri": "https://localhost:8080/"
        },
        "id": "7PpGA_sn1By9",
        "outputId": "8883c30b-541b-46f2-b7db-cd35dcf9cabf"
      },
      "outputs": [
        {
          "output_type": "stream",
          "name": "stdout",
          "text": [
            "\\ This file has been generated by DOcplex\n",
            "\\ ENCODING=ISO-8859-1\n",
            "\\Problem name: docplex model\n",
            "\n",
            "Minimize\n",
            " obj: 195000 x1 + 96000 x2 + 87000 x3 + 120000 x4\n",
            "Subject To\n",
            " c0: x1 + x3 >= 1\n",
            " c1: x2 + x4 >= 1\n",
            "\n",
            "Bounds\n",
            " 0 <= x1 <= 1\n",
            " 0 <= x2 <= 1\n",
            " 0 <= x3 <= 1\n",
            " 0 <= x4 <= 1\n",
            "\n",
            "Binaries\n",
            " x1 x2 x3 x4\n",
            "End\n",
            "\n"
          ]
        }
      ],
      "source": [
        "blp = Model(\"docplex model\")\n",
        "x1 = blp.binary_var(\"x1\")\n",
        "x2 = blp.binary_var(\"x2\")\n",
        "x3 = blp.binary_var(\"x3\")\n",
        "x4 = blp.binary_var(\"x4\")\n",
        "\n",
        "blp.minimize(195000*x1 + 96000*x2 + 87000*x3 + 120000*x4)\n",
        "blp.add_constraint(x1  + x3 >= 1)\n",
        "blp.add_constraint(x2 + x4 >= 1)\n",
        "\n",
        "# load from a Docplex model\n",
        "qp_blp = from_docplex_mp(blp)\n",
        "print(qp_blp.export_as_lp_string())"
      ]
    },
    {
      "cell_type": "code",
      "execution_count": 13,
      "metadata": {
        "colab": {
          "base_uri": "https://localhost:8080/"
        },
        "id": "WVT7SBFc2N2c",
        "outputId": "77451240-e66c-411a-8db0-79c92ed6ee16"
      },
      "outputs": [
        {
          "output_type": "stream",
          "name": "stdout",
          "text": [
            "Offset: 498000.5 \n",
            "\n",
            "Ising Hamiltonian:\n",
            "\n",
            "  (27000.25) [Z0]\n",
            "+ (64500.25) [Z3]\n",
            "+ (76500.25) [Z1]\n",
            "+ (81000.25) [Z2]\n",
            "+ (124500.25) [Z1 Z3]\n",
            "+ (124500.25) [Z0 Z2]\n"
          ]
        }
      ],
      "source": [
        "qubo_blp = qp2qubo.convert(qp_blp)\n",
        "\n",
        "qubitOp_blp, offset_blp = qubo_blp.to_ising()\n",
        "H_blp = hamiltonian_from_qiskit(qubitOp_blp)\n",
        "H_blp_lcu = hamiltonian_from_qiskit_lcu(qubitOp_blp)\n",
        "\n",
        "print(\"Offset:\", offset_blp,\"\\n\")\n",
        "print(\"Ising Hamiltonian:\\n\")\n",
        "\n",
        "print(H_blp)"
      ]
    },
    {
      "cell_type": "markdown",
      "metadata": {
        "id": "TagenFKd8Gxu"
      },
      "source": [
        "## Knapsack"
      ]
    },
    {
      "cell_type": "code",
      "execution_count": 14,
      "metadata": {
        "colab": {
          "base_uri": "https://localhost:8080/"
        },
        "id": "M5wvhAnO2vAW",
        "outputId": "35ea4211-2b19-429a-cef9-b44df9edf258"
      },
      "outputs": [
        {
          "output_type": "stream",
          "name": "stdout",
          "text": [
            "\\ This file has been generated by DOcplex\n",
            "\\ ENCODING=ISO-8859-1\n",
            "\\Problem name: Knapsack\n",
            "\n",
            "Maximize\n",
            " obj: 2 x_0 + x_1\n",
            "Subject To\n",
            " c0: x_0 + 2 x_1 <= 3\n",
            "\n",
            "Bounds\n",
            " 0 <= x_0 <= 1\n",
            " 0 <= x_1 <= 1\n",
            "\n",
            "Binaries\n",
            " x_0 x_1\n",
            "End\n",
            "\n"
          ]
        }
      ],
      "source": [
        "weights = [1, 2]\n",
        "profits = [2, 1]\n",
        "max_weight = 3\n",
        "knapsack = Knapsack(profits, weights, max_weight)\n",
        "qp_ks = knapsack.to_quadratic_program()\n",
        "print(qp_ks.export_as_lp_string())"
      ]
    },
    {
      "cell_type": "code",
      "execution_count": 15,
      "metadata": {
        "colab": {
          "base_uri": "https://localhost:8080/"
        },
        "id": "8-CP0Veo8Qfq",
        "outputId": "170be9ca-ca9e-46a3-e7c7-aef79dd51dc9"
      },
      "outputs": [
        {
          "output_type": "stream",
          "name": "stdout",
          "text": [
            "Offset: 8.5 \n",
            "\n",
            "Ising Hamiltonian:\n",
            "\n",
            "  (0.5) [Z1]\n",
            "+ (1.0) [Z0]\n",
            "+ (2.0) [Z0 Z2]\n",
            "+ (4.0) [Z2 Z3]\n",
            "+ (4.0) [Z1 Z2]\n",
            "+ (4.0) [Z0 Z3]\n",
            "+ (4.0) [Z0 Z1]\n",
            "+ (8.0) [Z1 Z3]\n"
          ]
        }
      ],
      "source": [
        "qubo_ks = qp2qubo.convert(qp_ks)\n",
        "\n",
        "qubitOp_ks, offset_ks = qubo_ks.to_ising()\n",
        "H_ks = hamiltonian_from_qiskit(qubitOp_ks)\n",
        "H_ks_lcu = hamiltonian_from_qiskit_lcu(qubitOp_ks)\n",
        "\n",
        "print(\"Offset:\", offset_ks,\"\\n\")\n",
        "print(\"Ising Hamiltonian:\\n\")\n",
        "\n",
        "print(H_ks)"
      ]
    },
    {
      "cell_type": "markdown",
      "metadata": {
        "id": "7oOYIsk033zu"
      },
      "source": [
        "# **Optimization**"
      ]
    },
    {
      "cell_type": "markdown",
      "metadata": {
        "id": "kqRA7CVVRbzD"
      },
      "source": [
        "## Discrete-variable"
      ]
    },
    {
      "cell_type": "code",
      "execution_count": 16,
      "metadata": {
        "id": "cmWZibCLr1-6"
      },
      "outputs": [],
      "source": [
        "# guesting ansatz state\n",
        "\n",
        "def ansatz_label_cv(num_wires, num_layers):\n",
        "  label = []\n",
        "  for l in range(num_layers):\n",
        "    for wire in range(num_wires):\n",
        "      label.append(\"R\")\n",
        "      label.append(\"D1\")\n",
        "    for wire in range(num_wires):\n",
        "      label.append(\"BS1\")\n",
        "  return label\n",
        "\n",
        "def ansatz_cv(var, num_wires_cv):\n",
        "    for wire in range(num_wires_cv):\n",
        "      qml.Rotation(var[0+2*wire], wires=wire)\n",
        "      qml.Displacement(var[1+2*wire], 0.0, wires=wire)\n",
        "    fully_connected_layer_cv(num_wires, var[2+2*(num_wires_cv-1):])"
      ]
    },
    {
      "cell_type": "code",
      "execution_count": 17,
      "metadata": {
        "id": "jz3X0YaN5f65"
      },
      "outputs": [],
      "source": [
        "def cost_function_cv(var, problem, num_wires, cutoff_dim):\n",
        "  \n",
        "  dev = qml.device(\"strawberryfields.fock\", wires=num_wires, cutoff_dim=cutoff_dim)\n",
        "  @qml.qnode(dev)\n",
        "  def circuit(var):\n",
        "    for v in var: \n",
        "      ansatz_cv(v, num_wires)\n",
        "    return [qml.expval(qml.X(i)) for i in range(num_wires)]\n",
        "  \n",
        "  answer = circuit(var)\n",
        "  bi_answer = [a/(cutoff_dim-1) for a in answer]\n",
        "  return problem.objective.evaluate(bi_answer)"
      ]
    },
    {
      "cell_type": "markdown",
      "metadata": {
        "id": "U-Uy87BL98bh"
      },
      "source": [
        "Probability distribution of estimated gate "
      ]
    },
    {
      "cell_type": "code",
      "execution_count": 18,
      "metadata": {
        "id": "1tV5rVji9kZv"
      },
      "outputs": [],
      "source": [
        "# prediction circuit\n",
        "def prediction_cv(var, num_param_gates, cutoff_dim):\n",
        "  num_wires = len(var[0])//num_param_gates\n",
        "  dev = qml.device(\"strawberryfields.fock\", wires=num_wires, cutoff_dim=cutoff_dim)\n",
        "  @qml.qnode(dev)\n",
        "  def circuit(var):\n",
        "    for v in var: \n",
        "      ansatz_cv(v, num_wires)\n",
        "    return [qml.expval(qml.X(i)) for i in range(num_wires)] \n",
        "  \n",
        "  answer = circuit(var)\n",
        "  bi_answer = [a/(cutoff_dim-1) for a in answer]\n",
        "  return bi_answer"
      ]
    },
    {
      "cell_type": "code",
      "execution_count": 19,
      "metadata": {
        "id": "d6tRbcsMvM0F"
      },
      "outputs": [],
      "source": [
        "np.random.seed(2)\n",
        "num_layers = 2\n",
        "num_param_gates = 3\n",
        "cutoff_dim = 5\n",
        "\n",
        "var_init_maxcut = 0.5*np.random.randn(num_layers, num_param_gates*len(H_maxcut.wires))\n",
        "var_init_clique = 0.5*np.random.randn(num_layers, num_param_gates*len(H_clique.wires))\n",
        "var_init_blp = 0.5*np.random.randn(num_layers, num_param_gates*len(H_blp.wires))\n",
        "var_init_ks = 0.5*np.random.randn(num_layers, num_param_gates*len(H_ks.wires))\n",
        "\n",
        "steps = [2, 4, 6, 8, 10]"
      ]
    },
    {
      "cell_type": "code",
      "execution_count": 20,
      "metadata": {
        "colab": {
          "base_uri": "https://localhost:8080/"
        },
        "id": "29C6GDYBvUYp",
        "outputId": "211e0fe1-57ed-4c2b-9156-f09c5e670deb"
      },
      "outputs": [
        {
          "output_type": "stream",
          "name": "stdout",
          "text": [
            "Initial cost:  0.5241056650101386\n"
          ]
        }
      ],
      "source": [
        "print(\"Initial cost: \", -cost_function_cv(var_init_maxcut, qp_maxcut, len(H_maxcut.wires), cutoff_dim))"
      ]
    },
    {
      "cell_type": "code",
      "execution_count": 21,
      "metadata": {
        "colab": {
          "base_uri": "https://localhost:8080/"
        },
        "id": "q0a18ZmFIPGh",
        "outputId": "133a84a1-d50d-4e75-9f53-f9d0b40bc310"
      },
      "outputs": [
        {
          "output_type": "stream",
          "name": "stdout",
          "text": [
            "Prediction:  [tensor(-0.31783798, requires_grad=True), tensor(0.1222664, requires_grad=True), tensor(0.06991624, requires_grad=True), tensor(-0.05206348, requires_grad=True)]\n"
          ]
        }
      ],
      "source": [
        "print(\"Prediction: \", prediction_cv(var_init_maxcut, num_param_gates, cutoff_dim))"
      ]
    },
    {
      "cell_type": "markdown",
      "metadata": {
        "id": "7OYcgWKJj3qJ"
      },
      "source": [
        "Function for training optimizer"
      ]
    },
    {
      "cell_type": "code",
      "execution_count": 22,
      "metadata": {
        "id": "xwTUGtTVN2dE"
      },
      "outputs": [],
      "source": [
        "def train(cost_fn, grad_fn, epochs, var_init, lr):\n",
        "  lost_list = []\n",
        "  time_list = []\n",
        "\n",
        "  var = var_init.copy()\n",
        "\n",
        "  opt = qml.RMSPropOptimizer(lr)\n",
        "\n",
        "  start = time.time()\n",
        "\n",
        "  for it in range(epochs):# while True:\n",
        "      var, _cost = opt.step_and_cost(cost_fn, var, grad_fn=grad_fn) \n",
        "      lost_list.append(_cost)\n",
        "\n",
        "      if it%10==0:\n",
        "        print(\"Iter: {:5d} | Cost: {:0.11f} \".format(it, _cost))\n",
        "\n",
        "      end = time.time()\n",
        "      t = end - start\n",
        "      time_list.append(t)\n",
        "\n",
        "  return lost_list, time_list, var"
      ]
    },
    {
      "cell_type": "markdown",
      "metadata": {
        "id": "GQ_q_OtUo69M"
      },
      "source": [
        "Varaible List"
      ]
    },
    {
      "cell_type": "code",
      "execution_count": 23,
      "metadata": {
        "id": "wFNkMofzoveu"
      },
      "outputs": [],
      "source": [
        "# lost list\n",
        "cvpsl = []\n",
        "cvfdl = []\n",
        "\n",
        "# time list\n",
        "cvpst = []\n",
        "cvfdt = []\n",
        "\n",
        "\n",
        "# lost list change num layer\n",
        "cvpslc = []\n",
        "cvfdlc = []\n",
        "\n",
        "# time list change num layer\n",
        "cvpstc = []\n",
        "cvfdtc = []"
      ]
    },
    {
      "cell_type": "markdown",
      "metadata": {
        "id": "C9k03eA5-l06"
      },
      "source": [
        "### Parameter Shift Rule"
      ]
    },
    {
      "cell_type": "markdown",
      "metadata": {
        "id": "84GFiSYSLbKU"
      },
      "source": [
        "#### Max-Cut"
      ]
    },
    {
      "cell_type": "code",
      "execution_count": 24,
      "metadata": {
        "colab": {
          "base_uri": "https://localhost:8080/"
        },
        "id": "0t_JHnhVvfzR",
        "outputId": "0332eacd-7906-48f7-dbe7-0df2fe5e0905"
      },
      "outputs": [
        {
          "output_type": "stream",
          "name": "stdout",
          "text": [
            "Iter:     0 | Cost: 0.52410566501 \n",
            "Iter:    10 | Cost: -2.40159649597 \n",
            "Iter:    20 | Cost: -2.45393151653 \n",
            "Iter:    30 | Cost: -2.56680260074 \n",
            "Iter:    40 | Cost: -2.70715022618 \n",
            "Iter:    50 | Cost: -2.81128418505 \n",
            "Iter:    60 | Cost: -2.86197685654 \n",
            "Iter:    70 | Cost: -2.87492866001 \n",
            "Iter:    80 | Cost: -2.88189850525 \n",
            "Iter:    90 | Cost: -2.81907735862 \n",
            "Iter:   100 | Cost: -2.77116033294 \n"
          ]
        }
      ],
      "source": [
        "lr = 0.03\n",
        "epochs = 101\n",
        "\n",
        "label = ansatz_label_cv(len(H_maxcut.wires), len(var_init_maxcut))\n",
        "\n",
        "cost_fn = lambda v: -cost_function_cv(v, qp_maxcut, len(H_maxcut.wires), cutoff_dim)\n",
        "grad_fn = lambda var: parameter_shift_cv(lambda x: -cost_function_cv(x, qp_maxcut, len(H_maxcut.wires), cutoff_dim), var, label)\n",
        "lost_list, time_list, var = train(cost_fn, grad_fn, epochs, var_init_maxcut, lr)\n",
        "\n",
        "cvpsl.append(lost_list)\n",
        "cvpst.append(time_list)"
      ]
    },
    {
      "cell_type": "code",
      "execution_count": 25,
      "metadata": {
        "colab": {
          "base_uri": "https://localhost:8080/"
        },
        "id": "JkGGtPV0C68a",
        "outputId": "90c880ff-575a-462a-a7d2-905abaccaa46"
      },
      "outputs": [
        {
          "output_type": "stream",
          "name": "stdout",
          "text": [
            "Iter:     0 | Cost: 2.17379373566 \n",
            "Iter:    10 | Cost: -2.20232514301 \n",
            "Iter:     0 | Cost: -1.04051860856 \n",
            "Iter:    10 | Cost: -2.47917169645 \n",
            "Iter:     0 | Cost: 0.24289474443 \n",
            "Iter:    10 | Cost: -2.77269920169 \n",
            "Iter:     0 | Cost: 0.17106788036 \n",
            "Iter:    10 | Cost: -2.63649204051 \n",
            "Iter:     0 | Cost: 0.81646156770 \n",
            "Iter:    10 | Cost: -2.55210410053 \n"
          ]
        }
      ],
      "source": [
        "lr = 0.03\n",
        "epochs = 11\n",
        "\n",
        "np.random.seed(1)\n",
        "num_param_gates = 3\n",
        "\n",
        "temp1 = []\n",
        "temp2 = []\n",
        "\n",
        "for num_layers in steps:\n",
        "  var_init_maxcutc = 0.5*np.random.randn(num_layers, num_param_gates*len(H_maxcut.wires))\n",
        "  label = ansatz_label_cv(len(H_maxcut.wires), len(var_init_maxcutc))\n",
        "  cost_fn = lambda v: -cost_function_cv(v, qp_maxcut, len(H_maxcut.wires), cutoff_dim)\n",
        "  grad_fn = lambda var: parameter_shift_cv(lambda x: -cost_function_cv(x, qp_maxcut, len(H_maxcut.wires), cutoff_dim), var, label)\n",
        "  lost_list, time_list, _ = train(cost_fn, grad_fn, epochs, var_init_maxcutc, lr)\n",
        "  temp1.append(lost_list[-1])\n",
        "  temp2.append(time_list[-1])\n",
        "\n",
        "cvpslc.append(temp1)\n",
        "cvpstc.append(temp2)"
      ]
    },
    {
      "cell_type": "markdown",
      "metadata": {
        "id": "avIv6907onIA"
      },
      "source": [
        "#### Clique"
      ]
    },
    {
      "cell_type": "code",
      "execution_count": 26,
      "metadata": {
        "colab": {
          "base_uri": "https://localhost:8080/"
        },
        "id": "VeV657Avomoc",
        "outputId": "2b11e26b-671e-4443-cab8-8fa0bdbcf8b0"
      },
      "outputs": [
        {
          "output_type": "stream",
          "name": "stdout",
          "text": [
            "Iter:     0 | Cost: -0.17686201608 \n",
            "Iter:    10 | Cost: -1.53307750157 \n",
            "Iter:    20 | Cost: -1.94775401056 \n",
            "Iter:    30 | Cost: -2.06096467150 \n",
            "Iter:    40 | Cost: -2.09595045511 \n",
            "Iter:    50 | Cost: -2.13536810829 \n",
            "Iter:    60 | Cost: -2.15464987454 \n",
            "Iter:    70 | Cost: -2.16839551933 \n",
            "Iter:    80 | Cost: -2.16542826674 \n",
            "Iter:    90 | Cost: -2.14752785932 \n",
            "Iter:   100 | Cost: -2.14554685716 \n"
          ]
        }
      ],
      "source": [
        "lr = 0.03\n",
        "epochs = 101\n",
        "\n",
        "label = ansatz_label_cv(len(H_clique.wires), len(var_init_clique))\n",
        "\n",
        "cost_fn = lambda v: -cost_function_cv(v, qp_clique, len(H_clique.wires), cutoff_dim)\n",
        "grad_fn = lambda var: parameter_shift_cv(lambda x: -cost_function_cv(x, qp_clique, len(H_clique.wires), cutoff_dim), var, label)\n",
        "lost_list, time_list, var = train(cost_fn, grad_fn, epochs, var_init_clique, lr)\n",
        "cvpsl.append(lost_list)\n",
        "cvpst.append(time_list)"
      ]
    },
    {
      "cell_type": "code",
      "execution_count": 27,
      "metadata": {
        "colab": {
          "base_uri": "https://localhost:8080/"
        },
        "id": "1tizbT_CPjbC",
        "outputId": "97bab7c6-6dfe-4f8c-a82e-e51923b7b6fc"
      },
      "outputs": [
        {
          "output_type": "stream",
          "name": "stdout",
          "text": [
            "Iter:     0 | Cost: 0.66427969596 \n",
            "Iter:    10 | Cost: -1.52633286982 \n",
            "Iter:     0 | Cost: -0.51183532964 \n",
            "Iter:    10 | Cost: -1.79829948408 \n",
            "Iter:     0 | Cost: 0.11444323607 \n",
            "Iter:    10 | Cost: -1.82778174111 \n",
            "Iter:     0 | Cost: 0.03324992659 \n",
            "Iter:    10 | Cost: -1.64958844428 \n",
            "Iter:     0 | Cost: 0.39001603150 \n",
            "Iter:    10 | Cost: -1.85157436014 \n"
          ]
        }
      ],
      "source": [
        "lr = 0.03\n",
        "epochs = 11\n",
        "\n",
        "np.random.seed(1)\n",
        "num_param_gates = 3\n",
        "\n",
        "temp1 = []\n",
        "temp2 = []\n",
        "\n",
        "for num_layers in steps:\n",
        "  var_init_cliquec = 0.5*np.random.randn(num_layers, num_param_gates*len(H_clique.wires))\n",
        "  label = ansatz_label_cv(len(H_clique.wires), len(var_init_cliquec))\n",
        "  cost_fn = lambda v: -cost_function_cv(v, qp_clique, len(H_clique.wires), cutoff_dim)\n",
        "  grad_fn = lambda var: parameter_shift_cv(lambda x: -cost_function_cv(x, qp_clique, len(H_clique.wires), cutoff_dim), var, label)\n",
        "  lost_list, time_list, _ = train(cost_fn, grad_fn, epochs, var_init_cliquec, lr)\n",
        "  temp1.append(lost_list[-1])\n",
        "  temp2.append(time_list[-1])\n",
        "\n",
        "cvpslc.append(temp1)\n",
        "cvpstc.append(temp2)"
      ]
    },
    {
      "cell_type": "markdown",
      "metadata": {
        "id": "hU-zm57fpZqa"
      },
      "source": [
        "#### Binary Linear Programming"
      ]
    },
    {
      "cell_type": "code",
      "execution_count": 28,
      "metadata": {
        "colab": {
          "base_uri": "https://localhost:8080/"
        },
        "id": "W8Hast63pcdJ",
        "outputId": "7eeadbcb-16b5-4c13-ee27-0305737c2b05"
      },
      "outputs": [
        {
          "output_type": "stream",
          "name": "stdout",
          "text": [
            "Iter:     0 | Cost: 946844.74802892515 \n",
            "Iter:    10 | Cost: 555666.97950018069 \n",
            "Iter:    20 | Cost: 544625.31261982280 \n",
            "Iter:    30 | Cost: 516679.01143835223 \n",
            "Iter:    40 | Cost: 503645.09034954058 \n",
            "Iter:    50 | Cost: 505163.53921315423 \n",
            "Iter:    60 | Cost: 517663.20118668687 \n",
            "Iter:    70 | Cost: 510344.62457496638 \n",
            "Iter:    80 | Cost: 508771.50212041021 \n",
            "Iter:    90 | Cost: 533276.59838924033 \n",
            "Iter:   100 | Cost: 533046.28323210496 \n"
          ]
        }
      ],
      "source": [
        "lr = 0.03\n",
        "epochs = 101\n",
        "\n",
        "label = ansatz_label_cv(len(H_blp.wires), len(var_init_blp))\n",
        "\n",
        "cost_fn = lambda v: cost_function_cv(v, qubo_blp, len(H_blp.wires), cutoff_dim)\n",
        "grad_fn = lambda var: parameter_shift_cv(lambda x: cost_function_cv(x, qubo_blp, len(H_blp.wires), cutoff_dim), var, label)\n",
        "lost_list, time_list, var = train(cost_fn, grad_fn, epochs, var_init_blp, lr)\n",
        "cvpsl.append(lost_list)\n",
        "cvpst.append(time_list)"
      ]
    },
    {
      "cell_type": "code",
      "execution_count": 29,
      "metadata": {
        "colab": {
          "base_uri": "https://localhost:8080/"
        },
        "id": "qs-Bfd4tQGE9",
        "outputId": "0babace2-922d-4f37-f453-598838342958"
      },
      "outputs": [
        {
          "output_type": "stream",
          "name": "stdout",
          "text": [
            "Iter:     0 | Cost: 1253891.48753021704 \n",
            "Iter:    10 | Cost: 593039.85417541536 \n",
            "Iter:     0 | Cost: 761424.07138991531 \n",
            "Iter:    10 | Cost: 524242.99145188765 \n",
            "Iter:     0 | Cost: 1012154.67579492705 \n",
            "Iter:    10 | Cost: 511056.02133466717 \n",
            "Iter:     0 | Cost: 991243.49878421845 \n",
            "Iter:    10 | Cost: 534850.45469624223 \n",
            "Iter:     0 | Cost: 1069741.24519491778 \n",
            "Iter:    10 | Cost: 521513.83081078989 \n"
          ]
        }
      ],
      "source": [
        "lr = 0.03\n",
        "epochs = 11\n",
        "\n",
        "np.random.seed(1)\n",
        "num_param_gates = 3\n",
        "\n",
        "temp1 = []\n",
        "temp2 = []\n",
        "\n",
        "for num_layers in steps:\n",
        "  var_init_blpc = 0.5*np.random.randn(num_layers, num_param_gates*len(H_blp.wires))\n",
        "  label = ansatz_label_cv(len(H_blp.wires), len(var_init_blpc))\n",
        "  cost_fn = lambda v: cost_function_cv(v, qubo_blp, len(H_blp.wires), cutoff_dim)\n",
        "  grad_fn = lambda var: parameter_shift_cv(lambda x: cost_function_cv(x, qubo_blp, len(H_blp.wires), cutoff_dim), var, label)\n",
        "  lost_list, time_list, _ = train(cost_fn, grad_fn, epochs, var_init_blpc, lr)\n",
        "  temp1.append(lost_list[-1])\n",
        "  temp2.append(time_list[-1])\n",
        "\n",
        "cvpslc.append(temp1)\n",
        "cvpstc.append(temp2)"
      ]
    },
    {
      "cell_type": "markdown",
      "metadata": {
        "id": "jNYQSrLapiIV"
      },
      "source": [
        "#### Knapsack"
      ]
    },
    {
      "cell_type": "code",
      "execution_count": 30,
      "metadata": {
        "colab": {
          "base_uri": "https://localhost:8080/"
        },
        "id": "RpFPvkz-pkzz",
        "outputId": "dcfc4213-bed0-4048-98fb-dcb1ed4f0d49"
      },
      "outputs": [
        {
          "output_type": "stream",
          "name": "stdout",
          "text": [
            "Iter:     0 | Cost: 20.20599352456 \n",
            "Iter:    10 | Cost: 0.87726232453 \n",
            "Iter:    20 | Cost: -0.98850624751 \n",
            "Iter:    30 | Cost: -1.27905890909 \n",
            "Iter:    40 | Cost: -1.47077292246 \n",
            "Iter:    50 | Cost: -1.61863417437 \n",
            "Iter:    60 | Cost: -1.63791663451 \n",
            "Iter:    70 | Cost: -1.60359946979 \n",
            "Iter:    80 | Cost: -1.56545358729 \n",
            "Iter:    90 | Cost: -1.51901298845 \n",
            "Iter:   100 | Cost: -1.56025077493 \n"
          ]
        }
      ],
      "source": [
        "lr = 0.03\n",
        "epochs = 101\n",
        "\n",
        "label = ansatz_label_cv(len(H_ks.wires), len(var_init_ks))\n",
        "\n",
        "cost_fn = lambda v: cost_function_cv(v, qubo_ks, len(H_ks.wires), cutoff_dim)\n",
        "grad_fn = lambda var: parameter_shift_cv(lambda x: cost_function_cv(x, qubo_ks, len(H_ks.wires), cutoff_dim), var, label)\n",
        "lost_list, time_list, var = train(cost_fn, grad_fn, epochs, var_init_ks, lr)\n",
        "cvpsl.append(lost_list)\n",
        "cvpst.append(time_list)"
      ]
    },
    {
      "cell_type": "code",
      "execution_count": 31,
      "metadata": {
        "colab": {
          "base_uri": "https://localhost:8080/"
        },
        "id": "cqwnUTnVQWHV",
        "outputId": "5957d6aa-65fc-4d44-a824-b77b6fea1dba"
      },
      "outputs": [
        {
          "output_type": "stream",
          "name": "stdout",
          "text": [
            "Iter:     0 | Cost: 56.32885241565 \n",
            "Iter:    10 | Cost: 2.90702374124 \n",
            "Iter:     0 | Cost: 16.19058407381 \n",
            "Iter:    10 | Cost: -0.96036730116 \n",
            "Iter:     0 | Cost: 41.25918982040 \n",
            "Iter:    10 | Cost: -1.14047428485 \n",
            "Iter:     0 | Cost: 34.52189278944 \n",
            "Iter:    10 | Cost: -0.43329873171 \n",
            "Iter:     0 | Cost: 53.89979364592 \n",
            "Iter:    10 | Cost: -0.79248908782 \n"
          ]
        }
      ],
      "source": [
        "lr = 0.03\n",
        "epochs = 11\n",
        "\n",
        "np.random.seed(1)\n",
        "num_param_gates = 3\n",
        "\n",
        "temp1 = []\n",
        "temp2 = []\n",
        "\n",
        "for num_layers in steps:\n",
        "  var_init_ksc = 0.5*np.random.randn(num_layers, num_param_gates*len(H_ks.wires))\n",
        "  label = ansatz_label_cv(len(H_ks.wires), len(var_init_ksc))\n",
        "  cost_fn = lambda v: cost_function_cv(v, qubo_ks, len(H_ks.wires), cutoff_dim)\n",
        "  grad_fn = lambda var: parameter_shift_cv(lambda x: cost_function_cv(x, qubo_ks, len(H_ks.wires), cutoff_dim), var, label)\n",
        "  lost_list, time_list, _ = train(cost_fn, grad_fn, epochs, var_init_ksc, lr)\n",
        "  temp1.append(lost_list[-1])\n",
        "  temp2.append(time_list[-1])\n",
        "\n",
        "cvpslc.append(temp1)\n",
        "cvpstc.append(temp2)"
      ]
    },
    {
      "cell_type": "markdown",
      "metadata": {
        "id": "WTA8kfPKptwn"
      },
      "source": [
        "### Finite Difference"
      ]
    },
    {
      "cell_type": "markdown",
      "metadata": {
        "id": "wF1J0w4OkjWc"
      },
      "source": [
        "#### Max-Cut"
      ]
    },
    {
      "cell_type": "code",
      "execution_count": 32,
      "metadata": {
        "id": "BR87ifUYRp4l",
        "colab": {
          "base_uri": "https://localhost:8080/"
        },
        "outputId": "975dc31c-035c-45c9-fbf9-22f0d0fb6929"
      },
      "outputs": [
        {
          "output_type": "stream",
          "name": "stdout",
          "text": [
            "Iter:     0 | Cost: 0.52410566501 \n",
            "Iter:    10 | Cost: -2.41531795094 \n",
            "Iter:    20 | Cost: -2.49279091501 \n",
            "Iter:    30 | Cost: -2.54778524719 \n",
            "Iter:    40 | Cost: -2.67811154498 \n",
            "Iter:    50 | Cost: -2.78177555534 \n",
            "Iter:    60 | Cost: -2.80406748294 \n",
            "Iter:    70 | Cost: -2.81211197276 \n",
            "Iter:    80 | Cost: -2.81095954437 \n",
            "Iter:    90 | Cost: -2.81379174224 \n",
            "Iter:   100 | Cost: -2.81614037946 \n"
          ]
        }
      ],
      "source": [
        "lr = 0.03\n",
        "epochs = 101\n",
        "\n",
        "cost_fn = lambda v: -cost_function_cv(v, qp_maxcut, len(H_maxcut.wires), cutoff_dim)\n",
        "grad_fn = lambda var: finite_difference_cv(lambda x: -cost_function_cv(x, qp_maxcut, len(H_maxcut.wires), cutoff_dim), var)\n",
        "lost_list, time_list, var = train(cost_fn, grad_fn, epochs, var_init_maxcut, lr)\n",
        "cvfdl.append(lost_list)\n",
        "cvfdt.append(time_list)"
      ]
    },
    {
      "cell_type": "code",
      "execution_count": 33,
      "metadata": {
        "id": "8mTRZkyoQi6b",
        "colab": {
          "base_uri": "https://localhost:8080/"
        },
        "outputId": "cacefe20-25c0-4847-c7e5-12726218f9aa"
      },
      "outputs": [
        {
          "output_type": "stream",
          "name": "stdout",
          "text": [
            "Iter:     0 | Cost: 2.17379373566 \n",
            "Iter:    10 | Cost: -2.12566593987 \n",
            "Iter:     0 | Cost: -1.04051860856 \n",
            "Iter:    10 | Cost: -2.47138382351 \n",
            "Iter:     0 | Cost: 0.24289474443 \n",
            "Iter:    10 | Cost: -2.74394189794 \n",
            "Iter:     0 | Cost: 0.17106788036 \n",
            "Iter:    10 | Cost: -2.66368487627 \n",
            "Iter:     0 | Cost: 0.81646156770 \n",
            "Iter:    10 | Cost: -2.63871658747 \n"
          ]
        }
      ],
      "source": [
        "lr = 0.03\n",
        "epochs = 11\n",
        "\n",
        "np.random.seed(1)\n",
        "num_param_gates = 3\n",
        "\n",
        "temp1 = []\n",
        "temp2 = []\n",
        "\n",
        "for num_layers in steps:\n",
        "  var_init_maxcutc = 0.5*np.random.randn(num_layers, num_param_gates*len(H_maxcut.wires))\n",
        "\n",
        "  cost_fn = lambda v: -cost_function_cv(v, qp_maxcut, len(H_maxcut.wires), cutoff_dim)\n",
        "  grad_fn = lambda var: finite_difference_cv(lambda x: -cost_function_cv(x, qp_maxcut, len(H_maxcut.wires), cutoff_dim), var)\n",
        "  lost_list, time_list, _ = train(cost_fn, grad_fn, epochs, var_init_maxcutc, lr)\n",
        "  temp1.append(lost_list[-1])\n",
        "  temp2.append(time_list[-1])\n",
        "\n",
        "cvfdlc.append(temp1)\n",
        "cvfdtc.append(temp2)"
      ]
    },
    {
      "cell_type": "markdown",
      "metadata": {
        "id": "gpzvRU81ksvP"
      },
      "source": [
        "#### Clique"
      ]
    },
    {
      "cell_type": "code",
      "execution_count": 34,
      "metadata": {
        "id": "hmcZlYu-kusq",
        "colab": {
          "base_uri": "https://localhost:8080/"
        },
        "outputId": "3af17bce-6c98-4cc3-9980-bec042b5dd5c"
      },
      "outputs": [
        {
          "output_type": "stream",
          "name": "stdout",
          "text": [
            "Iter:     0 | Cost: -0.17686201608 \n",
            "Iter:    10 | Cost: -1.53471324901 \n",
            "Iter:    20 | Cost: -2.00867754645 \n",
            "Iter:    30 | Cost: -2.14520998180 \n",
            "Iter:    40 | Cost: -2.16324152411 \n",
            "Iter:    50 | Cost: -2.16147041598 \n",
            "Iter:    60 | Cost: -2.16071480888 \n",
            "Iter:    70 | Cost: -2.16221660527 \n",
            "Iter:    80 | Cost: -2.16231616556 \n",
            "Iter:    90 | Cost: -2.16370321468 \n",
            "Iter:   100 | Cost: -2.16993393331 \n"
          ]
        }
      ],
      "source": [
        "lr = 0.03\n",
        "epochs = 101\n",
        "\n",
        "cost_fn = lambda v: -cost_function_cv(v, qp_clique, len(H_clique.wires), cutoff_dim)\n",
        "grad_fn = lambda var: finite_difference_cv(lambda x: -cost_function_cv(x, qp_clique, len(H_clique.wires), cutoff_dim), var)\n",
        "lost_list, time_list, var = train(cost_fn, grad_fn, epochs, var_init_clique, lr)\n",
        "cvfdl.append(lost_list)\n",
        "cvfdt.append(time_list)"
      ]
    },
    {
      "cell_type": "code",
      "execution_count": 35,
      "metadata": {
        "id": "A_H9uW-gQut-",
        "colab": {
          "base_uri": "https://localhost:8080/"
        },
        "outputId": "ca08eda1-34f6-485b-e986-37220df36a29"
      },
      "outputs": [
        {
          "output_type": "stream",
          "name": "stdout",
          "text": [
            "Iter:     0 | Cost: 0.66427969596 \n",
            "Iter:    10 | Cost: -1.46086600909 \n",
            "Iter:     0 | Cost: -0.51183532964 \n",
            "Iter:    10 | Cost: -1.80079920302 \n",
            "Iter:     0 | Cost: 0.11444323607 \n",
            "Iter:    10 | Cost: -1.91102828782 \n",
            "Iter:     0 | Cost: 0.03324992659 \n",
            "Iter:    10 | Cost: -1.71197685174 \n",
            "Iter:     0 | Cost: 0.39001603150 \n",
            "Iter:    10 | Cost: -1.73304858509 \n"
          ]
        }
      ],
      "source": [
        "lr = 0.03\n",
        "epochs = 11\n",
        "\n",
        "np.random.seed(1)\n",
        "num_param_gates = 3\n",
        "\n",
        "temp1 = []\n",
        "temp2 = []\n",
        "\n",
        "for num_layers in steps:\n",
        "  var_init_cliquec = 0.5*np.random.randn(num_layers, num_param_gates*len(H_clique.wires))\n",
        "\n",
        "  cost_fn = lambda v: -cost_function_cv(v, qp_clique, len(H_clique.wires), cutoff_dim)\n",
        "  grad_fn = lambda var: finite_difference_cv(lambda x: -cost_function_cv(x, qp_clique, len(H_clique.wires), cutoff_dim), var)\n",
        "  lost_list, time_list, _ = train(cost_fn, grad_fn, epochs, var_init_cliquec, lr)\n",
        "  temp1.append(lost_list[-1])\n",
        "  temp2.append(time_list[-1])\n",
        "\n",
        "cvfdlc.append(temp1)\n",
        "cvfdtc.append(temp2)"
      ]
    },
    {
      "cell_type": "markdown",
      "metadata": {
        "id": "JUW4-obPk4JG"
      },
      "source": [
        "#### Binary Linear Programming"
      ]
    },
    {
      "cell_type": "code",
      "execution_count": 36,
      "metadata": {
        "id": "ulpG-fsHk7EB",
        "colab": {
          "base_uri": "https://localhost:8080/"
        },
        "outputId": "56dafe6a-eea1-416e-e715-4bcd46b43adf"
      },
      "outputs": [
        {
          "output_type": "stream",
          "name": "stdout",
          "text": [
            "Iter:     0 | Cost: 946844.74802892515 \n",
            "Iter:    10 | Cost: 549469.10852562136 \n",
            "Iter:    20 | Cost: 512756.03881963389 \n",
            "Iter:    30 | Cost: 489177.93183090899 \n",
            "Iter:    40 | Cost: 476541.99680161895 \n",
            "Iter:    50 | Cost: 475287.68697061716 \n",
            "Iter:    60 | Cost: 474651.10847732530 \n",
            "Iter:    70 | Cost: 474198.84369749873 \n",
            "Iter:    80 | Cost: 473600.69784925965 \n",
            "Iter:    90 | Cost: 473072.66624018631 \n",
            "Iter:   100 | Cost: 472869.75233304501 \n"
          ]
        }
      ],
      "source": [
        "lr = 0.03\n",
        "epochs = 101\n",
        "\n",
        "cost_fn = lambda v: cost_function_cv(v, qubo_blp, len(H_blp.wires), cutoff_dim)\n",
        "grad_fn = lambda var: finite_difference_cv(lambda x: cost_function_cv(x, qubo_blp, len(H_blp.wires), cutoff_dim), var)\n",
        "lost_list, time_list, var = train(cost_fn, grad_fn, epochs, var_init_blp, lr)\n",
        "cvfdl.append(lost_list)\n",
        "cvfdt.append(time_list)"
      ]
    },
    {
      "cell_type": "code",
      "execution_count": 37,
      "metadata": {
        "id": "8I6I0lyxQySF",
        "colab": {
          "base_uri": "https://localhost:8080/"
        },
        "outputId": "3616fb7f-8d8f-48d1-d82d-f1e39956f47e"
      },
      "outputs": [
        {
          "output_type": "stream",
          "name": "stdout",
          "text": [
            "Iter:     0 | Cost: 1253891.48753021704 \n",
            "Iter:    10 | Cost: 584829.26882307662 \n",
            "Iter:     0 | Cost: 761424.07138991531 \n",
            "Iter:    10 | Cost: 523783.27092272218 \n",
            "Iter:     0 | Cost: 1012154.67579492705 \n",
            "Iter:    10 | Cost: 507099.32953330391 \n",
            "Iter:     0 | Cost: 991243.49878421845 \n",
            "Iter:    10 | Cost: 522049.17283640569 \n",
            "Iter:     0 | Cost: 1069741.24519491778 \n",
            "Iter:    10 | Cost: 477378.07263267739 \n"
          ]
        }
      ],
      "source": [
        "lr = 0.03\n",
        "epochs = 11\n",
        "\n",
        "np.random.seed(1)\n",
        "num_param_gates = 3\n",
        "\n",
        "temp1 = []\n",
        "temp2 = []\n",
        "\n",
        "for num_layers in steps:\n",
        "  var_init_blpc = 0.5*np.random.randn(num_layers, num_param_gates*len(H_blp.wires))\n",
        "\n",
        "  cost_fn = lambda v: cost_function_cv(v, qubo_blp, len(H_blp.wires), cutoff_dim)\n",
        "  grad_fn = lambda var: finite_difference_cv(lambda x: cost_function_cv(x, qubo_blp, len(H_blp.wires), cutoff_dim), var)\n",
        "  lost_list, time_list, _ = train(cost_fn, grad_fn, epochs, var_init_blpc, lr)\n",
        "  temp1.append(lost_list[-1])\n",
        "  temp2.append(time_list[-1])\n",
        "\n",
        "cvfdlc.append(temp1)\n",
        "cvfdtc.append(temp2)"
      ]
    },
    {
      "cell_type": "markdown",
      "metadata": {
        "id": "Z5p2xwXnlFnF"
      },
      "source": [
        "#### Knapsack"
      ]
    },
    {
      "cell_type": "code",
      "execution_count": 38,
      "metadata": {
        "id": "-N9wwo1ulH_T",
        "colab": {
          "base_uri": "https://localhost:8080/"
        },
        "outputId": "9231e08b-d1f9-436b-c5d9-0c7916564b30"
      },
      "outputs": [
        {
          "output_type": "stream",
          "name": "stdout",
          "text": [
            "Iter:     0 | Cost: 20.20599352456 \n",
            "Iter:    10 | Cost: 0.83742313656 \n",
            "Iter:    20 | Cost: -0.91262354817 \n",
            "Iter:    30 | Cost: -1.41198091823 \n",
            "Iter:    40 | Cost: -1.60683246551 \n",
            "Iter:    50 | Cost: -1.69658739486 \n",
            "Iter:    60 | Cost: -1.73270122832 \n",
            "Iter:    70 | Cost: -1.75181937652 \n",
            "Iter:    80 | Cost: -1.75995183356 \n",
            "Iter:    90 | Cost: -1.74146532893 \n",
            "Iter:   100 | Cost: -1.76434236756 \n"
          ]
        }
      ],
      "source": [
        "lr = 0.03\n",
        "epochs = 101\n",
        "\n",
        "cost_fn = lambda v: cost_function_cv(v, qubo_ks, len(H_ks.wires), cutoff_dim)\n",
        "grad_fn = lambda var: finite_difference_cv(lambda x: cost_function_cv(x, qubo_ks, len(H_ks.wires), cutoff_dim), var)\n",
        "lost_list, time_list, var = train(cost_fn, grad_fn, epochs, var_init_ks, lr)\n",
        "cvfdl.append(lost_list)\n",
        "cvfdt.append(time_list)"
      ]
    },
    {
      "cell_type": "code",
      "execution_count": 39,
      "metadata": {
        "id": "UMY1jsEIQ2bN",
        "colab": {
          "base_uri": "https://localhost:8080/"
        },
        "outputId": "9c2744ca-9d02-4792-8aca-2d63ee477aa0"
      },
      "outputs": [
        {
          "output_type": "stream",
          "name": "stdout",
          "text": [
            "Iter:     0 | Cost: 56.32885241565 \n",
            "Iter:    10 | Cost: 3.41627570836 \n",
            "Iter:     0 | Cost: 16.19058407381 \n",
            "Iter:    10 | Cost: -1.19895487571 \n",
            "Iter:     0 | Cost: 41.25918982040 \n",
            "Iter:    10 | Cost: -1.40557381685 \n",
            "Iter:     0 | Cost: 34.52189278944 \n",
            "Iter:    10 | Cost: -0.81153644690 \n",
            "Iter:     0 | Cost: 53.89979364592 \n",
            "Iter:    10 | Cost: -0.70977061334 \n"
          ]
        }
      ],
      "source": [
        "lr = 0.03\n",
        "epochs = 11\n",
        "\n",
        "np.random.seed(1)\n",
        "num_param_gates = 3\n",
        "\n",
        "temp1 = []\n",
        "temp2 = []\n",
        "\n",
        "for num_layers in steps:\n",
        "  var_init_ksc = 0.5*np.random.randn(num_layers, num_param_gates*len(H_ks.wires))\n",
        "\n",
        "  cost_fn = lambda v: cost_function_cv(v, qubo_ks, len(H_ks.wires), cutoff_dim)\n",
        "  grad_fn = lambda var: finite_difference_cv(lambda x: cost_function_cv(x, qubo_ks, len(H_ks.wires), cutoff_dim), var)\n",
        "  lost_list, time_list, _ = train(cost_fn, grad_fn, epochs, var_init_ksc, lr)\n",
        "  temp1.append(lost_list[-1])\n",
        "  temp2.append(time_list[-1])\n",
        "\n",
        "cvfdlc.append(temp1)\n",
        "cvfdtc.append(temp2)"
      ]
    },
    {
      "cell_type": "markdown",
      "metadata": {
        "id": "Dy0xupPD9K8O"
      },
      "source": [
        "#**Benchmarking** "
      ]
    },
    {
      "cell_type": "markdown",
      "metadata": {
        "id": "CLdbB84Men8d"
      },
      "source": [
        "### Contour Plot"
      ]
    },
    {
      "cell_type": "code",
      "execution_count": 47,
      "metadata": {
        "id": "T5J8IafWnQNb"
      },
      "outputs": [],
      "source": [
        "#@title Train Contour\n",
        "def train_contour(cost_fn, grad_fn, epochs, var_init, lr):\n",
        "  lost_list = []\n",
        "  var_list = []\n",
        "  var = var_init.copy()\n",
        "  var_list.append(var)\n",
        "  opt = qml.RMSPropOptimizer(lr)\n",
        "\n",
        "  start = time.time()\n",
        "\n",
        "  for it in range(epochs):# while True:\n",
        "      \n",
        "      var, _cost = opt.step_and_cost(cost_fn, var, grad_fn=grad_fn) \n",
        "      lost_list.append(_cost)\n",
        "      var_list.append(var)\n",
        "      # if it%10==0:\n",
        "      #   print(\"Iter: {:5d} | Cost: {:0.11f} \".format(it, _cost))\n",
        "\n",
        "      end = time.time()\n",
        "      t = end - start\n",
        "  return lost_list, var_list"
      ]
    },
    {
      "cell_type": "code",
      "execution_count": 55,
      "metadata": {
        "id": "RmDWARV9qOhL",
        "colab": {
          "base_uri": "https://localhost:8080/",
          "height": 1000,
          "referenced_widgets": [
            "6a629310b7494e4db5da7b0b4b3ce26a",
            "fe4036db9dd14c92a6ef151c5459d84f",
            "67e6230b1bd9471a89403202662c11cc",
            "b4ecc30b4c8b470d9f1eb257cc5465d7",
            "8016474c0e634ade9683a0ddf15e4cb8",
            "6b7890e63dcf472785716f745b618faa",
            "275af39e77e5488a9194fa72c5212799",
            "a011e43740954f58b63b734381fe9747",
            "33c037dc06f14560b3e052bfb85ab2ac",
            "024e3ceb306d41e7911fa240501e944d",
            "5ea30286d4b84722ab471c8048e3a594"
          ]
        },
        "outputId": "e615f3e3-a296-4501-a95f-dfd28ab58767",
        "cellView": "form"
      },
      "outputs": [
        {
          "output_type": "stream",
          "name": "stdout",
          "text": [
            "\\ This file has been generated by DOcplex\n",
            "\\ ENCODING=ISO-8859-1\n",
            "\\Problem name: docplex model\n",
            "\n",
            "Minimize\n",
            " obj: 95000 x1\n",
            "Subject To\n",
            " c0: x1 >= 1\n",
            "\n",
            "Bounds\n",
            " 0 <= x1 <= 1\n",
            "\n",
            "Binaries\n",
            " x1\n",
            "End\n",
            "\n"
          ]
        },
        {
          "output_type": "display_data",
          "data": {
            "text/plain": [
              "  0%|          | 0/50 [00:00<?, ?it/s]"
            ],
            "application/vnd.jupyter.widget-view+json": {
              "version_major": 2,
              "version_minor": 0,
              "model_id": "6a629310b7494e4db5da7b0b4b3ce26a"
            }
          },
          "metadata": {}
        },
        {
          "output_type": "display_data",
          "data": {
            "text/html": [
              "<html>\n",
              "<head><meta charset=\"utf-8\" /></head>\n",
              "<body>\n",
              "    <div>            <script src=\"https://cdnjs.cloudflare.com/ajax/libs/mathjax/2.7.5/MathJax.js?config=TeX-AMS-MML_SVG\"></script><script type=\"text/javascript\">if (window.MathJax) {MathJax.Hub.Config({SVG: {font: \"STIX-Web\"}});}</script>                <script type=\"text/javascript\">window.PlotlyConfig = {MathJaxConfig: 'local'};</script>\n",
              "        <script src=\"https://cdn.plot.ly/plotly-2.8.3.min.js\"></script>                <div id=\"77d74789-f050-40a0-82a6-660f0af259a2\" class=\"plotly-graph-div\" style=\"height:1000px; width:1000px;\"></div>            <script type=\"text/javascript\">                                    window.PLOTLYENV=window.PLOTLYENV || {};                                    if (document.getElementById(\"77d74789-f050-40a0-82a6-660f0af259a2\")) {                    Plotly.newPlot(                        \"77d74789-f050-40a0-82a6-660f0af259a2\",                        [{\"showscale\":false,\"x\":[-8.0,-7.673469387755102,-7.346938775510204,-7.020408163265306,-6.6938775510204085,-6.36734693877551,-6.040816326530612,-5.714285714285714,-5.387755102040817,-5.061224489795919,-4.73469387755102,-4.408163265306123,-4.081632653061225,-3.755102040816327,-3.428571428571429,-3.1020408163265314,-2.775510204081633,-2.4489795918367347,-2.1224489795918373,-1.795918367346939,-1.4693877551020416,-1.1428571428571432,-0.8163265306122458,-0.4897959183673475,-0.16326530612244916,0.16326530612244916,0.4897959183673457,0.816326530612244,1.1428571428571423,1.4693877551020407,1.7959183673469372,2.1224489795918355,2.448979591836734,2.775510204081632,3.1020408163265305,3.428571428571427,3.7551020408163254,4.081632653061224,4.408163265306122,4.734693877551019,5.061224489795917,5.387755102040815,5.7142857142857135,6.040816326530612,6.367346938775508,6.693877551020407,7.020408163265305,7.346938775510203,7.673469387755102,8.0],\"y\":[-8.0,-7.673469387755102,-7.346938775510204,-7.020408163265306,-6.6938775510204085,-6.36734693877551,-6.040816326530612,-5.714285714285714,-5.387755102040817,-5.061224489795919,-4.73469387755102,-4.408163265306123,-4.081632653061225,-3.755102040816327,-3.428571428571429,-3.1020408163265314,-2.775510204081633,-2.4489795918367347,-2.1224489795918373,-1.795918367346939,-1.4693877551020416,-1.1428571428571432,-0.8163265306122458,-0.4897959183673475,-0.16326530612244916,0.16326530612244916,0.4897959183673457,0.816326530612244,1.1428571428571423,1.4693877551020407,1.7959183673469372,2.1224489795918355,2.448979591836734,2.775510204081632,3.1020408163265305,3.428571428571427,3.7551020408163254,4.081632653061224,4.408163265306122,4.734693877551019,5.061224489795917,5.387755102040815,5.7142857142857135,6.040816326530612,6.367346938775508,6.693877551020407,7.020408163265305,7.346938775510203,7.673469387755102,8.0],\"z\":[[95001.0,95001.0,95001.0,95001.0,95001.0,95001.0,95001.0,95001.0,95001.0,95001.0,95001.0,95001.0,95001.0,95001.0,95001.0,95001.0,95001.0,95001.0,95001.0,95001.0,95001.0,95001.0,95001.0,95001.0,95001.0,95001.0,95001.0,95001.0,95001.0,95001.0,95001.0,95001.0,95001.0,95001.0,95001.0,95001.0,95001.0,95001.0,95001.0,95001.0,95001.0,95001.0,95001.0,95001.0,95001.0,95001.0,95001.0,95001.0,95001.0,95001.0],[95001.0,95001.0,95001.0,95001.0,95001.0,95001.0,95001.0,95001.0,95001.0,95001.0,95001.0,95001.0,95001.0,95001.0,95001.0,95001.0,95001.0,95001.0,95001.0,95001.0,95001.0,95001.0,95001.0,95001.0,95001.0,95001.0,95001.0,95001.0,95001.0,95001.0,95001.0,95001.0,95001.0,95001.0,95001.0,95001.0,95001.0,95001.0,95001.0,95001.0,95001.0,95001.0,95001.0,95001.0,95001.0,95001.0,95001.0,95001.0,95001.0,95001.0],[95001.0,95001.0,95001.0,95001.0,95001.0,95001.0,95001.0,95001.0,95001.0,95001.0,95001.0,95001.0,95001.0,95001.0,95001.0,95001.0,95001.0,95001.0,95001.0,95001.0,95001.0,95001.0,95001.0,95001.0,95001.0,95001.0,95001.0,95001.0,95001.0,95001.0,95001.0,95001.0,95001.0,95001.0,95001.0,95001.0,95001.0,95001.0,95001.0,95001.0,95001.0,95001.0,95001.0,95001.0,95001.0,95001.0,95001.0,95001.0,95001.0,95001.0],[95001.0,95001.0,95001.0,95001.0,95001.0,95001.0,95001.0,95001.0,95001.0,95001.0,95001.0,95001.0,95001.0,95001.0,95001.0,95001.0,95001.0,95001.0,95001.0,95001.0,95001.0,95001.0,95001.0,95001.0,95001.0,95001.0,95001.0,95001.0,95001.0,95001.0,95001.0,95001.0,95001.0,95001.0,95001.0,95001.0,95001.0,95001.0,95001.0,95001.0,95001.0,95001.0,95001.0,95001.0,95001.0,95001.0,95001.0,95001.0,95001.0,95001.0],[95001.00000000017,95001.00000000017,95001.00000000017,95001.00000000017,95001.00000000017,95001.00000000017,95001.00000000017,95001.00000000017,95001.00000000017,95001.00000000017,95001.00000000017,95001.00000000017,95001.00000000017,95001.00000000017,95001.00000000017,95001.00000000017,95001.00000000017,95001.00000000017,95001.00000000017,95001.00000000017,95001.00000000017,95001.00000000017,95001.00000000017,95001.00000000017,95001.00000000017,95001.00000000017,95001.00000000017,95001.00000000017,95001.00000000017,95001.00000000017,95001.00000000017,95001.00000000017,95001.00000000017,95001.00000000017,95001.00000000017,95001.00000000017,95001.00000000017,95001.00000000017,95001.00000000017,95001.00000000017,95001.00000000017,95001.00000000017,95001.00000000017,95001.00000000017,95001.00000000017,95001.00000000017,95001.00000000017,95001.00000000017,95001.00000000017,95001.00000000017],[95001.00000000893,95001.00000000893,95001.00000000893,95001.00000000893,95001.00000000893,95001.00000000893,95001.00000000893,95001.00000000893,95001.00000000893,95001.00000000893,95001.00000000893,95001.00000000893,95001.00000000893,95001.00000000893,95001.00000000893,95001.00000000893,95001.00000000893,95001.00000000893,95001.00000000893,95001.00000000893,95001.00000000893,95001.00000000893,95001.00000000893,95001.00000000893,95001.00000000893,95001.00000000893,95001.00000000893,95001.00000000893,95001.00000000893,95001.00000000893,95001.00000000893,95001.00000000893,95001.00000000893,95001.00000000893,95001.00000000893,95001.00000000893,95001.00000000893,95001.00000000893,95001.00000000893,95001.00000000893,95001.00000000893,95001.00000000893,95001.00000000893,95001.00000000893,95001.00000000893,95001.00000000893,95001.00000000893,95001.00000000893,95001.00000000893,95001.00000000893],[95001.00000035838,95001.00000035838,95001.00000035838,95001.00000035838,95001.00000035838,95001.00000035838,95001.00000035838,95001.00000035838,95001.00000035838,95001.00000035838,95001.00000035838,95001.00000035838,95001.00000035838,95001.00000035838,95001.00000035838,95001.00000035838,95001.00000035838,95001.00000035838,95001.00000035838,95001.00000035838,95001.00000035838,95001.00000035838,95001.00000035838,95001.00000035838,95001.00000035838,95001.00000035838,95001.00000035838,95001.00000035838,95001.00000035838,95001.00000035838,95001.00000035838,95001.00000035838,95001.00000035838,95001.00000035838,95001.00000035838,95001.00000035838,95001.00000035838,95001.00000035838,95001.00000035838,95001.00000035838,95001.00000035838,95001.00000035838,95001.00000035838,95001.00000035838,95001.00000035838,95001.00000035838,95001.00000035838,95001.00000035838,95001.00000035838,95001.00000035838],[95001.00001139501,95001.00001139501,95001.00001139501,95001.00001139501,95001.00001139501,95001.00001139501,95001.00001139501,95001.00001139501,95001.00001139501,95001.00001139501,95001.00001139501,95001.00001139501,95001.00001139501,95001.00001139501,95001.00001139501,95001.00001139501,95001.00001139501,95001.00001139501,95001.00001139501,95001.00001139501,95001.00001139501,95001.00001139501,95001.00001139501,95001.00001139501,95001.00001139501,95001.00001139501,95001.00001139501,95001.00001139501,95001.00001139501,95001.00001139501,95001.00001139501,95001.00001139501,95001.00001139501,95001.00001139501,95001.00001139501,95001.00001139501,95001.00001139501,95001.00001139501,95001.00001139501,95001.00001139501,95001.00001139501,95001.00001139501,95001.00001139501,95001.00001139501,95001.00001139501,95001.00001139501,95001.00001139501,95001.00001139501,95001.00001139501,95001.00001139501],[95001.00028664872,95001.00028664872,95001.00028664872,95001.00028664872,95001.00028664872,95001.00028664872,95001.00028664872,95001.00028664872,95001.00028664872,95001.00028664872,95001.00028664872,95001.00028664872,95001.00028664872,95001.00028664872,95001.00028664872,95001.00028664872,95001.00028664872,95001.00028664872,95001.00028664872,95001.00028664872,95001.00028664872,95001.00028664872,95001.00028664872,95001.00028664872,95001.00028664872,95001.00028664872,95001.00028664872,95001.00028664872,95001.00028664872,95001.00028664872,95001.00028664872,95001.00028664872,95001.00028664872,95001.00028664872,95001.00028664872,95001.00028664872,95001.00028664872,95001.00028664872,95001.00028664872,95001.00028664872,95001.00028664872,95001.00028664872,95001.00028664872,95001.00028664872,95001.00028664872,95001.00028664872,95001.00028664872,95001.00028664872,95001.00028664872,95001.00028664872],[95001.0056915658,95001.0056915658,95001.0056915658,95001.0056915658,95001.0056915658,95001.0056915658,95001.0056915658,95001.0056915658,95001.0056915658,95001.0056915658,95001.0056915658,95001.0056915658,95001.0056915658,95001.0056915658,95001.0056915658,95001.0056915658,95001.0056915658,95001.0056915658,95001.0056915658,95001.0056915658,95001.0056915658,95001.0056915658,95001.0056915658,95001.0056915658,95001.0056915658,95001.0056915658,95001.0056915658,95001.0056915658,95001.0056915658,95001.0056915658,95001.0056915658,95001.0056915658,95001.0056915658,95001.0056915658,95001.0056915658,95001.0056915658,95001.0056915658,95001.0056915658,95001.0056915658,95001.0056915658,95001.0056915658,95001.0056915658,95001.0056915658,95001.0056915658,95001.0056915658,95001.0056915658,95001.0056915658,95001.0056915658,95001.0056915658,95001.0056915658],[95001.0889552126,95001.0889552126,95001.0889552126,95001.0889552126,95001.0889552126,95001.0889552126,95001.0889552126,95001.0889552126,95001.0889552126,95001.0889552126,95001.0889552126,95001.0889552126,95001.0889552126,95001.0889552126,95001.0889552126,95001.0889552126,95001.0889552126,95001.0889552126,95001.0889552126,95001.0889552126,95001.0889552126,95001.0889552126,95001.0889552126,95001.0889552126,95001.0889552126,95001.0889552126,95001.0889552126,95001.0889552126,95001.0889552126,95001.0889552126,95001.0889552126,95001.0889552126,95001.0889552126,95001.0889552126,95001.0889552126,95001.0889552126,95001.0889552126,95001.0889552126,95001.0889552126,95001.0889552126,95001.0889552126,95001.0889552126,95001.0889552126,95001.0889552126,95001.0889552126,95001.0889552126,95001.0889552126,95001.0889552126,95001.0889552126,95001.0889552126],[95002.09089542924,95002.09089542924,95002.09089542924,95002.09089542924,95002.09089542924,95002.09089542924,95002.09089542924,95002.09089542924,95002.09089542924,95002.09089542924,95002.09089542924,95002.09089542924,95002.09089542924,95002.09089542924,95002.09089542924,95002.09089542924,95002.09089542924,95002.09089542924,95002.09089542924,95002.09089542924,95002.09089542924,95002.09089542924,95002.09089542924,95002.09089542924,95002.09089542924,95002.09089542924,95002.09089542924,95002.09089542924,95002.09089542924,95002.09089542924,95002.09089542924,95002.09089542924,95002.09089542924,95002.09089542924,95002.09089542924,95002.09089542924,95002.09089542924,95002.09089542924,95002.09089542924,95002.09089542924,95002.09089542924,95002.09089542924,95002.09089542924,95002.09089542924,95002.09089542924,95002.09089542924,95002.09089542924,95002.09089542924,95002.09089542924,95002.09089542924],[95011.4585690769,95011.4585690769,95011.4585690769,95011.4585690769,95011.4585690769,95011.4585690769,95011.4585690769,95011.4585690769,95011.4585690769,95011.4585690769,95011.4585690769,95011.4585690769,95011.4585690769,95011.4585690769,95011.4585690769,95011.4585690769,95011.4585690769,95011.4585690769,95011.4585690769,95011.4585690769,95011.4585690769,95011.4585690769,95011.4585690769,95011.4585690769,95011.4585690769,95011.4585690769,95011.4585690769,95011.4585690769,95011.4585690769,95011.4585690769,95011.4585690769,95011.4585690769,95011.4585690769,95011.4585690769,95011.4585690769,95011.4585690769,95011.4585690769,95011.4585690769,95011.4585690769,95011.4585690769,95011.4585690769,95011.4585690769,95011.4585690769,95011.4585690769,95011.4585690769,95011.4585690769,95011.4585690769,95011.4585690769,95011.4585690769,95011.4585690769],[95079.0833062097,95079.0833062097,95079.0833062097,95079.0833062097,95079.0833062097,95079.0833062097,95079.0833062097,95079.0833062097,95079.0833062097,95079.0833062097,95079.0833062097,95079.0833062097,95079.0833062097,95079.0833062097,95079.0833062097,95079.0833062097,95079.0833062097,95079.0833062097,95079.0833062097,95079.0833062097,95079.0833062097,95079.0833062097,95079.0833062097,95079.0833062097,95079.0833062097,95079.0833062097,95079.0833062097,95079.0833062097,95079.0833062097,95079.0833062097,95079.0833062097,95079.0833062097,95079.0833062097,95079.0833062097,95079.0833062097,95079.0833062097,95079.0833062097,95079.0833062097,95079.0833062097,95079.0833062097,95079.0833062097,95079.0833062097,95079.0833062097,95079.0833062097,95079.0833062097,95079.0833062097,95079.0833062097,95079.0833062097,95079.0833062097,95079.0833062097],[95453.83721661396,95453.83721661396,95453.83721661396,95453.83721661396,95453.83721661396,95453.83721661396,95453.83721661396,95453.83721661396,95453.83721661396,95453.83721661396,95453.83721661396,95453.83721661396,95453.83721661396,95453.83721661396,95453.83721661396,95453.83721661396,95453.83721661396,95453.83721661396,95453.83721661396,95453.83721661396,95453.83721661396,95453.83721661396,95453.83721661396,95453.83721661396,95453.83721661396,95453.83721661396,95453.83721661396,95453.83721661396,95453.83721661396,95453.83721661396,95453.83721661396,95453.83721661396,95453.83721661396,95453.83721661396,95453.83721661396,95453.83721661396,95453.83721661396,95453.83721661396,95453.83721661396,95453.83721661396,95453.83721661396,95453.83721661396,95453.83721661396,95453.83721661396,95453.83721661396,95453.83721661396,95453.83721661396,95453.83721661396,95453.83721661396,95453.83721661396],[97047.4386154893,97047.4386154893,97047.4386154893,97047.4386154893,97047.4386154893,97047.4386154893,97047.4386154893,97047.4386154893,97047.4386154893,97047.4386154893,97047.4386154893,97047.4386154893,97047.4386154893,97047.4386154893,97047.4386154893,97047.4386154893,97047.4386154893,97047.4386154893,97047.4386154893,97047.4386154893,97047.4386154893,97047.4386154893,97047.4386154893,97047.4386154893,97047.4386154893,97047.4386154893,97047.4386154893,97047.4386154893,97047.4386154893,97047.4386154893,97047.4386154893,97047.4386154893,97047.4386154893,97047.4386154893,97047.4386154893,97047.4386154893,97047.4386154893,97047.4386154893,97047.4386154893,97047.4386154893,97047.4386154893,97047.4386154893,97047.4386154893,97047.4386154893,97047.4386154893,97047.4386154893,97047.4386154893,97047.4386154893,97047.4386154893,97047.4386154893],[102306.09711529005,102306.09711529005,102306.09711529005,102306.09711529005,102306.09711529005,102306.09711529005,102306.09711529005,102306.09711529005,102306.09711529005,102306.09711529005,102306.09711529005,102306.09711529005,102306.09711529005,102306.09711529005,102306.09711529005,102306.09711529005,102306.09711529005,102306.09711529005,102306.09711529005,102306.09711529005,102306.09711529005,102306.09711529005,102306.09711529005,102306.09711529005,102306.09711529005,102306.09711529005,102306.09711529005,102306.09711529005,102306.09711529005,102306.09711529005,102306.09711529005,102306.09711529005,102306.09711529005,102306.09711529005,102306.09711529005,102306.09711529005,102306.09711529005,102306.09711529005,102306.09711529005,102306.09711529005,102306.09711529005,102306.09711529005,102306.09711529005,102306.09711529005,102306.09711529005,102306.09711529005,102306.09711529005,102306.09711529005,102306.09711529005,102306.09711529005],[115882.56898729016,115882.56898729016,115882.56898729016,115882.56898729016,115882.56898729016,115882.56898729016,115882.56898729016,115882.56898729016,115882.56898729016,115882.56898729016,115882.56898729016,115882.56898729016,115882.56898729016,115882.56898729016,115882.56898729016,115882.56898729016,115882.56898729016,115882.56898729016,115882.56898729016,115882.56898729016,115882.56898729016,115882.56898729016,115882.56898729016,115882.56898729016,115882.56898729016,115882.56898729016,115882.56898729016,115882.56898729016,115882.56898729016,115882.56898729016,115882.56898729016,115882.56898729016,115882.56898729016,115882.56898729016,115882.56898729016,115882.56898729016,115882.56898729016,115882.56898729016,115882.56898729016,115882.56898729016,115882.56898729016,115882.56898729016,115882.56898729016,115882.56898729016,115882.56898729016,115882.56898729016,115882.56898729016,115882.56898729016,115882.56898729016,115882.56898729016],[141905.90084437167,141905.90084437167,141905.90084437167,141905.90084437167,141905.90084437167,141905.90084437167,141905.90084437167,141905.90084437167,141905.90084437167,141905.90084437167,141905.90084437167,141905.90084437167,141905.90084437167,141905.90084437167,141905.90084437167,141905.90084437167,141905.90084437167,141905.90084437167,141905.90084437167,141905.90084437167,141905.90084437167,141905.90084437167,141905.90084437167,141905.90084437167,141905.90084437167,141905.90084437167,141905.90084437167,141905.90084437167,141905.90084437167,141905.90084437167,141905.90084437167,141905.90084437167,141905.90084437167,141905.90084437167,141905.90084437167,141905.90084437167,141905.90084437167,141905.90084437167,141905.90084437167,141905.90084437167,141905.90084437167,141905.90084437167,141905.90084437167,141905.90084437167,141905.90084437167,141905.90084437167,141905.90084437167,141905.90084437167,141905.90084437167,141905.90084437167],[173211.59273845833,173211.59273845833,173211.59273845833,173211.59273845833,173211.59273845833,173211.59273845833,173211.59273845833,173211.59273845833,173211.59273845833,173211.59273845833,173211.59273845833,173211.59273845833,173211.59273845833,173211.59273845833,173211.59273845833,173211.59273845833,173211.59273845833,173211.59273845833,173211.59273845833,173211.59273845833,173211.59273845833,173211.59273845833,173211.59273845833,173211.59273845833,173211.59273845833,173211.59273845833,173211.59273845833,173211.59273845833,173211.59273845833,173211.59273845833,173211.59273845833,173211.59273845833,173211.59273845833,173211.59273845833,173211.59273845833,173211.59273845833,173211.59273845833,173211.59273845833,173211.59273845833,173211.59273845833,173211.59273845833,173211.59273845833,173211.59273845833,173211.59273845833,173211.59273845833,173211.59273845833,173211.59273845833,173211.59273845833,173211.59273845833,173211.59273845833],[187846.395820898,187846.395820898,187846.395820898,187846.395820898,187846.395820898,187846.395820898,187846.395820898,187846.395820898,187846.395820898,187846.395820898,187846.395820898,187846.395820898,187846.395820898,187846.395820898,187846.395820898,187846.395820898,187846.395820898,187846.395820898,187846.395820898,187846.395820898,187846.395820898,187846.395820898,187846.395820898,187846.395820898,187846.395820898,187846.395820898,187846.395820898,187846.395820898,187846.395820898,187846.395820898,187846.395820898,187846.395820898,187846.395820898,187846.395820898,187846.395820898,187846.395820898,187846.395820898,187846.395820898,187846.395820898,187846.395820898,187846.395820898,187846.395820898,187846.395820898,187846.395820898,187846.395820898,187846.395820898,187846.395820898,187846.395820898,187846.395820898,187846.395820898],[175283.27617027643,175283.27617027643,175283.27617027643,175283.27617027643,175283.27617027643,175283.27617027643,175283.27617027643,175283.27617027643,175283.27617027643,175283.27617027643,175283.27617027643,175283.27617027643,175283.27617027643,175283.27617027643,175283.27617027643,175283.27617027643,175283.27617027643,175283.27617027643,175283.27617027643,175283.27617027643,175283.27617027643,175283.27617027643,175283.27617027643,175283.27617027643,175283.27617027643,175283.27617027643,175283.27617027643,175283.27617027643,175283.27617027643,175283.27617027643,175283.27617027643,175283.27617027643,175283.27617027643,175283.27617027643,175283.27617027643,175283.27617027643,175283.27617027643,175283.27617027643,175283.27617027643,175283.27617027643,175283.27617027643,175283.27617027643,175283.27617027643,175283.27617027643,175283.27617027643,175283.27617027643,175283.27617027643,175283.27617027643,175283.27617027643,175283.27617027643],[149262.93797313888,149262.93797313888,149262.93797313888,149262.93797313888,149262.93797313888,149262.93797313888,149262.93797313888,149262.93797313888,149262.93797313888,149262.93797313888,149262.93797313888,149262.93797313888,149262.93797313888,149262.93797313888,149262.93797313888,149262.93797313888,149262.93797313888,149262.93797313888,149262.93797313888,149262.93797313888,149262.93797313888,149262.93797313888,149262.93797313888,149262.93797313888,149262.93797313888,149262.93797313888,149262.93797313888,149262.93797313888,149262.93797313888,149262.93797313888,149262.93797313888,149262.93797313888,149262.93797313888,149262.93797313888,149262.93797313888,149262.93797313888,149262.93797313888,149262.93797313888,149262.93797313888,149262.93797313888,149262.93797313888,149262.93797313888,149262.93797313888,149262.93797313888,149262.93797313888,149262.93797313888,149262.93797313888,149262.93797313888,149262.93797313888,149262.93797313888],[123960.53064490011,123960.53064490011,123960.53064490011,123960.53064490011,123960.53064490011,123960.53064490011,123960.53064490011,123960.53064490011,123960.53064490011,123960.53064490011,123960.53064490011,123960.53064490011,123960.53064490011,123960.53064490011,123960.53064490011,123960.53064490011,123960.53064490011,123960.53064490011,123960.53064490011,123960.53064490011,123960.53064490011,123960.53064490011,123960.53064490011,123960.53064490011,123960.53064490011,123960.53064490011,123960.53064490011,123960.53064490011,123960.53064490011,123960.53064490011,123960.53064490011,123960.53064490011,123960.53064490011,123960.53064490011,123960.53064490011,123960.53064490011,123960.53064490011,123960.53064490011,123960.53064490011,123960.53064490011,123960.53064490011,123960.53064490011,123960.53064490011,123960.53064490011,123960.53064490011,123960.53064490011,123960.53064490011,123960.53064490011,123960.53064490011,123960.53064490011],[103389.34133860245,103389.34133860245,103389.34133860245,103389.34133860245,103389.34133860245,103389.34133860245,103389.34133860245,103389.34133860245,103389.34133860245,103389.34133860245,103389.34133860245,103389.34133860245,103389.34133860245,103389.34133860245,103389.34133860245,103389.34133860245,103389.34133860245,103389.34133860245,103389.34133860245,103389.34133860245,103389.34133860245,103389.34133860245,103389.34133860245,103389.34133860245,103389.34133860245,103389.34133860245,103389.34133860245,103389.34133860245,103389.34133860245,103389.34133860245,103389.34133860245,103389.34133860245,103389.34133860245,103389.34133860245,103389.34133860245,103389.34133860245,103389.34133860245,103389.34133860245,103389.34133860245,103389.34133860245,103389.34133860245,103389.34133860245,103389.34133860245,103389.34133860245,103389.34133860245,103389.34133860245,103389.34133860245,103389.34133860245,103389.34133860245,103389.34133860245],[87878.81104573898,87878.81104573898,87878.81104573898,87878.81104573898,87878.81104573898,87878.81104573898,87878.81104573898,87878.81104573898,87878.81104573898,87878.81104573898,87878.81104573898,87878.81104573898,87878.81104573898,87878.81104573898,87878.81104573898,87878.81104573898,87878.81104573898,87878.81104573898,87878.81104573898,87878.81104573898,87878.81104573898,87878.81104573898,87878.81104573898,87878.81104573898,87878.81104573898,87878.81104573898,87878.81104573898,87878.81104573898,87878.81104573898,87878.81104573898,87878.81104573898,87878.81104573898,87878.81104573898,87878.81104573898,87878.81104573898,87878.81104573898,87878.81104573898,87878.81104573898,87878.81104573898,87878.81104573898,87878.81104573898,87878.81104573898,87878.81104573898,87878.81104573898,87878.81104573898,87878.81104573898,87878.81104573898,87878.81104573898,87878.81104573898,87878.81104573898],[77434.24332715229,77434.24332715229,77434.24332715229,77434.24332715229,77434.24332715229,77434.24332715229,77434.24332715229,77434.24332715229,77434.24332715229,77434.24332715229,77434.24332715229,77434.24332715229,77434.24332715229,77434.24332715229,77434.24332715229,77434.24332715229,77434.24332715229,77434.24332715229,77434.24332715229,77434.24332715229,77434.24332715229,77434.24332715229,77434.24332715229,77434.24332715229,77434.24332715229,77434.24332715229,77434.24332715229,77434.24332715229,77434.24332715229,77434.24332715229,77434.24332715229,77434.24332715229,77434.24332715229,77434.24332715229,77434.24332715229,77434.24332715229,77434.24332715229,77434.24332715229,77434.24332715229,77434.24332715229,77434.24332715229,77434.24332715229,77434.24332715229,77434.24332715229,77434.24332715229,77434.24332715229,77434.24332715229,77434.24332715229,77434.24332715229,77434.24332715229],[72086.50371135375,72086.50371135375,72086.50371135375,72086.50371135375,72086.50371135375,72086.50371135375,72086.50371135375,72086.50371135375,72086.50371135375,72086.50371135375,72086.50371135375,72086.50371135375,72086.50371135375,72086.50371135375,72086.50371135375,72086.50371135375,72086.50371135375,72086.50371135375,72086.50371135375,72086.50371135375,72086.50371135375,72086.50371135375,72086.50371135375,72086.50371135375,72086.50371135375,72086.50371135375,72086.50371135375,72086.50371135375,72086.50371135375,72086.50371135375,72086.50371135375,72086.50371135375,72086.50371135375,72086.50371135375,72086.50371135375,72086.50371135375,72086.50371135375,72086.50371135375,72086.50371135375,72086.50371135375,72086.50371135375,72086.50371135375,72086.50371135375,72086.50371135375,72086.50371135375,72086.50371135375,72086.50371135375,72086.50371135375,72086.50371135375,72086.50371135375],[71455.1962501253,71455.1962501253,71455.1962501253,71455.1962501253,71455.1962501253,71455.1962501253,71455.1962501253,71455.1962501253,71455.1962501253,71455.1962501253,71455.1962501253,71455.1962501253,71455.1962501253,71455.1962501253,71455.1962501253,71455.1962501253,71455.1962501253,71455.1962501253,71455.1962501253,71455.1962501253,71455.1962501253,71455.1962501253,71455.1962501253,71455.1962501253,71455.1962501253,71455.1962501253,71455.1962501253,71455.1962501253,71455.1962501253,71455.1962501253,71455.1962501253,71455.1962501253,71455.1962501253,71455.1962501253,71455.1962501253,71455.1962501253,71455.1962501253,71455.1962501253,71455.1962501253,71455.1962501253,71455.1962501253,71455.1962501253,71455.1962501253,71455.1962501253,71455.1962501253,71455.1962501253,71455.1962501253,71455.1962501253,71455.1962501253,71455.1962501253],[72354.89573320223,72354.89573320223,72354.89573320223,72354.89573320223,72354.89573320223,72354.89573320223,72354.89573320223,72354.89573320223,72354.89573320223,72354.89573320223,72354.89573320223,72354.89573320223,72354.89573320223,72354.89573320223,72354.89573320223,72354.89573320223,72354.89573320223,72354.89573320223,72354.89573320223,72354.89573320223,72354.89573320223,72354.89573320223,72354.89573320223,72354.89573320223,72354.89573320223,72354.89573320223,72354.89573320223,72354.89573320223,72354.89573320223,72354.89573320223,72354.89573320223,72354.89573320223,72354.89573320223,72354.89573320223,72354.89573320223,72354.89573320223,72354.89573320223,72354.89573320223,72354.89573320223,72354.89573320223,72354.89573320223,72354.89573320223,72354.89573320223,72354.89573320223,72354.89573320223,72354.89573320223,72354.89573320223,72354.89573320223,72354.89573320223,72354.89573320223],[71373.20029805691,71373.20029805691,71373.20029805691,71373.20029805691,71373.20029805691,71373.20029805691,71373.20029805691,71373.20029805691,71373.20029805691,71373.20029805691,71373.20029805691,71373.20029805691,71373.20029805691,71373.20029805691,71373.20029805691,71373.20029805691,71373.20029805691,71373.20029805691,71373.20029805691,71373.20029805691,71373.20029805691,71373.20029805691,71373.20029805691,71373.20029805691,71373.20029805691,71373.20029805691,71373.20029805691,71373.20029805691,71373.20029805691,71373.20029805691,71373.20029805691,71373.20029805691,71373.20029805691,71373.20029805691,71373.20029805691,71373.20029805691,71373.20029805691,71373.20029805691,71373.20029805691,71373.20029805691,71373.20029805691,71373.20029805691,71373.20029805691,71373.20029805691,71373.20029805691,71373.20029805691,71373.20029805691,71373.20029805691,71373.20029805691,71373.20029805691],[73049.21944227477,73049.21944227477,73049.21944227477,73049.21944227477,73049.21944227477,73049.21944227477,73049.21944227477,73049.21944227477,73049.21944227477,73049.21944227477,73049.21944227477,73049.21944227477,73049.21944227477,73049.21944227477,73049.21944227477,73049.21944227477,73049.21944227477,73049.21944227477,73049.21944227477,73049.21944227477,73049.21944227477,73049.21944227477,73049.21944227477,73049.21944227477,73049.21944227477,73049.21944227477,73049.21944227477,73049.21944227477,73049.21944227477,73049.21944227477,73049.21944227477,73049.21944227477,73049.21944227477,73049.21944227477,73049.21944227477,73049.21944227477,73049.21944227477,73049.21944227477,73049.21944227477,73049.21944227477,73049.21944227477,73049.21944227477,73049.21944227477,73049.21944227477,73049.21944227477,73049.21944227477,73049.21944227477,73049.21944227477,73049.21944227477,73049.21944227477],[80651.86826763912,80651.86826763912,80651.86826763912,80651.86826763912,80651.86826763912,80651.86826763912,80651.86826763912,80651.86826763912,80651.86826763912,80651.86826763912,80651.86826763912,80651.86826763912,80651.86826763912,80651.86826763912,80651.86826763912,80651.86826763912,80651.86826763912,80651.86826763912,80651.86826763912,80651.86826763912,80651.86826763912,80651.86826763912,80651.86826763912,80651.86826763912,80651.86826763912,80651.86826763912,80651.86826763912,80651.86826763912,80651.86826763912,80651.86826763912,80651.86826763912,80651.86826763912,80651.86826763912,80651.86826763912,80651.86826763912,80651.86826763912,80651.86826763912,80651.86826763912,80651.86826763912,80651.86826763912,80651.86826763912,80651.86826763912,80651.86826763912,80651.86826763912,80651.86826763912,80651.86826763912,80651.86826763912,80651.86826763912,80651.86826763912,80651.86826763912],[88673.95282949183,88673.95282949183,88673.95282949183,88673.95282949183,88673.95282949183,88673.95282949183,88673.95282949183,88673.95282949183,88673.95282949183,88673.95282949183,88673.95282949183,88673.95282949183,88673.95282949183,88673.95282949183,88673.95282949183,88673.95282949183,88673.95282949183,88673.95282949183,88673.95282949183,88673.95282949183,88673.95282949183,88673.95282949183,88673.95282949183,88673.95282949183,88673.95282949183,88673.95282949183,88673.95282949183,88673.95282949183,88673.95282949183,88673.95282949183,88673.95282949183,88673.95282949183,88673.95282949183,88673.95282949183,88673.95282949183,88673.95282949183,88673.95282949183,88673.95282949183,88673.95282949183,88673.95282949183,88673.95282949183,88673.95282949183,88673.95282949183,88673.95282949183,88673.95282949183,88673.95282949183,88673.95282949183,88673.95282949183,88673.95282949183,88673.95282949183],[93039.11986782744,93039.11986782744,93039.11986782744,93039.11986782744,93039.11986782744,93039.11986782744,93039.11986782744,93039.11986782744,93039.11986782744,93039.11986782744,93039.11986782744,93039.11986782744,93039.11986782744,93039.11986782744,93039.11986782744,93039.11986782744,93039.11986782744,93039.11986782744,93039.11986782744,93039.11986782744,93039.11986782744,93039.11986782744,93039.11986782744,93039.11986782744,93039.11986782744,93039.11986782744,93039.11986782744,93039.11986782744,93039.11986782744,93039.11986782744,93039.11986782744,93039.11986782744,93039.11986782744,93039.11986782744,93039.11986782744,93039.11986782744,93039.11986782744,93039.11986782744,93039.11986782744,93039.11986782744,93039.11986782744,93039.11986782744,93039.11986782744,93039.11986782744,93039.11986782744,93039.11986782744,93039.11986782744,93039.11986782744,93039.11986782744,93039.11986782744],[94552.43906220191,94552.43906220191,94552.43906220191,94552.43906220191,94552.43906220191,94552.43906220191,94552.43906220191,94552.43906220191,94552.43906220191,94552.43906220191,94552.43906220191,94552.43906220191,94552.43906220191,94552.43906220191,94552.43906220191,94552.43906220191,94552.43906220191,94552.43906220191,94552.43906220191,94552.43906220191,94552.43906220191,94552.43906220191,94552.43906220191,94552.43906220191,94552.43906220191,94552.43906220191,94552.43906220191,94552.43906220191,94552.43906220191,94552.43906220191,94552.43906220191,94552.43906220191,94552.43906220191,94552.43906220191,94552.43906220191,94552.43906220191,94552.43906220191,94552.43906220191,94552.43906220191,94552.43906220191,94552.43906220191,94552.43906220191,94552.43906220191,94552.43906220191,94552.43906220191,94552.43906220191,94552.43906220191,94552.43906220191,94552.43906220191,94552.43906220191],[94923.04483713226,94923.04483713226,94923.04483713226,94923.04483713226,94923.04483713226,94923.04483713226,94923.04483713226,94923.04483713226,94923.04483713226,94923.04483713226,94923.04483713226,94923.04483713226,94923.04483713226,94923.04483713226,94923.04483713226,94923.04483713226,94923.04483713226,94923.04483713226,94923.04483713226,94923.04483713226,94923.04483713226,94923.04483713226,94923.04483713226,94923.04483713226,94923.04483713226,94923.04483713226,94923.04483713226,94923.04483713226,94923.04483713226,94923.04483713226,94923.04483713226,94923.04483713226,94923.04483713226,94923.04483713226,94923.04483713226,94923.04483713226,94923.04483713226,94923.04483713226,94923.04483713226,94923.04483713226,94923.04483713226,94923.04483713226,94923.04483713226,94923.04483713226,94923.04483713226,94923.04483713226,94923.04483713226,94923.04483713226,94923.04483713226,94923.04483713226],[94990.54373311545,94990.54373311545,94990.54373311545,94990.54373311545,94990.54373311545,94990.54373311545,94990.54373311545,94990.54373311545,94990.54373311545,94990.54373311545,94990.54373311545,94990.54373311545,94990.54373311545,94990.54373311545,94990.54373311545,94990.54373311545,94990.54373311545,94990.54373311545,94990.54373311545,94990.54373311545,94990.54373311545,94990.54373311545,94990.54373311545,94990.54373311545,94990.54373311545,94990.54373311545,94990.54373311545,94990.54373311545,94990.54373311545,94990.54373311545,94990.54373311545,94990.54373311545,94990.54373311545,94990.54373311545,94990.54373311545,94990.54373311545,94990.54373311545,94990.54373311545,94990.54373311545,94990.54373311545,94990.54373311545,94990.54373311545,94990.54373311545,94990.54373311545,94990.54373311545,94990.54373311545,94990.54373311545,94990.54373311545,94990.54373311545,94990.54373311545],[94999.90912962313,94999.90912962313,94999.90912962313,94999.90912962313,94999.90912962313,94999.90912962313,94999.90912962313,94999.90912962313,94999.90912962313,94999.90912962313,94999.90912962313,94999.90912962313,94999.90912962313,94999.90912962313,94999.90912962313,94999.90912962313,94999.90912962313,94999.90912962313,94999.90912962313,94999.90912962313,94999.90912962313,94999.90912962313,94999.90912962313,94999.90912962313,94999.90912962313,94999.90912962313,94999.90912962313,94999.90912962313,94999.90912962313,94999.90912962313,94999.90912962313,94999.90912962313,94999.90912962313,94999.90912962313,94999.90912962313,94999.90912962313,94999.90912962313,94999.90912962313,94999.90912962313,94999.90912962313,94999.90912962313,94999.90912962313,94999.90912962313,94999.90912962313,94999.90912962313,94999.90912962313,94999.90912962313,94999.90912962313,94999.90912962313,94999.90912962313],[95000.91104495399,95000.91104495399,95000.91104495399,95000.91104495399,95000.91104495399,95000.91104495399,95000.91104495399,95000.91104495399,95000.91104495399,95000.91104495399,95000.91104495399,95000.91104495399,95000.91104495399,95000.91104495399,95000.91104495399,95000.91104495399,95000.91104495399,95000.91104495399,95000.91104495399,95000.91104495399,95000.91104495399,95000.91104495399,95000.91104495399,95000.91104495399,95000.91104495399,95000.91104495399,95000.91104495399,95000.91104495399,95000.91104495399,95000.91104495399,95000.91104495399,95000.91104495399,95000.91104495399,95000.91104495399,95000.91104495399,95000.91104495399,95000.91104495399,95000.91104495399,95000.91104495399,95000.91104495399,95000.91104495399,95000.91104495399,95000.91104495399,95000.91104495399,95000.91104495399,95000.91104495399,95000.91104495399,95000.91104495399,95000.91104495399,95000.91104495399],[95000.99430843486,95000.99430843486,95000.99430843486,95000.99430843486,95000.99430843486,95000.99430843486,95000.99430843486,95000.99430843486,95000.99430843486,95000.99430843486,95000.99430843486,95000.99430843486,95000.99430843486,95000.99430843486,95000.99430843486,95000.99430843486,95000.99430843486,95000.99430843486,95000.99430843486,95000.99430843486,95000.99430843486,95000.99430843486,95000.99430843486,95000.99430843486,95000.99430843486,95000.99430843486,95000.99430843486,95000.99430843486,95000.99430843486,95000.99430843486,95000.99430843486,95000.99430843486,95000.99430843486,95000.99430843486,95000.99430843486,95000.99430843486,95000.99430843486,95000.99430843486,95000.99430843486,95000.99430843486,95000.99430843486,95000.99430843486,95000.99430843486,95000.99430843486,95000.99430843486,95000.99430843486,95000.99430843486,95000.99430843486,95000.99430843486,95000.99430843486],[95000.99971335128,95000.99971335128,95000.99971335128,95000.99971335128,95000.99971335128,95000.99971335128,95000.99971335128,95000.99971335128,95000.99971335128,95000.99971335128,95000.99971335128,95000.99971335128,95000.99971335128,95000.99971335128,95000.99971335128,95000.99971335128,95000.99971335128,95000.99971335128,95000.99971335128,95000.99971335128,95000.99971335128,95000.99971335128,95000.99971335128,95000.99971335128,95000.99971335128,95000.99971335128,95000.99971335128,95000.99971335128,95000.99971335128,95000.99971335128,95000.99971335128,95000.99971335128,95000.99971335128,95000.99971335128,95000.99971335128,95000.99971335128,95000.99971335128,95000.99971335128,95000.99971335128,95000.99971335128,95000.99971335128,95000.99971335128,95000.99971335128,95000.99971335128,95000.99971335128,95000.99971335128,95000.99971335128,95000.99971335128,95000.99971335128,95000.99971335128],[95000.99998860499,95000.99998860499,95000.99998860499,95000.99998860499,95000.99998860499,95000.99998860499,95000.99998860499,95000.99998860499,95000.99998860499,95000.99998860499,95000.99998860499,95000.99998860499,95000.99998860499,95000.99998860499,95000.99998860499,95000.99998860499,95000.99998860499,95000.99998860499,95000.99998860499,95000.99998860499,95000.99998860499,95000.99998860499,95000.99998860499,95000.99998860499,95000.99998860499,95000.99998860499,95000.99998860499,95000.99998860499,95000.99998860499,95000.99998860499,95000.99998860499,95000.99998860499,95000.99998860499,95000.99998860499,95000.99998860499,95000.99998860499,95000.99998860499,95000.99998860499,95000.99998860499,95000.99998860499,95000.99998860499,95000.99998860499,95000.99998860499,95000.99998860499,95000.99998860499,95000.99998860499,95000.99998860499,95000.99998860499,95000.99998860499,95000.99998860499],[95000.99999964162,95000.99999964162,95000.99999964162,95000.99999964162,95000.99999964162,95000.99999964162,95000.99999964162,95000.99999964162,95000.99999964162,95000.99999964162,95000.99999964162,95000.99999964162,95000.99999964162,95000.99999964162,95000.99999964162,95000.99999964162,95000.99999964162,95000.99999964162,95000.99999964162,95000.99999964162,95000.99999964162,95000.99999964162,95000.99999964162,95000.99999964162,95000.99999964162,95000.99999964162,95000.99999964162,95000.99999964162,95000.99999964162,95000.99999964162,95000.99999964162,95000.99999964162,95000.99999964162,95000.99999964162,95000.99999964162,95000.99999964162,95000.99999964162,95000.99999964162,95000.99999964162,95000.99999964162,95000.99999964162,95000.99999964162,95000.99999964162,95000.99999964162,95000.99999964162,95000.99999964162,95000.99999964162,95000.99999964162,95000.99999964162,95000.99999964162],[95000.99999999107,95000.99999999107,95000.99999999107,95000.99999999107,95000.99999999107,95000.99999999107,95000.99999999107,95000.99999999107,95000.99999999107,95000.99999999107,95000.99999999107,95000.99999999107,95000.99999999107,95000.99999999107,95000.99999999107,95000.99999999107,95000.99999999107,95000.99999999107,95000.99999999107,95000.99999999107,95000.99999999107,95000.99999999107,95000.99999999107,95000.99999999107,95000.99999999107,95000.99999999107,95000.99999999107,95000.99999999107,95000.99999999107,95000.99999999107,95000.99999999107,95000.99999999107,95000.99999999107,95000.99999999107,95000.99999999107,95000.99999999107,95000.99999999107,95000.99999999107,95000.99999999107,95000.99999999107,95000.99999999107,95000.99999999107,95000.99999999107,95000.99999999107,95000.99999999107,95000.99999999107,95000.99999999107,95000.99999999107,95000.99999999107,95000.99999999107],[95000.99999999983,95000.99999999983,95000.99999999983,95000.99999999983,95000.99999999983,95000.99999999983,95000.99999999983,95000.99999999983,95000.99999999983,95000.99999999983,95000.99999999983,95000.99999999983,95000.99999999983,95000.99999999983,95000.99999999983,95000.99999999983,95000.99999999983,95000.99999999983,95000.99999999983,95000.99999999983,95000.99999999983,95000.99999999983,95000.99999999983,95000.99999999983,95000.99999999983,95000.99999999983,95000.99999999983,95000.99999999983,95000.99999999983,95000.99999999983,95000.99999999983,95000.99999999983,95000.99999999983,95000.99999999983,95000.99999999983,95000.99999999983,95000.99999999983,95000.99999999983,95000.99999999983,95000.99999999983,95000.99999999983,95000.99999999983,95000.99999999983,95000.99999999983,95000.99999999983,95000.99999999983,95000.99999999983,95000.99999999983,95000.99999999983,95000.99999999983],[95001.0,95001.0,95001.0,95001.0,95001.0,95001.0,95001.0,95001.0,95001.0,95001.0,95001.0,95001.0,95001.0,95001.0,95001.0,95001.0,95001.0,95001.0,95001.0,95001.0,95001.0,95001.0,95001.0,95001.0,95001.0,95001.0,95001.0,95001.0,95001.0,95001.0,95001.0,95001.0,95001.0,95001.0,95001.0,95001.0,95001.0,95001.0,95001.0,95001.0,95001.0,95001.0,95001.0,95001.0,95001.0,95001.0,95001.0,95001.0,95001.0,95001.0],[95001.0,95001.0,95001.0,95001.0,95001.0,95001.0,95001.0,95001.0,95001.0,95001.0,95001.0,95001.0,95001.0,95001.0,95001.0,95001.0,95001.0,95001.0,95001.0,95001.0,95001.0,95001.0,95001.0,95001.0,95001.0,95001.0,95001.0,95001.0,95001.0,95001.0,95001.0,95001.0,95001.0,95001.0,95001.0,95001.0,95001.0,95001.0,95001.0,95001.0,95001.0,95001.0,95001.0,95001.0,95001.0,95001.0,95001.0,95001.0,95001.0,95001.0],[95001.0,95001.0,95001.0,95001.0,95001.0,95001.0,95001.0,95001.0,95001.0,95001.0,95001.0,95001.0,95001.0,95001.0,95001.0,95001.0,95001.0,95001.0,95001.0,95001.0,95001.0,95001.0,95001.0,95001.0,95001.0,95001.0,95001.0,95001.0,95001.0,95001.0,95001.0,95001.0,95001.0,95001.0,95001.0,95001.0,95001.0,95001.0,95001.0,95001.0,95001.0,95001.0,95001.0,95001.0,95001.0,95001.0,95001.0,95001.0,95001.0,95001.0],[95001.0,95001.0,95001.0,95001.0,95001.0,95001.0,95001.0,95001.0,95001.0,95001.0,95001.0,95001.0,95001.0,95001.0,95001.0,95001.0,95001.0,95001.0,95001.0,95001.0,95001.0,95001.0,95001.0,95001.0,95001.0,95001.0,95001.0,95001.0,95001.0,95001.0,95001.0,95001.0,95001.0,95001.0,95001.0,95001.0,95001.0,95001.0,95001.0,95001.0,95001.0,95001.0,95001.0,95001.0,95001.0,95001.0,95001.0,95001.0,95001.0,95001.0]],\"type\":\"surface\",\"showlegend\":false},{\"line\":{\"color\":\"yellow\",\"width\":10},\"mode\":\"lines\",\"x\":[-0.4693879999999999,-0.4693879999999999,-0.4693879999999999,-0.4693879999999999,-0.4693879999999999,-0.4693879999999999,-0.4693879999999999,-0.4693879999999999,-0.4693879999999999,-0.4693879999999999,-0.4693879999999999,-0.4693879999999999,-0.4693879999999999,-0.4693879999999999,-0.4693879999999999,-0.4693879999999999,-0.4693879999999999,-0.4693879999999999,-0.4693879999999999,-0.4693879999999999,-0.4693879999999999,-0.4693879999999999,-0.4693879999999999,-0.4693879999999999,-0.4693879999999999,-0.4693879999999999,-0.4693879999999999,-0.4693879999999999,-0.4693879999999999,-0.4693879999999999,-0.4693879999999999,-0.4693879999999999,-0.4693879999999999,-0.4693879999999999,-0.4693879999999999,-0.4693879999999999,-0.4693879999999999,-0.4693879999999999,-0.4693879999999999,-0.4693879999999999,-0.4693879999999999,-0.4693879999999999,-0.4693879999999999,-0.4693879999999999,-0.4693879999999999,-0.4693879999999999,-0.4693879999999999,-0.4693879999999999,-0.4693879999999999,-0.4693879999999999,-0.4693879999999999,-0.4693879999999999,-0.4693879999999999,-0.4693879999999999,-0.4693879999999999,-0.4693879999999999,-0.4693879999999999,-0.4693879999999999,-0.4693879999999999,-0.4693879999999999,-0.4693879999999999,-0.4693879999999999,-0.4693879999999999,-0.4693879999999999,-0.4693879999999999,-0.4693879999999999,-0.4693879999999999,-0.4693879999999999,-0.4693879999999999,-0.4693879999999999,-0.4693879999999999,-0.4693879999999999,-0.4693879999999999,-0.4693879999999999,-0.4693879999999999,-0.4693879999999999,-0.4693879999999999,-0.4693879999999999,-0.4693879999999999,-0.4693879999999999,-0.4693879999999999,-0.4693879999999999,-0.4693879999999999,-0.4693879999999999,-0.4693879999999999,-0.4693879999999999,-0.4693879999999999,-0.4693879999999999,-0.4693879999999999,-0.4693879999999999,-0.4693879999999999,-0.4693879999999999,-0.4693879999999999,-0.4693879999999999,-0.4693879999999999,-0.4693879999999999,-0.4693879999999999,-0.4693879999999999,-0.4693879999999999,-0.4693879999999999,-0.4693879999999999,-0.4693879999999999],\"y\":[-0.7163265,-0.6214581701949485,-0.5535467003046788,-0.497511859020054,-0.4484419169219297,-0.4040291633052706,-0.3629782016421811,-0.3244797443057946,-0.28799059174334873,-0.2531269052408176,-0.21960678495915928,-0.18721690959780166,-0.15579197002522474,-0.12520137632285885,-0.09534032820923502,-0.06612362145192444,-0.03748123455870114,-0.0093551108894592,0.01830323455556951,0.045534525960408176,0.07237311773877761,0.0988480775071575,0.12498403931301005,0.15080188303567107,0.17631928050886936,0.20155113817056847,0.2265099584066023,0.2512061362414453,0.2756482040016657,0.29984303360778575,0.32379600394838975,0.3475111391560304,0.37099122239668336,0.39423788890163036,0.4172517013376956,0.4400322101717219,0.4625780013932541,0.4848867337792775,0.50695516778603,0.5287791881091454,0.5503538219415925,0.5716732549585475,0.5927308470512677,0.6135191498022542,0.6340299276279681,0.6542541844022484,0.6741821972056556,0.6938035586190089,0.7131072286931455,0.7320815973854058,0.750714557864908,0.768993590666019,0.7869058582291055,0.8044383089293614,0.8215777892799838,0.8383111626276347,0.8546254323574527,0.8705078674108075,0.8859461278062711,0.9009283878521772,0.9154434548504425,0.9294808813118489,0.9430310690216699,0.9560853636939801,0.9686361394106064,0.9806768725300065,0.9922022052436857,1.0032079994237866,1.0136913818167055,1.023650781967669,1.0330859644867567,1.0419980573682694,1.050389578037062,1.0582644586064331,1.065628071486279,1.072487255976991,1.0788503458303085,1.0847271969678047,1.0901292136462901,1.0950693703856866,1.0995622259830644,1.103623924998205,1.1072721813009314,1.1105262377242504,1.1134067956866152,1.1159359089492427,1.118136836565665,1.120033851635031,1.1216520047109142,1.1230168435936951,1.124154094607495,1.1250893140944638,1.1258475224190188,1.1264528358605144,1.1269281139530052,1.1272946407019822,1.127571857364089,1.1277771619766794,1.1279257866497134,1.128030758108428,1.1281029406567245,1.1281511543413132],\"z\":[149262.93543951737,141513.66946921614,136138.70815289248,131839.6291818345,128185.51392957318,124971.42650519367,122081.38008549936,119442.51233816984,117005.73994371228,114736.29731603735,112608.61047057428,110603.30120806384,108705.33105071726,106902.79670897634,105186.11831026927,103547.47494241693,101980.40169321021,100479.49543872575,99040.19580886797,97658.61931069884,96331.431784909,95055.7489851432,93829.05810737763,92649.15514298393,91514.09433657923,90422.14701545767,89371.76775851949,88361.56637775138,87390.28455288275,86456.776229178,85559.99108647743,84698.96053359391,83872.78578971374,83080.62769363984,82321.69794019,81595.25148670167,80900.5799060028,80237.00548902083,79603.87592327187,79000.5593950119,78426.4399844745,77880.91324649134,77363.38189351957,76873.25152486836,76409.92637445565,75972.80507907184,75561.27649884165,75174.715650018,74812.47983584988,74473.9050823697,74158.30300090119,73864.95820644479,73593.12641975093,73342.03337025593,73110.87459718046,72898.8162177433,72704.99669611682,72528.52960659273,72368.50734208761,72224.00567753307,72094.08905981778,71977.81646446868,71874.2476363485,71782.44951875179,71701.50267300532,71630.5074987497,71568.590082425,71514.90752637468,71468.6526412498,71429.05791765059,71395.39872682304,71366.99573258888,71343.21652575806,71323.47651675755,71307.2391413165,71294.01544748523,71283.36314018648,71274.88516242044,71268.2278909706,71263.07901996194,71259.16519898016,71256.24948474651,71254.1286575639,71252.63044676474,71251.61070384699,71250.95055825842,71250.55358894035,71250.34304450141,71250.25914567737,71250.25650472051,71250.30169660717,71250.37101555188,71250.44844659531,71250.52387570358,71250.59155308918,71250.64881404662,71250.69505058961,71250.73091686286,71250.75774288294,71250.77712550857,71250.790663032],\"type\":\"scatter3d\",\"showlegend\":false},{\"marker\":{\"color\":\"yellow\",\"size\":7},\"name\":\"Parameter Shift Rule\",\"x\":[-0.4693879999999999],\"y\":[-0.7163265],\"z\":[149262.93543951737],\"type\":\"scatter3d\"},{\"line\":{\"color\":\"red\",\"width\":10},\"mode\":\"lines\",\"x\":[0.030612000000000084,0.030612000000000084,0.030612000000000084,0.030612000000000084,0.030612000000000084,0.030612000000000084,0.030612000000000084,0.030612000000000084,0.030612000000000084,0.030612000000000084,0.030612000000000084,0.030612000000000084,0.030612000000000084,0.030612000000000084,0.030612000000000084,0.030612000000000084,0.030612000000000084,0.030612000000000084,0.030612000000000084,0.030612000000000084,0.030612000000000084,0.030612000000000084,0.030612000000000084,0.030612000000000084,0.030612000000000084,0.030612000000000084,0.030612000000000084,0.030612000000000084,0.030612000000000084,0.030612000000000084,0.030612000000000084,0.030612000000000084,0.030612000000000084,0.030612000000000084,0.030612000000000084,0.030612000000000084,0.030612000000000084,0.030612000000000084,0.030612000000000084,0.030612000000000084,0.030612000000000084,0.030612000000000084,0.030612000000000084,0.030612000000000084,0.030612000000000084,0.030612000000000084,0.030612000000000084,0.030612000000000084,0.030612000000000084,0.030612000000000084,0.030612000000000084,0.030612000000000084,0.030612000000000084,0.030612000000000084,0.030612000000000084,0.030612000000000084,0.030612000000000084,0.030612000000000084,0.030612000000000084,0.030612000000000084,0.030612000000000084,0.030612000000000084,0.030612000000000084,0.030612000000000084,0.030612000000000084,0.030612000000000084,0.030612000000000084,0.030612000000000084,0.030612000000000084,0.030612000000000084,0.030612000000000084,0.030612000000000084,0.030612000000000084,0.030612000000000084,0.030612000000000084,0.030612000000000084,0.030612000000000084,0.030612000000000084,0.030612000000000084,0.030612000000000084,0.030612000000000084,0.030612000000000084,0.030612000000000084,0.030612000000000084,0.030612000000000084,0.030612000000000084,0.030612000000000084,0.030612000000000084,0.030612000000000084,0.030612000000000084,0.030612000000000084,0.030612000000000084,0.030612000000000084,0.030612000000000084,0.030612000000000084,0.030612000000000084,0.030612000000000084,0.030612000000000084,0.030612000000000084,0.030612000000000084,0.030612000000000084,0.030612000000000084],\"y\":[-0.7163265,-0.6214581701949485,-0.5536071560003835,-0.497638606106354,-0.44863070691287554,-0.4042733738914758,-0.3632709488746715,-0.32481456758487204,-0.28836167227320486,-0.25352910938280826,-0.22003563719105032,-0.1876685372453741,-0.1562630381870522,-0.12568902152740105,-0.0958420949229884,-0.06663740344886512,-0.03800522208590795,-0.009887743970607474,0.017763306695504355,0.04498847960292025,0.07182198393348499,0.09829276643041501,0.12442536035170101,0.15024056127654867,0.17575597033395546,0.20098643464780527,0.2259444071231353,0.25064024215645064,0.275082439799465,0.29927784791408557,0.3232318296377992,0.3469484018332648,0.3704303489833055,0.3936793161113742,0.41669588368293653,0.4394796270178952,0.4620291624729391,0.48434218249863237,0.5064154816078471,0.5282449752827416,0.5498257138727227,0.5711518935741035,0.5922168666140336,0.6130131527693672,0.6335324543204605,0.6537656764579013,0.6737029550175627,0.6933336932100888,0.7126466087331539,0.7316297923112294,0.7502707783054138,0.7685566275875838,0.7864740223953902,0.8040093723984283,0.8211489307349584,0.8378789183480715,0.8541856545852451,0.8700556917487157,0.8854759511147604,0.9004338578909858,0.914917472657946,0.9289156170428642,0.9424179916886312,0.9554152849927693,0.9678992715738575,0.9798628999472901,0.9913003694248131,1.0022071967584534,1.0125802734949187,1.0224179153591846,1.0317199052171615,1.040487531253047,1.0487236219186395,1.0564325789573255,1.0636204093696568,1.0702947565739425,1.076464930237707,1.0821419333400912,1.0873384840118432,1.0920690286461474,1.0963497417568882,1.1001985071767977,1.1036348745501048,1.1066799848076478,1.1093564585448579,1.1116882420690397,1.1137004074258718,1.11541890498572,1.1168702701228876,1.118081289016024,1.119078632393101,1.119888469798396,1.1205360802541053,1.1210454775728518,1.1214390696223933,1.1217373702191715,1.1219587798694954,1.1221194473506342,1.1222332184458697,1.122311671579881,1.1223642333862,1.1223983611989852],\"z\":[149262.93543951737,141513.66946921614,136143.4158085262,131849.2043153979,128199.36757237194,124988.85283720747,122101.71234276501,119465.16269268586,117030.20461791457,114762.15056405588,112635.49533493376,110630.9198927731,108733.43593735705,106931.18235015315,105214.61446263263,103575.94059491379,102008.72000680472,100507.56950162398,99067.94510999318,97685.97683712839,96358.34165367497,95082.16452537097,93854.94031500579,92674.47143727282,91538.8175552876,90446.25459388079,89395.2410463939,88384.39005711822,87412.4461290835,86478.26557592589,85580.80003408446,84719.08249663793,83892.21543643501,83099.3606639517,82339.7306222245,81612.5808632145,80917.2034817327,80252.92130830944,79619.08268404834,79015.05666083691,78440.2284909918,77893.99529266528,77375.76180181015,76884.9361484059,76420.92562375055,75983.13243626448,75570.94948438721,75183.75620539753,74820.91458672246,74481.76544973846,74165.62513342679,73871.78271489096,73599.49790437856,73347.99974328352,73116.48621450465,72904.1248461325,72710.05435315167,72533.38731984126,72373.21388059217,72228.6063120668,72098.62440822196,71982.32147469817,71878.75075292867,71786.97206876575,71706.05849627114,71635.10283442416,71573.22371181124,71519.57116007034,71473.33152864307,71433.73164864138,71400.04218976179,71371.58018880864,71347.7107595501,71327.8480198873,71311.45529279594,71298.04465189132,71287.17589097196,71278.45500012269,71271.53222983053,71266.09982020356,71261.88946598502,71258.66958080044,71256.24241701563,71254.44109155223,71253.12656354568,71252.18460702035,71251.52282060878,71251.06771619595,71250.76192839057,71250.56158592085,71250.43388346804,71250.3548873756,71250.30760082367,71250.28030370698,71250.26517042931,71250.25715639145,71250.25313256297,71250.25123854043,71250.25041886058,71250.25010541812,71250.25001036152],\"type\":\"scatter3d\",\"showlegend\":false},{\"marker\":{\"color\":\"red\",\"size\":7},\"name\":\"Finite Difference\",\"x\":[0.030612000000000084],\"y\":[-0.7163265],\"z\":[149262.93543951737],\"type\":\"scatter3d\"}],                        {\"template\":{\"data\":{\"bar\":[{\"error_x\":{\"color\":\"#2a3f5f\"},\"error_y\":{\"color\":\"#2a3f5f\"},\"marker\":{\"line\":{\"color\":\"#E5ECF6\",\"width\":0.5},\"pattern\":{\"fillmode\":\"overlay\",\"size\":10,\"solidity\":0.2}},\"type\":\"bar\"}],\"barpolar\":[{\"marker\":{\"line\":{\"color\":\"#E5ECF6\",\"width\":0.5},\"pattern\":{\"fillmode\":\"overlay\",\"size\":10,\"solidity\":0.2}},\"type\":\"barpolar\"}],\"carpet\":[{\"aaxis\":{\"endlinecolor\":\"#2a3f5f\",\"gridcolor\":\"white\",\"linecolor\":\"white\",\"minorgridcolor\":\"white\",\"startlinecolor\":\"#2a3f5f\"},\"baxis\":{\"endlinecolor\":\"#2a3f5f\",\"gridcolor\":\"white\",\"linecolor\":\"white\",\"minorgridcolor\":\"white\",\"startlinecolor\":\"#2a3f5f\"},\"type\":\"carpet\"}],\"choropleth\":[{\"colorbar\":{\"outlinewidth\":0,\"ticks\":\"\"},\"type\":\"choropleth\"}],\"contour\":[{\"colorbar\":{\"outlinewidth\":0,\"ticks\":\"\"},\"colorscale\":[[0.0,\"#0d0887\"],[0.1111111111111111,\"#46039f\"],[0.2222222222222222,\"#7201a8\"],[0.3333333333333333,\"#9c179e\"],[0.4444444444444444,\"#bd3786\"],[0.5555555555555556,\"#d8576b\"],[0.6666666666666666,\"#ed7953\"],[0.7777777777777778,\"#fb9f3a\"],[0.8888888888888888,\"#fdca26\"],[1.0,\"#f0f921\"]],\"type\":\"contour\"}],\"contourcarpet\":[{\"colorbar\":{\"outlinewidth\":0,\"ticks\":\"\"},\"type\":\"contourcarpet\"}],\"heatmap\":[{\"colorbar\":{\"outlinewidth\":0,\"ticks\":\"\"},\"colorscale\":[[0.0,\"#0d0887\"],[0.1111111111111111,\"#46039f\"],[0.2222222222222222,\"#7201a8\"],[0.3333333333333333,\"#9c179e\"],[0.4444444444444444,\"#bd3786\"],[0.5555555555555556,\"#d8576b\"],[0.6666666666666666,\"#ed7953\"],[0.7777777777777778,\"#fb9f3a\"],[0.8888888888888888,\"#fdca26\"],[1.0,\"#f0f921\"]],\"type\":\"heatmap\"}],\"heatmapgl\":[{\"colorbar\":{\"outlinewidth\":0,\"ticks\":\"\"},\"colorscale\":[[0.0,\"#0d0887\"],[0.1111111111111111,\"#46039f\"],[0.2222222222222222,\"#7201a8\"],[0.3333333333333333,\"#9c179e\"],[0.4444444444444444,\"#bd3786\"],[0.5555555555555556,\"#d8576b\"],[0.6666666666666666,\"#ed7953\"],[0.7777777777777778,\"#fb9f3a\"],[0.8888888888888888,\"#fdca26\"],[1.0,\"#f0f921\"]],\"type\":\"heatmapgl\"}],\"histogram\":[{\"marker\":{\"pattern\":{\"fillmode\":\"overlay\",\"size\":10,\"solidity\":0.2}},\"type\":\"histogram\"}],\"histogram2d\":[{\"colorbar\":{\"outlinewidth\":0,\"ticks\":\"\"},\"colorscale\":[[0.0,\"#0d0887\"],[0.1111111111111111,\"#46039f\"],[0.2222222222222222,\"#7201a8\"],[0.3333333333333333,\"#9c179e\"],[0.4444444444444444,\"#bd3786\"],[0.5555555555555556,\"#d8576b\"],[0.6666666666666666,\"#ed7953\"],[0.7777777777777778,\"#fb9f3a\"],[0.8888888888888888,\"#fdca26\"],[1.0,\"#f0f921\"]],\"type\":\"histogram2d\"}],\"histogram2dcontour\":[{\"colorbar\":{\"outlinewidth\":0,\"ticks\":\"\"},\"colorscale\":[[0.0,\"#0d0887\"],[0.1111111111111111,\"#46039f\"],[0.2222222222222222,\"#7201a8\"],[0.3333333333333333,\"#9c179e\"],[0.4444444444444444,\"#bd3786\"],[0.5555555555555556,\"#d8576b\"],[0.6666666666666666,\"#ed7953\"],[0.7777777777777778,\"#fb9f3a\"],[0.8888888888888888,\"#fdca26\"],[1.0,\"#f0f921\"]],\"type\":\"histogram2dcontour\"}],\"mesh3d\":[{\"colorbar\":{\"outlinewidth\":0,\"ticks\":\"\"},\"type\":\"mesh3d\"}],\"parcoords\":[{\"line\":{\"colorbar\":{\"outlinewidth\":0,\"ticks\":\"\"}},\"type\":\"parcoords\"}],\"pie\":[{\"automargin\":true,\"type\":\"pie\"}],\"scatter\":[{\"marker\":{\"colorbar\":{\"outlinewidth\":0,\"ticks\":\"\"}},\"type\":\"scatter\"}],\"scatter3d\":[{\"line\":{\"colorbar\":{\"outlinewidth\":0,\"ticks\":\"\"}},\"marker\":{\"colorbar\":{\"outlinewidth\":0,\"ticks\":\"\"}},\"type\":\"scatter3d\"}],\"scattercarpet\":[{\"marker\":{\"colorbar\":{\"outlinewidth\":0,\"ticks\":\"\"}},\"type\":\"scattercarpet\"}],\"scattergeo\":[{\"marker\":{\"colorbar\":{\"outlinewidth\":0,\"ticks\":\"\"}},\"type\":\"scattergeo\"}],\"scattergl\":[{\"marker\":{\"colorbar\":{\"outlinewidth\":0,\"ticks\":\"\"}},\"type\":\"scattergl\"}],\"scattermapbox\":[{\"marker\":{\"colorbar\":{\"outlinewidth\":0,\"ticks\":\"\"}},\"type\":\"scattermapbox\"}],\"scatterpolar\":[{\"marker\":{\"colorbar\":{\"outlinewidth\":0,\"ticks\":\"\"}},\"type\":\"scatterpolar\"}],\"scatterpolargl\":[{\"marker\":{\"colorbar\":{\"outlinewidth\":0,\"ticks\":\"\"}},\"type\":\"scatterpolargl\"}],\"scatterternary\":[{\"marker\":{\"colorbar\":{\"outlinewidth\":0,\"ticks\":\"\"}},\"type\":\"scatterternary\"}],\"surface\":[{\"colorbar\":{\"outlinewidth\":0,\"ticks\":\"\"},\"colorscale\":[[0.0,\"#0d0887\"],[0.1111111111111111,\"#46039f\"],[0.2222222222222222,\"#7201a8\"],[0.3333333333333333,\"#9c179e\"],[0.4444444444444444,\"#bd3786\"],[0.5555555555555556,\"#d8576b\"],[0.6666666666666666,\"#ed7953\"],[0.7777777777777778,\"#fb9f3a\"],[0.8888888888888888,\"#fdca26\"],[1.0,\"#f0f921\"]],\"type\":\"surface\"}],\"table\":[{\"cells\":{\"fill\":{\"color\":\"#EBF0F8\"},\"line\":{\"color\":\"white\"}},\"header\":{\"fill\":{\"color\":\"#C8D4E3\"},\"line\":{\"color\":\"white\"}},\"type\":\"table\"}]},\"layout\":{\"annotationdefaults\":{\"arrowcolor\":\"#2a3f5f\",\"arrowhead\":0,\"arrowwidth\":1},\"autotypenumbers\":\"strict\",\"coloraxis\":{\"colorbar\":{\"outlinewidth\":0,\"ticks\":\"\"}},\"colorscale\":{\"diverging\":[[0,\"#8e0152\"],[0.1,\"#c51b7d\"],[0.2,\"#de77ae\"],[0.3,\"#f1b6da\"],[0.4,\"#fde0ef\"],[0.5,\"#f7f7f7\"],[0.6,\"#e6f5d0\"],[0.7,\"#b8e186\"],[0.8,\"#7fbc41\"],[0.9,\"#4d9221\"],[1,\"#276419\"]],\"sequential\":[[0.0,\"#0d0887\"],[0.1111111111111111,\"#46039f\"],[0.2222222222222222,\"#7201a8\"],[0.3333333333333333,\"#9c179e\"],[0.4444444444444444,\"#bd3786\"],[0.5555555555555556,\"#d8576b\"],[0.6666666666666666,\"#ed7953\"],[0.7777777777777778,\"#fb9f3a\"],[0.8888888888888888,\"#fdca26\"],[1.0,\"#f0f921\"]],\"sequentialminus\":[[0.0,\"#0d0887\"],[0.1111111111111111,\"#46039f\"],[0.2222222222222222,\"#7201a8\"],[0.3333333333333333,\"#9c179e\"],[0.4444444444444444,\"#bd3786\"],[0.5555555555555556,\"#d8576b\"],[0.6666666666666666,\"#ed7953\"],[0.7777777777777778,\"#fb9f3a\"],[0.8888888888888888,\"#fdca26\"],[1.0,\"#f0f921\"]]},\"colorway\":[\"#636efa\",\"#EF553B\",\"#00cc96\",\"#ab63fa\",\"#FFA15A\",\"#19d3f3\",\"#FF6692\",\"#B6E880\",\"#FF97FF\",\"#FECB52\"],\"font\":{\"color\":\"#2a3f5f\"},\"geo\":{\"bgcolor\":\"white\",\"lakecolor\":\"white\",\"landcolor\":\"#E5ECF6\",\"showlakes\":true,\"showland\":true,\"subunitcolor\":\"white\"},\"hoverlabel\":{\"align\":\"left\"},\"hovermode\":\"closest\",\"mapbox\":{\"style\":\"light\"},\"paper_bgcolor\":\"white\",\"plot_bgcolor\":\"#E5ECF6\",\"polar\":{\"angularaxis\":{\"gridcolor\":\"white\",\"linecolor\":\"white\",\"ticks\":\"\"},\"bgcolor\":\"#E5ECF6\",\"radialaxis\":{\"gridcolor\":\"white\",\"linecolor\":\"white\",\"ticks\":\"\"}},\"scene\":{\"xaxis\":{\"backgroundcolor\":\"#E5ECF6\",\"gridcolor\":\"white\",\"gridwidth\":2,\"linecolor\":\"white\",\"showbackground\":true,\"ticks\":\"\",\"zerolinecolor\":\"white\"},\"yaxis\":{\"backgroundcolor\":\"#E5ECF6\",\"gridcolor\":\"white\",\"gridwidth\":2,\"linecolor\":\"white\",\"showbackground\":true,\"ticks\":\"\",\"zerolinecolor\":\"white\"},\"zaxis\":{\"backgroundcolor\":\"#E5ECF6\",\"gridcolor\":\"white\",\"gridwidth\":2,\"linecolor\":\"white\",\"showbackground\":true,\"ticks\":\"\",\"zerolinecolor\":\"white\"}},\"shapedefaults\":{\"line\":{\"color\":\"#2a3f5f\"}},\"ternary\":{\"aaxis\":{\"gridcolor\":\"white\",\"linecolor\":\"white\",\"ticks\":\"\"},\"baxis\":{\"gridcolor\":\"white\",\"linecolor\":\"white\",\"ticks\":\"\"},\"bgcolor\":\"#E5ECF6\",\"caxis\":{\"gridcolor\":\"white\",\"linecolor\":\"white\",\"ticks\":\"\"}},\"title\":{\"x\":0.05},\"xaxis\":{\"automargin\":true,\"gridcolor\":\"white\",\"linecolor\":\"white\",\"ticks\":\"\",\"title\":{\"standoff\":15},\"zerolinecolor\":\"white\",\"zerolinewidth\":2},\"yaxis\":{\"automargin\":true,\"gridcolor\":\"white\",\"linecolor\":\"white\",\"ticks\":\"\",\"title\":{\"standoff\":15},\"zerolinecolor\":\"white\",\"zerolinewidth\":2}}},\"title\":{\"text\":\"Max-Cut Cost Funtion\"},\"autosize\":false,\"width\":1000,\"height\":1000},                        {\"responsive\": true}                    ).then(function(){\n",
              "                            \n",
              "var gd = document.getElementById('77d74789-f050-40a0-82a6-660f0af259a2');\n",
              "var x = new MutationObserver(function (mutations, observer) {{\n",
              "        var display = window.getComputedStyle(gd).display;\n",
              "        if (!display || display === 'none') {{\n",
              "            console.log([gd, 'removed!']);\n",
              "            Plotly.purge(gd);\n",
              "            observer.disconnect();\n",
              "        }}\n",
              "}});\n",
              "\n",
              "// Listen for the removal of the full notebook cells\n",
              "var notebookContainer = gd.closest('#notebook-container');\n",
              "if (notebookContainer) {{\n",
              "    x.observe(notebookContainer, {childList: true});\n",
              "}}\n",
              "\n",
              "// Listen for the clearing of the current output cell\n",
              "var outputEl = gd.closest('.output');\n",
              "if (outputEl) {{\n",
              "    x.observe(outputEl, {childList: true});\n",
              "}}\n",
              "\n",
              "                        })                };                            </script>        </div>\n",
              "</body>\n",
              "</html>"
            ]
          },
          "metadata": {}
        }
      ],
      "source": [
        "#@title Gradient Plot\n",
        "blp = Model(\"docplex model\")\n",
        "x1 = blp.binary_var(\"x1\")\n",
        "\n",
        "blp.minimize(95000*x1)\n",
        "blp.add_constraint(x1 >= 1)\n",
        "# load from a Docplex model\n",
        "qp_blp = from_docplex_mp(blp)\n",
        "print(qp_blp.export_as_lp_string())\n",
        "qubo_blp = qp2qubo.convert(qp_blp) \n",
        "qubitOp_blp, offset_contour = qubo_blp.to_ising()\n",
        "\n",
        "qubitOp_blp += 0.5*I\n",
        "H_contour = hamiltonian_from_qiskit(qubitOp_blp)\n",
        "\n",
        "from tqdm.notebook import tqdm\n",
        "# objective function\n",
        "def ansatz_cv_contour(var):\n",
        "    qml.Rotation(var[0], wires=0)\n",
        "    qml.Displacement(var[1], 0.0, wires=0)\n",
        "  \n",
        "def cost_function_cv_contour(var, problem, num_wires, cutoff_dim):\n",
        "  \n",
        "  dev = qml.device(\"strawberryfields.fock\", wires=num_wires, cutoff_dim=cutoff_dim)\n",
        "  @qml.qnode(dev)\n",
        "  def circuit(var):\n",
        "    ansatz_cv_contour(var[0])\n",
        "    return [qml.expval(qml.X(i)) for i in range(num_wires)]\n",
        "  \n",
        "  answer = circuit(var)\n",
        "  bi_answer = [a/(cutoff_dim-1) for a in answer]\n",
        "  return problem.objective.evaluate(bi_answer)\n",
        "\n",
        "\n",
        "X = np.linspace(-8, 8, 50)\n",
        "Y = np.linspace(-8, 8, 50)\n",
        "X_m, Y_m = np.meshgrid(X, Y)\n",
        "Z = np.zeros((50, 50))\n",
        "for i in tqdm(range(50)):\n",
        "  for j in range(50):\n",
        "    var = np.array([[X_m[i, j], Y_m[i, j]]])\n",
        "    Z[i, j] = cost_function_cv_contour(var, qubo_blp, len(H_contour.wires), cutoff_dim)\n",
        "\n",
        "lr = 0.03\n",
        "epochs = 101\n",
        "var_contour = np.array([[-1.469388+1.0, -0.8163265]])\n",
        "label = ansatz_label_cv(len(H_contour.wires), len(var_contour))\n",
        "cost_fn = lambda v: cost_function_cv_contour(v, qubo_blp, len(H_contour.wires), cutoff_dim)\n",
        "grad_fn = lambda var: parameter_shift_cv(lambda x: cost_function_cv_contour(x, qubo_blp, len(H_contour.wires), cutoff_dim), var, label)\n",
        "lost_list_ps, var_list_ps = train_contour(cost_fn, grad_fn, epochs, var_contour, lr)\n",
        "\n",
        "var_contour = np.array([[-1.469388+1.5, -0.8163265]])\n",
        "cost_fn = lambda v: cost_function_cv_contour(v, qubo_blp, len(H_contour.wires), cutoff_dim)\n",
        "grad_fn = lambda var: finite_difference_cv(lambda x: cost_function_cv_contour(x, qubo_blp, len(H_contour.wires), cutoff_dim), var)\n",
        "lost_list_fd, var_list_fd = train_contour(cost_fn, grad_fn, epochs, var_contour, lr)\n",
        "\n",
        "\n",
        "a_ps = []\n",
        "b_ps = []\n",
        "for var in var_list_ps:\n",
        "  a_ps.append(var[0][0])\n",
        "  b_ps.append(var[0][1]+0.1)\n",
        "c_ps = [v for v in lost_list_ps]\n",
        "\n",
        "fig = go.Figure(data=[go.Surface(x=X, y=Y, z=Z, showscale=False)])\n",
        "fig.add_trace(go.Scatter3d(x=a_ps, y=b_ps,z=c_ps, mode='lines',\n",
        "                           line=dict(\n",
        "                              color='yellow',\n",
        "                              width=10\n",
        "                          )))\n",
        "fig.add_trace(go.Scatter3d(x=[a_ps[0]], y=[b_ps[0]],z=[c_ps[0]], marker=dict(\n",
        "        size=7,\n",
        "        color=\"yellow\"\n",
        "    ), name=\"Parameter Shift Rule\" ))\n",
        "\n",
        "\n",
        "a_fd = []\n",
        "b_fd = []\n",
        "for var in var_list_fd:\n",
        "  a_fd.append(var[0][0])\n",
        "  b_fd.append(var[0][1]+0.1)\n",
        "c_fd = [v for v in lost_list_fd]\n",
        "fig.add_trace(go.Scatter3d(x=a_fd, y=b_fd,z=c_fd, mode='lines',\n",
        "                           line=dict(\n",
        "                              color='red',\n",
        "                              width=10\n",
        "                          )))\n",
        "fig.add_trace(go.Scatter3d(x=[a_fd[0]], y=[b_fd[0]],z=[c_fd[0]], marker=dict(\n",
        "        size=7,\n",
        "        color=\"red\"\n",
        "    ), name=\"Finite Difference\" ))\n",
        "\n",
        "for trace in fig['data']: \n",
        "    if(trace['name'] is None): trace['showlegend'] = False\n",
        "\n",
        "\n",
        "fig.update_layout(title='Max-Cut Cost Funtion', autosize=False,\n",
        "    width=1000,\n",
        "    height=1000)\n",
        "\n",
        "fig.show()\n"
      ]
    },
    {
      "cell_type": "markdown",
      "metadata": {
        "id": "JLMwDDYwA9-X"
      },
      "source": [
        "## Fixed the number of gate"
      ]
    },
    {
      "cell_type": "code",
      "execution_count": 58,
      "metadata": {
        "cellView": "form",
        "id": "yd5M_Ov69PD0",
        "colab": {
          "base_uri": "https://localhost:8080/",
          "height": 717
        },
        "outputId": "01590416-29d5-4762-d2b3-708566a7f49a"
      },
      "outputs": [
        {
          "output_type": "display_data",
          "data": {
            "text/html": [
              "<html>\n",
              "<head><meta charset=\"utf-8\" /></head>\n",
              "<body>\n",
              "    <div>            <script src=\"https://cdnjs.cloudflare.com/ajax/libs/mathjax/2.7.5/MathJax.js?config=TeX-AMS-MML_SVG\"></script><script type=\"text/javascript\">if (window.MathJax) {MathJax.Hub.Config({SVG: {font: \"STIX-Web\"}});}</script>                <script type=\"text/javascript\">window.PlotlyConfig = {MathJaxConfig: 'local'};</script>\n",
              "        <script src=\"https://cdn.plot.ly/plotly-2.8.3.min.js\"></script>                <div id=\"98829c10-cf0b-426c-932a-ec1d43ccca85\" class=\"plotly-graph-div\" style=\"height:700px; width:1000px;\"></div>            <script type=\"text/javascript\">                                    window.PLOTLYENV=window.PLOTLYENV || {};                                    if (document.getElementById(\"98829c10-cf0b-426c-932a-ec1d43ccca85\")) {                    Plotly.newPlot(                        \"98829c10-cf0b-426c-932a-ec1d43ccca85\",                        [{\"line\":{\"color\":\"red\",\"width\":2},\"name\":\"Continuous Parameter Shift\",\"showlegend\":true,\"x\":[0,1,2,3,4,5,6,7,8,9,10,11,12,13,14,15,16,17,18,19,20,21,22,23,24,25,26,27,28,29,30,31,32,33,34,35,36,37,38,39,40,41,42,43,44,45,46,47,48,49,50,51,52,53,54,55,56,57,58,59,60,61,62,63,64,65,66,67,68,69,70,71,72,73,74,75,76,77,78,79,80,81,82,83,84,85,86,87,88,89,90,91,92,93,94,95,96,97,98,99,100],\"y\":[0.5241056650101386,-0.7960511046334832,-1.416780885491895,-1.77700624442561,-2.001515592484142,-2.1464825125994693,-2.242014272183973,-2.3059142580061103,-2.3494084564199977,-2.3797608816814817,-2.4015964959742515,-2.4177088400621303,-2.4296595325565993,-2.4382652418814232,-2.4439948800926805,-2.4472823721242656,-2.4487396769421133,-2.4492223688909682,-2.4497135458148493,-2.451090629721154,-2.4539315165256577,-2.4584743800780045,-2.464713269499223,-2.472537114430055,-2.481840370604839,-2.4925801096515956,-2.5047773074250097,-2.518463411318651,-2.533579604472087,-2.5498632461068156,-2.566802600737576,-2.583755357568477,-2.6002139299795237,-2.6159957585692792,-2.6311425496598897,-2.645665770741458,-2.6594687674282187,-2.6724653957221776,-2.684667594444358,-2.6961758739694703,-2.7071502261798597,-2.717782235963324,-2.7282504612918848,-2.738672332967242,-2.7490875341062866,-2.759487071887939,-2.769861286900768,-2.780225718342076,-2.790605428612614,-2.8009907171779265,-2.811284185052417,-2.8212606308574264,-2.830526990206174,-2.8385581192573746,-2.8447003778442808,-2.8488522825090787,-2.85104849014008,-2.8545421319600695,-2.856157755636967,-2.8619906327953126,-2.86197685653804,-2.85180234968598,-2.8567946677911222,-2.878675002567507,-2.8498154472888015,-2.882089150063341,-2.864769933440242,-2.8798193224934194,-2.8715402159520624,-2.878530953215735,-2.8749286600092283,-2.879508871066187,-2.878688997763213,-2.8807986988279977,-2.8825476306898663,-2.8840079415186697,-2.887422251419488,-2.88935909864799,-2.8888918001796684,-2.8859301373738764,-2.8818985052530537,-2.876744338457325,-2.876315710854855,-2.8752741585930837,-2.873056650067171,-2.8754866293959687,-2.859615389296006,-2.8637862283684985,-2.836407069639109,-2.841092112717923,-2.8190773586197855,-2.819358556693525,-2.800212972752228,-2.7976799579766984,-2.788389123952494,-2.7957479841772175,-2.7862364555641803,-2.7931728928784847,-2.779592625995402,-2.790980638753843,-2.7711603329404406],\"type\":\"scatter\",\"xaxis\":\"x\",\"yaxis\":\"y\"},{\"line\":{\"color\":\"green\",\"width\":2},\"mode\":\"lines\",\"name\":\"Continuous Finite Difference\",\"showlegend\":true,\"x\":[0,1,2,3,4,5,6,7,8,9,10,11,12,13,14,15,16,17,18,19,20,21,22,23,24,25,26,27,28,29,30,31,32,33,34,35,36,37,38,39,40,41,42,43,44,45,46,47,48,49,50,51,52,53,54,55,56,57,58,59,60,61,62,63,64,65,66,67,68,69,70,71,72,73,74,75,76,77,78,79,80,81,82,83,84,85,86,87,88,89,90,91,92,93,94,95,96,97,98,99,100],\"y\":[0.5241056650101386,-0.8112683530201292,-1.4336921838436596,-1.7846171694619124,-2.0030185825173143,-2.146390863049241,-2.2437356279563927,-2.310999254760575,-2.3581223009250136,-2.3914487813564667,-2.415317950942402,-2.4326892689083306,-2.445639545321131,-2.4555782614517674,-2.463467115884294,-2.469947787484106,-2.4754578359619916,-2.480300252168671,-2.484695695566922,-2.488812969770949,-2.492790915008044,-2.4967522840233896,-2.500813227035037,-2.5050906132461277,-2.509699351817247,-2.5147460792087637,-2.5202811756950165,-2.5263107245215766,-2.5328892666357326,-2.540156465860968,-2.5477852471932163,-2.5556956757088223,-2.5637772548960482,-2.5724121710785854,-2.5818385818709286,-2.593054127703507,-2.606595301425826,-2.623281724730357,-2.6422146996765625,-2.6614966967701417,-2.6781115449790773,-2.693224285134236,-2.707177317484845,-2.7217959037452086,-2.734103630335807,-2.7453310557615596,-2.7560579428540097,-2.764196222794489,-2.7712801336063007,-2.774574871720854,-2.781775555335124,-2.7842156869237518,-2.79209538569605,-2.7941501489921095,-2.7975854565313387,-2.7977619124878705,-2.7985805346813257,-2.7994589256022384,-2.8002060244101665,-2.803242833510707,-2.8040674829375076,-2.8072211886626146,-2.807246008625901,-2.8089119797363584,-2.8072829111953057,-2.8069415255500383,-2.806057679001321,-2.808766404878158,-2.809385716470781,-2.8117430548663065,-2.8121119727573842,-2.8132050124771615,-2.8132292958772864,-2.8131031887277116,-2.8126603188076467,-2.8108182658041296,-2.807048832792284,-2.803466480256947,-2.8027936556621342,-2.807156299080415,-2.8109595443704642,-2.8114267681402287,-2.814060662559851,-2.81316689267663,-2.8148519112245287,-2.8137068625341284,-2.8152005214385682,-2.814046138989272,-2.8151250302235105,-2.813588233741757,-2.8137917422383407,-2.811871389729382,-2.812112080857482,-2.811616529436801,-2.8132955820708356,-2.8138717116206378,-2.8155153171815037,-2.815264230032599,-2.816354039720859,-2.8149670287142325,-2.8161403794637354],\"type\":\"scatter\",\"xaxis\":\"x\",\"yaxis\":\"y\"},{\"line\":{\"color\":\"red\",\"width\":2},\"name\":\"Continuous Parameter Shift\",\"showlegend\":false,\"x\":[0,1,2,3,4,5,6,7,8,9,10,11,12,13,14,15,16,17,18,19,20,21,22,23,24,25,26,27,28,29,30,31,32,33,34,35,36,37,38,39,40,41,42,43,44,45,46,47,48,49,50,51,52,53,54,55,56,57,58,59,60,61,62,63,64,65,66,67,68,69,70,71,72,73,74,75,76,77,78,79,80,81,82,83,84,85,86,87,88,89,90,91,92,93,94,95,96,97,98,99,100],\"y\":[-0.17686201608485452,-0.539320843909652,-0.7553174833410787,-0.938969164080479,-1.0815441820580614,-1.195277098605475,-1.287635008736892,-1.3638143253629744,-1.4276454122562325,-1.482860722891075,-1.5330775015741405,-1.58104367482904,-1.6281352658739618,-1.6744706187841238,-1.7195121302605147,-1.76277482580962,-1.8041369360800723,-1.8436317180719874,-1.8810993813031387,-1.9160469101659936,-1.9477540105592186,-1.9754986027842296,-1.9987673910178176,-2.0173753808580885,-2.031488105259552,-2.0415912207569242,-2.048432669146048,-2.052923451295306,-2.0559982086627016,-2.058465900120971,-2.0609646715010417,-2.0638732805478757,-2.0675744632267694,-2.0717834196706395,-2.077134620805615,-2.0754974158371704,-2.081515269965069,-2.0924823367776066,-2.094903234480865,-2.0805566884733326,-2.095950455113294,-2.1011152735060543,-2.1117390450199176,-2.116856322610192,-2.1208217819529906,-2.1270466920030477,-2.1275389014784993,-2.1354165351538423,-2.1322762970590063,-2.1417417967726857,-2.135368108290524,-2.1456912239566766,-2.1392569841988154,-2.1489337219604896,-2.144443558319545,-2.151605751024193,-2.149292554979804,-2.153235585800253,-2.1530112387965534,-2.1545468754029837,-2.1546498745363567,-2.15505966126138,-2.152695828261913,-2.157738259974423,-2.1517782607788893,-2.1581732883049334,-2.152600085028692,-2.1599186847458287,-2.1637315495602656,-2.167724505564285,-2.168395519333136,-2.170364903565061,-2.1695348844053353,-2.1686619160248863,-2.167630468679487,-2.1532022645867865,-2.1535980749961574,-2.1376637790515316,-2.159492706088229,-2.1572688002805704,-2.1654282667440627,-2.161778623975129,-2.1637223044581586,-2.1608964190726407,-2.1616475126606858,-2.1577114196064016,-2.158431002198294,-2.1492471226237786,-2.150768333442254,-2.1367736565115543,-2.1475278593244482,-2.1309971614981222,-2.1473928487882574,-2.1311299266100576,-2.1484852194724398,-2.135637671757509,-2.1488991234780657,-2.1375708305189205,-2.147681354383976,-2.136389947350033,-2.1455468571621292],\"type\":\"scatter\",\"xaxis\":\"x2\",\"yaxis\":\"y2\"},{\"line\":{\"color\":\"green\",\"width\":2},\"mode\":\"lines\",\"name\":\"Continuous Finite Difference\",\"showlegend\":false,\"x\":[0,1,2,3,4,5,6,7,8,9,10,11,12,13,14,15,16,17,18,19,20,21,22,23,24,25,26,27,28,29,30,31,32,33,34,35,36,37,38,39,40,41,42,43,44,45,46,47,48,49,50,51,52,53,54,55,56,57,58,59,60,61,62,63,64,65,66,67,68,69,70,71,72,73,74,75,76,77,78,79,80,81,82,83,84,85,86,87,88,89,90,91,92,93,94,95,96,97,98,99,100],\"y\":[-0.17686201608485452,-0.5735409189007283,-0.8220667103701631,-1.0043945401610608,-1.1401253188240237,-1.2442151539414765,-1.3247150547112354,-1.388596352202139,-1.442210082917689,-1.4899276229351335,-1.5347132490110516,-1.5786759025938482,-1.6237167872195117,-1.6710428554555246,-1.7182042704692302,-1.7642211256449105,-1.8097816587210187,-1.8564784410529809,-1.9060135011590515,-1.9572490643899934,-2.0086775464492717,-2.0509037218361748,-2.0805294959162346,-2.0985807913552312,-2.111738771504097,-2.1200576644182907,-2.127514665898741,-2.1330036654815165,-2.139502272001721,-2.143667161313565,-2.1452099818042085,-2.1459259765332726,-2.146028941324311,-2.151250099040124,-2.1540346332182705,-2.1578560915141964,-2.1597506459621068,-2.1615584351405643,-2.16244390869886,-2.16316767343334,-2.163241524114427,-2.163112070222128,-2.1623330058750954,-2.1614399002146234,-2.1602295631317276,-2.159482519072845,-2.1591722175187114,-2.15933565694729,-2.1600641980539357,-2.160568760264951,-2.1614704159813383,-2.1617693629428985,-2.1622222985047896,-2.162083014028328,-2.162106518981784,-2.1615520392786713,-2.1614279032056074,-2.1607096538406303,-2.160822149031685,-2.1603315975478132,-2.1607148088837147,-2.1605805708792873,-2.160909025508167,-2.1610668460932088,-2.1613353017901042,-2.1617322456117183,-2.1622167583168608,-2.1624415058732174,-2.162894738843303,-2.1624302098418378,-2.1622166052726377,-2.1606659539538184,-2.159614271156886,-2.158567178323012,-2.159971371455506,-2.160819570553549,-2.162648148233478,-2.1622710752011924,-2.1627345767594317,-2.1611320511499383,-2.1623161655600267,-2.162221062490199,-2.1647229651127757,-2.165021638496918,-2.166120697921741,-2.1653668233246655,-2.165126793752882,-2.1631961927049463,-2.16295951924487,-2.162012515906227,-2.1637032146803326,-2.1638802536213526,-2.1640819466550587,-2.1614380658645476,-2.160506511634865,-2.164118113360681,-2.167019943138032,-2.169263301906259,-2.1699096581835513,-2.1703854382918353,-2.169933933311791],\"type\":\"scatter\",\"xaxis\":\"x2\",\"yaxis\":\"y2\"},{\"line\":{\"color\":\"red\",\"width\":2},\"name\":\"Continuous Parameter Shift\",\"showlegend\":false,\"x\":[0,1,2,3,4,5,6,7,8,9,10,11,12,13,14,15,16,17,18,19,20,21,22,23,24,25,26,27,28,29,30,31,32,33,34,35,36,37,38,39,40,41,42,43,44,45,46,47,48,49,50,51,52,53,54,55,56,57,58,59,60,61,62,63,64,65,66,67,68,69,70,71,72,73,74,75,76,77,78,79,80,81,82,83,84,85,86,87,88,89,90,91,92,93,94,95,96,97,98,99,100],\"y\":[946844.7480289252,809468.7197913876,735591.5200820902,682511.8256528397,642246.91664538,612586.3753971837,591799.3856006045,577694.2113330204,568008.9955466553,561012.8500782559,555666.9795001807,551458.179526579,548214.0874800665,545948.4670393425,544663.8589628648,544222.7548859124,544346.6864815212,544702.8482360339,544995.611249245,545012.2367526873,544625.3126198228,543771.9117908068,542424.4610906099,540565.3734481083,538175.7442251365,535247.2986485455,531820.4034435261,528026.8330285095,524087.17068682495,520242.80133385665,516679.01143835223,513494.8608984135,510721.34243944136,508369.7166058068,506476.69261356286,505100.36112515314,504259.92654673447,503874.5578899861,503764.94363553583,503729.08416306146,503645.0903495406,503534.7579192928,503529.96473431576,503737.708093266,504128.6233302909,504576.9967418392,504971.9640135695,505250.39831428754,505377.9313828671,505342.1126466368,505163.53921315423,504889.6339601562,504612.1320931002,504397.16023080796,504411.225406149,504514.7053582731,505402.9195964435,505414.0173732059,510202.32962290815,508676.50013631146,517663.20118668687,510898.15220663056,515035.33732596977,510664.69608080003,512747.01307887945,510416.6167408249,511702.0243044592,509738.6032274407,510951.1212287127,508788.90166688245,510344.6245749664,507707.5296393923,509621.0906115412,506684.6865712936,508372.8426093679,506082.16362785327,506870.8175905248,506589.43033278565,506619.72288602404,509131.2084334964,508771.5021204102,513771.84167088306,513207.73815748177,519576.3728202571,519332.5263423284,523978.5052942869,526498.2524437425,525184.3661311513,531395.0762512789,527173.2463484334,533276.5983892403,529742.2276595657,534473.3347388039,532421.4239952819,535362.7509125305,535314.110941045,535523.7227679782,537353.8651641945,534724.765689273,538087.8515895896,533046.283232105],\"type\":\"scatter\",\"xaxis\":\"x3\",\"yaxis\":\"y3\"},{\"line\":{\"color\":\"green\",\"width\":2},\"mode\":\"lines\",\"name\":\"Continuous Finite Difference\",\"showlegend\":false,\"x\":[0,1,2,3,4,5,6,7,8,9,10,11,12,13,14,15,16,17,18,19,20,21,22,23,24,25,26,27,28,29,30,31,32,33,34,35,36,37,38,39,40,41,42,43,44,45,46,47,48,49,50,51,52,53,54,55,56,57,58,59,60,61,62,63,64,65,66,67,68,69,70,71,72,73,74,75,76,77,78,79,80,81,82,83,84,85,86,87,88,89,90,91,92,93,94,95,96,97,98,99,100],\"y\":[946844.7480289252,808866.5250210344,736587.4901821594,684589.6457005577,644931.8713154189,615187.3015593969,593574.2964582844,577989.5764812054,566328.8595011696,557127.0616869681,549469.1085256214,542785.2738488393,536809.2419936496,531500.6509040818,526984.0547815298,523379.7935320023,520656.38392427284,518678.867238162,516880.2402003913,514849.07099782175,512756.0388196339,510439.09018574574,508100.8005515423,505562.27954110503,502916.221000934,500138.81337442866,497391.9077487023,494805.0024126433,492560.677942758,490701.882842992,489177.931830909,487823.0462361167,486472.12055708084,484971.002182727,483255.45770771743,481373.33981963724,479556.2041624661,478091.9802479192,477139.34955745377,476657.14284712024,476541.99680161895,476505.2289106214,476411.7169413144,475989.6425332194,475748.3727745348,475396.03367478214,475269.4211337161,475113.484082262,475131.15074558184,475114.6163720834,475287.68697061716,475224.8589448674,475363.7175649865,475096.6391268627,475203.40040229785,474975.56950276665,475134.297571807,474867.8138774598,474939.4037134282,474607.85649769916,474651.1084773253,474410.40570736356,474544.54165665875,474377.04549616424,474578.59180521255,474341.3796137109,474492.8117596477,474191.4499316269,474314.27494980226,474055.6145857128,474198.8436974987,473944.8178337086,474067.65388395335,473784.13992162107,473886.1183305156,473639.3432520015,473766.38474213274,473570.6771312719,473710.638766248,473503.2724608809,473600.69784925965,473366.72287869395,473457.76164824376,473254.50225862727,473398.658518285,473198.9805862908,473355.1934379386,473103.5083093929,473216.98029124946,472985.3119170602,473072.6662401863,472905.6237172956,472962.33739825373,472816.08798912953,472902.56760782364,472890.8792594926,473583.9135767082,474137.9373944672,473985.42261542624,473218.4177183168,472869.752333045],\"type\":\"scatter\",\"xaxis\":\"x3\",\"yaxis\":\"y3\"},{\"line\":{\"color\":\"red\",\"width\":2},\"name\":\"Continuous Parameter Shift\",\"showlegend\":false,\"x\":[0,1,2,3,4,5,6,7,8,9,10,11,12,13,14,15,16,17,18,19,20,21,22,23,24,25,26,27,28,29,30,31,32,33,34,35,36,37,38,39,40,41,42,43,44,45,46,47,48,49,50,51,52,53,54,55,56,57,58,59,60,61,62,63,64,65,66,67,68,69,70,71,72,73,74,75,76,77,78,79,80,81,82,83,84,85,86,87,88,89,90,91,92,93,94,95,96,97,98,99,100],\"y\":[20.205993524560903,11.360123483866321,7.790572600830382,5.774956211985355,4.465478069719573,3.5375463536545446,2.8178873980649826,2.2310460505649132,1.7264305363490848,1.2797024416594383,0.8772623245275817,0.5161999917247613,0.19797628255894395,-0.0751097468325348,-0.3033718184507599,-0.4902380462873275,-0.6410143133388786,-0.7612324238466961,-0.856006302177093,-0.9301914302263725,-0.9885062475132571,-1.0352589150246843,-1.0739913931297274,-1.1073188658282014,-1.136996134122903,-1.1641234673166387,-1.189379188083933,-1.213205760536404,-1.2359268900581455,-1.2578052132684334,-1.2790589090915319,-1.299856790545654,-1.320308366009705,-1.3404613090445991,-1.3603105535162712,-1.379817273896066,-1.3989295946526212,-1.417600452614181,-1.4357976721218364,-1.4535136683297978,-1.470772922460874,-1.4876492732979756,-1.504261599676127,-1.520755661466282,-1.5372093589915465,-1.5535664871925405,-1.5695140946408657,-1.5845594772925011,-1.5980837674866208,-1.6094117760338662,-1.6186341743730281,-1.6238310115617764,-1.6302426971280752,-1.6189754949384891,-1.6390084063410342,-1.5460394468212968,-1.6400820046756337,-1.605416255041547,-1.6427697738790528,-1.623532589825281,-1.6379166345115976,-1.6228303742161359,-1.6320893245315062,-1.6175610819552162,-1.6267005177419591,-1.6069210699663898,-1.6202040752100615,-1.5859944950014722,-1.6093208408273085,-1.5712871594307245,-1.603599469786488,-1.58302353423624,-1.6047124797521306,-1.5860488389012488,-1.5967846751677541,-1.5807094051325379,-1.5882092483912658,-1.5700942889127987,-1.5778693191167505,-1.5548439479696157,-1.565453587288161,-1.5369455541275556,-1.5524768351675817,-1.5227619944028987,-1.5415241171185983,-1.514618968406424,-1.5318328181877945,-1.5086200435732806,-1.5237584619785878,-1.5037698900775212,-1.5190129884508679,-1.5009733953197184,-1.5183158255627802,-1.4996559850387214,-1.5202283974321773,-1.4993254287056885,-1.528379771229524,-1.514392832818075,-1.5432542605719917,-1.5322693639641116,-1.5602507749337988],\"type\":\"scatter\",\"xaxis\":\"x4\",\"yaxis\":\"y4\"},{\"line\":{\"color\":\"green\",\"width\":2},\"mode\":\"lines\",\"name\":\"Continuous Finite Difference\",\"showlegend\":false,\"x\":[0,1,2,3,4,5,6,7,8,9,10,11,12,13,14,15,16,17,18,19,20,21,22,23,24,25,26,27,28,29,30,31,32,33,34,35,36,37,38,39,40,41,42,43,44,45,46,47,48,49,50,51,52,53,54,55,56,57,58,59,60,61,62,63,64,65,66,67,68,69,70,71,72,73,74,75,76,77,78,79,80,81,82,83,84,85,86,87,88,89,90,91,92,93,94,95,96,97,98,99,100],\"y\":[20.205993524560903,11.360124642167358,7.892749994057146,5.864683405674594,4.535029549067129,3.561624871105616,2.7986550525598304,2.175365496382753,1.6538503982685953,1.2124326082211496,0.8374231365581721,0.5189146194150709,0.24863577426301475,0.019100088035919782,-0.17653102409983745,-0.3443071039865657,-0.4893457687582625,-0.6157982914431415,-0.7269236727603463,-0.8252277950741274,-0.9126235481736913,-0.990582451645011,-1.0602628258174178,-1.122609434930851,-1.1784252805295203,-1.2284193501672647,-1.2732355726149223,-1.313468423933628,-1.349669877252495,-1.382351096474423,-1.4119809182269307,-1.438982184182592,-1.4637266678899366,-1.4865297337532155,-1.507646659512531,-1.5272730286784082,-1.5455509021444058,-1.5625803649156254,-1.5784335699501781,-1.5931674268865024,-1.6068324655053416,-1.619477875170432,-1.6311542118737492,-1.6419150731948235,-1.651818066030586,-1.6609246734159768,-1.6692984903731016,-1.6770016503354555,-1.6840899707484454,-1.6906082043150832,-1.696587394861865,-1.702046201015456,-1.7069968524896382,-1.7114543676439382,-1.7154456945549228,-1.7190148018784157,-1.7222212284157123,-1.7251326725245377,-1.7278150332437079,-1.73032406700149,-1.7327012283214174,-1.734973772179309,-1.7371575208019934,-1.7392604354084824,-1.741285768959905,-1.7432343430374928,-1.7451059806634674,-1.7469003085312877,-1.7486171498994452,-1.7502566633610996,-1.751819376524523,-1.7533059556728432,-1.7547170598951851,-1.7560165295999184,-1.7557299650470668,-1.724000436883955,-1.634928769678499,-1.6650882663940791,-1.7280166743127197,-1.7566261892014268,-1.7599518335647133,-1.7610059905840387,-1.7617141886334338,-1.7622753497641241,-1.762779144713491,-1.7630746177945724,-1.7631677770705352,-1.7619446818679378,-1.7590467017441043,-1.743476090300888,-1.7414653289272337,-1.7091043816612839,-1.7597712765783342,-1.7615141898283753,-1.761095658115444,-1.7520355379462487,-1.7466256919500225,-1.717903110247569,-1.7583103594426035,-1.7575971210282262,-1.7643423675578447],\"type\":\"scatter\",\"xaxis\":\"x4\",\"yaxis\":\"y4\"}],                        {\"template\":{\"data\":{\"bar\":[{\"error_x\":{\"color\":\"#2a3f5f\"},\"error_y\":{\"color\":\"#2a3f5f\"},\"marker\":{\"line\":{\"color\":\"#E5ECF6\",\"width\":0.5},\"pattern\":{\"fillmode\":\"overlay\",\"size\":10,\"solidity\":0.2}},\"type\":\"bar\"}],\"barpolar\":[{\"marker\":{\"line\":{\"color\":\"#E5ECF6\",\"width\":0.5},\"pattern\":{\"fillmode\":\"overlay\",\"size\":10,\"solidity\":0.2}},\"type\":\"barpolar\"}],\"carpet\":[{\"aaxis\":{\"endlinecolor\":\"#2a3f5f\",\"gridcolor\":\"white\",\"linecolor\":\"white\",\"minorgridcolor\":\"white\",\"startlinecolor\":\"#2a3f5f\"},\"baxis\":{\"endlinecolor\":\"#2a3f5f\",\"gridcolor\":\"white\",\"linecolor\":\"white\",\"minorgridcolor\":\"white\",\"startlinecolor\":\"#2a3f5f\"},\"type\":\"carpet\"}],\"choropleth\":[{\"colorbar\":{\"outlinewidth\":0,\"ticks\":\"\"},\"type\":\"choropleth\"}],\"contour\":[{\"colorbar\":{\"outlinewidth\":0,\"ticks\":\"\"},\"colorscale\":[[0.0,\"#0d0887\"],[0.1111111111111111,\"#46039f\"],[0.2222222222222222,\"#7201a8\"],[0.3333333333333333,\"#9c179e\"],[0.4444444444444444,\"#bd3786\"],[0.5555555555555556,\"#d8576b\"],[0.6666666666666666,\"#ed7953\"],[0.7777777777777778,\"#fb9f3a\"],[0.8888888888888888,\"#fdca26\"],[1.0,\"#f0f921\"]],\"type\":\"contour\"}],\"contourcarpet\":[{\"colorbar\":{\"outlinewidth\":0,\"ticks\":\"\"},\"type\":\"contourcarpet\"}],\"heatmap\":[{\"colorbar\":{\"outlinewidth\":0,\"ticks\":\"\"},\"colorscale\":[[0.0,\"#0d0887\"],[0.1111111111111111,\"#46039f\"],[0.2222222222222222,\"#7201a8\"],[0.3333333333333333,\"#9c179e\"],[0.4444444444444444,\"#bd3786\"],[0.5555555555555556,\"#d8576b\"],[0.6666666666666666,\"#ed7953\"],[0.7777777777777778,\"#fb9f3a\"],[0.8888888888888888,\"#fdca26\"],[1.0,\"#f0f921\"]],\"type\":\"heatmap\"}],\"heatmapgl\":[{\"colorbar\":{\"outlinewidth\":0,\"ticks\":\"\"},\"colorscale\":[[0.0,\"#0d0887\"],[0.1111111111111111,\"#46039f\"],[0.2222222222222222,\"#7201a8\"],[0.3333333333333333,\"#9c179e\"],[0.4444444444444444,\"#bd3786\"],[0.5555555555555556,\"#d8576b\"],[0.6666666666666666,\"#ed7953\"],[0.7777777777777778,\"#fb9f3a\"],[0.8888888888888888,\"#fdca26\"],[1.0,\"#f0f921\"]],\"type\":\"heatmapgl\"}],\"histogram\":[{\"marker\":{\"pattern\":{\"fillmode\":\"overlay\",\"size\":10,\"solidity\":0.2}},\"type\":\"histogram\"}],\"histogram2d\":[{\"colorbar\":{\"outlinewidth\":0,\"ticks\":\"\"},\"colorscale\":[[0.0,\"#0d0887\"],[0.1111111111111111,\"#46039f\"],[0.2222222222222222,\"#7201a8\"],[0.3333333333333333,\"#9c179e\"],[0.4444444444444444,\"#bd3786\"],[0.5555555555555556,\"#d8576b\"],[0.6666666666666666,\"#ed7953\"],[0.7777777777777778,\"#fb9f3a\"],[0.8888888888888888,\"#fdca26\"],[1.0,\"#f0f921\"]],\"type\":\"histogram2d\"}],\"histogram2dcontour\":[{\"colorbar\":{\"outlinewidth\":0,\"ticks\":\"\"},\"colorscale\":[[0.0,\"#0d0887\"],[0.1111111111111111,\"#46039f\"],[0.2222222222222222,\"#7201a8\"],[0.3333333333333333,\"#9c179e\"],[0.4444444444444444,\"#bd3786\"],[0.5555555555555556,\"#d8576b\"],[0.6666666666666666,\"#ed7953\"],[0.7777777777777778,\"#fb9f3a\"],[0.8888888888888888,\"#fdca26\"],[1.0,\"#f0f921\"]],\"type\":\"histogram2dcontour\"}],\"mesh3d\":[{\"colorbar\":{\"outlinewidth\":0,\"ticks\":\"\"},\"type\":\"mesh3d\"}],\"parcoords\":[{\"line\":{\"colorbar\":{\"outlinewidth\":0,\"ticks\":\"\"}},\"type\":\"parcoords\"}],\"pie\":[{\"automargin\":true,\"type\":\"pie\"}],\"scatter\":[{\"marker\":{\"colorbar\":{\"outlinewidth\":0,\"ticks\":\"\"}},\"type\":\"scatter\"}],\"scatter3d\":[{\"line\":{\"colorbar\":{\"outlinewidth\":0,\"ticks\":\"\"}},\"marker\":{\"colorbar\":{\"outlinewidth\":0,\"ticks\":\"\"}},\"type\":\"scatter3d\"}],\"scattercarpet\":[{\"marker\":{\"colorbar\":{\"outlinewidth\":0,\"ticks\":\"\"}},\"type\":\"scattercarpet\"}],\"scattergeo\":[{\"marker\":{\"colorbar\":{\"outlinewidth\":0,\"ticks\":\"\"}},\"type\":\"scattergeo\"}],\"scattergl\":[{\"marker\":{\"colorbar\":{\"outlinewidth\":0,\"ticks\":\"\"}},\"type\":\"scattergl\"}],\"scattermapbox\":[{\"marker\":{\"colorbar\":{\"outlinewidth\":0,\"ticks\":\"\"}},\"type\":\"scattermapbox\"}],\"scatterpolar\":[{\"marker\":{\"colorbar\":{\"outlinewidth\":0,\"ticks\":\"\"}},\"type\":\"scatterpolar\"}],\"scatterpolargl\":[{\"marker\":{\"colorbar\":{\"outlinewidth\":0,\"ticks\":\"\"}},\"type\":\"scatterpolargl\"}],\"scatterternary\":[{\"marker\":{\"colorbar\":{\"outlinewidth\":0,\"ticks\":\"\"}},\"type\":\"scatterternary\"}],\"surface\":[{\"colorbar\":{\"outlinewidth\":0,\"ticks\":\"\"},\"colorscale\":[[0.0,\"#0d0887\"],[0.1111111111111111,\"#46039f\"],[0.2222222222222222,\"#7201a8\"],[0.3333333333333333,\"#9c179e\"],[0.4444444444444444,\"#bd3786\"],[0.5555555555555556,\"#d8576b\"],[0.6666666666666666,\"#ed7953\"],[0.7777777777777778,\"#fb9f3a\"],[0.8888888888888888,\"#fdca26\"],[1.0,\"#f0f921\"]],\"type\":\"surface\"}],\"table\":[{\"cells\":{\"fill\":{\"color\":\"#EBF0F8\"},\"line\":{\"color\":\"white\"}},\"header\":{\"fill\":{\"color\":\"#C8D4E3\"},\"line\":{\"color\":\"white\"}},\"type\":\"table\"}]},\"layout\":{\"annotationdefaults\":{\"arrowcolor\":\"#2a3f5f\",\"arrowhead\":0,\"arrowwidth\":1},\"autotypenumbers\":\"strict\",\"coloraxis\":{\"colorbar\":{\"outlinewidth\":0,\"ticks\":\"\"}},\"colorscale\":{\"diverging\":[[0,\"#8e0152\"],[0.1,\"#c51b7d\"],[0.2,\"#de77ae\"],[0.3,\"#f1b6da\"],[0.4,\"#fde0ef\"],[0.5,\"#f7f7f7\"],[0.6,\"#e6f5d0\"],[0.7,\"#b8e186\"],[0.8,\"#7fbc41\"],[0.9,\"#4d9221\"],[1,\"#276419\"]],\"sequential\":[[0.0,\"#0d0887\"],[0.1111111111111111,\"#46039f\"],[0.2222222222222222,\"#7201a8\"],[0.3333333333333333,\"#9c179e\"],[0.4444444444444444,\"#bd3786\"],[0.5555555555555556,\"#d8576b\"],[0.6666666666666666,\"#ed7953\"],[0.7777777777777778,\"#fb9f3a\"],[0.8888888888888888,\"#fdca26\"],[1.0,\"#f0f921\"]],\"sequentialminus\":[[0.0,\"#0d0887\"],[0.1111111111111111,\"#46039f\"],[0.2222222222222222,\"#7201a8\"],[0.3333333333333333,\"#9c179e\"],[0.4444444444444444,\"#bd3786\"],[0.5555555555555556,\"#d8576b\"],[0.6666666666666666,\"#ed7953\"],[0.7777777777777778,\"#fb9f3a\"],[0.8888888888888888,\"#fdca26\"],[1.0,\"#f0f921\"]]},\"colorway\":[\"#636efa\",\"#EF553B\",\"#00cc96\",\"#ab63fa\",\"#FFA15A\",\"#19d3f3\",\"#FF6692\",\"#B6E880\",\"#FF97FF\",\"#FECB52\"],\"font\":{\"color\":\"#2a3f5f\"},\"geo\":{\"bgcolor\":\"white\",\"lakecolor\":\"white\",\"landcolor\":\"#E5ECF6\",\"showlakes\":true,\"showland\":true,\"subunitcolor\":\"white\"},\"hoverlabel\":{\"align\":\"left\"},\"hovermode\":\"closest\",\"mapbox\":{\"style\":\"light\"},\"paper_bgcolor\":\"white\",\"plot_bgcolor\":\"#E5ECF6\",\"polar\":{\"angularaxis\":{\"gridcolor\":\"white\",\"linecolor\":\"white\",\"ticks\":\"\"},\"bgcolor\":\"#E5ECF6\",\"radialaxis\":{\"gridcolor\":\"white\",\"linecolor\":\"white\",\"ticks\":\"\"}},\"scene\":{\"xaxis\":{\"backgroundcolor\":\"#E5ECF6\",\"gridcolor\":\"white\",\"gridwidth\":2,\"linecolor\":\"white\",\"showbackground\":true,\"ticks\":\"\",\"zerolinecolor\":\"white\"},\"yaxis\":{\"backgroundcolor\":\"#E5ECF6\",\"gridcolor\":\"white\",\"gridwidth\":2,\"linecolor\":\"white\",\"showbackground\":true,\"ticks\":\"\",\"zerolinecolor\":\"white\"},\"zaxis\":{\"backgroundcolor\":\"#E5ECF6\",\"gridcolor\":\"white\",\"gridwidth\":2,\"linecolor\":\"white\",\"showbackground\":true,\"ticks\":\"\",\"zerolinecolor\":\"white\"}},\"shapedefaults\":{\"line\":{\"color\":\"#2a3f5f\"}},\"ternary\":{\"aaxis\":{\"gridcolor\":\"white\",\"linecolor\":\"white\",\"ticks\":\"\"},\"baxis\":{\"gridcolor\":\"white\",\"linecolor\":\"white\",\"ticks\":\"\"},\"bgcolor\":\"#E5ECF6\",\"caxis\":{\"gridcolor\":\"white\",\"linecolor\":\"white\",\"ticks\":\"\"}},\"title\":{\"x\":0.05},\"xaxis\":{\"automargin\":true,\"gridcolor\":\"white\",\"linecolor\":\"white\",\"ticks\":\"\",\"title\":{\"standoff\":15},\"zerolinecolor\":\"white\",\"zerolinewidth\":2},\"yaxis\":{\"automargin\":true,\"gridcolor\":\"white\",\"linecolor\":\"white\",\"ticks\":\"\",\"title\":{\"standoff\":15},\"zerolinecolor\":\"white\",\"zerolinewidth\":2}}},\"xaxis\":{\"anchor\":\"y\",\"domain\":[0.0,0.45],\"title\":{\"text\":\"Iteration\"}},\"yaxis\":{\"anchor\":\"x\",\"domain\":[0.625,1.0],\"title\":{\"text\":\"Loss\"}},\"xaxis2\":{\"anchor\":\"y2\",\"domain\":[0.55,1.0]},\"yaxis2\":{\"anchor\":\"x2\",\"domain\":[0.625,1.0]},\"xaxis3\":{\"anchor\":\"y3\",\"domain\":[0.0,0.45]},\"yaxis3\":{\"anchor\":\"x3\",\"domain\":[0.0,0.375]},\"xaxis4\":{\"anchor\":\"y4\",\"domain\":[0.55,1.0]},\"yaxis4\":{\"anchor\":\"x4\",\"domain\":[0.0,0.375]},\"annotations\":[{\"font\":{\"size\":16},\"showarrow\":false,\"text\":\"Max-Cut\",\"x\":0.225,\"xanchor\":\"center\",\"xref\":\"paper\",\"y\":1.0,\"yanchor\":\"bottom\",\"yref\":\"paper\"},{\"font\":{\"size\":16},\"showarrow\":false,\"text\":\"Clique\",\"x\":0.775,\"xanchor\":\"center\",\"xref\":\"paper\",\"y\":1.0,\"yanchor\":\"bottom\",\"yref\":\"paper\"},{\"font\":{\"size\":16},\"showarrow\":false,\"text\":\"Binary Linear Programming\",\"x\":0.225,\"xanchor\":\"center\",\"xref\":\"paper\",\"y\":0.375,\"yanchor\":\"bottom\",\"yref\":\"paper\"},{\"font\":{\"size\":16},\"showarrow\":false,\"text\":\"Knapsack\",\"x\":0.775,\"xanchor\":\"center\",\"xref\":\"paper\",\"y\":0.375,\"yanchor\":\"bottom\",\"yref\":\"paper\"}],\"title\":{\"text\":\"Loss Comparison  <br><sup>Fixed the number of parameterized gate (24 gate).</sup>\"},\"autosize\":false,\"width\":1000,\"height\":700},                        {\"responsive\": true}                    ).then(function(){\n",
              "                            \n",
              "var gd = document.getElementById('98829c10-cf0b-426c-932a-ec1d43ccca85');\n",
              "var x = new MutationObserver(function (mutations, observer) {{\n",
              "        var display = window.getComputedStyle(gd).display;\n",
              "        if (!display || display === 'none') {{\n",
              "            console.log([gd, 'removed!']);\n",
              "            Plotly.purge(gd);\n",
              "            observer.disconnect();\n",
              "        }}\n",
              "}});\n",
              "\n",
              "// Listen for the removal of the full notebook cells\n",
              "var notebookContainer = gd.closest('#notebook-container');\n",
              "if (notebookContainer) {{\n",
              "    x.observe(notebookContainer, {childList: true});\n",
              "}}\n",
              "\n",
              "// Listen for the clearing of the current output cell\n",
              "var outputEl = gd.closest('.output');\n",
              "if (outputEl) {{\n",
              "    x.observe(outputEl, {childList: true});\n",
              "}}\n",
              "\n",
              "                        })                };                            </script>        </div>\n",
              "</body>\n",
              "</html>"
            ]
          },
          "metadata": {}
        }
      ],
      "source": [
        "#@title Loss Comparison \n",
        "#@markdown Fixed the number of parameterized gate (24 gate).\n",
        "from plotly.subplots import make_subplots\n",
        "\n",
        "row = 2\n",
        "col = 2\n",
        "fig = make_subplots(rows=row, cols=col, subplot_titles=(\"Max-Cut\",\"Clique\",\"Binary Linear Programming\", \"Knapsack\"))\n",
        "show = True\n",
        "for i in range(row):\n",
        "  for j in range(col):\n",
        "    problemn = i*col+j\n",
        "    if problemn>0:\n",
        "      show = False\n",
        "    dv_cv = pd.DataFrame({\"Iteration\":range(len(cvpsl[problemn])), \"Loss\":cvpsl[problemn]})\n",
        "    dv_fd_cv = pd.DataFrame({\"Iteration\":range(len(cvfdl[problemn])), \"Loss\":cvfdl[problemn]})\n",
        "\n",
        "    fig.add_trace(go.Scatter(x=dv_cv[\"Iteration\"], y=dv_cv[\"Loss\"], name=\"Continuous Parameter Shift\", line = dict(width=2), line_color='red', showlegend = show), row=i+1, col=j+1)\n",
        "    fig.add_trace(go.Scatter(x=dv_fd_cv[\"Iteration\"], y=dv_fd_cv[\"Loss\"], mode=\"lines\", name=\"Continuous Finite Difference\", line = dict(width=2), line_color='green', showlegend = show), row=i+1, col=j+1)\n",
        "\n",
        "\n",
        "fig.update_layout(title=\"Loss Comparison  <br><sup>Fixed the number of parameterized gate (24 gate).</sup>\",\n",
        "                  xaxis_title=\"Iteration\",\n",
        "                  yaxis_title=\"Loss\", autosize=False,\n",
        "                  width=1000,\n",
        "                  height=700)\n",
        "\n",
        "plotly.offline.plot(fig, filename='loss_fixgate_cv.html')\n",
        "fig.show()"
      ]
    },
    {
      "cell_type": "code",
      "source": [
        "import pickle\n",
        "\n",
        "with open('analytic_psl_cv.pk', 'wb') as fp:\n",
        "    pickle.dump(cvpsl, fp)\n",
        "with open('analytic_fdl_cv.pk', 'wb') as fp:\n",
        "    pickle.dump(cvfdl, fp)"
      ],
      "metadata": {
        "id": "d7UGASTRjgXb"
      },
      "execution_count": 60,
      "outputs": []
    },
    {
      "cell_type": "code",
      "execution_count": 59,
      "metadata": {
        "id": "0TCHMfHh9_EG",
        "colab": {
          "base_uri": "https://localhost:8080/",
          "height": 717
        },
        "outputId": "897a7fdf-e156-4e34-b157-66299b6c5b9b",
        "cellView": "form"
      },
      "outputs": [
        {
          "output_type": "display_data",
          "data": {
            "text/html": [
              "<html>\n",
              "<head><meta charset=\"utf-8\" /></head>\n",
              "<body>\n",
              "    <div>            <script src=\"https://cdnjs.cloudflare.com/ajax/libs/mathjax/2.7.5/MathJax.js?config=TeX-AMS-MML_SVG\"></script><script type=\"text/javascript\">if (window.MathJax) {MathJax.Hub.Config({SVG: {font: \"STIX-Web\"}});}</script>                <script type=\"text/javascript\">window.PlotlyConfig = {MathJaxConfig: 'local'};</script>\n",
              "        <script src=\"https://cdn.plot.ly/plotly-2.8.3.min.js\"></script>                <div id=\"d2c3a969-ee01-4b2a-85d9-74d28cd1f080\" class=\"plotly-graph-div\" style=\"height:700px; width:1000px;\"></div>            <script type=\"text/javascript\">                                    window.PLOTLYENV=window.PLOTLYENV || {};                                    if (document.getElementById(\"d2c3a969-ee01-4b2a-85d9-74d28cd1f080\")) {                    Plotly.newPlot(                        \"d2c3a969-ee01-4b2a-85d9-74d28cd1f080\",                        [{\"line\":{\"color\":\"red\",\"width\":2},\"name\":\"Continuous Parameter Shift\",\"showlegend\":true,\"x\":[0,1,2,3,4,5,6,7,8,9,10,11,12,13,14,15,16,17,18,19,20,21,22,23,24,25,26,27,28,29,30,31,32,33,34,35,36,37,38,39,40,41,42,43,44,45,46,47,48,49,50,51,52,53,54,55,56,57,58,59,60,61,62,63,64,65,66,67,68,69,70,71,72,73,74,75,76,77,78,79,80,81,82,83,84,85,86,87,88,89,90,91,92,93,94,95,96,97,98,99,100],\"y\":[2.76369571685791,5.79451322555542,9.45559048652649,12.370253086090088,16.50058889389038,19.370808839797974,22.213448762893677,25.247076511383057,28.487948656082153,31.01522731781006,32.435444831848145,33.87001824378967,35.27559280395508,36.69986295700073,38.14863348007202,39.55373573303223,40.96276926994324,42.35735893249512,43.78118062019348,45.186726093292236,46.57760834693909,47.985270977020264,49.364118814468384,50.74900960922241,52.164571046829224,53.56920146942139,54.96442937850952,56.43317198753357,57.806209564208984,59.468196868896484,60.880141496658325,62.32212281227112,63.73452067375183,65.11178255081177,66.51338148117065,67.9160270690918,69.29818725585938,70.73183989524841,72.10964393615723,73.51514554023743,74.9165186882019,76.33488512039185,77.73746180534363,79.16918349266052,80.59207844734192,81.97224187850952,83.3840217590332,84.82480502128601,86.21628141403198,87.60116934776306,88.96864676475525,90.34882664680481,91.769371509552,93.14609622955322,94.5729079246521,95.96711897850037,97.43754148483276,98.81430721282959,100.18160653114319,101.82033777236938,103.2079107761383,104.6493489742279,106.03896594047546,107.42174983024597,108.79126954078674,110.18370366096497,111.55318570137024,113.93041753768921,115.32464718818665,116.7495470046997,118.12127232551575,119.50865435600281,120.87911009788513,122.2824718952179,123.68782591819763,125.0905692577362,126.4927237033844,127.87118792533875,129.2612829208374,130.67208695411682,132.04287481307983,133.44579100608826,134.8478810787201,136.23490691184998,137.635990858078,139.02704310417175,140.43058609962463,141.81350135803223,143.20457768440247,144.59655141830444,146.20796155929565,147.6035475730896,148.99387407302856,150.3607919216156,151.72735953330994,153.11502599716187,154.49323868751526,155.8609058856964,157.27311897277832,158.71295475959778,160.1154863834381],\"type\":\"scatter\",\"xaxis\":\"x\",\"yaxis\":\"y\"},{\"line\":{\"color\":\"green\",\"width\":2},\"mode\":\"lines\",\"name\":\"Continuous Finite Difference\",\"showlegend\":true,\"x\":[0,1,2,3,4,5,6,7,8,9,10,11,12,13,14,15,16,17,18,19,20,21,22,23,24,25,26,27,28,29,30,31,32,33,34,35,36,37,38,39,40,41,42,43,44,45,46,47,48,49,50,51,52,53,54,55,56,57,58,59,60,61,62,63,64,65,66,67,68,69,70,71,72,73,74,75,76,77,78,79,80,81,82,83,84,85,86,87,88,89,90,91,92,93,94,95,96,97,98,99,100],\"y\":[1.43271803855896,2.834385633468628,4.254857301712036,5.680260896682739,7.080751180648804,8.488210916519165,9.904791593551636,11.29757285118103,12.700681924819946,14.084311246871948,15.508500099182129,16.951165676116943,18.383615016937256,19.785908222198486,21.175148248672485,22.577051401138306,24.001874923706055,25.405232906341553,26.81933832168579,28.2280216217041,29.659398794174194,31.06668448448181,32.49554371833801,33.89752674102783,35.30818581581116,36.73130130767822,38.154297828674316,39.55127549171448,40.929688692092896,42.32842540740967,43.96818280220032,45.377055644989014,46.8014931678772,48.203376054763794,49.59469985961914,51.0219464302063,52.44699811935425,53.849252462387085,55.239909648895264,56.65152430534363,58.05370306968689,59.456276655197144,60.854312896728516,62.258585691452026,63.66128420829773,65.04462957382202,66.44567060470581,67.8697452545166,69.27565574645996,70.69220232963562,72.0900068283081,73.51121234893799,74.95591187477112,76.36544013023376,77.81064486503601,79.23590350151062,80.66468143463135,82.08574104309082,83.49745106697083,84.89029717445374,86.53001356124878,87.92494201660156,89.37065958976746,90.75269293785095,92.14441084861755,93.54801940917969,94.93720841407776,96.35718846321106,97.74020099639893,99.16872572898865,100.55540919303894,101.9863350391388,103.3954815864563,104.79979300498962,106.18283891677856,107.6159496307373,109.02387022972107,110.43375062942505,111.82622385025024,113.2084321975708,114.61525654792786,116.03623557090759,117.44004368782043,118.85580611228943,120.25726842880249,121.67720937728882,123.0688784122467,124.47172141075134,125.87386703491211,127.27922081947327,128.66398334503174,130.3477909564972,131.75948095321655,133.1673390865326,134.5793583393097,135.99877977371216,137.3956813812256,138.7892303466797,140.19077253341675,141.59465169906616,142.9767758846283],\"type\":\"scatter\",\"xaxis\":\"x\",\"yaxis\":\"y\"},{\"line\":{\"color\":\"red\",\"width\":2},\"name\":\"Continuous Parameter Shift\",\"showlegend\":false,\"x\":[0,1,2,3,4,5,6,7,8,9,10,11,12,13,14,15,16,17,18,19,20,21,22,23,24,25,26,27,28,29,30,31,32,33,34,35,36,37,38,39,40,41,42,43,44,45,46,47,48,49,50,51,52,53,54,55,56,57,58,59,60,61,62,63,64,65,66,67,68,69,70,71,72,73,74,75,76,77,78,79,80,81,82,83,84,85,86,87,88,89,90,91,92,93,94,95,96,97,98,99,100],\"y\":[1.4576570987701416,2.890822172164917,4.319617748260498,5.733336448669434,7.132898569107056,8.534120082855225,9.940808534622192,11.393743753433228,12.846863746643066,14.27929401397705,15.66627812385559,17.099743127822876,18.501566171646118,19.908724308013916,21.32970690727234,22.75984001159668,24.15663480758667,25.57382106781006,26.97047257423401,28.37489891052246,29.80548667907715,31.23671817779541,32.63203430175781,34.03688669204712,35.42016100883484,36.84392213821411,38.23459339141846,39.640750885009766,41.04471302032471,42.44066643714905,43.86316967010498,45.48667287826538,46.901315450668335,48.273308992385864,49.63729286193848,51.03228163719177,52.4379243850708,53.856070041656494,55.281320571899414,56.71205711364746,58.13490891456604,59.565515995025635,60.99875855445862,62.426814794540405,63.90601325035095,65.32185196876526,66.72625613212585,68.21174621582031,69.64337301254272,71.07118654251099,72.54665517807007,73.98810982704163,75.45693516731262,76.90713787078857,78.35606598854065,79.80385971069336,81.28368592262268,82.77366542816162,84.24706959724426,85.7203369140625,87.15570306777954,88.61559057235718,90.30124044418335,91.74810028076172,93.18428444862366,94.63564372062683,96.07169198989868,97.56112504005432,98.9983320236206,100.44780325889587,101.92974185943604,103.3849995136261,104.84312152862549,106.31417083740234,107.74079823493958,109.24870777130127,110.68072319030762,112.1347439289093,113.56496500968933,115.0342767238617,116.49855065345764,117.95169568061829,119.42826533317566,120.85654211044312,122.28043413162231,123.70258593559265,125.15940403938293,126.6725344657898,128.10957098007202,129.50446701049805,130.90522623062134,132.3214373588562,133.71560907363892,135.36283087730408,136.83886122703552,138.22734117507935,139.63766813278198,141.04284024238586,142.49261379241943,143.93501591682434,145.36457920074463],\"type\":\"scatter\",\"xaxis\":\"x2\",\"yaxis\":\"y2\"},{\"line\":{\"color\":\"green\",\"width\":2},\"mode\":\"lines\",\"name\":\"Continuous Finite Difference\",\"showlegend\":false,\"x\":[0,1,2,3,4,5,6,7,8,9,10,11,12,13,14,15,16,17,18,19,20,21,22,23,24,25,26,27,28,29,30,31,32,33,34,35,36,37,38,39,40,41,42,43,44,45,46,47,48,49,50,51,52,53,54,55,56,57,58,59,60,61,62,63,64,65,66,67,68,69,70,71,72,73,74,75,76,77,78,79,80,81,82,83,84,85,86,87,88,89,90,91,92,93,94,95,96,97,98,99,100],\"y\":[1.4645357131958008,2.9308226108551025,4.390780687332153,5.850322723388672,7.289663076400757,8.72312307357788,10.182349920272827,11.613043785095215,13.038778305053711,14.452468633651733,15.886597633361816,17.336777687072754,18.767453908920288,20.193456649780273,21.60200023651123,23.020296096801758,24.454665422439575,25.8874933719635,27.302265644073486,28.71494436264038,30.14316439628601,31.556617259979248,32.99281668663025,34.481271743774414,35.90239095687866,37.353522539138794,38.79046320915222,40.2526113986969,41.679824352264404,43.32854723930359,44.758291244506836,46.17111015319824,47.592124223709106,49.02005910873413,50.44083046913147,51.868011236190796,53.27186059951782,54.69642090797424,56.141242265701294,57.53644847869873,58.959768533706665,60.39665246009827,61.84251356124878,63.260205030441284,64.7305109500885,66.17900133132935,67.59759998321533,69.03454089164734,70.48340463638306,71.90669393539429,73.3287935256958,74.7725682258606,76.1909384727478,77.61952352523804,79.05793881416321,80.48268032073975,81.90888214111328,83.3592426776886,84.7814769744873,86.19392442703247,87.84485268592834,89.2863700389862,90.69539618492126,92.13029551506042,93.60007238388062,95.01759791374207,96.46469473838806,97.91081643104553,99.3280565738678,100.7580554485321,102.17517614364624,103.60445094108582,105.05291247367859,106.50088953971863,107.90377926826477,109.30154085159302,110.70745491981506,112.13242292404175,113.5509831905365,114.96962475776672,116.35925674438477,117.7508499622345,119.16274833679199,120.56269383430481,121.97957873344421,123.36864447593689,124.81727409362793,126.25096797943115,127.63606142997742,129.01710772514343,130.41578340530396,132.07964420318604,133.50597429275513,134.91729497909546,136.36193418502808,137.73816394805908,139.1239116191864,140.51636505126953,141.87806463241577,143.24632382392883,144.62686228752136],\"type\":\"scatter\",\"xaxis\":\"x2\",\"yaxis\":\"y2\"},{\"line\":{\"color\":\"red\",\"width\":2},\"name\":\"Continuous Parameter Shift\",\"showlegend\":false,\"x\":[0,1,2,3,4,5,6,7,8,9,10,11,12,13,14,15,16,17,18,19,20,21,22,23,24,25,26,27,28,29,30,31,32,33,34,35,36,37,38,39,40,41,42,43,44,45,46,47,48,49,50,51,52,53,54,55,56,57,58,59,60,61,62,63,64,65,66,67,68,69,70,71,72,73,74,75,76,77,78,79,80,81,82,83,84,85,86,87,88,89,90,91,92,93,94,95,96,97,98,99,100],\"y\":[1.463064432144165,2.88969349861145,4.283677816390991,5.733112096786499,7.151893138885498,8.582370042800903,9.984941482543945,11.40696930885315,12.812538146972656,14.208846807479858,15.646315336227417,17.05636215209961,18.47728133201599,19.90144968032837,21.308403730392456,22.745508432388306,24.169151306152344,27.9549663066864,29.77350878715515,31.239624977111816,32.64633655548096,34.086787939071655,35.512436389923096,36.967294454574585,38.40390682220459,39.851388454437256,41.308531045913696,42.71751403808594,44.17654466629028,45.61622333526611,47.04329490661621,48.71343398094177,50.14190864562988,51.59606409072876,53.07151412963867,54.530452728271484,55.97506642341614,57.45309829711914,58.918044567108154,60.36212491989136,61.819271087646484,63.25370740890503,64.68062686920166,66.12933087348938,67.58463215827942,69.0255606174469,71.21962261199951,72.66845297813416,74.10502934455872,75.51827073097229,76.97951483726501,78.45002794265747,79.89880084991455,81.37861204147339,82.87510180473328,84.32777118682861,85.77629733085632,87.24377536773682,88.71537566184998,90.1485435962677,91.60550093650818,93.06815886497498,94.79664182662964,96.23505067825317,97.65616178512573,99.09616422653198,100.54879641532898,101.98505234718323,103.45534300804138,104.91865348815918,106.37272644042969,107.83614993095398,109.33186149597168,110.80883693695068,112.24158072471619,113.69876217842102,115.1651508808136,116.60576105117798,118.06045651435852,119.50915026664734,120.96020412445068,122.44236946105957,123.9697515964508,125.41267943382263,126.87296462059021,128.32126092910767,129.78340768814087,131.29860019683838,132.7682204246521,135.20967173576355,136.65267634391785,138.14934062957764,139.603581905365,141.32915353775024,142.79149627685547,144.24553656578064,145.69412231445312,147.14962553977966,148.59012508392334,150.04266619682312,151.51583671569824],\"type\":\"scatter\",\"xaxis\":\"x3\",\"yaxis\":\"y3\"},{\"line\":{\"color\":\"green\",\"width\":2},\"mode\":\"lines\",\"name\":\"Continuous Finite Difference\",\"showlegend\":false,\"x\":[0,1,2,3,4,5,6,7,8,9,10,11,12,13,14,15,16,17,18,19,20,21,22,23,24,25,26,27,28,29,30,31,32,33,34,35,36,37,38,39,40,41,42,43,44,45,46,47,48,49,50,51,52,53,54,55,56,57,58,59,60,61,62,63,64,65,66,67,68,69,70,71,72,73,74,75,76,77,78,79,80,81,82,83,84,85,86,87,88,89,90,91,92,93,94,95,96,97,98,99,100],\"y\":[1.4285306930541992,2.8901593685150146,4.325722932815552,5.717457294464111,7.124688386917114,8.512240409851074,9.943639755249023,11.343640089035034,12.753675937652588,14.135459423065186,15.530871868133545,16.918102264404297,18.31788420677185,19.78879189491272,21.177497625350952,22.560068368911743,23.96084952354431,25.37077283859253,26.770179748535156,28.17138648033142,29.572765111923218,31.039639234542847,32.46810221672058,33.87837195396423,35.27621388435364,36.67055892944336,38.069241523742676,39.72523784637451,41.13344693183899,42.54804539680481,43.99325776100159,45.405781745910645,46.80682969093323,48.189095973968506,49.59792637825012,51.010392904281616,52.44944381713867,53.843470096588135,55.20866346359253,56.58209586143494,57.99601912498474,59.41063070297241,60.8323016166687,62.224186420440674,63.62517237663269,65.0570273399353,66.47145986557007,67.89366030693054,69.25284171104431,70.62740182876587,72.06050848960876,73.48232936859131,74.86863398551941,76.2869462966919,77.67932963371277,79.11376190185547,80.53584814071655,82.0103349685669,83.66137790679932,85.0684142112732,86.48643445968628,87.86477422714233,89.2502326965332,90.62983775138855,92.0215117931366,93.44182181358337,94.85526084899902,96.26936268806458,97.6749382019043,99.06340718269348,100.48362970352173,101.90778803825378,103.3236608505249,104.71147084236145,106.11586880683899,107.51731896400452,108.91365146636963,110.33977556228638,111.73770475387573,113.13973760604858,114.55729341506958,115.9720823764801,117.37120056152344,118.7874538898468,120.19022631645203,121.59172582626343,123.01590085029602,124.50777435302734,125.96507930755615,127.65302586555481,129.10202479362488,130.53037285804749,131.94400477409363,133.37943124771118,134.80004787445068,136.22111320495605,137.63802981376648,139.07560515403748,140.5316982269287,141.98485326766968,143.45075035095215],\"type\":\"scatter\",\"xaxis\":\"x3\",\"yaxis\":\"y3\"},{\"line\":{\"color\":\"red\",\"width\":2},\"name\":\"Continuous Parameter Shift\",\"showlegend\":false,\"x\":[0,1,2,3,4,5,6,7,8,9,10,11,12,13,14,15,16,17,18,19,20,21,22,23,24,25,26,27,28,29,30,31,32,33,34,35,36,37,38,39,40,41,42,43,44,45,46,47,48,49,50,51,52,53,54,55,56,57,58,59,60,61,62,63,64,65,66,67,68,69,70,71,72,73,74,75,76,77,78,79,80,81,82,83,84,85,86,87,88,89,90,91,92,93,94,95,96,97,98,99,100],\"y\":[1.4700639247894287,2.915306329727173,4.350468158721924,5.806592226028442,7.243016004562378,8.690246343612671,10.142093896865845,11.598426580429077,13.055352687835693,14.518357276916504,15.986753225326538,17.429733514785767,18.87136483192444,20.303937673568726,21.747662782669067,23.181671380996704,24.61764430999756,26.093089818954468,27.526124238967896,28.981492519378662,30.409836530685425,31.822758197784424,33.471203327178955,34.870392084121704,36.30776882171631,37.71539759635925,39.136271476745605,40.529661417007446,41.9345006942749,43.35195350646973,44.781943798065186,46.19398808479309,47.61754059791565,49.05234146118164,50.49918079376221,51.96091675758362,53.510485887527466,54.95507454872131,56.43307161331177,57.90372920036316,59.355260372161865,60.82727241516113,62.28974175453186,63.73590421676636,65.18530106544495,66.63929724693298,68.09737849235535,69.53200364112854,70.99680972099304,72.42706537246704,73.86251473426819,75.28384494781494,76.71852803230286,78.4373185634613,79.8801417350769,81.32655549049377,82.77724695205688,84.20930218696594,85.65390014648438,87.13689041137695,88.61822628974915,90.0850932598114,91.55375552177429,92.99197673797607,94.49692845344543,95.9937653541565,97.42607855796814,98.88713026046753,100.3461983203888,101.7653865814209,103.1931619644165,104.64590883255005,106.06470727920532,107.50617718696594,109.004873752594,110.51661562919617,111.95994591712952,113.44988059997559,114.88174104690552,116.3407199382782,117.76460981369019,119.21140480041504,120.66880488395691,122.13103032112122,123.83964991569519,125.28438591957092,126.73092699050903,128.18446683883667,129.6147141456604,131.07574939727783,132.5276324748993,134.00024843215942,135.4296452999115,136.88858604431152,138.35102939605713,139.79742765426636,141.26335096359253,142.70201134681702,144.1597375869751,145.58222889900208,147.03183889389038],\"type\":\"scatter\",\"xaxis\":\"x4\",\"yaxis\":\"y4\"},{\"line\":{\"color\":\"green\",\"width\":2},\"mode\":\"lines\",\"name\":\"Continuous Finite Difference\",\"showlegend\":false,\"x\":[0,1,2,3,4,5,6,7,8,9,10,11,12,13,14,15,16,17,18,19,20,21,22,23,24,25,26,27,28,29,30,31,32,33,34,35,36,37,38,39,40,41,42,43,44,45,46,47,48,49,50,51,52,53,54,55,56,57,58,59,60,61,62,63,64,65,66,67,68,69,70,71,72,73,74,75,76,77,78,79,80,81,82,83,84,85,86,87,88,89,90,91,92,93,94,95,96,97,98,99,100],\"y\":[1.4055752754211426,2.811279296875,4.237685203552246,5.6534953117370605,7.082376480102539,8.486384630203247,9.890881061553955,11.27041506767273,12.667316436767578,14.102453231811523,15.497326612472534,16.943185567855835,18.376040935516357,19.742504835128784,21.155808448791504,22.572401762008667,23.959454774856567,25.364563703536987,26.772888898849487,28.20217776298523,29.602558851242065,31.002212047576904,32.40761852264404,33.85643982887268,35.23912835121155,36.64184498786926,38.057645082473755,39.46277952194214,40.87037134170532,42.5185649394989,43.921935081481934,45.35796308517456,46.79101324081421,48.205130100250244,49.63514161109924,51.02230477333069,52.422306537628174,53.815563917160034,55.23049569129944,56.64693307876587,58.07354688644409,59.50300407409668,60.91371941566467,62.322696924209595,63.730040550231934,65.1206567287445,66.5016508102417,67.89230847358704,69.32477974891663,70.74430131912231,72.17245650291443,73.58091568946838,74.97134447097778,76.35220789909363,77.73551678657532,79.13288617134094,80.53488302230835,81.94232487678528,83.3592734336853,84.76537680625916,86.40497827529907,87.83452415466309,89.26314043998718,90.6777811050415,92.10988116264343,93.48140358924866,94.85052919387817,96.21092128753662,97.60288739204407,98.99068403244019,100.37566542625427,101.78743052482605,103.20450282096863,104.62714171409607,106.02675223350525,107.44449090957642,108.83614683151245,110.26644992828369,111.67779111862183,113.06873941421509,114.46618509292603,115.8735556602478,117.31058835983276,118.7210636138916,120.14077353477478,121.556321144104,122.95516347885132,124.35864639282227,125.75546789169312,127.16041302680969,128.55843234062195,130.19655537605286,131.59571051597595,133.02895545959473,134.42382645606995,135.80548286437988,137.26166701316833,138.67480444908142,140.09035181999207,141.52897882461548,142.93872213363647],\"type\":\"scatter\",\"xaxis\":\"x4\",\"yaxis\":\"y4\"}],                        {\"template\":{\"data\":{\"bar\":[{\"error_x\":{\"color\":\"#2a3f5f\"},\"error_y\":{\"color\":\"#2a3f5f\"},\"marker\":{\"line\":{\"color\":\"#E5ECF6\",\"width\":0.5},\"pattern\":{\"fillmode\":\"overlay\",\"size\":10,\"solidity\":0.2}},\"type\":\"bar\"}],\"barpolar\":[{\"marker\":{\"line\":{\"color\":\"#E5ECF6\",\"width\":0.5},\"pattern\":{\"fillmode\":\"overlay\",\"size\":10,\"solidity\":0.2}},\"type\":\"barpolar\"}],\"carpet\":[{\"aaxis\":{\"endlinecolor\":\"#2a3f5f\",\"gridcolor\":\"white\",\"linecolor\":\"white\",\"minorgridcolor\":\"white\",\"startlinecolor\":\"#2a3f5f\"},\"baxis\":{\"endlinecolor\":\"#2a3f5f\",\"gridcolor\":\"white\",\"linecolor\":\"white\",\"minorgridcolor\":\"white\",\"startlinecolor\":\"#2a3f5f\"},\"type\":\"carpet\"}],\"choropleth\":[{\"colorbar\":{\"outlinewidth\":0,\"ticks\":\"\"},\"type\":\"choropleth\"}],\"contour\":[{\"colorbar\":{\"outlinewidth\":0,\"ticks\":\"\"},\"colorscale\":[[0.0,\"#0d0887\"],[0.1111111111111111,\"#46039f\"],[0.2222222222222222,\"#7201a8\"],[0.3333333333333333,\"#9c179e\"],[0.4444444444444444,\"#bd3786\"],[0.5555555555555556,\"#d8576b\"],[0.6666666666666666,\"#ed7953\"],[0.7777777777777778,\"#fb9f3a\"],[0.8888888888888888,\"#fdca26\"],[1.0,\"#f0f921\"]],\"type\":\"contour\"}],\"contourcarpet\":[{\"colorbar\":{\"outlinewidth\":0,\"ticks\":\"\"},\"type\":\"contourcarpet\"}],\"heatmap\":[{\"colorbar\":{\"outlinewidth\":0,\"ticks\":\"\"},\"colorscale\":[[0.0,\"#0d0887\"],[0.1111111111111111,\"#46039f\"],[0.2222222222222222,\"#7201a8\"],[0.3333333333333333,\"#9c179e\"],[0.4444444444444444,\"#bd3786\"],[0.5555555555555556,\"#d8576b\"],[0.6666666666666666,\"#ed7953\"],[0.7777777777777778,\"#fb9f3a\"],[0.8888888888888888,\"#fdca26\"],[1.0,\"#f0f921\"]],\"type\":\"heatmap\"}],\"heatmapgl\":[{\"colorbar\":{\"outlinewidth\":0,\"ticks\":\"\"},\"colorscale\":[[0.0,\"#0d0887\"],[0.1111111111111111,\"#46039f\"],[0.2222222222222222,\"#7201a8\"],[0.3333333333333333,\"#9c179e\"],[0.4444444444444444,\"#bd3786\"],[0.5555555555555556,\"#d8576b\"],[0.6666666666666666,\"#ed7953\"],[0.7777777777777778,\"#fb9f3a\"],[0.8888888888888888,\"#fdca26\"],[1.0,\"#f0f921\"]],\"type\":\"heatmapgl\"}],\"histogram\":[{\"marker\":{\"pattern\":{\"fillmode\":\"overlay\",\"size\":10,\"solidity\":0.2}},\"type\":\"histogram\"}],\"histogram2d\":[{\"colorbar\":{\"outlinewidth\":0,\"ticks\":\"\"},\"colorscale\":[[0.0,\"#0d0887\"],[0.1111111111111111,\"#46039f\"],[0.2222222222222222,\"#7201a8\"],[0.3333333333333333,\"#9c179e\"],[0.4444444444444444,\"#bd3786\"],[0.5555555555555556,\"#d8576b\"],[0.6666666666666666,\"#ed7953\"],[0.7777777777777778,\"#fb9f3a\"],[0.8888888888888888,\"#fdca26\"],[1.0,\"#f0f921\"]],\"type\":\"histogram2d\"}],\"histogram2dcontour\":[{\"colorbar\":{\"outlinewidth\":0,\"ticks\":\"\"},\"colorscale\":[[0.0,\"#0d0887\"],[0.1111111111111111,\"#46039f\"],[0.2222222222222222,\"#7201a8\"],[0.3333333333333333,\"#9c179e\"],[0.4444444444444444,\"#bd3786\"],[0.5555555555555556,\"#d8576b\"],[0.6666666666666666,\"#ed7953\"],[0.7777777777777778,\"#fb9f3a\"],[0.8888888888888888,\"#fdca26\"],[1.0,\"#f0f921\"]],\"type\":\"histogram2dcontour\"}],\"mesh3d\":[{\"colorbar\":{\"outlinewidth\":0,\"ticks\":\"\"},\"type\":\"mesh3d\"}],\"parcoords\":[{\"line\":{\"colorbar\":{\"outlinewidth\":0,\"ticks\":\"\"}},\"type\":\"parcoords\"}],\"pie\":[{\"automargin\":true,\"type\":\"pie\"}],\"scatter\":[{\"marker\":{\"colorbar\":{\"outlinewidth\":0,\"ticks\":\"\"}},\"type\":\"scatter\"}],\"scatter3d\":[{\"line\":{\"colorbar\":{\"outlinewidth\":0,\"ticks\":\"\"}},\"marker\":{\"colorbar\":{\"outlinewidth\":0,\"ticks\":\"\"}},\"type\":\"scatter3d\"}],\"scattercarpet\":[{\"marker\":{\"colorbar\":{\"outlinewidth\":0,\"ticks\":\"\"}},\"type\":\"scattercarpet\"}],\"scattergeo\":[{\"marker\":{\"colorbar\":{\"outlinewidth\":0,\"ticks\":\"\"}},\"type\":\"scattergeo\"}],\"scattergl\":[{\"marker\":{\"colorbar\":{\"outlinewidth\":0,\"ticks\":\"\"}},\"type\":\"scattergl\"}],\"scattermapbox\":[{\"marker\":{\"colorbar\":{\"outlinewidth\":0,\"ticks\":\"\"}},\"type\":\"scattermapbox\"}],\"scatterpolar\":[{\"marker\":{\"colorbar\":{\"outlinewidth\":0,\"ticks\":\"\"}},\"type\":\"scatterpolar\"}],\"scatterpolargl\":[{\"marker\":{\"colorbar\":{\"outlinewidth\":0,\"ticks\":\"\"}},\"type\":\"scatterpolargl\"}],\"scatterternary\":[{\"marker\":{\"colorbar\":{\"outlinewidth\":0,\"ticks\":\"\"}},\"type\":\"scatterternary\"}],\"surface\":[{\"colorbar\":{\"outlinewidth\":0,\"ticks\":\"\"},\"colorscale\":[[0.0,\"#0d0887\"],[0.1111111111111111,\"#46039f\"],[0.2222222222222222,\"#7201a8\"],[0.3333333333333333,\"#9c179e\"],[0.4444444444444444,\"#bd3786\"],[0.5555555555555556,\"#d8576b\"],[0.6666666666666666,\"#ed7953\"],[0.7777777777777778,\"#fb9f3a\"],[0.8888888888888888,\"#fdca26\"],[1.0,\"#f0f921\"]],\"type\":\"surface\"}],\"table\":[{\"cells\":{\"fill\":{\"color\":\"#EBF0F8\"},\"line\":{\"color\":\"white\"}},\"header\":{\"fill\":{\"color\":\"#C8D4E3\"},\"line\":{\"color\":\"white\"}},\"type\":\"table\"}]},\"layout\":{\"annotationdefaults\":{\"arrowcolor\":\"#2a3f5f\",\"arrowhead\":0,\"arrowwidth\":1},\"autotypenumbers\":\"strict\",\"coloraxis\":{\"colorbar\":{\"outlinewidth\":0,\"ticks\":\"\"}},\"colorscale\":{\"diverging\":[[0,\"#8e0152\"],[0.1,\"#c51b7d\"],[0.2,\"#de77ae\"],[0.3,\"#f1b6da\"],[0.4,\"#fde0ef\"],[0.5,\"#f7f7f7\"],[0.6,\"#e6f5d0\"],[0.7,\"#b8e186\"],[0.8,\"#7fbc41\"],[0.9,\"#4d9221\"],[1,\"#276419\"]],\"sequential\":[[0.0,\"#0d0887\"],[0.1111111111111111,\"#46039f\"],[0.2222222222222222,\"#7201a8\"],[0.3333333333333333,\"#9c179e\"],[0.4444444444444444,\"#bd3786\"],[0.5555555555555556,\"#d8576b\"],[0.6666666666666666,\"#ed7953\"],[0.7777777777777778,\"#fb9f3a\"],[0.8888888888888888,\"#fdca26\"],[1.0,\"#f0f921\"]],\"sequentialminus\":[[0.0,\"#0d0887\"],[0.1111111111111111,\"#46039f\"],[0.2222222222222222,\"#7201a8\"],[0.3333333333333333,\"#9c179e\"],[0.4444444444444444,\"#bd3786\"],[0.5555555555555556,\"#d8576b\"],[0.6666666666666666,\"#ed7953\"],[0.7777777777777778,\"#fb9f3a\"],[0.8888888888888888,\"#fdca26\"],[1.0,\"#f0f921\"]]},\"colorway\":[\"#636efa\",\"#EF553B\",\"#00cc96\",\"#ab63fa\",\"#FFA15A\",\"#19d3f3\",\"#FF6692\",\"#B6E880\",\"#FF97FF\",\"#FECB52\"],\"font\":{\"color\":\"#2a3f5f\"},\"geo\":{\"bgcolor\":\"white\",\"lakecolor\":\"white\",\"landcolor\":\"#E5ECF6\",\"showlakes\":true,\"showland\":true,\"subunitcolor\":\"white\"},\"hoverlabel\":{\"align\":\"left\"},\"hovermode\":\"closest\",\"mapbox\":{\"style\":\"light\"},\"paper_bgcolor\":\"white\",\"plot_bgcolor\":\"#E5ECF6\",\"polar\":{\"angularaxis\":{\"gridcolor\":\"white\",\"linecolor\":\"white\",\"ticks\":\"\"},\"bgcolor\":\"#E5ECF6\",\"radialaxis\":{\"gridcolor\":\"white\",\"linecolor\":\"white\",\"ticks\":\"\"}},\"scene\":{\"xaxis\":{\"backgroundcolor\":\"#E5ECF6\",\"gridcolor\":\"white\",\"gridwidth\":2,\"linecolor\":\"white\",\"showbackground\":true,\"ticks\":\"\",\"zerolinecolor\":\"white\"},\"yaxis\":{\"backgroundcolor\":\"#E5ECF6\",\"gridcolor\":\"white\",\"gridwidth\":2,\"linecolor\":\"white\",\"showbackground\":true,\"ticks\":\"\",\"zerolinecolor\":\"white\"},\"zaxis\":{\"backgroundcolor\":\"#E5ECF6\",\"gridcolor\":\"white\",\"gridwidth\":2,\"linecolor\":\"white\",\"showbackground\":true,\"ticks\":\"\",\"zerolinecolor\":\"white\"}},\"shapedefaults\":{\"line\":{\"color\":\"#2a3f5f\"}},\"ternary\":{\"aaxis\":{\"gridcolor\":\"white\",\"linecolor\":\"white\",\"ticks\":\"\"},\"baxis\":{\"gridcolor\":\"white\",\"linecolor\":\"white\",\"ticks\":\"\"},\"bgcolor\":\"#E5ECF6\",\"caxis\":{\"gridcolor\":\"white\",\"linecolor\":\"white\",\"ticks\":\"\"}},\"title\":{\"x\":0.05},\"xaxis\":{\"automargin\":true,\"gridcolor\":\"white\",\"linecolor\":\"white\",\"ticks\":\"\",\"title\":{\"standoff\":15},\"zerolinecolor\":\"white\",\"zerolinewidth\":2},\"yaxis\":{\"automargin\":true,\"gridcolor\":\"white\",\"linecolor\":\"white\",\"ticks\":\"\",\"title\":{\"standoff\":15},\"zerolinecolor\":\"white\",\"zerolinewidth\":2}}},\"xaxis\":{\"anchor\":\"y\",\"domain\":[0.0,0.45],\"title\":{\"text\":\"Iteration\"}},\"yaxis\":{\"anchor\":\"x\",\"domain\":[0.625,1.0],\"title\":{\"text\":\"Time (Sec)\"}},\"xaxis2\":{\"anchor\":\"y2\",\"domain\":[0.55,1.0]},\"yaxis2\":{\"anchor\":\"x2\",\"domain\":[0.625,1.0]},\"xaxis3\":{\"anchor\":\"y3\",\"domain\":[0.0,0.45]},\"yaxis3\":{\"anchor\":\"x3\",\"domain\":[0.0,0.375]},\"xaxis4\":{\"anchor\":\"y4\",\"domain\":[0.55,1.0]},\"yaxis4\":{\"anchor\":\"x4\",\"domain\":[0.0,0.375]},\"annotations\":[{\"font\":{\"size\":16},\"showarrow\":false,\"text\":\"Max-Cut\",\"x\":0.225,\"xanchor\":\"center\",\"xref\":\"paper\",\"y\":1.0,\"yanchor\":\"bottom\",\"yref\":\"paper\"},{\"font\":{\"size\":16},\"showarrow\":false,\"text\":\"Clique\",\"x\":0.775,\"xanchor\":\"center\",\"xref\":\"paper\",\"y\":1.0,\"yanchor\":\"bottom\",\"yref\":\"paper\"},{\"font\":{\"size\":16},\"showarrow\":false,\"text\":\"Binary Linear Programming\",\"x\":0.225,\"xanchor\":\"center\",\"xref\":\"paper\",\"y\":0.375,\"yanchor\":\"bottom\",\"yref\":\"paper\"},{\"font\":{\"size\":16},\"showarrow\":false,\"text\":\"Knapsack\",\"x\":0.775,\"xanchor\":\"center\",\"xref\":\"paper\",\"y\":0.375,\"yanchor\":\"bottom\",\"yref\":\"paper\"}],\"title\":{\"text\":\"Time Comparison  <br><sup>Fixed the number of parameterized gate (24 gate).</sup>\"},\"autosize\":false,\"width\":1000,\"height\":700},                        {\"responsive\": true}                    ).then(function(){\n",
              "                            \n",
              "var gd = document.getElementById('d2c3a969-ee01-4b2a-85d9-74d28cd1f080');\n",
              "var x = new MutationObserver(function (mutations, observer) {{\n",
              "        var display = window.getComputedStyle(gd).display;\n",
              "        if (!display || display === 'none') {{\n",
              "            console.log([gd, 'removed!']);\n",
              "            Plotly.purge(gd);\n",
              "            observer.disconnect();\n",
              "        }}\n",
              "}});\n",
              "\n",
              "// Listen for the removal of the full notebook cells\n",
              "var notebookContainer = gd.closest('#notebook-container');\n",
              "if (notebookContainer) {{\n",
              "    x.observe(notebookContainer, {childList: true});\n",
              "}}\n",
              "\n",
              "// Listen for the clearing of the current output cell\n",
              "var outputEl = gd.closest('.output');\n",
              "if (outputEl) {{\n",
              "    x.observe(outputEl, {childList: true});\n",
              "}}\n",
              "\n",
              "                        })                };                            </script>        </div>\n",
              "</body>\n",
              "</html>"
            ]
          },
          "metadata": {}
        }
      ],
      "source": [
        "#@title Time Comparison\n",
        "#@markdown Fixed the number of parameterized gate (24 gate).\n",
        "\n",
        "from plotly.subplots import make_subplots\n",
        "\n",
        "row = 2\n",
        "col = 2\n",
        "fig = make_subplots(rows=row, cols=col, subplot_titles=(\"Max-Cut\",\"Clique\",\"Binary Linear Programming\", \"Knapsack\"))\n",
        "show = True\n",
        "for i in range(row):\n",
        "  for j in range(col):\n",
        "    problemn = i*col+j\n",
        "    if problemn>0:\n",
        "      show = False\n",
        "    dv_cv = pd.DataFrame({\"Iteration\":range(len(cvpst[problemn])), \"Time\":cvpst[problemn]})\n",
        "    dv_fd_cv = pd.DataFrame({\"Iteration\":range(len(cvfdt[problemn])), \"Time\":cvfdt[problemn]})\n",
        "\n",
        "    fig.add_trace(go.Scatter(x=dv_cv[\"Iteration\"], y=dv_cv[\"Time\"], name=\"Continuous Parameter Shift\", line = dict(width=2), line_color='red', showlegend = show), row=i+1, col=j+1)\n",
        "    fig.add_trace(go.Scatter(x=dv_fd_cv[\"Iteration\"], y=dv_fd_cv[\"Time\"], mode=\"lines\", name=\"Continuous Finite Difference\", line = dict(width=2), line_color='green', showlegend = show), row=i+1, col=j+1)\n",
        "\n",
        "fig.update_layout(title=\"Time Comparison  <br><sup>Fixed the number of parameterized gate (24 gate).</sup>\",\n",
        "                  xaxis_title=\"Iteration\",\n",
        "                  yaxis_title=\"Time (Sec)\", autosize=False,\n",
        "                  width=1000,\n",
        "                  height=700)\n",
        "plotly.offline.plot(fig, filename='time_fixgate_cv.html')\n",
        "fig.show()"
      ]
    },
    {
      "cell_type": "code",
      "source": [
        "with open('analytic_pst_cv.pk', 'wb') as fp:\n",
        "    pickle.dump(cvpst, fp)\n",
        "with open('analytic_fdt_cv.pk', 'wb') as fp:\n",
        "    pickle.dump(cvfdt, fp)"
      ],
      "metadata": {
        "id": "tzWW3zlejn2-"
      },
      "execution_count": 61,
      "outputs": []
    },
    {
      "cell_type": "code",
      "execution_count": 62,
      "metadata": {
        "id": "VbTqgBW9-e0e",
        "colab": {
          "base_uri": "https://localhost:8080/",
          "height": 870
        },
        "outputId": "3563a7f5-e452-4e8f-da30-bcaf0da2c53a",
        "cellView": "form"
      },
      "outputs": [
        {
          "output_type": "stream",
          "name": "stdout",
          "text": [
            "\u001b[1mMax-Cut\u001b[0m\n"
          ]
        },
        {
          "output_type": "display_data",
          "data": {
            "text/plain": [
              "                             Iteration 25              Iteration 50  \\\n",
              "                                     Loss Time(second)         Loss   \n",
              "Continuous Parameter Shift      -2.49e+00        53.57    -2.81e+00   \n",
              "Continuous Finite Difference    -2.51e+00        36.73    -2.78e+00   \n",
              "\n",
              "                                          Iteration 75               \\\n",
              "                             Time(second)         Loss Time(second)   \n",
              "Continuous Parameter Shift          88.97    -2.88e+00       125.09   \n",
              "Continuous Finite Difference        72.09    -2.81e+00       107.62   \n",
              "\n",
              "                             Iteration 100               \n",
              "                                      Loss Time(second)  \n",
              "Continuous Parameter Shift       -2.77e+00       160.12  \n",
              "Continuous Finite Difference     -2.82e+00       142.98  "
            ],
            "text/html": [
              "\n",
              "  <div id=\"df-c7265596-3eba-4562-aea7-49fa9d77cba4\">\n",
              "    <div class=\"colab-df-container\">\n",
              "      <div>\n",
              "<style scoped>\n",
              "    .dataframe tbody tr th:only-of-type {\n",
              "        vertical-align: middle;\n",
              "    }\n",
              "\n",
              "    .dataframe tbody tr th {\n",
              "        vertical-align: top;\n",
              "    }\n",
              "\n",
              "    .dataframe thead tr th {\n",
              "        text-align: left;\n",
              "    }\n",
              "</style>\n",
              "<table border=\"1\" class=\"dataframe\">\n",
              "  <thead>\n",
              "    <tr>\n",
              "      <th></th>\n",
              "      <th colspan=\"2\" halign=\"left\">Iteration 25</th>\n",
              "      <th colspan=\"2\" halign=\"left\">Iteration 50</th>\n",
              "      <th colspan=\"2\" halign=\"left\">Iteration 75</th>\n",
              "      <th colspan=\"2\" halign=\"left\">Iteration 100</th>\n",
              "    </tr>\n",
              "    <tr>\n",
              "      <th></th>\n",
              "      <th>Loss</th>\n",
              "      <th>Time(second)</th>\n",
              "      <th>Loss</th>\n",
              "      <th>Time(second)</th>\n",
              "      <th>Loss</th>\n",
              "      <th>Time(second)</th>\n",
              "      <th>Loss</th>\n",
              "      <th>Time(second)</th>\n",
              "    </tr>\n",
              "  </thead>\n",
              "  <tbody>\n",
              "    <tr>\n",
              "      <th>Continuous Parameter Shift</th>\n",
              "      <td>-2.49e+00</td>\n",
              "      <td>53.57</td>\n",
              "      <td>-2.81e+00</td>\n",
              "      <td>88.97</td>\n",
              "      <td>-2.88e+00</td>\n",
              "      <td>125.09</td>\n",
              "      <td>-2.77e+00</td>\n",
              "      <td>160.12</td>\n",
              "    </tr>\n",
              "    <tr>\n",
              "      <th>Continuous Finite Difference</th>\n",
              "      <td>-2.51e+00</td>\n",
              "      <td>36.73</td>\n",
              "      <td>-2.78e+00</td>\n",
              "      <td>72.09</td>\n",
              "      <td>-2.81e+00</td>\n",
              "      <td>107.62</td>\n",
              "      <td>-2.82e+00</td>\n",
              "      <td>142.98</td>\n",
              "    </tr>\n",
              "  </tbody>\n",
              "</table>\n",
              "</div>\n",
              "      <button class=\"colab-df-convert\" onclick=\"convertToInteractive('df-c7265596-3eba-4562-aea7-49fa9d77cba4')\"\n",
              "              title=\"Convert this dataframe to an interactive table.\"\n",
              "              style=\"display:none;\">\n",
              "        \n",
              "  <svg xmlns=\"http://www.w3.org/2000/svg\" height=\"24px\"viewBox=\"0 0 24 24\"\n",
              "       width=\"24px\">\n",
              "    <path d=\"M0 0h24v24H0V0z\" fill=\"none\"/>\n",
              "    <path d=\"M18.56 5.44l.94 2.06.94-2.06 2.06-.94-2.06-.94-.94-2.06-.94 2.06-2.06.94zm-11 1L8.5 8.5l.94-2.06 2.06-.94-2.06-.94L8.5 2.5l-.94 2.06-2.06.94zm10 10l.94 2.06.94-2.06 2.06-.94-2.06-.94-.94-2.06-.94 2.06-2.06.94z\"/><path d=\"M17.41 7.96l-1.37-1.37c-.4-.4-.92-.59-1.43-.59-.52 0-1.04.2-1.43.59L10.3 9.45l-7.72 7.72c-.78.78-.78 2.05 0 2.83L4 21.41c.39.39.9.59 1.41.59.51 0 1.02-.2 1.41-.59l7.78-7.78 2.81-2.81c.8-.78.8-2.07 0-2.86zM5.41 20L4 18.59l7.72-7.72 1.47 1.35L5.41 20z\"/>\n",
              "  </svg>\n",
              "      </button>\n",
              "      \n",
              "  <style>\n",
              "    .colab-df-container {\n",
              "      display:flex;\n",
              "      flex-wrap:wrap;\n",
              "      gap: 12px;\n",
              "    }\n",
              "\n",
              "    .colab-df-convert {\n",
              "      background-color: #E8F0FE;\n",
              "      border: none;\n",
              "      border-radius: 50%;\n",
              "      cursor: pointer;\n",
              "      display: none;\n",
              "      fill: #1967D2;\n",
              "      height: 32px;\n",
              "      padding: 0 0 0 0;\n",
              "      width: 32px;\n",
              "    }\n",
              "\n",
              "    .colab-df-convert:hover {\n",
              "      background-color: #E2EBFA;\n",
              "      box-shadow: 0px 1px 2px rgba(60, 64, 67, 0.3), 0px 1px 3px 1px rgba(60, 64, 67, 0.15);\n",
              "      fill: #174EA6;\n",
              "    }\n",
              "\n",
              "    [theme=dark] .colab-df-convert {\n",
              "      background-color: #3B4455;\n",
              "      fill: #D2E3FC;\n",
              "    }\n",
              "\n",
              "    [theme=dark] .colab-df-convert:hover {\n",
              "      background-color: #434B5C;\n",
              "      box-shadow: 0px 1px 3px 1px rgba(0, 0, 0, 0.15);\n",
              "      filter: drop-shadow(0px 1px 2px rgba(0, 0, 0, 0.3));\n",
              "      fill: #FFFFFF;\n",
              "    }\n",
              "  </style>\n",
              "\n",
              "      <script>\n",
              "        const buttonEl =\n",
              "          document.querySelector('#df-c7265596-3eba-4562-aea7-49fa9d77cba4 button.colab-df-convert');\n",
              "        buttonEl.style.display =\n",
              "          google.colab.kernel.accessAllowed ? 'block' : 'none';\n",
              "\n",
              "        async function convertToInteractive(key) {\n",
              "          const element = document.querySelector('#df-c7265596-3eba-4562-aea7-49fa9d77cba4');\n",
              "          const dataTable =\n",
              "            await google.colab.kernel.invokeFunction('convertToInteractive',\n",
              "                                                     [key], {});\n",
              "          if (!dataTable) return;\n",
              "\n",
              "          const docLinkHtml = 'Like what you see? Visit the ' +\n",
              "            '<a target=\"_blank\" href=https://colab.research.google.com/notebooks/data_table.ipynb>data table notebook</a>'\n",
              "            + ' to learn more about interactive tables.';\n",
              "          element.innerHTML = '';\n",
              "          dataTable['output_type'] = 'display_data';\n",
              "          await google.colab.output.renderOutput(dataTable, element);\n",
              "          const docLink = document.createElement('div');\n",
              "          docLink.innerHTML = docLinkHtml;\n",
              "          element.appendChild(docLink);\n",
              "        }\n",
              "      </script>\n",
              "    </div>\n",
              "  </div>\n",
              "  "
            ]
          },
          "metadata": {}
        },
        {
          "output_type": "stream",
          "name": "stdout",
          "text": [
            "\n",
            "\n",
            "\n",
            "\n",
            "\u001b[1mClique\u001b[0m\n"
          ]
        },
        {
          "output_type": "display_data",
          "data": {
            "text/plain": [
              "                             Iteration 25              Iteration 50  \\\n",
              "                                     Loss Time(second)         Loss   \n",
              "Continuous Parameter Shift      -2.04e+00        36.84    -2.14e+00   \n",
              "Continuous Finite Difference    -2.12e+00        37.35    -2.16e+00   \n",
              "\n",
              "                                          Iteration 75               \\\n",
              "                             Time(second)         Loss Time(second)   \n",
              "Continuous Parameter Shift          72.55    -2.15e+00       109.25   \n",
              "Continuous Finite Difference        73.33    -2.16e+00       109.30   \n",
              "\n",
              "                             Iteration 100               \n",
              "                                      Loss Time(second)  \n",
              "Continuous Parameter Shift       -2.15e+00       145.36  \n",
              "Continuous Finite Difference     -2.17e+00       144.63  "
            ],
            "text/html": [
              "\n",
              "  <div id=\"df-c8acbbb5-3cef-4cc6-b81e-eb7e48e6367b\">\n",
              "    <div class=\"colab-df-container\">\n",
              "      <div>\n",
              "<style scoped>\n",
              "    .dataframe tbody tr th:only-of-type {\n",
              "        vertical-align: middle;\n",
              "    }\n",
              "\n",
              "    .dataframe tbody tr th {\n",
              "        vertical-align: top;\n",
              "    }\n",
              "\n",
              "    .dataframe thead tr th {\n",
              "        text-align: left;\n",
              "    }\n",
              "</style>\n",
              "<table border=\"1\" class=\"dataframe\">\n",
              "  <thead>\n",
              "    <tr>\n",
              "      <th></th>\n",
              "      <th colspan=\"2\" halign=\"left\">Iteration 25</th>\n",
              "      <th colspan=\"2\" halign=\"left\">Iteration 50</th>\n",
              "      <th colspan=\"2\" halign=\"left\">Iteration 75</th>\n",
              "      <th colspan=\"2\" halign=\"left\">Iteration 100</th>\n",
              "    </tr>\n",
              "    <tr>\n",
              "      <th></th>\n",
              "      <th>Loss</th>\n",
              "      <th>Time(second)</th>\n",
              "      <th>Loss</th>\n",
              "      <th>Time(second)</th>\n",
              "      <th>Loss</th>\n",
              "      <th>Time(second)</th>\n",
              "      <th>Loss</th>\n",
              "      <th>Time(second)</th>\n",
              "    </tr>\n",
              "  </thead>\n",
              "  <tbody>\n",
              "    <tr>\n",
              "      <th>Continuous Parameter Shift</th>\n",
              "      <td>-2.04e+00</td>\n",
              "      <td>36.84</td>\n",
              "      <td>-2.14e+00</td>\n",
              "      <td>72.55</td>\n",
              "      <td>-2.15e+00</td>\n",
              "      <td>109.25</td>\n",
              "      <td>-2.15e+00</td>\n",
              "      <td>145.36</td>\n",
              "    </tr>\n",
              "    <tr>\n",
              "      <th>Continuous Finite Difference</th>\n",
              "      <td>-2.12e+00</td>\n",
              "      <td>37.35</td>\n",
              "      <td>-2.16e+00</td>\n",
              "      <td>73.33</td>\n",
              "      <td>-2.16e+00</td>\n",
              "      <td>109.30</td>\n",
              "      <td>-2.17e+00</td>\n",
              "      <td>144.63</td>\n",
              "    </tr>\n",
              "  </tbody>\n",
              "</table>\n",
              "</div>\n",
              "      <button class=\"colab-df-convert\" onclick=\"convertToInteractive('df-c8acbbb5-3cef-4cc6-b81e-eb7e48e6367b')\"\n",
              "              title=\"Convert this dataframe to an interactive table.\"\n",
              "              style=\"display:none;\">\n",
              "        \n",
              "  <svg xmlns=\"http://www.w3.org/2000/svg\" height=\"24px\"viewBox=\"0 0 24 24\"\n",
              "       width=\"24px\">\n",
              "    <path d=\"M0 0h24v24H0V0z\" fill=\"none\"/>\n",
              "    <path d=\"M18.56 5.44l.94 2.06.94-2.06 2.06-.94-2.06-.94-.94-2.06-.94 2.06-2.06.94zm-11 1L8.5 8.5l.94-2.06 2.06-.94-2.06-.94L8.5 2.5l-.94 2.06-2.06.94zm10 10l.94 2.06.94-2.06 2.06-.94-2.06-.94-.94-2.06-.94 2.06-2.06.94z\"/><path d=\"M17.41 7.96l-1.37-1.37c-.4-.4-.92-.59-1.43-.59-.52 0-1.04.2-1.43.59L10.3 9.45l-7.72 7.72c-.78.78-.78 2.05 0 2.83L4 21.41c.39.39.9.59 1.41.59.51 0 1.02-.2 1.41-.59l7.78-7.78 2.81-2.81c.8-.78.8-2.07 0-2.86zM5.41 20L4 18.59l7.72-7.72 1.47 1.35L5.41 20z\"/>\n",
              "  </svg>\n",
              "      </button>\n",
              "      \n",
              "  <style>\n",
              "    .colab-df-container {\n",
              "      display:flex;\n",
              "      flex-wrap:wrap;\n",
              "      gap: 12px;\n",
              "    }\n",
              "\n",
              "    .colab-df-convert {\n",
              "      background-color: #E8F0FE;\n",
              "      border: none;\n",
              "      border-radius: 50%;\n",
              "      cursor: pointer;\n",
              "      display: none;\n",
              "      fill: #1967D2;\n",
              "      height: 32px;\n",
              "      padding: 0 0 0 0;\n",
              "      width: 32px;\n",
              "    }\n",
              "\n",
              "    .colab-df-convert:hover {\n",
              "      background-color: #E2EBFA;\n",
              "      box-shadow: 0px 1px 2px rgba(60, 64, 67, 0.3), 0px 1px 3px 1px rgba(60, 64, 67, 0.15);\n",
              "      fill: #174EA6;\n",
              "    }\n",
              "\n",
              "    [theme=dark] .colab-df-convert {\n",
              "      background-color: #3B4455;\n",
              "      fill: #D2E3FC;\n",
              "    }\n",
              "\n",
              "    [theme=dark] .colab-df-convert:hover {\n",
              "      background-color: #434B5C;\n",
              "      box-shadow: 0px 1px 3px 1px rgba(0, 0, 0, 0.15);\n",
              "      filter: drop-shadow(0px 1px 2px rgba(0, 0, 0, 0.3));\n",
              "      fill: #FFFFFF;\n",
              "    }\n",
              "  </style>\n",
              "\n",
              "      <script>\n",
              "        const buttonEl =\n",
              "          document.querySelector('#df-c8acbbb5-3cef-4cc6-b81e-eb7e48e6367b button.colab-df-convert');\n",
              "        buttonEl.style.display =\n",
              "          google.colab.kernel.accessAllowed ? 'block' : 'none';\n",
              "\n",
              "        async function convertToInteractive(key) {\n",
              "          const element = document.querySelector('#df-c8acbbb5-3cef-4cc6-b81e-eb7e48e6367b');\n",
              "          const dataTable =\n",
              "            await google.colab.kernel.invokeFunction('convertToInteractive',\n",
              "                                                     [key], {});\n",
              "          if (!dataTable) return;\n",
              "\n",
              "          const docLinkHtml = 'Like what you see? Visit the ' +\n",
              "            '<a target=\"_blank\" href=https://colab.research.google.com/notebooks/data_table.ipynb>data table notebook</a>'\n",
              "            + ' to learn more about interactive tables.';\n",
              "          element.innerHTML = '';\n",
              "          dataTable['output_type'] = 'display_data';\n",
              "          await google.colab.output.renderOutput(dataTable, element);\n",
              "          const docLink = document.createElement('div');\n",
              "          docLink.innerHTML = docLinkHtml;\n",
              "          element.appendChild(docLink);\n",
              "        }\n",
              "      </script>\n",
              "    </div>\n",
              "  </div>\n",
              "  "
            ]
          },
          "metadata": {}
        },
        {
          "output_type": "stream",
          "name": "stdout",
          "text": [
            "\n",
            "\n",
            "\n",
            "\n",
            "\u001b[1mBinary Linear Programming\u001b[0m\n"
          ]
        },
        {
          "output_type": "display_data",
          "data": {
            "text/plain": [
              "                             Iteration 25              Iteration 50  \\\n",
              "                                     Loss Time(second)         Loss   \n",
              "Continuous Parameter Shift       5.35e+05        39.85     5.05e+05   \n",
              "Continuous Finite Difference     5.00e+05        36.67     4.75e+05   \n",
              "\n",
              "                                          Iteration 75               \\\n",
              "                             Time(second)         Loss Time(second)   \n",
              "Continuous Parameter Shift          76.98     5.06e+05       113.70   \n",
              "Continuous Finite Difference        72.06     4.74e+05       107.52   \n",
              "\n",
              "                             Iteration 100               \n",
              "                                      Loss Time(second)  \n",
              "Continuous Parameter Shift        5.33e+05       151.52  \n",
              "Continuous Finite Difference      4.73e+05       143.45  "
            ],
            "text/html": [
              "\n",
              "  <div id=\"df-f203ccee-a74f-4822-a355-9d2804eceea9\">\n",
              "    <div class=\"colab-df-container\">\n",
              "      <div>\n",
              "<style scoped>\n",
              "    .dataframe tbody tr th:only-of-type {\n",
              "        vertical-align: middle;\n",
              "    }\n",
              "\n",
              "    .dataframe tbody tr th {\n",
              "        vertical-align: top;\n",
              "    }\n",
              "\n",
              "    .dataframe thead tr th {\n",
              "        text-align: left;\n",
              "    }\n",
              "</style>\n",
              "<table border=\"1\" class=\"dataframe\">\n",
              "  <thead>\n",
              "    <tr>\n",
              "      <th></th>\n",
              "      <th colspan=\"2\" halign=\"left\">Iteration 25</th>\n",
              "      <th colspan=\"2\" halign=\"left\">Iteration 50</th>\n",
              "      <th colspan=\"2\" halign=\"left\">Iteration 75</th>\n",
              "      <th colspan=\"2\" halign=\"left\">Iteration 100</th>\n",
              "    </tr>\n",
              "    <tr>\n",
              "      <th></th>\n",
              "      <th>Loss</th>\n",
              "      <th>Time(second)</th>\n",
              "      <th>Loss</th>\n",
              "      <th>Time(second)</th>\n",
              "      <th>Loss</th>\n",
              "      <th>Time(second)</th>\n",
              "      <th>Loss</th>\n",
              "      <th>Time(second)</th>\n",
              "    </tr>\n",
              "  </thead>\n",
              "  <tbody>\n",
              "    <tr>\n",
              "      <th>Continuous Parameter Shift</th>\n",
              "      <td>5.35e+05</td>\n",
              "      <td>39.85</td>\n",
              "      <td>5.05e+05</td>\n",
              "      <td>76.98</td>\n",
              "      <td>5.06e+05</td>\n",
              "      <td>113.70</td>\n",
              "      <td>5.33e+05</td>\n",
              "      <td>151.52</td>\n",
              "    </tr>\n",
              "    <tr>\n",
              "      <th>Continuous Finite Difference</th>\n",
              "      <td>5.00e+05</td>\n",
              "      <td>36.67</td>\n",
              "      <td>4.75e+05</td>\n",
              "      <td>72.06</td>\n",
              "      <td>4.74e+05</td>\n",
              "      <td>107.52</td>\n",
              "      <td>4.73e+05</td>\n",
              "      <td>143.45</td>\n",
              "    </tr>\n",
              "  </tbody>\n",
              "</table>\n",
              "</div>\n",
              "      <button class=\"colab-df-convert\" onclick=\"convertToInteractive('df-f203ccee-a74f-4822-a355-9d2804eceea9')\"\n",
              "              title=\"Convert this dataframe to an interactive table.\"\n",
              "              style=\"display:none;\">\n",
              "        \n",
              "  <svg xmlns=\"http://www.w3.org/2000/svg\" height=\"24px\"viewBox=\"0 0 24 24\"\n",
              "       width=\"24px\">\n",
              "    <path d=\"M0 0h24v24H0V0z\" fill=\"none\"/>\n",
              "    <path d=\"M18.56 5.44l.94 2.06.94-2.06 2.06-.94-2.06-.94-.94-2.06-.94 2.06-2.06.94zm-11 1L8.5 8.5l.94-2.06 2.06-.94-2.06-.94L8.5 2.5l-.94 2.06-2.06.94zm10 10l.94 2.06.94-2.06 2.06-.94-2.06-.94-.94-2.06-.94 2.06-2.06.94z\"/><path d=\"M17.41 7.96l-1.37-1.37c-.4-.4-.92-.59-1.43-.59-.52 0-1.04.2-1.43.59L10.3 9.45l-7.72 7.72c-.78.78-.78 2.05 0 2.83L4 21.41c.39.39.9.59 1.41.59.51 0 1.02-.2 1.41-.59l7.78-7.78 2.81-2.81c.8-.78.8-2.07 0-2.86zM5.41 20L4 18.59l7.72-7.72 1.47 1.35L5.41 20z\"/>\n",
              "  </svg>\n",
              "      </button>\n",
              "      \n",
              "  <style>\n",
              "    .colab-df-container {\n",
              "      display:flex;\n",
              "      flex-wrap:wrap;\n",
              "      gap: 12px;\n",
              "    }\n",
              "\n",
              "    .colab-df-convert {\n",
              "      background-color: #E8F0FE;\n",
              "      border: none;\n",
              "      border-radius: 50%;\n",
              "      cursor: pointer;\n",
              "      display: none;\n",
              "      fill: #1967D2;\n",
              "      height: 32px;\n",
              "      padding: 0 0 0 0;\n",
              "      width: 32px;\n",
              "    }\n",
              "\n",
              "    .colab-df-convert:hover {\n",
              "      background-color: #E2EBFA;\n",
              "      box-shadow: 0px 1px 2px rgba(60, 64, 67, 0.3), 0px 1px 3px 1px rgba(60, 64, 67, 0.15);\n",
              "      fill: #174EA6;\n",
              "    }\n",
              "\n",
              "    [theme=dark] .colab-df-convert {\n",
              "      background-color: #3B4455;\n",
              "      fill: #D2E3FC;\n",
              "    }\n",
              "\n",
              "    [theme=dark] .colab-df-convert:hover {\n",
              "      background-color: #434B5C;\n",
              "      box-shadow: 0px 1px 3px 1px rgba(0, 0, 0, 0.15);\n",
              "      filter: drop-shadow(0px 1px 2px rgba(0, 0, 0, 0.3));\n",
              "      fill: #FFFFFF;\n",
              "    }\n",
              "  </style>\n",
              "\n",
              "      <script>\n",
              "        const buttonEl =\n",
              "          document.querySelector('#df-f203ccee-a74f-4822-a355-9d2804eceea9 button.colab-df-convert');\n",
              "        buttonEl.style.display =\n",
              "          google.colab.kernel.accessAllowed ? 'block' : 'none';\n",
              "\n",
              "        async function convertToInteractive(key) {\n",
              "          const element = document.querySelector('#df-f203ccee-a74f-4822-a355-9d2804eceea9');\n",
              "          const dataTable =\n",
              "            await google.colab.kernel.invokeFunction('convertToInteractive',\n",
              "                                                     [key], {});\n",
              "          if (!dataTable) return;\n",
              "\n",
              "          const docLinkHtml = 'Like what you see? Visit the ' +\n",
              "            '<a target=\"_blank\" href=https://colab.research.google.com/notebooks/data_table.ipynb>data table notebook</a>'\n",
              "            + ' to learn more about interactive tables.';\n",
              "          element.innerHTML = '';\n",
              "          dataTable['output_type'] = 'display_data';\n",
              "          await google.colab.output.renderOutput(dataTable, element);\n",
              "          const docLink = document.createElement('div');\n",
              "          docLink.innerHTML = docLinkHtml;\n",
              "          element.appendChild(docLink);\n",
              "        }\n",
              "      </script>\n",
              "    </div>\n",
              "  </div>\n",
              "  "
            ]
          },
          "metadata": {}
        },
        {
          "output_type": "stream",
          "name": "stdout",
          "text": [
            "\n",
            "\n",
            "\n",
            "\n",
            "\u001b[1mKnapsack\u001b[0m\n"
          ]
        },
        {
          "output_type": "display_data",
          "data": {
            "text/plain": [
              "                             Iteration 25              Iteration 50  \\\n",
              "                                     Loss Time(second)         Loss   \n",
              "Continuous Parameter Shift      -1.16e+00        37.72    -1.62e+00   \n",
              "Continuous Finite Difference    -1.23e+00        36.64    -1.70e+00   \n",
              "\n",
              "                                          Iteration 75               \\\n",
              "                             Time(second)         Loss Time(second)   \n",
              "Continuous Parameter Shift          73.86    -1.58e+00       110.52   \n",
              "Continuous Finite Difference        72.17    -1.72e+00       107.44   \n",
              "\n",
              "                             Iteration 100               \n",
              "                                      Loss Time(second)  \n",
              "Continuous Parameter Shift       -1.56e+00       147.03  \n",
              "Continuous Finite Difference     -1.76e+00       142.94  "
            ],
            "text/html": [
              "\n",
              "  <div id=\"df-509339cc-bc6b-44fd-aa4b-3a813464946d\">\n",
              "    <div class=\"colab-df-container\">\n",
              "      <div>\n",
              "<style scoped>\n",
              "    .dataframe tbody tr th:only-of-type {\n",
              "        vertical-align: middle;\n",
              "    }\n",
              "\n",
              "    .dataframe tbody tr th {\n",
              "        vertical-align: top;\n",
              "    }\n",
              "\n",
              "    .dataframe thead tr th {\n",
              "        text-align: left;\n",
              "    }\n",
              "</style>\n",
              "<table border=\"1\" class=\"dataframe\">\n",
              "  <thead>\n",
              "    <tr>\n",
              "      <th></th>\n",
              "      <th colspan=\"2\" halign=\"left\">Iteration 25</th>\n",
              "      <th colspan=\"2\" halign=\"left\">Iteration 50</th>\n",
              "      <th colspan=\"2\" halign=\"left\">Iteration 75</th>\n",
              "      <th colspan=\"2\" halign=\"left\">Iteration 100</th>\n",
              "    </tr>\n",
              "    <tr>\n",
              "      <th></th>\n",
              "      <th>Loss</th>\n",
              "      <th>Time(second)</th>\n",
              "      <th>Loss</th>\n",
              "      <th>Time(second)</th>\n",
              "      <th>Loss</th>\n",
              "      <th>Time(second)</th>\n",
              "      <th>Loss</th>\n",
              "      <th>Time(second)</th>\n",
              "    </tr>\n",
              "  </thead>\n",
              "  <tbody>\n",
              "    <tr>\n",
              "      <th>Continuous Parameter Shift</th>\n",
              "      <td>-1.16e+00</td>\n",
              "      <td>37.72</td>\n",
              "      <td>-1.62e+00</td>\n",
              "      <td>73.86</td>\n",
              "      <td>-1.58e+00</td>\n",
              "      <td>110.52</td>\n",
              "      <td>-1.56e+00</td>\n",
              "      <td>147.03</td>\n",
              "    </tr>\n",
              "    <tr>\n",
              "      <th>Continuous Finite Difference</th>\n",
              "      <td>-1.23e+00</td>\n",
              "      <td>36.64</td>\n",
              "      <td>-1.70e+00</td>\n",
              "      <td>72.17</td>\n",
              "      <td>-1.72e+00</td>\n",
              "      <td>107.44</td>\n",
              "      <td>-1.76e+00</td>\n",
              "      <td>142.94</td>\n",
              "    </tr>\n",
              "  </tbody>\n",
              "</table>\n",
              "</div>\n",
              "      <button class=\"colab-df-convert\" onclick=\"convertToInteractive('df-509339cc-bc6b-44fd-aa4b-3a813464946d')\"\n",
              "              title=\"Convert this dataframe to an interactive table.\"\n",
              "              style=\"display:none;\">\n",
              "        \n",
              "  <svg xmlns=\"http://www.w3.org/2000/svg\" height=\"24px\"viewBox=\"0 0 24 24\"\n",
              "       width=\"24px\">\n",
              "    <path d=\"M0 0h24v24H0V0z\" fill=\"none\"/>\n",
              "    <path d=\"M18.56 5.44l.94 2.06.94-2.06 2.06-.94-2.06-.94-.94-2.06-.94 2.06-2.06.94zm-11 1L8.5 8.5l.94-2.06 2.06-.94-2.06-.94L8.5 2.5l-.94 2.06-2.06.94zm10 10l.94 2.06.94-2.06 2.06-.94-2.06-.94-.94-2.06-.94 2.06-2.06.94z\"/><path d=\"M17.41 7.96l-1.37-1.37c-.4-.4-.92-.59-1.43-.59-.52 0-1.04.2-1.43.59L10.3 9.45l-7.72 7.72c-.78.78-.78 2.05 0 2.83L4 21.41c.39.39.9.59 1.41.59.51 0 1.02-.2 1.41-.59l7.78-7.78 2.81-2.81c.8-.78.8-2.07 0-2.86zM5.41 20L4 18.59l7.72-7.72 1.47 1.35L5.41 20z\"/>\n",
              "  </svg>\n",
              "      </button>\n",
              "      \n",
              "  <style>\n",
              "    .colab-df-container {\n",
              "      display:flex;\n",
              "      flex-wrap:wrap;\n",
              "      gap: 12px;\n",
              "    }\n",
              "\n",
              "    .colab-df-convert {\n",
              "      background-color: #E8F0FE;\n",
              "      border: none;\n",
              "      border-radius: 50%;\n",
              "      cursor: pointer;\n",
              "      display: none;\n",
              "      fill: #1967D2;\n",
              "      height: 32px;\n",
              "      padding: 0 0 0 0;\n",
              "      width: 32px;\n",
              "    }\n",
              "\n",
              "    .colab-df-convert:hover {\n",
              "      background-color: #E2EBFA;\n",
              "      box-shadow: 0px 1px 2px rgba(60, 64, 67, 0.3), 0px 1px 3px 1px rgba(60, 64, 67, 0.15);\n",
              "      fill: #174EA6;\n",
              "    }\n",
              "\n",
              "    [theme=dark] .colab-df-convert {\n",
              "      background-color: #3B4455;\n",
              "      fill: #D2E3FC;\n",
              "    }\n",
              "\n",
              "    [theme=dark] .colab-df-convert:hover {\n",
              "      background-color: #434B5C;\n",
              "      box-shadow: 0px 1px 3px 1px rgba(0, 0, 0, 0.15);\n",
              "      filter: drop-shadow(0px 1px 2px rgba(0, 0, 0, 0.3));\n",
              "      fill: #FFFFFF;\n",
              "    }\n",
              "  </style>\n",
              "\n",
              "      <script>\n",
              "        const buttonEl =\n",
              "          document.querySelector('#df-509339cc-bc6b-44fd-aa4b-3a813464946d button.colab-df-convert');\n",
              "        buttonEl.style.display =\n",
              "          google.colab.kernel.accessAllowed ? 'block' : 'none';\n",
              "\n",
              "        async function convertToInteractive(key) {\n",
              "          const element = document.querySelector('#df-509339cc-bc6b-44fd-aa4b-3a813464946d');\n",
              "          const dataTable =\n",
              "            await google.colab.kernel.invokeFunction('convertToInteractive',\n",
              "                                                     [key], {});\n",
              "          if (!dataTable) return;\n",
              "\n",
              "          const docLinkHtml = 'Like what you see? Visit the ' +\n",
              "            '<a target=\"_blank\" href=https://colab.research.google.com/notebooks/data_table.ipynb>data table notebook</a>'\n",
              "            + ' to learn more about interactive tables.';\n",
              "          element.innerHTML = '';\n",
              "          dataTable['output_type'] = 'display_data';\n",
              "          await google.colab.output.renderOutput(dataTable, element);\n",
              "          const docLink = document.createElement('div');\n",
              "          docLink.innerHTML = docLinkHtml;\n",
              "          element.appendChild(docLink);\n",
              "        }\n",
              "      </script>\n",
              "    </div>\n",
              "  </div>\n",
              "  "
            ]
          },
          "metadata": {}
        },
        {
          "output_type": "stream",
          "name": "stdout",
          "text": [
            "\n",
            "\n",
            "\n",
            "\n"
          ]
        }
      ],
      "source": [
        "#@title Comparison Table\n",
        "rows = ['Continuous Parameter Shift',\n",
        "          'Continuous Finite Difference',\n",
        "          ]\n",
        "columns_g = [\"Iteration 25\", \"Iteration 50\", \"Iteration 75\", \"Iteration 100\"]\n",
        "iters = [25, 50, 75, 100]\n",
        "columns_s = [\"Loss\", \"Time(second)\"]\n",
        "problems = [\"Max-Cut\", \"Clique\", \"Binary Linear Programming\", \"Knapsack\"]\n",
        "for problemn in range(len(problems)):\n",
        "  df = pd.DataFrame([[cvpsl[problemn][iters[0]], cvpst[problemn][iters[0]], cvpsl[problemn][iters[1]],cvpst[problemn][iters[1]],cvpsl[problemn][iters[2]],cvpst[problemn][iters[2]],cvpsl[problemn][iters[3]],cvpst[problemn][iters[3]]],\n",
        "                    [cvfdl[problemn][iters[0]], cvfdt[problemn][iters[0]], cvfdl[problemn][iters[1]], cvfdt[problemn][iters[1]], cvfdl[problemn][iters[2]], cvfdt[problemn][iters[2]], cvfdl[problemn][iters[3]], cvfdt[problemn][iters[3]]],\n",
        "                    ])\n",
        "\n",
        "  col_ix = pd.MultiIndex.from_product([columns_g, columns_s]) \n",
        "  row_ix = pd.MultiIndex.from_product([rows])\n",
        "  df = df.set_index(row_ix)\n",
        "  df.columns = col_ix\n",
        "  df[( 'Iteration 25','Loss')] = df[( 'Iteration 25','Loss')].map('{:.2e}'.format)\n",
        "  df[( 'Iteration 50','Loss')] = df[( 'Iteration 50','Loss')].map('{:.2e}'.format)\n",
        "  df[( 'Iteration 75','Loss')] = df[( 'Iteration 75','Loss')].map('{:.2e}'.format)\n",
        "  df[( 'Iteration 100','Loss')] = df[( 'Iteration 100','Loss')].map('{:.2e}'.format)\n",
        "  # df[( 'Iteration 500','Loss')] = df[( 'Iteration 500','Loss')].map('{:.2e}'.format)\n",
        "  print(f\"\\033[1m{problems[problemn]}\\033[0m\")\n",
        "  df_styled = df.round(2)\n",
        "  display(df_styled)\n",
        "  print(\"\\n\\n\\n\")"
      ]
    },
    {
      "cell_type": "markdown",
      "metadata": {
        "id": "yvG-o_OUTYm3"
      },
      "source": [
        "## Fixed epochs"
      ]
    },
    {
      "cell_type": "code",
      "execution_count": 64,
      "metadata": {
        "id": "j4ETsKqKq4Yf",
        "colab": {
          "base_uri": "https://localhost:8080/",
          "height": 717
        },
        "outputId": "af9d2b79-bcf8-482c-bdcb-8ff4627d6950",
        "cellView": "form"
      },
      "outputs": [
        {
          "output_type": "display_data",
          "data": {
            "text/html": [
              "<html>\n",
              "<head><meta charset=\"utf-8\" /></head>\n",
              "<body>\n",
              "    <div>            <script src=\"https://cdnjs.cloudflare.com/ajax/libs/mathjax/2.7.5/MathJax.js?config=TeX-AMS-MML_SVG\"></script><script type=\"text/javascript\">if (window.MathJax) {MathJax.Hub.Config({SVG: {font: \"STIX-Web\"}});}</script>                <script type=\"text/javascript\">window.PlotlyConfig = {MathJaxConfig: 'local'};</script>\n",
              "        <script src=\"https://cdn.plot.ly/plotly-2.8.3.min.js\"></script>                <div id=\"3c6068a1-af2b-4adf-b316-800de8ad29a6\" class=\"plotly-graph-div\" style=\"height:700px; width:1000px;\"></div>            <script type=\"text/javascript\">                                    window.PLOTLYENV=window.PLOTLYENV || {};                                    if (document.getElementById(\"3c6068a1-af2b-4adf-b316-800de8ad29a6\")) {                    Plotly.newPlot(                        \"3c6068a1-af2b-4adf-b316-800de8ad29a6\",                        [{\"line\":{\"color\":\"red\",\"width\":2},\"name\":\"Continuous Parameter Shift\",\"showlegend\":true,\"x\":[6,12,18,24,30],\"y\":[-2.2023251430079167,-2.4791716964483186,-2.7726992016875034,-2.636492040512438,-2.552104100528366],\"type\":\"scatter\",\"xaxis\":\"x\",\"yaxis\":\"y\"},{\"line\":{\"color\":\"green\",\"width\":2},\"mode\":\"lines\",\"name\":\"Continuous Finite Difference\",\"showlegend\":true,\"x\":[6,12,18,24,30],\"y\":[-2.1256659398688074,-2.4713838235127286,-2.743941897942367,-2.6636848762715317,-2.6387165874690512],\"type\":\"scatter\",\"xaxis\":\"x\",\"yaxis\":\"y\"},{\"line\":{\"color\":\"red\",\"width\":2},\"name\":\"Continuous Parameter Shift\",\"showlegend\":false,\"x\":[6,12,18,24,30],\"y\":[-1.5263328698235132,-1.7982994840766922,-1.827781741110629,-1.6495884442805295,-1.8515743601427812],\"type\":\"scatter\",\"xaxis\":\"x2\",\"yaxis\":\"y2\"},{\"line\":{\"color\":\"green\",\"width\":2},\"mode\":\"lines\",\"name\":\"Continuous Finite Difference\",\"showlegend\":false,\"x\":[6,12,18,24,30],\"y\":[-1.4608660090939414,-1.800799203019593,-1.9110282878216016,-1.7119768517403717,-1.7330485850906228],\"type\":\"scatter\",\"xaxis\":\"x2\",\"yaxis\":\"y2\"},{\"line\":{\"color\":\"red\",\"width\":2},\"name\":\"Continuous Parameter Shift\",\"showlegend\":false,\"x\":[6,12,18,24,30],\"y\":[593039.8541754154,524242.99145188765,511056.02133466717,534850.4546962422,521513.8308107899],\"type\":\"scatter\",\"xaxis\":\"x3\",\"yaxis\":\"y3\"},{\"line\":{\"color\":\"green\",\"width\":2},\"mode\":\"lines\",\"name\":\"Continuous Finite Difference\",\"showlegend\":false,\"x\":[6,12,18,24,30],\"y\":[584829.2688230766,523783.2709227222,507099.3295333039,522049.1728364057,477378.0726326774],\"type\":\"scatter\",\"xaxis\":\"x3\",\"yaxis\":\"y3\"},{\"line\":{\"color\":\"red\",\"width\":2},\"name\":\"Continuous Parameter Shift\",\"showlegend\":false,\"x\":[6,12,18,24,30],\"y\":[2.9070237412408098,-0.9603673011590956,-1.1404742848487999,-0.43329873170846867,-0.7924890878191988],\"type\":\"scatter\",\"xaxis\":\"x4\",\"yaxis\":\"y4\"},{\"line\":{\"color\":\"green\",\"width\":2},\"mode\":\"lines\",\"name\":\"Continuous Finite Difference\",\"showlegend\":false,\"x\":[6,12,18,24,30],\"y\":[3.416275708359141,-1.1989548757134827,-1.405573816852069,-0.81153644689579,-0.7097706133376072],\"type\":\"scatter\",\"xaxis\":\"x4\",\"yaxis\":\"y4\"}],                        {\"template\":{\"data\":{\"bar\":[{\"error_x\":{\"color\":\"#2a3f5f\"},\"error_y\":{\"color\":\"#2a3f5f\"},\"marker\":{\"line\":{\"color\":\"#E5ECF6\",\"width\":0.5},\"pattern\":{\"fillmode\":\"overlay\",\"size\":10,\"solidity\":0.2}},\"type\":\"bar\"}],\"barpolar\":[{\"marker\":{\"line\":{\"color\":\"#E5ECF6\",\"width\":0.5},\"pattern\":{\"fillmode\":\"overlay\",\"size\":10,\"solidity\":0.2}},\"type\":\"barpolar\"}],\"carpet\":[{\"aaxis\":{\"endlinecolor\":\"#2a3f5f\",\"gridcolor\":\"white\",\"linecolor\":\"white\",\"minorgridcolor\":\"white\",\"startlinecolor\":\"#2a3f5f\"},\"baxis\":{\"endlinecolor\":\"#2a3f5f\",\"gridcolor\":\"white\",\"linecolor\":\"white\",\"minorgridcolor\":\"white\",\"startlinecolor\":\"#2a3f5f\"},\"type\":\"carpet\"}],\"choropleth\":[{\"colorbar\":{\"outlinewidth\":0,\"ticks\":\"\"},\"type\":\"choropleth\"}],\"contour\":[{\"colorbar\":{\"outlinewidth\":0,\"ticks\":\"\"},\"colorscale\":[[0.0,\"#0d0887\"],[0.1111111111111111,\"#46039f\"],[0.2222222222222222,\"#7201a8\"],[0.3333333333333333,\"#9c179e\"],[0.4444444444444444,\"#bd3786\"],[0.5555555555555556,\"#d8576b\"],[0.6666666666666666,\"#ed7953\"],[0.7777777777777778,\"#fb9f3a\"],[0.8888888888888888,\"#fdca26\"],[1.0,\"#f0f921\"]],\"type\":\"contour\"}],\"contourcarpet\":[{\"colorbar\":{\"outlinewidth\":0,\"ticks\":\"\"},\"type\":\"contourcarpet\"}],\"heatmap\":[{\"colorbar\":{\"outlinewidth\":0,\"ticks\":\"\"},\"colorscale\":[[0.0,\"#0d0887\"],[0.1111111111111111,\"#46039f\"],[0.2222222222222222,\"#7201a8\"],[0.3333333333333333,\"#9c179e\"],[0.4444444444444444,\"#bd3786\"],[0.5555555555555556,\"#d8576b\"],[0.6666666666666666,\"#ed7953\"],[0.7777777777777778,\"#fb9f3a\"],[0.8888888888888888,\"#fdca26\"],[1.0,\"#f0f921\"]],\"type\":\"heatmap\"}],\"heatmapgl\":[{\"colorbar\":{\"outlinewidth\":0,\"ticks\":\"\"},\"colorscale\":[[0.0,\"#0d0887\"],[0.1111111111111111,\"#46039f\"],[0.2222222222222222,\"#7201a8\"],[0.3333333333333333,\"#9c179e\"],[0.4444444444444444,\"#bd3786\"],[0.5555555555555556,\"#d8576b\"],[0.6666666666666666,\"#ed7953\"],[0.7777777777777778,\"#fb9f3a\"],[0.8888888888888888,\"#fdca26\"],[1.0,\"#f0f921\"]],\"type\":\"heatmapgl\"}],\"histogram\":[{\"marker\":{\"pattern\":{\"fillmode\":\"overlay\",\"size\":10,\"solidity\":0.2}},\"type\":\"histogram\"}],\"histogram2d\":[{\"colorbar\":{\"outlinewidth\":0,\"ticks\":\"\"},\"colorscale\":[[0.0,\"#0d0887\"],[0.1111111111111111,\"#46039f\"],[0.2222222222222222,\"#7201a8\"],[0.3333333333333333,\"#9c179e\"],[0.4444444444444444,\"#bd3786\"],[0.5555555555555556,\"#d8576b\"],[0.6666666666666666,\"#ed7953\"],[0.7777777777777778,\"#fb9f3a\"],[0.8888888888888888,\"#fdca26\"],[1.0,\"#f0f921\"]],\"type\":\"histogram2d\"}],\"histogram2dcontour\":[{\"colorbar\":{\"outlinewidth\":0,\"ticks\":\"\"},\"colorscale\":[[0.0,\"#0d0887\"],[0.1111111111111111,\"#46039f\"],[0.2222222222222222,\"#7201a8\"],[0.3333333333333333,\"#9c179e\"],[0.4444444444444444,\"#bd3786\"],[0.5555555555555556,\"#d8576b\"],[0.6666666666666666,\"#ed7953\"],[0.7777777777777778,\"#fb9f3a\"],[0.8888888888888888,\"#fdca26\"],[1.0,\"#f0f921\"]],\"type\":\"histogram2dcontour\"}],\"mesh3d\":[{\"colorbar\":{\"outlinewidth\":0,\"ticks\":\"\"},\"type\":\"mesh3d\"}],\"parcoords\":[{\"line\":{\"colorbar\":{\"outlinewidth\":0,\"ticks\":\"\"}},\"type\":\"parcoords\"}],\"pie\":[{\"automargin\":true,\"type\":\"pie\"}],\"scatter\":[{\"marker\":{\"colorbar\":{\"outlinewidth\":0,\"ticks\":\"\"}},\"type\":\"scatter\"}],\"scatter3d\":[{\"line\":{\"colorbar\":{\"outlinewidth\":0,\"ticks\":\"\"}},\"marker\":{\"colorbar\":{\"outlinewidth\":0,\"ticks\":\"\"}},\"type\":\"scatter3d\"}],\"scattercarpet\":[{\"marker\":{\"colorbar\":{\"outlinewidth\":0,\"ticks\":\"\"}},\"type\":\"scattercarpet\"}],\"scattergeo\":[{\"marker\":{\"colorbar\":{\"outlinewidth\":0,\"ticks\":\"\"}},\"type\":\"scattergeo\"}],\"scattergl\":[{\"marker\":{\"colorbar\":{\"outlinewidth\":0,\"ticks\":\"\"}},\"type\":\"scattergl\"}],\"scattermapbox\":[{\"marker\":{\"colorbar\":{\"outlinewidth\":0,\"ticks\":\"\"}},\"type\":\"scattermapbox\"}],\"scatterpolar\":[{\"marker\":{\"colorbar\":{\"outlinewidth\":0,\"ticks\":\"\"}},\"type\":\"scatterpolar\"}],\"scatterpolargl\":[{\"marker\":{\"colorbar\":{\"outlinewidth\":0,\"ticks\":\"\"}},\"type\":\"scatterpolargl\"}],\"scatterternary\":[{\"marker\":{\"colorbar\":{\"outlinewidth\":0,\"ticks\":\"\"}},\"type\":\"scatterternary\"}],\"surface\":[{\"colorbar\":{\"outlinewidth\":0,\"ticks\":\"\"},\"colorscale\":[[0.0,\"#0d0887\"],[0.1111111111111111,\"#46039f\"],[0.2222222222222222,\"#7201a8\"],[0.3333333333333333,\"#9c179e\"],[0.4444444444444444,\"#bd3786\"],[0.5555555555555556,\"#d8576b\"],[0.6666666666666666,\"#ed7953\"],[0.7777777777777778,\"#fb9f3a\"],[0.8888888888888888,\"#fdca26\"],[1.0,\"#f0f921\"]],\"type\":\"surface\"}],\"table\":[{\"cells\":{\"fill\":{\"color\":\"#EBF0F8\"},\"line\":{\"color\":\"white\"}},\"header\":{\"fill\":{\"color\":\"#C8D4E3\"},\"line\":{\"color\":\"white\"}},\"type\":\"table\"}]},\"layout\":{\"annotationdefaults\":{\"arrowcolor\":\"#2a3f5f\",\"arrowhead\":0,\"arrowwidth\":1},\"autotypenumbers\":\"strict\",\"coloraxis\":{\"colorbar\":{\"outlinewidth\":0,\"ticks\":\"\"}},\"colorscale\":{\"diverging\":[[0,\"#8e0152\"],[0.1,\"#c51b7d\"],[0.2,\"#de77ae\"],[0.3,\"#f1b6da\"],[0.4,\"#fde0ef\"],[0.5,\"#f7f7f7\"],[0.6,\"#e6f5d0\"],[0.7,\"#b8e186\"],[0.8,\"#7fbc41\"],[0.9,\"#4d9221\"],[1,\"#276419\"]],\"sequential\":[[0.0,\"#0d0887\"],[0.1111111111111111,\"#46039f\"],[0.2222222222222222,\"#7201a8\"],[0.3333333333333333,\"#9c179e\"],[0.4444444444444444,\"#bd3786\"],[0.5555555555555556,\"#d8576b\"],[0.6666666666666666,\"#ed7953\"],[0.7777777777777778,\"#fb9f3a\"],[0.8888888888888888,\"#fdca26\"],[1.0,\"#f0f921\"]],\"sequentialminus\":[[0.0,\"#0d0887\"],[0.1111111111111111,\"#46039f\"],[0.2222222222222222,\"#7201a8\"],[0.3333333333333333,\"#9c179e\"],[0.4444444444444444,\"#bd3786\"],[0.5555555555555556,\"#d8576b\"],[0.6666666666666666,\"#ed7953\"],[0.7777777777777778,\"#fb9f3a\"],[0.8888888888888888,\"#fdca26\"],[1.0,\"#f0f921\"]]},\"colorway\":[\"#636efa\",\"#EF553B\",\"#00cc96\",\"#ab63fa\",\"#FFA15A\",\"#19d3f3\",\"#FF6692\",\"#B6E880\",\"#FF97FF\",\"#FECB52\"],\"font\":{\"color\":\"#2a3f5f\"},\"geo\":{\"bgcolor\":\"white\",\"lakecolor\":\"white\",\"landcolor\":\"#E5ECF6\",\"showlakes\":true,\"showland\":true,\"subunitcolor\":\"white\"},\"hoverlabel\":{\"align\":\"left\"},\"hovermode\":\"closest\",\"mapbox\":{\"style\":\"light\"},\"paper_bgcolor\":\"white\",\"plot_bgcolor\":\"#E5ECF6\",\"polar\":{\"angularaxis\":{\"gridcolor\":\"white\",\"linecolor\":\"white\",\"ticks\":\"\"},\"bgcolor\":\"#E5ECF6\",\"radialaxis\":{\"gridcolor\":\"white\",\"linecolor\":\"white\",\"ticks\":\"\"}},\"scene\":{\"xaxis\":{\"backgroundcolor\":\"#E5ECF6\",\"gridcolor\":\"white\",\"gridwidth\":2,\"linecolor\":\"white\",\"showbackground\":true,\"ticks\":\"\",\"zerolinecolor\":\"white\"},\"yaxis\":{\"backgroundcolor\":\"#E5ECF6\",\"gridcolor\":\"white\",\"gridwidth\":2,\"linecolor\":\"white\",\"showbackground\":true,\"ticks\":\"\",\"zerolinecolor\":\"white\"},\"zaxis\":{\"backgroundcolor\":\"#E5ECF6\",\"gridcolor\":\"white\",\"gridwidth\":2,\"linecolor\":\"white\",\"showbackground\":true,\"ticks\":\"\",\"zerolinecolor\":\"white\"}},\"shapedefaults\":{\"line\":{\"color\":\"#2a3f5f\"}},\"ternary\":{\"aaxis\":{\"gridcolor\":\"white\",\"linecolor\":\"white\",\"ticks\":\"\"},\"baxis\":{\"gridcolor\":\"white\",\"linecolor\":\"white\",\"ticks\":\"\"},\"bgcolor\":\"#E5ECF6\",\"caxis\":{\"gridcolor\":\"white\",\"linecolor\":\"white\",\"ticks\":\"\"}},\"title\":{\"x\":0.05},\"xaxis\":{\"automargin\":true,\"gridcolor\":\"white\",\"linecolor\":\"white\",\"ticks\":\"\",\"title\":{\"standoff\":15},\"zerolinecolor\":\"white\",\"zerolinewidth\":2},\"yaxis\":{\"automargin\":true,\"gridcolor\":\"white\",\"linecolor\":\"white\",\"ticks\":\"\",\"title\":{\"standoff\":15},\"zerolinecolor\":\"white\",\"zerolinewidth\":2}}},\"xaxis\":{\"anchor\":\"y\",\"domain\":[0.0,0.45],\"title\":{\"text\":\"The Number of parameterized gate\"}},\"yaxis\":{\"anchor\":\"x\",\"domain\":[0.625,1.0],\"title\":{\"text\":\"Loss\"}},\"xaxis2\":{\"anchor\":\"y2\",\"domain\":[0.55,1.0]},\"yaxis2\":{\"anchor\":\"x2\",\"domain\":[0.625,1.0]},\"xaxis3\":{\"anchor\":\"y3\",\"domain\":[0.0,0.45]},\"yaxis3\":{\"anchor\":\"x3\",\"domain\":[0.0,0.375]},\"xaxis4\":{\"anchor\":\"y4\",\"domain\":[0.55,1.0]},\"yaxis4\":{\"anchor\":\"x4\",\"domain\":[0.0,0.375]},\"annotations\":[{\"font\":{\"size\":16},\"showarrow\":false,\"text\":\"Max-Cut\",\"x\":0.225,\"xanchor\":\"center\",\"xref\":\"paper\",\"y\":1.0,\"yanchor\":\"bottom\",\"yref\":\"paper\"},{\"font\":{\"size\":16},\"showarrow\":false,\"text\":\"Clique\",\"x\":0.775,\"xanchor\":\"center\",\"xref\":\"paper\",\"y\":1.0,\"yanchor\":\"bottom\",\"yref\":\"paper\"},{\"font\":{\"size\":16},\"showarrow\":false,\"text\":\"Binary Linear Programming\",\"x\":0.225,\"xanchor\":\"center\",\"xref\":\"paper\",\"y\":0.375,\"yanchor\":\"bottom\",\"yref\":\"paper\"},{\"font\":{\"size\":16},\"showarrow\":false,\"text\":\"Knapsack\",\"x\":0.775,\"xanchor\":\"center\",\"xref\":\"paper\",\"y\":0.375,\"yanchor\":\"bottom\",\"yref\":\"paper\"}],\"title\":{\"text\":\"Loss Comparison  <br><sup>Fixed epochs (10 epochs).</sup>\"},\"autosize\":false,\"width\":1000,\"height\":700},                        {\"responsive\": true}                    ).then(function(){\n",
              "                            \n",
              "var gd = document.getElementById('3c6068a1-af2b-4adf-b316-800de8ad29a6');\n",
              "var x = new MutationObserver(function (mutations, observer) {{\n",
              "        var display = window.getComputedStyle(gd).display;\n",
              "        if (!display || display === 'none') {{\n",
              "            console.log([gd, 'removed!']);\n",
              "            Plotly.purge(gd);\n",
              "            observer.disconnect();\n",
              "        }}\n",
              "}});\n",
              "\n",
              "// Listen for the removal of the full notebook cells\n",
              "var notebookContainer = gd.closest('#notebook-container');\n",
              "if (notebookContainer) {{\n",
              "    x.observe(notebookContainer, {childList: true});\n",
              "}}\n",
              "\n",
              "// Listen for the clearing of the current output cell\n",
              "var outputEl = gd.closest('.output');\n",
              "if (outputEl) {{\n",
              "    x.observe(outputEl, {childList: true});\n",
              "}}\n",
              "\n",
              "                        })                };                            </script>        </div>\n",
              "</body>\n",
              "</html>"
            ]
          },
          "metadata": {}
        }
      ],
      "source": [
        "#@title Loss Comparison \n",
        "#@markdown Fixed epochs (10 epochs).\n",
        "from plotly.subplots import make_subplots\n",
        "\n",
        "x = [step*3 for step in steps]\n",
        "row = 2\n",
        "col = 2\n",
        "fig = make_subplots(rows=row, cols=col, subplot_titles=(\"Max-Cut\",\"Clique\",\"Binary Linear Programming\", \"Knapsack\"))\n",
        "show = True\n",
        "for i in range(row):\n",
        "  for j in range(col):\n",
        "    problemn = i*col+j\n",
        "    if problemn>0:\n",
        "      show = False\n",
        "    dv_cv = pd.DataFrame({\"#Param Gates\":x, \"Loss\":cvpslc[problemn]})\n",
        "    dv_fd_cv = pd.DataFrame({\"#Param Gates\":x, \"Loss\":cvfdlc[problemn]})\n",
        "\n",
        "    fig.add_trace(go.Scatter(x=dv_cv[\"#Param Gates\"], y=dv_cv[\"Loss\"], name=\"Continuous Parameter Shift\", line = dict(width=2), line_color='red', showlegend = show), row=i+1, col=j+1)\n",
        "    fig.add_trace(go.Scatter(x=dv_fd_cv[\"#Param Gates\"], y=dv_fd_cv[\"Loss\"], mode=\"lines\", name=\"Continuous Finite Difference\", line = dict(width=2), line_color='green', showlegend = show), row=i+1, col=j+1)\n",
        "\n",
        "fig.update_layout(title=\"Loss Comparison  <br><sup>Fixed epochs (10 epochs).</sup>\",\n",
        "                  xaxis_title=\"The Number of parameterized gate\",\n",
        "                  yaxis_title=\"Loss\", autosize=False,\n",
        "                  width=1000,\n",
        "                  height=700)\n",
        "plotly.offline.plot(fig, filename='loss_fixepoch_cv.html')\n",
        "fig.show()"
      ]
    },
    {
      "cell_type": "code",
      "source": [
        "with open('analytic_pslc_cv.pk', 'wb') as fp:\n",
        "    pickle.dump(cvpslc, fp)\n",
        "with open('analytic_fdlc_cv.pk', 'wb') as fp:\n",
        "    pickle.dump(cvfdlc, fp)"
      ],
      "metadata": {
        "id": "S9K98E_MkMJQ"
      },
      "execution_count": 65,
      "outputs": []
    },
    {
      "cell_type": "code",
      "execution_count": 67,
      "metadata": {
        "id": "S-MBnDy8ta7l",
        "colab": {
          "base_uri": "https://localhost:8080/",
          "height": 717
        },
        "outputId": "1c9600c9-a7da-464a-cc70-a4c0904923e4",
        "cellView": "form"
      },
      "outputs": [
        {
          "output_type": "display_data",
          "data": {
            "text/html": [
              "<html>\n",
              "<head><meta charset=\"utf-8\" /></head>\n",
              "<body>\n",
              "    <div>            <script src=\"https://cdnjs.cloudflare.com/ajax/libs/mathjax/2.7.5/MathJax.js?config=TeX-AMS-MML_SVG\"></script><script type=\"text/javascript\">if (window.MathJax) {MathJax.Hub.Config({SVG: {font: \"STIX-Web\"}});}</script>                <script type=\"text/javascript\">window.PlotlyConfig = {MathJaxConfig: 'local'};</script>\n",
              "        <script src=\"https://cdn.plot.ly/plotly-2.8.3.min.js\"></script>                <div id=\"0b423e29-07b0-49dd-9d42-1e3a4fd953c1\" class=\"plotly-graph-div\" style=\"height:700px; width:1000px;\"></div>            <script type=\"text/javascript\">                                    window.PLOTLYENV=window.PLOTLYENV || {};                                    if (document.getElementById(\"0b423e29-07b0-49dd-9d42-1e3a4fd953c1\")) {                    Plotly.newPlot(                        \"0b423e29-07b0-49dd-9d42-1e3a4fd953c1\",                        [{\"line\":{\"color\":\"red\",\"width\":2},\"name\":\"Continuous Parameter Shift\",\"showlegend\":true,\"x\":[6,12,18,24,30],\"y\":[15.487803936004639,41.4869167804718,76.92186427116394,122.49126243591309,178.85329270362854],\"type\":\"scatter\",\"xaxis\":\"x\",\"yaxis\":\"y\"},{\"line\":{\"color\":\"green\",\"width\":2},\"mode\":\"lines\",\"name\":\"Continuous Finite Difference\",\"showlegend\":true,\"x\":[6,12,18,24,30],\"y\":[15.594456672668457,41.298344373703,76.94058156013489,121.49421739578247,177.42185401916504],\"type\":\"scatter\",\"xaxis\":\"x\",\"yaxis\":\"y\"},{\"line\":{\"color\":\"red\",\"width\":2},\"name\":\"Continuous Parameter Shift\",\"showlegend\":false,\"x\":[6,12,18,24,30],\"y\":[15.847535371780396,41.55421423912048,91.59267830848694,156.91363096237183,276.6836462020874],\"type\":\"scatter\",\"xaxis\":\"x2\",\"yaxis\":\"y2\"},{\"line\":{\"color\":\"green\",\"width\":2},\"mode\":\"lines\",\"name\":\"Continuous Finite Difference\",\"showlegend\":false,\"x\":[6,12,18,24,30],\"y\":[15.410288572311401,41.24945664405823,76.94232535362244,121.91944432258606,177.00385308265686],\"type\":\"scatter\",\"xaxis\":\"x2\",\"yaxis\":\"y2\"},{\"line\":{\"color\":\"red\",\"width\":2},\"name\":\"Continuous Parameter Shift\",\"showlegend\":false,\"x\":[6,12,18,24,30],\"y\":[15.858551979064941,42.018468618392944,78.70744442939758,124.65633010864258,181.94850373268127],\"type\":\"scatter\",\"xaxis\":\"x3\",\"yaxis\":\"y3\"},{\"line\":{\"color\":\"green\",\"width\":2},\"mode\":\"lines\",\"name\":\"Continuous Finite Difference\",\"showlegend\":false,\"x\":[6,12,18,24,30],\"y\":[15.678775787353516,41.807862758636475,77.03968024253845,122.21322059631348,176.74095582962036],\"type\":\"scatter\",\"xaxis\":\"x3\",\"yaxis\":\"y3\"},{\"line\":{\"color\":\"red\",\"width\":2},\"name\":\"Continuous Parameter Shift\",\"showlegend\":false,\"x\":[6,12,18,24,30],\"y\":[15.98743748664856,42.36396265029907,76.97440099716187,123.5688202381134,178.09091520309448],\"type\":\"scatter\",\"xaxis\":\"x4\",\"yaxis\":\"y4\"},{\"line\":{\"color\":\"green\",\"width\":2},\"mode\":\"lines\",\"name\":\"Continuous Finite Difference\",\"showlegend\":false,\"x\":[6,12,18,24,30],\"y\":[15.57687258720398,41.34694790840149,76.50496363639832,121.9335298538208,177.17430305480957],\"type\":\"scatter\",\"xaxis\":\"x4\",\"yaxis\":\"y4\"}],                        {\"template\":{\"data\":{\"bar\":[{\"error_x\":{\"color\":\"#2a3f5f\"},\"error_y\":{\"color\":\"#2a3f5f\"},\"marker\":{\"line\":{\"color\":\"#E5ECF6\",\"width\":0.5},\"pattern\":{\"fillmode\":\"overlay\",\"size\":10,\"solidity\":0.2}},\"type\":\"bar\"}],\"barpolar\":[{\"marker\":{\"line\":{\"color\":\"#E5ECF6\",\"width\":0.5},\"pattern\":{\"fillmode\":\"overlay\",\"size\":10,\"solidity\":0.2}},\"type\":\"barpolar\"}],\"carpet\":[{\"aaxis\":{\"endlinecolor\":\"#2a3f5f\",\"gridcolor\":\"white\",\"linecolor\":\"white\",\"minorgridcolor\":\"white\",\"startlinecolor\":\"#2a3f5f\"},\"baxis\":{\"endlinecolor\":\"#2a3f5f\",\"gridcolor\":\"white\",\"linecolor\":\"white\",\"minorgridcolor\":\"white\",\"startlinecolor\":\"#2a3f5f\"},\"type\":\"carpet\"}],\"choropleth\":[{\"colorbar\":{\"outlinewidth\":0,\"ticks\":\"\"},\"type\":\"choropleth\"}],\"contour\":[{\"colorbar\":{\"outlinewidth\":0,\"ticks\":\"\"},\"colorscale\":[[0.0,\"#0d0887\"],[0.1111111111111111,\"#46039f\"],[0.2222222222222222,\"#7201a8\"],[0.3333333333333333,\"#9c179e\"],[0.4444444444444444,\"#bd3786\"],[0.5555555555555556,\"#d8576b\"],[0.6666666666666666,\"#ed7953\"],[0.7777777777777778,\"#fb9f3a\"],[0.8888888888888888,\"#fdca26\"],[1.0,\"#f0f921\"]],\"type\":\"contour\"}],\"contourcarpet\":[{\"colorbar\":{\"outlinewidth\":0,\"ticks\":\"\"},\"type\":\"contourcarpet\"}],\"heatmap\":[{\"colorbar\":{\"outlinewidth\":0,\"ticks\":\"\"},\"colorscale\":[[0.0,\"#0d0887\"],[0.1111111111111111,\"#46039f\"],[0.2222222222222222,\"#7201a8\"],[0.3333333333333333,\"#9c179e\"],[0.4444444444444444,\"#bd3786\"],[0.5555555555555556,\"#d8576b\"],[0.6666666666666666,\"#ed7953\"],[0.7777777777777778,\"#fb9f3a\"],[0.8888888888888888,\"#fdca26\"],[1.0,\"#f0f921\"]],\"type\":\"heatmap\"}],\"heatmapgl\":[{\"colorbar\":{\"outlinewidth\":0,\"ticks\":\"\"},\"colorscale\":[[0.0,\"#0d0887\"],[0.1111111111111111,\"#46039f\"],[0.2222222222222222,\"#7201a8\"],[0.3333333333333333,\"#9c179e\"],[0.4444444444444444,\"#bd3786\"],[0.5555555555555556,\"#d8576b\"],[0.6666666666666666,\"#ed7953\"],[0.7777777777777778,\"#fb9f3a\"],[0.8888888888888888,\"#fdca26\"],[1.0,\"#f0f921\"]],\"type\":\"heatmapgl\"}],\"histogram\":[{\"marker\":{\"pattern\":{\"fillmode\":\"overlay\",\"size\":10,\"solidity\":0.2}},\"type\":\"histogram\"}],\"histogram2d\":[{\"colorbar\":{\"outlinewidth\":0,\"ticks\":\"\"},\"colorscale\":[[0.0,\"#0d0887\"],[0.1111111111111111,\"#46039f\"],[0.2222222222222222,\"#7201a8\"],[0.3333333333333333,\"#9c179e\"],[0.4444444444444444,\"#bd3786\"],[0.5555555555555556,\"#d8576b\"],[0.6666666666666666,\"#ed7953\"],[0.7777777777777778,\"#fb9f3a\"],[0.8888888888888888,\"#fdca26\"],[1.0,\"#f0f921\"]],\"type\":\"histogram2d\"}],\"histogram2dcontour\":[{\"colorbar\":{\"outlinewidth\":0,\"ticks\":\"\"},\"colorscale\":[[0.0,\"#0d0887\"],[0.1111111111111111,\"#46039f\"],[0.2222222222222222,\"#7201a8\"],[0.3333333333333333,\"#9c179e\"],[0.4444444444444444,\"#bd3786\"],[0.5555555555555556,\"#d8576b\"],[0.6666666666666666,\"#ed7953\"],[0.7777777777777778,\"#fb9f3a\"],[0.8888888888888888,\"#fdca26\"],[1.0,\"#f0f921\"]],\"type\":\"histogram2dcontour\"}],\"mesh3d\":[{\"colorbar\":{\"outlinewidth\":0,\"ticks\":\"\"},\"type\":\"mesh3d\"}],\"parcoords\":[{\"line\":{\"colorbar\":{\"outlinewidth\":0,\"ticks\":\"\"}},\"type\":\"parcoords\"}],\"pie\":[{\"automargin\":true,\"type\":\"pie\"}],\"scatter\":[{\"marker\":{\"colorbar\":{\"outlinewidth\":0,\"ticks\":\"\"}},\"type\":\"scatter\"}],\"scatter3d\":[{\"line\":{\"colorbar\":{\"outlinewidth\":0,\"ticks\":\"\"}},\"marker\":{\"colorbar\":{\"outlinewidth\":0,\"ticks\":\"\"}},\"type\":\"scatter3d\"}],\"scattercarpet\":[{\"marker\":{\"colorbar\":{\"outlinewidth\":0,\"ticks\":\"\"}},\"type\":\"scattercarpet\"}],\"scattergeo\":[{\"marker\":{\"colorbar\":{\"outlinewidth\":0,\"ticks\":\"\"}},\"type\":\"scattergeo\"}],\"scattergl\":[{\"marker\":{\"colorbar\":{\"outlinewidth\":0,\"ticks\":\"\"}},\"type\":\"scattergl\"}],\"scattermapbox\":[{\"marker\":{\"colorbar\":{\"outlinewidth\":0,\"ticks\":\"\"}},\"type\":\"scattermapbox\"}],\"scatterpolar\":[{\"marker\":{\"colorbar\":{\"outlinewidth\":0,\"ticks\":\"\"}},\"type\":\"scatterpolar\"}],\"scatterpolargl\":[{\"marker\":{\"colorbar\":{\"outlinewidth\":0,\"ticks\":\"\"}},\"type\":\"scatterpolargl\"}],\"scatterternary\":[{\"marker\":{\"colorbar\":{\"outlinewidth\":0,\"ticks\":\"\"}},\"type\":\"scatterternary\"}],\"surface\":[{\"colorbar\":{\"outlinewidth\":0,\"ticks\":\"\"},\"colorscale\":[[0.0,\"#0d0887\"],[0.1111111111111111,\"#46039f\"],[0.2222222222222222,\"#7201a8\"],[0.3333333333333333,\"#9c179e\"],[0.4444444444444444,\"#bd3786\"],[0.5555555555555556,\"#d8576b\"],[0.6666666666666666,\"#ed7953\"],[0.7777777777777778,\"#fb9f3a\"],[0.8888888888888888,\"#fdca26\"],[1.0,\"#f0f921\"]],\"type\":\"surface\"}],\"table\":[{\"cells\":{\"fill\":{\"color\":\"#EBF0F8\"},\"line\":{\"color\":\"white\"}},\"header\":{\"fill\":{\"color\":\"#C8D4E3\"},\"line\":{\"color\":\"white\"}},\"type\":\"table\"}]},\"layout\":{\"annotationdefaults\":{\"arrowcolor\":\"#2a3f5f\",\"arrowhead\":0,\"arrowwidth\":1},\"autotypenumbers\":\"strict\",\"coloraxis\":{\"colorbar\":{\"outlinewidth\":0,\"ticks\":\"\"}},\"colorscale\":{\"diverging\":[[0,\"#8e0152\"],[0.1,\"#c51b7d\"],[0.2,\"#de77ae\"],[0.3,\"#f1b6da\"],[0.4,\"#fde0ef\"],[0.5,\"#f7f7f7\"],[0.6,\"#e6f5d0\"],[0.7,\"#b8e186\"],[0.8,\"#7fbc41\"],[0.9,\"#4d9221\"],[1,\"#276419\"]],\"sequential\":[[0.0,\"#0d0887\"],[0.1111111111111111,\"#46039f\"],[0.2222222222222222,\"#7201a8\"],[0.3333333333333333,\"#9c179e\"],[0.4444444444444444,\"#bd3786\"],[0.5555555555555556,\"#d8576b\"],[0.6666666666666666,\"#ed7953\"],[0.7777777777777778,\"#fb9f3a\"],[0.8888888888888888,\"#fdca26\"],[1.0,\"#f0f921\"]],\"sequentialminus\":[[0.0,\"#0d0887\"],[0.1111111111111111,\"#46039f\"],[0.2222222222222222,\"#7201a8\"],[0.3333333333333333,\"#9c179e\"],[0.4444444444444444,\"#bd3786\"],[0.5555555555555556,\"#d8576b\"],[0.6666666666666666,\"#ed7953\"],[0.7777777777777778,\"#fb9f3a\"],[0.8888888888888888,\"#fdca26\"],[1.0,\"#f0f921\"]]},\"colorway\":[\"#636efa\",\"#EF553B\",\"#00cc96\",\"#ab63fa\",\"#FFA15A\",\"#19d3f3\",\"#FF6692\",\"#B6E880\",\"#FF97FF\",\"#FECB52\"],\"font\":{\"color\":\"#2a3f5f\"},\"geo\":{\"bgcolor\":\"white\",\"lakecolor\":\"white\",\"landcolor\":\"#E5ECF6\",\"showlakes\":true,\"showland\":true,\"subunitcolor\":\"white\"},\"hoverlabel\":{\"align\":\"left\"},\"hovermode\":\"closest\",\"mapbox\":{\"style\":\"light\"},\"paper_bgcolor\":\"white\",\"plot_bgcolor\":\"#E5ECF6\",\"polar\":{\"angularaxis\":{\"gridcolor\":\"white\",\"linecolor\":\"white\",\"ticks\":\"\"},\"bgcolor\":\"#E5ECF6\",\"radialaxis\":{\"gridcolor\":\"white\",\"linecolor\":\"white\",\"ticks\":\"\"}},\"scene\":{\"xaxis\":{\"backgroundcolor\":\"#E5ECF6\",\"gridcolor\":\"white\",\"gridwidth\":2,\"linecolor\":\"white\",\"showbackground\":true,\"ticks\":\"\",\"zerolinecolor\":\"white\"},\"yaxis\":{\"backgroundcolor\":\"#E5ECF6\",\"gridcolor\":\"white\",\"gridwidth\":2,\"linecolor\":\"white\",\"showbackground\":true,\"ticks\":\"\",\"zerolinecolor\":\"white\"},\"zaxis\":{\"backgroundcolor\":\"#E5ECF6\",\"gridcolor\":\"white\",\"gridwidth\":2,\"linecolor\":\"white\",\"showbackground\":true,\"ticks\":\"\",\"zerolinecolor\":\"white\"}},\"shapedefaults\":{\"line\":{\"color\":\"#2a3f5f\"}},\"ternary\":{\"aaxis\":{\"gridcolor\":\"white\",\"linecolor\":\"white\",\"ticks\":\"\"},\"baxis\":{\"gridcolor\":\"white\",\"linecolor\":\"white\",\"ticks\":\"\"},\"bgcolor\":\"#E5ECF6\",\"caxis\":{\"gridcolor\":\"white\",\"linecolor\":\"white\",\"ticks\":\"\"}},\"title\":{\"x\":0.05},\"xaxis\":{\"automargin\":true,\"gridcolor\":\"white\",\"linecolor\":\"white\",\"ticks\":\"\",\"title\":{\"standoff\":15},\"zerolinecolor\":\"white\",\"zerolinewidth\":2},\"yaxis\":{\"automargin\":true,\"gridcolor\":\"white\",\"linecolor\":\"white\",\"ticks\":\"\",\"title\":{\"standoff\":15},\"zerolinecolor\":\"white\",\"zerolinewidth\":2}}},\"xaxis\":{\"anchor\":\"y\",\"domain\":[0.0,0.45],\"title\":{\"text\":\"The Number of parameterized gate\"}},\"yaxis\":{\"anchor\":\"x\",\"domain\":[0.625,1.0],\"title\":{\"text\":\"Time (Sec)\"}},\"xaxis2\":{\"anchor\":\"y2\",\"domain\":[0.55,1.0]},\"yaxis2\":{\"anchor\":\"x2\",\"domain\":[0.625,1.0]},\"xaxis3\":{\"anchor\":\"y3\",\"domain\":[0.0,0.45]},\"yaxis3\":{\"anchor\":\"x3\",\"domain\":[0.0,0.375]},\"xaxis4\":{\"anchor\":\"y4\",\"domain\":[0.55,1.0]},\"yaxis4\":{\"anchor\":\"x4\",\"domain\":[0.0,0.375]},\"annotations\":[{\"font\":{\"size\":16},\"showarrow\":false,\"text\":\"Max-Cut\",\"x\":0.225,\"xanchor\":\"center\",\"xref\":\"paper\",\"y\":1.0,\"yanchor\":\"bottom\",\"yref\":\"paper\"},{\"font\":{\"size\":16},\"showarrow\":false,\"text\":\"Clique\",\"x\":0.775,\"xanchor\":\"center\",\"xref\":\"paper\",\"y\":1.0,\"yanchor\":\"bottom\",\"yref\":\"paper\"},{\"font\":{\"size\":16},\"showarrow\":false,\"text\":\"Binary Linear Programming\",\"x\":0.225,\"xanchor\":\"center\",\"xref\":\"paper\",\"y\":0.375,\"yanchor\":\"bottom\",\"yref\":\"paper\"},{\"font\":{\"size\":16},\"showarrow\":false,\"text\":\"Knapsack\",\"x\":0.775,\"xanchor\":\"center\",\"xref\":\"paper\",\"y\":0.375,\"yanchor\":\"bottom\",\"yref\":\"paper\"}],\"title\":{\"text\":\"Time Comparison  <br><sup>Fixed epochs (10 epochs).</sup>\"},\"autosize\":false,\"width\":1000,\"height\":700},                        {\"responsive\": true}                    ).then(function(){\n",
              "                            \n",
              "var gd = document.getElementById('0b423e29-07b0-49dd-9d42-1e3a4fd953c1');\n",
              "var x = new MutationObserver(function (mutations, observer) {{\n",
              "        var display = window.getComputedStyle(gd).display;\n",
              "        if (!display || display === 'none') {{\n",
              "            console.log([gd, 'removed!']);\n",
              "            Plotly.purge(gd);\n",
              "            observer.disconnect();\n",
              "        }}\n",
              "}});\n",
              "\n",
              "// Listen for the removal of the full notebook cells\n",
              "var notebookContainer = gd.closest('#notebook-container');\n",
              "if (notebookContainer) {{\n",
              "    x.observe(notebookContainer, {childList: true});\n",
              "}}\n",
              "\n",
              "// Listen for the clearing of the current output cell\n",
              "var outputEl = gd.closest('.output');\n",
              "if (outputEl) {{\n",
              "    x.observe(outputEl, {childList: true});\n",
              "}}\n",
              "\n",
              "                        })                };                            </script>        </div>\n",
              "</body>\n",
              "</html>"
            ]
          },
          "metadata": {}
        }
      ],
      "source": [
        "#@title Time Comparison\n",
        "#@markdown Fixed epochs (10 epochs).\n",
        "\n",
        "from plotly.subplots import make_subplots\n",
        "\n",
        "x = [step*3 for step in steps]\n",
        "row = 2\n",
        "col = 2\n",
        "fig = make_subplots(rows=row, cols=col, subplot_titles=(\"Max-Cut\",\"Clique\",\"Binary Linear Programming\", \"Knapsack\"))\n",
        "show = True\n",
        "for i in range(row):\n",
        "  for j in range(col):\n",
        "    problemn = i*col+j\n",
        "    if problemn>0:\n",
        "      show = False\n",
        "    dv_cv = pd.DataFrame({\"#Param Gates\":x, \"Time\":cvpstc[problemn]})\n",
        "    dv_fd_cv = pd.DataFrame({\"#Param Gates\":x, \"Time\":cvfdtc[problemn]})\n",
        "\n",
        "    fig.add_trace(go.Scatter(x=dv_cv[\"#Param Gates\"], y=dv_cv[\"Time\"], name=\"Continuous Parameter Shift\", line = dict(width=2), line_color='red', showlegend = show), row=i+1, col=j+1)\n",
        "    fig.add_trace(go.Scatter(x=dv_fd_cv[\"#Param Gates\"], y=dv_fd_cv[\"Time\"], mode=\"lines\", name=\"Continuous Finite Difference\", line = dict(width=2), line_color='green', showlegend = show), row=i+1, col=j+1)\n",
        "\n",
        "fig.update_layout(title=\"Time Comparison  <br><sup>Fixed epochs (10 epochs).</sup>\",\n",
        "                  xaxis_title=\"The Number of parameterized gate\",\n",
        "                  yaxis_title=\"Time (Sec)\", autosize=False,\n",
        "                  width=1000,\n",
        "                  height=700)\n",
        "plotly.offline.plot(fig, filename='time_fixepoch_cv.html')\n",
        "fig.show()"
      ]
    },
    {
      "cell_type": "code",
      "source": [
        "with open('analytic_pstc_cv.pk', 'wb') as fp:\n",
        "    pickle.dump(cvpstc, fp)\n",
        "with open('analytic_fdtc_cv.pk', 'wb') as fp:\n",
        "    pickle.dump(cvfdtc, fp)"
      ],
      "metadata": {
        "id": "7gU_v0V7kSMA"
      },
      "execution_count": 66,
      "outputs": []
    },
    {
      "cell_type": "code",
      "execution_count": 68,
      "metadata": {
        "cellView": "form",
        "id": "jNpZ5_r9uG5r",
        "colab": {
          "base_uri": "https://localhost:8080/",
          "height": 983
        },
        "outputId": "ad8956bf-dceb-4e34-89e0-3f3047f8fb02"
      },
      "outputs": [
        {
          "output_type": "stream",
          "name": "stdout",
          "text": [
            "\u001b[1mMax-Cut\u001b[0m\n"
          ]
        },
        {
          "output_type": "display_data",
          "data": {
            "text/plain": [
              "                             #Param Gates 6              #Param Gates 12  \\\n",
              "                                       Loss Time(second)            Loss   \n",
              "Continuous Parameter Shift        -2.20e+00        15.49       -2.48e+00   \n",
              "Continuous Finite Difference      -2.13e+00        15.59       -2.47e+00   \n",
              "\n",
              "                                          #Param Gates 18               \\\n",
              "                             Time(second)            Loss Time(second)   \n",
              "Continuous Parameter Shift          41.49       -2.77e+00        76.92   \n",
              "Continuous Finite Difference        41.30       -2.74e+00        76.94   \n",
              "\n",
              "                             #Param Gates 24              #Param Gates 30  \\\n",
              "                                        Loss Time(second)            Loss   \n",
              "Continuous Parameter Shift         -2.64e+00       122.49       -2.55e+00   \n",
              "Continuous Finite Difference       -2.66e+00       121.49       -2.64e+00   \n",
              "\n",
              "                                           \n",
              "                             Time(second)  \n",
              "Continuous Parameter Shift         178.85  \n",
              "Continuous Finite Difference       177.42  "
            ],
            "text/html": [
              "\n",
              "  <div id=\"df-c9b57735-bfb1-428a-985d-abd1e99e7c4e\">\n",
              "    <div class=\"colab-df-container\">\n",
              "      <div>\n",
              "<style scoped>\n",
              "    .dataframe tbody tr th:only-of-type {\n",
              "        vertical-align: middle;\n",
              "    }\n",
              "\n",
              "    .dataframe tbody tr th {\n",
              "        vertical-align: top;\n",
              "    }\n",
              "\n",
              "    .dataframe thead tr th {\n",
              "        text-align: left;\n",
              "    }\n",
              "</style>\n",
              "<table border=\"1\" class=\"dataframe\">\n",
              "  <thead>\n",
              "    <tr>\n",
              "      <th></th>\n",
              "      <th colspan=\"2\" halign=\"left\">#Param Gates 6</th>\n",
              "      <th colspan=\"2\" halign=\"left\">#Param Gates 12</th>\n",
              "      <th colspan=\"2\" halign=\"left\">#Param Gates 18</th>\n",
              "      <th colspan=\"2\" halign=\"left\">#Param Gates 24</th>\n",
              "      <th colspan=\"2\" halign=\"left\">#Param Gates 30</th>\n",
              "    </tr>\n",
              "    <tr>\n",
              "      <th></th>\n",
              "      <th>Loss</th>\n",
              "      <th>Time(second)</th>\n",
              "      <th>Loss</th>\n",
              "      <th>Time(second)</th>\n",
              "      <th>Loss</th>\n",
              "      <th>Time(second)</th>\n",
              "      <th>Loss</th>\n",
              "      <th>Time(second)</th>\n",
              "      <th>Loss</th>\n",
              "      <th>Time(second)</th>\n",
              "    </tr>\n",
              "  </thead>\n",
              "  <tbody>\n",
              "    <tr>\n",
              "      <th>Continuous Parameter Shift</th>\n",
              "      <td>-2.20e+00</td>\n",
              "      <td>15.49</td>\n",
              "      <td>-2.48e+00</td>\n",
              "      <td>41.49</td>\n",
              "      <td>-2.77e+00</td>\n",
              "      <td>76.92</td>\n",
              "      <td>-2.64e+00</td>\n",
              "      <td>122.49</td>\n",
              "      <td>-2.55e+00</td>\n",
              "      <td>178.85</td>\n",
              "    </tr>\n",
              "    <tr>\n",
              "      <th>Continuous Finite Difference</th>\n",
              "      <td>-2.13e+00</td>\n",
              "      <td>15.59</td>\n",
              "      <td>-2.47e+00</td>\n",
              "      <td>41.30</td>\n",
              "      <td>-2.74e+00</td>\n",
              "      <td>76.94</td>\n",
              "      <td>-2.66e+00</td>\n",
              "      <td>121.49</td>\n",
              "      <td>-2.64e+00</td>\n",
              "      <td>177.42</td>\n",
              "    </tr>\n",
              "  </tbody>\n",
              "</table>\n",
              "</div>\n",
              "      <button class=\"colab-df-convert\" onclick=\"convertToInteractive('df-c9b57735-bfb1-428a-985d-abd1e99e7c4e')\"\n",
              "              title=\"Convert this dataframe to an interactive table.\"\n",
              "              style=\"display:none;\">\n",
              "        \n",
              "  <svg xmlns=\"http://www.w3.org/2000/svg\" height=\"24px\"viewBox=\"0 0 24 24\"\n",
              "       width=\"24px\">\n",
              "    <path d=\"M0 0h24v24H0V0z\" fill=\"none\"/>\n",
              "    <path d=\"M18.56 5.44l.94 2.06.94-2.06 2.06-.94-2.06-.94-.94-2.06-.94 2.06-2.06.94zm-11 1L8.5 8.5l.94-2.06 2.06-.94-2.06-.94L8.5 2.5l-.94 2.06-2.06.94zm10 10l.94 2.06.94-2.06 2.06-.94-2.06-.94-.94-2.06-.94 2.06-2.06.94z\"/><path d=\"M17.41 7.96l-1.37-1.37c-.4-.4-.92-.59-1.43-.59-.52 0-1.04.2-1.43.59L10.3 9.45l-7.72 7.72c-.78.78-.78 2.05 0 2.83L4 21.41c.39.39.9.59 1.41.59.51 0 1.02-.2 1.41-.59l7.78-7.78 2.81-2.81c.8-.78.8-2.07 0-2.86zM5.41 20L4 18.59l7.72-7.72 1.47 1.35L5.41 20z\"/>\n",
              "  </svg>\n",
              "      </button>\n",
              "      \n",
              "  <style>\n",
              "    .colab-df-container {\n",
              "      display:flex;\n",
              "      flex-wrap:wrap;\n",
              "      gap: 12px;\n",
              "    }\n",
              "\n",
              "    .colab-df-convert {\n",
              "      background-color: #E8F0FE;\n",
              "      border: none;\n",
              "      border-radius: 50%;\n",
              "      cursor: pointer;\n",
              "      display: none;\n",
              "      fill: #1967D2;\n",
              "      height: 32px;\n",
              "      padding: 0 0 0 0;\n",
              "      width: 32px;\n",
              "    }\n",
              "\n",
              "    .colab-df-convert:hover {\n",
              "      background-color: #E2EBFA;\n",
              "      box-shadow: 0px 1px 2px rgba(60, 64, 67, 0.3), 0px 1px 3px 1px rgba(60, 64, 67, 0.15);\n",
              "      fill: #174EA6;\n",
              "    }\n",
              "\n",
              "    [theme=dark] .colab-df-convert {\n",
              "      background-color: #3B4455;\n",
              "      fill: #D2E3FC;\n",
              "    }\n",
              "\n",
              "    [theme=dark] .colab-df-convert:hover {\n",
              "      background-color: #434B5C;\n",
              "      box-shadow: 0px 1px 3px 1px rgba(0, 0, 0, 0.15);\n",
              "      filter: drop-shadow(0px 1px 2px rgba(0, 0, 0, 0.3));\n",
              "      fill: #FFFFFF;\n",
              "    }\n",
              "  </style>\n",
              "\n",
              "      <script>\n",
              "        const buttonEl =\n",
              "          document.querySelector('#df-c9b57735-bfb1-428a-985d-abd1e99e7c4e button.colab-df-convert');\n",
              "        buttonEl.style.display =\n",
              "          google.colab.kernel.accessAllowed ? 'block' : 'none';\n",
              "\n",
              "        async function convertToInteractive(key) {\n",
              "          const element = document.querySelector('#df-c9b57735-bfb1-428a-985d-abd1e99e7c4e');\n",
              "          const dataTable =\n",
              "            await google.colab.kernel.invokeFunction('convertToInteractive',\n",
              "                                                     [key], {});\n",
              "          if (!dataTable) return;\n",
              "\n",
              "          const docLinkHtml = 'Like what you see? Visit the ' +\n",
              "            '<a target=\"_blank\" href=https://colab.research.google.com/notebooks/data_table.ipynb>data table notebook</a>'\n",
              "            + ' to learn more about interactive tables.';\n",
              "          element.innerHTML = '';\n",
              "          dataTable['output_type'] = 'display_data';\n",
              "          await google.colab.output.renderOutput(dataTable, element);\n",
              "          const docLink = document.createElement('div');\n",
              "          docLink.innerHTML = docLinkHtml;\n",
              "          element.appendChild(docLink);\n",
              "        }\n",
              "      </script>\n",
              "    </div>\n",
              "  </div>\n",
              "  "
            ]
          },
          "metadata": {}
        },
        {
          "output_type": "stream",
          "name": "stdout",
          "text": [
            "\n",
            "\n",
            "\n",
            "\n",
            "\u001b[1mClique\u001b[0m\n"
          ]
        },
        {
          "output_type": "display_data",
          "data": {
            "text/plain": [
              "                             #Param Gates 6              #Param Gates 12  \\\n",
              "                                       Loss Time(second)            Loss   \n",
              "Continuous Parameter Shift        -1.53e+00        15.85       -1.80e+00   \n",
              "Continuous Finite Difference      -1.46e+00        15.41       -1.80e+00   \n",
              "\n",
              "                                          #Param Gates 18               \\\n",
              "                             Time(second)            Loss Time(second)   \n",
              "Continuous Parameter Shift          41.55       -1.83e+00        91.59   \n",
              "Continuous Finite Difference        41.25       -1.91e+00        76.94   \n",
              "\n",
              "                             #Param Gates 24              #Param Gates 30  \\\n",
              "                                        Loss Time(second)            Loss   \n",
              "Continuous Parameter Shift         -1.65e+00       156.91       -1.85e+00   \n",
              "Continuous Finite Difference       -1.71e+00       121.92       -1.73e+00   \n",
              "\n",
              "                                           \n",
              "                             Time(second)  \n",
              "Continuous Parameter Shift         276.68  \n",
              "Continuous Finite Difference       177.00  "
            ],
            "text/html": [
              "\n",
              "  <div id=\"df-57664bc6-6e40-47ab-b784-b592ce25abff\">\n",
              "    <div class=\"colab-df-container\">\n",
              "      <div>\n",
              "<style scoped>\n",
              "    .dataframe tbody tr th:only-of-type {\n",
              "        vertical-align: middle;\n",
              "    }\n",
              "\n",
              "    .dataframe tbody tr th {\n",
              "        vertical-align: top;\n",
              "    }\n",
              "\n",
              "    .dataframe thead tr th {\n",
              "        text-align: left;\n",
              "    }\n",
              "</style>\n",
              "<table border=\"1\" class=\"dataframe\">\n",
              "  <thead>\n",
              "    <tr>\n",
              "      <th></th>\n",
              "      <th colspan=\"2\" halign=\"left\">#Param Gates 6</th>\n",
              "      <th colspan=\"2\" halign=\"left\">#Param Gates 12</th>\n",
              "      <th colspan=\"2\" halign=\"left\">#Param Gates 18</th>\n",
              "      <th colspan=\"2\" halign=\"left\">#Param Gates 24</th>\n",
              "      <th colspan=\"2\" halign=\"left\">#Param Gates 30</th>\n",
              "    </tr>\n",
              "    <tr>\n",
              "      <th></th>\n",
              "      <th>Loss</th>\n",
              "      <th>Time(second)</th>\n",
              "      <th>Loss</th>\n",
              "      <th>Time(second)</th>\n",
              "      <th>Loss</th>\n",
              "      <th>Time(second)</th>\n",
              "      <th>Loss</th>\n",
              "      <th>Time(second)</th>\n",
              "      <th>Loss</th>\n",
              "      <th>Time(second)</th>\n",
              "    </tr>\n",
              "  </thead>\n",
              "  <tbody>\n",
              "    <tr>\n",
              "      <th>Continuous Parameter Shift</th>\n",
              "      <td>-1.53e+00</td>\n",
              "      <td>15.85</td>\n",
              "      <td>-1.80e+00</td>\n",
              "      <td>41.55</td>\n",
              "      <td>-1.83e+00</td>\n",
              "      <td>91.59</td>\n",
              "      <td>-1.65e+00</td>\n",
              "      <td>156.91</td>\n",
              "      <td>-1.85e+00</td>\n",
              "      <td>276.68</td>\n",
              "    </tr>\n",
              "    <tr>\n",
              "      <th>Continuous Finite Difference</th>\n",
              "      <td>-1.46e+00</td>\n",
              "      <td>15.41</td>\n",
              "      <td>-1.80e+00</td>\n",
              "      <td>41.25</td>\n",
              "      <td>-1.91e+00</td>\n",
              "      <td>76.94</td>\n",
              "      <td>-1.71e+00</td>\n",
              "      <td>121.92</td>\n",
              "      <td>-1.73e+00</td>\n",
              "      <td>177.00</td>\n",
              "    </tr>\n",
              "  </tbody>\n",
              "</table>\n",
              "</div>\n",
              "      <button class=\"colab-df-convert\" onclick=\"convertToInteractive('df-57664bc6-6e40-47ab-b784-b592ce25abff')\"\n",
              "              title=\"Convert this dataframe to an interactive table.\"\n",
              "              style=\"display:none;\">\n",
              "        \n",
              "  <svg xmlns=\"http://www.w3.org/2000/svg\" height=\"24px\"viewBox=\"0 0 24 24\"\n",
              "       width=\"24px\">\n",
              "    <path d=\"M0 0h24v24H0V0z\" fill=\"none\"/>\n",
              "    <path d=\"M18.56 5.44l.94 2.06.94-2.06 2.06-.94-2.06-.94-.94-2.06-.94 2.06-2.06.94zm-11 1L8.5 8.5l.94-2.06 2.06-.94-2.06-.94L8.5 2.5l-.94 2.06-2.06.94zm10 10l.94 2.06.94-2.06 2.06-.94-2.06-.94-.94-2.06-.94 2.06-2.06.94z\"/><path d=\"M17.41 7.96l-1.37-1.37c-.4-.4-.92-.59-1.43-.59-.52 0-1.04.2-1.43.59L10.3 9.45l-7.72 7.72c-.78.78-.78 2.05 0 2.83L4 21.41c.39.39.9.59 1.41.59.51 0 1.02-.2 1.41-.59l7.78-7.78 2.81-2.81c.8-.78.8-2.07 0-2.86zM5.41 20L4 18.59l7.72-7.72 1.47 1.35L5.41 20z\"/>\n",
              "  </svg>\n",
              "      </button>\n",
              "      \n",
              "  <style>\n",
              "    .colab-df-container {\n",
              "      display:flex;\n",
              "      flex-wrap:wrap;\n",
              "      gap: 12px;\n",
              "    }\n",
              "\n",
              "    .colab-df-convert {\n",
              "      background-color: #E8F0FE;\n",
              "      border: none;\n",
              "      border-radius: 50%;\n",
              "      cursor: pointer;\n",
              "      display: none;\n",
              "      fill: #1967D2;\n",
              "      height: 32px;\n",
              "      padding: 0 0 0 0;\n",
              "      width: 32px;\n",
              "    }\n",
              "\n",
              "    .colab-df-convert:hover {\n",
              "      background-color: #E2EBFA;\n",
              "      box-shadow: 0px 1px 2px rgba(60, 64, 67, 0.3), 0px 1px 3px 1px rgba(60, 64, 67, 0.15);\n",
              "      fill: #174EA6;\n",
              "    }\n",
              "\n",
              "    [theme=dark] .colab-df-convert {\n",
              "      background-color: #3B4455;\n",
              "      fill: #D2E3FC;\n",
              "    }\n",
              "\n",
              "    [theme=dark] .colab-df-convert:hover {\n",
              "      background-color: #434B5C;\n",
              "      box-shadow: 0px 1px 3px 1px rgba(0, 0, 0, 0.15);\n",
              "      filter: drop-shadow(0px 1px 2px rgba(0, 0, 0, 0.3));\n",
              "      fill: #FFFFFF;\n",
              "    }\n",
              "  </style>\n",
              "\n",
              "      <script>\n",
              "        const buttonEl =\n",
              "          document.querySelector('#df-57664bc6-6e40-47ab-b784-b592ce25abff button.colab-df-convert');\n",
              "        buttonEl.style.display =\n",
              "          google.colab.kernel.accessAllowed ? 'block' : 'none';\n",
              "\n",
              "        async function convertToInteractive(key) {\n",
              "          const element = document.querySelector('#df-57664bc6-6e40-47ab-b784-b592ce25abff');\n",
              "          const dataTable =\n",
              "            await google.colab.kernel.invokeFunction('convertToInteractive',\n",
              "                                                     [key], {});\n",
              "          if (!dataTable) return;\n",
              "\n",
              "          const docLinkHtml = 'Like what you see? Visit the ' +\n",
              "            '<a target=\"_blank\" href=https://colab.research.google.com/notebooks/data_table.ipynb>data table notebook</a>'\n",
              "            + ' to learn more about interactive tables.';\n",
              "          element.innerHTML = '';\n",
              "          dataTable['output_type'] = 'display_data';\n",
              "          await google.colab.output.renderOutput(dataTable, element);\n",
              "          const docLink = document.createElement('div');\n",
              "          docLink.innerHTML = docLinkHtml;\n",
              "          element.appendChild(docLink);\n",
              "        }\n",
              "      </script>\n",
              "    </div>\n",
              "  </div>\n",
              "  "
            ]
          },
          "metadata": {}
        },
        {
          "output_type": "stream",
          "name": "stdout",
          "text": [
            "\n",
            "\n",
            "\n",
            "\n",
            "\u001b[1mBinary Linear Programming\u001b[0m\n"
          ]
        },
        {
          "output_type": "display_data",
          "data": {
            "text/plain": [
              "                             #Param Gates 6              #Param Gates 12  \\\n",
              "                                       Loss Time(second)            Loss   \n",
              "Continuous Parameter Shift         5.93e+05        15.86        5.24e+05   \n",
              "Continuous Finite Difference       5.85e+05        15.68        5.24e+05   \n",
              "\n",
              "                                          #Param Gates 18               \\\n",
              "                             Time(second)            Loss Time(second)   \n",
              "Continuous Parameter Shift          42.02        5.11e+05        78.71   \n",
              "Continuous Finite Difference        41.81        5.07e+05        77.04   \n",
              "\n",
              "                             #Param Gates 24              #Param Gates 30  \\\n",
              "                                        Loss Time(second)            Loss   \n",
              "Continuous Parameter Shift          5.35e+05       124.66        5.22e+05   \n",
              "Continuous Finite Difference        5.22e+05       122.21        4.77e+05   \n",
              "\n",
              "                                           \n",
              "                             Time(second)  \n",
              "Continuous Parameter Shift         181.95  \n",
              "Continuous Finite Difference       176.74  "
            ],
            "text/html": [
              "\n",
              "  <div id=\"df-582a3129-3cd1-44f1-9193-5566e1f867ca\">\n",
              "    <div class=\"colab-df-container\">\n",
              "      <div>\n",
              "<style scoped>\n",
              "    .dataframe tbody tr th:only-of-type {\n",
              "        vertical-align: middle;\n",
              "    }\n",
              "\n",
              "    .dataframe tbody tr th {\n",
              "        vertical-align: top;\n",
              "    }\n",
              "\n",
              "    .dataframe thead tr th {\n",
              "        text-align: left;\n",
              "    }\n",
              "</style>\n",
              "<table border=\"1\" class=\"dataframe\">\n",
              "  <thead>\n",
              "    <tr>\n",
              "      <th></th>\n",
              "      <th colspan=\"2\" halign=\"left\">#Param Gates 6</th>\n",
              "      <th colspan=\"2\" halign=\"left\">#Param Gates 12</th>\n",
              "      <th colspan=\"2\" halign=\"left\">#Param Gates 18</th>\n",
              "      <th colspan=\"2\" halign=\"left\">#Param Gates 24</th>\n",
              "      <th colspan=\"2\" halign=\"left\">#Param Gates 30</th>\n",
              "    </tr>\n",
              "    <tr>\n",
              "      <th></th>\n",
              "      <th>Loss</th>\n",
              "      <th>Time(second)</th>\n",
              "      <th>Loss</th>\n",
              "      <th>Time(second)</th>\n",
              "      <th>Loss</th>\n",
              "      <th>Time(second)</th>\n",
              "      <th>Loss</th>\n",
              "      <th>Time(second)</th>\n",
              "      <th>Loss</th>\n",
              "      <th>Time(second)</th>\n",
              "    </tr>\n",
              "  </thead>\n",
              "  <tbody>\n",
              "    <tr>\n",
              "      <th>Continuous Parameter Shift</th>\n",
              "      <td>5.93e+05</td>\n",
              "      <td>15.86</td>\n",
              "      <td>5.24e+05</td>\n",
              "      <td>42.02</td>\n",
              "      <td>5.11e+05</td>\n",
              "      <td>78.71</td>\n",
              "      <td>5.35e+05</td>\n",
              "      <td>124.66</td>\n",
              "      <td>5.22e+05</td>\n",
              "      <td>181.95</td>\n",
              "    </tr>\n",
              "    <tr>\n",
              "      <th>Continuous Finite Difference</th>\n",
              "      <td>5.85e+05</td>\n",
              "      <td>15.68</td>\n",
              "      <td>5.24e+05</td>\n",
              "      <td>41.81</td>\n",
              "      <td>5.07e+05</td>\n",
              "      <td>77.04</td>\n",
              "      <td>5.22e+05</td>\n",
              "      <td>122.21</td>\n",
              "      <td>4.77e+05</td>\n",
              "      <td>176.74</td>\n",
              "    </tr>\n",
              "  </tbody>\n",
              "</table>\n",
              "</div>\n",
              "      <button class=\"colab-df-convert\" onclick=\"convertToInteractive('df-582a3129-3cd1-44f1-9193-5566e1f867ca')\"\n",
              "              title=\"Convert this dataframe to an interactive table.\"\n",
              "              style=\"display:none;\">\n",
              "        \n",
              "  <svg xmlns=\"http://www.w3.org/2000/svg\" height=\"24px\"viewBox=\"0 0 24 24\"\n",
              "       width=\"24px\">\n",
              "    <path d=\"M0 0h24v24H0V0z\" fill=\"none\"/>\n",
              "    <path d=\"M18.56 5.44l.94 2.06.94-2.06 2.06-.94-2.06-.94-.94-2.06-.94 2.06-2.06.94zm-11 1L8.5 8.5l.94-2.06 2.06-.94-2.06-.94L8.5 2.5l-.94 2.06-2.06.94zm10 10l.94 2.06.94-2.06 2.06-.94-2.06-.94-.94-2.06-.94 2.06-2.06.94z\"/><path d=\"M17.41 7.96l-1.37-1.37c-.4-.4-.92-.59-1.43-.59-.52 0-1.04.2-1.43.59L10.3 9.45l-7.72 7.72c-.78.78-.78 2.05 0 2.83L4 21.41c.39.39.9.59 1.41.59.51 0 1.02-.2 1.41-.59l7.78-7.78 2.81-2.81c.8-.78.8-2.07 0-2.86zM5.41 20L4 18.59l7.72-7.72 1.47 1.35L5.41 20z\"/>\n",
              "  </svg>\n",
              "      </button>\n",
              "      \n",
              "  <style>\n",
              "    .colab-df-container {\n",
              "      display:flex;\n",
              "      flex-wrap:wrap;\n",
              "      gap: 12px;\n",
              "    }\n",
              "\n",
              "    .colab-df-convert {\n",
              "      background-color: #E8F0FE;\n",
              "      border: none;\n",
              "      border-radius: 50%;\n",
              "      cursor: pointer;\n",
              "      display: none;\n",
              "      fill: #1967D2;\n",
              "      height: 32px;\n",
              "      padding: 0 0 0 0;\n",
              "      width: 32px;\n",
              "    }\n",
              "\n",
              "    .colab-df-convert:hover {\n",
              "      background-color: #E2EBFA;\n",
              "      box-shadow: 0px 1px 2px rgba(60, 64, 67, 0.3), 0px 1px 3px 1px rgba(60, 64, 67, 0.15);\n",
              "      fill: #174EA6;\n",
              "    }\n",
              "\n",
              "    [theme=dark] .colab-df-convert {\n",
              "      background-color: #3B4455;\n",
              "      fill: #D2E3FC;\n",
              "    }\n",
              "\n",
              "    [theme=dark] .colab-df-convert:hover {\n",
              "      background-color: #434B5C;\n",
              "      box-shadow: 0px 1px 3px 1px rgba(0, 0, 0, 0.15);\n",
              "      filter: drop-shadow(0px 1px 2px rgba(0, 0, 0, 0.3));\n",
              "      fill: #FFFFFF;\n",
              "    }\n",
              "  </style>\n",
              "\n",
              "      <script>\n",
              "        const buttonEl =\n",
              "          document.querySelector('#df-582a3129-3cd1-44f1-9193-5566e1f867ca button.colab-df-convert');\n",
              "        buttonEl.style.display =\n",
              "          google.colab.kernel.accessAllowed ? 'block' : 'none';\n",
              "\n",
              "        async function convertToInteractive(key) {\n",
              "          const element = document.querySelector('#df-582a3129-3cd1-44f1-9193-5566e1f867ca');\n",
              "          const dataTable =\n",
              "            await google.colab.kernel.invokeFunction('convertToInteractive',\n",
              "                                                     [key], {});\n",
              "          if (!dataTable) return;\n",
              "\n",
              "          const docLinkHtml = 'Like what you see? Visit the ' +\n",
              "            '<a target=\"_blank\" href=https://colab.research.google.com/notebooks/data_table.ipynb>data table notebook</a>'\n",
              "            + ' to learn more about interactive tables.';\n",
              "          element.innerHTML = '';\n",
              "          dataTable['output_type'] = 'display_data';\n",
              "          await google.colab.output.renderOutput(dataTable, element);\n",
              "          const docLink = document.createElement('div');\n",
              "          docLink.innerHTML = docLinkHtml;\n",
              "          element.appendChild(docLink);\n",
              "        }\n",
              "      </script>\n",
              "    </div>\n",
              "  </div>\n",
              "  "
            ]
          },
          "metadata": {}
        },
        {
          "output_type": "stream",
          "name": "stdout",
          "text": [
            "\n",
            "\n",
            "\n",
            "\n",
            "\u001b[1mKnapsack\u001b[0m\n"
          ]
        },
        {
          "output_type": "display_data",
          "data": {
            "text/plain": [
              "                             #Param Gates 6              #Param Gates 12  \\\n",
              "                                       Loss Time(second)            Loss   \n",
              "Continuous Parameter Shift         2.91e+00        15.99       -9.60e-01   \n",
              "Continuous Finite Difference       3.42e+00        15.58       -1.20e+00   \n",
              "\n",
              "                                          #Param Gates 18               \\\n",
              "                             Time(second)            Loss Time(second)   \n",
              "Continuous Parameter Shift          42.36       -1.14e+00        76.97   \n",
              "Continuous Finite Difference        41.35       -1.41e+00        76.50   \n",
              "\n",
              "                             #Param Gates 24              #Param Gates 30  \\\n",
              "                                        Loss Time(second)            Loss   \n",
              "Continuous Parameter Shift         -4.33e-01       123.57       -7.92e-01   \n",
              "Continuous Finite Difference       -8.12e-01       121.93       -7.10e-01   \n",
              "\n",
              "                                           \n",
              "                             Time(second)  \n",
              "Continuous Parameter Shift         178.09  \n",
              "Continuous Finite Difference       177.17  "
            ],
            "text/html": [
              "\n",
              "  <div id=\"df-8bcc6a59-e600-4356-9523-9ec8b579f4ee\">\n",
              "    <div class=\"colab-df-container\">\n",
              "      <div>\n",
              "<style scoped>\n",
              "    .dataframe tbody tr th:only-of-type {\n",
              "        vertical-align: middle;\n",
              "    }\n",
              "\n",
              "    .dataframe tbody tr th {\n",
              "        vertical-align: top;\n",
              "    }\n",
              "\n",
              "    .dataframe thead tr th {\n",
              "        text-align: left;\n",
              "    }\n",
              "</style>\n",
              "<table border=\"1\" class=\"dataframe\">\n",
              "  <thead>\n",
              "    <tr>\n",
              "      <th></th>\n",
              "      <th colspan=\"2\" halign=\"left\">#Param Gates 6</th>\n",
              "      <th colspan=\"2\" halign=\"left\">#Param Gates 12</th>\n",
              "      <th colspan=\"2\" halign=\"left\">#Param Gates 18</th>\n",
              "      <th colspan=\"2\" halign=\"left\">#Param Gates 24</th>\n",
              "      <th colspan=\"2\" halign=\"left\">#Param Gates 30</th>\n",
              "    </tr>\n",
              "    <tr>\n",
              "      <th></th>\n",
              "      <th>Loss</th>\n",
              "      <th>Time(second)</th>\n",
              "      <th>Loss</th>\n",
              "      <th>Time(second)</th>\n",
              "      <th>Loss</th>\n",
              "      <th>Time(second)</th>\n",
              "      <th>Loss</th>\n",
              "      <th>Time(second)</th>\n",
              "      <th>Loss</th>\n",
              "      <th>Time(second)</th>\n",
              "    </tr>\n",
              "  </thead>\n",
              "  <tbody>\n",
              "    <tr>\n",
              "      <th>Continuous Parameter Shift</th>\n",
              "      <td>2.91e+00</td>\n",
              "      <td>15.99</td>\n",
              "      <td>-9.60e-01</td>\n",
              "      <td>42.36</td>\n",
              "      <td>-1.14e+00</td>\n",
              "      <td>76.97</td>\n",
              "      <td>-4.33e-01</td>\n",
              "      <td>123.57</td>\n",
              "      <td>-7.92e-01</td>\n",
              "      <td>178.09</td>\n",
              "    </tr>\n",
              "    <tr>\n",
              "      <th>Continuous Finite Difference</th>\n",
              "      <td>3.42e+00</td>\n",
              "      <td>15.58</td>\n",
              "      <td>-1.20e+00</td>\n",
              "      <td>41.35</td>\n",
              "      <td>-1.41e+00</td>\n",
              "      <td>76.50</td>\n",
              "      <td>-8.12e-01</td>\n",
              "      <td>121.93</td>\n",
              "      <td>-7.10e-01</td>\n",
              "      <td>177.17</td>\n",
              "    </tr>\n",
              "  </tbody>\n",
              "</table>\n",
              "</div>\n",
              "      <button class=\"colab-df-convert\" onclick=\"convertToInteractive('df-8bcc6a59-e600-4356-9523-9ec8b579f4ee')\"\n",
              "              title=\"Convert this dataframe to an interactive table.\"\n",
              "              style=\"display:none;\">\n",
              "        \n",
              "  <svg xmlns=\"http://www.w3.org/2000/svg\" height=\"24px\"viewBox=\"0 0 24 24\"\n",
              "       width=\"24px\">\n",
              "    <path d=\"M0 0h24v24H0V0z\" fill=\"none\"/>\n",
              "    <path d=\"M18.56 5.44l.94 2.06.94-2.06 2.06-.94-2.06-.94-.94-2.06-.94 2.06-2.06.94zm-11 1L8.5 8.5l.94-2.06 2.06-.94-2.06-.94L8.5 2.5l-.94 2.06-2.06.94zm10 10l.94 2.06.94-2.06 2.06-.94-2.06-.94-.94-2.06-.94 2.06-2.06.94z\"/><path d=\"M17.41 7.96l-1.37-1.37c-.4-.4-.92-.59-1.43-.59-.52 0-1.04.2-1.43.59L10.3 9.45l-7.72 7.72c-.78.78-.78 2.05 0 2.83L4 21.41c.39.39.9.59 1.41.59.51 0 1.02-.2 1.41-.59l7.78-7.78 2.81-2.81c.8-.78.8-2.07 0-2.86zM5.41 20L4 18.59l7.72-7.72 1.47 1.35L5.41 20z\"/>\n",
              "  </svg>\n",
              "      </button>\n",
              "      \n",
              "  <style>\n",
              "    .colab-df-container {\n",
              "      display:flex;\n",
              "      flex-wrap:wrap;\n",
              "      gap: 12px;\n",
              "    }\n",
              "\n",
              "    .colab-df-convert {\n",
              "      background-color: #E8F0FE;\n",
              "      border: none;\n",
              "      border-radius: 50%;\n",
              "      cursor: pointer;\n",
              "      display: none;\n",
              "      fill: #1967D2;\n",
              "      height: 32px;\n",
              "      padding: 0 0 0 0;\n",
              "      width: 32px;\n",
              "    }\n",
              "\n",
              "    .colab-df-convert:hover {\n",
              "      background-color: #E2EBFA;\n",
              "      box-shadow: 0px 1px 2px rgba(60, 64, 67, 0.3), 0px 1px 3px 1px rgba(60, 64, 67, 0.15);\n",
              "      fill: #174EA6;\n",
              "    }\n",
              "\n",
              "    [theme=dark] .colab-df-convert {\n",
              "      background-color: #3B4455;\n",
              "      fill: #D2E3FC;\n",
              "    }\n",
              "\n",
              "    [theme=dark] .colab-df-convert:hover {\n",
              "      background-color: #434B5C;\n",
              "      box-shadow: 0px 1px 3px 1px rgba(0, 0, 0, 0.15);\n",
              "      filter: drop-shadow(0px 1px 2px rgba(0, 0, 0, 0.3));\n",
              "      fill: #FFFFFF;\n",
              "    }\n",
              "  </style>\n",
              "\n",
              "      <script>\n",
              "        const buttonEl =\n",
              "          document.querySelector('#df-8bcc6a59-e600-4356-9523-9ec8b579f4ee button.colab-df-convert');\n",
              "        buttonEl.style.display =\n",
              "          google.colab.kernel.accessAllowed ? 'block' : 'none';\n",
              "\n",
              "        async function convertToInteractive(key) {\n",
              "          const element = document.querySelector('#df-8bcc6a59-e600-4356-9523-9ec8b579f4ee');\n",
              "          const dataTable =\n",
              "            await google.colab.kernel.invokeFunction('convertToInteractive',\n",
              "                                                     [key], {});\n",
              "          if (!dataTable) return;\n",
              "\n",
              "          const docLinkHtml = 'Like what you see? Visit the ' +\n",
              "            '<a target=\"_blank\" href=https://colab.research.google.com/notebooks/data_table.ipynb>data table notebook</a>'\n",
              "            + ' to learn more about interactive tables.';\n",
              "          element.innerHTML = '';\n",
              "          dataTable['output_type'] = 'display_data';\n",
              "          await google.colab.output.renderOutput(dataTable, element);\n",
              "          const docLink = document.createElement('div');\n",
              "          docLink.innerHTML = docLinkHtml;\n",
              "          element.appendChild(docLink);\n",
              "        }\n",
              "      </script>\n",
              "    </div>\n",
              "  </div>\n",
              "  "
            ]
          },
          "metadata": {}
        },
        {
          "output_type": "stream",
          "name": "stdout",
          "text": [
            "\n",
            "\n",
            "\n",
            "\n"
          ]
        }
      ],
      "source": [
        "#@title Comparison Table\n",
        "rows = ['Continuous Parameter Shift',\n",
        "          'Continuous Finite Difference',\n",
        "          ]\n",
        "columns_g = [\"#Param Gates 6\", \"#Param Gates 12\", \"#Param Gates 18\", \"#Param Gates 24\", \"#Param Gates 30\"]\n",
        "iters = [0, 1, 2, 3, 4]\n",
        "columns_s = [\"Loss\", \"Time(second)\"]\n",
        "problems = [\"Max-Cut\", \"Clique\", \"Binary Linear Programming\", \"Knapsack\"]\n",
        "for problemn in range(len(problems)):\n",
        "  df = pd.DataFrame([[cvpslc[problemn][iters[0]], cvpstc[problemn][iters[0]], cvpslc[problemn][iters[1]],cvpstc[problemn][iters[1]],cvpslc[problemn][iters[2]],cvpstc[problemn][iters[2]],cvpslc[problemn][iters[3]],cvpstc[problemn][iters[3]],cvpslc[problemn][iters[4]],cvpstc[problemn][iters[4]]],\n",
        "                    [cvfdlc[problemn][iters[0]], cvfdtc[problemn][iters[0]], cvfdlc[problemn][iters[1]], cvfdtc[problemn][iters[1]], cvfdlc[problemn][iters[2]], cvfdtc[problemn][iters[2]], cvfdlc[problemn][iters[3]], cvfdtc[problemn][iters[3]], cvfdlc[problemn][iters[4]], cvfdtc[problemn][iters[4]]],\n",
        "                    ])\n",
        "\n",
        "  col_ix = pd.MultiIndex.from_product([columns_g, columns_s]) \n",
        "  row_ix = pd.MultiIndex.from_product([rows])\n",
        "  df = df.set_index(row_ix)\n",
        "  df.columns = col_ix\n",
        "  df[( '#Param Gates 6','Loss')] = df[( '#Param Gates 6','Loss')].map('{:.2e}'.format)\n",
        "  df[( '#Param Gates 12','Loss')] = df[( '#Param Gates 12','Loss')].map('{:.2e}'.format)\n",
        "  df[( '#Param Gates 18','Loss')] = df[( '#Param Gates 18','Loss')].map('{:.2e}'.format)\n",
        "  df[( '#Param Gates 24','Loss')] = df[( '#Param Gates 24','Loss')].map('{:.2e}'.format)\n",
        "  df[( '#Param Gates 30','Loss')] = df[( '#Param Gates 30','Loss')].map('{:.2e}'.format)\n",
        "  # df[( '#Param Gates 500','Loss')] = df[( '#Param Gates 500','Loss')].map('{:.2e}'.format)\n",
        "  print(f\"\\033[1m{problems[problemn]}\\033[0m\")\n",
        "  display(df.round(2))\n",
        "  print(\"\\n\\n\\n\")"
      ]
    }
  ],
  "metadata": {
    "colab": {
      "collapsed_sections": [
        "Qd3EUUWU4RZH"
      ],
      "name": "analytic_continuous_gradient_comparison.ipynb",
      "provenance": [],
      "toc_visible": true,
      "include_colab_link": true
    },
    "kernelspec": {
      "display_name": "Python 3",
      "name": "python3"
    },
    "language_info": {
      "name": "python"
    },
    "widgets": {
      "application/vnd.jupyter.widget-state+json": {
        "6a629310b7494e4db5da7b0b4b3ce26a": {
          "model_module": "@jupyter-widgets/controls",
          "model_name": "HBoxModel",
          "model_module_version": "1.5.0",
          "state": {
            "_dom_classes": [],
            "_model_module": "@jupyter-widgets/controls",
            "_model_module_version": "1.5.0",
            "_model_name": "HBoxModel",
            "_view_count": null,
            "_view_module": "@jupyter-widgets/controls",
            "_view_module_version": "1.5.0",
            "_view_name": "HBoxView",
            "box_style": "",
            "children": [
              "IPY_MODEL_fe4036db9dd14c92a6ef151c5459d84f",
              "IPY_MODEL_67e6230b1bd9471a89403202662c11cc",
              "IPY_MODEL_b4ecc30b4c8b470d9f1eb257cc5465d7"
            ],
            "layout": "IPY_MODEL_8016474c0e634ade9683a0ddf15e4cb8"
          }
        },
        "fe4036db9dd14c92a6ef151c5459d84f": {
          "model_module": "@jupyter-widgets/controls",
          "model_name": "HTMLModel",
          "model_module_version": "1.5.0",
          "state": {
            "_dom_classes": [],
            "_model_module": "@jupyter-widgets/controls",
            "_model_module_version": "1.5.0",
            "_model_name": "HTMLModel",
            "_view_count": null,
            "_view_module": "@jupyter-widgets/controls",
            "_view_module_version": "1.5.0",
            "_view_name": "HTMLView",
            "description": "",
            "description_tooltip": null,
            "layout": "IPY_MODEL_6b7890e63dcf472785716f745b618faa",
            "placeholder": "​",
            "style": "IPY_MODEL_275af39e77e5488a9194fa72c5212799",
            "value": "100%"
          }
        },
        "67e6230b1bd9471a89403202662c11cc": {
          "model_module": "@jupyter-widgets/controls",
          "model_name": "FloatProgressModel",
          "model_module_version": "1.5.0",
          "state": {
            "_dom_classes": [],
            "_model_module": "@jupyter-widgets/controls",
            "_model_module_version": "1.5.0",
            "_model_name": "FloatProgressModel",
            "_view_count": null,
            "_view_module": "@jupyter-widgets/controls",
            "_view_module_version": "1.5.0",
            "_view_name": "ProgressView",
            "bar_style": "success",
            "description": "",
            "description_tooltip": null,
            "layout": "IPY_MODEL_a011e43740954f58b63b734381fe9747",
            "max": 50,
            "min": 0,
            "orientation": "horizontal",
            "style": "IPY_MODEL_33c037dc06f14560b3e052bfb85ab2ac",
            "value": 50
          }
        },
        "b4ecc30b4c8b470d9f1eb257cc5465d7": {
          "model_module": "@jupyter-widgets/controls",
          "model_name": "HTMLModel",
          "model_module_version": "1.5.0",
          "state": {
            "_dom_classes": [],
            "_model_module": "@jupyter-widgets/controls",
            "_model_module_version": "1.5.0",
            "_model_name": "HTMLModel",
            "_view_count": null,
            "_view_module": "@jupyter-widgets/controls",
            "_view_module_version": "1.5.0",
            "_view_name": "HTMLView",
            "description": "",
            "description_tooltip": null,
            "layout": "IPY_MODEL_024e3ceb306d41e7911fa240501e944d",
            "placeholder": "​",
            "style": "IPY_MODEL_5ea30286d4b84722ab471c8048e3a594",
            "value": " 50/50 [00:33&lt;00:00,  1.25it/s]"
          }
        },
        "8016474c0e634ade9683a0ddf15e4cb8": {
          "model_module": "@jupyter-widgets/base",
          "model_name": "LayoutModel",
          "model_module_version": "1.2.0",
          "state": {
            "_model_module": "@jupyter-widgets/base",
            "_model_module_version": "1.2.0",
            "_model_name": "LayoutModel",
            "_view_count": null,
            "_view_module": "@jupyter-widgets/base",
            "_view_module_version": "1.2.0",
            "_view_name": "LayoutView",
            "align_content": null,
            "align_items": null,
            "align_self": null,
            "border": null,
            "bottom": null,
            "display": null,
            "flex": null,
            "flex_flow": null,
            "grid_area": null,
            "grid_auto_columns": null,
            "grid_auto_flow": null,
            "grid_auto_rows": null,
            "grid_column": null,
            "grid_gap": null,
            "grid_row": null,
            "grid_template_areas": null,
            "grid_template_columns": null,
            "grid_template_rows": null,
            "height": null,
            "justify_content": null,
            "justify_items": null,
            "left": null,
            "margin": null,
            "max_height": null,
            "max_width": null,
            "min_height": null,
            "min_width": null,
            "object_fit": null,
            "object_position": null,
            "order": null,
            "overflow": null,
            "overflow_x": null,
            "overflow_y": null,
            "padding": null,
            "right": null,
            "top": null,
            "visibility": null,
            "width": null
          }
        },
        "6b7890e63dcf472785716f745b618faa": {
          "model_module": "@jupyter-widgets/base",
          "model_name": "LayoutModel",
          "model_module_version": "1.2.0",
          "state": {
            "_model_module": "@jupyter-widgets/base",
            "_model_module_version": "1.2.0",
            "_model_name": "LayoutModel",
            "_view_count": null,
            "_view_module": "@jupyter-widgets/base",
            "_view_module_version": "1.2.0",
            "_view_name": "LayoutView",
            "align_content": null,
            "align_items": null,
            "align_self": null,
            "border": null,
            "bottom": null,
            "display": null,
            "flex": null,
            "flex_flow": null,
            "grid_area": null,
            "grid_auto_columns": null,
            "grid_auto_flow": null,
            "grid_auto_rows": null,
            "grid_column": null,
            "grid_gap": null,
            "grid_row": null,
            "grid_template_areas": null,
            "grid_template_columns": null,
            "grid_template_rows": null,
            "height": null,
            "justify_content": null,
            "justify_items": null,
            "left": null,
            "margin": null,
            "max_height": null,
            "max_width": null,
            "min_height": null,
            "min_width": null,
            "object_fit": null,
            "object_position": null,
            "order": null,
            "overflow": null,
            "overflow_x": null,
            "overflow_y": null,
            "padding": null,
            "right": null,
            "top": null,
            "visibility": null,
            "width": null
          }
        },
        "275af39e77e5488a9194fa72c5212799": {
          "model_module": "@jupyter-widgets/controls",
          "model_name": "DescriptionStyleModel",
          "model_module_version": "1.5.0",
          "state": {
            "_model_module": "@jupyter-widgets/controls",
            "_model_module_version": "1.5.0",
            "_model_name": "DescriptionStyleModel",
            "_view_count": null,
            "_view_module": "@jupyter-widgets/base",
            "_view_module_version": "1.2.0",
            "_view_name": "StyleView",
            "description_width": ""
          }
        },
        "a011e43740954f58b63b734381fe9747": {
          "model_module": "@jupyter-widgets/base",
          "model_name": "LayoutModel",
          "model_module_version": "1.2.0",
          "state": {
            "_model_module": "@jupyter-widgets/base",
            "_model_module_version": "1.2.0",
            "_model_name": "LayoutModel",
            "_view_count": null,
            "_view_module": "@jupyter-widgets/base",
            "_view_module_version": "1.2.0",
            "_view_name": "LayoutView",
            "align_content": null,
            "align_items": null,
            "align_self": null,
            "border": null,
            "bottom": null,
            "display": null,
            "flex": null,
            "flex_flow": null,
            "grid_area": null,
            "grid_auto_columns": null,
            "grid_auto_flow": null,
            "grid_auto_rows": null,
            "grid_column": null,
            "grid_gap": null,
            "grid_row": null,
            "grid_template_areas": null,
            "grid_template_columns": null,
            "grid_template_rows": null,
            "height": null,
            "justify_content": null,
            "justify_items": null,
            "left": null,
            "margin": null,
            "max_height": null,
            "max_width": null,
            "min_height": null,
            "min_width": null,
            "object_fit": null,
            "object_position": null,
            "order": null,
            "overflow": null,
            "overflow_x": null,
            "overflow_y": null,
            "padding": null,
            "right": null,
            "top": null,
            "visibility": null,
            "width": null
          }
        },
        "33c037dc06f14560b3e052bfb85ab2ac": {
          "model_module": "@jupyter-widgets/controls",
          "model_name": "ProgressStyleModel",
          "model_module_version": "1.5.0",
          "state": {
            "_model_module": "@jupyter-widgets/controls",
            "_model_module_version": "1.5.0",
            "_model_name": "ProgressStyleModel",
            "_view_count": null,
            "_view_module": "@jupyter-widgets/base",
            "_view_module_version": "1.2.0",
            "_view_name": "StyleView",
            "bar_color": null,
            "description_width": ""
          }
        },
        "024e3ceb306d41e7911fa240501e944d": {
          "model_module": "@jupyter-widgets/base",
          "model_name": "LayoutModel",
          "model_module_version": "1.2.0",
          "state": {
            "_model_module": "@jupyter-widgets/base",
            "_model_module_version": "1.2.0",
            "_model_name": "LayoutModel",
            "_view_count": null,
            "_view_module": "@jupyter-widgets/base",
            "_view_module_version": "1.2.0",
            "_view_name": "LayoutView",
            "align_content": null,
            "align_items": null,
            "align_self": null,
            "border": null,
            "bottom": null,
            "display": null,
            "flex": null,
            "flex_flow": null,
            "grid_area": null,
            "grid_auto_columns": null,
            "grid_auto_flow": null,
            "grid_auto_rows": null,
            "grid_column": null,
            "grid_gap": null,
            "grid_row": null,
            "grid_template_areas": null,
            "grid_template_columns": null,
            "grid_template_rows": null,
            "height": null,
            "justify_content": null,
            "justify_items": null,
            "left": null,
            "margin": null,
            "max_height": null,
            "max_width": null,
            "min_height": null,
            "min_width": null,
            "object_fit": null,
            "object_position": null,
            "order": null,
            "overflow": null,
            "overflow_x": null,
            "overflow_y": null,
            "padding": null,
            "right": null,
            "top": null,
            "visibility": null,
            "width": null
          }
        },
        "5ea30286d4b84722ab471c8048e3a594": {
          "model_module": "@jupyter-widgets/controls",
          "model_name": "DescriptionStyleModel",
          "model_module_version": "1.5.0",
          "state": {
            "_model_module": "@jupyter-widgets/controls",
            "_model_module_version": "1.5.0",
            "_model_name": "DescriptionStyleModel",
            "_view_count": null,
            "_view_module": "@jupyter-widgets/base",
            "_view_module_version": "1.2.0",
            "_view_name": "StyleView",
            "description_width": ""
          }
        }
      }
    }
  },
  "nbformat": 4,
  "nbformat_minor": 0
}