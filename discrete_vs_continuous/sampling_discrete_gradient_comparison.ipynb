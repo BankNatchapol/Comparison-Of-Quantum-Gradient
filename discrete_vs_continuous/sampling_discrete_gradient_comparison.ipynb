{
  "cells": [
    {
      "cell_type": "markdown",
      "metadata": {
        "id": "view-in-github",
        "colab_type": "text"
      },
      "source": [
        "<a href=\"https://colab.research.google.com/github/BankNatchapol/Comparison-of-Quantum-Gradient/blob/main/discrete_vs_continuous/sampling_discrete_gradient_comparison.ipynb\" target=\"_parent\"><img src=\"https://colab.research.google.com/assets/colab-badge.svg\" alt=\"Open In Colab\"/></a>"
      ]
    },
    {
      "cell_type": "code",
      "execution_count": null,
      "metadata": {
        "id": "SBqFCoePuw6c",
        "colab": {
          "base_uri": "https://localhost:8080/"
        },
        "outputId": "715ec23b-637f-41a5-dc32-cc3de45c72fa"
      },
      "outputs": [
        {
          "output_type": "stream",
          "name": "stdout",
          "text": [
            "Collecting pennylane\n",
            "  Downloading PennyLane-0.22.1-py3-none-any.whl (881 kB)\n",
            "\u001b[?25l\r\u001b[K     |▍                               | 10 kB 18.3 MB/s eta 0:00:01\r\u001b[K     |▊                               | 20 kB 21.9 MB/s eta 0:00:01\r\u001b[K     |█▏                              | 30 kB 11.7 MB/s eta 0:00:01\r\u001b[K     |█▌                              | 40 kB 9.8 MB/s eta 0:00:01\r\u001b[K     |█▉                              | 51 kB 4.4 MB/s eta 0:00:01\r\u001b[K     |██▎                             | 61 kB 5.1 MB/s eta 0:00:01\r\u001b[K     |██▋                             | 71 kB 5.8 MB/s eta 0:00:01\r\u001b[K     |███                             | 81 kB 4.2 MB/s eta 0:00:01\r\u001b[K     |███▍                            | 92 kB 4.7 MB/s eta 0:00:01\r\u001b[K     |███▊                            | 102 kB 5.1 MB/s eta 0:00:01\r\u001b[K     |████                            | 112 kB 5.1 MB/s eta 0:00:01\r\u001b[K     |████▌                           | 122 kB 5.1 MB/s eta 0:00:01\r\u001b[K     |████▉                           | 133 kB 5.1 MB/s eta 0:00:01\r\u001b[K     |█████▏                          | 143 kB 5.1 MB/s eta 0:00:01\r\u001b[K     |█████▋                          | 153 kB 5.1 MB/s eta 0:00:01\r\u001b[K     |██████                          | 163 kB 5.1 MB/s eta 0:00:01\r\u001b[K     |██████▎                         | 174 kB 5.1 MB/s eta 0:00:01\r\u001b[K     |██████▊                         | 184 kB 5.1 MB/s eta 0:00:01\r\u001b[K     |███████                         | 194 kB 5.1 MB/s eta 0:00:01\r\u001b[K     |███████▍                        | 204 kB 5.1 MB/s eta 0:00:01\r\u001b[K     |███████▉                        | 215 kB 5.1 MB/s eta 0:00:01\r\u001b[K     |████████▏                       | 225 kB 5.1 MB/s eta 0:00:01\r\u001b[K     |████████▌                       | 235 kB 5.1 MB/s eta 0:00:01\r\u001b[K     |█████████                       | 245 kB 5.1 MB/s eta 0:00:01\r\u001b[K     |█████████▎                      | 256 kB 5.1 MB/s eta 0:00:01\r\u001b[K     |█████████▊                      | 266 kB 5.1 MB/s eta 0:00:01\r\u001b[K     |██████████                      | 276 kB 5.1 MB/s eta 0:00:01\r\u001b[K     |██████████▍                     | 286 kB 5.1 MB/s eta 0:00:01\r\u001b[K     |██████████▉                     | 296 kB 5.1 MB/s eta 0:00:01\r\u001b[K     |███████████▏                    | 307 kB 5.1 MB/s eta 0:00:01\r\u001b[K     |███████████▌                    | 317 kB 5.1 MB/s eta 0:00:01\r\u001b[K     |████████████                    | 327 kB 5.1 MB/s eta 0:00:01\r\u001b[K     |████████████▎                   | 337 kB 5.1 MB/s eta 0:00:01\r\u001b[K     |████████████▋                   | 348 kB 5.1 MB/s eta 0:00:01\r\u001b[K     |█████████████                   | 358 kB 5.1 MB/s eta 0:00:01\r\u001b[K     |█████████████▍                  | 368 kB 5.1 MB/s eta 0:00:01\r\u001b[K     |█████████████▊                  | 378 kB 5.1 MB/s eta 0:00:01\r\u001b[K     |██████████████▏                 | 389 kB 5.1 MB/s eta 0:00:01\r\u001b[K     |██████████████▌                 | 399 kB 5.1 MB/s eta 0:00:01\r\u001b[K     |██████████████▉                 | 409 kB 5.1 MB/s eta 0:00:01\r\u001b[K     |███████████████▎                | 419 kB 5.1 MB/s eta 0:00:01\r\u001b[K     |███████████████▋                | 430 kB 5.1 MB/s eta 0:00:01\r\u001b[K     |████████████████                | 440 kB 5.1 MB/s eta 0:00:01\r\u001b[K     |████████████████▍               | 450 kB 5.1 MB/s eta 0:00:01\r\u001b[K     |████████████████▊               | 460 kB 5.1 MB/s eta 0:00:01\r\u001b[K     |█████████████████               | 471 kB 5.1 MB/s eta 0:00:01\r\u001b[K     |█████████████████▌              | 481 kB 5.1 MB/s eta 0:00:01\r\u001b[K     |█████████████████▉              | 491 kB 5.1 MB/s eta 0:00:01\r\u001b[K     |██████████████████▎             | 501 kB 5.1 MB/s eta 0:00:01\r\u001b[K     |██████████████████▋             | 512 kB 5.1 MB/s eta 0:00:01\r\u001b[K     |███████████████████             | 522 kB 5.1 MB/s eta 0:00:01\r\u001b[K     |███████████████████▍            | 532 kB 5.1 MB/s eta 0:00:01\r\u001b[K     |███████████████████▊            | 542 kB 5.1 MB/s eta 0:00:01\r\u001b[K     |████████████████████            | 552 kB 5.1 MB/s eta 0:00:01\r\u001b[K     |████████████████████▌           | 563 kB 5.1 MB/s eta 0:00:01\r\u001b[K     |████████████████████▉           | 573 kB 5.1 MB/s eta 0:00:01\r\u001b[K     |█████████████████████▏          | 583 kB 5.1 MB/s eta 0:00:01\r\u001b[K     |█████████████████████▋          | 593 kB 5.1 MB/s eta 0:00:01\r\u001b[K     |██████████████████████          | 604 kB 5.1 MB/s eta 0:00:01\r\u001b[K     |██████████████████████▎         | 614 kB 5.1 MB/s eta 0:00:01\r\u001b[K     |██████████████████████▊         | 624 kB 5.1 MB/s eta 0:00:01\r\u001b[K     |███████████████████████         | 634 kB 5.1 MB/s eta 0:00:01\r\u001b[K     |███████████████████████▍        | 645 kB 5.1 MB/s eta 0:00:01\r\u001b[K     |███████████████████████▉        | 655 kB 5.1 MB/s eta 0:00:01\r\u001b[K     |████████████████████████▏       | 665 kB 5.1 MB/s eta 0:00:01\r\u001b[K     |████████████████████████▌       | 675 kB 5.1 MB/s eta 0:00:01\r\u001b[K     |█████████████████████████       | 686 kB 5.1 MB/s eta 0:00:01\r\u001b[K     |█████████████████████████▎      | 696 kB 5.1 MB/s eta 0:00:01\r\u001b[K     |█████████████████████████▋      | 706 kB 5.1 MB/s eta 0:00:01\r\u001b[K     |██████████████████████████      | 716 kB 5.1 MB/s eta 0:00:01\r\u001b[K     |██████████████████████████▍     | 727 kB 5.1 MB/s eta 0:00:01\r\u001b[K     |██████████████████████████▊     | 737 kB 5.1 MB/s eta 0:00:01\r\u001b[K     |███████████████████████████▏    | 747 kB 5.1 MB/s eta 0:00:01\r\u001b[K     |███████████████████████████▌    | 757 kB 5.1 MB/s eta 0:00:01\r\u001b[K     |████████████████████████████    | 768 kB 5.1 MB/s eta 0:00:01\r\u001b[K     |████████████████████████████▎   | 778 kB 5.1 MB/s eta 0:00:01\r\u001b[K     |████████████████████████████▋   | 788 kB 5.1 MB/s eta 0:00:01\r\u001b[K     |█████████████████████████████   | 798 kB 5.1 MB/s eta 0:00:01\r\u001b[K     |█████████████████████████████▍  | 808 kB 5.1 MB/s eta 0:00:01\r\u001b[K     |█████████████████████████████▊  | 819 kB 5.1 MB/s eta 0:00:01\r\u001b[K     |██████████████████████████████▏ | 829 kB 5.1 MB/s eta 0:00:01\r\u001b[K     |██████████████████████████████▌ | 839 kB 5.1 MB/s eta 0:00:01\r\u001b[K     |██████████████████████████████▉ | 849 kB 5.1 MB/s eta 0:00:01\r\u001b[K     |███████████████████████████████▎| 860 kB 5.1 MB/s eta 0:00:01\r\u001b[K     |███████████████████████████████▋| 870 kB 5.1 MB/s eta 0:00:01\r\u001b[K     |████████████████████████████████| 880 kB 5.1 MB/s eta 0:00:01\r\u001b[K     |████████████████████████████████| 881 kB 5.1 MB/s \n",
            "\u001b[?25hRequirement already satisfied: numpy in /usr/local/lib/python3.7/dist-packages (from pennylane) (1.21.5)\n",
            "Requirement already satisfied: networkx in /usr/local/lib/python3.7/dist-packages (from pennylane) (2.6.3)\n",
            "Collecting retworkx\n",
            "  Downloading retworkx-0.11.0-cp37-cp37m-manylinux_2_5_x86_64.manylinux1_x86_64.manylinux_2_12_x86_64.manylinux2010_x86_64.whl (1.6 MB)\n",
            "\u001b[K     |████████████████████████████████| 1.6 MB 36.0 MB/s \n",
            "\u001b[?25hRequirement already satisfied: cachetools in /usr/local/lib/python3.7/dist-packages (from pennylane) (4.2.4)\n",
            "Collecting toml\n",
            "  Downloading toml-0.10.2-py2.py3-none-any.whl (16 kB)\n",
            "Requirement already satisfied: autograd in /usr/local/lib/python3.7/dist-packages (from pennylane) (1.3)\n",
            "Requirement already satisfied: scipy in /usr/local/lib/python3.7/dist-packages (from pennylane) (1.4.1)\n",
            "Requirement already satisfied: appdirs in /usr/local/lib/python3.7/dist-packages (from pennylane) (1.4.4)\n",
            "Collecting autoray\n",
            "  Downloading autoray-0.2.5-py3-none-any.whl (16 kB)\n",
            "Collecting semantic-version==2.6\n",
            "  Downloading semantic_version-2.6.0-py3-none-any.whl (14 kB)\n",
            "Collecting pennylane-lightning>=0.22\n",
            "  Downloading PennyLane_Lightning-0.22.0-cp37-cp37m-manylinux_2_17_x86_64.manylinux2014_x86_64.whl (8.2 MB)\n",
            "\u001b[K     |████████████████████████████████| 8.2 MB 18.0 MB/s \n",
            "\u001b[?25hCollecting ninja\n",
            "  Downloading ninja-1.10.2.3-py2.py3-none-manylinux_2_5_x86_64.manylinux1_x86_64.whl (108 kB)\n",
            "\u001b[K     |████████████████████████████████| 108 kB 48.3 MB/s \n",
            "\u001b[?25hRequirement already satisfied: future>=0.15.2 in /usr/local/lib/python3.7/dist-packages (from autograd->pennylane) (0.16.0)\n",
            "Installing collected packages: ninja, toml, semantic-version, retworkx, pennylane-lightning, autoray, pennylane\n",
            "Successfully installed autoray-0.2.5 ninja-1.10.2.3 pennylane-0.22.1 pennylane-lightning-0.22.0 retworkx-0.11.0 semantic-version-2.6.0 toml-0.10.2\n",
            "Collecting qiskit\n",
            "  Downloading qiskit-0.34.2.tar.gz (13 kB)\n",
            "Collecting qiskit-terra==0.19.2\n",
            "  Downloading qiskit_terra-0.19.2-cp37-cp37m-manylinux_2_12_x86_64.manylinux2010_x86_64.whl (6.5 MB)\n",
            "\u001b[K     |████████████████████████████████| 6.5 MB 4.4 MB/s \n",
            "\u001b[?25hCollecting qiskit-aer==0.10.3\n",
            "  Downloading qiskit_aer-0.10.3-cp37-cp37m-manylinux_2_12_x86_64.manylinux2010_x86_64.whl (18.0 MB)\n",
            "\u001b[K     |████████████████████████████████| 18.0 MB 55.4 MB/s \n",
            "\u001b[?25hCollecting qiskit-ibmq-provider==0.18.3\n",
            "  Downloading qiskit_ibmq_provider-0.18.3-py3-none-any.whl (238 kB)\n",
            "\u001b[K     |████████████████████████████████| 238 kB 40.7 MB/s \n",
            "\u001b[?25hCollecting qiskit-ignis==0.7.0\n",
            "  Downloading qiskit_ignis-0.7.0-py3-none-any.whl (200 kB)\n",
            "\u001b[K     |████████████████████████████████| 200 kB 24.7 MB/s \n",
            "\u001b[?25hRequirement already satisfied: numpy>=1.16.3 in /usr/local/lib/python3.7/dist-packages (from qiskit-aer==0.10.3->qiskit) (1.21.5)\n",
            "Requirement already satisfied: scipy>=1.0 in /usr/local/lib/python3.7/dist-packages (from qiskit-aer==0.10.3->qiskit) (1.4.1)\n",
            "Requirement already satisfied: urllib3>=1.21.1 in /usr/local/lib/python3.7/dist-packages (from qiskit-ibmq-provider==0.18.3->qiskit) (1.24.3)\n",
            "Requirement already satisfied: requests>=2.19 in /usr/local/lib/python3.7/dist-packages (from qiskit-ibmq-provider==0.18.3->qiskit) (2.23.0)\n",
            "Collecting websocket-client>=1.0.1\n",
            "  Downloading websocket_client-1.3.1-py3-none-any.whl (54 kB)\n",
            "\u001b[K     |████████████████████████████████| 54 kB 1.2 MB/s \n",
            "\u001b[?25hCollecting requests-ntlm>=1.1.0\n",
            "  Downloading requests_ntlm-1.1.0-py2.py3-none-any.whl (5.7 kB)\n",
            "Requirement already satisfied: python-dateutil>=2.8.0 in /usr/local/lib/python3.7/dist-packages (from qiskit-ibmq-provider==0.18.3->qiskit) (2.8.2)\n",
            "Requirement already satisfied: retworkx>=0.8.0 in /usr/local/lib/python3.7/dist-packages (from qiskit-ignis==0.7.0->qiskit) (0.11.0)\n",
            "Requirement already satisfied: setuptools>=40.1.0 in /usr/local/lib/python3.7/dist-packages (from qiskit-ignis==0.7.0->qiskit) (57.4.0)\n",
            "Collecting scipy>=1.0\n",
            "  Downloading scipy-1.7.3-cp37-cp37m-manylinux_2_12_x86_64.manylinux2010_x86_64.whl (38.1 MB)\n",
            "\u001b[K     |████████████████████████████████| 38.1 MB 1.3 MB/s \n",
            "\u001b[?25hRequirement already satisfied: dill>=0.3 in /usr/local/lib/python3.7/dist-packages (from qiskit-terra==0.19.2->qiskit) (0.3.4)\n",
            "Collecting symengine>=0.8\n",
            "  Downloading symengine-0.9.2-cp37-cp37m-manylinux2010_x86_64.whl (37.5 MB)\n",
            "\u001b[K     |████████████████████████████████| 37.5 MB 1.8 MB/s \n",
            "\u001b[?25hRequirement already satisfied: sympy>=1.3 in /usr/local/lib/python3.7/dist-packages (from qiskit-terra==0.19.2->qiskit) (1.7.1)\n",
            "Requirement already satisfied: psutil>=5 in /usr/local/lib/python3.7/dist-packages (from qiskit-terra==0.19.2->qiskit) (5.4.8)\n",
            "Collecting tweedledum<2.0,>=1.1\n",
            "  Downloading tweedledum-1.1.1-cp37-cp37m-manylinux_2_12_x86_64.manylinux2010_x86_64.whl (943 kB)\n",
            "\u001b[K     |████████████████████████████████| 943 kB 24.5 MB/s \n",
            "\u001b[?25hCollecting stevedore>=3.0.0\n",
            "  Downloading stevedore-3.5.0-py3-none-any.whl (49 kB)\n",
            "\u001b[K     |████████████████████████████████| 49 kB 4.5 MB/s \n",
            "\u001b[?25hCollecting ply>=3.10\n",
            "  Downloading ply-3.11-py2.py3-none-any.whl (49 kB)\n",
            "\u001b[K     |████████████████████████████████| 49 kB 3.5 MB/s \n",
            "\u001b[?25hCollecting python-constraint>=1.4\n",
            "  Downloading python-constraint-1.4.0.tar.bz2 (18 kB)\n",
            "Requirement already satisfied: six>=1.5 in /usr/local/lib/python3.7/dist-packages (from python-dateutil>=2.8.0->qiskit-ibmq-provider==0.18.3->qiskit) (1.15.0)\n",
            "Requirement already satisfied: idna<3,>=2.5 in /usr/local/lib/python3.7/dist-packages (from requests>=2.19->qiskit-ibmq-provider==0.18.3->qiskit) (2.10)\n",
            "Requirement already satisfied: chardet<4,>=3.0.2 in /usr/local/lib/python3.7/dist-packages (from requests>=2.19->qiskit-ibmq-provider==0.18.3->qiskit) (3.0.4)\n",
            "Requirement already satisfied: certifi>=2017.4.17 in /usr/local/lib/python3.7/dist-packages (from requests>=2.19->qiskit-ibmq-provider==0.18.3->qiskit) (2021.10.8)\n",
            "Collecting cryptography>=1.3\n",
            "  Downloading cryptography-36.0.2-cp36-abi3-manylinux_2_24_x86_64.whl (3.6 MB)\n",
            "\u001b[K     |████████████████████████████████| 3.6 MB 39.0 MB/s \n",
            "\u001b[?25hCollecting ntlm-auth>=1.0.2\n",
            "  Downloading ntlm_auth-1.5.0-py2.py3-none-any.whl (29 kB)\n",
            "Requirement already satisfied: cffi>=1.12 in /usr/local/lib/python3.7/dist-packages (from cryptography>=1.3->requests-ntlm>=1.1.0->qiskit-ibmq-provider==0.18.3->qiskit) (1.15.0)\n",
            "Requirement already satisfied: pycparser in /usr/local/lib/python3.7/dist-packages (from cffi>=1.12->cryptography>=1.3->requests-ntlm>=1.1.0->qiskit-ibmq-provider==0.18.3->qiskit) (2.21)\n",
            "Collecting pbr!=2.1.0,>=2.0.0\n",
            "  Downloading pbr-5.8.1-py2.py3-none-any.whl (113 kB)\n",
            "\u001b[K     |████████████████████████████████| 113 kB 29.8 MB/s \n",
            "\u001b[?25hRequirement already satisfied: importlib-metadata>=1.7.0 in /usr/local/lib/python3.7/dist-packages (from stevedore>=3.0.0->qiskit-terra==0.19.2->qiskit) (4.11.3)\n",
            "Requirement already satisfied: zipp>=0.5 in /usr/local/lib/python3.7/dist-packages (from importlib-metadata>=1.7.0->stevedore>=3.0.0->qiskit-terra==0.19.2->qiskit) (3.7.0)\n",
            "Requirement already satisfied: typing-extensions>=3.6.4 in /usr/local/lib/python3.7/dist-packages (from importlib-metadata>=1.7.0->stevedore>=3.0.0->qiskit-terra==0.19.2->qiskit) (3.10.0.2)\n",
            "Requirement already satisfied: mpmath>=0.19 in /usr/local/lib/python3.7/dist-packages (from sympy>=1.3->qiskit-terra==0.19.2->qiskit) (1.2.1)\n",
            "Building wheels for collected packages: qiskit, python-constraint\n",
            "  Building wheel for qiskit (setup.py) ... \u001b[?25l\u001b[?25hdone\n",
            "  Created wheel for qiskit: filename=qiskit-0.34.2-py3-none-any.whl size=11805 sha256=3b2948635c063da1f42a76fd5656dd8b2953365a439ab2b4c57e599b4c2153dc\n",
            "  Stored in directory: /root/.cache/pip/wheels/62/77/65/cda6eedfdd2a525bd3f479a4386930ae3088a1eb01f8c944ed\n",
            "  Building wheel for python-constraint (setup.py) ... \u001b[?25l\u001b[?25hdone\n",
            "  Created wheel for python-constraint: filename=python_constraint-1.4.0-py2.py3-none-any.whl size=24081 sha256=f117f9b4ca88b7950acbfaa1604ededa3afd549a5635cb8f781ea44c56ec978b\n",
            "  Stored in directory: /root/.cache/pip/wheels/07/27/db/1222c80eb1e431f3d2199c12569cb1cac60f562a451fe30479\n",
            "Successfully built qiskit python-constraint\n",
            "Installing collected packages: pbr, tweedledum, symengine, stevedore, scipy, python-constraint, ply, ntlm-auth, cryptography, websocket-client, requests-ntlm, qiskit-terra, qiskit-ignis, qiskit-ibmq-provider, qiskit-aer, qiskit\n",
            "  Attempting uninstall: scipy\n",
            "    Found existing installation: scipy 1.4.1\n",
            "    Uninstalling scipy-1.4.1:\n",
            "      Successfully uninstalled scipy-1.4.1\n",
            "\u001b[31mERROR: pip's dependency resolver does not currently take into account all the packages that are installed. This behaviour is the source of the following dependency conflicts.\n",
            "albumentations 0.1.12 requires imgaug<0.2.7,>=0.2.5, but you have imgaug 0.2.9 which is incompatible.\u001b[0m\n",
            "Successfully installed cryptography-36.0.2 ntlm-auth-1.5.0 pbr-5.8.1 ply-3.11 python-constraint-1.4.0 qiskit-0.34.2 qiskit-aer-0.10.3 qiskit-ibmq-provider-0.18.3 qiskit-ignis-0.7.0 qiskit-terra-0.19.2 requests-ntlm-1.1.0 scipy-1.7.3 stevedore-3.5.0 symengine-0.9.2 tweedledum-1.1.1 websocket-client-1.3.1\n",
            "Collecting qiskit_optimization\n",
            "  Downloading qiskit_optimization-0.3.1-py3-none-any.whl (154 kB)\n",
            "\u001b[K     |████████████████████████████████| 154 kB 5.0 MB/s \n",
            "\u001b[?25hRequirement already satisfied: scipy>=1.4 in /usr/local/lib/python3.7/dist-packages (from qiskit_optimization) (1.7.3)\n",
            "Requirement already satisfied: setuptools>=40.1.0 in /usr/local/lib/python3.7/dist-packages (from qiskit_optimization) (57.4.0)\n",
            "Collecting networkx<2.6,>=2.2\n",
            "  Downloading networkx-2.5.1-py3-none-any.whl (1.6 MB)\n",
            "\u001b[K     |████████████████████████████████| 1.6 MB 53.1 MB/s \n",
            "\u001b[?25hCollecting docplex>=2.21.207\n",
            "  Downloading docplex-2.23.222.tar.gz (610 kB)\n",
            "\u001b[K     |████████████████████████████████| 610 kB 56.7 MB/s \n",
            "\u001b[?25hRequirement already satisfied: qiskit-terra>=0.19.1 in /usr/local/lib/python3.7/dist-packages (from qiskit_optimization) (0.19.2)\n",
            "Requirement already satisfied: numpy>=1.17 in /usr/local/lib/python3.7/dist-packages (from qiskit_optimization) (1.21.5)\n",
            "Requirement already satisfied: six in /usr/local/lib/python3.7/dist-packages (from docplex>=2.21.207->qiskit_optimization) (1.15.0)\n",
            "Requirement already satisfied: decorator<5,>=4.3 in /usr/local/lib/python3.7/dist-packages (from networkx<2.6,>=2.2->qiskit_optimization) (4.4.2)\n",
            "Requirement already satisfied: symengine>=0.8 in /usr/local/lib/python3.7/dist-packages (from qiskit-terra>=0.19.1->qiskit_optimization) (0.9.2)\n",
            "Requirement already satisfied: python-dateutil>=2.8.0 in /usr/local/lib/python3.7/dist-packages (from qiskit-terra>=0.19.1->qiskit_optimization) (2.8.2)\n",
            "Requirement already satisfied: retworkx>=0.10.1 in /usr/local/lib/python3.7/dist-packages (from qiskit-terra>=0.19.1->qiskit_optimization) (0.11.0)\n",
            "Requirement already satisfied: stevedore>=3.0.0 in /usr/local/lib/python3.7/dist-packages (from qiskit-terra>=0.19.1->qiskit_optimization) (3.5.0)\n",
            "Requirement already satisfied: python-constraint>=1.4 in /usr/local/lib/python3.7/dist-packages (from qiskit-terra>=0.19.1->qiskit_optimization) (1.4.0)\n",
            "Requirement already satisfied: dill>=0.3 in /usr/local/lib/python3.7/dist-packages (from qiskit-terra>=0.19.1->qiskit_optimization) (0.3.4)\n",
            "Requirement already satisfied: psutil>=5 in /usr/local/lib/python3.7/dist-packages (from qiskit-terra>=0.19.1->qiskit_optimization) (5.4.8)\n",
            "Requirement already satisfied: tweedledum<2.0,>=1.1 in /usr/local/lib/python3.7/dist-packages (from qiskit-terra>=0.19.1->qiskit_optimization) (1.1.1)\n",
            "Requirement already satisfied: sympy>=1.3 in /usr/local/lib/python3.7/dist-packages (from qiskit-terra>=0.19.1->qiskit_optimization) (1.7.1)\n",
            "Requirement already satisfied: ply>=3.10 in /usr/local/lib/python3.7/dist-packages (from qiskit-terra>=0.19.1->qiskit_optimization) (3.11)\n",
            "Requirement already satisfied: pbr!=2.1.0,>=2.0.0 in /usr/local/lib/python3.7/dist-packages (from stevedore>=3.0.0->qiskit-terra>=0.19.1->qiskit_optimization) (5.8.1)\n",
            "Requirement already satisfied: importlib-metadata>=1.7.0 in /usr/local/lib/python3.7/dist-packages (from stevedore>=3.0.0->qiskit-terra>=0.19.1->qiskit_optimization) (4.11.3)\n",
            "Requirement already satisfied: typing-extensions>=3.6.4 in /usr/local/lib/python3.7/dist-packages (from importlib-metadata>=1.7.0->stevedore>=3.0.0->qiskit-terra>=0.19.1->qiskit_optimization) (3.10.0.2)\n",
            "Requirement already satisfied: zipp>=0.5 in /usr/local/lib/python3.7/dist-packages (from importlib-metadata>=1.7.0->stevedore>=3.0.0->qiskit-terra>=0.19.1->qiskit_optimization) (3.7.0)\n",
            "Requirement already satisfied: mpmath>=0.19 in /usr/local/lib/python3.7/dist-packages (from sympy>=1.3->qiskit-terra>=0.19.1->qiskit_optimization) (1.2.1)\n",
            "Building wheels for collected packages: docplex\n",
            "  Building wheel for docplex (setup.py) ... \u001b[?25l\u001b[?25hdone\n",
            "  Created wheel for docplex: filename=docplex-2.23.222-py3-none-any.whl size=662847 sha256=759e59205146cb6bc4a0d4065f5e98d00e0227d2a5995e667ca974021165bc48\n",
            "  Stored in directory: /root/.cache/pip/wheels/a7/c9/fb/cee5a89f304e77a39c466e625ac2830434b76eb8384999d116\n",
            "Successfully built docplex\n",
            "Installing collected packages: networkx, docplex, qiskit-optimization\n",
            "  Attempting uninstall: networkx\n",
            "    Found existing installation: networkx 2.6.3\n",
            "    Uninstalling networkx-2.6.3:\n",
            "      Successfully uninstalled networkx-2.6.3\n",
            "\u001b[31mERROR: pip's dependency resolver does not currently take into account all the packages that are installed. This behaviour is the source of the following dependency conflicts.\n",
            "albumentations 0.1.12 requires imgaug<0.2.7,>=0.2.5, but you have imgaug 0.2.9 which is incompatible.\u001b[0m\n",
            "Successfully installed docplex-2.23.222 networkx-2.5.1 qiskit-optimization-0.3.1\n"
          ]
        }
      ],
      "source": [
        "!pip install pennylane\n",
        "!pip install qiskit\n",
        "!pip install qiskit_optimization"
      ]
    },
    {
      "cell_type": "code",
      "execution_count": null,
      "metadata": {
        "id": "F5tj-C8xu5W_"
      },
      "outputs": [],
      "source": [
        "import pennylane as qml\n",
        "from pennylane import numpy as np\n",
        "\n",
        "from pandas.plotting import table \n",
        "import pandas as pd\n",
        "import time \n",
        "\n",
        "import networkx as nx\n",
        "import matplotlib.pyplot as plt\n",
        "\n",
        "import plotly\n",
        "import plotly.graph_objects as go\n",
        "import plotly.express as px\n",
        "\n",
        "from docplex.mp.model import Model\n",
        "from qiskit.opflow import Z, X, Y, I\n",
        "from qiskit_optimization.translators import from_docplex_mp\n",
        "from qiskit_optimization.applications import Maxcut, Clique, Knapsack\n",
        "from qiskit_optimization.converters import QuadraticProgramToQubo"
      ]
    },
    {
      "cell_type": "code",
      "execution_count": null,
      "metadata": {
        "cellView": "form",
        "id": "kVHFu8tDuDm2"
      },
      "outputs": [],
      "source": [
        "#@title Auxilary Function\n",
        "def Had(wires):\n",
        "  qml.RY(np.pi/2, wires=wires)\n",
        "  qml.RX(np.pi, wires=wires)\n",
        "\n",
        "\n",
        "def fully_connected_layer(num_wires):\n",
        "  if num_wires>1:\n",
        "    for wire in range(num_wires-1):\n",
        "      qml.CNOT(wires=[wire, wire+1])\n",
        "    qml.CNOT(wires=[wire+1, 0])\n",
        "\n",
        "def str2gate(gate):\n",
        "  if gate == 'H':\n",
        "    return Had\n",
        "  elif gate == 'X':\n",
        "    return qml.PauliX\n",
        "  elif gate == 'Y':\n",
        "    return qml.PauliY\n",
        "  elif gate == 'Z':\n",
        "    return qml.PauliZ\n",
        "  elif gate == 'RX':\n",
        "    return qml.RX\n",
        "  elif gate == 'RY':\n",
        "    return qml.RY\n",
        "  elif gate == 'RZ':\n",
        "    return qml.RZ\n",
        "  else:\n",
        "    assert 0, \"Gate not support.\"\n",
        "\n",
        "def controlStr(gate):\n",
        "  if gate == 'RX':\n",
        "    return qml.CNOT\n",
        "  elif gate == 'RY':\n",
        "    return qml.CY\n",
        "  elif gate == 'RZ':\n",
        "    return qml.CZ\n",
        "  else:\n",
        "    assert 0, \"Gate not support.\"\n",
        "    \n",
        "def hamiltonian_from_qiskit(sum_op):\n",
        "\n",
        "\t'''\n",
        "\tThis function takes a qiskit.PauliSumOp as input and\n",
        "\tgives back a Pennylane Hamiltonian as output\n",
        "\n",
        "\tsum_op  = qiskit.PauliSumOp\n",
        "\n",
        "\t'''\n",
        "\top      = sum_op.primitive.to_list()\n",
        "\tn_terms = len(op)\n",
        "\tcoeffs  = []\n",
        "\tpaulis  = []\n",
        "\n",
        "\tfor i in range(n_terms):\n",
        "\t\tpaulis.append(qml.grouping.string_to_pauli_word(\"\".join(list(reversed(op[i][0])))))\n",
        "\t\tcoeffs.append(op[i][1].real)\n",
        "\n",
        "\tp_op = qml.Hamiltonian(coeffs,paulis)\n",
        "\n",
        "\treturn p_op\n",
        "\n",
        "def hamiltonian_from_qiskit_lcu(sum_op):\n",
        "\n",
        "  '''\n",
        "  This function takes a qiskit.PauliSumOp as input and\n",
        "  gives back a Pennylane Hamiltonian as output\n",
        "\n",
        "  sum_op  = qiskit.PauliSumOp\n",
        "\n",
        "  '''\n",
        "  op      = sum_op.primitive.to_list()\n",
        "  n_terms = len(op)\n",
        "  coeffs  = []\n",
        "  paulis  = []\n",
        "\n",
        "  for i in range(n_terms):\n",
        "    if op[i][0]==\"I\":\n",
        "      paulis.append(qml.grouping.string_to_pauli_word(\"\".join(list(reversed(op[i][0])))))\n",
        "    else:\n",
        "      paulis.append(qml.grouping.string_to_pauli_word(\"\".join(list(reversed(op[i][0])))+\"Z\"))\n",
        "    coeffs.append(op[i][1].real)\n",
        "\n",
        "  p_op = qml.Hamiltonian(coeffs,paulis)\n",
        "\n",
        "  return p_op\n",
        "\n",
        "def get_adjacency_matrix(elist):\n",
        "  adjacency_matrix = np.zeros([num_wires, num_wires])\n",
        "\n",
        "  for i,j in elist:\n",
        "    adjacency_matrix[i, j] = 1.0\n",
        "    adjacency_matrix[j, i] = 1.0\n",
        "\n",
        "  return adjacency_matrix\n",
        "\n",
        "def draw_graph(elist, colors):\n",
        "  G = nx.Graph()\n",
        "  #G.add_nodes_from(np.arange(0, n, 1))\n",
        "  # tuple is (i,j,weight) where (i,j) is the edge\n",
        "  G.add_edges_from(elist)\n",
        "  pos = nx.spring_layout(G)\n",
        "  default_axes = plt.axes(frameon=True)\n",
        "  nx.draw_networkx(G, node_color=colors, node_size=600, alpha=0.8, ax=default_axes, pos=pos)\n",
        "\n",
        "def int_to_binary(value, size):\n",
        "  \"\"\"Function that converts an integer to a binary string.\"\"\"\n",
        "\n",
        "  bi = \"{0:b}\".format(value)\n",
        "  if len(bi)<size:\n",
        "    bi = \"0\"*(size-len(bi)) + bi\n",
        "  return bi"
      ]
    },
    {
      "cell_type": "markdown",
      "metadata": {
        "id": "cmviO3033yq1"
      },
      "source": [
        "# **Gradient methods**"
      ]
    },
    {
      "cell_type": "markdown",
      "metadata": {
        "id": "Omm4_hajoZQU"
      },
      "source": [
        "## Discrete-variable"
      ]
    },
    {
      "cell_type": "markdown",
      "metadata": {
        "id": "Ed08lXjuorX0"
      },
      "source": [
        "### Parameter shift rule"
      ]
    },
    {
      "cell_type": "code",
      "execution_count": null,
      "metadata": {
        "id": "10x49co1u-fB"
      },
      "outputs": [],
      "source": [
        "def parameter_shift_term(qnode, params, i, j):\n",
        "\n",
        "    shifted = params.copy()\n",
        "    \n",
        "    shifted[i, j] += np.pi/2\n",
        "    forward = qnode(shifted)  # forward evaluation\n",
        "\n",
        "    shifted[i, j] -= np.pi\n",
        "    backward = qnode(shifted) # backward evaluation\n",
        "\n",
        "    return 0.5 * (forward - backward)\n",
        "\n",
        "def parameter_shift(qnode, params):\n",
        "    gradients = np.zeros_like((params))\n",
        "    for i in range(len(gradients)):\n",
        "        for j in range(len(gradients[0])):\n",
        "            gradients[i, j] += parameter_shift_term(qnode, params, i, j)\n",
        "\n",
        "    return gradients"
      ]
    },
    {
      "cell_type": "markdown",
      "metadata": {
        "id": "N7TtarxRot62"
      },
      "source": [
        "### Finite difference"
      ]
    },
    {
      "cell_type": "code",
      "execution_count": null,
      "metadata": {
        "id": "8AIs9cEARFdc"
      },
      "outputs": [],
      "source": [
        "def finite_term(qnode, params, i, j):\n",
        "    \n",
        "    eps = 0.01\n",
        "\n",
        "    shifted = params.copy()\n",
        "    \n",
        "    shifted[i, j] += eps\n",
        "    forward = qnode(shifted)  # forward evaluation\n",
        "\n",
        "    shifted[i, j] -= 2*eps\n",
        "    backward = qnode(shifted) # backward evaluation\n",
        "\n",
        "    return (1/(2*eps)) * (forward - backward)\n",
        "\n",
        "def finite_difference(qnode, params):\n",
        "    gradients = np.zeros_like((params))\n",
        "    for i in range(len(gradients)):\n",
        "        for j in range(len(gradients[0])):\n",
        "            gradients[i, j] += finite_term(qnode, params, i, j)\n",
        "\n",
        "    return gradients"
      ]
    },
    {
      "cell_type": "markdown",
      "metadata": {
        "id": "DW_LwXFpo4Is"
      },
      "source": [
        "### Linear combination of unitaries (LCU)"
      ]
    },
    {
      "cell_type": "code",
      "execution_count": null,
      "metadata": {
        "id": "BMdOyFCWGjJR"
      },
      "outputs": [],
      "source": [
        "param_gates = ['RX', 'RY', 'RZ']\n",
        "\n",
        "def lcu_term(ansatz, params, wires, diff_index, num_wires, num_layers):\n",
        "  qml.Hadamard(wires=num_wires)\n",
        "  break_point = len(ansatz)//num_layers\n",
        "  qml.adjoint(qml.S)(wires=num_wires)\n",
        "\n",
        "  counting = 0\n",
        "  for i, gate in enumerate(ansatz):\n",
        "    \n",
        "    if gate in param_gates:\n",
        "      if i == diff_index:\n",
        "        controlStr(gate)(wires=[num_wires, (diff_index//4)%4])\n",
        "      str2gate(gate)(params[counting], wires=wires[i])\n",
        "      counting += 1\n",
        "    else:\n",
        "      str2gate(gate)(wires=wires[i])\n",
        "    if i!=0 and (i+1)%break_point==0:\n",
        "      fully_connected_layer(num_wires)\n",
        "  qml.Hadamard(wires=num_wires)\n",
        "\n",
        "def lcu_gradients(ansatz_label, H, params, device=\"default.qubit\", backend=None, ibmqx_token=None):\n",
        "  num_layers = len(params)\n",
        "  num_wires = len(H.wires)-1\n",
        "  num_param_gates = len(params[0])//num_wires\n",
        "\n",
        "  ansatz = ansatz_label * num_layers * num_wires\n",
        "  \n",
        "  wires = []\n",
        "  for i in range(num_layers):\n",
        "    for j in range(num_wires):\n",
        "      for k in range(4):\n",
        "        wires.append(j)\n",
        "  params = params.flatten()\n",
        "\n",
        "  if device==\"default.qubit\":\n",
        "    dev = qml.device(device, wires=num_wires+1, shots=1024)\n",
        "  else:\n",
        "    dev = qml.device(device, backend=backend, wires=num_wires+1, ibmqx_token=ibmqx_token, shots=1024)\n",
        "  @qml.qnode(dev)\n",
        "  def lcu(ansatz, H, params, wires, diff_index):\n",
        "    \n",
        "    lcu_term(ansatz, params, wires, diff_index, num_wires, num_layers)\n",
        "    \n",
        "    return qml.expval(H)\n",
        "\n",
        "  gradients = []\n",
        "  for i in range(len(ansatz)):\n",
        "    if ansatz[i] in param_gates:\n",
        "      gradients.append(lcu(ansatz, H, params, wires, i))\n",
        "      \n",
        "  return np.array(gradients).reshape(num_layers, -1)"
      ]
    },
    {
      "cell_type": "markdown",
      "metadata": {
        "id": "m5QkBIxFo_20"
      },
      "source": [
        "### Quantum natural gradient (QNG)"
      ]
    },
    {
      "cell_type": "code",
      "execution_count": null,
      "metadata": {
        "id": "dehyg9AOjj79"
      },
      "outputs": [],
      "source": [
        "def quantum_natural_gradient(var, H, cost_function):\n",
        "  num_wires = len(H.wires)\n",
        "  dev = qml.device('default.qubit', wires=num_wires)\n",
        "\n",
        "  @qml.qnode(dev)\n",
        "  def metric_tensor_circuit(var):\n",
        "    for v in var: \n",
        "      ansatz(v, num_wires)\n",
        "    return qml.expval(H)\n",
        "\n",
        "  metric_fn = qml.metric_tensor(metric_tensor_circuit, approx=\"block-diag\", hybrid=False)\n",
        "  grad = parameter_shift(cost_function, var)\n",
        "  grad_flatten = grad.flatten()\n",
        "  metric_tensor = metric_fn(var)\n",
        "  reg = 1e-7\n",
        "  iden = np.identity(len(metric_tensor))*reg\n",
        "  metric_tensor += iden\n",
        "  qng_grad = np.linalg.solve(metric_tensor, grad_flatten)\n",
        "\n",
        "  return qng_grad\n"
      ]
    },
    {
      "cell_type": "markdown",
      "metadata": {
        "id": "dzfWXUeMpEmK"
      },
      "source": [
        "### Quantum newton gradient"
      ]
    },
    {
      "cell_type": "code",
      "execution_count": null,
      "metadata": {
        "id": "9hBnbTl2lnPH"
      },
      "outputs": [],
      "source": [
        "def newton_gradient(cost_function, H, params, reg=2):\n",
        "  num_layers = len(params)\n",
        "  params_ori = params.copy()\n",
        "  params = params.reshape(1,-1)[0]\n",
        "  num_wires = len(H.wires)\n",
        "  dev = qml.device('default.qubit', wires=num_wires)\n",
        "\n",
        "  def ansatz_newton(var, num_wires):\n",
        "    for l in range(num_layers):\n",
        "      for wire in range(num_wires):\n",
        "        qml.Hadamard(wires=wire)\n",
        "        qml.RX(var[0+3*wire + l*3*num_wires], wires=wire)\n",
        "        qml.RY(var[1+3*wire+ l*3*num_wires], wires=wire)\n",
        "        qml.RZ(var[2+3*wire+ l*3*num_wires], wires=wire)\n",
        "      fully_connected_layer(num_wires)\n",
        "\n",
        "  @qml.qnode(dev)\n",
        "  def circuit(var, H):\n",
        "    ansatz_newton(var, num_wires)\n",
        "    return qml.expval(H)\n",
        "    \n",
        "  grad_fn = qml.grad(circuit)\n",
        "  hes_fn = qml.jacobian(grad_fn)\n",
        "  grad = parameter_shift(lambda x: cost_function(x, H), params_ori).flatten()\n",
        "  hessian_matrix = hes_fn(params, H)\n",
        "  iden = np.identity(len(hessian_matrix))*reg\n",
        "  hessian_matrix += iden\n",
        "  \n",
        "  newton_grad = np.linalg.solve(hessian_matrix, grad)\n",
        "\n",
        "  return newton_grad.reshape(num_layers,-1)\n",
        "  "
      ]
    },
    {
      "cell_type": "markdown",
      "metadata": {
        "id": "__wEBgF9oflu"
      },
      "source": [
        "## Continuous-variable"
      ]
    },
    {
      "cell_type": "markdown",
      "metadata": {
        "id": "paYNRIsEoze7"
      },
      "source": [
        "### Parameter shift rule"
      ]
    },
    {
      "cell_type": "code",
      "execution_count": null,
      "metadata": {
        "id": "TWtFpF_iRDdd"
      },
      "outputs": [],
      "source": [
        "# gate_list = ['R', 'S1', 'D1']\n",
        "\n",
        "# def parameter_shift_cv_term(qnode, params, i, j):\n",
        "    \n",
        "#     gate = gate_list[j%len(gate_list)]\n",
        "\n",
        "#     shifted = params.copy()\n",
        "\n",
        "#     if gate == 'R' or gate == 'S2' or gate == 'D2':\n",
        "#       shifted[i, j] += alpha\n",
        "#       forward = qnode(shifted)  # forward evaluation\n",
        "\n",
        "#       shifted[i, j] -= 2*alpha\n",
        "#       backward = qnode(shifted) # backward evaluation\n",
        "\n",
        "#       return (1/2) * (forward - backward)\n",
        "\n",
        "#     elif gate == 'S1':\n",
        "#       shifted[i, j] += s\n",
        "#       forward = qnode(shifted)  # forward evaluation\n",
        "\n",
        "#       shifted[i, j] -= 2*s\n",
        "#       backward = qnode(shifted) # backward evaluation\n",
        "\n",
        "#       return (1/(2*np.sinh(s))) * (forward - backward)\n",
        "    \n",
        "#     elif gate == 'D1':\n",
        "#       shifted[i, j] += s\n",
        "#       forward = qnode(shifted)  # forward evaluation\n",
        "\n",
        "#       shifted[i, j] -= 2*s\n",
        "#       backward = qnode(shifted) # backward evaluation\n",
        "\n",
        "#       return (1/(2*s)) * (forward - backward)\n",
        "\n",
        "# def parameter_shift_cv(qnode, params):\n",
        "#     gradients = np.zeros_like((params))\n",
        "#     for i in range(len(gradients)):\n",
        "#         for j in range(len(gradients[0])):\n",
        "#             gradients[i, j] += parameter_shift_cv_term(qnode, params, i, j)\n",
        "\n",
        "#     return gradients"
      ]
    },
    {
      "cell_type": "markdown",
      "metadata": {
        "id": "BDa9pqIbo1HZ"
      },
      "source": [
        "### Finite difference"
      ]
    },
    {
      "cell_type": "code",
      "execution_count": null,
      "metadata": {
        "id": "0BeJhEzKRFJQ"
      },
      "outputs": [],
      "source": [
        "# def finite_cv_term(qnode, params, i, j):\n",
        "    \n",
        "#     eps = 0.01\n",
        "\n",
        "#     shifted = params.copy()\n",
        "    \n",
        "#     shifted[i, j] += eps\n",
        "#     forward = qnode(shifted)  # forward evaluation\n",
        "\n",
        "#     shifted[i, j] -= 2*eps\n",
        "#     backward = qnode(shifted) # backward evaluation\n",
        "\n",
        "#     return (1/(2*eps)) * (forward - backward)\n",
        "\n",
        "# def finite_difference_cv(qnode, params):\n",
        "#     gradients = np.zeros_like((params))\n",
        "#     for i in range(len(gradients)):\n",
        "#         for j in range(len(gradients[0])):\n",
        "#             gradients[i, j] += finite_cv_term(qnode, params, i, j)\n",
        "\n",
        "#     return gradients"
      ]
    },
    {
      "cell_type": "markdown",
      "metadata": {
        "id": "NWTYpAxymxP5"
      },
      "source": [
        "# **Problem Fomulation** "
      ]
    },
    {
      "cell_type": "markdown",
      "metadata": {
        "id": "0ycfqqLcwi9Y"
      },
      "source": [
        "## Max-Cut"
      ]
    },
    {
      "cell_type": "code",
      "execution_count": null,
      "metadata": {
        "colab": {
          "base_uri": "https://localhost:8080/",
          "height": 248
        },
        "id": "h_A2OYHEnAxJ",
        "outputId": "5dcef215-7f11-429c-fbfc-4064455e8e63"
      },
      "outputs": [
        {
          "output_type": "display_data",
          "data": {
            "text/plain": [
              "<Figure size 432x288 with 1 Axes>"
            ],
            "image/png": "[encoded data removed]"
          },
          "metadata": {}
        }
      ],
      "source": [
        "num_wires = 4  # Number of nodes in graph\n",
        "\n",
        "elist_maxcut = [(0, 1), (0, 2), (0, 3), (1, 2), (2, 3)]\n",
        "colors_maxcut = [\"r\" for node in range(num_wires)]\n",
        "\n",
        "draw_graph(elist_maxcut, colors_maxcut)"
      ]
    },
    {
      "cell_type": "code",
      "execution_count": null,
      "metadata": {
        "colab": {
          "base_uri": "https://localhost:8080/"
        },
        "id": "s8nIxhQgr90x",
        "outputId": "4033dea6-d052-4e8f-fd3c-a577288ec598"
      },
      "outputs": [
        {
          "output_type": "stream",
          "name": "stdout",
          "text": [
            "\\ This file has been generated by DOcplex\n",
            "\\ ENCODING=ISO-8859-1\n",
            "\\Problem name: Max-cut\n",
            "\n",
            "Maximize\n",
            " obj: 3 x_0 + 2 x_1 + 3 x_2 + 2 x_3 + [ - 4 x_0*x_1 - 4 x_0*x_2 - 4 x_0*x_3\n",
            "      - 4 x_1*x_2 - 4 x_2*x_3 ]/2\n",
            "Subject To\n",
            "\n",
            "Bounds\n",
            " 0 <= x_0 <= 1\n",
            " 0 <= x_1 <= 1\n",
            " 0 <= x_2 <= 1\n",
            " 0 <= x_3 <= 1\n",
            "\n",
            "Binaries\n",
            " x_0 x_1 x_2 x_3\n",
            "End\n",
            "\n"
          ]
        }
      ],
      "source": [
        "adjacency_matrix_maxcut = get_adjacency_matrix(elist_maxcut)\n",
        "max_cut = Maxcut(adjacency_matrix_maxcut)\n",
        "qp_maxcut = max_cut.to_quadratic_program()\n",
        "print(qp_maxcut.export_as_lp_string())"
      ]
    },
    {
      "cell_type": "code",
      "execution_count": null,
      "metadata": {
        "colab": {
          "base_uri": "https://localhost:8080/"
        },
        "id": "bJh8meYXu42W",
        "outputId": "958e826e-89ad-4c77-88d8-206d62dda3d3"
      },
      "outputs": [
        {
          "output_type": "stream",
          "name": "stdout",
          "text": [
            "Offset: -2.5 \n",
            "\n",
            "Ising Hamiltonian:\n",
            "\n",
            "  (0.5) [Z2 Z3]\n",
            "+ (0.5) [Z1 Z2]\n",
            "+ (0.5) [Z0 Z3]\n",
            "+ (0.5) [Z0 Z2]\n",
            "+ (0.5) [Z0 Z1]\n"
          ]
        }
      ],
      "source": [
        "qubitOp_maxcut, offset_maxcut = qp_maxcut.to_ising()\n",
        "H_maxcut = hamiltonian_from_qiskit(qubitOp_maxcut)\n",
        "H_maxcut_lcu = hamiltonian_from_qiskit_lcu(qubitOp_maxcut)\n",
        "print(\"Offset:\", offset_maxcut,\"\\n\")\n",
        "print(\"Ising Hamiltonian:\\n\")\n",
        "\n",
        "print(H_maxcut)"
      ]
    },
    {
      "cell_type": "markdown",
      "metadata": {
        "id": "JP7twTOrwsE5"
      },
      "source": [
        "## Clique"
      ]
    },
    {
      "cell_type": "code",
      "execution_count": null,
      "metadata": {
        "colab": {
          "base_uri": "https://localhost:8080/",
          "height": 248
        },
        "id": "wi9JRqMzwrfJ",
        "outputId": "e2c54f21-181f-4add-e2cc-d2820ded9845"
      },
      "outputs": [
        {
          "output_type": "display_data",
          "data": {
            "text/plain": [
              "<Figure size 432x288 with 1 Axes>"
            ],
            "image/png": "[encoded data removed]"
          },
          "metadata": {}
        }
      ],
      "source": [
        "num_wires = 4  # Number of nodes in graph\n",
        "\n",
        "elist_clique = [(0, 1), (0, 2), (0, 3), (2, 3)]\n",
        "colors_clique = [\"r\" for node in range(num_wires)]\n",
        "\n",
        "draw_graph(elist_clique, colors_clique)"
      ]
    },
    {
      "cell_type": "code",
      "execution_count": null,
      "metadata": {
        "colab": {
          "base_uri": "https://localhost:8080/"
        },
        "id": "UKC7ThKa0axi",
        "outputId": "2c9629a3-19f1-4bd1-9e0b-943d9e95c8be"
      },
      "outputs": [
        {
          "output_type": "stream",
          "name": "stdout",
          "text": [
            "\\ This file has been generated by DOcplex\n",
            "\\ ENCODING=ISO-8859-1\n",
            "\\Problem name: Clique\n",
            "\n",
            "Maximize\n",
            " obj: x_0 + x_1 + x_2 + x_3\n",
            "Subject To\n",
            " c0: x_1 + x_2 <= 1\n",
            " c1: x_1 + x_3 <= 1\n",
            "\n",
            "Bounds\n",
            " 0 <= x_0 <= 1\n",
            " 0 <= x_1 <= 1\n",
            " 0 <= x_2 <= 1\n",
            " 0 <= x_3 <= 1\n",
            "\n",
            "Binaries\n",
            " x_0 x_1 x_2 x_3\n",
            "End\n",
            "\n"
          ]
        }
      ],
      "source": [
        "adjacency_matrix_clique = get_adjacency_matrix(elist_clique)\n",
        "clique = Clique(adjacency_matrix_clique)\n",
        "qp_clique = clique.to_quadratic_program()\n",
        "print(qp_clique.export_as_lp_string())"
      ]
    },
    {
      "cell_type": "code",
      "execution_count": null,
      "metadata": {
        "colab": {
          "base_uri": "https://localhost:8080/"
        },
        "id": "T1G00BHZ0jkY",
        "outputId": "983a51db-9cd2-424c-e450-67a6f3477301"
      },
      "outputs": [
        {
          "output_type": "stream",
          "name": "stdout",
          "text": [
            "Offset: 0.5 \n",
            "\n",
            "Ising Hamiltonian:\n",
            "\n",
            "  (-2.0) [Z1]\n",
            "+ (-0.75) [Z3]\n",
            "+ (-0.75) [Z2]\n",
            "+ (0.5) [Z0]\n",
            "+ (1.25) [Z1 Z3]\n",
            "+ (1.25) [Z1 Z2]\n"
          ]
        }
      ],
      "source": [
        "qp2qubo = QuadraticProgramToQubo()\n",
        "qubo_clique = qp2qubo.convert(qp_clique)\n",
        "\n",
        "qubitOp_clique, offset_clique = qubo_clique.to_ising()\n",
        "H_clique = hamiltonian_from_qiskit(qubitOp_clique)\n",
        "H_clique_lcu = hamiltonian_from_qiskit_lcu(qubitOp_clique)\n",
        "\n",
        "print(\"Offset:\", offset_clique,\"\\n\")\n",
        "print(\"Ising Hamiltonian:\\n\")\n",
        "\n",
        "print(H_clique)"
      ]
    },
    {
      "cell_type": "markdown",
      "metadata": {
        "id": "eUxr-XqQ11hl"
      },
      "source": [
        "## Binary Linear Programming"
      ]
    },
    {
      "cell_type": "code",
      "execution_count": null,
      "metadata": {
        "colab": {
          "base_uri": "https://localhost:8080/"
        },
        "id": "7PpGA_sn1By9",
        "outputId": "2f80a120-a561-489e-dd50-a55695b87545"
      },
      "outputs": [
        {
          "output_type": "stream",
          "name": "stdout",
          "text": [
            "\\ This file has been generated by DOcplex\n",
            "\\ ENCODING=ISO-8859-1\n",
            "\\Problem name: docplex model\n",
            "\n",
            "Minimize\n",
            " obj: 195000 x1 + 96000 x2 + 87000 x3 + 120000 x4\n",
            "Subject To\n",
            " c0: x1 + x3 >= 1\n",
            " c1: x2 + x4 >= 1\n",
            "\n",
            "Bounds\n",
            " 0 <= x1 <= 1\n",
            " 0 <= x2 <= 1\n",
            " 0 <= x3 <= 1\n",
            " 0 <= x4 <= 1\n",
            "\n",
            "Binaries\n",
            " x1 x2 x3 x4\n",
            "End\n",
            "\n"
          ]
        }
      ],
      "source": [
        "blp = Model(\"docplex model\")\n",
        "x1 = blp.binary_var(\"x1\")\n",
        "x2 = blp.binary_var(\"x2\")\n",
        "x3 = blp.binary_var(\"x3\")\n",
        "x4 = blp.binary_var(\"x4\")\n",
        "\n",
        "blp.minimize(195000*x1 + 96000*x2 + 87000*x3 + 120000*x4)\n",
        "blp.add_constraint(x1  + x3 >= 1)\n",
        "blp.add_constraint(x2 + x4 >= 1)\n",
        "\n",
        "# load from a Docplex model\n",
        "qp_blp = from_docplex_mp(blp)\n",
        "print(qp_blp.export_as_lp_string())"
      ]
    },
    {
      "cell_type": "code",
      "execution_count": null,
      "metadata": {
        "colab": {
          "base_uri": "https://localhost:8080/"
        },
        "id": "WVT7SBFc2N2c",
        "outputId": "64b779b5-ef0b-4ac7-ee08-cdded20dad76"
      },
      "outputs": [
        {
          "output_type": "stream",
          "name": "stdout",
          "text": [
            "Offset: 498000.5 \n",
            "\n",
            "Ising Hamiltonian:\n",
            "\n",
            "  (27000.25) [Z0]\n",
            "+ (64500.25) [Z3]\n",
            "+ (76500.25) [Z1]\n",
            "+ (81000.25) [Z2]\n",
            "+ (124500.25) [Z1 Z3]\n",
            "+ (124500.25) [Z0 Z2]\n"
          ]
        }
      ],
      "source": [
        "qubo_blp = qp2qubo.convert(qp_blp)\n",
        "\n",
        "qubitOp_blp, offset_blp = qubo_blp.to_ising()\n",
        "H_blp = hamiltonian_from_qiskit(qubitOp_blp)\n",
        "H_blp_lcu = hamiltonian_from_qiskit_lcu(qubitOp_blp)\n",
        "\n",
        "print(\"Offset:\", offset_blp,\"\\n\")\n",
        "print(\"Ising Hamiltonian:\\n\")\n",
        "\n",
        "print(H_blp)"
      ]
    },
    {
      "cell_type": "markdown",
      "metadata": {
        "id": "TagenFKd8Gxu"
      },
      "source": [
        "## Knapsack"
      ]
    },
    {
      "cell_type": "code",
      "execution_count": null,
      "metadata": {
        "colab": {
          "base_uri": "https://localhost:8080/"
        },
        "id": "M5wvhAnO2vAW",
        "outputId": "b749722d-937f-41f6-b3d9-18b4af15b11f"
      },
      "outputs": [
        {
          "output_type": "stream",
          "name": "stdout",
          "text": [
            "\\ This file has been generated by DOcplex\n",
            "\\ ENCODING=ISO-8859-1\n",
            "\\Problem name: Knapsack\n",
            "\n",
            "Maximize\n",
            " obj: 2 x_0 + x_1\n",
            "Subject To\n",
            " c0: x_0 + 2 x_1 <= 3\n",
            "\n",
            "Bounds\n",
            " 0 <= x_0 <= 1\n",
            " 0 <= x_1 <= 1\n",
            "\n",
            "Binaries\n",
            " x_0 x_1\n",
            "End\n",
            "\n"
          ]
        }
      ],
      "source": [
        "weights = [1, 2]\n",
        "profits = [2, 1]\n",
        "max_weight = 3\n",
        "knapsack = Knapsack(profits, weights, max_weight)\n",
        "qp_ks = knapsack.to_quadratic_program()\n",
        "print(qp_ks.export_as_lp_string())"
      ]
    },
    {
      "cell_type": "code",
      "execution_count": null,
      "metadata": {
        "colab": {
          "base_uri": "https://localhost:8080/"
        },
        "id": "8-CP0Veo8Qfq",
        "outputId": "595729e2-72b9-4a32-9c4a-4b3ce85e24a8"
      },
      "outputs": [
        {
          "output_type": "stream",
          "name": "stdout",
          "text": [
            "Offset: 8.5 \n",
            "\n",
            "Ising Hamiltonian:\n",
            "\n",
            "  (0.5) [Z1]\n",
            "+ (1.0) [Z0]\n",
            "+ (2.0) [Z0 Z2]\n",
            "+ (4.0) [Z2 Z3]\n",
            "+ (4.0) [Z1 Z2]\n",
            "+ (4.0) [Z0 Z3]\n",
            "+ (4.0) [Z0 Z1]\n",
            "+ (8.0) [Z1 Z3]\n"
          ]
        }
      ],
      "source": [
        "qubo_ks = qp2qubo.convert(qp_ks)\n",
        "\n",
        "qubitOp_ks, offset_ks = qubo_ks.to_ising()\n",
        "H_ks = hamiltonian_from_qiskit(qubitOp_ks)\n",
        "H_ks_lcu = hamiltonian_from_qiskit_lcu(qubitOp_ks)\n",
        "\n",
        "print(\"Offset:\", offset_ks,\"\\n\")\n",
        "print(\"Ising Hamiltonian:\\n\")\n",
        "\n",
        "print(H_ks)"
      ]
    },
    {
      "cell_type": "markdown",
      "metadata": {
        "id": "7oOYIsk033zu"
      },
      "source": [
        "# **Optimization**"
      ]
    },
    {
      "cell_type": "markdown",
      "metadata": {
        "id": "kqRA7CVVRbzD"
      },
      "source": [
        "## Discrete-variable"
      ]
    },
    {
      "cell_type": "code",
      "execution_count": null,
      "metadata": {
        "id": "cmWZibCLr1-6"
      },
      "outputs": [],
      "source": [
        "# guesting ansatz state\n",
        "\n",
        "ansatz_label = ['H', 'RX', 'RY', 'RZ'] \n",
        "\n",
        "def ansatz(var, num_wires):\n",
        "    for wire in range(num_wires):\n",
        "      qml.Hadamard(wires=wire)\n",
        "      qml.RX(var[0+3*wire], wires=wire)\n",
        "      qml.RY(var[1+3*wire], wires=wire)\n",
        "      qml.RZ(var[2+3*wire], wires=wire)\n",
        "    fully_connected_layer(num_wires)"
      ]
    },
    {
      "cell_type": "code",
      "execution_count": null,
      "metadata": {
        "id": "jz3X0YaN5f65"
      },
      "outputs": [],
      "source": [
        "def cost_function(var, H, device=\"default.qubit\", backend=None, ibmqx_token=None):\n",
        "  num_wires = len(H.wires)\n",
        "\n",
        "  if device==\"default.qubit\":\n",
        "    dev = qml.device(device, wires=num_wires, shots=1024)\n",
        "  else:\n",
        "    dev = qml.device(device, backend=backend, wires=num_wires, ibmqx_token=ibmqx_token, shots=1024)\n",
        "  @qml.qnode(dev)\n",
        "  def circuit(var, H):\n",
        "    for v in var: \n",
        "      ansatz(v, num_wires)\n",
        "    return qml.expval(H)\n",
        "\n",
        "  return circuit(var, H)"
      ]
    },
    {
      "cell_type": "markdown",
      "metadata": {
        "id": "U-Uy87BL98bh"
      },
      "source": [
        "Probability distribution of estimated gate "
      ]
    },
    {
      "cell_type": "code",
      "execution_count": null,
      "metadata": {
        "id": "1tV5rVji9kZv"
      },
      "outputs": [],
      "source": [
        "# prediction circuit\n",
        "def prediction(var, num_param_gates, device=\"default.qubit\", backend=None, ibmqx_token=None):\n",
        "  num_wires = len(var[0])//num_param_gates\n",
        "\n",
        "  if device==\"default.qubit\":\n",
        "    dev = qml.device(device, wires=num_wires, shots=1024)\n",
        "  else:\n",
        "    dev = qml.device(device, backend=backend, wires=num_wires, ibmqx_token=ibmqx_token, shots=1024)\n",
        "  @qml.qnode(dev)\n",
        "  def circuit(var):\n",
        "    for v in var: \n",
        "      ansatz(v, num_wires)\n",
        "    return qml.probs(wires=range(num_wires))  # get prediction probability\n",
        "  \n",
        "  state = circuit(var)\n",
        "  result = np.argmax(state)\n",
        "  return int_to_binary(result, num_wires)[::-1]"
      ]
    },
    {
      "cell_type": "code",
      "execution_count": null,
      "metadata": {
        "id": "d6tRbcsMvM0F"
      },
      "outputs": [],
      "source": [
        "np.random.seed(1)\n",
        "num_layers = 2\n",
        "num_param_gates = 3\n",
        "\n",
        "var_init_maxcut = 0.5*np.random.randn(num_layers, num_param_gates*len(H_maxcut.wires))\n",
        "var_init_clique = 0.5*np.random.randn(num_layers, num_param_gates*len(H_clique.wires))\n",
        "var_init_blp = 0.5*np.random.randn(num_layers, num_param_gates*len(H_blp.wires))\n",
        "var_init_ks = 0.5*np.random.randn(num_layers, num_param_gates*len(H_ks.wires))\n",
        "\n",
        "steps = [2, 4, 6, 8, 10]"
      ]
    },
    {
      "cell_type": "code",
      "execution_count": null,
      "metadata": {
        "colab": {
          "base_uri": "https://localhost:8080/"
        },
        "id": "29C6GDYBvUYp",
        "outputId": "459a47a0-4390-43b2-c754-7f9400cd3576"
      },
      "outputs": [
        {
          "output_type": "stream",
          "name": "stdout",
          "text": [
            "Initial cost:  -1.740234375\n"
          ]
        }
      ],
      "source": [
        "print(\"Initial cost: \", cost_function(var_init_maxcut, H_maxcut)+offset_maxcut)"
      ]
    },
    {
      "cell_type": "code",
      "execution_count": null,
      "metadata": {
        "colab": {
          "base_uri": "https://localhost:8080/"
        },
        "id": "q0a18ZmFIPGh",
        "outputId": "cfb7a690-f3b5-4698-b08e-11b000718c05"
      },
      "outputs": [
        {
          "output_type": "stream",
          "name": "stdout",
          "text": [
            "Prediction:  0000\n"
          ]
        }
      ],
      "source": [
        "print(\"Prediction: \", prediction(var_init_maxcut, num_param_gates))"
      ]
    },
    {
      "cell_type": "markdown",
      "metadata": {
        "id": "7OYcgWKJj3qJ"
      },
      "source": [
        "Function for training optimizer"
      ]
    },
    {
      "cell_type": "code",
      "execution_count": null,
      "metadata": {
        "id": "xwTUGtTVN2dE"
      },
      "outputs": [],
      "source": [
        "def train(cost_fn, grad_fn, epochs, var_init, lr):\n",
        "  lost_list = []\n",
        "  time_list = []\n",
        "\n",
        "  var = var_init.copy()\n",
        "\n",
        "  opt = qml.RMSPropOptimizer(lr)\n",
        "\n",
        "  start = time.time()\n",
        "\n",
        "  for it in range(epochs):# while True:\n",
        "      var, _cost = opt.step_and_cost(cost_fn, var, grad_fn=grad_fn) \n",
        "      lost_list.append(_cost)\n",
        "\n",
        "      if it%10==0:\n",
        "        print(\"Iter: {:5d} | Cost: {:0.11f} \".format(it, _cost))\n",
        "\n",
        "      end = time.time()\n",
        "      t = end - start\n",
        "      time_list.append(t)\n",
        "\n",
        "  return lost_list, time_list, var"
      ]
    },
    {
      "cell_type": "markdown",
      "metadata": {
        "id": "GQ_q_OtUo69M"
      },
      "source": [
        "Varaible List"
      ]
    },
    {
      "cell_type": "code",
      "execution_count": null,
      "metadata": {
        "id": "wFNkMofzoveu"
      },
      "outputs": [],
      "source": [
        "# lost list\n",
        "psl = []\n",
        "fdl = []\n",
        "lcul = []\n",
        "qngl = []\n",
        "qnwl = []\n",
        "\n",
        "# time list\n",
        "pst = []\n",
        "fdt = []\n",
        "lcut = []\n",
        "qngt = []\n",
        "qnwt = []\n",
        "\n",
        "\n",
        "# lost list change num layer\n",
        "pslc = []\n",
        "fdlc = []\n",
        "lculc = []\n",
        "qnglc = []\n",
        "qnwlc = []\n",
        "\n",
        "# time list change num layer\n",
        "pstc = []\n",
        "fdtc = []\n",
        "lcutc = []\n",
        "qngtc = []\n",
        "qnwtc = []"
      ]
    },
    {
      "cell_type": "markdown",
      "metadata": {
        "id": "C9k03eA5-l06"
      },
      "source": [
        "### Parameter Shift Rule"
      ]
    },
    {
      "cell_type": "markdown",
      "metadata": {
        "id": "84GFiSYSLbKU"
      },
      "source": [
        "#### Max-Cut"
      ]
    },
    {
      "cell_type": "code",
      "execution_count": null,
      "metadata": {
        "colab": {
          "base_uri": "https://localhost:8080/"
        },
        "id": "0t_JHnhVvfzR",
        "outputId": "0fe82e06-cc7d-4552-ae56-50031dfb05b8"
      },
      "outputs": [
        {
          "output_type": "stream",
          "name": "stdout",
          "text": [
            "Iter:     0 | Cost: -1.67187500000 \n",
            "Iter:    10 | Cost: -2.93261718750 \n",
            "Iter:    20 | Cost: -3.12988281250 \n",
            "Iter:    30 | Cost: -3.32714843750 \n",
            "Iter:    40 | Cost: -3.48632812500 \n",
            "Iter:    50 | Cost: -3.50292968750 \n",
            "Iter:    60 | Cost: -3.50000000000 \n",
            "Iter:    70 | Cost: -3.53125000000 \n",
            "Iter:    80 | Cost: -3.48339843750 \n",
            "Iter:    90 | Cost: -3.54003906250 \n",
            "Iter:   100 | Cost: -3.49316406250 \n"
          ]
        }
      ],
      "source": [
        "lr = 0.03\n",
        "epochs = 101\n",
        "\n",
        "cost_fn = lambda v: cost_function(v, H_maxcut)+offset_maxcut\n",
        "grad_fn = lambda var: parameter_shift(lambda x: cost_function(x, H_maxcut), var)\n",
        "lost_list, time_list, var = train(cost_fn, grad_fn, epochs, var_init_maxcut, lr)\n",
        "psl.append(lost_list)\n",
        "pst.append(time_list)"
      ]
    },
    {
      "cell_type": "code",
      "execution_count": null,
      "metadata": {
        "colab": {
          "base_uri": "https://localhost:8080/"
        },
        "id": "JkGGtPV0C68a",
        "outputId": "7390def9-6f32-4ad8-e811-57396b60d88f"
      },
      "outputs": [
        {
          "output_type": "stream",
          "name": "stdout",
          "text": [
            "Iter:     0 | Cost: -1.68847656250 \n",
            "Iter:    10 | Cost: -2.93554687500 \n",
            "Iter:     0 | Cost: -2.89648437500 \n",
            "Iter:    10 | Cost: -3.83886718750 \n",
            "Iter:     0 | Cost: -2.51953125000 \n",
            "Iter:    10 | Cost: -3.93261718750 \n",
            "Iter:     0 | Cost: -1.93945312500 \n",
            "Iter:    10 | Cost: -3.95703125000 \n",
            "Iter:     0 | Cost: -2.35156250000 \n",
            "Iter:    10 | Cost: -3.82324218750 \n"
          ]
        }
      ],
      "source": [
        "lr = 0.03\n",
        "epochs = 11\n",
        "\n",
        "np.random.seed(1)\n",
        "num_param_gates = 3\n",
        "\n",
        "temp1 = []\n",
        "temp2 = []\n",
        "for num_layers in steps:\n",
        "  var_init_maxcutc = 0.5*np.random.randn(num_layers, num_param_gates*len(H_maxcut.wires))\n",
        "\n",
        "  cost_fn = lambda v: cost_function(v, H_maxcut)+offset_maxcut\n",
        "  grad_fn = lambda var: parameter_shift(lambda x: cost_function(x, H_maxcut), var)\n",
        "  lost_list, time_list, _ = train(cost_fn, grad_fn, epochs, var_init_maxcutc, lr)\n",
        "  temp1.append(lost_list[-1])\n",
        "  temp2.append(time_list[-1])\n",
        "\n",
        "pslc.append(temp1)\n",
        "pstc.append(temp2)"
      ]
    },
    {
      "cell_type": "markdown",
      "metadata": {
        "id": "avIv6907onIA"
      },
      "source": [
        "#### Clique"
      ]
    },
    {
      "cell_type": "code",
      "execution_count": null,
      "metadata": {
        "id": "VeV657Avomoc",
        "colab": {
          "base_uri": "https://localhost:8080/"
        },
        "outputId": "c45171de-19e6-42d9-e847-ceaa69758cce"
      },
      "outputs": [
        {
          "output_type": "stream",
          "name": "stdout",
          "text": [
            "Iter:     0 | Cost: 0.10400390625 \n",
            "Iter:    10 | Cost: -2.11474609375 \n",
            "Iter:    20 | Cost: -2.33251953125 \n",
            "Iter:    30 | Cost: -2.41894531250 \n",
            "Iter:    40 | Cost: -2.45410156250 \n",
            "Iter:    50 | Cost: -2.53173828125 \n",
            "Iter:    60 | Cost: -2.58789062500 \n",
            "Iter:    70 | Cost: -2.44384765625 \n",
            "Iter:    80 | Cost: -2.51074218750 \n",
            "Iter:    90 | Cost: -2.51757812500 \n",
            "Iter:   100 | Cost: -2.45361328125 \n"
          ]
        }
      ],
      "source": [
        "lr = 0.03\n",
        "epochs = 101\n",
        "\n",
        "cost_fn = lambda v: cost_function(v, H_clique)+offset_clique\n",
        "grad_fn = lambda var: parameter_shift(lambda x: cost_function(x, H_clique), var)\n",
        "lost_list, time_list, _ = train(cost_fn, grad_fn, epochs, var_init_clique, lr)\n",
        "psl.append(lost_list)\n",
        "pst.append(time_list)"
      ]
    },
    {
      "cell_type": "code",
      "execution_count": null,
      "metadata": {
        "id": "1tizbT_CPjbC",
        "colab": {
          "base_uri": "https://localhost:8080/"
        },
        "outputId": "4c89f291-94a0-4e61-bbf8-04b950614849"
      },
      "outputs": [
        {
          "output_type": "stream",
          "name": "stdout",
          "text": [
            "Iter:     0 | Cost: -0.24316406250 \n",
            "Iter:    10 | Cost: -1.97412109375 \n",
            "Iter:     0 | Cost: -0.05957031250 \n",
            "Iter:    10 | Cost: -1.92187500000 \n",
            "Iter:     0 | Cost: 0.14990234375 \n",
            "Iter:    10 | Cost: -2.13574218750 \n",
            "Iter:     0 | Cost: 0.73876953125 \n",
            "Iter:    10 | Cost: -1.86669921875 \n",
            "Iter:     0 | Cost: 0.62744140625 \n",
            "Iter:    10 | Cost: -2.92773437500 \n"
          ]
        }
      ],
      "source": [
        "lr = 0.03\n",
        "epochs = 11\n",
        "\n",
        "np.random.seed(1)\n",
        "num_param_gates = 3\n",
        "\n",
        "temp1 = []\n",
        "temp2 = []\n",
        "for num_layers in steps:\n",
        "  var_init_cliquec = 0.5*np.random.randn(num_layers, num_param_gates*len(H_clique.wires))\n",
        "\n",
        "  cost_fn = lambda v: cost_function(v, H_clique)+offset_clique\n",
        "  grad_fn = lambda var: parameter_shift(lambda x: cost_function(x, H_clique), var)\n",
        "  lost_list, time_list, _ = train(cost_fn, grad_fn, epochs, var_init_cliquec, lr)\n",
        "  temp1.append(lost_list[-1])\n",
        "  temp2.append(time_list[-1])\n",
        "\n",
        "pslc.append(temp1)\n",
        "pstc.append(temp2)"
      ]
    },
    {
      "cell_type": "markdown",
      "metadata": {
        "id": "hU-zm57fpZqa"
      },
      "source": [
        "#### Binary Linear Programming"
      ]
    },
    {
      "cell_type": "code",
      "execution_count": null,
      "metadata": {
        "id": "W8Hast63pcdJ",
        "colab": {
          "base_uri": "https://localhost:8080/"
        },
        "outputId": "aeb72de1-86d2-4e4b-88f5-b0e0a40353fb"
      },
      "outputs": [
        {
          "output_type": "stream",
          "name": "stdout",
          "text": [
            "Iter:     0 | Cost: 667202.15039062500 \n",
            "Iter:    10 | Cost: 386874.23193359375 \n",
            "Iter:    20 | Cost: 306506.92089843750 \n",
            "Iter:    30 | Cost: 265321.37255859375 \n",
            "Iter:    40 | Cost: 213761.73193359375 \n",
            "Iter:    50 | Cost: 187675.78027343750 \n",
            "Iter:    60 | Cost: 184760.74462890625 \n",
            "Iter:    70 | Cost: 183023.43750000000 \n",
            "Iter:    80 | Cost: 183108.39794921875 \n",
            "Iter:    90 | Cost: 183752.93115234375 \n",
            "Iter:   100 | Cost: 183518.55566406250 \n"
          ]
        }
      ],
      "source": [
        "lr = 0.03\n",
        "epochs = 101\n",
        "\n",
        "cost_fn = lambda v: cost_function(v, H_blp)+offset_blp\n",
        "grad_fn = lambda var: parameter_shift(lambda x: cost_function(x, H_blp), var)\n",
        "lost_list, time_list, _ = train(cost_fn, grad_fn, epochs, var_init_blp, lr)\n",
        "psl.append(lost_list)\n",
        "pst.append(time_list)"
      ]
    },
    {
      "cell_type": "code",
      "execution_count": null,
      "metadata": {
        "id": "qs-Bfd4tQGE9",
        "colab": {
          "base_uri": "https://localhost:8080/"
        },
        "outputId": "40cc3829-e315-4da0-e8e8-9f97073203b2"
      },
      "outputs": [
        {
          "output_type": "stream",
          "name": "stdout",
          "text": [
            "Iter:     0 | Cost: 636012.69189453125 \n",
            "Iter:    10 | Cost: 321413.24169921875 \n",
            "Iter:     0 | Cost: 580532.90380859375 \n",
            "Iter:    10 | Cost: 201996.10107421875 \n",
            "Iter:     0 | Cost: 529954.78515625000 \n",
            "Iter:    10 | Cost: 217277.34228515625 \n",
            "Iter:     0 | Cost: 483823.72753906250 \n",
            "Iter:    10 | Cost: 216076.18310546875 \n",
            "Iter:     0 | Cost: 450354.91943359375 \n",
            "Iter:    10 | Cost: 220731.46923828125 \n"
          ]
        }
      ],
      "source": [
        "lr = 0.03\n",
        "epochs = 11\n",
        "\n",
        "np.random.seed(1)\n",
        "num_param_gates = 3\n",
        "\n",
        "temp1 = []\n",
        "temp2 = []\n",
        "for num_layers in steps:\n",
        "  var_init_blpc = 0.5*np.random.randn(num_layers, num_param_gates*len(H_blp.wires))\n",
        "\n",
        "  cost_fn = lambda v: cost_function(v, H_blp)+offset_blp\n",
        "  grad_fn = lambda var: parameter_shift(lambda x: cost_function(x, H_blp), var)\n",
        "  lost_list, time_list, _ = train(cost_fn, grad_fn, epochs, var_init_blpc, lr)\n",
        "  temp1.append(lost_list[-1])\n",
        "  temp2.append(time_list[-1])\n",
        "\n",
        "pslc.append(temp1)\n",
        "pstc.append(temp2)"
      ]
    },
    {
      "cell_type": "markdown",
      "metadata": {
        "id": "jNYQSrLapiIV"
      },
      "source": [
        "#### Knapsack"
      ]
    },
    {
      "cell_type": "code",
      "execution_count": null,
      "metadata": {
        "id": "RpFPvkz-pkzz",
        "colab": {
          "base_uri": "https://localhost:8080/"
        },
        "outputId": "0349a541-982a-4f76-9a9e-922f70d3ec99"
      },
      "outputs": [
        {
          "output_type": "stream",
          "name": "stdout",
          "text": [
            "Iter:     0 | Cost: 27.63867187500 \n",
            "Iter:    10 | Cost: 5.21191406250 \n",
            "Iter:    20 | Cost: 3.44531250000 \n",
            "Iter:    30 | Cost: 0.56933593750 \n",
            "Iter:    40 | Cost: -1.41503906250 \n",
            "Iter:    50 | Cost: -2.54492187500 \n",
            "Iter:    60 | Cost: -3.03125000000 \n",
            "Iter:    70 | Cost: -3.00585937500 \n",
            "Iter:    80 | Cost: -2.99414062500 \n",
            "Iter:    90 | Cost: -2.98242187500 \n",
            "Iter:   100 | Cost: -2.98632812500 \n"
          ]
        }
      ],
      "source": [
        "lr = 0.03\n",
        "epochs = 101\n",
        "\n",
        "cost_fn = lambda v: cost_function(v, H_ks)+offset_ks\n",
        "grad_fn = lambda var: parameter_shift(lambda x: cost_function(x, H_ks), var)\n",
        "lost_list, time_list, _ = train(cost_fn, grad_fn, epochs, var_init_ks, lr)\n",
        "psl.append(lost_list)\n",
        "pst.append(time_list)"
      ]
    },
    {
      "cell_type": "code",
      "execution_count": null,
      "metadata": {
        "colab": {
          "base_uri": "https://localhost:8080/"
        },
        "id": "cqwnUTnVQWHV",
        "outputId": "f31b1d4e-5797-4c4c-dfd8-08f1ae10a1cf"
      },
      "outputs": [
        {
          "output_type": "stream",
          "name": "stdout",
          "text": [
            "Iter:     0 | Cost: 16.14941406250 \n",
            "Iter:    10 | Cost: 2.64648437500 \n",
            "Iter:     0 | Cost: 15.89941406250 \n",
            "Iter:    10 | Cost: -0.96679687500 \n",
            "Iter:     0 | Cost: 6.25390625000 \n",
            "Iter:    10 | Cost: -1.32910156250 \n",
            "Iter:     0 | Cost: 10.93750000000 \n",
            "Iter:    10 | Cost: -2.37304687500 \n",
            "Iter:     0 | Cost: 14.15039062500 \n",
            "Iter:    10 | Cost: -1.60449218750 \n"
          ]
        }
      ],
      "source": [
        "lr = 0.03\n",
        "epochs = 11\n",
        "\n",
        "np.random.seed(1)\n",
        "num_param_gates = 3\n",
        "\n",
        "temp1 = []\n",
        "temp2 = []\n",
        "for num_layers in steps:\n",
        "  var_init_ksc = 0.5*np.random.randn(num_layers, num_param_gates*len(H_ks.wires))\n",
        "\n",
        "  cost_fn = lambda v: cost_function(v, H_ks)+offset_ks\n",
        "  grad_fn = lambda var: parameter_shift(lambda x: cost_function(x, H_ks), var)\n",
        "  lost_list, time_list, _ = train(cost_fn, grad_fn, epochs, var_init_ksc, lr)\n",
        "  temp1.append(lost_list[-1])\n",
        "  temp2.append(time_list[-1])\n",
        "\n",
        "pslc.append(temp1)\n",
        "pstc.append(temp2)"
      ]
    },
    {
      "cell_type": "markdown",
      "metadata": {
        "id": "WTA8kfPKptwn"
      },
      "source": [
        "### Finite Difference"
      ]
    },
    {
      "cell_type": "markdown",
      "metadata": {
        "id": "wF1J0w4OkjWc"
      },
      "source": [
        "#### Max-Cut"
      ]
    },
    {
      "cell_type": "code",
      "execution_count": null,
      "metadata": {
        "colab": {
          "base_uri": "https://localhost:8080/"
        },
        "id": "BR87ifUYRp4l",
        "outputId": "87d00fc0-fc98-4922-f853-2b1fcd06fee1"
      },
      "outputs": [
        {
          "output_type": "stream",
          "name": "stdout",
          "text": [
            "Iter:     0 | Cost: -1.70312500000 \n",
            "Iter:    10 | Cost: -1.91699218750 \n",
            "Iter:    20 | Cost: -1.91796875000 \n",
            "Iter:    30 | Cost: -2.24316406250 \n",
            "Iter:    40 | Cost: -2.38574218750 \n",
            "Iter:    50 | Cost: -2.36718750000 \n",
            "Iter:    60 | Cost: -2.36230468750 \n",
            "Iter:    70 | Cost: -2.51074218750 \n",
            "Iter:    80 | Cost: -2.54589843750 \n",
            "Iter:    90 | Cost: -2.46289062500 \n",
            "Iter:   100 | Cost: -2.51757812500 \n"
          ]
        }
      ],
      "source": [
        "lr = 0.03\n",
        "epochs = 101\n",
        "\n",
        "cost_fn = lambda v: cost_function(v, H_maxcut)+offset_maxcut\n",
        "grad_fn = lambda var: finite_difference(lambda x: cost_function(x, H_maxcut), var)\n",
        "lost_list, time_list, _ = train(cost_fn, grad_fn, epochs, var_init_maxcut, lr)\n",
        "fdl.append(lost_list)\n",
        "fdt.append(time_list)"
      ]
    },
    {
      "cell_type": "code",
      "execution_count": null,
      "metadata": {
        "colab": {
          "base_uri": "https://localhost:8080/"
        },
        "id": "8mTRZkyoQi6b",
        "outputId": "37f3991a-e229-476b-d0fe-4b5aa1969153"
      },
      "outputs": [
        {
          "output_type": "stream",
          "name": "stdout",
          "text": [
            "Iter:     0 | Cost: -1.68847656250 \n",
            "Iter:    10 | Cost: -1.97753906250 \n",
            "Iter:     0 | Cost: -2.89648437500 \n",
            "Iter:    10 | Cost: -3.03027343750 \n",
            "Iter:     0 | Cost: -2.51953125000 \n",
            "Iter:    10 | Cost: -2.83007812500 \n",
            "Iter:     0 | Cost: -1.93945312500 \n",
            "Iter:    10 | Cost: -2.50683593750 \n",
            "Iter:     0 | Cost: -2.35156250000 \n",
            "Iter:    10 | Cost: -2.75097656250 \n"
          ]
        }
      ],
      "source": [
        "lr = 0.03\n",
        "epochs = 11\n",
        "\n",
        "np.random.seed(1)\n",
        "num_param_gates = 3\n",
        "\n",
        "temp1 = []\n",
        "temp2 = []\n",
        "for num_layers in steps:\n",
        "  var_init_maxcutc = 0.5*np.random.randn(num_layers, num_param_gates*len(H_maxcut.wires))\n",
        "\n",
        "  cost_fn = lambda v: cost_function(v, H_maxcut)+offset_maxcut\n",
        "  grad_fn = lambda var: finite_difference(lambda x: cost_function(x, H_maxcut), var)\n",
        "  lost_list, time_list, _ = train(cost_fn, grad_fn, epochs, var_init_maxcutc, lr)\n",
        "  temp1.append(lost_list[-1])\n",
        "  temp2.append(time_list[-1])\n",
        "\n",
        "fdlc.append(temp1)\n",
        "fdtc.append(temp2)"
      ]
    },
    {
      "cell_type": "markdown",
      "metadata": {
        "id": "gpzvRU81ksvP"
      },
      "source": [
        "#### Clique"
      ]
    },
    {
      "cell_type": "code",
      "execution_count": null,
      "metadata": {
        "colab": {
          "base_uri": "https://localhost:8080/"
        },
        "id": "hmcZlYu-kusq",
        "outputId": "7bf3964c-4fca-43c0-9b7a-89ab7ad1432b"
      },
      "outputs": [
        {
          "output_type": "stream",
          "name": "stdout",
          "text": [
            "Iter:     0 | Cost: 0.10400390625 \n",
            "Iter:    10 | Cost: -0.36718750000 \n",
            "Iter:    20 | Cost: -0.64013671875 \n",
            "Iter:    30 | Cost: -0.58740234375 \n",
            "Iter:    40 | Cost: -1.00146484375 \n",
            "Iter:    50 | Cost: -1.16992187500 \n",
            "Iter:    60 | Cost: -1.59375000000 \n",
            "Iter:    70 | Cost: -1.58105468750 \n",
            "Iter:    80 | Cost: -1.94238281250 \n",
            "Iter:    90 | Cost: -1.90527343750 \n",
            "Iter:   100 | Cost: -1.79052734375 \n"
          ]
        }
      ],
      "source": [
        "lr = 0.03\n",
        "epochs = 101\n",
        "\n",
        "cost_fn = lambda v: cost_function(v, H_clique)+offset_clique\n",
        "grad_fn = lambda var: finite_difference(lambda x: cost_function(x, H_clique), var)\n",
        "lost_list, time_list, _ = train(cost_fn, grad_fn, epochs, var_init_clique, lr)\n",
        "fdl.append(lost_list)\n",
        "fdt.append(time_list)"
      ]
    },
    {
      "cell_type": "code",
      "execution_count": null,
      "metadata": {
        "colab": {
          "base_uri": "https://localhost:8080/"
        },
        "id": "A_H9uW-gQut-",
        "outputId": "d325fea6-1edc-4fdc-d5bb-81eb02b123c0"
      },
      "outputs": [
        {
          "output_type": "stream",
          "name": "stdout",
          "text": [
            "Iter:     0 | Cost: -0.24316406250 \n",
            "Iter:    10 | Cost: -0.27880859375 \n",
            "Iter:     0 | Cost: -0.05957031250 \n",
            "Iter:    10 | Cost: -0.24023437500 \n",
            "Iter:     0 | Cost: 0.14990234375 \n",
            "Iter:    10 | Cost: -0.93652343750 \n",
            "Iter:     0 | Cost: 0.73876953125 \n",
            "Iter:    10 | Cost: -0.47509765625 \n",
            "Iter:     0 | Cost: 0.62744140625 \n",
            "Iter:    10 | Cost: -0.84619140625 \n"
          ]
        }
      ],
      "source": [
        "lr = 0.03\n",
        "epochs = 11\n",
        "\n",
        "np.random.seed(1)\n",
        "num_param_gates = 3\n",
        "\n",
        "temp1 = []\n",
        "temp2 = []\n",
        "for num_layers in steps:\n",
        "  var_init_cliquec = 0.5*np.random.randn(num_layers, num_param_gates*len(H_clique.wires))\n",
        "\n",
        "  cost_fn = lambda v: cost_function(v, H_clique)+offset_clique\n",
        "  grad_fn = lambda var: finite_difference(lambda x: cost_function(x, H_clique), var)\n",
        "  lost_list, time_list, _ = train(cost_fn, grad_fn, epochs, var_init_cliquec, lr)\n",
        "  temp1.append(lost_list[-1])\n",
        "  temp2.append(time_list[-1])\n",
        "\n",
        "fdlc.append(temp1)\n",
        "fdtc.append(temp2)"
      ]
    },
    {
      "cell_type": "markdown",
      "metadata": {
        "id": "JUW4-obPk4JG"
      },
      "source": [
        "#### Binary Linear Programming"
      ]
    },
    {
      "cell_type": "code",
      "execution_count": null,
      "metadata": {
        "colab": {
          "base_uri": "https://localhost:8080/"
        },
        "id": "ulpG-fsHk7EB",
        "outputId": "62df181f-ac91-4bd9-e5c5-79922a763970"
      },
      "outputs": [
        {
          "output_type": "stream",
          "name": "stdout",
          "text": [
            "Iter:     0 | Cost: 667202.15039062500 \n",
            "Iter:    10 | Cost: 618320.13085937500 \n",
            "Iter:    20 | Cost: 537003.46679687500 \n",
            "Iter:    30 | Cost: 533684.12255859375 \n",
            "Iter:    40 | Cost: 538131.39941406250 \n",
            "Iter:    50 | Cost: 509165.46386718750 \n",
            "Iter:    60 | Cost: 491587.30029296875 \n",
            "Iter:    70 | Cost: 446968.02197265625 \n",
            "Iter:    80 | Cost: 404616.34277343750 \n",
            "Iter:    90 | Cost: 393506.92382812500 \n",
            "Iter:   100 | Cost: 399255.01513671875 \n"
          ]
        }
      ],
      "source": [
        "lr = 0.03\n",
        "epochs = 101\n",
        "\n",
        "cost_fn = lambda v: cost_function(v, H_blp)+offset_blp\n",
        "grad_fn = lambda var: finite_difference(lambda x: cost_function(x, H_blp), var)\n",
        "lost_list, time_list, _ = train(cost_fn, grad_fn, epochs, var_init_blp, lr)\n",
        "fdl.append(lost_list)\n",
        "fdt.append(time_list)"
      ]
    },
    {
      "cell_type": "code",
      "execution_count": null,
      "metadata": {
        "colab": {
          "base_uri": "https://localhost:8080/"
        },
        "id": "8I6I0lyxQySF",
        "outputId": "be83307d-4bcc-4c1e-8934-6002a58804a8"
      },
      "outputs": [
        {
          "output_type": "stream",
          "name": "stdout",
          "text": [
            "Iter:     0 | Cost: 636012.69189453125 \n",
            "Iter:    10 | Cost: 538486.00439453125 \n",
            "Iter:     0 | Cost: 580532.90380859375 \n",
            "Iter:    10 | Cost: 429184.94628906250 \n",
            "Iter:     0 | Cost: 529954.78515625000 \n",
            "Iter:    10 | Cost: 434165.44824218750 \n",
            "Iter:     0 | Cost: 483823.72753906250 \n",
            "Iter:    10 | Cost: 443358.69677734375 \n",
            "Iter:     0 | Cost: 450354.91943359375 \n",
            "Iter:    10 | Cost: 373224.80419921875 \n"
          ]
        }
      ],
      "source": [
        "lr = 0.03\n",
        "epochs = 11\n",
        "\n",
        "np.random.seed(1)\n",
        "num_param_gates = 3\n",
        "\n",
        "temp1 = []\n",
        "temp2 = []\n",
        "for num_layers in steps:\n",
        "  var_init_blpc = 0.5*np.random.randn(num_layers, num_param_gates*len(H_blp.wires))\n",
        "\n",
        "  cost_fn = lambda v: cost_function(v, H_blp)+offset_blp\n",
        "  grad_fn = lambda var: finite_difference(lambda x: cost_function(x, H_blp), var)\n",
        "  lost_list, time_list, _ = train(cost_fn, grad_fn, epochs, var_init_blpc, lr)\n",
        "  temp1.append(lost_list[-1])\n",
        "  temp2.append(time_list[-1])\n",
        "\n",
        "fdlc.append(temp1)\n",
        "fdtc.append(temp2)"
      ]
    },
    {
      "cell_type": "markdown",
      "metadata": {
        "id": "Z5p2xwXnlFnF"
      },
      "source": [
        "#### Knapsack"
      ]
    },
    {
      "cell_type": "code",
      "execution_count": null,
      "metadata": {
        "colab": {
          "base_uri": "https://localhost:8080/"
        },
        "id": "-N9wwo1ulH_T",
        "outputId": "3fdfa405-28d6-4bbf-e763-6b5ca2b5f8f2"
      },
      "outputs": [
        {
          "output_type": "stream",
          "name": "stdout",
          "text": [
            "Iter:     0 | Cost: 27.63867187500 \n",
            "Iter:    10 | Cost: 20.09960937500 \n",
            "Iter:    20 | Cost: 19.12890625000 \n",
            "Iter:    30 | Cost: 12.71679687500 \n",
            "Iter:    40 | Cost: 9.85058593750 \n",
            "Iter:    50 | Cost: 8.40527343750 \n",
            "Iter:    60 | Cost: 7.40820312500 \n",
            "Iter:    70 | Cost: 7.14648437500 \n",
            "Iter:    80 | Cost: 6.17968750000 \n",
            "Iter:    90 | Cost: 6.57812500000 \n",
            "Iter:   100 | Cost: 4.95019531250 \n"
          ]
        }
      ],
      "source": [
        "lr = 0.03\n",
        "epochs = 101\n",
        "\n",
        "cost_fn = lambda v: cost_function(v, H_ks)+offset_ks\n",
        "grad_fn = lambda var: finite_difference(lambda x: cost_function(x, H_ks), var)\n",
        "lost_list, time_list, _ = train(cost_fn, grad_fn, epochs, var_init_ks, lr)\n",
        "fdl.append(lost_list)\n",
        "fdt.append(time_list)"
      ]
    },
    {
      "cell_type": "code",
      "execution_count": null,
      "metadata": {
        "colab": {
          "base_uri": "https://localhost:8080/"
        },
        "id": "UMY1jsEIQ2bN",
        "outputId": "63b1dc49-c7d0-4366-84b1-f11ae4e29b50"
      },
      "outputs": [
        {
          "output_type": "stream",
          "name": "stdout",
          "text": [
            "Iter:     0 | Cost: 16.14941406250 \n",
            "Iter:    10 | Cost: 9.73144531250 \n",
            "Iter:     0 | Cost: 15.89941406250 \n",
            "Iter:    10 | Cost: 10.77050781250 \n",
            "Iter:     0 | Cost: 6.25390625000 \n",
            "Iter:    10 | Cost: 6.70800781250 \n",
            "Iter:     0 | Cost: 10.93750000000 \n",
            "Iter:    10 | Cost: 3.61816406250 \n",
            "Iter:     0 | Cost: 14.15039062500 \n",
            "Iter:    10 | Cost: 3.52343750000 \n"
          ]
        }
      ],
      "source": [
        "lr = 0.03\n",
        "epochs = 11\n",
        "\n",
        "np.random.seed(1)\n",
        "num_param_gates = 3\n",
        "\n",
        "temp1 = []\n",
        "temp2 = []\n",
        "for num_layers in steps:\n",
        "  var_init_ksc = 0.5*np.random.randn(num_layers, num_param_gates*len(H_ks.wires))\n",
        "\n",
        "  cost_fn = lambda v: cost_function(v, H_ks)+offset_ks\n",
        "  grad_fn = lambda var: finite_difference(lambda x: cost_function(x, H_ks), var)\n",
        "  lost_list, time_list, _ = train(cost_fn, grad_fn, epochs, var_init_ksc, lr)\n",
        "  temp1.append(lost_list[-1])\n",
        "  temp2.append(time_list[-1])\n",
        "\n",
        "fdlc.append(temp1)\n",
        "fdtc.append(temp2)"
      ]
    },
    {
      "cell_type": "markdown",
      "metadata": {
        "id": "tt55-uJCpxOI"
      },
      "source": [
        "### Linear combination of unitaries (LCU)"
      ]
    },
    {
      "cell_type": "markdown",
      "metadata": {
        "id": "7B1M8jDulYLC"
      },
      "source": [
        "#### Max-Cut"
      ]
    },
    {
      "cell_type": "code",
      "execution_count": null,
      "metadata": {
        "colab": {
          "base_uri": "https://localhost:8080/"
        },
        "id": "PMOs2ipQlVj9",
        "outputId": "d9d003ff-e04a-467d-956f-20bc8f0b0449"
      },
      "outputs": [
        {
          "output_type": "stream",
          "name": "stdout",
          "text": [
            "Iter:     0 | Cost: -1.73632812500 \n",
            "Iter:    10 | Cost: -2.89257812500 \n",
            "Iter:    20 | Cost: -3.12695312500 \n",
            "Iter:    30 | Cost: -3.28320312500 \n",
            "Iter:    40 | Cost: -3.46191406250 \n",
            "Iter:    50 | Cost: -3.47265625000 \n",
            "Iter:    60 | Cost: -3.54687500000 \n",
            "Iter:    70 | Cost: -3.49121093750 \n",
            "Iter:    80 | Cost: -3.47949218750 \n",
            "Iter:    90 | Cost: -3.45800781250 \n",
            "Iter:   100 | Cost: -3.46777343750 \n"
          ]
        }
      ],
      "source": [
        "lr = 0.03\n",
        "epochs = 101\n",
        "\n",
        "cost_fn = lambda v: cost_function(v, H_maxcut)+offset_maxcut\n",
        "grad_fn = lambda var: lcu_gradients(ansatz_label, H_maxcut_lcu, var)\n",
        "lost_list, time_list, _ = train(cost_fn, grad_fn, epochs, var_init_maxcut, lr)\n",
        "lcul.append(lost_list)\n",
        "lcut.append(time_list)"
      ]
    },
    {
      "cell_type": "code",
      "execution_count": null,
      "metadata": {
        "colab": {
          "base_uri": "https://localhost:8080/"
        },
        "id": "_QESdtgSRMZD",
        "outputId": "9ab6a6df-c946-4aa8-c388-d1e5bbf1cf1d"
      },
      "outputs": [
        {
          "output_type": "stream",
          "name": "stdout",
          "text": [
            "Iter:     0 | Cost: -1.72753906250 \n",
            "Iter:    10 | Cost: -2.94238281250 \n",
            "Iter:     0 | Cost: -1.59667968750 \n",
            "Iter:    10 | Cost: -3.47949218750 \n",
            "Iter:     0 | Cost: -2.60351562500 \n",
            "Iter:    10 | Cost: -3.93554687500 \n",
            "Iter:     0 | Cost: -2.27441406250 \n",
            "Iter:    10 | Cost: -3.96386718750 \n",
            "Iter:     0 | Cost: -2.16503906250 \n",
            "Iter:    10 | Cost: -3.73925781250 \n"
          ]
        }
      ],
      "source": [
        "lr = 0.03\n",
        "epochs = 11\n",
        "\n",
        "np.random.seed(1)\n",
        "num_param_gates = 3\n",
        "\n",
        "temp1 = []\n",
        "temp2 = []\n",
        "for num_layers in steps:\n",
        "  var_init_maxcutc = 0.5*np.random.randn(num_layers, num_param_gates*len(H_maxcut.wires))\n",
        "  cost_fn = lambda v: cost_function(v, H_maxcut)+offset_maxcut\n",
        "  grad_fn = lambda var: lcu_gradients(ansatz_label, H_maxcut_lcu, var)\n",
        "  lost_list, time_list, _ = train(cost_fn, grad_fn, epochs, var_init_maxcutc, lr)\n",
        "  temp1.append(lost_list[-1])\n",
        "  temp2.append(time_list[-1])\n",
        "\n",
        "lculc.append(temp1)\n",
        "lcutc.append(temp2)"
      ]
    },
    {
      "cell_type": "markdown",
      "metadata": {
        "id": "hhjUeup7qtTd"
      },
      "source": [
        "#### Clique"
      ]
    },
    {
      "cell_type": "code",
      "execution_count": null,
      "metadata": {
        "colab": {
          "base_uri": "https://localhost:8080/"
        },
        "id": "W_25lqQEqsvF",
        "outputId": "9742ca06-72aa-44f1-f713-97e1f9dcdd29"
      },
      "outputs": [
        {
          "output_type": "stream",
          "name": "stdout",
          "text": [
            "Iter:     0 | Cost: 0.12597656250 \n",
            "Iter:    10 | Cost: -1.99462890625 \n",
            "Iter:    20 | Cost: -2.21582031250 \n",
            "Iter:    30 | Cost: -2.40576171875 \n",
            "Iter:    40 | Cost: -2.43261718750 \n",
            "Iter:    50 | Cost: -2.40966796875 \n",
            "Iter:    60 | Cost: -2.47070312500 \n",
            "Iter:    70 | Cost: -2.51953125000 \n",
            "Iter:    80 | Cost: -2.51757812500 \n",
            "Iter:    90 | Cost: -2.51708984375 \n",
            "Iter:   100 | Cost: -2.53564453125 \n"
          ]
        }
      ],
      "source": [
        "lr = 0.03\n",
        "epochs = 101\n",
        "\n",
        "cost_fn = lambda v: cost_function(v, H_clique)+offset_clique\n",
        "grad_fn = lambda var: lcu_gradients(ansatz_label, H_clique_lcu, var)\n",
        "lost_list, time_list, _ = train(cost_fn, grad_fn, epochs, var_init_clique, lr)\n",
        "lcul.append(lost_list)\n",
        "lcut.append(time_list)"
      ]
    },
    {
      "cell_type": "code",
      "execution_count": null,
      "metadata": {
        "colab": {
          "base_uri": "https://localhost:8080/"
        },
        "id": "5Jq5YIi0Rasa",
        "outputId": "04034e1f-711b-42e9-82e8-ab8638229f31"
      },
      "outputs": [
        {
          "output_type": "stream",
          "name": "stdout",
          "text": [
            "Iter:     0 | Cost: -0.30566406250 \n",
            "Iter:    10 | Cost: -1.87011718750 \n",
            "Iter:     0 | Cost: 0.75781250000 \n",
            "Iter:    10 | Cost: -2.64355468750 \n",
            "Iter:     0 | Cost: -0.42480468750 \n",
            "Iter:    10 | Cost: -2.56982421875 \n",
            "Iter:     0 | Cost: -0.12158203125 \n",
            "Iter:    10 | Cost: -2.75830078125 \n",
            "Iter:     0 | Cost: 0.72021484375 \n",
            "Iter:    10 | Cost: -2.69433593750 \n"
          ]
        }
      ],
      "source": [
        "lr = 0.03\n",
        "epochs = 11\n",
        "\n",
        "np.random.seed(1)\n",
        "num_param_gates = 3\n",
        "\n",
        "temp1 = []\n",
        "temp2 = []\n",
        "for num_layers in steps:\n",
        "  var_init_cliquec = 0.5*np.random.randn(num_layers, num_param_gates*len(H_clique.wires))\n",
        "\n",
        "  cost_fn = lambda v: cost_function(v, H_clique)+offset_clique\n",
        "  grad_fn = lambda var: lcu_gradients(ansatz_label, H_clique_lcu, var)\n",
        "  lost_list, time_list, _ = train(cost_fn, grad_fn, epochs, var_init_cliquec, lr)\n",
        "  temp1.append(lost_list[-1])\n",
        "  temp2.append(time_list[-1])\n",
        "\n",
        "lculc.append(temp1)\n",
        "lcutc.append(temp2)"
      ]
    },
    {
      "cell_type": "markdown",
      "metadata": {
        "id": "2oG0Eh7hq6oL"
      },
      "source": [
        "#### Binary Linear Programming"
      ]
    },
    {
      "cell_type": "code",
      "execution_count": null,
      "metadata": {
        "colab": {
          "base_uri": "https://localhost:8080/"
        },
        "id": "Q071KedTq6NV",
        "outputId": "55681da6-6550-4c2f-f5eb-8d0c614c4ed4"
      },
      "outputs": [
        {
          "output_type": "stream",
          "name": "stdout",
          "text": [
            "Iter:     0 | Cost: 666809.57470703125 \n",
            "Iter:    10 | Cost: 381647.65576171875 \n",
            "Iter:    20 | Cost: 312753.00390625000 \n",
            "Iter:    30 | Cost: 263698.29101562500 \n",
            "Iter:    40 | Cost: 217330.09228515625 \n",
            "Iter:    50 | Cost: 192041.01562500000 \n",
            "Iter:    60 | Cost: 188340.83251953125 \n",
            "Iter:    70 | Cost: 184734.37695312500 \n",
            "Iter:    80 | Cost: 183726.56201171875 \n",
            "Iter:    90 | Cost: 183802.73632812500 \n",
            "Iter:   100 | Cost: 184620.12207031250 \n"
          ]
        }
      ],
      "source": [
        "lr = 0.03\n",
        "epochs = 101\n",
        "\n",
        "cost_fn = lambda v: cost_function(v, H_blp)+offset_blp\n",
        "grad_fn = lambda var: lcu_gradients(ansatz_label, H_blp_lcu, var)\n",
        "lost_list, time_list, _ = train(cost_fn, grad_fn, epochs, var_init_blp, lr)\n",
        "lcul.append(lost_list)\n",
        "lcut.append(time_list)"
      ]
    },
    {
      "cell_type": "code",
      "execution_count": null,
      "metadata": {
        "colab": {
          "base_uri": "https://localhost:8080/"
        },
        "id": "AL6VYvCHReKe",
        "outputId": "a5cfa272-a813-4551-c579-c32a59bf9520"
      },
      "outputs": [
        {
          "output_type": "stream",
          "name": "stdout",
          "text": [
            "Iter:     0 | Cost: 625556.61230468750 \n",
            "Iter:    10 | Cost: 312694.47412109375 \n",
            "Iter:     0 | Cost: 572127.64648437500 \n",
            "Iter:    10 | Cost: 300178.73095703125 \n",
            "Iter:     0 | Cost: 397046.12841796875 \n",
            "Iter:    10 | Cost: 226869.15625000000 \n",
            "Iter:     0 | Cost: 481945.73242187500 \n",
            "Iter:    10 | Cost: 207172.87255859375 \n",
            "Iter:     0 | Cost: 510835.49902343750 \n",
            "Iter:    10 | Cost: 200586.91015625000 \n"
          ]
        }
      ],
      "source": [
        "lr = 0.03\n",
        "epochs = 11\n",
        "\n",
        "np.random.seed(1)\n",
        "num_param_gates = 3\n",
        "\n",
        "temp1 = []\n",
        "temp2 = []\n",
        "for num_layers in steps:\n",
        "  var_init_blpc = 0.5*np.random.randn(num_layers, num_param_gates*len(H_blp.wires))\n",
        "\n",
        "  cost_fn = lambda v: cost_function(v, H_blp)+offset_blp\n",
        "  grad_fn = lambda var: lcu_gradients(ansatz_label, H_blp_lcu, var)\n",
        "  lost_list, time_list, _ = train(cost_fn, grad_fn, epochs, var_init_blpc, lr)\n",
        "  temp1.append(lost_list[-1])\n",
        "  temp2.append(time_list[-1])\n",
        "\n",
        "lculc.append(temp1)\n",
        "lcutc.append(temp2)"
      ]
    },
    {
      "cell_type": "markdown",
      "metadata": {
        "id": "aAA1jwFFrJb-"
      },
      "source": [
        "#### Knapsack"
      ]
    },
    {
      "cell_type": "code",
      "execution_count": null,
      "metadata": {
        "colab": {
          "base_uri": "https://localhost:8080/"
        },
        "id": "uXPpC2UErIsg",
        "outputId": "88732c84-1e50-4fe4-f94a-70f8cf954b80"
      },
      "outputs": [
        {
          "output_type": "stream",
          "name": "stdout",
          "text": [
            "Iter:     0 | Cost: 27.49121093750 \n",
            "Iter:    10 | Cost: 5.92773437500 \n",
            "Iter:    20 | Cost: 3.05468750000 \n",
            "Iter:    30 | Cost: 1.68945312500 \n",
            "Iter:    40 | Cost: -1.38867187500 \n",
            "Iter:    50 | Cost: -2.64843750000 \n",
            "Iter:    60 | Cost: -2.91992187500 \n",
            "Iter:    70 | Cost: -3.02832031250 \n",
            "Iter:    80 | Cost: -2.95898437500 \n",
            "Iter:    90 | Cost: -3.00488281250 \n",
            "Iter:   100 | Cost: -3.02441406250 \n"
          ]
        }
      ],
      "source": [
        "lr = 0.03\n",
        "epochs = 101\n",
        "\n",
        "cost_fn = lambda v: cost_function(v, H_ks)+offset_ks\n",
        "grad_fn = lambda var: lcu_gradients(ansatz_label, H_ks_lcu, var)\n",
        "lost_list, time_list, _ = train(cost_fn, grad_fn, epochs, var_init_ks, lr)\n",
        "lcul.append(lost_list)\n",
        "lcut.append(time_list)"
      ]
    },
    {
      "cell_type": "code",
      "execution_count": null,
      "metadata": {
        "colab": {
          "base_uri": "https://localhost:8080/"
        },
        "id": "NyXMxu1IRhGc",
        "outputId": "7dc3422f-2a33-4633-e1b8-3f67ff4cf7a2"
      },
      "outputs": [
        {
          "output_type": "stream",
          "name": "stdout",
          "text": [
            "Iter:     0 | Cost: 15.89160156250 \n",
            "Iter:    10 | Cost: 2.38085937500 \n",
            "Iter:     0 | Cost: 12.92480468750 \n",
            "Iter:    10 | Cost: -0.25878906250 \n",
            "Iter:     0 | Cost: 9.74609375000 \n",
            "Iter:    10 | Cost: -2.36132812500 \n",
            "Iter:     0 | Cost: 6.12988281250 \n",
            "Iter:    10 | Cost: -0.32617187500 \n",
            "Iter:     0 | Cost: 12.19628906250 \n",
            "Iter:    10 | Cost: -1.76855468750 \n"
          ]
        }
      ],
      "source": [
        "lr = 0.03\n",
        "epochs = 11\n",
        "\n",
        "np.random.seed(1)\n",
        "num_param_gates = 3\n",
        "\n",
        "temp1 = []\n",
        "temp2 = []\n",
        "for num_layers in steps:\n",
        "  var_init_ksc = 0.5*np.random.randn(num_layers, num_param_gates*len(H_ks.wires))\n",
        "\n",
        "  cost_fn = lambda v: cost_function(v, H_ks)+offset_ks\n",
        "  grad_fn = lambda var: lcu_gradients(ansatz_label, H_ks_lcu, var)\n",
        "  lost_list, time_list, _ = train(cost_fn, grad_fn, epochs, var_init_ksc, lr)\n",
        "  temp1.append(lost_list[-1])\n",
        "  temp2.append(time_list[-1])\n",
        "\n",
        "lculc.append(temp1)\n",
        "lcutc.append(temp2)"
      ]
    },
    {
      "cell_type": "markdown",
      "metadata": {
        "id": "momMWW-lp3Y6"
      },
      "source": [
        "### Quantum natural gradient (QNG)"
      ]
    },
    {
      "cell_type": "markdown",
      "metadata": {
        "id": "p-cJoN4rrfLO"
      },
      "source": [
        "#### Max-Cut"
      ]
    },
    {
      "cell_type": "code",
      "execution_count": null,
      "metadata": {
        "colab": {
          "base_uri": "https://localhost:8080/"
        },
        "id": "HFPVe3SIrhKz",
        "outputId": "ce2d7b6d-a828-475a-e7b6-edca734db3b0"
      },
      "outputs": [
        {
          "output_type": "stream",
          "name": "stdout",
          "text": [
            "Iter:     0 | Cost: -1.71484375000 \n",
            "Iter:    10 | Cost: -2.94238281250 \n",
            "Iter:    20 | Cost: -3.15332031250 \n",
            "Iter:    30 | Cost: -3.41308593750 \n",
            "Iter:    40 | Cost: -3.51464843750 \n",
            "Iter:    50 | Cost: -3.53710937500 \n",
            "Iter:    60 | Cost: -3.51171875000 \n",
            "Iter:    70 | Cost: -3.54296875000 \n",
            "Iter:    80 | Cost: -3.54296875000 \n",
            "Iter:    90 | Cost: -3.50390625000 \n",
            "Iter:   100 | Cost: -3.47167968750 \n"
          ]
        }
      ],
      "source": [
        "lr = 0.03\n",
        "epochs = 101\n",
        "\n",
        "cost_fn = lambda v: cost_function(v, H_maxcut)+offset_maxcut\n",
        "grad_fn = lambda var: quantum_natural_gradient(var, H_maxcut, lambda x: cost_function(x, H_maxcut))\n",
        "lost_list, time_list, var = train(cost_fn, grad_fn, epochs, var_init_maxcut, lr)\n",
        "qngl.append(lost_list)\n",
        "qngt.append(time_list)"
      ]
    },
    {
      "cell_type": "code",
      "execution_count": null,
      "metadata": {
        "colab": {
          "base_uri": "https://localhost:8080/"
        },
        "id": "tezfK0oIRxuc",
        "outputId": "f198dfd1-cca9-4919-fbfd-8b30abfc2a72"
      },
      "outputs": [
        {
          "output_type": "stream",
          "name": "stdout",
          "text": [
            "Iter:     0 | Cost: -1.68847656250 \n",
            "Iter:    10 | Cost: -2.94628906250 \n",
            "Iter:     0 | Cost: -2.89648437500 \n",
            "Iter:    10 | Cost: -3.85156250000 \n",
            "Iter:     0 | Cost: -2.51953125000 \n",
            "Iter:    10 | Cost: -3.92968750000 \n",
            "Iter:     0 | Cost: -1.93945312500 \n",
            "Iter:    10 | Cost: -3.92871093750 \n",
            "Iter:     0 | Cost: -2.35156250000 \n",
            "Iter:    10 | Cost: -3.81933593750 \n"
          ]
        }
      ],
      "source": [
        "lr = 0.03\n",
        "epochs = 11\n",
        "\n",
        "np.random.seed(1)\n",
        "num_param_gates = 3\n",
        "\n",
        "temp1 = []\n",
        "temp2 = []\n",
        "for num_layers in steps:\n",
        "  var_init_maxcutc = 0.5*np.random.randn(num_layers, num_param_gates*len(H_maxcut.wires))\n",
        "\n",
        "  cost_fn = lambda v: cost_function(v, H_maxcut)+offset_maxcut\n",
        "  grad_fn = lambda var: quantum_natural_gradient(var, H_maxcut, lambda x: cost_function(x, H_maxcut))\n",
        "  lost_list, time_list, _ = train(cost_fn, grad_fn, epochs, var_init_maxcutc, lr)\n",
        "  temp1.append(lost_list[-1])\n",
        "  temp2.append(time_list[-1])\n",
        "\n",
        "qnglc.append(temp1)\n",
        "qngtc.append(temp2)"
      ]
    },
    {
      "cell_type": "markdown",
      "metadata": {
        "id": "1KUbQst24ohL"
      },
      "source": [
        "#### Clique"
      ]
    },
    {
      "cell_type": "code",
      "execution_count": null,
      "metadata": {
        "colab": {
          "base_uri": "https://localhost:8080/"
        },
        "id": "VUvvdu-f4oIY",
        "outputId": "86fa38d8-b1ce-4153-eee7-9c42c6987216"
      },
      "outputs": [
        {
          "output_type": "stream",
          "name": "stdout",
          "text": [
            "Iter:     0 | Cost: 0.10400390625 \n",
            "Iter:    10 | Cost: -2.19482421875 \n",
            "Iter:    20 | Cost: -2.37792968750 \n",
            "Iter:    30 | Cost: -2.43603515625 \n",
            "Iter:    40 | Cost: -2.44433593750 \n",
            "Iter:    50 | Cost: -2.53466796875 \n",
            "Iter:    60 | Cost: -2.58203125000 \n",
            "Iter:    70 | Cost: -2.44384765625 \n",
            "Iter:    80 | Cost: -2.50195312500 \n",
            "Iter:    90 | Cost: -2.51562500000 \n",
            "Iter:   100 | Cost: -2.45800781250 \n"
          ]
        }
      ],
      "source": [
        "lr = 0.03\n",
        "epochs = 101\n",
        "\n",
        "cost_fn = lambda v: cost_function(v, H_clique)+offset_clique\n",
        "grad_fn = lambda var: quantum_natural_gradient(var, H_clique, lambda x: cost_function(x, H_clique))\n",
        "lost_list, time_list, var = train(cost_fn, grad_fn, epochs, var_init_clique, lr)\n",
        "qngl.append(lost_list)\n",
        "qngt.append(time_list)"
      ]
    },
    {
      "cell_type": "code",
      "execution_count": null,
      "metadata": {
        "colab": {
          "base_uri": "https://localhost:8080/"
        },
        "id": "Rg_AzVkRSY5v",
        "outputId": "f333ef94-d752-4bb6-f5ac-9733b04a2895"
      },
      "outputs": [
        {
          "output_type": "stream",
          "name": "stdout",
          "text": [
            "Iter:     0 | Cost: -0.24316406250 \n",
            "Iter:    10 | Cost: -1.99267578125 \n",
            "Iter:     0 | Cost: -0.05957031250 \n",
            "Iter:    10 | Cost: -1.92187500000 \n",
            "Iter:     0 | Cost: 0.14990234375 \n",
            "Iter:    10 | Cost: -2.32861328125 \n",
            "Iter:     0 | Cost: 0.73876953125 \n",
            "Iter:    10 | Cost: -1.96337890625 \n",
            "Iter:     0 | Cost: 0.62744140625 \n",
            "Iter:    10 | Cost: -2.88867187500 \n"
          ]
        }
      ],
      "source": [
        "lr = 0.03\n",
        "epochs = 11\n",
        "\n",
        "np.random.seed(1)\n",
        "num_param_gates = 3\n",
        "\n",
        "temp1 = []\n",
        "temp2 = []\n",
        "for num_layers in steps:\n",
        "  var_init_cliquec = 0.5*np.random.randn(num_layers, num_param_gates*len(H_clique.wires))\n",
        "\n",
        "  cost_fn = lambda v: cost_function(v, H_clique)+offset_clique\n",
        "  grad_fn = lambda var: quantum_natural_gradient(var, H_clique, lambda x: cost_function(x, H_clique))\n",
        "  lost_list, time_list, _ = train(cost_fn, grad_fn, epochs, var_init_cliquec, lr)\n",
        "  temp1.append(lost_list[-1])\n",
        "  temp2.append(time_list[-1])\n",
        "\n",
        "qnglc.append(temp1)\n",
        "qngtc.append(temp2)"
      ]
    },
    {
      "cell_type": "markdown",
      "metadata": {
        "id": "qGLNd_8X4ufi"
      },
      "source": [
        "#### Binary Linear Programming"
      ]
    },
    {
      "cell_type": "code",
      "execution_count": null,
      "metadata": {
        "colab": {
          "base_uri": "https://localhost:8080/"
        },
        "id": "iM2b3HOh4xGJ",
        "outputId": "82fee730-6213-42e2-f6ea-7e4ab4aec28c"
      },
      "outputs": [
        {
          "output_type": "stream",
          "name": "stdout",
          "text": [
            "Iter:     0 | Cost: 667202.15039062500 \n",
            "Iter:    10 | Cost: 384902.54736328125 \n",
            "Iter:    20 | Cost: 305112.38769531250 \n",
            "Iter:    30 | Cost: 268013.75976562500 \n",
            "Iter:    40 | Cost: 213073.24951171875 \n",
            "Iter:    50 | Cost: 189899.41601562500 \n",
            "Iter:    60 | Cost: 184760.74462890625 \n",
            "Iter:    70 | Cost: 183023.43750000000 \n",
            "Iter:    80 | Cost: 183108.39794921875 \n",
            "Iter:    90 | Cost: 183752.93115234375 \n",
            "Iter:   100 | Cost: 183518.55566406250 \n"
          ]
        }
      ],
      "source": [
        "lr = 0.03\n",
        "epochs = 101\n",
        "\n",
        "cost_fn = lambda v: cost_function(v, H_blp)+offset_blp\n",
        "grad_fn = lambda var: quantum_natural_gradient(var, H_blp, lambda x: cost_function(x, H_blp))\n",
        "lost_list, time_list, var = train(cost_fn, grad_fn, epochs, var_init_blp, lr)\n",
        "qngl.append(lost_list)\n",
        "qngt.append(time_list)"
      ]
    },
    {
      "cell_type": "code",
      "execution_count": null,
      "metadata": {
        "colab": {
          "base_uri": "https://localhost:8080/"
        },
        "id": "iWyVFZVgScEz",
        "outputId": "128b2f3c-6414-4924-93c6-e19c0df19ca1"
      },
      "outputs": [
        {
          "output_type": "stream",
          "name": "stdout",
          "text": [
            "Iter:     0 | Cost: 636012.69189453125 \n",
            "Iter:    10 | Cost: 315073.38427734375 \n",
            "Iter:     0 | Cost: 580532.90380859375 \n",
            "Iter:    10 | Cost: 201386.72460937500 \n",
            "Iter:     0 | Cost: 529954.78515625000 \n",
            "Iter:    10 | Cost: 215575.19384765625 \n",
            "Iter:     0 | Cost: 483823.72753906250 \n",
            "Iter:    10 | Cost: 216776.38378906250 \n",
            "Iter:     0 | Cost: 450354.91943359375 \n",
            "Iter:    10 | Cost: 206314.44921875000 \n"
          ]
        }
      ],
      "source": [
        "lr = 0.03\n",
        "epochs = 11\n",
        "\n",
        "np.random.seed(1)\n",
        "num_param_gates = 3\n",
        "\n",
        "temp1 = []\n",
        "temp2 = []\n",
        "for num_layers in steps:\n",
        "  var_init_blpc = 0.5*np.random.randn(num_layers, num_param_gates*len(H_blp.wires))\n",
        "\n",
        "  cost_fn = lambda v: cost_function(v, H_blp)+offset_blp\n",
        "  grad_fn = lambda var: quantum_natural_gradient(var, H_blp, lambda x: cost_function(x, H_blp))\n",
        "  lost_list, time_list, _ = train(cost_fn, grad_fn, epochs, var_init_blpc, lr)\n",
        "  temp1.append(lost_list[-1])\n",
        "  temp2.append(time_list[-1])\n",
        "\n",
        "qnglc.append(temp1)\n",
        "qngtc.append(temp2)"
      ]
    },
    {
      "cell_type": "markdown",
      "metadata": {
        "id": "r-78PRRn462g"
      },
      "source": [
        "#### Knapsack"
      ]
    },
    {
      "cell_type": "code",
      "execution_count": null,
      "metadata": {
        "colab": {
          "base_uri": "https://localhost:8080/"
        },
        "id": "8LoQtYT45CsU",
        "outputId": "43514deb-04b8-41b5-a65c-649e324517fc"
      },
      "outputs": [
        {
          "output_type": "stream",
          "name": "stdout",
          "text": [
            "Iter:     0 | Cost: 27.63867187500 \n",
            "Iter:    10 | Cost: 5.16406250000 \n",
            "Iter:    20 | Cost: 3.51660156250 \n",
            "Iter:    30 | Cost: 1.55468750000 \n",
            "Iter:    40 | Cost: -1.30566406250 \n",
            "Iter:    50 | Cost: -2.45019531250 \n",
            "Iter:    60 | Cost: -3.00000000000 \n",
            "Iter:    70 | Cost: -3.00390625000 \n",
            "Iter:    80 | Cost: -2.99414062500 \n",
            "Iter:    90 | Cost: -2.95898437500 \n",
            "Iter:   100 | Cost: -2.98535156250 \n"
          ]
        }
      ],
      "source": [
        "lr = 0.03\n",
        "epochs = 101\n",
        "\n",
        "cost_fn = lambda v: cost_function(v, H_ks)+offset_ks\n",
        "grad_fn = lambda var: quantum_natural_gradient(var, H_ks, lambda x: cost_function(x, H_ks))\n",
        "lost_list, time_list, var = train(cost_fn, grad_fn, epochs, var_init_ks, lr)\n",
        "qngl.append(lost_list)\n",
        "qngt.append(time_list)"
      ]
    },
    {
      "cell_type": "code",
      "execution_count": null,
      "metadata": {
        "colab": {
          "base_uri": "https://localhost:8080/"
        },
        "id": "W5-iCTCUSfd5",
        "outputId": "9e89a2f7-7614-40ca-80fa-fd35e12a9223"
      },
      "outputs": [
        {
          "output_type": "stream",
          "name": "stdout",
          "text": [
            "Iter:     0 | Cost: 16.14941406250 \n",
            "Iter:    10 | Cost: 2.27050781250 \n",
            "Iter:     0 | Cost: 15.89941406250 \n",
            "Iter:    10 | Cost: -1.02050781250 \n",
            "Iter:     0 | Cost: 6.25390625000 \n",
            "Iter:    10 | Cost: -1.74414062500 \n",
            "Iter:     0 | Cost: 10.93750000000 \n",
            "Iter:    10 | Cost: -2.29492187500 \n",
            "Iter:     0 | Cost: 14.15039062500 \n",
            "Iter:    10 | Cost: -1.92285156250 \n"
          ]
        }
      ],
      "source": [
        "lr = 0.03\n",
        "epochs = 11\n",
        "\n",
        "np.random.seed(1)\n",
        "num_param_gates = 3\n",
        "\n",
        "temp1 = []\n",
        "temp2 = []\n",
        "for num_layers in steps:\n",
        "  var_init_ksc = 0.5*np.random.randn(num_layers, num_param_gates*len(H_ks.wires))\n",
        "\n",
        "  cost_fn = lambda v: cost_function(v, H_ks)+offset_ks\n",
        "  grad_fn = lambda var: quantum_natural_gradient(var, H_ks, lambda x: cost_function(x, H_ks))\n",
        "  lost_list, time_list, _ = train(cost_fn, grad_fn, epochs, var_init_ksc, lr)\n",
        "  temp1.append(lost_list[-1])\n",
        "  temp2.append(time_list[-1])\n",
        "\n",
        "qnglc.append(temp1)\n",
        "qngtc.append(temp2)"
      ]
    },
    {
      "cell_type": "markdown",
      "metadata": {
        "id": "e73gqvIqp-1J"
      },
      "source": [
        "### Quantum newton gradient"
      ]
    },
    {
      "cell_type": "markdown",
      "metadata": {
        "id": "pcvKyZjX6UTt"
      },
      "source": [
        "#### Max-Cut"
      ]
    },
    {
      "cell_type": "code",
      "execution_count": null,
      "metadata": {
        "colab": {
          "base_uri": "https://localhost:8080/"
        },
        "id": "5nsuAop45vd4",
        "outputId": "7f825a40-bf0a-4558-dd7b-dd3b183d01a9"
      },
      "outputs": [
        {
          "output_type": "stream",
          "name": "stdout",
          "text": [
            "Iter:     0 | Cost: -1.70312500000 \n",
            "Iter:    10 | Cost: -2.92382812500 \n",
            "Iter:    20 | Cost: -3.31152343750 \n",
            "Iter:    30 | Cost: -3.46972656250 \n",
            "Iter:    40 | Cost: -3.47460937500 \n",
            "Iter:    50 | Cost: -3.46777343750 \n",
            "Iter:    60 | Cost: -3.54589843750 \n",
            "Iter:    70 | Cost: -3.49316406250 \n",
            "Iter:    80 | Cost: -3.57324218750 \n",
            "Iter:    90 | Cost: -3.50878906250 \n",
            "Iter:   100 | Cost: -3.47070312500 \n"
          ]
        }
      ],
      "source": [
        "lr = 0.03\n",
        "epochs = 101\n",
        "\n",
        "cost_fn = lambda v: cost_function(v, H_maxcut)+offset_maxcut\n",
        "grad_fn = lambda var: newton_gradient(cost_function, H_maxcut, var)\n",
        "lost_list, time_list, var = train(cost_fn, grad_fn, epochs, var_init_maxcut, lr)\n",
        "qnwl.append(lost_list)\n",
        "qnwt.append(time_list)"
      ]
    },
    {
      "cell_type": "code",
      "execution_count": null,
      "metadata": {
        "colab": {
          "base_uri": "https://localhost:8080/"
        },
        "id": "cFmG4iZXS0YE",
        "outputId": "277d1ec4-9f25-432a-cb3c-b561c493b537"
      },
      "outputs": [
        {
          "output_type": "stream",
          "name": "stdout",
          "text": [
            "Iter:     0 | Cost: -1.68847656250 \n",
            "Iter:    10 | Cost: -2.99121093750 \n",
            "Iter:     0 | Cost: -2.89648437500 \n",
            "Iter:    10 | Cost: -3.87402343750 \n",
            "Iter:     0 | Cost: -2.51953125000 \n",
            "Iter:    10 | Cost: -3.76562500000 \n",
            "Iter:     0 | Cost: -1.93945312500 \n",
            "Iter:    10 | Cost: -3.80468750000 \n",
            "Iter:     0 | Cost: -2.35156250000 \n",
            "Iter:    10 | Cost: -3.76855468750 \n"
          ]
        }
      ],
      "source": [
        "lr = 0.03\n",
        "epochs = 11\n",
        "\n",
        "np.random.seed(1)\n",
        "num_param_gates = 3\n",
        "\n",
        "temp1 = []\n",
        "temp2 = []\n",
        "for num_layers in steps:\n",
        "  var_init_maxcutc = 0.5*np.random.randn(num_layers, num_param_gates*len(H_maxcut.wires))\n",
        "\n",
        "  cost_fn = lambda v: cost_function(v, H_maxcut)+offset_maxcut\n",
        "  grad_fn = lambda var: newton_gradient(cost_function, H_maxcut, var)\n",
        "  lost_list, time_list, _ = train(cost_fn, grad_fn, epochs, var_init_maxcutc, lr)\n",
        "  temp1.append(lost_list[-1])\n",
        "  temp2.append(time_list[-1])\n",
        "\n",
        "qnwlc.append(temp1)\n",
        "qnwtc.append(temp2)"
      ]
    },
    {
      "cell_type": "markdown",
      "metadata": {
        "id": "_DutEPjw6V4p"
      },
      "source": [
        "#### Clique"
      ]
    },
    {
      "cell_type": "code",
      "execution_count": null,
      "metadata": {
        "colab": {
          "base_uri": "https://localhost:8080/"
        },
        "id": "gRB1HHjY6WU2",
        "outputId": "fb2b2951-7af5-426a-a266-21e6834b2d85"
      },
      "outputs": [
        {
          "output_type": "stream",
          "name": "stdout",
          "text": [
            "Iter:     0 | Cost: 0.10400390625 \n",
            "Iter:    10 | Cost: -1.73730468750 \n",
            "Iter:    20 | Cost: -2.14306640625 \n",
            "Iter:    30 | Cost: -2.34521484375 \n",
            "Iter:    40 | Cost: -2.44042968750 \n",
            "Iter:    50 | Cost: -2.54492187500 \n",
            "Iter:    60 | Cost: -2.60839843750 \n",
            "Iter:    70 | Cost: -2.45019531250 \n",
            "Iter:    80 | Cost: -2.73242187500 \n",
            "Iter:    90 | Cost: -2.94140625000 \n",
            "Iter:   100 | Cost: -2.99462890625 \n"
          ]
        }
      ],
      "source": [
        "lr = 0.03\n",
        "epochs = 101\n",
        "\n",
        "cost_fn = lambda v: cost_function(v, H_clique)+offset_clique\n",
        "grad_fn = lambda var: newton_gradient(cost_function,H_clique, var)\n",
        "lost_list, time_list, var = train(cost_fn, grad_fn, epochs, var_init_clique, lr)\n",
        "qnwl.append(lost_list)\n",
        "qnwt.append(time_list)"
      ]
    },
    {
      "cell_type": "code",
      "execution_count": null,
      "metadata": {
        "colab": {
          "base_uri": "https://localhost:8080/"
        },
        "id": "KPuE4dtyTBcT",
        "outputId": "ca54402d-1591-4ec9-cc96-abc10b8be584"
      },
      "outputs": [
        {
          "output_type": "stream",
          "name": "stdout",
          "text": [
            "Iter:     0 | Cost: -0.24316406250 \n",
            "Iter:    10 | Cost: -1.95410156250 \n",
            "Iter:     0 | Cost: -0.05957031250 \n",
            "Iter:    10 | Cost: -0.18212890625 \n",
            "Iter:     0 | Cost: 0.14990234375 \n",
            "Iter:    10 | Cost: -1.60791015625 \n",
            "Iter:     0 | Cost: 0.73876953125 \n",
            "Iter:    10 | Cost: -1.54687500000 \n",
            "Iter:     0 | Cost: 0.62744140625 \n",
            "Iter:    10 | Cost: -1.26953125000 \n"
          ]
        }
      ],
      "source": [
        "lr = 0.03\n",
        "epochs = 11\n",
        "\n",
        "np.random.seed(1)\n",
        "num_param_gates = 3\n",
        "\n",
        "temp1 = []\n",
        "temp2 = []\n",
        "for num_layers in steps:\n",
        "  var_init_cliquec = 0.5*np.random.randn(num_layers, num_param_gates*len(H_clique.wires))\n",
        "\n",
        "  cost_fn = lambda v: cost_function(v, H_clique)+offset_clique\n",
        "  grad_fn = lambda var: newton_gradient(cost_function, H_clique, var)\n",
        "  lost_list, time_list, _ = train(cost_fn, grad_fn, epochs, var_init_cliquec, lr)\n",
        "  temp1.append(lost_list[-1])\n",
        "  temp2.append(time_list[-1])\n",
        "\n",
        "qnwlc.append(temp1)\n",
        "qnwtc.append(temp2)"
      ]
    },
    {
      "cell_type": "markdown",
      "metadata": {
        "id": "Dn2S2eNJ7yaM"
      },
      "source": [
        "#### Binary Linear Programming"
      ]
    },
    {
      "cell_type": "code",
      "execution_count": null,
      "metadata": {
        "colab": {
          "base_uri": "https://localhost:8080/"
        },
        "id": "c2IPkKez72CA",
        "outputId": "623c31af-bd53-4bbb-9482-8296cfe58dd3"
      },
      "outputs": [
        {
          "output_type": "stream",
          "name": "stdout",
          "text": [
            "Iter:     0 | Cost: 667202.15039062500 \n",
            "Iter:    10 | Cost: 539631.42041015625 \n",
            "Iter:    20 | Cost: 474855.93896484375 \n",
            "Iter:    30 | Cost: 496090.38378906250 \n",
            "Iter:    40 | Cost: 518728.09716796875 \n",
            "Iter:    50 | Cost: 552911.76367187500 \n",
            "Iter:    60 | Cost: 517564.87353515625 \n",
            "Iter:    70 | Cost: 431156.31884765625 \n",
            "Iter:    80 | Cost: 591733.22119140625 \n",
            "Iter:    90 | Cost: 602033.70019531250 \n",
            "Iter:   100 | Cost: 506042.58105468750 \n"
          ]
        }
      ],
      "source": [
        "lr = 1\n",
        "epochs = 101\n",
        "reg = 3.0\n",
        "cost_fn = lambda v: cost_function(v, H_blp)+offset_blp\n",
        "grad_fn = lambda var: newton_gradient(cost_function,H_blp, var, reg)\n",
        "lost_list, time_list, var = train(cost_fn, grad_fn, epochs, var_init_blp, lr)\n",
        "qnwl.append(lost_list)\n",
        "qnwt.append(time_list)"
      ]
    },
    {
      "cell_type": "code",
      "execution_count": null,
      "metadata": {
        "colab": {
          "base_uri": "https://localhost:8080/"
        },
        "id": "jJeMqaqwTGMw",
        "outputId": "e820be72-f261-496c-8318-68c705e1b4fb"
      },
      "outputs": [
        {
          "output_type": "stream",
          "name": "stdout",
          "text": [
            "Iter:     0 | Cost: 636012.69189453125 \n",
            "Iter:    10 | Cost: 692579.15673828125 \n",
            "Iter:     0 | Cost: 580532.90380859375 \n",
            "Iter:    10 | Cost: 583556.28808593750 \n",
            "Iter:     0 | Cost: 529954.78515625000 \n",
            "Iter:    10 | Cost: 495888.23388671875 \n",
            "Iter:     0 | Cost: 483823.72753906250 \n",
            "Iter:    10 | Cost: 441770.81689453125 \n",
            "Iter:     0 | Cost: 450354.91943359375 \n",
            "Iter:    10 | Cost: 448512.16992187500 \n"
          ]
        }
      ],
      "source": [
        "lr = 1\n",
        "epochs = 11\n",
        "reg = 3.0\n",
        "np.random.seed(1)\n",
        "num_param_gates = 3\n",
        "\n",
        "temp1 = []\n",
        "temp2 = []\n",
        "for num_layers in steps:\n",
        "  var_init_blpc = 0.5*np.random.randn(num_layers, num_param_gates*len(H_blp.wires))\n",
        "\n",
        "  cost_fn = lambda v: cost_function(v, H_blp)+offset_blp\n",
        "  grad_fn = lambda var: newton_gradient(cost_function, H_blp, var, reg)\n",
        "  lost_list, time_list, _ = train(cost_fn, grad_fn, epochs, var_init_blpc, lr)\n",
        "  temp1.append(min(lost_list))\n",
        "  temp2.append(time_list[-1])\n",
        "\n",
        "qnwlc.append(temp1)\n",
        "qnwtc.append(temp2)"
      ]
    },
    {
      "cell_type": "markdown",
      "metadata": {
        "id": "F4FnnJbM8Xvu"
      },
      "source": [
        "#### Knapsack"
      ]
    },
    {
      "cell_type": "code",
      "execution_count": null,
      "metadata": {
        "colab": {
          "base_uri": "https://localhost:8080/"
        },
        "id": "AYEr8HSH8Wny",
        "outputId": "5c2aaf7c-7ccd-4336-de41-39628cac1794"
      },
      "outputs": [
        {
          "output_type": "stream",
          "name": "stdout",
          "text": [
            "Iter:     0 | Cost: 27.63867187500 \n",
            "Iter:    10 | Cost: 2.70996093750 \n",
            "Iter:    20 | Cost: 2.54687500000 \n",
            "Iter:    30 | Cost: -2.44921875000 \n",
            "Iter:    40 | Cost: -0.95703125000 \n",
            "Iter:    50 | Cost: 0.06835937500 \n",
            "Iter:    60 | Cost: -2.94531250000 \n",
            "Iter:    70 | Cost: -1.92871093750 \n",
            "Iter:    80 | Cost: 5.92187500000 \n",
            "Iter:    90 | Cost: -2.95898437500 \n",
            "Iter:   100 | Cost: -2.77441406250 \n"
          ]
        }
      ],
      "source": [
        "lr = 1\n",
        "epochs = 101\n",
        "reg = 3.2\n",
        "cost_fn = lambda v: cost_function(v, H_ks)+offset_ks\n",
        "grad_fn = lambda var: newton_gradient(cost_function,H_ks, var, reg)\n",
        "lost_list, time_list, var = train(cost_fn, grad_fn, epochs, var_init_ks, lr)\n",
        "qnwl.append(lost_list)\n",
        "qnwt.append(time_list)"
      ]
    },
    {
      "cell_type": "code",
      "execution_count": null,
      "metadata": {
        "colab": {
          "base_uri": "https://localhost:8080/"
        },
        "id": "u-gME3g0TMuP",
        "outputId": "16ff2675-c446-4a0c-f09d-5572985576fe"
      },
      "outputs": [
        {
          "output_type": "stream",
          "name": "stdout",
          "text": [
            "Iter:     0 | Cost: 16.14941406250 \n",
            "Iter:    10 | Cost: 2.45605468750 \n",
            "Iter:     0 | Cost: 15.89941406250 \n",
            "Iter:    10 | Cost: 5.67480468750 \n",
            "Iter:     0 | Cost: 6.25390625000 \n",
            "Iter:    10 | Cost: 5.39941406250 \n",
            "Iter:     0 | Cost: 10.93750000000 \n",
            "Iter:    10 | Cost: 1.36328125000 \n",
            "Iter:     0 | Cost: 14.15039062500 \n",
            "Iter:    10 | Cost: 5.96875000000 \n"
          ]
        }
      ],
      "source": [
        "lr = 1\n",
        "epochs = 11\n",
        "reg = 3.2\n",
        "np.random.seed(1)\n",
        "num_param_gates = 3\n",
        "\n",
        "temp1 = []\n",
        "temp2 = []\n",
        "for num_layers in steps:\n",
        "  var_init_ksc = 0.5*np.random.randn(num_layers, num_param_gates*len(H_ks.wires))\n",
        "\n",
        "  cost_fn = lambda v: cost_function(v, H_ks)+offset_ks\n",
        "  grad_fn = lambda var: newton_gradient(cost_function, H_ks, var, reg)\n",
        "  lost_list, time_list, _ = train(cost_fn, grad_fn, epochs, var_init_ksc, lr)\n",
        "  temp1.append(lost_list[-1])\n",
        "  temp2.append(time_list[-1])\n",
        "\n",
        "qnwlc.append(temp1)\n",
        "qnwtc.append(temp2)"
      ]
    },
    {
      "cell_type": "markdown",
      "metadata": {
        "id": "Dy0xupPD9K8O"
      },
      "source": [
        "#**Benchmarking** "
      ]
    },
    {
      "cell_type": "markdown",
      "metadata": {
        "id": "CLdbB84Men8d"
      },
      "source": [
        "### Contour Plot"
      ]
    },
    {
      "cell_type": "code",
      "execution_count": null,
      "metadata": {
        "cellView": "form",
        "id": "T5J8IafWnQNb"
      },
      "outputs": [],
      "source": [
        "#@title Train Contour\n",
        "def train_contour(cost_fn, grad_fn, epochs, var_init, lr):\n",
        "  lost_list = []\n",
        "  var_list = []\n",
        "  var = var_init.copy()\n",
        "  var_list.append(var)\n",
        "  opt = qml.RMSPropOptimizer(lr)\n",
        "\n",
        "  start = time.time()\n",
        "\n",
        "  for it in range(epochs):# while True:\n",
        "      \n",
        "      var, _cost = opt.step_and_cost(cost_fn, var, grad_fn=grad_fn) \n",
        "      lost_list.append(_cost.numpy())\n",
        "      var_list.append(var)\n",
        "      # if it%10==0:\n",
        "      #   print(\"Iter: {:5d} | Cost: {:0.11f} \".format(it, _cost))\n",
        "\n",
        "      end = time.time()\n",
        "      t = end - start\n",
        "  return lost_list, var_list\n",
        "\n",
        "\n",
        "def quantum_natural_gradient_contour(var, H, cost_function):\n",
        "  num_wires = len(H.wires)\n",
        "  dev = qml.device('default.qubit', wires=num_wires)\n",
        "\n",
        "  @qml.qnode(dev)\n",
        "  def metric_tensor_circuit(var):\n",
        "    for v in var: \n",
        "      ansatz_contour(v)\n",
        "    return qml.expval(H)\n",
        "\n",
        "  metric_fn = qml.metric_tensor(metric_tensor_circuit, approx=\"block-diag\", hybrid=False)\n",
        "  grad = parameter_shift(cost_function, var)\n",
        "  grad_flatten = grad.flatten()\n",
        "  metric_tensor = metric_fn(var)\n",
        "  try:\n",
        "    qng_grad = np.linalg.solve(metric_tensor, grad_flatten)\n",
        "  except: \n",
        "    qng_grad = np.linalg.lstsq(metric_tensor, grad_flatten, rcond=None)[0]\n",
        "  return qng_grad\n",
        "\n",
        "\n",
        "param_gates = ['RX', 'RY', 'RZ']\n",
        "\n",
        "def lcu_term(ansatz, params, wires, diff_index, num_wires, num_layers):\n",
        "  qml.Hadamard(wires=num_wires)\n",
        "  break_point = len(ansatz)//num_layers\n",
        "  qml.adjoint(qml.S)(wires=num_wires)\n",
        "\n",
        "  counting = 0\n",
        "  for i, gate in enumerate(ansatz):\n",
        "    \n",
        "    if gate in param_gates:\n",
        "      if i == diff_index:\n",
        "        controlStr(gate)(wires=[num_wires, diff_index//2])\n",
        "      str2gate(gate)(params[counting], wires=wires[i])\n",
        "      counting += 1\n",
        "    else:\n",
        "      str2gate(gate)(wires=wires[i])\n",
        "    if i!=0 and (i+1)%break_point==0:\n",
        "      fully_connected_layer(num_wires)\n",
        "  qml.Hadamard(wires=num_wires)\n",
        "\n",
        "def lcu_gradients_contour(ansatz_label, H, params):\n",
        "  num_layers = len(params)\n",
        "  num_wires = len(H.wires)-1\n",
        "  num_param_gates = len(params[0])//num_wires\n",
        "\n",
        "  ansatz = ansatz_label * num_layers * num_wires\n",
        "  \n",
        "  wires = []\n",
        "  for i in range(num_layers):\n",
        "    for j in range(num_wires):\n",
        "      for k in range(2):\n",
        "        wires.append(j)\n",
        "  params = params.flatten()\n",
        "\n",
        "  dev = qml.device(\"default.qubit\", wires=num_wires+1)\n",
        "  @qml.qnode(dev)\n",
        "  def lcu(ansatz, H, params, wires, diff_index):\n",
        "    \n",
        "    lcu_term(ansatz, params, wires, diff_index, num_wires, num_layers)\n",
        "    \n",
        "    return qml.expval(H)\n",
        "\n",
        "  gradients = []\n",
        "  for i in range(len(ansatz)):\n",
        "    if ansatz[i] in param_gates:\n",
        "      gradients.append(lcu(ansatz, H, params, wires, i))\n",
        "      \n",
        "  return np.array(gradients).reshape(num_layers, -1)\n",
        "\n",
        "def newton_gradient_contour(H, params, reg):\n",
        "  num_layers = len(params)\n",
        "  params = params.reshape(1,-1)[0]\n",
        "  num_wires = len(H.wires)\n",
        "  dev = qml.device('default.qubit', wires=num_wires)\n",
        "\n",
        "  @qml.qnode(dev)\n",
        "  def circuit(var,H):\n",
        "    qml.RX(var[0], wires=0)\n",
        "    qml.RZ(var[1], wires=0)\n",
        "    return qml.expval(H)\n",
        "\n",
        "  grad_fn = qml.grad(circuit)\n",
        "  hes_fn = qml.jacobian(grad_fn)\n",
        "  grad = grad_fn(params, H)\n",
        "  hessian_matrix = hes_fn(params, H)\n",
        "  iden = np.identity(len(hessian_matrix))*reg\n",
        "  hessian_matrix += iden\n",
        "  \n",
        "  try:\n",
        "    #x = np.linalg.inv(hessian_matrix)\n",
        "    newton_grad = np.linalg.solve(hessian_matrix, grad)\n",
        "  except: \n",
        "    #x = np.linalg.pinv(hessian_matrix)\n",
        "    newton_grad = np.linalg.lstsq(hessian_matrix, grad, rcond=None)[0] \n",
        "  \n",
        "  return newton_grad.reshape(num_layers,-1)"
      ]
    },
    {
      "cell_type": "code",
      "execution_count": null,
      "metadata": {
        "id": "RmDWARV9qOhL",
        "colab": {
          "base_uri": "https://localhost:8080/",
          "height": 1000,
          "referenced_widgets": [
            "ff4f2bc540f2474ebb7aa7f00eb7b932",
            "72cc7a156192472e9b98720e0b38e7b4",
            "bc5e0b508a644ca29c2979bc096fdb91",
            "47fa23205f414cea91dc7945c4ab0448",
            "85c89801acb641508afb214bb764bc2f",
            "20c07e35d1f94e31950f2358a383833e",
            "0612d4ca6dc9450aaefd3ace1633df81",
            "4f16dde20a6e42099c23eb4dc38c5099",
            "46217adc4e2b4064b499adcf1f16dfa6",
            "ca2ff26a0ad0458d9abd31929bbd4704",
            "f8242e7fc491498f8437f08201e3a378"
          ]
        },
        "outputId": "9b869369-e279-49d1-82fb-f7c05e26d228"
      },
      "outputs": [
        {
          "output_type": "stream",
          "name": "stdout",
          "text": [
            "\\ This file has been generated by DOcplex\n",
            "\\ ENCODING=ISO-8859-1\n",
            "\\Problem name: docplex model\n",
            "\n",
            "Minimize\n",
            " obj: 95000 x1\n",
            "Subject To\n",
            " c0: x1 >= 1\n",
            "\n",
            "Bounds\n",
            " 0 <= x1 <= 1\n",
            "\n",
            "Binaries\n",
            " x1\n",
            "End\n",
            "\n"
          ]
        },
        {
          "output_type": "display_data",
          "data": {
            "text/plain": [
              "  0%|          | 0/50 [00:00<?, ?it/s]"
            ],
            "application/vnd.jupyter.widget-view+json": {
              "version_major": 2,
              "version_minor": 0,
              "model_id": "ff4f2bc540f2474ebb7aa7f00eb7b932"
            }
          },
          "metadata": {}
        },
        {
          "output_type": "display_data",
          "data": {
            "text/html": [
              "<html>\n",
              "<head><meta charset=\"utf-8\" /></head>\n",
              "<body>\n",
              "    <div>            <script src=\"https://cdnjs.cloudflare.com/ajax/libs/mathjax/2.7.5/MathJax.js?config=TeX-AMS-MML_SVG\"></script><script type=\"text/javascript\">if (window.MathJax) {MathJax.Hub.Config({SVG: {font: \"STIX-Web\"}});}</script>                <script type=\"text/javascript\">window.PlotlyConfig = {MathJaxConfig: 'local'};</script>\n",
              "        <script src=\"https://cdn.plot.ly/plotly-2.8.3.min.js\"></script>                <div id=\"d6c05c56-f903-4425-9e48-37d98f032751\" class=\"plotly-graph-div\" style=\"height:1000px; width:1000px;\"></div>            <script type=\"text/javascript\">                                    window.PLOTLYENV=window.PLOTLYENV || {};                                    if (document.getElementById(\"d6c05c56-f903-4425-9e48-37d98f032751\")) {                    Plotly.newPlot(                        \"d6c05c56-f903-4425-9e48-37d98f032751\",                        [{\"showscale\":false,\"x\":[-8.0,-7.673469387755102,-7.346938775510204,-7.020408163265306,-6.6938775510204085,-6.36734693877551,-6.040816326530612,-5.714285714285714,-5.387755102040817,-5.061224489795919,-4.73469387755102,-4.408163265306123,-4.081632653061225,-3.755102040816327,-3.428571428571429,-3.1020408163265314,-2.775510204081633,-2.4489795918367347,-2.1224489795918373,-1.795918367346939,-1.4693877551020416,-1.1428571428571432,-0.8163265306122458,-0.4897959183673475,-0.16326530612244916,0.16326530612244916,0.4897959183673457,0.816326530612244,1.1428571428571423,1.4693877551020407,1.7959183673469372,2.1224489795918355,2.448979591836734,2.775510204081632,3.1020408163265305,3.428571428571427,3.7551020408163254,4.081632653061224,4.408163265306122,4.734693877551019,5.061224489795917,5.387755102040815,5.7142857142857135,6.040816326530612,6.367346938775508,6.693877551020407,7.020408163265305,7.346938775510203,7.673469387755102,8.0],\"y\":[-8.0,-7.673469387755102,-7.346938775510204,-7.020408163265306,-6.6938775510204085,-6.36734693877551,-6.040816326530612,-5.714285714285714,-5.387755102040817,-5.061224489795919,-4.73469387755102,-4.408163265306123,-4.081632653061225,-3.755102040816327,-3.428571428571429,-3.1020408163265314,-2.775510204081633,-2.4489795918367347,-2.1224489795918373,-1.795918367346939,-1.4693877551020416,-1.1428571428571432,-0.8163265306122458,-0.4897959183673475,-0.16326530612244916,0.16326530612244916,0.4897959183673457,0.816326530612244,1.1428571428571423,1.4693877551020407,1.7959183673469372,2.1224489795918355,2.448979591836734,2.775510204081632,3.1020408163265305,3.428571428571427,3.7551020408163254,4.081632653061224,4.408163265306122,4.734693877551019,5.061224489795917,5.387755102040815,5.7142857142857135,6.040816326530612,6.367346938775508,6.693877551020407,7.020408163265305,7.346938775510203,7.673469387755102,8.0],\"z\":[[0.4272499830956933,0.5897667600637693,0.7427971435669347,0.8701691515823801,0.9584223341218036,0.9982302499334017,0.9853860684248854,0.9212471401282114,0.8125915542805058,0.6709018422639796,0.5111515238666231,0.35022273202255966,0.2051221386689387,0.09118371953983663,0.02044828655561958,0.0003910359773804837,0.03313158280152002,0.11520996357152648,0.23795227923619283,0.3883873375595285,0.550617425923208,0.7074983536605337,0.8424512200002258,0.9412144431674014,0.9933508992850146,0.9933508992850146,0.9412144431674017,0.8424512200002263,0.7074983536605342,0.5506174259232084,0.3883873375595293,0.23795227923619358,0.11520996357152674,0.033131582801520176,0.00039103597738050127,0.02044828655561934,0.09118371953983612,0.20512213866893836,0.35022273202255916,0.5111515238666224,0.6709018422639788,0.8125915542805051,0.9212471401282114,0.9853860684248854,0.9982302499334017,0.9584223341218039,0.8701691515823805,0.7427971435669349,0.5897667600637693,0.4272499830956933],[0.42724998309569323,0.5897667600637694,0.7427971435669347,0.8701691515823802,0.9584223341218037,0.9982302499334016,0.9853860684248854,0.9212471401282114,0.8125915542805058,0.6709018422639796,0.5111515238666232,0.3502227320225597,0.2051221386689387,0.09118371953983662,0.020448286555619585,0.0003910359773804837,0.033131582801520024,0.11520996357152646,0.23795227923619283,0.3883873375595285,0.550617425923208,0.7074983536605337,0.8424512200002257,0.9412144431674014,0.9933508992850146,0.9933508992850146,0.9412144431674018,0.8424512200002263,0.707498353660534,0.5506174259232084,0.38838733755952937,0.2379522792361936,0.11520996357152671,0.033131582801520176,0.00039103597738050127,0.02044828655561934,0.09118371953983612,0.20512213866893833,0.3502227320225591,0.5111515238666224,0.6709018422639788,0.8125915542805051,0.9212471401282112,0.9853860684248854,0.9982302499334016,0.958422334121804,0.8701691515823806,0.7427971435669352,0.5897667600637694,0.42724998309569323],[0.4272499830956933,0.5897667600637694,0.7427971435669347,0.8701691515823802,0.9584223341218038,0.9982302499334018,0.9853860684248854,0.9212471401282114,0.812591554280506,0.6709018422639796,0.5111515238666232,0.3502227320225597,0.2051221386689387,0.09118371953983662,0.020448286555619585,0.0003910359773804837,0.03313158280152002,0.11520996357152646,0.23795227923619286,0.3883873375595286,0.550617425923208,0.7074983536605337,0.8424512200002258,0.9412144431674015,0.9933508992850149,0.9933508992850149,0.941214443167402,0.8424512200002265,0.707498353660534,0.5506174259232085,0.3883873375595294,0.2379522792361936,0.11520996357152673,0.03313158280152018,0.0003910359773805012,0.02044828655561934,0.09118371953983613,0.20512213866893833,0.3502227320225591,0.5111515238666224,0.6709018422639788,0.8125915542805052,0.9212471401282112,0.9853860684248854,0.9982302499334018,0.9584223341218042,0.8701691515823806,0.7427971435669352,0.5897667600637694,0.4272499830956933],[0.42724998309569323,0.5897667600637693,0.7427971435669347,0.8701691515823801,0.9584223341218037,0.9982302499334017,0.9853860684248854,0.9212471401282115,0.8125915542805059,0.6709018422639796,0.5111515238666231,0.3502227320225596,0.2051221386689387,0.09118371953983663,0.02044828655561958,0.00039103597738048365,0.03313158280152002,0.11520996357152645,0.23795227923619283,0.38838733755952853,0.550617425923208,0.7074983536605337,0.8424512200002258,0.9412144431674013,0.9933508992850146,0.9933508992850146,0.9412144431674018,0.8424512200002263,0.707498353660534,0.5506174259232085,0.3883873375595293,0.2379522792361936,0.11520996357152674,0.033131582801520176,0.0003910359773805013,0.020448286555619335,0.09118371953983612,0.2051221386689383,0.35022273202255916,0.5111515238666223,0.6709018422639786,0.8125915542805052,0.9212471401282113,0.9853860684248854,0.9982302499334017,0.9584223341218041,0.8701691515823806,0.742797143566935,0.5897667600637693,0.42724998309569323],[0.4272499830956932,0.5897667600637695,0.7427971435669347,0.8701691515823803,0.9584223341218037,0.9982302499334017,0.9853860684248853,0.9212471401282114,0.8125915542805058,0.6709018422639796,0.5111515238666231,0.3502227320225596,0.2051221386689387,0.09118371953983663,0.020448286555619585,0.0003910359773804837,0.03313158280152002,0.11520996357152646,0.23795227923619283,0.3883873375595286,0.550617425923208,0.7074983536605336,0.8424512200002258,0.9412144431674013,0.9933508992850147,0.9933508992850147,0.9412144431674018,0.8424512200002264,0.7074983536605339,0.5506174259232085,0.38838733755952926,0.2379522792361936,0.11520996357152673,0.03313158280152018,0.0003910359773805012,0.02044828655561933,0.09118371953983612,0.20512213866893833,0.35022273202255905,0.5111515238666224,0.6709018422639788,0.8125915542805051,0.9212471401282112,0.9853860684248853,0.9982302499334017,0.958422334121804,0.8701691515823806,0.742797143566935,0.5897667600637695,0.4272499830956932],[0.42724998309569334,0.5897667600637695,0.7427971435669349,0.8701691515823804,0.9584223341218038,0.9982302499334016,0.9853860684248855,0.9212471401282116,0.8125915542805059,0.6709018422639796,0.5111515238666232,0.35022273202255977,0.2051221386689387,0.09118371953983664,0.020448286555619585,0.00039103597738048365,0.033131582801520024,0.11520996357152648,0.23795227923619283,0.3883873375595286,0.5506174259232082,0.7074983536605337,0.8424512200002258,0.9412144431674015,0.9933508992850149,0.9933508992850149,0.941214443167402,0.8424512200002264,0.707498353660534,0.5506174259232086,0.3883873375595294,0.2379522792361936,0.11520996357152674,0.03313158280152018,0.00039103597738050127,0.02044828655561934,0.09118371953983614,0.20512213866893836,0.3502227320225592,0.5111515238666224,0.6709018422639788,0.8125915542805053,0.9212471401282114,0.9853860684248855,0.9982302499334016,0.9584223341218042,0.8701691515823807,0.7427971435669353,0.5897667600637695,0.42724998309569334],[0.42724998309569323,0.5897667600637695,0.7427971435669347,0.8701691515823802,0.9584223341218036,0.9982302499334016,0.9853860684248853,0.9212471401282115,0.8125915542805058,0.6709018422639796,0.5111515238666231,0.35022273202255966,0.2051221386689387,0.09118371953983663,0.020448286555619585,0.00039103597738048376,0.03313158280152002,0.11520996357152649,0.23795227923619283,0.38838733755952853,0.5506174259232081,0.7074983536605337,0.8424512200002257,0.9412144431674013,0.9933508992850146,0.9933508992850146,0.9412144431674018,0.8424512200002263,0.707498353660534,0.5506174259232085,0.3883873375595293,0.2379522792361936,0.11520996357152676,0.03313158280152019,0.0003910359773805013,0.02044828655561934,0.09118371953983612,0.20512213866893833,0.35022273202255916,0.5111515238666223,0.6709018422639788,0.8125915542805052,0.9212471401282113,0.9853860684248853,0.9982302499334016,0.958422334121804,0.8701691515823805,0.7427971435669352,0.5897667600637695,0.42724998309569323],[0.42724998309569323,0.5897667600637694,0.7427971435669347,0.8701691515823803,0.9584223341218037,0.9982302499334017,0.9853860684248855,0.9212471401282115,0.812591554280506,0.6709018422639798,0.5111515238666232,0.35022273202255977,0.2051221386689387,0.09118371953983663,0.020448286555619585,0.0003910359773804837,0.033131582801520024,0.11520996357152646,0.23795227923619286,0.3883873375595285,0.5506174259232081,0.7074983536605337,0.8424512200002258,0.9412144431674014,0.9933508992850147,0.9933508992850147,0.9412144431674019,0.8424512200002264,0.7074983536605343,0.5506174259232086,0.38838733755952937,0.23795227923619364,0.11520996357152674,0.03313158280152018,0.00039103597738050127,0.020448286555619342,0.09118371953983613,0.20512213866893833,0.35022273202255916,0.5111515238666224,0.6709018422639788,0.8125915542805053,0.9212471401282114,0.9853860684248855,0.9982302499334017,0.958422334121804,0.8701691515823805,0.742797143566935,0.5897667600637694,0.42724998309569323],[0.4272499830956933,0.5897667600637694,0.7427971435669348,0.8701691515823802,0.9584223341218037,0.9982302499334016,0.9853860684248854,0.9212471401282116,0.8125915542805059,0.6709018422639796,0.5111515238666232,0.35022273202255966,0.2051221386689387,0.09118371953983663,0.020448286555619588,0.0003910359773804837,0.033131582801520024,0.11520996357152648,0.23795227923619286,0.3883873375595286,0.550617425923208,0.7074983536605337,0.8424512200002257,0.9412144431674014,0.9933508992850146,0.9933508992850146,0.9412144431674019,0.8424512200002264,0.7074983536605342,0.5506174259232085,0.38838733755952937,0.2379522792361936,0.11520996357152674,0.03313158280152018,0.00039103597738050127,0.020448286555619342,0.09118371953983612,0.20512213866893836,0.3502227320225592,0.5111515238666223,0.6709018422639788,0.8125915542805052,0.9212471401282114,0.9853860684248854,0.9982302499334016,0.9584223341218041,0.8701691515823806,0.742797143566935,0.5897667600637694,0.4272499830956933],[0.4272499830956933,0.5897667600637694,0.7427971435669347,0.8701691515823803,0.9584223341218037,0.9982302499334015,0.9853860684248854,0.9212471401282115,0.8125915542805058,0.6709018422639796,0.5111515238666231,0.35022273202255966,0.2051221386689387,0.09118371953983663,0.020448286555619585,0.0003910359773804837,0.03313158280152002,0.11520996357152646,0.23795227923619283,0.3883873375595285,0.550617425923208,0.7074983536605337,0.8424512200002257,0.9412144431674013,0.9933508992850146,0.9933508992850146,0.9412144431674019,0.8424512200002265,0.707498353660534,0.5506174259232085,0.38838733755952937,0.2379522792361936,0.11520996357152674,0.033131582801520176,0.00039103597738050127,0.020448286555619335,0.09118371953983613,0.20512213866893833,0.35022273202255916,0.5111515238666224,0.6709018422639788,0.8125915542805053,0.9212471401282113,0.9853860684248854,0.9982302499334015,0.9584223341218039,0.8701691515823805,0.7427971435669352,0.5897667600637694,0.4272499830956933],[0.42724998309569323,0.5897667600637695,0.7427971435669347,0.8701691515823802,0.9584223341218034,0.9982302499334015,0.9853860684248852,0.9212471401282115,0.8125915542805058,0.6709018422639796,0.5111515238666232,0.3502227320225596,0.2051221386689387,0.09118371953983662,0.02044828655561958,0.0003910359773804837,0.03313158280152002,0.11520996357152646,0.23795227923619283,0.3883873375595285,0.550617425923208,0.7074983536605336,0.8424512200002257,0.9412144431674014,0.9933508992850146,0.9933508992850146,0.9412144431674017,0.8424512200002263,0.7074983536605339,0.5506174259232084,0.38838733755952937,0.23795227923619355,0.11520996357152673,0.03313158280152018,0.00039103597738050127,0.02044828655561934,0.09118371953983612,0.2051221386689383,0.3502227320225591,0.5111515238666223,0.6709018422639788,0.8125915542805052,0.9212471401282112,0.9853860684248852,0.9982302499334015,0.958422334121804,0.8701691515823804,0.7427971435669349,0.5897667600637695,0.42724998309569323],[0.4272499830956933,0.5897667600637694,0.7427971435669347,0.8701691515823801,0.9584223341218034,0.9982302499334016,0.9853860684248854,0.9212471401282115,0.8125915542805058,0.6709018422639796,0.5111515238666231,0.35022273202255966,0.20512213866893864,0.09118371953983663,0.02044828655561958,0.0003910359773804837,0.033131582801520024,0.11520996357152648,0.2379522792361928,0.38838733755952853,0.550617425923208,0.7074983536605337,0.8424512200002257,0.9412144431674014,0.9933508992850146,0.9933508992850146,0.9412144431674019,0.8424512200002263,0.707498353660534,0.5506174259232085,0.38838733755952937,0.2379522792361936,0.11520996357152674,0.033131582801520176,0.0003910359773805012,0.020448286555619335,0.09118371953983612,0.20512213866893836,0.35022273202255916,0.5111515238666223,0.6709018422639788,0.8125915542805052,0.9212471401282112,0.9853860684248854,0.9982302499334016,0.9584223341218041,0.8701691515823805,0.7427971435669352,0.5897667600637694,0.4272499830956933],[0.4272499830956933,0.5897667600637694,0.7427971435669347,0.8701691515823801,0.9584223341218036,0.9982302499334014,0.9853860684248854,0.9212471401282114,0.8125915542805058,0.6709018422639796,0.5111515238666231,0.3502227320225596,0.2051221386689387,0.09118371953983663,0.020448286555619588,0.0003910359773804837,0.033131582801520024,0.11520996357152646,0.2379522792361928,0.3883873375595285,0.550617425923208,0.7074983536605336,0.8424512200002257,0.9412144431674013,0.9933508992850144,0.9933508992850144,0.9412144431674019,0.8424512200002263,0.707498353660534,0.5506174259232086,0.38838733755952937,0.2379522792361936,0.11520996357152671,0.03313158280152018,0.00039103597738050127,0.02044828655561934,0.09118371953983612,0.2051221386689383,0.35022273202255916,0.5111515238666223,0.6709018422639788,0.8125915542805052,0.9212471401282112,0.9853860684248854,0.9982302499334014,0.9584223341218039,0.8701691515823805,0.7427971435669349,0.5897667600637694,0.4272499830956933],[0.4272499830956933,0.5897667600637693,0.7427971435669346,0.8701691515823802,0.9584223341218034,0.9982302499334017,0.9853860684248854,0.9212471401282114,0.8125915542805058,0.6709018422639796,0.5111515238666232,0.3502227320225596,0.2051221386689387,0.09118371953983662,0.020448286555619585,0.0003910359773804837,0.03313158280152002,0.11520996357152646,0.23795227923619286,0.3883873375595286,0.550617425923208,0.7074983536605337,0.8424512200002259,0.9412144431674013,0.9933508992850145,0.9933508992850145,0.9412144431674018,0.8424512200002264,0.707498353660534,0.5506174259232084,0.38838733755952926,0.23795227923619358,0.11520996357152674,0.03313158280152018,0.00039103597738050127,0.020448286555619335,0.09118371953983612,0.20512213866893833,0.3502227320225592,0.5111515238666223,0.6709018422639786,0.8125915542805052,0.9212471401282112,0.9853860684248854,0.9982302499334017,0.958422334121804,0.8701691515823806,0.742797143566935,0.5897667600637693,0.4272499830956933],[0.42724998309569334,0.5897667600637695,0.7427971435669348,0.8701691515823803,0.9584223341218037,0.9982302499334016,0.9853860684248855,0.9212471401282116,0.8125915542805058,0.6709018422639796,0.5111515238666232,0.35022273202255966,0.20512213866893872,0.09118371953983663,0.020448286555619588,0.0003910359773804838,0.033131582801520024,0.11520996357152646,0.23795227923619286,0.38838733755952853,0.5506174259232081,0.7074983536605337,0.8424512200002258,0.9412144431674014,0.9933508992850149,0.9933508992850149,0.9412144431674019,0.8424512200002264,0.7074983536605342,0.5506174259232086,0.38838733755952937,0.23795227923619364,0.11520996357152674,0.03313158280152018,0.00039103597738050127,0.02044828655561934,0.09118371953983613,0.20512213866893836,0.35022273202255916,0.5111515238666224,0.670901842263979,0.8125915542805052,0.9212471401282114,0.9853860684248855,0.9982302499334016,0.9584223341218041,0.8701691515823806,0.7427971435669352,0.5897667600637695,0.42724998309569334],[0.42724998309569323,0.5897667600637694,0.7427971435669349,0.8701691515823804,0.9584223341218038,0.9982302499334017,0.9853860684248856,0.9212471401282117,0.812591554280506,0.6709018422639796,0.5111515238666231,0.35022273202255966,0.20512213866893872,0.09118371953983666,0.020448286555619585,0.0003910359773804837,0.033131582801520024,0.11520996357152648,0.23795227923619286,0.3883873375595286,0.5506174259232081,0.7074983536605338,0.8424512200002259,0.9412144431674017,0.9933508992850147,0.9933508992850147,0.9412144431674021,0.8424512200002264,0.7074983536605342,0.5506174259232086,0.3883873375595294,0.2379522792361936,0.11520996357152676,0.03313158280152018,0.00039103597738050127,0.02044828655561934,0.09118371953983616,0.2051221386689384,0.35022273202255916,0.5111515238666223,0.6709018422639788,0.8125915542805053,0.9212471401282115,0.9853860684248856,0.9982302499334017,0.9584223341218042,0.8701691515823807,0.7427971435669353,0.5897667600637694,0.42724998309569323],[0.42724998309569334,0.5897667600637695,0.7427971435669347,0.8701691515823802,0.9584223341218037,0.9982302499334016,0.9853860684248855,0.9212471401282115,0.812591554280506,0.6709018422639799,0.5111515238666232,0.3502227320225597,0.2051221386689387,0.09118371953983664,0.020448286555619588,0.0003910359773804838,0.033131582801520024,0.11520996357152648,0.23795227923619283,0.3883873375595285,0.5506174259232082,0.7074983536605337,0.8424512200002259,0.9412144431674014,0.9933508992850149,0.9933508992850149,0.9412144431674019,0.8424512200002264,0.707498353660534,0.5506174259232085,0.38838733755952937,0.2379522792361936,0.11520996357152674,0.03313158280152018,0.00039103597738050127,0.02044828655561934,0.09118371953983613,0.20512213866893836,0.3502227320225592,0.5111515238666224,0.6709018422639788,0.8125915542805053,0.9212471401282113,0.9853860684248855,0.9982302499334016,0.9584223341218042,0.8701691515823806,0.7427971435669353,0.5897667600637695,0.42724998309569334],[0.4272499830956933,0.5897667600637696,0.7427971435669347,0.8701691515823804,0.9584223341218037,0.9982302499334017,0.9853860684248855,0.9212471401282115,0.812591554280506,0.6709018422639798,0.5111515238666232,0.35022273202255977,0.2051221386689387,0.09118371953983663,0.020448286555619588,0.0003910359773804838,0.033131582801520024,0.11520996357152646,0.2379522792361929,0.3883873375595286,0.550617425923208,0.7074983536605338,0.8424512200002258,0.9412144431674015,0.9933508992850149,0.9933508992850149,0.941214443167402,0.8424512200002264,0.7074983536605342,0.5506174259232085,0.3883873375595295,0.23795227923619364,0.11520996357152674,0.03313158280152018,0.00039103597738050127,0.020448286555619342,0.09118371953983613,0.20512213866893836,0.3502227320225592,0.5111515238666224,0.6709018422639789,0.8125915542805052,0.9212471401282113,0.9853860684248855,0.9982302499334017,0.9584223341218041,0.8701691515823805,0.7427971435669352,0.5897667600637696,0.4272499830956933],[0.42724998309569323,0.5897667600637694,0.7427971435669347,0.8701691515823802,0.9584223341218037,0.9982302499334015,0.9853860684248854,0.9212471401282114,0.8125915542805058,0.6709018422639796,0.5111515238666231,0.3502227320225596,0.20512213866893864,0.09118371953983663,0.02044828655561958,0.0003910359773804837,0.033131582801520024,0.11520996357152646,0.23795227923619283,0.3883873375595285,0.550617425923208,0.7074983536605337,0.8424512200002258,0.9412144431674014,0.9933508992850149,0.9933508992850149,0.9412144431674018,0.8424512200002263,0.707498353660534,0.5506174259232085,0.3883873375595294,0.2379522792361936,0.11520996357152671,0.03313158280152018,0.00039103597738050127,0.020448286555619335,0.09118371953983612,0.2051221386689383,0.35022273202255916,0.5111515238666224,0.6709018422639786,0.8125915542805053,0.9212471401282114,0.9853860684248854,0.9982302499334015,0.958422334121804,0.8701691515823806,0.742797143566935,0.5897667600637694,0.42724998309569323],[0.4272499830956932,0.5897667600637694,0.7427971435669348,0.8701691515823802,0.9584223341218039,0.9982302499334016,0.9853860684248856,0.9212471401282116,0.812591554280506,0.6709018422639796,0.5111515238666232,0.3502227320225597,0.2051221386689387,0.09118371953983663,0.02044828655561958,0.0003910359773804837,0.033131582801520024,0.11520996357152648,0.23795227923619283,0.3883873375595285,0.5506174259232081,0.7074983536605337,0.8424512200002259,0.9412144431674014,0.9933508992850149,0.9933508992850149,0.9412144431674019,0.8424512200002263,0.7074983536605342,0.5506174259232085,0.38838733755952937,0.2379522792361936,0.11520996357152674,0.033131582801520176,0.00039103597738050127,0.02044828655561934,0.09118371953983612,0.20512213866893836,0.35022273202255916,0.5111515238666224,0.6709018422639788,0.8125915542805053,0.9212471401282114,0.9853860684248856,0.9982302499334016,0.9584223341218041,0.8701691515823806,0.7427971435669352,0.5897667600637694,0.4272499830956932],[0.42724998309569323,0.5897667600637694,0.7427971435669347,0.87016915158238,0.9584223341218037,0.9982302499334017,0.9853860684248854,0.9212471401282114,0.8125915542805058,0.6709018422639795,0.5111515238666231,0.35022273202255966,0.20512213866893866,0.09118371953983663,0.02044828655561958,0.0003910359773804837,0.033131582801520024,0.11520996357152648,0.23795227923619283,0.38838733755952853,0.5506174259232081,0.7074983536605336,0.8424512200002258,0.9412144431674014,0.9933508992850146,0.9933508992850146,0.9412144431674018,0.8424512200002263,0.7074983536605342,0.5506174259232085,0.3883873375595293,0.2379522792361936,0.11520996357152674,0.033131582801520176,0.00039103597738050127,0.02044828655561934,0.09118371953983612,0.20512213866893836,0.35022273202255916,0.5111515238666223,0.6709018422639788,0.8125915542805051,0.9212471401282114,0.9853860684248854,0.9982302499334017,0.958422334121804,0.8701691515823806,0.742797143566935,0.5897667600637694,0.42724998309569323],[0.42724998309569334,0.5897667600637694,0.7427971435669347,0.8701691515823802,0.9584223341218036,0.9982302499334015,0.9853860684248854,0.9212471401282115,0.8125915542805058,0.6709018422639796,0.5111515238666232,0.3502227320225597,0.2051221386689387,0.09118371953983664,0.02044828655561958,0.0003910359773804837,0.033131582801520024,0.11520996357152648,0.23795227923619283,0.3883873375595286,0.550617425923208,0.7074983536605337,0.8424512200002257,0.9412144431674014,0.9933508992850147,0.9933508992850147,0.9412144431674019,0.8424512200002264,0.707498353660534,0.5506174259232085,0.3883873375595294,0.23795227923619355,0.11520996357152674,0.033131582801520176,0.0003910359773805012,0.02044828655561934,0.09118371953983612,0.2051221386689383,0.35022273202255916,0.5111515238666224,0.6709018422639786,0.8125915542805052,0.9212471401282113,0.9853860684248854,0.9982302499334015,0.958422334121804,0.8701691515823805,0.7427971435669352,0.5897667600637694,0.42724998309569334],[0.4272499830956933,0.5897667600637694,0.7427971435669347,0.8701691515823802,0.9584223341218037,0.9982302499334016,0.9853860684248854,0.9212471401282116,0.8125915542805058,0.6709018422639796,0.5111515238666231,0.35022273202255966,0.20512213866893872,0.09118371953983663,0.020448286555619585,0.0003910359773804837,0.033131582801520024,0.11520996357152648,0.23795227923619283,0.3883873375595286,0.5506174259232081,0.7074983536605337,0.8424512200002259,0.9412144431674014,0.9933508992850147,0.9933508992850147,0.9412144431674019,0.8424512200002265,0.7074983536605342,0.5506174259232086,0.3883873375595293,0.23795227923619364,0.11520996357152676,0.03313158280152018,0.0003910359773805013,0.020448286555619345,0.09118371953983613,0.20512213866893833,0.3502227320225592,0.5111515238666224,0.6709018422639788,0.8125915542805054,0.9212471401282113,0.9853860684248854,0.9982302499334016,0.9584223341218042,0.8701691515823806,0.7427971435669353,0.5897667600637694,0.4272499830956933],[0.4272499830956933,0.5897667600637695,0.7427971435669348,0.8701691515823802,0.9584223341218037,0.9982302499334017,0.9853860684248854,0.9212471401282116,0.8125915542805059,0.6709018422639796,0.5111515238666232,0.3502227320225597,0.2051221386689387,0.09118371953983664,0.020448286555619585,0.00039103597738048376,0.033131582801520024,0.11520996357152648,0.23795227923619286,0.3883873375595286,0.5506174259232081,0.7074983536605338,0.8424512200002258,0.9412144431674015,0.9933508992850147,0.9933508992850147,0.9412144431674019,0.8424512200002264,0.7074983536605342,0.5506174259232086,0.38838733755952937,0.23795227923619364,0.11520996357152676,0.03313158280152018,0.0003910359773805013,0.02044828655561934,0.09118371953983613,0.20512213866893836,0.35022273202255916,0.5111515238666224,0.6709018422639788,0.8125915542805052,0.9212471401282114,0.9853860684248854,0.9982302499334017,0.9584223341218041,0.8701691515823806,0.7427971435669352,0.5897667600637695,0.4272499830956933],[0.42724998309569323,0.5897667600637694,0.7427971435669348,0.8701691515823802,0.9584223341218038,0.9982302499334017,0.9853860684248853,0.9212471401282115,0.8125915542805057,0.6709018422639796,0.5111515238666231,0.35022273202255966,0.20512213866893866,0.09118371953983662,0.020448286555619585,0.00039103597738048365,0.033131582801520024,0.11520996357152648,0.23795227923619286,0.38838733755952853,0.5506174259232081,0.7074983536605337,0.8424512200002257,0.9412144431674014,0.9933508992850147,0.9933508992850147,0.9412144431674019,0.8424512200002262,0.707498353660534,0.5506174259232084,0.38838733755952937,0.2379522792361936,0.11520996357152674,0.033131582801520176,0.0003910359773805013,0.02044828655561934,0.09118371953983612,0.20512213866893833,0.35022273202255916,0.5111515238666223,0.6709018422639788,0.8125915542805051,0.9212471401282113,0.9853860684248853,0.9982302499334017,0.9584223341218041,0.8701691515823806,0.7427971435669352,0.5897667600637694,0.42724998309569323],[0.42724998309569323,0.5897667600637694,0.7427971435669348,0.8701691515823802,0.9584223341218038,0.9982302499334017,0.9853860684248853,0.9212471401282115,0.8125915542805057,0.6709018422639796,0.5111515238666231,0.35022273202255966,0.20512213866893866,0.09118371953983662,0.020448286555619585,0.00039103597738048365,0.033131582801520024,0.11520996357152648,0.23795227923619286,0.38838733755952853,0.5506174259232081,0.7074983536605337,0.8424512200002257,0.9412144431674014,0.9933508992850147,0.9933508992850147,0.9412144431674019,0.8424512200002262,0.707498353660534,0.5506174259232084,0.38838733755952937,0.2379522792361936,0.11520996357152674,0.033131582801520176,0.0003910359773805013,0.02044828655561934,0.09118371953983612,0.20512213866893833,0.35022273202255916,0.5111515238666223,0.6709018422639788,0.8125915542805051,0.9212471401282113,0.9853860684248853,0.9982302499334017,0.9584223341218041,0.8701691515823806,0.7427971435669352,0.5897667600637694,0.42724998309569323],[0.42724998309569323,0.5897667600637694,0.7427971435669348,0.8701691515823802,0.9584223341218037,0.9982302499334017,0.9853860684248854,0.9212471401282115,0.812591554280506,0.6709018422639798,0.5111515238666232,0.35022273202255966,0.2051221386689387,0.09118371953983664,0.02044828655561958,0.00039103597738048376,0.03313158280152002,0.11520996357152646,0.23795227923619286,0.3883873375595286,0.5506174259232081,0.7074983536605339,0.8424512200002259,0.9412144431674014,0.9933508992850149,0.9933508992850149,0.9412144431674019,0.8424512200002264,0.707498353660534,0.5506174259232085,0.3883873375595294,0.23795227923619366,0.11520996357152674,0.03313158280152018,0.00039103597738050127,0.02044828655561934,0.09118371953983613,0.20512213866893833,0.35022273202255916,0.5111515238666223,0.6709018422639788,0.8125915542805053,0.9212471401282114,0.9853860684248854,0.9982302499334017,0.9584223341218041,0.8701691515823806,0.7427971435669353,0.5897667600637694,0.42724998309569323],[0.4272499830956933,0.5897667600637694,0.7427971435669348,0.8701691515823802,0.9584223341218037,0.9982302499334016,0.9853860684248854,0.9212471401282115,0.8125915542805059,0.6709018422639798,0.5111515238666233,0.3502227320225597,0.20512213866893866,0.09118371953983663,0.020448286555619588,0.0003910359773804837,0.03313158280152002,0.11520996357152646,0.23795227923619286,0.38838733755952853,0.550617425923208,0.7074983536605338,0.8424512200002259,0.9412144431674014,0.9933508992850146,0.9933508992850146,0.9412144431674019,0.8424512200002265,0.7074983536605339,0.5506174259232086,0.3883873375595293,0.2379522792361936,0.11520996357152674,0.03313158280152018,0.0003910359773805013,0.02044828655561934,0.09118371953983612,0.20512213866893833,0.3502227320225592,0.5111515238666224,0.6709018422639788,0.8125915542805052,0.9212471401282114,0.9853860684248854,0.9982302499334016,0.9584223341218041,0.8701691515823806,0.742797143566935,0.5897667600637694,0.4272499830956933],[0.4272499830956933,0.5897667600637695,0.7427971435669347,0.8701691515823802,0.9584223341218034,0.9982302499334015,0.9853860684248853,0.9212471401282116,0.8125915542805058,0.6709018422639796,0.5111515238666231,0.35022273202255966,0.2051221386689387,0.09118371953983664,0.02044828655561958,0.0003910359773804837,0.03313158280152002,0.11520996357152646,0.23795227923619283,0.38838733755952853,0.5506174259232081,0.7074983536605337,0.8424512200002258,0.9412144431674014,0.9933508992850146,0.9933508992850146,0.9412144431674017,0.8424512200002263,0.707498353660534,0.5506174259232085,0.38838733755952937,0.2379522792361936,0.11520996357152674,0.03313158280152018,0.0003910359773805013,0.02044828655561934,0.09118371953983612,0.20512213866893833,0.35022273202255916,0.5111515238666223,0.6709018422639788,0.8125915542805053,0.9212471401282113,0.9853860684248853,0.9982302499334015,0.9584223341218041,0.8701691515823805,0.7427971435669352,0.5897667600637695,0.4272499830956933],[0.4272499830956933,0.5897667600637694,0.7427971435669347,0.8701691515823802,0.9584223341218037,0.9982302499334017,0.9853860684248854,0.9212471401282115,0.8125915542805059,0.6709018422639796,0.5111515238666231,0.35022273202255966,0.2051221386689387,0.09118371953983663,0.02044828655561958,0.0003910359773804837,0.033131582801520024,0.11520996357152649,0.23795227923619283,0.3883873375595285,0.5506174259232081,0.7074983536605337,0.8424512200002259,0.9412144431674014,0.9933508992850146,0.9933508992850146,0.9412144431674018,0.8424512200002264,0.707498353660534,0.5506174259232085,0.38838733755952937,0.2379522792361936,0.11520996357152674,0.03313158280152019,0.00039103597738050127,0.02044828655561934,0.09118371953983612,0.2051221386689383,0.35022273202255916,0.5111515238666224,0.6709018422639788,0.8125915542805053,0.9212471401282114,0.9853860684248854,0.9982302499334017,0.958422334121804,0.8701691515823805,0.7427971435669352,0.5897667600637694,0.4272499830956933],[0.42724998309569323,0.5897667600637694,0.7427971435669348,0.8701691515823802,0.9584223341218037,0.9982302499334017,0.9853860684248854,0.9212471401282115,0.8125915542805059,0.6709018422639796,0.5111515238666231,0.3502227320225597,0.2051221386689387,0.09118371953983663,0.020448286555619585,0.0003910359773804837,0.033131582801520024,0.11520996357152646,0.23795227923619283,0.3883873375595285,0.550617425923208,0.7074983536605337,0.8424512200002257,0.9412144431674014,0.9933508992850149,0.9933508992850149,0.9412144431674019,0.8424512200002264,0.7074983536605342,0.5506174259232086,0.38838733755952937,0.2379522792361936,0.11520996357152674,0.03313158280152018,0.00039103597738050127,0.02044828655561934,0.09118371953983613,0.20512213866893833,0.35022273202255916,0.5111515238666222,0.6709018422639788,0.8125915542805053,0.9212471401282112,0.9853860684248854,0.9982302499334017,0.9584223341218041,0.8701691515823806,0.742797143566935,0.5897667600637694,0.42724998309569323],[0.4272499830956932,0.5897667600637694,0.7427971435669347,0.8701691515823802,0.9584223341218037,0.9982302499334015,0.9853860684248854,0.9212471401282116,0.8125915542805059,0.6709018422639796,0.5111515238666232,0.35022273202255966,0.2051221386689387,0.09118371953983662,0.020448286555619585,0.00039103597738048365,0.033131582801520024,0.11520996357152648,0.23795227923619286,0.38838733755952853,0.550617425923208,0.7074983536605336,0.8424512200002258,0.9412144431674014,0.9933508992850147,0.9933508992850147,0.9412144431674018,0.8424512200002263,0.707498353660534,0.5506174259232085,0.3883873375595293,0.2379522792361936,0.11520996357152674,0.03313158280152018,0.0003910359773805012,0.02044828655561934,0.09118371953983612,0.20512213866893833,0.35022273202255916,0.5111515238666223,0.6709018422639788,0.8125915542805052,0.9212471401282113,0.9853860684248854,0.9982302499334015,0.9584223341218041,0.8701691515823805,0.7427971435669352,0.5897667600637694,0.4272499830956932],[0.42724998309569323,0.5897667600637694,0.7427971435669348,0.8701691515823802,0.9584223341218036,0.9982302499334016,0.9853860684248853,0.9212471401282114,0.8125915542805058,0.6709018422639795,0.5111515238666231,0.3502227320225596,0.2051221386689387,0.09118371953983663,0.02044828655561958,0.0003910359773804837,0.03313158280152002,0.11520996357152646,0.23795227923619283,0.38838733755952853,0.550617425923208,0.7074983536605336,0.8424512200002258,0.9412144431674014,0.9933508992850147,0.9933508992850147,0.9412144431674019,0.8424512200002263,0.707498353660534,0.5506174259232085,0.3883873375595293,0.23795227923619358,0.11520996357152676,0.033131582801520176,0.00039103597738050127,0.02044828655561934,0.09118371953983613,0.20512213866893833,0.35022273202255916,0.5111515238666224,0.6709018422639785,0.8125915542805051,0.9212471401282112,0.9853860684248853,0.9982302499334016,0.958422334121804,0.8701691515823806,0.7427971435669352,0.5897667600637694,0.42724998309569323],[0.4272499830956933,0.5897667600637695,0.7427971435669347,0.8701691515823801,0.9584223341218037,0.9982302499334015,0.9853860684248856,0.9212471401282114,0.8125915542805059,0.6709018422639798,0.5111515238666232,0.35022273202255966,0.2051221386689387,0.09118371953983663,0.020448286555619585,0.0003910359773804837,0.03313158280152002,0.11520996357152646,0.2379522792361928,0.38838733755952853,0.550617425923208,0.7074983536605338,0.8424512200002258,0.9412144431674014,0.9933508992850147,0.9933508992850147,0.9412144431674018,0.8424512200002263,0.7074983536605342,0.5506174259232086,0.3883873375595294,0.23795227923619358,0.11520996357152673,0.03313158280152018,0.0003910359773805013,0.020448286555619342,0.09118371953983612,0.20512213866893833,0.35022273202255916,0.5111515238666223,0.6709018422639788,0.8125915542805053,0.9212471401282112,0.9853860684248856,0.9982302499334015,0.9584223341218041,0.8701691515823805,0.7427971435669352,0.5897667600637695,0.4272499830956933],[0.42724998309569323,0.5897667600637694,0.7427971435669349,0.8701691515823804,0.9584223341218038,0.9982302499334017,0.9853860684248856,0.9212471401282117,0.812591554280506,0.6709018422639796,0.5111515238666231,0.35022273202255966,0.20512213866893872,0.09118371953983666,0.020448286555619585,0.0003910359773804837,0.033131582801520024,0.11520996357152648,0.23795227923619286,0.3883873375595286,0.5506174259232081,0.7074983536605338,0.842451220000226,0.9412144431674017,0.9933508992850149,0.9933508992850149,0.9412144431674021,0.8424512200002265,0.7074983536605342,0.5506174259232086,0.3883873375595294,0.2379522792361936,0.11520996357152676,0.03313158280152018,0.0003910359773805013,0.02044828655561934,0.09118371953983616,0.2051221386689384,0.35022273202255916,0.5111515238666223,0.6709018422639788,0.8125915542805053,0.9212471401282115,0.9853860684248856,0.9982302499334017,0.9584223341218042,0.8701691515823807,0.7427971435669353,0.5897667600637694,0.42724998309569323],[0.42724998309569323,0.5897667600637694,0.7427971435669347,0.8701691515823803,0.9584223341218037,0.9982302499334016,0.9853860684248855,0.9212471401282116,0.8125915542805058,0.6709018422639796,0.5111515238666231,0.3502227320225597,0.2051221386689387,0.09118371953983664,0.02044828655561958,0.0003910359773804837,0.03313158280152002,0.11520996357152648,0.23795227923619286,0.3883873375595286,0.550617425923208,0.7074983536605338,0.8424512200002258,0.9412144431674014,0.9933508992850149,0.9933508992850149,0.9412144431674019,0.8424512200002264,0.7074983536605342,0.5506174259232085,0.3883873375595294,0.2379522792361936,0.11520996357152676,0.03313158280152018,0.0003910359773805013,0.020448286555619342,0.09118371953983613,0.20512213866893836,0.35022273202255916,0.5111515238666224,0.6709018422639788,0.8125915542805052,0.9212471401282114,0.9853860684248855,0.9982302499334016,0.9584223341218041,0.8701691515823806,0.7427971435669352,0.5897667600637694,0.42724998309569323],[0.42724998309569334,0.5897667600637695,0.7427971435669348,0.8701691515823803,0.9584223341218037,0.9982302499334018,0.9853860684248856,0.9212471401282115,0.8125915542805059,0.6709018422639799,0.5111515238666232,0.3502227320225597,0.20512213866893872,0.09118371953983664,0.020448286555619585,0.00039103597738048376,0.03313158280152002,0.11520996357152648,0.23795227923619286,0.38838733755952853,0.5506174259232081,0.7074983536605337,0.8424512200002258,0.9412144431674014,0.9933508992850147,0.9933508992850147,0.9412144431674019,0.8424512200002263,0.7074983536605342,0.5506174259232085,0.38838733755952937,0.2379522792361936,0.11520996357152676,0.03313158280152019,0.0003910359773805014,0.02044828655561934,0.09118371953983613,0.20512213866893836,0.35022273202255916,0.5111515238666224,0.6709018422639789,0.8125915542805053,0.9212471401282113,0.9853860684248856,0.9982302499334018,0.9584223341218041,0.8701691515823806,0.7427971435669352,0.5897667600637695,0.42724998309569334],[0.4272499830956933,0.5897667600637693,0.7427971435669346,0.8701691515823801,0.9584223341218036,0.9982302499334015,0.9853860684248854,0.9212471401282115,0.812591554280506,0.6709018422639795,0.5111515238666231,0.3502227320225596,0.2051221386689387,0.09118371953983662,0.020448286555619588,0.0003910359773804837,0.033131582801520024,0.11520996357152645,0.23795227923619283,0.3883873375595286,0.550617425923208,0.7074983536605337,0.8424512200002257,0.9412144431674014,0.9933508992850146,0.9933508992850146,0.9412144431674019,0.8424512200002263,0.707498353660534,0.5506174259232084,0.38838733755952937,0.2379522792361936,0.11520996357152674,0.033131582801520176,0.0003910359773805012,0.02044828655561934,0.09118371953983613,0.2051221386689383,0.35022273202255916,0.5111515238666224,0.6709018422639788,0.8125915542805052,0.9212471401282112,0.9853860684248854,0.9982302499334015,0.958422334121804,0.8701691515823806,0.742797143566935,0.5897667600637693,0.4272499830956933],[0.4272499830956933,0.5897667600637693,0.7427971435669347,0.8701691515823802,0.9584223341218034,0.9982302499334016,0.9853860684248854,0.9212471401282115,0.8125915542805059,0.6709018422639798,0.5111515238666232,0.35022273202255966,0.2051221386689387,0.09118371953983662,0.020448286555619588,0.0003910359773804837,0.033131582801520024,0.11520996357152646,0.23795227923619283,0.3883873375595286,0.550617425923208,0.7074983536605337,0.8424512200002257,0.9412144431674014,0.9933508992850147,0.9933508992850147,0.9412144431674018,0.8424512200002265,0.7074983536605342,0.5506174259232085,0.38838733755952926,0.2379522792361936,0.11520996357152674,0.03313158280152018,0.0003910359773805012,0.02044828655561934,0.09118371953983612,0.2051221386689383,0.35022273202255916,0.5111515238666224,0.6709018422639788,0.8125915542805053,0.9212471401282112,0.9853860684248854,0.9982302499334016,0.9584223341218041,0.8701691515823806,0.7427971435669352,0.5897667600637693,0.4272499830956933],[0.42724998309569334,0.5897667600637695,0.7427971435669349,0.8701691515823802,0.9584223341218038,0.9982302499334017,0.9853860684248854,0.9212471401282116,0.8125915542805059,0.6709018422639796,0.5111515238666231,0.35022273202255966,0.2051221386689387,0.09118371953983664,0.020448286555619588,0.0003910359773804837,0.033131582801520024,0.11520996357152649,0.23795227923619283,0.3883873375595286,0.550617425923208,0.7074983536605338,0.8424512200002258,0.9412144431674014,0.9933508992850147,0.9933508992850147,0.9412144431674019,0.8424512200002263,0.7074983536605342,0.5506174259232086,0.38838733755952937,0.2379522792361936,0.11520996357152674,0.03313158280152018,0.00039103597738050127,0.02044828655561934,0.09118371953983613,0.20512213866893836,0.35022273202255916,0.5111515238666224,0.6709018422639788,0.8125915542805052,0.9212471401282114,0.9853860684248854,0.9982302499334017,0.9584223341218041,0.8701691515823807,0.7427971435669352,0.5897667600637695,0.42724998309569334],[0.4272499830956932,0.5897667600637694,0.7427971435669347,0.8701691515823802,0.9584223341218037,0.9982302499334015,0.9853860684248854,0.9212471401282115,0.8125915542805058,0.6709018422639796,0.5111515238666232,0.3502227320225597,0.2051221386689387,0.09118371953983662,0.020448286555619585,0.0003910359773804837,0.033131582801520024,0.11520996357152646,0.23795227923619283,0.3883873375595285,0.5506174259232081,0.7074983536605336,0.8424512200002258,0.9412144431674013,0.9933508992850146,0.9933508992850146,0.9412144431674018,0.8424512200002263,0.707498353660534,0.5506174259232085,0.38838733755952937,0.2379522792361936,0.11520996357152674,0.03313158280152019,0.00039103597738050127,0.020448286555619335,0.09118371953983612,0.20512213866893836,0.35022273202255916,0.5111515238666224,0.6709018422639788,0.8125915542805053,0.9212471401282112,0.9853860684248854,0.9982302499334015,0.9584223341218041,0.8701691515823806,0.7427971435669352,0.5897667600637694,0.4272499830956932],[0.42724998309569334,0.5897667600637694,0.7427971435669347,0.8701691515823803,0.9584223341218037,0.9982302499334017,0.9853860684248855,0.9212471401282116,0.8125915542805059,0.6709018422639798,0.5111515238666233,0.3502227320225596,0.2051221386689387,0.09118371953983663,0.020448286555619588,0.00039103597738048376,0.03313158280152002,0.11520996357152648,0.2379522792361929,0.3883873375595286,0.550617425923208,0.7074983536605337,0.842451220000226,0.9412144431674014,0.9933508992850146,0.9933508992850146,0.941214443167402,0.8424512200002264,0.7074983536605343,0.5506174259232085,0.38838733755952937,0.2379522792361936,0.11520996357152674,0.03313158280152019,0.00039103597738050127,0.020448286555619342,0.09118371953983614,0.20512213866893836,0.3502227320225592,0.5111515238666224,0.6709018422639788,0.8125915542805052,0.9212471401282114,0.9853860684248855,0.9982302499334017,0.9584223341218041,0.8701691515823806,0.7427971435669352,0.5897667600637694,0.42724998309569334],[0.42724998309569334,0.5897667600637695,0.7427971435669347,0.8701691515823803,0.9584223341218037,0.9982302499334017,0.9853860684248855,0.9212471401282116,0.812591554280506,0.6709018422639796,0.5111515238666232,0.35022273202255966,0.20512213866893872,0.09118371953983664,0.020448286555619588,0.00039103597738048376,0.033131582801520024,0.11520996357152649,0.23795227923619286,0.3883873375595286,0.5506174259232082,0.7074983536605338,0.8424512200002258,0.9412144431674015,0.9933508992850147,0.9933508992850147,0.941214443167402,0.8424512200002265,0.7074983536605342,0.5506174259232086,0.3883873375595293,0.23795227923619364,0.11520996357152674,0.03313158280152019,0.00039103597738050127,0.02044828655561934,0.09118371953983612,0.20512213866893833,0.35022273202255916,0.5111515238666224,0.6709018422639788,0.8125915542805053,0.9212471401282114,0.9853860684248855,0.9982302499334017,0.9584223341218041,0.8701691515823807,0.7427971435669352,0.5897667600637695,0.42724998309569334],[0.42724998309569323,0.5897667600637695,0.7427971435669347,0.8701691515823802,0.9584223341218036,0.9982302499334016,0.9853860684248853,0.9212471401282115,0.8125915542805058,0.6709018422639796,0.5111515238666231,0.35022273202255966,0.2051221386689387,0.09118371953983663,0.020448286555619585,0.00039103597738048376,0.03313158280152002,0.11520996357152649,0.23795227923619283,0.38838733755952853,0.5506174259232081,0.7074983536605337,0.8424512200002257,0.9412144431674013,0.9933508992850146,0.9933508992850146,0.9412144431674018,0.8424512200002263,0.707498353660534,0.5506174259232085,0.3883873375595293,0.2379522792361936,0.11520996357152676,0.03313158280152019,0.0003910359773805013,0.02044828655561934,0.09118371953983612,0.20512213866893833,0.35022273202255916,0.5111515238666223,0.6709018422639788,0.8125915542805052,0.9212471401282113,0.9853860684248853,0.9982302499334016,0.958422334121804,0.8701691515823805,0.7427971435669352,0.5897667600637695,0.42724998309569323],[0.42724998309569334,0.5897667600637695,0.7427971435669348,0.8701691515823803,0.9584223341218038,0.9982302499334016,0.9853860684248854,0.9212471401282115,0.8125915542805058,0.6709018422639796,0.5111515238666232,0.3502227320225597,0.2051221386689387,0.09118371953983663,0.02044828655561958,0.00039103597738048365,0.03313158280152002,0.11520996357152646,0.23795227923619283,0.38838733755952853,0.5506174259232081,0.7074983536605337,0.8424512200002257,0.9412144431674014,0.9933508992850147,0.9933508992850147,0.9412144431674019,0.8424512200002263,0.707498353660534,0.5506174259232085,0.38838733755952937,0.2379522792361936,0.11520996357152673,0.033131582801520176,0.0003910359773805012,0.020448286555619335,0.09118371953983613,0.20512213866893836,0.35022273202255916,0.5111515238666224,0.6709018422639788,0.8125915542805052,0.9212471401282113,0.9853860684248854,0.9982302499334016,0.9584223341218042,0.8701691515823806,0.7427971435669352,0.5897667600637695,0.42724998309569334],[0.42724998309569323,0.5897667600637694,0.7427971435669348,0.8701691515823803,0.9584223341218037,0.9982302499334017,0.9853860684248854,0.9212471401282114,0.8125915542805059,0.6709018422639796,0.5111515238666232,0.3502227320225597,0.2051221386689387,0.09118371953983664,0.020448286555619585,0.0003910359773804837,0.033131582801520024,0.11520996357152648,0.23795227923619286,0.38838733755952853,0.550617425923208,0.7074983536605337,0.8424512200002259,0.9412144431674014,0.9933508992850147,0.9933508992850147,0.9412144431674019,0.8424512200002264,0.7074983536605342,0.5506174259232085,0.3883873375595294,0.2379522792361936,0.11520996357152673,0.03313158280152018,0.0003910359773805013,0.020448286555619342,0.09118371953983612,0.2051221386689383,0.3502227320225592,0.5111515238666224,0.6709018422639789,0.8125915542805052,0.9212471401282113,0.9853860684248854,0.9982302499334017,0.9584223341218041,0.8701691515823805,0.742797143566935,0.5897667600637694,0.42724998309569323],[0.42724998309569323,0.5897667600637695,0.7427971435669348,0.8701691515823803,0.9584223341218038,0.9982302499334017,0.9853860684248854,0.9212471401282115,0.812591554280506,0.6709018422639796,0.5111515238666231,0.35022273202255966,0.20512213866893872,0.09118371953983663,0.020448286555619585,0.0003910359773804837,0.033131582801520024,0.11520996357152649,0.2379522792361929,0.3883873375595286,0.5506174259232081,0.7074983536605337,0.8424512200002258,0.9412144431674014,0.9933508992850147,0.9933508992850147,0.9412144431674019,0.8424512200002264,0.707498353660534,0.5506174259232084,0.3883873375595295,0.2379522792361936,0.11520996357152673,0.03313158280152019,0.0003910359773805013,0.020448286555619335,0.09118371953983614,0.20512213866893833,0.35022273202255916,0.5111515238666224,0.6709018422639789,0.8125915542805053,0.9212471401282114,0.9853860684248854,0.9982302499334017,0.958422334121804,0.8701691515823806,0.7427971435669352,0.5897667600637695,0.42724998309569323],[0.4272499830956933,0.5897667600637695,0.7427971435669347,0.8701691515823802,0.9584223341218038,0.9982302499334018,0.9853860684248855,0.9212471401282115,0.8125915542805058,0.6709018422639798,0.5111515238666232,0.3502227320225597,0.2051221386689387,0.09118371953983666,0.020448286555619585,0.00039103597738048376,0.033131582801520024,0.11520996357152649,0.23795227923619286,0.3883873375595286,0.550617425923208,0.7074983536605337,0.8424512200002259,0.9412144431674015,0.9933508992850149,0.9933508992850149,0.941214443167402,0.8424512200002264,0.7074983536605342,0.5506174259232086,0.38838733755952937,0.23795227923619364,0.11520996357152677,0.03313158280152019,0.0003910359773805014,0.02044828655561934,0.09118371953983614,0.20512213866893836,0.35022273202255927,0.5111515238666224,0.6709018422639789,0.8125915542805053,0.9212471401282114,0.9853860684248855,0.9982302499334018,0.9584223341218041,0.8701691515823806,0.7427971435669352,0.5897667600637695,0.4272499830956933],[0.42724998309569323,0.5897667600637694,0.7427971435669347,0.8701691515823802,0.9584223341218037,0.9982302499334016,0.9853860684248854,0.9212471401282114,0.8125915542805058,0.6709018422639796,0.5111515238666232,0.3502227320225597,0.2051221386689387,0.09118371953983662,0.020448286555619585,0.0003910359773804837,0.033131582801520024,0.11520996357152646,0.23795227923619283,0.3883873375595285,0.550617425923208,0.7074983536605337,0.8424512200002257,0.9412144431674014,0.9933508992850146,0.9933508992850146,0.9412144431674018,0.8424512200002263,0.707498353660534,0.5506174259232084,0.38838733755952937,0.2379522792361936,0.11520996357152671,0.033131582801520176,0.00039103597738050127,0.02044828655561934,0.09118371953983612,0.20512213866893833,0.3502227320225591,0.5111515238666224,0.6709018422639788,0.8125915542805051,0.9212471401282112,0.9853860684248854,0.9982302499334016,0.958422334121804,0.8701691515823806,0.7427971435669352,0.5897667600637694,0.42724998309569323],[0.4272499830956933,0.5897667600637693,0.7427971435669347,0.8701691515823801,0.9584223341218036,0.9982302499334017,0.9853860684248854,0.9212471401282114,0.8125915542805058,0.6709018422639796,0.5111515238666231,0.35022273202255966,0.2051221386689387,0.09118371953983663,0.02044828655561958,0.0003910359773804837,0.03313158280152002,0.11520996357152648,0.23795227923619283,0.3883873375595285,0.550617425923208,0.7074983536605337,0.8424512200002258,0.9412144431674014,0.9933508992850146,0.9933508992850146,0.9412144431674017,0.8424512200002263,0.7074983536605342,0.5506174259232084,0.3883873375595293,0.23795227923619358,0.11520996357152674,0.033131582801520176,0.00039103597738050127,0.02044828655561934,0.09118371953983612,0.20512213866893836,0.35022273202255916,0.5111515238666224,0.6709018422639788,0.8125915542805051,0.9212471401282114,0.9853860684248854,0.9982302499334017,0.9584223341218039,0.8701691515823805,0.7427971435669349,0.5897667600637693,0.4272499830956933]],\"type\":\"surface\",\"showlegend\":false},{\"line\":{\"color\":\"yellow\",\"width\":10},\"mode\":\"lines\",\"x\":[0.9163264999999999,1.0111947940669703,1.0826000253016157,1.1434161852555067,1.197917403556452,1.248132803263779,1.2952096533874602,1.339868864863767,1.3825967965755876,1.423738774865259,1.4635496097744642,1.5022230386141242,1.5399099280266406,1.5767300680963288,1.6127801137625768,1.6481391059712232,1.6828724154660306,1.7170346258807612,1.7506716840556071,1.7838225320790875,1.8165203651078468,1.84879361397685,1.8806667220721496,1.9121607661181346,1.94329395695867,1.9740820469448492,2.004538663828083,2.03467558622258,2.064502972171074,2.0940295497367827,2.1232627765906815,2.1522089740848966,2.180873440173161,2.2092605446675804,2.237373809642481,2.265215977263733,2.2927890669010345,2.3200944230455383,2.3471327552867765,2.3739041713865783,2.400408204312709,2.4266438339528724,2.452609504114163,2.478303135319131,2.5037221338335423,2.528863397299917,2.553723317302767,2.5782977791547,2.6025821591660243,2.626571319643619,2.6502596018572646,2.6736408172134207,2.696708236887934,2.7194545801909866,2.741872001970693,2.763952079407291,2.7856857986094,2.8070635414989584,2.8280750735642792,2.8487095331731553,2.8689554232723853,2.8888006064584886,2.908232304588526,2.9272371043109904,2.945800970134703,2.9639092669169402,2.981546793936487,2.998697833015337,3.0153462134519997,3.0314753968111985,3.047068584852792,3.0621088540410573,3.0765793201072924,3.0904633359853895,3.1037447260316817,3.116408058697726,3.1284389586643684,3.1398244577885053,3.1505533819991887,3.16061676848155,3.1700083041375855,3.1787247725259347,3.1867664924755275,3.1941377276742773,3.2008470432019416,3.206907582742188,3.2123372396428462,3.217158696616458,3.2213993130556706,3.2250908457944325,3.2282689984530317,3.2309728056660254,3.233243870566058,3.2351254856968,3.2366616777751647,3.2378962242230003,3.2388716932027504,3.2396285584642115,3.240204435537026,3.240633477044518,3.240945952948009,3.241168027478122,3.2413217297273387,3.2414251008276898,3.2414924887327174,3.2415349530619992,3.241560738066758,3.241575771837464,3.2415841541140358,3.2415886026292653,3.2415908375360045,3.2415918936444608,3.2415923594885045,3.241592549523448,3.241592620403681,3.2415926442295886,3.241592651313231,3.241592653129286,3.2415926535165114,3.2415926535814648,3.241592653589246,3.241592653589785,3.2415926535897936,3.2415926535897936,3.2415926535897936,3.2415926535897936,3.2415926535897936,3.2415926535897936,3.2415926535897936,3.2415926535897936,3.2415926535897936,3.2415926535897936,3.2415926535897936,3.2415926535897936,3.2415926535897936,3.241592653589794,3.2415926535897923,3.241592653589795,3.241592653589791,3.241592653589796,3.2415926535897888,3.2415926535898016,3.241592653589775,3.241592653589831,3.2415926535897075,3.2415926535900055,3.241592653589226,3.2415926535914217,3.241592653584772,3.241592653606382,3.2415926535311357,3.241592653811572,3.241592652693976,3.2415926574521152,3.2415926358291682,3.2415927406312264,3.2415921992801424,3.2415951774002445,3.241577740084056,3.2416863401106784,3.240967327159991,3.246018189789884,3.211004752713652,3.2999197673822147,3.216133061066809,3.251861722225507,3.2368609369705705,3.2441254599172855,3.240030376608691,3.2426918617634923,3.2407184046168,3.242372620436283,3.240817193131975,3.242447028032234,3.2405545982291457,3.2429774331663532,3.239572748133166,3.2447995890139594,3.2360893256025207,3.2516320650666355,3.2231265908773437,3.270879465905716,3.2098007063399283,3.2660683240076382,3.2249221659099,3.2531283545984486,3.2330214182759702,3.248556820240435,3.2353804616706006,3.2476654436726498,3.2351178539827927,3.2490663202614645,3.2323605525051136,3.2535626252407925,3.2258503612580456,3.2614577520299117,3.219083357322203,3.2637369195806314,3.2221239917065634,3.2578494149736703,3.228000888278269,3.253349880908767],\"y\":[1.8163265,1.8163265,1.8163265,1.8163265,1.8163265,1.8163265,1.8163265,1.8163265,1.8163265,1.8163265,1.8163265000000166,1.8163265000000166,1.8163265000000166,1.8163265000000166,1.8163265000000166,1.8163265000000166,1.8163265000000166,1.8163265000000166,1.8163265000000166,1.8163265000000166,1.8163265000000166,1.8163265000000166,1.8163265000000166,1.8163265000000166,1.8163265000000166,1.8163265000000166,1.8163265000000166,1.8163265000000166,1.8163265000000166,1.8163265000000166,1.8163265000000166,1.8163265000000166,1.8163265000000166,1.8163265000000166,1.8163265000000166,1.8163265000000166,1.8163265000000208,1.8163265000000208,1.8163265000000208,1.8163265000000208,1.8163265000000208,1.8163265000000208,1.8163265000000208,1.8163265000000208,1.8163265000000208,1.8163265000000208,1.8163265000000208,1.8163265000000208,1.8163265000000208,1.8163265000000208,1.8163265000000208,1.8163265000000208,1.8163265000000208,1.8163265000000208,1.8163265000000208,1.8163265000000208,1.8163265000000208,1.8163265000000208,1.8163265000000208,1.8163265000000208,1.816326500000022,1.816326500000022,1.816326500000022,1.8163265000000224,1.8163265000000224,1.8163265000000224,1.8163265000000228,1.8163265000000228,1.8163265000000228,1.8163265000000228,1.8163265000000228,1.8163265000000228,1.8163265000000228,1.8163265000000228,1.816326500000023,1.816326500000023,1.816326500000023,1.816326500000023,1.816326500000023,1.816326500000023,1.816326500000023,1.816326500000023,1.816326500000023,1.816326500000023,1.816326500000023,1.816326500000023,1.816326500000023,1.816326500000023,1.816326500000023,1.816326500000023,1.816326500000023,1.816326500000023,1.816326500000023,1.816326500000023,1.816326500000023,1.816326500000023,1.816326500000023,1.816326500000023,1.816326500000023,1.816326500000023,1.816326500000023,1.816326500000023,1.816326500000023,1.816326500000023,1.816326500000023,1.816326500000023,1.816326500000023,1.816326500000023,1.816326500000023,1.816326500000023,1.816326500000023,1.816326500000023,1.816326500000023,1.816326500000023,1.816326500000023,1.816326500000023,1.816326500000023,1.816326500000023,1.816326500000023,1.816326500000023,1.816326500000023,1.816326500000023,1.816326500000023,1.816326500000023,1.816326500000023,1.816326500000023,1.816326500000023,1.816326500000023,1.816326500000023,1.816326500000023,1.816326500000023,1.816326500000023,1.816326500000023,1.816326500000023,1.816326500000023,1.816326500000023,1.816326500000023,1.816326500000023,1.816326500000023,1.816326500000023,1.816326500000023,1.816326500000023,1.816326500000023,1.816326500000023,1.816326500000023,1.816326500000023,1.816326500000023,1.816326500000023,1.816326500000023,1.816326500000023,1.816326500000023,1.816326500000023,1.816326500000023,1.816326500000023,1.816326500000023,1.816326500000023,1.816326500000023,1.816326500000023,1.816326500000023,1.816326500000023,1.816326500000023,1.816326500000023,1.816326500000023,1.816326500000023,1.816326500000023,1.816326500000023,1.816326500000023,1.816326500000023,1.816326500000023,1.816326500000023,1.816326500000023,1.816326500000023,1.816326500000023,1.816326500000023,1.816326500000023,1.816326500000023,1.816326500000023,1.816326500000023,1.816326500000023,1.816326500000023,1.816326500000023,1.816326500000023,1.816326500000023,1.816326500000023,1.816326500000023,1.816326500000023,1.816326500000023,1.816326500000023,1.816326500000023,1.816326500000023,1.816326500000023,1.816326500000023,1.816326500000023,1.816326500000023,1.816326500000023,1.816326500000023,1.816326500000023,1.816326500000023,1.816326500000023,1.816326500000023,1.816326500000023,1.816326500000023],\"z\":[0.842451231146697,0.8064010086236522,0.7774306761275511,0.7516355882398784,0.7277255808439804,0.7050955188315129,0.6834091850469122,0.6624601535731927,0.6421132367104292,0.6222759589290945,0.602883158629993,0.5838880159572,0.5652565054042498,0.5469637982314453,0.5289918362832395,0.5113276411866536,0.49396210242412053,0.4768890876293881,0.46010477536765393,0.44360714561480563,0.4273955840180861,0.41147057032503653,0.3958334296621615,0.3804861317621544,0.36543112725485116,0.3506712129164953,0.33620941985282116,0.3220489199447911,0.308192947297357,0.2946447316353442,0.28140744179836474,0.2684841373265954,0.25587772714789025,0.2435909339110367,0.2316262633394217,0.21998597773199435,0.20867207297123969,0.19768625874712598,0.18702994131308515,0.17670420854119584,0.16670981707284227,0.15704718108463567,0.14771636262594257,0.13871706328063738,0.13004861696390435,0.12170998383953702,0.1136997449939372,0.10601609802688472,0.09865685334079899,0.09161943104118109,0.08490085850644391,0.07849776837974787,0.07240639723022468,0.06662258463620674,0.06114177280687727,0.05595900671323761,0.051068934859358706,0.04646581059205346,0.042143494210904464,0.038095455849543214,0.034314779317355715,0.03079416710534133,0.02752594670164399,0.024502078551449813,0.021714165719458833,0.019153465967974626,0.01681090625061188,0.014677100261906162,0.012742369406623766,0.01099676766898483,0.009430111007532105,0.008032011581235565,0.006791917403461412,0.005699157831259072,0.004742995093693025,0.003912681990186684,0.0031975257879821584,0.002586957547464408,0.002070606526103802,0.0016383779438911006,0.0012805328151443973,0.0009877672127913684,0.0007512887677876279,0.0005628868530038744,0.0004149937740294263,0.0003007333871209994,0.00021395455405581743,0.00014924713468644768,0.00010193928028456867,6.807586760260165e-05,4.437929601408541e-05,2.8195034246891737e-05,1.742543827276677e-05,1.0456031304784119e-05,6.078611477278173e-06,3.415887476876378e-06,1.850901753641665e-06,9.644136298447847e-07,4.817848093807697e-07,2.3000757209956646e-07,1.0455551091581583e-07,4.508183337748051e-08,1.83499651029706e-08,7.0140231400728226e-09,2.5029294192790985e-09,8.294591680169106e-10,2.473825588822365e-10,7.275957614183426e-11,1.4551915228366852e-11,0.0,0.0,0.0,0.0,0.0,0.0,0.0,0.0,0.0,0.0,0.0,0.0,0.0,0.0,0.0,0.0,0.0,0.0,0.0,0.0,0.0,0.0,0.0,0.0,0.0,0.0,0.0,0.0,0.0,0.0,0.0,0.0,0.0,0.0,0.0,0.0,0.0,0.0,0.0,0.0,0.0,0.0,0.0,0.0,0.0,0.0,0.0,0.0,0.0,5.820766091346741e-11,2.1973391994833946e-09,9.775976650416851e-08,4.896341124549508e-06,0.0002338866761419922,0.0008502719574607909,0.0001620389666641131,2.636321005411446e-05,5.597277777269483e-06,1.603781129233539e-06,6.101763574406505e-07,3.020686563104391e-07,1.9108119886368513e-07,1.5208206605166197e-07,1.5033583622425795e-07,1.824955688789487e-07,2.6938505470752716e-07,4.793982952833176e-07,1.0200019460171461e-06,2.571105142123997e-06,7.571637979708612e-06,2.5197237846441567e-05,8.52464436320588e-05,0.00021441401622723788,0.00025266069860663265,0.00014975713565945625,6.947468500584364e-05,3.326773003209382e-05,1.8366408767178655e-05,1.2124859495088458e-05,9.647803381085396e-06,9.219671483151615e-06,1.0480725904926658e-05,1.3963857782073319e-05,2.1307772840373218e-05,3.5819626646116376e-05,6.195365858729929e-05,9.865229367278516e-05,0.00012666176189668477,0.00012258712376933545,9.475419938098639e-05,6.606911483686417e-05,4.618331149686128e-05],\"type\":\"scatter3d\",\"showlegend\":false},{\"marker\":{\"color\":\"yellow\",\"size\":7},\"name\":\"Parameter Shift Rule\",\"x\":[0.9163264999999999],\"y\":[1.8163265],\"z\":[0.842451231146697],\"type\":\"scatter3d\"},{\"line\":{\"color\":\"blue\",\"width\":10},\"mode\":\"lines\",\"x\":[0.9163264999999999,1.0111947940657788,1.0826000252999624,1.1434161852535918,1.1979174035543638,1.248132803261566,1.2952096533851514,1.339868864861384,1.3825967965731443,1.423738774862766,1.4635496097719296,1.5022230386115547,1.539909928024042,1.5767300680937046,1.6127801137599307,1.6481391059685586,1.6828724154633494,1.7170346258780655,1.7506716840528993,1.7838225320763685,1.8165203651051183,1.8487936139741135,1.8806667220694058,1.9121607661153852,1.9432939569559158,1.9740820469420908,2.004538663825321,2.034675586219815,2.064502972168307,2.094029549734014,2.1232627765879117,2.152208974082126,2.18087344017039,2.2092605446648097,2.237373809639711,2.2652159772609646,2.2927890668982673,2.320094423042773,2.3471327552840133,2.3739041713838183,2.400408204309952,2.426643833950119,2.4526095041114138,2.4783031353163856,2.5037221338308013,2.528863397297181,2.5537233173000367,2.5782977791519754,2.602582159163306,2.6265713196409077,2.650259601854561,2.673640817210725,2.6967082368852466,2.7194545801883088,2.7418720019680247,2.7639520794046337,2.785685798606754,2.8070635414963245,2.8280750735616587,2.848709533170549,2.868955423269794,2.8888006064559133,2.908232304585968,2.927237104308451,2.9458009701321837,2.963909266914443,2.9815467939340135,2.998697833012889,3.0153462134495785,3.031475396808807,3.0470685848504324,3.062108854038732,3.0765793201050045,3.090463335983142,3.1037447260294777,3.1164080586955687,3.128438958662261,3.139824457786452,3.150553381997193,3.160616768479616,3.170008304135718,3.178724772524138,3.1867664924738053,3.194137727672634,3.2008470432003815,3.206907582740715,3.212337239641464,3.2171586966151686,3.2213993130544774,3.225090845793337,3.2282689984520347,3.2309728056651266,3.2332438705652566,3.2351254856960936,3.2366616777745496,3.2378962242224714,3.238871693202303,3.239628558463839,3.240204435536721,3.2406334770442737,3.2409459529478175,3.2411680274779755,3.241321729727229,3.24142510082761,3.241492488732661,3.241534953061961,3.2415607380667333,3.2415757718374483,3.2415841541140265,3.24158860262926,3.241590837536002,3.2415918936444594,3.241592359488504,3.2415925495234474,3.241592620403681,3.241592644229589,3.241592651313231,3.241592653129286,3.241592653516512,3.241592653581465,3.2415926535892465,3.241592653589785,3.2415926535897936,3.2415926535897936,3.2415926535897936,3.2415926535897936,3.2415926535897936,3.2415926535897936,3.2415926535897936,3.2415926535897936,3.2415926535897936,3.2415926535897936,3.2415926535897936,3.2415926535897936,3.2415926535897936,3.2415926535897936,3.2415926535897936,3.241592653589793,3.241592653589794,3.2415926535897928,3.241592653589795,3.241592653589791,3.2415926535897985,3.241592653589783,3.241592653589818,3.2415926535897324,3.241592653589957,3.241592653589324,3.2415926535912414,3.241592653585011,3.2415926536067046,3.241592653525854,3.2415926538480613,3.2415926524762697,3.2415926587102573,3.241592628495379,3.241592784569188,3.24159192596459,3.2415969532163347,3.2415656433530002,3.2417729435330696,3.240314777194218,3.2511363130143303,3.1877578273995444,3.279752673134999,3.224082368709681,3.2499905526169024,3.2370155472761755,3.2444469552829447,3.2395685053812677,3.243212515446696,3.2401402215609267,3.243042587584187,3.2399900984184753,3.2435438570127335,3.238988215436675,3.2453832772435947,3.2356243288251822,3.251589599557853,3.224569505465519,3.267751436356159,3.2114565444970355,3.266917344584707,3.223291240452742,3.2546564568545953,3.231754022860745,3.2496104589119073,3.2344682442337906,3.2484950533204406,3.234330931130719,3.2498273177549124,3.231647679024372,3.2541310734623043,3.2256318956902015,3.2610983778218827,3.2199360760518942,3.2628879931628774,3.2225853731519667,3.2577954439566783,3.227781829996665,3.2537209684722708,3.2304437273145568],\"y\":[1.3163265,1.3163265000033306,1.3163265000016653,1.3163265000016653,1.3163265000016653,1.316326500004996,1.316326500004996,1.3163265000033306,1.316326500004996,1.3163265000083266,1.3163265000083266,1.3163265000083266,1.3163265000083266,1.3163265000083266,1.3163265000083266,1.3163265000083266,1.316326500009992,1.3163265000083266,1.3163265000091593,1.316326500007494,1.316326500007494,1.3163265000083266,1.3163265000083266,1.3163265000083266,1.3163265000083266,1.316326500007494,1.316326500007494,1.316326500007494,1.3163265000083266,1.3163265000083266,1.3163265000083266,1.3163265000083266,1.316326500007494,1.316326500007494,1.316326500007494,1.316326500007494,1.316326500007494,1.316326500007494,1.316326500007494,1.3163265000079103,1.316326500007494,1.3163265000070776,1.3163265000066613,1.3163265000066613,1.3163265000066613,1.3163265000066613,1.3163265000066613,1.3163265000068693,1.316326500007702,1.316326500007702,1.3163265000074937,1.316326500007702,1.316326500007702,1.316326500007702,1.3163265000079103,1.3163265000079103,1.3163265000081186,1.3163265000082227,1.3163265000084308,1.3163265000083266,1.3163265000083266,1.3163265000083266,1.3163265000082747,1.3163265000083266,1.3163265000083266,1.3163265000083786,1.3163265000083786,1.3163265000083266,1.3163265000083266,1.3163265000083266,1.3163265000083266,1.3163265000083006,1.3163265000082747,1.3163265000082747,1.3163265000082878,1.3163265000082878,1.3163265000082747,1.3163265000082747,1.3163265000082747,1.3163265000082682,1.3163265000082716,1.3163265000082716,1.316326500008275,1.3163265000082764,1.3163265000082764,1.3163265000082773,1.3163265000082773,1.3163265000082773,1.316326500008277,1.3163265000082771,1.3163265000082771,1.3163265000082771,1.3163265000082773,1.3163265000082773,1.3163265000082773,1.3163265000082773,1.3163265000082773,1.3163265000082773,1.3163265000082773,1.3163265000082773,1.3163265000082773,1.3163265000082773,1.3163265000082773,1.3163265000082773,1.3163265000082773,1.3163265000082773,1.3163265000082773,1.3163265000082773,1.3163265000082773,1.3163265000082773,1.3163265000082773,1.3163265000082773,1.3163265000082773,1.3163265000082773,1.3163265000082773,1.3163265000082773,1.3163265000082773,1.3163265000082773,1.3163265000082773,1.3163265000082773,1.3163265000082773,1.3163265000082773,1.3163265000082773,1.3163265000082773,1.3163265000082773,1.3163265000082773,1.3163265000082773,1.3163265000082773,1.3163265000082773,1.3163265000082773,1.3163265000082773,1.3163265000082773,1.3163265000082773,1.3163265000082773,1.3163265000082773,1.3163265000082773,1.3163265000082773,1.3163265000082773,1.3163265000082773,1.3163265000082773,1.3163265000082773,1.3163265000082773,1.3163265000082773,1.3163265000082773,1.3163265000082773,1.3163265000082773,1.3163265000082773,1.3163265000082773,1.3163265000082773,1.3163265000082773,1.3163265000082773,1.3163265000082773,1.3163265000082773,1.3163265000082773,1.3163265000082773,1.3163265000082773,1.3163265000082773,1.3163265000082773,1.3163265000082773,1.3163265000082773,1.3163265000082773,1.3163265000082773,1.3163265000082773,1.3163265000082773,1.3163265000082758,1.3163265000082758,1.3163265000082758,1.3163265000082758,1.3163265000082758,1.3163265000082758,1.3163265000082758,1.3163265000082758,1.3163265000082758,1.3163265000082758,1.3163265000082758,1.3163265000082758,1.3163265000082758,1.3163265000082758,1.3163265000082758,1.3163265000082758,1.3163265000082756,1.3163265000082747,1.3163265000082738,1.3163265000082738,1.3163265000082736,1.3163265000082736,1.3163265000082736,1.3163265000082736,1.3163265000082736,1.3163265000082736,1.3163265000082736,1.3163265000082736,1.3163265000082736,1.3163265000082733,1.3163265000082733,1.3163265000082733,1.3163265000082736,1.3163265000082736,1.3163265000082736,1.3163265000082738,1.3163265000082738,1.3163265000082738],\"z\":[0.842451231146697,0.8064010086236522,0.7774306761275511,0.7516355882398784,0.7277255808439804,0.7050955188315129,0.6834091850469122,0.6624601535877446,0.6421132367104292,0.6222759589436464,0.602883158629993,0.5838880159572,0.5652565054042498,0.5469637982314453,0.5289918362832395,0.5113276411866536,0.49396210242412053,0.4768890876293881,0.46010477536765393,0.44360714561480563,0.4273955840180861,0.41147057033958845,0.3958334296621615,0.3804861317621544,0.36543112725485116,0.3506712129164953,0.33620941985282116,0.3220489199447911,0.308192947297357,0.2946447316353442,0.28140744179836474,0.2684841373265954,0.25587772714789025,0.2435909339110367,0.2316262633394217,0.21998597773199435,0.20867207297123969,0.19768625874712598,0.18702994131308515,0.17670420854119584,0.16670981707284227,0.15704718108463567,0.14771636262594257,0.13871706328063738,0.13004861696390435,0.12170998383953702,0.1136997449939372,0.10601609802688472,0.09865685334079899,0.09161943104118109,0.08490085850644391,0.07849776837974787,0.07240639723022468,0.06662258463620674,0.06114177280687727,0.05595900671323761,0.051068934859358706,0.04646581059205346,0.042143494210904464,0.038095455849543214,0.034314779317355715,0.03079416710534133,0.02752594670164399,0.024502078551449813,0.021714165719458833,0.019153465967974626,0.01681090625061188,0.014677100261906162,0.012742369406623766,0.01099676766898483,0.009430111007532105,0.008032011581235565,0.006791917403461412,0.005699157831259072,0.004742995093693025,0.003912681990186684,0.0031975257879821584,0.002586957547464408,0.002070606526103802,0.0016383779438911006,0.0012805328151443973,0.0009877672127913684,0.0007512887677876279,0.0005628868530038744,0.0004149937740294263,0.0003007333871209994,0.00021395455405581743,0.00014924713468644768,0.00010193928028456867,6.807586760260165e-05,4.437929601408541e-05,2.8195034246891737e-05,1.742543827276677e-05,1.0456031304784119e-05,6.078611477278173e-06,3.415887476876378e-06,1.850901753641665e-06,9.644136298447847e-07,4.817848093807697e-07,2.3000757209956646e-07,1.0455551091581583e-07,4.508183337748051e-08,1.83499651029706e-08,7.0140231400728226e-09,2.5029294192790985e-09,8.294591680169106e-10,2.473825588822365e-10,7.275957614183426e-11,1.4551915228366852e-11,0.0,0.0,0.0,0.0,0.0,0.0,0.0,0.0,0.0,0.0,0.0,0.0,0.0,0.0,0.0,0.0,0.0,0.0,0.0,0.0,0.0,0.0,0.0,0.0,0.0,0.0,0.0,0.0,0.0,0.0,0.0,0.0,0.0,0.0,0.0,0.0,0.0,0.0,0.0,0.0,0.0,0.0,0.0,0.0,0.0,0.0,0.0,0.0,0.0,0.0,1.8917489796876907e-10,8.119968697428703e-09,4.0823942981660366e-07,2.2770182113163173e-05,0.0007243721483973786,0.00036400259705260396,7.665055454708636e-05,1.763107138685882e-05,5.237467121332884e-06,2.0367588149383664e-06,1.0242947610095143e-06,6.559857865795493e-07,5.273905117064714e-07,5.255715223029256e-07,6.420450517907739e-07,9.517971193417907e-07,1.6957783373072743e-06,3.592198481783271e-06,8.905204595066607e-06,2.49845179496333e-05,7.244513835757971e-05,0.0001710607175482437,0.00022702908609062433,0.00016032642452046275,8.373308810405433e-05,4.266513860784471e-05,2.4199471226893365e-05,1.6071207937784493e-05,1.2689255527220666e-05,1.191072806250304e-05,1.3183089322410524e-05,1.6952326404862106e-05,2.472542109899223e-05,3.93024820368737e-05,6.368508911691606e-05,9.511530515737832e-05,0.00011724725482054055,0.00011336858733557165,9.031646186485887e-05,6.563117494806647e-05,4.7683948650956154e-05,3.677354834508151e-05],\"type\":\"scatter3d\",\"showlegend\":false},{\"marker\":{\"color\":\"blue\",\"size\":7},\"name\":\"Finite Difference\",\"x\":[0.9163264999999999],\"y\":[1.3163265],\"z\":[0.842451231146697],\"type\":\"scatter3d\"},{\"line\":{\"color\":\"red\",\"width\":10},\"mode\":\"lines\",\"x\":[0.9163264999999999,1.0111947940669703,1.0826000253016157,1.1434161852555067,1.197917403556452,1.2481328032637788,1.29520965338746,1.3398688648637669,1.3825967965755874,1.4237387748652588,1.463549609774464,1.502223038614124,1.5399099280266404,1.5767300680963288,1.6127801137625768,1.6481391059712232,1.6828724154660306,1.7170346258807612,1.7506716840556074,1.7838225320790877,1.816520365107847,1.8487936139768502,1.8806667220721498,1.9121607661181348,1.9432939569586702,1.9740820469448495,2.0045386638280833,2.0346755862225803,2.0645029721710744,2.0940295497367827,2.123262776590682,2.152208974084897,2.1808734401731615,2.209260544667581,2.2373738096424813,2.2652159772637335,2.292789066901035,2.3200944230455387,2.347132755286777,2.3739041713865787,2.4004082043127095,2.426643833952873,2.4526095041141636,2.4783031353191314,2.5037221338335427,2.5288633972999173,2.5537233173027674,2.5782977791547004,2.6025821591660243,2.626571319643619,2.6502596018572646,2.6736408172134207,2.696708236887934,2.7194545801909866,2.741872001970693,2.763952079407291,2.7856857986094,2.8070635414989584,2.8280750735642792,2.8487095331731553,2.8689554232723853,2.8888006064584886,2.908232304588526,2.9272371043109904,2.945800970134703,2.9639092669169402,2.981546793936487,2.998697833015337,3.0153462134519997,3.0314753968111985,3.047068584852792,3.0621088540410573,3.0765793201072924,3.0904633359853895,3.1037447260316817,3.116408058697726,3.1284389586643684,3.1398244577885053,3.1505533819991887,3.16061676848155,3.1700083041375855,3.178724772525935,3.186766492475528,3.1941377276742777,3.200847043201942,3.2069075827421885,3.2123372396428467,3.2171586966164583,3.221399313055671,3.225090845794433,3.228268998453032,3.230972805666026,3.2332438705660587,3.2351254856968006,3.236661677775165,3.2378962242230003,3.238871693202751,3.2396285584642115,3.240204435537026,3.240633477044518,3.240945952948009,3.241168027478122,3.2413217297273382,3.2414251008276893,3.2414924887327174,3.2415349530619992,3.241560738066758,3.241575771837464,3.2415841541140358,3.2415886026292653,3.2415908375360045,3.2415918936444608,3.2415923594885045,3.2415925495234474,3.241592620403681,3.241592644229589,3.241592651313231,3.241592653129286,3.2415926535165114,3.2415926535814648,3.241592653589246,3.241592653589785,3.2415926535897936,3.241592653589793,3.2415926535897936,3.241592653589793,3.2415926535897936,3.241592653589793,3.2415926535897936,3.241592653589793,3.2415926535897936,3.241592653589793,3.2415926535897936,3.241592653589793,3.2415926535897936,3.241592653589793,3.2415926535897936,3.241592653589793,3.2415926535897936,3.2415926535897928,3.241592653589794,3.241592653589792,3.2415926535897963,3.2415926535897874,3.2415926535898065,3.2415926535897603,3.241592653589881,3.241592653589541,3.2415926535905712,3.2415926535872237,3.2415926535988793,3.24159265355544,3.2415926537285564,3.241592652991515,3.241592656340936,3.2415926401069677,3.241592723962919,3.241592262648438,3.241594963710294,3.2415781414206863,3.2416895206970753,3.240906002352448,3.246748418424409,3.205188291760551,3.2958839222151988,3.2169093044691865,3.252074452168425,3.236544906145874,3.2444010389948597,3.2397991750268726,3.242895296952409,3.2405256288127986,3.242571181923743,3.2405942570643376,3.242719874688901,3.2401910966437923,3.2435033289470394,3.2387497174230937,3.2461822821282715,3.233645276319484,3.255890053428746,3.21734684079732,3.273091271691685,3.2136205119555576,3.2616347414506475,3.2277601950380124,3.2516130396263203,3.233725647372318,3.24835167838152,3.2352331594880703,3.2481231363646774,3.234319222859348,3.250293588956347,3.2305899230440773,3.255901318991344,3.223316035340346,3.263135777753018,3.2192687280663876,3.262038195960958,3.2241788078732285,3.256177133794529,3.229102821777113],\"y\":[0.8163265,0.8163265,0.8163265,0.8163265,0.8163265,0.8163265,0.8163265,0.8163265,0.8163265,0.8163265,0.8163265,0.8163265,0.8163265,0.8163265,0.8163265,0.8163265,0.8163265,0.8163265,0.8163265,0.8163265,0.8163265,0.8163265,0.8163265,0.8163265,0.8163265,0.8163265,0.8163265,0.8163265,0.8163265,0.8163265,0.8163265,0.8163265,0.8163265,0.8163265,0.8163265,0.8163265,0.8163265,0.8163265,0.8163265,0.8163265,0.8163265,0.8163265,0.8163265,0.8163265,0.8163265,0.8163265,0.8163265,0.8163265,0.8163265,0.8163265,0.8163265,0.8163265,0.8163265,0.8163265,0.8163265,0.8163265,0.8163265,0.8163265,0.8163265,0.8163265,0.8163265,0.8163265,0.8163265,0.8163265,0.8163265,0.8163265,0.8163265,0.8163265,0.8163265,0.8163265,0.8163265,0.8163265,0.8163265,0.8163265,0.8163265,0.8163265,0.8163265,0.8163265,0.8163265,0.8163265,0.8163265,0.8163265,0.8163265,0.8163265,0.8163265,0.8163265,0.8163265,0.8163265,0.8163265,0.8163265,0.8163265,0.8163265,0.8163265,0.8163265,0.8163265,0.8163265,0.8163265,0.8163265,0.8163265,0.8163265,0.8163265,0.8163265,0.8163265,0.8163265,0.8163265,0.8163265,0.8163265,0.8163265,0.8163265,0.8163265,0.8163265,0.8163265,0.8163265,0.8163265,0.8163265,0.8163265,0.8163265,0.8163265,0.8163265,0.8163265,0.8163265,0.8163265,0.8163265,0.8163265,0.8163265,0.8163265,0.8163265,0.8163265,0.8163265,0.8163265,0.8163265,0.8163265,0.8163265,0.8163265,0.8163265,0.8163265,0.8163265,0.8163265,0.8163265,0.8163265,0.8163265,0.8163265,0.8163265,0.8163265,0.8163265,0.8163265,0.8163265,0.8163265,0.8163265,0.8163265,0.8163265,0.8163265,0.8163265,0.8163265,0.8163265,0.8163265,0.8163265,0.8163265,0.8163265,0.8163265,0.8163265,0.8163265,0.8163265,0.8163265,0.8163265,0.8163265,0.8163265,0.8163265,0.8163265,0.8163265,0.8163265,0.8163265,0.8163265,0.8163265,0.8163265,0.8163265,0.8163265,0.8163265,0.8163265,0.8163265,0.8163265,0.8163265,0.8163265,0.8163265,0.8163265,0.8163265,0.8163265,0.8163265,0.8163265,0.8163265,0.8163265,0.8163265,0.8163265,0.8163265,0.8163265,0.8163265,0.8163265,0.8163265,0.8163265,0.8163265,0.8163265,0.8163265],\"z\":[0.842451231146697,0.8064010086236522,0.7774306761275511,0.7516355882398784,0.7277255808439804,0.7050955188315129,0.6834091850469122,0.6624601535731927,0.6421132367104292,0.6222759589290945,0.602883158629993,0.5838880159572,0.5652565054042498,0.5469637982314453,0.5289918362832395,0.5113276411866536,0.49396210242412053,0.4768890876293881,0.46010477536765393,0.44360714561480563,0.4273955840180861,0.41147057032503653,0.3958334296621615,0.3804861317621544,0.36543112725485116,0.3506712129164953,0.33620941985282116,0.3220489199447911,0.308192947297357,0.2946447316353442,0.28140744179836474,0.2684841373265954,0.25587772714789025,0.2435909339110367,0.2316262633394217,0.21998597773199435,0.20867207297123969,0.19768625874712598,0.18702994131308515,0.17670420854119584,0.16670981707284227,0.15704718108463567,0.14771636262594257,0.13871706328063738,0.13004861696390435,0.12170998383953702,0.1136997449939372,0.10601609802688472,0.09865685334079899,0.09161943104118109,0.08490085850644391,0.07849776837974787,0.07240639723022468,0.06662258463620674,0.06114177280687727,0.05595900671323761,0.051068934859358706,0.04646581059205346,0.042143494210904464,0.038095455849543214,0.034314779317355715,0.03079416710534133,0.02752594670164399,0.024502078551449813,0.021714165719458833,0.019153465967974626,0.01681090625061188,0.014677100261906162,0.012742369406623766,0.01099676766898483,0.009430111007532105,0.008032011581235565,0.006791917403461412,0.005699157831259072,0.004742995093693025,0.003912681990186684,0.0031975257879821584,0.002586957547464408,0.002070606526103802,0.0016383779438911006,0.0012805328151443973,0.0009877672127913684,0.0007512887677876279,0.0005628868530038744,0.0004149937740294263,0.0003007333871209994,0.00021395455405581743,0.00014924713468644768,0.00010193928028456867,6.807586760260165e-05,4.437929601408541e-05,2.8195034246891737e-05,1.742543827276677e-05,1.0456031304784119e-05,6.078611477278173e-06,3.415887476876378e-06,1.850901753641665e-06,9.644136298447847e-07,4.817848093807697e-07,2.3000757209956646e-07,1.0455551091581583e-07,4.508183337748051e-08,1.83499651029706e-08,7.0140231400728226e-09,2.5029294192790985e-09,8.294591680169106e-10,2.473825588822365e-10,7.275957614183426e-11,1.4551915228366852e-11,0.0,0.0,0.0,0.0,0.0,0.0,0.0,0.0,0.0,0.0,0.0,0.0,0.0,0.0,0.0,0.0,0.0,0.0,0.0,0.0,0.0,0.0,0.0,0.0,0.0,0.0,0.0,0.0,0.0,0.0,0.0,0.0,0.0,0.0,0.0,0.0,0.0,0.0,0.0,0.0,0.0,0.0,0.0,0.0,0.0,0.0,0.0,0.0,0.0,0.0,5.820766091346741e-11,2.342858351767063e-09,1.178705133497715e-07,6.645466783083975e-06,0.00033128280483651906,0.0007367044745478779,0.00015230919234454632,2.746676909737289e-05,6.369926268234849e-06,1.9717554096132517e-06,8.041388355195522e-07,4.2421743273735046e-07,2.846354618668556e-07,2.393790055066347e-07,2.4920154828578234e-07,3.1765375752002e-07,4.910834832116961e-07,9.126670192927122e-07,2.0205770852044225e-06,5.266163498163223e-06,1.579012314323336e-05,5.110303754918277e-05,0.0001469576673116535,0.0002480202238075435,0.00019559742941055447,0.00010041796485893428,4.783346957992762e-05,2.5101820938289165e-05,1.547236752230674e-05,1.1421056115068495e-05,1.0110758012160659e-05,1.066176628228277e-05,1.3225639122538269e-05,1.892645377665758e-05,3.026470949407667e-05,5.118359695188701e-05,8.350636926479638e-05,0.0001160220563178882,0.00012458424316719174,0.00010450140689499676,7.580859528388828e-05,5.3175826906226575e-05],\"type\":\"scatter3d\",\"showlegend\":false},{\"marker\":{\"color\":\"red\",\"size\":7},\"name\":\"Linear Combination of Unitaries\",\"x\":[0.9163264999999999],\"y\":[0.8163265],\"z\":[0.842451231146697],\"type\":\"scatter3d\"},{\"line\":{\"color\":\"purple\",\"width\":10},\"mode\":\"lines\",\"x\":[0.9163264999999999,1.0111948275714202,1.082600071756304,1.1434162390634395,1.1979174622438449,1.2481328654726709,1.2952097182735798,1.3398689318579682,1.3825968652717908,1.4237388449613335,1.463549681038278,1.502223110862741,1.5399100011129039,1.5767301418998405,1.61278018818342,1.6481391809254649,1.6828724908824186,1.717034701698246,1.7506717602214472,1.7838226085473767,1.816520441838353,1.8487936909340865,1.8806667992246247,1.9121608434377368,1.9432940344201617,1.9740821245254436,2.0045387415070888,2.0346756639811003,2.064503049991748,2.0940296276035637,2.1232628544886447,2.15220905200007,2.180873518092376,2.20926062257834,2.2373738875328395,2.26521605512219,2.2927891447164344,2.3200945008069795,2.3471328329835255,2.3739042490079894,2.4004082818481463,2.426643911391634,2.4526095814454085,2.4783032125318063,2.5037222109163078,2.5288634742410707,2.5537233940901696,2.5782978557756935,2.602582235607349,2.626571395891326,2.650259677896622,2.6736408930288142,2.6967083124627598,2.7194546555075387,2.741872077010037,2.763952154149132,2.785685873031936,2.807063615578725,2.8280751472759786,2.848709606489471,2.868955496163783,2.888800678893001,2.908232376531521,2.9272371757249216,2.945801040978846,2.9639093371471117,2.98154686350475,2.998697901869698,3.015346281536094,3.0314754640639805,3.0470686512082286,3.062108919427842,3.076579384448591,3.090463399198634,3.1037447880284383,3.116408119383659,3.1284390179393324,3.1398245155468034,3.15055343813003,3.1606168228697524,3.170008356664567,3.1787248230710285,3.1867665409176604,3.1941377738940306,3.2008470870840044,3.206907624178188,3.212337278534512,3.2171587328790414,3.2213993466215154,3.225090876616537,3.2282690265084297,3.230972830958767,3.2332438931295644,3.235125505595358,3.2366616951043543,3.237896239108875,3.2388717057996637,3.2396285689512583,3.2402044441131914,3.240633483922717,3.2409459583483384,3.241168031620733,3.2413217328254142,3.241425103081031,3.241492490322409,3.241534954146536,3.241560738779858,3.241575772287618,3.24158415438566,3.2415886027851366,3.2415908376205684,3.241591893687531,3.241592359508927,3.2415925495323705,3.2415926204072276,3.241592644230851,3.241592651313624,3.2415926531293895,3.2415926535165336,3.2415926535814683,3.2415926535892465,3.2415926535897857,3.241592653589793,3.2415926535897936,3.241592653589794,3.241592653589793,3.2415926535897936,3.241592653589794,3.241592653589793,3.2415926535897936,3.241592653589794,3.2415926535897928,3.241592653589793,3.2415926535897936,3.241592653589794,3.2415926535897923,3.2415926535897945,3.2415926535897905,3.241592653589797,3.2415926535897883,3.241592653589803,3.241592653589776,3.2415926535898296,3.2415926535897155,3.241592653589975,3.241592653589344,3.241592653590996,3.241592653586337,3.2415926536004545,3.241592653554557,3.241592653714449,3.2415926531181953,3.2415926554959564,3.2415926453653956,3.241592691439232,3.2415924679346757,3.241593623541956,3.2415872595473005,3.241624564773733,3.241391931159458,3.2429341402035123,3.232140226714706,3.2933730901415466,3.201748271270011,3.2602586751863387,3.232613681345536,3.2464812121667865,3.238550482160981,3.2437449809401526,3.2398743176429905,3.243129744534032,3.240061776956296,3.243280767680001,3.239542053866826,3.2443231492956337,3.2376292012920262,3.2478122033241825,3.231227861609435,3.2590765864628217,3.2151799726858377,3.2714523008487446,3.2166947407243947,3.2596172236608085,3.228655156512411,3.2513983898222003,3.2335523267494928,3.248777100511524,3.2345981436642517,3.248980752310804,3.2331904507855613,3.2517535618768107,3.228794183332022,3.257815915545294,3.221921605876673,3.263222004915401,3.2204862137285084,3.2603710443635197,3.225572736062762,3.25529062316085,3.229513031328946,3.2527453024687647,3.2307515190201306],\"y\":[0.31632649999999995,0.31632649999999995,0.31632649999999995,0.31632649999999995,0.31632649999999995,0.31632649999999995,0.31632649999999995,0.31632649999999995,0.31632649999999995,0.31632649999999995,0.31632649999999995,0.31632649999999995,0.31632649999999995,0.31632649999999995,0.31632649999999995,0.31632649999999995,0.31632649999999995,0.31632649999999995,0.31632649999999995,0.31632649999999995,0.31632649999999995,0.31632649999999995,0.31632649999999995,0.31632649999999995,0.31632649999999995,0.31632649999999995,0.31632649999999995,0.31632649999999995,0.31632649999999995,0.31632649999999995,0.31632649999999995,0.31632649999999995,0.31632649999999995,0.31632649999999995,0.31632649999999995,0.31632649999999995,0.31632649999999995,0.31632649999999995,0.31632649999999995,0.31632649999999995,0.31632649999999995,0.31632649999999995,0.31632649999999995,0.31632649999999995,0.31632649999999995,0.31632649999999995,0.31632649999999995,0.31632649999999995,0.31632649999999995,0.31632649999999995,0.31632649999999995,0.31632649999999995,0.31632649999999995,0.31632649999999995,0.31632649999999995,0.31632649999999995,0.31632649999999995,0.31632649999999995,0.31632649999999995,0.31632649999999995,0.31632649999999995,0.31632649999999995,0.31632649999999995,0.31632649999999995,0.31632649999999995,0.31632649999999995,0.31632649999999995,0.31632649999999995,0.31632649999999995,0.31632649999999995,0.31632649999999995,0.31632649999999995,0.31632649999999995,0.31632649999999995,0.31632649999999995,0.31632649999999995,0.31632649999999995,0.31632649999999995,0.31632649999999995,0.31632649999999995,0.31632649999999995,0.31632649999999995,0.31632649999999995,0.31632649999999995,0.31632649999999995,0.31632649999999995,0.31632649999999995,0.31632649999999995,0.31632649999999995,0.31632649999999995,0.31632649999999995,0.31632649999999995,0.31632649999999995,0.31632649999999995,0.31632649999999995,0.31632649999999995,0.31632649999999995,0.31632649999999995,0.31632649999999995,0.31632649999999995,0.31632649999999995,0.31632649999999995,0.31632649999999995,0.31632649999999995,0.31632649999999995,0.31632649999999995,0.31632649999999995,0.31632649999999995,0.31632649999999995,0.31632649999999995,0.31632649999999995,0.31632649999999995,0.31632649999999995,0.31632649999999995,0.31632649999999995,0.31632649999999995,0.31632649999999995,0.31632649999999995,0.31632649999999995,0.31632649999999995,0.31632649999999995,0.31632649999999995,0.31632649999999995,0.31632649999999995,0.31632649999999995,0.31632649999999995,0.31632649999999995,0.31632649999999995,0.31632649999999995,0.31632649999999995,0.31632649999999995,0.31632649999999995,0.31632649999999995,0.31632649999999995,0.31632649999999995,0.31632649999999995,0.31632649999999995,0.31632649999999995,0.31632649999999995,0.31632649999999995,0.31632649999999995,0.31632649999999995,0.31632649999999995,0.31632649999999995,0.31632649999999995,0.31632649999999995,0.31632649999999995,0.31632649999999995,0.31632649999999995,0.31632649999999995,0.31632649999999995,0.31632649999999995,0.31632649999999995,0.31632649999999995,0.31632649999999995,0.31632649999999995,0.31632649999999995,0.31632649999999995,0.31632649999999995,0.31632649999999995,0.31632649999999995,0.31632649999999995,0.31632649999999995,0.31632649999999995,0.31632649999999995,0.31632649999999995,0.31632649999999995,0.31632649999999995,0.31632649999999995,0.31632649999999995,0.31632649999999995,0.31632649999999995,0.31632649999999995,0.31632649999999995,0.31632649999999995,0.31632649999999995,0.31632649999999995,0.31632649999999995,0.31632649999999995,0.31632649999999995,0.31632649999999995,0.31632649999999995,0.31632649999999995,0.31632649999999995,0.31632649999999995,0.31632649999999995,0.31632649999999995,0.31632649999999995,0.31632649999999995,0.31632649999999995,0.31632649999999995,0.31632649999999995,0.31632649999999995,0.31632649999999995,0.31632649999999995,0.31632649999999995,0.31632649999999995,0.31632649999999995,0.31632649999999995,0.31632649999999995,0.31632649999999995,0.31632649999999995],\"z\":[0.842451231146697,0.8064009953959612,0.7774306568026077,0.7516355650004698,0.7277255547232926,0.7050954904698301,0.68340915486624,0.6624601218936732,0.642113203779445,0.6222759249503724,0.6028831237636041,0.5838879803486634,0.5652564691845328,0.5469637614878593,0.5289917991322,0.5113276037154719,0.4939620647201082,0.47688904975075275,0.460104737416259,0.44360710761975497,0.42739554606669117,0.4114705324609531,0.3958333919290453,0.3804860942182131,0.36543108995829243,0.35067117589642294,0.33620938315289095,0.3220488836086588,0.3081929113541264,0.294644696143223,0.2814074067719048,0.26848410279490054,0.25587769314006437,0.2435909004707355,0.23162623048119713,0.2199859454703983,0.2086720413499279,0.19768622778065037,0.18702991101599764,0.17670417892804835,0.16670978817273863,0.15704715291212779,0.14771633519558236,0.13871703659242485,0.13004859103239141,0.12170995867927559,0.11369972060492728,0.10601607443823013,0.09865683053794783,0.09161940905323718,0.08490083730430342,0.07849774799251463,0.07240637764334679,0.06662256584968418,0.06114175482071005,0.05595898952742573,0.05106891847390216,0.04646579500695225,0.04214347941160668,0.038095441821496934,0.034314766046009026,0.030794154590694234,0.02752593492914457,0.024502067506546155,0.02171415538759902,0.019153456334606744,0.01681089731573593,0.014677091981866397,0.012742361766868271,0.01099676065496169,0.00943010459013749,0.008032005731365643,0.006791912121116184,0.005699153072782792,0.0047429908299818635,0.0039126782066887245,0.003197522441041656,0.002586954622529447,0.002070603979518637,0.001638375746551901,0.0012805309379473329,0.0009877656266326085,0.0007512874435633421,0.0005628857616102323,0.0004149928718106821,0.000300732659525238,0.00021395398653112352,0.00014924669812899083,0.00010193894559051841,6.807562022004277e-05,4.437910683918744e-05,2.8194888727739453e-05,1.74253509612754e-05,1.0455958545207977e-05,6.078582373447716e-06,3.4158729249611497e-06,1.8508872017264366e-06,9.644136298447847e-07,4.817848093807697e-07,2.3000757209956646e-07,1.0455551091581583e-07,4.508183337748051e-08,1.83499651029706e-08,7.0140231400728226e-09,2.5029294192790985e-09,8.294591680169106e-10,2.473825588822365e-10,7.275957614183426e-11,1.4551915228366852e-11,0.0,0.0,0.0,0.0,0.0,0.0,0.0,0.0,0.0,0.0,0.0,0.0,0.0,0.0,0.0,0.0,0.0,0.0,0.0,0.0,0.0,0.0,0.0,0.0,0.0,0.0,0.0,0.0,0.0,0.0,0.0,0.0,0.0,0.0,0.0,0.0,0.0,0.0,0.0,0.0,0.0,0.0,0.0,0.0,0.0,0.0,0.0,0.0,0.0,2.473825588822365e-10,1.0069925338029861e-08,4.4990156311541796e-07,2.2336927941069007e-05,0.0006701536476612091,0.00039684119110461324,8.710255497135222e-05,2.0155348465777934e-05,5.974492523819208e-06,2.313696313649416e-06,1.1581287253648043e-06,7.381750037893653e-07,5.906622391194105e-07,5.858892109245062e-07,7.124326657503843e-07,1.0512449080124497e-06,1.8638966139405966e-06,3.927227226085961e-06,9.67066443990916e-06,2.6856985641643405e-05,7.64200376579538e-05,0.00017439728253521025,0.00022288307081907988,0.00015496851119678468,8.121908467728645e-05,4.184411955066025e-05,2.4037930415943265e-05,1.6161633539013565e-05,1.2904012692160904e-05,1.2230739230290055e-05,1.3645942090079188e-05,1.7649144865572453e-05,2.58107902482152e-05,4.094965697731823e-05,6.579711043741554e-05,9.673440945334733e-05,0.00011695265129674226,0.00011136631655972451,8.815439650788903e-05,6.415807001758367e-05,4.690786590799689e-05,3.647887206170708e-05,3.109507088083774e-05],\"type\":\"scatter3d\",\"showlegend\":false},{\"marker\":{\"color\":\"purple\",\"size\":7},\"name\":\"Quantum Natural Gradient\",\"x\":[0.9163264999999999],\"y\":[0.31632649999999995],\"z\":[0.842451231146697],\"type\":\"scatter3d\"},{\"line\":{\"color\":\"black\",\"width\":10},\"mode\":\"lines\",\"x\":[0.9163264999999999,4.078603645098619,2.599400847610675,3.7202458126241997,2.871374506235725,3.5475791825028273,2.968394708894152,3.505575339176903,2.966445131358029,3.5486454381078745,2.8793188688413633,3.6842771468005786,2.699156106083441,3.8792975331578257,2.552425476325632,3.915760781003637,2.6310493776845054,3.774874948243481,2.7753945746066084,3.659826523470303,2.851197844433019,3.622814114523435,2.8524874891419705,3.654190418717684,2.792073054915739,3.736860220471017,2.7003464554284906,3.8172384434273496,2.653189089865859,3.8189890614200404,2.6922066983744553,3.7565159590233153,2.75861635082734,3.7005374190224973,2.79640011490586,3.683768360725519,2.792404067467887,3.7061576963585976,2.75606138196213,3.749685602226996,2.7141438829129574,3.7808080005211004,2.7005545656196346,3.7750996634648737,2.721929032250678,3.7451404835140507,2.7527736228322497,3.7196360128742447,2.7690144230946814,3.714319621594293,2.7636732431105027,3.7284383510406713,2.743992943457039,3.749532718937402,2.725863669142879,3.7610603060324626,2.722888419614185,3.75568987203298,2.734486519022972,3.741083501500473,2.748740410715181,3.7299373380173404,2.755029398005851,3.7291397608029038,2.7507469906803084,3.7372197250294983,2.7407598531576376,3.7469732296039937,2.733202187912455,3.7509685742100105,2.733258836811116,3.7472935668341516,2.7393924775965384,3.740233193339384,2.7458571870650355,3.735571516415658,2.7480061396211215,3.73608645338352,2.745195600650146,3.740421196772804,2.7403370429700176,3.7447824323263315,2.737307897964247,3.7459924784163228,2.7379802815582126,3.743771449555527,2.741133514875386,3.740422000232529,2.7439891117810395,3.7385732317925755,2.74457256317115,3.7392394437540593,2.742914350205223,3.7414625511407853,2.740624977866451,3.7433528177121556,2.7394747827966985,3.7436052971043305,2.740079038014495,3.7423553071525277,2.7416555052381444,3.740802664277885,2.7428769595198284,3.740120762472647,2.7429397853546806,3.740626028002571,2.742024567212433,3.7417274547469064,2.7409757846885197,3.742518747137362,2.740574767356519,3.7424887199660275,2.740985485707369,3.7418191549135416,2.7417528126805277,3.7411177262438864,2.742255121585427,3.740894117397747,2.7421841429595855,3.741215372069037,2.7417022246703486,3.741745347924122,2.741235083078854,3.7420625048680547,2.741116159213282,3.741979668160738,2.74136340594969,3.741634489394818,2.741727321458245,3.7413265384638583,2.7419235514519227,3.741269718125537,2.741843929391344,3.741455905841713,2.741599273408559,3.7417041433713654,2.741397480740905,3.7418238517840927,2.741375415801962,3.741753874476733,2.7415139673765467,3.7415815308197184,2.7416821502230087,3.7414507087394275,2.7417533041838125,3.7414473138143802,2.7416952134852406,3.7415489775321906,2.741574764754685,3.741662199616342,2.7414906785457056,3.7417033112215887,2.7414963608985023,3.741656774953826,2.7415702439235567,3.7415731350066403,2.7416459099869592,3.741519754009116,2.7416686217947466,3.7415291040456133,2.741632368394646,3.7415822533052006,2.7415746838635786,3.7416324710718736,2.741541212309756,3.7416442180864684,2.741551310873211,3.741616536362683,2.741589233245957,3.7415770099025836,2.7416222940239248,3.741556362376958,2.7416276736550906,3.7415657595999736,2.741606894731479,3.7415925974020774,2.7415799868477237,3.7416141864333734,2.7415674892455724,3.741616025535666,2.7415755827845567,3.741600637639239,2.741594438539715,3.7415824412091356,2.7416084041447424,3.741575065125922,2.7416083918651784,3.7415817051771163,2.7415971319774473,3.7415948590472436,2.7415849091890134,3.741603801658227,2.741580698816074,3.7416029232395163,2.7415859681310875,3.7415947675543193,2.741595082784612,3.7415866152820842,2.7416007410234666,3.7415843267371907,2.7415995479740247,3.7415884055289697],\"y\":[-0.18367350000000005,-0.18367350000000005,-0.1836735000000174,-0.18367350000000005,-0.18367350000000005,-0.18367350000000005,-0.18367350000000005,-0.18367350000000005,-0.18367350000000005,-0.18367350000000005,-0.18367350000000005,-0.18367350000000005,-0.18367350000000005,-0.1836735000000087,-0.18367349999999136,-0.18367349999999136,-0.18367349999999136,-0.183673499999974,-0.183673499999974,-0.183673499999974,-0.183673499999974,-0.18367349999996968,-0.18367349999996535,-0.18367349999996968,-0.183673499999974,-0.183673499999974,-0.183673499999974,-0.183673499999974,-0.18367349999998267,-0.183673499999974,-0.18367349999996535,-0.1836734999999567,-0.1836734999999567,-0.1836734999999567,-0.18367349999993934,-0.18367349999993934,-0.18367349999993066,-0.18367349999993066,-0.18367349999993066,-0.183673499999922,-0.183673499999922,-0.183673499999922,-0.18367349999993066,-0.18367349999993066,-0.18367349999993066,-0.18367349999993066,-0.18367349999993066,-0.18367349999993066,-0.183673499999922,-0.18367349999991334,-0.183673499999922,-0.18367349999993066,-0.18367349999993932,-0.18367349999993066,-0.18367349999993066,-0.18367349999993066,-0.18367349999993932,-0.18367349999994798,-0.18367349999994798,-0.18367349999993932,-0.18367349999992197,-0.18367349999991328,-0.18367349999990462,-0.18367349999991328,-0.18367349999990462,-0.18367349999990462,-0.18367349999989596,-0.18367349999990462,-0.18367349999991328,-0.18367349999992194,-0.18367349999992194,-0.1836734999999306,-0.1836734999999306,-0.1836734999999306,-0.1836734999999306,-0.1836734999999306,-0.1836734999999306,-0.1836734999999306,-0.18367349999992194,-0.18367349999992194,-0.18367349999991328,-0.18367349999991328,-0.18367349999991328,-0.18367349999990462,-0.18367349999990462,-0.18367349999990462,-0.18367349999989596,-0.18367349999989596,-0.1836734999998873,-0.18367349999987864,-0.1836734999998873,-0.18367349999987864,-0.18367349999987864,-0.18367349999987864,-0.18367349999987864,-0.18367349999986998,-0.18367349999986998,-0.18367349999986998,-0.18367349999987864,-0.18367349999987864,-0.18367349999987864,-0.18367349999987864,-0.18367349999987864,-0.18367349999987864,-0.18367349999987864,-0.18367349999987864,-0.18367349999987864,-0.18367349999987864,-0.18367349999987864,-0.18367349999986998,-0.18367349999987864,-0.1836734999998873,-0.18367349999987864,-0.1836734999998873,-0.18367349999987864,-0.1836734999998873,-0.1836734999998873,-0.18367349999987864,-0.18367349999987864,-0.1836734999998873,-0.1836734999998873,-0.18367349999989596,-0.18367349999989596,-0.18367349999989596,-0.18367349999989596,-0.18367349999989596,-0.18367349999989596,-0.18367349999989596,-0.18367349999989596,-0.1836734999998873,-0.1836734999998873,-0.1836734999998873,-0.1836734999998873,-0.18367349999989596,-0.18367349999989596,-0.1836734999998873,-0.1836734999998873,-0.1836734999998873,-0.18367349999989596,-0.18367349999989596,-0.18367349999989596,-0.1836734999998873,-0.18367349999989596,-0.18367349999989596,-0.18367349999990462,-0.18367349999989596,-0.18367349999989596,-0.18367349999990462,-0.18367349999990462,-0.18367349999990462,-0.18367349999991328,-0.18367349999992194,-0.18367349999992194,-0.18367349999992194,-0.18367349999992194,-0.18367349999991328,-0.18367349999991328,-0.18367349999991328,-0.18367349999991328,-0.18367349999990462,-0.18367349999991328,-0.18367349999992194,-0.1836734999999306,-0.18367349999992194,-0.18367349999992194,-0.1836734999999306,-0.1836734999999306,-0.18367349999993926,-0.1836734999999306,-0.18367349999991325,-0.18367349999990457,-0.1836734999998959,-0.18367349999990457,-0.18367349999991323,-0.18367349999991323,-0.18367349999991323,-0.18367349999992189,-0.18367349999992189,-0.18367349999992189,-0.18367349999992189,-0.18367349999992189,-0.18367349999992189,-0.18367349999993055,-0.1836734999999392,-0.18367349999993055,-0.18367349999992189,-0.18367349999991323,-0.18367349999991323,-0.18367349999992189,-0.18367349999991323,-0.18367349999991323,-0.18367349999991323,-0.18367349999990457,-0.1836734999998959,-0.1836734999998959,-0.1836734999998959,-0.18367349999990457,-0.18367349999990457,-0.18367349999990457,-0.18367349999990457,-0.18367349999991323,-0.18367349999992189],\"z\":[0.842451231146697,0.16515720724419225,0.09960755212523509,0.056191969400970265,0.033875781009555794,0.023224879725603387,0.01854351136717014,0.017320777245913632,0.01880743603396695,0.02338574694294948,0.032453295367304236,0.048197513533523306,0.0717732900811825,0.09826786020130385,0.11411206494085491,0.10938674205681309,0.09033166409062687,0.0694284417986637,0.05335816084698308,0.043096163048176095,0.03762055705010425,0.03589456097688526,0.03737555218685884,0.04195888197864406,0.04967202176339924,0.060079212198616005,0.07146634990931489,0.08057953776733484,0.0840860926109599,0.0810566779691726,0.07357734265679028,0.06483475276036188,0.057191699248505756,0.05173976602964103,0.04873611556831747,0.048088598501635715,0.049600128520978615,0.05299173710227478,0.05778642950463109,0.06316305042128079,0.06795300365774892,0.07094408216653392,0.07141274953028187,0.06948557107534725,0.06600686477031559,0.06206193895195611,0.05855598105699755,0.05605161988933105,0.0548011594946729,0.05483501584967598,0.05602311241091229,0.05809351842617616,0.0606346035056049,0.06312586575222667,0.0650332795776194,0.06595821518567391,0.06576885431422852,0.06463149051705841,0.06292321471846662,0.06108672567643225,0.05950653395848349,0.05844465810514521,0.05802746719564311,0.058257701035472564,0.05903272384603042,0.06016467096924316,0.06140850408701226,0.06250485722557642,0.0632354425615631,0.06347550048667472,0.06322165571327787,0.06258242377953138,0.06173719096113928,0.06088324464508332,0.0601904490031302,0.05977333827468101,0.0596803594235098,0.05989547089848202,0.060347896520397626,0.06092820703634061,0.061510050771175884,0.06197558072744869,0.06223985445103608,0.06226765700557735,0.06207751181500498,0.06173204536025878,0.0613188267161604,0.06092839922348503,0.060635517962509766,0.06048692640615627,0.06049634593364317,0.06064584005798679,0.0608922748506302,0.06117753555008676,0.061440888690412976,0.06163133238442242,0.06171738341799937,0.06169206379854586,0.06157205454655923,0.06139166445063893,0.06119365358608775,0.061019485467113554,0.060901216493221,0.060856363401398994,0.06088619261572603,0.060977211585850455,0.06110522476956248,0.06124103660113178,0.06135667389025912,0.06143090363184456,0.06145294665475376,0.06142369373992551,0.06135434581665322,0.06126302556367591,0.06117033249756787,0.061094922391930595,0.061050013318890706,0.061041378081426956,0.06106700826785527,0.061118311088648625,0.06118245610559825,0.06124532695685048,0.061294461323996074,0.06132139683177229,0.06132299064483959,0.061301524241571315,0.06126368416880723,0.0612187480146531,0.06117644142068457,0.06114494339271914,0.0611294226400787,0.06113133017788641,0.06114849889127072,0.06117594297393225,0.06120713221025653,0.06123544731235597,0.061255512831849046,0.06126415194012225,0.06126080408284906,0.061247371457284316,0.06122758249694016,0.06120605280739255,0.06118726733257063,0.061174697475507855,0.06117021471436601,0.06117388389247935,0.0611841364443535,0.06119824976485688,0.06121300731319934,0.06122539118223358,0.06123316605226137,0.06123524779104628,0.06123180367285386,0.061224090663017705,0.06121409105253406,0.06120404027751647,0.061195953443530016,0.06119124525866937,0.0611905097757699,0.06119348629727028,0.0611991992482217,0.0612062260042876,0.061213026696350425,0.06121826416347176,0.0612210507679265,0.06122108030831441,0.0612186298094457,0.061214444183860905,0.06120953895151615,0.06120496911171358,0.06120161405124236,0.061200019874377176,0.06120032456237823,0.06120227237988729,0.06120530531916302,0.06120870559243485,0.061211755470139906,0.061213880850118585,0.06121475140389521,0.06121432172949426,0.061212811211589724,0.061210632949951105,0.06120829118299298,0.06120627104246523,0.06120494350034278,0.06120450294110924,0.061204946439829655,0.06120609460049309,0.06120764552906621,0.0612092477385886,0.06121057549898978,0.06121139141032472,0.06121158480527811,0.06121118084411137,0.06121032165538054,0.06120922579430044,0.06120813674351666,0.061207271603052504,0.06120678040315397,0.06120672301040031,0.061207066391943954],\"type\":\"scatter3d\",\"showlegend\":false},{\"marker\":{\"color\":\"black\",\"size\":7},\"name\":\"Quantum Newton Gradient\",\"x\":[0.9163264999999999],\"y\":[-0.18367350000000005],\"z\":[0.842451231146697],\"type\":\"scatter3d\"}],                        {\"template\":{\"data\":{\"bar\":[{\"error_x\":{\"color\":\"#2a3f5f\"},\"error_y\":{\"color\":\"#2a3f5f\"},\"marker\":{\"line\":{\"color\":\"#E5ECF6\",\"width\":0.5},\"pattern\":{\"fillmode\":\"overlay\",\"size\":10,\"solidity\":0.2}},\"type\":\"bar\"}],\"barpolar\":[{\"marker\":{\"line\":{\"color\":\"#E5ECF6\",\"width\":0.5},\"pattern\":{\"fillmode\":\"overlay\",\"size\":10,\"solidity\":0.2}},\"type\":\"barpolar\"}],\"carpet\":[{\"aaxis\":{\"endlinecolor\":\"#2a3f5f\",\"gridcolor\":\"white\",\"linecolor\":\"white\",\"minorgridcolor\":\"white\",\"startlinecolor\":\"#2a3f5f\"},\"baxis\":{\"endlinecolor\":\"#2a3f5f\",\"gridcolor\":\"white\",\"linecolor\":\"white\",\"minorgridcolor\":\"white\",\"startlinecolor\":\"#2a3f5f\"},\"type\":\"carpet\"}],\"choropleth\":[{\"colorbar\":{\"outlinewidth\":0,\"ticks\":\"\"},\"type\":\"choropleth\"}],\"contour\":[{\"colorbar\":{\"outlinewidth\":0,\"ticks\":\"\"},\"colorscale\":[[0.0,\"#0d0887\"],[0.1111111111111111,\"#46039f\"],[0.2222222222222222,\"#7201a8\"],[0.3333333333333333,\"#9c179e\"],[0.4444444444444444,\"#bd3786\"],[0.5555555555555556,\"#d8576b\"],[0.6666666666666666,\"#ed7953\"],[0.7777777777777778,\"#fb9f3a\"],[0.8888888888888888,\"#fdca26\"],[1.0,\"#f0f921\"]],\"type\":\"contour\"}],\"contourcarpet\":[{\"colorbar\":{\"outlinewidth\":0,\"ticks\":\"\"},\"type\":\"contourcarpet\"}],\"heatmap\":[{\"colorbar\":{\"outlinewidth\":0,\"ticks\":\"\"},\"colorscale\":[[0.0,\"#0d0887\"],[0.1111111111111111,\"#46039f\"],[0.2222222222222222,\"#7201a8\"],[0.3333333333333333,\"#9c179e\"],[0.4444444444444444,\"#bd3786\"],[0.5555555555555556,\"#d8576b\"],[0.6666666666666666,\"#ed7953\"],[0.7777777777777778,\"#fb9f3a\"],[0.8888888888888888,\"#fdca26\"],[1.0,\"#f0f921\"]],\"type\":\"heatmap\"}],\"heatmapgl\":[{\"colorbar\":{\"outlinewidth\":0,\"ticks\":\"\"},\"colorscale\":[[0.0,\"#0d0887\"],[0.1111111111111111,\"#46039f\"],[0.2222222222222222,\"#7201a8\"],[0.3333333333333333,\"#9c179e\"],[0.4444444444444444,\"#bd3786\"],[0.5555555555555556,\"#d8576b\"],[0.6666666666666666,\"#ed7953\"],[0.7777777777777778,\"#fb9f3a\"],[0.8888888888888888,\"#fdca26\"],[1.0,\"#f0f921\"]],\"type\":\"heatmapgl\"}],\"histogram\":[{\"marker\":{\"pattern\":{\"fillmode\":\"overlay\",\"size\":10,\"solidity\":0.2}},\"type\":\"histogram\"}],\"histogram2d\":[{\"colorbar\":{\"outlinewidth\":0,\"ticks\":\"\"},\"colorscale\":[[0.0,\"#0d0887\"],[0.1111111111111111,\"#46039f\"],[0.2222222222222222,\"#7201a8\"],[0.3333333333333333,\"#9c179e\"],[0.4444444444444444,\"#bd3786\"],[0.5555555555555556,\"#d8576b\"],[0.6666666666666666,\"#ed7953\"],[0.7777777777777778,\"#fb9f3a\"],[0.8888888888888888,\"#fdca26\"],[1.0,\"#f0f921\"]],\"type\":\"histogram2d\"}],\"histogram2dcontour\":[{\"colorbar\":{\"outlinewidth\":0,\"ticks\":\"\"},\"colorscale\":[[0.0,\"#0d0887\"],[0.1111111111111111,\"#46039f\"],[0.2222222222222222,\"#7201a8\"],[0.3333333333333333,\"#9c179e\"],[0.4444444444444444,\"#bd3786\"],[0.5555555555555556,\"#d8576b\"],[0.6666666666666666,\"#ed7953\"],[0.7777777777777778,\"#fb9f3a\"],[0.8888888888888888,\"#fdca26\"],[1.0,\"#f0f921\"]],\"type\":\"histogram2dcontour\"}],\"mesh3d\":[{\"colorbar\":{\"outlinewidth\":0,\"ticks\":\"\"},\"type\":\"mesh3d\"}],\"parcoords\":[{\"line\":{\"colorbar\":{\"outlinewidth\":0,\"ticks\":\"\"}},\"type\":\"parcoords\"}],\"pie\":[{\"automargin\":true,\"type\":\"pie\"}],\"scatter\":[{\"marker\":{\"colorbar\":{\"outlinewidth\":0,\"ticks\":\"\"}},\"type\":\"scatter\"}],\"scatter3d\":[{\"line\":{\"colorbar\":{\"outlinewidth\":0,\"ticks\":\"\"}},\"marker\":{\"colorbar\":{\"outlinewidth\":0,\"ticks\":\"\"}},\"type\":\"scatter3d\"}],\"scattercarpet\":[{\"marker\":{\"colorbar\":{\"outlinewidth\":0,\"ticks\":\"\"}},\"type\":\"scattercarpet\"}],\"scattergeo\":[{\"marker\":{\"colorbar\":{\"outlinewidth\":0,\"ticks\":\"\"}},\"type\":\"scattergeo\"}],\"scattergl\":[{\"marker\":{\"colorbar\":{\"outlinewidth\":0,\"ticks\":\"\"}},\"type\":\"scattergl\"}],\"scattermapbox\":[{\"marker\":{\"colorbar\":{\"outlinewidth\":0,\"ticks\":\"\"}},\"type\":\"scattermapbox\"}],\"scatterpolar\":[{\"marker\":{\"colorbar\":{\"outlinewidth\":0,\"ticks\":\"\"}},\"type\":\"scatterpolar\"}],\"scatterpolargl\":[{\"marker\":{\"colorbar\":{\"outlinewidth\":0,\"ticks\":\"\"}},\"type\":\"scatterpolargl\"}],\"scatterternary\":[{\"marker\":{\"colorbar\":{\"outlinewidth\":0,\"ticks\":\"\"}},\"type\":\"scatterternary\"}],\"surface\":[{\"colorbar\":{\"outlinewidth\":0,\"ticks\":\"\"},\"colorscale\":[[0.0,\"#0d0887\"],[0.1111111111111111,\"#46039f\"],[0.2222222222222222,\"#7201a8\"],[0.3333333333333333,\"#9c179e\"],[0.4444444444444444,\"#bd3786\"],[0.5555555555555556,\"#d8576b\"],[0.6666666666666666,\"#ed7953\"],[0.7777777777777778,\"#fb9f3a\"],[0.8888888888888888,\"#fdca26\"],[1.0,\"#f0f921\"]],\"type\":\"surface\"}],\"table\":[{\"cells\":{\"fill\":{\"color\":\"#EBF0F8\"},\"line\":{\"color\":\"white\"}},\"header\":{\"fill\":{\"color\":\"#C8D4E3\"},\"line\":{\"color\":\"white\"}},\"type\":\"table\"}]},\"layout\":{\"annotationdefaults\":{\"arrowcolor\":\"#2a3f5f\",\"arrowhead\":0,\"arrowwidth\":1},\"autotypenumbers\":\"strict\",\"coloraxis\":{\"colorbar\":{\"outlinewidth\":0,\"ticks\":\"\"}},\"colorscale\":{\"diverging\":[[0,\"#8e0152\"],[0.1,\"#c51b7d\"],[0.2,\"#de77ae\"],[0.3,\"#f1b6da\"],[0.4,\"#fde0ef\"],[0.5,\"#f7f7f7\"],[0.6,\"#e6f5d0\"],[0.7,\"#b8e186\"],[0.8,\"#7fbc41\"],[0.9,\"#4d9221\"],[1,\"#276419\"]],\"sequential\":[[0.0,\"#0d0887\"],[0.1111111111111111,\"#46039f\"],[0.2222222222222222,\"#7201a8\"],[0.3333333333333333,\"#9c179e\"],[0.4444444444444444,\"#bd3786\"],[0.5555555555555556,\"#d8576b\"],[0.6666666666666666,\"#ed7953\"],[0.7777777777777778,\"#fb9f3a\"],[0.8888888888888888,\"#fdca26\"],[1.0,\"#f0f921\"]],\"sequentialminus\":[[0.0,\"#0d0887\"],[0.1111111111111111,\"#46039f\"],[0.2222222222222222,\"#7201a8\"],[0.3333333333333333,\"#9c179e\"],[0.4444444444444444,\"#bd3786\"],[0.5555555555555556,\"#d8576b\"],[0.6666666666666666,\"#ed7953\"],[0.7777777777777778,\"#fb9f3a\"],[0.8888888888888888,\"#fdca26\"],[1.0,\"#f0f921\"]]},\"colorway\":[\"#636efa\",\"#EF553B\",\"#00cc96\",\"#ab63fa\",\"#FFA15A\",\"#19d3f3\",\"#FF6692\",\"#B6E880\",\"#FF97FF\",\"#FECB52\"],\"font\":{\"color\":\"#2a3f5f\"},\"geo\":{\"bgcolor\":\"white\",\"lakecolor\":\"white\",\"landcolor\":\"#E5ECF6\",\"showlakes\":true,\"showland\":true,\"subunitcolor\":\"white\"},\"hoverlabel\":{\"align\":\"left\"},\"hovermode\":\"closest\",\"mapbox\":{\"style\":\"light\"},\"paper_bgcolor\":\"white\",\"plot_bgcolor\":\"#E5ECF6\",\"polar\":{\"angularaxis\":{\"gridcolor\":\"white\",\"linecolor\":\"white\",\"ticks\":\"\"},\"bgcolor\":\"#E5ECF6\",\"radialaxis\":{\"gridcolor\":\"white\",\"linecolor\":\"white\",\"ticks\":\"\"}},\"scene\":{\"xaxis\":{\"backgroundcolor\":\"#E5ECF6\",\"gridcolor\":\"white\",\"gridwidth\":2,\"linecolor\":\"white\",\"showbackground\":true,\"ticks\":\"\",\"zerolinecolor\":\"white\"},\"yaxis\":{\"backgroundcolor\":\"#E5ECF6\",\"gridcolor\":\"white\",\"gridwidth\":2,\"linecolor\":\"white\",\"showbackground\":true,\"ticks\":\"\",\"zerolinecolor\":\"white\"},\"zaxis\":{\"backgroundcolor\":\"#E5ECF6\",\"gridcolor\":\"white\",\"gridwidth\":2,\"linecolor\":\"white\",\"showbackground\":true,\"ticks\":\"\",\"zerolinecolor\":\"white\"}},\"shapedefaults\":{\"line\":{\"color\":\"#2a3f5f\"}},\"ternary\":{\"aaxis\":{\"gridcolor\":\"white\",\"linecolor\":\"white\",\"ticks\":\"\"},\"baxis\":{\"gridcolor\":\"white\",\"linecolor\":\"white\",\"ticks\":\"\"},\"bgcolor\":\"#E5ECF6\",\"caxis\":{\"gridcolor\":\"white\",\"linecolor\":\"white\",\"ticks\":\"\"}},\"title\":{\"x\":0.05},\"xaxis\":{\"automargin\":true,\"gridcolor\":\"white\",\"linecolor\":\"white\",\"ticks\":\"\",\"title\":{\"standoff\":15},\"zerolinecolor\":\"white\",\"zerolinewidth\":2},\"yaxis\":{\"automargin\":true,\"gridcolor\":\"white\",\"linecolor\":\"white\",\"ticks\":\"\",\"title\":{\"standoff\":15},\"zerolinecolor\":\"white\",\"zerolinewidth\":2}}},\"title\":{\"text\":\"Max-Cut Cost Funtion\"},\"autosize\":false,\"width\":1000,\"height\":1000},                        {\"responsive\": true}                    ).then(function(){\n",
              "                            \n",
              "var gd = document.getElementById('d6c05c56-f903-4425-9e48-37d98f032751');\n",
              "var x = new MutationObserver(function (mutations, observer) {{\n",
              "        var display = window.getComputedStyle(gd).display;\n",
              "        if (!display || display === 'none') {{\n",
              "            console.log([gd, 'removed!']);\n",
              "            Plotly.purge(gd);\n",
              "            observer.disconnect();\n",
              "        }}\n",
              "}});\n",
              "\n",
              "// Listen for the removal of the full notebook cells\n",
              "var notebookContainer = gd.closest('#notebook-container');\n",
              "if (notebookContainer) {{\n",
              "    x.observe(notebookContainer, {childList: true});\n",
              "}}\n",
              "\n",
              "// Listen for the clearing of the current output cell\n",
              "var outputEl = gd.closest('.output');\n",
              "if (outputEl) {{\n",
              "    x.observe(outputEl, {childList: true});\n",
              "}}\n",
              "\n",
              "                        })                };                            </script>        </div>\n",
              "</body>\n",
              "</html>"
            ]
          },
          "metadata": {}
        }
      ],
      "source": [
        "#@title Gradient Plot\n",
        "blp = Model(\"docplex model\")\n",
        "x1 = blp.binary_var(\"x1\")\n",
        "\n",
        "blp.minimize(95000*x1)\n",
        "blp.add_constraint(x1 >= 1)\n",
        "# load from a Docplex model\n",
        "qp_blp = from_docplex_mp(blp)\n",
        "print(qp_blp.export_as_lp_string())\n",
        "qubo_blp = qp2qubo.convert(qp_blp) \n",
        "qubitOp_blp, offset_contour = qubo_blp.to_ising()\n",
        "\n",
        "qubitOp_blp += 0.5*I\n",
        "H_contour_lcu = qml.Hamiltonian([0.5, 0.0], [qml.PauliZ(0)@qml.PauliZ(1), qml.Identity(0)])\n",
        "H_contour = hamiltonian_from_qiskit(qubitOp_blp)\n",
        "\n",
        "from tqdm.notebook import tqdm\n",
        "# objective function\n",
        "def ansatz_contour(var):\n",
        "    qml.RX(var[0], wires=0)\n",
        "    qml.RZ(var[1], wires=0)\n",
        "    \n",
        "def cost_function_contour(var, H):\n",
        "  num_wires = len(H.wires)\n",
        "  dev = qml.device('default.qubit', wires=num_wires)\n",
        "\n",
        "  @qml.qnode(dev)\n",
        "  def circuit(var, H):\n",
        "    ansatz_contour(var[0])\n",
        "    return qml.expval(H)\n",
        "\n",
        "  return circuit(var, H)\n",
        "\n",
        "X = np.linspace(-8, 8, 50)\n",
        "Y = np.linspace(-8, 8, 50)\n",
        "X_m, Y_m = np.meshgrid(X, Y)\n",
        "Z = np.zeros((50, 50))\n",
        "for i in tqdm(range(50)):\n",
        "  for j in range(50):\n",
        "    var = np.array([[X_m[i, j], Y_m[i, j]]])\n",
        "    Z[i, j] = cost_function_contour(var, H_contour)\n",
        "\n",
        "lr = 0.03\n",
        "epochs = 201\n",
        "var_contour = np.array([[0.8163265, 0.8163265+1]])\n",
        "cost_fn = lambda v: cost_function_contour(v, H_contour)+offset_contour\n",
        "grad_fn = lambda var: parameter_shift(lambda x: cost_function_contour(x, H_contour), var)\n",
        "lost_list_ps, var_list_ps = train_contour(cost_fn, grad_fn, epochs, var_contour, lr)\n",
        "\n",
        "var_contour = np.array([[0.8163265, 0.8163265+0.5]])\n",
        "cost_fn = lambda v: cost_function_contour(v, H_contour)+offset_contour\n",
        "grad_fn = lambda var: finite_difference(lambda x: cost_function_contour(x, H_contour), var)\n",
        "lost_list_fd, var_list_fd = train_contour(cost_fn, grad_fn, epochs, var_contour, lr)\n",
        "\n",
        "var_contour = np.array([[0.8163265, 0.8163265]])\n",
        "ansatz_label = [\"RX\", \"RZ\"]\n",
        "cost_fn = lambda v: cost_function_contour(v, H_contour)+offset_contour\n",
        "grad_fn = lambda var: lcu_gradients_contour(ansatz_label, H_contour_lcu, var)\n",
        "lost_list_lcu, var_list_lcu = train_contour(cost_fn, grad_fn, epochs, var_contour, lr)\n",
        "\n",
        "var_contour = np.array([[0.8163265, 0.8163265-0.5]])\n",
        "cost_fn = lambda v: cost_function_contour(v, H_contour)+offset_contour\n",
        "grad_fn = lambda var: quantum_natural_gradient_contour(var, H_contour, lambda x: cost_function_contour(x, H_contour))\n",
        "lost_list_qng, var_list_qng = train_contour(cost_fn, grad_fn, epochs, var_contour, lr)\n",
        "\n",
        "lr = 1\n",
        "reg = 1.0\n",
        "var_contour = np.array([[0.8163265, 0.8163265-1.0]])\n",
        "cost_fn = lambda v: cost_function_contour(v, H_contour)+offset_contour\n",
        "grad_fn = lambda var: newton_gradient_contour(H_contour, var, reg)\n",
        "lost_list_qnw, var_list_qnw = train_contour(cost_fn, grad_fn, epochs, var_contour, lr)\n",
        "\n",
        "\n",
        "a_ps = []\n",
        "b_ps = []\n",
        "for var in var_list_ps:\n",
        "  a_ps.append(var[0][0]+0.1)\n",
        "  b_ps.append(var[0][1])\n",
        "c_ps = [v-offset_contour for v in lost_list_ps]\n",
        "\n",
        "fig = go.Figure(data=[go.Surface(x=X, y=Y, z=Z, showscale=False)])\n",
        "fig.add_trace(go.Scatter3d(x=a_ps, y=b_ps,z=c_ps, mode='lines',\n",
        "                           line=dict(\n",
        "                              color='yellow',\n",
        "                              width=10\n",
        "                          )))\n",
        "fig.add_trace(go.Scatter3d(x=[a_ps[0]], y=[b_ps[0]],z=[c_ps[0]], marker=dict(\n",
        "        size=7,\n",
        "        color=\"yellow\"\n",
        "    ), name=\"Parameter Shift Rule\" ))\n",
        "\n",
        "\n",
        "a_fd = []\n",
        "b_fd = []\n",
        "for var in var_list_fd:\n",
        "  a_fd.append(var[0][0]+0.1)\n",
        "  b_fd.append(var[0][1])\n",
        "c_fd = [v-offset_contour for v in lost_list_fd]\n",
        "fig.add_trace(go.Scatter3d(x=a_fd, y=b_fd,z=c_fd, mode='lines',\n",
        "                           line=dict(\n",
        "                              color='blue',\n",
        "                              width=10\n",
        "                          )))\n",
        "fig.add_trace(go.Scatter3d(x=[a_fd[0]], y=[b_fd[0]],z=[c_fd[0]], marker=dict(\n",
        "        size=7,\n",
        "        color=\"blue\"\n",
        "    ), name=\"Finite Difference\" ))\n",
        "\n",
        "a_lcu = []\n",
        "b_lcu = []\n",
        "for var in var_list_lcu:\n",
        "  a_lcu.append(var[0][0]+0.1)\n",
        "  b_lcu.append(var[0][1])\n",
        "c_lcu = [v-offset_contour for v in lost_list_lcu]\n",
        "fig.add_trace(go.Scatter3d(x=a_lcu, y=b_lcu,z=c_lcu, mode='lines',\n",
        "                           line=dict(\n",
        "                              color='red',\n",
        "                              width=10\n",
        "                          )))\n",
        "fig.add_trace(go.Scatter3d(x=[a_lcu[0]], y=[b_lcu[0]],z=[c_lcu[0]], marker=dict(\n",
        "        size=7,\n",
        "        color=\"red\"\n",
        "    ), name=\"Linear Combination of Unitaries\" ))\n",
        "\n",
        "\n",
        "a_qng = []\n",
        "b_qng = []\n",
        "for var in var_list_qng:\n",
        "  a_qng.append(var[0][0]+0.1)\n",
        "  b_qng.append(var[0][1])\n",
        "c_qng = [v-offset_contour for v in lost_list_qng]\n",
        "fig.add_trace(go.Scatter3d(x=a_qng, y=b_qng,z=c_qng, mode='lines',\n",
        "                           line=dict(\n",
        "                              color='purple',\n",
        "                              width=10\n",
        "                          )))\n",
        "fig.add_trace(go.Scatter3d(x=[a_qng[0]], y=[b_qng[0]],z=[c_qng[0]], marker=dict(\n",
        "        size=7,\n",
        "        color=\"purple\"\n",
        "    ), name=\"Quantum Natural Gradient\" ))\n",
        "\n",
        "a_qnw = []\n",
        "b_qnw = []\n",
        "for var in var_list_qnw:\n",
        "  a_qnw.append(var[0][0]+0.1)\n",
        "  b_qnw.append(var[0][1])\n",
        "c_qnw = [v-offset_contour for v in lost_list_qnw]\n",
        "fig.add_trace(go.Scatter3d(x=a_qnw, y=b_qnw,z=c_qnw, mode='lines',\n",
        "                           line=dict(\n",
        "                              color='black',\n",
        "                              width=10\n",
        "                          )))\n",
        "fig.add_trace(go.Scatter3d(x=[a_qnw[0]], y=[b_qnw[0]],z=[c_qnw[0]], marker=dict(\n",
        "        size=7,\n",
        "        color=\"black\"\n",
        "    ), name=\"Quantum Newton Gradient\" ))\n",
        "\n",
        "for trace in fig['data']: \n",
        "    if(trace['name'] is None): trace['showlegend'] = False\n",
        "\n",
        "\n",
        "fig.update_layout(title='Max-Cut Cost Funtion', autosize=False,\n",
        "    width=1000,\n",
        "    height=1000)\n",
        "\n",
        "fig.show()\n"
      ]
    },
    {
      "cell_type": "markdown",
      "metadata": {
        "id": "JLMwDDYwA9-X"
      },
      "source": [
        "## Fixed the number of gate"
      ]
    },
    {
      "cell_type": "code",
      "execution_count": null,
      "metadata": {
        "cellView": "form",
        "id": "yd5M_Ov69PD0",
        "colab": {
          "base_uri": "https://localhost:8080/",
          "height": 717
        },
        "outputId": "c280bf45-1032-4373-8ed6-1726cc48619a"
      },
      "outputs": [
        {
          "output_type": "display_data",
          "data": {
            "text/html": [
              "<html>\n",
              "<head><meta charset=\"utf-8\" /></head>\n",
              "<body>\n",
              "    <div>            <script src=\"https://cdnjs.cloudflare.com/ajax/libs/mathjax/2.7.5/MathJax.js?config=TeX-AMS-MML_SVG\"></script><script type=\"text/javascript\">if (window.MathJax) {MathJax.Hub.Config({SVG: {font: \"STIX-Web\"}});}</script>                <script type=\"text/javascript\">window.PlotlyConfig = {MathJaxConfig: 'local'};</script>\n",
              "        <script src=\"https://cdn.plot.ly/plotly-2.8.3.min.js\"></script>                <div id=\"cafea3f1-4df5-43a4-ab23-3d39b7311249\" class=\"plotly-graph-div\" style=\"height:700px; width:1000px;\"></div>            <script type=\"text/javascript\">                                    window.PLOTLYENV=window.PLOTLYENV || {};                                    if (document.getElementById(\"cafea3f1-4df5-43a4-ab23-3d39b7311249\")) {                    Plotly.newPlot(                        \"cafea3f1-4df5-43a4-ab23-3d39b7311249\",                        [{\"line\":{\"color\":\"red\",\"width\":2},\"name\":\"Discrete Parameter Shift\",\"showlegend\":true,\"x\":[0,1,2,3,4,5,6,7,8,9,10,11,12,13,14,15,16,17,18,19,20,21,22,23,24,25,26,27,28,29,30,31,32,33,34,35,36,37,38,39,40,41,42,43,44,45,46,47,48,49,50,51,52,53,54,55,56,57,58,59,60,61,62,63,64,65,66,67,68,69,70,71,72,73,74,75,76,77,78,79,80,81,82,83,84,85,86,87,88,89,90,91,92,93,94,95,96,97,98,99,100],\"y\":[-1.671875,-2.0439453125,-2.3583984375,-2.48828125,-2.5791015625,-2.68359375,-2.77734375,-2.7939453125,-2.8583984375,-2.896484375,-2.9326171875,-2.966796875,-2.9921875,-3.0166015625,-3.041015625,-3.0400390625,-3.05859375,-3.1533203125,-3.056640625,-3.03515625,-3.1298828125,-3.173828125,-3.1181640625,-3.1865234375,-3.23046875,-3.2353515625,-3.2578125,-3.21484375,-3.2763671875,-3.2626953125,-3.3271484375,-3.3505859375,-3.392578125,-3.3994140625,-3.4140625,-3.388671875,-3.46484375,-3.462890625,-3.4931640625,-3.4873046875,-3.486328125,-3.4697265625,-3.46875,-3.4619140625,-3.5,-3.4814453125,-3.4912109375,-3.5068359375,-3.4833984375,-3.494140625,-3.5029296875,-3.48046875,-3.5146484375,-3.484375,-3.515625,-3.5400390625,-3.4794921875,-3.5869140625,-3.5,-3.4873046875,-3.5,-3.5029296875,-3.5595703125,-3.478515625,-3.466796875,-3.482421875,-3.4814453125,-3.509765625,-3.5244140625,-3.4677734375,-3.53125,-3.515625,-3.5224609375,-3.5439453125,-3.5361328125,-3.5322265625,-3.4853515625,-3.47265625,-3.42578125,-3.4580078125,-3.4833984375,-3.55859375,-3.51171875,-3.4912109375,-3.4931640625,-3.4990234375,-3.556640625,-3.478515625,-3.50390625,-3.47265625,-3.5400390625,-3.453125,-3.5048828125,-3.4765625,-3.5048828125,-3.513671875,-3.53515625,-3.5029296875,-3.498046875,-3.447265625,-3.4931640625],\"type\":\"scatter\",\"xaxis\":\"x\",\"yaxis\":\"y\"},{\"line\":{\"color\":\"green\",\"width\":2},\"mode\":\"lines\",\"name\":\"Discrete Finite Difference\",\"showlegend\":true,\"x\":[0,1,2,3,4,5,6,7,8,9,10,11,12,13,14,15,16,17,18,19,20,21,22,23,24,25,26,27,28,29,30,31,32,33,34,35,36,37,38,39,40,41,42,43,44,45,46,47,48,49,50,51,52,53,54,55,56,57,58,59,60,61,62,63,64,65,66,67,68,69,70,71,72,73,74,75,76,77,78,79,80,81,82,83,84,85,86,87,88,89,90,91,92,93,94,95,96,97,98,99,100],\"y\":[-1.703125,-1.6552734375,-1.71875,-1.771484375,-1.6962890625,-1.7158203125,-1.76171875,-1.890625,-1.9501953125,-1.8779296875,-1.9169921875,-1.9140625,-1.873046875,-1.9814453125,-2.009765625,-1.998046875,-1.953125,-1.9453125,-1.9443359375,-1.880859375,-1.91796875,-2.0244140625,-2.0185546875,-2.060546875,-2.0478515625,-2.0810546875,-2.115234375,-2.2119140625,-2.21484375,-2.2724609375,-2.2431640625,-2.2265625,-2.3486328125,-2.359375,-2.3525390625,-2.3271484375,-2.34765625,-2.33203125,-2.330078125,-2.357421875,-2.3857421875,-2.3349609375,-2.2763671875,-2.349609375,-2.279296875,-2.4052734375,-2.3154296875,-2.32421875,-2.3505859375,-2.4306640625,-2.3671875,-2.4345703125,-2.384765625,-2.419921875,-2.451171875,-2.4892578125,-2.3759765625,-2.4130859375,-2.40234375,-2.40625,-2.3623046875,-2.3935546875,-2.421875,-2.4365234375,-2.4443359375,-2.45703125,-2.419921875,-2.4951171875,-2.4521484375,-2.44921875,-2.5107421875,-2.556640625,-2.509765625,-2.5234375,-2.5166015625,-2.5546875,-2.48828125,-2.5087890625,-2.5947265625,-2.5546875,-2.5458984375,-2.5517578125,-2.564453125,-2.509765625,-2.5341796875,-2.5439453125,-2.55078125,-2.5048828125,-2.5517578125,-2.564453125,-2.462890625,-2.54296875,-2.5703125,-2.54296875,-2.576171875,-2.556640625,-2.5654296875,-2.5517578125,-2.578125,-2.6259765625,-2.517578125],\"type\":\"scatter\",\"xaxis\":\"x\",\"yaxis\":\"y\"},{\"line\":{\"color\":\"yellow\",\"width\":2},\"mode\":\"lines\",\"name\":\"Discrete LCU\",\"showlegend\":true,\"x\":[0,1,2,3,4,5,6,7,8,9,10,11,12,13,14,15,16,17,18,19,20,21,22,23,24,25,26,27,28,29,30,31,32,33,34,35,36,37,38,39,40,41,42,43,44,45,46,47,48,49,50,51,52,53,54,55,56,57,58,59,60,61,62,63,64,65,66,67,68,69,70,71,72,73,74,75,76,77,78,79,80,81,82,83,84,85,86,87,88,89,90,91,92,93,94,95,96,97,98,99,100],\"y\":[-1.736328125,-2.033203125,-2.2890625,-2.4482421875,-2.5654296875,-2.740234375,-2.8212890625,-2.7783203125,-2.875,-2.931640625,-2.892578125,-2.9453125,-2.9296875,-2.9541015625,-3.052734375,-3.017578125,-3.0322265625,-3.0556640625,-3.0625,-3.0947265625,-3.126953125,-3.099609375,-3.0849609375,-3.1533203125,-3.171875,-3.1845703125,-3.2080078125,-3.287109375,-3.208984375,-3.32421875,-3.283203125,-3.2900390625,-3.3798828125,-3.318359375,-3.3623046875,-3.419921875,-3.3720703125,-3.4384765625,-3.4814453125,-3.4609375,-3.4619140625,-3.4736328125,-3.451171875,-3.5234375,-3.525390625,-3.4375,-3.5283203125,-3.4931640625,-3.513671875,-3.4619140625,-3.47265625,-3.4794921875,-3.517578125,-3.4775390625,-3.49609375,-3.509765625,-3.48828125,-3.5107421875,-3.5087890625,-3.50390625,-3.546875,-3.5517578125,-3.4580078125,-3.5029296875,-3.505859375,-3.51171875,-3.5029296875,-3.5283203125,-3.5166015625,-3.548828125,-3.4912109375,-3.51953125,-3.525390625,-3.50390625,-3.53515625,-3.5185546875,-3.4970703125,-3.4638671875,-3.5126953125,-3.521484375,-3.4794921875,-3.5107421875,-3.505859375,-3.4501953125,-3.4873046875,-3.521484375,-3.4912109375,-3.46484375,-3.451171875,-3.5234375,-3.4580078125,-3.482421875,-3.5146484375,-3.5068359375,-3.49609375,-3.4931640625,-3.4775390625,-3.546875,-3.48046875,-3.5107421875,-3.4677734375],\"type\":\"scatter\",\"xaxis\":\"x\",\"yaxis\":\"y\"},{\"line\":{\"color\":\"blue\",\"width\":2},\"mode\":\"lines\",\"name\":\"Discrete QNG\",\"showlegend\":true,\"x\":[0,1,2,3,4,5,6,7,8,9,10,11,12,13,14,15,16,17,18,19,20,21,22,23,24,25,26,27,28,29,30,31,32,33,34,35,36,37,38,39,40,41,42,43,44,45,46,47,48,49,50,51,52,53,54,55,56,57,58,59,60,61,62,63,64,65,66,67,68,69,70,71,72,73,74,75,76,77,78,79,80,81,82,83,84,85,86,87,88,89,90,91,92,93,94,95,96,97,98,99,100],\"y\":[-1.71484375,-2.05859375,-2.296875,-2.4501953125,-2.5791015625,-2.7333984375,-2.8583984375,-2.8251953125,-2.8486328125,-2.9091796875,-2.9423828125,-3.015625,-3.00390625,-3.0185546875,-3.0146484375,-2.998046875,-3.0927734375,-3.1083984375,-3.142578125,-3.1171875,-3.1533203125,-3.1806640625,-3.1884765625,-3.20703125,-3.16796875,-3.28515625,-3.3154296875,-3.2763671875,-3.3349609375,-3.291015625,-3.4130859375,-3.41796875,-3.427734375,-3.416015625,-3.4423828125,-3.4072265625,-3.47265625,-3.4873046875,-3.4736328125,-3.45703125,-3.5146484375,-3.4775390625,-3.4775390625,-3.509765625,-3.4462890625,-3.5048828125,-3.4736328125,-3.5185546875,-3.509765625,-3.49609375,-3.537109375,-3.4814453125,-3.4990234375,-3.486328125,-3.4609375,-3.4599609375,-3.474609375,-3.51171875,-3.4912109375,-3.5087890625,-3.51171875,-3.505859375,-3.5087890625,-3.4921875,-3.5224609375,-3.447265625,-3.5283203125,-3.4775390625,-3.5263671875,-3.482421875,-3.54296875,-3.513671875,-3.466796875,-3.513671875,-3.498046875,-3.51171875,-3.5322265625,-3.568359375,-3.5048828125,-3.5048828125,-3.54296875,-3.51171875,-3.5126953125,-3.51171875,-3.490234375,-3.51953125,-3.505859375,-3.5185546875,-3.4794921875,-3.5234375,-3.50390625,-3.490234375,-3.5400390625,-3.5146484375,-3.5439453125,-3.5068359375,-3.48828125,-3.587890625,-3.53125,-3.474609375,-3.4716796875],\"type\":\"scatter\",\"xaxis\":\"x\",\"yaxis\":\"y\"},{\"line\":{\"color\":\"brown\",\"width\":2},\"mode\":\"lines\",\"name\":\"Discrete Newton Gradient\",\"showlegend\":true,\"x\":[0,1,2,3,4,5,6,7,8,9,10,11,12,13,14,15,16,17,18,19,20,21,22,23,24,25,26,27,28,29,30,31,32,33,34,35,36,37,38,39,40,41,42,43,44,45,46,47,48,49,50,51,52,53,54,55,56,57,58,59,60,61,62,63,64,65,66,67,68,69,70,71,72,73,74,75,76,77,78,79,80,81,82,83,84,85,86,87,88,89,90,91,92,93,94,95,96,97,98,99,100],\"y\":[-1.703125,-2.0283203125,-2.25390625,-2.4013671875,-2.5244140625,-2.5927734375,-2.6611328125,-2.7353515625,-2.890625,-2.9013671875,-2.923828125,-3.0654296875,-3.025390625,-3.15234375,-3.109375,-3.1396484375,-3.1982421875,-3.2216796875,-3.2314453125,-3.23046875,-3.3115234375,-3.2861328125,-3.3515625,-3.3564453125,-3.3642578125,-3.3720703125,-3.4287109375,-3.4140625,-3.4228515625,-3.443359375,-3.4697265625,-3.4296875,-3.4619140625,-3.455078125,-3.4697265625,-3.4443359375,-3.4560546875,-3.498046875,-3.4990234375,-3.4794921875,-3.474609375,-3.4462890625,-3.4951171875,-3.5068359375,-3.49609375,-3.57421875,-3.451171875,-3.517578125,-3.5078125,-3.6064453125,-3.4677734375,-3.552734375,-3.53515625,-3.501953125,-3.5,-3.48828125,-3.5029296875,-3.4892578125,-3.5048828125,-3.4638671875,-3.5458984375,-3.505859375,-3.5048828125,-3.5,-3.453125,-3.443359375,-3.5,-3.46484375,-3.521484375,-3.5078125,-3.4931640625,-3.533203125,-3.51171875,-3.4814453125,-3.5107421875,-3.4892578125,-3.5029296875,-3.5224609375,-3.49609375,-3.4638671875,-3.5732421875,-3.5283203125,-3.48828125,-3.50390625,-3.515625,-3.4697265625,-3.541015625,-3.5224609375,-3.548828125,-3.4970703125,-3.5087890625,-3.5087890625,-3.5185546875,-3.5244140625,-3.5380859375,-3.53515625,-3.4541015625,-3.4677734375,-3.529296875,-3.50390625,-3.470703125],\"type\":\"scatter\",\"xaxis\":\"x\",\"yaxis\":\"y\"},{\"line\":{\"color\":\"red\",\"width\":2},\"name\":\"Discrete Parameter Shift\",\"showlegend\":false,\"x\":[0,1,2,3,4,5,6,7,8,9,10,11,12,13,14,15,16,17,18,19,20,21,22,23,24,25,26,27,28,29,30,31,32,33,34,35,36,37,38,39,40,41,42,43,44,45,46,47,48,49,50,51,52,53,54,55,56,57,58,59,60,61,62,63,64,65,66,67,68,69,70,71,72,73,74,75,76,77,78,79,80,81,82,83,84,85,86,87,88,89,90,91,92,93,94,95,96,97,98,99,100],\"y\":[0.10400390625,-0.43310546875,-0.73974609375,-1.02001953125,-1.19873046875,-1.32861328125,-1.5322265625,-1.66845703125,-1.61962890625,-1.8671875,-2.11474609375,-2.0986328125,-2.0732421875,-2.12939453125,-2.20068359375,-2.16796875,-2.21044921875,-2.259765625,-2.2802734375,-2.333984375,-2.33251953125,-2.318359375,-2.26953125,-2.40185546875,-2.35498046875,-2.365234375,-2.47705078125,-2.50390625,-2.40576171875,-2.4150390625,-2.4189453125,-2.37646484375,-2.4384765625,-2.44873046875,-2.47265625,-2.439453125,-2.59228515625,-2.4755859375,-2.462890625,-2.42333984375,-2.4541015625,-2.4755859375,-2.5244140625,-2.46435546875,-2.46044921875,-2.47314453125,-2.52001953125,-2.48193359375,-2.48828125,-2.4091796875,-2.53173828125,-2.50537109375,-2.53759765625,-2.43505859375,-2.50634765625,-2.6357421875,-2.5166015625,-2.4296875,-2.54296875,-2.46533203125,-2.587890625,-2.55712890625,-2.49609375,-2.53564453125,-2.50146484375,-2.4423828125,-2.51318359375,-2.50927734375,-2.4423828125,-2.41064453125,-2.44384765625,-2.47900390625,-2.45068359375,-2.4892578125,-2.48095703125,-2.44482421875,-2.46337890625,-2.3896484375,-2.474609375,-2.51953125,-2.5107421875,-2.388671875,-2.4970703125,-2.396484375,-2.5078125,-2.51611328125,-2.58447265625,-2.46142578125,-2.55908203125,-2.5625,-2.517578125,-2.5576171875,-2.484375,-2.52001953125,-2.53076171875,-2.52978515625,-2.51416015625,-2.4384765625,-2.56103515625,-2.5234375,-2.45361328125],\"type\":\"scatter\",\"xaxis\":\"x2\",\"yaxis\":\"y2\"},{\"line\":{\"color\":\"green\",\"width\":2},\"mode\":\"lines\",\"name\":\"Discrete Finite Difference\",\"showlegend\":false,\"x\":[0,1,2,3,4,5,6,7,8,9,10,11,12,13,14,15,16,17,18,19,20,21,22,23,24,25,26,27,28,29,30,31,32,33,34,35,36,37,38,39,40,41,42,43,44,45,46,47,48,49,50,51,52,53,54,55,56,57,58,59,60,61,62,63,64,65,66,67,68,69,70,71,72,73,74,75,76,77,78,79,80,81,82,83,84,85,86,87,88,89,90,91,92,93,94,95,96,97,98,99,100],\"y\":[0.10400390625,-0.14404296875,-0.08837890625,-0.12841796875,-0.2919921875,-0.07470703125,-0.27734375,-0.2490234375,-0.171875,-0.29541015625,-0.3671875,-0.439453125,-0.1904296875,-0.248046875,-0.3896484375,-0.33251953125,-0.5048828125,-0.34814453125,-0.46533203125,-0.60888671875,-0.64013671875,-0.6611328125,-0.4443359375,-0.56396484375,-0.49169921875,-0.52392578125,-0.45361328125,-0.5244140625,-0.65966796875,-0.630859375,-0.58740234375,-0.64599609375,-0.841796875,-0.8359375,-0.8115234375,-0.81103515625,-1.0146484375,-0.908203125,-0.94287109375,-1.06982421875,-1.00146484375,-1.22119140625,-1.28564453125,-1.23095703125,-1.30810546875,-1.197265625,-1.42626953125,-1.24755859375,-1.3017578125,-1.14599609375,-1.169921875,-1.1708984375,-1.1884765625,-1.1845703125,-1.33984375,-1.48291015625,-1.51708984375,-1.361328125,-1.5576171875,-1.38623046875,-1.59375,-1.49365234375,-1.724609375,-1.59375,-1.5185546875,-1.50244140625,-1.55810546875,-1.6552734375,-1.5478515625,-1.587890625,-1.5810546875,-1.6630859375,-1.65673828125,-1.677734375,-1.59130859375,-1.81884765625,-1.83837890625,-1.7490234375,-1.85986328125,-1.97265625,-1.9423828125,-1.81396484375,-1.9990234375,-1.89306640625,-1.90966796875,-1.85546875,-1.99853515625,-1.70703125,-2.07080078125,-1.9033203125,-1.9052734375,-1.921875,-1.85693359375,-1.84765625,-1.72998046875,-1.822265625,-1.77197265625,-1.833984375,-1.91748046875,-1.87548828125,-1.79052734375],\"type\":\"scatter\",\"xaxis\":\"x2\",\"yaxis\":\"y2\"},{\"line\":{\"color\":\"yellow\",\"width\":2},\"mode\":\"lines\",\"name\":\"Discrete LCU\",\"showlegend\":false,\"x\":[0,1,2,3,4,5,6,7,8,9,10,11,12,13,14,15,16,17,18,19,20,21,22,23,24,25,26,27,28,29,30,31,32,33,34,35,36,37,38,39,40,41,42,43,44,45,46,47,48,49,50,51,52,53,54,55,56,57,58,59,60,61,62,63,64,65,66,67,68,69,70,71,72,73,74,75,76,77,78,79,80,81,82,83,84,85,86,87,88,89,90,91,92,93,94,95,96,97,98,99,100],\"y\":[0.1259765625,-0.443359375,-0.82470703125,-1.0126953125,-1.25927734375,-1.42822265625,-1.50439453125,-1.59765625,-1.6162109375,-1.80615234375,-1.99462890625,-2.0146484375,-1.88916015625,-2.00732421875,-2.1533203125,-2.1865234375,-2.23095703125,-2.31298828125,-2.23876953125,-2.28125,-2.2158203125,-2.2626953125,-2.390625,-2.40771484375,-2.388671875,-2.3583984375,-2.4267578125,-2.29248046875,-2.38818359375,-2.4599609375,-2.40576171875,-2.462890625,-2.34130859375,-2.4658203125,-2.4912109375,-2.46630859375,-2.4697265625,-2.36083984375,-2.49755859375,-2.43994140625,-2.4326171875,-2.41064453125,-2.4462890625,-2.49072265625,-2.5693359375,-2.48486328125,-2.47705078125,-2.4599609375,-2.51025390625,-2.56103515625,-2.40966796875,-2.50830078125,-2.443359375,-2.533203125,-2.462890625,-2.478515625,-2.50927734375,-2.40234375,-2.5166015625,-2.46240234375,-2.470703125,-2.53515625,-2.4853515625,-2.40771484375,-2.517578125,-2.50634765625,-2.4990234375,-2.5205078125,-2.51708984375,-2.43310546875,-2.51953125,-2.48193359375,-2.47412109375,-2.4384765625,-2.5390625,-2.47900390625,-2.49169921875,-2.5078125,-2.5341796875,-2.4365234375,-2.517578125,-2.47314453125,-2.42431640625,-2.47705078125,-2.4384765625,-2.48291015625,-2.36181640625,-2.380859375,-2.50439453125,-2.5126953125,-2.51708984375,-2.49951171875,-2.45166015625,-2.48046875,-2.48974609375,-2.47705078125,-2.5263671875,-2.5234375,-2.54833984375,-2.5712890625,-2.53564453125],\"type\":\"scatter\",\"xaxis\":\"x2\",\"yaxis\":\"y2\"},{\"line\":{\"color\":\"blue\",\"width\":2},\"mode\":\"lines\",\"name\":\"Discrete QNG\",\"showlegend\":false,\"x\":[0,1,2,3,4,5,6,7,8,9,10,11,12,13,14,15,16,17,18,19,20,21,22,23,24,25,26,27,28,29,30,31,32,33,34,35,36,37,38,39,40,41,42,43,44,45,46,47,48,49,50,51,52,53,54,55,56,57,58,59,60,61,62,63,64,65,66,67,68,69,70,71,72,73,74,75,76,77,78,79,80,81,82,83,84,85,86,87,88,89,90,91,92,93,94,95,96,97,98,99,100],\"y\":[0.10400390625,-0.43310546875,-0.7412109375,-1.01171875,-1.232421875,-1.40625,-1.61376953125,-1.68017578125,-1.62158203125,-1.93701171875,-2.19482421875,-2.12255859375,-2.10546875,-2.177734375,-2.2666015625,-2.212890625,-2.294921875,-2.32763671875,-2.31689453125,-2.36083984375,-2.3779296875,-2.35302734375,-2.31591796875,-2.4443359375,-2.40771484375,-2.400390625,-2.501953125,-2.51123046875,-2.4365234375,-2.453125,-2.43603515625,-2.423828125,-2.4619140625,-2.4658203125,-2.4736328125,-2.4365234375,-2.60205078125,-2.48876953125,-2.474609375,-2.43359375,-2.4443359375,-2.4892578125,-2.55517578125,-2.4755859375,-2.47900390625,-2.48095703125,-2.5498046875,-2.48095703125,-2.48046875,-2.39453125,-2.53466796875,-2.5009765625,-2.5400390625,-2.44189453125,-2.5009765625,-2.64111328125,-2.51318359375,-2.4326171875,-2.5537109375,-2.46240234375,-2.58203125,-2.568359375,-2.50537109375,-2.53173828125,-2.501953125,-2.44873046875,-2.51025390625,-2.521484375,-2.423828125,-2.4189453125,-2.44384765625,-2.48046875,-2.4443359375,-2.501953125,-2.4853515625,-2.44140625,-2.46630859375,-2.37646484375,-2.4794921875,-2.5244140625,-2.501953125,-2.39599609375,-2.505859375,-2.38330078125,-2.50439453125,-2.521484375,-2.57470703125,-2.474609375,-2.55859375,-2.556640625,-2.515625,-2.5576171875,-2.4853515625,-2.517578125,-2.53125,-2.52978515625,-2.5166015625,-2.42333984375,-2.56298828125,-2.52490234375,-2.4580078125],\"type\":\"scatter\",\"xaxis\":\"x2\",\"yaxis\":\"y2\"},{\"line\":{\"color\":\"brown\",\"width\":2},\"mode\":\"lines\",\"name\":\"Discrete Newton Gradient\",\"showlegend\":false,\"x\":[0,1,2,3,4,5,6,7,8,9,10,11,12,13,14,15,16,17,18,19,20,21,22,23,24,25,26,27,28,29,30,31,32,33,34,35,36,37,38,39,40,41,42,43,44,45,46,47,48,49,50,51,52,53,54,55,56,57,58,59,60,61,62,63,64,65,66,67,68,69,70,71,72,73,74,75,76,77,78,79,80,81,82,83,84,85,86,87,88,89,90,91,92,93,94,95,96,97,98,99,100],\"y\":[0.10400390625,-0.28955078125,-0.5673828125,-0.697265625,-0.98291015625,-1.03076171875,-1.3232421875,-1.30078125,-1.25439453125,-1.60107421875,-1.7373046875,-1.802734375,-1.72509765625,-1.84423828125,-1.89208984375,-1.84033203125,-1.939453125,-1.9677734375,-2.109375,-2.16796875,-2.14306640625,-2.13525390625,-2.1015625,-2.23583984375,-2.18701171875,-2.2568359375,-2.388671875,-2.40234375,-2.31884765625,-2.32861328125,-2.34521484375,-2.33837890625,-2.392578125,-2.4208984375,-2.45361328125,-2.39306640625,-2.54296875,-2.4697265625,-2.45556640625,-2.45556640625,-2.4404296875,-2.45166015625,-2.548828125,-2.47021484375,-2.52978515625,-2.48681640625,-2.5654296875,-2.48974609375,-2.50732421875,-2.400390625,-2.544921875,-2.50439453125,-2.50732421875,-2.4580078125,-2.54541015625,-2.630859375,-2.50146484375,-2.45263671875,-2.59326171875,-2.49365234375,-2.6083984375,-2.5703125,-2.53857421875,-2.546875,-2.54833984375,-2.48291015625,-2.52099609375,-2.53857421875,-2.51220703125,-2.4990234375,-2.4501953125,-2.533203125,-2.4658203125,-2.6181640625,-2.53076171875,-2.5771484375,-2.55810546875,-2.57373046875,-2.63525390625,-2.76171875,-2.732421875,-2.6689453125,-2.82177734375,-2.7626953125,-2.79931640625,-2.8515625,-2.90478515625,-2.85986328125,-2.89990234375,-2.94091796875,-2.94140625,-2.9736328125,-2.95361328125,-2.94091796875,-2.99267578125,-2.98583984375,-2.94970703125,-2.9892578125,-2.9951171875,-2.9794921875,-2.99462890625],\"type\":\"scatter\",\"xaxis\":\"x2\",\"yaxis\":\"y2\"},{\"line\":{\"color\":\"red\",\"width\":2},\"name\":\"Discrete Parameter Shift\",\"showlegend\":false,\"x\":[0,1,2,3,4,5,6,7,8,9,10,11,12,13,14,15,16,17,18,19,20,21,22,23,24,25,26,27,28,29,30,31,32,33,34,35,36,37,38,39,40,41,42,43,44,45,46,47,48,49,50,51,52,53,54,55,56,57,58,59,60,61,62,63,64,65,66,67,68,69,70,71,72,73,74,75,76,77,78,79,80,81,82,83,84,85,86,87,88,89,90,91,92,93,94,95,96,97,98,99,100],\"y\":[667202.150390625,597100.3793945312,524045.47607421875,498507.31005859375,470666.4208984375,431405.578125,436746.4052734375,418567.64453125,407297.1318359375,379081.24365234375,386874.23193359375,366884.9248046875,358500.1494140625,354000.14892578125,357422.04931640625,333814.5751953125,328503.05419921875,327073.36669921875,332827.28662109375,308657.3173828125,306506.9208984375,309439.5751953125,304831.15185546875,290021.55810546875,285480.53369140625,268678.73486328125,285794.037109375,269291.064453125,267462.94091796875,268582.09033203125,265321.37255859375,252770.55126953125,249729.54736328125,242540.08056640625,245633.84521484375,229274.435546875,220110.36083984375,222884.779296875,219404.31787109375,218689.47900390625,213761.73193359375,211089.869140625,206472.669921875,206841.8173828125,197390.62353515625,199948.255859375,193541.01416015625,195052.740234375,192568.36376953125,189829.0986328125,187675.7802734375,189758.7939453125,192486.3427734375,188633.79345703125,187227.54150390625,185830.078125,185241.2099609375,184977.53955078125,184623.04736328125,185062.5048828125,184760.74462890625,183550.78076171875,183840.8212890625,183339.8427734375,183506.8359375,183503.90673828125,184069.33837890625,183202.1484375,183298.8291015625,183298.8291015625,183023.4375,182821.2880859375,183140.625,183128.90625,183541.9931640625,183448.24365234375,183161.1318359375,182645.50634765625,183597.65771484375,183079.1005859375,183108.39794921875,183641.60302734375,183360.35107421875,182182.61328125,183190.4296875,183782.22802734375,182985.3505859375,183597.65771484375,182748.0458984375,183498.0478515625,183752.93115234375,183149.41455078125,183161.13232421875,183448.24365234375,182540.03662109375,182821.2880859375,183530.2744140625,183000.0,183181.64111328125,183158.20361328125,183518.5556640625],\"type\":\"scatter\",\"xaxis\":\"x3\",\"yaxis\":\"y3\"},{\"line\":{\"color\":\"green\",\"width\":2},\"mode\":\"lines\",\"name\":\"Discrete Finite Difference\",\"showlegend\":false,\"x\":[0,1,2,3,4,5,6,7,8,9,10,11,12,13,14,15,16,17,18,19,20,21,22,23,24,25,26,27,28,29,30,31,32,33,34,35,36,37,38,39,40,41,42,43,44,45,46,47,48,49,50,51,52,53,54,55,56,57,58,59,60,61,62,63,64,65,66,67,68,69,70,71,72,73,74,75,76,77,78,79,80,81,82,83,84,85,86,87,88,89,90,91,92,93,94,95,96,97,98,99,100],\"y\":[667202.150390625,679914.1064453125,632215.7119140625,629283.0737304688,610799.6333007812,622694.1850585938,629042.8359375,623362.1411132812,607761.52734375,598354.271484375,618320.130859375,604673.6088867188,583779.01953125,573686.2221679688,561677.3872070312,562485.982421875,557772.1220703125,560789.6899414062,552967.3881835938,542022.0424804688,537003.466796875,558073.8505859375,564656.869140625,558085.5668945312,553274.9936523438,571910.796875,544928.2983398438,559450.7919921875,552314.041015625,535228.0615234375,533684.1225585938,542148.0053710938,525346.19140625,534234.8955078125,538875.53515625,543006.404296875,549399.0009765625,553673.423828125,542232.9702148438,531396.0297851562,538131.3994140625,548104.083984375,537595.2524414062,530517.1000976562,539499.5693359375,538421.4184570312,548139.2260742188,533004.4233398438,531144.0541992188,526251.4580078125,509165.4638671875,516120.58251953125,520781.7255859375,522902.82177734375,502400.81640625,510343.22265625,512153.76708984375,504299.2587890625,496728.92529296875,488733.7880859375,491587.30029296875,480287.4755859375,474325.5478515625,479004.26611328125,472022.796875,468718.1015625,481336.3056640625,450102.8115234375,445681.9091796875,453272.73095703125,446968.02197265625,439435.76806640625,420216.96728515625,413396.62841796875,410592.91650390625,416009.93212890625,424837.10546875,417049.9873046875,410607.56640625,409555.80517578125,404616.3427734375,412180.8076171875,399870.248046875,393603.63330078125,402981.56982421875,405243.294921875,410935.6865234375,406810.6748046875,406711.06640625,410156.396484375,393506.923828125,394122.1767578125,394239.37060546875,396465.94287109375,391851.669921875,400804.81884765625,397541.14111328125,397406.3759765625,396577.2802734375,413926.9306640625,399255.01513671875],\"type\":\"scatter\",\"xaxis\":\"x3\",\"yaxis\":\"y3\"},{\"line\":{\"color\":\"yellow\",\"width\":2},\"mode\":\"lines\",\"name\":\"Discrete LCU\",\"showlegend\":false,\"x\":[0,1,2,3,4,5,6,7,8,9,10,11,12,13,14,15,16,17,18,19,20,21,22,23,24,25,26,27,28,29,30,31,32,33,34,35,36,37,38,39,40,41,42,43,44,45,46,47,48,49,50,51,52,53,54,55,56,57,58,59,60,61,62,63,64,65,66,67,68,69,70,71,72,73,74,75,76,77,78,79,80,81,82,83,84,85,86,87,88,89,90,91,92,93,94,95,96,97,98,99,100],\"y\":[666809.5747070312,597305.4609375,531240.802734375,486967.248046875,483387.1513671875,448339.208984375,425956.32568359375,413179.935546875,402105.70068359375,403585.20068359375,381647.65576171875,370380.0537109375,362680.8125,368745.30322265625,357536.291015625,356821.451171875,344100.72314453125,340573.380859375,338364.39404296875,333545.0390625,312753.00390625,317768.65625,290683.6416015625,291773.5,288389.70166015625,297539.14990234375,289426.83349609375,281393.6259765625,274693.41650390625,274133.85302734375,263698.291015625,264146.54248046875,247004.8984375,245622.08935546875,244338.8955078125,237999.05126953125,237137.73779296875,227666.033203125,228319.36376953125,222632.82763671875,217330.09228515625,212525.40478515625,206112.3076171875,204011.7275390625,197926.7568359375,201805.67919921875,193502.92529296875,196256.84375,194499.0224609375,195993.17724609375,192041.015625,188973.6328125,190661.14208984375,186521.4794921875,186641.59716796875,186503.90625,186864.26123046875,186228.51806640625,185833.00927734375,183550.77587890625,188340.83251953125,182806.63525390625,184057.6142578125,181854.484375,184998.04736328125,183653.3203125,182906.24658203125,183937.49853515625,186410.16357421875,183287.107421875,184734.376953125,183603.5146484375,184479.49560546875,183407.22607421875,183281.2490234375,183448.2421875,183793.94677734375,183468.74853515625,183448.2421875,184060.54833984375,183726.56201171875,183351.56201171875,183574.21875,183541.99365234375,183902.3447265625,182900.388671875,184447.2685546875,183486.3291015625,183530.2744140625,183152.34375,183802.736328125,183002.92919921875,182906.24951171875,183603.5166015625,183530.27294921875,183465.8203125,183670.8984375,183793.9462890625,183899.41650390625,183000.0,184620.1220703125],\"type\":\"scatter\",\"xaxis\":\"x3\",\"yaxis\":\"y3\"},{\"line\":{\"color\":\"blue\",\"width\":2},\"mode\":\"lines\",\"name\":\"Discrete QNG\",\"showlegend\":false,\"x\":[0,1,2,3,4,5,6,7,8,9,10,11,12,13,14,15,16,17,18,19,20,21,22,23,24,25,26,27,28,29,30,31,32,33,34,35,36,37,38,39,40,41,42,43,44,45,46,47,48,49,50,51,52,53,54,55,56,57,58,59,60,61,62,63,64,65,66,67,68,69,70,71,72,73,74,75,76,77,78,79,80,81,82,83,84,85,86,87,88,89,90,91,92,93,94,95,96,97,98,99,100],\"y\":[667202.150390625,597100.3793945312,523919.4990234375,498117.65966796875,469520.90966796875,429738.580078125,436245.42919921875,417225.84521484375,404238.53173828125,374982.60009765625,384902.54736328125,363583.16015625,355412.2509765625,352095.84521484375,355324.388671875,334330.201171875,327064.57373046875,326068.48046875,332261.85546875,307804.7763671875,305112.3876953125,306539.1767578125,307760.8466796875,293335.0390625,283271.541015625,270413.11181640625,286579.19189453125,271587.9423828125,272109.4375,269050.8408203125,268013.759765625,254305.70703125,250766.6552734375,238297.88134765625,246668.02587890625,235523.46923828125,222249.0283203125,218660.15673828125,223292.02099609375,221976.59326171875,213073.24951171875,211051.7783203125,207222.6689453125,207793.96435546875,201632.81884765625,198732.42822265625,194557.61083984375,194797.853515625,193101.5654296875,190183.58837890625,189899.416015625,189943.36376953125,192580.09130859375,187898.43798828125,187582.0341796875,185633.78759765625,184543.9423828125,184766.60107421875,184570.3125,185021.48876953125,184760.74462890625,183785.15625,183714.84423828125,183363.2802734375,183454.10107421875,183653.3212890625,184069.33837890625,183202.1484375,183298.8291015625,183298.8291015625,183023.4375,182874.02294921875,183383.78955078125,183287.10986328125,183793.947265625,183691.408203125,183339.84375,182645.50634765625,183298.82861328125,183205.07763671875,183108.39794921875,183641.60302734375,183413.0859375,182425.77783203125,183190.4296875,183782.22802734375,183111.32763671875,183597.65771484375,182748.0458984375,183498.0478515625,183752.93115234375,183149.41455078125,182917.9677734375,183448.24365234375,182540.03662109375,182979.49169921875,183530.2744140625,183000.0,183181.64111328125,183158.20361328125,183518.5556640625],\"type\":\"scatter\",\"xaxis\":\"x3\",\"yaxis\":\"y3\"},{\"line\":{\"color\":\"brown\",\"width\":2},\"mode\":\"lines\",\"name\":\"Discrete Newton Gradient\",\"showlegend\":false,\"x\":[0,1,2,3,4,5,6,7,8,9,10,11,12,13,14,15,16,17,18,19,20,21,22,23,24,25,26,27,28,29,30,31,32,33,34,35,36,37,38,39,40,41,42,43,44,45,46,47,48,49,50,51,52,53,54,55,56,57,58,59,60,61,62,63,64,65,66,67,68,69,70,71,72,73,74,75,76,77,78,79,80,81,82,83,84,85,86,87,88,89,90,91,92,93,94,95,96,97,98,99,100],\"y\":[667202.150390625,682436.6435546875,550166.6069335938,533253.4926757812,706996.2119140625,499600.123046875,482144.9619140625,553591.3793945312,538195.8271484375,506971.1826171875,539631.4204101562,532635.3520507812,407680.82666015625,328511.85546875,284906.31298828125,423334.35302734375,376500.21337890625,359050.95751953125,338909.3544921875,513357.9765625,474855.93896484375,491218.2470703125,469538.48193359375,496884.29248046875,483668.42041015625,499137.1884765625,492354.97021484375,490400.8642578125,498041.5,506054.27880859375,496090.3837890625,492352.05908203125,513774.01025390625,521733.99072265625,520635.34619140625,488959.49072265625,556931.16015625,531067.9057617188,522885.41455078125,499213.4609375,518728.09716796875,535011.263671875,513149.87060546875,520286.55810546875,511283.7529296875,551159.7802734375,548256.4365234375,546155.8295898438,554786.6704101562,543850.1533203125,552911.763671875,553585.5581054688,521795.4541015625,540911.65625,542561.0341796875,572192.1435546875,537894.1103515625,528076.6884765625,534243.7250976562,524092.31689453125,517564.87353515625,601433.353515625,596268.3188476562,573665.8173828125,546812.2329101562,539215.5380859375,544307.265625,513106.0185546875,404461.09130859375,432603.669921875,431156.31884765625,416865.41357421875,465621.38525390625,461177.02392578125,574471.3500976562,612029.9282226562,569306.2866210938,668666.9555664062,647300.7421875,537252.5771484375,591733.2211914062,537747.7329101562,574916.7866210938,594416.9423828125,542259.2797851562,568904.9643554688,582856.123046875,587186.2514648438,579132.357421875,603583.7416992188,602033.7001953125,535406.6547851562,563335.37890625,627375.8173828125,535160.7778320312,584455.6435546875,532849.2939453125,499459.5361328125,363020.68115234375,500566.88232421875,506042.5810546875],\"type\":\"scatter\",\"xaxis\":\"x3\",\"yaxis\":\"y3\"},{\"line\":{\"color\":\"red\",\"width\":2},\"name\":\"Discrete Parameter Shift\",\"showlegend\":false,\"x\":[0,1,2,3,4,5,6,7,8,9,10,11,12,13,14,15,16,17,18,19,20,21,22,23,24,25,26,27,28,29,30,31,32,33,34,35,36,37,38,39,40,41,42,43,44,45,46,47,48,49,50,51,52,53,54,55,56,57,58,59,60,61,62,63,64,65,66,67,68,69,70,71,72,73,74,75,76,77,78,79,80,81,82,83,84,85,86,87,88,89,90,91,92,93,94,95,96,97,98,99,100],\"y\":[27.638671875,23.0234375,18.583984375,16.3466796875,13.44140625,11.9423828125,9.947265625,8.6533203125,7.0576171875,7.001953125,5.2119140625,5.2138671875,4.609375,4.94921875,4.220703125,3.4560546875,3.701171875,3.55078125,2.982421875,3.1572265625,3.4453125,3.416015625,2.8466796875,2.6357421875,2.2705078125,2.2724609375,1.7080078125,2.6826171875,1.3173828125,1.4248046875,0.5693359375,0.388671875,-0.08984375,0.013671875,-0.35546875,-0.294921875,-0.400390625,-0.962890625,-1.0927734375,-1.37890625,-1.4150390625,-1.7919921875,-1.9794921875,-1.98046875,-2.044921875,-2.2900390625,-2.5634765625,-2.5380859375,-2.890625,-2.6689453125,-2.544921875,-2.833984375,-2.8857421875,-2.9375,-2.8193359375,-2.962890625,-2.9384765625,-2.859375,-2.8544921875,-2.939453125,-3.03125,-2.97265625,-2.9775390625,-2.982421875,-2.9716796875,-3.0244140625,-2.994140625,-2.990234375,-2.994140625,-2.9853515625,-3.005859375,-2.9560546875,-3.015625,-3.0,-2.9638671875,-3.0234375,-2.9990234375,-2.943359375,-2.974609375,-2.958984375,-2.994140625,-2.9853515625,-3.00390625,-2.962890625,-2.98828125,-3.052734375,-2.998046875,-2.970703125,-2.9677734375,-3.015625,-2.982421875,-2.970703125,-3.015625,-2.9873046875,-3.0224609375,-2.884765625,-2.998046875,-2.97265625,-2.9765625,-2.986328125,-2.986328125],\"type\":\"scatter\",\"xaxis\":\"x4\",\"yaxis\":\"y4\"},{\"line\":{\"color\":\"green\",\"width\":2},\"mode\":\"lines\",\"name\":\"Discrete Finite Difference\",\"showlegend\":false,\"x\":[0,1,2,3,4,5,6,7,8,9,10,11,12,13,14,15,16,17,18,19,20,21,22,23,24,25,26,27,28,29,30,31,32,33,34,35,36,37,38,39,40,41,42,43,44,45,46,47,48,49,50,51,52,53,54,55,56,57,58,59,60,61,62,63,64,65,66,67,68,69,70,71,72,73,74,75,76,77,78,79,80,81,82,83,84,85,86,87,88,89,90,91,92,93,94,95,96,97,98,99,100],\"y\":[27.638671875,25.02734375,22.6796875,23.0771484375,22.2509765625,21.9296875,21.859375,19.9033203125,20.953125,21.291015625,20.099609375,20.0966796875,20.1826171875,20.1806640625,19.775390625,18.9736328125,19.0712890625,19.18359375,18.501953125,18.4453125,19.12890625,17.669921875,16.505859375,16.4150390625,14.81640625,14.78515625,13.275390625,13.7001953125,13.798828125,12.4541015625,12.716796875,12.0625,11.8427734375,11.193359375,10.63671875,10.7685546875,10.3408203125,10.7451171875,10.1591796875,9.625,9.8505859375,9.1103515625,9.091796875,8.7861328125,9.1689453125,8.3740234375,9.3740234375,9.3486328125,9.080078125,8.4697265625,8.4052734375,9.216796875,9.029296875,9.322265625,9.158203125,8.82421875,7.923828125,7.5380859375,8.2705078125,7.509765625,7.408203125,8.3857421875,8.056640625,8.3447265625,7.5517578125,7.4814453125,7.5673828125,7.458984375,7.3310546875,7.8193359375,7.146484375,6.91015625,7.26953125,6.41796875,6.03515625,6.2900390625,6.5966796875,5.9658203125,6.6357421875,5.94921875,6.1796875,6.833984375,7.052734375,6.1591796875,7.033203125,6.556640625,6.4462890625,6.1181640625,6.2216796875,6.216796875,6.578125,6.828125,6.2470703125,6.3740234375,6.1845703125,5.9501953125,5.6376953125,5.39453125,5.267578125,4.37890625,4.9501953125],\"type\":\"scatter\",\"xaxis\":\"x4\",\"yaxis\":\"y4\"},{\"line\":{\"color\":\"yellow\",\"width\":2},\"mode\":\"lines\",\"name\":\"Discrete LCU\",\"showlegend\":false,\"x\":[0,1,2,3,4,5,6,7,8,9,10,11,12,13,14,15,16,17,18,19,20,21,22,23,24,25,26,27,28,29,30,31,32,33,34,35,36,37,38,39,40,41,42,43,44,45,46,47,48,49,50,51,52,53,54,55,56,57,58,59,60,61,62,63,64,65,66,67,68,69,70,71,72,73,74,75,76,77,78,79,80,81,82,83,84,85,86,87,88,89,90,91,92,93,94,95,96,97,98,99,100],\"y\":[27.4912109375,22.923828125,19.0859375,16.345703125,13.857421875,11.154296875,9.0771484375,8.68359375,7.0673828125,5.80859375,5.927734375,4.955078125,4.7119140625,4.7255859375,3.7724609375,4.6689453125,3.353515625,3.3828125,3.353515625,3.3779296875,3.0546875,2.763671875,2.9384765625,2.8837890625,2.80078125,2.01171875,1.98046875,1.80078125,1.8583984375,1.4755859375,1.689453125,1.2294921875,1.23046875,0.0615234375,-0.017578125,-0.2578125,-0.6748046875,-0.548828125,-0.498046875,-0.740234375,-1.388671875,-1.4072265625,-1.3642578125,-2.224609375,-2.0244140625,-2.0361328125,-2.513671875,-2.4560546875,-2.3740234375,-2.3369140625,-2.6484375,-2.52734375,-2.431640625,-2.48046875,-2.7109375,-2.6943359375,-2.8779296875,-2.958984375,-2.783203125,-2.9423828125,-2.919921875,-2.8173828125,-2.9619140625,-2.9296875,-2.927734375,-2.88671875,-2.9404296875,-2.9775390625,-2.90625,-2.998046875,-3.0283203125,-2.857421875,-3.0146484375,-3.021484375,-2.9853515625,-3.0068359375,-3.013671875,-2.9541015625,-2.9609375,-2.9609375,-2.958984375,-2.978515625,-2.9609375,-2.9853515625,-3.0078125,-2.9873046875,-2.978515625,-2.998046875,-3.0302734375,-2.9736328125,-3.0048828125,-3.0126953125,-2.974609375,-2.9501953125,-2.94140625,-2.9912109375,-2.95703125,-2.8994140625,-3.013671875,-3.001953125,-3.0244140625],\"type\":\"scatter\",\"xaxis\":\"x4\",\"yaxis\":\"y4\"},{\"line\":{\"color\":\"blue\",\"width\":2},\"mode\":\"lines\",\"name\":\"Discrete QNG\",\"showlegend\":false,\"x\":[0,1,2,3,4,5,6,7,8,9,10,11,12,13,14,15,16,17,18,19,20,21,22,23,24,25,26,27,28,29,30,31,32,33,34,35,36,37,38,39,40,41,42,43,44,45,46,47,48,49,50,51,52,53,54,55,56,57,58,59,60,61,62,63,64,65,66,67,68,69,70,71,72,73,74,75,76,77,78,79,80,81,82,83,84,85,86,87,88,89,90,91,92,93,94,95,96,97,98,99,100],\"y\":[27.638671875,23.0234375,18.5576171875,16.2451171875,13.4580078125,11.7587890625,9.91796875,8.3984375,6.7685546875,6.94921875,5.1640625,5.1083984375,4.5673828125,4.8369140625,3.998046875,3.2744140625,3.68359375,3.6279296875,3.2236328125,3.44921875,3.5166015625,3.3486328125,3.064453125,3.013671875,2.728515625,2.609375,2.478515625,2.9892578125,2.1337890625,2.0009765625,1.5546875,1.359375,0.5302734375,0.607421875,0.236328125,0.125,0.49609375,-0.5166015625,-0.7978515625,-1.16796875,-1.3056640625,-1.5341796875,-1.623046875,-1.6572265625,-1.7744140625,-2.0205078125,-2.505859375,-2.4287109375,-2.6953125,-2.623046875,-2.4501953125,-2.744140625,-2.8828125,-2.7060546875,-2.7626953125,-2.814453125,-2.9111328125,-2.916015625,-2.8515625,-2.892578125,-3.0,-2.9033203125,-2.9482421875,-3.0478515625,-2.9990234375,-2.9638671875,-2.9619140625,-3.0224609375,-3.0126953125,-2.9765625,-3.00390625,-2.9638671875,-2.99609375,-2.984375,-2.97265625,-3.0234375,-2.9990234375,-2.953125,-2.974609375,-2.9501953125,-2.994140625,-2.9453125,-3.0048828125,-2.970703125,-2.99609375,-3.052734375,-2.998046875,-2.9716796875,-2.9677734375,-3.0078125,-2.958984375,-2.9677734375,-3.03125,-2.9931640625,-3.0224609375,-2.890625,-2.998046875,-2.96484375,-2.984375,-2.96875,-2.9853515625],\"type\":\"scatter\",\"xaxis\":\"x4\",\"yaxis\":\"y4\"},{\"line\":{\"color\":\"brown\",\"width\":2},\"mode\":\"lines\",\"name\":\"Discrete Newton Gradient\",\"showlegend\":false,\"x\":[0,1,2,3,4,5,6,7,8,9,10,11,12,13,14,15,16,17,18,19,20,21,22,23,24,25,26,27,28,29,30,31,32,33,34,35,36,37,38,39,40,41,42,43,44,45,46,47,48,49,50,51,52,53,54,55,56,57,58,59,60,61,62,63,64,65,66,67,68,69,70,71,72,73,74,75,76,77,78,79,80,81,82,83,84,85,86,87,88,89,90,91,92,93,94,95,96,97,98,99,100],\"y\":[27.638671875,27.009765625,10.0029296875,8.056640625,8.251953125,8.109375,10.4990234375,10.11328125,5.30859375,3.8564453125,2.7099609375,3.0810546875,2.2060546875,2.578125,2.353515625,2.501953125,2.728515625,2.59765625,2.6630859375,2.521484375,2.546875,2.9453125,2.6962890625,2.2548828125,2.3984375,2.4921875,2.0771484375,0.322265625,-1.1015625,-1.9541015625,-2.44921875,-2.7587890625,-2.4638671875,-2.705078125,-2.8232421875,-2.8505859375,-2.6181640625,-2.310546875,-1.55859375,-1.392578125,-0.95703125,-2.4384765625,-2.900390625,-2.412109375,-2.4326171875,-2.28125,-2.4892578125,-2.591796875,-2.1328125,-1.486328125,0.068359375,3.0146484375,6.521484375,4.0380859375,8.0,1.7041015625,-1.060546875,-2.8505859375,-3.0078125,-2.83984375,-2.9453125,-2.8642578125,-2.91796875,-2.8212890625,-2.90625,-2.6982421875,-2.68359375,-2.6591796875,-2.576171875,-2.5185546875,-1.9287109375,0.6728515625,5.9921875,11.88671875,8.3525390625,8.7880859375,6.9287109375,1.650390625,7.8486328125,6.677734375,5.921875,3.064453125,0.7900390625,-1.8974609375,-2.5830078125,-2.9609375,-2.978515625,-2.9560546875,-2.9755859375,-3.033203125,-2.958984375,-2.9794921875,-2.982421875,-2.9833984375,-2.99609375,-2.888671875,-2.98828125,-2.90234375,-2.994140625,-3.044921875,-2.7744140625],\"type\":\"scatter\",\"xaxis\":\"x4\",\"yaxis\":\"y4\"}],                        {\"template\":{\"data\":{\"bar\":[{\"error_x\":{\"color\":\"#2a3f5f\"},\"error_y\":{\"color\":\"#2a3f5f\"},\"marker\":{\"line\":{\"color\":\"#E5ECF6\",\"width\":0.5},\"pattern\":{\"fillmode\":\"overlay\",\"size\":10,\"solidity\":0.2}},\"type\":\"bar\"}],\"barpolar\":[{\"marker\":{\"line\":{\"color\":\"#E5ECF6\",\"width\":0.5},\"pattern\":{\"fillmode\":\"overlay\",\"size\":10,\"solidity\":0.2}},\"type\":\"barpolar\"}],\"carpet\":[{\"aaxis\":{\"endlinecolor\":\"#2a3f5f\",\"gridcolor\":\"white\",\"linecolor\":\"white\",\"minorgridcolor\":\"white\",\"startlinecolor\":\"#2a3f5f\"},\"baxis\":{\"endlinecolor\":\"#2a3f5f\",\"gridcolor\":\"white\",\"linecolor\":\"white\",\"minorgridcolor\":\"white\",\"startlinecolor\":\"#2a3f5f\"},\"type\":\"carpet\"}],\"choropleth\":[{\"colorbar\":{\"outlinewidth\":0,\"ticks\":\"\"},\"type\":\"choropleth\"}],\"contour\":[{\"colorbar\":{\"outlinewidth\":0,\"ticks\":\"\"},\"colorscale\":[[0.0,\"#0d0887\"],[0.1111111111111111,\"#46039f\"],[0.2222222222222222,\"#7201a8\"],[0.3333333333333333,\"#9c179e\"],[0.4444444444444444,\"#bd3786\"],[0.5555555555555556,\"#d8576b\"],[0.6666666666666666,\"#ed7953\"],[0.7777777777777778,\"#fb9f3a\"],[0.8888888888888888,\"#fdca26\"],[1.0,\"#f0f921\"]],\"type\":\"contour\"}],\"contourcarpet\":[{\"colorbar\":{\"outlinewidth\":0,\"ticks\":\"\"},\"type\":\"contourcarpet\"}],\"heatmap\":[{\"colorbar\":{\"outlinewidth\":0,\"ticks\":\"\"},\"colorscale\":[[0.0,\"#0d0887\"],[0.1111111111111111,\"#46039f\"],[0.2222222222222222,\"#7201a8\"],[0.3333333333333333,\"#9c179e\"],[0.4444444444444444,\"#bd3786\"],[0.5555555555555556,\"#d8576b\"],[0.6666666666666666,\"#ed7953\"],[0.7777777777777778,\"#fb9f3a\"],[0.8888888888888888,\"#fdca26\"],[1.0,\"#f0f921\"]],\"type\":\"heatmap\"}],\"heatmapgl\":[{\"colorbar\":{\"outlinewidth\":0,\"ticks\":\"\"},\"colorscale\":[[0.0,\"#0d0887\"],[0.1111111111111111,\"#46039f\"],[0.2222222222222222,\"#7201a8\"],[0.3333333333333333,\"#9c179e\"],[0.4444444444444444,\"#bd3786\"],[0.5555555555555556,\"#d8576b\"],[0.6666666666666666,\"#ed7953\"],[0.7777777777777778,\"#fb9f3a\"],[0.8888888888888888,\"#fdca26\"],[1.0,\"#f0f921\"]],\"type\":\"heatmapgl\"}],\"histogram\":[{\"marker\":{\"pattern\":{\"fillmode\":\"overlay\",\"size\":10,\"solidity\":0.2}},\"type\":\"histogram\"}],\"histogram2d\":[{\"colorbar\":{\"outlinewidth\":0,\"ticks\":\"\"},\"colorscale\":[[0.0,\"#0d0887\"],[0.1111111111111111,\"#46039f\"],[0.2222222222222222,\"#7201a8\"],[0.3333333333333333,\"#9c179e\"],[0.4444444444444444,\"#bd3786\"],[0.5555555555555556,\"#d8576b\"],[0.6666666666666666,\"#ed7953\"],[0.7777777777777778,\"#fb9f3a\"],[0.8888888888888888,\"#fdca26\"],[1.0,\"#f0f921\"]],\"type\":\"histogram2d\"}],\"histogram2dcontour\":[{\"colorbar\":{\"outlinewidth\":0,\"ticks\":\"\"},\"colorscale\":[[0.0,\"#0d0887\"],[0.1111111111111111,\"#46039f\"],[0.2222222222222222,\"#7201a8\"],[0.3333333333333333,\"#9c179e\"],[0.4444444444444444,\"#bd3786\"],[0.5555555555555556,\"#d8576b\"],[0.6666666666666666,\"#ed7953\"],[0.7777777777777778,\"#fb9f3a\"],[0.8888888888888888,\"#fdca26\"],[1.0,\"#f0f921\"]],\"type\":\"histogram2dcontour\"}],\"mesh3d\":[{\"colorbar\":{\"outlinewidth\":0,\"ticks\":\"\"},\"type\":\"mesh3d\"}],\"parcoords\":[{\"line\":{\"colorbar\":{\"outlinewidth\":0,\"ticks\":\"\"}},\"type\":\"parcoords\"}],\"pie\":[{\"automargin\":true,\"type\":\"pie\"}],\"scatter\":[{\"marker\":{\"colorbar\":{\"outlinewidth\":0,\"ticks\":\"\"}},\"type\":\"scatter\"}],\"scatter3d\":[{\"line\":{\"colorbar\":{\"outlinewidth\":0,\"ticks\":\"\"}},\"marker\":{\"colorbar\":{\"outlinewidth\":0,\"ticks\":\"\"}},\"type\":\"scatter3d\"}],\"scattercarpet\":[{\"marker\":{\"colorbar\":{\"outlinewidth\":0,\"ticks\":\"\"}},\"type\":\"scattercarpet\"}],\"scattergeo\":[{\"marker\":{\"colorbar\":{\"outlinewidth\":0,\"ticks\":\"\"}},\"type\":\"scattergeo\"}],\"scattergl\":[{\"marker\":{\"colorbar\":{\"outlinewidth\":0,\"ticks\":\"\"}},\"type\":\"scattergl\"}],\"scattermapbox\":[{\"marker\":{\"colorbar\":{\"outlinewidth\":0,\"ticks\":\"\"}},\"type\":\"scattermapbox\"}],\"scatterpolar\":[{\"marker\":{\"colorbar\":{\"outlinewidth\":0,\"ticks\":\"\"}},\"type\":\"scatterpolar\"}],\"scatterpolargl\":[{\"marker\":{\"colorbar\":{\"outlinewidth\":0,\"ticks\":\"\"}},\"type\":\"scatterpolargl\"}],\"scatterternary\":[{\"marker\":{\"colorbar\":{\"outlinewidth\":0,\"ticks\":\"\"}},\"type\":\"scatterternary\"}],\"surface\":[{\"colorbar\":{\"outlinewidth\":0,\"ticks\":\"\"},\"colorscale\":[[0.0,\"#0d0887\"],[0.1111111111111111,\"#46039f\"],[0.2222222222222222,\"#7201a8\"],[0.3333333333333333,\"#9c179e\"],[0.4444444444444444,\"#bd3786\"],[0.5555555555555556,\"#d8576b\"],[0.6666666666666666,\"#ed7953\"],[0.7777777777777778,\"#fb9f3a\"],[0.8888888888888888,\"#fdca26\"],[1.0,\"#f0f921\"]],\"type\":\"surface\"}],\"table\":[{\"cells\":{\"fill\":{\"color\":\"#EBF0F8\"},\"line\":{\"color\":\"white\"}},\"header\":{\"fill\":{\"color\":\"#C8D4E3\"},\"line\":{\"color\":\"white\"}},\"type\":\"table\"}]},\"layout\":{\"annotationdefaults\":{\"arrowcolor\":\"#2a3f5f\",\"arrowhead\":0,\"arrowwidth\":1},\"autotypenumbers\":\"strict\",\"coloraxis\":{\"colorbar\":{\"outlinewidth\":0,\"ticks\":\"\"}},\"colorscale\":{\"diverging\":[[0,\"#8e0152\"],[0.1,\"#c51b7d\"],[0.2,\"#de77ae\"],[0.3,\"#f1b6da\"],[0.4,\"#fde0ef\"],[0.5,\"#f7f7f7\"],[0.6,\"#e6f5d0\"],[0.7,\"#b8e186\"],[0.8,\"#7fbc41\"],[0.9,\"#4d9221\"],[1,\"#276419\"]],\"sequential\":[[0.0,\"#0d0887\"],[0.1111111111111111,\"#46039f\"],[0.2222222222222222,\"#7201a8\"],[0.3333333333333333,\"#9c179e\"],[0.4444444444444444,\"#bd3786\"],[0.5555555555555556,\"#d8576b\"],[0.6666666666666666,\"#ed7953\"],[0.7777777777777778,\"#fb9f3a\"],[0.8888888888888888,\"#fdca26\"],[1.0,\"#f0f921\"]],\"sequentialminus\":[[0.0,\"#0d0887\"],[0.1111111111111111,\"#46039f\"],[0.2222222222222222,\"#7201a8\"],[0.3333333333333333,\"#9c179e\"],[0.4444444444444444,\"#bd3786\"],[0.5555555555555556,\"#d8576b\"],[0.6666666666666666,\"#ed7953\"],[0.7777777777777778,\"#fb9f3a\"],[0.8888888888888888,\"#fdca26\"],[1.0,\"#f0f921\"]]},\"colorway\":[\"#636efa\",\"#EF553B\",\"#00cc96\",\"#ab63fa\",\"#FFA15A\",\"#19d3f3\",\"#FF6692\",\"#B6E880\",\"#FF97FF\",\"#FECB52\"],\"font\":{\"color\":\"#2a3f5f\"},\"geo\":{\"bgcolor\":\"white\",\"lakecolor\":\"white\",\"landcolor\":\"#E5ECF6\",\"showlakes\":true,\"showland\":true,\"subunitcolor\":\"white\"},\"hoverlabel\":{\"align\":\"left\"},\"hovermode\":\"closest\",\"mapbox\":{\"style\":\"light\"},\"paper_bgcolor\":\"white\",\"plot_bgcolor\":\"#E5ECF6\",\"polar\":{\"angularaxis\":{\"gridcolor\":\"white\",\"linecolor\":\"white\",\"ticks\":\"\"},\"bgcolor\":\"#E5ECF6\",\"radialaxis\":{\"gridcolor\":\"white\",\"linecolor\":\"white\",\"ticks\":\"\"}},\"scene\":{\"xaxis\":{\"backgroundcolor\":\"#E5ECF6\",\"gridcolor\":\"white\",\"gridwidth\":2,\"linecolor\":\"white\",\"showbackground\":true,\"ticks\":\"\",\"zerolinecolor\":\"white\"},\"yaxis\":{\"backgroundcolor\":\"#E5ECF6\",\"gridcolor\":\"white\",\"gridwidth\":2,\"linecolor\":\"white\",\"showbackground\":true,\"ticks\":\"\",\"zerolinecolor\":\"white\"},\"zaxis\":{\"backgroundcolor\":\"#E5ECF6\",\"gridcolor\":\"white\",\"gridwidth\":2,\"linecolor\":\"white\",\"showbackground\":true,\"ticks\":\"\",\"zerolinecolor\":\"white\"}},\"shapedefaults\":{\"line\":{\"color\":\"#2a3f5f\"}},\"ternary\":{\"aaxis\":{\"gridcolor\":\"white\",\"linecolor\":\"white\",\"ticks\":\"\"},\"baxis\":{\"gridcolor\":\"white\",\"linecolor\":\"white\",\"ticks\":\"\"},\"bgcolor\":\"#E5ECF6\",\"caxis\":{\"gridcolor\":\"white\",\"linecolor\":\"white\",\"ticks\":\"\"}},\"title\":{\"x\":0.05},\"xaxis\":{\"automargin\":true,\"gridcolor\":\"white\",\"linecolor\":\"white\",\"ticks\":\"\",\"title\":{\"standoff\":15},\"zerolinecolor\":\"white\",\"zerolinewidth\":2},\"yaxis\":{\"automargin\":true,\"gridcolor\":\"white\",\"linecolor\":\"white\",\"ticks\":\"\",\"title\":{\"standoff\":15},\"zerolinecolor\":\"white\",\"zerolinewidth\":2}}},\"xaxis\":{\"anchor\":\"y\",\"domain\":[0.0,0.45],\"title\":{\"text\":\"Iteration\"}},\"yaxis\":{\"anchor\":\"x\",\"domain\":[0.625,1.0],\"title\":{\"text\":\"Loss\"}},\"xaxis2\":{\"anchor\":\"y2\",\"domain\":[0.55,1.0]},\"yaxis2\":{\"anchor\":\"x2\",\"domain\":[0.625,1.0]},\"xaxis3\":{\"anchor\":\"y3\",\"domain\":[0.0,0.45]},\"yaxis3\":{\"anchor\":\"x3\",\"domain\":[0.0,0.375]},\"xaxis4\":{\"anchor\":\"y4\",\"domain\":[0.55,1.0]},\"yaxis4\":{\"anchor\":\"x4\",\"domain\":[0.0,0.375]},\"annotations\":[{\"font\":{\"size\":16},\"showarrow\":false,\"text\":\"Max-Cut\",\"x\":0.225,\"xanchor\":\"center\",\"xref\":\"paper\",\"y\":1.0,\"yanchor\":\"bottom\",\"yref\":\"paper\"},{\"font\":{\"size\":16},\"showarrow\":false,\"text\":\"Clique\",\"x\":0.775,\"xanchor\":\"center\",\"xref\":\"paper\",\"y\":1.0,\"yanchor\":\"bottom\",\"yref\":\"paper\"},{\"font\":{\"size\":16},\"showarrow\":false,\"text\":\"Binary Linear Programming\",\"x\":0.225,\"xanchor\":\"center\",\"xref\":\"paper\",\"y\":0.375,\"yanchor\":\"bottom\",\"yref\":\"paper\"},{\"font\":{\"size\":16},\"showarrow\":false,\"text\":\"Knapsack\",\"x\":0.775,\"xanchor\":\"center\",\"xref\":\"paper\",\"y\":0.375,\"yanchor\":\"bottom\",\"yref\":\"paper\"}],\"title\":{\"text\":\"Loss Comparison  <br><sup>Fixed the number of parameterized gate (6 gate).</sup>\"},\"autosize\":false,\"width\":1000,\"height\":700},                        {\"responsive\": true}                    ).then(function(){\n",
              "                            \n",
              "var gd = document.getElementById('cafea3f1-4df5-43a4-ab23-3d39b7311249');\n",
              "var x = new MutationObserver(function (mutations, observer) {{\n",
              "        var display = window.getComputedStyle(gd).display;\n",
              "        if (!display || display === 'none') {{\n",
              "            console.log([gd, 'removed!']);\n",
              "            Plotly.purge(gd);\n",
              "            observer.disconnect();\n",
              "        }}\n",
              "}});\n",
              "\n",
              "// Listen for the removal of the full notebook cells\n",
              "var notebookContainer = gd.closest('#notebook-container');\n",
              "if (notebookContainer) {{\n",
              "    x.observe(notebookContainer, {childList: true});\n",
              "}}\n",
              "\n",
              "// Listen for the clearing of the current output cell\n",
              "var outputEl = gd.closest('.output');\n",
              "if (outputEl) {{\n",
              "    x.observe(outputEl, {childList: true});\n",
              "}}\n",
              "\n",
              "                        })                };                            </script>        </div>\n",
              "</body>\n",
              "</html>"
            ]
          },
          "metadata": {}
        }
      ],
      "source": [
        "#@title Loss Comparison \n",
        "#@markdown Fixed the number of parameterized gate (6 gate).\n",
        "from plotly.subplots import make_subplots\n",
        "\n",
        "row = 2\n",
        "col = 2\n",
        "fig = make_subplots(rows=row, cols=col, subplot_titles=(\"Max-Cut\",\"Clique\",\"Binary Linear Programming\", \"Knapsack\"))\n",
        "show = True\n",
        "for i in range(row):\n",
        "  for j in range(col):\n",
        "    problemn = i*col+j\n",
        "    if problemn>0:\n",
        "      show = False\n",
        "    dv = pd.DataFrame({\"Iteration\":range(len(psl[problemn])), \"Loss\":psl[problemn]})\n",
        "    dv_fd = pd.DataFrame({\"Iteration\":range(len(fdl[problemn])), \"Loss\":fdl[problemn]})\n",
        "    dv_lcu = pd.DataFrame({\"Iteration\":range(len(lcul[problemn])), \"Loss\":lcul[problemn]})\n",
        "    dv_qng = pd.DataFrame({\"Iteration\":range(len(qngl[problemn])), \"Loss\":qngl[problemn]})\n",
        "    dv_newton = pd.DataFrame({\"Iteration\":range(len(qnwl[problemn])), \"Loss\":qnwl[problemn]})\n",
        "\n",
        "    # dv_cls = pd.DataFrame({\"Iteration\":range(len(loss_plot_classical)), \"Loss\":loss_plot_classical})\n",
        "\n",
        "    fig.add_trace(go.Scatter(x=dv[\"Iteration\"], y=dv[\"Loss\"], name=\"Discrete Parameter Shift\", line = dict(width=2), line_color='red', showlegend = show), row=i+1, col=j+1)\n",
        "    fig.add_trace(go.Scatter(x=dv_fd[\"Iteration\"], y=dv_fd[\"Loss\"], mode=\"lines\", name=\"Discrete Finite Difference\", line = dict(width=2), line_color='green', showlegend = show), row=i+1, col=j+1)\n",
        "    fig.add_trace(go.Scatter(x=dv_lcu[\"Iteration\"], y=dv_lcu[\"Loss\"], mode=\"lines\", name=\"Discrete LCU\", line = dict(width=2), line_color='yellow', showlegend = show), row=i+1, col=j+1)\n",
        "    fig.add_trace(go.Scatter(x=dv_qng[\"Iteration\"], y=dv_qng[\"Loss\"], mode=\"lines\", name=\"Discrete QNG\", line = dict(width=2), line_color='blue', showlegend = show), row=i+1, col=j+1)\n",
        "    fig.add_trace(go.Scatter(x=dv_newton[\"Iteration\"], y=dv_newton[\"Loss\"], mode=\"lines\", name=\"Discrete Newton Gradient\", line = dict(width=2), line_color='brown', showlegend = show), row=i+1, col=j+1)\n",
        "\n",
        "    # fig.add_trace(go.Scatter(x=dv_cls[\"Iteration\"], y=dv_cls[\"Loss\"], mode=\"lines\", name=\"Classical\"))\n",
        "\n",
        "\n",
        "fig.update_layout(title=\"Loss Comparison  <br><sup>Fixed the number of parameterized gate (6 gate).</sup>\",\n",
        "                  xaxis_title=\"Iteration\",\n",
        "                  yaxis_title=\"Loss\", autosize=False,\n",
        "                  width=1000,\n",
        "                  height=700)\n",
        "\n",
        "plotly.offline.plot(fig, filename='loss_fixgate.html')\n",
        "fig.show()"
      ]
    },
    {
      "cell_type": "code",
      "source": [
        "import pickle\n",
        "\n",
        "with open('sampling_psl.pk', 'wb') as fp:\n",
        "    pickle.dump(psl, fp)\n",
        "with open('sampling_fdl.pk', 'wb') as fp:\n",
        "    pickle.dump(fdl, fp)\n",
        "with open('sampling_lcul.pk', 'wb') as fp:\n",
        "    pickle.dump(lcul, fp)\n",
        "with open('sampling_qngl.pk', 'wb') as fp:\n",
        "    pickle.dump(qngl, fp)\n",
        "with open('sampling_qnwl.pk', 'wb') as fp:\n",
        "    pickle.dump(qnwl, fp)"
      ],
      "metadata": {
        "id": "ceaJboCRwdIr"
      },
      "execution_count": null,
      "outputs": []
    },
    {
      "cell_type": "code",
      "execution_count": null,
      "metadata": {
        "id": "0TCHMfHh9_EG",
        "colab": {
          "base_uri": "https://localhost:8080/",
          "height": 717
        },
        "outputId": "79f94450-4933-4e0f-ade2-c3c3a965afea",
        "cellView": "form"
      },
      "outputs": [
        {
          "output_type": "display_data",
          "data": {
            "text/html": [
              "<html>\n",
              "<head><meta charset=\"utf-8\" /></head>\n",
              "<body>\n",
              "    <div>            <script src=\"https://cdnjs.cloudflare.com/ajax/libs/mathjax/2.7.5/MathJax.js?config=TeX-AMS-MML_SVG\"></script><script type=\"text/javascript\">if (window.MathJax) {MathJax.Hub.Config({SVG: {font: \"STIX-Web\"}});}</script>                <script type=\"text/javascript\">window.PlotlyConfig = {MathJaxConfig: 'local'};</script>\n",
              "        <script src=\"https://cdn.plot.ly/plotly-2.8.3.min.js\"></script>                <div id=\"619c49dc-8c37-4b2c-b8a4-74d281a7ac30\" class=\"plotly-graph-div\" style=\"height:700px; width:1000px;\"></div>            <script type=\"text/javascript\">                                    window.PLOTLYENV=window.PLOTLYENV || {};                                    if (document.getElementById(\"619c49dc-8c37-4b2c-b8a4-74d281a7ac30\")) {                    Plotly.newPlot(                        \"619c49dc-8c37-4b2c-b8a4-74d281a7ac30\",                        [{\"line\":{\"color\":\"red\",\"width\":2},\"name\":\"Discrete Parameter Shift\",\"showlegend\":true,\"x\":[0,1,2,3,4,5,6,7,8,9,10,11,12,13,14,15,16,17,18,19,20,21,22,23,24,25,26,27,28,29,30,31,32,33,34,35,36,37,38,39,40,41,42,43,44,45,46,47,48,49,50,51,52,53,54,55,56,57,58,59,60,61,62,63,64,65,66,67,68,69,70,71,72,73,74,75,76,77,78,79,80,81,82,83,84,85,86,87,88,89,90,91,92,93,94,95,96,97,98,99,100],\"y\":[2.311833620071411,4.6295342445373535,8.959770679473877,13.488920450210571,17.25397825241089,21.309585571289062,26.043621301651,31.460772275924683,35.324355602264404,38.97716164588928,43.041123390197754,46.77021908760071,51.860836029052734,54.23865008354187,56.25315976142883,58.24143981933594,60.15334677696228,62.18458104133606,64.15907883644104,66.30540037155151,68.36162257194519,70.48509788513184,72.62332797050476,74.68102073669434,76.69375967979431,78.63545107841492,80.89312076568604,82.96438193321228,84.97238779067993,86.96664452552795,89.10854744911194,91.07245779037476,93.02865481376648,95.04151391983032,97.04793214797974,99.01695489883423,100.9432463645935,102.8974130153656,104.92996096611023,106.99209976196289,109.09393668174744,111.07393765449524,113.41930937767029,115.56200885772705,117.56942009925842,119.64906167984009,121.79839706420898,124.2945454120636,127.76324415206909,129.77087211608887,131.67585611343384,133.72835564613342,135.59057235717773,137.63072562217712,139.82075905799866,141.86638188362122,143.96683621406555,145.9701371192932,147.90495657920837,150.06301832199097,151.95169734954834,153.9479398727417,155.89543104171753,157.8445930480957,159.89856553077698,161.88369941711426,163.90773510932922,165.98397302627563,168.1379463672638,170.33572483062744,172.62561869621277,174.76552271842957,177.0025646686554,179.1908619403839,181.16463565826416,183.53379487991333,185.58799648284912,187.70358967781067,189.9435522556305,192.01285123825073,194.33690905570984,196.29312348365784,198.42711806297302,200.49189376831055,202.68454837799072,204.9301552772522,207.0417730808258,209.12188982963562,211.1069884300232,213.07061529159546,215.1306574344635,217.3559012413025,219.35573410987854,221.37087416648865,223.36787366867065,225.40405988693237,227.26503324508667,229.35085368156433,231.3992943763733,233.5429723262787,236.41585564613342],\"type\":\"scatter\",\"xaxis\":\"x\",\"yaxis\":\"y\"},{\"line\":{\"color\":\"green\",\"width\":2},\"mode\":\"lines\",\"name\":\"Discrete Finite Difference\",\"showlegend\":true,\"x\":[0,1,2,3,4,5,6,7,8,9,10,11,12,13,14,15,16,17,18,19,20,21,22,23,24,25,26,27,28,29,30,31,32,33,34,35,36,37,38,39,40,41,42,43,44,45,46,47,48,49,50,51,52,53,54,55,56,57,58,59,60,61,62,63,64,65,66,67,68,69,70,71,72,73,74,75,76,77,78,79,80,81,82,83,84,85,86,87,88,89,90,91,92,93,94,95,96,97,98,99,100],\"y\":[1.8083465099334717,3.6299779415130615,5.470930099487305,7.238367557525635,9.194875001907349,11.018128156661987,12.834888219833374,14.66620683670044,16.486131191253662,18.260202884674072,20.03323793411255,21.88675284385681,23.687252521514893,25.521193265914917,27.344991445541382,29.14627242088318,30.962849617004395,32.807095766067505,34.62793254852295,36.43940258026123,38.40645718574524,40.19699740409851,42.04128432273865,43.826802253723145,45.597816705703735,47.46074390411377,49.27149844169617,51.07543134689331,52.86283779144287,54.67341423034668,56.49118947982788,58.325900077819824,60.122222661972046,61.91442561149597,63.73351430892944,65.5431387424469,67.46746802330017,69.29107666015625,71.11059904098511,72.9408688545227,74.7902603149414,76.70961952209473,78.62932109832764,80.46204233169556,82.32789063453674,84.22347283363342,86.07218503952026,87.92596364021301,89.7564435005188,91.61130023002625,93.43012809753418,95.23752474784851,97.20501232147217,99.07012796401978,100.86375832557678,102.69646167755127,104.48631763458252,106.28527593612671,108.10135197639465,109.93812990188599,111.71423506736755,113.51559400558472,115.326012134552,117.11063575744629,118.90163612365723,120.74344396591187,122.59244275093079,124.39605975151062,126.36131525039673,128.1239914894104,129.90512132644653,131.79238629341125,133.63687872886658,135.45033502578735,137.223881483078,139.0430827140808,140.8345549106598,142.62816262245178,144.41925525665283,146.18804240226746,147.97719883918762,149.77698516845703,151.60733366012573,153.41721725463867,155.1915442943573,157.09999561309814,158.84995007514954,160.63514113426208,162.49939155578613,164.32000136375427,166.11368608474731,167.91606283187866,169.71140122413635,171.5336389541626,173.33762669563293,175.12318181991577,176.92988181114197,178.73892903327942,180.55374455451965,182.3653781414032,184.194748878479],\"type\":\"scatter\",\"xaxis\":\"x\",\"yaxis\":\"y\"},{\"line\":{\"color\":\"yellow\",\"width\":2},\"mode\":\"lines\",\"name\":\"Discrete LCU\",\"showlegend\":true,\"x\":[0,1,2,3,4,5,6,7,8,9,10,11,12,13,14,15,16,17,18,19,20,21,22,23,24,25,26,27,28,29,30,31,32,33,34,35,36,37,38,39,40,41,42,43,44,45,46,47,48,49,50,51,52,53,54,55,56,57,58,59,60,61,62,63,64,65,66,67,68,69,70,71,72,73,74,75,76,77,78,79,80,81,82,83,84,85,86,87,88,89,90,91,92,93,94,95,96,97,98,99,100],\"y\":[1.274853229522705,2.521610736846924,3.8649041652679443,5.161972284317017,6.404968023300171,7.6309123039245605,8.923142671585083,10.300756216049194,11.613411664962769,12.840602159500122,14.082671403884888,15.392428398132324,16.69736385345459,18.067548990249634,19.42409086227417,20.72197389602661,22.06232523918152,23.410123586654663,24.696415901184082,26.027697563171387,27.337456703186035,28.73265528678894,30.151648998260498,31.400463819503784,32.67099618911743,33.970946073532104,35.242308139801025,36.5310845375061,37.84235644340515,39.15881657600403,40.577718019485474,41.906739234924316,43.25140309333801,44.58595585823059,45.850279569625854,47.22740697860718,48.63715314865112,49.96126961708069,51.267418384552,52.66381525993347,54.08430027961731,55.48556327819824,56.7667715549469,58.06086230278015,59.33339500427246,60.64416432380676,61.91864562034607,63.249680519104004,64.57697439193726,65.87492203712463,67.17783641815186,68.50677990913391,69.82465958595276,71.10084652900696,72.3667950630188,73.63129544258118,74.9173936843872,76.15946292877197,77.4448184967041,78.67787671089172,79.94479417800903,81.26275873184204,82.55758261680603,83.93072962760925,85.28686213493347,86.55660772323608,87.7975115776062,89.054208278656,90.31349611282349,91.58155250549316,92.93276619911194,94.35448050498962,95.69325137138367,97.09901714324951,98.41987180709839,99.9830002784729,101.51185631752014,102.84463453292847,104.28632521629333,105.61002135276794,107.00604271888733,108.46630859375,109.96186208724976,111.3463294506073,113.02949643135071,114.55772519111633,116.25534534454346,117.66678595542908,119.21299910545349,120.84451937675476,122.29239058494568,123.731760263443,125.33740043640137,126.95865726470947,128.62532114982605,130.30791854858398,131.7875463962555,133.29434752464294,134.68172645568848,136.18523907661438,137.57976293563843],\"type\":\"scatter\",\"xaxis\":\"x\",\"yaxis\":\"y\"},{\"line\":{\"color\":\"blue\",\"width\":2},\"mode\":\"lines\",\"name\":\"Discrete QNG\",\"showlegend\":true,\"x\":[0,1,2,3,4,5,6,7,8,9,10,11,12,13,14,15,16,17,18,19,20,21,22,23,24,25,26,27,28,29,30,31,32,33,34,35,36,37,38,39,40,41,42,43,44,45,46,47,48,49,50,51,52,53,54,55,56,57,58,59,60,61,62,63,64,65,66,67,68,69,70,71,72,73,74,75,76,77,78,79,80,81,82,83,84,85,86,87,88,89,90,91,92,93,94,95,96,97,98,99,100],\"y\":[2.121659994125366,4.231014251708984,6.4257307052612305,8.551493644714355,10.703715562820435,12.835680484771729,14.972110748291016,17.158602237701416,19.27112054824829,21.61612319946289,23.762502908706665,26.046056509017944,28.143353700637817,30.24113178253174,32.355162382125854,34.46049189567566,36.64537239074707,38.786643743515015,41.02371621131897,43.192622423172,45.28448939323425,47.40744757652283,49.52526926994324,51.662338733673096,54.1044864654541,56.31803846359253,58.418477058410645,60.52691864967346,62.60459041595459,64.67799782752991,66.8442792892456,70.28464412689209,72.37273383140564,74.3882794380188,76.4924328327179,78.54493951797485,80.61064958572388,82.6514949798584,84.74313187599182,87.00892543792725,89.07015347480774,91.17430830001831,93.19942331314087,95.2868537902832,97.44598650932312,99.49532794952393,101.64444184303284,103.69143676757812,105.76372861862183,107.81995177268982,109.86177158355713,111.88276886940002,114.01278638839722,116.14289689064026,118.32243061065674,120.38898348808289,122.45357036590576,124.47941708564758,126.58872866630554,128.76833295822144,130.8555064201355,132.93143606185913,135.06026768684387,137.15301299095154,139.22453570365906,141.33349895477295,143.41379499435425,145.58274602890015,147.66977190971375,149.89486956596375,151.90995168685913,153.97159552574158,156.04629063606262,158.09079432487488,160.1757481098175,162.1917073726654,164.1945424079895,166.2045075893402,168.23516988754272,170.29695463180542,172.35339617729187,174.33461046218872,176.4379916191101,178.4473431110382,180.49201607704163,182.65799498558044,184.68265008926392,186.8112142086029,188.87461256980896,191.0679223537445,193.10580825805664,195.2023904323578,197.25819540023804,199.30944514274597,201.37754726409912,203.4737732410431,205.54416584968567,207.6327886581421,209.6260118484497,211.75570583343506,213.9680781364441],\"type\":\"scatter\",\"xaxis\":\"x\",\"yaxis\":\"y\"},{\"line\":{\"color\":\"brown\",\"width\":2},\"mode\":\"lines\",\"name\":\"Discrete Newton Method\",\"showlegend\":true,\"x\":[0,1,2,3,4,5,6,7,8,9,10,11,12,13,14,15,16,17,18,19,20,21,22,23,24,25,26,27,28,29,30,31,32,33,34,35,36,37,38,39,40,41,42,43,44,45,46,47,48,49,50,51,52,53,54,55,56,57,58,59,60,61,62,63,64,65,66,67,68,69,70,71,72,73,74,75,76,77,78,79,80,81,82,83,84,85,86,87,88,89,90,91,92,93,94,95,96,97,98,99,100],\"y\":[2.8599298000335693,5.721979856491089,8.613663673400879,11.341627836227417,14.250071287155151,17.1797833442688,19.899579524993896,22.48485279083252,25.24066662788391,27.789283514022827,30.356096267700195,32.92383861541748,35.6271014213562,38.14673137664795,40.70904588699341,43.32727551460266,46.14277410507202,48.751932859420776,51.362085580825806,53.94086146354675,56.67196822166443,59.26023602485657,61.85715842247009,64.64059162139893,67.2587661743164,69.87715816497803,72.45162463188171,75.23537015914917,77.80365920066833,80.34842991828918,82.9206371307373,85.61456990242004,88.24182462692261,90.80906414985657,93.52694797515869,96.09766292572021,98.6680588722229,101.24562573432922,104.01089358329773,106.54497694969177,109.1331205368042,111.67590188980103,114.45194101333618,117.01035284996033,119.58211827278137,122.2825779914856,124.83314347267151,127.37861776351929,129.98742055892944,132.73304295539856,135.31186985969543,137.90747380256653,140.51989364624023,143.27642178535461,145.8221788406372,148.3870816230774,150.94037652015686,153.62183260917664,156.11768770217896,158.66808128356934,161.3725848197937,163.93199396133423,166.50539922714233,169.06279635429382,171.89654994010925,174.45261478424072,177.0164816379547,179.76751446723938,182.37239408493042,184.94904088974,187.52949595451355,190.30923342704773,192.94855952262878,195.50934505462646,198.09196877479553,200.82397031784058,203.36030173301697,205.87513995170593,208.42671179771423,211.2235391139984,213.78521943092346,216.3323905467987,219.06106162071228,221.61082649230957,224.18388724327087,226.74211859703064,229.52172899246216,232.1328432559967,234.67758798599243,237.3207142353058,240.09798407554626,242.71318888664246,245.30143213272095,247.92281222343445,250.72868609428406,253.39704012870789,256.0507707595825,258.63510727882385,261.3593351840973,263.88413190841675,266.40324115753174],\"type\":\"scatter\",\"xaxis\":\"x\",\"yaxis\":\"y\"},{\"line\":{\"color\":\"red\",\"width\":2},\"name\":\"Discrete Parameter Shift\",\"showlegend\":false,\"x\":[0,1,2,3,4,5,6,7,8,9,10,11,12,13,14,15,16,17,18,19,20,21,22,23,24,25,26,27,28,29,30,31,32,33,34,35,36,37,38,39,40,41,42,43,44,45,46,47,48,49,50,51,52,53,54,55,56,57,58,59,60,61,62,63,64,65,66,67,68,69,70,71,72,73,74,75,76,77,78,79,80,81,82,83,84,85,86,87,88,89,90,91,92,93,94,95,96,97,98,99,100],\"y\":[2.362128496170044,4.727125883102417,7.133303880691528,9.70731496810913,12.119483947753906,14.41578984260559,16.66829013824463,18.82389187812805,20.90489101409912,23.04007840156555,25.16774892807007,27.317148208618164,29.461119413375854,31.562604665756226,33.703810930252075,35.82118630409241,37.960440158843994,40.3331241607666,42.470288038253784,44.662368059158325,46.78047442436218,48.98635172843933,51.13642954826355,53.230684757232666,55.346709966659546,57.5246946811676,59.691168546676636,61.74363589286804,63.84358620643616,65.95035481452942,68.3724193572998,72.97064971923828,77.8784236907959,82.20034456253052,87.60381317138672,92.62332940101624,94.6962673664093,96.82343602180481,98.8852002620697,100.94604229927063,103.02684235572815,105.11633825302124,107.16660261154175,109.27740120887756,111.35541677474976,113.45317840576172,115.53775429725647,117.62019467353821,119.72521448135376,121.80696415901184,123.90537881851196,126.01407051086426,128.1124246120453,130.3348696231842,132.39793825149536,134.44869112968445,136.53564262390137,138.65973949432373,140.71553349494934,142.77588987350464,144.87945890426636,146.96575593948364,149.13975644111633,151.21506929397583,153.31928610801697,155.38464283943176,157.42585372924805,159.49834942817688,161.5759732723236,163.66052675247192,165.73461294174194,168.01895713806152,170.18059253692627,172.31904101371765,174.45763301849365,176.56808161735535,178.62991452217102,180.69308590888977,183.38585138320923,185.4608280658722,187.53231000900269,189.67072248458862,193.00236678123474,195.1379714012146,197.26664566993713,199.41598176956177,201.53672647476196,203.6086869239807,205.75351691246033,208.19092416763306,210.32330465316772,212.42572927474976,214.53072834014893,216.61390280723572,218.76318168640137,220.93844509124756,223.150963306427,225.28541231155396,227.42040610313416,229.54580235481262,231.66042804718018],\"type\":\"scatter\",\"xaxis\":\"x2\",\"yaxis\":\"y2\"},{\"line\":{\"color\":\"green\",\"width\":2},\"mode\":\"lines\",\"name\":\"Discrete Finite Difference\",\"showlegend\":false,\"x\":[0,1,2,3,4,5,6,7,8,9,10,11,12,13,14,15,16,17,18,19,20,21,22,23,24,25,26,27,28,29,30,31,32,33,34,35,36,37,38,39,40,41,42,43,44,45,46,47,48,49,50,51,52,53,54,55,56,57,58,59,60,61,62,63,64,65,66,67,68,69,70,71,72,73,74,75,76,77,78,79,80,81,82,83,84,85,86,87,88,89,90,91,92,93,94,95,96,97,98,99,100],\"y\":[2.100641965866089,4.227704763412476,6.399205684661865,8.481199979782104,10.51741099357605,12.646833419799805,14.803753137588501,16.910617113113403,19.183340072631836,21.27226972579956,23.36283302307129,25.47334122657776,27.652344703674316,29.798628091812134,31.91995120048523,34.06275510787964,36.20660972595215,38.27816390991211,40.37722182273865,42.48027062416077,44.543604373931885,46.64199161529541,48.70323061943054,50.84182643890381,52.898831367492676,54.94251322746277,57.21510052680969,59.31818079948425,61.392016649246216,63.438552141189575,65.50551295280457,67.51344776153564,69.56683540344238,71.63228511810303,73.66966438293457,75.74237704277039,77.78166270256042,79.86866521835327,81.91614532470703,83.99486970901489,86.0859169960022,88.14975810050964,90.23951292037964,92.27652287483215,94.45840644836426,96.5211877822876,98.53760433197021,100.62386441230774,102.64586615562439,104.72268009185791,106.77922010421753,108.8382511138916,110.9370687007904,113.03695130348206,115.13356614112854,117.18218231201172,119.2624819278717,121.35681390762329,123.47855520248413,125.54940271377563,127.61625862121582,129.75423669815063,131.86357522010803,134.1218032836914,136.21139693260193,138.29314827919006,140.37899684906006,142.44587874412537,144.65758991241455,146.7595043182373,148.84370756149292,150.9732003211975,153.0852756500244,155.2028169631958,157.33470034599304,159.46098804473877,161.5849006175995,163.65197205543518,165.71091890335083,167.81395435333252,170.0404589176178,172.14109253883362,174.24243927001953,176.34976887702942,178.37452173233032,180.45124340057373,182.51766848564148,184.6234428882599,186.71105766296387,188.76715922355652,190.87824082374573,192.96661639213562,195.01262164115906,197.09488153457642,199.21993803977966,201.33387446403503,203.36333060264587,205.501136302948,207.83301854133606,209.93080043792725,212.04446697235107],\"type\":\"scatter\",\"xaxis\":\"x2\",\"yaxis\":\"y2\"},{\"line\":{\"color\":\"yellow\",\"width\":2},\"mode\":\"lines\",\"name\":\"Discrete LCU\",\"showlegend\":false,\"x\":[0,1,2,3,4,5,6,7,8,9,10,11,12,13,14,15,16,17,18,19,20,21,22,23,24,25,26,27,28,29,30,31,32,33,34,35,36,37,38,39,40,41,42,43,44,45,46,47,48,49,50,51,52,53,54,55,56,57,58,59,60,61,62,63,64,65,66,67,68,69,70,71,72,73,74,75,76,77,78,79,80,81,82,83,84,85,86,87,88,89,90,91,92,93,94,95,96,97,98,99,100],\"y\":[1.482492208480835,2.8937628269195557,4.376564264297485,5.916841506958008,7.393379211425781,8.96302580833435,10.465152740478516,12.001152276992798,13.713577508926392,15.391298532485962,16.958500862121582,18.53740954399109,20.1110782623291,21.698123455047607,23.307314157485962,24.920608282089233,26.528910875320435,28.226130485534668,29.926620960235596,31.592724800109863,33.24996328353882,34.89685773849487,36.49497842788696,38.057767152786255,39.60462951660156,41.14484786987305,42.73202037811279,44.262516498565674,45.89503479003906,47.37892985343933,48.956681966781616,50.51014423370361,52.09550714492798,53.51193881034851,55.03745222091675,56.525047063827515,58.021878719329834,59.661593198776245,61.21771264076233,62.749459743499756,64.26620697975159,65.87017273902893,67.41800093650818,68.95533156394958,70.46354675292969,71.98148608207703,73.59335994720459,75.1799669265747,76.66111779212952,78.16296935081482,79.63043928146362,81.2130663394928,82.66673183441162,84.16285347938538,85.6878833770752,87.18965148925781,88.62290954589844,90.19929885864258,91.82787370681763,93.38379955291748,94.87232708930969,96.39711236953735,97.95987200737,99.53218793869019,101.06745958328247,102.53629112243652,104.06583833694458,105.58601236343384,107.14620637893677,108.69861316680908,110.23090076446533,111.74091219902039,113.26598572731018,114.88897824287415,116.49310731887817,118.13234186172485,119.85769701004028,121.47768974304199,123.16209292411804,124.75805902481079,126.41127324104309,127.94018816947937,129.53100872039795,131.10785460472107,132.80438590049744,134.3853726387024,135.96581721305847,137.51875138282776,139.03980350494385,140.5650086402893,142.26839923858643,143.88943696022034,145.44235372543335,146.9832262992859,148.46602201461792,149.99839663505554,151.50873970985413,153.01745176315308,154.50525641441345,155.96846747398376,157.52515244483948],\"type\":\"scatter\",\"xaxis\":\"x2\",\"yaxis\":\"y2\"},{\"line\":{\"color\":\"blue\",\"width\":2},\"mode\":\"lines\",\"name\":\"Discrete QNG\",\"showlegend\":false,\"x\":[0,1,2,3,4,5,6,7,8,9,10,11,12,13,14,15,16,17,18,19,20,21,22,23,24,25,26,27,28,29,30,31,32,33,34,35,36,37,38,39,40,41,42,43,44,45,46,47,48,49,50,51,52,53,54,55,56,57,58,59,60,61,62,63,64,65,66,67,68,69,70,71,72,73,74,75,76,77,78,79,80,81,82,83,84,85,86,87,88,89,90,91,92,93,94,95,96,97,98,99,100],\"y\":[2.2572085857391357,4.591068983078003,6.903652906417847,9.152922868728638,11.421164751052856,13.685084581375122,15.922146081924438,18.14825463294983,20.552762746810913,22.78576350212097,25.118874311447144,27.387662410736084,29.65329885482788,31.874663829803467,34.209776639938354,36.42268705368042,38.69435739517212,40.990832805633545,43.28080177307129,45.576507329940796,47.823283195495605,50.12210035324097,52.37940502166748,54.603224992752075,56.96714186668396,59.217636585235596,61.44807004928589,63.68694233894348,65.94115424156189,68.2505316734314,70.48292803764343,72.76799750328064,75.03540468215942,77.32093048095703,79.57043766975403,81.8356351852417,84.0657012462616,86.31724977493286,88.57600164413452,90.82936716079712,93.12656593322754,95.51601552963257,97.84491848945618,100.05118131637573,102.30598020553589,104.52861070632935,106.74031591415405,109.02689361572266,111.24106955528259,113.44684743881226,115.66760516166687,117.91543483734131,120.24597239494324,122.49114680290222,124.72906398773193,126.96254348754883,129.22837615013123,131.51791787147522,133.89918780326843,136.18906021118164,138.48174571990967,140.73668479919434,143.01043391227722,145.30893445014954,147.54762053489685,149.80230498313904,151.9999680519104,154.28656458854675,156.51068210601807,158.77970385551453,161.07863473892212,163.34019231796265,165.56198859214783,167.77898263931274,170.0690906047821,172.49275588989258,174.7634973526001,177.0289430618286,179.34583401679993,181.62651991844177,183.90742564201355,186.16333150863647,188.42701840400696,190.62877893447876,192.87540745735168,195.1238842010498,197.37835597991943,199.59829902648926,201.86229538917542,204.11824989318848,206.3752737045288,208.79958033561707,211.09544563293457,213.34004616737366,215.5392303466797,218.10477352142334,220.3357071876526,222.59030294418335,224.8527090549469,227.12154936790466,229.40746521949768],\"type\":\"scatter\",\"xaxis\":\"x2\",\"yaxis\":\"y2\"},{\"line\":{\"color\":\"brown\",\"width\":2},\"mode\":\"lines\",\"name\":\"Discrete Newton Method\",\"showlegend\":false,\"x\":[0,1,2,3,4,5,6,7,8,9,10,11,12,13,14,15,16,17,18,19,20,21,22,23,24,25,26,27,28,29,30,31,32,33,34,35,36,37,38,39,40,41,42,43,44,45,46,47,48,49,50,51,52,53,54,55,56,57,58,59,60,61,62,63,64,65,66,67,68,69,70,71,72,73,74,75,76,77,78,79,80,81,82,83,84,85,86,87,88,89,90,91,92,93,94,95,96,97,98,99,100],\"y\":[3.1181910037994385,6.067490100860596,8.992958784103394,12.014798641204834,14.83815622329712,17.674877166748047,20.534301280975342,23.522512674331665,26.362202882766724,29.2309250831604,32.18389868736267,35.255850076675415,38.14892220497131,41.10366225242615,44.05200219154358,47.0251829624176,49.97434854507446,52.82761573791504,55.718425035476685,58.847352743148804,61.667402267456055,64.48770999908447,67.5181953907013,70.38867235183716,73.30644130706787,76.16672873497009,79.01627707481384,82.04996347427368,84.86382412910461,87.69152045249939,90.51898860931396,93.59257483482361,96.45972537994385,99.33044362068176,102.39839434623718,105.22358918190002,108.16210889816284,111.10544109344482,114.34493112564087,117.31931781768799,120.20172071456909,123.51539778709412,127.14908027648926,130.30706334114075,133.3015820980072,136.25478196144104,139.3589060306549,142.23306584358215,145.12349271774292,147.9619162082672,151.04386591911316,153.89300990104675,156.94000387191772,159.84947800636292,162.9439468383789,165.82973766326904,168.697003364563,171.65096855163574,174.6930377483368,177.6196949481964,180.5322780609131,183.42545652389526,186.46850872039795,189.3554584980011,192.22707056999207,195.14248061180115,198.2372019290924,201.12221670150757,204.01898646354675,206.91117358207703,209.96230959892273,212.78917026519775,215.6996991634369,218.65294313430786,221.81601333618164,224.6188771724701,227.51877403259277,230.3903636932373,233.50662684440613,236.39876866340637,239.23818612098694,242.18094158172607,245.2441761493683,248.127295255661,251.00728106498718,253.89949798583984,257.04777479171753,260.06683325767517,262.9213910102844,265.9631474018097,268.90983271598816,271.958181142807,274.85595297813416,278.0341522693634,280.9126806259155,283.90292382240295,286.76826548576355,289.87856674194336,292.75238704681396,295.6634831428528,298.599408864975],\"type\":\"scatter\",\"xaxis\":\"x2\",\"yaxis\":\"y2\"},{\"line\":{\"color\":\"red\",\"width\":2},\"name\":\"Discrete Parameter Shift\",\"showlegend\":false,\"x\":[0,1,2,3,4,5,6,7,8,9,10,11,12,13,14,15,16,17,18,19,20,21,22,23,24,25,26,27,28,29,30,31,32,33,34,35,36,37,38,39,40,41,42,43,44,45,46,47,48,49,50,51,52,53,54,55,56,57,58,59,60,61,62,63,64,65,66,67,68,69,70,71,72,73,74,75,76,77,78,79,80,81,82,83,84,85,86,87,88,89,90,91,92,93,94,95,96,97,98,99,100],\"y\":[2.1402902603149414,4.284855842590332,6.377011299133301,8.466540813446045,10.504630327224731,12.572304487228394,14.670721054077148,16.73310899734497,18.776620864868164,20.841026782989502,22.896364212036133,24.972927808761597,27.090806484222412,29.17690420150757,31.38629913330078,33.4284884929657,35.48112440109253,37.554444551467896,39.58833146095276,41.64205265045166,43.67798113822937,45.71348190307617,47.811171531677246,49.8807647228241,51.975757360458374,54.042604207992554,56.15109968185425,58.195406436920166,60.38079118728638,62.433337688446045,64.5223228931427,66.64995741844177,68.88327050209045,70.97774600982666,73.03032493591309,75.12008452415466,77.17213726043701,79.21629667282104,81.27150273323059,83.31613445281982,85.41945171356201,87.49110627174377,89.61199641227722,91.72624373435974,93.77885818481445,95.82664966583252,97.89167213439941,100.00499224662781,102.09608888626099,104.19000506401062,106.39016342163086,108.47372674942017,110.58480215072632,112.67898774147034,114.73241662979126,116.83847212791443,118.89588975906372,120.97952485084534,123.07084107398987,125.14796042442322,127.31028747558594,129.36900281906128,131.492342710495,133.5845251083374,135.65926575660706,137.71976518630981,139.80151391029358,141.94035148620605,144.18062949180603,146.28636193275452,148.43153381347656,150.50890398025513,152.65156483650208,154.7381181716919,156.80802178382874,158.89967131614685,160.96957874298096,163.02232313156128,165.09045696258545,167.26761651039124,169.3972692489624,171.50090885162354,173.61101531982422,175.75885248184204,177.8410291671753,179.90411353111267,182.19854283332825,184.3047170639038,186.4650592803955,188.58645939826965,190.68718004226685,192.78451466560364,194.89275074005127,196.9529092311859,199.02034544944763,201.10712122917175,203.21776628494263,205.27697086334229,207.3603823184967,209.47708415985107,211.6251859664917],\"type\":\"scatter\",\"xaxis\":\"x3\",\"yaxis\":\"y3\"},{\"line\":{\"color\":\"green\",\"width\":2},\"mode\":\"lines\",\"name\":\"Discrete Finite Difference\",\"showlegend\":false,\"x\":[0,1,2,3,4,5,6,7,8,9,10,11,12,13,14,15,16,17,18,19,20,21,22,23,24,25,26,27,28,29,30,31,32,33,34,35,36,37,38,39,40,41,42,43,44,45,46,47,48,49,50,51,52,53,54,55,56,57,58,59,60,61,62,63,64,65,66,67,68,69,70,71,72,73,74,75,76,77,78,79,80,81,82,83,84,85,86,87,88,89,90,91,92,93,94,95,96,97,98,99,100],\"y\":[2.29974365234375,4.429782390594482,6.516932010650635,8.595762491226196,10.727473020553589,12.800997495651245,14.923480987548828,17.090067863464355,19.267901182174683,21.348519325256348,23.441588163375854,25.50302219390869,27.647846221923828,29.72880721092224,31.806488275527954,33.89447903633118,36.19073724746704,38.25357508659363,40.489980936050415,42.596760511398315,44.687859535217285,46.77737498283386,48.87694525718689,50.97915244102478,53.03867530822754,55.11241626739502,57.24176645278931,59.33969759941101,61.423033237457275,63.42481064796448,65.4619607925415,67.5622296333313,69.67392373085022,71.73636865615845,73.83418464660645,75.84554171562195,78.09417915344238,80.1888735294342,82.30150890350342,84.40186548233032,86.43344974517822,88.53260278701782,90.58580899238586,92.70291423797607,94.77037787437439,96.84568691253662,99.11422038078308,101.49668455123901,103.9672462940216,106.6016743183136,108.70094609260559,110.7551908493042,112.84053754806519,114.87984275817871,117.09385919570923,119.20743203163147,121.28153467178345,123.38688111305237,125.46073317527771,127.51882338523865,129.5889437198639,131.6726586818695,133.8150782585144,135.83618879318237,137.94095063209534,139.98634266853333,142.07486081123352,144.1319932937622,146.23021936416626,148.29605412483215,150.36142826080322,152.41280269622803,154.63658046722412,156.65987396240234,158.79539012908936,160.8594789505005,162.9105360507965,164.98628115653992,167.10160851478577,169.21721982955933,171.3051619529724,173.36376237869263,175.45402669906616,177.48135614395142,179.54376029968262,181.62118983268738,183.66687440872192,185.75120663642883,187.8195538520813,190.043475151062,192.06143403053284,194.11307382583618,196.1522204875946,198.2290554046631,200.29641008377075,202.32386541366577,204.42325448989868,206.48350191116333,208.57416558265686,210.64261317253113,212.72906351089478],\"type\":\"scatter\",\"xaxis\":\"x3\",\"yaxis\":\"y3\"},{\"line\":{\"color\":\"yellow\",\"width\":2},\"mode\":\"lines\",\"name\":\"Discrete LCU\",\"showlegend\":false,\"x\":[0,1,2,3,4,5,6,7,8,9,10,11,12,13,14,15,16,17,18,19,20,21,22,23,24,25,26,27,28,29,30,31,32,33,34,35,36,37,38,39,40,41,42,43,44,45,46,47,48,49,50,51,52,53,54,55,56,57,58,59,60,61,62,63,64,65,66,67,68,69,70,71,72,73,74,75,76,77,78,79,80,81,82,83,84,85,86,87,88,89,90,91,92,93,94,95,96,97,98,99,100],\"y\":[1.591646432876587,3.196425676345825,4.866864204406738,6.416162967681885,8.017588376998901,9.574106454849243,11.358599424362183,12.930545568466187,14.649685144424438,16.419825077056885,18.221940755844116,20.089833736419678,22.157057523727417,24.107652187347412,25.972463846206665,27.704326629638672,29.446232318878174,31.528003215789795,33.29192042350769,35.23389673233032,37.34897589683533,39.22012901306152,41.089547872543335,42.91730618476868,44.90549111366272,46.716803312301636,48.60630798339844,50.33621692657471,52.12797689437866,54.235079765319824,56.54379606246948,58.12700033187866,59.88094639778137,61.5532112121582,63.24897623062134,65.08446979522705,66.7278196811676,68.40855741500854,70.11144065856934,71.79026103019714,73.34450268745422,75.01811718940735,76.74098873138428,78.5572714805603,80.45808792114258,82.04860305786133,83.62543606758118,85.38349866867065,86.9576575756073,88.55946373939514,90.1126561164856,91.72991394996643,93.3607873916626,94.98508977890015,96.59502148628235,98.15703749656677,99.67008948326111,101.26273345947266,102.82321095466614,104.37021613121033,106.11557817459106,107.76341128349304,109.38792490959167,111.08989953994751,112.75830554962158,114.40912580490112,116.19271731376648,117.77708649635315,119.41495776176453,121.12867593765259,122.83065700531006,124.5276529788971,126.33089709281921,128.0989010334015,129.76963543891907,131.38861966133118,132.86535620689392,134.5291121006012,136.1859576702118,137.82326555252075,139.43721079826355,141.059796333313,142.6248025894165,144.2802038192749,145.9505398273468,147.51970052719116,149.04744386672974,150.71909546852112,152.23508167266846,153.79112315177917,155.375075340271,156.93123722076416,158.48814296722412,160.11836767196655,161.64238214492798,163.21033310890198,164.90020418167114,166.71938037872314,168.2296576499939,169.88654088974,171.44406652450562],\"type\":\"scatter\",\"xaxis\":\"x3\",\"yaxis\":\"y3\"},{\"line\":{\"color\":\"blue\",\"width\":2},\"mode\":\"lines\",\"name\":\"Discrete QNG\",\"showlegend\":false,\"x\":[0,1,2,3,4,5,6,7,8,9,10,11,12,13,14,15,16,17,18,19,20,21,22,23,24,25,26,27,28,29,30,31,32,33,34,35,36,37,38,39,40,41,42,43,44,45,46,47,48,49,50,51,52,53,54,55,56,57,58,59,60,61,62,63,64,65,66,67,68,69,70,71,72,73,74,75,76,77,78,79,80,81,82,83,84,85,86,87,88,89,90,91,92,93,94,95,96,97,98,99,100],\"y\":[2.282989025115967,4.537441730499268,6.767587423324585,8.990867376327515,11.280526876449585,13.56799840927124,15.773681879043579,18.017725944519043,20.292705297470093,22.554924726486206,24.805403232574463,27.246633768081665,29.528112173080444,31.813369035720825,34.10729146003723,36.404468297958374,38.69698119163513,40.98293161392212,43.2374005317688,45.539780616760254,47.87505125999451,50.184139013290405,52.46430206298828,54.78225636482239,57.089805603027344,59.34015250205994,61.598488330841064,63.87392997741699,66.30223250389099,68.56262373924255,70.83906030654907,73.04961490631104,75.25140285491943,77.54148578643799,79.80718660354614,82.08453893661499,84.3254280090332,86.60687923431396,88.84177660942078,91.11407518386841,93.35688829421997,95.6245470046997,97.85097599029541,100.09168553352356,102.56696391105652,104.80917429924011,107.06926488876343,109.3279538154602,111.55101251602173,113.78912734985352,116.02087354660034,118.32379674911499,120.54045915603638,122.75504469871521,124.96654653549194,127.20155382156372,129.50836038589478,131.76226687431335,134.00285863876343,136.2298674583435,138.4754343032837,140.8783733844757,143.0844509601593,145.30134987831116,147.59761595726013,149.86957573890686,152.1561360359192,154.42129969596863,156.65562105178833,158.93700575828552,161.21765518188477,163.48991775512695,165.75058150291443,167.98647618293762,170.25022673606873,172.5501992702484,174.7796139717102,177.10798740386963,179.34910917282104,181.60414743423462,183.8521282672882,186.10355639457703,188.40832948684692,190.71078610420227,192.98487424850464,195.32401823997498,197.57250308990479,199.8539321422577,202.12031888961792,204.34063076972961,206.94906544685364,209.23762917518616,211.49343824386597,213.78842997550964,216.18857669830322,218.49055314064026,220.78085446357727,223.06599354743958,225.33776926994324,227.6553933620453,229.91263794898987],\"type\":\"scatter\",\"xaxis\":\"x3\",\"yaxis\":\"y3\"},{\"line\":{\"color\":\"brown\",\"width\":2},\"mode\":\"lines\",\"name\":\"Discrete Newton Method\",\"showlegend\":false,\"x\":[0,1,2,3,4,5,6,7,8,9,10,11,12,13,14,15,16,17,18,19,20,21,22,23,24,25,26,27,28,29,30,31,32,33,34,35,36,37,38,39,40,41,42,43,44,45,46,47,48,49,50,51,52,53,54,55,56,57,58,59,60,61,62,63,64,65,66,67,68,69,70,71,72,73,74,75,76,77,78,79,80,81,82,83,84,85,86,87,88,89,90,91,92,93,94,95,96,97,98,99,100],\"y\":[3.038538932800293,5.977823495864868,8.813164949417114,11.821503400802612,14.646704196929932,17.51135516166687,20.37548279762268,23.372750997543335,26.263893604278564,29.116534948349,31.955615758895874,35.00607228279114,37.87425351142883,40.7328667640686,43.57805943489075,46.58293557167053,49.371362924575806,52.2111029624939,55.06203007698059,58.09161567687988,60.93769693374634,63.826420545578,66.68260264396667,69.73351860046387,72.58676052093506,75.43784213066101,78.53224611282349,81.33728837966919,84.22038626670837,86.99432110786438,90.05703663825989,92.86523056030273,95.70103716850281,98.54326152801514,101.56090211868286,104.36881637573242,107.20924544334412,110.0533812046051,113.1034562587738,115.9021508693695,118.76391196250916,121.61377692222595,124.61703300476074,127.47796130180359,130.34375715255737,133.20218801498413,136.19344282150269,139.07065057754517,141.9077672958374,144.89678692817688,147.6967580318451,150.56954622268677,153.36249017715454,156.35786390304565,159.2004692554474,162.04230117797852,164.88092017173767,167.8417568206787,170.67724514007568,173.54370307922363,176.3400547504425,179.30095720291138,182.17201447486877,185.07953238487244,187.90334129333496,190.93143558502197,193.8343060016632,196.65446639060974,199.46714520454407,202.50994992256165,205.3082365989685,208.14798545837402,210.93318247795105,213.9245800971985,216.71825075149536,219.5768527984619,222.41075015068054,225.4752812385559,228.23645281791687,231.01829314231873,233.99091911315918,236.90076565742493,239.7022304534912,242.54432845115662,245.55816388130188,248.3732626438141,251.213134765625,254.13351392745972,257.1686313152313,259.96284794807434,262.829163312912,265.634393453598,268.6099247932434,271.4161157608032,274.2202432155609,277.29082679748535,280.07900190353394,282.87292981147766,285.7073919773102,288.7128999233246,291.55338311195374],\"type\":\"scatter\",\"xaxis\":\"x3\",\"yaxis\":\"y3\"},{\"line\":{\"color\":\"red\",\"width\":2},\"name\":\"Discrete Parameter Shift\",\"showlegend\":false,\"x\":[0,1,2,3,4,5,6,7,8,9,10,11,12,13,14,15,16,17,18,19,20,21,22,23,24,25,26,27,28,29,30,31,32,33,34,35,36,37,38,39,40,41,42,43,44,45,46,47,48,49,50,51,52,53,54,55,56,57,58,59,60,61,62,63,64,65,66,67,68,69,70,71,72,73,74,75,76,77,78,79,80,81,82,83,84,85,86,87,88,89,90,91,92,93,94,95,96,97,98,99,100],\"y\":[2.7598178386688232,5.477828025817871,8.208140850067139,10.91458010673523,13.668049335479736,16.40116024017334,19.266906261444092,21.948899745941162,24.67367124557495,27.450135469436646,30.241600513458252,32.96624255180359,35.683151960372925,38.431323528289795,41.22205328941345,43.9943060874939,46.7572717666626,49.56911659240723,52.26541519165039,55.07340431213379,57.85671091079712,60.76315498352051,63.44269371032715,66.19866299629211,68.90790462493896,71.5817198753357,74.30698561668396,77.02016353607178,79.80376291275024,82.5893964767456,85.26911473274231,87.97087907791138,90.73105955123901,93.37935638427734,96.03244304656982,98.7861020565033,101.5120370388031,104.37415742874146,107.08319425582886,109.77691435813904,112.5101912021637,115.25848889350891,117.96761679649353,120.7604591846466,123.49928951263428,126.18275189399719,128.92106556892395,131.6532871723175,134.3960154056549,137.05416178703308,139.7819368839264,142.50754570960999,145.31789660453796,148.05035519599915,150.77543926239014,153.4421079158783,156.10620737075806,158.8581817150116,161.59198331832886,164.298419713974,167.03460121154785,169.78669714927673,172.43863606452942,175.13469004631042,177.8578109741211,180.60259914398193,183.32311868667603,185.94081568717957,188.82334923744202,191.5470883846283,194.39183616638184,197.19038724899292,199.87990474700928,202.60988688468933,205.33586311340332,208.03455781936646,210.79885578155518,213.5860776901245,216.27424693107605,219.03776264190674,221.81564283370972,224.7037811279297,227.5058970451355,230.39968729019165,233.0332589149475,235.76454067230225,238.49123120307922,241.20887637138367,243.95481705665588,246.71457433700562,249.44205927848816,252.15081024169922,254.8642909526825,257.6210391521454,260.3144111633301,263.0300245285034,265.81853914260864,268.5560486316681,271.239953994751,274.06578063964844,276.7989890575409],\"type\":\"scatter\",\"xaxis\":\"x4\",\"yaxis\":\"y4\"},{\"line\":{\"color\":\"green\",\"width\":2},\"mode\":\"lines\",\"name\":\"Discrete Finite Difference\",\"showlegend\":false,\"x\":[0,1,2,3,4,5,6,7,8,9,10,11,12,13,14,15,16,17,18,19,20,21,22,23,24,25,26,27,28,29,30,31,32,33,34,35,36,37,38,39,40,41,42,43,44,45,46,47,48,49,50,51,52,53,54,55,56,57,58,59,60,61,62,63,64,65,66,67,68,69,70,71,72,73,74,75,76,77,78,79,80,81,82,83,84,85,86,87,88,89,90,91,92,93,94,95,96,97,98,99,100],\"y\":[2.7649879455566406,5.522492408752441,8.220211029052734,10.938679695129395,13.63300895690918,16.333019733428955,19.01250147819519,21.71213960647583,24.416159868240356,27.123197555541992,29.864042282104492,32.64915609359741,35.37179231643677,38.13178110122681,41.052969217300415,43.75380778312683,46.47927808761597,49.21931576728821,51.912986755371094,54.60354566574097,57.34093189239502,60.09186768531799,62.84298586845398,65.59273719787598,68.3222725391388,71.03660345077515,73.78537392616272,76.59401297569275,79.31733322143555,82.06075739860535,84.90242910385132,87.65562534332275,90.36368250846863,93.08519053459167,95.76574683189392,98.47818994522095,101.15899753570557,103.86977076530457,106.59517931938171,109.28230834007263,111.99114847183228,114.69750809669495,117.39233779907227,120.07789945602417,122.72088885307312,125.52351999282837,128.21560668945312,130.90313577651978,133.62395572662354,136.34770917892456,139.07681822776794,141.7207145690918,144.64159536361694,147.42049717903137,150.09153938293457,152.8036494255066,155.49240946769714,158.24398255348206,160.92360281944275,163.63295531272888,166.53515815734863,169.32856392860413,172.0457248687744,174.761155128479,177.53468489646912,180.2736301422119,182.98825597763062,185.71031284332275,188.47277760505676,191.2033452987671,193.89069938659668,196.62621760368347,199.4023425579071,202.1572391986847,204.88924908638,207.58564043045044,210.4910728931427,213.20554208755493,215.91103148460388,218.62798643112183,221.35517358779907,224.09750843048096,226.80564093589783,229.53191924095154,232.33182430267334,235.0345118045807,237.75612688064575,240.44560718536377,243.16868424415588,245.90775966644287,248.56923866271973,251.39669370651245,254.11889672279358,256.8365123271942,259.5284934043884,262.28876280784607,264.9879183769226,267.67476987838745,270.38103318214417,273.1498136520386,275.88043546676636],\"type\":\"scatter\",\"xaxis\":\"x4\",\"yaxis\":\"y4\"},{\"line\":{\"color\":\"yellow\",\"width\":2},\"mode\":\"lines\",\"name\":\"Discrete LCU\",\"showlegend\":false,\"x\":[0,1,2,3,4,5,6,7,8,9,10,11,12,13,14,15,16,17,18,19,20,21,22,23,24,25,26,27,28,29,30,31,32,33,34,35,36,37,38,39,40,41,42,43,44,45,46,47,48,49,50,51,52,53,54,55,56,57,58,59,60,61,62,63,64,65,66,67,68,69,70,71,72,73,74,75,76,77,78,79,80,81,82,83,84,85,86,87,88,89,90,91,92,93,94,95,96,97,98,99,100],\"y\":[2.031985282897949,4.061161279678345,6.025927782058716,8.017038345336914,9.95395827293396,11.956018686294556,13.862581729888916,15.756945371627808,17.730835914611816,19.666326761245728,21.737555980682373,23.676759719848633,25.78231930732727,27.935157537460327,29.97553300857544,31.905370473861694,33.84928846359253,35.70107626914978,37.61568903923035,39.49525046348572,41.4404501914978,43.438753843307495,45.4254093170166,47.29170036315918,49.20649838447571,51.22775459289551,53.326592206954956,55.294655084609985,57.375880002975464,59.458529472351074,61.41534638404846,63.63325071334839,65.66075706481934,67.715416431427,69.67383527755737,71.81437540054321,73.76288866996765,75.67262768745422,77.68104314804077,79.63955068588257,81.5333776473999,83.53378033638,85.47967171669006,87.42686462402344,89.4729630947113,91.3926932811737,93.33401155471802,95.26561164855957,97.16298484802246,99.14981055259705,101.127432346344,103.02208876609802,104.97419261932373,106.95600438117981,108.88240671157837,110.79398155212402,112.7125597000122,114.61206412315369,116.86637926101685,118.85363459587097,120.8017508983612,122.7614209651947,124.70745587348938,126.55587553977966,128.53117632865906,130.4407045841217,132.41651844978333,134.32022857666016,136.26182794570923,138.24546718597412,140.14362931251526,142.11673736572266,144.1673777103424,146.11886477470398,148.19887971878052,150.10749912261963,152.07366013526917,154.05818128585815,155.95294523239136,157.98947501182556,159.93014311790466,162.04505610466003,163.98452305793762,165.9250090122223,168.3997597694397,170.7366054058075,172.9041714668274,174.8647494316101,176.81950068473816,178.7839515209198,180.75194025039673,182.6640374660492,184.5529863834381,186.43234157562256,188.3583948612213,190.29310178756714,192.2555091381073,194.16952753067017,196.02505803108215,197.94953870773315,199.85889959335327],\"type\":\"scatter\",\"xaxis\":\"x4\",\"yaxis\":\"y4\"},{\"line\":{\"color\":\"blue\",\"width\":2},\"mode\":\"lines\",\"name\":\"Discrete QNG\",\"showlegend\":false,\"x\":[0,1,2,3,4,5,6,7,8,9,10,11,12,13,14,15,16,17,18,19,20,21,22,23,24,25,26,27,28,29,30,31,32,33,34,35,36,37,38,39,40,41,42,43,44,45,46,47,48,49,50,51,52,53,54,55,56,57,58,59,60,61,62,63,64,65,66,67,68,69,70,71,72,73,74,75,76,77,78,79,80,81,82,83,84,85,86,87,88,89,90,91,92,93,94,95,96,97,98,99,100],\"y\":[2.9431729316711426,5.899990081787109,8.904788970947266,11.80026364326477,14.7695791721344,17.63405680656433,20.597538471221924,23.572802543640137,26.438042879104614,29.396634101867676,32.34826350212097,35.34194540977478,38.30247712135315,41.25340247154236,44.17631530761719,47.10704755783081,50.183290243148804,53.10576772689819,56.00492882728577,58.939833879470825,61.92437028884888,64.90218567848206,67.84911131858826,70.78833651542664,73.71605634689331,76.64892673492432,79.57069253921509,82.52073097229004,85.42706441879272,88.37929320335388,91.5105471611023,94.50242209434509,97.47453284263611,100.40035915374756,103.36659097671509,106.26513028144836,109.1572892665863,112.07907462120056,114.98027968406677,117.93667340278625,120.89620804786682,123.8501091003418,126.810382604599,129.76742553710938,132.6558108329773,135.71453022956848,138.69499731063843,141.63447093963623,144.53448629379272,147.43679904937744,150.32916831970215,153.21990871429443,156.17210841178894,159.09108090400696,161.98675870895386,164.91621828079224,167.78158521652222,170.64151668548584,173.55689978599548,176.6509144306183,179.54388236999512,182.46166014671326,185.3433723449707,188.26683950424194,191.16730570793152,194.29415845870972,197.17798733711243,200.03853511810303,202.9575560092926,205.8572382926941,208.76422309875488,211.69757318496704,214.6006691455841,217.71606612205505,220.6714005470276,223.56478452682495,226.4550518989563,229.3088893890381,232.24252009391785,235.15094757080078,238.0432004928589,240.9655601978302,243.87250995635986,246.77463698387146,249.64962697029114,252.58334755897522,255.4545443058014,258.5257308483124,261.48457527160645,264.42174100875854,267.29745864868164,270.2734122276306,273.19693207740784,276.17476630210876,279.0799870491028,281.98806285858154,284.91378259658813,287.818044424057,290.7698998451233,293.6568202972412,296.5528428554535],\"type\":\"scatter\",\"xaxis\":\"x4\",\"yaxis\":\"y4\"},{\"line\":{\"color\":\"brown\",\"width\":2},\"mode\":\"lines\",\"name\":\"Discrete Newton Method\",\"showlegend\":false,\"x\":[0,1,2,3,4,5,6,7,8,9,10,11,12,13,14,15,16,17,18,19,20,21,22,23,24,25,26,27,28,29,30,31,32,33,34,35,36,37,38,39,40,41,42,43,44,45,46,47,48,49,50,51,52,53,54,55,56,57,58,59,60,61,62,63,64,65,66,67,68,69,70,71,72,73,74,75,76,77,78,79,80,81,82,83,84,85,86,87,88,89,90,91,92,93,94,95,96,97,98,99,100],\"y\":[3.684253692626953,7.349560499191284,10.94620132446289,14.548180103302002,18.47418451309204,22.02793002128601,25.70039677619934,29.54066562652588,33.14070677757263,36.80426836013794,40.38933610916138,44.29769015312195,48.073776960372925,51.68049335479736,55.52119970321655,59.264132499694824,62.855271100997925,66.50949096679688,70.41850280761719,73.97644639015198,77.7374153137207,81.64146041870117,85.29122185707092,88.93695878982544,92.59413814544678,96.45969700813293,100.1081473827362,103.73548316955566,107.55214214324951,111.27999639511108,114.8646354675293,118.59991812705994,122.5473895072937,126.26216340065002,130.0455665588379,133.77195262908936,137.36641359329224,140.9969208240509,144.59639191627502,148.41728830337524,152.04059982299805,155.62374758720398,159.20736384391785,163.34577322006226,167.64902687072754,171.63385486602783,175.30224180221558,178.98028874397278,182.64836382865906,186.2471842765808,190.10398960113525,193.7261040210724,197.3560276031494,201.13381242752075,204.71245312690735,208.29402875900269,212.13191294670105,215.67180681228638,219.2658452987671,222.9002833366394,226.6219334602356,230.25839614868164,233.85861611366272,237.65599966049194,241.37963104248047,244.99925112724304,248.70936751365662,252.59401082992554,256.27857518196106,260.00291538238525,263.6435739994049,267.48003005981445,271.19607520103455,274.81909799575806,278.3635206222534,282.2854504585266,286.0101366043091,289.63516426086426,293.3926274776459,296.96211075782776,300.57643461227417,304.26912665367126,307.88862133026123,311.4977171421051,315.05829215049744,318.86744260787964,322.4079921245575,326.01194500923157,329.77354860305786,333.37030148506165,337.00456714630127,340.60417127609253,344.3367736339569,347.8872411251068,351.45366859436035,355.076687335968,358.92070484161377,362.53028297424316,366.20401334762573,370.18357253074646,373.7951011657715],\"type\":\"scatter\",\"xaxis\":\"x4\",\"yaxis\":\"y4\"}],                        {\"template\":{\"data\":{\"bar\":[{\"error_x\":{\"color\":\"#2a3f5f\"},\"error_y\":{\"color\":\"#2a3f5f\"},\"marker\":{\"line\":{\"color\":\"#E5ECF6\",\"width\":0.5},\"pattern\":{\"fillmode\":\"overlay\",\"size\":10,\"solidity\":0.2}},\"type\":\"bar\"}],\"barpolar\":[{\"marker\":{\"line\":{\"color\":\"#E5ECF6\",\"width\":0.5},\"pattern\":{\"fillmode\":\"overlay\",\"size\":10,\"solidity\":0.2}},\"type\":\"barpolar\"}],\"carpet\":[{\"aaxis\":{\"endlinecolor\":\"#2a3f5f\",\"gridcolor\":\"white\",\"linecolor\":\"white\",\"minorgridcolor\":\"white\",\"startlinecolor\":\"#2a3f5f\"},\"baxis\":{\"endlinecolor\":\"#2a3f5f\",\"gridcolor\":\"white\",\"linecolor\":\"white\",\"minorgridcolor\":\"white\",\"startlinecolor\":\"#2a3f5f\"},\"type\":\"carpet\"}],\"choropleth\":[{\"colorbar\":{\"outlinewidth\":0,\"ticks\":\"\"},\"type\":\"choropleth\"}],\"contour\":[{\"colorbar\":{\"outlinewidth\":0,\"ticks\":\"\"},\"colorscale\":[[0.0,\"#0d0887\"],[0.1111111111111111,\"#46039f\"],[0.2222222222222222,\"#7201a8\"],[0.3333333333333333,\"#9c179e\"],[0.4444444444444444,\"#bd3786\"],[0.5555555555555556,\"#d8576b\"],[0.6666666666666666,\"#ed7953\"],[0.7777777777777778,\"#fb9f3a\"],[0.8888888888888888,\"#fdca26\"],[1.0,\"#f0f921\"]],\"type\":\"contour\"}],\"contourcarpet\":[{\"colorbar\":{\"outlinewidth\":0,\"ticks\":\"\"},\"type\":\"contourcarpet\"}],\"heatmap\":[{\"colorbar\":{\"outlinewidth\":0,\"ticks\":\"\"},\"colorscale\":[[0.0,\"#0d0887\"],[0.1111111111111111,\"#46039f\"],[0.2222222222222222,\"#7201a8\"],[0.3333333333333333,\"#9c179e\"],[0.4444444444444444,\"#bd3786\"],[0.5555555555555556,\"#d8576b\"],[0.6666666666666666,\"#ed7953\"],[0.7777777777777778,\"#fb9f3a\"],[0.8888888888888888,\"#fdca26\"],[1.0,\"#f0f921\"]],\"type\":\"heatmap\"}],\"heatmapgl\":[{\"colorbar\":{\"outlinewidth\":0,\"ticks\":\"\"},\"colorscale\":[[0.0,\"#0d0887\"],[0.1111111111111111,\"#46039f\"],[0.2222222222222222,\"#7201a8\"],[0.3333333333333333,\"#9c179e\"],[0.4444444444444444,\"#bd3786\"],[0.5555555555555556,\"#d8576b\"],[0.6666666666666666,\"#ed7953\"],[0.7777777777777778,\"#fb9f3a\"],[0.8888888888888888,\"#fdca26\"],[1.0,\"#f0f921\"]],\"type\":\"heatmapgl\"}],\"histogram\":[{\"marker\":{\"pattern\":{\"fillmode\":\"overlay\",\"size\":10,\"solidity\":0.2}},\"type\":\"histogram\"}],\"histogram2d\":[{\"colorbar\":{\"outlinewidth\":0,\"ticks\":\"\"},\"colorscale\":[[0.0,\"#0d0887\"],[0.1111111111111111,\"#46039f\"],[0.2222222222222222,\"#7201a8\"],[0.3333333333333333,\"#9c179e\"],[0.4444444444444444,\"#bd3786\"],[0.5555555555555556,\"#d8576b\"],[0.6666666666666666,\"#ed7953\"],[0.7777777777777778,\"#fb9f3a\"],[0.8888888888888888,\"#fdca26\"],[1.0,\"#f0f921\"]],\"type\":\"histogram2d\"}],\"histogram2dcontour\":[{\"colorbar\":{\"outlinewidth\":0,\"ticks\":\"\"},\"colorscale\":[[0.0,\"#0d0887\"],[0.1111111111111111,\"#46039f\"],[0.2222222222222222,\"#7201a8\"],[0.3333333333333333,\"#9c179e\"],[0.4444444444444444,\"#bd3786\"],[0.5555555555555556,\"#d8576b\"],[0.6666666666666666,\"#ed7953\"],[0.7777777777777778,\"#fb9f3a\"],[0.8888888888888888,\"#fdca26\"],[1.0,\"#f0f921\"]],\"type\":\"histogram2dcontour\"}],\"mesh3d\":[{\"colorbar\":{\"outlinewidth\":0,\"ticks\":\"\"},\"type\":\"mesh3d\"}],\"parcoords\":[{\"line\":{\"colorbar\":{\"outlinewidth\":0,\"ticks\":\"\"}},\"type\":\"parcoords\"}],\"pie\":[{\"automargin\":true,\"type\":\"pie\"}],\"scatter\":[{\"marker\":{\"colorbar\":{\"outlinewidth\":0,\"ticks\":\"\"}},\"type\":\"scatter\"}],\"scatter3d\":[{\"line\":{\"colorbar\":{\"outlinewidth\":0,\"ticks\":\"\"}},\"marker\":{\"colorbar\":{\"outlinewidth\":0,\"ticks\":\"\"}},\"type\":\"scatter3d\"}],\"scattercarpet\":[{\"marker\":{\"colorbar\":{\"outlinewidth\":0,\"ticks\":\"\"}},\"type\":\"scattercarpet\"}],\"scattergeo\":[{\"marker\":{\"colorbar\":{\"outlinewidth\":0,\"ticks\":\"\"}},\"type\":\"scattergeo\"}],\"scattergl\":[{\"marker\":{\"colorbar\":{\"outlinewidth\":0,\"ticks\":\"\"}},\"type\":\"scattergl\"}],\"scattermapbox\":[{\"marker\":{\"colorbar\":{\"outlinewidth\":0,\"ticks\":\"\"}},\"type\":\"scattermapbox\"}],\"scatterpolar\":[{\"marker\":{\"colorbar\":{\"outlinewidth\":0,\"ticks\":\"\"}},\"type\":\"scatterpolar\"}],\"scatterpolargl\":[{\"marker\":{\"colorbar\":{\"outlinewidth\":0,\"ticks\":\"\"}},\"type\":\"scatterpolargl\"}],\"scatterternary\":[{\"marker\":{\"colorbar\":{\"outlinewidth\":0,\"ticks\":\"\"}},\"type\":\"scatterternary\"}],\"surface\":[{\"colorbar\":{\"outlinewidth\":0,\"ticks\":\"\"},\"colorscale\":[[0.0,\"#0d0887\"],[0.1111111111111111,\"#46039f\"],[0.2222222222222222,\"#7201a8\"],[0.3333333333333333,\"#9c179e\"],[0.4444444444444444,\"#bd3786\"],[0.5555555555555556,\"#d8576b\"],[0.6666666666666666,\"#ed7953\"],[0.7777777777777778,\"#fb9f3a\"],[0.8888888888888888,\"#fdca26\"],[1.0,\"#f0f921\"]],\"type\":\"surface\"}],\"table\":[{\"cells\":{\"fill\":{\"color\":\"#EBF0F8\"},\"line\":{\"color\":\"white\"}},\"header\":{\"fill\":{\"color\":\"#C8D4E3\"},\"line\":{\"color\":\"white\"}},\"type\":\"table\"}]},\"layout\":{\"annotationdefaults\":{\"arrowcolor\":\"#2a3f5f\",\"arrowhead\":0,\"arrowwidth\":1},\"autotypenumbers\":\"strict\",\"coloraxis\":{\"colorbar\":{\"outlinewidth\":0,\"ticks\":\"\"}},\"colorscale\":{\"diverging\":[[0,\"#8e0152\"],[0.1,\"#c51b7d\"],[0.2,\"#de77ae\"],[0.3,\"#f1b6da\"],[0.4,\"#fde0ef\"],[0.5,\"#f7f7f7\"],[0.6,\"#e6f5d0\"],[0.7,\"#b8e186\"],[0.8,\"#7fbc41\"],[0.9,\"#4d9221\"],[1,\"#276419\"]],\"sequential\":[[0.0,\"#0d0887\"],[0.1111111111111111,\"#46039f\"],[0.2222222222222222,\"#7201a8\"],[0.3333333333333333,\"#9c179e\"],[0.4444444444444444,\"#bd3786\"],[0.5555555555555556,\"#d8576b\"],[0.6666666666666666,\"#ed7953\"],[0.7777777777777778,\"#fb9f3a\"],[0.8888888888888888,\"#fdca26\"],[1.0,\"#f0f921\"]],\"sequentialminus\":[[0.0,\"#0d0887\"],[0.1111111111111111,\"#46039f\"],[0.2222222222222222,\"#7201a8\"],[0.3333333333333333,\"#9c179e\"],[0.4444444444444444,\"#bd3786\"],[0.5555555555555556,\"#d8576b\"],[0.6666666666666666,\"#ed7953\"],[0.7777777777777778,\"#fb9f3a\"],[0.8888888888888888,\"#fdca26\"],[1.0,\"#f0f921\"]]},\"colorway\":[\"#636efa\",\"#EF553B\",\"#00cc96\",\"#ab63fa\",\"#FFA15A\",\"#19d3f3\",\"#FF6692\",\"#B6E880\",\"#FF97FF\",\"#FECB52\"],\"font\":{\"color\":\"#2a3f5f\"},\"geo\":{\"bgcolor\":\"white\",\"lakecolor\":\"white\",\"landcolor\":\"#E5ECF6\",\"showlakes\":true,\"showland\":true,\"subunitcolor\":\"white\"},\"hoverlabel\":{\"align\":\"left\"},\"hovermode\":\"closest\",\"mapbox\":{\"style\":\"light\"},\"paper_bgcolor\":\"white\",\"plot_bgcolor\":\"#E5ECF6\",\"polar\":{\"angularaxis\":{\"gridcolor\":\"white\",\"linecolor\":\"white\",\"ticks\":\"\"},\"bgcolor\":\"#E5ECF6\",\"radialaxis\":{\"gridcolor\":\"white\",\"linecolor\":\"white\",\"ticks\":\"\"}},\"scene\":{\"xaxis\":{\"backgroundcolor\":\"#E5ECF6\",\"gridcolor\":\"white\",\"gridwidth\":2,\"linecolor\":\"white\",\"showbackground\":true,\"ticks\":\"\",\"zerolinecolor\":\"white\"},\"yaxis\":{\"backgroundcolor\":\"#E5ECF6\",\"gridcolor\":\"white\",\"gridwidth\":2,\"linecolor\":\"white\",\"showbackground\":true,\"ticks\":\"\",\"zerolinecolor\":\"white\"},\"zaxis\":{\"backgroundcolor\":\"#E5ECF6\",\"gridcolor\":\"white\",\"gridwidth\":2,\"linecolor\":\"white\",\"showbackground\":true,\"ticks\":\"\",\"zerolinecolor\":\"white\"}},\"shapedefaults\":{\"line\":{\"color\":\"#2a3f5f\"}},\"ternary\":{\"aaxis\":{\"gridcolor\":\"white\",\"linecolor\":\"white\",\"ticks\":\"\"},\"baxis\":{\"gridcolor\":\"white\",\"linecolor\":\"white\",\"ticks\":\"\"},\"bgcolor\":\"#E5ECF6\",\"caxis\":{\"gridcolor\":\"white\",\"linecolor\":\"white\",\"ticks\":\"\"}},\"title\":{\"x\":0.05},\"xaxis\":{\"automargin\":true,\"gridcolor\":\"white\",\"linecolor\":\"white\",\"ticks\":\"\",\"title\":{\"standoff\":15},\"zerolinecolor\":\"white\",\"zerolinewidth\":2},\"yaxis\":{\"automargin\":true,\"gridcolor\":\"white\",\"linecolor\":\"white\",\"ticks\":\"\",\"title\":{\"standoff\":15},\"zerolinecolor\":\"white\",\"zerolinewidth\":2}}},\"xaxis\":{\"anchor\":\"y\",\"domain\":[0.0,0.45],\"title\":{\"text\":\"Iteration\"}},\"yaxis\":{\"anchor\":\"x\",\"domain\":[0.625,1.0],\"title\":{\"text\":\"Time (Sec)\"}},\"xaxis2\":{\"anchor\":\"y2\",\"domain\":[0.55,1.0]},\"yaxis2\":{\"anchor\":\"x2\",\"domain\":[0.625,1.0]},\"xaxis3\":{\"anchor\":\"y3\",\"domain\":[0.0,0.45]},\"yaxis3\":{\"anchor\":\"x3\",\"domain\":[0.0,0.375]},\"xaxis4\":{\"anchor\":\"y4\",\"domain\":[0.55,1.0]},\"yaxis4\":{\"anchor\":\"x4\",\"domain\":[0.0,0.375]},\"annotations\":[{\"font\":{\"size\":16},\"showarrow\":false,\"text\":\"Max-Cut\",\"x\":0.225,\"xanchor\":\"center\",\"xref\":\"paper\",\"y\":1.0,\"yanchor\":\"bottom\",\"yref\":\"paper\"},{\"font\":{\"size\":16},\"showarrow\":false,\"text\":\"Clique\",\"x\":0.775,\"xanchor\":\"center\",\"xref\":\"paper\",\"y\":1.0,\"yanchor\":\"bottom\",\"yref\":\"paper\"},{\"font\":{\"size\":16},\"showarrow\":false,\"text\":\"Binary Linear Programming\",\"x\":0.225,\"xanchor\":\"center\",\"xref\":\"paper\",\"y\":0.375,\"yanchor\":\"bottom\",\"yref\":\"paper\"},{\"font\":{\"size\":16},\"showarrow\":false,\"text\":\"Knapsack\",\"x\":0.775,\"xanchor\":\"center\",\"xref\":\"paper\",\"y\":0.375,\"yanchor\":\"bottom\",\"yref\":\"paper\"}],\"title\":{\"text\":\"Time Comparison  <br><sup>Fixed the number of parameterized gate (6 gate).</sup>\"},\"autosize\":false,\"width\":1000,\"height\":700},                        {\"responsive\": true}                    ).then(function(){\n",
              "                            \n",
              "var gd = document.getElementById('619c49dc-8c37-4b2c-b8a4-74d281a7ac30');\n",
              "var x = new MutationObserver(function (mutations, observer) {{\n",
              "        var display = window.getComputedStyle(gd).display;\n",
              "        if (!display || display === 'none') {{\n",
              "            console.log([gd, 'removed!']);\n",
              "            Plotly.purge(gd);\n",
              "            observer.disconnect();\n",
              "        }}\n",
              "}});\n",
              "\n",
              "// Listen for the removal of the full notebook cells\n",
              "var notebookContainer = gd.closest('#notebook-container');\n",
              "if (notebookContainer) {{\n",
              "    x.observe(notebookContainer, {childList: true});\n",
              "}}\n",
              "\n",
              "// Listen for the clearing of the current output cell\n",
              "var outputEl = gd.closest('.output');\n",
              "if (outputEl) {{\n",
              "    x.observe(outputEl, {childList: true});\n",
              "}}\n",
              "\n",
              "                        })                };                            </script>        </div>\n",
              "</body>\n",
              "</html>"
            ]
          },
          "metadata": {}
        }
      ],
      "source": [
        "#@title Time Comparison\n",
        "#@markdown Fixed the number of parameterized gate (6 gate).\n",
        "\n",
        "from plotly.subplots import make_subplots\n",
        "\n",
        "row = 2\n",
        "col = 2\n",
        "fig = make_subplots(rows=row, cols=col, subplot_titles=(\"Max-Cut\",\"Clique\",\"Binary Linear Programming\", \"Knapsack\"))\n",
        "show = True\n",
        "for i in range(row):\n",
        "  for j in range(col):\n",
        "    problemn = i*col+j\n",
        "    if problemn>0:\n",
        "      show = False\n",
        "    dv = pd.DataFrame({\"Iteration\":range(len(pst[problemn])), \"Time\":pst[problemn]})\n",
        "    dv_fd = pd.DataFrame({\"Iteration\":range(len(fdt[problemn])), \"Time\":fdt[problemn]})\n",
        "    dv_lcu = pd.DataFrame({\"Iteration\":range(len(lcut[problemn])), \"Time\":lcut[problemn]})\n",
        "    dv_qng = pd.DataFrame({\"Iteration\":range(len(qngt[problemn])), \"Time\":qngt[problemn]})\n",
        "    dv_newton = pd.DataFrame({\"Iteration\":range(len(qnwt[problemn])), \"Time\":qnwt[problemn]})\n",
        "\n",
        "    # dv_cls = pd.DataFrame({\"Iteration\":range(len(loss_plot_classical)), \"Loss\":loss_plot_classical})\n",
        "\n",
        "    fig.add_trace(go.Scatter(x=dv[\"Iteration\"], y=dv[\"Time\"], name=\"Discrete Parameter Shift\", line = dict(width=2), line_color='red', showlegend = show), row=i+1, col=j+1)\n",
        "    fig.add_trace(go.Scatter(x=dv_fd[\"Iteration\"], y=dv_fd[\"Time\"], mode=\"lines\", name=\"Discrete Finite Difference\", line = dict(width=2), line_color='green', showlegend = show), row=i+1, col=j+1)\n",
        "    fig.add_trace(go.Scatter(x=dv_lcu[\"Iteration\"], y=dv_lcu[\"Time\"], mode=\"lines\", name=\"Discrete LCU\", line = dict(width=2), line_color='yellow', showlegend = show), row=i+1, col=j+1)\n",
        "    fig.add_trace(go.Scatter(x=dv_qng[\"Iteration\"], y=dv_qng[\"Time\"], mode=\"lines\", name=\"Discrete QNG\", line = dict(width=2), line_color='blue', showlegend = show), row=i+1, col=j+1)\n",
        "    fig.add_trace(go.Scatter(x=dv_newton[\"Iteration\"], y=dv_newton[\"Time\"], mode=\"lines\", name=\"Discrete Newton Method\", line = dict(width=2), line_color='brown', showlegend = show), row=i+1, col=j+1)\n",
        "\n",
        "    # fig.add_trace(go.Scatter(x=dv_cls[\"Iteration\"], y=dv_cls[\"Loss\"], mode=\"lines\", name=\"Classical\"))\n",
        "\n",
        "\n",
        "fig.update_layout(title=\"Time Comparison  <br><sup>Fixed the number of parameterized gate (6 gate).</sup>\",\n",
        "                  xaxis_title=\"Iteration\",\n",
        "                  yaxis_title=\"Time (Sec)\", autosize=False,\n",
        "                  width=1000,\n",
        "                  height=700)\n",
        "plotly.offline.plot(fig, filename='time_fixgate.html')\n",
        "fig.show()"
      ]
    },
    {
      "cell_type": "code",
      "source": [
        "with open('sampling_pst.pk', 'wb') as fp:\n",
        "    pickle.dump(pst, fp)\n",
        "with open('sampling_fdt.pk', 'wb') as fp:\n",
        "    pickle.dump(fdt, fp)\n",
        "with open('sampling_lcut.pk', 'wb') as fp:\n",
        "    pickle.dump(lcut, fp)\n",
        "with open('sampling_qngt.pk', 'wb') as fp:\n",
        "    pickle.dump(qngt, fp)\n",
        "with open('sampling_qnwt.pk', 'wb') as fp:\n",
        "    pickle.dump(qnwt, fp)"
      ],
      "metadata": {
        "id": "EgbC5LXJw1sp"
      },
      "execution_count": null,
      "outputs": []
    },
    {
      "cell_type": "code",
      "execution_count": null,
      "metadata": {
        "id": "VbTqgBW9-e0e",
        "colab": {
          "base_uri": "https://localhost:8080/",
          "height": 1000
        },
        "outputId": "914b8723-7ed3-4d1c-a357-e217a9a2d41c",
        "cellView": "form"
      },
      "outputs": [
        {
          "output_type": "stream",
          "name": "stdout",
          "text": [
            "\u001b[1mMax-Cut\u001b[0m\n"
          ]
        },
        {
          "output_type": "display_data",
          "data": {
            "text/plain": [
              "                           Iteration 25              Iteration 50  \\\n",
              "                                   Loss Time(second)         Loss   \n",
              "Discrete Parameter Shift      -3.24e+00        78.64    -3.50e+00   \n",
              "Discrete Finite Difference    -2.08e+00        47.46    -2.37e+00   \n",
              "Discrete LCU                  -3.18e+00        33.97    -3.47e+00   \n",
              "Discrete QNG                  -3.29e+00        56.32    -3.54e+00   \n",
              "Discrete Newton Gradient      -3.37e+00        69.88    -3.47e+00   \n",
              "\n",
              "                                        Iteration 75               \\\n",
              "                           Time(second)         Loss Time(second)   \n",
              "Discrete Parameter Shift         131.68    -3.53e+00       183.53   \n",
              "Discrete Finite Difference        93.43    -2.55e+00       139.04   \n",
              "Discrete LCU                      67.18    -3.52e+00        99.98   \n",
              "Discrete QNG                     109.86    -3.51e+00       162.19   \n",
              "Discrete Newton Gradient         135.31    -3.49e+00       200.82   \n",
              "\n",
              "                           Iteration 100               \n",
              "                                    Loss Time(second)  \n",
              "Discrete Parameter Shift       -3.49e+00       236.42  \n",
              "Discrete Finite Difference     -2.52e+00       184.19  \n",
              "Discrete LCU                   -3.47e+00       137.58  \n",
              "Discrete QNG                   -3.47e+00       213.97  \n",
              "Discrete Newton Gradient       -3.47e+00       266.40  "
            ],
            "text/html": [
              "\n",
              "  <div id=\"df-721eeebd-db02-4f77-b59f-2ed643d9fab2\">\n",
              "    <div class=\"colab-df-container\">\n",
              "      <div>\n",
              "<style scoped>\n",
              "    .dataframe tbody tr th:only-of-type {\n",
              "        vertical-align: middle;\n",
              "    }\n",
              "\n",
              "    .dataframe tbody tr th {\n",
              "        vertical-align: top;\n",
              "    }\n",
              "\n",
              "    .dataframe thead tr th {\n",
              "        text-align: left;\n",
              "    }\n",
              "</style>\n",
              "<table border=\"1\" class=\"dataframe\">\n",
              "  <thead>\n",
              "    <tr>\n",
              "      <th></th>\n",
              "      <th colspan=\"2\" halign=\"left\">Iteration 25</th>\n",
              "      <th colspan=\"2\" halign=\"left\">Iteration 50</th>\n",
              "      <th colspan=\"2\" halign=\"left\">Iteration 75</th>\n",
              "      <th colspan=\"2\" halign=\"left\">Iteration 100</th>\n",
              "    </tr>\n",
              "    <tr>\n",
              "      <th></th>\n",
              "      <th>Loss</th>\n",
              "      <th>Time(second)</th>\n",
              "      <th>Loss</th>\n",
              "      <th>Time(second)</th>\n",
              "      <th>Loss</th>\n",
              "      <th>Time(second)</th>\n",
              "      <th>Loss</th>\n",
              "      <th>Time(second)</th>\n",
              "    </tr>\n",
              "  </thead>\n",
              "  <tbody>\n",
              "    <tr>\n",
              "      <th>Discrete Parameter Shift</th>\n",
              "      <td>-3.24e+00</td>\n",
              "      <td>78.64</td>\n",
              "      <td>-3.50e+00</td>\n",
              "      <td>131.68</td>\n",
              "      <td>-3.53e+00</td>\n",
              "      <td>183.53</td>\n",
              "      <td>-3.49e+00</td>\n",
              "      <td>236.42</td>\n",
              "    </tr>\n",
              "    <tr>\n",
              "      <th>Discrete Finite Difference</th>\n",
              "      <td>-2.08e+00</td>\n",
              "      <td>47.46</td>\n",
              "      <td>-2.37e+00</td>\n",
              "      <td>93.43</td>\n",
              "      <td>-2.55e+00</td>\n",
              "      <td>139.04</td>\n",
              "      <td>-2.52e+00</td>\n",
              "      <td>184.19</td>\n",
              "    </tr>\n",
              "    <tr>\n",
              "      <th>Discrete LCU</th>\n",
              "      <td>-3.18e+00</td>\n",
              "      <td>33.97</td>\n",
              "      <td>-3.47e+00</td>\n",
              "      <td>67.18</td>\n",
              "      <td>-3.52e+00</td>\n",
              "      <td>99.98</td>\n",
              "      <td>-3.47e+00</td>\n",
              "      <td>137.58</td>\n",
              "    </tr>\n",
              "    <tr>\n",
              "      <th>Discrete QNG</th>\n",
              "      <td>-3.29e+00</td>\n",
              "      <td>56.32</td>\n",
              "      <td>-3.54e+00</td>\n",
              "      <td>109.86</td>\n",
              "      <td>-3.51e+00</td>\n",
              "      <td>162.19</td>\n",
              "      <td>-3.47e+00</td>\n",
              "      <td>213.97</td>\n",
              "    </tr>\n",
              "    <tr>\n",
              "      <th>Discrete Newton Gradient</th>\n",
              "      <td>-3.37e+00</td>\n",
              "      <td>69.88</td>\n",
              "      <td>-3.47e+00</td>\n",
              "      <td>135.31</td>\n",
              "      <td>-3.49e+00</td>\n",
              "      <td>200.82</td>\n",
              "      <td>-3.47e+00</td>\n",
              "      <td>266.40</td>\n",
              "    </tr>\n",
              "  </tbody>\n",
              "</table>\n",
              "</div>\n",
              "      <button class=\"colab-df-convert\" onclick=\"convertToInteractive('df-721eeebd-db02-4f77-b59f-2ed643d9fab2')\"\n",
              "              title=\"Convert this dataframe to an interactive table.\"\n",
              "              style=\"display:none;\">\n",
              "        \n",
              "  <svg xmlns=\"http://www.w3.org/2000/svg\" height=\"24px\"viewBox=\"0 0 24 24\"\n",
              "       width=\"24px\">\n",
              "    <path d=\"M0 0h24v24H0V0z\" fill=\"none\"/>\n",
              "    <path d=\"M18.56 5.44l.94 2.06.94-2.06 2.06-.94-2.06-.94-.94-2.06-.94 2.06-2.06.94zm-11 1L8.5 8.5l.94-2.06 2.06-.94-2.06-.94L8.5 2.5l-.94 2.06-2.06.94zm10 10l.94 2.06.94-2.06 2.06-.94-2.06-.94-.94-2.06-.94 2.06-2.06.94z\"/><path d=\"M17.41 7.96l-1.37-1.37c-.4-.4-.92-.59-1.43-.59-.52 0-1.04.2-1.43.59L10.3 9.45l-7.72 7.72c-.78.78-.78 2.05 0 2.83L4 21.41c.39.39.9.59 1.41.59.51 0 1.02-.2 1.41-.59l7.78-7.78 2.81-2.81c.8-.78.8-2.07 0-2.86zM5.41 20L4 18.59l7.72-7.72 1.47 1.35L5.41 20z\"/>\n",
              "  </svg>\n",
              "      </button>\n",
              "      \n",
              "  <style>\n",
              "    .colab-df-container {\n",
              "      display:flex;\n",
              "      flex-wrap:wrap;\n",
              "      gap: 12px;\n",
              "    }\n",
              "\n",
              "    .colab-df-convert {\n",
              "      background-color: #E8F0FE;\n",
              "      border: none;\n",
              "      border-radius: 50%;\n",
              "      cursor: pointer;\n",
              "      display: none;\n",
              "      fill: #1967D2;\n",
              "      height: 32px;\n",
              "      padding: 0 0 0 0;\n",
              "      width: 32px;\n",
              "    }\n",
              "\n",
              "    .colab-df-convert:hover {\n",
              "      background-color: #E2EBFA;\n",
              "      box-shadow: 0px 1px 2px rgba(60, 64, 67, 0.3), 0px 1px 3px 1px rgba(60, 64, 67, 0.15);\n",
              "      fill: #174EA6;\n",
              "    }\n",
              "\n",
              "    [theme=dark] .colab-df-convert {\n",
              "      background-color: #3B4455;\n",
              "      fill: #D2E3FC;\n",
              "    }\n",
              "\n",
              "    [theme=dark] .colab-df-convert:hover {\n",
              "      background-color: #434B5C;\n",
              "      box-shadow: 0px 1px 3px 1px rgba(0, 0, 0, 0.15);\n",
              "      filter: drop-shadow(0px 1px 2px rgba(0, 0, 0, 0.3));\n",
              "      fill: #FFFFFF;\n",
              "    }\n",
              "  </style>\n",
              "\n",
              "      <script>\n",
              "        const buttonEl =\n",
              "          document.querySelector('#df-721eeebd-db02-4f77-b59f-2ed643d9fab2 button.colab-df-convert');\n",
              "        buttonEl.style.display =\n",
              "          google.colab.kernel.accessAllowed ? 'block' : 'none';\n",
              "\n",
              "        async function convertToInteractive(key) {\n",
              "          const element = document.querySelector('#df-721eeebd-db02-4f77-b59f-2ed643d9fab2');\n",
              "          const dataTable =\n",
              "            await google.colab.kernel.invokeFunction('convertToInteractive',\n",
              "                                                     [key], {});\n",
              "          if (!dataTable) return;\n",
              "\n",
              "          const docLinkHtml = 'Like what you see? Visit the ' +\n",
              "            '<a target=\"_blank\" href=https://colab.research.google.com/notebooks/data_table.ipynb>data table notebook</a>'\n",
              "            + ' to learn more about interactive tables.';\n",
              "          element.innerHTML = '';\n",
              "          dataTable['output_type'] = 'display_data';\n",
              "          await google.colab.output.renderOutput(dataTable, element);\n",
              "          const docLink = document.createElement('div');\n",
              "          docLink.innerHTML = docLinkHtml;\n",
              "          element.appendChild(docLink);\n",
              "        }\n",
              "      </script>\n",
              "    </div>\n",
              "  </div>\n",
              "  "
            ]
          },
          "metadata": {}
        },
        {
          "output_type": "stream",
          "name": "stdout",
          "text": [
            "\n",
            "\n",
            "\n",
            "\n",
            "\u001b[1mClique\u001b[0m\n"
          ]
        },
        {
          "output_type": "display_data",
          "data": {
            "text/plain": [
              "                           Iteration 25              Iteration 50  \\\n",
              "                                   Loss Time(second)         Loss   \n",
              "Discrete Parameter Shift      -2.37e+00        57.52    -2.53e+00   \n",
              "Discrete Finite Difference    -5.24e-01        54.94    -1.17e+00   \n",
              "Discrete LCU                  -2.36e+00        41.14    -2.41e+00   \n",
              "Discrete QNG                  -2.40e+00        59.22    -2.53e+00   \n",
              "Discrete Newton Gradient      -2.26e+00        76.17    -2.54e+00   \n",
              "\n",
              "                                        Iteration 75               \\\n",
              "                           Time(second)         Loss Time(second)   \n",
              "Discrete Parameter Shift         123.91    -2.44e+00       176.57   \n",
              "Discrete Finite Difference       106.78    -1.82e+00       159.46   \n",
              "Discrete LCU                      79.63    -2.48e+00       118.13   \n",
              "Discrete QNG                     115.67    -2.44e+00       172.49   \n",
              "Discrete Newton Gradient         151.04    -2.58e+00       224.62   \n",
              "\n",
              "                           Iteration 100               \n",
              "                                    Loss Time(second)  \n",
              "Discrete Parameter Shift       -2.45e+00       231.66  \n",
              "Discrete Finite Difference     -1.79e+00       212.04  \n",
              "Discrete LCU                   -2.54e+00       157.53  \n",
              "Discrete QNG                   -2.46e+00       229.41  \n",
              "Discrete Newton Gradient       -2.99e+00       298.60  "
            ],
            "text/html": [
              "\n",
              "  <div id=\"df-7b9bf7c2-5052-4496-9d13-63ac2a41114a\">\n",
              "    <div class=\"colab-df-container\">\n",
              "      <div>\n",
              "<style scoped>\n",
              "    .dataframe tbody tr th:only-of-type {\n",
              "        vertical-align: middle;\n",
              "    }\n",
              "\n",
              "    .dataframe tbody tr th {\n",
              "        vertical-align: top;\n",
              "    }\n",
              "\n",
              "    .dataframe thead tr th {\n",
              "        text-align: left;\n",
              "    }\n",
              "</style>\n",
              "<table border=\"1\" class=\"dataframe\">\n",
              "  <thead>\n",
              "    <tr>\n",
              "      <th></th>\n",
              "      <th colspan=\"2\" halign=\"left\">Iteration 25</th>\n",
              "      <th colspan=\"2\" halign=\"left\">Iteration 50</th>\n",
              "      <th colspan=\"2\" halign=\"left\">Iteration 75</th>\n",
              "      <th colspan=\"2\" halign=\"left\">Iteration 100</th>\n",
              "    </tr>\n",
              "    <tr>\n",
              "      <th></th>\n",
              "      <th>Loss</th>\n",
              "      <th>Time(second)</th>\n",
              "      <th>Loss</th>\n",
              "      <th>Time(second)</th>\n",
              "      <th>Loss</th>\n",
              "      <th>Time(second)</th>\n",
              "      <th>Loss</th>\n",
              "      <th>Time(second)</th>\n",
              "    </tr>\n",
              "  </thead>\n",
              "  <tbody>\n",
              "    <tr>\n",
              "      <th>Discrete Parameter Shift</th>\n",
              "      <td>-2.37e+00</td>\n",
              "      <td>57.52</td>\n",
              "      <td>-2.53e+00</td>\n",
              "      <td>123.91</td>\n",
              "      <td>-2.44e+00</td>\n",
              "      <td>176.57</td>\n",
              "      <td>-2.45e+00</td>\n",
              "      <td>231.66</td>\n",
              "    </tr>\n",
              "    <tr>\n",
              "      <th>Discrete Finite Difference</th>\n",
              "      <td>-5.24e-01</td>\n",
              "      <td>54.94</td>\n",
              "      <td>-1.17e+00</td>\n",
              "      <td>106.78</td>\n",
              "      <td>-1.82e+00</td>\n",
              "      <td>159.46</td>\n",
              "      <td>-1.79e+00</td>\n",
              "      <td>212.04</td>\n",
              "    </tr>\n",
              "    <tr>\n",
              "      <th>Discrete LCU</th>\n",
              "      <td>-2.36e+00</td>\n",
              "      <td>41.14</td>\n",
              "      <td>-2.41e+00</td>\n",
              "      <td>79.63</td>\n",
              "      <td>-2.48e+00</td>\n",
              "      <td>118.13</td>\n",
              "      <td>-2.54e+00</td>\n",
              "      <td>157.53</td>\n",
              "    </tr>\n",
              "    <tr>\n",
              "      <th>Discrete QNG</th>\n",
              "      <td>-2.40e+00</td>\n",
              "      <td>59.22</td>\n",
              "      <td>-2.53e+00</td>\n",
              "      <td>115.67</td>\n",
              "      <td>-2.44e+00</td>\n",
              "      <td>172.49</td>\n",
              "      <td>-2.46e+00</td>\n",
              "      <td>229.41</td>\n",
              "    </tr>\n",
              "    <tr>\n",
              "      <th>Discrete Newton Gradient</th>\n",
              "      <td>-2.26e+00</td>\n",
              "      <td>76.17</td>\n",
              "      <td>-2.54e+00</td>\n",
              "      <td>151.04</td>\n",
              "      <td>-2.58e+00</td>\n",
              "      <td>224.62</td>\n",
              "      <td>-2.99e+00</td>\n",
              "      <td>298.60</td>\n",
              "    </tr>\n",
              "  </tbody>\n",
              "</table>\n",
              "</div>\n",
              "      <button class=\"colab-df-convert\" onclick=\"convertToInteractive('df-7b9bf7c2-5052-4496-9d13-63ac2a41114a')\"\n",
              "              title=\"Convert this dataframe to an interactive table.\"\n",
              "              style=\"display:none;\">\n",
              "        \n",
              "  <svg xmlns=\"http://www.w3.org/2000/svg\" height=\"24px\"viewBox=\"0 0 24 24\"\n",
              "       width=\"24px\">\n",
              "    <path d=\"M0 0h24v24H0V0z\" fill=\"none\"/>\n",
              "    <path d=\"M18.56 5.44l.94 2.06.94-2.06 2.06-.94-2.06-.94-.94-2.06-.94 2.06-2.06.94zm-11 1L8.5 8.5l.94-2.06 2.06-.94-2.06-.94L8.5 2.5l-.94 2.06-2.06.94zm10 10l.94 2.06.94-2.06 2.06-.94-2.06-.94-.94-2.06-.94 2.06-2.06.94z\"/><path d=\"M17.41 7.96l-1.37-1.37c-.4-.4-.92-.59-1.43-.59-.52 0-1.04.2-1.43.59L10.3 9.45l-7.72 7.72c-.78.78-.78 2.05 0 2.83L4 21.41c.39.39.9.59 1.41.59.51 0 1.02-.2 1.41-.59l7.78-7.78 2.81-2.81c.8-.78.8-2.07 0-2.86zM5.41 20L4 18.59l7.72-7.72 1.47 1.35L5.41 20z\"/>\n",
              "  </svg>\n",
              "      </button>\n",
              "      \n",
              "  <style>\n",
              "    .colab-df-container {\n",
              "      display:flex;\n",
              "      flex-wrap:wrap;\n",
              "      gap: 12px;\n",
              "    }\n",
              "\n",
              "    .colab-df-convert {\n",
              "      background-color: #E8F0FE;\n",
              "      border: none;\n",
              "      border-radius: 50%;\n",
              "      cursor: pointer;\n",
              "      display: none;\n",
              "      fill: #1967D2;\n",
              "      height: 32px;\n",
              "      padding: 0 0 0 0;\n",
              "      width: 32px;\n",
              "    }\n",
              "\n",
              "    .colab-df-convert:hover {\n",
              "      background-color: #E2EBFA;\n",
              "      box-shadow: 0px 1px 2px rgba(60, 64, 67, 0.3), 0px 1px 3px 1px rgba(60, 64, 67, 0.15);\n",
              "      fill: #174EA6;\n",
              "    }\n",
              "\n",
              "    [theme=dark] .colab-df-convert {\n",
              "      background-color: #3B4455;\n",
              "      fill: #D2E3FC;\n",
              "    }\n",
              "\n",
              "    [theme=dark] .colab-df-convert:hover {\n",
              "      background-color: #434B5C;\n",
              "      box-shadow: 0px 1px 3px 1px rgba(0, 0, 0, 0.15);\n",
              "      filter: drop-shadow(0px 1px 2px rgba(0, 0, 0, 0.3));\n",
              "      fill: #FFFFFF;\n",
              "    }\n",
              "  </style>\n",
              "\n",
              "      <script>\n",
              "        const buttonEl =\n",
              "          document.querySelector('#df-7b9bf7c2-5052-4496-9d13-63ac2a41114a button.colab-df-convert');\n",
              "        buttonEl.style.display =\n",
              "          google.colab.kernel.accessAllowed ? 'block' : 'none';\n",
              "\n",
              "        async function convertToInteractive(key) {\n",
              "          const element = document.querySelector('#df-7b9bf7c2-5052-4496-9d13-63ac2a41114a');\n",
              "          const dataTable =\n",
              "            await google.colab.kernel.invokeFunction('convertToInteractive',\n",
              "                                                     [key], {});\n",
              "          if (!dataTable) return;\n",
              "\n",
              "          const docLinkHtml = 'Like what you see? Visit the ' +\n",
              "            '<a target=\"_blank\" href=https://colab.research.google.com/notebooks/data_table.ipynb>data table notebook</a>'\n",
              "            + ' to learn more about interactive tables.';\n",
              "          element.innerHTML = '';\n",
              "          dataTable['output_type'] = 'display_data';\n",
              "          await google.colab.output.renderOutput(dataTable, element);\n",
              "          const docLink = document.createElement('div');\n",
              "          docLink.innerHTML = docLinkHtml;\n",
              "          element.appendChild(docLink);\n",
              "        }\n",
              "      </script>\n",
              "    </div>\n",
              "  </div>\n",
              "  "
            ]
          },
          "metadata": {}
        },
        {
          "output_type": "stream",
          "name": "stdout",
          "text": [
            "\n",
            "\n",
            "\n",
            "\n",
            "\u001b[1mBinary Linear Programming\u001b[0m\n"
          ]
        },
        {
          "output_type": "display_data",
          "data": {
            "text/plain": [
              "                           Iteration 25              Iteration 50  \\\n",
              "                                   Loss Time(second)         Loss   \n",
              "Discrete Parameter Shift       2.69e+05        54.04     1.88e+05   \n",
              "Discrete Finite Difference     5.72e+05        55.11     5.09e+05   \n",
              "Discrete LCU                   2.98e+05        46.72     1.92e+05   \n",
              "Discrete QNG                   2.70e+05        59.34     1.90e+05   \n",
              "Discrete Newton Gradient       4.99e+05        75.44     5.53e+05   \n",
              "\n",
              "                                        Iteration 75               \\\n",
              "                           Time(second)         Loss Time(second)   \n",
              "Discrete Parameter Shift         106.39     1.83e+05       158.90   \n",
              "Discrete Finite Difference       108.70     4.16e+05       160.86   \n",
              "Discrete LCU                      90.11     1.83e+05       131.39   \n",
              "Discrete QNG                     116.02     1.84e+05       172.55   \n",
              "Discrete Newton Gradient         147.70     6.12e+05       219.58   \n",
              "\n",
              "                           Iteration 100               \n",
              "                                    Loss Time(second)  \n",
              "Discrete Parameter Shift        1.84e+05       211.63  \n",
              "Discrete Finite Difference      3.99e+05       212.73  \n",
              "Discrete LCU                    1.85e+05       171.44  \n",
              "Discrete QNG                    1.84e+05       229.91  \n",
              "Discrete Newton Gradient        5.06e+05       291.55  "
            ],
            "text/html": [
              "\n",
              "  <div id=\"df-0d60737e-3495-4a2a-963b-461eaf222ca8\">\n",
              "    <div class=\"colab-df-container\">\n",
              "      <div>\n",
              "<style scoped>\n",
              "    .dataframe tbody tr th:only-of-type {\n",
              "        vertical-align: middle;\n",
              "    }\n",
              "\n",
              "    .dataframe tbody tr th {\n",
              "        vertical-align: top;\n",
              "    }\n",
              "\n",
              "    .dataframe thead tr th {\n",
              "        text-align: left;\n",
              "    }\n",
              "</style>\n",
              "<table border=\"1\" class=\"dataframe\">\n",
              "  <thead>\n",
              "    <tr>\n",
              "      <th></th>\n",
              "      <th colspan=\"2\" halign=\"left\">Iteration 25</th>\n",
              "      <th colspan=\"2\" halign=\"left\">Iteration 50</th>\n",
              "      <th colspan=\"2\" halign=\"left\">Iteration 75</th>\n",
              "      <th colspan=\"2\" halign=\"left\">Iteration 100</th>\n",
              "    </tr>\n",
              "    <tr>\n",
              "      <th></th>\n",
              "      <th>Loss</th>\n",
              "      <th>Time(second)</th>\n",
              "      <th>Loss</th>\n",
              "      <th>Time(second)</th>\n",
              "      <th>Loss</th>\n",
              "      <th>Time(second)</th>\n",
              "      <th>Loss</th>\n",
              "      <th>Time(second)</th>\n",
              "    </tr>\n",
              "  </thead>\n",
              "  <tbody>\n",
              "    <tr>\n",
              "      <th>Discrete Parameter Shift</th>\n",
              "      <td>2.69e+05</td>\n",
              "      <td>54.04</td>\n",
              "      <td>1.88e+05</td>\n",
              "      <td>106.39</td>\n",
              "      <td>1.83e+05</td>\n",
              "      <td>158.90</td>\n",
              "      <td>1.84e+05</td>\n",
              "      <td>211.63</td>\n",
              "    </tr>\n",
              "    <tr>\n",
              "      <th>Discrete Finite Difference</th>\n",
              "      <td>5.72e+05</td>\n",
              "      <td>55.11</td>\n",
              "      <td>5.09e+05</td>\n",
              "      <td>108.70</td>\n",
              "      <td>4.16e+05</td>\n",
              "      <td>160.86</td>\n",
              "      <td>3.99e+05</td>\n",
              "      <td>212.73</td>\n",
              "    </tr>\n",
              "    <tr>\n",
              "      <th>Discrete LCU</th>\n",
              "      <td>2.98e+05</td>\n",
              "      <td>46.72</td>\n",
              "      <td>1.92e+05</td>\n",
              "      <td>90.11</td>\n",
              "      <td>1.83e+05</td>\n",
              "      <td>131.39</td>\n",
              "      <td>1.85e+05</td>\n",
              "      <td>171.44</td>\n",
              "    </tr>\n",
              "    <tr>\n",
              "      <th>Discrete QNG</th>\n",
              "      <td>2.70e+05</td>\n",
              "      <td>59.34</td>\n",
              "      <td>1.90e+05</td>\n",
              "      <td>116.02</td>\n",
              "      <td>1.84e+05</td>\n",
              "      <td>172.55</td>\n",
              "      <td>1.84e+05</td>\n",
              "      <td>229.91</td>\n",
              "    </tr>\n",
              "    <tr>\n",
              "      <th>Discrete Newton Gradient</th>\n",
              "      <td>4.99e+05</td>\n",
              "      <td>75.44</td>\n",
              "      <td>5.53e+05</td>\n",
              "      <td>147.70</td>\n",
              "      <td>6.12e+05</td>\n",
              "      <td>219.58</td>\n",
              "      <td>5.06e+05</td>\n",
              "      <td>291.55</td>\n",
              "    </tr>\n",
              "  </tbody>\n",
              "</table>\n",
              "</div>\n",
              "      <button class=\"colab-df-convert\" onclick=\"convertToInteractive('df-0d60737e-3495-4a2a-963b-461eaf222ca8')\"\n",
              "              title=\"Convert this dataframe to an interactive table.\"\n",
              "              style=\"display:none;\">\n",
              "        \n",
              "  <svg xmlns=\"http://www.w3.org/2000/svg\" height=\"24px\"viewBox=\"0 0 24 24\"\n",
              "       width=\"24px\">\n",
              "    <path d=\"M0 0h24v24H0V0z\" fill=\"none\"/>\n",
              "    <path d=\"M18.56 5.44l.94 2.06.94-2.06 2.06-.94-2.06-.94-.94-2.06-.94 2.06-2.06.94zm-11 1L8.5 8.5l.94-2.06 2.06-.94-2.06-.94L8.5 2.5l-.94 2.06-2.06.94zm10 10l.94 2.06.94-2.06 2.06-.94-2.06-.94-.94-2.06-.94 2.06-2.06.94z\"/><path d=\"M17.41 7.96l-1.37-1.37c-.4-.4-.92-.59-1.43-.59-.52 0-1.04.2-1.43.59L10.3 9.45l-7.72 7.72c-.78.78-.78 2.05 0 2.83L4 21.41c.39.39.9.59 1.41.59.51 0 1.02-.2 1.41-.59l7.78-7.78 2.81-2.81c.8-.78.8-2.07 0-2.86zM5.41 20L4 18.59l7.72-7.72 1.47 1.35L5.41 20z\"/>\n",
              "  </svg>\n",
              "      </button>\n",
              "      \n",
              "  <style>\n",
              "    .colab-df-container {\n",
              "      display:flex;\n",
              "      flex-wrap:wrap;\n",
              "      gap: 12px;\n",
              "    }\n",
              "\n",
              "    .colab-df-convert {\n",
              "      background-color: #E8F0FE;\n",
              "      border: none;\n",
              "      border-radius: 50%;\n",
              "      cursor: pointer;\n",
              "      display: none;\n",
              "      fill: #1967D2;\n",
              "      height: 32px;\n",
              "      padding: 0 0 0 0;\n",
              "      width: 32px;\n",
              "    }\n",
              "\n",
              "    .colab-df-convert:hover {\n",
              "      background-color: #E2EBFA;\n",
              "      box-shadow: 0px 1px 2px rgba(60, 64, 67, 0.3), 0px 1px 3px 1px rgba(60, 64, 67, 0.15);\n",
              "      fill: #174EA6;\n",
              "    }\n",
              "\n",
              "    [theme=dark] .colab-df-convert {\n",
              "      background-color: #3B4455;\n",
              "      fill: #D2E3FC;\n",
              "    }\n",
              "\n",
              "    [theme=dark] .colab-df-convert:hover {\n",
              "      background-color: #434B5C;\n",
              "      box-shadow: 0px 1px 3px 1px rgba(0, 0, 0, 0.15);\n",
              "      filter: drop-shadow(0px 1px 2px rgba(0, 0, 0, 0.3));\n",
              "      fill: #FFFFFF;\n",
              "    }\n",
              "  </style>\n",
              "\n",
              "      <script>\n",
              "        const buttonEl =\n",
              "          document.querySelector('#df-0d60737e-3495-4a2a-963b-461eaf222ca8 button.colab-df-convert');\n",
              "        buttonEl.style.display =\n",
              "          google.colab.kernel.accessAllowed ? 'block' : 'none';\n",
              "\n",
              "        async function convertToInteractive(key) {\n",
              "          const element = document.querySelector('#df-0d60737e-3495-4a2a-963b-461eaf222ca8');\n",
              "          const dataTable =\n",
              "            await google.colab.kernel.invokeFunction('convertToInteractive',\n",
              "                                                     [key], {});\n",
              "          if (!dataTable) return;\n",
              "\n",
              "          const docLinkHtml = 'Like what you see? Visit the ' +\n",
              "            '<a target=\"_blank\" href=https://colab.research.google.com/notebooks/data_table.ipynb>data table notebook</a>'\n",
              "            + ' to learn more about interactive tables.';\n",
              "          element.innerHTML = '';\n",
              "          dataTable['output_type'] = 'display_data';\n",
              "          await google.colab.output.renderOutput(dataTable, element);\n",
              "          const docLink = document.createElement('div');\n",
              "          docLink.innerHTML = docLinkHtml;\n",
              "          element.appendChild(docLink);\n",
              "        }\n",
              "      </script>\n",
              "    </div>\n",
              "  </div>\n",
              "  "
            ]
          },
          "metadata": {}
        },
        {
          "output_type": "stream",
          "name": "stdout",
          "text": [
            "\n",
            "\n",
            "\n",
            "\n",
            "\u001b[1mKnapsack\u001b[0m\n"
          ]
        },
        {
          "output_type": "display_data",
          "data": {
            "text/plain": [
              "                           Iteration 25              Iteration 50  \\\n",
              "                                   Loss Time(second)         Loss   \n",
              "Discrete Parameter Shift       2.27e+00        71.58    -2.54e+00   \n",
              "Discrete Finite Difference     1.48e+01        71.04     8.41e+00   \n",
              "Discrete LCU                   2.01e+00        51.23    -2.65e+00   \n",
              "Discrete QNG                   2.61e+00        76.65    -2.45e+00   \n",
              "Discrete Newton Gradient       2.49e+00        96.46     6.84e-02   \n",
              "\n",
              "                                        Iteration 75               \\\n",
              "                           Time(second)         Loss Time(second)   \n",
              "Discrete Parameter Shift         139.78    -3.02e+00       208.03   \n",
              "Discrete Finite Difference       139.08     6.29e+00       207.59   \n",
              "Discrete LCU                     101.13    -3.01e+00       150.11   \n",
              "Discrete QNG                     150.33    -3.02e+00       223.56   \n",
              "Discrete Newton Gradient         190.10     8.79e+00       282.29   \n",
              "\n",
              "                           Iteration 100               \n",
              "                                    Loss Time(second)  \n",
              "Discrete Parameter Shift       -2.99e+00       276.80  \n",
              "Discrete Finite Difference      4.95e+00       275.88  \n",
              "Discrete LCU                   -3.02e+00       199.86  \n",
              "Discrete QNG                   -2.99e+00       296.55  \n",
              "Discrete Newton Gradient       -2.77e+00       373.80  "
            ],
            "text/html": [
              "\n",
              "  <div id=\"df-e4672187-859e-4dc3-ab78-b4eecd20eb9b\">\n",
              "    <div class=\"colab-df-container\">\n",
              "      <div>\n",
              "<style scoped>\n",
              "    .dataframe tbody tr th:only-of-type {\n",
              "        vertical-align: middle;\n",
              "    }\n",
              "\n",
              "    .dataframe tbody tr th {\n",
              "        vertical-align: top;\n",
              "    }\n",
              "\n",
              "    .dataframe thead tr th {\n",
              "        text-align: left;\n",
              "    }\n",
              "</style>\n",
              "<table border=\"1\" class=\"dataframe\">\n",
              "  <thead>\n",
              "    <tr>\n",
              "      <th></th>\n",
              "      <th colspan=\"2\" halign=\"left\">Iteration 25</th>\n",
              "      <th colspan=\"2\" halign=\"left\">Iteration 50</th>\n",
              "      <th colspan=\"2\" halign=\"left\">Iteration 75</th>\n",
              "      <th colspan=\"2\" halign=\"left\">Iteration 100</th>\n",
              "    </tr>\n",
              "    <tr>\n",
              "      <th></th>\n",
              "      <th>Loss</th>\n",
              "      <th>Time(second)</th>\n",
              "      <th>Loss</th>\n",
              "      <th>Time(second)</th>\n",
              "      <th>Loss</th>\n",
              "      <th>Time(second)</th>\n",
              "      <th>Loss</th>\n",
              "      <th>Time(second)</th>\n",
              "    </tr>\n",
              "  </thead>\n",
              "  <tbody>\n",
              "    <tr>\n",
              "      <th>Discrete Parameter Shift</th>\n",
              "      <td>2.27e+00</td>\n",
              "      <td>71.58</td>\n",
              "      <td>-2.54e+00</td>\n",
              "      <td>139.78</td>\n",
              "      <td>-3.02e+00</td>\n",
              "      <td>208.03</td>\n",
              "      <td>-2.99e+00</td>\n",
              "      <td>276.80</td>\n",
              "    </tr>\n",
              "    <tr>\n",
              "      <th>Discrete Finite Difference</th>\n",
              "      <td>1.48e+01</td>\n",
              "      <td>71.04</td>\n",
              "      <td>8.41e+00</td>\n",
              "      <td>139.08</td>\n",
              "      <td>6.29e+00</td>\n",
              "      <td>207.59</td>\n",
              "      <td>4.95e+00</td>\n",
              "      <td>275.88</td>\n",
              "    </tr>\n",
              "    <tr>\n",
              "      <th>Discrete LCU</th>\n",
              "      <td>2.01e+00</td>\n",
              "      <td>51.23</td>\n",
              "      <td>-2.65e+00</td>\n",
              "      <td>101.13</td>\n",
              "      <td>-3.01e+00</td>\n",
              "      <td>150.11</td>\n",
              "      <td>-3.02e+00</td>\n",
              "      <td>199.86</td>\n",
              "    </tr>\n",
              "    <tr>\n",
              "      <th>Discrete QNG</th>\n",
              "      <td>2.61e+00</td>\n",
              "      <td>76.65</td>\n",
              "      <td>-2.45e+00</td>\n",
              "      <td>150.33</td>\n",
              "      <td>-3.02e+00</td>\n",
              "      <td>223.56</td>\n",
              "      <td>-2.99e+00</td>\n",
              "      <td>296.55</td>\n",
              "    </tr>\n",
              "    <tr>\n",
              "      <th>Discrete Newton Gradient</th>\n",
              "      <td>2.49e+00</td>\n",
              "      <td>96.46</td>\n",
              "      <td>6.84e-02</td>\n",
              "      <td>190.10</td>\n",
              "      <td>8.79e+00</td>\n",
              "      <td>282.29</td>\n",
              "      <td>-2.77e+00</td>\n",
              "      <td>373.80</td>\n",
              "    </tr>\n",
              "  </tbody>\n",
              "</table>\n",
              "</div>\n",
              "      <button class=\"colab-df-convert\" onclick=\"convertToInteractive('df-e4672187-859e-4dc3-ab78-b4eecd20eb9b')\"\n",
              "              title=\"Convert this dataframe to an interactive table.\"\n",
              "              style=\"display:none;\">\n",
              "        \n",
              "  <svg xmlns=\"http://www.w3.org/2000/svg\" height=\"24px\"viewBox=\"0 0 24 24\"\n",
              "       width=\"24px\">\n",
              "    <path d=\"M0 0h24v24H0V0z\" fill=\"none\"/>\n",
              "    <path d=\"M18.56 5.44l.94 2.06.94-2.06 2.06-.94-2.06-.94-.94-2.06-.94 2.06-2.06.94zm-11 1L8.5 8.5l.94-2.06 2.06-.94-2.06-.94L8.5 2.5l-.94 2.06-2.06.94zm10 10l.94 2.06.94-2.06 2.06-.94-2.06-.94-.94-2.06-.94 2.06-2.06.94z\"/><path d=\"M17.41 7.96l-1.37-1.37c-.4-.4-.92-.59-1.43-.59-.52 0-1.04.2-1.43.59L10.3 9.45l-7.72 7.72c-.78.78-.78 2.05 0 2.83L4 21.41c.39.39.9.59 1.41.59.51 0 1.02-.2 1.41-.59l7.78-7.78 2.81-2.81c.8-.78.8-2.07 0-2.86zM5.41 20L4 18.59l7.72-7.72 1.47 1.35L5.41 20z\"/>\n",
              "  </svg>\n",
              "      </button>\n",
              "      \n",
              "  <style>\n",
              "    .colab-df-container {\n",
              "      display:flex;\n",
              "      flex-wrap:wrap;\n",
              "      gap: 12px;\n",
              "    }\n",
              "\n",
              "    .colab-df-convert {\n",
              "      background-color: #E8F0FE;\n",
              "      border: none;\n",
              "      border-radius: 50%;\n",
              "      cursor: pointer;\n",
              "      display: none;\n",
              "      fill: #1967D2;\n",
              "      height: 32px;\n",
              "      padding: 0 0 0 0;\n",
              "      width: 32px;\n",
              "    }\n",
              "\n",
              "    .colab-df-convert:hover {\n",
              "      background-color: #E2EBFA;\n",
              "      box-shadow: 0px 1px 2px rgba(60, 64, 67, 0.3), 0px 1px 3px 1px rgba(60, 64, 67, 0.15);\n",
              "      fill: #174EA6;\n",
              "    }\n",
              "\n",
              "    [theme=dark] .colab-df-convert {\n",
              "      background-color: #3B4455;\n",
              "      fill: #D2E3FC;\n",
              "    }\n",
              "\n",
              "    [theme=dark] .colab-df-convert:hover {\n",
              "      background-color: #434B5C;\n",
              "      box-shadow: 0px 1px 3px 1px rgba(0, 0, 0, 0.15);\n",
              "      filter: drop-shadow(0px 1px 2px rgba(0, 0, 0, 0.3));\n",
              "      fill: #FFFFFF;\n",
              "    }\n",
              "  </style>\n",
              "\n",
              "      <script>\n",
              "        const buttonEl =\n",
              "          document.querySelector('#df-e4672187-859e-4dc3-ab78-b4eecd20eb9b button.colab-df-convert');\n",
              "        buttonEl.style.display =\n",
              "          google.colab.kernel.accessAllowed ? 'block' : 'none';\n",
              "\n",
              "        async function convertToInteractive(key) {\n",
              "          const element = document.querySelector('#df-e4672187-859e-4dc3-ab78-b4eecd20eb9b');\n",
              "          const dataTable =\n",
              "            await google.colab.kernel.invokeFunction('convertToInteractive',\n",
              "                                                     [key], {});\n",
              "          if (!dataTable) return;\n",
              "\n",
              "          const docLinkHtml = 'Like what you see? Visit the ' +\n",
              "            '<a target=\"_blank\" href=https://colab.research.google.com/notebooks/data_table.ipynb>data table notebook</a>'\n",
              "            + ' to learn more about interactive tables.';\n",
              "          element.innerHTML = '';\n",
              "          dataTable['output_type'] = 'display_data';\n",
              "          await google.colab.output.renderOutput(dataTable, element);\n",
              "          const docLink = document.createElement('div');\n",
              "          docLink.innerHTML = docLinkHtml;\n",
              "          element.appendChild(docLink);\n",
              "        }\n",
              "      </script>\n",
              "    </div>\n",
              "  </div>\n",
              "  "
            ]
          },
          "metadata": {}
        },
        {
          "output_type": "stream",
          "name": "stdout",
          "text": [
            "\n",
            "\n",
            "\n",
            "\n"
          ]
        }
      ],
      "source": [
        "#@title Comparison Table\n",
        "rows = ['Discrete Parameter Shift',\n",
        "          'Discrete Finite Difference',\n",
        "          'Discrete LCU', \n",
        "          'Discrete QNG',\n",
        "          'Discrete Newton Gradient',\n",
        "          #'Classical'\n",
        "          ]\n",
        "columns_g = [\"Iteration 25\", \"Iteration 50\", \"Iteration 75\", \"Iteration 100\"]\n",
        "iters = [25, 50, 75, 100]\n",
        "columns_s = [\"Loss\", \"Time(second)\"]\n",
        "problems = [\"Max-Cut\", \"Clique\", \"Binary Linear Programming\", \"Knapsack\"]\n",
        "for problemn in range(len(problems)):\n",
        "  df = pd.DataFrame([[psl[problemn][iters[0]], pst[problemn][iters[0]], psl[problemn][iters[1]],pst[problemn][iters[1]],psl[problemn][iters[2]],pst[problemn][iters[2]],psl[problemn][iters[3]],pst[problemn][iters[3]]],\n",
        "                    [fdl[problemn][iters[0]], fdt[problemn][iters[0]], fdl[problemn][iters[1]], fdt[problemn][iters[1]], fdl[problemn][iters[2]], fdt[problemn][iters[2]], fdl[problemn][iters[3]], fdt[problemn][iters[3]]],\n",
        "                    [lcul[problemn][iters[0]], lcut[problemn][iters[0]], lcul[problemn][iters[1]], lcut[problemn][iters[1]], lcul[problemn][iters[2]], lcut[problemn][iters[2]], lcul[problemn][iters[3]], lcut[problemn][iters[3]]],\n",
        "                    [qngl[problemn][iters[0]],qngt[problemn][iters[0]],qngl[problemn][iters[1]],qngt[problemn][iters[1]],qngl[problemn][iters[2]],qngt[problemn][iters[2]], qngl[problemn][iters[3]],qngt[problemn][iters[3]]],\n",
        "                    [qnwl[problemn][iters[0]],qnwt[problemn][iters[0]],qnwl[problemn][iters[1]],qnwt[problemn][iters[1]],qnwl[problemn][iters[2]],qnwt[problemn][iters[2]],qnwl[problemn][iters[3]],qnwt[problemn][iters[3]]],\n",
        "                    #[loss_plot_classical[5],classical_time_i[100],loss_plot_classical[200],classical_time_i[200],loss_plot_classical[300],classical_time_i[300], loss_plot_classical[400],classical_time_i[400], loss_plot_classical[500],classical_time_i[500]]\n",
        "                    ])\n",
        "\n",
        "  col_ix = pd.MultiIndex.from_product([columns_g, columns_s]) \n",
        "  row_ix = pd.MultiIndex.from_product([rows])\n",
        "  df = df.set_index(row_ix)\n",
        "  df.columns = col_ix\n",
        "  df[( 'Iteration 25','Loss')] = df[( 'Iteration 25','Loss')].map('{:.2e}'.format)\n",
        "  df[( 'Iteration 50','Loss')] = df[( 'Iteration 50','Loss')].map('{:.2e}'.format)\n",
        "  df[( 'Iteration 75','Loss')] = df[( 'Iteration 75','Loss')].map('{:.2e}'.format)\n",
        "  df[( 'Iteration 100','Loss')] = df[( 'Iteration 100','Loss')].map('{:.2e}'.format)\n",
        "  # df[( 'Iteration 500','Loss')] = df[( 'Iteration 500','Loss')].map('{:.2e}'.format)\n",
        "  print(f\"\\033[1m{problems[problemn]}\\033[0m\")\n",
        "  df_styled = df.round(2)\n",
        "  display(df_styled)\n",
        "  print(\"\\n\\n\\n\")"
      ]
    },
    {
      "cell_type": "markdown",
      "metadata": {
        "id": "yvG-o_OUTYm3"
      },
      "source": [
        "## Fixed epochs"
      ]
    },
    {
      "cell_type": "code",
      "execution_count": null,
      "metadata": {
        "id": "j4ETsKqKq4Yf",
        "colab": {
          "base_uri": "https://localhost:8080/",
          "height": 717
        },
        "outputId": "6ae09405-6a8c-4ddb-a7fc-ed47c91efbb3",
        "cellView": "form"
      },
      "outputs": [
        {
          "output_type": "display_data",
          "data": {
            "text/html": [
              "<html>\n",
              "<head><meta charset=\"utf-8\" /></head>\n",
              "<body>\n",
              "    <div>            <script src=\"https://cdnjs.cloudflare.com/ajax/libs/mathjax/2.7.5/MathJax.js?config=TeX-AMS-MML_SVG\"></script><script type=\"text/javascript\">if (window.MathJax) {MathJax.Hub.Config({SVG: {font: \"STIX-Web\"}});}</script>                <script type=\"text/javascript\">window.PlotlyConfig = {MathJaxConfig: 'local'};</script>\n",
              "        <script src=\"https://cdn.plot.ly/plotly-2.8.3.min.js\"></script>                <div id=\"9da3b290-8cb5-4e08-bd4d-377a08d947ea\" class=\"plotly-graph-div\" style=\"height:700px; width:1000px;\"></div>            <script type=\"text/javascript\">                                    window.PLOTLYENV=window.PLOTLYENV || {};                                    if (document.getElementById(\"9da3b290-8cb5-4e08-bd4d-377a08d947ea\")) {                    Plotly.newPlot(                        \"9da3b290-8cb5-4e08-bd4d-377a08d947ea\",                        [{\"line\":{\"color\":\"red\",\"width\":2},\"name\":\"Discrete Parameter Shift\",\"showlegend\":true,\"x\":[6,12,18,24,30],\"y\":[-2.935546875,-3.8388671875,-3.9326171875,-3.95703125,-3.8232421875],\"type\":\"scatter\",\"xaxis\":\"x\",\"yaxis\":\"y\"},{\"line\":{\"color\":\"green\",\"width\":2},\"mode\":\"lines\",\"name\":\"Discrete Finite Difference\",\"showlegend\":true,\"x\":[6,12,18,24,30],\"y\":[-1.9775390625,-3.0302734375,-2.830078125,-2.5068359375,-2.7509765625],\"type\":\"scatter\",\"xaxis\":\"x\",\"yaxis\":\"y\"},{\"line\":{\"color\":\"yellow\",\"width\":2},\"mode\":\"lines\",\"name\":\"Discrete LCU\",\"showlegend\":true,\"x\":[6,12,18,24,30],\"y\":[-2.9423828125,-3.4794921875,-3.935546875,-3.9638671875,-3.7392578125],\"type\":\"scatter\",\"xaxis\":\"x\",\"yaxis\":\"y\"},{\"line\":{\"color\":\"blue\",\"width\":2},\"mode\":\"lines\",\"name\":\"Discrete QNG\",\"showlegend\":true,\"x\":[6,12,18,24,30],\"y\":[-2.9462890625,-3.8515625,-3.9296875,-3.9287109375,-3.8193359375],\"type\":\"scatter\",\"xaxis\":\"x\",\"yaxis\":\"y\"},{\"line\":{\"color\":\"brown\",\"width\":2},\"mode\":\"lines\",\"name\":\"Discrete Newton Gradient\",\"showlegend\":true,\"x\":[6,12,18,24,30],\"y\":[-2.9912109375,-3.8740234375,-3.765625,-3.8046875,-3.7685546875],\"type\":\"scatter\",\"xaxis\":\"x\",\"yaxis\":\"y\"},{\"line\":{\"color\":\"red\",\"width\":2},\"name\":\"Discrete Parameter Shift\",\"showlegend\":false,\"x\":[6,12,18,24,30],\"y\":[-1.97412109375,-1.921875,-2.1357421875,-1.86669921875,-2.927734375],\"type\":\"scatter\",\"xaxis\":\"x2\",\"yaxis\":\"y2\"},{\"line\":{\"color\":\"green\",\"width\":2},\"mode\":\"lines\",\"name\":\"Discrete Finite Difference\",\"showlegend\":false,\"x\":[6,12,18,24,30],\"y\":[-0.27880859375,-0.240234375,-0.9365234375,-0.47509765625,-0.84619140625],\"type\":\"scatter\",\"xaxis\":\"x2\",\"yaxis\":\"y2\"},{\"line\":{\"color\":\"yellow\",\"width\":2},\"mode\":\"lines\",\"name\":\"Discrete LCU\",\"showlegend\":false,\"x\":[6,12,18,24,30],\"y\":[-1.8701171875,-2.6435546875,-2.56982421875,-2.75830078125,-2.6943359375],\"type\":\"scatter\",\"xaxis\":\"x2\",\"yaxis\":\"y2\"},{\"line\":{\"color\":\"blue\",\"width\":2},\"mode\":\"lines\",\"name\":\"Discrete QNG\",\"showlegend\":false,\"x\":[6,12,18,24,30],\"y\":[-1.99267578125,-1.921875,-2.32861328125,-1.96337890625,-2.888671875],\"type\":\"scatter\",\"xaxis\":\"x2\",\"yaxis\":\"y2\"},{\"line\":{\"color\":\"brown\",\"width\":2},\"mode\":\"lines\",\"name\":\"Discrete Newton Gradient\",\"showlegend\":false,\"x\":[6,12,18,24,30],\"y\":[-1.9541015625,-0.18212890625,-1.60791015625,-1.546875,-1.26953125],\"type\":\"scatter\",\"xaxis\":\"x2\",\"yaxis\":\"y2\"},{\"line\":{\"color\":\"red\",\"width\":2},\"name\":\"Discrete Parameter Shift\",\"showlegend\":false,\"x\":[6,12,18,24,30],\"y\":[321413.24169921875,201996.10107421875,217277.34228515625,216076.18310546875,220731.46923828125],\"type\":\"scatter\",\"xaxis\":\"x3\",\"yaxis\":\"y3\"},{\"line\":{\"color\":\"green\",\"width\":2},\"mode\":\"lines\",\"name\":\"Discrete Finite Difference\",\"showlegend\":false,\"x\":[6,12,18,24,30],\"y\":[538486.0043945312,429184.9462890625,434165.4482421875,443358.69677734375,373224.80419921875],\"type\":\"scatter\",\"xaxis\":\"x3\",\"yaxis\":\"y3\"},{\"line\":{\"color\":\"yellow\",\"width\":2},\"mode\":\"lines\",\"name\":\"Discrete LCU\",\"showlegend\":false,\"x\":[6,12,18,24,30],\"y\":[312694.47412109375,300178.73095703125,226869.15625,207172.87255859375,200586.91015625],\"type\":\"scatter\",\"xaxis\":\"x3\",\"yaxis\":\"y3\"},{\"line\":{\"color\":\"blue\",\"width\":2},\"mode\":\"lines\",\"name\":\"Discrete QNG\",\"showlegend\":false,\"x\":[6,12,18,24,30],\"y\":[315073.38427734375,201386.724609375,215575.19384765625,216776.3837890625,206314.44921875],\"type\":\"scatter\",\"xaxis\":\"x3\",\"yaxis\":\"y3\"},{\"line\":{\"color\":\"brown\",\"width\":2},\"mode\":\"lines\",\"name\":\"Discrete Newton Gradient\",\"showlegend\":false,\"x\":[6,12,18,24,30],\"y\":[352371.3857421875,387026.63720703125,480548.283203125,407106.734375,387682.85791015625],\"type\":\"scatter\",\"xaxis\":\"x3\",\"yaxis\":\"y3\"},{\"line\":{\"color\":\"red\",\"width\":2},\"name\":\"Discrete Parameter Shift\",\"showlegend\":false,\"x\":[6,12,18,24,30],\"y\":[2.646484375,-0.966796875,-1.3291015625,-2.373046875,-1.6044921875],\"type\":\"scatter\",\"xaxis\":\"x4\",\"yaxis\":\"y4\"},{\"line\":{\"color\":\"green\",\"width\":2},\"mode\":\"lines\",\"name\":\"Discrete Finite Difference\",\"showlegend\":false,\"x\":[6,12,18,24,30],\"y\":[9.7314453125,10.7705078125,6.7080078125,3.6181640625,3.5234375],\"type\":\"scatter\",\"xaxis\":\"x4\",\"yaxis\":\"y4\"},{\"line\":{\"color\":\"yellow\",\"width\":2},\"mode\":\"lines\",\"name\":\"Discrete LCU\",\"showlegend\":false,\"x\":[6,12,18,24,30],\"y\":[2.380859375,-0.2587890625,-2.361328125,-0.326171875,-1.7685546875],\"type\":\"scatter\",\"xaxis\":\"x4\",\"yaxis\":\"y4\"},{\"line\":{\"color\":\"blue\",\"width\":2},\"mode\":\"lines\",\"name\":\"Discrete QNG\",\"showlegend\":false,\"x\":[6,12,18,24,30],\"y\":[2.2705078125,-1.0205078125,-1.744140625,-2.294921875,-1.9228515625],\"type\":\"scatter\",\"xaxis\":\"x4\",\"yaxis\":\"y4\"},{\"line\":{\"color\":\"brown\",\"width\":2},\"mode\":\"lines\",\"name\":\"Discrete Newton Gradient\",\"showlegend\":false,\"x\":[6,12,18,24,30],\"y\":[2.4560546875,5.6748046875,5.3994140625,1.36328125,5.96875],\"type\":\"scatter\",\"xaxis\":\"x4\",\"yaxis\":\"y4\"}],                        {\"template\":{\"data\":{\"bar\":[{\"error_x\":{\"color\":\"#2a3f5f\"},\"error_y\":{\"color\":\"#2a3f5f\"},\"marker\":{\"line\":{\"color\":\"#E5ECF6\",\"width\":0.5},\"pattern\":{\"fillmode\":\"overlay\",\"size\":10,\"solidity\":0.2}},\"type\":\"bar\"}],\"barpolar\":[{\"marker\":{\"line\":{\"color\":\"#E5ECF6\",\"width\":0.5},\"pattern\":{\"fillmode\":\"overlay\",\"size\":10,\"solidity\":0.2}},\"type\":\"barpolar\"}],\"carpet\":[{\"aaxis\":{\"endlinecolor\":\"#2a3f5f\",\"gridcolor\":\"white\",\"linecolor\":\"white\",\"minorgridcolor\":\"white\",\"startlinecolor\":\"#2a3f5f\"},\"baxis\":{\"endlinecolor\":\"#2a3f5f\",\"gridcolor\":\"white\",\"linecolor\":\"white\",\"minorgridcolor\":\"white\",\"startlinecolor\":\"#2a3f5f\"},\"type\":\"carpet\"}],\"choropleth\":[{\"colorbar\":{\"outlinewidth\":0,\"ticks\":\"\"},\"type\":\"choropleth\"}],\"contour\":[{\"colorbar\":{\"outlinewidth\":0,\"ticks\":\"\"},\"colorscale\":[[0.0,\"#0d0887\"],[0.1111111111111111,\"#46039f\"],[0.2222222222222222,\"#7201a8\"],[0.3333333333333333,\"#9c179e\"],[0.4444444444444444,\"#bd3786\"],[0.5555555555555556,\"#d8576b\"],[0.6666666666666666,\"#ed7953\"],[0.7777777777777778,\"#fb9f3a\"],[0.8888888888888888,\"#fdca26\"],[1.0,\"#f0f921\"]],\"type\":\"contour\"}],\"contourcarpet\":[{\"colorbar\":{\"outlinewidth\":0,\"ticks\":\"\"},\"type\":\"contourcarpet\"}],\"heatmap\":[{\"colorbar\":{\"outlinewidth\":0,\"ticks\":\"\"},\"colorscale\":[[0.0,\"#0d0887\"],[0.1111111111111111,\"#46039f\"],[0.2222222222222222,\"#7201a8\"],[0.3333333333333333,\"#9c179e\"],[0.4444444444444444,\"#bd3786\"],[0.5555555555555556,\"#d8576b\"],[0.6666666666666666,\"#ed7953\"],[0.7777777777777778,\"#fb9f3a\"],[0.8888888888888888,\"#fdca26\"],[1.0,\"#f0f921\"]],\"type\":\"heatmap\"}],\"heatmapgl\":[{\"colorbar\":{\"outlinewidth\":0,\"ticks\":\"\"},\"colorscale\":[[0.0,\"#0d0887\"],[0.1111111111111111,\"#46039f\"],[0.2222222222222222,\"#7201a8\"],[0.3333333333333333,\"#9c179e\"],[0.4444444444444444,\"#bd3786\"],[0.5555555555555556,\"#d8576b\"],[0.6666666666666666,\"#ed7953\"],[0.7777777777777778,\"#fb9f3a\"],[0.8888888888888888,\"#fdca26\"],[1.0,\"#f0f921\"]],\"type\":\"heatmapgl\"}],\"histogram\":[{\"marker\":{\"pattern\":{\"fillmode\":\"overlay\",\"size\":10,\"solidity\":0.2}},\"type\":\"histogram\"}],\"histogram2d\":[{\"colorbar\":{\"outlinewidth\":0,\"ticks\":\"\"},\"colorscale\":[[0.0,\"#0d0887\"],[0.1111111111111111,\"#46039f\"],[0.2222222222222222,\"#7201a8\"],[0.3333333333333333,\"#9c179e\"],[0.4444444444444444,\"#bd3786\"],[0.5555555555555556,\"#d8576b\"],[0.6666666666666666,\"#ed7953\"],[0.7777777777777778,\"#fb9f3a\"],[0.8888888888888888,\"#fdca26\"],[1.0,\"#f0f921\"]],\"type\":\"histogram2d\"}],\"histogram2dcontour\":[{\"colorbar\":{\"outlinewidth\":0,\"ticks\":\"\"},\"colorscale\":[[0.0,\"#0d0887\"],[0.1111111111111111,\"#46039f\"],[0.2222222222222222,\"#7201a8\"],[0.3333333333333333,\"#9c179e\"],[0.4444444444444444,\"#bd3786\"],[0.5555555555555556,\"#d8576b\"],[0.6666666666666666,\"#ed7953\"],[0.7777777777777778,\"#fb9f3a\"],[0.8888888888888888,\"#fdca26\"],[1.0,\"#f0f921\"]],\"type\":\"histogram2dcontour\"}],\"mesh3d\":[{\"colorbar\":{\"outlinewidth\":0,\"ticks\":\"\"},\"type\":\"mesh3d\"}],\"parcoords\":[{\"line\":{\"colorbar\":{\"outlinewidth\":0,\"ticks\":\"\"}},\"type\":\"parcoords\"}],\"pie\":[{\"automargin\":true,\"type\":\"pie\"}],\"scatter\":[{\"marker\":{\"colorbar\":{\"outlinewidth\":0,\"ticks\":\"\"}},\"type\":\"scatter\"}],\"scatter3d\":[{\"line\":{\"colorbar\":{\"outlinewidth\":0,\"ticks\":\"\"}},\"marker\":{\"colorbar\":{\"outlinewidth\":0,\"ticks\":\"\"}},\"type\":\"scatter3d\"}],\"scattercarpet\":[{\"marker\":{\"colorbar\":{\"outlinewidth\":0,\"ticks\":\"\"}},\"type\":\"scattercarpet\"}],\"scattergeo\":[{\"marker\":{\"colorbar\":{\"outlinewidth\":0,\"ticks\":\"\"}},\"type\":\"scattergeo\"}],\"scattergl\":[{\"marker\":{\"colorbar\":{\"outlinewidth\":0,\"ticks\":\"\"}},\"type\":\"scattergl\"}],\"scattermapbox\":[{\"marker\":{\"colorbar\":{\"outlinewidth\":0,\"ticks\":\"\"}},\"type\":\"scattermapbox\"}],\"scatterpolar\":[{\"marker\":{\"colorbar\":{\"outlinewidth\":0,\"ticks\":\"\"}},\"type\":\"scatterpolar\"}],\"scatterpolargl\":[{\"marker\":{\"colorbar\":{\"outlinewidth\":0,\"ticks\":\"\"}},\"type\":\"scatterpolargl\"}],\"scatterternary\":[{\"marker\":{\"colorbar\":{\"outlinewidth\":0,\"ticks\":\"\"}},\"type\":\"scatterternary\"}],\"surface\":[{\"colorbar\":{\"outlinewidth\":0,\"ticks\":\"\"},\"colorscale\":[[0.0,\"#0d0887\"],[0.1111111111111111,\"#46039f\"],[0.2222222222222222,\"#7201a8\"],[0.3333333333333333,\"#9c179e\"],[0.4444444444444444,\"#bd3786\"],[0.5555555555555556,\"#d8576b\"],[0.6666666666666666,\"#ed7953\"],[0.7777777777777778,\"#fb9f3a\"],[0.8888888888888888,\"#fdca26\"],[1.0,\"#f0f921\"]],\"type\":\"surface\"}],\"table\":[{\"cells\":{\"fill\":{\"color\":\"#EBF0F8\"},\"line\":{\"color\":\"white\"}},\"header\":{\"fill\":{\"color\":\"#C8D4E3\"},\"line\":{\"color\":\"white\"}},\"type\":\"table\"}]},\"layout\":{\"annotationdefaults\":{\"arrowcolor\":\"#2a3f5f\",\"arrowhead\":0,\"arrowwidth\":1},\"autotypenumbers\":\"strict\",\"coloraxis\":{\"colorbar\":{\"outlinewidth\":0,\"ticks\":\"\"}},\"colorscale\":{\"diverging\":[[0,\"#8e0152\"],[0.1,\"#c51b7d\"],[0.2,\"#de77ae\"],[0.3,\"#f1b6da\"],[0.4,\"#fde0ef\"],[0.5,\"#f7f7f7\"],[0.6,\"#e6f5d0\"],[0.7,\"#b8e186\"],[0.8,\"#7fbc41\"],[0.9,\"#4d9221\"],[1,\"#276419\"]],\"sequential\":[[0.0,\"#0d0887\"],[0.1111111111111111,\"#46039f\"],[0.2222222222222222,\"#7201a8\"],[0.3333333333333333,\"#9c179e\"],[0.4444444444444444,\"#bd3786\"],[0.5555555555555556,\"#d8576b\"],[0.6666666666666666,\"#ed7953\"],[0.7777777777777778,\"#fb9f3a\"],[0.8888888888888888,\"#fdca26\"],[1.0,\"#f0f921\"]],\"sequentialminus\":[[0.0,\"#0d0887\"],[0.1111111111111111,\"#46039f\"],[0.2222222222222222,\"#7201a8\"],[0.3333333333333333,\"#9c179e\"],[0.4444444444444444,\"#bd3786\"],[0.5555555555555556,\"#d8576b\"],[0.6666666666666666,\"#ed7953\"],[0.7777777777777778,\"#fb9f3a\"],[0.8888888888888888,\"#fdca26\"],[1.0,\"#f0f921\"]]},\"colorway\":[\"#636efa\",\"#EF553B\",\"#00cc96\",\"#ab63fa\",\"#FFA15A\",\"#19d3f3\",\"#FF6692\",\"#B6E880\",\"#FF97FF\",\"#FECB52\"],\"font\":{\"color\":\"#2a3f5f\"},\"geo\":{\"bgcolor\":\"white\",\"lakecolor\":\"white\",\"landcolor\":\"#E5ECF6\",\"showlakes\":true,\"showland\":true,\"subunitcolor\":\"white\"},\"hoverlabel\":{\"align\":\"left\"},\"hovermode\":\"closest\",\"mapbox\":{\"style\":\"light\"},\"paper_bgcolor\":\"white\",\"plot_bgcolor\":\"#E5ECF6\",\"polar\":{\"angularaxis\":{\"gridcolor\":\"white\",\"linecolor\":\"white\",\"ticks\":\"\"},\"bgcolor\":\"#E5ECF6\",\"radialaxis\":{\"gridcolor\":\"white\",\"linecolor\":\"white\",\"ticks\":\"\"}},\"scene\":{\"xaxis\":{\"backgroundcolor\":\"#E5ECF6\",\"gridcolor\":\"white\",\"gridwidth\":2,\"linecolor\":\"white\",\"showbackground\":true,\"ticks\":\"\",\"zerolinecolor\":\"white\"},\"yaxis\":{\"backgroundcolor\":\"#E5ECF6\",\"gridcolor\":\"white\",\"gridwidth\":2,\"linecolor\":\"white\",\"showbackground\":true,\"ticks\":\"\",\"zerolinecolor\":\"white\"},\"zaxis\":{\"backgroundcolor\":\"#E5ECF6\",\"gridcolor\":\"white\",\"gridwidth\":2,\"linecolor\":\"white\",\"showbackground\":true,\"ticks\":\"\",\"zerolinecolor\":\"white\"}},\"shapedefaults\":{\"line\":{\"color\":\"#2a3f5f\"}},\"ternary\":{\"aaxis\":{\"gridcolor\":\"white\",\"linecolor\":\"white\",\"ticks\":\"\"},\"baxis\":{\"gridcolor\":\"white\",\"linecolor\":\"white\",\"ticks\":\"\"},\"bgcolor\":\"#E5ECF6\",\"caxis\":{\"gridcolor\":\"white\",\"linecolor\":\"white\",\"ticks\":\"\"}},\"title\":{\"x\":0.05},\"xaxis\":{\"automargin\":true,\"gridcolor\":\"white\",\"linecolor\":\"white\",\"ticks\":\"\",\"title\":{\"standoff\":15},\"zerolinecolor\":\"white\",\"zerolinewidth\":2},\"yaxis\":{\"automargin\":true,\"gridcolor\":\"white\",\"linecolor\":\"white\",\"ticks\":\"\",\"title\":{\"standoff\":15},\"zerolinecolor\":\"white\",\"zerolinewidth\":2}}},\"xaxis\":{\"anchor\":\"y\",\"domain\":[0.0,0.45],\"title\":{\"text\":\"The Number of parameterized gate\"}},\"yaxis\":{\"anchor\":\"x\",\"domain\":[0.625,1.0],\"title\":{\"text\":\"Loss\"}},\"xaxis2\":{\"anchor\":\"y2\",\"domain\":[0.55,1.0]},\"yaxis2\":{\"anchor\":\"x2\",\"domain\":[0.625,1.0]},\"xaxis3\":{\"anchor\":\"y3\",\"domain\":[0.0,0.45]},\"yaxis3\":{\"anchor\":\"x3\",\"domain\":[0.0,0.375]},\"xaxis4\":{\"anchor\":\"y4\",\"domain\":[0.55,1.0]},\"yaxis4\":{\"anchor\":\"x4\",\"domain\":[0.0,0.375]},\"annotations\":[{\"font\":{\"size\":16},\"showarrow\":false,\"text\":\"Max-Cut\",\"x\":0.225,\"xanchor\":\"center\",\"xref\":\"paper\",\"y\":1.0,\"yanchor\":\"bottom\",\"yref\":\"paper\"},{\"font\":{\"size\":16},\"showarrow\":false,\"text\":\"Clique\",\"x\":0.775,\"xanchor\":\"center\",\"xref\":\"paper\",\"y\":1.0,\"yanchor\":\"bottom\",\"yref\":\"paper\"},{\"font\":{\"size\":16},\"showarrow\":false,\"text\":\"Binary Linear Programming\",\"x\":0.225,\"xanchor\":\"center\",\"xref\":\"paper\",\"y\":0.375,\"yanchor\":\"bottom\",\"yref\":\"paper\"},{\"font\":{\"size\":16},\"showarrow\":false,\"text\":\"Knapsack\",\"x\":0.775,\"xanchor\":\"center\",\"xref\":\"paper\",\"y\":0.375,\"yanchor\":\"bottom\",\"yref\":\"paper\"}],\"title\":{\"text\":\"Loss Comparison  <br><sup>Fixed epochs (10 epochs).</sup>\"},\"autosize\":false,\"width\":1000,\"height\":700},                        {\"responsive\": true}                    ).then(function(){\n",
              "                            \n",
              "var gd = document.getElementById('9da3b290-8cb5-4e08-bd4d-377a08d947ea');\n",
              "var x = new MutationObserver(function (mutations, observer) {{\n",
              "        var display = window.getComputedStyle(gd).display;\n",
              "        if (!display || display === 'none') {{\n",
              "            console.log([gd, 'removed!']);\n",
              "            Plotly.purge(gd);\n",
              "            observer.disconnect();\n",
              "        }}\n",
              "}});\n",
              "\n",
              "// Listen for the removal of the full notebook cells\n",
              "var notebookContainer = gd.closest('#notebook-container');\n",
              "if (notebookContainer) {{\n",
              "    x.observe(notebookContainer, {childList: true});\n",
              "}}\n",
              "\n",
              "// Listen for the clearing of the current output cell\n",
              "var outputEl = gd.closest('.output');\n",
              "if (outputEl) {{\n",
              "    x.observe(outputEl, {childList: true});\n",
              "}}\n",
              "\n",
              "                        })                };                            </script>        </div>\n",
              "</body>\n",
              "</html>"
            ]
          },
          "metadata": {}
        }
      ],
      "source": [
        "#@title Loss Comparison \n",
        "#@markdown Fixed epochs (10 epochs).\n",
        "from plotly.subplots import make_subplots\n",
        "\n",
        "x = [step*3 for step in steps]\n",
        "row = 2\n",
        "col = 2\n",
        "fig = make_subplots(rows=row, cols=col, subplot_titles=(\"Max-Cut\",\"Clique\",\"Binary Linear Programming\", \"Knapsack\"))\n",
        "show = True\n",
        "for i in range(row):\n",
        "  for j in range(col):\n",
        "    problemn = i*col+j\n",
        "    if problemn>0:\n",
        "      show = False\n",
        "    dv = pd.DataFrame({\"#Param Gates\":x, \"Loss\":pslc[problemn]})\n",
        "    dv_fd = pd.DataFrame({\"#Param Gates\":x, \"Loss\":fdlc[problemn]})\n",
        "    dv_lcu = pd.DataFrame({\"#Param Gates\":x, \"Loss\":lculc[problemn]})\n",
        "    dv_qng = pd.DataFrame({\"#Param Gates\":x, \"Loss\":qnglc[problemn]})\n",
        "    dv_newton = pd.DataFrame({\"#Param Gates\":x, \"Loss\":qnwlc[problemn]})\n",
        "\n",
        "    # dv_cls = pd.DataFrame({\"#Param Gates\":range(len(loss_plot_classical)), \"Loss\":loss_plot_classical})\n",
        "\n",
        "    fig.add_trace(go.Scatter(x=dv[\"#Param Gates\"], y=dv[\"Loss\"], name=\"Discrete Parameter Shift\", line = dict(width=2), line_color='red', showlegend = show), row=i+1, col=j+1)\n",
        "    fig.add_trace(go.Scatter(x=dv_fd[\"#Param Gates\"], y=dv_fd[\"Loss\"], mode=\"lines\", name=\"Discrete Finite Difference\", line = dict(width=2), line_color='green', showlegend = show), row=i+1, col=j+1)\n",
        "    fig.add_trace(go.Scatter(x=dv_lcu[\"#Param Gates\"], y=dv_lcu[\"Loss\"], mode=\"lines\", name=\"Discrete LCU\", line = dict(width=2), line_color='yellow', showlegend = show), row=i+1, col=j+1)\n",
        "    fig.add_trace(go.Scatter(x=dv_qng[\"#Param Gates\"], y=dv_qng[\"Loss\"], mode=\"lines\", name=\"Discrete QNG\", line = dict(width=2), line_color='blue', showlegend = show), row=i+1, col=j+1)\n",
        "    fig.add_trace(go.Scatter(x=dv_newton[\"#Param Gates\"], y=dv_newton[\"Loss\"], mode=\"lines\", name=\"Discrete Newton Gradient\", line = dict(width=2), line_color='brown', showlegend = show), row=i+1, col=j+1)\n",
        "\n",
        "    # fig.add_trace(go.Scatter(x=dv_cls[\"#Param Gates\"], y=dv_cls[\"Loss\"], mode=\"lines\", name=\"Classical\"))\n",
        "\n",
        "\n",
        "fig.update_layout(title=\"Loss Comparison  <br><sup>Fixed epochs (10 epochs).</sup>\",\n",
        "                  xaxis_title=\"The Number of parameterized gate\",\n",
        "                  yaxis_title=\"Loss\", autosize=False,\n",
        "                  width=1000,\n",
        "                  height=700)\n",
        "plotly.offline.plot(fig, filename='loss_fixepoch.html')\n",
        "fig.show()"
      ]
    },
    {
      "cell_type": "code",
      "source": [
        "with open('sampling_pslc.pk', 'wb') as fp:\n",
        "    pickle.dump(pslc, fp)\n",
        "with open('sampling_fdlc.pk', 'wb') as fp:\n",
        "    pickle.dump(fdlc, fp)\n",
        "with open('sampling_lculc.pk', 'wb') as fp:\n",
        "    pickle.dump(lculc, fp)\n",
        "with open('sampling_qnglc.pk', 'wb') as fp:\n",
        "    pickle.dump(qnglc, fp)\n",
        "with open('sampling_qnwlc.pk', 'wb') as fp:\n",
        "    pickle.dump(qnwlc, fp)"
      ],
      "metadata": {
        "id": "naSjgwWzw8Wq"
      },
      "execution_count": null,
      "outputs": []
    },
    {
      "cell_type": "code",
      "execution_count": null,
      "metadata": {
        "id": "S-MBnDy8ta7l",
        "colab": {
          "base_uri": "https://localhost:8080/",
          "height": 717
        },
        "outputId": "df42ecf7-7be3-4673-c226-6528ec32b49d",
        "cellView": "form"
      },
      "outputs": [
        {
          "output_type": "display_data",
          "data": {
            "text/html": [
              "<html>\n",
              "<head><meta charset=\"utf-8\" /></head>\n",
              "<body>\n",
              "    <div>            <script src=\"https://cdnjs.cloudflare.com/ajax/libs/mathjax/2.7.5/MathJax.js?config=TeX-AMS-MML_SVG\"></script><script type=\"text/javascript\">if (window.MathJax) {MathJax.Hub.Config({SVG: {font: \"STIX-Web\"}});}</script>                <script type=\"text/javascript\">window.PlotlyConfig = {MathJaxConfig: 'local'};</script>\n",
              "        <script src=\"https://cdn.plot.ly/plotly-2.8.3.min.js\"></script>                <div id=\"f0ee23ba-a1f9-4a52-9481-5a6b816da40f\" class=\"plotly-graph-div\" style=\"height:700px; width:1000px;\"></div>            <script type=\"text/javascript\">                                    window.PLOTLYENV=window.PLOTLYENV || {};                                    if (document.getElementById(\"f0ee23ba-a1f9-4a52-9481-5a6b816da40f\")) {                    Plotly.newPlot(                        \"f0ee23ba-a1f9-4a52-9481-5a6b816da40f\",                        [{\"line\":{\"color\":\"red\",\"width\":2},\"name\":\"Discrete Parameter Shift\",\"showlegend\":true,\"x\":[6,12,18,24,30],\"y\":[22.309084177017212,78.73578643798828,172.6569685935974,298.25012040138245,465.73544549942017],\"type\":\"scatter\",\"xaxis\":\"x\",\"yaxis\":\"y\"},{\"line\":{\"color\":\"green\",\"width\":2},\"mode\":\"lines\",\"name\":\"Discrete Finite Difference\",\"showlegend\":true,\"x\":[6,12,18,24,30],\"y\":[20.009630918502808,72.98221373558044,156.6753454208374,276.8023772239685,425.78015184402466],\"type\":\"scatter\",\"xaxis\":\"x\",\"yaxis\":\"y\"},{\"line\":{\"color\":\"yellow\",\"width\":2},\"mode\":\"lines\",\"name\":\"Discrete LCU\",\"showlegend\":true,\"x\":[6,12,18,24,30],\"y\":[16.0243079662323,54.134782791137695,120.69207239151001,220.30233764648438,330.31161308288574],\"type\":\"scatter\",\"xaxis\":\"x\",\"yaxis\":\"y\"},{\"line\":{\"color\":\"blue\",\"width\":2},\"mode\":\"lines\",\"name\":\"Discrete QNG\",\"showlegend\":true,\"x\":[6,12,18,24,30],\"y\":[22.57975673675537,82.8981864452362,177.93886423110962,304.9873583316803,474.5495340824127],\"type\":\"scatter\",\"xaxis\":\"x\",\"yaxis\":\"y\"},{\"line\":{\"color\":\"brown\",\"width\":2},\"mode\":\"lines\",\"name\":\"Discrete Newton Gradient\",\"showlegend\":true,\"x\":[6,12,18,24,30],\"y\":[28.758671522140503,102.88721632957458,224.0311529636383,393.00959157943726,615.734228849411],\"type\":\"scatter\",\"xaxis\":\"x\",\"yaxis\":\"y\"},{\"line\":{\"color\":\"red\",\"width\":2},\"name\":\"Discrete Parameter Shift\",\"showlegend\":false,\"x\":[6,12,18,24,30],\"y\":[24.15841293334961,85.23525953292847,185.99075937271118,332.0022463798523,512.7570827007294],\"type\":\"scatter\",\"xaxis\":\"x2\",\"yaxis\":\"y2\"},{\"line\":{\"color\":\"green\",\"width\":2},\"mode\":\"lines\",\"name\":\"Discrete Finite Difference\",\"showlegend\":false,\"x\":[6,12,18,24,30],\"y\":[23.18470335006714,84.97719216346741,185.22188234329224,325.96412444114685,506.3863410949707],\"type\":\"scatter\",\"xaxis\":\"x2\",\"yaxis\":\"y2\"},{\"line\":{\"color\":\"yellow\",\"width\":2},\"mode\":\"lines\",\"name\":\"Discrete LCU\",\"showlegend\":false,\"x\":[6,12,18,24,30],\"y\":[18.338201761245728,62.32652258872986,137.90758657455444,245.28770399093628,388.6205143928528],\"type\":\"scatter\",\"xaxis\":\"x2\",\"yaxis\":\"y2\"},{\"line\":{\"color\":\"blue\",\"width\":2},\"mode\":\"lines\",\"name\":\"Discrete QNG\",\"showlegend\":false,\"x\":[6,12,18,24,30],\"y\":[25.140400648117065,91.85673999786377,200.40275621414185,353.1521363258362,552.7836310863495],\"type\":\"scatter\",\"xaxis\":\"x2\",\"yaxis\":\"y2\"},{\"line\":{\"color\":\"brown\",\"width\":2},\"mode\":\"lines\",\"name\":\"Discrete Newton Gradient\",\"showlegend\":false,\"x\":[6,12,18,24,30],\"y\":[32.323484897613525,117.45354127883911,252.28929543495178,441.260036945343,685.420655965805],\"type\":\"scatter\",\"xaxis\":\"x2\",\"yaxis\":\"y2\"},{\"line\":{\"color\":\"red\",\"width\":2},\"name\":\"Discrete Parameter Shift\",\"showlegend\":false,\"x\":[6,12,18,24,30],\"y\":[23.35925531387329,84.50956749916077,187.38859224319458,326.1370339393616,505.0138566493988],\"type\":\"scatter\",\"xaxis\":\"x3\",\"yaxis\":\"y3\"},{\"line\":{\"color\":\"green\",\"width\":2},\"mode\":\"lines\",\"name\":\"Discrete Finite Difference\",\"showlegend\":false,\"x\":[6,12,18,24,30],\"y\":[23.087037086486816,84.75020027160645,184.49814748764038,323.97243475914,506.7614552974701],\"type\":\"scatter\",\"xaxis\":\"x3\",\"yaxis\":\"y3\"},{\"line\":{\"color\":\"yellow\",\"width\":2},\"mode\":\"lines\",\"name\":\"Discrete LCU\",\"showlegend\":false,\"x\":[6,12,18,24,30],\"y\":[18.15423607826233,67.61725401878357,154.15426874160767,259.4749159812927,406.34096026420593],\"type\":\"scatter\",\"xaxis\":\"x3\",\"yaxis\":\"y3\"},{\"line\":{\"color\":\"blue\",\"width\":2},\"mode\":\"lines\",\"name\":\"Discrete QNG\",\"showlegend\":false,\"x\":[6,12,18,24,30],\"y\":[25.262202501296997,91.17862701416016,201.7922878265381,355.0598683357239,553.4934628009796],\"type\":\"scatter\",\"xaxis\":\"x3\",\"yaxis\":\"y3\"},{\"line\":{\"color\":\"brown\",\"width\":2},\"mode\":\"lines\",\"name\":\"Discrete Newton Gradient\",\"showlegend\":false,\"x\":[6,12,18,24,30],\"y\":[32.00133156776428,114.24229073524475,250.7494843006134,439.09620094299316,693.9473147392273],\"type\":\"scatter\",\"xaxis\":\"x3\",\"yaxis\":\"y3\"},{\"line\":{\"color\":\"red\",\"width\":2},\"name\":\"Discrete Parameter Shift\",\"showlegend\":false,\"x\":[6,12,18,24,30],\"y\":[30.01456618309021,110.40356636047363,242.01545691490173,427.2213158607483,669.6575937271118],\"type\":\"scatter\",\"xaxis\":\"x4\",\"yaxis\":\"y4\"},{\"line\":{\"color\":\"green\",\"width\":2},\"mode\":\"lines\",\"name\":\"Discrete Finite Difference\",\"showlegend\":false,\"x\":[6,12,18,24,30],\"y\":[30.142226696014404,111.1979808807373,242.21134066581726,430.40644812583923,778.1398394107819],\"type\":\"scatter\",\"xaxis\":\"x4\",\"yaxis\":\"y4\"},{\"line\":{\"color\":\"yellow\",\"width\":2},\"mode\":\"lines\",\"name\":\"Discrete LCU\",\"showlegend\":false,\"x\":[6,12,18,24,30],\"y\":[21.52519178390503,78.89777565002441,173.8609356880188,309.7230408191681,477.68394207954407],\"type\":\"scatter\",\"xaxis\":\"x4\",\"yaxis\":\"y4\"},{\"line\":{\"color\":\"blue\",\"width\":2},\"mode\":\"lines\",\"name\":\"Discrete QNG\",\"showlegend\":false,\"x\":[6,12,18,24,30],\"y\":[32.239654302597046,118.74908924102783,259.9752674102783,457.17942214012146,776.8929419517517],\"type\":\"scatter\",\"xaxis\":\"x4\",\"yaxis\":\"y4\"},{\"line\":{\"color\":\"brown\",\"width\":2},\"mode\":\"lines\",\"name\":\"Discrete Newton Gradient\",\"showlegend\":false,\"x\":[6,12,18,24,30],\"y\":[40.59495782852173,143.8031930923462,310.7927978038788,555.2927131652832,859.9461212158203],\"type\":\"scatter\",\"xaxis\":\"x4\",\"yaxis\":\"y4\"}],                        {\"template\":{\"data\":{\"bar\":[{\"error_x\":{\"color\":\"#2a3f5f\"},\"error_y\":{\"color\":\"#2a3f5f\"},\"marker\":{\"line\":{\"color\":\"#E5ECF6\",\"width\":0.5},\"pattern\":{\"fillmode\":\"overlay\",\"size\":10,\"solidity\":0.2}},\"type\":\"bar\"}],\"barpolar\":[{\"marker\":{\"line\":{\"color\":\"#E5ECF6\",\"width\":0.5},\"pattern\":{\"fillmode\":\"overlay\",\"size\":10,\"solidity\":0.2}},\"type\":\"barpolar\"}],\"carpet\":[{\"aaxis\":{\"endlinecolor\":\"#2a3f5f\",\"gridcolor\":\"white\",\"linecolor\":\"white\",\"minorgridcolor\":\"white\",\"startlinecolor\":\"#2a3f5f\"},\"baxis\":{\"endlinecolor\":\"#2a3f5f\",\"gridcolor\":\"white\",\"linecolor\":\"white\",\"minorgridcolor\":\"white\",\"startlinecolor\":\"#2a3f5f\"},\"type\":\"carpet\"}],\"choropleth\":[{\"colorbar\":{\"outlinewidth\":0,\"ticks\":\"\"},\"type\":\"choropleth\"}],\"contour\":[{\"colorbar\":{\"outlinewidth\":0,\"ticks\":\"\"},\"colorscale\":[[0.0,\"#0d0887\"],[0.1111111111111111,\"#46039f\"],[0.2222222222222222,\"#7201a8\"],[0.3333333333333333,\"#9c179e\"],[0.4444444444444444,\"#bd3786\"],[0.5555555555555556,\"#d8576b\"],[0.6666666666666666,\"#ed7953\"],[0.7777777777777778,\"#fb9f3a\"],[0.8888888888888888,\"#fdca26\"],[1.0,\"#f0f921\"]],\"type\":\"contour\"}],\"contourcarpet\":[{\"colorbar\":{\"outlinewidth\":0,\"ticks\":\"\"},\"type\":\"contourcarpet\"}],\"heatmap\":[{\"colorbar\":{\"outlinewidth\":0,\"ticks\":\"\"},\"colorscale\":[[0.0,\"#0d0887\"],[0.1111111111111111,\"#46039f\"],[0.2222222222222222,\"#7201a8\"],[0.3333333333333333,\"#9c179e\"],[0.4444444444444444,\"#bd3786\"],[0.5555555555555556,\"#d8576b\"],[0.6666666666666666,\"#ed7953\"],[0.7777777777777778,\"#fb9f3a\"],[0.8888888888888888,\"#fdca26\"],[1.0,\"#f0f921\"]],\"type\":\"heatmap\"}],\"heatmapgl\":[{\"colorbar\":{\"outlinewidth\":0,\"ticks\":\"\"},\"colorscale\":[[0.0,\"#0d0887\"],[0.1111111111111111,\"#46039f\"],[0.2222222222222222,\"#7201a8\"],[0.3333333333333333,\"#9c179e\"],[0.4444444444444444,\"#bd3786\"],[0.5555555555555556,\"#d8576b\"],[0.6666666666666666,\"#ed7953\"],[0.7777777777777778,\"#fb9f3a\"],[0.8888888888888888,\"#fdca26\"],[1.0,\"#f0f921\"]],\"type\":\"heatmapgl\"}],\"histogram\":[{\"marker\":{\"pattern\":{\"fillmode\":\"overlay\",\"size\":10,\"solidity\":0.2}},\"type\":\"histogram\"}],\"histogram2d\":[{\"colorbar\":{\"outlinewidth\":0,\"ticks\":\"\"},\"colorscale\":[[0.0,\"#0d0887\"],[0.1111111111111111,\"#46039f\"],[0.2222222222222222,\"#7201a8\"],[0.3333333333333333,\"#9c179e\"],[0.4444444444444444,\"#bd3786\"],[0.5555555555555556,\"#d8576b\"],[0.6666666666666666,\"#ed7953\"],[0.7777777777777778,\"#fb9f3a\"],[0.8888888888888888,\"#fdca26\"],[1.0,\"#f0f921\"]],\"type\":\"histogram2d\"}],\"histogram2dcontour\":[{\"colorbar\":{\"outlinewidth\":0,\"ticks\":\"\"},\"colorscale\":[[0.0,\"#0d0887\"],[0.1111111111111111,\"#46039f\"],[0.2222222222222222,\"#7201a8\"],[0.3333333333333333,\"#9c179e\"],[0.4444444444444444,\"#bd3786\"],[0.5555555555555556,\"#d8576b\"],[0.6666666666666666,\"#ed7953\"],[0.7777777777777778,\"#fb9f3a\"],[0.8888888888888888,\"#fdca26\"],[1.0,\"#f0f921\"]],\"type\":\"histogram2dcontour\"}],\"mesh3d\":[{\"colorbar\":{\"outlinewidth\":0,\"ticks\":\"\"},\"type\":\"mesh3d\"}],\"parcoords\":[{\"line\":{\"colorbar\":{\"outlinewidth\":0,\"ticks\":\"\"}},\"type\":\"parcoords\"}],\"pie\":[{\"automargin\":true,\"type\":\"pie\"}],\"scatter\":[{\"marker\":{\"colorbar\":{\"outlinewidth\":0,\"ticks\":\"\"}},\"type\":\"scatter\"}],\"scatter3d\":[{\"line\":{\"colorbar\":{\"outlinewidth\":0,\"ticks\":\"\"}},\"marker\":{\"colorbar\":{\"outlinewidth\":0,\"ticks\":\"\"}},\"type\":\"scatter3d\"}],\"scattercarpet\":[{\"marker\":{\"colorbar\":{\"outlinewidth\":0,\"ticks\":\"\"}},\"type\":\"scattercarpet\"}],\"scattergeo\":[{\"marker\":{\"colorbar\":{\"outlinewidth\":0,\"ticks\":\"\"}},\"type\":\"scattergeo\"}],\"scattergl\":[{\"marker\":{\"colorbar\":{\"outlinewidth\":0,\"ticks\":\"\"}},\"type\":\"scattergl\"}],\"scattermapbox\":[{\"marker\":{\"colorbar\":{\"outlinewidth\":0,\"ticks\":\"\"}},\"type\":\"scattermapbox\"}],\"scatterpolar\":[{\"marker\":{\"colorbar\":{\"outlinewidth\":0,\"ticks\":\"\"}},\"type\":\"scatterpolar\"}],\"scatterpolargl\":[{\"marker\":{\"colorbar\":{\"outlinewidth\":0,\"ticks\":\"\"}},\"type\":\"scatterpolargl\"}],\"scatterternary\":[{\"marker\":{\"colorbar\":{\"outlinewidth\":0,\"ticks\":\"\"}},\"type\":\"scatterternary\"}],\"surface\":[{\"colorbar\":{\"outlinewidth\":0,\"ticks\":\"\"},\"colorscale\":[[0.0,\"#0d0887\"],[0.1111111111111111,\"#46039f\"],[0.2222222222222222,\"#7201a8\"],[0.3333333333333333,\"#9c179e\"],[0.4444444444444444,\"#bd3786\"],[0.5555555555555556,\"#d8576b\"],[0.6666666666666666,\"#ed7953\"],[0.7777777777777778,\"#fb9f3a\"],[0.8888888888888888,\"#fdca26\"],[1.0,\"#f0f921\"]],\"type\":\"surface\"}],\"table\":[{\"cells\":{\"fill\":{\"color\":\"#EBF0F8\"},\"line\":{\"color\":\"white\"}},\"header\":{\"fill\":{\"color\":\"#C8D4E3\"},\"line\":{\"color\":\"white\"}},\"type\":\"table\"}]},\"layout\":{\"annotationdefaults\":{\"arrowcolor\":\"#2a3f5f\",\"arrowhead\":0,\"arrowwidth\":1},\"autotypenumbers\":\"strict\",\"coloraxis\":{\"colorbar\":{\"outlinewidth\":0,\"ticks\":\"\"}},\"colorscale\":{\"diverging\":[[0,\"#8e0152\"],[0.1,\"#c51b7d\"],[0.2,\"#de77ae\"],[0.3,\"#f1b6da\"],[0.4,\"#fde0ef\"],[0.5,\"#f7f7f7\"],[0.6,\"#e6f5d0\"],[0.7,\"#b8e186\"],[0.8,\"#7fbc41\"],[0.9,\"#4d9221\"],[1,\"#276419\"]],\"sequential\":[[0.0,\"#0d0887\"],[0.1111111111111111,\"#46039f\"],[0.2222222222222222,\"#7201a8\"],[0.3333333333333333,\"#9c179e\"],[0.4444444444444444,\"#bd3786\"],[0.5555555555555556,\"#d8576b\"],[0.6666666666666666,\"#ed7953\"],[0.7777777777777778,\"#fb9f3a\"],[0.8888888888888888,\"#fdca26\"],[1.0,\"#f0f921\"]],\"sequentialminus\":[[0.0,\"#0d0887\"],[0.1111111111111111,\"#46039f\"],[0.2222222222222222,\"#7201a8\"],[0.3333333333333333,\"#9c179e\"],[0.4444444444444444,\"#bd3786\"],[0.5555555555555556,\"#d8576b\"],[0.6666666666666666,\"#ed7953\"],[0.7777777777777778,\"#fb9f3a\"],[0.8888888888888888,\"#fdca26\"],[1.0,\"#f0f921\"]]},\"colorway\":[\"#636efa\",\"#EF553B\",\"#00cc96\",\"#ab63fa\",\"#FFA15A\",\"#19d3f3\",\"#FF6692\",\"#B6E880\",\"#FF97FF\",\"#FECB52\"],\"font\":{\"color\":\"#2a3f5f\"},\"geo\":{\"bgcolor\":\"white\",\"lakecolor\":\"white\",\"landcolor\":\"#E5ECF6\",\"showlakes\":true,\"showland\":true,\"subunitcolor\":\"white\"},\"hoverlabel\":{\"align\":\"left\"},\"hovermode\":\"closest\",\"mapbox\":{\"style\":\"light\"},\"paper_bgcolor\":\"white\",\"plot_bgcolor\":\"#E5ECF6\",\"polar\":{\"angularaxis\":{\"gridcolor\":\"white\",\"linecolor\":\"white\",\"ticks\":\"\"},\"bgcolor\":\"#E5ECF6\",\"radialaxis\":{\"gridcolor\":\"white\",\"linecolor\":\"white\",\"ticks\":\"\"}},\"scene\":{\"xaxis\":{\"backgroundcolor\":\"#E5ECF6\",\"gridcolor\":\"white\",\"gridwidth\":2,\"linecolor\":\"white\",\"showbackground\":true,\"ticks\":\"\",\"zerolinecolor\":\"white\"},\"yaxis\":{\"backgroundcolor\":\"#E5ECF6\",\"gridcolor\":\"white\",\"gridwidth\":2,\"linecolor\":\"white\",\"showbackground\":true,\"ticks\":\"\",\"zerolinecolor\":\"white\"},\"zaxis\":{\"backgroundcolor\":\"#E5ECF6\",\"gridcolor\":\"white\",\"gridwidth\":2,\"linecolor\":\"white\",\"showbackground\":true,\"ticks\":\"\",\"zerolinecolor\":\"white\"}},\"shapedefaults\":{\"line\":{\"color\":\"#2a3f5f\"}},\"ternary\":{\"aaxis\":{\"gridcolor\":\"white\",\"linecolor\":\"white\",\"ticks\":\"\"},\"baxis\":{\"gridcolor\":\"white\",\"linecolor\":\"white\",\"ticks\":\"\"},\"bgcolor\":\"#E5ECF6\",\"caxis\":{\"gridcolor\":\"white\",\"linecolor\":\"white\",\"ticks\":\"\"}},\"title\":{\"x\":0.05},\"xaxis\":{\"automargin\":true,\"gridcolor\":\"white\",\"linecolor\":\"white\",\"ticks\":\"\",\"title\":{\"standoff\":15},\"zerolinecolor\":\"white\",\"zerolinewidth\":2},\"yaxis\":{\"automargin\":true,\"gridcolor\":\"white\",\"linecolor\":\"white\",\"ticks\":\"\",\"title\":{\"standoff\":15},\"zerolinecolor\":\"white\",\"zerolinewidth\":2}}},\"xaxis\":{\"anchor\":\"y\",\"domain\":[0.0,0.45],\"title\":{\"text\":\"The Number of parameterized gate\"}},\"yaxis\":{\"anchor\":\"x\",\"domain\":[0.625,1.0],\"title\":{\"text\":\"Time (Sec)\"}},\"xaxis2\":{\"anchor\":\"y2\",\"domain\":[0.55,1.0]},\"yaxis2\":{\"anchor\":\"x2\",\"domain\":[0.625,1.0]},\"xaxis3\":{\"anchor\":\"y3\",\"domain\":[0.0,0.45]},\"yaxis3\":{\"anchor\":\"x3\",\"domain\":[0.0,0.375]},\"xaxis4\":{\"anchor\":\"y4\",\"domain\":[0.55,1.0]},\"yaxis4\":{\"anchor\":\"x4\",\"domain\":[0.0,0.375]},\"annotations\":[{\"font\":{\"size\":16},\"showarrow\":false,\"text\":\"Max-Cut\",\"x\":0.225,\"xanchor\":\"center\",\"xref\":\"paper\",\"y\":1.0,\"yanchor\":\"bottom\",\"yref\":\"paper\"},{\"font\":{\"size\":16},\"showarrow\":false,\"text\":\"Clique\",\"x\":0.775,\"xanchor\":\"center\",\"xref\":\"paper\",\"y\":1.0,\"yanchor\":\"bottom\",\"yref\":\"paper\"},{\"font\":{\"size\":16},\"showarrow\":false,\"text\":\"Binary Linear Programming\",\"x\":0.225,\"xanchor\":\"center\",\"xref\":\"paper\",\"y\":0.375,\"yanchor\":\"bottom\",\"yref\":\"paper\"},{\"font\":{\"size\":16},\"showarrow\":false,\"text\":\"Knapsack\",\"x\":0.775,\"xanchor\":\"center\",\"xref\":\"paper\",\"y\":0.375,\"yanchor\":\"bottom\",\"yref\":\"paper\"}],\"title\":{\"text\":\"Time Comparison  <br><sup>Fixed epochs (10 epochs).</sup>\"},\"autosize\":false,\"width\":1000,\"height\":700},                        {\"responsive\": true}                    ).then(function(){\n",
              "                            \n",
              "var gd = document.getElementById('f0ee23ba-a1f9-4a52-9481-5a6b816da40f');\n",
              "var x = new MutationObserver(function (mutations, observer) {{\n",
              "        var display = window.getComputedStyle(gd).display;\n",
              "        if (!display || display === 'none') {{\n",
              "            console.log([gd, 'removed!']);\n",
              "            Plotly.purge(gd);\n",
              "            observer.disconnect();\n",
              "        }}\n",
              "}});\n",
              "\n",
              "// Listen for the removal of the full notebook cells\n",
              "var notebookContainer = gd.closest('#notebook-container');\n",
              "if (notebookContainer) {{\n",
              "    x.observe(notebookContainer, {childList: true});\n",
              "}}\n",
              "\n",
              "// Listen for the clearing of the current output cell\n",
              "var outputEl = gd.closest('.output');\n",
              "if (outputEl) {{\n",
              "    x.observe(outputEl, {childList: true});\n",
              "}}\n",
              "\n",
              "                        })                };                            </script>        </div>\n",
              "</body>\n",
              "</html>"
            ]
          },
          "metadata": {}
        }
      ],
      "source": [
        "#@title Time Comparison\n",
        "#@markdown Fixed epochs (10 epochs).\n",
        "\n",
        "from plotly.subplots import make_subplots\n",
        "\n",
        "x = [step*3 for step in steps]\n",
        "row = 2\n",
        "col = 2\n",
        "fig = make_subplots(rows=row, cols=col, subplot_titles=(\"Max-Cut\",\"Clique\",\"Binary Linear Programming\", \"Knapsack\"))\n",
        "show = True\n",
        "for i in range(row):\n",
        "  for j in range(col):\n",
        "    problemn = i*col+j\n",
        "    if problemn>0:\n",
        "      show = False\n",
        "    dv = pd.DataFrame({\"#Param Gates\":x, \"Time\":pstc[problemn]})\n",
        "    dv_fd = pd.DataFrame({\"#Param Gates\":x, \"Time\":fdtc[problemn]})\n",
        "    dv_lcu = pd.DataFrame({\"#Param Gates\":x, \"Loss\":lcutc[problemn]})\n",
        "    dv_qng = pd.DataFrame({\"#Param Gates\":x, \"Time\":qngtc[problemn]})\n",
        "    dv_newton = pd.DataFrame({\"#Param Gates\":x, \"Time\":qnwtc[problemn]})\n",
        "\n",
        "    # dv_cls = pd.DataFrame({\"#Param Gates\":range(len(loss_plot_classical)), \"Loss\":loss_plot_classical})\n",
        "\n",
        "    fig.add_trace(go.Scatter(x=dv[\"#Param Gates\"], y=dv[\"Time\"], name=\"Discrete Parameter Shift\", line = dict(width=2), line_color='red', showlegend = show), row=i+1, col=j+1)\n",
        "    fig.add_trace(go.Scatter(x=dv_fd[\"#Param Gates\"], y=dv_fd[\"Time\"], mode=\"lines\", name=\"Discrete Finite Difference\", line = dict(width=2), line_color='green', showlegend = show), row=i+1, col=j+1)\n",
        "    fig.add_trace(go.Scatter(x=dv_lcu[\"#Param Gates\"], y=dv_lcu[\"Loss\"], mode=\"lines\", name=\"Discrete LCU\", line = dict(width=2), line_color='yellow', showlegend = show), row=i+1, col=j+1)\n",
        "    fig.add_trace(go.Scatter(x=dv_qng[\"#Param Gates\"], y=dv_qng[\"Time\"], mode=\"lines\", name=\"Discrete QNG\", line = dict(width=2), line_color='blue', showlegend = show), row=i+1, col=j+1)\n",
        "    fig.add_trace(go.Scatter(x=dv_newton[\"#Param Gates\"], y=dv_newton[\"Time\"], mode=\"lines\", name=\"Discrete Newton Gradient\", line = dict(width=2), line_color='brown', showlegend = show), row=i+1, col=j+1)\n",
        "\n",
        "    # fig.add_trace(go.Scatter(x=dv_cls[\"Iteration\"], y=dv_cls[\"Loss\"], mode=\"lines\", name=\"Classical\"))\n",
        "\n",
        "\n",
        "fig.update_layout(title=\"Time Comparison  <br><sup>Fixed epochs (10 epochs).</sup>\",\n",
        "                  xaxis_title=\"The Number of parameterized gate\",\n",
        "                  yaxis_title=\"Time (Sec)\", autosize=False,\n",
        "                  width=1000,\n",
        "                  height=700)\n",
        "plotly.offline.plot(fig, filename='time_fixepoch.html')\n",
        "fig.show()"
      ]
    },
    {
      "cell_type": "code",
      "source": [
        "with open('sampling_pstc.pk', 'wb') as fp:\n",
        "    pickle.dump(pstc, fp)\n",
        "with open('sampling_fdtc.pk', 'wb') as fp:\n",
        "    pickle.dump(fdtc, fp)\n",
        "with open('sampling_lcutc.pk', 'wb') as fp:\n",
        "    pickle.dump(lcutc, fp)\n",
        "with open('sampling_qngtc.pk', 'wb') as fp:\n",
        "    pickle.dump(qngtc, fp)\n",
        "with open('sampling_qnwtc.pk', 'wb') as fp:\n",
        "    pickle.dump(qnwtc, fp)"
      ],
      "metadata": {
        "id": "oyFOXAQIxAX7"
      },
      "execution_count": null,
      "outputs": []
    },
    {
      "cell_type": "code",
      "execution_count": null,
      "metadata": {
        "cellView": "form",
        "id": "jNpZ5_r9uG5r",
        "colab": {
          "base_uri": "https://localhost:8080/",
          "height": 1000
        },
        "outputId": "7b3f253a-e306-4a38-f1ec-74f14f5e8745"
      },
      "outputs": [
        {
          "output_type": "stream",
          "name": "stdout",
          "text": [
            "\u001b[1mMax-Cut\u001b[0m\n"
          ]
        },
        {
          "output_type": "display_data",
          "data": {
            "text/plain": [
              "                           #Param Gates 6              #Param Gates 12  \\\n",
              "                                     Loss Time(second)            Loss   \n",
              "Discrete Parameter Shift        -2.94e+00        22.31       -3.84e+00   \n",
              "Discrete Finite Difference      -1.98e+00        20.01       -3.03e+00   \n",
              "Discrete LCU                    -2.94e+00        16.02       -3.48e+00   \n",
              "Discrete QNG                    -2.95e+00        22.58       -3.85e+00   \n",
              "Discrete Newton Gradient        -2.99e+00        28.76       -3.87e+00   \n",
              "\n",
              "                                        #Param Gates 18               \\\n",
              "                           Time(second)            Loss Time(second)   \n",
              "Discrete Parameter Shift          78.74       -3.93e+00       172.66   \n",
              "Discrete Finite Difference        72.98       -2.83e+00       156.68   \n",
              "Discrete LCU                      54.13       -3.94e+00       120.69   \n",
              "Discrete QNG                      82.90       -3.93e+00       177.94   \n",
              "Discrete Newton Gradient         102.89       -3.77e+00       224.03   \n",
              "\n",
              "                           #Param Gates 24              #Param Gates 30  \\\n",
              "                                      Loss Time(second)            Loss   \n",
              "Discrete Parameter Shift         -3.96e+00       298.25       -3.82e+00   \n",
              "Discrete Finite Difference       -2.51e+00       276.80       -2.75e+00   \n",
              "Discrete LCU                     -3.96e+00       220.30       -3.74e+00   \n",
              "Discrete QNG                     -3.93e+00       304.99       -3.82e+00   \n",
              "Discrete Newton Gradient         -3.80e+00       393.01       -3.77e+00   \n",
              "\n",
              "                                         \n",
              "                           Time(second)  \n",
              "Discrete Parameter Shift         465.74  \n",
              "Discrete Finite Difference       425.78  \n",
              "Discrete LCU                     330.31  \n",
              "Discrete QNG                     474.55  \n",
              "Discrete Newton Gradient         615.73  "
            ],
            "text/html": [
              "\n",
              "  <div id=\"df-a182b090-c344-4d3b-b86b-36807b60c971\">\n",
              "    <div class=\"colab-df-container\">\n",
              "      <div>\n",
              "<style scoped>\n",
              "    .dataframe tbody tr th:only-of-type {\n",
              "        vertical-align: middle;\n",
              "    }\n",
              "\n",
              "    .dataframe tbody tr th {\n",
              "        vertical-align: top;\n",
              "    }\n",
              "\n",
              "    .dataframe thead tr th {\n",
              "        text-align: left;\n",
              "    }\n",
              "</style>\n",
              "<table border=\"1\" class=\"dataframe\">\n",
              "  <thead>\n",
              "    <tr>\n",
              "      <th></th>\n",
              "      <th colspan=\"2\" halign=\"left\">#Param Gates 6</th>\n",
              "      <th colspan=\"2\" halign=\"left\">#Param Gates 12</th>\n",
              "      <th colspan=\"2\" halign=\"left\">#Param Gates 18</th>\n",
              "      <th colspan=\"2\" halign=\"left\">#Param Gates 24</th>\n",
              "      <th colspan=\"2\" halign=\"left\">#Param Gates 30</th>\n",
              "    </tr>\n",
              "    <tr>\n",
              "      <th></th>\n",
              "      <th>Loss</th>\n",
              "      <th>Time(second)</th>\n",
              "      <th>Loss</th>\n",
              "      <th>Time(second)</th>\n",
              "      <th>Loss</th>\n",
              "      <th>Time(second)</th>\n",
              "      <th>Loss</th>\n",
              "      <th>Time(second)</th>\n",
              "      <th>Loss</th>\n",
              "      <th>Time(second)</th>\n",
              "    </tr>\n",
              "  </thead>\n",
              "  <tbody>\n",
              "    <tr>\n",
              "      <th>Discrete Parameter Shift</th>\n",
              "      <td>-2.94e+00</td>\n",
              "      <td>22.31</td>\n",
              "      <td>-3.84e+00</td>\n",
              "      <td>78.74</td>\n",
              "      <td>-3.93e+00</td>\n",
              "      <td>172.66</td>\n",
              "      <td>-3.96e+00</td>\n",
              "      <td>298.25</td>\n",
              "      <td>-3.82e+00</td>\n",
              "      <td>465.74</td>\n",
              "    </tr>\n",
              "    <tr>\n",
              "      <th>Discrete Finite Difference</th>\n",
              "      <td>-1.98e+00</td>\n",
              "      <td>20.01</td>\n",
              "      <td>-3.03e+00</td>\n",
              "      <td>72.98</td>\n",
              "      <td>-2.83e+00</td>\n",
              "      <td>156.68</td>\n",
              "      <td>-2.51e+00</td>\n",
              "      <td>276.80</td>\n",
              "      <td>-2.75e+00</td>\n",
              "      <td>425.78</td>\n",
              "    </tr>\n",
              "    <tr>\n",
              "      <th>Discrete LCU</th>\n",
              "      <td>-2.94e+00</td>\n",
              "      <td>16.02</td>\n",
              "      <td>-3.48e+00</td>\n",
              "      <td>54.13</td>\n",
              "      <td>-3.94e+00</td>\n",
              "      <td>120.69</td>\n",
              "      <td>-3.96e+00</td>\n",
              "      <td>220.30</td>\n",
              "      <td>-3.74e+00</td>\n",
              "      <td>330.31</td>\n",
              "    </tr>\n",
              "    <tr>\n",
              "      <th>Discrete QNG</th>\n",
              "      <td>-2.95e+00</td>\n",
              "      <td>22.58</td>\n",
              "      <td>-3.85e+00</td>\n",
              "      <td>82.90</td>\n",
              "      <td>-3.93e+00</td>\n",
              "      <td>177.94</td>\n",
              "      <td>-3.93e+00</td>\n",
              "      <td>304.99</td>\n",
              "      <td>-3.82e+00</td>\n",
              "      <td>474.55</td>\n",
              "    </tr>\n",
              "    <tr>\n",
              "      <th>Discrete Newton Gradient</th>\n",
              "      <td>-2.99e+00</td>\n",
              "      <td>28.76</td>\n",
              "      <td>-3.87e+00</td>\n",
              "      <td>102.89</td>\n",
              "      <td>-3.77e+00</td>\n",
              "      <td>224.03</td>\n",
              "      <td>-3.80e+00</td>\n",
              "      <td>393.01</td>\n",
              "      <td>-3.77e+00</td>\n",
              "      <td>615.73</td>\n",
              "    </tr>\n",
              "  </tbody>\n",
              "</table>\n",
              "</div>\n",
              "      <button class=\"colab-df-convert\" onclick=\"convertToInteractive('df-a182b090-c344-4d3b-b86b-36807b60c971')\"\n",
              "              title=\"Convert this dataframe to an interactive table.\"\n",
              "              style=\"display:none;\">\n",
              "        \n",
              "  <svg xmlns=\"http://www.w3.org/2000/svg\" height=\"24px\"viewBox=\"0 0 24 24\"\n",
              "       width=\"24px\">\n",
              "    <path d=\"M0 0h24v24H0V0z\" fill=\"none\"/>\n",
              "    <path d=\"M18.56 5.44l.94 2.06.94-2.06 2.06-.94-2.06-.94-.94-2.06-.94 2.06-2.06.94zm-11 1L8.5 8.5l.94-2.06 2.06-.94-2.06-.94L8.5 2.5l-.94 2.06-2.06.94zm10 10l.94 2.06.94-2.06 2.06-.94-2.06-.94-.94-2.06-.94 2.06-2.06.94z\"/><path d=\"M17.41 7.96l-1.37-1.37c-.4-.4-.92-.59-1.43-.59-.52 0-1.04.2-1.43.59L10.3 9.45l-7.72 7.72c-.78.78-.78 2.05 0 2.83L4 21.41c.39.39.9.59 1.41.59.51 0 1.02-.2 1.41-.59l7.78-7.78 2.81-2.81c.8-.78.8-2.07 0-2.86zM5.41 20L4 18.59l7.72-7.72 1.47 1.35L5.41 20z\"/>\n",
              "  </svg>\n",
              "      </button>\n",
              "      \n",
              "  <style>\n",
              "    .colab-df-container {\n",
              "      display:flex;\n",
              "      flex-wrap:wrap;\n",
              "      gap: 12px;\n",
              "    }\n",
              "\n",
              "    .colab-df-convert {\n",
              "      background-color: #E8F0FE;\n",
              "      border: none;\n",
              "      border-radius: 50%;\n",
              "      cursor: pointer;\n",
              "      display: none;\n",
              "      fill: #1967D2;\n",
              "      height: 32px;\n",
              "      padding: 0 0 0 0;\n",
              "      width: 32px;\n",
              "    }\n",
              "\n",
              "    .colab-df-convert:hover {\n",
              "      background-color: #E2EBFA;\n",
              "      box-shadow: 0px 1px 2px rgba(60, 64, 67, 0.3), 0px 1px 3px 1px rgba(60, 64, 67, 0.15);\n",
              "      fill: #174EA6;\n",
              "    }\n",
              "\n",
              "    [theme=dark] .colab-df-convert {\n",
              "      background-color: #3B4455;\n",
              "      fill: #D2E3FC;\n",
              "    }\n",
              "\n",
              "    [theme=dark] .colab-df-convert:hover {\n",
              "      background-color: #434B5C;\n",
              "      box-shadow: 0px 1px 3px 1px rgba(0, 0, 0, 0.15);\n",
              "      filter: drop-shadow(0px 1px 2px rgba(0, 0, 0, 0.3));\n",
              "      fill: #FFFFFF;\n",
              "    }\n",
              "  </style>\n",
              "\n",
              "      <script>\n",
              "        const buttonEl =\n",
              "          document.querySelector('#df-a182b090-c344-4d3b-b86b-36807b60c971 button.colab-df-convert');\n",
              "        buttonEl.style.display =\n",
              "          google.colab.kernel.accessAllowed ? 'block' : 'none';\n",
              "\n",
              "        async function convertToInteractive(key) {\n",
              "          const element = document.querySelector('#df-a182b090-c344-4d3b-b86b-36807b60c971');\n",
              "          const dataTable =\n",
              "            await google.colab.kernel.invokeFunction('convertToInteractive',\n",
              "                                                     [key], {});\n",
              "          if (!dataTable) return;\n",
              "\n",
              "          const docLinkHtml = 'Like what you see? Visit the ' +\n",
              "            '<a target=\"_blank\" href=https://colab.research.google.com/notebooks/data_table.ipynb>data table notebook</a>'\n",
              "            + ' to learn more about interactive tables.';\n",
              "          element.innerHTML = '';\n",
              "          dataTable['output_type'] = 'display_data';\n",
              "          await google.colab.output.renderOutput(dataTable, element);\n",
              "          const docLink = document.createElement('div');\n",
              "          docLink.innerHTML = docLinkHtml;\n",
              "          element.appendChild(docLink);\n",
              "        }\n",
              "      </script>\n",
              "    </div>\n",
              "  </div>\n",
              "  "
            ]
          },
          "metadata": {}
        },
        {
          "output_type": "stream",
          "name": "stdout",
          "text": [
            "\n",
            "\n",
            "\n",
            "\n",
            "\u001b[1mClique\u001b[0m\n"
          ]
        },
        {
          "output_type": "display_data",
          "data": {
            "text/plain": [
              "                           #Param Gates 6              #Param Gates 12  \\\n",
              "                                     Loss Time(second)            Loss   \n",
              "Discrete Parameter Shift        -1.97e+00        24.16       -1.92e+00   \n",
              "Discrete Finite Difference      -2.79e-01        23.18       -2.40e-01   \n",
              "Discrete LCU                    -1.87e+00        18.34       -2.64e+00   \n",
              "Discrete QNG                    -1.99e+00        25.14       -1.92e+00   \n",
              "Discrete Newton Gradient        -1.95e+00        32.32       -1.82e-01   \n",
              "\n",
              "                                        #Param Gates 18               \\\n",
              "                           Time(second)            Loss Time(second)   \n",
              "Discrete Parameter Shift          85.24       -2.14e+00       185.99   \n",
              "Discrete Finite Difference        84.98       -9.37e-01       185.22   \n",
              "Discrete LCU                      62.33       -2.57e+00       137.91   \n",
              "Discrete QNG                      91.86       -2.33e+00       200.40   \n",
              "Discrete Newton Gradient         117.45       -1.61e+00       252.29   \n",
              "\n",
              "                           #Param Gates 24              #Param Gates 30  \\\n",
              "                                      Loss Time(second)            Loss   \n",
              "Discrete Parameter Shift         -1.87e+00       332.00       -2.93e+00   \n",
              "Discrete Finite Difference       -4.75e-01       325.96       -8.46e-01   \n",
              "Discrete LCU                     -2.76e+00       245.29       -2.69e+00   \n",
              "Discrete QNG                     -1.96e+00       353.15       -2.89e+00   \n",
              "Discrete Newton Gradient         -1.55e+00       441.26       -1.27e+00   \n",
              "\n",
              "                                         \n",
              "                           Time(second)  \n",
              "Discrete Parameter Shift         512.76  \n",
              "Discrete Finite Difference       506.39  \n",
              "Discrete LCU                     388.62  \n",
              "Discrete QNG                     552.78  \n",
              "Discrete Newton Gradient         685.42  "
            ],
            "text/html": [
              "\n",
              "  <div id=\"df-261c0b8e-8e8e-4db7-8421-8186dc151b9e\">\n",
              "    <div class=\"colab-df-container\">\n",
              "      <div>\n",
              "<style scoped>\n",
              "    .dataframe tbody tr th:only-of-type {\n",
              "        vertical-align: middle;\n",
              "    }\n",
              "\n",
              "    .dataframe tbody tr th {\n",
              "        vertical-align: top;\n",
              "    }\n",
              "\n",
              "    .dataframe thead tr th {\n",
              "        text-align: left;\n",
              "    }\n",
              "</style>\n",
              "<table border=\"1\" class=\"dataframe\">\n",
              "  <thead>\n",
              "    <tr>\n",
              "      <th></th>\n",
              "      <th colspan=\"2\" halign=\"left\">#Param Gates 6</th>\n",
              "      <th colspan=\"2\" halign=\"left\">#Param Gates 12</th>\n",
              "      <th colspan=\"2\" halign=\"left\">#Param Gates 18</th>\n",
              "      <th colspan=\"2\" halign=\"left\">#Param Gates 24</th>\n",
              "      <th colspan=\"2\" halign=\"left\">#Param Gates 30</th>\n",
              "    </tr>\n",
              "    <tr>\n",
              "      <th></th>\n",
              "      <th>Loss</th>\n",
              "      <th>Time(second)</th>\n",
              "      <th>Loss</th>\n",
              "      <th>Time(second)</th>\n",
              "      <th>Loss</th>\n",
              "      <th>Time(second)</th>\n",
              "      <th>Loss</th>\n",
              "      <th>Time(second)</th>\n",
              "      <th>Loss</th>\n",
              "      <th>Time(second)</th>\n",
              "    </tr>\n",
              "  </thead>\n",
              "  <tbody>\n",
              "    <tr>\n",
              "      <th>Discrete Parameter Shift</th>\n",
              "      <td>-1.97e+00</td>\n",
              "      <td>24.16</td>\n",
              "      <td>-1.92e+00</td>\n",
              "      <td>85.24</td>\n",
              "      <td>-2.14e+00</td>\n",
              "      <td>185.99</td>\n",
              "      <td>-1.87e+00</td>\n",
              "      <td>332.00</td>\n",
              "      <td>-2.93e+00</td>\n",
              "      <td>512.76</td>\n",
              "    </tr>\n",
              "    <tr>\n",
              "      <th>Discrete Finite Difference</th>\n",
              "      <td>-2.79e-01</td>\n",
              "      <td>23.18</td>\n",
              "      <td>-2.40e-01</td>\n",
              "      <td>84.98</td>\n",
              "      <td>-9.37e-01</td>\n",
              "      <td>185.22</td>\n",
              "      <td>-4.75e-01</td>\n",
              "      <td>325.96</td>\n",
              "      <td>-8.46e-01</td>\n",
              "      <td>506.39</td>\n",
              "    </tr>\n",
              "    <tr>\n",
              "      <th>Discrete LCU</th>\n",
              "      <td>-1.87e+00</td>\n",
              "      <td>18.34</td>\n",
              "      <td>-2.64e+00</td>\n",
              "      <td>62.33</td>\n",
              "      <td>-2.57e+00</td>\n",
              "      <td>137.91</td>\n",
              "      <td>-2.76e+00</td>\n",
              "      <td>245.29</td>\n",
              "      <td>-2.69e+00</td>\n",
              "      <td>388.62</td>\n",
              "    </tr>\n",
              "    <tr>\n",
              "      <th>Discrete QNG</th>\n",
              "      <td>-1.99e+00</td>\n",
              "      <td>25.14</td>\n",
              "      <td>-1.92e+00</td>\n",
              "      <td>91.86</td>\n",
              "      <td>-2.33e+00</td>\n",
              "      <td>200.40</td>\n",
              "      <td>-1.96e+00</td>\n",
              "      <td>353.15</td>\n",
              "      <td>-2.89e+00</td>\n",
              "      <td>552.78</td>\n",
              "    </tr>\n",
              "    <tr>\n",
              "      <th>Discrete Newton Gradient</th>\n",
              "      <td>-1.95e+00</td>\n",
              "      <td>32.32</td>\n",
              "      <td>-1.82e-01</td>\n",
              "      <td>117.45</td>\n",
              "      <td>-1.61e+00</td>\n",
              "      <td>252.29</td>\n",
              "      <td>-1.55e+00</td>\n",
              "      <td>441.26</td>\n",
              "      <td>-1.27e+00</td>\n",
              "      <td>685.42</td>\n",
              "    </tr>\n",
              "  </tbody>\n",
              "</table>\n",
              "</div>\n",
              "      <button class=\"colab-df-convert\" onclick=\"convertToInteractive('df-261c0b8e-8e8e-4db7-8421-8186dc151b9e')\"\n",
              "              title=\"Convert this dataframe to an interactive table.\"\n",
              "              style=\"display:none;\">\n",
              "        \n",
              "  <svg xmlns=\"http://www.w3.org/2000/svg\" height=\"24px\"viewBox=\"0 0 24 24\"\n",
              "       width=\"24px\">\n",
              "    <path d=\"M0 0h24v24H0V0z\" fill=\"none\"/>\n",
              "    <path d=\"M18.56 5.44l.94 2.06.94-2.06 2.06-.94-2.06-.94-.94-2.06-.94 2.06-2.06.94zm-11 1L8.5 8.5l.94-2.06 2.06-.94-2.06-.94L8.5 2.5l-.94 2.06-2.06.94zm10 10l.94 2.06.94-2.06 2.06-.94-2.06-.94-.94-2.06-.94 2.06-2.06.94z\"/><path d=\"M17.41 7.96l-1.37-1.37c-.4-.4-.92-.59-1.43-.59-.52 0-1.04.2-1.43.59L10.3 9.45l-7.72 7.72c-.78.78-.78 2.05 0 2.83L4 21.41c.39.39.9.59 1.41.59.51 0 1.02-.2 1.41-.59l7.78-7.78 2.81-2.81c.8-.78.8-2.07 0-2.86zM5.41 20L4 18.59l7.72-7.72 1.47 1.35L5.41 20z\"/>\n",
              "  </svg>\n",
              "      </button>\n",
              "      \n",
              "  <style>\n",
              "    .colab-df-container {\n",
              "      display:flex;\n",
              "      flex-wrap:wrap;\n",
              "      gap: 12px;\n",
              "    }\n",
              "\n",
              "    .colab-df-convert {\n",
              "      background-color: #E8F0FE;\n",
              "      border: none;\n",
              "      border-radius: 50%;\n",
              "      cursor: pointer;\n",
              "      display: none;\n",
              "      fill: #1967D2;\n",
              "      height: 32px;\n",
              "      padding: 0 0 0 0;\n",
              "      width: 32px;\n",
              "    }\n",
              "\n",
              "    .colab-df-convert:hover {\n",
              "      background-color: #E2EBFA;\n",
              "      box-shadow: 0px 1px 2px rgba(60, 64, 67, 0.3), 0px 1px 3px 1px rgba(60, 64, 67, 0.15);\n",
              "      fill: #174EA6;\n",
              "    }\n",
              "\n",
              "    [theme=dark] .colab-df-convert {\n",
              "      background-color: #3B4455;\n",
              "      fill: #D2E3FC;\n",
              "    }\n",
              "\n",
              "    [theme=dark] .colab-df-convert:hover {\n",
              "      background-color: #434B5C;\n",
              "      box-shadow: 0px 1px 3px 1px rgba(0, 0, 0, 0.15);\n",
              "      filter: drop-shadow(0px 1px 2px rgba(0, 0, 0, 0.3));\n",
              "      fill: #FFFFFF;\n",
              "    }\n",
              "  </style>\n",
              "\n",
              "      <script>\n",
              "        const buttonEl =\n",
              "          document.querySelector('#df-261c0b8e-8e8e-4db7-8421-8186dc151b9e button.colab-df-convert');\n",
              "        buttonEl.style.display =\n",
              "          google.colab.kernel.accessAllowed ? 'block' : 'none';\n",
              "\n",
              "        async function convertToInteractive(key) {\n",
              "          const element = document.querySelector('#df-261c0b8e-8e8e-4db7-8421-8186dc151b9e');\n",
              "          const dataTable =\n",
              "            await google.colab.kernel.invokeFunction('convertToInteractive',\n",
              "                                                     [key], {});\n",
              "          if (!dataTable) return;\n",
              "\n",
              "          const docLinkHtml = 'Like what you see? Visit the ' +\n",
              "            '<a target=\"_blank\" href=https://colab.research.google.com/notebooks/data_table.ipynb>data table notebook</a>'\n",
              "            + ' to learn more about interactive tables.';\n",
              "          element.innerHTML = '';\n",
              "          dataTable['output_type'] = 'display_data';\n",
              "          await google.colab.output.renderOutput(dataTable, element);\n",
              "          const docLink = document.createElement('div');\n",
              "          docLink.innerHTML = docLinkHtml;\n",
              "          element.appendChild(docLink);\n",
              "        }\n",
              "      </script>\n",
              "    </div>\n",
              "  </div>\n",
              "  "
            ]
          },
          "metadata": {}
        },
        {
          "output_type": "stream",
          "name": "stdout",
          "text": [
            "\n",
            "\n",
            "\n",
            "\n",
            "\u001b[1mBinary Linear Programming\u001b[0m\n"
          ]
        },
        {
          "output_type": "display_data",
          "data": {
            "text/plain": [
              "                           #Param Gates 6              #Param Gates 12  \\\n",
              "                                     Loss Time(second)            Loss   \n",
              "Discrete Parameter Shift         3.21e+05        23.36        2.02e+05   \n",
              "Discrete Finite Difference       5.38e+05        23.09        4.29e+05   \n",
              "Discrete LCU                     3.13e+05        18.15        3.00e+05   \n",
              "Discrete QNG                     3.15e+05        25.26        2.01e+05   \n",
              "Discrete Newton Gradient         3.52e+05        32.00        3.87e+05   \n",
              "\n",
              "                                        #Param Gates 18               \\\n",
              "                           Time(second)            Loss Time(second)   \n",
              "Discrete Parameter Shift          84.51        2.17e+05       187.39   \n",
              "Discrete Finite Difference        84.75        4.34e+05       184.50   \n",
              "Discrete LCU                      67.62        2.27e+05       154.15   \n",
              "Discrete QNG                      91.18        2.16e+05       201.79   \n",
              "Discrete Newton Gradient         114.24        4.81e+05       250.75   \n",
              "\n",
              "                           #Param Gates 24              #Param Gates 30  \\\n",
              "                                      Loss Time(second)            Loss   \n",
              "Discrete Parameter Shift          2.16e+05       326.14        2.21e+05   \n",
              "Discrete Finite Difference        4.43e+05       323.97        3.73e+05   \n",
              "Discrete LCU                      2.07e+05       259.47        2.01e+05   \n",
              "Discrete QNG                      2.17e+05       355.06        2.06e+05   \n",
              "Discrete Newton Gradient          4.07e+05       439.10        3.88e+05   \n",
              "\n",
              "                                         \n",
              "                           Time(second)  \n",
              "Discrete Parameter Shift         505.01  \n",
              "Discrete Finite Difference       506.76  \n",
              "Discrete LCU                     406.34  \n",
              "Discrete QNG                     553.49  \n",
              "Discrete Newton Gradient         693.95  "
            ],
            "text/html": [
              "\n",
              "  <div id=\"df-3dd26faa-6324-4de3-83f6-a7f7ecd2d2f9\">\n",
              "    <div class=\"colab-df-container\">\n",
              "      <div>\n",
              "<style scoped>\n",
              "    .dataframe tbody tr th:only-of-type {\n",
              "        vertical-align: middle;\n",
              "    }\n",
              "\n",
              "    .dataframe tbody tr th {\n",
              "        vertical-align: top;\n",
              "    }\n",
              "\n",
              "    .dataframe thead tr th {\n",
              "        text-align: left;\n",
              "    }\n",
              "</style>\n",
              "<table border=\"1\" class=\"dataframe\">\n",
              "  <thead>\n",
              "    <tr>\n",
              "      <th></th>\n",
              "      <th colspan=\"2\" halign=\"left\">#Param Gates 6</th>\n",
              "      <th colspan=\"2\" halign=\"left\">#Param Gates 12</th>\n",
              "      <th colspan=\"2\" halign=\"left\">#Param Gates 18</th>\n",
              "      <th colspan=\"2\" halign=\"left\">#Param Gates 24</th>\n",
              "      <th colspan=\"2\" halign=\"left\">#Param Gates 30</th>\n",
              "    </tr>\n",
              "    <tr>\n",
              "      <th></th>\n",
              "      <th>Loss</th>\n",
              "      <th>Time(second)</th>\n",
              "      <th>Loss</th>\n",
              "      <th>Time(second)</th>\n",
              "      <th>Loss</th>\n",
              "      <th>Time(second)</th>\n",
              "      <th>Loss</th>\n",
              "      <th>Time(second)</th>\n",
              "      <th>Loss</th>\n",
              "      <th>Time(second)</th>\n",
              "    </tr>\n",
              "  </thead>\n",
              "  <tbody>\n",
              "    <tr>\n",
              "      <th>Discrete Parameter Shift</th>\n",
              "      <td>3.21e+05</td>\n",
              "      <td>23.36</td>\n",
              "      <td>2.02e+05</td>\n",
              "      <td>84.51</td>\n",
              "      <td>2.17e+05</td>\n",
              "      <td>187.39</td>\n",
              "      <td>2.16e+05</td>\n",
              "      <td>326.14</td>\n",
              "      <td>2.21e+05</td>\n",
              "      <td>505.01</td>\n",
              "    </tr>\n",
              "    <tr>\n",
              "      <th>Discrete Finite Difference</th>\n",
              "      <td>5.38e+05</td>\n",
              "      <td>23.09</td>\n",
              "      <td>4.29e+05</td>\n",
              "      <td>84.75</td>\n",
              "      <td>4.34e+05</td>\n",
              "      <td>184.50</td>\n",
              "      <td>4.43e+05</td>\n",
              "      <td>323.97</td>\n",
              "      <td>3.73e+05</td>\n",
              "      <td>506.76</td>\n",
              "    </tr>\n",
              "    <tr>\n",
              "      <th>Discrete LCU</th>\n",
              "      <td>3.13e+05</td>\n",
              "      <td>18.15</td>\n",
              "      <td>3.00e+05</td>\n",
              "      <td>67.62</td>\n",
              "      <td>2.27e+05</td>\n",
              "      <td>154.15</td>\n",
              "      <td>2.07e+05</td>\n",
              "      <td>259.47</td>\n",
              "      <td>2.01e+05</td>\n",
              "      <td>406.34</td>\n",
              "    </tr>\n",
              "    <tr>\n",
              "      <th>Discrete QNG</th>\n",
              "      <td>3.15e+05</td>\n",
              "      <td>25.26</td>\n",
              "      <td>2.01e+05</td>\n",
              "      <td>91.18</td>\n",
              "      <td>2.16e+05</td>\n",
              "      <td>201.79</td>\n",
              "      <td>2.17e+05</td>\n",
              "      <td>355.06</td>\n",
              "      <td>2.06e+05</td>\n",
              "      <td>553.49</td>\n",
              "    </tr>\n",
              "    <tr>\n",
              "      <th>Discrete Newton Gradient</th>\n",
              "      <td>3.52e+05</td>\n",
              "      <td>32.00</td>\n",
              "      <td>3.87e+05</td>\n",
              "      <td>114.24</td>\n",
              "      <td>4.81e+05</td>\n",
              "      <td>250.75</td>\n",
              "      <td>4.07e+05</td>\n",
              "      <td>439.10</td>\n",
              "      <td>3.88e+05</td>\n",
              "      <td>693.95</td>\n",
              "    </tr>\n",
              "  </tbody>\n",
              "</table>\n",
              "</div>\n",
              "      <button class=\"colab-df-convert\" onclick=\"convertToInteractive('df-3dd26faa-6324-4de3-83f6-a7f7ecd2d2f9')\"\n",
              "              title=\"Convert this dataframe to an interactive table.\"\n",
              "              style=\"display:none;\">\n",
              "        \n",
              "  <svg xmlns=\"http://www.w3.org/2000/svg\" height=\"24px\"viewBox=\"0 0 24 24\"\n",
              "       width=\"24px\">\n",
              "    <path d=\"M0 0h24v24H0V0z\" fill=\"none\"/>\n",
              "    <path d=\"M18.56 5.44l.94 2.06.94-2.06 2.06-.94-2.06-.94-.94-2.06-.94 2.06-2.06.94zm-11 1L8.5 8.5l.94-2.06 2.06-.94-2.06-.94L8.5 2.5l-.94 2.06-2.06.94zm10 10l.94 2.06.94-2.06 2.06-.94-2.06-.94-.94-2.06-.94 2.06-2.06.94z\"/><path d=\"M17.41 7.96l-1.37-1.37c-.4-.4-.92-.59-1.43-.59-.52 0-1.04.2-1.43.59L10.3 9.45l-7.72 7.72c-.78.78-.78 2.05 0 2.83L4 21.41c.39.39.9.59 1.41.59.51 0 1.02-.2 1.41-.59l7.78-7.78 2.81-2.81c.8-.78.8-2.07 0-2.86zM5.41 20L4 18.59l7.72-7.72 1.47 1.35L5.41 20z\"/>\n",
              "  </svg>\n",
              "      </button>\n",
              "      \n",
              "  <style>\n",
              "    .colab-df-container {\n",
              "      display:flex;\n",
              "      flex-wrap:wrap;\n",
              "      gap: 12px;\n",
              "    }\n",
              "\n",
              "    .colab-df-convert {\n",
              "      background-color: #E8F0FE;\n",
              "      border: none;\n",
              "      border-radius: 50%;\n",
              "      cursor: pointer;\n",
              "      display: none;\n",
              "      fill: #1967D2;\n",
              "      height: 32px;\n",
              "      padding: 0 0 0 0;\n",
              "      width: 32px;\n",
              "    }\n",
              "\n",
              "    .colab-df-convert:hover {\n",
              "      background-color: #E2EBFA;\n",
              "      box-shadow: 0px 1px 2px rgba(60, 64, 67, 0.3), 0px 1px 3px 1px rgba(60, 64, 67, 0.15);\n",
              "      fill: #174EA6;\n",
              "    }\n",
              "\n",
              "    [theme=dark] .colab-df-convert {\n",
              "      background-color: #3B4455;\n",
              "      fill: #D2E3FC;\n",
              "    }\n",
              "\n",
              "    [theme=dark] .colab-df-convert:hover {\n",
              "      background-color: #434B5C;\n",
              "      box-shadow: 0px 1px 3px 1px rgba(0, 0, 0, 0.15);\n",
              "      filter: drop-shadow(0px 1px 2px rgba(0, 0, 0, 0.3));\n",
              "      fill: #FFFFFF;\n",
              "    }\n",
              "  </style>\n",
              "\n",
              "      <script>\n",
              "        const buttonEl =\n",
              "          document.querySelector('#df-3dd26faa-6324-4de3-83f6-a7f7ecd2d2f9 button.colab-df-convert');\n",
              "        buttonEl.style.display =\n",
              "          google.colab.kernel.accessAllowed ? 'block' : 'none';\n",
              "\n",
              "        async function convertToInteractive(key) {\n",
              "          const element = document.querySelector('#df-3dd26faa-6324-4de3-83f6-a7f7ecd2d2f9');\n",
              "          const dataTable =\n",
              "            await google.colab.kernel.invokeFunction('convertToInteractive',\n",
              "                                                     [key], {});\n",
              "          if (!dataTable) return;\n",
              "\n",
              "          const docLinkHtml = 'Like what you see? Visit the ' +\n",
              "            '<a target=\"_blank\" href=https://colab.research.google.com/notebooks/data_table.ipynb>data table notebook</a>'\n",
              "            + ' to learn more about interactive tables.';\n",
              "          element.innerHTML = '';\n",
              "          dataTable['output_type'] = 'display_data';\n",
              "          await google.colab.output.renderOutput(dataTable, element);\n",
              "          const docLink = document.createElement('div');\n",
              "          docLink.innerHTML = docLinkHtml;\n",
              "          element.appendChild(docLink);\n",
              "        }\n",
              "      </script>\n",
              "    </div>\n",
              "  </div>\n",
              "  "
            ]
          },
          "metadata": {}
        },
        {
          "output_type": "stream",
          "name": "stdout",
          "text": [
            "\n",
            "\n",
            "\n",
            "\n",
            "\u001b[1mKnapsack\u001b[0m\n"
          ]
        },
        {
          "output_type": "display_data",
          "data": {
            "text/plain": [
              "                           #Param Gates 6              #Param Gates 12  \\\n",
              "                                     Loss Time(second)            Loss   \n",
              "Discrete Parameter Shift         2.65e+00        30.01       -9.67e-01   \n",
              "Discrete Finite Difference       9.73e+00        30.14        1.08e+01   \n",
              "Discrete LCU                     2.38e+00        21.53       -2.59e-01   \n",
              "Discrete QNG                     2.27e+00        32.24       -1.02e+00   \n",
              "Discrete Newton Gradient         2.46e+00        40.59        5.67e+00   \n",
              "\n",
              "                                        #Param Gates 18               \\\n",
              "                           Time(second)            Loss Time(second)   \n",
              "Discrete Parameter Shift         110.40       -1.33e+00       242.02   \n",
              "Discrete Finite Difference       111.20        6.71e+00       242.21   \n",
              "Discrete LCU                      78.90       -2.36e+00       173.86   \n",
              "Discrete QNG                     118.75       -1.74e+00       259.98   \n",
              "Discrete Newton Gradient         143.80        5.40e+00       310.79   \n",
              "\n",
              "                           #Param Gates 24              #Param Gates 30  \\\n",
              "                                      Loss Time(second)            Loss   \n",
              "Discrete Parameter Shift         -2.37e+00       427.22       -1.60e+00   \n",
              "Discrete Finite Difference        3.62e+00       430.41        3.52e+00   \n",
              "Discrete LCU                     -3.26e-01       309.72       -1.77e+00   \n",
              "Discrete QNG                     -2.29e+00       457.18       -1.92e+00   \n",
              "Discrete Newton Gradient          1.36e+00       555.29        5.97e+00   \n",
              "\n",
              "                                         \n",
              "                           Time(second)  \n",
              "Discrete Parameter Shift         669.66  \n",
              "Discrete Finite Difference       778.14  \n",
              "Discrete LCU                     477.68  \n",
              "Discrete QNG                     776.89  \n",
              "Discrete Newton Gradient         859.95  "
            ],
            "text/html": [
              "\n",
              "  <div id=\"df-74ee0d64-4536-4e6c-aceb-f664c0ed3599\">\n",
              "    <div class=\"colab-df-container\">\n",
              "      <div>\n",
              "<style scoped>\n",
              "    .dataframe tbody tr th:only-of-type {\n",
              "        vertical-align: middle;\n",
              "    }\n",
              "\n",
              "    .dataframe tbody tr th {\n",
              "        vertical-align: top;\n",
              "    }\n",
              "\n",
              "    .dataframe thead tr th {\n",
              "        text-align: left;\n",
              "    }\n",
              "</style>\n",
              "<table border=\"1\" class=\"dataframe\">\n",
              "  <thead>\n",
              "    <tr>\n",
              "      <th></th>\n",
              "      <th colspan=\"2\" halign=\"left\">#Param Gates 6</th>\n",
              "      <th colspan=\"2\" halign=\"left\">#Param Gates 12</th>\n",
              "      <th colspan=\"2\" halign=\"left\">#Param Gates 18</th>\n",
              "      <th colspan=\"2\" halign=\"left\">#Param Gates 24</th>\n",
              "      <th colspan=\"2\" halign=\"left\">#Param Gates 30</th>\n",
              "    </tr>\n",
              "    <tr>\n",
              "      <th></th>\n",
              "      <th>Loss</th>\n",
              "      <th>Time(second)</th>\n",
              "      <th>Loss</th>\n",
              "      <th>Time(second)</th>\n",
              "      <th>Loss</th>\n",
              "      <th>Time(second)</th>\n",
              "      <th>Loss</th>\n",
              "      <th>Time(second)</th>\n",
              "      <th>Loss</th>\n",
              "      <th>Time(second)</th>\n",
              "    </tr>\n",
              "  </thead>\n",
              "  <tbody>\n",
              "    <tr>\n",
              "      <th>Discrete Parameter Shift</th>\n",
              "      <td>2.65e+00</td>\n",
              "      <td>30.01</td>\n",
              "      <td>-9.67e-01</td>\n",
              "      <td>110.40</td>\n",
              "      <td>-1.33e+00</td>\n",
              "      <td>242.02</td>\n",
              "      <td>-2.37e+00</td>\n",
              "      <td>427.22</td>\n",
              "      <td>-1.60e+00</td>\n",
              "      <td>669.66</td>\n",
              "    </tr>\n",
              "    <tr>\n",
              "      <th>Discrete Finite Difference</th>\n",
              "      <td>9.73e+00</td>\n",
              "      <td>30.14</td>\n",
              "      <td>1.08e+01</td>\n",
              "      <td>111.20</td>\n",
              "      <td>6.71e+00</td>\n",
              "      <td>242.21</td>\n",
              "      <td>3.62e+00</td>\n",
              "      <td>430.41</td>\n",
              "      <td>3.52e+00</td>\n",
              "      <td>778.14</td>\n",
              "    </tr>\n",
              "    <tr>\n",
              "      <th>Discrete LCU</th>\n",
              "      <td>2.38e+00</td>\n",
              "      <td>21.53</td>\n",
              "      <td>-2.59e-01</td>\n",
              "      <td>78.90</td>\n",
              "      <td>-2.36e+00</td>\n",
              "      <td>173.86</td>\n",
              "      <td>-3.26e-01</td>\n",
              "      <td>309.72</td>\n",
              "      <td>-1.77e+00</td>\n",
              "      <td>477.68</td>\n",
              "    </tr>\n",
              "    <tr>\n",
              "      <th>Discrete QNG</th>\n",
              "      <td>2.27e+00</td>\n",
              "      <td>32.24</td>\n",
              "      <td>-1.02e+00</td>\n",
              "      <td>118.75</td>\n",
              "      <td>-1.74e+00</td>\n",
              "      <td>259.98</td>\n",
              "      <td>-2.29e+00</td>\n",
              "      <td>457.18</td>\n",
              "      <td>-1.92e+00</td>\n",
              "      <td>776.89</td>\n",
              "    </tr>\n",
              "    <tr>\n",
              "      <th>Discrete Newton Gradient</th>\n",
              "      <td>2.46e+00</td>\n",
              "      <td>40.59</td>\n",
              "      <td>5.67e+00</td>\n",
              "      <td>143.80</td>\n",
              "      <td>5.40e+00</td>\n",
              "      <td>310.79</td>\n",
              "      <td>1.36e+00</td>\n",
              "      <td>555.29</td>\n",
              "      <td>5.97e+00</td>\n",
              "      <td>859.95</td>\n",
              "    </tr>\n",
              "  </tbody>\n",
              "</table>\n",
              "</div>\n",
              "      <button class=\"colab-df-convert\" onclick=\"convertToInteractive('df-74ee0d64-4536-4e6c-aceb-f664c0ed3599')\"\n",
              "              title=\"Convert this dataframe to an interactive table.\"\n",
              "              style=\"display:none;\">\n",
              "        \n",
              "  <svg xmlns=\"http://www.w3.org/2000/svg\" height=\"24px\"viewBox=\"0 0 24 24\"\n",
              "       width=\"24px\">\n",
              "    <path d=\"M0 0h24v24H0V0z\" fill=\"none\"/>\n",
              "    <path d=\"M18.56 5.44l.94 2.06.94-2.06 2.06-.94-2.06-.94-.94-2.06-.94 2.06-2.06.94zm-11 1L8.5 8.5l.94-2.06 2.06-.94-2.06-.94L8.5 2.5l-.94 2.06-2.06.94zm10 10l.94 2.06.94-2.06 2.06-.94-2.06-.94-.94-2.06-.94 2.06-2.06.94z\"/><path d=\"M17.41 7.96l-1.37-1.37c-.4-.4-.92-.59-1.43-.59-.52 0-1.04.2-1.43.59L10.3 9.45l-7.72 7.72c-.78.78-.78 2.05 0 2.83L4 21.41c.39.39.9.59 1.41.59.51 0 1.02-.2 1.41-.59l7.78-7.78 2.81-2.81c.8-.78.8-2.07 0-2.86zM5.41 20L4 18.59l7.72-7.72 1.47 1.35L5.41 20z\"/>\n",
              "  </svg>\n",
              "      </button>\n",
              "      \n",
              "  <style>\n",
              "    .colab-df-container {\n",
              "      display:flex;\n",
              "      flex-wrap:wrap;\n",
              "      gap: 12px;\n",
              "    }\n",
              "\n",
              "    .colab-df-convert {\n",
              "      background-color: #E8F0FE;\n",
              "      border: none;\n",
              "      border-radius: 50%;\n",
              "      cursor: pointer;\n",
              "      display: none;\n",
              "      fill: #1967D2;\n",
              "      height: 32px;\n",
              "      padding: 0 0 0 0;\n",
              "      width: 32px;\n",
              "    }\n",
              "\n",
              "    .colab-df-convert:hover {\n",
              "      background-color: #E2EBFA;\n",
              "      box-shadow: 0px 1px 2px rgba(60, 64, 67, 0.3), 0px 1px 3px 1px rgba(60, 64, 67, 0.15);\n",
              "      fill: #174EA6;\n",
              "    }\n",
              "\n",
              "    [theme=dark] .colab-df-convert {\n",
              "      background-color: #3B4455;\n",
              "      fill: #D2E3FC;\n",
              "    }\n",
              "\n",
              "    [theme=dark] .colab-df-convert:hover {\n",
              "      background-color: #434B5C;\n",
              "      box-shadow: 0px 1px 3px 1px rgba(0, 0, 0, 0.15);\n",
              "      filter: drop-shadow(0px 1px 2px rgba(0, 0, 0, 0.3));\n",
              "      fill: #FFFFFF;\n",
              "    }\n",
              "  </style>\n",
              "\n",
              "      <script>\n",
              "        const buttonEl =\n",
              "          document.querySelector('#df-74ee0d64-4536-4e6c-aceb-f664c0ed3599 button.colab-df-convert');\n",
              "        buttonEl.style.display =\n",
              "          google.colab.kernel.accessAllowed ? 'block' : 'none';\n",
              "\n",
              "        async function convertToInteractive(key) {\n",
              "          const element = document.querySelector('#df-74ee0d64-4536-4e6c-aceb-f664c0ed3599');\n",
              "          const dataTable =\n",
              "            await google.colab.kernel.invokeFunction('convertToInteractive',\n",
              "                                                     [key], {});\n",
              "          if (!dataTable) return;\n",
              "\n",
              "          const docLinkHtml = 'Like what you see? Visit the ' +\n",
              "            '<a target=\"_blank\" href=https://colab.research.google.com/notebooks/data_table.ipynb>data table notebook</a>'\n",
              "            + ' to learn more about interactive tables.';\n",
              "          element.innerHTML = '';\n",
              "          dataTable['output_type'] = 'display_data';\n",
              "          await google.colab.output.renderOutput(dataTable, element);\n",
              "          const docLink = document.createElement('div');\n",
              "          docLink.innerHTML = docLinkHtml;\n",
              "          element.appendChild(docLink);\n",
              "        }\n",
              "      </script>\n",
              "    </div>\n",
              "  </div>\n",
              "  "
            ]
          },
          "metadata": {}
        },
        {
          "output_type": "stream",
          "name": "stdout",
          "text": [
            "\n",
            "\n",
            "\n",
            "\n"
          ]
        }
      ],
      "source": [
        "#@title Comparison Table\n",
        "rows = ['Discrete Parameter Shift',\n",
        "          'Discrete Finite Difference',\n",
        "          'Discrete LCU', \n",
        "          'Discrete QNG',\n",
        "          'Discrete Newton Gradient',\n",
        "          #'Classical'\n",
        "          ]\n",
        "columns_g = [\"#Param Gates 6\", \"#Param Gates 12\", \"#Param Gates 18\", \"#Param Gates 24\", \"#Param Gates 30\"]\n",
        "iters = [0, 1, 2, 3, 4]\n",
        "columns_s = [\"Loss\", \"Time(second)\"]\n",
        "problems = [\"Max-Cut\", \"Clique\", \"Binary Linear Programming\", \"Knapsack\"]\n",
        "for problemn in range(len(problems)):\n",
        "  df = pd.DataFrame([[pslc[problemn][iters[0]], pstc[problemn][iters[0]], pslc[problemn][iters[1]],pstc[problemn][iters[1]],pslc[problemn][iters[2]],pstc[problemn][iters[2]],pslc[problemn][iters[3]],pstc[problemn][iters[3]],pslc[problemn][iters[4]],pstc[problemn][iters[4]]],\n",
        "                    [fdlc[problemn][iters[0]], fdtc[problemn][iters[0]], fdlc[problemn][iters[1]], fdtc[problemn][iters[1]], fdlc[problemn][iters[2]], fdtc[problemn][iters[2]], fdlc[problemn][iters[3]], fdtc[problemn][iters[3]], fdlc[problemn][iters[4]], fdtc[problemn][iters[4]]],\n",
        "                    [lculc[problemn][iters[0]], lcutc[problemn][iters[0]], lculc[problemn][iters[1]], lcutc[problemn][iters[1]], lculc[problemn][iters[2]], lcutc[problemn][iters[2]], lculc[problemn][iters[3]], lcutc[problemn][iters[3]], lculc[problemn][iters[4]], lcutc[problemn][iters[4]]],\n",
        "                    [qnglc[problemn][iters[0]],qngtc[problemn][iters[0]],qnglc[problemn][iters[1]],qngtc[problemn][iters[1]],qnglc[problemn][iters[2]],qngtc[problemn][iters[2]], qnglc[problemn][iters[3]],qngtc[problemn][iters[3]], qnglc[problemn][iters[4]],qngtc[problemn][iters[4]]],\n",
        "                    [qnwlc[problemn][iters[0]],qnwtc[problemn][iters[0]],qnwlc[problemn][iters[1]],qnwtc[problemn][iters[1]],qnwlc[problemn][iters[2]],qnwtc[problemn][iters[2]],qnwlc[problemn][iters[3]],qnwtc[problemn][iters[3]],qnwlc[problemn][iters[4]],qnwtc[problemn][iters[4]]],\n",
        "                    #[loss_plot_classical[5],classical_time_i[100],loss_plot_classical[200],classical_time_i[200],loss_plot_classical[300],classical_time_i[300], loss_plot_classical[400],classical_time_i[400], loss_plot_classical[500],classical_time_i[500]]\n",
        "                    ])\n",
        "\n",
        "  col_ix = pd.MultiIndex.from_product([columns_g, columns_s]) \n",
        "  row_ix = pd.MultiIndex.from_product([rows])\n",
        "  df = df.set_index(row_ix)\n",
        "  df.columns = col_ix\n",
        "  df[( '#Param Gates 6','Loss')] = df[( '#Param Gates 6','Loss')].map('{:.2e}'.format)\n",
        "  df[( '#Param Gates 12','Loss')] = df[( '#Param Gates 12','Loss')].map('{:.2e}'.format)\n",
        "  df[( '#Param Gates 18','Loss')] = df[( '#Param Gates 18','Loss')].map('{:.2e}'.format)\n",
        "  df[( '#Param Gates 24','Loss')] = df[( '#Param Gates 24','Loss')].map('{:.2e}'.format)\n",
        "  df[( '#Param Gates 30','Loss')] = df[( '#Param Gates 30','Loss')].map('{:.2e}'.format)\n",
        "  # df[( '#Param Gates 500','Loss')] = df[( '#Param Gates 500','Loss')].map('{:.2e}'.format)\n",
        "  print(f\"\\033[1m{problems[problemn]}\\033[0m\")\n",
        "  display(df.round(2))\n",
        "  print(\"\\n\\n\\n\")"
      ]
    },
    {
      "cell_type": "markdown",
      "metadata": {
        "id": "Qd3EUUWU4RZH"
      },
      "source": [
        "## **Continuous-variable**\n",
        "Using $S(0.49, 0.2)D(0.395, 0.5)$ as target gate"
      ]
    },
    {
      "cell_type": "code",
      "execution_count": null,
      "metadata": {
        "id": "rhUwygIHyCXw"
      },
      "outputs": [],
      "source": [
        "# num_wires_cv = 1\n",
        "# dev_cv = qml.device(\"strawberryfields.fock\", wires=num_wires_cv, cutoff_dim=20)"
      ]
    },
    {
      "cell_type": "code",
      "execution_count": null,
      "metadata": {
        "id": "rE2AI_k9Nc6t"
      },
      "outputs": [],
      "source": [
        "# def problem_cv():\n",
        "#     qml.Squeezing(0.49, 0.2, wires=0)\n",
        "#     qml.Displacement(0.395, 0.5, wires=0)"
      ]
    },
    {
      "cell_type": "markdown",
      "metadata": {
        "id": "OJ26U7JkNe9u"
      },
      "source": [
        "Ansatz for estimating target gate"
      ]
    },
    {
      "cell_type": "code",
      "execution_count": null,
      "metadata": {
        "id": "G0VyNO2M0XlK"
      },
      "outputs": [],
      "source": [
        "# def ansatz_cv(var):\n",
        "#     for wire in range(num_wires_cv):\n",
        "#       qml.Rotation(var[0+wire], wires=wire)\n",
        "#       qml.Squeezing(var[1+wire], 0.0, wires=wire)\n",
        "#       qml.Displacement(var[2+wire], 0.0, wires=wire)"
      ]
    },
    {
      "cell_type": "markdown",
      "metadata": {
        "id": "m8jwLps9NkOn"
      },
      "source": [
        "Objective function <br> \n",
        "1. initial state is  $|0⟩$\n",
        "2. apply target gate $U(r, \\theta)|0⟩$ <br> \n",
        "photon number expectation value $⟨n⟩$\n",
        "3. apply ansatz $A(s, \\alpha)$  and $U(r, \\theta)$<br> \n",
        "photon number expectation value $A(s, \\alpha)U(r, \\theta)|0⟩ = ⟨n'⟩$\n",
        "4. if $⟨n'⟩ = 0$ then  $A(s, \\alpha) = U^\\dagger(r, \\theta)$\n",
        "5. so, we will minimize $⟨n'⟩$ to target $0$ to make $A(s, \\alpha) = U^\\dagger(r, \\theta)$\n"
      ]
    },
    {
      "cell_type": "code",
      "execution_count": null,
      "metadata": {
        "id": "-sht3m-iNgiA"
      },
      "outputs": [],
      "source": [
        "# @qml.qnode(dev_cv)\n",
        "# def cost_function_cv(var):\n",
        "#     for v in var:\n",
        "#       ansatz_cv(v)\n",
        "\n",
        "#     problem_cv()\n",
        "\n",
        "#     return qml.expval(qml.NumberOperator(wires=0))"
      ]
    },
    {
      "cell_type": "markdown",
      "metadata": {
        "id": "UgKEPf-KP5X_"
      },
      "source": [
        "Probability distribution of target gate"
      ]
    },
    {
      "cell_type": "code",
      "execution_count": null,
      "metadata": {
        "id": "4qg3hmWyP4f5"
      },
      "outputs": [],
      "source": [
        "# @qml.qnode(dev_cv)\n",
        "# def target_cv():\n",
        "#     problem_cv()\n",
        "\n",
        "#     return qml.probs(wires=0) #qml.NumberOperator(wires=0)"
      ]
    },
    {
      "cell_type": "markdown",
      "metadata": {
        "id": "dobPY6LFQB1z"
      },
      "source": [
        "Probability distribution of estimated gate"
      ]
    },
    {
      "cell_type": "code",
      "execution_count": null,
      "metadata": {
        "id": "hcbCfAx_P3cB"
      },
      "outputs": [],
      "source": [
        "# @qml.qnode(dev_cv)\n",
        "# def prediction_cv(var):\n",
        "#     for v in var:\n",
        "#       ansatz_cv(v)\n",
        "    \n",
        "#     return qml.probs(wires=0)"
      ]
    },
    {
      "cell_type": "code",
      "execution_count": null,
      "metadata": {
        "id": "WQ-9whXm02OC"
      },
      "outputs": [],
      "source": [
        "# # def MAE_cv(var):\n",
        "# #   pred = prediction_cv(var)\n",
        "# #   y = target_cv()\n",
        "# #   return sum(abs(pred-y))/len(y)\n",
        "\n",
        "# def similarity(var):\n",
        "#   pred = prediction_cv(var)\n",
        "#   y = target_cv()\n",
        "#   cos_sim = np.dot(pred, y)/(np.linalg.norm(pred)*np.linalg.norm(y))\n",
        "#   return 1-cos_sim"
      ]
    },
    {
      "cell_type": "code",
      "execution_count": null,
      "metadata": {
        "id": "zSniviDXDHiT"
      },
      "outputs": [],
      "source": [
        "# np.random.seed(1)\n",
        "# num_layers_cv = 1\n",
        "# var_init_cv = 0.05*np.random.randn(num_layers_cv, 3*num_wires_cv)"
      ]
    },
    {
      "cell_type": "code",
      "execution_count": null,
      "metadata": {
        "id": "coZur5gPFLYW"
      },
      "outputs": [],
      "source": [
        "# print(\"Initial cost: \", cost_function_cv(var_init_cv))"
      ]
    },
    {
      "cell_type": "markdown",
      "metadata": {
        "id": "9RBeog4WQJM2"
      },
      "source": [
        "### Parameter shift rule"
      ]
    },
    {
      "cell_type": "code",
      "execution_count": null,
      "metadata": {
        "id": "eYEiS55mCNhU"
      },
      "outputs": [],
      "source": [
        "# parameter_shift_cv_time_i = []\n",
        "# start = time.time()\n",
        "\n",
        "# opt_cv = GradientDescentOptimizer(0.01)\n",
        "\n",
        "# s = 0.1\n",
        "# alpha = np.pi/2\n",
        "\n",
        "# var_cv = var_init_cv.copy()\n",
        "# loss_plot_cv = []\n",
        "# break_count = 0\n",
        "\n",
        "\n",
        "# for it in range(1201):# while True:\n",
        "#     var_cv, _cost = opt.step_and_cost(lambda v: similarity(v), var_cv, \n",
        "#                                    grad_fn=lambda var_cv: parameter_shift_cv(cost_function_cv, var_cv)) \n",
        "    \n",
        "#     loss_plot_cv.append(_cost)\n",
        "\n",
        "#     if it%100==0:\n",
        "#       print(\"Iter: {:5d} | Cost: {:0.11f} \".format(it, _cost))\n",
        "    \n",
        "#     end = time.time()\n",
        "#     t = end - start\n",
        "#     parameter_shift_cv_time_i.append(t)"
      ]
    },
    {
      "cell_type": "markdown",
      "metadata": {
        "id": "lWfinCpHqJYm"
      },
      "source": [
        "### Finite difference"
      ]
    },
    {
      "cell_type": "code",
      "execution_count": null,
      "metadata": {
        "id": "PY3y3KcISHWd"
      },
      "outputs": [],
      "source": [
        "# finite_cv_time_i = []\n",
        "# start = time.time()\n",
        "\n",
        "# opt_cv = GradientDescentOptimizer(0.01)\n",
        "\n",
        "# s = 0.1\n",
        "# alpha = np.pi/2\n",
        "\n",
        "# var_cv_fd = var_init_cv.copy()\n",
        "# loss_plot_cv_fd = []\n",
        "# break_count = 0\n",
        "\n",
        "\n",
        "# for it in range(1201):# while True:\n",
        "#     var_cv_fd, _cost = opt.step_and_cost(lambda v: similarity(v), var_cv_fd, \n",
        "#                                    grad_fn=lambda var_cv_fd: finite_difference_cv(cost_function_cv, var_cv_fd)) \n",
        "    \n",
        "#     loss_plot_cv_fd.append(_cost)\n",
        "\n",
        "#     if it%100==0:\n",
        "#       print(\"Iter: {:5d} | Cost: {:0.11f} \".format(it, _cost))\n",
        "    \n",
        "#     end = time.time()\n",
        "#     t = end - start\n",
        "#     finite_cv_time_i.append(t)"
      ]
    }
  ],
  "metadata": {
    "colab": {
      "collapsed_sections": [
        "__wEBgF9oflu",
        "Qd3EUUWU4RZH"
      ],
      "name": "sampling_discrete_gradient_comparison.ipynb",
      "provenance": [],
      "toc_visible": true,
      "include_colab_link": true
    },
    "kernelspec": {
      "display_name": "Python 3",
      "name": "python3"
    },
    "language_info": {
      "name": "python"
    },
    "widgets": {
      "application/vnd.jupyter.widget-state+json": {
        "ff4f2bc540f2474ebb7aa7f00eb7b932": {
          "model_module": "@jupyter-widgets/controls",
          "model_name": "HBoxModel",
          "model_module_version": "1.5.0",
          "state": {
            "_dom_classes": [],
            "_model_module": "@jupyter-widgets/controls",
            "_model_module_version": "1.5.0",
            "_model_name": "HBoxModel",
            "_view_count": null,
            "_view_module": "@jupyter-widgets/controls",
            "_view_module_version": "1.5.0",
            "_view_name": "HBoxView",
            "box_style": "",
            "children": [
              "IPY_MODEL_72cc7a156192472e9b98720e0b38e7b4",
              "IPY_MODEL_bc5e0b508a644ca29c2979bc096fdb91",
              "IPY_MODEL_47fa23205f414cea91dc7945c4ab0448"
            ],
            "layout": "IPY_MODEL_85c89801acb641508afb214bb764bc2f"
          }
        },
        "72cc7a156192472e9b98720e0b38e7b4": {
          "model_module": "@jupyter-widgets/controls",
          "model_name": "HTMLModel",
          "model_module_version": "1.5.0",
          "state": {
            "_dom_classes": [],
            "_model_module": "@jupyter-widgets/controls",
            "_model_module_version": "1.5.0",
            "_model_name": "HTMLModel",
            "_view_count": null,
            "_view_module": "@jupyter-widgets/controls",
            "_view_module_version": "1.5.0",
            "_view_name": "HTMLView",
            "description": "",
            "description_tooltip": null,
            "layout": "IPY_MODEL_20c07e35d1f94e31950f2358a383833e",
            "placeholder": "​",
            "style": "IPY_MODEL_0612d4ca6dc9450aaefd3ace1633df81",
            "value": "100%"
          }
        },
        "bc5e0b508a644ca29c2979bc096fdb91": {
          "model_module": "@jupyter-widgets/controls",
          "model_name": "FloatProgressModel",
          "model_module_version": "1.5.0",
          "state": {
            "_dom_classes": [],
            "_model_module": "@jupyter-widgets/controls",
            "_model_module_version": "1.5.0",
            "_model_name": "FloatProgressModel",
            "_view_count": null,
            "_view_module": "@jupyter-widgets/controls",
            "_view_module_version": "1.5.0",
            "_view_name": "ProgressView",
            "bar_style": "success",
            "description": "",
            "description_tooltip": null,
            "layout": "IPY_MODEL_4f16dde20a6e42099c23eb4dc38c5099",
            "max": 50,
            "min": 0,
            "orientation": "horizontal",
            "style": "IPY_MODEL_46217adc4e2b4064b499adcf1f16dfa6",
            "value": 50
          }
        },
        "47fa23205f414cea91dc7945c4ab0448": {
          "model_module": "@jupyter-widgets/controls",
          "model_name": "HTMLModel",
          "model_module_version": "1.5.0",
          "state": {
            "_dom_classes": [],
            "_model_module": "@jupyter-widgets/controls",
            "_model_module_version": "1.5.0",
            "_model_name": "HTMLModel",
            "_view_count": null,
            "_view_module": "@jupyter-widgets/controls",
            "_view_module_version": "1.5.0",
            "_view_name": "HTMLView",
            "description": "",
            "description_tooltip": null,
            "layout": "IPY_MODEL_ca2ff26a0ad0458d9abd31929bbd4704",
            "placeholder": "​",
            "style": "IPY_MODEL_f8242e7fc491498f8437f08201e3a378",
            "value": " 50/50 [00:19&lt;00:00,  2.37it/s]"
          }
        },
        "85c89801acb641508afb214bb764bc2f": {
          "model_module": "@jupyter-widgets/base",
          "model_name": "LayoutModel",
          "model_module_version": "1.2.0",
          "state": {
            "_model_module": "@jupyter-widgets/base",
            "_model_module_version": "1.2.0",
            "_model_name": "LayoutModel",
            "_view_count": null,
            "_view_module": "@jupyter-widgets/base",
            "_view_module_version": "1.2.0",
            "_view_name": "LayoutView",
            "align_content": null,
            "align_items": null,
            "align_self": null,
            "border": null,
            "bottom": null,
            "display": null,
            "flex": null,
            "flex_flow": null,
            "grid_area": null,
            "grid_auto_columns": null,
            "grid_auto_flow": null,
            "grid_auto_rows": null,
            "grid_column": null,
            "grid_gap": null,
            "grid_row": null,
            "grid_template_areas": null,
            "grid_template_columns": null,
            "grid_template_rows": null,
            "height": null,
            "justify_content": null,
            "justify_items": null,
            "left": null,
            "margin": null,
            "max_height": null,
            "max_width": null,
            "min_height": null,
            "min_width": null,
            "object_fit": null,
            "object_position": null,
            "order": null,
            "overflow": null,
            "overflow_x": null,
            "overflow_y": null,
            "padding": null,
            "right": null,
            "top": null,
            "visibility": null,
            "width": null
          }
        },
        "20c07e35d1f94e31950f2358a383833e": {
          "model_module": "@jupyter-widgets/base",
          "model_name": "LayoutModel",
          "model_module_version": "1.2.0",
          "state": {
            "_model_module": "@jupyter-widgets/base",
            "_model_module_version": "1.2.0",
            "_model_name": "LayoutModel",
            "_view_count": null,
            "_view_module": "@jupyter-widgets/base",
            "_view_module_version": "1.2.0",
            "_view_name": "LayoutView",
            "align_content": null,
            "align_items": null,
            "align_self": null,
            "border": null,
            "bottom": null,
            "display": null,
            "flex": null,
            "flex_flow": null,
            "grid_area": null,
            "grid_auto_columns": null,
            "grid_auto_flow": null,
            "grid_auto_rows": null,
            "grid_column": null,
            "grid_gap": null,
            "grid_row": null,
            "grid_template_areas": null,
            "grid_template_columns": null,
            "grid_template_rows": null,
            "height": null,
            "justify_content": null,
            "justify_items": null,
            "left": null,
            "margin": null,
            "max_height": null,
            "max_width": null,
            "min_height": null,
            "min_width": null,
            "object_fit": null,
            "object_position": null,
            "order": null,
            "overflow": null,
            "overflow_x": null,
            "overflow_y": null,
            "padding": null,
            "right": null,
            "top": null,
            "visibility": null,
            "width": null
          }
        },
        "0612d4ca6dc9450aaefd3ace1633df81": {
          "model_module": "@jupyter-widgets/controls",
          "model_name": "DescriptionStyleModel",
          "model_module_version": "1.5.0",
          "state": {
            "_model_module": "@jupyter-widgets/controls",
            "_model_module_version": "1.5.0",
            "_model_name": "DescriptionStyleModel",
            "_view_count": null,
            "_view_module": "@jupyter-widgets/base",
            "_view_module_version": "1.2.0",
            "_view_name": "StyleView",
            "description_width": ""
          }
        },
        "4f16dde20a6e42099c23eb4dc38c5099": {
          "model_module": "@jupyter-widgets/base",
          "model_name": "LayoutModel",
          "model_module_version": "1.2.0",
          "state": {
            "_model_module": "@jupyter-widgets/base",
            "_model_module_version": "1.2.0",
            "_model_name": "LayoutModel",
            "_view_count": null,
            "_view_module": "@jupyter-widgets/base",
            "_view_module_version": "1.2.0",
            "_view_name": "LayoutView",
            "align_content": null,
            "align_items": null,
            "align_self": null,
            "border": null,
            "bottom": null,
            "display": null,
            "flex": null,
            "flex_flow": null,
            "grid_area": null,
            "grid_auto_columns": null,
            "grid_auto_flow": null,
            "grid_auto_rows": null,
            "grid_column": null,
            "grid_gap": null,
            "grid_row": null,
            "grid_template_areas": null,
            "grid_template_columns": null,
            "grid_template_rows": null,
            "height": null,
            "justify_content": null,
            "justify_items": null,
            "left": null,
            "margin": null,
            "max_height": null,
            "max_width": null,
            "min_height": null,
            "min_width": null,
            "object_fit": null,
            "object_position": null,
            "order": null,
            "overflow": null,
            "overflow_x": null,
            "overflow_y": null,
            "padding": null,
            "right": null,
            "top": null,
            "visibility": null,
            "width": null
          }
        },
        "46217adc4e2b4064b499adcf1f16dfa6": {
          "model_module": "@jupyter-widgets/controls",
          "model_name": "ProgressStyleModel",
          "model_module_version": "1.5.0",
          "state": {
            "_model_module": "@jupyter-widgets/controls",
            "_model_module_version": "1.5.0",
            "_model_name": "ProgressStyleModel",
            "_view_count": null,
            "_view_module": "@jupyter-widgets/base",
            "_view_module_version": "1.2.0",
            "_view_name": "StyleView",
            "bar_color": null,
            "description_width": ""
          }
        },
        "ca2ff26a0ad0458d9abd31929bbd4704": {
          "model_module": "@jupyter-widgets/base",
          "model_name": "LayoutModel",
          "model_module_version": "1.2.0",
          "state": {
            "_model_module": "@jupyter-widgets/base",
            "_model_module_version": "1.2.0",
            "_model_name": "LayoutModel",
            "_view_count": null,
            "_view_module": "@jupyter-widgets/base",
            "_view_module_version": "1.2.0",
            "_view_name": "LayoutView",
            "align_content": null,
            "align_items": null,
            "align_self": null,
            "border": null,
            "bottom": null,
            "display": null,
            "flex": null,
            "flex_flow": null,
            "grid_area": null,
            "grid_auto_columns": null,
            "grid_auto_flow": null,
            "grid_auto_rows": null,
            "grid_column": null,
            "grid_gap": null,
            "grid_row": null,
            "grid_template_areas": null,
            "grid_template_columns": null,
            "grid_template_rows": null,
            "height": null,
            "justify_content": null,
            "justify_items": null,
            "left": null,
            "margin": null,
            "max_height": null,
            "max_width": null,
            "min_height": null,
            "min_width": null,
            "object_fit": null,
            "object_position": null,
            "order": null,
            "overflow": null,
            "overflow_x": null,
            "overflow_y": null,
            "padding": null,
            "right": null,
            "top": null,
            "visibility": null,
            "width": null
          }
        },
        "f8242e7fc491498f8437f08201e3a378": {
          "model_module": "@jupyter-widgets/controls",
          "model_name": "DescriptionStyleModel",
          "model_module_version": "1.5.0",
          "state": {
            "_model_module": "@jupyter-widgets/controls",
            "_model_module_version": "1.5.0",
            "_model_name": "DescriptionStyleModel",
            "_view_count": null,
            "_view_module": "@jupyter-widgets/base",
            "_view_module_version": "1.2.0",
            "_view_name": "StyleView",
            "description_width": ""
          }
        }
      }
    }
  },
  "nbformat": 4,
  "nbformat_minor": 0
}