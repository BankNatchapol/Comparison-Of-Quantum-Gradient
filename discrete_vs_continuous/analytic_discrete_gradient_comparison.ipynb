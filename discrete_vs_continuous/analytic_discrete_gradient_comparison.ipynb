{
  "cells": [
    {
      "cell_type": "markdown",
      "metadata": {
        "id": "view-in-github",
        "colab_type": "text"
      },
      "source": [
        "<a href=\"https://colab.research.google.com/github/BankNatchapol/Comparison-of-Quantum-Gradient/blob/main/discrete_vs_continuous/analytic_discrete_gradient_comparison.ipynb\" target=\"_parent\"><img src=\"https://colab.research.google.com/assets/colab-badge.svg\" alt=\"Open In Colab\"/></a>"
      ]
    },
    {
      "cell_type": "code",
      "execution_count": null,
      "metadata": {
        "id": "SBqFCoePuw6c",
        "colab": {
          "base_uri": "https://localhost:8080/"
        },
        "outputId": "eb59d2d8-b3fb-4dd4-f75c-f9345da92369"
      },
      "outputs": [
        {
          "output_type": "stream",
          "name": "stdout",
          "text": [
            "Collecting pennylane\n",
            "  Downloading PennyLane-0.22.1-py3-none-any.whl (881 kB)\n",
            "\u001b[?25l\r\u001b[K     |▍                               | 10 kB 20.5 MB/s eta 0:00:01\r\u001b[K     |▊                               | 20 kB 26.1 MB/s eta 0:00:01\r\u001b[K     |█▏                              | 30 kB 32.0 MB/s eta 0:00:01\r\u001b[K     |█▌                              | 40 kB 18.1 MB/s eta 0:00:01\r\u001b[K     |█▉                              | 51 kB 15.9 MB/s eta 0:00:01\r\u001b[K     |██▎                             | 61 kB 18.3 MB/s eta 0:00:01\r\u001b[K     |██▋                             | 71 kB 18.2 MB/s eta 0:00:01\r\u001b[K     |███                             | 81 kB 19.8 MB/s eta 0:00:01\r\u001b[K     |███▍                            | 92 kB 21.7 MB/s eta 0:00:01\r\u001b[K     |███▊                            | 102 kB 19.0 MB/s eta 0:00:01\r\u001b[K     |████                            | 112 kB 19.0 MB/s eta 0:00:01\r\u001b[K     |████▌                           | 122 kB 19.0 MB/s eta 0:00:01\r\u001b[K     |████▉                           | 133 kB 19.0 MB/s eta 0:00:01\r\u001b[K     |█████▏                          | 143 kB 19.0 MB/s eta 0:00:01\r\u001b[K     |█████▋                          | 153 kB 19.0 MB/s eta 0:00:01\r\u001b[K     |██████                          | 163 kB 19.0 MB/s eta 0:00:01\r\u001b[K     |██████▎                         | 174 kB 19.0 MB/s eta 0:00:01\r\u001b[K     |██████▊                         | 184 kB 19.0 MB/s eta 0:00:01\r\u001b[K     |███████                         | 194 kB 19.0 MB/s eta 0:00:01\r\u001b[K     |███████▍                        | 204 kB 19.0 MB/s eta 0:00:01\r\u001b[K     |███████▉                        | 215 kB 19.0 MB/s eta 0:00:01\r\u001b[K     |████████▏                       | 225 kB 19.0 MB/s eta 0:00:01\r\u001b[K     |████████▌                       | 235 kB 19.0 MB/s eta 0:00:01\r\u001b[K     |█████████                       | 245 kB 19.0 MB/s eta 0:00:01\r\u001b[K     |█████████▎                      | 256 kB 19.0 MB/s eta 0:00:01\r\u001b[K     |█████████▊                      | 266 kB 19.0 MB/s eta 0:00:01\r\u001b[K     |██████████                      | 276 kB 19.0 MB/s eta 0:00:01\r\u001b[K     |██████████▍                     | 286 kB 19.0 MB/s eta 0:00:01\r\u001b[K     |██████████▉                     | 296 kB 19.0 MB/s eta 0:00:01\r\u001b[K     |███████████▏                    | 307 kB 19.0 MB/s eta 0:00:01\r\u001b[K     |███████████▌                    | 317 kB 19.0 MB/s eta 0:00:01\r\u001b[K     |████████████                    | 327 kB 19.0 MB/s eta 0:00:01\r\u001b[K     |████████████▎                   | 337 kB 19.0 MB/s eta 0:00:01\r\u001b[K     |████████████▋                   | 348 kB 19.0 MB/s eta 0:00:01\r\u001b[K     |█████████████                   | 358 kB 19.0 MB/s eta 0:00:01\r\u001b[K     |█████████████▍                  | 368 kB 19.0 MB/s eta 0:00:01\r\u001b[K     |█████████████▊                  | 378 kB 19.0 MB/s eta 0:00:01\r\u001b[K     |██████████████▏                 | 389 kB 19.0 MB/s eta 0:00:01\r\u001b[K     |██████████████▌                 | 399 kB 19.0 MB/s eta 0:00:01\r\u001b[K     |██████████████▉                 | 409 kB 19.0 MB/s eta 0:00:01\r\u001b[K     |███████████████▎                | 419 kB 19.0 MB/s eta 0:00:01\r\u001b[K     |███████████████▋                | 430 kB 19.0 MB/s eta 0:00:01\r\u001b[K     |████████████████                | 440 kB 19.0 MB/s eta 0:00:01\r\u001b[K     |████████████████▍               | 450 kB 19.0 MB/s eta 0:00:01\r\u001b[K     |████████████████▊               | 460 kB 19.0 MB/s eta 0:00:01\r\u001b[K     |█████████████████               | 471 kB 19.0 MB/s eta 0:00:01\r\u001b[K     |█████████████████▌              | 481 kB 19.0 MB/s eta 0:00:01\r\u001b[K     |█████████████████▉              | 491 kB 19.0 MB/s eta 0:00:01\r\u001b[K     |██████████████████▎             | 501 kB 19.0 MB/s eta 0:00:01\r\u001b[K     |██████████████████▋             | 512 kB 19.0 MB/s eta 0:00:01\r\u001b[K     |███████████████████             | 522 kB 19.0 MB/s eta 0:00:01\r\u001b[K     |███████████████████▍            | 532 kB 19.0 MB/s eta 0:00:01\r\u001b[K     |███████████████████▊            | 542 kB 19.0 MB/s eta 0:00:01\r\u001b[K     |████████████████████            | 552 kB 19.0 MB/s eta 0:00:01\r\u001b[K     |████████████████████▌           | 563 kB 19.0 MB/s eta 0:00:01\r\u001b[K     |████████████████████▉           | 573 kB 19.0 MB/s eta 0:00:01\r\u001b[K     |█████████████████████▏          | 583 kB 19.0 MB/s eta 0:00:01\r\u001b[K     |█████████████████████▋          | 593 kB 19.0 MB/s eta 0:00:01\r\u001b[K     |██████████████████████          | 604 kB 19.0 MB/s eta 0:00:01\r\u001b[K     |██████████████████████▎         | 614 kB 19.0 MB/s eta 0:00:01\r\u001b[K     |██████████████████████▊         | 624 kB 19.0 MB/s eta 0:00:01\r\u001b[K     |███████████████████████         | 634 kB 19.0 MB/s eta 0:00:01\r\u001b[K     |███████████████████████▍        | 645 kB 19.0 MB/s eta 0:00:01\r\u001b[K     |███████████████████████▉        | 655 kB 19.0 MB/s eta 0:00:01\r\u001b[K     |████████████████████████▏       | 665 kB 19.0 MB/s eta 0:00:01\r\u001b[K     |████████████████████████▌       | 675 kB 19.0 MB/s eta 0:00:01\r\u001b[K     |█████████████████████████       | 686 kB 19.0 MB/s eta 0:00:01\r\u001b[K     |█████████████████████████▎      | 696 kB 19.0 MB/s eta 0:00:01\r\u001b[K     |█████████████████████████▋      | 706 kB 19.0 MB/s eta 0:00:01\r\u001b[K     |██████████████████████████      | 716 kB 19.0 MB/s eta 0:00:01\r\u001b[K     |██████████████████████████▍     | 727 kB 19.0 MB/s eta 0:00:01\r\u001b[K     |██████████████████████████▊     | 737 kB 19.0 MB/s eta 0:00:01\r\u001b[K     |███████████████████████████▏    | 747 kB 19.0 MB/s eta 0:00:01\r\u001b[K     |███████████████████████████▌    | 757 kB 19.0 MB/s eta 0:00:01\r\u001b[K     |████████████████████████████    | 768 kB 19.0 MB/s eta 0:00:01\r\u001b[K     |████████████████████████████▎   | 778 kB 19.0 MB/s eta 0:00:01\r\u001b[K     |████████████████████████████▋   | 788 kB 19.0 MB/s eta 0:00:01\r\u001b[K     |█████████████████████████████   | 798 kB 19.0 MB/s eta 0:00:01\r\u001b[K     |█████████████████████████████▍  | 808 kB 19.0 MB/s eta 0:00:01\r\u001b[K     |█████████████████████████████▊  | 819 kB 19.0 MB/s eta 0:00:01\r\u001b[K     |██████████████████████████████▏ | 829 kB 19.0 MB/s eta 0:00:01\r\u001b[K     |██████████████████████████████▌ | 839 kB 19.0 MB/s eta 0:00:01\r\u001b[K     |██████████████████████████████▉ | 849 kB 19.0 MB/s eta 0:00:01\r\u001b[K     |███████████████████████████████▎| 860 kB 19.0 MB/s eta 0:00:01\r\u001b[K     |███████████████████████████████▋| 870 kB 19.0 MB/s eta 0:00:01\r\u001b[K     |████████████████████████████████| 880 kB 19.0 MB/s eta 0:00:01\r\u001b[K     |████████████████████████████████| 881 kB 19.0 MB/s \n",
            "\u001b[?25hRequirement already satisfied: cachetools in /usr/local/lib/python3.7/dist-packages (from pennylane) (4.2.4)\n",
            "Collecting pennylane-lightning>=0.22\n",
            "  Downloading PennyLane_Lightning-0.22.0-cp37-cp37m-manylinux_2_17_x86_64.manylinux2014_x86_64.whl (8.2 MB)\n",
            "\u001b[K     |████████████████████████████████| 8.2 MB 59.2 MB/s \n",
            "\u001b[?25hRequirement already satisfied: scipy in /usr/local/lib/python3.7/dist-packages (from pennylane) (1.4.1)\n",
            "Collecting toml\n",
            "  Downloading toml-0.10.2-py2.py3-none-any.whl (16 kB)\n",
            "Collecting autoray\n",
            "  Downloading autoray-0.2.5-py3-none-any.whl (16 kB)\n",
            "Requirement already satisfied: appdirs in /usr/local/lib/python3.7/dist-packages (from pennylane) (1.4.4)\n",
            "Collecting semantic-version==2.6\n",
            "  Downloading semantic_version-2.6.0-py3-none-any.whl (14 kB)\n",
            "Requirement already satisfied: autograd in /usr/local/lib/python3.7/dist-packages (from pennylane) (1.3)\n",
            "Requirement already satisfied: networkx in /usr/local/lib/python3.7/dist-packages (from pennylane) (2.6.3)\n",
            "Collecting retworkx\n",
            "  Downloading retworkx-0.11.0-cp37-cp37m-manylinux_2_5_x86_64.manylinux1_x86_64.manylinux_2_12_x86_64.manylinux2010_x86_64.whl (1.6 MB)\n",
            "\u001b[K     |████████████████████████████████| 1.6 MB 56.9 MB/s \n",
            "\u001b[?25hRequirement already satisfied: numpy in /usr/local/lib/python3.7/dist-packages (from pennylane) (1.21.5)\n",
            "Collecting ninja\n",
            "  Downloading ninja-1.10.2.3-py2.py3-none-manylinux_2_5_x86_64.manylinux1_x86_64.whl (108 kB)\n",
            "\u001b[K     |████████████████████████████████| 108 kB 41.7 MB/s \n",
            "\u001b[?25hRequirement already satisfied: future>=0.15.2 in /usr/local/lib/python3.7/dist-packages (from autograd->pennylane) (0.16.0)\n",
            "Installing collected packages: ninja, toml, semantic-version, retworkx, pennylane-lightning, autoray, pennylane\n",
            "Successfully installed autoray-0.2.5 ninja-1.10.2.3 pennylane-0.22.1 pennylane-lightning-0.22.0 retworkx-0.11.0 semantic-version-2.6.0 toml-0.10.2\n",
            "Collecting qiskit\n",
            "  Downloading qiskit-0.34.2.tar.gz (13 kB)\n",
            "Collecting qiskit-terra==0.19.2\n",
            "  Downloading qiskit_terra-0.19.2-cp37-cp37m-manylinux_2_12_x86_64.manylinux2010_x86_64.whl (6.5 MB)\n",
            "\u001b[K     |████████████████████████████████| 6.5 MB 10.9 MB/s \n",
            "\u001b[?25hCollecting qiskit-aer==0.10.3\n",
            "  Downloading qiskit_aer-0.10.3-cp37-cp37m-manylinux_2_12_x86_64.manylinux2010_x86_64.whl (18.0 MB)\n",
            "\u001b[K     |████████████████████████████████| 18.0 MB 55 kB/s \n",
            "\u001b[?25hCollecting qiskit-ibmq-provider==0.18.3\n",
            "  Downloading qiskit_ibmq_provider-0.18.3-py3-none-any.whl (238 kB)\n",
            "\u001b[K     |████████████████████████████████| 238 kB 44.4 MB/s \n",
            "\u001b[?25hCollecting qiskit-ignis==0.7.0\n",
            "  Downloading qiskit_ignis-0.7.0-py3-none-any.whl (200 kB)\n",
            "\u001b[K     |████████████████████████████████| 200 kB 44.0 MB/s \n",
            "\u001b[?25hRequirement already satisfied: numpy>=1.16.3 in /usr/local/lib/python3.7/dist-packages (from qiskit-aer==0.10.3->qiskit) (1.21.5)\n",
            "Requirement already satisfied: scipy>=1.0 in /usr/local/lib/python3.7/dist-packages (from qiskit-aer==0.10.3->qiskit) (1.4.1)\n",
            "Collecting requests-ntlm>=1.1.0\n",
            "  Downloading requests_ntlm-1.1.0-py2.py3-none-any.whl (5.7 kB)\n",
            "Requirement already satisfied: urllib3>=1.21.1 in /usr/local/lib/python3.7/dist-packages (from qiskit-ibmq-provider==0.18.3->qiskit) (1.24.3)\n",
            "Requirement already satisfied: requests>=2.19 in /usr/local/lib/python3.7/dist-packages (from qiskit-ibmq-provider==0.18.3->qiskit) (2.23.0)\n",
            "Requirement already satisfied: python-dateutil>=2.8.0 in /usr/local/lib/python3.7/dist-packages (from qiskit-ibmq-provider==0.18.3->qiskit) (2.8.2)\n",
            "Collecting websocket-client>=1.0.1\n",
            "  Downloading websocket_client-1.3.1-py3-none-any.whl (54 kB)\n",
            "\u001b[K     |████████████████████████████████| 54 kB 1.5 MB/s \n",
            "\u001b[?25hRequirement already satisfied: retworkx>=0.8.0 in /usr/local/lib/python3.7/dist-packages (from qiskit-ignis==0.7.0->qiskit) (0.11.0)\n",
            "Requirement already satisfied: setuptools>=40.1.0 in /usr/local/lib/python3.7/dist-packages (from qiskit-ignis==0.7.0->qiskit) (57.4.0)\n",
            "Collecting tweedledum<2.0,>=1.1\n",
            "  Downloading tweedledum-1.1.1-cp37-cp37m-manylinux_2_12_x86_64.manylinux2010_x86_64.whl (943 kB)\n",
            "\u001b[K     |████████████████████████████████| 943 kB 33.5 MB/s \n",
            "\u001b[?25hCollecting ply>=3.10\n",
            "  Downloading ply-3.11-py2.py3-none-any.whl (49 kB)\n",
            "\u001b[K     |████████████████████████████████| 49 kB 4.7 MB/s \n",
            "\u001b[?25hRequirement already satisfied: psutil>=5 in /usr/local/lib/python3.7/dist-packages (from qiskit-terra==0.19.2->qiskit) (5.4.8)\n",
            "Requirement already satisfied: sympy>=1.3 in /usr/local/lib/python3.7/dist-packages (from qiskit-terra==0.19.2->qiskit) (1.7.1)\n",
            "Collecting stevedore>=3.0.0\n",
            "  Downloading stevedore-3.5.0-py3-none-any.whl (49 kB)\n",
            "\u001b[K     |████████████████████████████████| 49 kB 5.5 MB/s \n",
            "\u001b[?25hCollecting python-constraint>=1.4\n",
            "  Downloading python-constraint-1.4.0.tar.bz2 (18 kB)\n",
            "Requirement already satisfied: dill>=0.3 in /usr/local/lib/python3.7/dist-packages (from qiskit-terra==0.19.2->qiskit) (0.3.4)\n",
            "Collecting scipy>=1.0\n",
            "  Downloading scipy-1.7.3-cp37-cp37m-manylinux_2_12_x86_64.manylinux2010_x86_64.whl (38.1 MB)\n",
            "\u001b[K     |████████████████████████████████| 38.1 MB 1.6 MB/s \n",
            "\u001b[?25hCollecting symengine>=0.8\n",
            "  Downloading symengine-0.9.2-cp37-cp37m-manylinux2010_x86_64.whl (37.5 MB)\n",
            "\u001b[K     |████████████████████████████████| 37.5 MB 1.3 MB/s \n",
            "\u001b[?25hRequirement already satisfied: six>=1.5 in /usr/local/lib/python3.7/dist-packages (from python-dateutil>=2.8.0->qiskit-ibmq-provider==0.18.3->qiskit) (1.15.0)\n",
            "Requirement already satisfied: chardet<4,>=3.0.2 in /usr/local/lib/python3.7/dist-packages (from requests>=2.19->qiskit-ibmq-provider==0.18.3->qiskit) (3.0.4)\n",
            "Requirement already satisfied: idna<3,>=2.5 in /usr/local/lib/python3.7/dist-packages (from requests>=2.19->qiskit-ibmq-provider==0.18.3->qiskit) (2.10)\n",
            "Requirement already satisfied: certifi>=2017.4.17 in /usr/local/lib/python3.7/dist-packages (from requests>=2.19->qiskit-ibmq-provider==0.18.3->qiskit) (2021.10.8)\n",
            "Collecting cryptography>=1.3\n",
            "  Downloading cryptography-36.0.2-cp36-abi3-manylinux_2_24_x86_64.whl (3.6 MB)\n",
            "\u001b[K     |████████████████████████████████| 3.6 MB 39.1 MB/s \n",
            "\u001b[?25hCollecting ntlm-auth>=1.0.2\n",
            "  Downloading ntlm_auth-1.5.0-py2.py3-none-any.whl (29 kB)\n",
            "Requirement already satisfied: cffi>=1.12 in /usr/local/lib/python3.7/dist-packages (from cryptography>=1.3->requests-ntlm>=1.1.0->qiskit-ibmq-provider==0.18.3->qiskit) (1.15.0)\n",
            "Requirement already satisfied: pycparser in /usr/local/lib/python3.7/dist-packages (from cffi>=1.12->cryptography>=1.3->requests-ntlm>=1.1.0->qiskit-ibmq-provider==0.18.3->qiskit) (2.21)\n",
            "Requirement already satisfied: importlib-metadata>=1.7.0 in /usr/local/lib/python3.7/dist-packages (from stevedore>=3.0.0->qiskit-terra==0.19.2->qiskit) (4.11.3)\n",
            "Collecting pbr!=2.1.0,>=2.0.0\n",
            "  Downloading pbr-5.8.1-py2.py3-none-any.whl (113 kB)\n",
            "\u001b[K     |████████████████████████████████| 113 kB 31.3 MB/s \n",
            "\u001b[?25hRequirement already satisfied: zipp>=0.5 in /usr/local/lib/python3.7/dist-packages (from importlib-metadata>=1.7.0->stevedore>=3.0.0->qiskit-terra==0.19.2->qiskit) (3.7.0)\n",
            "Requirement already satisfied: typing-extensions>=3.6.4 in /usr/local/lib/python3.7/dist-packages (from importlib-metadata>=1.7.0->stevedore>=3.0.0->qiskit-terra==0.19.2->qiskit) (3.10.0.2)\n",
            "Requirement already satisfied: mpmath>=0.19 in /usr/local/lib/python3.7/dist-packages (from sympy>=1.3->qiskit-terra==0.19.2->qiskit) (1.2.1)\n",
            "Building wheels for collected packages: qiskit, python-constraint\n",
            "  Building wheel for qiskit (setup.py) ... \u001b[?25l\u001b[?25hdone\n",
            "  Created wheel for qiskit: filename=qiskit-0.34.2-py3-none-any.whl size=11805 sha256=63f4fef65200de5fa6584aebd0b708add5d667520cba7e386b4112d6f02260b8\n",
            "  Stored in directory: /root/.cache/pip/wheels/62/77/65/cda6eedfdd2a525bd3f479a4386930ae3088a1eb01f8c944ed\n",
            "  Building wheel for python-constraint (setup.py) ... \u001b[?25l\u001b[?25hdone\n",
            "  Created wheel for python-constraint: filename=python_constraint-1.4.0-py2.py3-none-any.whl size=24081 sha256=d817926b0b9c112e8e290230c7d5510fb41c1cb126e5c9e6cf999b0bce8c56d7\n",
            "  Stored in directory: /root/.cache/pip/wheels/07/27/db/1222c80eb1e431f3d2199c12569cb1cac60f562a451fe30479\n",
            "Successfully built qiskit python-constraint\n",
            "Installing collected packages: pbr, tweedledum, symengine, stevedore, scipy, python-constraint, ply, ntlm-auth, cryptography, websocket-client, requests-ntlm, qiskit-terra, qiskit-ignis, qiskit-ibmq-provider, qiskit-aer, qiskit\n",
            "  Attempting uninstall: scipy\n",
            "    Found existing installation: scipy 1.4.1\n",
            "    Uninstalling scipy-1.4.1:\n",
            "      Successfully uninstalled scipy-1.4.1\n",
            "\u001b[31mERROR: pip's dependency resolver does not currently take into account all the packages that are installed. This behaviour is the source of the following dependency conflicts.\n",
            "albumentations 0.1.12 requires imgaug<0.2.7,>=0.2.5, but you have imgaug 0.2.9 which is incompatible.\u001b[0m\n",
            "Successfully installed cryptography-36.0.2 ntlm-auth-1.5.0 pbr-5.8.1 ply-3.11 python-constraint-1.4.0 qiskit-0.34.2 qiskit-aer-0.10.3 qiskit-ibmq-provider-0.18.3 qiskit-ignis-0.7.0 qiskit-terra-0.19.2 requests-ntlm-1.1.0 scipy-1.7.3 stevedore-3.5.0 symengine-0.9.2 tweedledum-1.1.1 websocket-client-1.3.1\n",
            "Collecting qiskit_optimization\n",
            "  Downloading qiskit_optimization-0.3.1-py3-none-any.whl (154 kB)\n",
            "\u001b[K     |████████████████████████████████| 154 kB 26.2 MB/s \n",
            "\u001b[?25hRequirement already satisfied: setuptools>=40.1.0 in /usr/local/lib/python3.7/dist-packages (from qiskit_optimization) (57.4.0)\n",
            "Collecting networkx<2.6,>=2.2\n",
            "  Downloading networkx-2.5.1-py3-none-any.whl (1.6 MB)\n",
            "\u001b[K     |████████████████████████████████| 1.6 MB 50.8 MB/s \n",
            "\u001b[?25hCollecting docplex>=2.21.207\n",
            "  Downloading docplex-2.23.222.tar.gz (610 kB)\n",
            "\u001b[K     |████████████████████████████████| 610 kB 54.7 MB/s \n",
            "\u001b[?25hRequirement already satisfied: scipy>=1.4 in /usr/local/lib/python3.7/dist-packages (from qiskit_optimization) (1.7.3)\n",
            "Requirement already satisfied: qiskit-terra>=0.19.1 in /usr/local/lib/python3.7/dist-packages (from qiskit_optimization) (0.19.2)\n",
            "Requirement already satisfied: numpy>=1.17 in /usr/local/lib/python3.7/dist-packages (from qiskit_optimization) (1.21.5)\n",
            "Requirement already satisfied: six in /usr/local/lib/python3.7/dist-packages (from docplex>=2.21.207->qiskit_optimization) (1.15.0)\n",
            "Requirement already satisfied: decorator<5,>=4.3 in /usr/local/lib/python3.7/dist-packages (from networkx<2.6,>=2.2->qiskit_optimization) (4.4.2)\n",
            "Requirement already satisfied: psutil>=5 in /usr/local/lib/python3.7/dist-packages (from qiskit-terra>=0.19.1->qiskit_optimization) (5.4.8)\n",
            "Requirement already satisfied: sympy>=1.3 in /usr/local/lib/python3.7/dist-packages (from qiskit-terra>=0.19.1->qiskit_optimization) (1.7.1)\n",
            "Requirement already satisfied: ply>=3.10 in /usr/local/lib/python3.7/dist-packages (from qiskit-terra>=0.19.1->qiskit_optimization) (3.11)\n",
            "Requirement already satisfied: python-dateutil>=2.8.0 in /usr/local/lib/python3.7/dist-packages (from qiskit-terra>=0.19.1->qiskit_optimization) (2.8.2)\n",
            "Requirement already satisfied: retworkx>=0.10.1 in /usr/local/lib/python3.7/dist-packages (from qiskit-terra>=0.19.1->qiskit_optimization) (0.11.0)\n",
            "Requirement already satisfied: stevedore>=3.0.0 in /usr/local/lib/python3.7/dist-packages (from qiskit-terra>=0.19.1->qiskit_optimization) (3.5.0)\n",
            "Requirement already satisfied: dill>=0.3 in /usr/local/lib/python3.7/dist-packages (from qiskit-terra>=0.19.1->qiskit_optimization) (0.3.4)\n",
            "Requirement already satisfied: tweedledum<2.0,>=1.1 in /usr/local/lib/python3.7/dist-packages (from qiskit-terra>=0.19.1->qiskit_optimization) (1.1.1)\n",
            "Requirement already satisfied: symengine>=0.8 in /usr/local/lib/python3.7/dist-packages (from qiskit-terra>=0.19.1->qiskit_optimization) (0.9.2)\n",
            "Requirement already satisfied: python-constraint>=1.4 in /usr/local/lib/python3.7/dist-packages (from qiskit-terra>=0.19.1->qiskit_optimization) (1.4.0)\n",
            "Requirement already satisfied: pbr!=2.1.0,>=2.0.0 in /usr/local/lib/python3.7/dist-packages (from stevedore>=3.0.0->qiskit-terra>=0.19.1->qiskit_optimization) (5.8.1)\n",
            "Requirement already satisfied: importlib-metadata>=1.7.0 in /usr/local/lib/python3.7/dist-packages (from stevedore>=3.0.0->qiskit-terra>=0.19.1->qiskit_optimization) (4.11.3)\n",
            "Requirement already satisfied: typing-extensions>=3.6.4 in /usr/local/lib/python3.7/dist-packages (from importlib-metadata>=1.7.0->stevedore>=3.0.0->qiskit-terra>=0.19.1->qiskit_optimization) (3.10.0.2)\n",
            "Requirement already satisfied: zipp>=0.5 in /usr/local/lib/python3.7/dist-packages (from importlib-metadata>=1.7.0->stevedore>=3.0.0->qiskit-terra>=0.19.1->qiskit_optimization) (3.7.0)\n",
            "Requirement already satisfied: mpmath>=0.19 in /usr/local/lib/python3.7/dist-packages (from sympy>=1.3->qiskit-terra>=0.19.1->qiskit_optimization) (1.2.1)\n",
            "Building wheels for collected packages: docplex\n",
            "  Building wheel for docplex (setup.py) ... \u001b[?25l\u001b[?25hdone\n",
            "  Created wheel for docplex: filename=docplex-2.23.222-py3-none-any.whl size=662847 sha256=328c6195fba8481a97528fd656faab618cdc576402dbbe9b285f90b82b38f628\n",
            "  Stored in directory: /root/.cache/pip/wheels/a7/c9/fb/cee5a89f304e77a39c466e625ac2830434b76eb8384999d116\n",
            "Successfully built docplex\n",
            "Installing collected packages: networkx, docplex, qiskit-optimization\n",
            "  Attempting uninstall: networkx\n",
            "    Found existing installation: networkx 2.6.3\n",
            "    Uninstalling networkx-2.6.3:\n",
            "      Successfully uninstalled networkx-2.6.3\n",
            "\u001b[31mERROR: pip's dependency resolver does not currently take into account all the packages that are installed. This behaviour is the source of the following dependency conflicts.\n",
            "albumentations 0.1.12 requires imgaug<0.2.7,>=0.2.5, but you have imgaug 0.2.9 which is incompatible.\u001b[0m\n",
            "Successfully installed docplex-2.23.222 networkx-2.5.1 qiskit-optimization-0.3.1\n"
          ]
        }
      ],
      "source": [
        "!pip install pennylane\n",
        "!pip install qiskit\n",
        "!pip install qiskit_optimization"
      ]
    },
    {
      "cell_type": "code",
      "execution_count": null,
      "metadata": {
        "id": "F5tj-C8xu5W_"
      },
      "outputs": [],
      "source": [
        "import pennylane as qml\n",
        "from pennylane import numpy as np\n",
        "\n",
        "from pandas.plotting import table \n",
        "import pandas as pd\n",
        "import time \n",
        "\n",
        "import networkx as nx\n",
        "import matplotlib.pyplot as plt\n",
        "\n",
        "import plotly\n",
        "import plotly.graph_objects as go\n",
        "import plotly.express as px\n",
        "\n",
        "from docplex.mp.model import Model\n",
        "from qiskit.opflow import Z, X, Y, I\n",
        "from qiskit_optimization.translators import from_docplex_mp\n",
        "from qiskit_optimization.applications import Maxcut, Clique, Knapsack\n",
        "from qiskit_optimization.converters import QuadraticProgramToQubo"
      ]
    },
    {
      "cell_type": "code",
      "execution_count": null,
      "metadata": {
        "cellView": "form",
        "id": "kVHFu8tDuDm2"
      },
      "outputs": [],
      "source": [
        "#@title Auxilary Function\n",
        "def Had(wires):\n",
        "  qml.RY(np.pi/2, wires=wires)\n",
        "  qml.RX(np.pi, wires=wires)\n",
        "\n",
        "\n",
        "def fully_connected_layer(num_wires):\n",
        "  if num_wires>1:\n",
        "    for wire in range(num_wires-1):\n",
        "      qml.CNOT(wires=[wire, wire+1])\n",
        "    qml.CNOT(wires=[wire+1, 0])\n",
        "\n",
        "def str2gate(gate):\n",
        "  if gate == 'H':\n",
        "    return Had\n",
        "  elif gate == 'X':\n",
        "    return qml.PauliX\n",
        "  elif gate == 'Y':\n",
        "    return qml.PauliY\n",
        "  elif gate == 'Z':\n",
        "    return qml.PauliZ\n",
        "  elif gate == 'RX':\n",
        "    return qml.RX\n",
        "  elif gate == 'RY':\n",
        "    return qml.RY\n",
        "  elif gate == 'RZ':\n",
        "    return qml.RZ\n",
        "  else:\n",
        "    assert 0, \"Gate not support.\"\n",
        "\n",
        "def controlStr(gate):\n",
        "  if gate == 'RX':\n",
        "    return qml.CNOT\n",
        "  elif gate == 'RY':\n",
        "    return qml.CY\n",
        "  elif gate == 'RZ':\n",
        "    return qml.CZ\n",
        "  else:\n",
        "    assert 0, \"Gate not support.\"\n",
        "    \n",
        "def hamiltonian_from_qiskit(sum_op):\n",
        "\n",
        "\t'''\n",
        "\tThis function takes a qiskit.PauliSumOp as input and\n",
        "\tgives back a Pennylane Hamiltonian as output\n",
        "\n",
        "\tsum_op  = qiskit.PauliSumOp\n",
        "\n",
        "\t'''\n",
        "\top      = sum_op.primitive.to_list()\n",
        "\tn_terms = len(op)\n",
        "\tcoeffs  = []\n",
        "\tpaulis  = []\n",
        "\n",
        "\tfor i in range(n_terms):\n",
        "\t\tpaulis.append(qml.grouping.string_to_pauli_word(\"\".join(list(reversed(op[i][0])))))\n",
        "\t\tcoeffs.append(op[i][1].real)\n",
        "\n",
        "\tp_op = qml.Hamiltonian(coeffs,paulis)\n",
        "\n",
        "\treturn p_op\n",
        "\n",
        "def hamiltonian_from_qiskit_lcu(sum_op):\n",
        "\n",
        "  '''\n",
        "  This function takes a qiskit.PauliSumOp as input and\n",
        "  gives back a Pennylane Hamiltonian as output\n",
        "\n",
        "  sum_op  = qiskit.PauliSumOp\n",
        "\n",
        "  '''\n",
        "  op      = sum_op.primitive.to_list()\n",
        "  n_terms = len(op)\n",
        "  coeffs  = []\n",
        "  paulis  = []\n",
        "\n",
        "  for i in range(n_terms):\n",
        "    if op[i][0]==\"I\":\n",
        "      paulis.append(qml.grouping.string_to_pauli_word(\"\".join(list(reversed(op[i][0])))))\n",
        "    else:\n",
        "      paulis.append(qml.grouping.string_to_pauli_word(\"\".join(list(reversed(op[i][0])))+\"Z\"))\n",
        "    coeffs.append(op[i][1].real)\n",
        "\n",
        "  p_op = qml.Hamiltonian(coeffs,paulis)\n",
        "\n",
        "  return p_op\n",
        "\n",
        "def get_adjacency_matrix(elist):\n",
        "  adjacency_matrix = np.zeros([num_wires, num_wires])\n",
        "\n",
        "  for i,j in elist:\n",
        "    adjacency_matrix[i, j] = 1.0\n",
        "    adjacency_matrix[j, i] = 1.0\n",
        "\n",
        "  return adjacency_matrix\n",
        "\n",
        "def draw_graph(elist, colors):\n",
        "  G = nx.Graph()\n",
        "  #G.add_nodes_from(np.arange(0, n, 1))\n",
        "  # tuple is (i,j,weight) where (i,j) is the edge\n",
        "  G.add_edges_from(elist)\n",
        "  pos = nx.spring_layout(G)\n",
        "  default_axes = plt.axes(frameon=True)\n",
        "  nx.draw_networkx(G, node_color=colors, node_size=600, alpha=0.8, ax=default_axes, pos=pos)\n",
        "\n",
        "def int_to_binary(value, size):\n",
        "  \"\"\"Function that converts an integer to a binary string.\"\"\"\n",
        "\n",
        "  bi = \"{0:b}\".format(value)\n",
        "  if len(bi)<size:\n",
        "    bi = \"0\"*(size-len(bi)) + bi\n",
        "  return bi"
      ]
    },
    {
      "cell_type": "markdown",
      "metadata": {
        "id": "cmviO3033yq1"
      },
      "source": [
        "# **Gradient methods**"
      ]
    },
    {
      "cell_type": "markdown",
      "metadata": {
        "id": "Omm4_hajoZQU"
      },
      "source": [
        "## Discrete-variable"
      ]
    },
    {
      "cell_type": "markdown",
      "metadata": {
        "id": "Ed08lXjuorX0"
      },
      "source": [
        "### Parameter shift rule"
      ]
    },
    {
      "cell_type": "code",
      "execution_count": null,
      "metadata": {
        "id": "10x49co1u-fB"
      },
      "outputs": [],
      "source": [
        "def parameter_shift_term(qnode, params, i, j):\n",
        "\n",
        "    shifted = params.copy()\n",
        "    \n",
        "    shifted[i, j] += np.pi/2\n",
        "    forward = qnode(shifted)  # forward evaluation\n",
        "\n",
        "    shifted[i, j] -= np.pi\n",
        "    backward = qnode(shifted) # backward evaluation\n",
        "\n",
        "    return 0.5 * (forward - backward)\n",
        "\n",
        "def parameter_shift(qnode, params):\n",
        "    gradients = np.zeros_like((params))\n",
        "    for i in range(len(gradients)):\n",
        "        for j in range(len(gradients[0])):\n",
        "            gradients[i, j] += parameter_shift_term(qnode, params, i, j)\n",
        "\n",
        "    return gradients"
      ]
    },
    {
      "cell_type": "markdown",
      "metadata": {
        "id": "N7TtarxRot62"
      },
      "source": [
        "### Finite difference"
      ]
    },
    {
      "cell_type": "code",
      "execution_count": null,
      "metadata": {
        "id": "8AIs9cEARFdc"
      },
      "outputs": [],
      "source": [
        "def finite_term(qnode, params, i, j):\n",
        "    \n",
        "    eps = 0.01\n",
        "\n",
        "    shifted = params.copy()\n",
        "    \n",
        "    shifted[i, j] += eps\n",
        "    forward = qnode(shifted)  # forward evaluation\n",
        "\n",
        "    shifted[i, j] -= 2*eps\n",
        "    backward = qnode(shifted) # backward evaluation\n",
        "\n",
        "    return (1/(2*eps)) * (forward - backward)\n",
        "\n",
        "def finite_difference(qnode, params):\n",
        "    gradients = np.zeros_like((params))\n",
        "    for i in range(len(gradients)):\n",
        "        for j in range(len(gradients[0])):\n",
        "            gradients[i, j] += finite_term(qnode, params, i, j)\n",
        "\n",
        "    return gradients"
      ]
    },
    {
      "cell_type": "markdown",
      "metadata": {
        "id": "DW_LwXFpo4Is"
      },
      "source": [
        "### Linear combination of unitaries (LCU)"
      ]
    },
    {
      "cell_type": "code",
      "execution_count": null,
      "metadata": {
        "id": "BMdOyFCWGjJR"
      },
      "outputs": [],
      "source": [
        "param_gates = ['RX', 'RY', 'RZ']\n",
        "\n",
        "def lcu_term(ansatz, params, wires, diff_index, num_wires, num_layers):\n",
        "  qml.Hadamard(wires=num_wires)\n",
        "  break_point = len(ansatz)//num_layers\n",
        "  qml.adjoint(qml.S)(wires=num_wires)\n",
        "\n",
        "  counting = 0\n",
        "  for i, gate in enumerate(ansatz):\n",
        "    \n",
        "    if gate in param_gates:\n",
        "      if i == diff_index:\n",
        "        controlStr(gate)(wires=[num_wires, (diff_index//4)%4])\n",
        "      str2gate(gate)(params[counting], wires=wires[i])\n",
        "      counting += 1\n",
        "    else:\n",
        "      str2gate(gate)(wires=wires[i])\n",
        "    if i!=0 and (i+1)%break_point==0:\n",
        "      fully_connected_layer(num_wires)\n",
        "  qml.Hadamard(wires=num_wires)\n",
        "\n",
        "def lcu_gradients(ansatz_label, H, params):\n",
        "  num_layers = len(params)\n",
        "  num_wires = len(H.wires)-1\n",
        "  num_param_gates = len(params[0])//num_wires\n",
        "\n",
        "  ansatz = ansatz_label * num_layers * num_wires\n",
        "  \n",
        "  wires = []\n",
        "  for i in range(num_layers):\n",
        "    for j in range(num_wires):\n",
        "      for k in range(4):\n",
        "        wires.append(j)\n",
        "  params = params.flatten()\n",
        "\n",
        "  dev = qml.device(\"default.qubit\", wires=num_wires+1)\n",
        "  @qml.qnode(dev)\n",
        "  def lcu(ansatz, H, params, wires, diff_index):\n",
        "    \n",
        "    lcu_term(ansatz, params, wires, diff_index, num_wires, num_layers)\n",
        "    \n",
        "    return qml.expval(H)\n",
        "\n",
        "  gradients = []\n",
        "  for i in range(len(ansatz)):\n",
        "    if ansatz[i] in param_gates:\n",
        "      gradients.append(lcu(ansatz, H, params, wires, i))\n",
        "      \n",
        "  return np.array(gradients).reshape(num_layers, -1)"
      ]
    },
    {
      "cell_type": "markdown",
      "metadata": {
        "id": "m5QkBIxFo_20"
      },
      "source": [
        "### Quantum natural gradient (QNG)"
      ]
    },
    {
      "cell_type": "code",
      "execution_count": null,
      "metadata": {
        "id": "dehyg9AOjj79"
      },
      "outputs": [],
      "source": [
        "def quantum_natural_gradient(var, H, cost_function):\n",
        "  num_wires = len(H.wires)\n",
        "  dev = qml.device('default.qubit', wires=num_wires)\n",
        "\n",
        "  @qml.qnode(dev)\n",
        "  def metric_tensor_circuit(var):\n",
        "    for v in var: \n",
        "      ansatz(v, num_wires)\n",
        "    return qml.expval(H)\n",
        "\n",
        "  metric_fn = qml.metric_tensor(metric_tensor_circuit, approx=\"block-diag\", hybrid=False)\n",
        "  grad = parameter_shift(cost_function, var)\n",
        "  grad_flatten = grad.flatten()\n",
        "  metric_tensor = metric_fn(var)\n",
        "  reg = 1e-7\n",
        "  iden = np.identity(len(metric_tensor))*reg\n",
        "  metric_tensor += iden\n",
        "  qng_grad = np.linalg.solve(metric_tensor, grad_flatten)\n",
        "\n",
        "  return qng_grad\n"
      ]
    },
    {
      "cell_type": "markdown",
      "metadata": {
        "id": "dzfWXUeMpEmK"
      },
      "source": [
        "### Quantum newton gradient"
      ]
    },
    {
      "cell_type": "code",
      "execution_count": null,
      "metadata": {
        "id": "9hBnbTl2lnPH"
      },
      "outputs": [],
      "source": [
        "def newton_gradient(cost_function, H, params, reg=2):\n",
        "  num_layers = len(params)\n",
        "  params_ori = params.copy()\n",
        "  params = params.reshape(1,-1)[0]\n",
        "  num_wires = len(H.wires)\n",
        "  dev = qml.device('default.qubit', wires=num_wires)\n",
        "\n",
        "  def ansatz_newton(var, num_wires):\n",
        "    for l in range(num_layers):\n",
        "      for wire in range(num_wires):\n",
        "        qml.Hadamard(wires=wire)\n",
        "        qml.RX(var[0+3*wire + l*3*num_wires], wires=wire)\n",
        "        qml.RY(var[1+3*wire+ l*3*num_wires], wires=wire)\n",
        "        qml.RZ(var[2+3*wire+ l*3*num_wires], wires=wire)\n",
        "      fully_connected_layer(num_wires)\n",
        "\n",
        "  @qml.qnode(dev)\n",
        "  def circuit(var, H):\n",
        "    ansatz_newton(var, num_wires)\n",
        "    return qml.expval(H)\n",
        "    \n",
        "  grad_fn = qml.grad(circuit)\n",
        "  hes_fn = qml.jacobian(grad_fn)\n",
        "  grad = parameter_shift(lambda x: cost_function(x, H), params_ori).flatten()\n",
        "  hessian_matrix = hes_fn(params, H)\n",
        "  iden = np.identity(len(hessian_matrix))*reg\n",
        "  hessian_matrix += iden\n",
        "  \n",
        "  newton_grad = np.linalg.solve(hessian_matrix, grad)\n",
        "\n",
        "  return newton_grad.reshape(num_layers,-1)\n",
        "  "
      ]
    },
    {
      "cell_type": "markdown",
      "metadata": {
        "id": "__wEBgF9oflu"
      },
      "source": [
        "## Continuous-variable"
      ]
    },
    {
      "cell_type": "markdown",
      "metadata": {
        "id": "paYNRIsEoze7"
      },
      "source": [
        "### Parameter shift rule"
      ]
    },
    {
      "cell_type": "code",
      "execution_count": null,
      "metadata": {
        "id": "TWtFpF_iRDdd"
      },
      "outputs": [],
      "source": [
        "# gate_list = ['R', 'S1', 'D1']\n",
        "\n",
        "# def parameter_shift_cv_term(qnode, params, i, j):\n",
        "    \n",
        "#     gate = gate_list[j%len(gate_list)]\n",
        "\n",
        "#     shifted = params.copy()\n",
        "\n",
        "#     if gate == 'R' or gate == 'S2' or gate == 'D2':\n",
        "#       shifted[i, j] += alpha\n",
        "#       forward = qnode(shifted)  # forward evaluation\n",
        "\n",
        "#       shifted[i, j] -= 2*alpha\n",
        "#       backward = qnode(shifted) # backward evaluation\n",
        "\n",
        "#       return (1/2) * (forward - backward)\n",
        "\n",
        "#     elif gate == 'S1':\n",
        "#       shifted[i, j] += s\n",
        "#       forward = qnode(shifted)  # forward evaluation\n",
        "\n",
        "#       shifted[i, j] -= 2*s\n",
        "#       backward = qnode(shifted) # backward evaluation\n",
        "\n",
        "#       return (1/(2*np.sinh(s))) * (forward - backward)\n",
        "    \n",
        "#     elif gate == 'D1':\n",
        "#       shifted[i, j] += s\n",
        "#       forward = qnode(shifted)  # forward evaluation\n",
        "\n",
        "#       shifted[i, j] -= 2*s\n",
        "#       backward = qnode(shifted) # backward evaluation\n",
        "\n",
        "#       return (1/(2*s)) * (forward - backward)\n",
        "\n",
        "# def parameter_shift_cv(qnode, params):\n",
        "#     gradients = np.zeros_like((params))\n",
        "#     for i in range(len(gradients)):\n",
        "#         for j in range(len(gradients[0])):\n",
        "#             gradients[i, j] += parameter_shift_cv_term(qnode, params, i, j)\n",
        "\n",
        "#     return gradients"
      ]
    },
    {
      "cell_type": "markdown",
      "metadata": {
        "id": "BDa9pqIbo1HZ"
      },
      "source": [
        "### Finite difference"
      ]
    },
    {
      "cell_type": "code",
      "execution_count": null,
      "metadata": {
        "id": "0BeJhEzKRFJQ"
      },
      "outputs": [],
      "source": [
        "# def finite_cv_term(qnode, params, i, j):\n",
        "    \n",
        "#     eps = 0.01\n",
        "\n",
        "#     shifted = params.copy()\n",
        "    \n",
        "#     shifted[i, j] += eps\n",
        "#     forward = qnode(shifted)  # forward evaluation\n",
        "\n",
        "#     shifted[i, j] -= 2*eps\n",
        "#     backward = qnode(shifted) # backward evaluation\n",
        "\n",
        "#     return (1/(2*eps)) * (forward - backward)\n",
        "\n",
        "# def finite_difference_cv(qnode, params):\n",
        "#     gradients = np.zeros_like((params))\n",
        "#     for i in range(len(gradients)):\n",
        "#         for j in range(len(gradients[0])):\n",
        "#             gradients[i, j] += finite_cv_term(qnode, params, i, j)\n",
        "\n",
        "#     return gradients"
      ]
    },
    {
      "cell_type": "markdown",
      "metadata": {
        "id": "NWTYpAxymxP5"
      },
      "source": [
        "# **Problem Fomulation** "
      ]
    },
    {
      "cell_type": "markdown",
      "metadata": {
        "id": "0ycfqqLcwi9Y"
      },
      "source": [
        "## Max-Cut"
      ]
    },
    {
      "cell_type": "code",
      "execution_count": null,
      "metadata": {
        "colab": {
          "base_uri": "https://localhost:8080/",
          "height": 248
        },
        "id": "h_A2OYHEnAxJ",
        "outputId": "8a8204e4-f698-45e8-d110-9fca279e2ace"
      },
      "outputs": [
        {
          "output_type": "display_data",
          "data": {
            "text/plain": [
              "<Figure size 432x288 with 1 Axes>"
            ],
            "image/png": "[encoded data removed]"
          },
          "metadata": {}
        }
      ],
      "source": [
        "num_wires = 4  # Number of nodes in graph\n",
        "\n",
        "elist_maxcut = [(0, 1), (0, 2), (0, 3), (1, 2), (2, 3)]\n",
        "colors_maxcut = [\"r\" for node in range(num_wires)]\n",
        "\n",
        "draw_graph(elist_maxcut, colors_maxcut)"
      ]
    },
    {
      "cell_type": "code",
      "execution_count": null,
      "metadata": {
        "colab": {
          "base_uri": "https://localhost:8080/"
        },
        "id": "s8nIxhQgr90x",
        "outputId": "94ba2775-9a20-4797-af03-ebbbf6fa51f6"
      },
      "outputs": [
        {
          "output_type": "stream",
          "name": "stdout",
          "text": [
            "\\ This file has been generated by DOcplex\n",
            "\\ ENCODING=ISO-8859-1\n",
            "\\Problem name: Max-cut\n",
            "\n",
            "Maximize\n",
            " obj: 3 x_0 + 2 x_1 + 3 x_2 + 2 x_3 + [ - 4 x_0*x_1 - 4 x_0*x_2 - 4 x_0*x_3\n",
            "      - 4 x_1*x_2 - 4 x_2*x_3 ]/2\n",
            "Subject To\n",
            "\n",
            "Bounds\n",
            " 0 <= x_0 <= 1\n",
            " 0 <= x_1 <= 1\n",
            " 0 <= x_2 <= 1\n",
            " 0 <= x_3 <= 1\n",
            "\n",
            "Binaries\n",
            " x_0 x_1 x_2 x_3\n",
            "End\n",
            "\n"
          ]
        }
      ],
      "source": [
        "adjacency_matrix_maxcut = get_adjacency_matrix(elist_maxcut)\n",
        "max_cut = Maxcut(adjacency_matrix_maxcut)\n",
        "qp_maxcut = max_cut.to_quadratic_program()\n",
        "print(qp_maxcut.export_as_lp_string())"
      ]
    },
    {
      "cell_type": "code",
      "execution_count": null,
      "metadata": {
        "colab": {
          "base_uri": "https://localhost:8080/"
        },
        "id": "bJh8meYXu42W",
        "outputId": "f5964f09-f921-427f-8c00-d8bff6db4b85"
      },
      "outputs": [
        {
          "output_type": "stream",
          "name": "stdout",
          "text": [
            "Offset: -2.5 \n",
            "\n",
            "Ising Hamiltonian:\n",
            "\n",
            "  (0.5) [Z2 Z3]\n",
            "+ (0.5) [Z1 Z2]\n",
            "+ (0.5) [Z0 Z3]\n",
            "+ (0.5) [Z0 Z2]\n",
            "+ (0.5) [Z0 Z1]\n"
          ]
        }
      ],
      "source": [
        "qubitOp_maxcut, offset_maxcut = qp_maxcut.to_ising()\n",
        "H_maxcut = hamiltonian_from_qiskit(qubitOp_maxcut)\n",
        "H_maxcut_lcu = hamiltonian_from_qiskit_lcu(qubitOp_maxcut)\n",
        "print(\"Offset:\", offset_maxcut,\"\\n\")\n",
        "print(\"Ising Hamiltonian:\\n\")\n",
        "\n",
        "print(H_maxcut)"
      ]
    },
    {
      "cell_type": "markdown",
      "metadata": {
        "id": "JP7twTOrwsE5"
      },
      "source": [
        "## Clique"
      ]
    },
    {
      "cell_type": "code",
      "execution_count": null,
      "metadata": {
        "colab": {
          "base_uri": "https://localhost:8080/",
          "height": 248
        },
        "id": "wi9JRqMzwrfJ",
        "outputId": "711dedf8-49c7-4083-f2c1-6c6b82622b02"
      },
      "outputs": [
        {
          "output_type": "display_data",
          "data": {
            "text/plain": [
              "<Figure size 432x288 with 1 Axes>"
            ],
            "image/png": "[encoded data removed]"
          },
          "metadata": {}
        }
      ],
      "source": [
        "num_wires = 4  # Number of nodes in graph\n",
        "\n",
        "elist_clique = [(0, 1), (0, 2), (0, 3), (2, 3)]\n",
        "colors_clique = [\"r\" for node in range(num_wires)]\n",
        "\n",
        "draw_graph(elist_clique, colors_clique)"
      ]
    },
    {
      "cell_type": "code",
      "execution_count": null,
      "metadata": {
        "colab": {
          "base_uri": "https://localhost:8080/"
        },
        "id": "UKC7ThKa0axi",
        "outputId": "a1a40933-ce91-491d-b5c5-133321cbc8f3"
      },
      "outputs": [
        {
          "output_type": "stream",
          "name": "stdout",
          "text": [
            "\\ This file has been generated by DOcplex\n",
            "\\ ENCODING=ISO-8859-1\n",
            "\\Problem name: Clique\n",
            "\n",
            "Maximize\n",
            " obj: x_0 + x_1 + x_2 + x_3\n",
            "Subject To\n",
            " c0: x_1 + x_2 <= 1\n",
            " c1: x_1 + x_3 <= 1\n",
            "\n",
            "Bounds\n",
            " 0 <= x_0 <= 1\n",
            " 0 <= x_1 <= 1\n",
            " 0 <= x_2 <= 1\n",
            " 0 <= x_3 <= 1\n",
            "\n",
            "Binaries\n",
            " x_0 x_1 x_2 x_3\n",
            "End\n",
            "\n"
          ]
        }
      ],
      "source": [
        "adjacency_matrix_clique = get_adjacency_matrix(elist_clique)\n",
        "clique = Clique(adjacency_matrix_clique)\n",
        "qp_clique = clique.to_quadratic_program()\n",
        "print(qp_clique.export_as_lp_string())"
      ]
    },
    {
      "cell_type": "code",
      "execution_count": null,
      "metadata": {
        "colab": {
          "base_uri": "https://localhost:8080/"
        },
        "id": "T1G00BHZ0jkY",
        "outputId": "6bf679e1-f664-4620-ce74-41904dad34bf"
      },
      "outputs": [
        {
          "output_type": "stream",
          "name": "stdout",
          "text": [
            "Offset: 0.5 \n",
            "\n",
            "Ising Hamiltonian:\n",
            "\n",
            "  (-2.0) [Z1]\n",
            "+ (-0.75) [Z3]\n",
            "+ (-0.75) [Z2]\n",
            "+ (0.5) [Z0]\n",
            "+ (1.25) [Z1 Z3]\n",
            "+ (1.25) [Z1 Z2]\n"
          ]
        }
      ],
      "source": [
        "qp2qubo = QuadraticProgramToQubo()\n",
        "qubo_clique = qp2qubo.convert(qp_clique)\n",
        "\n",
        "qubitOp_clique, offset_clique = qubo_clique.to_ising()\n",
        "H_clique = hamiltonian_from_qiskit(qubitOp_clique)\n",
        "H_clique_lcu = hamiltonian_from_qiskit_lcu(qubitOp_clique)\n",
        "\n",
        "print(\"Offset:\", offset_clique,\"\\n\")\n",
        "print(\"Ising Hamiltonian:\\n\")\n",
        "\n",
        "print(H_clique)"
      ]
    },
    {
      "cell_type": "markdown",
      "metadata": {
        "id": "eUxr-XqQ11hl"
      },
      "source": [
        "## Binary Linear Programming"
      ]
    },
    {
      "cell_type": "code",
      "execution_count": null,
      "metadata": {
        "colab": {
          "base_uri": "https://localhost:8080/"
        },
        "id": "7PpGA_sn1By9",
        "outputId": "20e62c3d-dc03-4268-a93b-37edf1beaa5d"
      },
      "outputs": [
        {
          "output_type": "stream",
          "name": "stdout",
          "text": [
            "\\ This file has been generated by DOcplex\n",
            "\\ ENCODING=ISO-8859-1\n",
            "\\Problem name: docplex model\n",
            "\n",
            "Minimize\n",
            " obj: 195000 x1 + 96000 x2 + 87000 x3 + 120000 x4\n",
            "Subject To\n",
            " c0: x1 + x3 >= 1\n",
            " c1: x2 + x4 >= 1\n",
            "\n",
            "Bounds\n",
            " 0 <= x1 <= 1\n",
            " 0 <= x2 <= 1\n",
            " 0 <= x3 <= 1\n",
            " 0 <= x4 <= 1\n",
            "\n",
            "Binaries\n",
            " x1 x2 x3 x4\n",
            "End\n",
            "\n"
          ]
        }
      ],
      "source": [
        "blp = Model(\"docplex model\")\n",
        "x1 = blp.binary_var(\"x1\")\n",
        "x2 = blp.binary_var(\"x2\")\n",
        "x3 = blp.binary_var(\"x3\")\n",
        "x4 = blp.binary_var(\"x4\")\n",
        "\n",
        "blp.minimize(195000*x1 + 96000*x2 + 87000*x3 + 120000*x4)\n",
        "blp.add_constraint(x1  + x3 >= 1)\n",
        "blp.add_constraint(x2 + x4 >= 1)\n",
        "\n",
        "# load from a Docplex model\n",
        "qp_blp = from_docplex_mp(blp)\n",
        "print(qp_blp.export_as_lp_string())"
      ]
    },
    {
      "cell_type": "code",
      "execution_count": null,
      "metadata": {
        "colab": {
          "base_uri": "https://localhost:8080/"
        },
        "id": "WVT7SBFc2N2c",
        "outputId": "fc284fcb-d8a6-4e98-828a-66597fc530e1"
      },
      "outputs": [
        {
          "output_type": "stream",
          "name": "stdout",
          "text": [
            "Offset: 498000.5 \n",
            "\n",
            "Ising Hamiltonian:\n",
            "\n",
            "  (27000.25) [Z0]\n",
            "+ (64500.25) [Z3]\n",
            "+ (76500.25) [Z1]\n",
            "+ (81000.25) [Z2]\n",
            "+ (124500.25) [Z1 Z3]\n",
            "+ (124500.25) [Z0 Z2]\n"
          ]
        }
      ],
      "source": [
        "qubo_blp = qp2qubo.convert(qp_blp)\n",
        "\n",
        "qubitOp_blp, offset_blp = qubo_blp.to_ising()\n",
        "H_blp = hamiltonian_from_qiskit(qubitOp_blp)\n",
        "H_blp_lcu = hamiltonian_from_qiskit_lcu(qubitOp_blp)\n",
        "\n",
        "print(\"Offset:\", offset_blp,\"\\n\")\n",
        "print(\"Ising Hamiltonian:\\n\")\n",
        "\n",
        "print(H_blp)"
      ]
    },
    {
      "cell_type": "markdown",
      "metadata": {
        "id": "TagenFKd8Gxu"
      },
      "source": [
        "## Knapsack"
      ]
    },
    {
      "cell_type": "code",
      "execution_count": null,
      "metadata": {
        "colab": {
          "base_uri": "https://localhost:8080/"
        },
        "id": "M5wvhAnO2vAW",
        "outputId": "cd327c77-a754-4250-d177-ea9436d6500a"
      },
      "outputs": [
        {
          "output_type": "stream",
          "name": "stdout",
          "text": [
            "\\ This file has been generated by DOcplex\n",
            "\\ ENCODING=ISO-8859-1\n",
            "\\Problem name: Knapsack\n",
            "\n",
            "Maximize\n",
            " obj: 2 x_0 + x_1\n",
            "Subject To\n",
            " c0: x_0 + 2 x_1 <= 3\n",
            "\n",
            "Bounds\n",
            " 0 <= x_0 <= 1\n",
            " 0 <= x_1 <= 1\n",
            "\n",
            "Binaries\n",
            " x_0 x_1\n",
            "End\n",
            "\n"
          ]
        }
      ],
      "source": [
        "weights = [1, 2]\n",
        "profits = [2, 1]\n",
        "max_weight = 3\n",
        "knapsack = Knapsack(profits, weights, max_weight)\n",
        "qp_ks = knapsack.to_quadratic_program()\n",
        "print(qp_ks.export_as_lp_string())"
      ]
    },
    {
      "cell_type": "code",
      "execution_count": null,
      "metadata": {
        "colab": {
          "base_uri": "https://localhost:8080/"
        },
        "id": "8-CP0Veo8Qfq",
        "outputId": "f69ee04b-f6a4-44cd-ec14-136db7f98d9a"
      },
      "outputs": [
        {
          "output_type": "stream",
          "name": "stdout",
          "text": [
            "Offset: 8.5 \n",
            "\n",
            "Ising Hamiltonian:\n",
            "\n",
            "  (0.5) [Z1]\n",
            "+ (1.0) [Z0]\n",
            "+ (2.0) [Z0 Z2]\n",
            "+ (4.0) [Z2 Z3]\n",
            "+ (4.0) [Z1 Z2]\n",
            "+ (4.0) [Z0 Z3]\n",
            "+ (4.0) [Z0 Z1]\n",
            "+ (8.0) [Z1 Z3]\n"
          ]
        }
      ],
      "source": [
        "qubo_ks = qp2qubo.convert(qp_ks)\n",
        "\n",
        "qubitOp_ks, offset_ks = qubo_ks.to_ising()\n",
        "H_ks = hamiltonian_from_qiskit(qubitOp_ks)\n",
        "H_ks_lcu = hamiltonian_from_qiskit_lcu(qubitOp_ks)\n",
        "\n",
        "print(\"Offset:\", offset_ks,\"\\n\")\n",
        "print(\"Ising Hamiltonian:\\n\")\n",
        "\n",
        "print(H_ks)"
      ]
    },
    {
      "cell_type": "markdown",
      "metadata": {
        "id": "7oOYIsk033zu"
      },
      "source": [
        "# **Optimization**"
      ]
    },
    {
      "cell_type": "markdown",
      "metadata": {
        "id": "kqRA7CVVRbzD"
      },
      "source": [
        "## Discrete-variable"
      ]
    },
    {
      "cell_type": "code",
      "execution_count": null,
      "metadata": {
        "id": "cmWZibCLr1-6"
      },
      "outputs": [],
      "source": [
        "# guesting ansatz state\n",
        "\n",
        "ansatz_label = ['H', 'RX', 'RY', 'RZ'] \n",
        "\n",
        "def ansatz(var, num_wires):\n",
        "    for wire in range(num_wires):\n",
        "      qml.Hadamard(wires=wire)\n",
        "      qml.RX(var[0+3*wire], wires=wire)\n",
        "      qml.RY(var[1+3*wire], wires=wire)\n",
        "      qml.RZ(var[2+3*wire], wires=wire)\n",
        "    fully_connected_layer(num_wires)"
      ]
    },
    {
      "cell_type": "code",
      "execution_count": null,
      "metadata": {
        "id": "jz3X0YaN5f65"
      },
      "outputs": [],
      "source": [
        "def cost_function(var, H):\n",
        "  num_wires = len(H.wires)\n",
        "  dev = qml.device('default.qubit', wires=num_wires)\n",
        "\n",
        "  @qml.qnode(dev)\n",
        "  def circuit(var, H):\n",
        "    for v in var: \n",
        "      ansatz(v, num_wires)\n",
        "    return qml.expval(H)\n",
        "\n",
        "  return circuit(var, H)"
      ]
    },
    {
      "cell_type": "markdown",
      "metadata": {
        "id": "U-Uy87BL98bh"
      },
      "source": [
        "Probability distribution of estimated gate "
      ]
    },
    {
      "cell_type": "code",
      "execution_count": null,
      "metadata": {
        "id": "1tV5rVji9kZv"
      },
      "outputs": [],
      "source": [
        "# prediction circuit\n",
        "def prediction(var, num_param_gates):\n",
        "  num_wires = len(var[0])//num_param_gates\n",
        "  dev = qml.device('default.qubit', wires=num_wires)\n",
        "  @qml.qnode(dev)\n",
        "  def circuit(var):\n",
        "    for v in var: \n",
        "      ansatz(v, num_wires)\n",
        "    return qml.probs(wires=range(num_wires))  # get prediction probability\n",
        "  \n",
        "  state = circuit(var)\n",
        "  result = np.argmax(state)\n",
        "  return int_to_binary(result, num_wires)[::-1]"
      ]
    },
    {
      "cell_type": "code",
      "execution_count": null,
      "metadata": {
        "id": "d6tRbcsMvM0F"
      },
      "outputs": [],
      "source": [
        "np.random.seed(1)\n",
        "num_layers = 2\n",
        "num_param_gates = 3\n",
        "\n",
        "var_init_maxcut = 0.5*np.random.randn(num_layers, num_param_gates*len(H_maxcut.wires))\n",
        "var_init_clique = 0.5*np.random.randn(num_layers, num_param_gates*len(H_clique.wires))\n",
        "var_init_blp = 0.5*np.random.randn(num_layers, num_param_gates*len(H_blp.wires))\n",
        "var_init_ks = 0.5*np.random.randn(num_layers, num_param_gates*len(H_ks.wires))\n",
        "\n",
        "steps = [2, 4, 6, 8, 10]"
      ]
    },
    {
      "cell_type": "code",
      "execution_count": null,
      "metadata": {
        "colab": {
          "base_uri": "https://localhost:8080/"
        },
        "id": "29C6GDYBvUYp",
        "outputId": "689c82a8-6783-42aa-b9ba-cd77a77acf79"
      },
      "outputs": [
        {
          "output_type": "stream",
          "name": "stdout",
          "text": [
            "Initial cost:  -1.7157690662825986\n"
          ]
        }
      ],
      "source": [
        "print(\"Initial cost: \", cost_function(var_init_maxcut, H_maxcut)+offset_maxcut)"
      ]
    },
    {
      "cell_type": "code",
      "execution_count": null,
      "metadata": {
        "colab": {
          "base_uri": "https://localhost:8080/"
        },
        "id": "q0a18ZmFIPGh",
        "outputId": "ae9b9131-3403-4bee-901a-6d6b91920bcb"
      },
      "outputs": [
        {
          "output_type": "stream",
          "name": "stdout",
          "text": [
            "Prediction:  0000\n"
          ]
        }
      ],
      "source": [
        "print(\"Prediction: \", prediction(var_init_maxcut, num_param_gates))"
      ]
    },
    {
      "cell_type": "markdown",
      "metadata": {
        "id": "7OYcgWKJj3qJ"
      },
      "source": [
        "Function for training optimizer"
      ]
    },
    {
      "cell_type": "code",
      "execution_count": null,
      "metadata": {
        "id": "xwTUGtTVN2dE"
      },
      "outputs": [],
      "source": [
        "def train(cost_fn, grad_fn, epochs, var_init, lr):\n",
        "  lost_list = []\n",
        "  time_list = []\n",
        "\n",
        "  var = var_init.copy()\n",
        "\n",
        "  opt = qml.RMSPropOptimizer(lr)\n",
        "\n",
        "  start = time.time()\n",
        "\n",
        "  for it in range(epochs):# while True:\n",
        "      var, _cost = opt.step_and_cost(cost_fn, var, grad_fn=grad_fn) \n",
        "      lost_list.append(_cost.numpy())\n",
        "\n",
        "      if it%10==0:\n",
        "        print(\"Iter: {:5d} | Cost: {:0.11f} \".format(it, _cost))\n",
        "\n",
        "      end = time.time()\n",
        "      t = end - start\n",
        "      time_list.append(t)\n",
        "\n",
        "  return lost_list, time_list, var"
      ]
    },
    {
      "cell_type": "markdown",
      "metadata": {
        "id": "GQ_q_OtUo69M"
      },
      "source": [
        "Varaible List"
      ]
    },
    {
      "cell_type": "code",
      "execution_count": null,
      "metadata": {
        "id": "wFNkMofzoveu"
      },
      "outputs": [],
      "source": [
        "# lost list\n",
        "psl = []\n",
        "fdl = []\n",
        "lcul = []\n",
        "qngl = []\n",
        "qnwl = []\n",
        "\n",
        "# time list\n",
        "pst = []\n",
        "fdt = []\n",
        "lcut = []\n",
        "qngt = []\n",
        "qnwt = []\n",
        "\n",
        "\n",
        "# lost list change num layer\n",
        "pslc = []\n",
        "fdlc = []\n",
        "lculc = []\n",
        "qnglc = []\n",
        "qnwlc = []\n",
        "\n",
        "# time list change num layer\n",
        "pstc = []\n",
        "fdtc = []\n",
        "lcutc = []\n",
        "qngtc = []\n",
        "qnwtc = []"
      ]
    },
    {
      "cell_type": "markdown",
      "metadata": {
        "id": "C9k03eA5-l06"
      },
      "source": [
        "### Parameter Shift Rule"
      ]
    },
    {
      "cell_type": "markdown",
      "metadata": {
        "id": "84GFiSYSLbKU"
      },
      "source": [
        "#### Max-Cut"
      ]
    },
    {
      "cell_type": "code",
      "execution_count": null,
      "metadata": {
        "colab": {
          "base_uri": "https://localhost:8080/"
        },
        "id": "0t_JHnhVvfzR",
        "outputId": "1e553a5e-49de-4b47-e68e-4036fc31f36a"
      },
      "outputs": [
        {
          "output_type": "stream",
          "name": "stdout",
          "text": [
            "Iter:     0 | Cost: -1.71576906628 \n",
            "Iter:    10 | Cost: -2.92916432842 \n",
            "Iter:    20 | Cost: -3.11048527652 \n",
            "Iter:    30 | Cost: -3.34736042978 \n",
            "Iter:    40 | Cost: -3.48595961977 \n",
            "Iter:    50 | Cost: -3.49983208406 \n",
            "Iter:    60 | Cost: -3.49999990501 \n",
            "Iter:    70 | Cost: -3.49999947768 \n",
            "Iter:    80 | Cost: -3.49423438483 \n",
            "Iter:    90 | Cost: -3.49956678195 \n",
            "Iter:   100 | Cost: -3.49925734176 \n"
          ]
        }
      ],
      "source": [
        "lr = 0.03\n",
        "epochs = 101\n",
        "\n",
        "cost_fn = lambda v: cost_function(v, H_maxcut)+offset_maxcut\n",
        "grad_fn = lambda var: parameter_shift(lambda x: cost_function(x, H_maxcut), var)\n",
        "lost_list, time_list, var = train(cost_fn, grad_fn, epochs, var_init_maxcut, lr)\n",
        "psl.append(lost_list)\n",
        "pst.append(time_list)"
      ]
    },
    {
      "cell_type": "code",
      "execution_count": null,
      "metadata": {
        "colab": {
          "base_uri": "https://localhost:8080/"
        },
        "id": "JkGGtPV0C68a",
        "outputId": "e6a2ec48-0fbe-4704-a7a1-198ea2bccec8"
      },
      "outputs": [
        {
          "output_type": "stream",
          "name": "stdout",
          "text": [
            "Iter:     0 | Cost: -1.71576906628 \n",
            "Iter:    10 | Cost: -2.92916432842 \n",
            "Iter:     0 | Cost: -1.89311957074 \n",
            "Iter:    10 | Cost: -3.53930104842 \n",
            "Iter:     0 | Cost: -2.03814866340 \n",
            "Iter:    10 | Cost: -3.82823170950 \n",
            "Iter:     0 | Cost: -2.44119325891 \n",
            "Iter:    10 | Cost: -3.78783720610 \n",
            "Iter:     0 | Cost: -2.72776845307 \n",
            "Iter:    10 | Cost: -3.93299095537 \n"
          ]
        }
      ],
      "source": [
        "lr = 0.03\n",
        "epochs = 11\n",
        "\n",
        "np.random.seed(1)\n",
        "num_param_gates = 3\n",
        "\n",
        "temp1 = []\n",
        "temp2 = []\n",
        "for num_layers in steps:\n",
        "  var_init_maxcutc = 0.5*np.random.randn(num_layers, num_param_gates*len(H_maxcut.wires))\n",
        "\n",
        "  cost_fn = lambda v: cost_function(v, H_maxcut)+offset_maxcut\n",
        "  grad_fn = lambda var: parameter_shift(lambda x: cost_function(x, H_maxcut), var)\n",
        "  lost_list, time_list, _ = train(cost_fn, grad_fn, epochs, var_init_maxcutc, lr)\n",
        "  temp1.append(lost_list[-1])\n",
        "  temp2.append(time_list[-1])\n",
        "\n",
        "pslc.append(temp1)\n",
        "pstc.append(temp2)"
      ]
    },
    {
      "cell_type": "markdown",
      "metadata": {
        "id": "avIv6907onIA"
      },
      "source": [
        "#### Clique"
      ]
    },
    {
      "cell_type": "code",
      "execution_count": null,
      "metadata": {
        "colab": {
          "base_uri": "https://localhost:8080/"
        },
        "id": "VeV657Avomoc",
        "outputId": "6b077d77-cb29-467b-a6a2-33c97161b050"
      },
      "outputs": [
        {
          "output_type": "stream",
          "name": "stdout",
          "text": [
            "Iter:     0 | Cost: 0.12889348726 \n",
            "Iter:    10 | Cost: -1.94362101683 \n",
            "Iter:    20 | Cost: -2.34559567383 \n",
            "Iter:    30 | Cost: -2.45196028842 \n",
            "Iter:    40 | Cost: -2.48354286450 \n",
            "Iter:    50 | Cost: -2.49451567238 \n",
            "Iter:    60 | Cost: -2.49839653114 \n",
            "Iter:    70 | Cost: -2.49478568494 \n",
            "Iter:    80 | Cost: -2.49799505377 \n",
            "Iter:    90 | Cost: -2.49835671272 \n",
            "Iter:   100 | Cost: -2.49815187014 \n"
          ]
        }
      ],
      "source": [
        "lr = 0.03\n",
        "epochs = 101\n",
        "\n",
        "cost_fn = lambda v: cost_function(v, H_clique)+offset_clique\n",
        "grad_fn = lambda var: parameter_shift(lambda x: cost_function(x, H_clique), var)\n",
        "lost_list, time_list, _ = train(cost_fn, grad_fn, epochs, var_init_clique, lr)\n",
        "psl.append(lost_list)\n",
        "pst.append(time_list)"
      ]
    },
    {
      "cell_type": "code",
      "execution_count": null,
      "metadata": {
        "colab": {
          "base_uri": "https://localhost:8080/"
        },
        "id": "1tizbT_CPjbC",
        "outputId": "c9b2bed2-9b17-4ea6-a163-2449e9089687"
      },
      "outputs": [
        {
          "output_type": "stream",
          "name": "stdout",
          "text": [
            "Iter:     0 | Cost: -0.32878854620 \n",
            "Iter:    10 | Cost: -1.87686385822 \n",
            "Iter:     0 | Cost: -0.62011189961 \n",
            "Iter:    10 | Cost: -2.40720219177 \n",
            "Iter:     0 | Cost: 1.03736341873 \n",
            "Iter:    10 | Cost: -2.63585339362 \n",
            "Iter:     0 | Cost: 0.69824350827 \n",
            "Iter:    10 | Cost: -2.78925391167 \n",
            "Iter:     0 | Cost: 1.96240124826 \n",
            "Iter:    10 | Cost: -2.65025204862 \n"
          ]
        }
      ],
      "source": [
        "lr = 0.03\n",
        "epochs = 11\n",
        "\n",
        "np.random.seed(1)\n",
        "num_param_gates = 3\n",
        "\n",
        "temp1 = []\n",
        "temp2 = []\n",
        "for num_layers in steps:\n",
        "  var_init_cliquec = 0.5*np.random.randn(num_layers, num_param_gates*len(H_clique.wires))\n",
        "\n",
        "  cost_fn = lambda v: cost_function(v, H_clique)+offset_clique\n",
        "  grad_fn = lambda var: parameter_shift(lambda x: cost_function(x, H_clique), var)\n",
        "  lost_list, time_list, _ = train(cost_fn, grad_fn, epochs, var_init_cliquec, lr)\n",
        "  temp1.append(lost_list[-1])\n",
        "  temp2.append(time_list[-1])\n",
        "\n",
        "pslc.append(temp1)\n",
        "pstc.append(temp2)"
      ]
    },
    {
      "cell_type": "markdown",
      "metadata": {
        "id": "hU-zm57fpZqa"
      },
      "source": [
        "#### Binary Linear Programming"
      ]
    },
    {
      "cell_type": "code",
      "execution_count": null,
      "metadata": {
        "colab": {
          "base_uri": "https://localhost:8080/"
        },
        "id": "W8Hast63pcdJ",
        "outputId": "9c7e048d-5ed3-4ab9-9fbe-1e9d56d8c99c"
      },
      "outputs": [
        {
          "output_type": "stream",
          "name": "stdout",
          "text": [
            "Iter:     0 | Cost: 667294.31366741285 \n",
            "Iter:    10 | Cost: 380039.14750654984 \n",
            "Iter:    20 | Cost: 306427.84090514830 \n",
            "Iter:    30 | Cost: 257869.31339366946 \n",
            "Iter:    40 | Cost: 213104.50375085504 \n",
            "Iter:    50 | Cost: 189464.36864009284 \n",
            "Iter:    60 | Cost: 183724.44258928957 \n",
            "Iter:    70 | Cost: 183028.39590268570 \n",
            "Iter:    80 | Cost: 183000.09582436603 \n",
            "Iter:    90 | Cost: 183000.45272810874 \n",
            "Iter:   100 | Cost: 183011.13886463881 \n"
          ]
        }
      ],
      "source": [
        "lr = 0.03\n",
        "epochs = 101\n",
        "\n",
        "cost_fn = lambda v: cost_function(v, H_blp)+offset_blp\n",
        "grad_fn = lambda var: parameter_shift(lambda x: cost_function(x, H_blp), var)\n",
        "lost_list, time_list, _ = train(cost_fn, grad_fn, epochs, var_init_blp, lr)\n",
        "psl.append(lost_list)\n",
        "pst.append(time_list)"
      ]
    },
    {
      "cell_type": "code",
      "execution_count": null,
      "metadata": {
        "colab": {
          "base_uri": "https://localhost:8080/"
        },
        "id": "qs-Bfd4tQGE9",
        "outputId": "6948337e-38cf-4e8d-dee7-1ec7b56eecfb"
      },
      "outputs": [
        {
          "output_type": "stream",
          "name": "stdout",
          "text": [
            "Iter:     0 | Cost: 631720.31831967935 \n",
            "Iter:    10 | Cost: 314801.59237132076 \n",
            "Iter:     0 | Cost: 659107.38464029436 \n",
            "Iter:    10 | Cost: 285518.82152659062 \n",
            "Iter:     0 | Cost: 601268.39232154237 \n",
            "Iter:    10 | Cost: 233156.36877137632 \n",
            "Iter:     0 | Cost: 416790.04523771151 \n",
            "Iter:    10 | Cost: 194202.64663859428 \n",
            "Iter:     0 | Cost: 445969.56532474287 \n",
            "Iter:    10 | Cost: 217817.13097259385 \n"
          ]
        }
      ],
      "source": [
        "lr = 0.03\n",
        "epochs = 11\n",
        "\n",
        "np.random.seed(1)\n",
        "num_param_gates = 3\n",
        "\n",
        "temp1 = []\n",
        "temp2 = []\n",
        "for num_layers in steps:\n",
        "  var_init_blpc = 0.5*np.random.randn(num_layers, num_param_gates*len(H_blp.wires))\n",
        "\n",
        "  cost_fn = lambda v: cost_function(v, H_blp)+offset_blp\n",
        "  grad_fn = lambda var: parameter_shift(lambda x: cost_function(x, H_blp), var)\n",
        "  lost_list, time_list, _ = train(cost_fn, grad_fn, epochs, var_init_blpc, lr)\n",
        "  temp1.append(lost_list[-1])\n",
        "  temp2.append(time_list[-1])\n",
        "\n",
        "pslc.append(temp1)\n",
        "pstc.append(temp2)"
      ]
    },
    {
      "cell_type": "markdown",
      "metadata": {
        "id": "jNYQSrLapiIV"
      },
      "source": [
        "#### Knapsack"
      ]
    },
    {
      "cell_type": "code",
      "execution_count": null,
      "metadata": {
        "colab": {
          "base_uri": "https://localhost:8080/"
        },
        "id": "RpFPvkz-pkzz",
        "outputId": "c636be74-39e9-4848-ad0c-166eb966daf5"
      },
      "outputs": [
        {
          "output_type": "stream",
          "name": "stdout",
          "text": [
            "Iter:     0 | Cost: 27.69312856107 \n",
            "Iter:    10 | Cost: 5.54870502942 \n",
            "Iter:    20 | Cost: 3.09184860769 \n",
            "Iter:    30 | Cost: 0.91336450593 \n",
            "Iter:    40 | Cost: -1.70638927527 \n",
            "Iter:    50 | Cost: -2.75645495037 \n",
            "Iter:    60 | Cost: -2.96160359888 \n",
            "Iter:    70 | Cost: -2.99657026131 \n",
            "Iter:    80 | Cost: -2.99991661554 \n",
            "Iter:    90 | Cost: -2.99999933457 \n",
            "Iter:   100 | Cost: -2.99999999960 \n"
          ]
        }
      ],
      "source": [
        "lr = 0.03\n",
        "epochs = 101\n",
        "\n",
        "cost_fn = lambda v: cost_function(v, H_ks)+offset_ks\n",
        "grad_fn = lambda var: parameter_shift(lambda x: cost_function(x, H_ks), var)\n",
        "lost_list, time_list, _ = train(cost_fn, grad_fn, epochs, var_init_ks, lr)\n",
        "psl.append(lost_list)\n",
        "pst.append(time_list)"
      ]
    },
    {
      "cell_type": "code",
      "execution_count": null,
      "metadata": {
        "colab": {
          "base_uri": "https://localhost:8080/"
        },
        "id": "cqwnUTnVQWHV",
        "outputId": "7851de15-479d-48a7-f3ef-eb130203c2d3"
      },
      "outputs": [
        {
          "output_type": "stream",
          "name": "stdout",
          "text": [
            "Iter:     0 | Cost: 16.08365820085 \n",
            "Iter:    10 | Cost: 2.24360521907 \n",
            "Iter:     0 | Cost: 15.75963494829 \n",
            "Iter:    10 | Cost: -0.20698997864 \n",
            "Iter:     0 | Cost: 14.88568424087 \n",
            "Iter:    10 | Cost: 0.18794862926 \n",
            "Iter:     0 | Cost: 7.31937591142 \n",
            "Iter:    10 | Cost: -0.99668318014 \n",
            "Iter:     0 | Cost: 7.32230064599 \n",
            "Iter:    10 | Cost: -1.77927028829 \n"
          ]
        }
      ],
      "source": [
        "lr = 0.03\n",
        "epochs = 11\n",
        "\n",
        "np.random.seed(1)\n",
        "num_param_gates = 3\n",
        "\n",
        "temp1 = []\n",
        "temp2 = []\n",
        "for num_layers in steps:\n",
        "  var_init_ksc = 0.5*np.random.randn(num_layers, num_param_gates*len(H_ks.wires))\n",
        "\n",
        "  cost_fn = lambda v: cost_function(v, H_ks)+offset_ks\n",
        "  grad_fn = lambda var: parameter_shift(lambda x: cost_function(x, H_ks), var)\n",
        "  lost_list, time_list, _ = train(cost_fn, grad_fn, epochs, var_init_ksc, lr)\n",
        "  temp1.append(lost_list[-1])\n",
        "  temp2.append(time_list[-1])\n",
        "\n",
        "pslc.append(temp1)\n",
        "pstc.append(temp2)"
      ]
    },
    {
      "cell_type": "markdown",
      "metadata": {
        "id": "WTA8kfPKptwn"
      },
      "source": [
        "### Finite Difference"
      ]
    },
    {
      "cell_type": "markdown",
      "metadata": {
        "id": "wF1J0w4OkjWc"
      },
      "source": [
        "#### Max-Cut"
      ]
    },
    {
      "cell_type": "code",
      "execution_count": null,
      "metadata": {
        "colab": {
          "base_uri": "https://localhost:8080/"
        },
        "id": "BR87ifUYRp4l",
        "outputId": "ae90004e-debe-464b-be07-1b562142011a"
      },
      "outputs": [
        {
          "output_type": "stream",
          "name": "stdout",
          "text": [
            "Iter:     0 | Cost: -1.71576906628 \n",
            "Iter:    10 | Cost: -2.92916432842 \n",
            "Iter:    20 | Cost: -3.11048527652 \n",
            "Iter:    30 | Cost: -3.34736042977 \n",
            "Iter:    40 | Cost: -3.48595961977 \n",
            "Iter:    50 | Cost: -3.49983208406 \n",
            "Iter:    60 | Cost: -3.49999990480 \n",
            "Iter:    70 | Cost: -3.49999947244 \n",
            "Iter:    80 | Cost: -3.49423034186 \n",
            "Iter:    90 | Cost: -3.49956528291 \n",
            "Iter:   100 | Cost: -3.49925844678 \n"
          ]
        }
      ],
      "source": [
        "lr = 0.03\n",
        "epochs = 101\n",
        "\n",
        "cost_fn = lambda v: cost_function(v, H_maxcut)+offset_maxcut\n",
        "grad_fn = lambda var: finite_difference(lambda x: cost_function(x, H_maxcut), var)\n",
        "lost_list, time_list, _ = train(cost_fn, grad_fn, epochs, var_init_maxcut, lr)\n",
        "fdl.append(lost_list)\n",
        "fdt.append(time_list)"
      ]
    },
    {
      "cell_type": "code",
      "execution_count": null,
      "metadata": {
        "colab": {
          "base_uri": "https://localhost:8080/"
        },
        "id": "8mTRZkyoQi6b",
        "outputId": "5ff0b518-bfb6-4a7d-a0a4-7dfc6bdbc633"
      },
      "outputs": [
        {
          "output_type": "stream",
          "name": "stdout",
          "text": [
            "Iter:     0 | Cost: -1.71576906628 \n",
            "Iter:    10 | Cost: -2.92916432842 \n",
            "Iter:     0 | Cost: -1.89311957074 \n",
            "Iter:    10 | Cost: -3.53930104627 \n",
            "Iter:     0 | Cost: -2.03814866340 \n",
            "Iter:    10 | Cost: -3.82823171135 \n",
            "Iter:     0 | Cost: -2.44119325891 \n",
            "Iter:    10 | Cost: -3.78783736751 \n",
            "Iter:     0 | Cost: -2.72776845307 \n",
            "Iter:    10 | Cost: -3.93299095587 \n"
          ]
        }
      ],
      "source": [
        "lr = 0.03\n",
        "epochs = 11\n",
        "\n",
        "np.random.seed(1)\n",
        "num_param_gates = 3\n",
        "\n",
        "temp1 = []\n",
        "temp2 = []\n",
        "for num_layers in steps:\n",
        "  var_init_maxcutc = 0.5*np.random.randn(num_layers, num_param_gates*len(H_maxcut.wires))\n",
        "\n",
        "  cost_fn = lambda v: cost_function(v, H_maxcut)+offset_maxcut\n",
        "  grad_fn = lambda var: finite_difference(lambda x: cost_function(x, H_maxcut), var)\n",
        "  lost_list, time_list, _ = train(cost_fn, grad_fn, epochs, var_init_maxcutc, lr)\n",
        "  temp1.append(lost_list[-1])\n",
        "  temp2.append(time_list[-1])\n",
        "\n",
        "fdlc.append(temp1)\n",
        "fdtc.append(temp2)"
      ]
    },
    {
      "cell_type": "markdown",
      "metadata": {
        "id": "gpzvRU81ksvP"
      },
      "source": [
        "#### Clique"
      ]
    },
    {
      "cell_type": "code",
      "execution_count": null,
      "metadata": {
        "colab": {
          "base_uri": "https://localhost:8080/"
        },
        "id": "hmcZlYu-kusq",
        "outputId": "29e2741d-2135-4173-b6f4-463a55116f08"
      },
      "outputs": [
        {
          "output_type": "stream",
          "name": "stdout",
          "text": [
            "Iter:     0 | Cost: 0.12889348726 \n",
            "Iter:    10 | Cost: -1.94362101686 \n",
            "Iter:    20 | Cost: -2.34559567384 \n",
            "Iter:    30 | Cost: -2.45196028842 \n",
            "Iter:    40 | Cost: -2.48354286474 \n",
            "Iter:    50 | Cost: -2.49451567217 \n",
            "Iter:    60 | Cost: -2.49839653132 \n",
            "Iter:    70 | Cost: -2.49478568717 \n",
            "Iter:    80 | Cost: -2.49799505336 \n",
            "Iter:    90 | Cost: -2.49835671269 \n",
            "Iter:   100 | Cost: -2.49815187030 \n"
          ]
        }
      ],
      "source": [
        "lr = 0.03\n",
        "epochs = 101\n",
        "\n",
        "cost_fn = lambda v: cost_function(v, H_clique)+offset_clique\n",
        "grad_fn = lambda var: finite_difference(lambda x: cost_function(x, H_clique), var)\n",
        "lost_list, time_list, _ = train(cost_fn, grad_fn, epochs, var_init_clique, lr)\n",
        "fdl.append(lost_list)\n",
        "fdt.append(time_list)"
      ]
    },
    {
      "cell_type": "code",
      "execution_count": null,
      "metadata": {
        "colab": {
          "base_uri": "https://localhost:8080/"
        },
        "id": "A_H9uW-gQut-",
        "outputId": "20e1bbee-a2cb-40f2-fc20-841ed1bcd4f8"
      },
      "outputs": [
        {
          "output_type": "stream",
          "name": "stdout",
          "text": [
            "Iter:     0 | Cost: -0.32878854620 \n",
            "Iter:    10 | Cost: -1.87686383554 \n",
            "Iter:     0 | Cost: -0.62011189961 \n",
            "Iter:    10 | Cost: -2.40720219150 \n",
            "Iter:     0 | Cost: 1.03736341873 \n",
            "Iter:    10 | Cost: -2.63585339360 \n",
            "Iter:     0 | Cost: 0.69824350827 \n",
            "Iter:    10 | Cost: -2.78925386359 \n",
            "Iter:     0 | Cost: 1.96240124826 \n",
            "Iter:    10 | Cost: -2.65025204880 \n"
          ]
        }
      ],
      "source": [
        "lr = 0.03\n",
        "epochs = 11\n",
        "\n",
        "np.random.seed(1)\n",
        "num_param_gates = 3\n",
        "\n",
        "temp1 = []\n",
        "temp2 = []\n",
        "for num_layers in steps:\n",
        "  var_init_cliquec = 0.5*np.random.randn(num_layers, num_param_gates*len(H_clique.wires))\n",
        "\n",
        "  cost_fn = lambda v: cost_function(v, H_clique)+offset_clique\n",
        "  grad_fn = lambda var: finite_difference(lambda x: cost_function(x, H_clique), var)\n",
        "  lost_list, time_list, _ = train(cost_fn, grad_fn, epochs, var_init_cliquec, lr)\n",
        "  temp1.append(lost_list[-1])\n",
        "  temp2.append(time_list[-1])\n",
        "\n",
        "fdlc.append(temp1)\n",
        "fdtc.append(temp2)"
      ]
    },
    {
      "cell_type": "markdown",
      "metadata": {
        "id": "JUW4-obPk4JG"
      },
      "source": [
        "#### Binary Linear Programming"
      ]
    },
    {
      "cell_type": "code",
      "execution_count": null,
      "metadata": {
        "colab": {
          "base_uri": "https://localhost:8080/"
        },
        "id": "ulpG-fsHk7EB",
        "outputId": "cc433825-9028-4973-c47f-8bb5bb1cbd84"
      },
      "outputs": [
        {
          "output_type": "stream",
          "name": "stdout",
          "text": [
            "Iter:     0 | Cost: 667294.31366741285 \n",
            "Iter:    10 | Cost: 380039.14750654961 \n",
            "Iter:    20 | Cost: 306427.84090514854 \n",
            "Iter:    30 | Cost: 257869.31339367171 \n",
            "Iter:    40 | Cost: 213104.50375085883 \n",
            "Iter:    50 | Cost: 189464.36864009482 \n",
            "Iter:    60 | Cost: 183724.44258929009 \n",
            "Iter:    70 | Cost: 183028.39590268576 \n",
            "Iter:    80 | Cost: 183000.09588815260 \n",
            "Iter:    90 | Cost: 183000.39324232360 \n",
            "Iter:   100 | Cost: 183252.49390157545 \n"
          ]
        }
      ],
      "source": [
        "lr = 0.03\n",
        "epochs = 101\n",
        "\n",
        "cost_fn = lambda v: cost_function(v, H_blp)+offset_blp\n",
        "grad_fn = lambda var: finite_difference(lambda x: cost_function(x, H_blp), var)\n",
        "lost_list, time_list, _ = train(cost_fn, grad_fn, epochs, var_init_blp, lr)\n",
        "fdl.append(lost_list)\n",
        "fdt.append(time_list)"
      ]
    },
    {
      "cell_type": "code",
      "execution_count": null,
      "metadata": {
        "colab": {
          "base_uri": "https://localhost:8080/"
        },
        "id": "8I6I0lyxQySF",
        "outputId": "0f59aa05-ecf9-476b-d972-da8e95d569fd"
      },
      "outputs": [
        {
          "output_type": "stream",
          "name": "stdout",
          "text": [
            "Iter:     0 | Cost: 631720.31831967935 \n",
            "Iter:    10 | Cost: 314801.59237132064 \n",
            "Iter:     0 | Cost: 659107.38464029436 \n",
            "Iter:    10 | Cost: 285518.82152658893 \n",
            "Iter:     0 | Cost: 601268.39232154237 \n",
            "Iter:    10 | Cost: 233156.36877137795 \n",
            "Iter:     0 | Cost: 416790.04523771151 \n",
            "Iter:    10 | Cost: 194202.64663859486 \n",
            "Iter:     0 | Cost: 445969.56532474287 \n",
            "Iter:    10 | Cost: 217817.13097259722 \n"
          ]
        }
      ],
      "source": [
        "lr = 0.03\n",
        "epochs = 11\n",
        "\n",
        "np.random.seed(1)\n",
        "num_param_gates = 3\n",
        "\n",
        "temp1 = []\n",
        "temp2 = []\n",
        "for num_layers in steps:\n",
        "  var_init_blpc = 0.5*np.random.randn(num_layers, num_param_gates*len(H_blp.wires))\n",
        "\n",
        "  cost_fn = lambda v: cost_function(v, H_blp)+offset_blp\n",
        "  grad_fn = lambda var: finite_difference(lambda x: cost_function(x, H_blp), var)\n",
        "  lost_list, time_list, _ = train(cost_fn, grad_fn, epochs, var_init_blpc, lr)\n",
        "  temp1.append(lost_list[-1])\n",
        "  temp2.append(time_list[-1])\n",
        "\n",
        "fdlc.append(temp1)\n",
        "fdtc.append(temp2)"
      ]
    },
    {
      "cell_type": "markdown",
      "metadata": {
        "id": "Z5p2xwXnlFnF"
      },
      "source": [
        "#### Knapsack"
      ]
    },
    {
      "cell_type": "code",
      "execution_count": null,
      "metadata": {
        "colab": {
          "base_uri": "https://localhost:8080/"
        },
        "id": "-N9wwo1ulH_T",
        "outputId": "50af0ddc-7d1a-4963-edd0-94b7c6114577"
      },
      "outputs": [
        {
          "output_type": "stream",
          "name": "stdout",
          "text": [
            "Iter:     0 | Cost: 27.69312856107 \n",
            "Iter:    10 | Cost: 5.54870502943 \n",
            "Iter:    20 | Cost: 3.09184860769 \n",
            "Iter:    30 | Cost: 0.91336450595 \n",
            "Iter:    40 | Cost: -1.70638927526 \n",
            "Iter:    50 | Cost: -2.75645495037 \n",
            "Iter:    60 | Cost: -2.96160359888 \n",
            "Iter:    70 | Cost: -2.99657026131 \n",
            "Iter:    80 | Cost: -2.99991661554 \n",
            "Iter:    90 | Cost: -2.99999933457 \n",
            "Iter:   100 | Cost: -2.99999999835 \n"
          ]
        }
      ],
      "source": [
        "lr = 0.03\n",
        "epochs = 101\n",
        "\n",
        "cost_fn = lambda v: cost_function(v, H_ks)+offset_ks\n",
        "grad_fn = lambda var: finite_difference(lambda x: cost_function(x, H_ks), var)\n",
        "lost_list, time_list, _ = train(cost_fn, grad_fn, epochs, var_init_ks, lr)\n",
        "fdl.append(lost_list)\n",
        "fdt.append(time_list)"
      ]
    },
    {
      "cell_type": "code",
      "execution_count": null,
      "metadata": {
        "colab": {
          "base_uri": "https://localhost:8080/"
        },
        "id": "UMY1jsEIQ2bN",
        "outputId": "6decd4ff-adf1-4aad-fc16-160e79cd5096"
      },
      "outputs": [
        {
          "output_type": "stream",
          "name": "stdout",
          "text": [
            "Iter:     0 | Cost: 16.08365820085 \n",
            "Iter:    10 | Cost: 2.24360521907 \n",
            "Iter:     0 | Cost: 15.75963494829 \n",
            "Iter:    10 | Cost: -0.20698997864 \n",
            "Iter:     0 | Cost: 14.88568424087 \n",
            "Iter:    10 | Cost: 0.18794863023 \n",
            "Iter:     0 | Cost: 7.31937591142 \n",
            "Iter:    10 | Cost: -0.99668319856 \n",
            "Iter:     0 | Cost: 7.32230064599 \n",
            "Iter:    10 | Cost: -1.77927028886 \n"
          ]
        }
      ],
      "source": [
        "lr = 0.03\n",
        "epochs = 11\n",
        "\n",
        "np.random.seed(1)\n",
        "num_param_gates = 3\n",
        "\n",
        "temp1 = []\n",
        "temp2 = []\n",
        "for num_layers in steps:\n",
        "  var_init_ksc = 0.5*np.random.randn(num_layers, num_param_gates*len(H_ks.wires))\n",
        "\n",
        "  cost_fn = lambda v: cost_function(v, H_ks)+offset_ks\n",
        "  grad_fn = lambda var: finite_difference(lambda x: cost_function(x, H_ks), var)\n",
        "  lost_list, time_list, _ = train(cost_fn, grad_fn, epochs, var_init_ksc, lr)\n",
        "  temp1.append(lost_list[-1])\n",
        "  temp2.append(time_list[-1])\n",
        "\n",
        "fdlc.append(temp1)\n",
        "fdtc.append(temp2)"
      ]
    },
    {
      "cell_type": "markdown",
      "metadata": {
        "id": "tt55-uJCpxOI"
      },
      "source": [
        "### Linear combination of unitaries (LCU)"
      ]
    },
    {
      "cell_type": "markdown",
      "metadata": {
        "id": "7B1M8jDulYLC"
      },
      "source": [
        "#### Max-Cut"
      ]
    },
    {
      "cell_type": "code",
      "execution_count": null,
      "metadata": {
        "colab": {
          "base_uri": "https://localhost:8080/"
        },
        "id": "PMOs2ipQlVj9",
        "outputId": "93a1db49-be35-4601-e958-ac8993c2f30d"
      },
      "outputs": [
        {
          "output_type": "stream",
          "name": "stdout",
          "text": [
            "Iter:     0 | Cost: -1.71576906628 \n",
            "Iter:    10 | Cost: -2.92916432842 \n",
            "Iter:    20 | Cost: -3.11048527652 \n",
            "Iter:    30 | Cost: -3.34736042978 \n",
            "Iter:    40 | Cost: -3.48595961977 \n",
            "Iter:    50 | Cost: -3.49983208406 \n",
            "Iter:    60 | Cost: -3.49999990501 \n",
            "Iter:    70 | Cost: -3.49999947778 \n",
            "Iter:    80 | Cost: -3.49423442491 \n",
            "Iter:    90 | Cost: -3.49956681741 \n",
            "Iter:   100 | Cost: -3.49925731642 \n"
          ]
        }
      ],
      "source": [
        "lr = 0.03\n",
        "epochs = 101\n",
        "\n",
        "cost_fn = lambda v: cost_function(v, H_maxcut)+offset_maxcut\n",
        "grad_fn = lambda var: lcu_gradients(ansatz_label, H_maxcut_lcu, var)\n",
        "lost_list, time_list, _ = train(cost_fn, grad_fn, epochs, var_init_maxcut, lr)\n",
        "lcul.append(lost_list)\n",
        "lcut.append(time_list)"
      ]
    },
    {
      "cell_type": "code",
      "execution_count": null,
      "metadata": {
        "colab": {
          "base_uri": "https://localhost:8080/"
        },
        "id": "_QESdtgSRMZD",
        "outputId": "5085fed1-19f6-422c-e6a4-d52692eb919e"
      },
      "outputs": [
        {
          "output_type": "stream",
          "name": "stdout",
          "text": [
            "Iter:     0 | Cost: -1.71576906628 \n",
            "Iter:    10 | Cost: -2.92916432842 \n",
            "Iter:     0 | Cost: -1.89311957074 \n",
            "Iter:    10 | Cost: -3.53930104842 \n",
            "Iter:     0 | Cost: -2.03814866340 \n",
            "Iter:    10 | Cost: -3.82823170950 \n",
            "Iter:     0 | Cost: -2.44119325891 \n",
            "Iter:    10 | Cost: -3.78783720610 \n",
            "Iter:     0 | Cost: -2.72776845307 \n",
            "Iter:    10 | Cost: -3.93299095537 \n"
          ]
        }
      ],
      "source": [
        "lr = 0.03\n",
        "epochs = 11\n",
        "\n",
        "np.random.seed(1)\n",
        "num_param_gates = 3\n",
        "\n",
        "temp1 = []\n",
        "temp2 = []\n",
        "for num_layers in steps:\n",
        "  var_init_maxcutc = 0.5*np.random.randn(num_layers, num_param_gates*len(H_maxcut.wires))\n",
        "  cost_fn = lambda v: cost_function(v, H_maxcut)+offset_maxcut\n",
        "  grad_fn = lambda var: lcu_gradients(ansatz_label, H_maxcut_lcu, var)\n",
        "  lost_list, time_list, _ = train(cost_fn, grad_fn, epochs, var_init_maxcutc, lr)\n",
        "  temp1.append(lost_list[-1])\n",
        "  temp2.append(time_list[-1])\n",
        "\n",
        "lculc.append(temp1)\n",
        "lcutc.append(temp2)"
      ]
    },
    {
      "cell_type": "markdown",
      "metadata": {
        "id": "hhjUeup7qtTd"
      },
      "source": [
        "#### Clique"
      ]
    },
    {
      "cell_type": "code",
      "execution_count": null,
      "metadata": {
        "colab": {
          "base_uri": "https://localhost:8080/"
        },
        "id": "W_25lqQEqsvF",
        "outputId": "a32128d2-8682-481e-a80e-0c427a0dde89"
      },
      "outputs": [
        {
          "output_type": "stream",
          "name": "stdout",
          "text": [
            "Iter:     0 | Cost: 0.12889348726 \n",
            "Iter:    10 | Cost: -1.94362101683 \n",
            "Iter:    20 | Cost: -2.34559567383 \n",
            "Iter:    30 | Cost: -2.45196028842 \n",
            "Iter:    40 | Cost: -2.48354286450 \n",
            "Iter:    50 | Cost: -2.49451567238 \n",
            "Iter:    60 | Cost: -2.49839653114 \n",
            "Iter:    70 | Cost: -2.49478568495 \n",
            "Iter:    80 | Cost: -2.49799505377 \n",
            "Iter:    90 | Cost: -2.49835671272 \n",
            "Iter:   100 | Cost: -2.49815187014 \n"
          ]
        }
      ],
      "source": [
        "lr = 0.03\n",
        "epochs = 101\n",
        "\n",
        "cost_fn = lambda v: cost_function(v, H_clique)+offset_clique\n",
        "grad_fn = lambda var: lcu_gradients(ansatz_label, H_clique_lcu, var)\n",
        "lost_list, time_list, _ = train(cost_fn, grad_fn, epochs, var_init_clique, lr)\n",
        "lcul.append(lost_list)\n",
        "lcut.append(time_list)"
      ]
    },
    {
      "cell_type": "code",
      "execution_count": null,
      "metadata": {
        "colab": {
          "base_uri": "https://localhost:8080/"
        },
        "id": "5Jq5YIi0Rasa",
        "outputId": "be21504e-fc41-495f-bf79-cf4bce961f1a"
      },
      "outputs": [
        {
          "output_type": "stream",
          "name": "stdout",
          "text": [
            "Iter:     0 | Cost: -0.32878854620 \n",
            "Iter:    10 | Cost: -1.87686385822 \n",
            "Iter:     0 | Cost: -0.62011189961 \n",
            "Iter:    10 | Cost: -2.40720219177 \n",
            "Iter:     0 | Cost: 1.03736341873 \n",
            "Iter:    10 | Cost: -2.63585339362 \n",
            "Iter:     0 | Cost: 0.69824350827 \n",
            "Iter:    10 | Cost: -2.78925391167 \n",
            "Iter:     0 | Cost: 1.96240124826 \n",
            "Iter:    10 | Cost: -2.65025204862 \n"
          ]
        }
      ],
      "source": [
        "lr = 0.03\n",
        "epochs = 11\n",
        "\n",
        "np.random.seed(1)\n",
        "num_param_gates = 3\n",
        "\n",
        "temp1 = []\n",
        "temp2 = []\n",
        "for num_layers in steps:\n",
        "  var_init_cliquec = 0.5*np.random.randn(num_layers, num_param_gates*len(H_clique.wires))\n",
        "\n",
        "  cost_fn = lambda v: cost_function(v, H_clique)+offset_clique\n",
        "  grad_fn = lambda var: lcu_gradients(ansatz_label, H_clique_lcu, var)\n",
        "  lost_list, time_list, _ = train(cost_fn, grad_fn, epochs, var_init_cliquec, lr)\n",
        "  temp1.append(lost_list[-1])\n",
        "  temp2.append(time_list[-1])\n",
        "\n",
        "lculc.append(temp1)\n",
        "lcutc.append(temp2)"
      ]
    },
    {
      "cell_type": "markdown",
      "metadata": {
        "id": "2oG0Eh7hq6oL"
      },
      "source": [
        "#### Binary Linear Programming"
      ]
    },
    {
      "cell_type": "code",
      "execution_count": null,
      "metadata": {
        "colab": {
          "base_uri": "https://localhost:8080/"
        },
        "id": "Q071KedTq6NV",
        "outputId": "4958f5a9-e9cf-4d86-8de8-ef9c79ebe762"
      },
      "outputs": [
        {
          "output_type": "stream",
          "name": "stdout",
          "text": [
            "Iter:     0 | Cost: 667294.31366741285 \n",
            "Iter:    10 | Cost: 380039.14750654978 \n",
            "Iter:    20 | Cost: 306427.84090514819 \n",
            "Iter:    30 | Cost: 257869.31339366932 \n",
            "Iter:    40 | Cost: 213104.50375085528 \n",
            "Iter:    50 | Cost: 189464.36864009302 \n",
            "Iter:    60 | Cost: 183724.44258928933 \n",
            "Iter:    70 | Cost: 183028.39590268594 \n",
            "Iter:    80 | Cost: 183000.09582122671 \n",
            "Iter:    90 | Cost: 183001.76578554459 \n",
            "Iter:   100 | Cost: 183005.17231672612 \n"
          ]
        }
      ],
      "source": [
        "lr = 0.03\n",
        "epochs = 101\n",
        "\n",
        "cost_fn = lambda v: cost_function(v, H_blp)+offset_blp\n",
        "grad_fn = lambda var: lcu_gradients(ansatz_label, H_blp_lcu, var)\n",
        "lost_list, time_list, _ = train(cost_fn, grad_fn, epochs, var_init_blp, lr)\n",
        "lcul.append(lost_list)\n",
        "lcut.append(time_list)"
      ]
    },
    {
      "cell_type": "code",
      "execution_count": null,
      "metadata": {
        "colab": {
          "base_uri": "https://localhost:8080/"
        },
        "id": "AL6VYvCHReKe",
        "outputId": "5828870f-9021-4b51-b13a-4901ce3e903d"
      },
      "outputs": [
        {
          "output_type": "stream",
          "name": "stdout",
          "text": [
            "Iter:     0 | Cost: 631720.31831967935 \n",
            "Iter:    10 | Cost: 314801.59237132064 \n",
            "Iter:     0 | Cost: 659107.38464029436 \n",
            "Iter:    10 | Cost: 285518.82152659062 \n",
            "Iter:     0 | Cost: 601268.39232154237 \n",
            "Iter:    10 | Cost: 233156.36877137632 \n",
            "Iter:     0 | Cost: 416790.04523771151 \n",
            "Iter:    10 | Cost: 194202.64663859439 \n",
            "Iter:     0 | Cost: 445969.56532474287 \n",
            "Iter:    10 | Cost: 217817.13097259443 \n"
          ]
        }
      ],
      "source": [
        "lr = 0.03\n",
        "epochs = 11\n",
        "\n",
        "np.random.seed(1)\n",
        "num_param_gates = 3\n",
        "\n",
        "temp1 = []\n",
        "temp2 = []\n",
        "for num_layers in steps:\n",
        "  var_init_blpc = 0.5*np.random.randn(num_layers, num_param_gates*len(H_blp.wires))\n",
        "\n",
        "  cost_fn = lambda v: cost_function(v, H_blp)+offset_blp\n",
        "  grad_fn = lambda var: lcu_gradients(ansatz_label, H_blp_lcu, var)\n",
        "  lost_list, time_list, _ = train(cost_fn, grad_fn, epochs, var_init_blpc, lr)\n",
        "  temp1.append(lost_list[-1])\n",
        "  temp2.append(time_list[-1])\n",
        "\n",
        "lculc.append(temp1)\n",
        "lcutc.append(temp2)"
      ]
    },
    {
      "cell_type": "markdown",
      "metadata": {
        "id": "aAA1jwFFrJb-"
      },
      "source": [
        "#### Knapsack"
      ]
    },
    {
      "cell_type": "code",
      "execution_count": null,
      "metadata": {
        "colab": {
          "base_uri": "https://localhost:8080/"
        },
        "id": "uXPpC2UErIsg",
        "outputId": "362cbaf2-2553-46d2-b91c-25324b6f3adb"
      },
      "outputs": [
        {
          "output_type": "stream",
          "name": "stdout",
          "text": [
            "Iter:     0 | Cost: 27.69312856107 \n",
            "Iter:    10 | Cost: 5.54870502942 \n",
            "Iter:    20 | Cost: 3.09184860769 \n",
            "Iter:    30 | Cost: 0.91336450593 \n",
            "Iter:    40 | Cost: -1.70638927527 \n",
            "Iter:    50 | Cost: -2.75645495037 \n",
            "Iter:    60 | Cost: -2.96160359888 \n",
            "Iter:    70 | Cost: -2.99657026131 \n",
            "Iter:    80 | Cost: -2.99991661554 \n",
            "Iter:    90 | Cost: -2.99999933457 \n",
            "Iter:   100 | Cost: -2.99999999960 \n"
          ]
        }
      ],
      "source": [
        "lr = 0.03\n",
        "epochs = 101\n",
        "\n",
        "cost_fn = lambda v: cost_function(v, H_ks)+offset_ks\n",
        "grad_fn = lambda var: lcu_gradients(ansatz_label, H_ks_lcu, var)\n",
        "lost_list, time_list, _ = train(cost_fn, grad_fn, epochs, var_init_ks, lr)\n",
        "lcul.append(lost_list)\n",
        "lcut.append(time_list)"
      ]
    },
    {
      "cell_type": "code",
      "execution_count": null,
      "metadata": {
        "colab": {
          "base_uri": "https://localhost:8080/"
        },
        "id": "NyXMxu1IRhGc",
        "outputId": "3f354569-44b1-418d-9690-f96f0035f875"
      },
      "outputs": [
        {
          "output_type": "stream",
          "name": "stdout",
          "text": [
            "Iter:     0 | Cost: 16.08365820085 \n",
            "Iter:    10 | Cost: 2.24360521907 \n",
            "Iter:     0 | Cost: 15.75963494829 \n",
            "Iter:    10 | Cost: -0.20698997864 \n",
            "Iter:     0 | Cost: 14.88568424087 \n",
            "Iter:    10 | Cost: 0.18794862926 \n",
            "Iter:     0 | Cost: 7.31937591142 \n",
            "Iter:    10 | Cost: -0.99668318014 \n",
            "Iter:     0 | Cost: 7.32230064599 \n",
            "Iter:    10 | Cost: -1.77927028829 \n"
          ]
        }
      ],
      "source": [
        "lr = 0.03\n",
        "epochs = 11\n",
        "\n",
        "np.random.seed(1)\n",
        "num_param_gates = 3\n",
        "\n",
        "temp1 = []\n",
        "temp2 = []\n",
        "for num_layers in steps:\n",
        "  var_init_ksc = 0.5*np.random.randn(num_layers, num_param_gates*len(H_ks.wires))\n",
        "\n",
        "  cost_fn = lambda v: cost_function(v, H_ks)+offset_ks\n",
        "  grad_fn = lambda var: lcu_gradients(ansatz_label, H_ks_lcu, var)\n",
        "  lost_list, time_list, _ = train(cost_fn, grad_fn, epochs, var_init_ksc, lr)\n",
        "  temp1.append(lost_list[-1])\n",
        "  temp2.append(time_list[-1])\n",
        "\n",
        "lculc.append(temp1)\n",
        "lcutc.append(temp2)"
      ]
    },
    {
      "cell_type": "markdown",
      "metadata": {
        "id": "momMWW-lp3Y6"
      },
      "source": [
        "### Quantum natural gradient (QNG)"
      ]
    },
    {
      "cell_type": "markdown",
      "metadata": {
        "id": "p-cJoN4rrfLO"
      },
      "source": [
        "#### Max-Cut"
      ]
    },
    {
      "cell_type": "code",
      "execution_count": null,
      "metadata": {
        "colab": {
          "base_uri": "https://localhost:8080/"
        },
        "id": "HFPVe3SIrhKz",
        "outputId": "98daa1dc-b240-489d-a5ca-e24b446f05a2"
      },
      "outputs": [
        {
          "output_type": "stream",
          "name": "stdout",
          "text": [
            "Iter:     0 | Cost: -1.71576906628 \n",
            "Iter:    10 | Cost: -2.94158928907 \n",
            "Iter:    20 | Cost: -3.13068319439 \n",
            "Iter:    30 | Cost: -3.36294601610 \n",
            "Iter:    40 | Cost: -3.48846869402 \n",
            "Iter:    50 | Cost: -3.49989231938 \n",
            "Iter:    60 | Cost: -3.49999996582 \n",
            "Iter:    70 | Cost: -3.49999800734 \n",
            "Iter:    80 | Cost: -3.49821005695 \n",
            "Iter:    90 | Cost: -3.49992934320 \n",
            "Iter:   100 | Cost: -3.49762853222 \n"
          ]
        }
      ],
      "source": [
        "lr = 0.03\n",
        "epochs = 101\n",
        "\n",
        "cost_fn = lambda v: cost_function(v, H_maxcut)+offset_maxcut\n",
        "grad_fn = lambda var: quantum_natural_gradient(var, H_maxcut, lambda x: cost_function(x, H_maxcut))\n",
        "lost_list, time_list, var = train(cost_fn, grad_fn, epochs, var_init_maxcut, lr)\n",
        "qngl.append(lost_list)\n",
        "qngt.append(time_list)"
      ]
    },
    {
      "cell_type": "code",
      "execution_count": null,
      "metadata": {
        "colab": {
          "base_uri": "https://localhost:8080/"
        },
        "id": "tezfK0oIRxuc",
        "outputId": "6e047cf4-b620-4c32-a466-5c7df27f4e59"
      },
      "outputs": [
        {
          "output_type": "stream",
          "name": "stdout",
          "text": [
            "Iter:     0 | Cost: -1.71576906628 \n",
            "Iter:    10 | Cost: -2.94158928907 \n",
            "Iter:     0 | Cost: -1.89311957074 \n",
            "Iter:    10 | Cost: -3.52430019577 \n",
            "Iter:     0 | Cost: -2.03814866340 \n",
            "Iter:    10 | Cost: -3.80382538188 \n",
            "Iter:     0 | Cost: -2.44119325891 \n",
            "Iter:    10 | Cost: -3.75066335131 \n",
            "Iter:     0 | Cost: -2.72776845307 \n",
            "Iter:    10 | Cost: -3.94299215238 \n"
          ]
        }
      ],
      "source": [
        "lr = 0.03\n",
        "epochs = 11\n",
        "\n",
        "np.random.seed(1)\n",
        "num_param_gates = 3\n",
        "\n",
        "temp1 = []\n",
        "temp2 = []\n",
        "for num_layers in steps:\n",
        "  var_init_maxcutc = 0.5*np.random.randn(num_layers, num_param_gates*len(H_maxcut.wires))\n",
        "\n",
        "  cost_fn = lambda v: cost_function(v, H_maxcut)+offset_maxcut\n",
        "  grad_fn = lambda var: quantum_natural_gradient(var, H_maxcut, lambda x: cost_function(x, H_maxcut))\n",
        "  lost_list, time_list, _ = train(cost_fn, grad_fn, epochs, var_init_maxcutc, lr)\n",
        "  temp1.append(lost_list[-1])\n",
        "  temp2.append(time_list[-1])\n",
        "\n",
        "qnglc.append(temp1)\n",
        "qngtc.append(temp2)"
      ]
    },
    {
      "cell_type": "markdown",
      "metadata": {
        "id": "1KUbQst24ohL"
      },
      "source": [
        "#### Clique"
      ]
    },
    {
      "cell_type": "code",
      "execution_count": null,
      "metadata": {
        "colab": {
          "base_uri": "https://localhost:8080/"
        },
        "id": "VUvvdu-f4oIY",
        "outputId": "972cd19e-77eb-4395-986d-328b059470b2"
      },
      "outputs": [
        {
          "output_type": "stream",
          "name": "stdout",
          "text": [
            "Iter:     0 | Cost: 0.12889348726 \n",
            "Iter:    10 | Cost: -1.98051674126 \n",
            "Iter:    20 | Cost: -2.38448984848 \n",
            "Iter:    30 | Cost: -2.47336960466 \n",
            "Iter:    40 | Cost: -2.49448072678 \n",
            "Iter:    50 | Cost: -2.49915735598 \n",
            "Iter:    60 | Cost: -2.49835263137 \n",
            "Iter:    70 | Cost: -2.49654216605 \n",
            "Iter:    80 | Cost: -2.49596293596 \n",
            "Iter:    90 | Cost: -2.49708932223 \n",
            "Iter:   100 | Cost: -2.49710555169 \n"
          ]
        }
      ],
      "source": [
        "lr = 0.03\n",
        "epochs = 101\n",
        "\n",
        "cost_fn = lambda v: cost_function(v, H_clique)+offset_clique\n",
        "grad_fn = lambda var: quantum_natural_gradient(var, H_clique, lambda x: cost_function(x, H_clique))\n",
        "lost_list, time_list, var = train(cost_fn, grad_fn, epochs, var_init_clique, lr)\n",
        "qngl.append(lost_list)\n",
        "qngt.append(time_list)"
      ]
    },
    {
      "cell_type": "code",
      "execution_count": null,
      "metadata": {
        "colab": {
          "base_uri": "https://localhost:8080/"
        },
        "id": "Rg_AzVkRSY5v",
        "outputId": "f9a2251d-c336-445d-e354-87aa68ac7fc4"
      },
      "outputs": [
        {
          "output_type": "stream",
          "name": "stdout",
          "text": [
            "Iter:     0 | Cost: -0.32878854620 \n",
            "Iter:    10 | Cost: -1.89797531893 \n",
            "Iter:     0 | Cost: -0.62011189961 \n",
            "Iter:    10 | Cost: -2.40719879887 \n",
            "Iter:     0 | Cost: 1.03736341873 \n",
            "Iter:    10 | Cost: -2.64420624402 \n",
            "Iter:     0 | Cost: 0.69824350827 \n",
            "Iter:    10 | Cost: -2.88019646028 \n",
            "Iter:     0 | Cost: 1.96240124826 \n",
            "Iter:    10 | Cost: -2.65269429558 \n"
          ]
        }
      ],
      "source": [
        "lr = 0.03\n",
        "epochs = 11\n",
        "\n",
        "np.random.seed(1)\n",
        "num_param_gates = 3\n",
        "\n",
        "temp1 = []\n",
        "temp2 = []\n",
        "for num_layers in steps:\n",
        "  var_init_cliquec = 0.5*np.random.randn(num_layers, num_param_gates*len(H_clique.wires))\n",
        "\n",
        "  cost_fn = lambda v: cost_function(v, H_clique)+offset_clique\n",
        "  grad_fn = lambda var: quantum_natural_gradient(var, H_clique, lambda x: cost_function(x, H_clique))\n",
        "  lost_list, time_list, _ = train(cost_fn, grad_fn, epochs, var_init_cliquec, lr)\n",
        "  temp1.append(lost_list[-1])\n",
        "  temp2.append(time_list[-1])\n",
        "\n",
        "qnglc.append(temp1)\n",
        "qngtc.append(temp2)"
      ]
    },
    {
      "cell_type": "markdown",
      "metadata": {
        "id": "qGLNd_8X4ufi"
      },
      "source": [
        "#### Binary Linear Programming"
      ]
    },
    {
      "cell_type": "code",
      "execution_count": null,
      "metadata": {
        "colab": {
          "base_uri": "https://localhost:8080/"
        },
        "id": "iM2b3HOh4xGJ",
        "outputId": "39357c02-920f-4aa7-86c0-1eaf5dd50b00"
      },
      "outputs": [
        {
          "output_type": "stream",
          "name": "stdout",
          "text": [
            "Iter:     0 | Cost: 667294.31366741285 \n",
            "Iter:    10 | Cost: 379384.93581207283 \n",
            "Iter:    20 | Cost: 305970.33102145430 \n",
            "Iter:    30 | Cost: 259515.64193312312 \n",
            "Iter:    40 | Cost: 215924.21253344981 \n",
            "Iter:    50 | Cost: 190548.59340991767 \n",
            "Iter:    60 | Cost: 183798.14294688002 \n",
            "Iter:    70 | Cost: 183029.36085238756 \n",
            "Iter:    80 | Cost: 183000.08997042844 \n",
            "Iter:    90 | Cost: 183000.26444214763 \n",
            "Iter:   100 | Cost: 183036.45141302131 \n"
          ]
        }
      ],
      "source": [
        "lr = 0.03\n",
        "epochs = 101\n",
        "\n",
        "cost_fn = lambda v: cost_function(v, H_blp)+offset_blp\n",
        "grad_fn = lambda var: quantum_natural_gradient(var, H_blp, lambda x: cost_function(x, H_blp))\n",
        "lost_list, time_list, var = train(cost_fn, grad_fn, epochs, var_init_blp, lr)\n",
        "qngl.append(lost_list)\n",
        "qngt.append(time_list)"
      ]
    },
    {
      "cell_type": "code",
      "execution_count": null,
      "metadata": {
        "colab": {
          "base_uri": "https://localhost:8080/"
        },
        "id": "iWyVFZVgScEz",
        "outputId": "7bef7202-c5c0-4b63-ed36-bc5e9a7bee08"
      },
      "outputs": [
        {
          "output_type": "stream",
          "name": "stdout",
          "text": [
            "Iter:     0 | Cost: 631720.31831967935 \n",
            "Iter:    10 | Cost: 310609.15374196280 \n",
            "Iter:     0 | Cost: 659107.38464029436 \n",
            "Iter:    10 | Cost: 286893.91481415957 \n",
            "Iter:     0 | Cost: 601268.39232154237 \n",
            "Iter:    10 | Cost: 241174.27341195743 \n",
            "Iter:     0 | Cost: 416790.04523771151 \n",
            "Iter:    10 | Cost: 190318.39357267530 \n",
            "Iter:     0 | Cost: 445969.56532474287 \n",
            "Iter:    10 | Cost: 218464.63960607367 \n"
          ]
        }
      ],
      "source": [
        "lr = 0.03\n",
        "epochs = 11\n",
        "\n",
        "np.random.seed(1)\n",
        "num_param_gates = 3\n",
        "\n",
        "temp1 = []\n",
        "temp2 = []\n",
        "for num_layers in steps:\n",
        "  var_init_blpc = 0.5*np.random.randn(num_layers, num_param_gates*len(H_blp.wires))\n",
        "\n",
        "  cost_fn = lambda v: cost_function(v, H_blp)+offset_blp\n",
        "  grad_fn = lambda var: quantum_natural_gradient(var, H_blp, lambda x: cost_function(x, H_blp))\n",
        "  lost_list, time_list, _ = train(cost_fn, grad_fn, epochs, var_init_blpc, lr)\n",
        "  temp1.append(lost_list[-1])\n",
        "  temp2.append(time_list[-1])\n",
        "\n",
        "qnglc.append(temp1)\n",
        "qngtc.append(temp2)"
      ]
    },
    {
      "cell_type": "markdown",
      "metadata": {
        "id": "r-78PRRn462g"
      },
      "source": [
        "#### Knapsack"
      ]
    },
    {
      "cell_type": "code",
      "execution_count": null,
      "metadata": {
        "colab": {
          "base_uri": "https://localhost:8080/"
        },
        "id": "8LoQtYT45CsU",
        "outputId": "de94960c-9f7f-479f-d96a-c959baca87e0"
      },
      "outputs": [
        {
          "output_type": "stream",
          "name": "stdout",
          "text": [
            "Iter:     0 | Cost: 27.69312856107 \n",
            "Iter:    10 | Cost: 5.43039164352 \n",
            "Iter:    20 | Cost: 3.26492679845 \n",
            "Iter:    30 | Cost: 1.49779945607 \n",
            "Iter:    40 | Cost: -1.28076844504 \n",
            "Iter:    50 | Cost: -2.63550300237 \n",
            "Iter:    60 | Cost: -2.93420439816 \n",
            "Iter:    70 | Cost: -2.99196568876 \n",
            "Iter:    80 | Cost: -2.99971705188 \n",
            "Iter:    90 | Cost: -2.99999862964 \n",
            "Iter:   100 | Cost: -2.99999999736 \n"
          ]
        }
      ],
      "source": [
        "lr = 0.03\n",
        "epochs = 101\n",
        "\n",
        "cost_fn = lambda v: cost_function(v, H_ks)+offset_ks\n",
        "grad_fn = lambda var: quantum_natural_gradient(var, H_ks, lambda x: cost_function(x, H_ks))\n",
        "lost_list, time_list, var = train(cost_fn, grad_fn, epochs, var_init_ks, lr)\n",
        "qngl.append(lost_list)\n",
        "qngt.append(time_list)"
      ]
    },
    {
      "cell_type": "code",
      "execution_count": null,
      "metadata": {
        "colab": {
          "base_uri": "https://localhost:8080/"
        },
        "id": "W5-iCTCUSfd5",
        "outputId": "3c631750-c458-4858-d4d5-612e9b9104e0"
      },
      "outputs": [
        {
          "output_type": "stream",
          "name": "stdout",
          "text": [
            "Iter:     0 | Cost: 16.08365820085 \n",
            "Iter:    10 | Cost: 2.07597060295 \n",
            "Iter:     0 | Cost: 15.75963494829 \n",
            "Iter:    10 | Cost: -0.11421887804 \n",
            "Iter:     0 | Cost: 14.88568424087 \n",
            "Iter:    10 | Cost: -0.43520495266 \n",
            "Iter:     0 | Cost: 7.31937591142 \n",
            "Iter:    10 | Cost: -0.93943241033 \n",
            "Iter:     0 | Cost: 7.32230064599 \n",
            "Iter:    10 | Cost: -1.76263330758 \n"
          ]
        }
      ],
      "source": [
        "lr = 0.03\n",
        "epochs = 11\n",
        "\n",
        "np.random.seed(1)\n",
        "num_param_gates = 3\n",
        "\n",
        "temp1 = []\n",
        "temp2 = []\n",
        "for num_layers in steps:\n",
        "  var_init_ksc = 0.5*np.random.randn(num_layers, num_param_gates*len(H_ks.wires))\n",
        "\n",
        "  cost_fn = lambda v: cost_function(v, H_ks)+offset_ks\n",
        "  grad_fn = lambda var: quantum_natural_gradient(var, H_ks, lambda x: cost_function(x, H_ks))\n",
        "  lost_list, time_list, _ = train(cost_fn, grad_fn, epochs, var_init_ksc, lr)\n",
        "  temp1.append(lost_list[-1])\n",
        "  temp2.append(time_list[-1])\n",
        "\n",
        "qnglc.append(temp1)\n",
        "qngtc.append(temp2)"
      ]
    },
    {
      "cell_type": "markdown",
      "metadata": {
        "id": "e73gqvIqp-1J"
      },
      "source": [
        "### Quantum newton gradient"
      ]
    },
    {
      "cell_type": "markdown",
      "metadata": {
        "id": "pcvKyZjX6UTt"
      },
      "source": [
        "#### Max-Cut"
      ]
    },
    {
      "cell_type": "code",
      "execution_count": null,
      "metadata": {
        "colab": {
          "base_uri": "https://localhost:8080/"
        },
        "id": "5nsuAop45vd4",
        "outputId": "c75855aa-8562-4222-f7d4-19be109459c4"
      },
      "outputs": [
        {
          "output_type": "stream",
          "name": "stdout",
          "text": [
            "Iter:     0 | Cost: -1.71576906628 \n",
            "Iter:    10 | Cost: -2.95798481199 \n",
            "Iter:    20 | Cost: -3.31256553703 \n",
            "Iter:    30 | Cost: -3.45361325153 \n",
            "Iter:    40 | Cost: -3.49241122047 \n",
            "Iter:    50 | Cost: -3.49929796990 \n",
            "Iter:    60 | Cost: -3.49960066503 \n",
            "Iter:    70 | Cost: -3.49951859032 \n",
            "Iter:    80 | Cost: -3.49942910177 \n",
            "Iter:    90 | Cost: -3.49430642768 \n",
            "Iter:   100 | Cost: -3.49937363476 \n"
          ]
        }
      ],
      "source": [
        "lr = 0.03\n",
        "epochs = 101\n",
        "\n",
        "cost_fn = lambda v: cost_function(v, H_maxcut)+offset_maxcut\n",
        "grad_fn = lambda var: newton_gradient(cost_function, H_maxcut, var)\n",
        "lost_list, time_list, var = train(cost_fn, grad_fn, epochs, var_init_maxcut, lr)\n",
        "qnwl.append(lost_list)\n",
        "qnwt.append(time_list)"
      ]
    },
    {
      "cell_type": "code",
      "execution_count": null,
      "metadata": {
        "colab": {
          "base_uri": "https://localhost:8080/"
        },
        "id": "cFmG4iZXS0YE",
        "outputId": "15730d30-c895-47e2-da5e-fe36708551fa"
      },
      "outputs": [
        {
          "output_type": "stream",
          "name": "stdout",
          "text": [
            "Iter:     0 | Cost: -1.71576906628 \n",
            "Iter:    10 | Cost: -2.95798481199 \n",
            "Iter:     0 | Cost: -1.89311957074 \n",
            "Iter:    10 | Cost: -3.32384767979 \n",
            "Iter:     0 | Cost: -2.03814866340 \n",
            "Iter:    10 | Cost: -3.55690448528 \n",
            "Iter:     0 | Cost: -2.44119325891 \n",
            "Iter:    10 | Cost: -3.90999054564 \n",
            "Iter:     0 | Cost: -2.72776845307 \n",
            "Iter:    10 | Cost: -3.73672436747 \n"
          ]
        }
      ],
      "source": [
        "lr = 0.03\n",
        "epochs = 11\n",
        "\n",
        "np.random.seed(1)\n",
        "num_param_gates = 3\n",
        "\n",
        "temp1 = []\n",
        "temp2 = []\n",
        "for num_layers in steps:\n",
        "  var_init_maxcutc = 0.5*np.random.randn(num_layers, num_param_gates*len(H_maxcut.wires))\n",
        "\n",
        "  cost_fn = lambda v: cost_function(v, H_maxcut)+offset_maxcut\n",
        "  grad_fn = lambda var: newton_gradient(cost_function, H_maxcut, var)\n",
        "  lost_list, time_list, _ = train(cost_fn, grad_fn, epochs, var_init_maxcutc, lr)\n",
        "  temp1.append(lost_list[-1])\n",
        "  temp2.append(time_list[-1])\n",
        "\n",
        "qnwlc.append(temp1)\n",
        "qnwtc.append(temp2)"
      ]
    },
    {
      "cell_type": "markdown",
      "metadata": {
        "id": "_DutEPjw6V4p"
      },
      "source": [
        "#### Clique"
      ]
    },
    {
      "cell_type": "code",
      "execution_count": null,
      "metadata": {
        "colab": {
          "base_uri": "https://localhost:8080/"
        },
        "id": "gRB1HHjY6WU2",
        "outputId": "6aa9e9e6-9670-468c-b239-4aac9106b099"
      },
      "outputs": [
        {
          "output_type": "stream",
          "name": "stdout",
          "text": [
            "Iter:     0 | Cost: 0.12889348726 \n",
            "Iter:    10 | Cost: -1.60818224721 \n",
            "Iter:    20 | Cost: -2.14883115155 \n",
            "Iter:    30 | Cost: -2.39054688150 \n",
            "Iter:    40 | Cost: -2.47823470119 \n",
            "Iter:    50 | Cost: -2.50347705971 \n",
            "Iter:    60 | Cost: -2.51515291323 \n",
            "Iter:    70 | Cost: -2.54698725033 \n",
            "Iter:    80 | Cost: -2.71555288992 \n",
            "Iter:    90 | Cost: -2.92995255479 \n",
            "Iter:   100 | Cost: -2.99006428254 \n"
          ]
        }
      ],
      "source": [
        "lr = 0.03\n",
        "epochs = 101\n",
        "\n",
        "cost_fn = lambda v: cost_function(v, H_clique)+offset_clique\n",
        "grad_fn = lambda var: newton_gradient(cost_function,H_clique, var)\n",
        "lost_list, time_list, var = train(cost_fn, grad_fn, epochs, var_init_clique, lr)\n",
        "qnwl.append(lost_list)\n",
        "qnwt.append(time_list)"
      ]
    },
    {
      "cell_type": "code",
      "execution_count": null,
      "metadata": {
        "colab": {
          "base_uri": "https://localhost:8080/"
        },
        "id": "KPuE4dtyTBcT",
        "outputId": "b1a403e4-7539-46a9-8cc8-bea62350fb38"
      },
      "outputs": [
        {
          "output_type": "stream",
          "name": "stdout",
          "text": [
            "Iter:     0 | Cost: -0.32878854620 \n",
            "Iter:    10 | Cost: -1.97375431083 \n",
            "Iter:     0 | Cost: -0.62011189961 \n",
            "Iter:    10 | Cost: -1.55111462318 \n",
            "Iter:     0 | Cost: 1.03736341873 \n",
            "Iter:    10 | Cost: 0.38176398434 \n",
            "Iter:     0 | Cost: 0.69824350827 \n",
            "Iter:    10 | Cost: 0.39475929962 \n",
            "Iter:     0 | Cost: 1.96240124826 \n",
            "Iter:    10 | Cost: -1.58936946404 \n"
          ]
        }
      ],
      "source": [
        "lr = 0.03\n",
        "epochs = 11\n",
        "\n",
        "np.random.seed(1)\n",
        "num_param_gates = 3\n",
        "\n",
        "temp1 = []\n",
        "temp2 = []\n",
        "for num_layers in steps:\n",
        "  var_init_cliquec = 0.5*np.random.randn(num_layers, num_param_gates*len(H_clique.wires))\n",
        "\n",
        "  cost_fn = lambda v: cost_function(v, H_clique)+offset_clique\n",
        "  grad_fn = lambda var: newton_gradient(cost_function, H_clique, var)\n",
        "  lost_list, time_list, _ = train(cost_fn, grad_fn, epochs, var_init_cliquec, lr)\n",
        "  temp1.append(lost_list[-1])\n",
        "  temp2.append(time_list[-1])\n",
        "\n",
        "qnwlc.append(temp1)\n",
        "qnwtc.append(temp2)"
      ]
    },
    {
      "cell_type": "markdown",
      "metadata": {
        "id": "Dn2S2eNJ7yaM"
      },
      "source": [
        "#### Binary Linear Programming"
      ]
    },
    {
      "cell_type": "code",
      "execution_count": null,
      "metadata": {
        "colab": {
          "base_uri": "https://localhost:8080/"
        },
        "id": "c2IPkKez72CA",
        "outputId": "5fc9ad69-ff69-4c24-b780-8bbd9a30da16"
      },
      "outputs": [
        {
          "output_type": "stream",
          "name": "stdout",
          "text": [
            "Iter:     0 | Cost: 667294.31366741285 \n",
            "Iter:    10 | Cost: 313093.67524989817 \n",
            "Iter:    20 | Cost: 319749.41470499325 \n",
            "Iter:    30 | Cost: 316712.11947422265 \n",
            "Iter:    40 | Cost: 317363.51094097371 \n",
            "Iter:    50 | Cost: 468755.13538819319 \n",
            "Iter:    60 | Cost: 532735.67076553672 \n",
            "Iter:    70 | Cost: 534973.22974837734 \n",
            "Iter:    80 | Cost: 534906.92375133315 \n",
            "Iter:    90 | Cost: 534906.92046439648 \n",
            "Iter:   100 | Cost: 534906.92046439648 \n"
          ]
        }
      ],
      "source": [
        "lr = 1\n",
        "epochs = 101\n",
        "reg = 3.0\n",
        "cost_fn = lambda v: cost_function(v, H_blp)+offset_blp\n",
        "grad_fn = lambda var: newton_gradient(cost_function,H_blp, var, reg)\n",
        "lost_list, time_list, var = train(cost_fn, grad_fn, epochs, var_init_blp, lr)\n",
        "qnwl.append(lost_list)\n",
        "qnwt.append(time_list)"
      ]
    },
    {
      "cell_type": "code",
      "execution_count": null,
      "metadata": {
        "colab": {
          "base_uri": "https://localhost:8080/"
        },
        "id": "jJeMqaqwTGMw",
        "outputId": "39c0b238-158b-4a20-8b9c-8017a395e29f"
      },
      "outputs": [
        {
          "output_type": "stream",
          "name": "stdout",
          "text": [
            "Iter:     0 | Cost: 631720.31831967935 \n",
            "Iter:    10 | Cost: 543469.01130241947 \n",
            "Iter:     0 | Cost: 659107.38464029436 \n",
            "Iter:    10 | Cost: 507610.55456485046 \n",
            "Iter:     0 | Cost: 601268.39232154237 \n",
            "Iter:    10 | Cost: 419066.54729574651 \n",
            "Iter:     0 | Cost: 416790.04523771151 \n",
            "Iter:    10 | Cost: 445287.78408814187 \n",
            "Iter:     0 | Cost: 445969.56532474287 \n",
            "Iter:    10 | Cost: 458102.36093729548 \n"
          ]
        }
      ],
      "source": [
        "lr = 1\n",
        "epochs = 11\n",
        "reg = 3.0\n",
        "np.random.seed(1)\n",
        "num_param_gates = 3\n",
        "\n",
        "temp1 = []\n",
        "temp2 = []\n",
        "for num_layers in steps:\n",
        "  var_init_blpc = 0.5*np.random.randn(num_layers, num_param_gates*len(H_blp.wires))\n",
        "\n",
        "  cost_fn = lambda v: cost_function(v, H_blp)+offset_blp\n",
        "  grad_fn = lambda var: newton_gradient(cost_function, H_blp, var, reg)\n",
        "  lost_list, time_list, _ = train(cost_fn, grad_fn, epochs, var_init_blpc, lr)\n",
        "  temp1.append(min(lost_list))\n",
        "  temp2.append(time_list[-1])\n",
        "\n",
        "qnwlc.append(temp1)\n",
        "qnwtc.append(temp2)"
      ]
    },
    {
      "cell_type": "markdown",
      "metadata": {
        "id": "F4FnnJbM8Xvu"
      },
      "source": [
        "#### Knapsack"
      ]
    },
    {
      "cell_type": "code",
      "execution_count": null,
      "metadata": {
        "colab": {
          "base_uri": "https://localhost:8080/"
        },
        "id": "AYEr8HSH8Wny",
        "outputId": "a4ab92a5-28c6-4e68-b117-b545fc3abaf4"
      },
      "outputs": [
        {
          "output_type": "stream",
          "name": "stdout",
          "text": [
            "Iter:     0 | Cost: 27.69312856107 \n",
            "Iter:    10 | Cost: 11.99430554828 \n",
            "Iter:    20 | Cost: 2.61864508191 \n",
            "Iter:    30 | Cost: -2.87234569733 \n",
            "Iter:    40 | Cost: -2.99998421392 \n",
            "Iter:    50 | Cost: -2.98543555793 \n",
            "Iter:    60 | Cost: -2.98527457768 \n",
            "Iter:    70 | Cost: -2.70709550537 \n",
            "Iter:    80 | Cost: -2.76467334078 \n",
            "Iter:    90 | Cost: 4.27283603099 \n",
            "Iter:   100 | Cost: -2.35232568798 \n"
          ]
        }
      ],
      "source": [
        "lr = 1\n",
        "epochs = 101\n",
        "reg = 3.2\n",
        "cost_fn = lambda v: cost_function(v, H_ks)+offset_ks\n",
        "grad_fn = lambda var: newton_gradient(cost_function,H_ks, var, reg)\n",
        "lost_list, time_list, var = train(cost_fn, grad_fn, epochs, var_init_ks, lr)\n",
        "qnwl.append(lost_list)\n",
        "qnwt.append(time_list)"
      ]
    },
    {
      "cell_type": "code",
      "execution_count": null,
      "metadata": {
        "colab": {
          "base_uri": "https://localhost:8080/"
        },
        "id": "u-gME3g0TMuP",
        "outputId": "13a14b23-8486-436a-dd33-2f5e1b6707eb"
      },
      "outputs": [
        {
          "output_type": "stream",
          "name": "stdout",
          "text": [
            "Iter:     0 | Cost: 16.08365820085 \n",
            "Iter:    10 | Cost: 12.82354490414 \n",
            "Iter:     0 | Cost: 15.75963494829 \n",
            "Iter:    10 | Cost: 9.50259090662 \n",
            "Iter:     0 | Cost: 14.88568424087 \n",
            "Iter:    10 | Cost: 5.73829383845 \n",
            "Iter:     0 | Cost: 7.31937591142 \n",
            "Iter:    10 | Cost: 1.24917421977 \n",
            "Iter:     0 | Cost: 7.32230064599 \n",
            "Iter:    10 | Cost: 4.23089022506 \n"
          ]
        }
      ],
      "source": [
        "lr = 1\n",
        "epochs = 11\n",
        "reg = 3.2\n",
        "np.random.seed(1)\n",
        "num_param_gates = 3\n",
        "\n",
        "temp1 = []\n",
        "temp2 = []\n",
        "for num_layers in steps:\n",
        "  var_init_ksc = 0.5*np.random.randn(num_layers, num_param_gates*len(H_ks.wires))\n",
        "\n",
        "  cost_fn = lambda v: cost_function(v, H_ks)+offset_ks\n",
        "  grad_fn = lambda var: newton_gradient(cost_function, H_ks, var, reg)\n",
        "  lost_list, time_list, _ = train(cost_fn, grad_fn, epochs, var_init_ksc, lr)\n",
        "  temp1.append(lost_list[-1])\n",
        "  temp2.append(time_list[-1])\n",
        "\n",
        "qnwlc.append(temp1)\n",
        "qnwtc.append(temp2)"
      ]
    },
    {
      "cell_type": "markdown",
      "metadata": {
        "id": "Dy0xupPD9K8O"
      },
      "source": [
        "#**Benchmarking** "
      ]
    },
    {
      "cell_type": "markdown",
      "metadata": {
        "id": "CLdbB84Men8d"
      },
      "source": [
        "### Contour Plot"
      ]
    },
    {
      "cell_type": "code",
      "execution_count": null,
      "metadata": {
        "id": "T5J8IafWnQNb"
      },
      "outputs": [],
      "source": [
        "#@title Train Contour\n",
        "def train_contour(cost_fn, grad_fn, epochs, var_init, lr):\n",
        "  lost_list = []\n",
        "  var_list = []\n",
        "  var = var_init.copy()\n",
        "  var_list.append(var)\n",
        "  opt = qml.RMSPropOptimizer(lr)\n",
        "\n",
        "  start = time.time()\n",
        "\n",
        "  for it in range(epochs):# while True:\n",
        "      \n",
        "      var, _cost = opt.step_and_cost(cost_fn, var, grad_fn=grad_fn) \n",
        "      lost_list.append(_cost.numpy())\n",
        "      var_list.append(var)\n",
        "      # if it%10==0:\n",
        "      #   print(\"Iter: {:5d} | Cost: {:0.11f} \".format(it, _cost))\n",
        "\n",
        "      end = time.time()\n",
        "      t = end - start\n",
        "  return lost_list, var_list\n",
        "\n",
        "\n",
        "def quantum_natural_gradient_contour(var, H, cost_function):\n",
        "  num_wires = len(H.wires)\n",
        "  dev = qml.device('default.qubit', wires=num_wires)\n",
        "\n",
        "  @qml.qnode(dev)\n",
        "  def metric_tensor_circuit(var):\n",
        "    for v in var: \n",
        "      ansatz_contour(v)\n",
        "    return qml.expval(H)\n",
        "\n",
        "  metric_fn = qml.metric_tensor(metric_tensor_circuit, approx=\"block-diag\", hybrid=False)\n",
        "  grad = parameter_shift(cost_function, var)\n",
        "  grad_flatten = grad.flatten()\n",
        "  metric_tensor = metric_fn(var)\n",
        "  try:\n",
        "    qng_grad = np.linalg.solve(metric_tensor, grad_flatten)\n",
        "  except: \n",
        "    qng_grad = np.linalg.lstsq(metric_tensor, grad_flatten, rcond=None)[0]\n",
        "  return qng_grad\n",
        "\n",
        "\n",
        "param_gates = ['RX', 'RY', 'RZ']\n",
        "\n",
        "def lcu_term(ansatz, params, wires, diff_index, num_wires, num_layers):\n",
        "  qml.Hadamard(wires=num_wires)\n",
        "  break_point = len(ansatz)//num_layers\n",
        "  qml.adjoint(qml.S)(wires=num_wires)\n",
        "\n",
        "  counting = 0\n",
        "  for i, gate in enumerate(ansatz):\n",
        "    \n",
        "    if gate in param_gates:\n",
        "      if i == diff_index:\n",
        "        controlStr(gate)(wires=[num_wires, diff_index//2])\n",
        "      str2gate(gate)(params[counting], wires=wires[i])\n",
        "      counting += 1\n",
        "    else:\n",
        "      str2gate(gate)(wires=wires[i])\n",
        "    if i!=0 and (i+1)%break_point==0:\n",
        "      fully_connected_layer(num_wires)\n",
        "  qml.Hadamard(wires=num_wires)\n",
        "\n",
        "def lcu_gradients_contour(ansatz_label, H, params):\n",
        "  num_layers = len(params)\n",
        "  num_wires = len(H.wires)-1\n",
        "  num_param_gates = len(params[0])//num_wires\n",
        "\n",
        "  ansatz = ansatz_label * num_layers * num_wires\n",
        "  \n",
        "  wires = []\n",
        "  for i in range(num_layers):\n",
        "    for j in range(num_wires):\n",
        "      for k in range(2):\n",
        "        wires.append(j)\n",
        "  params = params.flatten()\n",
        "\n",
        "  dev = qml.device(\"default.qubit\", wires=num_wires+1)\n",
        "  @qml.qnode(dev)\n",
        "  def lcu(ansatz, H, params, wires, diff_index):\n",
        "    \n",
        "    lcu_term(ansatz, params, wires, diff_index, num_wires, num_layers)\n",
        "    \n",
        "    return qml.expval(H)\n",
        "\n",
        "  gradients = []\n",
        "  for i in range(len(ansatz)):\n",
        "    if ansatz[i] in param_gates:\n",
        "      gradients.append(lcu(ansatz, H, params, wires, i))\n",
        "      \n",
        "  return np.array(gradients).reshape(num_layers, -1)\n",
        "\n",
        "def newton_gradient_contour(H, params, reg):\n",
        "  num_layers = len(params)\n",
        "  params = params.reshape(1,-1)[0]\n",
        "  num_wires = len(H.wires)\n",
        "  dev = qml.device('default.qubit', wires=num_wires)\n",
        "\n",
        "  @qml.qnode(dev)\n",
        "  def circuit(var,H):\n",
        "    qml.RX(var[0], wires=0)\n",
        "    qml.RZ(var[1], wires=0)\n",
        "    return qml.expval(H)\n",
        "\n",
        "  grad_fn = qml.grad(circuit)\n",
        "  hes_fn = qml.jacobian(grad_fn)\n",
        "  grad = grad_fn(params, H)\n",
        "  hessian_matrix = hes_fn(params, H)\n",
        "  iden = np.identity(len(hessian_matrix))*reg\n",
        "  hessian_matrix += iden\n",
        "  \n",
        "  try:\n",
        "    #x = np.linalg.inv(hessian_matrix)\n",
        "    newton_grad = np.linalg.solve(hessian_matrix, grad)\n",
        "  except: \n",
        "    #x = np.linalg.pinv(hessian_matrix)\n",
        "    newton_grad = np.linalg.lstsq(hessian_matrix, grad, rcond=None)[0] \n",
        "  \n",
        "  return newton_grad.reshape(num_layers,-1)"
      ]
    },
    {
      "cell_type": "code",
      "execution_count": null,
      "metadata": {
        "cellView": "form",
        "id": "RmDWARV9qOhL",
        "colab": {
          "base_uri": "https://localhost:8080/",
          "height": 1000,
          "referenced_widgets": [
            "d3b1a52b07b143c7b7965bca6159f21a",
            "11182d9eb45144d38213daa6a735144f",
            "01d5310e1fd9402b9c077ee12ddf5a9e",
            "f6b8390f866a4ae4b12bf2469b2b85af",
            "e9705710ec0c4a1bb501d0ac0cf62db9",
            "0010455e041d499c9ab32aa74b5320c5",
            "bc4e86ab28b84211be98830efd33e00a",
            "9edaef06dd964b7dbcf9f9c3334c7bd9",
            "eaf385c87b6e461bb412e5720514a829",
            "bfcfa768f4504b179a3c526cbaca47f6",
            "96538a35f43c4bd2a1308067b5f06594"
          ]
        },
        "outputId": "16f6a881-a6b5-4707-f92e-d94556797717"
      },
      "outputs": [
        {
          "output_type": "stream",
          "name": "stdout",
          "text": [
            "\\ This file has been generated by DOcplex\n",
            "\\ ENCODING=ISO-8859-1\n",
            "\\Problem name: docplex model\n",
            "\n",
            "Minimize\n",
            " obj: 95000 x1\n",
            "Subject To\n",
            " c0: x1 >= 1\n",
            "\n",
            "Bounds\n",
            " 0 <= x1 <= 1\n",
            "\n",
            "Binaries\n",
            " x1\n",
            "End\n",
            "\n"
          ]
        },
        {
          "output_type": "display_data",
          "data": {
            "text/plain": [
              "  0%|          | 0/50 [00:00<?, ?it/s]"
            ],
            "application/vnd.jupyter.widget-view+json": {
              "version_major": 2,
              "version_minor": 0,
              "model_id": "d3b1a52b07b143c7b7965bca6159f21a"
            }
          },
          "metadata": {}
        },
        {
          "output_type": "display_data",
          "data": {
            "text/html": [
              "<html>\n",
              "<head><meta charset=\"utf-8\" /></head>\n",
              "<body>\n",
              "    <div>            <script src=\"https://cdnjs.cloudflare.com/ajax/libs/mathjax/2.7.5/MathJax.js?config=TeX-AMS-MML_SVG\"></script><script type=\"text/javascript\">if (window.MathJax) {MathJax.Hub.Config({SVG: {font: \"STIX-Web\"}});}</script>                <script type=\"text/javascript\">window.PlotlyConfig = {MathJaxConfig: 'local'};</script>\n",
              "        <script src=\"https://cdn.plot.ly/plotly-2.8.3.min.js\"></script>                <div id=\"4cf08411-f0f6-4fc7-9697-bb13879bc7e4\" class=\"plotly-graph-div\" style=\"height:1000px; width:1000px;\"></div>            <script type=\"text/javascript\">                                    window.PLOTLYENV=window.PLOTLYENV || {};                                    if (document.getElementById(\"4cf08411-f0f6-4fc7-9697-bb13879bc7e4\")) {                    Plotly.newPlot(                        \"4cf08411-f0f6-4fc7-9697-bb13879bc7e4\",                        [{\"showscale\":false,\"x\":[-8.0,-7.673469387755102,-7.346938775510204,-7.020408163265306,-6.6938775510204085,-6.36734693877551,-6.040816326530612,-5.714285714285714,-5.387755102040817,-5.061224489795919,-4.73469387755102,-4.408163265306123,-4.081632653061225,-3.755102040816327,-3.428571428571429,-3.1020408163265314,-2.775510204081633,-2.4489795918367347,-2.1224489795918373,-1.795918367346939,-1.4693877551020416,-1.1428571428571432,-0.8163265306122458,-0.4897959183673475,-0.16326530612244916,0.16326530612244916,0.4897959183673457,0.816326530612244,1.1428571428571423,1.4693877551020407,1.7959183673469372,2.1224489795918355,2.448979591836734,2.775510204081632,3.1020408163265305,3.428571428571427,3.7551020408163254,4.081632653061224,4.408163265306122,4.734693877551019,5.061224489795917,5.387755102040815,5.7142857142857135,6.040816326530612,6.367346938775508,6.693877551020407,7.020408163265305,7.346938775510203,7.673469387755102,8.0],\"y\":[-8.0,-7.673469387755102,-7.346938775510204,-7.020408163265306,-6.6938775510204085,-6.36734693877551,-6.040816326530612,-5.714285714285714,-5.387755102040817,-5.061224489795919,-4.73469387755102,-4.408163265306123,-4.081632653061225,-3.755102040816327,-3.428571428571429,-3.1020408163265314,-2.775510204081633,-2.4489795918367347,-2.1224489795918373,-1.795918367346939,-1.4693877551020416,-1.1428571428571432,-0.8163265306122458,-0.4897959183673475,-0.16326530612244916,0.16326530612244916,0.4897959183673457,0.816326530612244,1.1428571428571423,1.4693877551020407,1.7959183673469372,2.1224489795918355,2.448979591836734,2.775510204081632,3.1020408163265305,3.428571428571427,3.7551020408163254,4.081632653061224,4.408163265306122,4.734693877551019,5.061224489795917,5.387755102040815,5.7142857142857135,6.040816326530612,6.367346938775508,6.693877551020407,7.020408163265305,7.346938775510203,7.673469387755102,8.0],\"z\":[[0.4272499830956933,0.5897667600637693,0.7427971435669347,0.8701691515823801,0.9584223341218036,0.9982302499334017,0.9853860684248854,0.9212471401282114,0.8125915542805058,0.6709018422639796,0.5111515238666231,0.35022273202255966,0.2051221386689387,0.09118371953983663,0.02044828655561958,0.0003910359773804837,0.03313158280152002,0.11520996357152648,0.23795227923619283,0.3883873375595285,0.550617425923208,0.7074983536605337,0.8424512200002258,0.9412144431674014,0.9933508992850146,0.9933508992850146,0.9412144431674017,0.8424512200002263,0.7074983536605342,0.5506174259232084,0.3883873375595293,0.23795227923619358,0.11520996357152674,0.033131582801520176,0.00039103597738050127,0.02044828655561934,0.09118371953983612,0.20512213866893836,0.35022273202255916,0.5111515238666224,0.6709018422639788,0.8125915542805051,0.9212471401282114,0.9853860684248854,0.9982302499334017,0.9584223341218039,0.8701691515823805,0.7427971435669349,0.5897667600637693,0.4272499830956933],[0.42724998309569323,0.5897667600637694,0.7427971435669347,0.8701691515823802,0.9584223341218037,0.9982302499334016,0.9853860684248854,0.9212471401282114,0.8125915542805058,0.6709018422639796,0.5111515238666232,0.3502227320225597,0.2051221386689387,0.09118371953983662,0.020448286555619585,0.0003910359773804837,0.033131582801520024,0.11520996357152646,0.23795227923619283,0.3883873375595285,0.550617425923208,0.7074983536605337,0.8424512200002257,0.9412144431674014,0.9933508992850146,0.9933508992850146,0.9412144431674018,0.8424512200002263,0.707498353660534,0.5506174259232084,0.38838733755952937,0.2379522792361936,0.11520996357152671,0.033131582801520176,0.00039103597738050127,0.02044828655561934,0.09118371953983612,0.20512213866893833,0.3502227320225591,0.5111515238666224,0.6709018422639788,0.8125915542805051,0.9212471401282112,0.9853860684248854,0.9982302499334016,0.958422334121804,0.8701691515823806,0.7427971435669352,0.5897667600637694,0.42724998309569323],[0.4272499830956933,0.5897667600637694,0.7427971435669347,0.8701691515823802,0.9584223341218038,0.9982302499334018,0.9853860684248854,0.9212471401282114,0.812591554280506,0.6709018422639796,0.5111515238666232,0.3502227320225597,0.2051221386689387,0.09118371953983662,0.020448286555619585,0.0003910359773804837,0.03313158280152002,0.11520996357152646,0.23795227923619286,0.3883873375595286,0.550617425923208,0.7074983536605337,0.8424512200002258,0.9412144431674015,0.9933508992850149,0.9933508992850149,0.941214443167402,0.8424512200002265,0.707498353660534,0.5506174259232085,0.3883873375595294,0.2379522792361936,0.11520996357152673,0.03313158280152018,0.0003910359773805012,0.02044828655561934,0.09118371953983613,0.20512213866893833,0.3502227320225591,0.5111515238666224,0.6709018422639788,0.8125915542805052,0.9212471401282112,0.9853860684248854,0.9982302499334018,0.9584223341218042,0.8701691515823806,0.7427971435669352,0.5897667600637694,0.4272499830956933],[0.42724998309569323,0.5897667600637693,0.7427971435669347,0.8701691515823801,0.9584223341218037,0.9982302499334017,0.9853860684248854,0.9212471401282115,0.8125915542805059,0.6709018422639796,0.5111515238666231,0.3502227320225596,0.2051221386689387,0.09118371953983663,0.02044828655561958,0.00039103597738048365,0.03313158280152002,0.11520996357152645,0.23795227923619283,0.38838733755952853,0.550617425923208,0.7074983536605337,0.8424512200002258,0.9412144431674013,0.9933508992850146,0.9933508992850146,0.9412144431674018,0.8424512200002263,0.707498353660534,0.5506174259232085,0.3883873375595293,0.2379522792361936,0.11520996357152674,0.033131582801520176,0.0003910359773805013,0.020448286555619335,0.09118371953983612,0.2051221386689383,0.35022273202255916,0.5111515238666223,0.6709018422639786,0.8125915542805052,0.9212471401282113,0.9853860684248854,0.9982302499334017,0.9584223341218041,0.8701691515823806,0.742797143566935,0.5897667600637693,0.42724998309569323],[0.4272499830956932,0.5897667600637695,0.7427971435669347,0.8701691515823803,0.9584223341218037,0.9982302499334017,0.9853860684248853,0.9212471401282114,0.8125915542805058,0.6709018422639796,0.5111515238666231,0.3502227320225596,0.2051221386689387,0.09118371953983663,0.020448286555619585,0.0003910359773804837,0.03313158280152002,0.11520996357152646,0.23795227923619283,0.3883873375595286,0.550617425923208,0.7074983536605336,0.8424512200002258,0.9412144431674013,0.9933508992850147,0.9933508992850147,0.9412144431674018,0.8424512200002264,0.7074983536605339,0.5506174259232085,0.38838733755952926,0.2379522792361936,0.11520996357152673,0.03313158280152018,0.0003910359773805012,0.02044828655561933,0.09118371953983612,0.20512213866893833,0.35022273202255905,0.5111515238666224,0.6709018422639788,0.8125915542805051,0.9212471401282112,0.9853860684248853,0.9982302499334017,0.958422334121804,0.8701691515823806,0.742797143566935,0.5897667600637695,0.4272499830956932],[0.42724998309569334,0.5897667600637695,0.7427971435669349,0.8701691515823804,0.9584223341218038,0.9982302499334016,0.9853860684248855,0.9212471401282116,0.8125915542805059,0.6709018422639796,0.5111515238666232,0.35022273202255977,0.2051221386689387,0.09118371953983664,0.020448286555619585,0.00039103597738048365,0.033131582801520024,0.11520996357152648,0.23795227923619283,0.3883873375595286,0.5506174259232082,0.7074983536605337,0.8424512200002258,0.9412144431674015,0.9933508992850149,0.9933508992850149,0.941214443167402,0.8424512200002264,0.707498353660534,0.5506174259232086,0.3883873375595294,0.2379522792361936,0.11520996357152674,0.03313158280152018,0.00039103597738050127,0.02044828655561934,0.09118371953983614,0.20512213866893836,0.3502227320225592,0.5111515238666224,0.6709018422639788,0.8125915542805053,0.9212471401282114,0.9853860684248855,0.9982302499334016,0.9584223341218042,0.8701691515823807,0.7427971435669353,0.5897667600637695,0.42724998309569334],[0.42724998309569323,0.5897667600637695,0.7427971435669347,0.8701691515823802,0.9584223341218036,0.9982302499334016,0.9853860684248853,0.9212471401282115,0.8125915542805058,0.6709018422639796,0.5111515238666231,0.35022273202255966,0.2051221386689387,0.09118371953983663,0.020448286555619585,0.00039103597738048376,0.03313158280152002,0.11520996357152649,0.23795227923619283,0.38838733755952853,0.5506174259232081,0.7074983536605337,0.8424512200002257,0.9412144431674013,0.9933508992850146,0.9933508992850146,0.9412144431674018,0.8424512200002263,0.707498353660534,0.5506174259232085,0.3883873375595293,0.2379522792361936,0.11520996357152676,0.03313158280152019,0.0003910359773805013,0.02044828655561934,0.09118371953983612,0.20512213866893833,0.35022273202255916,0.5111515238666223,0.6709018422639788,0.8125915542805052,0.9212471401282113,0.9853860684248853,0.9982302499334016,0.958422334121804,0.8701691515823805,0.7427971435669352,0.5897667600637695,0.42724998309569323],[0.42724998309569323,0.5897667600637694,0.7427971435669347,0.8701691515823803,0.9584223341218037,0.9982302499334017,0.9853860684248855,0.9212471401282115,0.812591554280506,0.6709018422639798,0.5111515238666232,0.35022273202255977,0.2051221386689387,0.09118371953983663,0.020448286555619585,0.0003910359773804837,0.033131582801520024,0.11520996357152646,0.23795227923619286,0.3883873375595285,0.5506174259232081,0.7074983536605337,0.8424512200002258,0.9412144431674014,0.9933508992850147,0.9933508992850147,0.9412144431674019,0.8424512200002264,0.7074983536605343,0.5506174259232086,0.38838733755952937,0.23795227923619364,0.11520996357152674,0.03313158280152018,0.00039103597738050127,0.020448286555619342,0.09118371953983613,0.20512213866893833,0.35022273202255916,0.5111515238666224,0.6709018422639788,0.8125915542805053,0.9212471401282114,0.9853860684248855,0.9982302499334017,0.958422334121804,0.8701691515823805,0.742797143566935,0.5897667600637694,0.42724998309569323],[0.4272499830956933,0.5897667600637694,0.7427971435669348,0.8701691515823802,0.9584223341218037,0.9982302499334016,0.9853860684248854,0.9212471401282116,0.8125915542805059,0.6709018422639796,0.5111515238666232,0.35022273202255966,0.2051221386689387,0.09118371953983663,0.020448286555619588,0.0003910359773804837,0.033131582801520024,0.11520996357152648,0.23795227923619286,0.3883873375595286,0.550617425923208,0.7074983536605337,0.8424512200002257,0.9412144431674014,0.9933508992850146,0.9933508992850146,0.9412144431674019,0.8424512200002264,0.7074983536605342,0.5506174259232085,0.38838733755952937,0.2379522792361936,0.11520996357152674,0.03313158280152018,0.00039103597738050127,0.020448286555619342,0.09118371953983612,0.20512213866893836,0.3502227320225592,0.5111515238666223,0.6709018422639788,0.8125915542805052,0.9212471401282114,0.9853860684248854,0.9982302499334016,0.9584223341218041,0.8701691515823806,0.742797143566935,0.5897667600637694,0.4272499830956933],[0.4272499830956933,0.5897667600637694,0.7427971435669347,0.8701691515823803,0.9584223341218037,0.9982302499334015,0.9853860684248854,0.9212471401282115,0.8125915542805058,0.6709018422639796,0.5111515238666231,0.35022273202255966,0.2051221386689387,0.09118371953983663,0.020448286555619585,0.0003910359773804837,0.03313158280152002,0.11520996357152646,0.23795227923619283,0.3883873375595285,0.550617425923208,0.7074983536605337,0.8424512200002257,0.9412144431674013,0.9933508992850146,0.9933508992850146,0.9412144431674019,0.8424512200002265,0.707498353660534,0.5506174259232085,0.38838733755952937,0.2379522792361936,0.11520996357152674,0.033131582801520176,0.00039103597738050127,0.020448286555619335,0.09118371953983613,0.20512213866893833,0.35022273202255916,0.5111515238666224,0.6709018422639788,0.8125915542805053,0.9212471401282113,0.9853860684248854,0.9982302499334015,0.9584223341218039,0.8701691515823805,0.7427971435669352,0.5897667600637694,0.4272499830956933],[0.42724998309569323,0.5897667600637695,0.7427971435669347,0.8701691515823802,0.9584223341218034,0.9982302499334015,0.9853860684248852,0.9212471401282115,0.8125915542805058,0.6709018422639796,0.5111515238666232,0.3502227320225596,0.2051221386689387,0.09118371953983662,0.02044828655561958,0.0003910359773804837,0.03313158280152002,0.11520996357152646,0.23795227923619283,0.3883873375595285,0.550617425923208,0.7074983536605336,0.8424512200002257,0.9412144431674014,0.9933508992850146,0.9933508992850146,0.9412144431674017,0.8424512200002263,0.7074983536605339,0.5506174259232084,0.38838733755952937,0.23795227923619355,0.11520996357152673,0.03313158280152018,0.00039103597738050127,0.02044828655561934,0.09118371953983612,0.2051221386689383,0.3502227320225591,0.5111515238666223,0.6709018422639788,0.8125915542805052,0.9212471401282112,0.9853860684248852,0.9982302499334015,0.958422334121804,0.8701691515823804,0.7427971435669349,0.5897667600637695,0.42724998309569323],[0.4272499830956933,0.5897667600637694,0.7427971435669347,0.8701691515823801,0.9584223341218034,0.9982302499334016,0.9853860684248854,0.9212471401282115,0.8125915542805058,0.6709018422639796,0.5111515238666231,0.35022273202255966,0.20512213866893864,0.09118371953983663,0.02044828655561958,0.0003910359773804837,0.033131582801520024,0.11520996357152648,0.2379522792361928,0.38838733755952853,0.550617425923208,0.7074983536605337,0.8424512200002257,0.9412144431674014,0.9933508992850146,0.9933508992850146,0.9412144431674019,0.8424512200002263,0.707498353660534,0.5506174259232085,0.38838733755952937,0.2379522792361936,0.11520996357152674,0.033131582801520176,0.0003910359773805012,0.020448286555619335,0.09118371953983612,0.20512213866893836,0.35022273202255916,0.5111515238666223,0.6709018422639788,0.8125915542805052,0.9212471401282112,0.9853860684248854,0.9982302499334016,0.9584223341218041,0.8701691515823805,0.7427971435669352,0.5897667600637694,0.4272499830956933],[0.4272499830956933,0.5897667600637694,0.7427971435669347,0.8701691515823801,0.9584223341218036,0.9982302499334014,0.9853860684248854,0.9212471401282114,0.8125915542805058,0.6709018422639796,0.5111515238666231,0.3502227320225596,0.2051221386689387,0.09118371953983663,0.020448286555619588,0.0003910359773804837,0.033131582801520024,0.11520996357152646,0.2379522792361928,0.3883873375595285,0.550617425923208,0.7074983536605336,0.8424512200002257,0.9412144431674013,0.9933508992850144,0.9933508992850144,0.9412144431674019,0.8424512200002263,0.707498353660534,0.5506174259232086,0.38838733755952937,0.2379522792361936,0.11520996357152671,0.03313158280152018,0.00039103597738050127,0.02044828655561934,0.09118371953983612,0.2051221386689383,0.35022273202255916,0.5111515238666223,0.6709018422639788,0.8125915542805052,0.9212471401282112,0.9853860684248854,0.9982302499334014,0.9584223341218039,0.8701691515823805,0.7427971435669349,0.5897667600637694,0.4272499830956933],[0.4272499830956933,0.5897667600637693,0.7427971435669346,0.8701691515823802,0.9584223341218034,0.9982302499334017,0.9853860684248854,0.9212471401282114,0.8125915542805058,0.6709018422639796,0.5111515238666232,0.3502227320225596,0.2051221386689387,0.09118371953983662,0.020448286555619585,0.0003910359773804837,0.03313158280152002,0.11520996357152646,0.23795227923619286,0.3883873375595286,0.550617425923208,0.7074983536605337,0.8424512200002259,0.9412144431674013,0.9933508992850145,0.9933508992850145,0.9412144431674018,0.8424512200002264,0.707498353660534,0.5506174259232084,0.38838733755952926,0.23795227923619358,0.11520996357152674,0.03313158280152018,0.00039103597738050127,0.020448286555619335,0.09118371953983612,0.20512213866893833,0.3502227320225592,0.5111515238666223,0.6709018422639786,0.8125915542805052,0.9212471401282112,0.9853860684248854,0.9982302499334017,0.958422334121804,0.8701691515823806,0.742797143566935,0.5897667600637693,0.4272499830956933],[0.42724998309569334,0.5897667600637695,0.7427971435669348,0.8701691515823803,0.9584223341218037,0.9982302499334016,0.9853860684248855,0.9212471401282116,0.8125915542805058,0.6709018422639796,0.5111515238666232,0.35022273202255966,0.20512213866893872,0.09118371953983663,0.020448286555619588,0.0003910359773804838,0.033131582801520024,0.11520996357152646,0.23795227923619286,0.38838733755952853,0.5506174259232081,0.7074983536605337,0.8424512200002258,0.9412144431674014,0.9933508992850149,0.9933508992850149,0.9412144431674019,0.8424512200002264,0.7074983536605342,0.5506174259232086,0.38838733755952937,0.23795227923619364,0.11520996357152674,0.03313158280152018,0.00039103597738050127,0.02044828655561934,0.09118371953983613,0.20512213866893836,0.35022273202255916,0.5111515238666224,0.670901842263979,0.8125915542805052,0.9212471401282114,0.9853860684248855,0.9982302499334016,0.9584223341218041,0.8701691515823806,0.7427971435669352,0.5897667600637695,0.42724998309569334],[0.42724998309569323,0.5897667600637694,0.7427971435669349,0.8701691515823804,0.9584223341218038,0.9982302499334017,0.9853860684248856,0.9212471401282117,0.812591554280506,0.6709018422639796,0.5111515238666231,0.35022273202255966,0.20512213866893872,0.09118371953983666,0.020448286555619585,0.0003910359773804837,0.033131582801520024,0.11520996357152648,0.23795227923619286,0.3883873375595286,0.5506174259232081,0.7074983536605338,0.8424512200002259,0.9412144431674017,0.9933508992850147,0.9933508992850147,0.9412144431674021,0.8424512200002264,0.7074983536605342,0.5506174259232086,0.3883873375595294,0.2379522792361936,0.11520996357152676,0.03313158280152018,0.00039103597738050127,0.02044828655561934,0.09118371953983616,0.2051221386689384,0.35022273202255916,0.5111515238666223,0.6709018422639788,0.8125915542805053,0.9212471401282115,0.9853860684248856,0.9982302499334017,0.9584223341218042,0.8701691515823807,0.7427971435669353,0.5897667600637694,0.42724998309569323],[0.42724998309569334,0.5897667600637695,0.7427971435669347,0.8701691515823802,0.9584223341218037,0.9982302499334016,0.9853860684248855,0.9212471401282115,0.812591554280506,0.6709018422639799,0.5111515238666232,0.3502227320225597,0.2051221386689387,0.09118371953983664,0.020448286555619588,0.0003910359773804838,0.033131582801520024,0.11520996357152648,0.23795227923619283,0.3883873375595285,0.5506174259232082,0.7074983536605337,0.8424512200002259,0.9412144431674014,0.9933508992850149,0.9933508992850149,0.9412144431674019,0.8424512200002264,0.707498353660534,0.5506174259232085,0.38838733755952937,0.2379522792361936,0.11520996357152674,0.03313158280152018,0.00039103597738050127,0.02044828655561934,0.09118371953983613,0.20512213866893836,0.3502227320225592,0.5111515238666224,0.6709018422639788,0.8125915542805053,0.9212471401282113,0.9853860684248855,0.9982302499334016,0.9584223341218042,0.8701691515823806,0.7427971435669353,0.5897667600637695,0.42724998309569334],[0.4272499830956933,0.5897667600637696,0.7427971435669347,0.8701691515823804,0.9584223341218037,0.9982302499334017,0.9853860684248855,0.9212471401282115,0.812591554280506,0.6709018422639798,0.5111515238666232,0.35022273202255977,0.2051221386689387,0.09118371953983663,0.020448286555619588,0.0003910359773804838,0.033131582801520024,0.11520996357152646,0.2379522792361929,0.3883873375595286,0.550617425923208,0.7074983536605338,0.8424512200002258,0.9412144431674015,0.9933508992850149,0.9933508992850149,0.941214443167402,0.8424512200002264,0.7074983536605342,0.5506174259232085,0.3883873375595295,0.23795227923619364,0.11520996357152674,0.03313158280152018,0.00039103597738050127,0.020448286555619342,0.09118371953983613,0.20512213866893836,0.3502227320225592,0.5111515238666224,0.6709018422639789,0.8125915542805052,0.9212471401282113,0.9853860684248855,0.9982302499334017,0.9584223341218041,0.8701691515823805,0.7427971435669352,0.5897667600637696,0.4272499830956933],[0.42724998309569323,0.5897667600637694,0.7427971435669347,0.8701691515823802,0.9584223341218037,0.9982302499334015,0.9853860684248854,0.9212471401282114,0.8125915542805058,0.6709018422639796,0.5111515238666231,0.3502227320225596,0.20512213866893864,0.09118371953983663,0.02044828655561958,0.0003910359773804837,0.033131582801520024,0.11520996357152646,0.23795227923619283,0.3883873375595285,0.550617425923208,0.7074983536605337,0.8424512200002258,0.9412144431674014,0.9933508992850149,0.9933508992850149,0.9412144431674018,0.8424512200002263,0.707498353660534,0.5506174259232085,0.3883873375595294,0.2379522792361936,0.11520996357152671,0.03313158280152018,0.00039103597738050127,0.020448286555619335,0.09118371953983612,0.2051221386689383,0.35022273202255916,0.5111515238666224,0.6709018422639786,0.8125915542805053,0.9212471401282114,0.9853860684248854,0.9982302499334015,0.958422334121804,0.8701691515823806,0.742797143566935,0.5897667600637694,0.42724998309569323],[0.4272499830956932,0.5897667600637694,0.7427971435669348,0.8701691515823802,0.9584223341218039,0.9982302499334016,0.9853860684248856,0.9212471401282116,0.812591554280506,0.6709018422639796,0.5111515238666232,0.3502227320225597,0.2051221386689387,0.09118371953983663,0.02044828655561958,0.0003910359773804837,0.033131582801520024,0.11520996357152648,0.23795227923619283,0.3883873375595285,0.5506174259232081,0.7074983536605337,0.8424512200002259,0.9412144431674014,0.9933508992850149,0.9933508992850149,0.9412144431674019,0.8424512200002263,0.7074983536605342,0.5506174259232085,0.38838733755952937,0.2379522792361936,0.11520996357152674,0.033131582801520176,0.00039103597738050127,0.02044828655561934,0.09118371953983612,0.20512213866893836,0.35022273202255916,0.5111515238666224,0.6709018422639788,0.8125915542805053,0.9212471401282114,0.9853860684248856,0.9982302499334016,0.9584223341218041,0.8701691515823806,0.7427971435669352,0.5897667600637694,0.4272499830956932],[0.42724998309569323,0.5897667600637694,0.7427971435669347,0.87016915158238,0.9584223341218037,0.9982302499334017,0.9853860684248854,0.9212471401282114,0.8125915542805058,0.6709018422639795,0.5111515238666231,0.35022273202255966,0.20512213866893866,0.09118371953983663,0.02044828655561958,0.0003910359773804837,0.033131582801520024,0.11520996357152648,0.23795227923619283,0.38838733755952853,0.5506174259232081,0.7074983536605336,0.8424512200002258,0.9412144431674014,0.9933508992850146,0.9933508992850146,0.9412144431674018,0.8424512200002263,0.7074983536605342,0.5506174259232085,0.3883873375595293,0.2379522792361936,0.11520996357152674,0.033131582801520176,0.00039103597738050127,0.02044828655561934,0.09118371953983612,0.20512213866893836,0.35022273202255916,0.5111515238666223,0.6709018422639788,0.8125915542805051,0.9212471401282114,0.9853860684248854,0.9982302499334017,0.958422334121804,0.8701691515823806,0.742797143566935,0.5897667600637694,0.42724998309569323],[0.42724998309569334,0.5897667600637694,0.7427971435669347,0.8701691515823802,0.9584223341218036,0.9982302499334015,0.9853860684248854,0.9212471401282115,0.8125915542805058,0.6709018422639796,0.5111515238666232,0.3502227320225597,0.2051221386689387,0.09118371953983664,0.02044828655561958,0.0003910359773804837,0.033131582801520024,0.11520996357152648,0.23795227923619283,0.3883873375595286,0.550617425923208,0.7074983536605337,0.8424512200002257,0.9412144431674014,0.9933508992850147,0.9933508992850147,0.9412144431674019,0.8424512200002264,0.707498353660534,0.5506174259232085,0.3883873375595294,0.23795227923619355,0.11520996357152674,0.033131582801520176,0.0003910359773805012,0.02044828655561934,0.09118371953983612,0.2051221386689383,0.35022273202255916,0.5111515238666224,0.6709018422639786,0.8125915542805052,0.9212471401282113,0.9853860684248854,0.9982302499334015,0.958422334121804,0.8701691515823805,0.7427971435669352,0.5897667600637694,0.42724998309569334],[0.4272499830956933,0.5897667600637694,0.7427971435669347,0.8701691515823802,0.9584223341218037,0.9982302499334016,0.9853860684248854,0.9212471401282116,0.8125915542805058,0.6709018422639796,0.5111515238666231,0.35022273202255966,0.20512213866893872,0.09118371953983663,0.020448286555619585,0.0003910359773804837,0.033131582801520024,0.11520996357152648,0.23795227923619283,0.3883873375595286,0.5506174259232081,0.7074983536605337,0.8424512200002259,0.9412144431674014,0.9933508992850147,0.9933508992850147,0.9412144431674019,0.8424512200002265,0.7074983536605342,0.5506174259232086,0.3883873375595293,0.23795227923619364,0.11520996357152676,0.03313158280152018,0.0003910359773805013,0.020448286555619345,0.09118371953983613,0.20512213866893833,0.3502227320225592,0.5111515238666224,0.6709018422639788,0.8125915542805054,0.9212471401282113,0.9853860684248854,0.9982302499334016,0.9584223341218042,0.8701691515823806,0.7427971435669353,0.5897667600637694,0.4272499830956933],[0.4272499830956933,0.5897667600637695,0.7427971435669348,0.8701691515823802,0.9584223341218037,0.9982302499334017,0.9853860684248854,0.9212471401282116,0.8125915542805059,0.6709018422639796,0.5111515238666232,0.3502227320225597,0.2051221386689387,0.09118371953983664,0.020448286555619585,0.00039103597738048376,0.033131582801520024,0.11520996357152648,0.23795227923619286,0.3883873375595286,0.5506174259232081,0.7074983536605338,0.8424512200002258,0.9412144431674015,0.9933508992850147,0.9933508992850147,0.9412144431674019,0.8424512200002264,0.7074983536605342,0.5506174259232086,0.38838733755952937,0.23795227923619364,0.11520996357152676,0.03313158280152018,0.0003910359773805013,0.02044828655561934,0.09118371953983613,0.20512213866893836,0.35022273202255916,0.5111515238666224,0.6709018422639788,0.8125915542805052,0.9212471401282114,0.9853860684248854,0.9982302499334017,0.9584223341218041,0.8701691515823806,0.7427971435669352,0.5897667600637695,0.4272499830956933],[0.42724998309569323,0.5897667600637694,0.7427971435669348,0.8701691515823802,0.9584223341218038,0.9982302499334017,0.9853860684248853,0.9212471401282115,0.8125915542805057,0.6709018422639796,0.5111515238666231,0.35022273202255966,0.20512213866893866,0.09118371953983662,0.020448286555619585,0.00039103597738048365,0.033131582801520024,0.11520996357152648,0.23795227923619286,0.38838733755952853,0.5506174259232081,0.7074983536605337,0.8424512200002257,0.9412144431674014,0.9933508992850147,0.9933508992850147,0.9412144431674019,0.8424512200002262,0.707498353660534,0.5506174259232084,0.38838733755952937,0.2379522792361936,0.11520996357152674,0.033131582801520176,0.0003910359773805013,0.02044828655561934,0.09118371953983612,0.20512213866893833,0.35022273202255916,0.5111515238666223,0.6709018422639788,0.8125915542805051,0.9212471401282113,0.9853860684248853,0.9982302499334017,0.9584223341218041,0.8701691515823806,0.7427971435669352,0.5897667600637694,0.42724998309569323],[0.42724998309569323,0.5897667600637694,0.7427971435669348,0.8701691515823802,0.9584223341218038,0.9982302499334017,0.9853860684248853,0.9212471401282115,0.8125915542805057,0.6709018422639796,0.5111515238666231,0.35022273202255966,0.20512213866893866,0.09118371953983662,0.020448286555619585,0.00039103597738048365,0.033131582801520024,0.11520996357152648,0.23795227923619286,0.38838733755952853,0.5506174259232081,0.7074983536605337,0.8424512200002257,0.9412144431674014,0.9933508992850147,0.9933508992850147,0.9412144431674019,0.8424512200002262,0.707498353660534,0.5506174259232084,0.38838733755952937,0.2379522792361936,0.11520996357152674,0.033131582801520176,0.0003910359773805013,0.02044828655561934,0.09118371953983612,0.20512213866893833,0.35022273202255916,0.5111515238666223,0.6709018422639788,0.8125915542805051,0.9212471401282113,0.9853860684248853,0.9982302499334017,0.9584223341218041,0.8701691515823806,0.7427971435669352,0.5897667600637694,0.42724998309569323],[0.42724998309569323,0.5897667600637694,0.7427971435669348,0.8701691515823802,0.9584223341218037,0.9982302499334017,0.9853860684248854,0.9212471401282115,0.812591554280506,0.6709018422639798,0.5111515238666232,0.35022273202255966,0.2051221386689387,0.09118371953983664,0.02044828655561958,0.00039103597738048376,0.03313158280152002,0.11520996357152646,0.23795227923619286,0.3883873375595286,0.5506174259232081,0.7074983536605339,0.8424512200002259,0.9412144431674014,0.9933508992850149,0.9933508992850149,0.9412144431674019,0.8424512200002264,0.707498353660534,0.5506174259232085,0.3883873375595294,0.23795227923619366,0.11520996357152674,0.03313158280152018,0.00039103597738050127,0.02044828655561934,0.09118371953983613,0.20512213866893833,0.35022273202255916,0.5111515238666223,0.6709018422639788,0.8125915542805053,0.9212471401282114,0.9853860684248854,0.9982302499334017,0.9584223341218041,0.8701691515823806,0.7427971435669353,0.5897667600637694,0.42724998309569323],[0.4272499830956933,0.5897667600637694,0.7427971435669348,0.8701691515823802,0.9584223341218037,0.9982302499334016,0.9853860684248854,0.9212471401282115,0.8125915542805059,0.6709018422639798,0.5111515238666233,0.3502227320225597,0.20512213866893866,0.09118371953983663,0.020448286555619588,0.0003910359773804837,0.03313158280152002,0.11520996357152646,0.23795227923619286,0.38838733755952853,0.550617425923208,0.7074983536605338,0.8424512200002259,0.9412144431674014,0.9933508992850146,0.9933508992850146,0.9412144431674019,0.8424512200002265,0.7074983536605339,0.5506174259232086,0.3883873375595293,0.2379522792361936,0.11520996357152674,0.03313158280152018,0.0003910359773805013,0.02044828655561934,0.09118371953983612,0.20512213866893833,0.3502227320225592,0.5111515238666224,0.6709018422639788,0.8125915542805052,0.9212471401282114,0.9853860684248854,0.9982302499334016,0.9584223341218041,0.8701691515823806,0.742797143566935,0.5897667600637694,0.4272499830956933],[0.4272499830956933,0.5897667600637695,0.7427971435669347,0.8701691515823802,0.9584223341218034,0.9982302499334015,0.9853860684248853,0.9212471401282116,0.8125915542805058,0.6709018422639796,0.5111515238666231,0.35022273202255966,0.2051221386689387,0.09118371953983664,0.02044828655561958,0.0003910359773804837,0.03313158280152002,0.11520996357152646,0.23795227923619283,0.38838733755952853,0.5506174259232081,0.7074983536605337,0.8424512200002258,0.9412144431674014,0.9933508992850146,0.9933508992850146,0.9412144431674017,0.8424512200002263,0.707498353660534,0.5506174259232085,0.38838733755952937,0.2379522792361936,0.11520996357152674,0.03313158280152018,0.0003910359773805013,0.02044828655561934,0.09118371953983612,0.20512213866893833,0.35022273202255916,0.5111515238666223,0.6709018422639788,0.8125915542805053,0.9212471401282113,0.9853860684248853,0.9982302499334015,0.9584223341218041,0.8701691515823805,0.7427971435669352,0.5897667600637695,0.4272499830956933],[0.4272499830956933,0.5897667600637694,0.7427971435669347,0.8701691515823802,0.9584223341218037,0.9982302499334017,0.9853860684248854,0.9212471401282115,0.8125915542805059,0.6709018422639796,0.5111515238666231,0.35022273202255966,0.2051221386689387,0.09118371953983663,0.02044828655561958,0.0003910359773804837,0.033131582801520024,0.11520996357152649,0.23795227923619283,0.3883873375595285,0.5506174259232081,0.7074983536605337,0.8424512200002259,0.9412144431674014,0.9933508992850146,0.9933508992850146,0.9412144431674018,0.8424512200002264,0.707498353660534,0.5506174259232085,0.38838733755952937,0.2379522792361936,0.11520996357152674,0.03313158280152019,0.00039103597738050127,0.02044828655561934,0.09118371953983612,0.2051221386689383,0.35022273202255916,0.5111515238666224,0.6709018422639788,0.8125915542805053,0.9212471401282114,0.9853860684248854,0.9982302499334017,0.958422334121804,0.8701691515823805,0.7427971435669352,0.5897667600637694,0.4272499830956933],[0.42724998309569323,0.5897667600637694,0.7427971435669348,0.8701691515823802,0.9584223341218037,0.9982302499334017,0.9853860684248854,0.9212471401282115,0.8125915542805059,0.6709018422639796,0.5111515238666231,0.3502227320225597,0.2051221386689387,0.09118371953983663,0.020448286555619585,0.0003910359773804837,0.033131582801520024,0.11520996357152646,0.23795227923619283,0.3883873375595285,0.550617425923208,0.7074983536605337,0.8424512200002257,0.9412144431674014,0.9933508992850149,0.9933508992850149,0.9412144431674019,0.8424512200002264,0.7074983536605342,0.5506174259232086,0.38838733755952937,0.2379522792361936,0.11520996357152674,0.03313158280152018,0.00039103597738050127,0.02044828655561934,0.09118371953983613,0.20512213866893833,0.35022273202255916,0.5111515238666222,0.6709018422639788,0.8125915542805053,0.9212471401282112,0.9853860684248854,0.9982302499334017,0.9584223341218041,0.8701691515823806,0.742797143566935,0.5897667600637694,0.42724998309569323],[0.4272499830956932,0.5897667600637694,0.7427971435669347,0.8701691515823802,0.9584223341218037,0.9982302499334015,0.9853860684248854,0.9212471401282116,0.8125915542805059,0.6709018422639796,0.5111515238666232,0.35022273202255966,0.2051221386689387,0.09118371953983662,0.020448286555619585,0.00039103597738048365,0.033131582801520024,0.11520996357152648,0.23795227923619286,0.38838733755952853,0.550617425923208,0.7074983536605336,0.8424512200002258,0.9412144431674014,0.9933508992850147,0.9933508992850147,0.9412144431674018,0.8424512200002263,0.707498353660534,0.5506174259232085,0.3883873375595293,0.2379522792361936,0.11520996357152674,0.03313158280152018,0.0003910359773805012,0.02044828655561934,0.09118371953983612,0.20512213866893833,0.35022273202255916,0.5111515238666223,0.6709018422639788,0.8125915542805052,0.9212471401282113,0.9853860684248854,0.9982302499334015,0.9584223341218041,0.8701691515823805,0.7427971435669352,0.5897667600637694,0.4272499830956932],[0.42724998309569323,0.5897667600637694,0.7427971435669348,0.8701691515823802,0.9584223341218036,0.9982302499334016,0.9853860684248853,0.9212471401282114,0.8125915542805058,0.6709018422639795,0.5111515238666231,0.3502227320225596,0.2051221386689387,0.09118371953983663,0.02044828655561958,0.0003910359773804837,0.03313158280152002,0.11520996357152646,0.23795227923619283,0.38838733755952853,0.550617425923208,0.7074983536605336,0.8424512200002258,0.9412144431674014,0.9933508992850147,0.9933508992850147,0.9412144431674019,0.8424512200002263,0.707498353660534,0.5506174259232085,0.3883873375595293,0.23795227923619358,0.11520996357152676,0.033131582801520176,0.00039103597738050127,0.02044828655561934,0.09118371953983613,0.20512213866893833,0.35022273202255916,0.5111515238666224,0.6709018422639785,0.8125915542805051,0.9212471401282112,0.9853860684248853,0.9982302499334016,0.958422334121804,0.8701691515823806,0.7427971435669352,0.5897667600637694,0.42724998309569323],[0.4272499830956933,0.5897667600637695,0.7427971435669347,0.8701691515823801,0.9584223341218037,0.9982302499334015,0.9853860684248856,0.9212471401282114,0.8125915542805059,0.6709018422639798,0.5111515238666232,0.35022273202255966,0.2051221386689387,0.09118371953983663,0.020448286555619585,0.0003910359773804837,0.03313158280152002,0.11520996357152646,0.2379522792361928,0.38838733755952853,0.550617425923208,0.7074983536605338,0.8424512200002258,0.9412144431674014,0.9933508992850147,0.9933508992850147,0.9412144431674018,0.8424512200002263,0.7074983536605342,0.5506174259232086,0.3883873375595294,0.23795227923619358,0.11520996357152673,0.03313158280152018,0.0003910359773805013,0.020448286555619342,0.09118371953983612,0.20512213866893833,0.35022273202255916,0.5111515238666223,0.6709018422639788,0.8125915542805053,0.9212471401282112,0.9853860684248856,0.9982302499334015,0.9584223341218041,0.8701691515823805,0.7427971435669352,0.5897667600637695,0.4272499830956933],[0.42724998309569323,0.5897667600637694,0.7427971435669349,0.8701691515823804,0.9584223341218038,0.9982302499334017,0.9853860684248856,0.9212471401282117,0.812591554280506,0.6709018422639796,0.5111515238666231,0.35022273202255966,0.20512213866893872,0.09118371953983666,0.020448286555619585,0.0003910359773804837,0.033131582801520024,0.11520996357152648,0.23795227923619286,0.3883873375595286,0.5506174259232081,0.7074983536605338,0.842451220000226,0.9412144431674017,0.9933508992850149,0.9933508992850149,0.9412144431674021,0.8424512200002265,0.7074983536605342,0.5506174259232086,0.3883873375595294,0.2379522792361936,0.11520996357152676,0.03313158280152018,0.0003910359773805013,0.02044828655561934,0.09118371953983616,0.2051221386689384,0.35022273202255916,0.5111515238666223,0.6709018422639788,0.8125915542805053,0.9212471401282115,0.9853860684248856,0.9982302499334017,0.9584223341218042,0.8701691515823807,0.7427971435669353,0.5897667600637694,0.42724998309569323],[0.42724998309569323,0.5897667600637694,0.7427971435669347,0.8701691515823803,0.9584223341218037,0.9982302499334016,0.9853860684248855,0.9212471401282116,0.8125915542805058,0.6709018422639796,0.5111515238666231,0.3502227320225597,0.2051221386689387,0.09118371953983664,0.02044828655561958,0.0003910359773804837,0.03313158280152002,0.11520996357152648,0.23795227923619286,0.3883873375595286,0.550617425923208,0.7074983536605338,0.8424512200002258,0.9412144431674014,0.9933508992850149,0.9933508992850149,0.9412144431674019,0.8424512200002264,0.7074983536605342,0.5506174259232085,0.3883873375595294,0.2379522792361936,0.11520996357152676,0.03313158280152018,0.0003910359773805013,0.020448286555619342,0.09118371953983613,0.20512213866893836,0.35022273202255916,0.5111515238666224,0.6709018422639788,0.8125915542805052,0.9212471401282114,0.9853860684248855,0.9982302499334016,0.9584223341218041,0.8701691515823806,0.7427971435669352,0.5897667600637694,0.42724998309569323],[0.42724998309569334,0.5897667600637695,0.7427971435669348,0.8701691515823803,0.9584223341218037,0.9982302499334018,0.9853860684248856,0.9212471401282115,0.8125915542805059,0.6709018422639799,0.5111515238666232,0.3502227320225597,0.20512213866893872,0.09118371953983664,0.020448286555619585,0.00039103597738048376,0.03313158280152002,0.11520996357152648,0.23795227923619286,0.38838733755952853,0.5506174259232081,0.7074983536605337,0.8424512200002258,0.9412144431674014,0.9933508992850147,0.9933508992850147,0.9412144431674019,0.8424512200002263,0.7074983536605342,0.5506174259232085,0.38838733755952937,0.2379522792361936,0.11520996357152676,0.03313158280152019,0.0003910359773805014,0.02044828655561934,0.09118371953983613,0.20512213866893836,0.35022273202255916,0.5111515238666224,0.6709018422639789,0.8125915542805053,0.9212471401282113,0.9853860684248856,0.9982302499334018,0.9584223341218041,0.8701691515823806,0.7427971435669352,0.5897667600637695,0.42724998309569334],[0.4272499830956933,0.5897667600637693,0.7427971435669346,0.8701691515823801,0.9584223341218036,0.9982302499334015,0.9853860684248854,0.9212471401282115,0.812591554280506,0.6709018422639795,0.5111515238666231,0.3502227320225596,0.2051221386689387,0.09118371953983662,0.020448286555619588,0.0003910359773804837,0.033131582801520024,0.11520996357152645,0.23795227923619283,0.3883873375595286,0.550617425923208,0.7074983536605337,0.8424512200002257,0.9412144431674014,0.9933508992850146,0.9933508992850146,0.9412144431674019,0.8424512200002263,0.707498353660534,0.5506174259232084,0.38838733755952937,0.2379522792361936,0.11520996357152674,0.033131582801520176,0.0003910359773805012,0.02044828655561934,0.09118371953983613,0.2051221386689383,0.35022273202255916,0.5111515238666224,0.6709018422639788,0.8125915542805052,0.9212471401282112,0.9853860684248854,0.9982302499334015,0.958422334121804,0.8701691515823806,0.742797143566935,0.5897667600637693,0.4272499830956933],[0.4272499830956933,0.5897667600637693,0.7427971435669347,0.8701691515823802,0.9584223341218034,0.9982302499334016,0.9853860684248854,0.9212471401282115,0.8125915542805059,0.6709018422639798,0.5111515238666232,0.35022273202255966,0.2051221386689387,0.09118371953983662,0.020448286555619588,0.0003910359773804837,0.033131582801520024,0.11520996357152646,0.23795227923619283,0.3883873375595286,0.550617425923208,0.7074983536605337,0.8424512200002257,0.9412144431674014,0.9933508992850147,0.9933508992850147,0.9412144431674018,0.8424512200002265,0.7074983536605342,0.5506174259232085,0.38838733755952926,0.2379522792361936,0.11520996357152674,0.03313158280152018,0.0003910359773805012,0.02044828655561934,0.09118371953983612,0.2051221386689383,0.35022273202255916,0.5111515238666224,0.6709018422639788,0.8125915542805053,0.9212471401282112,0.9853860684248854,0.9982302499334016,0.9584223341218041,0.8701691515823806,0.7427971435669352,0.5897667600637693,0.4272499830956933],[0.42724998309569334,0.5897667600637695,0.7427971435669349,0.8701691515823802,0.9584223341218038,0.9982302499334017,0.9853860684248854,0.9212471401282116,0.8125915542805059,0.6709018422639796,0.5111515238666231,0.35022273202255966,0.2051221386689387,0.09118371953983664,0.020448286555619588,0.0003910359773804837,0.033131582801520024,0.11520996357152649,0.23795227923619283,0.3883873375595286,0.550617425923208,0.7074983536605338,0.8424512200002258,0.9412144431674014,0.9933508992850147,0.9933508992850147,0.9412144431674019,0.8424512200002263,0.7074983536605342,0.5506174259232086,0.38838733755952937,0.2379522792361936,0.11520996357152674,0.03313158280152018,0.00039103597738050127,0.02044828655561934,0.09118371953983613,0.20512213866893836,0.35022273202255916,0.5111515238666224,0.6709018422639788,0.8125915542805052,0.9212471401282114,0.9853860684248854,0.9982302499334017,0.9584223341218041,0.8701691515823807,0.7427971435669352,0.5897667600637695,0.42724998309569334],[0.4272499830956932,0.5897667600637694,0.7427971435669347,0.8701691515823802,0.9584223341218037,0.9982302499334015,0.9853860684248854,0.9212471401282115,0.8125915542805058,0.6709018422639796,0.5111515238666232,0.3502227320225597,0.2051221386689387,0.09118371953983662,0.020448286555619585,0.0003910359773804837,0.033131582801520024,0.11520996357152646,0.23795227923619283,0.3883873375595285,0.5506174259232081,0.7074983536605336,0.8424512200002258,0.9412144431674013,0.9933508992850146,0.9933508992850146,0.9412144431674018,0.8424512200002263,0.707498353660534,0.5506174259232085,0.38838733755952937,0.2379522792361936,0.11520996357152674,0.03313158280152019,0.00039103597738050127,0.020448286555619335,0.09118371953983612,0.20512213866893836,0.35022273202255916,0.5111515238666224,0.6709018422639788,0.8125915542805053,0.9212471401282112,0.9853860684248854,0.9982302499334015,0.9584223341218041,0.8701691515823806,0.7427971435669352,0.5897667600637694,0.4272499830956932],[0.42724998309569334,0.5897667600637694,0.7427971435669347,0.8701691515823803,0.9584223341218037,0.9982302499334017,0.9853860684248855,0.9212471401282116,0.8125915542805059,0.6709018422639798,0.5111515238666233,0.3502227320225596,0.2051221386689387,0.09118371953983663,0.020448286555619588,0.00039103597738048376,0.03313158280152002,0.11520996357152648,0.2379522792361929,0.3883873375595286,0.550617425923208,0.7074983536605337,0.842451220000226,0.9412144431674014,0.9933508992850146,0.9933508992850146,0.941214443167402,0.8424512200002264,0.7074983536605343,0.5506174259232085,0.38838733755952937,0.2379522792361936,0.11520996357152674,0.03313158280152019,0.00039103597738050127,0.020448286555619342,0.09118371953983614,0.20512213866893836,0.3502227320225592,0.5111515238666224,0.6709018422639788,0.8125915542805052,0.9212471401282114,0.9853860684248855,0.9982302499334017,0.9584223341218041,0.8701691515823806,0.7427971435669352,0.5897667600637694,0.42724998309569334],[0.42724998309569334,0.5897667600637695,0.7427971435669347,0.8701691515823803,0.9584223341218037,0.9982302499334017,0.9853860684248855,0.9212471401282116,0.812591554280506,0.6709018422639796,0.5111515238666232,0.35022273202255966,0.20512213866893872,0.09118371953983664,0.020448286555619588,0.00039103597738048376,0.033131582801520024,0.11520996357152649,0.23795227923619286,0.3883873375595286,0.5506174259232082,0.7074983536605338,0.8424512200002258,0.9412144431674015,0.9933508992850147,0.9933508992850147,0.941214443167402,0.8424512200002265,0.7074983536605342,0.5506174259232086,0.3883873375595293,0.23795227923619364,0.11520996357152674,0.03313158280152019,0.00039103597738050127,0.02044828655561934,0.09118371953983612,0.20512213866893833,0.35022273202255916,0.5111515238666224,0.6709018422639788,0.8125915542805053,0.9212471401282114,0.9853860684248855,0.9982302499334017,0.9584223341218041,0.8701691515823807,0.7427971435669352,0.5897667600637695,0.42724998309569334],[0.42724998309569323,0.5897667600637695,0.7427971435669347,0.8701691515823802,0.9584223341218036,0.9982302499334016,0.9853860684248853,0.9212471401282115,0.8125915542805058,0.6709018422639796,0.5111515238666231,0.35022273202255966,0.2051221386689387,0.09118371953983663,0.020448286555619585,0.00039103597738048376,0.03313158280152002,0.11520996357152649,0.23795227923619283,0.38838733755952853,0.5506174259232081,0.7074983536605337,0.8424512200002257,0.9412144431674013,0.9933508992850146,0.9933508992850146,0.9412144431674018,0.8424512200002263,0.707498353660534,0.5506174259232085,0.3883873375595293,0.2379522792361936,0.11520996357152676,0.03313158280152019,0.0003910359773805013,0.02044828655561934,0.09118371953983612,0.20512213866893833,0.35022273202255916,0.5111515238666223,0.6709018422639788,0.8125915542805052,0.9212471401282113,0.9853860684248853,0.9982302499334016,0.958422334121804,0.8701691515823805,0.7427971435669352,0.5897667600637695,0.42724998309569323],[0.42724998309569334,0.5897667600637695,0.7427971435669348,0.8701691515823803,0.9584223341218038,0.9982302499334016,0.9853860684248854,0.9212471401282115,0.8125915542805058,0.6709018422639796,0.5111515238666232,0.3502227320225597,0.2051221386689387,0.09118371953983663,0.02044828655561958,0.00039103597738048365,0.03313158280152002,0.11520996357152646,0.23795227923619283,0.38838733755952853,0.5506174259232081,0.7074983536605337,0.8424512200002257,0.9412144431674014,0.9933508992850147,0.9933508992850147,0.9412144431674019,0.8424512200002263,0.707498353660534,0.5506174259232085,0.38838733755952937,0.2379522792361936,0.11520996357152673,0.033131582801520176,0.0003910359773805012,0.020448286555619335,0.09118371953983613,0.20512213866893836,0.35022273202255916,0.5111515238666224,0.6709018422639788,0.8125915542805052,0.9212471401282113,0.9853860684248854,0.9982302499334016,0.9584223341218042,0.8701691515823806,0.7427971435669352,0.5897667600637695,0.42724998309569334],[0.42724998309569323,0.5897667600637694,0.7427971435669348,0.8701691515823803,0.9584223341218037,0.9982302499334017,0.9853860684248854,0.9212471401282114,0.8125915542805059,0.6709018422639796,0.5111515238666232,0.3502227320225597,0.2051221386689387,0.09118371953983664,0.020448286555619585,0.0003910359773804837,0.033131582801520024,0.11520996357152648,0.23795227923619286,0.38838733755952853,0.550617425923208,0.7074983536605337,0.8424512200002259,0.9412144431674014,0.9933508992850147,0.9933508992850147,0.9412144431674019,0.8424512200002264,0.7074983536605342,0.5506174259232085,0.3883873375595294,0.2379522792361936,0.11520996357152673,0.03313158280152018,0.0003910359773805013,0.020448286555619342,0.09118371953983612,0.2051221386689383,0.3502227320225592,0.5111515238666224,0.6709018422639789,0.8125915542805052,0.9212471401282113,0.9853860684248854,0.9982302499334017,0.9584223341218041,0.8701691515823805,0.742797143566935,0.5897667600637694,0.42724998309569323],[0.42724998309569323,0.5897667600637695,0.7427971435669348,0.8701691515823803,0.9584223341218038,0.9982302499334017,0.9853860684248854,0.9212471401282115,0.812591554280506,0.6709018422639796,0.5111515238666231,0.35022273202255966,0.20512213866893872,0.09118371953983663,0.020448286555619585,0.0003910359773804837,0.033131582801520024,0.11520996357152649,0.2379522792361929,0.3883873375595286,0.5506174259232081,0.7074983536605337,0.8424512200002258,0.9412144431674014,0.9933508992850147,0.9933508992850147,0.9412144431674019,0.8424512200002264,0.707498353660534,0.5506174259232084,0.3883873375595295,0.2379522792361936,0.11520996357152673,0.03313158280152019,0.0003910359773805013,0.020448286555619335,0.09118371953983614,0.20512213866893833,0.35022273202255916,0.5111515238666224,0.6709018422639789,0.8125915542805053,0.9212471401282114,0.9853860684248854,0.9982302499334017,0.958422334121804,0.8701691515823806,0.7427971435669352,0.5897667600637695,0.42724998309569323],[0.4272499830956933,0.5897667600637695,0.7427971435669347,0.8701691515823802,0.9584223341218038,0.9982302499334018,0.9853860684248855,0.9212471401282115,0.8125915542805058,0.6709018422639798,0.5111515238666232,0.3502227320225597,0.2051221386689387,0.09118371953983666,0.020448286555619585,0.00039103597738048376,0.033131582801520024,0.11520996357152649,0.23795227923619286,0.3883873375595286,0.550617425923208,0.7074983536605337,0.8424512200002259,0.9412144431674015,0.9933508992850149,0.9933508992850149,0.941214443167402,0.8424512200002264,0.7074983536605342,0.5506174259232086,0.38838733755952937,0.23795227923619364,0.11520996357152677,0.03313158280152019,0.0003910359773805014,0.02044828655561934,0.09118371953983614,0.20512213866893836,0.35022273202255927,0.5111515238666224,0.6709018422639789,0.8125915542805053,0.9212471401282114,0.9853860684248855,0.9982302499334018,0.9584223341218041,0.8701691515823806,0.7427971435669352,0.5897667600637695,0.4272499830956933],[0.42724998309569323,0.5897667600637694,0.7427971435669347,0.8701691515823802,0.9584223341218037,0.9982302499334016,0.9853860684248854,0.9212471401282114,0.8125915542805058,0.6709018422639796,0.5111515238666232,0.3502227320225597,0.2051221386689387,0.09118371953983662,0.020448286555619585,0.0003910359773804837,0.033131582801520024,0.11520996357152646,0.23795227923619283,0.3883873375595285,0.550617425923208,0.7074983536605337,0.8424512200002257,0.9412144431674014,0.9933508992850146,0.9933508992850146,0.9412144431674018,0.8424512200002263,0.707498353660534,0.5506174259232084,0.38838733755952937,0.2379522792361936,0.11520996357152671,0.033131582801520176,0.00039103597738050127,0.02044828655561934,0.09118371953983612,0.20512213866893833,0.3502227320225591,0.5111515238666224,0.6709018422639788,0.8125915542805051,0.9212471401282112,0.9853860684248854,0.9982302499334016,0.958422334121804,0.8701691515823806,0.7427971435669352,0.5897667600637694,0.42724998309569323],[0.4272499830956933,0.5897667600637693,0.7427971435669347,0.8701691515823801,0.9584223341218036,0.9982302499334017,0.9853860684248854,0.9212471401282114,0.8125915542805058,0.6709018422639796,0.5111515238666231,0.35022273202255966,0.2051221386689387,0.09118371953983663,0.02044828655561958,0.0003910359773804837,0.03313158280152002,0.11520996357152648,0.23795227923619283,0.3883873375595285,0.550617425923208,0.7074983536605337,0.8424512200002258,0.9412144431674014,0.9933508992850146,0.9933508992850146,0.9412144431674017,0.8424512200002263,0.7074983536605342,0.5506174259232084,0.3883873375595293,0.23795227923619358,0.11520996357152674,0.033131582801520176,0.00039103597738050127,0.02044828655561934,0.09118371953983612,0.20512213866893836,0.35022273202255916,0.5111515238666224,0.6709018422639788,0.8125915542805051,0.9212471401282114,0.9853860684248854,0.9982302499334017,0.9584223341218039,0.8701691515823805,0.7427971435669349,0.5897667600637693,0.4272499830956933]],\"type\":\"surface\",\"showlegend\":false},{\"line\":{\"color\":\"yellow\",\"width\":10},\"mode\":\"lines\",\"x\":[0.9163264999999999,1.0111947940669703,1.0826000253016157,1.1434161852555067,1.197917403556452,1.248132803263779,1.2952096533874602,1.339868864863767,1.3825967965755876,1.423738774865259,1.4635496097744642,1.5022230386141242,1.5399099280266406,1.5767300680963288,1.6127801137625768,1.6481391059712232,1.6828724154660306,1.7170346258807612,1.7506716840556071,1.7838225320790875,1.8165203651078468,1.84879361397685,1.8806667220721496,1.9121607661181346,1.94329395695867,1.9740820469448492,2.004538663828083,2.03467558622258,2.064502972171074,2.0940295497367827,2.1232627765906815,2.1522089740848966,2.180873440173161,2.2092605446675804,2.237373809642481,2.265215977263733,2.2927890669010345,2.3200944230455383,2.3471327552867765,2.3739041713865783,2.400408204312709,2.4266438339528724,2.452609504114163,2.478303135319131,2.5037221338335423,2.528863397299917,2.553723317302767,2.5782977791547,2.6025821591660243,2.626571319643619,2.6502596018572646,2.6736408172134207,2.696708236887934,2.7194545801909866,2.741872001970693,2.763952079407291,2.7856857986094,2.8070635414989584,2.8280750735642792,2.8487095331731553,2.8689554232723853,2.8888006064584886,2.908232304588526,2.9272371043109904,2.945800970134703,2.9639092669169402,2.981546793936487,2.998697833015337,3.0153462134519997,3.0314753968111985,3.047068584852792,3.0621088540410573,3.0765793201072924,3.0904633359853895,3.1037447260316817,3.116408058697726,3.1284389586643684,3.1398244577885053,3.1505533819991887,3.16061676848155,3.1700083041375855,3.1787247725259347,3.1867664924755275,3.1941377276742773,3.2008470432019416,3.206907582742188,3.2123372396428462,3.217158696616458,3.2213993130556706,3.2250908457944325,3.2282689984530317,3.2309728056660254,3.233243870566058,3.2351254856968,3.2366616777751647,3.2378962242230003,3.2388716932027504,3.2396285584642115,3.240204435537026,3.240633477044518,3.240945952948009,3.241168027478122,3.2413217297273387,3.2414251008276898,3.2414924887327174,3.2415349530619992,3.241560738066758,3.241575771837464,3.2415841541140358,3.2415886026292653,3.2415908375360045,3.2415918936444608,3.2415923594885045,3.241592549523448,3.241592620403681,3.2415926442295886,3.241592651313231,3.241592653129286,3.2415926535165114,3.2415926535814648,3.241592653589246,3.241592653589785,3.2415926535897936,3.2415926535897936,3.2415926535897936,3.2415926535897936,3.2415926535897936,3.2415926535897936,3.2415926535897936,3.2415926535897936,3.2415926535897936,3.2415926535897936,3.2415926535897936,3.2415926535897936,3.2415926535897936,3.241592653589794,3.2415926535897923,3.241592653589795,3.241592653589791,3.241592653589796,3.2415926535897888,3.2415926535898016,3.241592653589775,3.241592653589831,3.2415926535897075,3.2415926535900055,3.241592653589226,3.2415926535914217,3.241592653584772,3.241592653606382,3.2415926535311357,3.241592653811572,3.241592652693976,3.2415926574521152,3.2415926358291682,3.2415927406312264,3.2415921992801424,3.2415951774002445,3.241577740084056,3.2416863401106784,3.240967327159991,3.246018189789884,3.211004752713652,3.2999197673822147,3.216133061066809,3.251861722225507,3.2368609369705705,3.2441254599172855,3.240030376608691,3.2426918617634923,3.2407184046168,3.242372620436283,3.240817193131975,3.242447028032234,3.2405545982291457,3.2429774331663532,3.239572748133166,3.2447995890139594,3.2360893256025207,3.2516320650666355,3.2231265908773437,3.270879465905716,3.2098007063399283,3.2660683240076382,3.2249221659099,3.2531283545984486,3.2330214182759702,3.248556820240435,3.2353804616706006,3.2476654436726498,3.2351178539827927,3.2490663202614645,3.2323605525051136,3.2535626252407925,3.2258503612580456,3.2614577520299117,3.219083357322203,3.2637369195806314,3.2221239917065634,3.2578494149736703,3.228000888278269,3.253349880908767],\"y\":[1.8163265,1.8163265,1.8163265,1.8163265,1.8163265,1.8163265,1.8163265,1.8163265,1.8163265,1.8163265,1.8163265000000166,1.8163265000000166,1.8163265000000166,1.8163265000000166,1.8163265000000166,1.8163265000000166,1.8163265000000166,1.8163265000000166,1.8163265000000166,1.8163265000000166,1.8163265000000166,1.8163265000000166,1.8163265000000166,1.8163265000000166,1.8163265000000166,1.8163265000000166,1.8163265000000166,1.8163265000000166,1.8163265000000166,1.8163265000000166,1.8163265000000166,1.8163265000000166,1.8163265000000166,1.8163265000000166,1.8163265000000166,1.8163265000000166,1.8163265000000208,1.8163265000000208,1.8163265000000208,1.8163265000000208,1.8163265000000208,1.8163265000000208,1.8163265000000208,1.8163265000000208,1.8163265000000208,1.8163265000000208,1.8163265000000208,1.8163265000000208,1.8163265000000208,1.8163265000000208,1.8163265000000208,1.8163265000000208,1.8163265000000208,1.8163265000000208,1.8163265000000208,1.8163265000000208,1.8163265000000208,1.8163265000000208,1.8163265000000208,1.8163265000000208,1.816326500000022,1.816326500000022,1.816326500000022,1.8163265000000224,1.8163265000000224,1.8163265000000224,1.8163265000000228,1.8163265000000228,1.8163265000000228,1.8163265000000228,1.8163265000000228,1.8163265000000228,1.8163265000000228,1.8163265000000228,1.816326500000023,1.816326500000023,1.816326500000023,1.816326500000023,1.816326500000023,1.816326500000023,1.816326500000023,1.816326500000023,1.816326500000023,1.816326500000023,1.816326500000023,1.816326500000023,1.816326500000023,1.816326500000023,1.816326500000023,1.816326500000023,1.816326500000023,1.816326500000023,1.816326500000023,1.816326500000023,1.816326500000023,1.816326500000023,1.816326500000023,1.816326500000023,1.816326500000023,1.816326500000023,1.816326500000023,1.816326500000023,1.816326500000023,1.816326500000023,1.816326500000023,1.816326500000023,1.816326500000023,1.816326500000023,1.816326500000023,1.816326500000023,1.816326500000023,1.816326500000023,1.816326500000023,1.816326500000023,1.816326500000023,1.816326500000023,1.816326500000023,1.816326500000023,1.816326500000023,1.816326500000023,1.816326500000023,1.816326500000023,1.816326500000023,1.816326500000023,1.816326500000023,1.816326500000023,1.816326500000023,1.816326500000023,1.816326500000023,1.816326500000023,1.816326500000023,1.816326500000023,1.816326500000023,1.816326500000023,1.816326500000023,1.816326500000023,1.816326500000023,1.816326500000023,1.816326500000023,1.816326500000023,1.816326500000023,1.816326500000023,1.816326500000023,1.816326500000023,1.816326500000023,1.816326500000023,1.816326500000023,1.816326500000023,1.816326500000023,1.816326500000023,1.816326500000023,1.816326500000023,1.816326500000023,1.816326500000023,1.816326500000023,1.816326500000023,1.816326500000023,1.816326500000023,1.816326500000023,1.816326500000023,1.816326500000023,1.816326500000023,1.816326500000023,1.816326500000023,1.816326500000023,1.816326500000023,1.816326500000023,1.816326500000023,1.816326500000023,1.816326500000023,1.816326500000023,1.816326500000023,1.816326500000023,1.816326500000023,1.816326500000023,1.816326500000023,1.816326500000023,1.816326500000023,1.816326500000023,1.816326500000023,1.816326500000023,1.816326500000023,1.816326500000023,1.816326500000023,1.816326500000023,1.816326500000023,1.816326500000023,1.816326500000023,1.816326500000023,1.816326500000023,1.816326500000023,1.816326500000023,1.816326500000023,1.816326500000023,1.816326500000023,1.816326500000023,1.816326500000023,1.816326500000023,1.816326500000023,1.816326500000023,1.816326500000023,1.816326500000023],\"z\":[0.842451231146697,0.8064010086236522,0.7774306761275511,0.7516355882398784,0.7277255808439804,0.7050955188315129,0.6834091850469122,0.6624601535731927,0.6421132367104292,0.6222759589290945,0.602883158629993,0.5838880159572,0.5652565054042498,0.5469637982314453,0.5289918362832395,0.5113276411866536,0.49396210242412053,0.4768890876293881,0.46010477536765393,0.44360714561480563,0.4273955840180861,0.41147057032503653,0.3958334296621615,0.3804861317621544,0.36543112725485116,0.3506712129164953,0.33620941985282116,0.3220489199447911,0.308192947297357,0.2946447316353442,0.28140744179836474,0.2684841373265954,0.25587772714789025,0.2435909339110367,0.2316262633394217,0.21998597773199435,0.20867207297123969,0.19768625874712598,0.18702994131308515,0.17670420854119584,0.16670981707284227,0.15704718108463567,0.14771636262594257,0.13871706328063738,0.13004861696390435,0.12170998383953702,0.1136997449939372,0.10601609802688472,0.09865685334079899,0.09161943104118109,0.08490085850644391,0.07849776837974787,0.07240639723022468,0.06662258463620674,0.06114177280687727,0.05595900671323761,0.051068934859358706,0.04646581059205346,0.042143494210904464,0.038095455849543214,0.034314779317355715,0.03079416710534133,0.02752594670164399,0.024502078551449813,0.021714165719458833,0.019153465967974626,0.01681090625061188,0.014677100261906162,0.012742369406623766,0.01099676766898483,0.009430111007532105,0.008032011581235565,0.006791917403461412,0.005699157831259072,0.004742995093693025,0.003912681990186684,0.0031975257879821584,0.002586957547464408,0.002070606526103802,0.0016383779438911006,0.0012805328151443973,0.0009877672127913684,0.0007512887677876279,0.0005628868530038744,0.0004149937740294263,0.0003007333871209994,0.00021395455405581743,0.00014924713468644768,0.00010193928028456867,6.807586760260165e-05,4.437929601408541e-05,2.8195034246891737e-05,1.742543827276677e-05,1.0456031304784119e-05,6.078611477278173e-06,3.415887476876378e-06,1.850901753641665e-06,9.644136298447847e-07,4.817848093807697e-07,2.3000757209956646e-07,1.0455551091581583e-07,4.508183337748051e-08,1.83499651029706e-08,7.0140231400728226e-09,2.5029294192790985e-09,8.294591680169106e-10,2.473825588822365e-10,7.275957614183426e-11,1.4551915228366852e-11,0.0,0.0,0.0,0.0,0.0,0.0,0.0,0.0,0.0,0.0,0.0,0.0,0.0,0.0,0.0,0.0,0.0,0.0,0.0,0.0,0.0,0.0,0.0,0.0,0.0,0.0,0.0,0.0,0.0,0.0,0.0,0.0,0.0,0.0,0.0,0.0,0.0,0.0,0.0,0.0,0.0,0.0,0.0,0.0,0.0,0.0,0.0,0.0,0.0,5.820766091346741e-11,2.1973391994833946e-09,9.775976650416851e-08,4.896341124549508e-06,0.0002338866761419922,0.0008502719574607909,0.0001620389666641131,2.636321005411446e-05,5.597277777269483e-06,1.603781129233539e-06,6.101763574406505e-07,3.020686563104391e-07,1.9108119886368513e-07,1.5208206605166197e-07,1.5033583622425795e-07,1.824955688789487e-07,2.6938505470752716e-07,4.793982952833176e-07,1.0200019460171461e-06,2.571105142123997e-06,7.571637979708612e-06,2.5197237846441567e-05,8.52464436320588e-05,0.00021441401622723788,0.00025266069860663265,0.00014975713565945625,6.947468500584364e-05,3.326773003209382e-05,1.8366408767178655e-05,1.2124859495088458e-05,9.647803381085396e-06,9.219671483151615e-06,1.0480725904926658e-05,1.3963857782073319e-05,2.1307772840373218e-05,3.5819626646116376e-05,6.195365858729929e-05,9.865229367278516e-05,0.00012666176189668477,0.00012258712376933545,9.475419938098639e-05,6.606911483686417e-05,4.618331149686128e-05],\"type\":\"scatter3d\",\"showlegend\":false},{\"marker\":{\"color\":\"yellow\",\"size\":7},\"name\":\"Parameter Shift Rule\",\"x\":[0.9163264999999999],\"y\":[1.8163265],\"z\":[0.842451231146697],\"type\":\"scatter3d\"},{\"line\":{\"color\":\"blue\",\"width\":10},\"mode\":\"lines\",\"x\":[0.9163264999999999,1.0111947940657788,1.0826000252999624,1.1434161852535918,1.1979174035543638,1.248132803261566,1.2952096533851514,1.339868864861384,1.3825967965731443,1.423738774862766,1.4635496097719296,1.5022230386115547,1.539909928024042,1.5767300680937046,1.6127801137599307,1.6481391059685586,1.6828724154633494,1.7170346258780655,1.7506716840528993,1.7838225320763685,1.8165203651051183,1.8487936139741135,1.8806667220694058,1.9121607661153852,1.9432939569559158,1.9740820469420908,2.004538663825321,2.034675586219815,2.064502972168307,2.094029549734014,2.1232627765879117,2.152208974082126,2.18087344017039,2.2092605446648097,2.237373809639711,2.2652159772609646,2.2927890668982673,2.320094423042773,2.3471327552840133,2.3739041713838183,2.400408204309952,2.426643833950119,2.4526095041114138,2.4783031353163856,2.5037221338308013,2.528863397297181,2.5537233173000367,2.5782977791519754,2.602582159163306,2.6265713196409077,2.650259601854561,2.673640817210725,2.6967082368852466,2.7194545801883088,2.7418720019680247,2.7639520794046337,2.785685798606754,2.8070635414963245,2.8280750735616587,2.848709533170549,2.868955423269794,2.8888006064559133,2.908232304585968,2.927237104308451,2.9458009701321837,2.963909266914443,2.9815467939340135,2.998697833012889,3.0153462134495785,3.031475396808807,3.0470685848504324,3.062108854038732,3.0765793201050045,3.090463335983142,3.1037447260294777,3.1164080586955687,3.128438958662261,3.139824457786452,3.150553381997193,3.160616768479616,3.170008304135718,3.178724772524138,3.1867664924738053,3.194137727672634,3.2008470432003815,3.206907582740715,3.212337239641464,3.2171586966151686,3.2213993130544774,3.225090845793337,3.2282689984520347,3.2309728056651266,3.2332438705652566,3.2351254856960936,3.2366616777745496,3.2378962242224714,3.238871693202303,3.239628558463839,3.240204435536721,3.2406334770442737,3.2409459529478175,3.2411680274779755,3.241321729727229,3.24142510082761,3.241492488732661,3.241534953061961,3.2415607380667333,3.2415757718374483,3.2415841541140265,3.24158860262926,3.241590837536002,3.2415918936444594,3.241592359488504,3.2415925495234474,3.241592620403681,3.241592644229589,3.241592651313231,3.241592653129286,3.241592653516512,3.241592653581465,3.2415926535892465,3.241592653589785,3.2415926535897936,3.2415926535897936,3.2415926535897936,3.2415926535897936,3.2415926535897936,3.2415926535897936,3.2415926535897936,3.2415926535897936,3.2415926535897936,3.2415926535897936,3.2415926535897936,3.2415926535897936,3.2415926535897936,3.2415926535897936,3.2415926535897936,3.241592653589793,3.241592653589794,3.2415926535897928,3.241592653589795,3.241592653589791,3.2415926535897985,3.241592653589783,3.241592653589818,3.2415926535897324,3.241592653589957,3.241592653589324,3.2415926535912414,3.241592653585011,3.2415926536067046,3.241592653525854,3.2415926538480613,3.2415926524762697,3.2415926587102573,3.241592628495379,3.241592784569188,3.24159192596459,3.2415969532163347,3.2415656433530002,3.2417729435330696,3.240314777194218,3.2511363130143303,3.1877578273995444,3.279752673134999,3.224082368709681,3.2499905526169024,3.2370155472761755,3.2444469552829447,3.2395685053812677,3.243212515446696,3.2401402215609267,3.243042587584187,3.2399900984184753,3.2435438570127335,3.238988215436675,3.2453832772435947,3.2356243288251822,3.251589599557853,3.224569505465519,3.267751436356159,3.2114565444970355,3.266917344584707,3.223291240452742,3.2546564568545953,3.231754022860745,3.2496104589119073,3.2344682442337906,3.2484950533204406,3.234330931130719,3.2498273177549124,3.231647679024372,3.2541310734623043,3.2256318956902015,3.2610983778218827,3.2199360760518942,3.2628879931628774,3.2225853731519667,3.2577954439566783,3.227781829996665,3.2537209684722708,3.2304437273145568],\"y\":[1.3163265,1.3163265000033306,1.3163265000016653,1.3163265000016653,1.3163265000016653,1.316326500004996,1.316326500004996,1.3163265000033306,1.316326500004996,1.3163265000083266,1.3163265000083266,1.3163265000083266,1.3163265000083266,1.3163265000083266,1.3163265000083266,1.3163265000083266,1.316326500009992,1.3163265000083266,1.3163265000091593,1.316326500007494,1.316326500007494,1.3163265000083266,1.3163265000083266,1.3163265000083266,1.3163265000083266,1.316326500007494,1.316326500007494,1.316326500007494,1.3163265000083266,1.3163265000083266,1.3163265000083266,1.3163265000083266,1.316326500007494,1.316326500007494,1.316326500007494,1.316326500007494,1.316326500007494,1.316326500007494,1.316326500007494,1.3163265000079103,1.316326500007494,1.3163265000070776,1.3163265000066613,1.3163265000066613,1.3163265000066613,1.3163265000066613,1.3163265000066613,1.3163265000068693,1.316326500007702,1.316326500007702,1.3163265000074937,1.316326500007702,1.316326500007702,1.316326500007702,1.3163265000079103,1.3163265000079103,1.3163265000081186,1.3163265000082227,1.3163265000084308,1.3163265000083266,1.3163265000083266,1.3163265000083266,1.3163265000082747,1.3163265000083266,1.3163265000083266,1.3163265000083786,1.3163265000083786,1.3163265000083266,1.3163265000083266,1.3163265000083266,1.3163265000083266,1.3163265000083006,1.3163265000082747,1.3163265000082747,1.3163265000082878,1.3163265000082878,1.3163265000082747,1.3163265000082747,1.3163265000082747,1.3163265000082682,1.3163265000082716,1.3163265000082716,1.316326500008275,1.3163265000082764,1.3163265000082764,1.3163265000082773,1.3163265000082773,1.3163265000082773,1.316326500008277,1.3163265000082771,1.3163265000082771,1.3163265000082771,1.3163265000082773,1.3163265000082773,1.3163265000082773,1.3163265000082773,1.3163265000082773,1.3163265000082773,1.3163265000082773,1.3163265000082773,1.3163265000082773,1.3163265000082773,1.3163265000082773,1.3163265000082773,1.3163265000082773,1.3163265000082773,1.3163265000082773,1.3163265000082773,1.3163265000082773,1.3163265000082773,1.3163265000082773,1.3163265000082773,1.3163265000082773,1.3163265000082773,1.3163265000082773,1.3163265000082773,1.3163265000082773,1.3163265000082773,1.3163265000082773,1.3163265000082773,1.3163265000082773,1.3163265000082773,1.3163265000082773,1.3163265000082773,1.3163265000082773,1.3163265000082773,1.3163265000082773,1.3163265000082773,1.3163265000082773,1.3163265000082773,1.3163265000082773,1.3163265000082773,1.3163265000082773,1.3163265000082773,1.3163265000082773,1.3163265000082773,1.3163265000082773,1.3163265000082773,1.3163265000082773,1.3163265000082773,1.3163265000082773,1.3163265000082773,1.3163265000082773,1.3163265000082773,1.3163265000082773,1.3163265000082773,1.3163265000082773,1.3163265000082773,1.3163265000082773,1.3163265000082773,1.3163265000082773,1.3163265000082773,1.3163265000082773,1.3163265000082773,1.3163265000082773,1.3163265000082773,1.3163265000082773,1.3163265000082773,1.3163265000082773,1.3163265000082773,1.3163265000082773,1.3163265000082773,1.3163265000082773,1.3163265000082773,1.3163265000082758,1.3163265000082758,1.3163265000082758,1.3163265000082758,1.3163265000082758,1.3163265000082758,1.3163265000082758,1.3163265000082758,1.3163265000082758,1.3163265000082758,1.3163265000082758,1.3163265000082758,1.3163265000082758,1.3163265000082758,1.3163265000082758,1.3163265000082758,1.3163265000082756,1.3163265000082747,1.3163265000082738,1.3163265000082738,1.3163265000082736,1.3163265000082736,1.3163265000082736,1.3163265000082736,1.3163265000082736,1.3163265000082736,1.3163265000082736,1.3163265000082736,1.3163265000082736,1.3163265000082733,1.3163265000082733,1.3163265000082733,1.3163265000082736,1.3163265000082736,1.3163265000082736,1.3163265000082738,1.3163265000082738,1.3163265000082738],\"z\":[0.842451231146697,0.8064010086236522,0.7774306761275511,0.7516355882398784,0.7277255808439804,0.7050955188315129,0.6834091850469122,0.6624601535877446,0.6421132367104292,0.6222759589436464,0.602883158629993,0.5838880159572,0.5652565054042498,0.5469637982314453,0.5289918362832395,0.5113276411866536,0.49396210242412053,0.4768890876293881,0.46010477536765393,0.44360714561480563,0.4273955840180861,0.41147057033958845,0.3958334296621615,0.3804861317621544,0.36543112725485116,0.3506712129164953,0.33620941985282116,0.3220489199447911,0.308192947297357,0.2946447316353442,0.28140744179836474,0.2684841373265954,0.25587772714789025,0.2435909339110367,0.2316262633394217,0.21998597773199435,0.20867207297123969,0.19768625874712598,0.18702994131308515,0.17670420854119584,0.16670981707284227,0.15704718108463567,0.14771636262594257,0.13871706328063738,0.13004861696390435,0.12170998383953702,0.1136997449939372,0.10601609802688472,0.09865685334079899,0.09161943104118109,0.08490085850644391,0.07849776837974787,0.07240639723022468,0.06662258463620674,0.06114177280687727,0.05595900671323761,0.051068934859358706,0.04646581059205346,0.042143494210904464,0.038095455849543214,0.034314779317355715,0.03079416710534133,0.02752594670164399,0.024502078551449813,0.021714165719458833,0.019153465967974626,0.01681090625061188,0.014677100261906162,0.012742369406623766,0.01099676766898483,0.009430111007532105,0.008032011581235565,0.006791917403461412,0.005699157831259072,0.004742995093693025,0.003912681990186684,0.0031975257879821584,0.002586957547464408,0.002070606526103802,0.0016383779438911006,0.0012805328151443973,0.0009877672127913684,0.0007512887677876279,0.0005628868530038744,0.0004149937740294263,0.0003007333871209994,0.00021395455405581743,0.00014924713468644768,0.00010193928028456867,6.807586760260165e-05,4.437929601408541e-05,2.8195034246891737e-05,1.742543827276677e-05,1.0456031304784119e-05,6.078611477278173e-06,3.415887476876378e-06,1.850901753641665e-06,9.644136298447847e-07,4.817848093807697e-07,2.3000757209956646e-07,1.0455551091581583e-07,4.508183337748051e-08,1.83499651029706e-08,7.0140231400728226e-09,2.5029294192790985e-09,8.294591680169106e-10,2.473825588822365e-10,7.275957614183426e-11,1.4551915228366852e-11,0.0,0.0,0.0,0.0,0.0,0.0,0.0,0.0,0.0,0.0,0.0,0.0,0.0,0.0,0.0,0.0,0.0,0.0,0.0,0.0,0.0,0.0,0.0,0.0,0.0,0.0,0.0,0.0,0.0,0.0,0.0,0.0,0.0,0.0,0.0,0.0,0.0,0.0,0.0,0.0,0.0,0.0,0.0,0.0,0.0,0.0,0.0,0.0,0.0,0.0,1.8917489796876907e-10,8.119968697428703e-09,4.0823942981660366e-07,2.2770182113163173e-05,0.0007243721483973786,0.00036400259705260396,7.665055454708636e-05,1.763107138685882e-05,5.237467121332884e-06,2.0367588149383664e-06,1.0242947610095143e-06,6.559857865795493e-07,5.273905117064714e-07,5.255715223029256e-07,6.420450517907739e-07,9.517971193417907e-07,1.6957783373072743e-06,3.592198481783271e-06,8.905204595066607e-06,2.49845179496333e-05,7.244513835757971e-05,0.0001710607175482437,0.00022702908609062433,0.00016032642452046275,8.373308810405433e-05,4.266513860784471e-05,2.4199471226893365e-05,1.6071207937784493e-05,1.2689255527220666e-05,1.191072806250304e-05,1.3183089322410524e-05,1.6952326404862106e-05,2.472542109899223e-05,3.93024820368737e-05,6.368508911691606e-05,9.511530515737832e-05,0.00011724725482054055,0.00011336858733557165,9.031646186485887e-05,6.563117494806647e-05,4.7683948650956154e-05,3.677354834508151e-05],\"type\":\"scatter3d\",\"showlegend\":false},{\"marker\":{\"color\":\"blue\",\"size\":7},\"name\":\"Finite Difference\",\"x\":[0.9163264999999999],\"y\":[1.3163265],\"z\":[0.842451231146697],\"type\":\"scatter3d\"},{\"line\":{\"color\":\"red\",\"width\":10},\"mode\":\"lines\",\"x\":[0.9163264999999999,1.0111947940669703,1.0826000253016157,1.1434161852555067,1.197917403556452,1.2481328032637788,1.29520965338746,1.3398688648637669,1.3825967965755874,1.4237387748652588,1.463549609774464,1.502223038614124,1.5399099280266404,1.5767300680963288,1.6127801137625768,1.6481391059712232,1.6828724154660306,1.7170346258807612,1.7506716840556074,1.7838225320790877,1.816520365107847,1.8487936139768502,1.8806667220721498,1.9121607661181348,1.9432939569586702,1.9740820469448495,2.0045386638280833,2.0346755862225803,2.0645029721710744,2.0940295497367827,2.123262776590682,2.152208974084897,2.1808734401731615,2.209260544667581,2.2373738096424813,2.2652159772637335,2.292789066901035,2.3200944230455387,2.347132755286777,2.3739041713865787,2.4004082043127095,2.426643833952873,2.4526095041141636,2.4783031353191314,2.5037221338335427,2.5288633972999173,2.5537233173027674,2.5782977791547004,2.6025821591660243,2.626571319643619,2.6502596018572646,2.6736408172134207,2.696708236887934,2.7194545801909866,2.741872001970693,2.763952079407291,2.7856857986094,2.8070635414989584,2.8280750735642792,2.8487095331731553,2.8689554232723853,2.8888006064584886,2.908232304588526,2.9272371043109904,2.945800970134703,2.9639092669169402,2.981546793936487,2.998697833015337,3.0153462134519997,3.0314753968111985,3.047068584852792,3.0621088540410573,3.0765793201072924,3.0904633359853895,3.1037447260316817,3.116408058697726,3.1284389586643684,3.1398244577885053,3.1505533819991887,3.16061676848155,3.1700083041375855,3.178724772525935,3.186766492475528,3.1941377276742777,3.200847043201942,3.2069075827421885,3.2123372396428467,3.2171586966164583,3.221399313055671,3.225090845794433,3.228268998453032,3.230972805666026,3.2332438705660587,3.2351254856968006,3.236661677775165,3.2378962242230003,3.238871693202751,3.2396285584642115,3.240204435537026,3.240633477044518,3.240945952948009,3.241168027478122,3.2413217297273382,3.2414251008276893,3.2414924887327174,3.2415349530619992,3.241560738066758,3.241575771837464,3.2415841541140358,3.2415886026292653,3.2415908375360045,3.2415918936444608,3.2415923594885045,3.2415925495234474,3.241592620403681,3.241592644229589,3.241592651313231,3.241592653129286,3.2415926535165114,3.2415926535814648,3.241592653589246,3.241592653589785,3.2415926535897936,3.241592653589793,3.2415926535897936,3.241592653589793,3.2415926535897936,3.241592653589793,3.2415926535897936,3.241592653589793,3.2415926535897936,3.241592653589793,3.2415926535897936,3.241592653589793,3.2415926535897936,3.241592653589793,3.2415926535897936,3.241592653589793,3.2415926535897936,3.2415926535897928,3.241592653589794,3.241592653589792,3.2415926535897963,3.2415926535897874,3.2415926535898065,3.2415926535897603,3.241592653589881,3.241592653589541,3.2415926535905712,3.2415926535872237,3.2415926535988793,3.24159265355544,3.2415926537285564,3.241592652991515,3.241592656340936,3.2415926401069677,3.241592723962919,3.241592262648438,3.241594963710294,3.2415781414206863,3.2416895206970753,3.240906002352448,3.246748418424409,3.205188291760551,3.2958839222151988,3.2169093044691865,3.252074452168425,3.236544906145874,3.2444010389948597,3.2397991750268726,3.242895296952409,3.2405256288127986,3.242571181923743,3.2405942570643376,3.242719874688901,3.2401910966437923,3.2435033289470394,3.2387497174230937,3.2461822821282715,3.233645276319484,3.255890053428746,3.21734684079732,3.273091271691685,3.2136205119555576,3.2616347414506475,3.2277601950380124,3.2516130396263203,3.233725647372318,3.24835167838152,3.2352331594880703,3.2481231363646774,3.234319222859348,3.250293588956347,3.2305899230440773,3.255901318991344,3.223316035340346,3.263135777753018,3.2192687280663876,3.262038195960958,3.2241788078732285,3.256177133794529,3.229102821777113],\"y\":[0.8163265,0.8163265,0.8163265,0.8163265,0.8163265,0.8163265,0.8163265,0.8163265,0.8163265,0.8163265,0.8163265,0.8163265,0.8163265,0.8163265,0.8163265,0.8163265,0.8163265,0.8163265,0.8163265,0.8163265,0.8163265,0.8163265,0.8163265,0.8163265,0.8163265,0.8163265,0.8163265,0.8163265,0.8163265,0.8163265,0.8163265,0.8163265,0.8163265,0.8163265,0.8163265,0.8163265,0.8163265,0.8163265,0.8163265,0.8163265,0.8163265,0.8163265,0.8163265,0.8163265,0.8163265,0.8163265,0.8163265,0.8163265,0.8163265,0.8163265,0.8163265,0.8163265,0.8163265,0.8163265,0.8163265,0.8163265,0.8163265,0.8163265,0.8163265,0.8163265,0.8163265,0.8163265,0.8163265,0.8163265,0.8163265,0.8163265,0.8163265,0.8163265,0.8163265,0.8163265,0.8163265,0.8163265,0.8163265,0.8163265,0.8163265,0.8163265,0.8163265,0.8163265,0.8163265,0.8163265,0.8163265,0.8163265,0.8163265,0.8163265,0.8163265,0.8163265,0.8163265,0.8163265,0.8163265,0.8163265,0.8163265,0.8163265,0.8163265,0.8163265,0.8163265,0.8163265,0.8163265,0.8163265,0.8163265,0.8163265,0.8163265,0.8163265,0.8163265,0.8163265,0.8163265,0.8163265,0.8163265,0.8163265,0.8163265,0.8163265,0.8163265,0.8163265,0.8163265,0.8163265,0.8163265,0.8163265,0.8163265,0.8163265,0.8163265,0.8163265,0.8163265,0.8163265,0.8163265,0.8163265,0.8163265,0.8163265,0.8163265,0.8163265,0.8163265,0.8163265,0.8163265,0.8163265,0.8163265,0.8163265,0.8163265,0.8163265,0.8163265,0.8163265,0.8163265,0.8163265,0.8163265,0.8163265,0.8163265,0.8163265,0.8163265,0.8163265,0.8163265,0.8163265,0.8163265,0.8163265,0.8163265,0.8163265,0.8163265,0.8163265,0.8163265,0.8163265,0.8163265,0.8163265,0.8163265,0.8163265,0.8163265,0.8163265,0.8163265,0.8163265,0.8163265,0.8163265,0.8163265,0.8163265,0.8163265,0.8163265,0.8163265,0.8163265,0.8163265,0.8163265,0.8163265,0.8163265,0.8163265,0.8163265,0.8163265,0.8163265,0.8163265,0.8163265,0.8163265,0.8163265,0.8163265,0.8163265,0.8163265,0.8163265,0.8163265,0.8163265,0.8163265,0.8163265,0.8163265,0.8163265,0.8163265,0.8163265,0.8163265,0.8163265,0.8163265,0.8163265,0.8163265,0.8163265],\"z\":[0.842451231146697,0.8064010086236522,0.7774306761275511,0.7516355882398784,0.7277255808439804,0.7050955188315129,0.6834091850469122,0.6624601535731927,0.6421132367104292,0.6222759589290945,0.602883158629993,0.5838880159572,0.5652565054042498,0.5469637982314453,0.5289918362832395,0.5113276411866536,0.49396210242412053,0.4768890876293881,0.46010477536765393,0.44360714561480563,0.4273955840180861,0.41147057032503653,0.3958334296621615,0.3804861317621544,0.36543112725485116,0.3506712129164953,0.33620941985282116,0.3220489199447911,0.308192947297357,0.2946447316353442,0.28140744179836474,0.2684841373265954,0.25587772714789025,0.2435909339110367,0.2316262633394217,0.21998597773199435,0.20867207297123969,0.19768625874712598,0.18702994131308515,0.17670420854119584,0.16670981707284227,0.15704718108463567,0.14771636262594257,0.13871706328063738,0.13004861696390435,0.12170998383953702,0.1136997449939372,0.10601609802688472,0.09865685334079899,0.09161943104118109,0.08490085850644391,0.07849776837974787,0.07240639723022468,0.06662258463620674,0.06114177280687727,0.05595900671323761,0.051068934859358706,0.04646581059205346,0.042143494210904464,0.038095455849543214,0.034314779317355715,0.03079416710534133,0.02752594670164399,0.024502078551449813,0.021714165719458833,0.019153465967974626,0.01681090625061188,0.014677100261906162,0.012742369406623766,0.01099676766898483,0.009430111007532105,0.008032011581235565,0.006791917403461412,0.005699157831259072,0.004742995093693025,0.003912681990186684,0.0031975257879821584,0.002586957547464408,0.002070606526103802,0.0016383779438911006,0.0012805328151443973,0.0009877672127913684,0.0007512887677876279,0.0005628868530038744,0.0004149937740294263,0.0003007333871209994,0.00021395455405581743,0.00014924713468644768,0.00010193928028456867,6.807586760260165e-05,4.437929601408541e-05,2.8195034246891737e-05,1.742543827276677e-05,1.0456031304784119e-05,6.078611477278173e-06,3.415887476876378e-06,1.850901753641665e-06,9.644136298447847e-07,4.817848093807697e-07,2.3000757209956646e-07,1.0455551091581583e-07,4.508183337748051e-08,1.83499651029706e-08,7.0140231400728226e-09,2.5029294192790985e-09,8.294591680169106e-10,2.473825588822365e-10,7.275957614183426e-11,1.4551915228366852e-11,0.0,0.0,0.0,0.0,0.0,0.0,0.0,0.0,0.0,0.0,0.0,0.0,0.0,0.0,0.0,0.0,0.0,0.0,0.0,0.0,0.0,0.0,0.0,0.0,0.0,0.0,0.0,0.0,0.0,0.0,0.0,0.0,0.0,0.0,0.0,0.0,0.0,0.0,0.0,0.0,0.0,0.0,0.0,0.0,0.0,0.0,0.0,0.0,0.0,0.0,5.820766091346741e-11,2.342858351767063e-09,1.178705133497715e-07,6.645466783083975e-06,0.00033128280483651906,0.0007367044745478779,0.00015230919234454632,2.746676909737289e-05,6.369926268234849e-06,1.9717554096132517e-06,8.041388355195522e-07,4.2421743273735046e-07,2.846354618668556e-07,2.393790055066347e-07,2.4920154828578234e-07,3.1765375752002e-07,4.910834832116961e-07,9.126670192927122e-07,2.0205770852044225e-06,5.266163498163223e-06,1.579012314323336e-05,5.110303754918277e-05,0.0001469576673116535,0.0002480202238075435,0.00019559742941055447,0.00010041796485893428,4.783346957992762e-05,2.5101820938289165e-05,1.547236752230674e-05,1.1421056115068495e-05,1.0110758012160659e-05,1.066176628228277e-05,1.3225639122538269e-05,1.892645377665758e-05,3.026470949407667e-05,5.118359695188701e-05,8.350636926479638e-05,0.0001160220563178882,0.00012458424316719174,0.00010450140689499676,7.580859528388828e-05,5.3175826906226575e-05],\"type\":\"scatter3d\",\"showlegend\":false},{\"marker\":{\"color\":\"red\",\"size\":7},\"name\":\"Linear Combination of Unitaries\",\"x\":[0.9163264999999999],\"y\":[0.8163265],\"z\":[0.842451231146697],\"type\":\"scatter3d\"},{\"line\":{\"color\":\"purple\",\"width\":10},\"mode\":\"lines\",\"x\":[0.9163264999999999,1.0111948275714202,1.082600071756304,1.1434162390634395,1.1979174622438449,1.2481328654726709,1.2952097182735798,1.3398689318579682,1.3825968652717908,1.4237388449613335,1.463549681038278,1.502223110862741,1.5399100011129039,1.5767301418998405,1.61278018818342,1.6481391809254649,1.6828724908824186,1.717034701698246,1.7506717602214472,1.7838226085473767,1.816520441838353,1.8487936909340865,1.8806667992246247,1.9121608434377368,1.9432940344201617,1.9740821245254436,2.0045387415070888,2.0346756639811003,2.064503049991748,2.0940296276035637,2.1232628544886447,2.15220905200007,2.180873518092376,2.20926062257834,2.2373738875328395,2.26521605512219,2.2927891447164344,2.3200945008069795,2.3471328329835255,2.3739042490079894,2.4004082818481463,2.426643911391634,2.4526095814454085,2.4783032125318063,2.5037222109163078,2.5288634742410707,2.5537233940901696,2.5782978557756935,2.602582235607349,2.626571395891326,2.650259677896622,2.6736408930288142,2.6967083124627598,2.7194546555075387,2.741872077010037,2.763952154149132,2.785685873031936,2.807063615578725,2.8280751472759786,2.848709606489471,2.868955496163783,2.888800678893001,2.908232376531521,2.9272371757249216,2.945801040978846,2.9639093371471117,2.98154686350475,2.998697901869698,3.015346281536094,3.0314754640639805,3.0470686512082286,3.062108919427842,3.076579384448591,3.090463399198634,3.1037447880284383,3.116408119383659,3.1284390179393324,3.1398245155468034,3.15055343813003,3.1606168228697524,3.170008356664567,3.1787248230710285,3.1867665409176604,3.1941377738940306,3.2008470870840044,3.206907624178188,3.212337278534512,3.2171587328790414,3.2213993466215154,3.225090876616537,3.2282690265084297,3.230972830958767,3.2332438931295644,3.235125505595358,3.2366616951043543,3.237896239108875,3.2388717057996637,3.2396285689512583,3.2402044441131914,3.240633483922717,3.2409459583483384,3.241168031620733,3.2413217328254142,3.241425103081031,3.241492490322409,3.241534954146536,3.241560738779858,3.241575772287618,3.24158415438566,3.2415886027851366,3.2415908376205684,3.241591893687531,3.241592359508927,3.2415925495323705,3.2415926204072276,3.241592644230851,3.241592651313624,3.2415926531293895,3.2415926535165336,3.2415926535814683,3.2415926535892465,3.2415926535897857,3.241592653589793,3.2415926535897936,3.241592653589794,3.241592653589793,3.2415926535897936,3.241592653589794,3.241592653589793,3.2415926535897936,3.241592653589794,3.2415926535897928,3.241592653589793,3.2415926535897936,3.241592653589794,3.2415926535897923,3.2415926535897945,3.2415926535897905,3.241592653589797,3.2415926535897883,3.241592653589803,3.241592653589776,3.2415926535898296,3.2415926535897155,3.241592653589975,3.241592653589344,3.241592653590996,3.241592653586337,3.2415926536004545,3.241592653554557,3.241592653714449,3.2415926531181953,3.2415926554959564,3.2415926453653956,3.241592691439232,3.2415924679346757,3.241593623541956,3.2415872595473005,3.241624564773733,3.241391931159458,3.2429341402035123,3.232140226714706,3.2933730901415466,3.201748271270011,3.2602586751863387,3.232613681345536,3.2464812121667865,3.238550482160981,3.2437449809401526,3.2398743176429905,3.243129744534032,3.240061776956296,3.243280767680001,3.239542053866826,3.2443231492956337,3.2376292012920262,3.2478122033241825,3.231227861609435,3.2590765864628217,3.2151799726858377,3.2714523008487446,3.2166947407243947,3.2596172236608085,3.228655156512411,3.2513983898222003,3.2335523267494928,3.248777100511524,3.2345981436642517,3.248980752310804,3.2331904507855613,3.2517535618768107,3.228794183332022,3.257815915545294,3.221921605876673,3.263222004915401,3.2204862137285084,3.2603710443635197,3.225572736062762,3.25529062316085,3.229513031328946,3.2527453024687647,3.2307515190201306],\"y\":[0.31632649999999995,0.31632649999999995,0.31632649999999995,0.31632649999999995,0.31632649999999995,0.31632649999999995,0.31632649999999995,0.31632649999999995,0.31632649999999995,0.31632649999999995,0.31632649999999995,0.31632649999999995,0.31632649999999995,0.31632649999999995,0.31632649999999995,0.31632649999999995,0.31632649999999995,0.31632649999999995,0.31632649999999995,0.31632649999999995,0.31632649999999995,0.31632649999999995,0.31632649999999995,0.31632649999999995,0.31632649999999995,0.31632649999999995,0.31632649999999995,0.31632649999999995,0.31632649999999995,0.31632649999999995,0.31632649999999995,0.31632649999999995,0.31632649999999995,0.31632649999999995,0.31632649999999995,0.31632649999999995,0.31632649999999995,0.31632649999999995,0.31632649999999995,0.31632649999999995,0.31632649999999995,0.31632649999999995,0.31632649999999995,0.31632649999999995,0.31632649999999995,0.31632649999999995,0.31632649999999995,0.31632649999999995,0.31632649999999995,0.31632649999999995,0.31632649999999995,0.31632649999999995,0.31632649999999995,0.31632649999999995,0.31632649999999995,0.31632649999999995,0.31632649999999995,0.31632649999999995,0.31632649999999995,0.31632649999999995,0.31632649999999995,0.31632649999999995,0.31632649999999995,0.31632649999999995,0.31632649999999995,0.31632649999999995,0.31632649999999995,0.31632649999999995,0.31632649999999995,0.31632649999999995,0.31632649999999995,0.31632649999999995,0.31632649999999995,0.31632649999999995,0.31632649999999995,0.31632649999999995,0.31632649999999995,0.31632649999999995,0.31632649999999995,0.31632649999999995,0.31632649999999995,0.31632649999999995,0.31632649999999995,0.31632649999999995,0.31632649999999995,0.31632649999999995,0.31632649999999995,0.31632649999999995,0.31632649999999995,0.31632649999999995,0.31632649999999995,0.31632649999999995,0.31632649999999995,0.31632649999999995,0.31632649999999995,0.31632649999999995,0.31632649999999995,0.31632649999999995,0.31632649999999995,0.31632649999999995,0.31632649999999995,0.31632649999999995,0.31632649999999995,0.31632649999999995,0.31632649999999995,0.31632649999999995,0.31632649999999995,0.31632649999999995,0.31632649999999995,0.31632649999999995,0.31632649999999995,0.31632649999999995,0.31632649999999995,0.31632649999999995,0.31632649999999995,0.31632649999999995,0.31632649999999995,0.31632649999999995,0.31632649999999995,0.31632649999999995,0.31632649999999995,0.31632649999999995,0.31632649999999995,0.31632649999999995,0.31632649999999995,0.31632649999999995,0.31632649999999995,0.31632649999999995,0.31632649999999995,0.31632649999999995,0.31632649999999995,0.31632649999999995,0.31632649999999995,0.31632649999999995,0.31632649999999995,0.31632649999999995,0.31632649999999995,0.31632649999999995,0.31632649999999995,0.31632649999999995,0.31632649999999995,0.31632649999999995,0.31632649999999995,0.31632649999999995,0.31632649999999995,0.31632649999999995,0.31632649999999995,0.31632649999999995,0.31632649999999995,0.31632649999999995,0.31632649999999995,0.31632649999999995,0.31632649999999995,0.31632649999999995,0.31632649999999995,0.31632649999999995,0.31632649999999995,0.31632649999999995,0.31632649999999995,0.31632649999999995,0.31632649999999995,0.31632649999999995,0.31632649999999995,0.31632649999999995,0.31632649999999995,0.31632649999999995,0.31632649999999995,0.31632649999999995,0.31632649999999995,0.31632649999999995,0.31632649999999995,0.31632649999999995,0.31632649999999995,0.31632649999999995,0.31632649999999995,0.31632649999999995,0.31632649999999995,0.31632649999999995,0.31632649999999995,0.31632649999999995,0.31632649999999995,0.31632649999999995,0.31632649999999995,0.31632649999999995,0.31632649999999995,0.31632649999999995,0.31632649999999995,0.31632649999999995,0.31632649999999995,0.31632649999999995,0.31632649999999995,0.31632649999999995,0.31632649999999995,0.31632649999999995,0.31632649999999995,0.31632649999999995,0.31632649999999995,0.31632649999999995,0.31632649999999995,0.31632649999999995,0.31632649999999995,0.31632649999999995],\"z\":[0.842451231146697,0.8064009953959612,0.7774306568026077,0.7516355650004698,0.7277255547232926,0.7050954904698301,0.68340915486624,0.6624601218936732,0.642113203779445,0.6222759249503724,0.6028831237636041,0.5838879803486634,0.5652564691845328,0.5469637614878593,0.5289917991322,0.5113276037154719,0.4939620647201082,0.47688904975075275,0.460104737416259,0.44360710761975497,0.42739554606669117,0.4114705324609531,0.3958333919290453,0.3804860942182131,0.36543108995829243,0.35067117589642294,0.33620938315289095,0.3220488836086588,0.3081929113541264,0.294644696143223,0.2814074067719048,0.26848410279490054,0.25587769314006437,0.2435909004707355,0.23162623048119713,0.2199859454703983,0.2086720413499279,0.19768622778065037,0.18702991101599764,0.17670417892804835,0.16670978817273863,0.15704715291212779,0.14771633519558236,0.13871703659242485,0.13004859103239141,0.12170995867927559,0.11369972060492728,0.10601607443823013,0.09865683053794783,0.09161940905323718,0.08490083730430342,0.07849774799251463,0.07240637764334679,0.06662256584968418,0.06114175482071005,0.05595898952742573,0.05106891847390216,0.04646579500695225,0.04214347941160668,0.038095441821496934,0.034314766046009026,0.030794154590694234,0.02752593492914457,0.024502067506546155,0.02171415538759902,0.019153456334606744,0.01681089731573593,0.014677091981866397,0.012742361766868271,0.01099676065496169,0.00943010459013749,0.008032005731365643,0.006791912121116184,0.005699153072782792,0.0047429908299818635,0.0039126782066887245,0.003197522441041656,0.002586954622529447,0.002070603979518637,0.001638375746551901,0.0012805309379473329,0.0009877656266326085,0.0007512874435633421,0.0005628857616102323,0.0004149928718106821,0.000300732659525238,0.00021395398653112352,0.00014924669812899083,0.00010193894559051841,6.807562022004277e-05,4.437910683918744e-05,2.8194888727739453e-05,1.74253509612754e-05,1.0455958545207977e-05,6.078582373447716e-06,3.4158729249611497e-06,1.8508872017264366e-06,9.644136298447847e-07,4.817848093807697e-07,2.3000757209956646e-07,1.0455551091581583e-07,4.508183337748051e-08,1.83499651029706e-08,7.0140231400728226e-09,2.5029294192790985e-09,8.294591680169106e-10,2.473825588822365e-10,7.275957614183426e-11,1.4551915228366852e-11,0.0,0.0,0.0,0.0,0.0,0.0,0.0,0.0,0.0,0.0,0.0,0.0,0.0,0.0,0.0,0.0,0.0,0.0,0.0,0.0,0.0,0.0,0.0,0.0,0.0,0.0,0.0,0.0,0.0,0.0,0.0,0.0,0.0,0.0,0.0,0.0,0.0,0.0,0.0,0.0,0.0,0.0,0.0,0.0,0.0,0.0,0.0,0.0,0.0,2.473825588822365e-10,1.0069925338029861e-08,4.4990156311541796e-07,2.2336927941069007e-05,0.0006701536476612091,0.00039684119110461324,8.710255497135222e-05,2.0155348465777934e-05,5.974492523819208e-06,2.313696313649416e-06,1.1581287253648043e-06,7.381750037893653e-07,5.906622391194105e-07,5.858892109245062e-07,7.124326657503843e-07,1.0512449080124497e-06,1.8638966139405966e-06,3.927227226085961e-06,9.67066443990916e-06,2.6856985641643405e-05,7.64200376579538e-05,0.00017439728253521025,0.00022288307081907988,0.00015496851119678468,8.121908467728645e-05,4.184411955066025e-05,2.4037930415943265e-05,1.6161633539013565e-05,1.2904012692160904e-05,1.2230739230290055e-05,1.3645942090079188e-05,1.7649144865572453e-05,2.58107902482152e-05,4.094965697731823e-05,6.579711043741554e-05,9.673440945334733e-05,0.00011695265129674226,0.00011136631655972451,8.815439650788903e-05,6.415807001758367e-05,4.690786590799689e-05,3.647887206170708e-05,3.109507088083774e-05],\"type\":\"scatter3d\",\"showlegend\":false},{\"marker\":{\"color\":\"purple\",\"size\":7},\"name\":\"Quantum Natural Gradient\",\"x\":[0.9163264999999999],\"y\":[0.31632649999999995],\"z\":[0.842451231146697],\"type\":\"scatter3d\"},{\"line\":{\"color\":\"black\",\"width\":10},\"mode\":\"lines\",\"x\":[0.9163264999999999,4.078603645098619,2.599400847610675,3.7202458126241997,2.871374506235725,3.5475791825028273,2.968394708894152,3.505575339176903,2.966445131358029,3.5486454381078745,2.8793188688413633,3.6842771468005786,2.699156106083441,3.8792975331578257,2.552425476325632,3.915760781003637,2.6310493776845054,3.774874948243481,2.7753945746066084,3.659826523470303,2.851197844433019,3.622814114523435,2.8524874891419705,3.654190418717684,2.792073054915739,3.736860220471017,2.7003464554284906,3.8172384434273496,2.653189089865859,3.8189890614200404,2.6922066983744553,3.7565159590233153,2.75861635082734,3.7005374190224973,2.79640011490586,3.683768360725519,2.792404067467887,3.7061576963585976,2.75606138196213,3.749685602226996,2.7141438829129574,3.7808080005211004,2.7005545656196346,3.7750996634648737,2.721929032250678,3.7451404835140507,2.7527736228322497,3.7196360128742447,2.7690144230946814,3.714319621594293,2.7636732431105027,3.7284383510406713,2.743992943457039,3.749532718937402,2.725863669142879,3.7610603060324626,2.722888419614185,3.75568987203298,2.734486519022972,3.741083501500473,2.748740410715181,3.7299373380173404,2.755029398005851,3.7291397608029038,2.7507469906803084,3.7372197250294983,2.7407598531576376,3.7469732296039937,2.733202187912455,3.7509685742100105,2.733258836811116,3.7472935668341516,2.7393924775965384,3.740233193339384,2.7458571870650355,3.735571516415658,2.7480061396211215,3.73608645338352,2.745195600650146,3.740421196772804,2.7403370429700176,3.7447824323263315,2.737307897964247,3.7459924784163228,2.7379802815582126,3.743771449555527,2.741133514875386,3.740422000232529,2.7439891117810395,3.7385732317925755,2.74457256317115,3.7392394437540593,2.742914350205223,3.7414625511407853,2.740624977866451,3.7433528177121556,2.7394747827966985,3.7436052971043305,2.740079038014495,3.7423553071525277,2.7416555052381444,3.740802664277885,2.7428769595198284,3.740120762472647,2.7429397853546806,3.740626028002571,2.742024567212433,3.7417274547469064,2.7409757846885197,3.742518747137362,2.740574767356519,3.7424887199660275,2.740985485707369,3.7418191549135416,2.7417528126805277,3.7411177262438864,2.742255121585427,3.740894117397747,2.7421841429595855,3.741215372069037,2.7417022246703486,3.741745347924122,2.741235083078854,3.7420625048680547,2.741116159213282,3.741979668160738,2.74136340594969,3.741634489394818,2.741727321458245,3.7413265384638583,2.7419235514519227,3.741269718125537,2.741843929391344,3.741455905841713,2.741599273408559,3.7417041433713654,2.741397480740905,3.7418238517840927,2.741375415801962,3.741753874476733,2.7415139673765467,3.7415815308197184,2.7416821502230087,3.7414507087394275,2.7417533041838125,3.7414473138143802,2.7416952134852406,3.7415489775321906,2.741574764754685,3.741662199616342,2.7414906785457056,3.7417033112215887,2.7414963608985023,3.741656774953826,2.7415702439235567,3.7415731350066403,2.7416459099869592,3.741519754009116,2.7416686217947466,3.7415291040456133,2.741632368394646,3.7415822533052006,2.7415746838635786,3.7416324710718736,2.741541212309756,3.7416442180864684,2.741551310873211,3.741616536362683,2.741589233245957,3.7415770099025836,2.7416222940239248,3.741556362376958,2.7416276736550906,3.7415657595999736,2.741606894731479,3.7415925974020774,2.7415799868477237,3.7416141864333734,2.7415674892455724,3.741616025535666,2.7415755827845567,3.741600637639239,2.741594438539715,3.7415824412091356,2.7416084041447424,3.741575065125922,2.7416083918651784,3.7415817051771163,2.7415971319774473,3.7415948590472436,2.7415849091890134,3.741603801658227,2.741580698816074,3.7416029232395163,2.7415859681310875,3.7415947675543193,2.741595082784612,3.7415866152820842,2.7416007410234666,3.7415843267371907,2.7415995479740247,3.7415884055289697],\"y\":[-0.18367350000000005,-0.18367350000000005,-0.1836735000000174,-0.18367350000000005,-0.18367350000000005,-0.18367350000000005,-0.18367350000000005,-0.18367350000000005,-0.18367350000000005,-0.18367350000000005,-0.18367350000000005,-0.18367350000000005,-0.18367350000000005,-0.1836735000000087,-0.18367349999999136,-0.18367349999999136,-0.18367349999999136,-0.183673499999974,-0.183673499999974,-0.183673499999974,-0.183673499999974,-0.18367349999996968,-0.18367349999996535,-0.18367349999996968,-0.183673499999974,-0.183673499999974,-0.183673499999974,-0.183673499999974,-0.18367349999998267,-0.183673499999974,-0.18367349999996535,-0.1836734999999567,-0.1836734999999567,-0.1836734999999567,-0.18367349999993934,-0.18367349999993934,-0.18367349999993066,-0.18367349999993066,-0.18367349999993066,-0.183673499999922,-0.183673499999922,-0.183673499999922,-0.18367349999993066,-0.18367349999993066,-0.18367349999993066,-0.18367349999993066,-0.18367349999993066,-0.18367349999993066,-0.183673499999922,-0.18367349999991334,-0.183673499999922,-0.18367349999993066,-0.18367349999993932,-0.18367349999993066,-0.18367349999993066,-0.18367349999993066,-0.18367349999993932,-0.18367349999994798,-0.18367349999994798,-0.18367349999993932,-0.18367349999992197,-0.18367349999991328,-0.18367349999990462,-0.18367349999991328,-0.18367349999990462,-0.18367349999990462,-0.18367349999989596,-0.18367349999990462,-0.18367349999991328,-0.18367349999992194,-0.18367349999992194,-0.1836734999999306,-0.1836734999999306,-0.1836734999999306,-0.1836734999999306,-0.1836734999999306,-0.1836734999999306,-0.1836734999999306,-0.18367349999992194,-0.18367349999992194,-0.18367349999991328,-0.18367349999991328,-0.18367349999991328,-0.18367349999990462,-0.18367349999990462,-0.18367349999990462,-0.18367349999989596,-0.18367349999989596,-0.1836734999998873,-0.18367349999987864,-0.1836734999998873,-0.18367349999987864,-0.18367349999987864,-0.18367349999987864,-0.18367349999987864,-0.18367349999986998,-0.18367349999986998,-0.18367349999986998,-0.18367349999987864,-0.18367349999987864,-0.18367349999987864,-0.18367349999987864,-0.18367349999987864,-0.18367349999987864,-0.18367349999987864,-0.18367349999987864,-0.18367349999987864,-0.18367349999987864,-0.18367349999987864,-0.18367349999986998,-0.18367349999987864,-0.1836734999998873,-0.18367349999987864,-0.1836734999998873,-0.18367349999987864,-0.1836734999998873,-0.1836734999998873,-0.18367349999987864,-0.18367349999987864,-0.1836734999998873,-0.1836734999998873,-0.18367349999989596,-0.18367349999989596,-0.18367349999989596,-0.18367349999989596,-0.18367349999989596,-0.18367349999989596,-0.18367349999989596,-0.18367349999989596,-0.1836734999998873,-0.1836734999998873,-0.1836734999998873,-0.1836734999998873,-0.18367349999989596,-0.18367349999989596,-0.1836734999998873,-0.1836734999998873,-0.1836734999998873,-0.18367349999989596,-0.18367349999989596,-0.18367349999989596,-0.1836734999998873,-0.18367349999989596,-0.18367349999989596,-0.18367349999990462,-0.18367349999989596,-0.18367349999989596,-0.18367349999990462,-0.18367349999990462,-0.18367349999990462,-0.18367349999991328,-0.18367349999992194,-0.18367349999992194,-0.18367349999992194,-0.18367349999992194,-0.18367349999991328,-0.18367349999991328,-0.18367349999991328,-0.18367349999991328,-0.18367349999990462,-0.18367349999991328,-0.18367349999992194,-0.1836734999999306,-0.18367349999992194,-0.18367349999992194,-0.1836734999999306,-0.1836734999999306,-0.18367349999993926,-0.1836734999999306,-0.18367349999991325,-0.18367349999990457,-0.1836734999998959,-0.18367349999990457,-0.18367349999991323,-0.18367349999991323,-0.18367349999991323,-0.18367349999992189,-0.18367349999992189,-0.18367349999992189,-0.18367349999992189,-0.18367349999992189,-0.18367349999992189,-0.18367349999993055,-0.1836734999999392,-0.18367349999993055,-0.18367349999992189,-0.18367349999991323,-0.18367349999991323,-0.18367349999992189,-0.18367349999991323,-0.18367349999991323,-0.18367349999991323,-0.18367349999990457,-0.1836734999998959,-0.1836734999998959,-0.1836734999998959,-0.18367349999990457,-0.18367349999990457,-0.18367349999990457,-0.18367349999990457,-0.18367349999991323,-0.18367349999992189],\"z\":[0.842451231146697,0.16515720724419225,0.09960755212523509,0.056191969400970265,0.033875781009555794,0.023224879725603387,0.01854351136717014,0.017320777245913632,0.01880743603396695,0.02338574694294948,0.032453295367304236,0.048197513533523306,0.0717732900811825,0.09826786020130385,0.11411206494085491,0.10938674205681309,0.09033166409062687,0.0694284417986637,0.05335816084698308,0.043096163048176095,0.03762055705010425,0.03589456097688526,0.03737555218685884,0.04195888197864406,0.04967202176339924,0.060079212198616005,0.07146634990931489,0.08057953776733484,0.0840860926109599,0.0810566779691726,0.07357734265679028,0.06483475276036188,0.057191699248505756,0.05173976602964103,0.04873611556831747,0.048088598501635715,0.049600128520978615,0.05299173710227478,0.05778642950463109,0.06316305042128079,0.06795300365774892,0.07094408216653392,0.07141274953028187,0.06948557107534725,0.06600686477031559,0.06206193895195611,0.05855598105699755,0.05605161988933105,0.0548011594946729,0.05483501584967598,0.05602311241091229,0.05809351842617616,0.0606346035056049,0.06312586575222667,0.0650332795776194,0.06595821518567391,0.06576885431422852,0.06463149051705841,0.06292321471846662,0.06108672567643225,0.05950653395848349,0.05844465810514521,0.05802746719564311,0.058257701035472564,0.05903272384603042,0.06016467096924316,0.06140850408701226,0.06250485722557642,0.0632354425615631,0.06347550048667472,0.06322165571327787,0.06258242377953138,0.06173719096113928,0.06088324464508332,0.0601904490031302,0.05977333827468101,0.0596803594235098,0.05989547089848202,0.060347896520397626,0.06092820703634061,0.061510050771175884,0.06197558072744869,0.06223985445103608,0.06226765700557735,0.06207751181500498,0.06173204536025878,0.0613188267161604,0.06092839922348503,0.060635517962509766,0.06048692640615627,0.06049634593364317,0.06064584005798679,0.0608922748506302,0.06117753555008676,0.061440888690412976,0.06163133238442242,0.06171738341799937,0.06169206379854586,0.06157205454655923,0.06139166445063893,0.06119365358608775,0.061019485467113554,0.060901216493221,0.060856363401398994,0.06088619261572603,0.060977211585850455,0.06110522476956248,0.06124103660113178,0.06135667389025912,0.06143090363184456,0.06145294665475376,0.06142369373992551,0.06135434581665322,0.06126302556367591,0.06117033249756787,0.061094922391930595,0.061050013318890706,0.061041378081426956,0.06106700826785527,0.061118311088648625,0.06118245610559825,0.06124532695685048,0.061294461323996074,0.06132139683177229,0.06132299064483959,0.061301524241571315,0.06126368416880723,0.0612187480146531,0.06117644142068457,0.06114494339271914,0.0611294226400787,0.06113133017788641,0.06114849889127072,0.06117594297393225,0.06120713221025653,0.06123544731235597,0.061255512831849046,0.06126415194012225,0.06126080408284906,0.061247371457284316,0.06122758249694016,0.06120605280739255,0.06118726733257063,0.061174697475507855,0.06117021471436601,0.06117388389247935,0.0611841364443535,0.06119824976485688,0.06121300731319934,0.06122539118223358,0.06123316605226137,0.06123524779104628,0.06123180367285386,0.061224090663017705,0.06121409105253406,0.06120404027751647,0.061195953443530016,0.06119124525866937,0.0611905097757699,0.06119348629727028,0.0611991992482217,0.0612062260042876,0.061213026696350425,0.06121826416347176,0.0612210507679265,0.06122108030831441,0.0612186298094457,0.061214444183860905,0.06120953895151615,0.06120496911171358,0.06120161405124236,0.061200019874377176,0.06120032456237823,0.06120227237988729,0.06120530531916302,0.06120870559243485,0.061211755470139906,0.061213880850118585,0.06121475140389521,0.06121432172949426,0.061212811211589724,0.061210632949951105,0.06120829118299298,0.06120627104246523,0.06120494350034278,0.06120450294110924,0.061204946439829655,0.06120609460049309,0.06120764552906621,0.0612092477385886,0.06121057549898978,0.06121139141032472,0.06121158480527811,0.06121118084411137,0.06121032165538054,0.06120922579430044,0.06120813674351666,0.061207271603052504,0.06120678040315397,0.06120672301040031,0.061207066391943954],\"type\":\"scatter3d\",\"showlegend\":false},{\"marker\":{\"color\":\"black\",\"size\":7},\"name\":\"Quantum Newton Gradient\",\"x\":[0.9163264999999999],\"y\":[-0.18367350000000005],\"z\":[0.842451231146697],\"type\":\"scatter3d\"}],                        {\"template\":{\"data\":{\"bar\":[{\"error_x\":{\"color\":\"#2a3f5f\"},\"error_y\":{\"color\":\"#2a3f5f\"},\"marker\":{\"line\":{\"color\":\"#E5ECF6\",\"width\":0.5},\"pattern\":{\"fillmode\":\"overlay\",\"size\":10,\"solidity\":0.2}},\"type\":\"bar\"}],\"barpolar\":[{\"marker\":{\"line\":{\"color\":\"#E5ECF6\",\"width\":0.5},\"pattern\":{\"fillmode\":\"overlay\",\"size\":10,\"solidity\":0.2}},\"type\":\"barpolar\"}],\"carpet\":[{\"aaxis\":{\"endlinecolor\":\"#2a3f5f\",\"gridcolor\":\"white\",\"linecolor\":\"white\",\"minorgridcolor\":\"white\",\"startlinecolor\":\"#2a3f5f\"},\"baxis\":{\"endlinecolor\":\"#2a3f5f\",\"gridcolor\":\"white\",\"linecolor\":\"white\",\"minorgridcolor\":\"white\",\"startlinecolor\":\"#2a3f5f\"},\"type\":\"carpet\"}],\"choropleth\":[{\"colorbar\":{\"outlinewidth\":0,\"ticks\":\"\"},\"type\":\"choropleth\"}],\"contour\":[{\"colorbar\":{\"outlinewidth\":0,\"ticks\":\"\"},\"colorscale\":[[0.0,\"#0d0887\"],[0.1111111111111111,\"#46039f\"],[0.2222222222222222,\"#7201a8\"],[0.3333333333333333,\"#9c179e\"],[0.4444444444444444,\"#bd3786\"],[0.5555555555555556,\"#d8576b\"],[0.6666666666666666,\"#ed7953\"],[0.7777777777777778,\"#fb9f3a\"],[0.8888888888888888,\"#fdca26\"],[1.0,\"#f0f921\"]],\"type\":\"contour\"}],\"contourcarpet\":[{\"colorbar\":{\"outlinewidth\":0,\"ticks\":\"\"},\"type\":\"contourcarpet\"}],\"heatmap\":[{\"colorbar\":{\"outlinewidth\":0,\"ticks\":\"\"},\"colorscale\":[[0.0,\"#0d0887\"],[0.1111111111111111,\"#46039f\"],[0.2222222222222222,\"#7201a8\"],[0.3333333333333333,\"#9c179e\"],[0.4444444444444444,\"#bd3786\"],[0.5555555555555556,\"#d8576b\"],[0.6666666666666666,\"#ed7953\"],[0.7777777777777778,\"#fb9f3a\"],[0.8888888888888888,\"#fdca26\"],[1.0,\"#f0f921\"]],\"type\":\"heatmap\"}],\"heatmapgl\":[{\"colorbar\":{\"outlinewidth\":0,\"ticks\":\"\"},\"colorscale\":[[0.0,\"#0d0887\"],[0.1111111111111111,\"#46039f\"],[0.2222222222222222,\"#7201a8\"],[0.3333333333333333,\"#9c179e\"],[0.4444444444444444,\"#bd3786\"],[0.5555555555555556,\"#d8576b\"],[0.6666666666666666,\"#ed7953\"],[0.7777777777777778,\"#fb9f3a\"],[0.8888888888888888,\"#fdca26\"],[1.0,\"#f0f921\"]],\"type\":\"heatmapgl\"}],\"histogram\":[{\"marker\":{\"pattern\":{\"fillmode\":\"overlay\",\"size\":10,\"solidity\":0.2}},\"type\":\"histogram\"}],\"histogram2d\":[{\"colorbar\":{\"outlinewidth\":0,\"ticks\":\"\"},\"colorscale\":[[0.0,\"#0d0887\"],[0.1111111111111111,\"#46039f\"],[0.2222222222222222,\"#7201a8\"],[0.3333333333333333,\"#9c179e\"],[0.4444444444444444,\"#bd3786\"],[0.5555555555555556,\"#d8576b\"],[0.6666666666666666,\"#ed7953\"],[0.7777777777777778,\"#fb9f3a\"],[0.8888888888888888,\"#fdca26\"],[1.0,\"#f0f921\"]],\"type\":\"histogram2d\"}],\"histogram2dcontour\":[{\"colorbar\":{\"outlinewidth\":0,\"ticks\":\"\"},\"colorscale\":[[0.0,\"#0d0887\"],[0.1111111111111111,\"#46039f\"],[0.2222222222222222,\"#7201a8\"],[0.3333333333333333,\"#9c179e\"],[0.4444444444444444,\"#bd3786\"],[0.5555555555555556,\"#d8576b\"],[0.6666666666666666,\"#ed7953\"],[0.7777777777777778,\"#fb9f3a\"],[0.8888888888888888,\"#fdca26\"],[1.0,\"#f0f921\"]],\"type\":\"histogram2dcontour\"}],\"mesh3d\":[{\"colorbar\":{\"outlinewidth\":0,\"ticks\":\"\"},\"type\":\"mesh3d\"}],\"parcoords\":[{\"line\":{\"colorbar\":{\"outlinewidth\":0,\"ticks\":\"\"}},\"type\":\"parcoords\"}],\"pie\":[{\"automargin\":true,\"type\":\"pie\"}],\"scatter\":[{\"marker\":{\"colorbar\":{\"outlinewidth\":0,\"ticks\":\"\"}},\"type\":\"scatter\"}],\"scatter3d\":[{\"line\":{\"colorbar\":{\"outlinewidth\":0,\"ticks\":\"\"}},\"marker\":{\"colorbar\":{\"outlinewidth\":0,\"ticks\":\"\"}},\"type\":\"scatter3d\"}],\"scattercarpet\":[{\"marker\":{\"colorbar\":{\"outlinewidth\":0,\"ticks\":\"\"}},\"type\":\"scattercarpet\"}],\"scattergeo\":[{\"marker\":{\"colorbar\":{\"outlinewidth\":0,\"ticks\":\"\"}},\"type\":\"scattergeo\"}],\"scattergl\":[{\"marker\":{\"colorbar\":{\"outlinewidth\":0,\"ticks\":\"\"}},\"type\":\"scattergl\"}],\"scattermapbox\":[{\"marker\":{\"colorbar\":{\"outlinewidth\":0,\"ticks\":\"\"}},\"type\":\"scattermapbox\"}],\"scatterpolar\":[{\"marker\":{\"colorbar\":{\"outlinewidth\":0,\"ticks\":\"\"}},\"type\":\"scatterpolar\"}],\"scatterpolargl\":[{\"marker\":{\"colorbar\":{\"outlinewidth\":0,\"ticks\":\"\"}},\"type\":\"scatterpolargl\"}],\"scatterternary\":[{\"marker\":{\"colorbar\":{\"outlinewidth\":0,\"ticks\":\"\"}},\"type\":\"scatterternary\"}],\"surface\":[{\"colorbar\":{\"outlinewidth\":0,\"ticks\":\"\"},\"colorscale\":[[0.0,\"#0d0887\"],[0.1111111111111111,\"#46039f\"],[0.2222222222222222,\"#7201a8\"],[0.3333333333333333,\"#9c179e\"],[0.4444444444444444,\"#bd3786\"],[0.5555555555555556,\"#d8576b\"],[0.6666666666666666,\"#ed7953\"],[0.7777777777777778,\"#fb9f3a\"],[0.8888888888888888,\"#fdca26\"],[1.0,\"#f0f921\"]],\"type\":\"surface\"}],\"table\":[{\"cells\":{\"fill\":{\"color\":\"#EBF0F8\"},\"line\":{\"color\":\"white\"}},\"header\":{\"fill\":{\"color\":\"#C8D4E3\"},\"line\":{\"color\":\"white\"}},\"type\":\"table\"}]},\"layout\":{\"annotationdefaults\":{\"arrowcolor\":\"#2a3f5f\",\"arrowhead\":0,\"arrowwidth\":1},\"autotypenumbers\":\"strict\",\"coloraxis\":{\"colorbar\":{\"outlinewidth\":0,\"ticks\":\"\"}},\"colorscale\":{\"diverging\":[[0,\"#8e0152\"],[0.1,\"#c51b7d\"],[0.2,\"#de77ae\"],[0.3,\"#f1b6da\"],[0.4,\"#fde0ef\"],[0.5,\"#f7f7f7\"],[0.6,\"#e6f5d0\"],[0.7,\"#b8e186\"],[0.8,\"#7fbc41\"],[0.9,\"#4d9221\"],[1,\"#276419\"]],\"sequential\":[[0.0,\"#0d0887\"],[0.1111111111111111,\"#46039f\"],[0.2222222222222222,\"#7201a8\"],[0.3333333333333333,\"#9c179e\"],[0.4444444444444444,\"#bd3786\"],[0.5555555555555556,\"#d8576b\"],[0.6666666666666666,\"#ed7953\"],[0.7777777777777778,\"#fb9f3a\"],[0.8888888888888888,\"#fdca26\"],[1.0,\"#f0f921\"]],\"sequentialminus\":[[0.0,\"#0d0887\"],[0.1111111111111111,\"#46039f\"],[0.2222222222222222,\"#7201a8\"],[0.3333333333333333,\"#9c179e\"],[0.4444444444444444,\"#bd3786\"],[0.5555555555555556,\"#d8576b\"],[0.6666666666666666,\"#ed7953\"],[0.7777777777777778,\"#fb9f3a\"],[0.8888888888888888,\"#fdca26\"],[1.0,\"#f0f921\"]]},\"colorway\":[\"#636efa\",\"#EF553B\",\"#00cc96\",\"#ab63fa\",\"#FFA15A\",\"#19d3f3\",\"#FF6692\",\"#B6E880\",\"#FF97FF\",\"#FECB52\"],\"font\":{\"color\":\"#2a3f5f\"},\"geo\":{\"bgcolor\":\"white\",\"lakecolor\":\"white\",\"landcolor\":\"#E5ECF6\",\"showlakes\":true,\"showland\":true,\"subunitcolor\":\"white\"},\"hoverlabel\":{\"align\":\"left\"},\"hovermode\":\"closest\",\"mapbox\":{\"style\":\"light\"},\"paper_bgcolor\":\"white\",\"plot_bgcolor\":\"#E5ECF6\",\"polar\":{\"angularaxis\":{\"gridcolor\":\"white\",\"linecolor\":\"white\",\"ticks\":\"\"},\"bgcolor\":\"#E5ECF6\",\"radialaxis\":{\"gridcolor\":\"white\",\"linecolor\":\"white\",\"ticks\":\"\"}},\"scene\":{\"xaxis\":{\"backgroundcolor\":\"#E5ECF6\",\"gridcolor\":\"white\",\"gridwidth\":2,\"linecolor\":\"white\",\"showbackground\":true,\"ticks\":\"\",\"zerolinecolor\":\"white\"},\"yaxis\":{\"backgroundcolor\":\"#E5ECF6\",\"gridcolor\":\"white\",\"gridwidth\":2,\"linecolor\":\"white\",\"showbackground\":true,\"ticks\":\"\",\"zerolinecolor\":\"white\"},\"zaxis\":{\"backgroundcolor\":\"#E5ECF6\",\"gridcolor\":\"white\",\"gridwidth\":2,\"linecolor\":\"white\",\"showbackground\":true,\"ticks\":\"\",\"zerolinecolor\":\"white\"}},\"shapedefaults\":{\"line\":{\"color\":\"#2a3f5f\"}},\"ternary\":{\"aaxis\":{\"gridcolor\":\"white\",\"linecolor\":\"white\",\"ticks\":\"\"},\"baxis\":{\"gridcolor\":\"white\",\"linecolor\":\"white\",\"ticks\":\"\"},\"bgcolor\":\"#E5ECF6\",\"caxis\":{\"gridcolor\":\"white\",\"linecolor\":\"white\",\"ticks\":\"\"}},\"title\":{\"x\":0.05},\"xaxis\":{\"automargin\":true,\"gridcolor\":\"white\",\"linecolor\":\"white\",\"ticks\":\"\",\"title\":{\"standoff\":15},\"zerolinecolor\":\"white\",\"zerolinewidth\":2},\"yaxis\":{\"automargin\":true,\"gridcolor\":\"white\",\"linecolor\":\"white\",\"ticks\":\"\",\"title\":{\"standoff\":15},\"zerolinecolor\":\"white\",\"zerolinewidth\":2}}},\"title\":{\"text\":\"Max-Cut Cost Funtion\"},\"autosize\":false,\"width\":1000,\"height\":1000},                        {\"responsive\": true}                    ).then(function(){\n",
              "                            \n",
              "var gd = document.getElementById('4cf08411-f0f6-4fc7-9697-bb13879bc7e4');\n",
              "var x = new MutationObserver(function (mutations, observer) {{\n",
              "        var display = window.getComputedStyle(gd).display;\n",
              "        if (!display || display === 'none') {{\n",
              "            console.log([gd, 'removed!']);\n",
              "            Plotly.purge(gd);\n",
              "            observer.disconnect();\n",
              "        }}\n",
              "}});\n",
              "\n",
              "// Listen for the removal of the full notebook cells\n",
              "var notebookContainer = gd.closest('#notebook-container');\n",
              "if (notebookContainer) {{\n",
              "    x.observe(notebookContainer, {childList: true});\n",
              "}}\n",
              "\n",
              "// Listen for the clearing of the current output cell\n",
              "var outputEl = gd.closest('.output');\n",
              "if (outputEl) {{\n",
              "    x.observe(outputEl, {childList: true});\n",
              "}}\n",
              "\n",
              "                        })                };                            </script>        </div>\n",
              "</body>\n",
              "</html>"
            ]
          },
          "metadata": {}
        }
      ],
      "source": [
        "#@title Gradient Plot\n",
        "blp = Model(\"docplex model\")\n",
        "x1 = blp.binary_var(\"x1\")\n",
        "\n",
        "blp.minimize(95000*x1)\n",
        "blp.add_constraint(x1 >= 1)\n",
        "# load from a Docplex model\n",
        "qp_blp = from_docplex_mp(blp)\n",
        "print(qp_blp.export_as_lp_string())\n",
        "qubo_blp = qp2qubo.convert(qp_blp) \n",
        "qubitOp_blp, offset_contour = qubo_blp.to_ising()\n",
        "\n",
        "qubitOp_blp += 0.5*I\n",
        "H_contour_lcu = qml.Hamiltonian([0.5, 0.0], [qml.PauliZ(0)@qml.PauliZ(1), qml.Identity(0)])\n",
        "H_contour = hamiltonian_from_qiskit(qubitOp_blp)\n",
        "\n",
        "from tqdm.notebook import tqdm\n",
        "# objective function\n",
        "def ansatz_contour(var):\n",
        "    qml.RX(var[0], wires=0)\n",
        "    qml.RZ(var[1], wires=0)\n",
        "    \n",
        "def cost_function_contour(var, H):\n",
        "  num_wires = len(H.wires)\n",
        "  dev = qml.device('default.qubit', wires=num_wires)\n",
        "\n",
        "  @qml.qnode(dev)\n",
        "  def circuit(var, H):\n",
        "    ansatz_contour(var[0])\n",
        "    return qml.expval(H)\n",
        "\n",
        "  return circuit(var, H)\n",
        "\n",
        "X = np.linspace(-8, 8, 50)\n",
        "Y = np.linspace(-8, 8, 50)\n",
        "X_m, Y_m = np.meshgrid(X, Y)\n",
        "Z = np.zeros((50, 50))\n",
        "for i in tqdm(range(50)):\n",
        "  for j in range(50):\n",
        "    var = np.array([[X_m[i, j], Y_m[i, j]]])\n",
        "    Z[i, j] = cost_function_contour(var, H_contour)\n",
        "\n",
        "lr = 0.03\n",
        "epochs = 201\n",
        "var_contour = np.array([[0.8163265, 0.8163265+1]])\n",
        "cost_fn = lambda v: cost_function_contour(v, H_contour)+offset_contour\n",
        "grad_fn = lambda var: parameter_shift(lambda x: cost_function_contour(x, H_contour), var)\n",
        "lost_list_ps, var_list_ps = train_contour(cost_fn, grad_fn, epochs, var_contour, lr)\n",
        "\n",
        "var_contour = np.array([[0.8163265, 0.8163265+0.5]])\n",
        "cost_fn = lambda v: cost_function_contour(v, H_contour)+offset_contour\n",
        "grad_fn = lambda var: finite_difference(lambda x: cost_function_contour(x, H_contour), var)\n",
        "lost_list_fd, var_list_fd = train_contour(cost_fn, grad_fn, epochs, var_contour, lr)\n",
        "\n",
        "var_contour = np.array([[0.8163265, 0.8163265]])\n",
        "ansatz_label = [\"RX\", \"RZ\"]\n",
        "cost_fn = lambda v: cost_function_contour(v, H_contour)+offset_contour\n",
        "grad_fn = lambda var: lcu_gradients_contour(ansatz_label, H_contour_lcu, var)\n",
        "lost_list_lcu, var_list_lcu = train_contour(cost_fn, grad_fn, epochs, var_contour, lr)\n",
        "\n",
        "var_contour = np.array([[0.8163265, 0.8163265-0.5]])\n",
        "cost_fn = lambda v: cost_function_contour(v, H_contour)+offset_contour\n",
        "grad_fn = lambda var: quantum_natural_gradient_contour(var, H_contour, lambda x: cost_function_contour(x, H_contour))\n",
        "lost_list_qng, var_list_qng = train_contour(cost_fn, grad_fn, epochs, var_contour, lr)\n",
        "\n",
        "lr = 1\n",
        "reg = 1.0\n",
        "var_contour = np.array([[0.8163265, 0.8163265-1.0]])\n",
        "cost_fn = lambda v: cost_function_contour(v, H_contour)+offset_contour\n",
        "grad_fn = lambda var: newton_gradient_contour(H_contour, var, reg)\n",
        "lost_list_qnw, var_list_qnw = train_contour(cost_fn, grad_fn, epochs, var_contour, lr)\n",
        "\n",
        "\n",
        "a_ps = []\n",
        "b_ps = []\n",
        "for var in var_list_ps:\n",
        "  a_ps.append(var[0][0]+0.1)\n",
        "  b_ps.append(var[0][1])\n",
        "c_ps = [v-offset_contour for v in lost_list_ps]\n",
        "\n",
        "fig = go.Figure(data=[go.Surface(x=X, y=Y, z=Z, showscale=False)])\n",
        "fig.add_trace(go.Scatter3d(x=a_ps, y=b_ps,z=c_ps, mode='lines',\n",
        "                           line=dict(\n",
        "                              color='yellow',\n",
        "                              width=10\n",
        "                          )))\n",
        "fig.add_trace(go.Scatter3d(x=[a_ps[0]], y=[b_ps[0]],z=[c_ps[0]], marker=dict(\n",
        "        size=7,\n",
        "        color=\"yellow\"\n",
        "    ), name=\"Parameter Shift Rule\" ))\n",
        "\n",
        "\n",
        "a_fd = []\n",
        "b_fd = []\n",
        "for var in var_list_fd:\n",
        "  a_fd.append(var[0][0]+0.1)\n",
        "  b_fd.append(var[0][1])\n",
        "c_fd = [v-offset_contour for v in lost_list_fd]\n",
        "fig.add_trace(go.Scatter3d(x=a_fd, y=b_fd,z=c_fd, mode='lines',\n",
        "                           line=dict(\n",
        "                              color='blue',\n",
        "                              width=10\n",
        "                          )))\n",
        "fig.add_trace(go.Scatter3d(x=[a_fd[0]], y=[b_fd[0]],z=[c_fd[0]], marker=dict(\n",
        "        size=7,\n",
        "        color=\"blue\"\n",
        "    ), name=\"Finite Difference\" ))\n",
        "\n",
        "a_lcu = []\n",
        "b_lcu = []\n",
        "for var in var_list_lcu:\n",
        "  a_lcu.append(var[0][0]+0.1)\n",
        "  b_lcu.append(var[0][1])\n",
        "c_lcu = [v-offset_contour for v in lost_list_lcu]\n",
        "fig.add_trace(go.Scatter3d(x=a_lcu, y=b_lcu,z=c_lcu, mode='lines',\n",
        "                           line=dict(\n",
        "                              color='red',\n",
        "                              width=10\n",
        "                          )))\n",
        "fig.add_trace(go.Scatter3d(x=[a_lcu[0]], y=[b_lcu[0]],z=[c_lcu[0]], marker=dict(\n",
        "        size=7,\n",
        "        color=\"red\"\n",
        "    ), name=\"Linear Combination of Unitaries\" ))\n",
        "\n",
        "\n",
        "a_qng = []\n",
        "b_qng = []\n",
        "for var in var_list_qng:\n",
        "  a_qng.append(var[0][0]+0.1)\n",
        "  b_qng.append(var[0][1])\n",
        "c_qng = [v-offset_contour for v in lost_list_qng]\n",
        "fig.add_trace(go.Scatter3d(x=a_qng, y=b_qng,z=c_qng, mode='lines',\n",
        "                           line=dict(\n",
        "                              color='purple',\n",
        "                              width=10\n",
        "                          )))\n",
        "fig.add_trace(go.Scatter3d(x=[a_qng[0]], y=[b_qng[0]],z=[c_qng[0]], marker=dict(\n",
        "        size=7,\n",
        "        color=\"purple\"\n",
        "    ), name=\"Quantum Natural Gradient\" ))\n",
        "\n",
        "a_qnw = []\n",
        "b_qnw = []\n",
        "for var in var_list_qnw:\n",
        "  a_qnw.append(var[0][0]+0.1)\n",
        "  b_qnw.append(var[0][1])\n",
        "c_qnw = [v-offset_contour for v in lost_list_qnw]\n",
        "fig.add_trace(go.Scatter3d(x=a_qnw, y=b_qnw,z=c_qnw, mode='lines',\n",
        "                           line=dict(\n",
        "                              color='black',\n",
        "                              width=10\n",
        "                          )))\n",
        "fig.add_trace(go.Scatter3d(x=[a_qnw[0]], y=[b_qnw[0]],z=[c_qnw[0]], marker=dict(\n",
        "        size=7,\n",
        "        color=\"black\"\n",
        "    ), name=\"Quantum Newton Gradient\" ))\n",
        "\n",
        "for trace in fig['data']: \n",
        "    if(trace['name'] is None): trace['showlegend'] = False\n",
        "\n",
        "\n",
        "fig.update_layout(title='Max-Cut Cost Funtion', autosize=False,\n",
        "    width=1000,\n",
        "    height=1000)\n",
        "\n",
        "fig.show()\n"
      ]
    },
    {
      "cell_type": "markdown",
      "metadata": {
        "id": "JLMwDDYwA9-X"
      },
      "source": [
        "## Fixed the number of gate"
      ]
    },
    {
      "cell_type": "code",
      "execution_count": null,
      "metadata": {
        "id": "yd5M_Ov69PD0",
        "colab": {
          "base_uri": "https://localhost:8080/",
          "height": 737
        },
        "outputId": "817be935-53c8-4cbe-f6db-1c99c3f6db0f"
      },
      "outputs": [
        {
          "output_type": "display_data",
          "data": {
            "text/html": [
              "<html>\n",
              "<head><meta charset=\"utf-8\" /></head>\n",
              "<body>\n",
              "    <div>            <script src=\"https://cdnjs.cloudflare.com/ajax/libs/mathjax/2.7.5/MathJax.js?config=TeX-AMS-MML_SVG\"></script><script type=\"text/javascript\">if (window.MathJax) {MathJax.Hub.Config({SVG: {font: \"STIX-Web\"}});}</script>                <script type=\"text/javascript\">window.PlotlyConfig = {MathJaxConfig: 'local'};</script>\n",
              "        <script src=\"https://cdn.plot.ly/plotly-2.8.3.min.js\"></script>                <div id=\"d2d49535-deb5-404c-9c0b-6cc8cb4516eb\" class=\"plotly-graph-div\" style=\"height:700px; width:1000px;\"></div>            <script type=\"text/javascript\">                                    window.PLOTLYENV=window.PLOTLYENV || {};                                    if (document.getElementById(\"d2d49535-deb5-404c-9c0b-6cc8cb4516eb\")) {                    Plotly.newPlot(                        \"d2d49535-deb5-404c-9c0b-6cc8cb4516eb\",                        [{\"line\":{\"color\":\"red\",\"width\":2},\"name\":\"Discrete Parameter Shift\",\"showlegend\":true,\"x\":[0,1,2,3,4,5,6,7,8,9,10,11,12,13,14,15,16,17,18,19,20,21,22,23,24,25,26,27,28,29,30,31,32,33,34,35,36,37,38,39,40,41,42,43,44,45,46,47,48,49,50,51,52,53,54,55,56,57,58,59,60,61,62,63,64,65,66,67,68,69,70,71,72,73,74,75,76,77,78,79,80,81,82,83,84,85,86,87,88,89,90,91,92,93,94,95,96,97,98,99,100],\"y\":[-1.7157690662825986,-2.051119799084176,-2.290644077504114,-2.4661013305281636,-2.5948855638591035,-2.6906772023390944,-2.763360802011182,-2.819657269676334,-2.8641078165286906,-2.899858098005793,-2.9291643284227327,-2.9537000995367784,-2.974746431797242,-2.9933169608647505,-3.0102435532035132,-3.0262327767827206,-3.04189756454776,-3.0577674236322605,-3.074282563847091,-3.0917805068513635,-3.110485276521761,-3.130506681080059,-3.151851031302419,-3.1744383593495176,-3.1981182213954114,-3.2226781509767575,-3.2478452385982406,-3.273288023706489,-3.298626713863334,-3.3234537390151604,-3.347360429775007,-3.3699643048933994,-3.390933339242668,-3.410005307961579,-3.427001035853091,-3.44183074501619,-3.454493168273907,-3.465067767833469,-3.4737011677958654,-3.4805896033222323,-3.4859596197738307,-3.4900492950843263,-3.493091905994267,-3.4953033297691354,-3.4968737386312156,-3.4979634638831096,-3.498702392458203,-3.4991919653323884,-3.499508775774827,-3.4997088721445837,-3.4998320840558645,-3.4999059373849413,-3.4999489443675014,-3.499973218293912,-3.4999864619526067,-3.4999934258228076,-3.499996943531163,-3.4999986445528033,-3.499999428948514,-3.49999977208024,-3.4999999050087087,-3.499999710699787,-3.499992175075939,-3.4997768720373164,-3.499221338430715,-3.4998194730510077,-3.4999668391872,-3.4999923137279634,-3.499997630879002,-3.4999990363031457,-3.499999477677015,-3.49999952742857,-3.4999985405514145,-3.4999879960550855,-3.499868212929818,-3.498600972549048,-3.495071832049791,-3.4975951745623126,-3.4992612159079113,-3.498883454064203,-3.494234384832931,-3.495504933719925,-3.4983555461143587,-3.499352794102528,-3.499724442585001,-3.4998610251052136,-3.499910045336482,-3.4999182550939683,-3.4998927263855384,-3.4998056004016824,-3.4995667819486367,-3.4990062767622607,-3.4982238867857984,-3.49800933560122,-3.4982656296177765,-3.498133044085393,-3.497632963586462,-3.4974968001187703,-3.4981564498111437,-3.498834982183323,-3.4992573417649266],\"type\":\"scatter\",\"xaxis\":\"x\",\"yaxis\":\"y\"},{\"line\":{\"color\":\"green\",\"width\":2},\"mode\":\"lines\",\"name\":\"Discrete Finite Difference\",\"showlegend\":true,\"x\":[0,1,2,3,4,5,6,7,8,9,10,11,12,13,14,15,16,17,18,19,20,21,22,23,24,25,26,27,28,29,30,31,32,33,34,35,36,37,38,39,40,41,42,43,44,45,46,47,48,49,50,51,52,53,54,55,56,57,58,59,60,61,62,63,64,65,66,67,68,69,70,71,72,73,74,75,76,77,78,79,80,81,82,83,84,85,86,87,88,89,90,91,92,93,94,95,96,97,98,99,100],\"y\":[-1.7157690662825986,-2.0511197990655163,-2.2906440774790457,-2.4661013305035846,-2.5948855638377553,-2.6906772023214716,-2.763360801996983,-2.8196572696651305,-2.864107816520092,-2.8998580979994566,-2.929164328418348,-2.9537000995340623,-2.974746431795929,-2.9933169608645764,-3.010243553204207,-3.026232776783993,-3.0418975645493136,-3.057767423633802,-3.074282563848372,-3.0917805068522055,-3.110485276522078,-3.1305066810798614,-3.151851031301779,-3.1744383593485193,-3.1981182213941084,-3.222678150975156,-3.2478452385963124,-3.273288023704199,-3.298626713860676,-3.3234537390121606,-3.3473604297717254,-3.369964304889916,-3.3909333392390777,-3.4100053079579795,-3.42700103584958,-3.441830745012858,-3.454493168270827,-3.465067767830698,-3.473701167793435,-3.4805896033201575,-3.4859596197721077,-3.490049295082931,-3.4930919059931687,-3.4953033297682965,-3.496873738630592,-3.4979634638826598,-3.498702392457888,-3.4991919653321744,-3.499508775774687,-3.499708872144493,-3.49983208405581,-3.4999059373849075,-3.4999489443674814,-3.4999732182939,-3.4999864619526013,-3.4999934258228054,-3.499996943531161,-3.499998644552779,-3.4999994289480956,-3.499999772071556,-3.499999904803955,-3.499999705224555,-3.499992011107205,-3.499773006169307,-3.4992254233849485,-3.499820166808896,-3.4999668553580343,-3.4999922940082047,-3.499997618389516,-3.49999902885863,-3.499999472443152,-3.4999995217653463,-3.4999985226496886,-3.499987852826218,-3.4998666801307388,-3.498587828339576,-3.4950704387060596,-3.4976061994638235,-3.4992642594111683,-3.4988835449875393,-3.494230341863282,-3.4955050363374527,-3.4983585894237725,-3.499355635107881,-3.4997259474055697,-3.4998616025494287,-3.4999102146679637,-3.4999182263728312,-3.4998925125275155,-3.4998050172075628,-3.499565282911668,-3.49900314074881,-3.49822080831855,-3.498009054640211,-3.4982651205406117,-3.49813050635327,-3.497631779805959,-3.497499878702194,-3.498160565840464,-3.498837593193588,-3.4992584467771146],\"type\":\"scatter\",\"xaxis\":\"x\",\"yaxis\":\"y\"},{\"line\":{\"color\":\"yellow\",\"width\":2},\"mode\":\"lines\",\"name\":\"Discrete LCU\",\"showlegend\":true,\"x\":[0,1,2,3,4,5,6,7,8,9,10,11,12,13,14,15,16,17,18,19,20,21,22,23,24,25,26,27,28,29,30,31,32,33,34,35,36,37,38,39,40,41,42,43,44,45,46,47,48,49,50,51,52,53,54,55,56,57,58,59,60,61,62,63,64,65,66,67,68,69,70,71,72,73,74,75,76,77,78,79,80,81,82,83,84,85,86,87,88,89,90,91,92,93,94,95,96,97,98,99,100],\"y\":[-1.7157690662825986,-2.0511197990841765,-2.290644077504114,-2.466101330528163,-2.5948855638591035,-2.690677202339095,-2.7633608020111824,-2.819657269676335,-2.8641078165286906,-2.8998580980057933,-2.929164328422733,-2.9537000995367784,-2.974746431797242,-2.9933169608647505,-3.0102435532035132,-3.0262327767827206,-3.0418975645477597,-3.0577674236322605,-3.074282563847091,-3.0917805068513644,-3.110485276521761,-3.1305066810800595,-3.15185103130242,-3.174438359349518,-3.198118221395412,-3.2226781509767575,-3.2478452385982406,-3.273288023706489,-3.298626713863334,-3.323453739015161,-3.3473604297750073,-3.3699643048934,-3.390933339242668,-3.410005307961579,-3.427001035853092,-3.4418307450161914,-3.454493168273906,-3.465067767833469,-3.4737011677958645,-3.4805896033222337,-3.485959619773831,-3.4900492950843267,-3.493091905994266,-3.495303329769136,-3.4968737386312148,-3.49796346388311,-3.4987023924582035,-3.499191965332389,-3.4995087757748276,-3.4997088721445833,-3.499832084055865,-3.4999059373849417,-3.4999489443675014,-3.4999732182939116,-3.4999864619526067,-3.4999934258228085,-3.4999969435311655,-3.4999986445528037,-3.499999428948523,-3.499999772080421,-3.499999905012979,-3.4999997108139964,-3.4999921784966532,-3.4997769529904694,-3.4992212531821223,-3.4998194584629583,-3.499966838823484,-3.4999923141311484,-3.4999976311361056,-3.4999990364565954,-3.4999994777849737,-3.4999995275458335,-3.4999985409251586,-3.4999879990550795,-3.4998682450580616,-3.4986012487065055,-3.4950718639187284,-3.497594941398123,-3.4992611496843877,-3.4988834151915387,-3.4942344249078294,-3.4955049825719247,-3.498355497357801,-3.4993527392694164,-3.4997244126315796,-3.4998610137825743,-3.499910042331245,-3.4999182562712163,-3.4998927317561117,-3.499805614428932,-3.4995668174103725,-3.499006349922033,-3.4982239567488085,-3.4980093390252187,-3.4982656384239386,-3.498133101802169,-3.497632994843941,-3.4974967302440265,-3.498156351345207,-3.498834920339288,-3.499257316421824],\"type\":\"scatter\",\"xaxis\":\"x\",\"yaxis\":\"y\"},{\"line\":{\"color\":\"blue\",\"width\":2},\"mode\":\"lines\",\"name\":\"Discrete QNG\",\"showlegend\":true,\"x\":[0,1,2,3,4,5,6,7,8,9,10,11,12,13,14,15,16,17,18,19,20,21,22,23,24,25,26,27,28,29,30,31,32,33,34,35,36,37,38,39,40,41,42,43,44,45,46,47,48,49,50,51,52,53,54,55,56,57,58,59,60,61,62,63,64,65,66,67,68,69,70,71,72,73,74,75,76,77,78,79,80,81,82,83,84,85,86,87,88,89,90,91,92,93,94,95,96,97,98,99,100],\"y\":[-1.7157690662825986,-2.051120326605837,-2.295633957018798,-2.4760417807991257,-2.6084708805520433,-2.706357044936421,-2.7797413570818827,-2.8356874371064476,-2.8791322469359915,-2.91358339845476,-2.941589289072147,-2.965045947374966,-2.985400339043073,-3.003782852902307,-3.021087135602931,-3.0380137901866804,-3.0550949708377115,-3.0727117832961026,-3.0911102465028137,-3.1104205808179564,-3.1306831943918425,-3.1518782228428908,-3.173949665869127,-3.1968157549582212,-3.2203633081863647,-3.244431912783819,-3.268799576682063,-3.293180652479959,-3.317239340747518,-3.3406141548847734,-3.3629460160970703,-3.383904514502693,-3.4032096548998467,-3.4206480762125313,-3.436083322172964,-3.4494599092977603,-3.4608011644047565,-3.4702012451000916,-3.477812340913041,-3.483828603043696,-3.4884686940167144,-3.4919588873994325,-3.494518381253854,-3.496347992345412,-3.497622785440976,-3.4984885840163216,-3.499061810692656,-3.4994317909069412,-3.4996645490158613,-3.499807209011387,-3.4998923193778393,-3.499941675034855,-3.4999694415464955,-3.4999845583592792,-3.499992499187921,-3.49999651026776,-3.4999984511554345,-3.4999993470897643,-3.499999739839802,-3.4999999025291935,-3.4999999658162944,-3.49999998760292,-3.499999959633924,-3.4999988034089484,-3.499957642143945,-3.4992645064687933,-3.499674658479657,-3.4999311216199462,-3.4999837056923986,-3.4999950154531416,-3.499998007338596,-3.499998971821837,-3.4999993255322366,-3.4999994452479024,-3.4999994340905163,-3.499999285123236,-3.4999988336085472,-3.4999969875820236,-3.4999828407596585,-3.4998170148862555,-3.4982100569540497,-3.4960134685482975,-3.497542908004718,-3.4957289892229664,-3.4957116947701414,-3.496856349681999,-3.4977093694685064,-3.4993110742047664,-3.4997811575773636,-3.4998994773508416,-3.4999293432034158,-3.499928236487403,-3.4999020854310903,-3.4998332720178693,-3.499666579096801,-3.4992905281286584,-3.4986428768365556,-3.4981159864748648,-3.497987538660953,-3.4977847388931473,-3.497628532224952],\"type\":\"scatter\",\"xaxis\":\"x\",\"yaxis\":\"y\"},{\"line\":{\"color\":\"brown\",\"width\":2},\"mode\":\"lines\",\"name\":\"Discrete Newton Gradient\",\"showlegend\":true,\"x\":[0,1,2,3,4,5,6,7,8,9,10,11,12,13,14,15,16,17,18,19,20,21,22,23,24,25,26,27,28,29,30,31,32,33,34,35,36,37,38,39,40,41,42,43,44,45,46,47,48,49,50,51,52,53,54,55,56,57,58,59,60,61,62,63,64,65,66,67,68,69,70,71,72,73,74,75,76,77,78,79,80,81,82,83,84,85,86,87,88,89,90,91,92,93,94,95,96,97,98,99,100],\"y\":[-1.7157690662825986,-2.0084183344208353,-2.2152955081025114,-2.3743404733916273,-2.500766365487327,-2.6051063364170877,-2.694057849131726,-2.7716315693791787,-2.840418416894606,-2.9021447887884104,-2.9579848119884398,-3.008755258773607,-3.055068158504265,-3.0974236097734216,-3.1362581106418506,-3.1719485601975594,-3.204821645363577,-3.235128427187127,-3.263096531723908,-3.2888176794707813,-3.312565537033714,-3.3339264727917373,-3.353975106019545,-3.3706513989931226,-3.3881216450095484,-3.401638725795967,-3.415427751472305,-3.4263516825528555,-3.436919964112218,-3.445545094120772,-3.453613251526142,-3.460275594269467,-3.466415585040944,-3.471463407601603,-3.4760965526747603,-3.479835495217861,-3.483276259942185,-3.485996463546639,-3.4885318413928257,-3.490549069149661,-3.4924112204675284,-3.493883682593741,-3.4951777768404444,-3.4961859042600607,-3.4970384323098624,-3.497691844638186,-3.4982256934869693,-3.4986209206137504,-3.498928484930263,-3.499141745011851,-3.499297969900341,-3.499401945407441,-3.4994818003310204,-3.4995421437118055,-3.4995923546071666,-3.499628748030021,-3.4996515587280292,-3.4996588469685723,-3.499651721698177,-3.499631323109172,-3.499600665028997,-3.4995640884497377,-3.4995276926412275,-3.499497869871688,-3.4994793969028795,-3.4994736994752422,-3.499478733882299,-3.4994901961334617,-3.4995031974981528,-3.499513579286866,-3.4995185903242203,-3.4995170208002127,-3.499509065186449,-3.4994961179523116,-3.499480527753035,-3.499465207673807,-3.4994530217761515,-3.4994460082687184,-3.499444490326208,-3.4994450128398964,-3.49942910176722,-3.499315466103524,-3.4991064727908237,-3.49923860434919,-3.4993957027419365,-3.499453992709955,-3.499467696071591,-3.499432651453098,-3.4987782795160434,-3.4940876674815566,-3.4943064276796165,-3.496953581566499,-3.4987216540223907,-3.4992306659060017,-3.49936148996772,-3.4993858871568078,-3.4993606535033983,-3.4993195972256217,-3.4993152637037563,-3.4993481808452254,-3.499373634762126],\"type\":\"scatter\",\"xaxis\":\"x\",\"yaxis\":\"y\"},{\"line\":{\"color\":\"red\",\"width\":2},\"name\":\"Discrete Parameter Shift\",\"showlegend\":false,\"x\":[0,1,2,3,4,5,6,7,8,9,10,11,12,13,14,15,16,17,18,19,20,21,22,23,24,25,26,27,28,29,30,31,32,33,34,35,36,37,38,39,40,41,42,43,44,45,46,47,48,49,50,51,52,53,54,55,56,57,58,59,60,61,62,63,64,65,66,67,68,69,70,71,72,73,74,75,76,77,78,79,80,81,82,83,84,85,86,87,88,89,90,91,92,93,94,95,96,97,98,99,100],\"y\":[0.12889348725706018,-0.4168687926735446,-0.7771455274134362,-1.0369850095030708,-1.2431085080247322,-1.4119642834044772,-1.5524527594786655,-1.6717035858125135,-1.774800777346583,-1.8648125146115881,-1.9436210168287227,-2.012615927031013,-2.0729576754591927,-2.125647257587977,-2.1715687039329037,-2.211525557955814,-2.2462593611768784,-2.2764515324131094,-2.3027184192767938,-2.3256072181514473,-2.3455956738324684,-2.3630953704474233,-2.3784573886680573,-2.391979154404402,-2.403911641552928,-2.414466375120289,-2.42382187588641,-2.4321293339759107,-2.4395174269415625,-2.446096269593373,-2.451960288421571,-2.457186897534336,-2.4617922114232837,-2.465221058820094,-2.4657354547384216,-2.4696417620373996,-2.4748755965797695,-2.4783498212807715,-2.4807576253745487,-2.481954685214023,-2.4835428645022444,-2.4847686330099665,-2.4856388215156415,-2.488149206479562,-2.490391025916701,-2.4919008305026,-2.4930008106586006,-2.4938289995476888,-2.494356416055896,-2.4944965477683323,-2.4945156723843653,-2.4950687346077727,-2.49579820326309,-2.4952178986134124,-2.493556380681452,-2.4949387813111032,-2.4961800907475133,-2.496642503696591,-2.497205429150391,-2.4978799636380735,-2.4983965311382663,-2.498665919375898,-2.4987177508751683,-2.498613979919882,-2.4984848709313314,-2.4983948803004266,-2.498175356221064,-2.496830828758197,-2.4936375329152902,-2.4925415050512982,-2.4947856849372423,-2.496396633008798,-2.4974571454437178,-2.498011513591089,-2.498387507633924,-2.4984651090145915,-2.4983465046557045,-2.4981643292228273,-2.498365941854529,-2.498202347501224,-2.497995053770575,-2.497329600792821,-2.4965815228391324,-2.4956522792910136,-2.4956652942454216,-2.496178386970217,-2.4970404077679866,-2.4975943628938864,-2.4980505073217785,-2.4982115335809034,-2.4983567127178126,-2.4982525660172783,-2.498286718327181,-2.4980937311104006,-2.4980832050993658,-2.4977511912597916,-2.4976274122664903,-2.4973712792075586,-2.4975079343826216,-2.497699474959757,-2.4981518701378995],\"type\":\"scatter\",\"xaxis\":\"x2\",\"yaxis\":\"y2\"},{\"line\":{\"color\":\"green\",\"width\":2},\"mode\":\"lines\",\"name\":\"Discrete Finite Difference\",\"showlegend\":false,\"x\":[0,1,2,3,4,5,6,7,8,9,10,11,12,13,14,15,16,17,18,19,20,21,22,23,24,25,26,27,28,29,30,31,32,33,34,35,36,37,38,39,40,41,42,43,44,45,46,47,48,49,50,51,52,53,54,55,56,57,58,59,60,61,62,63,64,65,66,67,68,69,70,71,72,73,74,75,76,77,78,79,80,81,82,83,84,85,86,87,88,89,90,91,92,93,94,95,96,97,98,99,100],\"y\":[0.12889348725706018,-0.41686879260949605,-0.777145527342658,-1.0369850094610598,-1.2431085080083624,-1.4119642834062505,-1.552452759493466,-1.67170358583658,-1.77480077737658,-1.8648125146446737,-1.9436210168628136,-2.012615927064562,-2.0729576754909345,-2.125647257616863,-2.1715687039581515,-2.211525557976998,-2.246259361193912,-2.2764515324262087,-2.3027184192863888,-2.3256072181580745,-2.345595673836723,-2.363095370449874,-2.378457388669202,-2.3919791544046514,-2.4039116415525994,-2.4144663751196167,-2.4238218758855528,-2.432129333974983,-2.4395174269406263,-2.4460962695923874,-2.4519602884197713,-2.457186897523724,-2.4617922113137856,-2.465221057767891,-2.465735453299682,-2.469641763656167,-2.4748755973778547,-2.4783498214591875,-2.4807576250905865,-2.481954684441206,-2.4835428647427995,-2.484768632392617,-2.485638821916443,-2.4881492073178544,-2.490391026282576,-2.49190083060798,-2.4930008106495594,-2.49382899943869,-2.4943564157836664,-2.4944965473276723,-2.4945156721723647,-2.495068734894935,-2.495798203801731,-2.4952178996776557,-2.4935563805250736,-2.494938780097757,-2.496180090055664,-2.49664250363603,-2.497205429485586,-2.4978799639807954,-2.4983965313232877,-2.4986659194069567,-2.49871775079022,-2.4986139797904197,-2.4984848708588396,-2.498394880343333,-2.498175356081264,-2.496830826460716,-2.4936375298383986,-2.4925415077028745,-2.4947856871708844,-2.496396633742201,-2.4974571457312194,-2.498011513743708,-2.498387507711399,-2.4984651090917653,-2.4983465047029734,-2.4981643289648097,-2.4983659416105763,-2.498202347242165,-2.4979950533552584,-2.497329600053197,-2.496581521740004,-2.4956522786026443,-2.4956652946271483,-2.496178387813444,-2.4970404084939695,-2.4975943633016606,-2.498050507520672,-2.498211533644507,-2.4983567126904234,-2.4982525659337327,-2.4982867181075985,-2.4980937307801447,-2.498083204666368,-2.497751190745434,-2.497627411728071,-2.497371278820399,-2.497507934264767,-2.4976994750361547,-2.4981518702962044],\"type\":\"scatter\",\"xaxis\":\"x2\",\"yaxis\":\"y2\"},{\"line\":{\"color\":\"yellow\",\"width\":2},\"mode\":\"lines\",\"name\":\"Discrete LCU\",\"showlegend\":false,\"x\":[0,1,2,3,4,5,6,7,8,9,10,11,12,13,14,15,16,17,18,19,20,21,22,23,24,25,26,27,28,29,30,31,32,33,34,35,36,37,38,39,40,41,42,43,44,45,46,47,48,49,50,51,52,53,54,55,56,57,58,59,60,61,62,63,64,65,66,67,68,69,70,71,72,73,74,75,76,77,78,79,80,81,82,83,84,85,86,87,88,89,90,91,92,93,94,95,96,97,98,99,100],\"y\":[0.12889348725706018,-0.4168687926735457,-0.7771455274134369,-1.0369850095030713,-1.2431085080247315,-1.4119642834044799,-1.552452759478665,-1.6717035858125118,-1.7748007773465857,-1.8648125146115864,-1.943621016828725,-2.0126159270310113,-2.072957675459192,-2.1256472575879757,-2.1715687039329037,-2.211525557955814,-2.2462593611768766,-2.2764515324131116,-2.3027184192767955,-2.325607218151446,-2.345595673832467,-2.363095370447422,-2.3784573886680573,-2.3919791544044027,-2.4039116415529307,-2.41446637512029,-2.423821875886408,-2.4321293339759107,-2.439517426941563,-2.4460962695933715,-2.451960288421564,-2.4571868975342794,-2.461792211422654,-2.465221058813982,-2.465735454730042,-2.4696417620468107,-2.4748755965844134,-2.4783498212818142,-2.4807576253729287,-2.481954685209585,-2.48354286450355,-2.4847686330062384,-2.485638821517953,-2.4881492064844917,-2.4903910259188553,-2.4919008305032193,-2.4930008106585464,-2.4938289995470466,-2.494356416054307,-2.4944965477657552,-2.4945156723831174,-2.495068734609433,-2.4957982032661907,-2.495217898619476,-2.4935563806805234,-2.494938781304135,-2.4961800907435054,-2.4966425036962216,-2.497205429152333,-2.4978799636400706,-2.498396531139348,-2.4986659193760805,-2.4987177508746674,-2.4986139799191225,-2.4984848709308904,-2.498394880300625,-2.498175356220068,-2.496830828744339,-2.493637532896898,-2.492541505067203,-2.494785684950646,-2.496396633013254,-2.497457145445449,-2.4980115135919925,-2.4983875076343582,-2.4984651090149153,-2.4983465046557662,-2.498164329221434,-2.4983659418531703,-2.4982023474996877,-2.497995053768041,-2.49732960078832,-2.496581522832534,-2.4956522792869142,-2.4956652942477255,-2.496178386975301,-2.497040407772337,-2.497594362896324,-2.4980505073229478,-2.498211533581231,-2.4983567127175776,-2.498252566016667,-2.498286718325844,-2.4980937311084435,-2.498083205096781,-2.4977511912567096,-2.4976274122632605,-2.497371279205248,-2.497507934381917,-2.4976994749602253,-2.498151870138848],\"type\":\"scatter\",\"xaxis\":\"x2\",\"yaxis\":\"y2\"},{\"line\":{\"color\":\"blue\",\"width\":2},\"mode\":\"lines\",\"name\":\"Discrete QNG\",\"showlegend\":false,\"x\":[0,1,2,3,4,5,6,7,8,9,10,11,12,13,14,15,16,17,18,19,20,21,22,23,24,25,26,27,28,29,30,31,32,33,34,35,36,37,38,39,40,41,42,43,44,45,46,47,48,49,50,51,52,53,54,55,56,57,58,59,60,61,62,63,64,65,66,67,68,69,70,71,72,73,74,75,76,77,78,79,80,81,82,83,84,85,86,87,88,89,90,91,92,93,94,95,96,97,98,99,100],\"y\":[0.12889348725706018,-0.4168705962235115,-0.7792375527797077,-1.0435819708996115,-1.253746662995231,-1.4264841992378523,-1.5711946483681145,-1.6952431825727983,-1.8033401409431922,-1.897936511581861,-1.9805167412601246,-2.052361305783033,-2.114688976147509,-2.168620430221154,-2.2151640450049843,-2.2552286528631367,-2.28963722241486,-2.3191340162634857,-2.3443882575864086,-2.365997276268209,-2.384489848476878,-2.4003295812538847,-2.4139184383936745,-2.4256008108543825,-2.4356684503441297,-2.4443662350175837,-2.451898412744108,-2.458434840064932,-2.4641167989038437,-2.4690621326958277,-2.4733696046625666,-2.4771224947870305,-2.480391505745593,-2.4832369753774937,-2.485709001478596,-2.487821342408301,-2.489114972097003,-2.487241924034303,-2.4889089018240282,-2.4926064030312953,-2.494480726782326,-2.494946268684986,-2.4939416853615755,-2.4960024546585364,-2.4972390589075832,-2.496911235278816,-2.4946498747388848,-2.496175145605247,-2.4981449580006965,-2.498910255019454,-2.4991573559754654,-2.4991010271542384,-2.498671819713855,-2.4979092713317534,-2.4968346089904028,-2.4947867151562053,-2.496121474816086,-2.497966596103739,-2.498379026329601,-2.4983575741628066,-2.498352631368925,-2.4981112756855315,-2.497799601835342,-2.497702902701815,-2.496569441514546,-2.4948666476294874,-2.4955242568515015,-2.496749440617116,-2.497301070152955,-2.497132261635456,-2.496542166052045,-2.4967774635494497,-2.4969671802007,-2.4974626354642386,-2.497586973525719,-2.4975794928757895,-2.497392944224769,-2.4970620653993048,-2.496504731614355,-2.495757075264767,-2.4959629359646924,-2.496222180423437,-2.4966672734378967,-2.496823219759389,-2.4968218491490135,-2.4969071930888638,-2.4969092898787566,-2.4971870679959816,-2.4971914509857234,-2.4972162274506644,-2.497089322229474,-2.4969002307484045,-2.4967324792302197,-2.496494883132551,-2.4965166965981465,-2.496496296360927,-2.4967444793194122,-2.496829768295808,-2.4969524924294033,-2.497053744278139,-2.497105551685903],\"type\":\"scatter\",\"xaxis\":\"x2\",\"yaxis\":\"y2\"},{\"line\":{\"color\":\"brown\",\"width\":2},\"mode\":\"lines\",\"name\":\"Discrete Newton Gradient\",\"showlegend\":false,\"x\":[0,1,2,3,4,5,6,7,8,9,10,11,12,13,14,15,16,17,18,19,20,21,22,23,24,25,26,27,28,29,30,31,32,33,34,35,36,37,38,39,40,41,42,43,44,45,46,47,48,49,50,51,52,53,54,55,56,57,58,59,60,61,62,63,64,65,66,67,68,69,70,71,72,73,74,75,76,77,78,79,80,81,82,83,84,85,86,87,88,89,90,91,92,93,94,95,96,97,98,99,100],\"y\":[0.12889348725706018,-0.3175900050170857,-0.5534436276305394,-0.7611589259625058,-0.9344704324097357,-1.084261257461397,-1.2146319543503823,-1.3299118732942543,-1.4324725549199733,-1.5247848117313332,-1.6081822472143674,-1.6842664845650077,-1.7537263571774506,-1.817746817709744,-1.8765246110223184,-1.9311042717293976,-1.9813341292751776,-2.028196972475561,-2.071471301066365,-2.111683471828785,-2.148831151554088,-2.1831378011561684,-2.2144058045113386,-2.2429574371748005,-2.270045588456862,-2.2947802457579334,-2.3176797078214335,-2.3388847564923694,-2.3579350534402748,-2.37509332259051,-2.390546881498643,-2.4044510231828795,-2.41677665964901,-2.427296625216533,-2.436669210719896,-2.446126995415444,-2.454425589694995,-2.4614443364614953,-2.467622271942531,-2.4732173464737626,-2.478234701193026,-2.4826519357092445,-2.48650130177427,-2.489849235802725,-2.4927583394466066,-2.495277229917175,-2.497428865422634,-2.499226194435049,-2.5007290781234413,-2.5021057594422684,-2.503477059711519,-2.5048091356628075,-2.5060557988286916,-2.507238197681125,-2.508370068882473,-2.5094824572183856,-2.510573491129369,-2.511681963980595,-2.5128077032622964,-2.5139981506016302,-2.5151529132339703,-2.516310183868681,-2.5180803220810337,-2.5201775389570393,-2.5223624277774124,-2.5246891890492447,-2.5271080292783124,-2.5306690601525212,-2.5352617218787232,-2.5407072002790803,-2.54698725033299,-2.5544133373531768,-2.5631830966470903,-2.5737030064933313,-2.5862305838099755,-2.601198222307928,-2.6187657911704276,-2.639230745792102,-2.6624306775430813,-2.688205979322725,-2.7155528899185213,-2.744011069872541,-2.7706828106357895,-2.7979766920200757,-2.8229740079156693,-2.8470719689922013,-2.8677793944035614,-2.886536583989429,-2.9029378358125144,-2.917409570225722,-2.929952554786625,-2.940852070751974,-2.9501985940123507,-2.9583629952047925,-2.9655331352047023,-2.9718485254954374,-2.977183736255758,-2.9815499231377784,-2.984963265867364,-2.987682234497993,-2.990064282539325],\"type\":\"scatter\",\"xaxis\":\"x2\",\"yaxis\":\"y2\"},{\"line\":{\"color\":\"red\",\"width\":2},\"name\":\"Discrete Parameter Shift\",\"showlegend\":false,\"x\":[0,1,2,3,4,5,6,7,8,9,10,11,12,13,14,15,16,17,18,19,20,21,22,23,24,25,26,27,28,29,30,31,32,33,34,35,36,37,38,39,40,41,42,43,44,45,46,47,48,49,50,51,52,53,54,55,56,57,58,59,60,61,62,63,64,65,66,67,68,69,70,71,72,73,74,75,76,77,78,79,80,81,82,83,84,85,86,87,88,89,90,91,92,93,94,95,96,97,98,99,100],\"y\":[667294.3136674128,590816.9320464747,536385.8770831653,495208.6977756712,464486.69945522666,441487.53268793324,423935.0302180716,410094.42027389666,398714.6665824953,388907.62986581156,380039.14750654984,371660.0046987962,363476.8778309077,355347.36338611896,347272.3252545492,339362.08026915503,331774.9942548792,324650.5993301689,318063.6694612547,312011.3470275407,306427.8409051483,301212.05578300514,296254.31282593537,291454.6121267537,286731.4477722348,282023.99260837724,277291.1540428143,272509.78437778924,267672.75801138,262786.7282979205,257869.31339366946,252945.81442200052,248045.8830081764,243200.62673606985,238440.49612600257,233794.05365577724,229287.4971713259,224944.66545338806,220787.215130225,216834.71322876384,213104.50375085504,209611.33489977353,206366.8349342359,203378.97470943746,200651.65165401978,198184.4891653342,195972.8905293899,194008.33736689325,192278.8895037576,190769.82672189403,189464.36864009284,188344.4124956912,187391.23738700664,186586.136111548,185910.94984057784,185348.49353219778,184882.86918597744,184499.66990693286,184186.0819345332,183930.89586394624,183724.44258928957,183558.47322430683,183426.0042248636,183321.14837083966,183238.9491518024,183175.23114956002,183126.4733400612,183089.7069892923,183062.4358390101,183042.57395678904,183028.3959026857,183018.4943705122,183011.74169006565,183007.25304339005,183004.35058668547,183002.52866457182,183001.4208795093,183000.76996474463,183000.4012946062,183000.20056700206,183000.09582436603,183000.04371978441,183000.0235420607,183000.22585810116,183011.1260504541,183260.96553984995,183091.399316739,183017.49603533238,183003.93565341685,183001.16365613352,183000.45272810874,183000.22820724687,183000.14661406563,183000.1183035259,183000.11837291514,183000.14524665114,183000.2163997845,183000.38791188417,183000.8305600079,183002.185546441,183011.1388646388],\"type\":\"scatter\",\"xaxis\":\"x3\",\"yaxis\":\"y3\"},{\"line\":{\"color\":\"green\",\"width\":2},\"mode\":\"lines\",\"name\":\"Discrete Finite Difference\",\"showlegend\":false,\"x\":[0,1,2,3,4,5,6,7,8,9,10,11,12,13,14,15,16,17,18,19,20,21,22,23,24,25,26,27,28,29,30,31,32,33,34,35,36,37,38,39,40,41,42,43,44,45,46,47,48,49,50,51,52,53,54,55,56,57,58,59,60,61,62,63,64,65,66,67,68,69,70,71,72,73,74,75,76,77,78,79,80,81,82,83,84,85,86,87,88,89,90,91,92,93,94,95,96,97,98,99,100],\"y\":[667294.3136674128,590816.9320464747,536385.8770831669,495208.6977756733,464486.6994552281,441487.53268793493,423935.0302180724,410094.4202738976,398714.66658249596,388907.62986581185,380039.1475065496,371660.00469879544,363476.8778309062,355347.3633861171,347272.325254547,339362.0802691529,331774.9942548778,324650.59933016746,318063.6694612538,312011.34702754056,306427.84090514854,301212.0557830051,296254.31282593514,291454.61212675384,286731.4477722351,282023.9926083782,277291.15404281556,272509.78437779075,267672.7580113824,262786.7282979231,257869.3133936717,252945.8144220035,248045.88300817963,243200.62673607215,238440.49612600481,233794.05365578015,229287.4971713284,224944.66545339092,220787.2151302278,216834.71322876733,213104.50375085883,209611.33489977743,206366.83493423992,203378.97470944066,200651.65165402408,198184.48916533834,195972.89052939403,194008.3373668965,192278.88950375962,190769.82672189584,189464.36864009482,188344.41249569284,187391.23738700774,186586.13611154887,185910.94984057854,185348.49353219877,184882.8691859785,184499.6699069332,184186.08193453302,183930.89586394618,183724.4425892901,183558.47322430706,183426.004224864,183321.14837083966,183238.94915180234,183175.23114955984,183126.47334006103,183089.706989293,183062.43583900994,183042.57395678945,183028.39590268576,183018.49437051232,183011.7416900659,183007.25304339005,183004.35058668547,183002.52866457182,183001.4208795097,183000.76996474754,183000.40129467688,183000.2005689912,183000.0958881526,183000.04603424418,183000.11842642154,183004.57276922092,183155.8944527632,183170.10208563425,183039.51245253667,183008.5782633174,183002.3506556293,183000.84363379824,183000.3932423236,183000.23449729953,183000.17627045605,183000.16484510188,183000.18958859355,183000.26550095546,183000.45141763584,183001.02335922798,183006.6905877015,183138.4325095312,183252.49390157545],\"type\":\"scatter\",\"xaxis\":\"x3\",\"yaxis\":\"y3\"},{\"line\":{\"color\":\"yellow\",\"width\":2},\"mode\":\"lines\",\"name\":\"Discrete LCU\",\"showlegend\":false,\"x\":[0,1,2,3,4,5,6,7,8,9,10,11,12,13,14,15,16,17,18,19,20,21,22,23,24,25,26,27,28,29,30,31,32,33,34,35,36,37,38,39,40,41,42,43,44,45,46,47,48,49,50,51,52,53,54,55,56,57,58,59,60,61,62,63,64,65,66,67,68,69,70,71,72,73,74,75,76,77,78,79,80,81,82,83,84,85,86,87,88,89,90,91,92,93,94,95,96,97,98,99,100],\"y\":[667294.3136674128,590816.9320464747,536385.8770831655,495208.6977756712,464486.6994552268,441487.5326879333,423935.0302180715,410094.42027389666,398714.66658249556,388907.62986581156,380039.1475065498,371660.0046987962,363476.8778309077,355347.36338611896,347272.3252545493,339362.080269155,331774.9942548792,324650.5993301688,318063.6694612548,312011.34702754073,306427.8409051482,301212.05578300543,296254.3128259354,291454.61212675355,286731.4477722349,282023.9926083775,277291.15404281416,272509.78437778924,267672.75801138,262786.72829792043,257869.31339366932,252945.81442200075,248045.8830081766,243200.62673606985,238440.4961260024,233794.05365577742,229287.4971713263,224944.66545338806,220787.21513022511,216834.71322876384,213104.50375085528,209611.33489977365,206366.83493423642,203378.97470943735,200651.65165401995,198184.4891653345,195972.89052939008,194008.3373668932,192278.88950375764,190769.82672189397,189464.36864009302,188344.41249569127,187391.2373870067,186586.13611154794,185910.94984057755,185348.49353219796,184882.86918597802,184499.66990693344,184186.08193453285,183930.89586394653,183724.44258928933,183558.4732243066,183426.00422486372,183321.14837084006,183238.94915180258,183175.23114956048,183126.47334006114,183089.7069892923,183062.43583901023,183042.5739567895,183028.39590268594,183018.49437051202,183011.7416900657,183007.2530433897,183004.35058668564,183002.52866457158,183001.4208795093,183000.76996474463,183000.4012946029,183000.20056690444,183000.0958212267,183000.04360589536,183000.01887199568,183000.00975987606,183000.11155726202,183006.30882394372,183219.44648369623,183121.62161741505,183026.06561265595,183005.9811965922,183001.7657855446,183000.6820648188,183000.34075704613,183000.21685978438,183000.17330497527,183000.1717255382,183000.2086374521,183000.3076988794,183000.54647579067,183001.19748168474,183005.17231672612],\"type\":\"scatter\",\"xaxis\":\"x3\",\"yaxis\":\"y3\"},{\"line\":{\"color\":\"blue\",\"width\":2},\"mode\":\"lines\",\"name\":\"Discrete QNG\",\"showlegend\":false,\"x\":[0,1,2,3,4,5,6,7,8,9,10,11,12,13,14,15,16,17,18,19,20,21,22,23,24,25,26,27,28,29,30,31,32,33,34,35,36,37,38,39,40,41,42,43,44,45,46,47,48,49,50,51,52,53,54,55,56,57,58,59,60,61,62,63,64,65,66,67,68,69,70,71,72,73,74,75,76,77,78,79,80,81,82,83,84,85,86,87,88,89,90,91,92,93,94,95,96,97,98,99,100],\"y\":[667294.3136674128,590816.9320464748,536159.3454613853,494693.8971060587,463780.0211995082,440698.29234462196,423138.6286967356,409330.8493990171,397997.80794408266,388232.4780706798,379384.9358120728,370993.92724910675,362763.77877544775,354564.96721186425,346423.83927738754,338477.3824080888,330899.9585925425,323832.3893585724,317340.59279167384,311410.7826805592,305970.3310214543,300917.073000291,296143.67781515664,291551.86772656336,287058.03163515433,282594.40401291545,278109.2363730357,273567.4479861775,268951.5835884903,264262.0531339132,259515.64193312312,254741.94042773568,249978.20837806913,245263.7902750947,240635.29026555215,236123.3568269337,231751.36980258062,227535.81461546273,223487.8085437409,219615.13605980022,215924.2125334498,212421.56261122262,209114.6047657348,206011.7214514917,203121.73039410845,200452.94762190885,198012.0581375279,195803.00417772814,193826.07682532538,192077.35694492445,190548.59340991767,189227.532243299,188098.6317201794,187144.0350596484,186344.64141616365,185681.1238650743,185134.78247431357,184688.17425503768,184325.5115841542,184032.85500639578,183798.14294688002,183611.10428938642,183463.09619948815,183346.90332357533,183256.52732775372,183186.98800419184,183134.14914460928,183094.57479756023,183065.41534973437,183044.31880703778,183029.36085238756,183018.98734603595,183011.96423092682,183007.3315948904,183004.36035979126,183002.51137837698,183001.3974998435,183000.74944834923,183000.38626631087,183000.19075794652,183000.08997042844,183000.04038000345,183000.0171769932,183000.00689476362,183000.00259862572,183000.0009145977,183000.0002987833,183000.00009176251,183000.00011003722,183000.00448094372,183000.26444214763,183016.99730816798,183320.24014318833,183061.46016473015,183009.10099277564,183001.7644043155,183000.46893734665,183000.28980906046,183005.782049803,183110.89304718206,183036.4514130213],\"type\":\"scatter\",\"xaxis\":\"x3\",\"yaxis\":\"y3\"},{\"line\":{\"color\":\"brown\",\"width\":2},\"mode\":\"lines\",\"name\":\"Discrete Newton Gradient\",\"showlegend\":false,\"x\":[0,1,2,3,4,5,6,7,8,9,10,11,12,13,14,15,16,17,18,19,20,21,22,23,24,25,26,27,28,29,30,31,32,33,34,35,36,37,38,39,40,41,42,43,44,45,46,47,48,49,50,51,52,53,54,55,56,57,58,59,60,61,62,63,64,65,66,67,68,69,70,71,72,73,74,75,76,77,78,79,80,81,82,83,84,85,86,87,88,89,90,91,92,93,94,95,96,97,98,99,100],\"y\":[667294.3136674128,680541.6922435877,538007.0215789574,461911.9010087213,486669.7657400316,482936.01023571234,448719.19221948803,445553.9783863909,451305.88118282513,328648.84958837274,313093.67524989817,319530.3320355585,322268.874459603,313779.74081038166,315146.27219245356,311498.1353927363,318017.76904541947,320236.5783640129,322772.6010765749,317158.43424532644,319749.41470499325,315665.708777147,316149.9329961504,314798.77174432046,324186.3880317355,317728.06937988213,312309.3881787264,312037.2032581775,320957.42585460306,323048.14711487317,316712.11947422265,314342.0806815126,314265.48498788266,314136.11069401226,314084.9738253336,314070.07048452937,314065.1716854075,314065.68699322664,314269.994529965,315348.2345506553,317363.5109409737,323873.1725990976,339885.61854769115,359155.84355251736,389019.8517078621,508444.09974210605,405819.2766245841,414169.8422151532,447620.9300527356,436698.7089244016,468755.1353881932,477299.5804282621,503163.2070538473,477687.60225153784,544521.9240274949,538359.1641030997,543677.1208077753,544490.488099805,534133.515906156,533821.7155974361,532735.6707655367,536315.1508257171,533857.6041801696,537347.2657443162,536347.6459002915,536194.3326217256,534042.1042163239,535674.093300698,535163.0970054467,535037.2644437269,534973.2297483773,534939.2281714347,534921.9242484168,534913.5359075508,534909.6781968238,534908.0023935502,534907.3178934988,534907.0563525219,534906.9634230819,534906.9329248462,534906.9237513331,534906.9212448909,534906.9206292314,534906.9204949203,534906.9204692682,534906.9204650527,534906.9204644691,534906.9204644029,534906.920464397,534906.9204643965,534906.9204643965,534906.9204643965,534906.9204643965,534906.9204643965,534906.9204643965,534906.9204643965,534906.9204643965,534906.9204643965,534906.9204643965,534906.9204643965,534906.9204643965],\"type\":\"scatter\",\"xaxis\":\"x3\",\"yaxis\":\"y3\"},{\"line\":{\"color\":\"red\",\"width\":2},\"name\":\"Discrete Parameter Shift\",\"showlegend\":false,\"x\":[0,1,2,3,4,5,6,7,8,9,10,11,12,13,14,15,16,17,18,19,20,21,22,23,24,25,26,27,28,29,30,31,32,33,34,35,36,37,38,39,40,41,42,43,44,45,46,47,48,49,50,51,52,53,54,55,56,57,58,59,60,61,62,63,64,65,66,67,68,69,70,71,72,73,74,75,76,77,78,79,80,81,82,83,84,85,86,87,88,89,90,91,92,93,94,95,96,97,98,99,100],\"y\":[27.693128561071465,23.17348803822857,19.277677557126488,16.065656901243493,13.47268116187304,11.369105352777442,9.646552258237751,8.244199033271345,7.121504042489926,6.237299762471455,5.5487050294239335,5.015425844287815,4.602492470421189,4.280913829162474,4.027187538794984,3.8224149952523607,3.651403199487987,3.501894639194525,3.363950032021145,3.2294707754681093,3.091848607688611,2.945737979564279,2.786942140576235,2.6123844072330167,2.420115142874635,2.209299938208929,1.9801522550647555,1.7338061312981043,1.4721541153320041,1.1976873357535798,0.9133645059301987,0.6225129494861541,0.3287420688437006,0.03584072254376913,-0.25236119704858595,-0.532166197249218,-0.8001965879095607,-1.0535648760394878,-1.2899993811099577,-1.507909487033503,-1.7063892752696717,-1.8851694396437644,-2.0445332157013816,-2.185212972080599,-2.308281713892738,-2.4150497859632765,-2.5069729232514,-2.5855743630749597,-2.6523814042028384,-2.7088755530919926,-2.756454950372694,-2.796407749259469,-2.8298952176289607,-2.8579433880822034,-2.8814420402116916,-2.90114969707413,-2.9177032131630174,-2.9316304818058594,-2.9433648349074346,-2.9532598595551907,-2.9616035988768346,-2.9686314021794082,-2.974536995843433,-2.979481619427281,-2.983601282344747,-2.987012334408968,-2.9898156134317997,-2.9920994500591878,-2.993941792825039,-2.995411681982919,-2.9965702613094134,-2.997471479743142,-2.998162602093979,-2.998684620142571,-2.999072631192888,-2.9993562295310188,-2.9995599368375867,-2.999703680593795,-2.9998033155196335,-2.9998711727779597,-2.999916615537197,-2.999946577546506,-2.9999660631780465,-2.9999785920294144,-2.9999865774827317,-2.9999916353457987,-2.9999948247752073,-2.9999968283308363,-2.9999980808624844,-2.999998857994976,-2.9999993345683453,-2.9999996219863476,-2.999999791543148,-2.999999888868608,-2.999999942951927,-2.9999999719111,-2.9999999867866336,-2.9999999940855826,-2.9999999974917912,-2.999999998995998,-2.9999999995961133],\"type\":\"scatter\",\"xaxis\":\"x4\",\"yaxis\":\"y4\"},{\"line\":{\"color\":\"green\",\"width\":2},\"mode\":\"lines\",\"name\":\"Discrete Finite Difference\",\"showlegend\":false,\"x\":[0,1,2,3,4,5,6,7,8,9,10,11,12,13,14,15,16,17,18,19,20,21,22,23,24,25,26,27,28,29,30,31,32,33,34,35,36,37,38,39,40,41,42,43,44,45,46,47,48,49,50,51,52,53,54,55,56,57,58,59,60,61,62,63,64,65,66,67,68,69,70,71,72,73,74,75,76,77,78,79,80,81,82,83,84,85,86,87,88,89,90,91,92,93,94,95,96,97,98,99,100],\"y\":[27.693128561071465,23.173488038239505,19.277677557143207,16.06565690126103,13.472681161889382,11.369105352792403,9.64655225825139,8.244199033283483,7.121504042500332,6.237299762480035,5.54870502943064,5.015425844292672,4.602492470424252,4.280913829163873,4.027187538794947,3.822414995251169,3.6514031994859915,3.5018946391921206,3.3639500320187192,3.2294707754660648,3.0918486076873446,2.9457379795641954,2.78694214057772,2.6123844072363784,2.4201151428801477,2.209299938216729,1.9801522550749127,1.7338061313105717,1.4721541153465854,1.1976873357700306,0.9133645059481807,0.6225129495052295,0.32874206886340396,0.035840722563534655,-0.25236119702917215,-0.5321661972306302,-0.8001965878921311,-1.0535648760235166,-1.2899993810955408,-1.5079094870207275,-1.7063892752584966,-1.885169439634078,-2.044533215693077,-2.1852129720735274,-2.308281713886748,-2.415049785958189,-2.506972923247151,-2.585574363071398,-2.652381404199886,-2.7088755530895394,-2.756454950370623,-2.7964077492577513,-2.829895217627538,-2.8579433880810345,-2.8814420402107235,-2.901149697073315,-2.9177032131623353,-2.931630481805282,-2.943364834906964,-2.9532598595548087,-2.961603598876499,-2.9686314021791294,-2.9745369958431773,-2.979481619427082,-2.98360128234458,-2.9870123344088384,-2.9898156134316984,-2.992099450059092,-2.993941792824966,-2.9954116819828602,-2.9965702613093796,-2.99747147974311,-2.9981626020939682,-2.9986846201425497,-2.9990726311928775,-2.9993562295310117,-2.9995599368375903,-2.9997036805938038,-2.9998033155196264,-2.999871172777965,-2.9999166155371846,-2.999946577546506,-2.999966063178057,-2.9999785920294233,-2.9999865774827406,-2.999991635345797,-2.999994824775225,-2.9999968283308363,-2.999998080862465,-2.999998857994978,-2.9999993345683578,-2.9999996219863405,-2.999999791543157,-2.999999888868615,-2.999999942951913,-2.9999999719111035,-2.9999999867866425,-2.9999999940855044,-2.999999997490102,-2.9999999989530064,-2.999999998346082],\"type\":\"scatter\",\"xaxis\":\"x4\",\"yaxis\":\"y4\"},{\"line\":{\"color\":\"yellow\",\"width\":2},\"mode\":\"lines\",\"name\":\"Discrete LCU\",\"showlegend\":false,\"x\":[0,1,2,3,4,5,6,7,8,9,10,11,12,13,14,15,16,17,18,19,20,21,22,23,24,25,26,27,28,29,30,31,32,33,34,35,36,37,38,39,40,41,42,43,44,45,46,47,48,49,50,51,52,53,54,55,56,57,58,59,60,61,62,63,64,65,66,67,68,69,70,71,72,73,74,75,76,77,78,79,80,81,82,83,84,85,86,87,88,89,90,91,92,93,94,95,96,97,98,99,100],\"y\":[27.693128561071465,23.173488038228577,19.277677557126484,16.0656569012435,13.472681161873048,11.369105352777447,9.646552258237753,8.244199033271338,7.121504042489929,6.237299762471459,5.548705029423932,5.015425844287815,4.602492470421189,4.280913829162473,4.027187538794983,3.822414995252357,3.651403199487982,3.501894639194526,3.363950032021143,3.2294707754681093,3.0918486076886085,2.9457379795642753,2.7869421405762465,2.6123844072330185,2.4201151428746295,2.20929993820893,1.9801522550647617,1.733806131298108,1.4721541153320032,1.1976873357535949,0.9133645059301987,0.6225129494861594,0.3287420688437077,0.03584072254376558,-0.25236119704858595,-0.5321661972492073,-0.8001965879095536,-1.0535648760394967,-1.2899993811099595,-1.5079094870335101,-1.7063892752696699,-1.8851694396437733,-2.044533215701371,-2.185212972080601,-2.3082817138927574,-2.4150497859632747,-2.5069729232514,-2.5855743630749615,-2.6523814042028473,-2.7088755530920086,-2.756454950372687,-2.7964077492594726,-2.829895217628966,-2.8579433880822247,-2.881442040211688,-2.9011496970741266,-2.9177032131630174,-2.931630481805861,-2.943364834907454,-2.953259859555205,-2.961603598876847,-2.968631402179412,-2.9745369958434402,-2.979481619427281,-2.983601282344736,-2.9870123344089787,-2.989815613431798,-2.9920994500591913,-2.9939417928250425,-2.9954116819829135,-2.996570261309424,-2.997471479743149,-2.998162602093993,-2.9986846201425745,-2.999072631192906,-2.9993562295310277,-2.999559936837608,-2.9997036805938073,-2.9998033155196353,-2.9998711727779668,-2.999916615537197,-2.999946577546522,-2.9999660631780607,-2.9999785920294304,-2.999986577482744,-2.999991635345806,-2.999994824775216,-2.9999968283308416,-2.9999980808624773,-2.9999988579949672,-2.9999993345683436,-2.99999962198636,-2.9999997915431518,-2.9999998888686115,-2.99999994295192,-2.9999999719111123,-2.9999999867866656,-2.999999994085581,-2.9999999974917895,-2.9999999989960937,-2.999999999598451],\"type\":\"scatter\",\"xaxis\":\"x4\",\"yaxis\":\"y4\"},{\"line\":{\"color\":\"blue\",\"width\":2},\"mode\":\"lines\",\"name\":\"Discrete QNG\",\"showlegend\":false,\"x\":[0,1,2,3,4,5,6,7,8,9,10,11,12,13,14,15,16,17,18,19,20,21,22,23,24,25,26,27,28,29,30,31,32,33,34,35,36,37,38,39,40,41,42,43,44,45,46,47,48,49,50,51,52,53,54,55,56,57,58,59,60,61,62,63,64,65,66,67,68,69,70,71,72,73,74,75,76,77,78,79,80,81,82,83,84,85,86,87,88,89,90,91,92,93,94,95,96,97,98,99,100],\"y\":[27.693128561071465,23.173487730624963,19.252631210444378,16.004596657402097,13.376908730090673,11.244272339988989,9.501835802160226,8.091899099169598,6.9731431927413885,6.101283979514227,5.430391643519544,4.918067724663744,4.5281484668284,4.231096065203111,4.003273989346479,3.8258981472224916,3.6840300778772086,3.5657351415069023,3.461414058480349,3.3632765553656663,3.264926798452567,3.161046712939939,3.04717829391599,2.9196096588717326,2.775358619564247,2.6122265829727613,2.428876226269777,2.224881879266678,2.000718403165293,1.7576861846698,1.4977994560684778,1.2236752272816354,0.938445316465927,0.6456849625906003,0.3493281186105648,0.053537439350980875,-0.2374828136176088,-0.51971371862121,-0.7895506560822501,-1.0439933815098872,-1.2807684450385004,-1.4983738397027633,-1.6960526336527373,-1.8737130429014819,-2.0318162953821357,-2.1712522300091184,-2.2932180353360874,-2.3991098790195995,-2.4904319542960742,-2.5687236082999227,-2.6355030023728414,-2.69222492678562,-2.7402504215563077,-2.7808262348912027,-2.8150725581483016,-2.8439777728854683,-2.8683991054193534,-2.8890681304218067,-2.9066000412242268,-2.921505564916359,-2.934204398159576,-2.945039111366423,-2.954288623042663,-2.962180563345731,-2.9689020899846987,-2.974608952036114,-2.9794327892764674,-2.983486792159585,-2.9868699301743824,-2.989669992654534,-2.9919656887596027,-2.9938280348066506,-2.9953212276555696,-2.99650316967314,-2.997425778362283,-2.9981351842372153,-2.9986718943790187,-2.9990709762293974,-2.99936229626263,-2.9995708308529547,-2.9997170518762744,-2.9998173776003885,-2.9998846705994744,-2.9999287590944643,-2.9999569563560264,-2.9999745543533862,-2.999985272066768,-2.9999916448818293,-2.999995348180173,-2.9999974545993915,-2.999998629636993,-2.999999273827042,-2.999999621501603,-2.9999998063584243,-2.9999999031021893,-2.999999952799378,-2.9999999777434034,-2.9999999899029053,-2.999999995618049,-2.9999999981279863,-2.9999999973633873],\"type\":\"scatter\",\"xaxis\":\"x4\",\"yaxis\":\"y4\"},{\"line\":{\"color\":\"brown\",\"width\":2},\"mode\":\"lines\",\"name\":\"Discrete Newton Gradient\",\"showlegend\":false,\"x\":[0,1,2,3,4,5,6,7,8,9,10,11,12,13,14,15,16,17,18,19,20,21,22,23,24,25,26,27,28,29,30,31,32,33,34,35,36,37,38,39,40,41,42,43,44,45,46,47,48,49,50,51,52,53,54,55,56,57,58,59,60,61,62,63,64,65,66,67,68,69,70,71,72,73,74,75,76,77,78,79,80,81,82,83,84,85,86,87,88,89,90,91,92,93,94,95,96,97,98,99,100],\"y\":[27.693128561071465,27.345484751953137,9.381728910844384,8.513612996545739,8.073554243085736,8.678364477143765,5.346505926254938,7.718490559471915,7.7352925701063935,5.217953869290357,11.994305548275698,7.537967663923655,6.255072654052458,4.684498247644445,4.63972666526095,3.73516739062626,3.2784997573640293,2.9963810211688626,2.8199538481401856,2.700193991076877,2.61864508191145,2.555108132559594,2.4905593777525272,2.4004671814508356,2.229786685551362,1.72725913259357,-0.645737956591022,-2.0077103162079357,-2.509005559422114,-2.7493564001462065,-2.8723456973344437,-2.9361346415981355,-2.968926634245827,-2.9854123633274696,-2.9934371706676597,-2.9971882006629134,-2.99885960148527,-2.9995647721879504,-2.9998446514441515,-2.9999484697272365,-2.9999842139169086,-2.9999955427980787,-2.999998790733308,-2.999999525595676,-2.999999286875825,-2.999997609116935,-2.999989919574581,-2.999950193212669,-2.999713778648333,-2.9980949359860904,-2.9854355579256406,-2.8780944081729825,-2.2178809026838326,-1.7252707389566098,-2.4440485778407908,-2.7981395587574287,-2.9199195299483023,-2.961746847075503,-2.9774323775666343,-2.983544068076135,-2.98527457768029,-2.983991643358408,-2.9791118461312696,-2.9677943720028885,-2.942714999073541,-2.8874844539368034,-2.776311940338811,-2.614387618988385,-2.516574700506453,-2.5776967136163282,-2.7070955053670698,-2.810525137529364,-2.872584196544665,-2.9056175566948497,-2.92098564272902,-2.924736996818913,-2.918889214002501,-2.9026719810921637,-2.873512347428699,-2.829148573713308,-2.7646733407818775,-2.164551358640429,9.409969712994473,3.9455545784775774,8.731161713726543,3.320241747104908,1.8891643147026445,4.1208095579666715,6.642119486446578,5.483533419945768,4.272836030987467,6.773394975457547,2.21718476290906,2.708230058507537,9.650481590954058,5.0535552245976145,-0.8745879732726571,-1.5927847870353826,-1.9793314000369087,-2.2152907469612817,-2.3523256879796755],\"type\":\"scatter\",\"xaxis\":\"x4\",\"yaxis\":\"y4\"}],                        {\"template\":{\"data\":{\"bar\":[{\"error_x\":{\"color\":\"#2a3f5f\"},\"error_y\":{\"color\":\"#2a3f5f\"},\"marker\":{\"line\":{\"color\":\"#E5ECF6\",\"width\":0.5},\"pattern\":{\"fillmode\":\"overlay\",\"size\":10,\"solidity\":0.2}},\"type\":\"bar\"}],\"barpolar\":[{\"marker\":{\"line\":{\"color\":\"#E5ECF6\",\"width\":0.5},\"pattern\":{\"fillmode\":\"overlay\",\"size\":10,\"solidity\":0.2}},\"type\":\"barpolar\"}],\"carpet\":[{\"aaxis\":{\"endlinecolor\":\"#2a3f5f\",\"gridcolor\":\"white\",\"linecolor\":\"white\",\"minorgridcolor\":\"white\",\"startlinecolor\":\"#2a3f5f\"},\"baxis\":{\"endlinecolor\":\"#2a3f5f\",\"gridcolor\":\"white\",\"linecolor\":\"white\",\"minorgridcolor\":\"white\",\"startlinecolor\":\"#2a3f5f\"},\"type\":\"carpet\"}],\"choropleth\":[{\"colorbar\":{\"outlinewidth\":0,\"ticks\":\"\"},\"type\":\"choropleth\"}],\"contour\":[{\"colorbar\":{\"outlinewidth\":0,\"ticks\":\"\"},\"colorscale\":[[0.0,\"#0d0887\"],[0.1111111111111111,\"#46039f\"],[0.2222222222222222,\"#7201a8\"],[0.3333333333333333,\"#9c179e\"],[0.4444444444444444,\"#bd3786\"],[0.5555555555555556,\"#d8576b\"],[0.6666666666666666,\"#ed7953\"],[0.7777777777777778,\"#fb9f3a\"],[0.8888888888888888,\"#fdca26\"],[1.0,\"#f0f921\"]],\"type\":\"contour\"}],\"contourcarpet\":[{\"colorbar\":{\"outlinewidth\":0,\"ticks\":\"\"},\"type\":\"contourcarpet\"}],\"heatmap\":[{\"colorbar\":{\"outlinewidth\":0,\"ticks\":\"\"},\"colorscale\":[[0.0,\"#0d0887\"],[0.1111111111111111,\"#46039f\"],[0.2222222222222222,\"#7201a8\"],[0.3333333333333333,\"#9c179e\"],[0.4444444444444444,\"#bd3786\"],[0.5555555555555556,\"#d8576b\"],[0.6666666666666666,\"#ed7953\"],[0.7777777777777778,\"#fb9f3a\"],[0.8888888888888888,\"#fdca26\"],[1.0,\"#f0f921\"]],\"type\":\"heatmap\"}],\"heatmapgl\":[{\"colorbar\":{\"outlinewidth\":0,\"ticks\":\"\"},\"colorscale\":[[0.0,\"#0d0887\"],[0.1111111111111111,\"#46039f\"],[0.2222222222222222,\"#7201a8\"],[0.3333333333333333,\"#9c179e\"],[0.4444444444444444,\"#bd3786\"],[0.5555555555555556,\"#d8576b\"],[0.6666666666666666,\"#ed7953\"],[0.7777777777777778,\"#fb9f3a\"],[0.8888888888888888,\"#fdca26\"],[1.0,\"#f0f921\"]],\"type\":\"heatmapgl\"}],\"histogram\":[{\"marker\":{\"pattern\":{\"fillmode\":\"overlay\",\"size\":10,\"solidity\":0.2}},\"type\":\"histogram\"}],\"histogram2d\":[{\"colorbar\":{\"outlinewidth\":0,\"ticks\":\"\"},\"colorscale\":[[0.0,\"#0d0887\"],[0.1111111111111111,\"#46039f\"],[0.2222222222222222,\"#7201a8\"],[0.3333333333333333,\"#9c179e\"],[0.4444444444444444,\"#bd3786\"],[0.5555555555555556,\"#d8576b\"],[0.6666666666666666,\"#ed7953\"],[0.7777777777777778,\"#fb9f3a\"],[0.8888888888888888,\"#fdca26\"],[1.0,\"#f0f921\"]],\"type\":\"histogram2d\"}],\"histogram2dcontour\":[{\"colorbar\":{\"outlinewidth\":0,\"ticks\":\"\"},\"colorscale\":[[0.0,\"#0d0887\"],[0.1111111111111111,\"#46039f\"],[0.2222222222222222,\"#7201a8\"],[0.3333333333333333,\"#9c179e\"],[0.4444444444444444,\"#bd3786\"],[0.5555555555555556,\"#d8576b\"],[0.6666666666666666,\"#ed7953\"],[0.7777777777777778,\"#fb9f3a\"],[0.8888888888888888,\"#fdca26\"],[1.0,\"#f0f921\"]],\"type\":\"histogram2dcontour\"}],\"mesh3d\":[{\"colorbar\":{\"outlinewidth\":0,\"ticks\":\"\"},\"type\":\"mesh3d\"}],\"parcoords\":[{\"line\":{\"colorbar\":{\"outlinewidth\":0,\"ticks\":\"\"}},\"type\":\"parcoords\"}],\"pie\":[{\"automargin\":true,\"type\":\"pie\"}],\"scatter\":[{\"marker\":{\"colorbar\":{\"outlinewidth\":0,\"ticks\":\"\"}},\"type\":\"scatter\"}],\"scatter3d\":[{\"line\":{\"colorbar\":{\"outlinewidth\":0,\"ticks\":\"\"}},\"marker\":{\"colorbar\":{\"outlinewidth\":0,\"ticks\":\"\"}},\"type\":\"scatter3d\"}],\"scattercarpet\":[{\"marker\":{\"colorbar\":{\"outlinewidth\":0,\"ticks\":\"\"}},\"type\":\"scattercarpet\"}],\"scattergeo\":[{\"marker\":{\"colorbar\":{\"outlinewidth\":0,\"ticks\":\"\"}},\"type\":\"scattergeo\"}],\"scattergl\":[{\"marker\":{\"colorbar\":{\"outlinewidth\":0,\"ticks\":\"\"}},\"type\":\"scattergl\"}],\"scattermapbox\":[{\"marker\":{\"colorbar\":{\"outlinewidth\":0,\"ticks\":\"\"}},\"type\":\"scattermapbox\"}],\"scatterpolar\":[{\"marker\":{\"colorbar\":{\"outlinewidth\":0,\"ticks\":\"\"}},\"type\":\"scatterpolar\"}],\"scatterpolargl\":[{\"marker\":{\"colorbar\":{\"outlinewidth\":0,\"ticks\":\"\"}},\"type\":\"scatterpolargl\"}],\"scatterternary\":[{\"marker\":{\"colorbar\":{\"outlinewidth\":0,\"ticks\":\"\"}},\"type\":\"scatterternary\"}],\"surface\":[{\"colorbar\":{\"outlinewidth\":0,\"ticks\":\"\"},\"colorscale\":[[0.0,\"#0d0887\"],[0.1111111111111111,\"#46039f\"],[0.2222222222222222,\"#7201a8\"],[0.3333333333333333,\"#9c179e\"],[0.4444444444444444,\"#bd3786\"],[0.5555555555555556,\"#d8576b\"],[0.6666666666666666,\"#ed7953\"],[0.7777777777777778,\"#fb9f3a\"],[0.8888888888888888,\"#fdca26\"],[1.0,\"#f0f921\"]],\"type\":\"surface\"}],\"table\":[{\"cells\":{\"fill\":{\"color\":\"#EBF0F8\"},\"line\":{\"color\":\"white\"}},\"header\":{\"fill\":{\"color\":\"#C8D4E3\"},\"line\":{\"color\":\"white\"}},\"type\":\"table\"}]},\"layout\":{\"annotationdefaults\":{\"arrowcolor\":\"#2a3f5f\",\"arrowhead\":0,\"arrowwidth\":1},\"autotypenumbers\":\"strict\",\"coloraxis\":{\"colorbar\":{\"outlinewidth\":0,\"ticks\":\"\"}},\"colorscale\":{\"diverging\":[[0,\"#8e0152\"],[0.1,\"#c51b7d\"],[0.2,\"#de77ae\"],[0.3,\"#f1b6da\"],[0.4,\"#fde0ef\"],[0.5,\"#f7f7f7\"],[0.6,\"#e6f5d0\"],[0.7,\"#b8e186\"],[0.8,\"#7fbc41\"],[0.9,\"#4d9221\"],[1,\"#276419\"]],\"sequential\":[[0.0,\"#0d0887\"],[0.1111111111111111,\"#46039f\"],[0.2222222222222222,\"#7201a8\"],[0.3333333333333333,\"#9c179e\"],[0.4444444444444444,\"#bd3786\"],[0.5555555555555556,\"#d8576b\"],[0.6666666666666666,\"#ed7953\"],[0.7777777777777778,\"#fb9f3a\"],[0.8888888888888888,\"#fdca26\"],[1.0,\"#f0f921\"]],\"sequentialminus\":[[0.0,\"#0d0887\"],[0.1111111111111111,\"#46039f\"],[0.2222222222222222,\"#7201a8\"],[0.3333333333333333,\"#9c179e\"],[0.4444444444444444,\"#bd3786\"],[0.5555555555555556,\"#d8576b\"],[0.6666666666666666,\"#ed7953\"],[0.7777777777777778,\"#fb9f3a\"],[0.8888888888888888,\"#fdca26\"],[1.0,\"#f0f921\"]]},\"colorway\":[\"#636efa\",\"#EF553B\",\"#00cc96\",\"#ab63fa\",\"#FFA15A\",\"#19d3f3\",\"#FF6692\",\"#B6E880\",\"#FF97FF\",\"#FECB52\"],\"font\":{\"color\":\"#2a3f5f\"},\"geo\":{\"bgcolor\":\"white\",\"lakecolor\":\"white\",\"landcolor\":\"#E5ECF6\",\"showlakes\":true,\"showland\":true,\"subunitcolor\":\"white\"},\"hoverlabel\":{\"align\":\"left\"},\"hovermode\":\"closest\",\"mapbox\":{\"style\":\"light\"},\"paper_bgcolor\":\"white\",\"plot_bgcolor\":\"#E5ECF6\",\"polar\":{\"angularaxis\":{\"gridcolor\":\"white\",\"linecolor\":\"white\",\"ticks\":\"\"},\"bgcolor\":\"#E5ECF6\",\"radialaxis\":{\"gridcolor\":\"white\",\"linecolor\":\"white\",\"ticks\":\"\"}},\"scene\":{\"xaxis\":{\"backgroundcolor\":\"#E5ECF6\",\"gridcolor\":\"white\",\"gridwidth\":2,\"linecolor\":\"white\",\"showbackground\":true,\"ticks\":\"\",\"zerolinecolor\":\"white\"},\"yaxis\":{\"backgroundcolor\":\"#E5ECF6\",\"gridcolor\":\"white\",\"gridwidth\":2,\"linecolor\":\"white\",\"showbackground\":true,\"ticks\":\"\",\"zerolinecolor\":\"white\"},\"zaxis\":{\"backgroundcolor\":\"#E5ECF6\",\"gridcolor\":\"white\",\"gridwidth\":2,\"linecolor\":\"white\",\"showbackground\":true,\"ticks\":\"\",\"zerolinecolor\":\"white\"}},\"shapedefaults\":{\"line\":{\"color\":\"#2a3f5f\"}},\"ternary\":{\"aaxis\":{\"gridcolor\":\"white\",\"linecolor\":\"white\",\"ticks\":\"\"},\"baxis\":{\"gridcolor\":\"white\",\"linecolor\":\"white\",\"ticks\":\"\"},\"bgcolor\":\"#E5ECF6\",\"caxis\":{\"gridcolor\":\"white\",\"linecolor\":\"white\",\"ticks\":\"\"}},\"title\":{\"x\":0.05},\"xaxis\":{\"automargin\":true,\"gridcolor\":\"white\",\"linecolor\":\"white\",\"ticks\":\"\",\"title\":{\"standoff\":15},\"zerolinecolor\":\"white\",\"zerolinewidth\":2},\"yaxis\":{\"automargin\":true,\"gridcolor\":\"white\",\"linecolor\":\"white\",\"ticks\":\"\",\"title\":{\"standoff\":15},\"zerolinecolor\":\"white\",\"zerolinewidth\":2}}},\"xaxis\":{\"anchor\":\"y\",\"domain\":[0.0,0.45],\"title\":{\"text\":\"Iteration\"}},\"yaxis\":{\"anchor\":\"x\",\"domain\":[0.625,1.0],\"title\":{\"text\":\"Loss\"}},\"xaxis2\":{\"anchor\":\"y2\",\"domain\":[0.55,1.0]},\"yaxis2\":{\"anchor\":\"x2\",\"domain\":[0.625,1.0]},\"xaxis3\":{\"anchor\":\"y3\",\"domain\":[0.0,0.45]},\"yaxis3\":{\"anchor\":\"x3\",\"domain\":[0.0,0.375]},\"xaxis4\":{\"anchor\":\"y4\",\"domain\":[0.55,1.0]},\"yaxis4\":{\"anchor\":\"x4\",\"domain\":[0.0,0.375]},\"annotations\":[{\"font\":{\"size\":16},\"showarrow\":false,\"text\":\"Max-Cut\",\"x\":0.225,\"xanchor\":\"center\",\"xref\":\"paper\",\"y\":1.0,\"yanchor\":\"bottom\",\"yref\":\"paper\"},{\"font\":{\"size\":16},\"showarrow\":false,\"text\":\"Clique\",\"x\":0.775,\"xanchor\":\"center\",\"xref\":\"paper\",\"y\":1.0,\"yanchor\":\"bottom\",\"yref\":\"paper\"},{\"font\":{\"size\":16},\"showarrow\":false,\"text\":\"Binary Linear Programming\",\"x\":0.225,\"xanchor\":\"center\",\"xref\":\"paper\",\"y\":0.375,\"yanchor\":\"bottom\",\"yref\":\"paper\"},{\"font\":{\"size\":16},\"showarrow\":false,\"text\":\"Knapsack\",\"x\":0.775,\"xanchor\":\"center\",\"xref\":\"paper\",\"y\":0.375,\"yanchor\":\"bottom\",\"yref\":\"paper\"}],\"title\":{\"text\":\"Loss Comparison  <br><sup>Fixed the number of parameterized gate (6 gate).</sup>\"},\"autosize\":false,\"width\":1000,\"height\":700},                        {\"responsive\": true}                    ).then(function(){\n",
              "                            \n",
              "var gd = document.getElementById('d2d49535-deb5-404c-9c0b-6cc8cb4516eb');\n",
              "var x = new MutationObserver(function (mutations, observer) {{\n",
              "        var display = window.getComputedStyle(gd).display;\n",
              "        if (!display || display === 'none') {{\n",
              "            console.log([gd, 'removed!']);\n",
              "            Plotly.purge(gd);\n",
              "            observer.disconnect();\n",
              "        }}\n",
              "}});\n",
              "\n",
              "// Listen for the removal of the full notebook cells\n",
              "var notebookContainer = gd.closest('#notebook-container');\n",
              "if (notebookContainer) {{\n",
              "    x.observe(notebookContainer, {childList: true});\n",
              "}}\n",
              "\n",
              "// Listen for the clearing of the current output cell\n",
              "var outputEl = gd.closest('.output');\n",
              "if (outputEl) {{\n",
              "    x.observe(outputEl, {childList: true});\n",
              "}}\n",
              "\n",
              "                        })                };                            </script>        </div>\n",
              "</body>\n",
              "</html>"
            ]
          },
          "metadata": {}
        }
      ],
      "source": [
        "#@title Loss Comparison \n",
        "#@markdown Fixed the number of parameterized gate (24 gate).\n",
        "from plotly.subplots import make_subplots\n",
        "\n",
        "row = 2\n",
        "col = 2\n",
        "fig = make_subplots(rows=row, cols=col, subplot_titles=(\"Max-Cut\",\"Clique\",\"Binary Linear Programming\", \"Knapsack\"))\n",
        "show = True\n",
        "for i in range(row):\n",
        "  for j in range(col):\n",
        "    problemn = i*col+j\n",
        "    if problemn>0:\n",
        "      show = False\n",
        "    dv = pd.DataFrame({\"Iteration\":range(len(psl[problemn])), \"Loss\":psl[problemn]})\n",
        "    dv_fd = pd.DataFrame({\"Iteration\":range(len(fdl[problemn])), \"Loss\":fdl[problemn]})\n",
        "    dv_lcu = pd.DataFrame({\"Iteration\":range(len(lcul[problemn])), \"Loss\":lcul[problemn]})\n",
        "    dv_qng = pd.DataFrame({\"Iteration\":range(len(qngl[problemn])), \"Loss\":qngl[problemn]})\n",
        "    dv_newton = pd.DataFrame({\"Iteration\":range(len(qnwl[problemn])), \"Loss\":qnwl[problemn]})\n",
        "\n",
        "    # dv_cls = pd.DataFrame({\"Iteration\":range(len(loss_plot_classical)), \"Loss\":loss_plot_classical})\n",
        "\n",
        "    fig.add_trace(go.Scatter(x=dv[\"Iteration\"], y=dv[\"Loss\"], name=\"Discrete Parameter Shift\", line = dict(width=2), line_color='red', showlegend = show), row=i+1, col=j+1)\n",
        "    fig.add_trace(go.Scatter(x=dv_fd[\"Iteration\"], y=dv_fd[\"Loss\"], mode=\"lines\", name=\"Discrete Finite Difference\", line = dict(width=2), line_color='green', showlegend = show), row=i+1, col=j+1)\n",
        "    fig.add_trace(go.Scatter(x=dv_lcu[\"Iteration\"], y=dv_lcu[\"Loss\"], mode=\"lines\", name=\"Discrete LCU\", line = dict(width=2), line_color='yellow', showlegend = show), row=i+1, col=j+1)\n",
        "    fig.add_trace(go.Scatter(x=dv_qng[\"Iteration\"], y=dv_qng[\"Loss\"], mode=\"lines\", name=\"Discrete QNG\", line = dict(width=2), line_color='blue', showlegend = show), row=i+1, col=j+1)\n",
        "    fig.add_trace(go.Scatter(x=dv_newton[\"Iteration\"], y=dv_newton[\"Loss\"], mode=\"lines\", name=\"Discrete Newton Gradient\", line = dict(width=2), line_color='brown', showlegend = show), row=i+1, col=j+1)\n",
        "\n",
        "    # fig.add_trace(go.Scatter(x=dv_cls[\"Iteration\"], y=dv_cls[\"Loss\"], mode=\"lines\", name=\"Classical\"))\n",
        "\n",
        "\n",
        "fig.update_layout(title=\"Loss Comparison  <br><sup>Fixed the number of parameterized gate (6 gate).</sup>\",\n",
        "                  xaxis_title=\"Iteration\",\n",
        "                  yaxis_title=\"Loss\", autosize=False,\n",
        "                  width=1000,\n",
        "                  height=700)\n",
        "\n",
        "plotly.offline.plot(fig, filename='loss_fixgate.html')\n",
        "fig.show()"
      ]
    },
    {
      "cell_type": "code",
      "source": [
        "import pickle\n",
        "\n",
        "with open('analytic_psl.pk', 'wb') as fp:\n",
        "    pickle.dump(psl, fp)\n",
        "with open('analytic_fdl.pk', 'wb') as fp:\n",
        "    pickle.dump(fdl, fp)\n",
        "with open('analytic_lcul.pk', 'wb') as fp:\n",
        "    pickle.dump(lcul, fp)\n",
        "with open('analytic_qngl.pk', 'wb') as fp:\n",
        "    pickle.dump(qngl, fp)\n",
        "with open('analytic_qnwl.pk', 'wb') as fp:\n",
        "    pickle.dump(qnwl, fp)"
      ],
      "metadata": {
        "id": "Kuq6GWICqUAT"
      },
      "execution_count": null,
      "outputs": []
    },
    {
      "cell_type": "code",
      "source": [
        "# with open ('analytic_psl.pk', 'rb') as fp:\n",
        "#     itemlist = pickle.load(fp)\n",
        "# itemlist"
      ],
      "metadata": {
        "id": "48XHVRvlq2VT"
      },
      "execution_count": null,
      "outputs": []
    },
    {
      "cell_type": "code",
      "execution_count": null,
      "metadata": {
        "id": "0TCHMfHh9_EG",
        "colab": {
          "base_uri": "https://localhost:8080/",
          "height": 737
        },
        "outputId": "fdc6f9f3-5502-43c0-9260-1c71b066ed93",
        "cellView": "form"
      },
      "outputs": [
        {
          "output_type": "display_data",
          "data": {
            "text/html": [
              "<html>\n",
              "<head><meta charset=\"utf-8\" /></head>\n",
              "<body>\n",
              "    <div>            <script src=\"https://cdnjs.cloudflare.com/ajax/libs/mathjax/2.7.5/MathJax.js?config=TeX-AMS-MML_SVG\"></script><script type=\"text/javascript\">if (window.MathJax) {MathJax.Hub.Config({SVG: {font: \"STIX-Web\"}});}</script>                <script type=\"text/javascript\">window.PlotlyConfig = {MathJaxConfig: 'local'};</script>\n",
              "        <script src=\"https://cdn.plot.ly/plotly-2.8.3.min.js\"></script>                <div id=\"863f2a30-1cab-41c2-baec-b4ada9baa7b7\" class=\"plotly-graph-div\" style=\"height:700px; width:1000px;\"></div>            <script type=\"text/javascript\">                                    window.PLOTLYENV=window.PLOTLYENV || {};                                    if (document.getElementById(\"863f2a30-1cab-41c2-baec-b4ada9baa7b7\")) {                    Plotly.newPlot(                        \"863f2a30-1cab-41c2-baec-b4ada9baa7b7\",                        [{\"line\":{\"color\":\"red\",\"width\":2},\"name\":\"Discrete Parameter Shift\",\"showlegend\":true,\"x\":[0,1,2,3,4,5,6,7,8,9,10,11,12,13,14,15,16,17,18,19,20,21,22,23,24,25,26,27,28,29,30,31,32,33,34,35,36,37,38,39,40,41,42,43,44,45,46,47,48,49,50,51,52,53,54,55,56,57,58,59,60,61,62,63,64,65,66,67,68,69,70,71,72,73,74,75,76,77,78,79,80,81,82,83,84,85,86,87,88,89,90,91,92,93,94,95,96,97,98,99,100],\"y\":[1.5272932052612305,3.0999696254730225,4.991203784942627,8.003432750701904,11.09668493270874,13.853919744491577,16.8551287651062,19.98438549041748,23.047904014587402,26.51599884033203,29.434852600097656,32.19565963745117,34.583800077438354,37.20618200302124,40.01917505264282,42.61418843269348,46.10056686401367,47.97926950454712,49.373820066452026,50.751036167144775,52.14243030548096,53.59115195274353,54.96677875518799,56.3495831489563,57.74685454368591,59.23143458366394,60.55414581298828,61.920711278915405,63.27850031852722,64.6301782131195,65.98429799079895,67.36717820167542,68.7135419845581,70.05810618400574,71.37204813957214,72.76516556739807,74.10264492034912,75.4561779499054,76.84071159362793,78.17841625213623,79.50077748298645,80.84930801391602,82.21180272102356,83.56950736045837,84.97412848472595,86.34676551818848,87.73129749298096,89.109530210495,90.50806879997253,91.91600942611694,93.31633949279785,94.68026638031006,96.06589841842651,97.48449563980103,98.94207739830017,100.34867143630981,101.70264053344727,103.03197717666626,104.43488669395447,105.81429386138916,107.20961689949036,108.64099192619324,109.99595618247986,111.40415215492249,112.97721076011658,114.33503603935242,115.6479868888855,116.98919010162354,118.37066769599915,119.81370759010315,121.19201445579529,122.55629801750183,123.95047378540039,125.32942152023315,126.70118236541748,128.14208316802979,130.48471212387085,131.86217403411865,133.27503371238708,134.66943430900574,136.11153745651245,137.49258637428284,138.91345620155334,140.32369756698608,141.6757845878601,143.10680603981018,144.5072479248047,145.9306676387787,147.34743118286133,148.7517306804657,150.1516342163086,151.5771358013153,152.9375205039978,154.34588360786438,155.75431418418884,157.10683584213257,158.48381185531616,159.92148184776306,161.28502440452576,162.6682834625244,164.04894709587097],\"type\":\"scatter\",\"xaxis\":\"x\",\"yaxis\":\"y\"},{\"line\":{\"color\":\"green\",\"width\":2},\"mode\":\"lines\",\"name\":\"Discrete Finite Difference\",\"showlegend\":true,\"x\":[0,1,2,3,4,5,6,7,8,9,10,11,12,13,14,15,16,17,18,19,20,21,22,23,24,25,26,27,28,29,30,31,32,33,34,35,36,37,38,39,40,41,42,43,44,45,46,47,48,49,50,51,52,53,54,55,56,57,58,59,60,61,62,63,64,65,66,67,68,69,70,71,72,73,74,75,76,77,78,79,80,81,82,83,84,85,86,87,88,89,90,91,92,93,94,95,96,97,98,99,100],\"y\":[1.3447611331939697,2.7072346210479736,4.131287336349487,5.511717081069946,6.904983997344971,8.297673225402832,9.713260650634766,11.091034650802612,12.481679916381836,13.88994812965393,15.273423433303833,16.734209060668945,18.096370697021484,19.511844396591187,20.87861680984497,22.217850923538208,23.647003889083862,25.0378577709198,26.460222482681274,27.818283557891846,29.22974181175232,30.61705446243286,31.97028875350952,33.34243845939636,34.74201321601868,36.12229037284851,37.497957944869995,38.817649364471436,40.16863489151001,41.63290071487427,42.98228859901428,44.39255404472351,45.77747368812561,47.10522150993347,48.492682695388794,49.98962759971619,51.35308575630188,52.72275495529175,54.077258586883545,55.55871844291687,56.945533752441406,58.347410440444946,59.735819816589355,61.12640190124512,62.50971484184265,63.871095418930054,65.24855303764343,66.68564891815186,68.06553792953491,69.47759938240051,70.80598092079163,72.15228867530823,73.51098990440369,74.90776538848877,76.27420330047607,77.66238188743591,79.05155754089355,80.37426710128784,81.70721936225891,83.04814767837524,84.39865493774414,85.80662560462952,87.25301814079285,88.62453627586365,89.97476863861084,91.36940264701843,92.74333786964417,94.08971881866455,95.49965572357178,96.89809560775757,98.23839497566223,99.61802291870117,100.94097900390625,102.34431052207947,103.7075867652893,105.2396776676178,106.55613613128662,107.94955205917358,109.36849927902222,110.85280871391296,112.182687997818,113.57170009613037,114.92129158973694,116.28821325302124,117.64083695411682,118.99160552024841,120.35094833374023,121.70531034469604,123.04224610328674,124.49612736701965,125.82657980918884,127.16015481948853,128.59146165847778,129.95341515541077,131.33144402503967,132.72005343437195,134.0483169555664,135.41843247413635,136.74776577949524,138.13310599327087,139.5129325389862],\"type\":\"scatter\",\"xaxis\":\"x\",\"yaxis\":\"y\"},{\"line\":{\"color\":\"yellow\",\"width\":2},\"mode\":\"lines\",\"name\":\"Discrete LCU\",\"showlegend\":true,\"x\":[0,1,2,3,4,5,6,7,8,9,10,11,12,13,14,15,16,17,18,19,20,21,22,23,24,25,26,27,28,29,30,31,32,33,34,35,36,37,38,39,40,41,42,43,44,45,46,47,48,49,50,51,52,53,54,55,56,57,58,59,60,61,62,63,64,65,66,67,68,69,70,71,72,73,74,75,76,77,78,79,80,81,82,83,84,85,86,87,88,89,90,91,92,93,94,95,96,97,98,99,100],\"y\":[0.8086073398590088,1.5940461158752441,2.4027509689331055,3.139946937561035,3.910771131515503,4.722999095916748,5.517584562301636,6.290692090988159,7.045169115066528,7.802456617355347,8.571723222732544,9.34270453453064,10.110898494720459,10.845390796661377,11.629266023635864,12.43178391456604,13.210393190383911,14.03139591217041,14.792391777038574,15.562185049057007,16.343054056167603,17.125449657440186,17.862698793411255,18.643085479736328,19.417116403579712,20.252374172210693,21.038116931915283,21.824867248535156,22.647748470306396,23.445310354232788,24.21095371246338,25.033260583877563,25.786897897720337,26.567577123641968,27.358579397201538,28.115520477294922,28.884355783462524,29.62491536140442,30.469423532485962,31.176735401153564,31.941157341003418,32.76030683517456,33.503371238708496,34.23804426193237,35.057305097579956,35.80361032485962,36.5658905506134,37.35565757751465,38.16390514373779,38.91541361808777,39.653268575668335,40.41645789146423,41.15738034248352,41.90678930282593,42.73565697669983,43.47437810897827,44.26886057853699,45.02651619911194,45.779109477996826,46.53187656402588,47.28146243095398,48.079882860183716,48.853139877319336,49.64626908302307,50.469873905181885,51.240086793899536,51.984702587127686,52.73069214820862,53.50408148765564,54.27478909492493,55.055174112319946,55.83758997917175,56.654693365097046,57.489129304885864,58.27378726005554,59.061745405197144,59.8295419216156,60.60842418670654,61.376543283462524,62.13321018218994,62.91070914268494,63.678298473358154,64.45314502716064,65.2494387626648,66.00136399269104,66.80903124809265,67.60722017288208,68.39698791503906,69.19560623168945,69.93318343162537,70.74110317230225,71.54854965209961,72.3393247127533,73.06709289550781,73.83943367004395,74.59182000160217,75.37094020843506,76.14102792739868,76.889080286026,77.62347531318665,78.42610812187195],\"type\":\"scatter\",\"xaxis\":\"x\",\"yaxis\":\"y\"},{\"line\":{\"color\":\"blue\",\"width\":2},\"mode\":\"lines\",\"name\":\"Discrete QNG\",\"showlegend\":true,\"x\":[0,1,2,3,4,5,6,7,8,9,10,11,12,13,14,15,16,17,18,19,20,21,22,23,24,25,26,27,28,29,30,31,32,33,34,35,36,37,38,39,40,41,42,43,44,45,46,47,48,49,50,51,52,53,54,55,56,57,58,59,60,61,62,63,64,65,66,67,68,69,70,71,72,73,74,75,76,77,78,79,80,81,82,83,84,85,86,87,88,89,90,91,92,93,94,95,96,97,98,99,100],\"y\":[1.5432939529418945,3.1572604179382324,4.800334692001343,6.439603328704834,8.017333984375,9.592437028884888,11.199764251708984,12.891461849212646,14.440876722335815,16.09832239151001,17.658881425857544,19.27695083618164,20.868520736694336,22.501368761062622,24.09145712852478,25.63988423347473,27.192402362823486,28.785337448120117,30.3279709815979,31.909294605255127,33.52533030509949,35.17810273170471,36.81698560714722,38.390145778656006,40.06599307060242,41.62787318229675,43.17330622673035,44.75574326515198,46.27571940422058,47.84555697441101,49.45153307914734,51.069279193878174,52.629969120025635,54.19084596633911,55.796794176101685,57.3848934173584,58.993218421936035,60.73367524147034,62.30356168746948,63.896458864212036,65.43225765228271,67.01702904701233,68.58790493011475,70.12560987472534,71.69513511657715,73.24953627586365,74.80409479141235,76.38104677200317,77.98265671730042,79.61620831489563,81.19845032691956,82.84316325187683,84.39878940582275,86.06193709373474,87.69303393363953,89.26986765861511,90.88119673728943,92.48008346557617,94.08131051063538,95.66310405731201,97.22241020202637,98.77065515518188,100.31924295425415,101.88834571838379,103.45969700813293,105.07030963897705,106.83304619789124,108.43528890609741,110.08809852600098,111.64767360687256,113.19643306732178,114.82803583145142,116.3542263507843,117.94846844673157,119.5615119934082,121.18913269042969,122.74684858322144,124.28966403007507,125.82377767562866,127.38485169410706,128.93676590919495,130.5384910106659,132.15547847747803,133.7138388156891,135.24007081985474,136.8547511100769,138.38553261756897,140.04989314079285,141.6684513092041,143.20104956626892,144.78445267677307,146.34362983703613,147.9707453250885,149.68224453926086,151.26100969314575,152.86277151107788,154.397780418396,155.92971324920654,157.47784948349,159.12663912773132,160.70107245445251],\"type\":\"scatter\",\"xaxis\":\"x\",\"yaxis\":\"y\"},{\"line\":{\"color\":\"brown\",\"width\":2},\"mode\":\"lines\",\"name\":\"Discrete Newton Method\",\"showlegend\":true,\"x\":[0,1,2,3,4,5,6,7,8,9,10,11,12,13,14,15,16,17,18,19,20,21,22,23,24,25,26,27,28,29,30,31,32,33,34,35,36,37,38,39,40,41,42,43,44,45,46,47,48,49,50,51,52,53,54,55,56,57,58,59,60,61,62,63,64,65,66,67,68,69,70,71,72,73,74,75,76,77,78,79,80,81,82,83,84,85,86,87,88,89,90,91,92,93,94,95,96,97,98,99,100],\"y\":[2.1192915439605713,4.249751567840576,6.465992450714111,8.570303916931152,10.68367052078247,12.770412921905518,15.021371126174927,17.11535668373108,19.23863911628723,21.366509437561035,23.473047971725464,25.767529249191284,27.861581087112427,30.001413345336914,32.240989685058594,34.339229345321655,36.438775062561035,38.52030539512634,40.59751009941101,42.85802364349365,44.962883710861206,47.0851936340332,49.407379150390625,51.47747588157654,53.60852670669556,55.71282505989075,57.8176646232605,60.07109332084656,62.17431402206421,64.29662680625916,66.41124987602234,68.67694568634033,70.76082134246826,72.91868877410889,75.02832579612732,77.31196975708008,79.387047290802,81.49290013313293,83.56392526626587,85.83006620407104,88.01335906982422,90.15492653846741,92.25852346420288,94.61500263214111,96.80851006507874,98.89702677726746,101.0182466506958,103.33517503738403,105.46905827522278,107.56865501403809,109.77020788192749,111.96894311904907,114.26007509231567,116.47240781784058,118.62252569198608,120.70865774154663,123.00409507751465,125.06416034698486,127.18340015411377,129.3019757270813,131.60290813446045,133.71549487113953,135.87068390846252,138.01883673667908,140.20405840873718,142.50744700431824,144.62342023849487,146.78702235221863,148.88986444473267,151.13489365577698,153.2915334701538,155.40201210975647,157.54878401756287,159.84507369995117,161.92266941070557,163.99261450767517,166.13319206237793,168.42763495445251,170.50391101837158,172.6566948890686,174.76702451705933,176.92400193214417,179.2218143939972,181.32624459266663,183.41480040550232,185.58234405517578,187.8676130771637,190.10082077980042,192.28425097465515,194.3839509487152,196.68499612808228,198.80925607681274,200.97458124160767,203.11770153045654,205.30577158927917,207.57710075378418,209.68757033348083,211.8536958694458,213.942964553833,216.19080328941345,218.29251146316528],\"type\":\"scatter\",\"xaxis\":\"x\",\"yaxis\":\"y\"},{\"line\":{\"color\":\"red\",\"width\":2},\"name\":\"Discrete Parameter Shift\",\"showlegend\":false,\"x\":[0,1,2,3,4,5,6,7,8,9,10,11,12,13,14,15,16,17,18,19,20,21,22,23,24,25,26,27,28,29,30,31,32,33,34,35,36,37,38,39,40,41,42,43,44,45,46,47,48,49,50,51,52,53,54,55,56,57,58,59,60,61,62,63,64,65,66,67,68,69,70,71,72,73,74,75,76,77,78,79,80,81,82,83,84,85,86,87,88,89,90,91,92,93,94,95,96,97,98,99,100],\"y\":[1.4015922546386719,2.8839497566223145,4.322432518005371,5.792606592178345,7.236719608306885,8.646646976470947,10.040841102600098,11.469967603683472,12.86833381652832,14.246359586715698,15.639352798461914,16.99559259414673,18.464385271072388,19.853535175323486,21.275275468826294,22.672775506973267,24.086661338806152,25.480297803878784,26.91126823425293,28.340402364730835,29.785717248916626,31.22562527656555,32.69609618186951,34.06811499595642,35.49713373184204,36.97070360183716,38.376216650009155,39.78930616378784,41.213226079940796,42.65348672866821,44.03632164001465,45.468539237976074,46.88594603538513,48.33125615119934,49.74613380432129,51.129854917526245,52.66464042663574,54.145947217941284,55.577940940856934,57.02311038970947,58.423970222473145,59.84117150306702,61.229496717453,62.66328430175781,64.07135534286499,65.55120706558228,66.95921802520752,68.39926075935364,69.76305913925171,71.11082887649536,72.53073835372925,73.98923754692078,75.42647647857666,76.81248569488525,78.23362183570862,79.63988375663757,81.08626532554626,82.4921727180481,83.89643144607544,85.30696392059326,86.74306607246399,88.21686911582947,89.61069202423096,91.03200626373291,92.41919732093811,93.85630321502686,95.2559826374054,96.73872351646423,98.13100028038025,99.53473854064941,100.90635895729065,102.32913708686829,103.76203179359436,105.15449786186218,106.53175926208496,107.91805171966553,109.34729933738708,110.87544918060303,112.28072333335876,113.68255758285522,115.07653498649597,116.48240542411804,117.92512941360474,119.34927582740784,120.78799033164978,122.22972273826599,123.65296697616577,125.0505256652832,126.47160649299622,127.90277171134949,129.2666881084442,130.74488997459412,132.1085832118988,133.5084297657013,134.98955011367798,136.41870284080505,137.80594038963318,139.19986748695374,140.66369318962097,142.11555171012878,143.55707097053528],\"type\":\"scatter\",\"xaxis\":\"x2\",\"yaxis\":\"y2\"},{\"line\":{\"color\":\"green\",\"width\":2},\"mode\":\"lines\",\"name\":\"Discrete Finite Difference\",\"showlegend\":false,\"x\":[0,1,2,3,4,5,6,7,8,9,10,11,12,13,14,15,16,17,18,19,20,21,22,23,24,25,26,27,28,29,30,31,32,33,34,35,36,37,38,39,40,41,42,43,44,45,46,47,48,49,50,51,52,53,54,55,56,57,58,59,60,61,62,63,64,65,66,67,68,69,70,71,72,73,74,75,76,77,78,79,80,81,82,83,84,85,86,87,88,89,90,91,92,93,94,95,96,97,98,99,100],\"y\":[1.3815999031066895,2.838862419128418,4.285189628601074,5.704761981964111,7.091014623641968,8.495688438415527,9.876062393188477,11.266823530197144,12.680478811264038,14.107296466827393,15.468080282211304,16.87165069580078,18.27276849746704,19.667897939682007,21.13114309310913,22.536186695098877,23.99492835998535,25.35902190208435,26.767284393310547,28.212239027023315,29.60713791847229,31.062547206878662,32.48453068733215,33.89910387992859,35.33093500137329,36.72529745101929,38.13355803489685,39.56228756904602,40.95246863365173,42.34434652328491,43.82432794570923,45.223010778427124,46.739081144332886,48.120882987976074,49.567574977874756,50.972949504852295,52.41741919517517,53.85532855987549,55.26404905319214,56.83009171485901,58.181124448776245,59.57537293434143,60.96363949775696,62.34756851196289,63.75711107254028,65.1810245513916,66.60952281951904,68.02374053001404,69.37297558784485,70.78371834754944,72.1703360080719,73.63102149963379,75.07841992378235,76.51019597053528,77.96111941337585,79.37028121948242,80.85134220123291,82.2860164642334,83.67915678024292,85.06548023223877,86.48762273788452,87.89818549156189,89.32476568222046,90.77318620681763,92.21064591407776,93.63702487945557,95.0790183544159,96.4549491405487,97.89471387863159,99.34536695480347,100.79070138931274,102.25909233093262,103.6227674484253,105.06438517570496,106.43205308914185,107.86330342292786,109.23458576202393,110.5792784690857,111.94111204147339,113.50290107727051,114.93025636672974,116.31099724769592,117.68009543418884,119.07935571670532,120.47058534622192,121.86210799217224,123.27429127693176,124.7051465511322,126.1282570362091,127.52154755592346,128.88918948173523,130.32330012321472,131.77148175239563,133.2355601787567,134.67957091331482,136.11296963691711,137.51917386054993,138.95036149024963,140.36339139938354,141.77097535133362,143.1725845336914],\"type\":\"scatter\",\"xaxis\":\"x2\",\"yaxis\":\"y2\"},{\"line\":{\"color\":\"yellow\",\"width\":2},\"mode\":\"lines\",\"name\":\"Discrete LCU\",\"showlegend\":false,\"x\":[0,1,2,3,4,5,6,7,8,9,10,11,12,13,14,15,16,17,18,19,20,21,22,23,24,25,26,27,28,29,30,31,32,33,34,35,36,37,38,39,40,41,42,43,44,45,46,47,48,49,50,51,52,53,54,55,56,57,58,59,60,61,62,63,64,65,66,67,68,69,70,71,72,73,74,75,76,77,78,79,80,81,82,83,84,85,86,87,88,89,90,91,92,93,94,95,96,97,98,99,100],\"y\":[0.826740026473999,1.6456875801086426,2.4325833320617676,3.2331302165985107,4.0826592445373535,4.929637908935547,5.738888502120972,6.543100357055664,7.326332092285156,8.123404026031494,8.90641450881958,9.735248327255249,10.56676721572876,11.366331100463867,12.163437604904175,12.935645580291748,13.7786226272583,14.58471941947937,15.36212944984436,16.171310901641846,17.04940390586853,17.90694284439087,18.685394525527954,19.46613335609436,20.27059578895569,21.01649498939514,21.78881335258484,22.57784390449524,23.365996837615967,24.205973386764526,25.0052170753479,25.79860544204712,26.5767924785614,27.385167598724365,28.14889430999756,28.925392866134644,29.6925151348114,30.453222036361694,31.27017831802368,32.09011888504028,32.89549493789673,33.68980002403259,34.45628213882446,35.28781795501709,36.1101233959198,36.92095184326172,37.72357892990112,38.47670292854309,39.30184841156006,40.156781911849976,40.95909571647644,41.794206619262695,42.56625270843506,43.36874437332153,44.21917009353638,45.0301616191864,45.78316330909729,46.60189390182495,47.36924433708191,48.180283308029175,49.00192093849182,49.808324337005615,50.62002396583557,51.40110111236572,52.16247606277466,52.99724531173706,53.84533882141113,54.635982513427734,55.420997619628906,56.22751235961914,56.9889931678772,57.80813407897949,58.644951581954956,59.42226481437683,60.205944776535034,60.98100996017456,61.79027605056763,62.592653036117554,63.369428396224976,64.15889644622803,64.94100737571716,65.79164958000183,66.58115363121033,67.41664052009583,68.2616879940033,69.07536244392395,69.91088008880615,70.74526643753052,71.55123567581177,72.3492329120636,73.11620688438416,73.9425642490387,74.7368094921112,75.5495274066925,76.28801107406616,77.06266617774963,77.86568093299866,78.61740446090698,79.41293835639954,80.22927379608154,81.05798316001892],\"type\":\"scatter\",\"xaxis\":\"x2\",\"yaxis\":\"y2\"},{\"line\":{\"color\":\"blue\",\"width\":2},\"mode\":\"lines\",\"name\":\"Discrete QNG\",\"showlegend\":false,\"x\":[0,1,2,3,4,5,6,7,8,9,10,11,12,13,14,15,16,17,18,19,20,21,22,23,24,25,26,27,28,29,30,31,32,33,34,35,36,37,38,39,40,41,42,43,44,45,46,47,48,49,50,51,52,53,54,55,56,57,58,59,60,61,62,63,64,65,66,67,68,69,70,71,72,73,74,75,76,77,78,79,80,81,82,83,84,85,86,87,88,89,90,91,92,93,94,95,96,97,98,99,100],\"y\":[1.5928173065185547,3.18699049949646,4.720214128494263,6.264146566390991,7.832828521728516,9.45301103591919,11.039636850357056,12.619370222091675,14.258111238479614,15.860085248947144,17.486767053604126,19.1410014629364,20.725940704345703,22.376726865768433,23.934114694595337,25.55864381790161,27.188233137130737,28.799773931503296,30.394399642944336,31.991439819335938,33.57268977165222,35.146986961364746,36.72235941886902,38.37206768989563,39.967570066452026,41.564162731170654,43.17286229133606,44.743369340896606,46.48551964759827,48.0700318813324,49.71379828453064,51.372806787490845,52.99853730201721,54.59063100814819,56.209731578826904,57.790762424468994,59.387563943862915,60.944772243499756,62.52222657203674,64.10843110084534,65.72480368614197,67.34138488769531,68.95228886604309,70.59156250953674,72.20666337013245,73.82237720489502,75.45596408843994,77.0892653465271,78.76255059242249,80.41290879249573,82.05770587921143,83.63114047050476,85.2196033000946,86.78614521026611,88.37946796417236,90.00945043563843,91.58959579467773,93.35666847229004,94.99705934524536,96.6142373085022,98.20664525032043,99.78140759468079,101.40708780288696,103.09117245674133,104.741534948349,106.35911011695862,107.94999551773071,109.53481459617615,111.1528890132904,112.76107430458069,114.35555291175842,115.96884179115295,117.52659916877747,119.12331175804138,120.71595525741577,122.36690020561218,123.89415001869202,125.51974153518677,127.16482210159302,128.7776162624359,130.39034008979797,131.9580466747284,133.60894322395325,135.1825361251831,136.7439513206482,138.34228491783142,140.1364929676056,141.71945786476135,143.2949755191803,144.92218327522278,146.5396044254303,148.1465950012207,149.69041919708252,151.2874631881714,152.84597873687744,154.46050906181335,156.02682900428772,157.58138608932495,159.13671898841858,160.71048521995544,162.33142042160034],\"type\":\"scatter\",\"xaxis\":\"x2\",\"yaxis\":\"y2\"},{\"line\":{\"color\":\"brown\",\"width\":2},\"mode\":\"lines\",\"name\":\"Discrete Newton Method\",\"showlegend\":false,\"x\":[0,1,2,3,4,5,6,7,8,9,10,11,12,13,14,15,16,17,18,19,20,21,22,23,24,25,26,27,28,29,30,31,32,33,34,35,36,37,38,39,40,41,42,43,44,45,46,47,48,49,50,51,52,53,54,55,56,57,58,59,60,61,62,63,64,65,66,67,68,69,70,71,72,73,74,75,76,77,78,79,80,81,82,83,84,85,86,87,88,89,90,91,92,93,94,95,96,97,98,99,100],\"y\":[2.1642746925354004,4.488870143890381,6.6781346797943115,9.014187574386597,11.254570007324219,13.479769706726074,15.682406425476074,17.995504140853882,20.142120361328125,22.307807445526123,24.421299934387207,26.56885600090027,28.80038571357727,30.946943283081055,33.03934192657471,35.16952729225159,37.55989980697632,39.6426146030426,41.84093236923218,44.11242461204529,46.31956934928894,48.475417613983154,50.58270978927612,52.761337995529175,55.101179122924805,57.28530979156494,59.40775489807129,61.54827618598938,63.854283571243286,65.99631476402283,68.15326833724976,70.33485794067383,72.68312168121338,74.86029386520386,77.00237584114075,79.22008299827576,81.45444989204407,83.5681505203247,85.64345335960388,87.816725730896,90.15282702445984,92.2883231639862,94.4139928817749,96.56556606292725,98.82378101348877,101.03633332252502,103.18544888496399,105.37689638137817,107.68237805366516,109.83275413513184,111.95424556732178,114.07533407211304,116.39420247077942,118.57151913642883,120.69895005226135,122.80276417732239,125.14253306388855,127.30096316337585,129.46978497505188,131.6427731513977,133.9323537349701,136.12182331085205,138.36339712142944,140.49337697029114,142.82979369163513,144.9453945159912,147.14686608314514,149.30124926567078,151.39765214920044,153.69538760185242,155.8645899295807,158.03769421577454,160.40552639961243,162.54237961769104,164.71725010871887,166.9391520023346,169.0885293483734,171.47186470031738,173.69613528251648,175.8444118499756,177.9823296070099,180.27760124206543,182.46494460105896,184.61309361457825,186.79827761650085,189.16780996322632,191.3526976108551,193.5211250782013,195.80377078056335,197.9336769580841,200.09349846839905,202.25847816467285,204.55541157722473,206.65879654884338,208.84746026992798,211.00813102722168,213.1475305557251,215.50055932998657,217.6224865913391,219.75093913078308,221.9228835105896],\"type\":\"scatter\",\"xaxis\":\"x2\",\"yaxis\":\"y2\"},{\"line\":{\"color\":\"red\",\"width\":2},\"name\":\"Discrete Parameter Shift\",\"showlegend\":false,\"x\":[0,1,2,3,4,5,6,7,8,9,10,11,12,13,14,15,16,17,18,19,20,21,22,23,24,25,26,27,28,29,30,31,32,33,34,35,36,37,38,39,40,41,42,43,44,45,46,47,48,49,50,51,52,53,54,55,56,57,58,59,60,61,62,63,64,65,66,67,68,69,70,71,72,73,74,75,76,77,78,79,80,81,82,83,84,85,86,87,88,89,90,91,92,93,94,95,96,97,98,99,100],\"y\":[1.4085931777954102,2.8070871829986572,4.1692955493927,5.575132131576538,6.958287000656128,8.358933210372925,9.824604511260986,11.185399770736694,12.616631984710693,14.02540373802185,15.430781364440918,16.857364892959595,18.26717758178711,19.682365894317627,21.12464928627014,22.482903003692627,23.923208475112915,25.30305314064026,26.637157201766968,28.091960906982422,29.479469299316406,30.939337968826294,32.3362238407135,33.73027181625366,35.1478157043457,36.55572557449341,38.0414342880249,39.431041955947876,40.83650803565979,42.26400089263916,43.6625030040741,45.24235153198242,46.669676542282104,48.107415437698364,49.519017696380615,50.88285994529724,52.2730073928833,53.652716398239136,55.06053042411804,56.4194552898407,57.80137038230896,59.203880071640015,60.5831196308136,62.046170711517334,63.45224857330322,64.89248466491699,66.26587510108948,67.63401889801025,69.04054427146912,70.39142537117004,71.7989866733551,73.18018174171448,74.58327770233154,76.00989699363708,77.39990592002869,78.80042910575867,80.22512125968933,81.62384414672852,83.0677797794342,84.49889087677002,85.9199161529541,87.35406303405762,88.77243256568909,90.20130014419556,91.60092258453369,93.07417488098145,94.49971413612366,95.90515542030334,97.31864619255066,98.7463366985321,100.18104290962219,101.65190649032593,103.20311784744263,104.66069531440735,106.03237795829773,107.42798781394958,108.80631947517395,110.20301270484924,111.643639087677,113.06215023994446,114.49036598205566,115.87760186195374,117.23892045021057,118.5836992263794,119.99675440788269,121.39694309234619,122.87927532196045,124.29606342315674,125.70663952827454,127.11182308197021,128.51928567886353,129.96590328216553,131.39969182014465,132.7774531841278,134.17051076889038,135.53176093101501,136.950421333313,138.2991373538971,139.74147248268127,141.14130687713623,142.55027055740356],\"type\":\"scatter\",\"xaxis\":\"x3\",\"yaxis\":\"y3\"},{\"line\":{\"color\":\"green\",\"width\":2},\"mode\":\"lines\",\"name\":\"Discrete Finite Difference\",\"showlegend\":false,\"x\":[0,1,2,3,4,5,6,7,8,9,10,11,12,13,14,15,16,17,18,19,20,21,22,23,24,25,26,27,28,29,30,31,32,33,34,35,36,37,38,39,40,41,42,43,44,45,46,47,48,49,50,51,52,53,54,55,56,57,58,59,60,61,62,63,64,65,66,67,68,69,70,71,72,73,74,75,76,77,78,79,80,81,82,83,84,85,86,87,88,89,90,91,92,93,94,95,96,97,98,99,100],\"y\":[1.3966972827911377,2.8602709770202637,4.289719343185425,5.658858060836792,7.07220721244812,8.484752655029297,9.906949520111084,11.336020946502686,12.719133853912354,14.257169008255005,15.694472789764404,17.097793340682983,18.523608446121216,19.875685930252075,21.24085021018982,22.64640164375305,23.989153385162354,25.34242820739746,26.76006007194519,28.123612880706787,29.578681707382202,31.021272659301758,32.434688568115234,33.849191188812256,35.240806341171265,36.62590289115906,38.04959511756897,39.481313943862915,40.88977265357971,42.266478061676025,43.64977025985718,45.07594418525696,46.4829318523407,47.911439418792725,49.32299590110779,50.71889138221741,52.12385177612305,53.493157625198364,54.87972450256348,56.24515414237976,57.64089608192444,59.066590785980225,60.4643177986145,61.92237305641174,63.41695737838745,64.80910086631775,66.18779826164246,67.62751793861389,69.03995776176453,70.47276282310486,72.02079319953918,73.41235065460205,74.83544063568115,76.26874685287476,77.62844109535217,79.06722116470337,80.48631119728088,81.90085124969482,83.28570222854614,84.64623880386353,86.06162357330322,87.47755336761475,88.88621020317078,90.25990080833435,91.66770100593567,93.02056789398193,94.44170212745667,95.82610058784485,97.19948840141296,98.59635519981384,100.0155816078186,101.44536662101746,102.8305721282959,104.23344826698303,105.66968250274658,107.08808922767639,108.5595977306366,110.00827026367188,111.43913960456848,112.84401750564575,114.25648498535156,115.64812111854553,117.01565384864807,118.39053726196289,119.75824570655823,121.1828248500824,122.61446118354797,124.0300805568695,125.43964791297913,126.85023736953735,128.3883662223816,129.7808380126953,131.16315698623657,132.60242009162903,134.02140855789185,135.39159297943115,136.8581326007843,138.23145604133606,139.66774773597717,141.04002571105957,142.39054203033447],\"type\":\"scatter\",\"xaxis\":\"x3\",\"yaxis\":\"y3\"},{\"line\":{\"color\":\"yellow\",\"width\":2},\"mode\":\"lines\",\"name\":\"Discrete LCU\",\"showlegend\":false,\"x\":[0,1,2,3,4,5,6,7,8,9,10,11,12,13,14,15,16,17,18,19,20,21,22,23,24,25,26,27,28,29,30,31,32,33,34,35,36,37,38,39,40,41,42,43,44,45,46,47,48,49,50,51,52,53,54,55,56,57,58,59,60,61,62,63,64,65,66,67,68,69,70,71,72,73,74,75,76,77,78,79,80,81,82,83,84,85,86,87,88,89,90,91,92,93,94,95,96,97,98,99,100],\"y\":[0.831324577331543,1.6907720565795898,2.4767391681671143,3.249788522720337,4.049551963806152,4.846758604049683,5.670364618301392,6.460998773574829,7.27098274230957,8.08112621307373,8.915294885635376,9.745734453201294,10.585628509521484,11.395900964736938,12.1839919090271,13.00671648979187,13.824877738952637,14.634656190872192,15.475913286209106,16.247776985168457,17.04038405418396,17.906296730041504,18.710828065872192,19.47346043586731,20.286445140838623,21.07135558128357,21.887112855911255,22.690536737442017,23.457340240478516,24.210108995437622,24.98932719230652,25.78945779800415,26.54131317138672,27.31686782836914,28.111366987228394,28.918408632278442,29.70519518852234,30.512847185134888,31.27453851699829,32.05159544944763,32.843302965164185,33.67779803276062,34.44801926612854,35.23383688926697,36.05428910255432,36.893168449401855,37.82373547554016,38.66072630882263,39.466585874557495,40.28902888298035,41.12212061882019,41.92426538467407,42.713563442230225,43.488391160964966,44.27144527435303,45.09234857559204,45.941746950149536,46.785462617874146,47.52898192405701,48.30199456214905,49.08778643608093,49.91442799568176,50.74331188201904,51.54040813446045,52.336389780044556,53.10495710372925,53.910799980163574,54.6874053478241,55.44396996498108,56.259137868881226,57.03873634338379,57.85208225250244,58.70302224159241,59.47993302345276,60.27225661277771,61.12184476852417,61.909836292266846,62.69865798950195,63.504921197891235,64.2959532737732,65.16362833976746,66.04316878318787,66.84636616706848,67.65605878829956,68.45647192001343,69.23093008995056,70.07734227180481,70.84417772293091,71.6146342754364,72.39664936065674,73.22825050354004,74.02477502822876,74.82055735588074,75.56348919868469,76.30963134765625,77.07310771942139,77.86055135726929,78.64822006225586,79.40427613258362,80.24625015258789,81.100665807724],\"type\":\"scatter\",\"xaxis\":\"x3\",\"yaxis\":\"y3\"},{\"line\":{\"color\":\"blue\",\"width\":2},\"mode\":\"lines\",\"name\":\"Discrete QNG\",\"showlegend\":false,\"x\":[0,1,2,3,4,5,6,7,8,9,10,11,12,13,14,15,16,17,18,19,20,21,22,23,24,25,26,27,28,29,30,31,32,33,34,35,36,37,38,39,40,41,42,43,44,45,46,47,48,49,50,51,52,53,54,55,56,57,58,59,60,61,62,63,64,65,66,67,68,69,70,71,72,73,74,75,76,77,78,79,80,81,82,83,84,85,86,87,88,89,90,91,92,93,94,95,96,97,98,99,100],\"y\":[1.6416447162628174,3.226085901260376,4.8321373462677,6.488701343536377,8.088722705841064,9.745359420776367,11.307795524597168,12.913293361663818,14.526895761489868,16.14962935447693,17.80515480041504,19.515650987625122,21.108524560928345,22.65832018852234,24.237018585205078,25.868717432022095,27.492727518081665,29.0813946723938,30.6914541721344,32.28192734718323,33.89268255233765,35.50241303443909,37.24241542816162,38.86855745315552,40.458704710006714,42.07927680015564,43.62075901031494,45.191455364227295,46.74859118461609,48.29339385032654,49.8339056968689,51.48643922805786,53.075374364852905,54.689419746398926,56.31290030479431,57.96774363517761,59.55887031555176,61.16775918006897,62.757697343826294,64.42387557029724,66.06470942497253,67.66703844070435,69.31423568725586,70.88026094436646,72.47722935676575,74.07605457305908,75.72094631195068,77.39704298973083,78.9641854763031,80.55849766731262,82.11694169044495,83.91727256774902,85.54278707504272,87.16016745567322,88.78631854057312,90.3752589225769,91.98191666603088,93.6589286327362,95.27171182632446,96.87912273406982,98.48918271064758,100.09249091148376,101.73631739616394,103.34696936607361,104.92022228240967,106.51821827888489,108.16293120384216,109.7861979007721,111.41012787818909,113.02944469451904,114.59668922424316,116.23855352401733,117.83836674690247,119.5209002494812,121.1457142829895,122.73027420043945,124.35323309898376,125.97228670120239,127.65594410896301,129.28338956832886,131.01197743415833,132.64913129806519,134.25393342971802,135.88415503501892,137.51177716255188,139.20750975608826,140.80157732963562,142.4311981201172,144.00427103042603,145.61500644683838,147.17387533187866,148.7571005821228,150.35869002342224,151.92911577224731,153.4574589729309,155.03051018714905,156.6909637451172,158.23666644096375,159.8573236465454,161.42468237876892,162.99658823013306],\"type\":\"scatter\",\"xaxis\":\"x3\",\"yaxis\":\"y3\"},{\"line\":{\"color\":\"brown\",\"width\":2},\"mode\":\"lines\",\"name\":\"Discrete Newton Method\",\"showlegend\":false,\"x\":[0,1,2,3,4,5,6,7,8,9,10,11,12,13,14,15,16,17,18,19,20,21,22,23,24,25,26,27,28,29,30,31,32,33,34,35,36,37,38,39,40,41,42,43,44,45,46,47,48,49,50,51,52,53,54,55,56,57,58,59,60,61,62,63,64,65,66,67,68,69,70,71,72,73,74,75,76,77,78,79,80,81,82,83,84,85,86,87,88,89,90,91,92,93,94,95,96,97,98,99,100],\"y\":[2.1875195503234863,4.348736047744751,6.524776458740234,8.837449550628662,10.979267835617065,13.171814203262329,15.272971868515015,17.5280122756958,19.642326831817627,21.874871492385864,23.982807636260986,26.288363456726074,28.389380931854248,30.52023696899414,32.67967748641968,34.82005190849304,37.15014839172363,39.27830696105957,41.45225262641907,43.76935958862305,45.9217848777771,48.092543840408325,50.23156213760376,52.35538339614868,54.63578534126282,56.81043195724487,58.971572399139404,61.25071144104004,63.396379470825195,65.52788877487183,67.7380108833313,69.93452167510986,72.3340334892273,74.44684481620789,76.63385939598083,78.77224016189575,81.12187099456787,83.256183385849,85.47557473182678,87.5825080871582,89.92972445487976,92.08368372917175,94.27982807159424,96.40460062026978,98.52277421951294,100.83560752868652,102.98072147369385,105.12224221229553,107.31558513641357,109.65226578712463,111.78463864326477,113.97456216812134,116.16552186012268,118.47970986366272,120.64078140258789,122.79370045661926,125.01228761672974,127.3768060207367,129.54786586761475,131.77258777618408,133.89749336242676,136.20783615112305,138.42535996437073,140.6094572544098,142.80195331573486,145.10913276672363,147.33681273460388,149.56620478630066,151.69733023643494,153.85007405281067,156.2181944847107,158.35574221611023,160.4991912841797,162.63922953605652,164.9879651069641,167.12668347358704,169.32987570762634,171.6465790271759,173.78754425048828,175.95322632789612,178.10393047332764,180.46656012535095,182.59681010246277,184.79621982574463,186.93703150749207,189.25943756103516,191.44406008720398,193.58831596374512,195.76385402679443,198.11941981315613,200.26064157485962,202.4080309867859,204.58293628692627,206.90690207481384,209.1359658241272,211.30226397514343,213.4645323753357,215.79231333732605,217.96586346626282,220.14368772506714,222.25293064117432],\"type\":\"scatter\",\"xaxis\":\"x3\",\"yaxis\":\"y3\"},{\"line\":{\"color\":\"red\",\"width\":2},\"name\":\"Discrete Parameter Shift\",\"showlegend\":false,\"x\":[0,1,2,3,4,5,6,7,8,9,10,11,12,13,14,15,16,17,18,19,20,21,22,23,24,25,26,27,28,29,30,31,32,33,34,35,36,37,38,39,40,41,42,43,44,45,46,47,48,49,50,51,52,53,54,55,56,57,58,59,60,61,62,63,64,65,66,67,68,69,70,71,72,73,74,75,76,77,78,79,80,81,82,83,84,85,86,87,88,89,90,91,92,93,94,95,96,97,98,99,100],\"y\":[1.5250353813171387,3.0678603649139404,4.632037401199341,6.166526794433594,7.87899112701416,9.417855739593506,10.938438415527344,12.500431060791016,14.065654039382935,15.564549922943115,17.16460943222046,18.705941915512085,20.272420406341553,21.806476354599,23.336079597473145,24.871456146240234,26.393053770065308,27.937145471572876,29.46207618713379,31.004651069641113,32.53656363487244,34.09082889556885,35.6103777885437,37.15070939064026,38.65402865409851,40.17529058456421,41.704437494277954,43.231491804122925,44.81860089302063,46.34859776496887,47.825265884399414,49.37924885749817,50.89937925338745,52.41200876235962,53.91289210319519,55.46770787239075,57.02176308631897,58.54125642776489,60.060951232910156,61.600406885147095,63.107216119766235,64.6517403125763,66.37502074241638,67.89650750160217,69.42477035522461,70.96125340461731,72.50482749938965,74.04528570175171,75.53172516822815,77.11278009414673,78.60370588302612,80.19640827178955,81.74000954627991,83.29913568496704,84.8130235671997,86.35379147529602,87.86648392677307,89.3628363609314,90.86080646514893,92.42715907096863,93.88693714141846,95.45293188095093,96.97073030471802,98.44490647315979,99.98772740364075,101.52658700942993,103.01932978630066,104.54335522651672,106.05731654167175,107.59873580932617,109.10348320007324,110.5943591594696,112.13526225090027,113.60969519615173,115.11711430549622,116.60236024856567,118.13093543052673,119.6497631072998,121.14775109291077,122.8016710281372,124.3361713886261,125.84643006324768,127.35170340538025,128.86301803588867,130.35348629951477,131.85873746871948,133.41148853302002,134.91001272201538,136.48579502105713,137.99244785308838,139.51309490203857,141.02237176895142,142.55409026145935,144.05496859550476,145.55914616584778,147.10755443572998,148.58619832992554,150.10620760917664,151.6320502758026,153.21255779266357,154.6945996284485],\"type\":\"scatter\",\"xaxis\":\"x4\",\"yaxis\":\"y4\"},{\"line\":{\"color\":\"green\",\"width\":2},\"mode\":\"lines\",\"name\":\"Discrete Finite Difference\",\"showlegend\":false,\"x\":[0,1,2,3,4,5,6,7,8,9,10,11,12,13,14,15,16,17,18,19,20,21,22,23,24,25,26,27,28,29,30,31,32,33,34,35,36,37,38,39,40,41,42,43,44,45,46,47,48,49,50,51,52,53,54,55,56,57,58,59,60,61,62,63,64,65,66,67,68,69,70,71,72,73,74,75,76,77,78,79,80,81,82,83,84,85,86,87,88,89,90,91,92,93,94,95,96,97,98,99,100],\"y\":[1.5134880542755127,3.0663397312164307,4.581948518753052,6.135668039321899,7.6504881381988525,9.185101509094238,10.705158710479736,12.22201919555664,13.817593336105347,15.330511808395386,16.846243381500244,18.363576650619507,19.856471061706543,21.397239446640015,22.95902109146118,24.49220085144043,25.986759901046753,27.475101947784424,29.109808444976807,30.69693660736084,32.25348472595215,33.810378313064575,35.32167601585388,36.83646297454834,38.393296003341675,39.91257977485657,41.413360357284546,42.990883111953735,44.507556676864624,46.01757311820984,47.50486612319946,49.02981781959534,50.56061410903931,52.0827853679657,53.60498666763306,55.17863488197327,56.68385696411133,58.21075415611267,59.726752281188965,61.27702307701111,62.833749771118164,64.41748046875,65.91828870773315,67.45909571647644,68.9961462020874,70.51008224487305,72.01619052886963,73.55414581298828,75.08445143699646,76.69548296928406,78.17803835868835,79.70209527015686,81.21140909194946,82.68995904922485,84.27592515945435,85.79786515235901,87.28544759750366,88.9906358718872,90.52768802642822,92.11510610580444,93.62710809707642,95.20759081840515,96.7386405467987,98.26465201377869,99.79810905456543,101.31962490081787,102.81882119178772,104.30092597007751,105.81959843635559,107.33487939834595,108.86122941970825,110.36605644226074,111.87885355949402,113.33709287643433,114.87878751754761,116.47095918655396,118.0012412071228,119.51734900474548,121.07110667228699,122.675302028656,124.26802253723145,125.75871753692627,127.24929285049438,128.73789238929749,130.23256707191467,131.80790781974792,133.3298077583313,134.88433241844177,136.38590383529663,137.91269326210022,139.41685271263123,140.9600350856781,142.44639492034912,143.94352436065674,145.44603443145752,146.98908185958862,148.62319612503052,150.16114473342896,151.7054386138916,153.2441051006317,154.77773308753967],\"type\":\"scatter\",\"xaxis\":\"x4\",\"yaxis\":\"y4\"},{\"line\":{\"color\":\"yellow\",\"width\":2},\"mode\":\"lines\",\"name\":\"Discrete LCU\",\"showlegend\":false,\"x\":[0,1,2,3,4,5,6,7,8,9,10,11,12,13,14,15,16,17,18,19,20,21,22,23,24,25,26,27,28,29,30,31,32,33,34,35,36,37,38,39,40,41,42,43,44,45,46,47,48,49,50,51,52,53,54,55,56,57,58,59,60,61,62,63,64,65,66,67,68,69,70,71,72,73,74,75,76,77,78,79,80,81,82,83,84,85,86,87,88,89,90,91,92,93,94,95,96,97,98,99,100],\"y\":[0.850395679473877,1.7881107330322266,2.6435725688934326,3.5359349250793457,4.396014213562012,5.30772066116333,6.168822288513184,7.04494047164917,7.930455207824707,8.772160530090332,9.645891427993774,10.50261640548706,11.350388765335083,12.2002592086792,13.064860105514526,13.969969272613525,14.840407371520996,15.667338609695435,16.499449968338013,17.381516933441162,18.25290083885193,19.128314971923828,20.01045513153076,20.892261505126953,21.730781078338623,22.67673921585083,23.500622272491455,24.347031116485596,25.184391736984253,26.045552492141724,26.897947311401367,27.811081647872925,28.677943229675293,29.512704372406006,30.357253789901733,31.24907612800598,32.08100700378418,32.95122480392456,33.8293571472168,34.6931586265564,35.58806490898132,36.45112156867981,37.33317708969116,38.157256841659546,39.034982681274414,39.876993894577026,40.71247720718384,41.57342720031738,42.42725729942322,43.34645676612854,44.25664162635803,45.120017528533936,45.973058462142944,46.89723086357117,47.77109622955322,48.61976099014282,49.5124831199646,50.36507320404053,51.221975326538086,52.072054386138916,52.89952850341797,53.82244944572449,54.699220418930054,55.53235483169556,56.437169790267944,57.351322889328,58.21510982513428,59.06803369522095,59.968125343322754,60.858548402786255,61.69583177566528,62.54803514480591,63.424999952316284,64.31875872612,65.16088056564331,66.01593279838562,66.886971950531,67.73081922531128,68.58794832229614,69.4421181678772,70.27665138244629,71.1667308807373,72.06764101982117,72.94726848602295,73.83838701248169,74.73462510108948,75.60936331748962,76.42265439033508,77.26637554168701,78.0842514038086,78.93012237548828,79.84145140647888,80.69864392280579,81.5347011089325,82.37861847877502,83.24221920967102,84.09699296951294,84.98935008049011,85.87502956390381,86.70751810073853,87.60697746276855],\"type\":\"scatter\",\"xaxis\":\"x4\",\"yaxis\":\"y4\"},{\"line\":{\"color\":\"blue\",\"width\":2},\"mode\":\"lines\",\"name\":\"Discrete QNG\",\"showlegend\":false,\"x\":[0,1,2,3,4,5,6,7,8,9,10,11,12,13,14,15,16,17,18,19,20,21,22,23,24,25,26,27,28,29,30,31,32,33,34,35,36,37,38,39,40,41,42,43,44,45,46,47,48,49,50,51,52,53,54,55,56,57,58,59,60,61,62,63,64,65,66,67,68,69,70,71,72,73,74,75,76,77,78,79,80,81,82,83,84,85,86,87,88,89,90,91,92,93,94,95,96,97,98,99,100],\"y\":[1.752225637435913,3.5409224033355713,5.253308296203613,6.965713739395142,8.693134546279907,10.468532800674438,12.170384883880615,13.85480785369873,15.579108476638794,17.316521167755127,18.978891134262085,20.675720930099487,22.407193899154663,24.219624042510986,25.92180037498474,27.656126260757446,29.448355436325073,31.163381814956665,32.84274339675903,34.56404185295105,36.25620889663696,37.95536422729492,39.707221031188965,41.40490698814392,43.08883023262024,44.83727049827576,46.542155504226685,48.249226808547974,49.911760568618774,51.678611755371094,53.40913105010986,55.17146587371826,56.82196354866028,58.54830741882324,60.244733810424805,61.91987180709839,63.603315353393555,65.31770992279053,67.02191615104675,68.76248788833618,70.51171064376831,72.40766334533691,74.07012581825256,75.72254467010498,77.43760704994202,79.11925840377808,80.79604482650757,82.52853870391846,84.25573921203613,85.95941090583801,87.73641443252563,89.510507106781,91.19986605644226,92.89536380767822,94.58589839935303,96.32550477981567,98.08134484291077,99.81671118736267,101.56546759605408,103.26422834396362,104.95832800865173,106.69805240631104,108.41730403900146,110.10658144950867,111.80983829498291,113.5832748413086,115.3233003616333,116.98287272453308,118.67492389678955,120.3531563282013,122.12540912628174,123.80595898628235,125.54193162918091,127.28146433830261,128.97836065292358,130.68482732772827,132.4045855998993,134.14014291763306,135.86190223693848,137.60360050201416,139.30401277542114,141.0417251586914,142.7618978023529,144.50505828857422,146.26616144180298,147.9519374370575,149.67474150657654,151.40245842933655,153.11406636238098,154.83112859725952,156.61022686958313,158.3459346294403,160.03445267677307,161.7220642566681,163.47406458854675,165.1989278793335,166.93709087371826,168.5680763721466,170.43279767036438,172.16433954238892,173.82199907302856],\"type\":\"scatter\",\"xaxis\":\"x4\",\"yaxis\":\"y4\"},{\"line\":{\"color\":\"brown\",\"width\":2},\"mode\":\"lines\",\"name\":\"Discrete Newton Method\",\"showlegend\":false,\"x\":[0,1,2,3,4,5,6,7,8,9,10,11,12,13,14,15,16,17,18,19,20,21,22,23,24,25,26,27,28,29,30,31,32,33,34,35,36,37,38,39,40,41,42,43,44,45,46,47,48,49,50,51,52,53,54,55,56,57,58,59,60,61,62,63,64,65,66,67,68,69,70,71,72,73,74,75,76,77,78,79,80,81,82,83,84,85,86,87,88,89,90,91,92,93,94,95,96,97,98,99,100],\"y\":[2.299534797668457,4.764944076538086,7.050419807434082,9.38773226737976,11.696796894073486,14.15389370918274,16.487743616104126,18.75705099105835,21.023224115371704,23.503128051757812,25.72807288169861,28.012483596801758,30.36066484451294,32.66721153259277,35.12640023231506,37.39514470100403,39.69848084449768,42.17283391952515,44.485291957855225,46.77954411506653,49.1141791343689,51.562946796417236,53.85616588592529,56.166855335235596,58.451188802719116,60.86421179771423,63.18835186958313,65.49560904502869,67.82457828521729,70.27179622650146,72.56281614303589,74.83769845962524,77.15572881698608,79.57216668128967,81.80436158180237,84.05974745750427,86.34266257286072,88.61191129684448,91.09995174407959,93.42473649978638,95.70329809188843,97.98778891563416,100.40385389328003,102.67275142669678,104.97392010688782,107.4933512210846,109.79847502708435,112.05263590812683,114.29395532608032,116.72186827659607,118.9787666797638,121.30009984970093,123.60638117790222,125.88714480400085,128.40876626968384,130.6788945198059,132.99271440505981,135.45789194107056,137.8044285774231,140.06576919555664,142.42380261421204,144.88084411621094,147.24066948890686,149.57988452911377,151.88245391845703,154.31845426559448,156.6264612674713,158.95836877822876,161.24919891357422,163.71068596839905,165.97898077964783,168.2791657447815,170.53344678878784,173.04383492469788,175.3676905632019,177.6676037311554,179.97781491279602,182.37835955619812,184.6542899608612,186.9525282382965,189.29196214675903,191.83179569244385,194.10090017318726,196.37217140197754,198.67090463638306,201.1387701034546,203.41622638702393,205.70876145362854,207.97947216033936,210.48837518692017,212.7867021560669,215.11592864990234,217.3760404586792,219.8801507949829,222.2216980457306,224.51431441307068,226.95586442947388,229.22089099884033,231.5383608341217,233.7843074798584,236.04475831985474],\"type\":\"scatter\",\"xaxis\":\"x4\",\"yaxis\":\"y4\"}],                        {\"template\":{\"data\":{\"bar\":[{\"error_x\":{\"color\":\"#2a3f5f\"},\"error_y\":{\"color\":\"#2a3f5f\"},\"marker\":{\"line\":{\"color\":\"#E5ECF6\",\"width\":0.5},\"pattern\":{\"fillmode\":\"overlay\",\"size\":10,\"solidity\":0.2}},\"type\":\"bar\"}],\"barpolar\":[{\"marker\":{\"line\":{\"color\":\"#E5ECF6\",\"width\":0.5},\"pattern\":{\"fillmode\":\"overlay\",\"size\":10,\"solidity\":0.2}},\"type\":\"barpolar\"}],\"carpet\":[{\"aaxis\":{\"endlinecolor\":\"#2a3f5f\",\"gridcolor\":\"white\",\"linecolor\":\"white\",\"minorgridcolor\":\"white\",\"startlinecolor\":\"#2a3f5f\"},\"baxis\":{\"endlinecolor\":\"#2a3f5f\",\"gridcolor\":\"white\",\"linecolor\":\"white\",\"minorgridcolor\":\"white\",\"startlinecolor\":\"#2a3f5f\"},\"type\":\"carpet\"}],\"choropleth\":[{\"colorbar\":{\"outlinewidth\":0,\"ticks\":\"\"},\"type\":\"choropleth\"}],\"contour\":[{\"colorbar\":{\"outlinewidth\":0,\"ticks\":\"\"},\"colorscale\":[[0.0,\"#0d0887\"],[0.1111111111111111,\"#46039f\"],[0.2222222222222222,\"#7201a8\"],[0.3333333333333333,\"#9c179e\"],[0.4444444444444444,\"#bd3786\"],[0.5555555555555556,\"#d8576b\"],[0.6666666666666666,\"#ed7953\"],[0.7777777777777778,\"#fb9f3a\"],[0.8888888888888888,\"#fdca26\"],[1.0,\"#f0f921\"]],\"type\":\"contour\"}],\"contourcarpet\":[{\"colorbar\":{\"outlinewidth\":0,\"ticks\":\"\"},\"type\":\"contourcarpet\"}],\"heatmap\":[{\"colorbar\":{\"outlinewidth\":0,\"ticks\":\"\"},\"colorscale\":[[0.0,\"#0d0887\"],[0.1111111111111111,\"#46039f\"],[0.2222222222222222,\"#7201a8\"],[0.3333333333333333,\"#9c179e\"],[0.4444444444444444,\"#bd3786\"],[0.5555555555555556,\"#d8576b\"],[0.6666666666666666,\"#ed7953\"],[0.7777777777777778,\"#fb9f3a\"],[0.8888888888888888,\"#fdca26\"],[1.0,\"#f0f921\"]],\"type\":\"heatmap\"}],\"heatmapgl\":[{\"colorbar\":{\"outlinewidth\":0,\"ticks\":\"\"},\"colorscale\":[[0.0,\"#0d0887\"],[0.1111111111111111,\"#46039f\"],[0.2222222222222222,\"#7201a8\"],[0.3333333333333333,\"#9c179e\"],[0.4444444444444444,\"#bd3786\"],[0.5555555555555556,\"#d8576b\"],[0.6666666666666666,\"#ed7953\"],[0.7777777777777778,\"#fb9f3a\"],[0.8888888888888888,\"#fdca26\"],[1.0,\"#f0f921\"]],\"type\":\"heatmapgl\"}],\"histogram\":[{\"marker\":{\"pattern\":{\"fillmode\":\"overlay\",\"size\":10,\"solidity\":0.2}},\"type\":\"histogram\"}],\"histogram2d\":[{\"colorbar\":{\"outlinewidth\":0,\"ticks\":\"\"},\"colorscale\":[[0.0,\"#0d0887\"],[0.1111111111111111,\"#46039f\"],[0.2222222222222222,\"#7201a8\"],[0.3333333333333333,\"#9c179e\"],[0.4444444444444444,\"#bd3786\"],[0.5555555555555556,\"#d8576b\"],[0.6666666666666666,\"#ed7953\"],[0.7777777777777778,\"#fb9f3a\"],[0.8888888888888888,\"#fdca26\"],[1.0,\"#f0f921\"]],\"type\":\"histogram2d\"}],\"histogram2dcontour\":[{\"colorbar\":{\"outlinewidth\":0,\"ticks\":\"\"},\"colorscale\":[[0.0,\"#0d0887\"],[0.1111111111111111,\"#46039f\"],[0.2222222222222222,\"#7201a8\"],[0.3333333333333333,\"#9c179e\"],[0.4444444444444444,\"#bd3786\"],[0.5555555555555556,\"#d8576b\"],[0.6666666666666666,\"#ed7953\"],[0.7777777777777778,\"#fb9f3a\"],[0.8888888888888888,\"#fdca26\"],[1.0,\"#f0f921\"]],\"type\":\"histogram2dcontour\"}],\"mesh3d\":[{\"colorbar\":{\"outlinewidth\":0,\"ticks\":\"\"},\"type\":\"mesh3d\"}],\"parcoords\":[{\"line\":{\"colorbar\":{\"outlinewidth\":0,\"ticks\":\"\"}},\"type\":\"parcoords\"}],\"pie\":[{\"automargin\":true,\"type\":\"pie\"}],\"scatter\":[{\"marker\":{\"colorbar\":{\"outlinewidth\":0,\"ticks\":\"\"}},\"type\":\"scatter\"}],\"scatter3d\":[{\"line\":{\"colorbar\":{\"outlinewidth\":0,\"ticks\":\"\"}},\"marker\":{\"colorbar\":{\"outlinewidth\":0,\"ticks\":\"\"}},\"type\":\"scatter3d\"}],\"scattercarpet\":[{\"marker\":{\"colorbar\":{\"outlinewidth\":0,\"ticks\":\"\"}},\"type\":\"scattercarpet\"}],\"scattergeo\":[{\"marker\":{\"colorbar\":{\"outlinewidth\":0,\"ticks\":\"\"}},\"type\":\"scattergeo\"}],\"scattergl\":[{\"marker\":{\"colorbar\":{\"outlinewidth\":0,\"ticks\":\"\"}},\"type\":\"scattergl\"}],\"scattermapbox\":[{\"marker\":{\"colorbar\":{\"outlinewidth\":0,\"ticks\":\"\"}},\"type\":\"scattermapbox\"}],\"scatterpolar\":[{\"marker\":{\"colorbar\":{\"outlinewidth\":0,\"ticks\":\"\"}},\"type\":\"scatterpolar\"}],\"scatterpolargl\":[{\"marker\":{\"colorbar\":{\"outlinewidth\":0,\"ticks\":\"\"}},\"type\":\"scatterpolargl\"}],\"scatterternary\":[{\"marker\":{\"colorbar\":{\"outlinewidth\":0,\"ticks\":\"\"}},\"type\":\"scatterternary\"}],\"surface\":[{\"colorbar\":{\"outlinewidth\":0,\"ticks\":\"\"},\"colorscale\":[[0.0,\"#0d0887\"],[0.1111111111111111,\"#46039f\"],[0.2222222222222222,\"#7201a8\"],[0.3333333333333333,\"#9c179e\"],[0.4444444444444444,\"#bd3786\"],[0.5555555555555556,\"#d8576b\"],[0.6666666666666666,\"#ed7953\"],[0.7777777777777778,\"#fb9f3a\"],[0.8888888888888888,\"#fdca26\"],[1.0,\"#f0f921\"]],\"type\":\"surface\"}],\"table\":[{\"cells\":{\"fill\":{\"color\":\"#EBF0F8\"},\"line\":{\"color\":\"white\"}},\"header\":{\"fill\":{\"color\":\"#C8D4E3\"},\"line\":{\"color\":\"white\"}},\"type\":\"table\"}]},\"layout\":{\"annotationdefaults\":{\"arrowcolor\":\"#2a3f5f\",\"arrowhead\":0,\"arrowwidth\":1},\"autotypenumbers\":\"strict\",\"coloraxis\":{\"colorbar\":{\"outlinewidth\":0,\"ticks\":\"\"}},\"colorscale\":{\"diverging\":[[0,\"#8e0152\"],[0.1,\"#c51b7d\"],[0.2,\"#de77ae\"],[0.3,\"#f1b6da\"],[0.4,\"#fde0ef\"],[0.5,\"#f7f7f7\"],[0.6,\"#e6f5d0\"],[0.7,\"#b8e186\"],[0.8,\"#7fbc41\"],[0.9,\"#4d9221\"],[1,\"#276419\"]],\"sequential\":[[0.0,\"#0d0887\"],[0.1111111111111111,\"#46039f\"],[0.2222222222222222,\"#7201a8\"],[0.3333333333333333,\"#9c179e\"],[0.4444444444444444,\"#bd3786\"],[0.5555555555555556,\"#d8576b\"],[0.6666666666666666,\"#ed7953\"],[0.7777777777777778,\"#fb9f3a\"],[0.8888888888888888,\"#fdca26\"],[1.0,\"#f0f921\"]],\"sequentialminus\":[[0.0,\"#0d0887\"],[0.1111111111111111,\"#46039f\"],[0.2222222222222222,\"#7201a8\"],[0.3333333333333333,\"#9c179e\"],[0.4444444444444444,\"#bd3786\"],[0.5555555555555556,\"#d8576b\"],[0.6666666666666666,\"#ed7953\"],[0.7777777777777778,\"#fb9f3a\"],[0.8888888888888888,\"#fdca26\"],[1.0,\"#f0f921\"]]},\"colorway\":[\"#636efa\",\"#EF553B\",\"#00cc96\",\"#ab63fa\",\"#FFA15A\",\"#19d3f3\",\"#FF6692\",\"#B6E880\",\"#FF97FF\",\"#FECB52\"],\"font\":{\"color\":\"#2a3f5f\"},\"geo\":{\"bgcolor\":\"white\",\"lakecolor\":\"white\",\"landcolor\":\"#E5ECF6\",\"showlakes\":true,\"showland\":true,\"subunitcolor\":\"white\"},\"hoverlabel\":{\"align\":\"left\"},\"hovermode\":\"closest\",\"mapbox\":{\"style\":\"light\"},\"paper_bgcolor\":\"white\",\"plot_bgcolor\":\"#E5ECF6\",\"polar\":{\"angularaxis\":{\"gridcolor\":\"white\",\"linecolor\":\"white\",\"ticks\":\"\"},\"bgcolor\":\"#E5ECF6\",\"radialaxis\":{\"gridcolor\":\"white\",\"linecolor\":\"white\",\"ticks\":\"\"}},\"scene\":{\"xaxis\":{\"backgroundcolor\":\"#E5ECF6\",\"gridcolor\":\"white\",\"gridwidth\":2,\"linecolor\":\"white\",\"showbackground\":true,\"ticks\":\"\",\"zerolinecolor\":\"white\"},\"yaxis\":{\"backgroundcolor\":\"#E5ECF6\",\"gridcolor\":\"white\",\"gridwidth\":2,\"linecolor\":\"white\",\"showbackground\":true,\"ticks\":\"\",\"zerolinecolor\":\"white\"},\"zaxis\":{\"backgroundcolor\":\"#E5ECF6\",\"gridcolor\":\"white\",\"gridwidth\":2,\"linecolor\":\"white\",\"showbackground\":true,\"ticks\":\"\",\"zerolinecolor\":\"white\"}},\"shapedefaults\":{\"line\":{\"color\":\"#2a3f5f\"}},\"ternary\":{\"aaxis\":{\"gridcolor\":\"white\",\"linecolor\":\"white\",\"ticks\":\"\"},\"baxis\":{\"gridcolor\":\"white\",\"linecolor\":\"white\",\"ticks\":\"\"},\"bgcolor\":\"#E5ECF6\",\"caxis\":{\"gridcolor\":\"white\",\"linecolor\":\"white\",\"ticks\":\"\"}},\"title\":{\"x\":0.05},\"xaxis\":{\"automargin\":true,\"gridcolor\":\"white\",\"linecolor\":\"white\",\"ticks\":\"\",\"title\":{\"standoff\":15},\"zerolinecolor\":\"white\",\"zerolinewidth\":2},\"yaxis\":{\"automargin\":true,\"gridcolor\":\"white\",\"linecolor\":\"white\",\"ticks\":\"\",\"title\":{\"standoff\":15},\"zerolinecolor\":\"white\",\"zerolinewidth\":2}}},\"xaxis\":{\"anchor\":\"y\",\"domain\":[0.0,0.45],\"title\":{\"text\":\"Iteration\"}},\"yaxis\":{\"anchor\":\"x\",\"domain\":[0.625,1.0],\"title\":{\"text\":\"Time (Sec)\"}},\"xaxis2\":{\"anchor\":\"y2\",\"domain\":[0.55,1.0]},\"yaxis2\":{\"anchor\":\"x2\",\"domain\":[0.625,1.0]},\"xaxis3\":{\"anchor\":\"y3\",\"domain\":[0.0,0.45]},\"yaxis3\":{\"anchor\":\"x3\",\"domain\":[0.0,0.375]},\"xaxis4\":{\"anchor\":\"y4\",\"domain\":[0.55,1.0]},\"yaxis4\":{\"anchor\":\"x4\",\"domain\":[0.0,0.375]},\"annotations\":[{\"font\":{\"size\":16},\"showarrow\":false,\"text\":\"Max-Cut\",\"x\":0.225,\"xanchor\":\"center\",\"xref\":\"paper\",\"y\":1.0,\"yanchor\":\"bottom\",\"yref\":\"paper\"},{\"font\":{\"size\":16},\"showarrow\":false,\"text\":\"Clique\",\"x\":0.775,\"xanchor\":\"center\",\"xref\":\"paper\",\"y\":1.0,\"yanchor\":\"bottom\",\"yref\":\"paper\"},{\"font\":{\"size\":16},\"showarrow\":false,\"text\":\"Binary Linear Programming\",\"x\":0.225,\"xanchor\":\"center\",\"xref\":\"paper\",\"y\":0.375,\"yanchor\":\"bottom\",\"yref\":\"paper\"},{\"font\":{\"size\":16},\"showarrow\":false,\"text\":\"Knapsack\",\"x\":0.775,\"xanchor\":\"center\",\"xref\":\"paper\",\"y\":0.375,\"yanchor\":\"bottom\",\"yref\":\"paper\"}],\"title\":{\"text\":\"Time Comparison  <br><sup>Fixed the number of parameterized gate (6 gate).</sup>\"},\"autosize\":false,\"width\":1000,\"height\":700},                        {\"responsive\": true}                    ).then(function(){\n",
              "                            \n",
              "var gd = document.getElementById('863f2a30-1cab-41c2-baec-b4ada9baa7b7');\n",
              "var x = new MutationObserver(function (mutations, observer) {{\n",
              "        var display = window.getComputedStyle(gd).display;\n",
              "        if (!display || display === 'none') {{\n",
              "            console.log([gd, 'removed!']);\n",
              "            Plotly.purge(gd);\n",
              "            observer.disconnect();\n",
              "        }}\n",
              "}});\n",
              "\n",
              "// Listen for the removal of the full notebook cells\n",
              "var notebookContainer = gd.closest('#notebook-container');\n",
              "if (notebookContainer) {{\n",
              "    x.observe(notebookContainer, {childList: true});\n",
              "}}\n",
              "\n",
              "// Listen for the clearing of the current output cell\n",
              "var outputEl = gd.closest('.output');\n",
              "if (outputEl) {{\n",
              "    x.observe(outputEl, {childList: true});\n",
              "}}\n",
              "\n",
              "                        })                };                            </script>        </div>\n",
              "</body>\n",
              "</html>"
            ]
          },
          "metadata": {}
        }
      ],
      "source": [
        "#@title Time Comparison\n",
        "#@markdown Fixed the number of parameterized gate (24 gate).\n",
        "\n",
        "from plotly.subplots import make_subplots\n",
        "\n",
        "row = 2\n",
        "col = 2\n",
        "fig = make_subplots(rows=row, cols=col, subplot_titles=(\"Max-Cut\",\"Clique\",\"Binary Linear Programming\", \"Knapsack\"))\n",
        "show = True\n",
        "for i in range(row):\n",
        "  for j in range(col):\n",
        "    problemn = i*col+j\n",
        "    if problemn>0:\n",
        "      show = False\n",
        "    dv = pd.DataFrame({\"Iteration\":range(len(pst[problemn])), \"Time\":pst[problemn]})\n",
        "    dv_fd = pd.DataFrame({\"Iteration\":range(len(fdt[problemn])), \"Time\":fdt[problemn]})\n",
        "    dv_lcu = pd.DataFrame({\"Iteration\":range(len(lcut[problemn])), \"Time\":lcut[problemn]})\n",
        "    dv_qng = pd.DataFrame({\"Iteration\":range(len(qngt[problemn])), \"Time\":qngt[problemn]})\n",
        "    dv_newton = pd.DataFrame({\"Iteration\":range(len(qnwt[problemn])), \"Time\":qnwt[problemn]})\n",
        "\n",
        "    # dv_cls = pd.DataFrame({\"Iteration\":range(len(loss_plot_classical)), \"Loss\":loss_plot_classical})\n",
        "\n",
        "    fig.add_trace(go.Scatter(x=dv[\"Iteration\"], y=dv[\"Time\"], name=\"Discrete Parameter Shift\", line = dict(width=2), line_color='red', showlegend = show), row=i+1, col=j+1)\n",
        "    fig.add_trace(go.Scatter(x=dv_fd[\"Iteration\"], y=dv_fd[\"Time\"], mode=\"lines\", name=\"Discrete Finite Difference\", line = dict(width=2), line_color='green', showlegend = show), row=i+1, col=j+1)\n",
        "    fig.add_trace(go.Scatter(x=dv_lcu[\"Iteration\"], y=dv_lcu[\"Time\"], mode=\"lines\", name=\"Discrete LCU\", line = dict(width=2), line_color='yellow', showlegend = show), row=i+1, col=j+1)\n",
        "    fig.add_trace(go.Scatter(x=dv_qng[\"Iteration\"], y=dv_qng[\"Time\"], mode=\"lines\", name=\"Discrete QNG\", line = dict(width=2), line_color='blue', showlegend = show), row=i+1, col=j+1)\n",
        "    fig.add_trace(go.Scatter(x=dv_newton[\"Iteration\"], y=dv_newton[\"Time\"], mode=\"lines\", name=\"Discrete Newton Method\", line = dict(width=2), line_color='brown', showlegend = show), row=i+1, col=j+1)\n",
        "\n",
        "    # fig.add_trace(go.Scatter(x=dv_cls[\"Iteration\"], y=dv_cls[\"Loss\"], mode=\"lines\", name=\"Classical\"))\n",
        "\n",
        "\n",
        "fig.update_layout(title=\"Time Comparison  <br><sup>Fixed the number of parameterized gate (6 gate).</sup>\",\n",
        "                  xaxis_title=\"Iteration\",\n",
        "                  yaxis_title=\"Time (Sec)\", autosize=False,\n",
        "                  width=1000,\n",
        "                  height=700)\n",
        "plotly.offline.plot(fig, filename='time_fixgate.html')\n",
        "fig.show()"
      ]
    },
    {
      "cell_type": "code",
      "source": [
        "with open('analytic_pst.pk', 'wb') as fp:\n",
        "    pickle.dump(pst, fp)\n",
        "with open('analytic_fdt.pk', 'wb') as fp:\n",
        "    pickle.dump(fdt, fp)\n",
        "with open('analytic_lcut.pk', 'wb') as fp:\n",
        "    pickle.dump(lcut, fp)\n",
        "with open('analytic_qngt.pk', 'wb') as fp:\n",
        "    pickle.dump(qngt, fp)\n",
        "with open('analytic_qnwt.pk', 'wb') as fp:\n",
        "    pickle.dump(qnwt, fp)"
      ],
      "metadata": {
        "id": "W35NzjUNscZc"
      },
      "execution_count": null,
      "outputs": []
    },
    {
      "cell_type": "code",
      "execution_count": null,
      "metadata": {
        "id": "VbTqgBW9-e0e",
        "colab": {
          "base_uri": "https://localhost:8080/",
          "height": 1000
        },
        "outputId": "7d4b9b2a-2961-45dc-9db7-a879cb9a959c",
        "cellView": "form"
      },
      "outputs": [
        {
          "output_type": "stream",
          "name": "stdout",
          "text": [
            "\u001b[1mMax-Cut\u001b[0m\n"
          ]
        },
        {
          "output_type": "display_data",
          "data": {
            "text/plain": [
              "                           Iteration 25              Iteration 50  \\\n",
              "                                   Loss Time(second)         Loss   \n",
              "Discrete Parameter Shift      -3.22e+00        59.23    -3.50e+00   \n",
              "Discrete Finite Difference    -3.22e+00        36.12    -3.50e+00   \n",
              "Discrete LCU                  -3.22e+00        20.25    -3.50e+00   \n",
              "Discrete QNG                  -3.24e+00        41.63    -3.50e+00   \n",
              "Discrete Newton Gradient      -3.40e+00        55.71    -3.50e+00   \n",
              "\n",
              "                                        Iteration 75               \\\n",
              "                           Time(second)         Loss Time(second)   \n",
              "Discrete Parameter Shift          93.32    -3.50e+00       128.14   \n",
              "Discrete Finite Difference        70.81    -3.50e+00       105.24   \n",
              "Discrete LCU                      39.65    -3.50e+00        59.06   \n",
              "Discrete QNG                      81.20    -3.50e+00       121.19   \n",
              "Discrete Newton Gradient         109.77    -3.50e+00       163.99   \n",
              "\n",
              "                           Iteration 100               \n",
              "                                    Loss Time(second)  \n",
              "Discrete Parameter Shift       -3.50e+00       164.05  \n",
              "Discrete Finite Difference     -3.50e+00       139.51  \n",
              "Discrete LCU                   -3.50e+00        78.43  \n",
              "Discrete QNG                   -3.50e+00       160.70  \n",
              "Discrete Newton Gradient       -3.50e+00       218.29  "
            ],
            "text/html": [
              "\n",
              "  <div id=\"df-842a1051-be39-4a5a-845b-652df925977b\">\n",
              "    <div class=\"colab-df-container\">\n",
              "      <div>\n",
              "<style scoped>\n",
              "    .dataframe tbody tr th:only-of-type {\n",
              "        vertical-align: middle;\n",
              "    }\n",
              "\n",
              "    .dataframe tbody tr th {\n",
              "        vertical-align: top;\n",
              "    }\n",
              "\n",
              "    .dataframe thead tr th {\n",
              "        text-align: left;\n",
              "    }\n",
              "</style>\n",
              "<table border=\"1\" class=\"dataframe\">\n",
              "  <thead>\n",
              "    <tr>\n",
              "      <th></th>\n",
              "      <th colspan=\"2\" halign=\"left\">Iteration 25</th>\n",
              "      <th colspan=\"2\" halign=\"left\">Iteration 50</th>\n",
              "      <th colspan=\"2\" halign=\"left\">Iteration 75</th>\n",
              "      <th colspan=\"2\" halign=\"left\">Iteration 100</th>\n",
              "    </tr>\n",
              "    <tr>\n",
              "      <th></th>\n",
              "      <th>Loss</th>\n",
              "      <th>Time(second)</th>\n",
              "      <th>Loss</th>\n",
              "      <th>Time(second)</th>\n",
              "      <th>Loss</th>\n",
              "      <th>Time(second)</th>\n",
              "      <th>Loss</th>\n",
              "      <th>Time(second)</th>\n",
              "    </tr>\n",
              "  </thead>\n",
              "  <tbody>\n",
              "    <tr>\n",
              "      <th>Discrete Parameter Shift</th>\n",
              "      <td>-3.22e+00</td>\n",
              "      <td>59.23</td>\n",
              "      <td>-3.50e+00</td>\n",
              "      <td>93.32</td>\n",
              "      <td>-3.50e+00</td>\n",
              "      <td>128.14</td>\n",
              "      <td>-3.50e+00</td>\n",
              "      <td>164.05</td>\n",
              "    </tr>\n",
              "    <tr>\n",
              "      <th>Discrete Finite Difference</th>\n",
              "      <td>-3.22e+00</td>\n",
              "      <td>36.12</td>\n",
              "      <td>-3.50e+00</td>\n",
              "      <td>70.81</td>\n",
              "      <td>-3.50e+00</td>\n",
              "      <td>105.24</td>\n",
              "      <td>-3.50e+00</td>\n",
              "      <td>139.51</td>\n",
              "    </tr>\n",
              "    <tr>\n",
              "      <th>Discrete LCU</th>\n",
              "      <td>-3.22e+00</td>\n",
              "      <td>20.25</td>\n",
              "      <td>-3.50e+00</td>\n",
              "      <td>39.65</td>\n",
              "      <td>-3.50e+00</td>\n",
              "      <td>59.06</td>\n",
              "      <td>-3.50e+00</td>\n",
              "      <td>78.43</td>\n",
              "    </tr>\n",
              "    <tr>\n",
              "      <th>Discrete QNG</th>\n",
              "      <td>-3.24e+00</td>\n",
              "      <td>41.63</td>\n",
              "      <td>-3.50e+00</td>\n",
              "      <td>81.20</td>\n",
              "      <td>-3.50e+00</td>\n",
              "      <td>121.19</td>\n",
              "      <td>-3.50e+00</td>\n",
              "      <td>160.70</td>\n",
              "    </tr>\n",
              "    <tr>\n",
              "      <th>Discrete Newton Gradient</th>\n",
              "      <td>-3.40e+00</td>\n",
              "      <td>55.71</td>\n",
              "      <td>-3.50e+00</td>\n",
              "      <td>109.77</td>\n",
              "      <td>-3.50e+00</td>\n",
              "      <td>163.99</td>\n",
              "      <td>-3.50e+00</td>\n",
              "      <td>218.29</td>\n",
              "    </tr>\n",
              "  </tbody>\n",
              "</table>\n",
              "</div>\n",
              "      <button class=\"colab-df-convert\" onclick=\"convertToInteractive('df-842a1051-be39-4a5a-845b-652df925977b')\"\n",
              "              title=\"Convert this dataframe to an interactive table.\"\n",
              "              style=\"display:none;\">\n",
              "        \n",
              "  <svg xmlns=\"http://www.w3.org/2000/svg\" height=\"24px\"viewBox=\"0 0 24 24\"\n",
              "       width=\"24px\">\n",
              "    <path d=\"M0 0h24v24H0V0z\" fill=\"none\"/>\n",
              "    <path d=\"M18.56 5.44l.94 2.06.94-2.06 2.06-.94-2.06-.94-.94-2.06-.94 2.06-2.06.94zm-11 1L8.5 8.5l.94-2.06 2.06-.94-2.06-.94L8.5 2.5l-.94 2.06-2.06.94zm10 10l.94 2.06.94-2.06 2.06-.94-2.06-.94-.94-2.06-.94 2.06-2.06.94z\"/><path d=\"M17.41 7.96l-1.37-1.37c-.4-.4-.92-.59-1.43-.59-.52 0-1.04.2-1.43.59L10.3 9.45l-7.72 7.72c-.78.78-.78 2.05 0 2.83L4 21.41c.39.39.9.59 1.41.59.51 0 1.02-.2 1.41-.59l7.78-7.78 2.81-2.81c.8-.78.8-2.07 0-2.86zM5.41 20L4 18.59l7.72-7.72 1.47 1.35L5.41 20z\"/>\n",
              "  </svg>\n",
              "      </button>\n",
              "      \n",
              "  <style>\n",
              "    .colab-df-container {\n",
              "      display:flex;\n",
              "      flex-wrap:wrap;\n",
              "      gap: 12px;\n",
              "    }\n",
              "\n",
              "    .colab-df-convert {\n",
              "      background-color: #E8F0FE;\n",
              "      border: none;\n",
              "      border-radius: 50%;\n",
              "      cursor: pointer;\n",
              "      display: none;\n",
              "      fill: #1967D2;\n",
              "      height: 32px;\n",
              "      padding: 0 0 0 0;\n",
              "      width: 32px;\n",
              "    }\n",
              "\n",
              "    .colab-df-convert:hover {\n",
              "      background-color: #E2EBFA;\n",
              "      box-shadow: 0px 1px 2px rgba(60, 64, 67, 0.3), 0px 1px 3px 1px rgba(60, 64, 67, 0.15);\n",
              "      fill: #174EA6;\n",
              "    }\n",
              "\n",
              "    [theme=dark] .colab-df-convert {\n",
              "      background-color: #3B4455;\n",
              "      fill: #D2E3FC;\n",
              "    }\n",
              "\n",
              "    [theme=dark] .colab-df-convert:hover {\n",
              "      background-color: #434B5C;\n",
              "      box-shadow: 0px 1px 3px 1px rgba(0, 0, 0, 0.15);\n",
              "      filter: drop-shadow(0px 1px 2px rgba(0, 0, 0, 0.3));\n",
              "      fill: #FFFFFF;\n",
              "    }\n",
              "  </style>\n",
              "\n",
              "      <script>\n",
              "        const buttonEl =\n",
              "          document.querySelector('#df-842a1051-be39-4a5a-845b-652df925977b button.colab-df-convert');\n",
              "        buttonEl.style.display =\n",
              "          google.colab.kernel.accessAllowed ? 'block' : 'none';\n",
              "\n",
              "        async function convertToInteractive(key) {\n",
              "          const element = document.querySelector('#df-842a1051-be39-4a5a-845b-652df925977b');\n",
              "          const dataTable =\n",
              "            await google.colab.kernel.invokeFunction('convertToInteractive',\n",
              "                                                     [key], {});\n",
              "          if (!dataTable) return;\n",
              "\n",
              "          const docLinkHtml = 'Like what you see? Visit the ' +\n",
              "            '<a target=\"_blank\" href=https://colab.research.google.com/notebooks/data_table.ipynb>data table notebook</a>'\n",
              "            + ' to learn more about interactive tables.';\n",
              "          element.innerHTML = '';\n",
              "          dataTable['output_type'] = 'display_data';\n",
              "          await google.colab.output.renderOutput(dataTable, element);\n",
              "          const docLink = document.createElement('div');\n",
              "          docLink.innerHTML = docLinkHtml;\n",
              "          element.appendChild(docLink);\n",
              "        }\n",
              "      </script>\n",
              "    </div>\n",
              "  </div>\n",
              "  "
            ]
          },
          "metadata": {}
        },
        {
          "output_type": "stream",
          "name": "stdout",
          "text": [
            "\n",
            "\n",
            "\n",
            "\n",
            "\u001b[1mClique\u001b[0m\n"
          ]
        },
        {
          "output_type": "display_data",
          "data": {
            "text/plain": [
              "                           Iteration 25              Iteration 50  \\\n",
              "                                   Loss Time(second)         Loss   \n",
              "Discrete Parameter Shift      -2.41e+00        36.97    -2.49e+00   \n",
              "Discrete Finite Difference    -2.41e+00        36.73    -2.49e+00   \n",
              "Discrete LCU                  -2.41e+00        21.02    -2.49e+00   \n",
              "Discrete QNG                  -2.44e+00        41.56    -2.50e+00   \n",
              "Discrete Newton Gradient      -2.29e+00        57.29    -2.50e+00   \n",
              "\n",
              "                                        Iteration 75               \\\n",
              "                           Time(second)         Loss Time(second)   \n",
              "Discrete Parameter Shift          72.53    -2.50e+00       107.92   \n",
              "Discrete Finite Difference        72.17    -2.50e+00       107.86   \n",
              "Discrete LCU                      40.96    -2.50e+00        60.98   \n",
              "Discrete QNG                      82.06    -2.50e+00       122.37   \n",
              "Discrete Newton Gradient         111.95    -2.60e+00       166.94   \n",
              "\n",
              "                           Iteration 100               \n",
              "                                    Loss Time(second)  \n",
              "Discrete Parameter Shift       -2.50e+00       143.56  \n",
              "Discrete Finite Difference     -2.50e+00       143.17  \n",
              "Discrete LCU                   -2.50e+00        81.06  \n",
              "Discrete QNG                   -2.50e+00       162.33  \n",
              "Discrete Newton Gradient       -2.99e+00       221.92  "
            ],
            "text/html": [
              "\n",
              "  <div id=\"df-ec488b6e-fd45-4f29-b644-e11bf0aadc4c\">\n",
              "    <div class=\"colab-df-container\">\n",
              "      <div>\n",
              "<style scoped>\n",
              "    .dataframe tbody tr th:only-of-type {\n",
              "        vertical-align: middle;\n",
              "    }\n",
              "\n",
              "    .dataframe tbody tr th {\n",
              "        vertical-align: top;\n",
              "    }\n",
              "\n",
              "    .dataframe thead tr th {\n",
              "        text-align: left;\n",
              "    }\n",
              "</style>\n",
              "<table border=\"1\" class=\"dataframe\">\n",
              "  <thead>\n",
              "    <tr>\n",
              "      <th></th>\n",
              "      <th colspan=\"2\" halign=\"left\">Iteration 25</th>\n",
              "      <th colspan=\"2\" halign=\"left\">Iteration 50</th>\n",
              "      <th colspan=\"2\" halign=\"left\">Iteration 75</th>\n",
              "      <th colspan=\"2\" halign=\"left\">Iteration 100</th>\n",
              "    </tr>\n",
              "    <tr>\n",
              "      <th></th>\n",
              "      <th>Loss</th>\n",
              "      <th>Time(second)</th>\n",
              "      <th>Loss</th>\n",
              "      <th>Time(second)</th>\n",
              "      <th>Loss</th>\n",
              "      <th>Time(second)</th>\n",
              "      <th>Loss</th>\n",
              "      <th>Time(second)</th>\n",
              "    </tr>\n",
              "  </thead>\n",
              "  <tbody>\n",
              "    <tr>\n",
              "      <th>Discrete Parameter Shift</th>\n",
              "      <td>-2.41e+00</td>\n",
              "      <td>36.97</td>\n",
              "      <td>-2.49e+00</td>\n",
              "      <td>72.53</td>\n",
              "      <td>-2.50e+00</td>\n",
              "      <td>107.92</td>\n",
              "      <td>-2.50e+00</td>\n",
              "      <td>143.56</td>\n",
              "    </tr>\n",
              "    <tr>\n",
              "      <th>Discrete Finite Difference</th>\n",
              "      <td>-2.41e+00</td>\n",
              "      <td>36.73</td>\n",
              "      <td>-2.49e+00</td>\n",
              "      <td>72.17</td>\n",
              "      <td>-2.50e+00</td>\n",
              "      <td>107.86</td>\n",
              "      <td>-2.50e+00</td>\n",
              "      <td>143.17</td>\n",
              "    </tr>\n",
              "    <tr>\n",
              "      <th>Discrete LCU</th>\n",
              "      <td>-2.41e+00</td>\n",
              "      <td>21.02</td>\n",
              "      <td>-2.49e+00</td>\n",
              "      <td>40.96</td>\n",
              "      <td>-2.50e+00</td>\n",
              "      <td>60.98</td>\n",
              "      <td>-2.50e+00</td>\n",
              "      <td>81.06</td>\n",
              "    </tr>\n",
              "    <tr>\n",
              "      <th>Discrete QNG</th>\n",
              "      <td>-2.44e+00</td>\n",
              "      <td>41.56</td>\n",
              "      <td>-2.50e+00</td>\n",
              "      <td>82.06</td>\n",
              "      <td>-2.50e+00</td>\n",
              "      <td>122.37</td>\n",
              "      <td>-2.50e+00</td>\n",
              "      <td>162.33</td>\n",
              "    </tr>\n",
              "    <tr>\n",
              "      <th>Discrete Newton Gradient</th>\n",
              "      <td>-2.29e+00</td>\n",
              "      <td>57.29</td>\n",
              "      <td>-2.50e+00</td>\n",
              "      <td>111.95</td>\n",
              "      <td>-2.60e+00</td>\n",
              "      <td>166.94</td>\n",
              "      <td>-2.99e+00</td>\n",
              "      <td>221.92</td>\n",
              "    </tr>\n",
              "  </tbody>\n",
              "</table>\n",
              "</div>\n",
              "      <button class=\"colab-df-convert\" onclick=\"convertToInteractive('df-ec488b6e-fd45-4f29-b644-e11bf0aadc4c')\"\n",
              "              title=\"Convert this dataframe to an interactive table.\"\n",
              "              style=\"display:none;\">\n",
              "        \n",
              "  <svg xmlns=\"http://www.w3.org/2000/svg\" height=\"24px\"viewBox=\"0 0 24 24\"\n",
              "       width=\"24px\">\n",
              "    <path d=\"M0 0h24v24H0V0z\" fill=\"none\"/>\n",
              "    <path d=\"M18.56 5.44l.94 2.06.94-2.06 2.06-.94-2.06-.94-.94-2.06-.94 2.06-2.06.94zm-11 1L8.5 8.5l.94-2.06 2.06-.94-2.06-.94L8.5 2.5l-.94 2.06-2.06.94zm10 10l.94 2.06.94-2.06 2.06-.94-2.06-.94-.94-2.06-.94 2.06-2.06.94z\"/><path d=\"M17.41 7.96l-1.37-1.37c-.4-.4-.92-.59-1.43-.59-.52 0-1.04.2-1.43.59L10.3 9.45l-7.72 7.72c-.78.78-.78 2.05 0 2.83L4 21.41c.39.39.9.59 1.41.59.51 0 1.02-.2 1.41-.59l7.78-7.78 2.81-2.81c.8-.78.8-2.07 0-2.86zM5.41 20L4 18.59l7.72-7.72 1.47 1.35L5.41 20z\"/>\n",
              "  </svg>\n",
              "      </button>\n",
              "      \n",
              "  <style>\n",
              "    .colab-df-container {\n",
              "      display:flex;\n",
              "      flex-wrap:wrap;\n",
              "      gap: 12px;\n",
              "    }\n",
              "\n",
              "    .colab-df-convert {\n",
              "      background-color: #E8F0FE;\n",
              "      border: none;\n",
              "      border-radius: 50%;\n",
              "      cursor: pointer;\n",
              "      display: none;\n",
              "      fill: #1967D2;\n",
              "      height: 32px;\n",
              "      padding: 0 0 0 0;\n",
              "      width: 32px;\n",
              "    }\n",
              "\n",
              "    .colab-df-convert:hover {\n",
              "      background-color: #E2EBFA;\n",
              "      box-shadow: 0px 1px 2px rgba(60, 64, 67, 0.3), 0px 1px 3px 1px rgba(60, 64, 67, 0.15);\n",
              "      fill: #174EA6;\n",
              "    }\n",
              "\n",
              "    [theme=dark] .colab-df-convert {\n",
              "      background-color: #3B4455;\n",
              "      fill: #D2E3FC;\n",
              "    }\n",
              "\n",
              "    [theme=dark] .colab-df-convert:hover {\n",
              "      background-color: #434B5C;\n",
              "      box-shadow: 0px 1px 3px 1px rgba(0, 0, 0, 0.15);\n",
              "      filter: drop-shadow(0px 1px 2px rgba(0, 0, 0, 0.3));\n",
              "      fill: #FFFFFF;\n",
              "    }\n",
              "  </style>\n",
              "\n",
              "      <script>\n",
              "        const buttonEl =\n",
              "          document.querySelector('#df-ec488b6e-fd45-4f29-b644-e11bf0aadc4c button.colab-df-convert');\n",
              "        buttonEl.style.display =\n",
              "          google.colab.kernel.accessAllowed ? 'block' : 'none';\n",
              "\n",
              "        async function convertToInteractive(key) {\n",
              "          const element = document.querySelector('#df-ec488b6e-fd45-4f29-b644-e11bf0aadc4c');\n",
              "          const dataTable =\n",
              "            await google.colab.kernel.invokeFunction('convertToInteractive',\n",
              "                                                     [key], {});\n",
              "          if (!dataTable) return;\n",
              "\n",
              "          const docLinkHtml = 'Like what you see? Visit the ' +\n",
              "            '<a target=\"_blank\" href=https://colab.research.google.com/notebooks/data_table.ipynb>data table notebook</a>'\n",
              "            + ' to learn more about interactive tables.';\n",
              "          element.innerHTML = '';\n",
              "          dataTable['output_type'] = 'display_data';\n",
              "          await google.colab.output.renderOutput(dataTable, element);\n",
              "          const docLink = document.createElement('div');\n",
              "          docLink.innerHTML = docLinkHtml;\n",
              "          element.appendChild(docLink);\n",
              "        }\n",
              "      </script>\n",
              "    </div>\n",
              "  </div>\n",
              "  "
            ]
          },
          "metadata": {}
        },
        {
          "output_type": "stream",
          "name": "stdout",
          "text": [
            "\n",
            "\n",
            "\n",
            "\n",
            "\u001b[1mBinary Linear Programming\u001b[0m\n"
          ]
        },
        {
          "output_type": "display_data",
          "data": {
            "text/plain": [
              "                           Iteration 25              Iteration 50  \\\n",
              "                                   Loss Time(second)         Loss   \n",
              "Discrete Parameter Shift       2.82e+05        36.56     1.89e+05   \n",
              "Discrete Finite Difference     2.82e+05        36.63     1.89e+05   \n",
              "Discrete LCU                   2.82e+05        21.07     1.89e+05   \n",
              "Discrete QNG                   2.83e+05        42.08     1.91e+05   \n",
              "Discrete Newton Gradient       3.18e+05        56.81     4.69e+05   \n",
              "\n",
              "                                        Iteration 75               \\\n",
              "                           Time(second)         Loss Time(second)   \n",
              "Discrete Parameter Shift          71.80     1.83e+05       107.43   \n",
              "Discrete Finite Difference        72.02     1.83e+05       107.09   \n",
              "Discrete LCU                      41.12     1.83e+05        61.12   \n",
              "Discrete QNG                      82.12     1.83e+05       122.73   \n",
              "Discrete Newton Gradient         111.78     5.35e+05       167.13   \n",
              "\n",
              "                           Iteration 100               \n",
              "                                    Loss Time(second)  \n",
              "Discrete Parameter Shift        1.83e+05       142.55  \n",
              "Discrete Finite Difference      1.83e+05       142.39  \n",
              "Discrete LCU                    1.83e+05        81.10  \n",
              "Discrete QNG                    1.83e+05       163.00  \n",
              "Discrete Newton Gradient        5.35e+05       222.25  "
            ],
            "text/html": [
              "\n",
              "  <div id=\"df-1da5bc46-cd82-4ea0-a9e0-7dca04108fbb\">\n",
              "    <div class=\"colab-df-container\">\n",
              "      <div>\n",
              "<style scoped>\n",
              "    .dataframe tbody tr th:only-of-type {\n",
              "        vertical-align: middle;\n",
              "    }\n",
              "\n",
              "    .dataframe tbody tr th {\n",
              "        vertical-align: top;\n",
              "    }\n",
              "\n",
              "    .dataframe thead tr th {\n",
              "        text-align: left;\n",
              "    }\n",
              "</style>\n",
              "<table border=\"1\" class=\"dataframe\">\n",
              "  <thead>\n",
              "    <tr>\n",
              "      <th></th>\n",
              "      <th colspan=\"2\" halign=\"left\">Iteration 25</th>\n",
              "      <th colspan=\"2\" halign=\"left\">Iteration 50</th>\n",
              "      <th colspan=\"2\" halign=\"left\">Iteration 75</th>\n",
              "      <th colspan=\"2\" halign=\"left\">Iteration 100</th>\n",
              "    </tr>\n",
              "    <tr>\n",
              "      <th></th>\n",
              "      <th>Loss</th>\n",
              "      <th>Time(second)</th>\n",
              "      <th>Loss</th>\n",
              "      <th>Time(second)</th>\n",
              "      <th>Loss</th>\n",
              "      <th>Time(second)</th>\n",
              "      <th>Loss</th>\n",
              "      <th>Time(second)</th>\n",
              "    </tr>\n",
              "  </thead>\n",
              "  <tbody>\n",
              "    <tr>\n",
              "      <th>Discrete Parameter Shift</th>\n",
              "      <td>2.82e+05</td>\n",
              "      <td>36.56</td>\n",
              "      <td>1.89e+05</td>\n",
              "      <td>71.80</td>\n",
              "      <td>1.83e+05</td>\n",
              "      <td>107.43</td>\n",
              "      <td>1.83e+05</td>\n",
              "      <td>142.55</td>\n",
              "    </tr>\n",
              "    <tr>\n",
              "      <th>Discrete Finite Difference</th>\n",
              "      <td>2.82e+05</td>\n",
              "      <td>36.63</td>\n",
              "      <td>1.89e+05</td>\n",
              "      <td>72.02</td>\n",
              "      <td>1.83e+05</td>\n",
              "      <td>107.09</td>\n",
              "      <td>1.83e+05</td>\n",
              "      <td>142.39</td>\n",
              "    </tr>\n",
              "    <tr>\n",
              "      <th>Discrete LCU</th>\n",
              "      <td>2.82e+05</td>\n",
              "      <td>21.07</td>\n",
              "      <td>1.89e+05</td>\n",
              "      <td>41.12</td>\n",
              "      <td>1.83e+05</td>\n",
              "      <td>61.12</td>\n",
              "      <td>1.83e+05</td>\n",
              "      <td>81.10</td>\n",
              "    </tr>\n",
              "    <tr>\n",
              "      <th>Discrete QNG</th>\n",
              "      <td>2.83e+05</td>\n",
              "      <td>42.08</td>\n",
              "      <td>1.91e+05</td>\n",
              "      <td>82.12</td>\n",
              "      <td>1.83e+05</td>\n",
              "      <td>122.73</td>\n",
              "      <td>1.83e+05</td>\n",
              "      <td>163.00</td>\n",
              "    </tr>\n",
              "    <tr>\n",
              "      <th>Discrete Newton Gradient</th>\n",
              "      <td>3.18e+05</td>\n",
              "      <td>56.81</td>\n",
              "      <td>4.69e+05</td>\n",
              "      <td>111.78</td>\n",
              "      <td>5.35e+05</td>\n",
              "      <td>167.13</td>\n",
              "      <td>5.35e+05</td>\n",
              "      <td>222.25</td>\n",
              "    </tr>\n",
              "  </tbody>\n",
              "</table>\n",
              "</div>\n",
              "      <button class=\"colab-df-convert\" onclick=\"convertToInteractive('df-1da5bc46-cd82-4ea0-a9e0-7dca04108fbb')\"\n",
              "              title=\"Convert this dataframe to an interactive table.\"\n",
              "              style=\"display:none;\">\n",
              "        \n",
              "  <svg xmlns=\"http://www.w3.org/2000/svg\" height=\"24px\"viewBox=\"0 0 24 24\"\n",
              "       width=\"24px\">\n",
              "    <path d=\"M0 0h24v24H0V0z\" fill=\"none\"/>\n",
              "    <path d=\"M18.56 5.44l.94 2.06.94-2.06 2.06-.94-2.06-.94-.94-2.06-.94 2.06-2.06.94zm-11 1L8.5 8.5l.94-2.06 2.06-.94-2.06-.94L8.5 2.5l-.94 2.06-2.06.94zm10 10l.94 2.06.94-2.06 2.06-.94-2.06-.94-.94-2.06-.94 2.06-2.06.94z\"/><path d=\"M17.41 7.96l-1.37-1.37c-.4-.4-.92-.59-1.43-.59-.52 0-1.04.2-1.43.59L10.3 9.45l-7.72 7.72c-.78.78-.78 2.05 0 2.83L4 21.41c.39.39.9.59 1.41.59.51 0 1.02-.2 1.41-.59l7.78-7.78 2.81-2.81c.8-.78.8-2.07 0-2.86zM5.41 20L4 18.59l7.72-7.72 1.47 1.35L5.41 20z\"/>\n",
              "  </svg>\n",
              "      </button>\n",
              "      \n",
              "  <style>\n",
              "    .colab-df-container {\n",
              "      display:flex;\n",
              "      flex-wrap:wrap;\n",
              "      gap: 12px;\n",
              "    }\n",
              "\n",
              "    .colab-df-convert {\n",
              "      background-color: #E8F0FE;\n",
              "      border: none;\n",
              "      border-radius: 50%;\n",
              "      cursor: pointer;\n",
              "      display: none;\n",
              "      fill: #1967D2;\n",
              "      height: 32px;\n",
              "      padding: 0 0 0 0;\n",
              "      width: 32px;\n",
              "    }\n",
              "\n",
              "    .colab-df-convert:hover {\n",
              "      background-color: #E2EBFA;\n",
              "      box-shadow: 0px 1px 2px rgba(60, 64, 67, 0.3), 0px 1px 3px 1px rgba(60, 64, 67, 0.15);\n",
              "      fill: #174EA6;\n",
              "    }\n",
              "\n",
              "    [theme=dark] .colab-df-convert {\n",
              "      background-color: #3B4455;\n",
              "      fill: #D2E3FC;\n",
              "    }\n",
              "\n",
              "    [theme=dark] .colab-df-convert:hover {\n",
              "      background-color: #434B5C;\n",
              "      box-shadow: 0px 1px 3px 1px rgba(0, 0, 0, 0.15);\n",
              "      filter: drop-shadow(0px 1px 2px rgba(0, 0, 0, 0.3));\n",
              "      fill: #FFFFFF;\n",
              "    }\n",
              "  </style>\n",
              "\n",
              "      <script>\n",
              "        const buttonEl =\n",
              "          document.querySelector('#df-1da5bc46-cd82-4ea0-a9e0-7dca04108fbb button.colab-df-convert');\n",
              "        buttonEl.style.display =\n",
              "          google.colab.kernel.accessAllowed ? 'block' : 'none';\n",
              "\n",
              "        async function convertToInteractive(key) {\n",
              "          const element = document.querySelector('#df-1da5bc46-cd82-4ea0-a9e0-7dca04108fbb');\n",
              "          const dataTable =\n",
              "            await google.colab.kernel.invokeFunction('convertToInteractive',\n",
              "                                                     [key], {});\n",
              "          if (!dataTable) return;\n",
              "\n",
              "          const docLinkHtml = 'Like what you see? Visit the ' +\n",
              "            '<a target=\"_blank\" href=https://colab.research.google.com/notebooks/data_table.ipynb>data table notebook</a>'\n",
              "            + ' to learn more about interactive tables.';\n",
              "          element.innerHTML = '';\n",
              "          dataTable['output_type'] = 'display_data';\n",
              "          await google.colab.output.renderOutput(dataTable, element);\n",
              "          const docLink = document.createElement('div');\n",
              "          docLink.innerHTML = docLinkHtml;\n",
              "          element.appendChild(docLink);\n",
              "        }\n",
              "      </script>\n",
              "    </div>\n",
              "  </div>\n",
              "  "
            ]
          },
          "metadata": {}
        },
        {
          "output_type": "stream",
          "name": "stdout",
          "text": [
            "\n",
            "\n",
            "\n",
            "\n",
            "\u001b[1mKnapsack\u001b[0m\n"
          ]
        },
        {
          "output_type": "display_data",
          "data": {
            "text/plain": [
              "                           Iteration 25              Iteration 50  \\\n",
              "                                   Loss Time(second)         Loss   \n",
              "Discrete Parameter Shift       2.21e+00        40.18    -2.76e+00   \n",
              "Discrete Finite Difference     2.21e+00        39.91    -2.76e+00   \n",
              "Discrete LCU                   2.21e+00        22.68    -2.76e+00   \n",
              "Discrete QNG                   2.61e+00        44.84    -2.64e+00   \n",
              "Discrete Newton Gradient       1.73e+00        60.86    -2.99e+00   \n",
              "\n",
              "                                        Iteration 75               \\\n",
              "                           Time(second)         Loss Time(second)   \n",
              "Discrete Parameter Shift          78.60    -3.00e+00       116.60   \n",
              "Discrete Finite Difference        78.18    -3.00e+00       116.47   \n",
              "Discrete LCU                      44.26    -3.00e+00        66.02   \n",
              "Discrete QNG                      87.74    -3.00e+00       130.68   \n",
              "Discrete Newton Gradient         118.98    -2.92e+00       177.67   \n",
              "\n",
              "                           Iteration 100               \n",
              "                                    Loss Time(second)  \n",
              "Discrete Parameter Shift       -3.00e+00       154.69  \n",
              "Discrete Finite Difference     -3.00e+00       154.78  \n",
              "Discrete LCU                   -3.00e+00        87.61  \n",
              "Discrete QNG                   -3.00e+00       173.82  \n",
              "Discrete Newton Gradient       -2.35e+00       236.04  "
            ],
            "text/html": [
              "\n",
              "  <div id=\"df-12805be6-4b54-460b-8f8a-70dd4488108f\">\n",
              "    <div class=\"colab-df-container\">\n",
              "      <div>\n",
              "<style scoped>\n",
              "    .dataframe tbody tr th:only-of-type {\n",
              "        vertical-align: middle;\n",
              "    }\n",
              "\n",
              "    .dataframe tbody tr th {\n",
              "        vertical-align: top;\n",
              "    }\n",
              "\n",
              "    .dataframe thead tr th {\n",
              "        text-align: left;\n",
              "    }\n",
              "</style>\n",
              "<table border=\"1\" class=\"dataframe\">\n",
              "  <thead>\n",
              "    <tr>\n",
              "      <th></th>\n",
              "      <th colspan=\"2\" halign=\"left\">Iteration 25</th>\n",
              "      <th colspan=\"2\" halign=\"left\">Iteration 50</th>\n",
              "      <th colspan=\"2\" halign=\"left\">Iteration 75</th>\n",
              "      <th colspan=\"2\" halign=\"left\">Iteration 100</th>\n",
              "    </tr>\n",
              "    <tr>\n",
              "      <th></th>\n",
              "      <th>Loss</th>\n",
              "      <th>Time(second)</th>\n",
              "      <th>Loss</th>\n",
              "      <th>Time(second)</th>\n",
              "      <th>Loss</th>\n",
              "      <th>Time(second)</th>\n",
              "      <th>Loss</th>\n",
              "      <th>Time(second)</th>\n",
              "    </tr>\n",
              "  </thead>\n",
              "  <tbody>\n",
              "    <tr>\n",
              "      <th>Discrete Parameter Shift</th>\n",
              "      <td>2.21e+00</td>\n",
              "      <td>40.18</td>\n",
              "      <td>-2.76e+00</td>\n",
              "      <td>78.60</td>\n",
              "      <td>-3.00e+00</td>\n",
              "      <td>116.60</td>\n",
              "      <td>-3.00e+00</td>\n",
              "      <td>154.69</td>\n",
              "    </tr>\n",
              "    <tr>\n",
              "      <th>Discrete Finite Difference</th>\n",
              "      <td>2.21e+00</td>\n",
              "      <td>39.91</td>\n",
              "      <td>-2.76e+00</td>\n",
              "      <td>78.18</td>\n",
              "      <td>-3.00e+00</td>\n",
              "      <td>116.47</td>\n",
              "      <td>-3.00e+00</td>\n",
              "      <td>154.78</td>\n",
              "    </tr>\n",
              "    <tr>\n",
              "      <th>Discrete LCU</th>\n",
              "      <td>2.21e+00</td>\n",
              "      <td>22.68</td>\n",
              "      <td>-2.76e+00</td>\n",
              "      <td>44.26</td>\n",
              "      <td>-3.00e+00</td>\n",
              "      <td>66.02</td>\n",
              "      <td>-3.00e+00</td>\n",
              "      <td>87.61</td>\n",
              "    </tr>\n",
              "    <tr>\n",
              "      <th>Discrete QNG</th>\n",
              "      <td>2.61e+00</td>\n",
              "      <td>44.84</td>\n",
              "      <td>-2.64e+00</td>\n",
              "      <td>87.74</td>\n",
              "      <td>-3.00e+00</td>\n",
              "      <td>130.68</td>\n",
              "      <td>-3.00e+00</td>\n",
              "      <td>173.82</td>\n",
              "    </tr>\n",
              "    <tr>\n",
              "      <th>Discrete Newton Gradient</th>\n",
              "      <td>1.73e+00</td>\n",
              "      <td>60.86</td>\n",
              "      <td>-2.99e+00</td>\n",
              "      <td>118.98</td>\n",
              "      <td>-2.92e+00</td>\n",
              "      <td>177.67</td>\n",
              "      <td>-2.35e+00</td>\n",
              "      <td>236.04</td>\n",
              "    </tr>\n",
              "  </tbody>\n",
              "</table>\n",
              "</div>\n",
              "      <button class=\"colab-df-convert\" onclick=\"convertToInteractive('df-12805be6-4b54-460b-8f8a-70dd4488108f')\"\n",
              "              title=\"Convert this dataframe to an interactive table.\"\n",
              "              style=\"display:none;\">\n",
              "        \n",
              "  <svg xmlns=\"http://www.w3.org/2000/svg\" height=\"24px\"viewBox=\"0 0 24 24\"\n",
              "       width=\"24px\">\n",
              "    <path d=\"M0 0h24v24H0V0z\" fill=\"none\"/>\n",
              "    <path d=\"M18.56 5.44l.94 2.06.94-2.06 2.06-.94-2.06-.94-.94-2.06-.94 2.06-2.06.94zm-11 1L8.5 8.5l.94-2.06 2.06-.94-2.06-.94L8.5 2.5l-.94 2.06-2.06.94zm10 10l.94 2.06.94-2.06 2.06-.94-2.06-.94-.94-2.06-.94 2.06-2.06.94z\"/><path d=\"M17.41 7.96l-1.37-1.37c-.4-.4-.92-.59-1.43-.59-.52 0-1.04.2-1.43.59L10.3 9.45l-7.72 7.72c-.78.78-.78 2.05 0 2.83L4 21.41c.39.39.9.59 1.41.59.51 0 1.02-.2 1.41-.59l7.78-7.78 2.81-2.81c.8-.78.8-2.07 0-2.86zM5.41 20L4 18.59l7.72-7.72 1.47 1.35L5.41 20z\"/>\n",
              "  </svg>\n",
              "      </button>\n",
              "      \n",
              "  <style>\n",
              "    .colab-df-container {\n",
              "      display:flex;\n",
              "      flex-wrap:wrap;\n",
              "      gap: 12px;\n",
              "    }\n",
              "\n",
              "    .colab-df-convert {\n",
              "      background-color: #E8F0FE;\n",
              "      border: none;\n",
              "      border-radius: 50%;\n",
              "      cursor: pointer;\n",
              "      display: none;\n",
              "      fill: #1967D2;\n",
              "      height: 32px;\n",
              "      padding: 0 0 0 0;\n",
              "      width: 32px;\n",
              "    }\n",
              "\n",
              "    .colab-df-convert:hover {\n",
              "      background-color: #E2EBFA;\n",
              "      box-shadow: 0px 1px 2px rgba(60, 64, 67, 0.3), 0px 1px 3px 1px rgba(60, 64, 67, 0.15);\n",
              "      fill: #174EA6;\n",
              "    }\n",
              "\n",
              "    [theme=dark] .colab-df-convert {\n",
              "      background-color: #3B4455;\n",
              "      fill: #D2E3FC;\n",
              "    }\n",
              "\n",
              "    [theme=dark] .colab-df-convert:hover {\n",
              "      background-color: #434B5C;\n",
              "      box-shadow: 0px 1px 3px 1px rgba(0, 0, 0, 0.15);\n",
              "      filter: drop-shadow(0px 1px 2px rgba(0, 0, 0, 0.3));\n",
              "      fill: #FFFFFF;\n",
              "    }\n",
              "  </style>\n",
              "\n",
              "      <script>\n",
              "        const buttonEl =\n",
              "          document.querySelector('#df-12805be6-4b54-460b-8f8a-70dd4488108f button.colab-df-convert');\n",
              "        buttonEl.style.display =\n",
              "          google.colab.kernel.accessAllowed ? 'block' : 'none';\n",
              "\n",
              "        async function convertToInteractive(key) {\n",
              "          const element = document.querySelector('#df-12805be6-4b54-460b-8f8a-70dd4488108f');\n",
              "          const dataTable =\n",
              "            await google.colab.kernel.invokeFunction('convertToInteractive',\n",
              "                                                     [key], {});\n",
              "          if (!dataTable) return;\n",
              "\n",
              "          const docLinkHtml = 'Like what you see? Visit the ' +\n",
              "            '<a target=\"_blank\" href=https://colab.research.google.com/notebooks/data_table.ipynb>data table notebook</a>'\n",
              "            + ' to learn more about interactive tables.';\n",
              "          element.innerHTML = '';\n",
              "          dataTable['output_type'] = 'display_data';\n",
              "          await google.colab.output.renderOutput(dataTable, element);\n",
              "          const docLink = document.createElement('div');\n",
              "          docLink.innerHTML = docLinkHtml;\n",
              "          element.appendChild(docLink);\n",
              "        }\n",
              "      </script>\n",
              "    </div>\n",
              "  </div>\n",
              "  "
            ]
          },
          "metadata": {}
        },
        {
          "output_type": "stream",
          "name": "stdout",
          "text": [
            "\n",
            "\n",
            "\n",
            "\n"
          ]
        }
      ],
      "source": [
        "#@title Comparison Table\n",
        "rows = ['Discrete Parameter Shift',\n",
        "          'Discrete Finite Difference',\n",
        "          'Discrete LCU', \n",
        "          'Discrete QNG',\n",
        "          'Discrete Newton Gradient',\n",
        "          #'Classical'\n",
        "          ]\n",
        "columns_g = [\"Iteration 25\", \"Iteration 50\", \"Iteration 75\", \"Iteration 100\"]\n",
        "iters = [25, 50, 75, 100]\n",
        "columns_s = [\"Loss\", \"Time(second)\"]\n",
        "problems = [\"Max-Cut\", \"Clique\", \"Binary Linear Programming\", \"Knapsack\"]\n",
        "for problemn in range(len(problems)):\n",
        "  df = pd.DataFrame([[psl[problemn][iters[0]], pst[problemn][iters[0]], psl[problemn][iters[1]],pst[problemn][iters[1]],psl[problemn][iters[2]],pst[problemn][iters[2]],psl[problemn][iters[3]],pst[problemn][iters[3]]],\n",
        "                    [fdl[problemn][iters[0]], fdt[problemn][iters[0]], fdl[problemn][iters[1]], fdt[problemn][iters[1]], fdl[problemn][iters[2]], fdt[problemn][iters[2]], fdl[problemn][iters[3]], fdt[problemn][iters[3]]],\n",
        "                    [lcul[problemn][iters[0]], lcut[problemn][iters[0]], lcul[problemn][iters[1]], lcut[problemn][iters[1]], lcul[problemn][iters[2]], lcut[problemn][iters[2]], lcul[problemn][iters[3]], lcut[problemn][iters[3]]],\n",
        "                    [qngl[problemn][iters[0]],qngt[problemn][iters[0]],qngl[problemn][iters[1]],qngt[problemn][iters[1]],qngl[problemn][iters[2]],qngt[problemn][iters[2]], qngl[problemn][iters[3]],qngt[problemn][iters[3]]],\n",
        "                    [qnwl[problemn][iters[0]],qnwt[problemn][iters[0]],qnwl[problemn][iters[1]],qnwt[problemn][iters[1]],qnwl[problemn][iters[2]],qnwt[problemn][iters[2]],qnwl[problemn][iters[3]],qnwt[problemn][iters[3]]],\n",
        "                    #[loss_plot_classical[5],classical_time_i[100],loss_plot_classical[200],classical_time_i[200],loss_plot_classical[300],classical_time_i[300], loss_plot_classical[400],classical_time_i[400], loss_plot_classical[500],classical_time_i[500]]\n",
        "                    ])\n",
        "\n",
        "  col_ix = pd.MultiIndex.from_product([columns_g, columns_s]) \n",
        "  row_ix = pd.MultiIndex.from_product([rows])\n",
        "  df = df.set_index(row_ix)\n",
        "  df.columns = col_ix\n",
        "  df[( 'Iteration 25','Loss')] = df[( 'Iteration 25','Loss')].map('{:.2e}'.format)\n",
        "  df[( 'Iteration 50','Loss')] = df[( 'Iteration 50','Loss')].map('{:.2e}'.format)\n",
        "  df[( 'Iteration 75','Loss')] = df[( 'Iteration 75','Loss')].map('{:.2e}'.format)\n",
        "  df[( 'Iteration 100','Loss')] = df[( 'Iteration 100','Loss')].map('{:.2e}'.format)\n",
        "  # df[( 'Iteration 500','Loss')] = df[( 'Iteration 500','Loss')].map('{:.2e}'.format)\n",
        "  print(f\"\\033[1m{problems[problemn]}\\033[0m\")\n",
        "  df_styled = df.round(2)\n",
        "  display(df_styled)\n",
        "  print(\"\\n\\n\\n\")"
      ]
    },
    {
      "cell_type": "markdown",
      "metadata": {
        "id": "yvG-o_OUTYm3"
      },
      "source": [
        "## Fixed epochs"
      ]
    },
    {
      "cell_type": "code",
      "execution_count": null,
      "metadata": {
        "id": "j4ETsKqKq4Yf",
        "colab": {
          "base_uri": "https://localhost:8080/",
          "height": 737
        },
        "outputId": "73366a9f-ed7e-4b52-c5e9-b3980b5fea04"
      },
      "outputs": [
        {
          "output_type": "display_data",
          "data": {
            "text/html": [
              "<html>\n",
              "<head><meta charset=\"utf-8\" /></head>\n",
              "<body>\n",
              "    <div>            <script src=\"https://cdnjs.cloudflare.com/ajax/libs/mathjax/2.7.5/MathJax.js?config=TeX-AMS-MML_SVG\"></script><script type=\"text/javascript\">if (window.MathJax) {MathJax.Hub.Config({SVG: {font: \"STIX-Web\"}});}</script>                <script type=\"text/javascript\">window.PlotlyConfig = {MathJaxConfig: 'local'};</script>\n",
              "        <script src=\"https://cdn.plot.ly/plotly-2.8.3.min.js\"></script>                <div id=\"28e83280-9f29-4fdb-89b0-ca62e0c7a8a5\" class=\"plotly-graph-div\" style=\"height:700px; width:1000px;\"></div>            <script type=\"text/javascript\">                                    window.PLOTLYENV=window.PLOTLYENV || {};                                    if (document.getElementById(\"28e83280-9f29-4fdb-89b0-ca62e0c7a8a5\")) {                    Plotly.newPlot(                        \"28e83280-9f29-4fdb-89b0-ca62e0c7a8a5\",                        [{\"line\":{\"color\":\"red\",\"width\":2},\"name\":\"Discrete Parameter Shift\",\"showlegend\":true,\"x\":[6,12,18,24,30],\"y\":[-2.9291643284227327,-3.539301048416827,-3.828231709496044,-3.7878372060953778,-3.932990955370388],\"type\":\"scatter\",\"xaxis\":\"x\",\"yaxis\":\"y\"},{\"line\":{\"color\":\"green\",\"width\":2},\"mode\":\"lines\",\"name\":\"Discrete Finite Difference\",\"showlegend\":true,\"x\":[6,12,18,24,30],\"y\":[-2.929164328418348,-3.5393010462703387,-3.8282317113531947,-3.7878373675114476,-3.9329909558659777],\"type\":\"scatter\",\"xaxis\":\"x\",\"yaxis\":\"y\"},{\"line\":{\"color\":\"yellow\",\"width\":2},\"mode\":\"lines\",\"name\":\"Discrete LCU\",\"showlegend\":true,\"x\":[6,12,18,24,30],\"y\":[-2.929164328422733,-3.539301048416826,-3.8282317094960447,-3.7878372060953804,-3.932990955370387],\"type\":\"scatter\",\"xaxis\":\"x\",\"yaxis\":\"y\"},{\"line\":{\"color\":\"blue\",\"width\":2},\"mode\":\"lines\",\"name\":\"Discrete QNG\",\"showlegend\":true,\"x\":[6,12,18,24,30],\"y\":[-2.941589289072147,-3.5243001957745834,-3.803825381882615,-3.7506633513053558,-3.942992152383213],\"type\":\"scatter\",\"xaxis\":\"x\",\"yaxis\":\"y\"},{\"line\":{\"color\":\"brown\",\"width\":2},\"mode\":\"lines\",\"name\":\"Discrete Newton Gradient\",\"showlegend\":true,\"x\":[6,12,18,24,30],\"y\":[-2.9579848119884398,-3.3238476797868346,-3.5569044852788445,-3.9099905456365747,-3.7367243674741877],\"type\":\"scatter\",\"xaxis\":\"x\",\"yaxis\":\"y\"},{\"line\":{\"color\":\"red\",\"width\":2},\"name\":\"Discrete Parameter Shift\",\"showlegend\":false,\"x\":[6,12,18,24,30],\"y\":[-1.876863858222546,-2.407202191774318,-2.635853393624218,-2.7892539116655244,-2.6502520486206276],\"type\":\"scatter\",\"xaxis\":\"x2\",\"yaxis\":\"y2\"},{\"line\":{\"color\":\"green\",\"width\":2},\"mode\":\"lines\",\"name\":\"Discrete Finite Difference\",\"showlegend\":false,\"x\":[6,12,18,24,30],\"y\":[-1.876863835539945,-2.4072021915045503,-2.635853393601198,-2.789253863591263,-2.6502520488040204],\"type\":\"scatter\",\"xaxis\":\"x2\",\"yaxis\":\"y2\"},{\"line\":{\"color\":\"yellow\",\"width\":2},\"mode\":\"lines\",\"name\":\"Discrete LCU\",\"showlegend\":false,\"x\":[6,12,18,24,30],\"y\":[-1.8768638582225465,-2.4072021917743216,-2.6358533936242265,-2.7892539116655186,-2.650252048620624],\"type\":\"scatter\",\"xaxis\":\"x2\",\"yaxis\":\"y2\"},{\"line\":{\"color\":\"blue\",\"width\":2},\"mode\":\"lines\",\"name\":\"Discrete QNG\",\"showlegend\":false,\"x\":[6,12,18,24,30],\"y\":[-1.897975318928554,-2.4071987988668684,-2.644206244015259,-2.880196460276043,-2.6526942955793196],\"type\":\"scatter\",\"xaxis\":\"x2\",\"yaxis\":\"y2\"},{\"line\":{\"color\":\"brown\",\"width\":2},\"mode\":\"lines\",\"name\":\"Discrete Newton Gradient\",\"showlegend\":false,\"x\":[6,12,18,24,30],\"y\":[-1.973754310834769,-1.551114623179663,0.3817639843403245,0.3947592996186045,-1.5893694640355402],\"type\":\"scatter\",\"xaxis\":\"x2\",\"yaxis\":\"y2\"},{\"line\":{\"color\":\"red\",\"width\":2},\"name\":\"Discrete Parameter Shift\",\"showlegend\":false,\"x\":[6,12,18,24,30],\"y\":[314801.59237132076,285518.8215265906,233156.36877137632,194202.64663859428,217817.13097259385],\"type\":\"scatter\",\"xaxis\":\"x3\",\"yaxis\":\"y3\"},{\"line\":{\"color\":\"green\",\"width\":2},\"mode\":\"lines\",\"name\":\"Discrete Finite Difference\",\"showlegend\":false,\"x\":[6,12,18,24,30],\"y\":[314801.59237132064,285518.82152658893,233156.36877137795,194202.64663859486,217817.13097259722],\"type\":\"scatter\",\"xaxis\":\"x3\",\"yaxis\":\"y3\"},{\"line\":{\"color\":\"yellow\",\"width\":2},\"mode\":\"lines\",\"name\":\"Discrete LCU\",\"showlegend\":false,\"x\":[6,12,18,24,30],\"y\":[314801.59237132064,285518.8215265906,233156.36877137632,194202.6466385944,217817.13097259443],\"type\":\"scatter\",\"xaxis\":\"x3\",\"yaxis\":\"y3\"},{\"line\":{\"color\":\"blue\",\"width\":2},\"mode\":\"lines\",\"name\":\"Discrete QNG\",\"showlegend\":false,\"x\":[6,12,18,24,30],\"y\":[310609.1537419628,286893.91481415957,241174.27341195743,190318.3935726753,218464.63960607367],\"type\":\"scatter\",\"xaxis\":\"x3\",\"yaxis\":\"y3\"},{\"line\":{\"color\":\"brown\",\"width\":2},\"mode\":\"lines\",\"name\":\"Discrete Newton Gradient\",\"showlegend\":false,\"x\":[6,12,18,24,30],\"y\":[421976.3918746569,387725.42407439055,373437.4417136734,416790.0452377115,430773.1486934845],\"type\":\"scatter\",\"xaxis\":\"x3\",\"yaxis\":\"y3\"},{\"line\":{\"color\":\"red\",\"width\":2},\"name\":\"Discrete Parameter Shift\",\"showlegend\":false,\"x\":[6,12,18,24,30],\"y\":[2.24360521907084,-0.2069899786378535,0.1879486292593775,-0.9966831801412717,-1.7792702882944589],\"type\":\"scatter\",\"xaxis\":\"x4\",\"yaxis\":\"y4\"},{\"line\":{\"color\":\"green\",\"width\":2},\"mode\":\"lines\",\"name\":\"Discrete Finite Difference\",\"showlegend\":false,\"x\":[6,12,18,24,30],\"y\":[2.243605219069817,-0.20698997864233526,0.18794863023108377,-0.9966831985632361,-1.7792702888604843],\"type\":\"scatter\",\"xaxis\":\"x4\",\"yaxis\":\"y4\"},{\"line\":{\"color\":\"yellow\",\"width\":2},\"mode\":\"lines\",\"name\":\"Discrete LCU\",\"showlegend\":false,\"x\":[6,12,18,24,30],\"y\":[2.2436052190708384,-0.20698997863784818,0.18794862925939704,-0.9966831801412752,-1.7792702882944447],\"type\":\"scatter\",\"xaxis\":\"x4\",\"yaxis\":\"y4\"},{\"line\":{\"color\":\"blue\",\"width\":2},\"mode\":\"lines\",\"name\":\"Discrete QNG\",\"showlegend\":false,\"x\":[6,12,18,24,30],\"y\":[2.0759706029469314,-0.11421887803508746,-0.43520495265521575,-0.9394324103253435,-1.7626333075849043],\"type\":\"scatter\",\"xaxis\":\"x4\",\"yaxis\":\"y4\"},{\"line\":{\"color\":\"brown\",\"width\":2},\"mode\":\"lines\",\"name\":\"Discrete Newton Gradient\",\"showlegend\":false,\"x\":[6,12,18,24,30],\"y\":[12.823544904137746,9.5025909066238,5.738293838450506,1.2491742197728835,4.2308902250550044],\"type\":\"scatter\",\"xaxis\":\"x4\",\"yaxis\":\"y4\"}],                        {\"template\":{\"data\":{\"bar\":[{\"error_x\":{\"color\":\"#2a3f5f\"},\"error_y\":{\"color\":\"#2a3f5f\"},\"marker\":{\"line\":{\"color\":\"#E5ECF6\",\"width\":0.5},\"pattern\":{\"fillmode\":\"overlay\",\"size\":10,\"solidity\":0.2}},\"type\":\"bar\"}],\"barpolar\":[{\"marker\":{\"line\":{\"color\":\"#E5ECF6\",\"width\":0.5},\"pattern\":{\"fillmode\":\"overlay\",\"size\":10,\"solidity\":0.2}},\"type\":\"barpolar\"}],\"carpet\":[{\"aaxis\":{\"endlinecolor\":\"#2a3f5f\",\"gridcolor\":\"white\",\"linecolor\":\"white\",\"minorgridcolor\":\"white\",\"startlinecolor\":\"#2a3f5f\"},\"baxis\":{\"endlinecolor\":\"#2a3f5f\",\"gridcolor\":\"white\",\"linecolor\":\"white\",\"minorgridcolor\":\"white\",\"startlinecolor\":\"#2a3f5f\"},\"type\":\"carpet\"}],\"choropleth\":[{\"colorbar\":{\"outlinewidth\":0,\"ticks\":\"\"},\"type\":\"choropleth\"}],\"contour\":[{\"colorbar\":{\"outlinewidth\":0,\"ticks\":\"\"},\"colorscale\":[[0.0,\"#0d0887\"],[0.1111111111111111,\"#46039f\"],[0.2222222222222222,\"#7201a8\"],[0.3333333333333333,\"#9c179e\"],[0.4444444444444444,\"#bd3786\"],[0.5555555555555556,\"#d8576b\"],[0.6666666666666666,\"#ed7953\"],[0.7777777777777778,\"#fb9f3a\"],[0.8888888888888888,\"#fdca26\"],[1.0,\"#f0f921\"]],\"type\":\"contour\"}],\"contourcarpet\":[{\"colorbar\":{\"outlinewidth\":0,\"ticks\":\"\"},\"type\":\"contourcarpet\"}],\"heatmap\":[{\"colorbar\":{\"outlinewidth\":0,\"ticks\":\"\"},\"colorscale\":[[0.0,\"#0d0887\"],[0.1111111111111111,\"#46039f\"],[0.2222222222222222,\"#7201a8\"],[0.3333333333333333,\"#9c179e\"],[0.4444444444444444,\"#bd3786\"],[0.5555555555555556,\"#d8576b\"],[0.6666666666666666,\"#ed7953\"],[0.7777777777777778,\"#fb9f3a\"],[0.8888888888888888,\"#fdca26\"],[1.0,\"#f0f921\"]],\"type\":\"heatmap\"}],\"heatmapgl\":[{\"colorbar\":{\"outlinewidth\":0,\"ticks\":\"\"},\"colorscale\":[[0.0,\"#0d0887\"],[0.1111111111111111,\"#46039f\"],[0.2222222222222222,\"#7201a8\"],[0.3333333333333333,\"#9c179e\"],[0.4444444444444444,\"#bd3786\"],[0.5555555555555556,\"#d8576b\"],[0.6666666666666666,\"#ed7953\"],[0.7777777777777778,\"#fb9f3a\"],[0.8888888888888888,\"#fdca26\"],[1.0,\"#f0f921\"]],\"type\":\"heatmapgl\"}],\"histogram\":[{\"marker\":{\"pattern\":{\"fillmode\":\"overlay\",\"size\":10,\"solidity\":0.2}},\"type\":\"histogram\"}],\"histogram2d\":[{\"colorbar\":{\"outlinewidth\":0,\"ticks\":\"\"},\"colorscale\":[[0.0,\"#0d0887\"],[0.1111111111111111,\"#46039f\"],[0.2222222222222222,\"#7201a8\"],[0.3333333333333333,\"#9c179e\"],[0.4444444444444444,\"#bd3786\"],[0.5555555555555556,\"#d8576b\"],[0.6666666666666666,\"#ed7953\"],[0.7777777777777778,\"#fb9f3a\"],[0.8888888888888888,\"#fdca26\"],[1.0,\"#f0f921\"]],\"type\":\"histogram2d\"}],\"histogram2dcontour\":[{\"colorbar\":{\"outlinewidth\":0,\"ticks\":\"\"},\"colorscale\":[[0.0,\"#0d0887\"],[0.1111111111111111,\"#46039f\"],[0.2222222222222222,\"#7201a8\"],[0.3333333333333333,\"#9c179e\"],[0.4444444444444444,\"#bd3786\"],[0.5555555555555556,\"#d8576b\"],[0.6666666666666666,\"#ed7953\"],[0.7777777777777778,\"#fb9f3a\"],[0.8888888888888888,\"#fdca26\"],[1.0,\"#f0f921\"]],\"type\":\"histogram2dcontour\"}],\"mesh3d\":[{\"colorbar\":{\"outlinewidth\":0,\"ticks\":\"\"},\"type\":\"mesh3d\"}],\"parcoords\":[{\"line\":{\"colorbar\":{\"outlinewidth\":0,\"ticks\":\"\"}},\"type\":\"parcoords\"}],\"pie\":[{\"automargin\":true,\"type\":\"pie\"}],\"scatter\":[{\"marker\":{\"colorbar\":{\"outlinewidth\":0,\"ticks\":\"\"}},\"type\":\"scatter\"}],\"scatter3d\":[{\"line\":{\"colorbar\":{\"outlinewidth\":0,\"ticks\":\"\"}},\"marker\":{\"colorbar\":{\"outlinewidth\":0,\"ticks\":\"\"}},\"type\":\"scatter3d\"}],\"scattercarpet\":[{\"marker\":{\"colorbar\":{\"outlinewidth\":0,\"ticks\":\"\"}},\"type\":\"scattercarpet\"}],\"scattergeo\":[{\"marker\":{\"colorbar\":{\"outlinewidth\":0,\"ticks\":\"\"}},\"type\":\"scattergeo\"}],\"scattergl\":[{\"marker\":{\"colorbar\":{\"outlinewidth\":0,\"ticks\":\"\"}},\"type\":\"scattergl\"}],\"scattermapbox\":[{\"marker\":{\"colorbar\":{\"outlinewidth\":0,\"ticks\":\"\"}},\"type\":\"scattermapbox\"}],\"scatterpolar\":[{\"marker\":{\"colorbar\":{\"outlinewidth\":0,\"ticks\":\"\"}},\"type\":\"scatterpolar\"}],\"scatterpolargl\":[{\"marker\":{\"colorbar\":{\"outlinewidth\":0,\"ticks\":\"\"}},\"type\":\"scatterpolargl\"}],\"scatterternary\":[{\"marker\":{\"colorbar\":{\"outlinewidth\":0,\"ticks\":\"\"}},\"type\":\"scatterternary\"}],\"surface\":[{\"colorbar\":{\"outlinewidth\":0,\"ticks\":\"\"},\"colorscale\":[[0.0,\"#0d0887\"],[0.1111111111111111,\"#46039f\"],[0.2222222222222222,\"#7201a8\"],[0.3333333333333333,\"#9c179e\"],[0.4444444444444444,\"#bd3786\"],[0.5555555555555556,\"#d8576b\"],[0.6666666666666666,\"#ed7953\"],[0.7777777777777778,\"#fb9f3a\"],[0.8888888888888888,\"#fdca26\"],[1.0,\"#f0f921\"]],\"type\":\"surface\"}],\"table\":[{\"cells\":{\"fill\":{\"color\":\"#EBF0F8\"},\"line\":{\"color\":\"white\"}},\"header\":{\"fill\":{\"color\":\"#C8D4E3\"},\"line\":{\"color\":\"white\"}},\"type\":\"table\"}]},\"layout\":{\"annotationdefaults\":{\"arrowcolor\":\"#2a3f5f\",\"arrowhead\":0,\"arrowwidth\":1},\"autotypenumbers\":\"strict\",\"coloraxis\":{\"colorbar\":{\"outlinewidth\":0,\"ticks\":\"\"}},\"colorscale\":{\"diverging\":[[0,\"#8e0152\"],[0.1,\"#c51b7d\"],[0.2,\"#de77ae\"],[0.3,\"#f1b6da\"],[0.4,\"#fde0ef\"],[0.5,\"#f7f7f7\"],[0.6,\"#e6f5d0\"],[0.7,\"#b8e186\"],[0.8,\"#7fbc41\"],[0.9,\"#4d9221\"],[1,\"#276419\"]],\"sequential\":[[0.0,\"#0d0887\"],[0.1111111111111111,\"#46039f\"],[0.2222222222222222,\"#7201a8\"],[0.3333333333333333,\"#9c179e\"],[0.4444444444444444,\"#bd3786\"],[0.5555555555555556,\"#d8576b\"],[0.6666666666666666,\"#ed7953\"],[0.7777777777777778,\"#fb9f3a\"],[0.8888888888888888,\"#fdca26\"],[1.0,\"#f0f921\"]],\"sequentialminus\":[[0.0,\"#0d0887\"],[0.1111111111111111,\"#46039f\"],[0.2222222222222222,\"#7201a8\"],[0.3333333333333333,\"#9c179e\"],[0.4444444444444444,\"#bd3786\"],[0.5555555555555556,\"#d8576b\"],[0.6666666666666666,\"#ed7953\"],[0.7777777777777778,\"#fb9f3a\"],[0.8888888888888888,\"#fdca26\"],[1.0,\"#f0f921\"]]},\"colorway\":[\"#636efa\",\"#EF553B\",\"#00cc96\",\"#ab63fa\",\"#FFA15A\",\"#19d3f3\",\"#FF6692\",\"#B6E880\",\"#FF97FF\",\"#FECB52\"],\"font\":{\"color\":\"#2a3f5f\"},\"geo\":{\"bgcolor\":\"white\",\"lakecolor\":\"white\",\"landcolor\":\"#E5ECF6\",\"showlakes\":true,\"showland\":true,\"subunitcolor\":\"white\"},\"hoverlabel\":{\"align\":\"left\"},\"hovermode\":\"closest\",\"mapbox\":{\"style\":\"light\"},\"paper_bgcolor\":\"white\",\"plot_bgcolor\":\"#E5ECF6\",\"polar\":{\"angularaxis\":{\"gridcolor\":\"white\",\"linecolor\":\"white\",\"ticks\":\"\"},\"bgcolor\":\"#E5ECF6\",\"radialaxis\":{\"gridcolor\":\"white\",\"linecolor\":\"white\",\"ticks\":\"\"}},\"scene\":{\"xaxis\":{\"backgroundcolor\":\"#E5ECF6\",\"gridcolor\":\"white\",\"gridwidth\":2,\"linecolor\":\"white\",\"showbackground\":true,\"ticks\":\"\",\"zerolinecolor\":\"white\"},\"yaxis\":{\"backgroundcolor\":\"#E5ECF6\",\"gridcolor\":\"white\",\"gridwidth\":2,\"linecolor\":\"white\",\"showbackground\":true,\"ticks\":\"\",\"zerolinecolor\":\"white\"},\"zaxis\":{\"backgroundcolor\":\"#E5ECF6\",\"gridcolor\":\"white\",\"gridwidth\":2,\"linecolor\":\"white\",\"showbackground\":true,\"ticks\":\"\",\"zerolinecolor\":\"white\"}},\"shapedefaults\":{\"line\":{\"color\":\"#2a3f5f\"}},\"ternary\":{\"aaxis\":{\"gridcolor\":\"white\",\"linecolor\":\"white\",\"ticks\":\"\"},\"baxis\":{\"gridcolor\":\"white\",\"linecolor\":\"white\",\"ticks\":\"\"},\"bgcolor\":\"#E5ECF6\",\"caxis\":{\"gridcolor\":\"white\",\"linecolor\":\"white\",\"ticks\":\"\"}},\"title\":{\"x\":0.05},\"xaxis\":{\"automargin\":true,\"gridcolor\":\"white\",\"linecolor\":\"white\",\"ticks\":\"\",\"title\":{\"standoff\":15},\"zerolinecolor\":\"white\",\"zerolinewidth\":2},\"yaxis\":{\"automargin\":true,\"gridcolor\":\"white\",\"linecolor\":\"white\",\"ticks\":\"\",\"title\":{\"standoff\":15},\"zerolinecolor\":\"white\",\"zerolinewidth\":2}}},\"xaxis\":{\"anchor\":\"y\",\"domain\":[0.0,0.45],\"title\":{\"text\":\"The Number of parameterized gate\"}},\"yaxis\":{\"anchor\":\"x\",\"domain\":[0.625,1.0],\"title\":{\"text\":\"Loss\"}},\"xaxis2\":{\"anchor\":\"y2\",\"domain\":[0.55,1.0]},\"yaxis2\":{\"anchor\":\"x2\",\"domain\":[0.625,1.0]},\"xaxis3\":{\"anchor\":\"y3\",\"domain\":[0.0,0.45]},\"yaxis3\":{\"anchor\":\"x3\",\"domain\":[0.0,0.375]},\"xaxis4\":{\"anchor\":\"y4\",\"domain\":[0.55,1.0]},\"yaxis4\":{\"anchor\":\"x4\",\"domain\":[0.0,0.375]},\"annotations\":[{\"font\":{\"size\":16},\"showarrow\":false,\"text\":\"Max-Cut\",\"x\":0.225,\"xanchor\":\"center\",\"xref\":\"paper\",\"y\":1.0,\"yanchor\":\"bottom\",\"yref\":\"paper\"},{\"font\":{\"size\":16},\"showarrow\":false,\"text\":\"Clique\",\"x\":0.775,\"xanchor\":\"center\",\"xref\":\"paper\",\"y\":1.0,\"yanchor\":\"bottom\",\"yref\":\"paper\"},{\"font\":{\"size\":16},\"showarrow\":false,\"text\":\"Binary Linear Programming\",\"x\":0.225,\"xanchor\":\"center\",\"xref\":\"paper\",\"y\":0.375,\"yanchor\":\"bottom\",\"yref\":\"paper\"},{\"font\":{\"size\":16},\"showarrow\":false,\"text\":\"Knapsack\",\"x\":0.775,\"xanchor\":\"center\",\"xref\":\"paper\",\"y\":0.375,\"yanchor\":\"bottom\",\"yref\":\"paper\"}],\"title\":{\"text\":\"Loss Comparison  <br><sup>Fixed epochs (10 epochs).</sup>\"},\"autosize\":false,\"width\":1000,\"height\":700},                        {\"responsive\": true}                    ).then(function(){\n",
              "                            \n",
              "var gd = document.getElementById('28e83280-9f29-4fdb-89b0-ca62e0c7a8a5');\n",
              "var x = new MutationObserver(function (mutations, observer) {{\n",
              "        var display = window.getComputedStyle(gd).display;\n",
              "        if (!display || display === 'none') {{\n",
              "            console.log([gd, 'removed!']);\n",
              "            Plotly.purge(gd);\n",
              "            observer.disconnect();\n",
              "        }}\n",
              "}});\n",
              "\n",
              "// Listen for the removal of the full notebook cells\n",
              "var notebookContainer = gd.closest('#notebook-container');\n",
              "if (notebookContainer) {{\n",
              "    x.observe(notebookContainer, {childList: true});\n",
              "}}\n",
              "\n",
              "// Listen for the clearing of the current output cell\n",
              "var outputEl = gd.closest('.output');\n",
              "if (outputEl) {{\n",
              "    x.observe(outputEl, {childList: true});\n",
              "}}\n",
              "\n",
              "                        })                };                            </script>        </div>\n",
              "</body>\n",
              "</html>"
            ]
          },
          "metadata": {}
        }
      ],
      "source": [
        "#@title Loss Comparison \n",
        "#@markdown Fixed epochs (10 epochs).\n",
        "from plotly.subplots import make_subplots\n",
        "\n",
        "x = [step*3*4 for step in steps]\n",
        "row = 2\n",
        "col = 2\n",
        "fig = make_subplots(rows=row, cols=col, subplot_titles=(\"Max-Cut\",\"Clique\",\"Binary Linear Programming\", \"Knapsack\"))\n",
        "show = True\n",
        "for i in range(row):\n",
        "  for j in range(col):\n",
        "    problemn = i*col+j\n",
        "    if problemn>0:\n",
        "      show = False\n",
        "    dv = pd.DataFrame({\"#Param Gates\":x, \"Loss\":pslc[problemn]})\n",
        "    dv_fd = pd.DataFrame({\"#Param Gates\":x, \"Loss\":fdlc[problemn]})\n",
        "    dv_lcu = pd.DataFrame({\"#Param Gates\":x, \"Loss\":lculc[problemn]})\n",
        "    dv_qng = pd.DataFrame({\"#Param Gates\":x, \"Loss\":qnglc[problemn]})\n",
        "    dv_newton = pd.DataFrame({\"#Param Gates\":x, \"Loss\":qnwlc[problemn]})\n",
        "\n",
        "    # dv_cls = pd.DataFrame({\"#Param Gates\":range(len(loss_plot_classical)), \"Loss\":loss_plot_classical})\n",
        "\n",
        "    fig.add_trace(go.Scatter(x=dv[\"#Param Gates\"], y=dv[\"Loss\"], name=\"Discrete Parameter Shift\", line = dict(width=2), line_color='red', showlegend = show), row=i+1, col=j+1)\n",
        "    fig.add_trace(go.Scatter(x=dv_fd[\"#Param Gates\"], y=dv_fd[\"Loss\"], mode=\"lines\", name=\"Discrete Finite Difference\", line = dict(width=2), line_color='green', showlegend = show), row=i+1, col=j+1)\n",
        "    fig.add_trace(go.Scatter(x=dv_lcu[\"#Param Gates\"], y=dv_lcu[\"Loss\"], mode=\"lines\", name=\"Discrete LCU\", line = dict(width=2), line_color='yellow', showlegend = show), row=i+1, col=j+1)\n",
        "    fig.add_trace(go.Scatter(x=dv_qng[\"#Param Gates\"], y=dv_qng[\"Loss\"], mode=\"lines\", name=\"Discrete QNG\", line = dict(width=2), line_color='blue', showlegend = show), row=i+1, col=j+1)\n",
        "    fig.add_trace(go.Scatter(x=dv_newton[\"#Param Gates\"], y=dv_newton[\"Loss\"], mode=\"lines\", name=\"Discrete Newton Gradient\", line = dict(width=2), line_color='brown', showlegend = show), row=i+1, col=j+1)\n",
        "\n",
        "    # fig.add_trace(go.Scatter(x=dv_cls[\"#Param Gates\"], y=dv_cls[\"Loss\"], mode=\"lines\", name=\"Classical\"))\n",
        "\n",
        "\n",
        "fig.update_layout(title=\"Loss Comparison  <br><sup>Fixed epochs (10 epochs).</sup>\",\n",
        "                  xaxis_title=\"The Number of parameterized gate\",\n",
        "                  yaxis_title=\"Loss\", autosize=False,\n",
        "                  width=1000,\n",
        "                  height=700)\n",
        "plotly.offline.plot(fig, filename='loss_fixepoch.html')\n",
        "fig.show()"
      ]
    },
    {
      "cell_type": "code",
      "source": [
        "with open('analytic_pslc.pk', 'wb') as fp:\n",
        "    pickle.dump(pslc, fp)\n",
        "with open('analytic_fdlc.pk', 'wb') as fp:\n",
        "    pickle.dump(fdlc, fp)\n",
        "with open('analytic_lculc.pk', 'wb') as fp:\n",
        "    pickle.dump(lculc, fp)\n",
        "with open('analytic_qnglc.pk', 'wb') as fp:\n",
        "    pickle.dump(qnglc, fp)\n",
        "with open('analytic_qnwlc.pk', 'wb') as fp:\n",
        "    pickle.dump(qnwlc, fp)"
      ],
      "metadata": {
        "id": "TUfPe0_ds9dX"
      },
      "execution_count": null,
      "outputs": []
    },
    {
      "cell_type": "code",
      "execution_count": null,
      "metadata": {
        "id": "S-MBnDy8ta7l",
        "colab": {
          "base_uri": "https://localhost:8080/",
          "height": 737
        },
        "outputId": "cde5f44c-8b2b-455e-e45f-49762f3020b8"
      },
      "outputs": [
        {
          "output_type": "display_data",
          "data": {
            "text/html": [
              "<html>\n",
              "<head><meta charset=\"utf-8\" /></head>\n",
              "<body>\n",
              "    <div>            <script src=\"https://cdnjs.cloudflare.com/ajax/libs/mathjax/2.7.5/MathJax.js?config=TeX-AMS-MML_SVG\"></script><script type=\"text/javascript\">if (window.MathJax) {MathJax.Hub.Config({SVG: {font: \"STIX-Web\"}});}</script>                <script type=\"text/javascript\">window.PlotlyConfig = {MathJaxConfig: 'local'};</script>\n",
              "        <script src=\"https://cdn.plot.ly/plotly-2.8.3.min.js\"></script>                <div id=\"ffa5a1dc-ae7d-4a5a-a44a-16702fe0fb7a\" class=\"plotly-graph-div\" style=\"height:700px; width:1000px;\"></div>            <script type=\"text/javascript\">                                    window.PLOTLYENV=window.PLOTLYENV || {};                                    if (document.getElementById(\"ffa5a1dc-ae7d-4a5a-a44a-16702fe0fb7a\")) {                    Plotly.newPlot(                        \"ffa5a1dc-ae7d-4a5a-a44a-16702fe0fb7a\",                        [{\"line\":{\"color\":\"red\",\"width\":2},\"name\":\"Discrete Parameter Shift\",\"showlegend\":true,\"x\":[6,12,18,24,30],\"y\":[15.740090131759644,49.40399742126465,104.32033944129944,175.8740005493164,266.840922832489],\"type\":\"scatter\",\"xaxis\":\"x\",\"yaxis\":\"y\"},{\"line\":{\"color\":\"green\",\"width\":2},\"mode\":\"lines\",\"name\":\"Discrete Finite Difference\",\"showlegend\":true,\"x\":[6,12,18,24,30],\"y\":[15.187196493148804,49.21327471733093,103.13931202888489,175.04283094406128,264.5881767272949],\"type\":\"scatter\",\"xaxis\":\"x\",\"yaxis\":\"y\"},{\"line\":{\"color\":\"yellow\",\"width\":2},\"mode\":\"lines\",\"name\":\"Discrete LCU\",\"showlegend\":true,\"x\":[6,12,18,24,30],\"y\":[8.777036905288696,28.261820554733276,60.574538230895996,104.3041684627533,159.05149602890015],\"type\":\"scatter\",\"xaxis\":\"x\",\"yaxis\":\"y\"},{\"line\":{\"color\":\"blue\",\"width\":2},\"mode\":\"lines\",\"name\":\"Discrete QNG\",\"showlegend\":true,\"x\":[6,12,18,24,30],\"y\":[17.454991340637207,57.18799829483032,120.03845429420471,207.89504861831665,314.3795886039734],\"type\":\"scatter\",\"xaxis\":\"x\",\"yaxis\":\"y\"},{\"line\":{\"color\":\"brown\",\"width\":2},\"mode\":\"lines\",\"name\":\"Discrete Newton Gradient\",\"showlegend\":true,\"x\":[6,12,18,24,30],\"y\":[23.581095695495605,79.00635600090027,166.47589421272278,286.5230977535248,439.1489984989166],\"type\":\"scatter\",\"xaxis\":\"x\",\"yaxis\":\"y\"},{\"line\":{\"color\":\"red\",\"width\":2},\"name\":\"Discrete Parameter Shift\",\"showlegend\":false,\"x\":[6,12,18,24,30],\"y\":[15.636297464370728,50.25202822685242,137.85746574401855,179.8392117023468,271.5647599697113],\"type\":\"scatter\",\"xaxis\":\"x2\",\"yaxis\":\"y2\"},{\"line\":{\"color\":\"green\",\"width\":2},\"mode\":\"lines\",\"name\":\"Discrete Finite Difference\",\"showlegend\":false,\"x\":[6,12,18,24,30],\"y\":[15.622783184051514,49.980337381362915,104.08227586746216,175.64301919937134,265.4995422363281],\"type\":\"scatter\",\"xaxis\":\"x2\",\"yaxis\":\"y2\"},{\"line\":{\"color\":\"yellow\",\"width\":2},\"mode\":\"lines\",\"name\":\"Discrete LCU\",\"showlegend\":false,\"x\":[6,12,18,24,30],\"y\":[8.75491976737976,29.085301637649536,61.662638664245605,106.44984245300293,161.0317268371582],\"type\":\"scatter\",\"xaxis\":\"x2\",\"yaxis\":\"y2\"},{\"line\":{\"color\":\"blue\",\"width\":2},\"mode\":\"lines\",\"name\":\"Discrete QNG\",\"showlegend\":false,\"x\":[6,12,18,24,30],\"y\":[17.793784141540527,56.94083070755005,121.02777671813965,207.06451845169067,316.4127721786499],\"type\":\"scatter\",\"xaxis\":\"x2\",\"yaxis\":\"y2\"},{\"line\":{\"color\":\"brown\",\"width\":2},\"mode\":\"lines\",\"name\":\"Discrete Newton Gradient\",\"showlegend\":false,\"x\":[6,12,18,24,30],\"y\":[24.24384379386902,79.7825379371643,167.6923384666443,286.9486126899719,442.57683396339417],\"type\":\"scatter\",\"xaxis\":\"x2\",\"yaxis\":\"y2\"},{\"line\":{\"color\":\"red\",\"width\":2},\"name\":\"Discrete Parameter Shift\",\"showlegend\":false,\"x\":[6,12,18,24,30],\"y\":[15.365378379821777,49.69371271133423,102.93098306655884,175.22434759140015,265.920951128006],\"type\":\"scatter\",\"xaxis\":\"x3\",\"yaxis\":\"y3\"},{\"line\":{\"color\":\"green\",\"width\":2},\"mode\":\"lines\",\"name\":\"Discrete Finite Difference\",\"showlegend\":false,\"x\":[6,12,18,24,30],\"y\":[15.50945234298706,49.64935636520386,104.25744533538818,176.52209329605103,266.524400472641],\"type\":\"scatter\",\"xaxis\":\"x3\",\"yaxis\":\"y3\"},{\"line\":{\"color\":\"yellow\",\"width\":2},\"mode\":\"lines\",\"name\":\"Discrete LCU\",\"showlegend\":false,\"x\":[6,12,18,24,30],\"y\":[8.81435775756836,28.932698726654053,60.81494164466858,105.4976077079773,161.70978665351868],\"type\":\"scatter\",\"xaxis\":\"x3\",\"yaxis\":\"y3\"},{\"line\":{\"color\":\"blue\",\"width\":2},\"mode\":\"lines\",\"name\":\"Discrete QNG\",\"showlegend\":false,\"x\":[6,12,18,24,30],\"y\":[17.683518171310425,57.61891460418701,120.80064082145691,205.47753167152405,314.5944867134094],\"type\":\"scatter\",\"xaxis\":\"x3\",\"yaxis\":\"y3\"},{\"line\":{\"color\":\"brown\",\"width\":2},\"mode\":\"lines\",\"name\":\"Discrete Newton Gradient\",\"showlegend\":false,\"x\":[6,12,18,24,30],\"y\":[24.30936574935913,79.6803834438324,168.3146538734436,288.49579644203186,441.7503480911255],\"type\":\"scatter\",\"xaxis\":\"x3\",\"yaxis\":\"y3\"},{\"line\":{\"color\":\"red\",\"width\":2},\"name\":\"Discrete Parameter Shift\",\"showlegend\":false,\"x\":[6,12,18,24,30],\"y\":[16.841322898864746,52.274731397628784,106.66596579551697,181.63919138908386,271.4987335205078],\"type\":\"scatter\",\"xaxis\":\"x4\",\"yaxis\":\"y4\"},{\"line\":{\"color\":\"green\",\"width\":2},\"mode\":\"lines\",\"name\":\"Discrete Finite Difference\",\"showlegend\":false,\"x\":[6,12,18,24,30],\"y\":[17.02663803100586,52.86411499977112,108.56785893440247,182.15246033668518,272.2717983722687],\"type\":\"scatter\",\"xaxis\":\"x4\",\"yaxis\":\"y4\"},{\"line\":{\"color\":\"yellow\",\"width\":2},\"mode\":\"lines\",\"name\":\"Discrete LCU\",\"showlegend\":false,\"x\":[6,12,18,24,30],\"y\":[9.757494688034058,31.076287269592285,63.27871870994568,108.66019463539124,165.43583011627197],\"type\":\"scatter\",\"xaxis\":\"x4\",\"yaxis\":\"y4\"},{\"line\":{\"color\":\"blue\",\"width\":2},\"mode\":\"lines\",\"name\":\"Discrete QNG\",\"showlegend\":false,\"x\":[6,12,18,24,30],\"y\":[19.03200125694275,59.56184983253479,135.62133073806763,212.61709666252136,318.98144483566284],\"type\":\"scatter\",\"xaxis\":\"x4\",\"yaxis\":\"y4\"},{\"line\":{\"color\":\"brown\",\"width\":2},\"mode\":\"lines\",\"name\":\"Discrete Newton Gradient\",\"showlegend\":false,\"x\":[6,12,18,24,30],\"y\":[25.488096237182617,81.66898369789124,172.23003315925598,292.96132493019104,449.983158826828],\"type\":\"scatter\",\"xaxis\":\"x4\",\"yaxis\":\"y4\"}],                        {\"template\":{\"data\":{\"bar\":[{\"error_x\":{\"color\":\"#2a3f5f\"},\"error_y\":{\"color\":\"#2a3f5f\"},\"marker\":{\"line\":{\"color\":\"#E5ECF6\",\"width\":0.5},\"pattern\":{\"fillmode\":\"overlay\",\"size\":10,\"solidity\":0.2}},\"type\":\"bar\"}],\"barpolar\":[{\"marker\":{\"line\":{\"color\":\"#E5ECF6\",\"width\":0.5},\"pattern\":{\"fillmode\":\"overlay\",\"size\":10,\"solidity\":0.2}},\"type\":\"barpolar\"}],\"carpet\":[{\"aaxis\":{\"endlinecolor\":\"#2a3f5f\",\"gridcolor\":\"white\",\"linecolor\":\"white\",\"minorgridcolor\":\"white\",\"startlinecolor\":\"#2a3f5f\"},\"baxis\":{\"endlinecolor\":\"#2a3f5f\",\"gridcolor\":\"white\",\"linecolor\":\"white\",\"minorgridcolor\":\"white\",\"startlinecolor\":\"#2a3f5f\"},\"type\":\"carpet\"}],\"choropleth\":[{\"colorbar\":{\"outlinewidth\":0,\"ticks\":\"\"},\"type\":\"choropleth\"}],\"contour\":[{\"colorbar\":{\"outlinewidth\":0,\"ticks\":\"\"},\"colorscale\":[[0.0,\"#0d0887\"],[0.1111111111111111,\"#46039f\"],[0.2222222222222222,\"#7201a8\"],[0.3333333333333333,\"#9c179e\"],[0.4444444444444444,\"#bd3786\"],[0.5555555555555556,\"#d8576b\"],[0.6666666666666666,\"#ed7953\"],[0.7777777777777778,\"#fb9f3a\"],[0.8888888888888888,\"#fdca26\"],[1.0,\"#f0f921\"]],\"type\":\"contour\"}],\"contourcarpet\":[{\"colorbar\":{\"outlinewidth\":0,\"ticks\":\"\"},\"type\":\"contourcarpet\"}],\"heatmap\":[{\"colorbar\":{\"outlinewidth\":0,\"ticks\":\"\"},\"colorscale\":[[0.0,\"#0d0887\"],[0.1111111111111111,\"#46039f\"],[0.2222222222222222,\"#7201a8\"],[0.3333333333333333,\"#9c179e\"],[0.4444444444444444,\"#bd3786\"],[0.5555555555555556,\"#d8576b\"],[0.6666666666666666,\"#ed7953\"],[0.7777777777777778,\"#fb9f3a\"],[0.8888888888888888,\"#fdca26\"],[1.0,\"#f0f921\"]],\"type\":\"heatmap\"}],\"heatmapgl\":[{\"colorbar\":{\"outlinewidth\":0,\"ticks\":\"\"},\"colorscale\":[[0.0,\"#0d0887\"],[0.1111111111111111,\"#46039f\"],[0.2222222222222222,\"#7201a8\"],[0.3333333333333333,\"#9c179e\"],[0.4444444444444444,\"#bd3786\"],[0.5555555555555556,\"#d8576b\"],[0.6666666666666666,\"#ed7953\"],[0.7777777777777778,\"#fb9f3a\"],[0.8888888888888888,\"#fdca26\"],[1.0,\"#f0f921\"]],\"type\":\"heatmapgl\"}],\"histogram\":[{\"marker\":{\"pattern\":{\"fillmode\":\"overlay\",\"size\":10,\"solidity\":0.2}},\"type\":\"histogram\"}],\"histogram2d\":[{\"colorbar\":{\"outlinewidth\":0,\"ticks\":\"\"},\"colorscale\":[[0.0,\"#0d0887\"],[0.1111111111111111,\"#46039f\"],[0.2222222222222222,\"#7201a8\"],[0.3333333333333333,\"#9c179e\"],[0.4444444444444444,\"#bd3786\"],[0.5555555555555556,\"#d8576b\"],[0.6666666666666666,\"#ed7953\"],[0.7777777777777778,\"#fb9f3a\"],[0.8888888888888888,\"#fdca26\"],[1.0,\"#f0f921\"]],\"type\":\"histogram2d\"}],\"histogram2dcontour\":[{\"colorbar\":{\"outlinewidth\":0,\"ticks\":\"\"},\"colorscale\":[[0.0,\"#0d0887\"],[0.1111111111111111,\"#46039f\"],[0.2222222222222222,\"#7201a8\"],[0.3333333333333333,\"#9c179e\"],[0.4444444444444444,\"#bd3786\"],[0.5555555555555556,\"#d8576b\"],[0.6666666666666666,\"#ed7953\"],[0.7777777777777778,\"#fb9f3a\"],[0.8888888888888888,\"#fdca26\"],[1.0,\"#f0f921\"]],\"type\":\"histogram2dcontour\"}],\"mesh3d\":[{\"colorbar\":{\"outlinewidth\":0,\"ticks\":\"\"},\"type\":\"mesh3d\"}],\"parcoords\":[{\"line\":{\"colorbar\":{\"outlinewidth\":0,\"ticks\":\"\"}},\"type\":\"parcoords\"}],\"pie\":[{\"automargin\":true,\"type\":\"pie\"}],\"scatter\":[{\"marker\":{\"colorbar\":{\"outlinewidth\":0,\"ticks\":\"\"}},\"type\":\"scatter\"}],\"scatter3d\":[{\"line\":{\"colorbar\":{\"outlinewidth\":0,\"ticks\":\"\"}},\"marker\":{\"colorbar\":{\"outlinewidth\":0,\"ticks\":\"\"}},\"type\":\"scatter3d\"}],\"scattercarpet\":[{\"marker\":{\"colorbar\":{\"outlinewidth\":0,\"ticks\":\"\"}},\"type\":\"scattercarpet\"}],\"scattergeo\":[{\"marker\":{\"colorbar\":{\"outlinewidth\":0,\"ticks\":\"\"}},\"type\":\"scattergeo\"}],\"scattergl\":[{\"marker\":{\"colorbar\":{\"outlinewidth\":0,\"ticks\":\"\"}},\"type\":\"scattergl\"}],\"scattermapbox\":[{\"marker\":{\"colorbar\":{\"outlinewidth\":0,\"ticks\":\"\"}},\"type\":\"scattermapbox\"}],\"scatterpolar\":[{\"marker\":{\"colorbar\":{\"outlinewidth\":0,\"ticks\":\"\"}},\"type\":\"scatterpolar\"}],\"scatterpolargl\":[{\"marker\":{\"colorbar\":{\"outlinewidth\":0,\"ticks\":\"\"}},\"type\":\"scatterpolargl\"}],\"scatterternary\":[{\"marker\":{\"colorbar\":{\"outlinewidth\":0,\"ticks\":\"\"}},\"type\":\"scatterternary\"}],\"surface\":[{\"colorbar\":{\"outlinewidth\":0,\"ticks\":\"\"},\"colorscale\":[[0.0,\"#0d0887\"],[0.1111111111111111,\"#46039f\"],[0.2222222222222222,\"#7201a8\"],[0.3333333333333333,\"#9c179e\"],[0.4444444444444444,\"#bd3786\"],[0.5555555555555556,\"#d8576b\"],[0.6666666666666666,\"#ed7953\"],[0.7777777777777778,\"#fb9f3a\"],[0.8888888888888888,\"#fdca26\"],[1.0,\"#f0f921\"]],\"type\":\"surface\"}],\"table\":[{\"cells\":{\"fill\":{\"color\":\"#EBF0F8\"},\"line\":{\"color\":\"white\"}},\"header\":{\"fill\":{\"color\":\"#C8D4E3\"},\"line\":{\"color\":\"white\"}},\"type\":\"table\"}]},\"layout\":{\"annotationdefaults\":{\"arrowcolor\":\"#2a3f5f\",\"arrowhead\":0,\"arrowwidth\":1},\"autotypenumbers\":\"strict\",\"coloraxis\":{\"colorbar\":{\"outlinewidth\":0,\"ticks\":\"\"}},\"colorscale\":{\"diverging\":[[0,\"#8e0152\"],[0.1,\"#c51b7d\"],[0.2,\"#de77ae\"],[0.3,\"#f1b6da\"],[0.4,\"#fde0ef\"],[0.5,\"#f7f7f7\"],[0.6,\"#e6f5d0\"],[0.7,\"#b8e186\"],[0.8,\"#7fbc41\"],[0.9,\"#4d9221\"],[1,\"#276419\"]],\"sequential\":[[0.0,\"#0d0887\"],[0.1111111111111111,\"#46039f\"],[0.2222222222222222,\"#7201a8\"],[0.3333333333333333,\"#9c179e\"],[0.4444444444444444,\"#bd3786\"],[0.5555555555555556,\"#d8576b\"],[0.6666666666666666,\"#ed7953\"],[0.7777777777777778,\"#fb9f3a\"],[0.8888888888888888,\"#fdca26\"],[1.0,\"#f0f921\"]],\"sequentialminus\":[[0.0,\"#0d0887\"],[0.1111111111111111,\"#46039f\"],[0.2222222222222222,\"#7201a8\"],[0.3333333333333333,\"#9c179e\"],[0.4444444444444444,\"#bd3786\"],[0.5555555555555556,\"#d8576b\"],[0.6666666666666666,\"#ed7953\"],[0.7777777777777778,\"#fb9f3a\"],[0.8888888888888888,\"#fdca26\"],[1.0,\"#f0f921\"]]},\"colorway\":[\"#636efa\",\"#EF553B\",\"#00cc96\",\"#ab63fa\",\"#FFA15A\",\"#19d3f3\",\"#FF6692\",\"#B6E880\",\"#FF97FF\",\"#FECB52\"],\"font\":{\"color\":\"#2a3f5f\"},\"geo\":{\"bgcolor\":\"white\",\"lakecolor\":\"white\",\"landcolor\":\"#E5ECF6\",\"showlakes\":true,\"showland\":true,\"subunitcolor\":\"white\"},\"hoverlabel\":{\"align\":\"left\"},\"hovermode\":\"closest\",\"mapbox\":{\"style\":\"light\"},\"paper_bgcolor\":\"white\",\"plot_bgcolor\":\"#E5ECF6\",\"polar\":{\"angularaxis\":{\"gridcolor\":\"white\",\"linecolor\":\"white\",\"ticks\":\"\"},\"bgcolor\":\"#E5ECF6\",\"radialaxis\":{\"gridcolor\":\"white\",\"linecolor\":\"white\",\"ticks\":\"\"}},\"scene\":{\"xaxis\":{\"backgroundcolor\":\"#E5ECF6\",\"gridcolor\":\"white\",\"gridwidth\":2,\"linecolor\":\"white\",\"showbackground\":true,\"ticks\":\"\",\"zerolinecolor\":\"white\"},\"yaxis\":{\"backgroundcolor\":\"#E5ECF6\",\"gridcolor\":\"white\",\"gridwidth\":2,\"linecolor\":\"white\",\"showbackground\":true,\"ticks\":\"\",\"zerolinecolor\":\"white\"},\"zaxis\":{\"backgroundcolor\":\"#E5ECF6\",\"gridcolor\":\"white\",\"gridwidth\":2,\"linecolor\":\"white\",\"showbackground\":true,\"ticks\":\"\",\"zerolinecolor\":\"white\"}},\"shapedefaults\":{\"line\":{\"color\":\"#2a3f5f\"}},\"ternary\":{\"aaxis\":{\"gridcolor\":\"white\",\"linecolor\":\"white\",\"ticks\":\"\"},\"baxis\":{\"gridcolor\":\"white\",\"linecolor\":\"white\",\"ticks\":\"\"},\"bgcolor\":\"#E5ECF6\",\"caxis\":{\"gridcolor\":\"white\",\"linecolor\":\"white\",\"ticks\":\"\"}},\"title\":{\"x\":0.05},\"xaxis\":{\"automargin\":true,\"gridcolor\":\"white\",\"linecolor\":\"white\",\"ticks\":\"\",\"title\":{\"standoff\":15},\"zerolinecolor\":\"white\",\"zerolinewidth\":2},\"yaxis\":{\"automargin\":true,\"gridcolor\":\"white\",\"linecolor\":\"white\",\"ticks\":\"\",\"title\":{\"standoff\":15},\"zerolinecolor\":\"white\",\"zerolinewidth\":2}}},\"xaxis\":{\"anchor\":\"y\",\"domain\":[0.0,0.45],\"title\":{\"text\":\"The Number of parameterized gate\"}},\"yaxis\":{\"anchor\":\"x\",\"domain\":[0.625,1.0],\"title\":{\"text\":\"Time (Sec)\"}},\"xaxis2\":{\"anchor\":\"y2\",\"domain\":[0.55,1.0]},\"yaxis2\":{\"anchor\":\"x2\",\"domain\":[0.625,1.0]},\"xaxis3\":{\"anchor\":\"y3\",\"domain\":[0.0,0.45]},\"yaxis3\":{\"anchor\":\"x3\",\"domain\":[0.0,0.375]},\"xaxis4\":{\"anchor\":\"y4\",\"domain\":[0.55,1.0]},\"yaxis4\":{\"anchor\":\"x4\",\"domain\":[0.0,0.375]},\"annotations\":[{\"font\":{\"size\":16},\"showarrow\":false,\"text\":\"Max-Cut\",\"x\":0.225,\"xanchor\":\"center\",\"xref\":\"paper\",\"y\":1.0,\"yanchor\":\"bottom\",\"yref\":\"paper\"},{\"font\":{\"size\":16},\"showarrow\":false,\"text\":\"Clique\",\"x\":0.775,\"xanchor\":\"center\",\"xref\":\"paper\",\"y\":1.0,\"yanchor\":\"bottom\",\"yref\":\"paper\"},{\"font\":{\"size\":16},\"showarrow\":false,\"text\":\"Binary Linear Programming\",\"x\":0.225,\"xanchor\":\"center\",\"xref\":\"paper\",\"y\":0.375,\"yanchor\":\"bottom\",\"yref\":\"paper\"},{\"font\":{\"size\":16},\"showarrow\":false,\"text\":\"Knapsack\",\"x\":0.775,\"xanchor\":\"center\",\"xref\":\"paper\",\"y\":0.375,\"yanchor\":\"bottom\",\"yref\":\"paper\"}],\"title\":{\"text\":\"Time Comparison  <br><sup>Fixed epochs (10 epochs).</sup>\"},\"autosize\":false,\"width\":1000,\"height\":700},                        {\"responsive\": true}                    ).then(function(){\n",
              "                            \n",
              "var gd = document.getElementById('ffa5a1dc-ae7d-4a5a-a44a-16702fe0fb7a');\n",
              "var x = new MutationObserver(function (mutations, observer) {{\n",
              "        var display = window.getComputedStyle(gd).display;\n",
              "        if (!display || display === 'none') {{\n",
              "            console.log([gd, 'removed!']);\n",
              "            Plotly.purge(gd);\n",
              "            observer.disconnect();\n",
              "        }}\n",
              "}});\n",
              "\n",
              "// Listen for the removal of the full notebook cells\n",
              "var notebookContainer = gd.closest('#notebook-container');\n",
              "if (notebookContainer) {{\n",
              "    x.observe(notebookContainer, {childList: true});\n",
              "}}\n",
              "\n",
              "// Listen for the clearing of the current output cell\n",
              "var outputEl = gd.closest('.output');\n",
              "if (outputEl) {{\n",
              "    x.observe(outputEl, {childList: true});\n",
              "}}\n",
              "\n",
              "                        })                };                            </script>        </div>\n",
              "</body>\n",
              "</html>"
            ]
          },
          "metadata": {}
        }
      ],
      "source": [
        "#@title Time Comparison\n",
        "#@markdown Fixed epochs (10 epochs).\n",
        "\n",
        "from plotly.subplots import make_subplots\n",
        "\n",
        "x = [step*3*4 for step in steps]\n",
        "row = 2\n",
        "col = 2\n",
        "fig = make_subplots(rows=row, cols=col, subplot_titles=(\"Max-Cut\",\"Clique\",\"Binary Linear Programming\", \"Knapsack\"))\n",
        "show = True\n",
        "for i in range(row):\n",
        "  for j in range(col):\n",
        "    problemn = i*col+j\n",
        "    if problemn>0:\n",
        "      show = False\n",
        "    dv = pd.DataFrame({\"#Param Gates\":x, \"Time\":pstc[problemn]})\n",
        "    dv_fd = pd.DataFrame({\"#Param Gates\":x, \"Time\":fdtc[problemn]})\n",
        "    dv_lcu = pd.DataFrame({\"#Param Gates\":x, \"Loss\":lcutc[problemn]})\n",
        "    dv_qng = pd.DataFrame({\"#Param Gates\":x, \"Time\":qngtc[problemn]})\n",
        "    dv_newton = pd.DataFrame({\"#Param Gates\":x, \"Time\":qnwtc[problemn]})\n",
        "\n",
        "    # dv_cls = pd.DataFrame({\"#Param Gates\":range(len(loss_plot_classical)), \"Loss\":loss_plot_classical})\n",
        "\n",
        "    fig.add_trace(go.Scatter(x=dv[\"#Param Gates\"], y=dv[\"Time\"], name=\"Discrete Parameter Shift\", line = dict(width=2), line_color='red', showlegend = show), row=i+1, col=j+1)\n",
        "    fig.add_trace(go.Scatter(x=dv_fd[\"#Param Gates\"], y=dv_fd[\"Time\"], mode=\"lines\", name=\"Discrete Finite Difference\", line = dict(width=2), line_color='green', showlegend = show), row=i+1, col=j+1)\n",
        "    fig.add_trace(go.Scatter(x=dv_lcu[\"#Param Gates\"], y=dv_lcu[\"Loss\"], mode=\"lines\", name=\"Discrete LCU\", line = dict(width=2), line_color='yellow', showlegend = show), row=i+1, col=j+1)\n",
        "    fig.add_trace(go.Scatter(x=dv_qng[\"#Param Gates\"], y=dv_qng[\"Time\"], mode=\"lines\", name=\"Discrete QNG\", line = dict(width=2), line_color='blue', showlegend = show), row=i+1, col=j+1)\n",
        "    fig.add_trace(go.Scatter(x=dv_newton[\"#Param Gates\"], y=dv_newton[\"Time\"], mode=\"lines\", name=\"Discrete Newton Gradient\", line = dict(width=2), line_color='brown', showlegend = show), row=i+1, col=j+1)\n",
        "\n",
        "    # fig.add_trace(go.Scatter(x=dv_cls[\"Iteration\"], y=dv_cls[\"Loss\"], mode=\"lines\", name=\"Classical\"))\n",
        "\n",
        "\n",
        "fig.update_layout(title=\"Time Comparison  <br><sup>Fixed epochs (10 epochs).</sup>\",\n",
        "                  xaxis_title=\"The Number of parameterized gate\",\n",
        "                  yaxis_title=\"Time (Sec)\", autosize=False,\n",
        "                  width=1000,\n",
        "                  height=700)\n",
        "plotly.offline.plot(fig, filename='time_fixepoch.html')\n",
        "fig.show()"
      ]
    },
    {
      "cell_type": "code",
      "source": [
        "with open('analytic_pstc.pk', 'wb') as fp:\n",
        "    pickle.dump(pstc, fp)\n",
        "with open('analytic_fdtc.pk', 'wb') as fp:\n",
        "    pickle.dump(fdtc, fp)\n",
        "with open('analytic_lcutc.pk', 'wb') as fp:\n",
        "    pickle.dump(lcutc, fp)\n",
        "with open('analytic_qngtc.pk', 'wb') as fp:\n",
        "    pickle.dump(qngtc, fp)\n",
        "with open('analytic_qnwtc.pk', 'wb') as fp:\n",
        "    pickle.dump(qnwtc, fp)"
      ],
      "metadata": {
        "id": "G_Y6ecQgtQ_4"
      },
      "execution_count": null,
      "outputs": []
    },
    {
      "cell_type": "code",
      "execution_count": null,
      "metadata": {
        "cellView": "form",
        "id": "jNpZ5_r9uG5r",
        "colab": {
          "base_uri": "https://localhost:8080/",
          "height": 1000
        },
        "outputId": "9c07b41f-3f8b-4e97-b2af-2717f3e73293"
      },
      "outputs": [
        {
          "output_type": "stream",
          "name": "stdout",
          "text": [
            "\u001b[1mMax-Cut\u001b[0m\n"
          ]
        },
        {
          "output_type": "display_data",
          "data": {
            "text/plain": [
              "                           #Param Gates 6              #Param Gates 12  \\\n",
              "                                     Loss Time(second)            Loss   \n",
              "Discrete Parameter Shift        -2.93e+00        15.74       -3.54e+00   \n",
              "Discrete Finite Difference      -2.93e+00        15.19       -3.54e+00   \n",
              "Discrete LCU                    -2.93e+00         8.78       -3.54e+00   \n",
              "Discrete QNG                    -2.94e+00        17.45       -3.52e+00   \n",
              "Discrete Newton Gradient        -2.96e+00        23.58       -3.32e+00   \n",
              "\n",
              "                                        #Param Gates 18               \\\n",
              "                           Time(second)            Loss Time(second)   \n",
              "Discrete Parameter Shift          49.40       -3.83e+00       104.32   \n",
              "Discrete Finite Difference        49.21       -3.83e+00       103.14   \n",
              "Discrete LCU                      28.26       -3.83e+00        60.57   \n",
              "Discrete QNG                      57.19       -3.80e+00       120.04   \n",
              "Discrete Newton Gradient          79.01       -3.56e+00       166.48   \n",
              "\n",
              "                           #Param Gates 24              #Param Gates 30  \\\n",
              "                                      Loss Time(second)            Loss   \n",
              "Discrete Parameter Shift         -3.79e+00       175.87       -3.93e+00   \n",
              "Discrete Finite Difference       -3.79e+00       175.04       -3.93e+00   \n",
              "Discrete LCU                     -3.79e+00       104.30       -3.93e+00   \n",
              "Discrete QNG                     -3.75e+00       207.90       -3.94e+00   \n",
              "Discrete Newton Gradient         -3.91e+00       286.52       -3.74e+00   \n",
              "\n",
              "                                         \n",
              "                           Time(second)  \n",
              "Discrete Parameter Shift         266.84  \n",
              "Discrete Finite Difference       264.59  \n",
              "Discrete LCU                     159.05  \n",
              "Discrete QNG                     314.38  \n",
              "Discrete Newton Gradient         439.15  "
            ],
            "text/html": [
              "\n",
              "  <div id=\"df-f9d9d5de-72c1-4de2-b29d-2082ed2b8d33\">\n",
              "    <div class=\"colab-df-container\">\n",
              "      <div>\n",
              "<style scoped>\n",
              "    .dataframe tbody tr th:only-of-type {\n",
              "        vertical-align: middle;\n",
              "    }\n",
              "\n",
              "    .dataframe tbody tr th {\n",
              "        vertical-align: top;\n",
              "    }\n",
              "\n",
              "    .dataframe thead tr th {\n",
              "        text-align: left;\n",
              "    }\n",
              "</style>\n",
              "<table border=\"1\" class=\"dataframe\">\n",
              "  <thead>\n",
              "    <tr>\n",
              "      <th></th>\n",
              "      <th colspan=\"2\" halign=\"left\">#Param Gates 6</th>\n",
              "      <th colspan=\"2\" halign=\"left\">#Param Gates 12</th>\n",
              "      <th colspan=\"2\" halign=\"left\">#Param Gates 18</th>\n",
              "      <th colspan=\"2\" halign=\"left\">#Param Gates 24</th>\n",
              "      <th colspan=\"2\" halign=\"left\">#Param Gates 30</th>\n",
              "    </tr>\n",
              "    <tr>\n",
              "      <th></th>\n",
              "      <th>Loss</th>\n",
              "      <th>Time(second)</th>\n",
              "      <th>Loss</th>\n",
              "      <th>Time(second)</th>\n",
              "      <th>Loss</th>\n",
              "      <th>Time(second)</th>\n",
              "      <th>Loss</th>\n",
              "      <th>Time(second)</th>\n",
              "      <th>Loss</th>\n",
              "      <th>Time(second)</th>\n",
              "    </tr>\n",
              "  </thead>\n",
              "  <tbody>\n",
              "    <tr>\n",
              "      <th>Discrete Parameter Shift</th>\n",
              "      <td>-2.93e+00</td>\n",
              "      <td>15.74</td>\n",
              "      <td>-3.54e+00</td>\n",
              "      <td>49.40</td>\n",
              "      <td>-3.83e+00</td>\n",
              "      <td>104.32</td>\n",
              "      <td>-3.79e+00</td>\n",
              "      <td>175.87</td>\n",
              "      <td>-3.93e+00</td>\n",
              "      <td>266.84</td>\n",
              "    </tr>\n",
              "    <tr>\n",
              "      <th>Discrete Finite Difference</th>\n",
              "      <td>-2.93e+00</td>\n",
              "      <td>15.19</td>\n",
              "      <td>-3.54e+00</td>\n",
              "      <td>49.21</td>\n",
              "      <td>-3.83e+00</td>\n",
              "      <td>103.14</td>\n",
              "      <td>-3.79e+00</td>\n",
              "      <td>175.04</td>\n",
              "      <td>-3.93e+00</td>\n",
              "      <td>264.59</td>\n",
              "    </tr>\n",
              "    <tr>\n",
              "      <th>Discrete LCU</th>\n",
              "      <td>-2.93e+00</td>\n",
              "      <td>8.78</td>\n",
              "      <td>-3.54e+00</td>\n",
              "      <td>28.26</td>\n",
              "      <td>-3.83e+00</td>\n",
              "      <td>60.57</td>\n",
              "      <td>-3.79e+00</td>\n",
              "      <td>104.30</td>\n",
              "      <td>-3.93e+00</td>\n",
              "      <td>159.05</td>\n",
              "    </tr>\n",
              "    <tr>\n",
              "      <th>Discrete QNG</th>\n",
              "      <td>-2.94e+00</td>\n",
              "      <td>17.45</td>\n",
              "      <td>-3.52e+00</td>\n",
              "      <td>57.19</td>\n",
              "      <td>-3.80e+00</td>\n",
              "      <td>120.04</td>\n",
              "      <td>-3.75e+00</td>\n",
              "      <td>207.90</td>\n",
              "      <td>-3.94e+00</td>\n",
              "      <td>314.38</td>\n",
              "    </tr>\n",
              "    <tr>\n",
              "      <th>Discrete Newton Gradient</th>\n",
              "      <td>-2.96e+00</td>\n",
              "      <td>23.58</td>\n",
              "      <td>-3.32e+00</td>\n",
              "      <td>79.01</td>\n",
              "      <td>-3.56e+00</td>\n",
              "      <td>166.48</td>\n",
              "      <td>-3.91e+00</td>\n",
              "      <td>286.52</td>\n",
              "      <td>-3.74e+00</td>\n",
              "      <td>439.15</td>\n",
              "    </tr>\n",
              "  </tbody>\n",
              "</table>\n",
              "</div>\n",
              "      <button class=\"colab-df-convert\" onclick=\"convertToInteractive('df-f9d9d5de-72c1-4de2-b29d-2082ed2b8d33')\"\n",
              "              title=\"Convert this dataframe to an interactive table.\"\n",
              "              style=\"display:none;\">\n",
              "        \n",
              "  <svg xmlns=\"http://www.w3.org/2000/svg\" height=\"24px\"viewBox=\"0 0 24 24\"\n",
              "       width=\"24px\">\n",
              "    <path d=\"M0 0h24v24H0V0z\" fill=\"none\"/>\n",
              "    <path d=\"M18.56 5.44l.94 2.06.94-2.06 2.06-.94-2.06-.94-.94-2.06-.94 2.06-2.06.94zm-11 1L8.5 8.5l.94-2.06 2.06-.94-2.06-.94L8.5 2.5l-.94 2.06-2.06.94zm10 10l.94 2.06.94-2.06 2.06-.94-2.06-.94-.94-2.06-.94 2.06-2.06.94z\"/><path d=\"M17.41 7.96l-1.37-1.37c-.4-.4-.92-.59-1.43-.59-.52 0-1.04.2-1.43.59L10.3 9.45l-7.72 7.72c-.78.78-.78 2.05 0 2.83L4 21.41c.39.39.9.59 1.41.59.51 0 1.02-.2 1.41-.59l7.78-7.78 2.81-2.81c.8-.78.8-2.07 0-2.86zM5.41 20L4 18.59l7.72-7.72 1.47 1.35L5.41 20z\"/>\n",
              "  </svg>\n",
              "      </button>\n",
              "      \n",
              "  <style>\n",
              "    .colab-df-container {\n",
              "      display:flex;\n",
              "      flex-wrap:wrap;\n",
              "      gap: 12px;\n",
              "    }\n",
              "\n",
              "    .colab-df-convert {\n",
              "      background-color: #E8F0FE;\n",
              "      border: none;\n",
              "      border-radius: 50%;\n",
              "      cursor: pointer;\n",
              "      display: none;\n",
              "      fill: #1967D2;\n",
              "      height: 32px;\n",
              "      padding: 0 0 0 0;\n",
              "      width: 32px;\n",
              "    }\n",
              "\n",
              "    .colab-df-convert:hover {\n",
              "      background-color: #E2EBFA;\n",
              "      box-shadow: 0px 1px 2px rgba(60, 64, 67, 0.3), 0px 1px 3px 1px rgba(60, 64, 67, 0.15);\n",
              "      fill: #174EA6;\n",
              "    }\n",
              "\n",
              "    [theme=dark] .colab-df-convert {\n",
              "      background-color: #3B4455;\n",
              "      fill: #D2E3FC;\n",
              "    }\n",
              "\n",
              "    [theme=dark] .colab-df-convert:hover {\n",
              "      background-color: #434B5C;\n",
              "      box-shadow: 0px 1px 3px 1px rgba(0, 0, 0, 0.15);\n",
              "      filter: drop-shadow(0px 1px 2px rgba(0, 0, 0, 0.3));\n",
              "      fill: #FFFFFF;\n",
              "    }\n",
              "  </style>\n",
              "\n",
              "      <script>\n",
              "        const buttonEl =\n",
              "          document.querySelector('#df-f9d9d5de-72c1-4de2-b29d-2082ed2b8d33 button.colab-df-convert');\n",
              "        buttonEl.style.display =\n",
              "          google.colab.kernel.accessAllowed ? 'block' : 'none';\n",
              "\n",
              "        async function convertToInteractive(key) {\n",
              "          const element = document.querySelector('#df-f9d9d5de-72c1-4de2-b29d-2082ed2b8d33');\n",
              "          const dataTable =\n",
              "            await google.colab.kernel.invokeFunction('convertToInteractive',\n",
              "                                                     [key], {});\n",
              "          if (!dataTable) return;\n",
              "\n",
              "          const docLinkHtml = 'Like what you see? Visit the ' +\n",
              "            '<a target=\"_blank\" href=https://colab.research.google.com/notebooks/data_table.ipynb>data table notebook</a>'\n",
              "            + ' to learn more about interactive tables.';\n",
              "          element.innerHTML = '';\n",
              "          dataTable['output_type'] = 'display_data';\n",
              "          await google.colab.output.renderOutput(dataTable, element);\n",
              "          const docLink = document.createElement('div');\n",
              "          docLink.innerHTML = docLinkHtml;\n",
              "          element.appendChild(docLink);\n",
              "        }\n",
              "      </script>\n",
              "    </div>\n",
              "  </div>\n",
              "  "
            ]
          },
          "metadata": {}
        },
        {
          "output_type": "stream",
          "name": "stdout",
          "text": [
            "\n",
            "\n",
            "\n",
            "\n",
            "\u001b[1mClique\u001b[0m\n"
          ]
        },
        {
          "output_type": "display_data",
          "data": {
            "text/plain": [
              "                           #Param Gates 6              #Param Gates 12  \\\n",
              "                                     Loss Time(second)            Loss   \n",
              "Discrete Parameter Shift        -1.88e+00        15.64       -2.41e+00   \n",
              "Discrete Finite Difference      -1.88e+00        15.62       -2.41e+00   \n",
              "Discrete LCU                    -1.88e+00         8.75       -2.41e+00   \n",
              "Discrete QNG                    -1.90e+00        17.79       -2.41e+00   \n",
              "Discrete Newton Gradient        -1.97e+00        24.24       -1.55e+00   \n",
              "\n",
              "                                        #Param Gates 18               \\\n",
              "                           Time(second)            Loss Time(second)   \n",
              "Discrete Parameter Shift          50.25       -2.64e+00       137.86   \n",
              "Discrete Finite Difference        49.98       -2.64e+00       104.08   \n",
              "Discrete LCU                      29.09       -2.64e+00        61.66   \n",
              "Discrete QNG                      56.94       -2.64e+00       121.03   \n",
              "Discrete Newton Gradient          79.78        3.82e-01       167.69   \n",
              "\n",
              "                           #Param Gates 24              #Param Gates 30  \\\n",
              "                                      Loss Time(second)            Loss   \n",
              "Discrete Parameter Shift         -2.79e+00       179.84       -2.65e+00   \n",
              "Discrete Finite Difference       -2.79e+00       175.64       -2.65e+00   \n",
              "Discrete LCU                     -2.79e+00       106.45       -2.65e+00   \n",
              "Discrete QNG                     -2.88e+00       207.06       -2.65e+00   \n",
              "Discrete Newton Gradient          3.95e-01       286.95       -1.59e+00   \n",
              "\n",
              "                                         \n",
              "                           Time(second)  \n",
              "Discrete Parameter Shift         271.56  \n",
              "Discrete Finite Difference       265.50  \n",
              "Discrete LCU                     161.03  \n",
              "Discrete QNG                     316.41  \n",
              "Discrete Newton Gradient         442.58  "
            ],
            "text/html": [
              "\n",
              "  <div id=\"df-f73abc8c-824c-4e47-975c-91529b277afa\">\n",
              "    <div class=\"colab-df-container\">\n",
              "      <div>\n",
              "<style scoped>\n",
              "    .dataframe tbody tr th:only-of-type {\n",
              "        vertical-align: middle;\n",
              "    }\n",
              "\n",
              "    .dataframe tbody tr th {\n",
              "        vertical-align: top;\n",
              "    }\n",
              "\n",
              "    .dataframe thead tr th {\n",
              "        text-align: left;\n",
              "    }\n",
              "</style>\n",
              "<table border=\"1\" class=\"dataframe\">\n",
              "  <thead>\n",
              "    <tr>\n",
              "      <th></th>\n",
              "      <th colspan=\"2\" halign=\"left\">#Param Gates 6</th>\n",
              "      <th colspan=\"2\" halign=\"left\">#Param Gates 12</th>\n",
              "      <th colspan=\"2\" halign=\"left\">#Param Gates 18</th>\n",
              "      <th colspan=\"2\" halign=\"left\">#Param Gates 24</th>\n",
              "      <th colspan=\"2\" halign=\"left\">#Param Gates 30</th>\n",
              "    </tr>\n",
              "    <tr>\n",
              "      <th></th>\n",
              "      <th>Loss</th>\n",
              "      <th>Time(second)</th>\n",
              "      <th>Loss</th>\n",
              "      <th>Time(second)</th>\n",
              "      <th>Loss</th>\n",
              "      <th>Time(second)</th>\n",
              "      <th>Loss</th>\n",
              "      <th>Time(second)</th>\n",
              "      <th>Loss</th>\n",
              "      <th>Time(second)</th>\n",
              "    </tr>\n",
              "  </thead>\n",
              "  <tbody>\n",
              "    <tr>\n",
              "      <th>Discrete Parameter Shift</th>\n",
              "      <td>-1.88e+00</td>\n",
              "      <td>15.64</td>\n",
              "      <td>-2.41e+00</td>\n",
              "      <td>50.25</td>\n",
              "      <td>-2.64e+00</td>\n",
              "      <td>137.86</td>\n",
              "      <td>-2.79e+00</td>\n",
              "      <td>179.84</td>\n",
              "      <td>-2.65e+00</td>\n",
              "      <td>271.56</td>\n",
              "    </tr>\n",
              "    <tr>\n",
              "      <th>Discrete Finite Difference</th>\n",
              "      <td>-1.88e+00</td>\n",
              "      <td>15.62</td>\n",
              "      <td>-2.41e+00</td>\n",
              "      <td>49.98</td>\n",
              "      <td>-2.64e+00</td>\n",
              "      <td>104.08</td>\n",
              "      <td>-2.79e+00</td>\n",
              "      <td>175.64</td>\n",
              "      <td>-2.65e+00</td>\n",
              "      <td>265.50</td>\n",
              "    </tr>\n",
              "    <tr>\n",
              "      <th>Discrete LCU</th>\n",
              "      <td>-1.88e+00</td>\n",
              "      <td>8.75</td>\n",
              "      <td>-2.41e+00</td>\n",
              "      <td>29.09</td>\n",
              "      <td>-2.64e+00</td>\n",
              "      <td>61.66</td>\n",
              "      <td>-2.79e+00</td>\n",
              "      <td>106.45</td>\n",
              "      <td>-2.65e+00</td>\n",
              "      <td>161.03</td>\n",
              "    </tr>\n",
              "    <tr>\n",
              "      <th>Discrete QNG</th>\n",
              "      <td>-1.90e+00</td>\n",
              "      <td>17.79</td>\n",
              "      <td>-2.41e+00</td>\n",
              "      <td>56.94</td>\n",
              "      <td>-2.64e+00</td>\n",
              "      <td>121.03</td>\n",
              "      <td>-2.88e+00</td>\n",
              "      <td>207.06</td>\n",
              "      <td>-2.65e+00</td>\n",
              "      <td>316.41</td>\n",
              "    </tr>\n",
              "    <tr>\n",
              "      <th>Discrete Newton Gradient</th>\n",
              "      <td>-1.97e+00</td>\n",
              "      <td>24.24</td>\n",
              "      <td>-1.55e+00</td>\n",
              "      <td>79.78</td>\n",
              "      <td>3.82e-01</td>\n",
              "      <td>167.69</td>\n",
              "      <td>3.95e-01</td>\n",
              "      <td>286.95</td>\n",
              "      <td>-1.59e+00</td>\n",
              "      <td>442.58</td>\n",
              "    </tr>\n",
              "  </tbody>\n",
              "</table>\n",
              "</div>\n",
              "      <button class=\"colab-df-convert\" onclick=\"convertToInteractive('df-f73abc8c-824c-4e47-975c-91529b277afa')\"\n",
              "              title=\"Convert this dataframe to an interactive table.\"\n",
              "              style=\"display:none;\">\n",
              "        \n",
              "  <svg xmlns=\"http://www.w3.org/2000/svg\" height=\"24px\"viewBox=\"0 0 24 24\"\n",
              "       width=\"24px\">\n",
              "    <path d=\"M0 0h24v24H0V0z\" fill=\"none\"/>\n",
              "    <path d=\"M18.56 5.44l.94 2.06.94-2.06 2.06-.94-2.06-.94-.94-2.06-.94 2.06-2.06.94zm-11 1L8.5 8.5l.94-2.06 2.06-.94-2.06-.94L8.5 2.5l-.94 2.06-2.06.94zm10 10l.94 2.06.94-2.06 2.06-.94-2.06-.94-.94-2.06-.94 2.06-2.06.94z\"/><path d=\"M17.41 7.96l-1.37-1.37c-.4-.4-.92-.59-1.43-.59-.52 0-1.04.2-1.43.59L10.3 9.45l-7.72 7.72c-.78.78-.78 2.05 0 2.83L4 21.41c.39.39.9.59 1.41.59.51 0 1.02-.2 1.41-.59l7.78-7.78 2.81-2.81c.8-.78.8-2.07 0-2.86zM5.41 20L4 18.59l7.72-7.72 1.47 1.35L5.41 20z\"/>\n",
              "  </svg>\n",
              "      </button>\n",
              "      \n",
              "  <style>\n",
              "    .colab-df-container {\n",
              "      display:flex;\n",
              "      flex-wrap:wrap;\n",
              "      gap: 12px;\n",
              "    }\n",
              "\n",
              "    .colab-df-convert {\n",
              "      background-color: #E8F0FE;\n",
              "      border: none;\n",
              "      border-radius: 50%;\n",
              "      cursor: pointer;\n",
              "      display: none;\n",
              "      fill: #1967D2;\n",
              "      height: 32px;\n",
              "      padding: 0 0 0 0;\n",
              "      width: 32px;\n",
              "    }\n",
              "\n",
              "    .colab-df-convert:hover {\n",
              "      background-color: #E2EBFA;\n",
              "      box-shadow: 0px 1px 2px rgba(60, 64, 67, 0.3), 0px 1px 3px 1px rgba(60, 64, 67, 0.15);\n",
              "      fill: #174EA6;\n",
              "    }\n",
              "\n",
              "    [theme=dark] .colab-df-convert {\n",
              "      background-color: #3B4455;\n",
              "      fill: #D2E3FC;\n",
              "    }\n",
              "\n",
              "    [theme=dark] .colab-df-convert:hover {\n",
              "      background-color: #434B5C;\n",
              "      box-shadow: 0px 1px 3px 1px rgba(0, 0, 0, 0.15);\n",
              "      filter: drop-shadow(0px 1px 2px rgba(0, 0, 0, 0.3));\n",
              "      fill: #FFFFFF;\n",
              "    }\n",
              "  </style>\n",
              "\n",
              "      <script>\n",
              "        const buttonEl =\n",
              "          document.querySelector('#df-f73abc8c-824c-4e47-975c-91529b277afa button.colab-df-convert');\n",
              "        buttonEl.style.display =\n",
              "          google.colab.kernel.accessAllowed ? 'block' : 'none';\n",
              "\n",
              "        async function convertToInteractive(key) {\n",
              "          const element = document.querySelector('#df-f73abc8c-824c-4e47-975c-91529b277afa');\n",
              "          const dataTable =\n",
              "            await google.colab.kernel.invokeFunction('convertToInteractive',\n",
              "                                                     [key], {});\n",
              "          if (!dataTable) return;\n",
              "\n",
              "          const docLinkHtml = 'Like what you see? Visit the ' +\n",
              "            '<a target=\"_blank\" href=https://colab.research.google.com/notebooks/data_table.ipynb>data table notebook</a>'\n",
              "            + ' to learn more about interactive tables.';\n",
              "          element.innerHTML = '';\n",
              "          dataTable['output_type'] = 'display_data';\n",
              "          await google.colab.output.renderOutput(dataTable, element);\n",
              "          const docLink = document.createElement('div');\n",
              "          docLink.innerHTML = docLinkHtml;\n",
              "          element.appendChild(docLink);\n",
              "        }\n",
              "      </script>\n",
              "    </div>\n",
              "  </div>\n",
              "  "
            ]
          },
          "metadata": {}
        },
        {
          "output_type": "stream",
          "name": "stdout",
          "text": [
            "\n",
            "\n",
            "\n",
            "\n",
            "\u001b[1mBinary Linear Programming\u001b[0m\n"
          ]
        },
        {
          "output_type": "display_data",
          "data": {
            "text/plain": [
              "                           #Param Gates 6              #Param Gates 12  \\\n",
              "                                     Loss Time(second)            Loss   \n",
              "Discrete Parameter Shift         3.15e+05        15.37        2.86e+05   \n",
              "Discrete Finite Difference       3.15e+05        15.51        2.86e+05   \n",
              "Discrete LCU                     3.15e+05         8.81        2.86e+05   \n",
              "Discrete QNG                     3.11e+05        17.68        2.87e+05   \n",
              "Discrete Newton Gradient         4.22e+05        24.31        3.88e+05   \n",
              "\n",
              "                                        #Param Gates 18               \\\n",
              "                           Time(second)            Loss Time(second)   \n",
              "Discrete Parameter Shift          49.69        2.33e+05       102.93   \n",
              "Discrete Finite Difference        49.65        2.33e+05       104.26   \n",
              "Discrete LCU                      28.93        2.33e+05        60.81   \n",
              "Discrete QNG                      57.62        2.41e+05       120.80   \n",
              "Discrete Newton Gradient          79.68        3.73e+05       168.31   \n",
              "\n",
              "                           #Param Gates 24              #Param Gates 30  \\\n",
              "                                      Loss Time(second)            Loss   \n",
              "Discrete Parameter Shift          1.94e+05       175.22        2.18e+05   \n",
              "Discrete Finite Difference        1.94e+05       176.52        2.18e+05   \n",
              "Discrete LCU                      1.94e+05       105.50        2.18e+05   \n",
              "Discrete QNG                      1.90e+05       205.48        2.18e+05   \n",
              "Discrete Newton Gradient          4.17e+05       288.50        4.31e+05   \n",
              "\n",
              "                                         \n",
              "                           Time(second)  \n",
              "Discrete Parameter Shift         265.92  \n",
              "Discrete Finite Difference       266.52  \n",
              "Discrete LCU                     161.71  \n",
              "Discrete QNG                     314.59  \n",
              "Discrete Newton Gradient         441.75  "
            ],
            "text/html": [
              "\n",
              "  <div id=\"df-bb536a93-89fc-4210-b330-6e465666b2f7\">\n",
              "    <div class=\"colab-df-container\">\n",
              "      <div>\n",
              "<style scoped>\n",
              "    .dataframe tbody tr th:only-of-type {\n",
              "        vertical-align: middle;\n",
              "    }\n",
              "\n",
              "    .dataframe tbody tr th {\n",
              "        vertical-align: top;\n",
              "    }\n",
              "\n",
              "    .dataframe thead tr th {\n",
              "        text-align: left;\n",
              "    }\n",
              "</style>\n",
              "<table border=\"1\" class=\"dataframe\">\n",
              "  <thead>\n",
              "    <tr>\n",
              "      <th></th>\n",
              "      <th colspan=\"2\" halign=\"left\">#Param Gates 6</th>\n",
              "      <th colspan=\"2\" halign=\"left\">#Param Gates 12</th>\n",
              "      <th colspan=\"2\" halign=\"left\">#Param Gates 18</th>\n",
              "      <th colspan=\"2\" halign=\"left\">#Param Gates 24</th>\n",
              "      <th colspan=\"2\" halign=\"left\">#Param Gates 30</th>\n",
              "    </tr>\n",
              "    <tr>\n",
              "      <th></th>\n",
              "      <th>Loss</th>\n",
              "      <th>Time(second)</th>\n",
              "      <th>Loss</th>\n",
              "      <th>Time(second)</th>\n",
              "      <th>Loss</th>\n",
              "      <th>Time(second)</th>\n",
              "      <th>Loss</th>\n",
              "      <th>Time(second)</th>\n",
              "      <th>Loss</th>\n",
              "      <th>Time(second)</th>\n",
              "    </tr>\n",
              "  </thead>\n",
              "  <tbody>\n",
              "    <tr>\n",
              "      <th>Discrete Parameter Shift</th>\n",
              "      <td>3.15e+05</td>\n",
              "      <td>15.37</td>\n",
              "      <td>2.86e+05</td>\n",
              "      <td>49.69</td>\n",
              "      <td>2.33e+05</td>\n",
              "      <td>102.93</td>\n",
              "      <td>1.94e+05</td>\n",
              "      <td>175.22</td>\n",
              "      <td>2.18e+05</td>\n",
              "      <td>265.92</td>\n",
              "    </tr>\n",
              "    <tr>\n",
              "      <th>Discrete Finite Difference</th>\n",
              "      <td>3.15e+05</td>\n",
              "      <td>15.51</td>\n",
              "      <td>2.86e+05</td>\n",
              "      <td>49.65</td>\n",
              "      <td>2.33e+05</td>\n",
              "      <td>104.26</td>\n",
              "      <td>1.94e+05</td>\n",
              "      <td>176.52</td>\n",
              "      <td>2.18e+05</td>\n",
              "      <td>266.52</td>\n",
              "    </tr>\n",
              "    <tr>\n",
              "      <th>Discrete LCU</th>\n",
              "      <td>3.15e+05</td>\n",
              "      <td>8.81</td>\n",
              "      <td>2.86e+05</td>\n",
              "      <td>28.93</td>\n",
              "      <td>2.33e+05</td>\n",
              "      <td>60.81</td>\n",
              "      <td>1.94e+05</td>\n",
              "      <td>105.50</td>\n",
              "      <td>2.18e+05</td>\n",
              "      <td>161.71</td>\n",
              "    </tr>\n",
              "    <tr>\n",
              "      <th>Discrete QNG</th>\n",
              "      <td>3.11e+05</td>\n",
              "      <td>17.68</td>\n",
              "      <td>2.87e+05</td>\n",
              "      <td>57.62</td>\n",
              "      <td>2.41e+05</td>\n",
              "      <td>120.80</td>\n",
              "      <td>1.90e+05</td>\n",
              "      <td>205.48</td>\n",
              "      <td>2.18e+05</td>\n",
              "      <td>314.59</td>\n",
              "    </tr>\n",
              "    <tr>\n",
              "      <th>Discrete Newton Gradient</th>\n",
              "      <td>4.22e+05</td>\n",
              "      <td>24.31</td>\n",
              "      <td>3.88e+05</td>\n",
              "      <td>79.68</td>\n",
              "      <td>3.73e+05</td>\n",
              "      <td>168.31</td>\n",
              "      <td>4.17e+05</td>\n",
              "      <td>288.50</td>\n",
              "      <td>4.31e+05</td>\n",
              "      <td>441.75</td>\n",
              "    </tr>\n",
              "  </tbody>\n",
              "</table>\n",
              "</div>\n",
              "      <button class=\"colab-df-convert\" onclick=\"convertToInteractive('df-bb536a93-89fc-4210-b330-6e465666b2f7')\"\n",
              "              title=\"Convert this dataframe to an interactive table.\"\n",
              "              style=\"display:none;\">\n",
              "        \n",
              "  <svg xmlns=\"http://www.w3.org/2000/svg\" height=\"24px\"viewBox=\"0 0 24 24\"\n",
              "       width=\"24px\">\n",
              "    <path d=\"M0 0h24v24H0V0z\" fill=\"none\"/>\n",
              "    <path d=\"M18.56 5.44l.94 2.06.94-2.06 2.06-.94-2.06-.94-.94-2.06-.94 2.06-2.06.94zm-11 1L8.5 8.5l.94-2.06 2.06-.94-2.06-.94L8.5 2.5l-.94 2.06-2.06.94zm10 10l.94 2.06.94-2.06 2.06-.94-2.06-.94-.94-2.06-.94 2.06-2.06.94z\"/><path d=\"M17.41 7.96l-1.37-1.37c-.4-.4-.92-.59-1.43-.59-.52 0-1.04.2-1.43.59L10.3 9.45l-7.72 7.72c-.78.78-.78 2.05 0 2.83L4 21.41c.39.39.9.59 1.41.59.51 0 1.02-.2 1.41-.59l7.78-7.78 2.81-2.81c.8-.78.8-2.07 0-2.86zM5.41 20L4 18.59l7.72-7.72 1.47 1.35L5.41 20z\"/>\n",
              "  </svg>\n",
              "      </button>\n",
              "      \n",
              "  <style>\n",
              "    .colab-df-container {\n",
              "      display:flex;\n",
              "      flex-wrap:wrap;\n",
              "      gap: 12px;\n",
              "    }\n",
              "\n",
              "    .colab-df-convert {\n",
              "      background-color: #E8F0FE;\n",
              "      border: none;\n",
              "      border-radius: 50%;\n",
              "      cursor: pointer;\n",
              "      display: none;\n",
              "      fill: #1967D2;\n",
              "      height: 32px;\n",
              "      padding: 0 0 0 0;\n",
              "      width: 32px;\n",
              "    }\n",
              "\n",
              "    .colab-df-convert:hover {\n",
              "      background-color: #E2EBFA;\n",
              "      box-shadow: 0px 1px 2px rgba(60, 64, 67, 0.3), 0px 1px 3px 1px rgba(60, 64, 67, 0.15);\n",
              "      fill: #174EA6;\n",
              "    }\n",
              "\n",
              "    [theme=dark] .colab-df-convert {\n",
              "      background-color: #3B4455;\n",
              "      fill: #D2E3FC;\n",
              "    }\n",
              "\n",
              "    [theme=dark] .colab-df-convert:hover {\n",
              "      background-color: #434B5C;\n",
              "      box-shadow: 0px 1px 3px 1px rgba(0, 0, 0, 0.15);\n",
              "      filter: drop-shadow(0px 1px 2px rgba(0, 0, 0, 0.3));\n",
              "      fill: #FFFFFF;\n",
              "    }\n",
              "  </style>\n",
              "\n",
              "      <script>\n",
              "        const buttonEl =\n",
              "          document.querySelector('#df-bb536a93-89fc-4210-b330-6e465666b2f7 button.colab-df-convert');\n",
              "        buttonEl.style.display =\n",
              "          google.colab.kernel.accessAllowed ? 'block' : 'none';\n",
              "\n",
              "        async function convertToInteractive(key) {\n",
              "          const element = document.querySelector('#df-bb536a93-89fc-4210-b330-6e465666b2f7');\n",
              "          const dataTable =\n",
              "            await google.colab.kernel.invokeFunction('convertToInteractive',\n",
              "                                                     [key], {});\n",
              "          if (!dataTable) return;\n",
              "\n",
              "          const docLinkHtml = 'Like what you see? Visit the ' +\n",
              "            '<a target=\"_blank\" href=https://colab.research.google.com/notebooks/data_table.ipynb>data table notebook</a>'\n",
              "            + ' to learn more about interactive tables.';\n",
              "          element.innerHTML = '';\n",
              "          dataTable['output_type'] = 'display_data';\n",
              "          await google.colab.output.renderOutput(dataTable, element);\n",
              "          const docLink = document.createElement('div');\n",
              "          docLink.innerHTML = docLinkHtml;\n",
              "          element.appendChild(docLink);\n",
              "        }\n",
              "      </script>\n",
              "    </div>\n",
              "  </div>\n",
              "  "
            ]
          },
          "metadata": {}
        },
        {
          "output_type": "stream",
          "name": "stdout",
          "text": [
            "\n",
            "\n",
            "\n",
            "\n",
            "\u001b[1mKnapsack\u001b[0m\n"
          ]
        },
        {
          "output_type": "display_data",
          "data": {
            "text/plain": [
              "                           #Param Gates 6              #Param Gates 12  \\\n",
              "                                     Loss Time(second)            Loss   \n",
              "Discrete Parameter Shift         2.24e+00        16.84       -2.07e-01   \n",
              "Discrete Finite Difference       2.24e+00        17.03       -2.07e-01   \n",
              "Discrete LCU                     2.24e+00         9.76       -2.07e-01   \n",
              "Discrete QNG                     2.08e+00        19.03       -1.14e-01   \n",
              "Discrete Newton Gradient         1.28e+01        25.49        9.50e+00   \n",
              "\n",
              "                                        #Param Gates 18               \\\n",
              "                           Time(second)            Loss Time(second)   \n",
              "Discrete Parameter Shift          52.27        1.88e-01       106.67   \n",
              "Discrete Finite Difference        52.86        1.88e-01       108.57   \n",
              "Discrete LCU                      31.08        1.88e-01        63.28   \n",
              "Discrete QNG                      59.56       -4.35e-01       135.62   \n",
              "Discrete Newton Gradient          81.67        5.74e+00       172.23   \n",
              "\n",
              "                           #Param Gates 24              #Param Gates 30  \\\n",
              "                                      Loss Time(second)            Loss   \n",
              "Discrete Parameter Shift         -9.97e-01       181.64       -1.78e+00   \n",
              "Discrete Finite Difference       -9.97e-01       182.15       -1.78e+00   \n",
              "Discrete LCU                     -9.97e-01       108.66       -1.78e+00   \n",
              "Discrete QNG                     -9.39e-01       212.62       -1.76e+00   \n",
              "Discrete Newton Gradient          1.25e+00       292.96        4.23e+00   \n",
              "\n",
              "                                         \n",
              "                           Time(second)  \n",
              "Discrete Parameter Shift         271.50  \n",
              "Discrete Finite Difference       272.27  \n",
              "Discrete LCU                     165.44  \n",
              "Discrete QNG                     318.98  \n",
              "Discrete Newton Gradient         449.98  "
            ],
            "text/html": [
              "\n",
              "  <div id=\"df-430cc4d5-2e0d-4638-86f6-9f74a3778734\">\n",
              "    <div class=\"colab-df-container\">\n",
              "      <div>\n",
              "<style scoped>\n",
              "    .dataframe tbody tr th:only-of-type {\n",
              "        vertical-align: middle;\n",
              "    }\n",
              "\n",
              "    .dataframe tbody tr th {\n",
              "        vertical-align: top;\n",
              "    }\n",
              "\n",
              "    .dataframe thead tr th {\n",
              "        text-align: left;\n",
              "    }\n",
              "</style>\n",
              "<table border=\"1\" class=\"dataframe\">\n",
              "  <thead>\n",
              "    <tr>\n",
              "      <th></th>\n",
              "      <th colspan=\"2\" halign=\"left\">#Param Gates 6</th>\n",
              "      <th colspan=\"2\" halign=\"left\">#Param Gates 12</th>\n",
              "      <th colspan=\"2\" halign=\"left\">#Param Gates 18</th>\n",
              "      <th colspan=\"2\" halign=\"left\">#Param Gates 24</th>\n",
              "      <th colspan=\"2\" halign=\"left\">#Param Gates 30</th>\n",
              "    </tr>\n",
              "    <tr>\n",
              "      <th></th>\n",
              "      <th>Loss</th>\n",
              "      <th>Time(second)</th>\n",
              "      <th>Loss</th>\n",
              "      <th>Time(second)</th>\n",
              "      <th>Loss</th>\n",
              "      <th>Time(second)</th>\n",
              "      <th>Loss</th>\n",
              "      <th>Time(second)</th>\n",
              "      <th>Loss</th>\n",
              "      <th>Time(second)</th>\n",
              "    </tr>\n",
              "  </thead>\n",
              "  <tbody>\n",
              "    <tr>\n",
              "      <th>Discrete Parameter Shift</th>\n",
              "      <td>2.24e+00</td>\n",
              "      <td>16.84</td>\n",
              "      <td>-2.07e-01</td>\n",
              "      <td>52.27</td>\n",
              "      <td>1.88e-01</td>\n",
              "      <td>106.67</td>\n",
              "      <td>-9.97e-01</td>\n",
              "      <td>181.64</td>\n",
              "      <td>-1.78e+00</td>\n",
              "      <td>271.50</td>\n",
              "    </tr>\n",
              "    <tr>\n",
              "      <th>Discrete Finite Difference</th>\n",
              "      <td>2.24e+00</td>\n",
              "      <td>17.03</td>\n",
              "      <td>-2.07e-01</td>\n",
              "      <td>52.86</td>\n",
              "      <td>1.88e-01</td>\n",
              "      <td>108.57</td>\n",
              "      <td>-9.97e-01</td>\n",
              "      <td>182.15</td>\n",
              "      <td>-1.78e+00</td>\n",
              "      <td>272.27</td>\n",
              "    </tr>\n",
              "    <tr>\n",
              "      <th>Discrete LCU</th>\n",
              "      <td>2.24e+00</td>\n",
              "      <td>9.76</td>\n",
              "      <td>-2.07e-01</td>\n",
              "      <td>31.08</td>\n",
              "      <td>1.88e-01</td>\n",
              "      <td>63.28</td>\n",
              "      <td>-9.97e-01</td>\n",
              "      <td>108.66</td>\n",
              "      <td>-1.78e+00</td>\n",
              "      <td>165.44</td>\n",
              "    </tr>\n",
              "    <tr>\n",
              "      <th>Discrete QNG</th>\n",
              "      <td>2.08e+00</td>\n",
              "      <td>19.03</td>\n",
              "      <td>-1.14e-01</td>\n",
              "      <td>59.56</td>\n",
              "      <td>-4.35e-01</td>\n",
              "      <td>135.62</td>\n",
              "      <td>-9.39e-01</td>\n",
              "      <td>212.62</td>\n",
              "      <td>-1.76e+00</td>\n",
              "      <td>318.98</td>\n",
              "    </tr>\n",
              "    <tr>\n",
              "      <th>Discrete Newton Gradient</th>\n",
              "      <td>1.28e+01</td>\n",
              "      <td>25.49</td>\n",
              "      <td>9.50e+00</td>\n",
              "      <td>81.67</td>\n",
              "      <td>5.74e+00</td>\n",
              "      <td>172.23</td>\n",
              "      <td>1.25e+00</td>\n",
              "      <td>292.96</td>\n",
              "      <td>4.23e+00</td>\n",
              "      <td>449.98</td>\n",
              "    </tr>\n",
              "  </tbody>\n",
              "</table>\n",
              "</div>\n",
              "      <button class=\"colab-df-convert\" onclick=\"convertToInteractive('df-430cc4d5-2e0d-4638-86f6-9f74a3778734')\"\n",
              "              title=\"Convert this dataframe to an interactive table.\"\n",
              "              style=\"display:none;\">\n",
              "        \n",
              "  <svg xmlns=\"http://www.w3.org/2000/svg\" height=\"24px\"viewBox=\"0 0 24 24\"\n",
              "       width=\"24px\">\n",
              "    <path d=\"M0 0h24v24H0V0z\" fill=\"none\"/>\n",
              "    <path d=\"M18.56 5.44l.94 2.06.94-2.06 2.06-.94-2.06-.94-.94-2.06-.94 2.06-2.06.94zm-11 1L8.5 8.5l.94-2.06 2.06-.94-2.06-.94L8.5 2.5l-.94 2.06-2.06.94zm10 10l.94 2.06.94-2.06 2.06-.94-2.06-.94-.94-2.06-.94 2.06-2.06.94z\"/><path d=\"M17.41 7.96l-1.37-1.37c-.4-.4-.92-.59-1.43-.59-.52 0-1.04.2-1.43.59L10.3 9.45l-7.72 7.72c-.78.78-.78 2.05 0 2.83L4 21.41c.39.39.9.59 1.41.59.51 0 1.02-.2 1.41-.59l7.78-7.78 2.81-2.81c.8-.78.8-2.07 0-2.86zM5.41 20L4 18.59l7.72-7.72 1.47 1.35L5.41 20z\"/>\n",
              "  </svg>\n",
              "      </button>\n",
              "      \n",
              "  <style>\n",
              "    .colab-df-container {\n",
              "      display:flex;\n",
              "      flex-wrap:wrap;\n",
              "      gap: 12px;\n",
              "    }\n",
              "\n",
              "    .colab-df-convert {\n",
              "      background-color: #E8F0FE;\n",
              "      border: none;\n",
              "      border-radius: 50%;\n",
              "      cursor: pointer;\n",
              "      display: none;\n",
              "      fill: #1967D2;\n",
              "      height: 32px;\n",
              "      padding: 0 0 0 0;\n",
              "      width: 32px;\n",
              "    }\n",
              "\n",
              "    .colab-df-convert:hover {\n",
              "      background-color: #E2EBFA;\n",
              "      box-shadow: 0px 1px 2px rgba(60, 64, 67, 0.3), 0px 1px 3px 1px rgba(60, 64, 67, 0.15);\n",
              "      fill: #174EA6;\n",
              "    }\n",
              "\n",
              "    [theme=dark] .colab-df-convert {\n",
              "      background-color: #3B4455;\n",
              "      fill: #D2E3FC;\n",
              "    }\n",
              "\n",
              "    [theme=dark] .colab-df-convert:hover {\n",
              "      background-color: #434B5C;\n",
              "      box-shadow: 0px 1px 3px 1px rgba(0, 0, 0, 0.15);\n",
              "      filter: drop-shadow(0px 1px 2px rgba(0, 0, 0, 0.3));\n",
              "      fill: #FFFFFF;\n",
              "    }\n",
              "  </style>\n",
              "\n",
              "      <script>\n",
              "        const buttonEl =\n",
              "          document.querySelector('#df-430cc4d5-2e0d-4638-86f6-9f74a3778734 button.colab-df-convert');\n",
              "        buttonEl.style.display =\n",
              "          google.colab.kernel.accessAllowed ? 'block' : 'none';\n",
              "\n",
              "        async function convertToInteractive(key) {\n",
              "          const element = document.querySelector('#df-430cc4d5-2e0d-4638-86f6-9f74a3778734');\n",
              "          const dataTable =\n",
              "            await google.colab.kernel.invokeFunction('convertToInteractive',\n",
              "                                                     [key], {});\n",
              "          if (!dataTable) return;\n",
              "\n",
              "          const docLinkHtml = 'Like what you see? Visit the ' +\n",
              "            '<a target=\"_blank\" href=https://colab.research.google.com/notebooks/data_table.ipynb>data table notebook</a>'\n",
              "            + ' to learn more about interactive tables.';\n",
              "          element.innerHTML = '';\n",
              "          dataTable['output_type'] = 'display_data';\n",
              "          await google.colab.output.renderOutput(dataTable, element);\n",
              "          const docLink = document.createElement('div');\n",
              "          docLink.innerHTML = docLinkHtml;\n",
              "          element.appendChild(docLink);\n",
              "        }\n",
              "      </script>\n",
              "    </div>\n",
              "  </div>\n",
              "  "
            ]
          },
          "metadata": {}
        },
        {
          "output_type": "stream",
          "name": "stdout",
          "text": [
            "\n",
            "\n",
            "\n",
            "\n"
          ]
        }
      ],
      "source": [
        "#@title Comparison Table\n",
        "rows = ['Discrete Parameter Shift',\n",
        "          'Discrete Finite Difference',\n",
        "          'Discrete LCU', \n",
        "          'Discrete QNG',\n",
        "          'Discrete Newton Gradient',\n",
        "          #'Classical'\n",
        "          ]\n",
        "columns_g = [\"#Param Gates 6\", \"#Param Gates 12\", \"#Param Gates 18\", \"#Param Gates 24\", \"#Param Gates 30\"]\n",
        "iters = [0, 1, 2, 3, 4]\n",
        "columns_s = [\"Loss\", \"Time(second)\"]\n",
        "problems = [\"Max-Cut\", \"Clique\", \"Binary Linear Programming\", \"Knapsack\"]\n",
        "for problemn in range(len(problems)):\n",
        "  df = pd.DataFrame([[pslc[problemn][iters[0]], pstc[problemn][iters[0]], pslc[problemn][iters[1]],pstc[problemn][iters[1]],pslc[problemn][iters[2]],pstc[problemn][iters[2]],pslc[problemn][iters[3]],pstc[problemn][iters[3]],pslc[problemn][iters[4]],pstc[problemn][iters[4]]],\n",
        "                    [fdlc[problemn][iters[0]], fdtc[problemn][iters[0]], fdlc[problemn][iters[1]], fdtc[problemn][iters[1]], fdlc[problemn][iters[2]], fdtc[problemn][iters[2]], fdlc[problemn][iters[3]], fdtc[problemn][iters[3]], fdlc[problemn][iters[4]], fdtc[problemn][iters[4]]],\n",
        "                    [lculc[problemn][iters[0]], lcutc[problemn][iters[0]], lculc[problemn][iters[1]], lcutc[problemn][iters[1]], lculc[problemn][iters[2]], lcutc[problemn][iters[2]], lculc[problemn][iters[3]], lcutc[problemn][iters[3]], lculc[problemn][iters[4]], lcutc[problemn][iters[4]]],\n",
        "                    [qnglc[problemn][iters[0]],qngtc[problemn][iters[0]],qnglc[problemn][iters[1]],qngtc[problemn][iters[1]],qnglc[problemn][iters[2]],qngtc[problemn][iters[2]], qnglc[problemn][iters[3]],qngtc[problemn][iters[3]], qnglc[problemn][iters[4]],qngtc[problemn][iters[4]]],\n",
        "                    [qnwlc[problemn][iters[0]],qnwtc[problemn][iters[0]],qnwlc[problemn][iters[1]],qnwtc[problemn][iters[1]],qnwlc[problemn][iters[2]],qnwtc[problemn][iters[2]],qnwlc[problemn][iters[3]],qnwtc[problemn][iters[3]],qnwlc[problemn][iters[4]],qnwtc[problemn][iters[4]]],\n",
        "                    #[loss_plot_classical[5],classical_time_i[100],loss_plot_classical[200],classical_time_i[200],loss_plot_classical[300],classical_time_i[300], loss_plot_classical[400],classical_time_i[400], loss_plot_classical[500],classical_time_i[500]]\n",
        "                    ])\n",
        "\n",
        "  col_ix = pd.MultiIndex.from_product([columns_g, columns_s]) \n",
        "  row_ix = pd.MultiIndex.from_product([rows])\n",
        "  df = df.set_index(row_ix)\n",
        "  df.columns = col_ix\n",
        "  df[( '#Param Gates 6','Loss')] = df[( '#Param Gates 6','Loss')].map('{:.2e}'.format)\n",
        "  df[( '#Param Gates 12','Loss')] = df[( '#Param Gates 12','Loss')].map('{:.2e}'.format)\n",
        "  df[( '#Param Gates 18','Loss')] = df[( '#Param Gates 18','Loss')].map('{:.2e}'.format)\n",
        "  df[( '#Param Gates 24','Loss')] = df[( '#Param Gates 24','Loss')].map('{:.2e}'.format)\n",
        "  df[( '#Param Gates 30','Loss')] = df[( '#Param Gates 30','Loss')].map('{:.2e}'.format)\n",
        "  # df[( '#Param Gates 500','Loss')] = df[( '#Param Gates 500','Loss')].map('{:.2e}'.format)\n",
        "  print(f\"\\033[1m{problems[problemn]}\\033[0m\")\n",
        "  display(df.round(2))\n",
        "  print(\"\\n\\n\\n\")"
      ]
    },
    {
      "cell_type": "markdown",
      "metadata": {
        "id": "Qd3EUUWU4RZH"
      },
      "source": [
        "## **Continuous-variable**\n",
        "Using $S(0.49, 0.2)D(0.395, 0.5)$ as target gate"
      ]
    },
    {
      "cell_type": "code",
      "execution_count": null,
      "metadata": {
        "id": "rhUwygIHyCXw"
      },
      "outputs": [],
      "source": [
        "# num_wires_cv = 1\n",
        "# dev_cv = qml.device(\"strawberryfields.fock\", wires=num_wires_cv, cutoff_dim=20)"
      ]
    },
    {
      "cell_type": "code",
      "execution_count": null,
      "metadata": {
        "id": "rE2AI_k9Nc6t"
      },
      "outputs": [],
      "source": [
        "# def problem_cv():\n",
        "#     qml.Squeezing(0.49, 0.2, wires=0)\n",
        "#     qml.Displacement(0.395, 0.5, wires=0)"
      ]
    },
    {
      "cell_type": "markdown",
      "metadata": {
        "id": "OJ26U7JkNe9u"
      },
      "source": [
        "Ansatz for estimating target gate"
      ]
    },
    {
      "cell_type": "code",
      "execution_count": null,
      "metadata": {
        "id": "G0VyNO2M0XlK"
      },
      "outputs": [],
      "source": [
        "# def ansatz_cv(var):\n",
        "#     for wire in range(num_wires_cv):\n",
        "#       qml.Rotation(var[0+wire], wires=wire)\n",
        "#       qml.Squeezing(var[1+wire], 0.0, wires=wire)\n",
        "#       qml.Displacement(var[2+wire], 0.0, wires=wire)"
      ]
    },
    {
      "cell_type": "markdown",
      "metadata": {
        "id": "m8jwLps9NkOn"
      },
      "source": [
        "Objective function <br> \n",
        "1. initial state is  $|0⟩$\n",
        "2. apply target gate $U(r, \\theta)|0⟩$ <br> \n",
        "photon number expectation value $⟨n⟩$\n",
        "3. apply ansatz $A(s, \\alpha)$  and $U(r, \\theta)$<br> \n",
        "photon number expectation value $A(s, \\alpha)U(r, \\theta)|0⟩ = ⟨n'⟩$\n",
        "4. if $⟨n'⟩ = 0$ then  $A(s, \\alpha) = U^\\dagger(r, \\theta)$\n",
        "5. so, we will minimize $⟨n'⟩$ to target $0$ to make $A(s, \\alpha) = U^\\dagger(r, \\theta)$\n"
      ]
    },
    {
      "cell_type": "code",
      "execution_count": null,
      "metadata": {
        "id": "-sht3m-iNgiA"
      },
      "outputs": [],
      "source": [
        "# @qml.qnode(dev_cv)\n",
        "# def cost_function_cv(var):\n",
        "#     for v in var:\n",
        "#       ansatz_cv(v)\n",
        "\n",
        "#     problem_cv()\n",
        "\n",
        "#     return qml.expval(qml.NumberOperator(wires=0))"
      ]
    },
    {
      "cell_type": "markdown",
      "metadata": {
        "id": "UgKEPf-KP5X_"
      },
      "source": [
        "Probability distribution of target gate"
      ]
    },
    {
      "cell_type": "code",
      "execution_count": null,
      "metadata": {
        "id": "4qg3hmWyP4f5"
      },
      "outputs": [],
      "source": [
        "# @qml.qnode(dev_cv)\n",
        "# def target_cv():\n",
        "#     problem_cv()\n",
        "\n",
        "#     return qml.probs(wires=0) #qml.NumberOperator(wires=0)"
      ]
    },
    {
      "cell_type": "markdown",
      "metadata": {
        "id": "dobPY6LFQB1z"
      },
      "source": [
        "Probability distribution of estimated gate"
      ]
    },
    {
      "cell_type": "code",
      "execution_count": null,
      "metadata": {
        "id": "hcbCfAx_P3cB"
      },
      "outputs": [],
      "source": [
        "# @qml.qnode(dev_cv)\n",
        "# def prediction_cv(var):\n",
        "#     for v in var:\n",
        "#       ansatz_cv(v)\n",
        "    \n",
        "#     return qml.probs(wires=0)"
      ]
    },
    {
      "cell_type": "code",
      "execution_count": null,
      "metadata": {
        "id": "WQ-9whXm02OC"
      },
      "outputs": [],
      "source": [
        "# # def MAE_cv(var):\n",
        "# #   pred = prediction_cv(var)\n",
        "# #   y = target_cv()\n",
        "# #   return sum(abs(pred-y))/len(y)\n",
        "\n",
        "# def similarity(var):\n",
        "#   pred = prediction_cv(var)\n",
        "#   y = target_cv()\n",
        "#   cos_sim = np.dot(pred, y)/(np.linalg.norm(pred)*np.linalg.norm(y))\n",
        "#   return 1-cos_sim"
      ]
    },
    {
      "cell_type": "code",
      "execution_count": null,
      "metadata": {
        "id": "zSniviDXDHiT"
      },
      "outputs": [],
      "source": [
        "# np.random.seed(1)\n",
        "# num_layers_cv = 1\n",
        "# var_init_cv = 0.05*np.random.randn(num_layers_cv, 3*num_wires_cv)"
      ]
    },
    {
      "cell_type": "code",
      "execution_count": null,
      "metadata": {
        "id": "coZur5gPFLYW"
      },
      "outputs": [],
      "source": [
        "# print(\"Initial cost: \", cost_function_cv(var_init_cv))"
      ]
    },
    {
      "cell_type": "markdown",
      "metadata": {
        "id": "9RBeog4WQJM2"
      },
      "source": [
        "### Parameter shift rule"
      ]
    },
    {
      "cell_type": "code",
      "execution_count": null,
      "metadata": {
        "id": "eYEiS55mCNhU"
      },
      "outputs": [],
      "source": [
        "# parameter_shift_cv_time_i = []\n",
        "# start = time.time()\n",
        "\n",
        "# opt_cv = GradientDescentOptimizer(0.01)\n",
        "\n",
        "# s = 0.1\n",
        "# alpha = np.pi/2\n",
        "\n",
        "# var_cv = var_init_cv.copy()\n",
        "# loss_plot_cv = []\n",
        "# break_count = 0\n",
        "\n",
        "\n",
        "# for it in range(1201):# while True:\n",
        "#     var_cv, _cost = opt.step_and_cost(lambda v: similarity(v), var_cv, \n",
        "#                                    grad_fn=lambda var_cv: parameter_shift_cv(cost_function_cv, var_cv)) \n",
        "    \n",
        "#     loss_plot_cv.append(_cost)\n",
        "\n",
        "#     if it%100==0:\n",
        "#       print(\"Iter: {:5d} | Cost: {:0.11f} \".format(it, _cost))\n",
        "    \n",
        "#     end = time.time()\n",
        "#     t = end - start\n",
        "#     parameter_shift_cv_time_i.append(t)"
      ]
    },
    {
      "cell_type": "markdown",
      "metadata": {
        "id": "lWfinCpHqJYm"
      },
      "source": [
        "### Finite difference"
      ]
    },
    {
      "cell_type": "code",
      "execution_count": null,
      "metadata": {
        "id": "PY3y3KcISHWd"
      },
      "outputs": [],
      "source": [
        "# finite_cv_time_i = []\n",
        "# start = time.time()\n",
        "\n",
        "# opt_cv = GradientDescentOptimizer(0.01)\n",
        "\n",
        "# s = 0.1\n",
        "# alpha = np.pi/2\n",
        "\n",
        "# var_cv_fd = var_init_cv.copy()\n",
        "# loss_plot_cv_fd = []\n",
        "# break_count = 0\n",
        "\n",
        "\n",
        "# for it in range(1201):# while True:\n",
        "#     var_cv_fd, _cost = opt.step_and_cost(lambda v: similarity(v), var_cv_fd, \n",
        "#                                    grad_fn=lambda var_cv_fd: finite_difference_cv(cost_function_cv, var_cv_fd)) \n",
        "    \n",
        "#     loss_plot_cv_fd.append(_cost)\n",
        "\n",
        "#     if it%100==0:\n",
        "#       print(\"Iter: {:5d} | Cost: {:0.11f} \".format(it, _cost))\n",
        "    \n",
        "#     end = time.time()\n",
        "#     t = end - start\n",
        "#     finite_cv_time_i.append(t)"
      ]
    }
  ],
  "metadata": {
    "colab": {
      "collapsed_sections": [
        "__wEBgF9oflu",
        "Qd3EUUWU4RZH"
      ],
      "name": "analytic_discrete_gradient_comparison.ipynb",
      "provenance": [],
      "toc_visible": true,
      "include_colab_link": true
    },
    "kernelspec": {
      "display_name": "Python 3",
      "name": "python3"
    },
    "language_info": {
      "name": "python"
    },
    "widgets": {
      "application/vnd.jupyter.widget-state+json": {
        "d3b1a52b07b143c7b7965bca6159f21a": {
          "model_module": "@jupyter-widgets/controls",
          "model_name": "HBoxModel",
          "model_module_version": "1.5.0",
          "state": {
            "_dom_classes": [],
            "_model_module": "@jupyter-widgets/controls",
            "_model_module_version": "1.5.0",
            "_model_name": "HBoxModel",
            "_view_count": null,
            "_view_module": "@jupyter-widgets/controls",
            "_view_module_version": "1.5.0",
            "_view_name": "HBoxView",
            "box_style": "",
            "children": [
              "IPY_MODEL_11182d9eb45144d38213daa6a735144f",
              "IPY_MODEL_01d5310e1fd9402b9c077ee12ddf5a9e",
              "IPY_MODEL_f6b8390f866a4ae4b12bf2469b2b85af"
            ],
            "layout": "IPY_MODEL_e9705710ec0c4a1bb501d0ac0cf62db9"
          }
        },
        "11182d9eb45144d38213daa6a735144f": {
          "model_module": "@jupyter-widgets/controls",
          "model_name": "HTMLModel",
          "model_module_version": "1.5.0",
          "state": {
            "_dom_classes": [],
            "_model_module": "@jupyter-widgets/controls",
            "_model_module_version": "1.5.0",
            "_model_name": "HTMLModel",
            "_view_count": null,
            "_view_module": "@jupyter-widgets/controls",
            "_view_module_version": "1.5.0",
            "_view_name": "HTMLView",
            "description": "",
            "description_tooltip": null,
            "layout": "IPY_MODEL_0010455e041d499c9ab32aa74b5320c5",
            "placeholder": "​",
            "style": "IPY_MODEL_bc4e86ab28b84211be98830efd33e00a",
            "value": "100%"
          }
        },
        "01d5310e1fd9402b9c077ee12ddf5a9e": {
          "model_module": "@jupyter-widgets/controls",
          "model_name": "FloatProgressModel",
          "model_module_version": "1.5.0",
          "state": {
            "_dom_classes": [],
            "_model_module": "@jupyter-widgets/controls",
            "_model_module_version": "1.5.0",
            "_model_name": "FloatProgressModel",
            "_view_count": null,
            "_view_module": "@jupyter-widgets/controls",
            "_view_module_version": "1.5.0",
            "_view_name": "ProgressView",
            "bar_style": "success",
            "description": "",
            "description_tooltip": null,
            "layout": "IPY_MODEL_9edaef06dd964b7dbcf9f9c3334c7bd9",
            "max": 50,
            "min": 0,
            "orientation": "horizontal",
            "style": "IPY_MODEL_eaf385c87b6e461bb412e5720514a829",
            "value": 50
          }
        },
        "f6b8390f866a4ae4b12bf2469b2b85af": {
          "model_module": "@jupyter-widgets/controls",
          "model_name": "HTMLModel",
          "model_module_version": "1.5.0",
          "state": {
            "_dom_classes": [],
            "_model_module": "@jupyter-widgets/controls",
            "_model_module_version": "1.5.0",
            "_model_name": "HTMLModel",
            "_view_count": null,
            "_view_module": "@jupyter-widgets/controls",
            "_view_module_version": "1.5.0",
            "_view_name": "HTMLView",
            "description": "",
            "description_tooltip": null,
            "layout": "IPY_MODEL_bfcfa768f4504b179a3c526cbaca47f6",
            "placeholder": "​",
            "style": "IPY_MODEL_96538a35f43c4bd2a1308067b5f06594",
            "value": " 50/50 [00:19&lt;00:00,  2.73it/s]"
          }
        },
        "e9705710ec0c4a1bb501d0ac0cf62db9": {
          "model_module": "@jupyter-widgets/base",
          "model_name": "LayoutModel",
          "model_module_version": "1.2.0",
          "state": {
            "_model_module": "@jupyter-widgets/base",
            "_model_module_version": "1.2.0",
            "_model_name": "LayoutModel",
            "_view_count": null,
            "_view_module": "@jupyter-widgets/base",
            "_view_module_version": "1.2.0",
            "_view_name": "LayoutView",
            "align_content": null,
            "align_items": null,
            "align_self": null,
            "border": null,
            "bottom": null,
            "display": null,
            "flex": null,
            "flex_flow": null,
            "grid_area": null,
            "grid_auto_columns": null,
            "grid_auto_flow": null,
            "grid_auto_rows": null,
            "grid_column": null,
            "grid_gap": null,
            "grid_row": null,
            "grid_template_areas": null,
            "grid_template_columns": null,
            "grid_template_rows": null,
            "height": null,
            "justify_content": null,
            "justify_items": null,
            "left": null,
            "margin": null,
            "max_height": null,
            "max_width": null,
            "min_height": null,
            "min_width": null,
            "object_fit": null,
            "object_position": null,
            "order": null,
            "overflow": null,
            "overflow_x": null,
            "overflow_y": null,
            "padding": null,
            "right": null,
            "top": null,
            "visibility": null,
            "width": null
          }
        },
        "0010455e041d499c9ab32aa74b5320c5": {
          "model_module": "@jupyter-widgets/base",
          "model_name": "LayoutModel",
          "model_module_version": "1.2.0",
          "state": {
            "_model_module": "@jupyter-widgets/base",
            "_model_module_version": "1.2.0",
            "_model_name": "LayoutModel",
            "_view_count": null,
            "_view_module": "@jupyter-widgets/base",
            "_view_module_version": "1.2.0",
            "_view_name": "LayoutView",
            "align_content": null,
            "align_items": null,
            "align_self": null,
            "border": null,
            "bottom": null,
            "display": null,
            "flex": null,
            "flex_flow": null,
            "grid_area": null,
            "grid_auto_columns": null,
            "grid_auto_flow": null,
            "grid_auto_rows": null,
            "grid_column": null,
            "grid_gap": null,
            "grid_row": null,
            "grid_template_areas": null,
            "grid_template_columns": null,
            "grid_template_rows": null,
            "height": null,
            "justify_content": null,
            "justify_items": null,
            "left": null,
            "margin": null,
            "max_height": null,
            "max_width": null,
            "min_height": null,
            "min_width": null,
            "object_fit": null,
            "object_position": null,
            "order": null,
            "overflow": null,
            "overflow_x": null,
            "overflow_y": null,
            "padding": null,
            "right": null,
            "top": null,
            "visibility": null,
            "width": null
          }
        },
        "bc4e86ab28b84211be98830efd33e00a": {
          "model_module": "@jupyter-widgets/controls",
          "model_name": "DescriptionStyleModel",
          "model_module_version": "1.5.0",
          "state": {
            "_model_module": "@jupyter-widgets/controls",
            "_model_module_version": "1.5.0",
            "_model_name": "DescriptionStyleModel",
            "_view_count": null,
            "_view_module": "@jupyter-widgets/base",
            "_view_module_version": "1.2.0",
            "_view_name": "StyleView",
            "description_width": ""
          }
        },
        "9edaef06dd964b7dbcf9f9c3334c7bd9": {
          "model_module": "@jupyter-widgets/base",
          "model_name": "LayoutModel",
          "model_module_version": "1.2.0",
          "state": {
            "_model_module": "@jupyter-widgets/base",
            "_model_module_version": "1.2.0",
            "_model_name": "LayoutModel",
            "_view_count": null,
            "_view_module": "@jupyter-widgets/base",
            "_view_module_version": "1.2.0",
            "_view_name": "LayoutView",
            "align_content": null,
            "align_items": null,
            "align_self": null,
            "border": null,
            "bottom": null,
            "display": null,
            "flex": null,
            "flex_flow": null,
            "grid_area": null,
            "grid_auto_columns": null,
            "grid_auto_flow": null,
            "grid_auto_rows": null,
            "grid_column": null,
            "grid_gap": null,
            "grid_row": null,
            "grid_template_areas": null,
            "grid_template_columns": null,
            "grid_template_rows": null,
            "height": null,
            "justify_content": null,
            "justify_items": null,
            "left": null,
            "margin": null,
            "max_height": null,
            "max_width": null,
            "min_height": null,
            "min_width": null,
            "object_fit": null,
            "object_position": null,
            "order": null,
            "overflow": null,
            "overflow_x": null,
            "overflow_y": null,
            "padding": null,
            "right": null,
            "top": null,
            "visibility": null,
            "width": null
          }
        },
        "eaf385c87b6e461bb412e5720514a829": {
          "model_module": "@jupyter-widgets/controls",
          "model_name": "ProgressStyleModel",
          "model_module_version": "1.5.0",
          "state": {
            "_model_module": "@jupyter-widgets/controls",
            "_model_module_version": "1.5.0",
            "_model_name": "ProgressStyleModel",
            "_view_count": null,
            "_view_module": "@jupyter-widgets/base",
            "_view_module_version": "1.2.0",
            "_view_name": "StyleView",
            "bar_color": null,
            "description_width": ""
          }
        },
        "bfcfa768f4504b179a3c526cbaca47f6": {
          "model_module": "@jupyter-widgets/base",
          "model_name": "LayoutModel",
          "model_module_version": "1.2.0",
          "state": {
            "_model_module": "@jupyter-widgets/base",
            "_model_module_version": "1.2.0",
            "_model_name": "LayoutModel",
            "_view_count": null,
            "_view_module": "@jupyter-widgets/base",
            "_view_module_version": "1.2.0",
            "_view_name": "LayoutView",
            "align_content": null,
            "align_items": null,
            "align_self": null,
            "border": null,
            "bottom": null,
            "display": null,
            "flex": null,
            "flex_flow": null,
            "grid_area": null,
            "grid_auto_columns": null,
            "grid_auto_flow": null,
            "grid_auto_rows": null,
            "grid_column": null,
            "grid_gap": null,
            "grid_row": null,
            "grid_template_areas": null,
            "grid_template_columns": null,
            "grid_template_rows": null,
            "height": null,
            "justify_content": null,
            "justify_items": null,
            "left": null,
            "margin": null,
            "max_height": null,
            "max_width": null,
            "min_height": null,
            "min_width": null,
            "object_fit": null,
            "object_position": null,
            "order": null,
            "overflow": null,
            "overflow_x": null,
            "overflow_y": null,
            "padding": null,
            "right": null,
            "top": null,
            "visibility": null,
            "width": null
          }
        },
        "96538a35f43c4bd2a1308067b5f06594": {
          "model_module": "@jupyter-widgets/controls",
          "model_name": "DescriptionStyleModel",
          "model_module_version": "1.5.0",
          "state": {
            "_model_module": "@jupyter-widgets/controls",
            "_model_module_version": "1.5.0",
            "_model_name": "DescriptionStyleModel",
            "_view_count": null,
            "_view_module": "@jupyter-widgets/base",
            "_view_module_version": "1.2.0",
            "_view_name": "StyleView",
            "description_width": ""
          }
        }
      }
    }
  },
  "nbformat": 4,
  "nbformat_minor": 0
}