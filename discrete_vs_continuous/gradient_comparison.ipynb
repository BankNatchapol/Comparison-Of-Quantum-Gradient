{
  "nbformat": 4,
  "nbformat_minor": 0,
  "metadata": {
    "colab": {
      "name": "gradient_comparison.ipynb",
      "provenance": [],
      "collapsed_sections": [],
      "toc_visible": true,
      "authorship_tag": "ABX9TyOEqOsKVQ4Jcna5039P1Fxu",
      "include_colab_link": true
    },
    "kernelspec": {
      "name": "python3",
      "display_name": "Python 3"
    },
    "language_info": {
      "name": "python"
    }
  },
  "cells": [
    {
      "cell_type": "markdown",
      "metadata": {
        "id": "view-in-github",
        "colab_type": "text"
      },
      "source": [
        "<a href=\"https://colab.research.google.com/github/BankNatchapol/Comparison-Of-Quantum-Gradient/blob/main/discrete_vs_continuous/gradient_comparison.ipynb\" target=\"_parent\"><img src=\"https://colab.research.google.com/assets/colab-badge.svg\" alt=\"Open In Colab\"/></a>"
      ]
    },
    {
      "cell_type": "code",
      "metadata": {
        "id": "SBqFCoePuw6c"
      },
      "source": [
        "!pip install pennylane-sf"
      ],
      "execution_count": null,
      "outputs": []
    },
    {
      "cell_type": "code",
      "metadata": {
        "id": "F5tj-C8xu5W_"
      },
      "source": [
        "import pennylane as qml\n",
        "from pennylane import numpy as np\n",
        "from pennylane.optimize import GradientDescentOptimizer\n",
        "\n",
        "import pandas as pd\n",
        "\n",
        "import networkx as nx\n",
        "import matplotlib.pyplot as plt\n",
        "import plotly.graph_objects as go\n",
        "import plotly.express as px"
      ],
      "execution_count": 2,
      "outputs": []
    },
    {
      "cell_type": "markdown",
      "metadata": {
        "id": "cmviO3033yq1"
      },
      "source": [
        "# **Gradient methods**"
      ]
    },
    {
      "cell_type": "code",
      "metadata": {
        "id": "10x49co1u-fB"
      },
      "source": [
        "def parameter_shift_term(qnode, params, i, j):\n",
        "    \n",
        "    shifted = params.copy()\n",
        "    \n",
        "    shifted[i, j] += np.pi/2\n",
        "    forward = qnode(shifted)  # forward evaluation\n",
        "\n",
        "    shifted[i, j] -= np.pi\n",
        "    backward = qnode(shifted) # backward evaluation\n",
        "\n",
        "    return 0.5 * (forward - backward)\n",
        "\n",
        "def parameter_shift(qnode, params):\n",
        "    gradients = np.zeros_like((params))\n",
        "    for i in range(len(gradients)):\n",
        "        for j in range(len(gradients[0])):\n",
        "            gradients[i, j] += parameter_shift_term(qnode, params, i, j)\n",
        "\n",
        "    return gradients\n",
        "  \n",
        "gate_list = ['R', 'S1', 'D1'] "
      ],
      "execution_count": 3,
      "outputs": []
    },
    {
      "cell_type": "code",
      "metadata": {
        "id": "TWtFpF_iRDdd"
      },
      "source": [
        "def parameter_shift_cv_term(qnode, params, i, j):\n",
        "    \n",
        "    gate = gate_list[j%len(gate_list)]\n",
        "\n",
        "    shifted = params.copy()\n",
        "\n",
        "    if gate == 'R' or gate == 'S2' or gate == 'D2':\n",
        "      shifted[i, j] += alpha\n",
        "      forward = qnode(shifted)  # forward evaluation\n",
        "\n",
        "      shifted[i, j] -= 2*alpha\n",
        "      backward = qnode(shifted) # backward evaluation\n",
        "\n",
        "      return (1/2) * (forward - backward)\n",
        "\n",
        "    elif gate == 'S1':\n",
        "      shifted[i, j] += s\n",
        "      forward = qnode(shifted)  # forward evaluation\n",
        "\n",
        "      shifted[i, j] -= 2*s\n",
        "      backward = qnode(shifted) # backward evaluation\n",
        "\n",
        "      return (1/(2*np.sinh(s))) * (forward - backward)\n",
        "    \n",
        "    elif gate == 'D1':\n",
        "      shifted[i, j] += s\n",
        "      forward = qnode(shifted)  # forward evaluation\n",
        "\n",
        "      shifted[i, j] -= 2*s\n",
        "      backward = qnode(shifted) # backward evaluation\n",
        "\n",
        "      return (1/(2*s)) * (forward - backward)\n",
        "\n",
        "def parameter_shift_cv(qnode, params):\n",
        "    gradients = np.zeros_like((params))\n",
        "    for i in range(len(gradients)):\n",
        "        for j in range(len(gradients[0])):\n",
        "            gradients[i, j] += parameter_shift_cv_term(qnode, params, i, j)\n",
        "\n",
        "    return gradients"
      ],
      "execution_count": 4,
      "outputs": []
    },
    {
      "cell_type": "code",
      "metadata": {
        "id": "8AIs9cEARFdc"
      },
      "source": [
        "def finite_term(qnode, params, i, j):\n",
        "    \n",
        "    eps = 0.01\n",
        "\n",
        "    shifted = params.copy()\n",
        "    \n",
        "    shifted[i, j] += eps\n",
        "    forward = qnode(shifted)  # forward evaluation\n",
        "\n",
        "    shifted[i, j] -= 2*eps\n",
        "    backward = qnode(shifted) # backward evaluation\n",
        "\n",
        "    return (1/(2*eps)) * (forward - backward)\n",
        "\n",
        "def finite_difference(qnode, params):\n",
        "    gradients = np.zeros_like((params))\n",
        "    for i in range(len(gradients)):\n",
        "        for j in range(len(gradients[0])):\n",
        "            gradients[i, j] += finite_term(qnode, params, i, j)\n",
        "\n",
        "    return gradients"
      ],
      "execution_count": 5,
      "outputs": []
    },
    {
      "cell_type": "code",
      "metadata": {
        "id": "0BeJhEzKRFJQ"
      },
      "source": [
        "def finite_cv_term(qnode, params, i, j):\n",
        "    \n",
        "    eps = 0.01\n",
        "\n",
        "    shifted = params.copy()\n",
        "    \n",
        "    shifted[i, j] += eps\n",
        "    forward = qnode(shifted)  # forward evaluation\n",
        "\n",
        "    shifted[i, j] -= 2*eps\n",
        "    backward = qnode(shifted) # backward evaluation\n",
        "\n",
        "    return (1/(2*eps)) * (forward - backward)\n",
        "\n",
        "def finite_difference_cv(qnode, params):\n",
        "    gradients = np.zeros_like((params))\n",
        "    for i in range(len(gradients)):\n",
        "        for j in range(len(gradients[0])):\n",
        "            gradients[i, j] += finite_cv_term(qnode, params, i, j)\n",
        "\n",
        "    return gradients"
      ],
      "execution_count": 6,
      "outputs": []
    },
    {
      "cell_type": "markdown",
      "metadata": {
        "id": "7oOYIsk033zu"
      },
      "source": [
        "# **Problem** : Quantum gate estimation"
      ]
    },
    {
      "cell_type": "markdown",
      "metadata": {
        "id": "kqRA7CVVRbzD"
      },
      "source": [
        "## Discrete-variable\n",
        "Using $U3(1.1, 0.5, 2.3)$ as target gate"
      ]
    },
    {
      "cell_type": "code",
      "metadata": {
        "id": "uE0xRpQ0utWz"
      },
      "source": [
        "num_wires = 1\n",
        "dev = qml.device(\"default.qubit\", wires=num_wires)"
      ],
      "execution_count": 7,
      "outputs": []
    },
    {
      "cell_type": "code",
      "metadata": {
        "id": "ptd1RUJU5UE9"
      },
      "source": [
        "# problem gate \n",
        "def problem():\n",
        "    qml.U3(1.44, 0.8, 2.1, wires=0)"
      ],
      "execution_count": 8,
      "outputs": []
    },
    {
      "cell_type": "markdown",
      "metadata": {
        "id": "TXRoSVgr5VYd"
      },
      "source": [
        "Ansatz for estimating target gate"
      ]
    },
    {
      "cell_type": "code",
      "metadata": {
        "id": "cmWZibCLr1-6"
      },
      "source": [
        "# guesting ansatz state\n",
        "def ansatz(var):\n",
        "    for wire in range(num_wires):\n",
        "      qml.Hadamard(wires=wire)\n",
        "      qml.RX(var[0+wire], wires=wire)\n",
        "      qml.RY(var[1+wire], wires=wire)\n",
        "      qml.RZ(var[2+wire], wires=wire)"
      ],
      "execution_count": 9,
      "outputs": []
    },
    {
      "cell_type": "markdown",
      "metadata": {
        "id": "QsuSJSbk5gnL"
      },
      "source": [
        "Objective function <br> \n",
        "1. initial state is  $|0⟩$\n",
        "2. apply target gate $U(\\theta)|0⟩$ <br> \n",
        "the state will be $|\\psi⟩ = a|0⟩+b|1⟩$ \n",
        "3. apply ansatz $A(\\alpha)$  <br> \n",
        "the state will be $A(\\alpha)|\\psi⟩ = |\\psi'⟩$\n",
        "4. if $A(\\alpha) = U(\\theta)$ then  $|\\psi'⟩= 1|0⟩ + 0|1⟩ = |0⟩$\n",
        "5. so, we will minimize $b|1⟩$ to target $0|1⟩$ to make $A(\\alpha) = U(\\theta)$\n"
      ]
    },
    {
      "cell_type": "code",
      "metadata": {
        "id": "jz3X0YaN5f65"
      },
      "source": [
        "# objective function\n",
        "@qml.qnode(dev)\n",
        "def cost_function(var):\n",
        "    for v in var: \n",
        "      ansatz(v)\n",
        "\n",
        "    problem() # problem gate \n",
        "\n",
        "    return qml.expval(qml.Projector([1],wires=0)) # get amplitude of of |1>"
      ],
      "execution_count": 10,
      "outputs": []
    },
    {
      "cell_type": "markdown",
      "metadata": {
        "id": "6zoLalj09Swx"
      },
      "source": [
        "Probability distribution of target gate "
      ]
    },
    {
      "cell_type": "code",
      "metadata": {
        "id": "UHyPHh769CFn"
      },
      "source": [
        "# target result of problem gate\n",
        "@qml.qnode(dev)\n",
        "def target():\n",
        "    problem()\n",
        "    return qml.probs(wires=[0])  # get target probability"
      ],
      "execution_count": 11,
      "outputs": []
    },
    {
      "cell_type": "markdown",
      "metadata": {
        "id": "U-Uy87BL98bh"
      },
      "source": [
        "Probability distribution of estimated gate "
      ]
    },
    {
      "cell_type": "code",
      "metadata": {
        "id": "1tV5rVji9kZv"
      },
      "source": [
        "# prediction circuit\n",
        "@qml.qnode(dev)\n",
        "def prediction(var):\n",
        "    for v in var:\n",
        "      ansatz(v)\n",
        "    return qml.probs(wires=[0])  # get prediction probability"
      ],
      "execution_count": 12,
      "outputs": []
    },
    {
      "cell_type": "code",
      "metadata": {
        "colab": {
          "base_uri": "https://localhost:8080/"
        },
        "id": "GF9IHpv-vMYl",
        "outputId": "859521bb-c13d-4b94-afb0-546ad631fec4"
      },
      "source": [
        "print(\"Target state: \", target())"
      ],
      "execution_count": 13,
      "outputs": [
        {
          "output_type": "stream",
          "text": [
            "Target state:  [0.56521185 0.43478815]\n"
          ],
          "name": "stdout"
        }
      ]
    },
    {
      "cell_type": "code",
      "metadata": {
        "id": "d6tRbcsMvM0F"
      },
      "source": [
        "np.random.seed(1)\n",
        "num_layers = 2\n",
        "var_init = 0.05*np.random.randn(num_layers, 3*num_wires)"
      ],
      "execution_count": 14,
      "outputs": []
    },
    {
      "cell_type": "code",
      "metadata": {
        "colab": {
          "base_uri": "https://localhost:8080/"
        },
        "id": "29C6GDYBvUYp",
        "outputId": "8edad79d-369d-4b0e-d50d-cdcfd532bfda"
      },
      "source": [
        "print(\"Initial cost: \", cost_function(var_init))"
      ],
      "execution_count": 15,
      "outputs": [
        {
          "output_type": "stream",
          "text": [
            "Initial cost:  0.38420647954293236\n"
          ],
          "name": "stdout"
        }
      ]
    },
    {
      "cell_type": "markdown",
      "metadata": {
        "id": "C9k03eA5-l06"
      },
      "source": [
        "Training with parameter shift rule and gradient descent optimizer"
      ]
    },
    {
      "cell_type": "code",
      "metadata": {
        "colab": {
          "base_uri": "https://localhost:8080/"
        },
        "id": "0t_JHnhVvfzR",
        "outputId": "a7fed62b-4d0e-48c5-a9fd-8ab1ae122ac0"
      },
      "source": [
        "opt = GradientDescentOptimizer(0.01)\n",
        "\n",
        "var = var_init.copy()\n",
        "loss_plot = []\n",
        "\n",
        "for it in range(1201):# while True:\n",
        "    var, _cost = opt.step_and_cost(lambda v: cost_function(v), var, \n",
        "                                   grad_fn=lambda var: parameter_shift(cost_function, var)) \n",
        "    loss_plot.append(_cost)\n",
        "\n",
        "    if it%100==0:\n",
        "      print(\"Iter: {:5d} | Cost: {:0.11f} \".format(it, _cost))"
      ],
      "execution_count": 16,
      "outputs": [
        {
          "output_type": "stream",
          "text": [
            "Iter:     0 | Cost: 0.38420647954 \n",
            "Iter:   100 | Cost: 0.07905926083 \n",
            "Iter:   200 | Cost: 0.01260131677 \n",
            "Iter:   300 | Cost: 0.00204853691 \n",
            "Iter:   400 | Cost: 0.00034842518 \n",
            "Iter:   500 | Cost: 0.00006112723 \n",
            "Iter:   600 | Cost: 0.00001091990 \n",
            "Iter:   700 | Cost: 0.00000197059 \n",
            "Iter:   800 | Cost: 0.00000035761 \n",
            "Iter:   900 | Cost: 0.00000006510 \n",
            "Iter:  1000 | Cost: 0.00000001187 \n",
            "Iter:  1100 | Cost: 0.00000000217 \n",
            "Iter:  1200 | Cost: 0.00000000040 \n"
          ],
          "name": "stdout"
        }
      ]
    },
    {
      "cell_type": "code",
      "metadata": {
        "colab": {
          "base_uri": "https://localhost:8080/"
        },
        "id": "BR87ifUYRp4l",
        "outputId": "e6e54530-00a3-48ec-d0f1-58e8b379cb74"
      },
      "source": [
        "opt = GradientDescentOptimizer(0.01)\n",
        "\n",
        "var_fd = var_init.copy()\n",
        "loss_plot_fd = []\n",
        "\n",
        "for it in range(1201):# while True:\n",
        "    var_fd, _cost = opt.step_and_cost(lambda v: cost_function(v), var_fd, \n",
        "                                   grad_fn=lambda var_fd: finite_difference(cost_function, var_fd)) \n",
        "    loss_plot_fd.append(_cost)\n",
        "\n",
        "    if it%100==0:\n",
        "      print(\"Iter: {:5d} | Cost: {:0.11f} \".format(it, _cost))"
      ],
      "execution_count": 17,
      "outputs": [
        {
          "output_type": "stream",
          "text": [
            "Iter:     0 | Cost: 0.38420647954 \n",
            "Iter:   100 | Cost: 0.07906163434 \n",
            "Iter:   200 | Cost: 0.01260209243 \n",
            "Iter:   300 | Cost: 0.00204872124 \n",
            "Iter:   400 | Cost: 0.00034846608 \n",
            "Iter:   500 | Cost: 0.00006113608 \n",
            "Iter:   600 | Cost: 0.00001092178 \n",
            "Iter:   700 | Cost: 0.00000197099 \n",
            "Iter:   800 | Cost: 0.00000035769 \n",
            "Iter:   900 | Cost: 0.00000006511 \n",
            "Iter:  1000 | Cost: 0.00000001187 \n",
            "Iter:  1100 | Cost: 0.00000000217 \n",
            "Iter:  1200 | Cost: 0.00000000040 \n"
          ],
          "name": "stdout"
        }
      ]
    },
    {
      "cell_type": "markdown",
      "metadata": {
        "id": "Qd3EUUWU4RZH"
      },
      "source": [
        "## **Continuous-variable**\n",
        "Using $S(0.49, 0.2)D(0.395, 0.5)$ as target gate"
      ]
    },
    {
      "cell_type": "code",
      "metadata": {
        "id": "rhUwygIHyCXw"
      },
      "source": [
        "num_wires_cv = 1\n",
        "dev_cv = qml.device(\"strawberryfields.fock\", wires=num_wires_cv, cutoff_dim=20)"
      ],
      "execution_count": 18,
      "outputs": []
    },
    {
      "cell_type": "code",
      "metadata": {
        "id": "rE2AI_k9Nc6t"
      },
      "source": [
        "def problem_cv():\n",
        "    qml.Squeezing(0.49, 0.2, wires=0)\n",
        "    qml.Displacement(0.395, 0.5, wires=0)"
      ],
      "execution_count": 19,
      "outputs": []
    },
    {
      "cell_type": "markdown",
      "metadata": {
        "id": "OJ26U7JkNe9u"
      },
      "source": [
        "Ansatz for estimating target gate"
      ]
    },
    {
      "cell_type": "code",
      "metadata": {
        "id": "G0VyNO2M0XlK"
      },
      "source": [
        "def ansatz_cv(var):\n",
        "    for wire in range(num_wires_cv):\n",
        "      qml.Rotation(var[0+wire], wires=wire)\n",
        "      qml.Squeezing(var[1+wire], 0.0, wires=wire)\n",
        "      qml.Displacement(var[2+wire], 0.0, wires=wire)"
      ],
      "execution_count": 20,
      "outputs": []
    },
    {
      "cell_type": "markdown",
      "metadata": {
        "id": "m8jwLps9NkOn"
      },
      "source": [
        "Objective function <br> \n",
        "1. initial state is  $|0⟩$\n",
        "2. apply target gate $U(r, \\theta)|0⟩$ <br> \n",
        "photon number expectation value $⟨n⟩$\n",
        "3. apply ansatz $A(s, \\alpha)$  and $U(r, \\theta)$<br> \n",
        "photon number expectation value $A(s, \\alpha)U(r, \\theta)|0⟩ = ⟨n'⟩$\n",
        "4. if $⟨n'⟩ = 0$ then  $A(s, \\alpha) = U^\\dagger(r, \\theta)$\n",
        "5. so, we will minimize $⟨n'⟩$ to target $0$ to make $A(s, \\alpha) = U^\\dagger(r, \\theta)$\n"
      ]
    },
    {
      "cell_type": "code",
      "metadata": {
        "id": "-sht3m-iNgiA"
      },
      "source": [
        "@qml.qnode(dev_cv)\n",
        "def cost_function_cv(var):\n",
        "    for v in var:\n",
        "      ansatz_cv(v)\n",
        "\n",
        "    problem_cv()\n",
        "\n",
        "    return qml.expval(qml.NumberOperator(wires=0))"
      ],
      "execution_count": 21,
      "outputs": []
    },
    {
      "cell_type": "markdown",
      "metadata": {
        "id": "UgKEPf-KP5X_"
      },
      "source": [
        "Probability distribution of target gate"
      ]
    },
    {
      "cell_type": "code",
      "metadata": {
        "id": "4qg3hmWyP4f5"
      },
      "source": [
        "@qml.qnode(dev_cv)\n",
        "def target_cv():\n",
        "    problem_cv()\n",
        "\n",
        "    return qml.probs(wires=0) #qml.NumberOperator(wires=0)"
      ],
      "execution_count": 22,
      "outputs": []
    },
    {
      "cell_type": "markdown",
      "metadata": {
        "id": "dobPY6LFQB1z"
      },
      "source": [
        "Probability distribution of estimated gate"
      ]
    },
    {
      "cell_type": "code",
      "metadata": {
        "id": "hcbCfAx_P3cB"
      },
      "source": [
        "@qml.qnode(dev_cv)\n",
        "def prediction_cv(var):\n",
        "    for v in var:\n",
        "      ansatz_cv(v)\n",
        "    \n",
        "    return qml.probs(wires=0)"
      ],
      "execution_count": 23,
      "outputs": []
    },
    {
      "cell_type": "code",
      "metadata": {
        "id": "zSniviDXDHiT"
      },
      "source": [
        "np.random.seed(1)\n",
        "num_layers_cv = 2\n",
        "var_init_cv = 0.05*np.random.randn(num_layers_cv, 3*num_wires_cv)"
      ],
      "execution_count": 24,
      "outputs": []
    },
    {
      "cell_type": "code",
      "metadata": {
        "colab": {
          "base_uri": "https://localhost:8080/"
        },
        "id": "coZur5gPFLYW",
        "outputId": "3ca6294e-3480-492b-9f9d-667cfe5e6679"
      },
      "source": [
        "print(\"Initial cost: \", cost_function_cv(var_init_cv))"
      ],
      "execution_count": 25,
      "outputs": [
        {
          "output_type": "stream",
          "text": [
            "Initial cost:  0.38494228126401864\n"
          ],
          "name": "stdout"
        }
      ]
    },
    {
      "cell_type": "markdown",
      "metadata": {
        "id": "9RBeog4WQJM2"
      },
      "source": [
        "Training with parameter shift rule and gradient descent optimizer"
      ]
    },
    {
      "cell_type": "code",
      "metadata": {
        "colab": {
          "base_uri": "https://localhost:8080/"
        },
        "id": "eYEiS55mCNhU",
        "outputId": "8abc0fee-ca77-481c-e7f2-e23058e5e31f"
      },
      "source": [
        "opt_cv = GradientDescentOptimizer(0.01)\n",
        "\n",
        "s = 0.1\n",
        "alpha = np.pi/2\n",
        "\n",
        "disc = 1\n",
        "check_prev = 3\n",
        "\n",
        "var_cv = var_init_cv.copy()\n",
        "loss_plot_cv = []\n",
        "break_count = 0\n",
        "\n",
        "\n",
        "for it in range(1201):# while True:\n",
        "    var_cv, _cost = opt.step_and_cost(lambda v: cost_function_cv(v), var_cv, \n",
        "                                   grad_fn=lambda var_cv: parameter_shift_cv(cost_function_cv, var_cv)) \n",
        "    \n",
        "    loss_plot_cv.append(_cost)\n",
        "\n",
        "    if it%100==0:\n",
        "      print(\"Iter: {:5d} | Cost: {:0.11f} \".format(it, _cost))"
      ],
      "execution_count": 26,
      "outputs": [
        {
          "output_type": "stream",
          "text": [
            "Iter:     0 | Cost: 0.38494228126 \n",
            "Iter:   100 | Cost: 0.07176909118 \n",
            "Iter:   200 | Cost: 0.05033600473 \n",
            "Iter:   300 | Cost: 0.03014311292 \n",
            "Iter:   400 | Cost: 0.01913000554 \n",
            "Iter:   500 | Cost: 0.01183261605 \n",
            "Iter:   600 | Cost: 0.00480398702 \n",
            "Iter:   700 | Cost: 0.00152150328 \n",
            "Iter:   800 | Cost: 0.00046310143 \n",
            "Iter:   900 | Cost: 0.00014622720 \n",
            "Iter:  1000 | Cost: 0.00004904791 \n",
            "Iter:  1100 | Cost: 0.00001839819 \n",
            "Iter:  1200 | Cost: 0.00000856855 \n"
          ],
          "name": "stdout"
        }
      ]
    },
    {
      "cell_type": "code",
      "metadata": {
        "colab": {
          "base_uri": "https://localhost:8080/"
        },
        "id": "PY3y3KcISHWd",
        "outputId": "8c899434-10ab-47ea-9df3-a79de10ed632"
      },
      "source": [
        "opt_cv = GradientDescentOptimizer(0.01)\n",
        "\n",
        "s = 0.1\n",
        "alpha = np.pi/2\n",
        "\n",
        "disc = 1\n",
        "check_prev = 3\n",
        "\n",
        "var_cv_fd = var_init_cv.copy()\n",
        "loss_plot_cv_fd = []\n",
        "break_count = 0\n",
        "\n",
        "\n",
        "for it in range(1201):# while True:\n",
        "    var_cv_fd, _cost = opt.step_and_cost(lambda v: cost_function_cv(v), var_cv_fd, \n",
        "                                   grad_fn=lambda var_cv_fd: finite_difference_cv(cost_function_cv, var_cv_fd)) \n",
        "    \n",
        "    loss_plot_cv_fd.append(_cost)\n",
        "\n",
        "    if it%100==0:\n",
        "      print(\"Iter: {:5d} | Cost: {:0.11f} \".format(it, _cost))"
      ],
      "execution_count": 27,
      "outputs": [
        {
          "output_type": "stream",
          "text": [
            "Iter:     0 | Cost: 0.38494228126 \n",
            "Iter:   100 | Cost: 0.05206267815 \n",
            "Iter:   200 | Cost: 0.02924122784 \n",
            "Iter:   300 | Cost: 0.02053613049 \n",
            "Iter:   400 | Cost: 0.01528766209 \n",
            "Iter:   500 | Cost: 0.01120077590 \n",
            "Iter:   600 | Cost: 0.00796649800 \n",
            "Iter:   700 | Cost: 0.00548035127 \n",
            "Iter:   800 | Cost: 0.00364205391 \n",
            "Iter:   900 | Cost: 0.00233993052 \n",
            "Iter:  1000 | Cost: 0.00145712365 \n",
            "Iter:  1100 | Cost: 0.00088301248 \n",
            "Iter:  1200 | Cost: 0.00052330178 \n"
          ],
          "name": "stdout"
        }
      ]
    },
    {
      "cell_type": "markdown",
      "metadata": {
        "id": "HYtWFM94L1Ij"
      },
      "source": [
        "# **Loss comparison**"
      ]
    },
    {
      "cell_type": "code",
      "metadata": {
        "colab": {
          "base_uri": "https://localhost:8080/",
          "height": 542
        },
        "id": "hxZiljFSGWWG",
        "cellView": "form",
        "outputId": "19a0c865-6f85-4fb6-c91a-f6cf36141619"
      },
      "source": [
        "#@title \n",
        "dv = pd.DataFrame({\"Iteration\":range(len(loss_plot)), \"Loss\":loss_plot})\n",
        "cv = pd.DataFrame({\"Iteration\":range(len(loss_plot_cv)), \"Loss\":loss_plot_cv})\n",
        "dv_fd = pd.DataFrame({\"Iteration\":range(len(loss_plot_fd)), \"Loss\":loss_plot_fd})\n",
        "cv_fd = pd.DataFrame({\"Iteration\":range(len(loss_plot_cv_fd)), \"Loss\":loss_plot_cv_fd})\n",
        "\n",
        "fig = go.Figure()\n",
        "fig.add_trace(go.Scatter(x=dv[\"Iteration\"], y=dv[\"Loss\"], name=\"Discrete parameter shift\"))\n",
        "fig.add_trace(go.Scatter(x=cv[\"Iteration\"], y=cv[\"Loss\"], mode=\"lines\", name=\"Continuous parameter shift\"))\n",
        "fig.add_trace(go.Scatter(x=dv_fd[\"Iteration\"], y=dv_fd[\"Loss\"], mode=\"lines\", name=\"Discrete finite difference\", line = dict(width=2, dash='dash')))\n",
        "fig.add_trace(go.Scatter(x=cv_fd[\"Iteration\"], y=cv_fd[\"Loss\"], mode=\"lines\", name=\"Continuous finite difference\", line = dict(width=2, dash='dash')))\n",
        "fig.update_layout(title_text='Loss comparison')\n",
        "fig.show()"
      ],
      "execution_count": 41,
      "outputs": [
        {
          "output_type": "display_data",
          "data": {
            "text/html": [
              "<html>\n",
              "<head><meta charset=\"utf-8\" /></head>\n",
              "<body>\n",
              "    <div>\n",
              "            <script src=\"https://cdnjs.cloudflare.com/ajax/libs/mathjax/2.7.5/MathJax.js?config=TeX-AMS-MML_SVG\"></script><script type=\"text/javascript\">if (window.MathJax) {MathJax.Hub.Config({SVG: {font: \"STIX-Web\"}});}</script>\n",
              "                <script type=\"text/javascript\">window.PlotlyConfig = {MathJaxConfig: 'local'};</script>\n",
              "        <script src=\"https://cdn.plot.ly/plotly-latest.min.js\"></script>    \n",
              "            <div id=\"88b066a1-1e88-4a6d-8349-504d56b83a1e\" class=\"plotly-graph-div\" style=\"height:525px; width:100%;\"></div>\n",
              "            <script type=\"text/javascript\">\n",
              "                \n",
              "                    window.PLOTLYENV=window.PLOTLYENV || {};\n",
              "                    \n",
              "                if (document.getElementById(\"88b066a1-1e88-4a6d-8349-504d56b83a1e\")) {\n",
              "                    Plotly.newPlot(\n",
              "                        '88b066a1-1e88-4a6d-8349-504d56b83a1e',\n",
              "                        [{\"name\": \"Discrete parameter shift\", \"type\": \"scatter\", \"x\": [0, 1, 2, 3, 4, 5, 6, 7, 8, 9, 10, 11, 12, 13, 14, 15, 16, 17, 18, 19, 20, 21, 22, 23, 24, 25, 26, 27, 28, 29, 30, 31, 32, 33, 34, 35, 36, 37, 38, 39, 40, 41, 42, 43, 44, 45, 46, 47, 48, 49, 50, 51, 52, 53, 54, 55, 56, 57, 58, 59, 60, 61, 62, 63, 64, 65, 66, 67, 68, 69, 70, 71, 72, 73, 74, 75, 76, 77, 78, 79, 80, 81, 82, 83, 84, 85, 86, 87, 88, 89, 90, 91, 92, 93, 94, 95, 96, 97, 98, 99, 100, 101, 102, 103, 104, 105, 106, 107, 108, 109, 110, 111, 112, 113, 114, 115, 116, 117, 118, 119, 120, 121, 122, 123, 124, 125, 126, 127, 128, 129, 130, 131, 132, 133, 134, 135, 136, 137, 138, 139, 140, 141, 142, 143, 144, 145, 146, 147, 148, 149, 150, 151, 152, 153, 154, 155, 156, 157, 158, 159, 160, 161, 162, 163, 164, 165, 166, 167, 168, 169, 170, 171, 172, 173, 174, 175, 176, 177, 178, 179, 180, 181, 182, 183, 184, 185, 186, 187, 188, 189, 190, 191, 192, 193, 194, 195, 196, 197, 198, 199, 200, 201, 202, 203, 204, 205, 206, 207, 208, 209, 210, 211, 212, 213, 214, 215, 216, 217, 218, 219, 220, 221, 222, 223, 224, 225, 226, 227, 228, 229, 230, 231, 232, 233, 234, 235, 236, 237, 238, 239, 240, 241, 242, 243, 244, 245, 246, 247, 248, 249, 250, 251, 252, 253, 254, 255, 256, 257, 258, 259, 260, 261, 262, 263, 264, 265, 266, 267, 268, 269, 270, 271, 272, 273, 274, 275, 276, 277, 278, 279, 280, 281, 282, 283, 284, 285, 286, 287, 288, 289, 290, 291, 292, 293, 294, 295, 296, 297, 298, 299, 300, 301, 302, 303, 304, 305, 306, 307, 308, 309, 310, 311, 312, 313, 314, 315, 316, 317, 318, 319, 320, 321, 322, 323, 324, 325, 326, 327, 328, 329, 330, 331, 332, 333, 334, 335, 336, 337, 338, 339, 340, 341, 342, 343, 344, 345, 346, 347, 348, 349, 350, 351, 352, 353, 354, 355, 356, 357, 358, 359, 360, 361, 362, 363, 364, 365, 366, 367, 368, 369, 370, 371, 372, 373, 374, 375, 376, 377, 378, 379, 380, 381, 382, 383, 384, 385, 386, 387, 388, 389, 390, 391, 392, 393, 394, 395, 396, 397, 398, 399, 400, 401, 402, 403, 404, 405, 406, 407, 408, 409, 410, 411, 412, 413, 414, 415, 416, 417, 418, 419, 420, 421, 422, 423, 424, 425, 426, 427, 428, 429, 430, 431, 432, 433, 434, 435, 436, 437, 438, 439, 440, 441, 442, 443, 444, 445, 446, 447, 448, 449, 450, 451, 452, 453, 454, 455, 456, 457, 458, 459, 460, 461, 462, 463, 464, 465, 466, 467, 468, 469, 470, 471, 472, 473, 474, 475, 476, 477, 478, 479, 480, 481, 482, 483, 484, 485, 486, 487, 488, 489, 490, 491, 492, 493, 494, 495, 496, 497, 498, 499, 500, 501, 502, 503, 504, 505, 506, 507, 508, 509, 510, 511, 512, 513, 514, 515, 516, 517, 518, 519, 520, 521, 522, 523, 524, 525, 526, 527, 528, 529, 530, 531, 532, 533, 534, 535, 536, 537, 538, 539, 540, 541, 542, 543, 544, 545, 546, 547, 548, 549, 550, 551, 552, 553, 554, 555, 556, 557, 558, 559, 560, 561, 562, 563, 564, 565, 566, 567, 568, 569, 570, 571, 572, 573, 574, 575, 576, 577, 578, 579, 580, 581, 582, 583, 584, 585, 586, 587, 588, 589, 590, 591, 592, 593, 594, 595, 596, 597, 598, 599, 600, 601, 602, 603, 604, 605, 606, 607, 608, 609, 610, 611, 612, 613, 614, 615, 616, 617, 618, 619, 620, 621, 622, 623, 624, 625, 626, 627, 628, 629, 630, 631, 632, 633, 634, 635, 636, 637, 638, 639, 640, 641, 642, 643, 644, 645, 646, 647, 648, 649, 650, 651, 652, 653, 654, 655, 656, 657, 658, 659, 660, 661, 662, 663, 664, 665, 666, 667, 668, 669, 670, 671, 672, 673, 674, 675, 676, 677, 678, 679, 680, 681, 682, 683, 684, 685, 686, 687, 688, 689, 690, 691, 692, 693, 694, 695, 696, 697, 698, 699, 700, 701, 702, 703, 704, 705, 706, 707, 708, 709, 710, 711, 712, 713, 714, 715, 716, 717, 718, 719, 720, 721, 722, 723, 724, 725, 726, 727, 728, 729, 730, 731, 732, 733, 734, 735, 736, 737, 738, 739, 740, 741, 742, 743, 744, 745, 746, 747, 748, 749, 750, 751, 752, 753, 754, 755, 756, 757, 758, 759, 760, 761, 762, 763, 764, 765, 766, 767, 768, 769, 770, 771, 772, 773, 774, 775, 776, 777, 778, 779, 780, 781, 782, 783, 784, 785, 786, 787, 788, 789, 790, 791, 792, 793, 794, 795, 796, 797, 798, 799, 800, 801, 802, 803, 804, 805, 806, 807, 808, 809, 810, 811, 812, 813, 814, 815, 816, 817, 818, 819, 820, 821, 822, 823, 824, 825, 826, 827, 828, 829, 830, 831, 832, 833, 834, 835, 836, 837, 838, 839, 840, 841, 842, 843, 844, 845, 846, 847, 848, 849, 850, 851, 852, 853, 854, 855, 856, 857, 858, 859, 860, 861, 862, 863, 864, 865, 866, 867, 868, 869, 870, 871, 872, 873, 874, 875, 876, 877, 878, 879, 880, 881, 882, 883, 884, 885, 886, 887, 888, 889, 890, 891, 892, 893, 894, 895, 896, 897, 898, 899, 900, 901, 902, 903, 904, 905, 906, 907, 908, 909, 910, 911, 912, 913, 914, 915, 916, 917, 918, 919, 920, 921, 922, 923, 924, 925, 926, 927, 928, 929, 930, 931, 932, 933, 934, 935, 936, 937, 938, 939, 940, 941, 942, 943, 944, 945, 946, 947, 948, 949, 950, 951, 952, 953, 954, 955, 956, 957, 958, 959, 960, 961, 962, 963, 964, 965, 966, 967, 968, 969, 970, 971, 972, 973, 974, 975, 976, 977, 978, 979, 980, 981, 982, 983, 984, 985, 986, 987, 988, 989, 990, 991, 992, 993, 994, 995, 996, 997, 998, 999, 1000, 1001, 1002, 1003, 1004, 1005, 1006, 1007, 1008, 1009, 1010, 1011, 1012, 1013, 1014, 1015, 1016, 1017, 1018, 1019, 1020, 1021, 1022, 1023, 1024, 1025, 1026, 1027, 1028, 1029, 1030, 1031, 1032, 1033, 1034, 1035, 1036, 1037, 1038, 1039, 1040, 1041, 1042, 1043, 1044, 1045, 1046, 1047, 1048, 1049, 1050, 1051, 1052, 1053, 1054, 1055, 1056, 1057, 1058, 1059, 1060, 1061, 1062, 1063, 1064, 1065, 1066, 1067, 1068, 1069, 1070, 1071, 1072, 1073, 1074, 1075, 1076, 1077, 1078, 1079, 1080, 1081, 1082, 1083, 1084, 1085, 1086, 1087, 1088, 1089, 1090, 1091, 1092, 1093, 1094, 1095, 1096, 1097, 1098, 1099, 1100, 1101, 1102, 1103, 1104, 1105, 1106, 1107, 1108, 1109, 1110, 1111, 1112, 1113, 1114, 1115, 1116, 1117, 1118, 1119, 1120, 1121, 1122, 1123, 1124, 1125, 1126, 1127, 1128, 1129, 1130, 1131, 1132, 1133, 1134, 1135, 1136, 1137, 1138, 1139, 1140, 1141, 1142, 1143, 1144, 1145, 1146, 1147, 1148, 1149, 1150, 1151, 1152, 1153, 1154, 1155, 1156, 1157, 1158, 1159, 1160, 1161, 1162, 1163, 1164, 1165, 1166, 1167, 1168, 1169, 1170, 1171, 1172, 1173, 1174, 1175, 1176, 1177, 1178, 1179, 1180, 1181, 1182, 1183, 1184, 1185, 1186, 1187, 1188, 1189, 1190, 1191, 1192, 1193, 1194, 1195, 1196, 1197, 1198, 1199, 1200], \"y\": [0.38420647954293236, 0.37947911086194586, 0.3747745770899185, 0.3700936802444943, 0.36543720443572447, 0.360805915407123, 0.35620056010542656, 0.3516218662793845, 0.347070542107848, 0.34254727585732897, 0.3380527355691508, 0.3335875687762263, 0.32915240224943565, 0.3247478417735113, 0.32037447195225865, 0.31603285604289666, 0.31172353581921974, 0.30744703146324065, 0.3032038414849069, 0.2989944426694278, 0.29481929005171004, 0.2906788169173361, 0.28657343482948466, 0.2825035336811461, 0.27846948177194564, 0.27447162590885404, 0.2705102915300314, 0.2665857828510164, 0.26269838303245185, 0.25884835436851306, 0.2550359384951803, 0.2512613566174882, 0.24752480975485894, 0.24382647900362953, 0.24016652581585943, 0.23654509229351342, 0.23296230149709987, 0.22941825776785538, 0.22591304706255558, 0.222446737300054, 0.21901937871863772, 0.21563100424331927, 0.2122816298621707, 0.20897125501084488, 0.2056998629644227, 0.20246742123575143, 0.1992738819794568, 0.1961191824008284, 0.19300324516879813, 0.18992597883225565, 0.1868872782389676, 0.18388702495638592, 0.18092508769366003, 0.17800132272419392, 0.17511557430810668, 0.17226767511398988, 0.169457446639377, 0.16668469962936727, 0.1639492344928721, 0.1612508417159826, 0.15858930227197698, 0.15596438802752255, 0.1533758621446416, 0.15082347947804822, 0.14830698696748124, 0.14582612402468614, 0.14338062291472478, 0.1409702091313172, 0.13859460176593727, 0.1362535138704188, 0.13394665281283877, 0.13167372062647917, 0.1294344143516765, 0.12722842637040527, 0.12505544473344518, 0.12291515348001446, 0.12080723294976241, 0.1187313600870371, 0.11668720873735587, 0.11467444993603063, 0.1126927521889054, 0.11074178174519099, 0.10882120286238199, 0.10693067806326678, 0.10506986838504716, 0.1032384336205969, 0.10143603255190353, 0.09966232317574332, 0.0979169629216516, 0.0961996088622624, 0.09450991791609374, 0.09284754704286854, 0.09121215343146741, 0.08960339468061235, 0.08802092897239143, 0.08646441523873881, 0.08493351332098618, 0.08342788412261277, 0.08194718975531812, 0.08049109367854959, 0.07905926083262006, 0.07765135776555125, 0.07626705275378186, 0.07490601591688288, 0.07356791932642087, 0.07225243710911443, 0.07095924554442891, 0.06968802315675227, 0.06843845080229936, 0.06721021175089079, 0.0660029917627489, 0.06481647916045846, 0.06365036489623233, 0.0625043426146299, 0.06137810871086421, 0.06027136238484451, 0.05918380569108583, 0.0581151435846303, 0.057065083963110864, 0.05603333770509101, 0.05501961870481565, 0.05402364390349796, 0.0530451333172724, 0.05208381006193831, 0.05113940037461543, 0.050211633632431946, 0.04930024236836359, 0.04840496228433719, 0.04752553226171235, 0.04666169436925097, 0.0458131938686806, 0.04497977921795851, 0.044161202072336515, 0.04335721728332658, 0.04256758289566394, 0.04179206014236185, 0.04103041343794894, 0.04028241036997844, 0.03954782168889562, 0.03882642129634612, 0.03811798623200726, 0.037422296659021054, 0.03673913584810341, 0.036068290160405546, 0.03540954902919669, 0.03476270494043814, 0.03412755341231501, 0.0335038929737899, 0.03289152514223961, 0.03229025440023609, 0.031699888171528585, 0.031120236796281994, 0.030551113505625435, 0.029992334395562502, 0.029443718400291922, 0.02890508726498772, 0.028376265518081454, 0.027857080443094404, 0.02734736205005818, 0.02684694304656554, 0.02635565880849081, 0.02587334735041455, 0.025399849295789995, 0.02493500784688439, 0.024478668754526676, 0.02403068028769341, 0.023590893202962246, 0.023159160713860115, 0.022735338460134175, 0.022319284476969757, 0.02191085916418064, 0.02150992525539329, 0.021116347787248337, 0.020729994068639523, 0.02035073365000889, 0.019978438292718288, 0.01961298193851375, 0.019254240679100035, 0.0189020927258403, 0.01855641837959648, 0.01821710000072364, 0.01788402197923236, 0.01755707070512998, 0.01723613453895383, 0.01692110378250591, 0.016611870649800343, 0.01630832923823157, 0.016010375499973473, 0.0157179072136167, 0.015430823956051498, 0.015149027074604141, 0.014872419659431962, 0.014600906516183574, 0.014334394138930012, 0.014072790683370622, 0.013816005940318893, 0.013563951309472386, 0.013316539773469093, 0.013073685872235005, 0.012835305677624576, 0.012601316768356416, 0.012371638205247195, 0.01214619050674461, 0.011924895624761017, 0.011707676920809111, 0.011494459142440334, 0.011285168399986459, 0.011079732143604658, 0.010878079140626449, 0.010680139453210051, 0.010485844416295374, 0.010295126615862498, 0.010107919867490725, 0.009924159195219271, 0.009743780810707113, 0.009566722092691457, 0.009392921566742828, 0.009222318885315692, 0.009054854808092733, 0.008890471182620487, 0.0087291109252353, 0.008570718002276484, 0.00841523741158557, 0.008262615164288261, 0.008112798266857908, 0.007965734703457055, 0.007821373418555171, 0.007679664299819961, 0.007540558161279135, 0.007404006726750799, 0.0072699626135385, 0.007138379316389575, 0.0070092111917129645, 0.006882413442053669, 0.006757942100821625, 0.0066357540172714375, 0.006515806841729994, 0.006398059011069649, 0.006282469734423249, 0.006168998979138235, 0.006057607456966926, 0.005948256610490132, 0.0058409085997702575, 0.005735526289231763, 0.005632073234765687, 0.005530513671054643, 0.005430812499116158, 0.0053329352740606175, 0.005236848193060999, 0.005142518083531759, 0.005049912391513164, 0.004958999170258562, 0.004869747069021976, 0.004782125322041712, 0.004696103737718977, 0.004611652687986817, 0.004528743097867533, 0.0044473464352155455, 0.004367434700642356, 0.004288980417621387, 0.0042119566227695904, 0.00413633685630301, 0.004062095152663781, 0.003989206031315592, 0.003917644487704975, 0.0038473859843857535, 0.0037784064423042963, 0.003710682232242249, 0.0036441901664150483, 0.0035789074902229045, 0.0035148118741520564, 0.0034518814058240553, 0.0033900945821899015, 0.0033294303018674143, 0.003269867857618741, 0.0032113869289660726, 0.003153967574943041, 0.0030975902269795436, 0.003042235681917472, 0.0029878850951555996, 0.002934519973920861, 0.002882122170664175, 0.002830673876578394, 0.0027801576152367033, 0.0027305562363486363, 0.0026818529096323874, 0.0026340311188009285, 0.0025870746556599295, 0.0025409676143159383, 0.0024956943854920685, 0.002451239650950203, 0.002407588378017011, 0.0023647258142125644, 0.0023226374819791695, 0.0022813091735090414, 0.0022407269456687657, 0.0022008771150189396, 0.002161746252927233, 0.0021233211807731357, 0.002085588965242835, 0.0020485369137124908, 0.0020121525697181088, 0.001976423708511147, 0.0019413383326971094, 0.0019068846679569176, 0.0018730511588483417, 0.001839826464687045, 0.0018071994555050206, 0.0017751592080852438, 0.001743695002071451, 0.00171279631615104, 0.001682452824310329, 0.0016526543921603657, 0.0016233910733323043, 0.0015946531059409304, 0.0015664309091150054, 0.001538715079593241, 0.001511496388384845, 0.001484765777492926, 0.0014585143567004222, 0.0014327334004164036, 0.0014074143445823603, 0.0013825487836370465, 0.0013581284675389, 0.0013341452988446878, 0.0013105913298436759, 0.0012874587597460807, 0.001264739931924751, 0.0012424273312092444, 0.0012205135812312052, 0.0011989914418198571, 0.0011778538064471885, 0.0011570936997214298, 0.0011367042749280331, 0.0011166788116173357, 0.0010970107132380166, 0.0010776935048153753, 0.0010587208306735766, 0.0010400864522012718, 0.001021784245659504, 0.001003808200031041, 0.0009861524149107426, 0.0009688110984357881, 0.0009517785652552093, 0.0009350492345377513, 0.0009186176280177946, 0.0009024783680781446, 0.0008866261758690855, 0.0008710558694632448, 0.000855762362045405, 0.0008407406601365091, 0.000825985861851442, 0.000811493155189709, 0.000797257816358596, 0.0007832752081279766, 0.0007695407782164227, 0.0007560500577077283, 0.0007427986594974617, 0.0007297822767689484, 0.000716996681498044, 0.0007044377229863402, 0.0006921013264218115, 0.0006799834914670662, 0.0006680802908740255, 0.0006563878691248332, 0.0006449024410986306, 0.0006336202907632625, 0.0006225377698919491, 0.000611651296803981, 0.0006009573551293897, 0.0005904524925968217, 0.0005801333198443448, 0.0005699965092526682, 0.0005600387938003826, 0.0005502569659408367, 0.0005406478765001392, 0.0005312084335959615, 0.0005219356015766905, 0.0005128263999806609, 0.0005038779025148679, 0.0004950872360529907, 0.00048645157965229355, 0.000477968163588994, 0.00046963426841174533, 0.0004614472240130385, 0.000453404408717999, 0.0004455032483902466, 0.0004377412155547159, 0.000430115828536835, 0.0004226246506179242, 0.00041526528920641614, 0.00040803539502472664, 0.0004009326613112747, 0.0003939548230374997, 0.00038709965613968, 0.0003803649767649234, 0.0003737486405315538, 0.0003672485418031517, 0.00036086261297626934, 0.00035458882378154154, 0.000348425180597739, 0.00034236972577881164, 0.0003364205369933978, 0.00033057572657675487, 0.0003248334408947759, 0.00031919185971991145, 0.00031364919561873474, 0.00030820369335091857, 0.0003028536292794935, 0.00029759731079208784, 0.00029243307573291217, 0.00028735929184541486, 0.00028237435622528213, 0.00027747669478363077, 0.0002726647617202669, 0.0002679370390066152, 0.0002632920358784353, 0.0002587282883378586, 0.00025424435866476676, 0.0002498388349371918, 0.00024551033056070245, 0.00024125748380643178, 0.0002370789573578474, 0.00023297343786575145, 0.00022893963551170232, 0.0002249762835794182, 0.00022108213803420694, 0.00021725597711019226, 0.00021349660090509714, 0.00020980283098269792, 0.00020617350998247994, 0.00020260750123662024, 0.00019910368839404083, 0.00019566097505138298, 0.00019227828439087873, 0.0001889545588248018, 0.0001856887596466329, 0.0001824798666885571, 0.00017932687798534496, 0.00017622880944440184, 0.00017318469452195267, 0.00017019358390515084, 0.00016725454520009311, 0.00016436666262555321, 0.00016152903671239063, 0.00015874078400845347, 0.00015600103678894977, 0.00015330894277216755, 0.00015066366484036694, 0.0001480643807658475, 0.00014551028294206077, 0.0001430005781196435, 0.00014053448714728344, 0.0001381112447174038, 0.00013573009911646848, 0.00013339031197986972, 0.0001310911580513548, 0.00012883192494681143, 0.00012661191292242873, 0.00012443043464708124, 0.0001222868149788896, 0.00012018039074588861, 0.00011811051053065606, 0.00011607653445899161, 0.00011407783399233144, 0.0001121137917240435, 0.00011018380117943977, 0.0001082872666194112, 0.00010642360284766474, 0.0001045922350215128, 0.00010279259846602346, 0.00010102413849171277, 9.928631021539841e-05, 9.757857838443832e-05, 9.59004172041294e-05, 9.425131016824115e-05, 9.263074989265128e-05, 9.103823795202163e-05, 8.94732847194331e-05, 8.793540920891997e-05, 8.64241389209094e-05, 8.493900969045254e-05, 8.347956553819187e-05, 8.204535852408612e-05, 8.063594860373662e-05, 7.925090348736725e-05, 7.78897985013355e-05, 7.655221645218091e-05, 7.523774749311612e-05, 7.394598899295421e-05, 7.267654540739995e-05, 7.142902815268767e-05, 7.020305548150244e-05, 6.899825236113631e-05, 6.781425035387957e-05, 6.665068749952688e-05, 6.550720820008137e-05, 6.43834631064548e-05, 6.327910900730542e-05, 6.219380871981504e-05, 6.112723098247143e-05, 6.007905034980028e-05, 5.90489470889494e-05, 5.8036607078197755e-05, 5.704172170724599e-05, 5.606398777934541e-05, 5.5103107415155164e-05, 5.415878795835672e-05, 5.3230741882972905e-05, 5.231868670233753e-05, 5.1422344879688017e-05, 5.054144374044372e-05, 4.967571538596086e-05, 4.882489660892056e-05, 4.798872881018781e-05, 4.716695791719584e-05, 4.635933430378026e-05, 4.5565612711454695e-05, 4.4785552172111256e-05, 4.4018915932096455e-05, 4.326547137765944e-05, 4.252498996172856e-05, 4.179724713201042e-05, 4.108202226037073e-05, 4.037909857348726e-05, 3.968826308474139e-05, 3.9009306527334824e-05, 3.8342023288590586e-05, 3.768621134545478e-05, 3.7041672201126006e-05, 3.640821082283231e-05, 3.57856355807343e-05, 3.517375818788589e-05, 3.45723936412978e-05, 3.398136016405307e-05, 3.3400479148436455e-05, 3.282957510009411e-05, 3.226847558320155e-05, 3.1717011166575444e-05, 3.117501537079242e-05, 3.0642324616208916e-05, 3.011877817193549e-05, 2.960421810571363e-05, 2.909848923467907e-05, 2.8601439077012263e-05, 2.811291780444198e-05, 2.7632778195603225e-05, 2.716087559022464e-05, 2.669706784410751e-05, 2.6241215284955144e-05, 2.5793180668936112e-05, 2.5352829138055906e-05, 2.4920028178265546e-05, 2.44946475783284e-05, 2.4076559389400287e-05, 2.366563788536281e-05, 2.3261759523809047e-05, 2.28648029077731e-05, 2.247464874810058e-05, 2.2091179826518154e-05, 2.1714280959328183e-05, 2.1343838961768355e-05, 2.0979742612999787e-05, 2.062188262169992e-05, 2.0270151592298505e-05, 1.9924443991766645e-05, 1.958465611703795e-05, 1.9250686062977066e-05, 1.892243369092783e-05, 1.859980059781524e-05, 1.828269008579368e-05, 1.7971007132433368e-05, 1.7664658361432325e-05, 1.736355201384693e-05, 1.706759791983467e-05, 1.6776707470881903e-05, 1.6490793592547975e-05, 1.620977071766236e-05, 1.5933554760019106e-05, 1.5662063088514946e-05, 1.539521450176056e-05, 1.5132929203127084e-05, 1.4875128776250474e-05, 1.4621736160941093e-05, 1.437267562954026e-05, 1.412787276368637e-05, 1.3887254431491962e-05, 1.3650748765115543e-05, 1.3418285138738029e-05, 1.3189794146925622e-05, 1.2965207583364528e-05, 1.2744458419981122e-05, 1.2527480786426488e-05, 1.231420994991212e-05, 1.2104582295418834e-05, 1.189853530623876e-05, 1.169600754486298e-05, 1.1496938634208254e-05, 1.130126923916561e-05, 1.110894104849415e-05, 1.0919896756998889e-05, 1.0734080048052384e-05, 1.0551435576409986e-05, 1.037190895132076e-05, 1.0195446719957817e-05, 1.0021996351100885e-05, 9.851506219151615e-06, 9.683925588385161e-06, 9.519204597516892e-06, 9.357294244501416e-06, 9.198146371633798e-06, 9.041713650887985e-06, 8.88794956951968e-06, 8.736808415924005e-06, 8.58824526573718e-06, 8.442215968179004e-06, 8.298677132646245e-06, 8.157586115518558e-06, 8.018901007228166e-06, 7.882580619516875e-06, 7.748584472951412e-06, 7.616872784627897e-06, 7.4874064561184205e-06, 7.360147061599036e-06, 7.235056836217197e-06, 7.112098664631884e-06, 6.991236069778925e-06, 6.872433201810363e-06, 6.75565482724944e-06, 6.6408663183140885e-06, 6.528033642447484e-06, 6.4171233520043156e-06, 6.308102574148255e-06, 6.200939000902097e-06, 6.095600879380297e-06, 5.9920570021921895e-06, 5.890276698012502e-06, 5.790229822312986e-06, 5.691886748256812e-06, 5.595218357757639e-06, 5.500196032683513e-06, 5.406791646222015e-06, 5.3149775543957105e-06, 5.224726587717789e-06, 5.1360120430082656e-06, 5.0488076753282285e-06, 4.963087690081324e-06, 4.878826735236502e-06, 4.795999893686526e-06, 4.714582675747782e-06, 4.634551011780326e-06, 4.555881244946459e-06, 4.478550124086137e-06, 4.402534796721587e-06, 4.327812802181362e-06, 4.254362064846685e-06, 4.182160887509694e-06, 4.1111879448523735e-06, 4.041422277038026e-06, 3.9728432834065215e-06, 3.905430716293992e-06, 3.839164674942861e-06, 3.7740255995314518e-06, 3.7099942652972665e-06, 3.647051776767914e-06, 3.585179562092986e-06, 3.5243593674649387e-06, 3.4645732516514296e-06, 3.4058035806102016e-06, 3.348033022200541e-06, 3.2912445409917245e-06, 3.2354213931523846e-06, 3.1805471214380368e-06, 3.1266055502545587e-06, 3.0735807808207375e-06, 3.021457186401386e-06, 2.970219407629768e-06, 2.9198523479122124e-06, 2.8703411689080457e-06, 2.8216712860881662e-06, 2.773828364378566e-06, 2.7267983138623422e-06, 2.680567285576842e-06, 2.6351216673656285e-06, 2.5904480798128342e-06, 2.546533372246459e-06, 2.5033646188033585e-06, 2.4609291145728958e-06, 2.41921437179783e-06, 2.378208116152723e-06, 2.3378982830691665e-06, 2.298273014141454e-06, 2.2593206535847928e-06, 2.2210297447574235e-06, 2.1833890267429008e-06, 2.146387430993208e-06, 2.110014078022116e-06, 2.0742582741652483e-06, 2.0391095083945127e-06, 2.0045574491778756e-06, 1.970591941408689e-06, 1.9372030033710917e-06, 1.9043808237757711e-06, 1.8721157588298537e-06, 1.840398329368566e-06, 1.8092192180315192e-06, 1.7785692664931209e-06, 1.7484394727290943e-06, 1.7188209883428064e-06, 1.689705115932748e-06, 1.6610833065029322e-06, 1.6329471569199257e-06, 1.6052884074155708e-06, 1.5780989391299783e-06, 1.5513707716988914e-06, 1.5250960608792299e-06, 1.4992670962204046e-06, 1.4738762987724648e-06, 1.4489162188326848e-06, 1.4243795337356516e-06, 1.4002590456760906e-06, 1.3765476795726482e-06, 1.3532384809668429e-06, 1.3303246139577383e-06, 1.3077993591755068e-06, 1.2856561117840389e-06, 1.2638883795244616e-06, 1.2424897807862504e-06, 1.221454042716207e-06, 1.20077499935678e-06, 1.1804465898192592e-06, 1.1604628564839608e-06, 1.1408179432378783e-06, 1.1215060937360491e-06, 1.1025216496963143e-06, 1.0838590492239633e-06, 1.0655128251608878e-06, 1.0474776034700384e-06, 1.029748101641087e-06, 1.012319127125981e-06, 9.951855758039644e-07, 9.783424304670349e-07, 9.617847593373446e-07, 9.45507714606387e-07, 9.295065310005117e-07, 9.137765243716798e-07, 8.983130903103544e-07, 8.831117027856558e-07, 8.681679128020808e-07, 8.534773470912262e-07, 8.39035706811864e-07, 8.248387662825891e-07, 8.108823717309986e-07, 7.971624400683602e-07, 7.836749576790057e-07, 7.704159792388879e-07, 7.573816265460874e-07, 7.445680873780622e-07, 7.319716143633516e-07, 7.195885238772594e-07, 7.074151949512368e-07, 6.954480682061979e-07, 6.836836448004446e-07, 6.721184853979084e-07, 6.607492091509922e-07, 6.495724927049458e-07, 6.385850692173816e-07, 6.277837273914946e-07, 6.171653105330657e-07, 6.067267156153164e-07, 5.964648923665825e-07, 5.863768423692692e-07, 5.764596181764063e-07, 5.667103224423442e-07, 5.571261070684669e-07, 5.477041723647476e-07, 5.38441766223207e-07, 5.293361833085078e-07, 5.203847642586888e-07, 5.115848949040265e-07, 5.029340054951093e-07, 4.944295699472282e-07, 4.860691050954046e-07, 4.778501699635012e-07, 4.6977036504661583e-07, 4.6182733160142797e-07, 4.5401875095619686e-07, 4.463423438243879e-07, 4.387958696359356e-07, 4.3137712587804546e-07, 4.2408394744525864e-07, 4.16914206004757e-07, 4.0986580936798456e-07, 4.029367008768488e-07, 3.961248587982039e-07, 3.8942829572927453e-07, 3.828450580127647e-07, 3.7637322516368454e-07, 3.7001090930280356e-07, 3.6375625460366025e-07, 3.5760743674563966e-07, 3.5156266237836287e-07, 3.4562016859453726e-07, 3.397782224116467e-07, 3.3403512026322187e-07, 3.283891874976352e-07, 3.2283877788763506e-07, 3.1738227314442636e-07, 3.1201808244467836e-07, 3.0674464196151565e-07, 3.0156041440646965e-07, 2.9646388857758855e-07, 2.914535789155078e-07, 2.8652802506831897e-07, 2.8168579146153164e-07, 2.7692546687765625e-07, 2.7224566404173423e-07, 2.676450192139232e-07, 2.6312219178993504e-07, 2.586758639074868e-07, 2.54304740058721e-07, 2.500075467121149e-07, 2.457830319366452e-07, 2.416299650363842e-07, 2.3754713618865602e-07, 2.335333560893256e-07, 2.295874556044663e-07, 2.2570828542709347e-07, 2.2189471574010188e-07, 2.1814563588604567e-07, 2.1445995404004088e-07, 2.1083659689130044e-07, 2.0727450932740095e-07, 2.0377265412585578e-07, 2.003300116495571e-07, 1.9694557954800946e-07, 1.936183724645216e-07, 1.9034742174672264e-07, 1.8713177516290134e-07, 1.8397049662339835e-07, 1.8086266590631056e-07, 1.7780737838767522e-07, 1.7480374477689357e-07, 1.718508908562365e-07, 1.6894795722534582e-07, 1.6609409904869579e-07, 1.6328848580857086e-07, 1.6053030106268221e-07, 1.578187422042118e-07, 1.5515302022742361e-07, 1.5253235949694365e-07, 1.4995599752004566e-07, 1.4742318472434138e-07, 1.4493318423777917e-07, 1.4248527167358045e-07, 1.4007873491803973e-07, 1.3771287392245567e-07, 1.3538700049768542e-07, 1.3310043811384816e-07, 1.3085252170178988e-07, 1.2864259745888978e-07, 1.2647002265757626e-07, 1.2433416545765814e-07, 1.2223440472154532e-07, 1.2017012983234655e-07, 1.1814074051559337e-07, 1.1614564666447936e-07, 1.1418426816577573e-07, 1.1225603473171338e-07, 1.1036038573252101e-07, 1.0849677003305392e-07, 1.0666464583138718e-07, 1.0486348050045715e-07, 1.0309275043284187e-07, 1.0135194088745794e-07, 9.964054583940351e-08, 9.795806783194139e-08, 9.630401783094084e-08, 9.467791508281806e-08, 9.307928697330886e-08, 9.15076688900979e-08, 8.996260408620599e-08, 8.844364354817244e-08, 8.695034586309195e-08, 8.548227709103052e-08, 8.403901063793325e-08, 8.262012713104271e-08, 8.12252142967022e-08, 7.985386683955007e-08, 7.850568632451901e-08, 7.718028106074045e-08, 7.587726598666452e-08, 7.459626255845013e-08, 7.333689863869898e-08, 7.209880838854093e-08, 7.088163216035075e-08, 6.968501639308011e-08, 6.850861350915395e-08, 6.735208181329872e-08, 6.62150853917042e-08, 6.509729401566651e-08, 6.399838304432351e-08, 6.29180333298562e-08, 6.185593112498901e-08, 6.081176799100211e-08, 5.978524070817694e-08, 5.877605118669976e-08, 5.778390638077771e-08, 5.6808518202270185e-08, 5.5849603437108106e-08, 5.490688366273894e-08, 5.398008516677293e-08, 5.3068938867504844e-08, 5.217318023500968e-08, 5.1292549214442114e-08, 5.042679015026065e-08, 4.957565171101573e-08, 4.873888681737771e-08, 4.79162525689597e-08, 4.710751017381195e-08, 4.631242487952594e-08, 4.553076590395926e-08, 4.476230636834679e-08, 4.400682323130354e-08, 4.3264097223704224e-08, 4.253391278484872e-08, 4.181605799966843e-08, 4.1110324536758287e-08, 4.041650758840681e-08, 3.973440581003972e-08, 3.906382126221373e-08, 3.840455935255612e-08, 3.775642877965541e-08, 3.7119241476582125e-08, 3.649281255677783e-08, 3.587696025996113e-08, 3.52715058991757e-08, 3.467627380876866e-08, 3.409109129342832e-08, 3.351578857750317e-08, 3.2950198756180006e-08, 3.2394157746259425e-08, 3.184750423902479e-08, 3.131007965245351e-08, 3.078172808614333e-08, 3.026229627495712e-08, 2.9751633544988853e-08, 2.9249591769459846e-08, 2.8756025325741966e-08, 2.8270791052845325e-08, 2.7793748210146204e-08, 2.7324758435673627e-08, 2.6863685706633792e-08, 2.6410396299503594e-08, 2.5964758750836392e-08, 2.5526643819909172e-08, 2.5095924449854123e-08, 2.4672475731698853e-08, 2.4256174867837315e-08, 2.3846901135895345e-08, 2.3444535854150797e-08, 2.3048962346547e-08, 2.266006590909398e-08, 2.2277733776297345e-08, 2.1901855088614734e-08, 2.1532320859880353e-08, 2.116902394590533e-08, 2.0811859013134294e-08, 2.0460722508122913e-08, 2.0115512627338342e-08, 1.9776129287581787e-08, 1.944247409712194e-08, 1.911445032667216e-08, 1.879196288150904e-08, 1.8474918273941842e-08, 1.816322459574184e-08, 1.7856791491975895e-08, 1.7555530134171297e-08, 1.725935319497757e-08, 1.6968174822383805e-08, 1.668191061517362e-08, 1.640047759802281e-08, 1.6123794197346646e-08, 1.585178021835145e-08, 1.558435682060785e-08, 1.5321446495996903e-08, 1.5062973045690187e-08, 1.4808861558284164e-08, 1.4559038388027312e-08, 1.4313431133275802e-08, 1.4071968615470018e-08, 1.3834580858632934e-08, 1.3601199068724363e-08, 1.3371755614046849e-08, 1.3146184005402508e-08, 1.2924418876479273e-08, 1.270639596553253e-08, 1.2492052096062955e-08, 1.228132515895682e-08, 1.207415409397945e-08, 1.1870478872571909e-08, 1.1670240479975891e-08, 1.1473380898183967e-08, 1.1279843089272788e-08, 1.1089570978823572e-08, 1.0902509439275493e-08, 1.0718604274399133e-08, 1.053780220328756e-08, 1.0360050844794829e-08, 1.0185298702633651e-08, 1.0013495150235546e-08, 9.844590415937884e-09, 9.678535568835106e-09, 9.515282504337995e-09, 9.354783930165931e-09, 9.19699335285289e-09, 9.041865064091528e-09, 8.889354127445323e-09, 8.73941636538477e-09, 8.592008346462577e-09, 8.447087372537012e-09, 8.304611466649035e-09, 8.164539360691912e-09, 8.02683048330528e-09, 7.891444948336305e-09, 7.75834354323689e-09, 7.62748771741121e-09, 7.498839571377408e-09, 7.372361845567696e-09, 7.248017909564084e-09, 7.125771751393841e-09, 7.005587967289913e-09, 6.88743175115569e-09, 6.7712688846470435e-09, 6.65706572713778e-09, 6.544789206048185e-09, 6.434406807184895e-09, 6.325886565343502e-09, 6.219197054978789e-09, 6.114307381061101e-09, 6.011187170376194e-09, 5.9098065623168624e-09, 5.810136200497902e-09, 5.7121472241459835e-09, 5.615811259742806e-09, 5.521100412794402e-09, 5.4279872596641016e-09, 5.3364448398096636e-09, 5.246446647765812e-09, 5.157966625464749e-09, 5.070979154964422e-09, 4.9854590504783225e-09, 4.901381551667923e-09, 4.8187223160473634e-09, 4.7374574120900535e-09, 4.657563312232404e-09, 4.579016886104366e-09, 4.5017953937960326e-09, 4.425876479178433e-09, 4.351238163607623e-09, 4.27785883939752e-09, 4.205717263577039e-09, 4.134792551798822e-09, 4.065064172118992e-09, 3.996511939359484e-09, 3.929116008865521e-09, 3.862856871079611e-09, 3.797715345656617e-09, 3.733672576053469e-09, 3.6707100239444866e-09, 3.608809463975379e-09, 3.5479529783162887e-09, 3.488122951666219e-09, 3.429302065959177e-09, 3.371473295429177e-09, 3.3146199017331484e-09, 3.258725428917961e-09, 3.203773698881118e-09, 3.149748806558491e-09, 3.0966351151478643e-09, 3.0444172520023843e-09, 2.9930801037774474e-09, 2.9426088121603194e-09, 2.892988769685074e-09, 2.844205615436941e-09, 2.796245230710499e-09, 2.749093735202599e-09, 2.70273748282227e-09, 2.657163057757286e-09, 2.612357270605019e-09, 2.568307154561407e-09, 2.5249999616144437e-09, 2.482423158918654e-09, 2.440564425095683e-09, 2.399411646671973e-09, 2.358952914640353e-09, 2.319176520949584e-09, 2.2800709550677293e-09, 2.2416249007796044e-09, 2.2038272327762813e-09, 2.1666670134759826e-09, 2.1301334898911703e-09, 2.0942160904520898e-09, 2.058904421999915e-09, 2.0241882667596794e-09, 1.9900575793212185e-09, 1.9565024838239707e-09, 1.9235132710137843e-09, 1.8910803955181247e-09, 1.8591944729410263e-09, 1.8278462773276551e-09, 1.7970267383355973e-09, 1.766726938672816e-09, 1.7369381115206037e-09, 1.7076516379766189e-09, 1.6788590445511328e-09, 1.6505520007429834e-09, 1.6227223166029321e-09, 1.5953619403421963e-09, 1.5684629560600911e-09, 1.5420175813734885e-09, 1.5160181652216204e-09, 1.4904571856656695e-09, 1.4653272476033868e-09, 1.4406210807854165e-09, 1.4163315375469765e-09, 1.3924515908362733e-09, 1.3689743321824626e-09, 1.3458929696528823e-09, 1.3232008259193612e-09, 1.3008913362361723e-09, 1.2789580467081434e-09, 1.2573946122733078e-09, 1.2361947949128578e-09, 1.2153524618719062e-09, 1.19486158381622e-09, 1.1747162331661568e-09, 1.154910582315307e-09, 1.1354389019784994e-09, 1.1162955595730224e-09, 1.097475017453752e-09, 1.0789718314479928e-09, 1.0607806492204444e-09, 1.04289620869735e-09, 1.025313336614824e-09, 1.0080269469506615e-09, 9.910320395050834e-10, 9.74323698410713e-10, 9.578970907228932e-10, 9.417474650308588e-10, 9.258701500774209e-10, 9.102605534141501e-10, 8.949141600315346e-10, 8.798265311111278e-10, 8.649933027253076e-10, 8.50410184498927e-10, 8.360729584885562e-10, 8.219774778726043e-10, 8.081196657916643e-10, 7.944955141340253e-10, 7.811010824217551e-10, 7.679324966467541e-10, 7.549859481235466e-10, 7.422576924253904e-10, 7.297440482627339e-10, 7.174413964890148e-10, 7.053461789900807e-10, 6.934548976079752e-10, 6.81764113268573e-10, 6.702704448738647e-10, 6.589705683450496e-10, 6.478612156778881e-10, 6.369391740153337e-10, 6.262012846247548e-10, 6.156444421461049e-10, 6.052655935203428e-10, 5.9506173719929e-10, 5.850299223033819e-10, 5.751672476713294e-10, 5.65470861099567e-10, 5.559379584865848e-10, 5.465657830331636e-10, 5.373516244240326e-10, 5.282928180485233e-10, 5.193867442841676e-10, 5.106308276312029e-10, 5.02022536066042e-10, 4.935593802512735e-10, 4.852389128570741e-10, 4.770587278068674e-10, 4.690164596017312e-10, 4.611097826681341e-10, 4.533364106127124e-10, 4.4569409564739e-10, 4.3818062786365867e-10, 4.307938346136696e-10, 4.235315799491615e-10, 4.1639176387224356e-10, 4.093723218482991e-10, 4.0247122414375064e-10, 3.9568647525410117e-10]}, {\"mode\": \"lines\", \"name\": \"Continuous parameter shift\", \"type\": \"scatter\", \"x\": [0, 1, 2, 3, 4, 5, 6, 7, 8, 9, 10, 11, 12, 13, 14, 15, 16, 17, 18, 19, 20, 21, 22, 23, 24, 25, 26, 27, 28, 29, 30, 31, 32, 33, 34, 35, 36, 37, 38, 39, 40, 41, 42, 43, 44, 45, 46, 47, 48, 49, 50, 51, 52, 53, 54, 55, 56, 57, 58, 59, 60, 61, 62, 63, 64, 65, 66, 67, 68, 69, 70, 71, 72, 73, 74, 75, 76, 77, 78, 79, 80, 81, 82, 83, 84, 85, 86, 87, 88, 89, 90, 91, 92, 93, 94, 95, 96, 97, 98, 99, 100, 101, 102, 103, 104, 105, 106, 107, 108, 109, 110, 111, 112, 113, 114, 115, 116, 117, 118, 119, 120, 121, 122, 123, 124, 125, 126, 127, 128, 129, 130, 131, 132, 133, 134, 135, 136, 137, 138, 139, 140, 141, 142, 143, 144, 145, 146, 147, 148, 149, 150, 151, 152, 153, 154, 155, 156, 157, 158, 159, 160, 161, 162, 163, 164, 165, 166, 167, 168, 169, 170, 171, 172, 173, 174, 175, 176, 177, 178, 179, 180, 181, 182, 183, 184, 185, 186, 187, 188, 189, 190, 191, 192, 193, 194, 195, 196, 197, 198, 199, 200, 201, 202, 203, 204, 205, 206, 207, 208, 209, 210, 211, 212, 213, 214, 215, 216, 217, 218, 219, 220, 221, 222, 223, 224, 225, 226, 227, 228, 229, 230, 231, 232, 233, 234, 235, 236, 237, 238, 239, 240, 241, 242, 243, 244, 245, 246, 247, 248, 249, 250, 251, 252, 253, 254, 255, 256, 257, 258, 259, 260, 261, 262, 263, 264, 265, 266, 267, 268, 269, 270, 271, 272, 273, 274, 275, 276, 277, 278, 279, 280, 281, 282, 283, 284, 285, 286, 287, 288, 289, 290, 291, 292, 293, 294, 295, 296, 297, 298, 299, 300, 301, 302, 303, 304, 305, 306, 307, 308, 309, 310, 311, 312, 313, 314, 315, 316, 317, 318, 319, 320, 321, 322, 323, 324, 325, 326, 327, 328, 329, 330, 331, 332, 333, 334, 335, 336, 337, 338, 339, 340, 341, 342, 343, 344, 345, 346, 347, 348, 349, 350, 351, 352, 353, 354, 355, 356, 357, 358, 359, 360, 361, 362, 363, 364, 365, 366, 367, 368, 369, 370, 371, 372, 373, 374, 375, 376, 377, 378, 379, 380, 381, 382, 383, 384, 385, 386, 387, 388, 389, 390, 391, 392, 393, 394, 395, 396, 397, 398, 399, 400, 401, 402, 403, 404, 405, 406, 407, 408, 409, 410, 411, 412, 413, 414, 415, 416, 417, 418, 419, 420, 421, 422, 423, 424, 425, 426, 427, 428, 429, 430, 431, 432, 433, 434, 435, 436, 437, 438, 439, 440, 441, 442, 443, 444, 445, 446, 447, 448, 449, 450, 451, 452, 453, 454, 455, 456, 457, 458, 459, 460, 461, 462, 463, 464, 465, 466, 467, 468, 469, 470, 471, 472, 473, 474, 475, 476, 477, 478, 479, 480, 481, 482, 483, 484, 485, 486, 487, 488, 489, 490, 491, 492, 493, 494, 495, 496, 497, 498, 499, 500, 501, 502, 503, 504, 505, 506, 507, 508, 509, 510, 511, 512, 513, 514, 515, 516, 517, 518, 519, 520, 521, 522, 523, 524, 525, 526, 527, 528, 529, 530, 531, 532, 533, 534, 535, 536, 537, 538, 539, 540, 541, 542, 543, 544, 545, 546, 547, 548, 549, 550, 551, 552, 553, 554, 555, 556, 557, 558, 559, 560, 561, 562, 563, 564, 565, 566, 567, 568, 569, 570, 571, 572, 573, 574, 575, 576, 577, 578, 579, 580, 581, 582, 583, 584, 585, 586, 587, 588, 589, 590, 591, 592, 593, 594, 595, 596, 597, 598, 599, 600, 601, 602, 603, 604, 605, 606, 607, 608, 609, 610, 611, 612, 613, 614, 615, 616, 617, 618, 619, 620, 621, 622, 623, 624, 625, 626, 627, 628, 629, 630, 631, 632, 633, 634, 635, 636, 637, 638, 639, 640, 641, 642, 643, 644, 645, 646, 647, 648, 649, 650, 651, 652, 653, 654, 655, 656, 657, 658, 659, 660, 661, 662, 663, 664, 665, 666, 667, 668, 669, 670, 671, 672, 673, 674, 675, 676, 677, 678, 679, 680, 681, 682, 683, 684, 685, 686, 687, 688, 689, 690, 691, 692, 693, 694, 695, 696, 697, 698, 699, 700, 701, 702, 703, 704, 705, 706, 707, 708, 709, 710, 711, 712, 713, 714, 715, 716, 717, 718, 719, 720, 721, 722, 723, 724, 725, 726, 727, 728, 729, 730, 731, 732, 733, 734, 735, 736, 737, 738, 739, 740, 741, 742, 743, 744, 745, 746, 747, 748, 749, 750, 751, 752, 753, 754, 755, 756, 757, 758, 759, 760, 761, 762, 763, 764, 765, 766, 767, 768, 769, 770, 771, 772, 773, 774, 775, 776, 777, 778, 779, 780, 781, 782, 783, 784, 785, 786, 787, 788, 789, 790, 791, 792, 793, 794, 795, 796, 797, 798, 799, 800, 801, 802, 803, 804, 805, 806, 807, 808, 809, 810, 811, 812, 813, 814, 815, 816, 817, 818, 819, 820, 821, 822, 823, 824, 825, 826, 827, 828, 829, 830, 831, 832, 833, 834, 835, 836, 837, 838, 839, 840, 841, 842, 843, 844, 845, 846, 847, 848, 849, 850, 851, 852, 853, 854, 855, 856, 857, 858, 859, 860, 861, 862, 863, 864, 865, 866, 867, 868, 869, 870, 871, 872, 873, 874, 875, 876, 877, 878, 879, 880, 881, 882, 883, 884, 885, 886, 887, 888, 889, 890, 891, 892, 893, 894, 895, 896, 897, 898, 899, 900, 901, 902, 903, 904, 905, 906, 907, 908, 909, 910, 911, 912, 913, 914, 915, 916, 917, 918, 919, 920, 921, 922, 923, 924, 925, 926, 927, 928, 929, 930, 931, 932, 933, 934, 935, 936, 937, 938, 939, 940, 941, 942, 943, 944, 945, 946, 947, 948, 949, 950, 951, 952, 953, 954, 955, 956, 957, 958, 959, 960, 961, 962, 963, 964, 965, 966, 967, 968, 969, 970, 971, 972, 973, 974, 975, 976, 977, 978, 979, 980, 981, 982, 983, 984, 985, 986, 987, 988, 989, 990, 991, 992, 993, 994, 995, 996, 997, 998, 999, 1000, 1001, 1002, 1003, 1004, 1005, 1006, 1007, 1008, 1009, 1010, 1011, 1012, 1013, 1014, 1015, 1016, 1017, 1018, 1019, 1020, 1021, 1022, 1023, 1024, 1025, 1026, 1027, 1028, 1029, 1030, 1031, 1032, 1033, 1034, 1035, 1036, 1037, 1038, 1039, 1040, 1041, 1042, 1043, 1044, 1045, 1046, 1047, 1048, 1049, 1050, 1051, 1052, 1053, 1054, 1055, 1056, 1057, 1058, 1059, 1060, 1061, 1062, 1063, 1064, 1065, 1066, 1067, 1068, 1069, 1070, 1071, 1072, 1073, 1074, 1075, 1076, 1077, 1078, 1079, 1080, 1081, 1082, 1083, 1084, 1085, 1086, 1087, 1088, 1089, 1090, 1091, 1092, 1093, 1094, 1095, 1096, 1097, 1098, 1099, 1100, 1101, 1102, 1103, 1104, 1105, 1106, 1107, 1108, 1109, 1110, 1111, 1112, 1113, 1114, 1115, 1116, 1117, 1118, 1119, 1120, 1121, 1122, 1123, 1124, 1125, 1126, 1127, 1128, 1129, 1130, 1131, 1132, 1133, 1134, 1135, 1136, 1137, 1138, 1139, 1140, 1141, 1142, 1143, 1144, 1145, 1146, 1147, 1148, 1149, 1150, 1151, 1152, 1153, 1154, 1155, 1156, 1157, 1158, 1159, 1160, 1161, 1162, 1163, 1164, 1165, 1166, 1167, 1168, 1169, 1170, 1171, 1172, 1173, 1174, 1175, 1176, 1177, 1178, 1179, 1180, 1181, 1182, 1183, 1184, 1185, 1186, 1187, 1188, 1189, 1190, 1191, 1192, 1193, 1194, 1195, 1196, 1197, 1198, 1199, 1200], \"y\": [0.38494228126401864, 0.3578665937064518, 0.3338197768614565, 0.3123703550930667, 0.2931634872192874, 0.2759046945771117, 0.2603475458461645, 0.24628423301357089, 0.2335382824662135, 0.2219588599967832, 0.211416278376595, 0.20179842155339173, 0.19300787436163608, 0.18495960028627423, 0.17757904868219132, 0.17080060128229688, 0.16456628883088065, 0.15882472434227726, 0.15353021127123717, 0.1486419938265972, 0.1441236235041133, 0.13994242119158234, 0.1360690182981827, 0.1324769635655232, 0.12914238474132395, 0.12604369629545836, 0.12316134595068495, 0.12047759407643198, 0.11797632102184824, 0.11564285829644927, 0.11346384018361298, 0.11142707292537359, 0.10952141907105462, 0.10773669495658217, 0.10606357959110102, 0.10449353348491067, 0.10301872616737412, 0.10163197132312103, 0.10032666862574821, 0.09909675147538564, 0.09793663995400508, 0.09684119840354202, 0.09580569710948318, 0.09482577763877714, 0.09389742143759792, 0.0930169213431236, 0.09218085570535915, 0.09138606485116915, 0.09062962965395484, 0.08990885199954698, 0.08922123696249148, 0.08856447652749695, 0.0879364347088039, 0.08733513393602864, 0.08675874258887446, 0.08620556357532322, 0.08567402385868089, 0.08516266484838031, 0.0846701335778841, 0.08419517460053551, 0.08373662254087141, 0.08329339524487106, 0.08286448747792052, 0.08244896512404626, 0.08204595984422111, 0.08165466415539194, 0.08127432689531525, 0.08090424904139953, 0.08054377985454979, 0.08019231332154417, 0.0798492848717646, 0.079514168346173, 0.07918647319831412, 0.07886574190882854, 0.0785515475965178, 0.07824349181041468, 0.07794120248860155, 0.07764433207069057, 0.07735255575195567, 0.07706556986808161, 0.07678309040038789, 0.07650485159220953, 0.07623060466785755, 0.0759601166462738, 0.07569316924211919, 0.07542955784761202, 0.07516909058896108, 0.0749115874517223, 0.07465687946985508, 0.07440480797366014, 0.07415522389216092, 0.07390798710583112, 0.07366296584589287, 0.073420036136701, 0.07317908127799647, 0.07293999136406155, 0.07270266283703719, 0.07246699807187117, 0.07223290499056295, 0.07200029670354251, 0.0717690911761951, 0.07153921091868393, 0.07131058269737132, 0.07108313726626307, 0.07085680911702052, 0.07063153624619616, 0.07040725993844564, 0.07018392456456848, 0.06996147739330905, 0.06973986841593524, 0.06951905018268068, 0.0692989776502074, 0.06907960803930735, 0.06886090070211862, 0.06864281699818617, 0.06842532017874664, 0.06820837527866125, 0.06799194901546429, 0.06777600969503349, 0.06756052712342257, 0.06734547252443379, 0.06713081846253369, 0.0669165387707499, 0.06670260848320714, 0.06648900377198942, 0.06627570188803605, 0.06606268110580006, 0.06584992067141765, 0.06563740075415495, 0.06542510240091338, 0.06521300749359368, 0.06500109870912947, 0.06478935948201592, 0.06457777396917168, 0.06436632701698229, 0.06415500413038537, 0.06394379144386542, 0.0637326756942378, 0.06352164419510664, 0.06331068481289323, 0.0630997859443335, 0.06288893649535512, 0.06267812586124659, 0.06246734390803953, 0.062256580955029284, 0.06204582775836298, 0.06183507549563178, 0.06162431575140492, 0.061413540503649326, 0.06120274211098116, 0.0609919133007005, 0.060781047157561066, 0.06057013711323262, 0.06035917693641446, 0.06014816072356237, 0.05993708289019196, 0.05972593816272605, 0.05951472157085341, 0.05930342844036973, 0.05909205438647272, 0.05888059530748512, 0.058669047378981015, 0.058457407048291804, 0.058245671029370526, 0.05803383629799391, 0.05782190008728199, 0.0576098598835174, 0.05739771342224794, 0.05718545868465383, 0.05697309389416611, 0.05676061751332166, 0.05654802824083824, 0.05633532500890087, 0.05612250698064231, 0.05590957354780955, 0.05569652432860295, 0.05548335916567804, 0.055270078124299654, 0.055056681490638706, 0.05484316977020287, 0.05462954368639065, 0.054415804179162815, 0.05420195240382125, 0.05398798972988773, 0.053773917740076026, 0.05355973822934984, 0.053345453204059166, 0.0531310648811486, 0.052916575687432715, 0.05270198825892968, 0.052487305440250084, 0.05227253028403292, 0.05205766605042474, 0.05184271620659547, 0.0516276844262871, 0.051412574589388305, 0.05119739078153184, 0.05098213729370901, 0.05076681862189676, 0.050551439466692494, 0.050336004732953105, 0.050120519529432764, 0.04990498916841591, 0.04968941916534105, 0.04947381523841156, 0.04925818330818886, 0.04904252949716481, 0.04882686012930856, 0.04861118172958535, 0.048395501023441985, 0.04817982493625628, 0.04796416059274709, 0.04774851531634002, 0.047532896628487, 0.04731731224793493, 0.047101770089940126, 0.04688627826542631, 0.046670845080081534, 0.046455479033390625, 0.04624018881760159, 0.046024983316620624, 0.0458098716048341, 0.04559486294585349, 0.04537996679118076, 0.045165192778790934, 0.04495055073162845, 0.04473605065601515, 0.04452170273996649, 0.04430751735141285, 0.04409350503632388, 0.04387967651673229, 0.0436660426886555, 0.043452614619910734, 0.04323940354782323, 0.04302642087682279, 0.04281367817592781, 0.042601187176113706, 0.042388959767563544, 0.04217700799679856, 0.04196534406368617, 0.041753980318323954, 0.04154292925779713, 0.04133220352280751, 0.041121815894172666, 0.04091177928919239, 0.04070210675788247, 0.04049281147907289, 0.04028390675636888, 0.04007540601397532, 0.03986732279238051, 0.039659670743901, 0.039452463628084126, 0.03924571530696928, 0.039039439740205725, 0.038833650980027744, 0.038628363166085256, 0.03842359052013113, 0.03821934734056353, 0.03801564799682492, 0.03781250692365625, 0.037609938615208546, 0.037407957619010376, 0.03720657852979383, 0.03700581598317881, 0.03680568464921661, 0.036606199225795014, 0.03640737443190526, 0.0362092250007737, 0.03601176567285877, 0.0358150111887163, 0.035618976281735396, 0.03542367567074677, 0.03522912405250685, 0.0350353360940607, 0.0348423264249863, 0.03465010962952418, 0.0344587002385959, 0.03426811272171512, 0.03407836147879557, 0.03388946083186023, 0.033701425016656066, 0.03351426817417966, 0.033328004342118245, 0.0331426474462118, 0.03295821129154188, 0.03277470955375244, 0.03259215577020955, 0.032410563331104855, 0.03222994547051132, 0.0320503152573963, 0.03187168558659912, 0.03169406916978158, 0.03151747852635739, 0.0313419259744089, 0.031167423621598966, 0.03099398335608569, 0.03082161683744889, 0.030650335487635922, 0.030480150481936617, 0.030311072739994786, 0.03014311291686714, 0.02997628139413663, 0.029810588271091603, 0.029646043355978986, 0.02948265615734121, 0.029320435875447495, 0.029159391393828404, 0.028999531270924035, 0.02884086373185569, 0.028683396660332098, 0.028527137590698356, 0.028372093700140252, 0.028218271801052526, 0.028065678333581753, 0.027914319358355, 0.02776420054940292, 0.027615327187289092, 0.0274677041524552, 0.027321335918791573, 0.02717622654744428, 0.02703237968086817, 0.026889798537135193, 0.026748485904508932, 0.026608444136293485, 0.026469675145967545, 0.026332180402611132, 0.026195960926635942, 0.026061017285826334, 0.025927349591700254, 0.025794957496198544, 0.02566384018870972, 0.025533996393438948, 0.02540542436712777, 0.025278121897131186, 0.02515208629986069, 0.025027314419596332, 0.024903802627677007, 0.024781546822071825, 0.024660542427338943, 0.02454078439497608, 0.02442226720416683, 0.024304984862926263, 0.024188930909649242, 0.024074098415064114, 0.023960479984593767, 0.02384806776112542, 0.02373685342819113, 0.023626828213558795, 0.02351798289323386, 0.0234103077958712, 0.02330379280759633, 0.023198427377233932, 0.023094200521941707, 0.022991100833246302, 0.02288911648347865, 0.02278823523260417, 0.022688444435443274, 0.022589731049277344, 0.022492081641834406, 0.02239548239964799, 0.02229991913678266, 0.022205377303918444, 0.022111841997786645, 0.022019297970948034, 0.021927729641904904, 0.021837121105536914, 0.021747456143851075, 0.021658718237035114, 0.02157089057480327, 0.02148395606802282, 0.02139789736060939, 0.0213126968416792, 0.021228336657944442, 0.021144798726339564, 0.02106206474686409, 0.020980116215628935, 0.020898934438090704, 0.020818500542461, 0.02073879549327435, 0.02065980010510081, 0.02058149505638726, 0.020503860903412184, 0.02042687809433805, 0.020350526983345607, 0.020274787844833848, 0.02019964088766986, 0.020125066269472178, 0.02005104411091164, 0.019977554510013366, 0.01990457755644367, 0.0198320933457661, 0.01976008199365, 0.019688523650015888, 0.01961739851310202, 0.01954668684343594, 0.01947636897769587, 0.019406425342446514, 0.0193368364677342, 0.019267583000526448, 0.01919864571798141, 0.0191300055405333, 0.019061643544779187, 0.018993540976154237, 0.018925679261381938, 0.018858040020686334, 0.018790605079754198, 0.018723356481435027, 0.018656276497167106, 0.018589347638118977, 0.01852255266603551, 0.018455874603778268, 0.018389296745551113, 0.018322802666801603, 0.018256376233789114, 0.018190001612813353, 0.018123663279093608, 0.018057346025293394, 0.01799103496968375, 0.01792471556393884, 0.017858373600559405, 0.0177919952199189, 0.01772556691692839, 0.017659075547316716, 0.017592508333522678, 0.017525852870197398, 0.01745909712931449, 0.0173922294648869, 0.01732523861729003, 0.01725811371719041, 0.017190844289080777, 0.017123420254421914, 0.01705583193439351, 0.016988070052254882, 0.01692012573531871, 0.016851990516540537, 0.01678365633572719, 0.01671511554036832, 0.016646360886094953, 0.016577385536769906, 0.016508183064215327, 0.01643874744758282, 0.016369073072371856, 0.016299154729102903, 0.016228987611652226, 0.01615856731525453, 0.01608788983418148, 0.01601695155910348, 0.015945749274142083, 0.01587428015362205, 0.015802541758530332, 0.01573053203269164, 0.015658249298668565, 0.015585692253395934, 0.01551285996355745, 0.015439751860715573, 0.015366367736202619, 0.015292707735783145, 0.015218772354097581, 0.015144562428896675, 0.015070079135075942, 0.01499532397852131, 0.014920298789774257, 0.014845005717527865, 0.014769447221962653, 0.014693626067932248, 0.014617545318009552, 0.014541208325402163, 0.01446461872674739, 0.014387780434796656, 0.014310697630998657, 0.014233374757990924, 0.014155816512009204, 0.0140780278352238, 0.014000013908012678, 0.0139217801411794, 0.01384333216812557, 0.013764675836986467, 0.013685817202737725, 0.013606762519282731, 0.013527518231527522, 0.013448090967452512, 0.013368487530187887, 0.013288714890101149, 0.013208780176903622, 0.013128690671783304, 0.013048453799571494, 0.012968077120949509, 0.012887568324702121, 0.012806935220024549, 0.012726185728888461, 0.012645327878473396, 0.012564369793669185, 0.012483319689654552, 0.012402185864557675, 0.012320976692202874, 0.012239700614949138, 0.012158366136624153, 0.012076981815558729, 0.011995556257725502, 0.011914098109985465, 0.011832616053446595, 0.011751118796937203, 0.01166961507059796, 0.011588113619594706, 0.011506623197955758, 0.011425152562535314, 0.011343710467105875, 0.011262305656581522, 0.011180946861374394, 0.011099642791885161, 0.011018402133130226, 0.010937233539505983, 0.010856145629691779, 0.010775146981692681, 0.010694246128022196, 0.010613451551026352, 0.010532771678349208, 0.010452214878539888, 0.010371789456801946, 0.01029150365088416, 0.010211365627113443, 0.010131383476569035, 0.010051565211397821, 0.009971918761270201, 0.009892451969975301, 0.009813172592155812, 0.00973408829018036, 0.009655206631153039, 0.009576535084059035, 0.009498081017044501, 0.009419851694830087, 0.00934185427625588, 0.009264095811957371, 0.009186583242169288, 0.009109323394657294, 0.00903232298277456, 0.00895558860364191, 0.00887912673644967, 0.00880294374087911, 0.008727045855641574, 0.008651439197133341, 0.008576129758203904, 0.008501123407035746, 0.008426425886133205, 0.008352042811418584, 0.008277979671432789, 0.008204241826638595, 0.008130834508824274, 0.00805776282060466, 0.007985031735018275, 0.007912646095217316, 0.007840610614248658, 0.007768929874923254, 0.007697608329771703, 0.007626650301083394, 0.007556059981027055, 0.007485841431850536, 0.007415998586156623, 0.007346535247253476, 0.00727745508957689, 0.007208761659181939, 0.007140458374301894, 0.007072548525971917, 0.007005035278715526, 0.006937921671291001, 0.006871210617496154, 0.00680490490702857, 0.006739007206399794, 0.006673520059900405, 0.006608445890614715, 0.006543787001482262, 0.006479545576404459, 0.006415723681393995, 0.006352323265765042, 0.006289346163362487, 0.006226794093827617, 0.00616466866389919, 0.006102971368746982, 0.0060417035933366635, 0.005980866613823946, 0.005920461598975953, 0.005860489611618437, 0.005800951610106784, 0.005741848449819254, 0.0056831808846707485, 0.00562494956864561, 0.005567155057347475, 0.005509797809565232, 0.00545287818885296, 0.0053963964651228815, 0.005340352816249451, 0.005284747329683511, 0.005229580004075066, 0.00517485075090323, 0.0051205593961121485, 0.00506670568175174, 0.00501328926762189, 0.004960309732918896, 0.004907766577883401, 0.0048556592254480335, 0.0048039870228843255, 0.0047527492434477564, 0.0047019450880194, 0.004651573686744012, 0.004601634100663086, 0.004552125323342133, 0.004503046282491318, 0.0044543958415787606, 0.004406172801435475, 0.004358375901851386, 0.004311003823161629, 0.004264055187822368, 0.004217528561975523, 0.004171422457001942, 0.004125735331061919, 0.00408046559062322, 0.004035611591975233, 0.003991171642729601, 0.003947144003305841, 0.003903526888402632, 0.003860318468453186, 0.003817516871065242, 0.0037751201824446044, 0.0037331264488023415, 0.003691533677744948, 0.003650339839647385, 0.0036095428690085815, 0.0035691406657892798, 0.003529131096731665, 0.003489511996660882, 0.0034502811697680307, 0.003411436390874685, 0.003372975406678147, 0.003334895936978218, 0.0032971956758845785, 0.0032598722930050764, 0.0032229234346144537, 0.003186346724803968, 0.0031501397666113106, 0.00311430014313112, 0.0030788254186057715, 0.0030437131394967605, 0.0030089608355363894, 0.0029745660207597655, 0.0029405261945174713, 0.002906838842468347, 0.0028735014375530577, 0.002840511440948085, 0.0028078663030002456, 0.002775563464142045, 0.002743600355787755, 0.002711974401210206, 0.0026806830163988065, 0.0026497236108983836, 0.0026190935886294554, 0.0025887903486895725, 0.002558811286136423, 0.002529153792752227, 0.0024998152577902417, 0.0024707930687028236, 0.0024420846118518615, 0.002413687273201324, 0.002385598438992202, 0.002357815496400198, 0.0023303358341760652, 0.002303156843268998, 0.002276275917433155, 0.0022496904538176657, 0.0022233978535400496, 0.002197395522243535, 0.0021716808706382824, 0.0021462513150269156, 0.0021211042778143652, 0.0020962371880023133, 0.002071647481668636, 0.0020473326024317705, 0.002023290001900389, 0.0019995171401086115, 0.0019760114859370096, 0.0019527705175194053, 0.0019297917226359974, 0.001907072599092848, 0.0018846106550879822, 0.0018624034095644053, 0.0018404483925501336, 0.0018187431454856381, 0.001797285221538757, 0.001776072185907379, 0.0017551016161102084, 0.0017343711022656488, 0.001713878247359154, 0.00169362066749937, 0.0016735959921629746, 0.0016538018644287659, 0.001634235941201107, 0.0016148958934227692, 0.0015957794062777557, 0.0015768841793838955, 0.0015582079269759064, 0.0015397483780785286, 0.0015215032766706536, 0.0015034703818400344, 0.0014856474679290977, 0.0014680323246720093, 0.0014506227573233418, 0.0014334165867780548, 0.0014164116496836895, 0.0013996057985443946, 0.0013829969018172065, 0.0013665828440009137, 0.0013503615257173256, 0.0013343308637855159, 0.0013184887912890849, 0.0013028332576363595, 0.0012873622286142922, 0.0012720736864356005, 0.0012569656297798395, 0.0012420360738281697, 0.0012272830502923293, 0.0012127046074377514, 0.0011982988101010537, 0.001184063739702133, 0.0011699974942509285, 0.0011560981883490583, 0.0011423639531864165, 0.0011287929365331251, 0.0011153833027265161, 0.0011021332326538427, 0.0010890409237304516, 0.0010761045898737675, 0.001063322461473115, 0.0010506927853556273, 0.0010382138247482617, 0.0010258838592361297, 0.0010137011847172288, 0.0010016641133537855, 0.000989770973520104, 0.000978020109747393, 0.0009664098826654294, 0.0009549386689411101, 0.0009436048612144149, 0.0009324068680313211, 0.0009213431137743357, 0.0009104120385902696, 0.0008996120983157606, 0.0008889417644002823, 0.0008783995238271359, 0.0008679838790321102, 0.0008576933478202172, 0.0008475264632804192, 0.0008374817736985756, 0.0008275578424685231, 0.0008177532480015745, 0.0008080665836342838, 0.000798496457534897, 0.0007890414926081717, 0.0007797003263989317, 0.0007704716109943369, 0.0007613540129249413, 0.0007523462130646227, 0.000743446906529395, 0.0007346548025753194, 0.0007259686244953914, 0.0007173871095156182, 0.0007089090086902703, 0.0007005330867964324, 0.0006922581222277957, 0.0006840829068879289, 0.0006760062460828753, 0.0006680269584132887, 0.0006601438756661734, 0.0006523558427060858, 0.0006446617173660428, 0.0006370603703381843, 0.0006295506850640426, 0.0006221315576246721, 0.0006148018966306277, 0.0006075606231117448, 0.0006004066704068513, 0.0005933389840534695, 0.0005863565216774572, 0.0005794582528826846, 0.0005726431591408008, 0.0005659102336810775, 0.0005592584813803121, 0.0005526869186530893, 0.000546194573341964, 0.0005397804846081127, 0.0005334437028221127, 0.0005271832894549735, 0.000520998316969597, 0.000514887868712445, 0.0005088510388056521, 0.0005028869320394665, 0.0004969946637651219, 0.0004911733597881381, 0.00048542215626203424, 0.00047974019958255305, 0.00047412664628237804, 0.00046858066292626414, 0.00046310142600682817, 0.0004576881218407692, 0.0004523399464657058, 0.0004470561055375531, 0.0004418358142284914, 0.0004366782971255498, 0.00043158278812977354, 0.0004265485303560757, 0.00042157477603362546, 0.0004166607864069761, 0.0004118058316378218, 0.00040700919070741623, 0.000402270151319635, 0.0003975880098048014, 0.0003929620710241553, 0.00038839164827503405, 0.0003838760631967327, 0.00037941464567716626, 0.00037500673376013576, 0.000370651673553421, 0.0003663488191375466, 0.0003620975324753236, 0.00035789718332210005, 0.00035374714913676046, 0.0003496468149935298, 0.0003455955734944185, 0.00034159282468253184, 0.0003376379759560806, 0.0003337304419831498, 0.0003298696446172422, 0.000326055012813591, 0.00032228598254619307, 0.00031856199672566725, 0.0003148825051177957, 0.00031124696426294206, 0.0003076548373961034, 0.0003041055943677956, 0.0003005987115657126, 0.0002971336718371104, 0.00029370996441195217, 0.0002903270848268345, 0.000286984534849647, 0.0002836818224050024, 0.0002804184615003982, 0.00027719397215313687, 0.0002740078803180224, 0.00027085971781572036, 0.0002677490222619711, 0.0002646753369974398, 0.0002616382110183489, 0.00025863719890784835, 0.00025567186076808296, 0.0002527417621530155, 0.0002498464740019545, 0.0002469855725737716, 0.0002441586393818949, 0.00024136526112996127, 0.00023860502964818698, 0.00023587754183041612, 0.00023318239957191857, 0.0002305192097078186, 0.00022788758395223707, 0.000225287138838136, 0.00022271749565778707, 0.0002201782804039568, 0.00021766912371173831, 0.00021518966080104348, 0.00021273953141978116, 0.00021031837978762922, 0.0002079258545405077, 0.00020556160867567949, 0.00020322529949745388, 0.00020091658856358034, 0.00019863514163219416, 0.00019638062860947381, 0.00019415272349781603, 0.00019195110434469878, 0.00018977545319209696, 0.00018762545602652667, 0.0001855008027296693, 0.00018340118702959025, 0.0001813263064525195, 0.00017927586227526113, 0.00017724955947809966, 0.00017524710669833735, 0.0001732682161843777, 0.0001713126037503061, 0.0001693799887311192, 0.00016747009393842336, 0.0001655826456166907, 0.00016371737340006382, 0.00016187401026968232, 0.00016005229251151126, 0.0001582519596747187, 0.00015647275453053674, 0.00015471442303164853, 0.00015297671427208514, 0.00015125938044755816, 0.00014956217681637665, 0.0001478848616607809, 0.00014622719624876124, 0.000144588944796384, 0.00014296987443057372, 0.00014136975515232855, 0.0001397883598004542, 0.00013822546401568594, 0.0001366808462053152, 0.00013515428750824382, 0.00013364557176043945, 0.00013215448546089416, 0.0001306808177379535, 0.0001292243603160926, 0.00012778490748311934, 0.00012636225605777227, 0.00012495620535775076, 0.0001235665571681304, 0.00012219311571017797, 0.00012083568761059023, 0.00011949408187109433, 0.00011816810983843461, 0.00011685758517476262, 0.00011556232382838878, 0.00011428214400490436, 0.00011301686613868392, 0.00011176631286473221, 0.00011053030899092065, 0.00010930868147054329, 0.00010810125937525406, 0.00010690787386831502, 0.00010572835817824547, 0.00010456254757272464, 0.00010341027933292322, 0.00010227139272808879, 0.00010114572899047563, 0.00010003313129063975, 9.893344471298537e-05, 9.784651623167797e-05, 9.677219468683272e-05, 9.57103307610274e-05, 9.466077695610811e-05, 9.362338757031171e-05, 9.259801867564154e-05, 9.15845280955902e-05, 9.05827753831009e-05, 8.959262179882902e-05, 8.861393028971083e-05, 8.764656546774379e-05, 8.669039358912616e-05, 8.574528253357406e-05, 8.481110178399032e-05, 8.388772240632228e-05, 8.297501702973623e-05, 8.207285982700951e-05, 8.118112649519794e-05, 8.029969423653202e-05, 7.94284417395921e-05, 7.856724916067975e-05, 7.771599810547442e-05, 7.687457161091184e-05, 7.604285412726006e-05, 7.522073150050088e-05, 7.440809095486111e-05, 7.360482107562391e-05, 7.281081179213054e-05, 7.202595436102451e-05, 7.125014134968303e-05, 7.04832666198922e-05, 6.972522531171709e-05, 6.897591382757438e-05, 6.823522981651868e-05, 6.750307215873574e-05, 6.67793409502252e-05, 6.606393748769042e-05, 6.535676425360469e-05, 6.465772490148774e-05, 6.396672424138062e-05, 6.328366822546652e-05, 6.26084639339273e-05, 6.194101956093856e-05, 6.128124440087847e-05, 6.062904883468519e-05, 5.998434431641468e-05, 5.934704335995525e-05, 5.871705952591795e-05, 5.809430740869804e-05, 5.7478702623684855e-05, 5.687016179466689e-05, 5.626860254137719e-05, 5.567394346719546e-05, 5.5086104147016024e-05, 5.4505005115284045e-05, 5.3930567854150644e-05, 5.33627147818084e-05, 5.28013692409792e-05, 5.224645548751308e-05, 5.1697898679183516e-05, 5.115562486457674e-05, 5.061956097216512e-05, 5.008963479949003e-05, 4.956577500249308e-05, 4.904791108498981e-05, 4.85359733882675e-05, 4.802989308082617e-05, 4.752960214823416e-05, 4.7035033383126646e-05, 4.6546120375340776e-05, 4.6062797502135125e-05, 4.558499991859172e-05, 4.5112663548086036e-05, 4.464572507291686e-05, 4.418412192503918e-05, 4.37277922768993e-05, 4.3276675032426485e-05, 4.283070981809622e-05, 4.23898369741349e-05, 4.1953997545829844e-05, 4.152313327493154e-05, 4.1097186591190113e-05, 4.067610060399019e-05, 4.02598190940769e-05, 3.984828650541182e-05, 3.944144793711258e-05, 3.903924913550078e-05, 3.864163648624558e-05, 3.8248557006617103e-05, 3.785995833783021e-05, 3.747578873747628e-05, 3.709599707207204e-05, 3.6720532809680274e-05, 3.63493460126342e-05, 3.5982387330357256e-05, 3.5619607992254814e-05, 3.5260959800721104e-05, 3.4906395124209055e-05, 3.455586689040928e-05, 3.4209328579490355e-05, 3.386673421744977e-05, 3.3528038369528456e-05, 3.319319613371065e-05, 3.28621631343201e-05, 3.2534895515677e-05, 3.221134993584135e-05, 3.1891483560439625e-05, 3.157525405656413e-05, 3.126261958674526e-05, 3.095353880300101e-05, 3.0647970840966965e-05, 3.034587531409173e-05, 3.004721230790333e-05, 2.975194237435349e-05, 2.946002652622886e-05, 2.9171426231637573e-05, 2.888610340854153e-05, 2.8604020419396665e-05, 2.832514006581398e-05, 2.8049425583327106e-05, 2.777684063619962e-05, 2.750734931229491e-05, 2.7240916118040454e-05, 2.6977505973410494e-05, 2.6717084207001705e-05, 2.6459616551163116e-05, 2.620506913717793e-05, 2.5953408490514838e-05, 2.570460152612845e-05, 2.5458615543827266e-05, 2.521541822369215e-05, 2.4974977621552168e-05, 2.4737262164519176e-05, 2.4502240646572544e-05, 2.4269882224200104e-05, 2.404015641210063e-05, 2.3813033078915486e-05, 2.358848244305111e-05, 2.3366475068507224e-05, 2.3146981860795886e-05, 2.2929974062889904e-05, 2.2715423251217923e-05, 2.2503301331721678e-05, 2.2293580535954512e-05, 2.208623341723192e-05, 2.1881232846814346e-05, 2.167855201015716e-05, 2.1478164403194055e-05, 2.128004382866916e-05, 2.108416439251142e-05, 2.0890500500258837e-05, 2.069902685351347e-05, 2.050971844646164e-05, 2.0322550562409457e-05, 2.0137498770388184e-05, 1.9954538921770653e-05, 1.9773647146961133e-05, 1.959479985209999e-05, 1.9417973715816663e-05, 1.9243145686030404e-05, 1.907029297677113e-05, 1.88993930650615e-05, 1.8730423687819568e-05, 1.856336283880092e-05, 1.8398188765585637e-05, 1.823487996660449e-05, 1.8073415188173275e-05, 1.791377342160509e-05, 1.7755933900326e-05, 1.7599876097034402e-05, 1.7445579720899306e-05, 1.7293024714785962e-05, 1.714219125252119e-05, 1.6993059736183222e-05, 1.6845610793432456e-05, 1.6699825274871354e-05, 1.6555684251430635e-05, 1.641316901179989e-05, 1.6272261059871348e-05, 1.6132942112231253e-05, 1.599519409567308e-05, 1.585899914473783e-05, 1.572433959929098e-05, 1.5591198002121765e-05, 1.545955709657711e-05, 1.5329399824219917e-05, 1.5200709322518718e-05, 1.5073468922559666e-05, 1.494766214678926e-05, 1.4823272706784594e-05, 1.470028450105194e-05, 1.4578681612846624e-05, 1.4458448308018142e-05, 1.4339569032893914e-05, 1.4222028412166073e-05, 1.4105811246824401e-05, 1.3990902512104582e-05, 1.3877287355457704e-05, 1.3764951094553557e-05, 1.365387921529708e-05, 1.35440573698734e-05, 1.3435471374821926e-05, 1.3328107209120188e-05, 1.322195101230222e-05, 1.311698908259256e-05, 1.3013207875067192e-05, 1.2910593999829064e-05, 1.2809134220214731e-05, 1.270881545101446e-05, 1.260962475671767e-05, 1.2511549349774523e-05, 1.2414576588888329e-05, 1.2318693977313776e-05, 1.2223889161185628e-05, 1.2130149927866957e-05, 1.203746420430889e-05, 1.1945820055440054e-05, 1.1855205682562668e-05, 1.1765609421786947e-05, 1.167701974245999e-05, 1.1589425245631158e-05, 1.1502814662528798e-05, 1.1417176853054043e-05, 1.1332500804296458e-05, 1.1248775629060827e-05, 1.1165990564420224e-05, 1.1084134970278407e-05, 1.1003198327947648e-05, 1.0923170238755608e-05, 1.0844040422655444e-05, 1.0765798716855336e-05, 1.068843507446934e-05, 1.0611939563182543e-05, 1.0536302363921978e-05, 1.0461513769561119e-05, 1.038756418362094e-05, 1.0314444119001882e-05, 1.0242144196719196e-05, 1.0170655144657828e-05, 1.0099967796345755e-05, 1.0030073089731745e-05, 9.9609620659874e-06, 9.89262586831828e-06, 9.82505574078948e-06, 9.758243027164657e-06, 9.692179169758851e-06, 9.626855708308606e-06, 9.562264278844805e-06, 9.498396612593282e-06, 9.435244534877102e-06, 9.372799964033876e-06, 9.311054910348908e-06, 9.25000147499839e-06, 9.189631849004973e-06, 9.129938312207513e-06, 9.070913232239016e-06, 9.012549063520898e-06, 8.954838346264496e-06, 8.89777370549008e-06, 8.841347850049408e-06, 8.785553571665242e-06, 8.730383743985935e-06, 8.675831321638587e-06, 8.621889339302374e-06, 8.568550910795302e-06]}, {\"line\": {\"dash\": \"dash\", \"width\": 2}, \"mode\": \"lines\", \"name\": \"Discrete finite difference\", \"type\": \"scatter\", \"x\": [0, 1, 2, 3, 4, 5, 6, 7, 8, 9, 10, 11, 12, 13, 14, 15, 16, 17, 18, 19, 20, 21, 22, 23, 24, 25, 26, 27, 28, 29, 30, 31, 32, 33, 34, 35, 36, 37, 38, 39, 40, 41, 42, 43, 44, 45, 46, 47, 48, 49, 50, 51, 52, 53, 54, 55, 56, 57, 58, 59, 60, 61, 62, 63, 64, 65, 66, 67, 68, 69, 70, 71, 72, 73, 74, 75, 76, 77, 78, 79, 80, 81, 82, 83, 84, 85, 86, 87, 88, 89, 90, 91, 92, 93, 94, 95, 96, 97, 98, 99, 100, 101, 102, 103, 104, 105, 106, 107, 108, 109, 110, 111, 112, 113, 114, 115, 116, 117, 118, 119, 120, 121, 122, 123, 124, 125, 126, 127, 128, 129, 130, 131, 132, 133, 134, 135, 136, 137, 138, 139, 140, 141, 142, 143, 144, 145, 146, 147, 148, 149, 150, 151, 152, 153, 154, 155, 156, 157, 158, 159, 160, 161, 162, 163, 164, 165, 166, 167, 168, 169, 170, 171, 172, 173, 174, 175, 176, 177, 178, 179, 180, 181, 182, 183, 184, 185, 186, 187, 188, 189, 190, 191, 192, 193, 194, 195, 196, 197, 198, 199, 200, 201, 202, 203, 204, 205, 206, 207, 208, 209, 210, 211, 212, 213, 214, 215, 216, 217, 218, 219, 220, 221, 222, 223, 224, 225, 226, 227, 228, 229, 230, 231, 232, 233, 234, 235, 236, 237, 238, 239, 240, 241, 242, 243, 244, 245, 246, 247, 248, 249, 250, 251, 252, 253, 254, 255, 256, 257, 258, 259, 260, 261, 262, 263, 264, 265, 266, 267, 268, 269, 270, 271, 272, 273, 274, 275, 276, 277, 278, 279, 280, 281, 282, 283, 284, 285, 286, 287, 288, 289, 290, 291, 292, 293, 294, 295, 296, 297, 298, 299, 300, 301, 302, 303, 304, 305, 306, 307, 308, 309, 310, 311, 312, 313, 314, 315, 316, 317, 318, 319, 320, 321, 322, 323, 324, 325, 326, 327, 328, 329, 330, 331, 332, 333, 334, 335, 336, 337, 338, 339, 340, 341, 342, 343, 344, 345, 346, 347, 348, 349, 350, 351, 352, 353, 354, 355, 356, 357, 358, 359, 360, 361, 362, 363, 364, 365, 366, 367, 368, 369, 370, 371, 372, 373, 374, 375, 376, 377, 378, 379, 380, 381, 382, 383, 384, 385, 386, 387, 388, 389, 390, 391, 392, 393, 394, 395, 396, 397, 398, 399, 400, 401, 402, 403, 404, 405, 406, 407, 408, 409, 410, 411, 412, 413, 414, 415, 416, 417, 418, 419, 420, 421, 422, 423, 424, 425, 426, 427, 428, 429, 430, 431, 432, 433, 434, 435, 436, 437, 438, 439, 440, 441, 442, 443, 444, 445, 446, 447, 448, 449, 450, 451, 452, 453, 454, 455, 456, 457, 458, 459, 460, 461, 462, 463, 464, 465, 466, 467, 468, 469, 470, 471, 472, 473, 474, 475, 476, 477, 478, 479, 480, 481, 482, 483, 484, 485, 486, 487, 488, 489, 490, 491, 492, 493, 494, 495, 496, 497, 498, 499, 500, 501, 502, 503, 504, 505, 506, 507, 508, 509, 510, 511, 512, 513, 514, 515, 516, 517, 518, 519, 520, 521, 522, 523, 524, 525, 526, 527, 528, 529, 530, 531, 532, 533, 534, 535, 536, 537, 538, 539, 540, 541, 542, 543, 544, 545, 546, 547, 548, 549, 550, 551, 552, 553, 554, 555, 556, 557, 558, 559, 560, 561, 562, 563, 564, 565, 566, 567, 568, 569, 570, 571, 572, 573, 574, 575, 576, 577, 578, 579, 580, 581, 582, 583, 584, 585, 586, 587, 588, 589, 590, 591, 592, 593, 594, 595, 596, 597, 598, 599, 600, 601, 602, 603, 604, 605, 606, 607, 608, 609, 610, 611, 612, 613, 614, 615, 616, 617, 618, 619, 620, 621, 622, 623, 624, 625, 626, 627, 628, 629, 630, 631, 632, 633, 634, 635, 636, 637, 638, 639, 640, 641, 642, 643, 644, 645, 646, 647, 648, 649, 650, 651, 652, 653, 654, 655, 656, 657, 658, 659, 660, 661, 662, 663, 664, 665, 666, 667, 668, 669, 670, 671, 672, 673, 674, 675, 676, 677, 678, 679, 680, 681, 682, 683, 684, 685, 686, 687, 688, 689, 690, 691, 692, 693, 694, 695, 696, 697, 698, 699, 700, 701, 702, 703, 704, 705, 706, 707, 708, 709, 710, 711, 712, 713, 714, 715, 716, 717, 718, 719, 720, 721, 722, 723, 724, 725, 726, 727, 728, 729, 730, 731, 732, 733, 734, 735, 736, 737, 738, 739, 740, 741, 742, 743, 744, 745, 746, 747, 748, 749, 750, 751, 752, 753, 754, 755, 756, 757, 758, 759, 760, 761, 762, 763, 764, 765, 766, 767, 768, 769, 770, 771, 772, 773, 774, 775, 776, 777, 778, 779, 780, 781, 782, 783, 784, 785, 786, 787, 788, 789, 790, 791, 792, 793, 794, 795, 796, 797, 798, 799, 800, 801, 802, 803, 804, 805, 806, 807, 808, 809, 810, 811, 812, 813, 814, 815, 816, 817, 818, 819, 820, 821, 822, 823, 824, 825, 826, 827, 828, 829, 830, 831, 832, 833, 834, 835, 836, 837, 838, 839, 840, 841, 842, 843, 844, 845, 846, 847, 848, 849, 850, 851, 852, 853, 854, 855, 856, 857, 858, 859, 860, 861, 862, 863, 864, 865, 866, 867, 868, 869, 870, 871, 872, 873, 874, 875, 876, 877, 878, 879, 880, 881, 882, 883, 884, 885, 886, 887, 888, 889, 890, 891, 892, 893, 894, 895, 896, 897, 898, 899, 900, 901, 902, 903, 904, 905, 906, 907, 908, 909, 910, 911, 912, 913, 914, 915, 916, 917, 918, 919, 920, 921, 922, 923, 924, 925, 926, 927, 928, 929, 930, 931, 932, 933, 934, 935, 936, 937, 938, 939, 940, 941, 942, 943, 944, 945, 946, 947, 948, 949, 950, 951, 952, 953, 954, 955, 956, 957, 958, 959, 960, 961, 962, 963, 964, 965, 966, 967, 968, 969, 970, 971, 972, 973, 974, 975, 976, 977, 978, 979, 980, 981, 982, 983, 984, 985, 986, 987, 988, 989, 990, 991, 992, 993, 994, 995, 996, 997, 998, 999, 1000, 1001, 1002, 1003, 1004, 1005, 1006, 1007, 1008, 1009, 1010, 1011, 1012, 1013, 1014, 1015, 1016, 1017, 1018, 1019, 1020, 1021, 1022, 1023, 1024, 1025, 1026, 1027, 1028, 1029, 1030, 1031, 1032, 1033, 1034, 1035, 1036, 1037, 1038, 1039, 1040, 1041, 1042, 1043, 1044, 1045, 1046, 1047, 1048, 1049, 1050, 1051, 1052, 1053, 1054, 1055, 1056, 1057, 1058, 1059, 1060, 1061, 1062, 1063, 1064, 1065, 1066, 1067, 1068, 1069, 1070, 1071, 1072, 1073, 1074, 1075, 1076, 1077, 1078, 1079, 1080, 1081, 1082, 1083, 1084, 1085, 1086, 1087, 1088, 1089, 1090, 1091, 1092, 1093, 1094, 1095, 1096, 1097, 1098, 1099, 1100, 1101, 1102, 1103, 1104, 1105, 1106, 1107, 1108, 1109, 1110, 1111, 1112, 1113, 1114, 1115, 1116, 1117, 1118, 1119, 1120, 1121, 1122, 1123, 1124, 1125, 1126, 1127, 1128, 1129, 1130, 1131, 1132, 1133, 1134, 1135, 1136, 1137, 1138, 1139, 1140, 1141, 1142, 1143, 1144, 1145, 1146, 1147, 1148, 1149, 1150, 1151, 1152, 1153, 1154, 1155, 1156, 1157, 1158, 1159, 1160, 1161, 1162, 1163, 1164, 1165, 1166, 1167, 1168, 1169, 1170, 1171, 1172, 1173, 1174, 1175, 1176, 1177, 1178, 1179, 1180, 1181, 1182, 1183, 1184, 1185, 1186, 1187, 1188, 1189, 1190, 1191, 1192, 1193, 1194, 1195, 1196, 1197, 1198, 1199, 1200], \"y\": [0.38420647954293236, 0.37947918955597504, 0.37477473370626957, 0.37009391397167724, 0.3654375144236765, 0.36080630076845066, 0.3562010199166846, 0.35162239958238534, 0.3470711479110021, 0.3425479531370073, 0.3380534832710722, 0.3335883858168633, 0.3291532875174385, 0.32474879413114444, 0.32037549023684914, 0.3160339390682887, 0.31172468237723666, 0.30744824032514884, 0.30320511140287776, 0.29899577237799885, 0.2948206782692392, 0.290680262347449, 0.2865749361625112, 0.2825050895955432, 0.2784710909357072, 0.27447328698090256, 0.2705120031615901, 0.26658754368696214, 0.2627001917126432, 0.2588502095290943, 0.2550378387698618, 0.251263300638795, 0.24752679615535353, 0.2438285064171029, 0.24016859287849207, 0.23654719764500098, 0.23296444378174894, 0.22942043563564204, 0.22591525917015073, 0.2224489823118117, 0.2190216553075492, 0.2156333110919269, 0.21228396566344912, 0.2089736184690424, 0.20570225279586432, 0.20246983616960765, 0.19927632075847138, 0.1961216437820115, 0.19300572792407994, 0.1899284817491054, 0.18688980012097367, 0.18388956462380038, 0.18092764398390837, 0.1780038944923471, 0.17511816042731956, 0.17227027447590648, 0.16946005815449952, 0.16668732222739366, 0.16395186712300153, 0.16125348334718828, 0.15859195189324896, 0.15596704464808028, 0.15337852479411743, 0.15082614720664209, 0.14830965884608877, 0.1458287991449989, 0.14338330038930697, 0.14097288809365413, 0.13859728137046376, 0.13625619329252198, 0.1339493312488399, 0.13167639729359357, 0.12943708848795465, 0.127231097234653, 0.12505811160512575, 0.12291781565913382, 0.12080988975673786, 0.11873401086254864, 0.11668985284218433, 0.11467708675088024, 0.11269538111421515, 0.11074440220093063, 0.10882381428783926, 0.10693327991682157, 0.10507246014393645, 0.10324101478067074, 0.10143860262737163, 0.09966488169891331, 0.09791950944266162, 0.09620214294880489, 0.09451243915313473, 0.0928500550323615, 0.09121464779206138, 0.0896058750473562, 0.08802339499643552, 0.08646686658703118, 0.08493594967596911, 0.08343030518191447, 0.08194959523144368, 0.08049348329857126, 0.07906163433786648, 0.07765371491129543, 0.07626939330893003, 0.07490833966366293, 0.07357022606007232, 0.0722547266375791, 0.07096151768804215, 0.0696902777479366, 0.0684406876852598, 0.06721243078131228, 0.0660051928074963, 0.06481866209727806, 0.06365252961345835, 0.0625064890108914, 0.061380236694797544, 0.06027347187480687, 0.059185896614874424, 0.05811721587920412, 0.05706713757431561, 0.056035372587389616, 0.055021634821021015, 0.0540256412245107, 0.053047111821823124, 0.052085769736333394, 0.05114134121248704, 0.05021355563449337, 0.049302145542168004, 0.048406846644041414, 0.04752739782784497, 0.04666354116848496, 0.04581502193361053, 0.04498158858688224, 0.04416299278904152, 0.043358989396880515, 0.04256933646021027, 0.04179379521691954, 0.04103213008621695, 0.0402841086601446, 0.03954950169344982, 0.03882808309189814, 0.03811962989910907, 0.03742392228199305, 0.03674074351486553, 0.03606987996231222, 0.035411121060876134, 0.03476425929963597, 0.03412909019974196, 0.033505412292973255, 0.03289302709937919, 0.03229173910406385, 0.031701355733172204, 0.03112168732913248, 0.030552547125207996, 0.02999375121941183, 0.029445118547830815, 0.028906470857408672, 0.028377632678233383, 0.02785843129537102, 0.027348696720290742, 0.02684826166191927, 0.02635696149736348, 0.02587463424233914, 0.025401120521340203, 0.02493626353758335, 0.024479909042758322, 0.024031905306617356, 0.02359210308643085, 0.023160355596339034, 0.022736518476625132, 0.022320449762936564, 0.021912009855477012, 0.02151106148819395, 0.021117469697982606, 0.020731101793926572, 0.020351827326596388, 0.01997951805742264, 0.019614047928163136, 0.019255293030478838, 0.01890313157563669, 0.01855744386435116, 0.01821811225678158, 0.01788502114269551, 0.0175580569118126, 0.017237107924339364, 0.016922064481705877, 0.016612818797514816, 0.016309264968711535, 0.016011298946984814, 0.01571881851040559, 0.015431723235311697, 0.015149914468445675, 0.014873295299351129, 0.014601770533034719, 0.014335246662898482, 0.014073631843947002, 0.013816835866274758, 0.013564770128837183, 0.013317347613508342, 0.013074482859429627, 0.01283609193765124, 0.01260209242606938, 0.012372403384660976, 0.012146945331017593, 0.01192564021618036, 0.01170841140077636, 0.011495183631458199, 0.011285883017646221, 0.011080437008574969, 0.010878774370642382, 0.01068082516506336, 0.010486520725825491, 0.010295793637948051, 0.010108577716042214, 0.00992480798317203, 0.009744420650015373, 0.009567353094322611, 0.009393543840672714, 0.009222932540524384, 0.009055459952560761, 0.008891067923325996, 0.008729699368151099, 0.008571298252368485, 0.008415809572810911, 0.008263179339594556, 0.008113354558182484, 0.007966283211726948, 0.007821914243687417, 0.00768019754072227, 0.0075410839158511715, 0.007404525091885347, 0.007270473685123668, 0.007138883189310799, 0.007009707959855511, 0.0068829031983056515, 0.006758424937076935, 0.006636230024433314, 0.006516276109714604, 0.006398521628810226, 0.006282925789874067, 0.006169448559279212, 0.006058050647808385, 0.005948693497077341, 0.005841339266188829, 0.00573595081861289, 0.005632491709291434, 0.00553092617196365, 0.0054312191067094244, 0.005333336067707523, 0.005237243251205269, 0.005142907483697736, 0.005050296210312104, 0.004959377483395238, 0.004870119951300967, 0.00478249284737439, 0.0046964659791300396, 0.004612009717621295, 0.004529094986997637, 0.004447693254247775, 0.0043677765191244755, 0.004289317304249651, 0.004212288645395872, 0.004136664081942252, 0.004062417647501055, 0.003989523860713619, 0.0039179577162113104, 0.0038476946757405243, 0.0037787106594473585, 0.0037109820373208164, 0.0036444856207910703, 0.0035791986544806468, 0.003515098808105589, 0.003452164168524778, 0.003390373231934053, 0.0033297048962036275, 0.003270138453355517, 0.0032116535821793343, 0.00315423034098364, 0.0030978491604807252, 0.0030424908368023827, 0.002988136524644769, 0.0029347677305396223, 0.0028823663062500365, 0.0028309144422885794, 0.0027803946615553316, 0.0027307898130942425, 0.0026820830659651657, 0.0026342579032299835, 0.0025872981160505962, 0.002541187797896888, 0.002495911338862549, 0.0024514534200872004, 0.002407799008282337, 0.002364933350359861, 0.0023228419681609516, 0.002281510653283645, 0.002240925462007367, 0.0022010727103122857, 0.002161938968992559, 0.00212351105886097, 0.002085776046043639, 0.00204872123736341, 0.002012334175809645, 0.00197660263609361, 0.001941514620287309, 0.0019070583535444417, 0.0018732222799022573, 0.0018399950581620367, 0.001807365557847788, 0.0017753228552407428, 0.0017438562294891597, 0.001712955158791068, 0.0016826093166495434, 0.0016528085681983815, 0.0016235429665975769, 0.001594802749496563, 0.001566578335564729, 0.0015388603210871902, 0.0015116394766252629, 0.0014849067437400327, 0.0014586532317779257, 0.0014328702147171, 0.0014075491280737516, 0.0013826815658668145, 0.0013582592776402516, 0.0013342741655417937, 0.0013107182814569545, 0.0012875838241974775, 0.0012648631367429746, 0.001242548703534869, 0.001220633147821705, 0.0011991092290547537, 0.0011779698403330064, 0.0011572080058965652, 0.0011368168786676772, 0.0011167897378383008, 0.0010971199865034585, 0.001077801149339525, 0.001058826870326421, 0.001040190910513145, 0.0010218871458255753, 0.0010039095649158891, 0.0009862522670528377, 0.0009689094600517931, 0.0009518754582443167, 0.0009351446804860884, 0.0009187116482025645, 0.00090257098347183, 0.0008867174071436392, 0.000871145736994148, 0.0008558508859157042, 0.0008408278601408208, 0.0008260717574998746, 0.0008115777657118083, 0.000797341160707108, 0.0007833573049827835, 0.0007696216459881773, 0.0007561297145415837, 0.0007428771232767775, 0.0007298595651188726, 0.0007170728117891282, 0.0007045127123379557, 0.000692175191705782, 0.0006800562493109977, 0.0006681519576647245, 0.0006564584610116957, 0.0006449719739969022, 0.0006336887803573273, 0.0006226052316385455, 0.0006117177459354073, 0.0006010228066566178, 0.0005905169613126195, 0.0005801968203263103, 0.000570059055866265, 0.0005601004007019487, 0.000550317647080479, 0.0005407076456246777, 0.0005312673042517606, 0.0005219935871125317, 0.0005128835135504967, 0.0005039341570805796, 0.0004951426443871377, 0.00048650615434076195, 0.0004780219170336324, 0.0004696872128330427, 0.0004614993714526328, 0.00045345577104122616, 0.00044555383728869113, 0.00043779104254865377, 0.00043016490497766504, 0.0004226729876905894, 0.00041531289793179287, 0.0004080822862619491, 0.0004009788457600445, 0.00039400031124039076, 0.00038714445848434556, 0.00038040910348637605, 0.00037379210171428203, 0.0003672913473833322, 0.00036090477274387903, 0.00035463034738245785, 0.0003484660775358096, 0.0003424100054178881, 0.0003364602085593745, 0.0003306147991595163, 0.0003248719234502177, 0.000319229761071814, 0.0003136865244606835, 0.0003082404582482212, 0.00030288983867097786, 0.00029763297299196644, 0.000292468198932568, 0.00028739388411517874, 0.00028240842551620354, 0.00027751024892919666, 0.00027269780843808934, 0.0002679695859001135, 0.0002633240904385163, 0.00025875985794455314, 0.00025427545058879977, 0.00024986945634161494, 0.00024554048850240447, 0.0002412871852377511, 0.00023710820912805163, 0.00023300224672254366, 0.00022896800810269876, 0.0002250042264536133, 0.00022110965764342232, 0.00021728307981045382, 0.00021352329295808782, 0.0002098291185570901, 0.0002061993991552995, 0.0002026329979946281, 0.00019912879863499887, 0.00019568570458538498, 0.00019230263894161345, 0.00018897854403084817, 0.00018571238106267706, 0.000182503129786642, 0.00017934978815604784, 0.00017625137199807033, 0.00017320691468985367, 0.00017021546684064902, 0.00016727609597977697, 0.00016438788625037368, 0.0001615499381087587, 0.00015876136802934506, 0.0001560213082149987, 0.0001533289063127005, 0.00015068332513446352, 0.00014808374238338092, 0.00014552935038471826, 0.00014301935582190355, 0.00014055297947744897, 0.00013812945597852422, 0.0001357480335473554, 0.00013340797375600272, 0.00013110855128583898, 0.0001288490536912837, 0.000126628781167971, 0.00012444704632511288, 0.0001223031739620508, 0.00012019650084888951, 0.00011812637551117093, 0.00011609215801846143, 0.00011409321977681724, 0.00011212894332504367, 0.00011019872213468925, 0.0001083019604136823, 0.00010643807291354978, 0.00010460648474018496, 0.00010280663116802344, 0.0001010379574576775, 9.929991867680637e-05, 9.759197952433954e-05, 9.591361415785705e-05, 9.426430602411722e-05, 9.264354769269962e-05, 9.105084069264442e-05, 8.948569535207705e-05, 8.794763064075888e-05, 8.643617401549673e-05, 8.495086126836399e-05, 8.349123637767028e-05, 8.205685136166984e-05, 8.064726613487019e-05, 7.926204836701416e-05, 7.790077334459292e-05, 7.656302383485757e-05, 7.524838995232332e-05, 7.395646902767717e-05, 7.268686547906845e-05, 7.143919068573213e-05, 7.021306286390873e-05, 6.900810694498259e-05, 6.782395445587408e-05, 6.666024340153981e-05, 6.55166181496439e-05, 6.439272931730153e-05, 6.328823365984222e-05, 6.220279396164916e-05, 6.113607892888305e-05, 6.0087763084218924e-05, 5.905752666344543e-05, 5.804505551393289e-05, 5.7050040994952615e-05, 5.607217987976195e-05, 5.511117425948801e-05, 5.4166731448716174e-05, 5.323856389280683e-05, 5.23263890768416e-05, 5.142992943627292e-05, 5.054891226910443e-05, 4.968306964970862e-05, 4.883213834418419e-05, 4.799585972720714e-05, 4.717397970041068e-05, 4.6366248612222114e-05, 4.5572421179123794e-05, 4.479225640835588e-05, 4.402551752196889e-05, 4.327197188229416e-05, 4.253139091869081e-05, 4.1803550055651214e-05, 4.108822864217547e-05, 4.0385209882419875e-05, 3.969428076757576e-05, 3.901523200898656e-05, 3.8347857972454825e-05, 3.7691956613719034e-05, 3.704732941508963e-05, 3.6413781323227456e-05, 3.579112068801857e-05, 3.517915920255676e-05, 3.457771184419205e-05, 3.3986596816637556e-05, 3.340563549309916e-05, 3.2834652360439713e-05, 3.2273474964315525e-05, 3.17219338553177e-05, 3.117986253606107e-05, 3.06470974092161e-05, 3.0123477726468172e-05, 2.9608845538395913e-05, 2.91030456452349e-05, 2.8605925548512572e-05, 2.8117335403558102e-05, 2.763712797285276e-05, 2.716515858020871e-05, 2.670128506576994e-05, 2.6245367741790517e-05, 2.5797269349239622e-05, 2.5356855015144334e-05, 2.492399221070491e-05, 2.449855071015653e-05, 2.4080402550348676e-05, 2.3669421991057796e-05, 2.3265485476005494e-05, 2.2868471594543227e-05, 2.24782610440535e-05, 2.2094736592990987e-05, 2.171778304459653e-05, 2.1347287201241245e-05, 2.0983137829398762e-05, 2.0625225625276685e-05, 2.0273443180993383e-05, 1.9927684951416102e-05, 1.95878472215491e-05, 1.9253828074506873e-05, 1.8925527360061387e-05, 1.860284666373913e-05, 1.8285689276467658e-05, 1.797396016475968e-05, 1.7667565941422942e-05, 1.736641483679033e-05, 1.7070416670449535e-05, 1.677948282348637e-05, 1.649352621121116e-05, 1.6212461256358934e-05, 1.593620386278179e-05, 1.5664671389585855e-05, 1.539778262573953e-05, 1.5135457765116693e-05, 1.4877618381996295e-05, 1.462418740697392e-05, 1.4375089103320192e-05, 1.413024904373502e-05, 1.3889594087527252e-05, 1.3653052358189471e-05, 1.3420553221362187e-05, 1.31920272632018e-05, 1.2967406269112114e-05, 1.2746623202862802e-05, 1.2529612186071525e-05, 1.2316308478038815e-05, 1.2106648455952072e-05, 1.1900569595425388e-05, 1.1698010451395234e-05, 1.1498910639329701e-05, 1.1303210816794147e-05, 1.1110852665320154e-05, 1.0921778872602742e-05, 1.0735933115012058e-05, 1.0553260040402796e-05, 1.0373705251236473e-05, 1.0197215287985428e-05, 1.002373761284603e-05, 9.853220593728992e-06, 9.685613488518532e-06, 9.520866429632534e-06, 9.35893040882924e-06, 9.199757262295879e-06, 9.043299655995068e-06, 8.88951107125977e-06, 8.738345790654065e-06, 8.589758884066021e-06, 8.44370619506342e-06, 8.300144327467963e-06, 8.159030632179196e-06, 8.020323194218793e-06, 7.883980820009555e-06, 7.749963024879439e-06, 7.61823002076219e-06, 7.488742704143265e-06, 7.3614626441995425e-06, 7.236352071141933e-06, 7.113373864779169e-06, 6.9924915432609665e-06, 6.8736692520346765e-06, 6.756871752985215e-06, 6.642064413763889e-06, 6.5292131973118636e-06, 6.418284651560203e-06, 6.309245899308839e-06, 6.2020646282817286e-06, 6.096709081365067e-06, 5.993148047003807e-06, 5.891350849765927e-06, 5.791287341084169e-06, 5.692927890142614e-06, 5.596243374935784e-06, 5.501205173471941e-06, 5.40778515513965e-06, 5.31595567221676e-06, 5.225689551533284e-06, 5.136960086275417e-06, 5.04974102793301e-06, 4.964006578388832e-06, 4.879731382142969e-06, 4.796890518676497e-06, 4.715459494942073e-06, 4.635414237990969e-06, 4.5567310877228195e-06, 4.479386789768752e-06, 4.403358488487877e-06, 4.328623720094646e-06, 4.255160405903601e-06, 4.182946845689495e-06, 4.111961711157571e-06, 4.042184039542968e-06, 3.973593227303933e-06, 3.9061690239346525e-06, 3.839891525882978e-06, 3.7747411705705543e-06, 3.7106987305245617e-06, 3.6477453076015035e-06, 3.58586232731937e-06, 3.525031533284102e-06, 3.4652349817097887e-06, 3.406455036043544e-06, 3.3486743616718253e-06, 3.2918759207271753e-06, 3.2360429669809864e-06, 3.1811590408262186e-06, 3.127207964344037e-06, 3.0741738364623132e-06, 3.0220410281898758e-06, 2.9707941779398186e-06, 2.920418186931811e-06, 2.87089821466951e-06, 2.8222196745061592e-06, 2.774368229274752e-06, 2.727329787006609e-06, 2.6810904967112602e-06, 2.6356367442389163e-06, 2.590955148209924e-06, 2.547032556018082e-06, 2.503856039896008e-06, 2.4614128930579425e-06, 2.4196906259015375e-06, 2.3786769622822926e-06, 2.338359835839622e-06, 2.298727386407658e-06, 2.2597679564629448e-06, 2.2214700876558316e-06, 2.1838225173865316e-06, 2.1468141754470485e-06, 2.1104341807202648e-06, 2.0746718379353794e-06, 2.039516634479419e-06, 2.0049582372642157e-06, 1.9709864896456838e-06, 1.9375914083984647e-06, 1.9047631807442188e-06, 1.8724921614250919e-06, 1.8407688698329793e-06, 1.8095839871885354e-06, 1.778928353764001e-06, 1.748792966158972e-06, 1.7191689746213254e-06, 1.6900476804117146e-06, 1.6614205332195051e-06, 1.6332791286160653e-06, 1.6056152055580504e-06, 1.5784206439303113e-06, 1.5516874621299458e-06, 1.52540781469886e-06, 1.4995739899851677e-06, 1.4741784078594652e-06, 1.4492136174566505e-06, 1.4246722949664137e-06, 1.4005472414561524e-06, 1.3768313807347039e-06, 1.3535177572505777e-06, 1.3305995340270723e-06, 1.3080699906343629e-06, 1.285922521193987e-06, 1.264150632418574e-06, 1.2427479416863975e-06, 1.2217081751484404e-06, 1.2010251658661017e-06, 1.1806928519840647e-06, 1.1607052749342393e-06, 1.1410565776656403e-06, 1.1217410029117559e-06, 1.102752891481109e-06, 1.0840866805872434e-06, 1.0657369021919318e-06, 1.0476981813898778e-06, 1.0299652348190988e-06, 1.012532869090622e-06, 9.95395979256371e-07, 9.785495472943358e-07, 9.619886406232637e-07, 9.457084106468651e-07, 9.297040913122408e-07, 9.13970997706339e-07, 8.985045246662551e-07, 8.833001454174143e-07, 8.683534102356986e-07, 8.536599451312966e-07, 8.392154505545103e-07, 8.250157001270789e-07, 8.110565393897841e-07, 7.97333884575591e-07, 7.838437214054596e-07, 7.705821038979711e-07, 7.575451532063213e-07, 7.447290564714784e-07, 7.32130065697627e-07, 7.19744496642065e-07, 7.075687277305377e-07, 6.955991989864179e-07, 6.838324109788595e-07, 6.722649237932212e-07, 6.608933560116726e-07, 6.497143837180985e-07, 6.387247395165551e-07, 6.279212115673592e-07, 6.173006426386451e-07, 6.068599291772266e-07, 5.965960203912584e-07, 5.865059173515366e-07, 5.765866721073815e-07, 5.668353868173414e-07, 5.572492128948009e-07, 5.478253501690055e-07, 5.385610460587295e-07, 5.294535947620419e-07, 5.2050033645838e-07, 5.116986565265119e-07, 5.030459847721189e-07, 4.945397946722279e-07, 4.861776026312107e-07, 4.779569672482814e-07, 4.698754885995737e-07, 4.619308075314319e-07, 4.541206049666549e-07, 4.464426012195001e-07, 4.388945553273377e-07, 4.3147426439039843e-07, 4.2417956292306154e-07, 4.1700832221721477e-07, 4.0995844971537193e-07, 4.030278883956126e-07, 3.9621461616773723e-07, 3.8951664527597616e-07, 3.829320217172683e-07, 3.764588246640198e-07, 3.7009516590167954e-07, 3.638391892723359e-07, 3.576890701297952e-07, 3.5164301480282303e-07, 3.4569926006792844e-07, 3.3985607263179856e-07, 3.341117486220385e-07, 3.2846461308550165e-07, 3.2291301949787614e-07, 3.174553492786035e-07, 3.120900113163836e-07, 3.0681544150074414e-07, 3.0163010226502516e-07, 2.9653248213256174e-07, 2.915210952736405e-07, 2.8659448107007025e-07, 2.8175120368554687e-07, 2.7698985164494474e-07, 2.723090374185631e-07, 2.6770739701732176e-07, 2.6318358959073714e-07, 2.587362970335469e-07, 2.5436422360008883e-07, 2.500660955235045e-07, 2.4584066064145725e-07, 2.416866880304569e-07, 2.376029676441015e-07, 2.3358830995686604e-07, 2.296415456179804e-07, 2.2576152510638867e-07, 2.219471183946319e-07, 2.1819721461782502e-07, 2.1451072174702062e-07, 2.1088656627048966e-07, 2.0732369287780518e-07, 2.0382106415194308e-07, 2.003776602638381e-07, 1.9699247867447636e-07, 1.9366453384140712e-07, 1.9039285692890094e-07, 1.871764955253421e-07, 1.840145133639219e-07, 1.8090599004761575e-07, 1.7785002078113057e-07, 1.7484571610458396e-07, 1.7189220163349917e-07, 1.6898861780356363e-07, 1.661341196175973e-07, 1.6332787639922224e-07, 1.6056907154987585e-07, 1.5785690230816898e-07, 1.551905795170209e-07, 1.525693273915927e-07, 1.49992383292265e-07, 1.4745899750199547e-07, 1.4496843300624744e-07, 1.4251996527774318e-07, 1.4011288206505054e-07, 1.3774648318325248e-07, 1.35420080309769e-07, 1.3313299678251772e-07, 1.3088456740318352e-07, 1.286741382409184e-07, 1.2650106644279481e-07, 1.2436472004493717e-07, 1.2226447778720243e-07, 1.2019972893400766e-07, 1.1816987309215653e-07, 1.1617432003838117e-07, 1.1421248954545693e-07, 1.1228381121286711e-07, 1.1038772429995073e-07, 1.0852367756224151e-07, 1.066911290903033e-07, 1.0488954615182972e-07, 1.0311840503478731e-07, 1.0137719089575011e-07, 9.966539760854751e-08, 9.798252761734804e-08, 9.632809179041672e-08, 9.470160927740794e-08, 9.310260736953861e-08, 9.153062136119073e-08, 8.998519441343024e-08, 8.846587742216801e-08, 8.697222888589928e-08, 8.5503814776643e-08, 8.40602084144797e-08, 8.26409903413214e-08, 8.12457481999917e-08, 7.98740766130276e-08, 7.852557706405272e-08, 7.719985778263408e-08, 7.589653362868777e-08, 7.461522598091629e-08, 7.335556262606772e-08, 7.211717764996618e-08, 7.089971133153555e-08, 6.970281003711725e-08, 6.852612611778858e-08, 6.73693178074108e-08, 6.623204912358139e-08, 6.511398976910119e-08, 6.40148150358552e-08, 6.293420571026266e-08, 6.187184797982602e-08, 6.08274333419127e-08, 5.980065851358866e-08, 5.879122534332669e-08, 5.779884072380961e-08, 5.6823216507258453e-08, 5.586406942014076e-08, 5.492112098164319e-08, 5.399409742229247e-08, 5.308272960356445e-08, 5.2186752940179675e-08, 5.130590732252865e-08, 5.043993704109463e-08, 4.958859071180293e-08, 4.875162120286443e-08, 4.792878556238499e-08, 4.711984494806977e-08, 4.632456455772643e-08, 4.554271356008742e-08, 4.477406502828354e-08, 4.401839587348728e-08, 4.327548677965601e-08, 4.254512213999813e-08, 4.182708999444389e-08, 4.1121181967013744e-08, 4.0427193205843155e-08, 3.974492232333036e-08, 3.90741713373931e-08, 3.8414745614055786e-08, 3.7766453810345394e-08, 3.7129107819092704e-08, 3.650252271358651e-08, 3.588651669430377e-08, 3.528091103561398e-08, 3.468553003380108e-08, 3.410020095597628e-08, 3.3524753989717045e-08, 3.2959022193782104e-08, 3.24028414493075e-08, 3.185605041222791e-08, 3.131849046605414e-08, 3.0790005676167785e-08, 3.027044274384573e-08, 2.975965096226003e-08, 2.9257482171882e-08, 2.876379071829919e-08, 2.8278433409014945e-08, 2.7801269471965195e-08, 2.7332160515110376e-08, 2.6870970485428487e-08, 2.6417565629729833e-08, 2.5971814455613986e-08, 2.5533587693377683e-08, 2.510275825823626e-08, 2.46792012134541e-08, 2.426279373388458e-08, 2.3853415070304577e-08, 2.34509465144526e-08, 2.3055271364268283e-08, 2.266627489010087e-08, 2.228384430109997e-08, 2.1907868712910883e-08, 2.1538239114842964e-08, 2.117484833862234e-08, 2.0817591026981904e-08, 2.0466363603107972e-08, 2.012106424039286e-08, 1.9781592833289017e-08, 1.944785096756101e-08, 1.9119741892030456e-08, 1.879717049045128e-08, 1.848004325379888e-08, 1.816826825312829e-08, 1.7861755112648175e-08, 1.756041498395545e-08, 1.7264160519447703e-08, 1.6972905847784535e-08, 1.6686566548156415e-08, 1.6405059626382667e-08, 1.6128303490301946e-08, 1.5856217926273597e-08, 1.5588724076183754e-08, 1.5325744413742076e-08, 1.5067202722687002e-08, 1.4813024074396528e-08, 1.4563134805980166e-08, 1.4317462499052177e-08, 1.4075935958640993e-08, 1.383848519242842e-08, 1.360504139054534e-08, 1.3375536905459347e-08, 1.3149905232372464e-08, 1.2928080990036455e-08, 1.270999990142009e-08, 1.2495598775531562e-08, 1.2284815488471967e-08, 1.2077588965921636e-08, 1.1873859165041032e-08, 1.1673567057348098e-08, 1.1476654611197339e-08, 1.1283064775235835e-08, 1.1092741461752183e-08, 1.090562953028499e-08, 1.0721674771730797e-08, 1.0540823892595617e-08, 1.0363024499325693e-08, 1.0188225083495072e-08, 1.0016375006435744e-08, 9.847424484788504e-09, 9.681324575839394e-09, 9.518027163575783e-09, 9.357484944589885e-09, 9.199651414169714e-09, 9.04448085313721e-09, 8.891928314322915e-09, 8.741949609573693e-09, 8.594501296955719e-09, 8.449540668288324e-09, 8.307025736326893e-09, 8.166915223028396e-09, 8.02916854741688e-09, 7.893745813589331e-09, 7.760607799491277e-09, 7.629715945377327e-09, 7.501032342422849e-09, 7.374519722093624e-09, 7.250141445087661e-09, 7.127861490683043e-09, 7.0076444464407764e-09, 6.889455497912735e-09, 6.773260418286448e-09, 6.659025558811543e-09, 6.546717838811355e-09, 6.436304736109979e-09, 6.327754277653685e-09, 6.221035030199884e-09, 6.116116091280361e-09, 6.012967080002111e-09, 5.911558128501392e-09, 5.811859873194477e-09, 5.713843446138165e-09, 5.617480466867767e-09, 5.522743033927203e-09, 5.429603716922942e-09, 5.338035548649867e-09, 5.248012017021585e-09, 5.1595070575909236e-09, 5.072495045912191e-09, 4.9869507900865384e-09, 4.902849523444978e-09, 4.820166897566854e-09, 4.7388789748814304e-09, 4.658962221980248e-09, 4.580393502679054e-09, 4.503150071328233e-09, 4.427209566264854e-09, 4.352550003318122e-09, 4.2791497693088965e-09, 4.206987615959086e-09, 4.1360426536557455e-09, 4.066294345295961e-09, 3.997722500588193e-09, 3.930307269867892e-09, 3.864029138618531e-09, 3.798868921646515e-09, 3.734807757618267e-09, 3.6718271035312407e-09, 3.609908729355277e-09, 3.5490347127526604e-09, 3.4891874338661073e-09, 3.4303495702518622e-09, 3.372504091809288e-09, 3.3156342558721326e-09, 3.2597236023460835e-09, 3.204755948921418e-09, 3.150715386403654e-09, 3.0975862741720723e-09, 3.04535323543411e-09, 2.9940011529993637e-09, 2.9435151647854732e-09, 2.8938806595410727e-09, 2.845083272579818e-09, 2.7971088816134423e-09, 2.7499436027570306e-09, 2.7035737863432055e-09, 2.6579860131006394e-09, 2.613167090205167e-09, 2.5691040474482903e-09, 2.5257841335444387e-09, 2.4831948123501596e-09, 2.441323759290227e-09, 2.40015885776008e-09, 2.359688195596679e-09, 2.3199000617052954e-09, 2.280782942544521e-09, 2.242325518892353e-09, 2.204516662596494e-09, 2.1673454331297992e-09, 2.1308010747110386e-09, 2.094873012990638e-09, 2.0595508520471747e-09, 2.024824371444615e-09, 1.9906835230709163e-09, 1.957118428491154e-09, 1.9241193758905066e-09, 1.891676817334097e-09, 1.8597813659825422e-09, 1.8284237933772607e-09, 1.7975950267872934e-09, 1.7672861465365512e-09, 1.7374883834978083e-09, 1.708193116475651e-09, 1.6793918696808274e-09, 1.6510763104121543e-09, 1.6232382465170375e-09, 1.595869624055053e-09, 1.5689625249993566e-09, 1.5425091648991307e-09, 1.5165018906215074e-09, 1.4909331781795509e-09, 1.4657956305535764e-09, 1.4410819754286208e-09, 1.4167850633108495e-09, 1.3928978652033743e-09, 1.3694134707902779e-09, 1.3463250862490867e-09, 1.3236260325026e-09, 1.3013097429983372e-09, 1.2793697621105452e-09, 1.2577997430120725e-09, 1.236593446029896e-09, 1.2157447366805567e-09, 1.1952475840482717e-09, 1.1750960589088233e-09, 1.1552843320715016e-09, 1.1358066727079282e-09, 1.116657446624752e-09, 1.097831114722959e-09, 1.07932223130852e-09, 1.0611254425670603e-09, 1.0432354850091782e-09, 1.0256471839465163e-09, 1.0083554519330713e-09, 9.913552873869434e-10, 9.746417731025372e-10, 9.582100747917823e-10, 9.420554397401541e-10, 9.261731953848535e-10, 9.105587480079096e-10, 8.95207581362629e-10, 8.801152553832637e-10, 8.65277404902267e-10, 8.506897384067607e-10, 8.363480367385368e-10, 8.22248151923235e-10, 8.083860059837821e-10, 7.947575896751385e-10, 7.813589614198361e-10, 7.681862461060727e-10, 7.552356340217378e-10, 7.425033796539053e-10, 7.29985800707533e-10, 7.176792770014058e-10, 7.055802493851689e-10, 6.936852187977703e-10, 6.819907451475709e-10, 6.704934463592233e-10, 6.591899974510267e-10, 6.4807712949574e-10, 6.371516286890342e-10, 6.264103354701336e-10, 6.158501435303062e-10, 6.054679989783422e-10, 5.952608994067131e-10, 5.852258930989082e-10, 5.753600780554257e-10, 5.656606012843214e-10, 5.56124657855916e-10, 5.467494901885849e-10, 5.375323872070941e-10, 5.284706835435845e-10, 5.19561758797784e-10, 5.108030367435529e-10, 5.021919846436779e-10, 4.937261124264694e-10, 4.854029720714218e-10, 4.772201567973704e-10, 4.691753004329577e-10, 4.6126607673642017e-10, 4.534901986518679e-10, 4.4584541772982885e-10, 4.38329523436879e-10, 4.3094034250125715e-10, 4.2367573832819527e-10, 4.1653361033128383e-10, 4.0951189336920115e-10, 4.0260855713719507e-10, 3.9582160552322736e-10]}, {\"line\": {\"dash\": \"dash\", \"width\": 2}, \"mode\": \"lines\", \"name\": \"Continuous finite difference\", \"type\": \"scatter\", \"x\": [0, 1, 2, 3, 4, 5, 6, 7, 8, 9, 10, 11, 12, 13, 14, 15, 16, 17, 18, 19, 20, 21, 22, 23, 24, 25, 26, 27, 28, 29, 30, 31, 32, 33, 34, 35, 36, 37, 38, 39, 40, 41, 42, 43, 44, 45, 46, 47, 48, 49, 50, 51, 52, 53, 54, 55, 56, 57, 58, 59, 60, 61, 62, 63, 64, 65, 66, 67, 68, 69, 70, 71, 72, 73, 74, 75, 76, 77, 78, 79, 80, 81, 82, 83, 84, 85, 86, 87, 88, 89, 90, 91, 92, 93, 94, 95, 96, 97, 98, 99, 100, 101, 102, 103, 104, 105, 106, 107, 108, 109, 110, 111, 112, 113, 114, 115, 116, 117, 118, 119, 120, 121, 122, 123, 124, 125, 126, 127, 128, 129, 130, 131, 132, 133, 134, 135, 136, 137, 138, 139, 140, 141, 142, 143, 144, 145, 146, 147, 148, 149, 150, 151, 152, 153, 154, 155, 156, 157, 158, 159, 160, 161, 162, 163, 164, 165, 166, 167, 168, 169, 170, 171, 172, 173, 174, 175, 176, 177, 178, 179, 180, 181, 182, 183, 184, 185, 186, 187, 188, 189, 190, 191, 192, 193, 194, 195, 196, 197, 198, 199, 200, 201, 202, 203, 204, 205, 206, 207, 208, 209, 210, 211, 212, 213, 214, 215, 216, 217, 218, 219, 220, 221, 222, 223, 224, 225, 226, 227, 228, 229, 230, 231, 232, 233, 234, 235, 236, 237, 238, 239, 240, 241, 242, 243, 244, 245, 246, 247, 248, 249, 250, 251, 252, 253, 254, 255, 256, 257, 258, 259, 260, 261, 262, 263, 264, 265, 266, 267, 268, 269, 270, 271, 272, 273, 274, 275, 276, 277, 278, 279, 280, 281, 282, 283, 284, 285, 286, 287, 288, 289, 290, 291, 292, 293, 294, 295, 296, 297, 298, 299, 300, 301, 302, 303, 304, 305, 306, 307, 308, 309, 310, 311, 312, 313, 314, 315, 316, 317, 318, 319, 320, 321, 322, 323, 324, 325, 326, 327, 328, 329, 330, 331, 332, 333, 334, 335, 336, 337, 338, 339, 340, 341, 342, 343, 344, 345, 346, 347, 348, 349, 350, 351, 352, 353, 354, 355, 356, 357, 358, 359, 360, 361, 362, 363, 364, 365, 366, 367, 368, 369, 370, 371, 372, 373, 374, 375, 376, 377, 378, 379, 380, 381, 382, 383, 384, 385, 386, 387, 388, 389, 390, 391, 392, 393, 394, 395, 396, 397, 398, 399, 400, 401, 402, 403, 404, 405, 406, 407, 408, 409, 410, 411, 412, 413, 414, 415, 416, 417, 418, 419, 420, 421, 422, 423, 424, 425, 426, 427, 428, 429, 430, 431, 432, 433, 434, 435, 436, 437, 438, 439, 440, 441, 442, 443, 444, 445, 446, 447, 448, 449, 450, 451, 452, 453, 454, 455, 456, 457, 458, 459, 460, 461, 462, 463, 464, 465, 466, 467, 468, 469, 470, 471, 472, 473, 474, 475, 476, 477, 478, 479, 480, 481, 482, 483, 484, 485, 486, 487, 488, 489, 490, 491, 492, 493, 494, 495, 496, 497, 498, 499, 500, 501, 502, 503, 504, 505, 506, 507, 508, 509, 510, 511, 512, 513, 514, 515, 516, 517, 518, 519, 520, 521, 522, 523, 524, 525, 526, 527, 528, 529, 530, 531, 532, 533, 534, 535, 536, 537, 538, 539, 540, 541, 542, 543, 544, 545, 546, 547, 548, 549, 550, 551, 552, 553, 554, 555, 556, 557, 558, 559, 560, 561, 562, 563, 564, 565, 566, 567, 568, 569, 570, 571, 572, 573, 574, 575, 576, 577, 578, 579, 580, 581, 582, 583, 584, 585, 586, 587, 588, 589, 590, 591, 592, 593, 594, 595, 596, 597, 598, 599, 600, 601, 602, 603, 604, 605, 606, 607, 608, 609, 610, 611, 612, 613, 614, 615, 616, 617, 618, 619, 620, 621, 622, 623, 624, 625, 626, 627, 628, 629, 630, 631, 632, 633, 634, 635, 636, 637, 638, 639, 640, 641, 642, 643, 644, 645, 646, 647, 648, 649, 650, 651, 652, 653, 654, 655, 656, 657, 658, 659, 660, 661, 662, 663, 664, 665, 666, 667, 668, 669, 670, 671, 672, 673, 674, 675, 676, 677, 678, 679, 680, 681, 682, 683, 684, 685, 686, 687, 688, 689, 690, 691, 692, 693, 694, 695, 696, 697, 698, 699, 700, 701, 702, 703, 704, 705, 706, 707, 708, 709, 710, 711, 712, 713, 714, 715, 716, 717, 718, 719, 720, 721, 722, 723, 724, 725, 726, 727, 728, 729, 730, 731, 732, 733, 734, 735, 736, 737, 738, 739, 740, 741, 742, 743, 744, 745, 746, 747, 748, 749, 750, 751, 752, 753, 754, 755, 756, 757, 758, 759, 760, 761, 762, 763, 764, 765, 766, 767, 768, 769, 770, 771, 772, 773, 774, 775, 776, 777, 778, 779, 780, 781, 782, 783, 784, 785, 786, 787, 788, 789, 790, 791, 792, 793, 794, 795, 796, 797, 798, 799, 800, 801, 802, 803, 804, 805, 806, 807, 808, 809, 810, 811, 812, 813, 814, 815, 816, 817, 818, 819, 820, 821, 822, 823, 824, 825, 826, 827, 828, 829, 830, 831, 832, 833, 834, 835, 836, 837, 838, 839, 840, 841, 842, 843, 844, 845, 846, 847, 848, 849, 850, 851, 852, 853, 854, 855, 856, 857, 858, 859, 860, 861, 862, 863, 864, 865, 866, 867, 868, 869, 870, 871, 872, 873, 874, 875, 876, 877, 878, 879, 880, 881, 882, 883, 884, 885, 886, 887, 888, 889, 890, 891, 892, 893, 894, 895, 896, 897, 898, 899, 900, 901, 902, 903, 904, 905, 906, 907, 908, 909, 910, 911, 912, 913, 914, 915, 916, 917, 918, 919, 920, 921, 922, 923, 924, 925, 926, 927, 928, 929, 930, 931, 932, 933, 934, 935, 936, 937, 938, 939, 940, 941, 942, 943, 944, 945, 946, 947, 948, 949, 950, 951, 952, 953, 954, 955, 956, 957, 958, 959, 960, 961, 962, 963, 964, 965, 966, 967, 968, 969, 970, 971, 972, 973, 974, 975, 976, 977, 978, 979, 980, 981, 982, 983, 984, 985, 986, 987, 988, 989, 990, 991, 992, 993, 994, 995, 996, 997, 998, 999, 1000, 1001, 1002, 1003, 1004, 1005, 1006, 1007, 1008, 1009, 1010, 1011, 1012, 1013, 1014, 1015, 1016, 1017, 1018, 1019, 1020, 1021, 1022, 1023, 1024, 1025, 1026, 1027, 1028, 1029, 1030, 1031, 1032, 1033, 1034, 1035, 1036, 1037, 1038, 1039, 1040, 1041, 1042, 1043, 1044, 1045, 1046, 1047, 1048, 1049, 1050, 1051, 1052, 1053, 1054, 1055, 1056, 1057, 1058, 1059, 1060, 1061, 1062, 1063, 1064, 1065, 1066, 1067, 1068, 1069, 1070, 1071, 1072, 1073, 1074, 1075, 1076, 1077, 1078, 1079, 1080, 1081, 1082, 1083, 1084, 1085, 1086, 1087, 1088, 1089, 1090, 1091, 1092, 1093, 1094, 1095, 1096, 1097, 1098, 1099, 1100, 1101, 1102, 1103, 1104, 1105, 1106, 1107, 1108, 1109, 1110, 1111, 1112, 1113, 1114, 1115, 1116, 1117, 1118, 1119, 1120, 1121, 1122, 1123, 1124, 1125, 1126, 1127, 1128, 1129, 1130, 1131, 1132, 1133, 1134, 1135, 1136, 1137, 1138, 1139, 1140, 1141, 1142, 1143, 1144, 1145, 1146, 1147, 1148, 1149, 1150, 1151, 1152, 1153, 1154, 1155, 1156, 1157, 1158, 1159, 1160, 1161, 1162, 1163, 1164, 1165, 1166, 1167, 1168, 1169, 1170, 1171, 1172, 1173, 1174, 1175, 1176, 1177, 1178, 1179, 1180, 1181, 1182, 1183, 1184, 1185, 1186, 1187, 1188, 1189, 1190, 1191, 1192, 1193, 1194, 1195, 1196, 1197, 1198, 1199, 1200], \"y\": [0.38494228126401864, 0.35797610404213365, 0.3340013689700475, 0.3125909385335041, 0.29339360183708796, 0.27611794034197107, 0.26052012818704817, 0.2463946006822978, 0.23356683781813486, 0.22188772532355894, 0.21122910546135243, 0.20148023458663342, 0.19254493871317097, 0.184339311445757, 0.1767898370600936, 0.16983184960146058, 0.16340825961792738, 0.15746849561256693, 0.151967618940158, 0.14686557971077852, 0.14212658802626477, 0.1377185800925259, 0.13361276280437256, 0.12978322357115887, 0.12620659464938333, 0.12286176322782177, 0.11972962008863093, 0.116792840932662, 0.1140356954764662, 0.1114438802539901, 0.10900437172778697, 0.10670529686384396, 0.10453581877516323, 0.10248603541117804, 0.10054688957802348, 0.09871008883063367, 0.096968033991157, 0.0953137552269529, 0.09374085477162461, 0.09224345549915301, 0.09081615466825915, 0.08945398224496973, 0.08815236328864506, 0.08690708395271314, 0.08571426070781953, 0.08457031244357675, 0.08347193514683834, 0.08241607889041935, 0.08139992689737055, 0.08042087647294986, 0.07947652161995862, 0.07856463717362536, 0.07768316431015113, 0.07683019729874017, 0.07600397138073864, 0.07520285167165389, 0.07442532299253483, 0.07366998054667358, 0.07293552136597664, 0.07222073645880686, 0.07152450359772361, 0.07084578069145456, 0.07018359969070845, 0.06953706098215126, 0.06890532822909967, 0.06828762362127602, 0.06768322349937865, 0.06709145432329647, 0.06651168895555894, 0.06594334323411648, 0.06538587281080571, 0.06483877023389759, 0.064301562254985, 0.06377380734214486, 0.06325509338284165, 0.06274503556142896, 0.0622432743973686, 0.06174947393144386, 0.061263320048290854, 0.0607845189245344, 0.06031279559268941, 0.059847892611790236, 0.059389568836443814, 0.058937598276671416, 0.05849176904151961, 0.058051882359982016, 0.057617751673290196, 0.05718920179310513, 0.05676606812057379, 0.0563481959216153, 0.055935439654165434, 0.055527662343446554, 0.05512473500163683, 0.054726536088597906, 0.054332951010581665, 0.05394387165407588, 0.053559195952171, 0.05317882748103202, 0.05280267508424872, 0.05243065252300876, 0.05206267815019615, 0.05169867460666648, 0.051338568538081615, 0.05098229033081427, 0.05062977386554307, 0.05028095628726944, 0.04993577779057891, 0.049594181419063056, 0.049256112877901194, 0.04892152035867194, 0.048590354375542454, 0.04826256761204077, 0.047938114777681194, 0.047616952473765954, 0.04729903906773591, 0.04698433457549215, 0.0466728005511529, 0.04636439998374757, 0.04605909720039098, 0.04575685777551002, 0.045457648445730206, 0.04516143703005495, 0.04486819235500022, 0.044577884184369004, 0.04429048315337513, 0.04400596070684418, 0.04372428904124161, 0.04344544105029272, 0.043169390273979216, 0.042896110850707644, 0.042625577472463906, 0.04235776534277745, 0.04209265013733196, 0.04183020796706979, 0.04157041534364932, 0.04131324914712081, 0.0410586865956974, 0.040806705217505276, 0.0405572828242037, 0.040310397486373224, 0.040066027510576675, 0.03982415141800265, 0.039584747924607325, 0.03934779592267531, 0.03911327446372463, 0.03888116274268498, 0.038651440083283486, 0.038424085924574324, 0.038199079808552514, 0.03797640136879747, 0.03775603032008947, 0.0375379464489528, 0.03732212960507258, 0.037108559693544076, 0.03689721666790796, 0.03668808052393115, 0.036481131294093735, 0.0362763490427438, 0.03607371386188485, 0.03587320586755998, 0.03567480519680184, 0.035478492005114805, 0.035284246464460475, 0.035092048761716885, 0.034901879097583716, 0.03471371768590683, 0.03452754475339704, 0.034343340539716875, 0.03416108529791427, 0.03398075929517775, 0.033802342813893486, 0.0336258161529816, 0.03345115962949272, 0.03327835358044471, 0.033107378364881306, 0.03293821436613425, 0.032770841994272285, 0.03260524168872047, 0.03244139392103336, 0.032279279197807174, 0.03211887806371671, 0.03196017110466225, 0.03180313895101356, 0.031647762280938144, 0.03149402182380087, 0.03134189836362394, 0.031191372742595716, 0.03104242586461719, 0.030895038698876668, 0.03074919228344255, 0.03060486772886472, 0.03046204622177607, 0.030320709028486034, 0.030180837498557524, 0.03004241306836042, 0.029905417264594655, 0.029769831707775425, 0.02963563811567529, 0.029502818306716725, 0.02937135420330983, 0.02924122783513015, 0.029112421342331586, 0.028984916978690732, 0.028858697114677284, 0.02873374424044823, 0.028610040968761564, 0.028487570037806373, 0.0283663143139472, 0.028246256794379053, 0.02812738060969202, 0.0280096690263426, 0.027893105449030436, 0.02777767342297903, 0.02766335663611863, 0.02755013892117142, 0.02743800425763683, 0.027326936773677507, 0.02721692074790494, 0.02710794061106487, 0.026999980947621967, 0.026893026497245086, 0.02678706215619179, 0.026682072978593867, 0.02657804417764447, 0.026474961126686545, 0.026372809360204478, 0.02627157457472013, 0.026171242629593243, 0.026071799547728557, 0.025973231516190454, 0.025875524886727105, 0.025778666176204505, 0.025682642066953417, 0.025587439407029986, 0.02549304521039196, 0.025399446656992574, 0.02530663109279341, 0.025214586029699008, 0.025123299145414123, 0.02503275828322657, 0.024942951451716936, 0.02485386682439786, 0.02476549273928428, 0.024677817698397334, 0.024590830367203706, 0.024504519573992443, 0.02441887430919161, 0.024333883724626908, 0.024249537132723934, 0.02416582400565678, 0.024082733974444857, 0.024000256827999625, 0.023918382512124123, 0.023837101128466633, 0.023756402933430704, 0.023676278337044273, 0.02359671790178809, 0.023517712341388042, 0.02343925251957056, 0.023361329448785148, 0.023283934288894918, 0.023207058345836716, 0.02313069307025378, 0.023054830056101795, 0.02297946103922991, 0.022904577895939575, 0.022830172641521436, 0.022756237428773255, 0.02268276454649946, 0.022609746417994146, 0.022537175599509594, 0.022465044778710905, 0.022393346773118786, 0.022322074528541853, 0.0222512211174991, 0.02218077973763532, 0.02211074371012889, 0.022041106478094877, 0.02197186160498317, 0.021903002772974065, 0.021834523781371615, 0.02176641854499599, 0.02169868109257596, 0.021631305565142624, 0.021564286214424917, 0.021497617401248274, 0.02143129359393698, 0.021365309366721458, 0.021299659398150664, 0.02123433846951125, 0.021169341463252923, 0.02110466336142266, 0.021040299244105935, 0.02097624428787829, 0.020912493764265447, 0.0208490430382141, 0.02078588756657344, 0.020723022896587763, 0.020660444664400965, 0.020598148593572816, 0.020536130493608473, 0.02047438625850042, 0.02041291186528412, 0.020351703372607097, 0.020290756919312435, 0.020230068723036267, 0.020169635078820258, 0.020109452357738568, 0.020049517005540127, 0.0199898255413064, 0.019930374556124418, 0.01987116071177545, 0.019812180739439966, 0.019753431438417964, 0.01969490967486585, 0.01963661238054945, 0.019578536551613054, 0.019520679247365214, 0.019463037589080585, 0.01940560875881838, 0.01934838999825748, 0.019291378607547628, 0.01923457194417749, 0.019177967421859083, 0.019121562509428675, 0.01906535472976395, 0.019009341658717906, 0.018953520924068712, 0.01889789020448631, 0.018842447228514535, 0.01878718977357023, 0.018732115664957586, 0.018677222774898923, 0.01862250902158123, 0.01856797236821834, 0.018513610822128695, 0.01845942243382873, 0.01840540529614182, 0.018351557543321868, 0.0182978773501926, 0.018244362931301758, 0.018191012540089563, 0.018137824468072643, 0.018084797044041857, 0.018031928633274963, 0.01797921763676308, 0.017926662490451408, 0.017874261664494, 0.017822013662521844, 0.01776991702092494, 0.017717970308147438, 0.017666172123996203, 0.017614521098962194, 0.017563015893555117, 0.017511655197650303, 0.017460437729848465, 0.01740936223684749, 0.017358427492826952, 0.01730763229884384, 0.017256975482240894, 0.017206455896066005, 0.017156072418503428, 0.017105823952316107, 0.017055709424299386, 0.01700572778474519, 0.016955878006917564, 0.016906159086538388, 0.016856570041283676, 0.016807109910290188, 0.01675777775367206, 0.016708572652047442, 0.016659493706074658, 0.016610540035998395, 0.016561710781204806, 0.01651300509978637, 0.0164644221681154, 0.016415961180426816, 0.01636762134840966, 0.016319401900806985, 0.016271302083024682, 0.016223321156748093, 0.016175458399567036, 0.016127713104609198, 0.016080084580180627, 0.016032572149414545, 0.015985175149927665, 0.015937892933483633, 0.0158907248656641, 0.015843670325546757, 0.015796728705390468, 0.015749899410327117, 0.015703181858060487, 0.015656575478571595, 0.015610079713830306, 0.01556369401751382, 0.015517417854730781, 0.015471250701751937, 0.015425192045746616, 0.01537924138452509, 0.015333398226286607, 0.0152876620893731, 0.015242032502028597, 0.015196509002163674, 0.015151091137125438, 0.015105778463472708, 0.015060570546756028, 0.015015466961302995, 0.014970467290008192, 0.014925571124127993, 0.014880778063079894, 0.014836087714246618, 0.01479149969278458, 0.01474701362143672, 0.014702629130349566, 0.014658345856894597, 0.014614163445493676, 0.014570081547448342, 0.014526099820773353, 0.014482217930033691, 0.014438435546185523, 0.014394752346420951, 0.01435116801401604, 0.014307682238182717, 0.014264294713923723, 0.014221005141891313, 0.01417781322824903, 0.014134718684536734, 0.014091721227538666, 0.01404882057915491, 0.014006016466275528, 0.013963308620657765, 0.013920696778806103, 0.013878180681855236, 0.013835760075455745, 0.013793434709662185, 0.013751204338824246, 0.013709068721480267, 0.013667027620253147, 0.01362508080174886, 0.013583228036457399, 0.01354146909865591, 0.013499803766314168, 0.013458231821002448, 0.013416753047801341, 0.013375367235213754, 0.013334074175079248, 0.013292873662490035, 0.013251765495709306, 0.013210749476091143, 0.013169825408002796, 0.013128993098748369, 0.013088252358494583, 0.013047603000198239, 0.013007044839535391, 0.012966577694832275, 0.012926201386997734, 0.012885915739457557, 0.012845720578090029, 0.012805615731163254, 0.012765601029273894, 0.012725676305287488, 0.012685841394280008, 0.012646096133480987, 0.012606440362217853, 0.01256687392186192, 0.012527396655775166, 0.012488008409258726, 0.012448709029502503, 0.012409498365535784, 0.012370376268179509, 0.012331342589999093, 0.012292397185258905, 0.012253539909877428, 0.012214770621383953, 0.012176089178875794, 0.012137495442977052, 0.012098989275797938, 0.012060570540895299, 0.012022239103234099, 0.011983994829149854, 0.011945837586311667, 0.011907767243686737, 0.011869783671505086, 0.011831886741225647, 0.011794076325502773, 0.011756352298154025, 0.011718714534128004, 0.011681162909473939, 0.011643697301311078, 0.011606317587799448, 0.011569023648110964, 0.011531815362401516, 0.011494692611783429, 0.011457655278298815, 0.011420703244893521, 0.011383836395391707, 0.011347054614470845, 0.011310357787637748, 0.01127374580120466, 0.01123721854226644, 0.01120077589867785, 0.011164417759031669, 0.011128144012637241, 0.011091954549499518, 0.011055849260298714, 0.011019828036370355, 0.010983890769685794, 0.010948037352833222, 0.010912267678999277, 0.01087658164195085, 0.010840979136017434, 0.010805460056074107, 0.010770024297524446, 0.010734671756284474, 0.010699402328766327, 0.010664215911862895, 0.010629112402932489, 0.010594091699783974, 0.010559153700662242, 0.010524298304234186, 0.010489525409574665, 0.010454834916153196, 0.01042022672382072, 0.010385700732796745, 0.010351256843656797, 0.010316894957320293, 0.010282614975038455, 0.010248416798382703, 0.010214300329233327, 0.010180265469768284, 0.010146312122452468, 0.010112440190027046, 0.010078649575499145, 0.010044940182131826, 0.010011311913434124, 0.009977764673151665, 0.009944298365256997, 0.009910912893940688, 0.009877608163602211, 0.009844384078841376, 0.009811240544449687, 0.009778177465402152, 0.009745194746849041, 0.00971229229410804, 0.009679470012656552, 0.00964672780812403, 0.009614065586284743, 0.009581483253050513, 0.009548980714463612, 0.009516557876690106, 0.009484214646012954, 0.009451950928825574, 0.00941976663162547, 0.00938766166100791, 0.009355635923659943, 0.009323689326354363, 0.009291821775944037, 0.009260033179356081, 0.009228323443586437, 0.009196692475694443, 0.009165140182797526, 0.009133666472066086, 0.00910227125071851, 0.009070954426016105, 0.009039715905258537, 0.00900855559577892, 0.008977473404939318, 0.00894646924012638, 0.008915543008746838, 0.008884694618223294, 0.008853923975990115, 0.008823230989489304, 0.008792615566166529, 0.008762077613467268, 0.008731617038833026, 0.008701233749697699, 0.008670927653483821, 0.00864069865759914, 0.008610546669433183, 0.00858047159635387, 0.008550473345704185, 0.008520551824799013, 0.008490706940922021, 0.008460938601322618, 0.00843124671321286, 0.008401631183764672, 0.008372091920106864, 0.008342628829322463, 0.008313241818445973, 0.008283930794460648, 0.008254695664295958, 0.008225536334825046, 0.008196452712862278, 0.00816744470516087, 0.00813851221841035, 0.00810965515923452, 0.008080873434188987, 0.008052166949759148, 0.008023535612357868, 0.00799497932832352, 0.007966498003917997, 0.007938091545324526, 0.007909759858645862, 0.0078815028499024, 0.007853320425030301, 0.00782521248987961, 0.007797178950212622, 0.007769219711702052, 0.007741334679929459, 0.0077135237603835356, 0.007685786858458522, 0.00765812387945264, 0.007630534728566673, 0.00760301931090231, 0.007575577531460865, 0.007548209295141787, 0.007520914506741309, 0.007493693070951083, 0.007466544892356955, 0.0074394698754375824, 0.007412467924563317, 0.007385538943994873, 0.007358682837882293, 0.007331899510263707, 0.007305188865064243, 0.0072785508060949754, 0.0072519852370518025, 0.007225492061514544, 0.007199071182945839, 0.007172722504690204, 0.007146445929973101, 0.0071202413619000735, 0.007094108703455728, 0.007068047857503048, 0.007042058726782393, 0.007016141213910813, 0.0069902952213811795, 0.006964520651561468, 0.0069388174066940134, 0.0069131853888947286, 0.006887624500152552, 0.006862134642328665, 0.00683671571715584, 0.0068113676262379005, 0.006786090271049035, 0.00676088355293328, 0.006735747373103871, 0.006710681632642821, 0.0066856862325002375, 0.006660761073494004, 0.006635906056309214, 0.006611121081497598, 0.006586406049477318, 0.006561760860532343, 0.0065371854148121005, 0.006512679612331153, 0.006488243352968747, 0.00646387653646851, 0.00643957906243808, 0.006415350830348821, 0.006391191739535538, 0.006367101689196124, 0.006343080578391355, 0.006319128306044685, 0.0062952447709418765, 0.006271429871730916, 0.0062476835069217385, 0.006224005574886072, 0.006200395973857265, 0.006176854601930211, 0.006153381357060969, 0.006129976137066999, 0.006106638839626691, 0.00608336936227954, 0.006060167602425982, 0.00603703345732728, 0.006013966824105521, 0.00599096759974357, 0.005968035681085089, 0.005945170964834441, 0.005922373347556827, 0.005899642725678174, 0.005876978995485244, 0.005854382053125686, 0.005831851794608005, 0.005809388115801846, 0.005786990912437798, 0.005764660080107721, 0.005742395514264767, 0.005720197110223538, 0.005698064763160149, 0.005675998368112483, 0.005653997819980289, 0.00563206301352541, 0.005610193843371896, 0.005588390204006248, 0.005566651989777682, 0.0055449790948982735, 0.005523371413443213, 0.005501828839351094, 0.005480351266424099, 0.0054589385883283496, 0.0054375906985941825, 0.005416307490616377, 0.005395088857654552, 0.005373934692833362, 0.005352844889142977, 0.005331819339439372, 0.005310857936444545, 0.0052899605727470805, 0.0052691271408023925, 0.005248357532933172, 0.005227651641329742, 0.005207009358050485, 0.005186430575022222, 0.00516591518404079, 0.005145463076771224, 0.005125074144748401, 0.0051047482793774735, 0.0050844853719342505, 0.005064285313565798, 0.005044147995290811, 0.005024073308000166, 0.005004061142457493, 0.00498411138929958, 0.0049642239390369595, 0.0049443986820544746, 0.004924635508611792, 0.00490493430884396, 0.004885294972762012, 0.004865717390253483, 0.00484620145108306, 0.004826747044893162, 0.004807354061204548, 0.004788022389416908, 0.0047687519188095336, 0.004749542538541897, 0.004730394137654357, 0.004711306605068768, 0.004692279829589207, 0.0046733136999025406, 0.004654408104579184, 0.004635562932073784, 0.004616778070725903, 0.004598053408760717, 0.004579388834289776, 0.0045607842353116695, 0.004542239499712835, 0.004523754515268198, 0.004505329169642023, 0.004486963350388641, 0.0044686569449531735, 0.004450409840672392, 0.004432221924775422, 0.004414093084384581, 0.004396023206516175, 0.00437801217808131, 0.004360059885886705, 0.004342166216635515, 0.004324331056928137, 0.004306554293263121, 0.004288835812037988, 0.0042711754995500405, 0.004253573241997279, 0.004236028925479305, 0.004218542435998077, 0.004201113659458978, 0.004183742481671523, 0.004166428788350431, 0.004149172465116396, 0.004131973397497106, 0.004114831470928101, 0.004097746570753767, 0.004080718582228185, 0.004063747390516148, 0.004046832880694168, 0.004029974937751278, 0.004013173446590091, 0.003996428292027831, 0.00397973935879724, 0.003963106531547529, 0.003946529694845442, 0.00393000873317625, 0.003913543530944747, 0.0038971339724762524, 0.003880779942017594, 0.003864481323738245, 0.0038482380017312487, 0.003832049860014306, 0.0038159167825308317, 0.003799838653150927, 0.0037838153556725416, 0.0037678467738225065, 0.0037519327912574835, 0.003736073291565291, 0.003720268158265671, 0.003704517274811649, 0.0036888205245904438, 0.0036731777909246735, 0.003657588957073389, 0.0036420539062332145, 0.003626572521539453, 0.0036111446860671906, 0.003595770282832424, 0.0035804491947932417, 0.003565181304850866, 0.0035499664958508373, 0.0035348046505841485, 0.0035196956517884416, 0.0035046393821490484, 0.0034896357243002574, 0.0034746845608264604, 0.003459785774263224, 0.003444939247098559, 0.003430144861774082, 0.0034154025006861177, 0.0034007120461869863, 0.003386073380586139, 0.0033714863861513513, 0.0033569509451099088, 0.0033424669396497912, 0.003328034251920956, 0.0033136527640364797, 0.003299322358073758, 0.003285042916075745, 0.003270814320052211, 0.003256636451980855, 0.0032425091938086377, 0.003228432427452973, 0.003214406034802904, 0.0032004298977204556, 0.003186503898041747, 0.003172627917578346, 0.0031588018381184047, 0.003145025541427964, 0.0031312989092522375, 0.003117621823316755, 0.0031039941653287517, 0.003090415816978347, 0.003076886659939769, 0.003063406575872704, 0.0030499754464235118, 0.003036593153226488, 0.003023259577905198, 0.003009974602073667, 0.0029967381073376567, 0.002983549975296001, 0.0029704100875418285, 0.002957318325663911, 0.002944274571247851, 0.0029312787058774327, 0.002918330611135881, 0.002905430168607174, 0.0028925772598772485, 0.002879771766535419, 0.002867013570175567, 0.0028543025523974416, 0.0028416385948080215, 0.0028290215790227335, 0.0028164513866667583, 0.002803927899376382, 0.002791450998800234, 0.002779020566600598, 0.002766636484454721, 0.0027542986340561345, 0.0027420068971158703, 0.002729761155363862, 0.002717561290550202, 0.0027054071844464156, 0.0026932987188468044, 0.002681235775569716, 0.0026692182364588847, 0.0026572459833847, 0.0026453188982454895, 0.0026334368629688854, 0.002621599759513077, 0.0026098074698681136, 0.0025980598760572005, 0.0025863568601380577, 0.0025746983042041587, 0.002563084090386019, 0.002551514100852549, 0.002539988217812334, 0.002528506323514901, 0.0025170683002520675, 0.002505674030359185, 0.0024943233962164846, 0.0024830162802503197, 0.0024717525649344966, 0.0024605321327915678, 0.0024493548663940727, 0.0024382206483658953, 0.00242712936138355, 0.002416080888177353, 0.002405075111532869, 0.002394111914292121, 0.002383191179354825, 0.0023723127896797484, 0.0023614766282859497, 0.0023506825782540763, 0.002339930522727611, 0.002329220344914177, 0.0023185519280867805, 0.0023079251555851226, 0.002297339910816792, 0.002286796077258609, 0.0022762935384578464, 0.0022658321780335043, 0.0022554118796775406, 0.002245032527156174, 0.0022346940043111094, 0.0022243961950607384, 0.0022141389834015156, 0.002203922253409085, 0.002193745889239585, 0.0021836097751308427, 0.0021735137954036507, 0.002163457834462965, 0.0021534417767992142, 0.002143465506989373, 0.0021335289096984147, 0.002123631869680259, 0.0021137742717792633, 0.0021039560009311923, 0.002094176942164654, 0.0020844369806021115, 0.002074736001461234, 0.002065073890055999, 0.002055450531797971, 0.0020458658121974105, 0.002036319616864563, 0.002026811831510759, 0.0020173423419496406, 0.002007911034098312, 0.0019985177939785843, 0.0019891625077180478, 0.00197984506155131, 0.0019705653418211544, 0.0019613232349796547, 0.001952118627589376, 0.0019429514063245116, 0.0019338214579720197, 0.0019247286694327815, 0.0019156729277227235, 0.0019066541199739616, 0.0018976721334359693, 0.0018887268554766052, 0.0018798181735832965, 0.0018709459753641858, 0.001862110148549218, 0.001853310580991177, 0.0018445471606668975, 0.0018358197756782949, 0.0018271283142534608, 0.0018184726647477896, 0.001809852715645033, 0.001801268355558363, 0.0017927194732314943, 0.0017842059575396787, 0.0017757276974908753, 0.001767284582226704, 0.0017588765010235056, 0.0017505033432935195, 0.001742164998585732, 0.001733861356587076, 0.0017255923071233727, 0.0017173577401603853, 0.0017091575458048612, 0.0017009916143054993, 0.0016928598360540252, 0.001684762101586112, 0.0016766983015824826, 0.0016686683268697976, 0.0016606720684217485, 0.001652709417359956, 0.0016447802649549783, 0.0016368845026273147, 0.001629022021948318, 0.0016211927146411965, 0.0016133964725819458, 0.0016056331878003022, 0.0015979027524807142, 0.0015902050589632, 0.00158253999974441, 0.0015749074674784283, 0.0015673073549777477, 0.0015597395552142046, 0.0015522039613198226, 0.0015447004665877949, 0.0015372289644732997, 0.0015297893485944711, 0.0015223815127332224, 0.0015150053508361416, 0.0015076607570153541, 0.0015003476255494468, 0.0014930658508842515, 0.001485815327633702, 0.0014785959505807782, 0.0014714076146782407, 0.0014642502150494854, 0.0014571236469894206, 0.001450027805965258, 0.0014429625876173117, 0.0014359278877598722, 0.0014289236023819203, 0.0014219496276479818, 0.0014150058598989333, 0.0014080921956527376, 0.0014012085316052574, 0.0013943547646310072, 0.001387530791783941, 0.0013807365102981822, 0.0013739718175888175, 0.001367236611252613, 0.001360530789068746, 0.0013538542489995604, 0.001347206889191298, 0.0013405886079748005, 0.0013339993038662397, 0.0013274388755677986, 0.001320907221968412, 0.0013144042421444348, 0.0013079298353603245, 0.0013014839010693367, 0.001295066338914224, 0.0012886770487278553, 0.0012823159305338987, 0.001275982884547484, 0.0012696778111758616, 0.0012634006110190067, 0.0012571511848702946, 0.001250929433717103, 0.001244735258741467, 0.0012385685613206323, 0.0012324292430277504, 0.0012263172056324301, 0.0012202323511013046, 0.001214174581598695, 0.0012081437994871493, 0.0012021399073280138, 0.001196162807882027, 0.0011902124041098389, 0.001184288599172655, 0.0011783912964326835, 0.0011725203994537516, 0.0011666758120017944, 0.0011608574380454412, 0.0011550651817564682, 0.0011492989475103818, 0.001143558639886866, 0.0011378441636703865, 0.0011321554238505468, 0.0011264923256226855, 0.0011208547743883617, 0.001115242675755739, 0.0011096559355401989, 0.0011040944597646262, 0.0010985581546600444, 0.001093046926665963, 0.0010875606824308469, 0.0010820993288125562, 0.0010766627728787748, 0.001071250921907465, 0.0010658636833872255, 0.0010605009650177751, 0.0010551626747102867, 0.0010498487205878447, 0.0010445590109858234, 0.0010392934544522585, 0.0010340519597482217, 0.0010288344358482496, 0.0010236407919406376, 0.0010184709374278223, 0.0010133247819267984, 0.001008202235269368, 0.0010031032075025572, 0.000998027608888915, 0.0009929753499068605, 0.0009879463412509882, 0.0009829404938324097, 0.0009779577187790363, 0.0009729979274359095, 0.0009680610313654638, 0.0009631469423478627, 0.0009582555723812528, 0.0009533868336820411, 0.0009485406386852042, 0.0009437169000444904, 0.0009389155306327678, 0.0009341364435421881, 0.0009293795520844866, 0.0009246447697912267, 0.00091993201041402, 0.000915241187924745, 0.0009105722165158147, 0.0009059250106003283, 0.0009012994848123614, 0.0008966955540070855, 0.0008921131332610458, 0.0008875521378723331, 0.0008830124833607274, 0.0008784940854679243, 0.0008739968601577097, 0.0008695207236161212, 0.0008650655922516137, 0.0008606313826951942, 0.0008562180118006305, 0.0008518253966445372, 0.0008474534545265583, 0.0008431021029694855, 0.0008387712597193991, 0.0008344608427457599, 0.000830170770241559, 0.0008259009606234708, 0.0008216513325318247, 0.0008174218048308713, 0.000813212296608758, 0.0008090227271776709, 0.0008048530160739097, 0.0008007030830579733, 0.0007965728481146255, 0.0007924622314529566, 0.0007883711535064673, 0.0007842995349330957, 0.0007802472966153068, 0.0007762143596601003, 0.0007722006453990801, 0.000768206075388467, 0.000764230571409169, 0.0007602740554667501, 0.0007563364497914896, 0.0007524176768383924, 0.0007485176592871819, 0.0007446363200423302, 0.0007407735822330308, 0.0007369293692132032, 0.0007331036045614774, 0.000729296212081205, 0.0007255071158003916, 0.0007217362399717039, 0.0007179835090724403, 0.0007142488478044573, 0.0007105321810941935, 0.0007068334340925436, 0.0007031525321748698, 0.0006994894009409264, 0.0006958439662147981, 0.0006922161540448244, 0.0006886058907035486, 0.0006850131026876334, 0.0006814377167177791, 0.000677879659738639, 0.0006743388589187393, 0.000670815241650372, 0.0006673087355495127, 0.0006638192684557104, 0.000660346768431967, 0.0006568911637646379, 0.0006534523829633285, 0.0006500303547607598, 0.0006466250081126281, 0.000643236272197501, 0.0006398640764166763, 0.0006365083503940248, 0.0006331690239758884, 0.000629846027230885, 0.0006265392904497859, 0.0006232487441453693, 0.0006199743190522199, 0.0006167159461266144, 0.0006134735565463147, 0.0006102470817104329, 0.0006070364532391926, 0.0006038416029738341, 0.0006006624629763661, 0.0005974989655293849, 0.0005943510431359174, 0.0005912186285191754, 0.0005881016546224152, 0.0005850000546086659, 0.000581913761860576, 0.0005788427099801812, 0.0005757868327886735, 0.0005727460643262128, 0.0005697203388516756, 0.0005667095908424642, 0.0005637137549942305, 0.0005607327662206644, 0.0005577665596532765, 0.0005548150706411235, 0.0005518782347505695, 0.0005489559877650588, 0.0005460482656848527, 0.000543155004726754, 0.000540276141323885, 0.0005374116121253951, 0.0005345613539962099, 0.0005317253040167581, 0.0005289033994827077, 0.0005260955779046678, 0.0005233017770079365]}],\n",
              "                        {\"template\": {\"data\": {\"bar\": [{\"error_x\": {\"color\": \"#2a3f5f\"}, \"error_y\": {\"color\": \"#2a3f5f\"}, \"marker\": {\"line\": {\"color\": \"#E5ECF6\", \"width\": 0.5}}, \"type\": \"bar\"}], \"barpolar\": [{\"marker\": {\"line\": {\"color\": \"#E5ECF6\", \"width\": 0.5}}, \"type\": \"barpolar\"}], \"carpet\": [{\"aaxis\": {\"endlinecolor\": \"#2a3f5f\", \"gridcolor\": \"white\", \"linecolor\": \"white\", \"minorgridcolor\": \"white\", \"startlinecolor\": \"#2a3f5f\"}, \"baxis\": {\"endlinecolor\": \"#2a3f5f\", \"gridcolor\": \"white\", \"linecolor\": \"white\", \"minorgridcolor\": \"white\", \"startlinecolor\": \"#2a3f5f\"}, \"type\": \"carpet\"}], \"choropleth\": [{\"colorbar\": {\"outlinewidth\": 0, \"ticks\": \"\"}, \"type\": \"choropleth\"}], \"contour\": [{\"colorbar\": {\"outlinewidth\": 0, \"ticks\": \"\"}, \"colorscale\": [[0.0, \"#0d0887\"], [0.1111111111111111, \"#46039f\"], [0.2222222222222222, \"#7201a8\"], [0.3333333333333333, \"#9c179e\"], [0.4444444444444444, \"#bd3786\"], [0.5555555555555556, \"#d8576b\"], [0.6666666666666666, \"#ed7953\"], [0.7777777777777778, \"#fb9f3a\"], [0.8888888888888888, \"#fdca26\"], [1.0, \"#f0f921\"]], \"type\": \"contour\"}], \"contourcarpet\": [{\"colorbar\": {\"outlinewidth\": 0, \"ticks\": \"\"}, \"type\": \"contourcarpet\"}], \"heatmap\": [{\"colorbar\": {\"outlinewidth\": 0, \"ticks\": \"\"}, \"colorscale\": [[0.0, \"#0d0887\"], [0.1111111111111111, \"#46039f\"], [0.2222222222222222, \"#7201a8\"], [0.3333333333333333, \"#9c179e\"], [0.4444444444444444, \"#bd3786\"], [0.5555555555555556, \"#d8576b\"], [0.6666666666666666, \"#ed7953\"], [0.7777777777777778, \"#fb9f3a\"], [0.8888888888888888, \"#fdca26\"], [1.0, \"#f0f921\"]], \"type\": \"heatmap\"}], \"heatmapgl\": [{\"colorbar\": {\"outlinewidth\": 0, \"ticks\": \"\"}, \"colorscale\": [[0.0, \"#0d0887\"], [0.1111111111111111, \"#46039f\"], [0.2222222222222222, \"#7201a8\"], [0.3333333333333333, \"#9c179e\"], [0.4444444444444444, \"#bd3786\"], [0.5555555555555556, \"#d8576b\"], [0.6666666666666666, \"#ed7953\"], [0.7777777777777778, \"#fb9f3a\"], [0.8888888888888888, \"#fdca26\"], [1.0, \"#f0f921\"]], \"type\": \"heatmapgl\"}], \"histogram\": [{\"marker\": {\"colorbar\": {\"outlinewidth\": 0, \"ticks\": \"\"}}, \"type\": \"histogram\"}], \"histogram2d\": [{\"colorbar\": {\"outlinewidth\": 0, \"ticks\": \"\"}, \"colorscale\": [[0.0, \"#0d0887\"], [0.1111111111111111, \"#46039f\"], [0.2222222222222222, \"#7201a8\"], [0.3333333333333333, \"#9c179e\"], [0.4444444444444444, \"#bd3786\"], [0.5555555555555556, \"#d8576b\"], [0.6666666666666666, \"#ed7953\"], [0.7777777777777778, \"#fb9f3a\"], [0.8888888888888888, \"#fdca26\"], [1.0, \"#f0f921\"]], \"type\": \"histogram2d\"}], \"histogram2dcontour\": [{\"colorbar\": {\"outlinewidth\": 0, \"ticks\": \"\"}, \"colorscale\": [[0.0, \"#0d0887\"], [0.1111111111111111, \"#46039f\"], [0.2222222222222222, \"#7201a8\"], [0.3333333333333333, \"#9c179e\"], [0.4444444444444444, \"#bd3786\"], [0.5555555555555556, \"#d8576b\"], [0.6666666666666666, \"#ed7953\"], [0.7777777777777778, \"#fb9f3a\"], [0.8888888888888888, \"#fdca26\"], [1.0, \"#f0f921\"]], \"type\": \"histogram2dcontour\"}], \"mesh3d\": [{\"colorbar\": {\"outlinewidth\": 0, \"ticks\": \"\"}, \"type\": \"mesh3d\"}], \"parcoords\": [{\"line\": {\"colorbar\": {\"outlinewidth\": 0, \"ticks\": \"\"}}, \"type\": \"parcoords\"}], \"pie\": [{\"automargin\": true, \"type\": \"pie\"}], \"scatter\": [{\"marker\": {\"colorbar\": {\"outlinewidth\": 0, \"ticks\": \"\"}}, \"type\": \"scatter\"}], \"scatter3d\": [{\"line\": {\"colorbar\": {\"outlinewidth\": 0, \"ticks\": \"\"}}, \"marker\": {\"colorbar\": {\"outlinewidth\": 0, \"ticks\": \"\"}}, \"type\": \"scatter3d\"}], \"scattercarpet\": [{\"marker\": {\"colorbar\": {\"outlinewidth\": 0, \"ticks\": \"\"}}, \"type\": \"scattercarpet\"}], \"scattergeo\": [{\"marker\": {\"colorbar\": {\"outlinewidth\": 0, \"ticks\": \"\"}}, \"type\": \"scattergeo\"}], \"scattergl\": [{\"marker\": {\"colorbar\": {\"outlinewidth\": 0, \"ticks\": \"\"}}, \"type\": \"scattergl\"}], \"scattermapbox\": [{\"marker\": {\"colorbar\": {\"outlinewidth\": 0, \"ticks\": \"\"}}, \"type\": \"scattermapbox\"}], \"scatterpolar\": [{\"marker\": {\"colorbar\": {\"outlinewidth\": 0, \"ticks\": \"\"}}, \"type\": \"scatterpolar\"}], \"scatterpolargl\": [{\"marker\": {\"colorbar\": {\"outlinewidth\": 0, \"ticks\": \"\"}}, \"type\": \"scatterpolargl\"}], \"scatterternary\": [{\"marker\": {\"colorbar\": {\"outlinewidth\": 0, \"ticks\": \"\"}}, \"type\": \"scatterternary\"}], \"surface\": [{\"colorbar\": {\"outlinewidth\": 0, \"ticks\": \"\"}, \"colorscale\": [[0.0, \"#0d0887\"], [0.1111111111111111, \"#46039f\"], [0.2222222222222222, \"#7201a8\"], [0.3333333333333333, \"#9c179e\"], [0.4444444444444444, \"#bd3786\"], [0.5555555555555556, \"#d8576b\"], [0.6666666666666666, \"#ed7953\"], [0.7777777777777778, \"#fb9f3a\"], [0.8888888888888888, \"#fdca26\"], [1.0, \"#f0f921\"]], \"type\": \"surface\"}], \"table\": [{\"cells\": {\"fill\": {\"color\": \"#EBF0F8\"}, \"line\": {\"color\": \"white\"}}, \"header\": {\"fill\": {\"color\": \"#C8D4E3\"}, \"line\": {\"color\": \"white\"}}, \"type\": \"table\"}]}, \"layout\": {\"annotationdefaults\": {\"arrowcolor\": \"#2a3f5f\", \"arrowhead\": 0, \"arrowwidth\": 1}, \"coloraxis\": {\"colorbar\": {\"outlinewidth\": 0, \"ticks\": \"\"}}, \"colorscale\": {\"diverging\": [[0, \"#8e0152\"], [0.1, \"#c51b7d\"], [0.2, \"#de77ae\"], [0.3, \"#f1b6da\"], [0.4, \"#fde0ef\"], [0.5, \"#f7f7f7\"], [0.6, \"#e6f5d0\"], [0.7, \"#b8e186\"], [0.8, \"#7fbc41\"], [0.9, \"#4d9221\"], [1, \"#276419\"]], \"sequential\": [[0.0, \"#0d0887\"], [0.1111111111111111, \"#46039f\"], [0.2222222222222222, \"#7201a8\"], [0.3333333333333333, \"#9c179e\"], [0.4444444444444444, \"#bd3786\"], [0.5555555555555556, \"#d8576b\"], [0.6666666666666666, \"#ed7953\"], [0.7777777777777778, \"#fb9f3a\"], [0.8888888888888888, \"#fdca26\"], [1.0, \"#f0f921\"]], \"sequentialminus\": [[0.0, \"#0d0887\"], [0.1111111111111111, \"#46039f\"], [0.2222222222222222, \"#7201a8\"], [0.3333333333333333, \"#9c179e\"], [0.4444444444444444, \"#bd3786\"], [0.5555555555555556, \"#d8576b\"], [0.6666666666666666, \"#ed7953\"], [0.7777777777777778, \"#fb9f3a\"], [0.8888888888888888, \"#fdca26\"], [1.0, \"#f0f921\"]]}, \"colorway\": [\"#636efa\", \"#EF553B\", \"#00cc96\", \"#ab63fa\", \"#FFA15A\", \"#19d3f3\", \"#FF6692\", \"#B6E880\", \"#FF97FF\", \"#FECB52\"], \"font\": {\"color\": \"#2a3f5f\"}, \"geo\": {\"bgcolor\": \"white\", \"lakecolor\": \"white\", \"landcolor\": \"#E5ECF6\", \"showlakes\": true, \"showland\": true, \"subunitcolor\": \"white\"}, \"hoverlabel\": {\"align\": \"left\"}, \"hovermode\": \"closest\", \"mapbox\": {\"style\": \"light\"}, \"paper_bgcolor\": \"white\", \"plot_bgcolor\": \"#E5ECF6\", \"polar\": {\"angularaxis\": {\"gridcolor\": \"white\", \"linecolor\": \"white\", \"ticks\": \"\"}, \"bgcolor\": \"#E5ECF6\", \"radialaxis\": {\"gridcolor\": \"white\", \"linecolor\": \"white\", \"ticks\": \"\"}}, \"scene\": {\"xaxis\": {\"backgroundcolor\": \"#E5ECF6\", \"gridcolor\": \"white\", \"gridwidth\": 2, \"linecolor\": \"white\", \"showbackground\": true, \"ticks\": \"\", \"zerolinecolor\": \"white\"}, \"yaxis\": {\"backgroundcolor\": \"#E5ECF6\", \"gridcolor\": \"white\", \"gridwidth\": 2, \"linecolor\": \"white\", \"showbackground\": true, \"ticks\": \"\", \"zerolinecolor\": \"white\"}, \"zaxis\": {\"backgroundcolor\": \"#E5ECF6\", \"gridcolor\": \"white\", \"gridwidth\": 2, \"linecolor\": \"white\", \"showbackground\": true, \"ticks\": \"\", \"zerolinecolor\": \"white\"}}, \"shapedefaults\": {\"line\": {\"color\": \"#2a3f5f\"}}, \"ternary\": {\"aaxis\": {\"gridcolor\": \"white\", \"linecolor\": \"white\", \"ticks\": \"\"}, \"baxis\": {\"gridcolor\": \"white\", \"linecolor\": \"white\", \"ticks\": \"\"}, \"bgcolor\": \"#E5ECF6\", \"caxis\": {\"gridcolor\": \"white\", \"linecolor\": \"white\", \"ticks\": \"\"}}, \"title\": {\"x\": 0.05}, \"xaxis\": {\"automargin\": true, \"gridcolor\": \"white\", \"linecolor\": \"white\", \"ticks\": \"\", \"title\": {\"standoff\": 15}, \"zerolinecolor\": \"white\", \"zerolinewidth\": 2}, \"yaxis\": {\"automargin\": true, \"gridcolor\": \"white\", \"linecolor\": \"white\", \"ticks\": \"\", \"title\": {\"standoff\": 15}, \"zerolinecolor\": \"white\", \"zerolinewidth\": 2}}}, \"title\": {\"text\": \"Loss comparison\"}},\n",
              "                        {\"responsive\": true}\n",
              "                    ).then(function(){\n",
              "                            \n",
              "var gd = document.getElementById('88b066a1-1e88-4a6d-8349-504d56b83a1e');\n",
              "var x = new MutationObserver(function (mutations, observer) {{\n",
              "        var display = window.getComputedStyle(gd).display;\n",
              "        if (!display || display === 'none') {{\n",
              "            console.log([gd, 'removed!']);\n",
              "            Plotly.purge(gd);\n",
              "            observer.disconnect();\n",
              "        }}\n",
              "}});\n",
              "\n",
              "// Listen for the removal of the full notebook cells\n",
              "var notebookContainer = gd.closest('#notebook-container');\n",
              "if (notebookContainer) {{\n",
              "    x.observe(notebookContainer, {childList: true});\n",
              "}}\n",
              "\n",
              "// Listen for the clearing of the current output cell\n",
              "var outputEl = gd.closest('.output');\n",
              "if (outputEl) {{\n",
              "    x.observe(outputEl, {childList: true});\n",
              "}}\n",
              "\n",
              "                        })\n",
              "                };\n",
              "                \n",
              "            </script>\n",
              "        </div>\n",
              "</body>\n",
              "</html>"
            ]
          },
          "metadata": {}
        }
      ]
    },
    {
      "cell_type": "code",
      "metadata": {
        "id": "iclDn70YWUeb"
      },
      "source": [
        ""
      ],
      "execution_count": null,
      "outputs": []
    }
  ]
}