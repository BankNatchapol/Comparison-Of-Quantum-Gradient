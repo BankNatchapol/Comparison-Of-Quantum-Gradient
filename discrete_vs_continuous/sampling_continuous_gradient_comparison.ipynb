{
  "cells": [
    {
      "cell_type": "markdown",
      "metadata": {
        "id": "view-in-github",
        "colab_type": "text"
      },
      "source": [
        "<a href=\"https://colab.research.google.com/github/BankNatchapol/Comparison-of-Quantum-Gradient/blob/main/discrete_vs_continuous/sampling_continuous_gradient_comparison.ipynb\" target=\"_parent\"><img src=\"https://colab.research.google.com/assets/colab-badge.svg\" alt=\"Open In Colab\"/></a>"
      ]
    },
    {
      "cell_type": "code",
      "execution_count": 2,
      "metadata": {
        "id": "SBqFCoePuw6c",
        "colab": {
          "base_uri": "https://localhost:8080/"
        },
        "outputId": "78e88a3d-62dd-40de-cfc9-41c04785b172"
      },
      "outputs": [
        {
          "output_type": "stream",
          "name": "stdout",
          "text": [
            "Collecting pennylane-sf\n",
            "  Downloading PennyLane_SF-0.20.0-py3-none-any.whl (29 kB)\n",
            "Collecting strawberryfields>=0.20\n",
            "  Downloading StrawberryFields-0.22.0-py3-none-any.whl (4.9 MB)\n",
            "\u001b[K     |████████████████████████████████| 4.9 MB 6.5 MB/s \n",
            "\u001b[?25hCollecting pennylane>=0.19\n",
            "  Downloading PennyLane-0.22.1-py3-none-any.whl (881 kB)\n",
            "\u001b[K     |████████████████████████████████| 881 kB 18.0 MB/s \n",
            "\u001b[?25hRequirement already satisfied: cachetools in /usr/local/lib/python3.7/dist-packages (from pennylane>=0.19->pennylane-sf) (4.2.4)\n",
            "Collecting toml\n",
            "  Downloading toml-0.10.2-py2.py3-none-any.whl (16 kB)\n",
            "Collecting pennylane-lightning>=0.22\n",
            "  Downloading PennyLane_Lightning-0.22.0-cp37-cp37m-manylinux_2_17_x86_64.manylinux2014_x86_64.whl (8.2 MB)\n",
            "\u001b[K     |████████████████████████████████| 8.2 MB 26.2 MB/s \n",
            "\u001b[?25hRequirement already satisfied: networkx in /usr/local/lib/python3.7/dist-packages (from pennylane>=0.19->pennylane-sf) (2.6.3)\n",
            "Collecting semantic-version==2.6\n",
            "  Downloading semantic_version-2.6.0-py3-none-any.whl (14 kB)\n",
            "Collecting retworkx\n",
            "  Downloading retworkx-0.11.0-cp37-cp37m-manylinux_2_5_x86_64.manylinux1_x86_64.manylinux_2_12_x86_64.manylinux2010_x86_64.whl (1.6 MB)\n",
            "\u001b[K     |████████████████████████████████| 1.6 MB 38.9 MB/s \n",
            "\u001b[?25hRequirement already satisfied: numpy in /usr/local/lib/python3.7/dist-packages (from pennylane>=0.19->pennylane-sf) (1.21.5)\n",
            "Requirement already satisfied: autograd in /usr/local/lib/python3.7/dist-packages (from pennylane>=0.19->pennylane-sf) (1.3)\n",
            "Requirement already satisfied: appdirs in /usr/local/lib/python3.7/dist-packages (from pennylane>=0.19->pennylane-sf) (1.4.4)\n",
            "Requirement already satisfied: scipy in /usr/local/lib/python3.7/dist-packages (from pennylane>=0.19->pennylane-sf) (1.4.1)\n",
            "Collecting autoray\n",
            "  Downloading autoray-0.2.5-py3-none-any.whl (16 kB)\n",
            "Collecting ninja\n",
            "  Downloading ninja-1.10.2.3-py2.py3-none-manylinux_2_5_x86_64.manylinux1_x86_64.whl (108 kB)\n",
            "\u001b[K     |████████████████████████████████| 108 kB 41.5 MB/s \n",
            "\u001b[?25hCollecting urllib3>=1.25.3\n",
            "  Downloading urllib3-1.26.9-py2.py3-none-any.whl (138 kB)\n",
            "\u001b[K     |████████████████████████████████| 138 kB 50.2 MB/s \n",
            "\u001b[?25hCollecting quantum-blackbird>=0.3.0\n",
            "  Downloading quantum_blackbird-0.4.0-py3-none-any.whl (47 kB)\n",
            "\u001b[K     |████████████████████████████████| 47 kB 4.6 MB/s \n",
            "\u001b[?25hRequirement already satisfied: sympy>=1.5 in /usr/local/lib/python3.7/dist-packages (from strawberryfields>=0.20->pennylane-sf) (1.7.1)\n",
            "Requirement already satisfied: numba in /usr/local/lib/python3.7/dist-packages (from strawberryfields>=0.20->pennylane-sf) (0.51.2)\n",
            "Collecting thewalrus>=0.18.0\n",
            "  Downloading thewalrus-0.19.0-py3-none-any.whl (83 kB)\n",
            "\u001b[K     |████████████████████████████████| 83 kB 2.2 MB/s \n",
            "\u001b[?25hCollecting quantum-xir>=0.1.1\n",
            "  Downloading quantum_xir-0.2.1-py3-none-any.whl (27 kB)\n",
            "Requirement already satisfied: python-dateutil>=2.8.0 in /usr/local/lib/python3.7/dist-packages (from strawberryfields>=0.20->pennylane-sf) (2.8.2)\n",
            "Collecting xanadu-cloud-client>=0.1.1\n",
            "  Downloading xanadu_cloud_client-0.1.2-py3-none-any.whl (23 kB)\n",
            "Requirement already satisfied: requests>=2.22.0 in /usr/local/lib/python3.7/dist-packages (from strawberryfields>=0.20->pennylane-sf) (2.23.0)\n",
            "Requirement already satisfied: six>=1.5 in /usr/local/lib/python3.7/dist-packages (from python-dateutil>=2.8.0->strawberryfields>=0.20->pennylane-sf) (1.15.0)\n",
            "Collecting antlr4-python3-runtime==4.8\n",
            "  Downloading antlr4-python3-runtime-4.8.tar.gz (112 kB)\n",
            "\u001b[K     |████████████████████████████████| 112 kB 37.6 MB/s \n",
            "\u001b[?25hCollecting lark-parser>=0.11.0\n",
            "  Downloading lark_parser-0.12.0-py2.py3-none-any.whl (103 kB)\n",
            "\u001b[K     |████████████████████████████████| 103 kB 32.3 MB/s \n",
            "\u001b[?25hCollecting urllib3>=1.25.3\n",
            "  Downloading urllib3-1.25.11-py2.py3-none-any.whl (127 kB)\n",
            "\u001b[K     |████████████████████████████████| 127 kB 8.7 MB/s \n",
            "\u001b[?25hRequirement already satisfied: idna<3,>=2.5 in /usr/local/lib/python3.7/dist-packages (from requests>=2.22.0->strawberryfields>=0.20->pennylane-sf) (2.10)\n",
            "Requirement already satisfied: chardet<4,>=3.0.2 in /usr/local/lib/python3.7/dist-packages (from requests>=2.22.0->strawberryfields>=0.20->pennylane-sf) (3.0.4)\n",
            "Requirement already satisfied: certifi>=2017.4.17 in /usr/local/lib/python3.7/dist-packages (from requests>=2.22.0->strawberryfields>=0.20->pennylane-sf) (2021.10.8)\n",
            "Requirement already satisfied: mpmath>=0.19 in /usr/local/lib/python3.7/dist-packages (from sympy>=1.5->strawberryfields>=0.20->pennylane-sf) (1.2.1)\n",
            "Requirement already satisfied: dask[delayed] in /usr/local/lib/python3.7/dist-packages (from thewalrus>=0.18.0->strawberryfields>=0.20->pennylane-sf) (2.12.0)\n",
            "Requirement already satisfied: llvmlite<0.35,>=0.34.0.dev0 in /usr/local/lib/python3.7/dist-packages (from numba->strawberryfields>=0.20->pennylane-sf) (0.34.0)\n",
            "Requirement already satisfied: setuptools in /usr/local/lib/python3.7/dist-packages (from numba->strawberryfields>=0.20->pennylane-sf) (57.4.0)\n",
            "Collecting fire\n",
            "  Downloading fire-0.4.0.tar.gz (87 kB)\n",
            "\u001b[K     |████████████████████████████████| 87 kB 5.2 MB/s \n",
            "\u001b[?25hCollecting pydantic[dotenv]\n",
            "  Downloading pydantic-1.9.0-cp37-cp37m-manylinux_2_17_x86_64.manylinux2014_x86_64.whl (10.9 MB)\n",
            "\u001b[K     |████████████████████████████████| 10.9 MB 22.4 MB/s \n",
            "\u001b[?25hRequirement already satisfied: future>=0.15.2 in /usr/local/lib/python3.7/dist-packages (from autograd->pennylane>=0.19->pennylane-sf) (0.16.0)\n",
            "Requirement already satisfied: cloudpickle>=0.2.1 in /usr/local/lib/python3.7/dist-packages (from dask[delayed]->thewalrus>=0.18.0->strawberryfields>=0.20->pennylane-sf) (1.3.0)\n",
            "Requirement already satisfied: toolz>=0.7.3 in /usr/local/lib/python3.7/dist-packages (from dask[delayed]->thewalrus>=0.18.0->strawberryfields>=0.20->pennylane-sf) (0.11.2)\n",
            "Requirement already satisfied: termcolor in /usr/local/lib/python3.7/dist-packages (from fire->xanadu-cloud-client>=0.1.1->strawberryfields>=0.20->pennylane-sf) (1.1.0)\n",
            "Requirement already satisfied: typing-extensions>=3.7.4.3 in /usr/local/lib/python3.7/dist-packages (from pydantic[dotenv]->xanadu-cloud-client>=0.1.1->strawberryfields>=0.20->pennylane-sf) (3.10.0.2)\n",
            "Collecting python-dotenv>=0.10.4\n",
            "  Downloading python_dotenv-0.20.0-py3-none-any.whl (17 kB)\n",
            "Building wheels for collected packages: antlr4-python3-runtime, fire\n",
            "  Building wheel for antlr4-python3-runtime (setup.py) ... \u001b[?25l\u001b[?25hdone\n",
            "  Created wheel for antlr4-python3-runtime: filename=antlr4_python3_runtime-4.8-py3-none-any.whl size=141230 sha256=a4bdfd2e7b712740715eae71400024c7cd2e2e0f8fd8352f29f31d55cee0a383\n",
            "  Stored in directory: /root/.cache/pip/wheels/ca/33/b7/336836125fc9bb4ceaa4376d8abca10ca8bc84ddc824baea6c\n",
            "  Building wheel for fire (setup.py) ... \u001b[?25l\u001b[?25hdone\n",
            "  Created wheel for fire: filename=fire-0.4.0-py2.py3-none-any.whl size=115942 sha256=209b43c51222de7c42065f728483468418f942a68bb927660063e6d095afedfa\n",
            "  Stored in directory: /root/.cache/pip/wheels/8a/67/fb/2e8a12fa16661b9d5af1f654bd199366799740a85c64981226\n",
            "Successfully built antlr4-python3-runtime fire\n",
            "Installing collected packages: urllib3, python-dotenv, pydantic, ninja, lark-parser, fire, antlr4-python3-runtime, xanadu-cloud-client, toml, thewalrus, semantic-version, retworkx, quantum-xir, quantum-blackbird, pennylane-lightning, autoray, strawberryfields, pennylane, pennylane-sf\n",
            "  Attempting uninstall: urllib3\n",
            "    Found existing installation: urllib3 1.24.3\n",
            "    Uninstalling urllib3-1.24.3:\n",
            "      Successfully uninstalled urllib3-1.24.3\n",
            "\u001b[31mERROR: pip's dependency resolver does not currently take into account all the packages that are installed. This behaviour is the source of the following dependency conflicts.\n",
            "datascience 0.10.6 requires folium==0.2.1, but you have folium 0.8.3 which is incompatible.\u001b[0m\n",
            "Successfully installed antlr4-python3-runtime-4.8 autoray-0.2.5 fire-0.4.0 lark-parser-0.12.0 ninja-1.10.2.3 pennylane-0.22.1 pennylane-lightning-0.22.0 pennylane-sf-0.20.0 pydantic-1.9.0 python-dotenv-0.20.0 quantum-blackbird-0.4.0 quantum-xir-0.2.1 retworkx-0.11.0 semantic-version-2.6.0 strawberryfields-0.22.0 thewalrus-0.19.0 toml-0.10.2 urllib3-1.25.11 xanadu-cloud-client-0.1.2\n",
            "Collecting qiskit\n",
            "  Downloading qiskit-0.34.2.tar.gz (13 kB)\n",
            "Collecting qiskit-terra==0.19.2\n",
            "  Downloading qiskit_terra-0.19.2-cp37-cp37m-manylinux_2_12_x86_64.manylinux2010_x86_64.whl (6.5 MB)\n",
            "\u001b[K     |████████████████████████████████| 6.5 MB 4.3 MB/s \n",
            "\u001b[?25hCollecting qiskit-aer==0.10.3\n",
            "  Downloading qiskit_aer-0.10.3-cp37-cp37m-manylinux_2_12_x86_64.manylinux2010_x86_64.whl (18.0 MB)\n",
            "\u001b[K     |████████████████████████████████| 18.0 MB 2.8 MB/s \n",
            "\u001b[?25hCollecting qiskit-ibmq-provider==0.18.3\n",
            "  Downloading qiskit_ibmq_provider-0.18.3-py3-none-any.whl (238 kB)\n",
            "\u001b[K     |████████████████████████████████| 238 kB 10.6 MB/s \n",
            "\u001b[?25hCollecting qiskit-ignis==0.7.0\n",
            "  Downloading qiskit_ignis-0.7.0-py3-none-any.whl (200 kB)\n",
            "\u001b[K     |████████████████████████████████| 200 kB 10.2 MB/s \n",
            "\u001b[?25hRequirement already satisfied: scipy>=1.0 in /usr/local/lib/python3.7/dist-packages (from qiskit-aer==0.10.3->qiskit) (1.4.1)\n",
            "Requirement already satisfied: numpy>=1.16.3 in /usr/local/lib/python3.7/dist-packages (from qiskit-aer==0.10.3->qiskit) (1.21.5)\n",
            "Collecting requests-ntlm>=1.1.0\n",
            "  Downloading requests_ntlm-1.1.0-py2.py3-none-any.whl (5.7 kB)\n",
            "Requirement already satisfied: requests>=2.19 in /usr/local/lib/python3.7/dist-packages (from qiskit-ibmq-provider==0.18.3->qiskit) (2.23.0)\n",
            "Requirement already satisfied: urllib3>=1.21.1 in /usr/local/lib/python3.7/dist-packages (from qiskit-ibmq-provider==0.18.3->qiskit) (1.25.11)\n",
            "Requirement already satisfied: python-dateutil>=2.8.0 in /usr/local/lib/python3.7/dist-packages (from qiskit-ibmq-provider==0.18.3->qiskit) (2.8.2)\n",
            "Collecting websocket-client>=1.0.1\n",
            "  Downloading websocket_client-1.3.1-py3-none-any.whl (54 kB)\n",
            "\u001b[K     |████████████████████████████████| 54 kB 2.1 MB/s \n",
            "\u001b[?25hRequirement already satisfied: setuptools>=40.1.0 in /usr/local/lib/python3.7/dist-packages (from qiskit-ignis==0.7.0->qiskit) (57.4.0)\n",
            "Requirement already satisfied: retworkx>=0.8.0 in /usr/local/lib/python3.7/dist-packages (from qiskit-ignis==0.7.0->qiskit) (0.11.0)\n",
            "Requirement already satisfied: sympy>=1.3 in /usr/local/lib/python3.7/dist-packages (from qiskit-terra==0.19.2->qiskit) (1.7.1)\n",
            "Requirement already satisfied: psutil>=5 in /usr/local/lib/python3.7/dist-packages (from qiskit-terra==0.19.2->qiskit) (5.4.8)\n",
            "Collecting python-constraint>=1.4\n",
            "  Downloading python-constraint-1.4.0.tar.bz2 (18 kB)\n",
            "Collecting stevedore>=3.0.0\n",
            "  Downloading stevedore-3.5.0-py3-none-any.whl (49 kB)\n",
            "\u001b[K     |████████████████████████████████| 49 kB 5.2 MB/s \n",
            "\u001b[?25hCollecting scipy>=1.0\n",
            "  Downloading scipy-1.7.3-cp37-cp37m-manylinux_2_12_x86_64.manylinux2010_x86_64.whl (38.1 MB)\n",
            "\u001b[K     |████████████████████████████████| 38.1 MB 1.3 MB/s \n",
            "\u001b[?25hCollecting tweedledum<2.0,>=1.1\n",
            "  Downloading tweedledum-1.1.1-cp37-cp37m-manylinux_2_12_x86_64.manylinux2010_x86_64.whl (943 kB)\n",
            "\u001b[K     |████████████████████████████████| 943 kB 28.9 MB/s \n",
            "\u001b[?25hRequirement already satisfied: dill>=0.3 in /usr/local/lib/python3.7/dist-packages (from qiskit-terra==0.19.2->qiskit) (0.3.4)\n",
            "Collecting ply>=3.10\n",
            "  Downloading ply-3.11-py2.py3-none-any.whl (49 kB)\n",
            "\u001b[K     |████████████████████████████████| 49 kB 5.0 MB/s \n",
            "\u001b[?25hCollecting symengine>=0.8\n",
            "  Downloading symengine-0.9.2-cp37-cp37m-manylinux2010_x86_64.whl (37.5 MB)\n",
            "\u001b[K     |████████████████████████████████| 37.5 MB 19 kB/s \n",
            "\u001b[?25hRequirement already satisfied: six>=1.5 in /usr/local/lib/python3.7/dist-packages (from python-dateutil>=2.8.0->qiskit-ibmq-provider==0.18.3->qiskit) (1.15.0)\n",
            "Requirement already satisfied: idna<3,>=2.5 in /usr/local/lib/python3.7/dist-packages (from requests>=2.19->qiskit-ibmq-provider==0.18.3->qiskit) (2.10)\n",
            "Requirement already satisfied: chardet<4,>=3.0.2 in /usr/local/lib/python3.7/dist-packages (from requests>=2.19->qiskit-ibmq-provider==0.18.3->qiskit) (3.0.4)\n",
            "Requirement already satisfied: certifi>=2017.4.17 in /usr/local/lib/python3.7/dist-packages (from requests>=2.19->qiskit-ibmq-provider==0.18.3->qiskit) (2021.10.8)\n",
            "Collecting ntlm-auth>=1.0.2\n",
            "  Downloading ntlm_auth-1.5.0-py2.py3-none-any.whl (29 kB)\n",
            "Collecting cryptography>=1.3\n",
            "  Downloading cryptography-36.0.2-cp36-abi3-manylinux_2_24_x86_64.whl (3.6 MB)\n",
            "\u001b[K     |████████████████████████████████| 3.6 MB 30.5 MB/s \n",
            "\u001b[?25hRequirement already satisfied: cffi>=1.12 in /usr/local/lib/python3.7/dist-packages (from cryptography>=1.3->requests-ntlm>=1.1.0->qiskit-ibmq-provider==0.18.3->qiskit) (1.15.0)\n",
            "Requirement already satisfied: pycparser in /usr/local/lib/python3.7/dist-packages (from cffi>=1.12->cryptography>=1.3->requests-ntlm>=1.1.0->qiskit-ibmq-provider==0.18.3->qiskit) (2.21)\n",
            "Requirement already satisfied: importlib-metadata>=1.7.0 in /usr/local/lib/python3.7/dist-packages (from stevedore>=3.0.0->qiskit-terra==0.19.2->qiskit) (4.11.3)\n",
            "Collecting pbr!=2.1.0,>=2.0.0\n",
            "  Downloading pbr-5.8.1-py2.py3-none-any.whl (113 kB)\n",
            "\u001b[K     |████████████████████████████████| 113 kB 47.2 MB/s \n",
            "\u001b[?25hRequirement already satisfied: zipp>=0.5 in /usr/local/lib/python3.7/dist-packages (from importlib-metadata>=1.7.0->stevedore>=3.0.0->qiskit-terra==0.19.2->qiskit) (3.7.0)\n",
            "Requirement already satisfied: typing-extensions>=3.6.4 in /usr/local/lib/python3.7/dist-packages (from importlib-metadata>=1.7.0->stevedore>=3.0.0->qiskit-terra==0.19.2->qiskit) (3.10.0.2)\n",
            "Requirement already satisfied: mpmath>=0.19 in /usr/local/lib/python3.7/dist-packages (from sympy>=1.3->qiskit-terra==0.19.2->qiskit) (1.2.1)\n",
            "Building wheels for collected packages: qiskit, python-constraint\n",
            "  Building wheel for qiskit (setup.py) ... \u001b[?25l\u001b[?25hdone\n",
            "  Created wheel for qiskit: filename=qiskit-0.34.2-py3-none-any.whl size=11805 sha256=a1c0797811537b8e9612825d630480d8480a000a8df2ae30de0b2aa1f8519780\n",
            "  Stored in directory: /root/.cache/pip/wheels/62/77/65/cda6eedfdd2a525bd3f479a4386930ae3088a1eb01f8c944ed\n",
            "  Building wheel for python-constraint (setup.py) ... \u001b[?25l\u001b[?25hdone\n",
            "  Created wheel for python-constraint: filename=python_constraint-1.4.0-py2.py3-none-any.whl size=24081 sha256=a05a849829e8c3df4d4f7e0c75d770e035c6101c87777117e6f78b5d9e92c87d\n",
            "  Stored in directory: /root/.cache/pip/wheels/07/27/db/1222c80eb1e431f3d2199c12569cb1cac60f562a451fe30479\n",
            "Successfully built qiskit python-constraint\n",
            "Installing collected packages: pbr, tweedledum, symengine, stevedore, scipy, python-constraint, ply, ntlm-auth, cryptography, websocket-client, requests-ntlm, qiskit-terra, qiskit-ignis, qiskit-ibmq-provider, qiskit-aer, qiskit\n",
            "  Attempting uninstall: scipy\n",
            "    Found existing installation: scipy 1.4.1\n",
            "    Uninstalling scipy-1.4.1:\n",
            "      Successfully uninstalled scipy-1.4.1\n",
            "\u001b[31mERROR: pip's dependency resolver does not currently take into account all the packages that are installed. This behaviour is the source of the following dependency conflicts.\n",
            "albumentations 0.1.12 requires imgaug<0.2.7,>=0.2.5, but you have imgaug 0.2.9 which is incompatible.\u001b[0m\n",
            "Successfully installed cryptography-36.0.2 ntlm-auth-1.5.0 pbr-5.8.1 ply-3.11 python-constraint-1.4.0 qiskit-0.34.2 qiskit-aer-0.10.3 qiskit-ibmq-provider-0.18.3 qiskit-ignis-0.7.0 qiskit-terra-0.19.2 requests-ntlm-1.1.0 scipy-1.7.3 stevedore-3.5.0 symengine-0.9.2 tweedledum-1.1.1 websocket-client-1.3.1\n",
            "Collecting qiskit_optimization\n",
            "  Downloading qiskit_optimization-0.3.1-py3-none-any.whl (154 kB)\n",
            "\u001b[K     |████████████████████████████████| 154 kB 4.4 MB/s \n",
            "\u001b[?25hRequirement already satisfied: qiskit-terra>=0.19.1 in /usr/local/lib/python3.7/dist-packages (from qiskit_optimization) (0.19.2)\n",
            "Requirement already satisfied: setuptools>=40.1.0 in /usr/local/lib/python3.7/dist-packages (from qiskit_optimization) (57.4.0)\n",
            "Requirement already satisfied: scipy>=1.4 in /usr/local/lib/python3.7/dist-packages (from qiskit_optimization) (1.7.3)\n",
            "Collecting docplex>=2.21.207\n",
            "  Downloading docplex-2.23.222.tar.gz (610 kB)\n",
            "\u001b[K     |████████████████████████████████| 610 kB 29.4 MB/s \n",
            "\u001b[?25hCollecting networkx<2.6,>=2.2\n",
            "  Downloading networkx-2.5.1-py3-none-any.whl (1.6 MB)\n",
            "\u001b[K     |████████████████████████████████| 1.6 MB 51.1 MB/s \n",
            "\u001b[?25hRequirement already satisfied: numpy>=1.17 in /usr/local/lib/python3.7/dist-packages (from qiskit_optimization) (1.21.5)\n",
            "Requirement already satisfied: six in /usr/local/lib/python3.7/dist-packages (from docplex>=2.21.207->qiskit_optimization) (1.15.0)\n",
            "Requirement already satisfied: decorator<5,>=4.3 in /usr/local/lib/python3.7/dist-packages (from networkx<2.6,>=2.2->qiskit_optimization) (4.4.2)\n",
            "Requirement already satisfied: symengine>=0.8 in /usr/local/lib/python3.7/dist-packages (from qiskit-terra>=0.19.1->qiskit_optimization) (0.9.2)\n",
            "Requirement already satisfied: ply>=3.10 in /usr/local/lib/python3.7/dist-packages (from qiskit-terra>=0.19.1->qiskit_optimization) (3.11)\n",
            "Requirement already satisfied: sympy>=1.3 in /usr/local/lib/python3.7/dist-packages (from qiskit-terra>=0.19.1->qiskit_optimization) (1.7.1)\n",
            "Requirement already satisfied: stevedore>=3.0.0 in /usr/local/lib/python3.7/dist-packages (from qiskit-terra>=0.19.1->qiskit_optimization) (3.5.0)\n",
            "Requirement already satisfied: python-constraint>=1.4 in /usr/local/lib/python3.7/dist-packages (from qiskit-terra>=0.19.1->qiskit_optimization) (1.4.0)\n",
            "Requirement already satisfied: psutil>=5 in /usr/local/lib/python3.7/dist-packages (from qiskit-terra>=0.19.1->qiskit_optimization) (5.4.8)\n",
            "Requirement already satisfied: tweedledum<2.0,>=1.1 in /usr/local/lib/python3.7/dist-packages (from qiskit-terra>=0.19.1->qiskit_optimization) (1.1.1)\n",
            "Requirement already satisfied: retworkx>=0.10.1 in /usr/local/lib/python3.7/dist-packages (from qiskit-terra>=0.19.1->qiskit_optimization) (0.11.0)\n",
            "Requirement already satisfied: dill>=0.3 in /usr/local/lib/python3.7/dist-packages (from qiskit-terra>=0.19.1->qiskit_optimization) (0.3.4)\n",
            "Requirement already satisfied: python-dateutil>=2.8.0 in /usr/local/lib/python3.7/dist-packages (from qiskit-terra>=0.19.1->qiskit_optimization) (2.8.2)\n",
            "Requirement already satisfied: pbr!=2.1.0,>=2.0.0 in /usr/local/lib/python3.7/dist-packages (from stevedore>=3.0.0->qiskit-terra>=0.19.1->qiskit_optimization) (5.8.1)\n",
            "Requirement already satisfied: importlib-metadata>=1.7.0 in /usr/local/lib/python3.7/dist-packages (from stevedore>=3.0.0->qiskit-terra>=0.19.1->qiskit_optimization) (4.11.3)\n",
            "Requirement already satisfied: zipp>=0.5 in /usr/local/lib/python3.7/dist-packages (from importlib-metadata>=1.7.0->stevedore>=3.0.0->qiskit-terra>=0.19.1->qiskit_optimization) (3.7.0)\n",
            "Requirement already satisfied: typing-extensions>=3.6.4 in /usr/local/lib/python3.7/dist-packages (from importlib-metadata>=1.7.0->stevedore>=3.0.0->qiskit-terra>=0.19.1->qiskit_optimization) (3.10.0.2)\n",
            "Requirement already satisfied: mpmath>=0.19 in /usr/local/lib/python3.7/dist-packages (from sympy>=1.3->qiskit-terra>=0.19.1->qiskit_optimization) (1.2.1)\n",
            "Building wheels for collected packages: docplex\n",
            "  Building wheel for docplex (setup.py) ... \u001b[?25l\u001b[?25hdone\n",
            "  Created wheel for docplex: filename=docplex-2.23.222-py3-none-any.whl size=662847 sha256=6c54ad0350acd10f656c30ca05cd4feb7639afb9b807a2daa3fec43661541275\n",
            "  Stored in directory: /root/.cache/pip/wheels/a7/c9/fb/cee5a89f304e77a39c466e625ac2830434b76eb8384999d116\n",
            "Successfully built docplex\n",
            "Installing collected packages: networkx, docplex, qiskit-optimization\n",
            "  Attempting uninstall: networkx\n",
            "    Found existing installation: networkx 2.6.3\n",
            "    Uninstalling networkx-2.6.3:\n",
            "      Successfully uninstalled networkx-2.6.3\n",
            "\u001b[31mERROR: pip's dependency resolver does not currently take into account all the packages that are installed. This behaviour is the source of the following dependency conflicts.\n",
            "albumentations 0.1.12 requires imgaug<0.2.7,>=0.2.5, but you have imgaug 0.2.9 which is incompatible.\u001b[0m\n",
            "Successfully installed docplex-2.23.222 networkx-2.5.1 qiskit-optimization-0.3.1\n"
          ]
        }
      ],
      "source": [
        "!pip install pennylane-sf\n",
        "!pip install qiskit\n",
        "!pip install qiskit_optimization"
      ]
    },
    {
      "cell_type": "code",
      "execution_count": 3,
      "metadata": {
        "id": "F5tj-C8xu5W_"
      },
      "outputs": [],
      "source": [
        "import pennylane as qml\n",
        "from pennylane import numpy as np\n",
        "\n",
        "from pandas.plotting import table \n",
        "import pandas as pd\n",
        "import time \n",
        "\n",
        "import networkx as nx\n",
        "import matplotlib.pyplot as plt\n",
        "\n",
        "import plotly\n",
        "import plotly.graph_objects as go\n",
        "import plotly.express as px\n",
        "\n",
        "from docplex.mp.model import Model\n",
        "from qiskit.opflow import Z, X, Y, I\n",
        "from qiskit_optimization.translators import from_docplex_mp\n",
        "from qiskit_optimization.applications import Maxcut, Clique, Knapsack\n",
        "from qiskit_optimization.converters import QuadraticProgramToQubo"
      ]
    },
    {
      "cell_type": "code",
      "execution_count": 4,
      "metadata": {
        "cellView": "form",
        "id": "kVHFu8tDuDm2"
      },
      "outputs": [],
      "source": [
        "#@title Auxilary Function\n",
        "def Had(wires):\n",
        "  qml.RY(np.pi/2, wires=wires)\n",
        "  qml.RX(np.pi, wires=wires)\n",
        "\n",
        "\n",
        "def fully_connected_layer(num_wires):\n",
        "  if num_wires>1:\n",
        "    for wire in range(num_wires-1):\n",
        "      qml.CNOT(wires=[wire, wire+1])\n",
        "    qml.CNOT(wires=[wire+1, 0])\n",
        "\n",
        "def fully_connected_layer_cv(num_wires, var):\n",
        "  if num_wires>1:\n",
        "    for wire in range(num_wires-1):\n",
        "      qml.Beamsplitter(var[wire], np.pi/2, wires=[wire, wire+1])\n",
        "    qml.Beamsplitter(var[-1], np.pi/2, wires=[wire+1, 0])\n",
        "\n",
        "def str2gate(gate):\n",
        "  if gate == 'H':\n",
        "    return Had\n",
        "  elif gate == 'X':\n",
        "    return qml.PauliX\n",
        "  elif gate == 'Y':\n",
        "    return qml.PauliY\n",
        "  elif gate == 'Z':\n",
        "    return qml.PauliZ\n",
        "  elif gate == 'RX':\n",
        "    return qml.RX\n",
        "  elif gate == 'RY':\n",
        "    return qml.RY\n",
        "  elif gate == 'RZ':\n",
        "    return qml.RZ\n",
        "  else:\n",
        "    assert 0, \"Gate not support.\"\n",
        "\n",
        "def controlStr(gate):\n",
        "  if gate == 'RX':\n",
        "    return qml.CNOT\n",
        "  elif gate == 'RY':\n",
        "    return qml.CY\n",
        "  elif gate == 'RZ':\n",
        "    return qml.CZ\n",
        "  else:\n",
        "    assert 0, \"Gate not support.\"\n",
        "    \n",
        "def hamiltonian_from_qiskit(sum_op):\n",
        "\n",
        "\t'''\n",
        "\tThis function takes a qiskit.PauliSumOp as input and\n",
        "\tgives back a Pennylane Hamiltonian as output\n",
        "\n",
        "\tsum_op  = qiskit.PauliSumOp\n",
        "\n",
        "\t'''\n",
        "\top      = sum_op.primitive.to_list()\n",
        "\tn_terms = len(op)\n",
        "\tcoeffs  = []\n",
        "\tpaulis  = []\n",
        "\n",
        "\tfor i in range(n_terms):\n",
        "\t\tpaulis.append(qml.grouping.string_to_pauli_word(\"\".join(list(reversed(op[i][0])))))\n",
        "\t\tcoeffs.append(op[i][1].real)\n",
        "\n",
        "\tp_op = qml.Hamiltonian(coeffs,paulis)\n",
        "\n",
        "\treturn p_op\n",
        "\n",
        "def hamiltonian_from_qiskit_lcu(sum_op):\n",
        "\n",
        "  '''\n",
        "  This function takes a qiskit.PauliSumOp as input and\n",
        "  gives back a Pennylane Hamiltonian as output\n",
        "\n",
        "  sum_op  = qiskit.PauliSumOp\n",
        "\n",
        "  '''\n",
        "  op      = sum_op.primitive.to_list()\n",
        "  n_terms = len(op)\n",
        "  coeffs  = []\n",
        "  paulis  = []\n",
        "\n",
        "  for i in range(n_terms):\n",
        "    if op[i][0]==\"I\":\n",
        "      paulis.append(qml.grouping.string_to_pauli_word(\"\".join(list(reversed(op[i][0])))))\n",
        "    else:\n",
        "      paulis.append(qml.grouping.string_to_pauli_word(\"\".join(list(reversed(op[i][0])))+\"Z\"))\n",
        "    coeffs.append(op[i][1].real)\n",
        "\n",
        "  p_op = qml.Hamiltonian(coeffs,paulis)\n",
        "\n",
        "  return p_op\n",
        "\n",
        "def get_adjacency_matrix(elist):\n",
        "  adjacency_matrix = np.zeros([num_wires, num_wires])\n",
        "\n",
        "  for i,j in elist:\n",
        "    adjacency_matrix[i, j] = 1.0\n",
        "    adjacency_matrix[j, i] = 1.0\n",
        "\n",
        "  return adjacency_matrix\n",
        "\n",
        "def draw_graph(elist, colors):\n",
        "  G = nx.Graph()\n",
        "  #G.add_nodes_from(np.arange(0, n, 1))\n",
        "  # tuple is (i,j,weight) where (i,j) is the edge\n",
        "  G.add_edges_from(elist)\n",
        "  pos = nx.spring_layout(G)\n",
        "  default_axes = plt.axes(frameon=True)\n",
        "  nx.draw_networkx(G, node_color=colors, node_size=600, alpha=0.8, ax=default_axes, pos=pos)\n",
        "\n",
        "def int_to_binary(value, size):\n",
        "  \"\"\"Function that converts an integer to a binary string.\"\"\"\n",
        "\n",
        "  bi = \"{0:b}\".format(value)\n",
        "  if len(bi)<size:\n",
        "    bi = \"0\"*(size-len(bi)) + bi\n",
        "  return bi"
      ]
    },
    {
      "cell_type": "markdown",
      "metadata": {
        "id": "cmviO3033yq1"
      },
      "source": [
        "# **Gradient methods**"
      ]
    },
    {
      "cell_type": "markdown",
      "metadata": {
        "id": "__wEBgF9oflu"
      },
      "source": [
        "## Continuous-variable"
      ]
    },
    {
      "cell_type": "markdown",
      "metadata": {
        "id": "paYNRIsEoze7"
      },
      "source": [
        "### Parameter shift rule"
      ]
    },
    {
      "cell_type": "code",
      "execution_count": 5,
      "metadata": {
        "id": "TWtFpF_iRDdd"
      },
      "outputs": [],
      "source": [
        "def parameter_shift_cv_term(qnode, params, i, j, gate):\n",
        "    s = 0.1\n",
        "    alpha = np.pi/2\n",
        "    \n",
        "\n",
        "    shifted = params.copy()\n",
        "\n",
        "    if gate == 'R' or gate == 'S2' or gate == 'D2' or gate == 'BS1':\n",
        "      shifted[i, j] += alpha\n",
        "      forward = qnode(shifted)  # forward evaluation\n",
        "\n",
        "      shifted[i, j] -= 2*alpha\n",
        "      backward = qnode(shifted) # backward evaluation\n",
        "\n",
        "      return (1/2) * (forward - backward)\n",
        "\n",
        "    elif gate == 'S1':\n",
        "      shifted[i, j] += s\n",
        "      forward = qnode(shifted)  # forward evaluation\n",
        "\n",
        "      shifted[i, j] -= 2*s\n",
        "      backward = qnode(shifted) # backward evaluation\n",
        "\n",
        "      return (1/(2*np.sinh(s))) * (forward - backward)\n",
        "    \n",
        "    elif gate == 'D1' or gate == 'QP':\n",
        "      shifted[i, j] += s\n",
        "      forward = qnode(shifted)  # forward evaluation\n",
        "\n",
        "      shifted[i, j] -= 2*s\n",
        "      backward = qnode(shifted) # backward evaluation\n",
        "\n",
        "      return (1/(2*s)) * (forward - backward)\n",
        "\n",
        "def parameter_shift_cv(qnode, params, ansatz_label_cv):\n",
        "\n",
        "    gradients = np.zeros_like((params))\n",
        "    for i in range(len(gradients)):\n",
        "        for j in range(len(gradients[0])):\n",
        "            gate = ansatz_label_cv[i*len(gradients[0]) + j]\n",
        "            gradients[i, j] += parameter_shift_cv_term(qnode, params, i, j, gate)\n",
        "\n",
        "    return gradients"
      ]
    },
    {
      "cell_type": "markdown",
      "metadata": {
        "id": "BDa9pqIbo1HZ"
      },
      "source": [
        "### Finite difference"
      ]
    },
    {
      "cell_type": "code",
      "execution_count": 6,
      "metadata": {
        "id": "0BeJhEzKRFJQ"
      },
      "outputs": [],
      "source": [
        "def finite_cv_term(qnode, params, i, j):\n",
        "    \n",
        "    eps = 0.01\n",
        "\n",
        "    shifted = params.copy()\n",
        "    \n",
        "    shifted[i, j] += eps\n",
        "    forward = qnode(shifted)  # forward evaluation\n",
        "\n",
        "    shifted[i, j] -= 2*eps\n",
        "    backward = qnode(shifted) # backward evaluation\n",
        "\n",
        "    return (1/(2*eps)) * (forward - backward)\n",
        "\n",
        "def finite_difference_cv(qnode, params):\n",
        "    gradients = np.zeros_like((params))\n",
        "    for i in range(len(gradients)):\n",
        "        for j in range(len(gradients[0])):\n",
        "            gradients[i, j] += finite_cv_term(qnode, params, i, j)\n",
        "\n",
        "    return gradients"
      ]
    },
    {
      "cell_type": "markdown",
      "metadata": {
        "id": "NWTYpAxymxP5"
      },
      "source": [
        "# **Problem Fomulation** "
      ]
    },
    {
      "cell_type": "markdown",
      "metadata": {
        "id": "0ycfqqLcwi9Y"
      },
      "source": [
        "## Max-Cut"
      ]
    },
    {
      "cell_type": "code",
      "execution_count": 7,
      "metadata": {
        "colab": {
          "base_uri": "https://localhost:8080/",
          "height": 248
        },
        "id": "h_A2OYHEnAxJ",
        "outputId": "482fa7aa-832a-4b3e-8145-0623adcab538"
      },
      "outputs": [
        {
          "output_type": "display_data",
          "data": {
            "text/plain": [
              "<Figure size 432x288 with 1 Axes>"
            ],
            "image/png": "[encoded data removed]"
          },
          "metadata": {}
        }
      ],
      "source": [
        "num_wires = 4  # Number of nodes in graph\n",
        "\n",
        "elist_maxcut = [(0, 1), (0, 2), (0, 3), (1, 2), (2, 3)]\n",
        "colors_maxcut = [\"r\" for node in range(num_wires)]\n",
        "\n",
        "draw_graph(elist_maxcut, colors_maxcut)"
      ]
    },
    {
      "cell_type": "code",
      "execution_count": 8,
      "metadata": {
        "colab": {
          "base_uri": "https://localhost:8080/"
        },
        "id": "s8nIxhQgr90x",
        "outputId": "9923e622-2ee5-4a4b-cafd-adea9ef8dfd3"
      },
      "outputs": [
        {
          "output_type": "stream",
          "name": "stdout",
          "text": [
            "\\ This file has been generated by DOcplex\n",
            "\\ ENCODING=ISO-8859-1\n",
            "\\Problem name: Max-cut\n",
            "\n",
            "Maximize\n",
            " obj: 3 x_0 + 2 x_1 + 3 x_2 + 2 x_3 + [ - 4 x_0*x_1 - 4 x_0*x_2 - 4 x_0*x_3\n",
            "      - 4 x_1*x_2 - 4 x_2*x_3 ]/2\n",
            "Subject To\n",
            "\n",
            "Bounds\n",
            " 0 <= x_0 <= 1\n",
            " 0 <= x_1 <= 1\n",
            " 0 <= x_2 <= 1\n",
            " 0 <= x_3 <= 1\n",
            "\n",
            "Binaries\n",
            " x_0 x_1 x_2 x_3\n",
            "End\n",
            "\n"
          ]
        }
      ],
      "source": [
        "adjacency_matrix_maxcut = get_adjacency_matrix(elist_maxcut)\n",
        "max_cut = Maxcut(adjacency_matrix_maxcut)\n",
        "qp_maxcut = max_cut.to_quadratic_program()\n",
        "print(qp_maxcut.export_as_lp_string())"
      ]
    },
    {
      "cell_type": "code",
      "execution_count": 9,
      "metadata": {
        "colab": {
          "base_uri": "https://localhost:8080/"
        },
        "id": "bJh8meYXu42W",
        "outputId": "0e899509-cc3e-483f-9050-4a7fb65aa9c5"
      },
      "outputs": [
        {
          "output_type": "stream",
          "name": "stdout",
          "text": [
            "Offset: -2.5 \n",
            "\n",
            "Ising Hamiltonian:\n",
            "\n",
            "  (0.5) [Z2 Z3]\n",
            "+ (0.5) [Z1 Z2]\n",
            "+ (0.5) [Z0 Z3]\n",
            "+ (0.5) [Z0 Z2]\n",
            "+ (0.5) [Z0 Z1]\n"
          ]
        }
      ],
      "source": [
        "qubitOp_maxcut, offset_maxcut = qp_maxcut.to_ising()\n",
        "H_maxcut = hamiltonian_from_qiskit(qubitOp_maxcut)\n",
        "H_maxcut_lcu = hamiltonian_from_qiskit_lcu(qubitOp_maxcut)\n",
        "print(\"Offset:\", offset_maxcut,\"\\n\")\n",
        "print(\"Ising Hamiltonian:\\n\")\n",
        "\n",
        "print(H_maxcut)"
      ]
    },
    {
      "cell_type": "markdown",
      "metadata": {
        "id": "JP7twTOrwsE5"
      },
      "source": [
        "## Clique"
      ]
    },
    {
      "cell_type": "code",
      "execution_count": 10,
      "metadata": {
        "colab": {
          "base_uri": "https://localhost:8080/",
          "height": 248
        },
        "id": "wi9JRqMzwrfJ",
        "outputId": "aba6f9ce-df47-4fe8-9f53-ce3df3aeb063"
      },
      "outputs": [
        {
          "output_type": "display_data",
          "data": {
            "text/plain": [
              "<Figure size 432x288 with 1 Axes>"
            ],
            "image/png": "[encoded data removed]"
          },
          "metadata": {}
        }
      ],
      "source": [
        "num_wires = 4  # Number of nodes in graph\n",
        "\n",
        "elist_clique = [(0, 1), (0, 2), (0, 3), (2, 3)]\n",
        "colors_clique = [\"r\" for node in range(num_wires)]\n",
        "\n",
        "draw_graph(elist_clique, colors_clique)"
      ]
    },
    {
      "cell_type": "code",
      "execution_count": 11,
      "metadata": {
        "colab": {
          "base_uri": "https://localhost:8080/"
        },
        "id": "UKC7ThKa0axi",
        "outputId": "e3338d5b-4762-4d7b-d07c-9e9d524ce36e"
      },
      "outputs": [
        {
          "output_type": "stream",
          "name": "stdout",
          "text": [
            "\\ This file has been generated by DOcplex\n",
            "\\ ENCODING=ISO-8859-1\n",
            "\\Problem name: Clique\n",
            "\n",
            "Maximize\n",
            " obj: x_0 + x_1 + x_2 + x_3\n",
            "Subject To\n",
            " c0: x_1 + x_2 <= 1\n",
            " c1: x_1 + x_3 <= 1\n",
            "\n",
            "Bounds\n",
            " 0 <= x_0 <= 1\n",
            " 0 <= x_1 <= 1\n",
            " 0 <= x_2 <= 1\n",
            " 0 <= x_3 <= 1\n",
            "\n",
            "Binaries\n",
            " x_0 x_1 x_2 x_3\n",
            "End\n",
            "\n"
          ]
        }
      ],
      "source": [
        "adjacency_matrix_clique = get_adjacency_matrix(elist_clique)\n",
        "clique = Clique(adjacency_matrix_clique)\n",
        "qp_clique = clique.to_quadratic_program()\n",
        "print(qp_clique.export_as_lp_string())"
      ]
    },
    {
      "cell_type": "code",
      "execution_count": 12,
      "metadata": {
        "colab": {
          "base_uri": "https://localhost:8080/"
        },
        "id": "T1G00BHZ0jkY",
        "outputId": "8603c598-3c28-4560-f347-3236bba5ad54"
      },
      "outputs": [
        {
          "output_type": "stream",
          "name": "stdout",
          "text": [
            "Offset: 0.5 \n",
            "\n",
            "Ising Hamiltonian:\n",
            "\n",
            "  (-2.0) [Z1]\n",
            "+ (-0.75) [Z3]\n",
            "+ (-0.75) [Z2]\n",
            "+ (0.5) [Z0]\n",
            "+ (1.25) [Z1 Z3]\n",
            "+ (1.25) [Z1 Z2]\n"
          ]
        }
      ],
      "source": [
        "qp2qubo = QuadraticProgramToQubo()\n",
        "qubo_clique = qp2qubo.convert(qp_clique)\n",
        "\n",
        "qubitOp_clique, offset_clique = qubo_clique.to_ising()\n",
        "H_clique = hamiltonian_from_qiskit(qubitOp_clique)\n",
        "H_clique_lcu = hamiltonian_from_qiskit_lcu(qubitOp_clique)\n",
        "\n",
        "print(\"Offset:\", offset_clique,\"\\n\")\n",
        "print(\"Ising Hamiltonian:\\n\")\n",
        "\n",
        "print(H_clique)"
      ]
    },
    {
      "cell_type": "markdown",
      "metadata": {
        "id": "eUxr-XqQ11hl"
      },
      "source": [
        "## Binary Linear Programming"
      ]
    },
    {
      "cell_type": "code",
      "execution_count": 13,
      "metadata": {
        "colab": {
          "base_uri": "https://localhost:8080/"
        },
        "id": "7PpGA_sn1By9",
        "outputId": "7a3c322a-fa32-4632-aa7f-2d22cd005d72"
      },
      "outputs": [
        {
          "output_type": "stream",
          "name": "stdout",
          "text": [
            "\\ This file has been generated by DOcplex\n",
            "\\ ENCODING=ISO-8859-1\n",
            "\\Problem name: docplex model\n",
            "\n",
            "Minimize\n",
            " obj: 195000 x1 + 96000 x2 + 87000 x3 + 120000 x4\n",
            "Subject To\n",
            " c0: x1 + x3 >= 1\n",
            " c1: x2 + x4 >= 1\n",
            "\n",
            "Bounds\n",
            " 0 <= x1 <= 1\n",
            " 0 <= x2 <= 1\n",
            " 0 <= x3 <= 1\n",
            " 0 <= x4 <= 1\n",
            "\n",
            "Binaries\n",
            " x1 x2 x3 x4\n",
            "End\n",
            "\n"
          ]
        }
      ],
      "source": [
        "blp = Model(\"docplex model\")\n",
        "x1 = blp.binary_var(\"x1\")\n",
        "x2 = blp.binary_var(\"x2\")\n",
        "x3 = blp.binary_var(\"x3\")\n",
        "x4 = blp.binary_var(\"x4\")\n",
        "\n",
        "blp.minimize(195000*x1 + 96000*x2 + 87000*x3 + 120000*x4)\n",
        "blp.add_constraint(x1  + x3 >= 1)\n",
        "blp.add_constraint(x2 + x4 >= 1)\n",
        "\n",
        "# load from a Docplex model\n",
        "qp_blp = from_docplex_mp(blp)\n",
        "print(qp_blp.export_as_lp_string())"
      ]
    },
    {
      "cell_type": "code",
      "execution_count": 14,
      "metadata": {
        "colab": {
          "base_uri": "https://localhost:8080/"
        },
        "id": "WVT7SBFc2N2c",
        "outputId": "e9be0f52-6036-4371-e4ca-2195e4948d31"
      },
      "outputs": [
        {
          "output_type": "stream",
          "name": "stdout",
          "text": [
            "Offset: 498000.5 \n",
            "\n",
            "Ising Hamiltonian:\n",
            "\n",
            "  (27000.25) [Z0]\n",
            "+ (64500.25) [Z3]\n",
            "+ (76500.25) [Z1]\n",
            "+ (81000.25) [Z2]\n",
            "+ (124500.25) [Z1 Z3]\n",
            "+ (124500.25) [Z0 Z2]\n"
          ]
        }
      ],
      "source": [
        "qubo_blp = qp2qubo.convert(qp_blp)\n",
        "\n",
        "qubitOp_blp, offset_blp = qubo_blp.to_ising()\n",
        "H_blp = hamiltonian_from_qiskit(qubitOp_blp)\n",
        "H_blp_lcu = hamiltonian_from_qiskit_lcu(qubitOp_blp)\n",
        "\n",
        "print(\"Offset:\", offset_blp,\"\\n\")\n",
        "print(\"Ising Hamiltonian:\\n\")\n",
        "\n",
        "print(H_blp)"
      ]
    },
    {
      "cell_type": "markdown",
      "metadata": {
        "id": "TagenFKd8Gxu"
      },
      "source": [
        "## Knapsack"
      ]
    },
    {
      "cell_type": "code",
      "execution_count": 15,
      "metadata": {
        "colab": {
          "base_uri": "https://localhost:8080/"
        },
        "id": "M5wvhAnO2vAW",
        "outputId": "38689cb8-d541-4a4a-98f6-d7fbcc491e25"
      },
      "outputs": [
        {
          "output_type": "stream",
          "name": "stdout",
          "text": [
            "\\ This file has been generated by DOcplex\n",
            "\\ ENCODING=ISO-8859-1\n",
            "\\Problem name: Knapsack\n",
            "\n",
            "Maximize\n",
            " obj: 2 x_0 + x_1\n",
            "Subject To\n",
            " c0: x_0 + 2 x_1 <= 3\n",
            "\n",
            "Bounds\n",
            " 0 <= x_0 <= 1\n",
            " 0 <= x_1 <= 1\n",
            "\n",
            "Binaries\n",
            " x_0 x_1\n",
            "End\n",
            "\n"
          ]
        }
      ],
      "source": [
        "weights = [1, 2]\n",
        "profits = [2, 1]\n",
        "max_weight = 3\n",
        "knapsack = Knapsack(profits, weights, max_weight)\n",
        "qp_ks = knapsack.to_quadratic_program()\n",
        "print(qp_ks.export_as_lp_string())"
      ]
    },
    {
      "cell_type": "code",
      "execution_count": 16,
      "metadata": {
        "colab": {
          "base_uri": "https://localhost:8080/"
        },
        "id": "8-CP0Veo8Qfq",
        "outputId": "8182efa7-30af-4622-8500-9253e7f760e4"
      },
      "outputs": [
        {
          "output_type": "stream",
          "name": "stdout",
          "text": [
            "Offset: 8.5 \n",
            "\n",
            "Ising Hamiltonian:\n",
            "\n",
            "  (0.5) [Z1]\n",
            "+ (1.0) [Z0]\n",
            "+ (2.0) [Z0 Z2]\n",
            "+ (4.0) [Z2 Z3]\n",
            "+ (4.0) [Z1 Z2]\n",
            "+ (4.0) [Z0 Z3]\n",
            "+ (4.0) [Z0 Z1]\n",
            "+ (8.0) [Z1 Z3]\n"
          ]
        }
      ],
      "source": [
        "qubo_ks = qp2qubo.convert(qp_ks)\n",
        "\n",
        "qubitOp_ks, offset_ks = qubo_ks.to_ising()\n",
        "H_ks = hamiltonian_from_qiskit(qubitOp_ks)\n",
        "H_ks_lcu = hamiltonian_from_qiskit_lcu(qubitOp_ks)\n",
        "\n",
        "print(\"Offset:\", offset_ks,\"\\n\")\n",
        "print(\"Ising Hamiltonian:\\n\")\n",
        "\n",
        "print(H_ks)"
      ]
    },
    {
      "cell_type": "markdown",
      "metadata": {
        "id": "7oOYIsk033zu"
      },
      "source": [
        "# **Optimization**"
      ]
    },
    {
      "cell_type": "markdown",
      "metadata": {
        "id": "kqRA7CVVRbzD"
      },
      "source": [
        "## Discrete-variable"
      ]
    },
    {
      "cell_type": "code",
      "execution_count": 17,
      "metadata": {
        "id": "cmWZibCLr1-6"
      },
      "outputs": [],
      "source": [
        "# guesting ansatz state\n",
        "\n",
        "def ansatz_label_cv(num_wires, num_layers):\n",
        "  label = []\n",
        "  for l in range(num_layers):\n",
        "    for wire in range(num_wires):\n",
        "      label.append(\"R\")\n",
        "      label.append(\"D1\")\n",
        "    for wire in range(num_wires):\n",
        "      label.append(\"BS1\")\n",
        "  return label\n",
        "\n",
        "def ansatz_cv(var, num_wires_cv):\n",
        "    for wire in range(num_wires_cv):\n",
        "      qml.Rotation(var[0+2*wire], wires=wire)\n",
        "      qml.Displacement(var[1+2*wire], 0.0, wires=wire)\n",
        "    fully_connected_layer_cv(num_wires, var[2+2*(num_wires_cv-1):])"
      ]
    },
    {
      "cell_type": "code",
      "execution_count": 32,
      "metadata": {
        "id": "jz3X0YaN5f65"
      },
      "outputs": [],
      "source": [
        "def cost_function_cv(var, problem, num_wires, cutoff_dim):\n",
        "  \n",
        "  dev = qml.device(\"strawberryfields.fock\", wires=num_wires, cutoff_dim=cutoff_dim, shots=1024)\n",
        "  @qml.qnode(dev)\n",
        "  def circuit(var):\n",
        "    for v in var: \n",
        "      ansatz_cv(v, num_wires)\n",
        "    return [qml.expval(qml.X(i)) for i in range(num_wires)]\n",
        "  \n",
        "  answer = circuit(var)\n",
        "  bi_answer = [a.numpy()/(cutoff_dim-1) for a in answer]\n",
        "  return problem.objective.evaluate(bi_answer)"
      ]
    },
    {
      "cell_type": "markdown",
      "metadata": {
        "id": "U-Uy87BL98bh"
      },
      "source": [
        "Probability distribution of estimated gate "
      ]
    },
    {
      "cell_type": "code",
      "execution_count": 33,
      "metadata": {
        "id": "1tV5rVji9kZv"
      },
      "outputs": [],
      "source": [
        "# prediction circuit\n",
        "def prediction_cv(var, num_param_gates, cutoff_dim):\n",
        "  num_wires = len(var[0])//num_param_gates\n",
        "  dev = qml.device(\"strawberryfields.fock\", wires=num_wires, cutoff_dim=cutoff_dim, shots=1024)\n",
        "  @qml.qnode(dev)\n",
        "  def circuit(var):\n",
        "    for v in var: \n",
        "      ansatz_cv(v, num_wires)\n",
        "    return [qml.expval(qml.X(i)) for i in range(num_wires)] \n",
        "  \n",
        "  answer = circuit(var)\n",
        "  bi_answer = [a.numpy()/(cutoff_dim-1) for a in answer]\n",
        "  return bi_answer"
      ]
    },
    {
      "cell_type": "code",
      "execution_count": 34,
      "metadata": {
        "id": "d6tRbcsMvM0F"
      },
      "outputs": [],
      "source": [
        "np.random.seed(2)\n",
        "num_layers = 2\n",
        "num_param_gates = 3\n",
        "cutoff_dim = 5\n",
        "\n",
        "var_init_maxcut = 0.5*np.random.randn(num_layers, num_param_gates*len(H_maxcut.wires))\n",
        "var_init_clique = 0.5*np.random.randn(num_layers, num_param_gates*len(H_clique.wires))\n",
        "var_init_blp = 0.5*np.random.randn(num_layers, num_param_gates*len(H_blp.wires))\n",
        "var_init_ks = 0.5*np.random.randn(num_layers, num_param_gates*len(H_ks.wires))\n",
        "\n",
        "steps = [2, 4, 6, 8, 10]"
      ]
    },
    {
      "cell_type": "code",
      "execution_count": 35,
      "metadata": {
        "colab": {
          "base_uri": "https://localhost:8080/"
        },
        "id": "29C6GDYBvUYp",
        "outputId": "05869c23-f12d-4fe8-bb76-a237d4a70d97"
      },
      "outputs": [
        {
          "output_type": "stream",
          "name": "stdout",
          "text": [
            "Initial cost:  0.5336725944833377\n"
          ]
        }
      ],
      "source": [
        "print(\"Initial cost: \", -cost_function_cv(var_init_maxcut, qp_maxcut, len(H_maxcut.wires), cutoff_dim))"
      ]
    },
    {
      "cell_type": "code",
      "execution_count": 36,
      "metadata": {
        "colab": {
          "base_uri": "https://localhost:8080/"
        },
        "id": "q0a18ZmFIPGh",
        "outputId": "22146e7e-c61f-4b34-d082-c87fb2ec3b7b"
      },
      "outputs": [
        {
          "output_type": "stream",
          "name": "stdout",
          "text": [
            "Prediction:  [-0.3087306983435831, 0.12527567101861573, 0.06103951487970346, -0.04865571758676593]\n"
          ]
        }
      ],
      "source": [
        "print(\"Prediction: \", prediction_cv(var_init_maxcut, num_param_gates, cutoff_dim))"
      ]
    },
    {
      "cell_type": "markdown",
      "metadata": {
        "id": "7OYcgWKJj3qJ"
      },
      "source": [
        "Function for training optimizer"
      ]
    },
    {
      "cell_type": "code",
      "execution_count": 37,
      "metadata": {
        "id": "xwTUGtTVN2dE"
      },
      "outputs": [],
      "source": [
        "def train(cost_fn, grad_fn, epochs, var_init, lr):\n",
        "  lost_list = []\n",
        "  time_list = []\n",
        "\n",
        "  var = var_init.copy()\n",
        "\n",
        "  opt = qml.RMSPropOptimizer(lr)\n",
        "\n",
        "  start = time.time()\n",
        "\n",
        "  for it in range(epochs):# while True:\n",
        "      var, _cost = opt.step_and_cost(cost_fn, var, grad_fn=grad_fn) \n",
        "      lost_list.append(_cost)\n",
        "\n",
        "      if it%10==0:\n",
        "        print(\"Iter: {:5d} | Cost: {:0.11f} \".format(it, _cost))\n",
        "\n",
        "      end = time.time()\n",
        "      t = end - start\n",
        "      time_list.append(t)\n",
        "\n",
        "  return lost_list, time_list, var"
      ]
    },
    {
      "cell_type": "markdown",
      "metadata": {
        "id": "GQ_q_OtUo69M"
      },
      "source": [
        "Varaible List"
      ]
    },
    {
      "cell_type": "code",
      "execution_count": 38,
      "metadata": {
        "id": "wFNkMofzoveu"
      },
      "outputs": [],
      "source": [
        "# lost list\n",
        "cvpsl = []\n",
        "cvfdl = []\n",
        "\n",
        "# time list\n",
        "cvpst = []\n",
        "cvfdt = []\n",
        "\n",
        "\n",
        "# lost list change num layer\n",
        "cvpslc = []\n",
        "cvfdlc = []\n",
        "\n",
        "# time list change num layer\n",
        "cvpstc = []\n",
        "cvfdtc = []"
      ]
    },
    {
      "cell_type": "markdown",
      "metadata": {
        "id": "C9k03eA5-l06"
      },
      "source": [
        "### Parameter Shift Rule"
      ]
    },
    {
      "cell_type": "markdown",
      "metadata": {
        "id": "84GFiSYSLbKU"
      },
      "source": [
        "#### Max-Cut"
      ]
    },
    {
      "cell_type": "code",
      "execution_count": 39,
      "metadata": {
        "colab": {
          "base_uri": "https://localhost:8080/"
        },
        "id": "0t_JHnhVvfzR",
        "outputId": "802a4fcd-4170-4177-e566-0e57f107abe3"
      },
      "outputs": [
        {
          "output_type": "stream",
          "name": "stdout",
          "text": [
            "Iter:     0 | Cost: 0.57175791624 \n",
            "Iter:    10 | Cost: -2.38771222697 \n",
            "Iter:    20 | Cost: -2.46891958391 \n",
            "Iter:    30 | Cost: -2.53159607383 \n",
            "Iter:    40 | Cost: -2.68634681885 \n",
            "Iter:    50 | Cost: -2.68157223381 \n",
            "Iter:    60 | Cost: -2.79024165274 \n",
            "Iter:    70 | Cost: -2.82770393669 \n",
            "Iter:    80 | Cost: -2.79284391770 \n",
            "Iter:    90 | Cost: -2.84310259006 \n",
            "Iter:   100 | Cost: -2.78890838610 \n"
          ]
        }
      ],
      "source": [
        "lr = 0.03\n",
        "epochs = 101\n",
        "\n",
        "label = ansatz_label_cv(len(H_maxcut.wires), len(var_init_maxcut))\n",
        "\n",
        "cost_fn = lambda v: -cost_function_cv(v, qp_maxcut, len(H_maxcut.wires), cutoff_dim)\n",
        "grad_fn = lambda var: parameter_shift_cv(lambda x: -cost_function_cv(x, qp_maxcut, len(H_maxcut.wires), cutoff_dim), var, label)\n",
        "lost_list, time_list, var = train(cost_fn, grad_fn, epochs, var_init_maxcut, lr)\n",
        "\n",
        "cvpsl.append(lost_list)\n",
        "cvpst.append(time_list)"
      ]
    },
    {
      "cell_type": "code",
      "execution_count": 40,
      "metadata": {
        "colab": {
          "base_uri": "https://localhost:8080/"
        },
        "id": "JkGGtPV0C68a",
        "outputId": "94ee195b-515f-41fc-9340-8a5cd9c1c85a"
      },
      "outputs": [
        {
          "output_type": "stream",
          "name": "stdout",
          "text": [
            "Iter:     0 | Cost: 2.11501795830 \n",
            "Iter:    10 | Cost: -2.23440884042 \n",
            "Iter:     0 | Cost: 0.21943878671 \n",
            "Iter:    10 | Cost: -2.75480239680 \n",
            "Iter:     0 | Cost: -0.04711320585 \n",
            "Iter:    10 | Cost: -2.59306139448 \n",
            "Iter:     0 | Cost: 0.81542054704 \n",
            "Iter:    10 | Cost: -2.29437817119 \n",
            "Iter:     0 | Cost: 0.00864426373 \n",
            "Iter:    10 | Cost: -2.47764760268 \n"
          ]
        }
      ],
      "source": [
        "lr = 0.03\n",
        "epochs = 11\n",
        "\n",
        "np.random.seed(1)\n",
        "num_param_gates = 3\n",
        "\n",
        "temp1 = []\n",
        "temp2 = []\n",
        "\n",
        "for num_layers in steps:\n",
        "  var_init_maxcutc = 0.5*np.random.randn(num_layers, num_param_gates*len(H_maxcut.wires))\n",
        "  label = ansatz_label_cv(len(H_maxcut.wires), len(var_init_maxcutc))\n",
        "  cost_fn = lambda v: -cost_function_cv(v, qp_maxcut, len(H_maxcut.wires), cutoff_dim)\n",
        "  grad_fn = lambda var: parameter_shift_cv(lambda x: -cost_function_cv(x, qp_maxcut, len(H_maxcut.wires), cutoff_dim), var, label)\n",
        "  lost_list, time_list, _ = train(cost_fn, grad_fn, epochs, var_init_maxcutc, lr)\n",
        "  temp1.append(lost_list[-1])\n",
        "  temp2.append(time_list[-1])\n",
        "\n",
        "cvpslc.append(temp1)\n",
        "cvpstc.append(temp2)"
      ]
    },
    {
      "cell_type": "markdown",
      "metadata": {
        "id": "avIv6907onIA"
      },
      "source": [
        "#### Clique"
      ]
    },
    {
      "cell_type": "code",
      "execution_count": 41,
      "metadata": {
        "colab": {
          "base_uri": "https://localhost:8080/"
        },
        "id": "VeV657Avomoc",
        "outputId": "39c41202-016b-497c-acd6-4fbd1b43d99c"
      },
      "outputs": [
        {
          "output_type": "stream",
          "name": "stdout",
          "text": [
            "Iter:     0 | Cost: -0.16173695152 \n",
            "Iter:    10 | Cost: -1.48637155278 \n",
            "Iter:    20 | Cost: -1.91893419579 \n",
            "Iter:    30 | Cost: -2.08451069713 \n",
            "Iter:    40 | Cost: -2.13023465812 \n",
            "Iter:    50 | Cost: -2.10071486794 \n",
            "Iter:    60 | Cost: -2.13928740299 \n",
            "Iter:    70 | Cost: -2.13372987955 \n",
            "Iter:    80 | Cost: -2.12196505956 \n",
            "Iter:    90 | Cost: -2.14205757907 \n",
            "Iter:   100 | Cost: -2.16121065009 \n"
          ]
        }
      ],
      "source": [
        "lr = 0.03\n",
        "epochs = 101\n",
        "\n",
        "label = ansatz_label_cv(len(H_clique.wires), len(var_init_clique))\n",
        "\n",
        "cost_fn = lambda v: -cost_function_cv(v, qp_clique, len(H_clique.wires), cutoff_dim)\n",
        "grad_fn = lambda var: parameter_shift_cv(lambda x: -cost_function_cv(x, qp_clique, len(H_clique.wires), cutoff_dim), var, label)\n",
        "lost_list, time_list, var = train(cost_fn, grad_fn, epochs, var_init_clique, lr)\n",
        "cvpsl.append(lost_list)\n",
        "cvpst.append(time_list)"
      ]
    },
    {
      "cell_type": "code",
      "execution_count": 42,
      "metadata": {
        "colab": {
          "base_uri": "https://localhost:8080/"
        },
        "id": "1tizbT_CPjbC",
        "outputId": "21f6cbb2-6487-4808-e0ee-bbb3b1e53789"
      },
      "outputs": [
        {
          "output_type": "stream",
          "name": "stdout",
          "text": [
            "Iter:     0 | Cost: 0.64855082019 \n",
            "Iter:    10 | Cost: -1.53032017693 \n",
            "Iter:     0 | Cost: 0.06418536312 \n",
            "Iter:    10 | Cost: -1.91489368159 \n",
            "Iter:     0 | Cost: -0.01966883802 \n",
            "Iter:    10 | Cost: -1.68818427531 \n",
            "Iter:     0 | Cost: 0.28915696157 \n",
            "Iter:    10 | Cost: -1.48293859623 \n",
            "Iter:     0 | Cost: 0.00308441870 \n",
            "Iter:    10 | Cost: -1.54460717385 \n"
          ]
        }
      ],
      "source": [
        "lr = 0.03\n",
        "epochs = 11\n",
        "\n",
        "np.random.seed(1)\n",
        "num_param_gates = 3\n",
        "\n",
        "temp1 = []\n",
        "temp2 = []\n",
        "\n",
        "for num_layers in steps:\n",
        "  var_init_cliquec = 0.5*np.random.randn(num_layers, num_param_gates*len(H_clique.wires))\n",
        "  label = ansatz_label_cv(len(H_clique.wires), len(var_init_cliquec))\n",
        "  cost_fn = lambda v: -cost_function_cv(v, qp_clique, len(H_clique.wires), cutoff_dim)\n",
        "  grad_fn = lambda var: parameter_shift_cv(lambda x: -cost_function_cv(x, qp_clique, len(H_clique.wires), cutoff_dim), var, label)\n",
        "  lost_list, time_list, _ = train(cost_fn, grad_fn, epochs, var_init_cliquec, lr)\n",
        "  temp1.append(lost_list[-1])\n",
        "  temp2.append(time_list[-1])\n",
        "\n",
        "cvpslc.append(temp1)\n",
        "cvpstc.append(temp2)"
      ]
    },
    {
      "cell_type": "markdown",
      "metadata": {
        "id": "hU-zm57fpZqa"
      },
      "source": [
        "#### Binary Linear Programming"
      ]
    },
    {
      "cell_type": "code",
      "execution_count": 43,
      "metadata": {
        "colab": {
          "base_uri": "https://localhost:8080/"
        },
        "id": "W8Hast63pcdJ",
        "outputId": "71b4979a-8282-4209-92cf-7c26de74c1d2"
      },
      "outputs": [
        {
          "output_type": "stream",
          "name": "stdout",
          "text": [
            "Iter:     0 | Cost: 952719.44478895480 \n",
            "Iter:    10 | Cost: 553697.51926415926 \n",
            "Iter:    20 | Cost: 542707.37189880642 \n",
            "Iter:    30 | Cost: 523038.02589569404 \n",
            "Iter:    40 | Cost: 507325.13443897699 \n",
            "Iter:    50 | Cost: 513981.86910072877 \n",
            "Iter:    60 | Cost: 516376.72505276703 \n",
            "Iter:    70 | Cost: 521173.38745622837 \n",
            "Iter:    80 | Cost: 512033.34998035629 \n",
            "Iter:    90 | Cost: 518854.86395863350 \n",
            "Iter:   100 | Cost: 513834.51033856900 \n"
          ]
        }
      ],
      "source": [
        "lr = 0.03\n",
        "epochs = 101\n",
        "\n",
        "label = ansatz_label_cv(len(H_blp.wires), len(var_init_blp))\n",
        "\n",
        "cost_fn = lambda v: cost_function_cv(v, qubo_blp, len(H_blp.wires), cutoff_dim)\n",
        "grad_fn = lambda var: parameter_shift_cv(lambda x: cost_function_cv(x, qubo_blp, len(H_blp.wires), cutoff_dim), var, label)\n",
        "lost_list, time_list, var = train(cost_fn, grad_fn, epochs, var_init_blp, lr)\n",
        "cvpsl.append(lost_list)\n",
        "cvpst.append(time_list)"
      ]
    },
    {
      "cell_type": "code",
      "execution_count": 44,
      "metadata": {
        "colab": {
          "base_uri": "https://localhost:8080/"
        },
        "id": "qs-Bfd4tQGE9",
        "outputId": "203e9903-423b-48d3-d325-473d64f3b0f6"
      },
      "outputs": [
        {
          "output_type": "stream",
          "name": "stdout",
          "text": [
            "Iter:     0 | Cost: 1244940.84654680430 \n",
            "Iter:    10 | Cost: 592369.71319303988 \n",
            "Iter:     0 | Cost: 997387.20263886999 \n",
            "Iter:    10 | Cost: 533430.26176343404 \n",
            "Iter:     0 | Cost: 988452.51198139484 \n",
            "Iter:    10 | Cost: 539056.04982331523 \n",
            "Iter:     0 | Cost: 1108039.62132556783 \n",
            "Iter:    10 | Cost: 568412.27770484006 \n",
            "Iter:     0 | Cost: 996483.17970308266 \n",
            "Iter:    10 | Cost: 549024.68481044099 \n"
          ]
        }
      ],
      "source": [
        "lr = 0.03\n",
        "epochs = 11\n",
        "\n",
        "np.random.seed(1)\n",
        "num_param_gates = 3\n",
        "\n",
        "temp1 = []\n",
        "temp2 = []\n",
        "\n",
        "for num_layers in steps:\n",
        "  var_init_blpc = 0.5*np.random.randn(num_layers, num_param_gates*len(H_blp.wires))\n",
        "  label = ansatz_label_cv(len(H_blp.wires), len(var_init_blpc))\n",
        "  cost_fn = lambda v: cost_function_cv(v, qubo_blp, len(H_blp.wires), cutoff_dim)\n",
        "  grad_fn = lambda var: parameter_shift_cv(lambda x: cost_function_cv(x, qubo_blp, len(H_blp.wires), cutoff_dim), var, label)\n",
        "  lost_list, time_list, _ = train(cost_fn, grad_fn, epochs, var_init_blpc, lr)\n",
        "  temp1.append(lost_list[-1])\n",
        "  temp2.append(time_list[-1])\n",
        "\n",
        "cvpslc.append(temp1)\n",
        "cvpstc.append(temp2)"
      ]
    },
    {
      "cell_type": "markdown",
      "metadata": {
        "id": "jNYQSrLapiIV"
      },
      "source": [
        "#### Knapsack"
      ]
    },
    {
      "cell_type": "code",
      "execution_count": 45,
      "metadata": {
        "colab": {
          "base_uri": "https://localhost:8080/"
        },
        "id": "RpFPvkz-pkzz",
        "outputId": "dc6d47fe-b2f5-4a86-ff4b-087a01d4a464"
      },
      "outputs": [
        {
          "output_type": "stream",
          "name": "stdout",
          "text": [
            "Iter:     0 | Cost: 20.58105307650 \n",
            "Iter:    10 | Cost: 0.75044773733 \n",
            "Iter:    20 | Cost: -0.87356596569 \n",
            "Iter:    30 | Cost: -1.33620355478 \n",
            "Iter:    40 | Cost: -1.48785207181 \n",
            "Iter:    50 | Cost: -1.60310566504 \n",
            "Iter:    60 | Cost: -1.64372190418 \n",
            "Iter:    70 | Cost: -1.63020669125 \n",
            "Iter:    80 | Cost: -1.60034233311 \n",
            "Iter:    90 | Cost: -1.57603830697 \n",
            "Iter:   100 | Cost: -1.56221332529 \n"
          ]
        }
      ],
      "source": [
        "lr = 0.03\n",
        "epochs = 101\n",
        "\n",
        "label = ansatz_label_cv(len(H_ks.wires), len(var_init_ks))\n",
        "\n",
        "cost_fn = lambda v: cost_function_cv(v, qubo_ks, len(H_ks.wires), cutoff_dim)\n",
        "grad_fn = lambda var: parameter_shift_cv(lambda x: cost_function_cv(x, qubo_ks, len(H_ks.wires), cutoff_dim), var, label)\n",
        "lost_list, time_list, var = train(cost_fn, grad_fn, epochs, var_init_ks, lr)\n",
        "cvpsl.append(lost_list)\n",
        "cvpst.append(time_list)"
      ]
    },
    {
      "cell_type": "code",
      "execution_count": 46,
      "metadata": {
        "colab": {
          "base_uri": "https://localhost:8080/"
        },
        "id": "cqwnUTnVQWHV",
        "outputId": "25b01fe3-c56d-4bf4-e61a-0d4404da9d16"
      },
      "outputs": [
        {
          "output_type": "stream",
          "name": "stdout",
          "text": [
            "Iter:     0 | Cost: 55.93479557923 \n",
            "Iter:    10 | Cost: 2.78305294850 \n",
            "Iter:     0 | Cost: 36.19174871435 \n",
            "Iter:    10 | Cost: -1.16944144893 \n",
            "Iter:     0 | Cost: 35.24099111664 \n",
            "Iter:    10 | Cost: -0.05980229311 \n",
            "Iter:     0 | Cost: 45.98696301030 \n",
            "Iter:    10 | Cost: 0.58339571196 \n",
            "Iter:     0 | Cost: 36.10249507488 \n",
            "Iter:    10 | Cost: -0.45220527232 \n"
          ]
        }
      ],
      "source": [
        "lr = 0.03\n",
        "epochs = 11\n",
        "\n",
        "np.random.seed(1)\n",
        "num_param_gates = 3\n",
        "\n",
        "temp1 = []\n",
        "temp2 = []\n",
        "\n",
        "for num_layers in steps:\n",
        "  var_init_ksc = 0.5*np.random.randn(num_layers, num_param_gates*len(H_ks.wires))\n",
        "  label = ansatz_label_cv(len(H_ks.wires), len(var_init_ksc))\n",
        "  cost_fn = lambda v: cost_function_cv(v, qubo_ks, len(H_ks.wires), cutoff_dim)\n",
        "  grad_fn = lambda var: parameter_shift_cv(lambda x: cost_function_cv(x, qubo_ks, len(H_ks.wires), cutoff_dim), var, label)\n",
        "  lost_list, time_list, _ = train(cost_fn, grad_fn, epochs, var_init_ksc, lr)\n",
        "  temp1.append(lost_list[-1])\n",
        "  temp2.append(time_list[-1])\n",
        "\n",
        "cvpslc.append(temp1)\n",
        "cvpstc.append(temp2)"
      ]
    },
    {
      "cell_type": "markdown",
      "metadata": {
        "id": "WTA8kfPKptwn"
      },
      "source": [
        "### Finite Difference"
      ]
    },
    {
      "cell_type": "markdown",
      "metadata": {
        "id": "wF1J0w4OkjWc"
      },
      "source": [
        "#### Max-Cut"
      ]
    },
    {
      "cell_type": "code",
      "execution_count": 47,
      "metadata": {
        "id": "BR87ifUYRp4l",
        "colab": {
          "base_uri": "https://localhost:8080/"
        },
        "outputId": "cc62050f-af4c-4722-f009-3d2f360cf36f"
      },
      "outputs": [
        {
          "output_type": "stream",
          "name": "stdout",
          "text": [
            "Iter:     0 | Cost: 0.57232528734 \n",
            "Iter:    10 | Cost: -1.45295433144 \n",
            "Iter:    20 | Cost: -1.87692788467 \n",
            "Iter:    30 | Cost: -2.31601122386 \n",
            "Iter:    40 | Cost: -2.36254121232 \n",
            "Iter:    50 | Cost: -2.31149030721 \n",
            "Iter:    60 | Cost: -2.43515885507 \n",
            "Iter:    70 | Cost: -2.42570952965 \n",
            "Iter:    80 | Cost: -2.26461498296 \n",
            "Iter:    90 | Cost: -2.42747376327 \n",
            "Iter:   100 | Cost: -2.59252794403 \n"
          ]
        }
      ],
      "source": [
        "lr = 0.03\n",
        "epochs = 101\n",
        "\n",
        "cost_fn = lambda v: -cost_function_cv(v, qp_maxcut, len(H_maxcut.wires), cutoff_dim)\n",
        "grad_fn = lambda var: finite_difference_cv(lambda x: -cost_function_cv(x, qp_maxcut, len(H_maxcut.wires), cutoff_dim), var)\n",
        "lost_list, time_list, var = train(cost_fn, grad_fn, epochs, var_init_maxcut, lr)\n",
        "cvfdl.append(lost_list)\n",
        "cvfdt.append(time_list)"
      ]
    },
    {
      "cell_type": "code",
      "execution_count": 48,
      "metadata": {
        "id": "8mTRZkyoQi6b",
        "colab": {
          "base_uri": "https://localhost:8080/"
        },
        "outputId": "ff6da792-3561-4253-81f9-ff8851750010"
      },
      "outputs": [
        {
          "output_type": "stream",
          "name": "stdout",
          "text": [
            "Iter:     0 | Cost: 2.11501795830 \n",
            "Iter:    10 | Cost: -0.62443234581 \n",
            "Iter:     0 | Cost: 0.21943878671 \n",
            "Iter:    10 | Cost: -2.18542465488 \n",
            "Iter:     0 | Cost: -0.04711320585 \n",
            "Iter:    10 | Cost: -0.02840093570 \n",
            "Iter:     0 | Cost: 0.81542054704 \n",
            "Iter:    10 | Cost: -1.33776054230 \n",
            "Iter:     0 | Cost: 0.00864426373 \n",
            "Iter:    10 | Cost: 0.01693598569 \n"
          ]
        }
      ],
      "source": [
        "lr = 0.03\n",
        "epochs = 11\n",
        "\n",
        "np.random.seed(1)\n",
        "num_param_gates = 3\n",
        "\n",
        "temp1 = []\n",
        "temp2 = []\n",
        "\n",
        "for num_layers in steps:\n",
        "  var_init_maxcutc = 0.5*np.random.randn(num_layers, num_param_gates*len(H_maxcut.wires))\n",
        "\n",
        "  cost_fn = lambda v: -cost_function_cv(v, qp_maxcut, len(H_maxcut.wires), cutoff_dim)\n",
        "  grad_fn = lambda var: finite_difference_cv(lambda x: -cost_function_cv(x, qp_maxcut, len(H_maxcut.wires), cutoff_dim), var)\n",
        "  lost_list, time_list, _ = train(cost_fn, grad_fn, epochs, var_init_maxcutc, lr)\n",
        "  temp1.append(lost_list[-1])\n",
        "  temp2.append(time_list[-1])\n",
        "\n",
        "cvfdlc.append(temp1)\n",
        "cvfdtc.append(temp2)"
      ]
    },
    {
      "cell_type": "markdown",
      "metadata": {
        "id": "gpzvRU81ksvP"
      },
      "source": [
        "#### Clique"
      ]
    },
    {
      "cell_type": "code",
      "execution_count": 49,
      "metadata": {
        "id": "hmcZlYu-kusq",
        "colab": {
          "base_uri": "https://localhost:8080/"
        },
        "outputId": "8d78f6df-5e7f-441e-d2f2-809887d8e706"
      },
      "outputs": [
        {
          "output_type": "stream",
          "name": "stdout",
          "text": [
            "Iter:     0 | Cost: -0.16173695152 \n",
            "Iter:    10 | Cost: -0.68853934622 \n",
            "Iter:    20 | Cost: -0.89638069638 \n",
            "Iter:    30 | Cost: -1.26077030494 \n",
            "Iter:    40 | Cost: -1.51594348453 \n",
            "Iter:    50 | Cost: -1.52714363037 \n",
            "Iter:    60 | Cost: -1.61602317141 \n",
            "Iter:    70 | Cost: -1.73182681382 \n",
            "Iter:    80 | Cost: -1.75842780526 \n",
            "Iter:    90 | Cost: -1.86295220689 \n",
            "Iter:   100 | Cost: -1.88798568138 \n"
          ]
        }
      ],
      "source": [
        "lr = 0.03\n",
        "epochs = 101\n",
        "\n",
        "cost_fn = lambda v: -cost_function_cv(v, qp_clique, len(H_clique.wires), cutoff_dim)\n",
        "grad_fn = lambda var: finite_difference_cv(lambda x: -cost_function_cv(x, qp_clique, len(H_clique.wires), cutoff_dim), var)\n",
        "lost_list, time_list, var = train(cost_fn, grad_fn, epochs, var_init_clique, lr)\n",
        "cvfdl.append(lost_list)\n",
        "cvfdt.append(time_list)"
      ]
    },
    {
      "cell_type": "code",
      "execution_count": 50,
      "metadata": {
        "id": "A_H9uW-gQut-",
        "colab": {
          "base_uri": "https://localhost:8080/"
        },
        "outputId": "92a9466b-f9c5-4e21-fb81-d32511da1eab"
      },
      "outputs": [
        {
          "output_type": "stream",
          "name": "stdout",
          "text": [
            "Iter:     0 | Cost: 0.64855082019 \n",
            "Iter:    10 | Cost: -0.36279923501 \n",
            "Iter:     0 | Cost: 0.06418536312 \n",
            "Iter:    10 | Cost: -1.48611055347 \n",
            "Iter:     0 | Cost: -0.01966883802 \n",
            "Iter:    10 | Cost: -0.01993938210 \n",
            "Iter:     0 | Cost: 0.28915696157 \n",
            "Iter:    10 | Cost: -0.75216651072 \n",
            "Iter:     0 | Cost: 0.00308441870 \n",
            "Iter:    10 | Cost: -0.00207087439 \n"
          ]
        }
      ],
      "source": [
        "lr = 0.03\n",
        "epochs = 11\n",
        "\n",
        "np.random.seed(1)\n",
        "num_param_gates = 3\n",
        "\n",
        "temp1 = []\n",
        "temp2 = []\n",
        "\n",
        "for num_layers in steps:\n",
        "  var_init_cliquec = 0.5*np.random.randn(num_layers, num_param_gates*len(H_clique.wires))\n",
        "\n",
        "  cost_fn = lambda v: -cost_function_cv(v, qp_clique, len(H_clique.wires), cutoff_dim)\n",
        "  grad_fn = lambda var: finite_difference_cv(lambda x: -cost_function_cv(x, qp_clique, len(H_clique.wires), cutoff_dim), var)\n",
        "  lost_list, time_list, _ = train(cost_fn, grad_fn, epochs, var_init_cliquec, lr)\n",
        "  temp1.append(lost_list[-1])\n",
        "  temp2.append(time_list[-1])\n",
        "\n",
        "cvfdlc.append(temp1)\n",
        "cvfdtc.append(temp2)"
      ]
    },
    {
      "cell_type": "markdown",
      "metadata": {
        "id": "JUW4-obPk4JG"
      },
      "source": [
        "#### Binary Linear Programming"
      ]
    },
    {
      "cell_type": "code",
      "execution_count": 51,
      "metadata": {
        "id": "ulpG-fsHk7EB",
        "colab": {
          "base_uri": "https://localhost:8080/"
        },
        "outputId": "369a2a36-6205-46b9-8454-2f7adac2da6a"
      },
      "outputs": [
        {
          "output_type": "stream",
          "name": "stdout",
          "text": [
            "Iter:     0 | Cost: 952719.44478895480 \n",
            "Iter:    10 | Cost: 679652.04327801231 \n",
            "Iter:    20 | Cost: 634371.70293571358 \n",
            "Iter:    30 | Cost: 601178.97566875070 \n",
            "Iter:    40 | Cost: 595300.64827217674 \n",
            "Iter:    50 | Cost: 603509.33864100208 \n",
            "Iter:    60 | Cost: 571547.89638588182 \n",
            "Iter:    70 | Cost: 579896.66734976484 \n",
            "Iter:    80 | Cost: 568295.52587929042 \n",
            "Iter:    90 | Cost: 555477.75474944513 \n",
            "Iter:   100 | Cost: 541555.21025339467 \n"
          ]
        }
      ],
      "source": [
        "lr = 0.03\n",
        "epochs = 101\n",
        "\n",
        "cost_fn = lambda v: cost_function_cv(v, qubo_blp, len(H_blp.wires), cutoff_dim)\n",
        "grad_fn = lambda var: finite_difference_cv(lambda x: cost_function_cv(x, qubo_blp, len(H_blp.wires), cutoff_dim), var)\n",
        "lost_list, time_list, var = train(cost_fn, grad_fn, epochs, var_init_blp, lr)\n",
        "cvfdl.append(lost_list)\n",
        "cvfdt.append(time_list)"
      ]
    },
    {
      "cell_type": "code",
      "execution_count": 52,
      "metadata": {
        "id": "8I6I0lyxQySF",
        "colab": {
          "base_uri": "https://localhost:8080/"
        },
        "outputId": "304df008-005e-4286-df01-ed4db53e1b52"
      },
      "outputs": [
        {
          "output_type": "stream",
          "name": "stdout",
          "text": [
            "Iter:     0 | Cost: 1244940.84654680430 \n",
            "Iter:    10 | Cost: 808413.60151885496 \n",
            "Iter:     0 | Cost: 997387.20263886999 \n",
            "Iter:    10 | Cost: 613346.16169291059 \n",
            "Iter:     0 | Cost: 988452.51198139484 \n",
            "Iter:    10 | Cost: 987463.18004472938 \n",
            "Iter:     0 | Cost: 1108039.62132556783 \n",
            "Iter:    10 | Cost: 704743.63105448231 \n",
            "Iter:     0 | Cost: 996483.17970308266 \n",
            "Iter:    10 | Cost: 984850.94235015905 \n"
          ]
        }
      ],
      "source": [
        "lr = 0.03\n",
        "epochs = 11\n",
        "\n",
        "np.random.seed(1)\n",
        "num_param_gates = 3\n",
        "\n",
        "temp1 = []\n",
        "temp2 = []\n",
        "\n",
        "for num_layers in steps:\n",
        "  var_init_blpc = 0.5*np.random.randn(num_layers, num_param_gates*len(H_blp.wires))\n",
        "\n",
        "  cost_fn = lambda v: cost_function_cv(v, qubo_blp, len(H_blp.wires), cutoff_dim)\n",
        "  grad_fn = lambda var: finite_difference_cv(lambda x: cost_function_cv(x, qubo_blp, len(H_blp.wires), cutoff_dim), var)\n",
        "  lost_list, time_list, _ = train(cost_fn, grad_fn, epochs, var_init_blpc, lr)\n",
        "  temp1.append(lost_list[-1])\n",
        "  temp2.append(time_list[-1])\n",
        "\n",
        "cvfdlc.append(temp1)\n",
        "cvfdtc.append(temp2)"
      ]
    },
    {
      "cell_type": "markdown",
      "metadata": {
        "id": "Z5p2xwXnlFnF"
      },
      "source": [
        "#### Knapsack"
      ]
    },
    {
      "cell_type": "code",
      "execution_count": 53,
      "metadata": {
        "id": "-N9wwo1ulH_T",
        "colab": {
          "base_uri": "https://localhost:8080/"
        },
        "outputId": "9d9d0afa-25f3-47b2-8d13-fb35c0bddb4a"
      },
      "outputs": [
        {
          "output_type": "stream",
          "name": "stdout",
          "text": [
            "Iter:     0 | Cost: 20.58105307650 \n",
            "Iter:    10 | Cost: 10.92390743128 \n",
            "Iter:    20 | Cost: 8.54885967423 \n",
            "Iter:    30 | Cost: 5.06410306139 \n",
            "Iter:    40 | Cost: 3.92737816476 \n",
            "Iter:    50 | Cost: 4.06782709535 \n",
            "Iter:    60 | Cost: 2.41891362090 \n",
            "Iter:    70 | Cost: 1.16585301920 \n",
            "Iter:    80 | Cost: 1.13638851310 \n",
            "Iter:    90 | Cost: 0.48577217654 \n",
            "Iter:   100 | Cost: 0.34116767785 \n"
          ]
        }
      ],
      "source": [
        "lr = 0.03\n",
        "epochs = 101\n",
        "\n",
        "cost_fn = lambda v: cost_function_cv(v, qubo_ks, len(H_ks.wires), cutoff_dim)\n",
        "grad_fn = lambda var: finite_difference_cv(lambda x: cost_function_cv(x, qubo_ks, len(H_ks.wires), cutoff_dim), var)\n",
        "lost_list, time_list, var = train(cost_fn, grad_fn, epochs, var_init_ks, lr)\n",
        "cvfdl.append(lost_list)\n",
        "cvfdt.append(time_list)"
      ]
    },
    {
      "cell_type": "code",
      "execution_count": 54,
      "metadata": {
        "id": "UMY1jsEIQ2bN",
        "colab": {
          "base_uri": "https://localhost:8080/"
        },
        "outputId": "da31e0df-3f6a-4686-8032-d9698f6e6835"
      },
      "outputs": [
        {
          "output_type": "stream",
          "name": "stdout",
          "text": [
            "Iter:     0 | Cost: 55.93479557923 \n",
            "Iter:    10 | Cost: 20.98970110092 \n",
            "Iter:     0 | Cost: 36.19174871435 \n",
            "Iter:    10 | Cost: 3.23339062299 \n",
            "Iter:     0 | Cost: 35.24099111664 \n",
            "Iter:    10 | Cost: 34.81989793190 \n",
            "Iter:     0 | Cost: 45.98696301030 \n",
            "Iter:    10 | Cost: 11.73758905803 \n",
            "Iter:     0 | Cost: 36.10249507488 \n",
            "Iter:    10 | Cost: 29.71433219983 \n"
          ]
        }
      ],
      "source": [
        "lr = 0.03\n",
        "epochs = 11\n",
        "\n",
        "np.random.seed(1)\n",
        "num_param_gates = 3\n",
        "\n",
        "temp1 = []\n",
        "temp2 = []\n",
        "\n",
        "for num_layers in steps:\n",
        "  var_init_ksc = 0.5*np.random.randn(num_layers, num_param_gates*len(H_ks.wires))\n",
        "\n",
        "  cost_fn = lambda v: cost_function_cv(v, qubo_ks, len(H_ks.wires), cutoff_dim)\n",
        "  grad_fn = lambda var: finite_difference_cv(lambda x: cost_function_cv(x, qubo_ks, len(H_ks.wires), cutoff_dim), var)\n",
        "  lost_list, time_list, _ = train(cost_fn, grad_fn, epochs, var_init_ksc, lr)\n",
        "  temp1.append(lost_list[-1])\n",
        "  temp2.append(time_list[-1])\n",
        "\n",
        "cvfdlc.append(temp1)\n",
        "cvfdtc.append(temp2)"
      ]
    },
    {
      "cell_type": "markdown",
      "metadata": {
        "id": "Dy0xupPD9K8O"
      },
      "source": [
        "#**Benchmarking** "
      ]
    },
    {
      "cell_type": "markdown",
      "metadata": {
        "id": "CLdbB84Men8d"
      },
      "source": [
        "### Contour Plot"
      ]
    },
    {
      "cell_type": "code",
      "execution_count": 55,
      "metadata": {
        "id": "T5J8IafWnQNb",
        "cellView": "form"
      },
      "outputs": [],
      "source": [
        "#@title Train Contour\n",
        "def train_contour(cost_fn, grad_fn, epochs, var_init, lr):\n",
        "  lost_list = []\n",
        "  var_list = []\n",
        "  var = var_init.copy()\n",
        "  var_list.append(var)\n",
        "  opt = qml.RMSPropOptimizer(lr)\n",
        "\n",
        "  start = time.time()\n",
        "\n",
        "  for it in range(epochs):# while True:\n",
        "      \n",
        "      var, _cost = opt.step_and_cost(cost_fn, var, grad_fn=grad_fn) \n",
        "      lost_list.append(_cost)\n",
        "      var_list.append(var)\n",
        "      # if it%10==0:\n",
        "      #   print(\"Iter: {:5d} | Cost: {:0.11f} \".format(it, _cost))\n",
        "\n",
        "      end = time.time()\n",
        "      t = end - start\n",
        "  return lost_list, var_list"
      ]
    },
    {
      "cell_type": "code",
      "execution_count": 56,
      "metadata": {
        "id": "RmDWARV9qOhL",
        "colab": {
          "base_uri": "https://localhost:8080/",
          "height": 1000,
          "referenced_widgets": [
            "b8ff6d0e16e4459dbdd8f08cc7aff2f3",
            "6e07d53d7e66495c8ca5ef51451ea82a",
            "d1302acb5a264637b68a9922457418f3",
            "2424d8300403474082ea98c296bc3785",
            "7fd193240c15494e9693192de413319a",
            "88ce8f40c62645b088fbe1650905a87b",
            "398eacf1a3884843af18f7dd9f64017e",
            "37d97d64ac704370b2c71a0cb8077352",
            "921b0f66d0a042288b82b9e6fe2783e8",
            "32fef0a3fe774b3098ea8c86e2092407",
            "0317ccd332224c228f794f0b12bb312f"
          ]
        },
        "outputId": "3402eea7-31cc-4236-90f3-190e731290be",
        "cellView": "form"
      },
      "outputs": [
        {
          "output_type": "stream",
          "name": "stdout",
          "text": [
            "\\ This file has been generated by DOcplex\n",
            "\\ ENCODING=ISO-8859-1\n",
            "\\Problem name: docplex model\n",
            "\n",
            "Minimize\n",
            " obj: 95000 x1\n",
            "Subject To\n",
            " c0: x1 >= 1\n",
            "\n",
            "Bounds\n",
            " 0 <= x1 <= 1\n",
            "\n",
            "Binaries\n",
            " x1\n",
            "End\n",
            "\n"
          ]
        },
        {
          "output_type": "display_data",
          "data": {
            "text/plain": [
              "  0%|          | 0/50 [00:00<?, ?it/s]"
            ],
            "application/vnd.jupyter.widget-view+json": {
              "version_major": 2,
              "version_minor": 0,
              "model_id": "b8ff6d0e16e4459dbdd8f08cc7aff2f3"
            }
          },
          "metadata": {}
        },
        {
          "output_type": "display_data",
          "data": {
            "text/html": [
              "<html>\n",
              "<head><meta charset=\"utf-8\" /></head>\n",
              "<body>\n",
              "    <div>            <script src=\"https://cdnjs.cloudflare.com/ajax/libs/mathjax/2.7.5/MathJax.js?config=TeX-AMS-MML_SVG\"></script><script type=\"text/javascript\">if (window.MathJax) {MathJax.Hub.Config({SVG: {font: \"STIX-Web\"}});}</script>                <script type=\"text/javascript\">window.PlotlyConfig = {MathJaxConfig: 'local'};</script>\n",
              "        <script src=\"https://cdn.plot.ly/plotly-2.8.3.min.js\"></script>                <div id=\"6afc2de3-cea4-4080-a0a1-54da298acfb6\" class=\"plotly-graph-div\" style=\"height:1000px; width:1000px;\"></div>            <script type=\"text/javascript\">                                    window.PLOTLYENV=window.PLOTLYENV || {};                                    if (document.getElementById(\"6afc2de3-cea4-4080-a0a1-54da298acfb6\")) {                    Plotly.newPlot(                        \"6afc2de3-cea4-4080-a0a1-54da298acfb6\",                        [{\"showscale\":false,\"x\":[-8.0,-7.673469387755102,-7.346938775510204,-7.020408163265306,-6.6938775510204085,-6.36734693877551,-6.040816326530612,-5.714285714285714,-5.387755102040817,-5.061224489795919,-4.73469387755102,-4.408163265306123,-4.081632653061225,-3.755102040816327,-3.428571428571429,-3.1020408163265314,-2.775510204081633,-2.4489795918367347,-2.1224489795918373,-1.795918367346939,-1.4693877551020416,-1.1428571428571432,-0.8163265306122458,-0.4897959183673475,-0.16326530612244916,0.16326530612244916,0.4897959183673457,0.816326530612244,1.1428571428571423,1.4693877551020407,1.7959183673469372,2.1224489795918355,2.448979591836734,2.775510204081632,3.1020408163265305,3.428571428571427,3.7551020408163254,4.081632653061224,4.408163265306122,4.734693877551019,5.061224489795917,5.387755102040815,5.7142857142857135,6.040816326530612,6.367346938775508,6.693877551020407,7.020408163265305,7.346938775510203,7.673469387755102,8.0],\"y\":[-8.0,-7.673469387755102,-7.346938775510204,-7.020408163265306,-6.6938775510204085,-6.36734693877551,-6.040816326530612,-5.714285714285714,-5.387755102040817,-5.061224489795919,-4.73469387755102,-4.408163265306123,-4.081632653061225,-3.755102040816327,-3.428571428571429,-3.1020408163265314,-2.775510204081633,-2.4489795918367347,-2.1224489795918373,-1.795918367346939,-1.4693877551020416,-1.1428571428571432,-0.8163265306122458,-0.4897959183673475,-0.16326530612244916,0.16326530612244916,0.4897959183673457,0.816326530612244,1.1428571428571423,1.4693877551020407,1.7959183673469372,2.1224489795918355,2.448979591836734,2.775510204081632,3.1020408163265305,3.428571428571427,3.7551020408163254,4.081632653061224,4.408163265306122,4.734693877551019,5.061224489795917,5.387755102040815,5.7142857142857135,6.040816326530612,6.367346938775508,6.693877551020407,7.020408163265305,7.346938775510203,7.673469387755102,8.0],\"z\":[[95001.0,95001.0,95001.0,95001.0,95001.0,95001.0,95001.0,95001.0,95001.0,95001.0,95001.0,95001.0,95001.0,95001.0,95001.0,95001.0,95001.0,95001.0,95001.0,95001.0,95001.0,95001.0,95001.0,95001.0,95001.0,95001.0,95001.0,95001.0,95001.0,95001.0,95001.0,95001.0,95001.0,95001.0,95001.0,95001.0,95001.0,95001.0,95001.0,95001.0,95001.0,95001.0,95001.0,95001.0,95001.0,95001.0,95001.0,95001.0,95001.0,95001.0],[95001.0,95001.0,95001.0,95001.0,95001.0,95001.0,95001.0,95001.0,95001.0,95001.0,95001.0,95001.0,95001.0,95001.0,95001.0,95001.0,95001.0,95001.0,95001.0,95001.0,95001.0,95001.0,95001.0,95001.0,95001.0,95001.0,95001.0,95001.0,95001.0,95001.0,95001.0,95001.0,95001.0,95001.0,95001.0,95001.0,95001.0,95001.0,95001.0,95001.0,95001.0,95001.0,95001.0,95001.0,95001.0,95001.0,95001.0,95001.0,95001.0,95001.0],[95001.0,95001.0,95001.0,95001.0,95001.0,95001.0,95001.0,95001.0,95001.0,95001.0,95001.0,95001.0,95001.0,95001.0,95001.0,95001.0,95001.0,95001.0,95001.0,95001.0,95001.0,95001.0,95001.0,95001.0,95001.0,95001.0,95001.0,95001.0,95001.0,95001.0,95001.0,95001.0,95001.0,95001.0,95001.0,95001.0,95001.0,95001.0,95001.0,95001.0,95001.0,95001.0,95001.0,95001.0,95001.0,95001.0,95001.0,95001.0,95001.0,95001.0],[95001.0,95001.0,95001.0,95001.0,95001.0,95001.0,95001.0,95001.0,95001.0,95001.0,95001.0,95001.0,95001.0,95001.0,95001.0,95001.0,95001.0,95001.0,95001.0,95001.0,95001.0,95001.0,95001.0,95001.0,95001.0,95001.0,95001.0,95001.0,95001.0,95001.0,95001.0,95001.0,95001.0,95001.0,95001.0,95001.0,95001.0,95001.0,95001.0,95001.0,95001.0,95001.0,95001.0,95001.0,95001.0,95001.0,95001.0,95001.0,95001.0,95001.0],[95001.00000000017,95001.00000000017,95001.00000000017,95001.00000000017,95001.00000000017,95001.00000000017,95001.00000000017,95001.00000000017,95001.00000000017,95001.00000000017,95001.00000000017,95001.00000000017,95001.00000000017,95001.00000000017,95001.00000000017,95001.00000000017,95001.00000000017,95001.00000000017,95001.00000000017,95001.00000000017,95001.00000000017,95001.00000000017,95001.00000000017,95001.00000000017,95001.00000000017,95001.00000000017,95001.00000000017,95001.00000000017,95001.00000000017,95001.00000000017,95001.00000000017,95001.00000000017,95001.00000000017,95001.00000000017,95001.00000000017,95001.00000000017,95001.00000000017,95001.00000000017,95001.00000000017,95001.00000000017,95001.00000000017,95001.00000000017,95001.00000000017,95001.00000000017,95001.00000000017,95001.00000000017,95001.00000000017,95001.00000000017,95001.00000000017,95001.00000000017],[95001.00000000893,95001.00000000893,95001.00000000893,95001.00000000893,95001.00000000893,95001.00000000893,95001.00000000893,95001.00000000893,95001.00000000893,95001.00000000893,95001.00000000893,95001.00000000893,95001.00000000893,95001.00000000893,95001.00000000893,95001.00000000893,95001.00000000893,95001.00000000893,95001.00000000893,95001.00000000893,95001.00000000893,95001.00000000893,95001.00000000893,95001.00000000893,95001.00000000893,95001.00000000893,95001.00000000893,95001.00000000893,95001.00000000893,95001.00000000893,95001.00000000893,95001.00000000893,95001.00000000893,95001.00000000893,95001.00000000893,95001.00000000893,95001.00000000893,95001.00000000893,95001.00000000893,95001.00000000893,95001.00000000893,95001.00000000893,95001.00000000893,95001.00000000893,95001.00000000893,95001.00000000893,95001.00000000893,95001.00000000893,95001.00000000893,95001.00000000893],[95001.00000035838,95001.00000035838,95001.00000035838,95001.00000035838,95001.00000035838,95001.00000035838,95001.00000035838,95001.00000035838,95001.00000035838,95001.00000035838,95001.00000035838,95001.00000035838,95001.00000035838,95001.00000035838,95001.00000035838,95001.00000035838,95001.00000035838,95001.00000035838,95001.00000035838,95001.00000035838,95001.00000035838,95001.00000035838,95001.00000035838,95001.00000035838,95001.00000035838,95001.00000035838,95001.00000035838,95001.00000035838,95001.00000035838,95001.00000035838,95001.00000035838,95001.00000035838,95001.00000035838,95001.00000035838,95001.00000035838,95001.00000035838,95001.00000035838,95001.00000035838,95001.00000035838,95001.00000035838,95001.00000035838,95001.00000035838,95001.00000035838,95001.00000035838,95001.00000035838,95001.00000035838,95001.00000035838,95001.00000035838,95001.00000035838,95001.00000035838],[95001.00001139501,95001.00001139501,95001.00001139501,95001.00001139501,95001.00001139501,95001.00001139501,95001.00001139501,95001.00001139501,95001.00001139501,95001.00001139501,95001.00001139501,95001.00001139501,95001.00001139501,95001.00001139501,95001.00001139501,95001.00001139501,95001.00001139501,95001.00001139501,95001.00001139501,95001.00001139501,95001.00001139501,95001.00001139501,95001.00001139501,95001.00001139501,95001.00001139501,95001.00001139501,95001.00001139501,95001.00001139501,95001.00001139501,95001.00001139501,95001.00001139501,95001.00001139501,95001.00001139501,95001.00001139501,95001.00001139501,95001.00001139501,95001.00001139501,95001.00001139501,95001.00001139501,95001.00001139501,95001.00001139501,95001.00001139501,95001.00001139501,95001.00001139501,95001.00001139501,95001.00001139501,95001.00001139501,95001.00001139501,95001.00001139501,95001.00001139501],[95001.00028664872,95001.00028664872,95001.00028664872,95001.00028664872,95001.00028664872,95001.00028664872,95001.00028664872,95001.00028664872,95001.00028664872,95001.00028664872,95001.00028664872,95001.00028664872,95001.00028664872,95001.00028664872,95001.00028664872,95001.00028664872,95001.00028664872,95001.00028664872,95001.00028664872,95001.00028664872,95001.00028664872,95001.00028664872,95001.00028664872,95001.00028664872,95001.00028664872,95001.00028664872,95001.00028664872,95001.00028664872,95001.00028664872,95001.00028664872,95001.00028664872,95001.00028664872,95001.00028664872,95001.00028664872,95001.00028664872,95001.00028664872,95001.00028664872,95001.00028664872,95001.00028664872,95001.00028664872,95001.00028664872,95001.00028664872,95001.00028664872,95001.00028664872,95001.00028664872,95001.00028664872,95001.00028664872,95001.00028664872,95001.00028664872,95001.00028664872],[95001.0056915658,95001.0056915658,95001.0056915658,95001.0056915658,95001.0056915658,95001.0056915658,95001.0056915658,95001.0056915658,95001.0056915658,95001.0056915658,95001.0056915658,95001.0056915658,95001.0056915658,95001.0056915658,95001.0056915658,95001.0056915658,95001.0056915658,95001.0056915658,95001.0056915658,95001.0056915658,95001.0056915658,95001.0056915658,95001.0056915658,95001.0056915658,95001.0056915658,95001.0056915658,95001.0056915658,95001.0056915658,95001.0056915658,95001.0056915658,95001.0056915658,95001.0056915658,95001.0056915658,95001.0056915658,95001.0056915658,95001.0056915658,95001.0056915658,95001.0056915658,95001.0056915658,95001.0056915658,95001.0056915658,95001.0056915658,95001.0056915658,95001.0056915658,95001.0056915658,95001.0056915658,95001.0056915658,95001.0056915658,95001.0056915658,95001.0056915658],[95001.0889552126,95001.0889552126,95001.0889552126,95001.0889552126,95001.0889552126,95001.0889552126,95001.0889552126,95001.0889552126,95001.0889552126,95001.0889552126,95001.0889552126,95001.0889552126,95001.0889552126,95001.0889552126,95001.0889552126,95001.0889552126,95001.0889552126,95001.0889552126,95001.0889552126,95001.0889552126,95001.0889552126,95001.0889552126,95001.0889552126,95001.0889552126,95001.0889552126,95001.0889552126,95001.0889552126,95001.0889552126,95001.0889552126,95001.0889552126,95001.0889552126,95001.0889552126,95001.0889552126,95001.0889552126,95001.0889552126,95001.0889552126,95001.0889552126,95001.0889552126,95001.0889552126,95001.0889552126,95001.0889552126,95001.0889552126,95001.0889552126,95001.0889552126,95001.0889552126,95001.0889552126,95001.0889552126,95001.0889552126,95001.0889552126,95001.0889552126],[95002.09089542924,95002.09089542924,95002.09089542924,95002.09089542924,95002.09089542924,95002.09089542924,95002.09089542924,95002.09089542924,95002.09089542924,95002.09089542924,95002.09089542924,95002.09089542924,95002.09089542924,95002.09089542924,95002.09089542924,95002.09089542924,95002.09089542924,95002.09089542924,95002.09089542924,95002.09089542924,95002.09089542924,95002.09089542924,95002.09089542924,95002.09089542924,95002.09089542924,95002.09089542924,95002.09089542924,95002.09089542924,95002.09089542924,95002.09089542924,95002.09089542924,95002.09089542924,95002.09089542924,95002.09089542924,95002.09089542924,95002.09089542924,95002.09089542924,95002.09089542924,95002.09089542924,95002.09089542924,95002.09089542924,95002.09089542924,95002.09089542924,95002.09089542924,95002.09089542924,95002.09089542924,95002.09089542924,95002.09089542924,95002.09089542924,95002.09089542924],[95011.4585690769,95011.4585690769,95011.4585690769,95011.4585690769,95011.4585690769,95011.4585690769,95011.4585690769,95011.4585690769,95011.4585690769,95011.4585690769,95011.4585690769,95011.4585690769,95011.4585690769,95011.4585690769,95011.4585690769,95011.4585690769,95011.4585690769,95011.4585690769,95011.4585690769,95011.4585690769,95011.4585690769,95011.4585690769,95011.4585690769,95011.4585690769,95011.4585690769,95011.4585690769,95011.4585690769,95011.4585690769,95011.4585690769,95011.4585690769,95011.4585690769,95011.4585690769,95011.4585690769,95011.4585690769,95011.4585690769,95011.4585690769,95011.4585690769,95011.4585690769,95011.4585690769,95011.4585690769,95011.4585690769,95011.4585690769,95011.4585690769,95011.4585690769,95011.4585690769,95011.4585690769,95011.4585690769,95011.4585690769,95011.4585690769,95011.4585690769],[95079.0833062097,95079.0833062097,95079.0833062097,95079.0833062097,95079.0833062097,95079.0833062097,95079.0833062097,95079.0833062097,95079.0833062097,95079.0833062097,95079.0833062097,95079.0833062097,95079.0833062097,95079.0833062097,95079.0833062097,95079.0833062097,95079.0833062097,95079.0833062097,95079.0833062097,95079.0833062097,95079.0833062097,95079.0833062097,95079.0833062097,95079.0833062097,95079.0833062097,95079.0833062097,95079.0833062097,95079.0833062097,95079.0833062097,95079.0833062097,95079.0833062097,95079.0833062097,95079.0833062097,95079.0833062097,95079.0833062097,95079.0833062097,95079.0833062097,95079.0833062097,95079.0833062097,95079.0833062097,95079.0833062097,95079.0833062097,95079.0833062097,95079.0833062097,95079.0833062097,95079.0833062097,95079.0833062097,95079.0833062097,95079.0833062097,95079.0833062097],[95453.83721661396,95453.83721661396,95453.83721661396,95453.83721661396,95453.83721661396,95453.83721661396,95453.83721661396,95453.83721661396,95453.83721661396,95453.83721661396,95453.83721661396,95453.83721661396,95453.83721661396,95453.83721661396,95453.83721661396,95453.83721661396,95453.83721661396,95453.83721661396,95453.83721661396,95453.83721661396,95453.83721661396,95453.83721661396,95453.83721661396,95453.83721661396,95453.83721661396,95453.83721661396,95453.83721661396,95453.83721661396,95453.83721661396,95453.83721661396,95453.83721661396,95453.83721661396,95453.83721661396,95453.83721661396,95453.83721661396,95453.83721661396,95453.83721661396,95453.83721661396,95453.83721661396,95453.83721661396,95453.83721661396,95453.83721661396,95453.83721661396,95453.83721661396,95453.83721661396,95453.83721661396,95453.83721661396,95453.83721661396,95453.83721661396,95453.83721661396],[97047.4386154893,97047.4386154893,97047.4386154893,97047.4386154893,97047.4386154893,97047.4386154893,97047.4386154893,97047.4386154893,97047.4386154893,97047.4386154893,97047.4386154893,97047.4386154893,97047.4386154893,97047.4386154893,97047.4386154893,97047.4386154893,97047.4386154893,97047.4386154893,97047.4386154893,97047.4386154893,97047.4386154893,97047.4386154893,97047.4386154893,97047.4386154893,97047.4386154893,97047.4386154893,97047.4386154893,97047.4386154893,97047.4386154893,97047.4386154893,97047.4386154893,97047.4386154893,97047.4386154893,97047.4386154893,97047.4386154893,97047.4386154893,97047.4386154893,97047.4386154893,97047.4386154893,97047.4386154893,97047.4386154893,97047.4386154893,97047.4386154893,97047.4386154893,97047.4386154893,97047.4386154893,97047.4386154893,97047.4386154893,97047.4386154893,97047.4386154893],[102306.09711529005,102306.09711529005,102306.09711529005,102306.09711529005,102306.09711529005,102306.09711529005,102306.09711529005,102306.09711529005,102306.09711529005,102306.09711529005,102306.09711529005,102306.09711529005,102306.09711529005,102306.09711529005,102306.09711529005,102306.09711529005,102306.09711529005,102306.09711529005,102306.09711529005,102306.09711529005,102306.09711529005,102306.09711529005,102306.09711529005,102306.09711529005,102306.09711529005,102306.09711529005,102306.09711529005,102306.09711529005,102306.09711529005,102306.09711529005,102306.09711529005,102306.09711529005,102306.09711529005,102306.09711529005,102306.09711529005,102306.09711529005,102306.09711529005,102306.09711529005,102306.09711529005,102306.09711529005,102306.09711529005,102306.09711529005,102306.09711529005,102306.09711529005,102306.09711529005,102306.09711529005,102306.09711529005,102306.09711529005,102306.09711529005,102306.09711529005],[115882.56898729016,115882.56898729016,115882.56898729016,115882.56898729016,115882.56898729016,115882.56898729016,115882.56898729016,115882.56898729016,115882.56898729016,115882.56898729016,115882.56898729016,115882.56898729016,115882.56898729016,115882.56898729016,115882.56898729016,115882.56898729016,115882.56898729016,115882.56898729016,115882.56898729016,115882.56898729016,115882.56898729016,115882.56898729016,115882.56898729016,115882.56898729016,115882.56898729016,115882.56898729016,115882.56898729016,115882.56898729016,115882.56898729016,115882.56898729016,115882.56898729016,115882.56898729016,115882.56898729016,115882.56898729016,115882.56898729016,115882.56898729016,115882.56898729016,115882.56898729016,115882.56898729016,115882.56898729016,115882.56898729016,115882.56898729016,115882.56898729016,115882.56898729016,115882.56898729016,115882.56898729016,115882.56898729016,115882.56898729016,115882.56898729016,115882.56898729016],[141905.90084437167,141905.90084437167,141905.90084437167,141905.90084437167,141905.90084437167,141905.90084437167,141905.90084437167,141905.90084437167,141905.90084437167,141905.90084437167,141905.90084437167,141905.90084437167,141905.90084437167,141905.90084437167,141905.90084437167,141905.90084437167,141905.90084437167,141905.90084437167,141905.90084437167,141905.90084437167,141905.90084437167,141905.90084437167,141905.90084437167,141905.90084437167,141905.90084437167,141905.90084437167,141905.90084437167,141905.90084437167,141905.90084437167,141905.90084437167,141905.90084437167,141905.90084437167,141905.90084437167,141905.90084437167,141905.90084437167,141905.90084437167,141905.90084437167,141905.90084437167,141905.90084437167,141905.90084437167,141905.90084437167,141905.90084437167,141905.90084437167,141905.90084437167,141905.90084437167,141905.90084437167,141905.90084437167,141905.90084437167,141905.90084437167,141905.90084437167],[173211.59273845833,173211.59273845833,173211.59273845833,173211.59273845833,173211.59273845833,173211.59273845833,173211.59273845833,173211.59273845833,173211.59273845833,173211.59273845833,173211.59273845833,173211.59273845833,173211.59273845833,173211.59273845833,173211.59273845833,173211.59273845833,173211.59273845833,173211.59273845833,173211.59273845833,173211.59273845833,173211.59273845833,173211.59273845833,173211.59273845833,173211.59273845833,173211.59273845833,173211.59273845833,173211.59273845833,173211.59273845833,173211.59273845833,173211.59273845833,173211.59273845833,173211.59273845833,173211.59273845833,173211.59273845833,173211.59273845833,173211.59273845833,173211.59273845833,173211.59273845833,173211.59273845833,173211.59273845833,173211.59273845833,173211.59273845833,173211.59273845833,173211.59273845833,173211.59273845833,173211.59273845833,173211.59273845833,173211.59273845833,173211.59273845833,173211.59273845833],[187846.395820898,187846.395820898,187846.395820898,187846.395820898,187846.395820898,187846.395820898,187846.395820898,187846.395820898,187846.395820898,187846.395820898,187846.395820898,187846.395820898,187846.395820898,187846.395820898,187846.395820898,187846.395820898,187846.395820898,187846.395820898,187846.395820898,187846.395820898,187846.395820898,187846.395820898,187846.395820898,187846.395820898,187846.395820898,187846.395820898,187846.395820898,187846.395820898,187846.395820898,187846.395820898,187846.395820898,187846.395820898,187846.395820898,187846.395820898,187846.395820898,187846.395820898,187846.395820898,187846.395820898,187846.395820898,187846.395820898,187846.395820898,187846.395820898,187846.395820898,187846.395820898,187846.395820898,187846.395820898,187846.395820898,187846.395820898,187846.395820898,187846.395820898],[175283.27617027643,175283.27617027643,175283.27617027643,175283.27617027643,175283.27617027643,175283.27617027643,175283.27617027643,175283.27617027643,175283.27617027643,175283.27617027643,175283.27617027643,175283.27617027643,175283.27617027643,175283.27617027643,175283.27617027643,175283.27617027643,175283.27617027643,175283.27617027643,175283.27617027643,175283.27617027643,175283.27617027643,175283.27617027643,175283.27617027643,175283.27617027643,175283.27617027643,175283.27617027643,175283.27617027643,175283.27617027643,175283.27617027643,175283.27617027643,175283.27617027643,175283.27617027643,175283.27617027643,175283.27617027643,175283.27617027643,175283.27617027643,175283.27617027643,175283.27617027643,175283.27617027643,175283.27617027643,175283.27617027643,175283.27617027643,175283.27617027643,175283.27617027643,175283.27617027643,175283.27617027643,175283.27617027643,175283.27617027643,175283.27617027643,175283.27617027643],[149262.93797313888,149262.93797313888,149262.93797313888,149262.93797313888,149262.93797313888,149262.93797313888,149262.93797313888,149262.93797313888,149262.93797313888,149262.93797313888,149262.93797313888,149262.93797313888,149262.93797313888,149262.93797313888,149262.93797313888,149262.93797313888,149262.93797313888,149262.93797313888,149262.93797313888,149262.93797313888,149262.93797313888,149262.93797313888,149262.93797313888,149262.93797313888,149262.93797313888,149262.93797313888,149262.93797313888,149262.93797313888,149262.93797313888,149262.93797313888,149262.93797313888,149262.93797313888,149262.93797313888,149262.93797313888,149262.93797313888,149262.93797313888,149262.93797313888,149262.93797313888,149262.93797313888,149262.93797313888,149262.93797313888,149262.93797313888,149262.93797313888,149262.93797313888,149262.93797313888,149262.93797313888,149262.93797313888,149262.93797313888,149262.93797313888,149262.93797313888],[123960.53064490011,123960.53064490011,123960.53064490011,123960.53064490011,123960.53064490011,123960.53064490011,123960.53064490011,123960.53064490011,123960.53064490011,123960.53064490011,123960.53064490011,123960.53064490011,123960.53064490011,123960.53064490011,123960.53064490011,123960.53064490011,123960.53064490011,123960.53064490011,123960.53064490011,123960.53064490011,123960.53064490011,123960.53064490011,123960.53064490011,123960.53064490011,123960.53064490011,123960.53064490011,123960.53064490011,123960.53064490011,123960.53064490011,123960.53064490011,123960.53064490011,123960.53064490011,123960.53064490011,123960.53064490011,123960.53064490011,123960.53064490011,123960.53064490011,123960.53064490011,123960.53064490011,123960.53064490011,123960.53064490011,123960.53064490011,123960.53064490011,123960.53064490011,123960.53064490011,123960.53064490011,123960.53064490011,123960.53064490011,123960.53064490011,123960.53064490011],[103389.34133860245,103389.34133860245,103389.34133860245,103389.34133860245,103389.34133860245,103389.34133860245,103389.34133860245,103389.34133860245,103389.34133860245,103389.34133860245,103389.34133860245,103389.34133860245,103389.34133860245,103389.34133860245,103389.34133860245,103389.34133860245,103389.34133860245,103389.34133860245,103389.34133860245,103389.34133860245,103389.34133860245,103389.34133860245,103389.34133860245,103389.34133860245,103389.34133860245,103389.34133860245,103389.34133860245,103389.34133860245,103389.34133860245,103389.34133860245,103389.34133860245,103389.34133860245,103389.34133860245,103389.34133860245,103389.34133860245,103389.34133860245,103389.34133860245,103389.34133860245,103389.34133860245,103389.34133860245,103389.34133860245,103389.34133860245,103389.34133860245,103389.34133860245,103389.34133860245,103389.34133860245,103389.34133860245,103389.34133860245,103389.34133860245,103389.34133860245],[87878.81104573898,87878.81104573898,87878.81104573898,87878.81104573898,87878.81104573898,87878.81104573898,87878.81104573898,87878.81104573898,87878.81104573898,87878.81104573898,87878.81104573898,87878.81104573898,87878.81104573898,87878.81104573898,87878.81104573898,87878.81104573898,87878.81104573898,87878.81104573898,87878.81104573898,87878.81104573898,87878.81104573898,87878.81104573898,87878.81104573898,87878.81104573898,87878.81104573898,87878.81104573898,87878.81104573898,87878.81104573898,87878.81104573898,87878.81104573898,87878.81104573898,87878.81104573898,87878.81104573898,87878.81104573898,87878.81104573898,87878.81104573898,87878.81104573898,87878.81104573898,87878.81104573898,87878.81104573898,87878.81104573898,87878.81104573898,87878.81104573898,87878.81104573898,87878.81104573898,87878.81104573898,87878.81104573898,87878.81104573898,87878.81104573898,87878.81104573898],[77434.24332715229,77434.24332715229,77434.24332715229,77434.24332715229,77434.24332715229,77434.24332715229,77434.24332715229,77434.24332715229,77434.24332715229,77434.24332715229,77434.24332715229,77434.24332715229,77434.24332715229,77434.24332715229,77434.24332715229,77434.24332715229,77434.24332715229,77434.24332715229,77434.24332715229,77434.24332715229,77434.24332715229,77434.24332715229,77434.24332715229,77434.24332715229,77434.24332715229,77434.24332715229,77434.24332715229,77434.24332715229,77434.24332715229,77434.24332715229,77434.24332715229,77434.24332715229,77434.24332715229,77434.24332715229,77434.24332715229,77434.24332715229,77434.24332715229,77434.24332715229,77434.24332715229,77434.24332715229,77434.24332715229,77434.24332715229,77434.24332715229,77434.24332715229,77434.24332715229,77434.24332715229,77434.24332715229,77434.24332715229,77434.24332715229,77434.24332715229],[72086.50371135375,72086.50371135375,72086.50371135375,72086.50371135375,72086.50371135375,72086.50371135375,72086.50371135375,72086.50371135375,72086.50371135375,72086.50371135375,72086.50371135375,72086.50371135375,72086.50371135375,72086.50371135375,72086.50371135375,72086.50371135375,72086.50371135375,72086.50371135375,72086.50371135375,72086.50371135375,72086.50371135375,72086.50371135375,72086.50371135375,72086.50371135375,72086.50371135375,72086.50371135375,72086.50371135375,72086.50371135375,72086.50371135375,72086.50371135375,72086.50371135375,72086.50371135375,72086.50371135375,72086.50371135375,72086.50371135375,72086.50371135375,72086.50371135375,72086.50371135375,72086.50371135375,72086.50371135375,72086.50371135375,72086.50371135375,72086.50371135375,72086.50371135375,72086.50371135375,72086.50371135375,72086.50371135375,72086.50371135375,72086.50371135375,72086.50371135375],[71455.1962501253,71455.1962501253,71455.1962501253,71455.1962501253,71455.1962501253,71455.1962501253,71455.1962501253,71455.1962501253,71455.1962501253,71455.1962501253,71455.1962501253,71455.1962501253,71455.1962501253,71455.1962501253,71455.1962501253,71455.1962501253,71455.1962501253,71455.1962501253,71455.1962501253,71455.1962501253,71455.1962501253,71455.1962501253,71455.1962501253,71455.1962501253,71455.1962501253,71455.1962501253,71455.1962501253,71455.1962501253,71455.1962501253,71455.1962501253,71455.1962501253,71455.1962501253,71455.1962501253,71455.1962501253,71455.1962501253,71455.1962501253,71455.1962501253,71455.1962501253,71455.1962501253,71455.1962501253,71455.1962501253,71455.1962501253,71455.1962501253,71455.1962501253,71455.1962501253,71455.1962501253,71455.1962501253,71455.1962501253,71455.1962501253,71455.1962501253],[72354.89573320223,72354.89573320223,72354.89573320223,72354.89573320223,72354.89573320223,72354.89573320223,72354.89573320223,72354.89573320223,72354.89573320223,72354.89573320223,72354.89573320223,72354.89573320223,72354.89573320223,72354.89573320223,72354.89573320223,72354.89573320223,72354.89573320223,72354.89573320223,72354.89573320223,72354.89573320223,72354.89573320223,72354.89573320223,72354.89573320223,72354.89573320223,72354.89573320223,72354.89573320223,72354.89573320223,72354.89573320223,72354.89573320223,72354.89573320223,72354.89573320223,72354.89573320223,72354.89573320223,72354.89573320223,72354.89573320223,72354.89573320223,72354.89573320223,72354.89573320223,72354.89573320223,72354.89573320223,72354.89573320223,72354.89573320223,72354.89573320223,72354.89573320223,72354.89573320223,72354.89573320223,72354.89573320223,72354.89573320223,72354.89573320223,72354.89573320223],[71373.20029805691,71373.20029805691,71373.20029805691,71373.20029805691,71373.20029805691,71373.20029805691,71373.20029805691,71373.20029805691,71373.20029805691,71373.20029805691,71373.20029805691,71373.20029805691,71373.20029805691,71373.20029805691,71373.20029805691,71373.20029805691,71373.20029805691,71373.20029805691,71373.20029805691,71373.20029805691,71373.20029805691,71373.20029805691,71373.20029805691,71373.20029805691,71373.20029805691,71373.20029805691,71373.20029805691,71373.20029805691,71373.20029805691,71373.20029805691,71373.20029805691,71373.20029805691,71373.20029805691,71373.20029805691,71373.20029805691,71373.20029805691,71373.20029805691,71373.20029805691,71373.20029805691,71373.20029805691,71373.20029805691,71373.20029805691,71373.20029805691,71373.20029805691,71373.20029805691,71373.20029805691,71373.20029805691,71373.20029805691,71373.20029805691,71373.20029805691],[73049.21944227477,73049.21944227477,73049.21944227477,73049.21944227477,73049.21944227477,73049.21944227477,73049.21944227477,73049.21944227477,73049.21944227477,73049.21944227477,73049.21944227477,73049.21944227477,73049.21944227477,73049.21944227477,73049.21944227477,73049.21944227477,73049.21944227477,73049.21944227477,73049.21944227477,73049.21944227477,73049.21944227477,73049.21944227477,73049.21944227477,73049.21944227477,73049.21944227477,73049.21944227477,73049.21944227477,73049.21944227477,73049.21944227477,73049.21944227477,73049.21944227477,73049.21944227477,73049.21944227477,73049.21944227477,73049.21944227477,73049.21944227477,73049.21944227477,73049.21944227477,73049.21944227477,73049.21944227477,73049.21944227477,73049.21944227477,73049.21944227477,73049.21944227477,73049.21944227477,73049.21944227477,73049.21944227477,73049.21944227477,73049.21944227477,73049.21944227477],[80651.86826763912,80651.86826763912,80651.86826763912,80651.86826763912,80651.86826763912,80651.86826763912,80651.86826763912,80651.86826763912,80651.86826763912,80651.86826763912,80651.86826763912,80651.86826763912,80651.86826763912,80651.86826763912,80651.86826763912,80651.86826763912,80651.86826763912,80651.86826763912,80651.86826763912,80651.86826763912,80651.86826763912,80651.86826763912,80651.86826763912,80651.86826763912,80651.86826763912,80651.86826763912,80651.86826763912,80651.86826763912,80651.86826763912,80651.86826763912,80651.86826763912,80651.86826763912,80651.86826763912,80651.86826763912,80651.86826763912,80651.86826763912,80651.86826763912,80651.86826763912,80651.86826763912,80651.86826763912,80651.86826763912,80651.86826763912,80651.86826763912,80651.86826763912,80651.86826763912,80651.86826763912,80651.86826763912,80651.86826763912,80651.86826763912,80651.86826763912],[88673.95282949183,88673.95282949183,88673.95282949183,88673.95282949183,88673.95282949183,88673.95282949183,88673.95282949183,88673.95282949183,88673.95282949183,88673.95282949183,88673.95282949183,88673.95282949183,88673.95282949183,88673.95282949183,88673.95282949183,88673.95282949183,88673.95282949183,88673.95282949183,88673.95282949183,88673.95282949183,88673.95282949183,88673.95282949183,88673.95282949183,88673.95282949183,88673.95282949183,88673.95282949183,88673.95282949183,88673.95282949183,88673.95282949183,88673.95282949183,88673.95282949183,88673.95282949183,88673.95282949183,88673.95282949183,88673.95282949183,88673.95282949183,88673.95282949183,88673.95282949183,88673.95282949183,88673.95282949183,88673.95282949183,88673.95282949183,88673.95282949183,88673.95282949183,88673.95282949183,88673.95282949183,88673.95282949183,88673.95282949183,88673.95282949183,88673.95282949183],[93039.11986782744,93039.11986782744,93039.11986782744,93039.11986782744,93039.11986782744,93039.11986782744,93039.11986782744,93039.11986782744,93039.11986782744,93039.11986782744,93039.11986782744,93039.11986782744,93039.11986782744,93039.11986782744,93039.11986782744,93039.11986782744,93039.11986782744,93039.11986782744,93039.11986782744,93039.11986782744,93039.11986782744,93039.11986782744,93039.11986782744,93039.11986782744,93039.11986782744,93039.11986782744,93039.11986782744,93039.11986782744,93039.11986782744,93039.11986782744,93039.11986782744,93039.11986782744,93039.11986782744,93039.11986782744,93039.11986782744,93039.11986782744,93039.11986782744,93039.11986782744,93039.11986782744,93039.11986782744,93039.11986782744,93039.11986782744,93039.11986782744,93039.11986782744,93039.11986782744,93039.11986782744,93039.11986782744,93039.11986782744,93039.11986782744,93039.11986782744],[94552.43906220191,94552.43906220191,94552.43906220191,94552.43906220191,94552.43906220191,94552.43906220191,94552.43906220191,94552.43906220191,94552.43906220191,94552.43906220191,94552.43906220191,94552.43906220191,94552.43906220191,94552.43906220191,94552.43906220191,94552.43906220191,94552.43906220191,94552.43906220191,94552.43906220191,94552.43906220191,94552.43906220191,94552.43906220191,94552.43906220191,94552.43906220191,94552.43906220191,94552.43906220191,94552.43906220191,94552.43906220191,94552.43906220191,94552.43906220191,94552.43906220191,94552.43906220191,94552.43906220191,94552.43906220191,94552.43906220191,94552.43906220191,94552.43906220191,94552.43906220191,94552.43906220191,94552.43906220191,94552.43906220191,94552.43906220191,94552.43906220191,94552.43906220191,94552.43906220191,94552.43906220191,94552.43906220191,94552.43906220191,94552.43906220191,94552.43906220191],[94923.04483713226,94923.04483713226,94923.04483713226,94923.04483713226,94923.04483713226,94923.04483713226,94923.04483713226,94923.04483713226,94923.04483713226,94923.04483713226,94923.04483713226,94923.04483713226,94923.04483713226,94923.04483713226,94923.04483713226,94923.04483713226,94923.04483713226,94923.04483713226,94923.04483713226,94923.04483713226,94923.04483713226,94923.04483713226,94923.04483713226,94923.04483713226,94923.04483713226,94923.04483713226,94923.04483713226,94923.04483713226,94923.04483713226,94923.04483713226,94923.04483713226,94923.04483713226,94923.04483713226,94923.04483713226,94923.04483713226,94923.04483713226,94923.04483713226,94923.04483713226,94923.04483713226,94923.04483713226,94923.04483713226,94923.04483713226,94923.04483713226,94923.04483713226,94923.04483713226,94923.04483713226,94923.04483713226,94923.04483713226,94923.04483713226,94923.04483713226],[94990.54373311545,94990.54373311545,94990.54373311545,94990.54373311545,94990.54373311545,94990.54373311545,94990.54373311545,94990.54373311545,94990.54373311545,94990.54373311545,94990.54373311545,94990.54373311545,94990.54373311545,94990.54373311545,94990.54373311545,94990.54373311545,94990.54373311545,94990.54373311545,94990.54373311545,94990.54373311545,94990.54373311545,94990.54373311545,94990.54373311545,94990.54373311545,94990.54373311545,94990.54373311545,94990.54373311545,94990.54373311545,94990.54373311545,94990.54373311545,94990.54373311545,94990.54373311545,94990.54373311545,94990.54373311545,94990.54373311545,94990.54373311545,94990.54373311545,94990.54373311545,94990.54373311545,94990.54373311545,94990.54373311545,94990.54373311545,94990.54373311545,94990.54373311545,94990.54373311545,94990.54373311545,94990.54373311545,94990.54373311545,94990.54373311545,94990.54373311545],[94999.90912962313,94999.90912962313,94999.90912962313,94999.90912962313,94999.90912962313,94999.90912962313,94999.90912962313,94999.90912962313,94999.90912962313,94999.90912962313,94999.90912962313,94999.90912962313,94999.90912962313,94999.90912962313,94999.90912962313,94999.90912962313,94999.90912962313,94999.90912962313,94999.90912962313,94999.90912962313,94999.90912962313,94999.90912962313,94999.90912962313,94999.90912962313,94999.90912962313,94999.90912962313,94999.90912962313,94999.90912962313,94999.90912962313,94999.90912962313,94999.90912962313,94999.90912962313,94999.90912962313,94999.90912962313,94999.90912962313,94999.90912962313,94999.90912962313,94999.90912962313,94999.90912962313,94999.90912962313,94999.90912962313,94999.90912962313,94999.90912962313,94999.90912962313,94999.90912962313,94999.90912962313,94999.90912962313,94999.90912962313,94999.90912962313,94999.90912962313],[95000.91104495399,95000.91104495399,95000.91104495399,95000.91104495399,95000.91104495399,95000.91104495399,95000.91104495399,95000.91104495399,95000.91104495399,95000.91104495399,95000.91104495399,95000.91104495399,95000.91104495399,95000.91104495399,95000.91104495399,95000.91104495399,95000.91104495399,95000.91104495399,95000.91104495399,95000.91104495399,95000.91104495399,95000.91104495399,95000.91104495399,95000.91104495399,95000.91104495399,95000.91104495399,95000.91104495399,95000.91104495399,95000.91104495399,95000.91104495399,95000.91104495399,95000.91104495399,95000.91104495399,95000.91104495399,95000.91104495399,95000.91104495399,95000.91104495399,95000.91104495399,95000.91104495399,95000.91104495399,95000.91104495399,95000.91104495399,95000.91104495399,95000.91104495399,95000.91104495399,95000.91104495399,95000.91104495399,95000.91104495399,95000.91104495399,95000.91104495399],[95000.99430843486,95000.99430843486,95000.99430843486,95000.99430843486,95000.99430843486,95000.99430843486,95000.99430843486,95000.99430843486,95000.99430843486,95000.99430843486,95000.99430843486,95000.99430843486,95000.99430843486,95000.99430843486,95000.99430843486,95000.99430843486,95000.99430843486,95000.99430843486,95000.99430843486,95000.99430843486,95000.99430843486,95000.99430843486,95000.99430843486,95000.99430843486,95000.99430843486,95000.99430843486,95000.99430843486,95000.99430843486,95000.99430843486,95000.99430843486,95000.99430843486,95000.99430843486,95000.99430843486,95000.99430843486,95000.99430843486,95000.99430843486,95000.99430843486,95000.99430843486,95000.99430843486,95000.99430843486,95000.99430843486,95000.99430843486,95000.99430843486,95000.99430843486,95000.99430843486,95000.99430843486,95000.99430843486,95000.99430843486,95000.99430843486,95000.99430843486],[95000.99971335128,95000.99971335128,95000.99971335128,95000.99971335128,95000.99971335128,95000.99971335128,95000.99971335128,95000.99971335128,95000.99971335128,95000.99971335128,95000.99971335128,95000.99971335128,95000.99971335128,95000.99971335128,95000.99971335128,95000.99971335128,95000.99971335128,95000.99971335128,95000.99971335128,95000.99971335128,95000.99971335128,95000.99971335128,95000.99971335128,95000.99971335128,95000.99971335128,95000.99971335128,95000.99971335128,95000.99971335128,95000.99971335128,95000.99971335128,95000.99971335128,95000.99971335128,95000.99971335128,95000.99971335128,95000.99971335128,95000.99971335128,95000.99971335128,95000.99971335128,95000.99971335128,95000.99971335128,95000.99971335128,95000.99971335128,95000.99971335128,95000.99971335128,95000.99971335128,95000.99971335128,95000.99971335128,95000.99971335128,95000.99971335128,95000.99971335128],[95000.99998860499,95000.99998860499,95000.99998860499,95000.99998860499,95000.99998860499,95000.99998860499,95000.99998860499,95000.99998860499,95000.99998860499,95000.99998860499,95000.99998860499,95000.99998860499,95000.99998860499,95000.99998860499,95000.99998860499,95000.99998860499,95000.99998860499,95000.99998860499,95000.99998860499,95000.99998860499,95000.99998860499,95000.99998860499,95000.99998860499,95000.99998860499,95000.99998860499,95000.99998860499,95000.99998860499,95000.99998860499,95000.99998860499,95000.99998860499,95000.99998860499,95000.99998860499,95000.99998860499,95000.99998860499,95000.99998860499,95000.99998860499,95000.99998860499,95000.99998860499,95000.99998860499,95000.99998860499,95000.99998860499,95000.99998860499,95000.99998860499,95000.99998860499,95000.99998860499,95000.99998860499,95000.99998860499,95000.99998860499,95000.99998860499,95000.99998860499],[95000.99999964162,95000.99999964162,95000.99999964162,95000.99999964162,95000.99999964162,95000.99999964162,95000.99999964162,95000.99999964162,95000.99999964162,95000.99999964162,95000.99999964162,95000.99999964162,95000.99999964162,95000.99999964162,95000.99999964162,95000.99999964162,95000.99999964162,95000.99999964162,95000.99999964162,95000.99999964162,95000.99999964162,95000.99999964162,95000.99999964162,95000.99999964162,95000.99999964162,95000.99999964162,95000.99999964162,95000.99999964162,95000.99999964162,95000.99999964162,95000.99999964162,95000.99999964162,95000.99999964162,95000.99999964162,95000.99999964162,95000.99999964162,95000.99999964162,95000.99999964162,95000.99999964162,95000.99999964162,95000.99999964162,95000.99999964162,95000.99999964162,95000.99999964162,95000.99999964162,95000.99999964162,95000.99999964162,95000.99999964162,95000.99999964162,95000.99999964162],[95000.99999999107,95000.99999999107,95000.99999999107,95000.99999999107,95000.99999999107,95000.99999999107,95000.99999999107,95000.99999999107,95000.99999999107,95000.99999999107,95000.99999999107,95000.99999999107,95000.99999999107,95000.99999999107,95000.99999999107,95000.99999999107,95000.99999999107,95000.99999999107,95000.99999999107,95000.99999999107,95000.99999999107,95000.99999999107,95000.99999999107,95000.99999999107,95000.99999999107,95000.99999999107,95000.99999999107,95000.99999999107,95000.99999999107,95000.99999999107,95000.99999999107,95000.99999999107,95000.99999999107,95000.99999999107,95000.99999999107,95000.99999999107,95000.99999999107,95000.99999999107,95000.99999999107,95000.99999999107,95000.99999999107,95000.99999999107,95000.99999999107,95000.99999999107,95000.99999999107,95000.99999999107,95000.99999999107,95000.99999999107,95000.99999999107,95000.99999999107],[95000.99999999983,95000.99999999983,95000.99999999983,95000.99999999983,95000.99999999983,95000.99999999983,95000.99999999983,95000.99999999983,95000.99999999983,95000.99999999983,95000.99999999983,95000.99999999983,95000.99999999983,95000.99999999983,95000.99999999983,95000.99999999983,95000.99999999983,95000.99999999983,95000.99999999983,95000.99999999983,95000.99999999983,95000.99999999983,95000.99999999983,95000.99999999983,95000.99999999983,95000.99999999983,95000.99999999983,95000.99999999983,95000.99999999983,95000.99999999983,95000.99999999983,95000.99999999983,95000.99999999983,95000.99999999983,95000.99999999983,95000.99999999983,95000.99999999983,95000.99999999983,95000.99999999983,95000.99999999983,95000.99999999983,95000.99999999983,95000.99999999983,95000.99999999983,95000.99999999983,95000.99999999983,95000.99999999983,95000.99999999983,95000.99999999983,95000.99999999983],[95001.0,95001.0,95001.0,95001.0,95001.0,95001.0,95001.0,95001.0,95001.0,95001.0,95001.0,95001.0,95001.0,95001.0,95001.0,95001.0,95001.0,95001.0,95001.0,95001.0,95001.0,95001.0,95001.0,95001.0,95001.0,95001.0,95001.0,95001.0,95001.0,95001.0,95001.0,95001.0,95001.0,95001.0,95001.0,95001.0,95001.0,95001.0,95001.0,95001.0,95001.0,95001.0,95001.0,95001.0,95001.0,95001.0,95001.0,95001.0,95001.0,95001.0],[95001.0,95001.0,95001.0,95001.0,95001.0,95001.0,95001.0,95001.0,95001.0,95001.0,95001.0,95001.0,95001.0,95001.0,95001.0,95001.0,95001.0,95001.0,95001.0,95001.0,95001.0,95001.0,95001.0,95001.0,95001.0,95001.0,95001.0,95001.0,95001.0,95001.0,95001.0,95001.0,95001.0,95001.0,95001.0,95001.0,95001.0,95001.0,95001.0,95001.0,95001.0,95001.0,95001.0,95001.0,95001.0,95001.0,95001.0,95001.0,95001.0,95001.0],[95001.0,95001.0,95001.0,95001.0,95001.0,95001.0,95001.0,95001.0,95001.0,95001.0,95001.0,95001.0,95001.0,95001.0,95001.0,95001.0,95001.0,95001.0,95001.0,95001.0,95001.0,95001.0,95001.0,95001.0,95001.0,95001.0,95001.0,95001.0,95001.0,95001.0,95001.0,95001.0,95001.0,95001.0,95001.0,95001.0,95001.0,95001.0,95001.0,95001.0,95001.0,95001.0,95001.0,95001.0,95001.0,95001.0,95001.0,95001.0,95001.0,95001.0],[95001.0,95001.0,95001.0,95001.0,95001.0,95001.0,95001.0,95001.0,95001.0,95001.0,95001.0,95001.0,95001.0,95001.0,95001.0,95001.0,95001.0,95001.0,95001.0,95001.0,95001.0,95001.0,95001.0,95001.0,95001.0,95001.0,95001.0,95001.0,95001.0,95001.0,95001.0,95001.0,95001.0,95001.0,95001.0,95001.0,95001.0,95001.0,95001.0,95001.0,95001.0,95001.0,95001.0,95001.0,95001.0,95001.0,95001.0,95001.0,95001.0,95001.0]],\"type\":\"surface\",\"showlegend\":false},{\"line\":{\"color\":\"yellow\",\"width\":10},\"mode\":\"lines\",\"x\":[-0.4693879999999999,-0.4693879999999999,-0.4693879999999999,-0.4693879999999999,-0.4693879999999999,-0.4693879999999999,-0.4693879999999999,-0.4693879999999999,-0.4693879999999999,-0.4693879999999999,-0.4693879999999999,-0.4693879999999999,-0.4693879999999999,-0.4693879999999999,-0.4693879999999999,-0.4693879999999999,-0.4693879999999999,-0.4693879999999999,-0.4693879999999999,-0.4693879999999999,-0.4693879999999999,-0.4693879999999999,-0.4693879999999999,-0.4693879999999999,-0.4693879999999999,-0.4693879999999999,-0.4693879999999999,-0.4693879999999999,-0.4693879999999999,-0.4693879999999999,-0.4693879999999999,-0.4693879999999999,-0.4693879999999999,-0.4693879999999999,-0.4693879999999999,-0.4693879999999999,-0.4693879999999999,-0.4693879999999999,-0.4693879999999999,-0.4693879999999999,-0.4693879999999999,-0.4693879999999999,-0.4693879999999999,-0.4693879999999999,-0.4693879999999999,-0.4693879999999999,-0.4693879999999999,-0.4693879999999999,-0.4693879999999999,-0.4693879999999999,-0.4693879999999999,-0.4693879999999999,-0.4693879999999999,-0.4693879999999999,-0.4693879999999999,-0.4693879999999999,-0.4693879999999999,-0.4693879999999999,-0.4693879999999999,-0.4693879999999999,-0.4693879999999999,-0.4693879999999999,-0.4693879999999999,-0.4693879999999999,-0.4693879999999999,-0.4693879999999999,-0.4693879999999999,-0.4693879999999999,-0.4693879999999999,-0.4693879999999999,-0.4693879999999999,-0.4693879999999999,-0.4693879999999999,-0.4693879999999999,-0.4693879999999999,-0.4693879999999999,-0.4693879999999999,-0.4693879999999999,-0.4693879999999999,-0.4693879999999999,-0.4693879999999999,-0.4693879999999999,-0.4693879999999999,-0.4693879999999999,-0.4693879999999999,-0.4693879999999999,-0.4693879999999999,-0.4693879999999999,-0.4693879999999999,-0.4693879999999999,-0.4693879999999999,-0.4693879999999999,-0.4693879999999999,-0.4693879999999999,-0.4693879999999999,-0.4693879999999999,-0.4693879999999999,-0.4693879999999999,-0.4693879999999999,-0.4693879999999999,-0.4693879999999999,-0.4693879999999999],\"y\":[-0.7163265,-0.6214581701949485,-0.5535467003046788,-0.497511859020054,-0.4484419169219297,-0.4040291633052706,-0.3629782016421811,-0.3244797443057946,-0.28799059174334873,-0.2531269052408176,-0.21960678495915928,-0.18721690959780166,-0.15579197002522474,-0.12520137632285885,-0.09534032820923502,-0.06612362145192444,-0.03748123455870114,-0.0093551108894592,0.01830323455556951,0.045534525960408176,0.07237311773877761,0.0988480775071575,0.12498403931301005,0.15080188303567107,0.17631928050886936,0.20155113817056847,0.2265099584066023,0.2512061362414453,0.2756482040016657,0.29984303360778575,0.32379600394838975,0.3475111391560304,0.37099122239668336,0.39423788890163036,0.4172517013376956,0.4400322101717219,0.4625780013932541,0.4848867337792775,0.50695516778603,0.5287791881091454,0.5503538219415925,0.5716732549585475,0.5927308470512677,0.6135191498022542,0.6340299276279681,0.6542541844022484,0.6741821972056556,0.6938035586190089,0.7131072286931455,0.7320815973854058,0.750714557864908,0.768993590666019,0.7869058582291055,0.8044383089293614,0.8215777892799838,0.8383111626276347,0.8546254323574527,0.8705078674108075,0.8859461278062711,0.9009283878521772,0.9154434548504425,0.9294808813118489,0.9430310690216699,0.9560853636939801,0.9686361394106064,0.9806768725300065,0.9922022052436857,1.0032079994237866,1.0136913818167055,1.023650781967669,1.0330859644867567,1.0419980573682694,1.050389578037062,1.0582644586064331,1.065628071486279,1.072487255976991,1.0788503458303085,1.0847271969678047,1.0901292136462901,1.0950693703856866,1.0995622259830644,1.103623924998205,1.1072721813009314,1.1105262377242504,1.1134067956866152,1.1159359089492427,1.118136836565665,1.120033851635031,1.1216520047109142,1.1230168435936951,1.124154094607495,1.1250893140944638,1.1258475224190188,1.1264528358605144,1.1269281139530052,1.1272946407019822,1.127571857364089,1.1277771619766794,1.1279257866497134,1.128030758108428,1.1281029406567245,1.1281511543413132],\"z\":[149262.93543951737,141513.66946921614,136138.70815289248,131839.6291818345,128185.51392957318,124971.42650519367,122081.38008549936,119442.51233816984,117005.73994371228,114736.29731603735,112608.61047057428,110603.30120806384,108705.33105071726,106902.79670897634,105186.11831026927,103547.47494241693,101980.40169321021,100479.49543872575,99040.19580886797,97658.61931069884,96331.431784909,95055.7489851432,93829.05810737763,92649.15514298393,91514.09433657923,90422.14701545767,89371.76775851949,88361.56637775138,87390.28455288275,86456.776229178,85559.99108647743,84698.96053359391,83872.78578971374,83080.62769363984,82321.69794019,81595.25148670167,80900.5799060028,80237.00548902083,79603.87592327187,79000.5593950119,78426.4399844745,77880.91324649134,77363.38189351957,76873.25152486836,76409.92637445565,75972.80507907184,75561.27649884165,75174.715650018,74812.47983584988,74473.9050823697,74158.30300090119,73864.95820644479,73593.12641975093,73342.03337025593,73110.87459718046,72898.8162177433,72704.99669611682,72528.52960659273,72368.50734208761,72224.00567753307,72094.08905981778,71977.81646446868,71874.2476363485,71782.44951875179,71701.50267300532,71630.5074987497,71568.590082425,71514.90752637468,71468.6526412498,71429.05791765059,71395.39872682304,71366.99573258888,71343.21652575806,71323.47651675755,71307.2391413165,71294.01544748523,71283.36314018648,71274.88516242044,71268.2278909706,71263.07901996194,71259.16519898016,71256.24948474651,71254.1286575639,71252.63044676474,71251.61070384699,71250.95055825842,71250.55358894035,71250.34304450141,71250.25914567737,71250.25650472051,71250.30169660717,71250.37101555188,71250.44844659531,71250.52387570358,71250.59155308918,71250.64881404662,71250.69505058961,71250.73091686286,71250.75774288294,71250.77712550857,71250.790663032],\"type\":\"scatter3d\",\"showlegend\":false},{\"marker\":{\"color\":\"yellow\",\"size\":7},\"name\":\"Parameter Shift Rule\",\"x\":[-0.4693879999999999],\"y\":[-0.7163265],\"z\":[149262.93543951737],\"type\":\"scatter3d\"},{\"line\":{\"color\":\"red\",\"width\":10},\"mode\":\"lines\",\"x\":[0.030612000000000084,0.030612000000000084,0.030612000000000084,0.030612000000000084,0.030612000000000084,0.030612000000000084,0.030612000000000084,0.030612000000000084,0.030612000000000084,0.030612000000000084,0.030612000000000084,0.030612000000000084,0.030612000000000084,0.030612000000000084,0.030612000000000084,0.030612000000000084,0.030612000000000084,0.030612000000000084,0.030612000000000084,0.030612000000000084,0.030612000000000084,0.030612000000000084,0.030612000000000084,0.030612000000000084,0.030612000000000084,0.030612000000000084,0.030612000000000084,0.030612000000000084,0.030612000000000084,0.030612000000000084,0.030612000000000084,0.030612000000000084,0.030612000000000084,0.030612000000000084,0.030612000000000084,0.030612000000000084,0.030612000000000084,0.030612000000000084,0.030612000000000084,0.030612000000000084,0.030612000000000084,0.030612000000000084,0.030612000000000084,0.030612000000000084,0.030612000000000084,0.030612000000000084,0.030612000000000084,0.030612000000000084,0.030612000000000084,0.030612000000000084,0.030612000000000084,0.030612000000000084,0.030612000000000084,0.030612000000000084,0.030612000000000084,0.030612000000000084,0.030612000000000084,0.030612000000000084,0.030612000000000084,0.030612000000000084,0.030612000000000084,0.030612000000000084,0.030612000000000084,0.030612000000000084,0.030612000000000084,0.030612000000000084,0.030612000000000084,0.030612000000000084,0.030612000000000084,0.030612000000000084,0.030612000000000084,0.030612000000000084,0.030612000000000084,0.030612000000000084,0.030612000000000084,0.030612000000000084,0.030612000000000084,0.030612000000000084,0.030612000000000084,0.030612000000000084,0.030612000000000084,0.030612000000000084,0.030612000000000084,0.030612000000000084,0.030612000000000084,0.030612000000000084,0.030612000000000084,0.030612000000000084,0.030612000000000084,0.030612000000000084,0.030612000000000084,0.030612000000000084,0.030612000000000084,0.030612000000000084,0.030612000000000084,0.030612000000000084,0.030612000000000084,0.030612000000000084,0.030612000000000084,0.030612000000000084,0.030612000000000084,0.030612000000000084],\"y\":[-0.7163265,-0.6214581701949485,-0.5536071560003835,-0.497638606106354,-0.44863070691287554,-0.4042733738914758,-0.3632709488746715,-0.32481456758487204,-0.28836167227320486,-0.25352910938280826,-0.22003563719105032,-0.1876685372453741,-0.1562630381870522,-0.12568902152740105,-0.0958420949229884,-0.06663740344886512,-0.03800522208590795,-0.009887743970607474,0.017763306695504355,0.04498847960292025,0.07182198393348499,0.09829276643041501,0.12442536035170101,0.15024056127654867,0.17575597033395546,0.20098643464780527,0.2259444071231353,0.25064024215645064,0.275082439799465,0.29927784791408557,0.3232318296377992,0.3469484018332648,0.3704303489833055,0.3936793161113742,0.41669588368293653,0.4394796270178952,0.4620291624729391,0.48434218249863237,0.5064154816078471,0.5282449752827416,0.5498257138727227,0.5711518935741035,0.5922168666140336,0.6130131527693672,0.6335324543204605,0.6537656764579013,0.6737029550175627,0.6933336932100888,0.7126466087331539,0.7316297923112294,0.7502707783054138,0.7685566275875838,0.7864740223953902,0.8040093723984283,0.8211489307349584,0.8378789183480715,0.8541856545852451,0.8700556917487157,0.8854759511147604,0.9004338578909858,0.914917472657946,0.9289156170428642,0.9424179916886312,0.9554152849927693,0.9678992715738575,0.9798628999472901,0.9913003694248131,1.0022071967584534,1.0125802734949187,1.0224179153591846,1.0317199052171615,1.040487531253047,1.0487236219186395,1.0564325789573255,1.0636204093696568,1.0702947565739425,1.076464930237707,1.0821419333400912,1.0873384840118432,1.0920690286461474,1.0963497417568882,1.1001985071767977,1.1036348745501048,1.1066799848076478,1.1093564585448579,1.1116882420690397,1.1137004074258718,1.11541890498572,1.1168702701228876,1.118081289016024,1.119078632393101,1.119888469798396,1.1205360802541053,1.1210454775728518,1.1214390696223933,1.1217373702191715,1.1219587798694954,1.1221194473506342,1.1222332184458697,1.122311671579881,1.1223642333862,1.1223983611989852],\"z\":[149262.93543951737,141513.66946921614,136143.4158085262,131849.2043153979,128199.36757237194,124988.85283720747,122101.71234276501,119465.16269268586,117030.20461791457,114762.15056405588,112635.49533493376,110630.9198927731,108733.43593735705,106931.18235015315,105214.61446263263,103575.94059491379,102008.72000680472,100507.56950162398,99067.94510999318,97685.97683712839,96358.34165367497,95082.16452537097,93854.94031500579,92674.47143727282,91538.8175552876,90446.25459388079,89395.2410463939,88384.39005711822,87412.4461290835,86478.26557592589,85580.80003408446,84719.08249663793,83892.21543643501,83099.3606639517,82339.7306222245,81612.5808632145,80917.2034817327,80252.92130830944,79619.08268404834,79015.05666083691,78440.2284909918,77893.99529266528,77375.76180181015,76884.9361484059,76420.92562375055,75983.13243626448,75570.94948438721,75183.75620539753,74820.91458672246,74481.76544973846,74165.62513342679,73871.78271489096,73599.49790437856,73347.99974328352,73116.48621450465,72904.1248461325,72710.05435315167,72533.38731984126,72373.21388059217,72228.6063120668,72098.62440822196,71982.32147469817,71878.75075292867,71786.97206876575,71706.05849627114,71635.10283442416,71573.22371181124,71519.57116007034,71473.33152864307,71433.73164864138,71400.04218976179,71371.58018880864,71347.7107595501,71327.8480198873,71311.45529279594,71298.04465189132,71287.17589097196,71278.45500012269,71271.53222983053,71266.09982020356,71261.88946598502,71258.66958080044,71256.24241701563,71254.44109155223,71253.12656354568,71252.18460702035,71251.52282060878,71251.06771619595,71250.76192839057,71250.56158592085,71250.43388346804,71250.3548873756,71250.30760082367,71250.28030370698,71250.26517042931,71250.25715639145,71250.25313256297,71250.25123854043,71250.25041886058,71250.25010541812,71250.25001036152],\"type\":\"scatter3d\",\"showlegend\":false},{\"marker\":{\"color\":\"red\",\"size\":7},\"name\":\"Finite Difference\",\"x\":[0.030612000000000084],\"y\":[-0.7163265],\"z\":[149262.93543951737],\"type\":\"scatter3d\"}],                        {\"template\":{\"data\":{\"bar\":[{\"error_x\":{\"color\":\"#2a3f5f\"},\"error_y\":{\"color\":\"#2a3f5f\"},\"marker\":{\"line\":{\"color\":\"#E5ECF6\",\"width\":0.5},\"pattern\":{\"fillmode\":\"overlay\",\"size\":10,\"solidity\":0.2}},\"type\":\"bar\"}],\"barpolar\":[{\"marker\":{\"line\":{\"color\":\"#E5ECF6\",\"width\":0.5},\"pattern\":{\"fillmode\":\"overlay\",\"size\":10,\"solidity\":0.2}},\"type\":\"barpolar\"}],\"carpet\":[{\"aaxis\":{\"endlinecolor\":\"#2a3f5f\",\"gridcolor\":\"white\",\"linecolor\":\"white\",\"minorgridcolor\":\"white\",\"startlinecolor\":\"#2a3f5f\"},\"baxis\":{\"endlinecolor\":\"#2a3f5f\",\"gridcolor\":\"white\",\"linecolor\":\"white\",\"minorgridcolor\":\"white\",\"startlinecolor\":\"#2a3f5f\"},\"type\":\"carpet\"}],\"choropleth\":[{\"colorbar\":{\"outlinewidth\":0,\"ticks\":\"\"},\"type\":\"choropleth\"}],\"contour\":[{\"colorbar\":{\"outlinewidth\":0,\"ticks\":\"\"},\"colorscale\":[[0.0,\"#0d0887\"],[0.1111111111111111,\"#46039f\"],[0.2222222222222222,\"#7201a8\"],[0.3333333333333333,\"#9c179e\"],[0.4444444444444444,\"#bd3786\"],[0.5555555555555556,\"#d8576b\"],[0.6666666666666666,\"#ed7953\"],[0.7777777777777778,\"#fb9f3a\"],[0.8888888888888888,\"#fdca26\"],[1.0,\"#f0f921\"]],\"type\":\"contour\"}],\"contourcarpet\":[{\"colorbar\":{\"outlinewidth\":0,\"ticks\":\"\"},\"type\":\"contourcarpet\"}],\"heatmap\":[{\"colorbar\":{\"outlinewidth\":0,\"ticks\":\"\"},\"colorscale\":[[0.0,\"#0d0887\"],[0.1111111111111111,\"#46039f\"],[0.2222222222222222,\"#7201a8\"],[0.3333333333333333,\"#9c179e\"],[0.4444444444444444,\"#bd3786\"],[0.5555555555555556,\"#d8576b\"],[0.6666666666666666,\"#ed7953\"],[0.7777777777777778,\"#fb9f3a\"],[0.8888888888888888,\"#fdca26\"],[1.0,\"#f0f921\"]],\"type\":\"heatmap\"}],\"heatmapgl\":[{\"colorbar\":{\"outlinewidth\":0,\"ticks\":\"\"},\"colorscale\":[[0.0,\"#0d0887\"],[0.1111111111111111,\"#46039f\"],[0.2222222222222222,\"#7201a8\"],[0.3333333333333333,\"#9c179e\"],[0.4444444444444444,\"#bd3786\"],[0.5555555555555556,\"#d8576b\"],[0.6666666666666666,\"#ed7953\"],[0.7777777777777778,\"#fb9f3a\"],[0.8888888888888888,\"#fdca26\"],[1.0,\"#f0f921\"]],\"type\":\"heatmapgl\"}],\"histogram\":[{\"marker\":{\"pattern\":{\"fillmode\":\"overlay\",\"size\":10,\"solidity\":0.2}},\"type\":\"histogram\"}],\"histogram2d\":[{\"colorbar\":{\"outlinewidth\":0,\"ticks\":\"\"},\"colorscale\":[[0.0,\"#0d0887\"],[0.1111111111111111,\"#46039f\"],[0.2222222222222222,\"#7201a8\"],[0.3333333333333333,\"#9c179e\"],[0.4444444444444444,\"#bd3786\"],[0.5555555555555556,\"#d8576b\"],[0.6666666666666666,\"#ed7953\"],[0.7777777777777778,\"#fb9f3a\"],[0.8888888888888888,\"#fdca26\"],[1.0,\"#f0f921\"]],\"type\":\"histogram2d\"}],\"histogram2dcontour\":[{\"colorbar\":{\"outlinewidth\":0,\"ticks\":\"\"},\"colorscale\":[[0.0,\"#0d0887\"],[0.1111111111111111,\"#46039f\"],[0.2222222222222222,\"#7201a8\"],[0.3333333333333333,\"#9c179e\"],[0.4444444444444444,\"#bd3786\"],[0.5555555555555556,\"#d8576b\"],[0.6666666666666666,\"#ed7953\"],[0.7777777777777778,\"#fb9f3a\"],[0.8888888888888888,\"#fdca26\"],[1.0,\"#f0f921\"]],\"type\":\"histogram2dcontour\"}],\"mesh3d\":[{\"colorbar\":{\"outlinewidth\":0,\"ticks\":\"\"},\"type\":\"mesh3d\"}],\"parcoords\":[{\"line\":{\"colorbar\":{\"outlinewidth\":0,\"ticks\":\"\"}},\"type\":\"parcoords\"}],\"pie\":[{\"automargin\":true,\"type\":\"pie\"}],\"scatter\":[{\"marker\":{\"colorbar\":{\"outlinewidth\":0,\"ticks\":\"\"}},\"type\":\"scatter\"}],\"scatter3d\":[{\"line\":{\"colorbar\":{\"outlinewidth\":0,\"ticks\":\"\"}},\"marker\":{\"colorbar\":{\"outlinewidth\":0,\"ticks\":\"\"}},\"type\":\"scatter3d\"}],\"scattercarpet\":[{\"marker\":{\"colorbar\":{\"outlinewidth\":0,\"ticks\":\"\"}},\"type\":\"scattercarpet\"}],\"scattergeo\":[{\"marker\":{\"colorbar\":{\"outlinewidth\":0,\"ticks\":\"\"}},\"type\":\"scattergeo\"}],\"scattergl\":[{\"marker\":{\"colorbar\":{\"outlinewidth\":0,\"ticks\":\"\"}},\"type\":\"scattergl\"}],\"scattermapbox\":[{\"marker\":{\"colorbar\":{\"outlinewidth\":0,\"ticks\":\"\"}},\"type\":\"scattermapbox\"}],\"scatterpolar\":[{\"marker\":{\"colorbar\":{\"outlinewidth\":0,\"ticks\":\"\"}},\"type\":\"scatterpolar\"}],\"scatterpolargl\":[{\"marker\":{\"colorbar\":{\"outlinewidth\":0,\"ticks\":\"\"}},\"type\":\"scatterpolargl\"}],\"scatterternary\":[{\"marker\":{\"colorbar\":{\"outlinewidth\":0,\"ticks\":\"\"}},\"type\":\"scatterternary\"}],\"surface\":[{\"colorbar\":{\"outlinewidth\":0,\"ticks\":\"\"},\"colorscale\":[[0.0,\"#0d0887\"],[0.1111111111111111,\"#46039f\"],[0.2222222222222222,\"#7201a8\"],[0.3333333333333333,\"#9c179e\"],[0.4444444444444444,\"#bd3786\"],[0.5555555555555556,\"#d8576b\"],[0.6666666666666666,\"#ed7953\"],[0.7777777777777778,\"#fb9f3a\"],[0.8888888888888888,\"#fdca26\"],[1.0,\"#f0f921\"]],\"type\":\"surface\"}],\"table\":[{\"cells\":{\"fill\":{\"color\":\"#EBF0F8\"},\"line\":{\"color\":\"white\"}},\"header\":{\"fill\":{\"color\":\"#C8D4E3\"},\"line\":{\"color\":\"white\"}},\"type\":\"table\"}]},\"layout\":{\"annotationdefaults\":{\"arrowcolor\":\"#2a3f5f\",\"arrowhead\":0,\"arrowwidth\":1},\"autotypenumbers\":\"strict\",\"coloraxis\":{\"colorbar\":{\"outlinewidth\":0,\"ticks\":\"\"}},\"colorscale\":{\"diverging\":[[0,\"#8e0152\"],[0.1,\"#c51b7d\"],[0.2,\"#de77ae\"],[0.3,\"#f1b6da\"],[0.4,\"#fde0ef\"],[0.5,\"#f7f7f7\"],[0.6,\"#e6f5d0\"],[0.7,\"#b8e186\"],[0.8,\"#7fbc41\"],[0.9,\"#4d9221\"],[1,\"#276419\"]],\"sequential\":[[0.0,\"#0d0887\"],[0.1111111111111111,\"#46039f\"],[0.2222222222222222,\"#7201a8\"],[0.3333333333333333,\"#9c179e\"],[0.4444444444444444,\"#bd3786\"],[0.5555555555555556,\"#d8576b\"],[0.6666666666666666,\"#ed7953\"],[0.7777777777777778,\"#fb9f3a\"],[0.8888888888888888,\"#fdca26\"],[1.0,\"#f0f921\"]],\"sequentialminus\":[[0.0,\"#0d0887\"],[0.1111111111111111,\"#46039f\"],[0.2222222222222222,\"#7201a8\"],[0.3333333333333333,\"#9c179e\"],[0.4444444444444444,\"#bd3786\"],[0.5555555555555556,\"#d8576b\"],[0.6666666666666666,\"#ed7953\"],[0.7777777777777778,\"#fb9f3a\"],[0.8888888888888888,\"#fdca26\"],[1.0,\"#f0f921\"]]},\"colorway\":[\"#636efa\",\"#EF553B\",\"#00cc96\",\"#ab63fa\",\"#FFA15A\",\"#19d3f3\",\"#FF6692\",\"#B6E880\",\"#FF97FF\",\"#FECB52\"],\"font\":{\"color\":\"#2a3f5f\"},\"geo\":{\"bgcolor\":\"white\",\"lakecolor\":\"white\",\"landcolor\":\"#E5ECF6\",\"showlakes\":true,\"showland\":true,\"subunitcolor\":\"white\"},\"hoverlabel\":{\"align\":\"left\"},\"hovermode\":\"closest\",\"mapbox\":{\"style\":\"light\"},\"paper_bgcolor\":\"white\",\"plot_bgcolor\":\"#E5ECF6\",\"polar\":{\"angularaxis\":{\"gridcolor\":\"white\",\"linecolor\":\"white\",\"ticks\":\"\"},\"bgcolor\":\"#E5ECF6\",\"radialaxis\":{\"gridcolor\":\"white\",\"linecolor\":\"white\",\"ticks\":\"\"}},\"scene\":{\"xaxis\":{\"backgroundcolor\":\"#E5ECF6\",\"gridcolor\":\"white\",\"gridwidth\":2,\"linecolor\":\"white\",\"showbackground\":true,\"ticks\":\"\",\"zerolinecolor\":\"white\"},\"yaxis\":{\"backgroundcolor\":\"#E5ECF6\",\"gridcolor\":\"white\",\"gridwidth\":2,\"linecolor\":\"white\",\"showbackground\":true,\"ticks\":\"\",\"zerolinecolor\":\"white\"},\"zaxis\":{\"backgroundcolor\":\"#E5ECF6\",\"gridcolor\":\"white\",\"gridwidth\":2,\"linecolor\":\"white\",\"showbackground\":true,\"ticks\":\"\",\"zerolinecolor\":\"white\"}},\"shapedefaults\":{\"line\":{\"color\":\"#2a3f5f\"}},\"ternary\":{\"aaxis\":{\"gridcolor\":\"white\",\"linecolor\":\"white\",\"ticks\":\"\"},\"baxis\":{\"gridcolor\":\"white\",\"linecolor\":\"white\",\"ticks\":\"\"},\"bgcolor\":\"#E5ECF6\",\"caxis\":{\"gridcolor\":\"white\",\"linecolor\":\"white\",\"ticks\":\"\"}},\"title\":{\"x\":0.05},\"xaxis\":{\"automargin\":true,\"gridcolor\":\"white\",\"linecolor\":\"white\",\"ticks\":\"\",\"title\":{\"standoff\":15},\"zerolinecolor\":\"white\",\"zerolinewidth\":2},\"yaxis\":{\"automargin\":true,\"gridcolor\":\"white\",\"linecolor\":\"white\",\"ticks\":\"\",\"title\":{\"standoff\":15},\"zerolinecolor\":\"white\",\"zerolinewidth\":2}}},\"title\":{\"text\":\"Max-Cut Cost Funtion\"},\"autosize\":false,\"width\":1000,\"height\":1000},                        {\"responsive\": true}                    ).then(function(){\n",
              "                            \n",
              "var gd = document.getElementById('6afc2de3-cea4-4080-a0a1-54da298acfb6');\n",
              "var x = new MutationObserver(function (mutations, observer) {{\n",
              "        var display = window.getComputedStyle(gd).display;\n",
              "        if (!display || display === 'none') {{\n",
              "            console.log([gd, 'removed!']);\n",
              "            Plotly.purge(gd);\n",
              "            observer.disconnect();\n",
              "        }}\n",
              "}});\n",
              "\n",
              "// Listen for the removal of the full notebook cells\n",
              "var notebookContainer = gd.closest('#notebook-container');\n",
              "if (notebookContainer) {{\n",
              "    x.observe(notebookContainer, {childList: true});\n",
              "}}\n",
              "\n",
              "// Listen for the clearing of the current output cell\n",
              "var outputEl = gd.closest('.output');\n",
              "if (outputEl) {{\n",
              "    x.observe(outputEl, {childList: true});\n",
              "}}\n",
              "\n",
              "                        })                };                            </script>        </div>\n",
              "</body>\n",
              "</html>"
            ]
          },
          "metadata": {}
        }
      ],
      "source": [
        "#@title Gradient Plot\n",
        "blp = Model(\"docplex model\")\n",
        "x1 = blp.binary_var(\"x1\")\n",
        "\n",
        "blp.minimize(95000*x1)\n",
        "blp.add_constraint(x1 >= 1)\n",
        "# load from a Docplex model\n",
        "qp_blp = from_docplex_mp(blp)\n",
        "print(qp_blp.export_as_lp_string())\n",
        "qubo_blp = qp2qubo.convert(qp_blp) \n",
        "qubitOp_blp, offset_contour = qubo_blp.to_ising()\n",
        "\n",
        "qubitOp_blp += 0.5*I\n",
        "H_contour = hamiltonian_from_qiskit(qubitOp_blp)\n",
        "\n",
        "from tqdm.notebook import tqdm\n",
        "# objective function\n",
        "def ansatz_cv_contour(var):\n",
        "    qml.Rotation(var[0], wires=0)\n",
        "    qml.Displacement(var[1], 0.0, wires=0)\n",
        "  \n",
        "def cost_function_cv_contour(var, problem, num_wires, cutoff_dim):\n",
        "  \n",
        "  dev = qml.device(\"strawberryfields.fock\", wires=num_wires, cutoff_dim=cutoff_dim)\n",
        "  @qml.qnode(dev)\n",
        "  def circuit(var):\n",
        "    ansatz_cv_contour(var[0])\n",
        "    return [qml.expval(qml.X(i)) for i in range(num_wires)]\n",
        "  \n",
        "  answer = circuit(var)\n",
        "  bi_answer = [a/(cutoff_dim-1) for a in answer]\n",
        "  return problem.objective.evaluate(bi_answer)\n",
        "\n",
        "\n",
        "X = np.linspace(-8, 8, 50)\n",
        "Y = np.linspace(-8, 8, 50)\n",
        "X_m, Y_m = np.meshgrid(X, Y)\n",
        "Z = np.zeros((50, 50))\n",
        "for i in tqdm(range(50)):\n",
        "  for j in range(50):\n",
        "    var = np.array([[X_m[i, j], Y_m[i, j]]])\n",
        "    Z[i, j] = cost_function_cv_contour(var, qubo_blp, len(H_contour.wires), cutoff_dim)\n",
        "\n",
        "lr = 0.03\n",
        "epochs = 101\n",
        "var_contour = np.array([[-1.469388+1.0, -0.8163265]])\n",
        "label = ansatz_label_cv(len(H_contour.wires), len(var_contour))\n",
        "cost_fn = lambda v: cost_function_cv_contour(v, qubo_blp, len(H_contour.wires), cutoff_dim)\n",
        "grad_fn = lambda var: parameter_shift_cv(lambda x: cost_function_cv_contour(x, qubo_blp, len(H_contour.wires), cutoff_dim), var, label)\n",
        "lost_list_ps, var_list_ps = train_contour(cost_fn, grad_fn, epochs, var_contour, lr)\n",
        "\n",
        "var_contour = np.array([[-1.469388+1.5, -0.8163265]])\n",
        "cost_fn = lambda v: cost_function_cv_contour(v, qubo_blp, len(H_contour.wires), cutoff_dim)\n",
        "grad_fn = lambda var: finite_difference_cv(lambda x: cost_function_cv_contour(x, qubo_blp, len(H_contour.wires), cutoff_dim), var)\n",
        "lost_list_fd, var_list_fd = train_contour(cost_fn, grad_fn, epochs, var_contour, lr)\n",
        "\n",
        "\n",
        "a_ps = []\n",
        "b_ps = []\n",
        "for var in var_list_ps:\n",
        "  a_ps.append(var[0][0])\n",
        "  b_ps.append(var[0][1]+0.1)\n",
        "c_ps = [v for v in lost_list_ps]\n",
        "\n",
        "fig = go.Figure(data=[go.Surface(x=X, y=Y, z=Z, showscale=False)])\n",
        "fig.add_trace(go.Scatter3d(x=a_ps, y=b_ps,z=c_ps, mode='lines',\n",
        "                           line=dict(\n",
        "                              color='yellow',\n",
        "                              width=10\n",
        "                          )))\n",
        "fig.add_trace(go.Scatter3d(x=[a_ps[0]], y=[b_ps[0]],z=[c_ps[0]], marker=dict(\n",
        "        size=7,\n",
        "        color=\"yellow\"\n",
        "    ), name=\"Parameter Shift Rule\" ))\n",
        "\n",
        "\n",
        "a_fd = []\n",
        "b_fd = []\n",
        "for var in var_list_fd:\n",
        "  a_fd.append(var[0][0])\n",
        "  b_fd.append(var[0][1]+0.1)\n",
        "c_fd = [v for v in lost_list_fd]\n",
        "fig.add_trace(go.Scatter3d(x=a_fd, y=b_fd,z=c_fd, mode='lines',\n",
        "                           line=dict(\n",
        "                              color='red',\n",
        "                              width=10\n",
        "                          )))\n",
        "fig.add_trace(go.Scatter3d(x=[a_fd[0]], y=[b_fd[0]],z=[c_fd[0]], marker=dict(\n",
        "        size=7,\n",
        "        color=\"red\"\n",
        "    ), name=\"Finite Difference\" ))\n",
        "\n",
        "for trace in fig['data']: \n",
        "    if(trace['name'] is None): trace['showlegend'] = False\n",
        "\n",
        "\n",
        "fig.update_layout(title='Max-Cut Cost Funtion', autosize=False,\n",
        "    width=1000,\n",
        "    height=1000)\n",
        "\n",
        "fig.show()\n"
      ]
    },
    {
      "cell_type": "markdown",
      "metadata": {
        "id": "JLMwDDYwA9-X"
      },
      "source": [
        "## Fixed the number of gate"
      ]
    },
    {
      "cell_type": "code",
      "execution_count": 57,
      "metadata": {
        "cellView": "form",
        "id": "yd5M_Ov69PD0",
        "colab": {
          "base_uri": "https://localhost:8080/",
          "height": 717
        },
        "outputId": "1c368f8b-9f68-42cd-c8cc-89037ea5474e"
      },
      "outputs": [
        {
          "output_type": "display_data",
          "data": {
            "text/html": [
              "<html>\n",
              "<head><meta charset=\"utf-8\" /></head>\n",
              "<body>\n",
              "    <div>            <script src=\"https://cdnjs.cloudflare.com/ajax/libs/mathjax/2.7.5/MathJax.js?config=TeX-AMS-MML_SVG\"></script><script type=\"text/javascript\">if (window.MathJax) {MathJax.Hub.Config({SVG: {font: \"STIX-Web\"}});}</script>                <script type=\"text/javascript\">window.PlotlyConfig = {MathJaxConfig: 'local'};</script>\n",
              "        <script src=\"https://cdn.plot.ly/plotly-2.8.3.min.js\"></script>                <div id=\"a248c075-2a53-4e57-aac9-6b2dcb483270\" class=\"plotly-graph-div\" style=\"height:700px; width:1000px;\"></div>            <script type=\"text/javascript\">                                    window.PLOTLYENV=window.PLOTLYENV || {};                                    if (document.getElementById(\"a248c075-2a53-4e57-aac9-6b2dcb483270\")) {                    Plotly.newPlot(                        \"a248c075-2a53-4e57-aac9-6b2dcb483270\",                        [{\"line\":{\"color\":\"red\",\"width\":2},\"name\":\"Continuous Parameter Shift\",\"showlegend\":true,\"x\":[0,1,2,3,4,5,6,7,8,9,10,11,12,13,14,15,16,17,18,19,20,21,22,23,24,25,26,27,28,29,30,31,32,33,34,35,36,37,38,39,40,41,42,43,44,45,46,47,48,49,50,51,52,53,54,55,56,57,58,59,60,61,62,63,64,65,66,67,68,69,70,71,72,73,74,75,76,77,78,79,80,81,82,83,84,85,86,87,88,89,90,91,92,93,94,95,96,97,98,99,100],\"y\":[0.5717579162361923,-0.816493217079064,-1.4250292666819473,-1.8089705591067151,-2.069119225832933,-2.1546438303137374,-2.2441330958323142,-2.315968810747072,-2.361085048548161,-2.3845177016417693,-2.387712226972893,-2.410786250332708,-2.447251086312124,-2.4392641816649947,-2.459291193842191,-2.4673607823998953,-2.4682527710572737,-2.450706123804032,-2.4590845877316245,-2.4608409960212616,-2.4689195839077236,-2.470927289764584,-2.4709824053821787,-2.460738487703279,-2.4705817355594535,-2.4723839025217957,-2.4804961674692563,-2.4888927004000516,-2.4961943089913907,-2.5069531039384607,-2.5315960738319707,-2.5417333114936325,-2.5717121170308648,-2.578371066059452,-2.609073725817651,-2.6256523201896513,-2.6327477499265775,-2.643934490348311,-2.6727267936017203,-2.7039802144532707,-2.68634681884737,-2.6771201876363335,-2.7138160972979666,-2.7047317444288757,-2.7498915205258405,-2.693091990486085,-2.726362454582204,-2.7473476080419523,-2.7550879055449187,-2.737110353808874,-2.681572233814779,-2.743554487193533,-2.77037476635535,-2.720463064600137,-2.8060538734921185,-2.7684137643292743,-2.767177853264398,-2.7721153532635374,-2.7778605636549263,-2.7725682574019737,-2.7902416527401055,-2.8192710738688405,-2.7945288782231015,-2.862133853295673,-2.8121447443300585,-2.8086005081654797,-2.8203755792494065,-2.80516173099266,-2.801346386090203,-2.832321046914281,-2.8277039366888572,-2.8214434041704357,-2.836622855100587,-2.819472005317966,-2.8119755741935824,-2.809884722923704,-2.775549780842415,-2.7562233502167817,-2.831790501508597,-2.785856842917446,-2.792843917695884,-2.757627939738109,-2.768226674808317,-2.825823553846291,-2.8553985526890253,-2.835990547827744,-2.752024556575368,-2.857487275610472,-2.819386997671354,-2.7629769990080804,-2.8431025900608327,-2.759400522339454,-2.7728119799287203,-2.803921023020881,-2.84139294248292,-2.8121826431941277,-2.8061009807245068,-2.9008687521826415,-2.8669554057592714,-2.8628580863269,-2.7889083860980506],\"type\":\"scatter\",\"xaxis\":\"x\",\"yaxis\":\"y\"},{\"line\":{\"color\":\"green\",\"width\":2},\"mode\":\"lines\",\"name\":\"Continuous Finite Difference\",\"showlegend\":true,\"x\":[0,1,2,3,4,5,6,7,8,9,10,11,12,13,14,15,16,17,18,19,20,21,22,23,24,25,26,27,28,29,30,31,32,33,34,35,36,37,38,39,40,41,42,43,44,45,46,47,48,49,50,51,52,53,54,55,56,57,58,59,60,61,62,63,64,65,66,67,68,69,70,71,72,73,74,75,76,77,78,79,80,81,82,83,84,85,86,87,88,89,90,91,92,93,94,95,96,97,98,99,100],\"y\":[0.5723252873377233,0.4988637808269549,-0.1028155545040194,-0.35778997513881866,-0.5876600694132519,-0.8627066632442153,-0.9735711404286336,-1.1182900262813285,-1.3936714497929412,-1.3948973711280153,-1.4529543314351363,-1.5896406852919733,-1.5890365746300903,-1.5470271421952764,-1.6063349859319251,-1.5711337541269477,-1.5807307001625712,-1.7171948006039235,-1.7626794029922088,-1.8325948446466536,-1.8769278846706616,-1.9519013578999442,-2.001966713810915,-2.0178616455898055,-2.111109836323582,-2.127052849571832,-2.146320035225207,-2.19870628908071,-2.210042550625267,-2.240141131159348,-2.3160112238554804,-2.323030673876631,-2.3584646787410537,-2.320570207465682,-2.2880138287345644,-2.332298655305946,-2.3570813054053574,-2.341784391350652,-2.315426966649744,-2.3094120837866785,-2.3625412123249676,-2.3655449029342326,-2.360681045398492,-2.3125934931132903,-2.36392351106783,-2.2978294926008203,-2.232948967576056,-2.3090018776194263,-2.2853273378465033,-2.2735295593227516,-2.3114903072114,-2.335826295170338,-2.4215793855372874,-2.361565270666292,-2.397407571995088,-2.368342533403293,-2.28894229924006,-2.30486958556244,-2.384516546896242,-2.3796322095412625,-2.435158855073548,-2.419286066228804,-2.4266727759948568,-2.4214035415562414,-2.440428465760504,-2.460998759480157,-2.4446190650459743,-2.4549548549263465,-2.389952646951351,-2.431279994698487,-2.425709529649559,-2.428927386302897,-2.4219921067032413,-2.3792999525613787,-2.3826173971477096,-2.4278584659580287,-2.3641741689864717,-2.3681613419565606,-2.3114680980846063,-2.2827489128010945,-2.2646149829591886,-2.3383100301906197,-2.3662890055697128,-2.388058281340693,-2.361717604966237,-2.372175420721737,-2.3902136415456554,-2.4429191088272413,-2.450630193262264,-2.4413292168663805,-2.4274737632683223,-2.4582895582677846,-2.431825287059721,-2.455737969342802,-2.472936152834401,-2.45399131578197,-2.4373516332727756,-2.4939675748404353,-2.5227768021373995,-2.5498901341904325,-2.592527944026461],\"type\":\"scatter\",\"xaxis\":\"x\",\"yaxis\":\"y\"},{\"line\":{\"color\":\"red\",\"width\":2},\"name\":\"Continuous Parameter Shift\",\"showlegend\":false,\"x\":[0,1,2,3,4,5,6,7,8,9,10,11,12,13,14,15,16,17,18,19,20,21,22,23,24,25,26,27,28,29,30,31,32,33,34,35,36,37,38,39,40,41,42,43,44,45,46,47,48,49,50,51,52,53,54,55,56,57,58,59,60,61,62,63,64,65,66,67,68,69,70,71,72,73,74,75,76,77,78,79,80,81,82,83,84,85,86,87,88,89,90,91,92,93,94,95,96,97,98,99,100],\"y\":[-0.16173695152121087,-0.5845383463858416,-0.8492323562144425,-1.050024738653683,-1.1597393489856498,-1.249609465579213,-1.2957483047235359,-1.3684571906964047,-1.436964288478322,-1.4488225193538231,-1.4863715527811014,-1.5432011241319847,-1.5679789795391266,-1.6457745200945144,-1.6740109270302415,-1.7112730410852042,-1.730071215036522,-1.8224889986687307,-1.8284926207394478,-1.890469163332967,-1.9189341957899178,-1.979261797911315,-1.9821717496544808,-2.0186220481077797,-2.0256417704755605,-2.0361463601066223,-2.052843318250287,-2.085442031898921,-2.080975943126613,-2.0646527274868656,-2.0845106971254577,-2.0653581783003196,-2.055865033537823,-2.0710394588441123,-2.06250618251054,-2.0703598210635787,-2.0896314819542354,-2.0930926306108533,-2.079668337838089,-2.084418952683655,-2.130234658116913,-2.094308385311818,-2.10605876702675,-2.088740763497166,-2.131653999574405,-2.1047335378673893,-2.0950038559161897,-2.100267985873351,-2.102742604941769,-2.1000411040509066,-2.1007148679354923,-2.0981300634840303,-2.131348846803295,-2.1246602723855554,-2.12878356545576,-2.138833441974642,-2.1237205299963056,-2.1040883280542833,-2.1373323693229582,-2.127393397657952,-2.1392874029909494,-2.1323861870361394,-2.128885974409499,-2.107934458663212,-2.1250953989555863,-2.171681327497579,-2.184795921241612,-2.160724271079423,-2.1433851916317224,-2.1357913318615545,-2.133729879549213,-2.1519858753225165,-2.153632133162027,-2.1336500918445043,-2.144673737195069,-2.1794202243747614,-2.1434319536287614,-2.1592634421828154,-2.1528402645806217,-2.1506211317108113,-2.1219650595595265,-2.1538150751381364,-2.130235304710575,-2.152271744958873,-2.11101889991976,-2.1245557857906423,-2.15887621991697,-2.1724015703907007,-2.169621040360048,-2.14763599424966,-2.1420575790654754,-2.166056707624206,-2.1712765888855516,-2.160740075431768,-2.155401936676954,-2.1123749854433647,-2.1212939963809436,-2.151580929752285,-2.154186992377481,-2.126697339551588,-2.1612106500863186],\"type\":\"scatter\",\"xaxis\":\"x2\",\"yaxis\":\"y2\"},{\"line\":{\"color\":\"green\",\"width\":2},\"mode\":\"lines\",\"name\":\"Continuous Finite Difference\",\"showlegend\":false,\"x\":[0,1,2,3,4,5,6,7,8,9,10,11,12,13,14,15,16,17,18,19,20,21,22,23,24,25,26,27,28,29,30,31,32,33,34,35,36,37,38,39,40,41,42,43,44,45,46,47,48,49,50,51,52,53,54,55,56,57,58,59,60,61,62,63,64,65,66,67,68,69,70,71,72,73,74,75,76,77,78,79,80,81,82,83,84,85,86,87,88,89,90,91,92,93,94,95,96,97,98,99,100],\"y\":[-0.16173695152121087,-0.1607011043647651,-0.26402129238996586,-0.33496181663631247,-0.3894608288969359,-0.496237260760813,-0.5270595599549988,-0.5877075415022937,-0.6423302062428267,-0.6447618868276305,-0.6885393462158856,-0.7779191826124567,-0.800146901787341,-0.7852997720797977,-0.8552762485392132,-0.84095913039791,-0.866056663714657,-0.9212989077943994,-0.8805416586285552,-0.9298117086563412,-0.8963806963810628,-0.9369227036358266,-0.9513494923643051,-0.9625344699549311,-1.0217975962646344,-1.1040638671262957,-1.1376054664897115,-1.1440880567586684,-1.1535852645652827,-1.1459064140217952,-1.2607703049354586,-1.301193240327459,-1.3324280342530739,-1.369888147993176,-1.36753388761919,-1.4149100892087045,-1.4592329056759608,-1.4747929862449274,-1.4734367018430328,-1.4951782829533076,-1.5159434845262425,-1.4989987168167302,-1.485106433139763,-1.4739299264122931,-1.4992742348167336,-1.5126952990813771,-1.4843108977725834,-1.4830551176744762,-1.496509862347021,-1.498127911788104,-1.5271436303727928,-1.5189068225979319,-1.5354246797720879,-1.5202417894636118,-1.5550294484686082,-1.560236443224254,-1.5446413209123406,-1.540182545398856,-1.5952095819349341,-1.6184673739616584,-1.616023171407862,-1.651572314053344,-1.6506766752152922,-1.6255474072687068,-1.693842430338798,-1.7285233803984192,-1.7376638640653221,-1.7285110069206318,-1.711569895155273,-1.7275996869403873,-1.7318268138192179,-1.7589113167022625,-1.7538646892516712,-1.7589646921775153,-1.778760333293709,-1.8289602236560514,-1.754652005232637,-1.7683309191146475,-1.7234676075599027,-1.7766030714543102,-1.7584278052571667,-1.801066970167978,-1.79119676404062,-1.827851513916893,-1.80242729451037,-1.8746254722539266,-1.9030016230712505,-1.904595743039478,-1.9265263431653132,-1.9035339556374855,-1.8629522068896138,-1.894432774595286,-1.9072059144827778,-1.899392853834051,-1.904389377200847,-1.8041450820710638,-1.8483604270797551,-1.8621270948441357,-1.8787488461411934,-1.8767567290873808,-1.8879856813768887],\"type\":\"scatter\",\"xaxis\":\"x2\",\"yaxis\":\"y2\"},{\"line\":{\"color\":\"red\",\"width\":2},\"name\":\"Continuous Parameter Shift\",\"showlegend\":false,\"x\":[0,1,2,3,4,5,6,7,8,9,10,11,12,13,14,15,16,17,18,19,20,21,22,23,24,25,26,27,28,29,30,31,32,33,34,35,36,37,38,39,40,41,42,43,44,45,46,47,48,49,50,51,52,53,54,55,56,57,58,59,60,61,62,63,64,65,66,67,68,69,70,71,72,73,74,75,76,77,78,79,80,81,82,83,84,85,86,87,88,89,90,91,92,93,94,95,96,97,98,99,100],\"y\":[952719.4447889548,805694.7043151996,728680.5628466937,664237.562728284,630379.4194413077,602548.4548313259,585737.0777087787,574177.9708098015,559008.018334378,557524.2752878898,553697.5192641593,547141.9075155836,547125.9152480639,541895.0112088149,542151.9346527596,541902.0812315671,547554.180542246,536194.0577425406,542294.1553012846,540646.6886768318,542707.3718988064,534977.7773962123,535557.4103727532,535246.9296032626,536248.3310045099,535329.4720239036,534516.5655469096,530889.5858897502,531372.6691075905,530550.4103778391,523038.02589569404,523534.9008237175,521234.88299884094,518657.94811223535,516442.52836663777,512533.1088174803,508949.0711629464,511003.687873204,514367.79333949985,514440.4767871279,507325.134438977,512987.9247408096,513496.6385194311,515347.11577292497,509765.40351635916,514065.38642916235,516234.0507707437,514032.556904297,515446.5540797866,514145.69683670136,513981.86910072877,516519.25790626695,511388.19569957413,516179.3351326705,514689.1077064731,514212.63519455394,518792.2661133953,521499.1533348515,517114.9381227953,518924.1478604445,516376.725052767,518966.41386235977,520088.9767836863,524413.405112175,520659.2658742067,515177.8676261616,516161.14276496606,515347.18860621535,521070.49384652695,519360.2583136154,521173.3874562284,515951.49957240635,517545.5883399949,517921.5167588583,515156.2718077366,507015.572313273,517077.60020441446,508821.249909114,509603.3458620216,507761.5195989069,512033.3499803563,508510.4156517659,510473.15709552786,511073.0538490621,510474.62341489224,511116.7576772035,514696.70230156276,505409.46214350325,508374.57505758246,510914.9484504502,518854.8639586335,508384.9623824061,509232.629644813,513569.7053905177,516210.9268336149,526012.941597676,525269.2275821655,520891.5364619128,522872.1634881027,528774.7674926342,513834.510338569],\"type\":\"scatter\",\"xaxis\":\"x3\",\"yaxis\":\"y3\"},{\"line\":{\"color\":\"green\",\"width\":2},\"mode\":\"lines\",\"name\":\"Continuous Finite Difference\",\"showlegend\":false,\"x\":[0,1,2,3,4,5,6,7,8,9,10,11,12,13,14,15,16,17,18,19,20,21,22,23,24,25,26,27,28,29,30,31,32,33,34,35,36,37,38,39,40,41,42,43,44,45,46,47,48,49,50,51,52,53,54,55,56,57,58,59,60,61,62,63,64,65,66,67,68,69,70,71,72,73,74,75,76,77,78,79,80,81,82,83,84,85,86,87,88,89,90,91,92,93,94,95,96,97,98,99,100],\"y\":[952719.4447889548,911904.07529147,892276.9447895077,836656.7294184661,808245.8080597532,770666.1304523137,739449.5161735449,706458.1116798953,674979.7657037191,682489.5401054686,679652.0432780123,661003.6734507263,655075.1937799822,656140.7912032241,651263.2155714111,654577.9324613531,657718.5743009287,641482.4599400454,643260.124925943,632776.1471179599,634371.7029357136,631193.8372044908,631687.9179515713,630510.789277867,623311.6946498882,619339.6414129555,617153.6119062542,616354.4160455816,617173.784688938,615447.9152580656,601178.9756687507,598919.7483861623,593882.046981247,594873.9960976527,606500.4214030489,600892.0579482553,591237.1849102345,594236.2704417402,599940.7534375559,602780.180490397,595300.6482721767,605492.0276996447,601009.7796589187,616370.5898177573,605785.3673679702,608863.779576278,620392.6003943313,618024.8327829116,613932.7990845803,609214.8695554404,603509.3386410021,599073.255733633,584102.803392658,591794.6279869335,580770.2405406152,577363.8186282766,591568.1341361473,585038.686871904,582135.272149961,576739.5895282152,571547.8963858818,579799.6315387441,584212.1015700768,586050.9608120418,573658.7327291444,572931.3682700759,572722.6043596864,575144.0243213305,580976.5740541711,575465.1759737163,579896.6673497648,576117.6110523494,578889.1833862389,588987.4619726646,578176.3735832784,571713.3230671595,580138.4060026418,573790.3788186271,577093.863669893,569589.7971916533,568295.5258792904,557352.4964449893,553551.1940556685,552008.0134712238,555285.0042893263,555465.762119443,554529.6212073946,542293.7224243614,544418.5053289128,547441.1345938552,555477.7547494451,542427.0744130496,542570.7074421692,541146.4391706248,541802.077986865,547738.9661194996,547580.1647948988,541651.0162822806,545556.0119799982,547529.9301577641,541555.2102533947],\"type\":\"scatter\",\"xaxis\":\"x3\",\"yaxis\":\"y3\"},{\"line\":{\"color\":\"red\",\"width\":2},\"name\":\"Continuous Parameter Shift\",\"showlegend\":false,\"x\":[0,1,2,3,4,5,6,7,8,9,10,11,12,13,14,15,16,17,18,19,20,21,22,23,24,25,26,27,28,29,30,31,32,33,34,35,36,37,38,39,40,41,42,43,44,45,46,47,48,49,50,51,52,53,54,55,56,57,58,59,60,61,62,63,64,65,66,67,68,69,70,71,72,73,74,75,76,77,78,79,80,81,82,83,84,85,86,87,88,89,90,91,92,93,94,95,96,97,98,99,100],\"y\":[20.581053076500897,11.523956051584674,7.564999517367104,4.661575034517945,3.901383008645496,3.0631619848294527,2.6093709032011994,2.0327702473111486,1.1938128230271232,1.0598675713236574,0.7504477373340706,0.2649322395165399,0.24025589417382065,-0.2021809747330039,-0.2931003661166969,-0.4072284549817695,-0.41749379994179137,-0.7186384699448816,-0.7189621124641512,-0.8752101355837887,-0.8735659656937322,-1.0649504299171042,-1.1008539392476315,-1.1184969043077544,-1.1512745016976922,-1.1437934872777724,-1.1668058667757961,-1.213696897478684,-1.2426134849871104,-1.2422849373286908,-1.3362035547833386,-1.2876365437411224,-1.2738029206939672,-1.364293576887924,-1.3241683459836509,-1.4087588243203655,-1.4076343054961171,-1.4776956409660755,-1.4679624558121773,-1.4268903195506155,-1.4878520718058184,-1.3976283593887189,-1.4809778182250852,-1.4473294386520408,-1.5280116530357333,-1.5346553601189896,-1.5121989537203717,-1.4804917024906956,-1.5284067439598914,-1.5740197400380467,-1.6031056650431452,-1.5729996674380047,-1.6291697896157444,-1.597404150355345,-1.6464289406092973,-1.61247558319684,-1.6180216364462012,-1.6267342440921908,-1.6505647540775996,-1.6356583005944927,-1.6437219041808788,-1.6340165414955123,-1.621833003151906,-1.503268755042221,-1.5750473121855606,-1.6183811988511678,-1.653806759216799,-1.618971673076679,-1.6193990988390254,-1.5684567658506552,-1.630206691248489,-1.6279018807715886,-1.5946218896547038,-1.5537190544920776,-1.6424144850507503,-1.5816278757512379,-1.602128501284895,-1.6101043179898653,-1.5987677729707102,-1.6214331005723253,-1.6003423331079674,-1.5836706639190368,-1.5854198366633199,-1.6056405065749288,-1.546053838286923,-1.5582100857948902,-1.6216507200325836,-1.5792496288901319,-1.6079865646376277,-1.5189274952776657,-1.5760383069746382,-1.5689548429518894,-1.593816193817247,-1.5816032793944501,-1.5783207886245805,-1.5394659216914022,-1.567357180648898,-1.592615525470201,-1.5995129918168587,-1.5636766568778242,-1.5622133252935555],\"type\":\"scatter\",\"xaxis\":\"x4\",\"yaxis\":\"y4\"},{\"line\":{\"color\":\"green\",\"width\":2},\"mode\":\"lines\",\"name\":\"Continuous Finite Difference\",\"showlegend\":false,\"x\":[0,1,2,3,4,5,6,7,8,9,10,11,12,13,14,15,16,17,18,19,20,21,22,23,24,25,26,27,28,29,30,31,32,33,34,35,36,37,38,39,40,41,42,43,44,45,46,47,48,49,50,51,52,53,54,55,56,57,58,59,60,61,62,63,64,65,66,67,68,69,70,71,72,73,74,75,76,77,78,79,80,81,82,83,84,85,86,87,88,89,90,91,92,93,94,95,96,97,98,99,100],\"y\":[20.581053076500897,24.107933630141588,21.597520469876333,19.280957825791088,16.92609768684237,15.96518401363078,14.520262001763186,13.16155155270038,11.020757446549457,11.678100192308488,10.923907431284732,10.14095458357305,10.368881825750284,9.472844981583775,10.788337795042938,10.912624709404916,10.966021503956828,9.387697436822119,8.953745484825506,8.635522083506414,8.54885967423344,8.065416763780322,7.465633996192716,7.764531552632912,7.239509252592004,6.3432994433006265,6.341408436815357,5.8094868693339805,5.624427483222213,5.806870438492407,5.064103061391215,5.19415763469636,5.40141600103229,5.78994740576907,6.302257396547102,5.706842520368587,5.414425778749894,4.7680735550385,4.788697819082074,4.6255854593504,3.9273781647595563,3.9309450725197514,3.75865743168319,4.404581796637753,3.8665600504990767,3.9161054744337456,4.520505400416887,4.370431885921725,4.00075329239267,4.15809531559016,4.0678270953508076,3.985253592315095,3.333563488395882,3.6525104201343908,3.152024396393287,3.2657971722138797,3.63593419840422,3.289632361423994,2.5876944772082027,2.4193281674033713,2.418913620900071,1.8124143540522866,1.8853135801970424,2.317912364829091,1.9474181696369044,1.61711811091876,1.5843018689670387,1.1671585145814447,1.621206489993483,1.3949129439582144,1.1658530192029843,1.2292987350934936,1.057631017842695,1.2506384259204708,1.144378393350351,0.8899126178231711,1.2938187791968723,1.2130399257051394,1.5491458311881274,0.9456919332293836,1.1363885131013518,0.7954559548362852,0.57206441700826,0.4215290374059464,0.8195230693312041,0.4807889957594824,0.3496964972189964,0.07381407260955797,0.026241311031107273,0.23373399878498802,0.4857721765441454,0.3447745923943657,0.7104954015231328,0.7365238616440664,0.6945756723642234,0.7726226270199987,0.6401917702772941,0.4677730422215731,0.5647919205514924,0.7837788484491135,0.34116767785207713],\"type\":\"scatter\",\"xaxis\":\"x4\",\"yaxis\":\"y4\"}],                        {\"template\":{\"data\":{\"bar\":[{\"error_x\":{\"color\":\"#2a3f5f\"},\"error_y\":{\"color\":\"#2a3f5f\"},\"marker\":{\"line\":{\"color\":\"#E5ECF6\",\"width\":0.5},\"pattern\":{\"fillmode\":\"overlay\",\"size\":10,\"solidity\":0.2}},\"type\":\"bar\"}],\"barpolar\":[{\"marker\":{\"line\":{\"color\":\"#E5ECF6\",\"width\":0.5},\"pattern\":{\"fillmode\":\"overlay\",\"size\":10,\"solidity\":0.2}},\"type\":\"barpolar\"}],\"carpet\":[{\"aaxis\":{\"endlinecolor\":\"#2a3f5f\",\"gridcolor\":\"white\",\"linecolor\":\"white\",\"minorgridcolor\":\"white\",\"startlinecolor\":\"#2a3f5f\"},\"baxis\":{\"endlinecolor\":\"#2a3f5f\",\"gridcolor\":\"white\",\"linecolor\":\"white\",\"minorgridcolor\":\"white\",\"startlinecolor\":\"#2a3f5f\"},\"type\":\"carpet\"}],\"choropleth\":[{\"colorbar\":{\"outlinewidth\":0,\"ticks\":\"\"},\"type\":\"choropleth\"}],\"contour\":[{\"colorbar\":{\"outlinewidth\":0,\"ticks\":\"\"},\"colorscale\":[[0.0,\"#0d0887\"],[0.1111111111111111,\"#46039f\"],[0.2222222222222222,\"#7201a8\"],[0.3333333333333333,\"#9c179e\"],[0.4444444444444444,\"#bd3786\"],[0.5555555555555556,\"#d8576b\"],[0.6666666666666666,\"#ed7953\"],[0.7777777777777778,\"#fb9f3a\"],[0.8888888888888888,\"#fdca26\"],[1.0,\"#f0f921\"]],\"type\":\"contour\"}],\"contourcarpet\":[{\"colorbar\":{\"outlinewidth\":0,\"ticks\":\"\"},\"type\":\"contourcarpet\"}],\"heatmap\":[{\"colorbar\":{\"outlinewidth\":0,\"ticks\":\"\"},\"colorscale\":[[0.0,\"#0d0887\"],[0.1111111111111111,\"#46039f\"],[0.2222222222222222,\"#7201a8\"],[0.3333333333333333,\"#9c179e\"],[0.4444444444444444,\"#bd3786\"],[0.5555555555555556,\"#d8576b\"],[0.6666666666666666,\"#ed7953\"],[0.7777777777777778,\"#fb9f3a\"],[0.8888888888888888,\"#fdca26\"],[1.0,\"#f0f921\"]],\"type\":\"heatmap\"}],\"heatmapgl\":[{\"colorbar\":{\"outlinewidth\":0,\"ticks\":\"\"},\"colorscale\":[[0.0,\"#0d0887\"],[0.1111111111111111,\"#46039f\"],[0.2222222222222222,\"#7201a8\"],[0.3333333333333333,\"#9c179e\"],[0.4444444444444444,\"#bd3786\"],[0.5555555555555556,\"#d8576b\"],[0.6666666666666666,\"#ed7953\"],[0.7777777777777778,\"#fb9f3a\"],[0.8888888888888888,\"#fdca26\"],[1.0,\"#f0f921\"]],\"type\":\"heatmapgl\"}],\"histogram\":[{\"marker\":{\"pattern\":{\"fillmode\":\"overlay\",\"size\":10,\"solidity\":0.2}},\"type\":\"histogram\"}],\"histogram2d\":[{\"colorbar\":{\"outlinewidth\":0,\"ticks\":\"\"},\"colorscale\":[[0.0,\"#0d0887\"],[0.1111111111111111,\"#46039f\"],[0.2222222222222222,\"#7201a8\"],[0.3333333333333333,\"#9c179e\"],[0.4444444444444444,\"#bd3786\"],[0.5555555555555556,\"#d8576b\"],[0.6666666666666666,\"#ed7953\"],[0.7777777777777778,\"#fb9f3a\"],[0.8888888888888888,\"#fdca26\"],[1.0,\"#f0f921\"]],\"type\":\"histogram2d\"}],\"histogram2dcontour\":[{\"colorbar\":{\"outlinewidth\":0,\"ticks\":\"\"},\"colorscale\":[[0.0,\"#0d0887\"],[0.1111111111111111,\"#46039f\"],[0.2222222222222222,\"#7201a8\"],[0.3333333333333333,\"#9c179e\"],[0.4444444444444444,\"#bd3786\"],[0.5555555555555556,\"#d8576b\"],[0.6666666666666666,\"#ed7953\"],[0.7777777777777778,\"#fb9f3a\"],[0.8888888888888888,\"#fdca26\"],[1.0,\"#f0f921\"]],\"type\":\"histogram2dcontour\"}],\"mesh3d\":[{\"colorbar\":{\"outlinewidth\":0,\"ticks\":\"\"},\"type\":\"mesh3d\"}],\"parcoords\":[{\"line\":{\"colorbar\":{\"outlinewidth\":0,\"ticks\":\"\"}},\"type\":\"parcoords\"}],\"pie\":[{\"automargin\":true,\"type\":\"pie\"}],\"scatter\":[{\"marker\":{\"colorbar\":{\"outlinewidth\":0,\"ticks\":\"\"}},\"type\":\"scatter\"}],\"scatter3d\":[{\"line\":{\"colorbar\":{\"outlinewidth\":0,\"ticks\":\"\"}},\"marker\":{\"colorbar\":{\"outlinewidth\":0,\"ticks\":\"\"}},\"type\":\"scatter3d\"}],\"scattercarpet\":[{\"marker\":{\"colorbar\":{\"outlinewidth\":0,\"ticks\":\"\"}},\"type\":\"scattercarpet\"}],\"scattergeo\":[{\"marker\":{\"colorbar\":{\"outlinewidth\":0,\"ticks\":\"\"}},\"type\":\"scattergeo\"}],\"scattergl\":[{\"marker\":{\"colorbar\":{\"outlinewidth\":0,\"ticks\":\"\"}},\"type\":\"scattergl\"}],\"scattermapbox\":[{\"marker\":{\"colorbar\":{\"outlinewidth\":0,\"ticks\":\"\"}},\"type\":\"scattermapbox\"}],\"scatterpolar\":[{\"marker\":{\"colorbar\":{\"outlinewidth\":0,\"ticks\":\"\"}},\"type\":\"scatterpolar\"}],\"scatterpolargl\":[{\"marker\":{\"colorbar\":{\"outlinewidth\":0,\"ticks\":\"\"}},\"type\":\"scatterpolargl\"}],\"scatterternary\":[{\"marker\":{\"colorbar\":{\"outlinewidth\":0,\"ticks\":\"\"}},\"type\":\"scatterternary\"}],\"surface\":[{\"colorbar\":{\"outlinewidth\":0,\"ticks\":\"\"},\"colorscale\":[[0.0,\"#0d0887\"],[0.1111111111111111,\"#46039f\"],[0.2222222222222222,\"#7201a8\"],[0.3333333333333333,\"#9c179e\"],[0.4444444444444444,\"#bd3786\"],[0.5555555555555556,\"#d8576b\"],[0.6666666666666666,\"#ed7953\"],[0.7777777777777778,\"#fb9f3a\"],[0.8888888888888888,\"#fdca26\"],[1.0,\"#f0f921\"]],\"type\":\"surface\"}],\"table\":[{\"cells\":{\"fill\":{\"color\":\"#EBF0F8\"},\"line\":{\"color\":\"white\"}},\"header\":{\"fill\":{\"color\":\"#C8D4E3\"},\"line\":{\"color\":\"white\"}},\"type\":\"table\"}]},\"layout\":{\"annotationdefaults\":{\"arrowcolor\":\"#2a3f5f\",\"arrowhead\":0,\"arrowwidth\":1},\"autotypenumbers\":\"strict\",\"coloraxis\":{\"colorbar\":{\"outlinewidth\":0,\"ticks\":\"\"}},\"colorscale\":{\"diverging\":[[0,\"#8e0152\"],[0.1,\"#c51b7d\"],[0.2,\"#de77ae\"],[0.3,\"#f1b6da\"],[0.4,\"#fde0ef\"],[0.5,\"#f7f7f7\"],[0.6,\"#e6f5d0\"],[0.7,\"#b8e186\"],[0.8,\"#7fbc41\"],[0.9,\"#4d9221\"],[1,\"#276419\"]],\"sequential\":[[0.0,\"#0d0887\"],[0.1111111111111111,\"#46039f\"],[0.2222222222222222,\"#7201a8\"],[0.3333333333333333,\"#9c179e\"],[0.4444444444444444,\"#bd3786\"],[0.5555555555555556,\"#d8576b\"],[0.6666666666666666,\"#ed7953\"],[0.7777777777777778,\"#fb9f3a\"],[0.8888888888888888,\"#fdca26\"],[1.0,\"#f0f921\"]],\"sequentialminus\":[[0.0,\"#0d0887\"],[0.1111111111111111,\"#46039f\"],[0.2222222222222222,\"#7201a8\"],[0.3333333333333333,\"#9c179e\"],[0.4444444444444444,\"#bd3786\"],[0.5555555555555556,\"#d8576b\"],[0.6666666666666666,\"#ed7953\"],[0.7777777777777778,\"#fb9f3a\"],[0.8888888888888888,\"#fdca26\"],[1.0,\"#f0f921\"]]},\"colorway\":[\"#636efa\",\"#EF553B\",\"#00cc96\",\"#ab63fa\",\"#FFA15A\",\"#19d3f3\",\"#FF6692\",\"#B6E880\",\"#FF97FF\",\"#FECB52\"],\"font\":{\"color\":\"#2a3f5f\"},\"geo\":{\"bgcolor\":\"white\",\"lakecolor\":\"white\",\"landcolor\":\"#E5ECF6\",\"showlakes\":true,\"showland\":true,\"subunitcolor\":\"white\"},\"hoverlabel\":{\"align\":\"left\"},\"hovermode\":\"closest\",\"mapbox\":{\"style\":\"light\"},\"paper_bgcolor\":\"white\",\"plot_bgcolor\":\"#E5ECF6\",\"polar\":{\"angularaxis\":{\"gridcolor\":\"white\",\"linecolor\":\"white\",\"ticks\":\"\"},\"bgcolor\":\"#E5ECF6\",\"radialaxis\":{\"gridcolor\":\"white\",\"linecolor\":\"white\",\"ticks\":\"\"}},\"scene\":{\"xaxis\":{\"backgroundcolor\":\"#E5ECF6\",\"gridcolor\":\"white\",\"gridwidth\":2,\"linecolor\":\"white\",\"showbackground\":true,\"ticks\":\"\",\"zerolinecolor\":\"white\"},\"yaxis\":{\"backgroundcolor\":\"#E5ECF6\",\"gridcolor\":\"white\",\"gridwidth\":2,\"linecolor\":\"white\",\"showbackground\":true,\"ticks\":\"\",\"zerolinecolor\":\"white\"},\"zaxis\":{\"backgroundcolor\":\"#E5ECF6\",\"gridcolor\":\"white\",\"gridwidth\":2,\"linecolor\":\"white\",\"showbackground\":true,\"ticks\":\"\",\"zerolinecolor\":\"white\"}},\"shapedefaults\":{\"line\":{\"color\":\"#2a3f5f\"}},\"ternary\":{\"aaxis\":{\"gridcolor\":\"white\",\"linecolor\":\"white\",\"ticks\":\"\"},\"baxis\":{\"gridcolor\":\"white\",\"linecolor\":\"white\",\"ticks\":\"\"},\"bgcolor\":\"#E5ECF6\",\"caxis\":{\"gridcolor\":\"white\",\"linecolor\":\"white\",\"ticks\":\"\"}},\"title\":{\"x\":0.05},\"xaxis\":{\"automargin\":true,\"gridcolor\":\"white\",\"linecolor\":\"white\",\"ticks\":\"\",\"title\":{\"standoff\":15},\"zerolinecolor\":\"white\",\"zerolinewidth\":2},\"yaxis\":{\"automargin\":true,\"gridcolor\":\"white\",\"linecolor\":\"white\",\"ticks\":\"\",\"title\":{\"standoff\":15},\"zerolinecolor\":\"white\",\"zerolinewidth\":2}}},\"xaxis\":{\"anchor\":\"y\",\"domain\":[0.0,0.45],\"title\":{\"text\":\"Iteration\"}},\"yaxis\":{\"anchor\":\"x\",\"domain\":[0.625,1.0],\"title\":{\"text\":\"Loss\"}},\"xaxis2\":{\"anchor\":\"y2\",\"domain\":[0.55,1.0]},\"yaxis2\":{\"anchor\":\"x2\",\"domain\":[0.625,1.0]},\"xaxis3\":{\"anchor\":\"y3\",\"domain\":[0.0,0.45]},\"yaxis3\":{\"anchor\":\"x3\",\"domain\":[0.0,0.375]},\"xaxis4\":{\"anchor\":\"y4\",\"domain\":[0.55,1.0]},\"yaxis4\":{\"anchor\":\"x4\",\"domain\":[0.0,0.375]},\"annotations\":[{\"font\":{\"size\":16},\"showarrow\":false,\"text\":\"Max-Cut\",\"x\":0.225,\"xanchor\":\"center\",\"xref\":\"paper\",\"y\":1.0,\"yanchor\":\"bottom\",\"yref\":\"paper\"},{\"font\":{\"size\":16},\"showarrow\":false,\"text\":\"Clique\",\"x\":0.775,\"xanchor\":\"center\",\"xref\":\"paper\",\"y\":1.0,\"yanchor\":\"bottom\",\"yref\":\"paper\"},{\"font\":{\"size\":16},\"showarrow\":false,\"text\":\"Binary Linear Programming\",\"x\":0.225,\"xanchor\":\"center\",\"xref\":\"paper\",\"y\":0.375,\"yanchor\":\"bottom\",\"yref\":\"paper\"},{\"font\":{\"size\":16},\"showarrow\":false,\"text\":\"Knapsack\",\"x\":0.775,\"xanchor\":\"center\",\"xref\":\"paper\",\"y\":0.375,\"yanchor\":\"bottom\",\"yref\":\"paper\"}],\"title\":{\"text\":\"Loss Comparison  <br><sup>Fixed the number of parameterized gate (24 gate).</sup>\"},\"autosize\":false,\"width\":1000,\"height\":700},                        {\"responsive\": true}                    ).then(function(){\n",
              "                            \n",
              "var gd = document.getElementById('a248c075-2a53-4e57-aac9-6b2dcb483270');\n",
              "var x = new MutationObserver(function (mutations, observer) {{\n",
              "        var display = window.getComputedStyle(gd).display;\n",
              "        if (!display || display === 'none') {{\n",
              "            console.log([gd, 'removed!']);\n",
              "            Plotly.purge(gd);\n",
              "            observer.disconnect();\n",
              "        }}\n",
              "}});\n",
              "\n",
              "// Listen for the removal of the full notebook cells\n",
              "var notebookContainer = gd.closest('#notebook-container');\n",
              "if (notebookContainer) {{\n",
              "    x.observe(notebookContainer, {childList: true});\n",
              "}}\n",
              "\n",
              "// Listen for the clearing of the current output cell\n",
              "var outputEl = gd.closest('.output');\n",
              "if (outputEl) {{\n",
              "    x.observe(outputEl, {childList: true});\n",
              "}}\n",
              "\n",
              "                        })                };                            </script>        </div>\n",
              "</body>\n",
              "</html>"
            ]
          },
          "metadata": {}
        }
      ],
      "source": [
        "#@title Loss Comparison \n",
        "#@markdown Fixed the number of parameterized gate (24 gate).\n",
        "from plotly.subplots import make_subplots\n",
        "\n",
        "row = 2\n",
        "col = 2\n",
        "fig = make_subplots(rows=row, cols=col, subplot_titles=(\"Max-Cut\",\"Clique\",\"Binary Linear Programming\", \"Knapsack\"))\n",
        "show = True\n",
        "for i in range(row):\n",
        "  for j in range(col):\n",
        "    problemn = i*col+j\n",
        "    if problemn>0:\n",
        "      show = False\n",
        "    dv_cv = pd.DataFrame({\"Iteration\":range(len(cvpsl[problemn])), \"Loss\":cvpsl[problemn]})\n",
        "    dv_fd_cv = pd.DataFrame({\"Iteration\":range(len(cvfdl[problemn])), \"Loss\":cvfdl[problemn]})\n",
        "\n",
        "    fig.add_trace(go.Scatter(x=dv_cv[\"Iteration\"], y=dv_cv[\"Loss\"], name=\"Continuous Parameter Shift\", line = dict(width=2), line_color='red', showlegend = show), row=i+1, col=j+1)\n",
        "    fig.add_trace(go.Scatter(x=dv_fd_cv[\"Iteration\"], y=dv_fd_cv[\"Loss\"], mode=\"lines\", name=\"Continuous Finite Difference\", line = dict(width=2), line_color='green', showlegend = show), row=i+1, col=j+1)\n",
        "\n",
        "\n",
        "fig.update_layout(title=\"Loss Comparison  <br><sup>Fixed the number of parameterized gate (24 gate).</sup>\",\n",
        "                  xaxis_title=\"Iteration\",\n",
        "                  yaxis_title=\"Loss\", autosize=False,\n",
        "                  width=1000,\n",
        "                  height=700)\n",
        "\n",
        "plotly.offline.plot(fig, filename='loss_fixgate_cv.html')\n",
        "fig.show()"
      ]
    },
    {
      "cell_type": "code",
      "source": [
        "import pickle\n",
        "\n",
        "with open('sampling_psl_cv.pk', 'wb') as fp:\n",
        "    pickle.dump(cvpsl, fp)\n",
        "with open('sampling_fdl_cv.pk', 'wb') as fp:\n",
        "    pickle.dump(cvfdl, fp)"
      ],
      "metadata": {
        "id": "d7UGASTRjgXb"
      },
      "execution_count": 58,
      "outputs": []
    },
    {
      "cell_type": "code",
      "execution_count": 59,
      "metadata": {
        "id": "0TCHMfHh9_EG",
        "colab": {
          "base_uri": "https://localhost:8080/",
          "height": 717
        },
        "outputId": "b7685cb9-674a-4535-ba1c-b03a234bafd5",
        "cellView": "form"
      },
      "outputs": [
        {
          "output_type": "display_data",
          "data": {
            "text/html": [
              "<html>\n",
              "<head><meta charset=\"utf-8\" /></head>\n",
              "<body>\n",
              "    <div>            <script src=\"https://cdnjs.cloudflare.com/ajax/libs/mathjax/2.7.5/MathJax.js?config=TeX-AMS-MML_SVG\"></script><script type=\"text/javascript\">if (window.MathJax) {MathJax.Hub.Config({SVG: {font: \"STIX-Web\"}});}</script>                <script type=\"text/javascript\">window.PlotlyConfig = {MathJaxConfig: 'local'};</script>\n",
              "        <script src=\"https://cdn.plot.ly/plotly-2.8.3.min.js\"></script>                <div id=\"3e96f36e-9c47-4fa3-b7b0-b5d93b48b0a7\" class=\"plotly-graph-div\" style=\"height:700px; width:1000px;\"></div>            <script type=\"text/javascript\">                                    window.PLOTLYENV=window.PLOTLYENV || {};                                    if (document.getElementById(\"3e96f36e-9c47-4fa3-b7b0-b5d93b48b0a7\")) {                    Plotly.newPlot(                        \"3e96f36e-9c47-4fa3-b7b0-b5d93b48b0a7\",                        [{\"line\":{\"color\":\"red\",\"width\":2},\"name\":\"Continuous Parameter Shift\",\"showlegend\":true,\"x\":[0,1,2,3,4,5,6,7,8,9,10,11,12,13,14,15,16,17,18,19,20,21,22,23,24,25,26,27,28,29,30,31,32,33,34,35,36,37,38,39,40,41,42,43,44,45,46,47,48,49,50,51,52,53,54,55,56,57,58,59,60,61,62,63,64,65,66,67,68,69,70,71,72,73,74,75,76,77,78,79,80,81,82,83,84,85,86,87,88,89,90,91,92,93,94,95,96,97,98,99,100],\"y\":[1.723494291305542,3.4449477195739746,5.1464715003967285,6.855633020401001,8.554644346237183,10.309145212173462,11.953065395355225,13.639293193817139,15.335858345031738,17.022202730178833,18.687340259552002,20.3688063621521,22.00839328765869,23.70202922821045,25.34190034866333,26.99599289894104,28.660210609436035,30.342109203338623,32.344871044158936,35.05540895462036,39.51203370094299,43.403581619262695,46.45810294151306,49.44337439537048,52.33166265487671,55.341521978378296,57.90746736526489,59.59293341636658,61.246103048324585,62.92716693878174,64.89971375465393,66.58945751190186,68.2812283039093,69.96442723274231,71.62971067428589,73.3281741142273,75.02200675010681,76.72402548789978,78.40546178817749,80.07472443580627,81.71312212944031,83.3732602596283,85.00903224945068,86.65928483009338,88.33596682548523,89.9908516407013,91.63987421989441,93.27208495140076,94.91685128211975,96.56430077552795,98.22096586227417,99.89118456840515,101.54477262496948,103.20119667053223,104.84425663948059,106.47057580947876,108.12513732910156,109.82431244850159,111.46098899841309,113.10260438919067,115.02049136161804,116.65619707107544,118.29876852035522,119.98181056976318,121.66472506523132,123.9753749370575,126.85349655151367,128.53190350532532,130.24946904182434,131.855459690094,133.5189926624298,135.17719221115112,136.8413908481598,138.51444840431213,140.16493368148804,141.83143424987793,143.4528570175171,145.12040901184082,147.67850875854492,149.4281666278839,151.1254403591156,152.7740502357483,154.4163854122162,156.06433129310608,157.70678186416626,159.34395265579224,160.96918320655823,162.6486918926239,164.3221836090088,165.94944214820862,167.59895968437195,169.5165798664093,171.16366481781006,172.81317687034607,174.46815991401672,176.12517857551575,177.7700433731079,179.42762231826782,181.07044100761414,182.75714206695557,184.43731784820557],\"type\":\"scatter\",\"xaxis\":\"x\",\"yaxis\":\"y\"},{\"line\":{\"color\":\"green\",\"width\":2},\"mode\":\"lines\",\"name\":\"Continuous Finite Difference\",\"showlegend\":true,\"x\":[0,1,2,3,4,5,6,7,8,9,10,11,12,13,14,15,16,17,18,19,20,21,22,23,24,25,26,27,28,29,30,31,32,33,34,35,36,37,38,39,40,41,42,43,44,45,46,47,48,49,50,51,52,53,54,55,56,57,58,59,60,61,62,63,64,65,66,67,68,69,70,71,72,73,74,75,76,77,78,79,80,81,82,83,84,85,86,87,88,89,90,91,92,93,94,95,96,97,98,99,100],\"y\":[1.967703104019165,3.705639123916626,5.454788446426392,7.147788047790527,8.85940670967102,10.556405782699585,12.262694358825684,13.908006191253662,15.553476810455322,17.194129467010498,18.838223695755005,20.495864152908325,22.135987043380737,23.80264711380005,25.43155860900879,27.070314645767212,28.721599578857422,30.376195430755615,32.003355741500854,33.67937159538269,35.31830811500549,36.98448395729065,38.610743045806885,40.25087308883667,41.894514083862305,43.54860281944275,45.17775845527649,46.81703281402588,48.478615283966064,50.10383057594299,51.77641940116882,53.73138236999512,55.36855673789978,57.04648804664612,58.72237157821655,60.395084857940674,62.04466509819031,63.7271888256073,65.3932135105133,67.05785799026489,68.73138809204102,70.43589758872986,72.09596347808838,73.7350594997406,75.38025498390198,77.0278787612915,78.66055583953857,80.3218469619751,81.98646450042725,83.6032543182373,85.26132607460022,86.94572281837463,88.58166646957397,90.22435212135315,91.87394165992737,93.50798320770264,95.19285869598389,96.87270545959473,98.50871443748474,100.14805436134338,101.77878856658936,103.4152774810791,105.28313779830933,106.92361307144165,108.60652756690979,110.23184084892273,111.87853693962097,113.51373267173767,115.14349484443665,116.81648778915405,118.48371481895447,120.16341137886047,121.84585285186768,123.54285860061646,125.23534226417542,126.90869331359863,128.5959985256195,130.2903392314911,131.97947788238525,133.62161016464233,135.27813124656677,136.9268102645874,138.59066605567932,140.24647903442383,141.87489676475525,143.54776310920715,145.21068906784058,146.8288300037384,148.45841670036316,150.09242057800293,151.7436888217926,153.40103578567505,155.0570936203003,156.95512223243713,158.58265089988708,160.21848702430725,161.87914276123047,163.50995302200317,165.12486863136292,166.74305391311646,168.39189910888672],\"type\":\"scatter\",\"xaxis\":\"x\",\"yaxis\":\"y\"},{\"line\":{\"color\":\"red\",\"width\":2},\"name\":\"Continuous Parameter Shift\",\"showlegend\":false,\"x\":[0,1,2,3,4,5,6,7,8,9,10,11,12,13,14,15,16,17,18,19,20,21,22,23,24,25,26,27,28,29,30,31,32,33,34,35,36,37,38,39,40,41,42,43,44,45,46,47,48,49,50,51,52,53,54,55,56,57,58,59,60,61,62,63,64,65,66,67,68,69,70,71,72,73,74,75,76,77,78,79,80,81,82,83,84,85,86,87,88,89,90,91,92,93,94,95,96,97,98,99,100],\"y\":[1.6727063655853271,3.322864294052124,4.955554008483887,6.604857683181763,8.228001594543457,9.881213665008545,11.533393383026123,13.153049230575562,14.773792028427124,16.424025535583496,18.029178857803345,19.64909815788269,21.296687841415405,22.967868089675903,24.602188110351562,26.253150701522827,27.900731086730957,29.5310115814209,31.172029733657837,32.87793755531311,34.8331184387207,36.49602675437927,38.18364095687866,39.84982681274414,41.46396327018738,43.115878105163574,44.78167724609375,46.47056770324707,48.12032079696655,49.75929570198059,51.42936158180237,53.088244915008545,54.807379961013794,56.49729943275452,58.169663190841675,59.84890937805176,61.515652894973755,63.18202304840088,64.86719799041748,66.54272365570068,68.24812817573547,69.9778881072998,71.64807796478271,73.32739639282227,75.03015208244324,76.74798107147217,78.44378209114075,80.13950061798096,81.80360436439514,83.50610613822937,85.22393155097961,87.21485900878906,88.90431261062622,90.56799244880676,92.264000415802,93.8936140537262,95.53681421279907,97.24426651000977,98.99519300460815,100.69285702705383,102.392897605896,104.12201189994812,105.8243100643158,107.47931838035583,109.12647771835327,110.75927400588989,112.36742162704468,113.98656439781189,115.63940000534058,117.26982641220093,118.93326878547668,120.56461262702942,122.23937892913818,123.87927222251892,125.5087080001831,127.14540314674377,128.8122103214264,130.47748732566833,132.1273651123047,133.76161551475525,135.39449644088745,137.04769206047058,138.9896023273468,140.61764645576477,142.23958611488342,143.87007904052734,145.51003551483154,147.12771892547607,148.76688861846924,150.40340495109558,152.12007904052734,153.78503966331482,155.43389558792114,157.10156893730164,158.80965328216553,160.4927008152008,162.12179899215698,163.7518789768219,165.43694639205933,167.1308081150055,168.78607058525085],\"type\":\"scatter\",\"xaxis\":\"x2\",\"yaxis\":\"y2\"},{\"line\":{\"color\":\"green\",\"width\":2},\"mode\":\"lines\",\"name\":\"Continuous Finite Difference\",\"showlegend\":false,\"x\":[0,1,2,3,4,5,6,7,8,9,10,11,12,13,14,15,16,17,18,19,20,21,22,23,24,25,26,27,28,29,30,31,32,33,34,35,36,37,38,39,40,41,42,43,44,45,46,47,48,49,50,51,52,53,54,55,56,57,58,59,60,61,62,63,64,65,66,67,68,69,70,71,72,73,74,75,76,77,78,79,80,81,82,83,84,85,86,87,88,89,90,91,92,93,94,95,96,97,98,99,100],\"y\":[1.6777563095092773,3.3072409629821777,4.931092977523804,6.601096153259277,8.27742338180542,9.941693544387817,11.612836837768555,13.237021446228027,14.900926113128662,16.567171573638916,18.26282000541687,19.9580979347229,21.58518075942993,23.25900411605835,24.943052530288696,26.64237642288208,28.395841598510742,30.208402395248413,31.897613048553467,33.561678886413574,35.24374866485596,36.93074870109558,38.616047382354736,40.324771881103516,41.98045086860657,43.6998016834259,45.703813791275024,47.36613488197327,49.04665803909302,50.803797245025635,52.50863718986511,54.18946027755737,55.887479066848755,57.583115100860596,59.277029275894165,60.98246383666992,62.63403868675232,64.30384182929993,65.99300599098206,67.64872884750366,69.32633805274963,71.02784585952759,72.6998450756073,74.37757110595703,76.0497829914093,77.72759103775024,79.40099120140076,81.12135696411133,82.78862428665161,84.45622658729553,86.11072492599487,87.81246852874756,89.55456638336182,91.24310255050659,92.99870085716248,94.79137802124023,96.53578162193298,98.5493655204773,100.30596017837524,102.06740736961365,103.8352632522583,105.58542561531067,107.34990954399109,109.11660361289978,110.88885807991028,112.61921548843384,114.38435459136963,116.15408778190613,117.86948943138123,119.63723087310791,121.39337348937988,123.13789463043213,124.86388325691223,126.61113023757935,128.32014775276184,130.04626083374023,131.79344630241394,133.47985100746155,135.16961359977722,136.86043906211853,138.5269787311554,140.20407557487488,141.88960695266724,143.5623619556427,145.28043937683105,147.00277733802795,148.6621391773224,150.35028529167175,152.24875402450562,153.89864659309387,155.5460696220398,157.21156072616577,158.84277772903442,160.48464727401733,162.14183115959167,163.8309726715088,165.50499558448792,167.2014865875244,168.85445284843445,170.51098608970642,172.1527383327484],\"type\":\"scatter\",\"xaxis\":\"x2\",\"yaxis\":\"y2\"},{\"line\":{\"color\":\"red\",\"width\":2},\"name\":\"Continuous Parameter Shift\",\"showlegend\":false,\"x\":[0,1,2,3,4,5,6,7,8,9,10,11,12,13,14,15,16,17,18,19,20,21,22,23,24,25,26,27,28,29,30,31,32,33,34,35,36,37,38,39,40,41,42,43,44,45,46,47,48,49,50,51,52,53,54,55,56,57,58,59,60,61,62,63,64,65,66,67,68,69,70,71,72,73,74,75,76,77,78,79,80,81,82,83,84,85,86,87,88,89,90,91,92,93,94,95,96,97,98,99,100],\"y\":[1.665975570678711,3.340996265411377,5.004697561264038,6.638890027999878,8.306123733520508,9.933141708374023,11.588340282440186,13.241389036178589,14.907450914382935,16.58766746520996,18.26708745956421,19.985233306884766,21.666552543640137,23.327584981918335,25.039700508117676,26.81511378288269,28.584392547607422,30.562233448028564,32.28649306297302,34.015894651412964,35.65968060493469,37.330188512802124,39.01596736907959,40.66461157798767,42.32599377632141,44.00125980377197,45.62760257720947,47.26006245613098,48.88947343826294,50.536951303482056,52.18805480003357,53.8462278842926,55.47568440437317,57.10871624946594,58.748193979263306,60.368462800979614,62.00848197937012,63.630905628204346,65.2347776889801,66.8447093963623,68.47297549247742,70.13017511367798,71.78503108024597,73.4362096786499,75.0815818309784,76.7059805393219,78.35787677764893,80.02638506889343,81.95080780982971,83.60657787322998,85.24853348731995,86.95287656784058,88.6354820728302,90.29273056983948,91.9759783744812,93.67533707618713,95.34931945800781,97.02175164222717,98.6932282447815,100.34284520149231,102.00220131874084,103.71667051315308,105.36402249336243,107.02544140815735,108.67240333557129,110.29873585700989,111.95660376548767,113.64415574073792,115.30307459831238,116.96631598472595,118.59043955802917,120.23851203918457,121.90066266059875,123.54000520706177,125.18138241767883,126.8058865070343,128.45865941047668,130.14718627929688,131.80175352096558,133.7819664478302,135.48039770126343,137.17249274253845,138.84032154083252,140.58030652999878,142.26554107666016,143.95003533363342,145.64098620414734,147.29946088790894,148.97706723213196,150.6441044807434,152.303453207016,153.99362802505493,155.66348838806152,157.30665588378906,158.93432664871216,160.55673742294312,162.2040991783142,163.84516668319702,165.49755191802979,167.20819735527039,168.90293288230896],\"type\":\"scatter\",\"xaxis\":\"x3\",\"yaxis\":\"y3\"},{\"line\":{\"color\":\"green\",\"width\":2},\"mode\":\"lines\",\"name\":\"Continuous Finite Difference\",\"showlegend\":false,\"x\":[0,1,2,3,4,5,6,7,8,9,10,11,12,13,14,15,16,17,18,19,20,21,22,23,24,25,26,27,28,29,30,31,32,33,34,35,36,37,38,39,40,41,42,43,44,45,46,47,48,49,50,51,52,53,54,55,56,57,58,59,60,61,62,63,64,65,66,67,68,69,70,71,72,73,74,75,76,77,78,79,80,81,82,83,84,85,86,87,88,89,90,91,92,93,94,95,96,97,98,99,100],\"y\":[1.6847705841064453,3.3756701946258545,5.075533866882324,6.7531328201293945,8.428885459899902,10.10434889793396,11.763179063796997,13.434785604476929,15.107402086257935,16.78105115890503,18.410733699798584,20.0670108795166,21.739355087280273,23.371094465255737,25.107369661331177,26.82844066619873,28.48546028137207,30.139566659927368,31.85147213935852,33.79069900512695,35.50378775596619,37.229804039001465,38.92916131019592,40.59157609939575,42.281237840652466,43.92872619628906,45.61629319190979,47.269622802734375,48.933144092559814,50.591850996017456,52.26689648628235,53.955214738845825,55.60468554496765,57.22100472450256,58.899362087249756,60.557849168777466,62.208561182022095,63.887667655944824,65.51341271400452,67.17533683776855,68.82621550559998,70.47181987762451,72.13258385658264,73.77473497390747,75.43931603431702,77.10684370994568,78.75010967254639,80.41528820991516,82.09371447563171,83.76833200454712,85.76193070411682,87.42303776741028,89.06113314628601,90.78947281837463,92.48313474655151,94.14186024665833,95.81527185440063,97.49065947532654,99.13862323760986,100.83578681945801,102.48620939254761,104.17866539955139,105.81500792503357,107.47238349914551,109.15197086334229,110.83366537094116,112.52849864959717,114.19848871231079,115.85703945159912,117.49288368225098,119.18027448654175,120.85195827484131,122.57544493675232,124.24525856971741,125.88930058479309,127.56112718582153,129.2134449481964,130.85884976387024,132.5206654071808,134.1300926208496,135.81248450279236,137.7917284965515,139.47329187393188,141.13167071342468,142.76778841018677,144.46487379074097,146.14338946342468,147.82936191558838,149.49064803123474,151.20248126983643,152.90922570228577,154.6015739440918,156.26303219795227,157.91553592681885,159.5451521873474,161.18279242515564,162.81533932685852,164.46683049201965,166.1602578163147,168.02264666557312,169.90591025352478],\"type\":\"scatter\",\"xaxis\":\"x3\",\"yaxis\":\"y3\"},{\"line\":{\"color\":\"red\",\"width\":2},\"name\":\"Continuous Parameter Shift\",\"showlegend\":false,\"x\":[0,1,2,3,4,5,6,7,8,9,10,11,12,13,14,15,16,17,18,19,20,21,22,23,24,25,26,27,28,29,30,31,32,33,34,35,36,37,38,39,40,41,42,43,44,45,46,47,48,49,50,51,52,53,54,55,56,57,58,59,60,61,62,63,64,65,66,67,68,69,70,71,72,73,74,75,76,77,78,79,80,81,82,83,84,85,86,87,88,89,90,91,92,93,94,95,96,97,98,99,100],\"y\":[1.6584179401397705,3.307471513748169,4.952758312225342,6.600787878036499,8.268533945083618,9.928673505783081,11.571558952331543,13.276163578033447,14.924753189086914,16.575663328170776,18.237829446792603,19.914512395858765,21.59694004058838,23.277771472930908,24.956623554229736,26.88394021987915,28.54044222831726,30.203402042388916,31.846168279647827,33.50534462928772,35.1452202796936,36.75123143196106,38.40877819061279,40.0301148891449,41.673755168914795,43.28023838996887,44.91305375099182,46.557212114334106,48.204577684402466,49.86115884780884,51.474711179733276,53.101784467697144,54.73428559303284,56.36563754081726,58.02947950363159,59.703261613845825,61.34912586212158,63.03453993797302,64.69575691223145,66.423983335495,68.11839389801025,69.79176306724548,71.48406171798706,73.17724347114563,74.87239408493042,76.57851648330688,78.52199172973633,80.20427775382996,81.86134028434753,83.49566292762756,85.1211895942688,86.76977038383484,88.42041254043579,90.08931994438171,91.70769667625427,93.37761950492859,95.03068709373474,96.67279815673828,98.36012864112854,100.01506161689758,101.67522668838501,103.35998606681824,105.01299810409546,106.66369390487671,108.34361982345581,110.00525450706482,111.63220119476318,113.29172992706299,114.94211483001709,116.58095908164978,118.25100803375244,119.93187427520752,121.59893488883972,123.22682762145996,124.83445167541504,126.50121879577637,128.44074010849,130.1233537197113,131.79022932052612,133.4263415336609,135.10999941825867,136.76751065254211,138.40183758735657,140.07993912696838,141.71080136299133,143.33227920532227,144.95385646820068,146.5621576309204,148.19956636428833,149.83507013320923,151.49675369262695,153.16026616096497,154.78776144981384,156.41673946380615,158.03118777275085,159.67660474777222,161.3755075931549,162.9951822757721,164.63055658340454,166.29950737953186,167.95509910583496],\"type\":\"scatter\",\"xaxis\":\"x4\",\"yaxis\":\"y4\"},{\"line\":{\"color\":\"green\",\"width\":2},\"mode\":\"lines\",\"name\":\"Continuous Finite Difference\",\"showlegend\":false,\"x\":[0,1,2,3,4,5,6,7,8,9,10,11,12,13,14,15,16,17,18,19,20,21,22,23,24,25,26,27,28,29,30,31,32,33,34,35,36,37,38,39,40,41,42,43,44,45,46,47,48,49,50,51,52,53,54,55,56,57,58,59,60,61,62,63,64,65,66,67,68,69,70,71,72,73,74,75,76,77,78,79,80,81,82,83,84,85,86,87,88,89,90,91,92,93,94,95,96,97,98,99,100],\"y\":[1.6627650260925293,3.3346505165100098,4.969231128692627,6.6321165561676025,8.279587507247925,9.918500423431396,11.5715913772583,13.222786903381348,14.896718263626099,16.510226726531982,18.190753698349,19.868265390396118,21.484315156936646,23.119924545288086,25.032851934432983,26.672096729278564,28.29863739013672,29.904507160186768,31.552324533462524,33.23832297325134,34.87987565994263,36.57511854171753,38.234678506851196,39.869935750961304,41.5190269947052,43.15783214569092,44.8309805393219,46.50313711166382,48.22816801071167,49.890714168548584,51.574490785598755,53.24670195579529,54.91498827934265,56.61047673225403,58.29701542854309,59.98796558380127,61.68782901763916,63.370418548583984,65.02256226539612,66.73595976829529,68.41100978851318,70.12341070175171,71.87145161628723,73.67936253547668,75.76819014549255,77.58649682998657,79.3661527633667,81.21798253059387,83.16412949562073,84.85872960090637,86.49381160736084,88.16382431983948,89.86907410621643,91.5519449710846,93.22954320907593,94.96749901771545,96.66092848777771,98.327627658844,99.9705901145935,101.64047503471375,103.3616075515747,105.0269045829773,106.6760106086731,108.3521740436554,110.03421807289124,111.71319341659546,113.3826904296875,115.05723142623901,116.73575496673584,118.4515814781189,120.17162466049194,121.91541361808777,123.62383222579956,125.322434425354,127.04128432273865,129.05551433563232,130.8129346370697,132.5737931728363,134.26643705368042,136.00888061523438,137.78829622268677,139.55465078353882,141.29958701133728,143.03362917900085,144.73120832443237,146.46057772636414,148.17804527282715,149.8990387916565,151.6053910255432,153.39173030853271,155.14739227294922,156.91904759407043,158.67931985855103,160.4303286075592,162.17758512496948,163.95563292503357,165.70966625213623,167.45736050605774,169.19403624534607,170.9137580394745,172.6415627002716],\"type\":\"scatter\",\"xaxis\":\"x4\",\"yaxis\":\"y4\"}],                        {\"template\":{\"data\":{\"bar\":[{\"error_x\":{\"color\":\"#2a3f5f\"},\"error_y\":{\"color\":\"#2a3f5f\"},\"marker\":{\"line\":{\"color\":\"#E5ECF6\",\"width\":0.5},\"pattern\":{\"fillmode\":\"overlay\",\"size\":10,\"solidity\":0.2}},\"type\":\"bar\"}],\"barpolar\":[{\"marker\":{\"line\":{\"color\":\"#E5ECF6\",\"width\":0.5},\"pattern\":{\"fillmode\":\"overlay\",\"size\":10,\"solidity\":0.2}},\"type\":\"barpolar\"}],\"carpet\":[{\"aaxis\":{\"endlinecolor\":\"#2a3f5f\",\"gridcolor\":\"white\",\"linecolor\":\"white\",\"minorgridcolor\":\"white\",\"startlinecolor\":\"#2a3f5f\"},\"baxis\":{\"endlinecolor\":\"#2a3f5f\",\"gridcolor\":\"white\",\"linecolor\":\"white\",\"minorgridcolor\":\"white\",\"startlinecolor\":\"#2a3f5f\"},\"type\":\"carpet\"}],\"choropleth\":[{\"colorbar\":{\"outlinewidth\":0,\"ticks\":\"\"},\"type\":\"choropleth\"}],\"contour\":[{\"colorbar\":{\"outlinewidth\":0,\"ticks\":\"\"},\"colorscale\":[[0.0,\"#0d0887\"],[0.1111111111111111,\"#46039f\"],[0.2222222222222222,\"#7201a8\"],[0.3333333333333333,\"#9c179e\"],[0.4444444444444444,\"#bd3786\"],[0.5555555555555556,\"#d8576b\"],[0.6666666666666666,\"#ed7953\"],[0.7777777777777778,\"#fb9f3a\"],[0.8888888888888888,\"#fdca26\"],[1.0,\"#f0f921\"]],\"type\":\"contour\"}],\"contourcarpet\":[{\"colorbar\":{\"outlinewidth\":0,\"ticks\":\"\"},\"type\":\"contourcarpet\"}],\"heatmap\":[{\"colorbar\":{\"outlinewidth\":0,\"ticks\":\"\"},\"colorscale\":[[0.0,\"#0d0887\"],[0.1111111111111111,\"#46039f\"],[0.2222222222222222,\"#7201a8\"],[0.3333333333333333,\"#9c179e\"],[0.4444444444444444,\"#bd3786\"],[0.5555555555555556,\"#d8576b\"],[0.6666666666666666,\"#ed7953\"],[0.7777777777777778,\"#fb9f3a\"],[0.8888888888888888,\"#fdca26\"],[1.0,\"#f0f921\"]],\"type\":\"heatmap\"}],\"heatmapgl\":[{\"colorbar\":{\"outlinewidth\":0,\"ticks\":\"\"},\"colorscale\":[[0.0,\"#0d0887\"],[0.1111111111111111,\"#46039f\"],[0.2222222222222222,\"#7201a8\"],[0.3333333333333333,\"#9c179e\"],[0.4444444444444444,\"#bd3786\"],[0.5555555555555556,\"#d8576b\"],[0.6666666666666666,\"#ed7953\"],[0.7777777777777778,\"#fb9f3a\"],[0.8888888888888888,\"#fdca26\"],[1.0,\"#f0f921\"]],\"type\":\"heatmapgl\"}],\"histogram\":[{\"marker\":{\"pattern\":{\"fillmode\":\"overlay\",\"size\":10,\"solidity\":0.2}},\"type\":\"histogram\"}],\"histogram2d\":[{\"colorbar\":{\"outlinewidth\":0,\"ticks\":\"\"},\"colorscale\":[[0.0,\"#0d0887\"],[0.1111111111111111,\"#46039f\"],[0.2222222222222222,\"#7201a8\"],[0.3333333333333333,\"#9c179e\"],[0.4444444444444444,\"#bd3786\"],[0.5555555555555556,\"#d8576b\"],[0.6666666666666666,\"#ed7953\"],[0.7777777777777778,\"#fb9f3a\"],[0.8888888888888888,\"#fdca26\"],[1.0,\"#f0f921\"]],\"type\":\"histogram2d\"}],\"histogram2dcontour\":[{\"colorbar\":{\"outlinewidth\":0,\"ticks\":\"\"},\"colorscale\":[[0.0,\"#0d0887\"],[0.1111111111111111,\"#46039f\"],[0.2222222222222222,\"#7201a8\"],[0.3333333333333333,\"#9c179e\"],[0.4444444444444444,\"#bd3786\"],[0.5555555555555556,\"#d8576b\"],[0.6666666666666666,\"#ed7953\"],[0.7777777777777778,\"#fb9f3a\"],[0.8888888888888888,\"#fdca26\"],[1.0,\"#f0f921\"]],\"type\":\"histogram2dcontour\"}],\"mesh3d\":[{\"colorbar\":{\"outlinewidth\":0,\"ticks\":\"\"},\"type\":\"mesh3d\"}],\"parcoords\":[{\"line\":{\"colorbar\":{\"outlinewidth\":0,\"ticks\":\"\"}},\"type\":\"parcoords\"}],\"pie\":[{\"automargin\":true,\"type\":\"pie\"}],\"scatter\":[{\"marker\":{\"colorbar\":{\"outlinewidth\":0,\"ticks\":\"\"}},\"type\":\"scatter\"}],\"scatter3d\":[{\"line\":{\"colorbar\":{\"outlinewidth\":0,\"ticks\":\"\"}},\"marker\":{\"colorbar\":{\"outlinewidth\":0,\"ticks\":\"\"}},\"type\":\"scatter3d\"}],\"scattercarpet\":[{\"marker\":{\"colorbar\":{\"outlinewidth\":0,\"ticks\":\"\"}},\"type\":\"scattercarpet\"}],\"scattergeo\":[{\"marker\":{\"colorbar\":{\"outlinewidth\":0,\"ticks\":\"\"}},\"type\":\"scattergeo\"}],\"scattergl\":[{\"marker\":{\"colorbar\":{\"outlinewidth\":0,\"ticks\":\"\"}},\"type\":\"scattergl\"}],\"scattermapbox\":[{\"marker\":{\"colorbar\":{\"outlinewidth\":0,\"ticks\":\"\"}},\"type\":\"scattermapbox\"}],\"scatterpolar\":[{\"marker\":{\"colorbar\":{\"outlinewidth\":0,\"ticks\":\"\"}},\"type\":\"scatterpolar\"}],\"scatterpolargl\":[{\"marker\":{\"colorbar\":{\"outlinewidth\":0,\"ticks\":\"\"}},\"type\":\"scatterpolargl\"}],\"scatterternary\":[{\"marker\":{\"colorbar\":{\"outlinewidth\":0,\"ticks\":\"\"}},\"type\":\"scatterternary\"}],\"surface\":[{\"colorbar\":{\"outlinewidth\":0,\"ticks\":\"\"},\"colorscale\":[[0.0,\"#0d0887\"],[0.1111111111111111,\"#46039f\"],[0.2222222222222222,\"#7201a8\"],[0.3333333333333333,\"#9c179e\"],[0.4444444444444444,\"#bd3786\"],[0.5555555555555556,\"#d8576b\"],[0.6666666666666666,\"#ed7953\"],[0.7777777777777778,\"#fb9f3a\"],[0.8888888888888888,\"#fdca26\"],[1.0,\"#f0f921\"]],\"type\":\"surface\"}],\"table\":[{\"cells\":{\"fill\":{\"color\":\"#EBF0F8\"},\"line\":{\"color\":\"white\"}},\"header\":{\"fill\":{\"color\":\"#C8D4E3\"},\"line\":{\"color\":\"white\"}},\"type\":\"table\"}]},\"layout\":{\"annotationdefaults\":{\"arrowcolor\":\"#2a3f5f\",\"arrowhead\":0,\"arrowwidth\":1},\"autotypenumbers\":\"strict\",\"coloraxis\":{\"colorbar\":{\"outlinewidth\":0,\"ticks\":\"\"}},\"colorscale\":{\"diverging\":[[0,\"#8e0152\"],[0.1,\"#c51b7d\"],[0.2,\"#de77ae\"],[0.3,\"#f1b6da\"],[0.4,\"#fde0ef\"],[0.5,\"#f7f7f7\"],[0.6,\"#e6f5d0\"],[0.7,\"#b8e186\"],[0.8,\"#7fbc41\"],[0.9,\"#4d9221\"],[1,\"#276419\"]],\"sequential\":[[0.0,\"#0d0887\"],[0.1111111111111111,\"#46039f\"],[0.2222222222222222,\"#7201a8\"],[0.3333333333333333,\"#9c179e\"],[0.4444444444444444,\"#bd3786\"],[0.5555555555555556,\"#d8576b\"],[0.6666666666666666,\"#ed7953\"],[0.7777777777777778,\"#fb9f3a\"],[0.8888888888888888,\"#fdca26\"],[1.0,\"#f0f921\"]],\"sequentialminus\":[[0.0,\"#0d0887\"],[0.1111111111111111,\"#46039f\"],[0.2222222222222222,\"#7201a8\"],[0.3333333333333333,\"#9c179e\"],[0.4444444444444444,\"#bd3786\"],[0.5555555555555556,\"#d8576b\"],[0.6666666666666666,\"#ed7953\"],[0.7777777777777778,\"#fb9f3a\"],[0.8888888888888888,\"#fdca26\"],[1.0,\"#f0f921\"]]},\"colorway\":[\"#636efa\",\"#EF553B\",\"#00cc96\",\"#ab63fa\",\"#FFA15A\",\"#19d3f3\",\"#FF6692\",\"#B6E880\",\"#FF97FF\",\"#FECB52\"],\"font\":{\"color\":\"#2a3f5f\"},\"geo\":{\"bgcolor\":\"white\",\"lakecolor\":\"white\",\"landcolor\":\"#E5ECF6\",\"showlakes\":true,\"showland\":true,\"subunitcolor\":\"white\"},\"hoverlabel\":{\"align\":\"left\"},\"hovermode\":\"closest\",\"mapbox\":{\"style\":\"light\"},\"paper_bgcolor\":\"white\",\"plot_bgcolor\":\"#E5ECF6\",\"polar\":{\"angularaxis\":{\"gridcolor\":\"white\",\"linecolor\":\"white\",\"ticks\":\"\"},\"bgcolor\":\"#E5ECF6\",\"radialaxis\":{\"gridcolor\":\"white\",\"linecolor\":\"white\",\"ticks\":\"\"}},\"scene\":{\"xaxis\":{\"backgroundcolor\":\"#E5ECF6\",\"gridcolor\":\"white\",\"gridwidth\":2,\"linecolor\":\"white\",\"showbackground\":true,\"ticks\":\"\",\"zerolinecolor\":\"white\"},\"yaxis\":{\"backgroundcolor\":\"#E5ECF6\",\"gridcolor\":\"white\",\"gridwidth\":2,\"linecolor\":\"white\",\"showbackground\":true,\"ticks\":\"\",\"zerolinecolor\":\"white\"},\"zaxis\":{\"backgroundcolor\":\"#E5ECF6\",\"gridcolor\":\"white\",\"gridwidth\":2,\"linecolor\":\"white\",\"showbackground\":true,\"ticks\":\"\",\"zerolinecolor\":\"white\"}},\"shapedefaults\":{\"line\":{\"color\":\"#2a3f5f\"}},\"ternary\":{\"aaxis\":{\"gridcolor\":\"white\",\"linecolor\":\"white\",\"ticks\":\"\"},\"baxis\":{\"gridcolor\":\"white\",\"linecolor\":\"white\",\"ticks\":\"\"},\"bgcolor\":\"#E5ECF6\",\"caxis\":{\"gridcolor\":\"white\",\"linecolor\":\"white\",\"ticks\":\"\"}},\"title\":{\"x\":0.05},\"xaxis\":{\"automargin\":true,\"gridcolor\":\"white\",\"linecolor\":\"white\",\"ticks\":\"\",\"title\":{\"standoff\":15},\"zerolinecolor\":\"white\",\"zerolinewidth\":2},\"yaxis\":{\"automargin\":true,\"gridcolor\":\"white\",\"linecolor\":\"white\",\"ticks\":\"\",\"title\":{\"standoff\":15},\"zerolinecolor\":\"white\",\"zerolinewidth\":2}}},\"xaxis\":{\"anchor\":\"y\",\"domain\":[0.0,0.45],\"title\":{\"text\":\"Iteration\"}},\"yaxis\":{\"anchor\":\"x\",\"domain\":[0.625,1.0],\"title\":{\"text\":\"Time (Sec)\"}},\"xaxis2\":{\"anchor\":\"y2\",\"domain\":[0.55,1.0]},\"yaxis2\":{\"anchor\":\"x2\",\"domain\":[0.625,1.0]},\"xaxis3\":{\"anchor\":\"y3\",\"domain\":[0.0,0.45]},\"yaxis3\":{\"anchor\":\"x3\",\"domain\":[0.0,0.375]},\"xaxis4\":{\"anchor\":\"y4\",\"domain\":[0.55,1.0]},\"yaxis4\":{\"anchor\":\"x4\",\"domain\":[0.0,0.375]},\"annotations\":[{\"font\":{\"size\":16},\"showarrow\":false,\"text\":\"Max-Cut\",\"x\":0.225,\"xanchor\":\"center\",\"xref\":\"paper\",\"y\":1.0,\"yanchor\":\"bottom\",\"yref\":\"paper\"},{\"font\":{\"size\":16},\"showarrow\":false,\"text\":\"Clique\",\"x\":0.775,\"xanchor\":\"center\",\"xref\":\"paper\",\"y\":1.0,\"yanchor\":\"bottom\",\"yref\":\"paper\"},{\"font\":{\"size\":16},\"showarrow\":false,\"text\":\"Binary Linear Programming\",\"x\":0.225,\"xanchor\":\"center\",\"xref\":\"paper\",\"y\":0.375,\"yanchor\":\"bottom\",\"yref\":\"paper\"},{\"font\":{\"size\":16},\"showarrow\":false,\"text\":\"Knapsack\",\"x\":0.775,\"xanchor\":\"center\",\"xref\":\"paper\",\"y\":0.375,\"yanchor\":\"bottom\",\"yref\":\"paper\"}],\"title\":{\"text\":\"Time Comparison  <br><sup>Fixed the number of parameterized gate (24 gate).</sup>\"},\"autosize\":false,\"width\":1000,\"height\":700},                        {\"responsive\": true}                    ).then(function(){\n",
              "                            \n",
              "var gd = document.getElementById('3e96f36e-9c47-4fa3-b7b0-b5d93b48b0a7');\n",
              "var x = new MutationObserver(function (mutations, observer) {{\n",
              "        var display = window.getComputedStyle(gd).display;\n",
              "        if (!display || display === 'none') {{\n",
              "            console.log([gd, 'removed!']);\n",
              "            Plotly.purge(gd);\n",
              "            observer.disconnect();\n",
              "        }}\n",
              "}});\n",
              "\n",
              "// Listen for the removal of the full notebook cells\n",
              "var notebookContainer = gd.closest('#notebook-container');\n",
              "if (notebookContainer) {{\n",
              "    x.observe(notebookContainer, {childList: true});\n",
              "}}\n",
              "\n",
              "// Listen for the clearing of the current output cell\n",
              "var outputEl = gd.closest('.output');\n",
              "if (outputEl) {{\n",
              "    x.observe(outputEl, {childList: true});\n",
              "}}\n",
              "\n",
              "                        })                };                            </script>        </div>\n",
              "</body>\n",
              "</html>"
            ]
          },
          "metadata": {}
        }
      ],
      "source": [
        "#@title Time Comparison\n",
        "#@markdown Fixed the number of parameterized gate (24 gate).\n",
        "\n",
        "from plotly.subplots import make_subplots\n",
        "\n",
        "row = 2\n",
        "col = 2\n",
        "fig = make_subplots(rows=row, cols=col, subplot_titles=(\"Max-Cut\",\"Clique\",\"Binary Linear Programming\", \"Knapsack\"))\n",
        "show = True\n",
        "for i in range(row):\n",
        "  for j in range(col):\n",
        "    problemn = i*col+j\n",
        "    if problemn>0:\n",
        "      show = False\n",
        "    dv_cv = pd.DataFrame({\"Iteration\":range(len(cvpst[problemn])), \"Time\":cvpst[problemn]})\n",
        "    dv_fd_cv = pd.DataFrame({\"Iteration\":range(len(cvfdt[problemn])), \"Time\":cvfdt[problemn]})\n",
        "\n",
        "    fig.add_trace(go.Scatter(x=dv_cv[\"Iteration\"], y=dv_cv[\"Time\"], name=\"Continuous Parameter Shift\", line = dict(width=2), line_color='red', showlegend = show), row=i+1, col=j+1)\n",
        "    fig.add_trace(go.Scatter(x=dv_fd_cv[\"Iteration\"], y=dv_fd_cv[\"Time\"], mode=\"lines\", name=\"Continuous Finite Difference\", line = dict(width=2), line_color='green', showlegend = show), row=i+1, col=j+1)\n",
        "\n",
        "fig.update_layout(title=\"Time Comparison  <br><sup>Fixed the number of parameterized gate (24 gate).</sup>\",\n",
        "                  xaxis_title=\"Iteration\",\n",
        "                  yaxis_title=\"Time (Sec)\", autosize=False,\n",
        "                  width=1000,\n",
        "                  height=700)\n",
        "plotly.offline.plot(fig, filename='time_fixgate_cv.html')\n",
        "fig.show()"
      ]
    },
    {
      "cell_type": "code",
      "source": [
        "with open('sampling_pst_cv.pk', 'wb') as fp:\n",
        "    pickle.dump(cvpst, fp)\n",
        "with open('sampling_fdt_cv.pk', 'wb') as fp:\n",
        "    pickle.dump(cvfdt, fp)"
      ],
      "metadata": {
        "id": "tzWW3zlejn2-"
      },
      "execution_count": 60,
      "outputs": []
    },
    {
      "cell_type": "code",
      "execution_count": 61,
      "metadata": {
        "id": "VbTqgBW9-e0e",
        "colab": {
          "base_uri": "https://localhost:8080/",
          "height": 870
        },
        "outputId": "af04313c-0d77-4262-cb78-df56226dbba6",
        "cellView": "form"
      },
      "outputs": [
        {
          "output_type": "stream",
          "name": "stdout",
          "text": [
            "\u001b[1mMax-Cut\u001b[0m\n"
          ]
        },
        {
          "output_type": "display_data",
          "data": {
            "text/plain": [
              "                             Iteration 25              Iteration 50  \\\n",
              "                                     Loss Time(second)         Loss   \n",
              "Continuous Parameter Shift      -2.47e+00        55.34    -2.68e+00   \n",
              "Continuous Finite Difference    -2.13e+00        43.55    -2.31e+00   \n",
              "\n",
              "                                          Iteration 75               \\\n",
              "                             Time(second)         Loss Time(second)   \n",
              "Continuous Parameter Shift          98.22    -2.81e+00       141.83   \n",
              "Continuous Finite Difference        85.26    -2.43e+00       126.91   \n",
              "\n",
              "                             Iteration 100               \n",
              "                                      Loss Time(second)  \n",
              "Continuous Parameter Shift       -2.79e+00       184.44  \n",
              "Continuous Finite Difference     -2.59e+00       168.39  "
            ],
            "text/html": [
              "\n",
              "  <div id=\"df-5a73d04a-f438-4252-8a46-be0887653fd7\">\n",
              "    <div class=\"colab-df-container\">\n",
              "      <div>\n",
              "<style scoped>\n",
              "    .dataframe tbody tr th:only-of-type {\n",
              "        vertical-align: middle;\n",
              "    }\n",
              "\n",
              "    .dataframe tbody tr th {\n",
              "        vertical-align: top;\n",
              "    }\n",
              "\n",
              "    .dataframe thead tr th {\n",
              "        text-align: left;\n",
              "    }\n",
              "</style>\n",
              "<table border=\"1\" class=\"dataframe\">\n",
              "  <thead>\n",
              "    <tr>\n",
              "      <th></th>\n",
              "      <th colspan=\"2\" halign=\"left\">Iteration 25</th>\n",
              "      <th colspan=\"2\" halign=\"left\">Iteration 50</th>\n",
              "      <th colspan=\"2\" halign=\"left\">Iteration 75</th>\n",
              "      <th colspan=\"2\" halign=\"left\">Iteration 100</th>\n",
              "    </tr>\n",
              "    <tr>\n",
              "      <th></th>\n",
              "      <th>Loss</th>\n",
              "      <th>Time(second)</th>\n",
              "      <th>Loss</th>\n",
              "      <th>Time(second)</th>\n",
              "      <th>Loss</th>\n",
              "      <th>Time(second)</th>\n",
              "      <th>Loss</th>\n",
              "      <th>Time(second)</th>\n",
              "    </tr>\n",
              "  </thead>\n",
              "  <tbody>\n",
              "    <tr>\n",
              "      <th>Continuous Parameter Shift</th>\n",
              "      <td>-2.47e+00</td>\n",
              "      <td>55.34</td>\n",
              "      <td>-2.68e+00</td>\n",
              "      <td>98.22</td>\n",
              "      <td>-2.81e+00</td>\n",
              "      <td>141.83</td>\n",
              "      <td>-2.79e+00</td>\n",
              "      <td>184.44</td>\n",
              "    </tr>\n",
              "    <tr>\n",
              "      <th>Continuous Finite Difference</th>\n",
              "      <td>-2.13e+00</td>\n",
              "      <td>43.55</td>\n",
              "      <td>-2.31e+00</td>\n",
              "      <td>85.26</td>\n",
              "      <td>-2.43e+00</td>\n",
              "      <td>126.91</td>\n",
              "      <td>-2.59e+00</td>\n",
              "      <td>168.39</td>\n",
              "    </tr>\n",
              "  </tbody>\n",
              "</table>\n",
              "</div>\n",
              "      <button class=\"colab-df-convert\" onclick=\"convertToInteractive('df-5a73d04a-f438-4252-8a46-be0887653fd7')\"\n",
              "              title=\"Convert this dataframe to an interactive table.\"\n",
              "              style=\"display:none;\">\n",
              "        \n",
              "  <svg xmlns=\"http://www.w3.org/2000/svg\" height=\"24px\"viewBox=\"0 0 24 24\"\n",
              "       width=\"24px\">\n",
              "    <path d=\"M0 0h24v24H0V0z\" fill=\"none\"/>\n",
              "    <path d=\"M18.56 5.44l.94 2.06.94-2.06 2.06-.94-2.06-.94-.94-2.06-.94 2.06-2.06.94zm-11 1L8.5 8.5l.94-2.06 2.06-.94-2.06-.94L8.5 2.5l-.94 2.06-2.06.94zm10 10l.94 2.06.94-2.06 2.06-.94-2.06-.94-.94-2.06-.94 2.06-2.06.94z\"/><path d=\"M17.41 7.96l-1.37-1.37c-.4-.4-.92-.59-1.43-.59-.52 0-1.04.2-1.43.59L10.3 9.45l-7.72 7.72c-.78.78-.78 2.05 0 2.83L4 21.41c.39.39.9.59 1.41.59.51 0 1.02-.2 1.41-.59l7.78-7.78 2.81-2.81c.8-.78.8-2.07 0-2.86zM5.41 20L4 18.59l7.72-7.72 1.47 1.35L5.41 20z\"/>\n",
              "  </svg>\n",
              "      </button>\n",
              "      \n",
              "  <style>\n",
              "    .colab-df-container {\n",
              "      display:flex;\n",
              "      flex-wrap:wrap;\n",
              "      gap: 12px;\n",
              "    }\n",
              "\n",
              "    .colab-df-convert {\n",
              "      background-color: #E8F0FE;\n",
              "      border: none;\n",
              "      border-radius: 50%;\n",
              "      cursor: pointer;\n",
              "      display: none;\n",
              "      fill: #1967D2;\n",
              "      height: 32px;\n",
              "      padding: 0 0 0 0;\n",
              "      width: 32px;\n",
              "    }\n",
              "\n",
              "    .colab-df-convert:hover {\n",
              "      background-color: #E2EBFA;\n",
              "      box-shadow: 0px 1px 2px rgba(60, 64, 67, 0.3), 0px 1px 3px 1px rgba(60, 64, 67, 0.15);\n",
              "      fill: #174EA6;\n",
              "    }\n",
              "\n",
              "    [theme=dark] .colab-df-convert {\n",
              "      background-color: #3B4455;\n",
              "      fill: #D2E3FC;\n",
              "    }\n",
              "\n",
              "    [theme=dark] .colab-df-convert:hover {\n",
              "      background-color: #434B5C;\n",
              "      box-shadow: 0px 1px 3px 1px rgba(0, 0, 0, 0.15);\n",
              "      filter: drop-shadow(0px 1px 2px rgba(0, 0, 0, 0.3));\n",
              "      fill: #FFFFFF;\n",
              "    }\n",
              "  </style>\n",
              "\n",
              "      <script>\n",
              "        const buttonEl =\n",
              "          document.querySelector('#df-5a73d04a-f438-4252-8a46-be0887653fd7 button.colab-df-convert');\n",
              "        buttonEl.style.display =\n",
              "          google.colab.kernel.accessAllowed ? 'block' : 'none';\n",
              "\n",
              "        async function convertToInteractive(key) {\n",
              "          const element = document.querySelector('#df-5a73d04a-f438-4252-8a46-be0887653fd7');\n",
              "          const dataTable =\n",
              "            await google.colab.kernel.invokeFunction('convertToInteractive',\n",
              "                                                     [key], {});\n",
              "          if (!dataTable) return;\n",
              "\n",
              "          const docLinkHtml = 'Like what you see? Visit the ' +\n",
              "            '<a target=\"_blank\" href=https://colab.research.google.com/notebooks/data_table.ipynb>data table notebook</a>'\n",
              "            + ' to learn more about interactive tables.';\n",
              "          element.innerHTML = '';\n",
              "          dataTable['output_type'] = 'display_data';\n",
              "          await google.colab.output.renderOutput(dataTable, element);\n",
              "          const docLink = document.createElement('div');\n",
              "          docLink.innerHTML = docLinkHtml;\n",
              "          element.appendChild(docLink);\n",
              "        }\n",
              "      </script>\n",
              "    </div>\n",
              "  </div>\n",
              "  "
            ]
          },
          "metadata": {}
        },
        {
          "output_type": "stream",
          "name": "stdout",
          "text": [
            "\n",
            "\n",
            "\n",
            "\n",
            "\u001b[1mClique\u001b[0m\n"
          ]
        },
        {
          "output_type": "display_data",
          "data": {
            "text/plain": [
              "                             Iteration 25              Iteration 50  \\\n",
              "                                     Loss Time(second)         Loss   \n",
              "Continuous Parameter Shift      -2.04e+00        43.12    -2.10e+00   \n",
              "Continuous Finite Difference    -1.10e+00        43.70    -1.53e+00   \n",
              "\n",
              "                                          Iteration 75               \\\n",
              "                             Time(second)         Loss Time(second)   \n",
              "Continuous Parameter Shift          85.22    -2.18e+00       127.15   \n",
              "Continuous Finite Difference        86.11    -1.83e+00       130.05   \n",
              "\n",
              "                             Iteration 100               \n",
              "                                      Loss Time(second)  \n",
              "Continuous Parameter Shift       -2.16e+00       168.79  \n",
              "Continuous Finite Difference     -1.89e+00       172.15  "
            ],
            "text/html": [
              "\n",
              "  <div id=\"df-c4a1d775-5e7d-4319-a608-4fdf08d67906\">\n",
              "    <div class=\"colab-df-container\">\n",
              "      <div>\n",
              "<style scoped>\n",
              "    .dataframe tbody tr th:only-of-type {\n",
              "        vertical-align: middle;\n",
              "    }\n",
              "\n",
              "    .dataframe tbody tr th {\n",
              "        vertical-align: top;\n",
              "    }\n",
              "\n",
              "    .dataframe thead tr th {\n",
              "        text-align: left;\n",
              "    }\n",
              "</style>\n",
              "<table border=\"1\" class=\"dataframe\">\n",
              "  <thead>\n",
              "    <tr>\n",
              "      <th></th>\n",
              "      <th colspan=\"2\" halign=\"left\">Iteration 25</th>\n",
              "      <th colspan=\"2\" halign=\"left\">Iteration 50</th>\n",
              "      <th colspan=\"2\" halign=\"left\">Iteration 75</th>\n",
              "      <th colspan=\"2\" halign=\"left\">Iteration 100</th>\n",
              "    </tr>\n",
              "    <tr>\n",
              "      <th></th>\n",
              "      <th>Loss</th>\n",
              "      <th>Time(second)</th>\n",
              "      <th>Loss</th>\n",
              "      <th>Time(second)</th>\n",
              "      <th>Loss</th>\n",
              "      <th>Time(second)</th>\n",
              "      <th>Loss</th>\n",
              "      <th>Time(second)</th>\n",
              "    </tr>\n",
              "  </thead>\n",
              "  <tbody>\n",
              "    <tr>\n",
              "      <th>Continuous Parameter Shift</th>\n",
              "      <td>-2.04e+00</td>\n",
              "      <td>43.12</td>\n",
              "      <td>-2.10e+00</td>\n",
              "      <td>85.22</td>\n",
              "      <td>-2.18e+00</td>\n",
              "      <td>127.15</td>\n",
              "      <td>-2.16e+00</td>\n",
              "      <td>168.79</td>\n",
              "    </tr>\n",
              "    <tr>\n",
              "      <th>Continuous Finite Difference</th>\n",
              "      <td>-1.10e+00</td>\n",
              "      <td>43.70</td>\n",
              "      <td>-1.53e+00</td>\n",
              "      <td>86.11</td>\n",
              "      <td>-1.83e+00</td>\n",
              "      <td>130.05</td>\n",
              "      <td>-1.89e+00</td>\n",
              "      <td>172.15</td>\n",
              "    </tr>\n",
              "  </tbody>\n",
              "</table>\n",
              "</div>\n",
              "      <button class=\"colab-df-convert\" onclick=\"convertToInteractive('df-c4a1d775-5e7d-4319-a608-4fdf08d67906')\"\n",
              "              title=\"Convert this dataframe to an interactive table.\"\n",
              "              style=\"display:none;\">\n",
              "        \n",
              "  <svg xmlns=\"http://www.w3.org/2000/svg\" height=\"24px\"viewBox=\"0 0 24 24\"\n",
              "       width=\"24px\">\n",
              "    <path d=\"M0 0h24v24H0V0z\" fill=\"none\"/>\n",
              "    <path d=\"M18.56 5.44l.94 2.06.94-2.06 2.06-.94-2.06-.94-.94-2.06-.94 2.06-2.06.94zm-11 1L8.5 8.5l.94-2.06 2.06-.94-2.06-.94L8.5 2.5l-.94 2.06-2.06.94zm10 10l.94 2.06.94-2.06 2.06-.94-2.06-.94-.94-2.06-.94 2.06-2.06.94z\"/><path d=\"M17.41 7.96l-1.37-1.37c-.4-.4-.92-.59-1.43-.59-.52 0-1.04.2-1.43.59L10.3 9.45l-7.72 7.72c-.78.78-.78 2.05 0 2.83L4 21.41c.39.39.9.59 1.41.59.51 0 1.02-.2 1.41-.59l7.78-7.78 2.81-2.81c.8-.78.8-2.07 0-2.86zM5.41 20L4 18.59l7.72-7.72 1.47 1.35L5.41 20z\"/>\n",
              "  </svg>\n",
              "      </button>\n",
              "      \n",
              "  <style>\n",
              "    .colab-df-container {\n",
              "      display:flex;\n",
              "      flex-wrap:wrap;\n",
              "      gap: 12px;\n",
              "    }\n",
              "\n",
              "    .colab-df-convert {\n",
              "      background-color: #E8F0FE;\n",
              "      border: none;\n",
              "      border-radius: 50%;\n",
              "      cursor: pointer;\n",
              "      display: none;\n",
              "      fill: #1967D2;\n",
              "      height: 32px;\n",
              "      padding: 0 0 0 0;\n",
              "      width: 32px;\n",
              "    }\n",
              "\n",
              "    .colab-df-convert:hover {\n",
              "      background-color: #E2EBFA;\n",
              "      box-shadow: 0px 1px 2px rgba(60, 64, 67, 0.3), 0px 1px 3px 1px rgba(60, 64, 67, 0.15);\n",
              "      fill: #174EA6;\n",
              "    }\n",
              "\n",
              "    [theme=dark] .colab-df-convert {\n",
              "      background-color: #3B4455;\n",
              "      fill: #D2E3FC;\n",
              "    }\n",
              "\n",
              "    [theme=dark] .colab-df-convert:hover {\n",
              "      background-color: #434B5C;\n",
              "      box-shadow: 0px 1px 3px 1px rgba(0, 0, 0, 0.15);\n",
              "      filter: drop-shadow(0px 1px 2px rgba(0, 0, 0, 0.3));\n",
              "      fill: #FFFFFF;\n",
              "    }\n",
              "  </style>\n",
              "\n",
              "      <script>\n",
              "        const buttonEl =\n",
              "          document.querySelector('#df-c4a1d775-5e7d-4319-a608-4fdf08d67906 button.colab-df-convert');\n",
              "        buttonEl.style.display =\n",
              "          google.colab.kernel.accessAllowed ? 'block' : 'none';\n",
              "\n",
              "        async function convertToInteractive(key) {\n",
              "          const element = document.querySelector('#df-c4a1d775-5e7d-4319-a608-4fdf08d67906');\n",
              "          const dataTable =\n",
              "            await google.colab.kernel.invokeFunction('convertToInteractive',\n",
              "                                                     [key], {});\n",
              "          if (!dataTable) return;\n",
              "\n",
              "          const docLinkHtml = 'Like what you see? Visit the ' +\n",
              "            '<a target=\"_blank\" href=https://colab.research.google.com/notebooks/data_table.ipynb>data table notebook</a>'\n",
              "            + ' to learn more about interactive tables.';\n",
              "          element.innerHTML = '';\n",
              "          dataTable['output_type'] = 'display_data';\n",
              "          await google.colab.output.renderOutput(dataTable, element);\n",
              "          const docLink = document.createElement('div');\n",
              "          docLink.innerHTML = docLinkHtml;\n",
              "          element.appendChild(docLink);\n",
              "        }\n",
              "      </script>\n",
              "    </div>\n",
              "  </div>\n",
              "  "
            ]
          },
          "metadata": {}
        },
        {
          "output_type": "stream",
          "name": "stdout",
          "text": [
            "\n",
            "\n",
            "\n",
            "\n",
            "\u001b[1mBinary Linear Programming\u001b[0m\n"
          ]
        },
        {
          "output_type": "display_data",
          "data": {
            "text/plain": [
              "                             Iteration 25              Iteration 50  \\\n",
              "                                     Loss Time(second)         Loss   \n",
              "Continuous Parameter Shift       5.35e+05        44.00     5.14e+05   \n",
              "Continuous Finite Difference     6.19e+05        43.93     6.04e+05   \n",
              "\n",
              "                                          Iteration 75               \\\n",
              "                             Time(second)         Loss Time(second)   \n",
              "Continuous Parameter Shift          85.25     5.07e+05       126.81   \n",
              "Continuous Finite Difference        85.76     5.72e+05       127.56   \n",
              "\n",
              "                             Iteration 100               \n",
              "                                      Loss Time(second)  \n",
              "Continuous Parameter Shift        5.14e+05       168.90  \n",
              "Continuous Finite Difference      5.42e+05       169.91  "
            ],
            "text/html": [
              "\n",
              "  <div id=\"df-94965e3f-5068-45a2-bede-4a7d15172406\">\n",
              "    <div class=\"colab-df-container\">\n",
              "      <div>\n",
              "<style scoped>\n",
              "    .dataframe tbody tr th:only-of-type {\n",
              "        vertical-align: middle;\n",
              "    }\n",
              "\n",
              "    .dataframe tbody tr th {\n",
              "        vertical-align: top;\n",
              "    }\n",
              "\n",
              "    .dataframe thead tr th {\n",
              "        text-align: left;\n",
              "    }\n",
              "</style>\n",
              "<table border=\"1\" class=\"dataframe\">\n",
              "  <thead>\n",
              "    <tr>\n",
              "      <th></th>\n",
              "      <th colspan=\"2\" halign=\"left\">Iteration 25</th>\n",
              "      <th colspan=\"2\" halign=\"left\">Iteration 50</th>\n",
              "      <th colspan=\"2\" halign=\"left\">Iteration 75</th>\n",
              "      <th colspan=\"2\" halign=\"left\">Iteration 100</th>\n",
              "    </tr>\n",
              "    <tr>\n",
              "      <th></th>\n",
              "      <th>Loss</th>\n",
              "      <th>Time(second)</th>\n",
              "      <th>Loss</th>\n",
              "      <th>Time(second)</th>\n",
              "      <th>Loss</th>\n",
              "      <th>Time(second)</th>\n",
              "      <th>Loss</th>\n",
              "      <th>Time(second)</th>\n",
              "    </tr>\n",
              "  </thead>\n",
              "  <tbody>\n",
              "    <tr>\n",
              "      <th>Continuous Parameter Shift</th>\n",
              "      <td>5.35e+05</td>\n",
              "      <td>44.00</td>\n",
              "      <td>5.14e+05</td>\n",
              "      <td>85.25</td>\n",
              "      <td>5.07e+05</td>\n",
              "      <td>126.81</td>\n",
              "      <td>5.14e+05</td>\n",
              "      <td>168.90</td>\n",
              "    </tr>\n",
              "    <tr>\n",
              "      <th>Continuous Finite Difference</th>\n",
              "      <td>6.19e+05</td>\n",
              "      <td>43.93</td>\n",
              "      <td>6.04e+05</td>\n",
              "      <td>85.76</td>\n",
              "      <td>5.72e+05</td>\n",
              "      <td>127.56</td>\n",
              "      <td>5.42e+05</td>\n",
              "      <td>169.91</td>\n",
              "    </tr>\n",
              "  </tbody>\n",
              "</table>\n",
              "</div>\n",
              "      <button class=\"colab-df-convert\" onclick=\"convertToInteractive('df-94965e3f-5068-45a2-bede-4a7d15172406')\"\n",
              "              title=\"Convert this dataframe to an interactive table.\"\n",
              "              style=\"display:none;\">\n",
              "        \n",
              "  <svg xmlns=\"http://www.w3.org/2000/svg\" height=\"24px\"viewBox=\"0 0 24 24\"\n",
              "       width=\"24px\">\n",
              "    <path d=\"M0 0h24v24H0V0z\" fill=\"none\"/>\n",
              "    <path d=\"M18.56 5.44l.94 2.06.94-2.06 2.06-.94-2.06-.94-.94-2.06-.94 2.06-2.06.94zm-11 1L8.5 8.5l.94-2.06 2.06-.94-2.06-.94L8.5 2.5l-.94 2.06-2.06.94zm10 10l.94 2.06.94-2.06 2.06-.94-2.06-.94-.94-2.06-.94 2.06-2.06.94z\"/><path d=\"M17.41 7.96l-1.37-1.37c-.4-.4-.92-.59-1.43-.59-.52 0-1.04.2-1.43.59L10.3 9.45l-7.72 7.72c-.78.78-.78 2.05 0 2.83L4 21.41c.39.39.9.59 1.41.59.51 0 1.02-.2 1.41-.59l7.78-7.78 2.81-2.81c.8-.78.8-2.07 0-2.86zM5.41 20L4 18.59l7.72-7.72 1.47 1.35L5.41 20z\"/>\n",
              "  </svg>\n",
              "      </button>\n",
              "      \n",
              "  <style>\n",
              "    .colab-df-container {\n",
              "      display:flex;\n",
              "      flex-wrap:wrap;\n",
              "      gap: 12px;\n",
              "    }\n",
              "\n",
              "    .colab-df-convert {\n",
              "      background-color: #E8F0FE;\n",
              "      border: none;\n",
              "      border-radius: 50%;\n",
              "      cursor: pointer;\n",
              "      display: none;\n",
              "      fill: #1967D2;\n",
              "      height: 32px;\n",
              "      padding: 0 0 0 0;\n",
              "      width: 32px;\n",
              "    }\n",
              "\n",
              "    .colab-df-convert:hover {\n",
              "      background-color: #E2EBFA;\n",
              "      box-shadow: 0px 1px 2px rgba(60, 64, 67, 0.3), 0px 1px 3px 1px rgba(60, 64, 67, 0.15);\n",
              "      fill: #174EA6;\n",
              "    }\n",
              "\n",
              "    [theme=dark] .colab-df-convert {\n",
              "      background-color: #3B4455;\n",
              "      fill: #D2E3FC;\n",
              "    }\n",
              "\n",
              "    [theme=dark] .colab-df-convert:hover {\n",
              "      background-color: #434B5C;\n",
              "      box-shadow: 0px 1px 3px 1px rgba(0, 0, 0, 0.15);\n",
              "      filter: drop-shadow(0px 1px 2px rgba(0, 0, 0, 0.3));\n",
              "      fill: #FFFFFF;\n",
              "    }\n",
              "  </style>\n",
              "\n",
              "      <script>\n",
              "        const buttonEl =\n",
              "          document.querySelector('#df-94965e3f-5068-45a2-bede-4a7d15172406 button.colab-df-convert');\n",
              "        buttonEl.style.display =\n",
              "          google.colab.kernel.accessAllowed ? 'block' : 'none';\n",
              "\n",
              "        async function convertToInteractive(key) {\n",
              "          const element = document.querySelector('#df-94965e3f-5068-45a2-bede-4a7d15172406');\n",
              "          const dataTable =\n",
              "            await google.colab.kernel.invokeFunction('convertToInteractive',\n",
              "                                                     [key], {});\n",
              "          if (!dataTable) return;\n",
              "\n",
              "          const docLinkHtml = 'Like what you see? Visit the ' +\n",
              "            '<a target=\"_blank\" href=https://colab.research.google.com/notebooks/data_table.ipynb>data table notebook</a>'\n",
              "            + ' to learn more about interactive tables.';\n",
              "          element.innerHTML = '';\n",
              "          dataTable['output_type'] = 'display_data';\n",
              "          await google.colab.output.renderOutput(dataTable, element);\n",
              "          const docLink = document.createElement('div');\n",
              "          docLink.innerHTML = docLinkHtml;\n",
              "          element.appendChild(docLink);\n",
              "        }\n",
              "      </script>\n",
              "    </div>\n",
              "  </div>\n",
              "  "
            ]
          },
          "metadata": {}
        },
        {
          "output_type": "stream",
          "name": "stdout",
          "text": [
            "\n",
            "\n",
            "\n",
            "\n",
            "\u001b[1mKnapsack\u001b[0m\n"
          ]
        },
        {
          "output_type": "display_data",
          "data": {
            "text/plain": [
              "                             Iteration 25              Iteration 50  \\\n",
              "                                     Loss Time(second)         Loss   \n",
              "Continuous Parameter Shift      -1.14e+00        43.28    -1.60e+00   \n",
              "Continuous Finite Difference     6.34e+00        43.16     4.07e+00   \n",
              "\n",
              "                                          Iteration 75               \\\n",
              "                             Time(second)         Loss Time(second)   \n",
              "Continuous Parameter Shift          85.12    -1.58e+00       126.50   \n",
              "Continuous Finite Difference        86.49     8.90e-01       129.06   \n",
              "\n",
              "                             Iteration 100               \n",
              "                                      Loss Time(second)  \n",
              "Continuous Parameter Shift       -1.56e+00       167.96  \n",
              "Continuous Finite Difference      3.41e-01       172.64  "
            ],
            "text/html": [
              "\n",
              "  <div id=\"df-c364cb96-75b3-43b0-9ac8-063b3782f4f1\">\n",
              "    <div class=\"colab-df-container\">\n",
              "      <div>\n",
              "<style scoped>\n",
              "    .dataframe tbody tr th:only-of-type {\n",
              "        vertical-align: middle;\n",
              "    }\n",
              "\n",
              "    .dataframe tbody tr th {\n",
              "        vertical-align: top;\n",
              "    }\n",
              "\n",
              "    .dataframe thead tr th {\n",
              "        text-align: left;\n",
              "    }\n",
              "</style>\n",
              "<table border=\"1\" class=\"dataframe\">\n",
              "  <thead>\n",
              "    <tr>\n",
              "      <th></th>\n",
              "      <th colspan=\"2\" halign=\"left\">Iteration 25</th>\n",
              "      <th colspan=\"2\" halign=\"left\">Iteration 50</th>\n",
              "      <th colspan=\"2\" halign=\"left\">Iteration 75</th>\n",
              "      <th colspan=\"2\" halign=\"left\">Iteration 100</th>\n",
              "    </tr>\n",
              "    <tr>\n",
              "      <th></th>\n",
              "      <th>Loss</th>\n",
              "      <th>Time(second)</th>\n",
              "      <th>Loss</th>\n",
              "      <th>Time(second)</th>\n",
              "      <th>Loss</th>\n",
              "      <th>Time(second)</th>\n",
              "      <th>Loss</th>\n",
              "      <th>Time(second)</th>\n",
              "    </tr>\n",
              "  </thead>\n",
              "  <tbody>\n",
              "    <tr>\n",
              "      <th>Continuous Parameter Shift</th>\n",
              "      <td>-1.14e+00</td>\n",
              "      <td>43.28</td>\n",
              "      <td>-1.60e+00</td>\n",
              "      <td>85.12</td>\n",
              "      <td>-1.58e+00</td>\n",
              "      <td>126.50</td>\n",
              "      <td>-1.56e+00</td>\n",
              "      <td>167.96</td>\n",
              "    </tr>\n",
              "    <tr>\n",
              "      <th>Continuous Finite Difference</th>\n",
              "      <td>6.34e+00</td>\n",
              "      <td>43.16</td>\n",
              "      <td>4.07e+00</td>\n",
              "      <td>86.49</td>\n",
              "      <td>8.90e-01</td>\n",
              "      <td>129.06</td>\n",
              "      <td>3.41e-01</td>\n",
              "      <td>172.64</td>\n",
              "    </tr>\n",
              "  </tbody>\n",
              "</table>\n",
              "</div>\n",
              "      <button class=\"colab-df-convert\" onclick=\"convertToInteractive('df-c364cb96-75b3-43b0-9ac8-063b3782f4f1')\"\n",
              "              title=\"Convert this dataframe to an interactive table.\"\n",
              "              style=\"display:none;\">\n",
              "        \n",
              "  <svg xmlns=\"http://www.w3.org/2000/svg\" height=\"24px\"viewBox=\"0 0 24 24\"\n",
              "       width=\"24px\">\n",
              "    <path d=\"M0 0h24v24H0V0z\" fill=\"none\"/>\n",
              "    <path d=\"M18.56 5.44l.94 2.06.94-2.06 2.06-.94-2.06-.94-.94-2.06-.94 2.06-2.06.94zm-11 1L8.5 8.5l.94-2.06 2.06-.94-2.06-.94L8.5 2.5l-.94 2.06-2.06.94zm10 10l.94 2.06.94-2.06 2.06-.94-2.06-.94-.94-2.06-.94 2.06-2.06.94z\"/><path d=\"M17.41 7.96l-1.37-1.37c-.4-.4-.92-.59-1.43-.59-.52 0-1.04.2-1.43.59L10.3 9.45l-7.72 7.72c-.78.78-.78 2.05 0 2.83L4 21.41c.39.39.9.59 1.41.59.51 0 1.02-.2 1.41-.59l7.78-7.78 2.81-2.81c.8-.78.8-2.07 0-2.86zM5.41 20L4 18.59l7.72-7.72 1.47 1.35L5.41 20z\"/>\n",
              "  </svg>\n",
              "      </button>\n",
              "      \n",
              "  <style>\n",
              "    .colab-df-container {\n",
              "      display:flex;\n",
              "      flex-wrap:wrap;\n",
              "      gap: 12px;\n",
              "    }\n",
              "\n",
              "    .colab-df-convert {\n",
              "      background-color: #E8F0FE;\n",
              "      border: none;\n",
              "      border-radius: 50%;\n",
              "      cursor: pointer;\n",
              "      display: none;\n",
              "      fill: #1967D2;\n",
              "      height: 32px;\n",
              "      padding: 0 0 0 0;\n",
              "      width: 32px;\n",
              "    }\n",
              "\n",
              "    .colab-df-convert:hover {\n",
              "      background-color: #E2EBFA;\n",
              "      box-shadow: 0px 1px 2px rgba(60, 64, 67, 0.3), 0px 1px 3px 1px rgba(60, 64, 67, 0.15);\n",
              "      fill: #174EA6;\n",
              "    }\n",
              "\n",
              "    [theme=dark] .colab-df-convert {\n",
              "      background-color: #3B4455;\n",
              "      fill: #D2E3FC;\n",
              "    }\n",
              "\n",
              "    [theme=dark] .colab-df-convert:hover {\n",
              "      background-color: #434B5C;\n",
              "      box-shadow: 0px 1px 3px 1px rgba(0, 0, 0, 0.15);\n",
              "      filter: drop-shadow(0px 1px 2px rgba(0, 0, 0, 0.3));\n",
              "      fill: #FFFFFF;\n",
              "    }\n",
              "  </style>\n",
              "\n",
              "      <script>\n",
              "        const buttonEl =\n",
              "          document.querySelector('#df-c364cb96-75b3-43b0-9ac8-063b3782f4f1 button.colab-df-convert');\n",
              "        buttonEl.style.display =\n",
              "          google.colab.kernel.accessAllowed ? 'block' : 'none';\n",
              "\n",
              "        async function convertToInteractive(key) {\n",
              "          const element = document.querySelector('#df-c364cb96-75b3-43b0-9ac8-063b3782f4f1');\n",
              "          const dataTable =\n",
              "            await google.colab.kernel.invokeFunction('convertToInteractive',\n",
              "                                                     [key], {});\n",
              "          if (!dataTable) return;\n",
              "\n",
              "          const docLinkHtml = 'Like what you see? Visit the ' +\n",
              "            '<a target=\"_blank\" href=https://colab.research.google.com/notebooks/data_table.ipynb>data table notebook</a>'\n",
              "            + ' to learn more about interactive tables.';\n",
              "          element.innerHTML = '';\n",
              "          dataTable['output_type'] = 'display_data';\n",
              "          await google.colab.output.renderOutput(dataTable, element);\n",
              "          const docLink = document.createElement('div');\n",
              "          docLink.innerHTML = docLinkHtml;\n",
              "          element.appendChild(docLink);\n",
              "        }\n",
              "      </script>\n",
              "    </div>\n",
              "  </div>\n",
              "  "
            ]
          },
          "metadata": {}
        },
        {
          "output_type": "stream",
          "name": "stdout",
          "text": [
            "\n",
            "\n",
            "\n",
            "\n"
          ]
        }
      ],
      "source": [
        "#@title Comparison Table\n",
        "rows = ['Continuous Parameter Shift',\n",
        "          'Continuous Finite Difference',\n",
        "          ]\n",
        "columns_g = [\"Iteration 25\", \"Iteration 50\", \"Iteration 75\", \"Iteration 100\"]\n",
        "iters = [25, 50, 75, 100]\n",
        "columns_s = [\"Loss\", \"Time(second)\"]\n",
        "problems = [\"Max-Cut\", \"Clique\", \"Binary Linear Programming\", \"Knapsack\"]\n",
        "for problemn in range(len(problems)):\n",
        "  df = pd.DataFrame([[cvpsl[problemn][iters[0]], cvpst[problemn][iters[0]], cvpsl[problemn][iters[1]],cvpst[problemn][iters[1]],cvpsl[problemn][iters[2]],cvpst[problemn][iters[2]],cvpsl[problemn][iters[3]],cvpst[problemn][iters[3]]],\n",
        "                    [cvfdl[problemn][iters[0]], cvfdt[problemn][iters[0]], cvfdl[problemn][iters[1]], cvfdt[problemn][iters[1]], cvfdl[problemn][iters[2]], cvfdt[problemn][iters[2]], cvfdl[problemn][iters[3]], cvfdt[problemn][iters[3]]],\n",
        "                    ])\n",
        "\n",
        "  col_ix = pd.MultiIndex.from_product([columns_g, columns_s]) \n",
        "  row_ix = pd.MultiIndex.from_product([rows])\n",
        "  df = df.set_index(row_ix)\n",
        "  df.columns = col_ix\n",
        "  df[( 'Iteration 25','Loss')] = df[( 'Iteration 25','Loss')].map('{:.2e}'.format)\n",
        "  df[( 'Iteration 50','Loss')] = df[( 'Iteration 50','Loss')].map('{:.2e}'.format)\n",
        "  df[( 'Iteration 75','Loss')] = df[( 'Iteration 75','Loss')].map('{:.2e}'.format)\n",
        "  df[( 'Iteration 100','Loss')] = df[( 'Iteration 100','Loss')].map('{:.2e}'.format)\n",
        "  # df[( 'Iteration 500','Loss')] = df[( 'Iteration 500','Loss')].map('{:.2e}'.format)\n",
        "  print(f\"\\033[1m{problems[problemn]}\\033[0m\")\n",
        "  df_styled = df.round(2)\n",
        "  display(df_styled)\n",
        "  print(\"\\n\\n\\n\")"
      ]
    },
    {
      "cell_type": "markdown",
      "metadata": {
        "id": "yvG-o_OUTYm3"
      },
      "source": [
        "## Fixed epochs"
      ]
    },
    {
      "cell_type": "code",
      "execution_count": 62,
      "metadata": {
        "id": "j4ETsKqKq4Yf",
        "colab": {
          "base_uri": "https://localhost:8080/",
          "height": 717
        },
        "outputId": "89559466-c1a2-42c5-947d-09dd80bc3f0d",
        "cellView": "form"
      },
      "outputs": [
        {
          "output_type": "display_data",
          "data": {
            "text/html": [
              "<html>\n",
              "<head><meta charset=\"utf-8\" /></head>\n",
              "<body>\n",
              "    <div>            <script src=\"https://cdnjs.cloudflare.com/ajax/libs/mathjax/2.7.5/MathJax.js?config=TeX-AMS-MML_SVG\"></script><script type=\"text/javascript\">if (window.MathJax) {MathJax.Hub.Config({SVG: {font: \"STIX-Web\"}});}</script>                <script type=\"text/javascript\">window.PlotlyConfig = {MathJaxConfig: 'local'};</script>\n",
              "        <script src=\"https://cdn.plot.ly/plotly-2.8.3.min.js\"></script>                <div id=\"d56b674f-f8d9-428d-bc66-101047784d56\" class=\"plotly-graph-div\" style=\"height:700px; width:1000px;\"></div>            <script type=\"text/javascript\">                                    window.PLOTLYENV=window.PLOTLYENV || {};                                    if (document.getElementById(\"d56b674f-f8d9-428d-bc66-101047784d56\")) {                    Plotly.newPlot(                        \"d56b674f-f8d9-428d-bc66-101047784d56\",                        [{\"line\":{\"color\":\"red\",\"width\":2},\"name\":\"Continuous Parameter Shift\",\"showlegend\":true,\"x\":[6,12,18,24,30],\"y\":[-2.2344088404208464,-2.7548023968004776,-2.593061394476486,-2.2943781711903113,-2.4776476026816283],\"type\":\"scatter\",\"xaxis\":\"x\",\"yaxis\":\"y\"},{\"line\":{\"color\":\"green\",\"width\":2},\"mode\":\"lines\",\"name\":\"Continuous Finite Difference\",\"showlegend\":true,\"x\":[6,12,18,24,30],\"y\":[-0.6244323458115498,-2.185424654882407,-0.0284009356965809,-1.3377605422987022,0.016935985686005475],\"type\":\"scatter\",\"xaxis\":\"x\",\"yaxis\":\"y\"},{\"line\":{\"color\":\"red\",\"width\":2},\"name\":\"Continuous Parameter Shift\",\"showlegend\":false,\"x\":[6,12,18,24,30],\"y\":[-1.5303201769277361,-1.9148936815943238,-1.6881842753059353,-1.4829385962342918,-1.544607173849562],\"type\":\"scatter\",\"xaxis\":\"x2\",\"yaxis\":\"y2\"},{\"line\":{\"color\":\"green\",\"width\":2},\"mode\":\"lines\",\"name\":\"Continuous Finite Difference\",\"showlegend\":false,\"x\":[6,12,18,24,30],\"y\":[-0.3627992350114117,-1.4861105534683123,-0.019939382102525865,-0.7521665107172696,-0.002070874387235521],\"type\":\"scatter\",\"xaxis\":\"x2\",\"yaxis\":\"y2\"},{\"line\":{\"color\":\"red\",\"width\":2},\"name\":\"Continuous Parameter Shift\",\"showlegend\":false,\"x\":[6,12,18,24,30],\"y\":[592369.7131930399,533430.261763434,539056.0498233152,568412.2777048401,549024.684810441],\"type\":\"scatter\",\"xaxis\":\"x3\",\"yaxis\":\"y3\"},{\"line\":{\"color\":\"green\",\"width\":2},\"mode\":\"lines\",\"name\":\"Continuous Finite Difference\",\"showlegend\":false,\"x\":[6,12,18,24,30],\"y\":[808413.601518855,613346.1616929106,987463.1800447294,704743.6310544823,984850.942350159],\"type\":\"scatter\",\"xaxis\":\"x3\",\"yaxis\":\"y3\"},{\"line\":{\"color\":\"red\",\"width\":2},\"name\":\"Continuous Parameter Shift\",\"showlegend\":false,\"x\":[6,12,18,24,30],\"y\":[2.7830529485047144,-1.1694414489256602,-0.059802293107402704,0.5833957119629964,-0.4522052723245018],\"type\":\"scatter\",\"xaxis\":\"x4\",\"yaxis\":\"y4\"},{\"line\":{\"color\":\"green\",\"width\":2},\"mode\":\"lines\",\"name\":\"Continuous Finite Difference\",\"showlegend\":false,\"x\":[6,12,18,24,30],\"y\":[20.989701100924858,3.233390622993239,34.81989793190141,11.737589058025733,29.714332199825147],\"type\":\"scatter\",\"xaxis\":\"x4\",\"yaxis\":\"y4\"}],                        {\"template\":{\"data\":{\"bar\":[{\"error_x\":{\"color\":\"#2a3f5f\"},\"error_y\":{\"color\":\"#2a3f5f\"},\"marker\":{\"line\":{\"color\":\"#E5ECF6\",\"width\":0.5},\"pattern\":{\"fillmode\":\"overlay\",\"size\":10,\"solidity\":0.2}},\"type\":\"bar\"}],\"barpolar\":[{\"marker\":{\"line\":{\"color\":\"#E5ECF6\",\"width\":0.5},\"pattern\":{\"fillmode\":\"overlay\",\"size\":10,\"solidity\":0.2}},\"type\":\"barpolar\"}],\"carpet\":[{\"aaxis\":{\"endlinecolor\":\"#2a3f5f\",\"gridcolor\":\"white\",\"linecolor\":\"white\",\"minorgridcolor\":\"white\",\"startlinecolor\":\"#2a3f5f\"},\"baxis\":{\"endlinecolor\":\"#2a3f5f\",\"gridcolor\":\"white\",\"linecolor\":\"white\",\"minorgridcolor\":\"white\",\"startlinecolor\":\"#2a3f5f\"},\"type\":\"carpet\"}],\"choropleth\":[{\"colorbar\":{\"outlinewidth\":0,\"ticks\":\"\"},\"type\":\"choropleth\"}],\"contour\":[{\"colorbar\":{\"outlinewidth\":0,\"ticks\":\"\"},\"colorscale\":[[0.0,\"#0d0887\"],[0.1111111111111111,\"#46039f\"],[0.2222222222222222,\"#7201a8\"],[0.3333333333333333,\"#9c179e\"],[0.4444444444444444,\"#bd3786\"],[0.5555555555555556,\"#d8576b\"],[0.6666666666666666,\"#ed7953\"],[0.7777777777777778,\"#fb9f3a\"],[0.8888888888888888,\"#fdca26\"],[1.0,\"#f0f921\"]],\"type\":\"contour\"}],\"contourcarpet\":[{\"colorbar\":{\"outlinewidth\":0,\"ticks\":\"\"},\"type\":\"contourcarpet\"}],\"heatmap\":[{\"colorbar\":{\"outlinewidth\":0,\"ticks\":\"\"},\"colorscale\":[[0.0,\"#0d0887\"],[0.1111111111111111,\"#46039f\"],[0.2222222222222222,\"#7201a8\"],[0.3333333333333333,\"#9c179e\"],[0.4444444444444444,\"#bd3786\"],[0.5555555555555556,\"#d8576b\"],[0.6666666666666666,\"#ed7953\"],[0.7777777777777778,\"#fb9f3a\"],[0.8888888888888888,\"#fdca26\"],[1.0,\"#f0f921\"]],\"type\":\"heatmap\"}],\"heatmapgl\":[{\"colorbar\":{\"outlinewidth\":0,\"ticks\":\"\"},\"colorscale\":[[0.0,\"#0d0887\"],[0.1111111111111111,\"#46039f\"],[0.2222222222222222,\"#7201a8\"],[0.3333333333333333,\"#9c179e\"],[0.4444444444444444,\"#bd3786\"],[0.5555555555555556,\"#d8576b\"],[0.6666666666666666,\"#ed7953\"],[0.7777777777777778,\"#fb9f3a\"],[0.8888888888888888,\"#fdca26\"],[1.0,\"#f0f921\"]],\"type\":\"heatmapgl\"}],\"histogram\":[{\"marker\":{\"pattern\":{\"fillmode\":\"overlay\",\"size\":10,\"solidity\":0.2}},\"type\":\"histogram\"}],\"histogram2d\":[{\"colorbar\":{\"outlinewidth\":0,\"ticks\":\"\"},\"colorscale\":[[0.0,\"#0d0887\"],[0.1111111111111111,\"#46039f\"],[0.2222222222222222,\"#7201a8\"],[0.3333333333333333,\"#9c179e\"],[0.4444444444444444,\"#bd3786\"],[0.5555555555555556,\"#d8576b\"],[0.6666666666666666,\"#ed7953\"],[0.7777777777777778,\"#fb9f3a\"],[0.8888888888888888,\"#fdca26\"],[1.0,\"#f0f921\"]],\"type\":\"histogram2d\"}],\"histogram2dcontour\":[{\"colorbar\":{\"outlinewidth\":0,\"ticks\":\"\"},\"colorscale\":[[0.0,\"#0d0887\"],[0.1111111111111111,\"#46039f\"],[0.2222222222222222,\"#7201a8\"],[0.3333333333333333,\"#9c179e\"],[0.4444444444444444,\"#bd3786\"],[0.5555555555555556,\"#d8576b\"],[0.6666666666666666,\"#ed7953\"],[0.7777777777777778,\"#fb9f3a\"],[0.8888888888888888,\"#fdca26\"],[1.0,\"#f0f921\"]],\"type\":\"histogram2dcontour\"}],\"mesh3d\":[{\"colorbar\":{\"outlinewidth\":0,\"ticks\":\"\"},\"type\":\"mesh3d\"}],\"parcoords\":[{\"line\":{\"colorbar\":{\"outlinewidth\":0,\"ticks\":\"\"}},\"type\":\"parcoords\"}],\"pie\":[{\"automargin\":true,\"type\":\"pie\"}],\"scatter\":[{\"marker\":{\"colorbar\":{\"outlinewidth\":0,\"ticks\":\"\"}},\"type\":\"scatter\"}],\"scatter3d\":[{\"line\":{\"colorbar\":{\"outlinewidth\":0,\"ticks\":\"\"}},\"marker\":{\"colorbar\":{\"outlinewidth\":0,\"ticks\":\"\"}},\"type\":\"scatter3d\"}],\"scattercarpet\":[{\"marker\":{\"colorbar\":{\"outlinewidth\":0,\"ticks\":\"\"}},\"type\":\"scattercarpet\"}],\"scattergeo\":[{\"marker\":{\"colorbar\":{\"outlinewidth\":0,\"ticks\":\"\"}},\"type\":\"scattergeo\"}],\"scattergl\":[{\"marker\":{\"colorbar\":{\"outlinewidth\":0,\"ticks\":\"\"}},\"type\":\"scattergl\"}],\"scattermapbox\":[{\"marker\":{\"colorbar\":{\"outlinewidth\":0,\"ticks\":\"\"}},\"type\":\"scattermapbox\"}],\"scatterpolar\":[{\"marker\":{\"colorbar\":{\"outlinewidth\":0,\"ticks\":\"\"}},\"type\":\"scatterpolar\"}],\"scatterpolargl\":[{\"marker\":{\"colorbar\":{\"outlinewidth\":0,\"ticks\":\"\"}},\"type\":\"scatterpolargl\"}],\"scatterternary\":[{\"marker\":{\"colorbar\":{\"outlinewidth\":0,\"ticks\":\"\"}},\"type\":\"scatterternary\"}],\"surface\":[{\"colorbar\":{\"outlinewidth\":0,\"ticks\":\"\"},\"colorscale\":[[0.0,\"#0d0887\"],[0.1111111111111111,\"#46039f\"],[0.2222222222222222,\"#7201a8\"],[0.3333333333333333,\"#9c179e\"],[0.4444444444444444,\"#bd3786\"],[0.5555555555555556,\"#d8576b\"],[0.6666666666666666,\"#ed7953\"],[0.7777777777777778,\"#fb9f3a\"],[0.8888888888888888,\"#fdca26\"],[1.0,\"#f0f921\"]],\"type\":\"surface\"}],\"table\":[{\"cells\":{\"fill\":{\"color\":\"#EBF0F8\"},\"line\":{\"color\":\"white\"}},\"header\":{\"fill\":{\"color\":\"#C8D4E3\"},\"line\":{\"color\":\"white\"}},\"type\":\"table\"}]},\"layout\":{\"annotationdefaults\":{\"arrowcolor\":\"#2a3f5f\",\"arrowhead\":0,\"arrowwidth\":1},\"autotypenumbers\":\"strict\",\"coloraxis\":{\"colorbar\":{\"outlinewidth\":0,\"ticks\":\"\"}},\"colorscale\":{\"diverging\":[[0,\"#8e0152\"],[0.1,\"#c51b7d\"],[0.2,\"#de77ae\"],[0.3,\"#f1b6da\"],[0.4,\"#fde0ef\"],[0.5,\"#f7f7f7\"],[0.6,\"#e6f5d0\"],[0.7,\"#b8e186\"],[0.8,\"#7fbc41\"],[0.9,\"#4d9221\"],[1,\"#276419\"]],\"sequential\":[[0.0,\"#0d0887\"],[0.1111111111111111,\"#46039f\"],[0.2222222222222222,\"#7201a8\"],[0.3333333333333333,\"#9c179e\"],[0.4444444444444444,\"#bd3786\"],[0.5555555555555556,\"#d8576b\"],[0.6666666666666666,\"#ed7953\"],[0.7777777777777778,\"#fb9f3a\"],[0.8888888888888888,\"#fdca26\"],[1.0,\"#f0f921\"]],\"sequentialminus\":[[0.0,\"#0d0887\"],[0.1111111111111111,\"#46039f\"],[0.2222222222222222,\"#7201a8\"],[0.3333333333333333,\"#9c179e\"],[0.4444444444444444,\"#bd3786\"],[0.5555555555555556,\"#d8576b\"],[0.6666666666666666,\"#ed7953\"],[0.7777777777777778,\"#fb9f3a\"],[0.8888888888888888,\"#fdca26\"],[1.0,\"#f0f921\"]]},\"colorway\":[\"#636efa\",\"#EF553B\",\"#00cc96\",\"#ab63fa\",\"#FFA15A\",\"#19d3f3\",\"#FF6692\",\"#B6E880\",\"#FF97FF\",\"#FECB52\"],\"font\":{\"color\":\"#2a3f5f\"},\"geo\":{\"bgcolor\":\"white\",\"lakecolor\":\"white\",\"landcolor\":\"#E5ECF6\",\"showlakes\":true,\"showland\":true,\"subunitcolor\":\"white\"},\"hoverlabel\":{\"align\":\"left\"},\"hovermode\":\"closest\",\"mapbox\":{\"style\":\"light\"},\"paper_bgcolor\":\"white\",\"plot_bgcolor\":\"#E5ECF6\",\"polar\":{\"angularaxis\":{\"gridcolor\":\"white\",\"linecolor\":\"white\",\"ticks\":\"\"},\"bgcolor\":\"#E5ECF6\",\"radialaxis\":{\"gridcolor\":\"white\",\"linecolor\":\"white\",\"ticks\":\"\"}},\"scene\":{\"xaxis\":{\"backgroundcolor\":\"#E5ECF6\",\"gridcolor\":\"white\",\"gridwidth\":2,\"linecolor\":\"white\",\"showbackground\":true,\"ticks\":\"\",\"zerolinecolor\":\"white\"},\"yaxis\":{\"backgroundcolor\":\"#E5ECF6\",\"gridcolor\":\"white\",\"gridwidth\":2,\"linecolor\":\"white\",\"showbackground\":true,\"ticks\":\"\",\"zerolinecolor\":\"white\"},\"zaxis\":{\"backgroundcolor\":\"#E5ECF6\",\"gridcolor\":\"white\",\"gridwidth\":2,\"linecolor\":\"white\",\"showbackground\":true,\"ticks\":\"\",\"zerolinecolor\":\"white\"}},\"shapedefaults\":{\"line\":{\"color\":\"#2a3f5f\"}},\"ternary\":{\"aaxis\":{\"gridcolor\":\"white\",\"linecolor\":\"white\",\"ticks\":\"\"},\"baxis\":{\"gridcolor\":\"white\",\"linecolor\":\"white\",\"ticks\":\"\"},\"bgcolor\":\"#E5ECF6\",\"caxis\":{\"gridcolor\":\"white\",\"linecolor\":\"white\",\"ticks\":\"\"}},\"title\":{\"x\":0.05},\"xaxis\":{\"automargin\":true,\"gridcolor\":\"white\",\"linecolor\":\"white\",\"ticks\":\"\",\"title\":{\"standoff\":15},\"zerolinecolor\":\"white\",\"zerolinewidth\":2},\"yaxis\":{\"automargin\":true,\"gridcolor\":\"white\",\"linecolor\":\"white\",\"ticks\":\"\",\"title\":{\"standoff\":15},\"zerolinecolor\":\"white\",\"zerolinewidth\":2}}},\"xaxis\":{\"anchor\":\"y\",\"domain\":[0.0,0.45],\"title\":{\"text\":\"The Number of parameterized gate\"}},\"yaxis\":{\"anchor\":\"x\",\"domain\":[0.625,1.0],\"title\":{\"text\":\"Loss\"}},\"xaxis2\":{\"anchor\":\"y2\",\"domain\":[0.55,1.0]},\"yaxis2\":{\"anchor\":\"x2\",\"domain\":[0.625,1.0]},\"xaxis3\":{\"anchor\":\"y3\",\"domain\":[0.0,0.45]},\"yaxis3\":{\"anchor\":\"x3\",\"domain\":[0.0,0.375]},\"xaxis4\":{\"anchor\":\"y4\",\"domain\":[0.55,1.0]},\"yaxis4\":{\"anchor\":\"x4\",\"domain\":[0.0,0.375]},\"annotations\":[{\"font\":{\"size\":16},\"showarrow\":false,\"text\":\"Max-Cut\",\"x\":0.225,\"xanchor\":\"center\",\"xref\":\"paper\",\"y\":1.0,\"yanchor\":\"bottom\",\"yref\":\"paper\"},{\"font\":{\"size\":16},\"showarrow\":false,\"text\":\"Clique\",\"x\":0.775,\"xanchor\":\"center\",\"xref\":\"paper\",\"y\":1.0,\"yanchor\":\"bottom\",\"yref\":\"paper\"},{\"font\":{\"size\":16},\"showarrow\":false,\"text\":\"Binary Linear Programming\",\"x\":0.225,\"xanchor\":\"center\",\"xref\":\"paper\",\"y\":0.375,\"yanchor\":\"bottom\",\"yref\":\"paper\"},{\"font\":{\"size\":16},\"showarrow\":false,\"text\":\"Knapsack\",\"x\":0.775,\"xanchor\":\"center\",\"xref\":\"paper\",\"y\":0.375,\"yanchor\":\"bottom\",\"yref\":\"paper\"}],\"title\":{\"text\":\"Loss Comparison  <br><sup>Fixed epochs (10 epochs).</sup>\"},\"autosize\":false,\"width\":1000,\"height\":700},                        {\"responsive\": true}                    ).then(function(){\n",
              "                            \n",
              "var gd = document.getElementById('d56b674f-f8d9-428d-bc66-101047784d56');\n",
              "var x = new MutationObserver(function (mutations, observer) {{\n",
              "        var display = window.getComputedStyle(gd).display;\n",
              "        if (!display || display === 'none') {{\n",
              "            console.log([gd, 'removed!']);\n",
              "            Plotly.purge(gd);\n",
              "            observer.disconnect();\n",
              "        }}\n",
              "}});\n",
              "\n",
              "// Listen for the removal of the full notebook cells\n",
              "var notebookContainer = gd.closest('#notebook-container');\n",
              "if (notebookContainer) {{\n",
              "    x.observe(notebookContainer, {childList: true});\n",
              "}}\n",
              "\n",
              "// Listen for the clearing of the current output cell\n",
              "var outputEl = gd.closest('.output');\n",
              "if (outputEl) {{\n",
              "    x.observe(outputEl, {childList: true});\n",
              "}}\n",
              "\n",
              "                        })                };                            </script>        </div>\n",
              "</body>\n",
              "</html>"
            ]
          },
          "metadata": {}
        }
      ],
      "source": [
        "#@title Loss Comparison \n",
        "#@markdown Fixed epochs (10 epochs).\n",
        "from plotly.subplots import make_subplots\n",
        "\n",
        "x = [step*3 for step in steps]\n",
        "row = 2\n",
        "col = 2\n",
        "fig = make_subplots(rows=row, cols=col, subplot_titles=(\"Max-Cut\",\"Clique\",\"Binary Linear Programming\", \"Knapsack\"))\n",
        "show = True\n",
        "for i in range(row):\n",
        "  for j in range(col):\n",
        "    problemn = i*col+j\n",
        "    if problemn>0:\n",
        "      show = False\n",
        "    dv_cv = pd.DataFrame({\"#Param Gates\":x, \"Loss\":cvpslc[problemn]})\n",
        "    dv_fd_cv = pd.DataFrame({\"#Param Gates\":x, \"Loss\":cvfdlc[problemn]})\n",
        "\n",
        "    fig.add_trace(go.Scatter(x=dv_cv[\"#Param Gates\"], y=dv_cv[\"Loss\"], name=\"Continuous Parameter Shift\", line = dict(width=2), line_color='red', showlegend = show), row=i+1, col=j+1)\n",
        "    fig.add_trace(go.Scatter(x=dv_fd_cv[\"#Param Gates\"], y=dv_fd_cv[\"Loss\"], mode=\"lines\", name=\"Continuous Finite Difference\", line = dict(width=2), line_color='green', showlegend = show), row=i+1, col=j+1)\n",
        "\n",
        "fig.update_layout(title=\"Loss Comparison  <br><sup>Fixed epochs (10 epochs).</sup>\",\n",
        "                  xaxis_title=\"The Number of parameterized gate\",\n",
        "                  yaxis_title=\"Loss\", autosize=False,\n",
        "                  width=1000,\n",
        "                  height=700)\n",
        "plotly.offline.plot(fig, filename='loss_fixepoch_cv.html')\n",
        "fig.show()"
      ]
    },
    {
      "cell_type": "code",
      "source": [
        "with open('sampling_pslc_cv.pk', 'wb') as fp:\n",
        "    pickle.dump(cvpslc, fp)\n",
        "with open('sampling_fdlc_cv.pk', 'wb') as fp:\n",
        "    pickle.dump(cvfdlc, fp)"
      ],
      "metadata": {
        "id": "S9K98E_MkMJQ"
      },
      "execution_count": 63,
      "outputs": []
    },
    {
      "cell_type": "code",
      "execution_count": 64,
      "metadata": {
        "id": "S-MBnDy8ta7l",
        "colab": {
          "base_uri": "https://localhost:8080/",
          "height": 717
        },
        "outputId": "6a136ba8-6294-4971-8673-6e310eed0039",
        "cellView": "form"
      },
      "outputs": [
        {
          "output_type": "display_data",
          "data": {
            "text/html": [
              "<html>\n",
              "<head><meta charset=\"utf-8\" /></head>\n",
              "<body>\n",
              "    <div>            <script src=\"https://cdnjs.cloudflare.com/ajax/libs/mathjax/2.7.5/MathJax.js?config=TeX-AMS-MML_SVG\"></script><script type=\"text/javascript\">if (window.MathJax) {MathJax.Hub.Config({SVG: {font: \"STIX-Web\"}});}</script>                <script type=\"text/javascript\">window.PlotlyConfig = {MathJaxConfig: 'local'};</script>\n",
              "        <script src=\"https://cdn.plot.ly/plotly-2.8.3.min.js\"></script>                <div id=\"8bdf0b2f-e28c-4703-85fb-a3458df4aa93\" class=\"plotly-graph-div\" style=\"height:700px; width:1000px;\"></div>            <script type=\"text/javascript\">                                    window.PLOTLYENV=window.PLOTLYENV || {};                                    if (document.getElementById(\"8bdf0b2f-e28c-4703-85fb-a3458df4aa93\")) {                    Plotly.newPlot(                        \"8bdf0b2f-e28c-4703-85fb-a3458df4aa93\",                        [{\"line\":{\"color\":\"red\",\"width\":2},\"name\":\"Continuous Parameter Shift\",\"showlegend\":true,\"x\":[6,12,18,24,30],\"y\":[18.54911732673645,48.0709023475647,93.47594022750854,140.3098485469818,205.05538535118103],\"type\":\"scatter\",\"xaxis\":\"x\",\"yaxis\":\"y\"},{\"line\":{\"color\":\"green\",\"width\":2},\"mode\":\"lines\",\"name\":\"Continuous Finite Difference\",\"showlegend\":true,\"x\":[6,12,18,24,30],\"y\":[18.26058030128479,48.36319279670715,89.26748394966125,141.68104076385498,207.29032826423645],\"type\":\"scatter\",\"xaxis\":\"x\",\"yaxis\":\"y\"},{\"line\":{\"color\":\"red\",\"width\":2},\"name\":\"Continuous Parameter Shift\",\"showlegend\":false,\"x\":[6,12,18,24,30],\"y\":[18.3098783493042,49.01250863075256,89.01256847381592,141.5499129295349,205.37932467460632],\"type\":\"scatter\",\"xaxis\":\"x2\",\"yaxis\":\"y2\"},{\"line\":{\"color\":\"green\",\"width\":2},\"mode\":\"lines\",\"name\":\"Continuous Finite Difference\",\"showlegend\":false,\"x\":[6,12,18,24,30],\"y\":[18.282989025115967,49.29106116294861,90.74369406700134,142.44029593467712,206.26965379714966],\"type\":\"scatter\",\"xaxis\":\"x2\",\"yaxis\":\"y2\"},{\"line\":{\"color\":\"red\",\"width\":2},\"name\":\"Continuous Parameter Shift\",\"showlegend\":false,\"x\":[6,12,18,24,30],\"y\":[18.45298981666565,48.22027230262756,89.09677839279175,142.53013825416565,205.5720818042755],\"type\":\"scatter\",\"xaxis\":\"x3\",\"yaxis\":\"y3\"},{\"line\":{\"color\":\"green\",\"width\":2},\"mode\":\"lines\",\"name\":\"Continuous Finite Difference\",\"showlegend\":false,\"x\":[6,12,18,24,30],\"y\":[20.05364751815796,49.000173807144165,90.33146643638611,142.7538754940033,205.9767837524414],\"type\":\"scatter\",\"xaxis\":\"x3\",\"yaxis\":\"y3\"},{\"line\":{\"color\":\"red\",\"width\":2},\"name\":\"Continuous Parameter Shift\",\"showlegend\":false,\"x\":[6,12,18,24,30],\"y\":[18.320109367370605,48.16999363899231,88.73472356796265,141.0957007408142,205.52013969421387],\"type\":\"scatter\",\"xaxis\":\"x4\",\"yaxis\":\"y4\"},{\"line\":{\"color\":\"green\",\"width\":2},\"mode\":\"lines\",\"name\":\"Continuous Finite Difference\",\"showlegend\":false,\"x\":[6,12,18,24,30],\"y\":[19.28327512741089,49.32748889923096,91.62460422515869,144.74818468093872,215.0324902534485],\"type\":\"scatter\",\"xaxis\":\"x4\",\"yaxis\":\"y4\"}],                        {\"template\":{\"data\":{\"bar\":[{\"error_x\":{\"color\":\"#2a3f5f\"},\"error_y\":{\"color\":\"#2a3f5f\"},\"marker\":{\"line\":{\"color\":\"#E5ECF6\",\"width\":0.5},\"pattern\":{\"fillmode\":\"overlay\",\"size\":10,\"solidity\":0.2}},\"type\":\"bar\"}],\"barpolar\":[{\"marker\":{\"line\":{\"color\":\"#E5ECF6\",\"width\":0.5},\"pattern\":{\"fillmode\":\"overlay\",\"size\":10,\"solidity\":0.2}},\"type\":\"barpolar\"}],\"carpet\":[{\"aaxis\":{\"endlinecolor\":\"#2a3f5f\",\"gridcolor\":\"white\",\"linecolor\":\"white\",\"minorgridcolor\":\"white\",\"startlinecolor\":\"#2a3f5f\"},\"baxis\":{\"endlinecolor\":\"#2a3f5f\",\"gridcolor\":\"white\",\"linecolor\":\"white\",\"minorgridcolor\":\"white\",\"startlinecolor\":\"#2a3f5f\"},\"type\":\"carpet\"}],\"choropleth\":[{\"colorbar\":{\"outlinewidth\":0,\"ticks\":\"\"},\"type\":\"choropleth\"}],\"contour\":[{\"colorbar\":{\"outlinewidth\":0,\"ticks\":\"\"},\"colorscale\":[[0.0,\"#0d0887\"],[0.1111111111111111,\"#46039f\"],[0.2222222222222222,\"#7201a8\"],[0.3333333333333333,\"#9c179e\"],[0.4444444444444444,\"#bd3786\"],[0.5555555555555556,\"#d8576b\"],[0.6666666666666666,\"#ed7953\"],[0.7777777777777778,\"#fb9f3a\"],[0.8888888888888888,\"#fdca26\"],[1.0,\"#f0f921\"]],\"type\":\"contour\"}],\"contourcarpet\":[{\"colorbar\":{\"outlinewidth\":0,\"ticks\":\"\"},\"type\":\"contourcarpet\"}],\"heatmap\":[{\"colorbar\":{\"outlinewidth\":0,\"ticks\":\"\"},\"colorscale\":[[0.0,\"#0d0887\"],[0.1111111111111111,\"#46039f\"],[0.2222222222222222,\"#7201a8\"],[0.3333333333333333,\"#9c179e\"],[0.4444444444444444,\"#bd3786\"],[0.5555555555555556,\"#d8576b\"],[0.6666666666666666,\"#ed7953\"],[0.7777777777777778,\"#fb9f3a\"],[0.8888888888888888,\"#fdca26\"],[1.0,\"#f0f921\"]],\"type\":\"heatmap\"}],\"heatmapgl\":[{\"colorbar\":{\"outlinewidth\":0,\"ticks\":\"\"},\"colorscale\":[[0.0,\"#0d0887\"],[0.1111111111111111,\"#46039f\"],[0.2222222222222222,\"#7201a8\"],[0.3333333333333333,\"#9c179e\"],[0.4444444444444444,\"#bd3786\"],[0.5555555555555556,\"#d8576b\"],[0.6666666666666666,\"#ed7953\"],[0.7777777777777778,\"#fb9f3a\"],[0.8888888888888888,\"#fdca26\"],[1.0,\"#f0f921\"]],\"type\":\"heatmapgl\"}],\"histogram\":[{\"marker\":{\"pattern\":{\"fillmode\":\"overlay\",\"size\":10,\"solidity\":0.2}},\"type\":\"histogram\"}],\"histogram2d\":[{\"colorbar\":{\"outlinewidth\":0,\"ticks\":\"\"},\"colorscale\":[[0.0,\"#0d0887\"],[0.1111111111111111,\"#46039f\"],[0.2222222222222222,\"#7201a8\"],[0.3333333333333333,\"#9c179e\"],[0.4444444444444444,\"#bd3786\"],[0.5555555555555556,\"#d8576b\"],[0.6666666666666666,\"#ed7953\"],[0.7777777777777778,\"#fb9f3a\"],[0.8888888888888888,\"#fdca26\"],[1.0,\"#f0f921\"]],\"type\":\"histogram2d\"}],\"histogram2dcontour\":[{\"colorbar\":{\"outlinewidth\":0,\"ticks\":\"\"},\"colorscale\":[[0.0,\"#0d0887\"],[0.1111111111111111,\"#46039f\"],[0.2222222222222222,\"#7201a8\"],[0.3333333333333333,\"#9c179e\"],[0.4444444444444444,\"#bd3786\"],[0.5555555555555556,\"#d8576b\"],[0.6666666666666666,\"#ed7953\"],[0.7777777777777778,\"#fb9f3a\"],[0.8888888888888888,\"#fdca26\"],[1.0,\"#f0f921\"]],\"type\":\"histogram2dcontour\"}],\"mesh3d\":[{\"colorbar\":{\"outlinewidth\":0,\"ticks\":\"\"},\"type\":\"mesh3d\"}],\"parcoords\":[{\"line\":{\"colorbar\":{\"outlinewidth\":0,\"ticks\":\"\"}},\"type\":\"parcoords\"}],\"pie\":[{\"automargin\":true,\"type\":\"pie\"}],\"scatter\":[{\"marker\":{\"colorbar\":{\"outlinewidth\":0,\"ticks\":\"\"}},\"type\":\"scatter\"}],\"scatter3d\":[{\"line\":{\"colorbar\":{\"outlinewidth\":0,\"ticks\":\"\"}},\"marker\":{\"colorbar\":{\"outlinewidth\":0,\"ticks\":\"\"}},\"type\":\"scatter3d\"}],\"scattercarpet\":[{\"marker\":{\"colorbar\":{\"outlinewidth\":0,\"ticks\":\"\"}},\"type\":\"scattercarpet\"}],\"scattergeo\":[{\"marker\":{\"colorbar\":{\"outlinewidth\":0,\"ticks\":\"\"}},\"type\":\"scattergeo\"}],\"scattergl\":[{\"marker\":{\"colorbar\":{\"outlinewidth\":0,\"ticks\":\"\"}},\"type\":\"scattergl\"}],\"scattermapbox\":[{\"marker\":{\"colorbar\":{\"outlinewidth\":0,\"ticks\":\"\"}},\"type\":\"scattermapbox\"}],\"scatterpolar\":[{\"marker\":{\"colorbar\":{\"outlinewidth\":0,\"ticks\":\"\"}},\"type\":\"scatterpolar\"}],\"scatterpolargl\":[{\"marker\":{\"colorbar\":{\"outlinewidth\":0,\"ticks\":\"\"}},\"type\":\"scatterpolargl\"}],\"scatterternary\":[{\"marker\":{\"colorbar\":{\"outlinewidth\":0,\"ticks\":\"\"}},\"type\":\"scatterternary\"}],\"surface\":[{\"colorbar\":{\"outlinewidth\":0,\"ticks\":\"\"},\"colorscale\":[[0.0,\"#0d0887\"],[0.1111111111111111,\"#46039f\"],[0.2222222222222222,\"#7201a8\"],[0.3333333333333333,\"#9c179e\"],[0.4444444444444444,\"#bd3786\"],[0.5555555555555556,\"#d8576b\"],[0.6666666666666666,\"#ed7953\"],[0.7777777777777778,\"#fb9f3a\"],[0.8888888888888888,\"#fdca26\"],[1.0,\"#f0f921\"]],\"type\":\"surface\"}],\"table\":[{\"cells\":{\"fill\":{\"color\":\"#EBF0F8\"},\"line\":{\"color\":\"white\"}},\"header\":{\"fill\":{\"color\":\"#C8D4E3\"},\"line\":{\"color\":\"white\"}},\"type\":\"table\"}]},\"layout\":{\"annotationdefaults\":{\"arrowcolor\":\"#2a3f5f\",\"arrowhead\":0,\"arrowwidth\":1},\"autotypenumbers\":\"strict\",\"coloraxis\":{\"colorbar\":{\"outlinewidth\":0,\"ticks\":\"\"}},\"colorscale\":{\"diverging\":[[0,\"#8e0152\"],[0.1,\"#c51b7d\"],[0.2,\"#de77ae\"],[0.3,\"#f1b6da\"],[0.4,\"#fde0ef\"],[0.5,\"#f7f7f7\"],[0.6,\"#e6f5d0\"],[0.7,\"#b8e186\"],[0.8,\"#7fbc41\"],[0.9,\"#4d9221\"],[1,\"#276419\"]],\"sequential\":[[0.0,\"#0d0887\"],[0.1111111111111111,\"#46039f\"],[0.2222222222222222,\"#7201a8\"],[0.3333333333333333,\"#9c179e\"],[0.4444444444444444,\"#bd3786\"],[0.5555555555555556,\"#d8576b\"],[0.6666666666666666,\"#ed7953\"],[0.7777777777777778,\"#fb9f3a\"],[0.8888888888888888,\"#fdca26\"],[1.0,\"#f0f921\"]],\"sequentialminus\":[[0.0,\"#0d0887\"],[0.1111111111111111,\"#46039f\"],[0.2222222222222222,\"#7201a8\"],[0.3333333333333333,\"#9c179e\"],[0.4444444444444444,\"#bd3786\"],[0.5555555555555556,\"#d8576b\"],[0.6666666666666666,\"#ed7953\"],[0.7777777777777778,\"#fb9f3a\"],[0.8888888888888888,\"#fdca26\"],[1.0,\"#f0f921\"]]},\"colorway\":[\"#636efa\",\"#EF553B\",\"#00cc96\",\"#ab63fa\",\"#FFA15A\",\"#19d3f3\",\"#FF6692\",\"#B6E880\",\"#FF97FF\",\"#FECB52\"],\"font\":{\"color\":\"#2a3f5f\"},\"geo\":{\"bgcolor\":\"white\",\"lakecolor\":\"white\",\"landcolor\":\"#E5ECF6\",\"showlakes\":true,\"showland\":true,\"subunitcolor\":\"white\"},\"hoverlabel\":{\"align\":\"left\"},\"hovermode\":\"closest\",\"mapbox\":{\"style\":\"light\"},\"paper_bgcolor\":\"white\",\"plot_bgcolor\":\"#E5ECF6\",\"polar\":{\"angularaxis\":{\"gridcolor\":\"white\",\"linecolor\":\"white\",\"ticks\":\"\"},\"bgcolor\":\"#E5ECF6\",\"radialaxis\":{\"gridcolor\":\"white\",\"linecolor\":\"white\",\"ticks\":\"\"}},\"scene\":{\"xaxis\":{\"backgroundcolor\":\"#E5ECF6\",\"gridcolor\":\"white\",\"gridwidth\":2,\"linecolor\":\"white\",\"showbackground\":true,\"ticks\":\"\",\"zerolinecolor\":\"white\"},\"yaxis\":{\"backgroundcolor\":\"#E5ECF6\",\"gridcolor\":\"white\",\"gridwidth\":2,\"linecolor\":\"white\",\"showbackground\":true,\"ticks\":\"\",\"zerolinecolor\":\"white\"},\"zaxis\":{\"backgroundcolor\":\"#E5ECF6\",\"gridcolor\":\"white\",\"gridwidth\":2,\"linecolor\":\"white\",\"showbackground\":true,\"ticks\":\"\",\"zerolinecolor\":\"white\"}},\"shapedefaults\":{\"line\":{\"color\":\"#2a3f5f\"}},\"ternary\":{\"aaxis\":{\"gridcolor\":\"white\",\"linecolor\":\"white\",\"ticks\":\"\"},\"baxis\":{\"gridcolor\":\"white\",\"linecolor\":\"white\",\"ticks\":\"\"},\"bgcolor\":\"#E5ECF6\",\"caxis\":{\"gridcolor\":\"white\",\"linecolor\":\"white\",\"ticks\":\"\"}},\"title\":{\"x\":0.05},\"xaxis\":{\"automargin\":true,\"gridcolor\":\"white\",\"linecolor\":\"white\",\"ticks\":\"\",\"title\":{\"standoff\":15},\"zerolinecolor\":\"white\",\"zerolinewidth\":2},\"yaxis\":{\"automargin\":true,\"gridcolor\":\"white\",\"linecolor\":\"white\",\"ticks\":\"\",\"title\":{\"standoff\":15},\"zerolinecolor\":\"white\",\"zerolinewidth\":2}}},\"xaxis\":{\"anchor\":\"y\",\"domain\":[0.0,0.45],\"title\":{\"text\":\"The Number of parameterized gate\"}},\"yaxis\":{\"anchor\":\"x\",\"domain\":[0.625,1.0],\"title\":{\"text\":\"Time (Sec)\"}},\"xaxis2\":{\"anchor\":\"y2\",\"domain\":[0.55,1.0]},\"yaxis2\":{\"anchor\":\"x2\",\"domain\":[0.625,1.0]},\"xaxis3\":{\"anchor\":\"y3\",\"domain\":[0.0,0.45]},\"yaxis3\":{\"anchor\":\"x3\",\"domain\":[0.0,0.375]},\"xaxis4\":{\"anchor\":\"y4\",\"domain\":[0.55,1.0]},\"yaxis4\":{\"anchor\":\"x4\",\"domain\":[0.0,0.375]},\"annotations\":[{\"font\":{\"size\":16},\"showarrow\":false,\"text\":\"Max-Cut\",\"x\":0.225,\"xanchor\":\"center\",\"xref\":\"paper\",\"y\":1.0,\"yanchor\":\"bottom\",\"yref\":\"paper\"},{\"font\":{\"size\":16},\"showarrow\":false,\"text\":\"Clique\",\"x\":0.775,\"xanchor\":\"center\",\"xref\":\"paper\",\"y\":1.0,\"yanchor\":\"bottom\",\"yref\":\"paper\"},{\"font\":{\"size\":16},\"showarrow\":false,\"text\":\"Binary Linear Programming\",\"x\":0.225,\"xanchor\":\"center\",\"xref\":\"paper\",\"y\":0.375,\"yanchor\":\"bottom\",\"yref\":\"paper\"},{\"font\":{\"size\":16},\"showarrow\":false,\"text\":\"Knapsack\",\"x\":0.775,\"xanchor\":\"center\",\"xref\":\"paper\",\"y\":0.375,\"yanchor\":\"bottom\",\"yref\":\"paper\"}],\"title\":{\"text\":\"Time Comparison  <br><sup>Fixed epochs (10 epochs).</sup>\"},\"autosize\":false,\"width\":1000,\"height\":700},                        {\"responsive\": true}                    ).then(function(){\n",
              "                            \n",
              "var gd = document.getElementById('8bdf0b2f-e28c-4703-85fb-a3458df4aa93');\n",
              "var x = new MutationObserver(function (mutations, observer) {{\n",
              "        var display = window.getComputedStyle(gd).display;\n",
              "        if (!display || display === 'none') {{\n",
              "            console.log([gd, 'removed!']);\n",
              "            Plotly.purge(gd);\n",
              "            observer.disconnect();\n",
              "        }}\n",
              "}});\n",
              "\n",
              "// Listen for the removal of the full notebook cells\n",
              "var notebookContainer = gd.closest('#notebook-container');\n",
              "if (notebookContainer) {{\n",
              "    x.observe(notebookContainer, {childList: true});\n",
              "}}\n",
              "\n",
              "// Listen for the clearing of the current output cell\n",
              "var outputEl = gd.closest('.output');\n",
              "if (outputEl) {{\n",
              "    x.observe(outputEl, {childList: true});\n",
              "}}\n",
              "\n",
              "                        })                };                            </script>        </div>\n",
              "</body>\n",
              "</html>"
            ]
          },
          "metadata": {}
        }
      ],
      "source": [
        "#@title Time Comparison\n",
        "#@markdown Fixed epochs (10 epochs).\n",
        "\n",
        "from plotly.subplots import make_subplots\n",
        "\n",
        "x = [step*3 for step in steps]\n",
        "row = 2\n",
        "col = 2\n",
        "fig = make_subplots(rows=row, cols=col, subplot_titles=(\"Max-Cut\",\"Clique\",\"Binary Linear Programming\", \"Knapsack\"))\n",
        "show = True\n",
        "for i in range(row):\n",
        "  for j in range(col):\n",
        "    problemn = i*col+j\n",
        "    if problemn>0:\n",
        "      show = False\n",
        "    dv_cv = pd.DataFrame({\"#Param Gates\":x, \"Time\":cvpstc[problemn]})\n",
        "    dv_fd_cv = pd.DataFrame({\"#Param Gates\":x, \"Time\":cvfdtc[problemn]})\n",
        "\n",
        "    fig.add_trace(go.Scatter(x=dv_cv[\"#Param Gates\"], y=dv_cv[\"Time\"], name=\"Continuous Parameter Shift\", line = dict(width=2), line_color='red', showlegend = show), row=i+1, col=j+1)\n",
        "    fig.add_trace(go.Scatter(x=dv_fd_cv[\"#Param Gates\"], y=dv_fd_cv[\"Time\"], mode=\"lines\", name=\"Continuous Finite Difference\", line = dict(width=2), line_color='green', showlegend = show), row=i+1, col=j+1)\n",
        "\n",
        "fig.update_layout(title=\"Time Comparison  <br><sup>Fixed epochs (10 epochs).</sup>\",\n",
        "                  xaxis_title=\"The Number of parameterized gate\",\n",
        "                  yaxis_title=\"Time (Sec)\", autosize=False,\n",
        "                  width=1000,\n",
        "                  height=700)\n",
        "plotly.offline.plot(fig, filename='time_fixepoch_cv.html')\n",
        "fig.show()"
      ]
    },
    {
      "cell_type": "code",
      "source": [
        "with open('sampling_pstc_cv.pk', 'wb') as fp:\n",
        "    pickle.dump(cvpstc, fp)\n",
        "with open('sampling_fdtc_cv.pk', 'wb') as fp:\n",
        "    pickle.dump(cvfdtc, fp)"
      ],
      "metadata": {
        "id": "7gU_v0V7kSMA"
      },
      "execution_count": 65,
      "outputs": []
    },
    {
      "cell_type": "code",
      "execution_count": 66,
      "metadata": {
        "cellView": "form",
        "id": "jNpZ5_r9uG5r",
        "colab": {
          "base_uri": "https://localhost:8080/",
          "height": 983
        },
        "outputId": "9be4a3b6-5b6a-4250-dd9c-da51856f8a41"
      },
      "outputs": [
        {
          "output_type": "stream",
          "name": "stdout",
          "text": [
            "\u001b[1mMax-Cut\u001b[0m\n"
          ]
        },
        {
          "output_type": "display_data",
          "data": {
            "text/plain": [
              "                             #Param Gates 6              #Param Gates 12  \\\n",
              "                                       Loss Time(second)            Loss   \n",
              "Continuous Parameter Shift        -2.23e+00        18.55       -2.75e+00   \n",
              "Continuous Finite Difference      -6.24e-01        18.26       -2.19e+00   \n",
              "\n",
              "                                          #Param Gates 18               \\\n",
              "                             Time(second)            Loss Time(second)   \n",
              "Continuous Parameter Shift          48.07       -2.59e+00        93.48   \n",
              "Continuous Finite Difference        48.36       -2.84e-02        89.27   \n",
              "\n",
              "                             #Param Gates 24              #Param Gates 30  \\\n",
              "                                        Loss Time(second)            Loss   \n",
              "Continuous Parameter Shift         -2.29e+00       140.31       -2.48e+00   \n",
              "Continuous Finite Difference       -1.34e+00       141.68        1.69e-02   \n",
              "\n",
              "                                           \n",
              "                             Time(second)  \n",
              "Continuous Parameter Shift         205.06  \n",
              "Continuous Finite Difference       207.29  "
            ],
            "text/html": [
              "\n",
              "  <div id=\"df-a8cbd708-3b22-404a-bb83-283e3efc19a1\">\n",
              "    <div class=\"colab-df-container\">\n",
              "      <div>\n",
              "<style scoped>\n",
              "    .dataframe tbody tr th:only-of-type {\n",
              "        vertical-align: middle;\n",
              "    }\n",
              "\n",
              "    .dataframe tbody tr th {\n",
              "        vertical-align: top;\n",
              "    }\n",
              "\n",
              "    .dataframe thead tr th {\n",
              "        text-align: left;\n",
              "    }\n",
              "</style>\n",
              "<table border=\"1\" class=\"dataframe\">\n",
              "  <thead>\n",
              "    <tr>\n",
              "      <th></th>\n",
              "      <th colspan=\"2\" halign=\"left\">#Param Gates 6</th>\n",
              "      <th colspan=\"2\" halign=\"left\">#Param Gates 12</th>\n",
              "      <th colspan=\"2\" halign=\"left\">#Param Gates 18</th>\n",
              "      <th colspan=\"2\" halign=\"left\">#Param Gates 24</th>\n",
              "      <th colspan=\"2\" halign=\"left\">#Param Gates 30</th>\n",
              "    </tr>\n",
              "    <tr>\n",
              "      <th></th>\n",
              "      <th>Loss</th>\n",
              "      <th>Time(second)</th>\n",
              "      <th>Loss</th>\n",
              "      <th>Time(second)</th>\n",
              "      <th>Loss</th>\n",
              "      <th>Time(second)</th>\n",
              "      <th>Loss</th>\n",
              "      <th>Time(second)</th>\n",
              "      <th>Loss</th>\n",
              "      <th>Time(second)</th>\n",
              "    </tr>\n",
              "  </thead>\n",
              "  <tbody>\n",
              "    <tr>\n",
              "      <th>Continuous Parameter Shift</th>\n",
              "      <td>-2.23e+00</td>\n",
              "      <td>18.55</td>\n",
              "      <td>-2.75e+00</td>\n",
              "      <td>48.07</td>\n",
              "      <td>-2.59e+00</td>\n",
              "      <td>93.48</td>\n",
              "      <td>-2.29e+00</td>\n",
              "      <td>140.31</td>\n",
              "      <td>-2.48e+00</td>\n",
              "      <td>205.06</td>\n",
              "    </tr>\n",
              "    <tr>\n",
              "      <th>Continuous Finite Difference</th>\n",
              "      <td>-6.24e-01</td>\n",
              "      <td>18.26</td>\n",
              "      <td>-2.19e+00</td>\n",
              "      <td>48.36</td>\n",
              "      <td>-2.84e-02</td>\n",
              "      <td>89.27</td>\n",
              "      <td>-1.34e+00</td>\n",
              "      <td>141.68</td>\n",
              "      <td>1.69e-02</td>\n",
              "      <td>207.29</td>\n",
              "    </tr>\n",
              "  </tbody>\n",
              "</table>\n",
              "</div>\n",
              "      <button class=\"colab-df-convert\" onclick=\"convertToInteractive('df-a8cbd708-3b22-404a-bb83-283e3efc19a1')\"\n",
              "              title=\"Convert this dataframe to an interactive table.\"\n",
              "              style=\"display:none;\">\n",
              "        \n",
              "  <svg xmlns=\"http://www.w3.org/2000/svg\" height=\"24px\"viewBox=\"0 0 24 24\"\n",
              "       width=\"24px\">\n",
              "    <path d=\"M0 0h24v24H0V0z\" fill=\"none\"/>\n",
              "    <path d=\"M18.56 5.44l.94 2.06.94-2.06 2.06-.94-2.06-.94-.94-2.06-.94 2.06-2.06.94zm-11 1L8.5 8.5l.94-2.06 2.06-.94-2.06-.94L8.5 2.5l-.94 2.06-2.06.94zm10 10l.94 2.06.94-2.06 2.06-.94-2.06-.94-.94-2.06-.94 2.06-2.06.94z\"/><path d=\"M17.41 7.96l-1.37-1.37c-.4-.4-.92-.59-1.43-.59-.52 0-1.04.2-1.43.59L10.3 9.45l-7.72 7.72c-.78.78-.78 2.05 0 2.83L4 21.41c.39.39.9.59 1.41.59.51 0 1.02-.2 1.41-.59l7.78-7.78 2.81-2.81c.8-.78.8-2.07 0-2.86zM5.41 20L4 18.59l7.72-7.72 1.47 1.35L5.41 20z\"/>\n",
              "  </svg>\n",
              "      </button>\n",
              "      \n",
              "  <style>\n",
              "    .colab-df-container {\n",
              "      display:flex;\n",
              "      flex-wrap:wrap;\n",
              "      gap: 12px;\n",
              "    }\n",
              "\n",
              "    .colab-df-convert {\n",
              "      background-color: #E8F0FE;\n",
              "      border: none;\n",
              "      border-radius: 50%;\n",
              "      cursor: pointer;\n",
              "      display: none;\n",
              "      fill: #1967D2;\n",
              "      height: 32px;\n",
              "      padding: 0 0 0 0;\n",
              "      width: 32px;\n",
              "    }\n",
              "\n",
              "    .colab-df-convert:hover {\n",
              "      background-color: #E2EBFA;\n",
              "      box-shadow: 0px 1px 2px rgba(60, 64, 67, 0.3), 0px 1px 3px 1px rgba(60, 64, 67, 0.15);\n",
              "      fill: #174EA6;\n",
              "    }\n",
              "\n",
              "    [theme=dark] .colab-df-convert {\n",
              "      background-color: #3B4455;\n",
              "      fill: #D2E3FC;\n",
              "    }\n",
              "\n",
              "    [theme=dark] .colab-df-convert:hover {\n",
              "      background-color: #434B5C;\n",
              "      box-shadow: 0px 1px 3px 1px rgba(0, 0, 0, 0.15);\n",
              "      filter: drop-shadow(0px 1px 2px rgba(0, 0, 0, 0.3));\n",
              "      fill: #FFFFFF;\n",
              "    }\n",
              "  </style>\n",
              "\n",
              "      <script>\n",
              "        const buttonEl =\n",
              "          document.querySelector('#df-a8cbd708-3b22-404a-bb83-283e3efc19a1 button.colab-df-convert');\n",
              "        buttonEl.style.display =\n",
              "          google.colab.kernel.accessAllowed ? 'block' : 'none';\n",
              "\n",
              "        async function convertToInteractive(key) {\n",
              "          const element = document.querySelector('#df-a8cbd708-3b22-404a-bb83-283e3efc19a1');\n",
              "          const dataTable =\n",
              "            await google.colab.kernel.invokeFunction('convertToInteractive',\n",
              "                                                     [key], {});\n",
              "          if (!dataTable) return;\n",
              "\n",
              "          const docLinkHtml = 'Like what you see? Visit the ' +\n",
              "            '<a target=\"_blank\" href=https://colab.research.google.com/notebooks/data_table.ipynb>data table notebook</a>'\n",
              "            + ' to learn more about interactive tables.';\n",
              "          element.innerHTML = '';\n",
              "          dataTable['output_type'] = 'display_data';\n",
              "          await google.colab.output.renderOutput(dataTable, element);\n",
              "          const docLink = document.createElement('div');\n",
              "          docLink.innerHTML = docLinkHtml;\n",
              "          element.appendChild(docLink);\n",
              "        }\n",
              "      </script>\n",
              "    </div>\n",
              "  </div>\n",
              "  "
            ]
          },
          "metadata": {}
        },
        {
          "output_type": "stream",
          "name": "stdout",
          "text": [
            "\n",
            "\n",
            "\n",
            "\n",
            "\u001b[1mClique\u001b[0m\n"
          ]
        },
        {
          "output_type": "display_data",
          "data": {
            "text/plain": [
              "                             #Param Gates 6              #Param Gates 12  \\\n",
              "                                       Loss Time(second)            Loss   \n",
              "Continuous Parameter Shift        -1.53e+00        18.31       -1.91e+00   \n",
              "Continuous Finite Difference      -3.63e-01        18.28       -1.49e+00   \n",
              "\n",
              "                                          #Param Gates 18               \\\n",
              "                             Time(second)            Loss Time(second)   \n",
              "Continuous Parameter Shift          49.01       -1.69e+00        89.01   \n",
              "Continuous Finite Difference        49.29       -1.99e-02        90.74   \n",
              "\n",
              "                             #Param Gates 24              #Param Gates 30  \\\n",
              "                                        Loss Time(second)            Loss   \n",
              "Continuous Parameter Shift         -1.48e+00       141.55       -1.54e+00   \n",
              "Continuous Finite Difference       -7.52e-01       142.44       -2.07e-03   \n",
              "\n",
              "                                           \n",
              "                             Time(second)  \n",
              "Continuous Parameter Shift         205.38  \n",
              "Continuous Finite Difference       206.27  "
            ],
            "text/html": [
              "\n",
              "  <div id=\"df-b0e5ad7a-9771-4fff-9b7f-7fc5f3dfa236\">\n",
              "    <div class=\"colab-df-container\">\n",
              "      <div>\n",
              "<style scoped>\n",
              "    .dataframe tbody tr th:only-of-type {\n",
              "        vertical-align: middle;\n",
              "    }\n",
              "\n",
              "    .dataframe tbody tr th {\n",
              "        vertical-align: top;\n",
              "    }\n",
              "\n",
              "    .dataframe thead tr th {\n",
              "        text-align: left;\n",
              "    }\n",
              "</style>\n",
              "<table border=\"1\" class=\"dataframe\">\n",
              "  <thead>\n",
              "    <tr>\n",
              "      <th></th>\n",
              "      <th colspan=\"2\" halign=\"left\">#Param Gates 6</th>\n",
              "      <th colspan=\"2\" halign=\"left\">#Param Gates 12</th>\n",
              "      <th colspan=\"2\" halign=\"left\">#Param Gates 18</th>\n",
              "      <th colspan=\"2\" halign=\"left\">#Param Gates 24</th>\n",
              "      <th colspan=\"2\" halign=\"left\">#Param Gates 30</th>\n",
              "    </tr>\n",
              "    <tr>\n",
              "      <th></th>\n",
              "      <th>Loss</th>\n",
              "      <th>Time(second)</th>\n",
              "      <th>Loss</th>\n",
              "      <th>Time(second)</th>\n",
              "      <th>Loss</th>\n",
              "      <th>Time(second)</th>\n",
              "      <th>Loss</th>\n",
              "      <th>Time(second)</th>\n",
              "      <th>Loss</th>\n",
              "      <th>Time(second)</th>\n",
              "    </tr>\n",
              "  </thead>\n",
              "  <tbody>\n",
              "    <tr>\n",
              "      <th>Continuous Parameter Shift</th>\n",
              "      <td>-1.53e+00</td>\n",
              "      <td>18.31</td>\n",
              "      <td>-1.91e+00</td>\n",
              "      <td>49.01</td>\n",
              "      <td>-1.69e+00</td>\n",
              "      <td>89.01</td>\n",
              "      <td>-1.48e+00</td>\n",
              "      <td>141.55</td>\n",
              "      <td>-1.54e+00</td>\n",
              "      <td>205.38</td>\n",
              "    </tr>\n",
              "    <tr>\n",
              "      <th>Continuous Finite Difference</th>\n",
              "      <td>-3.63e-01</td>\n",
              "      <td>18.28</td>\n",
              "      <td>-1.49e+00</td>\n",
              "      <td>49.29</td>\n",
              "      <td>-1.99e-02</td>\n",
              "      <td>90.74</td>\n",
              "      <td>-7.52e-01</td>\n",
              "      <td>142.44</td>\n",
              "      <td>-2.07e-03</td>\n",
              "      <td>206.27</td>\n",
              "    </tr>\n",
              "  </tbody>\n",
              "</table>\n",
              "</div>\n",
              "      <button class=\"colab-df-convert\" onclick=\"convertToInteractive('df-b0e5ad7a-9771-4fff-9b7f-7fc5f3dfa236')\"\n",
              "              title=\"Convert this dataframe to an interactive table.\"\n",
              "              style=\"display:none;\">\n",
              "        \n",
              "  <svg xmlns=\"http://www.w3.org/2000/svg\" height=\"24px\"viewBox=\"0 0 24 24\"\n",
              "       width=\"24px\">\n",
              "    <path d=\"M0 0h24v24H0V0z\" fill=\"none\"/>\n",
              "    <path d=\"M18.56 5.44l.94 2.06.94-2.06 2.06-.94-2.06-.94-.94-2.06-.94 2.06-2.06.94zm-11 1L8.5 8.5l.94-2.06 2.06-.94-2.06-.94L8.5 2.5l-.94 2.06-2.06.94zm10 10l.94 2.06.94-2.06 2.06-.94-2.06-.94-.94-2.06-.94 2.06-2.06.94z\"/><path d=\"M17.41 7.96l-1.37-1.37c-.4-.4-.92-.59-1.43-.59-.52 0-1.04.2-1.43.59L10.3 9.45l-7.72 7.72c-.78.78-.78 2.05 0 2.83L4 21.41c.39.39.9.59 1.41.59.51 0 1.02-.2 1.41-.59l7.78-7.78 2.81-2.81c.8-.78.8-2.07 0-2.86zM5.41 20L4 18.59l7.72-7.72 1.47 1.35L5.41 20z\"/>\n",
              "  </svg>\n",
              "      </button>\n",
              "      \n",
              "  <style>\n",
              "    .colab-df-container {\n",
              "      display:flex;\n",
              "      flex-wrap:wrap;\n",
              "      gap: 12px;\n",
              "    }\n",
              "\n",
              "    .colab-df-convert {\n",
              "      background-color: #E8F0FE;\n",
              "      border: none;\n",
              "      border-radius: 50%;\n",
              "      cursor: pointer;\n",
              "      display: none;\n",
              "      fill: #1967D2;\n",
              "      height: 32px;\n",
              "      padding: 0 0 0 0;\n",
              "      width: 32px;\n",
              "    }\n",
              "\n",
              "    .colab-df-convert:hover {\n",
              "      background-color: #E2EBFA;\n",
              "      box-shadow: 0px 1px 2px rgba(60, 64, 67, 0.3), 0px 1px 3px 1px rgba(60, 64, 67, 0.15);\n",
              "      fill: #174EA6;\n",
              "    }\n",
              "\n",
              "    [theme=dark] .colab-df-convert {\n",
              "      background-color: #3B4455;\n",
              "      fill: #D2E3FC;\n",
              "    }\n",
              "\n",
              "    [theme=dark] .colab-df-convert:hover {\n",
              "      background-color: #434B5C;\n",
              "      box-shadow: 0px 1px 3px 1px rgba(0, 0, 0, 0.15);\n",
              "      filter: drop-shadow(0px 1px 2px rgba(0, 0, 0, 0.3));\n",
              "      fill: #FFFFFF;\n",
              "    }\n",
              "  </style>\n",
              "\n",
              "      <script>\n",
              "        const buttonEl =\n",
              "          document.querySelector('#df-b0e5ad7a-9771-4fff-9b7f-7fc5f3dfa236 button.colab-df-convert');\n",
              "        buttonEl.style.display =\n",
              "          google.colab.kernel.accessAllowed ? 'block' : 'none';\n",
              "\n",
              "        async function convertToInteractive(key) {\n",
              "          const element = document.querySelector('#df-b0e5ad7a-9771-4fff-9b7f-7fc5f3dfa236');\n",
              "          const dataTable =\n",
              "            await google.colab.kernel.invokeFunction('convertToInteractive',\n",
              "                                                     [key], {});\n",
              "          if (!dataTable) return;\n",
              "\n",
              "          const docLinkHtml = 'Like what you see? Visit the ' +\n",
              "            '<a target=\"_blank\" href=https://colab.research.google.com/notebooks/data_table.ipynb>data table notebook</a>'\n",
              "            + ' to learn more about interactive tables.';\n",
              "          element.innerHTML = '';\n",
              "          dataTable['output_type'] = 'display_data';\n",
              "          await google.colab.output.renderOutput(dataTable, element);\n",
              "          const docLink = document.createElement('div');\n",
              "          docLink.innerHTML = docLinkHtml;\n",
              "          element.appendChild(docLink);\n",
              "        }\n",
              "      </script>\n",
              "    </div>\n",
              "  </div>\n",
              "  "
            ]
          },
          "metadata": {}
        },
        {
          "output_type": "stream",
          "name": "stdout",
          "text": [
            "\n",
            "\n",
            "\n",
            "\n",
            "\u001b[1mBinary Linear Programming\u001b[0m\n"
          ]
        },
        {
          "output_type": "display_data",
          "data": {
            "text/plain": [
              "                             #Param Gates 6              #Param Gates 12  \\\n",
              "                                       Loss Time(second)            Loss   \n",
              "Continuous Parameter Shift         5.92e+05        18.45        5.33e+05   \n",
              "Continuous Finite Difference       8.08e+05        20.05        6.13e+05   \n",
              "\n",
              "                                          #Param Gates 18               \\\n",
              "                             Time(second)            Loss Time(second)   \n",
              "Continuous Parameter Shift          48.22        5.39e+05        89.10   \n",
              "Continuous Finite Difference        49.00        9.87e+05        90.33   \n",
              "\n",
              "                             #Param Gates 24              #Param Gates 30  \\\n",
              "                                        Loss Time(second)            Loss   \n",
              "Continuous Parameter Shift          5.68e+05       142.53        5.49e+05   \n",
              "Continuous Finite Difference        7.05e+05       142.75        9.85e+05   \n",
              "\n",
              "                                           \n",
              "                             Time(second)  \n",
              "Continuous Parameter Shift         205.57  \n",
              "Continuous Finite Difference       205.98  "
            ],
            "text/html": [
              "\n",
              "  <div id=\"df-98da5825-7d20-4079-91b2-571e3ae09a13\">\n",
              "    <div class=\"colab-df-container\">\n",
              "      <div>\n",
              "<style scoped>\n",
              "    .dataframe tbody tr th:only-of-type {\n",
              "        vertical-align: middle;\n",
              "    }\n",
              "\n",
              "    .dataframe tbody tr th {\n",
              "        vertical-align: top;\n",
              "    }\n",
              "\n",
              "    .dataframe thead tr th {\n",
              "        text-align: left;\n",
              "    }\n",
              "</style>\n",
              "<table border=\"1\" class=\"dataframe\">\n",
              "  <thead>\n",
              "    <tr>\n",
              "      <th></th>\n",
              "      <th colspan=\"2\" halign=\"left\">#Param Gates 6</th>\n",
              "      <th colspan=\"2\" halign=\"left\">#Param Gates 12</th>\n",
              "      <th colspan=\"2\" halign=\"left\">#Param Gates 18</th>\n",
              "      <th colspan=\"2\" halign=\"left\">#Param Gates 24</th>\n",
              "      <th colspan=\"2\" halign=\"left\">#Param Gates 30</th>\n",
              "    </tr>\n",
              "    <tr>\n",
              "      <th></th>\n",
              "      <th>Loss</th>\n",
              "      <th>Time(second)</th>\n",
              "      <th>Loss</th>\n",
              "      <th>Time(second)</th>\n",
              "      <th>Loss</th>\n",
              "      <th>Time(second)</th>\n",
              "      <th>Loss</th>\n",
              "      <th>Time(second)</th>\n",
              "      <th>Loss</th>\n",
              "      <th>Time(second)</th>\n",
              "    </tr>\n",
              "  </thead>\n",
              "  <tbody>\n",
              "    <tr>\n",
              "      <th>Continuous Parameter Shift</th>\n",
              "      <td>5.92e+05</td>\n",
              "      <td>18.45</td>\n",
              "      <td>5.33e+05</td>\n",
              "      <td>48.22</td>\n",
              "      <td>5.39e+05</td>\n",
              "      <td>89.10</td>\n",
              "      <td>5.68e+05</td>\n",
              "      <td>142.53</td>\n",
              "      <td>5.49e+05</td>\n",
              "      <td>205.57</td>\n",
              "    </tr>\n",
              "    <tr>\n",
              "      <th>Continuous Finite Difference</th>\n",
              "      <td>8.08e+05</td>\n",
              "      <td>20.05</td>\n",
              "      <td>6.13e+05</td>\n",
              "      <td>49.00</td>\n",
              "      <td>9.87e+05</td>\n",
              "      <td>90.33</td>\n",
              "      <td>7.05e+05</td>\n",
              "      <td>142.75</td>\n",
              "      <td>9.85e+05</td>\n",
              "      <td>205.98</td>\n",
              "    </tr>\n",
              "  </tbody>\n",
              "</table>\n",
              "</div>\n",
              "      <button class=\"colab-df-convert\" onclick=\"convertToInteractive('df-98da5825-7d20-4079-91b2-571e3ae09a13')\"\n",
              "              title=\"Convert this dataframe to an interactive table.\"\n",
              "              style=\"display:none;\">\n",
              "        \n",
              "  <svg xmlns=\"http://www.w3.org/2000/svg\" height=\"24px\"viewBox=\"0 0 24 24\"\n",
              "       width=\"24px\">\n",
              "    <path d=\"M0 0h24v24H0V0z\" fill=\"none\"/>\n",
              "    <path d=\"M18.56 5.44l.94 2.06.94-2.06 2.06-.94-2.06-.94-.94-2.06-.94 2.06-2.06.94zm-11 1L8.5 8.5l.94-2.06 2.06-.94-2.06-.94L8.5 2.5l-.94 2.06-2.06.94zm10 10l.94 2.06.94-2.06 2.06-.94-2.06-.94-.94-2.06-.94 2.06-2.06.94z\"/><path d=\"M17.41 7.96l-1.37-1.37c-.4-.4-.92-.59-1.43-.59-.52 0-1.04.2-1.43.59L10.3 9.45l-7.72 7.72c-.78.78-.78 2.05 0 2.83L4 21.41c.39.39.9.59 1.41.59.51 0 1.02-.2 1.41-.59l7.78-7.78 2.81-2.81c.8-.78.8-2.07 0-2.86zM5.41 20L4 18.59l7.72-7.72 1.47 1.35L5.41 20z\"/>\n",
              "  </svg>\n",
              "      </button>\n",
              "      \n",
              "  <style>\n",
              "    .colab-df-container {\n",
              "      display:flex;\n",
              "      flex-wrap:wrap;\n",
              "      gap: 12px;\n",
              "    }\n",
              "\n",
              "    .colab-df-convert {\n",
              "      background-color: #E8F0FE;\n",
              "      border: none;\n",
              "      border-radius: 50%;\n",
              "      cursor: pointer;\n",
              "      display: none;\n",
              "      fill: #1967D2;\n",
              "      height: 32px;\n",
              "      padding: 0 0 0 0;\n",
              "      width: 32px;\n",
              "    }\n",
              "\n",
              "    .colab-df-convert:hover {\n",
              "      background-color: #E2EBFA;\n",
              "      box-shadow: 0px 1px 2px rgba(60, 64, 67, 0.3), 0px 1px 3px 1px rgba(60, 64, 67, 0.15);\n",
              "      fill: #174EA6;\n",
              "    }\n",
              "\n",
              "    [theme=dark] .colab-df-convert {\n",
              "      background-color: #3B4455;\n",
              "      fill: #D2E3FC;\n",
              "    }\n",
              "\n",
              "    [theme=dark] .colab-df-convert:hover {\n",
              "      background-color: #434B5C;\n",
              "      box-shadow: 0px 1px 3px 1px rgba(0, 0, 0, 0.15);\n",
              "      filter: drop-shadow(0px 1px 2px rgba(0, 0, 0, 0.3));\n",
              "      fill: #FFFFFF;\n",
              "    }\n",
              "  </style>\n",
              "\n",
              "      <script>\n",
              "        const buttonEl =\n",
              "          document.querySelector('#df-98da5825-7d20-4079-91b2-571e3ae09a13 button.colab-df-convert');\n",
              "        buttonEl.style.display =\n",
              "          google.colab.kernel.accessAllowed ? 'block' : 'none';\n",
              "\n",
              "        async function convertToInteractive(key) {\n",
              "          const element = document.querySelector('#df-98da5825-7d20-4079-91b2-571e3ae09a13');\n",
              "          const dataTable =\n",
              "            await google.colab.kernel.invokeFunction('convertToInteractive',\n",
              "                                                     [key], {});\n",
              "          if (!dataTable) return;\n",
              "\n",
              "          const docLinkHtml = 'Like what you see? Visit the ' +\n",
              "            '<a target=\"_blank\" href=https://colab.research.google.com/notebooks/data_table.ipynb>data table notebook</a>'\n",
              "            + ' to learn more about interactive tables.';\n",
              "          element.innerHTML = '';\n",
              "          dataTable['output_type'] = 'display_data';\n",
              "          await google.colab.output.renderOutput(dataTable, element);\n",
              "          const docLink = document.createElement('div');\n",
              "          docLink.innerHTML = docLinkHtml;\n",
              "          element.appendChild(docLink);\n",
              "        }\n",
              "      </script>\n",
              "    </div>\n",
              "  </div>\n",
              "  "
            ]
          },
          "metadata": {}
        },
        {
          "output_type": "stream",
          "name": "stdout",
          "text": [
            "\n",
            "\n",
            "\n",
            "\n",
            "\u001b[1mKnapsack\u001b[0m\n"
          ]
        },
        {
          "output_type": "display_data",
          "data": {
            "text/plain": [
              "                             #Param Gates 6              #Param Gates 12  \\\n",
              "                                       Loss Time(second)            Loss   \n",
              "Continuous Parameter Shift         2.78e+00        18.32       -1.17e+00   \n",
              "Continuous Finite Difference       2.10e+01        19.28        3.23e+00   \n",
              "\n",
              "                                          #Param Gates 18               \\\n",
              "                             Time(second)            Loss Time(second)   \n",
              "Continuous Parameter Shift          48.17       -5.98e-02        88.73   \n",
              "Continuous Finite Difference        49.33        3.48e+01        91.62   \n",
              "\n",
              "                             #Param Gates 24              #Param Gates 30  \\\n",
              "                                        Loss Time(second)            Loss   \n",
              "Continuous Parameter Shift          5.83e-01       141.10       -4.52e-01   \n",
              "Continuous Finite Difference        1.17e+01       144.75        2.97e+01   \n",
              "\n",
              "                                           \n",
              "                             Time(second)  \n",
              "Continuous Parameter Shift         205.52  \n",
              "Continuous Finite Difference       215.03  "
            ],
            "text/html": [
              "\n",
              "  <div id=\"df-644d6300-eae2-4439-86ae-2eb3a30d3145\">\n",
              "    <div class=\"colab-df-container\">\n",
              "      <div>\n",
              "<style scoped>\n",
              "    .dataframe tbody tr th:only-of-type {\n",
              "        vertical-align: middle;\n",
              "    }\n",
              "\n",
              "    .dataframe tbody tr th {\n",
              "        vertical-align: top;\n",
              "    }\n",
              "\n",
              "    .dataframe thead tr th {\n",
              "        text-align: left;\n",
              "    }\n",
              "</style>\n",
              "<table border=\"1\" class=\"dataframe\">\n",
              "  <thead>\n",
              "    <tr>\n",
              "      <th></th>\n",
              "      <th colspan=\"2\" halign=\"left\">#Param Gates 6</th>\n",
              "      <th colspan=\"2\" halign=\"left\">#Param Gates 12</th>\n",
              "      <th colspan=\"2\" halign=\"left\">#Param Gates 18</th>\n",
              "      <th colspan=\"2\" halign=\"left\">#Param Gates 24</th>\n",
              "      <th colspan=\"2\" halign=\"left\">#Param Gates 30</th>\n",
              "    </tr>\n",
              "    <tr>\n",
              "      <th></th>\n",
              "      <th>Loss</th>\n",
              "      <th>Time(second)</th>\n",
              "      <th>Loss</th>\n",
              "      <th>Time(second)</th>\n",
              "      <th>Loss</th>\n",
              "      <th>Time(second)</th>\n",
              "      <th>Loss</th>\n",
              "      <th>Time(second)</th>\n",
              "      <th>Loss</th>\n",
              "      <th>Time(second)</th>\n",
              "    </tr>\n",
              "  </thead>\n",
              "  <tbody>\n",
              "    <tr>\n",
              "      <th>Continuous Parameter Shift</th>\n",
              "      <td>2.78e+00</td>\n",
              "      <td>18.32</td>\n",
              "      <td>-1.17e+00</td>\n",
              "      <td>48.17</td>\n",
              "      <td>-5.98e-02</td>\n",
              "      <td>88.73</td>\n",
              "      <td>5.83e-01</td>\n",
              "      <td>141.10</td>\n",
              "      <td>-4.52e-01</td>\n",
              "      <td>205.52</td>\n",
              "    </tr>\n",
              "    <tr>\n",
              "      <th>Continuous Finite Difference</th>\n",
              "      <td>2.10e+01</td>\n",
              "      <td>19.28</td>\n",
              "      <td>3.23e+00</td>\n",
              "      <td>49.33</td>\n",
              "      <td>3.48e+01</td>\n",
              "      <td>91.62</td>\n",
              "      <td>1.17e+01</td>\n",
              "      <td>144.75</td>\n",
              "      <td>2.97e+01</td>\n",
              "      <td>215.03</td>\n",
              "    </tr>\n",
              "  </tbody>\n",
              "</table>\n",
              "</div>\n",
              "      <button class=\"colab-df-convert\" onclick=\"convertToInteractive('df-644d6300-eae2-4439-86ae-2eb3a30d3145')\"\n",
              "              title=\"Convert this dataframe to an interactive table.\"\n",
              "              style=\"display:none;\">\n",
              "        \n",
              "  <svg xmlns=\"http://www.w3.org/2000/svg\" height=\"24px\"viewBox=\"0 0 24 24\"\n",
              "       width=\"24px\">\n",
              "    <path d=\"M0 0h24v24H0V0z\" fill=\"none\"/>\n",
              "    <path d=\"M18.56 5.44l.94 2.06.94-2.06 2.06-.94-2.06-.94-.94-2.06-.94 2.06-2.06.94zm-11 1L8.5 8.5l.94-2.06 2.06-.94-2.06-.94L8.5 2.5l-.94 2.06-2.06.94zm10 10l.94 2.06.94-2.06 2.06-.94-2.06-.94-.94-2.06-.94 2.06-2.06.94z\"/><path d=\"M17.41 7.96l-1.37-1.37c-.4-.4-.92-.59-1.43-.59-.52 0-1.04.2-1.43.59L10.3 9.45l-7.72 7.72c-.78.78-.78 2.05 0 2.83L4 21.41c.39.39.9.59 1.41.59.51 0 1.02-.2 1.41-.59l7.78-7.78 2.81-2.81c.8-.78.8-2.07 0-2.86zM5.41 20L4 18.59l7.72-7.72 1.47 1.35L5.41 20z\"/>\n",
              "  </svg>\n",
              "      </button>\n",
              "      \n",
              "  <style>\n",
              "    .colab-df-container {\n",
              "      display:flex;\n",
              "      flex-wrap:wrap;\n",
              "      gap: 12px;\n",
              "    }\n",
              "\n",
              "    .colab-df-convert {\n",
              "      background-color: #E8F0FE;\n",
              "      border: none;\n",
              "      border-radius: 50%;\n",
              "      cursor: pointer;\n",
              "      display: none;\n",
              "      fill: #1967D2;\n",
              "      height: 32px;\n",
              "      padding: 0 0 0 0;\n",
              "      width: 32px;\n",
              "    }\n",
              "\n",
              "    .colab-df-convert:hover {\n",
              "      background-color: #E2EBFA;\n",
              "      box-shadow: 0px 1px 2px rgba(60, 64, 67, 0.3), 0px 1px 3px 1px rgba(60, 64, 67, 0.15);\n",
              "      fill: #174EA6;\n",
              "    }\n",
              "\n",
              "    [theme=dark] .colab-df-convert {\n",
              "      background-color: #3B4455;\n",
              "      fill: #D2E3FC;\n",
              "    }\n",
              "\n",
              "    [theme=dark] .colab-df-convert:hover {\n",
              "      background-color: #434B5C;\n",
              "      box-shadow: 0px 1px 3px 1px rgba(0, 0, 0, 0.15);\n",
              "      filter: drop-shadow(0px 1px 2px rgba(0, 0, 0, 0.3));\n",
              "      fill: #FFFFFF;\n",
              "    }\n",
              "  </style>\n",
              "\n",
              "      <script>\n",
              "        const buttonEl =\n",
              "          document.querySelector('#df-644d6300-eae2-4439-86ae-2eb3a30d3145 button.colab-df-convert');\n",
              "        buttonEl.style.display =\n",
              "          google.colab.kernel.accessAllowed ? 'block' : 'none';\n",
              "\n",
              "        async function convertToInteractive(key) {\n",
              "          const element = document.querySelector('#df-644d6300-eae2-4439-86ae-2eb3a30d3145');\n",
              "          const dataTable =\n",
              "            await google.colab.kernel.invokeFunction('convertToInteractive',\n",
              "                                                     [key], {});\n",
              "          if (!dataTable) return;\n",
              "\n",
              "          const docLinkHtml = 'Like what you see? Visit the ' +\n",
              "            '<a target=\"_blank\" href=https://colab.research.google.com/notebooks/data_table.ipynb>data table notebook</a>'\n",
              "            + ' to learn more about interactive tables.';\n",
              "          element.innerHTML = '';\n",
              "          dataTable['output_type'] = 'display_data';\n",
              "          await google.colab.output.renderOutput(dataTable, element);\n",
              "          const docLink = document.createElement('div');\n",
              "          docLink.innerHTML = docLinkHtml;\n",
              "          element.appendChild(docLink);\n",
              "        }\n",
              "      </script>\n",
              "    </div>\n",
              "  </div>\n",
              "  "
            ]
          },
          "metadata": {}
        },
        {
          "output_type": "stream",
          "name": "stdout",
          "text": [
            "\n",
            "\n",
            "\n",
            "\n"
          ]
        }
      ],
      "source": [
        "#@title Comparison Table\n",
        "rows = ['Continuous Parameter Shift',\n",
        "          'Continuous Finite Difference',\n",
        "          ]\n",
        "columns_g = [\"#Param Gates 6\", \"#Param Gates 12\", \"#Param Gates 18\", \"#Param Gates 24\", \"#Param Gates 30\"]\n",
        "iters = [0, 1, 2, 3, 4]\n",
        "columns_s = [\"Loss\", \"Time(second)\"]\n",
        "problems = [\"Max-Cut\", \"Clique\", \"Binary Linear Programming\", \"Knapsack\"]\n",
        "for problemn in range(len(problems)):\n",
        "  df = pd.DataFrame([[cvpslc[problemn][iters[0]], cvpstc[problemn][iters[0]], cvpslc[problemn][iters[1]],cvpstc[problemn][iters[1]],cvpslc[problemn][iters[2]],cvpstc[problemn][iters[2]],cvpslc[problemn][iters[3]],cvpstc[problemn][iters[3]],cvpslc[problemn][iters[4]],cvpstc[problemn][iters[4]]],\n",
        "                    [cvfdlc[problemn][iters[0]], cvfdtc[problemn][iters[0]], cvfdlc[problemn][iters[1]], cvfdtc[problemn][iters[1]], cvfdlc[problemn][iters[2]], cvfdtc[problemn][iters[2]], cvfdlc[problemn][iters[3]], cvfdtc[problemn][iters[3]], cvfdlc[problemn][iters[4]], cvfdtc[problemn][iters[4]]],\n",
        "                    ])\n",
        "\n",
        "  col_ix = pd.MultiIndex.from_product([columns_g, columns_s]) \n",
        "  row_ix = pd.MultiIndex.from_product([rows])\n",
        "  df = df.set_index(row_ix)\n",
        "  df.columns = col_ix\n",
        "  df[( '#Param Gates 6','Loss')] = df[( '#Param Gates 6','Loss')].map('{:.2e}'.format)\n",
        "  df[( '#Param Gates 12','Loss')] = df[( '#Param Gates 12','Loss')].map('{:.2e}'.format)\n",
        "  df[( '#Param Gates 18','Loss')] = df[( '#Param Gates 18','Loss')].map('{:.2e}'.format)\n",
        "  df[( '#Param Gates 24','Loss')] = df[( '#Param Gates 24','Loss')].map('{:.2e}'.format)\n",
        "  df[( '#Param Gates 30','Loss')] = df[( '#Param Gates 30','Loss')].map('{:.2e}'.format)\n",
        "  # df[( '#Param Gates 500','Loss')] = df[( '#Param Gates 500','Loss')].map('{:.2e}'.format)\n",
        "  print(f\"\\033[1m{problems[problemn]}\\033[0m\")\n",
        "  display(df.round(2))\n",
        "  print(\"\\n\\n\\n\")"
      ]
    }
  ],
  "metadata": {
    "colab": {
      "collapsed_sections": [
        "Qd3EUUWU4RZH"
      ],
      "name": "sampling_continuous_gradient_comparison.ipynb",
      "provenance": [],
      "include_colab_link": true
    },
    "kernelspec": {
      "display_name": "Python 3",
      "name": "python3"
    },
    "language_info": {
      "name": "python"
    },
    "widgets": {
      "application/vnd.jupyter.widget-state+json": {
        "b8ff6d0e16e4459dbdd8f08cc7aff2f3": {
          "model_module": "@jupyter-widgets/controls",
          "model_name": "HBoxModel",
          "model_module_version": "1.5.0",
          "state": {
            "_dom_classes": [],
            "_model_module": "@jupyter-widgets/controls",
            "_model_module_version": "1.5.0",
            "_model_name": "HBoxModel",
            "_view_count": null,
            "_view_module": "@jupyter-widgets/controls",
            "_view_module_version": "1.5.0",
            "_view_name": "HBoxView",
            "box_style": "",
            "children": [
              "IPY_MODEL_6e07d53d7e66495c8ca5ef51451ea82a",
              "IPY_MODEL_d1302acb5a264637b68a9922457418f3",
              "IPY_MODEL_2424d8300403474082ea98c296bc3785"
            ],
            "layout": "IPY_MODEL_7fd193240c15494e9693192de413319a"
          }
        },
        "6e07d53d7e66495c8ca5ef51451ea82a": {
          "model_module": "@jupyter-widgets/controls",
          "model_name": "HTMLModel",
          "model_module_version": "1.5.0",
          "state": {
            "_dom_classes": [],
            "_model_module": "@jupyter-widgets/controls",
            "_model_module_version": "1.5.0",
            "_model_name": "HTMLModel",
            "_view_count": null,
            "_view_module": "@jupyter-widgets/controls",
            "_view_module_version": "1.5.0",
            "_view_name": "HTMLView",
            "description": "",
            "description_tooltip": null,
            "layout": "IPY_MODEL_88ce8f40c62645b088fbe1650905a87b",
            "placeholder": "​",
            "style": "IPY_MODEL_398eacf1a3884843af18f7dd9f64017e",
            "value": "100%"
          }
        },
        "d1302acb5a264637b68a9922457418f3": {
          "model_module": "@jupyter-widgets/controls",
          "model_name": "FloatProgressModel",
          "model_module_version": "1.5.0",
          "state": {
            "_dom_classes": [],
            "_model_module": "@jupyter-widgets/controls",
            "_model_module_version": "1.5.0",
            "_model_name": "FloatProgressModel",
            "_view_count": null,
            "_view_module": "@jupyter-widgets/controls",
            "_view_module_version": "1.5.0",
            "_view_name": "ProgressView",
            "bar_style": "success",
            "description": "",
            "description_tooltip": null,
            "layout": "IPY_MODEL_37d97d64ac704370b2c71a0cb8077352",
            "max": 50,
            "min": 0,
            "orientation": "horizontal",
            "style": "IPY_MODEL_921b0f66d0a042288b82b9e6fe2783e8",
            "value": 50
          }
        },
        "2424d8300403474082ea98c296bc3785": {
          "model_module": "@jupyter-widgets/controls",
          "model_name": "HTMLModel",
          "model_module_version": "1.5.0",
          "state": {
            "_dom_classes": [],
            "_model_module": "@jupyter-widgets/controls",
            "_model_module_version": "1.5.0",
            "_model_name": "HTMLModel",
            "_view_count": null,
            "_view_module": "@jupyter-widgets/controls",
            "_view_module_version": "1.5.0",
            "_view_name": "HTMLView",
            "description": "",
            "description_tooltip": null,
            "layout": "IPY_MODEL_32fef0a3fe774b3098ea8c86e2092407",
            "placeholder": "​",
            "style": "IPY_MODEL_0317ccd332224c228f794f0b12bb312f",
            "value": " 50/50 [00:25&lt;00:00,  1.98it/s]"
          }
        },
        "7fd193240c15494e9693192de413319a": {
          "model_module": "@jupyter-widgets/base",
          "model_name": "LayoutModel",
          "model_module_version": "1.2.0",
          "state": {
            "_model_module": "@jupyter-widgets/base",
            "_model_module_version": "1.2.0",
            "_model_name": "LayoutModel",
            "_view_count": null,
            "_view_module": "@jupyter-widgets/base",
            "_view_module_version": "1.2.0",
            "_view_name": "LayoutView",
            "align_content": null,
            "align_items": null,
            "align_self": null,
            "border": null,
            "bottom": null,
            "display": null,
            "flex": null,
            "flex_flow": null,
            "grid_area": null,
            "grid_auto_columns": null,
            "grid_auto_flow": null,
            "grid_auto_rows": null,
            "grid_column": null,
            "grid_gap": null,
            "grid_row": null,
            "grid_template_areas": null,
            "grid_template_columns": null,
            "grid_template_rows": null,
            "height": null,
            "justify_content": null,
            "justify_items": null,
            "left": null,
            "margin": null,
            "max_height": null,
            "max_width": null,
            "min_height": null,
            "min_width": null,
            "object_fit": null,
            "object_position": null,
            "order": null,
            "overflow": null,
            "overflow_x": null,
            "overflow_y": null,
            "padding": null,
            "right": null,
            "top": null,
            "visibility": null,
            "width": null
          }
        },
        "88ce8f40c62645b088fbe1650905a87b": {
          "model_module": "@jupyter-widgets/base",
          "model_name": "LayoutModel",
          "model_module_version": "1.2.0",
          "state": {
            "_model_module": "@jupyter-widgets/base",
            "_model_module_version": "1.2.0",
            "_model_name": "LayoutModel",
            "_view_count": null,
            "_view_module": "@jupyter-widgets/base",
            "_view_module_version": "1.2.0",
            "_view_name": "LayoutView",
            "align_content": null,
            "align_items": null,
            "align_self": null,
            "border": null,
            "bottom": null,
            "display": null,
            "flex": null,
            "flex_flow": null,
            "grid_area": null,
            "grid_auto_columns": null,
            "grid_auto_flow": null,
            "grid_auto_rows": null,
            "grid_column": null,
            "grid_gap": null,
            "grid_row": null,
            "grid_template_areas": null,
            "grid_template_columns": null,
            "grid_template_rows": null,
            "height": null,
            "justify_content": null,
            "justify_items": null,
            "left": null,
            "margin": null,
            "max_height": null,
            "max_width": null,
            "min_height": null,
            "min_width": null,
            "object_fit": null,
            "object_position": null,
            "order": null,
            "overflow": null,
            "overflow_x": null,
            "overflow_y": null,
            "padding": null,
            "right": null,
            "top": null,
            "visibility": null,
            "width": null
          }
        },
        "398eacf1a3884843af18f7dd9f64017e": {
          "model_module": "@jupyter-widgets/controls",
          "model_name": "DescriptionStyleModel",
          "model_module_version": "1.5.0",
          "state": {
            "_model_module": "@jupyter-widgets/controls",
            "_model_module_version": "1.5.0",
            "_model_name": "DescriptionStyleModel",
            "_view_count": null,
            "_view_module": "@jupyter-widgets/base",
            "_view_module_version": "1.2.0",
            "_view_name": "StyleView",
            "description_width": ""
          }
        },
        "37d97d64ac704370b2c71a0cb8077352": {
          "model_module": "@jupyter-widgets/base",
          "model_name": "LayoutModel",
          "model_module_version": "1.2.0",
          "state": {
            "_model_module": "@jupyter-widgets/base",
            "_model_module_version": "1.2.0",
            "_model_name": "LayoutModel",
            "_view_count": null,
            "_view_module": "@jupyter-widgets/base",
            "_view_module_version": "1.2.0",
            "_view_name": "LayoutView",
            "align_content": null,
            "align_items": null,
            "align_self": null,
            "border": null,
            "bottom": null,
            "display": null,
            "flex": null,
            "flex_flow": null,
            "grid_area": null,
            "grid_auto_columns": null,
            "grid_auto_flow": null,
            "grid_auto_rows": null,
            "grid_column": null,
            "grid_gap": null,
            "grid_row": null,
            "grid_template_areas": null,
            "grid_template_columns": null,
            "grid_template_rows": null,
            "height": null,
            "justify_content": null,
            "justify_items": null,
            "left": null,
            "margin": null,
            "max_height": null,
            "max_width": null,
            "min_height": null,
            "min_width": null,
            "object_fit": null,
            "object_position": null,
            "order": null,
            "overflow": null,
            "overflow_x": null,
            "overflow_y": null,
            "padding": null,
            "right": null,
            "top": null,
            "visibility": null,
            "width": null
          }
        },
        "921b0f66d0a042288b82b9e6fe2783e8": {
          "model_module": "@jupyter-widgets/controls",
          "model_name": "ProgressStyleModel",
          "model_module_version": "1.5.0",
          "state": {
            "_model_module": "@jupyter-widgets/controls",
            "_model_module_version": "1.5.0",
            "_model_name": "ProgressStyleModel",
            "_view_count": null,
            "_view_module": "@jupyter-widgets/base",
            "_view_module_version": "1.2.0",
            "_view_name": "StyleView",
            "bar_color": null,
            "description_width": ""
          }
        },
        "32fef0a3fe774b3098ea8c86e2092407": {
          "model_module": "@jupyter-widgets/base",
          "model_name": "LayoutModel",
          "model_module_version": "1.2.0",
          "state": {
            "_model_module": "@jupyter-widgets/base",
            "_model_module_version": "1.2.0",
            "_model_name": "LayoutModel",
            "_view_count": null,
            "_view_module": "@jupyter-widgets/base",
            "_view_module_version": "1.2.0",
            "_view_name": "LayoutView",
            "align_content": null,
            "align_items": null,
            "align_self": null,
            "border": null,
            "bottom": null,
            "display": null,
            "flex": null,
            "flex_flow": null,
            "grid_area": null,
            "grid_auto_columns": null,
            "grid_auto_flow": null,
            "grid_auto_rows": null,
            "grid_column": null,
            "grid_gap": null,
            "grid_row": null,
            "grid_template_areas": null,
            "grid_template_columns": null,
            "grid_template_rows": null,
            "height": null,
            "justify_content": null,
            "justify_items": null,
            "left": null,
            "margin": null,
            "max_height": null,
            "max_width": null,
            "min_height": null,
            "min_width": null,
            "object_fit": null,
            "object_position": null,
            "order": null,
            "overflow": null,
            "overflow_x": null,
            "overflow_y": null,
            "padding": null,
            "right": null,
            "top": null,
            "visibility": null,
            "width": null
          }
        },
        "0317ccd332224c228f794f0b12bb312f": {
          "model_module": "@jupyter-widgets/controls",
          "model_name": "DescriptionStyleModel",
          "model_module_version": "1.5.0",
          "state": {
            "_model_module": "@jupyter-widgets/controls",
            "_model_module_version": "1.5.0",
            "_model_name": "DescriptionStyleModel",
            "_view_count": null,
            "_view_module": "@jupyter-widgets/base",
            "_view_module_version": "1.2.0",
            "_view_name": "StyleView",
            "description_width": ""
          }
        }
      }
    }
  },
  "nbformat": 4,
  "nbformat_minor": 0
}