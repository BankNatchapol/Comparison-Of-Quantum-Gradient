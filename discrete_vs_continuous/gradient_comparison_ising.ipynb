{
  "nbformat": 4,
  "nbformat_minor": 0,
  "metadata": {
    "colab": {
      "name": "gradient_comparison_ising.ipynb",
      "provenance": [],
      "collapsed_sections": [
        "__wEBgF9oflu",
        "Qd3EUUWU4RZH"
      ],
      "toc_visible": true,
      "include_colab_link": true
    },
    "kernelspec": {
      "name": "python3",
      "display_name": "Python 3"
    },
    "language_info": {
      "name": "python"
    },
    "accelerator": "GPU",
    "widgets": {
      "application/vnd.jupyter.widget-state+json": {
        "c0b2832d46764806ab830ccdab846bec": {
          "model_module": "@jupyter-widgets/controls",
          "model_name": "HBoxModel",
          "model_module_version": "1.5.0",
          "state": {
            "_dom_classes": [],
            "_model_module": "@jupyter-widgets/controls",
            "_model_module_version": "1.5.0",
            "_model_name": "HBoxModel",
            "_view_count": null,
            "_view_module": "@jupyter-widgets/controls",
            "_view_module_version": "1.5.0",
            "_view_name": "HBoxView",
            "box_style": "",
            "children": [
              "IPY_MODEL_b93825b458344eebb147ae379d6a9211",
              "IPY_MODEL_32fe9afd611a40ae94f38848a786c2a8",
              "IPY_MODEL_3a83a0b014c94153bed9ce8c0502db77"
            ],
            "layout": "IPY_MODEL_75cc2d701b224984b316415eb2c2176b"
          }
        },
        "b93825b458344eebb147ae379d6a9211": {
          "model_module": "@jupyter-widgets/controls",
          "model_name": "HTMLModel",
          "model_module_version": "1.5.0",
          "state": {
            "_dom_classes": [],
            "_model_module": "@jupyter-widgets/controls",
            "_model_module_version": "1.5.0",
            "_model_name": "HTMLModel",
            "_view_count": null,
            "_view_module": "@jupyter-widgets/controls",
            "_view_module_version": "1.5.0",
            "_view_name": "HTMLView",
            "description": "",
            "description_tooltip": null,
            "layout": "IPY_MODEL_8cd974efb940465b86815a72f4a4bcfc",
            "placeholder": "​",
            "style": "IPY_MODEL_5664a9631a0f4521adbcdb1be9b0d10c",
            "value": "100%"
          }
        },
        "32fe9afd611a40ae94f38848a786c2a8": {
          "model_module": "@jupyter-widgets/controls",
          "model_name": "FloatProgressModel",
          "model_module_version": "1.5.0",
          "state": {
            "_dom_classes": [],
            "_model_module": "@jupyter-widgets/controls",
            "_model_module_version": "1.5.0",
            "_model_name": "FloatProgressModel",
            "_view_count": null,
            "_view_module": "@jupyter-widgets/controls",
            "_view_module_version": "1.5.0",
            "_view_name": "ProgressView",
            "bar_style": "success",
            "description": "",
            "description_tooltip": null,
            "layout": "IPY_MODEL_b42fa912c7f14e128620ca8933aea8cf",
            "max": 50,
            "min": 0,
            "orientation": "horizontal",
            "style": "IPY_MODEL_2bf263c2734d40ca9d6fea04b95102de",
            "value": 50
          }
        },
        "3a83a0b014c94153bed9ce8c0502db77": {
          "model_module": "@jupyter-widgets/controls",
          "model_name": "HTMLModel",
          "model_module_version": "1.5.0",
          "state": {
            "_dom_classes": [],
            "_model_module": "@jupyter-widgets/controls",
            "_model_module_version": "1.5.0",
            "_model_name": "HTMLModel",
            "_view_count": null,
            "_view_module": "@jupyter-widgets/controls",
            "_view_module_version": "1.5.0",
            "_view_name": "HTMLView",
            "description": "",
            "description_tooltip": null,
            "layout": "IPY_MODEL_72448a604d394dddae98d4b74f0f52c8",
            "placeholder": "​",
            "style": "IPY_MODEL_8e88211ea4ec4362a500ac42062c8d35",
            "value": " 50/50 [00:20&lt;00:00,  2.48it/s]"
          }
        },
        "75cc2d701b224984b316415eb2c2176b": {
          "model_module": "@jupyter-widgets/base",
          "model_name": "LayoutModel",
          "model_module_version": "1.2.0",
          "state": {
            "_model_module": "@jupyter-widgets/base",
            "_model_module_version": "1.2.0",
            "_model_name": "LayoutModel",
            "_view_count": null,
            "_view_module": "@jupyter-widgets/base",
            "_view_module_version": "1.2.0",
            "_view_name": "LayoutView",
            "align_content": null,
            "align_items": null,
            "align_self": null,
            "border": null,
            "bottom": null,
            "display": null,
            "flex": null,
            "flex_flow": null,
            "grid_area": null,
            "grid_auto_columns": null,
            "grid_auto_flow": null,
            "grid_auto_rows": null,
            "grid_column": null,
            "grid_gap": null,
            "grid_row": null,
            "grid_template_areas": null,
            "grid_template_columns": null,
            "grid_template_rows": null,
            "height": null,
            "justify_content": null,
            "justify_items": null,
            "left": null,
            "margin": null,
            "max_height": null,
            "max_width": null,
            "min_height": null,
            "min_width": null,
            "object_fit": null,
            "object_position": null,
            "order": null,
            "overflow": null,
            "overflow_x": null,
            "overflow_y": null,
            "padding": null,
            "right": null,
            "top": null,
            "visibility": null,
            "width": null
          }
        },
        "8cd974efb940465b86815a72f4a4bcfc": {
          "model_module": "@jupyter-widgets/base",
          "model_name": "LayoutModel",
          "model_module_version": "1.2.0",
          "state": {
            "_model_module": "@jupyter-widgets/base",
            "_model_module_version": "1.2.0",
            "_model_name": "LayoutModel",
            "_view_count": null,
            "_view_module": "@jupyter-widgets/base",
            "_view_module_version": "1.2.0",
            "_view_name": "LayoutView",
            "align_content": null,
            "align_items": null,
            "align_self": null,
            "border": null,
            "bottom": null,
            "display": null,
            "flex": null,
            "flex_flow": null,
            "grid_area": null,
            "grid_auto_columns": null,
            "grid_auto_flow": null,
            "grid_auto_rows": null,
            "grid_column": null,
            "grid_gap": null,
            "grid_row": null,
            "grid_template_areas": null,
            "grid_template_columns": null,
            "grid_template_rows": null,
            "height": null,
            "justify_content": null,
            "justify_items": null,
            "left": null,
            "margin": null,
            "max_height": null,
            "max_width": null,
            "min_height": null,
            "min_width": null,
            "object_fit": null,
            "object_position": null,
            "order": null,
            "overflow": null,
            "overflow_x": null,
            "overflow_y": null,
            "padding": null,
            "right": null,
            "top": null,
            "visibility": null,
            "width": null
          }
        },
        "5664a9631a0f4521adbcdb1be9b0d10c": {
          "model_module": "@jupyter-widgets/controls",
          "model_name": "DescriptionStyleModel",
          "model_module_version": "1.5.0",
          "state": {
            "_model_module": "@jupyter-widgets/controls",
            "_model_module_version": "1.5.0",
            "_model_name": "DescriptionStyleModel",
            "_view_count": null,
            "_view_module": "@jupyter-widgets/base",
            "_view_module_version": "1.2.0",
            "_view_name": "StyleView",
            "description_width": ""
          }
        },
        "b42fa912c7f14e128620ca8933aea8cf": {
          "model_module": "@jupyter-widgets/base",
          "model_name": "LayoutModel",
          "model_module_version": "1.2.0",
          "state": {
            "_model_module": "@jupyter-widgets/base",
            "_model_module_version": "1.2.0",
            "_model_name": "LayoutModel",
            "_view_count": null,
            "_view_module": "@jupyter-widgets/base",
            "_view_module_version": "1.2.0",
            "_view_name": "LayoutView",
            "align_content": null,
            "align_items": null,
            "align_self": null,
            "border": null,
            "bottom": null,
            "display": null,
            "flex": null,
            "flex_flow": null,
            "grid_area": null,
            "grid_auto_columns": null,
            "grid_auto_flow": null,
            "grid_auto_rows": null,
            "grid_column": null,
            "grid_gap": null,
            "grid_row": null,
            "grid_template_areas": null,
            "grid_template_columns": null,
            "grid_template_rows": null,
            "height": null,
            "justify_content": null,
            "justify_items": null,
            "left": null,
            "margin": null,
            "max_height": null,
            "max_width": null,
            "min_height": null,
            "min_width": null,
            "object_fit": null,
            "object_position": null,
            "order": null,
            "overflow": null,
            "overflow_x": null,
            "overflow_y": null,
            "padding": null,
            "right": null,
            "top": null,
            "visibility": null,
            "width": null
          }
        },
        "2bf263c2734d40ca9d6fea04b95102de": {
          "model_module": "@jupyter-widgets/controls",
          "model_name": "ProgressStyleModel",
          "model_module_version": "1.5.0",
          "state": {
            "_model_module": "@jupyter-widgets/controls",
            "_model_module_version": "1.5.0",
            "_model_name": "ProgressStyleModel",
            "_view_count": null,
            "_view_module": "@jupyter-widgets/base",
            "_view_module_version": "1.2.0",
            "_view_name": "StyleView",
            "bar_color": null,
            "description_width": ""
          }
        },
        "72448a604d394dddae98d4b74f0f52c8": {
          "model_module": "@jupyter-widgets/base",
          "model_name": "LayoutModel",
          "model_module_version": "1.2.0",
          "state": {
            "_model_module": "@jupyter-widgets/base",
            "_model_module_version": "1.2.0",
            "_model_name": "LayoutModel",
            "_view_count": null,
            "_view_module": "@jupyter-widgets/base",
            "_view_module_version": "1.2.0",
            "_view_name": "LayoutView",
            "align_content": null,
            "align_items": null,
            "align_self": null,
            "border": null,
            "bottom": null,
            "display": null,
            "flex": null,
            "flex_flow": null,
            "grid_area": null,
            "grid_auto_columns": null,
            "grid_auto_flow": null,
            "grid_auto_rows": null,
            "grid_column": null,
            "grid_gap": null,
            "grid_row": null,
            "grid_template_areas": null,
            "grid_template_columns": null,
            "grid_template_rows": null,
            "height": null,
            "justify_content": null,
            "justify_items": null,
            "left": null,
            "margin": null,
            "max_height": null,
            "max_width": null,
            "min_height": null,
            "min_width": null,
            "object_fit": null,
            "object_position": null,
            "order": null,
            "overflow": null,
            "overflow_x": null,
            "overflow_y": null,
            "padding": null,
            "right": null,
            "top": null,
            "visibility": null,
            "width": null
          }
        },
        "8e88211ea4ec4362a500ac42062c8d35": {
          "model_module": "@jupyter-widgets/controls",
          "model_name": "DescriptionStyleModel",
          "model_module_version": "1.5.0",
          "state": {
            "_model_module": "@jupyter-widgets/controls",
            "_model_module_version": "1.5.0",
            "_model_name": "DescriptionStyleModel",
            "_view_count": null,
            "_view_module": "@jupyter-widgets/base",
            "_view_module_version": "1.2.0",
            "_view_name": "StyleView",
            "description_width": ""
          }
        }
      }
    }
  },
  "cells": [
    {
      "cell_type": "markdown",
      "metadata": {
        "id": "view-in-github",
        "colab_type": "text"
      },
      "source": [
        "<a href=\"https://colab.research.google.com/github/BankNatchapol/Comparison-of-Quantum-Gradient/blob/main/discrete_vs_continuous/gradient_comparison_ising.ipynb\" target=\"_parent\"><img src=\"https://colab.research.google.com/assets/colab-badge.svg\" alt=\"Open In Colab\"/></a>"
      ]
    },
    {
      "cell_type": "code",
      "metadata": {
        "id": "SBqFCoePuw6c"
      },
      "source": [
        "!pip install pennylane-sf\n",
        "!pip install qiskit\n",
        "!pip install qiskit_optimization"
      ],
      "execution_count": null,
      "outputs": []
    },
    {
      "cell_type": "code",
      "metadata": {
        "id": "F5tj-C8xu5W_"
      },
      "source": [
        "import pennylane as qml\n",
        "from pennylane import numpy as np\n",
        "\n",
        "import pandas as pd\n",
        "import time \n",
        "\n",
        "import networkx as nx\n",
        "import matplotlib.pyplot as plt\n",
        "\n",
        "import plotly.graph_objects as go\n",
        "import plotly.express as px\n",
        "\n",
        "from docplex.mp.model import Model\n",
        "from qiskit.opflow import Z, X, Y, I\n",
        "from qiskit_optimization.translators import from_docplex_mp\n",
        "from qiskit_optimization.applications import Maxcut, Clique, Knapsack\n",
        "from qiskit_optimization.converters import QuadraticProgramToQubo"
      ],
      "execution_count": 125,
      "outputs": []
    },
    {
      "cell_type": "code",
      "source": [
        "#@title Auxilary Function\n",
        "def Had(wires):\n",
        "  qml.RY(np.pi/2, wires=wires)\n",
        "  qml.RX(np.pi, wires=wires)\n",
        "\n",
        "\n",
        "def fully_connected_layer(num_wires):\n",
        "  if num_wires>1:\n",
        "    for wire in range(num_wires-1):\n",
        "      qml.CNOT(wires=[wire, wire+1])\n",
        "    qml.CNOT(wires=[wire+1, 0])\n",
        "\n",
        "def str2gate(gate):\n",
        "  if gate == 'H':\n",
        "    return Had\n",
        "  elif gate == 'X':\n",
        "    return qml.PauliX\n",
        "  elif gate == 'Y':\n",
        "    return qml.PauliY\n",
        "  elif gate == 'Z':\n",
        "    return qml.PauliZ\n",
        "  elif gate == 'RX':\n",
        "    return qml.RX\n",
        "  elif gate == 'RY':\n",
        "    return qml.RY\n",
        "  elif gate == 'RZ':\n",
        "    return qml.RZ\n",
        "  else:\n",
        "    assert 0, \"Gate not support.\"\n",
        "\n",
        "def controlStr(gate):\n",
        "  if gate == 'RX':\n",
        "    return qml.CNOT\n",
        "  elif gate == 'RY':\n",
        "    return qml.CY\n",
        "  elif gate == 'RZ':\n",
        "    return qml.CZ\n",
        "  else:\n",
        "    assert 0, \"Gate not support.\"\n",
        "    \n",
        "def hamiltonian_from_qiskit(sum_op):\n",
        "\n",
        "\t'''\n",
        "\tThis function takes a qiskit.PauliSumOp as input and\n",
        "\tgives back a Pennylane Hamiltonian as output\n",
        "\n",
        "\tsum_op  = qiskit.PauliSumOp\n",
        "\n",
        "\t'''\n",
        "\top      = sum_op.primitive.to_list()\n",
        "\tn_terms = len(op)\n",
        "\tcoeffs  = []\n",
        "\tpaulis  = []\n",
        "\n",
        "\tfor i in range(n_terms):\n",
        "\t\tpaulis.append(qml.grouping.string_to_pauli_word(\"\".join(list(reversed(op[i][0])))))\n",
        "\t\tcoeffs.append(op[i][1].real)\n",
        "\n",
        "\tp_op = qml.Hamiltonian(coeffs,paulis)\n",
        "\n",
        "\treturn p_op\n",
        "\n",
        "def hamiltonian_from_qiskit_lcu(sum_op):\n",
        "\n",
        "  '''\n",
        "  This function takes a qiskit.PauliSumOp as input and\n",
        "  gives back a Pennylane Hamiltonian as output\n",
        "\n",
        "  sum_op  = qiskit.PauliSumOp\n",
        "\n",
        "  '''\n",
        "  op      = sum_op.primitive.to_list()\n",
        "  n_terms = len(op)\n",
        "  coeffs  = []\n",
        "  paulis  = []\n",
        "\n",
        "  for i in range(n_terms):\n",
        "    if op[i][0]==\"I\":\n",
        "      paulis.append(qml.grouping.string_to_pauli_word(\"\".join(list(reversed(op[i][0])))))\n",
        "    else:\n",
        "      paulis.append(qml.grouping.string_to_pauli_word(\"\".join(list(reversed(op[i][0])))+\"Z\"))\n",
        "    coeffs.append(op[i][1].real)\n",
        "\n",
        "  p_op = qml.Hamiltonian(coeffs,paulis)\n",
        "\n",
        "  return p_op\n",
        "\n",
        "def get_adjacency_matrix(elist):\n",
        "  adjacency_matrix = np.zeros([num_wires, num_wires])\n",
        "\n",
        "  for i,j in elist:\n",
        "    adjacency_matrix[i, j] = 1.0\n",
        "    adjacency_matrix[j, i] = 1.0\n",
        "\n",
        "  return adjacency_matrix\n",
        "\n",
        "def draw_graph(elist, colors):\n",
        "  G = nx.Graph()\n",
        "  #G.add_nodes_from(np.arange(0, n, 1))\n",
        "  # tuple is (i,j,weight) where (i,j) is the edge\n",
        "  G.add_edges_from(elist)\n",
        "  pos = nx.spring_layout(G)\n",
        "  default_axes = plt.axes(frameon=True)\n",
        "  nx.draw_networkx(G, node_color=colors, node_size=600, alpha=0.8, ax=default_axes, pos=pos)\n",
        "\n",
        "def int_to_binary(value, size):\n",
        "  \"\"\"Function that converts an integer to a binary string.\"\"\"\n",
        "\n",
        "  bi = \"{0:b}\".format(value)\n",
        "  if len(bi)<size:\n",
        "    bi = \"0\"*(size-len(bi)) + bi\n",
        "  return bi"
      ],
      "metadata": {
        "id": "kVHFu8tDuDm2",
        "cellView": "form"
      },
      "execution_count": 126,
      "outputs": []
    },
    {
      "cell_type": "markdown",
      "metadata": {
        "id": "cmviO3033yq1"
      },
      "source": [
        "# **Gradient methods**"
      ]
    },
    {
      "cell_type": "markdown",
      "metadata": {
        "id": "Omm4_hajoZQU"
      },
      "source": [
        "## Discrete-variable"
      ]
    },
    {
      "cell_type": "markdown",
      "metadata": {
        "id": "Ed08lXjuorX0"
      },
      "source": [
        "### Parameter shift rule"
      ]
    },
    {
      "cell_type": "code",
      "metadata": {
        "id": "10x49co1u-fB"
      },
      "source": [
        "def parameter_shift_term(qnode, params, i, j):\n",
        "\n",
        "    shifted = params.copy()\n",
        "    \n",
        "    shifted[i, j] += np.pi/2\n",
        "    forward = qnode(shifted)  # forward evaluation\n",
        "\n",
        "    shifted[i, j] -= np.pi\n",
        "    backward = qnode(shifted) # backward evaluation\n",
        "\n",
        "    return 0.5 * (forward - backward)\n",
        "\n",
        "def parameter_shift(qnode, params):\n",
        "    gradients = np.zeros_like((params))\n",
        "    for i in range(len(gradients)):\n",
        "        for j in range(len(gradients[0])):\n",
        "            gradients[i, j] += parameter_shift_term(qnode, params, i, j)\n",
        "\n",
        "    return gradients"
      ],
      "execution_count": 127,
      "outputs": []
    },
    {
      "cell_type": "markdown",
      "metadata": {
        "id": "N7TtarxRot62"
      },
      "source": [
        "### Finite difference"
      ]
    },
    {
      "cell_type": "code",
      "metadata": {
        "id": "8AIs9cEARFdc"
      },
      "source": [
        "def finite_term(qnode, params, i, j):\n",
        "    \n",
        "    eps = 0.01\n",
        "\n",
        "    shifted = params.copy()\n",
        "    \n",
        "    shifted[i, j] += eps\n",
        "    forward = qnode(shifted)  # forward evaluation\n",
        "\n",
        "    shifted[i, j] -= 2*eps\n",
        "    backward = qnode(shifted) # backward evaluation\n",
        "\n",
        "    return (1/(2*eps)) * (forward - backward)\n",
        "\n",
        "def finite_difference(qnode, params):\n",
        "    gradients = np.zeros_like((params))\n",
        "    for i in range(len(gradients)):\n",
        "        for j in range(len(gradients[0])):\n",
        "            gradients[i, j] += finite_term(qnode, params, i, j)\n",
        "\n",
        "    return gradients"
      ],
      "execution_count": 128,
      "outputs": []
    },
    {
      "cell_type": "markdown",
      "metadata": {
        "id": "DW_LwXFpo4Is"
      },
      "source": [
        "### Linear combination of unitaries (LCU)"
      ]
    },
    {
      "cell_type": "code",
      "metadata": {
        "id": "BMdOyFCWGjJR"
      },
      "source": [
        "param_gates = ['RX', 'RY', 'RZ']\n",
        "\n",
        "def lcu_term(ansatz, params, wires, diff_index, num_wires, num_layers):\n",
        "  qml.Hadamard(wires=num_wires)\n",
        "  break_point = len(ansatz)//num_layers\n",
        "  qml.adjoint(qml.S)(wires=num_wires)\n",
        "\n",
        "  counting = 0\n",
        "  for i, gate in enumerate(ansatz):\n",
        "    \n",
        "    if gate in param_gates:\n",
        "      if i == diff_index:\n",
        "        controlStr(gate)(wires=[num_wires, (diff_index//4)%4])\n",
        "      str2gate(gate)(params[counting], wires=wires[i])\n",
        "      counting += 1\n",
        "    else:\n",
        "      str2gate(gate)(wires=wires[i])\n",
        "    if i!=0 and (i+1)%break_point==0:\n",
        "      fully_connected_layer(num_wires)\n",
        "  qml.Hadamard(wires=num_wires)\n",
        "\n",
        "def lcu_gradients(ansatz_label, H, params):\n",
        "  num_layers = len(params)\n",
        "  num_wires = len(H.wires)-1\n",
        "  num_param_gates = len(params[0])//num_wires\n",
        "\n",
        "  ansatz = ansatz_label * num_layers * num_wires\n",
        "  \n",
        "  wires = []\n",
        "  for i in range(num_layers):\n",
        "    for j in range(num_wires):\n",
        "      for k in range(4):\n",
        "        wires.append(j)\n",
        "  params = params.flatten()\n",
        "\n",
        "  dev = qml.device(\"default.qubit\", wires=num_wires+1)\n",
        "  @qml.qnode(dev)\n",
        "  def lcu(ansatz, H, params, wires, diff_index):\n",
        "    \n",
        "    lcu_term(ansatz, params, wires, diff_index, num_wires, num_layers)\n",
        "    \n",
        "    return qml.expval(H)\n",
        "\n",
        "  gradients = []\n",
        "  for i in range(len(ansatz)):\n",
        "    if ansatz[i] in param_gates:\n",
        "      gradients.append(lcu(ansatz, H, params, wires, i))\n",
        "      \n",
        "  return np.array(gradients).reshape(num_layers, -1)"
      ],
      "execution_count": 171,
      "outputs": []
    },
    {
      "cell_type": "markdown",
      "metadata": {
        "id": "m5QkBIxFo_20"
      },
      "source": [
        "### Quantum natural gradient (QNG)"
      ]
    },
    {
      "cell_type": "code",
      "metadata": {
        "id": "dehyg9AOjj79"
      },
      "source": [
        "def quantum_natural_gradient(var, H, cost_function):\n",
        "  num_wires = len(H.wires)\n",
        "  dev = qml.device('default.qubit', wires=num_wires)\n",
        "\n",
        "  @qml.qnode(dev)\n",
        "  def metric_tensor_circuit(var):\n",
        "    for v in var: \n",
        "      ansatz(v, num_wires)\n",
        "    return qml.expval(H)\n",
        "\n",
        "  metric_fn = qml.metric_tensor(metric_tensor_circuit, approx=\"block-diag\", hybrid=False)\n",
        "  grad = parameter_shift(cost_function, var)\n",
        "  grad_flatten = grad.flatten()\n",
        "  metric_tensor = metric_fn(var)\n",
        "  try:\n",
        "    qng_grad = np.linalg.solve(metric_tensor, grad_flatten)\n",
        "  except: \n",
        "    qng_grad = np.linalg.lstsq(metric_tensor, grad_flatten, rcond=None)[0]\n",
        "  return qng_grad\n"
      ],
      "execution_count": 130,
      "outputs": []
    },
    {
      "cell_type": "markdown",
      "metadata": {
        "id": "dzfWXUeMpEmK"
      },
      "source": [
        "### Quantum newton gradient"
      ]
    },
    {
      "cell_type": "code",
      "metadata": {
        "id": "9hBnbTl2lnPH"
      },
      "source": [
        "def newton_gradient(cost_function, H, params):\n",
        "  num_layers = len(params)\n",
        "  params_ori = params.copy()\n",
        "  params = params.reshape(1,-1)[0]\n",
        "  num_wires = len(H.wires)\n",
        "  dev = qml.device('default.qubit', wires=num_wires)\n",
        "\n",
        "  def ansatz_newton(var, num_wires):\n",
        "    for l in range(num_layers):\n",
        "      for wire in range(num_wires):\n",
        "        qml.Hadamard(wires=wire)\n",
        "        qml.RX(var[0+3*wire + l*3*num_wires], wires=wire)\n",
        "        qml.RY(var[1+3*wire+ l*3*num_wires], wires=wire)\n",
        "        qml.RZ(var[2+3*wire+ l*3*num_wires], wires=wire)\n",
        "      fully_connected_layer(num_wires)\n",
        "\n",
        "  @qml.qnode(dev)\n",
        "  def circuit(var, H):\n",
        "    ansatz_newton(var, num_wires)\n",
        "    return qml.expval(H)\n",
        "\n",
        "  grad_fn = qml.grad(circuit)\n",
        "  hes_fn = qml.jacobian(grad_fn)\n",
        "  grad = parameter_shift(lambda x: cost_function(x, H), params_ori).flatten()\n",
        "  hessian_matrix = hes_fn(params, H)\n",
        "  try:\n",
        "    #x = np.linalg.inv(hessian_matrix)\n",
        "    newton_grad = np.linalg.solve(hessian_matrix, grad)\n",
        "  except: \n",
        "    #x = np.linalg.pinv(hessian_matrix)\n",
        "    newton_grad = np.linalg.lstsq(hessian_matrix, grad, rcond=None)[0] \n",
        "  \n",
        "  return newton_grad.reshape(num_layers,-1)"
      ],
      "execution_count": 131,
      "outputs": []
    },
    {
      "cell_type": "markdown",
      "metadata": {
        "id": "__wEBgF9oflu"
      },
      "source": [
        "## Continuous-variable"
      ]
    },
    {
      "cell_type": "markdown",
      "metadata": {
        "id": "paYNRIsEoze7"
      },
      "source": [
        "### Parameter shift rule"
      ]
    },
    {
      "cell_type": "code",
      "metadata": {
        "id": "TWtFpF_iRDdd"
      },
      "source": [
        "# gate_list = ['R', 'S1', 'D1']\n",
        "\n",
        "# def parameter_shift_cv_term(qnode, params, i, j):\n",
        "    \n",
        "#     gate = gate_list[j%len(gate_list)]\n",
        "\n",
        "#     shifted = params.copy()\n",
        "\n",
        "#     if gate == 'R' or gate == 'S2' or gate == 'D2':\n",
        "#       shifted[i, j] += alpha\n",
        "#       forward = qnode(shifted)  # forward evaluation\n",
        "\n",
        "#       shifted[i, j] -= 2*alpha\n",
        "#       backward = qnode(shifted) # backward evaluation\n",
        "\n",
        "#       return (1/2) * (forward - backward)\n",
        "\n",
        "#     elif gate == 'S1':\n",
        "#       shifted[i, j] += s\n",
        "#       forward = qnode(shifted)  # forward evaluation\n",
        "\n",
        "#       shifted[i, j] -= 2*s\n",
        "#       backward = qnode(shifted) # backward evaluation\n",
        "\n",
        "#       return (1/(2*np.sinh(s))) * (forward - backward)\n",
        "    \n",
        "#     elif gate == 'D1':\n",
        "#       shifted[i, j] += s\n",
        "#       forward = qnode(shifted)  # forward evaluation\n",
        "\n",
        "#       shifted[i, j] -= 2*s\n",
        "#       backward = qnode(shifted) # backward evaluation\n",
        "\n",
        "#       return (1/(2*s)) * (forward - backward)\n",
        "\n",
        "# def parameter_shift_cv(qnode, params):\n",
        "#     gradients = np.zeros_like((params))\n",
        "#     for i in range(len(gradients)):\n",
        "#         for j in range(len(gradients[0])):\n",
        "#             gradients[i, j] += parameter_shift_cv_term(qnode, params, i, j)\n",
        "\n",
        "#     return gradients"
      ],
      "execution_count": 132,
      "outputs": []
    },
    {
      "cell_type": "markdown",
      "metadata": {
        "id": "BDa9pqIbo1HZ"
      },
      "source": [
        "### Finite difference"
      ]
    },
    {
      "cell_type": "code",
      "metadata": {
        "id": "0BeJhEzKRFJQ"
      },
      "source": [
        "# def finite_cv_term(qnode, params, i, j):\n",
        "    \n",
        "#     eps = 0.01\n",
        "\n",
        "#     shifted = params.copy()\n",
        "    \n",
        "#     shifted[i, j] += eps\n",
        "#     forward = qnode(shifted)  # forward evaluation\n",
        "\n",
        "#     shifted[i, j] -= 2*eps\n",
        "#     backward = qnode(shifted) # backward evaluation\n",
        "\n",
        "#     return (1/(2*eps)) * (forward - backward)\n",
        "\n",
        "# def finite_difference_cv(qnode, params):\n",
        "#     gradients = np.zeros_like((params))\n",
        "#     for i in range(len(gradients)):\n",
        "#         for j in range(len(gradients[0])):\n",
        "#             gradients[i, j] += finite_cv_term(qnode, params, i, j)\n",
        "\n",
        "#     return gradients"
      ],
      "execution_count": 133,
      "outputs": []
    },
    {
      "cell_type": "markdown",
      "source": [
        "# **Problem Fomulation** "
      ],
      "metadata": {
        "id": "NWTYpAxymxP5"
      }
    },
    {
      "cell_type": "markdown",
      "source": [
        "## Max-Cut"
      ],
      "metadata": {
        "id": "0ycfqqLcwi9Y"
      }
    },
    {
      "cell_type": "code",
      "source": [
        "num_wires = 4  # Number of nodes in graph\n",
        "\n",
        "elist_maxcut = [(0, 1), (0, 2), (0, 3), (1, 2), (2, 3)]\n",
        "colors_maxcut = [\"r\" for node in range(num_wires)]\n",
        "\n",
        "draw_graph(elist_maxcut, colors_maxcut)"
      ],
      "metadata": {
        "colab": {
          "base_uri": "https://localhost:8080/",
          "height": 248
        },
        "id": "h_A2OYHEnAxJ",
        "outputId": "8fdfbd8c-f3e8-4b6f-da06-a100b0e90a60"
      },
      "execution_count": 134,
      "outputs": [
        {
          "output_type": "display_data",
          "data": {
            "text/plain": [
              "<Figure size 432x288 with 1 Axes>"
            ],
            "image/png": "[encoded data removed]"
          },
          "metadata": {}
        }
      ]
    },
    {
      "cell_type": "code",
      "source": [
        "adjacency_matrix_maxcut = get_adjacency_matrix(elist_maxcut)\n",
        "max_cut = Maxcut(adjacency_matrix_maxcut)\n",
        "qp_maxcut = max_cut.to_quadratic_program()\n",
        "print(qp_maxcut.export_as_lp_string())"
      ],
      "metadata": {
        "colab": {
          "base_uri": "https://localhost:8080/"
        },
        "id": "s8nIxhQgr90x",
        "outputId": "551c3cb8-0a1d-4428-e8f8-3124c3603424"
      },
      "execution_count": 135,
      "outputs": [
        {
          "output_type": "stream",
          "name": "stdout",
          "text": [
            "\\ This file has been generated by DOcplex\n",
            "\\ ENCODING=ISO-8859-1\n",
            "\\Problem name: Max-cut\n",
            "\n",
            "Maximize\n",
            " obj: 3 x_0 + 2 x_1 + 3 x_2 + 2 x_3 + [ - 4 x_0*x_1 - 4 x_0*x_2 - 4 x_0*x_3\n",
            "      - 4 x_1*x_2 - 4 x_2*x_3 ]/2\n",
            "Subject To\n",
            "\n",
            "Bounds\n",
            " 0 <= x_0 <= 1\n",
            " 0 <= x_1 <= 1\n",
            " 0 <= x_2 <= 1\n",
            " 0 <= x_3 <= 1\n",
            "\n",
            "Binaries\n",
            " x_0 x_1 x_2 x_3\n",
            "End\n",
            "\n"
          ]
        }
      ]
    },
    {
      "cell_type": "code",
      "source": [
        "qubitOp_maxcut, offset_maxcut = qp_maxcut.to_ising()\n",
        "H_maxcut = hamiltonian_from_qiskit(qubitOp_maxcut)\n",
        "H_maxcut_lcu = hamiltonian_from_qiskit_lcu(qubitOp_maxcut)\n",
        "print(\"Offset:\", offset_maxcut,\"\\n\")\n",
        "print(\"Ising Hamiltonian:\\n\")\n",
        "\n",
        "print(H_maxcut)"
      ],
      "metadata": {
        "colab": {
          "base_uri": "https://localhost:8080/"
        },
        "id": "bJh8meYXu42W",
        "outputId": "791571c7-a48b-4545-d1b0-7c80c1cca482"
      },
      "execution_count": 136,
      "outputs": [
        {
          "output_type": "stream",
          "name": "stdout",
          "text": [
            "Offset: -2.5 \n",
            "\n",
            "Ising Hamiltonian:\n",
            "\n",
            "  (0.5) [Z2 Z3]\n",
            "+ (0.5) [Z1 Z2]\n",
            "+ (0.5) [Z0 Z3]\n",
            "+ (0.5) [Z0 Z2]\n",
            "+ (0.5) [Z0 Z1]\n"
          ]
        }
      ]
    },
    {
      "cell_type": "markdown",
      "source": [
        "## Clique"
      ],
      "metadata": {
        "id": "JP7twTOrwsE5"
      }
    },
    {
      "cell_type": "code",
      "source": [
        "num_wires = 4  # Number of nodes in graph\n",
        "\n",
        "elist_clique = [(0, 1), (0, 2), (0, 3), (2, 3)]\n",
        "colors_clique = [\"r\" for node in range(num_wires)]\n",
        "\n",
        "draw_graph(elist_clique, colors_clique)"
      ],
      "metadata": {
        "colab": {
          "base_uri": "https://localhost:8080/",
          "height": 248
        },
        "id": "wi9JRqMzwrfJ",
        "outputId": "5c88e2dc-9fe4-4c20-f915-ed7d66e1e3bc"
      },
      "execution_count": 137,
      "outputs": [
        {
          "output_type": "display_data",
          "data": {
            "text/plain": [
              "<Figure size 432x288 with 1 Axes>"
            ],
            "image/png": "[encoded data removed]"
          },
          "metadata": {}
        }
      ]
    },
    {
      "cell_type": "code",
      "source": [
        "adjacency_matrix_clique = get_adjacency_matrix(elist_clique)\n",
        "clique = Clique(adjacency_matrix_clique)\n",
        "qp_clique = clique.to_quadratic_program()\n",
        "print(qp_clique.export_as_lp_string())"
      ],
      "metadata": {
        "colab": {
          "base_uri": "https://localhost:8080/"
        },
        "id": "UKC7ThKa0axi",
        "outputId": "7887c892-13b3-4ab0-f4e8-86772a36d63a"
      },
      "execution_count": 138,
      "outputs": [
        {
          "output_type": "stream",
          "name": "stdout",
          "text": [
            "\\ This file has been generated by DOcplex\n",
            "\\ ENCODING=ISO-8859-1\n",
            "\\Problem name: Clique\n",
            "\n",
            "Maximize\n",
            " obj: x_0 + x_1 + x_2 + x_3\n",
            "Subject To\n",
            " c0: x_1 + x_2 <= 1\n",
            " c1: x_1 + x_3 <= 1\n",
            "\n",
            "Bounds\n",
            " 0 <= x_0 <= 1\n",
            " 0 <= x_1 <= 1\n",
            " 0 <= x_2 <= 1\n",
            " 0 <= x_3 <= 1\n",
            "\n",
            "Binaries\n",
            " x_0 x_1 x_2 x_3\n",
            "End\n",
            "\n"
          ]
        }
      ]
    },
    {
      "cell_type": "code",
      "source": [
        "qp2qubo = QuadraticProgramToQubo()\n",
        "qubo_clique = qp2qubo.convert(qp_clique)\n",
        "\n",
        "qubitOp_clique, offset_clique = qubo_clique.to_ising()\n",
        "H_clique = hamiltonian_from_qiskit(qubitOp_clique)\n",
        "H_clique_lcu = hamiltonian_from_qiskit_lcu(qubitOp_clique)\n",
        "\n",
        "print(\"Offset:\", offset_clique,\"\\n\")\n",
        "print(\"Ising Hamiltonian:\\n\")\n",
        "\n",
        "print(H_clique)"
      ],
      "metadata": {
        "colab": {
          "base_uri": "https://localhost:8080/"
        },
        "id": "T1G00BHZ0jkY",
        "outputId": "b687b6db-9b0d-4684-bda1-f791c93d9cb7"
      },
      "execution_count": 139,
      "outputs": [
        {
          "output_type": "stream",
          "name": "stdout",
          "text": [
            "Offset: 0.5 \n",
            "\n",
            "Ising Hamiltonian:\n",
            "\n",
            "  (-2.0) [Z1]\n",
            "+ (-0.75) [Z3]\n",
            "+ (-0.75) [Z2]\n",
            "+ (0.5) [Z0]\n",
            "+ (1.25) [Z1 Z3]\n",
            "+ (1.25) [Z1 Z2]\n"
          ]
        }
      ]
    },
    {
      "cell_type": "markdown",
      "source": [
        "## Binary Linear Programming"
      ],
      "metadata": {
        "id": "eUxr-XqQ11hl"
      }
    },
    {
      "cell_type": "code",
      "source": [
        "blp = Model(\"docplex model\")\n",
        "x1 = blp.binary_var(\"x1\")\n",
        "x2 = blp.binary_var(\"x2\")\n",
        "x3 = blp.binary_var(\"x3\")\n",
        "x4 = blp.binary_var(\"x4\")\n",
        "\n",
        "blp.minimize(195000*x1 + 96000*x2 + 87000*x3 + 120000*x4)\n",
        "blp.add_constraint(x1  + x3 >= 1)\n",
        "blp.add_constraint(x2 + x4 >= 1)\n",
        "\n",
        "# load from a Docplex model\n",
        "qp_blp = from_docplex_mp(blp)\n",
        "print(qp_blp.export_as_lp_string())"
      ],
      "metadata": {
        "colab": {
          "base_uri": "https://localhost:8080/"
        },
        "id": "7PpGA_sn1By9",
        "outputId": "a2dae620-0523-4b52-e627-d68a359d8d7e"
      },
      "execution_count": 140,
      "outputs": [
        {
          "output_type": "stream",
          "name": "stdout",
          "text": [
            "\\ This file has been generated by DOcplex\n",
            "\\ ENCODING=ISO-8859-1\n",
            "\\Problem name: docplex model\n",
            "\n",
            "Minimize\n",
            " obj: 195000 x1 + 96000 x2 + 87000 x3 + 120000 x4\n",
            "Subject To\n",
            " c0: x1 + x3 >= 1\n",
            " c1: x2 + x4 >= 1\n",
            "\n",
            "Bounds\n",
            " 0 <= x1 <= 1\n",
            " 0 <= x2 <= 1\n",
            " 0 <= x3 <= 1\n",
            " 0 <= x4 <= 1\n",
            "\n",
            "Binaries\n",
            " x1 x2 x3 x4\n",
            "End\n",
            "\n"
          ]
        }
      ]
    },
    {
      "cell_type": "code",
      "source": [
        "qubo_blp = qp2qubo.convert(qp_blp)\n",
        "\n",
        "qubitOp_blp, offset_blp = qubo_blp.to_ising()\n",
        "H_blp = hamiltonian_from_qiskit(qubitOp_blp)\n",
        "H_blp_lcu = hamiltonian_from_qiskit_lcu(qubitOp_blp)\n",
        "\n",
        "print(\"Offset:\", offset_blp,\"\\n\")\n",
        "print(\"Ising Hamiltonian:\\n\")\n",
        "\n",
        "print(H_blp)"
      ],
      "metadata": {
        "colab": {
          "base_uri": "https://localhost:8080/"
        },
        "id": "WVT7SBFc2N2c",
        "outputId": "5fd06b12-1d8b-4a16-9cc7-f8f54aea2ded"
      },
      "execution_count": 141,
      "outputs": [
        {
          "output_type": "stream",
          "name": "stdout",
          "text": [
            "Offset: 498000.5 \n",
            "\n",
            "Ising Hamiltonian:\n",
            "\n",
            "  (27000.25) [Z0]\n",
            "+ (64500.25) [Z3]\n",
            "+ (76500.25) [Z1]\n",
            "+ (81000.25) [Z2]\n",
            "+ (124500.25) [Z1 Z3]\n",
            "+ (124500.25) [Z0 Z2]\n"
          ]
        }
      ]
    },
    {
      "cell_type": "markdown",
      "source": [
        "## Knapsack"
      ],
      "metadata": {
        "id": "TagenFKd8Gxu"
      }
    },
    {
      "cell_type": "code",
      "source": [
        "weights = [1, 2]\n",
        "profits = [2, 1]\n",
        "max_weight = 3\n",
        "knapsack = Knapsack(profits, weights, max_weight)\n",
        "qp_ks = knapsack.to_quadratic_program()\n",
        "print(qp_ks.export_as_lp_string())"
      ],
      "metadata": {
        "colab": {
          "base_uri": "https://localhost:8080/"
        },
        "id": "M5wvhAnO2vAW",
        "outputId": "0cb13be0-21ee-4cb8-b8aa-e2fc72dce9f0"
      },
      "execution_count": 142,
      "outputs": [
        {
          "output_type": "stream",
          "name": "stdout",
          "text": [
            "\\ This file has been generated by DOcplex\n",
            "\\ ENCODING=ISO-8859-1\n",
            "\\Problem name: Knapsack\n",
            "\n",
            "Maximize\n",
            " obj: 2 x_0 + x_1\n",
            "Subject To\n",
            " c0: x_0 + 2 x_1 <= 3\n",
            "\n",
            "Bounds\n",
            " 0 <= x_0 <= 1\n",
            " 0 <= x_1 <= 1\n",
            "\n",
            "Binaries\n",
            " x_0 x_1\n",
            "End\n",
            "\n"
          ]
        }
      ]
    },
    {
      "cell_type": "code",
      "source": [
        "qubo_ks = qp2qubo.convert(qp_ks)\n",
        "\n",
        "qubitOp_ks, offset_ks = qubo_ks.to_ising()\n",
        "H_ks = hamiltonian_from_qiskit(qubitOp_ks)\n",
        "H_ks_lcu = hamiltonian_from_qiskit_lcu(qubitOp_ks)\n",
        "\n",
        "print(\"Offset:\", offset_ks,\"\\n\")\n",
        "print(\"Ising Hamiltonian:\\n\")\n",
        "\n",
        "print(H_ks)"
      ],
      "metadata": {
        "colab": {
          "base_uri": "https://localhost:8080/"
        },
        "id": "8-CP0Veo8Qfq",
        "outputId": "85001a0f-32df-4c03-dab6-6f62f797a31f"
      },
      "execution_count": 143,
      "outputs": [
        {
          "output_type": "stream",
          "name": "stdout",
          "text": [
            "Offset: 8.5 \n",
            "\n",
            "Ising Hamiltonian:\n",
            "\n",
            "  (0.5) [Z1]\n",
            "+ (1.0) [Z0]\n",
            "+ (2.0) [Z0 Z2]\n",
            "+ (4.0) [Z2 Z3]\n",
            "+ (4.0) [Z1 Z2]\n",
            "+ (4.0) [Z0 Z3]\n",
            "+ (4.0) [Z0 Z1]\n",
            "+ (8.0) [Z1 Z3]\n"
          ]
        }
      ]
    },
    {
      "cell_type": "markdown",
      "metadata": {
        "id": "7oOYIsk033zu"
      },
      "source": [
        "# **Optimization**"
      ]
    },
    {
      "cell_type": "markdown",
      "metadata": {
        "id": "kqRA7CVVRbzD"
      },
      "source": [
        "## Discrete-variable"
      ]
    },
    {
      "cell_type": "code",
      "metadata": {
        "id": "cmWZibCLr1-6"
      },
      "source": [
        "# guesting ansatz state\n",
        "\n",
        "ansatz_label = ['H', 'RX', 'RY', 'RZ'] \n",
        "\n",
        "def ansatz(var, num_wires):\n",
        "    for wire in range(num_wires):\n",
        "      qml.Hadamard(wires=wire)\n",
        "      qml.RX(var[0+3*wire], wires=wire)\n",
        "      qml.RY(var[1+3*wire], wires=wire)\n",
        "      qml.RZ(var[2+3*wire], wires=wire)\n",
        "    fully_connected_layer(num_wires)"
      ],
      "execution_count": 144,
      "outputs": []
    },
    {
      "cell_type": "code",
      "metadata": {
        "id": "jz3X0YaN5f65"
      },
      "source": [
        "def cost_function(var, H):\n",
        "  num_wires = len(H.wires)\n",
        "  dev = qml.device('default.qubit', wires=num_wires)\n",
        "\n",
        "  @qml.qnode(dev)\n",
        "  def circuit(var, H):\n",
        "    for v in var: \n",
        "      ansatz(v, num_wires)\n",
        "    return qml.expval(H)\n",
        "\n",
        "  return circuit(var, H)"
      ],
      "execution_count": 145,
      "outputs": []
    },
    {
      "cell_type": "markdown",
      "metadata": {
        "id": "U-Uy87BL98bh"
      },
      "source": [
        "Probability distribution of estimated gate "
      ]
    },
    {
      "cell_type": "code",
      "metadata": {
        "id": "1tV5rVji9kZv"
      },
      "source": [
        "# prediction circuit\n",
        "def prediction(var, num_param_gates):\n",
        "  num_wires = len(var[0])//num_param_gates\n",
        "  dev = qml.device('default.qubit', wires=num_wires)\n",
        "  @qml.qnode(dev)\n",
        "  def circuit(var):\n",
        "    for v in var: \n",
        "      ansatz(v, num_wires)\n",
        "    return qml.probs(wires=range(num_wires))  # get prediction probability\n",
        "  \n",
        "  state = circuit(var)\n",
        "  result = np.argmax(state)\n",
        "  return int_to_binary(result, num_wires)[::-1]"
      ],
      "execution_count": 146,
      "outputs": []
    },
    {
      "cell_type": "code",
      "metadata": {
        "id": "d6tRbcsMvM0F"
      },
      "source": [
        "np.random.seed(1)\n",
        "num_layers = 2\n",
        "num_param_gates = 3\n",
        "\n",
        "var_init_maxcut = 0.5*np.random.randn(num_layers, num_param_gates*len(H_maxcut.wires))\n",
        "var_init_clique = 0.5*np.random.randn(num_layers, num_param_gates*len(H_clique.wires))\n",
        "var_init_blp = 0.5*np.random.randn(num_layers, num_param_gates*len(H_blp.wires))\n",
        "var_init_ks = 0.5*np.random.randn(num_layers, num_param_gates*len(H_ks.wires))\n",
        "\n",
        "steps = [2, 4, 6, 8, 10]"
      ],
      "execution_count": 147,
      "outputs": []
    },
    {
      "cell_type": "code",
      "metadata": {
        "colab": {
          "base_uri": "https://localhost:8080/"
        },
        "id": "29C6GDYBvUYp",
        "outputId": "7f477c6f-f11f-4c74-cff7-da6350139cae"
      },
      "source": [
        "print(\"Initial cost: \", cost_function(var_init_maxcut, H_maxcut)+offset_maxcut)"
      ],
      "execution_count": 148,
      "outputs": [
        {
          "output_type": "stream",
          "name": "stdout",
          "text": [
            "Initial cost:  -1.7157690662825986\n"
          ]
        }
      ]
    },
    {
      "cell_type": "code",
      "source": [
        "print(\"Prediction: \", prediction(var_init_maxcut, num_param_gates))"
      ],
      "metadata": {
        "colab": {
          "base_uri": "https://localhost:8080/"
        },
        "id": "q0a18ZmFIPGh",
        "outputId": "662550a2-0327-4173-ec82-601ae9020707"
      },
      "execution_count": 149,
      "outputs": [
        {
          "output_type": "stream",
          "name": "stdout",
          "text": [
            "Prediction:  0000\n"
          ]
        }
      ]
    },
    {
      "cell_type": "markdown",
      "source": [
        "Function for training optimizer"
      ],
      "metadata": {
        "id": "7OYcgWKJj3qJ"
      }
    },
    {
      "cell_type": "code",
      "source": [
        "def train(cost_fn, grad_fn, epochs, var_init, lr):\n",
        "  lost_list = []\n",
        "  time_list = []\n",
        "\n",
        "  var = var_init.copy()\n",
        "\n",
        "  opt = qml.RMSPropOptimizer(lr)\n",
        "\n",
        "  start = time.time()\n",
        "\n",
        "  for it in range(epochs):# while True:\n",
        "      var, _cost = opt.step_and_cost(cost_fn, var, grad_fn=grad_fn) \n",
        "      lost_list.append(_cost.numpy())\n",
        "\n",
        "      if it%10==0:\n",
        "        print(\"Iter: {:5d} | Cost: {:0.11f} \".format(it, _cost))\n",
        "\n",
        "      end = time.time()\n",
        "      t = end - start\n",
        "      time_list.append(t)\n",
        "\n",
        "  return lost_list, time_list, var"
      ],
      "metadata": {
        "id": "xwTUGtTVN2dE"
      },
      "execution_count": 150,
      "outputs": []
    },
    {
      "cell_type": "markdown",
      "source": [
        "Varaible List"
      ],
      "metadata": {
        "id": "GQ_q_OtUo69M"
      }
    },
    {
      "cell_type": "code",
      "source": [
        "# lost list\n",
        "psl = []\n",
        "fdl = []\n",
        "lcul = []\n",
        "qngl = []\n",
        "qnwl = []\n",
        "\n",
        "# time list\n",
        "pst = []\n",
        "fdt = []\n",
        "lcut = []\n",
        "qngt = []\n",
        "qnwt = []\n",
        "\n",
        "\n",
        "# lost list change num layer\n",
        "pslc = []\n",
        "fdlc = []\n",
        "lculc = []\n",
        "qnglc = []\n",
        "qnwlc = []\n",
        "\n",
        "# time list change num layer\n",
        "pstc = []\n",
        "fdtc = []\n",
        "lcutc = []\n",
        "qngtc = []\n",
        "qnwtc = []"
      ],
      "metadata": {
        "id": "wFNkMofzoveu"
      },
      "execution_count": 151,
      "outputs": []
    },
    {
      "cell_type": "markdown",
      "metadata": {
        "id": "C9k03eA5-l06"
      },
      "source": [
        "### Parameter Shift Rule"
      ]
    },
    {
      "cell_type": "markdown",
      "source": [
        "#### Max-Cut"
      ],
      "metadata": {
        "id": "84GFiSYSLbKU"
      }
    },
    {
      "cell_type": "code",
      "metadata": {
        "colab": {
          "base_uri": "https://localhost:8080/"
        },
        "id": "0t_JHnhVvfzR",
        "outputId": "38e10efd-8871-4316-ec43-81edce9df602"
      },
      "source": [
        "lr = 0.03\n",
        "epochs = 101\n",
        "\n",
        "cost_fn = lambda v: cost_function(v, H_maxcut)+offset_maxcut\n",
        "grad_fn = lambda var: parameter_shift(lambda x: cost_function(x, H_maxcut), var)\n",
        "lost_list, time_list, var = train(cost_fn, grad_fn, epochs, var_init_maxcut, lr)\n",
        "psl.append(lost_list)\n",
        "pst.append(time_list)"
      ],
      "execution_count": 152,
      "outputs": [
        {
          "output_type": "stream",
          "name": "stdout",
          "text": [
            "Iter:     0 | Cost: -1.71576906628 \n",
            "Iter:    10 | Cost: -2.92916432842 \n",
            "Iter:    20 | Cost: -3.11048527652 \n",
            "Iter:    30 | Cost: -3.34736042978 \n",
            "Iter:    40 | Cost: -3.48595961977 \n",
            "Iter:    50 | Cost: -3.49983208406 \n",
            "Iter:    60 | Cost: -3.49999990501 \n",
            "Iter:    70 | Cost: -3.49999947768 \n",
            "Iter:    80 | Cost: -3.49423438483 \n",
            "Iter:    90 | Cost: -3.49956678195 \n",
            "Iter:   100 | Cost: -3.49925734176 \n"
          ]
        }
      ]
    },
    {
      "cell_type": "code",
      "source": [
        "lr = 0.03\n",
        "epochs = 11\n",
        "\n",
        "np.random.seed(1)\n",
        "num_param_gates = 3\n",
        "\n",
        "temp1 = []\n",
        "temp2 = []\n",
        "for num_layers in steps:\n",
        "  var_init_maxcutc = 0.5*np.random.randn(num_layers, num_param_gates*len(H_maxcut.wires))\n",
        "\n",
        "  cost_fn = lambda v: cost_function(v, H_maxcut)+offset_maxcut\n",
        "  grad_fn = lambda var: parameter_shift(lambda x: cost_function(x, H_maxcut), var)\n",
        "  lost_list, time_list, _ = train(cost_fn, grad_fn, epochs, var_init_maxcutc, lr)\n",
        "  temp1.append(lost_list[-1])\n",
        "  temp2.append(time_list[-1])\n",
        "\n",
        "pslc.append(temp1)\n",
        "pstc.append(temp2)"
      ],
      "metadata": {
        "colab": {
          "base_uri": "https://localhost:8080/"
        },
        "id": "JkGGtPV0C68a",
        "outputId": "f07fba6d-182d-405f-9266-84f666bc90ce"
      },
      "execution_count": 153,
      "outputs": [
        {
          "output_type": "stream",
          "name": "stdout",
          "text": [
            "Iter:     0 | Cost: -1.71576906628 \n",
            "Iter:    10 | Cost: -2.92916432842 \n",
            "Iter:     0 | Cost: -1.89311957074 \n",
            "Iter:    10 | Cost: -3.53930104842 \n",
            "Iter:     0 | Cost: -2.03814866340 \n",
            "Iter:    10 | Cost: -3.82823170950 \n",
            "Iter:     0 | Cost: -2.44119325891 \n",
            "Iter:    10 | Cost: -3.78783720610 \n",
            "Iter:     0 | Cost: -2.72776845307 \n",
            "Iter:    10 | Cost: -3.93299095537 \n"
          ]
        }
      ]
    },
    {
      "cell_type": "markdown",
      "source": [
        "#### Clique"
      ],
      "metadata": {
        "id": "avIv6907onIA"
      }
    },
    {
      "cell_type": "code",
      "source": [
        "lr = 0.03\n",
        "epochs = 101\n",
        "\n",
        "cost_fn = lambda v: cost_function(v, H_clique)+offset_clique\n",
        "grad_fn = lambda var: parameter_shift(lambda x: cost_function(x, H_clique), var)\n",
        "lost_list, time_list, _ = train(cost_fn, grad_fn, epochs, var_init_clique, lr)\n",
        "psl.append(lost_list)\n",
        "pst.append(time_list)"
      ],
      "metadata": {
        "colab": {
          "base_uri": "https://localhost:8080/"
        },
        "id": "VeV657Avomoc",
        "outputId": "c9611d91-9614-414d-f296-98d0a5b314d6"
      },
      "execution_count": 154,
      "outputs": [
        {
          "output_type": "stream",
          "name": "stdout",
          "text": [
            "Iter:     0 | Cost: 0.12889348726 \n",
            "Iter:    10 | Cost: -1.94362101683 \n",
            "Iter:    20 | Cost: -2.34559567383 \n",
            "Iter:    30 | Cost: -2.45196028842 \n",
            "Iter:    40 | Cost: -2.48354286450 \n",
            "Iter:    50 | Cost: -2.49451567238 \n",
            "Iter:    60 | Cost: -2.49839653114 \n",
            "Iter:    70 | Cost: -2.49478568494 \n",
            "Iter:    80 | Cost: -2.49799505377 \n",
            "Iter:    90 | Cost: -2.49835671272 \n",
            "Iter:   100 | Cost: -2.49815187014 \n"
          ]
        }
      ]
    },
    {
      "cell_type": "code",
      "source": [
        "lr = 0.03\n",
        "epochs = 11\n",
        "\n",
        "np.random.seed(1)\n",
        "num_param_gates = 3\n",
        "\n",
        "temp1 = []\n",
        "temp2 = []\n",
        "for num_layers in steps:\n",
        "  var_init_cliquec = 0.5*np.random.randn(num_layers, num_param_gates*len(H_clique.wires))\n",
        "\n",
        "  cost_fn = lambda v: cost_function(v, H_clique)+offset_clique\n",
        "  grad_fn = lambda var: parameter_shift(lambda x: cost_function(x, H_clique), var)\n",
        "  lost_list, time_list, _ = train(cost_fn, grad_fn, epochs, var_init_cliquec, lr)\n",
        "  temp1.append(lost_list[-1])\n",
        "  temp2.append(time_list[-1])\n",
        "\n",
        "pslc.append(temp1)\n",
        "pstc.append(temp2)"
      ],
      "metadata": {
        "colab": {
          "base_uri": "https://localhost:8080/"
        },
        "id": "1tizbT_CPjbC",
        "outputId": "4fb36fc5-fec5-45e2-b146-824680568659"
      },
      "execution_count": 155,
      "outputs": [
        {
          "output_type": "stream",
          "name": "stdout",
          "text": [
            "Iter:     0 | Cost: -0.32878854620 \n",
            "Iter:    10 | Cost: -1.87686385822 \n",
            "Iter:     0 | Cost: -0.62011189961 \n",
            "Iter:    10 | Cost: -2.40720219177 \n",
            "Iter:     0 | Cost: 1.03736341873 \n",
            "Iter:    10 | Cost: -2.63585339362 \n",
            "Iter:     0 | Cost: 0.69824350827 \n",
            "Iter:    10 | Cost: -2.78925391167 \n",
            "Iter:     0 | Cost: 1.96240124826 \n",
            "Iter:    10 | Cost: -2.65025204862 \n"
          ]
        }
      ]
    },
    {
      "cell_type": "markdown",
      "source": [
        "#### Binary Linear Programming"
      ],
      "metadata": {
        "id": "hU-zm57fpZqa"
      }
    },
    {
      "cell_type": "code",
      "source": [
        "lr = 0.03\n",
        "epochs = 101\n",
        "\n",
        "cost_fn = lambda v: cost_function(v, H_blp)+offset_blp\n",
        "grad_fn = lambda var: parameter_shift(lambda x: cost_function(x, H_blp), var)\n",
        "lost_list, time_list, _ = train(cost_fn, grad_fn, epochs, var_init_blp, lr)\n",
        "psl.append(lost_list)\n",
        "pst.append(time_list)"
      ],
      "metadata": {
        "colab": {
          "base_uri": "https://localhost:8080/"
        },
        "id": "W8Hast63pcdJ",
        "outputId": "b40d2d95-0e2b-47db-d52a-6013c939822e"
      },
      "execution_count": 156,
      "outputs": [
        {
          "output_type": "stream",
          "name": "stdout",
          "text": [
            "Iter:     0 | Cost: 667294.31366741285 \n",
            "Iter:    10 | Cost: 380039.14750654984 \n",
            "Iter:    20 | Cost: 306427.84090514830 \n",
            "Iter:    30 | Cost: 257869.31339366946 \n",
            "Iter:    40 | Cost: 213104.50375085504 \n",
            "Iter:    50 | Cost: 189464.36864009284 \n",
            "Iter:    60 | Cost: 183724.44258928957 \n",
            "Iter:    70 | Cost: 183028.39590268570 \n",
            "Iter:    80 | Cost: 183000.09582436603 \n",
            "Iter:    90 | Cost: 183000.45272810874 \n",
            "Iter:   100 | Cost: 183011.13886463881 \n"
          ]
        }
      ]
    },
    {
      "cell_type": "code",
      "source": [
        "lr = 0.03\n",
        "epochs = 11\n",
        "\n",
        "np.random.seed(1)\n",
        "num_param_gates = 3\n",
        "\n",
        "temp1 = []\n",
        "temp2 = []\n",
        "for num_layers in steps:\n",
        "  var_init_blpc = 0.5*np.random.randn(num_layers, num_param_gates*len(H_blp.wires))\n",
        "\n",
        "  cost_fn = lambda v: cost_function(v, H_blp)+offset_blp\n",
        "  grad_fn = lambda var: parameter_shift(lambda x: cost_function(x, H_blp), var)\n",
        "  lost_list, time_list, _ = train(cost_fn, grad_fn, epochs, var_init_blpc, lr)\n",
        "  temp1.append(lost_list[-1])\n",
        "  temp2.append(time_list[-1])\n",
        "\n",
        "pslc.append(temp1)\n",
        "pstc.append(temp2)"
      ],
      "metadata": {
        "colab": {
          "base_uri": "https://localhost:8080/"
        },
        "id": "qs-Bfd4tQGE9",
        "outputId": "b61cce0a-2b49-442e-93de-d67197c34add"
      },
      "execution_count": 157,
      "outputs": [
        {
          "output_type": "stream",
          "name": "stdout",
          "text": [
            "Iter:     0 | Cost: 631720.31831967935 \n",
            "Iter:    10 | Cost: 314801.59237132076 \n",
            "Iter:     0 | Cost: 659107.38464029436 \n",
            "Iter:    10 | Cost: 285518.82152659062 \n",
            "Iter:     0 | Cost: 601268.39232154237 \n",
            "Iter:    10 | Cost: 233156.36877137632 \n",
            "Iter:     0 | Cost: 416790.04523771151 \n",
            "Iter:    10 | Cost: 194202.64663859428 \n",
            "Iter:     0 | Cost: 445969.56532474287 \n",
            "Iter:    10 | Cost: 217817.13097259385 \n"
          ]
        }
      ]
    },
    {
      "cell_type": "markdown",
      "source": [
        "#### Knapsack"
      ],
      "metadata": {
        "id": "jNYQSrLapiIV"
      }
    },
    {
      "cell_type": "code",
      "source": [
        "lr = 0.03\n",
        "epochs = 101\n",
        "\n",
        "cost_fn = lambda v: cost_function(v, H_ks)+offset_ks\n",
        "grad_fn = lambda var: parameter_shift(lambda x: cost_function(x, H_ks), var)\n",
        "lost_list, time_list, _ = train(cost_fn, grad_fn, epochs, var_init_ks, lr)\n",
        "psl.append(lost_list)\n",
        "pst.append(time_list)"
      ],
      "metadata": {
        "id": "RpFPvkz-pkzz",
        "colab": {
          "base_uri": "https://localhost:8080/"
        },
        "outputId": "5b303696-86a8-4e9b-e628-1e8ba289bc29"
      },
      "execution_count": 158,
      "outputs": [
        {
          "output_type": "stream",
          "name": "stdout",
          "text": [
            "Iter:     0 | Cost: 27.69312856107 \n",
            "Iter:    10 | Cost: 5.54870502942 \n",
            "Iter:    20 | Cost: 3.09184860769 \n",
            "Iter:    30 | Cost: 0.91336450593 \n",
            "Iter:    40 | Cost: -1.70638927527 \n",
            "Iter:    50 | Cost: -2.75645495037 \n",
            "Iter:    60 | Cost: -2.96160359888 \n",
            "Iter:    70 | Cost: -2.99657026131 \n",
            "Iter:    80 | Cost: -2.99991661554 \n",
            "Iter:    90 | Cost: -2.99999933457 \n",
            "Iter:   100 | Cost: -2.99999999960 \n"
          ]
        }
      ]
    },
    {
      "cell_type": "code",
      "source": [
        "lr = 0.03\n",
        "epochs = 11\n",
        "\n",
        "np.random.seed(1)\n",
        "num_param_gates = 3\n",
        "\n",
        "temp1 = []\n",
        "temp2 = []\n",
        "for num_layers in steps:\n",
        "  var_init_ksc = 0.5*np.random.randn(num_layers, num_param_gates*len(H_ks.wires))\n",
        "\n",
        "  cost_fn = lambda v: cost_function(v, H_ks)+offset_ks\n",
        "  grad_fn = lambda var: parameter_shift(lambda x: cost_function(x, H_ks), var)\n",
        "  lost_list, time_list, _ = train(cost_fn, grad_fn, epochs, var_init_ksc, lr)\n",
        "  temp1.append(lost_list[-1])\n",
        "  temp2.append(time_list[-1])\n",
        "\n",
        "pslc.append(temp1)\n",
        "pstc.append(temp2)"
      ],
      "metadata": {
        "colab": {
          "base_uri": "https://localhost:8080/"
        },
        "id": "cqwnUTnVQWHV",
        "outputId": "d22fcd79-7ceb-416d-b05b-9ec42de6a338"
      },
      "execution_count": 159,
      "outputs": [
        {
          "output_type": "stream",
          "name": "stdout",
          "text": [
            "Iter:     0 | Cost: 16.08365820085 \n",
            "Iter:    10 | Cost: 2.24360521907 \n",
            "Iter:     0 | Cost: 15.75963494829 \n",
            "Iter:    10 | Cost: -0.20698997864 \n",
            "Iter:     0 | Cost: 14.88568424087 \n",
            "Iter:    10 | Cost: 0.18794862926 \n",
            "Iter:     0 | Cost: 7.31937591142 \n",
            "Iter:    10 | Cost: -0.99668318014 \n",
            "Iter:     0 | Cost: 7.32230064599 \n",
            "Iter:    10 | Cost: -1.77927028829 \n"
          ]
        }
      ]
    },
    {
      "cell_type": "markdown",
      "metadata": {
        "id": "WTA8kfPKptwn"
      },
      "source": [
        "### Finite Difference"
      ]
    },
    {
      "cell_type": "markdown",
      "source": [
        "#### Max-Cut"
      ],
      "metadata": {
        "id": "wF1J0w4OkjWc"
      }
    },
    {
      "cell_type": "code",
      "metadata": {
        "colab": {
          "base_uri": "https://localhost:8080/"
        },
        "id": "BR87ifUYRp4l",
        "outputId": "37c8ef42-c5e7-49e4-cef9-3dbb71623cc5"
      },
      "source": [
        "lr = 0.03\n",
        "epochs = 101\n",
        "\n",
        "cost_fn = lambda v: cost_function(v, H_maxcut)+offset_maxcut\n",
        "grad_fn = lambda var: finite_difference(lambda x: cost_function(x, H_maxcut), var)\n",
        "lost_list, time_list, _ = train(cost_fn, grad_fn, epochs, var_init_maxcut, lr)\n",
        "fdl.append(lost_list)\n",
        "fdt.append(time_list)"
      ],
      "execution_count": 160,
      "outputs": [
        {
          "output_type": "stream",
          "name": "stdout",
          "text": [
            "Iter:     0 | Cost: -1.71576906628 \n",
            "Iter:    10 | Cost: -2.92916432842 \n",
            "Iter:    20 | Cost: -3.11048527652 \n",
            "Iter:    30 | Cost: -3.34736042977 \n",
            "Iter:    40 | Cost: -3.48595961977 \n",
            "Iter:    50 | Cost: -3.49983208406 \n",
            "Iter:    60 | Cost: -3.49999990480 \n",
            "Iter:    70 | Cost: -3.49999947244 \n",
            "Iter:    80 | Cost: -3.49423034186 \n",
            "Iter:    90 | Cost: -3.49956528291 \n",
            "Iter:   100 | Cost: -3.49925844678 \n"
          ]
        }
      ]
    },
    {
      "cell_type": "code",
      "source": [
        "lr = 0.03\n",
        "epochs = 11\n",
        "\n",
        "np.random.seed(1)\n",
        "num_param_gates = 3\n",
        "\n",
        "temp1 = []\n",
        "temp2 = []\n",
        "for num_layers in steps:\n",
        "  var_init_maxcutc = 0.5*np.random.randn(num_layers, num_param_gates*len(H_maxcut.wires))\n",
        "\n",
        "  cost_fn = lambda v: cost_function(v, H_maxcut)+offset_maxcut\n",
        "  grad_fn = lambda var: finite_difference(lambda x: cost_function(x, H_maxcut), var)\n",
        "  lost_list, time_list, _ = train(cost_fn, grad_fn, epochs, var_init_maxcutc, lr)\n",
        "  temp1.append(lost_list[-1])\n",
        "  temp2.append(time_list[-1])\n",
        "\n",
        "fdlc.append(temp1)\n",
        "fdtc.append(temp2)"
      ],
      "metadata": {
        "colab": {
          "base_uri": "https://localhost:8080/"
        },
        "id": "8mTRZkyoQi6b",
        "outputId": "b730dc35-71f4-4d4c-edda-91e81acd68d0"
      },
      "execution_count": 161,
      "outputs": [
        {
          "output_type": "stream",
          "name": "stdout",
          "text": [
            "Iter:     0 | Cost: -1.71576906628 \n",
            "Iter:    10 | Cost: -2.92916432842 \n",
            "Iter:     0 | Cost: -1.89311957074 \n",
            "Iter:    10 | Cost: -3.53930104627 \n",
            "Iter:     0 | Cost: -2.03814866340 \n",
            "Iter:    10 | Cost: -3.82823171135 \n",
            "Iter:     0 | Cost: -2.44119325891 \n",
            "Iter:    10 | Cost: -3.78783736751 \n",
            "Iter:     0 | Cost: -2.72776845307 \n",
            "Iter:    10 | Cost: -3.93299095587 \n"
          ]
        }
      ]
    },
    {
      "cell_type": "markdown",
      "source": [
        "#### Clique"
      ],
      "metadata": {
        "id": "gpzvRU81ksvP"
      }
    },
    {
      "cell_type": "code",
      "source": [
        "lr = 0.03\n",
        "epochs = 101\n",
        "\n",
        "cost_fn = lambda v: cost_function(v, H_clique)+offset_clique\n",
        "grad_fn = lambda var: finite_difference(lambda x: cost_function(x, H_clique), var)\n",
        "lost_list, time_list, _ = train(cost_fn, grad_fn, epochs, var_init_clique, lr)\n",
        "fdl.append(lost_list)\n",
        "fdt.append(time_list)"
      ],
      "metadata": {
        "id": "hmcZlYu-kusq",
        "colab": {
          "base_uri": "https://localhost:8080/"
        },
        "outputId": "30284632-dc21-4a95-a0a2-f0e6d8c0d943"
      },
      "execution_count": 162,
      "outputs": [
        {
          "output_type": "stream",
          "name": "stdout",
          "text": [
            "Iter:     0 | Cost: 0.12889348726 \n",
            "Iter:    10 | Cost: -1.94362101686 \n",
            "Iter:    20 | Cost: -2.34559567384 \n",
            "Iter:    30 | Cost: -2.45196028842 \n",
            "Iter:    40 | Cost: -2.48354286474 \n",
            "Iter:    50 | Cost: -2.49451567217 \n",
            "Iter:    60 | Cost: -2.49839653132 \n",
            "Iter:    70 | Cost: -2.49478568717 \n",
            "Iter:    80 | Cost: -2.49799505336 \n",
            "Iter:    90 | Cost: -2.49835671269 \n",
            "Iter:   100 | Cost: -2.49815187030 \n"
          ]
        }
      ]
    },
    {
      "cell_type": "code",
      "source": [
        "lr = 0.03\n",
        "epochs = 11\n",
        "\n",
        "np.random.seed(1)\n",
        "num_param_gates = 3\n",
        "\n",
        "temp1 = []\n",
        "temp2 = []\n",
        "for num_layers in steps:\n",
        "  var_init_cliquec = 0.5*np.random.randn(num_layers, num_param_gates*len(H_clique.wires))\n",
        "\n",
        "  cost_fn = lambda v: cost_function(v, H_clique)+offset_clique\n",
        "  grad_fn = lambda var: finite_difference(lambda x: cost_function(x, H_clique), var)\n",
        "  lost_list, time_list, _ = train(cost_fn, grad_fn, epochs, var_init_cliquec, lr)\n",
        "  temp1.append(lost_list[-1])\n",
        "  temp2.append(time_list[-1])\n",
        "\n",
        "fdlc.append(temp1)\n",
        "fdtc.append(temp2)"
      ],
      "metadata": {
        "colab": {
          "base_uri": "https://localhost:8080/"
        },
        "id": "A_H9uW-gQut-",
        "outputId": "aa1fa6de-5236-418a-9b4d-431af4aec39d"
      },
      "execution_count": 163,
      "outputs": [
        {
          "output_type": "stream",
          "name": "stdout",
          "text": [
            "Iter:     0 | Cost: -0.32878854620 \n",
            "Iter:    10 | Cost: -1.87686383554 \n",
            "Iter:     0 | Cost: -0.62011189961 \n",
            "Iter:    10 | Cost: -2.40720219150 \n",
            "Iter:     0 | Cost: 1.03736341873 \n",
            "Iter:    10 | Cost: -2.63585339360 \n",
            "Iter:     0 | Cost: 0.69824350827 \n",
            "Iter:    10 | Cost: -2.78925386359 \n",
            "Iter:     0 | Cost: 1.96240124826 \n",
            "Iter:    10 | Cost: -2.65025204880 \n"
          ]
        }
      ]
    },
    {
      "cell_type": "markdown",
      "source": [
        "#### Binary Linear Programming"
      ],
      "metadata": {
        "id": "JUW4-obPk4JG"
      }
    },
    {
      "cell_type": "code",
      "source": [
        "lr = 0.03\n",
        "epochs = 101\n",
        "\n",
        "cost_fn = lambda v: cost_function(v, H_blp)+offset_blp\n",
        "grad_fn = lambda var: finite_difference(lambda x: cost_function(x, H_blp), var)\n",
        "lost_list, time_list, _ = train(cost_fn, grad_fn, epochs, var_init_blp, lr)\n",
        "fdl.append(lost_list)\n",
        "fdt.append(time_list)"
      ],
      "metadata": {
        "id": "ulpG-fsHk7EB",
        "colab": {
          "base_uri": "https://localhost:8080/"
        },
        "outputId": "1c154171-4055-455e-ecd5-98255fd51bff"
      },
      "execution_count": 164,
      "outputs": [
        {
          "output_type": "stream",
          "name": "stdout",
          "text": [
            "Iter:     0 | Cost: 667294.31366741285 \n",
            "Iter:    10 | Cost: 380039.14750654961 \n",
            "Iter:    20 | Cost: 306427.84090514854 \n",
            "Iter:    30 | Cost: 257869.31339367171 \n",
            "Iter:    40 | Cost: 213104.50375085883 \n",
            "Iter:    50 | Cost: 189464.36864009482 \n",
            "Iter:    60 | Cost: 183724.44258929009 \n",
            "Iter:    70 | Cost: 183028.39590268576 \n",
            "Iter:    80 | Cost: 183000.09588815260 \n",
            "Iter:    90 | Cost: 183000.39324232360 \n",
            "Iter:   100 | Cost: 183252.49390157545 \n"
          ]
        }
      ]
    },
    {
      "cell_type": "code",
      "source": [
        "lr = 0.03\n",
        "epochs = 11\n",
        "\n",
        "np.random.seed(1)\n",
        "num_param_gates = 3\n",
        "\n",
        "temp1 = []\n",
        "temp2 = []\n",
        "for num_layers in steps:\n",
        "  var_init_blpc = 0.5*np.random.randn(num_layers, num_param_gates*len(H_blp.wires))\n",
        "\n",
        "  cost_fn = lambda v: cost_function(v, H_blp)+offset_blp\n",
        "  grad_fn = lambda var: finite_difference(lambda x: cost_function(x, H_blp), var)\n",
        "  lost_list, time_list, _ = train(cost_fn, grad_fn, epochs, var_init_blpc, lr)\n",
        "  temp1.append(lost_list[-1])\n",
        "  temp2.append(time_list[-1])\n",
        "\n",
        "fdlc.append(temp1)\n",
        "fdtc.append(temp2)"
      ],
      "metadata": {
        "colab": {
          "base_uri": "https://localhost:8080/"
        },
        "id": "8I6I0lyxQySF",
        "outputId": "f4c518d4-0901-4302-b8cb-9bdaa17000ce"
      },
      "execution_count": 165,
      "outputs": [
        {
          "output_type": "stream",
          "name": "stdout",
          "text": [
            "Iter:     0 | Cost: 631720.31831967935 \n",
            "Iter:    10 | Cost: 314801.59237132064 \n",
            "Iter:     0 | Cost: 659107.38464029436 \n",
            "Iter:    10 | Cost: 285518.82152658893 \n",
            "Iter:     0 | Cost: 601268.39232154237 \n",
            "Iter:    10 | Cost: 233156.36877137795 \n",
            "Iter:     0 | Cost: 416790.04523771151 \n",
            "Iter:    10 | Cost: 194202.64663859486 \n",
            "Iter:     0 | Cost: 445969.56532474287 \n",
            "Iter:    10 | Cost: 217817.13097259722 \n"
          ]
        }
      ]
    },
    {
      "cell_type": "markdown",
      "source": [
        "#### Knapsack"
      ],
      "metadata": {
        "id": "Z5p2xwXnlFnF"
      }
    },
    {
      "cell_type": "code",
      "source": [
        "lr = 0.03\n",
        "epochs = 101\n",
        "\n",
        "cost_fn = lambda v: cost_function(v, H_ks)+offset_ks\n",
        "grad_fn = lambda var: finite_difference(lambda x: cost_function(x, H_ks), var)\n",
        "lost_list, time_list, _ = train(cost_fn, grad_fn, epochs, var_init_ks, lr)\n",
        "fdl.append(lost_list)\n",
        "fdt.append(time_list)"
      ],
      "metadata": {
        "id": "-N9wwo1ulH_T",
        "colab": {
          "base_uri": "https://localhost:8080/"
        },
        "outputId": "0ebe64d7-e72f-4bb2-c455-1a4403729589"
      },
      "execution_count": 166,
      "outputs": [
        {
          "output_type": "stream",
          "name": "stdout",
          "text": [
            "Iter:     0 | Cost: 27.69312856107 \n",
            "Iter:    10 | Cost: 5.54870502943 \n",
            "Iter:    20 | Cost: 3.09184860769 \n",
            "Iter:    30 | Cost: 0.91336450595 \n",
            "Iter:    40 | Cost: -1.70638927526 \n",
            "Iter:    50 | Cost: -2.75645495037 \n",
            "Iter:    60 | Cost: -2.96160359888 \n",
            "Iter:    70 | Cost: -2.99657026131 \n",
            "Iter:    80 | Cost: -2.99991661554 \n",
            "Iter:    90 | Cost: -2.99999933457 \n",
            "Iter:   100 | Cost: -2.99999999835 \n"
          ]
        }
      ]
    },
    {
      "cell_type": "code",
      "source": [
        "lr = 0.03\n",
        "epochs = 11\n",
        "\n",
        "np.random.seed(1)\n",
        "num_param_gates = 3\n",
        "\n",
        "temp1 = []\n",
        "temp2 = []\n",
        "for num_layers in steps:\n",
        "  var_init_ksc = 0.5*np.random.randn(num_layers, num_param_gates*len(H_ks.wires))\n",
        "\n",
        "  cost_fn = lambda v: cost_function(v, H_ks)+offset_ks\n",
        "  grad_fn = lambda var: finite_difference(lambda x: cost_function(x, H_ks), var)\n",
        "  lost_list, time_list, _ = train(cost_fn, grad_fn, epochs, var_init_ksc, lr)\n",
        "  temp1.append(lost_list[-1])\n",
        "  temp2.append(time_list[-1])\n",
        "\n",
        "fdlc.append(temp1)\n",
        "fdtc.append(temp2)"
      ],
      "metadata": {
        "colab": {
          "base_uri": "https://localhost:8080/"
        },
        "id": "UMY1jsEIQ2bN",
        "outputId": "f0810531-a6e2-411b-d32d-91b963a3390f"
      },
      "execution_count": 167,
      "outputs": [
        {
          "output_type": "stream",
          "name": "stdout",
          "text": [
            "Iter:     0 | Cost: 16.08365820085 \n",
            "Iter:    10 | Cost: 2.24360521907 \n",
            "Iter:     0 | Cost: 15.75963494829 \n",
            "Iter:    10 | Cost: -0.20698997864 \n",
            "Iter:     0 | Cost: 14.88568424087 \n",
            "Iter:    10 | Cost: 0.18794863023 \n",
            "Iter:     0 | Cost: 7.31937591142 \n",
            "Iter:    10 | Cost: -0.99668319856 \n",
            "Iter:     0 | Cost: 7.32230064599 \n",
            "Iter:    10 | Cost: -1.77927028886 \n"
          ]
        }
      ]
    },
    {
      "cell_type": "markdown",
      "metadata": {
        "id": "tt55-uJCpxOI"
      },
      "source": [
        "### Linear combination of unitaries (LCU)"
      ]
    },
    {
      "cell_type": "markdown",
      "source": [
        "#### Max-Cut"
      ],
      "metadata": {
        "id": "7B1M8jDulYLC"
      }
    },
    {
      "cell_type": "code",
      "source": [
        "lr = 0.03\n",
        "epochs = 101\n",
        "\n",
        "cost_fn = lambda v: cost_function(v, H_maxcut)+offset_maxcut\n",
        "grad_fn = lambda var: lcu_gradients(ansatz_label, H_maxcut_lcu, var)\n",
        "lost_list, time_list, _ = train(cost_fn, grad_fn, epochs, var_init_maxcut, lr)\n",
        "lcul.append(lost_list)\n",
        "lcut.append(time_list)"
      ],
      "metadata": {
        "colab": {
          "base_uri": "https://localhost:8080/"
        },
        "id": "PMOs2ipQlVj9",
        "outputId": "d145e43e-4269-4ddf-f703-cdc1c33d23c7"
      },
      "execution_count": 168,
      "outputs": [
        {
          "output_type": "stream",
          "name": "stdout",
          "text": [
            "Iter:     0 | Cost: -1.71576906628 \n",
            "Iter:    10 | Cost: -2.92916432842 \n",
            "Iter:    20 | Cost: -3.11048527652 \n",
            "Iter:    30 | Cost: -3.34736042978 \n",
            "Iter:    40 | Cost: -3.48595961977 \n",
            "Iter:    50 | Cost: -3.49983208406 \n",
            "Iter:    60 | Cost: -3.49999990501 \n",
            "Iter:    70 | Cost: -3.49999947778 \n",
            "Iter:    80 | Cost: -3.49423442491 \n",
            "Iter:    90 | Cost: -3.49956681741 \n",
            "Iter:   100 | Cost: -3.49925731642 \n"
          ]
        }
      ]
    },
    {
      "cell_type": "code",
      "source": [
        "lr = 0.03\n",
        "epochs = 11\n",
        "\n",
        "np.random.seed(1)\n",
        "num_param_gates = 3\n",
        "\n",
        "temp1 = []\n",
        "temp2 = []\n",
        "for num_layers in steps:\n",
        "  var_init_maxcutc = 0.5*np.random.randn(num_layers, num_param_gates*len(H_maxcut.wires))\n",
        "  cost_fn = lambda v: cost_function(v, H_maxcut)+offset_maxcut\n",
        "  grad_fn = lambda var: lcu_gradients(ansatz_label, H_maxcut_lcu, var)\n",
        "  lost_list, time_list, _ = train(cost_fn, grad_fn, epochs, var_init_maxcutc, lr)\n",
        "  temp1.append(lost_list[-1])\n",
        "  temp2.append(time_list[-1])\n",
        "\n",
        "lculc.append(temp1)\n",
        "lcutc.append(temp2)"
      ],
      "metadata": {
        "colab": {
          "base_uri": "https://localhost:8080/"
        },
        "id": "_QESdtgSRMZD",
        "outputId": "5fa8c967-8f53-478a-ff02-4cf0b72167c7"
      },
      "execution_count": 172,
      "outputs": [
        {
          "output_type": "stream",
          "name": "stdout",
          "text": [
            "Iter:     0 | Cost: -1.71576906628 \n",
            "Iter:    10 | Cost: -2.92916432842 \n",
            "Iter:     0 | Cost: -1.89311957074 \n",
            "Iter:    10 | Cost: -3.53930104842 \n",
            "Iter:     0 | Cost: -2.03814866340 \n",
            "Iter:    10 | Cost: -3.82823170950 \n",
            "Iter:     0 | Cost: -2.44119325891 \n",
            "Iter:    10 | Cost: -3.78783720610 \n",
            "Iter:     0 | Cost: -2.72776845307 \n",
            "Iter:    10 | Cost: -3.93299095537 \n"
          ]
        }
      ]
    },
    {
      "cell_type": "markdown",
      "source": [
        "#### Clique"
      ],
      "metadata": {
        "id": "hhjUeup7qtTd"
      }
    },
    {
      "cell_type": "code",
      "source": [
        "lr = 0.03\n",
        "epochs = 101\n",
        "\n",
        "cost_fn = lambda v: cost_function(v, H_clique)+offset_clique\n",
        "grad_fn = lambda var: lcu_gradients(ansatz_label, H_clique_lcu, var)\n",
        "lost_list, time_list, _ = train(cost_fn, grad_fn, epochs, var_init_clique, lr)\n",
        "lcul.append(lost_list)\n",
        "lcut.append(time_list)"
      ],
      "metadata": {
        "colab": {
          "base_uri": "https://localhost:8080/"
        },
        "id": "W_25lqQEqsvF",
        "outputId": "2a9fbbaf-003b-4586-b017-657055e03d9b"
      },
      "execution_count": 173,
      "outputs": [
        {
          "output_type": "stream",
          "name": "stdout",
          "text": [
            "Iter:     0 | Cost: 0.12889348726 \n",
            "Iter:    10 | Cost: -1.94362101683 \n",
            "Iter:    20 | Cost: -2.34559567383 \n",
            "Iter:    30 | Cost: -2.45196028842 \n",
            "Iter:    40 | Cost: -2.48354286450 \n",
            "Iter:    50 | Cost: -2.49451567238 \n",
            "Iter:    60 | Cost: -2.49839653114 \n",
            "Iter:    70 | Cost: -2.49478568495 \n",
            "Iter:    80 | Cost: -2.49799505377 \n",
            "Iter:    90 | Cost: -2.49835671272 \n",
            "Iter:   100 | Cost: -2.49815187014 \n"
          ]
        }
      ]
    },
    {
      "cell_type": "code",
      "source": [
        "lr = 0.03\n",
        "epochs = 11\n",
        "\n",
        "np.random.seed(1)\n",
        "num_param_gates = 3\n",
        "\n",
        "temp1 = []\n",
        "temp2 = []\n",
        "for num_layers in steps:\n",
        "  var_init_cliquec = 0.5*np.random.randn(num_layers, num_param_gates*len(H_clique.wires))\n",
        "\n",
        "  cost_fn = lambda v: cost_function(v, H_clique)+offset_clique\n",
        "  grad_fn = lambda var: lcu_gradients(ansatz_label, H_clique_lcu, var)\n",
        "  lost_list, time_list, _ = train(cost_fn, grad_fn, epochs, var_init_cliquec, lr)\n",
        "  temp1.append(lost_list[-1])\n",
        "  temp2.append(time_list[-1])\n",
        "\n",
        "lculc.append(temp1)\n",
        "lcutc.append(temp2)"
      ],
      "metadata": {
        "colab": {
          "base_uri": "https://localhost:8080/"
        },
        "id": "5Jq5YIi0Rasa",
        "outputId": "341ca61b-e8bb-4180-c1a9-f20fa297f67b"
      },
      "execution_count": 174,
      "outputs": [
        {
          "output_type": "stream",
          "name": "stdout",
          "text": [
            "Iter:     0 | Cost: -0.32878854620 \n",
            "Iter:    10 | Cost: -1.87686385822 \n",
            "Iter:     0 | Cost: -0.62011189961 \n",
            "Iter:    10 | Cost: -2.40720219177 \n",
            "Iter:     0 | Cost: 1.03736341873 \n",
            "Iter:    10 | Cost: -2.63585339362 \n",
            "Iter:     0 | Cost: 0.69824350827 \n",
            "Iter:    10 | Cost: -2.78925391167 \n",
            "Iter:     0 | Cost: 1.96240124826 \n",
            "Iter:    10 | Cost: -2.65025204862 \n"
          ]
        }
      ]
    },
    {
      "cell_type": "markdown",
      "source": [
        "#### Binary Linear Programming"
      ],
      "metadata": {
        "id": "2oG0Eh7hq6oL"
      }
    },
    {
      "cell_type": "code",
      "source": [
        "lr = 0.03\n",
        "epochs = 101\n",
        "\n",
        "cost_fn = lambda v: cost_function(v, H_blp)+offset_blp\n",
        "grad_fn = lambda var: lcu_gradients(ansatz_label, H_blp_lcu, var)\n",
        "lost_list, time_list, _ = train(cost_fn, grad_fn, epochs, var_init_blp, lr)\n",
        "lcul.append(lost_list)\n",
        "lcut.append(time_list)"
      ],
      "metadata": {
        "colab": {
          "base_uri": "https://localhost:8080/"
        },
        "id": "Q071KedTq6NV",
        "outputId": "25ad344d-a2fd-4166-ee80-2091443e4f96"
      },
      "execution_count": 175,
      "outputs": [
        {
          "output_type": "stream",
          "name": "stdout",
          "text": [
            "Iter:     0 | Cost: 667294.31366741285 \n",
            "Iter:    10 | Cost: 380039.14750654978 \n",
            "Iter:    20 | Cost: 306427.84090514819 \n",
            "Iter:    30 | Cost: 257869.31339366932 \n",
            "Iter:    40 | Cost: 213104.50375085528 \n",
            "Iter:    50 | Cost: 189464.36864009302 \n",
            "Iter:    60 | Cost: 183724.44258928933 \n",
            "Iter:    70 | Cost: 183028.39590268594 \n",
            "Iter:    80 | Cost: 183000.09582122671 \n",
            "Iter:    90 | Cost: 183001.76578554459 \n",
            "Iter:   100 | Cost: 183005.17231672612 \n"
          ]
        }
      ]
    },
    {
      "cell_type": "code",
      "source": [
        "lr = 0.03\n",
        "epochs = 11\n",
        "\n",
        "np.random.seed(1)\n",
        "num_param_gates = 3\n",
        "\n",
        "temp1 = []\n",
        "temp2 = []\n",
        "for num_layers in steps:\n",
        "  var_init_blpc = 0.5*np.random.randn(num_layers, num_param_gates*len(H_blp.wires))\n",
        "\n",
        "  cost_fn = lambda v: cost_function(v, H_blp)+offset_blp\n",
        "  grad_fn = lambda var: lcu_gradients(ansatz_label, H_blp_lcu, var)\n",
        "  lost_list, time_list, _ = train(cost_fn, grad_fn, epochs, var_init_blpc, lr)\n",
        "  temp1.append(lost_list[-1])\n",
        "  temp2.append(time_list[-1])\n",
        "\n",
        "lculc.append(temp1)\n",
        "lcutc.append(temp2)"
      ],
      "metadata": {
        "colab": {
          "base_uri": "https://localhost:8080/"
        },
        "id": "AL6VYvCHReKe",
        "outputId": "9ec957fd-705a-432d-aa7b-d8bcafce7269"
      },
      "execution_count": 176,
      "outputs": [
        {
          "output_type": "stream",
          "name": "stdout",
          "text": [
            "Iter:     0 | Cost: 631720.31831967935 \n",
            "Iter:    10 | Cost: 314801.59237132064 \n",
            "Iter:     0 | Cost: 659107.38464029436 \n",
            "Iter:    10 | Cost: 285518.82152659062 \n",
            "Iter:     0 | Cost: 601268.39232154237 \n",
            "Iter:    10 | Cost: 233156.36877137632 \n",
            "Iter:     0 | Cost: 416790.04523771151 \n",
            "Iter:    10 | Cost: 194202.64663859439 \n",
            "Iter:     0 | Cost: 445969.56532474287 \n",
            "Iter:    10 | Cost: 217817.13097259443 \n"
          ]
        }
      ]
    },
    {
      "cell_type": "markdown",
      "source": [
        "#### Knapsack"
      ],
      "metadata": {
        "id": "aAA1jwFFrJb-"
      }
    },
    {
      "cell_type": "code",
      "source": [
        "lr = 0.03\n",
        "epochs = 101\n",
        "\n",
        "cost_fn = lambda v: cost_function(v, H_ks)+offset_ks\n",
        "grad_fn = lambda var: lcu_gradients(ansatz_label, H_ks_lcu, var)\n",
        "lost_list, time_list, _ = train(cost_fn, grad_fn, epochs, var_init_ks, lr)\n",
        "lcul.append(lost_list)\n",
        "lcut.append(time_list)"
      ],
      "metadata": {
        "id": "uXPpC2UErIsg",
        "colab": {
          "base_uri": "https://localhost:8080/"
        },
        "outputId": "44984fcf-1000-45fb-d3ef-1c67a21f1d25"
      },
      "execution_count": 177,
      "outputs": [
        {
          "output_type": "stream",
          "name": "stdout",
          "text": [
            "Iter:     0 | Cost: 27.69312856107 \n",
            "Iter:    10 | Cost: 5.54870502942 \n",
            "Iter:    20 | Cost: 3.09184860769 \n",
            "Iter:    30 | Cost: 0.91336450593 \n",
            "Iter:    40 | Cost: -1.70638927527 \n",
            "Iter:    50 | Cost: -2.75645495037 \n",
            "Iter:    60 | Cost: -2.96160359888 \n",
            "Iter:    70 | Cost: -2.99657026131 \n",
            "Iter:    80 | Cost: -2.99991661554 \n",
            "Iter:    90 | Cost: -2.99999933457 \n",
            "Iter:   100 | Cost: -2.99999999960 \n"
          ]
        }
      ]
    },
    {
      "cell_type": "code",
      "source": [
        "lr = 0.03\n",
        "epochs = 11\n",
        "\n",
        "np.random.seed(1)\n",
        "num_param_gates = 3\n",
        "\n",
        "temp1 = []\n",
        "temp2 = []\n",
        "for num_layers in steps:\n",
        "  var_init_ksc = 0.5*np.random.randn(num_layers, num_param_gates*len(H_ks.wires))\n",
        "\n",
        "  cost_fn = lambda v: cost_function(v, H_ks)+offset_ks\n",
        "  grad_fn = lambda var: lcu_gradients(ansatz_label, H_ks_lcu, var)\n",
        "  lost_list, time_list, _ = train(cost_fn, grad_fn, epochs, var_init_ksc, lr)\n",
        "  temp1.append(lost_list[-1])\n",
        "  temp2.append(time_list[-1])\n",
        "\n",
        "lculc.append(temp1)\n",
        "lcutc.append(temp2)"
      ],
      "metadata": {
        "colab": {
          "base_uri": "https://localhost:8080/"
        },
        "id": "NyXMxu1IRhGc",
        "outputId": "64dfcff7-84cd-44e9-d227-0855e9da8ce5"
      },
      "execution_count": 178,
      "outputs": [
        {
          "output_type": "stream",
          "name": "stdout",
          "text": [
            "Iter:     0 | Cost: 16.08365820085 \n",
            "Iter:    10 | Cost: 2.24360521907 \n",
            "Iter:     0 | Cost: 15.75963494829 \n",
            "Iter:    10 | Cost: -0.20698997864 \n",
            "Iter:     0 | Cost: 14.88568424087 \n",
            "Iter:    10 | Cost: 0.18794862926 \n",
            "Iter:     0 | Cost: 7.31937591142 \n",
            "Iter:    10 | Cost: -0.99668318014 \n",
            "Iter:     0 | Cost: 7.32230064599 \n",
            "Iter:    10 | Cost: -1.77927028829 \n"
          ]
        }
      ]
    },
    {
      "cell_type": "markdown",
      "metadata": {
        "id": "momMWW-lp3Y6"
      },
      "source": [
        "### Quantum natural gradient (QNG)"
      ]
    },
    {
      "cell_type": "markdown",
      "source": [
        "#### Max-Cut"
      ],
      "metadata": {
        "id": "p-cJoN4rrfLO"
      }
    },
    {
      "cell_type": "code",
      "source": [
        "lr = 0.03\n",
        "epochs = 101\n",
        "\n",
        "cost_fn = lambda v: cost_function(v, H_maxcut)+offset_maxcut\n",
        "grad_fn = lambda var: quantum_natural_gradient(var, H_maxcut, lambda x: cost_function(x, H_maxcut))\n",
        "lost_list, time_list, var = train(cost_fn, grad_fn, epochs, var_init_maxcut, lr)\n",
        "qngl.append(lost_list)\n",
        "qngt.append(time_list)"
      ],
      "metadata": {
        "id": "HFPVe3SIrhKz",
        "colab": {
          "base_uri": "https://localhost:8080/"
        },
        "outputId": "84be4c8a-5a94-4d40-b3c6-71ed638018f5"
      },
      "execution_count": 179,
      "outputs": [
        {
          "output_type": "stream",
          "name": "stdout",
          "text": [
            "Iter:     0 | Cost: -1.71576906628 \n",
            "Iter:    10 | Cost: -2.94158929673 \n",
            "Iter:    20 | Cost: -3.13068320944 \n",
            "Iter:    30 | Cost: -3.36294602625 \n",
            "Iter:    40 | Cost: -3.48846869463 \n",
            "Iter:    50 | Cost: -3.49989231938 \n",
            "Iter:    60 | Cost: -3.49999996582 \n",
            "Iter:    70 | Cost: -3.49999801559 \n",
            "Iter:    80 | Cost: -3.49820721489 \n",
            "Iter:    90 | Cost: -3.49992933663 \n",
            "Iter:   100 | Cost: -3.49762942548 \n"
          ]
        }
      ]
    },
    {
      "cell_type": "code",
      "source": [
        "lr = 0.03\n",
        "epochs = 11\n",
        "\n",
        "np.random.seed(1)\n",
        "num_param_gates = 3\n",
        "\n",
        "temp1 = []\n",
        "temp2 = []\n",
        "for num_layers in steps:\n",
        "  var_init_maxcutc = 0.5*np.random.randn(num_layers, num_param_gates*len(H_maxcut.wires))\n",
        "\n",
        "  cost_fn = lambda v: cost_function(v, H_maxcut)+offset_maxcut\n",
        "  grad_fn = lambda var: quantum_natural_gradient(var, H_maxcut, lambda x: cost_function(x, H_maxcut))\n",
        "  lost_list, time_list, _ = train(cost_fn, grad_fn, epochs, var_init_maxcutc, lr)\n",
        "  temp1.append(lost_list[-1])\n",
        "  temp2.append(time_list[-1])\n",
        "\n",
        "qnglc.append(temp1)\n",
        "qngtc.append(temp2)"
      ],
      "metadata": {
        "colab": {
          "base_uri": "https://localhost:8080/"
        },
        "id": "tezfK0oIRxuc",
        "outputId": "52e11d1e-7ffe-48e6-94da-0994e7c3361f"
      },
      "execution_count": 180,
      "outputs": [
        {
          "output_type": "stream",
          "name": "stdout",
          "text": [
            "Iter:     0 | Cost: -1.71576906628 \n",
            "Iter:    10 | Cost: -2.94158929673 \n",
            "Iter:     0 | Cost: -1.89311957074 \n",
            "Iter:    10 | Cost: -3.52430019209 \n",
            "Iter:     0 | Cost: -2.03814866340 \n",
            "Iter:    10 | Cost: -3.80382532070 \n",
            "Iter:     0 | Cost: -2.44119325891 \n",
            "Iter:    10 | Cost: -3.75066334223 \n",
            "Iter:     0 | Cost: -2.72776845307 \n",
            "Iter:    10 | Cost: -3.94299216077 \n"
          ]
        }
      ]
    },
    {
      "cell_type": "markdown",
      "source": [
        "#### Clique"
      ],
      "metadata": {
        "id": "1KUbQst24ohL"
      }
    },
    {
      "cell_type": "code",
      "source": [
        "lr = 0.03\n",
        "epochs = 101\n",
        "\n",
        "cost_fn = lambda v: cost_function(v, H_clique)+offset_clique\n",
        "grad_fn = lambda var: quantum_natural_gradient(var, H_clique, lambda x: cost_function(x, H_clique))\n",
        "lost_list, time_list, var = train(cost_fn, grad_fn, epochs, var_init_clique, lr)\n",
        "qngl.append(lost_list)\n",
        "qngt.append(time_list)"
      ],
      "metadata": {
        "colab": {
          "base_uri": "https://localhost:8080/"
        },
        "id": "VUvvdu-f4oIY",
        "outputId": "325c14ad-4cd4-4af2-b112-54b6bee11772"
      },
      "execution_count": 181,
      "outputs": [
        {
          "output_type": "stream",
          "name": "stdout",
          "text": [
            "Iter:     0 | Cost: 0.12889348726 \n",
            "Iter:    10 | Cost: -1.98051676934 \n",
            "Iter:    20 | Cost: -2.38448988278 \n",
            "Iter:    30 | Cost: -2.47336961917 \n",
            "Iter:    40 | Cost: -2.49448072990 \n",
            "Iter:    50 | Cost: -2.49915735631 \n",
            "Iter:    60 | Cost: -2.49835263197 \n",
            "Iter:    70 | Cost: -2.49654218255 \n",
            "Iter:    80 | Cost: -2.49596293365 \n",
            "Iter:    90 | Cost: -2.49708931975 \n",
            "Iter:   100 | Cost: -2.49710555116 \n"
          ]
        }
      ]
    },
    {
      "cell_type": "code",
      "source": [
        "lr = 0.03\n",
        "epochs = 11\n",
        "\n",
        "np.random.seed(1)\n",
        "num_param_gates = 3\n",
        "\n",
        "temp1 = []\n",
        "temp2 = []\n",
        "for num_layers in steps:\n",
        "  var_init_cliquec = 0.5*np.random.randn(num_layers, num_param_gates*len(H_clique.wires))\n",
        "\n",
        "  cost_fn = lambda v: cost_function(v, H_clique)+offset_clique\n",
        "  grad_fn = lambda var: quantum_natural_gradient(var, H_clique, lambda x: cost_function(x, H_clique))\n",
        "  lost_list, time_list, _ = train(cost_fn, grad_fn, epochs, var_init_cliquec, lr)\n",
        "  temp1.append(lost_list[-1])\n",
        "  temp2.append(time_list[-1])\n",
        "\n",
        "qnglc.append(temp1)\n",
        "qngtc.append(temp2)"
      ],
      "metadata": {
        "colab": {
          "base_uri": "https://localhost:8080/"
        },
        "id": "Rg_AzVkRSY5v",
        "outputId": "f2fbe4c7-8c7d-4ff3-9534-10d502c14588"
      },
      "execution_count": 182,
      "outputs": [
        {
          "output_type": "stream",
          "name": "stdout",
          "text": [
            "Iter:     0 | Cost: -0.32878854620 \n",
            "Iter:    10 | Cost: -1.89797534034 \n",
            "Iter:     0 | Cost: -0.62011189961 \n",
            "Iter:    10 | Cost: -2.40719880305 \n",
            "Iter:     0 | Cost: 1.03736341873 \n",
            "Iter:    10 | Cost: -2.64420626006 \n",
            "Iter:     0 | Cost: 0.69824350827 \n",
            "Iter:    10 | Cost: -2.88019649289 \n",
            "Iter:     0 | Cost: 1.96240124826 \n",
            "Iter:    10 | Cost: -2.65269430960 \n"
          ]
        }
      ]
    },
    {
      "cell_type": "markdown",
      "source": [
        "#### Binary Linear Programming"
      ],
      "metadata": {
        "id": "qGLNd_8X4ufi"
      }
    },
    {
      "cell_type": "code",
      "source": [
        "lr = 0.03\n",
        "epochs = 101\n",
        "\n",
        "cost_fn = lambda v: cost_function(v, H_blp)+offset_blp\n",
        "grad_fn = lambda var: quantum_natural_gradient(var, H_blp, lambda x: cost_function(x, H_blp))\n",
        "lost_list, time_list, var = train(cost_fn, grad_fn, epochs, var_init_blp, lr)\n",
        "qngl.append(lost_list)\n",
        "qngt.append(time_list)"
      ],
      "metadata": {
        "colab": {
          "base_uri": "https://localhost:8080/"
        },
        "id": "iM2b3HOh4xGJ",
        "outputId": "345fe13b-0ce2-4f2a-b470-e096593ff167"
      },
      "execution_count": 183,
      "outputs": [
        {
          "output_type": "stream",
          "name": "stdout",
          "text": [
            "Iter:     0 | Cost: 667294.31366741285 \n",
            "Iter:    10 | Cost: 379384.93510699947 \n",
            "Iter:    20 | Cost: 305970.33102191961 \n",
            "Iter:    30 | Cost: 259515.64303076611 \n",
            "Iter:    40 | Cost: 215924.21393206681 \n",
            "Iter:    50 | Cost: 190548.59450923366 \n",
            "Iter:    60 | Cost: 183798.14305362199 \n",
            "Iter:    70 | Cost: 183029.36085550371 \n",
            "Iter:    80 | Cost: 183000.08997043705 \n",
            "Iter:    90 | Cost: 183150.81531035417 \n",
            "Iter:   100 | Cost: 183107.66888175113 \n"
          ]
        }
      ]
    },
    {
      "cell_type": "code",
      "source": [
        "lr = 0.03\n",
        "epochs = 11\n",
        "\n",
        "np.random.seed(1)\n",
        "num_param_gates = 3\n",
        "\n",
        "temp1 = []\n",
        "temp2 = []\n",
        "for num_layers in steps:\n",
        "  var_init_blpc = 0.5*np.random.randn(num_layers, num_param_gates*len(H_blp.wires))\n",
        "\n",
        "  cost_fn = lambda v: cost_function(v, H_blp)+offset_blp\n",
        "  grad_fn = lambda var: quantum_natural_gradient(var, H_blp, lambda x: cost_function(x, H_blp))\n",
        "  lost_list, time_list, _ = train(cost_fn, grad_fn, epochs, var_init_blpc, lr)\n",
        "  temp1.append(lost_list[-1])\n",
        "  temp2.append(time_list[-1])\n",
        "\n",
        "qnglc.append(temp1)\n",
        "qngtc.append(temp2)"
      ],
      "metadata": {
        "colab": {
          "base_uri": "https://localhost:8080/"
        },
        "id": "iWyVFZVgScEz",
        "outputId": "672525eb-d550-4a19-f873-38f0aa292cf8"
      },
      "execution_count": 184,
      "outputs": [
        {
          "output_type": "stream",
          "name": "stdout",
          "text": [
            "Iter:     0 | Cost: 631720.31831967935 \n",
            "Iter:    10 | Cost: 310609.14970834123 \n",
            "Iter:     0 | Cost: 659107.38464029436 \n",
            "Iter:    10 | Cost: 286893.91628092993 \n",
            "Iter:     0 | Cost: 601268.39232154237 \n",
            "Iter:    10 | Cost: 241174.27440795535 \n",
            "Iter:     0 | Cost: 416790.04523771151 \n",
            "Iter:    10 | Cost: 190318.39447142021 \n",
            "Iter:     0 | Cost: 445969.56532474287 \n",
            "Iter:    10 | Cost: 218464.63893786777 \n"
          ]
        }
      ]
    },
    {
      "cell_type": "markdown",
      "source": [
        "#### Knapsack"
      ],
      "metadata": {
        "id": "r-78PRRn462g"
      }
    },
    {
      "cell_type": "code",
      "source": [
        "lr = 0.03\n",
        "epochs = 101\n",
        "\n",
        "cost_fn = lambda v: cost_function(v, H_ks)+offset_ks\n",
        "grad_fn = lambda var: quantum_natural_gradient(var, H_ks, lambda x: cost_function(x, H_ks))\n",
        "lost_list, time_list, var = train(cost_fn, grad_fn, epochs, var_init_ks, lr)\n",
        "qngl.append(lost_list)\n",
        "qngt.append(time_list)"
      ],
      "metadata": {
        "colab": {
          "base_uri": "https://localhost:8080/"
        },
        "id": "8LoQtYT45CsU",
        "outputId": "306f61a5-e956-41b0-a308-1896ddce04a9"
      },
      "execution_count": 185,
      "outputs": [
        {
          "output_type": "stream",
          "name": "stdout",
          "text": [
            "Iter:     0 | Cost: 27.69312856107 \n",
            "Iter:    10 | Cost: 5.43039157575 \n",
            "Iter:    20 | Cost: 3.26492687337 \n",
            "Iter:    30 | Cost: 1.49779972796 \n",
            "Iter:    40 | Cost: -1.28076821673 \n",
            "Iter:    50 | Cost: -2.63550292009 \n",
            "Iter:    60 | Cost: -2.93420437738 \n",
            "Iter:    70 | Cost: -2.99196568405 \n",
            "Iter:    80 | Cost: -2.99971705164 \n",
            "Iter:    90 | Cost: -2.99999862964 \n",
            "Iter:   100 | Cost: -2.99999998932 \n"
          ]
        }
      ]
    },
    {
      "cell_type": "code",
      "source": [
        "lr = 0.03\n",
        "epochs = 11\n",
        "\n",
        "np.random.seed(1)\n",
        "num_param_gates = 3\n",
        "\n",
        "temp1 = []\n",
        "temp2 = []\n",
        "for num_layers in steps:\n",
        "  var_init_ksc = 0.5*np.random.randn(num_layers, num_param_gates*len(H_ks.wires))\n",
        "\n",
        "  cost_fn = lambda v: cost_function(v, H_ks)+offset_ks\n",
        "  grad_fn = lambda var: quantum_natural_gradient(var, H_ks, lambda x: cost_function(x, H_ks))\n",
        "  lost_list, time_list, _ = train(cost_fn, grad_fn, epochs, var_init_ksc, lr)\n",
        "  temp1.append(lost_list[-1])\n",
        "  temp2.append(time_list[-1])\n",
        "\n",
        "qnglc.append(temp1)\n",
        "qngtc.append(temp2)"
      ],
      "metadata": {
        "colab": {
          "base_uri": "https://localhost:8080/"
        },
        "id": "W5-iCTCUSfd5",
        "outputId": "3aa75a3f-6e74-4c35-efe2-cfadc578935c"
      },
      "execution_count": 186,
      "outputs": [
        {
          "output_type": "stream",
          "name": "stdout",
          "text": [
            "Iter:     0 | Cost: 16.08365820085 \n",
            "Iter:    10 | Cost: 2.07597045523 \n",
            "Iter:     0 | Cost: 15.75963494829 \n",
            "Iter:    10 | Cost: -0.11421879380 \n",
            "Iter:     0 | Cost: 14.88568424087 \n",
            "Iter:    10 | Cost: -0.43520495104 \n",
            "Iter:     0 | Cost: 7.31937591142 \n",
            "Iter:    10 | Cost: -0.93943263154 \n",
            "Iter:     0 | Cost: 7.32230064599 \n",
            "Iter:    10 | Cost: -1.76263325941 \n"
          ]
        }
      ]
    },
    {
      "cell_type": "markdown",
      "metadata": {
        "id": "e73gqvIqp-1J"
      },
      "source": [
        "### Quantum newton gradient"
      ]
    },
    {
      "cell_type": "markdown",
      "source": [
        "#### Max-Cut"
      ],
      "metadata": {
        "id": "pcvKyZjX6UTt"
      }
    },
    {
      "cell_type": "code",
      "source": [
        "lr = 0.03\n",
        "epochs = 101\n",
        "\n",
        "cost_fn = lambda v: cost_function(v, H_maxcut)+offset_maxcut\n",
        "grad_fn = lambda var: newton_gradient(cost_function, H_maxcut, var)\n",
        "lost_list, time_list, var = train(cost_fn, grad_fn, epochs, var_init_maxcut, lr)\n",
        "qnwl.append(lost_list)\n",
        "qnwt.append(time_list)"
      ],
      "metadata": {
        "colab": {
          "base_uri": "https://localhost:8080/"
        },
        "id": "5nsuAop45vd4",
        "outputId": "da364251-8e61-4145-c941-66d9eff2b9a4"
      },
      "execution_count": 187,
      "outputs": [
        {
          "output_type": "stream",
          "name": "stdout",
          "text": [
            "Iter:     0 | Cost: -1.71576906628 \n",
            "Iter:    10 | Cost: -1.71850473536 \n",
            "Iter:    20 | Cost: -1.36066065645 \n",
            "Iter:    30 | Cost: -1.18409285018 \n",
            "Iter:    40 | Cost: -1.11012186717 \n",
            "Iter:    50 | Cost: -1.13243476049 \n",
            "Iter:    60 | Cost: -1.13243476049 \n",
            "Iter:    70 | Cost: -1.13243476049 \n",
            "Iter:    80 | Cost: -1.13243476049 \n",
            "Iter:    90 | Cost: -1.13243476049 \n",
            "Iter:   100 | Cost: -1.13243476049 \n"
          ]
        }
      ]
    },
    {
      "cell_type": "code",
      "source": [
        "lr = 0.03\n",
        "epochs = 11\n",
        "\n",
        "np.random.seed(1)\n",
        "num_param_gates = 3\n",
        "\n",
        "temp1 = []\n",
        "temp2 = []\n",
        "for num_layers in steps:\n",
        "  var_init_maxcutc = 0.5*np.random.randn(num_layers, num_param_gates*len(H_maxcut.wires))\n",
        "\n",
        "  cost_fn = lambda v: cost_function(v, H_maxcut)+offset_maxcut\n",
        "  grad_fn = lambda var: newton_gradient(cost_function, H_maxcut, var)\n",
        "  lost_list, time_list, _ = train(cost_fn, grad_fn, epochs, var_init_maxcutc, lr)\n",
        "  temp1.append(lost_list[-1])\n",
        "  temp2.append(time_list[-1])\n",
        "\n",
        "qnwlc.append(temp1)\n",
        "qnwtc.append(temp2)"
      ],
      "metadata": {
        "colab": {
          "base_uri": "https://localhost:8080/"
        },
        "id": "cFmG4iZXS0YE",
        "outputId": "c4998e05-0ff5-4173-a915-b3c2ba632740"
      },
      "execution_count": 188,
      "outputs": [
        {
          "output_type": "stream",
          "name": "stdout",
          "text": [
            "Iter:     0 | Cost: -1.71576906628 \n",
            "Iter:    10 | Cost: -1.71850473536 \n",
            "Iter:     0 | Cost: -1.89311957074 \n",
            "Iter:    10 | Cost: -1.73429417869 \n",
            "Iter:     0 | Cost: -2.03814866340 \n",
            "Iter:    10 | Cost: -2.33313924306 \n",
            "Iter:     0 | Cost: -2.44119325891 \n",
            "Iter:    10 | Cost: -2.48159679990 \n",
            "Iter:     0 | Cost: -2.72776845307 \n",
            "Iter:    10 | Cost: -2.62192118985 \n"
          ]
        }
      ]
    },
    {
      "cell_type": "markdown",
      "source": [
        "#### Clique"
      ],
      "metadata": {
        "id": "_DutEPjw6V4p"
      }
    },
    {
      "cell_type": "code",
      "source": [
        "lr = 0.03\n",
        "epochs = 101\n",
        "\n",
        "cost_fn = lambda v: cost_function(v, H_clique)+offset_clique\n",
        "grad_fn = lambda var: newton_gradient(cost_function,H_clique, var)\n",
        "lost_list, time_list, var = train(cost_fn, grad_fn, epochs, var_init_clique, lr)\n",
        "qnwl.append(lost_list)\n",
        "qnwt.append(time_list)"
      ],
      "metadata": {
        "colab": {
          "base_uri": "https://localhost:8080/"
        },
        "id": "gRB1HHjY6WU2",
        "outputId": "ef08c033-8194-405c-d1d9-188b5d379e2a"
      },
      "execution_count": 189,
      "outputs": [
        {
          "output_type": "stream",
          "name": "stdout",
          "text": [
            "Iter:     0 | Cost: 0.12889348726 \n",
            "Iter:    10 | Cost: -0.31452300132 \n",
            "Iter:    20 | Cost: -0.25653366548 \n",
            "Iter:    30 | Cost: -0.18387331512 \n",
            "Iter:    40 | Cost: -0.21614970695 \n",
            "Iter:    50 | Cost: -0.18339244434 \n",
            "Iter:    60 | Cost: -0.19351429325 \n",
            "Iter:    70 | Cost: -0.20566094515 \n",
            "Iter:    80 | Cost: -0.21779794447 \n",
            "Iter:    90 | Cost: -0.22216338878 \n",
            "Iter:   100 | Cost: -0.20894118717 \n"
          ]
        }
      ]
    },
    {
      "cell_type": "code",
      "source": [
        "lr = 0.03\n",
        "epochs = 11\n",
        "\n",
        "np.random.seed(1)\n",
        "num_param_gates = 3\n",
        "\n",
        "temp1 = []\n",
        "temp2 = []\n",
        "for num_layers in steps:\n",
        "  var_init_cliquec = 0.5*np.random.randn(num_layers, num_param_gates*len(H_clique.wires))\n",
        "\n",
        "  cost_fn = lambda v: cost_function(v, H_clique)+offset_clique\n",
        "  grad_fn = lambda var: newton_gradient(cost_function, H_clique, var)\n",
        "  lost_list, time_list, _ = train(cost_fn, grad_fn, epochs, var_init_cliquec, lr)\n",
        "  temp1.append(lost_list[-1])\n",
        "  temp2.append(time_list[-1])\n",
        "\n",
        "qnwlc.append(temp1)\n",
        "qnwtc.append(temp2)"
      ],
      "metadata": {
        "colab": {
          "base_uri": "https://localhost:8080/"
        },
        "id": "KPuE4dtyTBcT",
        "outputId": "3033ca5b-24e9-445d-9113-0da0a4bd2209"
      },
      "execution_count": 190,
      "outputs": [
        {
          "output_type": "stream",
          "name": "stdout",
          "text": [
            "Iter:     0 | Cost: -0.32878854620 \n",
            "Iter:    10 | Cost: -0.20022846601 \n",
            "Iter:     0 | Cost: -0.62011189961 \n",
            "Iter:    10 | Cost: -0.53309525404 \n",
            "Iter:     0 | Cost: 1.03736341873 \n",
            "Iter:    10 | Cost: 0.10987073962 \n",
            "Iter:     0 | Cost: 0.69824350827 \n",
            "Iter:    10 | Cost: 1.02110759141 \n",
            "Iter:     0 | Cost: 1.96240124826 \n",
            "Iter:    10 | Cost: 1.17849218135 \n"
          ]
        }
      ]
    },
    {
      "cell_type": "markdown",
      "source": [
        "#### Binary Linear Programming"
      ],
      "metadata": {
        "id": "Dn2S2eNJ7yaM"
      }
    },
    {
      "cell_type": "code",
      "source": [
        "lr = 0.03\n",
        "epochs = 101\n",
        "\n",
        "cost_fn = lambda v: cost_function(v, H_blp)+offset_blp\n",
        "grad_fn = lambda var: newton_gradient(cost_function,H_blp, var)\n",
        "lost_list, time_list, var = train(cost_fn, grad_fn, epochs, var_init_blp, lr)\n",
        "qnwl.append(lost_list)\n",
        "qnwt.append(time_list)"
      ],
      "metadata": {
        "colab": {
          "base_uri": "https://localhost:8080/"
        },
        "id": "c2IPkKez72CA",
        "outputId": "e72a1129-8238-48d2-e41e-f4dca3248e0b"
      },
      "execution_count": 191,
      "outputs": [
        {
          "output_type": "stream",
          "name": "stdout",
          "text": [
            "Iter:     0 | Cost: 667294.31366741285 \n",
            "Iter:    10 | Cost: 690334.54549528647 \n",
            "Iter:    20 | Cost: 671499.20702016901 \n",
            "Iter:    30 | Cost: 668653.97550555505 \n",
            "Iter:    40 | Cost: 656008.89458685904 \n",
            "Iter:    50 | Cost: 627538.89526915411 \n",
            "Iter:    60 | Cost: 614846.24665204855 \n",
            "Iter:    70 | Cost: 603938.77456902468 \n",
            "Iter:    80 | Cost: 615477.97207716934 \n",
            "Iter:    90 | Cost: 618169.03745157970 \n",
            "Iter:   100 | Cost: 618042.94608982676 \n"
          ]
        }
      ]
    },
    {
      "cell_type": "code",
      "source": [
        "lr = 0.03\n",
        "epochs = 11\n",
        "\n",
        "np.random.seed(1)\n",
        "num_param_gates = 3\n",
        "\n",
        "temp1 = []\n",
        "temp2 = []\n",
        "for num_layers in steps:\n",
        "  var_init_blpc = 0.5*np.random.randn(num_layers, num_param_gates*len(H_blp.wires))\n",
        "\n",
        "  cost_fn = lambda v: cost_function(v, H_blp)+offset_blp\n",
        "  grad_fn = lambda var: newton_gradient(cost_function, H_blp, var)\n",
        "  lost_list, time_list, _ = train(cost_fn, grad_fn, epochs, var_init_blpc, lr)\n",
        "  temp1.append(lost_list[-1])\n",
        "  temp2.append(time_list[-1])\n",
        "\n",
        "qnwlc.append(temp1)\n",
        "qnwtc.append(temp2)"
      ],
      "metadata": {
        "colab": {
          "base_uri": "https://localhost:8080/"
        },
        "id": "jJeMqaqwTGMw",
        "outputId": "737ddce5-8f38-4eda-8326-f84e535751b3"
      },
      "execution_count": 192,
      "outputs": [
        {
          "output_type": "stream",
          "name": "stdout",
          "text": [
            "Iter:     0 | Cost: 631720.31831967935 \n",
            "Iter:    10 | Cost: 599322.00991478935 \n",
            "Iter:     0 | Cost: 659107.38464029436 \n",
            "Iter:    10 | Cost: 570642.83680913050 \n",
            "Iter:     0 | Cost: 601268.39232154237 \n",
            "Iter:    10 | Cost: 542232.84276259376 \n",
            "Iter:     0 | Cost: 416790.04523771151 \n",
            "Iter:    10 | Cost: 404657.20671619033 \n",
            "Iter:     0 | Cost: 445969.56532474287 \n",
            "Iter:    10 | Cost: 444411.58454466052 \n"
          ]
        }
      ]
    },
    {
      "cell_type": "markdown",
      "source": [
        "#### Knapsack"
      ],
      "metadata": {
        "id": "F4FnnJbM8Xvu"
      }
    },
    {
      "cell_type": "code",
      "source": [
        "lr = 0.03\n",
        "epochs = 101\n",
        "\n",
        "cost_fn = lambda v: cost_function(v, H_ks)+offset_ks\n",
        "grad_fn = lambda var: newton_gradient(cost_function,H_ks, var)\n",
        "lost_list, time_list, var = train(cost_fn, grad_fn, epochs, var_init_ks, lr)\n",
        "qnwl.append(lost_list)\n",
        "qnwt.append(time_list)"
      ],
      "metadata": {
        "colab": {
          "base_uri": "https://localhost:8080/"
        },
        "id": "AYEr8HSH8Wny",
        "outputId": "19681427-7e77-47eb-e867-2a894b70eced"
      },
      "execution_count": 193,
      "outputs": [
        {
          "output_type": "stream",
          "name": "stdout",
          "text": [
            "Iter:     0 | Cost: 27.69312856107 \n",
            "Iter:    10 | Cost: 25.58231776269 \n",
            "Iter:    20 | Cost: 26.99859084016 \n",
            "Iter:    30 | Cost: 27.47495962099 \n",
            "Iter:    40 | Cost: 27.48408145429 \n",
            "Iter:    50 | Cost: 27.48652300947 \n",
            "Iter:    60 | Cost: 27.47341333258 \n",
            "Iter:    70 | Cost: 27.40396548888 \n",
            "Iter:    80 | Cost: 27.24029280761 \n",
            "Iter:    90 | Cost: 26.94434907993 \n",
            "Iter:   100 | Cost: 26.50596422249 \n"
          ]
        }
      ]
    },
    {
      "cell_type": "code",
      "source": [
        "lr = 0.03\n",
        "epochs = 11\n",
        "\n",
        "np.random.seed(1)\n",
        "num_param_gates = 3\n",
        "\n",
        "temp1 = []\n",
        "temp2 = []\n",
        "for num_layers in steps:\n",
        "  var_init_ksc = 0.5*np.random.randn(num_layers, num_param_gates*len(H_ks.wires))\n",
        "\n",
        "  cost_fn = lambda v: cost_function(v, H_ks)+offset_ks\n",
        "  grad_fn = lambda var: newton_gradient(cost_function, H_ks, var)\n",
        "  lost_list, time_list, _ = train(cost_fn, grad_fn, epochs, var_init_ksc, lr)\n",
        "  temp1.append(lost_list[-1])\n",
        "  temp2.append(time_list[-1])\n",
        "\n",
        "qnwlc.append(temp1)\n",
        "qnwtc.append(temp2)"
      ],
      "metadata": {
        "colab": {
          "base_uri": "https://localhost:8080/"
        },
        "id": "u-gME3g0TMuP",
        "outputId": "e9e68314-18e7-4fba-bc05-4ae6f3ea4e8e"
      },
      "execution_count": 194,
      "outputs": [
        {
          "output_type": "stream",
          "name": "stdout",
          "text": [
            "Iter:     0 | Cost: 16.08365820085 \n",
            "Iter:    10 | Cost: 15.47712318345 \n",
            "Iter:     0 | Cost: 15.75963494829 \n",
            "Iter:    10 | Cost: 15.78756443579 \n",
            "Iter:     0 | Cost: 14.88568424087 \n",
            "Iter:    10 | Cost: 11.78650154463 \n",
            "Iter:     0 | Cost: 7.31937591142 \n",
            "Iter:    10 | Cost: 4.67434676945 \n",
            "Iter:     0 | Cost: 7.32230064599 \n",
            "Iter:    10 | Cost: 6.56544806345 \n"
          ]
        }
      ]
    },
    {
      "cell_type": "markdown",
      "source": [
        "#**Benchmarking** "
      ],
      "metadata": {
        "id": "Dy0xupPD9K8O"
      }
    },
    {
      "cell_type": "markdown",
      "source": [
        "### Contour Plot"
      ],
      "metadata": {
        "id": "CLdbB84Men8d"
      }
    },
    {
      "cell_type": "code",
      "source": [
        "#@title Train Contour\n",
        "def train_contour(cost_fn, grad_fn, epochs, var_init, lr):\n",
        "  lost_list = []\n",
        "  var_list = []\n",
        "  var = var_init.copy()\n",
        "  var_list.append(var)\n",
        "  opt = qml.RMSPropOptimizer(lr)\n",
        "\n",
        "  start = time.time()\n",
        "\n",
        "  for it in range(epochs):# while True:\n",
        "      \n",
        "      var, _cost = opt.step_and_cost(cost_fn, var, grad_fn=grad_fn) \n",
        "      lost_list.append(_cost.numpy())\n",
        "      var_list.append(var)\n",
        "      # if it%10==0:\n",
        "      #   print(\"Iter: {:5d} | Cost: {:0.11f} \".format(it, _cost))\n",
        "\n",
        "      end = time.time()\n",
        "      t = end - start\n",
        "  return lost_list, var_list\n",
        "\n",
        "\n",
        "def quantum_natural_gradient_contour(var, H, cost_function):\n",
        "  num_wires = len(H.wires)\n",
        "  dev = qml.device('default.qubit', wires=num_wires)\n",
        "\n",
        "  @qml.qnode(dev)\n",
        "  def metric_tensor_circuit(var):\n",
        "    for v in var: \n",
        "      ansatz_contour(v)\n",
        "    return qml.expval(H)\n",
        "\n",
        "  metric_fn = qml.metric_tensor(metric_tensor_circuit, approx=\"block-diag\", hybrid=False)\n",
        "  grad = parameter_shift(cost_function, var)\n",
        "  grad_flatten = grad.flatten()\n",
        "  metric_tensor = metric_fn(var)\n",
        "  try:\n",
        "    qng_grad = np.linalg.solve(metric_tensor, grad_flatten)\n",
        "  except: \n",
        "    qng_grad = np.linalg.lstsq(metric_tensor, grad_flatten, rcond=None)[0]\n",
        "  return qng_grad\n",
        "\n",
        "\n",
        "param_gates = ['RX', 'RY', 'RZ']\n",
        "\n",
        "def lcu_term(ansatz, params, wires, diff_index, num_wires, num_layers):\n",
        "  qml.Hadamard(wires=num_wires)\n",
        "  break_point = len(ansatz)//num_layers\n",
        "  qml.adjoint(qml.S)(wires=num_wires)\n",
        "\n",
        "  counting = 0\n",
        "  for i, gate in enumerate(ansatz):\n",
        "    \n",
        "    if gate in param_gates:\n",
        "      if i == diff_index:\n",
        "        controlStr(gate)(wires=[num_wires, diff_index//2])\n",
        "      str2gate(gate)(params[counting], wires=wires[i])\n",
        "      counting += 1\n",
        "    else:\n",
        "      str2gate(gate)(wires=wires[i])\n",
        "    if i!=0 and (i+1)%break_point==0:\n",
        "      fully_connected_layer(num_wires)\n",
        "  qml.Hadamard(wires=num_wires)\n",
        "\n",
        "def lcu_gradients_contour(ansatz_label, H, params):\n",
        "  num_layers = len(params)\n",
        "  num_wires = len(H.wires)-1\n",
        "  num_param_gates = len(params[0])//num_wires\n",
        "\n",
        "  ansatz = ansatz_label * num_layers * num_wires\n",
        "  \n",
        "  wires = []\n",
        "  for i in range(num_layers):\n",
        "    for j in range(num_wires):\n",
        "      for k in range(2):\n",
        "        wires.append(j)\n",
        "  params = params.flatten()\n",
        "\n",
        "  dev = qml.device(\"default.qubit\", wires=num_wires+1)\n",
        "  @qml.qnode(dev)\n",
        "  def lcu(ansatz, H, params, wires, diff_index):\n",
        "    \n",
        "    lcu_term(ansatz, params, wires, diff_index, num_wires, num_layers)\n",
        "    \n",
        "    return qml.expval(H)\n",
        "\n",
        "  gradients = []\n",
        "  for i in range(len(ansatz)):\n",
        "    if ansatz[i] in param_gates:\n",
        "      gradients.append(lcu(ansatz, H, params, wires, i))\n",
        "      \n",
        "  return np.array(gradients).reshape(num_layers, -1)\n",
        "\n",
        "def newton_gradient_contour(H, params):\n",
        "  num_layers = len(params)\n",
        "  params = params.reshape(1,-1)[0]\n",
        "  num_wires = len(H.wires)\n",
        "  dev = qml.device('default.qubit', wires=num_wires)\n",
        "\n",
        "  @qml.qnode(dev)\n",
        "  def circuit(var,H):\n",
        "    qml.RX(var[0], wires=0)\n",
        "    qml.RZ(var[1], wires=0)\n",
        "    return qml.expval(H)\n",
        "\n",
        "  grad_fn = qml.grad(circuit)\n",
        "  hes_fn = qml.jacobian(grad_fn)\n",
        "  grad = grad_fn(params, H)\n",
        "  hessian_matrix = hes_fn(params, H)\n",
        "  \n",
        "  try:\n",
        "    #x = np.linalg.inv(hessian_matrix)\n",
        "    newton_grad = np.linalg.solve(hessian_matrix, grad)\n",
        "  except: \n",
        "    #x = np.linalg.pinv(hessian_matrix)\n",
        "    newton_grad = np.linalg.lstsq(hessian_matrix, grad, rcond=None)[0] \n",
        "  \n",
        "  return newton_grad.reshape(num_layers,-1)"
      ],
      "metadata": {
        "cellView": "form",
        "id": "T5J8IafWnQNb"
      },
      "execution_count": 195,
      "outputs": []
    },
    {
      "cell_type": "code",
      "source": [
        "#@title Gradient Plot\n",
        "blp = Model(\"docplex model\")\n",
        "x1 = blp.binary_var(\"x1\")\n",
        "\n",
        "blp.minimize(95000*x1)\n",
        "blp.add_constraint(x1 >= 1)\n",
        "# load from a Docplex model\n",
        "qp_blp = from_docplex_mp(blp)\n",
        "print(qp_blp.export_as_lp_string())\n",
        "qubo_blp = qp2qubo.convert(qp_blp) \n",
        "qubitOp_blp, offset_contour = qubo_blp.to_ising()\n",
        "\n",
        "qubitOp_blp += 0.5*I\n",
        "H_contour_lcu = qml.Hamiltonian([0.5, 0.0], [qml.PauliZ(0)@qml.PauliZ(1), qml.Identity(0)])\n",
        "H_contour = hamiltonian_from_qiskit(qubitOp_blp)\n",
        "\n",
        "from tqdm.notebook import tqdm\n",
        "# objective function\n",
        "def ansatz_contour(var):\n",
        "    qml.RX(var[0], wires=0)\n",
        "    qml.RZ(var[1], wires=0)\n",
        "    \n",
        "def cost_function_contour(var, H):\n",
        "  num_wires = len(H.wires)\n",
        "  dev = qml.device('default.qubit', wires=num_wires)\n",
        "\n",
        "  @qml.qnode(dev)\n",
        "  def circuit(var, H):\n",
        "    ansatz_contour(var[0])\n",
        "    return qml.expval(H)\n",
        "\n",
        "  return circuit(var, H)\n",
        "\n",
        "X = np.linspace(-8, 8, 50)\n",
        "Y = np.linspace(-8, 8, 50)\n",
        "X_m, Y_m = np.meshgrid(X, Y)\n",
        "Z = np.zeros((50, 50))\n",
        "for i in tqdm(range(50)):\n",
        "  for j in range(50):\n",
        "    var = np.array([[X_m[i, j], Y_m[i, j]]])\n",
        "    Z[i, j] = cost_function_contour(var, H_contour)\n",
        "\n",
        "lr = 0.03\n",
        "epochs = 201\n",
        "var_contour = np.array([[0.8163265, 0.8163265+1]])\n",
        "cost_fn = lambda v: cost_function_contour(v, H_contour)+offset_contour\n",
        "grad_fn = lambda var: parameter_shift(lambda x: cost_function_contour(x, H_contour), var)\n",
        "lost_list_ps, var_list_ps = train_contour(cost_fn, grad_fn, epochs, var_contour, lr)\n",
        "\n",
        "var_contour = np.array([[0.8163265, 0.8163265+0.5]])\n",
        "cost_fn = lambda v: cost_function_contour(v, H_contour)+offset_contour\n",
        "grad_fn = lambda var: finite_difference(lambda x: cost_function_contour(x, H_contour), var)\n",
        "lost_list_fd, var_list_fd = train_contour(cost_fn, grad_fn, epochs, var_contour, lr)\n",
        "\n",
        "var_contour = np.array([[0.8163265, 0.8163265]])\n",
        "ansatz_label = [\"RX\", \"RZ\"]\n",
        "cost_fn = lambda v: cost_function_contour(v, H_contour)+offset_contour\n",
        "grad_fn = lambda var: lcu_gradients_contour(ansatz_label, H_contour_lcu, var)\n",
        "lost_list_lcu, var_list_lcu = train_contour(cost_fn, grad_fn, epochs, var_contour, lr)\n",
        "\n",
        "var_contour = np.array([[0.8163265, 0.8163265-0.5]])\n",
        "cost_fn = lambda v: cost_function_contour(v, H_contour)+offset_contour\n",
        "grad_fn = lambda var: quantum_natural_gradient_contour(var, H_contour, lambda x: cost_function_contour(x, H_contour))\n",
        "lost_list_qng, var_list_qng = train_contour(cost_fn, grad_fn, epochs, var_contour, lr)\n",
        "\n",
        "var_contour = np.array([[0.8163265, 0.8163265-1.0]])\n",
        "cost_fn = lambda v: cost_function_contour(v, H_contour)+offset_contour\n",
        "grad_fn = lambda var: newton_gradient_contour(H_contour, var)\n",
        "lost_list_qnw, var_list_qnw = train_contour(cost_fn, grad_fn, epochs, var_contour, lr)\n",
        "\n",
        "\n",
        "a_ps = []\n",
        "b_ps = []\n",
        "for var in var_list_ps:\n",
        "  a_ps.append(var[0][0]+0.1)\n",
        "  b_ps.append(var[0][1])\n",
        "c_ps = [v-offset_contour for v in lost_list_ps]\n",
        "\n",
        "fig = go.Figure(data=[go.Surface(x=X, y=Y, z=Z, showscale=False)])\n",
        "fig.add_trace(go.Scatter3d(x=a_ps, y=b_ps,z=c_ps, mode='lines',\n",
        "                           line=dict(\n",
        "                              color='yellow',\n",
        "                              width=10\n",
        "                          )))\n",
        "fig.add_trace(go.Scatter3d(x=[a_ps[0]], y=[b_ps[0]],z=[c_ps[0]], marker=dict(\n",
        "        size=7,\n",
        "        color=\"yellow\"\n",
        "    ), name=\"Parameter Shift Rule\" ))\n",
        "\n",
        "\n",
        "a_fd = []\n",
        "b_fd = []\n",
        "for var in var_list_fd:\n",
        "  a_fd.append(var[0][0]+0.1)\n",
        "  b_fd.append(var[0][1])\n",
        "c_fd = [v-offset_contour for v in lost_list_fd]\n",
        "fig.add_trace(go.Scatter3d(x=a_fd, y=b_fd,z=c_fd, mode='lines',\n",
        "                           line=dict(\n",
        "                              color='blue',\n",
        "                              width=10\n",
        "                          )))\n",
        "fig.add_trace(go.Scatter3d(x=[a_fd[0]], y=[b_fd[0]],z=[c_fd[0]], marker=dict(\n",
        "        size=7,\n",
        "        color=\"blue\"\n",
        "    ), name=\"Finite Difference\" ))\n",
        "\n",
        "a_lcu = []\n",
        "b_lcu = []\n",
        "for var in var_list_lcu:\n",
        "  a_lcu.append(var[0][0]+0.1)\n",
        "  b_lcu.append(var[0][1])\n",
        "c_lcu = [v-offset_contour for v in lost_list_lcu]\n",
        "fig.add_trace(go.Scatter3d(x=a_lcu, y=b_lcu,z=c_lcu, mode='lines',\n",
        "                           line=dict(\n",
        "                              color='red',\n",
        "                              width=10\n",
        "                          )))\n",
        "fig.add_trace(go.Scatter3d(x=[a_lcu[0]], y=[b_lcu[0]],z=[c_lcu[0]], marker=dict(\n",
        "        size=7,\n",
        "        color=\"red\"\n",
        "    ), name=\"Linear Combination of Unitaries\" ))\n",
        "\n",
        "\n",
        "a_qng = []\n",
        "b_qng = []\n",
        "for var in var_list_qng:\n",
        "  a_qng.append(var[0][0]+0.1)\n",
        "  b_qng.append(var[0][1])\n",
        "c_qng = [v-offset_contour for v in lost_list_qng]\n",
        "fig.add_trace(go.Scatter3d(x=a_qng, y=b_qng,z=c_qng, mode='lines',\n",
        "                           line=dict(\n",
        "                              color='purple',\n",
        "                              width=10\n",
        "                          )))\n",
        "fig.add_trace(go.Scatter3d(x=[a_qng[0]], y=[b_qng[0]],z=[c_qng[0]], marker=dict(\n",
        "        size=7,\n",
        "        color=\"purple\"\n",
        "    ), name=\"Quantum Natural Gradient\" ))\n",
        "\n",
        "a_qnw = []\n",
        "b_qnw = []\n",
        "for var in var_list_qnw:\n",
        "  a_qnw.append(var[0][0]+0.1)\n",
        "  b_qnw.append(var[0][1])\n",
        "c_qnw = [v-offset_contour for v in lost_list_qnw]\n",
        "fig.add_trace(go.Scatter3d(x=a_qnw, y=b_qnw,z=c_qnw, mode='lines',\n",
        "                           line=dict(\n",
        "                              color='black',\n",
        "                              width=10\n",
        "                          )))\n",
        "fig.add_trace(go.Scatter3d(x=[a_qnw[0]], y=[b_qnw[0]],z=[c_qnw[0]], marker=dict(\n",
        "        size=7,\n",
        "        color=\"black\"\n",
        "    ), name=\"Quantum Newton Gradient\" ))\n",
        "\n",
        "for trace in fig['data']: \n",
        "    if(trace['name'] is None): trace['showlegend'] = False\n",
        "\n",
        "\n",
        "fig.update_layout(title='Max-Cut Cost Funtion', autosize=False,\n",
        "    width=1000,\n",
        "    height=1000)\n",
        "\n",
        "fig.show()\n"
      ],
      "metadata": {
        "colab": {
          "base_uri": "https://localhost:8080/",
          "height": 1000,
          "referenced_widgets": [
            "c0b2832d46764806ab830ccdab846bec",
            "b93825b458344eebb147ae379d6a9211",
            "32fe9afd611a40ae94f38848a786c2a8",
            "3a83a0b014c94153bed9ce8c0502db77",
            "75cc2d701b224984b316415eb2c2176b",
            "8cd974efb940465b86815a72f4a4bcfc",
            "5664a9631a0f4521adbcdb1be9b0d10c",
            "b42fa912c7f14e128620ca8933aea8cf",
            "2bf263c2734d40ca9d6fea04b95102de",
            "72448a604d394dddae98d4b74f0f52c8",
            "8e88211ea4ec4362a500ac42062c8d35"
          ]
        },
        "cellView": "form",
        "id": "RmDWARV9qOhL",
        "outputId": "2b45a774-9661-400e-fc49-430e5c47848c"
      },
      "execution_count": 196,
      "outputs": [
        {
          "output_type": "stream",
          "name": "stdout",
          "text": [
            "\\ This file has been generated by DOcplex\n",
            "\\ ENCODING=ISO-8859-1\n",
            "\\Problem name: docplex model\n",
            "\n",
            "Minimize\n",
            " obj: 95000 x1\n",
            "Subject To\n",
            " c0: x1 >= 1\n",
            "\n",
            "Bounds\n",
            " 0 <= x1 <= 1\n",
            "\n",
            "Binaries\n",
            " x1\n",
            "End\n",
            "\n"
          ]
        },
        {
          "output_type": "display_data",
          "data": {
            "text/plain": [
              "  0%|          | 0/50 [00:00<?, ?it/s]"
            ],
            "application/vnd.jupyter.widget-view+json": {
              "version_major": 2,
              "version_minor": 0,
              "model_id": "c0b2832d46764806ab830ccdab846bec"
            }
          },
          "metadata": {}
        },
        {
          "output_type": "display_data",
          "data": {
            "text/html": [
              "<html>\n",
              "<head><meta charset=\"utf-8\" /></head>\n",
              "<body>\n",
              "    <div>            <script src=\"https://cdnjs.cloudflare.com/ajax/libs/mathjax/2.7.5/MathJax.js?config=TeX-AMS-MML_SVG\"></script><script type=\"text/javascript\">if (window.MathJax) {MathJax.Hub.Config({SVG: {font: \"STIX-Web\"}});}</script>                <script type=\"text/javascript\">window.PlotlyConfig = {MathJaxConfig: 'local'};</script>\n",
              "        <script src=\"https://cdn.plot.ly/plotly-2.8.3.min.js\"></script>                <div id=\"5b82395f-d393-48e8-9b60-9872ea20b86a\" class=\"plotly-graph-div\" style=\"height:1000px; width:1000px;\"></div>            <script type=\"text/javascript\">                                    window.PLOTLYENV=window.PLOTLYENV || {};                                    if (document.getElementById(\"5b82395f-d393-48e8-9b60-9872ea20b86a\")) {                    Plotly.newPlot(                        \"5b82395f-d393-48e8-9b60-9872ea20b86a\",                        [{\"showscale\":false,\"x\":[-8.0,-7.673469387755102,-7.346938775510204,-7.020408163265306,-6.6938775510204085,-6.36734693877551,-6.040816326530612,-5.714285714285714,-5.387755102040817,-5.061224489795919,-4.73469387755102,-4.408163265306123,-4.081632653061225,-3.755102040816327,-3.428571428571429,-3.1020408163265314,-2.775510204081633,-2.4489795918367347,-2.1224489795918373,-1.795918367346939,-1.4693877551020416,-1.1428571428571432,-0.8163265306122458,-0.4897959183673475,-0.16326530612244916,0.16326530612244916,0.4897959183673457,0.816326530612244,1.1428571428571423,1.4693877551020407,1.7959183673469372,2.1224489795918355,2.448979591836734,2.775510204081632,3.1020408163265305,3.428571428571427,3.7551020408163254,4.081632653061224,4.408163265306122,4.734693877551019,5.061224489795917,5.387755102040815,5.7142857142857135,6.040816326530612,6.367346938775508,6.693877551020407,7.020408163265305,7.346938775510203,7.673469387755102,8.0],\"y\":[-8.0,-7.673469387755102,-7.346938775510204,-7.020408163265306,-6.6938775510204085,-6.36734693877551,-6.040816326530612,-5.714285714285714,-5.387755102040817,-5.061224489795919,-4.73469387755102,-4.408163265306123,-4.081632653061225,-3.755102040816327,-3.428571428571429,-3.1020408163265314,-2.775510204081633,-2.4489795918367347,-2.1224489795918373,-1.795918367346939,-1.4693877551020416,-1.1428571428571432,-0.8163265306122458,-0.4897959183673475,-0.16326530612244916,0.16326530612244916,0.4897959183673457,0.816326530612244,1.1428571428571423,1.4693877551020407,1.7959183673469372,2.1224489795918355,2.448979591836734,2.775510204081632,3.1020408163265305,3.428571428571427,3.7551020408163254,4.081632653061224,4.408163265306122,4.734693877551019,5.061224489795917,5.387755102040815,5.7142857142857135,6.040816326530612,6.367346938775508,6.693877551020407,7.020408163265305,7.346938775510203,7.673469387755102,8.0],\"z\":[[0.4272499830956933,0.5897667600637693,0.7427971435669347,0.8701691515823801,0.9584223341218036,0.9982302499334017,0.9853860684248854,0.9212471401282114,0.8125915542805058,0.6709018422639796,0.5111515238666231,0.35022273202255966,0.2051221386689387,0.09118371953983663,0.02044828655561958,0.0003910359773804837,0.03313158280152002,0.11520996357152648,0.23795227923619283,0.3883873375595285,0.550617425923208,0.7074983536605337,0.8424512200002258,0.9412144431674014,0.9933508992850146,0.9933508992850146,0.9412144431674017,0.8424512200002263,0.7074983536605342,0.5506174259232084,0.3883873375595293,0.23795227923619358,0.11520996357152674,0.033131582801520176,0.00039103597738050127,0.02044828655561934,0.09118371953983612,0.20512213866893836,0.35022273202255916,0.5111515238666224,0.6709018422639788,0.8125915542805051,0.9212471401282114,0.9853860684248854,0.9982302499334017,0.9584223341218039,0.8701691515823805,0.7427971435669349,0.5897667600637693,0.4272499830956933],[0.42724998309569323,0.5897667600637694,0.7427971435669347,0.8701691515823802,0.9584223341218037,0.9982302499334016,0.9853860684248854,0.9212471401282114,0.8125915542805058,0.6709018422639796,0.5111515238666232,0.3502227320225597,0.2051221386689387,0.09118371953983662,0.020448286555619585,0.0003910359773804837,0.033131582801520024,0.11520996357152646,0.23795227923619283,0.3883873375595285,0.550617425923208,0.7074983536605337,0.8424512200002257,0.9412144431674014,0.9933508992850146,0.9933508992850146,0.9412144431674018,0.8424512200002263,0.707498353660534,0.5506174259232084,0.38838733755952937,0.2379522792361936,0.11520996357152671,0.033131582801520176,0.00039103597738050127,0.02044828655561934,0.09118371953983612,0.20512213866893833,0.3502227320225591,0.5111515238666224,0.6709018422639788,0.8125915542805051,0.9212471401282112,0.9853860684248854,0.9982302499334016,0.958422334121804,0.8701691515823806,0.7427971435669352,0.5897667600637694,0.42724998309569323],[0.4272499830956933,0.5897667600637694,0.7427971435669347,0.8701691515823802,0.9584223341218038,0.9982302499334018,0.9853860684248854,0.9212471401282114,0.812591554280506,0.6709018422639796,0.5111515238666232,0.3502227320225597,0.2051221386689387,0.09118371953983662,0.020448286555619585,0.0003910359773804837,0.03313158280152002,0.11520996357152646,0.23795227923619286,0.3883873375595286,0.550617425923208,0.7074983536605337,0.8424512200002258,0.9412144431674015,0.9933508992850149,0.9933508992850149,0.941214443167402,0.8424512200002265,0.707498353660534,0.5506174259232085,0.3883873375595294,0.2379522792361936,0.11520996357152673,0.03313158280152018,0.0003910359773805012,0.02044828655561934,0.09118371953983613,0.20512213866893833,0.3502227320225591,0.5111515238666224,0.6709018422639788,0.8125915542805052,0.9212471401282112,0.9853860684248854,0.9982302499334018,0.9584223341218042,0.8701691515823806,0.7427971435669352,0.5897667600637694,0.4272499830956933],[0.42724998309569323,0.5897667600637693,0.7427971435669347,0.8701691515823801,0.9584223341218037,0.9982302499334017,0.9853860684248854,0.9212471401282115,0.8125915542805059,0.6709018422639796,0.5111515238666231,0.3502227320225596,0.2051221386689387,0.09118371953983663,0.02044828655561958,0.00039103597738048365,0.03313158280152002,0.11520996357152645,0.23795227923619283,0.38838733755952853,0.550617425923208,0.7074983536605337,0.8424512200002258,0.9412144431674013,0.9933508992850146,0.9933508992850146,0.9412144431674018,0.8424512200002263,0.707498353660534,0.5506174259232085,0.3883873375595293,0.2379522792361936,0.11520996357152674,0.033131582801520176,0.0003910359773805013,0.020448286555619335,0.09118371953983612,0.2051221386689383,0.35022273202255916,0.5111515238666223,0.6709018422639786,0.8125915542805052,0.9212471401282113,0.9853860684248854,0.9982302499334017,0.9584223341218041,0.8701691515823806,0.742797143566935,0.5897667600637693,0.42724998309569323],[0.4272499830956932,0.5897667600637695,0.7427971435669347,0.8701691515823803,0.9584223341218037,0.9982302499334017,0.9853860684248853,0.9212471401282114,0.8125915542805058,0.6709018422639796,0.5111515238666231,0.3502227320225596,0.2051221386689387,0.09118371953983663,0.020448286555619585,0.0003910359773804837,0.03313158280152002,0.11520996357152646,0.23795227923619283,0.3883873375595286,0.550617425923208,0.7074983536605336,0.8424512200002258,0.9412144431674013,0.9933508992850147,0.9933508992850147,0.9412144431674018,0.8424512200002264,0.7074983536605339,0.5506174259232085,0.38838733755952926,0.2379522792361936,0.11520996357152673,0.03313158280152018,0.0003910359773805012,0.02044828655561933,0.09118371953983612,0.20512213866893833,0.35022273202255905,0.5111515238666224,0.6709018422639788,0.8125915542805051,0.9212471401282112,0.9853860684248853,0.9982302499334017,0.958422334121804,0.8701691515823806,0.742797143566935,0.5897667600637695,0.4272499830956932],[0.42724998309569334,0.5897667600637695,0.7427971435669349,0.8701691515823804,0.9584223341218038,0.9982302499334016,0.9853860684248855,0.9212471401282116,0.8125915542805059,0.6709018422639796,0.5111515238666232,0.35022273202255977,0.2051221386689387,0.09118371953983664,0.020448286555619585,0.00039103597738048365,0.033131582801520024,0.11520996357152648,0.23795227923619283,0.3883873375595286,0.5506174259232082,0.7074983536605337,0.8424512200002258,0.9412144431674015,0.9933508992850149,0.9933508992850149,0.941214443167402,0.8424512200002264,0.707498353660534,0.5506174259232086,0.3883873375595294,0.2379522792361936,0.11520996357152674,0.03313158280152018,0.00039103597738050127,0.02044828655561934,0.09118371953983614,0.20512213866893836,0.3502227320225592,0.5111515238666224,0.6709018422639788,0.8125915542805053,0.9212471401282114,0.9853860684248855,0.9982302499334016,0.9584223341218042,0.8701691515823807,0.7427971435669353,0.5897667600637695,0.42724998309569334],[0.42724998309569323,0.5897667600637695,0.7427971435669347,0.8701691515823802,0.9584223341218036,0.9982302499334016,0.9853860684248853,0.9212471401282115,0.8125915542805058,0.6709018422639796,0.5111515238666231,0.35022273202255966,0.2051221386689387,0.09118371953983663,0.020448286555619585,0.00039103597738048376,0.03313158280152002,0.11520996357152649,0.23795227923619283,0.38838733755952853,0.5506174259232081,0.7074983536605337,0.8424512200002257,0.9412144431674013,0.9933508992850146,0.9933508992850146,0.9412144431674018,0.8424512200002263,0.707498353660534,0.5506174259232085,0.3883873375595293,0.2379522792361936,0.11520996357152676,0.03313158280152019,0.0003910359773805013,0.02044828655561934,0.09118371953983612,0.20512213866893833,0.35022273202255916,0.5111515238666223,0.6709018422639788,0.8125915542805052,0.9212471401282113,0.9853860684248853,0.9982302499334016,0.958422334121804,0.8701691515823805,0.7427971435669352,0.5897667600637695,0.42724998309569323],[0.42724998309569323,0.5897667600637694,0.7427971435669347,0.8701691515823803,0.9584223341218037,0.9982302499334017,0.9853860684248855,0.9212471401282115,0.812591554280506,0.6709018422639798,0.5111515238666232,0.35022273202255977,0.2051221386689387,0.09118371953983663,0.020448286555619585,0.0003910359773804837,0.033131582801520024,0.11520996357152646,0.23795227923619286,0.3883873375595285,0.5506174259232081,0.7074983536605337,0.8424512200002258,0.9412144431674014,0.9933508992850147,0.9933508992850147,0.9412144431674019,0.8424512200002264,0.7074983536605343,0.5506174259232086,0.38838733755952937,0.23795227923619364,0.11520996357152674,0.03313158280152018,0.00039103597738050127,0.020448286555619342,0.09118371953983613,0.20512213866893833,0.35022273202255916,0.5111515238666224,0.6709018422639788,0.8125915542805053,0.9212471401282114,0.9853860684248855,0.9982302499334017,0.958422334121804,0.8701691515823805,0.742797143566935,0.5897667600637694,0.42724998309569323],[0.4272499830956933,0.5897667600637694,0.7427971435669348,0.8701691515823802,0.9584223341218037,0.9982302499334016,0.9853860684248854,0.9212471401282116,0.8125915542805059,0.6709018422639796,0.5111515238666232,0.35022273202255966,0.2051221386689387,0.09118371953983663,0.020448286555619588,0.0003910359773804837,0.033131582801520024,0.11520996357152648,0.23795227923619286,0.3883873375595286,0.550617425923208,0.7074983536605337,0.8424512200002257,0.9412144431674014,0.9933508992850146,0.9933508992850146,0.9412144431674019,0.8424512200002264,0.7074983536605342,0.5506174259232085,0.38838733755952937,0.2379522792361936,0.11520996357152674,0.03313158280152018,0.00039103597738050127,0.020448286555619342,0.09118371953983612,0.20512213866893836,0.3502227320225592,0.5111515238666223,0.6709018422639788,0.8125915542805052,0.9212471401282114,0.9853860684248854,0.9982302499334016,0.9584223341218041,0.8701691515823806,0.742797143566935,0.5897667600637694,0.4272499830956933],[0.4272499830956933,0.5897667600637694,0.7427971435669347,0.8701691515823803,0.9584223341218037,0.9982302499334015,0.9853860684248854,0.9212471401282115,0.8125915542805058,0.6709018422639796,0.5111515238666231,0.35022273202255966,0.2051221386689387,0.09118371953983663,0.020448286555619585,0.0003910359773804837,0.03313158280152002,0.11520996357152646,0.23795227923619283,0.3883873375595285,0.550617425923208,0.7074983536605337,0.8424512200002257,0.9412144431674013,0.9933508992850146,0.9933508992850146,0.9412144431674019,0.8424512200002265,0.707498353660534,0.5506174259232085,0.38838733755952937,0.2379522792361936,0.11520996357152674,0.033131582801520176,0.00039103597738050127,0.020448286555619335,0.09118371953983613,0.20512213866893833,0.35022273202255916,0.5111515238666224,0.6709018422639788,0.8125915542805053,0.9212471401282113,0.9853860684248854,0.9982302499334015,0.9584223341218039,0.8701691515823805,0.7427971435669352,0.5897667600637694,0.4272499830956933],[0.42724998309569323,0.5897667600637695,0.7427971435669347,0.8701691515823802,0.9584223341218034,0.9982302499334015,0.9853860684248852,0.9212471401282115,0.8125915542805058,0.6709018422639796,0.5111515238666232,0.3502227320225596,0.2051221386689387,0.09118371953983662,0.02044828655561958,0.0003910359773804837,0.03313158280152002,0.11520996357152646,0.23795227923619283,0.3883873375595285,0.550617425923208,0.7074983536605336,0.8424512200002257,0.9412144431674014,0.9933508992850146,0.9933508992850146,0.9412144431674017,0.8424512200002263,0.7074983536605339,0.5506174259232084,0.38838733755952937,0.23795227923619355,0.11520996357152673,0.03313158280152018,0.00039103597738050127,0.02044828655561934,0.09118371953983612,0.2051221386689383,0.3502227320225591,0.5111515238666223,0.6709018422639788,0.8125915542805052,0.9212471401282112,0.9853860684248852,0.9982302499334015,0.958422334121804,0.8701691515823804,0.7427971435669349,0.5897667600637695,0.42724998309569323],[0.4272499830956933,0.5897667600637694,0.7427971435669347,0.8701691515823801,0.9584223341218034,0.9982302499334016,0.9853860684248854,0.9212471401282115,0.8125915542805058,0.6709018422639796,0.5111515238666231,0.35022273202255966,0.20512213866893864,0.09118371953983663,0.02044828655561958,0.0003910359773804837,0.033131582801520024,0.11520996357152648,0.2379522792361928,0.38838733755952853,0.550617425923208,0.7074983536605337,0.8424512200002257,0.9412144431674014,0.9933508992850146,0.9933508992850146,0.9412144431674019,0.8424512200002263,0.707498353660534,0.5506174259232085,0.38838733755952937,0.2379522792361936,0.11520996357152674,0.033131582801520176,0.0003910359773805012,0.020448286555619335,0.09118371953983612,0.20512213866893836,0.35022273202255916,0.5111515238666223,0.6709018422639788,0.8125915542805052,0.9212471401282112,0.9853860684248854,0.9982302499334016,0.9584223341218041,0.8701691515823805,0.7427971435669352,0.5897667600637694,0.4272499830956933],[0.4272499830956933,0.5897667600637694,0.7427971435669347,0.8701691515823801,0.9584223341218036,0.9982302499334014,0.9853860684248854,0.9212471401282114,0.8125915542805058,0.6709018422639796,0.5111515238666231,0.3502227320225596,0.2051221386689387,0.09118371953983663,0.020448286555619588,0.0003910359773804837,0.033131582801520024,0.11520996357152646,0.2379522792361928,0.3883873375595285,0.550617425923208,0.7074983536605336,0.8424512200002257,0.9412144431674013,0.9933508992850144,0.9933508992850144,0.9412144431674019,0.8424512200002263,0.707498353660534,0.5506174259232086,0.38838733755952937,0.2379522792361936,0.11520996357152671,0.03313158280152018,0.00039103597738050127,0.02044828655561934,0.09118371953983612,0.2051221386689383,0.35022273202255916,0.5111515238666223,0.6709018422639788,0.8125915542805052,0.9212471401282112,0.9853860684248854,0.9982302499334014,0.9584223341218039,0.8701691515823805,0.7427971435669349,0.5897667600637694,0.4272499830956933],[0.4272499830956933,0.5897667600637693,0.7427971435669346,0.8701691515823802,0.9584223341218034,0.9982302499334017,0.9853860684248854,0.9212471401282114,0.8125915542805058,0.6709018422639796,0.5111515238666232,0.3502227320225596,0.2051221386689387,0.09118371953983662,0.020448286555619585,0.0003910359773804837,0.03313158280152002,0.11520996357152646,0.23795227923619286,0.3883873375595286,0.550617425923208,0.7074983536605337,0.8424512200002259,0.9412144431674013,0.9933508992850145,0.9933508992850145,0.9412144431674018,0.8424512200002264,0.707498353660534,0.5506174259232084,0.38838733755952926,0.23795227923619358,0.11520996357152674,0.03313158280152018,0.00039103597738050127,0.020448286555619335,0.09118371953983612,0.20512213866893833,0.3502227320225592,0.5111515238666223,0.6709018422639786,0.8125915542805052,0.9212471401282112,0.9853860684248854,0.9982302499334017,0.958422334121804,0.8701691515823806,0.742797143566935,0.5897667600637693,0.4272499830956933],[0.42724998309569334,0.5897667600637695,0.7427971435669348,0.8701691515823803,0.9584223341218037,0.9982302499334016,0.9853860684248855,0.9212471401282116,0.8125915542805058,0.6709018422639796,0.5111515238666232,0.35022273202255966,0.20512213866893872,0.09118371953983663,0.020448286555619588,0.0003910359773804838,0.033131582801520024,0.11520996357152646,0.23795227923619286,0.38838733755952853,0.5506174259232081,0.7074983536605337,0.8424512200002258,0.9412144431674014,0.9933508992850149,0.9933508992850149,0.9412144431674019,0.8424512200002264,0.7074983536605342,0.5506174259232086,0.38838733755952937,0.23795227923619364,0.11520996357152674,0.03313158280152018,0.00039103597738050127,0.02044828655561934,0.09118371953983613,0.20512213866893836,0.35022273202255916,0.5111515238666224,0.670901842263979,0.8125915542805052,0.9212471401282114,0.9853860684248855,0.9982302499334016,0.9584223341218041,0.8701691515823806,0.7427971435669352,0.5897667600637695,0.42724998309569334],[0.42724998309569323,0.5897667600637694,0.7427971435669349,0.8701691515823804,0.9584223341218038,0.9982302499334017,0.9853860684248856,0.9212471401282117,0.812591554280506,0.6709018422639796,0.5111515238666231,0.35022273202255966,0.20512213866893872,0.09118371953983666,0.020448286555619585,0.0003910359773804837,0.033131582801520024,0.11520996357152648,0.23795227923619286,0.3883873375595286,0.5506174259232081,0.7074983536605338,0.8424512200002259,0.9412144431674017,0.9933508992850147,0.9933508992850147,0.9412144431674021,0.8424512200002264,0.7074983536605342,0.5506174259232086,0.3883873375595294,0.2379522792361936,0.11520996357152676,0.03313158280152018,0.00039103597738050127,0.02044828655561934,0.09118371953983616,0.2051221386689384,0.35022273202255916,0.5111515238666223,0.6709018422639788,0.8125915542805053,0.9212471401282115,0.9853860684248856,0.9982302499334017,0.9584223341218042,0.8701691515823807,0.7427971435669353,0.5897667600637694,0.42724998309569323],[0.42724998309569334,0.5897667600637695,0.7427971435669347,0.8701691515823802,0.9584223341218037,0.9982302499334016,0.9853860684248855,0.9212471401282115,0.812591554280506,0.6709018422639799,0.5111515238666232,0.3502227320225597,0.2051221386689387,0.09118371953983664,0.020448286555619588,0.0003910359773804838,0.033131582801520024,0.11520996357152648,0.23795227923619283,0.3883873375595285,0.5506174259232082,0.7074983536605337,0.8424512200002259,0.9412144431674014,0.9933508992850149,0.9933508992850149,0.9412144431674019,0.8424512200002264,0.707498353660534,0.5506174259232085,0.38838733755952937,0.2379522792361936,0.11520996357152674,0.03313158280152018,0.00039103597738050127,0.02044828655561934,0.09118371953983613,0.20512213866893836,0.3502227320225592,0.5111515238666224,0.6709018422639788,0.8125915542805053,0.9212471401282113,0.9853860684248855,0.9982302499334016,0.9584223341218042,0.8701691515823806,0.7427971435669353,0.5897667600637695,0.42724998309569334],[0.4272499830956933,0.5897667600637696,0.7427971435669347,0.8701691515823804,0.9584223341218037,0.9982302499334017,0.9853860684248855,0.9212471401282115,0.812591554280506,0.6709018422639798,0.5111515238666232,0.35022273202255977,0.2051221386689387,0.09118371953983663,0.020448286555619588,0.0003910359773804838,0.033131582801520024,0.11520996357152646,0.2379522792361929,0.3883873375595286,0.550617425923208,0.7074983536605338,0.8424512200002258,0.9412144431674015,0.9933508992850149,0.9933508992850149,0.941214443167402,0.8424512200002264,0.7074983536605342,0.5506174259232085,0.3883873375595295,0.23795227923619364,0.11520996357152674,0.03313158280152018,0.00039103597738050127,0.020448286555619342,0.09118371953983613,0.20512213866893836,0.3502227320225592,0.5111515238666224,0.6709018422639789,0.8125915542805052,0.9212471401282113,0.9853860684248855,0.9982302499334017,0.9584223341218041,0.8701691515823805,0.7427971435669352,0.5897667600637696,0.4272499830956933],[0.42724998309569323,0.5897667600637694,0.7427971435669347,0.8701691515823802,0.9584223341218037,0.9982302499334015,0.9853860684248854,0.9212471401282114,0.8125915542805058,0.6709018422639796,0.5111515238666231,0.3502227320225596,0.20512213866893864,0.09118371953983663,0.02044828655561958,0.0003910359773804837,0.033131582801520024,0.11520996357152646,0.23795227923619283,0.3883873375595285,0.550617425923208,0.7074983536605337,0.8424512200002258,0.9412144431674014,0.9933508992850149,0.9933508992850149,0.9412144431674018,0.8424512200002263,0.707498353660534,0.5506174259232085,0.3883873375595294,0.2379522792361936,0.11520996357152671,0.03313158280152018,0.00039103597738050127,0.020448286555619335,0.09118371953983612,0.2051221386689383,0.35022273202255916,0.5111515238666224,0.6709018422639786,0.8125915542805053,0.9212471401282114,0.9853860684248854,0.9982302499334015,0.958422334121804,0.8701691515823806,0.742797143566935,0.5897667600637694,0.42724998309569323],[0.4272499830956932,0.5897667600637694,0.7427971435669348,0.8701691515823802,0.9584223341218039,0.9982302499334016,0.9853860684248856,0.9212471401282116,0.812591554280506,0.6709018422639796,0.5111515238666232,0.3502227320225597,0.2051221386689387,0.09118371953983663,0.02044828655561958,0.0003910359773804837,0.033131582801520024,0.11520996357152648,0.23795227923619283,0.3883873375595285,0.5506174259232081,0.7074983536605337,0.8424512200002259,0.9412144431674014,0.9933508992850149,0.9933508992850149,0.9412144431674019,0.8424512200002263,0.7074983536605342,0.5506174259232085,0.38838733755952937,0.2379522792361936,0.11520996357152674,0.033131582801520176,0.00039103597738050127,0.02044828655561934,0.09118371953983612,0.20512213866893836,0.35022273202255916,0.5111515238666224,0.6709018422639788,0.8125915542805053,0.9212471401282114,0.9853860684248856,0.9982302499334016,0.9584223341218041,0.8701691515823806,0.7427971435669352,0.5897667600637694,0.4272499830956932],[0.42724998309569323,0.5897667600637694,0.7427971435669347,0.87016915158238,0.9584223341218037,0.9982302499334017,0.9853860684248854,0.9212471401282114,0.8125915542805058,0.6709018422639795,0.5111515238666231,0.35022273202255966,0.20512213866893866,0.09118371953983663,0.02044828655561958,0.0003910359773804837,0.033131582801520024,0.11520996357152648,0.23795227923619283,0.38838733755952853,0.5506174259232081,0.7074983536605336,0.8424512200002258,0.9412144431674014,0.9933508992850146,0.9933508992850146,0.9412144431674018,0.8424512200002263,0.7074983536605342,0.5506174259232085,0.3883873375595293,0.2379522792361936,0.11520996357152674,0.033131582801520176,0.00039103597738050127,0.02044828655561934,0.09118371953983612,0.20512213866893836,0.35022273202255916,0.5111515238666223,0.6709018422639788,0.8125915542805051,0.9212471401282114,0.9853860684248854,0.9982302499334017,0.958422334121804,0.8701691515823806,0.742797143566935,0.5897667600637694,0.42724998309569323],[0.42724998309569334,0.5897667600637694,0.7427971435669347,0.8701691515823802,0.9584223341218036,0.9982302499334015,0.9853860684248854,0.9212471401282115,0.8125915542805058,0.6709018422639796,0.5111515238666232,0.3502227320225597,0.2051221386689387,0.09118371953983664,0.02044828655561958,0.0003910359773804837,0.033131582801520024,0.11520996357152648,0.23795227923619283,0.3883873375595286,0.550617425923208,0.7074983536605337,0.8424512200002257,0.9412144431674014,0.9933508992850147,0.9933508992850147,0.9412144431674019,0.8424512200002264,0.707498353660534,0.5506174259232085,0.3883873375595294,0.23795227923619355,0.11520996357152674,0.033131582801520176,0.0003910359773805012,0.02044828655561934,0.09118371953983612,0.2051221386689383,0.35022273202255916,0.5111515238666224,0.6709018422639786,0.8125915542805052,0.9212471401282113,0.9853860684248854,0.9982302499334015,0.958422334121804,0.8701691515823805,0.7427971435669352,0.5897667600637694,0.42724998309569334],[0.4272499830956933,0.5897667600637694,0.7427971435669347,0.8701691515823802,0.9584223341218037,0.9982302499334016,0.9853860684248854,0.9212471401282116,0.8125915542805058,0.6709018422639796,0.5111515238666231,0.35022273202255966,0.20512213866893872,0.09118371953983663,0.020448286555619585,0.0003910359773804837,0.033131582801520024,0.11520996357152648,0.23795227923619283,0.3883873375595286,0.5506174259232081,0.7074983536605337,0.8424512200002259,0.9412144431674014,0.9933508992850147,0.9933508992850147,0.9412144431674019,0.8424512200002265,0.7074983536605342,0.5506174259232086,0.3883873375595293,0.23795227923619364,0.11520996357152676,0.03313158280152018,0.0003910359773805013,0.020448286555619345,0.09118371953983613,0.20512213866893833,0.3502227320225592,0.5111515238666224,0.6709018422639788,0.8125915542805054,0.9212471401282113,0.9853860684248854,0.9982302499334016,0.9584223341218042,0.8701691515823806,0.7427971435669353,0.5897667600637694,0.4272499830956933],[0.4272499830956933,0.5897667600637695,0.7427971435669348,0.8701691515823802,0.9584223341218037,0.9982302499334017,0.9853860684248854,0.9212471401282116,0.8125915542805059,0.6709018422639796,0.5111515238666232,0.3502227320225597,0.2051221386689387,0.09118371953983664,0.020448286555619585,0.00039103597738048376,0.033131582801520024,0.11520996357152648,0.23795227923619286,0.3883873375595286,0.5506174259232081,0.7074983536605338,0.8424512200002258,0.9412144431674015,0.9933508992850147,0.9933508992850147,0.9412144431674019,0.8424512200002264,0.7074983536605342,0.5506174259232086,0.38838733755952937,0.23795227923619364,0.11520996357152676,0.03313158280152018,0.0003910359773805013,0.02044828655561934,0.09118371953983613,0.20512213866893836,0.35022273202255916,0.5111515238666224,0.6709018422639788,0.8125915542805052,0.9212471401282114,0.9853860684248854,0.9982302499334017,0.9584223341218041,0.8701691515823806,0.7427971435669352,0.5897667600637695,0.4272499830956933],[0.42724998309569323,0.5897667600637694,0.7427971435669348,0.8701691515823802,0.9584223341218038,0.9982302499334017,0.9853860684248853,0.9212471401282115,0.8125915542805057,0.6709018422639796,0.5111515238666231,0.35022273202255966,0.20512213866893866,0.09118371953983662,0.020448286555619585,0.00039103597738048365,0.033131582801520024,0.11520996357152648,0.23795227923619286,0.38838733755952853,0.5506174259232081,0.7074983536605337,0.8424512200002257,0.9412144431674014,0.9933508992850147,0.9933508992850147,0.9412144431674019,0.8424512200002262,0.707498353660534,0.5506174259232084,0.38838733755952937,0.2379522792361936,0.11520996357152674,0.033131582801520176,0.0003910359773805013,0.02044828655561934,0.09118371953983612,0.20512213866893833,0.35022273202255916,0.5111515238666223,0.6709018422639788,0.8125915542805051,0.9212471401282113,0.9853860684248853,0.9982302499334017,0.9584223341218041,0.8701691515823806,0.7427971435669352,0.5897667600637694,0.42724998309569323],[0.42724998309569323,0.5897667600637694,0.7427971435669348,0.8701691515823802,0.9584223341218038,0.9982302499334017,0.9853860684248853,0.9212471401282115,0.8125915542805057,0.6709018422639796,0.5111515238666231,0.35022273202255966,0.20512213866893866,0.09118371953983662,0.020448286555619585,0.00039103597738048365,0.033131582801520024,0.11520996357152648,0.23795227923619286,0.38838733755952853,0.5506174259232081,0.7074983536605337,0.8424512200002257,0.9412144431674014,0.9933508992850147,0.9933508992850147,0.9412144431674019,0.8424512200002262,0.707498353660534,0.5506174259232084,0.38838733755952937,0.2379522792361936,0.11520996357152674,0.033131582801520176,0.0003910359773805013,0.02044828655561934,0.09118371953983612,0.20512213866893833,0.35022273202255916,0.5111515238666223,0.6709018422639788,0.8125915542805051,0.9212471401282113,0.9853860684248853,0.9982302499334017,0.9584223341218041,0.8701691515823806,0.7427971435669352,0.5897667600637694,0.42724998309569323],[0.42724998309569323,0.5897667600637694,0.7427971435669348,0.8701691515823802,0.9584223341218037,0.9982302499334017,0.9853860684248854,0.9212471401282115,0.812591554280506,0.6709018422639798,0.5111515238666232,0.35022273202255966,0.2051221386689387,0.09118371953983664,0.02044828655561958,0.00039103597738048376,0.03313158280152002,0.11520996357152646,0.23795227923619286,0.3883873375595286,0.5506174259232081,0.7074983536605339,0.8424512200002259,0.9412144431674014,0.9933508992850149,0.9933508992850149,0.9412144431674019,0.8424512200002264,0.707498353660534,0.5506174259232085,0.3883873375595294,0.23795227923619366,0.11520996357152674,0.03313158280152018,0.00039103597738050127,0.02044828655561934,0.09118371953983613,0.20512213866893833,0.35022273202255916,0.5111515238666223,0.6709018422639788,0.8125915542805053,0.9212471401282114,0.9853860684248854,0.9982302499334017,0.9584223341218041,0.8701691515823806,0.7427971435669353,0.5897667600637694,0.42724998309569323],[0.4272499830956933,0.5897667600637694,0.7427971435669348,0.8701691515823802,0.9584223341218037,0.9982302499334016,0.9853860684248854,0.9212471401282115,0.8125915542805059,0.6709018422639798,0.5111515238666233,0.3502227320225597,0.20512213866893866,0.09118371953983663,0.020448286555619588,0.0003910359773804837,0.03313158280152002,0.11520996357152646,0.23795227923619286,0.38838733755952853,0.550617425923208,0.7074983536605338,0.8424512200002259,0.9412144431674014,0.9933508992850146,0.9933508992850146,0.9412144431674019,0.8424512200002265,0.7074983536605339,0.5506174259232086,0.3883873375595293,0.2379522792361936,0.11520996357152674,0.03313158280152018,0.0003910359773805013,0.02044828655561934,0.09118371953983612,0.20512213866893833,0.3502227320225592,0.5111515238666224,0.6709018422639788,0.8125915542805052,0.9212471401282114,0.9853860684248854,0.9982302499334016,0.9584223341218041,0.8701691515823806,0.742797143566935,0.5897667600637694,0.4272499830956933],[0.4272499830956933,0.5897667600637695,0.7427971435669347,0.8701691515823802,0.9584223341218034,0.9982302499334015,0.9853860684248853,0.9212471401282116,0.8125915542805058,0.6709018422639796,0.5111515238666231,0.35022273202255966,0.2051221386689387,0.09118371953983664,0.02044828655561958,0.0003910359773804837,0.03313158280152002,0.11520996357152646,0.23795227923619283,0.38838733755952853,0.5506174259232081,0.7074983536605337,0.8424512200002258,0.9412144431674014,0.9933508992850146,0.9933508992850146,0.9412144431674017,0.8424512200002263,0.707498353660534,0.5506174259232085,0.38838733755952937,0.2379522792361936,0.11520996357152674,0.03313158280152018,0.0003910359773805013,0.02044828655561934,0.09118371953983612,0.20512213866893833,0.35022273202255916,0.5111515238666223,0.6709018422639788,0.8125915542805053,0.9212471401282113,0.9853860684248853,0.9982302499334015,0.9584223341218041,0.8701691515823805,0.7427971435669352,0.5897667600637695,0.4272499830956933],[0.4272499830956933,0.5897667600637694,0.7427971435669347,0.8701691515823802,0.9584223341218037,0.9982302499334017,0.9853860684248854,0.9212471401282115,0.8125915542805059,0.6709018422639796,0.5111515238666231,0.35022273202255966,0.2051221386689387,0.09118371953983663,0.02044828655561958,0.0003910359773804837,0.033131582801520024,0.11520996357152649,0.23795227923619283,0.3883873375595285,0.5506174259232081,0.7074983536605337,0.8424512200002259,0.9412144431674014,0.9933508992850146,0.9933508992850146,0.9412144431674018,0.8424512200002264,0.707498353660534,0.5506174259232085,0.38838733755952937,0.2379522792361936,0.11520996357152674,0.03313158280152019,0.00039103597738050127,0.02044828655561934,0.09118371953983612,0.2051221386689383,0.35022273202255916,0.5111515238666224,0.6709018422639788,0.8125915542805053,0.9212471401282114,0.9853860684248854,0.9982302499334017,0.958422334121804,0.8701691515823805,0.7427971435669352,0.5897667600637694,0.4272499830956933],[0.42724998309569323,0.5897667600637694,0.7427971435669348,0.8701691515823802,0.9584223341218037,0.9982302499334017,0.9853860684248854,0.9212471401282115,0.8125915542805059,0.6709018422639796,0.5111515238666231,0.3502227320225597,0.2051221386689387,0.09118371953983663,0.020448286555619585,0.0003910359773804837,0.033131582801520024,0.11520996357152646,0.23795227923619283,0.3883873375595285,0.550617425923208,0.7074983536605337,0.8424512200002257,0.9412144431674014,0.9933508992850149,0.9933508992850149,0.9412144431674019,0.8424512200002264,0.7074983536605342,0.5506174259232086,0.38838733755952937,0.2379522792361936,0.11520996357152674,0.03313158280152018,0.00039103597738050127,0.02044828655561934,0.09118371953983613,0.20512213866893833,0.35022273202255916,0.5111515238666222,0.6709018422639788,0.8125915542805053,0.9212471401282112,0.9853860684248854,0.9982302499334017,0.9584223341218041,0.8701691515823806,0.742797143566935,0.5897667600637694,0.42724998309569323],[0.4272499830956932,0.5897667600637694,0.7427971435669347,0.8701691515823802,0.9584223341218037,0.9982302499334015,0.9853860684248854,0.9212471401282116,0.8125915542805059,0.6709018422639796,0.5111515238666232,0.35022273202255966,0.2051221386689387,0.09118371953983662,0.020448286555619585,0.00039103597738048365,0.033131582801520024,0.11520996357152648,0.23795227923619286,0.38838733755952853,0.550617425923208,0.7074983536605336,0.8424512200002258,0.9412144431674014,0.9933508992850147,0.9933508992850147,0.9412144431674018,0.8424512200002263,0.707498353660534,0.5506174259232085,0.3883873375595293,0.2379522792361936,0.11520996357152674,0.03313158280152018,0.0003910359773805012,0.02044828655561934,0.09118371953983612,0.20512213866893833,0.35022273202255916,0.5111515238666223,0.6709018422639788,0.8125915542805052,0.9212471401282113,0.9853860684248854,0.9982302499334015,0.9584223341218041,0.8701691515823805,0.7427971435669352,0.5897667600637694,0.4272499830956932],[0.42724998309569323,0.5897667600637694,0.7427971435669348,0.8701691515823802,0.9584223341218036,0.9982302499334016,0.9853860684248853,0.9212471401282114,0.8125915542805058,0.6709018422639795,0.5111515238666231,0.3502227320225596,0.2051221386689387,0.09118371953983663,0.02044828655561958,0.0003910359773804837,0.03313158280152002,0.11520996357152646,0.23795227923619283,0.38838733755952853,0.550617425923208,0.7074983536605336,0.8424512200002258,0.9412144431674014,0.9933508992850147,0.9933508992850147,0.9412144431674019,0.8424512200002263,0.707498353660534,0.5506174259232085,0.3883873375595293,0.23795227923619358,0.11520996357152676,0.033131582801520176,0.00039103597738050127,0.02044828655561934,0.09118371953983613,0.20512213866893833,0.35022273202255916,0.5111515238666224,0.6709018422639785,0.8125915542805051,0.9212471401282112,0.9853860684248853,0.9982302499334016,0.958422334121804,0.8701691515823806,0.7427971435669352,0.5897667600637694,0.42724998309569323],[0.4272499830956933,0.5897667600637695,0.7427971435669347,0.8701691515823801,0.9584223341218037,0.9982302499334015,0.9853860684248856,0.9212471401282114,0.8125915542805059,0.6709018422639798,0.5111515238666232,0.35022273202255966,0.2051221386689387,0.09118371953983663,0.020448286555619585,0.0003910359773804837,0.03313158280152002,0.11520996357152646,0.2379522792361928,0.38838733755952853,0.550617425923208,0.7074983536605338,0.8424512200002258,0.9412144431674014,0.9933508992850147,0.9933508992850147,0.9412144431674018,0.8424512200002263,0.7074983536605342,0.5506174259232086,0.3883873375595294,0.23795227923619358,0.11520996357152673,0.03313158280152018,0.0003910359773805013,0.020448286555619342,0.09118371953983612,0.20512213866893833,0.35022273202255916,0.5111515238666223,0.6709018422639788,0.8125915542805053,0.9212471401282112,0.9853860684248856,0.9982302499334015,0.9584223341218041,0.8701691515823805,0.7427971435669352,0.5897667600637695,0.4272499830956933],[0.42724998309569323,0.5897667600637694,0.7427971435669349,0.8701691515823804,0.9584223341218038,0.9982302499334017,0.9853860684248856,0.9212471401282117,0.812591554280506,0.6709018422639796,0.5111515238666231,0.35022273202255966,0.20512213866893872,0.09118371953983666,0.020448286555619585,0.0003910359773804837,0.033131582801520024,0.11520996357152648,0.23795227923619286,0.3883873375595286,0.5506174259232081,0.7074983536605338,0.842451220000226,0.9412144431674017,0.9933508992850149,0.9933508992850149,0.9412144431674021,0.8424512200002265,0.7074983536605342,0.5506174259232086,0.3883873375595294,0.2379522792361936,0.11520996357152676,0.03313158280152018,0.0003910359773805013,0.02044828655561934,0.09118371953983616,0.2051221386689384,0.35022273202255916,0.5111515238666223,0.6709018422639788,0.8125915542805053,0.9212471401282115,0.9853860684248856,0.9982302499334017,0.9584223341218042,0.8701691515823807,0.7427971435669353,0.5897667600637694,0.42724998309569323],[0.42724998309569323,0.5897667600637694,0.7427971435669347,0.8701691515823803,0.9584223341218037,0.9982302499334016,0.9853860684248855,0.9212471401282116,0.8125915542805058,0.6709018422639796,0.5111515238666231,0.3502227320225597,0.2051221386689387,0.09118371953983664,0.02044828655561958,0.0003910359773804837,0.03313158280152002,0.11520996357152648,0.23795227923619286,0.3883873375595286,0.550617425923208,0.7074983536605338,0.8424512200002258,0.9412144431674014,0.9933508992850149,0.9933508992850149,0.9412144431674019,0.8424512200002264,0.7074983536605342,0.5506174259232085,0.3883873375595294,0.2379522792361936,0.11520996357152676,0.03313158280152018,0.0003910359773805013,0.020448286555619342,0.09118371953983613,0.20512213866893836,0.35022273202255916,0.5111515238666224,0.6709018422639788,0.8125915542805052,0.9212471401282114,0.9853860684248855,0.9982302499334016,0.9584223341218041,0.8701691515823806,0.7427971435669352,0.5897667600637694,0.42724998309569323],[0.42724998309569334,0.5897667600637695,0.7427971435669348,0.8701691515823803,0.9584223341218037,0.9982302499334018,0.9853860684248856,0.9212471401282115,0.8125915542805059,0.6709018422639799,0.5111515238666232,0.3502227320225597,0.20512213866893872,0.09118371953983664,0.020448286555619585,0.00039103597738048376,0.03313158280152002,0.11520996357152648,0.23795227923619286,0.38838733755952853,0.5506174259232081,0.7074983536605337,0.8424512200002258,0.9412144431674014,0.9933508992850147,0.9933508992850147,0.9412144431674019,0.8424512200002263,0.7074983536605342,0.5506174259232085,0.38838733755952937,0.2379522792361936,0.11520996357152676,0.03313158280152019,0.0003910359773805014,0.02044828655561934,0.09118371953983613,0.20512213866893836,0.35022273202255916,0.5111515238666224,0.6709018422639789,0.8125915542805053,0.9212471401282113,0.9853860684248856,0.9982302499334018,0.9584223341218041,0.8701691515823806,0.7427971435669352,0.5897667600637695,0.42724998309569334],[0.4272499830956933,0.5897667600637693,0.7427971435669346,0.8701691515823801,0.9584223341218036,0.9982302499334015,0.9853860684248854,0.9212471401282115,0.812591554280506,0.6709018422639795,0.5111515238666231,0.3502227320225596,0.2051221386689387,0.09118371953983662,0.020448286555619588,0.0003910359773804837,0.033131582801520024,0.11520996357152645,0.23795227923619283,0.3883873375595286,0.550617425923208,0.7074983536605337,0.8424512200002257,0.9412144431674014,0.9933508992850146,0.9933508992850146,0.9412144431674019,0.8424512200002263,0.707498353660534,0.5506174259232084,0.38838733755952937,0.2379522792361936,0.11520996357152674,0.033131582801520176,0.0003910359773805012,0.02044828655561934,0.09118371953983613,0.2051221386689383,0.35022273202255916,0.5111515238666224,0.6709018422639788,0.8125915542805052,0.9212471401282112,0.9853860684248854,0.9982302499334015,0.958422334121804,0.8701691515823806,0.742797143566935,0.5897667600637693,0.4272499830956933],[0.4272499830956933,0.5897667600637693,0.7427971435669347,0.8701691515823802,0.9584223341218034,0.9982302499334016,0.9853860684248854,0.9212471401282115,0.8125915542805059,0.6709018422639798,0.5111515238666232,0.35022273202255966,0.2051221386689387,0.09118371953983662,0.020448286555619588,0.0003910359773804837,0.033131582801520024,0.11520996357152646,0.23795227923619283,0.3883873375595286,0.550617425923208,0.7074983536605337,0.8424512200002257,0.9412144431674014,0.9933508992850147,0.9933508992850147,0.9412144431674018,0.8424512200002265,0.7074983536605342,0.5506174259232085,0.38838733755952926,0.2379522792361936,0.11520996357152674,0.03313158280152018,0.0003910359773805012,0.02044828655561934,0.09118371953983612,0.2051221386689383,0.35022273202255916,0.5111515238666224,0.6709018422639788,0.8125915542805053,0.9212471401282112,0.9853860684248854,0.9982302499334016,0.9584223341218041,0.8701691515823806,0.7427971435669352,0.5897667600637693,0.4272499830956933],[0.42724998309569334,0.5897667600637695,0.7427971435669349,0.8701691515823802,0.9584223341218038,0.9982302499334017,0.9853860684248854,0.9212471401282116,0.8125915542805059,0.6709018422639796,0.5111515238666231,0.35022273202255966,0.2051221386689387,0.09118371953983664,0.020448286555619588,0.0003910359773804837,0.033131582801520024,0.11520996357152649,0.23795227923619283,0.3883873375595286,0.550617425923208,0.7074983536605338,0.8424512200002258,0.9412144431674014,0.9933508992850147,0.9933508992850147,0.9412144431674019,0.8424512200002263,0.7074983536605342,0.5506174259232086,0.38838733755952937,0.2379522792361936,0.11520996357152674,0.03313158280152018,0.00039103597738050127,0.02044828655561934,0.09118371953983613,0.20512213866893836,0.35022273202255916,0.5111515238666224,0.6709018422639788,0.8125915542805052,0.9212471401282114,0.9853860684248854,0.9982302499334017,0.9584223341218041,0.8701691515823807,0.7427971435669352,0.5897667600637695,0.42724998309569334],[0.4272499830956932,0.5897667600637694,0.7427971435669347,0.8701691515823802,0.9584223341218037,0.9982302499334015,0.9853860684248854,0.9212471401282115,0.8125915542805058,0.6709018422639796,0.5111515238666232,0.3502227320225597,0.2051221386689387,0.09118371953983662,0.020448286555619585,0.0003910359773804837,0.033131582801520024,0.11520996357152646,0.23795227923619283,0.3883873375595285,0.5506174259232081,0.7074983536605336,0.8424512200002258,0.9412144431674013,0.9933508992850146,0.9933508992850146,0.9412144431674018,0.8424512200002263,0.707498353660534,0.5506174259232085,0.38838733755952937,0.2379522792361936,0.11520996357152674,0.03313158280152019,0.00039103597738050127,0.020448286555619335,0.09118371953983612,0.20512213866893836,0.35022273202255916,0.5111515238666224,0.6709018422639788,0.8125915542805053,0.9212471401282112,0.9853860684248854,0.9982302499334015,0.9584223341218041,0.8701691515823806,0.7427971435669352,0.5897667600637694,0.4272499830956932],[0.42724998309569334,0.5897667600637694,0.7427971435669347,0.8701691515823803,0.9584223341218037,0.9982302499334017,0.9853860684248855,0.9212471401282116,0.8125915542805059,0.6709018422639798,0.5111515238666233,0.3502227320225596,0.2051221386689387,0.09118371953983663,0.020448286555619588,0.00039103597738048376,0.03313158280152002,0.11520996357152648,0.2379522792361929,0.3883873375595286,0.550617425923208,0.7074983536605337,0.842451220000226,0.9412144431674014,0.9933508992850146,0.9933508992850146,0.941214443167402,0.8424512200002264,0.7074983536605343,0.5506174259232085,0.38838733755952937,0.2379522792361936,0.11520996357152674,0.03313158280152019,0.00039103597738050127,0.020448286555619342,0.09118371953983614,0.20512213866893836,0.3502227320225592,0.5111515238666224,0.6709018422639788,0.8125915542805052,0.9212471401282114,0.9853860684248855,0.9982302499334017,0.9584223341218041,0.8701691515823806,0.7427971435669352,0.5897667600637694,0.42724998309569334],[0.42724998309569334,0.5897667600637695,0.7427971435669347,0.8701691515823803,0.9584223341218037,0.9982302499334017,0.9853860684248855,0.9212471401282116,0.812591554280506,0.6709018422639796,0.5111515238666232,0.35022273202255966,0.20512213866893872,0.09118371953983664,0.020448286555619588,0.00039103597738048376,0.033131582801520024,0.11520996357152649,0.23795227923619286,0.3883873375595286,0.5506174259232082,0.7074983536605338,0.8424512200002258,0.9412144431674015,0.9933508992850147,0.9933508992850147,0.941214443167402,0.8424512200002265,0.7074983536605342,0.5506174259232086,0.3883873375595293,0.23795227923619364,0.11520996357152674,0.03313158280152019,0.00039103597738050127,0.02044828655561934,0.09118371953983612,0.20512213866893833,0.35022273202255916,0.5111515238666224,0.6709018422639788,0.8125915542805053,0.9212471401282114,0.9853860684248855,0.9982302499334017,0.9584223341218041,0.8701691515823807,0.7427971435669352,0.5897667600637695,0.42724998309569334],[0.42724998309569323,0.5897667600637695,0.7427971435669347,0.8701691515823802,0.9584223341218036,0.9982302499334016,0.9853860684248853,0.9212471401282115,0.8125915542805058,0.6709018422639796,0.5111515238666231,0.35022273202255966,0.2051221386689387,0.09118371953983663,0.020448286555619585,0.00039103597738048376,0.03313158280152002,0.11520996357152649,0.23795227923619283,0.38838733755952853,0.5506174259232081,0.7074983536605337,0.8424512200002257,0.9412144431674013,0.9933508992850146,0.9933508992850146,0.9412144431674018,0.8424512200002263,0.707498353660534,0.5506174259232085,0.3883873375595293,0.2379522792361936,0.11520996357152676,0.03313158280152019,0.0003910359773805013,0.02044828655561934,0.09118371953983612,0.20512213866893833,0.35022273202255916,0.5111515238666223,0.6709018422639788,0.8125915542805052,0.9212471401282113,0.9853860684248853,0.9982302499334016,0.958422334121804,0.8701691515823805,0.7427971435669352,0.5897667600637695,0.42724998309569323],[0.42724998309569334,0.5897667600637695,0.7427971435669348,0.8701691515823803,0.9584223341218038,0.9982302499334016,0.9853860684248854,0.9212471401282115,0.8125915542805058,0.6709018422639796,0.5111515238666232,0.3502227320225597,0.2051221386689387,0.09118371953983663,0.02044828655561958,0.00039103597738048365,0.03313158280152002,0.11520996357152646,0.23795227923619283,0.38838733755952853,0.5506174259232081,0.7074983536605337,0.8424512200002257,0.9412144431674014,0.9933508992850147,0.9933508992850147,0.9412144431674019,0.8424512200002263,0.707498353660534,0.5506174259232085,0.38838733755952937,0.2379522792361936,0.11520996357152673,0.033131582801520176,0.0003910359773805012,0.020448286555619335,0.09118371953983613,0.20512213866893836,0.35022273202255916,0.5111515238666224,0.6709018422639788,0.8125915542805052,0.9212471401282113,0.9853860684248854,0.9982302499334016,0.9584223341218042,0.8701691515823806,0.7427971435669352,0.5897667600637695,0.42724998309569334],[0.42724998309569323,0.5897667600637694,0.7427971435669348,0.8701691515823803,0.9584223341218037,0.9982302499334017,0.9853860684248854,0.9212471401282114,0.8125915542805059,0.6709018422639796,0.5111515238666232,0.3502227320225597,0.2051221386689387,0.09118371953983664,0.020448286555619585,0.0003910359773804837,0.033131582801520024,0.11520996357152648,0.23795227923619286,0.38838733755952853,0.550617425923208,0.7074983536605337,0.8424512200002259,0.9412144431674014,0.9933508992850147,0.9933508992850147,0.9412144431674019,0.8424512200002264,0.7074983536605342,0.5506174259232085,0.3883873375595294,0.2379522792361936,0.11520996357152673,0.03313158280152018,0.0003910359773805013,0.020448286555619342,0.09118371953983612,0.2051221386689383,0.3502227320225592,0.5111515238666224,0.6709018422639789,0.8125915542805052,0.9212471401282113,0.9853860684248854,0.9982302499334017,0.9584223341218041,0.8701691515823805,0.742797143566935,0.5897667600637694,0.42724998309569323],[0.42724998309569323,0.5897667600637695,0.7427971435669348,0.8701691515823803,0.9584223341218038,0.9982302499334017,0.9853860684248854,0.9212471401282115,0.812591554280506,0.6709018422639796,0.5111515238666231,0.35022273202255966,0.20512213866893872,0.09118371953983663,0.020448286555619585,0.0003910359773804837,0.033131582801520024,0.11520996357152649,0.2379522792361929,0.3883873375595286,0.5506174259232081,0.7074983536605337,0.8424512200002258,0.9412144431674014,0.9933508992850147,0.9933508992850147,0.9412144431674019,0.8424512200002264,0.707498353660534,0.5506174259232084,0.3883873375595295,0.2379522792361936,0.11520996357152673,0.03313158280152019,0.0003910359773805013,0.020448286555619335,0.09118371953983614,0.20512213866893833,0.35022273202255916,0.5111515238666224,0.6709018422639789,0.8125915542805053,0.9212471401282114,0.9853860684248854,0.9982302499334017,0.958422334121804,0.8701691515823806,0.7427971435669352,0.5897667600637695,0.42724998309569323],[0.4272499830956933,0.5897667600637695,0.7427971435669347,0.8701691515823802,0.9584223341218038,0.9982302499334018,0.9853860684248855,0.9212471401282115,0.8125915542805058,0.6709018422639798,0.5111515238666232,0.3502227320225597,0.2051221386689387,0.09118371953983666,0.020448286555619585,0.00039103597738048376,0.033131582801520024,0.11520996357152649,0.23795227923619286,0.3883873375595286,0.550617425923208,0.7074983536605337,0.8424512200002259,0.9412144431674015,0.9933508992850149,0.9933508992850149,0.941214443167402,0.8424512200002264,0.7074983536605342,0.5506174259232086,0.38838733755952937,0.23795227923619364,0.11520996357152677,0.03313158280152019,0.0003910359773805014,0.02044828655561934,0.09118371953983614,0.20512213866893836,0.35022273202255927,0.5111515238666224,0.6709018422639789,0.8125915542805053,0.9212471401282114,0.9853860684248855,0.9982302499334018,0.9584223341218041,0.8701691515823806,0.7427971435669352,0.5897667600637695,0.4272499830956933],[0.42724998309569323,0.5897667600637694,0.7427971435669347,0.8701691515823802,0.9584223341218037,0.9982302499334016,0.9853860684248854,0.9212471401282114,0.8125915542805058,0.6709018422639796,0.5111515238666232,0.3502227320225597,0.2051221386689387,0.09118371953983662,0.020448286555619585,0.0003910359773804837,0.033131582801520024,0.11520996357152646,0.23795227923619283,0.3883873375595285,0.550617425923208,0.7074983536605337,0.8424512200002257,0.9412144431674014,0.9933508992850146,0.9933508992850146,0.9412144431674018,0.8424512200002263,0.707498353660534,0.5506174259232084,0.38838733755952937,0.2379522792361936,0.11520996357152671,0.033131582801520176,0.00039103597738050127,0.02044828655561934,0.09118371953983612,0.20512213866893833,0.3502227320225591,0.5111515238666224,0.6709018422639788,0.8125915542805051,0.9212471401282112,0.9853860684248854,0.9982302499334016,0.958422334121804,0.8701691515823806,0.7427971435669352,0.5897667600637694,0.42724998309569323],[0.4272499830956933,0.5897667600637693,0.7427971435669347,0.8701691515823801,0.9584223341218036,0.9982302499334017,0.9853860684248854,0.9212471401282114,0.8125915542805058,0.6709018422639796,0.5111515238666231,0.35022273202255966,0.2051221386689387,0.09118371953983663,0.02044828655561958,0.0003910359773804837,0.03313158280152002,0.11520996357152648,0.23795227923619283,0.3883873375595285,0.550617425923208,0.7074983536605337,0.8424512200002258,0.9412144431674014,0.9933508992850146,0.9933508992850146,0.9412144431674017,0.8424512200002263,0.7074983536605342,0.5506174259232084,0.3883873375595293,0.23795227923619358,0.11520996357152674,0.033131582801520176,0.00039103597738050127,0.02044828655561934,0.09118371953983612,0.20512213866893836,0.35022273202255916,0.5111515238666224,0.6709018422639788,0.8125915542805051,0.9212471401282114,0.9853860684248854,0.9982302499334017,0.9584223341218039,0.8701691515823805,0.7427971435669349,0.5897667600637693,0.4272499830956933]],\"type\":\"surface\",\"showlegend\":false},{\"line\":{\"color\":\"yellow\",\"width\":10},\"mode\":\"lines\",\"x\":[0.9163264999999999,1.0111947940669703,1.0826000253016157,1.1434161852555067,1.197917403556452,1.248132803263779,1.2952096533874602,1.339868864863767,1.3825967965755876,1.423738774865259,1.4635496097744642,1.5022230386141242,1.5399099280266406,1.5767300680963288,1.6127801137625768,1.6481391059712232,1.6828724154660306,1.7170346258807612,1.7506716840556071,1.7838225320790875,1.8165203651078468,1.84879361397685,1.8806667220721496,1.9121607661181346,1.94329395695867,1.9740820469448492,2.004538663828083,2.03467558622258,2.064502972171074,2.0940295497367827,2.1232627765906815,2.1522089740848966,2.180873440173161,2.2092605446675804,2.237373809642481,2.265215977263733,2.2927890669010345,2.3200944230455383,2.3471327552867765,2.3739041713865783,2.400408204312709,2.4266438339528724,2.452609504114163,2.478303135319131,2.5037221338335423,2.528863397299917,2.553723317302767,2.5782977791547,2.6025821591660243,2.626571319643619,2.6502596018572646,2.6736408172134207,2.696708236887934,2.7194545801909866,2.741872001970693,2.763952079407291,2.7856857986094,2.8070635414989584,2.8280750735642792,2.8487095331731553,2.8689554232723853,2.8888006064584886,2.908232304588526,2.9272371043109904,2.945800970134703,2.9639092669169402,2.981546793936487,2.998697833015337,3.0153462134519997,3.0314753968111985,3.047068584852792,3.0621088540410573,3.0765793201072924,3.0904633359853895,3.1037447260316817,3.116408058697726,3.1284389586643684,3.1398244577885053,3.1505533819991887,3.16061676848155,3.1700083041375855,3.1787247725259347,3.1867664924755275,3.1941377276742773,3.2008470432019416,3.206907582742188,3.2123372396428462,3.217158696616458,3.2213993130556706,3.2250908457944325,3.2282689984530317,3.2309728056660254,3.233243870566058,3.2351254856968,3.2366616777751647,3.2378962242230003,3.2388716932027504,3.2396285584642115,3.240204435537026,3.240633477044518,3.240945952948009,3.241168027478122,3.2413217297273387,3.2414251008276898,3.2414924887327174,3.2415349530619992,3.241560738066758,3.241575771837464,3.2415841541140358,3.2415886026292653,3.2415908375360045,3.2415918936444608,3.2415923594885045,3.241592549523448,3.241592620403681,3.2415926442295886,3.241592651313231,3.241592653129286,3.2415926535165114,3.2415926535814648,3.241592653589246,3.241592653589785,3.2415926535897936,3.2415926535897936,3.2415926535897936,3.2415926535897936,3.2415926535897936,3.2415926535897936,3.2415926535897936,3.2415926535897936,3.2415926535897936,3.2415926535897936,3.2415926535897936,3.2415926535897936,3.2415926535897936,3.241592653589794,3.2415926535897923,3.241592653589795,3.241592653589791,3.241592653589796,3.2415926535897888,3.2415926535898016,3.241592653589775,3.241592653589831,3.2415926535897075,3.2415926535900055,3.241592653589226,3.2415926535914217,3.241592653584772,3.241592653606382,3.2415926535311357,3.241592653811572,3.241592652693976,3.2415926574521152,3.2415926358291682,3.2415927406312264,3.2415921992801424,3.2415951774002445,3.241577740084056,3.2416863401106784,3.240967327159991,3.246018189789884,3.211004752713652,3.2999197673822147,3.216133061066809,3.251861722225507,3.2368609369705705,3.2441254599172855,3.240030376608691,3.2426918617634923,3.2407184046168,3.242372620436283,3.240817193131975,3.242447028032234,3.2405545982291457,3.2429774331663532,3.239572748133166,3.2447995890139594,3.2360893256025207,3.2516320650666355,3.2231265908773437,3.270879465905716,3.2098007063399283,3.2660683240076382,3.2249221659099,3.2531283545984486,3.2330214182759702,3.248556820240435,3.2353804616706006,3.2476654436726498,3.2351178539827927,3.2490663202614645,3.2323605525051136,3.2535626252407925,3.2258503612580456,3.2614577520299117,3.219083357322203,3.2637369195806314,3.2221239917065634,3.2578494149736703,3.228000888278269,3.253349880908767],\"y\":[1.8163265,1.8163265,1.8163265,1.8163265,1.8163265,1.8163265,1.8163265,1.8163265,1.8163265,1.8163265,1.8163265000000166,1.8163265000000166,1.8163265000000166,1.8163265000000166,1.8163265000000166,1.8163265000000166,1.8163265000000166,1.8163265000000166,1.8163265000000166,1.8163265000000166,1.8163265000000166,1.8163265000000166,1.8163265000000166,1.8163265000000166,1.8163265000000166,1.8163265000000166,1.8163265000000166,1.8163265000000166,1.8163265000000166,1.8163265000000166,1.8163265000000166,1.8163265000000166,1.8163265000000166,1.8163265000000166,1.8163265000000166,1.8163265000000166,1.8163265000000208,1.8163265000000208,1.8163265000000208,1.8163265000000208,1.8163265000000208,1.8163265000000208,1.8163265000000208,1.8163265000000208,1.8163265000000208,1.8163265000000208,1.8163265000000208,1.8163265000000208,1.8163265000000208,1.8163265000000208,1.8163265000000208,1.8163265000000208,1.8163265000000208,1.8163265000000208,1.8163265000000208,1.8163265000000208,1.8163265000000208,1.8163265000000208,1.8163265000000208,1.8163265000000208,1.816326500000022,1.816326500000022,1.816326500000022,1.8163265000000224,1.8163265000000224,1.8163265000000224,1.8163265000000228,1.8163265000000228,1.8163265000000228,1.8163265000000228,1.8163265000000228,1.8163265000000228,1.8163265000000228,1.8163265000000228,1.816326500000023,1.816326500000023,1.816326500000023,1.816326500000023,1.816326500000023,1.816326500000023,1.816326500000023,1.816326500000023,1.816326500000023,1.816326500000023,1.816326500000023,1.816326500000023,1.816326500000023,1.816326500000023,1.816326500000023,1.816326500000023,1.816326500000023,1.816326500000023,1.816326500000023,1.816326500000023,1.816326500000023,1.816326500000023,1.816326500000023,1.816326500000023,1.816326500000023,1.816326500000023,1.816326500000023,1.816326500000023,1.816326500000023,1.816326500000023,1.816326500000023,1.816326500000023,1.816326500000023,1.816326500000023,1.816326500000023,1.816326500000023,1.816326500000023,1.816326500000023,1.816326500000023,1.816326500000023,1.816326500000023,1.816326500000023,1.816326500000023,1.816326500000023,1.816326500000023,1.816326500000023,1.816326500000023,1.816326500000023,1.816326500000023,1.816326500000023,1.816326500000023,1.816326500000023,1.816326500000023,1.816326500000023,1.816326500000023,1.816326500000023,1.816326500000023,1.816326500000023,1.816326500000023,1.816326500000023,1.816326500000023,1.816326500000023,1.816326500000023,1.816326500000023,1.816326500000023,1.816326500000023,1.816326500000023,1.816326500000023,1.816326500000023,1.816326500000023,1.816326500000023,1.816326500000023,1.816326500000023,1.816326500000023,1.816326500000023,1.816326500000023,1.816326500000023,1.816326500000023,1.816326500000023,1.816326500000023,1.816326500000023,1.816326500000023,1.816326500000023,1.816326500000023,1.816326500000023,1.816326500000023,1.816326500000023,1.816326500000023,1.816326500000023,1.816326500000023,1.816326500000023,1.816326500000023,1.816326500000023,1.816326500000023,1.816326500000023,1.816326500000023,1.816326500000023,1.816326500000023,1.816326500000023,1.816326500000023,1.816326500000023,1.816326500000023,1.816326500000023,1.816326500000023,1.816326500000023,1.816326500000023,1.816326500000023,1.816326500000023,1.816326500000023,1.816326500000023,1.816326500000023,1.816326500000023,1.816326500000023,1.816326500000023,1.816326500000023,1.816326500000023,1.816326500000023,1.816326500000023,1.816326500000023,1.816326500000023,1.816326500000023,1.816326500000023,1.816326500000023,1.816326500000023,1.816326500000023,1.816326500000023,1.816326500000023,1.816326500000023],\"z\":[0.842451231146697,0.8064010086236522,0.7774306761275511,0.7516355882398784,0.7277255808439804,0.7050955188315129,0.6834091850469122,0.6624601535731927,0.6421132367104292,0.6222759589290945,0.602883158629993,0.5838880159572,0.5652565054042498,0.5469637982314453,0.5289918362832395,0.5113276411866536,0.49396210242412053,0.4768890876293881,0.46010477536765393,0.44360714561480563,0.4273955840180861,0.41147057032503653,0.3958334296621615,0.3804861317621544,0.36543112725485116,0.3506712129164953,0.33620941985282116,0.3220489199447911,0.308192947297357,0.2946447316353442,0.28140744179836474,0.2684841373265954,0.25587772714789025,0.2435909339110367,0.2316262633394217,0.21998597773199435,0.20867207297123969,0.19768625874712598,0.18702994131308515,0.17670420854119584,0.16670981707284227,0.15704718108463567,0.14771636262594257,0.13871706328063738,0.13004861696390435,0.12170998383953702,0.1136997449939372,0.10601609802688472,0.09865685334079899,0.09161943104118109,0.08490085850644391,0.07849776837974787,0.07240639723022468,0.06662258463620674,0.06114177280687727,0.05595900671323761,0.051068934859358706,0.04646581059205346,0.042143494210904464,0.038095455849543214,0.034314779317355715,0.03079416710534133,0.02752594670164399,0.024502078551449813,0.021714165719458833,0.019153465967974626,0.01681090625061188,0.014677100261906162,0.012742369406623766,0.01099676766898483,0.009430111007532105,0.008032011581235565,0.006791917403461412,0.005699157831259072,0.004742995093693025,0.003912681990186684,0.0031975257879821584,0.002586957547464408,0.002070606526103802,0.0016383779438911006,0.0012805328151443973,0.0009877672127913684,0.0007512887677876279,0.0005628868530038744,0.0004149937740294263,0.0003007333871209994,0.00021395455405581743,0.00014924713468644768,0.00010193928028456867,6.807586760260165e-05,4.437929601408541e-05,2.8195034246891737e-05,1.742543827276677e-05,1.0456031304784119e-05,6.078611477278173e-06,3.415887476876378e-06,1.850901753641665e-06,9.644136298447847e-07,4.817848093807697e-07,2.3000757209956646e-07,1.0455551091581583e-07,4.508183337748051e-08,1.83499651029706e-08,7.0140231400728226e-09,2.5029294192790985e-09,8.294591680169106e-10,2.473825588822365e-10,7.275957614183426e-11,1.4551915228366852e-11,0.0,0.0,0.0,0.0,0.0,0.0,0.0,0.0,0.0,0.0,0.0,0.0,0.0,0.0,0.0,0.0,0.0,0.0,0.0,0.0,0.0,0.0,0.0,0.0,0.0,0.0,0.0,0.0,0.0,0.0,0.0,0.0,0.0,0.0,0.0,0.0,0.0,0.0,0.0,0.0,0.0,0.0,0.0,0.0,0.0,0.0,0.0,0.0,0.0,5.820766091346741e-11,2.1973391994833946e-09,9.775976650416851e-08,4.896341124549508e-06,0.0002338866761419922,0.0008502719574607909,0.0001620389666641131,2.636321005411446e-05,5.597277777269483e-06,1.603781129233539e-06,6.101763574406505e-07,3.020686563104391e-07,1.9108119886368513e-07,1.5208206605166197e-07,1.5033583622425795e-07,1.824955688789487e-07,2.6938505470752716e-07,4.793982952833176e-07,1.0200019460171461e-06,2.571105142123997e-06,7.571637979708612e-06,2.5197237846441567e-05,8.52464436320588e-05,0.00021441401622723788,0.00025266069860663265,0.00014975713565945625,6.947468500584364e-05,3.326773003209382e-05,1.8366408767178655e-05,1.2124859495088458e-05,9.647803381085396e-06,9.219671483151615e-06,1.0480725904926658e-05,1.3963857782073319e-05,2.1307772840373218e-05,3.5819626646116376e-05,6.195365858729929e-05,9.865229367278516e-05,0.00012666176189668477,0.00012258712376933545,9.475419938098639e-05,6.606911483686417e-05,4.618331149686128e-05],\"type\":\"scatter3d\",\"showlegend\":false},{\"marker\":{\"color\":\"yellow\",\"size\":7},\"name\":\"Parameter Shift Rule\",\"x\":[0.9163264999999999],\"y\":[1.8163265],\"z\":[0.842451231146697],\"type\":\"scatter3d\"},{\"line\":{\"color\":\"blue\",\"width\":10},\"mode\":\"lines\",\"x\":[0.9163264999999999,1.0111947940657788,1.0826000252999624,1.1434161852535918,1.1979174035543638,1.248132803261566,1.2952096533851514,1.339868864861384,1.3825967965731443,1.423738774862766,1.4635496097719296,1.5022230386115547,1.539909928024042,1.5767300680937046,1.6127801137599307,1.6481391059685586,1.6828724154633494,1.7170346258780655,1.7506716840528993,1.7838225320763685,1.8165203651051183,1.8487936139741135,1.8806667220694058,1.9121607661153852,1.9432939569559158,1.9740820469420908,2.004538663825321,2.034675586219815,2.064502972168307,2.094029549734014,2.1232627765879117,2.152208974082126,2.18087344017039,2.2092605446648097,2.237373809639711,2.2652159772609646,2.2927890668982673,2.320094423042773,2.3471327552840133,2.3739041713838183,2.400408204309952,2.426643833950119,2.4526095041114138,2.4783031353163856,2.5037221338308013,2.528863397297181,2.5537233173000367,2.5782977791519754,2.602582159163306,2.6265713196409077,2.650259601854561,2.673640817210725,2.6967082368852466,2.7194545801883088,2.7418720019680247,2.7639520794046337,2.785685798606754,2.8070635414963245,2.8280750735616587,2.848709533170549,2.868955423269794,2.8888006064559133,2.908232304585968,2.927237104308451,2.9458009701321837,2.963909266914443,2.9815467939340135,2.998697833012889,3.0153462134495785,3.031475396808807,3.0470685848504324,3.062108854038732,3.0765793201050045,3.090463335983142,3.1037447260294777,3.1164080586955687,3.128438958662261,3.139824457786452,3.150553381997193,3.160616768479616,3.170008304135718,3.178724772524138,3.1867664924738053,3.194137727672634,3.2008470432003815,3.206907582740715,3.212337239641464,3.2171586966151686,3.2213993130544774,3.225090845793337,3.2282689984520347,3.2309728056651266,3.2332438705652566,3.2351254856960936,3.2366616777745496,3.2378962242224714,3.238871693202303,3.239628558463839,3.240204435536721,3.2406334770442737,3.2409459529478175,3.2411680274779755,3.241321729727229,3.24142510082761,3.241492488732661,3.241534953061961,3.2415607380667333,3.2415757718374483,3.2415841541140265,3.24158860262926,3.241590837536002,3.2415918936444594,3.241592359488504,3.2415925495234474,3.241592620403681,3.241592644229589,3.241592651313231,3.241592653129286,3.241592653516512,3.241592653581465,3.2415926535892465,3.241592653589785,3.2415926535897936,3.2415926535897936,3.2415926535897936,3.2415926535897936,3.2415926535897936,3.2415926535897936,3.2415926535897936,3.2415926535897936,3.2415926535897936,3.2415926535897936,3.2415926535897936,3.2415926535897936,3.2415926535897936,3.2415926535897936,3.2415926535897936,3.241592653589793,3.241592653589794,3.2415926535897928,3.241592653589795,3.241592653589791,3.2415926535897985,3.241592653589783,3.241592653589818,3.2415926535897324,3.241592653589957,3.241592653589324,3.2415926535912414,3.241592653585011,3.2415926536067046,3.241592653525854,3.2415926538480613,3.2415926524762697,3.2415926587102573,3.241592628495379,3.241592784569188,3.24159192596459,3.2415969532163347,3.2415656433530002,3.2417729435330696,3.240314777194218,3.2511363130143303,3.1877578273995444,3.279752673134999,3.224082368709681,3.2499905526169024,3.2370155472761755,3.2444469552829447,3.2395685053812677,3.243212515446696,3.2401402215609267,3.243042587584187,3.2399900984184753,3.2435438570127335,3.238988215436675,3.2453832772435947,3.2356243288251822,3.251589599557853,3.224569505465519,3.267751436356159,3.2114565444970355,3.266917344584707,3.223291240452742,3.2546564568545953,3.231754022860745,3.2496104589119073,3.2344682442337906,3.2484950533204406,3.234330931130719,3.2498273177549124,3.231647679024372,3.2541310734623043,3.2256318956902015,3.2610983778218827,3.2199360760518942,3.2628879931628774,3.2225853731519667,3.2577954439566783,3.227781829996665,3.2537209684722708,3.2304437273145568],\"y\":[1.3163265,1.3163265000033306,1.3163265000016653,1.3163265000016653,1.3163265000016653,1.316326500004996,1.316326500004996,1.3163265000033306,1.316326500004996,1.3163265000083266,1.3163265000083266,1.3163265000083266,1.3163265000083266,1.3163265000083266,1.3163265000083266,1.3163265000083266,1.316326500009992,1.3163265000083266,1.3163265000091593,1.316326500007494,1.316326500007494,1.3163265000083266,1.3163265000083266,1.3163265000083266,1.3163265000083266,1.316326500007494,1.316326500007494,1.316326500007494,1.3163265000083266,1.3163265000083266,1.3163265000083266,1.3163265000083266,1.316326500007494,1.316326500007494,1.316326500007494,1.316326500007494,1.316326500007494,1.316326500007494,1.316326500007494,1.3163265000079103,1.316326500007494,1.3163265000070776,1.3163265000066613,1.3163265000066613,1.3163265000066613,1.3163265000066613,1.3163265000066613,1.3163265000068693,1.316326500007702,1.316326500007702,1.3163265000074937,1.316326500007702,1.316326500007702,1.316326500007702,1.3163265000079103,1.3163265000079103,1.3163265000081186,1.3163265000082227,1.3163265000084308,1.3163265000083266,1.3163265000083266,1.3163265000083266,1.3163265000082747,1.3163265000083266,1.3163265000083266,1.3163265000083786,1.3163265000083786,1.3163265000083266,1.3163265000083266,1.3163265000083266,1.3163265000083266,1.3163265000083006,1.3163265000082747,1.3163265000082747,1.3163265000082878,1.3163265000082878,1.3163265000082747,1.3163265000082747,1.3163265000082747,1.3163265000082682,1.3163265000082716,1.3163265000082716,1.316326500008275,1.3163265000082764,1.3163265000082764,1.3163265000082773,1.3163265000082773,1.3163265000082773,1.316326500008277,1.3163265000082771,1.3163265000082771,1.3163265000082771,1.3163265000082773,1.3163265000082773,1.3163265000082773,1.3163265000082773,1.3163265000082773,1.3163265000082773,1.3163265000082773,1.3163265000082773,1.3163265000082773,1.3163265000082773,1.3163265000082773,1.3163265000082773,1.3163265000082773,1.3163265000082773,1.3163265000082773,1.3163265000082773,1.3163265000082773,1.3163265000082773,1.3163265000082773,1.3163265000082773,1.3163265000082773,1.3163265000082773,1.3163265000082773,1.3163265000082773,1.3163265000082773,1.3163265000082773,1.3163265000082773,1.3163265000082773,1.3163265000082773,1.3163265000082773,1.3163265000082773,1.3163265000082773,1.3163265000082773,1.3163265000082773,1.3163265000082773,1.3163265000082773,1.3163265000082773,1.3163265000082773,1.3163265000082773,1.3163265000082773,1.3163265000082773,1.3163265000082773,1.3163265000082773,1.3163265000082773,1.3163265000082773,1.3163265000082773,1.3163265000082773,1.3163265000082773,1.3163265000082773,1.3163265000082773,1.3163265000082773,1.3163265000082773,1.3163265000082773,1.3163265000082773,1.3163265000082773,1.3163265000082773,1.3163265000082773,1.3163265000082773,1.3163265000082773,1.3163265000082773,1.3163265000082773,1.3163265000082773,1.3163265000082773,1.3163265000082773,1.3163265000082773,1.3163265000082773,1.3163265000082773,1.3163265000082773,1.3163265000082773,1.3163265000082773,1.3163265000082773,1.3163265000082773,1.3163265000082758,1.3163265000082758,1.3163265000082758,1.3163265000082758,1.3163265000082758,1.3163265000082758,1.3163265000082758,1.3163265000082758,1.3163265000082758,1.3163265000082758,1.3163265000082758,1.3163265000082758,1.3163265000082758,1.3163265000082758,1.3163265000082758,1.3163265000082758,1.3163265000082756,1.3163265000082747,1.3163265000082738,1.3163265000082738,1.3163265000082736,1.3163265000082736,1.3163265000082736,1.3163265000082736,1.3163265000082736,1.3163265000082736,1.3163265000082736,1.3163265000082736,1.3163265000082736,1.3163265000082733,1.3163265000082733,1.3163265000082733,1.3163265000082736,1.3163265000082736,1.3163265000082736,1.3163265000082738,1.3163265000082738,1.3163265000082738],\"z\":[0.842451231146697,0.8064010086236522,0.7774306761275511,0.7516355882398784,0.7277255808439804,0.7050955188315129,0.6834091850469122,0.6624601535877446,0.6421132367104292,0.6222759589436464,0.602883158629993,0.5838880159572,0.5652565054042498,0.5469637982314453,0.5289918362832395,0.5113276411866536,0.49396210242412053,0.4768890876293881,0.46010477536765393,0.44360714561480563,0.4273955840180861,0.41147057033958845,0.3958334296621615,0.3804861317621544,0.36543112725485116,0.3506712129164953,0.33620941985282116,0.3220489199447911,0.308192947297357,0.2946447316353442,0.28140744179836474,0.2684841373265954,0.25587772714789025,0.2435909339110367,0.2316262633394217,0.21998597773199435,0.20867207297123969,0.19768625874712598,0.18702994131308515,0.17670420854119584,0.16670981707284227,0.15704718108463567,0.14771636262594257,0.13871706328063738,0.13004861696390435,0.12170998383953702,0.1136997449939372,0.10601609802688472,0.09865685334079899,0.09161943104118109,0.08490085850644391,0.07849776837974787,0.07240639723022468,0.06662258463620674,0.06114177280687727,0.05595900671323761,0.051068934859358706,0.04646581059205346,0.042143494210904464,0.038095455849543214,0.034314779317355715,0.03079416710534133,0.02752594670164399,0.024502078551449813,0.021714165719458833,0.019153465967974626,0.01681090625061188,0.014677100261906162,0.012742369406623766,0.01099676766898483,0.009430111007532105,0.008032011581235565,0.006791917403461412,0.005699157831259072,0.004742995093693025,0.003912681990186684,0.0031975257879821584,0.002586957547464408,0.002070606526103802,0.0016383779438911006,0.0012805328151443973,0.0009877672127913684,0.0007512887677876279,0.0005628868530038744,0.0004149937740294263,0.0003007333871209994,0.00021395455405581743,0.00014924713468644768,0.00010193928028456867,6.807586760260165e-05,4.437929601408541e-05,2.8195034246891737e-05,1.742543827276677e-05,1.0456031304784119e-05,6.078611477278173e-06,3.415887476876378e-06,1.850901753641665e-06,9.644136298447847e-07,4.817848093807697e-07,2.3000757209956646e-07,1.0455551091581583e-07,4.508183337748051e-08,1.83499651029706e-08,7.0140231400728226e-09,2.5029294192790985e-09,8.294591680169106e-10,2.473825588822365e-10,7.275957614183426e-11,1.4551915228366852e-11,0.0,0.0,0.0,0.0,0.0,0.0,0.0,0.0,0.0,0.0,0.0,0.0,0.0,0.0,0.0,0.0,0.0,0.0,0.0,0.0,0.0,0.0,0.0,0.0,0.0,0.0,0.0,0.0,0.0,0.0,0.0,0.0,0.0,0.0,0.0,0.0,0.0,0.0,0.0,0.0,0.0,0.0,0.0,0.0,0.0,0.0,0.0,0.0,0.0,0.0,1.8917489796876907e-10,8.119968697428703e-09,4.0823942981660366e-07,2.2770182113163173e-05,0.0007243721483973786,0.00036400259705260396,7.665055454708636e-05,1.763107138685882e-05,5.237467121332884e-06,2.0367588149383664e-06,1.0242947610095143e-06,6.559857865795493e-07,5.273905117064714e-07,5.255715223029256e-07,6.420450517907739e-07,9.517971193417907e-07,1.6957783373072743e-06,3.592198481783271e-06,8.905204595066607e-06,2.49845179496333e-05,7.244513835757971e-05,0.0001710607175482437,0.00022702908609062433,0.00016032642452046275,8.373308810405433e-05,4.266513860784471e-05,2.4199471226893365e-05,1.6071207937784493e-05,1.2689255527220666e-05,1.191072806250304e-05,1.3183089322410524e-05,1.6952326404862106e-05,2.472542109899223e-05,3.93024820368737e-05,6.368508911691606e-05,9.511530515737832e-05,0.00011724725482054055,0.00011336858733557165,9.031646186485887e-05,6.563117494806647e-05,4.7683948650956154e-05,3.677354834508151e-05],\"type\":\"scatter3d\",\"showlegend\":false},{\"marker\":{\"color\":\"blue\",\"size\":7},\"name\":\"Finite Difference\",\"x\":[0.9163264999999999],\"y\":[1.3163265],\"z\":[0.842451231146697],\"type\":\"scatter3d\"},{\"line\":{\"color\":\"red\",\"width\":10},\"mode\":\"lines\",\"x\":[0.9163264999999999,1.0111947940669703,1.0826000253016157,1.1434161852555067,1.197917403556452,1.2481328032637788,1.29520965338746,1.3398688648637669,1.3825967965755874,1.4237387748652588,1.463549609774464,1.502223038614124,1.5399099280266404,1.5767300680963288,1.6127801137625768,1.6481391059712232,1.6828724154660306,1.7170346258807612,1.7506716840556074,1.7838225320790877,1.816520365107847,1.8487936139768502,1.8806667220721498,1.9121607661181348,1.9432939569586702,1.9740820469448495,2.0045386638280833,2.0346755862225803,2.0645029721710744,2.0940295497367827,2.123262776590682,2.152208974084897,2.1808734401731615,2.209260544667581,2.2373738096424813,2.2652159772637335,2.292789066901035,2.3200944230455387,2.347132755286777,2.3739041713865787,2.4004082043127095,2.426643833952873,2.4526095041141636,2.4783031353191314,2.5037221338335427,2.5288633972999173,2.5537233173027674,2.5782977791547004,2.6025821591660243,2.626571319643619,2.6502596018572646,2.6736408172134207,2.696708236887934,2.7194545801909866,2.741872001970693,2.763952079407291,2.7856857986094,2.8070635414989584,2.8280750735642792,2.8487095331731553,2.8689554232723853,2.8888006064584886,2.908232304588526,2.9272371043109904,2.945800970134703,2.9639092669169402,2.981546793936487,2.998697833015337,3.0153462134519997,3.0314753968111985,3.047068584852792,3.0621088540410573,3.0765793201072924,3.0904633359853895,3.1037447260316817,3.116408058697726,3.1284389586643684,3.1398244577885053,3.1505533819991887,3.16061676848155,3.1700083041375855,3.178724772525935,3.186766492475528,3.1941377276742777,3.200847043201942,3.2069075827421885,3.2123372396428467,3.2171586966164583,3.221399313055671,3.225090845794433,3.228268998453032,3.230972805666026,3.2332438705660587,3.2351254856968006,3.236661677775165,3.2378962242230003,3.238871693202751,3.2396285584642115,3.240204435537026,3.240633477044518,3.240945952948009,3.241168027478122,3.2413217297273382,3.2414251008276893,3.2414924887327174,3.2415349530619992,3.241560738066758,3.241575771837464,3.2415841541140358,3.2415886026292653,3.2415908375360045,3.2415918936444608,3.2415923594885045,3.2415925495234474,3.241592620403681,3.241592644229589,3.241592651313231,3.241592653129286,3.2415926535165114,3.2415926535814648,3.241592653589246,3.241592653589785,3.2415926535897936,3.241592653589793,3.2415926535897936,3.241592653589793,3.2415926535897936,3.241592653589793,3.2415926535897936,3.241592653589793,3.2415926535897936,3.241592653589793,3.2415926535897936,3.241592653589793,3.2415926535897936,3.241592653589793,3.2415926535897936,3.241592653589793,3.2415926535897936,3.2415926535897928,3.241592653589794,3.241592653589792,3.2415926535897963,3.2415926535897874,3.2415926535898065,3.2415926535897603,3.241592653589881,3.241592653589541,3.2415926535905712,3.2415926535872237,3.2415926535988793,3.24159265355544,3.2415926537285564,3.241592652991515,3.241592656340936,3.2415926401069677,3.241592723962919,3.241592262648438,3.241594963710294,3.2415781414206863,3.2416895206970753,3.240906002352448,3.246748418424409,3.205188291760551,3.2958839222151988,3.2169093044691865,3.252074452168425,3.236544906145874,3.2444010389948597,3.2397991750268726,3.242895296952409,3.2405256288127986,3.242571181923743,3.2405942570643376,3.242719874688901,3.2401910966437923,3.2435033289470394,3.2387497174230937,3.2461822821282715,3.233645276319484,3.255890053428746,3.21734684079732,3.273091271691685,3.2136205119555576,3.2616347414506475,3.2277601950380124,3.2516130396263203,3.233725647372318,3.24835167838152,3.2352331594880703,3.2481231363646774,3.234319222859348,3.250293588956347,3.2305899230440773,3.255901318991344,3.223316035340346,3.263135777753018,3.2192687280663876,3.262038195960958,3.2241788078732285,3.256177133794529,3.229102821777113],\"y\":[0.8163265,0.8163265,0.8163265,0.8163265,0.8163265,0.8163265,0.8163265,0.8163265,0.8163265,0.8163265,0.8163265,0.8163265,0.8163265,0.8163265,0.8163265,0.8163265,0.8163265,0.8163265,0.8163265,0.8163265,0.8163265,0.8163265,0.8163265,0.8163265,0.8163265,0.8163265,0.8163265,0.8163265,0.8163265,0.8163265,0.8163265,0.8163265,0.8163265,0.8163265,0.8163265,0.8163265,0.8163265,0.8163265,0.8163265,0.8163265,0.8163265,0.8163265,0.8163265,0.8163265,0.8163265,0.8163265,0.8163265,0.8163265,0.8163265,0.8163265,0.8163265,0.8163265,0.8163265,0.8163265,0.8163265,0.8163265,0.8163265,0.8163265,0.8163265,0.8163265,0.8163265,0.8163265,0.8163265,0.8163265,0.8163265,0.8163265,0.8163265,0.8163265,0.8163265,0.8163265,0.8163265,0.8163265,0.8163265,0.8163265,0.8163265,0.8163265,0.8163265,0.8163265,0.8163265,0.8163265,0.8163265,0.8163265,0.8163265,0.8163265,0.8163265,0.8163265,0.8163265,0.8163265,0.8163265,0.8163265,0.8163265,0.8163265,0.8163265,0.8163265,0.8163265,0.8163265,0.8163265,0.8163265,0.8163265,0.8163265,0.8163265,0.8163265,0.8163265,0.8163265,0.8163265,0.8163265,0.8163265,0.8163265,0.8163265,0.8163265,0.8163265,0.8163265,0.8163265,0.8163265,0.8163265,0.8163265,0.8163265,0.8163265,0.8163265,0.8163265,0.8163265,0.8163265,0.8163265,0.8163265,0.8163265,0.8163265,0.8163265,0.8163265,0.8163265,0.8163265,0.8163265,0.8163265,0.8163265,0.8163265,0.8163265,0.8163265,0.8163265,0.8163265,0.8163265,0.8163265,0.8163265,0.8163265,0.8163265,0.8163265,0.8163265,0.8163265,0.8163265,0.8163265,0.8163265,0.8163265,0.8163265,0.8163265,0.8163265,0.8163265,0.8163265,0.8163265,0.8163265,0.8163265,0.8163265,0.8163265,0.8163265,0.8163265,0.8163265,0.8163265,0.8163265,0.8163265,0.8163265,0.8163265,0.8163265,0.8163265,0.8163265,0.8163265,0.8163265,0.8163265,0.8163265,0.8163265,0.8163265,0.8163265,0.8163265,0.8163265,0.8163265,0.8163265,0.8163265,0.8163265,0.8163265,0.8163265,0.8163265,0.8163265,0.8163265,0.8163265,0.8163265,0.8163265,0.8163265,0.8163265,0.8163265,0.8163265,0.8163265,0.8163265,0.8163265,0.8163265,0.8163265,0.8163265],\"z\":[0.842451231146697,0.8064010086236522,0.7774306761275511,0.7516355882398784,0.7277255808439804,0.7050955188315129,0.6834091850469122,0.6624601535731927,0.6421132367104292,0.6222759589290945,0.602883158629993,0.5838880159572,0.5652565054042498,0.5469637982314453,0.5289918362832395,0.5113276411866536,0.49396210242412053,0.4768890876293881,0.46010477536765393,0.44360714561480563,0.4273955840180861,0.41147057032503653,0.3958334296621615,0.3804861317621544,0.36543112725485116,0.3506712129164953,0.33620941985282116,0.3220489199447911,0.308192947297357,0.2946447316353442,0.28140744179836474,0.2684841373265954,0.25587772714789025,0.2435909339110367,0.2316262633394217,0.21998597773199435,0.20867207297123969,0.19768625874712598,0.18702994131308515,0.17670420854119584,0.16670981707284227,0.15704718108463567,0.14771636262594257,0.13871706328063738,0.13004861696390435,0.12170998383953702,0.1136997449939372,0.10601609802688472,0.09865685334079899,0.09161943104118109,0.08490085850644391,0.07849776837974787,0.07240639723022468,0.06662258463620674,0.06114177280687727,0.05595900671323761,0.051068934859358706,0.04646581059205346,0.042143494210904464,0.038095455849543214,0.034314779317355715,0.03079416710534133,0.02752594670164399,0.024502078551449813,0.021714165719458833,0.019153465967974626,0.01681090625061188,0.014677100261906162,0.012742369406623766,0.01099676766898483,0.009430111007532105,0.008032011581235565,0.006791917403461412,0.005699157831259072,0.004742995093693025,0.003912681990186684,0.0031975257879821584,0.002586957547464408,0.002070606526103802,0.0016383779438911006,0.0012805328151443973,0.0009877672127913684,0.0007512887677876279,0.0005628868530038744,0.0004149937740294263,0.0003007333871209994,0.00021395455405581743,0.00014924713468644768,0.00010193928028456867,6.807586760260165e-05,4.437929601408541e-05,2.8195034246891737e-05,1.742543827276677e-05,1.0456031304784119e-05,6.078611477278173e-06,3.415887476876378e-06,1.850901753641665e-06,9.644136298447847e-07,4.817848093807697e-07,2.3000757209956646e-07,1.0455551091581583e-07,4.508183337748051e-08,1.83499651029706e-08,7.0140231400728226e-09,2.5029294192790985e-09,8.294591680169106e-10,2.473825588822365e-10,7.275957614183426e-11,1.4551915228366852e-11,0.0,0.0,0.0,0.0,0.0,0.0,0.0,0.0,0.0,0.0,0.0,0.0,0.0,0.0,0.0,0.0,0.0,0.0,0.0,0.0,0.0,0.0,0.0,0.0,0.0,0.0,0.0,0.0,0.0,0.0,0.0,0.0,0.0,0.0,0.0,0.0,0.0,0.0,0.0,0.0,0.0,0.0,0.0,0.0,0.0,0.0,0.0,0.0,0.0,0.0,5.820766091346741e-11,2.342858351767063e-09,1.178705133497715e-07,6.645466783083975e-06,0.00033128280483651906,0.0007367044745478779,0.00015230919234454632,2.746676909737289e-05,6.369926268234849e-06,1.9717554096132517e-06,8.041388355195522e-07,4.2421743273735046e-07,2.846354618668556e-07,2.393790055066347e-07,2.4920154828578234e-07,3.1765375752002e-07,4.910834832116961e-07,9.126670192927122e-07,2.0205770852044225e-06,5.266163498163223e-06,1.579012314323336e-05,5.110303754918277e-05,0.0001469576673116535,0.0002480202238075435,0.00019559742941055447,0.00010041796485893428,4.783346957992762e-05,2.5101820938289165e-05,1.547236752230674e-05,1.1421056115068495e-05,1.0110758012160659e-05,1.066176628228277e-05,1.3225639122538269e-05,1.892645377665758e-05,3.026470949407667e-05,5.118359695188701e-05,8.350636926479638e-05,0.0001160220563178882,0.00012458424316719174,0.00010450140689499676,7.580859528388828e-05,5.3175826906226575e-05],\"type\":\"scatter3d\",\"showlegend\":false},{\"marker\":{\"color\":\"red\",\"size\":7},\"name\":\"Linear Combination of Unitaries\",\"x\":[0.9163264999999999],\"y\":[0.8163265],\"z\":[0.842451231146697],\"type\":\"scatter3d\"},{\"line\":{\"color\":\"purple\",\"width\":10},\"mode\":\"lines\",\"x\":[0.9163264999999999,1.0111948275714202,1.082600071756304,1.1434162390634395,1.1979174622438449,1.2481328654726709,1.2952097182735798,1.3398689318579682,1.3825968652717908,1.4237388449613335,1.463549681038278,1.502223110862741,1.5399100011129039,1.5767301418998405,1.61278018818342,1.6481391809254649,1.6828724908824186,1.717034701698246,1.7506717602214472,1.7838226085473767,1.816520441838353,1.8487936909340865,1.8806667992246247,1.9121608434377368,1.9432940344201617,1.9740821245254436,2.0045387415070888,2.0346756639811003,2.064503049991748,2.0940296276035637,2.1232628544886447,2.15220905200007,2.180873518092376,2.20926062257834,2.2373738875328395,2.26521605512219,2.2927891447164344,2.3200945008069795,2.3471328329835255,2.3739042490079894,2.4004082818481463,2.426643911391634,2.4526095814454085,2.4783032125318063,2.5037222109163078,2.5288634742410707,2.5537233940901696,2.5782978557756935,2.602582235607349,2.626571395891326,2.650259677896622,2.6736408930288142,2.6967083124627598,2.7194546555075387,2.741872077010037,2.763952154149132,2.785685873031936,2.807063615578725,2.8280751472759786,2.848709606489471,2.868955496163783,2.888800678893001,2.908232376531521,2.9272371757249216,2.945801040978846,2.9639093371471117,2.98154686350475,2.998697901869698,3.015346281536094,3.0314754640639805,3.0470686512082286,3.062108919427842,3.076579384448591,3.090463399198634,3.1037447880284383,3.116408119383659,3.1284390179393324,3.1398245155468034,3.15055343813003,3.1606168228697524,3.170008356664567,3.1787248230710285,3.1867665409176604,3.1941377738940306,3.2008470870840044,3.206907624178188,3.212337278534512,3.2171587328790414,3.2213993466215154,3.225090876616537,3.2282690265084297,3.230972830958767,3.2332438931295644,3.235125505595358,3.2366616951043543,3.237896239108875,3.2388717057996637,3.2396285689512583,3.2402044441131914,3.240633483922717,3.2409459583483384,3.241168031620733,3.2413217328254142,3.241425103081031,3.241492490322409,3.241534954146536,3.241560738779858,3.241575772287618,3.24158415438566,3.2415886027851366,3.2415908376205684,3.241591893687531,3.241592359508927,3.2415925495323705,3.2415926204072276,3.241592644230851,3.241592651313624,3.2415926531293895,3.2415926535165336,3.2415926535814683,3.2415926535892465,3.2415926535897857,3.241592653589793,3.2415926535897936,3.241592653589794,3.241592653589793,3.2415926535897936,3.241592653589794,3.241592653589793,3.2415926535897936,3.241592653589794,3.2415926535897928,3.241592653589793,3.2415926535897936,3.241592653589794,3.2415926535897923,3.2415926535897945,3.2415926535897905,3.241592653589797,3.2415926535897883,3.241592653589803,3.241592653589776,3.2415926535898296,3.2415926535897155,3.241592653589975,3.241592653589344,3.241592653590996,3.241592653586337,3.2415926536004545,3.241592653554557,3.241592653714449,3.2415926531181953,3.2415926554959564,3.2415926453653956,3.241592691439232,3.2415924679346757,3.241593623541956,3.2415872595473005,3.241624564773733,3.241391931159458,3.2429341402035123,3.232140226714706,3.2933730901415466,3.201748271270011,3.2602586751863387,3.232613681345536,3.2464812121667865,3.238550482160981,3.2437449809401526,3.2398743176429905,3.243129744534032,3.240061776956296,3.243280767680001,3.239542053866826,3.2443231492956337,3.2376292012920262,3.2478122033241825,3.231227861609435,3.2590765864628217,3.2151799726858377,3.2714523008487446,3.2166947407243947,3.2596172236608085,3.228655156512411,3.2513983898222003,3.2335523267494928,3.248777100511524,3.2345981436642517,3.248980752310804,3.2331904507855613,3.2517535618768107,3.228794183332022,3.257815915545294,3.221921605876673,3.263222004915401,3.2204862137285084,3.2603710443635197,3.225572736062762,3.25529062316085,3.229513031328946,3.2527453024687647,3.2307515190201306],\"y\":[0.31632649999999995,0.31632649999999995,0.31632649999999995,0.31632649999999995,0.31632649999999995,0.31632649999999995,0.31632649999999995,0.31632649999999995,0.31632649999999995,0.31632649999999995,0.31632649999999995,0.31632649999999995,0.31632649999999995,0.31632649999999995,0.31632649999999995,0.31632649999999995,0.31632649999999995,0.31632649999999995,0.31632649999999995,0.31632649999999995,0.31632649999999995,0.31632649999999995,0.31632649999999995,0.31632649999999995,0.31632649999999995,0.31632649999999995,0.31632649999999995,0.31632649999999995,0.31632649999999995,0.31632649999999995,0.31632649999999995,0.31632649999999995,0.31632649999999995,0.31632649999999995,0.31632649999999995,0.31632649999999995,0.31632649999999995,0.31632649999999995,0.31632649999999995,0.31632649999999995,0.31632649999999995,0.31632649999999995,0.31632649999999995,0.31632649999999995,0.31632649999999995,0.31632649999999995,0.31632649999999995,0.31632649999999995,0.31632649999999995,0.31632649999999995,0.31632649999999995,0.31632649999999995,0.31632649999999995,0.31632649999999995,0.31632649999999995,0.31632649999999995,0.31632649999999995,0.31632649999999995,0.31632649999999995,0.31632649999999995,0.31632649999999995,0.31632649999999995,0.31632649999999995,0.31632649999999995,0.31632649999999995,0.31632649999999995,0.31632649999999995,0.31632649999999995,0.31632649999999995,0.31632649999999995,0.31632649999999995,0.31632649999999995,0.31632649999999995,0.31632649999999995,0.31632649999999995,0.31632649999999995,0.31632649999999995,0.31632649999999995,0.31632649999999995,0.31632649999999995,0.31632649999999995,0.31632649999999995,0.31632649999999995,0.31632649999999995,0.31632649999999995,0.31632649999999995,0.31632649999999995,0.31632649999999995,0.31632649999999995,0.31632649999999995,0.31632649999999995,0.31632649999999995,0.31632649999999995,0.31632649999999995,0.31632649999999995,0.31632649999999995,0.31632649999999995,0.31632649999999995,0.31632649999999995,0.31632649999999995,0.31632649999999995,0.31632649999999995,0.31632649999999995,0.31632649999999995,0.31632649999999995,0.31632649999999995,0.31632649999999995,0.31632649999999995,0.31632649999999995,0.31632649999999995,0.31632649999999995,0.31632649999999995,0.31632649999999995,0.31632649999999995,0.31632649999999995,0.31632649999999995,0.31632649999999995,0.31632649999999995,0.31632649999999995,0.31632649999999995,0.31632649999999995,0.31632649999999995,0.31632649999999995,0.31632649999999995,0.31632649999999995,0.31632649999999995,0.31632649999999995,0.31632649999999995,0.31632649999999995,0.31632649999999995,0.31632649999999995,0.31632649999999995,0.31632649999999995,0.31632649999999995,0.31632649999999995,0.31632649999999995,0.31632649999999995,0.31632649999999995,0.31632649999999995,0.31632649999999995,0.31632649999999995,0.31632649999999995,0.31632649999999995,0.31632649999999995,0.31632649999999995,0.31632649999999995,0.31632649999999995,0.31632649999999995,0.31632649999999995,0.31632649999999995,0.31632649999999995,0.31632649999999995,0.31632649999999995,0.31632649999999995,0.31632649999999995,0.31632649999999995,0.31632649999999995,0.31632649999999995,0.31632649999999995,0.31632649999999995,0.31632649999999995,0.31632649999999995,0.31632649999999995,0.31632649999999995,0.31632649999999995,0.31632649999999995,0.31632649999999995,0.31632649999999995,0.31632649999999995,0.31632649999999995,0.31632649999999995,0.31632649999999995,0.31632649999999995,0.31632649999999995,0.31632649999999995,0.31632649999999995,0.31632649999999995,0.31632649999999995,0.31632649999999995,0.31632649999999995,0.31632649999999995,0.31632649999999995,0.31632649999999995,0.31632649999999995,0.31632649999999995,0.31632649999999995,0.31632649999999995,0.31632649999999995,0.31632649999999995,0.31632649999999995,0.31632649999999995,0.31632649999999995,0.31632649999999995,0.31632649999999995,0.31632649999999995,0.31632649999999995,0.31632649999999995,0.31632649999999995,0.31632649999999995,0.31632649999999995,0.31632649999999995,0.31632649999999995],\"z\":[0.842451231146697,0.8064009953959612,0.7774306568026077,0.7516355650004698,0.7277255547232926,0.7050954904698301,0.68340915486624,0.6624601218936732,0.642113203779445,0.6222759249503724,0.6028831237636041,0.5838879803486634,0.5652564691845328,0.5469637614878593,0.5289917991322,0.5113276037154719,0.4939620647201082,0.47688904975075275,0.460104737416259,0.44360710761975497,0.42739554606669117,0.4114705324609531,0.3958333919290453,0.3804860942182131,0.36543108995829243,0.35067117589642294,0.33620938315289095,0.3220488836086588,0.3081929113541264,0.294644696143223,0.2814074067719048,0.26848410279490054,0.25587769314006437,0.2435909004707355,0.23162623048119713,0.2199859454703983,0.2086720413499279,0.19768622778065037,0.18702991101599764,0.17670417892804835,0.16670978817273863,0.15704715291212779,0.14771633519558236,0.13871703659242485,0.13004859103239141,0.12170995867927559,0.11369972060492728,0.10601607443823013,0.09865683053794783,0.09161940905323718,0.08490083730430342,0.07849774799251463,0.07240637764334679,0.06662256584968418,0.06114175482071005,0.05595898952742573,0.05106891847390216,0.04646579500695225,0.04214347941160668,0.038095441821496934,0.034314766046009026,0.030794154590694234,0.02752593492914457,0.024502067506546155,0.02171415538759902,0.019153456334606744,0.01681089731573593,0.014677091981866397,0.012742361766868271,0.01099676065496169,0.00943010459013749,0.008032005731365643,0.006791912121116184,0.005699153072782792,0.0047429908299818635,0.0039126782066887245,0.003197522441041656,0.002586954622529447,0.002070603979518637,0.001638375746551901,0.0012805309379473329,0.0009877656266326085,0.0007512874435633421,0.0005628857616102323,0.0004149928718106821,0.000300732659525238,0.00021395398653112352,0.00014924669812899083,0.00010193894559051841,6.807562022004277e-05,4.437910683918744e-05,2.8194888727739453e-05,1.74253509612754e-05,1.0455958545207977e-05,6.078582373447716e-06,3.4158729249611497e-06,1.8508872017264366e-06,9.644136298447847e-07,4.817848093807697e-07,2.3000757209956646e-07,1.0455551091581583e-07,4.508183337748051e-08,1.83499651029706e-08,7.0140231400728226e-09,2.5029294192790985e-09,8.294591680169106e-10,2.473825588822365e-10,7.275957614183426e-11,1.4551915228366852e-11,0.0,0.0,0.0,0.0,0.0,0.0,0.0,0.0,0.0,0.0,0.0,0.0,0.0,0.0,0.0,0.0,0.0,0.0,0.0,0.0,0.0,0.0,0.0,0.0,0.0,0.0,0.0,0.0,0.0,0.0,0.0,0.0,0.0,0.0,0.0,0.0,0.0,0.0,0.0,0.0,0.0,0.0,0.0,0.0,0.0,0.0,0.0,0.0,0.0,2.473825588822365e-10,1.0069925338029861e-08,4.4990156311541796e-07,2.2336927941069007e-05,0.0006701536476612091,0.00039684119110461324,8.710255497135222e-05,2.0155348465777934e-05,5.974492523819208e-06,2.313696313649416e-06,1.1581287253648043e-06,7.381750037893653e-07,5.906622391194105e-07,5.858892109245062e-07,7.124326657503843e-07,1.0512449080124497e-06,1.8638966139405966e-06,3.927227226085961e-06,9.67066443990916e-06,2.6856985641643405e-05,7.64200376579538e-05,0.00017439728253521025,0.00022288307081907988,0.00015496851119678468,8.121908467728645e-05,4.184411955066025e-05,2.4037930415943265e-05,1.6161633539013565e-05,1.2904012692160904e-05,1.2230739230290055e-05,1.3645942090079188e-05,1.7649144865572453e-05,2.58107902482152e-05,4.094965697731823e-05,6.579711043741554e-05,9.673440945334733e-05,0.00011695265129674226,0.00011136631655972451,8.815439650788903e-05,6.415807001758367e-05,4.690786590799689e-05,3.647887206170708e-05,3.109507088083774e-05],\"type\":\"scatter3d\",\"showlegend\":false},{\"marker\":{\"color\":\"purple\",\"size\":7},\"name\":\"Quantum Natural Gradient\",\"x\":[0.9163264999999999],\"y\":[0.31632649999999995],\"z\":[0.842451231146697],\"type\":\"scatter3d\"},{\"line\":{\"color\":\"black\",\"width\":10},\"mode\":\"lines\",\"x\":[0.9163264999999999,0.8214581743860571,0.7591255260524479,0.7097245435378104,0.6676445070484391,0.6304032253266406,0.5966599842325089,0.5656010169359156,0.53669323588061,0.5095683689984268,0.4839620717827011,0.45967921419919966,0.4365728074110774,0.41453055235573877,0.39346589062765025,0.3733118372463554,0.3540165965109072,0.33554035525954373,0.3178528721004956,0.30093161424115444,0.2847602752721028,0.2693275590650971,0.254626148795838,0.24065180295820846,0.22740253627919066,0.21487785527127873,0.20307802743101613,0.19200337088318442,0.1816535582649609,0.17202693524020235,0.16311986039072585,0.154926079295517,0.14743615113019698,0.14063695067719756,0.13451127168828556,0.1290375584957863,0.12418979109772829,0.11993754430001718,0.11624623384458423,0.11307755213604757,0.11039008396677948,0.10814007965995268,0.10628235066191943,0.10477124222379809,0.10356163066395374,0.10260988970917095,0.10187477202858845,0.1013181582535265,0.10090563598579506,0.10060688458723774,0.10039585664685352,0.1002507624749726,0.10015387825583541,0.10009121018067534,0.10005205483357896,0.10002849959506217,0.1000149057029493,0.10000741131321084,0.10000348343822461,0.10000153740938332,0.10000063207430429,0.10000023973067189,0.10000008287482287,0.10000002571664719,0.10000000702064672,0.10000000164054997,0.10000000031535122,0.10000000004683865,0.10000000000479958,0.10000000000025881,0.10000000000000071,0.09999999999999996,0.1,0.1,0.1,0.1,0.1,0.1,0.1,0.1,0.1,0.1,0.1,0.1,0.1,0.1,0.1,0.1,0.1,0.1,0.1,0.1,0.1,0.1,0.1,0.1,0.1,0.09999999999999999,0.10000000000000003,0.09999999999999991,0.10000000000000041,0.09999999999999837,0.10000000000000717,0.09999999999996653,0.10000000000016668,0.09999999999911632,0.10000000000498623,0.0999999999700742,0.10000000019093312,0.0999999987056324,0.10000000931900162,0.09999992877638211,0.10000057761862118,0.09999503119845042,0.10004532068487978,0.09956185276795851,0.1044817353340979,0.05818403590611795,0.15105999199129874,0.07674063494201158,0.11012147897934792,0.09500761286207807,0.10283870024740387,0.09815080270496099,0.10136793785519262,0.09886022184853106,0.1010620989011676,0.09889986542999453,0.10125994504311116,0.0984121138386422,0.1021923111062559,0.09670011756862675,0.10537763776975709,0.09065206176232957,0.11660521011867121,0.0733518332592499,0.13129487875688536,0.07407693916985884,0.11827832940748531,0.08723793422951573,0.10944677673328135,0.09240050722059484,0.10669011194542735,0.09355772969106999,0.10675794387492987,0.09233165859166362,0.10930835905542366,0.08813401029667045,0.11538752139661743,0.08071097339600963,0.12197208192959026,0.07805580016349885,0.11961615785899934,0.08341913683451337,0.11395295909608513,0.08790985031366522,0.11098208837173526,0.08946663024821572,0.1106689248965935,0.08865031237134356,0.11254497522816927,0.08583152578894507,0.11598520703784423,0.08244089294670243,0.11838576422863878,0.08178414059918271,0.11723909834953408,0.08409895164478158,0.11460814117707585,0.08640017875476524,0.11297320724347715,0.08725420647936012,0.112897580200196,0.08661579472999806,0.1141289726261286,0.08499321050721986,0.11584066622000996,0.08356503197528733,0.11664733356915627,0.08354498113730456,0.1159590323216721,0.08467528810733835,0.11471132192233886,0.08576719989862293,0.11395165339445978,0.0861118157001954,0.11403038675906443,0.08566078676876383,0.11475091500938868,0.08481808375575908,0.11554186974450888,0.08424439766361828,0.1157859191676194,0.0843556388784165,0.11538314814282633,0.0849259591604157,0.11478636887010589,0.08542726492362754,0.11446350258765269,0.08553310092570932,0.11457146032305005,0.0852506179498592],\"y\":[-0.18367350000000005,-0.18367349999999358,-0.18367349999999358,-0.18367349999999358,-0.18367349999999358,-0.183673499999992,-0.1836734999999934,-0.1836734999999947,-0.18367349999999585,-0.18367349999999694,-0.18367349999999694,-0.18367349999999694,-0.1836734999999961,-0.1836734999999965,-0.18367349999999685,-0.18367349999999685,-0.18367349999999624,-0.1836734999999968,-0.18367349999999655,-0.18367349999999655,-0.18367349999999677,-0.18367349999999677,-0.18367349999999677,-0.18367349999999685,-0.18367349999999694,-0.18367349999999694,-0.18367349999999694,-0.183673499999997,-0.183673499999997,-0.183673499999997,-0.18367349999999696,-0.18367349999999696,-0.183673499999997,-0.183673499999997,-0.183673499999997,-0.183673499999997,-0.183673499999997,-0.183673499999997,-0.183673499999997,-0.183673499999997,-0.183673499999997,-0.183673499999997,-0.183673499999997,-0.183673499999997,-0.183673499999997,-0.183673499999997,-0.183673499999997,-0.183673499999997,-0.183673499999997,-0.183673499999997,-0.183673499999997,-0.183673499999997,-0.183673499999997,-0.183673499999997,-0.183673499999997,-0.183673499999997,-0.183673499999997,-0.183673499999997,-0.183673499999997,-0.183673499999997,-0.183673499999997,-0.183673499999997,-0.183673499999997,-0.183673499999997,-0.183673499999997,-0.183673499999997,-0.183673499999997,-0.183673499999997,-0.183673499999997,-0.183673499999997,-0.183673499999997,-0.183673499999997,-0.183673499999997,-0.183673499999997,-0.183673499999997,-0.183673499999997,-0.183673499999997,-0.183673499999997,-0.183673499999997,-0.183673499999997,-0.183673499999997,-0.183673499999997,-0.183673499999997,-0.183673499999997,-0.183673499999997,-0.183673499999997,-0.183673499999997,-0.183673499999997,-0.183673499999997,-0.183673499999997,-0.183673499999997,-0.183673499999997,-0.183673499999997,-0.183673499999997,-0.183673499999997,-0.183673499999997,-0.183673499999997,-0.183673499999997,-0.183673499999997,-0.183673499999997,-0.183673499999997,-0.183673499999997,-0.183673499999997,-0.183673499999997,-0.183673499999997,-0.183673499999997,-0.183673499999997,-0.183673499999997,-0.183673499999997,-0.183673499999997,-0.183673499999997,-0.183673499999997,-0.183673499999997,-0.183673499999997,-0.183673499999997,-0.183673499999997,-0.183673499999997,-0.183673499999997,-0.183673499999997,-0.183673499999997,-0.183673499999997,-0.183673499999997,-0.183673499999997,-0.183673499999997,-0.183673499999997,-0.183673499999997,-0.183673499999997,-0.183673499999997,-0.183673499999997,-0.183673499999997,-0.183673499999997,-0.183673499999997,-0.183673499999997,-0.183673499999997,-0.183673499999997,-0.183673499999997,-0.183673499999997,-0.183673499999997,-0.183673499999997,-0.183673499999997,-0.183673499999997,-0.183673499999997,-0.183673499999997,-0.183673499999997,-0.183673499999997,-0.183673499999997,-0.183673499999997,-0.183673499999997,-0.183673499999997,-0.183673499999997,-0.183673499999997,-0.183673499999997,-0.183673499999997,-0.183673499999997,-0.183673499999997,-0.183673499999997,-0.183673499999997,-0.183673499999997,-0.183673499999997,-0.183673499999997,-0.183673499999997,-0.183673499999997,-0.183673499999997,-0.183673499999997,-0.183673499999997,-0.183673499999997,-0.183673499999997,-0.183673499999997,-0.183673499999997,-0.183673499999997,-0.183673499999997,-0.183673499999997,-0.183673499999997,-0.183673499999997,-0.183673499999997,-0.183673499999997,-0.183673499999997,-0.183673499999997,-0.183673499999997,-0.183673499999997,-0.183673499999997,-0.183673499999997,-0.183673499999997,-0.183673499999997,-0.183673499999997,-0.183673499999997,-0.183673499999997,-0.183673499999997,-0.183673499999997,-0.183673499999997,-0.183673499999997,-0.183673499999997,-0.183673499999997,-0.183673499999997,-0.183673499999997,-0.183673499999997,-0.183673499999997,-0.183673499999997,-0.183673499999997,-0.183673499999997,-0.183673499999997,-0.183673499999997],\"z\":[0.842451231146697,0.8754217161913402,0.8952640420466196,0.9099028933997033,0.9215848689491395,0.931301578268176,0.9395894763729302,0.9467759472463513,0.9530775977036683,0.9586463947634911,0.9635938684077701,0.9680048900481779,0.9719460255728336,0.9754708583786851,0.9786235214851331,0.9814411207189551,0.9839554433856392,0.9861941907147411,0.9881818831781857,0.9899405346950516,0.991490159460227,0.9928491546015721,0.9940345884533599,0.9950624156335834,0.9959476341900881,0.996704396296991,0.9973460811597761,0.9978853372158483,0.9983341000042856,0.9987035907688551,0.9990043014549883,0.9992459710483672,0.9994375583628425,0.9995872163708555,0.9997022725874558,0.9997892198589398,0.9998537206411129,0.9999006268772064,0.9999340164213208,0.9999572450178675,0.9999730117851868,0.9999834348709555,0.9999901330447756,0.9999943088187138,0.9999968287011143,0.9999982971203281,0.9999991213117028,0.9999995656107785,0.9999997949489625,0.9999999079300324,0.9999999608262442,0.9999999842839316,0.9999999940773705,0.9999999979190761,0.99999999931606,0.9999999997962732,0.9999999999417923,0.9999999999854481,1.0,1.0,1.0,1.0,1.0,1.0,1.0,1.0,1.0,1.0,1.0,1.0,1.0,1.0,1.0,1.0,1.0,1.0,1.0,1.0,1.0,1.0,1.0,1.0,1.0,1.0,1.0,1.0,1.0,1.0,1.0,1.0,1.0,1.0,1.0,1.0,1.0,1.0,1.0,1.0,1.0,1.0,1.0,1.0,1.0,1.0,1.0,1.0,1.0,1.0,1.0,1.0,1.0,1.0,1.0,1.0,0.999999999490683,0.9999999520077836,0.9999949785269564,0.9995629199838731,0.999348360899603,0.9998647565807914,0.9999743891385151,0.9999937690299703,0.9999979854474077,0.9999991451186361,0.9999995321850292,0.9999996752303559,0.9999997179838829,0.9999996974220267,0.9999996031401679,0.999999369654688,0.9999987984483596,0.9999972777004587,0.9999927702738205,0.9999781541700941,0.9999310683342628,0.9998224793089321,0.9997551776177716,0.9998320081358543,0.9999164779874263,0.9999592829699395,0.9999776897748234,0.999985561997164,0.9999888106394792,0.9999896243243711,0.9999885825964157,0.9999852992041269,0.9999783387756906,0.9999647999793524,0.9999408072180813,0.9999069862533361,0.9998793117556488,0.9998796178551856,0.9999038046662463,0.9999312703148462,0.999951329518808,0.9999634575215168,0.999969848737237,0.999972262288793,0.9999715437734267,0.9999677964951843,0.9999606564088026,0.9999498144170502,0.9999361196532845,0.9999229214154184,0.9999154933029786,0.9999170479131863,0.9999257052113535,0.9999367904965766,0.9999466515000677,0.9999537619296461,0.9999579245632049,0.999959386739647,0.9999584136821795,0.999955216437229,0.9999500938574784,0.9999437001242768,0.9999372696329374,0.9999324744712794,0.9999307181715267,0.9999323096126318,0.9999363286769949,0.9999412894540001,0.9999458952224813,0.9999493577051908,0.999951338628307,0.9999517803662457,0.9999507878674194,0.9999485976150027,0.9999456036166521,0.9999423784611281,0.9999396137864096,0.9999379415385192,0.9999377024796559,0.9999388147407444,0.9999408408621093,0.9999431944015669,0.9999453418131452,0.9999469097820111,0.999947702686768,0.9999476781231351,0.9999469190806849],\"type\":\"scatter3d\",\"showlegend\":false},{\"marker\":{\"color\":\"black\",\"size\":7},\"name\":\"Quantum Newton Gradient\",\"x\":[0.9163264999999999],\"y\":[-0.18367350000000005],\"z\":[0.842451231146697],\"type\":\"scatter3d\"}],                        {\"template\":{\"data\":{\"bar\":[{\"error_x\":{\"color\":\"#2a3f5f\"},\"error_y\":{\"color\":\"#2a3f5f\"},\"marker\":{\"line\":{\"color\":\"#E5ECF6\",\"width\":0.5},\"pattern\":{\"fillmode\":\"overlay\",\"size\":10,\"solidity\":0.2}},\"type\":\"bar\"}],\"barpolar\":[{\"marker\":{\"line\":{\"color\":\"#E5ECF6\",\"width\":0.5},\"pattern\":{\"fillmode\":\"overlay\",\"size\":10,\"solidity\":0.2}},\"type\":\"barpolar\"}],\"carpet\":[{\"aaxis\":{\"endlinecolor\":\"#2a3f5f\",\"gridcolor\":\"white\",\"linecolor\":\"white\",\"minorgridcolor\":\"white\",\"startlinecolor\":\"#2a3f5f\"},\"baxis\":{\"endlinecolor\":\"#2a3f5f\",\"gridcolor\":\"white\",\"linecolor\":\"white\",\"minorgridcolor\":\"white\",\"startlinecolor\":\"#2a3f5f\"},\"type\":\"carpet\"}],\"choropleth\":[{\"colorbar\":{\"outlinewidth\":0,\"ticks\":\"\"},\"type\":\"choropleth\"}],\"contour\":[{\"colorbar\":{\"outlinewidth\":0,\"ticks\":\"\"},\"colorscale\":[[0.0,\"#0d0887\"],[0.1111111111111111,\"#46039f\"],[0.2222222222222222,\"#7201a8\"],[0.3333333333333333,\"#9c179e\"],[0.4444444444444444,\"#bd3786\"],[0.5555555555555556,\"#d8576b\"],[0.6666666666666666,\"#ed7953\"],[0.7777777777777778,\"#fb9f3a\"],[0.8888888888888888,\"#fdca26\"],[1.0,\"#f0f921\"]],\"type\":\"contour\"}],\"contourcarpet\":[{\"colorbar\":{\"outlinewidth\":0,\"ticks\":\"\"},\"type\":\"contourcarpet\"}],\"heatmap\":[{\"colorbar\":{\"outlinewidth\":0,\"ticks\":\"\"},\"colorscale\":[[0.0,\"#0d0887\"],[0.1111111111111111,\"#46039f\"],[0.2222222222222222,\"#7201a8\"],[0.3333333333333333,\"#9c179e\"],[0.4444444444444444,\"#bd3786\"],[0.5555555555555556,\"#d8576b\"],[0.6666666666666666,\"#ed7953\"],[0.7777777777777778,\"#fb9f3a\"],[0.8888888888888888,\"#fdca26\"],[1.0,\"#f0f921\"]],\"type\":\"heatmap\"}],\"heatmapgl\":[{\"colorbar\":{\"outlinewidth\":0,\"ticks\":\"\"},\"colorscale\":[[0.0,\"#0d0887\"],[0.1111111111111111,\"#46039f\"],[0.2222222222222222,\"#7201a8\"],[0.3333333333333333,\"#9c179e\"],[0.4444444444444444,\"#bd3786\"],[0.5555555555555556,\"#d8576b\"],[0.6666666666666666,\"#ed7953\"],[0.7777777777777778,\"#fb9f3a\"],[0.8888888888888888,\"#fdca26\"],[1.0,\"#f0f921\"]],\"type\":\"heatmapgl\"}],\"histogram\":[{\"marker\":{\"pattern\":{\"fillmode\":\"overlay\",\"size\":10,\"solidity\":0.2}},\"type\":\"histogram\"}],\"histogram2d\":[{\"colorbar\":{\"outlinewidth\":0,\"ticks\":\"\"},\"colorscale\":[[0.0,\"#0d0887\"],[0.1111111111111111,\"#46039f\"],[0.2222222222222222,\"#7201a8\"],[0.3333333333333333,\"#9c179e\"],[0.4444444444444444,\"#bd3786\"],[0.5555555555555556,\"#d8576b\"],[0.6666666666666666,\"#ed7953\"],[0.7777777777777778,\"#fb9f3a\"],[0.8888888888888888,\"#fdca26\"],[1.0,\"#f0f921\"]],\"type\":\"histogram2d\"}],\"histogram2dcontour\":[{\"colorbar\":{\"outlinewidth\":0,\"ticks\":\"\"},\"colorscale\":[[0.0,\"#0d0887\"],[0.1111111111111111,\"#46039f\"],[0.2222222222222222,\"#7201a8\"],[0.3333333333333333,\"#9c179e\"],[0.4444444444444444,\"#bd3786\"],[0.5555555555555556,\"#d8576b\"],[0.6666666666666666,\"#ed7953\"],[0.7777777777777778,\"#fb9f3a\"],[0.8888888888888888,\"#fdca26\"],[1.0,\"#f0f921\"]],\"type\":\"histogram2dcontour\"}],\"mesh3d\":[{\"colorbar\":{\"outlinewidth\":0,\"ticks\":\"\"},\"type\":\"mesh3d\"}],\"parcoords\":[{\"line\":{\"colorbar\":{\"outlinewidth\":0,\"ticks\":\"\"}},\"type\":\"parcoords\"}],\"pie\":[{\"automargin\":true,\"type\":\"pie\"}],\"scatter\":[{\"marker\":{\"colorbar\":{\"outlinewidth\":0,\"ticks\":\"\"}},\"type\":\"scatter\"}],\"scatter3d\":[{\"line\":{\"colorbar\":{\"outlinewidth\":0,\"ticks\":\"\"}},\"marker\":{\"colorbar\":{\"outlinewidth\":0,\"ticks\":\"\"}},\"type\":\"scatter3d\"}],\"scattercarpet\":[{\"marker\":{\"colorbar\":{\"outlinewidth\":0,\"ticks\":\"\"}},\"type\":\"scattercarpet\"}],\"scattergeo\":[{\"marker\":{\"colorbar\":{\"outlinewidth\":0,\"ticks\":\"\"}},\"type\":\"scattergeo\"}],\"scattergl\":[{\"marker\":{\"colorbar\":{\"outlinewidth\":0,\"ticks\":\"\"}},\"type\":\"scattergl\"}],\"scattermapbox\":[{\"marker\":{\"colorbar\":{\"outlinewidth\":0,\"ticks\":\"\"}},\"type\":\"scattermapbox\"}],\"scatterpolar\":[{\"marker\":{\"colorbar\":{\"outlinewidth\":0,\"ticks\":\"\"}},\"type\":\"scatterpolar\"}],\"scatterpolargl\":[{\"marker\":{\"colorbar\":{\"outlinewidth\":0,\"ticks\":\"\"}},\"type\":\"scatterpolargl\"}],\"scatterternary\":[{\"marker\":{\"colorbar\":{\"outlinewidth\":0,\"ticks\":\"\"}},\"type\":\"scatterternary\"}],\"surface\":[{\"colorbar\":{\"outlinewidth\":0,\"ticks\":\"\"},\"colorscale\":[[0.0,\"#0d0887\"],[0.1111111111111111,\"#46039f\"],[0.2222222222222222,\"#7201a8\"],[0.3333333333333333,\"#9c179e\"],[0.4444444444444444,\"#bd3786\"],[0.5555555555555556,\"#d8576b\"],[0.6666666666666666,\"#ed7953\"],[0.7777777777777778,\"#fb9f3a\"],[0.8888888888888888,\"#fdca26\"],[1.0,\"#f0f921\"]],\"type\":\"surface\"}],\"table\":[{\"cells\":{\"fill\":{\"color\":\"#EBF0F8\"},\"line\":{\"color\":\"white\"}},\"header\":{\"fill\":{\"color\":\"#C8D4E3\"},\"line\":{\"color\":\"white\"}},\"type\":\"table\"}]},\"layout\":{\"annotationdefaults\":{\"arrowcolor\":\"#2a3f5f\",\"arrowhead\":0,\"arrowwidth\":1},\"autotypenumbers\":\"strict\",\"coloraxis\":{\"colorbar\":{\"outlinewidth\":0,\"ticks\":\"\"}},\"colorscale\":{\"diverging\":[[0,\"#8e0152\"],[0.1,\"#c51b7d\"],[0.2,\"#de77ae\"],[0.3,\"#f1b6da\"],[0.4,\"#fde0ef\"],[0.5,\"#f7f7f7\"],[0.6,\"#e6f5d0\"],[0.7,\"#b8e186\"],[0.8,\"#7fbc41\"],[0.9,\"#4d9221\"],[1,\"#276419\"]],\"sequential\":[[0.0,\"#0d0887\"],[0.1111111111111111,\"#46039f\"],[0.2222222222222222,\"#7201a8\"],[0.3333333333333333,\"#9c179e\"],[0.4444444444444444,\"#bd3786\"],[0.5555555555555556,\"#d8576b\"],[0.6666666666666666,\"#ed7953\"],[0.7777777777777778,\"#fb9f3a\"],[0.8888888888888888,\"#fdca26\"],[1.0,\"#f0f921\"]],\"sequentialminus\":[[0.0,\"#0d0887\"],[0.1111111111111111,\"#46039f\"],[0.2222222222222222,\"#7201a8\"],[0.3333333333333333,\"#9c179e\"],[0.4444444444444444,\"#bd3786\"],[0.5555555555555556,\"#d8576b\"],[0.6666666666666666,\"#ed7953\"],[0.7777777777777778,\"#fb9f3a\"],[0.8888888888888888,\"#fdca26\"],[1.0,\"#f0f921\"]]},\"colorway\":[\"#636efa\",\"#EF553B\",\"#00cc96\",\"#ab63fa\",\"#FFA15A\",\"#19d3f3\",\"#FF6692\",\"#B6E880\",\"#FF97FF\",\"#FECB52\"],\"font\":{\"color\":\"#2a3f5f\"},\"geo\":{\"bgcolor\":\"white\",\"lakecolor\":\"white\",\"landcolor\":\"#E5ECF6\",\"showlakes\":true,\"showland\":true,\"subunitcolor\":\"white\"},\"hoverlabel\":{\"align\":\"left\"},\"hovermode\":\"closest\",\"mapbox\":{\"style\":\"light\"},\"paper_bgcolor\":\"white\",\"plot_bgcolor\":\"#E5ECF6\",\"polar\":{\"angularaxis\":{\"gridcolor\":\"white\",\"linecolor\":\"white\",\"ticks\":\"\"},\"bgcolor\":\"#E5ECF6\",\"radialaxis\":{\"gridcolor\":\"white\",\"linecolor\":\"white\",\"ticks\":\"\"}},\"scene\":{\"xaxis\":{\"backgroundcolor\":\"#E5ECF6\",\"gridcolor\":\"white\",\"gridwidth\":2,\"linecolor\":\"white\",\"showbackground\":true,\"ticks\":\"\",\"zerolinecolor\":\"white\"},\"yaxis\":{\"backgroundcolor\":\"#E5ECF6\",\"gridcolor\":\"white\",\"gridwidth\":2,\"linecolor\":\"white\",\"showbackground\":true,\"ticks\":\"\",\"zerolinecolor\":\"white\"},\"zaxis\":{\"backgroundcolor\":\"#E5ECF6\",\"gridcolor\":\"white\",\"gridwidth\":2,\"linecolor\":\"white\",\"showbackground\":true,\"ticks\":\"\",\"zerolinecolor\":\"white\"}},\"shapedefaults\":{\"line\":{\"color\":\"#2a3f5f\"}},\"ternary\":{\"aaxis\":{\"gridcolor\":\"white\",\"linecolor\":\"white\",\"ticks\":\"\"},\"baxis\":{\"gridcolor\":\"white\",\"linecolor\":\"white\",\"ticks\":\"\"},\"bgcolor\":\"#E5ECF6\",\"caxis\":{\"gridcolor\":\"white\",\"linecolor\":\"white\",\"ticks\":\"\"}},\"title\":{\"x\":0.05},\"xaxis\":{\"automargin\":true,\"gridcolor\":\"white\",\"linecolor\":\"white\",\"ticks\":\"\",\"title\":{\"standoff\":15},\"zerolinecolor\":\"white\",\"zerolinewidth\":2},\"yaxis\":{\"automargin\":true,\"gridcolor\":\"white\",\"linecolor\":\"white\",\"ticks\":\"\",\"title\":{\"standoff\":15},\"zerolinecolor\":\"white\",\"zerolinewidth\":2}}},\"title\":{\"text\":\"Max-Cut Cost Funtion\"},\"autosize\":false,\"width\":1000,\"height\":1000},                        {\"responsive\": true}                    ).then(function(){\n",
              "                            \n",
              "var gd = document.getElementById('5b82395f-d393-48e8-9b60-9872ea20b86a');\n",
              "var x = new MutationObserver(function (mutations, observer) {{\n",
              "        var display = window.getComputedStyle(gd).display;\n",
              "        if (!display || display === 'none') {{\n",
              "            console.log([gd, 'removed!']);\n",
              "            Plotly.purge(gd);\n",
              "            observer.disconnect();\n",
              "        }}\n",
              "}});\n",
              "\n",
              "// Listen for the removal of the full notebook cells\n",
              "var notebookContainer = gd.closest('#notebook-container');\n",
              "if (notebookContainer) {{\n",
              "    x.observe(notebookContainer, {childList: true});\n",
              "}}\n",
              "\n",
              "// Listen for the clearing of the current output cell\n",
              "var outputEl = gd.closest('.output');\n",
              "if (outputEl) {{\n",
              "    x.observe(outputEl, {childList: true});\n",
              "}}\n",
              "\n",
              "                        })                };                            </script>        </div>\n",
              "</body>\n",
              "</html>"
            ]
          },
          "metadata": {}
        }
      ]
    },
    {
      "cell_type": "markdown",
      "source": [
        "## Fixed the number of gate"
      ],
      "metadata": {
        "id": "JLMwDDYwA9-X"
      }
    },
    {
      "cell_type": "code",
      "source": [
        "#@title Loss Comparison \n",
        "#@markdown Fixed the number of parameterized gate (6 gate).\n",
        "from plotly.subplots import make_subplots\n",
        "\n",
        "row = 2\n",
        "col = 2\n",
        "fig = make_subplots(rows=row, cols=col, subplot_titles=(\"Max-Cut\",\"Clique\",\"Binary Linear Programming\", \"Knapsack\"))\n",
        "show = True\n",
        "for i in range(row):\n",
        "  for j in range(col):\n",
        "    problemn = i*col+j\n",
        "    if problemn>0:\n",
        "      show = False\n",
        "    dv = pd.DataFrame({\"Iteration\":range(len(psl[problemn])), \"Loss\":psl[problemn]})\n",
        "    dv_fd = pd.DataFrame({\"Iteration\":range(len(fdl[problemn])), \"Loss\":fdl[problemn]})\n",
        "    # dv_lcu = pd.DataFrame({\"Iteration\":range(len(loss_plot_lcu)), \"Loss\":loss_plot_lcu})\n",
        "    dv_qng = pd.DataFrame({\"Iteration\":range(len(qngl[problemn])), \"Loss\":qngl[problemn]})\n",
        "    dv_newton = pd.DataFrame({\"Iteration\":range(len(qnwl[problemn])), \"Loss\":qnwl[problemn]})\n",
        "\n",
        "    # dv_cls = pd.DataFrame({\"Iteration\":range(len(loss_plot_classical)), \"Loss\":loss_plot_classical})\n",
        "\n",
        "    fig.add_trace(go.Scatter(x=dv[\"Iteration\"], y=dv[\"Loss\"], name=\"Discrete Parameter Shift\", line = dict(width=2), line_color='red', showlegend = show), row=i+1, col=j+1)\n",
        "    fig.add_trace(go.Scatter(x=dv_fd[\"Iteration\"], y=dv_fd[\"Loss\"], mode=\"lines\", name=\"Discrete Finite Difference\", line = dict(width=2), line_color='green', showlegend = show), row=i+1, col=j+1)\n",
        "    # fig.add_trace(go.Scatter(x=dv_lcu[\"Iteration\"], y=dv_lcu[\"Loss\"], mode=\"lines\", name=\"Discrete LCU\", line = dict(width=2, dash='dash')))\n",
        "    fig.add_trace(go.Scatter(x=dv_qng[\"Iteration\"], y=dv_qng[\"Loss\"], mode=\"lines\", name=\"Discrete QNG\", line = dict(width=2), line_color='blue', showlegend = show), row=i+1, col=j+1)\n",
        "    fig.add_trace(go.Scatter(x=dv_newton[\"Iteration\"], y=dv_newton[\"Loss\"], mode=\"lines\", name=\"Discrete Newton Gradient\", line = dict(width=2), line_color='brown', showlegend = show), row=i+1, col=j+1)\n",
        "\n",
        "    # fig.add_trace(go.Scatter(x=dv_cls[\"Iteration\"], y=dv_cls[\"Loss\"], mode=\"lines\", name=\"Classical\"))\n",
        "\n",
        "\n",
        "fig.update_layout(title=\"Loss Comparison  <br><sup>Fixed the number of parameterized gate (6 gate).</sup>\",\n",
        "                  xaxis_title=\"Iteration\",\n",
        "                  yaxis_title=\"Loss\", autosize=False,\n",
        "                  width=1000,\n",
        "                  height=700)\n",
        "fig.show()"
      ],
      "metadata": {
        "colab": {
          "base_uri": "https://localhost:8080/",
          "height": 717
        },
        "cellView": "form",
        "id": "yd5M_Ov69PD0",
        "outputId": "f8ba4172-b6f3-4fd5-ca74-094e9f9a7b51"
      },
      "execution_count": 206,
      "outputs": [
        {
          "output_type": "display_data",
          "data": {
            "text/html": [
              "<html>\n",
              "<head><meta charset=\"utf-8\" /></head>\n",
              "<body>\n",
              "    <div>            <script src=\"https://cdnjs.cloudflare.com/ajax/libs/mathjax/2.7.5/MathJax.js?config=TeX-AMS-MML_SVG\"></script><script type=\"text/javascript\">if (window.MathJax) {MathJax.Hub.Config({SVG: {font: \"STIX-Web\"}});}</script>                <script type=\"text/javascript\">window.PlotlyConfig = {MathJaxConfig: 'local'};</script>\n",
              "        <script src=\"https://cdn.plot.ly/plotly-2.8.3.min.js\"></script>                <div id=\"e2bc23a5-b6b9-4398-8e9d-19e6451a34d3\" class=\"plotly-graph-div\" style=\"height:700px; width:1000px;\"></div>            <script type=\"text/javascript\">                                    window.PLOTLYENV=window.PLOTLYENV || {};                                    if (document.getElementById(\"e2bc23a5-b6b9-4398-8e9d-19e6451a34d3\")) {                    Plotly.newPlot(                        \"e2bc23a5-b6b9-4398-8e9d-19e6451a34d3\",                        [{\"line\":{\"color\":\"red\",\"width\":2},\"name\":\"Discrete Parameter Shift\",\"showlegend\":true,\"x\":[0,1,2,3,4,5,6,7,8,9,10,11,12,13,14,15,16,17,18,19,20,21,22,23,24,25,26,27,28,29,30,31,32,33,34,35,36,37,38,39,40,41,42,43,44,45,46,47,48,49,50,51,52,53,54,55,56,57,58,59,60,61,62,63,64,65,66,67,68,69,70,71,72,73,74,75,76,77,78,79,80,81,82,83,84,85,86,87,88,89,90,91,92,93,94,95,96,97,98,99,100],\"y\":[-1.7157690662825986,-2.051119799084176,-2.290644077504114,-2.4661013305281636,-2.5948855638591035,-2.6906772023390944,-2.763360802011182,-2.819657269676334,-2.8641078165286906,-2.899858098005793,-2.9291643284227327,-2.9537000995367784,-2.974746431797242,-2.9933169608647505,-3.0102435532035132,-3.0262327767827206,-3.04189756454776,-3.0577674236322605,-3.074282563847091,-3.0917805068513635,-3.110485276521761,-3.130506681080059,-3.151851031302419,-3.1744383593495176,-3.1981182213954114,-3.2226781509767575,-3.2478452385982406,-3.273288023706489,-3.298626713863334,-3.3234537390151604,-3.347360429775007,-3.3699643048933994,-3.390933339242668,-3.410005307961579,-3.427001035853091,-3.44183074501619,-3.454493168273907,-3.465067767833469,-3.4737011677958654,-3.4805896033222323,-3.4859596197738307,-3.4900492950843263,-3.493091905994267,-3.4953033297691354,-3.4968737386312156,-3.4979634638831096,-3.498702392458203,-3.4991919653323884,-3.499508775774827,-3.4997088721445837,-3.4998320840558645,-3.4999059373849413,-3.4999489443675014,-3.499973218293912,-3.4999864619526067,-3.4999934258228076,-3.499996943531163,-3.4999986445528033,-3.499999428948514,-3.49999977208024,-3.4999999050087087,-3.499999710699787,-3.499992175075939,-3.4997768720373164,-3.499221338430715,-3.4998194730510077,-3.4999668391872,-3.4999923137279634,-3.499997630879002,-3.4999990363031457,-3.499999477677015,-3.49999952742857,-3.4999985405514145,-3.4999879960550855,-3.499868212929818,-3.498600972549048,-3.495071832049791,-3.4975951745623126,-3.4992612159079113,-3.498883454064203,-3.494234384832931,-3.495504933719925,-3.4983555461143587,-3.499352794102528,-3.499724442585001,-3.4998610251052136,-3.499910045336482,-3.4999182550939683,-3.4998927263855384,-3.4998056004016824,-3.4995667819486367,-3.4990062767622607,-3.4982238867857984,-3.49800933560122,-3.4982656296177765,-3.498133044085393,-3.497632963586462,-3.4974968001187703,-3.4981564498111437,-3.498834982183323,-3.4992573417649266],\"type\":\"scatter\",\"xaxis\":\"x\",\"yaxis\":\"y\"},{\"line\":{\"color\":\"green\",\"width\":2},\"mode\":\"lines\",\"name\":\"Discrete Finite Difference\",\"showlegend\":true,\"x\":[0,1,2,3,4,5,6,7,8,9,10,11,12,13,14,15,16,17,18,19,20,21,22,23,24,25,26,27,28,29,30,31,32,33,34,35,36,37,38,39,40,41,42,43,44,45,46,47,48,49,50,51,52,53,54,55,56,57,58,59,60,61,62,63,64,65,66,67,68,69,70,71,72,73,74,75,76,77,78,79,80,81,82,83,84,85,86,87,88,89,90,91,92,93,94,95,96,97,98,99,100],\"y\":[-1.7157690662825986,-2.0511197990655163,-2.2906440774790457,-2.4661013305035846,-2.5948855638377553,-2.6906772023214716,-2.763360801996983,-2.8196572696651305,-2.864107816520092,-2.8998580979994566,-2.929164328418348,-2.9537000995340623,-2.974746431795929,-2.9933169608645764,-3.010243553204207,-3.026232776783993,-3.0418975645493136,-3.057767423633802,-3.074282563848372,-3.0917805068522055,-3.110485276522078,-3.1305066810798614,-3.151851031301779,-3.1744383593485193,-3.1981182213941084,-3.222678150975156,-3.2478452385963124,-3.273288023704199,-3.298626713860676,-3.3234537390121606,-3.3473604297717254,-3.369964304889916,-3.3909333392390777,-3.4100053079579795,-3.42700103584958,-3.441830745012858,-3.454493168270827,-3.465067767830698,-3.473701167793435,-3.4805896033201575,-3.4859596197721077,-3.490049295082931,-3.4930919059931687,-3.4953033297682965,-3.496873738630592,-3.4979634638826598,-3.498702392457888,-3.4991919653321744,-3.499508775774687,-3.499708872144493,-3.49983208405581,-3.4999059373849075,-3.4999489443674814,-3.4999732182939,-3.4999864619526013,-3.4999934258228054,-3.499996943531161,-3.499998644552779,-3.4999994289480956,-3.499999772071556,-3.499999904803955,-3.499999705224555,-3.499992011107205,-3.499773006169307,-3.4992254233849485,-3.499820166808896,-3.4999668553580343,-3.4999922940082047,-3.499997618389516,-3.49999902885863,-3.499999472443152,-3.4999995217653463,-3.4999985226496886,-3.499987852826218,-3.4998666801307388,-3.498587828339576,-3.4950704387060596,-3.4976061994638235,-3.4992642594111683,-3.4988835449875393,-3.494230341863282,-3.4955050363374527,-3.4983585894237725,-3.499355635107881,-3.4997259474055697,-3.4998616025494287,-3.4999102146679637,-3.4999182263728312,-3.4998925125275155,-3.4998050172075628,-3.499565282911668,-3.49900314074881,-3.49822080831855,-3.498009054640211,-3.4982651205406117,-3.49813050635327,-3.497631779805959,-3.497499878702194,-3.498160565840464,-3.498837593193588,-3.4992584467771146],\"type\":\"scatter\",\"xaxis\":\"x\",\"yaxis\":\"y\"},{\"line\":{\"color\":\"blue\",\"width\":2},\"mode\":\"lines\",\"name\":\"Discrete QNG\",\"showlegend\":true,\"x\":[0,1,2,3,4,5,6,7,8,9,10,11,12,13,14,15,16,17,18,19,20,21,22,23,24,25,26,27,28,29,30,31,32,33,34,35,36,37,38,39,40,41,42,43,44,45,46,47,48,49,50,51,52,53,54,55,56,57,58,59,60,61,62,63,64,65,66,67,68,69,70,71,72,73,74,75,76,77,78,79,80,81,82,83,84,85,86,87,88,89,90,91,92,93,94,95,96,97,98,99,100],\"y\":[-1.7157690662825986,-2.0511203266058637,-2.295633960197576,-2.476041787310907,-2.6084708895603477,-2.7063570553229583,-2.7797413678197955,-2.8356874474479095,-2.879132256455813,-2.9135834070079536,-2.9415892967266934,-2.96504595435789,-2.985400345705636,-3.0037828596864378,-3.021087142986622,-3.0380137986052986,-3.0550949806059813,-3.0727117945609668,-3.0911102592373023,-3.1104205948481365,-3.130683209443286,-3.1518782385919764,-3.1739496819857362,-3.1968157711316665,-3.2203633241341407,-3.24443192824973,-3.268799591432911,-3.2931806663069207,-3.3172393534726305,-3.3406141663693454,-3.3629460262487516,-3.3839045232794076,-3.403209662310046,-3.420648082311833,-3.436083327057582,-3.44945991309533,-3.460801167263466,-3.4702012471772403,-3.477812342364218,-3.4838286040136763,-3.488468694632817,-3.491958887767663,-3.4945183814577456,-3.4963479924471144,-3.4976227854839417,-3.4984885840288724,-3.4990618106917815,-3.4994317909018005,-3.4996645490106824,-3.4998072090076153,-3.4998923193755758,-3.499941675033716,-3.499969441546037,-3.499984558359161,-3.4999924991879383,-3.4999965102678106,-3.49999845115548,-3.499999347089795,-3.4999997398398204,-3.4999999025291935,-3.499999965816052,-3.499999987596687,-3.499999959456065,-3.499998797672699,-3.499957445240699,-3.4992632811444233,-3.499675528572804,-3.4999313872535023,-3.4999837729130956,-3.499995036225015,-3.4999980155930075,-3.499998976030822,-3.4999993282532014,-3.499999447448787,-3.4999994362885536,-3.499999287785136,-3.4999988373130457,-3.4999969917221705,-3.4999828207558563,-3.499816606862375,-3.4982072148905923,-3.4960145421235653,-3.497544144269666,-3.4957264578403975,-3.4957147709117686,-3.4968617057106552,-3.4977059224163045,-3.4993098323766714,-3.4997809156126913,-3.4998994323889883,-3.499929336633091,-3.4999282354403283,-3.4999020747890697,-3.4998332234866103,-3.499666415303515,-3.499290107088155,-3.498642271989309,-3.498115766248894,-3.4979875389121284,-3.497784736455391,-3.497629425480631],\"type\":\"scatter\",\"xaxis\":\"x\",\"yaxis\":\"y\"},{\"line\":{\"color\":\"brown\",\"width\":2},\"mode\":\"lines\",\"name\":\"Discrete Newton Gradient\",\"showlegend\":true,\"x\":[0,1,2,3,4,5,6,7,8,9,10,11,12,13,14,15,16,17,18,19,20,21,22,23,24,25,26,27,28,29,30,31,32,33,34,35,36,37,38,39,40,41,42,43,44,45,46,47,48,49,50,51,52,53,54,55,56,57,58,59,60,61,62,63,64,65,66,67,68,69,70,71,72,73,74,75,76,77,78,79,80,81,82,83,84,85,86,87,88,89,90,91,92,93,94,95,96,97,98,99,100],\"y\":[-1.7157690662825986,-1.798933453338188,-1.7717034288931277,-1.73206319177147,-1.7225538207008735,-1.7288359934935316,-1.7375223920801464,-1.7450257989825777,-1.7483060494481644,-1.742079890097454,-1.7185047353632599,-1.6725817362965916,-1.6178566991386396,-1.577458307214084,-1.5396025916053904,-1.504168494558068,-1.4711652385559701,-1.4404884711215236,-1.411968043737498,-1.3854178251176306,-1.3606606564476207,-1.3375370380833673,-1.3159060476123052,-1.2956433160200806,-1.2766383586585384,-1.2587921917465166,-1.242015500415032,-1.2262273348334822,-1.2113542107536042,-1.1973294788344884,-1.1840928501757801,-1.1715899972683874,-1.1597721785630335,-1.1146983469807963,-1.1141045900374897,-1.1135011764068057,-1.1128808392911873,-1.1122372231092001,-1.1115651128157853,-1.11086069420445,-1.1101218671688677,-1.1324347604899299,-1.1324347604899299,-1.1324347604899299,-1.1324347604899299,-1.1324347604899299,-1.1324347604899307,-1.1324347604899305,-1.1324347604899307,-1.132434760489931,-1.1324347604899305,-1.1324347604899305,-1.1324347604899438,-1.1324347604899447,-1.1324347604899447,-1.1324347604899443,-1.1324347604899445,-1.1324347604899443,-1.1324347604899454,-1.132434760489945,-1.132434760489944,-1.132434760489944,-1.1324347604899443,-1.1324347604899438,-1.1324347604899447,-1.1324347604899445,-1.1324347604899456,-1.1324347604899452,-1.1324347604899436,-1.1324347604899438,-1.132434760489945,-1.1324347604899456,-1.1324347604899423,-1.1324347604899425,-1.1324347604899423,-1.132434760489942,-1.1324347604899425,-1.1324347604899425,-1.1324347604899418,-1.1324347604899423,-1.1324347604899416,-1.1324347604899418,-1.1324347604899416,-1.1324347604899423,-1.1324347604899416,-1.132434760489942,-1.1324347604899412,-1.1324347604899407,-1.1324347604899412,-1.1324347604899414,-1.1324347604899407,-1.132434760489942,-1.1324347604899425,-1.1324347604899418,-1.1324347604899412,-1.1324347604899414,-1.1324347604899412,-1.1324347604899403,-1.1324347604899405,-1.1324347604899385,-1.1324347604899392],\"type\":\"scatter\",\"xaxis\":\"x\",\"yaxis\":\"y\"},{\"line\":{\"color\":\"red\",\"width\":2},\"name\":\"Discrete Parameter Shift\",\"showlegend\":false,\"x\":[0,1,2,3,4,5,6,7,8,9,10,11,12,13,14,15,16,17,18,19,20,21,22,23,24,25,26,27,28,29,30,31,32,33,34,35,36,37,38,39,40,41,42,43,44,45,46,47,48,49,50,51,52,53,54,55,56,57,58,59,60,61,62,63,64,65,66,67,68,69,70,71,72,73,74,75,76,77,78,79,80,81,82,83,84,85,86,87,88,89,90,91,92,93,94,95,96,97,98,99,100],\"y\":[0.12889348725706018,-0.4168687926735446,-0.7771455274134362,-1.0369850095030708,-1.2431085080247322,-1.4119642834044772,-1.5524527594786655,-1.6717035858125135,-1.774800777346583,-1.8648125146115881,-1.9436210168287227,-2.012615927031013,-2.0729576754591927,-2.125647257587977,-2.1715687039329037,-2.211525557955814,-2.2462593611768784,-2.2764515324131094,-2.3027184192767938,-2.3256072181514473,-2.3455956738324684,-2.3630953704474233,-2.3784573886680573,-2.391979154404402,-2.403911641552928,-2.414466375120289,-2.42382187588641,-2.4321293339759107,-2.4395174269415625,-2.446096269593373,-2.451960288421571,-2.457186897534336,-2.4617922114232837,-2.465221058820094,-2.4657354547384216,-2.4696417620373996,-2.4748755965797695,-2.4783498212807715,-2.4807576253745487,-2.481954685214023,-2.4835428645022444,-2.4847686330099665,-2.4856388215156415,-2.488149206479562,-2.490391025916701,-2.4919008305026,-2.4930008106586006,-2.4938289995476888,-2.494356416055896,-2.4944965477683323,-2.4945156723843653,-2.4950687346077727,-2.49579820326309,-2.4952178986134124,-2.493556380681452,-2.4949387813111032,-2.4961800907475133,-2.496642503696591,-2.497205429150391,-2.4978799636380735,-2.4983965311382663,-2.498665919375898,-2.4987177508751683,-2.498613979919882,-2.4984848709313314,-2.4983948803004266,-2.498175356221064,-2.496830828758197,-2.4936375329152902,-2.4925415050512982,-2.4947856849372423,-2.496396633008798,-2.4974571454437178,-2.498011513591089,-2.498387507633924,-2.4984651090145915,-2.4983465046557045,-2.4981643292228273,-2.498365941854529,-2.498202347501224,-2.497995053770575,-2.497329600792821,-2.4965815228391324,-2.4956522792910136,-2.4956652942454216,-2.496178386970217,-2.4970404077679866,-2.4975943628938864,-2.4980505073217785,-2.4982115335809034,-2.4983567127178126,-2.4982525660172783,-2.498286718327181,-2.4980937311104006,-2.4980832050993658,-2.4977511912597916,-2.4976274122664903,-2.4973712792075586,-2.4975079343826216,-2.497699474959757,-2.4981518701378995],\"type\":\"scatter\",\"xaxis\":\"x2\",\"yaxis\":\"y2\"},{\"line\":{\"color\":\"green\",\"width\":2},\"mode\":\"lines\",\"name\":\"Discrete Finite Difference\",\"showlegend\":false,\"x\":[0,1,2,3,4,5,6,7,8,9,10,11,12,13,14,15,16,17,18,19,20,21,22,23,24,25,26,27,28,29,30,31,32,33,34,35,36,37,38,39,40,41,42,43,44,45,46,47,48,49,50,51,52,53,54,55,56,57,58,59,60,61,62,63,64,65,66,67,68,69,70,71,72,73,74,75,76,77,78,79,80,81,82,83,84,85,86,87,88,89,90,91,92,93,94,95,96,97,98,99,100],\"y\":[0.12889348725706018,-0.41686879260949605,-0.777145527342658,-1.0369850094610598,-1.2431085080083624,-1.4119642834062505,-1.552452759493466,-1.67170358583658,-1.77480077737658,-1.8648125146446737,-1.9436210168628136,-2.012615927064562,-2.0729576754909345,-2.125647257616863,-2.1715687039581515,-2.211525557976998,-2.246259361193912,-2.2764515324262087,-2.3027184192863888,-2.3256072181580745,-2.345595673836723,-2.363095370449874,-2.378457388669202,-2.3919791544046514,-2.4039116415525994,-2.4144663751196167,-2.4238218758855528,-2.432129333974983,-2.4395174269406263,-2.4460962695923874,-2.4519602884197713,-2.457186897523724,-2.4617922113137856,-2.465221057767891,-2.465735453299682,-2.469641763656167,-2.4748755973778547,-2.4783498214591875,-2.4807576250905865,-2.481954684441206,-2.4835428647427995,-2.484768632392617,-2.485638821916443,-2.4881492073178544,-2.490391026282576,-2.49190083060798,-2.4930008106495594,-2.49382899943869,-2.4943564157836664,-2.4944965473276723,-2.4945156721723647,-2.495068734894935,-2.495798203801731,-2.4952178996776557,-2.4935563805250736,-2.494938780097757,-2.496180090055664,-2.49664250363603,-2.497205429485586,-2.4978799639807954,-2.4983965313232877,-2.4986659194069567,-2.49871775079022,-2.4986139797904197,-2.4984848708588396,-2.498394880343333,-2.498175356081264,-2.496830826460716,-2.4936375298383986,-2.4925415077028745,-2.4947856871708844,-2.496396633742201,-2.4974571457312194,-2.498011513743708,-2.498387507711399,-2.4984651090917653,-2.4983465047029734,-2.4981643289648097,-2.4983659416105763,-2.498202347242165,-2.4979950533552584,-2.497329600053197,-2.496581521740004,-2.4956522786026443,-2.4956652946271483,-2.496178387813444,-2.4970404084939695,-2.4975943633016606,-2.498050507520672,-2.498211533644507,-2.4983567126904234,-2.4982525659337327,-2.4982867181075985,-2.4980937307801447,-2.498083204666368,-2.497751190745434,-2.497627411728071,-2.497371278820399,-2.497507934264767,-2.4976994750361547,-2.4981518702962044],\"type\":\"scatter\",\"xaxis\":\"x2\",\"yaxis\":\"y2\"},{\"line\":{\"color\":\"blue\",\"width\":2},\"mode\":\"lines\",\"name\":\"Discrete QNG\",\"showlegend\":false,\"x\":[0,1,2,3,4,5,6,7,8,9,10,11,12,13,14,15,16,17,18,19,20,21,22,23,24,25,26,27,28,29,30,31,32,33,34,35,36,37,38,39,40,41,42,43,44,45,46,47,48,49,50,51,52,53,54,55,56,57,58,59,60,61,62,63,64,65,66,67,68,69,70,71,72,73,74,75,76,77,78,79,80,81,82,83,84,85,86,87,88,89,90,91,92,93,94,95,96,97,98,99,100],\"y\":[0.12889348725706018,-0.4168705962236069,-0.7792375529877464,-1.04358197304662,-1.2537466675484088,-1.4264842066643435,-1.5711946592857164,-1.6952431976448312,-1.8033401605323927,-1.8979365356132258,-1.9805167693417145,-2.052361337355469,-2.114689010572067,-2.168620466822211,-2.215164083092939,-2.255228691752399,-2.2896372614439806,-2.3191340548194654,-2.344388295130577,-2.365997312357937,-2.3844898827777787,-2.400329613540146,-2.4139184685376636,-2.425600838809353,-2.435668476124402,-2.4443662586796875,-2.4518984343711003,-2.4584348597545844,-2.464116816760554,-2.4690621488255826,-2.473369619170187,-2.4771225077749817,-2.480391517313775,-2.483236985623918,-2.4857090105060196,-2.487821350422269,-2.4891149807787385,-2.4872419339333,-2.4889089034530976,-2.492606405455247,-2.494480729895562,-2.4949462718862243,-2.4939416871189284,-2.496002456332855,-2.497239061150398,-2.4969112410741148,-2.4946498781042266,-2.4961751411990742,-2.4981449564759393,-2.498910254941387,-2.4991573563088925,-2.4991010277261716,-2.4986718204654146,-2.497909270946441,-2.496834603039025,-2.4947867111432034,-2.496121481085934,-2.4979665992172126,-2.498379027297224,-2.498357574515214,-2.498352631971327,-2.4981112764367226,-2.4977995998466893,-2.4977028900282634,-2.496569406946273,-2.4948666430971045,-2.49552428320015,-2.496749457090995,-2.4973010652197494,-2.497132236141268,-2.496542182552629,-2.496777472474599,-2.4969671893915457,-2.497462636909621,-2.4975869759469673,-2.4975794928407327,-2.49739294121319,-2.497062060154607,-2.4965047285298643,-2.4957570676988583,-2.495962933653484,-2.496222184742125,-2.4966672745506275,-2.4968232165026603,-2.496821837375973,-2.49690719170784,-2.496909296589651,-2.4971870719605476,-2.4971914553213166,-2.4972162256472195,-2.497089319748725,-2.4969002266449563,-2.496732476286283,-2.4964948832001332,-2.4965166965619083,-2.49649629555876,-2.496744475796632,-2.4968297648675795,-2.496952487424185,-2.4970537420882937,-2.497105551159021],\"type\":\"scatter\",\"xaxis\":\"x2\",\"yaxis\":\"y2\"},{\"line\":{\"color\":\"brown\",\"width\":2},\"mode\":\"lines\",\"name\":\"Discrete Newton Gradient\",\"showlegend\":false,\"x\":[0,1,2,3,4,5,6,7,8,9,10,11,12,13,14,15,16,17,18,19,20,21,22,23,24,25,26,27,28,29,30,31,32,33,34,35,36,37,38,39,40,41,42,43,44,45,46,47,48,49,50,51,52,53,54,55,56,57,58,59,60,61,62,63,64,65,66,67,68,69,70,71,72,73,74,75,76,77,78,79,80,81,82,83,84,85,86,87,88,89,90,91,92,93,94,95,96,97,98,99,100],\"y\":[0.12889348725706018,-0.16441832363983322,-0.19368258213785117,-0.21539076817799718,-0.23333343379218086,-0.2564478277638542,-0.27685361246501694,-0.29365606377180653,-0.3067658178423258,-0.3145098081603098,-0.3145230013241599,-0.30694490179597733,-0.29483149873981795,-0.2917503381014288,-0.28895352106653593,-0.2860005212256098,-0.2830852633132598,-0.2825913134049779,-0.2621158915738442,-0.25979548513418294,-0.2565336654771627,-0.2523431789077717,-0.24771354989157346,-0.24030967319053764,-0.15845063724415642,-0.16496893433842852,-0.16954623148788195,-0.1735069697745646,-0.17713760752577878,-0.18056822586479937,-0.18387331511744098,-0.1871010935135804,-0.19028518170393682,-0.193450161181283,-0.19661454349051832,-0.1997924625441846,-0.20299462674040514,-0.2062287404199009,-0.2094994413137159,-0.2128077131251993,-0.21614970694697822,-0.2195149830630222,-0.2228844726861543,-0.22622913533588063,-0.22951153965462778,-0.2326944350798824,-0.2357622238276108,-0.23875465215317582,-0.24149502719830374,-0.182448917271001,-0.18339244433918012,-0.18433714545191282,-0.18528917085147367,-0.18625283140485938,-0.18723129748778633,-0.1882269714331417,-0.18924169902859878,-0.190276894134359,-0.19133361282736905,-0.19241259629935736,-0.1935142932506534,-0.19463886805022823,-0.1957861984448186,-0.19695586514980223,-0.19814713477382828,-0.19935893697547147,-0.20058983639412042,-0.20183799966982907,-0.2031011577340308,-0.2043765635038215,-0.20566094515288613,-0.2069504552833238,-0.20824061661960713,-0.20952626533721785,-0.21080149388211933,-0.21205959619359405,-0.21329301965825165,-0.21449332990231396,-0.21565119659514798,-0.21675641057932427,-0.21779794447412226,-0.21876406985193653,-0.21964254350309897,-0.22042087267900967,-0.2210866645893932,-0.22162805991765255,-0.22203424619727574,-0.22229604862739027,-0.22240660974060011,-0.2223622093166906,-0.2221633887825577,-0.22181693199879915,-0.2213410444495979,-0.22078921094932236,-0.220322793586606,-0.21882956998068537,-0.21707625416895338,-0.21519161138460097,-0.21322155187255287,-0.21114312134010849,-0.20894118717008858],\"type\":\"scatter\",\"xaxis\":\"x2\",\"yaxis\":\"y2\"},{\"line\":{\"color\":\"red\",\"width\":2},\"name\":\"Discrete Parameter Shift\",\"showlegend\":false,\"x\":[0,1,2,3,4,5,6,7,8,9,10,11,12,13,14,15,16,17,18,19,20,21,22,23,24,25,26,27,28,29,30,31,32,33,34,35,36,37,38,39,40,41,42,43,44,45,46,47,48,49,50,51,52,53,54,55,56,57,58,59,60,61,62,63,64,65,66,67,68,69,70,71,72,73,74,75,76,77,78,79,80,81,82,83,84,85,86,87,88,89,90,91,92,93,94,95,96,97,98,99,100],\"y\":[667294.3136674128,590816.9320464747,536385.8770831653,495208.6977756712,464486.69945522666,441487.53268793324,423935.0302180716,410094.42027389666,398714.6665824953,388907.62986581156,380039.14750654984,371660.0046987962,363476.8778309077,355347.36338611896,347272.3252545492,339362.08026915503,331774.9942548792,324650.5993301689,318063.6694612547,312011.3470275407,306427.8409051483,301212.05578300514,296254.31282593537,291454.6121267537,286731.4477722348,282023.99260837724,277291.1540428143,272509.78437778924,267672.75801138,262786.7282979205,257869.31339366946,252945.81442200052,248045.8830081764,243200.62673606985,238440.49612600257,233794.05365577724,229287.4971713259,224944.66545338806,220787.215130225,216834.71322876384,213104.50375085504,209611.33489977353,206366.8349342359,203378.97470943746,200651.65165401978,198184.4891653342,195972.8905293899,194008.33736689325,192278.8895037576,190769.82672189403,189464.36864009284,188344.4124956912,187391.23738700664,186586.136111548,185910.94984057784,185348.49353219778,184882.86918597744,184499.66990693286,184186.0819345332,183930.89586394624,183724.44258928957,183558.47322430683,183426.0042248636,183321.14837083966,183238.9491518024,183175.23114956002,183126.4733400612,183089.7069892923,183062.4358390101,183042.57395678904,183028.3959026857,183018.4943705122,183011.74169006565,183007.25304339005,183004.35058668547,183002.52866457182,183001.4208795093,183000.76996474463,183000.4012946062,183000.20056700206,183000.09582436603,183000.04371978441,183000.0235420607,183000.22585810116,183011.1260504541,183260.96553984995,183091.399316739,183017.49603533238,183003.93565341685,183001.16365613352,183000.45272810874,183000.22820724687,183000.14661406563,183000.1183035259,183000.11837291514,183000.14524665114,183000.2163997845,183000.38791188417,183000.8305600079,183002.185546441,183011.1388646388],\"type\":\"scatter\",\"xaxis\":\"x3\",\"yaxis\":\"y3\"},{\"line\":{\"color\":\"green\",\"width\":2},\"mode\":\"lines\",\"name\":\"Discrete Finite Difference\",\"showlegend\":false,\"x\":[0,1,2,3,4,5,6,7,8,9,10,11,12,13,14,15,16,17,18,19,20,21,22,23,24,25,26,27,28,29,30,31,32,33,34,35,36,37,38,39,40,41,42,43,44,45,46,47,48,49,50,51,52,53,54,55,56,57,58,59,60,61,62,63,64,65,66,67,68,69,70,71,72,73,74,75,76,77,78,79,80,81,82,83,84,85,86,87,88,89,90,91,92,93,94,95,96,97,98,99,100],\"y\":[667294.3136674128,590816.9320464747,536385.8770831669,495208.6977756733,464486.6994552281,441487.53268793493,423935.0302180724,410094.4202738976,398714.66658249596,388907.62986581185,380039.1475065496,371660.00469879544,363476.8778309062,355347.3633861171,347272.325254547,339362.0802691529,331774.9942548778,324650.59933016746,318063.6694612538,312011.34702754056,306427.84090514854,301212.0557830051,296254.31282593514,291454.61212675384,286731.4477722351,282023.9926083782,277291.15404281556,272509.78437779075,267672.7580113824,262786.7282979231,257869.3133936717,252945.8144220035,248045.88300817963,243200.62673607215,238440.49612600481,233794.05365578015,229287.4971713284,224944.66545339092,220787.2151302278,216834.71322876733,213104.50375085883,209611.33489977743,206366.83493423992,203378.97470944066,200651.65165402408,198184.48916533834,195972.89052939403,194008.3373668965,192278.88950375962,190769.82672189584,189464.36864009482,188344.41249569284,187391.23738700774,186586.13611154887,185910.94984057854,185348.49353219877,184882.8691859785,184499.6699069332,184186.08193453302,183930.89586394618,183724.4425892901,183558.47322430706,183426.004224864,183321.14837083966,183238.94915180234,183175.23114955984,183126.47334006103,183089.706989293,183062.43583900994,183042.57395678945,183028.39590268576,183018.49437051232,183011.7416900659,183007.25304339005,183004.35058668547,183002.52866457182,183001.4208795097,183000.76996474754,183000.40129467688,183000.2005689912,183000.0958881526,183000.04603424418,183000.11842642154,183004.57276922092,183155.8944527632,183170.10208563425,183039.51245253667,183008.5782633174,183002.3506556293,183000.84363379824,183000.3932423236,183000.23449729953,183000.17627045605,183000.16484510188,183000.18958859355,183000.26550095546,183000.45141763584,183001.02335922798,183006.6905877015,183138.4325095312,183252.49390157545],\"type\":\"scatter\",\"xaxis\":\"x3\",\"yaxis\":\"y3\"},{\"line\":{\"color\":\"blue\",\"width\":2},\"mode\":\"lines\",\"name\":\"Discrete QNG\",\"showlegend\":false,\"x\":[0,1,2,3,4,5,6,7,8,9,10,11,12,13,14,15,16,17,18,19,20,21,22,23,24,25,26,27,28,29,30,31,32,33,34,35,36,37,38,39,40,41,42,43,44,45,46,47,48,49,50,51,52,53,54,55,56,57,58,59,60,61,62,63,64,65,66,67,68,69,70,71,72,73,74,75,76,77,78,79,80,81,82,83,84,85,86,87,88,89,90,91,92,93,94,95,96,97,98,99,100],\"y\":[667294.3136674128,590816.9320464747,536159.3452884138,494693.89668865816,463780.0205780133,440698.29159642645,423138.62789272354,409330.8485900288,397997.80716093356,388232.47732704866,379384.9351069995,370993.9265712497,362763.77811202494,354564.9665602609,346423.8386518592,338477.38183632924,330899.9581053214,323832.3889801197,317340.5925357641,311410.7825522942,305970.3310219196,300917.0731309977,296143.67808022985,291551.8681320639,287058.03218609234,282594.404709187,278109.23720568256,273567.448935317,268951.58462396025,264262.05421900796,259515.6430307661,254741.94150747094,249978.20942188863,245263.79128054413,240635.29124550536,236123.3578063848,231751.37081346312,227535.81569069804,223487.80971161934,219615.13733948657,215924.2139320668,212421.5641226581,209114.6063711025,206011.72312101925,203121.73209016002,200452.94930276647,198012.0597614881,195803.00570701587,193826.07822931226,192077.3582022395,190548.59450923366,189227.53318283893,188098.63250621635,187144.0357044153,186344.64193560515,185681.12427679764,185134.78279594495,184688.17450307152,184325.51177326427,184032.85514912737,183798.14305362199,183611.10436852113,183463.09625764686,183346.90336592332,183256.52735827072,183186.98802592326,183134.149159875,183094.5748081177,183065.41535690794,183044.31881181675,183029.3608555037,183018.98734802072,183011.9642321596,183007.3315956355,183004.36036022886,183002.5113786267,183001.39749998087,183000.7494484227,183000.3862663487,183000.19075796503,183000.08997043705,183000.04038000735,183000.0171769947,183000.00689476542,183000.0025986581,183000.00091563485,183000.00033660745,183000.00165033364,183000.072603047,183003.7776004274,183150.81531035417,183178.12653244438,183040.6240422037,183008.58407314814,183002.29563252674,183000.80628490308,183000.3690175278,183000.23458519316,183001.03100416,183037.4196713767,183107.66888175113],\"type\":\"scatter\",\"xaxis\":\"x3\",\"yaxis\":\"y3\"},{\"line\":{\"color\":\"brown\",\"width\":2},\"mode\":\"lines\",\"name\":\"Discrete Newton Gradient\",\"showlegend\":false,\"x\":[0,1,2,3,4,5,6,7,8,9,10,11,12,13,14,15,16,17,18,19,20,21,22,23,24,25,26,27,28,29,30,31,32,33,34,35,36,37,38,39,40,41,42,43,44,45,46,47,48,49,50,51,52,53,54,55,56,57,58,59,60,61,62,63,64,65,66,67,68,69,70,71,72,73,74,75,76,77,78,79,80,81,82,83,84,85,86,87,88,89,90,91,92,93,94,95,96,97,98,99,100],\"y\":[667294.3136674128,676215.6906360341,679711.7175452743,689195.4603092396,674928.7322880039,676976.8656681681,679105.8618741466,681340.5389253556,683742.8137052451,686491.4064924383,690334.5454952865,672356.527217493,672291.6478067792,672221.6426272516,672145.6868697207,672062.8164375927,671971.9123307756,671871.6842853351,671760.65336312,671637.1329219065,671499.207020169,671344.7047748644,671171.1684258222,670975.8117620205,670755.4639794892,670506.4917465111,670224.6889448065,669905.1188533155,669541.8870651699,669127.8150968535,668653.975505555,668109.0435591891,667478.4296168721,666743.2058486065,665878.9736840867,664855.0708792673,663634.8198980845,662177.5496313493,660442.5012001824,658394.0570445097,656008.894586859,653288.1473872999,650275.2023793303,647068.0309324408,643805.7110476209,640624.6678151751,637614.4732822701,634807.9508968807,632202.5163637223,629784.1684195938,627538.8952691541,625454.6672198304,623520.8528597469,621728.6567448194,620073.4400815394,618558.7504074931,617202.0049318059,616042.7221972074,615156.0917642226,614677.7612886231,614846.2466520485,616026.8540694827,618468.1211194684,621273.6658111967,604121.1750166651,603462.1283295131,602859.4564543276,602490.7380216285,602565.0883171227,603131.868506863,603938.7745690247,604783.2196078446,605590.9674015027,606341.8523696078,607029.4635345748,607619.8313592358,607772.8117262725,614217.2518574828,614685.126303123,615103.619734735,615477.9720771693,615816.0866872021,616129.7965917712,616436.7018423725,616752.2348494187,617145.9821080678,617562.5229156751,617647.6617358015,617859.822348397,618033.0088837871,618169.0374515797,618270.7387008436,618340.8019938644,618381.6793791753,618395.6523901576,618384.9262174671,618351.7203734551,618298.347037491,618227.2742116266,618141.1726525197,618042.9460898268],\"type\":\"scatter\",\"xaxis\":\"x3\",\"yaxis\":\"y3\"},{\"line\":{\"color\":\"red\",\"width\":2},\"name\":\"Discrete Parameter Shift\",\"showlegend\":false,\"x\":[0,1,2,3,4,5,6,7,8,9,10,11,12,13,14,15,16,17,18,19,20,21,22,23,24,25,26,27,28,29,30,31,32,33,34,35,36,37,38,39,40,41,42,43,44,45,46,47,48,49,50,51,52,53,54,55,56,57,58,59,60,61,62,63,64,65,66,67,68,69,70,71,72,73,74,75,76,77,78,79,80,81,82,83,84,85,86,87,88,89,90,91,92,93,94,95,96,97,98,99,100],\"y\":[27.693128561071465,23.17348803822857,19.277677557126488,16.065656901243493,13.47268116187304,11.369105352777442,9.646552258237751,8.244199033271345,7.121504042489926,6.237299762471455,5.5487050294239335,5.015425844287815,4.602492470421189,4.280913829162474,4.027187538794984,3.8224149952523607,3.651403199487987,3.501894639194525,3.363950032021145,3.2294707754681093,3.091848607688611,2.945737979564279,2.786942140576235,2.6123844072330167,2.420115142874635,2.209299938208929,1.9801522550647555,1.7338061312981043,1.4721541153320041,1.1976873357535798,0.9133645059301987,0.6225129494861541,0.3287420688437006,0.03584072254376913,-0.25236119704858595,-0.532166197249218,-0.8001965879095607,-1.0535648760394878,-1.2899993811099577,-1.507909487033503,-1.7063892752696717,-1.8851694396437644,-2.0445332157013816,-2.185212972080599,-2.308281713892738,-2.4150497859632765,-2.5069729232514,-2.5855743630749597,-2.6523814042028384,-2.7088755530919926,-2.756454950372694,-2.796407749259469,-2.8298952176289607,-2.8579433880822034,-2.8814420402116916,-2.90114969707413,-2.9177032131630174,-2.9316304818058594,-2.9433648349074346,-2.9532598595551907,-2.9616035988768346,-2.9686314021794082,-2.974536995843433,-2.979481619427281,-2.983601282344747,-2.987012334408968,-2.9898156134317997,-2.9920994500591878,-2.993941792825039,-2.995411681982919,-2.9965702613094134,-2.997471479743142,-2.998162602093979,-2.998684620142571,-2.999072631192888,-2.9993562295310188,-2.9995599368375867,-2.999703680593795,-2.9998033155196335,-2.9998711727779597,-2.999916615537197,-2.999946577546506,-2.9999660631780465,-2.9999785920294144,-2.9999865774827317,-2.9999916353457987,-2.9999948247752073,-2.9999968283308363,-2.9999980808624844,-2.999998857994976,-2.9999993345683453,-2.9999996219863476,-2.999999791543148,-2.999999888868608,-2.999999942951927,-2.9999999719111,-2.9999999867866336,-2.9999999940855826,-2.9999999974917912,-2.999999998995998,-2.9999999995961133],\"type\":\"scatter\",\"xaxis\":\"x4\",\"yaxis\":\"y4\"},{\"line\":{\"color\":\"green\",\"width\":2},\"mode\":\"lines\",\"name\":\"Discrete Finite Difference\",\"showlegend\":false,\"x\":[0,1,2,3,4,5,6,7,8,9,10,11,12,13,14,15,16,17,18,19,20,21,22,23,24,25,26,27,28,29,30,31,32,33,34,35,36,37,38,39,40,41,42,43,44,45,46,47,48,49,50,51,52,53,54,55,56,57,58,59,60,61,62,63,64,65,66,67,68,69,70,71,72,73,74,75,76,77,78,79,80,81,82,83,84,85,86,87,88,89,90,91,92,93,94,95,96,97,98,99,100],\"y\":[27.693128561071465,23.173488038239505,19.277677557143207,16.06565690126103,13.472681161889382,11.369105352792403,9.64655225825139,8.244199033283483,7.121504042500332,6.237299762480035,5.54870502943064,5.015425844292672,4.602492470424252,4.280913829163873,4.027187538794947,3.822414995251169,3.6514031994859915,3.5018946391921206,3.3639500320187192,3.2294707754660648,3.0918486076873446,2.9457379795641954,2.78694214057772,2.6123844072363784,2.4201151428801477,2.209299938216729,1.9801522550749127,1.7338061313105717,1.4721541153465854,1.1976873357700306,0.9133645059481807,0.6225129495052295,0.32874206886340396,0.035840722563534655,-0.25236119702917215,-0.5321661972306302,-0.8001965878921311,-1.0535648760235166,-1.2899993810955408,-1.5079094870207275,-1.7063892752584966,-1.885169439634078,-2.044533215693077,-2.1852129720735274,-2.308281713886748,-2.415049785958189,-2.506972923247151,-2.585574363071398,-2.652381404199886,-2.7088755530895394,-2.756454950370623,-2.7964077492577513,-2.829895217627538,-2.8579433880810345,-2.8814420402107235,-2.901149697073315,-2.9177032131623353,-2.931630481805282,-2.943364834906964,-2.9532598595548087,-2.961603598876499,-2.9686314021791294,-2.9745369958431773,-2.979481619427082,-2.98360128234458,-2.9870123344088384,-2.9898156134316984,-2.992099450059092,-2.993941792824966,-2.9954116819828602,-2.9965702613093796,-2.99747147974311,-2.9981626020939682,-2.9986846201425497,-2.9990726311928775,-2.9993562295310117,-2.9995599368375903,-2.9997036805938038,-2.9998033155196264,-2.999871172777965,-2.9999166155371846,-2.999946577546506,-2.999966063178057,-2.9999785920294233,-2.9999865774827406,-2.999991635345797,-2.999994824775225,-2.9999968283308363,-2.999998080862465,-2.999998857994978,-2.9999993345683578,-2.9999996219863405,-2.999999791543157,-2.999999888868615,-2.999999942951913,-2.9999999719111035,-2.9999999867866425,-2.9999999940855044,-2.999999997490102,-2.9999999989530064,-2.999999998346082],\"type\":\"scatter\",\"xaxis\":\"x4\",\"yaxis\":\"y4\"},{\"line\":{\"color\":\"blue\",\"width\":2},\"mode\":\"lines\",\"name\":\"Discrete QNG\",\"showlegend\":false,\"x\":[0,1,2,3,4,5,6,7,8,9,10,11,12,13,14,15,16,17,18,19,20,21,22,23,24,25,26,27,28,29,30,31,32,33,34,35,36,37,38,39,40,41,42,43,44,45,46,47,48,49,50,51,52,53,54,55,56,57,58,59,60,61,62,63,64,65,66,67,68,69,70,71,72,73,74,75,76,77,78,79,80,81,82,83,84,85,86,87,88,89,90,91,92,93,94,95,96,97,98,99,100],\"y\":[27.693128561071465,23.17348773062494,19.25263119900763,16.004596629056266,13.376908684561046,11.244272278972339,9.501835729318152,8.091899020083202,6.973143113128298,6.101283904070659,5.430391575748617,4.918067667074535,4.528148421169858,4.231096032655264,4.003273970680222,3.825898142946799,3.6840300883783685,3.5657351671745765,3.461414099812072,3.3632766130413634,3.2649268733683936,3.1610468061888515,3.047178406703278,2.9196097923639712,2.775358774688822,2.612226760207366,2.4288764254720068,2.2248820995848915,2.000718643042009,1.7576864419148732,1.497799727960622,1.2236755106644877,0.9384456078305146,0.6456852581618406,0.3493284144636224,0.05353773157010089,-0.23748252874802844,-0.5197134444225444,-0.789550395318301,-1.043993136279333,-1.280768216733529,-1.4983736290310272,-1.6960524407100888,-1.8737128672805756,-2.031816136301561,-2.1712520864479643,-2.2932179061601676,-2.3991097630860807,-2.490431850525921,-2.5687235157135806,-2.635502920091172,-2.6922248540057083,-2.740250357515972,-2.780826178836657,-2.8150725093153515,-2.843977730498853,-2.8683990687082144,-2.8890680986445663,-2.906600013694808,-2.9215055410244855,-2.934204377381757,-2.9450390932663844,-2.9542886072636403,-2.962180549597747,-2.9689020780295436,-2.974608941673006,-2.979432780329244,-2.983486784467347,-2.986869923588996,-2.9896699870501102,-2.991965684047388,-2.993828030935642,-2.995321224581403,-2.9965031673144953,-2.9974257765979466,-2.998135182937487,-2.9986718934311156,-2.999070975544745,-2.9993622957740644,-2.9995708305095548,-2.999717051639184,-2.9998173774399692,-2.9998846704932802,-2.999928759025808,-2.999956956312726,-2.9999745543267835,-2.9999852720508677,-2.9999916448725905,-2.999995348174961,-2.9999974545965316,-2.9999986296354724,-2.9999992738262584,-2.999999621501221,-2.999999806358245,-2.9999999031020845,-2.9999999527993353,-2.9999999777433555,-2.99999998990239,-2.9999999956068883,-2.9999999978466576,-2.9999999893161906],\"type\":\"scatter\",\"xaxis\":\"x4\",\"yaxis\":\"y4\"},{\"line\":{\"color\":\"brown\",\"width\":2},\"mode\":\"lines\",\"name\":\"Discrete Newton Gradient\",\"showlegend\":false,\"x\":[0,1,2,3,4,5,6,7,8,9,10,11,12,13,14,15,16,17,18,19,20,21,22,23,24,25,26,27,28,29,30,31,32,33,34,35,36,37,38,39,40,41,42,43,44,45,46,47,48,49,50,51,52,53,54,55,56,57,58,59,60,61,62,63,64,65,66,67,68,69,70,71,72,73,74,75,76,77,78,79,80,81,82,83,84,85,86,87,88,89,90,91,92,93,94,95,96,97,98,99,100],\"y\":[27.693128561071465,25.073549338516703,25.002471929503645,25.05899011527996,25.076331487728,25.138974599250176,25.1919611990936,25.2785651122951,25.360052797741194,25.476980941635638,25.58231776269461,25.734152384915596,25.85044247376327,26.040356331583236,26.145323070084377,26.357828890732485,26.463683603119218,26.647979391459646,26.761408732758202,26.899713288206527,26.99859084016095,27.097134039750355,27.169461705037463,27.233155450628963,28.15230203370192,27.470239489708472,27.4711570358345,27.472090152837517,27.47303668574353,27.47399413422382,27.4749596209933,27.475929858347918,27.47690111282357,27.477869167969427,27.478829285242757,27.479776163045813,27.480703893942447,27.48160592011061,27.48247498710669,27.48330309604085,27.484081454287445,27.48480042488227,27.485449474789437,27.48601712225367,27.486490883491847,27.48685721901735,27.487101479935838,27.48720785460091,27.48715931606625,27.486937570835842,27.486523009468232,27.48589465966054,27.485030142507206,27.48390563270279,27.48769744345791,27.486282439450772,27.484523455528986,27.482389941339356,27.479849784434478,27.47686931673179,27.473413332576396,27.469445119764405,27.464926504923877,27.459817914669763,27.4540784539465,27.44766600293765,27.440537333854678,27.43264824880781,27.423953739807217,27.41440817173703,27.403965488881155,27.392579445255667,27.380203858613985,27.36679288753166,27.352301330451006,27.33668494496249,27.319900784926837,27.301907552289713,27.282665959613734,27.262139098442447,27.240292807611134,27.21709603451631,27.19252118112742,27.166544425136514,27.139146005038654,27.110310456045536,27.0800267814365,27.048288541091168,27.015093835284652,26.98044515703939,26.944349079929392,26.906815739526667,26.867858054593086,26.827490616964084,26.785728153997287,26.742583429365443,26.698064386891318,26.652170237093472,26.604885988309242,26.55617450929972,26.50596422248513],\"type\":\"scatter\",\"xaxis\":\"x4\",\"yaxis\":\"y4\"}],                        {\"template\":{\"data\":{\"bar\":[{\"error_x\":{\"color\":\"#2a3f5f\"},\"error_y\":{\"color\":\"#2a3f5f\"},\"marker\":{\"line\":{\"color\":\"#E5ECF6\",\"width\":0.5},\"pattern\":{\"fillmode\":\"overlay\",\"size\":10,\"solidity\":0.2}},\"type\":\"bar\"}],\"barpolar\":[{\"marker\":{\"line\":{\"color\":\"#E5ECF6\",\"width\":0.5},\"pattern\":{\"fillmode\":\"overlay\",\"size\":10,\"solidity\":0.2}},\"type\":\"barpolar\"}],\"carpet\":[{\"aaxis\":{\"endlinecolor\":\"#2a3f5f\",\"gridcolor\":\"white\",\"linecolor\":\"white\",\"minorgridcolor\":\"white\",\"startlinecolor\":\"#2a3f5f\"},\"baxis\":{\"endlinecolor\":\"#2a3f5f\",\"gridcolor\":\"white\",\"linecolor\":\"white\",\"minorgridcolor\":\"white\",\"startlinecolor\":\"#2a3f5f\"},\"type\":\"carpet\"}],\"choropleth\":[{\"colorbar\":{\"outlinewidth\":0,\"ticks\":\"\"},\"type\":\"choropleth\"}],\"contour\":[{\"colorbar\":{\"outlinewidth\":0,\"ticks\":\"\"},\"colorscale\":[[0.0,\"#0d0887\"],[0.1111111111111111,\"#46039f\"],[0.2222222222222222,\"#7201a8\"],[0.3333333333333333,\"#9c179e\"],[0.4444444444444444,\"#bd3786\"],[0.5555555555555556,\"#d8576b\"],[0.6666666666666666,\"#ed7953\"],[0.7777777777777778,\"#fb9f3a\"],[0.8888888888888888,\"#fdca26\"],[1.0,\"#f0f921\"]],\"type\":\"contour\"}],\"contourcarpet\":[{\"colorbar\":{\"outlinewidth\":0,\"ticks\":\"\"},\"type\":\"contourcarpet\"}],\"heatmap\":[{\"colorbar\":{\"outlinewidth\":0,\"ticks\":\"\"},\"colorscale\":[[0.0,\"#0d0887\"],[0.1111111111111111,\"#46039f\"],[0.2222222222222222,\"#7201a8\"],[0.3333333333333333,\"#9c179e\"],[0.4444444444444444,\"#bd3786\"],[0.5555555555555556,\"#d8576b\"],[0.6666666666666666,\"#ed7953\"],[0.7777777777777778,\"#fb9f3a\"],[0.8888888888888888,\"#fdca26\"],[1.0,\"#f0f921\"]],\"type\":\"heatmap\"}],\"heatmapgl\":[{\"colorbar\":{\"outlinewidth\":0,\"ticks\":\"\"},\"colorscale\":[[0.0,\"#0d0887\"],[0.1111111111111111,\"#46039f\"],[0.2222222222222222,\"#7201a8\"],[0.3333333333333333,\"#9c179e\"],[0.4444444444444444,\"#bd3786\"],[0.5555555555555556,\"#d8576b\"],[0.6666666666666666,\"#ed7953\"],[0.7777777777777778,\"#fb9f3a\"],[0.8888888888888888,\"#fdca26\"],[1.0,\"#f0f921\"]],\"type\":\"heatmapgl\"}],\"histogram\":[{\"marker\":{\"pattern\":{\"fillmode\":\"overlay\",\"size\":10,\"solidity\":0.2}},\"type\":\"histogram\"}],\"histogram2d\":[{\"colorbar\":{\"outlinewidth\":0,\"ticks\":\"\"},\"colorscale\":[[0.0,\"#0d0887\"],[0.1111111111111111,\"#46039f\"],[0.2222222222222222,\"#7201a8\"],[0.3333333333333333,\"#9c179e\"],[0.4444444444444444,\"#bd3786\"],[0.5555555555555556,\"#d8576b\"],[0.6666666666666666,\"#ed7953\"],[0.7777777777777778,\"#fb9f3a\"],[0.8888888888888888,\"#fdca26\"],[1.0,\"#f0f921\"]],\"type\":\"histogram2d\"}],\"histogram2dcontour\":[{\"colorbar\":{\"outlinewidth\":0,\"ticks\":\"\"},\"colorscale\":[[0.0,\"#0d0887\"],[0.1111111111111111,\"#46039f\"],[0.2222222222222222,\"#7201a8\"],[0.3333333333333333,\"#9c179e\"],[0.4444444444444444,\"#bd3786\"],[0.5555555555555556,\"#d8576b\"],[0.6666666666666666,\"#ed7953\"],[0.7777777777777778,\"#fb9f3a\"],[0.8888888888888888,\"#fdca26\"],[1.0,\"#f0f921\"]],\"type\":\"histogram2dcontour\"}],\"mesh3d\":[{\"colorbar\":{\"outlinewidth\":0,\"ticks\":\"\"},\"type\":\"mesh3d\"}],\"parcoords\":[{\"line\":{\"colorbar\":{\"outlinewidth\":0,\"ticks\":\"\"}},\"type\":\"parcoords\"}],\"pie\":[{\"automargin\":true,\"type\":\"pie\"}],\"scatter\":[{\"marker\":{\"colorbar\":{\"outlinewidth\":0,\"ticks\":\"\"}},\"type\":\"scatter\"}],\"scatter3d\":[{\"line\":{\"colorbar\":{\"outlinewidth\":0,\"ticks\":\"\"}},\"marker\":{\"colorbar\":{\"outlinewidth\":0,\"ticks\":\"\"}},\"type\":\"scatter3d\"}],\"scattercarpet\":[{\"marker\":{\"colorbar\":{\"outlinewidth\":0,\"ticks\":\"\"}},\"type\":\"scattercarpet\"}],\"scattergeo\":[{\"marker\":{\"colorbar\":{\"outlinewidth\":0,\"ticks\":\"\"}},\"type\":\"scattergeo\"}],\"scattergl\":[{\"marker\":{\"colorbar\":{\"outlinewidth\":0,\"ticks\":\"\"}},\"type\":\"scattergl\"}],\"scattermapbox\":[{\"marker\":{\"colorbar\":{\"outlinewidth\":0,\"ticks\":\"\"}},\"type\":\"scattermapbox\"}],\"scatterpolar\":[{\"marker\":{\"colorbar\":{\"outlinewidth\":0,\"ticks\":\"\"}},\"type\":\"scatterpolar\"}],\"scatterpolargl\":[{\"marker\":{\"colorbar\":{\"outlinewidth\":0,\"ticks\":\"\"}},\"type\":\"scatterpolargl\"}],\"scatterternary\":[{\"marker\":{\"colorbar\":{\"outlinewidth\":0,\"ticks\":\"\"}},\"type\":\"scatterternary\"}],\"surface\":[{\"colorbar\":{\"outlinewidth\":0,\"ticks\":\"\"},\"colorscale\":[[0.0,\"#0d0887\"],[0.1111111111111111,\"#46039f\"],[0.2222222222222222,\"#7201a8\"],[0.3333333333333333,\"#9c179e\"],[0.4444444444444444,\"#bd3786\"],[0.5555555555555556,\"#d8576b\"],[0.6666666666666666,\"#ed7953\"],[0.7777777777777778,\"#fb9f3a\"],[0.8888888888888888,\"#fdca26\"],[1.0,\"#f0f921\"]],\"type\":\"surface\"}],\"table\":[{\"cells\":{\"fill\":{\"color\":\"#EBF0F8\"},\"line\":{\"color\":\"white\"}},\"header\":{\"fill\":{\"color\":\"#C8D4E3\"},\"line\":{\"color\":\"white\"}},\"type\":\"table\"}]},\"layout\":{\"annotationdefaults\":{\"arrowcolor\":\"#2a3f5f\",\"arrowhead\":0,\"arrowwidth\":1},\"autotypenumbers\":\"strict\",\"coloraxis\":{\"colorbar\":{\"outlinewidth\":0,\"ticks\":\"\"}},\"colorscale\":{\"diverging\":[[0,\"#8e0152\"],[0.1,\"#c51b7d\"],[0.2,\"#de77ae\"],[0.3,\"#f1b6da\"],[0.4,\"#fde0ef\"],[0.5,\"#f7f7f7\"],[0.6,\"#e6f5d0\"],[0.7,\"#b8e186\"],[0.8,\"#7fbc41\"],[0.9,\"#4d9221\"],[1,\"#276419\"]],\"sequential\":[[0.0,\"#0d0887\"],[0.1111111111111111,\"#46039f\"],[0.2222222222222222,\"#7201a8\"],[0.3333333333333333,\"#9c179e\"],[0.4444444444444444,\"#bd3786\"],[0.5555555555555556,\"#d8576b\"],[0.6666666666666666,\"#ed7953\"],[0.7777777777777778,\"#fb9f3a\"],[0.8888888888888888,\"#fdca26\"],[1.0,\"#f0f921\"]],\"sequentialminus\":[[0.0,\"#0d0887\"],[0.1111111111111111,\"#46039f\"],[0.2222222222222222,\"#7201a8\"],[0.3333333333333333,\"#9c179e\"],[0.4444444444444444,\"#bd3786\"],[0.5555555555555556,\"#d8576b\"],[0.6666666666666666,\"#ed7953\"],[0.7777777777777778,\"#fb9f3a\"],[0.8888888888888888,\"#fdca26\"],[1.0,\"#f0f921\"]]},\"colorway\":[\"#636efa\",\"#EF553B\",\"#00cc96\",\"#ab63fa\",\"#FFA15A\",\"#19d3f3\",\"#FF6692\",\"#B6E880\",\"#FF97FF\",\"#FECB52\"],\"font\":{\"color\":\"#2a3f5f\"},\"geo\":{\"bgcolor\":\"white\",\"lakecolor\":\"white\",\"landcolor\":\"#E5ECF6\",\"showlakes\":true,\"showland\":true,\"subunitcolor\":\"white\"},\"hoverlabel\":{\"align\":\"left\"},\"hovermode\":\"closest\",\"mapbox\":{\"style\":\"light\"},\"paper_bgcolor\":\"white\",\"plot_bgcolor\":\"#E5ECF6\",\"polar\":{\"angularaxis\":{\"gridcolor\":\"white\",\"linecolor\":\"white\",\"ticks\":\"\"},\"bgcolor\":\"#E5ECF6\",\"radialaxis\":{\"gridcolor\":\"white\",\"linecolor\":\"white\",\"ticks\":\"\"}},\"scene\":{\"xaxis\":{\"backgroundcolor\":\"#E5ECF6\",\"gridcolor\":\"white\",\"gridwidth\":2,\"linecolor\":\"white\",\"showbackground\":true,\"ticks\":\"\",\"zerolinecolor\":\"white\"},\"yaxis\":{\"backgroundcolor\":\"#E5ECF6\",\"gridcolor\":\"white\",\"gridwidth\":2,\"linecolor\":\"white\",\"showbackground\":true,\"ticks\":\"\",\"zerolinecolor\":\"white\"},\"zaxis\":{\"backgroundcolor\":\"#E5ECF6\",\"gridcolor\":\"white\",\"gridwidth\":2,\"linecolor\":\"white\",\"showbackground\":true,\"ticks\":\"\",\"zerolinecolor\":\"white\"}},\"shapedefaults\":{\"line\":{\"color\":\"#2a3f5f\"}},\"ternary\":{\"aaxis\":{\"gridcolor\":\"white\",\"linecolor\":\"white\",\"ticks\":\"\"},\"baxis\":{\"gridcolor\":\"white\",\"linecolor\":\"white\",\"ticks\":\"\"},\"bgcolor\":\"#E5ECF6\",\"caxis\":{\"gridcolor\":\"white\",\"linecolor\":\"white\",\"ticks\":\"\"}},\"title\":{\"x\":0.05},\"xaxis\":{\"automargin\":true,\"gridcolor\":\"white\",\"linecolor\":\"white\",\"ticks\":\"\",\"title\":{\"standoff\":15},\"zerolinecolor\":\"white\",\"zerolinewidth\":2},\"yaxis\":{\"automargin\":true,\"gridcolor\":\"white\",\"linecolor\":\"white\",\"ticks\":\"\",\"title\":{\"standoff\":15},\"zerolinecolor\":\"white\",\"zerolinewidth\":2}}},\"xaxis\":{\"anchor\":\"y\",\"domain\":[0.0,0.45],\"title\":{\"text\":\"Iteration\"}},\"yaxis\":{\"anchor\":\"x\",\"domain\":[0.625,1.0],\"title\":{\"text\":\"Loss\"}},\"xaxis2\":{\"anchor\":\"y2\",\"domain\":[0.55,1.0]},\"yaxis2\":{\"anchor\":\"x2\",\"domain\":[0.625,1.0]},\"xaxis3\":{\"anchor\":\"y3\",\"domain\":[0.0,0.45]},\"yaxis3\":{\"anchor\":\"x3\",\"domain\":[0.0,0.375]},\"xaxis4\":{\"anchor\":\"y4\",\"domain\":[0.55,1.0]},\"yaxis4\":{\"anchor\":\"x4\",\"domain\":[0.0,0.375]},\"annotations\":[{\"font\":{\"size\":16},\"showarrow\":false,\"text\":\"Max-Cut\",\"x\":0.225,\"xanchor\":\"center\",\"xref\":\"paper\",\"y\":1.0,\"yanchor\":\"bottom\",\"yref\":\"paper\"},{\"font\":{\"size\":16},\"showarrow\":false,\"text\":\"Clique\",\"x\":0.775,\"xanchor\":\"center\",\"xref\":\"paper\",\"y\":1.0,\"yanchor\":\"bottom\",\"yref\":\"paper\"},{\"font\":{\"size\":16},\"showarrow\":false,\"text\":\"Binary Linear Programming\",\"x\":0.225,\"xanchor\":\"center\",\"xref\":\"paper\",\"y\":0.375,\"yanchor\":\"bottom\",\"yref\":\"paper\"},{\"font\":{\"size\":16},\"showarrow\":false,\"text\":\"Knapsack\",\"x\":0.775,\"xanchor\":\"center\",\"xref\":\"paper\",\"y\":0.375,\"yanchor\":\"bottom\",\"yref\":\"paper\"}],\"title\":{\"text\":\"Loss Comparison  <br><sup>Fixed the number of parameterized gate (6 gate).</sup>\"},\"autosize\":false,\"width\":1000,\"height\":700},                        {\"responsive\": true}                    ).then(function(){\n",
              "                            \n",
              "var gd = document.getElementById('e2bc23a5-b6b9-4398-8e9d-19e6451a34d3');\n",
              "var x = new MutationObserver(function (mutations, observer) {{\n",
              "        var display = window.getComputedStyle(gd).display;\n",
              "        if (!display || display === 'none') {{\n",
              "            console.log([gd, 'removed!']);\n",
              "            Plotly.purge(gd);\n",
              "            observer.disconnect();\n",
              "        }}\n",
              "}});\n",
              "\n",
              "// Listen for the removal of the full notebook cells\n",
              "var notebookContainer = gd.closest('#notebook-container');\n",
              "if (notebookContainer) {{\n",
              "    x.observe(notebookContainer, {childList: true});\n",
              "}}\n",
              "\n",
              "// Listen for the clearing of the current output cell\n",
              "var outputEl = gd.closest('.output');\n",
              "if (outputEl) {{\n",
              "    x.observe(outputEl, {childList: true});\n",
              "}}\n",
              "\n",
              "                        })                };                            </script>        </div>\n",
              "</body>\n",
              "</html>"
            ]
          },
          "metadata": {}
        }
      ]
    },
    {
      "cell_type": "code",
      "source": [
        "#@title Time Comparison\n",
        "#@markdown Fixed the number of parameterized gate (6 gate).\n",
        "\n",
        "from plotly.subplots import make_subplots\n",
        "\n",
        "row = 2\n",
        "col = 2\n",
        "fig = make_subplots(rows=row, cols=col, subplot_titles=(\"Max-Cut\",\"Clique\",\"Binary Linear Programming\", \"Knapsack\"))\n",
        "show = True\n",
        "for i in range(row):\n",
        "  for j in range(col):\n",
        "    problemn = i*col+j\n",
        "    if problemn>0:\n",
        "      show = False\n",
        "    dv = pd.DataFrame({\"Iteration\":range(len(pst[problemn])), \"Time\":pst[problemn]})\n",
        "    dv_fd = pd.DataFrame({\"Iteration\":range(len(fdt[problemn])), \"Time\":fdt[problemn]})\n",
        "    # dv_lcu = pd.DataFrame({\"Iteration\":range(len(loss_plot_lcu)), \"Loss\":loss_plot_lcu})\n",
        "    dv_qng = pd.DataFrame({\"Iteration\":range(len(qngt[problemn])), \"Time\":qngt[problemn]})\n",
        "    dv_newton = pd.DataFrame({\"Iteration\":range(len(qnwt[problemn])), \"Time\":qnwt[problemn]})\n",
        "\n",
        "    # dv_cls = pd.DataFrame({\"Iteration\":range(len(loss_plot_classical)), \"Loss\":loss_plot_classical})\n",
        "\n",
        "    fig.add_trace(go.Scatter(x=dv[\"Iteration\"], y=dv[\"Time\"], name=\"Discrete Parameter Shift\", line = dict(width=2), line_color='red', showlegend = show), row=i+1, col=j+1)\n",
        "    fig.add_trace(go.Scatter(x=dv_fd[\"Iteration\"], y=dv_fd[\"Time\"], mode=\"lines\", name=\"Discrete Finite Difference\", line = dict(width=2), line_color='green', showlegend = show), row=i+1, col=j+1)\n",
        "    # fig.add_trace(go.Scatter(x=dv_lcu[\"Iteration\"], y=dv_lcu[\"Loss\"], mode=\"lines\", name=\"Discrete LCU\", line = dict(width=2, dash='dash')))\n",
        "    fig.add_trace(go.Scatter(x=dv_qng[\"Iteration\"], y=dv_qng[\"Time\"], mode=\"lines\", name=\"Discrete QNG\", line = dict(width=2), line_color='blue', showlegend = show), row=i+1, col=j+1)\n",
        "    fig.add_trace(go.Scatter(x=dv_newton[\"Iteration\"], y=dv_newton[\"Time\"], mode=\"lines\", name=\"Discrete Newton Method\", line = dict(width=2), line_color='brown', showlegend = show), row=i+1, col=j+1)\n",
        "\n",
        "    # fig.add_trace(go.Scatter(x=dv_cls[\"Iteration\"], y=dv_cls[\"Loss\"], mode=\"lines\", name=\"Classical\"))\n",
        "\n",
        "\n",
        "fig.update_layout(title=\"Time Comparison  <br><sup>Fixed the number of parameterized gate (6 gate).</sup>\",\n",
        "                  xaxis_title=\"Iteration\",\n",
        "                  yaxis_title=\"Time (Sec)\", autosize=False,\n",
        "                  width=1000,\n",
        "                  height=700)\n",
        "fig.show()"
      ],
      "metadata": {
        "colab": {
          "base_uri": "https://localhost:8080/",
          "height": 717
        },
        "cellView": "form",
        "id": "0TCHMfHh9_EG",
        "outputId": "d5b55761-7175-4eb4-d9a8-d44514b788ec"
      },
      "execution_count": 207,
      "outputs": [
        {
          "output_type": "display_data",
          "data": {
            "text/html": [
              "<html>\n",
              "<head><meta charset=\"utf-8\" /></head>\n",
              "<body>\n",
              "    <div>            <script src=\"https://cdnjs.cloudflare.com/ajax/libs/mathjax/2.7.5/MathJax.js?config=TeX-AMS-MML_SVG\"></script><script type=\"text/javascript\">if (window.MathJax) {MathJax.Hub.Config({SVG: {font: \"STIX-Web\"}});}</script>                <script type=\"text/javascript\">window.PlotlyConfig = {MathJaxConfig: 'local'};</script>\n",
              "        <script src=\"https://cdn.plot.ly/plotly-2.8.3.min.js\"></script>                <div id=\"efca3b01-46b6-42e8-86ef-090009257c64\" class=\"plotly-graph-div\" style=\"height:700px; width:1000px;\"></div>            <script type=\"text/javascript\">                                    window.PLOTLYENV=window.PLOTLYENV || {};                                    if (document.getElementById(\"efca3b01-46b6-42e8-86ef-090009257c64\")) {                    Plotly.newPlot(                        \"efca3b01-46b6-42e8-86ef-090009257c64\",                        [{\"line\":{\"color\":\"red\",\"width\":2},\"name\":\"Discrete Parameter Shift\",\"showlegend\":true,\"x\":[0,1,2,3,4,5,6,7,8,9,10,11,12,13,14,15,16,17,18,19,20,21,22,23,24,25,26,27,28,29,30,31,32,33,34,35,36,37,38,39,40,41,42,43,44,45,46,47,48,49,50,51,52,53,54,55,56,57,58,59,60,61,62,63,64,65,66,67,68,69,70,71,72,73,74,75,76,77,78,79,80,81,82,83,84,85,86,87,88,89,90,91,92,93,94,95,96,97,98,99,100],\"y\":[1.7221670150756836,3.410795211791992,4.876750469207764,7.339453458786011,10.292769432067871,13.41650676727295,16.10519814491272,18.863695859909058,22.512685298919678,25.84279441833496,29.724557876586914,32.879695653915405,35.88405728340149,38.39962148666382,40.88392186164856,43.891152143478394,46.66536784172058,49.9481246471405,53.11990165710449,54.8487274646759,56.30525016784668,57.69074106216431,59.06584167480469,60.440977811813354,61.884790658950806,63.2999484539032,64.76747512817383,66.19773864746094,67.6407732963562,69.0928156375885,70.53967261314392,71.97630667686462,73.45391607284546,74.87696766853333,76.33929467201233,77.78839993476868,79.23883152008057,80.71455073356628,82.17160296440125,83.66808748245239,85.22114849090576,86.77067613601685,88.23823022842407,89.76383781433105,91.27292609214783,92.73251032829285,94.15259575843811,95.66437673568726,97.12841868400574,98.5387909412384,99.97527003288269,101.50093817710876,102.91009449958801,104.40273475646973,105.87694668769836,107.35150122642517,108.78515839576721,110.23876976966858,111.6991515159607,113.13620471954346,114.58047389984131,115.99368643760681,117.42121124267578,118.83742809295654,120.28227758407593,121.75181794166565,123.17139887809753,124.61862683296204,126.07689952850342,128.80979323387146,130.2049012184143,131.60220789909363,133.03450655937195,134.52995347976685,135.9971263408661,137.48050045967102,138.91132259368896,140.39487671852112,141.8841426372528,143.3302788734436,144.70302057266235,146.15878462791443,147.63709163665771,149.0384237766266,150.48566007614136,151.93293714523315,153.39157581329346,154.7974808216095,156.2293713092804,157.68995571136475,159.0641210079193,160.49807715415955,161.9275996685028,163.31352138519287,164.82448363304138,166.28530550003052,167.69910788536072,169.14708280563354,170.59889435768127,172.09142684936523,173.5922191143036],\"type\":\"scatter\",\"xaxis\":\"x\",\"yaxis\":\"y\"},{\"line\":{\"color\":\"green\",\"width\":2},\"mode\":\"lines\",\"name\":\"Discrete Finite Difference\",\"showlegend\":true,\"x\":[0,1,2,3,4,5,6,7,8,9,10,11,12,13,14,15,16,17,18,19,20,21,22,23,24,25,26,27,28,29,30,31,32,33,34,35,36,37,38,39,40,41,42,43,44,45,46,47,48,49,50,51,52,53,54,55,56,57,58,59,60,61,62,63,64,65,66,67,68,69,70,71,72,73,74,75,76,77,78,79,80,81,82,83,84,85,86,87,88,89,90,91,92,93,94,95,96,97,98,99,100],\"y\":[1.5600073337554932,3.066990375518799,4.571927070617676,6.072450637817383,7.637173652648926,9.1287202835083,10.906354427337646,12.416409015655518,13.996625185012817,15.531723976135254,17.117994785308838,18.69819402694702,20.20076274871826,21.84338879585266,23.36547589302063,24.850744485855103,26.434062957763672,27.97855496406555,29.441527366638184,30.91034698486328,32.46897578239441,33.916465282440186,35.45777678489685,37.00306463241577,38.49089980125427,39.95451736450195,41.5236382484436,42.967939138412476,44.47103929519653,45.92451596260071,47.451542139053345,48.905266761779785,50.375845193862915,51.885106325149536,53.34762525558472,54.787487268447876,56.275818824768066,57.763206005096436,59.239389181137085,60.72538375854492,62.16382169723511,63.73807430267334,65.18650960922241,66.7172544002533,68.187166929245,69.59638404846191,71.04972505569458,72.47373628616333,73.8837206363678,75.34117317199707,76.80071926116943,78.29513096809387,79.7855896949768,81.2346019744873,82.79735779762268,84.30587410926819,85.7167112827301,87.13825821876526,88.62630820274353,90.10597848892212,91.54927325248718,92.97681164741516,94.40549778938293,95.86571288108826,97.32625913619995,98.80783581733704,100.50748658180237,101.92150926589966,103.43427634239197,104.91564655303955,106.32634019851685,107.79100394248962,109.20339441299438,110.6681170463562,112.1186637878418,113.60887789726257,115.02663135528564,116.53429341316223,118.02774667739868,119.40900492668152,120.84592914581299,122.31737756729126,123.71448540687561,125.19298458099365,126.59716820716858,128.0556342601776,129.54972457885742,130.9797170162201,132.43405747413635,133.88437867164612,135.4552845954895,136.8766267299652,138.24302124977112,139.69790124893188,141.08243083953857,142.58224034309387,143.9382040500641,145.35556077957153,146.81060361862183,148.26008796691895,149.67917847633362],\"type\":\"scatter\",\"xaxis\":\"x\",\"yaxis\":\"y\"},{\"line\":{\"color\":\"blue\",\"width\":2},\"mode\":\"lines\",\"name\":\"Discrete QNG\",\"showlegend\":true,\"x\":[0,1,2,3,4,5,6,7,8,9,10,11,12,13,14,15,16,17,18,19,20,21,22,23,24,25,26,27,28,29,30,31,32,33,34,35,36,37,38,39,40,41,42,43,44,45,46,47,48,49,50,51,52,53,54,55,56,57,58,59,60,61,62,63,64,65,66,67,68,69,70,71,72,73,74,75,76,77,78,79,80,81,82,83,84,85,86,87,88,89,90,91,92,93,94,95,96,97,98,99,100],\"y\":[1.6638610363006592,3.3077096939086914,4.988688945770264,6.636690616607666,8.281731843948364,9.906983137130737,11.55313229560852,13.173360109329224,14.852335453033447,16.424724578857422,17.970571994781494,19.579160690307617,21.299831867218018,22.883274793624878,24.47865629196167,26.052046298980713,27.62628960609436,29.24497938156128,30.819405555725098,32.43387532234192,34.037548303604126,35.85684823989868,37.45084524154663,39.06434893608093,40.65101504325867,42.3141930103302,43.852803230285645,45.45196866989136,47.07505011558533,48.68069505691528,50.30884766578674,51.91066122055054,53.51768755912781,55.14789533615112,56.8148307800293,58.473467111587524,60.07604002952576,61.714359521865845,63.36324453353882,64.95874691009521,66.52821660041809,68.13899779319763,69.76588344573975,71.40622234344482,73.09347414970398,74.65813732147217,76.2503035068512,77.81090092658997,79.3799684047699,81.02850842475891,82.60879254341125,84.20612740516663,85.8121428489685,87.37620449066162,88.95609998703003,90.58851432800293,92.21897077560425,93.84495425224304,95.49042391777039,97.07289505004883,98.6381471157074,100.340322971344,101.93697047233582,103.55149459838867,105.44808626174927,107.06301426887512,108.66332960128784,110.3201265335083,111.8996410369873,113.51412081718445,115.10791897773743,116.71634554862976,118.31125974655151,119.91809916496277,121.53338694572449,123.17788290977478,124.74244570732117,126.32632780075073,127.87263345718384,129.49746441841125,131.06509470939636,132.68921613693237,134.21902298927307,135.82684755325317,137.36746406555176,138.9790542125702,140.62419891357422,142.2590937614441,143.88346672058105,145.54157853126526,147.13886332511902,148.77340245246887,150.31652879714966,151.91318798065186,153.46018409729004,155.03967690467834,156.65336561203003,158.3023431301117,159.9046528339386,161.49677729606628,163.1659767627716],\"type\":\"scatter\",\"xaxis\":\"x\",\"yaxis\":\"y\"},{\"line\":{\"color\":\"brown\",\"width\":2},\"mode\":\"lines\",\"name\":\"Discrete Newton Method\",\"showlegend\":true,\"x\":[0,1,2,3,4,5,6,7,8,9,10,11,12,13,14,15,16,17,18,19,20,21,22,23,24,25,26,27,28,29,30,31,32,33,34,35,36,37,38,39,40,41,42,43,44,45,46,47,48,49,50,51,52,53,54,55,56,57,58,59,60,61,62,63,64,65,66,67,68,69,70,71,72,73,74,75,76,77,78,79,80,81,82,83,84,85,86,87,88,89,90,91,92,93,94,95,96,97,98,99,100],\"y\":[2.2516424655914307,4.529725551605225,6.811738967895508,9.17528748512268,11.340831518173218,13.523038864135742,15.766091585159302,17.95869493484497,20.325677394866943,22.533331394195557,24.733052968978882,26.885701179504395,29.34315037727356,31.528754472732544,33.72223782539368,35.952343463897705,38.120484352111816,40.236733198165894,42.67181849479675,44.82152771949768,47.00770449638367,49.13671851158142,51.63198280334473,53.811264991760254,56.01679348945618,58.218055963516235,60.37933015823364,62.79491448402405,64.93412327766418,67.1156005859375,69.319256067276,71.49483823776245,73.91362810134888,76.09336280822754,78.21221995353699,80.40041995048523,82.56446981430054,85.06857204437256,87.2834963798523,89.46147155761719,91.68055248260498,93.7858076095581,96.27508783340454,98.39151930809021,100.53539824485779,102.68335628509521,104.85303044319153,107.31408429145813,109.49412775039673,111.64270853996277,113.81356549263,115.97305917739868,118.42279529571533,120.57223153114319,122.73850536346436,124.92483830451965,127.32324028015137,129.5137960910797,131.7427577972412,133.9118332862854,136.04351234436035,138.45487451553345,140.75810718536377,142.94635677337646,145.04182124137878,147.1850757598877,149.625168800354,151.87225079536438,154.0723536014557,156.28341913223267,158.49097728729248,160.9331579208374,163.0493061542511,165.28089594841003,167.43320965766907,169.62770819664001,172.17570972442627,174.37717843055725,176.67384719848633,178.94011545181274,181.0724332332611,183.56305742263794,185.7877607345581,187.8853280544281,190.0380575656891,192.5044310092926,194.67495465278625,196.81473922729492,198.98181557655334,201.14791870117188,203.37249541282654,205.8945050239563,208.07351732254028,210.28316116333008,212.43129897117615,214.88084626197815,217.14820790290833,219.35019874572754,221.48316144943237,223.65698266029358,226.12883710861206],\"type\":\"scatter\",\"xaxis\":\"x\",\"yaxis\":\"y\"},{\"line\":{\"color\":\"red\",\"width\":2},\"name\":\"Discrete Parameter Shift\",\"showlegend\":false,\"x\":[0,1,2,3,4,5,6,7,8,9,10,11,12,13,14,15,16,17,18,19,20,21,22,23,24,25,26,27,28,29,30,31,32,33,34,35,36,37,38,39,40,41,42,43,44,45,46,47,48,49,50,51,52,53,54,55,56,57,58,59,60,61,62,63,64,65,66,67,68,69,70,71,72,73,74,75,76,77,78,79,80,81,82,83,84,85,86,87,88,89,90,91,92,93,94,95,96,97,98,99,100],\"y\":[1.4918310642242432,2.9746592044830322,4.51861047744751,6.115700721740723,7.597219467163086,9.016078233718872,10.45702314376831,11.907243490219116,13.329610347747803,14.907675981521606,16.392027854919434,17.89807939529419,19.39355182647705,20.87742257118225,22.378668785095215,23.84822416305542,25.362818002700806,26.78766679763794,28.25466299057007,29.683829069137573,31.149613857269287,32.901050090789795,34.389591693878174,35.86042141914368,37.37831950187683,38.88277792930603,40.39291477203369,41.89048480987549,43.33910131454468,44.80231165885925,46.30099081993103,47.754159450531006,49.23268365859985,50.677387714385986,52.13994264602661,53.62327241897583,55.07401442527771,56.57983469963074,58.01415514945984,59.459394216537476,60.928685665130615,62.434515714645386,63.9464430809021,65.44285321235657,66.9425778388977,68.35316491127014,69.83729958534241,71.30860638618469,72.79709815979004,74.2395887374878,75.75846552848816,77.24116587638855,78.74245834350586,80.20351481437683,81.61456179618835,83.07390022277832,84.5236496925354,85.9484395980835,87.38929033279419,88.86158108711243,90.31079387664795,91.72763657569885,93.19783854484558,94.67770314216614,96.1497859954834,97.61649823188782,99.05884504318237,100.58120250701904,102.01499557495117,103.47281098365784,104.95753502845764,106.41154599189758,107.89925169944763,109.43653869628906,110.95460534095764,112.42208218574524,113.87487506866455,115.35629320144653,116.7956953048706,118.19098734855652,119.5963966846466,121.09173846244812,122.53903460502625,124.0281970500946,125.78097772598267,127.20552253723145,128.64719820022583,130.12317419052124,131.59717464447021,133.08048391342163,134.57368183135986,136.0523316860199,137.5459942817688,139.0110490322113,140.4603772163391,141.8925585746765,143.32993602752686,144.79976892471313,146.24022126197815,147.76119780540466,149.16609120368958],\"type\":\"scatter\",\"xaxis\":\"x2\",\"yaxis\":\"y2\"},{\"line\":{\"color\":\"green\",\"width\":2},\"mode\":\"lines\",\"name\":\"Discrete Finite Difference\",\"showlegend\":false,\"x\":[0,1,2,3,4,5,6,7,8,9,10,11,12,13,14,15,16,17,18,19,20,21,22,23,24,25,26,27,28,29,30,31,32,33,34,35,36,37,38,39,40,41,42,43,44,45,46,47,48,49,50,51,52,53,54,55,56,57,58,59,60,61,62,63,64,65,66,67,68,69,70,71,72,73,74,75,76,77,78,79,80,81,82,83,84,85,86,87,88,89,90,91,92,93,94,95,96,97,98,99,100],\"y\":[1.491746187210083,3.010241985321045,4.513713598251343,5.993958234786987,7.405608892440796,8.814973831176758,10.516512632369995,11.966050624847412,13.491462469100952,14.93247389793396,16.430052042007446,17.900174617767334,19.370007753372192,20.83041477203369,22.251380681991577,23.721233367919922,25.220799446105957,26.68160057067871,28.18597149848938,29.656119108200073,31.149319648742676,32.57808494567871,34.05962920188904,35.52572751045227,36.97799825668335,38.41187381744385,39.94091463088989,41.4152410030365,42.971176624298096,44.4797306060791,45.98097896575928,47.50682592391968,48.95297122001648,50.45349431037903,51.89284610748291,53.365882396698,54.824891328811646,56.29249620437622,57.808602809906006,59.24792432785034,60.78653144836426,62.272008657455444,63.72638440132141,65.13610219955444,66.64353632926941,68.07529902458191,69.50024199485779,70.98328614234924,72.37173771858215,73.83694386482239,75.2908775806427,76.76484680175781,78.20056819915771,79.64760851860046,81.14707374572754,82.58716344833374,83.99750089645386,85.52043557167053,87.02169299125671,88.47612285614014,89.93675661087036,91.45542788505554,92.8977882862091,94.25045442581177,95.69803524017334,97.19016599655151,98.6729383468628,100.13200974464417,101.66196894645691,103.13679385185242,105.00164008140564,106.46375346183777,108.00042939186096,109.43872213363647,110.90009379386902,112.39996719360352,113.85494208335876,115.28204035758972,116.79762959480286,118.31428718566895,119.84237003326416,121.3699996471405,122.8938136100769,124.40145492553711,125.8380115032196,127.33275508880615,128.94922828674316,130.42699599266052,131.91454601287842,133.42569017410278,134.97380709648132,136.49851489067078,137.95224022865295,139.41073369979858,140.93914246559143,142.44214844703674,143.88984560966492,145.3471736907959,146.81826400756836,148.2683403491974,149.7339928150177],\"type\":\"scatter\",\"xaxis\":\"x2\",\"yaxis\":\"y2\"},{\"line\":{\"color\":\"blue\",\"width\":2},\"mode\":\"lines\",\"name\":\"Discrete QNG\",\"showlegend\":false,\"x\":[0,1,2,3,4,5,6,7,8,9,10,11,12,13,14,15,16,17,18,19,20,21,22,23,24,25,26,27,28,29,30,31,32,33,34,35,36,37,38,39,40,41,42,43,44,45,46,47,48,49,50,51,52,53,54,55,56,57,58,59,60,61,62,63,64,65,66,67,68,69,70,71,72,73,74,75,76,77,78,79,80,81,82,83,84,85,86,87,88,89,90,91,92,93,94,95,96,97,98,99,100],\"y\":[1.609553337097168,3.5183768272399902,5.1846764087677,6.8636956214904785,8.513364553451538,10.125190258026123,11.731596231460571,13.371063709259033,15.010622501373291,16.608248949050903,18.214421272277832,19.85626769065857,21.538448810577393,23.163864612579346,24.74262547492981,26.412923097610474,28.0703604221344,29.67127799987793,31.299405813217163,32.92451477050781,34.550559520721436,36.20914316177368,37.855517625808716,39.51668643951416,41.10435676574707,42.72118139266968,44.38470125198364,45.99273085594177,47.594905853271484,49.199851989746094,50.83498287200928,52.48334312438965,54.10451149940491,55.70665693283081,57.37557601928711,58.96913504600525,60.56394338607788,62.1467342376709,63.73852801322937,65.38901805877686,67.04348635673523,68.70493149757385,70.32337594032288,71.93695187568665,73.51252222061157,75.4231345653534,76.98868989944458,78.64054465293884,80.28402757644653,81.92827939987183,83.60048627853394,85.2558970451355,86.9394359588623,88.62899684906006,90.29096245765686,91.93735194206238,93.66876435279846,95.369140625,97.07699012756348,98.66823983192444,100.34430503845215,101.96149063110352,103.68477749824524,105.38212728500366,107.0679292678833,108.67115235328674,110.37014365196228,111.94729781150818,113.54973125457764,115.13338613510132,116.80031943321228,118.4513521194458,120.1159999370575,121.76047658920288,123.47466206550598,125.16692423820496,126.78879523277283,128.47468733787537,130.13522815704346,131.82999968528748,133.40071868896484,135.07333397865295,136.72250533103943,138.40331029891968,140.0536482334137,141.70987939834595,143.36554598808289,144.98531436920166,146.58937668800354,148.55937814712524,150.22366333007812,151.9022889137268,153.59827637672424,155.28721618652344,156.9330117702484,158.5549566745758,160.19599199295044,161.89994859695435,163.54632544517517,165.18870663642883,166.77873849868774],\"type\":\"scatter\",\"xaxis\":\"x2\",\"yaxis\":\"y2\"},{\"line\":{\"color\":\"brown\",\"width\":2},\"mode\":\"lines\",\"name\":\"Discrete Newton Method\",\"showlegend\":false,\"x\":[0,1,2,3,4,5,6,7,8,9,10,11,12,13,14,15,16,17,18,19,20,21,22,23,24,25,26,27,28,29,30,31,32,33,34,35,36,37,38,39,40,41,42,43,44,45,46,47,48,49,50,51,52,53,54,55,56,57,58,59,60,61,62,63,64,65,66,67,68,69,70,71,72,73,74,75,76,77,78,79,80,81,82,83,84,85,86,87,88,89,90,91,92,93,94,95,96,97,98,99,100],\"y\":[2.2048144340515137,4.4698193073272705,7.004405736923218,9.196653127670288,11.405084371566772,13.668137788772583,15.885563135147095,18.386608123779297,20.623989582061768,22.83184576034546,25.04800510406494,27.264909982681274,29.744739055633545,31.948439598083496,34.20294713973999,36.43176245689392,38.63887143135071,41.08935880661011,43.31585669517517,45.570847272872925,47.81195831298828,50.075419425964355,52.577640771865845,54.84973454475403,57.06963610649109,59.305838108062744,61.52490448951721,63.9943163394928,66.2744812965393,68.56355857849121,70.81634306907654,73.03628873825073,75.53448605537415,77.76433801651001,79.94862985610962,82.19146680831909,84.44043254852295,86.9964952468872,89.24922323226929,91.52110052108765,93.74264287948608,96.2945830821991,98.53858375549316,100.86448526382446,103.07179093360901,105.24291110038757,107.79159116744995,110.05683755874634,112.34240436553955,114.66623067855835,116.9625768661499,119.16093063354492,121.63148736953735,123.83925914764404,126.0927357673645,128.48714804649353,130.99032735824585,133.2167694568634,135.52855396270752,137.73978924751282,140.03274369239807,142.2547266483307,144.8469831943512,147.0269615650177,149.24529004096985,151.50643038749695,154.00392651557922,156.2795169353485,158.54765677452087,160.8435788154602,163.0546612739563,165.3052201271057,167.83428621292114,170.02716422080994,172.2395956516266,174.5391399860382,177.05396580696106,179.3229775428772,181.5969898700714,183.83260464668274,186.03728032112122,188.54633116722107,190.7978639602661,193.09523510932922,195.31641697883606,197.60288643836975,200.06204342842102,202.2374963760376,204.4709610939026,206.65462446212769,208.87256455421448,211.4266321659088,213.67806720733643,215.83639931678772,218.0680160522461,220.31891107559204,222.84234476089478,225.00075674057007,227.20286631584167,229.4638533592224,232.02393412590027],\"type\":\"scatter\",\"xaxis\":\"x2\",\"yaxis\":\"y2\"},{\"line\":{\"color\":\"red\",\"width\":2},\"name\":\"Discrete Parameter Shift\",\"showlegend\":false,\"x\":[0,1,2,3,4,5,6,7,8,9,10,11,12,13,14,15,16,17,18,19,20,21,22,23,24,25,26,27,28,29,30,31,32,33,34,35,36,37,38,39,40,41,42,43,44,45,46,47,48,49,50,51,52,53,54,55,56,57,58,59,60,61,62,63,64,65,66,67,68,69,70,71,72,73,74,75,76,77,78,79,80,81,82,83,84,85,86,87,88,89,90,91,92,93,94,95,96,97,98,99,100],\"y\":[1.564218282699585,3.0293378829956055,4.518618106842041,6.046721935272217,7.621934652328491,9.065925359725952,10.53870940208435,11.973841190338135,13.484747648239136,14.993851900100708,16.551859855651855,18.026779174804688,19.599717617034912,21.185660362243652,22.657379627227783,24.101303815841675,25.689077854156494,27.16840934753418,28.69389247894287,30.238676071166992,31.74087882041931,33.31316685676575,34.80318331718445,36.306962966918945,37.77607083320618,39.28756093978882,40.73517179489136,42.225395917892456,43.65253400802612,45.0938196182251,46.605003356933594,48.15350365638733,49.68385148048401,51.17185640335083,52.70643615722656,54.16568994522095,55.69364070892334,57.257015228271484,58.73603391647339,60.18143439292908,61.63343334197998,63.19484329223633,64.65288829803467,66.11386132240295,67.63273763656616,69.14893198013306,70.59899497032166,72.03587484359741,73.52524137496948,75.32796025276184,76.80012464523315,78.31380653381348,79.83619117736816,81.28496265411377,82.76315712928772,84.27710294723511,85.7371072769165,87.24276423454285,88.73851943016052,90.22779369354248,91.74564671516418,93.32096743583679,94.7802505493164,96.26936721801758,97.80560398101807,99.31433033943176,100.79318380355835,102.2874174118042,103.7711751461029,105.28508448600769,106.70376896858215,108.2764687538147,109.800222158432,111.37860560417175,112.90542912483215,114.48521089553833,115.98533773422241,117.43847751617432,118.91722393035889,120.41983819007874,121.9275472164154,123.46032619476318,124.97269296646118,126.53333830833435,128.00116896629333,129.85308289527893,131.41459798812866,132.90732598304749,134.44620156288147,135.8951096534729,137.37261724472046,138.8604452610016,140.30627393722534,141.7975993156433,143.2660882472992,144.75956845283508,146.185702085495,147.73540353775024,149.25425100326538,150.81242775917053,152.3959186077118],\"type\":\"scatter\",\"xaxis\":\"x3\",\"yaxis\":\"y3\"},{\"line\":{\"color\":\"green\",\"width\":2},\"mode\":\"lines\",\"name\":\"Discrete Finite Difference\",\"showlegend\":false,\"x\":[0,1,2,3,4,5,6,7,8,9,10,11,12,13,14,15,16,17,18,19,20,21,22,23,24,25,26,27,28,29,30,31,32,33,34,35,36,37,38,39,40,41,42,43,44,45,46,47,48,49,50,51,52,53,54,55,56,57,58,59,60,61,62,63,64,65,66,67,68,69,70,71,72,73,74,75,76,77,78,79,80,81,82,83,84,85,86,87,88,89,90,91,92,93,94,95,96,97,98,99,100],\"y\":[1.458622694015503,2.9213387966156006,4.42810845375061,5.901020765304565,7.350996971130371,8.835399866104126,10.290693283081055,11.690325260162354,13.119318962097168,14.562169551849365,16.007213354110718,17.479003190994263,18.91177988052368,20.342469453811646,21.788305044174194,23.27080750465393,24.759636163711548,26.239554166793823,27.759231328964233,29.271595001220703,30.73258328437805,32.20543193817139,33.70991086959839,35.147927045822144,36.579643964767456,38.034157276153564,39.54438853263855,40.99626350402832,42.44357490539551,43.88947367668152,45.3509476184845,46.82076978683472,48.313419342041016,49.99851393699646,51.42524027824402,52.84838008880615,54.29187250137329,55.72734975814819,57.20804786682129,58.654189586639404,60.158369064331055,61.72651243209839,63.48612022399902,64.98501491546631,66.52072644233704,67.98330283164978,69.53833389282227,71.05850338935852,72.56645703315735,73.99925637245178,75.4954743385315,76.95472311973572,78.42490696907043,79.88498950004578,81.3609709739685,82.79451084136963,84.35068893432617,85.75226902961731,87.24805927276611,88.73339986801147,90.16234970092773,91.58951234817505,93.03282952308655,94.52205204963684,95.96927309036255,97.46318340301514,98.94470548629761,100.40795063972473,101.87967610359192,103.32215094566345,104.79022240638733,106.22730422019958,107.70149850845337,109.16490697860718,110.67906475067139,112.11216354370117,113.64084553718567,115.0557074546814,116.52813625335693,117.93956995010376,119.39086437225342,120.83979821205139,122.2870569229126,123.78210616111755,125.20910978317261,126.68998980522156,128.24076867103577,129.72227931022644,131.12958240509033,132.54337859153748,134.0022487640381,135.46131110191345,136.87775349617004,138.29477715492249,139.7246298789978,141.14076447486877,142.643981218338,144.31596660614014,145.75633001327515,147.17038774490356,148.63867664337158],\"type\":\"scatter\",\"xaxis\":\"x3\",\"yaxis\":\"y3\"},{\"line\":{\"color\":\"blue\",\"width\":2},\"mode\":\"lines\",\"name\":\"Discrete QNG\",\"showlegend\":false,\"x\":[0,1,2,3,4,5,6,7,8,9,10,11,12,13,14,15,16,17,18,19,20,21,22,23,24,25,26,27,28,29,30,31,32,33,34,35,36,37,38,39,40,41,42,43,44,45,46,47,48,49,50,51,52,53,54,55,56,57,58,59,60,61,62,63,64,65,66,67,68,69,70,71,72,73,74,75,76,77,78,79,80,81,82,83,84,85,86,87,88,89,90,91,92,93,94,95,96,97,98,99,100],\"y\":[1.739703893661499,3.553138256072998,5.290918588638306,7.068101644515991,8.879630327224731,10.580021381378174,12.35904312133789,14.11806035041809,15.911219120025635,17.635021209716797,19.377352476119995,21.085051774978638,22.8423171043396,24.55171775817871,26.245103120803833,27.914251565933228,29.62041211128235,31.329500436782837,33.0562047958374,34.678110122680664,36.38626480102539,38.07918190956116,39.74024033546448,41.44425845146179,43.11345624923706,44.81222367286682,46.46881103515625,48.12446665763855,49.81225347518921,51.528143882751465,53.54822278022766,55.25612235069275,57.013816356658936,58.67505431175232,60.314106941223145,62.03513026237488,63.71611166000366,65.36057591438293,67.1054744720459,68.83661484718323,70.48487615585327,72.22948884963989,73.8740394115448,75.52771329879761,77.19442391395569,78.83675241470337,80.42956018447876,82.15315246582031,83.84195613861084,85.47933292388916,87.13681650161743,88.87342238426208,90.5165798664093,92.15135192871094,93.83731317520142,95.46719002723694,97.1950261592865,98.87262296676636,100.53961253166199,102.17972683906555,103.82406687736511,105.47726035118103,107.11773657798767,108.84114742279053,110.459805727005,112.20040345191956,113.90025496482849,115.55199122428894,117.18940663337708,118.88111853599548,120.51151967048645,122.2002534866333,123.88636207580566,125.76022934913635,127.37755584716797,129.09949016571045,130.80930352210999,132.5344033241272,134.29881882667542,135.9962604045868,137.75153636932373,139.4614405632019,141.15343236923218,142.85730266571045,144.49243354797363,146.20736384391785,147.87128376960754,149.5311403274536,151.2123682498932,152.94847679138184,154.59034490585327,156.2458851337433,158.03794598579407,159.78373432159424,161.57279515266418,163.25734543800354,164.89506769180298,166.55276203155518,168.335294008255,170.03406429290771,171.725088596344],\"type\":\"scatter\",\"xaxis\":\"x3\",\"yaxis\":\"y3\"},{\"line\":{\"color\":\"brown\",\"width\":2},\"mode\":\"lines\",\"name\":\"Discrete Newton Method\",\"showlegend\":false,\"x\":[0,1,2,3,4,5,6,7,8,9,10,11,12,13,14,15,16,17,18,19,20,21,22,23,24,25,26,27,28,29,30,31,32,33,34,35,36,37,38,39,40,41,42,43,44,45,46,47,48,49,50,51,52,53,54,55,56,57,58,59,60,61,62,63,64,65,66,67,68,69,70,71,72,73,74,75,76,77,78,79,80,81,82,83,84,85,86,87,88,89,90,91,92,93,94,95,96,97,98,99,100],\"y\":[2.5077974796295166,4.779617071151733,7.043243646621704,9.239717721939087,11.44588303565979,13.889738082885742,16.09806752204895,18.29477071762085,20.511533975601196,22.681514263153076,25.158938884735107,27.393244981765747,29.608039379119873,31.835131883621216,34.01776361465454,36.516332149505615,38.718430519104004,40.96064853668213,43.1339225769043,45.28736162185669,47.79032802581787,50.01757264137268,52.22697925567627,54.46789622306824,56.73373579978943,59.211273193359375,61.46772527694702,63.76107358932495,65.99944376945496,68.19884157180786,70.72028827667236,72.99939298629761,75.25165939331055,77.45703029632568,79.76471424102783,82.32322239875793,84.57402300834656,86.83388090133667,89.06677579879761,91.30030632019043,93.87051177024841,96.16791796684265,98.46819686889648,100.6576030254364,102.83005666732788,105.0289056301117,107.49370884895325,109.75357413291931,111.97915482521057,114.11569142341614,116.59476113319397,118.93044376373291,121.16162276268005,123.40150809288025,125.61691212654114,128.0607626438141,130.3364760875702,132.57882571220398,134.86821961402893,137.03835201263428,139.57676482200623,141.7821934223175,144.10924696922302,146.36410236358643,148.60031747817993,151.14266896247864,153.29632210731506,155.46190667152405,157.79197525978088,159.99974966049194,162.5256724357605,164.78572463989258,167.00050330162048,169.21258568763733,171.40440201759338,173.60297298431396,176.08926701545715,178.3466236591339,180.5947515964508,182.77772855758667,185.2421112060547,187.49305963516235,189.72962927818298,191.94482159614563,194.14535427093506,196.38643622398376,198.8666353225708,201.05822706222534,203.35804200172424,205.56387901306152,208.01993918418884,210.25555300712585,212.52573990821838,214.76468706130981,216.95145511627197,219.44313979148865,221.68935227394104,223.98056387901306,226.30224084854126,228.5301308631897,230.9939262866974],\"type\":\"scatter\",\"xaxis\":\"x3\",\"yaxis\":\"y3\"},{\"line\":{\"color\":\"red\",\"width\":2},\"name\":\"Discrete Parameter Shift\",\"showlegend\":false,\"x\":[0,1,2,3,4,5,6,7,8,9,10,11,12,13,14,15,16,17,18,19,20,21,22,23,24,25,26,27,28,29,30,31,32,33,34,35,36,37,38,39,40,41,42,43,44,45,46,47,48,49,50,51,52,53,54,55,56,57,58,59,60,61,62,63,64,65,66,67,68,69,70,71,72,73,74,75,76,77,78,79,80,81,82,83,84,85,86,87,88,89,90,91,92,93,94,95,96,97,98,99,100],\"y\":[1.6236813068389893,3.2515459060668945,4.846923589706421,6.500518321990967,8.108965396881104,9.735157012939453,11.310030460357666,12.892524719238281,14.497275114059448,16.069268941879272,17.616944074630737,19.1575026512146,20.747804403305054,22.30453085899353,23.863102197647095,25.43630361557007,27.04558277130127,28.633049964904785,30.310955286026,32.046706676483154,33.68278455734253,35.25755310058594,36.88706111907959,38.44204926490784,39.99007534980774,41.56634306907654,43.10219979286194,44.697444438934326,46.29429888725281,47.86189603805542,49.495588541030884,51.08629274368286,52.64211559295654,54.24382138252258,55.83527851104736,57.40098834037781,58.947537422180176,60.58696365356445,62.11070728302002,63.96700882911682,65.50425672531128,67.06763553619385,68.64864993095398,70.21103024482727,71.77760434150696,73.29482245445251,74.85203647613525,76.39597511291504,77.95643091201782,79.55357933044434,81.1888530254364,82.85342454910278,84.46920704841614,85.98281192779541,87.4954993724823,89.0799994468689,90.66707944869995,92.20757937431335,93.75180101394653,95.30908226966858,96.96700167655945,98.51342558860779,100.19956517219543,101.7694456577301,103.30937576293945,104.84520220756531,106.41826820373535,107.97952938079834,109.60165524482727,111.20356869697571,112.76866102218628,114.30100083351135,115.95174884796143,117.52502083778381,119.09570646286011,120.64447236061096,122.23991656303406,123.86009430885315,125.46620082855225,127.01162385940552,128.5858337879181,130.1235809326172,131.7486174106598,133.32480692863464,134.89625906944275,136.46499180793762,138.008385181427,139.59380841255188,141.1748330593109,142.77622938156128,144.3621551990509,145.9586489200592,147.53926730155945,149.1057469844818,150.62841200828552,152.1616187095642,153.7817039489746,155.62704753875732,157.18505001068115,158.79961681365967,160.3408920764923],\"type\":\"scatter\",\"xaxis\":\"x4\",\"yaxis\":\"y4\"},{\"line\":{\"color\":\"green\",\"width\":2},\"mode\":\"lines\",\"name\":\"Discrete Finite Difference\",\"showlegend\":false,\"x\":[0,1,2,3,4,5,6,7,8,9,10,11,12,13,14,15,16,17,18,19,20,21,22,23,24,25,26,27,28,29,30,31,32,33,34,35,36,37,38,39,40,41,42,43,44,45,46,47,48,49,50,51,52,53,54,55,56,57,58,59,60,61,62,63,64,65,66,67,68,69,70,71,72,73,74,75,76,77,78,79,80,81,82,83,84,85,86,87,88,89,90,91,92,93,94,95,96,97,98,99,100],\"y\":[1.6053969860076904,3.1628780364990234,4.842942953109741,6.493461847305298,8.084678649902344,9.734286069869995,11.35828709602356,13.000744104385376,14.557042598724365,16.165810346603394,17.741940021514893,19.281888961791992,20.82113528251648,22.388273239135742,23.93083167076111,25.571835041046143,27.1080584526062,28.672641038894653,30.198932647705078,31.69600820541382,33.24108386039734,34.83449935913086,36.33306097984314,37.87702965736389,39.429152727127075,41.002456188201904,42.58526849746704,44.19335341453552,45.76188039779663,47.31921863555908,48.95400953292847,50.84241986274719,52.415321588516235,54.01419234275818,55.616963148117065,57.18083739280701,58.748108863830566,60.2740261554718,61.8766975402832,63.45680356025696,65.03516054153442,66.67181158065796,68.21703481674194,69.82016944885254,71.3223397731781,72.86930704116821,74.44693326950073,76.02671694755554,77.59452629089355,79.16067433357239,80.72336196899414,82.27869653701782,83.84711599349976,85.45113563537598,87.0367681980133,88.5808174610138,90.14778733253479,91.78529047966003,93.40446019172668,95.00174188613892,96.54326248168945,98.07366108894348,99.63970732688904,101.15793061256409,102.72307276725769,104.28336834907532,105.84731721878052,107.45605134963989,109.04201889038086,110.57368159294128,112.14466285705566,113.75944685935974,115.32066416740417,116.88197040557861,118.44480204582214,120.00384712219238,121.5378942489624,123.06074452400208,124.63515186309814,126.21206641197205,127.80370020866394,131.1677269935608,133.2994966506958,134.89876890182495,136.49936866760254,138.07288098335266,139.6787633895874,141.24791145324707,142.78802299499512,144.2781503200531,146.1184434890747,147.66482496261597,149.25534677505493,150.7984209060669,152.42264318466187,153.99292469024658,155.56692481040955,157.13989090919495,158.7714340686798,160.36031651496887,161.9140510559082],\"type\":\"scatter\",\"xaxis\":\"x4\",\"yaxis\":\"y4\"},{\"line\":{\"color\":\"blue\",\"width\":2},\"mode\":\"lines\",\"name\":\"Discrete QNG\",\"showlegend\":false,\"x\":[0,1,2,3,4,5,6,7,8,9,10,11,12,13,14,15,16,17,18,19,20,21,22,23,24,25,26,27,28,29,30,31,32,33,34,35,36,37,38,39,40,41,42,43,44,45,46,47,48,49,50,51,52,53,54,55,56,57,58,59,60,61,62,63,64,65,66,67,68,69,70,71,72,73,74,75,76,77,78,79,80,81,82,83,84,85,86,87,88,89,90,91,92,93,94,95,96,97,98,99,100],\"y\":[1.7246344089508057,3.5338451862335205,5.253921031951904,7.014692068099976,8.738073825836182,10.479406118392944,12.241161108016968,13.966126203536987,15.664006233215332,17.391104698181152,19.15872287750244,20.905259609222412,22.6180739402771,24.37513566017151,26.106813192367554,27.838107585906982,29.52835512161255,31.473035097122192,33.281532526016235,35.02682542800903,36.76813197135925,38.51103186607361,40.5425341129303,44.98442029953003,48.682196855545044,51.3285186290741,53.117531061172485,54.852927446365356,56.56061291694641,58.3453049659729,60.05951809883118,61.78172063827515,63.56265902519226,65.31072211265564,67.09665751457214,68.82950925827026,70.56006741523743,72.3333671092987,74.02029085159302,75.77964997291565,77.54334020614624,79.35905718803406,81.1380181312561,82.96672105789185,84.70146059989929,86.46242094039917,88.16378021240234,89.88420343399048,91.574143409729,93.3146698474884,95.03817391395569,96.83405685424805,98.53198218345642,100.33938527107239,102.03839111328125,103.79561805725098,105.5082757472992,107.19744992256165,108.90704774856567,110.66289401054382,112.65277671813965,114.3410894870758,116.0566303730011,117.77517795562744,119.51868915557861,121.30100464820862,123.04123878479004,124.8337333202362,126.66293025016785,128.41822743415833,130.22372150421143,132.06640148162842,133.81134939193726,135.5582823753357,137.27457070350647,139.00753498077393,140.7321228981018,142.51642394065857,144.2688136100769,145.99403429031372,147.70994544029236,149.4641923904419,151.1847438812256,152.95451951026917,154.6591558456421,156.37235736846924,158.16128659248352,159.94547390937805,161.6386547088623,163.43916654586792,165.13382768630981,166.8569037914276,168.56246972084045,170.3244547843933,172.04704785346985,173.78988075256348,175.50899505615234,177.29436016082764,179.11611795425415,180.80864453315735,182.49979329109192],\"type\":\"scatter\",\"xaxis\":\"x4\",\"yaxis\":\"y4\"},{\"line\":{\"color\":\"brown\",\"width\":2},\"mode\":\"lines\",\"name\":\"Discrete Newton Method\",\"showlegend\":false,\"x\":[0,1,2,3,4,5,6,7,8,9,10,11,12,13,14,15,16,17,18,19,20,21,22,23,24,25,26,27,28,29,30,31,32,33,34,35,36,37,38,39,40,41,42,43,44,45,46,47,48,49,50,51,52,53,54,55,56,57,58,59,60,61,62,63,64,65,66,67,68,69,70,71,72,73,74,75,76,77,78,79,80,81,82,83,84,85,86,87,88,89,90,91,92,93,94,95,96,97,98,99,100],\"y\":[2.3401105403900146,4.661478042602539,7.324016571044922,9.710197448730469,12.175273895263672,14.612712860107422,17.267499685287476,19.630177974700928,22.01485586166382,24.40119743347168,26.782191276550293,29.422972202301025,31.746776342391968,34.119500398635864,36.37301254272461,38.7070415019989,41.327537059783936,43.72934889793396,46.061137676239014,48.479676723480225,50.83460474014282,53.48335647583008,55.81306028366089,58.19118595123291,60.537394285202026,63.1656608581543,65.50808143615723,67.86146998405457,70.19342184066772,72.52503776550293,75.17504739761353,77.50991773605347,79.84016942977905,82.24563956260681,84.57006335258484,87.22803211212158,89.61659955978394,92.07180690765381,94.43191123008728,96.87856197357178,99.40560460090637,101.77852034568787,104.14488363265991,106.57319235801697,109.26357507705688,111.74195170402527,114.18962740898132,116.54680180549622,118.93848443031311,121.56610107421875,123.92353320121765,126.33882427215576,128.7286193370819,131.0856420993805,133.7023787498474,136.12456440925598,138.57113337516785,140.904883146286,143.5179886817932,145.82899618148804,148.21740984916687,150.60097408294678,152.9772870540619,155.65930724143982,158.10596561431885,160.44916653633118,162.83876276016235,165.18450832366943,167.85333013534546,170.35811758041382,172.70695877075195,175.06147027015686,177.44582748413086,180.10762572288513,182.42378187179565,184.78335905075073,187.1545329093933,189.7781183719635,192.1489176750183,194.5246524810791,196.95579266548157,199.37919306755066,202.04839706420898,204.4633400440216,206.78095626831055,209.16195917129517,211.53118324279785,214.21665573120117,216.63062930107117,219.0356056690216,221.4063696861267,223.81001806259155,226.48281741142273,228.82540249824524,231.2470827102661,233.6444809436798,236.055260181427,238.704909324646,241.13641667366028,243.52110409736633,245.93440103530884],\"type\":\"scatter\",\"xaxis\":\"x4\",\"yaxis\":\"y4\"}],                        {\"template\":{\"data\":{\"bar\":[{\"error_x\":{\"color\":\"#2a3f5f\"},\"error_y\":{\"color\":\"#2a3f5f\"},\"marker\":{\"line\":{\"color\":\"#E5ECF6\",\"width\":0.5},\"pattern\":{\"fillmode\":\"overlay\",\"size\":10,\"solidity\":0.2}},\"type\":\"bar\"}],\"barpolar\":[{\"marker\":{\"line\":{\"color\":\"#E5ECF6\",\"width\":0.5},\"pattern\":{\"fillmode\":\"overlay\",\"size\":10,\"solidity\":0.2}},\"type\":\"barpolar\"}],\"carpet\":[{\"aaxis\":{\"endlinecolor\":\"#2a3f5f\",\"gridcolor\":\"white\",\"linecolor\":\"white\",\"minorgridcolor\":\"white\",\"startlinecolor\":\"#2a3f5f\"},\"baxis\":{\"endlinecolor\":\"#2a3f5f\",\"gridcolor\":\"white\",\"linecolor\":\"white\",\"minorgridcolor\":\"white\",\"startlinecolor\":\"#2a3f5f\"},\"type\":\"carpet\"}],\"choropleth\":[{\"colorbar\":{\"outlinewidth\":0,\"ticks\":\"\"},\"type\":\"choropleth\"}],\"contour\":[{\"colorbar\":{\"outlinewidth\":0,\"ticks\":\"\"},\"colorscale\":[[0.0,\"#0d0887\"],[0.1111111111111111,\"#46039f\"],[0.2222222222222222,\"#7201a8\"],[0.3333333333333333,\"#9c179e\"],[0.4444444444444444,\"#bd3786\"],[0.5555555555555556,\"#d8576b\"],[0.6666666666666666,\"#ed7953\"],[0.7777777777777778,\"#fb9f3a\"],[0.8888888888888888,\"#fdca26\"],[1.0,\"#f0f921\"]],\"type\":\"contour\"}],\"contourcarpet\":[{\"colorbar\":{\"outlinewidth\":0,\"ticks\":\"\"},\"type\":\"contourcarpet\"}],\"heatmap\":[{\"colorbar\":{\"outlinewidth\":0,\"ticks\":\"\"},\"colorscale\":[[0.0,\"#0d0887\"],[0.1111111111111111,\"#46039f\"],[0.2222222222222222,\"#7201a8\"],[0.3333333333333333,\"#9c179e\"],[0.4444444444444444,\"#bd3786\"],[0.5555555555555556,\"#d8576b\"],[0.6666666666666666,\"#ed7953\"],[0.7777777777777778,\"#fb9f3a\"],[0.8888888888888888,\"#fdca26\"],[1.0,\"#f0f921\"]],\"type\":\"heatmap\"}],\"heatmapgl\":[{\"colorbar\":{\"outlinewidth\":0,\"ticks\":\"\"},\"colorscale\":[[0.0,\"#0d0887\"],[0.1111111111111111,\"#46039f\"],[0.2222222222222222,\"#7201a8\"],[0.3333333333333333,\"#9c179e\"],[0.4444444444444444,\"#bd3786\"],[0.5555555555555556,\"#d8576b\"],[0.6666666666666666,\"#ed7953\"],[0.7777777777777778,\"#fb9f3a\"],[0.8888888888888888,\"#fdca26\"],[1.0,\"#f0f921\"]],\"type\":\"heatmapgl\"}],\"histogram\":[{\"marker\":{\"pattern\":{\"fillmode\":\"overlay\",\"size\":10,\"solidity\":0.2}},\"type\":\"histogram\"}],\"histogram2d\":[{\"colorbar\":{\"outlinewidth\":0,\"ticks\":\"\"},\"colorscale\":[[0.0,\"#0d0887\"],[0.1111111111111111,\"#46039f\"],[0.2222222222222222,\"#7201a8\"],[0.3333333333333333,\"#9c179e\"],[0.4444444444444444,\"#bd3786\"],[0.5555555555555556,\"#d8576b\"],[0.6666666666666666,\"#ed7953\"],[0.7777777777777778,\"#fb9f3a\"],[0.8888888888888888,\"#fdca26\"],[1.0,\"#f0f921\"]],\"type\":\"histogram2d\"}],\"histogram2dcontour\":[{\"colorbar\":{\"outlinewidth\":0,\"ticks\":\"\"},\"colorscale\":[[0.0,\"#0d0887\"],[0.1111111111111111,\"#46039f\"],[0.2222222222222222,\"#7201a8\"],[0.3333333333333333,\"#9c179e\"],[0.4444444444444444,\"#bd3786\"],[0.5555555555555556,\"#d8576b\"],[0.6666666666666666,\"#ed7953\"],[0.7777777777777778,\"#fb9f3a\"],[0.8888888888888888,\"#fdca26\"],[1.0,\"#f0f921\"]],\"type\":\"histogram2dcontour\"}],\"mesh3d\":[{\"colorbar\":{\"outlinewidth\":0,\"ticks\":\"\"},\"type\":\"mesh3d\"}],\"parcoords\":[{\"line\":{\"colorbar\":{\"outlinewidth\":0,\"ticks\":\"\"}},\"type\":\"parcoords\"}],\"pie\":[{\"automargin\":true,\"type\":\"pie\"}],\"scatter\":[{\"marker\":{\"colorbar\":{\"outlinewidth\":0,\"ticks\":\"\"}},\"type\":\"scatter\"}],\"scatter3d\":[{\"line\":{\"colorbar\":{\"outlinewidth\":0,\"ticks\":\"\"}},\"marker\":{\"colorbar\":{\"outlinewidth\":0,\"ticks\":\"\"}},\"type\":\"scatter3d\"}],\"scattercarpet\":[{\"marker\":{\"colorbar\":{\"outlinewidth\":0,\"ticks\":\"\"}},\"type\":\"scattercarpet\"}],\"scattergeo\":[{\"marker\":{\"colorbar\":{\"outlinewidth\":0,\"ticks\":\"\"}},\"type\":\"scattergeo\"}],\"scattergl\":[{\"marker\":{\"colorbar\":{\"outlinewidth\":0,\"ticks\":\"\"}},\"type\":\"scattergl\"}],\"scattermapbox\":[{\"marker\":{\"colorbar\":{\"outlinewidth\":0,\"ticks\":\"\"}},\"type\":\"scattermapbox\"}],\"scatterpolar\":[{\"marker\":{\"colorbar\":{\"outlinewidth\":0,\"ticks\":\"\"}},\"type\":\"scatterpolar\"}],\"scatterpolargl\":[{\"marker\":{\"colorbar\":{\"outlinewidth\":0,\"ticks\":\"\"}},\"type\":\"scatterpolargl\"}],\"scatterternary\":[{\"marker\":{\"colorbar\":{\"outlinewidth\":0,\"ticks\":\"\"}},\"type\":\"scatterternary\"}],\"surface\":[{\"colorbar\":{\"outlinewidth\":0,\"ticks\":\"\"},\"colorscale\":[[0.0,\"#0d0887\"],[0.1111111111111111,\"#46039f\"],[0.2222222222222222,\"#7201a8\"],[0.3333333333333333,\"#9c179e\"],[0.4444444444444444,\"#bd3786\"],[0.5555555555555556,\"#d8576b\"],[0.6666666666666666,\"#ed7953\"],[0.7777777777777778,\"#fb9f3a\"],[0.8888888888888888,\"#fdca26\"],[1.0,\"#f0f921\"]],\"type\":\"surface\"}],\"table\":[{\"cells\":{\"fill\":{\"color\":\"#EBF0F8\"},\"line\":{\"color\":\"white\"}},\"header\":{\"fill\":{\"color\":\"#C8D4E3\"},\"line\":{\"color\":\"white\"}},\"type\":\"table\"}]},\"layout\":{\"annotationdefaults\":{\"arrowcolor\":\"#2a3f5f\",\"arrowhead\":0,\"arrowwidth\":1},\"autotypenumbers\":\"strict\",\"coloraxis\":{\"colorbar\":{\"outlinewidth\":0,\"ticks\":\"\"}},\"colorscale\":{\"diverging\":[[0,\"#8e0152\"],[0.1,\"#c51b7d\"],[0.2,\"#de77ae\"],[0.3,\"#f1b6da\"],[0.4,\"#fde0ef\"],[0.5,\"#f7f7f7\"],[0.6,\"#e6f5d0\"],[0.7,\"#b8e186\"],[0.8,\"#7fbc41\"],[0.9,\"#4d9221\"],[1,\"#276419\"]],\"sequential\":[[0.0,\"#0d0887\"],[0.1111111111111111,\"#46039f\"],[0.2222222222222222,\"#7201a8\"],[0.3333333333333333,\"#9c179e\"],[0.4444444444444444,\"#bd3786\"],[0.5555555555555556,\"#d8576b\"],[0.6666666666666666,\"#ed7953\"],[0.7777777777777778,\"#fb9f3a\"],[0.8888888888888888,\"#fdca26\"],[1.0,\"#f0f921\"]],\"sequentialminus\":[[0.0,\"#0d0887\"],[0.1111111111111111,\"#46039f\"],[0.2222222222222222,\"#7201a8\"],[0.3333333333333333,\"#9c179e\"],[0.4444444444444444,\"#bd3786\"],[0.5555555555555556,\"#d8576b\"],[0.6666666666666666,\"#ed7953\"],[0.7777777777777778,\"#fb9f3a\"],[0.8888888888888888,\"#fdca26\"],[1.0,\"#f0f921\"]]},\"colorway\":[\"#636efa\",\"#EF553B\",\"#00cc96\",\"#ab63fa\",\"#FFA15A\",\"#19d3f3\",\"#FF6692\",\"#B6E880\",\"#FF97FF\",\"#FECB52\"],\"font\":{\"color\":\"#2a3f5f\"},\"geo\":{\"bgcolor\":\"white\",\"lakecolor\":\"white\",\"landcolor\":\"#E5ECF6\",\"showlakes\":true,\"showland\":true,\"subunitcolor\":\"white\"},\"hoverlabel\":{\"align\":\"left\"},\"hovermode\":\"closest\",\"mapbox\":{\"style\":\"light\"},\"paper_bgcolor\":\"white\",\"plot_bgcolor\":\"#E5ECF6\",\"polar\":{\"angularaxis\":{\"gridcolor\":\"white\",\"linecolor\":\"white\",\"ticks\":\"\"},\"bgcolor\":\"#E5ECF6\",\"radialaxis\":{\"gridcolor\":\"white\",\"linecolor\":\"white\",\"ticks\":\"\"}},\"scene\":{\"xaxis\":{\"backgroundcolor\":\"#E5ECF6\",\"gridcolor\":\"white\",\"gridwidth\":2,\"linecolor\":\"white\",\"showbackground\":true,\"ticks\":\"\",\"zerolinecolor\":\"white\"},\"yaxis\":{\"backgroundcolor\":\"#E5ECF6\",\"gridcolor\":\"white\",\"gridwidth\":2,\"linecolor\":\"white\",\"showbackground\":true,\"ticks\":\"\",\"zerolinecolor\":\"white\"},\"zaxis\":{\"backgroundcolor\":\"#E5ECF6\",\"gridcolor\":\"white\",\"gridwidth\":2,\"linecolor\":\"white\",\"showbackground\":true,\"ticks\":\"\",\"zerolinecolor\":\"white\"}},\"shapedefaults\":{\"line\":{\"color\":\"#2a3f5f\"}},\"ternary\":{\"aaxis\":{\"gridcolor\":\"white\",\"linecolor\":\"white\",\"ticks\":\"\"},\"baxis\":{\"gridcolor\":\"white\",\"linecolor\":\"white\",\"ticks\":\"\"},\"bgcolor\":\"#E5ECF6\",\"caxis\":{\"gridcolor\":\"white\",\"linecolor\":\"white\",\"ticks\":\"\"}},\"title\":{\"x\":0.05},\"xaxis\":{\"automargin\":true,\"gridcolor\":\"white\",\"linecolor\":\"white\",\"ticks\":\"\",\"title\":{\"standoff\":15},\"zerolinecolor\":\"white\",\"zerolinewidth\":2},\"yaxis\":{\"automargin\":true,\"gridcolor\":\"white\",\"linecolor\":\"white\",\"ticks\":\"\",\"title\":{\"standoff\":15},\"zerolinecolor\":\"white\",\"zerolinewidth\":2}}},\"xaxis\":{\"anchor\":\"y\",\"domain\":[0.0,0.45],\"title\":{\"text\":\"Iteration\"}},\"yaxis\":{\"anchor\":\"x\",\"domain\":[0.625,1.0],\"title\":{\"text\":\"Time (Sec)\"}},\"xaxis2\":{\"anchor\":\"y2\",\"domain\":[0.55,1.0]},\"yaxis2\":{\"anchor\":\"x2\",\"domain\":[0.625,1.0]},\"xaxis3\":{\"anchor\":\"y3\",\"domain\":[0.0,0.45]},\"yaxis3\":{\"anchor\":\"x3\",\"domain\":[0.0,0.375]},\"xaxis4\":{\"anchor\":\"y4\",\"domain\":[0.55,1.0]},\"yaxis4\":{\"anchor\":\"x4\",\"domain\":[0.0,0.375]},\"annotations\":[{\"font\":{\"size\":16},\"showarrow\":false,\"text\":\"Max-Cut\",\"x\":0.225,\"xanchor\":\"center\",\"xref\":\"paper\",\"y\":1.0,\"yanchor\":\"bottom\",\"yref\":\"paper\"},{\"font\":{\"size\":16},\"showarrow\":false,\"text\":\"Clique\",\"x\":0.775,\"xanchor\":\"center\",\"xref\":\"paper\",\"y\":1.0,\"yanchor\":\"bottom\",\"yref\":\"paper\"},{\"font\":{\"size\":16},\"showarrow\":false,\"text\":\"Binary Linear Programming\",\"x\":0.225,\"xanchor\":\"center\",\"xref\":\"paper\",\"y\":0.375,\"yanchor\":\"bottom\",\"yref\":\"paper\"},{\"font\":{\"size\":16},\"showarrow\":false,\"text\":\"Knapsack\",\"x\":0.775,\"xanchor\":\"center\",\"xref\":\"paper\",\"y\":0.375,\"yanchor\":\"bottom\",\"yref\":\"paper\"}],\"title\":{\"text\":\"Time Comparison  <br><sup>Fixed the number of parameterized gate (6 gate).</sup>\"},\"autosize\":false,\"width\":1000,\"height\":700},                        {\"responsive\": true}                    ).then(function(){\n",
              "                            \n",
              "var gd = document.getElementById('efca3b01-46b6-42e8-86ef-090009257c64');\n",
              "var x = new MutationObserver(function (mutations, observer) {{\n",
              "        var display = window.getComputedStyle(gd).display;\n",
              "        if (!display || display === 'none') {{\n",
              "            console.log([gd, 'removed!']);\n",
              "            Plotly.purge(gd);\n",
              "            observer.disconnect();\n",
              "        }}\n",
              "}});\n",
              "\n",
              "// Listen for the removal of the full notebook cells\n",
              "var notebookContainer = gd.closest('#notebook-container');\n",
              "if (notebookContainer) {{\n",
              "    x.observe(notebookContainer, {childList: true});\n",
              "}}\n",
              "\n",
              "// Listen for the clearing of the current output cell\n",
              "var outputEl = gd.closest('.output');\n",
              "if (outputEl) {{\n",
              "    x.observe(outputEl, {childList: true});\n",
              "}}\n",
              "\n",
              "                        })                };                            </script>        </div>\n",
              "</body>\n",
              "</html>"
            ]
          },
          "metadata": {}
        }
      ]
    },
    {
      "cell_type": "code",
      "source": [
        "#@title Comparison Table\n",
        "rows = ['Discrete Parameter Shift',\n",
        "          'Discrete Finite Difference',\n",
        "          #'Discrete LCU', \n",
        "          'Discrete QNG',\n",
        "          'Discrete Newton Gradient',\n",
        "          #'Classical'\n",
        "          ]\n",
        "columns_g = [\"Iteration 25\", \"Iteration 50\", \"Iteration 75\", \"Iteration 100\"]\n",
        "iters = [25, 50, 75, 100]\n",
        "columns_s = [\"Loss\", \"Time(second)\"]\n",
        "problems = [\"Max-Cut\", \"Clique\", \"Binary Linear Programming\", \"Knapsack\"]\n",
        "for problemn in range(len(problems)):\n",
        "  df = pd.DataFrame([[psl[problemn][iters[0]], pst[problemn][iters[0]], psl[problemn][iters[1]],pst[problemn][iters[1]],psl[problemn][iters[2]],pst[problemn][iters[2]],psl[problemn][iters[3]],pst[problemn][iters[3]]],\n",
        "                    [fdl[problemn][iters[0]], fdt[problemn][iters[0]], fdl[problemn][iters[1]], fdt[problemn][iters[1]], fdl[problemn][iters[2]], fdt[problemn][iters[2]], fdl[problemn][iters[3]], fdt[problemn][iters[3]]],\n",
        "                    #[loss_plot_lcu[iters[0]],lcu_time_i[100],loss_plot_lcu[200],lcu_time_i[200],loss_plot_lcu[300],lcu_time_i[300], loss_plot_lcu[400],lcu_time_i[400], loss_plot_lcu[500],lcu_time_i[500]],\n",
        "                    [qngl[problemn][iters[0]],qngt[problemn][iters[0]],qngl[problemn][iters[1]],qngt[problemn][iters[1]],qngl[problemn][iters[2]],qngt[problemn][iters[2]], qngl[problemn][iters[3]],qngt[problemn][iters[3]]],\n",
        "                    [qnwl[problemn][iters[0]],qnwt[problemn][iters[0]],qnwl[problemn][iters[1]],qnwt[problemn][iters[1]],qnwl[problemn][iters[2]],qnwt[problemn][iters[2]],qnwl[problemn][iters[3]],qnwt[problemn][iters[3]]],\n",
        "                    #[loss_plot_classical[5],classical_time_i[100],loss_plot_classical[200],classical_time_i[200],loss_plot_classical[300],classical_time_i[300], loss_plot_classical[400],classical_time_i[400], loss_plot_classical[500],classical_time_i[500]]\n",
        "                    ])\n",
        "\n",
        "  col_ix = pd.MultiIndex.from_product([columns_g, columns_s]) \n",
        "  row_ix = pd.MultiIndex.from_product([rows])\n",
        "  df = df.set_index(row_ix)\n",
        "  df.columns = col_ix\n",
        "  df[( 'Iteration 25','Loss')] = df[( 'Iteration 25','Loss')].map('{:.2e}'.format)\n",
        "  df[( 'Iteration 50','Loss')] = df[( 'Iteration 50','Loss')].map('{:.2e}'.format)\n",
        "  df[( 'Iteration 75','Loss')] = df[( 'Iteration 75','Loss')].map('{:.2e}'.format)\n",
        "  df[( 'Iteration 100','Loss')] = df[( 'Iteration 100','Loss')].map('{:.2e}'.format)\n",
        "  # df[( 'Iteration 500','Loss')] = df[( 'Iteration 500','Loss')].map('{:.2e}'.format)\n",
        "  print(f\"\\033[1m{problems[problemn]}\\033[0m\")\n",
        "  display(df.round(2))\n",
        "  print(\"\\n\\n\\n\")"
      ],
      "metadata": {
        "colab": {
          "base_uri": "https://localhost:8080/",
          "height": 1000
        },
        "cellView": "form",
        "id": "VbTqgBW9-e0e",
        "outputId": "8274b1bb-05e3-43a3-ee56-8880bfe0ebb0"
      },
      "execution_count": 208,
      "outputs": [
        {
          "output_type": "stream",
          "name": "stdout",
          "text": [
            "\u001b[1mMax-Cut\u001b[0m\n"
          ]
        },
        {
          "output_type": "display_data",
          "data": {
            "text/plain": [
              "                           Iteration 25              Iteration 50  \\\n",
              "                                   Loss Time(second)         Loss   \n",
              "Discrete Parameter Shift      -3.22e+00        63.30    -3.50e+00   \n",
              "Discrete Finite Difference    -3.22e+00        39.95    -3.50e+00   \n",
              "Discrete QNG                  -3.24e+00        42.31    -3.50e+00   \n",
              "Discrete Newton Gradient      -1.26e+00        58.22    -1.13e+00   \n",
              "\n",
              "                                        Iteration 75               \\\n",
              "                           Time(second)         Loss Time(second)   \n",
              "Discrete Parameter Shift          99.98    -3.50e+00       137.48   \n",
              "Discrete Finite Difference        76.80    -3.50e+00       113.61   \n",
              "Discrete QNG                      82.61    -3.50e+00       123.18   \n",
              "Discrete Newton Gradient         113.81    -1.13e+00       169.63   \n",
              "\n",
              "                           Iteration 100               \n",
              "                                    Loss Time(second)  \n",
              "Discrete Parameter Shift       -3.50e+00       173.59  \n",
              "Discrete Finite Difference     -3.50e+00       149.68  \n",
              "Discrete QNG                   -3.50e+00       163.17  \n",
              "Discrete Newton Gradient       -1.13e+00       226.13  "
            ],
            "text/html": [
              "\n",
              "  <div id=\"df-d90ee056-c4a0-4d5e-b3ac-c91dae2e0da9\">\n",
              "    <div class=\"colab-df-container\">\n",
              "      <div>\n",
              "<style scoped>\n",
              "    .dataframe tbody tr th:only-of-type {\n",
              "        vertical-align: middle;\n",
              "    }\n",
              "\n",
              "    .dataframe tbody tr th {\n",
              "        vertical-align: top;\n",
              "    }\n",
              "\n",
              "    .dataframe thead tr th {\n",
              "        text-align: left;\n",
              "    }\n",
              "</style>\n",
              "<table border=\"1\" class=\"dataframe\">\n",
              "  <thead>\n",
              "    <tr>\n",
              "      <th></th>\n",
              "      <th colspan=\"2\" halign=\"left\">Iteration 25</th>\n",
              "      <th colspan=\"2\" halign=\"left\">Iteration 50</th>\n",
              "      <th colspan=\"2\" halign=\"left\">Iteration 75</th>\n",
              "      <th colspan=\"2\" halign=\"left\">Iteration 100</th>\n",
              "    </tr>\n",
              "    <tr>\n",
              "      <th></th>\n",
              "      <th>Loss</th>\n",
              "      <th>Time(second)</th>\n",
              "      <th>Loss</th>\n",
              "      <th>Time(second)</th>\n",
              "      <th>Loss</th>\n",
              "      <th>Time(second)</th>\n",
              "      <th>Loss</th>\n",
              "      <th>Time(second)</th>\n",
              "    </tr>\n",
              "  </thead>\n",
              "  <tbody>\n",
              "    <tr>\n",
              "      <th>Discrete Parameter Shift</th>\n",
              "      <td>-3.22e+00</td>\n",
              "      <td>63.30</td>\n",
              "      <td>-3.50e+00</td>\n",
              "      <td>99.98</td>\n",
              "      <td>-3.50e+00</td>\n",
              "      <td>137.48</td>\n",
              "      <td>-3.50e+00</td>\n",
              "      <td>173.59</td>\n",
              "    </tr>\n",
              "    <tr>\n",
              "      <th>Discrete Finite Difference</th>\n",
              "      <td>-3.22e+00</td>\n",
              "      <td>39.95</td>\n",
              "      <td>-3.50e+00</td>\n",
              "      <td>76.80</td>\n",
              "      <td>-3.50e+00</td>\n",
              "      <td>113.61</td>\n",
              "      <td>-3.50e+00</td>\n",
              "      <td>149.68</td>\n",
              "    </tr>\n",
              "    <tr>\n",
              "      <th>Discrete QNG</th>\n",
              "      <td>-3.24e+00</td>\n",
              "      <td>42.31</td>\n",
              "      <td>-3.50e+00</td>\n",
              "      <td>82.61</td>\n",
              "      <td>-3.50e+00</td>\n",
              "      <td>123.18</td>\n",
              "      <td>-3.50e+00</td>\n",
              "      <td>163.17</td>\n",
              "    </tr>\n",
              "    <tr>\n",
              "      <th>Discrete Newton Gradient</th>\n",
              "      <td>-1.26e+00</td>\n",
              "      <td>58.22</td>\n",
              "      <td>-1.13e+00</td>\n",
              "      <td>113.81</td>\n",
              "      <td>-1.13e+00</td>\n",
              "      <td>169.63</td>\n",
              "      <td>-1.13e+00</td>\n",
              "      <td>226.13</td>\n",
              "    </tr>\n",
              "  </tbody>\n",
              "</table>\n",
              "</div>\n",
              "      <button class=\"colab-df-convert\" onclick=\"convertToInteractive('df-d90ee056-c4a0-4d5e-b3ac-c91dae2e0da9')\"\n",
              "              title=\"Convert this dataframe to an interactive table.\"\n",
              "              style=\"display:none;\">\n",
              "        \n",
              "  <svg xmlns=\"http://www.w3.org/2000/svg\" height=\"24px\"viewBox=\"0 0 24 24\"\n",
              "       width=\"24px\">\n",
              "    <path d=\"M0 0h24v24H0V0z\" fill=\"none\"/>\n",
              "    <path d=\"M18.56 5.44l.94 2.06.94-2.06 2.06-.94-2.06-.94-.94-2.06-.94 2.06-2.06.94zm-11 1L8.5 8.5l.94-2.06 2.06-.94-2.06-.94L8.5 2.5l-.94 2.06-2.06.94zm10 10l.94 2.06.94-2.06 2.06-.94-2.06-.94-.94-2.06-.94 2.06-2.06.94z\"/><path d=\"M17.41 7.96l-1.37-1.37c-.4-.4-.92-.59-1.43-.59-.52 0-1.04.2-1.43.59L10.3 9.45l-7.72 7.72c-.78.78-.78 2.05 0 2.83L4 21.41c.39.39.9.59 1.41.59.51 0 1.02-.2 1.41-.59l7.78-7.78 2.81-2.81c.8-.78.8-2.07 0-2.86zM5.41 20L4 18.59l7.72-7.72 1.47 1.35L5.41 20z\"/>\n",
              "  </svg>\n",
              "      </button>\n",
              "      \n",
              "  <style>\n",
              "    .colab-df-container {\n",
              "      display:flex;\n",
              "      flex-wrap:wrap;\n",
              "      gap: 12px;\n",
              "    }\n",
              "\n",
              "    .colab-df-convert {\n",
              "      background-color: #E8F0FE;\n",
              "      border: none;\n",
              "      border-radius: 50%;\n",
              "      cursor: pointer;\n",
              "      display: none;\n",
              "      fill: #1967D2;\n",
              "      height: 32px;\n",
              "      padding: 0 0 0 0;\n",
              "      width: 32px;\n",
              "    }\n",
              "\n",
              "    .colab-df-convert:hover {\n",
              "      background-color: #E2EBFA;\n",
              "      box-shadow: 0px 1px 2px rgba(60, 64, 67, 0.3), 0px 1px 3px 1px rgba(60, 64, 67, 0.15);\n",
              "      fill: #174EA6;\n",
              "    }\n",
              "\n",
              "    [theme=dark] .colab-df-convert {\n",
              "      background-color: #3B4455;\n",
              "      fill: #D2E3FC;\n",
              "    }\n",
              "\n",
              "    [theme=dark] .colab-df-convert:hover {\n",
              "      background-color: #434B5C;\n",
              "      box-shadow: 0px 1px 3px 1px rgba(0, 0, 0, 0.15);\n",
              "      filter: drop-shadow(0px 1px 2px rgba(0, 0, 0, 0.3));\n",
              "      fill: #FFFFFF;\n",
              "    }\n",
              "  </style>\n",
              "\n",
              "      <script>\n",
              "        const buttonEl =\n",
              "          document.querySelector('#df-d90ee056-c4a0-4d5e-b3ac-c91dae2e0da9 button.colab-df-convert');\n",
              "        buttonEl.style.display =\n",
              "          google.colab.kernel.accessAllowed ? 'block' : 'none';\n",
              "\n",
              "        async function convertToInteractive(key) {\n",
              "          const element = document.querySelector('#df-d90ee056-c4a0-4d5e-b3ac-c91dae2e0da9');\n",
              "          const dataTable =\n",
              "            await google.colab.kernel.invokeFunction('convertToInteractive',\n",
              "                                                     [key], {});\n",
              "          if (!dataTable) return;\n",
              "\n",
              "          const docLinkHtml = 'Like what you see? Visit the ' +\n",
              "            '<a target=\"_blank\" href=https://colab.research.google.com/notebooks/data_table.ipynb>data table notebook</a>'\n",
              "            + ' to learn more about interactive tables.';\n",
              "          element.innerHTML = '';\n",
              "          dataTable['output_type'] = 'display_data';\n",
              "          await google.colab.output.renderOutput(dataTable, element);\n",
              "          const docLink = document.createElement('div');\n",
              "          docLink.innerHTML = docLinkHtml;\n",
              "          element.appendChild(docLink);\n",
              "        }\n",
              "      </script>\n",
              "    </div>\n",
              "  </div>\n",
              "  "
            ]
          },
          "metadata": {}
        },
        {
          "output_type": "stream",
          "name": "stdout",
          "text": [
            "\n",
            "\n",
            "\n",
            "\n",
            "\u001b[1mClique\u001b[0m\n"
          ]
        },
        {
          "output_type": "display_data",
          "data": {
            "text/plain": [
              "                           Iteration 25              Iteration 50  \\\n",
              "                                   Loss Time(second)         Loss   \n",
              "Discrete Parameter Shift      -2.41e+00        38.88    -2.49e+00   \n",
              "Discrete Finite Difference    -2.41e+00        38.41    -2.49e+00   \n",
              "Discrete QNG                  -2.44e+00        42.72    -2.50e+00   \n",
              "Discrete Newton Gradient      -1.65e-01        59.31    -1.83e-01   \n",
              "\n",
              "                                        Iteration 75               \\\n",
              "                           Time(second)         Loss Time(second)   \n",
              "Discrete Parameter Shift          75.76    -2.50e+00       112.42   \n",
              "Discrete Finite Difference        75.29    -2.50e+00       112.40   \n",
              "Discrete QNG                      83.60    -2.50e+00       125.17   \n",
              "Discrete Newton Gradient         116.96    -2.12e-01       174.54   \n",
              "\n",
              "                           Iteration 100               \n",
              "                                    Loss Time(second)  \n",
              "Discrete Parameter Shift       -2.50e+00       149.17  \n",
              "Discrete Finite Difference     -2.50e+00       149.73  \n",
              "Discrete QNG                   -2.50e+00       166.78  \n",
              "Discrete Newton Gradient       -2.09e-01       232.02  "
            ],
            "text/html": [
              "\n",
              "  <div id=\"df-cfd1c62f-5ace-47a9-b8d9-a46fe96899ff\">\n",
              "    <div class=\"colab-df-container\">\n",
              "      <div>\n",
              "<style scoped>\n",
              "    .dataframe tbody tr th:only-of-type {\n",
              "        vertical-align: middle;\n",
              "    }\n",
              "\n",
              "    .dataframe tbody tr th {\n",
              "        vertical-align: top;\n",
              "    }\n",
              "\n",
              "    .dataframe thead tr th {\n",
              "        text-align: left;\n",
              "    }\n",
              "</style>\n",
              "<table border=\"1\" class=\"dataframe\">\n",
              "  <thead>\n",
              "    <tr>\n",
              "      <th></th>\n",
              "      <th colspan=\"2\" halign=\"left\">Iteration 25</th>\n",
              "      <th colspan=\"2\" halign=\"left\">Iteration 50</th>\n",
              "      <th colspan=\"2\" halign=\"left\">Iteration 75</th>\n",
              "      <th colspan=\"2\" halign=\"left\">Iteration 100</th>\n",
              "    </tr>\n",
              "    <tr>\n",
              "      <th></th>\n",
              "      <th>Loss</th>\n",
              "      <th>Time(second)</th>\n",
              "      <th>Loss</th>\n",
              "      <th>Time(second)</th>\n",
              "      <th>Loss</th>\n",
              "      <th>Time(second)</th>\n",
              "      <th>Loss</th>\n",
              "      <th>Time(second)</th>\n",
              "    </tr>\n",
              "  </thead>\n",
              "  <tbody>\n",
              "    <tr>\n",
              "      <th>Discrete Parameter Shift</th>\n",
              "      <td>-2.41e+00</td>\n",
              "      <td>38.88</td>\n",
              "      <td>-2.49e+00</td>\n",
              "      <td>75.76</td>\n",
              "      <td>-2.50e+00</td>\n",
              "      <td>112.42</td>\n",
              "      <td>-2.50e+00</td>\n",
              "      <td>149.17</td>\n",
              "    </tr>\n",
              "    <tr>\n",
              "      <th>Discrete Finite Difference</th>\n",
              "      <td>-2.41e+00</td>\n",
              "      <td>38.41</td>\n",
              "      <td>-2.49e+00</td>\n",
              "      <td>75.29</td>\n",
              "      <td>-2.50e+00</td>\n",
              "      <td>112.40</td>\n",
              "      <td>-2.50e+00</td>\n",
              "      <td>149.73</td>\n",
              "    </tr>\n",
              "    <tr>\n",
              "      <th>Discrete QNG</th>\n",
              "      <td>-2.44e+00</td>\n",
              "      <td>42.72</td>\n",
              "      <td>-2.50e+00</td>\n",
              "      <td>83.60</td>\n",
              "      <td>-2.50e+00</td>\n",
              "      <td>125.17</td>\n",
              "      <td>-2.50e+00</td>\n",
              "      <td>166.78</td>\n",
              "    </tr>\n",
              "    <tr>\n",
              "      <th>Discrete Newton Gradient</th>\n",
              "      <td>-1.65e-01</td>\n",
              "      <td>59.31</td>\n",
              "      <td>-1.83e-01</td>\n",
              "      <td>116.96</td>\n",
              "      <td>-2.12e-01</td>\n",
              "      <td>174.54</td>\n",
              "      <td>-2.09e-01</td>\n",
              "      <td>232.02</td>\n",
              "    </tr>\n",
              "  </tbody>\n",
              "</table>\n",
              "</div>\n",
              "      <button class=\"colab-df-convert\" onclick=\"convertToInteractive('df-cfd1c62f-5ace-47a9-b8d9-a46fe96899ff')\"\n",
              "              title=\"Convert this dataframe to an interactive table.\"\n",
              "              style=\"display:none;\">\n",
              "        \n",
              "  <svg xmlns=\"http://www.w3.org/2000/svg\" height=\"24px\"viewBox=\"0 0 24 24\"\n",
              "       width=\"24px\">\n",
              "    <path d=\"M0 0h24v24H0V0z\" fill=\"none\"/>\n",
              "    <path d=\"M18.56 5.44l.94 2.06.94-2.06 2.06-.94-2.06-.94-.94-2.06-.94 2.06-2.06.94zm-11 1L8.5 8.5l.94-2.06 2.06-.94-2.06-.94L8.5 2.5l-.94 2.06-2.06.94zm10 10l.94 2.06.94-2.06 2.06-.94-2.06-.94-.94-2.06-.94 2.06-2.06.94z\"/><path d=\"M17.41 7.96l-1.37-1.37c-.4-.4-.92-.59-1.43-.59-.52 0-1.04.2-1.43.59L10.3 9.45l-7.72 7.72c-.78.78-.78 2.05 0 2.83L4 21.41c.39.39.9.59 1.41.59.51 0 1.02-.2 1.41-.59l7.78-7.78 2.81-2.81c.8-.78.8-2.07 0-2.86zM5.41 20L4 18.59l7.72-7.72 1.47 1.35L5.41 20z\"/>\n",
              "  </svg>\n",
              "      </button>\n",
              "      \n",
              "  <style>\n",
              "    .colab-df-container {\n",
              "      display:flex;\n",
              "      flex-wrap:wrap;\n",
              "      gap: 12px;\n",
              "    }\n",
              "\n",
              "    .colab-df-convert {\n",
              "      background-color: #E8F0FE;\n",
              "      border: none;\n",
              "      border-radius: 50%;\n",
              "      cursor: pointer;\n",
              "      display: none;\n",
              "      fill: #1967D2;\n",
              "      height: 32px;\n",
              "      padding: 0 0 0 0;\n",
              "      width: 32px;\n",
              "    }\n",
              "\n",
              "    .colab-df-convert:hover {\n",
              "      background-color: #E2EBFA;\n",
              "      box-shadow: 0px 1px 2px rgba(60, 64, 67, 0.3), 0px 1px 3px 1px rgba(60, 64, 67, 0.15);\n",
              "      fill: #174EA6;\n",
              "    }\n",
              "\n",
              "    [theme=dark] .colab-df-convert {\n",
              "      background-color: #3B4455;\n",
              "      fill: #D2E3FC;\n",
              "    }\n",
              "\n",
              "    [theme=dark] .colab-df-convert:hover {\n",
              "      background-color: #434B5C;\n",
              "      box-shadow: 0px 1px 3px 1px rgba(0, 0, 0, 0.15);\n",
              "      filter: drop-shadow(0px 1px 2px rgba(0, 0, 0, 0.3));\n",
              "      fill: #FFFFFF;\n",
              "    }\n",
              "  </style>\n",
              "\n",
              "      <script>\n",
              "        const buttonEl =\n",
              "          document.querySelector('#df-cfd1c62f-5ace-47a9-b8d9-a46fe96899ff button.colab-df-convert');\n",
              "        buttonEl.style.display =\n",
              "          google.colab.kernel.accessAllowed ? 'block' : 'none';\n",
              "\n",
              "        async function convertToInteractive(key) {\n",
              "          const element = document.querySelector('#df-cfd1c62f-5ace-47a9-b8d9-a46fe96899ff');\n",
              "          const dataTable =\n",
              "            await google.colab.kernel.invokeFunction('convertToInteractive',\n",
              "                                                     [key], {});\n",
              "          if (!dataTable) return;\n",
              "\n",
              "          const docLinkHtml = 'Like what you see? Visit the ' +\n",
              "            '<a target=\"_blank\" href=https://colab.research.google.com/notebooks/data_table.ipynb>data table notebook</a>'\n",
              "            + ' to learn more about interactive tables.';\n",
              "          element.innerHTML = '';\n",
              "          dataTable['output_type'] = 'display_data';\n",
              "          await google.colab.output.renderOutput(dataTable, element);\n",
              "          const docLink = document.createElement('div');\n",
              "          docLink.innerHTML = docLinkHtml;\n",
              "          element.appendChild(docLink);\n",
              "        }\n",
              "      </script>\n",
              "    </div>\n",
              "  </div>\n",
              "  "
            ]
          },
          "metadata": {}
        },
        {
          "output_type": "stream",
          "name": "stdout",
          "text": [
            "\n",
            "\n",
            "\n",
            "\n",
            "\u001b[1mBinary Linear Programming\u001b[0m\n"
          ]
        },
        {
          "output_type": "display_data",
          "data": {
            "text/plain": [
              "                           Iteration 25              Iteration 50  \\\n",
              "                                   Loss Time(second)         Loss   \n",
              "Discrete Parameter Shift       2.82e+05        39.29     1.89e+05   \n",
              "Discrete Finite Difference     2.82e+05        38.03     1.89e+05   \n",
              "Discrete QNG                   2.83e+05        44.81     1.91e+05   \n",
              "Discrete Newton Gradient       6.71e+05        59.21     6.28e+05   \n",
              "\n",
              "                                        Iteration 75               \\\n",
              "                           Time(second)         Loss Time(second)   \n",
              "Discrete Parameter Shift          76.80     1.83e+05       114.49   \n",
              "Discrete Finite Difference        75.50     1.83e+05       112.11   \n",
              "Discrete QNG                      87.14     1.83e+05       129.10   \n",
              "Discrete Newton Gradient         116.59     6.08e+05       173.60   \n",
              "\n",
              "                           Iteration 100               \n",
              "                                    Loss Time(second)  \n",
              "Discrete Parameter Shift        1.83e+05       152.40  \n",
              "Discrete Finite Difference      1.83e+05       148.64  \n",
              "Discrete QNG                    1.83e+05       171.73  \n",
              "Discrete Newton Gradient        6.18e+05       230.99  "
            ],
            "text/html": [
              "\n",
              "  <div id=\"df-8c78b9e6-65a6-4402-8e5d-d10aaa28eb28\">\n",
              "    <div class=\"colab-df-container\">\n",
              "      <div>\n",
              "<style scoped>\n",
              "    .dataframe tbody tr th:only-of-type {\n",
              "        vertical-align: middle;\n",
              "    }\n",
              "\n",
              "    .dataframe tbody tr th {\n",
              "        vertical-align: top;\n",
              "    }\n",
              "\n",
              "    .dataframe thead tr th {\n",
              "        text-align: left;\n",
              "    }\n",
              "</style>\n",
              "<table border=\"1\" class=\"dataframe\">\n",
              "  <thead>\n",
              "    <tr>\n",
              "      <th></th>\n",
              "      <th colspan=\"2\" halign=\"left\">Iteration 25</th>\n",
              "      <th colspan=\"2\" halign=\"left\">Iteration 50</th>\n",
              "      <th colspan=\"2\" halign=\"left\">Iteration 75</th>\n",
              "      <th colspan=\"2\" halign=\"left\">Iteration 100</th>\n",
              "    </tr>\n",
              "    <tr>\n",
              "      <th></th>\n",
              "      <th>Loss</th>\n",
              "      <th>Time(second)</th>\n",
              "      <th>Loss</th>\n",
              "      <th>Time(second)</th>\n",
              "      <th>Loss</th>\n",
              "      <th>Time(second)</th>\n",
              "      <th>Loss</th>\n",
              "      <th>Time(second)</th>\n",
              "    </tr>\n",
              "  </thead>\n",
              "  <tbody>\n",
              "    <tr>\n",
              "      <th>Discrete Parameter Shift</th>\n",
              "      <td>2.82e+05</td>\n",
              "      <td>39.29</td>\n",
              "      <td>1.89e+05</td>\n",
              "      <td>76.80</td>\n",
              "      <td>1.83e+05</td>\n",
              "      <td>114.49</td>\n",
              "      <td>1.83e+05</td>\n",
              "      <td>152.40</td>\n",
              "    </tr>\n",
              "    <tr>\n",
              "      <th>Discrete Finite Difference</th>\n",
              "      <td>2.82e+05</td>\n",
              "      <td>38.03</td>\n",
              "      <td>1.89e+05</td>\n",
              "      <td>75.50</td>\n",
              "      <td>1.83e+05</td>\n",
              "      <td>112.11</td>\n",
              "      <td>1.83e+05</td>\n",
              "      <td>148.64</td>\n",
              "    </tr>\n",
              "    <tr>\n",
              "      <th>Discrete QNG</th>\n",
              "      <td>2.83e+05</td>\n",
              "      <td>44.81</td>\n",
              "      <td>1.91e+05</td>\n",
              "      <td>87.14</td>\n",
              "      <td>1.83e+05</td>\n",
              "      <td>129.10</td>\n",
              "      <td>1.83e+05</td>\n",
              "      <td>171.73</td>\n",
              "    </tr>\n",
              "    <tr>\n",
              "      <th>Discrete Newton Gradient</th>\n",
              "      <td>6.71e+05</td>\n",
              "      <td>59.21</td>\n",
              "      <td>6.28e+05</td>\n",
              "      <td>116.59</td>\n",
              "      <td>6.08e+05</td>\n",
              "      <td>173.60</td>\n",
              "      <td>6.18e+05</td>\n",
              "      <td>230.99</td>\n",
              "    </tr>\n",
              "  </tbody>\n",
              "</table>\n",
              "</div>\n",
              "      <button class=\"colab-df-convert\" onclick=\"convertToInteractive('df-8c78b9e6-65a6-4402-8e5d-d10aaa28eb28')\"\n",
              "              title=\"Convert this dataframe to an interactive table.\"\n",
              "              style=\"display:none;\">\n",
              "        \n",
              "  <svg xmlns=\"http://www.w3.org/2000/svg\" height=\"24px\"viewBox=\"0 0 24 24\"\n",
              "       width=\"24px\">\n",
              "    <path d=\"M0 0h24v24H0V0z\" fill=\"none\"/>\n",
              "    <path d=\"M18.56 5.44l.94 2.06.94-2.06 2.06-.94-2.06-.94-.94-2.06-.94 2.06-2.06.94zm-11 1L8.5 8.5l.94-2.06 2.06-.94-2.06-.94L8.5 2.5l-.94 2.06-2.06.94zm10 10l.94 2.06.94-2.06 2.06-.94-2.06-.94-.94-2.06-.94 2.06-2.06.94z\"/><path d=\"M17.41 7.96l-1.37-1.37c-.4-.4-.92-.59-1.43-.59-.52 0-1.04.2-1.43.59L10.3 9.45l-7.72 7.72c-.78.78-.78 2.05 0 2.83L4 21.41c.39.39.9.59 1.41.59.51 0 1.02-.2 1.41-.59l7.78-7.78 2.81-2.81c.8-.78.8-2.07 0-2.86zM5.41 20L4 18.59l7.72-7.72 1.47 1.35L5.41 20z\"/>\n",
              "  </svg>\n",
              "      </button>\n",
              "      \n",
              "  <style>\n",
              "    .colab-df-container {\n",
              "      display:flex;\n",
              "      flex-wrap:wrap;\n",
              "      gap: 12px;\n",
              "    }\n",
              "\n",
              "    .colab-df-convert {\n",
              "      background-color: #E8F0FE;\n",
              "      border: none;\n",
              "      border-radius: 50%;\n",
              "      cursor: pointer;\n",
              "      display: none;\n",
              "      fill: #1967D2;\n",
              "      height: 32px;\n",
              "      padding: 0 0 0 0;\n",
              "      width: 32px;\n",
              "    }\n",
              "\n",
              "    .colab-df-convert:hover {\n",
              "      background-color: #E2EBFA;\n",
              "      box-shadow: 0px 1px 2px rgba(60, 64, 67, 0.3), 0px 1px 3px 1px rgba(60, 64, 67, 0.15);\n",
              "      fill: #174EA6;\n",
              "    }\n",
              "\n",
              "    [theme=dark] .colab-df-convert {\n",
              "      background-color: #3B4455;\n",
              "      fill: #D2E3FC;\n",
              "    }\n",
              "\n",
              "    [theme=dark] .colab-df-convert:hover {\n",
              "      background-color: #434B5C;\n",
              "      box-shadow: 0px 1px 3px 1px rgba(0, 0, 0, 0.15);\n",
              "      filter: drop-shadow(0px 1px 2px rgba(0, 0, 0, 0.3));\n",
              "      fill: #FFFFFF;\n",
              "    }\n",
              "  </style>\n",
              "\n",
              "      <script>\n",
              "        const buttonEl =\n",
              "          document.querySelector('#df-8c78b9e6-65a6-4402-8e5d-d10aaa28eb28 button.colab-df-convert');\n",
              "        buttonEl.style.display =\n",
              "          google.colab.kernel.accessAllowed ? 'block' : 'none';\n",
              "\n",
              "        async function convertToInteractive(key) {\n",
              "          const element = document.querySelector('#df-8c78b9e6-65a6-4402-8e5d-d10aaa28eb28');\n",
              "          const dataTable =\n",
              "            await google.colab.kernel.invokeFunction('convertToInteractive',\n",
              "                                                     [key], {});\n",
              "          if (!dataTable) return;\n",
              "\n",
              "          const docLinkHtml = 'Like what you see? Visit the ' +\n",
              "            '<a target=\"_blank\" href=https://colab.research.google.com/notebooks/data_table.ipynb>data table notebook</a>'\n",
              "            + ' to learn more about interactive tables.';\n",
              "          element.innerHTML = '';\n",
              "          dataTable['output_type'] = 'display_data';\n",
              "          await google.colab.output.renderOutput(dataTable, element);\n",
              "          const docLink = document.createElement('div');\n",
              "          docLink.innerHTML = docLinkHtml;\n",
              "          element.appendChild(docLink);\n",
              "        }\n",
              "      </script>\n",
              "    </div>\n",
              "  </div>\n",
              "  "
            ]
          },
          "metadata": {}
        },
        {
          "output_type": "stream",
          "name": "stdout",
          "text": [
            "\n",
            "\n",
            "\n",
            "\n",
            "\u001b[1mKnapsack\u001b[0m\n"
          ]
        },
        {
          "output_type": "display_data",
          "data": {
            "text/plain": [
              "                           Iteration 25              Iteration 50  \\\n",
              "                                   Loss Time(second)         Loss   \n",
              "Discrete Parameter Shift       2.21e+00        41.57    -2.76e+00   \n",
              "Discrete Finite Difference     2.21e+00        41.00    -2.76e+00   \n",
              "Discrete QNG                   2.61e+00        51.33    -2.64e+00   \n",
              "Discrete Newton Gradient       2.75e+01        63.17     2.75e+01   \n",
              "\n",
              "                                        Iteration 75               \\\n",
              "                           Time(second)         Loss Time(second)   \n",
              "Discrete Parameter Shift          81.19    -3.00e+00       120.64   \n",
              "Discrete Finite Difference        80.72    -3.00e+00       120.00   \n",
              "Discrete QNG                      95.04    -3.00e+00       139.01   \n",
              "Discrete Newton Gradient         123.92     2.73e+01       184.78   \n",
              "\n",
              "                           Iteration 100               \n",
              "                                    Loss Time(second)  \n",
              "Discrete Parameter Shift       -3.00e+00       160.34  \n",
              "Discrete Finite Difference     -3.00e+00       161.91  \n",
              "Discrete QNG                   -3.00e+00       182.50  \n",
              "Discrete Newton Gradient        2.65e+01       245.93  "
            ],
            "text/html": [
              "\n",
              "  <div id=\"df-b3f6b6cc-f709-4a32-96f1-a4fdb0743c60\">\n",
              "    <div class=\"colab-df-container\">\n",
              "      <div>\n",
              "<style scoped>\n",
              "    .dataframe tbody tr th:only-of-type {\n",
              "        vertical-align: middle;\n",
              "    }\n",
              "\n",
              "    .dataframe tbody tr th {\n",
              "        vertical-align: top;\n",
              "    }\n",
              "\n",
              "    .dataframe thead tr th {\n",
              "        text-align: left;\n",
              "    }\n",
              "</style>\n",
              "<table border=\"1\" class=\"dataframe\">\n",
              "  <thead>\n",
              "    <tr>\n",
              "      <th></th>\n",
              "      <th colspan=\"2\" halign=\"left\">Iteration 25</th>\n",
              "      <th colspan=\"2\" halign=\"left\">Iteration 50</th>\n",
              "      <th colspan=\"2\" halign=\"left\">Iteration 75</th>\n",
              "      <th colspan=\"2\" halign=\"left\">Iteration 100</th>\n",
              "    </tr>\n",
              "    <tr>\n",
              "      <th></th>\n",
              "      <th>Loss</th>\n",
              "      <th>Time(second)</th>\n",
              "      <th>Loss</th>\n",
              "      <th>Time(second)</th>\n",
              "      <th>Loss</th>\n",
              "      <th>Time(second)</th>\n",
              "      <th>Loss</th>\n",
              "      <th>Time(second)</th>\n",
              "    </tr>\n",
              "  </thead>\n",
              "  <tbody>\n",
              "    <tr>\n",
              "      <th>Discrete Parameter Shift</th>\n",
              "      <td>2.21e+00</td>\n",
              "      <td>41.57</td>\n",
              "      <td>-2.76e+00</td>\n",
              "      <td>81.19</td>\n",
              "      <td>-3.00e+00</td>\n",
              "      <td>120.64</td>\n",
              "      <td>-3.00e+00</td>\n",
              "      <td>160.34</td>\n",
              "    </tr>\n",
              "    <tr>\n",
              "      <th>Discrete Finite Difference</th>\n",
              "      <td>2.21e+00</td>\n",
              "      <td>41.00</td>\n",
              "      <td>-2.76e+00</td>\n",
              "      <td>80.72</td>\n",
              "      <td>-3.00e+00</td>\n",
              "      <td>120.00</td>\n",
              "      <td>-3.00e+00</td>\n",
              "      <td>161.91</td>\n",
              "    </tr>\n",
              "    <tr>\n",
              "      <th>Discrete QNG</th>\n",
              "      <td>2.61e+00</td>\n",
              "      <td>51.33</td>\n",
              "      <td>-2.64e+00</td>\n",
              "      <td>95.04</td>\n",
              "      <td>-3.00e+00</td>\n",
              "      <td>139.01</td>\n",
              "      <td>-3.00e+00</td>\n",
              "      <td>182.50</td>\n",
              "    </tr>\n",
              "    <tr>\n",
              "      <th>Discrete Newton Gradient</th>\n",
              "      <td>2.75e+01</td>\n",
              "      <td>63.17</td>\n",
              "      <td>2.75e+01</td>\n",
              "      <td>123.92</td>\n",
              "      <td>2.73e+01</td>\n",
              "      <td>184.78</td>\n",
              "      <td>2.65e+01</td>\n",
              "      <td>245.93</td>\n",
              "    </tr>\n",
              "  </tbody>\n",
              "</table>\n",
              "</div>\n",
              "      <button class=\"colab-df-convert\" onclick=\"convertToInteractive('df-b3f6b6cc-f709-4a32-96f1-a4fdb0743c60')\"\n",
              "              title=\"Convert this dataframe to an interactive table.\"\n",
              "              style=\"display:none;\">\n",
              "        \n",
              "  <svg xmlns=\"http://www.w3.org/2000/svg\" height=\"24px\"viewBox=\"0 0 24 24\"\n",
              "       width=\"24px\">\n",
              "    <path d=\"M0 0h24v24H0V0z\" fill=\"none\"/>\n",
              "    <path d=\"M18.56 5.44l.94 2.06.94-2.06 2.06-.94-2.06-.94-.94-2.06-.94 2.06-2.06.94zm-11 1L8.5 8.5l.94-2.06 2.06-.94-2.06-.94L8.5 2.5l-.94 2.06-2.06.94zm10 10l.94 2.06.94-2.06 2.06-.94-2.06-.94-.94-2.06-.94 2.06-2.06.94z\"/><path d=\"M17.41 7.96l-1.37-1.37c-.4-.4-.92-.59-1.43-.59-.52 0-1.04.2-1.43.59L10.3 9.45l-7.72 7.72c-.78.78-.78 2.05 0 2.83L4 21.41c.39.39.9.59 1.41.59.51 0 1.02-.2 1.41-.59l7.78-7.78 2.81-2.81c.8-.78.8-2.07 0-2.86zM5.41 20L4 18.59l7.72-7.72 1.47 1.35L5.41 20z\"/>\n",
              "  </svg>\n",
              "      </button>\n",
              "      \n",
              "  <style>\n",
              "    .colab-df-container {\n",
              "      display:flex;\n",
              "      flex-wrap:wrap;\n",
              "      gap: 12px;\n",
              "    }\n",
              "\n",
              "    .colab-df-convert {\n",
              "      background-color: #E8F0FE;\n",
              "      border: none;\n",
              "      border-radius: 50%;\n",
              "      cursor: pointer;\n",
              "      display: none;\n",
              "      fill: #1967D2;\n",
              "      height: 32px;\n",
              "      padding: 0 0 0 0;\n",
              "      width: 32px;\n",
              "    }\n",
              "\n",
              "    .colab-df-convert:hover {\n",
              "      background-color: #E2EBFA;\n",
              "      box-shadow: 0px 1px 2px rgba(60, 64, 67, 0.3), 0px 1px 3px 1px rgba(60, 64, 67, 0.15);\n",
              "      fill: #174EA6;\n",
              "    }\n",
              "\n",
              "    [theme=dark] .colab-df-convert {\n",
              "      background-color: #3B4455;\n",
              "      fill: #D2E3FC;\n",
              "    }\n",
              "\n",
              "    [theme=dark] .colab-df-convert:hover {\n",
              "      background-color: #434B5C;\n",
              "      box-shadow: 0px 1px 3px 1px rgba(0, 0, 0, 0.15);\n",
              "      filter: drop-shadow(0px 1px 2px rgba(0, 0, 0, 0.3));\n",
              "      fill: #FFFFFF;\n",
              "    }\n",
              "  </style>\n",
              "\n",
              "      <script>\n",
              "        const buttonEl =\n",
              "          document.querySelector('#df-b3f6b6cc-f709-4a32-96f1-a4fdb0743c60 button.colab-df-convert');\n",
              "        buttonEl.style.display =\n",
              "          google.colab.kernel.accessAllowed ? 'block' : 'none';\n",
              "\n",
              "        async function convertToInteractive(key) {\n",
              "          const element = document.querySelector('#df-b3f6b6cc-f709-4a32-96f1-a4fdb0743c60');\n",
              "          const dataTable =\n",
              "            await google.colab.kernel.invokeFunction('convertToInteractive',\n",
              "                                                     [key], {});\n",
              "          if (!dataTable) return;\n",
              "\n",
              "          const docLinkHtml = 'Like what you see? Visit the ' +\n",
              "            '<a target=\"_blank\" href=https://colab.research.google.com/notebooks/data_table.ipynb>data table notebook</a>'\n",
              "            + ' to learn more about interactive tables.';\n",
              "          element.innerHTML = '';\n",
              "          dataTable['output_type'] = 'display_data';\n",
              "          await google.colab.output.renderOutput(dataTable, element);\n",
              "          const docLink = document.createElement('div');\n",
              "          docLink.innerHTML = docLinkHtml;\n",
              "          element.appendChild(docLink);\n",
              "        }\n",
              "      </script>\n",
              "    </div>\n",
              "  </div>\n",
              "  "
            ]
          },
          "metadata": {}
        },
        {
          "output_type": "stream",
          "name": "stdout",
          "text": [
            "\n",
            "\n",
            "\n",
            "\n"
          ]
        }
      ]
    },
    {
      "cell_type": "markdown",
      "source": [
        "## Fixed epochs"
      ],
      "metadata": {
        "id": "yvG-o_OUTYm3"
      }
    },
    {
      "cell_type": "code",
      "source": [
        "#@title Loss Comparison \n",
        "#@markdown Fixed epochs (10 epochs).\n",
        "from plotly.subplots import make_subplots\n",
        "\n",
        "x = [step*3 for step in steps]\n",
        "row = 2\n",
        "col = 2\n",
        "fig = make_subplots(rows=row, cols=col, subplot_titles=(\"Max-Cut\",\"Clique\",\"Binary Linear Programming\", \"Knapsack\"))\n",
        "show = True\n",
        "for i in range(row):\n",
        "  for j in range(col):\n",
        "    problemn = i*col+j\n",
        "    if problemn>0:\n",
        "      show = False\n",
        "    dv = pd.DataFrame({\"#Param Gates\":x, \"Loss\":pslc[problemn]})\n",
        "    dv_fd = pd.DataFrame({\"#Param Gates\":x, \"Loss\":fdlc[problemn]})\n",
        "    # dv_lcu = pd.DataFrame({\"#Param Gates\":range(len(loss_plot_lcu)), \"Loss\":loss_plot_lcu})\n",
        "    dv_qng = pd.DataFrame({\"#Param Gates\":x, \"Loss\":qnglc[problemn]})\n",
        "    dv_newton = pd.DataFrame({\"#Param Gates\":x, \"Loss\":qnwlc[problemn]})\n",
        "\n",
        "    # dv_cls = pd.DataFrame({\"#Param Gates\":range(len(loss_plot_classical)), \"Loss\":loss_plot_classical})\n",
        "\n",
        "    fig.add_trace(go.Scatter(x=dv[\"#Param Gates\"], y=dv[\"Loss\"], name=\"Discrete Parameter Shift\", line = dict(width=2), line_color='red', showlegend = show), row=i+1, col=j+1)\n",
        "    fig.add_trace(go.Scatter(x=dv_fd[\"#Param Gates\"], y=dv_fd[\"Loss\"], mode=\"lines\", name=\"Discrete Finite Difference\", line = dict(width=2), line_color='green', showlegend = show), row=i+1, col=j+1)\n",
        "    # fig.add_trace(go.Scatter(x=dv_lcu[\"#Param Gates\"], y=dv_lcu[\"Loss\"], mode=\"lines\", name=\"Discrete LCU\", line = dict(width=2, dash='dash')))\n",
        "    fig.add_trace(go.Scatter(x=dv_qng[\"#Param Gates\"], y=dv_qng[\"Loss\"], mode=\"lines\", name=\"Discrete QNG\", line = dict(width=2), line_color='blue', showlegend = show), row=i+1, col=j+1)\n",
        "    fig.add_trace(go.Scatter(x=dv_newton[\"#Param Gates\"], y=dv_newton[\"Loss\"], mode=\"lines\", name=\"Discrete Newton Gradient\", line = dict(width=2), line_color='brown', showlegend = show), row=i+1, col=j+1)\n",
        "\n",
        "    # fig.add_trace(go.Scatter(x=dv_cls[\"#Param Gates\"], y=dv_cls[\"Loss\"], mode=\"lines\", name=\"Classical\"))\n",
        "\n",
        "\n",
        "fig.update_layout(title=\"Loss Comparison  <br><sup>Fixed epochs (10 epochs).</sup>\",\n",
        "                  xaxis_title=\"The Number of parameterized gate\",\n",
        "                  yaxis_title=\"Loss\", autosize=False,\n",
        "                  width=1000,\n",
        "                  height=700)\n",
        "fig.show()"
      ],
      "metadata": {
        "colab": {
          "base_uri": "https://localhost:8080/",
          "height": 717
        },
        "cellView": "form",
        "id": "j4ETsKqKq4Yf",
        "outputId": "88c1ec46-cb1e-4cbf-dd7c-2c39b270ae8d"
      },
      "execution_count": 204,
      "outputs": [
        {
          "output_type": "display_data",
          "data": {
            "text/html": [
              "<html>\n",
              "<head><meta charset=\"utf-8\" /></head>\n",
              "<body>\n",
              "    <div>            <script src=\"https://cdnjs.cloudflare.com/ajax/libs/mathjax/2.7.5/MathJax.js?config=TeX-AMS-MML_SVG\"></script><script type=\"text/javascript\">if (window.MathJax) {MathJax.Hub.Config({SVG: {font: \"STIX-Web\"}});}</script>                <script type=\"text/javascript\">window.PlotlyConfig = {MathJaxConfig: 'local'};</script>\n",
              "        <script src=\"https://cdn.plot.ly/plotly-2.8.3.min.js\"></script>                <div id=\"2bac3d5e-d2a9-4d1c-bbcb-e318bd39dbf0\" class=\"plotly-graph-div\" style=\"height:700px; width:1000px;\"></div>            <script type=\"text/javascript\">                                    window.PLOTLYENV=window.PLOTLYENV || {};                                    if (document.getElementById(\"2bac3d5e-d2a9-4d1c-bbcb-e318bd39dbf0\")) {                    Plotly.newPlot(                        \"2bac3d5e-d2a9-4d1c-bbcb-e318bd39dbf0\",                        [{\"line\":{\"color\":\"red\",\"width\":2},\"name\":\"Discrete Parameter Shift\",\"showlegend\":true,\"x\":[6,12,18,24,30],\"y\":[-2.9291643284227327,-3.539301048416827,-3.828231709496044,-3.7878372060953778,-3.932990955370388],\"type\":\"scatter\",\"xaxis\":\"x\",\"yaxis\":\"y\"},{\"line\":{\"color\":\"green\",\"width\":2},\"mode\":\"lines\",\"name\":\"Discrete Finite Difference\",\"showlegend\":true,\"x\":[6,12,18,24,30],\"y\":[-2.929164328418348,-3.5393010462703387,-3.8282317113531947,-3.7878373675114476,-3.9329909558659777],\"type\":\"scatter\",\"xaxis\":\"x\",\"yaxis\":\"y\"},{\"line\":{\"color\":\"blue\",\"width\":2},\"mode\":\"lines\",\"name\":\"Discrete QNG\",\"showlegend\":true,\"x\":[6,12,18,24,30],\"y\":[-2.9415892967266934,-3.52430019208938,-3.8038253207023596,-3.750663342233009,-3.942992160769239],\"type\":\"scatter\",\"xaxis\":\"x\",\"yaxis\":\"y\"},{\"line\":{\"color\":\"brown\",\"width\":2},\"mode\":\"lines\",\"name\":\"Discrete Newton Gradient\",\"showlegend\":true,\"x\":[6,12,18,24,30],\"y\":[-1.7185047353632599,-1.7342941786894297,-2.333139243060275,-2.481596799897983,-2.6219211898450907],\"type\":\"scatter\",\"xaxis\":\"x\",\"yaxis\":\"y\"},{\"line\":{\"color\":\"red\",\"width\":2},\"name\":\"Discrete Parameter Shift\",\"showlegend\":false,\"x\":[6,12,18,24,30],\"y\":[-1.876863858222546,-2.407202191774318,-2.635853393624218,-2.7892539116655244,-2.6502520486206276],\"type\":\"scatter\",\"xaxis\":\"x2\",\"yaxis\":\"y2\"},{\"line\":{\"color\":\"green\",\"width\":2},\"mode\":\"lines\",\"name\":\"Discrete Finite Difference\",\"showlegend\":false,\"x\":[6,12,18,24,30],\"y\":[-1.876863835539945,-2.4072021915045503,-2.635853393601198,-2.789253863591263,-2.6502520488040204],\"type\":\"scatter\",\"xaxis\":\"x2\",\"yaxis\":\"y2\"},{\"line\":{\"color\":\"blue\",\"width\":2},\"mode\":\"lines\",\"name\":\"Discrete QNG\",\"showlegend\":false,\"x\":[6,12,18,24,30],\"y\":[-1.8979753403406638,-2.4071988030451172,-2.644206260057017,-2.8801964928913115,-2.6526943095991267],\"type\":\"scatter\",\"xaxis\":\"x2\",\"yaxis\":\"y2\"},{\"line\":{\"color\":\"brown\",\"width\":2},\"mode\":\"lines\",\"name\":\"Discrete Newton Gradient\",\"showlegend\":false,\"x\":[6,12,18,24,30],\"y\":[-0.20022846600967303,-0.5330952540365617,0.10987073962022659,1.0211075914059011,1.1784921813457463],\"type\":\"scatter\",\"xaxis\":\"x2\",\"yaxis\":\"y2\"},{\"line\":{\"color\":\"red\",\"width\":2},\"name\":\"Discrete Parameter Shift\",\"showlegend\":false,\"x\":[6,12,18,24,30],\"y\":[314801.59237132076,285518.8215265906,233156.36877137632,194202.64663859428,217817.13097259385],\"type\":\"scatter\",\"xaxis\":\"x3\",\"yaxis\":\"y3\"},{\"line\":{\"color\":\"green\",\"width\":2},\"mode\":\"lines\",\"name\":\"Discrete Finite Difference\",\"showlegend\":false,\"x\":[6,12,18,24,30],\"y\":[314801.59237132064,285518.82152658893,233156.36877137795,194202.64663859486,217817.13097259722],\"type\":\"scatter\",\"xaxis\":\"x3\",\"yaxis\":\"y3\"},{\"line\":{\"color\":\"blue\",\"width\":2},\"mode\":\"lines\",\"name\":\"Discrete QNG\",\"showlegend\":false,\"x\":[6,12,18,24,30],\"y\":[310609.1497083412,286893.91628092993,241174.27440795535,190318.3944714202,218464.63893786777],\"type\":\"scatter\",\"xaxis\":\"x3\",\"yaxis\":\"y3\"},{\"line\":{\"color\":\"brown\",\"width\":2},\"mode\":\"lines\",\"name\":\"Discrete Newton Gradient\",\"showlegend\":false,\"x\":[6,12,18,24,30],\"y\":[599322.0099147893,570642.8368091305,542232.8427625938,404657.2067161903,444411.5845446605],\"type\":\"scatter\",\"xaxis\":\"x3\",\"yaxis\":\"y3\"},{\"line\":{\"color\":\"red\",\"width\":2},\"name\":\"Discrete Parameter Shift\",\"showlegend\":false,\"x\":[6,12,18,24,30],\"y\":[2.24360521907084,-0.2069899786378535,0.1879486292593775,-0.9966831801412717,-1.7792702882944589],\"type\":\"scatter\",\"xaxis\":\"x4\",\"yaxis\":\"y4\"},{\"line\":{\"color\":\"green\",\"width\":2},\"mode\":\"lines\",\"name\":\"Discrete Finite Difference\",\"showlegend\":false,\"x\":[6,12,18,24,30],\"y\":[2.243605219069817,-0.20698997864233526,0.18794863023108377,-0.9966831985632361,-1.7792702888604843],\"type\":\"scatter\",\"xaxis\":\"x4\",\"yaxis\":\"y4\"},{\"line\":{\"color\":\"blue\",\"width\":2},\"mode\":\"lines\",\"name\":\"Discrete QNG\",\"showlegend\":false,\"x\":[6,12,18,24,30],\"y\":[2.0759704552251446,-0.11421879380463729,-0.4352049510362228,-0.9394326315359951,-1.762633259409787],\"type\":\"scatter\",\"xaxis\":\"x4\",\"yaxis\":\"y4\"},{\"line\":{\"color\":\"brown\",\"width\":2},\"mode\":\"lines\",\"name\":\"Discrete Newton Gradient\",\"showlegend\":false,\"x\":[6,12,18,24,30],\"y\":[15.477123183448182,15.78756443579076,11.78650154463329,4.674346769449535,6.565448063453342],\"type\":\"scatter\",\"xaxis\":\"x4\",\"yaxis\":\"y4\"}],                        {\"template\":{\"data\":{\"bar\":[{\"error_x\":{\"color\":\"#2a3f5f\"},\"error_y\":{\"color\":\"#2a3f5f\"},\"marker\":{\"line\":{\"color\":\"#E5ECF6\",\"width\":0.5},\"pattern\":{\"fillmode\":\"overlay\",\"size\":10,\"solidity\":0.2}},\"type\":\"bar\"}],\"barpolar\":[{\"marker\":{\"line\":{\"color\":\"#E5ECF6\",\"width\":0.5},\"pattern\":{\"fillmode\":\"overlay\",\"size\":10,\"solidity\":0.2}},\"type\":\"barpolar\"}],\"carpet\":[{\"aaxis\":{\"endlinecolor\":\"#2a3f5f\",\"gridcolor\":\"white\",\"linecolor\":\"white\",\"minorgridcolor\":\"white\",\"startlinecolor\":\"#2a3f5f\"},\"baxis\":{\"endlinecolor\":\"#2a3f5f\",\"gridcolor\":\"white\",\"linecolor\":\"white\",\"minorgridcolor\":\"white\",\"startlinecolor\":\"#2a3f5f\"},\"type\":\"carpet\"}],\"choropleth\":[{\"colorbar\":{\"outlinewidth\":0,\"ticks\":\"\"},\"type\":\"choropleth\"}],\"contour\":[{\"colorbar\":{\"outlinewidth\":0,\"ticks\":\"\"},\"colorscale\":[[0.0,\"#0d0887\"],[0.1111111111111111,\"#46039f\"],[0.2222222222222222,\"#7201a8\"],[0.3333333333333333,\"#9c179e\"],[0.4444444444444444,\"#bd3786\"],[0.5555555555555556,\"#d8576b\"],[0.6666666666666666,\"#ed7953\"],[0.7777777777777778,\"#fb9f3a\"],[0.8888888888888888,\"#fdca26\"],[1.0,\"#f0f921\"]],\"type\":\"contour\"}],\"contourcarpet\":[{\"colorbar\":{\"outlinewidth\":0,\"ticks\":\"\"},\"type\":\"contourcarpet\"}],\"heatmap\":[{\"colorbar\":{\"outlinewidth\":0,\"ticks\":\"\"},\"colorscale\":[[0.0,\"#0d0887\"],[0.1111111111111111,\"#46039f\"],[0.2222222222222222,\"#7201a8\"],[0.3333333333333333,\"#9c179e\"],[0.4444444444444444,\"#bd3786\"],[0.5555555555555556,\"#d8576b\"],[0.6666666666666666,\"#ed7953\"],[0.7777777777777778,\"#fb9f3a\"],[0.8888888888888888,\"#fdca26\"],[1.0,\"#f0f921\"]],\"type\":\"heatmap\"}],\"heatmapgl\":[{\"colorbar\":{\"outlinewidth\":0,\"ticks\":\"\"},\"colorscale\":[[0.0,\"#0d0887\"],[0.1111111111111111,\"#46039f\"],[0.2222222222222222,\"#7201a8\"],[0.3333333333333333,\"#9c179e\"],[0.4444444444444444,\"#bd3786\"],[0.5555555555555556,\"#d8576b\"],[0.6666666666666666,\"#ed7953\"],[0.7777777777777778,\"#fb9f3a\"],[0.8888888888888888,\"#fdca26\"],[1.0,\"#f0f921\"]],\"type\":\"heatmapgl\"}],\"histogram\":[{\"marker\":{\"pattern\":{\"fillmode\":\"overlay\",\"size\":10,\"solidity\":0.2}},\"type\":\"histogram\"}],\"histogram2d\":[{\"colorbar\":{\"outlinewidth\":0,\"ticks\":\"\"},\"colorscale\":[[0.0,\"#0d0887\"],[0.1111111111111111,\"#46039f\"],[0.2222222222222222,\"#7201a8\"],[0.3333333333333333,\"#9c179e\"],[0.4444444444444444,\"#bd3786\"],[0.5555555555555556,\"#d8576b\"],[0.6666666666666666,\"#ed7953\"],[0.7777777777777778,\"#fb9f3a\"],[0.8888888888888888,\"#fdca26\"],[1.0,\"#f0f921\"]],\"type\":\"histogram2d\"}],\"histogram2dcontour\":[{\"colorbar\":{\"outlinewidth\":0,\"ticks\":\"\"},\"colorscale\":[[0.0,\"#0d0887\"],[0.1111111111111111,\"#46039f\"],[0.2222222222222222,\"#7201a8\"],[0.3333333333333333,\"#9c179e\"],[0.4444444444444444,\"#bd3786\"],[0.5555555555555556,\"#d8576b\"],[0.6666666666666666,\"#ed7953\"],[0.7777777777777778,\"#fb9f3a\"],[0.8888888888888888,\"#fdca26\"],[1.0,\"#f0f921\"]],\"type\":\"histogram2dcontour\"}],\"mesh3d\":[{\"colorbar\":{\"outlinewidth\":0,\"ticks\":\"\"},\"type\":\"mesh3d\"}],\"parcoords\":[{\"line\":{\"colorbar\":{\"outlinewidth\":0,\"ticks\":\"\"}},\"type\":\"parcoords\"}],\"pie\":[{\"automargin\":true,\"type\":\"pie\"}],\"scatter\":[{\"marker\":{\"colorbar\":{\"outlinewidth\":0,\"ticks\":\"\"}},\"type\":\"scatter\"}],\"scatter3d\":[{\"line\":{\"colorbar\":{\"outlinewidth\":0,\"ticks\":\"\"}},\"marker\":{\"colorbar\":{\"outlinewidth\":0,\"ticks\":\"\"}},\"type\":\"scatter3d\"}],\"scattercarpet\":[{\"marker\":{\"colorbar\":{\"outlinewidth\":0,\"ticks\":\"\"}},\"type\":\"scattercarpet\"}],\"scattergeo\":[{\"marker\":{\"colorbar\":{\"outlinewidth\":0,\"ticks\":\"\"}},\"type\":\"scattergeo\"}],\"scattergl\":[{\"marker\":{\"colorbar\":{\"outlinewidth\":0,\"ticks\":\"\"}},\"type\":\"scattergl\"}],\"scattermapbox\":[{\"marker\":{\"colorbar\":{\"outlinewidth\":0,\"ticks\":\"\"}},\"type\":\"scattermapbox\"}],\"scatterpolar\":[{\"marker\":{\"colorbar\":{\"outlinewidth\":0,\"ticks\":\"\"}},\"type\":\"scatterpolar\"}],\"scatterpolargl\":[{\"marker\":{\"colorbar\":{\"outlinewidth\":0,\"ticks\":\"\"}},\"type\":\"scatterpolargl\"}],\"scatterternary\":[{\"marker\":{\"colorbar\":{\"outlinewidth\":0,\"ticks\":\"\"}},\"type\":\"scatterternary\"}],\"surface\":[{\"colorbar\":{\"outlinewidth\":0,\"ticks\":\"\"},\"colorscale\":[[0.0,\"#0d0887\"],[0.1111111111111111,\"#46039f\"],[0.2222222222222222,\"#7201a8\"],[0.3333333333333333,\"#9c179e\"],[0.4444444444444444,\"#bd3786\"],[0.5555555555555556,\"#d8576b\"],[0.6666666666666666,\"#ed7953\"],[0.7777777777777778,\"#fb9f3a\"],[0.8888888888888888,\"#fdca26\"],[1.0,\"#f0f921\"]],\"type\":\"surface\"}],\"table\":[{\"cells\":{\"fill\":{\"color\":\"#EBF0F8\"},\"line\":{\"color\":\"white\"}},\"header\":{\"fill\":{\"color\":\"#C8D4E3\"},\"line\":{\"color\":\"white\"}},\"type\":\"table\"}]},\"layout\":{\"annotationdefaults\":{\"arrowcolor\":\"#2a3f5f\",\"arrowhead\":0,\"arrowwidth\":1},\"autotypenumbers\":\"strict\",\"coloraxis\":{\"colorbar\":{\"outlinewidth\":0,\"ticks\":\"\"}},\"colorscale\":{\"diverging\":[[0,\"#8e0152\"],[0.1,\"#c51b7d\"],[0.2,\"#de77ae\"],[0.3,\"#f1b6da\"],[0.4,\"#fde0ef\"],[0.5,\"#f7f7f7\"],[0.6,\"#e6f5d0\"],[0.7,\"#b8e186\"],[0.8,\"#7fbc41\"],[0.9,\"#4d9221\"],[1,\"#276419\"]],\"sequential\":[[0.0,\"#0d0887\"],[0.1111111111111111,\"#46039f\"],[0.2222222222222222,\"#7201a8\"],[0.3333333333333333,\"#9c179e\"],[0.4444444444444444,\"#bd3786\"],[0.5555555555555556,\"#d8576b\"],[0.6666666666666666,\"#ed7953\"],[0.7777777777777778,\"#fb9f3a\"],[0.8888888888888888,\"#fdca26\"],[1.0,\"#f0f921\"]],\"sequentialminus\":[[0.0,\"#0d0887\"],[0.1111111111111111,\"#46039f\"],[0.2222222222222222,\"#7201a8\"],[0.3333333333333333,\"#9c179e\"],[0.4444444444444444,\"#bd3786\"],[0.5555555555555556,\"#d8576b\"],[0.6666666666666666,\"#ed7953\"],[0.7777777777777778,\"#fb9f3a\"],[0.8888888888888888,\"#fdca26\"],[1.0,\"#f0f921\"]]},\"colorway\":[\"#636efa\",\"#EF553B\",\"#00cc96\",\"#ab63fa\",\"#FFA15A\",\"#19d3f3\",\"#FF6692\",\"#B6E880\",\"#FF97FF\",\"#FECB52\"],\"font\":{\"color\":\"#2a3f5f\"},\"geo\":{\"bgcolor\":\"white\",\"lakecolor\":\"white\",\"landcolor\":\"#E5ECF6\",\"showlakes\":true,\"showland\":true,\"subunitcolor\":\"white\"},\"hoverlabel\":{\"align\":\"left\"},\"hovermode\":\"closest\",\"mapbox\":{\"style\":\"light\"},\"paper_bgcolor\":\"white\",\"plot_bgcolor\":\"#E5ECF6\",\"polar\":{\"angularaxis\":{\"gridcolor\":\"white\",\"linecolor\":\"white\",\"ticks\":\"\"},\"bgcolor\":\"#E5ECF6\",\"radialaxis\":{\"gridcolor\":\"white\",\"linecolor\":\"white\",\"ticks\":\"\"}},\"scene\":{\"xaxis\":{\"backgroundcolor\":\"#E5ECF6\",\"gridcolor\":\"white\",\"gridwidth\":2,\"linecolor\":\"white\",\"showbackground\":true,\"ticks\":\"\",\"zerolinecolor\":\"white\"},\"yaxis\":{\"backgroundcolor\":\"#E5ECF6\",\"gridcolor\":\"white\",\"gridwidth\":2,\"linecolor\":\"white\",\"showbackground\":true,\"ticks\":\"\",\"zerolinecolor\":\"white\"},\"zaxis\":{\"backgroundcolor\":\"#E5ECF6\",\"gridcolor\":\"white\",\"gridwidth\":2,\"linecolor\":\"white\",\"showbackground\":true,\"ticks\":\"\",\"zerolinecolor\":\"white\"}},\"shapedefaults\":{\"line\":{\"color\":\"#2a3f5f\"}},\"ternary\":{\"aaxis\":{\"gridcolor\":\"white\",\"linecolor\":\"white\",\"ticks\":\"\"},\"baxis\":{\"gridcolor\":\"white\",\"linecolor\":\"white\",\"ticks\":\"\"},\"bgcolor\":\"#E5ECF6\",\"caxis\":{\"gridcolor\":\"white\",\"linecolor\":\"white\",\"ticks\":\"\"}},\"title\":{\"x\":0.05},\"xaxis\":{\"automargin\":true,\"gridcolor\":\"white\",\"linecolor\":\"white\",\"ticks\":\"\",\"title\":{\"standoff\":15},\"zerolinecolor\":\"white\",\"zerolinewidth\":2},\"yaxis\":{\"automargin\":true,\"gridcolor\":\"white\",\"linecolor\":\"white\",\"ticks\":\"\",\"title\":{\"standoff\":15},\"zerolinecolor\":\"white\",\"zerolinewidth\":2}}},\"xaxis\":{\"anchor\":\"y\",\"domain\":[0.0,0.45],\"title\":{\"text\":\"The Number of parameterized gate\"}},\"yaxis\":{\"anchor\":\"x\",\"domain\":[0.625,1.0],\"title\":{\"text\":\"Loss\"}},\"xaxis2\":{\"anchor\":\"y2\",\"domain\":[0.55,1.0]},\"yaxis2\":{\"anchor\":\"x2\",\"domain\":[0.625,1.0]},\"xaxis3\":{\"anchor\":\"y3\",\"domain\":[0.0,0.45]},\"yaxis3\":{\"anchor\":\"x3\",\"domain\":[0.0,0.375]},\"xaxis4\":{\"anchor\":\"y4\",\"domain\":[0.55,1.0]},\"yaxis4\":{\"anchor\":\"x4\",\"domain\":[0.0,0.375]},\"annotations\":[{\"font\":{\"size\":16},\"showarrow\":false,\"text\":\"Max-Cut\",\"x\":0.225,\"xanchor\":\"center\",\"xref\":\"paper\",\"y\":1.0,\"yanchor\":\"bottom\",\"yref\":\"paper\"},{\"font\":{\"size\":16},\"showarrow\":false,\"text\":\"Clique\",\"x\":0.775,\"xanchor\":\"center\",\"xref\":\"paper\",\"y\":1.0,\"yanchor\":\"bottom\",\"yref\":\"paper\"},{\"font\":{\"size\":16},\"showarrow\":false,\"text\":\"Binary Linear Programming\",\"x\":0.225,\"xanchor\":\"center\",\"xref\":\"paper\",\"y\":0.375,\"yanchor\":\"bottom\",\"yref\":\"paper\"},{\"font\":{\"size\":16},\"showarrow\":false,\"text\":\"Knapsack\",\"x\":0.775,\"xanchor\":\"center\",\"xref\":\"paper\",\"y\":0.375,\"yanchor\":\"bottom\",\"yref\":\"paper\"}],\"title\":{\"text\":\"Loss Comparison  <br><sup>Fixed epochs (10 epochs).</sup>\"},\"autosize\":false,\"width\":1000,\"height\":700},                        {\"responsive\": true}                    ).then(function(){\n",
              "                            \n",
              "var gd = document.getElementById('2bac3d5e-d2a9-4d1c-bbcb-e318bd39dbf0');\n",
              "var x = new MutationObserver(function (mutations, observer) {{\n",
              "        var display = window.getComputedStyle(gd).display;\n",
              "        if (!display || display === 'none') {{\n",
              "            console.log([gd, 'removed!']);\n",
              "            Plotly.purge(gd);\n",
              "            observer.disconnect();\n",
              "        }}\n",
              "}});\n",
              "\n",
              "// Listen for the removal of the full notebook cells\n",
              "var notebookContainer = gd.closest('#notebook-container');\n",
              "if (notebookContainer) {{\n",
              "    x.observe(notebookContainer, {childList: true});\n",
              "}}\n",
              "\n",
              "// Listen for the clearing of the current output cell\n",
              "var outputEl = gd.closest('.output');\n",
              "if (outputEl) {{\n",
              "    x.observe(outputEl, {childList: true});\n",
              "}}\n",
              "\n",
              "                        })                };                            </script>        </div>\n",
              "</body>\n",
              "</html>"
            ]
          },
          "metadata": {}
        }
      ]
    },
    {
      "cell_type": "code",
      "source": [
        "#@title Time Comparison\n",
        "#@markdown Fixed epochs (10 epochs).\n",
        "\n",
        "from plotly.subplots import make_subplots\n",
        "\n",
        "x = [step*3 for step in steps]\n",
        "row = 2\n",
        "col = 2\n",
        "fig = make_subplots(rows=row, cols=col, subplot_titles=(\"Max-Cut\",\"Clique\",\"Binary Linear Programming\", \"Knapsack\"))\n",
        "show = True\n",
        "for i in range(row):\n",
        "  for j in range(col):\n",
        "    problemn = i*col+j\n",
        "    if problemn>0:\n",
        "      show = False\n",
        "    dv = pd.DataFrame({\"#Param Gates\":x, \"Time\":pstc[problemn]})\n",
        "    dv_fd = pd.DataFrame({\"#Param Gates\":x, \"Time\":fdtc[problemn]})\n",
        "    # dv_lcu = pd.DataFrame({\"#Param Gates\":range(len(loss_plot_lcu)), \"Loss\":loss_plot_lcu})\n",
        "    dv_qng = pd.DataFrame({\"#Param Gates\":x, \"Time\":qngtc[problemn]})\n",
        "    dv_newton = pd.DataFrame({\"#Param Gates\":x, \"Time\":qnwtc[problemn]})\n",
        "\n",
        "    # dv_cls = pd.DataFrame({\"#Param Gates\":range(len(loss_plot_classical)), \"Loss\":loss_plot_classical})\n",
        "\n",
        "    fig.add_trace(go.Scatter(x=dv[\"#Param Gates\"], y=dv[\"Time\"], name=\"Discrete Parameter Shift\", line = dict(width=2), line_color='red', showlegend = show), row=i+1, col=j+1)\n",
        "    fig.add_trace(go.Scatter(x=dv_fd[\"#Param Gates\"], y=dv_fd[\"Time\"], mode=\"lines\", name=\"Discrete Finite Difference\", line = dict(width=2), line_color='green', showlegend = show), row=i+1, col=j+1)\n",
        "    # fig.add_trace(go.Scatter(x=dv_lcu[\"#Param Gates\"], y=dv_lcu[\"Loss\"], mode=\"lines\", name=\"Discrete LCU\", line = dict(width=2, dash='dash')))\n",
        "    fig.add_trace(go.Scatter(x=dv_qng[\"#Param Gates\"], y=dv_qng[\"Time\"], mode=\"lines\", name=\"Discrete QNG\", line = dict(width=2), line_color='blue', showlegend = show), row=i+1, col=j+1)\n",
        "    fig.add_trace(go.Scatter(x=dv_newton[\"#Param Gates\"], y=dv_newton[\"Time\"], mode=\"lines\", name=\"Discrete Newton Gradient\", line = dict(width=2), line_color='brown', showlegend = show), row=i+1, col=j+1)\n",
        "\n",
        "    # fig.add_trace(go.Scatter(x=dv_cls[\"Iteration\"], y=dv_cls[\"Loss\"], mode=\"lines\", name=\"Classical\"))\n",
        "\n",
        "\n",
        "fig.update_layout(title=\"Time Comparison  <br><sup>Fixed epochs (10 epochs).</sup>\",\n",
        "                  xaxis_title=\"The Number of parameterized gate\",\n",
        "                  yaxis_title=\"Time (Sec)\", autosize=False,\n",
        "                  width=1000,\n",
        "                  height=700)\n",
        "fig.show()"
      ],
      "metadata": {
        "colab": {
          "base_uri": "https://localhost:8080/",
          "height": 717
        },
        "cellView": "form",
        "id": "S-MBnDy8ta7l",
        "outputId": "38d612d8-200b-49f0-c963-03e0c53701db"
      },
      "execution_count": 209,
      "outputs": [
        {
          "output_type": "display_data",
          "data": {
            "text/html": [
              "<html>\n",
              "<head><meta charset=\"utf-8\" /></head>\n",
              "<body>\n",
              "    <div>            <script src=\"https://cdnjs.cloudflare.com/ajax/libs/mathjax/2.7.5/MathJax.js?config=TeX-AMS-MML_SVG\"></script><script type=\"text/javascript\">if (window.MathJax) {MathJax.Hub.Config({SVG: {font: \"STIX-Web\"}});}</script>                <script type=\"text/javascript\">window.PlotlyConfig = {MathJaxConfig: 'local'};</script>\n",
              "        <script src=\"https://cdn.plot.ly/plotly-2.8.3.min.js\"></script>                <div id=\"1bce66d2-0b7b-4cd8-8c24-f3898ced92c7\" class=\"plotly-graph-div\" style=\"height:700px; width:1000px;\"></div>            <script type=\"text/javascript\">                                    window.PLOTLYENV=window.PLOTLYENV || {};                                    if (document.getElementById(\"1bce66d2-0b7b-4cd8-8c24-f3898ced92c7\")) {                    Plotly.newPlot(                        \"1bce66d2-0b7b-4cd8-8c24-f3898ced92c7\",                        [{\"line\":{\"color\":\"red\",\"width\":2},\"name\":\"Discrete Parameter Shift\",\"showlegend\":true,\"x\":[6,12,18,24,30],\"y\":[27.01650643348694,65.06483554840088,106.16886234283447,182.80868220329285,275.33306431770325],\"type\":\"scatter\",\"xaxis\":\"x\",\"yaxis\":\"y\"},{\"line\":{\"color\":\"green\",\"width\":2},\"mode\":\"lines\",\"name\":\"Discrete Finite Difference\",\"showlegend\":true,\"x\":[6,12,18,24,30],\"y\":[16.114691257476807,51.483404874801636,108.56004166603088,185.18385243415833,274.84099197387695],\"type\":\"scatter\",\"xaxis\":\"x\",\"yaxis\":\"y\"},{\"line\":{\"color\":\"blue\",\"width\":2},\"mode\":\"lines\",\"name\":\"Discrete QNG\",\"showlegend\":true,\"x\":[6,12,18,24,30],\"y\":[17.926633834838867,57.90490651130676,122.70941185951233,211.86872267723083,321.2453830242157],\"type\":\"scatter\",\"xaxis\":\"x\",\"yaxis\":\"y\"},{\"line\":{\"color\":\"brown\",\"width\":2},\"mode\":\"lines\",\"name\":\"Discrete Newton Gradient\",\"showlegend\":true,\"x\":[6,12,18,24,30],\"y\":[24.758615732192993,81.30603837966919,174.61055374145508,297.87735772132874,454.49085783958435],\"type\":\"scatter\",\"xaxis\":\"x\",\"yaxis\":\"y\"},{\"line\":{\"color\":\"red\",\"width\":2},\"name\":\"Discrete Parameter Shift\",\"showlegend\":false,\"x\":[6,12,18,24,30],\"y\":[16.434423208236694,51.82553267478943,108.02431893348694,183.34795713424683,276.31337428092957],\"type\":\"scatter\",\"xaxis\":\"x2\",\"yaxis\":\"y2\"},{\"line\":{\"color\":\"green\",\"width\":2},\"mode\":\"lines\",\"name\":\"Discrete Finite Difference\",\"showlegend\":false,\"x\":[6,12,18,24,30],\"y\":[16.33508586883545,51.327956438064575,105.61212825775146,194.99435472488403,275.2091429233551],\"type\":\"scatter\",\"xaxis\":\"x2\",\"yaxis\":\"y2\"},{\"line\":{\"color\":\"blue\",\"width\":2},\"mode\":\"lines\",\"name\":\"Discrete QNG\",\"showlegend\":false,\"x\":[6,12,18,24,30],\"y\":[18.26958155632019,58.735113859176636,124.4041919708252,215.5599274635315,330.6156630516052],\"type\":\"scatter\",\"xaxis\":\"x2\",\"yaxis\":\"y2\"},{\"line\":{\"color\":\"brown\",\"width\":2},\"mode\":\"lines\",\"name\":\"Discrete Newton Gradient\",\"showlegend\":false,\"x\":[6,12,18,24,30],\"y\":[24.96855401992798,81.85247874259949,178.62284588813782,300.10983514785767,455.1519672870636],\"type\":\"scatter\",\"xaxis\":\"x2\",\"yaxis\":\"y2\"},{\"line\":{\"color\":\"red\",\"width\":2},\"name\":\"Discrete Parameter Shift\",\"showlegend\":false,\"x\":[6,12,18,24,30],\"y\":[16.802995681762695,52.60031747817993,107.74678325653076,184.3005886077881,275.77716183662415],\"type\":\"scatter\",\"xaxis\":\"x3\",\"yaxis\":\"y3\"},{\"line\":{\"color\":\"green\",\"width\":2},\"mode\":\"lines\",\"name\":\"Discrete Finite Difference\",\"showlegend\":false,\"x\":[6,12,18,24,30],\"y\":[16.38620638847351,51.059669494628906,107.18370938301086,186.64180731773376,276.79635667800903],\"type\":\"scatter\",\"xaxis\":\"x3\",\"yaxis\":\"y3\"},{\"line\":{\"color\":\"blue\",\"width\":2},\"mode\":\"lines\",\"name\":\"Discrete QNG\",\"showlegend\":false,\"x\":[6,12,18,24,30],\"y\":[18.326037883758545,60.861071825027466,127.29956102371216,212.2578375339508,322.24023485183716],\"type\":\"scatter\",\"xaxis\":\"x3\",\"yaxis\":\"y3\"},{\"line\":{\"color\":\"brown\",\"width\":2},\"mode\":\"lines\",\"name\":\"Discrete Newton Gradient\",\"showlegend\":false,\"x\":[6,12,18,24,30],\"y\":[25.415026903152466,83.15541911125183,174.86621713638306,300.6563675403595,454.6627993583679],\"type\":\"scatter\",\"xaxis\":\"x3\",\"yaxis\":\"y3\"},{\"line\":{\"color\":\"red\",\"width\":2},\"name\":\"Discrete Parameter Shift\",\"showlegend\":false,\"x\":[6,12,18,24,30],\"y\":[23.57150912284851,54.33398103713989,111.77507638931274,188.2489423751831,281.85205125808716],\"type\":\"scatter\",\"xaxis\":\"x4\",\"yaxis\":\"y4\"},{\"line\":{\"color\":\"green\",\"width\":2},\"mode\":\"lines\",\"name\":\"Discrete Finite Difference\",\"showlegend\":false,\"x\":[6,12,18,24,30],\"y\":[17.65394639968872,54.20615363121033,110.70321655273438,187.34331440925598,278.32564425468445],\"type\":\"scatter\",\"xaxis\":\"x4\",\"yaxis\":\"y4\"},{\"line\":{\"color\":\"blue\",\"width\":2},\"mode\":\"lines\",\"name\":\"Discrete QNG\",\"showlegend\":false,\"x\":[6,12,18,24,30],\"y\":[19.369790077209473,60.655784368515015,126.72879266738892,216.0305540561676,324.8116488456726],\"type\":\"scatter\",\"xaxis\":\"x4\",\"yaxis\":\"y4\"},{\"line\":{\"color\":\"brown\",\"width\":2},\"mode\":\"lines\",\"name\":\"Discrete Newton Gradient\",\"showlegend\":false,\"x\":[6,12,18,24,30],\"y\":[27.244672298431396,85.97367405891418,177.13738369941711,300.3977916240692,459.2426166534424],\"type\":\"scatter\",\"xaxis\":\"x4\",\"yaxis\":\"y4\"}],                        {\"template\":{\"data\":{\"bar\":[{\"error_x\":{\"color\":\"#2a3f5f\"},\"error_y\":{\"color\":\"#2a3f5f\"},\"marker\":{\"line\":{\"color\":\"#E5ECF6\",\"width\":0.5},\"pattern\":{\"fillmode\":\"overlay\",\"size\":10,\"solidity\":0.2}},\"type\":\"bar\"}],\"barpolar\":[{\"marker\":{\"line\":{\"color\":\"#E5ECF6\",\"width\":0.5},\"pattern\":{\"fillmode\":\"overlay\",\"size\":10,\"solidity\":0.2}},\"type\":\"barpolar\"}],\"carpet\":[{\"aaxis\":{\"endlinecolor\":\"#2a3f5f\",\"gridcolor\":\"white\",\"linecolor\":\"white\",\"minorgridcolor\":\"white\",\"startlinecolor\":\"#2a3f5f\"},\"baxis\":{\"endlinecolor\":\"#2a3f5f\",\"gridcolor\":\"white\",\"linecolor\":\"white\",\"minorgridcolor\":\"white\",\"startlinecolor\":\"#2a3f5f\"},\"type\":\"carpet\"}],\"choropleth\":[{\"colorbar\":{\"outlinewidth\":0,\"ticks\":\"\"},\"type\":\"choropleth\"}],\"contour\":[{\"colorbar\":{\"outlinewidth\":0,\"ticks\":\"\"},\"colorscale\":[[0.0,\"#0d0887\"],[0.1111111111111111,\"#46039f\"],[0.2222222222222222,\"#7201a8\"],[0.3333333333333333,\"#9c179e\"],[0.4444444444444444,\"#bd3786\"],[0.5555555555555556,\"#d8576b\"],[0.6666666666666666,\"#ed7953\"],[0.7777777777777778,\"#fb9f3a\"],[0.8888888888888888,\"#fdca26\"],[1.0,\"#f0f921\"]],\"type\":\"contour\"}],\"contourcarpet\":[{\"colorbar\":{\"outlinewidth\":0,\"ticks\":\"\"},\"type\":\"contourcarpet\"}],\"heatmap\":[{\"colorbar\":{\"outlinewidth\":0,\"ticks\":\"\"},\"colorscale\":[[0.0,\"#0d0887\"],[0.1111111111111111,\"#46039f\"],[0.2222222222222222,\"#7201a8\"],[0.3333333333333333,\"#9c179e\"],[0.4444444444444444,\"#bd3786\"],[0.5555555555555556,\"#d8576b\"],[0.6666666666666666,\"#ed7953\"],[0.7777777777777778,\"#fb9f3a\"],[0.8888888888888888,\"#fdca26\"],[1.0,\"#f0f921\"]],\"type\":\"heatmap\"}],\"heatmapgl\":[{\"colorbar\":{\"outlinewidth\":0,\"ticks\":\"\"},\"colorscale\":[[0.0,\"#0d0887\"],[0.1111111111111111,\"#46039f\"],[0.2222222222222222,\"#7201a8\"],[0.3333333333333333,\"#9c179e\"],[0.4444444444444444,\"#bd3786\"],[0.5555555555555556,\"#d8576b\"],[0.6666666666666666,\"#ed7953\"],[0.7777777777777778,\"#fb9f3a\"],[0.8888888888888888,\"#fdca26\"],[1.0,\"#f0f921\"]],\"type\":\"heatmapgl\"}],\"histogram\":[{\"marker\":{\"pattern\":{\"fillmode\":\"overlay\",\"size\":10,\"solidity\":0.2}},\"type\":\"histogram\"}],\"histogram2d\":[{\"colorbar\":{\"outlinewidth\":0,\"ticks\":\"\"},\"colorscale\":[[0.0,\"#0d0887\"],[0.1111111111111111,\"#46039f\"],[0.2222222222222222,\"#7201a8\"],[0.3333333333333333,\"#9c179e\"],[0.4444444444444444,\"#bd3786\"],[0.5555555555555556,\"#d8576b\"],[0.6666666666666666,\"#ed7953\"],[0.7777777777777778,\"#fb9f3a\"],[0.8888888888888888,\"#fdca26\"],[1.0,\"#f0f921\"]],\"type\":\"histogram2d\"}],\"histogram2dcontour\":[{\"colorbar\":{\"outlinewidth\":0,\"ticks\":\"\"},\"colorscale\":[[0.0,\"#0d0887\"],[0.1111111111111111,\"#46039f\"],[0.2222222222222222,\"#7201a8\"],[0.3333333333333333,\"#9c179e\"],[0.4444444444444444,\"#bd3786\"],[0.5555555555555556,\"#d8576b\"],[0.6666666666666666,\"#ed7953\"],[0.7777777777777778,\"#fb9f3a\"],[0.8888888888888888,\"#fdca26\"],[1.0,\"#f0f921\"]],\"type\":\"histogram2dcontour\"}],\"mesh3d\":[{\"colorbar\":{\"outlinewidth\":0,\"ticks\":\"\"},\"type\":\"mesh3d\"}],\"parcoords\":[{\"line\":{\"colorbar\":{\"outlinewidth\":0,\"ticks\":\"\"}},\"type\":\"parcoords\"}],\"pie\":[{\"automargin\":true,\"type\":\"pie\"}],\"scatter\":[{\"marker\":{\"colorbar\":{\"outlinewidth\":0,\"ticks\":\"\"}},\"type\":\"scatter\"}],\"scatter3d\":[{\"line\":{\"colorbar\":{\"outlinewidth\":0,\"ticks\":\"\"}},\"marker\":{\"colorbar\":{\"outlinewidth\":0,\"ticks\":\"\"}},\"type\":\"scatter3d\"}],\"scattercarpet\":[{\"marker\":{\"colorbar\":{\"outlinewidth\":0,\"ticks\":\"\"}},\"type\":\"scattercarpet\"}],\"scattergeo\":[{\"marker\":{\"colorbar\":{\"outlinewidth\":0,\"ticks\":\"\"}},\"type\":\"scattergeo\"}],\"scattergl\":[{\"marker\":{\"colorbar\":{\"outlinewidth\":0,\"ticks\":\"\"}},\"type\":\"scattergl\"}],\"scattermapbox\":[{\"marker\":{\"colorbar\":{\"outlinewidth\":0,\"ticks\":\"\"}},\"type\":\"scattermapbox\"}],\"scatterpolar\":[{\"marker\":{\"colorbar\":{\"outlinewidth\":0,\"ticks\":\"\"}},\"type\":\"scatterpolar\"}],\"scatterpolargl\":[{\"marker\":{\"colorbar\":{\"outlinewidth\":0,\"ticks\":\"\"}},\"type\":\"scatterpolargl\"}],\"scatterternary\":[{\"marker\":{\"colorbar\":{\"outlinewidth\":0,\"ticks\":\"\"}},\"type\":\"scatterternary\"}],\"surface\":[{\"colorbar\":{\"outlinewidth\":0,\"ticks\":\"\"},\"colorscale\":[[0.0,\"#0d0887\"],[0.1111111111111111,\"#46039f\"],[0.2222222222222222,\"#7201a8\"],[0.3333333333333333,\"#9c179e\"],[0.4444444444444444,\"#bd3786\"],[0.5555555555555556,\"#d8576b\"],[0.6666666666666666,\"#ed7953\"],[0.7777777777777778,\"#fb9f3a\"],[0.8888888888888888,\"#fdca26\"],[1.0,\"#f0f921\"]],\"type\":\"surface\"}],\"table\":[{\"cells\":{\"fill\":{\"color\":\"#EBF0F8\"},\"line\":{\"color\":\"white\"}},\"header\":{\"fill\":{\"color\":\"#C8D4E3\"},\"line\":{\"color\":\"white\"}},\"type\":\"table\"}]},\"layout\":{\"annotationdefaults\":{\"arrowcolor\":\"#2a3f5f\",\"arrowhead\":0,\"arrowwidth\":1},\"autotypenumbers\":\"strict\",\"coloraxis\":{\"colorbar\":{\"outlinewidth\":0,\"ticks\":\"\"}},\"colorscale\":{\"diverging\":[[0,\"#8e0152\"],[0.1,\"#c51b7d\"],[0.2,\"#de77ae\"],[0.3,\"#f1b6da\"],[0.4,\"#fde0ef\"],[0.5,\"#f7f7f7\"],[0.6,\"#e6f5d0\"],[0.7,\"#b8e186\"],[0.8,\"#7fbc41\"],[0.9,\"#4d9221\"],[1,\"#276419\"]],\"sequential\":[[0.0,\"#0d0887\"],[0.1111111111111111,\"#46039f\"],[0.2222222222222222,\"#7201a8\"],[0.3333333333333333,\"#9c179e\"],[0.4444444444444444,\"#bd3786\"],[0.5555555555555556,\"#d8576b\"],[0.6666666666666666,\"#ed7953\"],[0.7777777777777778,\"#fb9f3a\"],[0.8888888888888888,\"#fdca26\"],[1.0,\"#f0f921\"]],\"sequentialminus\":[[0.0,\"#0d0887\"],[0.1111111111111111,\"#46039f\"],[0.2222222222222222,\"#7201a8\"],[0.3333333333333333,\"#9c179e\"],[0.4444444444444444,\"#bd3786\"],[0.5555555555555556,\"#d8576b\"],[0.6666666666666666,\"#ed7953\"],[0.7777777777777778,\"#fb9f3a\"],[0.8888888888888888,\"#fdca26\"],[1.0,\"#f0f921\"]]},\"colorway\":[\"#636efa\",\"#EF553B\",\"#00cc96\",\"#ab63fa\",\"#FFA15A\",\"#19d3f3\",\"#FF6692\",\"#B6E880\",\"#FF97FF\",\"#FECB52\"],\"font\":{\"color\":\"#2a3f5f\"},\"geo\":{\"bgcolor\":\"white\",\"lakecolor\":\"white\",\"landcolor\":\"#E5ECF6\",\"showlakes\":true,\"showland\":true,\"subunitcolor\":\"white\"},\"hoverlabel\":{\"align\":\"left\"},\"hovermode\":\"closest\",\"mapbox\":{\"style\":\"light\"},\"paper_bgcolor\":\"white\",\"plot_bgcolor\":\"#E5ECF6\",\"polar\":{\"angularaxis\":{\"gridcolor\":\"white\",\"linecolor\":\"white\",\"ticks\":\"\"},\"bgcolor\":\"#E5ECF6\",\"radialaxis\":{\"gridcolor\":\"white\",\"linecolor\":\"white\",\"ticks\":\"\"}},\"scene\":{\"xaxis\":{\"backgroundcolor\":\"#E5ECF6\",\"gridcolor\":\"white\",\"gridwidth\":2,\"linecolor\":\"white\",\"showbackground\":true,\"ticks\":\"\",\"zerolinecolor\":\"white\"},\"yaxis\":{\"backgroundcolor\":\"#E5ECF6\",\"gridcolor\":\"white\",\"gridwidth\":2,\"linecolor\":\"white\",\"showbackground\":true,\"ticks\":\"\",\"zerolinecolor\":\"white\"},\"zaxis\":{\"backgroundcolor\":\"#E5ECF6\",\"gridcolor\":\"white\",\"gridwidth\":2,\"linecolor\":\"white\",\"showbackground\":true,\"ticks\":\"\",\"zerolinecolor\":\"white\"}},\"shapedefaults\":{\"line\":{\"color\":\"#2a3f5f\"}},\"ternary\":{\"aaxis\":{\"gridcolor\":\"white\",\"linecolor\":\"white\",\"ticks\":\"\"},\"baxis\":{\"gridcolor\":\"white\",\"linecolor\":\"white\",\"ticks\":\"\"},\"bgcolor\":\"#E5ECF6\",\"caxis\":{\"gridcolor\":\"white\",\"linecolor\":\"white\",\"ticks\":\"\"}},\"title\":{\"x\":0.05},\"xaxis\":{\"automargin\":true,\"gridcolor\":\"white\",\"linecolor\":\"white\",\"ticks\":\"\",\"title\":{\"standoff\":15},\"zerolinecolor\":\"white\",\"zerolinewidth\":2},\"yaxis\":{\"automargin\":true,\"gridcolor\":\"white\",\"linecolor\":\"white\",\"ticks\":\"\",\"title\":{\"standoff\":15},\"zerolinecolor\":\"white\",\"zerolinewidth\":2}}},\"xaxis\":{\"anchor\":\"y\",\"domain\":[0.0,0.45],\"title\":{\"text\":\"The Number of parameterized gate\"}},\"yaxis\":{\"anchor\":\"x\",\"domain\":[0.625,1.0],\"title\":{\"text\":\"Time (Sec)\"}},\"xaxis2\":{\"anchor\":\"y2\",\"domain\":[0.55,1.0]},\"yaxis2\":{\"anchor\":\"x2\",\"domain\":[0.625,1.0]},\"xaxis3\":{\"anchor\":\"y3\",\"domain\":[0.0,0.45]},\"yaxis3\":{\"anchor\":\"x3\",\"domain\":[0.0,0.375]},\"xaxis4\":{\"anchor\":\"y4\",\"domain\":[0.55,1.0]},\"yaxis4\":{\"anchor\":\"x4\",\"domain\":[0.0,0.375]},\"annotations\":[{\"font\":{\"size\":16},\"showarrow\":false,\"text\":\"Max-Cut\",\"x\":0.225,\"xanchor\":\"center\",\"xref\":\"paper\",\"y\":1.0,\"yanchor\":\"bottom\",\"yref\":\"paper\"},{\"font\":{\"size\":16},\"showarrow\":false,\"text\":\"Clique\",\"x\":0.775,\"xanchor\":\"center\",\"xref\":\"paper\",\"y\":1.0,\"yanchor\":\"bottom\",\"yref\":\"paper\"},{\"font\":{\"size\":16},\"showarrow\":false,\"text\":\"Binary Linear Programming\",\"x\":0.225,\"xanchor\":\"center\",\"xref\":\"paper\",\"y\":0.375,\"yanchor\":\"bottom\",\"yref\":\"paper\"},{\"font\":{\"size\":16},\"showarrow\":false,\"text\":\"Knapsack\",\"x\":0.775,\"xanchor\":\"center\",\"xref\":\"paper\",\"y\":0.375,\"yanchor\":\"bottom\",\"yref\":\"paper\"}],\"title\":{\"text\":\"Time Comparison  <br><sup>Fixed epochs (10 epochs).</sup>\"},\"autosize\":false,\"width\":1000,\"height\":700},                        {\"responsive\": true}                    ).then(function(){\n",
              "                            \n",
              "var gd = document.getElementById('1bce66d2-0b7b-4cd8-8c24-f3898ced92c7');\n",
              "var x = new MutationObserver(function (mutations, observer) {{\n",
              "        var display = window.getComputedStyle(gd).display;\n",
              "        if (!display || display === 'none') {{\n",
              "            console.log([gd, 'removed!']);\n",
              "            Plotly.purge(gd);\n",
              "            observer.disconnect();\n",
              "        }}\n",
              "}});\n",
              "\n",
              "// Listen for the removal of the full notebook cells\n",
              "var notebookContainer = gd.closest('#notebook-container');\n",
              "if (notebookContainer) {{\n",
              "    x.observe(notebookContainer, {childList: true});\n",
              "}}\n",
              "\n",
              "// Listen for the clearing of the current output cell\n",
              "var outputEl = gd.closest('.output');\n",
              "if (outputEl) {{\n",
              "    x.observe(outputEl, {childList: true});\n",
              "}}\n",
              "\n",
              "                        })                };                            </script>        </div>\n",
              "</body>\n",
              "</html>"
            ]
          },
          "metadata": {}
        }
      ]
    },
    {
      "cell_type": "code",
      "source": [
        "#@title Comparison Table\n",
        "rows = ['Discrete Parameter Shift',\n",
        "          'Discrete Finite Difference',\n",
        "          #'Discrete LCU', \n",
        "          'Discrete QNG',\n",
        "          'Discrete Newton Gradient',\n",
        "          #'Classical'\n",
        "          ]\n",
        "columns_g = [\"#Param Gates 6\", \"#Param Gates 12\", \"#Param Gates 18\", \"#Param Gates 24\", \"#Param Gates 30\"]\n",
        "iters = [0, 1, 2, 3, 4]\n",
        "columns_s = [\"Loss\", \"Time(second)\"]\n",
        "problems = [\"Max-Cut\", \"Clique\", \"Binary Linear Programming\", \"Knapsack\"]\n",
        "for problemn in range(len(problems)):\n",
        "  df = pd.DataFrame([[pslc[problemn][iters[0]], pstc[problemn][iters[0]], pslc[problemn][iters[1]],pstc[problemn][iters[1]],pslc[problemn][iters[2]],pstc[problemn][iters[2]],pslc[problemn][iters[3]],pstc[problemn][iters[3]],pslc[problemn][iters[4]],pstc[problemn][iters[4]]],\n",
        "                    [fdlc[problemn][iters[0]], fdtc[problemn][iters[0]], fdlc[problemn][iters[1]], fdtc[problemn][iters[1]], fdlc[problemn][iters[2]], fdtc[problemn][iters[2]], fdlc[problemn][iters[3]], fdtc[problemn][iters[3]], fdlc[problemn][iters[4]], fdtc[problemn][iters[4]]],\n",
        "                    #[loss_plot_lcu[iters[0]],lcu_time_i[100],loss_plot_lcu[200],lcu_time_i[200],loss_plot_lcu[300],lcu_time_i[300], loss_plot_lcu[400],lcu_time_i[400], loss_plot_lcu[500],lcu_time_i[500]],\n",
        "                    [qnglc[problemn][iters[0]],qngtc[problemn][iters[0]],qnglc[problemn][iters[1]],qngtc[problemn][iters[1]],qnglc[problemn][iters[2]],qngtc[problemn][iters[2]], qnglc[problemn][iters[3]],qngtc[problemn][iters[3]], qnglc[problemn][iters[4]],qngtc[problemn][iters[4]]],\n",
        "                    [qnwlc[problemn][iters[0]],qnwtc[problemn][iters[0]],qnwlc[problemn][iters[1]],qnwtc[problemn][iters[1]],qnwlc[problemn][iters[2]],qnwtc[problemn][iters[2]],qnwlc[problemn][iters[3]],qnwtc[problemn][iters[3]],qnwlc[problemn][iters[4]],qnwtc[problemn][iters[4]]],\n",
        "                    #[loss_plot_classical[5],classical_time_i[100],loss_plot_classical[200],classical_time_i[200],loss_plot_classical[300],classical_time_i[300], loss_plot_classical[400],classical_time_i[400], loss_plot_classical[500],classical_time_i[500]]\n",
        "                    ])\n",
        "\n",
        "  col_ix = pd.MultiIndex.from_product([columns_g, columns_s]) \n",
        "  row_ix = pd.MultiIndex.from_product([rows])\n",
        "  df = df.set_index(row_ix)\n",
        "  df.columns = col_ix\n",
        "  df[( '#Param Gates 6','Loss')] = df[( '#Param Gates 6','Loss')].map('{:.2e}'.format)\n",
        "  df[( '#Param Gates 12','Loss')] = df[( '#Param Gates 12','Loss')].map('{:.2e}'.format)\n",
        "  df[( '#Param Gates 18','Loss')] = df[( '#Param Gates 18','Loss')].map('{:.2e}'.format)\n",
        "  df[( '#Param Gates 24','Loss')] = df[( '#Param Gates 24','Loss')].map('{:.2e}'.format)\n",
        "  df[( '#Param Gates 30','Loss')] = df[( '#Param Gates 30','Loss')].map('{:.2e}'.format)\n",
        "  # df[( '#Param Gates 500','Loss')] = df[( '#Param Gates 500','Loss')].map('{:.2e}'.format)\n",
        "  print(f\"\\033[1m{problems[problemn]}\\033[0m\")\n",
        "  display(df.round(2))\n",
        "  print(\"\\n\\n\\n\")"
      ],
      "metadata": {
        "colab": {
          "base_uri": "https://localhost:8080/",
          "height": 1000
        },
        "cellView": "form",
        "id": "jNpZ5_r9uG5r",
        "outputId": "0db89ea3-bc56-4a38-f441-c447a1ae49a0"
      },
      "execution_count": 210,
      "outputs": [
        {
          "output_type": "stream",
          "name": "stdout",
          "text": [
            "\u001b[1mMax-Cut\u001b[0m\n"
          ]
        },
        {
          "output_type": "display_data",
          "data": {
            "text/plain": [
              "                           #Param Gates 6              #Param Gates 12  \\\n",
              "                                     Loss Time(second)            Loss   \n",
              "Discrete Parameter Shift        -2.93e+00        27.02       -3.54e+00   \n",
              "Discrete Finite Difference      -2.93e+00        16.11       -3.54e+00   \n",
              "Discrete QNG                    -2.94e+00        17.93       -3.52e+00   \n",
              "Discrete Newton Gradient        -1.72e+00        24.76       -1.73e+00   \n",
              "\n",
              "                                        #Param Gates 18               \\\n",
              "                           Time(second)            Loss Time(second)   \n",
              "Discrete Parameter Shift          65.06       -3.83e+00       106.17   \n",
              "Discrete Finite Difference        51.48       -3.83e+00       108.56   \n",
              "Discrete QNG                      57.90       -3.80e+00       122.71   \n",
              "Discrete Newton Gradient          81.31       -2.33e+00       174.61   \n",
              "\n",
              "                           #Param Gates 24              #Param Gates 30  \\\n",
              "                                      Loss Time(second)            Loss   \n",
              "Discrete Parameter Shift         -3.79e+00       182.81       -3.93e+00   \n",
              "Discrete Finite Difference       -3.79e+00       185.18       -3.93e+00   \n",
              "Discrete QNG                     -3.75e+00       211.87       -3.94e+00   \n",
              "Discrete Newton Gradient         -2.48e+00       297.88       -2.62e+00   \n",
              "\n",
              "                                         \n",
              "                           Time(second)  \n",
              "Discrete Parameter Shift         275.33  \n",
              "Discrete Finite Difference       274.84  \n",
              "Discrete QNG                     321.25  \n",
              "Discrete Newton Gradient         454.49  "
            ],
            "text/html": [
              "\n",
              "  <div id=\"df-eed0ce91-9ac4-4aed-b2d3-07f50cd624e8\">\n",
              "    <div class=\"colab-df-container\">\n",
              "      <div>\n",
              "<style scoped>\n",
              "    .dataframe tbody tr th:only-of-type {\n",
              "        vertical-align: middle;\n",
              "    }\n",
              "\n",
              "    .dataframe tbody tr th {\n",
              "        vertical-align: top;\n",
              "    }\n",
              "\n",
              "    .dataframe thead tr th {\n",
              "        text-align: left;\n",
              "    }\n",
              "</style>\n",
              "<table border=\"1\" class=\"dataframe\">\n",
              "  <thead>\n",
              "    <tr>\n",
              "      <th></th>\n",
              "      <th colspan=\"2\" halign=\"left\">#Param Gates 6</th>\n",
              "      <th colspan=\"2\" halign=\"left\">#Param Gates 12</th>\n",
              "      <th colspan=\"2\" halign=\"left\">#Param Gates 18</th>\n",
              "      <th colspan=\"2\" halign=\"left\">#Param Gates 24</th>\n",
              "      <th colspan=\"2\" halign=\"left\">#Param Gates 30</th>\n",
              "    </tr>\n",
              "    <tr>\n",
              "      <th></th>\n",
              "      <th>Loss</th>\n",
              "      <th>Time(second)</th>\n",
              "      <th>Loss</th>\n",
              "      <th>Time(second)</th>\n",
              "      <th>Loss</th>\n",
              "      <th>Time(second)</th>\n",
              "      <th>Loss</th>\n",
              "      <th>Time(second)</th>\n",
              "      <th>Loss</th>\n",
              "      <th>Time(second)</th>\n",
              "    </tr>\n",
              "  </thead>\n",
              "  <tbody>\n",
              "    <tr>\n",
              "      <th>Discrete Parameter Shift</th>\n",
              "      <td>-2.93e+00</td>\n",
              "      <td>27.02</td>\n",
              "      <td>-3.54e+00</td>\n",
              "      <td>65.06</td>\n",
              "      <td>-3.83e+00</td>\n",
              "      <td>106.17</td>\n",
              "      <td>-3.79e+00</td>\n",
              "      <td>182.81</td>\n",
              "      <td>-3.93e+00</td>\n",
              "      <td>275.33</td>\n",
              "    </tr>\n",
              "    <tr>\n",
              "      <th>Discrete Finite Difference</th>\n",
              "      <td>-2.93e+00</td>\n",
              "      <td>16.11</td>\n",
              "      <td>-3.54e+00</td>\n",
              "      <td>51.48</td>\n",
              "      <td>-3.83e+00</td>\n",
              "      <td>108.56</td>\n",
              "      <td>-3.79e+00</td>\n",
              "      <td>185.18</td>\n",
              "      <td>-3.93e+00</td>\n",
              "      <td>274.84</td>\n",
              "    </tr>\n",
              "    <tr>\n",
              "      <th>Discrete QNG</th>\n",
              "      <td>-2.94e+00</td>\n",
              "      <td>17.93</td>\n",
              "      <td>-3.52e+00</td>\n",
              "      <td>57.90</td>\n",
              "      <td>-3.80e+00</td>\n",
              "      <td>122.71</td>\n",
              "      <td>-3.75e+00</td>\n",
              "      <td>211.87</td>\n",
              "      <td>-3.94e+00</td>\n",
              "      <td>321.25</td>\n",
              "    </tr>\n",
              "    <tr>\n",
              "      <th>Discrete Newton Gradient</th>\n",
              "      <td>-1.72e+00</td>\n",
              "      <td>24.76</td>\n",
              "      <td>-1.73e+00</td>\n",
              "      <td>81.31</td>\n",
              "      <td>-2.33e+00</td>\n",
              "      <td>174.61</td>\n",
              "      <td>-2.48e+00</td>\n",
              "      <td>297.88</td>\n",
              "      <td>-2.62e+00</td>\n",
              "      <td>454.49</td>\n",
              "    </tr>\n",
              "  </tbody>\n",
              "</table>\n",
              "</div>\n",
              "      <button class=\"colab-df-convert\" onclick=\"convertToInteractive('df-eed0ce91-9ac4-4aed-b2d3-07f50cd624e8')\"\n",
              "              title=\"Convert this dataframe to an interactive table.\"\n",
              "              style=\"display:none;\">\n",
              "        \n",
              "  <svg xmlns=\"http://www.w3.org/2000/svg\" height=\"24px\"viewBox=\"0 0 24 24\"\n",
              "       width=\"24px\">\n",
              "    <path d=\"M0 0h24v24H0V0z\" fill=\"none\"/>\n",
              "    <path d=\"M18.56 5.44l.94 2.06.94-2.06 2.06-.94-2.06-.94-.94-2.06-.94 2.06-2.06.94zm-11 1L8.5 8.5l.94-2.06 2.06-.94-2.06-.94L8.5 2.5l-.94 2.06-2.06.94zm10 10l.94 2.06.94-2.06 2.06-.94-2.06-.94-.94-2.06-.94 2.06-2.06.94z\"/><path d=\"M17.41 7.96l-1.37-1.37c-.4-.4-.92-.59-1.43-.59-.52 0-1.04.2-1.43.59L10.3 9.45l-7.72 7.72c-.78.78-.78 2.05 0 2.83L4 21.41c.39.39.9.59 1.41.59.51 0 1.02-.2 1.41-.59l7.78-7.78 2.81-2.81c.8-.78.8-2.07 0-2.86zM5.41 20L4 18.59l7.72-7.72 1.47 1.35L5.41 20z\"/>\n",
              "  </svg>\n",
              "      </button>\n",
              "      \n",
              "  <style>\n",
              "    .colab-df-container {\n",
              "      display:flex;\n",
              "      flex-wrap:wrap;\n",
              "      gap: 12px;\n",
              "    }\n",
              "\n",
              "    .colab-df-convert {\n",
              "      background-color: #E8F0FE;\n",
              "      border: none;\n",
              "      border-radius: 50%;\n",
              "      cursor: pointer;\n",
              "      display: none;\n",
              "      fill: #1967D2;\n",
              "      height: 32px;\n",
              "      padding: 0 0 0 0;\n",
              "      width: 32px;\n",
              "    }\n",
              "\n",
              "    .colab-df-convert:hover {\n",
              "      background-color: #E2EBFA;\n",
              "      box-shadow: 0px 1px 2px rgba(60, 64, 67, 0.3), 0px 1px 3px 1px rgba(60, 64, 67, 0.15);\n",
              "      fill: #174EA6;\n",
              "    }\n",
              "\n",
              "    [theme=dark] .colab-df-convert {\n",
              "      background-color: #3B4455;\n",
              "      fill: #D2E3FC;\n",
              "    }\n",
              "\n",
              "    [theme=dark] .colab-df-convert:hover {\n",
              "      background-color: #434B5C;\n",
              "      box-shadow: 0px 1px 3px 1px rgba(0, 0, 0, 0.15);\n",
              "      filter: drop-shadow(0px 1px 2px rgba(0, 0, 0, 0.3));\n",
              "      fill: #FFFFFF;\n",
              "    }\n",
              "  </style>\n",
              "\n",
              "      <script>\n",
              "        const buttonEl =\n",
              "          document.querySelector('#df-eed0ce91-9ac4-4aed-b2d3-07f50cd624e8 button.colab-df-convert');\n",
              "        buttonEl.style.display =\n",
              "          google.colab.kernel.accessAllowed ? 'block' : 'none';\n",
              "\n",
              "        async function convertToInteractive(key) {\n",
              "          const element = document.querySelector('#df-eed0ce91-9ac4-4aed-b2d3-07f50cd624e8');\n",
              "          const dataTable =\n",
              "            await google.colab.kernel.invokeFunction('convertToInteractive',\n",
              "                                                     [key], {});\n",
              "          if (!dataTable) return;\n",
              "\n",
              "          const docLinkHtml = 'Like what you see? Visit the ' +\n",
              "            '<a target=\"_blank\" href=https://colab.research.google.com/notebooks/data_table.ipynb>data table notebook</a>'\n",
              "            + ' to learn more about interactive tables.';\n",
              "          element.innerHTML = '';\n",
              "          dataTable['output_type'] = 'display_data';\n",
              "          await google.colab.output.renderOutput(dataTable, element);\n",
              "          const docLink = document.createElement('div');\n",
              "          docLink.innerHTML = docLinkHtml;\n",
              "          element.appendChild(docLink);\n",
              "        }\n",
              "      </script>\n",
              "    </div>\n",
              "  </div>\n",
              "  "
            ]
          },
          "metadata": {}
        },
        {
          "output_type": "stream",
          "name": "stdout",
          "text": [
            "\n",
            "\n",
            "\n",
            "\n",
            "\u001b[1mClique\u001b[0m\n"
          ]
        },
        {
          "output_type": "display_data",
          "data": {
            "text/plain": [
              "                           #Param Gates 6              #Param Gates 12  \\\n",
              "                                     Loss Time(second)            Loss   \n",
              "Discrete Parameter Shift        -1.88e+00        16.43       -2.41e+00   \n",
              "Discrete Finite Difference      -1.88e+00        16.34       -2.41e+00   \n",
              "Discrete QNG                    -1.90e+00        18.27       -2.41e+00   \n",
              "Discrete Newton Gradient        -2.00e-01        24.97       -5.33e-01   \n",
              "\n",
              "                                        #Param Gates 18               \\\n",
              "                           Time(second)            Loss Time(second)   \n",
              "Discrete Parameter Shift          51.83       -2.64e+00       108.02   \n",
              "Discrete Finite Difference        51.33       -2.64e+00       105.61   \n",
              "Discrete QNG                      58.74       -2.64e+00       124.40   \n",
              "Discrete Newton Gradient          81.85        1.10e-01       178.62   \n",
              "\n",
              "                           #Param Gates 24              #Param Gates 30  \\\n",
              "                                      Loss Time(second)            Loss   \n",
              "Discrete Parameter Shift         -2.79e+00       183.35       -2.65e+00   \n",
              "Discrete Finite Difference       -2.79e+00       194.99       -2.65e+00   \n",
              "Discrete QNG                     -2.88e+00       215.56       -2.65e+00   \n",
              "Discrete Newton Gradient          1.02e+00       300.11        1.18e+00   \n",
              "\n",
              "                                         \n",
              "                           Time(second)  \n",
              "Discrete Parameter Shift         276.31  \n",
              "Discrete Finite Difference       275.21  \n",
              "Discrete QNG                     330.62  \n",
              "Discrete Newton Gradient         455.15  "
            ],
            "text/html": [
              "\n",
              "  <div id=\"df-7ced98c7-90c5-44a7-a5bd-25db8efde329\">\n",
              "    <div class=\"colab-df-container\">\n",
              "      <div>\n",
              "<style scoped>\n",
              "    .dataframe tbody tr th:only-of-type {\n",
              "        vertical-align: middle;\n",
              "    }\n",
              "\n",
              "    .dataframe tbody tr th {\n",
              "        vertical-align: top;\n",
              "    }\n",
              "\n",
              "    .dataframe thead tr th {\n",
              "        text-align: left;\n",
              "    }\n",
              "</style>\n",
              "<table border=\"1\" class=\"dataframe\">\n",
              "  <thead>\n",
              "    <tr>\n",
              "      <th></th>\n",
              "      <th colspan=\"2\" halign=\"left\">#Param Gates 6</th>\n",
              "      <th colspan=\"2\" halign=\"left\">#Param Gates 12</th>\n",
              "      <th colspan=\"2\" halign=\"left\">#Param Gates 18</th>\n",
              "      <th colspan=\"2\" halign=\"left\">#Param Gates 24</th>\n",
              "      <th colspan=\"2\" halign=\"left\">#Param Gates 30</th>\n",
              "    </tr>\n",
              "    <tr>\n",
              "      <th></th>\n",
              "      <th>Loss</th>\n",
              "      <th>Time(second)</th>\n",
              "      <th>Loss</th>\n",
              "      <th>Time(second)</th>\n",
              "      <th>Loss</th>\n",
              "      <th>Time(second)</th>\n",
              "      <th>Loss</th>\n",
              "      <th>Time(second)</th>\n",
              "      <th>Loss</th>\n",
              "      <th>Time(second)</th>\n",
              "    </tr>\n",
              "  </thead>\n",
              "  <tbody>\n",
              "    <tr>\n",
              "      <th>Discrete Parameter Shift</th>\n",
              "      <td>-1.88e+00</td>\n",
              "      <td>16.43</td>\n",
              "      <td>-2.41e+00</td>\n",
              "      <td>51.83</td>\n",
              "      <td>-2.64e+00</td>\n",
              "      <td>108.02</td>\n",
              "      <td>-2.79e+00</td>\n",
              "      <td>183.35</td>\n",
              "      <td>-2.65e+00</td>\n",
              "      <td>276.31</td>\n",
              "    </tr>\n",
              "    <tr>\n",
              "      <th>Discrete Finite Difference</th>\n",
              "      <td>-1.88e+00</td>\n",
              "      <td>16.34</td>\n",
              "      <td>-2.41e+00</td>\n",
              "      <td>51.33</td>\n",
              "      <td>-2.64e+00</td>\n",
              "      <td>105.61</td>\n",
              "      <td>-2.79e+00</td>\n",
              "      <td>194.99</td>\n",
              "      <td>-2.65e+00</td>\n",
              "      <td>275.21</td>\n",
              "    </tr>\n",
              "    <tr>\n",
              "      <th>Discrete QNG</th>\n",
              "      <td>-1.90e+00</td>\n",
              "      <td>18.27</td>\n",
              "      <td>-2.41e+00</td>\n",
              "      <td>58.74</td>\n",
              "      <td>-2.64e+00</td>\n",
              "      <td>124.40</td>\n",
              "      <td>-2.88e+00</td>\n",
              "      <td>215.56</td>\n",
              "      <td>-2.65e+00</td>\n",
              "      <td>330.62</td>\n",
              "    </tr>\n",
              "    <tr>\n",
              "      <th>Discrete Newton Gradient</th>\n",
              "      <td>-2.00e-01</td>\n",
              "      <td>24.97</td>\n",
              "      <td>-5.33e-01</td>\n",
              "      <td>81.85</td>\n",
              "      <td>1.10e-01</td>\n",
              "      <td>178.62</td>\n",
              "      <td>1.02e+00</td>\n",
              "      <td>300.11</td>\n",
              "      <td>1.18e+00</td>\n",
              "      <td>455.15</td>\n",
              "    </tr>\n",
              "  </tbody>\n",
              "</table>\n",
              "</div>\n",
              "      <button class=\"colab-df-convert\" onclick=\"convertToInteractive('df-7ced98c7-90c5-44a7-a5bd-25db8efde329')\"\n",
              "              title=\"Convert this dataframe to an interactive table.\"\n",
              "              style=\"display:none;\">\n",
              "        \n",
              "  <svg xmlns=\"http://www.w3.org/2000/svg\" height=\"24px\"viewBox=\"0 0 24 24\"\n",
              "       width=\"24px\">\n",
              "    <path d=\"M0 0h24v24H0V0z\" fill=\"none\"/>\n",
              "    <path d=\"M18.56 5.44l.94 2.06.94-2.06 2.06-.94-2.06-.94-.94-2.06-.94 2.06-2.06.94zm-11 1L8.5 8.5l.94-2.06 2.06-.94-2.06-.94L8.5 2.5l-.94 2.06-2.06.94zm10 10l.94 2.06.94-2.06 2.06-.94-2.06-.94-.94-2.06-.94 2.06-2.06.94z\"/><path d=\"M17.41 7.96l-1.37-1.37c-.4-.4-.92-.59-1.43-.59-.52 0-1.04.2-1.43.59L10.3 9.45l-7.72 7.72c-.78.78-.78 2.05 0 2.83L4 21.41c.39.39.9.59 1.41.59.51 0 1.02-.2 1.41-.59l7.78-7.78 2.81-2.81c.8-.78.8-2.07 0-2.86zM5.41 20L4 18.59l7.72-7.72 1.47 1.35L5.41 20z\"/>\n",
              "  </svg>\n",
              "      </button>\n",
              "      \n",
              "  <style>\n",
              "    .colab-df-container {\n",
              "      display:flex;\n",
              "      flex-wrap:wrap;\n",
              "      gap: 12px;\n",
              "    }\n",
              "\n",
              "    .colab-df-convert {\n",
              "      background-color: #E8F0FE;\n",
              "      border: none;\n",
              "      border-radius: 50%;\n",
              "      cursor: pointer;\n",
              "      display: none;\n",
              "      fill: #1967D2;\n",
              "      height: 32px;\n",
              "      padding: 0 0 0 0;\n",
              "      width: 32px;\n",
              "    }\n",
              "\n",
              "    .colab-df-convert:hover {\n",
              "      background-color: #E2EBFA;\n",
              "      box-shadow: 0px 1px 2px rgba(60, 64, 67, 0.3), 0px 1px 3px 1px rgba(60, 64, 67, 0.15);\n",
              "      fill: #174EA6;\n",
              "    }\n",
              "\n",
              "    [theme=dark] .colab-df-convert {\n",
              "      background-color: #3B4455;\n",
              "      fill: #D2E3FC;\n",
              "    }\n",
              "\n",
              "    [theme=dark] .colab-df-convert:hover {\n",
              "      background-color: #434B5C;\n",
              "      box-shadow: 0px 1px 3px 1px rgba(0, 0, 0, 0.15);\n",
              "      filter: drop-shadow(0px 1px 2px rgba(0, 0, 0, 0.3));\n",
              "      fill: #FFFFFF;\n",
              "    }\n",
              "  </style>\n",
              "\n",
              "      <script>\n",
              "        const buttonEl =\n",
              "          document.querySelector('#df-7ced98c7-90c5-44a7-a5bd-25db8efde329 button.colab-df-convert');\n",
              "        buttonEl.style.display =\n",
              "          google.colab.kernel.accessAllowed ? 'block' : 'none';\n",
              "\n",
              "        async function convertToInteractive(key) {\n",
              "          const element = document.querySelector('#df-7ced98c7-90c5-44a7-a5bd-25db8efde329');\n",
              "          const dataTable =\n",
              "            await google.colab.kernel.invokeFunction('convertToInteractive',\n",
              "                                                     [key], {});\n",
              "          if (!dataTable) return;\n",
              "\n",
              "          const docLinkHtml = 'Like what you see? Visit the ' +\n",
              "            '<a target=\"_blank\" href=https://colab.research.google.com/notebooks/data_table.ipynb>data table notebook</a>'\n",
              "            + ' to learn more about interactive tables.';\n",
              "          element.innerHTML = '';\n",
              "          dataTable['output_type'] = 'display_data';\n",
              "          await google.colab.output.renderOutput(dataTable, element);\n",
              "          const docLink = document.createElement('div');\n",
              "          docLink.innerHTML = docLinkHtml;\n",
              "          element.appendChild(docLink);\n",
              "        }\n",
              "      </script>\n",
              "    </div>\n",
              "  </div>\n",
              "  "
            ]
          },
          "metadata": {}
        },
        {
          "output_type": "stream",
          "name": "stdout",
          "text": [
            "\n",
            "\n",
            "\n",
            "\n",
            "\u001b[1mBinary Linear Programming\u001b[0m\n"
          ]
        },
        {
          "output_type": "display_data",
          "data": {
            "text/plain": [
              "                           #Param Gates 6              #Param Gates 12  \\\n",
              "                                     Loss Time(second)            Loss   \n",
              "Discrete Parameter Shift         3.15e+05        16.80        2.86e+05   \n",
              "Discrete Finite Difference       3.15e+05        16.39        2.86e+05   \n",
              "Discrete QNG                     3.11e+05        18.33        2.87e+05   \n",
              "Discrete Newton Gradient         5.99e+05        25.42        5.71e+05   \n",
              "\n",
              "                                        #Param Gates 18               \\\n",
              "                           Time(second)            Loss Time(second)   \n",
              "Discrete Parameter Shift          52.60        2.33e+05       107.75   \n",
              "Discrete Finite Difference        51.06        2.33e+05       107.18   \n",
              "Discrete QNG                      60.86        2.41e+05       127.30   \n",
              "Discrete Newton Gradient          83.16        5.42e+05       174.87   \n",
              "\n",
              "                           #Param Gates 24              #Param Gates 30  \\\n",
              "                                      Loss Time(second)            Loss   \n",
              "Discrete Parameter Shift          1.94e+05       184.30        2.18e+05   \n",
              "Discrete Finite Difference        1.94e+05       186.64        2.18e+05   \n",
              "Discrete QNG                      1.90e+05       212.26        2.18e+05   \n",
              "Discrete Newton Gradient          4.05e+05       300.66        4.44e+05   \n",
              "\n",
              "                                         \n",
              "                           Time(second)  \n",
              "Discrete Parameter Shift         275.78  \n",
              "Discrete Finite Difference       276.80  \n",
              "Discrete QNG                     322.24  \n",
              "Discrete Newton Gradient         454.66  "
            ],
            "text/html": [
              "\n",
              "  <div id=\"df-e53156b1-0993-4335-b066-19072bda5260\">\n",
              "    <div class=\"colab-df-container\">\n",
              "      <div>\n",
              "<style scoped>\n",
              "    .dataframe tbody tr th:only-of-type {\n",
              "        vertical-align: middle;\n",
              "    }\n",
              "\n",
              "    .dataframe tbody tr th {\n",
              "        vertical-align: top;\n",
              "    }\n",
              "\n",
              "    .dataframe thead tr th {\n",
              "        text-align: left;\n",
              "    }\n",
              "</style>\n",
              "<table border=\"1\" class=\"dataframe\">\n",
              "  <thead>\n",
              "    <tr>\n",
              "      <th></th>\n",
              "      <th colspan=\"2\" halign=\"left\">#Param Gates 6</th>\n",
              "      <th colspan=\"2\" halign=\"left\">#Param Gates 12</th>\n",
              "      <th colspan=\"2\" halign=\"left\">#Param Gates 18</th>\n",
              "      <th colspan=\"2\" halign=\"left\">#Param Gates 24</th>\n",
              "      <th colspan=\"2\" halign=\"left\">#Param Gates 30</th>\n",
              "    </tr>\n",
              "    <tr>\n",
              "      <th></th>\n",
              "      <th>Loss</th>\n",
              "      <th>Time(second)</th>\n",
              "      <th>Loss</th>\n",
              "      <th>Time(second)</th>\n",
              "      <th>Loss</th>\n",
              "      <th>Time(second)</th>\n",
              "      <th>Loss</th>\n",
              "      <th>Time(second)</th>\n",
              "      <th>Loss</th>\n",
              "      <th>Time(second)</th>\n",
              "    </tr>\n",
              "  </thead>\n",
              "  <tbody>\n",
              "    <tr>\n",
              "      <th>Discrete Parameter Shift</th>\n",
              "      <td>3.15e+05</td>\n",
              "      <td>16.80</td>\n",
              "      <td>2.86e+05</td>\n",
              "      <td>52.60</td>\n",
              "      <td>2.33e+05</td>\n",
              "      <td>107.75</td>\n",
              "      <td>1.94e+05</td>\n",
              "      <td>184.30</td>\n",
              "      <td>2.18e+05</td>\n",
              "      <td>275.78</td>\n",
              "    </tr>\n",
              "    <tr>\n",
              "      <th>Discrete Finite Difference</th>\n",
              "      <td>3.15e+05</td>\n",
              "      <td>16.39</td>\n",
              "      <td>2.86e+05</td>\n",
              "      <td>51.06</td>\n",
              "      <td>2.33e+05</td>\n",
              "      <td>107.18</td>\n",
              "      <td>1.94e+05</td>\n",
              "      <td>186.64</td>\n",
              "      <td>2.18e+05</td>\n",
              "      <td>276.80</td>\n",
              "    </tr>\n",
              "    <tr>\n",
              "      <th>Discrete QNG</th>\n",
              "      <td>3.11e+05</td>\n",
              "      <td>18.33</td>\n",
              "      <td>2.87e+05</td>\n",
              "      <td>60.86</td>\n",
              "      <td>2.41e+05</td>\n",
              "      <td>127.30</td>\n",
              "      <td>1.90e+05</td>\n",
              "      <td>212.26</td>\n",
              "      <td>2.18e+05</td>\n",
              "      <td>322.24</td>\n",
              "    </tr>\n",
              "    <tr>\n",
              "      <th>Discrete Newton Gradient</th>\n",
              "      <td>5.99e+05</td>\n",
              "      <td>25.42</td>\n",
              "      <td>5.71e+05</td>\n",
              "      <td>83.16</td>\n",
              "      <td>5.42e+05</td>\n",
              "      <td>174.87</td>\n",
              "      <td>4.05e+05</td>\n",
              "      <td>300.66</td>\n",
              "      <td>4.44e+05</td>\n",
              "      <td>454.66</td>\n",
              "    </tr>\n",
              "  </tbody>\n",
              "</table>\n",
              "</div>\n",
              "      <button class=\"colab-df-convert\" onclick=\"convertToInteractive('df-e53156b1-0993-4335-b066-19072bda5260')\"\n",
              "              title=\"Convert this dataframe to an interactive table.\"\n",
              "              style=\"display:none;\">\n",
              "        \n",
              "  <svg xmlns=\"http://www.w3.org/2000/svg\" height=\"24px\"viewBox=\"0 0 24 24\"\n",
              "       width=\"24px\">\n",
              "    <path d=\"M0 0h24v24H0V0z\" fill=\"none\"/>\n",
              "    <path d=\"M18.56 5.44l.94 2.06.94-2.06 2.06-.94-2.06-.94-.94-2.06-.94 2.06-2.06.94zm-11 1L8.5 8.5l.94-2.06 2.06-.94-2.06-.94L8.5 2.5l-.94 2.06-2.06.94zm10 10l.94 2.06.94-2.06 2.06-.94-2.06-.94-.94-2.06-.94 2.06-2.06.94z\"/><path d=\"M17.41 7.96l-1.37-1.37c-.4-.4-.92-.59-1.43-.59-.52 0-1.04.2-1.43.59L10.3 9.45l-7.72 7.72c-.78.78-.78 2.05 0 2.83L4 21.41c.39.39.9.59 1.41.59.51 0 1.02-.2 1.41-.59l7.78-7.78 2.81-2.81c.8-.78.8-2.07 0-2.86zM5.41 20L4 18.59l7.72-7.72 1.47 1.35L5.41 20z\"/>\n",
              "  </svg>\n",
              "      </button>\n",
              "      \n",
              "  <style>\n",
              "    .colab-df-container {\n",
              "      display:flex;\n",
              "      flex-wrap:wrap;\n",
              "      gap: 12px;\n",
              "    }\n",
              "\n",
              "    .colab-df-convert {\n",
              "      background-color: #E8F0FE;\n",
              "      border: none;\n",
              "      border-radius: 50%;\n",
              "      cursor: pointer;\n",
              "      display: none;\n",
              "      fill: #1967D2;\n",
              "      height: 32px;\n",
              "      padding: 0 0 0 0;\n",
              "      width: 32px;\n",
              "    }\n",
              "\n",
              "    .colab-df-convert:hover {\n",
              "      background-color: #E2EBFA;\n",
              "      box-shadow: 0px 1px 2px rgba(60, 64, 67, 0.3), 0px 1px 3px 1px rgba(60, 64, 67, 0.15);\n",
              "      fill: #174EA6;\n",
              "    }\n",
              "\n",
              "    [theme=dark] .colab-df-convert {\n",
              "      background-color: #3B4455;\n",
              "      fill: #D2E3FC;\n",
              "    }\n",
              "\n",
              "    [theme=dark] .colab-df-convert:hover {\n",
              "      background-color: #434B5C;\n",
              "      box-shadow: 0px 1px 3px 1px rgba(0, 0, 0, 0.15);\n",
              "      filter: drop-shadow(0px 1px 2px rgba(0, 0, 0, 0.3));\n",
              "      fill: #FFFFFF;\n",
              "    }\n",
              "  </style>\n",
              "\n",
              "      <script>\n",
              "        const buttonEl =\n",
              "          document.querySelector('#df-e53156b1-0993-4335-b066-19072bda5260 button.colab-df-convert');\n",
              "        buttonEl.style.display =\n",
              "          google.colab.kernel.accessAllowed ? 'block' : 'none';\n",
              "\n",
              "        async function convertToInteractive(key) {\n",
              "          const element = document.querySelector('#df-e53156b1-0993-4335-b066-19072bda5260');\n",
              "          const dataTable =\n",
              "            await google.colab.kernel.invokeFunction('convertToInteractive',\n",
              "                                                     [key], {});\n",
              "          if (!dataTable) return;\n",
              "\n",
              "          const docLinkHtml = 'Like what you see? Visit the ' +\n",
              "            '<a target=\"_blank\" href=https://colab.research.google.com/notebooks/data_table.ipynb>data table notebook</a>'\n",
              "            + ' to learn more about interactive tables.';\n",
              "          element.innerHTML = '';\n",
              "          dataTable['output_type'] = 'display_data';\n",
              "          await google.colab.output.renderOutput(dataTable, element);\n",
              "          const docLink = document.createElement('div');\n",
              "          docLink.innerHTML = docLinkHtml;\n",
              "          element.appendChild(docLink);\n",
              "        }\n",
              "      </script>\n",
              "    </div>\n",
              "  </div>\n",
              "  "
            ]
          },
          "metadata": {}
        },
        {
          "output_type": "stream",
          "name": "stdout",
          "text": [
            "\n",
            "\n",
            "\n",
            "\n",
            "\u001b[1mKnapsack\u001b[0m\n"
          ]
        },
        {
          "output_type": "display_data",
          "data": {
            "text/plain": [
              "                           #Param Gates 6              #Param Gates 12  \\\n",
              "                                     Loss Time(second)            Loss   \n",
              "Discrete Parameter Shift         2.24e+00        23.57       -2.07e-01   \n",
              "Discrete Finite Difference       2.24e+00        17.65       -2.07e-01   \n",
              "Discrete QNG                     2.08e+00        19.37       -1.14e-01   \n",
              "Discrete Newton Gradient         1.55e+01        27.24        1.58e+01   \n",
              "\n",
              "                                        #Param Gates 18               \\\n",
              "                           Time(second)            Loss Time(second)   \n",
              "Discrete Parameter Shift          54.33        1.88e-01       111.78   \n",
              "Discrete Finite Difference        54.21        1.88e-01       110.70   \n",
              "Discrete QNG                      60.66       -4.35e-01       126.73   \n",
              "Discrete Newton Gradient          85.97        1.18e+01       177.14   \n",
              "\n",
              "                           #Param Gates 24              #Param Gates 30  \\\n",
              "                                      Loss Time(second)            Loss   \n",
              "Discrete Parameter Shift         -9.97e-01       188.25       -1.78e+00   \n",
              "Discrete Finite Difference       -9.97e-01       187.34       -1.78e+00   \n",
              "Discrete QNG                     -9.39e-01       216.03       -1.76e+00   \n",
              "Discrete Newton Gradient          4.67e+00       300.40        6.57e+00   \n",
              "\n",
              "                                         \n",
              "                           Time(second)  \n",
              "Discrete Parameter Shift         281.85  \n",
              "Discrete Finite Difference       278.33  \n",
              "Discrete QNG                     324.81  \n",
              "Discrete Newton Gradient         459.24  "
            ],
            "text/html": [
              "\n",
              "  <div id=\"df-f70d7c72-d2c5-4a36-894e-85cdf6d53686\">\n",
              "    <div class=\"colab-df-container\">\n",
              "      <div>\n",
              "<style scoped>\n",
              "    .dataframe tbody tr th:only-of-type {\n",
              "        vertical-align: middle;\n",
              "    }\n",
              "\n",
              "    .dataframe tbody tr th {\n",
              "        vertical-align: top;\n",
              "    }\n",
              "\n",
              "    .dataframe thead tr th {\n",
              "        text-align: left;\n",
              "    }\n",
              "</style>\n",
              "<table border=\"1\" class=\"dataframe\">\n",
              "  <thead>\n",
              "    <tr>\n",
              "      <th></th>\n",
              "      <th colspan=\"2\" halign=\"left\">#Param Gates 6</th>\n",
              "      <th colspan=\"2\" halign=\"left\">#Param Gates 12</th>\n",
              "      <th colspan=\"2\" halign=\"left\">#Param Gates 18</th>\n",
              "      <th colspan=\"2\" halign=\"left\">#Param Gates 24</th>\n",
              "      <th colspan=\"2\" halign=\"left\">#Param Gates 30</th>\n",
              "    </tr>\n",
              "    <tr>\n",
              "      <th></th>\n",
              "      <th>Loss</th>\n",
              "      <th>Time(second)</th>\n",
              "      <th>Loss</th>\n",
              "      <th>Time(second)</th>\n",
              "      <th>Loss</th>\n",
              "      <th>Time(second)</th>\n",
              "      <th>Loss</th>\n",
              "      <th>Time(second)</th>\n",
              "      <th>Loss</th>\n",
              "      <th>Time(second)</th>\n",
              "    </tr>\n",
              "  </thead>\n",
              "  <tbody>\n",
              "    <tr>\n",
              "      <th>Discrete Parameter Shift</th>\n",
              "      <td>2.24e+00</td>\n",
              "      <td>23.57</td>\n",
              "      <td>-2.07e-01</td>\n",
              "      <td>54.33</td>\n",
              "      <td>1.88e-01</td>\n",
              "      <td>111.78</td>\n",
              "      <td>-9.97e-01</td>\n",
              "      <td>188.25</td>\n",
              "      <td>-1.78e+00</td>\n",
              "      <td>281.85</td>\n",
              "    </tr>\n",
              "    <tr>\n",
              "      <th>Discrete Finite Difference</th>\n",
              "      <td>2.24e+00</td>\n",
              "      <td>17.65</td>\n",
              "      <td>-2.07e-01</td>\n",
              "      <td>54.21</td>\n",
              "      <td>1.88e-01</td>\n",
              "      <td>110.70</td>\n",
              "      <td>-9.97e-01</td>\n",
              "      <td>187.34</td>\n",
              "      <td>-1.78e+00</td>\n",
              "      <td>278.33</td>\n",
              "    </tr>\n",
              "    <tr>\n",
              "      <th>Discrete QNG</th>\n",
              "      <td>2.08e+00</td>\n",
              "      <td>19.37</td>\n",
              "      <td>-1.14e-01</td>\n",
              "      <td>60.66</td>\n",
              "      <td>-4.35e-01</td>\n",
              "      <td>126.73</td>\n",
              "      <td>-9.39e-01</td>\n",
              "      <td>216.03</td>\n",
              "      <td>-1.76e+00</td>\n",
              "      <td>324.81</td>\n",
              "    </tr>\n",
              "    <tr>\n",
              "      <th>Discrete Newton Gradient</th>\n",
              "      <td>1.55e+01</td>\n",
              "      <td>27.24</td>\n",
              "      <td>1.58e+01</td>\n",
              "      <td>85.97</td>\n",
              "      <td>1.18e+01</td>\n",
              "      <td>177.14</td>\n",
              "      <td>4.67e+00</td>\n",
              "      <td>300.40</td>\n",
              "      <td>6.57e+00</td>\n",
              "      <td>459.24</td>\n",
              "    </tr>\n",
              "  </tbody>\n",
              "</table>\n",
              "</div>\n",
              "      <button class=\"colab-df-convert\" onclick=\"convertToInteractive('df-f70d7c72-d2c5-4a36-894e-85cdf6d53686')\"\n",
              "              title=\"Convert this dataframe to an interactive table.\"\n",
              "              style=\"display:none;\">\n",
              "        \n",
              "  <svg xmlns=\"http://www.w3.org/2000/svg\" height=\"24px\"viewBox=\"0 0 24 24\"\n",
              "       width=\"24px\">\n",
              "    <path d=\"M0 0h24v24H0V0z\" fill=\"none\"/>\n",
              "    <path d=\"M18.56 5.44l.94 2.06.94-2.06 2.06-.94-2.06-.94-.94-2.06-.94 2.06-2.06.94zm-11 1L8.5 8.5l.94-2.06 2.06-.94-2.06-.94L8.5 2.5l-.94 2.06-2.06.94zm10 10l.94 2.06.94-2.06 2.06-.94-2.06-.94-.94-2.06-.94 2.06-2.06.94z\"/><path d=\"M17.41 7.96l-1.37-1.37c-.4-.4-.92-.59-1.43-.59-.52 0-1.04.2-1.43.59L10.3 9.45l-7.72 7.72c-.78.78-.78 2.05 0 2.83L4 21.41c.39.39.9.59 1.41.59.51 0 1.02-.2 1.41-.59l7.78-7.78 2.81-2.81c.8-.78.8-2.07 0-2.86zM5.41 20L4 18.59l7.72-7.72 1.47 1.35L5.41 20z\"/>\n",
              "  </svg>\n",
              "      </button>\n",
              "      \n",
              "  <style>\n",
              "    .colab-df-container {\n",
              "      display:flex;\n",
              "      flex-wrap:wrap;\n",
              "      gap: 12px;\n",
              "    }\n",
              "\n",
              "    .colab-df-convert {\n",
              "      background-color: #E8F0FE;\n",
              "      border: none;\n",
              "      border-radius: 50%;\n",
              "      cursor: pointer;\n",
              "      display: none;\n",
              "      fill: #1967D2;\n",
              "      height: 32px;\n",
              "      padding: 0 0 0 0;\n",
              "      width: 32px;\n",
              "    }\n",
              "\n",
              "    .colab-df-convert:hover {\n",
              "      background-color: #E2EBFA;\n",
              "      box-shadow: 0px 1px 2px rgba(60, 64, 67, 0.3), 0px 1px 3px 1px rgba(60, 64, 67, 0.15);\n",
              "      fill: #174EA6;\n",
              "    }\n",
              "\n",
              "    [theme=dark] .colab-df-convert {\n",
              "      background-color: #3B4455;\n",
              "      fill: #D2E3FC;\n",
              "    }\n",
              "\n",
              "    [theme=dark] .colab-df-convert:hover {\n",
              "      background-color: #434B5C;\n",
              "      box-shadow: 0px 1px 3px 1px rgba(0, 0, 0, 0.15);\n",
              "      filter: drop-shadow(0px 1px 2px rgba(0, 0, 0, 0.3));\n",
              "      fill: #FFFFFF;\n",
              "    }\n",
              "  </style>\n",
              "\n",
              "      <script>\n",
              "        const buttonEl =\n",
              "          document.querySelector('#df-f70d7c72-d2c5-4a36-894e-85cdf6d53686 button.colab-df-convert');\n",
              "        buttonEl.style.display =\n",
              "          google.colab.kernel.accessAllowed ? 'block' : 'none';\n",
              "\n",
              "        async function convertToInteractive(key) {\n",
              "          const element = document.querySelector('#df-f70d7c72-d2c5-4a36-894e-85cdf6d53686');\n",
              "          const dataTable =\n",
              "            await google.colab.kernel.invokeFunction('convertToInteractive',\n",
              "                                                     [key], {});\n",
              "          if (!dataTable) return;\n",
              "\n",
              "          const docLinkHtml = 'Like what you see? Visit the ' +\n",
              "            '<a target=\"_blank\" href=https://colab.research.google.com/notebooks/data_table.ipynb>data table notebook</a>'\n",
              "            + ' to learn more about interactive tables.';\n",
              "          element.innerHTML = '';\n",
              "          dataTable['output_type'] = 'display_data';\n",
              "          await google.colab.output.renderOutput(dataTable, element);\n",
              "          const docLink = document.createElement('div');\n",
              "          docLink.innerHTML = docLinkHtml;\n",
              "          element.appendChild(docLink);\n",
              "        }\n",
              "      </script>\n",
              "    </div>\n",
              "  </div>\n",
              "  "
            ]
          },
          "metadata": {}
        },
        {
          "output_type": "stream",
          "name": "stdout",
          "text": [
            "\n",
            "\n",
            "\n",
            "\n"
          ]
        }
      ]
    },
    {
      "cell_type": "markdown",
      "metadata": {
        "id": "Qd3EUUWU4RZH"
      },
      "source": [
        "## **Continuous-variable**\n",
        "Using $S(0.49, 0.2)D(0.395, 0.5)$ as target gate"
      ]
    },
    {
      "cell_type": "code",
      "metadata": {
        "id": "rhUwygIHyCXw"
      },
      "source": [
        "# num_wires_cv = 1\n",
        "# dev_cv = qml.device(\"strawberryfields.fock\", wires=num_wires_cv, cutoff_dim=20)"
      ],
      "execution_count": null,
      "outputs": []
    },
    {
      "cell_type": "code",
      "metadata": {
        "id": "rE2AI_k9Nc6t"
      },
      "source": [
        "# def problem_cv():\n",
        "#     qml.Squeezing(0.49, 0.2, wires=0)\n",
        "#     qml.Displacement(0.395, 0.5, wires=0)"
      ],
      "execution_count": null,
      "outputs": []
    },
    {
      "cell_type": "markdown",
      "metadata": {
        "id": "OJ26U7JkNe9u"
      },
      "source": [
        "Ansatz for estimating target gate"
      ]
    },
    {
      "cell_type": "code",
      "metadata": {
        "id": "G0VyNO2M0XlK"
      },
      "source": [
        "# def ansatz_cv(var):\n",
        "#     for wire in range(num_wires_cv):\n",
        "#       qml.Rotation(var[0+wire], wires=wire)\n",
        "#       qml.Squeezing(var[1+wire], 0.0, wires=wire)\n",
        "#       qml.Displacement(var[2+wire], 0.0, wires=wire)"
      ],
      "execution_count": null,
      "outputs": []
    },
    {
      "cell_type": "markdown",
      "metadata": {
        "id": "m8jwLps9NkOn"
      },
      "source": [
        "Objective function <br> \n",
        "1. initial state is  $|0⟩$\n",
        "2. apply target gate $U(r, \\theta)|0⟩$ <br> \n",
        "photon number expectation value $⟨n⟩$\n",
        "3. apply ansatz $A(s, \\alpha)$  and $U(r, \\theta)$<br> \n",
        "photon number expectation value $A(s, \\alpha)U(r, \\theta)|0⟩ = ⟨n'⟩$\n",
        "4. if $⟨n'⟩ = 0$ then  $A(s, \\alpha) = U^\\dagger(r, \\theta)$\n",
        "5. so, we will minimize $⟨n'⟩$ to target $0$ to make $A(s, \\alpha) = U^\\dagger(r, \\theta)$\n"
      ]
    },
    {
      "cell_type": "code",
      "metadata": {
        "id": "-sht3m-iNgiA"
      },
      "source": [
        "# @qml.qnode(dev_cv)\n",
        "# def cost_function_cv(var):\n",
        "#     for v in var:\n",
        "#       ansatz_cv(v)\n",
        "\n",
        "#     problem_cv()\n",
        "\n",
        "#     return qml.expval(qml.NumberOperator(wires=0))"
      ],
      "execution_count": null,
      "outputs": []
    },
    {
      "cell_type": "markdown",
      "metadata": {
        "id": "UgKEPf-KP5X_"
      },
      "source": [
        "Probability distribution of target gate"
      ]
    },
    {
      "cell_type": "code",
      "metadata": {
        "id": "4qg3hmWyP4f5"
      },
      "source": [
        "# @qml.qnode(dev_cv)\n",
        "# def target_cv():\n",
        "#     problem_cv()\n",
        "\n",
        "#     return qml.probs(wires=0) #qml.NumberOperator(wires=0)"
      ],
      "execution_count": null,
      "outputs": []
    },
    {
      "cell_type": "markdown",
      "metadata": {
        "id": "dobPY6LFQB1z"
      },
      "source": [
        "Probability distribution of estimated gate"
      ]
    },
    {
      "cell_type": "code",
      "metadata": {
        "id": "hcbCfAx_P3cB"
      },
      "source": [
        "# @qml.qnode(dev_cv)\n",
        "# def prediction_cv(var):\n",
        "#     for v in var:\n",
        "#       ansatz_cv(v)\n",
        "    \n",
        "#     return qml.probs(wires=0)"
      ],
      "execution_count": null,
      "outputs": []
    },
    {
      "cell_type": "code",
      "metadata": {
        "id": "WQ-9whXm02OC"
      },
      "source": [
        "# # def MAE_cv(var):\n",
        "# #   pred = prediction_cv(var)\n",
        "# #   y = target_cv()\n",
        "# #   return sum(abs(pred-y))/len(y)\n",
        "\n",
        "# def similarity(var):\n",
        "#   pred = prediction_cv(var)\n",
        "#   y = target_cv()\n",
        "#   cos_sim = np.dot(pred, y)/(np.linalg.norm(pred)*np.linalg.norm(y))\n",
        "#   return 1-cos_sim"
      ],
      "execution_count": null,
      "outputs": []
    },
    {
      "cell_type": "code",
      "metadata": {
        "id": "zSniviDXDHiT"
      },
      "source": [
        "# np.random.seed(1)\n",
        "# num_layers_cv = 1\n",
        "# var_init_cv = 0.05*np.random.randn(num_layers_cv, 3*num_wires_cv)"
      ],
      "execution_count": null,
      "outputs": []
    },
    {
      "cell_type": "code",
      "metadata": {
        "id": "coZur5gPFLYW",
        "colab": {
          "base_uri": "https://localhost:8080/"
        },
        "outputId": "455d9933-8e88-423b-9b79-37f89801b7e9"
      },
      "source": [
        "# print(\"Initial cost: \", cost_function_cv(var_init_cv))"
      ],
      "execution_count": null,
      "outputs": [
        {
          "output_type": "stream",
          "name": "stdout",
          "text": [
            "Initial cost:  0.3729436784944745\n"
          ]
        }
      ]
    },
    {
      "cell_type": "markdown",
      "metadata": {
        "id": "9RBeog4WQJM2"
      },
      "source": [
        "### Parameter shift rule"
      ]
    },
    {
      "cell_type": "code",
      "metadata": {
        "id": "eYEiS55mCNhU",
        "colab": {
          "base_uri": "https://localhost:8080/"
        },
        "outputId": "4a46159b-9163-4e5e-a9a7-169f8ab988c2"
      },
      "source": [
        "# parameter_shift_cv_time_i = []\n",
        "# start = time.time()\n",
        "\n",
        "# opt_cv = GradientDescentOptimizer(0.01)\n",
        "\n",
        "# s = 0.1\n",
        "# alpha = np.pi/2\n",
        "\n",
        "# var_cv = var_init_cv.copy()\n",
        "# loss_plot_cv = []\n",
        "# break_count = 0\n",
        "\n",
        "\n",
        "# for it in range(1201):# while True:\n",
        "#     var_cv, _cost = opt.step_and_cost(lambda v: similarity(v), var_cv, \n",
        "#                                    grad_fn=lambda var_cv: parameter_shift_cv(cost_function_cv, var_cv)) \n",
        "    \n",
        "#     loss_plot_cv.append(_cost)\n",
        "\n",
        "#     if it%100==0:\n",
        "#       print(\"Iter: {:5d} | Cost: {:0.11f} \".format(it, _cost))\n",
        "    \n",
        "#     end = time.time()\n",
        "#     t = end - start\n",
        "#     parameter_shift_cv_time_i.append(t)"
      ],
      "execution_count": null,
      "outputs": [
        {
          "output_type": "stream",
          "name": "stdout",
          "text": [
            "Iter:     0 | Cost: 0.04027606451 \n",
            "Iter:   100 | Cost: 0.03473282990 \n",
            "Iter:   200 | Cost: 0.03154509273 \n",
            "Iter:   300 | Cost: 0.02942025028 \n",
            "Iter:   400 | Cost: 0.02835710713 \n",
            "Iter:   500 | Cost: 0.02786775357 \n",
            "Iter:   600 | Cost: 0.02764699861 \n",
            "Iter:   700 | Cost: 0.02754780017 \n",
            "Iter:   800 | Cost: 0.02750323763 \n",
            "Iter:   900 | Cost: 0.02748321363 \n",
            "Iter:  1000 | Cost: 0.02747421387 \n",
            "Iter:  1100 | Cost: 0.02747016841 \n",
            "Iter:  1200 | Cost: 0.02746834981 \n"
          ]
        }
      ]
    },
    {
      "cell_type": "markdown",
      "metadata": {
        "id": "lWfinCpHqJYm"
      },
      "source": [
        "### Finite difference"
      ]
    },
    {
      "cell_type": "code",
      "metadata": {
        "id": "PY3y3KcISHWd",
        "colab": {
          "base_uri": "https://localhost:8080/"
        },
        "outputId": "b5ffe9ed-e71f-4451-838b-e2a27254e0d7"
      },
      "source": [
        "# finite_cv_time_i = []\n",
        "# start = time.time()\n",
        "\n",
        "# opt_cv = GradientDescentOptimizer(0.01)\n",
        "\n",
        "# s = 0.1\n",
        "# alpha = np.pi/2\n",
        "\n",
        "# var_cv_fd = var_init_cv.copy()\n",
        "# loss_plot_cv_fd = []\n",
        "# break_count = 0\n",
        "\n",
        "\n",
        "# for it in range(1201):# while True:\n",
        "#     var_cv_fd, _cost = opt.step_and_cost(lambda v: similarity(v), var_cv_fd, \n",
        "#                                    grad_fn=lambda var_cv_fd: finite_difference_cv(cost_function_cv, var_cv_fd)) \n",
        "    \n",
        "#     loss_plot_cv_fd.append(_cost)\n",
        "\n",
        "#     if it%100==0:\n",
        "#       print(\"Iter: {:5d} | Cost: {:0.11f} \".format(it, _cost))\n",
        "    \n",
        "#     end = time.time()\n",
        "#     t = end - start\n",
        "#     finite_cv_time_i.append(t)"
      ],
      "execution_count": null,
      "outputs": [
        {
          "output_type": "stream",
          "name": "stdout",
          "text": [
            "Iter:     0 | Cost: 0.04027606451 \n",
            "Iter:   100 | Cost: 0.03470992524 \n",
            "Iter:   200 | Cost: 0.03153652415 \n",
            "Iter:   300 | Cost: 0.02941853128 \n",
            "Iter:   400 | Cost: 0.02835686836 \n",
            "Iter:   500 | Cost: 0.02786775654 \n",
            "Iter:   600 | Cost: 0.02764702965 \n",
            "Iter:   700 | Cost: 0.02754783026 \n",
            "Iter:   800 | Cost: 0.02750326512 \n",
            "Iter:   900 | Cost: 0.02748323960 \n",
            "Iter:  1000 | Cost: 0.02747423909 \n",
            "Iter:  1100 | Cost: 0.02747019328 \n",
            "Iter:  1200 | Cost: 0.02746837453 \n"
          ]
        }
      ]
    },
    {
      "cell_type": "code",
      "metadata": {
        "id": "9SbqzZoX8g-m"
      },
      "source": [
        "# prediction circuit\n",
        "@qml.qnode(dev)\n",
        "def forward(var):\n",
        "    for v in var:\n",
        "      ansatz(v)\n",
        "    return qml.probs(wires=[0])  # get prediction probability"
      ],
      "execution_count": null,
      "outputs": []
    },
    {
      "cell_type": "code",
      "metadata": {
        "id": "fh1V45aW8jQw"
      },
      "source": [
        "# problem gate \n",
        "@qml.qnode(dev)\n",
        "def target():\n",
        "    qml.U3(1.44, 0.8, 2.1, wires=0)\n",
        "    return qml.probs(wires=[0]) "
      ],
      "execution_count": null,
      "outputs": []
    },
    {
      "cell_type": "code",
      "metadata": {
        "id": "Lzo1yz688oyF"
      },
      "source": [
        "def MAE_classical(var):\n",
        "  pred = forward(var)[0]\n",
        "  y = target()[0]\n",
        "  return abs(pred-y)"
      ],
      "execution_count": null,
      "outputs": []
    },
    {
      "cell_type": "code",
      "metadata": {
        "id": "CHPAeNaoMz6s",
        "colab": {
          "base_uri": "https://localhost:8080/"
        },
        "outputId": "9da792fe-727b-4110-cb02-958f1a2fe26c"
      },
      "source": [
        "parameter_shift_time = []\n",
        "loss_plot_ni = []\n",
        "for n in range(1, 11, 1):\n",
        "  np.random.seed(1)\n",
        "  num_layers = n\n",
        "  var_init = 0.05*np.random.randn(num_layers, 3*num_wires)\n",
        "  start = time.time()\n",
        "\n",
        "  opt = GradientDescentOptimizer(0.01)\n",
        "\n",
        "  var = var_init.copy()\n",
        "\n",
        "  for it in range(101):# while True:\n",
        "      var, _cost = opt.step_and_cost(lambda v: MAE_classical(v), var, \n",
        "                                    grad_fn=lambda var: parameter_shift(cost_function, var)) \n",
        "      \n",
        "\n",
        "      # if it%100==0:\n",
        "      #   print(\"Iter: {:5d} | Cost: {:0.11f} \".format(it, _cost))\n",
        "  loss_plot_ni.append(_cost)\n",
        "  end = time.time()\n",
        "  t = end - start\n",
        "  parameter_shift_time.append(t)\n",
        "  print(\"#Layers: \", n, t)"
      ],
      "execution_count": null,
      "outputs": [
        {
          "output_type": "stream",
          "name": "stdout",
          "text": [
            "#Layers:  1 3.9659080505371094\n",
            "#Layers:  2 10.697943210601807\n",
            "#Layers:  3 20.934635162353516\n",
            "#Layers:  4 34.22317910194397\n",
            "#Layers:  5 50.84506034851074\n",
            "#Layers:  6 69.27761483192444\n",
            "#Layers:  7 92.78765082359314\n",
            "#Layers:  8 120.52166604995728\n",
            "#Layers:  9 147.30260038375854\n",
            "#Layers:  10 182.28337121009827\n"
          ]
        }
      ]
    },
    {
      "cell_type": "code",
      "metadata": {
        "id": "GKdUgkHQ5Ajl",
        "colab": {
          "base_uri": "https://localhost:8080/"
        },
        "outputId": "97d23a51-5d57-4495-9c17-472dcd581dad"
      },
      "source": [
        "finite_time = []\n",
        "loss_plot_fd_ni = []\n",
        "for n in range(1, 11, 1):\n",
        "  np.random.seed(1)\n",
        "  num_layers = n\n",
        "  var_init = 0.05*np.random.randn(num_layers, 3*num_wires)\n",
        "  start = time.time()\n",
        "\n",
        "  opt = GradientDescentOptimizer(0.01)\n",
        "\n",
        "  var_fd = var_init.copy()\n",
        "\n",
        "  for it in range(101):# while True:\n",
        "      var_fd, _cost = opt.step_and_cost(lambda v: MAE_classical(v), var_fd, \n",
        "                                    grad_fn=lambda var_fd: finite_difference(cost_function, var_fd)) \n",
        "      \n",
        "\n",
        "      # if it%100==0:\n",
        "      #   print(\"Iter: {:5d} | Cost: {:0.11f} \".format(it, _cost))\n",
        "  loss_plot_fd_ni.append(_cost)\n",
        "  end = time.time()\n",
        "  t = end - start\n",
        "  finite_time.append(t)\n",
        "  print(\"#Layers: \", n, t)"
      ],
      "execution_count": null,
      "outputs": [
        {
          "output_type": "stream",
          "name": "stdout",
          "text": [
            "#Layers:  1 3.859750509262085\n",
            "#Layers:  2 10.700612545013428\n",
            "#Layers:  3 20.608596324920654\n",
            "#Layers:  4 34.3827166557312\n",
            "#Layers:  5 50.757229804992676\n",
            "#Layers:  6 71.34112453460693\n",
            "#Layers:  7 94.03444647789001\n",
            "#Layers:  8 120.77067041397095\n",
            "#Layers:  9 150.18491506576538\n",
            "#Layers:  10 180.93780851364136\n"
          ]
        }
      ]
    },
    {
      "cell_type": "code",
      "metadata": {
        "id": "Hwz-X1ib6BM9",
        "colab": {
          "base_uri": "https://localhost:8080/"
        },
        "outputId": "e148da60-833a-4fe8-96d2-8bf662814b95"
      },
      "source": [
        "lcu_time = []\n",
        "loss_plot_lcu_ni  = []\n",
        "for n in range(1, 11, 1):\n",
        "  start = time.time()\n",
        "\n",
        "  np.random.seed(1)\n",
        "\n",
        "  num_layers = n\n",
        "\n",
        "  ansatz_lcu = ['H', 'RX', 'RY', 'RZ']*num_layers + ['Problem']\n",
        "  wires_lcu = [0, 0, 0, 0]*num_layers + [0]\n",
        "\n",
        "  H = ['Projector1']\n",
        "  ham_wires = [0]\n",
        "  ham_coeffs = [1.0]\n",
        "\n",
        "  params_init= 0.05*np.random.randn(1, 3*num_wires*num_layers)[0]\n",
        "\n",
        "  opt = GradientDescentOptimizer(0.01)\n",
        "\n",
        "  var_lcu = params_init.copy()\n",
        "  \n",
        "\n",
        "  for it in range(101):# while True:\n",
        "      var_lcu, _cost = opt.step_and_cost(lambda v: MAE_lcu(ansatz_lcu, v, wires_lcu), var_lcu, \n",
        "                                    grad_fn=lambda var_lcu: lcu_gradients(ansatz_lcu, H, ham_wires, ham_coeffs, var_lcu, wires_lcu)) \n",
        "      \n",
        "      # if it%100==0:\n",
        "      #   print(\"Iter: {:5d} | Cost: {:0.11f} \".format(it, _cost))\n",
        "  loss_plot_lcu_ni.append(_cost)\n",
        "  end = time.time()\n",
        "  t = end - start\n",
        "  lcu_time.append(t)\n",
        "  print(\"#Layers: \", n, t)"
      ],
      "execution_count": null,
      "outputs": [
        {
          "output_type": "stream",
          "name": "stdout",
          "text": [
            "#Layers:  1 4.7293219566345215\n",
            "#Layers:  2 12.099226236343384\n",
            "#Layers:  3 22.857905864715576\n",
            "#Layers:  4 37.55072641372681\n",
            "#Layers:  5 55.7268443107605\n",
            "#Layers:  6 76.93664765357971\n",
            "#Layers:  7 99.88194823265076\n",
            "#Layers:  8 125.4104573726654\n",
            "#Layers:  9 159.28047132492065\n",
            "#Layers:  10 191.00392651557922\n"
          ]
        }
      ]
    },
    {
      "cell_type": "code",
      "metadata": {
        "id": "JMng7DJ16zc6",
        "colab": {
          "base_uri": "https://localhost:8080/"
        },
        "outputId": "763c44c8-4ea7-4b0a-a52d-b23a7a108455"
      },
      "source": [
        "qng_time = []\n",
        "loss_plot_qng_ni = []\n",
        "for n in range(1, 11, 1):\n",
        "  np.random.seed(1)\n",
        "  num_layers = n\n",
        "  var_init = 0.05*np.random.randn(num_layers, 3*num_wires)\n",
        "  start = time.time()\n",
        "\n",
        "  opt = qml.GradientDescentOptimizer(0.01)\n",
        "\n",
        "  var_qng = var_init.copy()\n",
        "  \n",
        "\n",
        "  for it in range(101):# while True:\n",
        "      var_qng, _cost = opt.step_and_cost(lambda v: MAE_classical(v), var_qng, \n",
        "                                    grad_fn=quantum_natural_gradient)\n",
        "      \n",
        "\n",
        "      # if it%100==0:\n",
        "      #   print(\"Iter: {:5d} | Cost: {:0.15f} \".format(it, _cost))\n",
        "  loss_plot_qng_ni.append(_cost)\n",
        "  end = time.time()\n",
        "  t = end - start\n",
        "  qng_time.append(t)\n",
        "  print(\"#Layers: \", n, t)"
      ],
      "execution_count": null,
      "outputs": [
        {
          "output_type": "stream",
          "name": "stdout",
          "text": [
            "#Layers:  1 5.107301950454712\n",
            "#Layers:  2 13.889134168624878\n",
            "#Layers:  3 27.006030082702637\n",
            "#Layers:  4 44.00483536720276\n",
            "#Layers:  5 64.67792749404907\n",
            "#Layers:  6 93.36684608459473\n",
            "#Layers:  7 123.70910930633545\n",
            "#Layers:  8 157.1264669895172\n",
            "#Layers:  9 197.5684859752655\n",
            "#Layers:  10 243.17781734466553\n"
          ]
        }
      ]
    },
    {
      "cell_type": "code",
      "metadata": {
        "cellView": "form",
        "id": "bVfqMFDMyevv"
      },
      "source": [
        "#@title \n",
        "s = np.pi/2\n",
        "\n",
        "def hessian_parameter_shift_term(qnode, params, i, j):\n",
        "    \n",
        "    shifted = params.copy()\n",
        "    \n",
        "    shifted[i, j] += 2*s\n",
        "    forward = qnode(shifted)  # forward evaluation\n",
        "\n",
        "    shifted[i, j] -= 2*s\n",
        "    center = qnode(shifted) # center evaluation\n",
        "    \n",
        "    shifted[i, j] -= 2*s\n",
        "    backward = qnode(shifted) # backward evaluation\n",
        "\n",
        "    return (1/4) * (forward - 2*center + backward)\n",
        "\n",
        "def hessian_matrix(qnode, params):\n",
        "    hessian_m = np.zeros_like((params))\n",
        "    for i in range(len(hessian_m)):\n",
        "        for j in range(len(hessian_m[0])):\n",
        "            hessian_m[i, j] += hessian_parameter_shift_term(qnode, params, i, j)\n",
        "    hessian = np.diag(hessian_m.flatten())\n",
        "    hessian[hessian == 0] = 1e-17\n",
        "    return hessian\n",
        "  \n",
        "def newton_gradient(qnode, params):\n",
        "  var = params.copy()\n",
        "  hessian = hessian_matrix(qnode, var)\n",
        "  grad = parameter_shift(qnode, var).flatten()\n",
        "  newton_grad = np.linalg.solve(hessian, grad)\n",
        "  return newton_grad"
      ],
      "execution_count": null,
      "outputs": []
    },
    {
      "cell_type": "code",
      "metadata": {
        "id": "9NSTgtnV7ebK",
        "colab": {
          "base_uri": "https://localhost:8080/"
        },
        "outputId": "b8932f0a-ff1c-49d6-d0dc-f8e901229f95"
      },
      "source": [
        "newton_time = []\n",
        "loss_plot_newton_ni = []\n",
        "for n in range(1, 11, 1):\n",
        "  np.random.seed(1)\n",
        "  num_layers = n\n",
        "  var_init = 0.05*np.random.randn(num_layers, 3*num_wires)\n",
        "  start = time.time()\n",
        "\n",
        "  opt = qml.GradientDescentOptimizer(0.01)\n",
        "\n",
        "  var_newton = var_init.copy()\n",
        "  \n",
        "  for it in range(101):# while True:\n",
        "      var_newton, _cost = opt.step_and_cost(lambda v: MAE_classical(v), var_newton, \n",
        "                                    grad_fn=lambda var: newton_gradient(cost_function, var))\n",
        "\n",
        "      # if it%100==0:\n",
        "      #   print(\"Iter: {:5d} | Cost: {:0.15f} \".format(it, _cost))\n",
        "  loss_plot_newton_ni.append(_cost)\n",
        "  end = time.time()\n",
        "  t = end - start\n",
        "  newton_time.append(t)\n",
        "  print(\"#Layers: \", n, t)"
      ],
      "execution_count": null,
      "outputs": [
        {
          "output_type": "stream",
          "name": "stdout",
          "text": [
            "#Layers:  1 8.94533920288086\n",
            "#Layers:  2 25.709367275238037\n",
            "#Layers:  3 50.28820991516113\n",
            "#Layers:  4 83.79406476020813\n",
            "#Layers:  5 123.50820112228394\n",
            "#Layers:  6 172.51438975334167\n",
            "#Layers:  7 231.82290840148926\n",
            "#Layers:  8 296.9955003261566\n",
            "#Layers:  9 369.7359764575958\n",
            "#Layers:  10 453.34644532203674\n"
          ]
        }
      ]
    },
    {
      "cell_type": "code",
      "metadata": {
        "colab": {
          "base_uri": "https://localhost:8080/"
        },
        "id": "mkz0ZnLGO5Lt",
        "outputId": "4929cab6-45de-40db-e9c1-a67c8b9e61c5"
      },
      "source": [
        "1+1"
      ],
      "execution_count": null,
      "outputs": [
        {
          "output_type": "execute_result",
          "data": {
            "text/plain": [
              "2"
            ]
          },
          "metadata": {},
          "execution_count": 58
        }
      ]
    },
    {
      "cell_type": "code",
      "metadata": {
        "id": "J003XWiQ8706",
        "colab": {
          "base_uri": "https://localhost:8080/"
        },
        "outputId": "8536b782-6671-48c2-eb8b-8274295108f9"
      },
      "source": [
        "parameter_shift_cv_time = []\n",
        "loss_plot_cv_ni = []\n",
        "for n in range(1, 11, 1):\n",
        "  np.random.seed(1)\n",
        "  num_layers_cv = n\n",
        "  var_init_cv = 0.05*np.random.randn(num_layers_cv, 3*num_wires_cv)\n",
        "  start = time.time()\n",
        "\n",
        "  opt_cv = GradientDescentOptimizer(0.01)\n",
        "\n",
        "  s = 0.1\n",
        "  alpha = np.pi/2\n",
        "\n",
        "  var_cv = var_init_cv.copy()\n",
        "  \n",
        "\n",
        "  for it in range(101):# while True:\n",
        "      var_cv, _cost = opt.step_and_cost(lambda v: cost_function_cv(v), var_cv, \n",
        "                                    grad_fn=lambda var_cv: parameter_shift_cv(cost_function_cv, var_cv)) \n",
        "      \n",
        "      \n",
        "\n",
        "      # if it%100==0:\n",
        "      #   print(\"Iter: {:5d} | Cost: {:0.11f} \".format(it, _cost))\n",
        "  loss_plot_cv_ni.append(_cost)\n",
        "  end = time.time()\n",
        "  t = end - start\n",
        "  parameter_shift_cv_time.append(t)\n",
        "  print(\"#Layers: \", n, t)"
      ],
      "execution_count": null,
      "outputs": [
        {
          "output_type": "stream",
          "name": "stdout",
          "text": [
            "#Layers:  1 1.7117252349853516\n",
            "#Layers:  2 3.8058886528015137\n",
            "#Layers:  3 7.098254680633545\n",
            "#Layers:  4 10.527237176895142\n",
            "#Layers:  5 15.062116622924805\n",
            "#Layers:  6 20.4202082157135\n",
            "#Layers:  7 26.180864810943604\n",
            "#Layers:  8 32.03048276901245\n",
            "#Layers:  9 39.70467972755432\n",
            "#Layers:  10 47.67228126525879\n"
          ]
        }
      ]
    },
    {
      "cell_type": "code",
      "metadata": {
        "id": "GG8sYlBG8vBJ"
      },
      "source": [
        "@qml.qnode(dev_cv)\n",
        "def forward_cv(var):\n",
        "    for v in var:\n",
        "      ansatz_cv(v)\n",
        "    \n",
        "    return qml.probs(wires=0)"
      ],
      "execution_count": null,
      "outputs": []
    },
    {
      "cell_type": "code",
      "metadata": {
        "id": "EZgMu6x-8wWg"
      },
      "source": [
        "@qml.qnode(dev_cv)\n",
        "def target_cv():\n",
        "    problem_cv()\n",
        "\n",
        "    return qml.probs(wires=0) #qml.NumberOperator(wires=0)"
      ],
      "execution_count": null,
      "outputs": []
    },
    {
      "cell_type": "code",
      "metadata": {
        "id": "Qan-kWXc-B2r",
        "colab": {
          "base_uri": "https://localhost:8080/"
        },
        "outputId": "a3217b6c-7d14-417e-e9a4-bc60164f42df"
      },
      "source": [
        "finite_cv_time = []\n",
        "loss_plot_cv_fd_ni = []\n",
        "for n in range(1, 11, 1): \n",
        "  np.random.seed(1)\n",
        "  num_layers_cv = n\n",
        "  var_init_cv = 0.05*np.random.randn(num_layers_cv, 3*num_wires_cv)\n",
        "  start = time.time()\n",
        "\n",
        "  opt_cv = GradientDescentOptimizer(0.01)\n",
        "\n",
        "  s = 0.1\n",
        "  alpha = np.pi/2\n",
        "\n",
        "  var_cv_fd = var_init_cv.copy()\n",
        "  \n",
        "  break_count = 0\n",
        "\n",
        "\n",
        "  for it in range(101):# while True:\n",
        "      var_cv_fd, _cost = opt.step_and_cost(lambda v: cost_function_cv(v), var_cv_fd, \n",
        "                                    grad_fn=lambda var_cv_fd: finite_difference_cv(cost_function_cv, var_cv_fd)) \n",
        "\n",
        "      # if it%100==0:\n",
        "      #   print(\"Iter: {:5d} | Cost: {:0.11f} \".format(it, _cost))\n",
        "  loss_plot_cv_fd_ni.append(_cost)\n",
        "  end = time.time()\n",
        "  t = end - start\n",
        "  finite_cv_time.append(t)\n",
        "  print(\"#Layers: \", n, t)"
      ],
      "execution_count": null,
      "outputs": [
        {
          "output_type": "stream",
          "name": "stdout",
          "text": [
            "#Layers:  1 1.790801763534546\n",
            "#Layers:  2 3.921147108078003\n",
            "#Layers:  3 6.8334596157073975\n",
            "#Layers:  4 10.232220649719238\n",
            "#Layers:  5 15.199139833450317\n",
            "#Layers:  6 20.160762786865234\n",
            "#Layers:  7 25.972570419311523\n",
            "#Layers:  8 32.8534300327301\n",
            "#Layers:  9 39.79751920700073\n",
            "#Layers:  10 48.0490038394928\n"
          ]
        }
      ]
    },
    {
      "cell_type": "code",
      "metadata": {
        "colab": {
          "base_uri": "https://localhost:8080/"
        },
        "id": "hq3mcYd68pQk",
        "outputId": "c82982fa-effd-4946-80c5-60afa135c3fd"
      },
      "source": [
        "classical_time = []\n",
        "loss_plot_classical_ni = []\n",
        "for n in range(1, 11, 1):\n",
        "  np.random.seed(1)\n",
        "  num_layers = n\n",
        "  var_init = 0.05*np.random.randn(num_layers, 3*num_wires)\n",
        "  start = time.time()\n",
        "\n",
        "  opt = GradientDescentOptimizer(0.01)\n",
        "\n",
        "  var_classical = var_init.copy()\n",
        "\n",
        "  for it in range(101):# while True:\n",
        "      var_classical, _cost = opt.step_and_cost(lambda v: MAE_classical(v), var_classical, \n",
        "                                    grad_fn=lambda var_classical: finite_difference(MAE_classical, var_classical)) \n",
        "      \n",
        "\n",
        "      # if it%100==0:\n",
        "      #   print(\"Iter: {:5d} | Cost: {:0.11f} \".format(it, _cost))\n",
        "  loss_plot_classical_ni.append(_cost)\n",
        "  end = time.time()\n",
        "  t = end - start\n",
        "  classical_time.append(t)\n",
        "  print(\"#Layers: \", n, t)"
      ],
      "execution_count": null,
      "outputs": [
        {
          "output_type": "stream",
          "name": "stdout",
          "text": [
            "#Layers:  1 4.440882444381714\n",
            "#Layers:  2 11.51746416091919\n",
            "#Layers:  3 22.33617663383484\n",
            "#Layers:  4 36.01130723953247\n",
            "#Layers:  5 52.750896692276\n",
            "#Layers:  6 72.6136155128479\n",
            "#Layers:  7 95.30482363700867\n",
            "#Layers:  8 120.76967334747314\n",
            "#Layers:  9 149.15939855575562\n",
            "#Layers:  10 183.97230648994446\n"
          ]
        }
      ]
    },
    {
      "cell_type": "code",
      "metadata": {
        "colab": {
          "base_uri": "https://localhost:8080/"
        },
        "id": "6sOi45eBSIn3",
        "outputId": "9b8fbaa1-fc5b-4aef-a7df-ae3f762ceca2"
      },
      "source": [
        "classical_time_i = []\n",
        "start = time.time()\n",
        "\n",
        "opt = GradientDescentOptimizer(0.01)\n",
        "np.random.seed(1)\n",
        "num_layers = 1\n",
        "var_init = 0.05*np.random.randn(num_layers, 3*num_wires)\n",
        "var = var_init.copy()\n",
        "loss_plot_classical = []\n",
        "\n",
        "for it in range(601):# while True:\n",
        "    var, _cost = opt.step_and_cost(lambda v: MAE_classical(v), var, \n",
        "                                   grad_fn=lambda var: finite_difference(MAE_classical, var)) \n",
        "    loss_plot_classical.append(_cost)\n",
        "\n",
        "    if it%100==0:\n",
        "      print(\"Iter: {:5d} | Cost: {:0.11f} \".format(it, _cost))\n",
        "\n",
        "    end = time.time()\n",
        "    t = end - start\n",
        "    classical_time_i.append(t)"
      ],
      "execution_count": null,
      "outputs": [
        {
          "output_type": "stream",
          "name": "stdout",
          "text": [
            "Iter:     0 | Cost: 0.04992032878 \n",
            "Iter:   100 | Cost: 0.00000326073 \n",
            "Iter:   200 | Cost: 0.00000326073 \n",
            "Iter:   300 | Cost: 0.00000326073 \n",
            "Iter:   400 | Cost: 0.00000326073 \n",
            "Iter:   500 | Cost: 0.00000326073 \n",
            "Iter:   600 | Cost: 0.00000326073 \n"
          ]
        }
      ]
    },
    {
      "cell_type": "code",
      "metadata": {
        "colab": {
          "base_uri": "https://localhost:8080/"
        },
        "id": "cjDun53azdP0",
        "outputId": "c552dc67-1318-4193-d164-a9e73cdc9d3b"
      },
      "source": [
        "classical_cv_time_i = []\n",
        "start = time.time()\n",
        "\n",
        "opt_cv = GradientDescentOptimizer(0.01)\n",
        "\n",
        "s = 0.1\n",
        "alpha = np.pi/2\n",
        "np.random.seed(1)\n",
        "num_layers_cv = 1\n",
        "var_init_cv = 0.05*np.random.randn(num_layers_cv, 3*num_wires_cv)\n",
        "var_cv_classical = var_init_cv.copy()\n",
        "loss_plot_cv_classical = []\n",
        "break_count = 0\n",
        "\n",
        "\n",
        "for it in range(1201):# while True:\n",
        "    var_cv_classical, _cost = opt.step_and_cost(lambda v: similarity(v), var_cv_classical, \n",
        "                                   grad_fn=lambda var_cv_classical: finite_difference_cv(similarity, var_cv_classical)) \n",
        "    \n",
        "    loss_plot_cv_classical.append(_cost)\n",
        "\n",
        "    if it%100==0:\n",
        "      print(\"Iter: {:5d} | Cost: {:0.11f} \".format(it, _cost))\n",
        "    \n",
        "    end = time.time()\n",
        "    t = end - start\n",
        "    classical_cv_time_i.append(t)"
      ],
      "execution_count": null,
      "outputs": [
        {
          "output_type": "stream",
          "name": "stdout",
          "text": [
            "Iter:     0 | Cost: 0.04027606451 \n",
            "Iter:   100 | Cost: 0.03995136671 \n",
            "Iter:   200 | Cost: 0.03905456170 \n",
            "Iter:   300 | Cost: 0.03664118700 \n",
            "Iter:   400 | Cost: 0.03062639875 \n",
            "Iter:   500 | Cost: 0.01878853962 \n",
            "Iter:   600 | Cost: 0.00643945090 \n",
            "Iter:   700 | Cost: 0.00212052175 \n",
            "Iter:   800 | Cost: 0.00158471816 \n",
            "Iter:   900 | Cost: 0.00154472852 \n",
            "Iter:  1000 | Cost: 0.00154194532 \n",
            "Iter:  1100 | Cost: 0.00154156731 \n",
            "Iter:  1200 | Cost: 0.00154135031 \n"
          ]
        }
      ]
    }
  ]
}