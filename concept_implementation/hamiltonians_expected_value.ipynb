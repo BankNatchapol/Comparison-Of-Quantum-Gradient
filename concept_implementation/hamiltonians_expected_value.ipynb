{
  "nbformat": 4,
  "nbformat_minor": 0,
  "metadata": {
    "colab": {
      "name": "hamiltonians_expected_value.ipynb",
      "provenance": [],
      "collapsed_sections": [],
      "authorship_tag": "ABX9TyPL+wASfw4DazFgN9U+FhXb",
      "include_colab_link": true
    },
    "kernelspec": {
      "name": "python3",
      "display_name": "Python 3"
    },
    "language_info": {
      "name": "python"
    }
  },
  "cells": [
    {
      "cell_type": "markdown",
      "metadata": {
        "id": "view-in-github",
        "colab_type": "text"
      },
      "source": [
        "<a href=\"https://colab.research.google.com/github/BankNatchapol/Comparison-Of-Quantum-Gradient/blob/main/concept_implementation/hamiltonians_expected_value.ipynb\" target=\"_parent\"><img src=\"https://colab.research.google.com/assets/colab-badge.svg\" alt=\"Open In Colab\"/></a>"
      ]
    },
    {
      "cell_type": "code",
      "metadata": {
        "id": "uxAn5cAHk08c"
      },
      "source": [
        "!pip install pennylane"
      ],
      "execution_count": null,
      "outputs": []
    },
    {
      "cell_type": "code",
      "metadata": {
        "id": "upjluUxIlK1X"
      },
      "source": [
        "import pennylane as qml\n",
        "from pennylane import numpy as np\n",
        "from pennylane.optimize import GradientDescentOptimizer\n",
        "from pennylane.qaoa import maxcut\n",
        "\n",
        "import networkx as nx\n",
        "import matplotlib.pyplot as plt"
      ],
      "execution_count": 2,
      "outputs": []
    },
    {
      "cell_type": "code",
      "metadata": {
        "id": "F3oO8d1SnOE1"
      },
      "source": [
        "graph = nx.Graph(((0, 2), (1, 2), (3, 2)))"
      ],
      "execution_count": 6,
      "outputs": []
    },
    {
      "cell_type": "code",
      "metadata": {
        "colab": {
          "base_uri": "https://localhost:8080/",
          "height": 248
        },
        "id": "HvcD_bfInPxi",
        "outputId": "d2e87db4-a842-47f2-c141-d9ac29a393a3"
      },
      "source": [
        "def draw_graph(G, colors, pos):\n",
        "    default_axes = plt.axes(frameon=True)\n",
        "    nx.draw_networkx(G, node_color=colors, node_size=600, alpha=.8, ax=default_axes, pos=pos, font_color=\"white\")\n",
        "    edge_labels = nx.get_edge_attributes(G, 'weight')\n",
        "    nx.draw_networkx_edge_labels(G, pos=pos, edge_labels=edge_labels)\n",
        "\n",
        "colors = ['r' for node in graph.nodes()]\n",
        "pos = nx.spring_layout(graph)\n",
        "draw_graph(graph, colors, pos)"
      ],
      "execution_count": 7,
      "outputs": [
        {
          "output_type": "display_data",
          "data": {
            "image/png": "[encoded data removed]",
            "text/plain": [
              "<Figure size 432x288 with 1 Axes>"
            ]
          },
          "metadata": {}
        }
      ]
    },
    {
      "cell_type": "code",
      "metadata": {
        "colab": {
          "base_uri": "https://localhost:8080/"
        },
        "id": "DWb6iiUknRep",
        "outputId": "2ba43b0b-5aa9-4993-b001-0b0eadf5b091"
      },
      "source": [
        "hamiltonian_maxcut, hamiltonian_mixer = maxcut(graph)\n",
        "print(hamiltonian_maxcut)"
      ],
      "execution_count": 8,
      "outputs": [
        {
          "output_type": "stream",
          "text": [
            "  (-1.5) [I0]\n",
            "+ (0.5) [Z0 Z2]\n",
            "+ (0.5) [Z2 Z1]\n",
            "+ (0.5) [Z2 Z3]\n"
          ],
          "name": "stdout"
        }
      ]
    },
    {
      "cell_type": "markdown",
      "metadata": {
        "id": "zX3RvAQGnZTo"
      },
      "source": [
        "Hamiltonian of graph is \n",
        " $$-1.5 I_0\n",
        "+ 0.5 Z_0 Z_2\n",
        "+ 0.5 Z_1 Z_2 \n",
        "+ 0.5 Z_2 Z_3$$\n",
        "$$= -1.5I_0I_1I_2I_3+ 0.5Z_0I_1Z_2I_3 + 0.5 I_0Z_1Z_2I_3+ 0.5I_0I_1Z_2Z_3$$"
      ]
    },
    {
      "cell_type": "code",
      "metadata": {
        "id": "4yWaY-nilPku"
      },
      "source": [
        "num_wires = 4\n",
        "dev = qml.device(\"default.qubit\", wires=num_wires)"
      ],
      "execution_count": 3,
      "outputs": []
    },
    {
      "cell_type": "markdown",
      "metadata": {
        "id": "v5K4SsNEoUg7"
      },
      "source": [
        "Can be represent as combination of 4 measurement basis circuits"
      ]
    },
    {
      "cell_type": "code",
      "metadata": {
        "id": "Hm1UXHljnLAS"
      },
      "source": [
        "def Identity(wires):\n",
        "  matrix = np.eye(2, 2)\n",
        "  qml.QubitUnitary(matrix, wires=wires)\n",
        "\n",
        "def ham_term_1(): # (-1.5) [I0]\n",
        "  Identity(wires=0)\n",
        "  Identity(wires=1)\n",
        "  Identity(wires=2)\n",
        "  Identity(wires=3)\n",
        "\n",
        "def ham_term_2(): # (0.5) [Z0 Z2]\n",
        "  qml.PauliZ(wires=0)\n",
        "  Identity(wires=1)\n",
        "  qml.PauliZ(wires=2)\n",
        "  Identity(wires=3)\n",
        "\n",
        "def ham_term_3(): # (0.5) [Z2 Z1]\n",
        "  Identity(wires=0)\n",
        "  qml.PauliZ(wires=1)\n",
        "  qml.PauliZ(wires=2)\n",
        "  Identity(wires=3)\n",
        "\n",
        "def ham_term_4():# (0.5) [Z2 Z3]\n",
        "  Identity(wires=0)\n",
        "  Identity(wires=1)\n",
        "  qml.PauliZ(wires=2)\n",
        "  qml.PauliZ(wires=3)\n",
        "\n",
        "@qml.qnode(dev)\n",
        "def printer(ham_term):\n",
        "  ham_term.numpy()()\n",
        "  return qml.state()"
      ],
      "execution_count": 152,
      "outputs": []
    },
    {
      "cell_type": "code",
      "metadata": {
        "colab": {
          "base_uri": "https://localhost:8080/"
        },
        "id": "FfOcsSsvo_F5",
        "outputId": "29931f65-dbe7-48c8-f020-a4795b9816c0"
      },
      "source": [
        "def drawing(term):\n",
        "  circuit_draw = qml.draw(printer)(term)[:-26]\n",
        "  for i in range(num_wires):\n",
        "    circuit_draw = circuit_draw.replace(f\"U{i}\", f\"I─\")\n",
        "  return circuit_draw\n",
        "\n",
        "coeffs = list(reversed(hamiltonian_maxcut.coeffs))\n",
        "for i, term in enumerate([ham_term_1, ham_term_2, ham_term_3, ham_term_4]): \n",
        "  print(\"Coefficient: \", coeffs[i])\n",
        "  print(drawing(term), \"\\n\")"
      ],
      "execution_count": 155,
      "outputs": [
        {
          "output_type": "stream",
          "text": [
            "Coefficient:  -1.5\n",
            " 0: ──I───╭┤ State \n",
            " 1: ──I───├┤ State \n",
            " 2: ──I───├┤ State \n",
            " 3: ──I───╰┤ State \n",
            "\n",
            "Coefficient:  0.5\n",
            " 0: ──Z───╭┤ State \n",
            " 1: ──I───├┤ State \n",
            " 2: ──Z───├┤ State \n",
            " 3: ──I───╰┤ State \n",
            "\n",
            "Coefficient:  0.5\n",
            " 0: ──I───╭┤ State \n",
            " 1: ──Z───├┤ State \n",
            " 2: ──Z───├┤ State \n",
            " 3: ──I───╰┤ State \n",
            "\n",
            "Coefficient:  0.5\n",
            " 0: ──I───╭┤ State \n",
            " 1: ──I───├┤ State \n",
            " 2: ──Z───├┤ State \n",
            " 3: ──Z───╰┤ State \n",
            "\n"
          ],
          "name": "stdout"
        }
      ]
    },
    {
      "cell_type": "markdown",
      "metadata": {
        "id": "CQPM5LRUXPSk"
      },
      "source": [
        "get expected value using Pennylane"
      ]
    },
    {
      "cell_type": "code",
      "metadata": {
        "id": "EstcBUMRXO0E"
      },
      "source": [
        "var = [[0.07550447, -0.0284327 , -3.12138728, -0.04987069,  0.04327038,\n",
        "       -0.11507693,  0.08724059, -0.03806035,  0.01595195, -0.01246852,\n",
        "        0.0731054 , -0.10300704, -0.01612086, -0.01920272,  0.05668847,\n",
        "       -0.05499456]]\n",
        "       \n",
        "def mixer(var): # mixing state \n",
        "  for wire in range(num_wires):\n",
        "    qml.RX(var[0+wire], wires=wire)\n",
        "    qml.RZ(var[1+wire], wires=wire)\n",
        "\n",
        "@qml.qnode(dev)\n",
        "def pennylane_expval(hamiltonian, var):\n",
        "  for v in var:\n",
        "    mixer(v)\n",
        "\n",
        "  return qml.expval(hamiltonian.numpy())"
      ],
      "execution_count": 221,
      "outputs": []
    },
    {
      "cell_type": "code",
      "metadata": {
        "colab": {
          "base_uri": "https://localhost:8080/"
        },
        "id": "m5RmO6iwXeG7",
        "outputId": "0e582c44-5dfc-441a-e583-639a6744890f"
      },
      "source": [
        "pennylane_expval(hamiltonian_maxcut, var)"
      ],
      "execution_count": 222,
      "outputs": [
        {
          "output_type": "execute_result",
          "data": {
            "text/plain": [
              "-2.997445988651603"
            ]
          },
          "metadata": {},
          "execution_count": 222
        }
      ]
    },
    {
      "cell_type": "markdown",
      "metadata": {
        "id": "WYL1taljXftK"
      },
      "source": [
        "get expected value using concept implementation"
      ]
    },
    {
      "cell_type": "code",
      "metadata": {
        "id": "g7EQrDCY_GfO"
      },
      "source": [
        "def concept_expval(coeffs, var):\n",
        "  @qml.qnode(dev)\n",
        "  def term1():\n",
        "    for v in var:\n",
        "      mixer(v)\n",
        "\n",
        "    ham_term_1()\n",
        "\n",
        "    for v in reversed(var):\n",
        "      qml.adjoint(mixer)(v)\n",
        "\n",
        "    return qml.state()\n",
        "\n",
        "  @qml.qnode(dev)\n",
        "  def term2():\n",
        "    for v in var:\n",
        "      mixer(v)\n",
        "\n",
        "    ham_term_2()\n",
        "\n",
        "    for v in reversed(var):\n",
        "      qml.adjoint(mixer)(v)\n",
        "\n",
        "    return qml.state()\n",
        "  \n",
        "  @qml.qnode(dev)\n",
        "  def term3():\n",
        "    for v in var:\n",
        "      mixer(v)\n",
        "\n",
        "    ham_term_3()\n",
        "\n",
        "    for v in reversed(var):\n",
        "      qml.adjoint(mixer)(v)\n",
        "\n",
        "    return qml.state()\n",
        "  \n",
        "  @qml.qnode(dev)\n",
        "  def term4():\n",
        "    for v in var:\n",
        "      mixer(v)\n",
        "\n",
        "    ham_term_4()\n",
        "\n",
        "    for v in reversed(var):\n",
        "      qml.adjoint(mixer)(v)\n",
        "\n",
        "    return qml.state()\n",
        "\n",
        "  total = 0\n",
        "  values = [term1()[0], term2()[0], term3()[0], term4()[0]]\n",
        "  for i, c in enumerate(coeffs):\n",
        "    total += c*values[i]\n",
        "  \n",
        "  return round(float(total.real), 15)"
      ],
      "execution_count": 216,
      "outputs": []
    },
    {
      "cell_type": "code",
      "metadata": {
        "colab": {
          "base_uri": "https://localhost:8080/"
        },
        "id": "857QNkuwCKRs",
        "outputId": "762155e5-d41d-4c57-c210-b653386b185b"
      },
      "source": [
        "coeffs = [-1.5, 0.5, 0.5, 0.5]\n",
        "print(\"Pennylane expected value              : \", pennylane_expval(hamiltonian_maxcut, var))\n",
        "print(\"Concept implementation expected value : \", concept_expval(coeffs, var))"
      ],
      "execution_count": 225,
      "outputs": [
        {
          "output_type": "stream",
          "text": [
            "Pennylane expected value              :  -2.997445988651603\n",
            "Concept implementation expected value :  -2.997445988651603\n"
          ],
          "name": "stdout"
        }
      ]
    }
  ]
}