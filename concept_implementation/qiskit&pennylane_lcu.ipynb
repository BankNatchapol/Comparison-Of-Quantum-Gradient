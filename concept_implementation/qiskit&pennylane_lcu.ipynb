{
  "nbformat": 4,
  "nbformat_minor": 0,
  "metadata": {
    "colab": {
      "name": "qiskit&pennylane_lcu.ipynb",
      "provenance": [],
      "collapsed_sections": [],
      "authorship_tag": "ABX9TyPOeX0Swf6FFbilFzks3xd7",
      "include_colab_link": true
    },
    "kernelspec": {
      "name": "python3",
      "display_name": "Python 3"
    },
    "language_info": {
      "name": "python"
    }
  },
  "cells": [
    {
      "cell_type": "markdown",
      "metadata": {
        "id": "view-in-github",
        "colab_type": "text"
      },
      "source": [
        "<a href=\"https://colab.research.google.com/github/BankNatchapol/Comparison-Of-Quantum-Gradient/blob/main/concept_implementation/qiskit%26pennylane_lcu.ipynb\" target=\"_parent\"><img src=\"https://colab.research.google.com/assets/colab-badge.svg\" alt=\"Open In Colab\"/></a>"
      ]
    },
    {
      "cell_type": "code",
      "metadata": {
        "id": "RUyp8QXq0iHX"
      },
      "source": [
        "!pip install qiskit"
      ],
      "execution_count": null,
      "outputs": []
    },
    {
      "cell_type": "markdown",
      "metadata": {
        "id": "1J2FHtWh2F28"
      },
      "source": [
        "# **Qiskit implementation of differentiation using Linear Combination of Unitaries (LCU)**"
      ]
    },
    {
      "cell_type": "code",
      "metadata": {
        "colab": {
          "base_uri": "https://localhost:8080/"
        },
        "id": "IlVsit_61DGi",
        "outputId": "93065061-675e-4f90-97c6-16dd77587a34"
      },
      "source": [
        "#General imports\n",
        "import numpy as np\n",
        "\n",
        "#Operator Imports\n",
        "from qiskit.aqua.operators import Z, X, I, StateFn, CircuitStateFn, SummedOp\n",
        "from qiskit.aqua.operators.gradients import Gradient, NaturalGradient, QFI, Hessian\n",
        "\n",
        "#Circuit imports\n",
        "from qiskit.circuit import QuantumCircuit, QuantumRegister, Parameter, ParameterVector, ParameterExpression\n",
        "from qiskit.circuit.library import EfficientSU2"
      ],
      "execution_count": 2,
      "outputs": [
        {
          "output_type": "stream",
          "text": [
            "/usr/local/lib/python3.7/dist-packages/qiskit/aqua/__init__.py:86: DeprecationWarning: The package qiskit.aqua is deprecated. It was moved/refactored to qiskit-terra For more information see <https://github.com/Qiskit/qiskit-aqua/blob/main/README.md#migration-guide>\n",
            "  warn_package('aqua', 'qiskit-terra')\n"
          ],
          "name": "stderr"
        }
      ]
    },
    {
      "cell_type": "code",
      "metadata": {
        "colab": {
          "base_uri": "https://localhost:8080/"
        },
        "id": "qqESRpa-1O5H",
        "outputId": "0e69698e-2c98-4f9f-b014-e4e255f08953"
      },
      "source": [
        "# Instantiate the quantum state\n",
        "a = Parameter('a')\n",
        "b = Parameter('b')\n",
        "q = QuantumRegister(1)\n",
        "qc = QuantumCircuit(q)\n",
        "qc.h(q)\n",
        "qc.rz(a, q[0])\n",
        "qc.rx(b, q[0])\n",
        "\n",
        "# Define the Hamiltonian with fixed coefficients\n",
        "H = 0.5 * X - 1 * Z\n",
        "# Define the parameters w.r.t. we want to compute the gradients\n",
        "params = [a, b]\n",
        "# Define the values to be assigned to the parameters\n",
        "value_dict = { a: np.pi / 4, b: np.pi} # initial parameter values\n",
        "\n",
        "# Combine the Hamiltonian observable and the state into an expectation value operator\n",
        "op = ~StateFn(H) @ CircuitStateFn(primitive=qc, coeff=1.)\n",
        "print(op)"
      ],
      "execution_count": 3,
      "outputs": [
        {
          "output_type": "stream",
          "text": [
            "ComposedOp([\n",
            "  OperatorMeasurement(SummedOp([\n",
            "    0.5 * X,\n",
            "    -1.0 * Z\n",
            "  ])),\n",
            "  CircuitStateFn(\n",
            "        ┌───┐┌───────┐┌───────┐\n",
            "  q0_0: ┤ H ├┤ Rz(a) ├┤ Rx(b) ├\n",
            "        └───┘└───────┘└───────┘\n",
            "  )\n",
            "])\n"
          ],
          "name": "stdout"
        },
        {
          "output_type": "stream",
          "text": [
            "/usr/local/lib/python3.7/dist-packages/qiskit/aqua/operators/operator_base.py:46: DeprecationWarning: The package qiskit.aqua.operators is deprecated. It was moved/refactored to qiskit.opflow (pip install qiskit-terra). For more information see <https://github.com/Qiskit/qiskit-aqua/blob/main/README.md#migration-guide>\n",
            "  warn_package('aqua.operators', 'qiskit.opflow', 'qiskit-terra')\n"
          ],
          "name": "stderr"
        }
      ]
    },
    {
      "cell_type": "code",
      "metadata": {
        "colab": {
          "base_uri": "https://localhost:8080/"
        },
        "id": "orCGd9fL1oJe",
        "outputId": "b6e9185e-cc1e-4725-f07c-4068d356e157"
      },
      "source": [
        "state_grad = Gradient(grad_method='lin_comb').convert(operator=op, params=params)\n",
        "\n",
        "# Print the operator corresponding to the gradient\n",
        "print(state_grad)"
      ],
      "execution_count": 4,
      "outputs": [
        {
          "output_type": "stream",
          "text": [
            "ListOp([\n",
            "  SummedOp([\n",
            "    0.5 * ComposedOp([\n",
            "      OperatorMeasurement(ZZ) * 2.0,\n",
            "      CircuitStateFn(\n",
            "                                  ┌───┐          ┌───────┐┌───────┐┌───┐\n",
            "                            q0_0: ┤ H ├────────■─┤ Rz(a) ├┤ Rx(b) ├┤ H ├\n",
            "                                  ├───┤┌─────┐ │ └─┬───┬─┘└───────┘└───┘\n",
            "      work_qubit_lin_comb_grad_0: ┤ H ├┤ Sdg ├─■───┤ H ├────────────────\n",
            "                                  └───┘└─────┘     └───┘                \n",
            "      ) * 0.7071067811865476\n",
            "    ]),\n",
            "    -1.0 * ComposedOp([\n",
            "      OperatorMeasurement(ZZ) * 2.0,\n",
            "      CircuitStateFn(\n",
            "                                  ┌───┐          ┌───────┐┌───────┐\n",
            "                            q0_0: ┤ H ├────────■─┤ Rz(a) ├┤ Rx(b) ├\n",
            "                                  ├───┤┌─────┐ │ └─┬───┬─┘└───────┘\n",
            "      work_qubit_lin_comb_grad_0: ┤ H ├┤ Sdg ├─■───┤ H ├───────────\n",
            "                                  └───┘└─────┘     └───┘           \n",
            "      ) * 0.7071067811865476\n",
            "    ])\n",
            "  ]),\n",
            "  SummedOp([\n",
            "    0.5 * ComposedOp([\n",
            "      OperatorMeasurement(ZZ) * 2.0,\n",
            "      CircuitStateFn(\n",
            "                                  ┌───┐┌───────┐┌───┐┌───────┐┌───┐\n",
            "                            q0_0: ┤ H ├┤ Rz(a) ├┤ X ├┤ Rx(b) ├┤ H ├\n",
            "                                  ├───┤└┬─────┬┘└─┬─┘└─┬───┬─┘└───┘\n",
            "      work_qubit_lin_comb_grad_0: ┤ H ├─┤ Sdg ├───■────┤ H ├───────\n",
            "                                  └───┘ └─────┘        └───┘       \n",
            "      ) * 0.7071067811865476\n",
            "    ]),\n",
            "    -1.0 * ComposedOp([\n",
            "      OperatorMeasurement(ZZ) * 2.0,\n",
            "      CircuitStateFn(\n",
            "                                  ┌───┐┌───────┐┌───┐┌───────┐\n",
            "                            q0_0: ┤ H ├┤ Rz(a) ├┤ X ├┤ Rx(b) ├\n",
            "                                  ├───┤└┬─────┬┘└─┬─┘└─┬───┬─┘\n",
            "      work_qubit_lin_comb_grad_0: ┤ H ├─┤ Sdg ├───■────┤ H ├──\n",
            "                                  └───┘ └─────┘        └───┘  \n",
            "      ) * 0.7071067811865476\n",
            "    ])\n",
            "  ])\n",
            "])\n"
          ],
          "name": "stdout"
        }
      ]
    },
    {
      "cell_type": "code",
      "metadata": {
        "colab": {
          "base_uri": "https://localhost:8080/"
        },
        "id": "DMUinKHL1oqZ",
        "outputId": "2cec3d61-20b0-4fed-936f-1acbaee2e619"
      },
      "source": [
        "# Assign the parameters and evaluate the gradient\n",
        "value_dict = { a: np.pi / 4, b: np.pi}\n",
        "state_grad_result = state_grad.assign_parameters(value_dict).eval()\n",
        "state_grad_result"
      ],
      "execution_count": 5,
      "outputs": [
        {
          "output_type": "execute_result",
          "data": {
            "text/plain": [
              "[(-0.35355339059327345-2.48e-16j), (0.7071067811865474+1.64e-16j)]"
            ]
          },
          "metadata": {},
          "execution_count": 5
        }
      ]
    },
    {
      "cell_type": "code",
      "metadata": {
        "id": "oP6eP9re9eXx"
      },
      "source": [
        "!pip install pennylane-sf"
      ],
      "execution_count": null,
      "outputs": []
    },
    {
      "cell_type": "markdown",
      "metadata": {
        "id": "4K1u9bKN2YUv"
      },
      "source": [
        "# **Re-implementing of LCU using Pennylane**"
      ]
    },
    {
      "cell_type": "code",
      "metadata": {
        "id": "6WjZfGq89jH3"
      },
      "source": [
        "import pennylane as qml\n",
        "from pennylane import numpy as np\n",
        "from pennylane.optimize import GradientDescentOptimizer\n",
        "\n",
        "import pandas as pd\n",
        "\n",
        "import networkx as nx\n",
        "import matplotlib.pyplot as plt\n",
        "import plotly.graph_objects as go\n",
        "import plotly.express as px"
      ],
      "execution_count": 7,
      "outputs": []
    },
    {
      "cell_type": "code",
      "metadata": {
        "id": "Ud2cJjUP9qiT"
      },
      "source": [
        "num_wires = 2\n",
        "dev = qml.device(\"default.qubit\", wires=num_wires)"
      ],
      "execution_count": 8,
      "outputs": []
    },
    {
      "cell_type": "code",
      "metadata": {
        "id": "uPK_icL-11F3"
      },
      "source": [
        "param_gates = ['RX', 'RY', 'RZ']\n",
        "\n",
        "def projector1(wires):\n",
        "  projector = np.zeros((2, 2))\n",
        "  projector[1,1] = 1\n",
        "  qml.QubitUnitary(projector, wires=wires)\n",
        "\n",
        "def str2gate(gate):\n",
        "  if gate == 'H':\n",
        "    return qml.Hadamard\n",
        "  elif gate == 'X':\n",
        "    return qml.PauliX\n",
        "  elif gate == 'Y':\n",
        "    return qml.PauliY\n",
        "  elif gate == 'Z':\n",
        "    return qml.PauliZ\n",
        "  elif gate == 'RX':\n",
        "    return qml.RX\n",
        "  elif gate == 'RY':\n",
        "    return qml.RY\n",
        "  elif gate == 'RZ':\n",
        "    return qml.RZ\n",
        "  elif gate == 'Projector1':\n",
        "    return projector1\n",
        "  else:\n",
        "    assert 0, \"Gate not support.\"\n",
        "\n",
        "def print_ansatz(ansatz, coeffs, wires):\n",
        "  @qml.qnode(dev)\n",
        "  def ansatz_construct(ansatz, coeffs, wires):\n",
        "    for i, coeff in enumerate(coeffs):\n",
        "      if not coeff:\n",
        "        str2gate(ansatz[i].numpy())(wires=wires[i].numpy())\n",
        "      else:\n",
        "        str2gate(ansatz[i].numpy())(coeff.numpy(), wires=wires[i].numpy())\n",
        "\n",
        "    return qml.state()\n",
        "  print(qml.draw(ansatz_construct)(ansatz, coeffs, wires))"
      ],
      "execution_count": 32,
      "outputs": []
    },
    {
      "cell_type": "markdown",
      "metadata": {
        "id": "rt_cg6Zs_up1"
      },
      "source": [
        "Creating ansatz"
      ]
    },
    {
      "cell_type": "code",
      "metadata": {
        "colab": {
          "base_uri": "https://localhost:8080/"
        },
        "id": "vRjfh0Jo_UGk",
        "outputId": "bf874ecd-426e-44ad-dfd2-ff8c354c0c87"
      },
      "source": [
        "ansatz = ['H', 'RZ', 'RX']\n",
        "params_init = np.array([None, np.pi/4, np.pi])\n",
        "wires = [0, 0, 0]\n",
        "\n",
        "print_ansatz(ansatz, params_init, wires)"
      ],
      "execution_count": 33,
      "outputs": [
        {
          "output_type": "stream",
          "text": [
            " 0: ──H──RZ(0.785)──RX(3.14)──┤ State \n",
            "\n"
          ],
          "name": "stdout"
        }
      ]
    },
    {
      "cell_type": "markdown",
      "metadata": {
        "id": "psCi1wfA21hm"
      },
      "source": [
        "Hamiltonian $H = 0.5X - Z$"
      ]
    },
    {
      "cell_type": "code",
      "metadata": {
        "id": "Cj0JBLvM9XVX"
      },
      "source": [
        "H = ['X', 'Z']\n",
        "ham_wires = [0, 0]\n",
        "ham_coeffs = [0.5, -1.0]"
      ],
      "execution_count": 34,
      "outputs": []
    },
    {
      "cell_type": "code",
      "metadata": {
        "id": "1Y0zTbK2Ajao"
      },
      "source": [
        "def controlStr(gate):\n",
        "  if gate == 'RX':\n",
        "    return qml.CNOT\n",
        "  elif gate == 'RY':\n",
        "    return qml.CY\n",
        "  elif gate == 'RZ':\n",
        "    return qml.CZ\n",
        "  else:\n",
        "    assert 0, \"Gate not support.\"\n",
        "\n",
        "\n",
        "def lcu_term(ansatz, params, wires, diff_index):\n",
        "  qml.Hadamard(wires=1)\n",
        "  qml.adjoint(qml.S)(wires=1)\n",
        "\n",
        "  for i, gate in enumerate(ansatz):\n",
        "    if gate in param_gates:\n",
        "      if i == diff_index:\n",
        "        controlStr(gate)(wires=[1, 0])\n",
        "      str2gate(gate)(params[i], wires=wires[i])\n",
        "    else:\n",
        "      str2gate(gate)(wires=wires[i])\n",
        "    \n",
        "  qml.Hadamard(wires=1)\n",
        "\n",
        "\n",
        "def lcu_term_adjointed(ansatz, params, wires, diff_index):\n",
        "  ansatz = [a for a in reversed(ansatz)]\n",
        "  params = params[::-1]\n",
        "\n",
        "  qml.Hadamard(wires=1)\n",
        "  for i, gate in enumerate(ansatz):\n",
        "    if gate in param_gates:\n",
        "      str2gate(gate)(-params[i], wires=wires[i])\n",
        "      if i == len(ansatz)-diff_index-1:\n",
        "        controlStr(gate)(wires=[1, 0])\n",
        "    else:\n",
        "      str2gate(gate)(wires=wires[i])\n",
        "\n",
        "  qml.S(wires=1)\n",
        "  qml.Hadamard(wires=1)\n",
        "\n",
        "\n",
        "@qml.qnode(dev)\n",
        "def lcu(ansatz, H, ham_wires, params, wires, diff_index):\n",
        "  ansatz = [a.numpy() for a in ansatz]\n",
        "  wires = [w.numpy() for w in wires]\n",
        "\n",
        "  lcu_term(ansatz, params, wires, diff_index)\n",
        "  str2gate(H)(wires=ham_wires)\n",
        "  str2gate('Z')(wires=1)\n",
        "  lcu_term_adjointed(ansatz, params, wires, diff_index)\n",
        "\n",
        "  return qml.state()\n",
        "\n",
        "def lcu_gradients(ansatz, H, ham_wires, ham_coeffs, params, wires):\n",
        "  gradients = []\n",
        "  for i in range(len(ansatz)):\n",
        "    if ansatz[i] in param_gates:\n",
        "      gradients.append(sum([lcu(ansatz, H[h], ham_wires[h], params, wires, i)[0].numpy()*ham_coeffs[h] for h in range(len(H))]))\n",
        "\n",
        "  return gradients"
      ],
      "execution_count": 35,
      "outputs": []
    },
    {
      "cell_type": "code",
      "metadata": {
        "colab": {
          "base_uri": "https://localhost:8080/"
        },
        "id": "6guy3k_fQ3N8",
        "outputId": "f6d3694b-d9ea-4c72-8ebc-8bcc0115339f"
      },
      "source": [
        "lcu_gradients(ansatz, H, ham_wires, ham_coeffs, params_init, wires)"
      ],
      "execution_count": 36,
      "outputs": [
        {
          "output_type": "execute_result",
          "data": {
            "text/plain": [
              "[(-0.35355339059327373+0j), (0.7071067811865471+7.850462293418875e-17j)]"
            ]
          },
          "metadata": {},
          "execution_count": 36
        }
      ]
    }
  ]
}