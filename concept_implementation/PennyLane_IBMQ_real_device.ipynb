{
  "nbformat": 4,
  "nbformat_minor": 0,
  "metadata": {
    "colab": {
      "name": "PennyLane_IBMQ_real_device.ipynb",
      "provenance": [],
      "collapsed_sections": [],
      "authorship_tag": "ABX9TyP7Ec+uBhZe6TTh2kcwcR/5",
      "include_colab_link": true
    },
    "kernelspec": {
      "name": "python3",
      "display_name": "Python 3"
    },
    "language_info": {
      "name": "python"
    }
  },
  "cells": [
    {
      "cell_type": "markdown",
      "metadata": {
        "id": "view-in-github",
        "colab_type": "text"
      },
      "source": [
        "<a href=\"https://colab.research.google.com/github/BankNatchapol/Comparison-of-Quantum-Gradient/blob/main/concept_implementation/PennyLane_IBMQ_real_device.ipynb\" target=\"_parent\"><img src=\"https://colab.research.google.com/assets/colab-badge.svg\" alt=\"Open In Colab\"/></a>"
      ]
    },
    {
      "cell_type": "code",
      "source": [
        "!pip install pennylane-qiskit"
      ],
      "metadata": {
        "id": "5AZuUyIV0aVf"
      },
      "execution_count": null,
      "outputs": []
    },
    {
      "cell_type": "code",
      "source": [
        "#@title Your ibmqx token\n",
        "\n",
        "ibmqx_token = \"\""
      ],
      "metadata": {
        "id": "u4NasYYiziSr"
      },
      "execution_count": 3,
      "outputs": []
    },
    {
      "cell_type": "code",
      "execution_count": 68,
      "metadata": {
        "id": "MsM1vYioyrkF"
      },
      "outputs": [],
      "source": [
        "import time\n",
        "\n",
        "import pennylane as qml\n",
        "from pennylane import numpy as np\n",
        "\n",
        "dev = qml.device('default.qubit', wires=2, shots=1024)\n",
        "sim_dev = qml.device('qiskit.ibmq', wires=2, backend='ibmq_qasm_simulator', ibmqx_token=ibmqx_token, shots=1024)\n",
        "real_dev = qml.device('qiskit.ibmq', wires=2, backend='ibmq_bogota', shots=1024)"
      ]
    },
    {
      "cell_type": "code",
      "source": [
        "@qml.qnode(dev)\n",
        "def pennylane_test():\n",
        "  qml.RX(np.pi, 0)\n",
        "  qml.RX(np.pi, 1)\n",
        "  return qml.expval(qml.Hamiltonian([1.0, 1.0], [qml.PauliZ(0), qml.PauliZ(1)]))\n",
        "\n",
        "print(qml.draw(pennylane_test)())"
      ],
      "metadata": {
        "colab": {
          "base_uri": "https://localhost:8080/"
        },
        "id": "7LscaIIO26DO",
        "outputId": "31e4df96-0805-40a0-8cc6-050c623ab748"
      },
      "execution_count": 69,
      "outputs": [
        {
          "output_type": "stream",
          "name": "stdout",
          "text": [
            "0: ──RX(3.14)─┤ ╭<𝓗(1.00,1.00)>\n",
            "1: ──RX(3.14)─┤ ╰<𝓗(1.00,1.00)>\n"
          ]
        }
      ]
    },
    {
      "cell_type": "code",
      "source": [
        "start = time.time()\n",
        "pennylane_result = pennylane_test()\n",
        "end = time.time()\n",
        "\n",
        "pennylane_time = end - start\n",
        "print(pennylane_time)"
      ],
      "metadata": {
        "colab": {
          "base_uri": "https://localhost:8080/"
        },
        "id": "rGe1ksUI2-wt",
        "outputId": "63a8a90d-e984-48f4-f484-74983641c161"
      },
      "execution_count": 70,
      "outputs": [
        {
          "output_type": "stream",
          "name": "stdout",
          "text": [
            "0.0074462890625\n"
          ]
        }
      ]
    },
    {
      "cell_type": "code",
      "source": [
        "@qml.qnode(sim_dev)\n",
        "def sim_test():\n",
        "  qml.RX(np.pi, 0)\n",
        "  qml.RX(np.pi, 1)\n",
        "  return qml.expval(qml.Hamiltonian([1.0, 1.0], [qml.PauliZ(0), qml.PauliZ(1)]))\n",
        "\n",
        "print(qml.draw(sim_test)())"
      ],
      "metadata": {
        "colab": {
          "base_uri": "https://localhost:8080/"
        },
        "id": "zUFeNDh50ZDu",
        "outputId": "8125af54-8111-448d-bfa9-f7afccb29786"
      },
      "execution_count": 71,
      "outputs": [
        {
          "output_type": "stream",
          "name": "stdout",
          "text": [
            "0: ──RX(3.14)─┤ ╭<𝓗(1.00,1.00)>\n",
            "1: ──RX(3.14)─┤ ╰<𝓗(1.00,1.00)>\n"
          ]
        }
      ]
    },
    {
      "cell_type": "code",
      "source": [
        "start = time.time()\n",
        "sim_result = sim_test()\n",
        "end = time.time()\n",
        "\n",
        "sim_time = end - start\n",
        "print(sim_time)"
      ],
      "metadata": {
        "colab": {
          "base_uri": "https://localhost:8080/"
        },
        "id": "xTsqNMmV1Rvm",
        "outputId": "b68dfd19-34e2-4857-80cd-f2f773f3ec0b"
      },
      "execution_count": 72,
      "outputs": [
        {
          "output_type": "stream",
          "name": "stdout",
          "text": [
            "7.040771007537842\n"
          ]
        }
      ]
    },
    {
      "cell_type": "code",
      "source": [
        "@qml.qnode(real_dev)\n",
        "def real_test():\n",
        "  qml.RX(np.pi, 0)\n",
        "  qml.RX(np.pi, 1)\n",
        "  return qml.expval(qml.Hamiltonian([1.0, 1.0], [qml.PauliZ(0), qml.PauliZ(1)]))\n",
        "\n",
        "print(qml.draw(real_test)())"
      ],
      "metadata": {
        "colab": {
          "base_uri": "https://localhost:8080/"
        },
        "id": "S4Nstg_i1UeI",
        "outputId": "0c20f7ab-5cba-470c-c7a5-ac9a2cc500ba"
      },
      "execution_count": 73,
      "outputs": [
        {
          "output_type": "stream",
          "name": "stdout",
          "text": [
            "0: ──RX(3.14)─┤ ╭<𝓗(1.00,1.00)>\n",
            "1: ──RX(3.14)─┤ ╰<𝓗(1.00,1.00)>\n"
          ]
        }
      ]
    },
    {
      "cell_type": "code",
      "source": [
        "start = time.time()\n",
        "real_result = real_test()\n",
        "end = time.time()\n",
        "\n",
        "real_time = end - start\n",
        "print(real_time)"
      ],
      "metadata": {
        "colab": {
          "base_uri": "https://localhost:8080/"
        },
        "id": "mJ6n-uOv1rQ5",
        "outputId": "295f3836-2ebc-4eac-8ce4-dd3379875bf6"
      },
      "execution_count": 74,
      "outputs": [
        {
          "output_type": "stream",
          "name": "stdout",
          "text": [
            "16.72480058670044\n"
          ]
        }
      ]
    },
    {
      "cell_type": "code",
      "source": [
        "print(\"PennyLane time: \", pennylane_time, \" Sec\")\n",
        "print(\"Sim time      : \", sim_time, \" Sec\")\n",
        "print(\"real time     : \", real_time, \" Sec\")"
      ],
      "metadata": {
        "colab": {
          "base_uri": "https://localhost:8080/"
        },
        "id": "70tVC9EE1sXO",
        "outputId": "51d90c24-9069-4c40-ddc7-acbe7523b71d"
      },
      "execution_count": 75,
      "outputs": [
        {
          "output_type": "stream",
          "name": "stdout",
          "text": [
            "PennyLane time:  0.0074462890625  Sec\n",
            "Sim time      :  7.040771007537842  Sec\n",
            "real time     :  16.72480058670044  Sec\n"
          ]
        }
      ]
    },
    {
      "cell_type": "code",
      "source": [
        "print(\"PennyLane result: \", pennylane_result)\n",
        "print(\"Sim result      : \", sim_result)\n",
        "print(\"real result     : \", real_result)"
      ],
      "metadata": {
        "colab": {
          "base_uri": "https://localhost:8080/"
        },
        "id": "xdLvljaf5cU-",
        "outputId": "14f6047d-edd3-44c0-98a5-193532911775"
      },
      "execution_count": 76,
      "outputs": [
        {
          "output_type": "stream",
          "name": "stdout",
          "text": [
            "PennyLane result:  -2.0\n",
            "Sim result      :  -2.0\n",
            "real result     :  -1.744140625\n"
          ]
        }
      ]
    },
    {
      "cell_type": "code",
      "source": [
        ""
      ],
      "metadata": {
        "id": "0yT7YyJm5srQ"
      },
      "execution_count": null,
      "outputs": []
    }
  ]
}